{
 "cells": [
  {
   "cell_type": "markdown",
   "id": "330e05e3",
   "metadata": {},
   "source": [
    "**Further train DeepCell Models with K's Data and Make Predictions**<br>\n",
    "Starting from model trained with tn nuclear data, further train the model with resized K's images that is cut into 25 512x512 patches, one image at a time.\n",
    "200 epochs, semanticdatagenerator, resized<br>\n",
    "Optimize data augmentation."
   ]
  },
  {
   "cell_type": "code",
   "execution_count": 1,
   "id": "a72e9c51",
   "metadata": {
    "execution": {
     "iopub.execute_input": "2022-11-13T08:53:18.591250Z",
     "iopub.status.busy": "2022-11-13T08:53:18.590594Z",
     "iopub.status.idle": "2022-11-13T08:53:18.593990Z",
     "shell.execute_reply": "2022-11-13T08:53:18.593424Z"
    }
   },
   "outputs": [],
   "source": [
    "starting_model_path = 'tn1.0_nuclear_20221102.h5' # the model trained with nucleus data from the Tissuenet V1.0 dataset\n",
    "epochs=200 # 20 sec per step "
   ]
  },
  {
   "cell_type": "code",
   "execution_count": 2,
   "id": "90f2183c",
   "metadata": {
    "execution": {
     "iopub.execute_input": "2022-11-13T08:53:18.602170Z",
     "iopub.status.busy": "2022-11-13T08:53:18.601360Z",
     "iopub.status.idle": "2022-11-13T08:53:25.322227Z",
     "shell.execute_reply": "2022-11-13T08:53:25.323282Z"
    }
   },
   "outputs": [
    {
     "name": "stdout",
     "output_type": "stream",
     "text": [
      "2.7.1\n",
      "0.11.1\n"
     ]
    }
   ],
   "source": [
    "import syotil\n",
    "\n",
    "import numpy as np\n",
    "from skimage import io\n",
    "from matplotlib import pyplot as plt\n",
    "%matplotlib inline\n",
    "from timeit import default_timer\n",
    "import os\n",
    "from skimage import img_as_ubyte\n",
    "\n",
    "import deepcell\n",
    "from deepcell import image_generators\n",
    "from deepcell.utils.train_utils import rate_scheduler, get_callbacks, count_gpus\n",
    "from deepcell_toolbox.utils import resize, tile_image, untile_image\n",
    "from deepcell_toolbox.deep_watershed import deep_watershed\n",
    "from deepcell.losses import weighted_categorical_crossentropy\n",
    "from deepcell.model_zoo.panopticnet import PanopticNet\n",
    "\n",
    "import tensorflow as tf\n",
    "from tensorflow.keras.optimizers import SGD, Adam\n",
    "from tensorflow.keras.losses import MSE\n",
    "\n",
    "print(tf.__version__)\n",
    "print(deepcell.__version__)"
   ]
  },
  {
   "cell_type": "code",
   "execution_count": 3,
   "id": "c32457c0",
   "metadata": {
    "execution": {
     "iopub.execute_input": "2022-11-13T08:53:25.343168Z",
     "iopub.status.busy": "2022-11-13T08:53:25.342309Z",
     "iopub.status.idle": "2022-11-13T08:53:31.171243Z",
     "shell.execute_reply": "2022-11-13T08:53:31.171602Z"
    }
   },
   "outputs": [
    {
     "name": "stdout",
     "output_type": "stream",
     "text": [
      "7\n"
     ]
    },
    {
     "name": "stderr",
     "output_type": "stream",
     "text": [
      "2022-11-13 00:53:28.991649: I tensorflow/core/common_runtime/gpu/gpu_device.cc:1525] Created device /job:localhost/replica:0/task:0/device:GPU:0 with 14657 MB memory:  -> device: 0, name: Tesla V100-PCIE-16GB, pci bus id: 0000:04:00.0, compute capability: 7.0\n"
     ]
    },
    {
     "name": "stdout",
     "output_type": "stream",
     "text": [
      "(7, 1040, 1159, 1)\n"
     ]
    },
    {
     "name": "stderr",
     "output_type": "stream",
     "text": [
      "2022-11-13 00:53:28.993063: I tensorflow/core/common_runtime/gpu/gpu_device.cc:1525] Created device /job:localhost/replica:0/task:0/device:GPU:1 with 14657 MB memory:  -> device: 1, name: Tesla V100-PCIE-16GB, pci bus id: 0000:06:00.0, compute capability: 7.0\n",
      "2022-11-13 00:53:28.994275: I tensorflow/core/common_runtime/gpu/gpu_device.cc:1525] Created device /job:localhost/replica:0/task:0/device:GPU:2 with 14657 MB memory:  -> device: 2, name: Tesla V100-PCIE-16GB, pci bus id: 0000:08:00.0, compute capability: 7.0\n"
     ]
    },
    {
     "name": "stdout",
     "output_type": "stream",
     "text": [
      "(7, 1040, 1159, 1)\n",
      "2.0\n",
      "(7, 2080, 2318, 1)\n",
      "(7, 2080, 2318, 1)\n",
      "(7, 2080, 2318, 1)\n",
      "(7, 2080, 2318, 1)\n",
      "[0, 400, 800, 1200, 1568]\n",
      "[512, 912, 1312, 1712, 2080]\n",
      "[0, 512, 1024, 1536, 1806]\n",
      "[512, 1024, 1536, 2048, 2318]\n",
      "(175, 512, 512, 1)\n",
      "(175, 512, 512, 1)\n"
     ]
    }
   ],
   "source": [
    "INPUT_PATH=\"images/training7/\"\n",
    "import glob\n",
    "FILENAMES = glob.glob(INPUT_PATH+\"*_img.png\")\n",
    "print(len(FILENAMES))\n",
    "\n",
    "imgs = [io.imread(CURR_IM_NAME)[:,:,0] for CURR_IM_NAME in FILENAMES]\n",
    "X_train = tf.stack(imgs)\n",
    "X_train = np.expand_dims(X_train, axis=-1)\n",
    "print(X_train.shape)\n",
    "\n",
    "masks = [io.imread(CURR_IM_NAME.replace(\"img\",\"masks\")) for CURR_IM_NAME in FILENAMES]\n",
    "y_train = tf.stack(masks)\n",
    "y_train = np.expand_dims(y_train, axis=-1)\n",
    "print(y_train.shape)\n",
    "\n",
    "# resize image\n",
    "mpp_select=1.3 # based on DeepCell_tn_nuclear.ipynb, the best value is 1.2, but 1.3 makes scale factor an integer\n",
    "shape = X_train.shape\n",
    "scale_factor = mpp_select / 0.65\n",
    "print(scale_factor)\n",
    "new_shape = (int(shape[1] * scale_factor),\n",
    "             int(shape[2] * scale_factor))\n",
    "\n",
    "X_train_resized = resize(X_train, new_shape, data_format='channels_last')\n",
    "y_train_resized = resize(y_train, new_shape, data_format='channels_last', labeled_image=True)\n",
    "print(X_train_resized.shape)\n",
    "print(y_train_resized.shape)\n",
    "\n",
    "# cut each resized image into 5x5 patches of size 512x512 \n",
    "print(X_train_resized.shape)\n",
    "print(y_train_resized.shape)\n",
    "\n",
    "x_starts=[0,400,400*2,400*3,X_train_resized.shape[1]-512]\n",
    "x_ends=[x+512 for x in x_starts]\n",
    "print(x_starts)\n",
    "print(x_ends)\n",
    "\n",
    "y_starts=[0,512,512*2,512*3,X_train_resized.shape[2]-512]\n",
    "y_ends=[x+512 for x in y_starts]\n",
    "print(y_starts)\n",
    "print(y_ends)\n",
    "\n",
    "sub_X=tf.concat([tf.concat([X_train_resized[:, x_starts[i]:x_ends[i], y_starts[j]:y_ends[j], :] for i in range(len(x_starts)) ], axis=0) for j in range(len(y_starts))], axis=0)\n",
    "sub_X = np.array(sub_X, dtype=np.uint8) # tf.stack changes the dtype \n",
    "print(sub_X.shape)\n",
    "sub_y=tf.concat([tf.concat([y_train_resized[:, x_starts[i]:x_ends[i], y_starts[j]:y_ends[j], :] for i in range(len(x_starts)) ], axis=0) for j in range(len(y_starts))], axis=0)\n",
    "sub_y = np.array(sub_y, dtype=np.uint16) # tf.stack changes the dtype \n",
    "print(sub_y.shape)\n",
    "\n",
    "# create dataloader\n",
    "seed=0\n",
    "min_objects = 5\n",
    "\n",
    "transforms = ['inner-distance', 'outer-distance', 'fgbg']\n",
    "transforms_kwargs = {'outer-distance': {'erosion_width': 0}}"
   ]
  },
  {
   "cell_type": "code",
   "execution_count": 4,
   "id": "1bac06f7",
   "metadata": {
    "execution": {
     "iopub.execute_input": "2022-11-13T08:53:31.188523Z",
     "iopub.status.busy": "2022-11-13T08:53:31.187837Z",
     "iopub.status.idle": "2022-11-13T15:39:12.876368Z",
     "shell.execute_reply": "2022-11-13T15:39:12.877349Z"
    }
   },
   "outputs": [
    {
     "name": "stdout",
     "output_type": "stream",
     "text": [
      "WARNING:tensorflow:Removing 6 of 175 images with fewer than 5 objects.\n"
     ]
    },
    {
     "name": "stderr",
     "output_type": "stream",
     "text": [
      "2022-11-13 00:53:31.840184: W tensorflow/python/util/util.cc:368] Sets are not currently considered sequences, but this may change in the future, so consider avoiding using them.\n",
      "/app/software/TensorFlow/2.7.1-foss-2021b-CUDA-11.4.1/lib/python3.9/site-packages/keras/optimizer_v2/adam.py:105: UserWarning: The `lr` argument is deprecated, use `learning_rate` instead.\n",
      "  super(Adam, self).__init__(name, **kwargs)\n"
     ]
    },
    {
     "name": "stdout",
     "output_type": "stream",
     "text": [
      "Training on 3 GPUs.\n"
     ]
    },
    {
     "name": "stderr",
     "output_type": "stream",
     "text": [
      "2022-11-13 00:53:38.936310: I tensorflow/core/common_runtime/gpu/gpu_device.cc:1525] Created device /device:GPU:0 with 14657 MB memory:  -> device: 0, name: Tesla V100-PCIE-16GB, pci bus id: 0000:04:00.0, compute capability: 7.0\n",
      "2022-11-13 00:53:38.937400: I tensorflow/core/common_runtime/gpu/gpu_device.cc:1525] Created device /device:GPU:1 with 14657 MB memory:  -> device: 1, name: Tesla V100-PCIE-16GB, pci bus id: 0000:06:00.0, compute capability: 7.0\n",
      "2022-11-13 00:53:38.938448: I tensorflow/core/common_runtime/gpu/gpu_device.cc:1525] Created device /device:GPU:2 with 14657 MB memory:  -> device: 2, name: Tesla V100-PCIE-16GB, pci bus id: 0000:08:00.0, compute capability: 7.0\n"
     ]
    },
    {
     "name": "stdout",
     "output_type": "stream",
     "text": [
      "Epoch 1/200\n"
     ]
    },
    {
     "name": "stderr",
     "output_type": "stream",
     "text": [
      "2022-11-13 00:53:54.669830: I tensorflow/stream_executor/cuda/cuda_dnn.cc:366] Loaded cuDNN version 8202\n"
     ]
    },
    {
     "name": "stdout",
     "output_type": "stream",
     "text": [
      "42/42 [==============================] - ETA: 0s - loss: 0.0171 - semantic_0_loss: 0.0043 - semantic_1_loss: 0.0106 - semantic_2_loss: 0.0022WARNING:tensorflow:Can save best model only with val_loss available, skipping.\n",
      "42/42 [==============================] - 48s 642ms/step - loss: 0.0171 - semantic_0_loss: 0.0043 - semantic_1_loss: 0.0106 - semantic_2_loss: 0.0022 - lr: 1.0000e-04\n",
      "Epoch 2/200\n",
      "42/42 [==============================] - ETA: 0s - loss: 0.0143 - semantic_0_loss: 0.0036 - semantic_1_loss: 0.0091 - semantic_2_loss: 0.0016WARNING:tensorflow:Can save best model only with val_loss available, skipping.\n",
      "42/42 [==============================] - 23s 551ms/step - loss: 0.0143 - semantic_0_loss: 0.0036 - semantic_1_loss: 0.0091 - semantic_2_loss: 0.0016 - lr: 9.9000e-05\n",
      "Epoch 3/200\n",
      "42/42 [==============================] - ETA: 0s - loss: 0.0143 - semantic_0_loss: 0.0036 - semantic_1_loss: 0.0091 - semantic_2_loss: 0.0016WARNING:tensorflow:Can save best model only with val_loss available, skipping.\n",
      "42/42 [==============================] - 24s 566ms/step - loss: 0.0143 - semantic_0_loss: 0.0036 - semantic_1_loss: 0.0091 - semantic_2_loss: 0.0016 - lr: 9.8010e-05\n",
      "Epoch 4/200\n",
      "42/42 [==============================] - ETA: 0s - loss: 0.0136 - semantic_0_loss: 0.0035 - semantic_1_loss: 0.0086 - semantic_2_loss: 0.0015WARNING:tensorflow:Can save best model only with val_loss available, skipping.\n",
      "42/42 [==============================] - 23s 549ms/step - loss: 0.0136 - semantic_0_loss: 0.0035 - semantic_1_loss: 0.0086 - semantic_2_loss: 0.0015 - lr: 9.7030e-05\n",
      "Epoch 5/200\n",
      "42/42 [==============================] - ETA: 0s - loss: 0.0137 - semantic_0_loss: 0.0035 - semantic_1_loss: 0.0087 - semantic_2_loss: 0.0015WARNING:tensorflow:Can save best model only with val_loss available, skipping.\n",
      "42/42 [==============================] - 24s 558ms/step - loss: 0.0137 - semantic_0_loss: 0.0035 - semantic_1_loss: 0.0087 - semantic_2_loss: 0.0015 - lr: 9.6060e-05\n",
      "Epoch 6/200\n",
      "42/42 [==============================] - ETA: 0s - loss: 0.0134 - semantic_0_loss: 0.0034 - semantic_1_loss: 0.0084 - semantic_2_loss: 0.0015WARNING:tensorflow:Can save best model only with val_loss available, skipping.\n",
      "42/42 [==============================] - 24s 556ms/step - loss: 0.0134 - semantic_0_loss: 0.0034 - semantic_1_loss: 0.0084 - semantic_2_loss: 0.0015 - lr: 9.5099e-05\n",
      "Epoch 7/200\n",
      "42/42 [==============================] - ETA: 0s - loss: 0.0138 - semantic_0_loss: 0.0035 - semantic_1_loss: 0.0088 - semantic_2_loss: 0.0015WARNING:tensorflow:Can save best model only with val_loss available, skipping.\n",
      "42/42 [==============================] - 24s 556ms/step - loss: 0.0138 - semantic_0_loss: 0.0035 - semantic_1_loss: 0.0088 - semantic_2_loss: 0.0015 - lr: 9.4148e-05\n",
      "Epoch 8/200\n",
      "42/42 [==============================] - ETA: 0s - loss: 0.0135 - semantic_0_loss: 0.0035 - semantic_1_loss: 0.0085 - semantic_2_loss: 0.0015WARNING:tensorflow:Can save best model only with val_loss available, skipping.\n",
      "42/42 [==============================] - 23s 550ms/step - loss: 0.0135 - semantic_0_loss: 0.0035 - semantic_1_loss: 0.0085 - semantic_2_loss: 0.0015 - lr: 9.3207e-05\n",
      "Epoch 9/200\n",
      "42/42 [==============================] - ETA: 0s - loss: 0.0133 - semantic_0_loss: 0.0034 - semantic_1_loss: 0.0084 - semantic_2_loss: 0.0014WARNING:tensorflow:Can save best model only with val_loss available, skipping.\n",
      "42/42 [==============================] - 24s 568ms/step - loss: 0.0133 - semantic_0_loss: 0.0034 - semantic_1_loss: 0.0084 - semantic_2_loss: 0.0014 - lr: 9.2274e-05\n",
      "Epoch 10/200\n",
      "42/42 [==============================] - ETA: 0s - loss: 0.0132 - semantic_0_loss: 0.0034 - semantic_1_loss: 0.0084 - semantic_2_loss: 0.0014WARNING:tensorflow:Can save best model only with val_loss available, skipping.\n",
      "42/42 [==============================] - 24s 562ms/step - loss: 0.0132 - semantic_0_loss: 0.0034 - semantic_1_loss: 0.0084 - semantic_2_loss: 0.0014 - lr: 9.1352e-05\n",
      "Epoch 11/200\n",
      "42/42 [==============================] - ETA: 0s - loss: 0.0133 - semantic_0_loss: 0.0034 - semantic_1_loss: 0.0084 - semantic_2_loss: 0.0014WARNING:tensorflow:Can save best model only with val_loss available, skipping.\n",
      "42/42 [==============================] - 24s 566ms/step - loss: 0.0133 - semantic_0_loss: 0.0034 - semantic_1_loss: 0.0084 - semantic_2_loss: 0.0014 - lr: 9.0438e-05\n",
      "Epoch 12/200\n",
      "42/42 [==============================] - ETA: 0s - loss: 0.0132 - semantic_0_loss: 0.0034 - semantic_1_loss: 0.0084 - semantic_2_loss: 0.0014WARNING:tensorflow:Can save best model only with val_loss available, skipping.\n",
      "42/42 [==============================] - 23s 552ms/step - loss: 0.0132 - semantic_0_loss: 0.0034 - semantic_1_loss: 0.0084 - semantic_2_loss: 0.0014 - lr: 8.9534e-05\n",
      "Epoch 13/200\n",
      "42/42 [==============================] - ETA: 0s - loss: 0.0130 - semantic_0_loss: 0.0033 - semantic_1_loss: 0.0082 - semantic_2_loss: 0.0014WARNING:tensorflow:Can save best model only with val_loss available, skipping.\n",
      "42/42 [==============================] - 24s 564ms/step - loss: 0.0130 - semantic_0_loss: 0.0033 - semantic_1_loss: 0.0082 - semantic_2_loss: 0.0014 - lr: 8.8638e-05\n",
      "Epoch 14/200\n",
      "42/42 [==============================] - ETA: 0s - loss: 0.0131 - semantic_0_loss: 0.0034 - semantic_1_loss: 0.0083 - semantic_2_loss: 0.0014WARNING:tensorflow:Can save best model only with val_loss available, skipping.\n",
      "42/42 [==============================] - 24s 564ms/step - loss: 0.0131 - semantic_0_loss: 0.0034 - semantic_1_loss: 0.0083 - semantic_2_loss: 0.0014 - lr: 8.7752e-05\n",
      "Epoch 15/200\n",
      "42/42 [==============================] - ETA: 0s - loss: 0.0132 - semantic_0_loss: 0.0034 - semantic_1_loss: 0.0083 - semantic_2_loss: 0.0014WARNING:tensorflow:Can save best model only with val_loss available, skipping.\n",
      "42/42 [==============================] - 24s 556ms/step - loss: 0.0132 - semantic_0_loss: 0.0034 - semantic_1_loss: 0.0083 - semantic_2_loss: 0.0014 - lr: 8.6875e-05\n",
      "Epoch 16/200\n",
      "42/42 [==============================] - ETA: 0s - loss: 0.0128 - semantic_0_loss: 0.0033 - semantic_1_loss: 0.0081 - semantic_2_loss: 0.0014WARNING:tensorflow:Can save best model only with val_loss available, skipping.\n",
      "42/42 [==============================] - 24s 564ms/step - loss: 0.0128 - semantic_0_loss: 0.0033 - semantic_1_loss: 0.0081 - semantic_2_loss: 0.0014 - lr: 8.6006e-05\n",
      "Epoch 17/200\n",
      "42/42 [==============================] - ETA: 0s - loss: 0.0129 - semantic_0_loss: 0.0034 - semantic_1_loss: 0.0082 - semantic_2_loss: 0.0014WARNING:tensorflow:Can save best model only with val_loss available, skipping.\n",
      "42/42 [==============================] - 24s 555ms/step - loss: 0.0129 - semantic_0_loss: 0.0034 - semantic_1_loss: 0.0082 - semantic_2_loss: 0.0014 - lr: 8.5146e-05\n",
      "Epoch 18/200\n",
      "42/42 [==============================] - ETA: 0s - loss: 0.0125 - semantic_0_loss: 0.0032 - semantic_1_loss: 0.0079 - semantic_2_loss: 0.0014WARNING:tensorflow:Can save best model only with val_loss available, skipping.\n",
      "42/42 [==============================] - 24s 561ms/step - loss: 0.0125 - semantic_0_loss: 0.0032 - semantic_1_loss: 0.0079 - semantic_2_loss: 0.0014 - lr: 8.4294e-05\n",
      "Epoch 19/200\n",
      "42/42 [==============================] - ETA: 0s - loss: 0.0132 - semantic_0_loss: 0.0034 - semantic_1_loss: 0.0083 - semantic_2_loss: 0.0014WARNING:tensorflow:Can save best model only with val_loss available, skipping.\n",
      "42/42 [==============================] - 24s 566ms/step - loss: 0.0132 - semantic_0_loss: 0.0034 - semantic_1_loss: 0.0083 - semantic_2_loss: 0.0014 - lr: 8.3451e-05\n",
      "Epoch 20/200\n",
      "42/42 [==============================] - ETA: 0s - loss: 0.0128 - semantic_0_loss: 0.0033 - semantic_1_loss: 0.0081 - semantic_2_loss: 0.0014WARNING:tensorflow:Can save best model only with val_loss available, skipping.\n",
      "42/42 [==============================] - 24s 562ms/step - loss: 0.0128 - semantic_0_loss: 0.0033 - semantic_1_loss: 0.0081 - semantic_2_loss: 0.0014 - lr: 8.2617e-05\n",
      "Epoch 21/200\n",
      "42/42 [==============================] - ETA: 0s - loss: 0.0127 - semantic_0_loss: 0.0033 - semantic_1_loss: 0.0080 - semantic_2_loss: 0.0014WARNING:tensorflow:Can save best model only with val_loss available, skipping.\n",
      "42/42 [==============================] - 24s 561ms/step - loss: 0.0127 - semantic_0_loss: 0.0033 - semantic_1_loss: 0.0080 - semantic_2_loss: 0.0014 - lr: 8.1791e-05\n",
      "Epoch 22/200\n",
      "42/42 [==============================] - ETA: 0s - loss: 0.0130 - semantic_0_loss: 0.0034 - semantic_1_loss: 0.0082 - semantic_2_loss: 0.0014WARNING:tensorflow:Can save best model only with val_loss available, skipping.\n",
      "42/42 [==============================] - 24s 561ms/step - loss: 0.0130 - semantic_0_loss: 0.0034 - semantic_1_loss: 0.0082 - semantic_2_loss: 0.0014 - lr: 8.0973e-05\n",
      "Epoch 23/200\n",
      "42/42 [==============================] - ETA: 0s - loss: 0.0129 - semantic_0_loss: 0.0034 - semantic_1_loss: 0.0081 - semantic_2_loss: 0.0014WARNING:tensorflow:Can save best model only with val_loss available, skipping.\n",
      "42/42 [==============================] - 24s 555ms/step - loss: 0.0129 - semantic_0_loss: 0.0034 - semantic_1_loss: 0.0081 - semantic_2_loss: 0.0014 - lr: 8.0163e-05\n",
      "Epoch 24/200\n",
      "42/42 [==============================] - ETA: 0s - loss: 0.0129 - semantic_0_loss: 0.0033 - semantic_1_loss: 0.0082 - semantic_2_loss: 0.0014WARNING:tensorflow:Can save best model only with val_loss available, skipping.\n",
      "42/42 [==============================] - 24s 565ms/step - loss: 0.0129 - semantic_0_loss: 0.0033 - semantic_1_loss: 0.0082 - semantic_2_loss: 0.0014 - lr: 7.9361e-05\n",
      "Epoch 25/200\n",
      "42/42 [==============================] - ETA: 0s - loss: 0.0126 - semantic_0_loss: 0.0033 - semantic_1_loss: 0.0080 - semantic_2_loss: 0.0014WARNING:tensorflow:Can save best model only with val_loss available, skipping.\n",
      "42/42 [==============================] - 24s 561ms/step - loss: 0.0126 - semantic_0_loss: 0.0033 - semantic_1_loss: 0.0080 - semantic_2_loss: 0.0014 - lr: 7.8568e-05\n",
      "Epoch 26/200\n",
      "42/42 [==============================] - ETA: 0s - loss: 0.0125 - semantic_0_loss: 0.0033 - semantic_1_loss: 0.0079 - semantic_2_loss: 0.0014WARNING:tensorflow:Can save best model only with val_loss available, skipping.\n",
      "42/42 [==============================] - 24s 560ms/step - loss: 0.0125 - semantic_0_loss: 0.0033 - semantic_1_loss: 0.0079 - semantic_2_loss: 0.0014 - lr: 7.7782e-05\n",
      "Epoch 27/200\n",
      "42/42 [==============================] - ETA: 0s - loss: 0.0126 - semantic_0_loss: 0.0033 - semantic_1_loss: 0.0080 - semantic_2_loss: 0.0014WARNING:tensorflow:Can save best model only with val_loss available, skipping.\n",
      "42/42 [==============================] - 24s 557ms/step - loss: 0.0126 - semantic_0_loss: 0.0033 - semantic_1_loss: 0.0080 - semantic_2_loss: 0.0014 - lr: 7.7004e-05\n",
      "Epoch 28/200\n",
      "42/42 [==============================] - ETA: 0s - loss: 0.0128 - semantic_0_loss: 0.0033 - semantic_1_loss: 0.0081 - semantic_2_loss: 0.0014WARNING:tensorflow:Can save best model only with val_loss available, skipping.\n",
      "42/42 [==============================] - 24s 576ms/step - loss: 0.0128 - semantic_0_loss: 0.0033 - semantic_1_loss: 0.0081 - semantic_2_loss: 0.0014 - lr: 7.6234e-05\n",
      "Epoch 29/200\n",
      "42/42 [==============================] - ETA: 0s - loss: 0.0125 - semantic_0_loss: 0.0032 - semantic_1_loss: 0.0078 - semantic_2_loss: 0.0014WARNING:tensorflow:Can save best model only with val_loss available, skipping.\n",
      "42/42 [==============================] - 24s 561ms/step - loss: 0.0125 - semantic_0_loss: 0.0032 - semantic_1_loss: 0.0078 - semantic_2_loss: 0.0014 - lr: 7.5472e-05\n",
      "Epoch 30/200\n",
      "42/42 [==============================] - ETA: 0s - loss: 0.0128 - semantic_0_loss: 0.0033 - semantic_1_loss: 0.0081 - semantic_2_loss: 0.0014WARNING:tensorflow:Can save best model only with val_loss available, skipping.\n",
      "42/42 [==============================] - 24s 560ms/step - loss: 0.0128 - semantic_0_loss: 0.0033 - semantic_1_loss: 0.0081 - semantic_2_loss: 0.0014 - lr: 7.4717e-05\n",
      "Epoch 31/200\n",
      "42/42 [==============================] - ETA: 0s - loss: 0.0123 - semantic_0_loss: 0.0032 - semantic_1_loss: 0.0078 - semantic_2_loss: 0.0013WARNING:tensorflow:Can save best model only with val_loss available, skipping.\n",
      "42/42 [==============================] - 24s 555ms/step - loss: 0.0123 - semantic_0_loss: 0.0032 - semantic_1_loss: 0.0078 - semantic_2_loss: 0.0013 - lr: 7.3970e-05\n",
      "Epoch 32/200\n",
      "42/42 [==============================] - ETA: 0s - loss: 0.0124 - semantic_0_loss: 0.0032 - semantic_1_loss: 0.0078 - semantic_2_loss: 0.0014WARNING:tensorflow:Can save best model only with val_loss available, skipping.\n",
      "42/42 [==============================] - 23s 552ms/step - loss: 0.0124 - semantic_0_loss: 0.0032 - semantic_1_loss: 0.0078 - semantic_2_loss: 0.0014 - lr: 7.3230e-05\n",
      "Epoch 33/200\n",
      "42/42 [==============================] - ETA: 0s - loss: 0.0123 - semantic_0_loss: 0.0032 - semantic_1_loss: 0.0077 - semantic_2_loss: 0.0013WARNING:tensorflow:Can save best model only with val_loss available, skipping.\n",
      "42/42 [==============================] - 24s 559ms/step - loss: 0.0123 - semantic_0_loss: 0.0032 - semantic_1_loss: 0.0077 - semantic_2_loss: 0.0013 - lr: 7.2498e-05\n",
      "Epoch 34/200\n",
      "42/42 [==============================] - ETA: 0s - loss: 0.0123 - semantic_0_loss: 0.0032 - semantic_1_loss: 0.0078 - semantic_2_loss: 0.0014WARNING:tensorflow:Can save best model only with val_loss available, skipping.\n",
      "42/42 [==============================] - 24s 556ms/step - loss: 0.0123 - semantic_0_loss: 0.0032 - semantic_1_loss: 0.0078 - semantic_2_loss: 0.0014 - lr: 7.1773e-05\n",
      "Epoch 35/200\n",
      "42/42 [==============================] - ETA: 0s - loss: 0.0123 - semantic_0_loss: 0.0032 - semantic_1_loss: 0.0078 - semantic_2_loss: 0.0013WARNING:tensorflow:Can save best model only with val_loss available, skipping.\n",
      "42/42 [==============================] - 23s 553ms/step - loss: 0.0123 - semantic_0_loss: 0.0032 - semantic_1_loss: 0.0078 - semantic_2_loss: 0.0013 - lr: 7.1055e-05\n",
      "Epoch 36/200\n",
      "42/42 [==============================] - ETA: 0s - loss: 0.0120 - semantic_0_loss: 0.0031 - semantic_1_loss: 0.0076 - semantic_2_loss: 0.0013WARNING:tensorflow:Can save best model only with val_loss available, skipping.\n",
      "42/42 [==============================] - 24s 561ms/step - loss: 0.0120 - semantic_0_loss: 0.0031 - semantic_1_loss: 0.0076 - semantic_2_loss: 0.0013 - lr: 7.0345e-05\n",
      "Epoch 37/200\n",
      "42/42 [==============================] - ETA: 0s - loss: 0.0121 - semantic_0_loss: 0.0032 - semantic_1_loss: 0.0076 - semantic_2_loss: 0.0013WARNING:tensorflow:Can save best model only with val_loss available, skipping.\n",
      "42/42 [==============================] - 23s 552ms/step - loss: 0.0121 - semantic_0_loss: 0.0032 - semantic_1_loss: 0.0076 - semantic_2_loss: 0.0013 - lr: 6.9641e-05\n",
      "Epoch 38/200\n",
      "42/42 [==============================] - ETA: 0s - loss: 0.0123 - semantic_0_loss: 0.0032 - semantic_1_loss: 0.0077 - semantic_2_loss: 0.0013WARNING:tensorflow:Can save best model only with val_loss available, skipping.\n",
      "42/42 [==============================] - 24s 558ms/step - loss: 0.0123 - semantic_0_loss: 0.0032 - semantic_1_loss: 0.0077 - semantic_2_loss: 0.0013 - lr: 6.8945e-05\n",
      "Epoch 39/200\n",
      "42/42 [==============================] - ETA: 0s - loss: 0.0121 - semantic_0_loss: 0.0032 - semantic_1_loss: 0.0076 - semantic_2_loss: 0.0013WARNING:tensorflow:Can save best model only with val_loss available, skipping.\n",
      "42/42 [==============================] - 23s 546ms/step - loss: 0.0121 - semantic_0_loss: 0.0032 - semantic_1_loss: 0.0076 - semantic_2_loss: 0.0013 - lr: 6.8255e-05\n",
      "Epoch 40/200\n",
      "42/42 [==============================] - ETA: 0s - loss: 0.0122 - semantic_0_loss: 0.0032 - semantic_1_loss: 0.0077 - semantic_2_loss: 0.0013WARNING:tensorflow:Can save best model only with val_loss available, skipping.\n",
      "42/42 [==============================] - 24s 565ms/step - loss: 0.0122 - semantic_0_loss: 0.0032 - semantic_1_loss: 0.0077 - semantic_2_loss: 0.0013 - lr: 6.7573e-05\n",
      "Epoch 41/200\n",
      "42/42 [==============================] - ETA: 0s - loss: 0.0123 - semantic_0_loss: 0.0032 - semantic_1_loss: 0.0078 - semantic_2_loss: 0.0013WARNING:tensorflow:Can save best model only with val_loss available, skipping.\n",
      "42/42 [==============================] - 23s 550ms/step - loss: 0.0123 - semantic_0_loss: 0.0032 - semantic_1_loss: 0.0078 - semantic_2_loss: 0.0013 - lr: 6.6897e-05\n",
      "Epoch 42/200\n",
      "42/42 [==============================] - ETA: 0s - loss: 0.0124 - semantic_0_loss: 0.0032 - semantic_1_loss: 0.0078 - semantic_2_loss: 0.0014WARNING:tensorflow:Can save best model only with val_loss available, skipping.\n",
      "42/42 [==============================] - 23s 552ms/step - loss: 0.0124 - semantic_0_loss: 0.0032 - semantic_1_loss: 0.0078 - semantic_2_loss: 0.0014 - lr: 6.6228e-05\n",
      "Epoch 43/200\n",
      "42/42 [==============================] - ETA: 0s - loss: 0.0121 - semantic_0_loss: 0.0032 - semantic_1_loss: 0.0076 - semantic_2_loss: 0.0013WARNING:tensorflow:Can save best model only with val_loss available, skipping.\n",
      "42/42 [==============================] - 24s 562ms/step - loss: 0.0121 - semantic_0_loss: 0.0032 - semantic_1_loss: 0.0076 - semantic_2_loss: 0.0013 - lr: 6.5566e-05\n",
      "Epoch 44/200\n",
      "42/42 [==============================] - ETA: 0s - loss: 0.0121 - semantic_0_loss: 0.0032 - semantic_1_loss: 0.0076 - semantic_2_loss: 0.0013WARNING:tensorflow:Can save best model only with val_loss available, skipping.\n",
      "42/42 [==============================] - 23s 552ms/step - loss: 0.0121 - semantic_0_loss: 0.0032 - semantic_1_loss: 0.0076 - semantic_2_loss: 0.0013 - lr: 6.4910e-05\n",
      "Epoch 45/200\n",
      "42/42 [==============================] - ETA: 0s - loss: 0.0121 - semantic_0_loss: 0.0032 - semantic_1_loss: 0.0076 - semantic_2_loss: 0.0013WARNING:tensorflow:Can save best model only with val_loss available, skipping.\n",
      "42/42 [==============================] - 24s 559ms/step - loss: 0.0121 - semantic_0_loss: 0.0032 - semantic_1_loss: 0.0076 - semantic_2_loss: 0.0013 - lr: 6.4261e-05\n",
      "Epoch 46/200\n",
      "42/42 [==============================] - ETA: 0s - loss: 0.0119 - semantic_0_loss: 0.0031 - semantic_1_loss: 0.0074 - semantic_2_loss: 0.0013WARNING:tensorflow:Can save best model only with val_loss available, skipping.\n",
      "42/42 [==============================] - 24s 557ms/step - loss: 0.0119 - semantic_0_loss: 0.0031 - semantic_1_loss: 0.0074 - semantic_2_loss: 0.0013 - lr: 6.3619e-05\n",
      "Epoch 47/200\n",
      "42/42 [==============================] - ETA: 0s - loss: 0.0121 - semantic_0_loss: 0.0032 - semantic_1_loss: 0.0076 - semantic_2_loss: 0.0013WARNING:tensorflow:Can save best model only with val_loss available, skipping.\n",
      "42/42 [==============================] - 24s 558ms/step - loss: 0.0121 - semantic_0_loss: 0.0032 - semantic_1_loss: 0.0076 - semantic_2_loss: 0.0013 - lr: 6.2982e-05\n",
      "Epoch 48/200\n",
      "42/42 [==============================] - ETA: 0s - loss: 0.0121 - semantic_0_loss: 0.0032 - semantic_1_loss: 0.0076 - semantic_2_loss: 0.0013WARNING:tensorflow:Can save best model only with val_loss available, skipping.\n",
      "42/42 [==============================] - 24s 560ms/step - loss: 0.0121 - semantic_0_loss: 0.0032 - semantic_1_loss: 0.0076 - semantic_2_loss: 0.0013 - lr: 6.2353e-05\n",
      "Epoch 49/200\n",
      "42/42 [==============================] - ETA: 0s - loss: 0.0120 - semantic_0_loss: 0.0032 - semantic_1_loss: 0.0075 - semantic_2_loss: 0.0013WARNING:tensorflow:Can save best model only with val_loss available, skipping.\n",
      "42/42 [==============================] - 24s 556ms/step - loss: 0.0120 - semantic_0_loss: 0.0032 - semantic_1_loss: 0.0075 - semantic_2_loss: 0.0013 - lr: 6.1729e-05\n",
      "Epoch 50/200\n",
      "42/42 [==============================] - ETA: 0s - loss: 0.0119 - semantic_0_loss: 0.0031 - semantic_1_loss: 0.0074 - semantic_2_loss: 0.0013WARNING:tensorflow:Can save best model only with val_loss available, skipping.\n",
      "42/42 [==============================] - 23s 552ms/step - loss: 0.0119 - semantic_0_loss: 0.0031 - semantic_1_loss: 0.0074 - semantic_2_loss: 0.0013 - lr: 6.1112e-05\n",
      "Epoch 51/200\n",
      "42/42 [==============================] - ETA: 0s - loss: 0.0119 - semantic_0_loss: 0.0031 - semantic_1_loss: 0.0075 - semantic_2_loss: 0.0013WARNING:tensorflow:Can save best model only with val_loss available, skipping.\n",
      "42/42 [==============================] - 23s 553ms/step - loss: 0.0119 - semantic_0_loss: 0.0031 - semantic_1_loss: 0.0075 - semantic_2_loss: 0.0013 - lr: 6.0501e-05\n",
      "Epoch 52/200\n",
      "42/42 [==============================] - ETA: 0s - loss: 0.0118 - semantic_0_loss: 0.0031 - semantic_1_loss: 0.0074 - semantic_2_loss: 0.0013WARNING:tensorflow:Can save best model only with val_loss available, skipping.\n",
      "42/42 [==============================] - 23s 555ms/step - loss: 0.0118 - semantic_0_loss: 0.0031 - semantic_1_loss: 0.0074 - semantic_2_loss: 0.0013 - lr: 5.9896e-05\n",
      "Epoch 53/200\n",
      "42/42 [==============================] - ETA: 0s - loss: 0.0120 - semantic_0_loss: 0.0032 - semantic_1_loss: 0.0075 - semantic_2_loss: 0.0013WARNING:tensorflow:Can save best model only with val_loss available, skipping.\n",
      "42/42 [==============================] - 24s 557ms/step - loss: 0.0120 - semantic_0_loss: 0.0032 - semantic_1_loss: 0.0075 - semantic_2_loss: 0.0013 - lr: 5.9297e-05\n",
      "Epoch 54/200\n",
      "42/42 [==============================] - ETA: 0s - loss: 0.0120 - semantic_0_loss: 0.0032 - semantic_1_loss: 0.0075 - semantic_2_loss: 0.0013WARNING:tensorflow:Can save best model only with val_loss available, skipping.\n",
      "42/42 [==============================] - 23s 552ms/step - loss: 0.0120 - semantic_0_loss: 0.0032 - semantic_1_loss: 0.0075 - semantic_2_loss: 0.0013 - lr: 5.8704e-05\n",
      "Epoch 55/200\n",
      "42/42 [==============================] - ETA: 0s - loss: 0.0117 - semantic_0_loss: 0.0031 - semantic_1_loss: 0.0073 - semantic_2_loss: 0.0013WARNING:tensorflow:Can save best model only with val_loss available, skipping.\n",
      "42/42 [==============================] - 24s 553ms/step - loss: 0.0117 - semantic_0_loss: 0.0031 - semantic_1_loss: 0.0073 - semantic_2_loss: 0.0013 - lr: 5.8117e-05\n",
      "Epoch 56/200\n",
      "42/42 [==============================] - ETA: 0s - loss: 0.0116 - semantic_0_loss: 0.0031 - semantic_1_loss: 0.0073 - semantic_2_loss: 0.0013WARNING:tensorflow:Can save best model only with val_loss available, skipping.\n",
      "42/42 [==============================] - 24s 557ms/step - loss: 0.0116 - semantic_0_loss: 0.0031 - semantic_1_loss: 0.0073 - semantic_2_loss: 0.0013 - lr: 5.7535e-05\n",
      "Epoch 57/200\n",
      "42/42 [==============================] - ETA: 0s - loss: 0.0120 - semantic_0_loss: 0.0032 - semantic_1_loss: 0.0075 - semantic_2_loss: 0.0013WARNING:tensorflow:Can save best model only with val_loss available, skipping.\n",
      "42/42 [==============================] - 24s 558ms/step - loss: 0.0120 - semantic_0_loss: 0.0032 - semantic_1_loss: 0.0075 - semantic_2_loss: 0.0013 - lr: 5.6960e-05\n",
      "Epoch 58/200\n",
      "42/42 [==============================] - ETA: 0s - loss: 0.0118 - semantic_0_loss: 0.0031 - semantic_1_loss: 0.0074 - semantic_2_loss: 0.0013WARNING:tensorflow:Can save best model only with val_loss available, skipping.\n",
      "42/42 [==============================] - 23s 553ms/step - loss: 0.0118 - semantic_0_loss: 0.0031 - semantic_1_loss: 0.0074 - semantic_2_loss: 0.0013 - lr: 5.6391e-05\n",
      "Epoch 59/200\n",
      "42/42 [==============================] - ETA: 0s - loss: 0.0118 - semantic_0_loss: 0.0031 - semantic_1_loss: 0.0074 - semantic_2_loss: 0.0013WARNING:tensorflow:Can save best model only with val_loss available, skipping.\n",
      "42/42 [==============================] - 24s 556ms/step - loss: 0.0118 - semantic_0_loss: 0.0031 - semantic_1_loss: 0.0074 - semantic_2_loss: 0.0013 - lr: 5.5827e-05\n",
      "Epoch 60/200\n",
      "42/42 [==============================] - ETA: 0s - loss: 0.0116 - semantic_0_loss: 0.0030 - semantic_1_loss: 0.0072 - semantic_2_loss: 0.0013WARNING:tensorflow:Can save best model only with val_loss available, skipping.\n",
      "42/42 [==============================] - 24s 561ms/step - loss: 0.0116 - semantic_0_loss: 0.0030 - semantic_1_loss: 0.0072 - semantic_2_loss: 0.0013 - lr: 5.5268e-05\n",
      "Epoch 61/200\n",
      "42/42 [==============================] - ETA: 0s - loss: 0.0117 - semantic_0_loss: 0.0031 - semantic_1_loss: 0.0073 - semantic_2_loss: 0.0013WARNING:tensorflow:Can save best model only with val_loss available, skipping.\n",
      "42/42 [==============================] - 24s 556ms/step - loss: 0.0117 - semantic_0_loss: 0.0031 - semantic_1_loss: 0.0073 - semantic_2_loss: 0.0013 - lr: 5.4716e-05\n",
      "Epoch 62/200\n",
      "42/42 [==============================] - ETA: 0s - loss: 0.0116 - semantic_0_loss: 0.0031 - semantic_1_loss: 0.0072 - semantic_2_loss: 0.0013WARNING:tensorflow:Can save best model only with val_loss available, skipping.\n",
      "42/42 [==============================] - 24s 552ms/step - loss: 0.0116 - semantic_0_loss: 0.0031 - semantic_1_loss: 0.0072 - semantic_2_loss: 0.0013 - lr: 5.4169e-05\n",
      "Epoch 63/200\n",
      "42/42 [==============================] - ETA: 0s - loss: 0.0115 - semantic_0_loss: 0.0030 - semantic_1_loss: 0.0072 - semantic_2_loss: 0.0013WARNING:tensorflow:Can save best model only with val_loss available, skipping.\n",
      "42/42 [==============================] - 23s 552ms/step - loss: 0.0115 - semantic_0_loss: 0.0030 - semantic_1_loss: 0.0072 - semantic_2_loss: 0.0013 - lr: 5.3627e-05\n",
      "Epoch 64/200\n",
      "42/42 [==============================] - ETA: 0s - loss: 0.0116 - semantic_0_loss: 0.0031 - semantic_1_loss: 0.0072 - semantic_2_loss: 0.0013WARNING:tensorflow:Can save best model only with val_loss available, skipping.\n",
      "42/42 [==============================] - 24s 564ms/step - loss: 0.0116 - semantic_0_loss: 0.0031 - semantic_1_loss: 0.0072 - semantic_2_loss: 0.0013 - lr: 5.3091e-05\n",
      "Epoch 65/200\n",
      "42/42 [==============================] - ETA: 0s - loss: 0.0117 - semantic_0_loss: 0.0031 - semantic_1_loss: 0.0073 - semantic_2_loss: 0.0013WARNING:tensorflow:Can save best model only with val_loss available, skipping.\n",
      "42/42 [==============================] - 24s 554ms/step - loss: 0.0117 - semantic_0_loss: 0.0031 - semantic_1_loss: 0.0073 - semantic_2_loss: 0.0013 - lr: 5.2560e-05\n",
      "Epoch 66/200\n",
      "42/42 [==============================] - ETA: 0s - loss: 0.0115 - semantic_0_loss: 0.0031 - semantic_1_loss: 0.0072 - semantic_2_loss: 0.0013WARNING:tensorflow:Can save best model only with val_loss available, skipping.\n",
      "42/42 [==============================] - 24s 563ms/step - loss: 0.0115 - semantic_0_loss: 0.0031 - semantic_1_loss: 0.0072 - semantic_2_loss: 0.0013 - lr: 5.2034e-05\n",
      "Epoch 67/200\n",
      "42/42 [==============================] - ETA: 0s - loss: 0.0115 - semantic_0_loss: 0.0031 - semantic_1_loss: 0.0072 - semantic_2_loss: 0.0013WARNING:tensorflow:Can save best model only with val_loss available, skipping.\n",
      "42/42 [==============================] - 24s 566ms/step - loss: 0.0115 - semantic_0_loss: 0.0031 - semantic_1_loss: 0.0072 - semantic_2_loss: 0.0013 - lr: 5.1514e-05\n",
      "Epoch 68/200\n",
      "42/42 [==============================] - ETA: 0s - loss: 0.0116 - semantic_0_loss: 0.0031 - semantic_1_loss: 0.0072 - semantic_2_loss: 0.0013WARNING:tensorflow:Can save best model only with val_loss available, skipping.\n",
      "42/42 [==============================] - 24s 557ms/step - loss: 0.0116 - semantic_0_loss: 0.0031 - semantic_1_loss: 0.0072 - semantic_2_loss: 0.0013 - lr: 5.0999e-05\n",
      "Epoch 69/200\n",
      "42/42 [==============================] - ETA: 0s - loss: 0.0114 - semantic_0_loss: 0.0030 - semantic_1_loss: 0.0071 - semantic_2_loss: 0.0013WARNING:tensorflow:Can save best model only with val_loss available, skipping.\n",
      "42/42 [==============================] - 24s 555ms/step - loss: 0.0114 - semantic_0_loss: 0.0030 - semantic_1_loss: 0.0071 - semantic_2_loss: 0.0013 - lr: 5.0489e-05\n",
      "Epoch 70/200\n",
      "42/42 [==============================] - ETA: 0s - loss: 0.0117 - semantic_0_loss: 0.0031 - semantic_1_loss: 0.0073 - semantic_2_loss: 0.0013WARNING:tensorflow:Can save best model only with val_loss available, skipping.\n",
      "42/42 [==============================] - 24s 560ms/step - loss: 0.0117 - semantic_0_loss: 0.0031 - semantic_1_loss: 0.0073 - semantic_2_loss: 0.0013 - lr: 4.9984e-05\n",
      "Epoch 71/200\n",
      "42/42 [==============================] - ETA: 0s - loss: 0.0112 - semantic_0_loss: 0.0030 - semantic_1_loss: 0.0070 - semantic_2_loss: 0.0012WARNING:tensorflow:Can save best model only with val_loss available, skipping.\n",
      "42/42 [==============================] - 24s 555ms/step - loss: 0.0112 - semantic_0_loss: 0.0030 - semantic_1_loss: 0.0070 - semantic_2_loss: 0.0012 - lr: 4.9484e-05\n",
      "Epoch 72/200\n",
      "42/42 [==============================] - ETA: 0s - loss: 0.0116 - semantic_0_loss: 0.0031 - semantic_1_loss: 0.0073 - semantic_2_loss: 0.0013WARNING:tensorflow:Can save best model only with val_loss available, skipping.\n",
      "42/42 [==============================] - 24s 576ms/step - loss: 0.0116 - semantic_0_loss: 0.0031 - semantic_1_loss: 0.0073 - semantic_2_loss: 0.0013 - lr: 4.8989e-05\n",
      "Epoch 73/200\n",
      "42/42 [==============================] - ETA: 0s - loss: 0.0115 - semantic_0_loss: 0.0031 - semantic_1_loss: 0.0072 - semantic_2_loss: 0.0013WARNING:tensorflow:Can save best model only with val_loss available, skipping.\n",
      "42/42 [==============================] - 24s 561ms/step - loss: 0.0115 - semantic_0_loss: 0.0031 - semantic_1_loss: 0.0072 - semantic_2_loss: 0.0013 - lr: 4.8499e-05\n",
      "Epoch 74/200\n",
      "42/42 [==============================] - ETA: 0s - loss: 0.0115 - semantic_0_loss: 0.0031 - semantic_1_loss: 0.0071 - semantic_2_loss: 0.0013WARNING:tensorflow:Can save best model only with val_loss available, skipping.\n",
      "42/42 [==============================] - 24s 560ms/step - loss: 0.0115 - semantic_0_loss: 0.0031 - semantic_1_loss: 0.0071 - semantic_2_loss: 0.0013 - lr: 4.8014e-05\n",
      "Epoch 75/200\n",
      "42/42 [==============================] - ETA: 0s - loss: 0.0113 - semantic_0_loss: 0.0030 - semantic_1_loss: 0.0070 - semantic_2_loss: 0.0013WARNING:tensorflow:Can save best model only with val_loss available, skipping.\n",
      "42/42 [==============================] - 24s 556ms/step - loss: 0.0113 - semantic_0_loss: 0.0030 - semantic_1_loss: 0.0070 - semantic_2_loss: 0.0013 - lr: 4.7534e-05\n",
      "Epoch 76/200\n",
      "42/42 [==============================] - ETA: 0s - loss: 0.0114 - semantic_0_loss: 0.0031 - semantic_1_loss: 0.0071 - semantic_2_loss: 0.0013WARNING:tensorflow:Can save best model only with val_loss available, skipping.\n",
      "42/42 [==============================] - 24s 558ms/step - loss: 0.0114 - semantic_0_loss: 0.0031 - semantic_1_loss: 0.0071 - semantic_2_loss: 0.0013 - lr: 4.7059e-05\n",
      "Epoch 77/200\n",
      "42/42 [==============================] - ETA: 0s - loss: 0.0114 - semantic_0_loss: 0.0030 - semantic_1_loss: 0.0071 - semantic_2_loss: 0.0013WARNING:tensorflow:Can save best model only with val_loss available, skipping.\n",
      "42/42 [==============================] - 23s 549ms/step - loss: 0.0114 - semantic_0_loss: 0.0030 - semantic_1_loss: 0.0071 - semantic_2_loss: 0.0013 - lr: 4.6588e-05\n",
      "Epoch 78/200\n",
      "42/42 [==============================] - ETA: 0s - loss: 0.0114 - semantic_0_loss: 0.0030 - semantic_1_loss: 0.0071 - semantic_2_loss: 0.0013WARNING:tensorflow:Can save best model only with val_loss available, skipping.\n",
      "42/42 [==============================] - 24s 563ms/step - loss: 0.0114 - semantic_0_loss: 0.0030 - semantic_1_loss: 0.0071 - semantic_2_loss: 0.0013 - lr: 4.6122e-05\n",
      "Epoch 79/200\n",
      "42/42 [==============================] - ETA: 0s - loss: 0.0113 - semantic_0_loss: 0.0030 - semantic_1_loss: 0.0070 - semantic_2_loss: 0.0013WARNING:tensorflow:Can save best model only with val_loss available, skipping.\n",
      "42/42 [==============================] - 24s 556ms/step - loss: 0.0113 - semantic_0_loss: 0.0030 - semantic_1_loss: 0.0070 - semantic_2_loss: 0.0013 - lr: 4.5661e-05\n",
      "Epoch 80/200\n",
      "42/42 [==============================] - ETA: 0s - loss: 0.0114 - semantic_0_loss: 0.0031 - semantic_1_loss: 0.0071 - semantic_2_loss: 0.0013WARNING:tensorflow:Can save best model only with val_loss available, skipping.\n",
      "42/42 [==============================] - 24s 565ms/step - loss: 0.0114 - semantic_0_loss: 0.0031 - semantic_1_loss: 0.0071 - semantic_2_loss: 0.0013 - lr: 4.5204e-05\n",
      "Epoch 81/200\n",
      "42/42 [==============================] - ETA: 0s - loss: 0.0112 - semantic_0_loss: 0.0030 - semantic_1_loss: 0.0070 - semantic_2_loss: 0.0012WARNING:tensorflow:Can save best model only with val_loss available, skipping.\n",
      "42/42 [==============================] - 24s 562ms/step - loss: 0.0112 - semantic_0_loss: 0.0030 - semantic_1_loss: 0.0070 - semantic_2_loss: 0.0012 - lr: 4.4752e-05\n",
      "Epoch 82/200\n",
      "42/42 [==============================] - ETA: 0s - loss: 0.0112 - semantic_0_loss: 0.0030 - semantic_1_loss: 0.0070 - semantic_2_loss: 0.0012WARNING:tensorflow:Can save best model only with val_loss available, skipping.\n",
      "42/42 [==============================] - 24s 564ms/step - loss: 0.0112 - semantic_0_loss: 0.0030 - semantic_1_loss: 0.0070 - semantic_2_loss: 0.0012 - lr: 4.4305e-05\n",
      "Epoch 83/200\n",
      "42/42 [==============================] - ETA: 0s - loss: 0.0111 - semantic_0_loss: 0.0030 - semantic_1_loss: 0.0069 - semantic_2_loss: 0.0012WARNING:tensorflow:Can save best model only with val_loss available, skipping.\n",
      "42/42 [==============================] - 23s 554ms/step - loss: 0.0111 - semantic_0_loss: 0.0030 - semantic_1_loss: 0.0069 - semantic_2_loss: 0.0012 - lr: 4.3862e-05\n",
      "Epoch 84/200\n",
      "42/42 [==============================] - ETA: 0s - loss: 0.0112 - semantic_0_loss: 0.0030 - semantic_1_loss: 0.0070 - semantic_2_loss: 0.0012WARNING:tensorflow:Can save best model only with val_loss available, skipping.\n",
      "42/42 [==============================] - 24s 564ms/step - loss: 0.0112 - semantic_0_loss: 0.0030 - semantic_1_loss: 0.0070 - semantic_2_loss: 0.0012 - lr: 4.3423e-05\n",
      "Epoch 85/200\n",
      "42/42 [==============================] - ETA: 0s - loss: 0.0111 - semantic_0_loss: 0.0030 - semantic_1_loss: 0.0069 - semantic_2_loss: 0.0012WARNING:tensorflow:Can save best model only with val_loss available, skipping.\n",
      "42/42 [==============================] - 23s 553ms/step - loss: 0.0111 - semantic_0_loss: 0.0030 - semantic_1_loss: 0.0069 - semantic_2_loss: 0.0012 - lr: 4.2989e-05\n",
      "Epoch 86/200\n",
      "42/42 [==============================] - ETA: 0s - loss: 0.0112 - semantic_0_loss: 0.0030 - semantic_1_loss: 0.0070 - semantic_2_loss: 0.0012WARNING:tensorflow:Can save best model only with val_loss available, skipping.\n",
      "42/42 [==============================] - 24s 561ms/step - loss: 0.0112 - semantic_0_loss: 0.0030 - semantic_1_loss: 0.0070 - semantic_2_loss: 0.0012 - lr: 4.2559e-05\n",
      "Epoch 87/200\n",
      "42/42 [==============================] - ETA: 0s - loss: 0.0111 - semantic_0_loss: 0.0030 - semantic_1_loss: 0.0069 - semantic_2_loss: 0.0012WARNING:tensorflow:Can save best model only with val_loss available, skipping.\n",
      "42/42 [==============================] - 23s 547ms/step - loss: 0.0111 - semantic_0_loss: 0.0030 - semantic_1_loss: 0.0069 - semantic_2_loss: 0.0012 - lr: 4.2133e-05\n",
      "Epoch 88/200\n",
      "42/42 [==============================] - ETA: 0s - loss: 0.0113 - semantic_0_loss: 0.0030 - semantic_1_loss: 0.0070 - semantic_2_loss: 0.0012WARNING:tensorflow:Can save best model only with val_loss available, skipping.\n",
      "42/42 [==============================] - 23s 551ms/step - loss: 0.0113 - semantic_0_loss: 0.0030 - semantic_1_loss: 0.0070 - semantic_2_loss: 0.0012 - lr: 4.1712e-05\n",
      "Epoch 89/200\n",
      "42/42 [==============================] - ETA: 0s - loss: 0.0110 - semantic_0_loss: 0.0029 - semantic_1_loss: 0.0069 - semantic_2_loss: 0.0012WARNING:tensorflow:Can save best model only with val_loss available, skipping.\n",
      "42/42 [==============================] - 24s 564ms/step - loss: 0.0110 - semantic_0_loss: 0.0029 - semantic_1_loss: 0.0069 - semantic_2_loss: 0.0012 - lr: 4.1295e-05\n",
      "Epoch 90/200\n",
      "42/42 [==============================] - ETA: 0s - loss: 0.0112 - semantic_0_loss: 0.0030 - semantic_1_loss: 0.0070 - semantic_2_loss: 0.0012WARNING:tensorflow:Can save best model only with val_loss available, skipping.\n",
      "42/42 [==============================] - 23s 550ms/step - loss: 0.0112 - semantic_0_loss: 0.0030 - semantic_1_loss: 0.0070 - semantic_2_loss: 0.0012 - lr: 4.0882e-05\n",
      "Epoch 91/200\n",
      "42/42 [==============================] - ETA: 0s - loss: 0.0113 - semantic_0_loss: 0.0030 - semantic_1_loss: 0.0070 - semantic_2_loss: 0.0012WARNING:tensorflow:Can save best model only with val_loss available, skipping.\n",
      "42/42 [==============================] - 24s 565ms/step - loss: 0.0113 - semantic_0_loss: 0.0030 - semantic_1_loss: 0.0070 - semantic_2_loss: 0.0012 - lr: 4.0473e-05\n",
      "Epoch 92/200\n",
      "42/42 [==============================] - ETA: 0s - loss: 0.0111 - semantic_0_loss: 0.0030 - semantic_1_loss: 0.0069 - semantic_2_loss: 0.0012WARNING:tensorflow:Can save best model only with val_loss available, skipping.\n",
      "42/42 [==============================] - 24s 559ms/step - loss: 0.0111 - semantic_0_loss: 0.0030 - semantic_1_loss: 0.0069 - semantic_2_loss: 0.0012 - lr: 4.0068e-05\n",
      "Epoch 93/200\n",
      "42/42 [==============================] - ETA: 0s - loss: 0.0109 - semantic_0_loss: 0.0029 - semantic_1_loss: 0.0067 - semantic_2_loss: 0.0012WARNING:tensorflow:Can save best model only with val_loss available, skipping.\n",
      "42/42 [==============================] - 24s 557ms/step - loss: 0.0109 - semantic_0_loss: 0.0029 - semantic_1_loss: 0.0067 - semantic_2_loss: 0.0012 - lr: 3.9668e-05\n",
      "Epoch 94/200\n",
      "42/42 [==============================] - ETA: 0s - loss: 0.0109 - semantic_0_loss: 0.0029 - semantic_1_loss: 0.0068 - semantic_2_loss: 0.0012WARNING:tensorflow:Can save best model only with val_loss available, skipping.\n",
      "42/42 [==============================] - 24s 560ms/step - loss: 0.0109 - semantic_0_loss: 0.0029 - semantic_1_loss: 0.0068 - semantic_2_loss: 0.0012 - lr: 3.9271e-05\n",
      "Epoch 95/200\n",
      "42/42 [==============================] - ETA: 0s - loss: 0.0111 - semantic_0_loss: 0.0030 - semantic_1_loss: 0.0069 - semantic_2_loss: 0.0012WARNING:tensorflow:Can save best model only with val_loss available, skipping.\n",
      "42/42 [==============================] - 24s 555ms/step - loss: 0.0111 - semantic_0_loss: 0.0030 - semantic_1_loss: 0.0069 - semantic_2_loss: 0.0012 - lr: 3.8878e-05\n",
      "Epoch 96/200\n",
      "42/42 [==============================] - ETA: 0s - loss: 0.0110 - semantic_0_loss: 0.0030 - semantic_1_loss: 0.0068 - semantic_2_loss: 0.0012WARNING:tensorflow:Can save best model only with val_loss available, skipping.\n",
      "42/42 [==============================] - 24s 568ms/step - loss: 0.0110 - semantic_0_loss: 0.0030 - semantic_1_loss: 0.0068 - semantic_2_loss: 0.0012 - lr: 3.8490e-05\n",
      "Epoch 97/200\n",
      "42/42 [==============================] - ETA: 0s - loss: 0.0109 - semantic_0_loss: 0.0029 - semantic_1_loss: 0.0068 - semantic_2_loss: 0.0012WARNING:tensorflow:Can save best model only with val_loss available, skipping.\n",
      "42/42 [==============================] - 24s 556ms/step - loss: 0.0109 - semantic_0_loss: 0.0029 - semantic_1_loss: 0.0068 - semantic_2_loss: 0.0012 - lr: 3.8105e-05\n",
      "Epoch 98/200\n",
      "42/42 [==============================] - ETA: 0s - loss: 0.0111 - semantic_0_loss: 0.0030 - semantic_1_loss: 0.0069 - semantic_2_loss: 0.0012WARNING:tensorflow:Can save best model only with val_loss available, skipping.\n",
      "42/42 [==============================] - 24s 554ms/step - loss: 0.0111 - semantic_0_loss: 0.0030 - semantic_1_loss: 0.0069 - semantic_2_loss: 0.0012 - lr: 3.7724e-05\n",
      "Epoch 99/200\n",
      "42/42 [==============================] - ETA: 0s - loss: 0.0111 - semantic_0_loss: 0.0030 - semantic_1_loss: 0.0069 - semantic_2_loss: 0.0012WARNING:tensorflow:Can save best model only with val_loss available, skipping.\n",
      "42/42 [==============================] - 24s 557ms/step - loss: 0.0111 - semantic_0_loss: 0.0030 - semantic_1_loss: 0.0069 - semantic_2_loss: 0.0012 - lr: 3.7346e-05\n",
      "Epoch 100/200\n",
      "42/42 [==============================] - ETA: 0s - loss: 0.0109 - semantic_0_loss: 0.0029 - semantic_1_loss: 0.0067 - semantic_2_loss: 0.0012WARNING:tensorflow:Can save best model only with val_loss available, skipping.\n",
      "42/42 [==============================] - 23s 551ms/step - loss: 0.0109 - semantic_0_loss: 0.0029 - semantic_1_loss: 0.0067 - semantic_2_loss: 0.0012 - lr: 3.6973e-05\n",
      "Epoch 101/200\n",
      "42/42 [==============================] - ETA: 0s - loss: 0.0109 - semantic_0_loss: 0.0030 - semantic_1_loss: 0.0067 - semantic_2_loss: 0.0012WARNING:tensorflow:Can save best model only with val_loss available, skipping.\n",
      "42/42 [==============================] - 24s 559ms/step - loss: 0.0109 - semantic_0_loss: 0.0030 - semantic_1_loss: 0.0067 - semantic_2_loss: 0.0012 - lr: 3.6603e-05\n",
      "Epoch 102/200\n",
      "42/42 [==============================] - ETA: 0s - loss: 0.0109 - semantic_0_loss: 0.0029 - semantic_1_loss: 0.0068 - semantic_2_loss: 0.0012WARNING:tensorflow:Can save best model only with val_loss available, skipping.\n",
      "42/42 [==============================] - 24s 561ms/step - loss: 0.0109 - semantic_0_loss: 0.0029 - semantic_1_loss: 0.0068 - semantic_2_loss: 0.0012 - lr: 3.6237e-05\n",
      "Epoch 103/200\n",
      "42/42 [==============================] - ETA: 0s - loss: 0.0110 - semantic_0_loss: 0.0030 - semantic_1_loss: 0.0068 - semantic_2_loss: 0.0012WARNING:tensorflow:Can save best model only with val_loss available, skipping.\n",
      "42/42 [==============================] - 23s 552ms/step - loss: 0.0110 - semantic_0_loss: 0.0030 - semantic_1_loss: 0.0068 - semantic_2_loss: 0.0012 - lr: 3.5875e-05\n",
      "Epoch 104/200\n",
      "42/42 [==============================] - ETA: 0s - loss: 0.0108 - semantic_0_loss: 0.0029 - semantic_1_loss: 0.0067 - semantic_2_loss: 0.0012WARNING:tensorflow:Can save best model only with val_loss available, skipping.\n",
      "42/42 [==============================] - 24s 562ms/step - loss: 0.0108 - semantic_0_loss: 0.0029 - semantic_1_loss: 0.0067 - semantic_2_loss: 0.0012 - lr: 3.5516e-05\n",
      "Epoch 105/200\n",
      "42/42 [==============================] - ETA: 0s - loss: 0.0109 - semantic_0_loss: 0.0029 - semantic_1_loss: 0.0067 - semantic_2_loss: 0.0012WARNING:tensorflow:Can save best model only with val_loss available, skipping.\n",
      "42/42 [==============================] - 24s 558ms/step - loss: 0.0109 - semantic_0_loss: 0.0029 - semantic_1_loss: 0.0067 - semantic_2_loss: 0.0012 - lr: 3.5161e-05\n",
      "Epoch 106/200\n",
      "42/42 [==============================] - ETA: 0s - loss: 0.0110 - semantic_0_loss: 0.0030 - semantic_1_loss: 0.0068 - semantic_2_loss: 0.0012WARNING:tensorflow:Can save best model only with val_loss available, skipping.\n",
      "42/42 [==============================] - 24s 555ms/step - loss: 0.0110 - semantic_0_loss: 0.0030 - semantic_1_loss: 0.0068 - semantic_2_loss: 0.0012 - lr: 3.4809e-05\n",
      "Epoch 107/200\n",
      "42/42 [==============================] - ETA: 0s - loss: 0.0110 - semantic_0_loss: 0.0030 - semantic_1_loss: 0.0068 - semantic_2_loss: 0.0012WARNING:tensorflow:Can save best model only with val_loss available, skipping.\n",
      "42/42 [==============================] - 24s 556ms/step - loss: 0.0110 - semantic_0_loss: 0.0030 - semantic_1_loss: 0.0068 - semantic_2_loss: 0.0012 - lr: 3.4461e-05\n",
      "Epoch 108/200\n",
      "42/42 [==============================] - ETA: 0s - loss: 0.0106 - semantic_0_loss: 0.0029 - semantic_1_loss: 0.0065 - semantic_2_loss: 0.0012WARNING:tensorflow:Can save best model only with val_loss available, skipping.\n",
      "42/42 [==============================] - 24s 564ms/step - loss: 0.0106 - semantic_0_loss: 0.0029 - semantic_1_loss: 0.0065 - semantic_2_loss: 0.0012 - lr: 3.4117e-05\n",
      "Epoch 109/200\n",
      "42/42 [==============================] - ETA: 0s - loss: 0.0109 - semantic_0_loss: 0.0029 - semantic_1_loss: 0.0067 - semantic_2_loss: 0.0012WARNING:tensorflow:Can save best model only with val_loss available, skipping.\n",
      "42/42 [==============================] - 23s 552ms/step - loss: 0.0109 - semantic_0_loss: 0.0029 - semantic_1_loss: 0.0067 - semantic_2_loss: 0.0012 - lr: 3.3775e-05\n",
      "Epoch 110/200\n",
      "42/42 [==============================] - ETA: 0s - loss: 0.0109 - semantic_0_loss: 0.0029 - semantic_1_loss: 0.0068 - semantic_2_loss: 0.0012WARNING:tensorflow:Can save best model only with val_loss available, skipping.\n",
      "42/42 [==============================] - 24s 563ms/step - loss: 0.0109 - semantic_0_loss: 0.0029 - semantic_1_loss: 0.0068 - semantic_2_loss: 0.0012 - lr: 3.3438e-05\n",
      "Epoch 111/200\n",
      "42/42 [==============================] - ETA: 0s - loss: 0.0108 - semantic_0_loss: 0.0029 - semantic_1_loss: 0.0067 - semantic_2_loss: 0.0012WARNING:tensorflow:Can save best model only with val_loss available, skipping.\n",
      "42/42 [==============================] - 24s 554ms/step - loss: 0.0108 - semantic_0_loss: 0.0029 - semantic_1_loss: 0.0067 - semantic_2_loss: 0.0012 - lr: 3.3103e-05\n",
      "Epoch 112/200\n",
      "42/42 [==============================] - ETA: 0s - loss: 0.0107 - semantic_0_loss: 0.0029 - semantic_1_loss: 0.0066 - semantic_2_loss: 0.0012WARNING:tensorflow:Can save best model only with val_loss available, skipping.\n",
      "42/42 [==============================] - 24s 562ms/step - loss: 0.0107 - semantic_0_loss: 0.0029 - semantic_1_loss: 0.0066 - semantic_2_loss: 0.0012 - lr: 3.2772e-05\n",
      "Epoch 113/200\n",
      "42/42 [==============================] - ETA: 0s - loss: 0.0109 - semantic_0_loss: 0.0029 - semantic_1_loss: 0.0067 - semantic_2_loss: 0.0012WARNING:tensorflow:Can save best model only with val_loss available, skipping.\n",
      "42/42 [==============================] - 24s 558ms/step - loss: 0.0109 - semantic_0_loss: 0.0029 - semantic_1_loss: 0.0067 - semantic_2_loss: 0.0012 - lr: 3.2445e-05\n",
      "Epoch 114/200\n",
      "42/42 [==============================] - ETA: 0s - loss: 0.0109 - semantic_0_loss: 0.0029 - semantic_1_loss: 0.0067 - semantic_2_loss: 0.0012WARNING:tensorflow:Can save best model only with val_loss available, skipping.\n",
      "42/42 [==============================] - 24s 555ms/step - loss: 0.0109 - semantic_0_loss: 0.0029 - semantic_1_loss: 0.0067 - semantic_2_loss: 0.0012 - lr: 3.2120e-05\n",
      "Epoch 115/200\n",
      "42/42 [==============================] - ETA: 0s - loss: 0.0108 - semantic_0_loss: 0.0029 - semantic_1_loss: 0.0067 - semantic_2_loss: 0.0012WARNING:tensorflow:Can save best model only with val_loss available, skipping.\n",
      "42/42 [==============================] - 23s 556ms/step - loss: 0.0108 - semantic_0_loss: 0.0029 - semantic_1_loss: 0.0067 - semantic_2_loss: 0.0012 - lr: 3.1799e-05\n",
      "Epoch 116/200\n",
      "42/42 [==============================] - ETA: 0s - loss: 0.0107 - semantic_0_loss: 0.0029 - semantic_1_loss: 0.0066 - semantic_2_loss: 0.0012WARNING:tensorflow:Can save best model only with val_loss available, skipping.\n",
      "42/42 [==============================] - 24s 566ms/step - loss: 0.0107 - semantic_0_loss: 0.0029 - semantic_1_loss: 0.0066 - semantic_2_loss: 0.0012 - lr: 3.1481e-05\n",
      "Epoch 117/200\n",
      "42/42 [==============================] - ETA: 0s - loss: 0.0106 - semantic_0_loss: 0.0029 - semantic_1_loss: 0.0065 - semantic_2_loss: 0.0012WARNING:tensorflow:Can save best model only with val_loss available, skipping.\n",
      "42/42 [==============================] - 24s 568ms/step - loss: 0.0106 - semantic_0_loss: 0.0029 - semantic_1_loss: 0.0065 - semantic_2_loss: 0.0012 - lr: 3.1166e-05\n",
      "Epoch 118/200\n",
      "42/42 [==============================] - ETA: 0s - loss: 0.0109 - semantic_0_loss: 0.0030 - semantic_1_loss: 0.0067 - semantic_2_loss: 0.0012WARNING:tensorflow:Can save best model only with val_loss available, skipping.\n",
      "42/42 [==============================] - 24s 561ms/step - loss: 0.0109 - semantic_0_loss: 0.0030 - semantic_1_loss: 0.0067 - semantic_2_loss: 0.0012 - lr: 3.0854e-05\n",
      "Epoch 119/200\n",
      "42/42 [==============================] - ETA: 0s - loss: 0.0107 - semantic_0_loss: 0.0029 - semantic_1_loss: 0.0066 - semantic_2_loss: 0.0012WARNING:tensorflow:Can save best model only with val_loss available, skipping.\n",
      "42/42 [==============================] - 24s 556ms/step - loss: 0.0107 - semantic_0_loss: 0.0029 - semantic_1_loss: 0.0066 - semantic_2_loss: 0.0012 - lr: 3.0546e-05\n",
      "Epoch 120/200\n",
      "42/42 [==============================] - ETA: 0s - loss: 0.0109 - semantic_0_loss: 0.0030 - semantic_1_loss: 0.0067 - semantic_2_loss: 0.0012WARNING:tensorflow:Can save best model only with val_loss available, skipping.\n",
      "42/42 [==============================] - 24s 558ms/step - loss: 0.0109 - semantic_0_loss: 0.0030 - semantic_1_loss: 0.0067 - semantic_2_loss: 0.0012 - lr: 3.0240e-05\n",
      "Epoch 121/200\n",
      "42/42 [==============================] - ETA: 0s - loss: 0.0107 - semantic_0_loss: 0.0029 - semantic_1_loss: 0.0066 - semantic_2_loss: 0.0012WARNING:tensorflow:Can save best model only with val_loss available, skipping.\n",
      "42/42 [==============================] - 24s 558ms/step - loss: 0.0107 - semantic_0_loss: 0.0029 - semantic_1_loss: 0.0066 - semantic_2_loss: 0.0012 - lr: 2.9938e-05\n",
      "Epoch 122/200\n",
      "42/42 [==============================] - ETA: 0s - loss: 0.0106 - semantic_0_loss: 0.0029 - semantic_1_loss: 0.0065 - semantic_2_loss: 0.0012WARNING:tensorflow:Can save best model only with val_loss available, skipping.\n",
      "42/42 [==============================] - 23s 553ms/step - loss: 0.0106 - semantic_0_loss: 0.0029 - semantic_1_loss: 0.0065 - semantic_2_loss: 0.0012 - lr: 2.9639e-05\n",
      "Epoch 123/200\n",
      "42/42 [==============================] - ETA: 0s - loss: 0.0106 - semantic_0_loss: 0.0029 - semantic_1_loss: 0.0065 - semantic_2_loss: 0.0012WARNING:tensorflow:Can save best model only with val_loss available, skipping.\n",
      "42/42 [==============================] - 24s 558ms/step - loss: 0.0106 - semantic_0_loss: 0.0029 - semantic_1_loss: 0.0065 - semantic_2_loss: 0.0012 - lr: 2.9342e-05\n",
      "Epoch 124/200\n",
      "42/42 [==============================] - ETA: 0s - loss: 0.0107 - semantic_0_loss: 0.0029 - semantic_1_loss: 0.0066 - semantic_2_loss: 0.0012WARNING:tensorflow:Can save best model only with val_loss available, skipping.\n",
      "42/42 [==============================] - 24s 562ms/step - loss: 0.0107 - semantic_0_loss: 0.0029 - semantic_1_loss: 0.0066 - semantic_2_loss: 0.0012 - lr: 2.9049e-05\n",
      "Epoch 125/200\n",
      "42/42 [==============================] - ETA: 0s - loss: 0.0105 - semantic_0_loss: 0.0029 - semantic_1_loss: 0.0065 - semantic_2_loss: 0.0012WARNING:tensorflow:Can save best model only with val_loss available, skipping.\n",
      "42/42 [==============================] - 24s 563ms/step - loss: 0.0105 - semantic_0_loss: 0.0029 - semantic_1_loss: 0.0065 - semantic_2_loss: 0.0012 - lr: 2.8758e-05\n",
      "Epoch 126/200\n",
      "42/42 [==============================] - ETA: 0s - loss: 0.0106 - semantic_0_loss: 0.0029 - semantic_1_loss: 0.0065 - semantic_2_loss: 0.0012WARNING:tensorflow:Can save best model only with val_loss available, skipping.\n",
      "42/42 [==============================] - 24s 572ms/step - loss: 0.0106 - semantic_0_loss: 0.0029 - semantic_1_loss: 0.0065 - semantic_2_loss: 0.0012 - lr: 2.8471e-05\n",
      "Epoch 127/200\n",
      "42/42 [==============================] - ETA: 0s - loss: 0.0106 - semantic_0_loss: 0.0029 - semantic_1_loss: 0.0065 - semantic_2_loss: 0.0012WARNING:tensorflow:Can save best model only with val_loss available, skipping.\n",
      "42/42 [==============================] - 24s 555ms/step - loss: 0.0106 - semantic_0_loss: 0.0029 - semantic_1_loss: 0.0065 - semantic_2_loss: 0.0012 - lr: 2.8186e-05\n",
      "Epoch 128/200\n",
      "42/42 [==============================] - ETA: 0s - loss: 0.0107 - semantic_0_loss: 0.0029 - semantic_1_loss: 0.0066 - semantic_2_loss: 0.0012WARNING:tensorflow:Can save best model only with val_loss available, skipping.\n",
      "42/42 [==============================] - 24s 556ms/step - loss: 0.0107 - semantic_0_loss: 0.0029 - semantic_1_loss: 0.0066 - semantic_2_loss: 0.0012 - lr: 2.7904e-05\n",
      "Epoch 129/200\n",
      "42/42 [==============================] - ETA: 0s - loss: 0.0107 - semantic_0_loss: 0.0029 - semantic_1_loss: 0.0066 - semantic_2_loss: 0.0012WARNING:tensorflow:Can save best model only with val_loss available, skipping.\n",
      "42/42 [==============================] - 24s 556ms/step - loss: 0.0107 - semantic_0_loss: 0.0029 - semantic_1_loss: 0.0066 - semantic_2_loss: 0.0012 - lr: 2.7625e-05\n",
      "Epoch 130/200\n",
      "42/42 [==============================] - ETA: 0s - loss: 0.0107 - semantic_0_loss: 0.0029 - semantic_1_loss: 0.0066 - semantic_2_loss: 0.0012WARNING:tensorflow:Can save best model only with val_loss available, skipping.\n",
      "42/42 [==============================] - 24s 557ms/step - loss: 0.0107 - semantic_0_loss: 0.0029 - semantic_1_loss: 0.0066 - semantic_2_loss: 0.0012 - lr: 2.7349e-05\n",
      "Epoch 131/200\n",
      "42/42 [==============================] - ETA: 0s - loss: 0.0106 - semantic_0_loss: 0.0029 - semantic_1_loss: 0.0065 - semantic_2_loss: 0.0012WARNING:tensorflow:Can save best model only with val_loss available, skipping.\n",
      "42/42 [==============================] - 23s 553ms/step - loss: 0.0106 - semantic_0_loss: 0.0029 - semantic_1_loss: 0.0065 - semantic_2_loss: 0.0012 - lr: 2.7075e-05\n",
      "Epoch 132/200\n",
      "42/42 [==============================] - ETA: 0s - loss: 0.0105 - semantic_0_loss: 0.0029 - semantic_1_loss: 0.0065 - semantic_2_loss: 0.0012WARNING:tensorflow:Can save best model only with val_loss available, skipping.\n",
      "42/42 [==============================] - 24s 555ms/step - loss: 0.0105 - semantic_0_loss: 0.0029 - semantic_1_loss: 0.0065 - semantic_2_loss: 0.0012 - lr: 2.6805e-05\n",
      "Epoch 133/200\n",
      "42/42 [==============================] - ETA: 0s - loss: 0.0107 - semantic_0_loss: 0.0029 - semantic_1_loss: 0.0066 - semantic_2_loss: 0.0012WARNING:tensorflow:Can save best model only with val_loss available, skipping.\n",
      "42/42 [==============================] - 23s 553ms/step - loss: 0.0107 - semantic_0_loss: 0.0029 - semantic_1_loss: 0.0066 - semantic_2_loss: 0.0012 - lr: 2.6537e-05\n",
      "Epoch 134/200\n",
      "42/42 [==============================] - ETA: 0s - loss: 0.0106 - semantic_0_loss: 0.0029 - semantic_1_loss: 0.0065 - semantic_2_loss: 0.0012WARNING:tensorflow:Can save best model only with val_loss available, skipping.\n",
      "42/42 [==============================] - 24s 564ms/step - loss: 0.0106 - semantic_0_loss: 0.0029 - semantic_1_loss: 0.0065 - semantic_2_loss: 0.0012 - lr: 2.6271e-05\n",
      "Epoch 135/200\n",
      "42/42 [==============================] - ETA: 0s - loss: 0.0106 - semantic_0_loss: 0.0029 - semantic_1_loss: 0.0065 - semantic_2_loss: 0.0012WARNING:tensorflow:Can save best model only with val_loss available, skipping.\n",
      "42/42 [==============================] - 23s 554ms/step - loss: 0.0106 - semantic_0_loss: 0.0029 - semantic_1_loss: 0.0065 - semantic_2_loss: 0.0012 - lr: 2.6009e-05\n",
      "Epoch 136/200\n",
      "42/42 [==============================] - ETA: 0s - loss: 0.0104 - semantic_0_loss: 0.0028 - semantic_1_loss: 0.0064 - semantic_2_loss: 0.0012WARNING:tensorflow:Can save best model only with val_loss available, skipping.\n",
      "42/42 [==============================] - 24s 575ms/step - loss: 0.0104 - semantic_0_loss: 0.0028 - semantic_1_loss: 0.0064 - semantic_2_loss: 0.0012 - lr: 2.5748e-05\n",
      "Epoch 137/200\n",
      "42/42 [==============================] - ETA: 0s - loss: 0.0106 - semantic_0_loss: 0.0029 - semantic_1_loss: 0.0065 - semantic_2_loss: 0.0012WARNING:tensorflow:Can save best model only with val_loss available, skipping.\n",
      "42/42 [==============================] - 24s 563ms/step - loss: 0.0106 - semantic_0_loss: 0.0029 - semantic_1_loss: 0.0065 - semantic_2_loss: 0.0012 - lr: 2.5491e-05\n",
      "Epoch 138/200\n",
      "42/42 [==============================] - ETA: 0s - loss: 0.0106 - semantic_0_loss: 0.0029 - semantic_1_loss: 0.0065 - semantic_2_loss: 0.0012WARNING:tensorflow:Can save best model only with val_loss available, skipping.\n",
      "42/42 [==============================] - 23s 554ms/step - loss: 0.0106 - semantic_0_loss: 0.0029 - semantic_1_loss: 0.0065 - semantic_2_loss: 0.0012 - lr: 2.5236e-05\n",
      "Epoch 139/200\n",
      "42/42 [==============================] - ETA: 0s - loss: 0.0107 - semantic_0_loss: 0.0030 - semantic_1_loss: 0.0066 - semantic_2_loss: 0.0012WARNING:tensorflow:Can save best model only with val_loss available, skipping.\n",
      "42/42 [==============================] - 24s 558ms/step - loss: 0.0107 - semantic_0_loss: 0.0030 - semantic_1_loss: 0.0066 - semantic_2_loss: 0.0012 - lr: 2.4984e-05\n",
      "Epoch 140/200\n",
      "42/42 [==============================] - ETA: 0s - loss: 0.0107 - semantic_0_loss: 0.0029 - semantic_1_loss: 0.0066 - semantic_2_loss: 0.0012WARNING:tensorflow:Can save best model only with val_loss available, skipping.\n",
      "42/42 [==============================] - 24s 568ms/step - loss: 0.0107 - semantic_0_loss: 0.0029 - semantic_1_loss: 0.0066 - semantic_2_loss: 0.0012 - lr: 2.4734e-05\n",
      "Epoch 141/200\n",
      "42/42 [==============================] - ETA: 0s - loss: 0.0105 - semantic_0_loss: 0.0029 - semantic_1_loss: 0.0064 - semantic_2_loss: 0.0012WARNING:tensorflow:Can save best model only with val_loss available, skipping.\n",
      "42/42 [==============================] - 24s 555ms/step - loss: 0.0105 - semantic_0_loss: 0.0029 - semantic_1_loss: 0.0064 - semantic_2_loss: 0.0012 - lr: 2.4487e-05\n",
      "Epoch 142/200\n",
      "42/42 [==============================] - ETA: 0s - loss: 0.0105 - semantic_0_loss: 0.0029 - semantic_1_loss: 0.0064 - semantic_2_loss: 0.0012WARNING:tensorflow:Can save best model only with val_loss available, skipping.\n",
      "42/42 [==============================] - 24s 557ms/step - loss: 0.0105 - semantic_0_loss: 0.0029 - semantic_1_loss: 0.0064 - semantic_2_loss: 0.0012 - lr: 2.4242e-05\n",
      "Epoch 143/200\n",
      "42/42 [==============================] - ETA: 0s - loss: 0.0105 - semantic_0_loss: 0.0029 - semantic_1_loss: 0.0065 - semantic_2_loss: 0.0012WARNING:tensorflow:Can save best model only with val_loss available, skipping.\n",
      "42/42 [==============================] - 23s 548ms/step - loss: 0.0105 - semantic_0_loss: 0.0029 - semantic_1_loss: 0.0065 - semantic_2_loss: 0.0012 - lr: 2.3999e-05\n",
      "Epoch 144/200\n",
      "42/42 [==============================] - ETA: 0s - loss: 0.0102 - semantic_0_loss: 0.0028 - semantic_1_loss: 0.0062 - semantic_2_loss: 0.0012WARNING:tensorflow:Can save best model only with val_loss available, skipping.\n",
      "42/42 [==============================] - 24s 560ms/step - loss: 0.0102 - semantic_0_loss: 0.0028 - semantic_1_loss: 0.0062 - semantic_2_loss: 0.0012 - lr: 2.3759e-05\n",
      "Epoch 145/200\n",
      "42/42 [==============================] - ETA: 0s - loss: 0.0107 - semantic_0_loss: 0.0029 - semantic_1_loss: 0.0066 - semantic_2_loss: 0.0012WARNING:tensorflow:Can save best model only with val_loss available, skipping.\n",
      "42/42 [==============================] - 24s 555ms/step - loss: 0.0107 - semantic_0_loss: 0.0029 - semantic_1_loss: 0.0066 - semantic_2_loss: 0.0012 - lr: 2.3522e-05\n",
      "Epoch 146/200\n",
      "42/42 [==============================] - ETA: 0s - loss: 0.0105 - semantic_0_loss: 0.0029 - semantic_1_loss: 0.0064 - semantic_2_loss: 0.0012WARNING:tensorflow:Can save best model only with val_loss available, skipping.\n",
      "42/42 [==============================] - 24s 559ms/step - loss: 0.0105 - semantic_0_loss: 0.0029 - semantic_1_loss: 0.0064 - semantic_2_loss: 0.0012 - lr: 2.3286e-05\n",
      "Epoch 147/200\n",
      "42/42 [==============================] - ETA: 0s - loss: 0.0103 - semantic_0_loss: 0.0028 - semantic_1_loss: 0.0063 - semantic_2_loss: 0.0012WARNING:tensorflow:Can save best model only with val_loss available, skipping.\n",
      "42/42 [==============================] - 23s 549ms/step - loss: 0.0103 - semantic_0_loss: 0.0028 - semantic_1_loss: 0.0063 - semantic_2_loss: 0.0012 - lr: 2.3054e-05\n",
      "Epoch 148/200\n",
      "42/42 [==============================] - ETA: 0s - loss: 0.0105 - semantic_0_loss: 0.0029 - semantic_1_loss: 0.0064 - semantic_2_loss: 0.0012WARNING:tensorflow:Can save best model only with val_loss available, skipping.\n",
      "42/42 [==============================] - 23s 552ms/step - loss: 0.0105 - semantic_0_loss: 0.0029 - semantic_1_loss: 0.0064 - semantic_2_loss: 0.0012 - lr: 2.2823e-05\n",
      "Epoch 149/200\n",
      "42/42 [==============================] - ETA: 0s - loss: 0.0104 - semantic_0_loss: 0.0029 - semantic_1_loss: 0.0064 - semantic_2_loss: 0.0012WARNING:tensorflow:Can save best model only with val_loss available, skipping.\n",
      "42/42 [==============================] - 24s 563ms/step - loss: 0.0104 - semantic_0_loss: 0.0029 - semantic_1_loss: 0.0064 - semantic_2_loss: 0.0012 - lr: 2.2595e-05\n",
      "Epoch 150/200\n",
      "42/42 [==============================] - ETA: 0s - loss: 0.0102 - semantic_0_loss: 0.0028 - semantic_1_loss: 0.0063 - semantic_2_loss: 0.0012WARNING:tensorflow:Can save best model only with val_loss available, skipping.\n",
      "42/42 [==============================] - 23s 554ms/step - loss: 0.0102 - semantic_0_loss: 0.0028 - semantic_1_loss: 0.0063 - semantic_2_loss: 0.0012 - lr: 2.2369e-05\n",
      "Epoch 151/200\n",
      "42/42 [==============================] - ETA: 0s - loss: 0.0105 - semantic_0_loss: 0.0029 - semantic_1_loss: 0.0064 - semantic_2_loss: 0.0012WARNING:tensorflow:Can save best model only with val_loss available, skipping.\n",
      "42/42 [==============================] - 23s 548ms/step - loss: 0.0105 - semantic_0_loss: 0.0029 - semantic_1_loss: 0.0064 - semantic_2_loss: 0.0012 - lr: 2.2145e-05\n",
      "Epoch 152/200\n",
      "42/42 [==============================] - ETA: 0s - loss: 0.0103 - semantic_0_loss: 0.0029 - semantic_1_loss: 0.0063 - semantic_2_loss: 0.0011WARNING:tensorflow:Can save best model only with val_loss available, skipping.\n",
      "42/42 [==============================] - 24s 565ms/step - loss: 0.0103 - semantic_0_loss: 0.0029 - semantic_1_loss: 0.0063 - semantic_2_loss: 0.0011 - lr: 2.1924e-05\n",
      "Epoch 153/200\n",
      "42/42 [==============================] - ETA: 0s - loss: 0.0105 - semantic_0_loss: 0.0029 - semantic_1_loss: 0.0064 - semantic_2_loss: 0.0012WARNING:tensorflow:Can save best model only with val_loss available, skipping.\n",
      "42/42 [==============================] - 24s 556ms/step - loss: 0.0105 - semantic_0_loss: 0.0029 - semantic_1_loss: 0.0064 - semantic_2_loss: 0.0012 - lr: 2.1704e-05\n",
      "Epoch 154/200\n",
      "42/42 [==============================] - ETA: 0s - loss: 0.0105 - semantic_0_loss: 0.0029 - semantic_1_loss: 0.0064 - semantic_2_loss: 0.0012WARNING:tensorflow:Can save best model only with val_loss available, skipping.\n",
      "42/42 [==============================] - 24s 558ms/step - loss: 0.0105 - semantic_0_loss: 0.0029 - semantic_1_loss: 0.0064 - semantic_2_loss: 0.0012 - lr: 2.1487e-05\n",
      "Epoch 155/200\n",
      "42/42 [==============================] - ETA: 0s - loss: 0.0104 - semantic_0_loss: 0.0029 - semantic_1_loss: 0.0064 - semantic_2_loss: 0.0012WARNING:tensorflow:Can save best model only with val_loss available, skipping.\n",
      "42/42 [==============================] - 24s 563ms/step - loss: 0.0104 - semantic_0_loss: 0.0029 - semantic_1_loss: 0.0064 - semantic_2_loss: 0.0012 - lr: 2.1273e-05\n",
      "Epoch 156/200\n",
      "42/42 [==============================] - ETA: 0s - loss: 0.0103 - semantic_0_loss: 0.0028 - semantic_1_loss: 0.0063 - semantic_2_loss: 0.0012WARNING:tensorflow:Can save best model only with val_loss available, skipping.\n",
      "42/42 [==============================] - 23s 550ms/step - loss: 0.0103 - semantic_0_loss: 0.0028 - semantic_1_loss: 0.0063 - semantic_2_loss: 0.0012 - lr: 2.1060e-05\n",
      "Epoch 157/200\n",
      "42/42 [==============================] - ETA: 0s - loss: 0.0104 - semantic_0_loss: 0.0029 - semantic_1_loss: 0.0064 - semantic_2_loss: 0.0012WARNING:tensorflow:Can save best model only with val_loss available, skipping.\n",
      "42/42 [==============================] - 24s 564ms/step - loss: 0.0104 - semantic_0_loss: 0.0029 - semantic_1_loss: 0.0064 - semantic_2_loss: 0.0012 - lr: 2.0849e-05\n",
      "Epoch 158/200\n",
      "42/42 [==============================] - ETA: 0s - loss: 0.0103 - semantic_0_loss: 0.0028 - semantic_1_loss: 0.0063 - semantic_2_loss: 0.0012WARNING:tensorflow:Can save best model only with val_loss available, skipping.\n",
      "42/42 [==============================] - 24s 568ms/step - loss: 0.0103 - semantic_0_loss: 0.0028 - semantic_1_loss: 0.0063 - semantic_2_loss: 0.0012 - lr: 2.0641e-05\n",
      "Epoch 159/200\n",
      "42/42 [==============================] - ETA: 0s - loss: 0.0104 - semantic_0_loss: 0.0029 - semantic_1_loss: 0.0064 - semantic_2_loss: 0.0012WARNING:tensorflow:Can save best model only with val_loss available, skipping.\n",
      "42/42 [==============================] - 24s 571ms/step - loss: 0.0104 - semantic_0_loss: 0.0029 - semantic_1_loss: 0.0064 - semantic_2_loss: 0.0012 - lr: 2.0434e-05\n",
      "Epoch 160/200\n",
      "42/42 [==============================] - ETA: 0s - loss: 0.0104 - semantic_0_loss: 0.0029 - semantic_1_loss: 0.0064 - semantic_2_loss: 0.0012WARNING:tensorflow:Can save best model only with val_loss available, skipping.\n",
      "42/42 [==============================] - 24s 556ms/step - loss: 0.0104 - semantic_0_loss: 0.0029 - semantic_1_loss: 0.0064 - semantic_2_loss: 0.0012 - lr: 2.0230e-05\n",
      "Epoch 161/200\n",
      "42/42 [==============================] - ETA: 0s - loss: 0.0103 - semantic_0_loss: 0.0029 - semantic_1_loss: 0.0063 - semantic_2_loss: 0.0012WARNING:tensorflow:Can save best model only with val_loss available, skipping.\n",
      "42/42 [==============================] - 24s 566ms/step - loss: 0.0103 - semantic_0_loss: 0.0029 - semantic_1_loss: 0.0063 - semantic_2_loss: 0.0012 - lr: 2.0028e-05\n",
      "Epoch 162/200\n",
      "42/42 [==============================] - ETA: 0s - loss: 0.0101 - semantic_0_loss: 0.0028 - semantic_1_loss: 0.0061 - semantic_2_loss: 0.0011WARNING:tensorflow:Can save best model only with val_loss available, skipping.\n",
      "42/42 [==============================] - 24s 559ms/step - loss: 0.0101 - semantic_0_loss: 0.0028 - semantic_1_loss: 0.0061 - semantic_2_loss: 0.0011 - lr: 1.9827e-05\n",
      "Epoch 163/200\n",
      "42/42 [==============================] - ETA: 0s - loss: 0.0101 - semantic_0_loss: 0.0028 - semantic_1_loss: 0.0062 - semantic_2_loss: 0.0011WARNING:tensorflow:Can save best model only with val_loss available, skipping.\n",
      "42/42 [==============================] - 24s 567ms/step - loss: 0.0101 - semantic_0_loss: 0.0028 - semantic_1_loss: 0.0062 - semantic_2_loss: 0.0011 - lr: 1.9629e-05\n",
      "Epoch 164/200\n",
      "42/42 [==============================] - ETA: 0s - loss: 0.0103 - semantic_0_loss: 0.0028 - semantic_1_loss: 0.0063 - semantic_2_loss: 0.0012WARNING:tensorflow:Can save best model only with val_loss available, skipping.\n",
      "42/42 [==============================] - 24s 564ms/step - loss: 0.0103 - semantic_0_loss: 0.0028 - semantic_1_loss: 0.0063 - semantic_2_loss: 0.0012 - lr: 1.9433e-05\n",
      "Epoch 165/200\n",
      "42/42 [==============================] - ETA: 0s - loss: 0.0104 - semantic_0_loss: 0.0029 - semantic_1_loss: 0.0064 - semantic_2_loss: 0.0012WARNING:tensorflow:Can save best model only with val_loss available, skipping.\n",
      "42/42 [==============================] - 23s 553ms/step - loss: 0.0104 - semantic_0_loss: 0.0029 - semantic_1_loss: 0.0064 - semantic_2_loss: 0.0012 - lr: 1.9239e-05\n",
      "Epoch 166/200\n",
      "42/42 [==============================] - ETA: 0s - loss: 0.0101 - semantic_0_loss: 0.0028 - semantic_1_loss: 0.0062 - semantic_2_loss: 0.0011WARNING:tensorflow:Can save best model only with val_loss available, skipping.\n",
      "42/42 [==============================] - 23s 554ms/step - loss: 0.0101 - semantic_0_loss: 0.0028 - semantic_1_loss: 0.0062 - semantic_2_loss: 0.0011 - lr: 1.9046e-05\n",
      "Epoch 167/200\n",
      "42/42 [==============================] - ETA: 0s - loss: 0.0101 - semantic_0_loss: 0.0028 - semantic_1_loss: 0.0061 - semantic_2_loss: 0.0011WARNING:tensorflow:Can save best model only with val_loss available, skipping.\n",
      "42/42 [==============================] - 24s 554ms/step - loss: 0.0101 - semantic_0_loss: 0.0028 - semantic_1_loss: 0.0061 - semantic_2_loss: 0.0011 - lr: 1.8856e-05\n",
      "Epoch 168/200\n",
      "42/42 [==============================] - ETA: 0s - loss: 0.0102 - semantic_0_loss: 0.0028 - semantic_1_loss: 0.0063 - semantic_2_loss: 0.0012WARNING:tensorflow:Can save best model only with val_loss available, skipping.\n",
      "42/42 [==============================] - 24s 572ms/step - loss: 0.0102 - semantic_0_loss: 0.0028 - semantic_1_loss: 0.0063 - semantic_2_loss: 0.0012 - lr: 1.8667e-05\n",
      "Epoch 169/200\n",
      "42/42 [==============================] - ETA: 0s - loss: 0.0101 - semantic_0_loss: 0.0028 - semantic_1_loss: 0.0062 - semantic_2_loss: 0.0011WARNING:tensorflow:Can save best model only with val_loss available, skipping.\n",
      "42/42 [==============================] - 24s 567ms/step - loss: 0.0101 - semantic_0_loss: 0.0028 - semantic_1_loss: 0.0062 - semantic_2_loss: 0.0011 - lr: 1.8480e-05\n",
      "Epoch 170/200\n",
      "42/42 [==============================] - ETA: 0s - loss: 0.0103 - semantic_0_loss: 0.0028 - semantic_1_loss: 0.0063 - semantic_2_loss: 0.0011WARNING:tensorflow:Can save best model only with val_loss available, skipping.\n",
      "42/42 [==============================] - 24s 563ms/step - loss: 0.0103 - semantic_0_loss: 0.0028 - semantic_1_loss: 0.0063 - semantic_2_loss: 0.0011 - lr: 1.8296e-05\n",
      "Epoch 171/200\n",
      "42/42 [==============================] - ETA: 0s - loss: 0.0102 - semantic_0_loss: 0.0028 - semantic_1_loss: 0.0063 - semantic_2_loss: 0.0012WARNING:tensorflow:Can save best model only with val_loss available, skipping.\n",
      "42/42 [==============================] - 24s 558ms/step - loss: 0.0102 - semantic_0_loss: 0.0028 - semantic_1_loss: 0.0063 - semantic_2_loss: 0.0012 - lr: 1.8113e-05\n",
      "Epoch 172/200\n",
      "42/42 [==============================] - ETA: 0s - loss: 0.0104 - semantic_0_loss: 0.0029 - semantic_1_loss: 0.0064 - semantic_2_loss: 0.0012WARNING:tensorflow:Can save best model only with val_loss available, skipping.\n",
      "42/42 [==============================] - 24s 563ms/step - loss: 0.0104 - semantic_0_loss: 0.0029 - semantic_1_loss: 0.0064 - semantic_2_loss: 0.0012 - lr: 1.7932e-05\n",
      "Epoch 173/200\n",
      "42/42 [==============================] - ETA: 0s - loss: 0.0101 - semantic_0_loss: 0.0028 - semantic_1_loss: 0.0062 - semantic_2_loss: 0.0011WARNING:tensorflow:Can save best model only with val_loss available, skipping.\n",
      "42/42 [==============================] - 23s 551ms/step - loss: 0.0101 - semantic_0_loss: 0.0028 - semantic_1_loss: 0.0062 - semantic_2_loss: 0.0011 - lr: 1.7752e-05\n",
      "Epoch 174/200\n",
      "42/42 [==============================] - ETA: 0s - loss: 0.0104 - semantic_0_loss: 0.0029 - semantic_1_loss: 0.0063 - semantic_2_loss: 0.0012WARNING:tensorflow:Can save best model only with val_loss available, skipping.\n",
      "42/42 [==============================] - 23s 552ms/step - loss: 0.0104 - semantic_0_loss: 0.0029 - semantic_1_loss: 0.0063 - semantic_2_loss: 0.0012 - lr: 1.7575e-05\n",
      "Epoch 175/200\n",
      "42/42 [==============================] - ETA: 0s - loss: 0.0100 - semantic_0_loss: 0.0028 - semantic_1_loss: 0.0061 - semantic_2_loss: 0.0011WARNING:tensorflow:Can save best model only with val_loss available, skipping.\n",
      "42/42 [==============================] - 24s 556ms/step - loss: 0.0100 - semantic_0_loss: 0.0028 - semantic_1_loss: 0.0061 - semantic_2_loss: 0.0011 - lr: 1.7399e-05\n",
      "Epoch 176/200\n",
      "42/42 [==============================] - ETA: 0s - loss: 0.0102 - semantic_0_loss: 0.0028 - semantic_1_loss: 0.0062 - semantic_2_loss: 0.0011WARNING:tensorflow:Can save best model only with val_loss available, skipping.\n",
      "42/42 [==============================] - 23s 553ms/step - loss: 0.0102 - semantic_0_loss: 0.0028 - semantic_1_loss: 0.0062 - semantic_2_loss: 0.0011 - lr: 1.7225e-05\n",
      "Epoch 177/200\n",
      "42/42 [==============================] - ETA: 0s - loss: 0.0101 - semantic_0_loss: 0.0028 - semantic_1_loss: 0.0062 - semantic_2_loss: 0.0011WARNING:tensorflow:Can save best model only with val_loss available, skipping.\n",
      "42/42 [==============================] - 24s 560ms/step - loss: 0.0101 - semantic_0_loss: 0.0028 - semantic_1_loss: 0.0062 - semantic_2_loss: 0.0011 - lr: 1.7053e-05\n",
      "Epoch 178/200\n",
      "42/42 [==============================] - ETA: 0s - loss: 0.0102 - semantic_0_loss: 0.0028 - semantic_1_loss: 0.0062 - semantic_2_loss: 0.0012WARNING:tensorflow:Can save best model only with val_loss available, skipping.\n",
      "42/42 [==============================] - 24s 560ms/step - loss: 0.0102 - semantic_0_loss: 0.0028 - semantic_1_loss: 0.0062 - semantic_2_loss: 0.0012 - lr: 1.6882e-05\n",
      "Epoch 179/200\n",
      "42/42 [==============================] - ETA: 0s - loss: 0.0102 - semantic_0_loss: 0.0028 - semantic_1_loss: 0.0062 - semantic_2_loss: 0.0011WARNING:tensorflow:Can save best model only with val_loss available, skipping.\n",
      "42/42 [==============================] - 24s 556ms/step - loss: 0.0102 - semantic_0_loss: 0.0028 - semantic_1_loss: 0.0062 - semantic_2_loss: 0.0011 - lr: 1.6713e-05\n",
      "Epoch 180/200\n",
      "42/42 [==============================] - ETA: 0s - loss: 0.0099 - semantic_0_loss: 0.0027 - semantic_1_loss: 0.0060 - semantic_2_loss: 0.0011WARNING:tensorflow:Can save best model only with val_loss available, skipping.\n",
      "42/42 [==============================] - 23s 547ms/step - loss: 0.0099 - semantic_0_loss: 0.0027 - semantic_1_loss: 0.0060 - semantic_2_loss: 0.0011 - lr: 1.6546e-05\n",
      "Epoch 181/200\n",
      "42/42 [==============================] - ETA: 0s - loss: 0.0101 - semantic_0_loss: 0.0028 - semantic_1_loss: 0.0062 - semantic_2_loss: 0.0011WARNING:tensorflow:Can save best model only with val_loss available, skipping.\n",
      "42/42 [==============================] - 23s 551ms/step - loss: 0.0101 - semantic_0_loss: 0.0028 - semantic_1_loss: 0.0062 - semantic_2_loss: 0.0011 - lr: 1.6381e-05\n",
      "Epoch 182/200\n",
      "42/42 [==============================] - ETA: 0s - loss: 0.0102 - semantic_0_loss: 0.0028 - semantic_1_loss: 0.0062 - semantic_2_loss: 0.0011WARNING:tensorflow:Can save best model only with val_loss available, skipping.\n",
      "42/42 [==============================] - 23s 553ms/step - loss: 0.0102 - semantic_0_loss: 0.0028 - semantic_1_loss: 0.0062 - semantic_2_loss: 0.0011 - lr: 1.6217e-05\n",
      "Epoch 183/200\n",
      "42/42 [==============================] - ETA: 0s - loss: 0.0102 - semantic_0_loss: 0.0028 - semantic_1_loss: 0.0063 - semantic_2_loss: 0.0011WARNING:tensorflow:Can save best model only with val_loss available, skipping.\n",
      "42/42 [==============================] - 24s 559ms/step - loss: 0.0102 - semantic_0_loss: 0.0028 - semantic_1_loss: 0.0063 - semantic_2_loss: 0.0011 - lr: 1.6055e-05\n",
      "Epoch 184/200\n",
      "42/42 [==============================] - ETA: 0s - loss: 0.0100 - semantic_0_loss: 0.0028 - semantic_1_loss: 0.0061 - semantic_2_loss: 0.0011WARNING:tensorflow:Can save best model only with val_loss available, skipping.\n",
      "42/42 [==============================] - 24s 554ms/step - loss: 0.0100 - semantic_0_loss: 0.0028 - semantic_1_loss: 0.0061 - semantic_2_loss: 0.0011 - lr: 1.5894e-05\n",
      "Epoch 185/200\n",
      "42/42 [==============================] - ETA: 0s - loss: 0.0101 - semantic_0_loss: 0.0028 - semantic_1_loss: 0.0062 - semantic_2_loss: 0.0011WARNING:tensorflow:Can save best model only with val_loss available, skipping.\n",
      "42/42 [==============================] - 24s 559ms/step - loss: 0.0101 - semantic_0_loss: 0.0028 - semantic_1_loss: 0.0062 - semantic_2_loss: 0.0011 - lr: 1.5735e-05\n",
      "Epoch 186/200\n",
      "42/42 [==============================] - ETA: 0s - loss: 0.0101 - semantic_0_loss: 0.0028 - semantic_1_loss: 0.0062 - semantic_2_loss: 0.0011WARNING:tensorflow:Can save best model only with val_loss available, skipping.\n",
      "42/42 [==============================] - 23s 553ms/step - loss: 0.0101 - semantic_0_loss: 0.0028 - semantic_1_loss: 0.0062 - semantic_2_loss: 0.0011 - lr: 1.5578e-05\n",
      "Epoch 187/200\n",
      "42/42 [==============================] - ETA: 0s - loss: 0.0100 - semantic_0_loss: 0.0028 - semantic_1_loss: 0.0061 - semantic_2_loss: 0.0011WARNING:tensorflow:Can save best model only with val_loss available, skipping.\n",
      "42/42 [==============================] - 24s 554ms/step - loss: 0.0100 - semantic_0_loss: 0.0028 - semantic_1_loss: 0.0061 - semantic_2_loss: 0.0011 - lr: 1.5422e-05\n",
      "Epoch 188/200\n",
      "42/42 [==============================] - ETA: 0s - loss: 0.0102 - semantic_0_loss: 0.0028 - semantic_1_loss: 0.0062 - semantic_2_loss: 0.0011WARNING:tensorflow:Can save best model only with val_loss available, skipping.\n",
      "42/42 [==============================] - 24s 556ms/step - loss: 0.0102 - semantic_0_loss: 0.0028 - semantic_1_loss: 0.0062 - semantic_2_loss: 0.0011 - lr: 1.5268e-05\n",
      "Epoch 189/200\n",
      "42/42 [==============================] - ETA: 0s - loss: 0.0101 - semantic_0_loss: 0.0028 - semantic_1_loss: 0.0062 - semantic_2_loss: 0.0011WARNING:tensorflow:Can save best model only with val_loss available, skipping.\n",
      "42/42 [==============================] - 23s 549ms/step - loss: 0.0101 - semantic_0_loss: 0.0028 - semantic_1_loss: 0.0062 - semantic_2_loss: 0.0011 - lr: 1.5115e-05\n",
      "Epoch 190/200\n",
      "42/42 [==============================] - ETA: 0s - loss: 0.0101 - semantic_0_loss: 0.0028 - semantic_1_loss: 0.0062 - semantic_2_loss: 0.0011WARNING:tensorflow:Can save best model only with val_loss available, skipping.\n",
      "42/42 [==============================] - 24s 558ms/step - loss: 0.0101 - semantic_0_loss: 0.0028 - semantic_1_loss: 0.0062 - semantic_2_loss: 0.0011 - lr: 1.4964e-05\n",
      "Epoch 191/200\n",
      "42/42 [==============================] - ETA: 0s - loss: 0.0101 - semantic_0_loss: 0.0028 - semantic_1_loss: 0.0061 - semantic_2_loss: 0.0011WARNING:tensorflow:Can save best model only with val_loss available, skipping.\n",
      "42/42 [==============================] - 23s 555ms/step - loss: 0.0101 - semantic_0_loss: 0.0028 - semantic_1_loss: 0.0061 - semantic_2_loss: 0.0011 - lr: 1.4814e-05\n",
      "Epoch 192/200\n",
      "42/42 [==============================] - ETA: 0s - loss: 0.0100 - semantic_0_loss: 0.0028 - semantic_1_loss: 0.0061 - semantic_2_loss: 0.0011WARNING:tensorflow:Can save best model only with val_loss available, skipping.\n",
      "42/42 [==============================] - 24s 565ms/step - loss: 0.0100 - semantic_0_loss: 0.0028 - semantic_1_loss: 0.0061 - semantic_2_loss: 0.0011 - lr: 1.4666e-05\n",
      "Epoch 193/200\n",
      "42/42 [==============================] - ETA: 0s - loss: 0.0100 - semantic_0_loss: 0.0028 - semantic_1_loss: 0.0061 - semantic_2_loss: 0.0011WARNING:tensorflow:Can save best model only with val_loss available, skipping.\n",
      "42/42 [==============================] - 23s 549ms/step - loss: 0.0100 - semantic_0_loss: 0.0028 - semantic_1_loss: 0.0061 - semantic_2_loss: 0.0011 - lr: 1.4520e-05\n",
      "Epoch 194/200\n",
      "42/42 [==============================] - ETA: 0s - loss: 0.0102 - semantic_0_loss: 0.0028 - semantic_1_loss: 0.0062 - semantic_2_loss: 0.0011WARNING:tensorflow:Can save best model only with val_loss available, skipping.\n",
      "42/42 [==============================] - 23s 553ms/step - loss: 0.0102 - semantic_0_loss: 0.0028 - semantic_1_loss: 0.0062 - semantic_2_loss: 0.0011 - lr: 1.4374e-05\n",
      "Epoch 195/200\n",
      "42/42 [==============================] - ETA: 0s - loss: 0.0100 - semantic_0_loss: 0.0028 - semantic_1_loss: 0.0061 - semantic_2_loss: 0.0011WARNING:tensorflow:Can save best model only with val_loss available, skipping.\n",
      "42/42 [==============================] - 24s 563ms/step - loss: 0.0100 - semantic_0_loss: 0.0028 - semantic_1_loss: 0.0061 - semantic_2_loss: 0.0011 - lr: 1.4231e-05\n",
      "Epoch 196/200\n",
      "42/42 [==============================] - ETA: 0s - loss: 0.0101 - semantic_0_loss: 0.0028 - semantic_1_loss: 0.0061 - semantic_2_loss: 0.0011WARNING:tensorflow:Can save best model only with val_loss available, skipping.\n",
      "42/42 [==============================] - 24s 557ms/step - loss: 0.0101 - semantic_0_loss: 0.0028 - semantic_1_loss: 0.0061 - semantic_2_loss: 0.0011 - lr: 1.4088e-05\n",
      "Epoch 197/200\n",
      "42/42 [==============================] - ETA: 0s - loss: 0.0101 - semantic_0_loss: 0.0028 - semantic_1_loss: 0.0062 - semantic_2_loss: 0.0011WARNING:tensorflow:Can save best model only with val_loss available, skipping.\n",
      "42/42 [==============================] - 23s 554ms/step - loss: 0.0101 - semantic_0_loss: 0.0028 - semantic_1_loss: 0.0062 - semantic_2_loss: 0.0011 - lr: 1.3948e-05\n",
      "Epoch 198/200\n",
      "42/42 [==============================] - ETA: 0s - loss: 0.0099 - semantic_0_loss: 0.0028 - semantic_1_loss: 0.0060 - semantic_2_loss: 0.0011WARNING:tensorflow:Can save best model only with val_loss available, skipping.\n",
      "42/42 [==============================] - 24s 559ms/step - loss: 0.0099 - semantic_0_loss: 0.0028 - semantic_1_loss: 0.0060 - semantic_2_loss: 0.0011 - lr: 1.3808e-05\n",
      "Epoch 199/200\n",
      "42/42 [==============================] - ETA: 0s - loss: 0.0102 - semantic_0_loss: 0.0028 - semantic_1_loss: 0.0062 - semantic_2_loss: 0.0011WARNING:tensorflow:Can save best model only with val_loss available, skipping.\n",
      "42/42 [==============================] - 24s 572ms/step - loss: 0.0102 - semantic_0_loss: 0.0028 - semantic_1_loss: 0.0062 - semantic_2_loss: 0.0011 - lr: 1.3670e-05\n",
      "Epoch 200/200\n",
      "42/42 [==============================] - ETA: 0s - loss: 0.0101 - semantic_0_loss: 0.0028 - semantic_1_loss: 0.0061 - semantic_2_loss: 0.0011WARNING:tensorflow:Can save best model only with val_loss available, skipping.\n",
      "42/42 [==============================] - 24s 566ms/step - loss: 0.0101 - semantic_0_loss: 0.0028 - semantic_1_loss: 0.0061 - semantic_2_loss: 0.0011 - lr: 1.3533e-05\n",
      "/home/yfong/deeplearning/dense_cell_segmentation\n",
      "['M926910_CFL_Position7_CD3_test_img.png', 'M872956_JML_Position10_CD3_test_img.png', 'M872956_JML_Position8_CD8_test_img.png', 'M926910_CFL_Position13_CD3_test_img.png', 'M872956_JML_Position8_CD3_test_img.png', 'M872956_JML_Position8_CD4_test_img.png', 'M872956_JML_Position9_CD3_test_img.png']\n",
      "M926910_CFL_Position7_CD3_test_img.png\n"
     ]
    },
    {
     "name": "stderr",
     "output_type": "stream",
     "text": [
      "/app/software/DeepCell/0.11.1-foss-2021b-CUDA-11.4.1/lib/python3.9/site-packages/deepcell_toolbox/deep_watershed.py:179: FutureWarning: `selem` is a deprecated argument name for `h_maxima`. It will be removed in version 1.0.Please use `footprint` instead.\n",
      "  markers = h_maxima(image=maxima,\n"
     ]
    },
    {
     "name": "stdout",
     "output_type": "stream",
     "text": [
      "M872956_JML_Position10_CD3_test_img.png\n",
      "M872956_JML_Position8_CD8_test_img.png\n",
      "M926910_CFL_Position13_CD3_test_img.png\n",
      "M872956_JML_Position8_CD3_test_img.png\n",
      "M872956_JML_Position8_CD4_test_img.png\n",
      "M872956_JML_Position9_CD3_test_img.png\n",
      "[[0.3714759535655058, 0.4077961019490255], [0.36101083032490977, 0.4506065857885615], [0.46994535519125685, 0.44545454545454544], [0.2857142857142857, 0.36879432624113473], [0.4618181818181818, 0.5636998254799301], [0.5750636132315522, 0.5635103926096998], [0.3388773388773389, 0.44889779559118237]]\n",
      "                                         0         1         2\n",
      "0   M926910_CFL_Position7_CD3_test_img.png  0.371476  0.407796\n",
      "1  M872956_JML_Position10_CD3_test_img.png  0.361011  0.450607\n",
      "2   M872956_JML_Position8_CD8_test_img.png  0.469945  0.445455\n",
      "3  M926910_CFL_Position13_CD3_test_img.png  0.285714  0.368794\n",
      "4   M872956_JML_Position8_CD3_test_img.png  0.461818    0.5637\n",
      "5   M872956_JML_Position8_CD4_test_img.png  0.575064   0.56351\n",
      "6   M872956_JML_Position9_CD3_test_img.png  0.338877  0.448898\n",
      "WARNING:tensorflow:Removing 6 of 175 images with fewer than 5 objects.\n"
     ]
    },
    {
     "name": "stderr",
     "output_type": "stream",
     "text": [
      "WARNING:tensorflow:Removing 6 of 175 images with fewer than 5 objects.\n",
      "/app/software/TensorFlow/2.7.1-foss-2021b-CUDA-11.4.1/lib/python3.9/site-packages/keras/optimizer_v2/adam.py:105: UserWarning: The `lr` argument is deprecated, use `learning_rate` instead.\n",
      "  super(Adam, self).__init__(name, **kwargs)\n"
     ]
    },
    {
     "name": "stdout",
     "output_type": "stream",
     "text": [
      "Training on 3 GPUs.\n"
     ]
    },
    {
     "name": "stderr",
     "output_type": "stream",
     "text": [
      "2022-11-13 02:15:20.285345: I tensorflow/core/common_runtime/gpu/gpu_device.cc:1525] Created device /device:GPU:0 with 14657 MB memory:  -> device: 0, name: Tesla V100-PCIE-16GB, pci bus id: 0000:04:00.0, compute capability: 7.0\n",
      "2022-11-13 02:15:20.286432: I tensorflow/core/common_runtime/gpu/gpu_device.cc:1525] Created device /device:GPU:1 with 14657 MB memory:  -> device: 1, name: Tesla V100-PCIE-16GB, pci bus id: 0000:06:00.0, compute capability: 7.0\n",
      "2022-11-13 02:15:20.287497: I tensorflow/core/common_runtime/gpu/gpu_device.cc:1525] Created device /device:GPU:2 with 14657 MB memory:  -> device: 2, name: Tesla V100-PCIE-16GB, pci bus id: 0000:08:00.0, compute capability: 7.0\n"
     ]
    },
    {
     "name": "stdout",
     "output_type": "stream",
     "text": [
      "Epoch 1/200\n",
      "42/42 [==============================] - ETA: 0s - loss: 0.0166 - semantic_0_loss: 0.0042 - semantic_1_loss: 0.0103 - semantic_2_loss: 0.0021WARNING:tensorflow:Can save best model only with val_loss available, skipping.\n"
     ]
    },
    {
     "name": "stderr",
     "output_type": "stream",
     "text": [
      "WARNING:tensorflow:Can save best model only with val_loss available, skipping.\n"
     ]
    },
    {
     "name": "stdout",
     "output_type": "stream",
     "text": [
      "42/42 [==============================] - 37s 555ms/step - loss: 0.0166 - semantic_0_loss: 0.0042 - semantic_1_loss: 0.0103 - semantic_2_loss: 0.0021 - lr: 1.0000e-04\n",
      "Epoch 2/200\n",
      "42/42 [==============================] - ETA: 0s - loss: 0.0142 - semantic_0_loss: 0.0036 - semantic_1_loss: 0.0091 - semantic_2_loss: 0.0016WARNING:tensorflow:Can save best model only with val_loss available, skipping.\n"
     ]
    },
    {
     "name": "stderr",
     "output_type": "stream",
     "text": [
      "WARNING:tensorflow:Can save best model only with val_loss available, skipping.\n"
     ]
    },
    {
     "name": "stdout",
     "output_type": "stream",
     "text": [
      "42/42 [==============================] - 24s 564ms/step - loss: 0.0142 - semantic_0_loss: 0.0036 - semantic_1_loss: 0.0091 - semantic_2_loss: 0.0016 - lr: 9.9000e-05\n",
      "Epoch 3/200\n",
      "42/42 [==============================] - ETA: 0s - loss: 0.0135 - semantic_0_loss: 0.0034 - semantic_1_loss: 0.0086 - semantic_2_loss: 0.0015WARNING:tensorflow:Can save best model only with val_loss available, skipping.\n"
     ]
    },
    {
     "name": "stderr",
     "output_type": "stream",
     "text": [
      "WARNING:tensorflow:Can save best model only with val_loss available, skipping.\n"
     ]
    },
    {
     "name": "stdout",
     "output_type": "stream",
     "text": [
      "42/42 [==============================] - 24s 566ms/step - loss: 0.0135 - semantic_0_loss: 0.0034 - semantic_1_loss: 0.0086 - semantic_2_loss: 0.0015 - lr: 9.8010e-05\n",
      "Epoch 4/200\n",
      "42/42 [==============================] - ETA: 0s - loss: 0.0138 - semantic_0_loss: 0.0035 - semantic_1_loss: 0.0088 - semantic_2_loss: 0.0015WARNING:tensorflow:Can save best model only with val_loss available, skipping.\n"
     ]
    },
    {
     "name": "stderr",
     "output_type": "stream",
     "text": [
      "WARNING:tensorflow:Can save best model only with val_loss available, skipping.\n"
     ]
    },
    {
     "name": "stdout",
     "output_type": "stream",
     "text": [
      "42/42 [==============================] - 24s 557ms/step - loss: 0.0138 - semantic_0_loss: 0.0035 - semantic_1_loss: 0.0088 - semantic_2_loss: 0.0015 - lr: 9.7030e-05\n",
      "Epoch 5/200\n",
      "42/42 [==============================] - ETA: 0s - loss: 0.0133 - semantic_0_loss: 0.0034 - semantic_1_loss: 0.0085 - semantic_2_loss: 0.0015WARNING:tensorflow:Can save best model only with val_loss available, skipping.\n"
     ]
    },
    {
     "name": "stderr",
     "output_type": "stream",
     "text": [
      "WARNING:tensorflow:Can save best model only with val_loss available, skipping.\n"
     ]
    },
    {
     "name": "stdout",
     "output_type": "stream",
     "text": [
      "42/42 [==============================] - 23s 545ms/step - loss: 0.0133 - semantic_0_loss: 0.0034 - semantic_1_loss: 0.0085 - semantic_2_loss: 0.0015 - lr: 9.6060e-05\n",
      "Epoch 6/200\n",
      "42/42 [==============================] - ETA: 0s - loss: 0.0134 - semantic_0_loss: 0.0034 - semantic_1_loss: 0.0085 - semantic_2_loss: 0.0014WARNING:tensorflow:Can save best model only with val_loss available, skipping.\n"
     ]
    },
    {
     "name": "stderr",
     "output_type": "stream",
     "text": [
      "WARNING:tensorflow:Can save best model only with val_loss available, skipping.\n"
     ]
    },
    {
     "name": "stdout",
     "output_type": "stream",
     "text": [
      "42/42 [==============================] - 24s 562ms/step - loss: 0.0134 - semantic_0_loss: 0.0034 - semantic_1_loss: 0.0085 - semantic_2_loss: 0.0014 - lr: 9.5099e-05\n",
      "Epoch 7/200\n",
      "42/42 [==============================] - ETA: 0s - loss: 0.0131 - semantic_0_loss: 0.0034 - semantic_1_loss: 0.0083 - semantic_2_loss: 0.0014WARNING:tensorflow:Can save best model only with val_loss available, skipping.\n"
     ]
    },
    {
     "name": "stderr",
     "output_type": "stream",
     "text": [
      "WARNING:tensorflow:Can save best model only with val_loss available, skipping.\n"
     ]
    },
    {
     "name": "stdout",
     "output_type": "stream",
     "text": [
      "42/42 [==============================] - 23s 553ms/step - loss: 0.0131 - semantic_0_loss: 0.0034 - semantic_1_loss: 0.0083 - semantic_2_loss: 0.0014 - lr: 9.4148e-05\n",
      "Epoch 8/200\n",
      "42/42 [==============================] - ETA: 0s - loss: 0.0130 - semantic_0_loss: 0.0033 - semantic_1_loss: 0.0083 - semantic_2_loss: 0.0014WARNING:tensorflow:Can save best model only with val_loss available, skipping.\n"
     ]
    },
    {
     "name": "stderr",
     "output_type": "stream",
     "text": [
      "WARNING:tensorflow:Can save best model only with val_loss available, skipping.\n"
     ]
    },
    {
     "name": "stdout",
     "output_type": "stream",
     "text": [
      "42/42 [==============================] - 23s 545ms/step - loss: 0.0130 - semantic_0_loss: 0.0033 - semantic_1_loss: 0.0083 - semantic_2_loss: 0.0014 - lr: 9.3207e-05\n",
      "Epoch 9/200\n",
      "42/42 [==============================] - ETA: 0s - loss: 0.0129 - semantic_0_loss: 0.0033 - semantic_1_loss: 0.0082 - semantic_2_loss: 0.0014WARNING:tensorflow:Can save best model only with val_loss available, skipping.\n"
     ]
    },
    {
     "name": "stderr",
     "output_type": "stream",
     "text": [
      "WARNING:tensorflow:Can save best model only with val_loss available, skipping.\n"
     ]
    },
    {
     "name": "stdout",
     "output_type": "stream",
     "text": [
      "42/42 [==============================] - 23s 554ms/step - loss: 0.0129 - semantic_0_loss: 0.0033 - semantic_1_loss: 0.0082 - semantic_2_loss: 0.0014 - lr: 9.2274e-05\n",
      "Epoch 10/200\n",
      "42/42 [==============================] - ETA: 0s - loss: 0.0130 - semantic_0_loss: 0.0033 - semantic_1_loss: 0.0083 - semantic_2_loss: 0.0014WARNING:tensorflow:Can save best model only with val_loss available, skipping.\n"
     ]
    },
    {
     "name": "stderr",
     "output_type": "stream",
     "text": [
      "WARNING:tensorflow:Can save best model only with val_loss available, skipping.\n"
     ]
    },
    {
     "name": "stdout",
     "output_type": "stream",
     "text": [
      "42/42 [==============================] - 23s 552ms/step - loss: 0.0130 - semantic_0_loss: 0.0033 - semantic_1_loss: 0.0083 - semantic_2_loss: 0.0014 - lr: 9.1352e-05\n",
      "Epoch 11/200\n",
      "42/42 [==============================] - ETA: 0s - loss: 0.0130 - semantic_0_loss: 0.0033 - semantic_1_loss: 0.0082 - semantic_2_loss: 0.0014WARNING:tensorflow:Can save best model only with val_loss available, skipping.\n"
     ]
    },
    {
     "name": "stderr",
     "output_type": "stream",
     "text": [
      "WARNING:tensorflow:Can save best model only with val_loss available, skipping.\n"
     ]
    },
    {
     "name": "stdout",
     "output_type": "stream",
     "text": [
      "42/42 [==============================] - 24s 561ms/step - loss: 0.0130 - semantic_0_loss: 0.0033 - semantic_1_loss: 0.0082 - semantic_2_loss: 0.0014 - lr: 9.0438e-05\n",
      "Epoch 12/200\n",
      "42/42 [==============================] - ETA: 0s - loss: 0.0126 - semantic_0_loss: 0.0032 - semantic_1_loss: 0.0080 - semantic_2_loss: 0.0014WARNING:tensorflow:Can save best model only with val_loss available, skipping.\n"
     ]
    },
    {
     "name": "stderr",
     "output_type": "stream",
     "text": [
      "WARNING:tensorflow:Can save best model only with val_loss available, skipping.\n"
     ]
    },
    {
     "name": "stdout",
     "output_type": "stream",
     "text": [
      "42/42 [==============================] - 23s 553ms/step - loss: 0.0126 - semantic_0_loss: 0.0032 - semantic_1_loss: 0.0080 - semantic_2_loss: 0.0014 - lr: 8.9534e-05\n",
      "Epoch 13/200\n",
      "42/42 [==============================] - ETA: 0s - loss: 0.0128 - semantic_0_loss: 0.0033 - semantic_1_loss: 0.0081 - semantic_2_loss: 0.0014WARNING:tensorflow:Can save best model only with val_loss available, skipping.\n"
     ]
    },
    {
     "name": "stderr",
     "output_type": "stream",
     "text": [
      "WARNING:tensorflow:Can save best model only with val_loss available, skipping.\n"
     ]
    },
    {
     "name": "stdout",
     "output_type": "stream",
     "text": [
      "42/42 [==============================] - 23s 553ms/step - loss: 0.0128 - semantic_0_loss: 0.0033 - semantic_1_loss: 0.0081 - semantic_2_loss: 0.0014 - lr: 8.8638e-05\n",
      "Epoch 14/200\n",
      "42/42 [==============================] - ETA: 0s - loss: 0.0127 - semantic_0_loss: 0.0033 - semantic_1_loss: 0.0080 - semantic_2_loss: 0.0014WARNING:tensorflow:Can save best model only with val_loss available, skipping.\n"
     ]
    },
    {
     "name": "stderr",
     "output_type": "stream",
     "text": [
      "WARNING:tensorflow:Can save best model only with val_loss available, skipping.\n"
     ]
    },
    {
     "name": "stdout",
     "output_type": "stream",
     "text": [
      "42/42 [==============================] - 24s 559ms/step - loss: 0.0127 - semantic_0_loss: 0.0033 - semantic_1_loss: 0.0080 - semantic_2_loss: 0.0014 - lr: 8.7752e-05\n",
      "Epoch 15/200\n",
      "42/42 [==============================] - ETA: 0s - loss: 0.0124 - semantic_0_loss: 0.0032 - semantic_1_loss: 0.0079 - semantic_2_loss: 0.0014WARNING:tensorflow:Can save best model only with val_loss available, skipping.\n"
     ]
    },
    {
     "name": "stderr",
     "output_type": "stream",
     "text": [
      "WARNING:tensorflow:Can save best model only with val_loss available, skipping.\n"
     ]
    },
    {
     "name": "stdout",
     "output_type": "stream",
     "text": [
      "42/42 [==============================] - 23s 553ms/step - loss: 0.0124 - semantic_0_loss: 0.0032 - semantic_1_loss: 0.0079 - semantic_2_loss: 0.0014 - lr: 8.6875e-05\n",
      "Epoch 16/200\n",
      "42/42 [==============================] - ETA: 0s - loss: 0.0128 - semantic_0_loss: 0.0033 - semantic_1_loss: 0.0081 - semantic_2_loss: 0.0014WARNING:tensorflow:Can save best model only with val_loss available, skipping.\n"
     ]
    },
    {
     "name": "stderr",
     "output_type": "stream",
     "text": [
      "WARNING:tensorflow:Can save best model only with val_loss available, skipping.\n"
     ]
    },
    {
     "name": "stdout",
     "output_type": "stream",
     "text": [
      "42/42 [==============================] - 24s 566ms/step - loss: 0.0128 - semantic_0_loss: 0.0033 - semantic_1_loss: 0.0081 - semantic_2_loss: 0.0014 - lr: 8.6006e-05\n",
      "Epoch 17/200\n",
      "42/42 [==============================] - ETA: 0s - loss: 0.0126 - semantic_0_loss: 0.0032 - semantic_1_loss: 0.0080 - semantic_2_loss: 0.0014WARNING:tensorflow:Can save best model only with val_loss available, skipping.\n"
     ]
    },
    {
     "name": "stderr",
     "output_type": "stream",
     "text": [
      "WARNING:tensorflow:Can save best model only with val_loss available, skipping.\n"
     ]
    },
    {
     "name": "stdout",
     "output_type": "stream",
     "text": [
      "42/42 [==============================] - 23s 554ms/step - loss: 0.0126 - semantic_0_loss: 0.0032 - semantic_1_loss: 0.0080 - semantic_2_loss: 0.0014 - lr: 8.5146e-05\n",
      "Epoch 18/200\n",
      "42/42 [==============================] - ETA: 0s - loss: 0.0124 - semantic_0_loss: 0.0032 - semantic_1_loss: 0.0079 - semantic_2_loss: 0.0014WARNING:tensorflow:Can save best model only with val_loss available, skipping.\n"
     ]
    },
    {
     "name": "stderr",
     "output_type": "stream",
     "text": [
      "WARNING:tensorflow:Can save best model only with val_loss available, skipping.\n"
     ]
    },
    {
     "name": "stdout",
     "output_type": "stream",
     "text": [
      "42/42 [==============================] - 24s 568ms/step - loss: 0.0124 - semantic_0_loss: 0.0032 - semantic_1_loss: 0.0079 - semantic_2_loss: 0.0014 - lr: 8.4294e-05\n",
      "Epoch 19/200\n",
      "42/42 [==============================] - ETA: 0s - loss: 0.0124 - semantic_0_loss: 0.0032 - semantic_1_loss: 0.0079 - semantic_2_loss: 0.0014WARNING:tensorflow:Can save best model only with val_loss available, skipping.\n"
     ]
    },
    {
     "name": "stderr",
     "output_type": "stream",
     "text": [
      "WARNING:tensorflow:Can save best model only with val_loss available, skipping.\n"
     ]
    },
    {
     "name": "stdout",
     "output_type": "stream",
     "text": [
      "42/42 [==============================] - 24s 556ms/step - loss: 0.0124 - semantic_0_loss: 0.0032 - semantic_1_loss: 0.0079 - semantic_2_loss: 0.0014 - lr: 8.3451e-05\n",
      "Epoch 20/200\n",
      "42/42 [==============================] - ETA: 0s - loss: 0.0125 - semantic_0_loss: 0.0032 - semantic_1_loss: 0.0079 - semantic_2_loss: 0.0014WARNING:tensorflow:Can save best model only with val_loss available, skipping.\n"
     ]
    },
    {
     "name": "stderr",
     "output_type": "stream",
     "text": [
      "WARNING:tensorflow:Can save best model only with val_loss available, skipping.\n"
     ]
    },
    {
     "name": "stdout",
     "output_type": "stream",
     "text": [
      "42/42 [==============================] - 24s 559ms/step - loss: 0.0125 - semantic_0_loss: 0.0032 - semantic_1_loss: 0.0079 - semantic_2_loss: 0.0014 - lr: 8.2617e-05\n",
      "Epoch 21/200\n",
      "42/42 [==============================] - ETA: 0s - loss: 0.0121 - semantic_0_loss: 0.0032 - semantic_1_loss: 0.0077 - semantic_2_loss: 0.0013WARNING:tensorflow:Can save best model only with val_loss available, skipping.\n"
     ]
    },
    {
     "name": "stderr",
     "output_type": "stream",
     "text": [
      "WARNING:tensorflow:Can save best model only with val_loss available, skipping.\n"
     ]
    },
    {
     "name": "stdout",
     "output_type": "stream",
     "text": [
      "42/42 [==============================] - 23s 551ms/step - loss: 0.0121 - semantic_0_loss: 0.0032 - semantic_1_loss: 0.0077 - semantic_2_loss: 0.0013 - lr: 8.1791e-05\n",
      "Epoch 22/200\n",
      "42/42 [==============================] - ETA: 0s - loss: 0.0122 - semantic_0_loss: 0.0032 - semantic_1_loss: 0.0077 - semantic_2_loss: 0.0013WARNING:tensorflow:Can save best model only with val_loss available, skipping.\n"
     ]
    },
    {
     "name": "stderr",
     "output_type": "stream",
     "text": [
      "WARNING:tensorflow:Can save best model only with val_loss available, skipping.\n"
     ]
    },
    {
     "name": "stdout",
     "output_type": "stream",
     "text": [
      "42/42 [==============================] - 24s 568ms/step - loss: 0.0122 - semantic_0_loss: 0.0032 - semantic_1_loss: 0.0077 - semantic_2_loss: 0.0013 - lr: 8.0973e-05\n",
      "Epoch 23/200\n",
      "42/42 [==============================] - ETA: 0s - loss: 0.0124 - semantic_0_loss: 0.0032 - semantic_1_loss: 0.0079 - semantic_2_loss: 0.0014WARNING:tensorflow:Can save best model only with val_loss available, skipping.\n"
     ]
    },
    {
     "name": "stderr",
     "output_type": "stream",
     "text": [
      "WARNING:tensorflow:Can save best model only with val_loss available, skipping.\n"
     ]
    },
    {
     "name": "stdout",
     "output_type": "stream",
     "text": [
      "42/42 [==============================] - 24s 554ms/step - loss: 0.0124 - semantic_0_loss: 0.0032 - semantic_1_loss: 0.0079 - semantic_2_loss: 0.0014 - lr: 8.0163e-05\n",
      "Epoch 24/200\n",
      "42/42 [==============================] - ETA: 0s - loss: 0.0122 - semantic_0_loss: 0.0032 - semantic_1_loss: 0.0076 - semantic_2_loss: 0.0013WARNING:tensorflow:Can save best model only with val_loss available, skipping.\n"
     ]
    },
    {
     "name": "stderr",
     "output_type": "stream",
     "text": [
      "WARNING:tensorflow:Can save best model only with val_loss available, skipping.\n"
     ]
    },
    {
     "name": "stdout",
     "output_type": "stream",
     "text": [
      "42/42 [==============================] - 24s 564ms/step - loss: 0.0122 - semantic_0_loss: 0.0032 - semantic_1_loss: 0.0076 - semantic_2_loss: 0.0013 - lr: 7.9361e-05\n",
      "Epoch 25/200\n",
      "42/42 [==============================] - ETA: 0s - loss: 0.0121 - semantic_0_loss: 0.0032 - semantic_1_loss: 0.0076 - semantic_2_loss: 0.0013WARNING:tensorflow:Can save best model only with val_loss available, skipping.\n"
     ]
    },
    {
     "name": "stderr",
     "output_type": "stream",
     "text": [
      "WARNING:tensorflow:Can save best model only with val_loss available, skipping.\n"
     ]
    },
    {
     "name": "stdout",
     "output_type": "stream",
     "text": [
      "42/42 [==============================] - 24s 558ms/step - loss: 0.0121 - semantic_0_loss: 0.0032 - semantic_1_loss: 0.0076 - semantic_2_loss: 0.0013 - lr: 7.8568e-05\n",
      "Epoch 26/200\n",
      "42/42 [==============================] - ETA: 0s - loss: 0.0122 - semantic_0_loss: 0.0032 - semantic_1_loss: 0.0077 - semantic_2_loss: 0.0013WARNING:tensorflow:Can save best model only with val_loss available, skipping.\n"
     ]
    },
    {
     "name": "stderr",
     "output_type": "stream",
     "text": [
      "WARNING:tensorflow:Can save best model only with val_loss available, skipping.\n"
     ]
    },
    {
     "name": "stdout",
     "output_type": "stream",
     "text": [
      "42/42 [==============================] - 24s 565ms/step - loss: 0.0122 - semantic_0_loss: 0.0032 - semantic_1_loss: 0.0077 - semantic_2_loss: 0.0013 - lr: 7.7782e-05\n",
      "Epoch 27/200\n",
      "42/42 [==============================] - ETA: 0s - loss: 0.0120 - semantic_0_loss: 0.0031 - semantic_1_loss: 0.0076 - semantic_2_loss: 0.0013WARNING:tensorflow:Can save best model only with val_loss available, skipping.\n"
     ]
    },
    {
     "name": "stderr",
     "output_type": "stream",
     "text": [
      "WARNING:tensorflow:Can save best model only with val_loss available, skipping.\n"
     ]
    },
    {
     "name": "stdout",
     "output_type": "stream",
     "text": [
      "42/42 [==============================] - 23s 553ms/step - loss: 0.0120 - semantic_0_loss: 0.0031 - semantic_1_loss: 0.0076 - semantic_2_loss: 0.0013 - lr: 7.7004e-05\n",
      "Epoch 28/200\n",
      "42/42 [==============================] - ETA: 0s - loss: 0.0121 - semantic_0_loss: 0.0032 - semantic_1_loss: 0.0076 - semantic_2_loss: 0.0013WARNING:tensorflow:Can save best model only with val_loss available, skipping.\n"
     ]
    },
    {
     "name": "stderr",
     "output_type": "stream",
     "text": [
      "WARNING:tensorflow:Can save best model only with val_loss available, skipping.\n"
     ]
    },
    {
     "name": "stdout",
     "output_type": "stream",
     "text": [
      "42/42 [==============================] - 24s 567ms/step - loss: 0.0121 - semantic_0_loss: 0.0032 - semantic_1_loss: 0.0076 - semantic_2_loss: 0.0013 - lr: 7.6234e-05\n",
      "Epoch 29/200\n",
      "42/42 [==============================] - ETA: 0s - loss: 0.0119 - semantic_0_loss: 0.0031 - semantic_1_loss: 0.0075 - semantic_2_loss: 0.0013WARNING:tensorflow:Can save best model only with val_loss available, skipping.\n"
     ]
    },
    {
     "name": "stderr",
     "output_type": "stream",
     "text": [
      "WARNING:tensorflow:Can save best model only with val_loss available, skipping.\n"
     ]
    },
    {
     "name": "stdout",
     "output_type": "stream",
     "text": [
      "42/42 [==============================] - 24s 559ms/step - loss: 0.0119 - semantic_0_loss: 0.0031 - semantic_1_loss: 0.0075 - semantic_2_loss: 0.0013 - lr: 7.5472e-05\n",
      "Epoch 30/200\n",
      "42/42 [==============================] - ETA: 0s - loss: 0.0117 - semantic_0_loss: 0.0030 - semantic_1_loss: 0.0073 - semantic_2_loss: 0.0013WARNING:tensorflow:Can save best model only with val_loss available, skipping.\n"
     ]
    },
    {
     "name": "stderr",
     "output_type": "stream",
     "text": [
      "WARNING:tensorflow:Can save best model only with val_loss available, skipping.\n"
     ]
    },
    {
     "name": "stdout",
     "output_type": "stream",
     "text": [
      "42/42 [==============================] - 24s 558ms/step - loss: 0.0117 - semantic_0_loss: 0.0030 - semantic_1_loss: 0.0073 - semantic_2_loss: 0.0013 - lr: 7.4717e-05\n",
      "Epoch 31/200\n",
      "42/42 [==============================] - ETA: 0s - loss: 0.0120 - semantic_0_loss: 0.0031 - semantic_1_loss: 0.0075 - semantic_2_loss: 0.0013WARNING:tensorflow:Can save best model only with val_loss available, skipping.\n"
     ]
    },
    {
     "name": "stderr",
     "output_type": "stream",
     "text": [
      "WARNING:tensorflow:Can save best model only with val_loss available, skipping.\n"
     ]
    },
    {
     "name": "stdout",
     "output_type": "stream",
     "text": [
      "42/42 [==============================] - 23s 553ms/step - loss: 0.0120 - semantic_0_loss: 0.0031 - semantic_1_loss: 0.0075 - semantic_2_loss: 0.0013 - lr: 7.3970e-05\n",
      "Epoch 32/200\n",
      "42/42 [==============================] - ETA: 0s - loss: 0.0118 - semantic_0_loss: 0.0031 - semantic_1_loss: 0.0075 - semantic_2_loss: 0.0013WARNING:tensorflow:Can save best model only with val_loss available, skipping.\n"
     ]
    },
    {
     "name": "stderr",
     "output_type": "stream",
     "text": [
      "WARNING:tensorflow:Can save best model only with val_loss available, skipping.\n"
     ]
    },
    {
     "name": "stdout",
     "output_type": "stream",
     "text": [
      "42/42 [==============================] - 23s 550ms/step - loss: 0.0118 - semantic_0_loss: 0.0031 - semantic_1_loss: 0.0075 - semantic_2_loss: 0.0013 - lr: 7.3230e-05\n",
      "Epoch 33/200\n",
      "42/42 [==============================] - ETA: 0s - loss: 0.0118 - semantic_0_loss: 0.0031 - semantic_1_loss: 0.0075 - semantic_2_loss: 0.0013WARNING:tensorflow:Can save best model only with val_loss available, skipping.\n"
     ]
    },
    {
     "name": "stderr",
     "output_type": "stream",
     "text": [
      "WARNING:tensorflow:Can save best model only with val_loss available, skipping.\n"
     ]
    },
    {
     "name": "stdout",
     "output_type": "stream",
     "text": [
      "42/42 [==============================] - 23s 555ms/step - loss: 0.0118 - semantic_0_loss: 0.0031 - semantic_1_loss: 0.0075 - semantic_2_loss: 0.0013 - lr: 7.2498e-05\n",
      "Epoch 34/200\n",
      "42/42 [==============================] - ETA: 0s - loss: 0.0118 - semantic_0_loss: 0.0031 - semantic_1_loss: 0.0074 - semantic_2_loss: 0.0013WARNING:tensorflow:Can save best model only with val_loss available, skipping.\n"
     ]
    },
    {
     "name": "stderr",
     "output_type": "stream",
     "text": [
      "WARNING:tensorflow:Can save best model only with val_loss available, skipping.\n"
     ]
    },
    {
     "name": "stdout",
     "output_type": "stream",
     "text": [
      "42/42 [==============================] - 23s 552ms/step - loss: 0.0118 - semantic_0_loss: 0.0031 - semantic_1_loss: 0.0074 - semantic_2_loss: 0.0013 - lr: 7.1773e-05\n",
      "Epoch 35/200\n",
      "42/42 [==============================] - ETA: 0s - loss: 0.0120 - semantic_0_loss: 0.0032 - semantic_1_loss: 0.0076 - semantic_2_loss: 0.0013WARNING:tensorflow:Can save best model only with val_loss available, skipping.\n"
     ]
    },
    {
     "name": "stderr",
     "output_type": "stream",
     "text": [
      "WARNING:tensorflow:Can save best model only with val_loss available, skipping.\n"
     ]
    },
    {
     "name": "stdout",
     "output_type": "stream",
     "text": [
      "42/42 [==============================] - 24s 565ms/step - loss: 0.0120 - semantic_0_loss: 0.0032 - semantic_1_loss: 0.0076 - semantic_2_loss: 0.0013 - lr: 7.1055e-05\n",
      "Epoch 36/200\n",
      "42/42 [==============================] - ETA: 0s - loss: 0.0115 - semantic_0_loss: 0.0030 - semantic_1_loss: 0.0072 - semantic_2_loss: 0.0013WARNING:tensorflow:Can save best model only with val_loss available, skipping.\n"
     ]
    },
    {
     "name": "stderr",
     "output_type": "stream",
     "text": [
      "WARNING:tensorflow:Can save best model only with val_loss available, skipping.\n"
     ]
    },
    {
     "name": "stdout",
     "output_type": "stream",
     "text": [
      "42/42 [==============================] - 23s 553ms/step - loss: 0.0115 - semantic_0_loss: 0.0030 - semantic_1_loss: 0.0072 - semantic_2_loss: 0.0013 - lr: 7.0345e-05\n",
      "Epoch 37/200\n",
      "42/42 [==============================] - ETA: 0s - loss: 0.0116 - semantic_0_loss: 0.0030 - semantic_1_loss: 0.0073 - semantic_2_loss: 0.0013WARNING:tensorflow:Can save best model only with val_loss available, skipping.\n"
     ]
    },
    {
     "name": "stderr",
     "output_type": "stream",
     "text": [
      "WARNING:tensorflow:Can save best model only with val_loss available, skipping.\n"
     ]
    },
    {
     "name": "stdout",
     "output_type": "stream",
     "text": [
      "42/42 [==============================] - 23s 554ms/step - loss: 0.0116 - semantic_0_loss: 0.0030 - semantic_1_loss: 0.0073 - semantic_2_loss: 0.0013 - lr: 6.9641e-05\n",
      "Epoch 38/200\n",
      "42/42 [==============================] - ETA: 0s - loss: 0.0114 - semantic_0_loss: 0.0030 - semantic_1_loss: 0.0072 - semantic_2_loss: 0.0013WARNING:tensorflow:Can save best model only with val_loss available, skipping.\n"
     ]
    },
    {
     "name": "stderr",
     "output_type": "stream",
     "text": [
      "WARNING:tensorflow:Can save best model only with val_loss available, skipping.\n"
     ]
    },
    {
     "name": "stdout",
     "output_type": "stream",
     "text": [
      "42/42 [==============================] - 24s 557ms/step - loss: 0.0114 - semantic_0_loss: 0.0030 - semantic_1_loss: 0.0072 - semantic_2_loss: 0.0013 - lr: 6.8945e-05\n",
      "Epoch 39/200\n",
      "42/42 [==============================] - ETA: 0s - loss: 0.0116 - semantic_0_loss: 0.0031 - semantic_1_loss: 0.0073 - semantic_2_loss: 0.0013WARNING:tensorflow:Can save best model only with val_loss available, skipping.\n"
     ]
    },
    {
     "name": "stderr",
     "output_type": "stream",
     "text": [
      "WARNING:tensorflow:Can save best model only with val_loss available, skipping.\n"
     ]
    },
    {
     "name": "stdout",
     "output_type": "stream",
     "text": [
      "42/42 [==============================] - 24s 555ms/step - loss: 0.0116 - semantic_0_loss: 0.0031 - semantic_1_loss: 0.0073 - semantic_2_loss: 0.0013 - lr: 6.8255e-05\n",
      "Epoch 40/200\n",
      "42/42 [==============================] - ETA: 0s - loss: 0.0116 - semantic_0_loss: 0.0031 - semantic_1_loss: 0.0073 - semantic_2_loss: 0.0013WARNING:tensorflow:Can save best model only with val_loss available, skipping.\n"
     ]
    },
    {
     "name": "stderr",
     "output_type": "stream",
     "text": [
      "WARNING:tensorflow:Can save best model only with val_loss available, skipping.\n"
     ]
    },
    {
     "name": "stdout",
     "output_type": "stream",
     "text": [
      "42/42 [==============================] - 24s 562ms/step - loss: 0.0116 - semantic_0_loss: 0.0031 - semantic_1_loss: 0.0073 - semantic_2_loss: 0.0013 - lr: 6.7573e-05\n",
      "Epoch 41/200\n",
      "42/42 [==============================] - ETA: 0s - loss: 0.0114 - semantic_0_loss: 0.0030 - semantic_1_loss: 0.0071 - semantic_2_loss: 0.0013WARNING:tensorflow:Can save best model only with val_loss available, skipping.\n"
     ]
    },
    {
     "name": "stderr",
     "output_type": "stream",
     "text": [
      "WARNING:tensorflow:Can save best model only with val_loss available, skipping.\n"
     ]
    },
    {
     "name": "stdout",
     "output_type": "stream",
     "text": [
      "42/42 [==============================] - 24s 557ms/step - loss: 0.0114 - semantic_0_loss: 0.0030 - semantic_1_loss: 0.0071 - semantic_2_loss: 0.0013 - lr: 6.6897e-05\n",
      "Epoch 42/200\n",
      "42/42 [==============================] - ETA: 0s - loss: 0.0116 - semantic_0_loss: 0.0031 - semantic_1_loss: 0.0073 - semantic_2_loss: 0.0013WARNING:tensorflow:Can save best model only with val_loss available, skipping.\n"
     ]
    },
    {
     "name": "stderr",
     "output_type": "stream",
     "text": [
      "WARNING:tensorflow:Can save best model only with val_loss available, skipping.\n"
     ]
    },
    {
     "name": "stdout",
     "output_type": "stream",
     "text": [
      "42/42 [==============================] - 24s 563ms/step - loss: 0.0116 - semantic_0_loss: 0.0031 - semantic_1_loss: 0.0073 - semantic_2_loss: 0.0013 - lr: 6.6228e-05\n",
      "Epoch 43/200\n",
      "42/42 [==============================] - ETA: 0s - loss: 0.0115 - semantic_0_loss: 0.0030 - semantic_1_loss: 0.0072 - semantic_2_loss: 0.0013WARNING:tensorflow:Can save best model only with val_loss available, skipping.\n"
     ]
    },
    {
     "name": "stderr",
     "output_type": "stream",
     "text": [
      "WARNING:tensorflow:Can save best model only with val_loss available, skipping.\n"
     ]
    },
    {
     "name": "stdout",
     "output_type": "stream",
     "text": [
      "42/42 [==============================] - 24s 560ms/step - loss: 0.0115 - semantic_0_loss: 0.0030 - semantic_1_loss: 0.0072 - semantic_2_loss: 0.0013 - lr: 6.5566e-05\n",
      "Epoch 44/200\n",
      "42/42 [==============================] - ETA: 0s - loss: 0.0116 - semantic_0_loss: 0.0030 - semantic_1_loss: 0.0073 - semantic_2_loss: 0.0013WARNING:tensorflow:Can save best model only with val_loss available, skipping.\n"
     ]
    },
    {
     "name": "stderr",
     "output_type": "stream",
     "text": [
      "WARNING:tensorflow:Can save best model only with val_loss available, skipping.\n"
     ]
    },
    {
     "name": "stdout",
     "output_type": "stream",
     "text": [
      "42/42 [==============================] - 24s 564ms/step - loss: 0.0116 - semantic_0_loss: 0.0030 - semantic_1_loss: 0.0073 - semantic_2_loss: 0.0013 - lr: 6.4910e-05\n",
      "Epoch 45/200\n",
      "42/42 [==============================] - ETA: 0s - loss: 0.0114 - semantic_0_loss: 0.0030 - semantic_1_loss: 0.0071 - semantic_2_loss: 0.0013WARNING:tensorflow:Can save best model only with val_loss available, skipping.\n"
     ]
    },
    {
     "name": "stderr",
     "output_type": "stream",
     "text": [
      "WARNING:tensorflow:Can save best model only with val_loss available, skipping.\n"
     ]
    },
    {
     "name": "stdout",
     "output_type": "stream",
     "text": [
      "42/42 [==============================] - 24s 564ms/step - loss: 0.0114 - semantic_0_loss: 0.0030 - semantic_1_loss: 0.0071 - semantic_2_loss: 0.0013 - lr: 6.4261e-05\n",
      "Epoch 46/200\n",
      "42/42 [==============================] - ETA: 0s - loss: 0.0112 - semantic_0_loss: 0.0030 - semantic_1_loss: 0.0070 - semantic_2_loss: 0.0012WARNING:tensorflow:Can save best model only with val_loss available, skipping.\n"
     ]
    },
    {
     "name": "stderr",
     "output_type": "stream",
     "text": [
      "WARNING:tensorflow:Can save best model only with val_loss available, skipping.\n"
     ]
    },
    {
     "name": "stdout",
     "output_type": "stream",
     "text": [
      "42/42 [==============================] - 24s 557ms/step - loss: 0.0112 - semantic_0_loss: 0.0030 - semantic_1_loss: 0.0070 - semantic_2_loss: 0.0012 - lr: 6.3619e-05\n",
      "Epoch 47/200\n",
      "42/42 [==============================] - ETA: 0s - loss: 0.0114 - semantic_0_loss: 0.0030 - semantic_1_loss: 0.0071 - semantic_2_loss: 0.0013WARNING:tensorflow:Can save best model only with val_loss available, skipping.\n"
     ]
    },
    {
     "name": "stderr",
     "output_type": "stream",
     "text": [
      "WARNING:tensorflow:Can save best model only with val_loss available, skipping.\n"
     ]
    },
    {
     "name": "stdout",
     "output_type": "stream",
     "text": [
      "42/42 [==============================] - 23s 545ms/step - loss: 0.0114 - semantic_0_loss: 0.0030 - semantic_1_loss: 0.0071 - semantic_2_loss: 0.0013 - lr: 6.2982e-05\n",
      "Epoch 48/200\n",
      "42/42 [==============================] - ETA: 0s - loss: 0.0112 - semantic_0_loss: 0.0030 - semantic_1_loss: 0.0070 - semantic_2_loss: 0.0012WARNING:tensorflow:Can save best model only with val_loss available, skipping.\n"
     ]
    },
    {
     "name": "stderr",
     "output_type": "stream",
     "text": [
      "WARNING:tensorflow:Can save best model only with val_loss available, skipping.\n"
     ]
    },
    {
     "name": "stdout",
     "output_type": "stream",
     "text": [
      "42/42 [==============================] - 24s 556ms/step - loss: 0.0112 - semantic_0_loss: 0.0030 - semantic_1_loss: 0.0070 - semantic_2_loss: 0.0012 - lr: 6.2353e-05\n",
      "Epoch 49/200\n",
      "42/42 [==============================] - ETA: 0s - loss: 0.0113 - semantic_0_loss: 0.0030 - semantic_1_loss: 0.0071 - semantic_2_loss: 0.0013WARNING:tensorflow:Can save best model only with val_loss available, skipping.\n"
     ]
    },
    {
     "name": "stderr",
     "output_type": "stream",
     "text": [
      "WARNING:tensorflow:Can save best model only with val_loss available, skipping.\n"
     ]
    },
    {
     "name": "stdout",
     "output_type": "stream",
     "text": [
      "42/42 [==============================] - 24s 569ms/step - loss: 0.0113 - semantic_0_loss: 0.0030 - semantic_1_loss: 0.0071 - semantic_2_loss: 0.0013 - lr: 6.1729e-05\n",
      "Epoch 50/200\n",
      "42/42 [==============================] - ETA: 0s - loss: 0.0114 - semantic_0_loss: 0.0030 - semantic_1_loss: 0.0071 - semantic_2_loss: 0.0013WARNING:tensorflow:Can save best model only with val_loss available, skipping.\n"
     ]
    },
    {
     "name": "stderr",
     "output_type": "stream",
     "text": [
      "WARNING:tensorflow:Can save best model only with val_loss available, skipping.\n"
     ]
    },
    {
     "name": "stdout",
     "output_type": "stream",
     "text": [
      "42/42 [==============================] - 24s 563ms/step - loss: 0.0114 - semantic_0_loss: 0.0030 - semantic_1_loss: 0.0071 - semantic_2_loss: 0.0013 - lr: 6.1112e-05\n",
      "Epoch 51/200\n",
      "42/42 [==============================] - ETA: 0s - loss: 0.0113 - semantic_0_loss: 0.0030 - semantic_1_loss: 0.0071 - semantic_2_loss: 0.0012WARNING:tensorflow:Can save best model only with val_loss available, skipping.\n"
     ]
    },
    {
     "name": "stderr",
     "output_type": "stream",
     "text": [
      "WARNING:tensorflow:Can save best model only with val_loss available, skipping.\n"
     ]
    },
    {
     "name": "stdout",
     "output_type": "stream",
     "text": [
      "42/42 [==============================] - 23s 554ms/step - loss: 0.0113 - semantic_0_loss: 0.0030 - semantic_1_loss: 0.0071 - semantic_2_loss: 0.0012 - lr: 6.0501e-05\n",
      "Epoch 52/200\n",
      "42/42 [==============================] - ETA: 0s - loss: 0.0111 - semantic_0_loss: 0.0030 - semantic_1_loss: 0.0069 - semantic_2_loss: 0.0012WARNING:tensorflow:Can save best model only with val_loss available, skipping.\n"
     ]
    },
    {
     "name": "stderr",
     "output_type": "stream",
     "text": [
      "WARNING:tensorflow:Can save best model only with val_loss available, skipping.\n"
     ]
    },
    {
     "name": "stdout",
     "output_type": "stream",
     "text": [
      "42/42 [==============================] - 24s 568ms/step - loss: 0.0111 - semantic_0_loss: 0.0030 - semantic_1_loss: 0.0069 - semantic_2_loss: 0.0012 - lr: 5.9896e-05\n",
      "Epoch 53/200\n",
      "42/42 [==============================] - ETA: 0s - loss: 0.0111 - semantic_0_loss: 0.0030 - semantic_1_loss: 0.0069 - semantic_2_loss: 0.0012WARNING:tensorflow:Can save best model only with val_loss available, skipping.\n"
     ]
    },
    {
     "name": "stderr",
     "output_type": "stream",
     "text": [
      "WARNING:tensorflow:Can save best model only with val_loss available, skipping.\n"
     ]
    },
    {
     "name": "stdout",
     "output_type": "stream",
     "text": [
      "42/42 [==============================] - 23s 552ms/step - loss: 0.0111 - semantic_0_loss: 0.0030 - semantic_1_loss: 0.0069 - semantic_2_loss: 0.0012 - lr: 5.9297e-05\n",
      "Epoch 54/200\n",
      "42/42 [==============================] - ETA: 0s - loss: 0.0112 - semantic_0_loss: 0.0030 - semantic_1_loss: 0.0070 - semantic_2_loss: 0.0012WARNING:tensorflow:Can save best model only with val_loss available, skipping.\n"
     ]
    },
    {
     "name": "stderr",
     "output_type": "stream",
     "text": [
      "WARNING:tensorflow:Can save best model only with val_loss available, skipping.\n"
     ]
    },
    {
     "name": "stdout",
     "output_type": "stream",
     "text": [
      "42/42 [==============================] - 24s 557ms/step - loss: 0.0112 - semantic_0_loss: 0.0030 - semantic_1_loss: 0.0070 - semantic_2_loss: 0.0012 - lr: 5.8704e-05\n",
      "Epoch 55/200\n",
      "42/42 [==============================] - ETA: 0s - loss: 0.0110 - semantic_0_loss: 0.0029 - semantic_1_loss: 0.0069 - semantic_2_loss: 0.0012WARNING:tensorflow:Can save best model only with val_loss available, skipping.\n"
     ]
    },
    {
     "name": "stderr",
     "output_type": "stream",
     "text": [
      "WARNING:tensorflow:Can save best model only with val_loss available, skipping.\n"
     ]
    },
    {
     "name": "stdout",
     "output_type": "stream",
     "text": [
      "42/42 [==============================] - 23s 554ms/step - loss: 0.0110 - semantic_0_loss: 0.0029 - semantic_1_loss: 0.0069 - semantic_2_loss: 0.0012 - lr: 5.8117e-05\n",
      "Epoch 56/200\n",
      "42/42 [==============================] - ETA: 0s - loss: 0.0112 - semantic_0_loss: 0.0030 - semantic_1_loss: 0.0070 - semantic_2_loss: 0.0012WARNING:tensorflow:Can save best model only with val_loss available, skipping.\n"
     ]
    },
    {
     "name": "stderr",
     "output_type": "stream",
     "text": [
      "WARNING:tensorflow:Can save best model only with val_loss available, skipping.\n"
     ]
    },
    {
     "name": "stdout",
     "output_type": "stream",
     "text": [
      "42/42 [==============================] - 24s 560ms/step - loss: 0.0112 - semantic_0_loss: 0.0030 - semantic_1_loss: 0.0070 - semantic_2_loss: 0.0012 - lr: 5.7535e-05\n",
      "Epoch 57/200\n",
      "42/42 [==============================] - ETA: 0s - loss: 0.0111 - semantic_0_loss: 0.0030 - semantic_1_loss: 0.0069 - semantic_2_loss: 0.0012WARNING:tensorflow:Can save best model only with val_loss available, skipping.\n"
     ]
    },
    {
     "name": "stderr",
     "output_type": "stream",
     "text": [
      "WARNING:tensorflow:Can save best model only with val_loss available, skipping.\n"
     ]
    },
    {
     "name": "stdout",
     "output_type": "stream",
     "text": [
      "42/42 [==============================] - 24s 558ms/step - loss: 0.0111 - semantic_0_loss: 0.0030 - semantic_1_loss: 0.0069 - semantic_2_loss: 0.0012 - lr: 5.6960e-05\n",
      "Epoch 58/200\n",
      "42/42 [==============================] - ETA: 0s - loss: 0.0109 - semantic_0_loss: 0.0029 - semantic_1_loss: 0.0067 - semantic_2_loss: 0.0012WARNING:tensorflow:Can save best model only with val_loss available, skipping.\n"
     ]
    },
    {
     "name": "stderr",
     "output_type": "stream",
     "text": [
      "WARNING:tensorflow:Can save best model only with val_loss available, skipping.\n"
     ]
    },
    {
     "name": "stdout",
     "output_type": "stream",
     "text": [
      "42/42 [==============================] - 24s 557ms/step - loss: 0.0109 - semantic_0_loss: 0.0029 - semantic_1_loss: 0.0067 - semantic_2_loss: 0.0012 - lr: 5.6391e-05\n",
      "Epoch 59/200\n",
      "42/42 [==============================] - ETA: 0s - loss: 0.0112 - semantic_0_loss: 0.0030 - semantic_1_loss: 0.0070 - semantic_2_loss: 0.0012WARNING:tensorflow:Can save best model only with val_loss available, skipping.\n"
     ]
    },
    {
     "name": "stderr",
     "output_type": "stream",
     "text": [
      "WARNING:tensorflow:Can save best model only with val_loss available, skipping.\n"
     ]
    },
    {
     "name": "stdout",
     "output_type": "stream",
     "text": [
      "42/42 [==============================] - 24s 559ms/step - loss: 0.0112 - semantic_0_loss: 0.0030 - semantic_1_loss: 0.0070 - semantic_2_loss: 0.0012 - lr: 5.5827e-05\n",
      "Epoch 60/200\n",
      "42/42 [==============================] - ETA: 0s - loss: 0.0107 - semantic_0_loss: 0.0029 - semantic_1_loss: 0.0066 - semantic_2_loss: 0.0012WARNING:tensorflow:Can save best model only with val_loss available, skipping.\n"
     ]
    },
    {
     "name": "stderr",
     "output_type": "stream",
     "text": [
      "WARNING:tensorflow:Can save best model only with val_loss available, skipping.\n"
     ]
    },
    {
     "name": "stdout",
     "output_type": "stream",
     "text": [
      "42/42 [==============================] - 24s 557ms/step - loss: 0.0107 - semantic_0_loss: 0.0029 - semantic_1_loss: 0.0066 - semantic_2_loss: 0.0012 - lr: 5.5268e-05\n",
      "Epoch 61/200\n",
      "42/42 [==============================] - ETA: 0s - loss: 0.0110 - semantic_0_loss: 0.0029 - semantic_1_loss: 0.0068 - semantic_2_loss: 0.0012WARNING:tensorflow:Can save best model only with val_loss available, skipping.\n"
     ]
    },
    {
     "name": "stderr",
     "output_type": "stream",
     "text": [
      "WARNING:tensorflow:Can save best model only with val_loss available, skipping.\n"
     ]
    },
    {
     "name": "stdout",
     "output_type": "stream",
     "text": [
      "42/42 [==============================] - 23s 551ms/step - loss: 0.0110 - semantic_0_loss: 0.0029 - semantic_1_loss: 0.0068 - semantic_2_loss: 0.0012 - lr: 5.4716e-05\n",
      "Epoch 62/200\n",
      "42/42 [==============================] - ETA: 0s - loss: 0.0109 - semantic_0_loss: 0.0029 - semantic_1_loss: 0.0068 - semantic_2_loss: 0.0012WARNING:tensorflow:Can save best model only with val_loss available, skipping.\n"
     ]
    },
    {
     "name": "stderr",
     "output_type": "stream",
     "text": [
      "WARNING:tensorflow:Can save best model only with val_loss available, skipping.\n"
     ]
    },
    {
     "name": "stdout",
     "output_type": "stream",
     "text": [
      "42/42 [==============================] - 24s 560ms/step - loss: 0.0109 - semantic_0_loss: 0.0029 - semantic_1_loss: 0.0068 - semantic_2_loss: 0.0012 - lr: 5.4169e-05\n",
      "Epoch 63/200\n",
      "42/42 [==============================] - ETA: 0s - loss: 0.0110 - semantic_0_loss: 0.0030 - semantic_1_loss: 0.0068 - semantic_2_loss: 0.0012WARNING:tensorflow:Can save best model only with val_loss available, skipping.\n"
     ]
    },
    {
     "name": "stderr",
     "output_type": "stream",
     "text": [
      "WARNING:tensorflow:Can save best model only with val_loss available, skipping.\n"
     ]
    },
    {
     "name": "stdout",
     "output_type": "stream",
     "text": [
      "42/42 [==============================] - 24s 573ms/step - loss: 0.0110 - semantic_0_loss: 0.0030 - semantic_1_loss: 0.0068 - semantic_2_loss: 0.0012 - lr: 5.3627e-05\n",
      "Epoch 64/200\n",
      "42/42 [==============================] - ETA: 0s - loss: 0.0107 - semantic_0_loss: 0.0029 - semantic_1_loss: 0.0066 - semantic_2_loss: 0.0012WARNING:tensorflow:Can save best model only with val_loss available, skipping.\n"
     ]
    },
    {
     "name": "stderr",
     "output_type": "stream",
     "text": [
      "WARNING:tensorflow:Can save best model only with val_loss available, skipping.\n"
     ]
    },
    {
     "name": "stdout",
     "output_type": "stream",
     "text": [
      "42/42 [==============================] - 24s 562ms/step - loss: 0.0107 - semantic_0_loss: 0.0029 - semantic_1_loss: 0.0066 - semantic_2_loss: 0.0012 - lr: 5.3091e-05\n",
      "Epoch 65/200\n",
      "42/42 [==============================] - ETA: 0s - loss: 0.0108 - semantic_0_loss: 0.0029 - semantic_1_loss: 0.0067 - semantic_2_loss: 0.0012WARNING:tensorflow:Can save best model only with val_loss available, skipping.\n"
     ]
    },
    {
     "name": "stderr",
     "output_type": "stream",
     "text": [
      "WARNING:tensorflow:Can save best model only with val_loss available, skipping.\n"
     ]
    },
    {
     "name": "stdout",
     "output_type": "stream",
     "text": [
      "42/42 [==============================] - 24s 557ms/step - loss: 0.0108 - semantic_0_loss: 0.0029 - semantic_1_loss: 0.0067 - semantic_2_loss: 0.0012 - lr: 5.2560e-05\n",
      "Epoch 66/200\n",
      "42/42 [==============================] - ETA: 0s - loss: 0.0108 - semantic_0_loss: 0.0029 - semantic_1_loss: 0.0067 - semantic_2_loss: 0.0012WARNING:tensorflow:Can save best model only with val_loss available, skipping.\n"
     ]
    },
    {
     "name": "stderr",
     "output_type": "stream",
     "text": [
      "WARNING:tensorflow:Can save best model only with val_loss available, skipping.\n"
     ]
    },
    {
     "name": "stdout",
     "output_type": "stream",
     "text": [
      "42/42 [==============================] - 24s 560ms/step - loss: 0.0108 - semantic_0_loss: 0.0029 - semantic_1_loss: 0.0067 - semantic_2_loss: 0.0012 - lr: 5.2034e-05\n",
      "Epoch 67/200\n",
      "42/42 [==============================] - ETA: 0s - loss: 0.0108 - semantic_0_loss: 0.0029 - semantic_1_loss: 0.0067 - semantic_2_loss: 0.0012WARNING:tensorflow:Can save best model only with val_loss available, skipping.\n"
     ]
    },
    {
     "name": "stderr",
     "output_type": "stream",
     "text": [
      "WARNING:tensorflow:Can save best model only with val_loss available, skipping.\n"
     ]
    },
    {
     "name": "stdout",
     "output_type": "stream",
     "text": [
      "42/42 [==============================] - 24s 560ms/step - loss: 0.0108 - semantic_0_loss: 0.0029 - semantic_1_loss: 0.0067 - semantic_2_loss: 0.0012 - lr: 5.1514e-05\n",
      "Epoch 68/200\n",
      "42/42 [==============================] - ETA: 0s - loss: 0.0107 - semantic_0_loss: 0.0029 - semantic_1_loss: 0.0066 - semantic_2_loss: 0.0012WARNING:tensorflow:Can save best model only with val_loss available, skipping.\n"
     ]
    },
    {
     "name": "stderr",
     "output_type": "stream",
     "text": [
      "WARNING:tensorflow:Can save best model only with val_loss available, skipping.\n"
     ]
    },
    {
     "name": "stdout",
     "output_type": "stream",
     "text": [
      "42/42 [==============================] - 23s 549ms/step - loss: 0.0107 - semantic_0_loss: 0.0029 - semantic_1_loss: 0.0066 - semantic_2_loss: 0.0012 - lr: 5.0999e-05\n",
      "Epoch 69/200\n",
      "42/42 [==============================] - ETA: 0s - loss: 0.0107 - semantic_0_loss: 0.0029 - semantic_1_loss: 0.0066 - semantic_2_loss: 0.0012WARNING:tensorflow:Can save best model only with val_loss available, skipping.\n"
     ]
    },
    {
     "name": "stderr",
     "output_type": "stream",
     "text": [
      "WARNING:tensorflow:Can save best model only with val_loss available, skipping.\n"
     ]
    },
    {
     "name": "stdout",
     "output_type": "stream",
     "text": [
      "42/42 [==============================] - 24s 557ms/step - loss: 0.0107 - semantic_0_loss: 0.0029 - semantic_1_loss: 0.0066 - semantic_2_loss: 0.0012 - lr: 5.0489e-05\n",
      "Epoch 70/200\n",
      "42/42 [==============================] - ETA: 0s - loss: 0.0108 - semantic_0_loss: 0.0029 - semantic_1_loss: 0.0067 - semantic_2_loss: 0.0012WARNING:tensorflow:Can save best model only with val_loss available, skipping.\n"
     ]
    },
    {
     "name": "stderr",
     "output_type": "stream",
     "text": [
      "WARNING:tensorflow:Can save best model only with val_loss available, skipping.\n"
     ]
    },
    {
     "name": "stdout",
     "output_type": "stream",
     "text": [
      "42/42 [==============================] - 24s 565ms/step - loss: 0.0108 - semantic_0_loss: 0.0029 - semantic_1_loss: 0.0067 - semantic_2_loss: 0.0012 - lr: 4.9984e-05\n",
      "Epoch 71/200\n",
      "42/42 [==============================] - ETA: 0s - loss: 0.0109 - semantic_0_loss: 0.0029 - semantic_1_loss: 0.0068 - semantic_2_loss: 0.0012WARNING:tensorflow:Can save best model only with val_loss available, skipping.\n"
     ]
    },
    {
     "name": "stderr",
     "output_type": "stream",
     "text": [
      "WARNING:tensorflow:Can save best model only with val_loss available, skipping.\n"
     ]
    },
    {
     "name": "stdout",
     "output_type": "stream",
     "text": [
      "42/42 [==============================] - 24s 553ms/step - loss: 0.0109 - semantic_0_loss: 0.0029 - semantic_1_loss: 0.0068 - semantic_2_loss: 0.0012 - lr: 4.9484e-05\n",
      "Epoch 72/200\n",
      "42/42 [==============================] - ETA: 0s - loss: 0.0105 - semantic_0_loss: 0.0028 - semantic_1_loss: 0.0065 - semantic_2_loss: 0.0012WARNING:tensorflow:Can save best model only with val_loss available, skipping.\n"
     ]
    },
    {
     "name": "stderr",
     "output_type": "stream",
     "text": [
      "WARNING:tensorflow:Can save best model only with val_loss available, skipping.\n"
     ]
    },
    {
     "name": "stdout",
     "output_type": "stream",
     "text": [
      "42/42 [==============================] - 24s 576ms/step - loss: 0.0105 - semantic_0_loss: 0.0028 - semantic_1_loss: 0.0065 - semantic_2_loss: 0.0012 - lr: 4.8989e-05\n",
      "Epoch 73/200\n",
      "42/42 [==============================] - ETA: 0s - loss: 0.0106 - semantic_0_loss: 0.0029 - semantic_1_loss: 0.0065 - semantic_2_loss: 0.0012WARNING:tensorflow:Can save best model only with val_loss available, skipping.\n"
     ]
    },
    {
     "name": "stderr",
     "output_type": "stream",
     "text": [
      "WARNING:tensorflow:Can save best model only with val_loss available, skipping.\n"
     ]
    },
    {
     "name": "stdout",
     "output_type": "stream",
     "text": [
      "42/42 [==============================] - 24s 563ms/step - loss: 0.0106 - semantic_0_loss: 0.0029 - semantic_1_loss: 0.0065 - semantic_2_loss: 0.0012 - lr: 4.8499e-05\n",
      "Epoch 74/200\n",
      "42/42 [==============================] - ETA: 0s - loss: 0.0106 - semantic_0_loss: 0.0029 - semantic_1_loss: 0.0065 - semantic_2_loss: 0.0012WARNING:tensorflow:Can save best model only with val_loss available, skipping.\n"
     ]
    },
    {
     "name": "stderr",
     "output_type": "stream",
     "text": [
      "WARNING:tensorflow:Can save best model only with val_loss available, skipping.\n"
     ]
    },
    {
     "name": "stdout",
     "output_type": "stream",
     "text": [
      "42/42 [==============================] - 23s 553ms/step - loss: 0.0106 - semantic_0_loss: 0.0029 - semantic_1_loss: 0.0065 - semantic_2_loss: 0.0012 - lr: 4.8014e-05\n",
      "Epoch 75/200\n",
      "42/42 [==============================] - ETA: 0s - loss: 0.0106 - semantic_0_loss: 0.0029 - semantic_1_loss: 0.0066 - semantic_2_loss: 0.0012WARNING:tensorflow:Can save best model only with val_loss available, skipping.\n"
     ]
    },
    {
     "name": "stderr",
     "output_type": "stream",
     "text": [
      "WARNING:tensorflow:Can save best model only with val_loss available, skipping.\n"
     ]
    },
    {
     "name": "stdout",
     "output_type": "stream",
     "text": [
      "42/42 [==============================] - 23s 548ms/step - loss: 0.0106 - semantic_0_loss: 0.0029 - semantic_1_loss: 0.0066 - semantic_2_loss: 0.0012 - lr: 4.7534e-05\n",
      "Epoch 76/200\n",
      "42/42 [==============================] - ETA: 0s - loss: 0.0105 - semantic_0_loss: 0.0029 - semantic_1_loss: 0.0065 - semantic_2_loss: 0.0012WARNING:tensorflow:Can save best model only with val_loss available, skipping.\n"
     ]
    },
    {
     "name": "stderr",
     "output_type": "stream",
     "text": [
      "WARNING:tensorflow:Can save best model only with val_loss available, skipping.\n"
     ]
    },
    {
     "name": "stdout",
     "output_type": "stream",
     "text": [
      "42/42 [==============================] - 24s 561ms/step - loss: 0.0105 - semantic_0_loss: 0.0029 - semantic_1_loss: 0.0065 - semantic_2_loss: 0.0012 - lr: 4.7059e-05\n",
      "Epoch 77/200\n",
      "42/42 [==============================] - ETA: 0s - loss: 0.0105 - semantic_0_loss: 0.0028 - semantic_1_loss: 0.0065 - semantic_2_loss: 0.0012WARNING:tensorflow:Can save best model only with val_loss available, skipping.\n"
     ]
    },
    {
     "name": "stderr",
     "output_type": "stream",
     "text": [
      "WARNING:tensorflow:Can save best model only with val_loss available, skipping.\n"
     ]
    },
    {
     "name": "stdout",
     "output_type": "stream",
     "text": [
      "42/42 [==============================] - 24s 555ms/step - loss: 0.0105 - semantic_0_loss: 0.0028 - semantic_1_loss: 0.0065 - semantic_2_loss: 0.0012 - lr: 4.6588e-05\n",
      "Epoch 78/200\n",
      "42/42 [==============================] - ETA: 0s - loss: 0.0107 - semantic_0_loss: 0.0029 - semantic_1_loss: 0.0066 - semantic_2_loss: 0.0012WARNING:tensorflow:Can save best model only with val_loss available, skipping.\n"
     ]
    },
    {
     "name": "stderr",
     "output_type": "stream",
     "text": [
      "WARNING:tensorflow:Can save best model only with val_loss available, skipping.\n"
     ]
    },
    {
     "name": "stdout",
     "output_type": "stream",
     "text": [
      "42/42 [==============================] - 23s 554ms/step - loss: 0.0107 - semantic_0_loss: 0.0029 - semantic_1_loss: 0.0066 - semantic_2_loss: 0.0012 - lr: 4.6122e-05\n",
      "Epoch 79/200\n",
      "42/42 [==============================] - ETA: 0s - loss: 0.0107 - semantic_0_loss: 0.0029 - semantic_1_loss: 0.0066 - semantic_2_loss: 0.0012WARNING:tensorflow:Can save best model only with val_loss available, skipping.\n"
     ]
    },
    {
     "name": "stderr",
     "output_type": "stream",
     "text": [
      "WARNING:tensorflow:Can save best model only with val_loss available, skipping.\n"
     ]
    },
    {
     "name": "stdout",
     "output_type": "stream",
     "text": [
      "42/42 [==============================] - 24s 570ms/step - loss: 0.0107 - semantic_0_loss: 0.0029 - semantic_1_loss: 0.0066 - semantic_2_loss: 0.0012 - lr: 4.5661e-05\n",
      "Epoch 80/200\n",
      "42/42 [==============================] - ETA: 0s - loss: 0.0105 - semantic_0_loss: 0.0029 - semantic_1_loss: 0.0064 - semantic_2_loss: 0.0012WARNING:tensorflow:Can save best model only with val_loss available, skipping.\n"
     ]
    },
    {
     "name": "stderr",
     "output_type": "stream",
     "text": [
      "WARNING:tensorflow:Can save best model only with val_loss available, skipping.\n"
     ]
    },
    {
     "name": "stdout",
     "output_type": "stream",
     "text": [
      "42/42 [==============================] - 24s 567ms/step - loss: 0.0105 - semantic_0_loss: 0.0029 - semantic_1_loss: 0.0064 - semantic_2_loss: 0.0012 - lr: 4.5204e-05\n",
      "Epoch 81/200\n",
      "42/42 [==============================] - ETA: 0s - loss: 0.0105 - semantic_0_loss: 0.0028 - semantic_1_loss: 0.0065 - semantic_2_loss: 0.0012WARNING:tensorflow:Can save best model only with val_loss available, skipping.\n"
     ]
    },
    {
     "name": "stderr",
     "output_type": "stream",
     "text": [
      "WARNING:tensorflow:Can save best model only with val_loss available, skipping.\n"
     ]
    },
    {
     "name": "stdout",
     "output_type": "stream",
     "text": [
      "42/42 [==============================] - 23s 559ms/step - loss: 0.0105 - semantic_0_loss: 0.0028 - semantic_1_loss: 0.0065 - semantic_2_loss: 0.0012 - lr: 4.4752e-05\n",
      "Epoch 82/200\n",
      "42/42 [==============================] - ETA: 0s - loss: 0.0106 - semantic_0_loss: 0.0029 - semantic_1_loss: 0.0065 - semantic_2_loss: 0.0012WARNING:tensorflow:Can save best model only with val_loss available, skipping.\n"
     ]
    },
    {
     "name": "stderr",
     "output_type": "stream",
     "text": [
      "WARNING:tensorflow:Can save best model only with val_loss available, skipping.\n"
     ]
    },
    {
     "name": "stdout",
     "output_type": "stream",
     "text": [
      "42/42 [==============================] - 24s 558ms/step - loss: 0.0106 - semantic_0_loss: 0.0029 - semantic_1_loss: 0.0065 - semantic_2_loss: 0.0012 - lr: 4.4305e-05\n",
      "Epoch 83/200\n",
      "42/42 [==============================] - ETA: 0s - loss: 0.0104 - semantic_0_loss: 0.0028 - semantic_1_loss: 0.0064 - semantic_2_loss: 0.0012WARNING:tensorflow:Can save best model only with val_loss available, skipping.\n"
     ]
    },
    {
     "name": "stderr",
     "output_type": "stream",
     "text": [
      "WARNING:tensorflow:Can save best model only with val_loss available, skipping.\n"
     ]
    },
    {
     "name": "stdout",
     "output_type": "stream",
     "text": [
      "42/42 [==============================] - 23s 551ms/step - loss: 0.0104 - semantic_0_loss: 0.0028 - semantic_1_loss: 0.0064 - semantic_2_loss: 0.0012 - lr: 4.3862e-05\n",
      "Epoch 84/200\n",
      "42/42 [==============================] - ETA: 0s - loss: 0.0103 - semantic_0_loss: 0.0028 - semantic_1_loss: 0.0063 - semantic_2_loss: 0.0012WARNING:tensorflow:Can save best model only with val_loss available, skipping.\n"
     ]
    },
    {
     "name": "stderr",
     "output_type": "stream",
     "text": [
      "WARNING:tensorflow:Can save best model only with val_loss available, skipping.\n"
     ]
    },
    {
     "name": "stdout",
     "output_type": "stream",
     "text": [
      "42/42 [==============================] - 24s 565ms/step - loss: 0.0103 - semantic_0_loss: 0.0028 - semantic_1_loss: 0.0063 - semantic_2_loss: 0.0012 - lr: 4.3423e-05\n",
      "Epoch 85/200\n",
      "42/42 [==============================] - ETA: 0s - loss: 0.0105 - semantic_0_loss: 0.0029 - semantic_1_loss: 0.0065 - semantic_2_loss: 0.0012WARNING:tensorflow:Can save best model only with val_loss available, skipping.\n"
     ]
    },
    {
     "name": "stderr",
     "output_type": "stream",
     "text": [
      "WARNING:tensorflow:Can save best model only with val_loss available, skipping.\n"
     ]
    },
    {
     "name": "stdout",
     "output_type": "stream",
     "text": [
      "42/42 [==============================] - 24s 565ms/step - loss: 0.0105 - semantic_0_loss: 0.0029 - semantic_1_loss: 0.0065 - semantic_2_loss: 0.0012 - lr: 4.2989e-05\n",
      "Epoch 86/200\n",
      "42/42 [==============================] - ETA: 0s - loss: 0.0103 - semantic_0_loss: 0.0028 - semantic_1_loss: 0.0064 - semantic_2_loss: 0.0012WARNING:tensorflow:Can save best model only with val_loss available, skipping.\n"
     ]
    },
    {
     "name": "stderr",
     "output_type": "stream",
     "text": [
      "WARNING:tensorflow:Can save best model only with val_loss available, skipping.\n"
     ]
    },
    {
     "name": "stdout",
     "output_type": "stream",
     "text": [
      "42/42 [==============================] - 23s 550ms/step - loss: 0.0103 - semantic_0_loss: 0.0028 - semantic_1_loss: 0.0064 - semantic_2_loss: 0.0012 - lr: 4.2559e-05\n",
      "Epoch 87/200\n",
      "42/42 [==============================] - ETA: 0s - loss: 0.0104 - semantic_0_loss: 0.0028 - semantic_1_loss: 0.0064 - semantic_2_loss: 0.0012WARNING:tensorflow:Can save best model only with val_loss available, skipping.\n"
     ]
    },
    {
     "name": "stderr",
     "output_type": "stream",
     "text": [
      "WARNING:tensorflow:Can save best model only with val_loss available, skipping.\n"
     ]
    },
    {
     "name": "stdout",
     "output_type": "stream",
     "text": [
      "42/42 [==============================] - 23s 551ms/step - loss: 0.0104 - semantic_0_loss: 0.0028 - semantic_1_loss: 0.0064 - semantic_2_loss: 0.0012 - lr: 4.2133e-05\n",
      "Epoch 88/200\n",
      "42/42 [==============================] - ETA: 0s - loss: 0.0104 - semantic_0_loss: 0.0028 - semantic_1_loss: 0.0064 - semantic_2_loss: 0.0012WARNING:tensorflow:Can save best model only with val_loss available, skipping.\n"
     ]
    },
    {
     "name": "stderr",
     "output_type": "stream",
     "text": [
      "WARNING:tensorflow:Can save best model only with val_loss available, skipping.\n"
     ]
    },
    {
     "name": "stdout",
     "output_type": "stream",
     "text": [
      "42/42 [==============================] - 23s 554ms/step - loss: 0.0104 - semantic_0_loss: 0.0028 - semantic_1_loss: 0.0064 - semantic_2_loss: 0.0012 - lr: 4.1712e-05\n",
      "Epoch 89/200\n",
      "42/42 [==============================] - ETA: 0s - loss: 0.0101 - semantic_0_loss: 0.0028 - semantic_1_loss: 0.0062 - semantic_2_loss: 0.0011WARNING:tensorflow:Can save best model only with val_loss available, skipping.\n"
     ]
    },
    {
     "name": "stderr",
     "output_type": "stream",
     "text": [
      "WARNING:tensorflow:Can save best model only with val_loss available, skipping.\n"
     ]
    },
    {
     "name": "stdout",
     "output_type": "stream",
     "text": [
      "42/42 [==============================] - 23s 547ms/step - loss: 0.0101 - semantic_0_loss: 0.0028 - semantic_1_loss: 0.0062 - semantic_2_loss: 0.0011 - lr: 4.1295e-05\n",
      "Epoch 90/200\n",
      "42/42 [==============================] - ETA: 0s - loss: 0.0103 - semantic_0_loss: 0.0028 - semantic_1_loss: 0.0063 - semantic_2_loss: 0.0012WARNING:tensorflow:Can save best model only with val_loss available, skipping.\n"
     ]
    },
    {
     "name": "stderr",
     "output_type": "stream",
     "text": [
      "WARNING:tensorflow:Can save best model only with val_loss available, skipping.\n"
     ]
    },
    {
     "name": "stdout",
     "output_type": "stream",
     "text": [
      "42/42 [==============================] - 23s 552ms/step - loss: 0.0103 - semantic_0_loss: 0.0028 - semantic_1_loss: 0.0063 - semantic_2_loss: 0.0012 - lr: 4.0882e-05\n",
      "Epoch 91/200\n",
      "42/42 [==============================] - ETA: 0s - loss: 0.0102 - semantic_0_loss: 0.0028 - semantic_1_loss: 0.0063 - semantic_2_loss: 0.0012WARNING:tensorflow:Can save best model only with val_loss available, skipping.\n"
     ]
    },
    {
     "name": "stderr",
     "output_type": "stream",
     "text": [
      "WARNING:tensorflow:Can save best model only with val_loss available, skipping.\n"
     ]
    },
    {
     "name": "stdout",
     "output_type": "stream",
     "text": [
      "42/42 [==============================] - 24s 555ms/step - loss: 0.0102 - semantic_0_loss: 0.0028 - semantic_1_loss: 0.0063 - semantic_2_loss: 0.0012 - lr: 4.0473e-05\n",
      "Epoch 92/200\n",
      "42/42 [==============================] - ETA: 0s - loss: 0.0103 - semantic_0_loss: 0.0028 - semantic_1_loss: 0.0063 - semantic_2_loss: 0.0012WARNING:tensorflow:Can save best model only with val_loss available, skipping.\n"
     ]
    },
    {
     "name": "stderr",
     "output_type": "stream",
     "text": [
      "WARNING:tensorflow:Can save best model only with val_loss available, skipping.\n"
     ]
    },
    {
     "name": "stdout",
     "output_type": "stream",
     "text": [
      "42/42 [==============================] - 24s 558ms/step - loss: 0.0103 - semantic_0_loss: 0.0028 - semantic_1_loss: 0.0063 - semantic_2_loss: 0.0012 - lr: 4.0068e-05\n",
      "Epoch 93/200\n",
      "42/42 [==============================] - ETA: 0s - loss: 0.0104 - semantic_0_loss: 0.0029 - semantic_1_loss: 0.0064 - semantic_2_loss: 0.0012WARNING:tensorflow:Can save best model only with val_loss available, skipping.\n"
     ]
    },
    {
     "name": "stderr",
     "output_type": "stream",
     "text": [
      "WARNING:tensorflow:Can save best model only with val_loss available, skipping.\n"
     ]
    },
    {
     "name": "stdout",
     "output_type": "stream",
     "text": [
      "42/42 [==============================] - 24s 558ms/step - loss: 0.0104 - semantic_0_loss: 0.0029 - semantic_1_loss: 0.0064 - semantic_2_loss: 0.0012 - lr: 3.9668e-05\n",
      "Epoch 94/200\n",
      "42/42 [==============================] - ETA: 0s - loss: 0.0102 - semantic_0_loss: 0.0028 - semantic_1_loss: 0.0063 - semantic_2_loss: 0.0011WARNING:tensorflow:Can save best model only with val_loss available, skipping.\n"
     ]
    },
    {
     "name": "stderr",
     "output_type": "stream",
     "text": [
      "WARNING:tensorflow:Can save best model only with val_loss available, skipping.\n"
     ]
    },
    {
     "name": "stdout",
     "output_type": "stream",
     "text": [
      "42/42 [==============================] - 23s 552ms/step - loss: 0.0102 - semantic_0_loss: 0.0028 - semantic_1_loss: 0.0063 - semantic_2_loss: 0.0011 - lr: 3.9271e-05\n",
      "Epoch 95/200\n",
      "42/42 [==============================] - ETA: 0s - loss: 0.0103 - semantic_0_loss: 0.0028 - semantic_1_loss: 0.0063 - semantic_2_loss: 0.0012WARNING:tensorflow:Can save best model only with val_loss available, skipping.\n"
     ]
    },
    {
     "name": "stderr",
     "output_type": "stream",
     "text": [
      "WARNING:tensorflow:Can save best model only with val_loss available, skipping.\n"
     ]
    },
    {
     "name": "stdout",
     "output_type": "stream",
     "text": [
      "42/42 [==============================] - 24s 554ms/step - loss: 0.0103 - semantic_0_loss: 0.0028 - semantic_1_loss: 0.0063 - semantic_2_loss: 0.0012 - lr: 3.8878e-05\n",
      "Epoch 96/200\n",
      "42/42 [==============================] - ETA: 0s - loss: 0.0102 - semantic_0_loss: 0.0028 - semantic_1_loss: 0.0063 - semantic_2_loss: 0.0011WARNING:tensorflow:Can save best model only with val_loss available, skipping.\n"
     ]
    },
    {
     "name": "stderr",
     "output_type": "stream",
     "text": [
      "WARNING:tensorflow:Can save best model only with val_loss available, skipping.\n"
     ]
    },
    {
     "name": "stdout",
     "output_type": "stream",
     "text": [
      "42/42 [==============================] - 24s 559ms/step - loss: 0.0102 - semantic_0_loss: 0.0028 - semantic_1_loss: 0.0063 - semantic_2_loss: 0.0011 - lr: 3.8490e-05\n",
      "Epoch 97/200\n",
      "42/42 [==============================] - ETA: 0s - loss: 0.0101 - semantic_0_loss: 0.0028 - semantic_1_loss: 0.0062 - semantic_2_loss: 0.0012WARNING:tensorflow:Can save best model only with val_loss available, skipping.\n"
     ]
    },
    {
     "name": "stderr",
     "output_type": "stream",
     "text": [
      "WARNING:tensorflow:Can save best model only with val_loss available, skipping.\n"
     ]
    },
    {
     "name": "stdout",
     "output_type": "stream",
     "text": [
      "42/42 [==============================] - 24s 554ms/step - loss: 0.0101 - semantic_0_loss: 0.0028 - semantic_1_loss: 0.0062 - semantic_2_loss: 0.0012 - lr: 3.8105e-05\n",
      "Epoch 98/200\n",
      "42/42 [==============================] - ETA: 0s - loss: 0.0103 - semantic_0_loss: 0.0028 - semantic_1_loss: 0.0063 - semantic_2_loss: 0.0012WARNING:tensorflow:Can save best model only with val_loss available, skipping.\n"
     ]
    },
    {
     "name": "stderr",
     "output_type": "stream",
     "text": [
      "WARNING:tensorflow:Can save best model only with val_loss available, skipping.\n"
     ]
    },
    {
     "name": "stdout",
     "output_type": "stream",
     "text": [
      "42/42 [==============================] - 23s 561ms/step - loss: 0.0103 - semantic_0_loss: 0.0028 - semantic_1_loss: 0.0063 - semantic_2_loss: 0.0012 - lr: 3.7724e-05\n",
      "Epoch 99/200\n",
      "42/42 [==============================] - ETA: 0s - loss: 0.0102 - semantic_0_loss: 0.0028 - semantic_1_loss: 0.0062 - semantic_2_loss: 0.0011WARNING:tensorflow:Can save best model only with val_loss available, skipping.\n"
     ]
    },
    {
     "name": "stderr",
     "output_type": "stream",
     "text": [
      "WARNING:tensorflow:Can save best model only with val_loss available, skipping.\n"
     ]
    },
    {
     "name": "stdout",
     "output_type": "stream",
     "text": [
      "42/42 [==============================] - 23s 554ms/step - loss: 0.0102 - semantic_0_loss: 0.0028 - semantic_1_loss: 0.0062 - semantic_2_loss: 0.0011 - lr: 3.7346e-05\n",
      "Epoch 100/200\n",
      "42/42 [==============================] - ETA: 0s - loss: 0.0102 - semantic_0_loss: 0.0028 - semantic_1_loss: 0.0062 - semantic_2_loss: 0.0011WARNING:tensorflow:Can save best model only with val_loss available, skipping.\n"
     ]
    },
    {
     "name": "stderr",
     "output_type": "stream",
     "text": [
      "WARNING:tensorflow:Can save best model only with val_loss available, skipping.\n"
     ]
    },
    {
     "name": "stdout",
     "output_type": "stream",
     "text": [
      "42/42 [==============================] - 24s 561ms/step - loss: 0.0102 - semantic_0_loss: 0.0028 - semantic_1_loss: 0.0062 - semantic_2_loss: 0.0011 - lr: 3.6973e-05\n",
      "Epoch 101/200\n",
      "42/42 [==============================] - ETA: 0s - loss: 0.0101 - semantic_0_loss: 0.0028 - semantic_1_loss: 0.0062 - semantic_2_loss: 0.0011WARNING:tensorflow:Can save best model only with val_loss available, skipping.\n"
     ]
    },
    {
     "name": "stderr",
     "output_type": "stream",
     "text": [
      "WARNING:tensorflow:Can save best model only with val_loss available, skipping.\n"
     ]
    },
    {
     "name": "stdout",
     "output_type": "stream",
     "text": [
      "42/42 [==============================] - 23s 552ms/step - loss: 0.0101 - semantic_0_loss: 0.0028 - semantic_1_loss: 0.0062 - semantic_2_loss: 0.0011 - lr: 3.6603e-05\n",
      "Epoch 102/200\n",
      "42/42 [==============================] - ETA: 0s - loss: 0.0099 - semantic_0_loss: 0.0027 - semantic_1_loss: 0.0061 - semantic_2_loss: 0.0011WARNING:tensorflow:Can save best model only with val_loss available, skipping.\n"
     ]
    },
    {
     "name": "stderr",
     "output_type": "stream",
     "text": [
      "WARNING:tensorflow:Can save best model only with val_loss available, skipping.\n"
     ]
    },
    {
     "name": "stdout",
     "output_type": "stream",
     "text": [
      "42/42 [==============================] - 24s 558ms/step - loss: 0.0099 - semantic_0_loss: 0.0027 - semantic_1_loss: 0.0061 - semantic_2_loss: 0.0011 - lr: 3.6237e-05\n",
      "Epoch 103/200\n",
      "42/42 [==============================] - ETA: 0s - loss: 0.0100 - semantic_0_loss: 0.0028 - semantic_1_loss: 0.0061 - semantic_2_loss: 0.0011WARNING:tensorflow:Can save best model only with val_loss available, skipping.\n"
     ]
    },
    {
     "name": "stderr",
     "output_type": "stream",
     "text": [
      "WARNING:tensorflow:Can save best model only with val_loss available, skipping.\n"
     ]
    },
    {
     "name": "stdout",
     "output_type": "stream",
     "text": [
      "42/42 [==============================] - 23s 551ms/step - loss: 0.0100 - semantic_0_loss: 0.0028 - semantic_1_loss: 0.0061 - semantic_2_loss: 0.0011 - lr: 3.5875e-05\n",
      "Epoch 104/200\n",
      "42/42 [==============================] - ETA: 0s - loss: 0.0103 - semantic_0_loss: 0.0028 - semantic_1_loss: 0.0063 - semantic_2_loss: 0.0012WARNING:tensorflow:Can save best model only with val_loss available, skipping.\n"
     ]
    },
    {
     "name": "stderr",
     "output_type": "stream",
     "text": [
      "WARNING:tensorflow:Can save best model only with val_loss available, skipping.\n"
     ]
    },
    {
     "name": "stdout",
     "output_type": "stream",
     "text": [
      "42/42 [==============================] - 24s 567ms/step - loss: 0.0103 - semantic_0_loss: 0.0028 - semantic_1_loss: 0.0063 - semantic_2_loss: 0.0012 - lr: 3.5516e-05\n",
      "Epoch 105/200\n",
      "42/42 [==============================] - ETA: 0s - loss: 0.0101 - semantic_0_loss: 0.0028 - semantic_1_loss: 0.0062 - semantic_2_loss: 0.0011WARNING:tensorflow:Can save best model only with val_loss available, skipping.\n"
     ]
    },
    {
     "name": "stderr",
     "output_type": "stream",
     "text": [
      "WARNING:tensorflow:Can save best model only with val_loss available, skipping.\n"
     ]
    },
    {
     "name": "stdout",
     "output_type": "stream",
     "text": [
      "42/42 [==============================] - 23s 556ms/step - loss: 0.0101 - semantic_0_loss: 0.0028 - semantic_1_loss: 0.0062 - semantic_2_loss: 0.0011 - lr: 3.5161e-05\n",
      "Epoch 106/200\n",
      "42/42 [==============================] - ETA: 0s - loss: 0.0101 - semantic_0_loss: 0.0028 - semantic_1_loss: 0.0061 - semantic_2_loss: 0.0011WARNING:tensorflow:Can save best model only with val_loss available, skipping.\n"
     ]
    },
    {
     "name": "stderr",
     "output_type": "stream",
     "text": [
      "WARNING:tensorflow:Can save best model only with val_loss available, skipping.\n"
     ]
    },
    {
     "name": "stdout",
     "output_type": "stream",
     "text": [
      "42/42 [==============================] - 23s 551ms/step - loss: 0.0101 - semantic_0_loss: 0.0028 - semantic_1_loss: 0.0061 - semantic_2_loss: 0.0011 - lr: 3.4809e-05\n",
      "Epoch 107/200\n",
      "42/42 [==============================] - ETA: 0s - loss: 0.0101 - semantic_0_loss: 0.0028 - semantic_1_loss: 0.0062 - semantic_2_loss: 0.0011WARNING:tensorflow:Can save best model only with val_loss available, skipping.\n"
     ]
    },
    {
     "name": "stderr",
     "output_type": "stream",
     "text": [
      "WARNING:tensorflow:Can save best model only with val_loss available, skipping.\n"
     ]
    },
    {
     "name": "stdout",
     "output_type": "stream",
     "text": [
      "42/42 [==============================] - 23s 551ms/step - loss: 0.0101 - semantic_0_loss: 0.0028 - semantic_1_loss: 0.0062 - semantic_2_loss: 0.0011 - lr: 3.4461e-05\n",
      "Epoch 108/200\n",
      "42/42 [==============================] - ETA: 0s - loss: 0.0100 - semantic_0_loss: 0.0028 - semantic_1_loss: 0.0061 - semantic_2_loss: 0.0011WARNING:tensorflow:Can save best model only with val_loss available, skipping.\n"
     ]
    },
    {
     "name": "stderr",
     "output_type": "stream",
     "text": [
      "WARNING:tensorflow:Can save best model only with val_loss available, skipping.\n"
     ]
    },
    {
     "name": "stdout",
     "output_type": "stream",
     "text": [
      "42/42 [==============================] - 24s 559ms/step - loss: 0.0100 - semantic_0_loss: 0.0028 - semantic_1_loss: 0.0061 - semantic_2_loss: 0.0011 - lr: 3.4117e-05\n",
      "Epoch 109/200\n",
      "42/42 [==============================] - ETA: 0s - loss: 0.0100 - semantic_0_loss: 0.0028 - semantic_1_loss: 0.0061 - semantic_2_loss: 0.0011WARNING:tensorflow:Can save best model only with val_loss available, skipping.\n"
     ]
    },
    {
     "name": "stderr",
     "output_type": "stream",
     "text": [
      "WARNING:tensorflow:Can save best model only with val_loss available, skipping.\n"
     ]
    },
    {
     "name": "stdout",
     "output_type": "stream",
     "text": [
      "42/42 [==============================] - 23s 549ms/step - loss: 0.0100 - semantic_0_loss: 0.0028 - semantic_1_loss: 0.0061 - semantic_2_loss: 0.0011 - lr: 3.3775e-05\n",
      "Epoch 110/200\n",
      "42/42 [==============================] - ETA: 0s - loss: 0.0100 - semantic_0_loss: 0.0027 - semantic_1_loss: 0.0061 - semantic_2_loss: 0.0011WARNING:tensorflow:Can save best model only with val_loss available, skipping.\n"
     ]
    },
    {
     "name": "stderr",
     "output_type": "stream",
     "text": [
      "WARNING:tensorflow:Can save best model only with val_loss available, skipping.\n"
     ]
    },
    {
     "name": "stdout",
     "output_type": "stream",
     "text": [
      "42/42 [==============================] - 24s 556ms/step - loss: 0.0100 - semantic_0_loss: 0.0027 - semantic_1_loss: 0.0061 - semantic_2_loss: 0.0011 - lr: 3.3438e-05\n",
      "Epoch 111/200\n",
      "42/42 [==============================] - ETA: 0s - loss: 0.0099 - semantic_0_loss: 0.0027 - semantic_1_loss: 0.0060 - semantic_2_loss: 0.0011WARNING:tensorflow:Can save best model only with val_loss available, skipping.\n"
     ]
    },
    {
     "name": "stderr",
     "output_type": "stream",
     "text": [
      "WARNING:tensorflow:Can save best model only with val_loss available, skipping.\n"
     ]
    },
    {
     "name": "stdout",
     "output_type": "stream",
     "text": [
      "42/42 [==============================] - 24s 556ms/step - loss: 0.0099 - semantic_0_loss: 0.0027 - semantic_1_loss: 0.0060 - semantic_2_loss: 0.0011 - lr: 3.3103e-05\n",
      "Epoch 112/200\n",
      "42/42 [==============================] - ETA: 0s - loss: 0.0100 - semantic_0_loss: 0.0028 - semantic_1_loss: 0.0061 - semantic_2_loss: 0.0011WARNING:tensorflow:Can save best model only with val_loss available, skipping.\n"
     ]
    },
    {
     "name": "stderr",
     "output_type": "stream",
     "text": [
      "WARNING:tensorflow:Can save best model only with val_loss available, skipping.\n"
     ]
    },
    {
     "name": "stdout",
     "output_type": "stream",
     "text": [
      "42/42 [==============================] - 24s 567ms/step - loss: 0.0100 - semantic_0_loss: 0.0028 - semantic_1_loss: 0.0061 - semantic_2_loss: 0.0011 - lr: 3.2772e-05\n",
      "Epoch 113/200\n",
      "42/42 [==============================] - ETA: 0s - loss: 0.0099 - semantic_0_loss: 0.0027 - semantic_1_loss: 0.0060 - semantic_2_loss: 0.0011WARNING:tensorflow:Can save best model only with val_loss available, skipping.\n"
     ]
    },
    {
     "name": "stderr",
     "output_type": "stream",
     "text": [
      "WARNING:tensorflow:Can save best model only with val_loss available, skipping.\n"
     ]
    },
    {
     "name": "stdout",
     "output_type": "stream",
     "text": [
      "42/42 [==============================] - 24s 559ms/step - loss: 0.0099 - semantic_0_loss: 0.0027 - semantic_1_loss: 0.0060 - semantic_2_loss: 0.0011 - lr: 3.2445e-05\n",
      "Epoch 114/200\n",
      "42/42 [==============================] - ETA: 0s - loss: 0.0098 - semantic_0_loss: 0.0027 - semantic_1_loss: 0.0060 - semantic_2_loss: 0.0011WARNING:tensorflow:Can save best model only with val_loss available, skipping.\n"
     ]
    },
    {
     "name": "stderr",
     "output_type": "stream",
     "text": [
      "WARNING:tensorflow:Can save best model only with val_loss available, skipping.\n"
     ]
    },
    {
     "name": "stdout",
     "output_type": "stream",
     "text": [
      "42/42 [==============================] - 23s 549ms/step - loss: 0.0098 - semantic_0_loss: 0.0027 - semantic_1_loss: 0.0060 - semantic_2_loss: 0.0011 - lr: 3.2120e-05\n",
      "Epoch 115/200\n",
      "42/42 [==============================] - ETA: 0s - loss: 0.0099 - semantic_0_loss: 0.0028 - semantic_1_loss: 0.0060 - semantic_2_loss: 0.0011WARNING:tensorflow:Can save best model only with val_loss available, skipping.\n"
     ]
    },
    {
     "name": "stderr",
     "output_type": "stream",
     "text": [
      "WARNING:tensorflow:Can save best model only with val_loss available, skipping.\n"
     ]
    },
    {
     "name": "stdout",
     "output_type": "stream",
     "text": [
      "42/42 [==============================] - 24s 565ms/step - loss: 0.0099 - semantic_0_loss: 0.0028 - semantic_1_loss: 0.0060 - semantic_2_loss: 0.0011 - lr: 3.1799e-05\n",
      "Epoch 116/200\n",
      "42/42 [==============================] - ETA: 0s - loss: 0.0100 - semantic_0_loss: 0.0028 - semantic_1_loss: 0.0061 - semantic_2_loss: 0.0011WARNING:tensorflow:Can save best model only with val_loss available, skipping.\n"
     ]
    },
    {
     "name": "stderr",
     "output_type": "stream",
     "text": [
      "WARNING:tensorflow:Can save best model only with val_loss available, skipping.\n"
     ]
    },
    {
     "name": "stdout",
     "output_type": "stream",
     "text": [
      "42/42 [==============================] - 24s 565ms/step - loss: 0.0100 - semantic_0_loss: 0.0028 - semantic_1_loss: 0.0061 - semantic_2_loss: 0.0011 - lr: 3.1481e-05\n",
      "Epoch 117/200\n",
      "42/42 [==============================] - ETA: 0s - loss: 0.0098 - semantic_0_loss: 0.0027 - semantic_1_loss: 0.0060 - semantic_2_loss: 0.0011WARNING:tensorflow:Can save best model only with val_loss available, skipping.\n"
     ]
    },
    {
     "name": "stderr",
     "output_type": "stream",
     "text": [
      "WARNING:tensorflow:Can save best model only with val_loss available, skipping.\n"
     ]
    },
    {
     "name": "stdout",
     "output_type": "stream",
     "text": [
      "42/42 [==============================] - 23s 549ms/step - loss: 0.0098 - semantic_0_loss: 0.0027 - semantic_1_loss: 0.0060 - semantic_2_loss: 0.0011 - lr: 3.1166e-05\n",
      "Epoch 118/200\n",
      "42/42 [==============================] - ETA: 0s - loss: 0.0097 - semantic_0_loss: 0.0027 - semantic_1_loss: 0.0059 - semantic_2_loss: 0.0011WARNING:tensorflow:Can save best model only with val_loss available, skipping.\n"
     ]
    },
    {
     "name": "stderr",
     "output_type": "stream",
     "text": [
      "WARNING:tensorflow:Can save best model only with val_loss available, skipping.\n"
     ]
    },
    {
     "name": "stdout",
     "output_type": "stream",
     "text": [
      "42/42 [==============================] - 24s 560ms/step - loss: 0.0097 - semantic_0_loss: 0.0027 - semantic_1_loss: 0.0059 - semantic_2_loss: 0.0011 - lr: 3.0854e-05\n",
      "Epoch 119/200\n",
      "42/42 [==============================] - ETA: 0s - loss: 0.0097 - semantic_0_loss: 0.0027 - semantic_1_loss: 0.0059 - semantic_2_loss: 0.0011WARNING:tensorflow:Can save best model only with val_loss available, skipping.\n"
     ]
    },
    {
     "name": "stderr",
     "output_type": "stream",
     "text": [
      "WARNING:tensorflow:Can save best model only with val_loss available, skipping.\n"
     ]
    },
    {
     "name": "stdout",
     "output_type": "stream",
     "text": [
      "42/42 [==============================] - 24s 559ms/step - loss: 0.0097 - semantic_0_loss: 0.0027 - semantic_1_loss: 0.0059 - semantic_2_loss: 0.0011 - lr: 3.0546e-05\n",
      "Epoch 120/200\n",
      "42/42 [==============================] - ETA: 0s - loss: 0.0098 - semantic_0_loss: 0.0027 - semantic_1_loss: 0.0060 - semantic_2_loss: 0.0011WARNING:tensorflow:Can save best model only with val_loss available, skipping.\n"
     ]
    },
    {
     "name": "stderr",
     "output_type": "stream",
     "text": [
      "WARNING:tensorflow:Can save best model only with val_loss available, skipping.\n"
     ]
    },
    {
     "name": "stdout",
     "output_type": "stream",
     "text": [
      "42/42 [==============================] - 24s 561ms/step - loss: 0.0098 - semantic_0_loss: 0.0027 - semantic_1_loss: 0.0060 - semantic_2_loss: 0.0011 - lr: 3.0240e-05\n",
      "Epoch 121/200\n",
      "42/42 [==============================] - ETA: 0s - loss: 0.0100 - semantic_0_loss: 0.0028 - semantic_1_loss: 0.0061 - semantic_2_loss: 0.0011WARNING:tensorflow:Can save best model only with val_loss available, skipping.\n"
     ]
    },
    {
     "name": "stderr",
     "output_type": "stream",
     "text": [
      "WARNING:tensorflow:Can save best model only with val_loss available, skipping.\n"
     ]
    },
    {
     "name": "stdout",
     "output_type": "stream",
     "text": [
      "42/42 [==============================] - 24s 558ms/step - loss: 0.0100 - semantic_0_loss: 0.0028 - semantic_1_loss: 0.0061 - semantic_2_loss: 0.0011 - lr: 2.9938e-05\n",
      "Epoch 122/200\n",
      "42/42 [==============================] - ETA: 0s - loss: 0.0099 - semantic_0_loss: 0.0027 - semantic_1_loss: 0.0060 - semantic_2_loss: 0.0011WARNING:tensorflow:Can save best model only with val_loss available, skipping.\n"
     ]
    },
    {
     "name": "stderr",
     "output_type": "stream",
     "text": [
      "WARNING:tensorflow:Can save best model only with val_loss available, skipping.\n"
     ]
    },
    {
     "name": "stdout",
     "output_type": "stream",
     "text": [
      "42/42 [==============================] - 23s 550ms/step - loss: 0.0099 - semantic_0_loss: 0.0027 - semantic_1_loss: 0.0060 - semantic_2_loss: 0.0011 - lr: 2.9639e-05\n",
      "Epoch 123/200\n",
      "42/42 [==============================] - ETA: 0s - loss: 0.0097 - semantic_0_loss: 0.0027 - semantic_1_loss: 0.0059 - semantic_2_loss: 0.0011WARNING:tensorflow:Can save best model only with val_loss available, skipping.\n"
     ]
    },
    {
     "name": "stderr",
     "output_type": "stream",
     "text": [
      "WARNING:tensorflow:Can save best model only with val_loss available, skipping.\n"
     ]
    },
    {
     "name": "stdout",
     "output_type": "stream",
     "text": [
      "42/42 [==============================] - 24s 559ms/step - loss: 0.0097 - semantic_0_loss: 0.0027 - semantic_1_loss: 0.0059 - semantic_2_loss: 0.0011 - lr: 2.9342e-05\n",
      "Epoch 124/200\n",
      "42/42 [==============================] - ETA: 0s - loss: 0.0097 - semantic_0_loss: 0.0027 - semantic_1_loss: 0.0059 - semantic_2_loss: 0.0011WARNING:tensorflow:Can save best model only with val_loss available, skipping.\n"
     ]
    },
    {
     "name": "stderr",
     "output_type": "stream",
     "text": [
      "WARNING:tensorflow:Can save best model only with val_loss available, skipping.\n"
     ]
    },
    {
     "name": "stdout",
     "output_type": "stream",
     "text": [
      "42/42 [==============================] - 24s 558ms/step - loss: 0.0097 - semantic_0_loss: 0.0027 - semantic_1_loss: 0.0059 - semantic_2_loss: 0.0011 - lr: 2.9049e-05\n",
      "Epoch 125/200\n",
      "42/42 [==============================] - ETA: 0s - loss: 0.0099 - semantic_0_loss: 0.0027 - semantic_1_loss: 0.0060 - semantic_2_loss: 0.0011WARNING:tensorflow:Can save best model only with val_loss available, skipping.\n"
     ]
    },
    {
     "name": "stderr",
     "output_type": "stream",
     "text": [
      "WARNING:tensorflow:Can save best model only with val_loss available, skipping.\n"
     ]
    },
    {
     "name": "stdout",
     "output_type": "stream",
     "text": [
      "42/42 [==============================] - 24s 563ms/step - loss: 0.0099 - semantic_0_loss: 0.0027 - semantic_1_loss: 0.0060 - semantic_2_loss: 0.0011 - lr: 2.8758e-05\n",
      "Epoch 126/200\n",
      "42/42 [==============================] - ETA: 0s - loss: 0.0098 - semantic_0_loss: 0.0027 - semantic_1_loss: 0.0059 - semantic_2_loss: 0.0011WARNING:tensorflow:Can save best model only with val_loss available, skipping.\n"
     ]
    },
    {
     "name": "stderr",
     "output_type": "stream",
     "text": [
      "WARNING:tensorflow:Can save best model only with val_loss available, skipping.\n"
     ]
    },
    {
     "name": "stdout",
     "output_type": "stream",
     "text": [
      "42/42 [==============================] - 24s 557ms/step - loss: 0.0098 - semantic_0_loss: 0.0027 - semantic_1_loss: 0.0059 - semantic_2_loss: 0.0011 - lr: 2.8471e-05\n",
      "Epoch 127/200\n",
      "42/42 [==============================] - ETA: 0s - loss: 0.0094 - semantic_0_loss: 0.0026 - semantic_1_loss: 0.0057 - semantic_2_loss: 0.0011WARNING:tensorflow:Can save best model only with val_loss available, skipping.\n"
     ]
    },
    {
     "name": "stderr",
     "output_type": "stream",
     "text": [
      "WARNING:tensorflow:Can save best model only with val_loss available, skipping.\n"
     ]
    },
    {
     "name": "stdout",
     "output_type": "stream",
     "text": [
      "42/42 [==============================] - 23s 546ms/step - loss: 0.0094 - semantic_0_loss: 0.0026 - semantic_1_loss: 0.0057 - semantic_2_loss: 0.0011 - lr: 2.8186e-05\n",
      "Epoch 128/200\n",
      "42/42 [==============================] - ETA: 0s - loss: 0.0097 - semantic_0_loss: 0.0027 - semantic_1_loss: 0.0059 - semantic_2_loss: 0.0011WARNING:tensorflow:Can save best model only with val_loss available, skipping.\n"
     ]
    },
    {
     "name": "stderr",
     "output_type": "stream",
     "text": [
      "WARNING:tensorflow:Can save best model only with val_loss available, skipping.\n"
     ]
    },
    {
     "name": "stdout",
     "output_type": "stream",
     "text": [
      "42/42 [==============================] - 24s 568ms/step - loss: 0.0097 - semantic_0_loss: 0.0027 - semantic_1_loss: 0.0059 - semantic_2_loss: 0.0011 - lr: 2.7904e-05\n",
      "Epoch 129/200\n",
      "42/42 [==============================] - ETA: 0s - loss: 0.0096 - semantic_0_loss: 0.0027 - semantic_1_loss: 0.0059 - semantic_2_loss: 0.0011WARNING:tensorflow:Can save best model only with val_loss available, skipping.\n"
     ]
    },
    {
     "name": "stderr",
     "output_type": "stream",
     "text": [
      "WARNING:tensorflow:Can save best model only with val_loss available, skipping.\n"
     ]
    },
    {
     "name": "stdout",
     "output_type": "stream",
     "text": [
      "42/42 [==============================] - 24s 557ms/step - loss: 0.0096 - semantic_0_loss: 0.0027 - semantic_1_loss: 0.0059 - semantic_2_loss: 0.0011 - lr: 2.7625e-05\n",
      "Epoch 130/200\n",
      "42/42 [==============================] - ETA: 0s - loss: 0.0097 - semantic_0_loss: 0.0027 - semantic_1_loss: 0.0059 - semantic_2_loss: 0.0011WARNING:tensorflow:Can save best model only with val_loss available, skipping.\n"
     ]
    },
    {
     "name": "stderr",
     "output_type": "stream",
     "text": [
      "WARNING:tensorflow:Can save best model only with val_loss available, skipping.\n"
     ]
    },
    {
     "name": "stdout",
     "output_type": "stream",
     "text": [
      "42/42 [==============================] - 24s 563ms/step - loss: 0.0097 - semantic_0_loss: 0.0027 - semantic_1_loss: 0.0059 - semantic_2_loss: 0.0011 - lr: 2.7349e-05\n",
      "Epoch 131/200\n",
      "42/42 [==============================] - ETA: 0s - loss: 0.0097 - semantic_0_loss: 0.0027 - semantic_1_loss: 0.0059 - semantic_2_loss: 0.0011WARNING:tensorflow:Can save best model only with val_loss available, skipping.\n"
     ]
    },
    {
     "name": "stderr",
     "output_type": "stream",
     "text": [
      "WARNING:tensorflow:Can save best model only with val_loss available, skipping.\n"
     ]
    },
    {
     "name": "stdout",
     "output_type": "stream",
     "text": [
      "42/42 [==============================] - 23s 545ms/step - loss: 0.0097 - semantic_0_loss: 0.0027 - semantic_1_loss: 0.0059 - semantic_2_loss: 0.0011 - lr: 2.7075e-05\n",
      "Epoch 132/200\n",
      "42/42 [==============================] - ETA: 0s - loss: 0.0097 - semantic_0_loss: 0.0027 - semantic_1_loss: 0.0059 - semantic_2_loss: 0.0011WARNING:tensorflow:Can save best model only with val_loss available, skipping.\n"
     ]
    },
    {
     "name": "stderr",
     "output_type": "stream",
     "text": [
      "WARNING:tensorflow:Can save best model only with val_loss available, skipping.\n"
     ]
    },
    {
     "name": "stdout",
     "output_type": "stream",
     "text": [
      "42/42 [==============================] - 24s 555ms/step - loss: 0.0097 - semantic_0_loss: 0.0027 - semantic_1_loss: 0.0059 - semantic_2_loss: 0.0011 - lr: 2.6805e-05\n",
      "Epoch 133/200\n",
      "42/42 [==============================] - ETA: 0s - loss: 0.0096 - semantic_0_loss: 0.0027 - semantic_1_loss: 0.0058 - semantic_2_loss: 0.0011WARNING:tensorflow:Can save best model only with val_loss available, skipping.\n"
     ]
    },
    {
     "name": "stderr",
     "output_type": "stream",
     "text": [
      "WARNING:tensorflow:Can save best model only with val_loss available, skipping.\n"
     ]
    },
    {
     "name": "stdout",
     "output_type": "stream",
     "text": [
      "42/42 [==============================] - 23s 553ms/step - loss: 0.0096 - semantic_0_loss: 0.0027 - semantic_1_loss: 0.0058 - semantic_2_loss: 0.0011 - lr: 2.6537e-05\n",
      "Epoch 134/200\n",
      "42/42 [==============================] - ETA: 0s - loss: 0.0097 - semantic_0_loss: 0.0027 - semantic_1_loss: 0.0059 - semantic_2_loss: 0.0011WARNING:tensorflow:Can save best model only with val_loss available, skipping.\n"
     ]
    },
    {
     "name": "stderr",
     "output_type": "stream",
     "text": [
      "WARNING:tensorflow:Can save best model only with val_loss available, skipping.\n"
     ]
    },
    {
     "name": "stdout",
     "output_type": "stream",
     "text": [
      "42/42 [==============================] - 23s 547ms/step - loss: 0.0097 - semantic_0_loss: 0.0027 - semantic_1_loss: 0.0059 - semantic_2_loss: 0.0011 - lr: 2.6271e-05\n",
      "Epoch 135/200\n",
      "42/42 [==============================] - ETA: 0s - loss: 0.0096 - semantic_0_loss: 0.0027 - semantic_1_loss: 0.0058 - semantic_2_loss: 0.0011WARNING:tensorflow:Can save best model only with val_loss available, skipping.\n"
     ]
    },
    {
     "name": "stderr",
     "output_type": "stream",
     "text": [
      "WARNING:tensorflow:Can save best model only with val_loss available, skipping.\n"
     ]
    },
    {
     "name": "stdout",
     "output_type": "stream",
     "text": [
      "42/42 [==============================] - 23s 550ms/step - loss: 0.0096 - semantic_0_loss: 0.0027 - semantic_1_loss: 0.0058 - semantic_2_loss: 0.0011 - lr: 2.6009e-05\n",
      "Epoch 136/200\n",
      "42/42 [==============================] - ETA: 0s - loss: 0.0094 - semantic_0_loss: 0.0026 - semantic_1_loss: 0.0057 - semantic_2_loss: 0.0011WARNING:tensorflow:Can save best model only with val_loss available, skipping.\n"
     ]
    },
    {
     "name": "stderr",
     "output_type": "stream",
     "text": [
      "WARNING:tensorflow:Can save best model only with val_loss available, skipping.\n"
     ]
    },
    {
     "name": "stdout",
     "output_type": "stream",
     "text": [
      "42/42 [==============================] - 23s 549ms/step - loss: 0.0094 - semantic_0_loss: 0.0026 - semantic_1_loss: 0.0057 - semantic_2_loss: 0.0011 - lr: 2.5748e-05\n",
      "Epoch 137/200\n",
      "42/42 [==============================] - ETA: 0s - loss: 0.0095 - semantic_0_loss: 0.0027 - semantic_1_loss: 0.0058 - semantic_2_loss: 0.0011WARNING:tensorflow:Can save best model only with val_loss available, skipping.\n"
     ]
    },
    {
     "name": "stderr",
     "output_type": "stream",
     "text": [
      "WARNING:tensorflow:Can save best model only with val_loss available, skipping.\n"
     ]
    },
    {
     "name": "stdout",
     "output_type": "stream",
     "text": [
      "42/42 [==============================] - 23s 549ms/step - loss: 0.0095 - semantic_0_loss: 0.0027 - semantic_1_loss: 0.0058 - semantic_2_loss: 0.0011 - lr: 2.5491e-05\n",
      "Epoch 138/200\n",
      "42/42 [==============================] - ETA: 0s - loss: 0.0097 - semantic_0_loss: 0.0027 - semantic_1_loss: 0.0058 - semantic_2_loss: 0.0011WARNING:tensorflow:Can save best model only with val_loss available, skipping.\n"
     ]
    },
    {
     "name": "stderr",
     "output_type": "stream",
     "text": [
      "WARNING:tensorflow:Can save best model only with val_loss available, skipping.\n"
     ]
    },
    {
     "name": "stdout",
     "output_type": "stream",
     "text": [
      "42/42 [==============================] - 24s 558ms/step - loss: 0.0097 - semantic_0_loss: 0.0027 - semantic_1_loss: 0.0058 - semantic_2_loss: 0.0011 - lr: 2.5236e-05\n",
      "Epoch 139/200\n",
      "42/42 [==============================] - ETA: 0s - loss: 0.0096 - semantic_0_loss: 0.0027 - semantic_1_loss: 0.0058 - semantic_2_loss: 0.0011WARNING:tensorflow:Can save best model only with val_loss available, skipping.\n"
     ]
    },
    {
     "name": "stderr",
     "output_type": "stream",
     "text": [
      "WARNING:tensorflow:Can save best model only with val_loss available, skipping.\n"
     ]
    },
    {
     "name": "stdout",
     "output_type": "stream",
     "text": [
      "42/42 [==============================] - 23s 553ms/step - loss: 0.0096 - semantic_0_loss: 0.0027 - semantic_1_loss: 0.0058 - semantic_2_loss: 0.0011 - lr: 2.4984e-05\n",
      "Epoch 140/200\n",
      "42/42 [==============================] - ETA: 0s - loss: 0.0096 - semantic_0_loss: 0.0027 - semantic_1_loss: 0.0058 - semantic_2_loss: 0.0011WARNING:tensorflow:Can save best model only with val_loss available, skipping.\n"
     ]
    },
    {
     "name": "stderr",
     "output_type": "stream",
     "text": [
      "WARNING:tensorflow:Can save best model only with val_loss available, skipping.\n"
     ]
    },
    {
     "name": "stdout",
     "output_type": "stream",
     "text": [
      "42/42 [==============================] - 23s 547ms/step - loss: 0.0096 - semantic_0_loss: 0.0027 - semantic_1_loss: 0.0058 - semantic_2_loss: 0.0011 - lr: 2.4734e-05\n",
      "Epoch 141/200\n",
      "42/42 [==============================] - ETA: 0s - loss: 0.0097 - semantic_0_loss: 0.0027 - semantic_1_loss: 0.0059 - semantic_2_loss: 0.0011WARNING:tensorflow:Can save best model only with val_loss available, skipping.\n"
     ]
    },
    {
     "name": "stderr",
     "output_type": "stream",
     "text": [
      "WARNING:tensorflow:Can save best model only with val_loss available, skipping.\n"
     ]
    },
    {
     "name": "stdout",
     "output_type": "stream",
     "text": [
      "42/42 [==============================] - 23s 551ms/step - loss: 0.0097 - semantic_0_loss: 0.0027 - semantic_1_loss: 0.0059 - semantic_2_loss: 0.0011 - lr: 2.4487e-05\n",
      "Epoch 142/200\n",
      "42/42 [==============================] - ETA: 0s - loss: 0.0096 - semantic_0_loss: 0.0027 - semantic_1_loss: 0.0058 - semantic_2_loss: 0.0011WARNING:tensorflow:Can save best model only with val_loss available, skipping.\n"
     ]
    },
    {
     "name": "stderr",
     "output_type": "stream",
     "text": [
      "WARNING:tensorflow:Can save best model only with val_loss available, skipping.\n"
     ]
    },
    {
     "name": "stdout",
     "output_type": "stream",
     "text": [
      "42/42 [==============================] - 24s 560ms/step - loss: 0.0096 - semantic_0_loss: 0.0027 - semantic_1_loss: 0.0058 - semantic_2_loss: 0.0011 - lr: 2.4242e-05\n",
      "Epoch 143/200\n",
      "42/42 [==============================] - ETA: 0s - loss: 0.0096 - semantic_0_loss: 0.0027 - semantic_1_loss: 0.0058 - semantic_2_loss: 0.0011WARNING:tensorflow:Can save best model only with val_loss available, skipping.\n"
     ]
    },
    {
     "name": "stderr",
     "output_type": "stream",
     "text": [
      "WARNING:tensorflow:Can save best model only with val_loss available, skipping.\n"
     ]
    },
    {
     "name": "stdout",
     "output_type": "stream",
     "text": [
      "42/42 [==============================] - 24s 567ms/step - loss: 0.0096 - semantic_0_loss: 0.0027 - semantic_1_loss: 0.0058 - semantic_2_loss: 0.0011 - lr: 2.3999e-05\n",
      "Epoch 144/200\n",
      "42/42 [==============================] - ETA: 0s - loss: 0.0096 - semantic_0_loss: 0.0027 - semantic_1_loss: 0.0058 - semantic_2_loss: 0.0011WARNING:tensorflow:Can save best model only with val_loss available, skipping.\n"
     ]
    },
    {
     "name": "stderr",
     "output_type": "stream",
     "text": [
      "WARNING:tensorflow:Can save best model only with val_loss available, skipping.\n"
     ]
    },
    {
     "name": "stdout",
     "output_type": "stream",
     "text": [
      "42/42 [==============================] - 24s 560ms/step - loss: 0.0096 - semantic_0_loss: 0.0027 - semantic_1_loss: 0.0058 - semantic_2_loss: 0.0011 - lr: 2.3759e-05\n",
      "Epoch 145/200\n",
      "42/42 [==============================] - ETA: 0s - loss: 0.0094 - semantic_0_loss: 0.0026 - semantic_1_loss: 0.0057 - semantic_2_loss: 0.0011WARNING:tensorflow:Can save best model only with val_loss available, skipping.\n"
     ]
    },
    {
     "name": "stderr",
     "output_type": "stream",
     "text": [
      "WARNING:tensorflow:Can save best model only with val_loss available, skipping.\n"
     ]
    },
    {
     "name": "stdout",
     "output_type": "stream",
     "text": [
      "42/42 [==============================] - 23s 554ms/step - loss: 0.0094 - semantic_0_loss: 0.0026 - semantic_1_loss: 0.0057 - semantic_2_loss: 0.0011 - lr: 2.3522e-05\n",
      "Epoch 146/200\n",
      "42/42 [==============================] - ETA: 0s - loss: 0.0094 - semantic_0_loss: 0.0026 - semantic_1_loss: 0.0057 - semantic_2_loss: 0.0011WARNING:tensorflow:Can save best model only with val_loss available, skipping.\n"
     ]
    },
    {
     "name": "stderr",
     "output_type": "stream",
     "text": [
      "WARNING:tensorflow:Can save best model only with val_loss available, skipping.\n"
     ]
    },
    {
     "name": "stdout",
     "output_type": "stream",
     "text": [
      "42/42 [==============================] - 24s 562ms/step - loss: 0.0094 - semantic_0_loss: 0.0026 - semantic_1_loss: 0.0057 - semantic_2_loss: 0.0011 - lr: 2.3286e-05\n",
      "Epoch 147/200\n",
      "42/42 [==============================] - ETA: 0s - loss: 0.0095 - semantic_0_loss: 0.0027 - semantic_1_loss: 0.0057 - semantic_2_loss: 0.0011WARNING:tensorflow:Can save best model only with val_loss available, skipping.\n"
     ]
    },
    {
     "name": "stderr",
     "output_type": "stream",
     "text": [
      "WARNING:tensorflow:Can save best model only with val_loss available, skipping.\n"
     ]
    },
    {
     "name": "stdout",
     "output_type": "stream",
     "text": [
      "42/42 [==============================] - 24s 564ms/step - loss: 0.0095 - semantic_0_loss: 0.0027 - semantic_1_loss: 0.0057 - semantic_2_loss: 0.0011 - lr: 2.3054e-05\n",
      "Epoch 148/200\n",
      "42/42 [==============================] - ETA: 0s - loss: 0.0093 - semantic_0_loss: 0.0026 - semantic_1_loss: 0.0056 - semantic_2_loss: 0.0011WARNING:tensorflow:Can save best model only with val_loss available, skipping.\n"
     ]
    },
    {
     "name": "stderr",
     "output_type": "stream",
     "text": [
      "WARNING:tensorflow:Can save best model only with val_loss available, skipping.\n"
     ]
    },
    {
     "name": "stdout",
     "output_type": "stream",
     "text": [
      "42/42 [==============================] - 23s 553ms/step - loss: 0.0093 - semantic_0_loss: 0.0026 - semantic_1_loss: 0.0056 - semantic_2_loss: 0.0011 - lr: 2.2823e-05\n",
      "Epoch 149/200\n",
      "42/42 [==============================] - ETA: 0s - loss: 0.0097 - semantic_0_loss: 0.0027 - semantic_1_loss: 0.0058 - semantic_2_loss: 0.0011WARNING:tensorflow:Can save best model only with val_loss available, skipping.\n"
     ]
    },
    {
     "name": "stderr",
     "output_type": "stream",
     "text": [
      "WARNING:tensorflow:Can save best model only with val_loss available, skipping.\n"
     ]
    },
    {
     "name": "stdout",
     "output_type": "stream",
     "text": [
      "42/42 [==============================] - 24s 567ms/step - loss: 0.0097 - semantic_0_loss: 0.0027 - semantic_1_loss: 0.0058 - semantic_2_loss: 0.0011 - lr: 2.2595e-05\n",
      "Epoch 150/200\n",
      "42/42 [==============================] - ETA: 0s - loss: 0.0095 - semantic_0_loss: 0.0027 - semantic_1_loss: 0.0057 - semantic_2_loss: 0.0011WARNING:tensorflow:Can save best model only with val_loss available, skipping.\n"
     ]
    },
    {
     "name": "stderr",
     "output_type": "stream",
     "text": [
      "WARNING:tensorflow:Can save best model only with val_loss available, skipping.\n"
     ]
    },
    {
     "name": "stdout",
     "output_type": "stream",
     "text": [
      "42/42 [==============================] - 24s 567ms/step - loss: 0.0095 - semantic_0_loss: 0.0027 - semantic_1_loss: 0.0057 - semantic_2_loss: 0.0011 - lr: 2.2369e-05\n",
      "Epoch 151/200\n",
      "42/42 [==============================] - ETA: 0s - loss: 0.0095 - semantic_0_loss: 0.0027 - semantic_1_loss: 0.0057 - semantic_2_loss: 0.0011WARNING:tensorflow:Can save best model only with val_loss available, skipping.\n"
     ]
    },
    {
     "name": "stderr",
     "output_type": "stream",
     "text": [
      "WARNING:tensorflow:Can save best model only with val_loss available, skipping.\n"
     ]
    },
    {
     "name": "stdout",
     "output_type": "stream",
     "text": [
      "42/42 [==============================] - 24s 560ms/step - loss: 0.0095 - semantic_0_loss: 0.0027 - semantic_1_loss: 0.0057 - semantic_2_loss: 0.0011 - lr: 2.2145e-05\n",
      "Epoch 152/200\n",
      "42/42 [==============================] - ETA: 0s - loss: 0.0093 - semantic_0_loss: 0.0026 - semantic_1_loss: 0.0056 - semantic_2_loss: 0.0011WARNING:tensorflow:Can save best model only with val_loss available, skipping.\n"
     ]
    },
    {
     "name": "stderr",
     "output_type": "stream",
     "text": [
      "WARNING:tensorflow:Can save best model only with val_loss available, skipping.\n"
     ]
    },
    {
     "name": "stdout",
     "output_type": "stream",
     "text": [
      "42/42 [==============================] - 24s 558ms/step - loss: 0.0093 - semantic_0_loss: 0.0026 - semantic_1_loss: 0.0056 - semantic_2_loss: 0.0011 - lr: 2.1924e-05\n",
      "Epoch 153/200\n",
      "42/42 [==============================] - ETA: 0s - loss: 0.0094 - semantic_0_loss: 0.0027 - semantic_1_loss: 0.0057 - semantic_2_loss: 0.0011WARNING:tensorflow:Can save best model only with val_loss available, skipping.\n"
     ]
    },
    {
     "name": "stderr",
     "output_type": "stream",
     "text": [
      "WARNING:tensorflow:Can save best model only with val_loss available, skipping.\n"
     ]
    },
    {
     "name": "stdout",
     "output_type": "stream",
     "text": [
      "42/42 [==============================] - 24s 565ms/step - loss: 0.0094 - semantic_0_loss: 0.0027 - semantic_1_loss: 0.0057 - semantic_2_loss: 0.0011 - lr: 2.1704e-05\n",
      "Epoch 154/200\n",
      "42/42 [==============================] - ETA: 0s - loss: 0.0094 - semantic_0_loss: 0.0026 - semantic_1_loss: 0.0056 - semantic_2_loss: 0.0011WARNING:tensorflow:Can save best model only with val_loss available, skipping.\n"
     ]
    },
    {
     "name": "stderr",
     "output_type": "stream",
     "text": [
      "WARNING:tensorflow:Can save best model only with val_loss available, skipping.\n"
     ]
    },
    {
     "name": "stdout",
     "output_type": "stream",
     "text": [
      "42/42 [==============================] - 24s 556ms/step - loss: 0.0094 - semantic_0_loss: 0.0026 - semantic_1_loss: 0.0056 - semantic_2_loss: 0.0011 - lr: 2.1487e-05\n",
      "Epoch 155/200\n",
      "42/42 [==============================] - ETA: 0s - loss: 0.0094 - semantic_0_loss: 0.0026 - semantic_1_loss: 0.0056 - semantic_2_loss: 0.0011WARNING:tensorflow:Can save best model only with val_loss available, skipping.\n"
     ]
    },
    {
     "name": "stderr",
     "output_type": "stream",
     "text": [
      "WARNING:tensorflow:Can save best model only with val_loss available, skipping.\n"
     ]
    },
    {
     "name": "stdout",
     "output_type": "stream",
     "text": [
      "42/42 [==============================] - 23s 553ms/step - loss: 0.0094 - semantic_0_loss: 0.0026 - semantic_1_loss: 0.0056 - semantic_2_loss: 0.0011 - lr: 2.1273e-05\n",
      "Epoch 156/200\n",
      "42/42 [==============================] - ETA: 0s - loss: 0.0093 - semantic_0_loss: 0.0026 - semantic_1_loss: 0.0056 - semantic_2_loss: 0.0011WARNING:tensorflow:Can save best model only with val_loss available, skipping.\n"
     ]
    },
    {
     "name": "stderr",
     "output_type": "stream",
     "text": [
      "WARNING:tensorflow:Can save best model only with val_loss available, skipping.\n"
     ]
    },
    {
     "name": "stdout",
     "output_type": "stream",
     "text": [
      "42/42 [==============================] - 24s 566ms/step - loss: 0.0093 - semantic_0_loss: 0.0026 - semantic_1_loss: 0.0056 - semantic_2_loss: 0.0011 - lr: 2.1060e-05\n",
      "Epoch 157/200\n",
      "42/42 [==============================] - ETA: 0s - loss: 0.0091 - semantic_0_loss: 0.0026 - semantic_1_loss: 0.0054 - semantic_2_loss: 0.0011WARNING:tensorflow:Can save best model only with val_loss available, skipping.\n"
     ]
    },
    {
     "name": "stderr",
     "output_type": "stream",
     "text": [
      "WARNING:tensorflow:Can save best model only with val_loss available, skipping.\n"
     ]
    },
    {
     "name": "stdout",
     "output_type": "stream",
     "text": [
      "42/42 [==============================] - 24s 563ms/step - loss: 0.0091 - semantic_0_loss: 0.0026 - semantic_1_loss: 0.0054 - semantic_2_loss: 0.0011 - lr: 2.0849e-05\n",
      "Epoch 158/200\n",
      "42/42 [==============================] - ETA: 0s - loss: 0.0094 - semantic_0_loss: 0.0026 - semantic_1_loss: 0.0057 - semantic_2_loss: 0.0011WARNING:tensorflow:Can save best model only with val_loss available, skipping.\n"
     ]
    },
    {
     "name": "stderr",
     "output_type": "stream",
     "text": [
      "WARNING:tensorflow:Can save best model only with val_loss available, skipping.\n"
     ]
    },
    {
     "name": "stdout",
     "output_type": "stream",
     "text": [
      "42/42 [==============================] - 24s 559ms/step - loss: 0.0094 - semantic_0_loss: 0.0026 - semantic_1_loss: 0.0057 - semantic_2_loss: 0.0011 - lr: 2.0641e-05\n",
      "Epoch 159/200\n",
      "42/42 [==============================] - ETA: 0s - loss: 0.0093 - semantic_0_loss: 0.0026 - semantic_1_loss: 0.0056 - semantic_2_loss: 0.0011WARNING:tensorflow:Can save best model only with val_loss available, skipping.\n"
     ]
    },
    {
     "name": "stderr",
     "output_type": "stream",
     "text": [
      "WARNING:tensorflow:Can save best model only with val_loss available, skipping.\n"
     ]
    },
    {
     "name": "stdout",
     "output_type": "stream",
     "text": [
      "42/42 [==============================] - 24s 566ms/step - loss: 0.0093 - semantic_0_loss: 0.0026 - semantic_1_loss: 0.0056 - semantic_2_loss: 0.0011 - lr: 2.0434e-05\n",
      "Epoch 160/200\n",
      "42/42 [==============================] - ETA: 0s - loss: 0.0094 - semantic_0_loss: 0.0027 - semantic_1_loss: 0.0057 - semantic_2_loss: 0.0011WARNING:tensorflow:Can save best model only with val_loss available, skipping.\n"
     ]
    },
    {
     "name": "stderr",
     "output_type": "stream",
     "text": [
      "WARNING:tensorflow:Can save best model only with val_loss available, skipping.\n"
     ]
    },
    {
     "name": "stdout",
     "output_type": "stream",
     "text": [
      "42/42 [==============================] - 23s 549ms/step - loss: 0.0094 - semantic_0_loss: 0.0027 - semantic_1_loss: 0.0057 - semantic_2_loss: 0.0011 - lr: 2.0230e-05\n",
      "Epoch 161/200\n",
      "42/42 [==============================] - ETA: 0s - loss: 0.0095 - semantic_0_loss: 0.0027 - semantic_1_loss: 0.0057 - semantic_2_loss: 0.0011WARNING:tensorflow:Can save best model only with val_loss available, skipping.\n"
     ]
    },
    {
     "name": "stderr",
     "output_type": "stream",
     "text": [
      "WARNING:tensorflow:Can save best model only with val_loss available, skipping.\n"
     ]
    },
    {
     "name": "stdout",
     "output_type": "stream",
     "text": [
      "42/42 [==============================] - 24s 562ms/step - loss: 0.0095 - semantic_0_loss: 0.0027 - semantic_1_loss: 0.0057 - semantic_2_loss: 0.0011 - lr: 2.0028e-05\n",
      "Epoch 162/200\n",
      "42/42 [==============================] - ETA: 0s - loss: 0.0094 - semantic_0_loss: 0.0026 - semantic_1_loss: 0.0057 - semantic_2_loss: 0.0011WARNING:tensorflow:Can save best model only with val_loss available, skipping.\n"
     ]
    },
    {
     "name": "stderr",
     "output_type": "stream",
     "text": [
      "WARNING:tensorflow:Can save best model only with val_loss available, skipping.\n"
     ]
    },
    {
     "name": "stdout",
     "output_type": "stream",
     "text": [
      "42/42 [==============================] - 24s 562ms/step - loss: 0.0094 - semantic_0_loss: 0.0026 - semantic_1_loss: 0.0057 - semantic_2_loss: 0.0011 - lr: 1.9827e-05\n",
      "Epoch 163/200\n",
      "42/42 [==============================] - ETA: 0s - loss: 0.0091 - semantic_0_loss: 0.0026 - semantic_1_loss: 0.0055 - semantic_2_loss: 0.0011WARNING:tensorflow:Can save best model only with val_loss available, skipping.\n"
     ]
    },
    {
     "name": "stderr",
     "output_type": "stream",
     "text": [
      "WARNING:tensorflow:Can save best model only with val_loss available, skipping.\n"
     ]
    },
    {
     "name": "stdout",
     "output_type": "stream",
     "text": [
      "42/42 [==============================] - 24s 554ms/step - loss: 0.0091 - semantic_0_loss: 0.0026 - semantic_1_loss: 0.0055 - semantic_2_loss: 0.0011 - lr: 1.9629e-05\n",
      "Epoch 164/200\n",
      "42/42 [==============================] - ETA: 0s - loss: 0.0092 - semantic_0_loss: 0.0026 - semantic_1_loss: 0.0055 - semantic_2_loss: 0.0011WARNING:tensorflow:Can save best model only with val_loss available, skipping.\n"
     ]
    },
    {
     "name": "stderr",
     "output_type": "stream",
     "text": [
      "WARNING:tensorflow:Can save best model only with val_loss available, skipping.\n"
     ]
    },
    {
     "name": "stdout",
     "output_type": "stream",
     "text": [
      "42/42 [==============================] - 23s 548ms/step - loss: 0.0092 - semantic_0_loss: 0.0026 - semantic_1_loss: 0.0055 - semantic_2_loss: 0.0011 - lr: 1.9433e-05\n",
      "Epoch 165/200\n",
      "42/42 [==============================] - ETA: 0s - loss: 0.0091 - semantic_0_loss: 0.0026 - semantic_1_loss: 0.0055 - semantic_2_loss: 0.0011WARNING:tensorflow:Can save best model only with val_loss available, skipping.\n"
     ]
    },
    {
     "name": "stderr",
     "output_type": "stream",
     "text": [
      "WARNING:tensorflow:Can save best model only with val_loss available, skipping.\n"
     ]
    },
    {
     "name": "stdout",
     "output_type": "stream",
     "text": [
      "42/42 [==============================] - 23s 548ms/step - loss: 0.0091 - semantic_0_loss: 0.0026 - semantic_1_loss: 0.0055 - semantic_2_loss: 0.0011 - lr: 1.9239e-05\n",
      "Epoch 166/200\n",
      "42/42 [==============================] - ETA: 0s - loss: 0.0093 - semantic_0_loss: 0.0026 - semantic_1_loss: 0.0056 - semantic_2_loss: 0.0011WARNING:tensorflow:Can save best model only with val_loss available, skipping.\n"
     ]
    },
    {
     "name": "stderr",
     "output_type": "stream",
     "text": [
      "WARNING:tensorflow:Can save best model only with val_loss available, skipping.\n"
     ]
    },
    {
     "name": "stdout",
     "output_type": "stream",
     "text": [
      "42/42 [==============================] - 23s 547ms/step - loss: 0.0093 - semantic_0_loss: 0.0026 - semantic_1_loss: 0.0056 - semantic_2_loss: 0.0011 - lr: 1.9046e-05\n",
      "Epoch 167/200\n",
      "42/42 [==============================] - ETA: 0s - loss: 0.0092 - semantic_0_loss: 0.0026 - semantic_1_loss: 0.0055 - semantic_2_loss: 0.0011WARNING:tensorflow:Can save best model only with val_loss available, skipping.\n"
     ]
    },
    {
     "name": "stderr",
     "output_type": "stream",
     "text": [
      "WARNING:tensorflow:Can save best model only with val_loss available, skipping.\n"
     ]
    },
    {
     "name": "stdout",
     "output_type": "stream",
     "text": [
      "42/42 [==============================] - 23s 550ms/step - loss: 0.0092 - semantic_0_loss: 0.0026 - semantic_1_loss: 0.0055 - semantic_2_loss: 0.0011 - lr: 1.8856e-05\n",
      "Epoch 168/200\n",
      "42/42 [==============================] - ETA: 0s - loss: 0.0092 - semantic_0_loss: 0.0026 - semantic_1_loss: 0.0055 - semantic_2_loss: 0.0011WARNING:tensorflow:Can save best model only with val_loss available, skipping.\n"
     ]
    },
    {
     "name": "stderr",
     "output_type": "stream",
     "text": [
      "WARNING:tensorflow:Can save best model only with val_loss available, skipping.\n"
     ]
    },
    {
     "name": "stdout",
     "output_type": "stream",
     "text": [
      "42/42 [==============================] - 24s 556ms/step - loss: 0.0092 - semantic_0_loss: 0.0026 - semantic_1_loss: 0.0055 - semantic_2_loss: 0.0011 - lr: 1.8667e-05\n",
      "Epoch 169/200\n",
      "42/42 [==============================] - ETA: 0s - loss: 0.0092 - semantic_0_loss: 0.0026 - semantic_1_loss: 0.0055 - semantic_2_loss: 0.0011WARNING:tensorflow:Can save best model only with val_loss available, skipping.\n"
     ]
    },
    {
     "name": "stderr",
     "output_type": "stream",
     "text": [
      "WARNING:tensorflow:Can save best model only with val_loss available, skipping.\n"
     ]
    },
    {
     "name": "stdout",
     "output_type": "stream",
     "text": [
      "42/42 [==============================] - 23s 554ms/step - loss: 0.0092 - semantic_0_loss: 0.0026 - semantic_1_loss: 0.0055 - semantic_2_loss: 0.0011 - lr: 1.8480e-05\n",
      "Epoch 170/200\n",
      "42/42 [==============================] - ETA: 0s - loss: 0.0091 - semantic_0_loss: 0.0026 - semantic_1_loss: 0.0054 - semantic_2_loss: 0.0011WARNING:tensorflow:Can save best model only with val_loss available, skipping.\n"
     ]
    },
    {
     "name": "stderr",
     "output_type": "stream",
     "text": [
      "WARNING:tensorflow:Can save best model only with val_loss available, skipping.\n"
     ]
    },
    {
     "name": "stdout",
     "output_type": "stream",
     "text": [
      "42/42 [==============================] - 23s 552ms/step - loss: 0.0091 - semantic_0_loss: 0.0026 - semantic_1_loss: 0.0054 - semantic_2_loss: 0.0011 - lr: 1.8296e-05\n",
      "Epoch 171/200\n",
      "42/42 [==============================] - ETA: 0s - loss: 0.0091 - semantic_0_loss: 0.0026 - semantic_1_loss: 0.0054 - semantic_2_loss: 0.0011WARNING:tensorflow:Can save best model only with val_loss available, skipping.\n"
     ]
    },
    {
     "name": "stderr",
     "output_type": "stream",
     "text": [
      "WARNING:tensorflow:Can save best model only with val_loss available, skipping.\n"
     ]
    },
    {
     "name": "stdout",
     "output_type": "stream",
     "text": [
      "42/42 [==============================] - 24s 565ms/step - loss: 0.0091 - semantic_0_loss: 0.0026 - semantic_1_loss: 0.0054 - semantic_2_loss: 0.0011 - lr: 1.8113e-05\n",
      "Epoch 172/200\n",
      "42/42 [==============================] - ETA: 0s - loss: 0.0093 - semantic_0_loss: 0.0026 - semantic_1_loss: 0.0056 - semantic_2_loss: 0.0011WARNING:tensorflow:Can save best model only with val_loss available, skipping.\n"
     ]
    },
    {
     "name": "stderr",
     "output_type": "stream",
     "text": [
      "WARNING:tensorflow:Can save best model only with val_loss available, skipping.\n"
     ]
    },
    {
     "name": "stdout",
     "output_type": "stream",
     "text": [
      "42/42 [==============================] - 24s 553ms/step - loss: 0.0093 - semantic_0_loss: 0.0026 - semantic_1_loss: 0.0056 - semantic_2_loss: 0.0011 - lr: 1.7932e-05\n",
      "Epoch 173/200\n",
      "42/42 [==============================] - ETA: 0s - loss: 0.0092 - semantic_0_loss: 0.0026 - semantic_1_loss: 0.0055 - semantic_2_loss: 0.0011WARNING:tensorflow:Can save best model only with val_loss available, skipping.\n"
     ]
    },
    {
     "name": "stderr",
     "output_type": "stream",
     "text": [
      "WARNING:tensorflow:Can save best model only with val_loss available, skipping.\n"
     ]
    },
    {
     "name": "stdout",
     "output_type": "stream",
     "text": [
      "42/42 [==============================] - 24s 564ms/step - loss: 0.0092 - semantic_0_loss: 0.0026 - semantic_1_loss: 0.0055 - semantic_2_loss: 0.0011 - lr: 1.7752e-05\n",
      "Epoch 174/200\n",
      "42/42 [==============================] - ETA: 0s - loss: 0.0092 - semantic_0_loss: 0.0026 - semantic_1_loss: 0.0055 - semantic_2_loss: 0.0011WARNING:tensorflow:Can save best model only with val_loss available, skipping.\n"
     ]
    },
    {
     "name": "stderr",
     "output_type": "stream",
     "text": [
      "WARNING:tensorflow:Can save best model only with val_loss available, skipping.\n"
     ]
    },
    {
     "name": "stdout",
     "output_type": "stream",
     "text": [
      "42/42 [==============================] - 24s 571ms/step - loss: 0.0092 - semantic_0_loss: 0.0026 - semantic_1_loss: 0.0055 - semantic_2_loss: 0.0011 - lr: 1.7575e-05\n",
      "Epoch 175/200\n",
      "42/42 [==============================] - ETA: 0s - loss: 0.0091 - semantic_0_loss: 0.0026 - semantic_1_loss: 0.0055 - semantic_2_loss: 0.0011WARNING:tensorflow:Can save best model only with val_loss available, skipping.\n"
     ]
    },
    {
     "name": "stderr",
     "output_type": "stream",
     "text": [
      "WARNING:tensorflow:Can save best model only with val_loss available, skipping.\n"
     ]
    },
    {
     "name": "stdout",
     "output_type": "stream",
     "text": [
      "42/42 [==============================] - 24s 570ms/step - loss: 0.0091 - semantic_0_loss: 0.0026 - semantic_1_loss: 0.0055 - semantic_2_loss: 0.0011 - lr: 1.7399e-05\n",
      "Epoch 176/200\n",
      "42/42 [==============================] - ETA: 0s - loss: 0.0091 - semantic_0_loss: 0.0026 - semantic_1_loss: 0.0054 - semantic_2_loss: 0.0011WARNING:tensorflow:Can save best model only with val_loss available, skipping.\n"
     ]
    },
    {
     "name": "stderr",
     "output_type": "stream",
     "text": [
      "WARNING:tensorflow:Can save best model only with val_loss available, skipping.\n"
     ]
    },
    {
     "name": "stdout",
     "output_type": "stream",
     "text": [
      "42/42 [==============================] - 23s 551ms/step - loss: 0.0091 - semantic_0_loss: 0.0026 - semantic_1_loss: 0.0054 - semantic_2_loss: 0.0011 - lr: 1.7225e-05\n",
      "Epoch 177/200\n",
      "42/42 [==============================] - ETA: 0s - loss: 0.0091 - semantic_0_loss: 0.0026 - semantic_1_loss: 0.0054 - semantic_2_loss: 0.0011WARNING:tensorflow:Can save best model only with val_loss available, skipping.\n"
     ]
    },
    {
     "name": "stderr",
     "output_type": "stream",
     "text": [
      "WARNING:tensorflow:Can save best model only with val_loss available, skipping.\n"
     ]
    },
    {
     "name": "stdout",
     "output_type": "stream",
     "text": [
      "42/42 [==============================] - 23s 565ms/step - loss: 0.0091 - semantic_0_loss: 0.0026 - semantic_1_loss: 0.0054 - semantic_2_loss: 0.0011 - lr: 1.7053e-05\n",
      "Epoch 178/200\n",
      "42/42 [==============================] - ETA: 0s - loss: 0.0089 - semantic_0_loss: 0.0025 - semantic_1_loss: 0.0053 - semantic_2_loss: 0.0011WARNING:tensorflow:Can save best model only with val_loss available, skipping.\n"
     ]
    },
    {
     "name": "stderr",
     "output_type": "stream",
     "text": [
      "WARNING:tensorflow:Can save best model only with val_loss available, skipping.\n"
     ]
    },
    {
     "name": "stdout",
     "output_type": "stream",
     "text": [
      "42/42 [==============================] - 23s 551ms/step - loss: 0.0089 - semantic_0_loss: 0.0025 - semantic_1_loss: 0.0053 - semantic_2_loss: 0.0011 - lr: 1.6882e-05\n",
      "Epoch 179/200\n",
      "42/42 [==============================] - ETA: 0s - loss: 0.0091 - semantic_0_loss: 0.0026 - semantic_1_loss: 0.0055 - semantic_2_loss: 0.0011WARNING:tensorflow:Can save best model only with val_loss available, skipping.\n"
     ]
    },
    {
     "name": "stderr",
     "output_type": "stream",
     "text": [
      "WARNING:tensorflow:Can save best model only with val_loss available, skipping.\n"
     ]
    },
    {
     "name": "stdout",
     "output_type": "stream",
     "text": [
      "42/42 [==============================] - 24s 557ms/step - loss: 0.0091 - semantic_0_loss: 0.0026 - semantic_1_loss: 0.0055 - semantic_2_loss: 0.0011 - lr: 1.6713e-05\n",
      "Epoch 180/200\n",
      "42/42 [==============================] - ETA: 0s - loss: 0.0089 - semantic_0_loss: 0.0025 - semantic_1_loss: 0.0053 - semantic_2_loss: 0.0011WARNING:tensorflow:Can save best model only with val_loss available, skipping.\n"
     ]
    },
    {
     "name": "stderr",
     "output_type": "stream",
     "text": [
      "WARNING:tensorflow:Can save best model only with val_loss available, skipping.\n"
     ]
    },
    {
     "name": "stdout",
     "output_type": "stream",
     "text": [
      "42/42 [==============================] - 23s 552ms/step - loss: 0.0089 - semantic_0_loss: 0.0025 - semantic_1_loss: 0.0053 - semantic_2_loss: 0.0011 - lr: 1.6546e-05\n",
      "Epoch 181/200\n",
      "42/42 [==============================] - ETA: 0s - loss: 0.0092 - semantic_0_loss: 0.0026 - semantic_1_loss: 0.0055 - semantic_2_loss: 0.0011WARNING:tensorflow:Can save best model only with val_loss available, skipping.\n"
     ]
    },
    {
     "name": "stderr",
     "output_type": "stream",
     "text": [
      "WARNING:tensorflow:Can save best model only with val_loss available, skipping.\n"
     ]
    },
    {
     "name": "stdout",
     "output_type": "stream",
     "text": [
      "42/42 [==============================] - 24s 557ms/step - loss: 0.0092 - semantic_0_loss: 0.0026 - semantic_1_loss: 0.0055 - semantic_2_loss: 0.0011 - lr: 1.6381e-05\n",
      "Epoch 182/200\n",
      "42/42 [==============================] - ETA: 0s - loss: 0.0092 - semantic_0_loss: 0.0026 - semantic_1_loss: 0.0055 - semantic_2_loss: 0.0011WARNING:tensorflow:Can save best model only with val_loss available, skipping.\n"
     ]
    },
    {
     "name": "stderr",
     "output_type": "stream",
     "text": [
      "WARNING:tensorflow:Can save best model only with val_loss available, skipping.\n"
     ]
    },
    {
     "name": "stdout",
     "output_type": "stream",
     "text": [
      "42/42 [==============================] - 23s 545ms/step - loss: 0.0092 - semantic_0_loss: 0.0026 - semantic_1_loss: 0.0055 - semantic_2_loss: 0.0011 - lr: 1.6217e-05\n",
      "Epoch 183/200\n",
      "42/42 [==============================] - ETA: 0s - loss: 0.0093 - semantic_0_loss: 0.0026 - semantic_1_loss: 0.0056 - semantic_2_loss: 0.0011WARNING:tensorflow:Can save best model only with val_loss available, skipping.\n"
     ]
    },
    {
     "name": "stderr",
     "output_type": "stream",
     "text": [
      "WARNING:tensorflow:Can save best model only with val_loss available, skipping.\n"
     ]
    },
    {
     "name": "stdout",
     "output_type": "stream",
     "text": [
      "42/42 [==============================] - 24s 560ms/step - loss: 0.0093 - semantic_0_loss: 0.0026 - semantic_1_loss: 0.0056 - semantic_2_loss: 0.0011 - lr: 1.6055e-05\n",
      "Epoch 184/200\n",
      "42/42 [==============================] - ETA: 0s - loss: 0.0092 - semantic_0_loss: 0.0026 - semantic_1_loss: 0.0055 - semantic_2_loss: 0.0011WARNING:tensorflow:Can save best model only with val_loss available, skipping.\n"
     ]
    },
    {
     "name": "stderr",
     "output_type": "stream",
     "text": [
      "WARNING:tensorflow:Can save best model only with val_loss available, skipping.\n"
     ]
    },
    {
     "name": "stdout",
     "output_type": "stream",
     "text": [
      "42/42 [==============================] - 24s 561ms/step - loss: 0.0092 - semantic_0_loss: 0.0026 - semantic_1_loss: 0.0055 - semantic_2_loss: 0.0011 - lr: 1.5894e-05\n",
      "Epoch 185/200\n",
      "42/42 [==============================] - ETA: 0s - loss: 0.0092 - semantic_0_loss: 0.0026 - semantic_1_loss: 0.0055 - semantic_2_loss: 0.0011WARNING:tensorflow:Can save best model only with val_loss available, skipping.\n"
     ]
    },
    {
     "name": "stderr",
     "output_type": "stream",
     "text": [
      "WARNING:tensorflow:Can save best model only with val_loss available, skipping.\n"
     ]
    },
    {
     "name": "stdout",
     "output_type": "stream",
     "text": [
      "42/42 [==============================] - 24s 561ms/step - loss: 0.0092 - semantic_0_loss: 0.0026 - semantic_1_loss: 0.0055 - semantic_2_loss: 0.0011 - lr: 1.5735e-05\n",
      "Epoch 186/200\n",
      "42/42 [==============================] - ETA: 0s - loss: 0.0093 - semantic_0_loss: 0.0026 - semantic_1_loss: 0.0056 - semantic_2_loss: 0.0011WARNING:tensorflow:Can save best model only with val_loss available, skipping.\n"
     ]
    },
    {
     "name": "stderr",
     "output_type": "stream",
     "text": [
      "WARNING:tensorflow:Can save best model only with val_loss available, skipping.\n"
     ]
    },
    {
     "name": "stdout",
     "output_type": "stream",
     "text": [
      "42/42 [==============================] - 23s 552ms/step - loss: 0.0093 - semantic_0_loss: 0.0026 - semantic_1_loss: 0.0056 - semantic_2_loss: 0.0011 - lr: 1.5578e-05\n",
      "Epoch 187/200\n",
      "42/42 [==============================] - ETA: 0s - loss: 0.0091 - semantic_0_loss: 0.0026 - semantic_1_loss: 0.0055 - semantic_2_loss: 0.0011WARNING:tensorflow:Can save best model only with val_loss available, skipping.\n"
     ]
    },
    {
     "name": "stderr",
     "output_type": "stream",
     "text": [
      "WARNING:tensorflow:Can save best model only with val_loss available, skipping.\n"
     ]
    },
    {
     "name": "stdout",
     "output_type": "stream",
     "text": [
      "42/42 [==============================] - 23s 553ms/step - loss: 0.0091 - semantic_0_loss: 0.0026 - semantic_1_loss: 0.0055 - semantic_2_loss: 0.0011 - lr: 1.5422e-05\n",
      "Epoch 188/200\n",
      "42/42 [==============================] - ETA: 0s - loss: 0.0091 - semantic_0_loss: 0.0026 - semantic_1_loss: 0.0055 - semantic_2_loss: 0.0011WARNING:tensorflow:Can save best model only with val_loss available, skipping.\n"
     ]
    },
    {
     "name": "stderr",
     "output_type": "stream",
     "text": [
      "WARNING:tensorflow:Can save best model only with val_loss available, skipping.\n"
     ]
    },
    {
     "name": "stdout",
     "output_type": "stream",
     "text": [
      "42/42 [==============================] - 24s 555ms/step - loss: 0.0091 - semantic_0_loss: 0.0026 - semantic_1_loss: 0.0055 - semantic_2_loss: 0.0011 - lr: 1.5268e-05\n",
      "Epoch 189/200\n",
      "42/42 [==============================] - ETA: 0s - loss: 0.0090 - semantic_0_loss: 0.0026 - semantic_1_loss: 0.0054 - semantic_2_loss: 0.0011WARNING:tensorflow:Can save best model only with val_loss available, skipping.\n"
     ]
    },
    {
     "name": "stderr",
     "output_type": "stream",
     "text": [
      "WARNING:tensorflow:Can save best model only with val_loss available, skipping.\n"
     ]
    },
    {
     "name": "stdout",
     "output_type": "stream",
     "text": [
      "42/42 [==============================] - 24s 555ms/step - loss: 0.0090 - semantic_0_loss: 0.0026 - semantic_1_loss: 0.0054 - semantic_2_loss: 0.0011 - lr: 1.5115e-05\n",
      "Epoch 190/200\n",
      "42/42 [==============================] - ETA: 0s - loss: 0.0091 - semantic_0_loss: 0.0026 - semantic_1_loss: 0.0054 - semantic_2_loss: 0.0011WARNING:tensorflow:Can save best model only with val_loss available, skipping.\n"
     ]
    },
    {
     "name": "stderr",
     "output_type": "stream",
     "text": [
      "WARNING:tensorflow:Can save best model only with val_loss available, skipping.\n"
     ]
    },
    {
     "name": "stdout",
     "output_type": "stream",
     "text": [
      "42/42 [==============================] - 23s 553ms/step - loss: 0.0091 - semantic_0_loss: 0.0026 - semantic_1_loss: 0.0054 - semantic_2_loss: 0.0011 - lr: 1.4964e-05\n",
      "Epoch 191/200\n",
      "42/42 [==============================] - ETA: 0s - loss: 0.0089 - semantic_0_loss: 0.0025 - semantic_1_loss: 0.0053 - semantic_2_loss: 0.0010WARNING:tensorflow:Can save best model only with val_loss available, skipping.\n"
     ]
    },
    {
     "name": "stderr",
     "output_type": "stream",
     "text": [
      "WARNING:tensorflow:Can save best model only with val_loss available, skipping.\n"
     ]
    },
    {
     "name": "stdout",
     "output_type": "stream",
     "text": [
      "42/42 [==============================] - 24s 560ms/step - loss: 0.0089 - semantic_0_loss: 0.0025 - semantic_1_loss: 0.0053 - semantic_2_loss: 0.0010 - lr: 1.4814e-05\n",
      "Epoch 192/200\n",
      "42/42 [==============================] - ETA: 0s - loss: 0.0091 - semantic_0_loss: 0.0026 - semantic_1_loss: 0.0055 - semantic_2_loss: 0.0011WARNING:tensorflow:Can save best model only with val_loss available, skipping.\n"
     ]
    },
    {
     "name": "stderr",
     "output_type": "stream",
     "text": [
      "WARNING:tensorflow:Can save best model only with val_loss available, skipping.\n"
     ]
    },
    {
     "name": "stdout",
     "output_type": "stream",
     "text": [
      "42/42 [==============================] - 24s 563ms/step - loss: 0.0091 - semantic_0_loss: 0.0026 - semantic_1_loss: 0.0055 - semantic_2_loss: 0.0011 - lr: 1.4666e-05\n",
      "Epoch 193/200\n",
      "42/42 [==============================] - ETA: 0s - loss: 0.0091 - semantic_0_loss: 0.0026 - semantic_1_loss: 0.0054 - semantic_2_loss: 0.0011WARNING:tensorflow:Can save best model only with val_loss available, skipping.\n"
     ]
    },
    {
     "name": "stderr",
     "output_type": "stream",
     "text": [
      "WARNING:tensorflow:Can save best model only with val_loss available, skipping.\n"
     ]
    },
    {
     "name": "stdout",
     "output_type": "stream",
     "text": [
      "42/42 [==============================] - 24s 562ms/step - loss: 0.0091 - semantic_0_loss: 0.0026 - semantic_1_loss: 0.0054 - semantic_2_loss: 0.0011 - lr: 1.4520e-05\n",
      "Epoch 194/200\n",
      "42/42 [==============================] - ETA: 0s - loss: 0.0090 - semantic_0_loss: 0.0026 - semantic_1_loss: 0.0054 - semantic_2_loss: 0.0011WARNING:tensorflow:Can save best model only with val_loss available, skipping.\n"
     ]
    },
    {
     "name": "stderr",
     "output_type": "stream",
     "text": [
      "WARNING:tensorflow:Can save best model only with val_loss available, skipping.\n"
     ]
    },
    {
     "name": "stdout",
     "output_type": "stream",
     "text": [
      "42/42 [==============================] - 24s 561ms/step - loss: 0.0090 - semantic_0_loss: 0.0026 - semantic_1_loss: 0.0054 - semantic_2_loss: 0.0011 - lr: 1.4374e-05\n",
      "Epoch 195/200\n",
      "42/42 [==============================] - ETA: 0s - loss: 0.0091 - semantic_0_loss: 0.0026 - semantic_1_loss: 0.0054 - semantic_2_loss: 0.0011WARNING:tensorflow:Can save best model only with val_loss available, skipping.\n"
     ]
    },
    {
     "name": "stderr",
     "output_type": "stream",
     "text": [
      "WARNING:tensorflow:Can save best model only with val_loss available, skipping.\n"
     ]
    },
    {
     "name": "stdout",
     "output_type": "stream",
     "text": [
      "42/42 [==============================] - 24s 556ms/step - loss: 0.0091 - semantic_0_loss: 0.0026 - semantic_1_loss: 0.0054 - semantic_2_loss: 0.0011 - lr: 1.4231e-05\n",
      "Epoch 196/200\n",
      "42/42 [==============================] - ETA: 0s - loss: 0.0088 - semantic_0_loss: 0.0025 - semantic_1_loss: 0.0053 - semantic_2_loss: 0.0010WARNING:tensorflow:Can save best model only with val_loss available, skipping.\n"
     ]
    },
    {
     "name": "stderr",
     "output_type": "stream",
     "text": [
      "WARNING:tensorflow:Can save best model only with val_loss available, skipping.\n"
     ]
    },
    {
     "name": "stdout",
     "output_type": "stream",
     "text": [
      "42/42 [==============================] - 23s 545ms/step - loss: 0.0088 - semantic_0_loss: 0.0025 - semantic_1_loss: 0.0053 - semantic_2_loss: 0.0010 - lr: 1.4088e-05\n",
      "Epoch 197/200\n",
      "42/42 [==============================] - ETA: 0s - loss: 0.0091 - semantic_0_loss: 0.0026 - semantic_1_loss: 0.0055 - semantic_2_loss: 0.0011WARNING:tensorflow:Can save best model only with val_loss available, skipping.\n"
     ]
    },
    {
     "name": "stderr",
     "output_type": "stream",
     "text": [
      "WARNING:tensorflow:Can save best model only with val_loss available, skipping.\n"
     ]
    },
    {
     "name": "stdout",
     "output_type": "stream",
     "text": [
      "42/42 [==============================] - 23s 562ms/step - loss: 0.0091 - semantic_0_loss: 0.0026 - semantic_1_loss: 0.0055 - semantic_2_loss: 0.0011 - lr: 1.3948e-05\n",
      "Epoch 198/200\n",
      "42/42 [==============================] - ETA: 0s - loss: 0.0090 - semantic_0_loss: 0.0026 - semantic_1_loss: 0.0054 - semantic_2_loss: 0.0011WARNING:tensorflow:Can save best model only with val_loss available, skipping.\n"
     ]
    },
    {
     "name": "stderr",
     "output_type": "stream",
     "text": [
      "WARNING:tensorflow:Can save best model only with val_loss available, skipping.\n"
     ]
    },
    {
     "name": "stdout",
     "output_type": "stream",
     "text": [
      "42/42 [==============================] - 24s 573ms/step - loss: 0.0090 - semantic_0_loss: 0.0026 - semantic_1_loss: 0.0054 - semantic_2_loss: 0.0011 - lr: 1.3808e-05\n",
      "Epoch 199/200\n",
      "42/42 [==============================] - ETA: 0s - loss: 0.0091 - semantic_0_loss: 0.0026 - semantic_1_loss: 0.0055 - semantic_2_loss: 0.0011WARNING:tensorflow:Can save best model only with val_loss available, skipping.\n"
     ]
    },
    {
     "name": "stderr",
     "output_type": "stream",
     "text": [
      "WARNING:tensorflow:Can save best model only with val_loss available, skipping.\n"
     ]
    },
    {
     "name": "stdout",
     "output_type": "stream",
     "text": [
      "42/42 [==============================] - 23s 552ms/step - loss: 0.0091 - semantic_0_loss: 0.0026 - semantic_1_loss: 0.0055 - semantic_2_loss: 0.0011 - lr: 1.3670e-05\n",
      "Epoch 200/200\n",
      "42/42 [==============================] - ETA: 0s - loss: 0.0089 - semantic_0_loss: 0.0025 - semantic_1_loss: 0.0053 - semantic_2_loss: 0.0010WARNING:tensorflow:Can save best model only with val_loss available, skipping.\n"
     ]
    },
    {
     "name": "stderr",
     "output_type": "stream",
     "text": [
      "WARNING:tensorflow:Can save best model only with val_loss available, skipping.\n"
     ]
    },
    {
     "name": "stdout",
     "output_type": "stream",
     "text": [
      "42/42 [==============================] - 23s 555ms/step - loss: 0.0089 - semantic_0_loss: 0.0025 - semantic_1_loss: 0.0053 - semantic_2_loss: 0.0010 - lr: 1.3533e-05\n",
      "/home/yfong/deeplearning/dense_cell_segmentation\n",
      "['M926910_CFL_Position7_CD3_test_img.png', 'M872956_JML_Position10_CD3_test_img.png', 'M872956_JML_Position8_CD8_test_img.png', 'M926910_CFL_Position13_CD3_test_img.png', 'M872956_JML_Position8_CD3_test_img.png', 'M872956_JML_Position8_CD4_test_img.png', 'M872956_JML_Position9_CD3_test_img.png']\n",
      "M926910_CFL_Position7_CD3_test_img.png\n"
     ]
    },
    {
     "name": "stderr",
     "output_type": "stream",
     "text": [
      "/app/software/DeepCell/0.11.1-foss-2021b-CUDA-11.4.1/lib/python3.9/site-packages/deepcell_toolbox/deep_watershed.py:179: FutureWarning: `selem` is a deprecated argument name for `h_maxima`. It will be removed in version 1.0.Please use `footprint` instead.\n",
      "  markers = h_maxima(image=maxima,\n"
     ]
    },
    {
     "name": "stdout",
     "output_type": "stream",
     "text": [
      "M872956_JML_Position10_CD3_test_img.png\n",
      "M872956_JML_Position8_CD8_test_img.png\n",
      "M926910_CFL_Position13_CD3_test_img.png\n",
      "M872956_JML_Position8_CD3_test_img.png\n",
      "M872956_JML_Position8_CD4_test_img.png\n",
      "M872956_JML_Position9_CD3_test_img.png\n",
      "[[0.3230769230769231, 0.4261006289308176], [0.2886405959031657, 0.4273204903677758], [0.4437869822485207, 0.5245901639344263], [0.2535211267605634, 0.3734015345268542], [0.3903345724907063, 0.5914972273567468], [0.4730878186968839, 0.609375], [0.24680851063829787, 0.4061224489795918]]\n",
      "                                         0         1         2\n",
      "0   M926910_CFL_Position7_CD3_test_img.png  0.323077  0.426101\n",
      "1  M872956_JML_Position10_CD3_test_img.png  0.288641   0.42732\n",
      "2   M872956_JML_Position8_CD8_test_img.png  0.443787   0.52459\n",
      "3  M926910_CFL_Position13_CD3_test_img.png  0.253521  0.373402\n",
      "4   M872956_JML_Position8_CD3_test_img.png  0.390335  0.591497\n",
      "5   M872956_JML_Position8_CD4_test_img.png  0.473088  0.609375\n",
      "6   M872956_JML_Position9_CD3_test_img.png  0.246809  0.406122\n",
      "WARNING:tensorflow:Removing 6 of 175 images with fewer than 5 objects.\n"
     ]
    },
    {
     "name": "stderr",
     "output_type": "stream",
     "text": [
      "WARNING:tensorflow:Removing 6 of 175 images with fewer than 5 objects.\n",
      "/app/software/TensorFlow/2.7.1-foss-2021b-CUDA-11.4.1/lib/python3.9/site-packages/keras/optimizer_v2/adam.py:105: UserWarning: The `lr` argument is deprecated, use `learning_rate` instead.\n",
      "  super(Adam, self).__init__(name, **kwargs)\n"
     ]
    },
    {
     "name": "stdout",
     "output_type": "stream",
     "text": [
      "Training on 3 GPUs.\n"
     ]
    },
    {
     "name": "stderr",
     "output_type": "stream",
     "text": [
      "2022-11-13 03:36:37.000541: I tensorflow/core/common_runtime/gpu/gpu_device.cc:1525] Created device /device:GPU:0 with 14657 MB memory:  -> device: 0, name: Tesla V100-PCIE-16GB, pci bus id: 0000:04:00.0, compute capability: 7.0\n",
      "2022-11-13 03:36:37.001641: I tensorflow/core/common_runtime/gpu/gpu_device.cc:1525] Created device /device:GPU:1 with 14657 MB memory:  -> device: 1, name: Tesla V100-PCIE-16GB, pci bus id: 0000:06:00.0, compute capability: 7.0\n",
      "2022-11-13 03:36:37.002688: I tensorflow/core/common_runtime/gpu/gpu_device.cc:1525] Created device /device:GPU:2 with 14657 MB memory:  -> device: 2, name: Tesla V100-PCIE-16GB, pci bus id: 0000:08:00.0, compute capability: 7.0\n"
     ]
    },
    {
     "name": "stdout",
     "output_type": "stream",
     "text": [
      "Epoch 1/200\n",
      "42/42 [==============================] - ETA: 0s - loss: 0.0170 - semantic_0_loss: 0.0042 - semantic_1_loss: 0.0105 - semantic_2_loss: 0.0023WARNING:tensorflow:Can save best model only with val_loss available, skipping.\n"
     ]
    },
    {
     "name": "stderr",
     "output_type": "stream",
     "text": [
      "WARNING:tensorflow:Can save best model only with val_loss available, skipping.\n"
     ]
    },
    {
     "name": "stdout",
     "output_type": "stream",
     "text": [
      "42/42 [==============================] - 38s 568ms/step - loss: 0.0170 - semantic_0_loss: 0.0042 - semantic_1_loss: 0.0105 - semantic_2_loss: 0.0023 - lr: 1.0000e-04\n",
      "Epoch 2/200\n",
      "42/42 [==============================] - ETA: 0s - loss: 0.0147 - semantic_0_loss: 0.0037 - semantic_1_loss: 0.0094 - semantic_2_loss: 0.0016WARNING:tensorflow:Can save best model only with val_loss available, skipping.\n"
     ]
    },
    {
     "name": "stderr",
     "output_type": "stream",
     "text": [
      "WARNING:tensorflow:Can save best model only with val_loss available, skipping.\n"
     ]
    },
    {
     "name": "stdout",
     "output_type": "stream",
     "text": [
      "42/42 [==============================] - 24s 562ms/step - loss: 0.0147 - semantic_0_loss: 0.0037 - semantic_1_loss: 0.0094 - semantic_2_loss: 0.0016 - lr: 9.9000e-05\n",
      "Epoch 3/200\n",
      "42/42 [==============================] - ETA: 0s - loss: 0.0140 - semantic_0_loss: 0.0035 - semantic_1_loss: 0.0089 - semantic_2_loss: 0.0015WARNING:tensorflow:Can save best model only with val_loss available, skipping.\n"
     ]
    },
    {
     "name": "stderr",
     "output_type": "stream",
     "text": [
      "WARNING:tensorflow:Can save best model only with val_loss available, skipping.\n"
     ]
    },
    {
     "name": "stdout",
     "output_type": "stream",
     "text": [
      "42/42 [==============================] - 23s 552ms/step - loss: 0.0140 - semantic_0_loss: 0.0035 - semantic_1_loss: 0.0089 - semantic_2_loss: 0.0015 - lr: 9.8010e-05\n",
      "Epoch 4/200\n",
      "42/42 [==============================] - ETA: 0s - loss: 0.0141 - semantic_0_loss: 0.0036 - semantic_1_loss: 0.0090 - semantic_2_loss: 0.0015WARNING:tensorflow:Can save best model only with val_loss available, skipping.\n"
     ]
    },
    {
     "name": "stderr",
     "output_type": "stream",
     "text": [
      "WARNING:tensorflow:Can save best model only with val_loss available, skipping.\n"
     ]
    },
    {
     "name": "stdout",
     "output_type": "stream",
     "text": [
      "42/42 [==============================] - 24s 555ms/step - loss: 0.0141 - semantic_0_loss: 0.0036 - semantic_1_loss: 0.0090 - semantic_2_loss: 0.0015 - lr: 9.7030e-05\n",
      "Epoch 5/200\n",
      "42/42 [==============================] - ETA: 0s - loss: 0.0140 - semantic_0_loss: 0.0036 - semantic_1_loss: 0.0089 - semantic_2_loss: 0.0015WARNING:tensorflow:Can save best model only with val_loss available, skipping.\n"
     ]
    },
    {
     "name": "stderr",
     "output_type": "stream",
     "text": [
      "WARNING:tensorflow:Can save best model only with val_loss available, skipping.\n"
     ]
    },
    {
     "name": "stdout",
     "output_type": "stream",
     "text": [
      "42/42 [==============================] - 24s 557ms/step - loss: 0.0140 - semantic_0_loss: 0.0036 - semantic_1_loss: 0.0089 - semantic_2_loss: 0.0015 - lr: 9.6060e-05\n",
      "Epoch 6/200\n",
      "42/42 [==============================] - ETA: 0s - loss: 0.0136 - semantic_0_loss: 0.0035 - semantic_1_loss: 0.0086 - semantic_2_loss: 0.0015WARNING:tensorflow:Can save best model only with val_loss available, skipping.\n"
     ]
    },
    {
     "name": "stderr",
     "output_type": "stream",
     "text": [
      "WARNING:tensorflow:Can save best model only with val_loss available, skipping.\n"
     ]
    },
    {
     "name": "stdout",
     "output_type": "stream",
     "text": [
      "42/42 [==============================] - 23s 552ms/step - loss: 0.0136 - semantic_0_loss: 0.0035 - semantic_1_loss: 0.0086 - semantic_2_loss: 0.0015 - lr: 9.5099e-05\n",
      "Epoch 7/200\n",
      "42/42 [==============================] - ETA: 0s - loss: 0.0136 - semantic_0_loss: 0.0035 - semantic_1_loss: 0.0086 - semantic_2_loss: 0.0015WARNING:tensorflow:Can save best model only with val_loss available, skipping.\n"
     ]
    },
    {
     "name": "stderr",
     "output_type": "stream",
     "text": [
      "WARNING:tensorflow:Can save best model only with val_loss available, skipping.\n"
     ]
    },
    {
     "name": "stdout",
     "output_type": "stream",
     "text": [
      "42/42 [==============================] - 23s 559ms/step - loss: 0.0136 - semantic_0_loss: 0.0035 - semantic_1_loss: 0.0086 - semantic_2_loss: 0.0015 - lr: 9.4148e-05\n",
      "Epoch 8/200\n",
      "42/42 [==============================] - ETA: 0s - loss: 0.0137 - semantic_0_loss: 0.0035 - semantic_1_loss: 0.0087 - semantic_2_loss: 0.0015WARNING:tensorflow:Can save best model only with val_loss available, skipping.\n"
     ]
    },
    {
     "name": "stderr",
     "output_type": "stream",
     "text": [
      "WARNING:tensorflow:Can save best model only with val_loss available, skipping.\n"
     ]
    },
    {
     "name": "stdout",
     "output_type": "stream",
     "text": [
      "42/42 [==============================] - 24s 573ms/step - loss: 0.0137 - semantic_0_loss: 0.0035 - semantic_1_loss: 0.0087 - semantic_2_loss: 0.0015 - lr: 9.3207e-05\n",
      "Epoch 9/200\n",
      "42/42 [==============================] - ETA: 0s - loss: 0.0133 - semantic_0_loss: 0.0034 - semantic_1_loss: 0.0084 - semantic_2_loss: 0.0015WARNING:tensorflow:Can save best model only with val_loss available, skipping.\n"
     ]
    },
    {
     "name": "stderr",
     "output_type": "stream",
     "text": [
      "WARNING:tensorflow:Can save best model only with val_loss available, skipping.\n"
     ]
    },
    {
     "name": "stdout",
     "output_type": "stream",
     "text": [
      "42/42 [==============================] - 23s 552ms/step - loss: 0.0133 - semantic_0_loss: 0.0034 - semantic_1_loss: 0.0084 - semantic_2_loss: 0.0015 - lr: 9.2274e-05\n",
      "Epoch 10/200\n",
      "42/42 [==============================] - ETA: 0s - loss: 0.0133 - semantic_0_loss: 0.0034 - semantic_1_loss: 0.0085 - semantic_2_loss: 0.0014WARNING:tensorflow:Can save best model only with val_loss available, skipping.\n"
     ]
    },
    {
     "name": "stderr",
     "output_type": "stream",
     "text": [
      "WARNING:tensorflow:Can save best model only with val_loss available, skipping.\n"
     ]
    },
    {
     "name": "stdout",
     "output_type": "stream",
     "text": [
      "42/42 [==============================] - 24s 558ms/step - loss: 0.0133 - semantic_0_loss: 0.0034 - semantic_1_loss: 0.0085 - semantic_2_loss: 0.0014 - lr: 9.1352e-05\n",
      "Epoch 11/200\n",
      "42/42 [==============================] - ETA: 0s - loss: 0.0131 - semantic_0_loss: 0.0034 - semantic_1_loss: 0.0083 - semantic_2_loss: 0.0014WARNING:tensorflow:Can save best model only with val_loss available, skipping.\n"
     ]
    },
    {
     "name": "stderr",
     "output_type": "stream",
     "text": [
      "WARNING:tensorflow:Can save best model only with val_loss available, skipping.\n"
     ]
    },
    {
     "name": "stdout",
     "output_type": "stream",
     "text": [
      "42/42 [==============================] - 23s 551ms/step - loss: 0.0131 - semantic_0_loss: 0.0034 - semantic_1_loss: 0.0083 - semantic_2_loss: 0.0014 - lr: 9.0438e-05\n",
      "Epoch 12/200\n",
      "42/42 [==============================] - ETA: 0s - loss: 0.0133 - semantic_0_loss: 0.0035 - semantic_1_loss: 0.0084 - semantic_2_loss: 0.0014WARNING:tensorflow:Can save best model only with val_loss available, skipping.\n"
     ]
    },
    {
     "name": "stderr",
     "output_type": "stream",
     "text": [
      "WARNING:tensorflow:Can save best model only with val_loss available, skipping.\n"
     ]
    },
    {
     "name": "stdout",
     "output_type": "stream",
     "text": [
      "42/42 [==============================] - 23s 552ms/step - loss: 0.0133 - semantic_0_loss: 0.0035 - semantic_1_loss: 0.0084 - semantic_2_loss: 0.0014 - lr: 8.9534e-05\n",
      "Epoch 13/200\n",
      "42/42 [==============================] - ETA: 0s - loss: 0.0132 - semantic_0_loss: 0.0034 - semantic_1_loss: 0.0084 - semantic_2_loss: 0.0014WARNING:tensorflow:Can save best model only with val_loss available, skipping.\n"
     ]
    },
    {
     "name": "stderr",
     "output_type": "stream",
     "text": [
      "WARNING:tensorflow:Can save best model only with val_loss available, skipping.\n"
     ]
    },
    {
     "name": "stdout",
     "output_type": "stream",
     "text": [
      "42/42 [==============================] - 24s 556ms/step - loss: 0.0132 - semantic_0_loss: 0.0034 - semantic_1_loss: 0.0084 - semantic_2_loss: 0.0014 - lr: 8.8638e-05\n",
      "Epoch 14/200\n",
      "42/42 [==============================] - ETA: 0s - loss: 0.0131 - semantic_0_loss: 0.0034 - semantic_1_loss: 0.0083 - semantic_2_loss: 0.0014WARNING:tensorflow:Can save best model only with val_loss available, skipping.\n"
     ]
    },
    {
     "name": "stderr",
     "output_type": "stream",
     "text": [
      "WARNING:tensorflow:Can save best model only with val_loss available, skipping.\n"
     ]
    },
    {
     "name": "stdout",
     "output_type": "stream",
     "text": [
      "42/42 [==============================] - 23s 551ms/step - loss: 0.0131 - semantic_0_loss: 0.0034 - semantic_1_loss: 0.0083 - semantic_2_loss: 0.0014 - lr: 8.7752e-05\n",
      "Epoch 15/200\n",
      "42/42 [==============================] - ETA: 0s - loss: 0.0130 - semantic_0_loss: 0.0034 - semantic_1_loss: 0.0082 - semantic_2_loss: 0.0014WARNING:tensorflow:Can save best model only with val_loss available, skipping.\n"
     ]
    },
    {
     "name": "stderr",
     "output_type": "stream",
     "text": [
      "WARNING:tensorflow:Can save best model only with val_loss available, skipping.\n"
     ]
    },
    {
     "name": "stdout",
     "output_type": "stream",
     "text": [
      "42/42 [==============================] - 24s 555ms/step - loss: 0.0130 - semantic_0_loss: 0.0034 - semantic_1_loss: 0.0082 - semantic_2_loss: 0.0014 - lr: 8.6875e-05\n",
      "Epoch 16/200\n",
      "42/42 [==============================] - ETA: 0s - loss: 0.0132 - semantic_0_loss: 0.0034 - semantic_1_loss: 0.0083 - semantic_2_loss: 0.0014WARNING:tensorflow:Can save best model only with val_loss available, skipping.\n"
     ]
    },
    {
     "name": "stderr",
     "output_type": "stream",
     "text": [
      "WARNING:tensorflow:Can save best model only with val_loss available, skipping.\n"
     ]
    },
    {
     "name": "stdout",
     "output_type": "stream",
     "text": [
      "42/42 [==============================] - 24s 559ms/step - loss: 0.0132 - semantic_0_loss: 0.0034 - semantic_1_loss: 0.0083 - semantic_2_loss: 0.0014 - lr: 8.6006e-05\n",
      "Epoch 17/200\n",
      "42/42 [==============================] - ETA: 0s - loss: 0.0130 - semantic_0_loss: 0.0034 - semantic_1_loss: 0.0083 - semantic_2_loss: 0.0014WARNING:tensorflow:Can save best model only with val_loss available, skipping.\n"
     ]
    },
    {
     "name": "stderr",
     "output_type": "stream",
     "text": [
      "WARNING:tensorflow:Can save best model only with val_loss available, skipping.\n"
     ]
    },
    {
     "name": "stdout",
     "output_type": "stream",
     "text": [
      "42/42 [==============================] - 24s 576ms/step - loss: 0.0130 - semantic_0_loss: 0.0034 - semantic_1_loss: 0.0083 - semantic_2_loss: 0.0014 - lr: 8.5146e-05\n",
      "Epoch 18/200\n",
      "42/42 [==============================] - ETA: 0s - loss: 0.0130 - semantic_0_loss: 0.0034 - semantic_1_loss: 0.0082 - semantic_2_loss: 0.0014WARNING:tensorflow:Can save best model only with val_loss available, skipping.\n"
     ]
    },
    {
     "name": "stderr",
     "output_type": "stream",
     "text": [
      "WARNING:tensorflow:Can save best model only with val_loss available, skipping.\n"
     ]
    },
    {
     "name": "stdout",
     "output_type": "stream",
     "text": [
      "42/42 [==============================] - 23s 549ms/step - loss: 0.0130 - semantic_0_loss: 0.0034 - semantic_1_loss: 0.0082 - semantic_2_loss: 0.0014 - lr: 8.4294e-05\n",
      "Epoch 19/200\n",
      "42/42 [==============================] - ETA: 0s - loss: 0.0130 - semantic_0_loss: 0.0034 - semantic_1_loss: 0.0082 - semantic_2_loss: 0.0014WARNING:tensorflow:Can save best model only with val_loss available, skipping.\n"
     ]
    },
    {
     "name": "stderr",
     "output_type": "stream",
     "text": [
      "WARNING:tensorflow:Can save best model only with val_loss available, skipping.\n"
     ]
    },
    {
     "name": "stdout",
     "output_type": "stream",
     "text": [
      "42/42 [==============================] - 24s 554ms/step - loss: 0.0130 - semantic_0_loss: 0.0034 - semantic_1_loss: 0.0082 - semantic_2_loss: 0.0014 - lr: 8.3451e-05\n",
      "Epoch 20/200\n",
      "42/42 [==============================] - ETA: 0s - loss: 0.0131 - semantic_0_loss: 0.0034 - semantic_1_loss: 0.0083 - semantic_2_loss: 0.0014WARNING:tensorflow:Can save best model only with val_loss available, skipping.\n"
     ]
    },
    {
     "name": "stderr",
     "output_type": "stream",
     "text": [
      "WARNING:tensorflow:Can save best model only with val_loss available, skipping.\n"
     ]
    },
    {
     "name": "stdout",
     "output_type": "stream",
     "text": [
      "42/42 [==============================] - 23s 550ms/step - loss: 0.0131 - semantic_0_loss: 0.0034 - semantic_1_loss: 0.0083 - semantic_2_loss: 0.0014 - lr: 8.2617e-05\n",
      "Epoch 21/200\n",
      "42/42 [==============================] - ETA: 0s - loss: 0.0129 - semantic_0_loss: 0.0033 - semantic_1_loss: 0.0082 - semantic_2_loss: 0.0014WARNING:tensorflow:Can save best model only with val_loss available, skipping.\n"
     ]
    },
    {
     "name": "stderr",
     "output_type": "stream",
     "text": [
      "WARNING:tensorflow:Can save best model only with val_loss available, skipping.\n"
     ]
    },
    {
     "name": "stdout",
     "output_type": "stream",
     "text": [
      "42/42 [==============================] - 24s 557ms/step - loss: 0.0129 - semantic_0_loss: 0.0033 - semantic_1_loss: 0.0082 - semantic_2_loss: 0.0014 - lr: 8.1791e-05\n",
      "Epoch 22/200\n",
      "42/42 [==============================] - ETA: 0s - loss: 0.0131 - semantic_0_loss: 0.0033 - semantic_1_loss: 0.0083 - semantic_2_loss: 0.0014WARNING:tensorflow:Can save best model only with val_loss available, skipping.\n"
     ]
    },
    {
     "name": "stderr",
     "output_type": "stream",
     "text": [
      "WARNING:tensorflow:Can save best model only with val_loss available, skipping.\n"
     ]
    },
    {
     "name": "stdout",
     "output_type": "stream",
     "text": [
      "42/42 [==============================] - 23s 553ms/step - loss: 0.0131 - semantic_0_loss: 0.0033 - semantic_1_loss: 0.0083 - semantic_2_loss: 0.0014 - lr: 8.0973e-05\n",
      "Epoch 23/200\n",
      "42/42 [==============================] - ETA: 0s - loss: 0.0129 - semantic_0_loss: 0.0033 - semantic_1_loss: 0.0081 - semantic_2_loss: 0.0014WARNING:tensorflow:Can save best model only with val_loss available, skipping.\n"
     ]
    },
    {
     "name": "stderr",
     "output_type": "stream",
     "text": [
      "WARNING:tensorflow:Can save best model only with val_loss available, skipping.\n"
     ]
    },
    {
     "name": "stdout",
     "output_type": "stream",
     "text": [
      "42/42 [==============================] - 23s 553ms/step - loss: 0.0129 - semantic_0_loss: 0.0033 - semantic_1_loss: 0.0081 - semantic_2_loss: 0.0014 - lr: 8.0163e-05\n",
      "Epoch 24/200\n",
      "42/42 [==============================] - ETA: 0s - loss: 0.0127 - semantic_0_loss: 0.0033 - semantic_1_loss: 0.0081 - semantic_2_loss: 0.0014WARNING:tensorflow:Can save best model only with val_loss available, skipping.\n"
     ]
    },
    {
     "name": "stderr",
     "output_type": "stream",
     "text": [
      "WARNING:tensorflow:Can save best model only with val_loss available, skipping.\n"
     ]
    },
    {
     "name": "stdout",
     "output_type": "stream",
     "text": [
      "42/42 [==============================] - 23s 551ms/step - loss: 0.0127 - semantic_0_loss: 0.0033 - semantic_1_loss: 0.0081 - semantic_2_loss: 0.0014 - lr: 7.9361e-05\n",
      "Epoch 25/200\n",
      "42/42 [==============================] - ETA: 0s - loss: 0.0127 - semantic_0_loss: 0.0033 - semantic_1_loss: 0.0080 - semantic_2_loss: 0.0014WARNING:tensorflow:Can save best model only with val_loss available, skipping.\n"
     ]
    },
    {
     "name": "stderr",
     "output_type": "stream",
     "text": [
      "WARNING:tensorflow:Can save best model only with val_loss available, skipping.\n"
     ]
    },
    {
     "name": "stdout",
     "output_type": "stream",
     "text": [
      "42/42 [==============================] - 23s 552ms/step - loss: 0.0127 - semantic_0_loss: 0.0033 - semantic_1_loss: 0.0080 - semantic_2_loss: 0.0014 - lr: 7.8568e-05\n",
      "Epoch 26/200\n",
      "42/42 [==============================] - ETA: 0s - loss: 0.0126 - semantic_0_loss: 0.0033 - semantic_1_loss: 0.0079 - semantic_2_loss: 0.0014WARNING:tensorflow:Can save best model only with val_loss available, skipping.\n"
     ]
    },
    {
     "name": "stderr",
     "output_type": "stream",
     "text": [
      "WARNING:tensorflow:Can save best model only with val_loss available, skipping.\n"
     ]
    },
    {
     "name": "stdout",
     "output_type": "stream",
     "text": [
      "42/42 [==============================] - 24s 567ms/step - loss: 0.0126 - semantic_0_loss: 0.0033 - semantic_1_loss: 0.0079 - semantic_2_loss: 0.0014 - lr: 7.7782e-05\n",
      "Epoch 27/200\n",
      "42/42 [==============================] - ETA: 0s - loss: 0.0126 - semantic_0_loss: 0.0033 - semantic_1_loss: 0.0080 - semantic_2_loss: 0.0014WARNING:tensorflow:Can save best model only with val_loss available, skipping.\n"
     ]
    },
    {
     "name": "stderr",
     "output_type": "stream",
     "text": [
      "WARNING:tensorflow:Can save best model only with val_loss available, skipping.\n"
     ]
    },
    {
     "name": "stdout",
     "output_type": "stream",
     "text": [
      "42/42 [==============================] - 24s 564ms/step - loss: 0.0126 - semantic_0_loss: 0.0033 - semantic_1_loss: 0.0080 - semantic_2_loss: 0.0014 - lr: 7.7004e-05\n",
      "Epoch 28/200\n",
      "42/42 [==============================] - ETA: 0s - loss: 0.0127 - semantic_0_loss: 0.0033 - semantic_1_loss: 0.0081 - semantic_2_loss: 0.0014WARNING:tensorflow:Can save best model only with val_loss available, skipping.\n"
     ]
    },
    {
     "name": "stderr",
     "output_type": "stream",
     "text": [
      "WARNING:tensorflow:Can save best model only with val_loss available, skipping.\n"
     ]
    },
    {
     "name": "stdout",
     "output_type": "stream",
     "text": [
      "42/42 [==============================] - 24s 554ms/step - loss: 0.0127 - semantic_0_loss: 0.0033 - semantic_1_loss: 0.0081 - semantic_2_loss: 0.0014 - lr: 7.6234e-05\n",
      "Epoch 29/200\n",
      "42/42 [==============================] - ETA: 0s - loss: 0.0123 - semantic_0_loss: 0.0032 - semantic_1_loss: 0.0077 - semantic_2_loss: 0.0014WARNING:tensorflow:Can save best model only with val_loss available, skipping.\n"
     ]
    },
    {
     "name": "stderr",
     "output_type": "stream",
     "text": [
      "WARNING:tensorflow:Can save best model only with val_loss available, skipping.\n"
     ]
    },
    {
     "name": "stdout",
     "output_type": "stream",
     "text": [
      "42/42 [==============================] - 24s 555ms/step - loss: 0.0123 - semantic_0_loss: 0.0032 - semantic_1_loss: 0.0077 - semantic_2_loss: 0.0014 - lr: 7.5472e-05\n",
      "Epoch 30/200\n",
      "42/42 [==============================] - ETA: 0s - loss: 0.0127 - semantic_0_loss: 0.0033 - semantic_1_loss: 0.0080 - semantic_2_loss: 0.0014WARNING:tensorflow:Can save best model only with val_loss available, skipping.\n"
     ]
    },
    {
     "name": "stderr",
     "output_type": "stream",
     "text": [
      "WARNING:tensorflow:Can save best model only with val_loss available, skipping.\n"
     ]
    },
    {
     "name": "stdout",
     "output_type": "stream",
     "text": [
      "42/42 [==============================] - 24s 556ms/step - loss: 0.0127 - semantic_0_loss: 0.0033 - semantic_1_loss: 0.0080 - semantic_2_loss: 0.0014 - lr: 7.4717e-05\n",
      "Epoch 31/200\n",
      "42/42 [==============================] - ETA: 0s - loss: 0.0122 - semantic_0_loss: 0.0032 - semantic_1_loss: 0.0077 - semantic_2_loss: 0.0013WARNING:tensorflow:Can save best model only with val_loss available, skipping.\n"
     ]
    },
    {
     "name": "stderr",
     "output_type": "stream",
     "text": [
      "WARNING:tensorflow:Can save best model only with val_loss available, skipping.\n"
     ]
    },
    {
     "name": "stdout",
     "output_type": "stream",
     "text": [
      "42/42 [==============================] - 24s 554ms/step - loss: 0.0122 - semantic_0_loss: 0.0032 - semantic_1_loss: 0.0077 - semantic_2_loss: 0.0013 - lr: 7.3970e-05\n",
      "Epoch 32/200\n",
      "42/42 [==============================] - ETA: 0s - loss: 0.0126 - semantic_0_loss: 0.0033 - semantic_1_loss: 0.0079 - semantic_2_loss: 0.0014WARNING:tensorflow:Can save best model only with val_loss available, skipping.\n"
     ]
    },
    {
     "name": "stderr",
     "output_type": "stream",
     "text": [
      "WARNING:tensorflow:Can save best model only with val_loss available, skipping.\n"
     ]
    },
    {
     "name": "stdout",
     "output_type": "stream",
     "text": [
      "42/42 [==============================] - 24s 556ms/step - loss: 0.0126 - semantic_0_loss: 0.0033 - semantic_1_loss: 0.0079 - semantic_2_loss: 0.0014 - lr: 7.3230e-05\n",
      "Epoch 33/200\n",
      "42/42 [==============================] - ETA: 0s - loss: 0.0124 - semantic_0_loss: 0.0032 - semantic_1_loss: 0.0078 - semantic_2_loss: 0.0013WARNING:tensorflow:Can save best model only with val_loss available, skipping.\n"
     ]
    },
    {
     "name": "stderr",
     "output_type": "stream",
     "text": [
      "WARNING:tensorflow:Can save best model only with val_loss available, skipping.\n"
     ]
    },
    {
     "name": "stdout",
     "output_type": "stream",
     "text": [
      "42/42 [==============================] - 23s 551ms/step - loss: 0.0124 - semantic_0_loss: 0.0032 - semantic_1_loss: 0.0078 - semantic_2_loss: 0.0013 - lr: 7.2498e-05\n",
      "Epoch 34/200\n",
      "42/42 [==============================] - ETA: 0s - loss: 0.0122 - semantic_0_loss: 0.0032 - semantic_1_loss: 0.0077 - semantic_2_loss: 0.0013WARNING:tensorflow:Can save best model only with val_loss available, skipping.\n"
     ]
    },
    {
     "name": "stderr",
     "output_type": "stream",
     "text": [
      "WARNING:tensorflow:Can save best model only with val_loss available, skipping.\n"
     ]
    },
    {
     "name": "stdout",
     "output_type": "stream",
     "text": [
      "42/42 [==============================] - 23s 548ms/step - loss: 0.0122 - semantic_0_loss: 0.0032 - semantic_1_loss: 0.0077 - semantic_2_loss: 0.0013 - lr: 7.1773e-05\n",
      "Epoch 35/200\n",
      "42/42 [==============================] - ETA: 0s - loss: 0.0120 - semantic_0_loss: 0.0032 - semantic_1_loss: 0.0075 - semantic_2_loss: 0.0013WARNING:tensorflow:Can save best model only with val_loss available, skipping.\n"
     ]
    },
    {
     "name": "stderr",
     "output_type": "stream",
     "text": [
      "WARNING:tensorflow:Can save best model only with val_loss available, skipping.\n"
     ]
    },
    {
     "name": "stdout",
     "output_type": "stream",
     "text": [
      "42/42 [==============================] - 24s 561ms/step - loss: 0.0120 - semantic_0_loss: 0.0032 - semantic_1_loss: 0.0075 - semantic_2_loss: 0.0013 - lr: 7.1055e-05\n",
      "Epoch 36/200\n",
      "42/42 [==============================] - ETA: 0s - loss: 0.0123 - semantic_0_loss: 0.0032 - semantic_1_loss: 0.0077 - semantic_2_loss: 0.0014WARNING:tensorflow:Can save best model only with val_loss available, skipping.\n"
     ]
    },
    {
     "name": "stderr",
     "output_type": "stream",
     "text": [
      "WARNING:tensorflow:Can save best model only with val_loss available, skipping.\n"
     ]
    },
    {
     "name": "stdout",
     "output_type": "stream",
     "text": [
      "42/42 [==============================] - 23s 551ms/step - loss: 0.0123 - semantic_0_loss: 0.0032 - semantic_1_loss: 0.0077 - semantic_2_loss: 0.0014 - lr: 7.0345e-05\n",
      "Epoch 37/200\n",
      "42/42 [==============================] - ETA: 0s - loss: 0.0121 - semantic_0_loss: 0.0032 - semantic_1_loss: 0.0076 - semantic_2_loss: 0.0013WARNING:tensorflow:Can save best model only with val_loss available, skipping.\n"
     ]
    },
    {
     "name": "stderr",
     "output_type": "stream",
     "text": [
      "WARNING:tensorflow:Can save best model only with val_loss available, skipping.\n"
     ]
    },
    {
     "name": "stdout",
     "output_type": "stream",
     "text": [
      "42/42 [==============================] - 24s 566ms/step - loss: 0.0121 - semantic_0_loss: 0.0032 - semantic_1_loss: 0.0076 - semantic_2_loss: 0.0013 - lr: 6.9641e-05\n",
      "Epoch 38/200\n",
      "42/42 [==============================] - ETA: 0s - loss: 0.0121 - semantic_0_loss: 0.0032 - semantic_1_loss: 0.0076 - semantic_2_loss: 0.0013WARNING:tensorflow:Can save best model only with val_loss available, skipping.\n"
     ]
    },
    {
     "name": "stderr",
     "output_type": "stream",
     "text": [
      "WARNING:tensorflow:Can save best model only with val_loss available, skipping.\n"
     ]
    },
    {
     "name": "stdout",
     "output_type": "stream",
     "text": [
      "42/42 [==============================] - 24s 562ms/step - loss: 0.0121 - semantic_0_loss: 0.0032 - semantic_1_loss: 0.0076 - semantic_2_loss: 0.0013 - lr: 6.8945e-05\n",
      "Epoch 39/200\n",
      "42/42 [==============================] - ETA: 0s - loss: 0.0123 - semantic_0_loss: 0.0032 - semantic_1_loss: 0.0077 - semantic_2_loss: 0.0013WARNING:tensorflow:Can save best model only with val_loss available, skipping.\n"
     ]
    },
    {
     "name": "stderr",
     "output_type": "stream",
     "text": [
      "WARNING:tensorflow:Can save best model only with val_loss available, skipping.\n"
     ]
    },
    {
     "name": "stdout",
     "output_type": "stream",
     "text": [
      "42/42 [==============================] - 24s 555ms/step - loss: 0.0123 - semantic_0_loss: 0.0032 - semantic_1_loss: 0.0077 - semantic_2_loss: 0.0013 - lr: 6.8255e-05\n",
      "Epoch 40/200\n",
      "42/42 [==============================] - ETA: 0s - loss: 0.0119 - semantic_0_loss: 0.0031 - semantic_1_loss: 0.0074 - semantic_2_loss: 0.0013WARNING:tensorflow:Can save best model only with val_loss available, skipping.\n"
     ]
    },
    {
     "name": "stderr",
     "output_type": "stream",
     "text": [
      "WARNING:tensorflow:Can save best model only with val_loss available, skipping.\n"
     ]
    },
    {
     "name": "stdout",
     "output_type": "stream",
     "text": [
      "42/42 [==============================] - 23s 554ms/step - loss: 0.0119 - semantic_0_loss: 0.0031 - semantic_1_loss: 0.0074 - semantic_2_loss: 0.0013 - lr: 6.7573e-05\n",
      "Epoch 41/200\n",
      "42/42 [==============================] - ETA: 0s - loss: 0.0120 - semantic_0_loss: 0.0031 - semantic_1_loss: 0.0075 - semantic_2_loss: 0.0013WARNING:tensorflow:Can save best model only with val_loss available, skipping.\n"
     ]
    },
    {
     "name": "stderr",
     "output_type": "stream",
     "text": [
      "WARNING:tensorflow:Can save best model only with val_loss available, skipping.\n"
     ]
    },
    {
     "name": "stdout",
     "output_type": "stream",
     "text": [
      "42/42 [==============================] - 23s 545ms/step - loss: 0.0120 - semantic_0_loss: 0.0031 - semantic_1_loss: 0.0075 - semantic_2_loss: 0.0013 - lr: 6.6897e-05\n",
      "Epoch 42/200\n",
      "42/42 [==============================] - ETA: 0s - loss: 0.0122 - semantic_0_loss: 0.0032 - semantic_1_loss: 0.0077 - semantic_2_loss: 0.0013WARNING:tensorflow:Can save best model only with val_loss available, skipping.\n"
     ]
    },
    {
     "name": "stderr",
     "output_type": "stream",
     "text": [
      "WARNING:tensorflow:Can save best model only with val_loss available, skipping.\n"
     ]
    },
    {
     "name": "stdout",
     "output_type": "stream",
     "text": [
      "42/42 [==============================] - 23s 550ms/step - loss: 0.0122 - semantic_0_loss: 0.0032 - semantic_1_loss: 0.0077 - semantic_2_loss: 0.0013 - lr: 6.6228e-05\n",
      "Epoch 43/200\n",
      "42/42 [==============================] - ETA: 0s - loss: 0.0119 - semantic_0_loss: 0.0031 - semantic_1_loss: 0.0075 - semantic_2_loss: 0.0013WARNING:tensorflow:Can save best model only with val_loss available, skipping.\n"
     ]
    },
    {
     "name": "stderr",
     "output_type": "stream",
     "text": [
      "WARNING:tensorflow:Can save best model only with val_loss available, skipping.\n"
     ]
    },
    {
     "name": "stdout",
     "output_type": "stream",
     "text": [
      "42/42 [==============================] - 24s 564ms/step - loss: 0.0119 - semantic_0_loss: 0.0031 - semantic_1_loss: 0.0075 - semantic_2_loss: 0.0013 - lr: 6.5566e-05\n",
      "Epoch 44/200\n",
      "42/42 [==============================] - ETA: 0s - loss: 0.0119 - semantic_0_loss: 0.0031 - semantic_1_loss: 0.0075 - semantic_2_loss: 0.0013WARNING:tensorflow:Can save best model only with val_loss available, skipping.\n"
     ]
    },
    {
     "name": "stderr",
     "output_type": "stream",
     "text": [
      "WARNING:tensorflow:Can save best model only with val_loss available, skipping.\n"
     ]
    },
    {
     "name": "stdout",
     "output_type": "stream",
     "text": [
      "42/42 [==============================] - 24s 558ms/step - loss: 0.0119 - semantic_0_loss: 0.0031 - semantic_1_loss: 0.0075 - semantic_2_loss: 0.0013 - lr: 6.4910e-05\n",
      "Epoch 45/200\n",
      "42/42 [==============================] - ETA: 0s - loss: 0.0121 - semantic_0_loss: 0.0032 - semantic_1_loss: 0.0076 - semantic_2_loss: 0.0013WARNING:tensorflow:Can save best model only with val_loss available, skipping.\n"
     ]
    },
    {
     "name": "stderr",
     "output_type": "stream",
     "text": [
      "WARNING:tensorflow:Can save best model only with val_loss available, skipping.\n"
     ]
    },
    {
     "name": "stdout",
     "output_type": "stream",
     "text": [
      "42/42 [==============================] - 24s 567ms/step - loss: 0.0121 - semantic_0_loss: 0.0032 - semantic_1_loss: 0.0076 - semantic_2_loss: 0.0013 - lr: 6.4261e-05\n",
      "Epoch 46/200\n",
      "42/42 [==============================] - ETA: 0s - loss: 0.0120 - semantic_0_loss: 0.0032 - semantic_1_loss: 0.0075 - semantic_2_loss: 0.0013WARNING:tensorflow:Can save best model only with val_loss available, skipping.\n"
     ]
    },
    {
     "name": "stderr",
     "output_type": "stream",
     "text": [
      "WARNING:tensorflow:Can save best model only with val_loss available, skipping.\n"
     ]
    },
    {
     "name": "stdout",
     "output_type": "stream",
     "text": [
      "42/42 [==============================] - 23s 548ms/step - loss: 0.0120 - semantic_0_loss: 0.0032 - semantic_1_loss: 0.0075 - semantic_2_loss: 0.0013 - lr: 6.3619e-05\n",
      "Epoch 47/200\n",
      "42/42 [==============================] - ETA: 0s - loss: 0.0119 - semantic_0_loss: 0.0031 - semantic_1_loss: 0.0075 - semantic_2_loss: 0.0013WARNING:tensorflow:Can save best model only with val_loss available, skipping.\n"
     ]
    },
    {
     "name": "stderr",
     "output_type": "stream",
     "text": [
      "WARNING:tensorflow:Can save best model only with val_loss available, skipping.\n"
     ]
    },
    {
     "name": "stdout",
     "output_type": "stream",
     "text": [
      "42/42 [==============================] - 23s 552ms/step - loss: 0.0119 - semantic_0_loss: 0.0031 - semantic_1_loss: 0.0075 - semantic_2_loss: 0.0013 - lr: 6.2982e-05\n",
      "Epoch 48/200\n",
      "42/42 [==============================] - ETA: 0s - loss: 0.0121 - semantic_0_loss: 0.0032 - semantic_1_loss: 0.0076 - semantic_2_loss: 0.0013WARNING:tensorflow:Can save best model only with val_loss available, skipping.\n"
     ]
    },
    {
     "name": "stderr",
     "output_type": "stream",
     "text": [
      "WARNING:tensorflow:Can save best model only with val_loss available, skipping.\n"
     ]
    },
    {
     "name": "stdout",
     "output_type": "stream",
     "text": [
      "42/42 [==============================] - 23s 550ms/step - loss: 0.0121 - semantic_0_loss: 0.0032 - semantic_1_loss: 0.0076 - semantic_2_loss: 0.0013 - lr: 6.2353e-05\n",
      "Epoch 49/200\n",
      "42/42 [==============================] - ETA: 0s - loss: 0.0117 - semantic_0_loss: 0.0031 - semantic_1_loss: 0.0073 - semantic_2_loss: 0.0013WARNING:tensorflow:Can save best model only with val_loss available, skipping.\n"
     ]
    },
    {
     "name": "stderr",
     "output_type": "stream",
     "text": [
      "WARNING:tensorflow:Can save best model only with val_loss available, skipping.\n"
     ]
    },
    {
     "name": "stdout",
     "output_type": "stream",
     "text": [
      "42/42 [==============================] - 23s 554ms/step - loss: 0.0117 - semantic_0_loss: 0.0031 - semantic_1_loss: 0.0073 - semantic_2_loss: 0.0013 - lr: 6.1729e-05\n",
      "Epoch 50/200\n",
      "42/42 [==============================] - ETA: 0s - loss: 0.0119 - semantic_0_loss: 0.0031 - semantic_1_loss: 0.0074 - semantic_2_loss: 0.0013WARNING:tensorflow:Can save best model only with val_loss available, skipping.\n"
     ]
    },
    {
     "name": "stderr",
     "output_type": "stream",
     "text": [
      "WARNING:tensorflow:Can save best model only with val_loss available, skipping.\n"
     ]
    },
    {
     "name": "stdout",
     "output_type": "stream",
     "text": [
      "42/42 [==============================] - 24s 557ms/step - loss: 0.0119 - semantic_0_loss: 0.0031 - semantic_1_loss: 0.0074 - semantic_2_loss: 0.0013 - lr: 6.1112e-05\n",
      "Epoch 51/200\n",
      "42/42 [==============================] - ETA: 0s - loss: 0.0121 - semantic_0_loss: 0.0032 - semantic_1_loss: 0.0076 - semantic_2_loss: 0.0013WARNING:tensorflow:Can save best model only with val_loss available, skipping.\n"
     ]
    },
    {
     "name": "stderr",
     "output_type": "stream",
     "text": [
      "WARNING:tensorflow:Can save best model only with val_loss available, skipping.\n"
     ]
    },
    {
     "name": "stdout",
     "output_type": "stream",
     "text": [
      "42/42 [==============================] - 24s 561ms/step - loss: 0.0121 - semantic_0_loss: 0.0032 - semantic_1_loss: 0.0076 - semantic_2_loss: 0.0013 - lr: 6.0501e-05\n",
      "Epoch 52/200\n",
      "42/42 [==============================] - ETA: 0s - loss: 0.0117 - semantic_0_loss: 0.0031 - semantic_1_loss: 0.0074 - semantic_2_loss: 0.0013WARNING:tensorflow:Can save best model only with val_loss available, skipping.\n"
     ]
    },
    {
     "name": "stderr",
     "output_type": "stream",
     "text": [
      "WARNING:tensorflow:Can save best model only with val_loss available, skipping.\n"
     ]
    },
    {
     "name": "stdout",
     "output_type": "stream",
     "text": [
      "42/42 [==============================] - 23s 550ms/step - loss: 0.0117 - semantic_0_loss: 0.0031 - semantic_1_loss: 0.0074 - semantic_2_loss: 0.0013 - lr: 5.9896e-05\n",
      "Epoch 53/200\n",
      "42/42 [==============================] - ETA: 0s - loss: 0.0118 - semantic_0_loss: 0.0031 - semantic_1_loss: 0.0074 - semantic_2_loss: 0.0013WARNING:tensorflow:Can save best model only with val_loss available, skipping.\n"
     ]
    },
    {
     "name": "stderr",
     "output_type": "stream",
     "text": [
      "WARNING:tensorflow:Can save best model only with val_loss available, skipping.\n"
     ]
    },
    {
     "name": "stdout",
     "output_type": "stream",
     "text": [
      "42/42 [==============================] - 24s 562ms/step - loss: 0.0118 - semantic_0_loss: 0.0031 - semantic_1_loss: 0.0074 - semantic_2_loss: 0.0013 - lr: 5.9297e-05\n",
      "Epoch 54/200\n",
      "42/42 [==============================] - ETA: 0s - loss: 0.0118 - semantic_0_loss: 0.0031 - semantic_1_loss: 0.0074 - semantic_2_loss: 0.0013WARNING:tensorflow:Can save best model only with val_loss available, skipping.\n"
     ]
    },
    {
     "name": "stderr",
     "output_type": "stream",
     "text": [
      "WARNING:tensorflow:Can save best model only with val_loss available, skipping.\n"
     ]
    },
    {
     "name": "stdout",
     "output_type": "stream",
     "text": [
      "42/42 [==============================] - 24s 556ms/step - loss: 0.0118 - semantic_0_loss: 0.0031 - semantic_1_loss: 0.0074 - semantic_2_loss: 0.0013 - lr: 5.8704e-05\n",
      "Epoch 55/200\n",
      "42/42 [==============================] - ETA: 0s - loss: 0.0118 - semantic_0_loss: 0.0031 - semantic_1_loss: 0.0074 - semantic_2_loss: 0.0013WARNING:tensorflow:Can save best model only with val_loss available, skipping.\n"
     ]
    },
    {
     "name": "stderr",
     "output_type": "stream",
     "text": [
      "WARNING:tensorflow:Can save best model only with val_loss available, skipping.\n"
     ]
    },
    {
     "name": "stdout",
     "output_type": "stream",
     "text": [
      "42/42 [==============================] - 24s 557ms/step - loss: 0.0118 - semantic_0_loss: 0.0031 - semantic_1_loss: 0.0074 - semantic_2_loss: 0.0013 - lr: 5.8117e-05\n",
      "Epoch 56/200\n",
      "42/42 [==============================] - ETA: 0s - loss: 0.0117 - semantic_0_loss: 0.0031 - semantic_1_loss: 0.0073 - semantic_2_loss: 0.0013WARNING:tensorflow:Can save best model only with val_loss available, skipping.\n"
     ]
    },
    {
     "name": "stderr",
     "output_type": "stream",
     "text": [
      "WARNING:tensorflow:Can save best model only with val_loss available, skipping.\n"
     ]
    },
    {
     "name": "stdout",
     "output_type": "stream",
     "text": [
      "42/42 [==============================] - 24s 563ms/step - loss: 0.0117 - semantic_0_loss: 0.0031 - semantic_1_loss: 0.0073 - semantic_2_loss: 0.0013 - lr: 5.7535e-05\n",
      "Epoch 57/200\n",
      "42/42 [==============================] - ETA: 0s - loss: 0.0119 - semantic_0_loss: 0.0032 - semantic_1_loss: 0.0075 - semantic_2_loss: 0.0013WARNING:tensorflow:Can save best model only with val_loss available, skipping.\n"
     ]
    },
    {
     "name": "stderr",
     "output_type": "stream",
     "text": [
      "WARNING:tensorflow:Can save best model only with val_loss available, skipping.\n"
     ]
    },
    {
     "name": "stdout",
     "output_type": "stream",
     "text": [
      "42/42 [==============================] - 24s 557ms/step - loss: 0.0119 - semantic_0_loss: 0.0032 - semantic_1_loss: 0.0075 - semantic_2_loss: 0.0013 - lr: 5.6960e-05\n",
      "Epoch 58/200\n",
      "42/42 [==============================] - ETA: 0s - loss: 0.0117 - semantic_0_loss: 0.0031 - semantic_1_loss: 0.0073 - semantic_2_loss: 0.0013WARNING:tensorflow:Can save best model only with val_loss available, skipping.\n"
     ]
    },
    {
     "name": "stderr",
     "output_type": "stream",
     "text": [
      "WARNING:tensorflow:Can save best model only with val_loss available, skipping.\n"
     ]
    },
    {
     "name": "stdout",
     "output_type": "stream",
     "text": [
      "42/42 [==============================] - 24s 570ms/step - loss: 0.0117 - semantic_0_loss: 0.0031 - semantic_1_loss: 0.0073 - semantic_2_loss: 0.0013 - lr: 5.6391e-05\n",
      "Epoch 59/200\n",
      "42/42 [==============================] - ETA: 0s - loss: 0.0114 - semantic_0_loss: 0.0030 - semantic_1_loss: 0.0071 - semantic_2_loss: 0.0013WARNING:tensorflow:Can save best model only with val_loss available, skipping.\n"
     ]
    },
    {
     "name": "stderr",
     "output_type": "stream",
     "text": [
      "WARNING:tensorflow:Can save best model only with val_loss available, skipping.\n"
     ]
    },
    {
     "name": "stdout",
     "output_type": "stream",
     "text": [
      "42/42 [==============================] - 23s 548ms/step - loss: 0.0114 - semantic_0_loss: 0.0030 - semantic_1_loss: 0.0071 - semantic_2_loss: 0.0013 - lr: 5.5827e-05\n",
      "Epoch 60/200\n",
      "42/42 [==============================] - ETA: 0s - loss: 0.0116 - semantic_0_loss: 0.0031 - semantic_1_loss: 0.0072 - semantic_2_loss: 0.0013WARNING:tensorflow:Can save best model only with val_loss available, skipping.\n"
     ]
    },
    {
     "name": "stderr",
     "output_type": "stream",
     "text": [
      "WARNING:tensorflow:Can save best model only with val_loss available, skipping.\n"
     ]
    },
    {
     "name": "stdout",
     "output_type": "stream",
     "text": [
      "42/42 [==============================] - 24s 556ms/step - loss: 0.0116 - semantic_0_loss: 0.0031 - semantic_1_loss: 0.0072 - semantic_2_loss: 0.0013 - lr: 5.5268e-05\n",
      "Epoch 61/200\n",
      "42/42 [==============================] - ETA: 0s - loss: 0.0114 - semantic_0_loss: 0.0031 - semantic_1_loss: 0.0071 - semantic_2_loss: 0.0013WARNING:tensorflow:Can save best model only with val_loss available, skipping.\n"
     ]
    },
    {
     "name": "stderr",
     "output_type": "stream",
     "text": [
      "WARNING:tensorflow:Can save best model only with val_loss available, skipping.\n"
     ]
    },
    {
     "name": "stdout",
     "output_type": "stream",
     "text": [
      "42/42 [==============================] - 24s 553ms/step - loss: 0.0114 - semantic_0_loss: 0.0031 - semantic_1_loss: 0.0071 - semantic_2_loss: 0.0013 - lr: 5.4716e-05\n",
      "Epoch 62/200\n",
      "42/42 [==============================] - ETA: 0s - loss: 0.0117 - semantic_0_loss: 0.0031 - semantic_1_loss: 0.0073 - semantic_2_loss: 0.0013WARNING:tensorflow:Can save best model only with val_loss available, skipping.\n"
     ]
    },
    {
     "name": "stderr",
     "output_type": "stream",
     "text": [
      "WARNING:tensorflow:Can save best model only with val_loss available, skipping.\n"
     ]
    },
    {
     "name": "stdout",
     "output_type": "stream",
     "text": [
      "42/42 [==============================] - 23s 551ms/step - loss: 0.0117 - semantic_0_loss: 0.0031 - semantic_1_loss: 0.0073 - semantic_2_loss: 0.0013 - lr: 5.4169e-05\n",
      "Epoch 63/200\n",
      "42/42 [==============================] - ETA: 0s - loss: 0.0117 - semantic_0_loss: 0.0031 - semantic_1_loss: 0.0073 - semantic_2_loss: 0.0013WARNING:tensorflow:Can save best model only with val_loss available, skipping.\n"
     ]
    },
    {
     "name": "stderr",
     "output_type": "stream",
     "text": [
      "WARNING:tensorflow:Can save best model only with val_loss available, skipping.\n"
     ]
    },
    {
     "name": "stdout",
     "output_type": "stream",
     "text": [
      "42/42 [==============================] - 24s 573ms/step - loss: 0.0117 - semantic_0_loss: 0.0031 - semantic_1_loss: 0.0073 - semantic_2_loss: 0.0013 - lr: 5.3627e-05\n",
      "Epoch 64/200\n",
      "42/42 [==============================] - ETA: 0s - loss: 0.0113 - semantic_0_loss: 0.0030 - semantic_1_loss: 0.0071 - semantic_2_loss: 0.0013WARNING:tensorflow:Can save best model only with val_loss available, skipping.\n"
     ]
    },
    {
     "name": "stderr",
     "output_type": "stream",
     "text": [
      "WARNING:tensorflow:Can save best model only with val_loss available, skipping.\n"
     ]
    },
    {
     "name": "stdout",
     "output_type": "stream",
     "text": [
      "42/42 [==============================] - 24s 559ms/step - loss: 0.0113 - semantic_0_loss: 0.0030 - semantic_1_loss: 0.0071 - semantic_2_loss: 0.0013 - lr: 5.3091e-05\n",
      "Epoch 65/200\n",
      "42/42 [==============================] - ETA: 0s - loss: 0.0115 - semantic_0_loss: 0.0031 - semantic_1_loss: 0.0072 - semantic_2_loss: 0.0013WARNING:tensorflow:Can save best model only with val_loss available, skipping.\n"
     ]
    },
    {
     "name": "stderr",
     "output_type": "stream",
     "text": [
      "WARNING:tensorflow:Can save best model only with val_loss available, skipping.\n"
     ]
    },
    {
     "name": "stdout",
     "output_type": "stream",
     "text": [
      "42/42 [==============================] - 24s 557ms/step - loss: 0.0115 - semantic_0_loss: 0.0031 - semantic_1_loss: 0.0072 - semantic_2_loss: 0.0013 - lr: 5.2560e-05\n",
      "Epoch 66/200\n",
      "42/42 [==============================] - ETA: 0s - loss: 0.0116 - semantic_0_loss: 0.0031 - semantic_1_loss: 0.0072 - semantic_2_loss: 0.0013WARNING:tensorflow:Can save best model only with val_loss available, skipping.\n"
     ]
    },
    {
     "name": "stderr",
     "output_type": "stream",
     "text": [
      "WARNING:tensorflow:Can save best model only with val_loss available, skipping.\n"
     ]
    },
    {
     "name": "stdout",
     "output_type": "stream",
     "text": [
      "42/42 [==============================] - 24s 567ms/step - loss: 0.0116 - semantic_0_loss: 0.0031 - semantic_1_loss: 0.0072 - semantic_2_loss: 0.0013 - lr: 5.2034e-05\n",
      "Epoch 67/200\n",
      "42/42 [==============================] - ETA: 0s - loss: 0.0113 - semantic_0_loss: 0.0030 - semantic_1_loss: 0.0070 - semantic_2_loss: 0.0013WARNING:tensorflow:Can save best model only with val_loss available, skipping.\n"
     ]
    },
    {
     "name": "stderr",
     "output_type": "stream",
     "text": [
      "WARNING:tensorflow:Can save best model only with val_loss available, skipping.\n"
     ]
    },
    {
     "name": "stdout",
     "output_type": "stream",
     "text": [
      "42/42 [==============================] - 24s 567ms/step - loss: 0.0113 - semantic_0_loss: 0.0030 - semantic_1_loss: 0.0070 - semantic_2_loss: 0.0013 - lr: 5.1514e-05\n",
      "Epoch 68/200\n",
      "42/42 [==============================] - ETA: 0s - loss: 0.0114 - semantic_0_loss: 0.0030 - semantic_1_loss: 0.0071 - semantic_2_loss: 0.0013WARNING:tensorflow:Can save best model only with val_loss available, skipping.\n"
     ]
    },
    {
     "name": "stderr",
     "output_type": "stream",
     "text": [
      "WARNING:tensorflow:Can save best model only with val_loss available, skipping.\n"
     ]
    },
    {
     "name": "stdout",
     "output_type": "stream",
     "text": [
      "42/42 [==============================] - 24s 568ms/step - loss: 0.0114 - semantic_0_loss: 0.0030 - semantic_1_loss: 0.0071 - semantic_2_loss: 0.0013 - lr: 5.0999e-05\n",
      "Epoch 69/200\n",
      "42/42 [==============================] - ETA: 0s - loss: 0.0112 - semantic_0_loss: 0.0030 - semantic_1_loss: 0.0070 - semantic_2_loss: 0.0012WARNING:tensorflow:Can save best model only with val_loss available, skipping.\n"
     ]
    },
    {
     "name": "stderr",
     "output_type": "stream",
     "text": [
      "WARNING:tensorflow:Can save best model only with val_loss available, skipping.\n"
     ]
    },
    {
     "name": "stdout",
     "output_type": "stream",
     "text": [
      "42/42 [==============================] - 23s 549ms/step - loss: 0.0112 - semantic_0_loss: 0.0030 - semantic_1_loss: 0.0070 - semantic_2_loss: 0.0012 - lr: 5.0489e-05\n",
      "Epoch 70/200\n",
      "42/42 [==============================] - ETA: 0s - loss: 0.0115 - semantic_0_loss: 0.0031 - semantic_1_loss: 0.0072 - semantic_2_loss: 0.0013WARNING:tensorflow:Can save best model only with val_loss available, skipping.\n"
     ]
    },
    {
     "name": "stderr",
     "output_type": "stream",
     "text": [
      "WARNING:tensorflow:Can save best model only with val_loss available, skipping.\n"
     ]
    },
    {
     "name": "stdout",
     "output_type": "stream",
     "text": [
      "42/42 [==============================] - 23s 555ms/step - loss: 0.0115 - semantic_0_loss: 0.0031 - semantic_1_loss: 0.0072 - semantic_2_loss: 0.0013 - lr: 4.9984e-05\n",
      "Epoch 71/200\n",
      "42/42 [==============================] - ETA: 0s - loss: 0.0115 - semantic_0_loss: 0.0031 - semantic_1_loss: 0.0072 - semantic_2_loss: 0.0013WARNING:tensorflow:Can save best model only with val_loss available, skipping.\n"
     ]
    },
    {
     "name": "stderr",
     "output_type": "stream",
     "text": [
      "WARNING:tensorflow:Can save best model only with val_loss available, skipping.\n"
     ]
    },
    {
     "name": "stdout",
     "output_type": "stream",
     "text": [
      "42/42 [==============================] - 24s 557ms/step - loss: 0.0115 - semantic_0_loss: 0.0031 - semantic_1_loss: 0.0072 - semantic_2_loss: 0.0013 - lr: 4.9484e-05\n",
      "Epoch 72/200\n",
      "42/42 [==============================] - ETA: 0s - loss: 0.0111 - semantic_0_loss: 0.0030 - semantic_1_loss: 0.0069 - semantic_2_loss: 0.0012WARNING:tensorflow:Can save best model only with val_loss available, skipping.\n"
     ]
    },
    {
     "name": "stderr",
     "output_type": "stream",
     "text": [
      "WARNING:tensorflow:Can save best model only with val_loss available, skipping.\n"
     ]
    },
    {
     "name": "stdout",
     "output_type": "stream",
     "text": [
      "42/42 [==============================] - 24s 562ms/step - loss: 0.0111 - semantic_0_loss: 0.0030 - semantic_1_loss: 0.0069 - semantic_2_loss: 0.0012 - lr: 4.8989e-05\n",
      "Epoch 73/200\n",
      "42/42 [==============================] - ETA: 0s - loss: 0.0113 - semantic_0_loss: 0.0030 - semantic_1_loss: 0.0070 - semantic_2_loss: 0.0012WARNING:tensorflow:Can save best model only with val_loss available, skipping.\n"
     ]
    },
    {
     "name": "stderr",
     "output_type": "stream",
     "text": [
      "WARNING:tensorflow:Can save best model only with val_loss available, skipping.\n"
     ]
    },
    {
     "name": "stdout",
     "output_type": "stream",
     "text": [
      "42/42 [==============================] - 23s 550ms/step - loss: 0.0113 - semantic_0_loss: 0.0030 - semantic_1_loss: 0.0070 - semantic_2_loss: 0.0012 - lr: 4.8499e-05\n",
      "Epoch 74/200\n",
      "42/42 [==============================] - ETA: 0s - loss: 0.0111 - semantic_0_loss: 0.0030 - semantic_1_loss: 0.0069 - semantic_2_loss: 0.0012WARNING:tensorflow:Can save best model only with val_loss available, skipping.\n"
     ]
    },
    {
     "name": "stderr",
     "output_type": "stream",
     "text": [
      "WARNING:tensorflow:Can save best model only with val_loss available, skipping.\n"
     ]
    },
    {
     "name": "stdout",
     "output_type": "stream",
     "text": [
      "42/42 [==============================] - 24s 558ms/step - loss: 0.0111 - semantic_0_loss: 0.0030 - semantic_1_loss: 0.0069 - semantic_2_loss: 0.0012 - lr: 4.8014e-05\n",
      "Epoch 75/200\n",
      "42/42 [==============================] - ETA: 0s - loss: 0.0112 - semantic_0_loss: 0.0030 - semantic_1_loss: 0.0069 - semantic_2_loss: 0.0012WARNING:tensorflow:Can save best model only with val_loss available, skipping.\n"
     ]
    },
    {
     "name": "stderr",
     "output_type": "stream",
     "text": [
      "WARNING:tensorflow:Can save best model only with val_loss available, skipping.\n"
     ]
    },
    {
     "name": "stdout",
     "output_type": "stream",
     "text": [
      "42/42 [==============================] - 23s 547ms/step - loss: 0.0112 - semantic_0_loss: 0.0030 - semantic_1_loss: 0.0069 - semantic_2_loss: 0.0012 - lr: 4.7534e-05\n",
      "Epoch 76/200\n",
      "42/42 [==============================] - ETA: 0s - loss: 0.0113 - semantic_0_loss: 0.0030 - semantic_1_loss: 0.0070 - semantic_2_loss: 0.0012WARNING:tensorflow:Can save best model only with val_loss available, skipping.\n"
     ]
    },
    {
     "name": "stderr",
     "output_type": "stream",
     "text": [
      "WARNING:tensorflow:Can save best model only with val_loss available, skipping.\n"
     ]
    },
    {
     "name": "stdout",
     "output_type": "stream",
     "text": [
      "42/42 [==============================] - 23s 551ms/step - loss: 0.0113 - semantic_0_loss: 0.0030 - semantic_1_loss: 0.0070 - semantic_2_loss: 0.0012 - lr: 4.7059e-05\n",
      "Epoch 77/200\n",
      "42/42 [==============================] - ETA: 0s - loss: 0.0113 - semantic_0_loss: 0.0030 - semantic_1_loss: 0.0070 - semantic_2_loss: 0.0012WARNING:tensorflow:Can save best model only with val_loss available, skipping.\n"
     ]
    },
    {
     "name": "stderr",
     "output_type": "stream",
     "text": [
      "WARNING:tensorflow:Can save best model only with val_loss available, skipping.\n"
     ]
    },
    {
     "name": "stdout",
     "output_type": "stream",
     "text": [
      "42/42 [==============================] - 24s 560ms/step - loss: 0.0113 - semantic_0_loss: 0.0030 - semantic_1_loss: 0.0070 - semantic_2_loss: 0.0012 - lr: 4.6588e-05\n",
      "Epoch 78/200\n",
      "42/42 [==============================] - ETA: 0s - loss: 0.0110 - semantic_0_loss: 0.0030 - semantic_1_loss: 0.0068 - semantic_2_loss: 0.0012WARNING:tensorflow:Can save best model only with val_loss available, skipping.\n"
     ]
    },
    {
     "name": "stderr",
     "output_type": "stream",
     "text": [
      "WARNING:tensorflow:Can save best model only with val_loss available, skipping.\n"
     ]
    },
    {
     "name": "stdout",
     "output_type": "stream",
     "text": [
      "42/42 [==============================] - 24s 568ms/step - loss: 0.0110 - semantic_0_loss: 0.0030 - semantic_1_loss: 0.0068 - semantic_2_loss: 0.0012 - lr: 4.6122e-05\n",
      "Epoch 79/200\n",
      "42/42 [==============================] - ETA: 0s - loss: 0.0111 - semantic_0_loss: 0.0030 - semantic_1_loss: 0.0069 - semantic_2_loss: 0.0012WARNING:tensorflow:Can save best model only with val_loss available, skipping.\n"
     ]
    },
    {
     "name": "stderr",
     "output_type": "stream",
     "text": [
      "WARNING:tensorflow:Can save best model only with val_loss available, skipping.\n"
     ]
    },
    {
     "name": "stdout",
     "output_type": "stream",
     "text": [
      "42/42 [==============================] - 23s 553ms/step - loss: 0.0111 - semantic_0_loss: 0.0030 - semantic_1_loss: 0.0069 - semantic_2_loss: 0.0012 - lr: 4.5661e-05\n",
      "Epoch 80/200\n",
      "42/42 [==============================] - ETA: 0s - loss: 0.0111 - semantic_0_loss: 0.0030 - semantic_1_loss: 0.0069 - semantic_2_loss: 0.0012WARNING:tensorflow:Can save best model only with val_loss available, skipping.\n"
     ]
    },
    {
     "name": "stderr",
     "output_type": "stream",
     "text": [
      "WARNING:tensorflow:Can save best model only with val_loss available, skipping.\n"
     ]
    },
    {
     "name": "stdout",
     "output_type": "stream",
     "text": [
      "42/42 [==============================] - 24s 556ms/step - loss: 0.0111 - semantic_0_loss: 0.0030 - semantic_1_loss: 0.0069 - semantic_2_loss: 0.0012 - lr: 4.5204e-05\n",
      "Epoch 81/200\n",
      "42/42 [==============================] - ETA: 0s - loss: 0.0111 - semantic_0_loss: 0.0029 - semantic_1_loss: 0.0069 - semantic_2_loss: 0.0012WARNING:tensorflow:Can save best model only with val_loss available, skipping.\n"
     ]
    },
    {
     "name": "stderr",
     "output_type": "stream",
     "text": [
      "WARNING:tensorflow:Can save best model only with val_loss available, skipping.\n"
     ]
    },
    {
     "name": "stdout",
     "output_type": "stream",
     "text": [
      "42/42 [==============================] - 23s 551ms/step - loss: 0.0111 - semantic_0_loss: 0.0029 - semantic_1_loss: 0.0069 - semantic_2_loss: 0.0012 - lr: 4.4752e-05\n",
      "Epoch 82/200\n",
      "42/42 [==============================] - ETA: 0s - loss: 0.0111 - semantic_0_loss: 0.0030 - semantic_1_loss: 0.0069 - semantic_2_loss: 0.0012WARNING:tensorflow:Can save best model only with val_loss available, skipping.\n"
     ]
    },
    {
     "name": "stderr",
     "output_type": "stream",
     "text": [
      "WARNING:tensorflow:Can save best model only with val_loss available, skipping.\n"
     ]
    },
    {
     "name": "stdout",
     "output_type": "stream",
     "text": [
      "42/42 [==============================] - 24s 557ms/step - loss: 0.0111 - semantic_0_loss: 0.0030 - semantic_1_loss: 0.0069 - semantic_2_loss: 0.0012 - lr: 4.4305e-05\n",
      "Epoch 83/200\n",
      "42/42 [==============================] - ETA: 0s - loss: 0.0110 - semantic_0_loss: 0.0030 - semantic_1_loss: 0.0068 - semantic_2_loss: 0.0012WARNING:tensorflow:Can save best model only with val_loss available, skipping.\n"
     ]
    },
    {
     "name": "stderr",
     "output_type": "stream",
     "text": [
      "WARNING:tensorflow:Can save best model only with val_loss available, skipping.\n"
     ]
    },
    {
     "name": "stdout",
     "output_type": "stream",
     "text": [
      "42/42 [==============================] - 23s 552ms/step - loss: 0.0110 - semantic_0_loss: 0.0030 - semantic_1_loss: 0.0068 - semantic_2_loss: 0.0012 - lr: 4.3862e-05\n",
      "Epoch 84/200\n",
      "42/42 [==============================] - ETA: 0s - loss: 0.0112 - semantic_0_loss: 0.0030 - semantic_1_loss: 0.0069 - semantic_2_loss: 0.0012WARNING:tensorflow:Can save best model only with val_loss available, skipping.\n"
     ]
    },
    {
     "name": "stderr",
     "output_type": "stream",
     "text": [
      "WARNING:tensorflow:Can save best model only with val_loss available, skipping.\n"
     ]
    },
    {
     "name": "stdout",
     "output_type": "stream",
     "text": [
      "42/42 [==============================] - 23s 563ms/step - loss: 0.0112 - semantic_0_loss: 0.0030 - semantic_1_loss: 0.0069 - semantic_2_loss: 0.0012 - lr: 4.3423e-05\n",
      "Epoch 85/200\n",
      "42/42 [==============================] - ETA: 0s - loss: 0.0111 - semantic_0_loss: 0.0030 - semantic_1_loss: 0.0069 - semantic_2_loss: 0.0012WARNING:tensorflow:Can save best model only with val_loss available, skipping.\n"
     ]
    },
    {
     "name": "stderr",
     "output_type": "stream",
     "text": [
      "WARNING:tensorflow:Can save best model only with val_loss available, skipping.\n"
     ]
    },
    {
     "name": "stdout",
     "output_type": "stream",
     "text": [
      "42/42 [==============================] - 23s 561ms/step - loss: 0.0111 - semantic_0_loss: 0.0030 - semantic_1_loss: 0.0069 - semantic_2_loss: 0.0012 - lr: 4.2989e-05\n",
      "Epoch 86/200\n",
      "42/42 [==============================] - ETA: 0s - loss: 0.0111 - semantic_0_loss: 0.0030 - semantic_1_loss: 0.0069 - semantic_2_loss: 0.0012WARNING:tensorflow:Can save best model only with val_loss available, skipping.\n"
     ]
    },
    {
     "name": "stderr",
     "output_type": "stream",
     "text": [
      "WARNING:tensorflow:Can save best model only with val_loss available, skipping.\n"
     ]
    },
    {
     "name": "stdout",
     "output_type": "stream",
     "text": [
      "42/42 [==============================] - 24s 569ms/step - loss: 0.0111 - semantic_0_loss: 0.0030 - semantic_1_loss: 0.0069 - semantic_2_loss: 0.0012 - lr: 4.2559e-05\n",
      "Epoch 87/200\n",
      "42/42 [==============================] - ETA: 0s - loss: 0.0110 - semantic_0_loss: 0.0030 - semantic_1_loss: 0.0068 - semantic_2_loss: 0.0012WARNING:tensorflow:Can save best model only with val_loss available, skipping.\n"
     ]
    },
    {
     "name": "stderr",
     "output_type": "stream",
     "text": [
      "WARNING:tensorflow:Can save best model only with val_loss available, skipping.\n"
     ]
    },
    {
     "name": "stdout",
     "output_type": "stream",
     "text": [
      "42/42 [==============================] - 24s 559ms/step - loss: 0.0110 - semantic_0_loss: 0.0030 - semantic_1_loss: 0.0068 - semantic_2_loss: 0.0012 - lr: 4.2133e-05\n",
      "Epoch 88/200\n",
      "42/42 [==============================] - ETA: 0s - loss: 0.0113 - semantic_0_loss: 0.0030 - semantic_1_loss: 0.0070 - semantic_2_loss: 0.0012WARNING:tensorflow:Can save best model only with val_loss available, skipping.\n"
     ]
    },
    {
     "name": "stderr",
     "output_type": "stream",
     "text": [
      "WARNING:tensorflow:Can save best model only with val_loss available, skipping.\n"
     ]
    },
    {
     "name": "stdout",
     "output_type": "stream",
     "text": [
      "42/42 [==============================] - 24s 567ms/step - loss: 0.0113 - semantic_0_loss: 0.0030 - semantic_1_loss: 0.0070 - semantic_2_loss: 0.0012 - lr: 4.1712e-05\n",
      "Epoch 89/200\n",
      "42/42 [==============================] - ETA: 0s - loss: 0.0109 - semantic_0_loss: 0.0029 - semantic_1_loss: 0.0068 - semantic_2_loss: 0.0012WARNING:tensorflow:Can save best model only with val_loss available, skipping.\n"
     ]
    },
    {
     "name": "stderr",
     "output_type": "stream",
     "text": [
      "WARNING:tensorflow:Can save best model only with val_loss available, skipping.\n"
     ]
    },
    {
     "name": "stdout",
     "output_type": "stream",
     "text": [
      "42/42 [==============================] - 24s 565ms/step - loss: 0.0109 - semantic_0_loss: 0.0029 - semantic_1_loss: 0.0068 - semantic_2_loss: 0.0012 - lr: 4.1295e-05\n",
      "Epoch 90/200\n",
      "42/42 [==============================] - ETA: 0s - loss: 0.0110 - semantic_0_loss: 0.0029 - semantic_1_loss: 0.0068 - semantic_2_loss: 0.0012WARNING:tensorflow:Can save best model only with val_loss available, skipping.\n"
     ]
    },
    {
     "name": "stderr",
     "output_type": "stream",
     "text": [
      "WARNING:tensorflow:Can save best model only with val_loss available, skipping.\n"
     ]
    },
    {
     "name": "stdout",
     "output_type": "stream",
     "text": [
      "42/42 [==============================] - 24s 566ms/step - loss: 0.0110 - semantic_0_loss: 0.0029 - semantic_1_loss: 0.0068 - semantic_2_loss: 0.0012 - lr: 4.0882e-05\n",
      "Epoch 91/200\n",
      "42/42 [==============================] - ETA: 0s - loss: 0.0110 - semantic_0_loss: 0.0030 - semantic_1_loss: 0.0068 - semantic_2_loss: 0.0012WARNING:tensorflow:Can save best model only with val_loss available, skipping.\n"
     ]
    },
    {
     "name": "stderr",
     "output_type": "stream",
     "text": [
      "WARNING:tensorflow:Can save best model only with val_loss available, skipping.\n"
     ]
    },
    {
     "name": "stdout",
     "output_type": "stream",
     "text": [
      "42/42 [==============================] - 24s 566ms/step - loss: 0.0110 - semantic_0_loss: 0.0030 - semantic_1_loss: 0.0068 - semantic_2_loss: 0.0012 - lr: 4.0473e-05\n",
      "Epoch 92/200\n",
      "42/42 [==============================] - ETA: 0s - loss: 0.0108 - semantic_0_loss: 0.0029 - semantic_1_loss: 0.0067 - semantic_2_loss: 0.0012WARNING:tensorflow:Can save best model only with val_loss available, skipping.\n"
     ]
    },
    {
     "name": "stderr",
     "output_type": "stream",
     "text": [
      "WARNING:tensorflow:Can save best model only with val_loss available, skipping.\n"
     ]
    },
    {
     "name": "stdout",
     "output_type": "stream",
     "text": [
      "42/42 [==============================] - 23s 552ms/step - loss: 0.0108 - semantic_0_loss: 0.0029 - semantic_1_loss: 0.0067 - semantic_2_loss: 0.0012 - lr: 4.0068e-05\n",
      "Epoch 93/200\n",
      "42/42 [==============================] - ETA: 0s - loss: 0.0109 - semantic_0_loss: 0.0029 - semantic_1_loss: 0.0068 - semantic_2_loss: 0.0012WARNING:tensorflow:Can save best model only with val_loss available, skipping.\n"
     ]
    },
    {
     "name": "stderr",
     "output_type": "stream",
     "text": [
      "WARNING:tensorflow:Can save best model only with val_loss available, skipping.\n"
     ]
    },
    {
     "name": "stdout",
     "output_type": "stream",
     "text": [
      "42/42 [==============================] - 24s 557ms/step - loss: 0.0109 - semantic_0_loss: 0.0029 - semantic_1_loss: 0.0068 - semantic_2_loss: 0.0012 - lr: 3.9668e-05\n",
      "Epoch 94/200\n",
      "42/42 [==============================] - ETA: 0s - loss: 0.0111 - semantic_0_loss: 0.0030 - semantic_1_loss: 0.0069 - semantic_2_loss: 0.0012WARNING:tensorflow:Can save best model only with val_loss available, skipping.\n"
     ]
    },
    {
     "name": "stderr",
     "output_type": "stream",
     "text": [
      "WARNING:tensorflow:Can save best model only with val_loss available, skipping.\n"
     ]
    },
    {
     "name": "stdout",
     "output_type": "stream",
     "text": [
      "42/42 [==============================] - 24s 556ms/step - loss: 0.0111 - semantic_0_loss: 0.0030 - semantic_1_loss: 0.0069 - semantic_2_loss: 0.0012 - lr: 3.9271e-05\n",
      "Epoch 95/200\n",
      "42/42 [==============================] - ETA: 0s - loss: 0.0109 - semantic_0_loss: 0.0030 - semantic_1_loss: 0.0067 - semantic_2_loss: 0.0012WARNING:tensorflow:Can save best model only with val_loss available, skipping.\n"
     ]
    },
    {
     "name": "stderr",
     "output_type": "stream",
     "text": [
      "WARNING:tensorflow:Can save best model only with val_loss available, skipping.\n"
     ]
    },
    {
     "name": "stdout",
     "output_type": "stream",
     "text": [
      "42/42 [==============================] - 23s 555ms/step - loss: 0.0109 - semantic_0_loss: 0.0030 - semantic_1_loss: 0.0067 - semantic_2_loss: 0.0012 - lr: 3.8878e-05\n",
      "Epoch 96/200\n",
      "42/42 [==============================] - ETA: 0s - loss: 0.0111 - semantic_0_loss: 0.0030 - semantic_1_loss: 0.0069 - semantic_2_loss: 0.0012WARNING:tensorflow:Can save best model only with val_loss available, skipping.\n"
     ]
    },
    {
     "name": "stderr",
     "output_type": "stream",
     "text": [
      "WARNING:tensorflow:Can save best model only with val_loss available, skipping.\n"
     ]
    },
    {
     "name": "stdout",
     "output_type": "stream",
     "text": [
      "42/42 [==============================] - 24s 578ms/step - loss: 0.0111 - semantic_0_loss: 0.0030 - semantic_1_loss: 0.0069 - semantic_2_loss: 0.0012 - lr: 3.8490e-05\n",
      "Epoch 97/200\n",
      "42/42 [==============================] - ETA: 0s - loss: 0.0108 - semantic_0_loss: 0.0029 - semantic_1_loss: 0.0067 - semantic_2_loss: 0.0012WARNING:tensorflow:Can save best model only with val_loss available, skipping.\n"
     ]
    },
    {
     "name": "stderr",
     "output_type": "stream",
     "text": [
      "WARNING:tensorflow:Can save best model only with val_loss available, skipping.\n"
     ]
    },
    {
     "name": "stdout",
     "output_type": "stream",
     "text": [
      "42/42 [==============================] - 23s 542ms/step - loss: 0.0108 - semantic_0_loss: 0.0029 - semantic_1_loss: 0.0067 - semantic_2_loss: 0.0012 - lr: 3.8105e-05\n",
      "Epoch 98/200\n",
      "42/42 [==============================] - ETA: 0s - loss: 0.0108 - semantic_0_loss: 0.0029 - semantic_1_loss: 0.0067 - semantic_2_loss: 0.0012WARNING:tensorflow:Can save best model only with val_loss available, skipping.\n"
     ]
    },
    {
     "name": "stderr",
     "output_type": "stream",
     "text": [
      "WARNING:tensorflow:Can save best model only with val_loss available, skipping.\n"
     ]
    },
    {
     "name": "stdout",
     "output_type": "stream",
     "text": [
      "42/42 [==============================] - 24s 554ms/step - loss: 0.0108 - semantic_0_loss: 0.0029 - semantic_1_loss: 0.0067 - semantic_2_loss: 0.0012 - lr: 3.7724e-05\n",
      "Epoch 99/200\n",
      "42/42 [==============================] - ETA: 0s - loss: 0.0108 - semantic_0_loss: 0.0029 - semantic_1_loss: 0.0067 - semantic_2_loss: 0.0012WARNING:tensorflow:Can save best model only with val_loss available, skipping.\n"
     ]
    },
    {
     "name": "stderr",
     "output_type": "stream",
     "text": [
      "WARNING:tensorflow:Can save best model only with val_loss available, skipping.\n"
     ]
    },
    {
     "name": "stdout",
     "output_type": "stream",
     "text": [
      "42/42 [==============================] - 24s 564ms/step - loss: 0.0108 - semantic_0_loss: 0.0029 - semantic_1_loss: 0.0067 - semantic_2_loss: 0.0012 - lr: 3.7346e-05\n",
      "Epoch 100/200\n",
      "42/42 [==============================] - ETA: 0s - loss: 0.0109 - semantic_0_loss: 0.0030 - semantic_1_loss: 0.0067 - semantic_2_loss: 0.0012WARNING:tensorflow:Can save best model only with val_loss available, skipping.\n"
     ]
    },
    {
     "name": "stderr",
     "output_type": "stream",
     "text": [
      "WARNING:tensorflow:Can save best model only with val_loss available, skipping.\n"
     ]
    },
    {
     "name": "stdout",
     "output_type": "stream",
     "text": [
      "42/42 [==============================] - 24s 558ms/step - loss: 0.0109 - semantic_0_loss: 0.0030 - semantic_1_loss: 0.0067 - semantic_2_loss: 0.0012 - lr: 3.6973e-05\n",
      "Epoch 101/200\n",
      "42/42 [==============================] - ETA: 0s - loss: 0.0109 - semantic_0_loss: 0.0030 - semantic_1_loss: 0.0067 - semantic_2_loss: 0.0012WARNING:tensorflow:Can save best model only with val_loss available, skipping.\n"
     ]
    },
    {
     "name": "stderr",
     "output_type": "stream",
     "text": [
      "WARNING:tensorflow:Can save best model only with val_loss available, skipping.\n"
     ]
    },
    {
     "name": "stdout",
     "output_type": "stream",
     "text": [
      "42/42 [==============================] - 24s 553ms/step - loss: 0.0109 - semantic_0_loss: 0.0030 - semantic_1_loss: 0.0067 - semantic_2_loss: 0.0012 - lr: 3.6603e-05\n",
      "Epoch 102/200\n",
      "42/42 [==============================] - ETA: 0s - loss: 0.0110 - semantic_0_loss: 0.0030 - semantic_1_loss: 0.0068 - semantic_2_loss: 0.0012WARNING:tensorflow:Can save best model only with val_loss available, skipping.\n"
     ]
    },
    {
     "name": "stderr",
     "output_type": "stream",
     "text": [
      "WARNING:tensorflow:Can save best model only with val_loss available, skipping.\n"
     ]
    },
    {
     "name": "stdout",
     "output_type": "stream",
     "text": [
      "42/42 [==============================] - 24s 559ms/step - loss: 0.0110 - semantic_0_loss: 0.0030 - semantic_1_loss: 0.0068 - semantic_2_loss: 0.0012 - lr: 3.6237e-05\n",
      "Epoch 103/200\n",
      "42/42 [==============================] - ETA: 0s - loss: 0.0108 - semantic_0_loss: 0.0029 - semantic_1_loss: 0.0067 - semantic_2_loss: 0.0012WARNING:tensorflow:Can save best model only with val_loss available, skipping.\n"
     ]
    },
    {
     "name": "stderr",
     "output_type": "stream",
     "text": [
      "WARNING:tensorflow:Can save best model only with val_loss available, skipping.\n"
     ]
    },
    {
     "name": "stdout",
     "output_type": "stream",
     "text": [
      "42/42 [==============================] - 23s 550ms/step - loss: 0.0108 - semantic_0_loss: 0.0029 - semantic_1_loss: 0.0067 - semantic_2_loss: 0.0012 - lr: 3.5875e-05\n",
      "Epoch 104/200\n",
      "42/42 [==============================] - ETA: 0s - loss: 0.0107 - semantic_0_loss: 0.0030 - semantic_1_loss: 0.0066 - semantic_2_loss: 0.0012WARNING:tensorflow:Can save best model only with val_loss available, skipping.\n"
     ]
    },
    {
     "name": "stderr",
     "output_type": "stream",
     "text": [
      "WARNING:tensorflow:Can save best model only with val_loss available, skipping.\n"
     ]
    },
    {
     "name": "stdout",
     "output_type": "stream",
     "text": [
      "42/42 [==============================] - 24s 558ms/step - loss: 0.0107 - semantic_0_loss: 0.0030 - semantic_1_loss: 0.0066 - semantic_2_loss: 0.0012 - lr: 3.5516e-05\n",
      "Epoch 105/200\n",
      "42/42 [==============================] - ETA: 0s - loss: 0.0108 - semantic_0_loss: 0.0030 - semantic_1_loss: 0.0067 - semantic_2_loss: 0.0012WARNING:tensorflow:Can save best model only with val_loss available, skipping.\n"
     ]
    },
    {
     "name": "stderr",
     "output_type": "stream",
     "text": [
      "WARNING:tensorflow:Can save best model only with val_loss available, skipping.\n"
     ]
    },
    {
     "name": "stdout",
     "output_type": "stream",
     "text": [
      "42/42 [==============================] - 24s 564ms/step - loss: 0.0108 - semantic_0_loss: 0.0030 - semantic_1_loss: 0.0067 - semantic_2_loss: 0.0012 - lr: 3.5161e-05\n",
      "Epoch 106/200\n",
      "42/42 [==============================] - ETA: 0s - loss: 0.0108 - semantic_0_loss: 0.0029 - semantic_1_loss: 0.0067 - semantic_2_loss: 0.0012WARNING:tensorflow:Can save best model only with val_loss available, skipping.\n"
     ]
    },
    {
     "name": "stderr",
     "output_type": "stream",
     "text": [
      "WARNING:tensorflow:Can save best model only with val_loss available, skipping.\n"
     ]
    },
    {
     "name": "stdout",
     "output_type": "stream",
     "text": [
      "42/42 [==============================] - 24s 563ms/step - loss: 0.0108 - semantic_0_loss: 0.0029 - semantic_1_loss: 0.0067 - semantic_2_loss: 0.0012 - lr: 3.4809e-05\n",
      "Epoch 107/200\n",
      "42/42 [==============================] - ETA: 0s - loss: 0.0107 - semantic_0_loss: 0.0029 - semantic_1_loss: 0.0065 - semantic_2_loss: 0.0012WARNING:tensorflow:Can save best model only with val_loss available, skipping.\n"
     ]
    },
    {
     "name": "stderr",
     "output_type": "stream",
     "text": [
      "WARNING:tensorflow:Can save best model only with val_loss available, skipping.\n"
     ]
    },
    {
     "name": "stdout",
     "output_type": "stream",
     "text": [
      "42/42 [==============================] - 23s 552ms/step - loss: 0.0107 - semantic_0_loss: 0.0029 - semantic_1_loss: 0.0065 - semantic_2_loss: 0.0012 - lr: 3.4461e-05\n",
      "Epoch 108/200\n",
      "42/42 [==============================] - ETA: 0s - loss: 0.0108 - semantic_0_loss: 0.0029 - semantic_1_loss: 0.0067 - semantic_2_loss: 0.0012WARNING:tensorflow:Can save best model only with val_loss available, skipping.\n"
     ]
    },
    {
     "name": "stderr",
     "output_type": "stream",
     "text": [
      "WARNING:tensorflow:Can save best model only with val_loss available, skipping.\n"
     ]
    },
    {
     "name": "stdout",
     "output_type": "stream",
     "text": [
      "42/42 [==============================] - 24s 555ms/step - loss: 0.0108 - semantic_0_loss: 0.0029 - semantic_1_loss: 0.0067 - semantic_2_loss: 0.0012 - lr: 3.4117e-05\n",
      "Epoch 109/200\n",
      "42/42 [==============================] - ETA: 0s - loss: 0.0108 - semantic_0_loss: 0.0029 - semantic_1_loss: 0.0066 - semantic_2_loss: 0.0012WARNING:tensorflow:Can save best model only with val_loss available, skipping.\n"
     ]
    },
    {
     "name": "stderr",
     "output_type": "stream",
     "text": [
      "WARNING:tensorflow:Can save best model only with val_loss available, skipping.\n"
     ]
    },
    {
     "name": "stdout",
     "output_type": "stream",
     "text": [
      "42/42 [==============================] - 24s 553ms/step - loss: 0.0108 - semantic_0_loss: 0.0029 - semantic_1_loss: 0.0066 - semantic_2_loss: 0.0012 - lr: 3.3775e-05\n",
      "Epoch 110/200\n",
      "42/42 [==============================] - ETA: 0s - loss: 0.0104 - semantic_0_loss: 0.0028 - semantic_1_loss: 0.0064 - semantic_2_loss: 0.0012WARNING:tensorflow:Can save best model only with val_loss available, skipping.\n"
     ]
    },
    {
     "name": "stderr",
     "output_type": "stream",
     "text": [
      "WARNING:tensorflow:Can save best model only with val_loss available, skipping.\n"
     ]
    },
    {
     "name": "stdout",
     "output_type": "stream",
     "text": [
      "42/42 [==============================] - 24s 568ms/step - loss: 0.0104 - semantic_0_loss: 0.0028 - semantic_1_loss: 0.0064 - semantic_2_loss: 0.0012 - lr: 3.3438e-05\n",
      "Epoch 111/200\n",
      "42/42 [==============================] - ETA: 0s - loss: 0.0108 - semantic_0_loss: 0.0029 - semantic_1_loss: 0.0067 - semantic_2_loss: 0.0012WARNING:tensorflow:Can save best model only with val_loss available, skipping.\n"
     ]
    },
    {
     "name": "stderr",
     "output_type": "stream",
     "text": [
      "WARNING:tensorflow:Can save best model only with val_loss available, skipping.\n"
     ]
    },
    {
     "name": "stdout",
     "output_type": "stream",
     "text": [
      "42/42 [==============================] - 24s 566ms/step - loss: 0.0108 - semantic_0_loss: 0.0029 - semantic_1_loss: 0.0067 - semantic_2_loss: 0.0012 - lr: 3.3103e-05\n",
      "Epoch 112/200\n",
      "42/42 [==============================] - ETA: 0s - loss: 0.0106 - semantic_0_loss: 0.0029 - semantic_1_loss: 0.0065 - semantic_2_loss: 0.0012WARNING:tensorflow:Can save best model only with val_loss available, skipping.\n"
     ]
    },
    {
     "name": "stderr",
     "output_type": "stream",
     "text": [
      "WARNING:tensorflow:Can save best model only with val_loss available, skipping.\n"
     ]
    },
    {
     "name": "stdout",
     "output_type": "stream",
     "text": [
      "42/42 [==============================] - 24s 557ms/step - loss: 0.0106 - semantic_0_loss: 0.0029 - semantic_1_loss: 0.0065 - semantic_2_loss: 0.0012 - lr: 3.2772e-05\n",
      "Epoch 113/200\n",
      "42/42 [==============================] - ETA: 0s - loss: 0.0108 - semantic_0_loss: 0.0029 - semantic_1_loss: 0.0066 - semantic_2_loss: 0.0012WARNING:tensorflow:Can save best model only with val_loss available, skipping.\n"
     ]
    },
    {
     "name": "stderr",
     "output_type": "stream",
     "text": [
      "WARNING:tensorflow:Can save best model only with val_loss available, skipping.\n"
     ]
    },
    {
     "name": "stdout",
     "output_type": "stream",
     "text": [
      "42/42 [==============================] - 24s 558ms/step - loss: 0.0108 - semantic_0_loss: 0.0029 - semantic_1_loss: 0.0066 - semantic_2_loss: 0.0012 - lr: 3.2445e-05\n",
      "Epoch 114/200\n",
      "42/42 [==============================] - ETA: 0s - loss: 0.0107 - semantic_0_loss: 0.0029 - semantic_1_loss: 0.0066 - semantic_2_loss: 0.0012WARNING:tensorflow:Can save best model only with val_loss available, skipping.\n"
     ]
    },
    {
     "name": "stderr",
     "output_type": "stream",
     "text": [
      "WARNING:tensorflow:Can save best model only with val_loss available, skipping.\n"
     ]
    },
    {
     "name": "stdout",
     "output_type": "stream",
     "text": [
      "42/42 [==============================] - 24s 564ms/step - loss: 0.0107 - semantic_0_loss: 0.0029 - semantic_1_loss: 0.0066 - semantic_2_loss: 0.0012 - lr: 3.2120e-05\n",
      "Epoch 115/200\n",
      "42/42 [==============================] - ETA: 0s - loss: 0.0107 - semantic_0_loss: 0.0029 - semantic_1_loss: 0.0066 - semantic_2_loss: 0.0012WARNING:tensorflow:Can save best model only with val_loss available, skipping.\n"
     ]
    },
    {
     "name": "stderr",
     "output_type": "stream",
     "text": [
      "WARNING:tensorflow:Can save best model only with val_loss available, skipping.\n"
     ]
    },
    {
     "name": "stdout",
     "output_type": "stream",
     "text": [
      "42/42 [==============================] - 24s 559ms/step - loss: 0.0107 - semantic_0_loss: 0.0029 - semantic_1_loss: 0.0066 - semantic_2_loss: 0.0012 - lr: 3.1799e-05\n",
      "Epoch 116/200\n",
      "42/42 [==============================] - ETA: 0s - loss: 0.0106 - semantic_0_loss: 0.0029 - semantic_1_loss: 0.0065 - semantic_2_loss: 0.0012WARNING:tensorflow:Can save best model only with val_loss available, skipping.\n"
     ]
    },
    {
     "name": "stderr",
     "output_type": "stream",
     "text": [
      "WARNING:tensorflow:Can save best model only with val_loss available, skipping.\n"
     ]
    },
    {
     "name": "stdout",
     "output_type": "stream",
     "text": [
      "42/42 [==============================] - 23s 548ms/step - loss: 0.0106 - semantic_0_loss: 0.0029 - semantic_1_loss: 0.0065 - semantic_2_loss: 0.0012 - lr: 3.1481e-05\n",
      "Epoch 117/200\n",
      "42/42 [==============================] - ETA: 0s - loss: 0.0108 - semantic_0_loss: 0.0029 - semantic_1_loss: 0.0066 - semantic_2_loss: 0.0012WARNING:tensorflow:Can save best model only with val_loss available, skipping.\n"
     ]
    },
    {
     "name": "stderr",
     "output_type": "stream",
     "text": [
      "WARNING:tensorflow:Can save best model only with val_loss available, skipping.\n"
     ]
    },
    {
     "name": "stdout",
     "output_type": "stream",
     "text": [
      "42/42 [==============================] - 24s 567ms/step - loss: 0.0108 - semantic_0_loss: 0.0029 - semantic_1_loss: 0.0066 - semantic_2_loss: 0.0012 - lr: 3.1166e-05\n",
      "Epoch 118/200\n",
      "42/42 [==============================] - ETA: 0s - loss: 0.0105 - semantic_0_loss: 0.0029 - semantic_1_loss: 0.0064 - semantic_2_loss: 0.0012WARNING:tensorflow:Can save best model only with val_loss available, skipping.\n"
     ]
    },
    {
     "name": "stderr",
     "output_type": "stream",
     "text": [
      "WARNING:tensorflow:Can save best model only with val_loss available, skipping.\n"
     ]
    },
    {
     "name": "stdout",
     "output_type": "stream",
     "text": [
      "42/42 [==============================] - 24s 572ms/step - loss: 0.0105 - semantic_0_loss: 0.0029 - semantic_1_loss: 0.0064 - semantic_2_loss: 0.0012 - lr: 3.0854e-05\n",
      "Epoch 119/200\n",
      "42/42 [==============================] - ETA: 0s - loss: 0.0105 - semantic_0_loss: 0.0029 - semantic_1_loss: 0.0064 - semantic_2_loss: 0.0012WARNING:tensorflow:Can save best model only with val_loss available, skipping.\n"
     ]
    },
    {
     "name": "stderr",
     "output_type": "stream",
     "text": [
      "WARNING:tensorflow:Can save best model only with val_loss available, skipping.\n"
     ]
    },
    {
     "name": "stdout",
     "output_type": "stream",
     "text": [
      "42/42 [==============================] - 24s 564ms/step - loss: 0.0105 - semantic_0_loss: 0.0029 - semantic_1_loss: 0.0064 - semantic_2_loss: 0.0012 - lr: 3.0546e-05\n",
      "Epoch 120/200\n",
      "42/42 [==============================] - ETA: 0s - loss: 0.0105 - semantic_0_loss: 0.0029 - semantic_1_loss: 0.0064 - semantic_2_loss: 0.0012WARNING:tensorflow:Can save best model only with val_loss available, skipping.\n"
     ]
    },
    {
     "name": "stderr",
     "output_type": "stream",
     "text": [
      "WARNING:tensorflow:Can save best model only with val_loss available, skipping.\n"
     ]
    },
    {
     "name": "stdout",
     "output_type": "stream",
     "text": [
      "42/42 [==============================] - 23s 551ms/step - loss: 0.0105 - semantic_0_loss: 0.0029 - semantic_1_loss: 0.0064 - semantic_2_loss: 0.0012 - lr: 3.0240e-05\n",
      "Epoch 121/200\n",
      "42/42 [==============================] - ETA: 0s - loss: 0.0108 - semantic_0_loss: 0.0030 - semantic_1_loss: 0.0066 - semantic_2_loss: 0.0012WARNING:tensorflow:Can save best model only with val_loss available, skipping.\n"
     ]
    },
    {
     "name": "stderr",
     "output_type": "stream",
     "text": [
      "WARNING:tensorflow:Can save best model only with val_loss available, skipping.\n"
     ]
    },
    {
     "name": "stdout",
     "output_type": "stream",
     "text": [
      "42/42 [==============================] - 24s 557ms/step - loss: 0.0108 - semantic_0_loss: 0.0030 - semantic_1_loss: 0.0066 - semantic_2_loss: 0.0012 - lr: 2.9938e-05\n",
      "Epoch 122/200\n",
      "42/42 [==============================] - ETA: 0s - loss: 0.0105 - semantic_0_loss: 0.0029 - semantic_1_loss: 0.0064 - semantic_2_loss: 0.0012WARNING:tensorflow:Can save best model only with val_loss available, skipping.\n"
     ]
    },
    {
     "name": "stderr",
     "output_type": "stream",
     "text": [
      "WARNING:tensorflow:Can save best model only with val_loss available, skipping.\n"
     ]
    },
    {
     "name": "stdout",
     "output_type": "stream",
     "text": [
      "42/42 [==============================] - 24s 557ms/step - loss: 0.0105 - semantic_0_loss: 0.0029 - semantic_1_loss: 0.0064 - semantic_2_loss: 0.0012 - lr: 2.9639e-05\n",
      "Epoch 123/200\n",
      "42/42 [==============================] - ETA: 0s - loss: 0.0104 - semantic_0_loss: 0.0029 - semantic_1_loss: 0.0063 - semantic_2_loss: 0.0012WARNING:tensorflow:Can save best model only with val_loss available, skipping.\n"
     ]
    },
    {
     "name": "stderr",
     "output_type": "stream",
     "text": [
      "WARNING:tensorflow:Can save best model only with val_loss available, skipping.\n"
     ]
    },
    {
     "name": "stdout",
     "output_type": "stream",
     "text": [
      "42/42 [==============================] - 24s 559ms/step - loss: 0.0104 - semantic_0_loss: 0.0029 - semantic_1_loss: 0.0063 - semantic_2_loss: 0.0012 - lr: 2.9342e-05\n",
      "Epoch 124/200\n",
      "42/42 [==============================] - ETA: 0s - loss: 0.0106 - semantic_0_loss: 0.0029 - semantic_1_loss: 0.0065 - semantic_2_loss: 0.0012WARNING:tensorflow:Can save best model only with val_loss available, skipping.\n"
     ]
    },
    {
     "name": "stderr",
     "output_type": "stream",
     "text": [
      "WARNING:tensorflow:Can save best model only with val_loss available, skipping.\n"
     ]
    },
    {
     "name": "stdout",
     "output_type": "stream",
     "text": [
      "42/42 [==============================] - 24s 555ms/step - loss: 0.0106 - semantic_0_loss: 0.0029 - semantic_1_loss: 0.0065 - semantic_2_loss: 0.0012 - lr: 2.9049e-05\n",
      "Epoch 125/200\n",
      "42/42 [==============================] - ETA: 0s - loss: 0.0104 - semantic_0_loss: 0.0029 - semantic_1_loss: 0.0064 - semantic_2_loss: 0.0012WARNING:tensorflow:Can save best model only with val_loss available, skipping.\n"
     ]
    },
    {
     "name": "stderr",
     "output_type": "stream",
     "text": [
      "WARNING:tensorflow:Can save best model only with val_loss available, skipping.\n"
     ]
    },
    {
     "name": "stdout",
     "output_type": "stream",
     "text": [
      "42/42 [==============================] - 23s 549ms/step - loss: 0.0104 - semantic_0_loss: 0.0029 - semantic_1_loss: 0.0064 - semantic_2_loss: 0.0012 - lr: 2.8758e-05\n",
      "Epoch 126/200\n",
      "42/42 [==============================] - ETA: 0s - loss: 0.0103 - semantic_0_loss: 0.0029 - semantic_1_loss: 0.0063 - semantic_2_loss: 0.0012WARNING:tensorflow:Can save best model only with val_loss available, skipping.\n"
     ]
    },
    {
     "name": "stderr",
     "output_type": "stream",
     "text": [
      "WARNING:tensorflow:Can save best model only with val_loss available, skipping.\n"
     ]
    },
    {
     "name": "stdout",
     "output_type": "stream",
     "text": [
      "42/42 [==============================] - 23s 552ms/step - loss: 0.0103 - semantic_0_loss: 0.0029 - semantic_1_loss: 0.0063 - semantic_2_loss: 0.0012 - lr: 2.8471e-05\n",
      "Epoch 127/200\n",
      "42/42 [==============================] - ETA: 0s - loss: 0.0104 - semantic_0_loss: 0.0029 - semantic_1_loss: 0.0064 - semantic_2_loss: 0.0012WARNING:tensorflow:Can save best model only with val_loss available, skipping.\n"
     ]
    },
    {
     "name": "stderr",
     "output_type": "stream",
     "text": [
      "WARNING:tensorflow:Can save best model only with val_loss available, skipping.\n"
     ]
    },
    {
     "name": "stdout",
     "output_type": "stream",
     "text": [
      "42/42 [==============================] - 23s 552ms/step - loss: 0.0104 - semantic_0_loss: 0.0029 - semantic_1_loss: 0.0064 - semantic_2_loss: 0.0012 - lr: 2.8186e-05\n",
      "Epoch 128/200\n",
      "42/42 [==============================] - ETA: 0s - loss: 0.0104 - semantic_0_loss: 0.0029 - semantic_1_loss: 0.0064 - semantic_2_loss: 0.0012WARNING:tensorflow:Can save best model only with val_loss available, skipping.\n"
     ]
    },
    {
     "name": "stderr",
     "output_type": "stream",
     "text": [
      "WARNING:tensorflow:Can save best model only with val_loss available, skipping.\n"
     ]
    },
    {
     "name": "stdout",
     "output_type": "stream",
     "text": [
      "42/42 [==============================] - 24s 572ms/step - loss: 0.0104 - semantic_0_loss: 0.0029 - semantic_1_loss: 0.0064 - semantic_2_loss: 0.0012 - lr: 2.7904e-05\n",
      "Epoch 129/200\n",
      "42/42 [==============================] - ETA: 0s - loss: 0.0103 - semantic_0_loss: 0.0029 - semantic_1_loss: 0.0063 - semantic_2_loss: 0.0012WARNING:tensorflow:Can save best model only with val_loss available, skipping.\n"
     ]
    },
    {
     "name": "stderr",
     "output_type": "stream",
     "text": [
      "WARNING:tensorflow:Can save best model only with val_loss available, skipping.\n"
     ]
    },
    {
     "name": "stdout",
     "output_type": "stream",
     "text": [
      "42/42 [==============================] - 24s 562ms/step - loss: 0.0103 - semantic_0_loss: 0.0029 - semantic_1_loss: 0.0063 - semantic_2_loss: 0.0012 - lr: 2.7625e-05\n",
      "Epoch 130/200\n",
      "42/42 [==============================] - ETA: 0s - loss: 0.0103 - semantic_0_loss: 0.0029 - semantic_1_loss: 0.0063 - semantic_2_loss: 0.0012WARNING:tensorflow:Can save best model only with val_loss available, skipping.\n"
     ]
    },
    {
     "name": "stderr",
     "output_type": "stream",
     "text": [
      "WARNING:tensorflow:Can save best model only with val_loss available, skipping.\n"
     ]
    },
    {
     "name": "stdout",
     "output_type": "stream",
     "text": [
      "42/42 [==============================] - 23s 549ms/step - loss: 0.0103 - semantic_0_loss: 0.0029 - semantic_1_loss: 0.0063 - semantic_2_loss: 0.0012 - lr: 2.7349e-05\n",
      "Epoch 131/200\n",
      "42/42 [==============================] - ETA: 0s - loss: 0.0105 - semantic_0_loss: 0.0029 - semantic_1_loss: 0.0064 - semantic_2_loss: 0.0012WARNING:tensorflow:Can save best model only with val_loss available, skipping.\n"
     ]
    },
    {
     "name": "stderr",
     "output_type": "stream",
     "text": [
      "WARNING:tensorflow:Can save best model only with val_loss available, skipping.\n"
     ]
    },
    {
     "name": "stdout",
     "output_type": "stream",
     "text": [
      "42/42 [==============================] - 24s 571ms/step - loss: 0.0105 - semantic_0_loss: 0.0029 - semantic_1_loss: 0.0064 - semantic_2_loss: 0.0012 - lr: 2.7075e-05\n",
      "Epoch 132/200\n",
      "42/42 [==============================] - ETA: 0s - loss: 0.0104 - semantic_0_loss: 0.0029 - semantic_1_loss: 0.0064 - semantic_2_loss: 0.0012WARNING:tensorflow:Can save best model only with val_loss available, skipping.\n"
     ]
    },
    {
     "name": "stderr",
     "output_type": "stream",
     "text": [
      "WARNING:tensorflow:Can save best model only with val_loss available, skipping.\n"
     ]
    },
    {
     "name": "stdout",
     "output_type": "stream",
     "text": [
      "42/42 [==============================] - 23s 551ms/step - loss: 0.0104 - semantic_0_loss: 0.0029 - semantic_1_loss: 0.0064 - semantic_2_loss: 0.0012 - lr: 2.6805e-05\n",
      "Epoch 133/200\n",
      "42/42 [==============================] - ETA: 0s - loss: 0.0104 - semantic_0_loss: 0.0029 - semantic_1_loss: 0.0064 - semantic_2_loss: 0.0012WARNING:tensorflow:Can save best model only with val_loss available, skipping.\n"
     ]
    },
    {
     "name": "stderr",
     "output_type": "stream",
     "text": [
      "WARNING:tensorflow:Can save best model only with val_loss available, skipping.\n"
     ]
    },
    {
     "name": "stdout",
     "output_type": "stream",
     "text": [
      "42/42 [==============================] - 24s 566ms/step - loss: 0.0104 - semantic_0_loss: 0.0029 - semantic_1_loss: 0.0064 - semantic_2_loss: 0.0012 - lr: 2.6537e-05\n",
      "Epoch 134/200\n",
      "42/42 [==============================] - ETA: 0s - loss: 0.0105 - semantic_0_loss: 0.0029 - semantic_1_loss: 0.0065 - semantic_2_loss: 0.0012WARNING:tensorflow:Can save best model only with val_loss available, skipping.\n"
     ]
    },
    {
     "name": "stderr",
     "output_type": "stream",
     "text": [
      "WARNING:tensorflow:Can save best model only with val_loss available, skipping.\n"
     ]
    },
    {
     "name": "stdout",
     "output_type": "stream",
     "text": [
      "42/42 [==============================] - 24s 568ms/step - loss: 0.0105 - semantic_0_loss: 0.0029 - semantic_1_loss: 0.0065 - semantic_2_loss: 0.0012 - lr: 2.6271e-05\n",
      "Epoch 135/200\n",
      "42/42 [==============================] - ETA: 0s - loss: 0.0104 - semantic_0_loss: 0.0029 - semantic_1_loss: 0.0064 - semantic_2_loss: 0.0012WARNING:tensorflow:Can save best model only with val_loss available, skipping.\n"
     ]
    },
    {
     "name": "stderr",
     "output_type": "stream",
     "text": [
      "WARNING:tensorflow:Can save best model only with val_loss available, skipping.\n"
     ]
    },
    {
     "name": "stdout",
     "output_type": "stream",
     "text": [
      "42/42 [==============================] - 24s 557ms/step - loss: 0.0104 - semantic_0_loss: 0.0029 - semantic_1_loss: 0.0064 - semantic_2_loss: 0.0012 - lr: 2.6009e-05\n",
      "Epoch 136/200\n",
      "42/42 [==============================] - ETA: 0s - loss: 0.0104 - semantic_0_loss: 0.0029 - semantic_1_loss: 0.0063 - semantic_2_loss: 0.0012WARNING:tensorflow:Can save best model only with val_loss available, skipping.\n"
     ]
    },
    {
     "name": "stderr",
     "output_type": "stream",
     "text": [
      "WARNING:tensorflow:Can save best model only with val_loss available, skipping.\n"
     ]
    },
    {
     "name": "stdout",
     "output_type": "stream",
     "text": [
      "42/42 [==============================] - 23s 549ms/step - loss: 0.0104 - semantic_0_loss: 0.0029 - semantic_1_loss: 0.0063 - semantic_2_loss: 0.0012 - lr: 2.5748e-05\n",
      "Epoch 137/200\n",
      "42/42 [==============================] - ETA: 0s - loss: 0.0104 - semantic_0_loss: 0.0029 - semantic_1_loss: 0.0063 - semantic_2_loss: 0.0012WARNING:tensorflow:Can save best model only with val_loss available, skipping.\n"
     ]
    },
    {
     "name": "stderr",
     "output_type": "stream",
     "text": [
      "WARNING:tensorflow:Can save best model only with val_loss available, skipping.\n"
     ]
    },
    {
     "name": "stdout",
     "output_type": "stream",
     "text": [
      "42/42 [==============================] - 24s 559ms/step - loss: 0.0104 - semantic_0_loss: 0.0029 - semantic_1_loss: 0.0063 - semantic_2_loss: 0.0012 - lr: 2.5491e-05\n",
      "Epoch 138/200\n",
      "42/42 [==============================] - ETA: 0s - loss: 0.0105 - semantic_0_loss: 0.0029 - semantic_1_loss: 0.0064 - semantic_2_loss: 0.0012WARNING:tensorflow:Can save best model only with val_loss available, skipping.\n"
     ]
    },
    {
     "name": "stderr",
     "output_type": "stream",
     "text": [
      "WARNING:tensorflow:Can save best model only with val_loss available, skipping.\n"
     ]
    },
    {
     "name": "stdout",
     "output_type": "stream",
     "text": [
      "42/42 [==============================] - 23s 554ms/step - loss: 0.0105 - semantic_0_loss: 0.0029 - semantic_1_loss: 0.0064 - semantic_2_loss: 0.0012 - lr: 2.5236e-05\n",
      "Epoch 139/200\n",
      "42/42 [==============================] - ETA: 0s - loss: 0.0103 - semantic_0_loss: 0.0029 - semantic_1_loss: 0.0063 - semantic_2_loss: 0.0012WARNING:tensorflow:Can save best model only with val_loss available, skipping.\n"
     ]
    },
    {
     "name": "stderr",
     "output_type": "stream",
     "text": [
      "WARNING:tensorflow:Can save best model only with val_loss available, skipping.\n"
     ]
    },
    {
     "name": "stdout",
     "output_type": "stream",
     "text": [
      "42/42 [==============================] - 23s 548ms/step - loss: 0.0103 - semantic_0_loss: 0.0029 - semantic_1_loss: 0.0063 - semantic_2_loss: 0.0012 - lr: 2.4984e-05\n",
      "Epoch 140/200\n",
      "42/42 [==============================] - ETA: 0s - loss: 0.0103 - semantic_0_loss: 0.0029 - semantic_1_loss: 0.0063 - semantic_2_loss: 0.0012WARNING:tensorflow:Can save best model only with val_loss available, skipping.\n"
     ]
    },
    {
     "name": "stderr",
     "output_type": "stream",
     "text": [
      "WARNING:tensorflow:Can save best model only with val_loss available, skipping.\n"
     ]
    },
    {
     "name": "stdout",
     "output_type": "stream",
     "text": [
      "42/42 [==============================] - 24s 555ms/step - loss: 0.0103 - semantic_0_loss: 0.0029 - semantic_1_loss: 0.0063 - semantic_2_loss: 0.0012 - lr: 2.4734e-05\n",
      "Epoch 141/200\n",
      "42/42 [==============================] - ETA: 0s - loss: 0.0104 - semantic_0_loss: 0.0029 - semantic_1_loss: 0.0063 - semantic_2_loss: 0.0012WARNING:tensorflow:Can save best model only with val_loss available, skipping.\n"
     ]
    },
    {
     "name": "stderr",
     "output_type": "stream",
     "text": [
      "WARNING:tensorflow:Can save best model only with val_loss available, skipping.\n"
     ]
    },
    {
     "name": "stdout",
     "output_type": "stream",
     "text": [
      "42/42 [==============================] - 23s 549ms/step - loss: 0.0104 - semantic_0_loss: 0.0029 - semantic_1_loss: 0.0063 - semantic_2_loss: 0.0012 - lr: 2.4487e-05\n",
      "Epoch 142/200\n",
      "42/42 [==============================] - ETA: 0s - loss: 0.0103 - semantic_0_loss: 0.0028 - semantic_1_loss: 0.0063 - semantic_2_loss: 0.0012WARNING:tensorflow:Can save best model only with val_loss available, skipping.\n"
     ]
    },
    {
     "name": "stderr",
     "output_type": "stream",
     "text": [
      "WARNING:tensorflow:Can save best model only with val_loss available, skipping.\n"
     ]
    },
    {
     "name": "stdout",
     "output_type": "stream",
     "text": [
      "42/42 [==============================] - 23s 548ms/step - loss: 0.0103 - semantic_0_loss: 0.0028 - semantic_1_loss: 0.0063 - semantic_2_loss: 0.0012 - lr: 2.4242e-05\n",
      "Epoch 143/200\n",
      "42/42 [==============================] - ETA: 0s - loss: 0.0101 - semantic_0_loss: 0.0028 - semantic_1_loss: 0.0062 - semantic_2_loss: 0.0011WARNING:tensorflow:Can save best model only with val_loss available, skipping.\n"
     ]
    },
    {
     "name": "stderr",
     "output_type": "stream",
     "text": [
      "WARNING:tensorflow:Can save best model only with val_loss available, skipping.\n"
     ]
    },
    {
     "name": "stdout",
     "output_type": "stream",
     "text": [
      "42/42 [==============================] - 24s 558ms/step - loss: 0.0101 - semantic_0_loss: 0.0028 - semantic_1_loss: 0.0062 - semantic_2_loss: 0.0011 - lr: 2.3999e-05\n",
      "Epoch 144/200\n",
      "42/42 [==============================] - ETA: 0s - loss: 0.0101 - semantic_0_loss: 0.0028 - semantic_1_loss: 0.0062 - semantic_2_loss: 0.0011WARNING:tensorflow:Can save best model only with val_loss available, skipping.\n"
     ]
    },
    {
     "name": "stderr",
     "output_type": "stream",
     "text": [
      "WARNING:tensorflow:Can save best model only with val_loss available, skipping.\n"
     ]
    },
    {
     "name": "stdout",
     "output_type": "stream",
     "text": [
      "42/42 [==============================] - 23s 550ms/step - loss: 0.0101 - semantic_0_loss: 0.0028 - semantic_1_loss: 0.0062 - semantic_2_loss: 0.0011 - lr: 2.3759e-05\n",
      "Epoch 145/200\n",
      "42/42 [==============================] - ETA: 0s - loss: 0.0103 - semantic_0_loss: 0.0029 - semantic_1_loss: 0.0063 - semantic_2_loss: 0.0012WARNING:tensorflow:Can save best model only with val_loss available, skipping.\n"
     ]
    },
    {
     "name": "stderr",
     "output_type": "stream",
     "text": [
      "WARNING:tensorflow:Can save best model only with val_loss available, skipping.\n"
     ]
    },
    {
     "name": "stdout",
     "output_type": "stream",
     "text": [
      "42/42 [==============================] - 24s 552ms/step - loss: 0.0103 - semantic_0_loss: 0.0029 - semantic_1_loss: 0.0063 - semantic_2_loss: 0.0012 - lr: 2.3522e-05\n",
      "Epoch 146/200\n",
      "42/42 [==============================] - ETA: 0s - loss: 0.0101 - semantic_0_loss: 0.0028 - semantic_1_loss: 0.0062 - semantic_2_loss: 0.0011WARNING:tensorflow:Can save best model only with val_loss available, skipping.\n"
     ]
    },
    {
     "name": "stderr",
     "output_type": "stream",
     "text": [
      "WARNING:tensorflow:Can save best model only with val_loss available, skipping.\n"
     ]
    },
    {
     "name": "stdout",
     "output_type": "stream",
     "text": [
      "42/42 [==============================] - 24s 563ms/step - loss: 0.0101 - semantic_0_loss: 0.0028 - semantic_1_loss: 0.0062 - semantic_2_loss: 0.0011 - lr: 2.3286e-05\n",
      "Epoch 147/200\n",
      "42/42 [==============================] - ETA: 0s - loss: 0.0101 - semantic_0_loss: 0.0028 - semantic_1_loss: 0.0062 - semantic_2_loss: 0.0012WARNING:tensorflow:Can save best model only with val_loss available, skipping.\n"
     ]
    },
    {
     "name": "stderr",
     "output_type": "stream",
     "text": [
      "WARNING:tensorflow:Can save best model only with val_loss available, skipping.\n"
     ]
    },
    {
     "name": "stdout",
     "output_type": "stream",
     "text": [
      "42/42 [==============================] - 24s 565ms/step - loss: 0.0101 - semantic_0_loss: 0.0028 - semantic_1_loss: 0.0062 - semantic_2_loss: 0.0012 - lr: 2.3054e-05\n",
      "Epoch 148/200\n",
      "42/42 [==============================] - ETA: 0s - loss: 0.0104 - semantic_0_loss: 0.0029 - semantic_1_loss: 0.0063 - semantic_2_loss: 0.0012WARNING:tensorflow:Can save best model only with val_loss available, skipping.\n"
     ]
    },
    {
     "name": "stderr",
     "output_type": "stream",
     "text": [
      "WARNING:tensorflow:Can save best model only with val_loss available, skipping.\n"
     ]
    },
    {
     "name": "stdout",
     "output_type": "stream",
     "text": [
      "42/42 [==============================] - 24s 561ms/step - loss: 0.0104 - semantic_0_loss: 0.0029 - semantic_1_loss: 0.0063 - semantic_2_loss: 0.0012 - lr: 2.2823e-05\n",
      "Epoch 149/200\n",
      "42/42 [==============================] - ETA: 0s - loss: 0.0103 - semantic_0_loss: 0.0029 - semantic_1_loss: 0.0063 - semantic_2_loss: 0.0012WARNING:tensorflow:Can save best model only with val_loss available, skipping.\n"
     ]
    },
    {
     "name": "stderr",
     "output_type": "stream",
     "text": [
      "WARNING:tensorflow:Can save best model only with val_loss available, skipping.\n"
     ]
    },
    {
     "name": "stdout",
     "output_type": "stream",
     "text": [
      "42/42 [==============================] - 24s 559ms/step - loss: 0.0103 - semantic_0_loss: 0.0029 - semantic_1_loss: 0.0063 - semantic_2_loss: 0.0012 - lr: 2.2595e-05\n",
      "Epoch 150/200\n",
      "42/42 [==============================] - ETA: 0s - loss: 0.0101 - semantic_0_loss: 0.0028 - semantic_1_loss: 0.0062 - semantic_2_loss: 0.0011WARNING:tensorflow:Can save best model only with val_loss available, skipping.\n"
     ]
    },
    {
     "name": "stderr",
     "output_type": "stream",
     "text": [
      "WARNING:tensorflow:Can save best model only with val_loss available, skipping.\n"
     ]
    },
    {
     "name": "stdout",
     "output_type": "stream",
     "text": [
      "42/42 [==============================] - 24s 571ms/step - loss: 0.0101 - semantic_0_loss: 0.0028 - semantic_1_loss: 0.0062 - semantic_2_loss: 0.0011 - lr: 2.2369e-05\n",
      "Epoch 151/200\n",
      "42/42 [==============================] - ETA: 0s - loss: 0.0102 - semantic_0_loss: 0.0028 - semantic_1_loss: 0.0062 - semantic_2_loss: 0.0011WARNING:tensorflow:Can save best model only with val_loss available, skipping.\n"
     ]
    },
    {
     "name": "stderr",
     "output_type": "stream",
     "text": [
      "WARNING:tensorflow:Can save best model only with val_loss available, skipping.\n"
     ]
    },
    {
     "name": "stdout",
     "output_type": "stream",
     "text": [
      "42/42 [==============================] - 23s 554ms/step - loss: 0.0102 - semantic_0_loss: 0.0028 - semantic_1_loss: 0.0062 - semantic_2_loss: 0.0011 - lr: 2.2145e-05\n",
      "Epoch 152/200\n",
      "42/42 [==============================] - ETA: 0s - loss: 0.0102 - semantic_0_loss: 0.0028 - semantic_1_loss: 0.0062 - semantic_2_loss: 0.0011WARNING:tensorflow:Can save best model only with val_loss available, skipping.\n"
     ]
    },
    {
     "name": "stderr",
     "output_type": "stream",
     "text": [
      "WARNING:tensorflow:Can save best model only with val_loss available, skipping.\n"
     ]
    },
    {
     "name": "stdout",
     "output_type": "stream",
     "text": [
      "42/42 [==============================] - 24s 570ms/step - loss: 0.0102 - semantic_0_loss: 0.0028 - semantic_1_loss: 0.0062 - semantic_2_loss: 0.0011 - lr: 2.1924e-05\n",
      "Epoch 153/200\n",
      "42/42 [==============================] - ETA: 0s - loss: 0.0103 - semantic_0_loss: 0.0028 - semantic_1_loss: 0.0063 - semantic_2_loss: 0.0012WARNING:tensorflow:Can save best model only with val_loss available, skipping.\n"
     ]
    },
    {
     "name": "stderr",
     "output_type": "stream",
     "text": [
      "WARNING:tensorflow:Can save best model only with val_loss available, skipping.\n"
     ]
    },
    {
     "name": "stdout",
     "output_type": "stream",
     "text": [
      "42/42 [==============================] - 24s 561ms/step - loss: 0.0103 - semantic_0_loss: 0.0028 - semantic_1_loss: 0.0063 - semantic_2_loss: 0.0012 - lr: 2.1704e-05\n",
      "Epoch 154/200\n",
      "42/42 [==============================] - ETA: 0s - loss: 0.0100 - semantic_0_loss: 0.0028 - semantic_1_loss: 0.0061 - semantic_2_loss: 0.0011WARNING:tensorflow:Can save best model only with val_loss available, skipping.\n"
     ]
    },
    {
     "name": "stderr",
     "output_type": "stream",
     "text": [
      "WARNING:tensorflow:Can save best model only with val_loss available, skipping.\n"
     ]
    },
    {
     "name": "stdout",
     "output_type": "stream",
     "text": [
      "42/42 [==============================] - 23s 553ms/step - loss: 0.0100 - semantic_0_loss: 0.0028 - semantic_1_loss: 0.0061 - semantic_2_loss: 0.0011 - lr: 2.1487e-05\n",
      "Epoch 155/200\n",
      "42/42 [==============================] - ETA: 0s - loss: 0.0102 - semantic_0_loss: 0.0028 - semantic_1_loss: 0.0063 - semantic_2_loss: 0.0012WARNING:tensorflow:Can save best model only with val_loss available, skipping.\n"
     ]
    },
    {
     "name": "stderr",
     "output_type": "stream",
     "text": [
      "WARNING:tensorflow:Can save best model only with val_loss available, skipping.\n"
     ]
    },
    {
     "name": "stdout",
     "output_type": "stream",
     "text": [
      "42/42 [==============================] - 24s 559ms/step - loss: 0.0102 - semantic_0_loss: 0.0028 - semantic_1_loss: 0.0063 - semantic_2_loss: 0.0012 - lr: 2.1273e-05\n",
      "Epoch 156/200\n",
      "42/42 [==============================] - ETA: 0s - loss: 0.0101 - semantic_0_loss: 0.0028 - semantic_1_loss: 0.0062 - semantic_2_loss: 0.0011WARNING:tensorflow:Can save best model only with val_loss available, skipping.\n"
     ]
    },
    {
     "name": "stderr",
     "output_type": "stream",
     "text": [
      "WARNING:tensorflow:Can save best model only with val_loss available, skipping.\n"
     ]
    },
    {
     "name": "stdout",
     "output_type": "stream",
     "text": [
      "42/42 [==============================] - 23s 549ms/step - loss: 0.0101 - semantic_0_loss: 0.0028 - semantic_1_loss: 0.0062 - semantic_2_loss: 0.0011 - lr: 2.1060e-05\n",
      "Epoch 157/200\n",
      "42/42 [==============================] - ETA: 0s - loss: 0.0102 - semantic_0_loss: 0.0028 - semantic_1_loss: 0.0062 - semantic_2_loss: 0.0011WARNING:tensorflow:Can save best model only with val_loss available, skipping.\n"
     ]
    },
    {
     "name": "stderr",
     "output_type": "stream",
     "text": [
      "WARNING:tensorflow:Can save best model only with val_loss available, skipping.\n"
     ]
    },
    {
     "name": "stdout",
     "output_type": "stream",
     "text": [
      "42/42 [==============================] - 24s 557ms/step - loss: 0.0102 - semantic_0_loss: 0.0028 - semantic_1_loss: 0.0062 - semantic_2_loss: 0.0011 - lr: 2.0849e-05\n",
      "Epoch 158/200\n",
      "42/42 [==============================] - ETA: 0s - loss: 0.0102 - semantic_0_loss: 0.0028 - semantic_1_loss: 0.0062 - semantic_2_loss: 0.0011WARNING:tensorflow:Can save best model only with val_loss available, skipping.\n"
     ]
    },
    {
     "name": "stderr",
     "output_type": "stream",
     "text": [
      "WARNING:tensorflow:Can save best model only with val_loss available, skipping.\n"
     ]
    },
    {
     "name": "stdout",
     "output_type": "stream",
     "text": [
      "42/42 [==============================] - 23s 549ms/step - loss: 0.0102 - semantic_0_loss: 0.0028 - semantic_1_loss: 0.0062 - semantic_2_loss: 0.0011 - lr: 2.0641e-05\n",
      "Epoch 159/200\n",
      "42/42 [==============================] - ETA: 0s - loss: 0.0102 - semantic_0_loss: 0.0028 - semantic_1_loss: 0.0062 - semantic_2_loss: 0.0012WARNING:tensorflow:Can save best model only with val_loss available, skipping.\n"
     ]
    },
    {
     "name": "stderr",
     "output_type": "stream",
     "text": [
      "WARNING:tensorflow:Can save best model only with val_loss available, skipping.\n"
     ]
    },
    {
     "name": "stdout",
     "output_type": "stream",
     "text": [
      "42/42 [==============================] - 24s 556ms/step - loss: 0.0102 - semantic_0_loss: 0.0028 - semantic_1_loss: 0.0062 - semantic_2_loss: 0.0012 - lr: 2.0434e-05\n",
      "Epoch 160/200\n",
      "42/42 [==============================] - ETA: 0s - loss: 0.0102 - semantic_0_loss: 0.0029 - semantic_1_loss: 0.0062 - semantic_2_loss: 0.0011WARNING:tensorflow:Can save best model only with val_loss available, skipping.\n"
     ]
    },
    {
     "name": "stderr",
     "output_type": "stream",
     "text": [
      "WARNING:tensorflow:Can save best model only with val_loss available, skipping.\n"
     ]
    },
    {
     "name": "stdout",
     "output_type": "stream",
     "text": [
      "42/42 [==============================] - 23s 550ms/step - loss: 0.0102 - semantic_0_loss: 0.0029 - semantic_1_loss: 0.0062 - semantic_2_loss: 0.0011 - lr: 2.0230e-05\n",
      "Epoch 161/200\n",
      "42/42 [==============================] - ETA: 0s - loss: 0.0099 - semantic_0_loss: 0.0027 - semantic_1_loss: 0.0061 - semantic_2_loss: 0.0011WARNING:tensorflow:Can save best model only with val_loss available, skipping.\n"
     ]
    },
    {
     "name": "stderr",
     "output_type": "stream",
     "text": [
      "WARNING:tensorflow:Can save best model only with val_loss available, skipping.\n"
     ]
    },
    {
     "name": "stdout",
     "output_type": "stream",
     "text": [
      "42/42 [==============================] - 24s 561ms/step - loss: 0.0099 - semantic_0_loss: 0.0027 - semantic_1_loss: 0.0061 - semantic_2_loss: 0.0011 - lr: 2.0028e-05\n",
      "Epoch 162/200\n",
      "42/42 [==============================] - ETA: 0s - loss: 0.0102 - semantic_0_loss: 0.0029 - semantic_1_loss: 0.0062 - semantic_2_loss: 0.0011WARNING:tensorflow:Can save best model only with val_loss available, skipping.\n"
     ]
    },
    {
     "name": "stderr",
     "output_type": "stream",
     "text": [
      "WARNING:tensorflow:Can save best model only with val_loss available, skipping.\n"
     ]
    },
    {
     "name": "stdout",
     "output_type": "stream",
     "text": [
      "42/42 [==============================] - 24s 558ms/step - loss: 0.0102 - semantic_0_loss: 0.0029 - semantic_1_loss: 0.0062 - semantic_2_loss: 0.0011 - lr: 1.9827e-05\n",
      "Epoch 163/200\n",
      "42/42 [==============================] - ETA: 0s - loss: 0.0102 - semantic_0_loss: 0.0029 - semantic_1_loss: 0.0062 - semantic_2_loss: 0.0012WARNING:tensorflow:Can save best model only with val_loss available, skipping.\n"
     ]
    },
    {
     "name": "stderr",
     "output_type": "stream",
     "text": [
      "WARNING:tensorflow:Can save best model only with val_loss available, skipping.\n"
     ]
    },
    {
     "name": "stdout",
     "output_type": "stream",
     "text": [
      "42/42 [==============================] - 24s 558ms/step - loss: 0.0102 - semantic_0_loss: 0.0029 - semantic_1_loss: 0.0062 - semantic_2_loss: 0.0012 - lr: 1.9629e-05\n",
      "Epoch 164/200\n",
      "42/42 [==============================] - ETA: 0s - loss: 0.0100 - semantic_0_loss: 0.0028 - semantic_1_loss: 0.0061 - semantic_2_loss: 0.0011WARNING:tensorflow:Can save best model only with val_loss available, skipping.\n"
     ]
    },
    {
     "name": "stderr",
     "output_type": "stream",
     "text": [
      "WARNING:tensorflow:Can save best model only with val_loss available, skipping.\n"
     ]
    },
    {
     "name": "stdout",
     "output_type": "stream",
     "text": [
      "42/42 [==============================] - 24s 563ms/step - loss: 0.0100 - semantic_0_loss: 0.0028 - semantic_1_loss: 0.0061 - semantic_2_loss: 0.0011 - lr: 1.9433e-05\n",
      "Epoch 165/200\n",
      "42/42 [==============================] - ETA: 0s - loss: 0.0101 - semantic_0_loss: 0.0028 - semantic_1_loss: 0.0062 - semantic_2_loss: 0.0011WARNING:tensorflow:Can save best model only with val_loss available, skipping.\n"
     ]
    },
    {
     "name": "stderr",
     "output_type": "stream",
     "text": [
      "WARNING:tensorflow:Can save best model only with val_loss available, skipping.\n"
     ]
    },
    {
     "name": "stdout",
     "output_type": "stream",
     "text": [
      "42/42 [==============================] - 23s 550ms/step - loss: 0.0101 - semantic_0_loss: 0.0028 - semantic_1_loss: 0.0062 - semantic_2_loss: 0.0011 - lr: 1.9239e-05\n",
      "Epoch 166/200\n",
      "42/42 [==============================] - ETA: 0s - loss: 0.0101 - semantic_0_loss: 0.0028 - semantic_1_loss: 0.0062 - semantic_2_loss: 0.0011WARNING:tensorflow:Can save best model only with val_loss available, skipping.\n"
     ]
    },
    {
     "name": "stderr",
     "output_type": "stream",
     "text": [
      "WARNING:tensorflow:Can save best model only with val_loss available, skipping.\n"
     ]
    },
    {
     "name": "stdout",
     "output_type": "stream",
     "text": [
      "42/42 [==============================] - 23s 555ms/step - loss: 0.0101 - semantic_0_loss: 0.0028 - semantic_1_loss: 0.0062 - semantic_2_loss: 0.0011 - lr: 1.9046e-05\n",
      "Epoch 167/200\n",
      "42/42 [==============================] - ETA: 0s - loss: 0.0101 - semantic_0_loss: 0.0028 - semantic_1_loss: 0.0061 - semantic_2_loss: 0.0011WARNING:tensorflow:Can save best model only with val_loss available, skipping.\n"
     ]
    },
    {
     "name": "stderr",
     "output_type": "stream",
     "text": [
      "WARNING:tensorflow:Can save best model only with val_loss available, skipping.\n"
     ]
    },
    {
     "name": "stdout",
     "output_type": "stream",
     "text": [
      "42/42 [==============================] - 23s 552ms/step - loss: 0.0101 - semantic_0_loss: 0.0028 - semantic_1_loss: 0.0061 - semantic_2_loss: 0.0011 - lr: 1.8856e-05\n",
      "Epoch 168/200\n",
      "42/42 [==============================] - ETA: 0s - loss: 0.0099 - semantic_0_loss: 0.0028 - semantic_1_loss: 0.0060 - semantic_2_loss: 0.0011WARNING:tensorflow:Can save best model only with val_loss available, skipping.\n"
     ]
    },
    {
     "name": "stderr",
     "output_type": "stream",
     "text": [
      "WARNING:tensorflow:Can save best model only with val_loss available, skipping.\n"
     ]
    },
    {
     "name": "stdout",
     "output_type": "stream",
     "text": [
      "42/42 [==============================] - 24s 557ms/step - loss: 0.0099 - semantic_0_loss: 0.0028 - semantic_1_loss: 0.0060 - semantic_2_loss: 0.0011 - lr: 1.8667e-05\n",
      "Epoch 169/200\n",
      "42/42 [==============================] - ETA: 0s - loss: 0.0100 - semantic_0_loss: 0.0028 - semantic_1_loss: 0.0061 - semantic_2_loss: 0.0011WARNING:tensorflow:Can save best model only with val_loss available, skipping.\n"
     ]
    },
    {
     "name": "stderr",
     "output_type": "stream",
     "text": [
      "WARNING:tensorflow:Can save best model only with val_loss available, skipping.\n"
     ]
    },
    {
     "name": "stdout",
     "output_type": "stream",
     "text": [
      "42/42 [==============================] - 23s 548ms/step - loss: 0.0100 - semantic_0_loss: 0.0028 - semantic_1_loss: 0.0061 - semantic_2_loss: 0.0011 - lr: 1.8480e-05\n",
      "Epoch 170/200\n",
      "42/42 [==============================] - ETA: 0s - loss: 0.0100 - semantic_0_loss: 0.0028 - semantic_1_loss: 0.0061 - semantic_2_loss: 0.0011WARNING:tensorflow:Can save best model only with val_loss available, skipping.\n"
     ]
    },
    {
     "name": "stderr",
     "output_type": "stream",
     "text": [
      "WARNING:tensorflow:Can save best model only with val_loss available, skipping.\n"
     ]
    },
    {
     "name": "stdout",
     "output_type": "stream",
     "text": [
      "42/42 [==============================] - 23s 552ms/step - loss: 0.0100 - semantic_0_loss: 0.0028 - semantic_1_loss: 0.0061 - semantic_2_loss: 0.0011 - lr: 1.8296e-05\n",
      "Epoch 171/200\n",
      "42/42 [==============================] - ETA: 0s - loss: 0.0098 - semantic_0_loss: 0.0028 - semantic_1_loss: 0.0059 - semantic_2_loss: 0.0011WARNING:tensorflow:Can save best model only with val_loss available, skipping.\n"
     ]
    },
    {
     "name": "stderr",
     "output_type": "stream",
     "text": [
      "WARNING:tensorflow:Can save best model only with val_loss available, skipping.\n"
     ]
    },
    {
     "name": "stdout",
     "output_type": "stream",
     "text": [
      "42/42 [==============================] - 24s 564ms/step - loss: 0.0098 - semantic_0_loss: 0.0028 - semantic_1_loss: 0.0059 - semantic_2_loss: 0.0011 - lr: 1.8113e-05\n",
      "Epoch 172/200\n",
      "42/42 [==============================] - ETA: 0s - loss: 0.0101 - semantic_0_loss: 0.0028 - semantic_1_loss: 0.0061 - semantic_2_loss: 0.0011WARNING:tensorflow:Can save best model only with val_loss available, skipping.\n"
     ]
    },
    {
     "name": "stderr",
     "output_type": "stream",
     "text": [
      "WARNING:tensorflow:Can save best model only with val_loss available, skipping.\n"
     ]
    },
    {
     "name": "stdout",
     "output_type": "stream",
     "text": [
      "42/42 [==============================] - 24s 565ms/step - loss: 0.0101 - semantic_0_loss: 0.0028 - semantic_1_loss: 0.0061 - semantic_2_loss: 0.0011 - lr: 1.7932e-05\n",
      "Epoch 173/200\n",
      "42/42 [==============================] - ETA: 0s - loss: 0.0099 - semantic_0_loss: 0.0027 - semantic_1_loss: 0.0060 - semantic_2_loss: 0.0011WARNING:tensorflow:Can save best model only with val_loss available, skipping.\n"
     ]
    },
    {
     "name": "stderr",
     "output_type": "stream",
     "text": [
      "WARNING:tensorflow:Can save best model only with val_loss available, skipping.\n"
     ]
    },
    {
     "name": "stdout",
     "output_type": "stream",
     "text": [
      "42/42 [==============================] - 24s 555ms/step - loss: 0.0099 - semantic_0_loss: 0.0027 - semantic_1_loss: 0.0060 - semantic_2_loss: 0.0011 - lr: 1.7752e-05\n",
      "Epoch 174/200\n",
      "42/42 [==============================] - ETA: 0s - loss: 0.0100 - semantic_0_loss: 0.0028 - semantic_1_loss: 0.0061 - semantic_2_loss: 0.0011WARNING:tensorflow:Can save best model only with val_loss available, skipping.\n"
     ]
    },
    {
     "name": "stderr",
     "output_type": "stream",
     "text": [
      "WARNING:tensorflow:Can save best model only with val_loss available, skipping.\n"
     ]
    },
    {
     "name": "stdout",
     "output_type": "stream",
     "text": [
      "42/42 [==============================] - 24s 554ms/step - loss: 0.0100 - semantic_0_loss: 0.0028 - semantic_1_loss: 0.0061 - semantic_2_loss: 0.0011 - lr: 1.7575e-05\n",
      "Epoch 175/200\n",
      "42/42 [==============================] - ETA: 0s - loss: 0.0101 - semantic_0_loss: 0.0028 - semantic_1_loss: 0.0062 - semantic_2_loss: 0.0011WARNING:tensorflow:Can save best model only with val_loss available, skipping.\n"
     ]
    },
    {
     "name": "stderr",
     "output_type": "stream",
     "text": [
      "WARNING:tensorflow:Can save best model only with val_loss available, skipping.\n"
     ]
    },
    {
     "name": "stdout",
     "output_type": "stream",
     "text": [
      "42/42 [==============================] - 24s 555ms/step - loss: 0.0101 - semantic_0_loss: 0.0028 - semantic_1_loss: 0.0062 - semantic_2_loss: 0.0011 - lr: 1.7399e-05\n",
      "Epoch 176/200\n",
      "42/42 [==============================] - ETA: 0s - loss: 0.0099 - semantic_0_loss: 0.0028 - semantic_1_loss: 0.0060 - semantic_2_loss: 0.0011WARNING:tensorflow:Can save best model only with val_loss available, skipping.\n"
     ]
    },
    {
     "name": "stderr",
     "output_type": "stream",
     "text": [
      "WARNING:tensorflow:Can save best model only with val_loss available, skipping.\n"
     ]
    },
    {
     "name": "stdout",
     "output_type": "stream",
     "text": [
      "42/42 [==============================] - 24s 554ms/step - loss: 0.0099 - semantic_0_loss: 0.0028 - semantic_1_loss: 0.0060 - semantic_2_loss: 0.0011 - lr: 1.7225e-05\n",
      "Epoch 177/200\n",
      "42/42 [==============================] - ETA: 0s - loss: 0.0100 - semantic_0_loss: 0.0028 - semantic_1_loss: 0.0061 - semantic_2_loss: 0.0011WARNING:tensorflow:Can save best model only with val_loss available, skipping.\n"
     ]
    },
    {
     "name": "stderr",
     "output_type": "stream",
     "text": [
      "WARNING:tensorflow:Can save best model only with val_loss available, skipping.\n"
     ]
    },
    {
     "name": "stdout",
     "output_type": "stream",
     "text": [
      "42/42 [==============================] - 24s 555ms/step - loss: 0.0100 - semantic_0_loss: 0.0028 - semantic_1_loss: 0.0061 - semantic_2_loss: 0.0011 - lr: 1.7053e-05\n",
      "Epoch 178/200\n",
      "42/42 [==============================] - ETA: 0s - loss: 0.0101 - semantic_0_loss: 0.0028 - semantic_1_loss: 0.0061 - semantic_2_loss: 0.0011WARNING:tensorflow:Can save best model only with val_loss available, skipping.\n"
     ]
    },
    {
     "name": "stderr",
     "output_type": "stream",
     "text": [
      "WARNING:tensorflow:Can save best model only with val_loss available, skipping.\n"
     ]
    },
    {
     "name": "stdout",
     "output_type": "stream",
     "text": [
      "42/42 [==============================] - 23s 554ms/step - loss: 0.0101 - semantic_0_loss: 0.0028 - semantic_1_loss: 0.0061 - semantic_2_loss: 0.0011 - lr: 1.6882e-05\n",
      "Epoch 179/200\n",
      "42/42 [==============================] - ETA: 0s - loss: 0.0099 - semantic_0_loss: 0.0028 - semantic_1_loss: 0.0060 - semantic_2_loss: 0.0011WARNING:tensorflow:Can save best model only with val_loss available, skipping.\n"
     ]
    },
    {
     "name": "stderr",
     "output_type": "stream",
     "text": [
      "WARNING:tensorflow:Can save best model only with val_loss available, skipping.\n"
     ]
    },
    {
     "name": "stdout",
     "output_type": "stream",
     "text": [
      "42/42 [==============================] - 23s 543ms/step - loss: 0.0099 - semantic_0_loss: 0.0028 - semantic_1_loss: 0.0060 - semantic_2_loss: 0.0011 - lr: 1.6713e-05\n",
      "Epoch 180/200\n",
      "42/42 [==============================] - ETA: 0s - loss: 0.0100 - semantic_0_loss: 0.0028 - semantic_1_loss: 0.0061 - semantic_2_loss: 0.0011WARNING:tensorflow:Can save best model only with val_loss available, skipping.\n"
     ]
    },
    {
     "name": "stderr",
     "output_type": "stream",
     "text": [
      "WARNING:tensorflow:Can save best model only with val_loss available, skipping.\n"
     ]
    },
    {
     "name": "stdout",
     "output_type": "stream",
     "text": [
      "42/42 [==============================] - 23s 552ms/step - loss: 0.0100 - semantic_0_loss: 0.0028 - semantic_1_loss: 0.0061 - semantic_2_loss: 0.0011 - lr: 1.6546e-05\n",
      "Epoch 181/200\n",
      "42/42 [==============================] - ETA: 0s - loss: 0.0098 - semantic_0_loss: 0.0027 - semantic_1_loss: 0.0060 - semantic_2_loss: 0.0011WARNING:tensorflow:Can save best model only with val_loss available, skipping.\n"
     ]
    },
    {
     "name": "stderr",
     "output_type": "stream",
     "text": [
      "WARNING:tensorflow:Can save best model only with val_loss available, skipping.\n"
     ]
    },
    {
     "name": "stdout",
     "output_type": "stream",
     "text": [
      "42/42 [==============================] - 24s 560ms/step - loss: 0.0098 - semantic_0_loss: 0.0027 - semantic_1_loss: 0.0060 - semantic_2_loss: 0.0011 - lr: 1.6381e-05\n",
      "Epoch 182/200\n",
      "42/42 [==============================] - ETA: 0s - loss: 0.0097 - semantic_0_loss: 0.0027 - semantic_1_loss: 0.0059 - semantic_2_loss: 0.0011WARNING:tensorflow:Can save best model only with val_loss available, skipping.\n"
     ]
    },
    {
     "name": "stderr",
     "output_type": "stream",
     "text": [
      "WARNING:tensorflow:Can save best model only with val_loss available, skipping.\n"
     ]
    },
    {
     "name": "stdout",
     "output_type": "stream",
     "text": [
      "42/42 [==============================] - 24s 555ms/step - loss: 0.0097 - semantic_0_loss: 0.0027 - semantic_1_loss: 0.0059 - semantic_2_loss: 0.0011 - lr: 1.6217e-05\n",
      "Epoch 183/200\n",
      "42/42 [==============================] - ETA: 0s - loss: 0.0099 - semantic_0_loss: 0.0028 - semantic_1_loss: 0.0060 - semantic_2_loss: 0.0011WARNING:tensorflow:Can save best model only with val_loss available, skipping.\n"
     ]
    },
    {
     "name": "stderr",
     "output_type": "stream",
     "text": [
      "WARNING:tensorflow:Can save best model only with val_loss available, skipping.\n"
     ]
    },
    {
     "name": "stdout",
     "output_type": "stream",
     "text": [
      "42/42 [==============================] - 24s 559ms/step - loss: 0.0099 - semantic_0_loss: 0.0028 - semantic_1_loss: 0.0060 - semantic_2_loss: 0.0011 - lr: 1.6055e-05\n",
      "Epoch 184/200\n",
      "42/42 [==============================] - ETA: 0s - loss: 0.0101 - semantic_0_loss: 0.0028 - semantic_1_loss: 0.0061 - semantic_2_loss: 0.0011WARNING:tensorflow:Can save best model only with val_loss available, skipping.\n"
     ]
    },
    {
     "name": "stderr",
     "output_type": "stream",
     "text": [
      "WARNING:tensorflow:Can save best model only with val_loss available, skipping.\n"
     ]
    },
    {
     "name": "stdout",
     "output_type": "stream",
     "text": [
      "42/42 [==============================] - 24s 558ms/step - loss: 0.0101 - semantic_0_loss: 0.0028 - semantic_1_loss: 0.0061 - semantic_2_loss: 0.0011 - lr: 1.5894e-05\n",
      "Epoch 185/200\n",
      "42/42 [==============================] - ETA: 0s - loss: 0.0099 - semantic_0_loss: 0.0028 - semantic_1_loss: 0.0060 - semantic_2_loss: 0.0011WARNING:tensorflow:Can save best model only with val_loss available, skipping.\n"
     ]
    },
    {
     "name": "stderr",
     "output_type": "stream",
     "text": [
      "WARNING:tensorflow:Can save best model only with val_loss available, skipping.\n"
     ]
    },
    {
     "name": "stdout",
     "output_type": "stream",
     "text": [
      "42/42 [==============================] - 23s 550ms/step - loss: 0.0099 - semantic_0_loss: 0.0028 - semantic_1_loss: 0.0060 - semantic_2_loss: 0.0011 - lr: 1.5735e-05\n",
      "Epoch 186/200\n",
      "42/42 [==============================] - ETA: 0s - loss: 0.0099 - semantic_0_loss: 0.0028 - semantic_1_loss: 0.0060 - semantic_2_loss: 0.0011WARNING:tensorflow:Can save best model only with val_loss available, skipping.\n"
     ]
    },
    {
     "name": "stderr",
     "output_type": "stream",
     "text": [
      "WARNING:tensorflow:Can save best model only with val_loss available, skipping.\n"
     ]
    },
    {
     "name": "stdout",
     "output_type": "stream",
     "text": [
      "42/42 [==============================] - 24s 563ms/step - loss: 0.0099 - semantic_0_loss: 0.0028 - semantic_1_loss: 0.0060 - semantic_2_loss: 0.0011 - lr: 1.5578e-05\n",
      "Epoch 187/200\n",
      "42/42 [==============================] - ETA: 0s - loss: 0.0099 - semantic_0_loss: 0.0028 - semantic_1_loss: 0.0060 - semantic_2_loss: 0.0011WARNING:tensorflow:Can save best model only with val_loss available, skipping.\n"
     ]
    },
    {
     "name": "stderr",
     "output_type": "stream",
     "text": [
      "WARNING:tensorflow:Can save best model only with val_loss available, skipping.\n"
     ]
    },
    {
     "name": "stdout",
     "output_type": "stream",
     "text": [
      "42/42 [==============================] - 24s 560ms/step - loss: 0.0099 - semantic_0_loss: 0.0028 - semantic_1_loss: 0.0060 - semantic_2_loss: 0.0011 - lr: 1.5422e-05\n",
      "Epoch 188/200\n",
      "42/42 [==============================] - ETA: 0s - loss: 0.0098 - semantic_0_loss: 0.0027 - semantic_1_loss: 0.0059 - semantic_2_loss: 0.0011WARNING:tensorflow:Can save best model only with val_loss available, skipping.\n"
     ]
    },
    {
     "name": "stderr",
     "output_type": "stream",
     "text": [
      "WARNING:tensorflow:Can save best model only with val_loss available, skipping.\n"
     ]
    },
    {
     "name": "stdout",
     "output_type": "stream",
     "text": [
      "42/42 [==============================] - 24s 566ms/step - loss: 0.0098 - semantic_0_loss: 0.0027 - semantic_1_loss: 0.0059 - semantic_2_loss: 0.0011 - lr: 1.5268e-05\n",
      "Epoch 189/200\n",
      "42/42 [==============================] - ETA: 0s - loss: 0.0099 - semantic_0_loss: 0.0028 - semantic_1_loss: 0.0060 - semantic_2_loss: 0.0011WARNING:tensorflow:Can save best model only with val_loss available, skipping.\n"
     ]
    },
    {
     "name": "stderr",
     "output_type": "stream",
     "text": [
      "WARNING:tensorflow:Can save best model only with val_loss available, skipping.\n"
     ]
    },
    {
     "name": "stdout",
     "output_type": "stream",
     "text": [
      "42/42 [==============================] - 24s 555ms/step - loss: 0.0099 - semantic_0_loss: 0.0028 - semantic_1_loss: 0.0060 - semantic_2_loss: 0.0011 - lr: 1.5115e-05\n",
      "Epoch 190/200\n",
      "42/42 [==============================] - ETA: 0s - loss: 0.0098 - semantic_0_loss: 0.0027 - semantic_1_loss: 0.0060 - semantic_2_loss: 0.0011WARNING:tensorflow:Can save best model only with val_loss available, skipping.\n"
     ]
    },
    {
     "name": "stderr",
     "output_type": "stream",
     "text": [
      "WARNING:tensorflow:Can save best model only with val_loss available, skipping.\n"
     ]
    },
    {
     "name": "stdout",
     "output_type": "stream",
     "text": [
      "42/42 [==============================] - 23s 551ms/step - loss: 0.0098 - semantic_0_loss: 0.0027 - semantic_1_loss: 0.0060 - semantic_2_loss: 0.0011 - lr: 1.4964e-05\n",
      "Epoch 191/200\n",
      "42/42 [==============================] - ETA: 0s - loss: 0.0100 - semantic_0_loss: 0.0028 - semantic_1_loss: 0.0061 - semantic_2_loss: 0.0011WARNING:tensorflow:Can save best model only with val_loss available, skipping.\n"
     ]
    },
    {
     "name": "stderr",
     "output_type": "stream",
     "text": [
      "WARNING:tensorflow:Can save best model only with val_loss available, skipping.\n"
     ]
    },
    {
     "name": "stdout",
     "output_type": "stream",
     "text": [
      "42/42 [==============================] - 24s 559ms/step - loss: 0.0100 - semantic_0_loss: 0.0028 - semantic_1_loss: 0.0061 - semantic_2_loss: 0.0011 - lr: 1.4814e-05\n",
      "Epoch 192/200\n",
      "42/42 [==============================] - ETA: 0s - loss: 0.0099 - semantic_0_loss: 0.0027 - semantic_1_loss: 0.0060 - semantic_2_loss: 0.0011WARNING:tensorflow:Can save best model only with val_loss available, skipping.\n"
     ]
    },
    {
     "name": "stderr",
     "output_type": "stream",
     "text": [
      "WARNING:tensorflow:Can save best model only with val_loss available, skipping.\n"
     ]
    },
    {
     "name": "stdout",
     "output_type": "stream",
     "text": [
      "42/42 [==============================] - 24s 568ms/step - loss: 0.0099 - semantic_0_loss: 0.0027 - semantic_1_loss: 0.0060 - semantic_2_loss: 0.0011 - lr: 1.4666e-05\n",
      "Epoch 193/200\n",
      "42/42 [==============================] - ETA: 0s - loss: 0.0100 - semantic_0_loss: 0.0028 - semantic_1_loss: 0.0061 - semantic_2_loss: 0.0011WARNING:tensorflow:Can save best model only with val_loss available, skipping.\n"
     ]
    },
    {
     "name": "stderr",
     "output_type": "stream",
     "text": [
      "WARNING:tensorflow:Can save best model only with val_loss available, skipping.\n"
     ]
    },
    {
     "name": "stdout",
     "output_type": "stream",
     "text": [
      "42/42 [==============================] - 24s 568ms/step - loss: 0.0100 - semantic_0_loss: 0.0028 - semantic_1_loss: 0.0061 - semantic_2_loss: 0.0011 - lr: 1.4520e-05\n",
      "Epoch 194/200\n",
      "42/42 [==============================] - ETA: 0s - loss: 0.0099 - semantic_0_loss: 0.0028 - semantic_1_loss: 0.0060 - semantic_2_loss: 0.0011WARNING:tensorflow:Can save best model only with val_loss available, skipping.\n"
     ]
    },
    {
     "name": "stderr",
     "output_type": "stream",
     "text": [
      "WARNING:tensorflow:Can save best model only with val_loss available, skipping.\n"
     ]
    },
    {
     "name": "stdout",
     "output_type": "stream",
     "text": [
      "42/42 [==============================] - 23s 551ms/step - loss: 0.0099 - semantic_0_loss: 0.0028 - semantic_1_loss: 0.0060 - semantic_2_loss: 0.0011 - lr: 1.4374e-05\n",
      "Epoch 195/200\n",
      "42/42 [==============================] - ETA: 0s - loss: 0.0100 - semantic_0_loss: 0.0028 - semantic_1_loss: 0.0061 - semantic_2_loss: 0.0011WARNING:tensorflow:Can save best model only with val_loss available, skipping.\n"
     ]
    },
    {
     "name": "stderr",
     "output_type": "stream",
     "text": [
      "WARNING:tensorflow:Can save best model only with val_loss available, skipping.\n"
     ]
    },
    {
     "name": "stdout",
     "output_type": "stream",
     "text": [
      "42/42 [==============================] - 24s 561ms/step - loss: 0.0100 - semantic_0_loss: 0.0028 - semantic_1_loss: 0.0061 - semantic_2_loss: 0.0011 - lr: 1.4231e-05\n",
      "Epoch 196/200\n",
      "42/42 [==============================] - ETA: 0s - loss: 0.0098 - semantic_0_loss: 0.0027 - semantic_1_loss: 0.0059 - semantic_2_loss: 0.0011WARNING:tensorflow:Can save best model only with val_loss available, skipping.\n"
     ]
    },
    {
     "name": "stderr",
     "output_type": "stream",
     "text": [
      "WARNING:tensorflow:Can save best model only with val_loss available, skipping.\n"
     ]
    },
    {
     "name": "stdout",
     "output_type": "stream",
     "text": [
      "42/42 [==============================] - 24s 568ms/step - loss: 0.0098 - semantic_0_loss: 0.0027 - semantic_1_loss: 0.0059 - semantic_2_loss: 0.0011 - lr: 1.4088e-05\n",
      "Epoch 197/200\n",
      "42/42 [==============================] - ETA: 0s - loss: 0.0100 - semantic_0_loss: 0.0028 - semantic_1_loss: 0.0061 - semantic_2_loss: 0.0011WARNING:tensorflow:Can save best model only with val_loss available, skipping.\n"
     ]
    },
    {
     "name": "stderr",
     "output_type": "stream",
     "text": [
      "WARNING:tensorflow:Can save best model only with val_loss available, skipping.\n"
     ]
    },
    {
     "name": "stdout",
     "output_type": "stream",
     "text": [
      "42/42 [==============================] - 24s 554ms/step - loss: 0.0100 - semantic_0_loss: 0.0028 - semantic_1_loss: 0.0061 - semantic_2_loss: 0.0011 - lr: 1.3948e-05\n",
      "Epoch 198/200\n",
      "42/42 [==============================] - ETA: 0s - loss: 0.0100 - semantic_0_loss: 0.0028 - semantic_1_loss: 0.0061 - semantic_2_loss: 0.0011WARNING:tensorflow:Can save best model only with val_loss available, skipping.\n"
     ]
    },
    {
     "name": "stderr",
     "output_type": "stream",
     "text": [
      "WARNING:tensorflow:Can save best model only with val_loss available, skipping.\n"
     ]
    },
    {
     "name": "stdout",
     "output_type": "stream",
     "text": [
      "42/42 [==============================] - 24s 570ms/step - loss: 0.0100 - semantic_0_loss: 0.0028 - semantic_1_loss: 0.0061 - semantic_2_loss: 0.0011 - lr: 1.3808e-05\n",
      "Epoch 199/200\n",
      "42/42 [==============================] - ETA: 0s - loss: 0.0100 - semantic_0_loss: 0.0028 - semantic_1_loss: 0.0060 - semantic_2_loss: 0.0011WARNING:tensorflow:Can save best model only with val_loss available, skipping.\n"
     ]
    },
    {
     "name": "stderr",
     "output_type": "stream",
     "text": [
      "WARNING:tensorflow:Can save best model only with val_loss available, skipping.\n"
     ]
    },
    {
     "name": "stdout",
     "output_type": "stream",
     "text": [
      "42/42 [==============================] - 24s 563ms/step - loss: 0.0100 - semantic_0_loss: 0.0028 - semantic_1_loss: 0.0060 - semantic_2_loss: 0.0011 - lr: 1.3670e-05\n",
      "Epoch 200/200\n",
      "42/42 [==============================] - ETA: 0s - loss: 0.0099 - semantic_0_loss: 0.0028 - semantic_1_loss: 0.0060 - semantic_2_loss: 0.0011WARNING:tensorflow:Can save best model only with val_loss available, skipping.\n"
     ]
    },
    {
     "name": "stderr",
     "output_type": "stream",
     "text": [
      "WARNING:tensorflow:Can save best model only with val_loss available, skipping.\n"
     ]
    },
    {
     "name": "stdout",
     "output_type": "stream",
     "text": [
      "42/42 [==============================] - 24s 554ms/step - loss: 0.0099 - semantic_0_loss: 0.0028 - semantic_1_loss: 0.0060 - semantic_2_loss: 0.0011 - lr: 1.3533e-05\n",
      "/home/yfong/deeplearning/dense_cell_segmentation\n",
      "['M926910_CFL_Position7_CD3_test_img.png', 'M872956_JML_Position10_CD3_test_img.png', 'M872956_JML_Position8_CD8_test_img.png', 'M926910_CFL_Position13_CD3_test_img.png', 'M872956_JML_Position8_CD3_test_img.png', 'M872956_JML_Position8_CD4_test_img.png', 'M872956_JML_Position9_CD3_test_img.png']\n",
      "M926910_CFL_Position7_CD3_test_img.png\n"
     ]
    },
    {
     "name": "stderr",
     "output_type": "stream",
     "text": [
      "/app/software/DeepCell/0.11.1-foss-2021b-CUDA-11.4.1/lib/python3.9/site-packages/deepcell_toolbox/deep_watershed.py:179: FutureWarning: `selem` is a deprecated argument name for `h_maxima`. It will be removed in version 1.0.Please use `footprint` instead.\n",
      "  markers = h_maxima(image=maxima,\n"
     ]
    },
    {
     "name": "stdout",
     "output_type": "stream",
     "text": [
      "M872956_JML_Position10_CD3_test_img.png\n",
      "M872956_JML_Position8_CD8_test_img.png\n",
      "M926910_CFL_Position13_CD3_test_img.png\n",
      "M872956_JML_Position8_CD3_test_img.png\n",
      "M872956_JML_Position8_CD4_test_img.png\n",
      "M872956_JML_Position9_CD3_test_img.png\n",
      "[[0.37479541734860883, 0.42615384615384616], [0.3616636528028933, 0.42512908777969016], [0.48333333333333334, 0.5230769230769231], [0.2760416666666667, 0.32790697674418606], [0.46332737030411447, 0.5524475524475524], [0.625, 0.5707547169811321], [0.33127572016460904, 0.4346076458752515]]\n",
      "                                         0         1         2\n",
      "0   M926910_CFL_Position7_CD3_test_img.png  0.374795  0.426154\n",
      "1  M872956_JML_Position10_CD3_test_img.png  0.361664  0.425129\n",
      "2   M872956_JML_Position8_CD8_test_img.png  0.483333  0.523077\n",
      "3  M926910_CFL_Position13_CD3_test_img.png  0.276042  0.327907\n",
      "4   M872956_JML_Position8_CD3_test_img.png  0.463327  0.552448\n",
      "5   M872956_JML_Position8_CD4_test_img.png     0.625  0.570755\n",
      "6   M872956_JML_Position9_CD3_test_img.png  0.331276  0.434608\n",
      "WARNING:tensorflow:Removing 6 of 175 images with fewer than 5 objects.\n"
     ]
    },
    {
     "name": "stderr",
     "output_type": "stream",
     "text": [
      "WARNING:tensorflow:Removing 6 of 175 images with fewer than 5 objects.\n",
      "/app/software/TensorFlow/2.7.1-foss-2021b-CUDA-11.4.1/lib/python3.9/site-packages/keras/optimizer_v2/adam.py:105: UserWarning: The `lr` argument is deprecated, use `learning_rate` instead.\n",
      "  super(Adam, self).__init__(name, **kwargs)\n"
     ]
    },
    {
     "name": "stdout",
     "output_type": "stream",
     "text": [
      "Training on 3 GPUs.\n"
     ]
    },
    {
     "name": "stderr",
     "output_type": "stream",
     "text": [
      "2022-11-13 04:57:54.521749: I tensorflow/core/common_runtime/gpu/gpu_device.cc:1525] Created device /device:GPU:0 with 14657 MB memory:  -> device: 0, name: Tesla V100-PCIE-16GB, pci bus id: 0000:04:00.0, compute capability: 7.0\n",
      "2022-11-13 04:57:54.522822: I tensorflow/core/common_runtime/gpu/gpu_device.cc:1525] Created device /device:GPU:1 with 14657 MB memory:  -> device: 1, name: Tesla V100-PCIE-16GB, pci bus id: 0000:06:00.0, compute capability: 7.0\n",
      "2022-11-13 04:57:54.523872: I tensorflow/core/common_runtime/gpu/gpu_device.cc:1525] Created device /device:GPU:2 with 14657 MB memory:  -> device: 2, name: Tesla V100-PCIE-16GB, pci bus id: 0000:08:00.0, compute capability: 7.0\n"
     ]
    },
    {
     "name": "stdout",
     "output_type": "stream",
     "text": [
      "Epoch 1/200\n",
      "42/42 [==============================] - ETA: 0s - loss: 0.0168 - semantic_0_loss: 0.0042 - semantic_1_loss: 0.0104 - semantic_2_loss: 0.0021WARNING:tensorflow:Can save best model only with val_loss available, skipping.\n"
     ]
    },
    {
     "name": "stderr",
     "output_type": "stream",
     "text": [
      "WARNING:tensorflow:Can save best model only with val_loss available, skipping.\n"
     ]
    },
    {
     "name": "stdout",
     "output_type": "stream",
     "text": [
      "42/42 [==============================] - 37s 562ms/step - loss: 0.0168 - semantic_0_loss: 0.0042 - semantic_1_loss: 0.0104 - semantic_2_loss: 0.0021 - lr: 1.0000e-04\n",
      "Epoch 2/200\n",
      "42/42 [==============================] - ETA: 0s - loss: 0.0144 - semantic_0_loss: 0.0037 - semantic_1_loss: 0.0091 - semantic_2_loss: 0.0016WARNING:tensorflow:Can save best model only with val_loss available, skipping.\n"
     ]
    },
    {
     "name": "stderr",
     "output_type": "stream",
     "text": [
      "WARNING:tensorflow:Can save best model only with val_loss available, skipping.\n"
     ]
    },
    {
     "name": "stdout",
     "output_type": "stream",
     "text": [
      "42/42 [==============================] - 24s 556ms/step - loss: 0.0144 - semantic_0_loss: 0.0037 - semantic_1_loss: 0.0091 - semantic_2_loss: 0.0016 - lr: 9.9000e-05\n",
      "Epoch 3/200\n",
      "42/42 [==============================] - ETA: 0s - loss: 0.0140 - semantic_0_loss: 0.0036 - semantic_1_loss: 0.0089 - semantic_2_loss: 0.0015WARNING:tensorflow:Can save best model only with val_loss available, skipping.\n"
     ]
    },
    {
     "name": "stderr",
     "output_type": "stream",
     "text": [
      "WARNING:tensorflow:Can save best model only with val_loss available, skipping.\n"
     ]
    },
    {
     "name": "stdout",
     "output_type": "stream",
     "text": [
      "42/42 [==============================] - 23s 553ms/step - loss: 0.0140 - semantic_0_loss: 0.0036 - semantic_1_loss: 0.0089 - semantic_2_loss: 0.0015 - lr: 9.8010e-05\n",
      "Epoch 4/200\n",
      "42/42 [==============================] - ETA: 0s - loss: 0.0140 - semantic_0_loss: 0.0037 - semantic_1_loss: 0.0088 - semantic_2_loss: 0.0015WARNING:tensorflow:Can save best model only with val_loss available, skipping.\n"
     ]
    },
    {
     "name": "stderr",
     "output_type": "stream",
     "text": [
      "WARNING:tensorflow:Can save best model only with val_loss available, skipping.\n"
     ]
    },
    {
     "name": "stdout",
     "output_type": "stream",
     "text": [
      "42/42 [==============================] - 23s 543ms/step - loss: 0.0140 - semantic_0_loss: 0.0037 - semantic_1_loss: 0.0088 - semantic_2_loss: 0.0015 - lr: 9.7030e-05\n",
      "Epoch 5/200\n",
      "42/42 [==============================] - ETA: 0s - loss: 0.0137 - semantic_0_loss: 0.0036 - semantic_1_loss: 0.0087 - semantic_2_loss: 0.0015WARNING:tensorflow:Can save best model only with val_loss available, skipping.\n"
     ]
    },
    {
     "name": "stderr",
     "output_type": "stream",
     "text": [
      "WARNING:tensorflow:Can save best model only with val_loss available, skipping.\n"
     ]
    },
    {
     "name": "stdout",
     "output_type": "stream",
     "text": [
      "42/42 [==============================] - 24s 554ms/step - loss: 0.0137 - semantic_0_loss: 0.0036 - semantic_1_loss: 0.0087 - semantic_2_loss: 0.0015 - lr: 9.6060e-05\n",
      "Epoch 6/200\n",
      "42/42 [==============================] - ETA: 0s - loss: 0.0137 - semantic_0_loss: 0.0035 - semantic_1_loss: 0.0087 - semantic_2_loss: 0.0015WARNING:tensorflow:Can save best model only with val_loss available, skipping.\n"
     ]
    },
    {
     "name": "stderr",
     "output_type": "stream",
     "text": [
      "WARNING:tensorflow:Can save best model only with val_loss available, skipping.\n"
     ]
    },
    {
     "name": "stdout",
     "output_type": "stream",
     "text": [
      "42/42 [==============================] - 23s 541ms/step - loss: 0.0137 - semantic_0_loss: 0.0035 - semantic_1_loss: 0.0087 - semantic_2_loss: 0.0015 - lr: 9.5099e-05\n",
      "Epoch 7/200\n",
      "42/42 [==============================] - ETA: 0s - loss: 0.0132 - semantic_0_loss: 0.0034 - semantic_1_loss: 0.0083 - semantic_2_loss: 0.0015WARNING:tensorflow:Can save best model only with val_loss available, skipping.\n"
     ]
    },
    {
     "name": "stderr",
     "output_type": "stream",
     "text": [
      "WARNING:tensorflow:Can save best model only with val_loss available, skipping.\n"
     ]
    },
    {
     "name": "stdout",
     "output_type": "stream",
     "text": [
      "42/42 [==============================] - 23s 547ms/step - loss: 0.0132 - semantic_0_loss: 0.0034 - semantic_1_loss: 0.0083 - semantic_2_loss: 0.0015 - lr: 9.4148e-05\n",
      "Epoch 8/200\n",
      "42/42 [==============================] - ETA: 0s - loss: 0.0132 - semantic_0_loss: 0.0034 - semantic_1_loss: 0.0083 - semantic_2_loss: 0.0014WARNING:tensorflow:Can save best model only with val_loss available, skipping.\n"
     ]
    },
    {
     "name": "stderr",
     "output_type": "stream",
     "text": [
      "WARNING:tensorflow:Can save best model only with val_loss available, skipping.\n"
     ]
    },
    {
     "name": "stdout",
     "output_type": "stream",
     "text": [
      "42/42 [==============================] - 24s 561ms/step - loss: 0.0132 - semantic_0_loss: 0.0034 - semantic_1_loss: 0.0083 - semantic_2_loss: 0.0014 - lr: 9.3207e-05\n",
      "Epoch 9/200\n",
      "42/42 [==============================] - ETA: 0s - loss: 0.0129 - semantic_0_loss: 0.0033 - semantic_1_loss: 0.0082 - semantic_2_loss: 0.0014WARNING:tensorflow:Can save best model only with val_loss available, skipping.\n"
     ]
    },
    {
     "name": "stderr",
     "output_type": "stream",
     "text": [
      "WARNING:tensorflow:Can save best model only with val_loss available, skipping.\n"
     ]
    },
    {
     "name": "stdout",
     "output_type": "stream",
     "text": [
      "42/42 [==============================] - 24s 557ms/step - loss: 0.0129 - semantic_0_loss: 0.0033 - semantic_1_loss: 0.0082 - semantic_2_loss: 0.0014 - lr: 9.2274e-05\n",
      "Epoch 10/200\n",
      "42/42 [==============================] - ETA: 0s - loss: 0.0131 - semantic_0_loss: 0.0034 - semantic_1_loss: 0.0083 - semantic_2_loss: 0.0014WARNING:tensorflow:Can save best model only with val_loss available, skipping.\n"
     ]
    },
    {
     "name": "stderr",
     "output_type": "stream",
     "text": [
      "WARNING:tensorflow:Can save best model only with val_loss available, skipping.\n"
     ]
    },
    {
     "name": "stdout",
     "output_type": "stream",
     "text": [
      "42/42 [==============================] - 24s 563ms/step - loss: 0.0131 - semantic_0_loss: 0.0034 - semantic_1_loss: 0.0083 - semantic_2_loss: 0.0014 - lr: 9.1352e-05\n",
      "Epoch 11/200\n",
      "42/42 [==============================] - ETA: 0s - loss: 0.0129 - semantic_0_loss: 0.0034 - semantic_1_loss: 0.0081 - semantic_2_loss: 0.0014WARNING:tensorflow:Can save best model only with val_loss available, skipping.\n"
     ]
    },
    {
     "name": "stderr",
     "output_type": "stream",
     "text": [
      "WARNING:tensorflow:Can save best model only with val_loss available, skipping.\n"
     ]
    },
    {
     "name": "stdout",
     "output_type": "stream",
     "text": [
      "42/42 [==============================] - 24s 564ms/step - loss: 0.0129 - semantic_0_loss: 0.0034 - semantic_1_loss: 0.0081 - semantic_2_loss: 0.0014 - lr: 9.0438e-05\n",
      "Epoch 12/200\n",
      "42/42 [==============================] - ETA: 0s - loss: 0.0129 - semantic_0_loss: 0.0034 - semantic_1_loss: 0.0082 - semantic_2_loss: 0.0014WARNING:tensorflow:Can save best model only with val_loss available, skipping.\n"
     ]
    },
    {
     "name": "stderr",
     "output_type": "stream",
     "text": [
      "WARNING:tensorflow:Can save best model only with val_loss available, skipping.\n"
     ]
    },
    {
     "name": "stdout",
     "output_type": "stream",
     "text": [
      "42/42 [==============================] - 23s 545ms/step - loss: 0.0129 - semantic_0_loss: 0.0034 - semantic_1_loss: 0.0082 - semantic_2_loss: 0.0014 - lr: 8.9534e-05\n",
      "Epoch 13/200\n",
      "42/42 [==============================] - ETA: 0s - loss: 0.0127 - semantic_0_loss: 0.0033 - semantic_1_loss: 0.0080 - semantic_2_loss: 0.0014WARNING:tensorflow:Can save best model only with val_loss available, skipping.\n"
     ]
    },
    {
     "name": "stderr",
     "output_type": "stream",
     "text": [
      "WARNING:tensorflow:Can save best model only with val_loss available, skipping.\n"
     ]
    },
    {
     "name": "stdout",
     "output_type": "stream",
     "text": [
      "42/42 [==============================] - 23s 551ms/step - loss: 0.0127 - semantic_0_loss: 0.0033 - semantic_1_loss: 0.0080 - semantic_2_loss: 0.0014 - lr: 8.8638e-05\n",
      "Epoch 14/200\n",
      "42/42 [==============================] - ETA: 0s - loss: 0.0126 - semantic_0_loss: 0.0033 - semantic_1_loss: 0.0079 - semantic_2_loss: 0.0014WARNING:tensorflow:Can save best model only with val_loss available, skipping.\n"
     ]
    },
    {
     "name": "stderr",
     "output_type": "stream",
     "text": [
      "WARNING:tensorflow:Can save best model only with val_loss available, skipping.\n"
     ]
    },
    {
     "name": "stdout",
     "output_type": "stream",
     "text": [
      "42/42 [==============================] - 23s 545ms/step - loss: 0.0126 - semantic_0_loss: 0.0033 - semantic_1_loss: 0.0079 - semantic_2_loss: 0.0014 - lr: 8.7752e-05\n",
      "Epoch 15/200\n",
      "42/42 [==============================] - ETA: 0s - loss: 0.0129 - semantic_0_loss: 0.0034 - semantic_1_loss: 0.0081 - semantic_2_loss: 0.0014WARNING:tensorflow:Can save best model only with val_loss available, skipping.\n"
     ]
    },
    {
     "name": "stderr",
     "output_type": "stream",
     "text": [
      "WARNING:tensorflow:Can save best model only with val_loss available, skipping.\n"
     ]
    },
    {
     "name": "stdout",
     "output_type": "stream",
     "text": [
      "42/42 [==============================] - 24s 556ms/step - loss: 0.0129 - semantic_0_loss: 0.0034 - semantic_1_loss: 0.0081 - semantic_2_loss: 0.0014 - lr: 8.6875e-05\n",
      "Epoch 16/200\n",
      "42/42 [==============================] - ETA: 0s - loss: 0.0127 - semantic_0_loss: 0.0033 - semantic_1_loss: 0.0080 - semantic_2_loss: 0.0014WARNING:tensorflow:Can save best model only with val_loss available, skipping.\n"
     ]
    },
    {
     "name": "stderr",
     "output_type": "stream",
     "text": [
      "WARNING:tensorflow:Can save best model only with val_loss available, skipping.\n"
     ]
    },
    {
     "name": "stdout",
     "output_type": "stream",
     "text": [
      "42/42 [==============================] - 23s 550ms/step - loss: 0.0127 - semantic_0_loss: 0.0033 - semantic_1_loss: 0.0080 - semantic_2_loss: 0.0014 - lr: 8.6006e-05\n",
      "Epoch 17/200\n",
      "42/42 [==============================] - ETA: 0s - loss: 0.0125 - semantic_0_loss: 0.0033 - semantic_1_loss: 0.0079 - semantic_2_loss: 0.0014WARNING:tensorflow:Can save best model only with val_loss available, skipping.\n"
     ]
    },
    {
     "name": "stderr",
     "output_type": "stream",
     "text": [
      "WARNING:tensorflow:Can save best model only with val_loss available, skipping.\n"
     ]
    },
    {
     "name": "stdout",
     "output_type": "stream",
     "text": [
      "42/42 [==============================] - 23s 546ms/step - loss: 0.0125 - semantic_0_loss: 0.0033 - semantic_1_loss: 0.0079 - semantic_2_loss: 0.0014 - lr: 8.5146e-05\n",
      "Epoch 18/200\n",
      "42/42 [==============================] - ETA: 0s - loss: 0.0125 - semantic_0_loss: 0.0033 - semantic_1_loss: 0.0078 - semantic_2_loss: 0.0014WARNING:tensorflow:Can save best model only with val_loss available, skipping.\n"
     ]
    },
    {
     "name": "stderr",
     "output_type": "stream",
     "text": [
      "WARNING:tensorflow:Can save best model only with val_loss available, skipping.\n"
     ]
    },
    {
     "name": "stdout",
     "output_type": "stream",
     "text": [
      "42/42 [==============================] - 23s 546ms/step - loss: 0.0125 - semantic_0_loss: 0.0033 - semantic_1_loss: 0.0078 - semantic_2_loss: 0.0014 - lr: 8.4294e-05\n",
      "Epoch 19/200\n",
      "42/42 [==============================] - ETA: 0s - loss: 0.0123 - semantic_0_loss: 0.0032 - semantic_1_loss: 0.0077 - semantic_2_loss: 0.0014WARNING:tensorflow:Can save best model only with val_loss available, skipping.\n"
     ]
    },
    {
     "name": "stderr",
     "output_type": "stream",
     "text": [
      "WARNING:tensorflow:Can save best model only with val_loss available, skipping.\n"
     ]
    },
    {
     "name": "stdout",
     "output_type": "stream",
     "text": [
      "42/42 [==============================] - 24s 564ms/step - loss: 0.0123 - semantic_0_loss: 0.0032 - semantic_1_loss: 0.0077 - semantic_2_loss: 0.0014 - lr: 8.3451e-05\n",
      "Epoch 20/200\n",
      "42/42 [==============================] - ETA: 0s - loss: 0.0124 - semantic_0_loss: 0.0033 - semantic_1_loss: 0.0077 - semantic_2_loss: 0.0013WARNING:tensorflow:Can save best model only with val_loss available, skipping.\n"
     ]
    },
    {
     "name": "stderr",
     "output_type": "stream",
     "text": [
      "WARNING:tensorflow:Can save best model only with val_loss available, skipping.\n"
     ]
    },
    {
     "name": "stdout",
     "output_type": "stream",
     "text": [
      "42/42 [==============================] - 23s 550ms/step - loss: 0.0124 - semantic_0_loss: 0.0033 - semantic_1_loss: 0.0077 - semantic_2_loss: 0.0013 - lr: 8.2617e-05\n",
      "Epoch 21/200\n",
      "42/42 [==============================] - ETA: 0s - loss: 0.0121 - semantic_0_loss: 0.0032 - semantic_1_loss: 0.0076 - semantic_2_loss: 0.0013WARNING:tensorflow:Can save best model only with val_loss available, skipping.\n"
     ]
    },
    {
     "name": "stderr",
     "output_type": "stream",
     "text": [
      "WARNING:tensorflow:Can save best model only with val_loss available, skipping.\n"
     ]
    },
    {
     "name": "stdout",
     "output_type": "stream",
     "text": [
      "42/42 [==============================] - 23s 546ms/step - loss: 0.0121 - semantic_0_loss: 0.0032 - semantic_1_loss: 0.0076 - semantic_2_loss: 0.0013 - lr: 8.1791e-05\n",
      "Epoch 22/200\n",
      "42/42 [==============================] - ETA: 0s - loss: 0.0125 - semantic_0_loss: 0.0033 - semantic_1_loss: 0.0078 - semantic_2_loss: 0.0014WARNING:tensorflow:Can save best model only with val_loss available, skipping.\n"
     ]
    },
    {
     "name": "stderr",
     "output_type": "stream",
     "text": [
      "WARNING:tensorflow:Can save best model only with val_loss available, skipping.\n"
     ]
    },
    {
     "name": "stdout",
     "output_type": "stream",
     "text": [
      "42/42 [==============================] - 24s 564ms/step - loss: 0.0125 - semantic_0_loss: 0.0033 - semantic_1_loss: 0.0078 - semantic_2_loss: 0.0014 - lr: 8.0973e-05\n",
      "Epoch 23/200\n",
      "42/42 [==============================] - ETA: 0s - loss: 0.0121 - semantic_0_loss: 0.0032 - semantic_1_loss: 0.0076 - semantic_2_loss: 0.0013WARNING:tensorflow:Can save best model only with val_loss available, skipping.\n"
     ]
    },
    {
     "name": "stderr",
     "output_type": "stream",
     "text": [
      "WARNING:tensorflow:Can save best model only with val_loss available, skipping.\n"
     ]
    },
    {
     "name": "stdout",
     "output_type": "stream",
     "text": [
      "42/42 [==============================] - 23s 548ms/step - loss: 0.0121 - semantic_0_loss: 0.0032 - semantic_1_loss: 0.0076 - semantic_2_loss: 0.0013 - lr: 8.0163e-05\n",
      "Epoch 24/200\n",
      "42/42 [==============================] - ETA: 0s - loss: 0.0119 - semantic_0_loss: 0.0032 - semantic_1_loss: 0.0074 - semantic_2_loss: 0.0013WARNING:tensorflow:Can save best model only with val_loss available, skipping.\n"
     ]
    },
    {
     "name": "stderr",
     "output_type": "stream",
     "text": [
      "WARNING:tensorflow:Can save best model only with val_loss available, skipping.\n"
     ]
    },
    {
     "name": "stdout",
     "output_type": "stream",
     "text": [
      "42/42 [==============================] - 24s 559ms/step - loss: 0.0119 - semantic_0_loss: 0.0032 - semantic_1_loss: 0.0074 - semantic_2_loss: 0.0013 - lr: 7.9361e-05\n",
      "Epoch 25/200\n",
      "42/42 [==============================] - ETA: 0s - loss: 0.0118 - semantic_0_loss: 0.0031 - semantic_1_loss: 0.0074 - semantic_2_loss: 0.0013WARNING:tensorflow:Can save best model only with val_loss available, skipping.\n"
     ]
    },
    {
     "name": "stderr",
     "output_type": "stream",
     "text": [
      "WARNING:tensorflow:Can save best model only with val_loss available, skipping.\n"
     ]
    },
    {
     "name": "stdout",
     "output_type": "stream",
     "text": [
      "42/42 [==============================] - 23s 549ms/step - loss: 0.0118 - semantic_0_loss: 0.0031 - semantic_1_loss: 0.0074 - semantic_2_loss: 0.0013 - lr: 7.8568e-05\n",
      "Epoch 26/200\n",
      "42/42 [==============================] - ETA: 0s - loss: 0.0120 - semantic_0_loss: 0.0032 - semantic_1_loss: 0.0074 - semantic_2_loss: 0.0013WARNING:tensorflow:Can save best model only with val_loss available, skipping.\n"
     ]
    },
    {
     "name": "stderr",
     "output_type": "stream",
     "text": [
      "WARNING:tensorflow:Can save best model only with val_loss available, skipping.\n"
     ]
    },
    {
     "name": "stdout",
     "output_type": "stream",
     "text": [
      "42/42 [==============================] - 24s 555ms/step - loss: 0.0120 - semantic_0_loss: 0.0032 - semantic_1_loss: 0.0074 - semantic_2_loss: 0.0013 - lr: 7.7782e-05\n",
      "Epoch 27/200\n",
      "42/42 [==============================] - ETA: 0s - loss: 0.0118 - semantic_0_loss: 0.0031 - semantic_1_loss: 0.0074 - semantic_2_loss: 0.0013WARNING:tensorflow:Can save best model only with val_loss available, skipping.\n"
     ]
    },
    {
     "name": "stderr",
     "output_type": "stream",
     "text": [
      "WARNING:tensorflow:Can save best model only with val_loss available, skipping.\n"
     ]
    },
    {
     "name": "stdout",
     "output_type": "stream",
     "text": [
      "42/42 [==============================] - 24s 556ms/step - loss: 0.0118 - semantic_0_loss: 0.0031 - semantic_1_loss: 0.0074 - semantic_2_loss: 0.0013 - lr: 7.7004e-05\n",
      "Epoch 28/200\n",
      "42/42 [==============================] - ETA: 0s - loss: 0.0120 - semantic_0_loss: 0.0032 - semantic_1_loss: 0.0075 - semantic_2_loss: 0.0013WARNING:tensorflow:Can save best model only with val_loss available, skipping.\n"
     ]
    },
    {
     "name": "stderr",
     "output_type": "stream",
     "text": [
      "WARNING:tensorflow:Can save best model only with val_loss available, skipping.\n"
     ]
    },
    {
     "name": "stdout",
     "output_type": "stream",
     "text": [
      "42/42 [==============================] - 23s 538ms/step - loss: 0.0120 - semantic_0_loss: 0.0032 - semantic_1_loss: 0.0075 - semantic_2_loss: 0.0013 - lr: 7.6234e-05\n",
      "Epoch 29/200\n",
      "42/42 [==============================] - ETA: 0s - loss: 0.0117 - semantic_0_loss: 0.0032 - semantic_1_loss: 0.0073 - semantic_2_loss: 0.0013WARNING:tensorflow:Can save best model only with val_loss available, skipping.\n"
     ]
    },
    {
     "name": "stderr",
     "output_type": "stream",
     "text": [
      "WARNING:tensorflow:Can save best model only with val_loss available, skipping.\n"
     ]
    },
    {
     "name": "stdout",
     "output_type": "stream",
     "text": [
      "42/42 [==============================] - 23s 553ms/step - loss: 0.0117 - semantic_0_loss: 0.0032 - semantic_1_loss: 0.0073 - semantic_2_loss: 0.0013 - lr: 7.5472e-05\n",
      "Epoch 30/200\n",
      "42/42 [==============================] - ETA: 0s - loss: 0.0117 - semantic_0_loss: 0.0031 - semantic_1_loss: 0.0073 - semantic_2_loss: 0.0013WARNING:tensorflow:Can save best model only with val_loss available, skipping.\n"
     ]
    },
    {
     "name": "stderr",
     "output_type": "stream",
     "text": [
      "WARNING:tensorflow:Can save best model only with val_loss available, skipping.\n"
     ]
    },
    {
     "name": "stdout",
     "output_type": "stream",
     "text": [
      "42/42 [==============================] - 23s 544ms/step - loss: 0.0117 - semantic_0_loss: 0.0031 - semantic_1_loss: 0.0073 - semantic_2_loss: 0.0013 - lr: 7.4717e-05\n",
      "Epoch 31/200\n",
      "42/42 [==============================] - ETA: 0s - loss: 0.0115 - semantic_0_loss: 0.0030 - semantic_1_loss: 0.0072 - semantic_2_loss: 0.0013WARNING:tensorflow:Can save best model only with val_loss available, skipping.\n"
     ]
    },
    {
     "name": "stderr",
     "output_type": "stream",
     "text": [
      "WARNING:tensorflow:Can save best model only with val_loss available, skipping.\n"
     ]
    },
    {
     "name": "stdout",
     "output_type": "stream",
     "text": [
      "42/42 [==============================] - 24s 559ms/step - loss: 0.0115 - semantic_0_loss: 0.0030 - semantic_1_loss: 0.0072 - semantic_2_loss: 0.0013 - lr: 7.3970e-05\n",
      "Epoch 32/200\n",
      "42/42 [==============================] - ETA: 0s - loss: 0.0116 - semantic_0_loss: 0.0031 - semantic_1_loss: 0.0072 - semantic_2_loss: 0.0013WARNING:tensorflow:Can save best model only with val_loss available, skipping.\n"
     ]
    },
    {
     "name": "stderr",
     "output_type": "stream",
     "text": [
      "WARNING:tensorflow:Can save best model only with val_loss available, skipping.\n"
     ]
    },
    {
     "name": "stdout",
     "output_type": "stream",
     "text": [
      "42/42 [==============================] - 23s 548ms/step - loss: 0.0116 - semantic_0_loss: 0.0031 - semantic_1_loss: 0.0072 - semantic_2_loss: 0.0013 - lr: 7.3230e-05\n",
      "Epoch 33/200\n",
      "42/42 [==============================] - ETA: 0s - loss: 0.0115 - semantic_0_loss: 0.0031 - semantic_1_loss: 0.0072 - semantic_2_loss: 0.0013WARNING:tensorflow:Can save best model only with val_loss available, skipping.\n"
     ]
    },
    {
     "name": "stderr",
     "output_type": "stream",
     "text": [
      "WARNING:tensorflow:Can save best model only with val_loss available, skipping.\n"
     ]
    },
    {
     "name": "stdout",
     "output_type": "stream",
     "text": [
      "42/42 [==============================] - 23s 553ms/step - loss: 0.0115 - semantic_0_loss: 0.0031 - semantic_1_loss: 0.0072 - semantic_2_loss: 0.0013 - lr: 7.2498e-05\n",
      "Epoch 34/200\n",
      "42/42 [==============================] - ETA: 0s - loss: 0.0117 - semantic_0_loss: 0.0031 - semantic_1_loss: 0.0073 - semantic_2_loss: 0.0013WARNING:tensorflow:Can save best model only with val_loss available, skipping.\n"
     ]
    },
    {
     "name": "stderr",
     "output_type": "stream",
     "text": [
      "WARNING:tensorflow:Can save best model only with val_loss available, skipping.\n"
     ]
    },
    {
     "name": "stdout",
     "output_type": "stream",
     "text": [
      "42/42 [==============================] - 24s 558ms/step - loss: 0.0117 - semantic_0_loss: 0.0031 - semantic_1_loss: 0.0073 - semantic_2_loss: 0.0013 - lr: 7.1773e-05\n",
      "Epoch 35/200\n",
      "42/42 [==============================] - ETA: 0s - loss: 0.0114 - semantic_0_loss: 0.0031 - semantic_1_loss: 0.0071 - semantic_2_loss: 0.0013WARNING:tensorflow:Can save best model only with val_loss available, skipping.\n"
     ]
    },
    {
     "name": "stderr",
     "output_type": "stream",
     "text": [
      "WARNING:tensorflow:Can save best model only with val_loss available, skipping.\n"
     ]
    },
    {
     "name": "stdout",
     "output_type": "stream",
     "text": [
      "42/42 [==============================] - 23s 549ms/step - loss: 0.0114 - semantic_0_loss: 0.0031 - semantic_1_loss: 0.0071 - semantic_2_loss: 0.0013 - lr: 7.1055e-05\n",
      "Epoch 36/200\n",
      "42/42 [==============================] - ETA: 0s - loss: 0.0112 - semantic_0_loss: 0.0030 - semantic_1_loss: 0.0069 - semantic_2_loss: 0.0012WARNING:tensorflow:Can save best model only with val_loss available, skipping.\n"
     ]
    },
    {
     "name": "stderr",
     "output_type": "stream",
     "text": [
      "WARNING:tensorflow:Can save best model only with val_loss available, skipping.\n"
     ]
    },
    {
     "name": "stdout",
     "output_type": "stream",
     "text": [
      "42/42 [==============================] - 23s 547ms/step - loss: 0.0112 - semantic_0_loss: 0.0030 - semantic_1_loss: 0.0069 - semantic_2_loss: 0.0012 - lr: 7.0345e-05\n",
      "Epoch 37/200\n",
      "42/42 [==============================] - ETA: 0s - loss: 0.0113 - semantic_0_loss: 0.0030 - semantic_1_loss: 0.0070 - semantic_2_loss: 0.0013WARNING:tensorflow:Can save best model only with val_loss available, skipping.\n"
     ]
    },
    {
     "name": "stderr",
     "output_type": "stream",
     "text": [
      "WARNING:tensorflow:Can save best model only with val_loss available, skipping.\n"
     ]
    },
    {
     "name": "stdout",
     "output_type": "stream",
     "text": [
      "42/42 [==============================] - 23s 551ms/step - loss: 0.0113 - semantic_0_loss: 0.0030 - semantic_1_loss: 0.0070 - semantic_2_loss: 0.0013 - lr: 6.9641e-05\n",
      "Epoch 38/200\n",
      "42/42 [==============================] - ETA: 0s - loss: 0.0112 - semantic_0_loss: 0.0030 - semantic_1_loss: 0.0069 - semantic_2_loss: 0.0013WARNING:tensorflow:Can save best model only with val_loss available, skipping.\n"
     ]
    },
    {
     "name": "stderr",
     "output_type": "stream",
     "text": [
      "WARNING:tensorflow:Can save best model only with val_loss available, skipping.\n"
     ]
    },
    {
     "name": "stdout",
     "output_type": "stream",
     "text": [
      "42/42 [==============================] - 23s 543ms/step - loss: 0.0112 - semantic_0_loss: 0.0030 - semantic_1_loss: 0.0069 - semantic_2_loss: 0.0013 - lr: 6.8945e-05\n",
      "Epoch 39/200\n",
      "42/42 [==============================] - ETA: 0s - loss: 0.0114 - semantic_0_loss: 0.0031 - semantic_1_loss: 0.0071 - semantic_2_loss: 0.0013WARNING:tensorflow:Can save best model only with val_loss available, skipping.\n"
     ]
    },
    {
     "name": "stderr",
     "output_type": "stream",
     "text": [
      "WARNING:tensorflow:Can save best model only with val_loss available, skipping.\n"
     ]
    },
    {
     "name": "stdout",
     "output_type": "stream",
     "text": [
      "42/42 [==============================] - 23s 550ms/step - loss: 0.0114 - semantic_0_loss: 0.0031 - semantic_1_loss: 0.0071 - semantic_2_loss: 0.0013 - lr: 6.8255e-05\n",
      "Epoch 40/200\n",
      "42/42 [==============================] - ETA: 0s - loss: 0.0114 - semantic_0_loss: 0.0030 - semantic_1_loss: 0.0071 - semantic_2_loss: 0.0013WARNING:tensorflow:Can save best model only with val_loss available, skipping.\n"
     ]
    },
    {
     "name": "stderr",
     "output_type": "stream",
     "text": [
      "WARNING:tensorflow:Can save best model only with val_loss available, skipping.\n"
     ]
    },
    {
     "name": "stdout",
     "output_type": "stream",
     "text": [
      "42/42 [==============================] - 23s 552ms/step - loss: 0.0114 - semantic_0_loss: 0.0030 - semantic_1_loss: 0.0071 - semantic_2_loss: 0.0013 - lr: 6.7573e-05\n",
      "Epoch 41/200\n",
      "42/42 [==============================] - ETA: 0s - loss: 0.0112 - semantic_0_loss: 0.0030 - semantic_1_loss: 0.0069 - semantic_2_loss: 0.0012WARNING:tensorflow:Can save best model only with val_loss available, skipping.\n"
     ]
    },
    {
     "name": "stderr",
     "output_type": "stream",
     "text": [
      "WARNING:tensorflow:Can save best model only with val_loss available, skipping.\n"
     ]
    },
    {
     "name": "stdout",
     "output_type": "stream",
     "text": [
      "42/42 [==============================] - 24s 561ms/step - loss: 0.0112 - semantic_0_loss: 0.0030 - semantic_1_loss: 0.0069 - semantic_2_loss: 0.0012 - lr: 6.6897e-05\n",
      "Epoch 42/200\n",
      "42/42 [==============================] - ETA: 0s - loss: 0.0109 - semantic_0_loss: 0.0030 - semantic_1_loss: 0.0068 - semantic_2_loss: 0.0012WARNING:tensorflow:Can save best model only with val_loss available, skipping.\n"
     ]
    },
    {
     "name": "stderr",
     "output_type": "stream",
     "text": [
      "WARNING:tensorflow:Can save best model only with val_loss available, skipping.\n"
     ]
    },
    {
     "name": "stdout",
     "output_type": "stream",
     "text": [
      "42/42 [==============================] - 23s 548ms/step - loss: 0.0109 - semantic_0_loss: 0.0030 - semantic_1_loss: 0.0068 - semantic_2_loss: 0.0012 - lr: 6.6228e-05\n",
      "Epoch 43/200\n",
      "42/42 [==============================] - ETA: 0s - loss: 0.0112 - semantic_0_loss: 0.0030 - semantic_1_loss: 0.0069 - semantic_2_loss: 0.0012WARNING:tensorflow:Can save best model only with val_loss available, skipping.\n"
     ]
    },
    {
     "name": "stderr",
     "output_type": "stream",
     "text": [
      "WARNING:tensorflow:Can save best model only with val_loss available, skipping.\n"
     ]
    },
    {
     "name": "stdout",
     "output_type": "stream",
     "text": [
      "42/42 [==============================] - 24s 563ms/step - loss: 0.0112 - semantic_0_loss: 0.0030 - semantic_1_loss: 0.0069 - semantic_2_loss: 0.0012 - lr: 6.5566e-05\n",
      "Epoch 44/200\n",
      "42/42 [==============================] - ETA: 0s - loss: 0.0112 - semantic_0_loss: 0.0030 - semantic_1_loss: 0.0069 - semantic_2_loss: 0.0012WARNING:tensorflow:Can save best model only with val_loss available, skipping.\n"
     ]
    },
    {
     "name": "stderr",
     "output_type": "stream",
     "text": [
      "WARNING:tensorflow:Can save best model only with val_loss available, skipping.\n"
     ]
    },
    {
     "name": "stdout",
     "output_type": "stream",
     "text": [
      "42/42 [==============================] - 23s 553ms/step - loss: 0.0112 - semantic_0_loss: 0.0030 - semantic_1_loss: 0.0069 - semantic_2_loss: 0.0012 - lr: 6.4910e-05\n",
      "Epoch 45/200\n",
      "42/42 [==============================] - ETA: 0s - loss: 0.0112 - semantic_0_loss: 0.0030 - semantic_1_loss: 0.0070 - semantic_2_loss: 0.0012WARNING:tensorflow:Can save best model only with val_loss available, skipping.\n"
     ]
    },
    {
     "name": "stderr",
     "output_type": "stream",
     "text": [
      "WARNING:tensorflow:Can save best model only with val_loss available, skipping.\n"
     ]
    },
    {
     "name": "stdout",
     "output_type": "stream",
     "text": [
      "42/42 [==============================] - 24s 558ms/step - loss: 0.0112 - semantic_0_loss: 0.0030 - semantic_1_loss: 0.0070 - semantic_2_loss: 0.0012 - lr: 6.4261e-05\n",
      "Epoch 46/200\n",
      "42/42 [==============================] - ETA: 0s - loss: 0.0109 - semantic_0_loss: 0.0029 - semantic_1_loss: 0.0067 - semantic_2_loss: 0.0012WARNING:tensorflow:Can save best model only with val_loss available, skipping.\n"
     ]
    },
    {
     "name": "stderr",
     "output_type": "stream",
     "text": [
      "WARNING:tensorflow:Can save best model only with val_loss available, skipping.\n"
     ]
    },
    {
     "name": "stdout",
     "output_type": "stream",
     "text": [
      "42/42 [==============================] - 23s 545ms/step - loss: 0.0109 - semantic_0_loss: 0.0029 - semantic_1_loss: 0.0067 - semantic_2_loss: 0.0012 - lr: 6.3619e-05\n",
      "Epoch 47/200\n",
      "42/42 [==============================] - ETA: 0s - loss: 0.0109 - semantic_0_loss: 0.0030 - semantic_1_loss: 0.0067 - semantic_2_loss: 0.0012WARNING:tensorflow:Can save best model only with val_loss available, skipping.\n"
     ]
    },
    {
     "name": "stderr",
     "output_type": "stream",
     "text": [
      "WARNING:tensorflow:Can save best model only with val_loss available, skipping.\n"
     ]
    },
    {
     "name": "stdout",
     "output_type": "stream",
     "text": [
      "42/42 [==============================] - 23s 550ms/step - loss: 0.0109 - semantic_0_loss: 0.0030 - semantic_1_loss: 0.0067 - semantic_2_loss: 0.0012 - lr: 6.2982e-05\n",
      "Epoch 48/200\n",
      "42/42 [==============================] - ETA: 0s - loss: 0.0109 - semantic_0_loss: 0.0030 - semantic_1_loss: 0.0067 - semantic_2_loss: 0.0012WARNING:tensorflow:Can save best model only with val_loss available, skipping.\n"
     ]
    },
    {
     "name": "stderr",
     "output_type": "stream",
     "text": [
      "WARNING:tensorflow:Can save best model only with val_loss available, skipping.\n"
     ]
    },
    {
     "name": "stdout",
     "output_type": "stream",
     "text": [
      "42/42 [==============================] - 24s 558ms/step - loss: 0.0109 - semantic_0_loss: 0.0030 - semantic_1_loss: 0.0067 - semantic_2_loss: 0.0012 - lr: 6.2353e-05\n",
      "Epoch 49/200\n",
      "42/42 [==============================] - ETA: 0s - loss: 0.0110 - semantic_0_loss: 0.0030 - semantic_1_loss: 0.0067 - semantic_2_loss: 0.0012WARNING:tensorflow:Can save best model only with val_loss available, skipping.\n"
     ]
    },
    {
     "name": "stderr",
     "output_type": "stream",
     "text": [
      "WARNING:tensorflow:Can save best model only with val_loss available, skipping.\n"
     ]
    },
    {
     "name": "stdout",
     "output_type": "stream",
     "text": [
      "42/42 [==============================] - 24s 564ms/step - loss: 0.0110 - semantic_0_loss: 0.0030 - semantic_1_loss: 0.0067 - semantic_2_loss: 0.0012 - lr: 6.1729e-05\n",
      "Epoch 50/200\n",
      "42/42 [==============================] - ETA: 0s - loss: 0.0110 - semantic_0_loss: 0.0030 - semantic_1_loss: 0.0068 - semantic_2_loss: 0.0012WARNING:tensorflow:Can save best model only with val_loss available, skipping.\n"
     ]
    },
    {
     "name": "stderr",
     "output_type": "stream",
     "text": [
      "WARNING:tensorflow:Can save best model only with val_loss available, skipping.\n"
     ]
    },
    {
     "name": "stdout",
     "output_type": "stream",
     "text": [
      "42/42 [==============================] - 23s 554ms/step - loss: 0.0110 - semantic_0_loss: 0.0030 - semantic_1_loss: 0.0068 - semantic_2_loss: 0.0012 - lr: 6.1112e-05\n",
      "Epoch 51/200\n",
      "42/42 [==============================] - ETA: 0s - loss: 0.0109 - semantic_0_loss: 0.0030 - semantic_1_loss: 0.0067 - semantic_2_loss: 0.0012WARNING:tensorflow:Can save best model only with val_loss available, skipping.\n"
     ]
    },
    {
     "name": "stderr",
     "output_type": "stream",
     "text": [
      "WARNING:tensorflow:Can save best model only with val_loss available, skipping.\n"
     ]
    },
    {
     "name": "stdout",
     "output_type": "stream",
     "text": [
      "42/42 [==============================] - 24s 564ms/step - loss: 0.0109 - semantic_0_loss: 0.0030 - semantic_1_loss: 0.0067 - semantic_2_loss: 0.0012 - lr: 6.0501e-05\n",
      "Epoch 52/200\n",
      "42/42 [==============================] - ETA: 0s - loss: 0.0107 - semantic_0_loss: 0.0029 - semantic_1_loss: 0.0066 - semantic_2_loss: 0.0012WARNING:tensorflow:Can save best model only with val_loss available, skipping.\n"
     ]
    },
    {
     "name": "stderr",
     "output_type": "stream",
     "text": [
      "WARNING:tensorflow:Can save best model only with val_loss available, skipping.\n"
     ]
    },
    {
     "name": "stdout",
     "output_type": "stream",
     "text": [
      "42/42 [==============================] - 23s 551ms/step - loss: 0.0107 - semantic_0_loss: 0.0029 - semantic_1_loss: 0.0066 - semantic_2_loss: 0.0012 - lr: 5.9896e-05\n",
      "Epoch 53/200\n",
      "42/42 [==============================] - ETA: 0s - loss: 0.0107 - semantic_0_loss: 0.0029 - semantic_1_loss: 0.0066 - semantic_2_loss: 0.0012WARNING:tensorflow:Can save best model only with val_loss available, skipping.\n"
     ]
    },
    {
     "name": "stderr",
     "output_type": "stream",
     "text": [
      "WARNING:tensorflow:Can save best model only with val_loss available, skipping.\n"
     ]
    },
    {
     "name": "stdout",
     "output_type": "stream",
     "text": [
      "42/42 [==============================] - 23s 543ms/step - loss: 0.0107 - semantic_0_loss: 0.0029 - semantic_1_loss: 0.0066 - semantic_2_loss: 0.0012 - lr: 5.9297e-05\n",
      "Epoch 54/200\n",
      "42/42 [==============================] - ETA: 0s - loss: 0.0106 - semantic_0_loss: 0.0029 - semantic_1_loss: 0.0065 - semantic_2_loss: 0.0012WARNING:tensorflow:Can save best model only with val_loss available, skipping.\n"
     ]
    },
    {
     "name": "stderr",
     "output_type": "stream",
     "text": [
      "WARNING:tensorflow:Can save best model only with val_loss available, skipping.\n"
     ]
    },
    {
     "name": "stdout",
     "output_type": "stream",
     "text": [
      "42/42 [==============================] - 23s 535ms/step - loss: 0.0106 - semantic_0_loss: 0.0029 - semantic_1_loss: 0.0065 - semantic_2_loss: 0.0012 - lr: 5.8704e-05\n",
      "Epoch 55/200\n",
      "42/42 [==============================] - ETA: 0s - loss: 0.0108 - semantic_0_loss: 0.0029 - semantic_1_loss: 0.0066 - semantic_2_loss: 0.0012WARNING:tensorflow:Can save best model only with val_loss available, skipping.\n"
     ]
    },
    {
     "name": "stderr",
     "output_type": "stream",
     "text": [
      "WARNING:tensorflow:Can save best model only with val_loss available, skipping.\n"
     ]
    },
    {
     "name": "stdout",
     "output_type": "stream",
     "text": [
      "42/42 [==============================] - 23s 551ms/step - loss: 0.0108 - semantic_0_loss: 0.0029 - semantic_1_loss: 0.0066 - semantic_2_loss: 0.0012 - lr: 5.8117e-05\n",
      "Epoch 56/200\n",
      "42/42 [==============================] - ETA: 0s - loss: 0.0105 - semantic_0_loss: 0.0028 - semantic_1_loss: 0.0064 - semantic_2_loss: 0.0012WARNING:tensorflow:Can save best model only with val_loss available, skipping.\n"
     ]
    },
    {
     "name": "stderr",
     "output_type": "stream",
     "text": [
      "WARNING:tensorflow:Can save best model only with val_loss available, skipping.\n"
     ]
    },
    {
     "name": "stdout",
     "output_type": "stream",
     "text": [
      "42/42 [==============================] - 23s 550ms/step - loss: 0.0105 - semantic_0_loss: 0.0028 - semantic_1_loss: 0.0064 - semantic_2_loss: 0.0012 - lr: 5.7535e-05\n",
      "Epoch 57/200\n",
      "42/42 [==============================] - ETA: 0s - loss: 0.0106 - semantic_0_loss: 0.0029 - semantic_1_loss: 0.0065 - semantic_2_loss: 0.0012WARNING:tensorflow:Can save best model only with val_loss available, skipping.\n"
     ]
    },
    {
     "name": "stderr",
     "output_type": "stream",
     "text": [
      "WARNING:tensorflow:Can save best model only with val_loss available, skipping.\n"
     ]
    },
    {
     "name": "stdout",
     "output_type": "stream",
     "text": [
      "42/42 [==============================] - 24s 554ms/step - loss: 0.0106 - semantic_0_loss: 0.0029 - semantic_1_loss: 0.0065 - semantic_2_loss: 0.0012 - lr: 5.6960e-05\n",
      "Epoch 58/200\n",
      "42/42 [==============================] - ETA: 0s - loss: 0.0105 - semantic_0_loss: 0.0029 - semantic_1_loss: 0.0064 - semantic_2_loss: 0.0012WARNING:tensorflow:Can save best model only with val_loss available, skipping.\n"
     ]
    },
    {
     "name": "stderr",
     "output_type": "stream",
     "text": [
      "WARNING:tensorflow:Can save best model only with val_loss available, skipping.\n"
     ]
    },
    {
     "name": "stdout",
     "output_type": "stream",
     "text": [
      "42/42 [==============================] - 23s 552ms/step - loss: 0.0105 - semantic_0_loss: 0.0029 - semantic_1_loss: 0.0064 - semantic_2_loss: 0.0012 - lr: 5.6391e-05\n",
      "Epoch 59/200\n",
      "42/42 [==============================] - ETA: 0s - loss: 0.0105 - semantic_0_loss: 0.0029 - semantic_1_loss: 0.0064 - semantic_2_loss: 0.0012WARNING:tensorflow:Can save best model only with val_loss available, skipping.\n"
     ]
    },
    {
     "name": "stderr",
     "output_type": "stream",
     "text": [
      "WARNING:tensorflow:Can save best model only with val_loss available, skipping.\n"
     ]
    },
    {
     "name": "stdout",
     "output_type": "stream",
     "text": [
      "42/42 [==============================] - 24s 559ms/step - loss: 0.0105 - semantic_0_loss: 0.0029 - semantic_1_loss: 0.0064 - semantic_2_loss: 0.0012 - lr: 5.5827e-05\n",
      "Epoch 60/200\n",
      "42/42 [==============================] - ETA: 0s - loss: 0.0104 - semantic_0_loss: 0.0028 - semantic_1_loss: 0.0063 - semantic_2_loss: 0.0012WARNING:tensorflow:Can save best model only with val_loss available, skipping.\n"
     ]
    },
    {
     "name": "stderr",
     "output_type": "stream",
     "text": [
      "WARNING:tensorflow:Can save best model only with val_loss available, skipping.\n"
     ]
    },
    {
     "name": "stdout",
     "output_type": "stream",
     "text": [
      "42/42 [==============================] - 23s 551ms/step - loss: 0.0104 - semantic_0_loss: 0.0028 - semantic_1_loss: 0.0063 - semantic_2_loss: 0.0012 - lr: 5.5268e-05\n",
      "Epoch 61/200\n",
      "42/42 [==============================] - ETA: 0s - loss: 0.0107 - semantic_0_loss: 0.0030 - semantic_1_loss: 0.0066 - semantic_2_loss: 0.0012WARNING:tensorflow:Can save best model only with val_loss available, skipping.\n"
     ]
    },
    {
     "name": "stderr",
     "output_type": "stream",
     "text": [
      "WARNING:tensorflow:Can save best model only with val_loss available, skipping.\n"
     ]
    },
    {
     "name": "stdout",
     "output_type": "stream",
     "text": [
      "42/42 [==============================] - 23s 548ms/step - loss: 0.0107 - semantic_0_loss: 0.0030 - semantic_1_loss: 0.0066 - semantic_2_loss: 0.0012 - lr: 5.4716e-05\n",
      "Epoch 62/200\n",
      "42/42 [==============================] - ETA: 0s - loss: 0.0101 - semantic_0_loss: 0.0028 - semantic_1_loss: 0.0061 - semantic_2_loss: 0.0012WARNING:tensorflow:Can save best model only with val_loss available, skipping.\n"
     ]
    },
    {
     "name": "stderr",
     "output_type": "stream",
     "text": [
      "WARNING:tensorflow:Can save best model only with val_loss available, skipping.\n"
     ]
    },
    {
     "name": "stdout",
     "output_type": "stream",
     "text": [
      "42/42 [==============================] - 24s 565ms/step - loss: 0.0101 - semantic_0_loss: 0.0028 - semantic_1_loss: 0.0061 - semantic_2_loss: 0.0012 - lr: 5.4169e-05\n",
      "Epoch 63/200\n",
      "42/42 [==============================] - ETA: 0s - loss: 0.0106 - semantic_0_loss: 0.0029 - semantic_1_loss: 0.0065 - semantic_2_loss: 0.0012WARNING:tensorflow:Can save best model only with val_loss available, skipping.\n"
     ]
    },
    {
     "name": "stderr",
     "output_type": "stream",
     "text": [
      "WARNING:tensorflow:Can save best model only with val_loss available, skipping.\n"
     ]
    },
    {
     "name": "stdout",
     "output_type": "stream",
     "text": [
      "42/42 [==============================] - 24s 555ms/step - loss: 0.0106 - semantic_0_loss: 0.0029 - semantic_1_loss: 0.0065 - semantic_2_loss: 0.0012 - lr: 5.3627e-05\n",
      "Epoch 64/200\n",
      "42/42 [==============================] - ETA: 0s - loss: 0.0102 - semantic_0_loss: 0.0028 - semantic_1_loss: 0.0062 - semantic_2_loss: 0.0012WARNING:tensorflow:Can save best model only with val_loss available, skipping.\n"
     ]
    },
    {
     "name": "stderr",
     "output_type": "stream",
     "text": [
      "WARNING:tensorflow:Can save best model only with val_loss available, skipping.\n"
     ]
    },
    {
     "name": "stdout",
     "output_type": "stream",
     "text": [
      "42/42 [==============================] - 23s 548ms/step - loss: 0.0102 - semantic_0_loss: 0.0028 - semantic_1_loss: 0.0062 - semantic_2_loss: 0.0012 - lr: 5.3091e-05\n",
      "Epoch 65/200\n",
      "42/42 [==============================] - ETA: 0s - loss: 0.0104 - semantic_0_loss: 0.0029 - semantic_1_loss: 0.0064 - semantic_2_loss: 0.0012WARNING:tensorflow:Can save best model only with val_loss available, skipping.\n"
     ]
    },
    {
     "name": "stderr",
     "output_type": "stream",
     "text": [
      "WARNING:tensorflow:Can save best model only with val_loss available, skipping.\n"
     ]
    },
    {
     "name": "stdout",
     "output_type": "stream",
     "text": [
      "42/42 [==============================] - 24s 560ms/step - loss: 0.0104 - semantic_0_loss: 0.0029 - semantic_1_loss: 0.0064 - semantic_2_loss: 0.0012 - lr: 5.2560e-05\n",
      "Epoch 66/200\n",
      "42/42 [==============================] - ETA: 0s - loss: 0.0102 - semantic_0_loss: 0.0028 - semantic_1_loss: 0.0062 - semantic_2_loss: 0.0012WARNING:tensorflow:Can save best model only with val_loss available, skipping.\n"
     ]
    },
    {
     "name": "stderr",
     "output_type": "stream",
     "text": [
      "WARNING:tensorflow:Can save best model only with val_loss available, skipping.\n"
     ]
    },
    {
     "name": "stdout",
     "output_type": "stream",
     "text": [
      "42/42 [==============================] - 23s 543ms/step - loss: 0.0102 - semantic_0_loss: 0.0028 - semantic_1_loss: 0.0062 - semantic_2_loss: 0.0012 - lr: 5.2034e-05\n",
      "Epoch 67/200\n",
      "42/42 [==============================] - ETA: 0s - loss: 0.0102 - semantic_0_loss: 0.0029 - semantic_1_loss: 0.0062 - semantic_2_loss: 0.0011WARNING:tensorflow:Can save best model only with val_loss available, skipping.\n"
     ]
    },
    {
     "name": "stderr",
     "output_type": "stream",
     "text": [
      "WARNING:tensorflow:Can save best model only with val_loss available, skipping.\n"
     ]
    },
    {
     "name": "stdout",
     "output_type": "stream",
     "text": [
      "42/42 [==============================] - 23s 544ms/step - loss: 0.0102 - semantic_0_loss: 0.0029 - semantic_1_loss: 0.0062 - semantic_2_loss: 0.0011 - lr: 5.1514e-05\n",
      "Epoch 68/200\n",
      "42/42 [==============================] - ETA: 0s - loss: 0.0102 - semantic_0_loss: 0.0028 - semantic_1_loss: 0.0062 - semantic_2_loss: 0.0012WARNING:tensorflow:Can save best model only with val_loss available, skipping.\n"
     ]
    },
    {
     "name": "stderr",
     "output_type": "stream",
     "text": [
      "WARNING:tensorflow:Can save best model only with val_loss available, skipping.\n"
     ]
    },
    {
     "name": "stdout",
     "output_type": "stream",
     "text": [
      "42/42 [==============================] - 24s 566ms/step - loss: 0.0102 - semantic_0_loss: 0.0028 - semantic_1_loss: 0.0062 - semantic_2_loss: 0.0012 - lr: 5.0999e-05\n",
      "Epoch 69/200\n",
      "42/42 [==============================] - ETA: 0s - loss: 0.0102 - semantic_0_loss: 0.0028 - semantic_1_loss: 0.0062 - semantic_2_loss: 0.0012WARNING:tensorflow:Can save best model only with val_loss available, skipping.\n"
     ]
    },
    {
     "name": "stderr",
     "output_type": "stream",
     "text": [
      "WARNING:tensorflow:Can save best model only with val_loss available, skipping.\n"
     ]
    },
    {
     "name": "stdout",
     "output_type": "stream",
     "text": [
      "42/42 [==============================] - 24s 554ms/step - loss: 0.0102 - semantic_0_loss: 0.0028 - semantic_1_loss: 0.0062 - semantic_2_loss: 0.0012 - lr: 5.0489e-05\n",
      "Epoch 70/200\n",
      "42/42 [==============================] - ETA: 0s - loss: 0.0102 - semantic_0_loss: 0.0028 - semantic_1_loss: 0.0062 - semantic_2_loss: 0.0012WARNING:tensorflow:Can save best model only with val_loss available, skipping.\n"
     ]
    },
    {
     "name": "stderr",
     "output_type": "stream",
     "text": [
      "WARNING:tensorflow:Can save best model only with val_loss available, skipping.\n"
     ]
    },
    {
     "name": "stdout",
     "output_type": "stream",
     "text": [
      "42/42 [==============================] - 23s 552ms/step - loss: 0.0102 - semantic_0_loss: 0.0028 - semantic_1_loss: 0.0062 - semantic_2_loss: 0.0012 - lr: 4.9984e-05\n",
      "Epoch 71/200\n",
      "42/42 [==============================] - ETA: 0s - loss: 0.0101 - semantic_0_loss: 0.0028 - semantic_1_loss: 0.0062 - semantic_2_loss: 0.0012WARNING:tensorflow:Can save best model only with val_loss available, skipping.\n"
     ]
    },
    {
     "name": "stderr",
     "output_type": "stream",
     "text": [
      "WARNING:tensorflow:Can save best model only with val_loss available, skipping.\n"
     ]
    },
    {
     "name": "stdout",
     "output_type": "stream",
     "text": [
      "42/42 [==============================] - 24s 571ms/step - loss: 0.0101 - semantic_0_loss: 0.0028 - semantic_1_loss: 0.0062 - semantic_2_loss: 0.0012 - lr: 4.9484e-05\n",
      "Epoch 72/200\n",
      "42/42 [==============================] - ETA: 0s - loss: 0.0101 - semantic_0_loss: 0.0028 - semantic_1_loss: 0.0062 - semantic_2_loss: 0.0012WARNING:tensorflow:Can save best model only with val_loss available, skipping.\n"
     ]
    },
    {
     "name": "stderr",
     "output_type": "stream",
     "text": [
      "WARNING:tensorflow:Can save best model only with val_loss available, skipping.\n"
     ]
    },
    {
     "name": "stdout",
     "output_type": "stream",
     "text": [
      "42/42 [==============================] - 23s 553ms/step - loss: 0.0101 - semantic_0_loss: 0.0028 - semantic_1_loss: 0.0062 - semantic_2_loss: 0.0012 - lr: 4.8989e-05\n",
      "Epoch 73/200\n",
      "42/42 [==============================] - ETA: 0s - loss: 0.0102 - semantic_0_loss: 0.0029 - semantic_1_loss: 0.0062 - semantic_2_loss: 0.0012WARNING:tensorflow:Can save best model only with val_loss available, skipping.\n"
     ]
    },
    {
     "name": "stderr",
     "output_type": "stream",
     "text": [
      "WARNING:tensorflow:Can save best model only with val_loss available, skipping.\n"
     ]
    },
    {
     "name": "stdout",
     "output_type": "stream",
     "text": [
      "42/42 [==============================] - 24s 559ms/step - loss: 0.0102 - semantic_0_loss: 0.0029 - semantic_1_loss: 0.0062 - semantic_2_loss: 0.0012 - lr: 4.8499e-05\n",
      "Epoch 74/200\n",
      "42/42 [==============================] - ETA: 0s - loss: 0.0103 - semantic_0_loss: 0.0029 - semantic_1_loss: 0.0063 - semantic_2_loss: 0.0012WARNING:tensorflow:Can save best model only with val_loss available, skipping.\n"
     ]
    },
    {
     "name": "stderr",
     "output_type": "stream",
     "text": [
      "WARNING:tensorflow:Can save best model only with val_loss available, skipping.\n"
     ]
    },
    {
     "name": "stdout",
     "output_type": "stream",
     "text": [
      "42/42 [==============================] - 24s 558ms/step - loss: 0.0103 - semantic_0_loss: 0.0029 - semantic_1_loss: 0.0063 - semantic_2_loss: 0.0012 - lr: 4.8014e-05\n",
      "Epoch 75/200\n",
      "42/42 [==============================] - ETA: 0s - loss: 0.0102 - semantic_0_loss: 0.0029 - semantic_1_loss: 0.0062 - semantic_2_loss: 0.0012WARNING:tensorflow:Can save best model only with val_loss available, skipping.\n"
     ]
    },
    {
     "name": "stderr",
     "output_type": "stream",
     "text": [
      "WARNING:tensorflow:Can save best model only with val_loss available, skipping.\n"
     ]
    },
    {
     "name": "stdout",
     "output_type": "stream",
     "text": [
      "42/42 [==============================] - 23s 551ms/step - loss: 0.0102 - semantic_0_loss: 0.0029 - semantic_1_loss: 0.0062 - semantic_2_loss: 0.0012 - lr: 4.7534e-05\n",
      "Epoch 76/200\n",
      "42/42 [==============================] - ETA: 0s - loss: 0.0099 - semantic_0_loss: 0.0028 - semantic_1_loss: 0.0060 - semantic_2_loss: 0.0011WARNING:tensorflow:Can save best model only with val_loss available, skipping.\n"
     ]
    },
    {
     "name": "stderr",
     "output_type": "stream",
     "text": [
      "WARNING:tensorflow:Can save best model only with val_loss available, skipping.\n"
     ]
    },
    {
     "name": "stdout",
     "output_type": "stream",
     "text": [
      "42/42 [==============================] - 23s 559ms/step - loss: 0.0099 - semantic_0_loss: 0.0028 - semantic_1_loss: 0.0060 - semantic_2_loss: 0.0011 - lr: 4.7059e-05\n",
      "Epoch 77/200\n",
      "42/42 [==============================] - ETA: 0s - loss: 0.0100 - semantic_0_loss: 0.0028 - semantic_1_loss: 0.0060 - semantic_2_loss: 0.0011WARNING:tensorflow:Can save best model only with val_loss available, skipping.\n"
     ]
    },
    {
     "name": "stderr",
     "output_type": "stream",
     "text": [
      "WARNING:tensorflow:Can save best model only with val_loss available, skipping.\n"
     ]
    },
    {
     "name": "stdout",
     "output_type": "stream",
     "text": [
      "42/42 [==============================] - 23s 546ms/step - loss: 0.0100 - semantic_0_loss: 0.0028 - semantic_1_loss: 0.0060 - semantic_2_loss: 0.0011 - lr: 4.6588e-05\n",
      "Epoch 78/200\n",
      "42/42 [==============================] - ETA: 0s - loss: 0.0097 - semantic_0_loss: 0.0027 - semantic_1_loss: 0.0059 - semantic_2_loss: 0.0011WARNING:tensorflow:Can save best model only with val_loss available, skipping.\n"
     ]
    },
    {
     "name": "stderr",
     "output_type": "stream",
     "text": [
      "WARNING:tensorflow:Can save best model only with val_loss available, skipping.\n"
     ]
    },
    {
     "name": "stdout",
     "output_type": "stream",
     "text": [
      "42/42 [==============================] - 23s 543ms/step - loss: 0.0097 - semantic_0_loss: 0.0027 - semantic_1_loss: 0.0059 - semantic_2_loss: 0.0011 - lr: 4.6122e-05\n",
      "Epoch 79/200\n",
      "42/42 [==============================] - ETA: 0s - loss: 0.0100 - semantic_0_loss: 0.0028 - semantic_1_loss: 0.0060 - semantic_2_loss: 0.0011WARNING:tensorflow:Can save best model only with val_loss available, skipping.\n"
     ]
    },
    {
     "name": "stderr",
     "output_type": "stream",
     "text": [
      "WARNING:tensorflow:Can save best model only with val_loss available, skipping.\n"
     ]
    },
    {
     "name": "stdout",
     "output_type": "stream",
     "text": [
      "42/42 [==============================] - 23s 549ms/step - loss: 0.0100 - semantic_0_loss: 0.0028 - semantic_1_loss: 0.0060 - semantic_2_loss: 0.0011 - lr: 4.5661e-05\n",
      "Epoch 80/200\n",
      "42/42 [==============================] - ETA: 0s - loss: 0.0096 - semantic_0_loss: 0.0027 - semantic_1_loss: 0.0058 - semantic_2_loss: 0.0011WARNING:tensorflow:Can save best model only with val_loss available, skipping.\n"
     ]
    },
    {
     "name": "stderr",
     "output_type": "stream",
     "text": [
      "WARNING:tensorflow:Can save best model only with val_loss available, skipping.\n"
     ]
    },
    {
     "name": "stdout",
     "output_type": "stream",
     "text": [
      "42/42 [==============================] - 23s 554ms/step - loss: 0.0096 - semantic_0_loss: 0.0027 - semantic_1_loss: 0.0058 - semantic_2_loss: 0.0011 - lr: 4.5204e-05\n",
      "Epoch 81/200\n",
      "42/42 [==============================] - ETA: 0s - loss: 0.0098 - semantic_0_loss: 0.0027 - semantic_1_loss: 0.0060 - semantic_2_loss: 0.0011WARNING:tensorflow:Can save best model only with val_loss available, skipping.\n"
     ]
    },
    {
     "name": "stderr",
     "output_type": "stream",
     "text": [
      "WARNING:tensorflow:Can save best model only with val_loss available, skipping.\n"
     ]
    },
    {
     "name": "stdout",
     "output_type": "stream",
     "text": [
      "42/42 [==============================] - 24s 554ms/step - loss: 0.0098 - semantic_0_loss: 0.0027 - semantic_1_loss: 0.0060 - semantic_2_loss: 0.0011 - lr: 4.4752e-05\n",
      "Epoch 82/200\n",
      "42/42 [==============================] - ETA: 0s - loss: 0.0096 - semantic_0_loss: 0.0027 - semantic_1_loss: 0.0058 - semantic_2_loss: 0.0011WARNING:tensorflow:Can save best model only with val_loss available, skipping.\n"
     ]
    },
    {
     "name": "stderr",
     "output_type": "stream",
     "text": [
      "WARNING:tensorflow:Can save best model only with val_loss available, skipping.\n"
     ]
    },
    {
     "name": "stdout",
     "output_type": "stream",
     "text": [
      "42/42 [==============================] - 23s 542ms/step - loss: 0.0096 - semantic_0_loss: 0.0027 - semantic_1_loss: 0.0058 - semantic_2_loss: 0.0011 - lr: 4.4305e-05\n",
      "Epoch 83/200\n",
      "42/42 [==============================] - ETA: 0s - loss: 0.0099 - semantic_0_loss: 0.0028 - semantic_1_loss: 0.0060 - semantic_2_loss: 0.0011WARNING:tensorflow:Can save best model only with val_loss available, skipping.\n"
     ]
    },
    {
     "name": "stderr",
     "output_type": "stream",
     "text": [
      "WARNING:tensorflow:Can save best model only with val_loss available, skipping.\n"
     ]
    },
    {
     "name": "stdout",
     "output_type": "stream",
     "text": [
      "42/42 [==============================] - 23s 547ms/step - loss: 0.0099 - semantic_0_loss: 0.0028 - semantic_1_loss: 0.0060 - semantic_2_loss: 0.0011 - lr: 4.3862e-05\n",
      "Epoch 84/200\n",
      "42/42 [==============================] - ETA: 0s - loss: 0.0100 - semantic_0_loss: 0.0028 - semantic_1_loss: 0.0061 - semantic_2_loss: 0.0011WARNING:tensorflow:Can save best model only with val_loss available, skipping.\n"
     ]
    },
    {
     "name": "stderr",
     "output_type": "stream",
     "text": [
      "WARNING:tensorflow:Can save best model only with val_loss available, skipping.\n"
     ]
    },
    {
     "name": "stdout",
     "output_type": "stream",
     "text": [
      "42/42 [==============================] - 23s 552ms/step - loss: 0.0100 - semantic_0_loss: 0.0028 - semantic_1_loss: 0.0061 - semantic_2_loss: 0.0011 - lr: 4.3423e-05\n",
      "Epoch 85/200\n",
      "42/42 [==============================] - ETA: 0s - loss: 0.0094 - semantic_0_loss: 0.0027 - semantic_1_loss: 0.0057 - semantic_2_loss: 0.0011WARNING:tensorflow:Can save best model only with val_loss available, skipping.\n"
     ]
    },
    {
     "name": "stderr",
     "output_type": "stream",
     "text": [
      "WARNING:tensorflow:Can save best model only with val_loss available, skipping.\n"
     ]
    },
    {
     "name": "stdout",
     "output_type": "stream",
     "text": [
      "42/42 [==============================] - 23s 548ms/step - loss: 0.0094 - semantic_0_loss: 0.0027 - semantic_1_loss: 0.0057 - semantic_2_loss: 0.0011 - lr: 4.2989e-05\n",
      "Epoch 86/200\n",
      "42/42 [==============================] - ETA: 0s - loss: 0.0097 - semantic_0_loss: 0.0027 - semantic_1_loss: 0.0059 - semantic_2_loss: 0.0011WARNING:tensorflow:Can save best model only with val_loss available, skipping.\n"
     ]
    },
    {
     "name": "stderr",
     "output_type": "stream",
     "text": [
      "WARNING:tensorflow:Can save best model only with val_loss available, skipping.\n"
     ]
    },
    {
     "name": "stdout",
     "output_type": "stream",
     "text": [
      "42/42 [==============================] - 24s 556ms/step - loss: 0.0097 - semantic_0_loss: 0.0027 - semantic_1_loss: 0.0059 - semantic_2_loss: 0.0011 - lr: 4.2559e-05\n",
      "Epoch 87/200\n",
      "42/42 [==============================] - ETA: 0s - loss: 0.0097 - semantic_0_loss: 0.0027 - semantic_1_loss: 0.0059 - semantic_2_loss: 0.0011WARNING:tensorflow:Can save best model only with val_loss available, skipping.\n"
     ]
    },
    {
     "name": "stderr",
     "output_type": "stream",
     "text": [
      "WARNING:tensorflow:Can save best model only with val_loss available, skipping.\n"
     ]
    },
    {
     "name": "stdout",
     "output_type": "stream",
     "text": [
      "42/42 [==============================] - 23s 550ms/step - loss: 0.0097 - semantic_0_loss: 0.0027 - semantic_1_loss: 0.0059 - semantic_2_loss: 0.0011 - lr: 4.2133e-05\n",
      "Epoch 88/200\n",
      "42/42 [==============================] - ETA: 0s - loss: 0.0098 - semantic_0_loss: 0.0028 - semantic_1_loss: 0.0059 - semantic_2_loss: 0.0011WARNING:tensorflow:Can save best model only with val_loss available, skipping.\n"
     ]
    },
    {
     "name": "stderr",
     "output_type": "stream",
     "text": [
      "WARNING:tensorflow:Can save best model only with val_loss available, skipping.\n"
     ]
    },
    {
     "name": "stdout",
     "output_type": "stream",
     "text": [
      "42/42 [==============================] - 23s 553ms/step - loss: 0.0098 - semantic_0_loss: 0.0028 - semantic_1_loss: 0.0059 - semantic_2_loss: 0.0011 - lr: 4.1712e-05\n",
      "Epoch 89/200\n",
      "42/42 [==============================] - ETA: 0s - loss: 0.0094 - semantic_0_loss: 0.0027 - semantic_1_loss: 0.0057 - semantic_2_loss: 0.0011WARNING:tensorflow:Can save best model only with val_loss available, skipping.\n"
     ]
    },
    {
     "name": "stderr",
     "output_type": "stream",
     "text": [
      "WARNING:tensorflow:Can save best model only with val_loss available, skipping.\n"
     ]
    },
    {
     "name": "stdout",
     "output_type": "stream",
     "text": [
      "42/42 [==============================] - 23s 553ms/step - loss: 0.0094 - semantic_0_loss: 0.0027 - semantic_1_loss: 0.0057 - semantic_2_loss: 0.0011 - lr: 4.1295e-05\n",
      "Epoch 90/200\n",
      "42/42 [==============================] - ETA: 0s - loss: 0.0095 - semantic_0_loss: 0.0027 - semantic_1_loss: 0.0057 - semantic_2_loss: 0.0011WARNING:tensorflow:Can save best model only with val_loss available, skipping.\n"
     ]
    },
    {
     "name": "stderr",
     "output_type": "stream",
     "text": [
      "WARNING:tensorflow:Can save best model only with val_loss available, skipping.\n"
     ]
    },
    {
     "name": "stdout",
     "output_type": "stream",
     "text": [
      "42/42 [==============================] - 23s 551ms/step - loss: 0.0095 - semantic_0_loss: 0.0027 - semantic_1_loss: 0.0057 - semantic_2_loss: 0.0011 - lr: 4.0882e-05\n",
      "Epoch 91/200\n",
      "42/42 [==============================] - ETA: 0s - loss: 0.0095 - semantic_0_loss: 0.0027 - semantic_1_loss: 0.0057 - semantic_2_loss: 0.0011WARNING:tensorflow:Can save best model only with val_loss available, skipping.\n"
     ]
    },
    {
     "name": "stderr",
     "output_type": "stream",
     "text": [
      "WARNING:tensorflow:Can save best model only with val_loss available, skipping.\n"
     ]
    },
    {
     "name": "stdout",
     "output_type": "stream",
     "text": [
      "42/42 [==============================] - 24s 555ms/step - loss: 0.0095 - semantic_0_loss: 0.0027 - semantic_1_loss: 0.0057 - semantic_2_loss: 0.0011 - lr: 4.0473e-05\n",
      "Epoch 92/200\n",
      "42/42 [==============================] - ETA: 0s - loss: 0.0095 - semantic_0_loss: 0.0027 - semantic_1_loss: 0.0057 - semantic_2_loss: 0.0011WARNING:tensorflow:Can save best model only with val_loss available, skipping.\n"
     ]
    },
    {
     "name": "stderr",
     "output_type": "stream",
     "text": [
      "WARNING:tensorflow:Can save best model only with val_loss available, skipping.\n"
     ]
    },
    {
     "name": "stdout",
     "output_type": "stream",
     "text": [
      "42/42 [==============================] - 23s 545ms/step - loss: 0.0095 - semantic_0_loss: 0.0027 - semantic_1_loss: 0.0057 - semantic_2_loss: 0.0011 - lr: 4.0068e-05\n",
      "Epoch 93/200\n",
      "42/42 [==============================] - ETA: 0s - loss: 0.0095 - semantic_0_loss: 0.0027 - semantic_1_loss: 0.0057 - semantic_2_loss: 0.0011WARNING:tensorflow:Can save best model only with val_loss available, skipping.\n"
     ]
    },
    {
     "name": "stderr",
     "output_type": "stream",
     "text": [
      "WARNING:tensorflow:Can save best model only with val_loss available, skipping.\n"
     ]
    },
    {
     "name": "stdout",
     "output_type": "stream",
     "text": [
      "42/42 [==============================] - 24s 556ms/step - loss: 0.0095 - semantic_0_loss: 0.0027 - semantic_1_loss: 0.0057 - semantic_2_loss: 0.0011 - lr: 3.9668e-05\n",
      "Epoch 94/200\n",
      "42/42 [==============================] - ETA: 0s - loss: 0.0094 - semantic_0_loss: 0.0026 - semantic_1_loss: 0.0057 - semantic_2_loss: 0.0011WARNING:tensorflow:Can save best model only with val_loss available, skipping.\n"
     ]
    },
    {
     "name": "stderr",
     "output_type": "stream",
     "text": [
      "WARNING:tensorflow:Can save best model only with val_loss available, skipping.\n"
     ]
    },
    {
     "name": "stdout",
     "output_type": "stream",
     "text": [
      "42/42 [==============================] - 23s 549ms/step - loss: 0.0094 - semantic_0_loss: 0.0026 - semantic_1_loss: 0.0057 - semantic_2_loss: 0.0011 - lr: 3.9271e-05\n",
      "Epoch 95/200\n",
      "42/42 [==============================] - ETA: 0s - loss: 0.0095 - semantic_0_loss: 0.0027 - semantic_1_loss: 0.0057 - semantic_2_loss: 0.0011WARNING:tensorflow:Can save best model only with val_loss available, skipping.\n"
     ]
    },
    {
     "name": "stderr",
     "output_type": "stream",
     "text": [
      "WARNING:tensorflow:Can save best model only with val_loss available, skipping.\n"
     ]
    },
    {
     "name": "stdout",
     "output_type": "stream",
     "text": [
      "42/42 [==============================] - 24s 555ms/step - loss: 0.0095 - semantic_0_loss: 0.0027 - semantic_1_loss: 0.0057 - semantic_2_loss: 0.0011 - lr: 3.8878e-05\n",
      "Epoch 96/200\n",
      "42/42 [==============================] - ETA: 0s - loss: 0.0096 - semantic_0_loss: 0.0027 - semantic_1_loss: 0.0057 - semantic_2_loss: 0.0011WARNING:tensorflow:Can save best model only with val_loss available, skipping.\n"
     ]
    },
    {
     "name": "stderr",
     "output_type": "stream",
     "text": [
      "WARNING:tensorflow:Can save best model only with val_loss available, skipping.\n"
     ]
    },
    {
     "name": "stdout",
     "output_type": "stream",
     "text": [
      "42/42 [==============================] - 23s 552ms/step - loss: 0.0096 - semantic_0_loss: 0.0027 - semantic_1_loss: 0.0057 - semantic_2_loss: 0.0011 - lr: 3.8490e-05\n",
      "Epoch 97/200\n",
      "42/42 [==============================] - ETA: 0s - loss: 0.0095 - semantic_0_loss: 0.0027 - semantic_1_loss: 0.0057 - semantic_2_loss: 0.0011WARNING:tensorflow:Can save best model only with val_loss available, skipping.\n"
     ]
    },
    {
     "name": "stderr",
     "output_type": "stream",
     "text": [
      "WARNING:tensorflow:Can save best model only with val_loss available, skipping.\n"
     ]
    },
    {
     "name": "stdout",
     "output_type": "stream",
     "text": [
      "42/42 [==============================] - 23s 551ms/step - loss: 0.0095 - semantic_0_loss: 0.0027 - semantic_1_loss: 0.0057 - semantic_2_loss: 0.0011 - lr: 3.8105e-05\n",
      "Epoch 98/200\n",
      "42/42 [==============================] - ETA: 0s - loss: 0.0095 - semantic_0_loss: 0.0027 - semantic_1_loss: 0.0057 - semantic_2_loss: 0.0011WARNING:tensorflow:Can save best model only with val_loss available, skipping.\n"
     ]
    },
    {
     "name": "stderr",
     "output_type": "stream",
     "text": [
      "WARNING:tensorflow:Can save best model only with val_loss available, skipping.\n"
     ]
    },
    {
     "name": "stdout",
     "output_type": "stream",
     "text": [
      "42/42 [==============================] - 23s 554ms/step - loss: 0.0095 - semantic_0_loss: 0.0027 - semantic_1_loss: 0.0057 - semantic_2_loss: 0.0011 - lr: 3.7724e-05\n",
      "Epoch 99/200\n",
      "42/42 [==============================] - ETA: 0s - loss: 0.0093 - semantic_0_loss: 0.0027 - semantic_1_loss: 0.0056 - semantic_2_loss: 0.0011WARNING:tensorflow:Can save best model only with val_loss available, skipping.\n"
     ]
    },
    {
     "name": "stderr",
     "output_type": "stream",
     "text": [
      "WARNING:tensorflow:Can save best model only with val_loss available, skipping.\n"
     ]
    },
    {
     "name": "stdout",
     "output_type": "stream",
     "text": [
      "42/42 [==============================] - 23s 546ms/step - loss: 0.0093 - semantic_0_loss: 0.0027 - semantic_1_loss: 0.0056 - semantic_2_loss: 0.0011 - lr: 3.7346e-05\n",
      "Epoch 100/200\n",
      "42/42 [==============================] - ETA: 0s - loss: 0.0094 - semantic_0_loss: 0.0027 - semantic_1_loss: 0.0056 - semantic_2_loss: 0.0011WARNING:tensorflow:Can save best model only with val_loss available, skipping.\n"
     ]
    },
    {
     "name": "stderr",
     "output_type": "stream",
     "text": [
      "WARNING:tensorflow:Can save best model only with val_loss available, skipping.\n"
     ]
    },
    {
     "name": "stdout",
     "output_type": "stream",
     "text": [
      "42/42 [==============================] - 23s 548ms/step - loss: 0.0094 - semantic_0_loss: 0.0027 - semantic_1_loss: 0.0056 - semantic_2_loss: 0.0011 - lr: 3.6973e-05\n",
      "Epoch 101/200\n",
      "42/42 [==============================] - ETA: 0s - loss: 0.0092 - semantic_0_loss: 0.0026 - semantic_1_loss: 0.0055 - semantic_2_loss: 0.0011WARNING:tensorflow:Can save best model only with val_loss available, skipping.\n"
     ]
    },
    {
     "name": "stderr",
     "output_type": "stream",
     "text": [
      "WARNING:tensorflow:Can save best model only with val_loss available, skipping.\n"
     ]
    },
    {
     "name": "stdout",
     "output_type": "stream",
     "text": [
      "42/42 [==============================] - 23s 548ms/step - loss: 0.0092 - semantic_0_loss: 0.0026 - semantic_1_loss: 0.0055 - semantic_2_loss: 0.0011 - lr: 3.6603e-05\n",
      "Epoch 102/200\n",
      "42/42 [==============================] - ETA: 0s - loss: 0.0096 - semantic_0_loss: 0.0027 - semantic_1_loss: 0.0057 - semantic_2_loss: 0.0011WARNING:tensorflow:Can save best model only with val_loss available, skipping.\n"
     ]
    },
    {
     "name": "stderr",
     "output_type": "stream",
     "text": [
      "WARNING:tensorflow:Can save best model only with val_loss available, skipping.\n"
     ]
    },
    {
     "name": "stdout",
     "output_type": "stream",
     "text": [
      "42/42 [==============================] - 23s 546ms/step - loss: 0.0096 - semantic_0_loss: 0.0027 - semantic_1_loss: 0.0057 - semantic_2_loss: 0.0011 - lr: 3.6237e-05\n",
      "Epoch 103/200\n",
      "42/42 [==============================] - ETA: 0s - loss: 0.0094 - semantic_0_loss: 0.0027 - semantic_1_loss: 0.0057 - semantic_2_loss: 0.0011WARNING:tensorflow:Can save best model only with val_loss available, skipping.\n"
     ]
    },
    {
     "name": "stderr",
     "output_type": "stream",
     "text": [
      "WARNING:tensorflow:Can save best model only with val_loss available, skipping.\n"
     ]
    },
    {
     "name": "stdout",
     "output_type": "stream",
     "text": [
      "42/42 [==============================] - 23s 551ms/step - loss: 0.0094 - semantic_0_loss: 0.0027 - semantic_1_loss: 0.0057 - semantic_2_loss: 0.0011 - lr: 3.5875e-05\n",
      "Epoch 104/200\n",
      "42/42 [==============================] - ETA: 0s - loss: 0.0092 - semantic_0_loss: 0.0026 - semantic_1_loss: 0.0055 - semantic_2_loss: 0.0011WARNING:tensorflow:Can save best model only with val_loss available, skipping.\n"
     ]
    },
    {
     "name": "stderr",
     "output_type": "stream",
     "text": [
      "WARNING:tensorflow:Can save best model only with val_loss available, skipping.\n"
     ]
    },
    {
     "name": "stdout",
     "output_type": "stream",
     "text": [
      "42/42 [==============================] - 24s 562ms/step - loss: 0.0092 - semantic_0_loss: 0.0026 - semantic_1_loss: 0.0055 - semantic_2_loss: 0.0011 - lr: 3.5516e-05\n",
      "Epoch 105/200\n",
      "42/42 [==============================] - ETA: 0s - loss: 0.0093 - semantic_0_loss: 0.0027 - semantic_1_loss: 0.0056 - semantic_2_loss: 0.0011WARNING:tensorflow:Can save best model only with val_loss available, skipping.\n"
     ]
    },
    {
     "name": "stderr",
     "output_type": "stream",
     "text": [
      "WARNING:tensorflow:Can save best model only with val_loss available, skipping.\n"
     ]
    },
    {
     "name": "stdout",
     "output_type": "stream",
     "text": [
      "42/42 [==============================] - 23s 551ms/step - loss: 0.0093 - semantic_0_loss: 0.0027 - semantic_1_loss: 0.0056 - semantic_2_loss: 0.0011 - lr: 3.5161e-05\n",
      "Epoch 106/200\n",
      "42/42 [==============================] - ETA: 0s - loss: 0.0091 - semantic_0_loss: 0.0026 - semantic_1_loss: 0.0055 - semantic_2_loss: 0.0011WARNING:tensorflow:Can save best model only with val_loss available, skipping.\n"
     ]
    },
    {
     "name": "stderr",
     "output_type": "stream",
     "text": [
      "WARNING:tensorflow:Can save best model only with val_loss available, skipping.\n"
     ]
    },
    {
     "name": "stdout",
     "output_type": "stream",
     "text": [
      "42/42 [==============================] - 23s 543ms/step - loss: 0.0091 - semantic_0_loss: 0.0026 - semantic_1_loss: 0.0055 - semantic_2_loss: 0.0011 - lr: 3.4809e-05\n",
      "Epoch 107/200\n",
      "42/42 [==============================] - ETA: 0s - loss: 0.0092 - semantic_0_loss: 0.0026 - semantic_1_loss: 0.0055 - semantic_2_loss: 0.0011WARNING:tensorflow:Can save best model only with val_loss available, skipping.\n"
     ]
    },
    {
     "name": "stderr",
     "output_type": "stream",
     "text": [
      "WARNING:tensorflow:Can save best model only with val_loss available, skipping.\n"
     ]
    },
    {
     "name": "stdout",
     "output_type": "stream",
     "text": [
      "42/42 [==============================] - 23s 551ms/step - loss: 0.0092 - semantic_0_loss: 0.0026 - semantic_1_loss: 0.0055 - semantic_2_loss: 0.0011 - lr: 3.4461e-05\n",
      "Epoch 108/200\n",
      "42/42 [==============================] - ETA: 0s - loss: 0.0091 - semantic_0_loss: 0.0026 - semantic_1_loss: 0.0055 - semantic_2_loss: 0.0011WARNING:tensorflow:Can save best model only with val_loss available, skipping.\n"
     ]
    },
    {
     "name": "stderr",
     "output_type": "stream",
     "text": [
      "WARNING:tensorflow:Can save best model only with val_loss available, skipping.\n"
     ]
    },
    {
     "name": "stdout",
     "output_type": "stream",
     "text": [
      "42/42 [==============================] - 23s 548ms/step - loss: 0.0091 - semantic_0_loss: 0.0026 - semantic_1_loss: 0.0055 - semantic_2_loss: 0.0011 - lr: 3.4117e-05\n",
      "Epoch 109/200\n",
      "42/42 [==============================] - ETA: 0s - loss: 0.0092 - semantic_0_loss: 0.0026 - semantic_1_loss: 0.0055 - semantic_2_loss: 0.0011WARNING:tensorflow:Can save best model only with val_loss available, skipping.\n"
     ]
    },
    {
     "name": "stderr",
     "output_type": "stream",
     "text": [
      "WARNING:tensorflow:Can save best model only with val_loss available, skipping.\n"
     ]
    },
    {
     "name": "stdout",
     "output_type": "stream",
     "text": [
      "42/42 [==============================] - 23s 547ms/step - loss: 0.0092 - semantic_0_loss: 0.0026 - semantic_1_loss: 0.0055 - semantic_2_loss: 0.0011 - lr: 3.3775e-05\n",
      "Epoch 110/200\n",
      "42/42 [==============================] - ETA: 0s - loss: 0.0093 - semantic_0_loss: 0.0027 - semantic_1_loss: 0.0056 - semantic_2_loss: 0.0011WARNING:tensorflow:Can save best model only with val_loss available, skipping.\n"
     ]
    },
    {
     "name": "stderr",
     "output_type": "stream",
     "text": [
      "WARNING:tensorflow:Can save best model only with val_loss available, skipping.\n"
     ]
    },
    {
     "name": "stdout",
     "output_type": "stream",
     "text": [
      "42/42 [==============================] - 23s 538ms/step - loss: 0.0093 - semantic_0_loss: 0.0027 - semantic_1_loss: 0.0056 - semantic_2_loss: 0.0011 - lr: 3.3438e-05\n",
      "Epoch 111/200\n",
      "42/42 [==============================] - ETA: 0s - loss: 0.0091 - semantic_0_loss: 0.0026 - semantic_1_loss: 0.0054 - semantic_2_loss: 0.0011WARNING:tensorflow:Can save best model only with val_loss available, skipping.\n"
     ]
    },
    {
     "name": "stderr",
     "output_type": "stream",
     "text": [
      "WARNING:tensorflow:Can save best model only with val_loss available, skipping.\n"
     ]
    },
    {
     "name": "stdout",
     "output_type": "stream",
     "text": [
      "42/42 [==============================] - 23s 552ms/step - loss: 0.0091 - semantic_0_loss: 0.0026 - semantic_1_loss: 0.0054 - semantic_2_loss: 0.0011 - lr: 3.3103e-05\n",
      "Epoch 112/200\n",
      "42/42 [==============================] - ETA: 0s - loss: 0.0091 - semantic_0_loss: 0.0027 - semantic_1_loss: 0.0054 - semantic_2_loss: 0.0011WARNING:tensorflow:Can save best model only with val_loss available, skipping.\n"
     ]
    },
    {
     "name": "stderr",
     "output_type": "stream",
     "text": [
      "WARNING:tensorflow:Can save best model only with val_loss available, skipping.\n"
     ]
    },
    {
     "name": "stdout",
     "output_type": "stream",
     "text": [
      "42/42 [==============================] - 23s 551ms/step - loss: 0.0091 - semantic_0_loss: 0.0027 - semantic_1_loss: 0.0054 - semantic_2_loss: 0.0011 - lr: 3.2772e-05\n",
      "Epoch 113/200\n",
      "42/42 [==============================] - ETA: 0s - loss: 0.0092 - semantic_0_loss: 0.0027 - semantic_1_loss: 0.0055 - semantic_2_loss: 0.0011WARNING:tensorflow:Can save best model only with val_loss available, skipping.\n"
     ]
    },
    {
     "name": "stderr",
     "output_type": "stream",
     "text": [
      "WARNING:tensorflow:Can save best model only with val_loss available, skipping.\n"
     ]
    },
    {
     "name": "stdout",
     "output_type": "stream",
     "text": [
      "42/42 [==============================] - 24s 565ms/step - loss: 0.0092 - semantic_0_loss: 0.0027 - semantic_1_loss: 0.0055 - semantic_2_loss: 0.0011 - lr: 3.2445e-05\n",
      "Epoch 114/200\n",
      "42/42 [==============================] - ETA: 0s - loss: 0.0091 - semantic_0_loss: 0.0026 - semantic_1_loss: 0.0054 - semantic_2_loss: 0.0011WARNING:tensorflow:Can save best model only with val_loss available, skipping.\n"
     ]
    },
    {
     "name": "stderr",
     "output_type": "stream",
     "text": [
      "WARNING:tensorflow:Can save best model only with val_loss available, skipping.\n"
     ]
    },
    {
     "name": "stdout",
     "output_type": "stream",
     "text": [
      "42/42 [==============================] - 23s 541ms/step - loss: 0.0091 - semantic_0_loss: 0.0026 - semantic_1_loss: 0.0054 - semantic_2_loss: 0.0011 - lr: 3.2120e-05\n",
      "Epoch 115/200\n",
      "42/42 [==============================] - ETA: 0s - loss: 0.0092 - semantic_0_loss: 0.0027 - semantic_1_loss: 0.0055 - semantic_2_loss: 0.0011WARNING:tensorflow:Can save best model only with val_loss available, skipping.\n"
     ]
    },
    {
     "name": "stderr",
     "output_type": "stream",
     "text": [
      "WARNING:tensorflow:Can save best model only with val_loss available, skipping.\n"
     ]
    },
    {
     "name": "stdout",
     "output_type": "stream",
     "text": [
      "42/42 [==============================] - 23s 554ms/step - loss: 0.0092 - semantic_0_loss: 0.0027 - semantic_1_loss: 0.0055 - semantic_2_loss: 0.0011 - lr: 3.1799e-05\n",
      "Epoch 116/200\n",
      "42/42 [==============================] - ETA: 0s - loss: 0.0089 - semantic_0_loss: 0.0026 - semantic_1_loss: 0.0053 - semantic_2_loss: 0.0011WARNING:tensorflow:Can save best model only with val_loss available, skipping.\n"
     ]
    },
    {
     "name": "stderr",
     "output_type": "stream",
     "text": [
      "WARNING:tensorflow:Can save best model only with val_loss available, skipping.\n"
     ]
    },
    {
     "name": "stdout",
     "output_type": "stream",
     "text": [
      "42/42 [==============================] - 24s 558ms/step - loss: 0.0089 - semantic_0_loss: 0.0026 - semantic_1_loss: 0.0053 - semantic_2_loss: 0.0011 - lr: 3.1481e-05\n",
      "Epoch 117/200\n",
      "42/42 [==============================] - ETA: 0s - loss: 0.0090 - semantic_0_loss: 0.0026 - semantic_1_loss: 0.0054 - semantic_2_loss: 0.0011WARNING:tensorflow:Can save best model only with val_loss available, skipping.\n"
     ]
    },
    {
     "name": "stderr",
     "output_type": "stream",
     "text": [
      "WARNING:tensorflow:Can save best model only with val_loss available, skipping.\n"
     ]
    },
    {
     "name": "stdout",
     "output_type": "stream",
     "text": [
      "42/42 [==============================] - 23s 563ms/step - loss: 0.0090 - semantic_0_loss: 0.0026 - semantic_1_loss: 0.0054 - semantic_2_loss: 0.0011 - lr: 3.1166e-05\n",
      "Epoch 118/200\n",
      "42/42 [==============================] - ETA: 0s - loss: 0.0089 - semantic_0_loss: 0.0026 - semantic_1_loss: 0.0053 - semantic_2_loss: 0.0011WARNING:tensorflow:Can save best model only with val_loss available, skipping.\n"
     ]
    },
    {
     "name": "stderr",
     "output_type": "stream",
     "text": [
      "WARNING:tensorflow:Can save best model only with val_loss available, skipping.\n"
     ]
    },
    {
     "name": "stdout",
     "output_type": "stream",
     "text": [
      "42/42 [==============================] - 23s 546ms/step - loss: 0.0089 - semantic_0_loss: 0.0026 - semantic_1_loss: 0.0053 - semantic_2_loss: 0.0011 - lr: 3.0854e-05\n",
      "Epoch 119/200\n",
      "42/42 [==============================] - ETA: 0s - loss: 0.0089 - semantic_0_loss: 0.0026 - semantic_1_loss: 0.0053 - semantic_2_loss: 0.0010WARNING:tensorflow:Can save best model only with val_loss available, skipping.\n"
     ]
    },
    {
     "name": "stderr",
     "output_type": "stream",
     "text": [
      "WARNING:tensorflow:Can save best model only with val_loss available, skipping.\n"
     ]
    },
    {
     "name": "stdout",
     "output_type": "stream",
     "text": [
      "42/42 [==============================] - 24s 555ms/step - loss: 0.0089 - semantic_0_loss: 0.0026 - semantic_1_loss: 0.0053 - semantic_2_loss: 0.0010 - lr: 3.0546e-05\n",
      "Epoch 120/200\n",
      "42/42 [==============================] - ETA: 0s - loss: 0.0090 - semantic_0_loss: 0.0026 - semantic_1_loss: 0.0054 - semantic_2_loss: 0.0011WARNING:tensorflow:Can save best model only with val_loss available, skipping.\n"
     ]
    },
    {
     "name": "stderr",
     "output_type": "stream",
     "text": [
      "WARNING:tensorflow:Can save best model only with val_loss available, skipping.\n"
     ]
    },
    {
     "name": "stdout",
     "output_type": "stream",
     "text": [
      "42/42 [==============================] - 23s 547ms/step - loss: 0.0090 - semantic_0_loss: 0.0026 - semantic_1_loss: 0.0054 - semantic_2_loss: 0.0011 - lr: 3.0240e-05\n",
      "Epoch 121/200\n",
      "42/42 [==============================] - ETA: 0s - loss: 0.0089 - semantic_0_loss: 0.0026 - semantic_1_loss: 0.0053 - semantic_2_loss: 0.0011WARNING:tensorflow:Can save best model only with val_loss available, skipping.\n"
     ]
    },
    {
     "name": "stderr",
     "output_type": "stream",
     "text": [
      "WARNING:tensorflow:Can save best model only with val_loss available, skipping.\n"
     ]
    },
    {
     "name": "stdout",
     "output_type": "stream",
     "text": [
      "42/42 [==============================] - 24s 562ms/step - loss: 0.0089 - semantic_0_loss: 0.0026 - semantic_1_loss: 0.0053 - semantic_2_loss: 0.0011 - lr: 2.9938e-05\n",
      "Epoch 122/200\n",
      "42/42 [==============================] - ETA: 0s - loss: 0.0091 - semantic_0_loss: 0.0026 - semantic_1_loss: 0.0054 - semantic_2_loss: 0.0011WARNING:tensorflow:Can save best model only with val_loss available, skipping.\n"
     ]
    },
    {
     "name": "stderr",
     "output_type": "stream",
     "text": [
      "WARNING:tensorflow:Can save best model only with val_loss available, skipping.\n"
     ]
    },
    {
     "name": "stdout",
     "output_type": "stream",
     "text": [
      "42/42 [==============================] - 23s 552ms/step - loss: 0.0091 - semantic_0_loss: 0.0026 - semantic_1_loss: 0.0054 - semantic_2_loss: 0.0011 - lr: 2.9639e-05\n",
      "Epoch 123/200\n",
      "42/42 [==============================] - ETA: 0s - loss: 0.0092 - semantic_0_loss: 0.0026 - semantic_1_loss: 0.0055 - semantic_2_loss: 0.0011WARNING:tensorflow:Can save best model only with val_loss available, skipping.\n"
     ]
    },
    {
     "name": "stderr",
     "output_type": "stream",
     "text": [
      "WARNING:tensorflow:Can save best model only with val_loss available, skipping.\n"
     ]
    },
    {
     "name": "stdout",
     "output_type": "stream",
     "text": [
      "42/42 [==============================] - 24s 553ms/step - loss: 0.0092 - semantic_0_loss: 0.0026 - semantic_1_loss: 0.0055 - semantic_2_loss: 0.0011 - lr: 2.9342e-05\n",
      "Epoch 124/200\n",
      "42/42 [==============================] - ETA: 0s - loss: 0.0088 - semantic_0_loss: 0.0026 - semantic_1_loss: 0.0052 - semantic_2_loss: 0.0011WARNING:tensorflow:Can save best model only with val_loss available, skipping.\n"
     ]
    },
    {
     "name": "stderr",
     "output_type": "stream",
     "text": [
      "WARNING:tensorflow:Can save best model only with val_loss available, skipping.\n"
     ]
    },
    {
     "name": "stdout",
     "output_type": "stream",
     "text": [
      "42/42 [==============================] - 23s 546ms/step - loss: 0.0088 - semantic_0_loss: 0.0026 - semantic_1_loss: 0.0052 - semantic_2_loss: 0.0011 - lr: 2.9049e-05\n",
      "Epoch 125/200\n",
      "42/42 [==============================] - ETA: 0s - loss: 0.0090 - semantic_0_loss: 0.0026 - semantic_1_loss: 0.0053 - semantic_2_loss: 0.0011WARNING:tensorflow:Can save best model only with val_loss available, skipping.\n"
     ]
    },
    {
     "name": "stderr",
     "output_type": "stream",
     "text": [
      "WARNING:tensorflow:Can save best model only with val_loss available, skipping.\n"
     ]
    },
    {
     "name": "stdout",
     "output_type": "stream",
     "text": [
      "42/42 [==============================] - 24s 561ms/step - loss: 0.0090 - semantic_0_loss: 0.0026 - semantic_1_loss: 0.0053 - semantic_2_loss: 0.0011 - lr: 2.8758e-05\n",
      "Epoch 126/200\n",
      "42/42 [==============================] - ETA: 0s - loss: 0.0089 - semantic_0_loss: 0.0026 - semantic_1_loss: 0.0053 - semantic_2_loss: 0.0011WARNING:tensorflow:Can save best model only with val_loss available, skipping.\n"
     ]
    },
    {
     "name": "stderr",
     "output_type": "stream",
     "text": [
      "WARNING:tensorflow:Can save best model only with val_loss available, skipping.\n"
     ]
    },
    {
     "name": "stdout",
     "output_type": "stream",
     "text": [
      "42/42 [==============================] - 23s 558ms/step - loss: 0.0089 - semantic_0_loss: 0.0026 - semantic_1_loss: 0.0053 - semantic_2_loss: 0.0011 - lr: 2.8471e-05\n",
      "Epoch 127/200\n",
      "42/42 [==============================] - ETA: 0s - loss: 0.0089 - semantic_0_loss: 0.0026 - semantic_1_loss: 0.0053 - semantic_2_loss: 0.0010WARNING:tensorflow:Can save best model only with val_loss available, skipping.\n"
     ]
    },
    {
     "name": "stderr",
     "output_type": "stream",
     "text": [
      "WARNING:tensorflow:Can save best model only with val_loss available, skipping.\n"
     ]
    },
    {
     "name": "stdout",
     "output_type": "stream",
     "text": [
      "42/42 [==============================] - 23s 549ms/step - loss: 0.0089 - semantic_0_loss: 0.0026 - semantic_1_loss: 0.0053 - semantic_2_loss: 0.0010 - lr: 2.8186e-05\n",
      "Epoch 128/200\n",
      "42/42 [==============================] - ETA: 0s - loss: 0.0090 - semantic_0_loss: 0.0026 - semantic_1_loss: 0.0053 - semantic_2_loss: 0.0011WARNING:tensorflow:Can save best model only with val_loss available, skipping.\n"
     ]
    },
    {
     "name": "stderr",
     "output_type": "stream",
     "text": [
      "WARNING:tensorflow:Can save best model only with val_loss available, skipping.\n"
     ]
    },
    {
     "name": "stdout",
     "output_type": "stream",
     "text": [
      "42/42 [==============================] - 23s 555ms/step - loss: 0.0090 - semantic_0_loss: 0.0026 - semantic_1_loss: 0.0053 - semantic_2_loss: 0.0011 - lr: 2.7904e-05\n",
      "Epoch 129/200\n",
      "42/42 [==============================] - ETA: 0s - loss: 0.0087 - semantic_0_loss: 0.0025 - semantic_1_loss: 0.0051 - semantic_2_loss: 0.0010WARNING:tensorflow:Can save best model only with val_loss available, skipping.\n"
     ]
    },
    {
     "name": "stderr",
     "output_type": "stream",
     "text": [
      "WARNING:tensorflow:Can save best model only with val_loss available, skipping.\n"
     ]
    },
    {
     "name": "stdout",
     "output_type": "stream",
     "text": [
      "42/42 [==============================] - 23s 552ms/step - loss: 0.0087 - semantic_0_loss: 0.0025 - semantic_1_loss: 0.0051 - semantic_2_loss: 0.0010 - lr: 2.7625e-05\n",
      "Epoch 130/200\n",
      "42/42 [==============================] - ETA: 0s - loss: 0.0089 - semantic_0_loss: 0.0026 - semantic_1_loss: 0.0052 - semantic_2_loss: 0.0011WARNING:tensorflow:Can save best model only with val_loss available, skipping.\n"
     ]
    },
    {
     "name": "stderr",
     "output_type": "stream",
     "text": [
      "WARNING:tensorflow:Can save best model only with val_loss available, skipping.\n"
     ]
    },
    {
     "name": "stdout",
     "output_type": "stream",
     "text": [
      "42/42 [==============================] - 23s 547ms/step - loss: 0.0089 - semantic_0_loss: 0.0026 - semantic_1_loss: 0.0052 - semantic_2_loss: 0.0011 - lr: 2.7349e-05\n",
      "Epoch 131/200\n",
      "42/42 [==============================] - ETA: 0s - loss: 0.0087 - semantic_0_loss: 0.0025 - semantic_1_loss: 0.0051 - semantic_2_loss: 0.0010WARNING:tensorflow:Can save best model only with val_loss available, skipping.\n"
     ]
    },
    {
     "name": "stderr",
     "output_type": "stream",
     "text": [
      "WARNING:tensorflow:Can save best model only with val_loss available, skipping.\n"
     ]
    },
    {
     "name": "stdout",
     "output_type": "stream",
     "text": [
      "42/42 [==============================] - 23s 552ms/step - loss: 0.0087 - semantic_0_loss: 0.0025 - semantic_1_loss: 0.0051 - semantic_2_loss: 0.0010 - lr: 2.7075e-05\n",
      "Epoch 132/200\n",
      "42/42 [==============================] - ETA: 0s - loss: 0.0087 - semantic_0_loss: 0.0025 - semantic_1_loss: 0.0051 - semantic_2_loss: 0.0010WARNING:tensorflow:Can save best model only with val_loss available, skipping.\n"
     ]
    },
    {
     "name": "stderr",
     "output_type": "stream",
     "text": [
      "WARNING:tensorflow:Can save best model only with val_loss available, skipping.\n"
     ]
    },
    {
     "name": "stdout",
     "output_type": "stream",
     "text": [
      "42/42 [==============================] - 23s 545ms/step - loss: 0.0087 - semantic_0_loss: 0.0025 - semantic_1_loss: 0.0051 - semantic_2_loss: 0.0010 - lr: 2.6805e-05\n",
      "Epoch 133/200\n",
      "42/42 [==============================] - ETA: 0s - loss: 0.0088 - semantic_0_loss: 0.0026 - semantic_1_loss: 0.0052 - semantic_2_loss: 0.0010WARNING:tensorflow:Can save best model only with val_loss available, skipping.\n"
     ]
    },
    {
     "name": "stderr",
     "output_type": "stream",
     "text": [
      "WARNING:tensorflow:Can save best model only with val_loss available, skipping.\n"
     ]
    },
    {
     "name": "stdout",
     "output_type": "stream",
     "text": [
      "42/42 [==============================] - 24s 566ms/step - loss: 0.0088 - semantic_0_loss: 0.0026 - semantic_1_loss: 0.0052 - semantic_2_loss: 0.0010 - lr: 2.6537e-05\n",
      "Epoch 134/200\n",
      "42/42 [==============================] - ETA: 0s - loss: 0.0089 - semantic_0_loss: 0.0026 - semantic_1_loss: 0.0053 - semantic_2_loss: 0.0011WARNING:tensorflow:Can save best model only with val_loss available, skipping.\n"
     ]
    },
    {
     "name": "stderr",
     "output_type": "stream",
     "text": [
      "WARNING:tensorflow:Can save best model only with val_loss available, skipping.\n"
     ]
    },
    {
     "name": "stdout",
     "output_type": "stream",
     "text": [
      "42/42 [==============================] - 23s 554ms/step - loss: 0.0089 - semantic_0_loss: 0.0026 - semantic_1_loss: 0.0053 - semantic_2_loss: 0.0011 - lr: 2.6271e-05\n",
      "Epoch 135/200\n",
      "42/42 [==============================] - ETA: 0s - loss: 0.0087 - semantic_0_loss: 0.0025 - semantic_1_loss: 0.0052 - semantic_2_loss: 0.0010WARNING:tensorflow:Can save best model only with val_loss available, skipping.\n"
     ]
    },
    {
     "name": "stderr",
     "output_type": "stream",
     "text": [
      "WARNING:tensorflow:Can save best model only with val_loss available, skipping.\n"
     ]
    },
    {
     "name": "stdout",
     "output_type": "stream",
     "text": [
      "42/42 [==============================] - 23s 563ms/step - loss: 0.0087 - semantic_0_loss: 0.0025 - semantic_1_loss: 0.0052 - semantic_2_loss: 0.0010 - lr: 2.6009e-05\n",
      "Epoch 136/200\n",
      "42/42 [==============================] - ETA: 0s - loss: 0.0086 - semantic_0_loss: 0.0025 - semantic_1_loss: 0.0051 - semantic_2_loss: 0.0010WARNING:tensorflow:Can save best model only with val_loss available, skipping.\n"
     ]
    },
    {
     "name": "stderr",
     "output_type": "stream",
     "text": [
      "WARNING:tensorflow:Can save best model only with val_loss available, skipping.\n"
     ]
    },
    {
     "name": "stdout",
     "output_type": "stream",
     "text": [
      "42/42 [==============================] - 23s 549ms/step - loss: 0.0086 - semantic_0_loss: 0.0025 - semantic_1_loss: 0.0051 - semantic_2_loss: 0.0010 - lr: 2.5748e-05\n",
      "Epoch 137/200\n",
      "42/42 [==============================] - ETA: 0s - loss: 0.0088 - semantic_0_loss: 0.0026 - semantic_1_loss: 0.0052 - semantic_2_loss: 0.0011WARNING:tensorflow:Can save best model only with val_loss available, skipping.\n"
     ]
    },
    {
     "name": "stderr",
     "output_type": "stream",
     "text": [
      "WARNING:tensorflow:Can save best model only with val_loss available, skipping.\n"
     ]
    },
    {
     "name": "stdout",
     "output_type": "stream",
     "text": [
      "42/42 [==============================] - 23s 548ms/step - loss: 0.0088 - semantic_0_loss: 0.0026 - semantic_1_loss: 0.0052 - semantic_2_loss: 0.0011 - lr: 2.5491e-05\n",
      "Epoch 138/200\n",
      "42/42 [==============================] - ETA: 0s - loss: 0.0086 - semantic_0_loss: 0.0025 - semantic_1_loss: 0.0051 - semantic_2_loss: 0.0010WARNING:tensorflow:Can save best model only with val_loss available, skipping.\n"
     ]
    },
    {
     "name": "stderr",
     "output_type": "stream",
     "text": [
      "WARNING:tensorflow:Can save best model only with val_loss available, skipping.\n"
     ]
    },
    {
     "name": "stdout",
     "output_type": "stream",
     "text": [
      "42/42 [==============================] - 23s 551ms/step - loss: 0.0086 - semantic_0_loss: 0.0025 - semantic_1_loss: 0.0051 - semantic_2_loss: 0.0010 - lr: 2.5236e-05\n",
      "Epoch 139/200\n",
      "42/42 [==============================] - ETA: 0s - loss: 0.0088 - semantic_0_loss: 0.0026 - semantic_1_loss: 0.0052 - semantic_2_loss: 0.0010WARNING:tensorflow:Can save best model only with val_loss available, skipping.\n"
     ]
    },
    {
     "name": "stderr",
     "output_type": "stream",
     "text": [
      "WARNING:tensorflow:Can save best model only with val_loss available, skipping.\n"
     ]
    },
    {
     "name": "stdout",
     "output_type": "stream",
     "text": [
      "42/42 [==============================] - 23s 550ms/step - loss: 0.0088 - semantic_0_loss: 0.0026 - semantic_1_loss: 0.0052 - semantic_2_loss: 0.0010 - lr: 2.4984e-05\n",
      "Epoch 140/200\n",
      "42/42 [==============================] - ETA: 0s - loss: 0.0085 - semantic_0_loss: 0.0025 - semantic_1_loss: 0.0050 - semantic_2_loss: 0.0010WARNING:tensorflow:Can save best model only with val_loss available, skipping.\n"
     ]
    },
    {
     "name": "stderr",
     "output_type": "stream",
     "text": [
      "WARNING:tensorflow:Can save best model only with val_loss available, skipping.\n"
     ]
    },
    {
     "name": "stdout",
     "output_type": "stream",
     "text": [
      "42/42 [==============================] - 23s 546ms/step - loss: 0.0085 - semantic_0_loss: 0.0025 - semantic_1_loss: 0.0050 - semantic_2_loss: 0.0010 - lr: 2.4734e-05\n",
      "Epoch 141/200\n",
      "42/42 [==============================] - ETA: 0s - loss: 0.0086 - semantic_0_loss: 0.0025 - semantic_1_loss: 0.0050 - semantic_2_loss: 0.0010WARNING:tensorflow:Can save best model only with val_loss available, skipping.\n"
     ]
    },
    {
     "name": "stderr",
     "output_type": "stream",
     "text": [
      "WARNING:tensorflow:Can save best model only with val_loss available, skipping.\n"
     ]
    },
    {
     "name": "stdout",
     "output_type": "stream",
     "text": [
      "42/42 [==============================] - 23s 550ms/step - loss: 0.0086 - semantic_0_loss: 0.0025 - semantic_1_loss: 0.0050 - semantic_2_loss: 0.0010 - lr: 2.4487e-05\n",
      "Epoch 142/200\n",
      "42/42 [==============================] - ETA: 0s - loss: 0.0088 - semantic_0_loss: 0.0026 - semantic_1_loss: 0.0052 - semantic_2_loss: 0.0010WARNING:tensorflow:Can save best model only with val_loss available, skipping.\n"
     ]
    },
    {
     "name": "stderr",
     "output_type": "stream",
     "text": [
      "WARNING:tensorflow:Can save best model only with val_loss available, skipping.\n"
     ]
    },
    {
     "name": "stdout",
     "output_type": "stream",
     "text": [
      "42/42 [==============================] - 23s 548ms/step - loss: 0.0088 - semantic_0_loss: 0.0026 - semantic_1_loss: 0.0052 - semantic_2_loss: 0.0010 - lr: 2.4242e-05\n",
      "Epoch 143/200\n",
      "42/42 [==============================] - ETA: 0s - loss: 0.0085 - semantic_0_loss: 0.0025 - semantic_1_loss: 0.0050 - semantic_2_loss: 0.0010WARNING:tensorflow:Can save best model only with val_loss available, skipping.\n"
     ]
    },
    {
     "name": "stderr",
     "output_type": "stream",
     "text": [
      "WARNING:tensorflow:Can save best model only with val_loss available, skipping.\n"
     ]
    },
    {
     "name": "stdout",
     "output_type": "stream",
     "text": [
      "42/42 [==============================] - 23s 542ms/step - loss: 0.0085 - semantic_0_loss: 0.0025 - semantic_1_loss: 0.0050 - semantic_2_loss: 0.0010 - lr: 2.3999e-05\n",
      "Epoch 144/200\n",
      "42/42 [==============================] - ETA: 0s - loss: 0.0086 - semantic_0_loss: 0.0025 - semantic_1_loss: 0.0051 - semantic_2_loss: 0.0010WARNING:tensorflow:Can save best model only with val_loss available, skipping.\n"
     ]
    },
    {
     "name": "stderr",
     "output_type": "stream",
     "text": [
      "WARNING:tensorflow:Can save best model only with val_loss available, skipping.\n"
     ]
    },
    {
     "name": "stdout",
     "output_type": "stream",
     "text": [
      "42/42 [==============================] - 23s 548ms/step - loss: 0.0086 - semantic_0_loss: 0.0025 - semantic_1_loss: 0.0051 - semantic_2_loss: 0.0010 - lr: 2.3759e-05\n",
      "Epoch 145/200\n",
      "42/42 [==============================] - ETA: 0s - loss: 0.0087 - semantic_0_loss: 0.0026 - semantic_1_loss: 0.0051 - semantic_2_loss: 0.0010WARNING:tensorflow:Can save best model only with val_loss available, skipping.\n"
     ]
    },
    {
     "name": "stderr",
     "output_type": "stream",
     "text": [
      "WARNING:tensorflow:Can save best model only with val_loss available, skipping.\n"
     ]
    },
    {
     "name": "stdout",
     "output_type": "stream",
     "text": [
      "42/42 [==============================] - 23s 555ms/step - loss: 0.0087 - semantic_0_loss: 0.0026 - semantic_1_loss: 0.0051 - semantic_2_loss: 0.0010 - lr: 2.3522e-05\n",
      "Epoch 146/200\n",
      "42/42 [==============================] - ETA: 0s - loss: 0.0086 - semantic_0_loss: 0.0025 - semantic_1_loss: 0.0051 - semantic_2_loss: 0.0010WARNING:tensorflow:Can save best model only with val_loss available, skipping.\n"
     ]
    },
    {
     "name": "stderr",
     "output_type": "stream",
     "text": [
      "WARNING:tensorflow:Can save best model only with val_loss available, skipping.\n"
     ]
    },
    {
     "name": "stdout",
     "output_type": "stream",
     "text": [
      "42/42 [==============================] - 24s 560ms/step - loss: 0.0086 - semantic_0_loss: 0.0025 - semantic_1_loss: 0.0051 - semantic_2_loss: 0.0010 - lr: 2.3286e-05\n",
      "Epoch 147/200\n",
      "42/42 [==============================] - ETA: 0s - loss: 0.0085 - semantic_0_loss: 0.0025 - semantic_1_loss: 0.0050 - semantic_2_loss: 0.0010WARNING:tensorflow:Can save best model only with val_loss available, skipping.\n"
     ]
    },
    {
     "name": "stderr",
     "output_type": "stream",
     "text": [
      "WARNING:tensorflow:Can save best model only with val_loss available, skipping.\n"
     ]
    },
    {
     "name": "stdout",
     "output_type": "stream",
     "text": [
      "42/42 [==============================] - 24s 564ms/step - loss: 0.0085 - semantic_0_loss: 0.0025 - semantic_1_loss: 0.0050 - semantic_2_loss: 0.0010 - lr: 2.3054e-05\n",
      "Epoch 148/200\n",
      "42/42 [==============================] - ETA: 0s - loss: 0.0086 - semantic_0_loss: 0.0025 - semantic_1_loss: 0.0050 - semantic_2_loss: 0.0010WARNING:tensorflow:Can save best model only with val_loss available, skipping.\n"
     ]
    },
    {
     "name": "stderr",
     "output_type": "stream",
     "text": [
      "WARNING:tensorflow:Can save best model only with val_loss available, skipping.\n"
     ]
    },
    {
     "name": "stdout",
     "output_type": "stream",
     "text": [
      "42/42 [==============================] - 23s 548ms/step - loss: 0.0086 - semantic_0_loss: 0.0025 - semantic_1_loss: 0.0050 - semantic_2_loss: 0.0010 - lr: 2.2823e-05\n",
      "Epoch 149/200\n",
      "42/42 [==============================] - ETA: 0s - loss: 0.0087 - semantic_0_loss: 0.0026 - semantic_1_loss: 0.0051 - semantic_2_loss: 0.0010WARNING:tensorflow:Can save best model only with val_loss available, skipping.\n"
     ]
    },
    {
     "name": "stderr",
     "output_type": "stream",
     "text": [
      "WARNING:tensorflow:Can save best model only with val_loss available, skipping.\n"
     ]
    },
    {
     "name": "stdout",
     "output_type": "stream",
     "text": [
      "42/42 [==============================] - 24s 558ms/step - loss: 0.0087 - semantic_0_loss: 0.0026 - semantic_1_loss: 0.0051 - semantic_2_loss: 0.0010 - lr: 2.2595e-05\n",
      "Epoch 150/200\n",
      "42/42 [==============================] - ETA: 0s - loss: 0.0086 - semantic_0_loss: 0.0025 - semantic_1_loss: 0.0051 - semantic_2_loss: 0.0010WARNING:tensorflow:Can save best model only with val_loss available, skipping.\n"
     ]
    },
    {
     "name": "stderr",
     "output_type": "stream",
     "text": [
      "WARNING:tensorflow:Can save best model only with val_loss available, skipping.\n"
     ]
    },
    {
     "name": "stdout",
     "output_type": "stream",
     "text": [
      "42/42 [==============================] - 23s 552ms/step - loss: 0.0086 - semantic_0_loss: 0.0025 - semantic_1_loss: 0.0051 - semantic_2_loss: 0.0010 - lr: 2.2369e-05\n",
      "Epoch 151/200\n",
      "42/42 [==============================] - ETA: 0s - loss: 0.0086 - semantic_0_loss: 0.0025 - semantic_1_loss: 0.0051 - semantic_2_loss: 0.0010WARNING:tensorflow:Can save best model only with val_loss available, skipping.\n"
     ]
    },
    {
     "name": "stderr",
     "output_type": "stream",
     "text": [
      "WARNING:tensorflow:Can save best model only with val_loss available, skipping.\n"
     ]
    },
    {
     "name": "stdout",
     "output_type": "stream",
     "text": [
      "42/42 [==============================] - 24s 556ms/step - loss: 0.0086 - semantic_0_loss: 0.0025 - semantic_1_loss: 0.0051 - semantic_2_loss: 0.0010 - lr: 2.2145e-05\n",
      "Epoch 152/200\n",
      "42/42 [==============================] - ETA: 0s - loss: 0.0085 - semantic_0_loss: 0.0025 - semantic_1_loss: 0.0050 - semantic_2_loss: 0.0010WARNING:tensorflow:Can save best model only with val_loss available, skipping.\n"
     ]
    },
    {
     "name": "stderr",
     "output_type": "stream",
     "text": [
      "WARNING:tensorflow:Can save best model only with val_loss available, skipping.\n"
     ]
    },
    {
     "name": "stdout",
     "output_type": "stream",
     "text": [
      "42/42 [==============================] - 24s 558ms/step - loss: 0.0085 - semantic_0_loss: 0.0025 - semantic_1_loss: 0.0050 - semantic_2_loss: 0.0010 - lr: 2.1924e-05\n",
      "Epoch 153/200\n",
      "42/42 [==============================] - ETA: 0s - loss: 0.0087 - semantic_0_loss: 0.0025 - semantic_1_loss: 0.0051 - semantic_2_loss: 0.0010WARNING:tensorflow:Can save best model only with val_loss available, skipping.\n"
     ]
    },
    {
     "name": "stderr",
     "output_type": "stream",
     "text": [
      "WARNING:tensorflow:Can save best model only with val_loss available, skipping.\n"
     ]
    },
    {
     "name": "stdout",
     "output_type": "stream",
     "text": [
      "42/42 [==============================] - 23s 550ms/step - loss: 0.0087 - semantic_0_loss: 0.0025 - semantic_1_loss: 0.0051 - semantic_2_loss: 0.0010 - lr: 2.1704e-05\n",
      "Epoch 154/200\n",
      "42/42 [==============================] - ETA: 0s - loss: 0.0084 - semantic_0_loss: 0.0024 - semantic_1_loss: 0.0050 - semantic_2_loss: 0.0010WARNING:tensorflow:Can save best model only with val_loss available, skipping.\n"
     ]
    },
    {
     "name": "stderr",
     "output_type": "stream",
     "text": [
      "WARNING:tensorflow:Can save best model only with val_loss available, skipping.\n"
     ]
    },
    {
     "name": "stdout",
     "output_type": "stream",
     "text": [
      "42/42 [==============================] - 23s 549ms/step - loss: 0.0084 - semantic_0_loss: 0.0024 - semantic_1_loss: 0.0050 - semantic_2_loss: 0.0010 - lr: 2.1487e-05\n",
      "Epoch 155/200\n",
      "42/42 [==============================] - ETA: 0s - loss: 0.0084 - semantic_0_loss: 0.0025 - semantic_1_loss: 0.0049 - semantic_2_loss: 0.0010WARNING:tensorflow:Can save best model only with val_loss available, skipping.\n"
     ]
    },
    {
     "name": "stderr",
     "output_type": "stream",
     "text": [
      "WARNING:tensorflow:Can save best model only with val_loss available, skipping.\n"
     ]
    },
    {
     "name": "stdout",
     "output_type": "stream",
     "text": [
      "42/42 [==============================] - 23s 551ms/step - loss: 0.0084 - semantic_0_loss: 0.0025 - semantic_1_loss: 0.0049 - semantic_2_loss: 0.0010 - lr: 2.1273e-05\n",
      "Epoch 156/200\n",
      "42/42 [==============================] - ETA: 0s - loss: 0.0085 - semantic_0_loss: 0.0025 - semantic_1_loss: 0.0050 - semantic_2_loss: 0.0010WARNING:tensorflow:Can save best model only with val_loss available, skipping.\n"
     ]
    },
    {
     "name": "stderr",
     "output_type": "stream",
     "text": [
      "WARNING:tensorflow:Can save best model only with val_loss available, skipping.\n"
     ]
    },
    {
     "name": "stdout",
     "output_type": "stream",
     "text": [
      "42/42 [==============================] - 24s 555ms/step - loss: 0.0085 - semantic_0_loss: 0.0025 - semantic_1_loss: 0.0050 - semantic_2_loss: 0.0010 - lr: 2.1060e-05\n",
      "Epoch 157/200\n",
      "42/42 [==============================] - ETA: 0s - loss: 0.0085 - semantic_0_loss: 0.0025 - semantic_1_loss: 0.0050 - semantic_2_loss: 0.0010WARNING:tensorflow:Can save best model only with val_loss available, skipping.\n"
     ]
    },
    {
     "name": "stderr",
     "output_type": "stream",
     "text": [
      "WARNING:tensorflow:Can save best model only with val_loss available, skipping.\n"
     ]
    },
    {
     "name": "stdout",
     "output_type": "stream",
     "text": [
      "42/42 [==============================] - 23s 545ms/step - loss: 0.0085 - semantic_0_loss: 0.0025 - semantic_1_loss: 0.0050 - semantic_2_loss: 0.0010 - lr: 2.0849e-05\n",
      "Epoch 158/200\n",
      "42/42 [==============================] - ETA: 0s - loss: 0.0084 - semantic_0_loss: 0.0024 - semantic_1_loss: 0.0049 - semantic_2_loss: 0.0010WARNING:tensorflow:Can save best model only with val_loss available, skipping.\n"
     ]
    },
    {
     "name": "stderr",
     "output_type": "stream",
     "text": [
      "WARNING:tensorflow:Can save best model only with val_loss available, skipping.\n"
     ]
    },
    {
     "name": "stdout",
     "output_type": "stream",
     "text": [
      "42/42 [==============================] - 24s 557ms/step - loss: 0.0084 - semantic_0_loss: 0.0024 - semantic_1_loss: 0.0049 - semantic_2_loss: 0.0010 - lr: 2.0641e-05\n",
      "Epoch 159/200\n",
      "42/42 [==============================] - ETA: 0s - loss: 0.0086 - semantic_0_loss: 0.0025 - semantic_1_loss: 0.0051 - semantic_2_loss: 0.0010WARNING:tensorflow:Can save best model only with val_loss available, skipping.\n"
     ]
    },
    {
     "name": "stderr",
     "output_type": "stream",
     "text": [
      "WARNING:tensorflow:Can save best model only with val_loss available, skipping.\n"
     ]
    },
    {
     "name": "stdout",
     "output_type": "stream",
     "text": [
      "42/42 [==============================] - 24s 563ms/step - loss: 0.0086 - semantic_0_loss: 0.0025 - semantic_1_loss: 0.0051 - semantic_2_loss: 0.0010 - lr: 2.0434e-05\n",
      "Epoch 160/200\n",
      "42/42 [==============================] - ETA: 0s - loss: 0.0085 - semantic_0_loss: 0.0025 - semantic_1_loss: 0.0050 - semantic_2_loss: 0.0010WARNING:tensorflow:Can save best model only with val_loss available, skipping.\n"
     ]
    },
    {
     "name": "stderr",
     "output_type": "stream",
     "text": [
      "WARNING:tensorflow:Can save best model only with val_loss available, skipping.\n"
     ]
    },
    {
     "name": "stdout",
     "output_type": "stream",
     "text": [
      "42/42 [==============================] - 24s 557ms/step - loss: 0.0085 - semantic_0_loss: 0.0025 - semantic_1_loss: 0.0050 - semantic_2_loss: 0.0010 - lr: 2.0230e-05\n",
      "Epoch 161/200\n",
      "42/42 [==============================] - ETA: 0s - loss: 0.0084 - semantic_0_loss: 0.0025 - semantic_1_loss: 0.0049 - semantic_2_loss: 0.0010WARNING:tensorflow:Can save best model only with val_loss available, skipping.\n"
     ]
    },
    {
     "name": "stderr",
     "output_type": "stream",
     "text": [
      "WARNING:tensorflow:Can save best model only with val_loss available, skipping.\n"
     ]
    },
    {
     "name": "stdout",
     "output_type": "stream",
     "text": [
      "42/42 [==============================] - 23s 551ms/step - loss: 0.0084 - semantic_0_loss: 0.0025 - semantic_1_loss: 0.0049 - semantic_2_loss: 0.0010 - lr: 2.0028e-05\n",
      "Epoch 162/200\n",
      "42/42 [==============================] - ETA: 0s - loss: 0.0084 - semantic_0_loss: 0.0025 - semantic_1_loss: 0.0049 - semantic_2_loss: 0.0010WARNING:tensorflow:Can save best model only with val_loss available, skipping.\n"
     ]
    },
    {
     "name": "stderr",
     "output_type": "stream",
     "text": [
      "WARNING:tensorflow:Can save best model only with val_loss available, skipping.\n"
     ]
    },
    {
     "name": "stdout",
     "output_type": "stream",
     "text": [
      "42/42 [==============================] - 23s 543ms/step - loss: 0.0084 - semantic_0_loss: 0.0025 - semantic_1_loss: 0.0049 - semantic_2_loss: 0.0010 - lr: 1.9827e-05\n",
      "Epoch 163/200\n",
      "42/42 [==============================] - ETA: 0s - loss: 0.0083 - semantic_0_loss: 0.0024 - semantic_1_loss: 0.0049 - semantic_2_loss: 0.0010WARNING:tensorflow:Can save best model only with val_loss available, skipping.\n"
     ]
    },
    {
     "name": "stderr",
     "output_type": "stream",
     "text": [
      "WARNING:tensorflow:Can save best model only with val_loss available, skipping.\n"
     ]
    },
    {
     "name": "stdout",
     "output_type": "stream",
     "text": [
      "42/42 [==============================] - 24s 562ms/step - loss: 0.0083 - semantic_0_loss: 0.0024 - semantic_1_loss: 0.0049 - semantic_2_loss: 0.0010 - lr: 1.9629e-05\n",
      "Epoch 164/200\n",
      "42/42 [==============================] - ETA: 0s - loss: 0.0085 - semantic_0_loss: 0.0025 - semantic_1_loss: 0.0050 - semantic_2_loss: 0.0010WARNING:tensorflow:Can save best model only with val_loss available, skipping.\n"
     ]
    },
    {
     "name": "stderr",
     "output_type": "stream",
     "text": [
      "WARNING:tensorflow:Can save best model only with val_loss available, skipping.\n"
     ]
    },
    {
     "name": "stdout",
     "output_type": "stream",
     "text": [
      "42/42 [==============================] - 25s 585ms/step - loss: 0.0085 - semantic_0_loss: 0.0025 - semantic_1_loss: 0.0050 - semantic_2_loss: 0.0010 - lr: 1.9433e-05\n",
      "Epoch 165/200\n",
      "42/42 [==============================] - ETA: 0s - loss: 0.0084 - semantic_0_loss: 0.0025 - semantic_1_loss: 0.0049 - semantic_2_loss: 0.0010WARNING:tensorflow:Can save best model only with val_loss available, skipping.\n"
     ]
    },
    {
     "name": "stderr",
     "output_type": "stream",
     "text": [
      "WARNING:tensorflow:Can save best model only with val_loss available, skipping.\n"
     ]
    },
    {
     "name": "stdout",
     "output_type": "stream",
     "text": [
      "42/42 [==============================] - 23s 554ms/step - loss: 0.0084 - semantic_0_loss: 0.0025 - semantic_1_loss: 0.0049 - semantic_2_loss: 0.0010 - lr: 1.9239e-05\n",
      "Epoch 166/200\n",
      "42/42 [==============================] - ETA: 0s - loss: 0.0083 - semantic_0_loss: 0.0024 - semantic_1_loss: 0.0049 - semantic_2_loss: 0.0010WARNING:tensorflow:Can save best model only with val_loss available, skipping.\n"
     ]
    },
    {
     "name": "stderr",
     "output_type": "stream",
     "text": [
      "WARNING:tensorflow:Can save best model only with val_loss available, skipping.\n"
     ]
    },
    {
     "name": "stdout",
     "output_type": "stream",
     "text": [
      "42/42 [==============================] - 23s 548ms/step - loss: 0.0083 - semantic_0_loss: 0.0024 - semantic_1_loss: 0.0049 - semantic_2_loss: 0.0010 - lr: 1.9046e-05\n",
      "Epoch 167/200\n",
      "42/42 [==============================] - ETA: 0s - loss: 0.0085 - semantic_0_loss: 0.0025 - semantic_1_loss: 0.0049 - semantic_2_loss: 0.0010WARNING:tensorflow:Can save best model only with val_loss available, skipping.\n"
     ]
    },
    {
     "name": "stderr",
     "output_type": "stream",
     "text": [
      "WARNING:tensorflow:Can save best model only with val_loss available, skipping.\n"
     ]
    },
    {
     "name": "stdout",
     "output_type": "stream",
     "text": [
      "42/42 [==============================] - 23s 546ms/step - loss: 0.0085 - semantic_0_loss: 0.0025 - semantic_1_loss: 0.0049 - semantic_2_loss: 0.0010 - lr: 1.8856e-05\n",
      "Epoch 168/200\n",
      "42/42 [==============================] - ETA: 0s - loss: 0.0082 - semantic_0_loss: 0.0024 - semantic_1_loss: 0.0048 - semantic_2_loss: 0.0010WARNING:tensorflow:Can save best model only with val_loss available, skipping.\n"
     ]
    },
    {
     "name": "stderr",
     "output_type": "stream",
     "text": [
      "WARNING:tensorflow:Can save best model only with val_loss available, skipping.\n"
     ]
    },
    {
     "name": "stdout",
     "output_type": "stream",
     "text": [
      "42/42 [==============================] - 24s 558ms/step - loss: 0.0082 - semantic_0_loss: 0.0024 - semantic_1_loss: 0.0048 - semantic_2_loss: 0.0010 - lr: 1.8667e-05\n",
      "Epoch 169/200\n",
      "42/42 [==============================] - ETA: 0s - loss: 0.0085 - semantic_0_loss: 0.0025 - semantic_1_loss: 0.0050 - semantic_2_loss: 0.0010WARNING:tensorflow:Can save best model only with val_loss available, skipping.\n"
     ]
    },
    {
     "name": "stderr",
     "output_type": "stream",
     "text": [
      "WARNING:tensorflow:Can save best model only with val_loss available, skipping.\n"
     ]
    },
    {
     "name": "stdout",
     "output_type": "stream",
     "text": [
      "42/42 [==============================] - 23s 548ms/step - loss: 0.0085 - semantic_0_loss: 0.0025 - semantic_1_loss: 0.0050 - semantic_2_loss: 0.0010 - lr: 1.8480e-05\n",
      "Epoch 170/200\n",
      "42/42 [==============================] - ETA: 0s - loss: 0.0083 - semantic_0_loss: 0.0024 - semantic_1_loss: 0.0048 - semantic_2_loss: 0.0010WARNING:tensorflow:Can save best model only with val_loss available, skipping.\n"
     ]
    },
    {
     "name": "stderr",
     "output_type": "stream",
     "text": [
      "WARNING:tensorflow:Can save best model only with val_loss available, skipping.\n"
     ]
    },
    {
     "name": "stdout",
     "output_type": "stream",
     "text": [
      "42/42 [==============================] - 23s 551ms/step - loss: 0.0083 - semantic_0_loss: 0.0024 - semantic_1_loss: 0.0048 - semantic_2_loss: 0.0010 - lr: 1.8296e-05\n",
      "Epoch 171/200\n",
      "42/42 [==============================] - ETA: 0s - loss: 0.0084 - semantic_0_loss: 0.0025 - semantic_1_loss: 0.0049 - semantic_2_loss: 0.0010WARNING:tensorflow:Can save best model only with val_loss available, skipping.\n"
     ]
    },
    {
     "name": "stderr",
     "output_type": "stream",
     "text": [
      "WARNING:tensorflow:Can save best model only with val_loss available, skipping.\n"
     ]
    },
    {
     "name": "stdout",
     "output_type": "stream",
     "text": [
      "42/42 [==============================] - 24s 557ms/step - loss: 0.0084 - semantic_0_loss: 0.0025 - semantic_1_loss: 0.0049 - semantic_2_loss: 0.0010 - lr: 1.8113e-05\n",
      "Epoch 172/200\n",
      "42/42 [==============================] - ETA: 0s - loss: 0.0082 - semantic_0_loss: 0.0024 - semantic_1_loss: 0.0048 - semantic_2_loss: 9.9939e-04WARNING:tensorflow:Can save best model only with val_loss available, skipping.\n"
     ]
    },
    {
     "name": "stderr",
     "output_type": "stream",
     "text": [
      "WARNING:tensorflow:Can save best model only with val_loss available, skipping.\n"
     ]
    },
    {
     "name": "stdout",
     "output_type": "stream",
     "text": [
      "42/42 [==============================] - 23s 548ms/step - loss: 0.0082 - semantic_0_loss: 0.0024 - semantic_1_loss: 0.0048 - semantic_2_loss: 9.9939e-04 - lr: 1.7932e-05\n",
      "Epoch 173/200\n",
      "42/42 [==============================] - ETA: 0s - loss: 0.0083 - semantic_0_loss: 0.0024 - semantic_1_loss: 0.0048 - semantic_2_loss: 0.0010WARNING:tensorflow:Can save best model only with val_loss available, skipping.\n"
     ]
    },
    {
     "name": "stderr",
     "output_type": "stream",
     "text": [
      "WARNING:tensorflow:Can save best model only with val_loss available, skipping.\n"
     ]
    },
    {
     "name": "stdout",
     "output_type": "stream",
     "text": [
      "42/42 [==============================] - 24s 556ms/step - loss: 0.0083 - semantic_0_loss: 0.0024 - semantic_1_loss: 0.0048 - semantic_2_loss: 0.0010 - lr: 1.7752e-05\n",
      "Epoch 174/200\n",
      "42/42 [==============================] - ETA: 0s - loss: 0.0085 - semantic_0_loss: 0.0025 - semantic_1_loss: 0.0049 - semantic_2_loss: 0.0010WARNING:tensorflow:Can save best model only with val_loss available, skipping.\n"
     ]
    },
    {
     "name": "stderr",
     "output_type": "stream",
     "text": [
      "WARNING:tensorflow:Can save best model only with val_loss available, skipping.\n"
     ]
    },
    {
     "name": "stdout",
     "output_type": "stream",
     "text": [
      "42/42 [==============================] - 24s 555ms/step - loss: 0.0085 - semantic_0_loss: 0.0025 - semantic_1_loss: 0.0049 - semantic_2_loss: 0.0010 - lr: 1.7575e-05\n",
      "Epoch 175/200\n",
      "42/42 [==============================] - ETA: 0s - loss: 0.0082 - semantic_0_loss: 0.0024 - semantic_1_loss: 0.0048 - semantic_2_loss: 0.0010    WARNING:tensorflow:Can save best model only with val_loss available, skipping.\n"
     ]
    },
    {
     "name": "stderr",
     "output_type": "stream",
     "text": [
      "WARNING:tensorflow:Can save best model only with val_loss available, skipping.\n"
     ]
    },
    {
     "name": "stdout",
     "output_type": "stream",
     "text": [
      "42/42 [==============================] - 23s 555ms/step - loss: 0.0082 - semantic_0_loss: 0.0024 - semantic_1_loss: 0.0048 - semantic_2_loss: 0.0010 - lr: 1.7399e-05\n",
      "Epoch 176/200\n",
      "42/42 [==============================] - ETA: 0s - loss: 0.0083 - semantic_0_loss: 0.0024 - semantic_1_loss: 0.0048 - semantic_2_loss: 0.0010WARNING:tensorflow:Can save best model only with val_loss available, skipping.\n"
     ]
    },
    {
     "name": "stderr",
     "output_type": "stream",
     "text": [
      "WARNING:tensorflow:Can save best model only with val_loss available, skipping.\n"
     ]
    },
    {
     "name": "stdout",
     "output_type": "stream",
     "text": [
      "42/42 [==============================] - 24s 558ms/step - loss: 0.0083 - semantic_0_loss: 0.0024 - semantic_1_loss: 0.0048 - semantic_2_loss: 0.0010 - lr: 1.7225e-05\n",
      "Epoch 177/200\n",
      "42/42 [==============================] - ETA: 0s - loss: 0.0082 - semantic_0_loss: 0.0024 - semantic_1_loss: 0.0048 - semantic_2_loss: 0.0010WARNING:tensorflow:Can save best model only with val_loss available, skipping.\n"
     ]
    },
    {
     "name": "stderr",
     "output_type": "stream",
     "text": [
      "WARNING:tensorflow:Can save best model only with val_loss available, skipping.\n"
     ]
    },
    {
     "name": "stdout",
     "output_type": "stream",
     "text": [
      "42/42 [==============================] - 24s 555ms/step - loss: 0.0082 - semantic_0_loss: 0.0024 - semantic_1_loss: 0.0048 - semantic_2_loss: 0.0010 - lr: 1.7053e-05\n",
      "Epoch 178/200\n",
      "42/42 [==============================] - ETA: 0s - loss: 0.0082 - semantic_0_loss: 0.0024 - semantic_1_loss: 0.0048 - semantic_2_loss: 0.0010WARNING:tensorflow:Can save best model only with val_loss available, skipping.\n"
     ]
    },
    {
     "name": "stderr",
     "output_type": "stream",
     "text": [
      "WARNING:tensorflow:Can save best model only with val_loss available, skipping.\n"
     ]
    },
    {
     "name": "stdout",
     "output_type": "stream",
     "text": [
      "42/42 [==============================] - 23s 545ms/step - loss: 0.0082 - semantic_0_loss: 0.0024 - semantic_1_loss: 0.0048 - semantic_2_loss: 0.0010 - lr: 1.6882e-05\n",
      "Epoch 179/200\n",
      "42/42 [==============================] - ETA: 0s - loss: 0.0081 - semantic_0_loss: 0.0024 - semantic_1_loss: 0.0047 - semantic_2_loss: 9.9088e-04WARNING:tensorflow:Can save best model only with val_loss available, skipping.\n"
     ]
    },
    {
     "name": "stderr",
     "output_type": "stream",
     "text": [
      "WARNING:tensorflow:Can save best model only with val_loss available, skipping.\n"
     ]
    },
    {
     "name": "stdout",
     "output_type": "stream",
     "text": [
      "42/42 [==============================] - 24s 559ms/step - loss: 0.0081 - semantic_0_loss: 0.0024 - semantic_1_loss: 0.0047 - semantic_2_loss: 9.9088e-04 - lr: 1.6713e-05\n",
      "Epoch 180/200\n",
      "42/42 [==============================] - ETA: 0s - loss: 0.0083 - semantic_0_loss: 0.0024 - semantic_1_loss: 0.0048 - semantic_2_loss: 0.0010WARNING:tensorflow:Can save best model only with val_loss available, skipping.\n"
     ]
    },
    {
     "name": "stderr",
     "output_type": "stream",
     "text": [
      "WARNING:tensorflow:Can save best model only with val_loss available, skipping.\n"
     ]
    },
    {
     "name": "stdout",
     "output_type": "stream",
     "text": [
      "42/42 [==============================] - 23s 551ms/step - loss: 0.0083 - semantic_0_loss: 0.0024 - semantic_1_loss: 0.0048 - semantic_2_loss: 0.0010 - lr: 1.6546e-05\n",
      "Epoch 181/200\n",
      "42/42 [==============================] - ETA: 0s - loss: 0.0084 - semantic_0_loss: 0.0025 - semantic_1_loss: 0.0049 - semantic_2_loss: 0.0010WARNING:tensorflow:Can save best model only with val_loss available, skipping.\n"
     ]
    },
    {
     "name": "stderr",
     "output_type": "stream",
     "text": [
      "WARNING:tensorflow:Can save best model only with val_loss available, skipping.\n"
     ]
    },
    {
     "name": "stdout",
     "output_type": "stream",
     "text": [
      "42/42 [==============================] - 23s 550ms/step - loss: 0.0084 - semantic_0_loss: 0.0025 - semantic_1_loss: 0.0049 - semantic_2_loss: 0.0010 - lr: 1.6381e-05\n",
      "Epoch 182/200\n",
      "42/42 [==============================] - ETA: 0s - loss: 0.0082 - semantic_0_loss: 0.0024 - semantic_1_loss: 0.0048 - semantic_2_loss: 0.0010WARNING:tensorflow:Can save best model only with val_loss available, skipping.\n"
     ]
    },
    {
     "name": "stderr",
     "output_type": "stream",
     "text": [
      "WARNING:tensorflow:Can save best model only with val_loss available, skipping.\n"
     ]
    },
    {
     "name": "stdout",
     "output_type": "stream",
     "text": [
      "42/42 [==============================] - 24s 561ms/step - loss: 0.0082 - semantic_0_loss: 0.0024 - semantic_1_loss: 0.0048 - semantic_2_loss: 0.0010 - lr: 1.6217e-05\n",
      "Epoch 183/200\n",
      "42/42 [==============================] - ETA: 0s - loss: 0.0082 - semantic_0_loss: 0.0024 - semantic_1_loss: 0.0048 - semantic_2_loss: 0.0010WARNING:tensorflow:Can save best model only with val_loss available, skipping.\n"
     ]
    },
    {
     "name": "stderr",
     "output_type": "stream",
     "text": [
      "WARNING:tensorflow:Can save best model only with val_loss available, skipping.\n"
     ]
    },
    {
     "name": "stdout",
     "output_type": "stream",
     "text": [
      "42/42 [==============================] - 23s 546ms/step - loss: 0.0082 - semantic_0_loss: 0.0024 - semantic_1_loss: 0.0048 - semantic_2_loss: 0.0010 - lr: 1.6055e-05\n",
      "Epoch 184/200\n",
      "42/42 [==============================] - ETA: 0s - loss: 0.0082 - semantic_0_loss: 0.0024 - semantic_1_loss: 0.0048 - semantic_2_loss: 0.0010WARNING:tensorflow:Can save best model only with val_loss available, skipping.\n"
     ]
    },
    {
     "name": "stderr",
     "output_type": "stream",
     "text": [
      "WARNING:tensorflow:Can save best model only with val_loss available, skipping.\n"
     ]
    },
    {
     "name": "stdout",
     "output_type": "stream",
     "text": [
      "42/42 [==============================] - 24s 561ms/step - loss: 0.0082 - semantic_0_loss: 0.0024 - semantic_1_loss: 0.0048 - semantic_2_loss: 0.0010 - lr: 1.5894e-05\n",
      "Epoch 185/200\n",
      "42/42 [==============================] - ETA: 0s - loss: 0.0081 - semantic_0_loss: 0.0024 - semantic_1_loss: 0.0047 - semantic_2_loss: 9.9230e-04WARNING:tensorflow:Can save best model only with val_loss available, skipping.\n"
     ]
    },
    {
     "name": "stderr",
     "output_type": "stream",
     "text": [
      "WARNING:tensorflow:Can save best model only with val_loss available, skipping.\n"
     ]
    },
    {
     "name": "stdout",
     "output_type": "stream",
     "text": [
      "42/42 [==============================] - 23s 545ms/step - loss: 0.0081 - semantic_0_loss: 0.0024 - semantic_1_loss: 0.0047 - semantic_2_loss: 9.9230e-04 - lr: 1.5735e-05\n",
      "Epoch 186/200\n",
      "42/42 [==============================] - ETA: 0s - loss: 0.0082 - semantic_0_loss: 0.0024 - semantic_1_loss: 0.0048 - semantic_2_loss: 0.0010WARNING:tensorflow:Can save best model only with val_loss available, skipping.\n"
     ]
    },
    {
     "name": "stderr",
     "output_type": "stream",
     "text": [
      "WARNING:tensorflow:Can save best model only with val_loss available, skipping.\n"
     ]
    },
    {
     "name": "stdout",
     "output_type": "stream",
     "text": [
      "42/42 [==============================] - 23s 549ms/step - loss: 0.0082 - semantic_0_loss: 0.0024 - semantic_1_loss: 0.0048 - semantic_2_loss: 0.0010 - lr: 1.5578e-05\n",
      "Epoch 187/200\n",
      "42/42 [==============================] - ETA: 0s - loss: 0.0083 - semantic_0_loss: 0.0024 - semantic_1_loss: 0.0049 - semantic_2_loss: 0.0010WARNING:tensorflow:Can save best model only with val_loss available, skipping.\n"
     ]
    },
    {
     "name": "stderr",
     "output_type": "stream",
     "text": [
      "WARNING:tensorflow:Can save best model only with val_loss available, skipping.\n"
     ]
    },
    {
     "name": "stdout",
     "output_type": "stream",
     "text": [
      "42/42 [==============================] - 23s 551ms/step - loss: 0.0083 - semantic_0_loss: 0.0024 - semantic_1_loss: 0.0049 - semantic_2_loss: 0.0010 - lr: 1.5422e-05\n",
      "Epoch 188/200\n",
      "42/42 [==============================] - ETA: 0s - loss: 0.0083 - semantic_0_loss: 0.0025 - semantic_1_loss: 0.0049 - semantic_2_loss: 0.0010WARNING:tensorflow:Can save best model only with val_loss available, skipping.\n"
     ]
    },
    {
     "name": "stderr",
     "output_type": "stream",
     "text": [
      "WARNING:tensorflow:Can save best model only with val_loss available, skipping.\n"
     ]
    },
    {
     "name": "stdout",
     "output_type": "stream",
     "text": [
      "42/42 [==============================] - 23s 545ms/step - loss: 0.0083 - semantic_0_loss: 0.0025 - semantic_1_loss: 0.0049 - semantic_2_loss: 0.0010 - lr: 1.5268e-05\n",
      "Epoch 189/200\n",
      "42/42 [==============================] - ETA: 0s - loss: 0.0080 - semantic_0_loss: 0.0023 - semantic_1_loss: 0.0047 - semantic_2_loss: 9.8437e-04WARNING:tensorflow:Can save best model only with val_loss available, skipping.\n"
     ]
    },
    {
     "name": "stderr",
     "output_type": "stream",
     "text": [
      "WARNING:tensorflow:Can save best model only with val_loss available, skipping.\n"
     ]
    },
    {
     "name": "stdout",
     "output_type": "stream",
     "text": [
      "42/42 [==============================] - 23s 540ms/step - loss: 0.0080 - semantic_0_loss: 0.0023 - semantic_1_loss: 0.0047 - semantic_2_loss: 9.8437e-04 - lr: 1.5115e-05\n",
      "Epoch 190/200\n",
      "42/42 [==============================] - ETA: 0s - loss: 0.0081 - semantic_0_loss: 0.0024 - semantic_1_loss: 0.0047 - semantic_2_loss: 0.0010WARNING:tensorflow:Can save best model only with val_loss available, skipping.\n"
     ]
    },
    {
     "name": "stderr",
     "output_type": "stream",
     "text": [
      "WARNING:tensorflow:Can save best model only with val_loss available, skipping.\n"
     ]
    },
    {
     "name": "stdout",
     "output_type": "stream",
     "text": [
      "42/42 [==============================] - 24s 557ms/step - loss: 0.0081 - semantic_0_loss: 0.0024 - semantic_1_loss: 0.0047 - semantic_2_loss: 0.0010 - lr: 1.4964e-05\n",
      "Epoch 191/200\n",
      "42/42 [==============================] - ETA: 0s - loss: 0.0081 - semantic_0_loss: 0.0024 - semantic_1_loss: 0.0047 - semantic_2_loss: 9.9917e-04WARNING:tensorflow:Can save best model only with val_loss available, skipping.\n"
     ]
    },
    {
     "name": "stderr",
     "output_type": "stream",
     "text": [
      "WARNING:tensorflow:Can save best model only with val_loss available, skipping.\n"
     ]
    },
    {
     "name": "stdout",
     "output_type": "stream",
     "text": [
      "42/42 [==============================] - 23s 565ms/step - loss: 0.0081 - semantic_0_loss: 0.0024 - semantic_1_loss: 0.0047 - semantic_2_loss: 9.9917e-04 - lr: 1.4814e-05\n",
      "Epoch 192/200\n",
      "42/42 [==============================] - ETA: 0s - loss: 0.0084 - semantic_0_loss: 0.0025 - semantic_1_loss: 0.0049 - semantic_2_loss: 0.0010WARNING:tensorflow:Can save best model only with val_loss available, skipping.\n"
     ]
    },
    {
     "name": "stderr",
     "output_type": "stream",
     "text": [
      "WARNING:tensorflow:Can save best model only with val_loss available, skipping.\n"
     ]
    },
    {
     "name": "stdout",
     "output_type": "stream",
     "text": [
      "42/42 [==============================] - 23s 553ms/step - loss: 0.0084 - semantic_0_loss: 0.0025 - semantic_1_loss: 0.0049 - semantic_2_loss: 0.0010 - lr: 1.4666e-05\n",
      "Epoch 193/200\n",
      "42/42 [==============================] - ETA: 0s - loss: 0.0081 - semantic_0_loss: 0.0024 - semantic_1_loss: 0.0048 - semantic_2_loss: 0.0010WARNING:tensorflow:Can save best model only with val_loss available, skipping.\n"
     ]
    },
    {
     "name": "stderr",
     "output_type": "stream",
     "text": [
      "WARNING:tensorflow:Can save best model only with val_loss available, skipping.\n"
     ]
    },
    {
     "name": "stdout",
     "output_type": "stream",
     "text": [
      "42/42 [==============================] - 24s 557ms/step - loss: 0.0081 - semantic_0_loss: 0.0024 - semantic_1_loss: 0.0048 - semantic_2_loss: 0.0010 - lr: 1.4520e-05\n",
      "Epoch 194/200\n",
      "42/42 [==============================] - ETA: 0s - loss: 0.0081 - semantic_0_loss: 0.0024 - semantic_1_loss: 0.0047 - semantic_2_loss: 9.9240e-04WARNING:tensorflow:Can save best model only with val_loss available, skipping.\n"
     ]
    },
    {
     "name": "stderr",
     "output_type": "stream",
     "text": [
      "WARNING:tensorflow:Can save best model only with val_loss available, skipping.\n"
     ]
    },
    {
     "name": "stdout",
     "output_type": "stream",
     "text": [
      "42/42 [==============================] - 23s 549ms/step - loss: 0.0081 - semantic_0_loss: 0.0024 - semantic_1_loss: 0.0047 - semantic_2_loss: 9.9240e-04 - lr: 1.4374e-05\n",
      "Epoch 195/200\n",
      "42/42 [==============================] - ETA: 0s - loss: 0.0082 - semantic_0_loss: 0.0024 - semantic_1_loss: 0.0048 - semantic_2_loss: 0.0010WARNING:tensorflow:Can save best model only with val_loss available, skipping.\n"
     ]
    },
    {
     "name": "stderr",
     "output_type": "stream",
     "text": [
      "WARNING:tensorflow:Can save best model only with val_loss available, skipping.\n"
     ]
    },
    {
     "name": "stdout",
     "output_type": "stream",
     "text": [
      "42/42 [==============================] - 23s 553ms/step - loss: 0.0082 - semantic_0_loss: 0.0024 - semantic_1_loss: 0.0048 - semantic_2_loss: 0.0010 - lr: 1.4231e-05\n",
      "Epoch 196/200\n",
      "42/42 [==============================] - ETA: 0s - loss: 0.0081 - semantic_0_loss: 0.0024 - semantic_1_loss: 0.0047 - semantic_2_loss: 0.0010    WARNING:tensorflow:Can save best model only with val_loss available, skipping.\n"
     ]
    },
    {
     "name": "stderr",
     "output_type": "stream",
     "text": [
      "WARNING:tensorflow:Can save best model only with val_loss available, skipping.\n"
     ]
    },
    {
     "name": "stdout",
     "output_type": "stream",
     "text": [
      "42/42 [==============================] - 23s 548ms/step - loss: 0.0081 - semantic_0_loss: 0.0024 - semantic_1_loss: 0.0047 - semantic_2_loss: 0.0010 - lr: 1.4088e-05\n",
      "Epoch 197/200\n",
      "42/42 [==============================] - ETA: 0s - loss: 0.0080 - semantic_0_loss: 0.0023 - semantic_1_loss: 0.0046 - semantic_2_loss: 9.9577e-04WARNING:tensorflow:Can save best model only with val_loss available, skipping.\n"
     ]
    },
    {
     "name": "stderr",
     "output_type": "stream",
     "text": [
      "WARNING:tensorflow:Can save best model only with val_loss available, skipping.\n"
     ]
    },
    {
     "name": "stdout",
     "output_type": "stream",
     "text": [
      "42/42 [==============================] - 23s 549ms/step - loss: 0.0080 - semantic_0_loss: 0.0023 - semantic_1_loss: 0.0046 - semantic_2_loss: 9.9577e-04 - lr: 1.3948e-05\n",
      "Epoch 198/200\n",
      "42/42 [==============================] - ETA: 0s - loss: 0.0083 - semantic_0_loss: 0.0025 - semantic_1_loss: 0.0048 - semantic_2_loss: 0.0010WARNING:tensorflow:Can save best model only with val_loss available, skipping.\n"
     ]
    },
    {
     "name": "stderr",
     "output_type": "stream",
     "text": [
      "WARNING:tensorflow:Can save best model only with val_loss available, skipping.\n"
     ]
    },
    {
     "name": "stdout",
     "output_type": "stream",
     "text": [
      "42/42 [==============================] - 24s 554ms/step - loss: 0.0083 - semantic_0_loss: 0.0025 - semantic_1_loss: 0.0048 - semantic_2_loss: 0.0010 - lr: 1.3808e-05\n",
      "Epoch 199/200\n",
      "42/42 [==============================] - ETA: 0s - loss: 0.0083 - semantic_0_loss: 0.0025 - semantic_1_loss: 0.0048 - semantic_2_loss: 0.0010    WARNING:tensorflow:Can save best model only with val_loss available, skipping.\n"
     ]
    },
    {
     "name": "stderr",
     "output_type": "stream",
     "text": [
      "WARNING:tensorflow:Can save best model only with val_loss available, skipping.\n"
     ]
    },
    {
     "name": "stdout",
     "output_type": "stream",
     "text": [
      "42/42 [==============================] - 23s 555ms/step - loss: 0.0083 - semantic_0_loss: 0.0025 - semantic_1_loss: 0.0048 - semantic_2_loss: 0.0010 - lr: 1.3670e-05\n",
      "Epoch 200/200\n",
      "42/42 [==============================] - ETA: 0s - loss: 0.0081 - semantic_0_loss: 0.0024 - semantic_1_loss: 0.0047 - semantic_2_loss: 9.9604e-04WARNING:tensorflow:Can save best model only with val_loss available, skipping.\n"
     ]
    },
    {
     "name": "stderr",
     "output_type": "stream",
     "text": [
      "WARNING:tensorflow:Can save best model only with val_loss available, skipping.\n"
     ]
    },
    {
     "name": "stdout",
     "output_type": "stream",
     "text": [
      "42/42 [==============================] - 24s 556ms/step - loss: 0.0081 - semantic_0_loss: 0.0024 - semantic_1_loss: 0.0047 - semantic_2_loss: 9.9604e-04 - lr: 1.3533e-05\n",
      "/home/yfong/deeplearning/dense_cell_segmentation\n",
      "['M926910_CFL_Position7_CD3_test_img.png', 'M872956_JML_Position10_CD3_test_img.png', 'M872956_JML_Position8_CD8_test_img.png', 'M926910_CFL_Position13_CD3_test_img.png', 'M872956_JML_Position8_CD3_test_img.png', 'M872956_JML_Position8_CD4_test_img.png', 'M872956_JML_Position9_CD3_test_img.png']\n",
      "M926910_CFL_Position7_CD3_test_img.png\n"
     ]
    },
    {
     "name": "stderr",
     "output_type": "stream",
     "text": [
      "/app/software/DeepCell/0.11.1-foss-2021b-CUDA-11.4.1/lib/python3.9/site-packages/deepcell_toolbox/deep_watershed.py:179: FutureWarning: `selem` is a deprecated argument name for `h_maxima`. It will be removed in version 1.0.Please use `footprint` instead.\n",
      "  markers = h_maxima(image=maxima,\n"
     ]
    },
    {
     "name": "stdout",
     "output_type": "stream",
     "text": [
      "M872956_JML_Position10_CD3_test_img.png\n",
      "M872956_JML_Position8_CD8_test_img.png\n",
      "M926910_CFL_Position13_CD3_test_img.png\n",
      "M872956_JML_Position8_CD3_test_img.png\n",
      "M872956_JML_Position8_CD4_test_img.png\n",
      "M872956_JML_Position9_CD3_test_img.png\n",
      "[[0.3832528180354267, 0.4177978883861237], [0.3626760563380282, 0.43243243243243246], [0.4635416666666667, 0.5326633165829145], [0.27638190954773867, 0.36803874092009686], [0.4694244604316547, 0.5597147950089126], [0.6246575342465753, 0.5760598503740648], [0.32040816326530613, 0.4433198380566802]]\n",
      "                                         0         1         2\n",
      "0   M926910_CFL_Position7_CD3_test_img.png  0.383253  0.417798\n",
      "1  M872956_JML_Position10_CD3_test_img.png  0.362676  0.432432\n",
      "2   M872956_JML_Position8_CD8_test_img.png  0.463542  0.532663\n",
      "3  M926910_CFL_Position13_CD3_test_img.png  0.276382  0.368039\n",
      "4   M872956_JML_Position8_CD3_test_img.png  0.469424  0.559715\n",
      "5   M872956_JML_Position8_CD4_test_img.png  0.624658   0.57606\n",
      "6   M872956_JML_Position9_CD3_test_img.png  0.320408   0.44332\n",
      "WARNING:tensorflow:Removing 6 of 175 images with fewer than 5 objects.\n"
     ]
    },
    {
     "name": "stderr",
     "output_type": "stream",
     "text": [
      "WARNING:tensorflow:Removing 6 of 175 images with fewer than 5 objects.\n",
      "/app/software/TensorFlow/2.7.1-foss-2021b-CUDA-11.4.1/lib/python3.9/site-packages/keras/optimizer_v2/adam.py:105: UserWarning: The `lr` argument is deprecated, use `learning_rate` instead.\n",
      "  super(Adam, self).__init__(name, **kwargs)\n"
     ]
    },
    {
     "name": "stdout",
     "output_type": "stream",
     "text": [
      "Training on 3 GPUs.\n"
     ]
    },
    {
     "name": "stderr",
     "output_type": "stream",
     "text": [
      "2022-11-13 06:18:27.075546: I tensorflow/core/common_runtime/gpu/gpu_device.cc:1525] Created device /device:GPU:0 with 14657 MB memory:  -> device: 0, name: Tesla V100-PCIE-16GB, pci bus id: 0000:04:00.0, compute capability: 7.0\n",
      "2022-11-13 06:18:27.076624: I tensorflow/core/common_runtime/gpu/gpu_device.cc:1525] Created device /device:GPU:1 with 14657 MB memory:  -> device: 1, name: Tesla V100-PCIE-16GB, pci bus id: 0000:06:00.0, compute capability: 7.0\n",
      "2022-11-13 06:18:27.077690: I tensorflow/core/common_runtime/gpu/gpu_device.cc:1525] Created device /device:GPU:2 with 14657 MB memory:  -> device: 2, name: Tesla V100-PCIE-16GB, pci bus id: 0000:08:00.0, compute capability: 7.0\n"
     ]
    },
    {
     "name": "stdout",
     "output_type": "stream",
     "text": [
      "Epoch 1/200\n",
      "42/42 [==============================] - ETA: 0s - loss: 0.0166 - semantic_0_loss: 0.0041 - semantic_1_loss: 0.0103 - semantic_2_loss: 0.0021WARNING:tensorflow:Can save best model only with val_loss available, skipping.\n"
     ]
    },
    {
     "name": "stderr",
     "output_type": "stream",
     "text": [
      "WARNING:tensorflow:Can save best model only with val_loss available, skipping.\n"
     ]
    },
    {
     "name": "stdout",
     "output_type": "stream",
     "text": [
      "42/42 [==============================] - 36s 558ms/step - loss: 0.0166 - semantic_0_loss: 0.0041 - semantic_1_loss: 0.0103 - semantic_2_loss: 0.0021 - lr: 1.0000e-04\n",
      "Epoch 2/200\n",
      "42/42 [==============================] - ETA: 0s - loss: 0.0144 - semantic_0_loss: 0.0037 - semantic_1_loss: 0.0091 - semantic_2_loss: 0.0016WARNING:tensorflow:Can save best model only with val_loss available, skipping.\n"
     ]
    },
    {
     "name": "stderr",
     "output_type": "stream",
     "text": [
      "WARNING:tensorflow:Can save best model only with val_loss available, skipping.\n"
     ]
    },
    {
     "name": "stdout",
     "output_type": "stream",
     "text": [
      "42/42 [==============================] - 24s 573ms/step - loss: 0.0144 - semantic_0_loss: 0.0037 - semantic_1_loss: 0.0091 - semantic_2_loss: 0.0016 - lr: 9.9000e-05\n",
      "Epoch 3/200\n",
      "42/42 [==============================] - ETA: 0s - loss: 0.0136 - semantic_0_loss: 0.0035 - semantic_1_loss: 0.0086 - semantic_2_loss: 0.0015WARNING:tensorflow:Can save best model only with val_loss available, skipping.\n"
     ]
    },
    {
     "name": "stderr",
     "output_type": "stream",
     "text": [
      "WARNING:tensorflow:Can save best model only with val_loss available, skipping.\n"
     ]
    },
    {
     "name": "stdout",
     "output_type": "stream",
     "text": [
      "42/42 [==============================] - 23s 550ms/step - loss: 0.0136 - semantic_0_loss: 0.0035 - semantic_1_loss: 0.0086 - semantic_2_loss: 0.0015 - lr: 9.8010e-05\n",
      "Epoch 4/200\n",
      "42/42 [==============================] - ETA: 0s - loss: 0.0135 - semantic_0_loss: 0.0035 - semantic_1_loss: 0.0085 - semantic_2_loss: 0.0015WARNING:tensorflow:Can save best model only with val_loss available, skipping.\n"
     ]
    },
    {
     "name": "stderr",
     "output_type": "stream",
     "text": [
      "WARNING:tensorflow:Can save best model only with val_loss available, skipping.\n"
     ]
    },
    {
     "name": "stdout",
     "output_type": "stream",
     "text": [
      "42/42 [==============================] - 23s 547ms/step - loss: 0.0135 - semantic_0_loss: 0.0035 - semantic_1_loss: 0.0085 - semantic_2_loss: 0.0015 - lr: 9.7030e-05\n",
      "Epoch 5/200\n",
      "42/42 [==============================] - ETA: 0s - loss: 0.0131 - semantic_0_loss: 0.0035 - semantic_1_loss: 0.0083 - semantic_2_loss: 0.0014WARNING:tensorflow:Can save best model only with val_loss available, skipping.\n"
     ]
    },
    {
     "name": "stderr",
     "output_type": "stream",
     "text": [
      "WARNING:tensorflow:Can save best model only with val_loss available, skipping.\n"
     ]
    },
    {
     "name": "stdout",
     "output_type": "stream",
     "text": [
      "42/42 [==============================] - 23s 544ms/step - loss: 0.0131 - semantic_0_loss: 0.0035 - semantic_1_loss: 0.0083 - semantic_2_loss: 0.0014 - lr: 9.6060e-05\n",
      "Epoch 6/200\n",
      "42/42 [==============================] - ETA: 0s - loss: 0.0131 - semantic_0_loss: 0.0035 - semantic_1_loss: 0.0082 - semantic_2_loss: 0.0014WARNING:tensorflow:Can save best model only with val_loss available, skipping.\n"
     ]
    },
    {
     "name": "stderr",
     "output_type": "stream",
     "text": [
      "WARNING:tensorflow:Can save best model only with val_loss available, skipping.\n"
     ]
    },
    {
     "name": "stdout",
     "output_type": "stream",
     "text": [
      "42/42 [==============================] - 24s 558ms/step - loss: 0.0131 - semantic_0_loss: 0.0035 - semantic_1_loss: 0.0082 - semantic_2_loss: 0.0014 - lr: 9.5099e-05\n",
      "Epoch 7/200\n",
      "42/42 [==============================] - ETA: 0s - loss: 0.0129 - semantic_0_loss: 0.0033 - semantic_1_loss: 0.0081 - semantic_2_loss: 0.0014WARNING:tensorflow:Can save best model only with val_loss available, skipping.\n"
     ]
    },
    {
     "name": "stderr",
     "output_type": "stream",
     "text": [
      "WARNING:tensorflow:Can save best model only with val_loss available, skipping.\n"
     ]
    },
    {
     "name": "stdout",
     "output_type": "stream",
     "text": [
      "42/42 [==============================] - 23s 548ms/step - loss: 0.0129 - semantic_0_loss: 0.0033 - semantic_1_loss: 0.0081 - semantic_2_loss: 0.0014 - lr: 9.4148e-05\n",
      "Epoch 8/200\n",
      "42/42 [==============================] - ETA: 0s - loss: 0.0125 - semantic_0_loss: 0.0033 - semantic_1_loss: 0.0078 - semantic_2_loss: 0.0014WARNING:tensorflow:Can save best model only with val_loss available, skipping.\n"
     ]
    },
    {
     "name": "stderr",
     "output_type": "stream",
     "text": [
      "WARNING:tensorflow:Can save best model only with val_loss available, skipping.\n"
     ]
    },
    {
     "name": "stdout",
     "output_type": "stream",
     "text": [
      "42/42 [==============================] - 23s 549ms/step - loss: 0.0125 - semantic_0_loss: 0.0033 - semantic_1_loss: 0.0078 - semantic_2_loss: 0.0014 - lr: 9.3207e-05\n",
      "Epoch 9/200\n",
      "42/42 [==============================] - ETA: 0s - loss: 0.0122 - semantic_0_loss: 0.0032 - semantic_1_loss: 0.0077 - semantic_2_loss: 0.0013WARNING:tensorflow:Can save best model only with val_loss available, skipping.\n"
     ]
    },
    {
     "name": "stderr",
     "output_type": "stream",
     "text": [
      "WARNING:tensorflow:Can save best model only with val_loss available, skipping.\n"
     ]
    },
    {
     "name": "stdout",
     "output_type": "stream",
     "text": [
      "42/42 [==============================] - 24s 559ms/step - loss: 0.0122 - semantic_0_loss: 0.0032 - semantic_1_loss: 0.0077 - semantic_2_loss: 0.0013 - lr: 9.2274e-05\n",
      "Epoch 10/200\n",
      "42/42 [==============================] - ETA: 0s - loss: 0.0126 - semantic_0_loss: 0.0034 - semantic_1_loss: 0.0079 - semantic_2_loss: 0.0014WARNING:tensorflow:Can save best model only with val_loss available, skipping.\n"
     ]
    },
    {
     "name": "stderr",
     "output_type": "stream",
     "text": [
      "WARNING:tensorflow:Can save best model only with val_loss available, skipping.\n"
     ]
    },
    {
     "name": "stdout",
     "output_type": "stream",
     "text": [
      "42/42 [==============================] - 23s 563ms/step - loss: 0.0126 - semantic_0_loss: 0.0034 - semantic_1_loss: 0.0079 - semantic_2_loss: 0.0014 - lr: 9.1352e-05\n",
      "Epoch 11/200\n",
      "42/42 [==============================] - ETA: 0s - loss: 0.0119 - semantic_0_loss: 0.0032 - semantic_1_loss: 0.0074 - semantic_2_loss: 0.0013WARNING:tensorflow:Can save best model only with val_loss available, skipping.\n"
     ]
    },
    {
     "name": "stderr",
     "output_type": "stream",
     "text": [
      "WARNING:tensorflow:Can save best model only with val_loss available, skipping.\n"
     ]
    },
    {
     "name": "stdout",
     "output_type": "stream",
     "text": [
      "42/42 [==============================] - 24s 560ms/step - loss: 0.0119 - semantic_0_loss: 0.0032 - semantic_1_loss: 0.0074 - semantic_2_loss: 0.0013 - lr: 9.0438e-05\n",
      "Epoch 12/200\n",
      "42/42 [==============================] - ETA: 0s - loss: 0.0116 - semantic_0_loss: 0.0031 - semantic_1_loss: 0.0072 - semantic_2_loss: 0.0013WARNING:tensorflow:Can save best model only with val_loss available, skipping.\n"
     ]
    },
    {
     "name": "stderr",
     "output_type": "stream",
     "text": [
      "WARNING:tensorflow:Can save best model only with val_loss available, skipping.\n"
     ]
    },
    {
     "name": "stdout",
     "output_type": "stream",
     "text": [
      "42/42 [==============================] - 23s 544ms/step - loss: 0.0116 - semantic_0_loss: 0.0031 - semantic_1_loss: 0.0072 - semantic_2_loss: 0.0013 - lr: 8.9534e-05\n",
      "Epoch 13/200\n",
      "42/42 [==============================] - ETA: 0s - loss: 0.0115 - semantic_0_loss: 0.0031 - semantic_1_loss: 0.0071 - semantic_2_loss: 0.0013WARNING:tensorflow:Can save best model only with val_loss available, skipping.\n"
     ]
    },
    {
     "name": "stderr",
     "output_type": "stream",
     "text": [
      "WARNING:tensorflow:Can save best model only with val_loss available, skipping.\n"
     ]
    },
    {
     "name": "stdout",
     "output_type": "stream",
     "text": [
      "42/42 [==============================] - 24s 563ms/step - loss: 0.0115 - semantic_0_loss: 0.0031 - semantic_1_loss: 0.0071 - semantic_2_loss: 0.0013 - lr: 8.8638e-05\n",
      "Epoch 14/200\n",
      "42/42 [==============================] - ETA: 0s - loss: 0.0113 - semantic_0_loss: 0.0031 - semantic_1_loss: 0.0070 - semantic_2_loss: 0.0013WARNING:tensorflow:Can save best model only with val_loss available, skipping.\n"
     ]
    },
    {
     "name": "stderr",
     "output_type": "stream",
     "text": [
      "WARNING:tensorflow:Can save best model only with val_loss available, skipping.\n"
     ]
    },
    {
     "name": "stdout",
     "output_type": "stream",
     "text": [
      "42/42 [==============================] - 24s 554ms/step - loss: 0.0113 - semantic_0_loss: 0.0031 - semantic_1_loss: 0.0070 - semantic_2_loss: 0.0013 - lr: 8.7752e-05\n",
      "Epoch 15/200\n",
      "42/42 [==============================] - ETA: 0s - loss: 0.0113 - semantic_0_loss: 0.0031 - semantic_1_loss: 0.0069 - semantic_2_loss: 0.0012WARNING:tensorflow:Can save best model only with val_loss available, skipping.\n"
     ]
    },
    {
     "name": "stderr",
     "output_type": "stream",
     "text": [
      "WARNING:tensorflow:Can save best model only with val_loss available, skipping.\n"
     ]
    },
    {
     "name": "stdout",
     "output_type": "stream",
     "text": [
      "42/42 [==============================] - 23s 555ms/step - loss: 0.0113 - semantic_0_loss: 0.0031 - semantic_1_loss: 0.0069 - semantic_2_loss: 0.0012 - lr: 8.6875e-05\n",
      "Epoch 16/200\n",
      "42/42 [==============================] - ETA: 0s - loss: 0.0114 - semantic_0_loss: 0.0031 - semantic_1_loss: 0.0070 - semantic_2_loss: 0.0013WARNING:tensorflow:Can save best model only with val_loss available, skipping.\n"
     ]
    },
    {
     "name": "stderr",
     "output_type": "stream",
     "text": [
      "WARNING:tensorflow:Can save best model only with val_loss available, skipping.\n"
     ]
    },
    {
     "name": "stdout",
     "output_type": "stream",
     "text": [
      "42/42 [==============================] - 24s 564ms/step - loss: 0.0114 - semantic_0_loss: 0.0031 - semantic_1_loss: 0.0070 - semantic_2_loss: 0.0013 - lr: 8.6006e-05\n",
      "Epoch 17/200\n",
      "42/42 [==============================] - ETA: 0s - loss: 0.0110 - semantic_0_loss: 0.0030 - semantic_1_loss: 0.0067 - semantic_2_loss: 0.0012WARNING:tensorflow:Can save best model only with val_loss available, skipping.\n"
     ]
    },
    {
     "name": "stderr",
     "output_type": "stream",
     "text": [
      "WARNING:tensorflow:Can save best model only with val_loss available, skipping.\n"
     ]
    },
    {
     "name": "stdout",
     "output_type": "stream",
     "text": [
      "42/42 [==============================] - 23s 550ms/step - loss: 0.0110 - semantic_0_loss: 0.0030 - semantic_1_loss: 0.0067 - semantic_2_loss: 0.0012 - lr: 8.5146e-05\n",
      "Epoch 18/200\n",
      "42/42 [==============================] - ETA: 0s - loss: 0.0110 - semantic_0_loss: 0.0031 - semantic_1_loss: 0.0068 - semantic_2_loss: 0.0012WARNING:tensorflow:Can save best model only with val_loss available, skipping.\n"
     ]
    },
    {
     "name": "stderr",
     "output_type": "stream",
     "text": [
      "WARNING:tensorflow:Can save best model only with val_loss available, skipping.\n"
     ]
    },
    {
     "name": "stdout",
     "output_type": "stream",
     "text": [
      "42/42 [==============================] - 24s 559ms/step - loss: 0.0110 - semantic_0_loss: 0.0031 - semantic_1_loss: 0.0068 - semantic_2_loss: 0.0012 - lr: 8.4294e-05\n",
      "Epoch 19/200\n",
      "42/42 [==============================] - ETA: 0s - loss: 0.0108 - semantic_0_loss: 0.0030 - semantic_1_loss: 0.0066 - semantic_2_loss: 0.0012WARNING:tensorflow:Can save best model only with val_loss available, skipping.\n"
     ]
    },
    {
     "name": "stderr",
     "output_type": "stream",
     "text": [
      "WARNING:tensorflow:Can save best model only with val_loss available, skipping.\n"
     ]
    },
    {
     "name": "stdout",
     "output_type": "stream",
     "text": [
      "42/42 [==============================] - 24s 556ms/step - loss: 0.0108 - semantic_0_loss: 0.0030 - semantic_1_loss: 0.0066 - semantic_2_loss: 0.0012 - lr: 8.3451e-05\n",
      "Epoch 20/200\n",
      "42/42 [==============================] - ETA: 0s - loss: 0.0106 - semantic_0_loss: 0.0030 - semantic_1_loss: 0.0064 - semantic_2_loss: 0.0012WARNING:tensorflow:Can save best model only with val_loss available, skipping.\n"
     ]
    },
    {
     "name": "stderr",
     "output_type": "stream",
     "text": [
      "WARNING:tensorflow:Can save best model only with val_loss available, skipping.\n"
     ]
    },
    {
     "name": "stdout",
     "output_type": "stream",
     "text": [
      "42/42 [==============================] - 23s 546ms/step - loss: 0.0106 - semantic_0_loss: 0.0030 - semantic_1_loss: 0.0064 - semantic_2_loss: 0.0012 - lr: 8.2617e-05\n",
      "Epoch 21/200\n",
      "42/42 [==============================] - ETA: 0s - loss: 0.0104 - semantic_0_loss: 0.0029 - semantic_1_loss: 0.0063 - semantic_2_loss: 0.0012WARNING:tensorflow:Can save best model only with val_loss available, skipping.\n"
     ]
    },
    {
     "name": "stderr",
     "output_type": "stream",
     "text": [
      "WARNING:tensorflow:Can save best model only with val_loss available, skipping.\n"
     ]
    },
    {
     "name": "stdout",
     "output_type": "stream",
     "text": [
      "42/42 [==============================] - 24s 555ms/step - loss: 0.0104 - semantic_0_loss: 0.0029 - semantic_1_loss: 0.0063 - semantic_2_loss: 0.0012 - lr: 8.1791e-05\n",
      "Epoch 22/200\n",
      "42/42 [==============================] - ETA: 0s - loss: 0.0104 - semantic_0_loss: 0.0029 - semantic_1_loss: 0.0062 - semantic_2_loss: 0.0012WARNING:tensorflow:Can save best model only with val_loss available, skipping.\n"
     ]
    },
    {
     "name": "stderr",
     "output_type": "stream",
     "text": [
      "WARNING:tensorflow:Can save best model only with val_loss available, skipping.\n"
     ]
    },
    {
     "name": "stdout",
     "output_type": "stream",
     "text": [
      "42/42 [==============================] - 24s 558ms/step - loss: 0.0104 - semantic_0_loss: 0.0029 - semantic_1_loss: 0.0062 - semantic_2_loss: 0.0012 - lr: 8.0973e-05\n",
      "Epoch 23/200\n",
      "42/42 [==============================] - ETA: 0s - loss: 0.0100 - semantic_0_loss: 0.0028 - semantic_1_loss: 0.0060 - semantic_2_loss: 0.0011WARNING:tensorflow:Can save best model only with val_loss available, skipping.\n"
     ]
    },
    {
     "name": "stderr",
     "output_type": "stream",
     "text": [
      "WARNING:tensorflow:Can save best model only with val_loss available, skipping.\n"
     ]
    },
    {
     "name": "stdout",
     "output_type": "stream",
     "text": [
      "42/42 [==============================] - 23s 554ms/step - loss: 0.0100 - semantic_0_loss: 0.0028 - semantic_1_loss: 0.0060 - semantic_2_loss: 0.0011 - lr: 8.0163e-05\n",
      "Epoch 24/200\n",
      "42/42 [==============================] - ETA: 0s - loss: 0.0099 - semantic_0_loss: 0.0028 - semantic_1_loss: 0.0060 - semantic_2_loss: 0.0011WARNING:tensorflow:Can save best model only with val_loss available, skipping.\n"
     ]
    },
    {
     "name": "stderr",
     "output_type": "stream",
     "text": [
      "WARNING:tensorflow:Can save best model only with val_loss available, skipping.\n"
     ]
    },
    {
     "name": "stdout",
     "output_type": "stream",
     "text": [
      "42/42 [==============================] - 24s 557ms/step - loss: 0.0099 - semantic_0_loss: 0.0028 - semantic_1_loss: 0.0060 - semantic_2_loss: 0.0011 - lr: 7.9361e-05\n",
      "Epoch 25/200\n",
      "42/42 [==============================] - ETA: 0s - loss: 0.0099 - semantic_0_loss: 0.0028 - semantic_1_loss: 0.0060 - semantic_2_loss: 0.0011WARNING:tensorflow:Can save best model only with val_loss available, skipping.\n"
     ]
    },
    {
     "name": "stderr",
     "output_type": "stream",
     "text": [
      "WARNING:tensorflow:Can save best model only with val_loss available, skipping.\n"
     ]
    },
    {
     "name": "stdout",
     "output_type": "stream",
     "text": [
      "42/42 [==============================] - 24s 562ms/step - loss: 0.0099 - semantic_0_loss: 0.0028 - semantic_1_loss: 0.0060 - semantic_2_loss: 0.0011 - lr: 7.8568e-05\n",
      "Epoch 26/200\n",
      "42/42 [==============================] - ETA: 0s - loss: 0.0095 - semantic_0_loss: 0.0027 - semantic_1_loss: 0.0057 - semantic_2_loss: 0.0011WARNING:tensorflow:Can save best model only with val_loss available, skipping.\n"
     ]
    },
    {
     "name": "stderr",
     "output_type": "stream",
     "text": [
      "WARNING:tensorflow:Can save best model only with val_loss available, skipping.\n"
     ]
    },
    {
     "name": "stdout",
     "output_type": "stream",
     "text": [
      "42/42 [==============================] - 23s 554ms/step - loss: 0.0095 - semantic_0_loss: 0.0027 - semantic_1_loss: 0.0057 - semantic_2_loss: 0.0011 - lr: 7.7782e-05\n",
      "Epoch 27/200\n",
      "42/42 [==============================] - ETA: 0s - loss: 0.0097 - semantic_0_loss: 0.0028 - semantic_1_loss: 0.0059 - semantic_2_loss: 0.0011WARNING:tensorflow:Can save best model only with val_loss available, skipping.\n"
     ]
    },
    {
     "name": "stderr",
     "output_type": "stream",
     "text": [
      "WARNING:tensorflow:Can save best model only with val_loss available, skipping.\n"
     ]
    },
    {
     "name": "stdout",
     "output_type": "stream",
     "text": [
      "42/42 [==============================] - 24s 556ms/step - loss: 0.0097 - semantic_0_loss: 0.0028 - semantic_1_loss: 0.0059 - semantic_2_loss: 0.0011 - lr: 7.7004e-05\n",
      "Epoch 28/200\n",
      "42/42 [==============================] - ETA: 0s - loss: 0.0096 - semantic_0_loss: 0.0028 - semantic_1_loss: 0.0057 - semantic_2_loss: 0.0011WARNING:tensorflow:Can save best model only with val_loss available, skipping.\n"
     ]
    },
    {
     "name": "stderr",
     "output_type": "stream",
     "text": [
      "WARNING:tensorflow:Can save best model only with val_loss available, skipping.\n"
     ]
    },
    {
     "name": "stdout",
     "output_type": "stream",
     "text": [
      "42/42 [==============================] - 24s 556ms/step - loss: 0.0096 - semantic_0_loss: 0.0028 - semantic_1_loss: 0.0057 - semantic_2_loss: 0.0011 - lr: 7.6234e-05\n",
      "Epoch 29/200\n",
      "42/42 [==============================] - ETA: 0s - loss: 0.0094 - semantic_0_loss: 0.0027 - semantic_1_loss: 0.0056 - semantic_2_loss: 0.0011WARNING:tensorflow:Can save best model only with val_loss available, skipping.\n"
     ]
    },
    {
     "name": "stderr",
     "output_type": "stream",
     "text": [
      "WARNING:tensorflow:Can save best model only with val_loss available, skipping.\n"
     ]
    },
    {
     "name": "stdout",
     "output_type": "stream",
     "text": [
      "42/42 [==============================] - 24s 557ms/step - loss: 0.0094 - semantic_0_loss: 0.0027 - semantic_1_loss: 0.0056 - semantic_2_loss: 0.0011 - lr: 7.5472e-05\n",
      "Epoch 30/200\n",
      "42/42 [==============================] - ETA: 0s - loss: 0.0094 - semantic_0_loss: 0.0027 - semantic_1_loss: 0.0056 - semantic_2_loss: 0.0011WARNING:tensorflow:Can save best model only with val_loss available, skipping.\n"
     ]
    },
    {
     "name": "stderr",
     "output_type": "stream",
     "text": [
      "WARNING:tensorflow:Can save best model only with val_loss available, skipping.\n"
     ]
    },
    {
     "name": "stdout",
     "output_type": "stream",
     "text": [
      "42/42 [==============================] - 24s 556ms/step - loss: 0.0094 - semantic_0_loss: 0.0027 - semantic_1_loss: 0.0056 - semantic_2_loss: 0.0011 - lr: 7.4717e-05\n",
      "Epoch 31/200\n",
      "42/42 [==============================] - ETA: 0s - loss: 0.0093 - semantic_0_loss: 0.0027 - semantic_1_loss: 0.0055 - semantic_2_loss: 0.0011WARNING:tensorflow:Can save best model only with val_loss available, skipping.\n"
     ]
    },
    {
     "name": "stderr",
     "output_type": "stream",
     "text": [
      "WARNING:tensorflow:Can save best model only with val_loss available, skipping.\n"
     ]
    },
    {
     "name": "stdout",
     "output_type": "stream",
     "text": [
      "42/42 [==============================] - 24s 559ms/step - loss: 0.0093 - semantic_0_loss: 0.0027 - semantic_1_loss: 0.0055 - semantic_2_loss: 0.0011 - lr: 7.3970e-05\n",
      "Epoch 32/200\n",
      "42/42 [==============================] - ETA: 0s - loss: 0.0092 - semantic_0_loss: 0.0027 - semantic_1_loss: 0.0055 - semantic_2_loss: 0.0011WARNING:tensorflow:Can save best model only with val_loss available, skipping.\n"
     ]
    },
    {
     "name": "stderr",
     "output_type": "stream",
     "text": [
      "WARNING:tensorflow:Can save best model only with val_loss available, skipping.\n"
     ]
    },
    {
     "name": "stdout",
     "output_type": "stream",
     "text": [
      "42/42 [==============================] - 24s 559ms/step - loss: 0.0092 - semantic_0_loss: 0.0027 - semantic_1_loss: 0.0055 - semantic_2_loss: 0.0011 - lr: 7.3230e-05\n",
      "Epoch 33/200\n",
      "42/42 [==============================] - ETA: 0s - loss: 0.0090 - semantic_0_loss: 0.0026 - semantic_1_loss: 0.0053 - semantic_2_loss: 0.0011WARNING:tensorflow:Can save best model only with val_loss available, skipping.\n"
     ]
    },
    {
     "name": "stderr",
     "output_type": "stream",
     "text": [
      "WARNING:tensorflow:Can save best model only with val_loss available, skipping.\n"
     ]
    },
    {
     "name": "stdout",
     "output_type": "stream",
     "text": [
      "42/42 [==============================] - 23s 548ms/step - loss: 0.0090 - semantic_0_loss: 0.0026 - semantic_1_loss: 0.0053 - semantic_2_loss: 0.0011 - lr: 7.2498e-05\n",
      "Epoch 34/200\n",
      "42/42 [==============================] - ETA: 0s - loss: 0.0090 - semantic_0_loss: 0.0026 - semantic_1_loss: 0.0053 - semantic_2_loss: 0.0011WARNING:tensorflow:Can save best model only with val_loss available, skipping.\n"
     ]
    },
    {
     "name": "stderr",
     "output_type": "stream",
     "text": [
      "WARNING:tensorflow:Can save best model only with val_loss available, skipping.\n"
     ]
    },
    {
     "name": "stdout",
     "output_type": "stream",
     "text": [
      "42/42 [==============================] - 24s 557ms/step - loss: 0.0090 - semantic_0_loss: 0.0026 - semantic_1_loss: 0.0053 - semantic_2_loss: 0.0011 - lr: 7.1773e-05\n",
      "Epoch 35/200\n",
      "42/42 [==============================] - ETA: 0s - loss: 0.0089 - semantic_0_loss: 0.0026 - semantic_1_loss: 0.0052 - semantic_2_loss: 0.0011WARNING:tensorflow:Can save best model only with val_loss available, skipping.\n"
     ]
    },
    {
     "name": "stderr",
     "output_type": "stream",
     "text": [
      "WARNING:tensorflow:Can save best model only with val_loss available, skipping.\n"
     ]
    },
    {
     "name": "stdout",
     "output_type": "stream",
     "text": [
      "42/42 [==============================] - 23s 552ms/step - loss: 0.0089 - semantic_0_loss: 0.0026 - semantic_1_loss: 0.0052 - semantic_2_loss: 0.0011 - lr: 7.1055e-05\n",
      "Epoch 36/200\n",
      "42/42 [==============================] - ETA: 0s - loss: 0.0088 - semantic_0_loss: 0.0026 - semantic_1_loss: 0.0052 - semantic_2_loss: 0.0011WARNING:tensorflow:Can save best model only with val_loss available, skipping.\n"
     ]
    },
    {
     "name": "stderr",
     "output_type": "stream",
     "text": [
      "WARNING:tensorflow:Can save best model only with val_loss available, skipping.\n"
     ]
    },
    {
     "name": "stdout",
     "output_type": "stream",
     "text": [
      "42/42 [==============================] - 23s 555ms/step - loss: 0.0088 - semantic_0_loss: 0.0026 - semantic_1_loss: 0.0052 - semantic_2_loss: 0.0011 - lr: 7.0345e-05\n",
      "Epoch 37/200\n",
      "42/42 [==============================] - ETA: 0s - loss: 0.0089 - semantic_0_loss: 0.0026 - semantic_1_loss: 0.0053 - semantic_2_loss: 0.0011WARNING:tensorflow:Can save best model only with val_loss available, skipping.\n"
     ]
    },
    {
     "name": "stderr",
     "output_type": "stream",
     "text": [
      "WARNING:tensorflow:Can save best model only with val_loss available, skipping.\n"
     ]
    },
    {
     "name": "stdout",
     "output_type": "stream",
     "text": [
      "42/42 [==============================] - 24s 559ms/step - loss: 0.0089 - semantic_0_loss: 0.0026 - semantic_1_loss: 0.0053 - semantic_2_loss: 0.0011 - lr: 6.9641e-05\n",
      "Epoch 38/200\n",
      "42/42 [==============================] - ETA: 0s - loss: 0.0085 - semantic_0_loss: 0.0025 - semantic_1_loss: 0.0050 - semantic_2_loss: 0.0010WARNING:tensorflow:Can save best model only with val_loss available, skipping.\n"
     ]
    },
    {
     "name": "stderr",
     "output_type": "stream",
     "text": [
      "WARNING:tensorflow:Can save best model only with val_loss available, skipping.\n"
     ]
    },
    {
     "name": "stdout",
     "output_type": "stream",
     "text": [
      "42/42 [==============================] - 24s 556ms/step - loss: 0.0085 - semantic_0_loss: 0.0025 - semantic_1_loss: 0.0050 - semantic_2_loss: 0.0010 - lr: 6.8945e-05\n",
      "Epoch 39/200\n",
      "42/42 [==============================] - ETA: 0s - loss: 0.0084 - semantic_0_loss: 0.0025 - semantic_1_loss: 0.0049 - semantic_2_loss: 0.0010WARNING:tensorflow:Can save best model only with val_loss available, skipping.\n"
     ]
    },
    {
     "name": "stderr",
     "output_type": "stream",
     "text": [
      "WARNING:tensorflow:Can save best model only with val_loss available, skipping.\n"
     ]
    },
    {
     "name": "stdout",
     "output_type": "stream",
     "text": [
      "42/42 [==============================] - 23s 556ms/step - loss: 0.0084 - semantic_0_loss: 0.0025 - semantic_1_loss: 0.0049 - semantic_2_loss: 0.0010 - lr: 6.8255e-05\n",
      "Epoch 40/200\n",
      "42/42 [==============================] - ETA: 0s - loss: 0.0084 - semantic_0_loss: 0.0025 - semantic_1_loss: 0.0049 - semantic_2_loss: 0.0010WARNING:tensorflow:Can save best model only with val_loss available, skipping.\n"
     ]
    },
    {
     "name": "stderr",
     "output_type": "stream",
     "text": [
      "WARNING:tensorflow:Can save best model only with val_loss available, skipping.\n"
     ]
    },
    {
     "name": "stdout",
     "output_type": "stream",
     "text": [
      "42/42 [==============================] - 24s 553ms/step - loss: 0.0084 - semantic_0_loss: 0.0025 - semantic_1_loss: 0.0049 - semantic_2_loss: 0.0010 - lr: 6.7573e-05\n",
      "Epoch 41/200\n",
      "42/42 [==============================] - ETA: 0s - loss: 0.0082 - semantic_0_loss: 0.0025 - semantic_1_loss: 0.0048 - semantic_2_loss: 0.0010WARNING:tensorflow:Can save best model only with val_loss available, skipping.\n"
     ]
    },
    {
     "name": "stderr",
     "output_type": "stream",
     "text": [
      "WARNING:tensorflow:Can save best model only with val_loss available, skipping.\n"
     ]
    },
    {
     "name": "stdout",
     "output_type": "stream",
     "text": [
      "42/42 [==============================] - 24s 555ms/step - loss: 0.0082 - semantic_0_loss: 0.0025 - semantic_1_loss: 0.0048 - semantic_2_loss: 0.0010 - lr: 6.6897e-05\n",
      "Epoch 42/200\n",
      "42/42 [==============================] - ETA: 0s - loss: 0.0083 - semantic_0_loss: 0.0025 - semantic_1_loss: 0.0048 - semantic_2_loss: 0.0010WARNING:tensorflow:Can save best model only with val_loss available, skipping.\n"
     ]
    },
    {
     "name": "stderr",
     "output_type": "stream",
     "text": [
      "WARNING:tensorflow:Can save best model only with val_loss available, skipping.\n"
     ]
    },
    {
     "name": "stdout",
     "output_type": "stream",
     "text": [
      "42/42 [==============================] - 23s 554ms/step - loss: 0.0083 - semantic_0_loss: 0.0025 - semantic_1_loss: 0.0048 - semantic_2_loss: 0.0010 - lr: 6.6228e-05\n",
      "Epoch 43/200\n",
      "42/42 [==============================] - ETA: 0s - loss: 0.0081 - semantic_0_loss: 0.0024 - semantic_1_loss: 0.0047 - semantic_2_loss: 0.0010WARNING:tensorflow:Can save best model only with val_loss available, skipping.\n"
     ]
    },
    {
     "name": "stderr",
     "output_type": "stream",
     "text": [
      "WARNING:tensorflow:Can save best model only with val_loss available, skipping.\n"
     ]
    },
    {
     "name": "stdout",
     "output_type": "stream",
     "text": [
      "42/42 [==============================] - 23s 548ms/step - loss: 0.0081 - semantic_0_loss: 0.0024 - semantic_1_loss: 0.0047 - semantic_2_loss: 0.0010 - lr: 6.5566e-05\n",
      "Epoch 44/200\n",
      "42/42 [==============================] - ETA: 0s - loss: 0.0081 - semantic_0_loss: 0.0024 - semantic_1_loss: 0.0047 - semantic_2_loss: 0.0010WARNING:tensorflow:Can save best model only with val_loss available, skipping.\n"
     ]
    },
    {
     "name": "stderr",
     "output_type": "stream",
     "text": [
      "WARNING:tensorflow:Can save best model only with val_loss available, skipping.\n"
     ]
    },
    {
     "name": "stdout",
     "output_type": "stream",
     "text": [
      "42/42 [==============================] - 24s 558ms/step - loss: 0.0081 - semantic_0_loss: 0.0024 - semantic_1_loss: 0.0047 - semantic_2_loss: 0.0010 - lr: 6.4910e-05\n",
      "Epoch 45/200\n",
      "42/42 [==============================] - ETA: 0s - loss: 0.0080 - semantic_0_loss: 0.0024 - semantic_1_loss: 0.0046 - semantic_2_loss: 9.9725e-04WARNING:tensorflow:Can save best model only with val_loss available, skipping.\n"
     ]
    },
    {
     "name": "stderr",
     "output_type": "stream",
     "text": [
      "WARNING:tensorflow:Can save best model only with val_loss available, skipping.\n"
     ]
    },
    {
     "name": "stdout",
     "output_type": "stream",
     "text": [
      "42/42 [==============================] - 24s 564ms/step - loss: 0.0080 - semantic_0_loss: 0.0024 - semantic_1_loss: 0.0046 - semantic_2_loss: 9.9725e-04 - lr: 6.4261e-05\n",
      "Epoch 46/200\n",
      "42/42 [==============================] - ETA: 0s - loss: 0.0079 - semantic_0_loss: 0.0024 - semantic_1_loss: 0.0046 - semantic_2_loss: 9.9236e-04WARNING:tensorflow:Can save best model only with val_loss available, skipping.\n"
     ]
    },
    {
     "name": "stderr",
     "output_type": "stream",
     "text": [
      "WARNING:tensorflow:Can save best model only with val_loss available, skipping.\n"
     ]
    },
    {
     "name": "stdout",
     "output_type": "stream",
     "text": [
      "42/42 [==============================] - 24s 556ms/step - loss: 0.0079 - semantic_0_loss: 0.0024 - semantic_1_loss: 0.0046 - semantic_2_loss: 9.9236e-04 - lr: 6.3619e-05\n",
      "Epoch 47/200\n",
      "42/42 [==============================] - ETA: 0s - loss: 0.0079 - semantic_0_loss: 0.0024 - semantic_1_loss: 0.0045 - semantic_2_loss: 9.9291e-04WARNING:tensorflow:Can save best model only with val_loss available, skipping.\n"
     ]
    },
    {
     "name": "stderr",
     "output_type": "stream",
     "text": [
      "WARNING:tensorflow:Can save best model only with val_loss available, skipping.\n"
     ]
    },
    {
     "name": "stdout",
     "output_type": "stream",
     "text": [
      "42/42 [==============================] - 23s 551ms/step - loss: 0.0079 - semantic_0_loss: 0.0024 - semantic_1_loss: 0.0045 - semantic_2_loss: 9.9291e-04 - lr: 6.2982e-05\n",
      "Epoch 48/200\n",
      "42/42 [==============================] - ETA: 0s - loss: 0.0079 - semantic_0_loss: 0.0024 - semantic_1_loss: 0.0045 - semantic_2_loss: 9.8202e-04WARNING:tensorflow:Can save best model only with val_loss available, skipping.\n"
     ]
    },
    {
     "name": "stderr",
     "output_type": "stream",
     "text": [
      "WARNING:tensorflow:Can save best model only with val_loss available, skipping.\n"
     ]
    },
    {
     "name": "stdout",
     "output_type": "stream",
     "text": [
      "42/42 [==============================] - 23s 552ms/step - loss: 0.0079 - semantic_0_loss: 0.0024 - semantic_1_loss: 0.0045 - semantic_2_loss: 9.8202e-04 - lr: 6.2353e-05\n",
      "Epoch 49/200\n",
      "42/42 [==============================] - ETA: 0s - loss: 0.0078 - semantic_0_loss: 0.0024 - semantic_1_loss: 0.0045 - semantic_2_loss: 9.8450e-04WARNING:tensorflow:Can save best model only with val_loss available, skipping.\n"
     ]
    },
    {
     "name": "stderr",
     "output_type": "stream",
     "text": [
      "WARNING:tensorflow:Can save best model only with val_loss available, skipping.\n"
     ]
    },
    {
     "name": "stdout",
     "output_type": "stream",
     "text": [
      "42/42 [==============================] - 24s 560ms/step - loss: 0.0078 - semantic_0_loss: 0.0024 - semantic_1_loss: 0.0045 - semantic_2_loss: 9.8450e-04 - lr: 6.1729e-05\n",
      "Epoch 50/200\n",
      "42/42 [==============================] - ETA: 0s - loss: 0.0077 - semantic_0_loss: 0.0023 - semantic_1_loss: 0.0044 - semantic_2_loss: 9.7057e-04WARNING:tensorflow:Can save best model only with val_loss available, skipping.\n"
     ]
    },
    {
     "name": "stderr",
     "output_type": "stream",
     "text": [
      "WARNING:tensorflow:Can save best model only with val_loss available, skipping.\n"
     ]
    },
    {
     "name": "stdout",
     "output_type": "stream",
     "text": [
      "42/42 [==============================] - 23s 551ms/step - loss: 0.0077 - semantic_0_loss: 0.0023 - semantic_1_loss: 0.0044 - semantic_2_loss: 9.7057e-04 - lr: 6.1112e-05\n",
      "Epoch 51/200\n",
      "42/42 [==============================] - ETA: 0s - loss: 0.0075 - semantic_0_loss: 0.0023 - semantic_1_loss: 0.0043 - semantic_2_loss: 9.6098e-04WARNING:tensorflow:Can save best model only with val_loss available, skipping.\n"
     ]
    },
    {
     "name": "stderr",
     "output_type": "stream",
     "text": [
      "WARNING:tensorflow:Can save best model only with val_loss available, skipping.\n"
     ]
    },
    {
     "name": "stdout",
     "output_type": "stream",
     "text": [
      "42/42 [==============================] - 23s 548ms/step - loss: 0.0075 - semantic_0_loss: 0.0023 - semantic_1_loss: 0.0043 - semantic_2_loss: 9.6098e-04 - lr: 6.0501e-05\n",
      "Epoch 52/200\n",
      "42/42 [==============================] - ETA: 0s - loss: 0.0077 - semantic_0_loss: 0.0023 - semantic_1_loss: 0.0043 - semantic_2_loss: 9.6285e-04WARNING:tensorflow:Can save best model only with val_loss available, skipping.\n"
     ]
    },
    {
     "name": "stderr",
     "output_type": "stream",
     "text": [
      "WARNING:tensorflow:Can save best model only with val_loss available, skipping.\n"
     ]
    },
    {
     "name": "stdout",
     "output_type": "stream",
     "text": [
      "42/42 [==============================] - 24s 559ms/step - loss: 0.0077 - semantic_0_loss: 0.0023 - semantic_1_loss: 0.0043 - semantic_2_loss: 9.6285e-04 - lr: 5.9896e-05\n",
      "Epoch 53/200\n",
      "42/42 [==============================] - ETA: 0s - loss: 0.0076 - semantic_0_loss: 0.0023 - semantic_1_loss: 0.0043 - semantic_2_loss: 9.6379e-04WARNING:tensorflow:Can save best model only with val_loss available, skipping.\n"
     ]
    },
    {
     "name": "stderr",
     "output_type": "stream",
     "text": [
      "WARNING:tensorflow:Can save best model only with val_loss available, skipping.\n"
     ]
    },
    {
     "name": "stdout",
     "output_type": "stream",
     "text": [
      "42/42 [==============================] - 24s 571ms/step - loss: 0.0076 - semantic_0_loss: 0.0023 - semantic_1_loss: 0.0043 - semantic_2_loss: 9.6379e-04 - lr: 5.9297e-05\n",
      "Epoch 54/200\n",
      "42/42 [==============================] - ETA: 0s - loss: 0.0075 - semantic_0_loss: 0.0023 - semantic_1_loss: 0.0043 - semantic_2_loss: 9.6296e-04WARNING:tensorflow:Can save best model only with val_loss available, skipping.\n"
     ]
    },
    {
     "name": "stderr",
     "output_type": "stream",
     "text": [
      "WARNING:tensorflow:Can save best model only with val_loss available, skipping.\n"
     ]
    },
    {
     "name": "stdout",
     "output_type": "stream",
     "text": [
      "42/42 [==============================] - 24s 555ms/step - loss: 0.0075 - semantic_0_loss: 0.0023 - semantic_1_loss: 0.0043 - semantic_2_loss: 9.6296e-04 - lr: 5.8704e-05\n",
      "Epoch 55/200\n",
      "42/42 [==============================] - ETA: 0s - loss: 0.0073 - semantic_0_loss: 0.0022 - semantic_1_loss: 0.0042 - semantic_2_loss: 9.5074e-04WARNING:tensorflow:Can save best model only with val_loss available, skipping.\n"
     ]
    },
    {
     "name": "stderr",
     "output_type": "stream",
     "text": [
      "WARNING:tensorflow:Can save best model only with val_loss available, skipping.\n"
     ]
    },
    {
     "name": "stdout",
     "output_type": "stream",
     "text": [
      "42/42 [==============================] - 24s 556ms/step - loss: 0.0073 - semantic_0_loss: 0.0022 - semantic_1_loss: 0.0042 - semantic_2_loss: 9.5074e-04 - lr: 5.8117e-05\n",
      "Epoch 56/200\n",
      "42/42 [==============================] - ETA: 0s - loss: 0.0074 - semantic_0_loss: 0.0023 - semantic_1_loss: 0.0042 - semantic_2_loss: 9.5811e-04WARNING:tensorflow:Can save best model only with val_loss available, skipping.\n"
     ]
    },
    {
     "name": "stderr",
     "output_type": "stream",
     "text": [
      "WARNING:tensorflow:Can save best model only with val_loss available, skipping.\n"
     ]
    },
    {
     "name": "stdout",
     "output_type": "stream",
     "text": [
      "42/42 [==============================] - 23s 550ms/step - loss: 0.0074 - semantic_0_loss: 0.0023 - semantic_1_loss: 0.0042 - semantic_2_loss: 9.5811e-04 - lr: 5.7535e-05\n",
      "Epoch 57/200\n",
      "42/42 [==============================] - ETA: 0s - loss: 0.0073 - semantic_0_loss: 0.0022 - semantic_1_loss: 0.0041 - semantic_2_loss: 9.3388e-04WARNING:tensorflow:Can save best model only with val_loss available, skipping.\n"
     ]
    },
    {
     "name": "stderr",
     "output_type": "stream",
     "text": [
      "WARNING:tensorflow:Can save best model only with val_loss available, skipping.\n"
     ]
    },
    {
     "name": "stdout",
     "output_type": "stream",
     "text": [
      "42/42 [==============================] - 23s 546ms/step - loss: 0.0073 - semantic_0_loss: 0.0022 - semantic_1_loss: 0.0041 - semantic_2_loss: 9.3388e-04 - lr: 5.6960e-05\n",
      "Epoch 58/200\n",
      "42/42 [==============================] - ETA: 0s - loss: 0.0075 - semantic_0_loss: 0.0023 - semantic_1_loss: 0.0043 - semantic_2_loss: 9.5233e-04WARNING:tensorflow:Can save best model only with val_loss available, skipping.\n"
     ]
    },
    {
     "name": "stderr",
     "output_type": "stream",
     "text": [
      "WARNING:tensorflow:Can save best model only with val_loss available, skipping.\n"
     ]
    },
    {
     "name": "stdout",
     "output_type": "stream",
     "text": [
      "42/42 [==============================] - 23s 554ms/step - loss: 0.0075 - semantic_0_loss: 0.0023 - semantic_1_loss: 0.0043 - semantic_2_loss: 9.5233e-04 - lr: 5.6391e-05\n",
      "Epoch 59/200\n",
      "42/42 [==============================] - ETA: 0s - loss: 0.0073 - semantic_0_loss: 0.0022 - semantic_1_loss: 0.0041 - semantic_2_loss: 9.4676e-04WARNING:tensorflow:Can save best model only with val_loss available, skipping.\n"
     ]
    },
    {
     "name": "stderr",
     "output_type": "stream",
     "text": [
      "WARNING:tensorflow:Can save best model only with val_loss available, skipping.\n"
     ]
    },
    {
     "name": "stdout",
     "output_type": "stream",
     "text": [
      "42/42 [==============================] - 24s 557ms/step - loss: 0.0073 - semantic_0_loss: 0.0022 - semantic_1_loss: 0.0041 - semantic_2_loss: 9.4676e-04 - lr: 5.5827e-05\n",
      "Epoch 60/200\n",
      "42/42 [==============================] - ETA: 0s - loss: 0.0072 - semantic_0_loss: 0.0022 - semantic_1_loss: 0.0040 - semantic_2_loss: 9.3152e-04WARNING:tensorflow:Can save best model only with val_loss available, skipping.\n"
     ]
    },
    {
     "name": "stderr",
     "output_type": "stream",
     "text": [
      "WARNING:tensorflow:Can save best model only with val_loss available, skipping.\n"
     ]
    },
    {
     "name": "stdout",
     "output_type": "stream",
     "text": [
      "42/42 [==============================] - 23s 553ms/step - loss: 0.0072 - semantic_0_loss: 0.0022 - semantic_1_loss: 0.0040 - semantic_2_loss: 9.3152e-04 - lr: 5.5268e-05\n",
      "Epoch 61/200\n",
      "42/42 [==============================] - ETA: 0s - loss: 0.0070 - semantic_0_loss: 0.0022 - semantic_1_loss: 0.0039 - semantic_2_loss: 9.2031e-04WARNING:tensorflow:Can save best model only with val_loss available, skipping.\n"
     ]
    },
    {
     "name": "stderr",
     "output_type": "stream",
     "text": [
      "WARNING:tensorflow:Can save best model only with val_loss available, skipping.\n"
     ]
    },
    {
     "name": "stdout",
     "output_type": "stream",
     "text": [
      "42/42 [==============================] - 23s 547ms/step - loss: 0.0070 - semantic_0_loss: 0.0022 - semantic_1_loss: 0.0039 - semantic_2_loss: 9.2031e-04 - lr: 5.4716e-05\n",
      "Epoch 62/200\n",
      "42/42 [==============================] - ETA: 0s - loss: 0.0071 - semantic_0_loss: 0.0021 - semantic_1_loss: 0.0040 - semantic_2_loss: 9.2629e-04WARNING:tensorflow:Can save best model only with val_loss available, skipping.\n"
     ]
    },
    {
     "name": "stderr",
     "output_type": "stream",
     "text": [
      "WARNING:tensorflow:Can save best model only with val_loss available, skipping.\n"
     ]
    },
    {
     "name": "stdout",
     "output_type": "stream",
     "text": [
      "42/42 [==============================] - 24s 557ms/step - loss: 0.0071 - semantic_0_loss: 0.0021 - semantic_1_loss: 0.0040 - semantic_2_loss: 9.2629e-04 - lr: 5.4169e-05\n",
      "Epoch 63/200\n",
      "42/42 [==============================] - ETA: 0s - loss: 0.0071 - semantic_0_loss: 0.0022 - semantic_1_loss: 0.0039 - semantic_2_loss: 9.2924e-04WARNING:tensorflow:Can save best model only with val_loss available, skipping.\n"
     ]
    },
    {
     "name": "stderr",
     "output_type": "stream",
     "text": [
      "WARNING:tensorflow:Can save best model only with val_loss available, skipping.\n"
     ]
    },
    {
     "name": "stdout",
     "output_type": "stream",
     "text": [
      "42/42 [==============================] - 23s 549ms/step - loss: 0.0071 - semantic_0_loss: 0.0022 - semantic_1_loss: 0.0039 - semantic_2_loss: 9.2924e-04 - lr: 5.3627e-05\n",
      "Epoch 64/200\n",
      "42/42 [==============================] - ETA: 0s - loss: 0.0070 - semantic_0_loss: 0.0022 - semantic_1_loss: 0.0039 - semantic_2_loss: 9.2695e-04WARNING:tensorflow:Can save best model only with val_loss available, skipping.\n"
     ]
    },
    {
     "name": "stderr",
     "output_type": "stream",
     "text": [
      "WARNING:tensorflow:Can save best model only with val_loss available, skipping.\n"
     ]
    },
    {
     "name": "stdout",
     "output_type": "stream",
     "text": [
      "42/42 [==============================] - 24s 556ms/step - loss: 0.0070 - semantic_0_loss: 0.0022 - semantic_1_loss: 0.0039 - semantic_2_loss: 9.2695e-04 - lr: 5.3091e-05\n",
      "Epoch 65/200\n",
      "42/42 [==============================] - ETA: 0s - loss: 0.0071 - semantic_0_loss: 0.0022 - semantic_1_loss: 0.0039 - semantic_2_loss: 9.2070e-04WARNING:tensorflow:Can save best model only with val_loss available, skipping.\n"
     ]
    },
    {
     "name": "stderr",
     "output_type": "stream",
     "text": [
      "WARNING:tensorflow:Can save best model only with val_loss available, skipping.\n"
     ]
    },
    {
     "name": "stdout",
     "output_type": "stream",
     "text": [
      "42/42 [==============================] - 24s 556ms/step - loss: 0.0071 - semantic_0_loss: 0.0022 - semantic_1_loss: 0.0039 - semantic_2_loss: 9.2070e-04 - lr: 5.2560e-05\n",
      "Epoch 66/200\n",
      "42/42 [==============================] - ETA: 0s - loss: 0.0069 - semantic_0_loss: 0.0021 - semantic_1_loss: 0.0039 - semantic_2_loss: 9.1299e-04WARNING:tensorflow:Can save best model only with val_loss available, skipping.\n"
     ]
    },
    {
     "name": "stderr",
     "output_type": "stream",
     "text": [
      "WARNING:tensorflow:Can save best model only with val_loss available, skipping.\n"
     ]
    },
    {
     "name": "stdout",
     "output_type": "stream",
     "text": [
      "42/42 [==============================] - 24s 557ms/step - loss: 0.0069 - semantic_0_loss: 0.0021 - semantic_1_loss: 0.0039 - semantic_2_loss: 9.1299e-04 - lr: 5.2034e-05\n",
      "Epoch 67/200\n",
      "42/42 [==============================] - ETA: 0s - loss: 0.0068 - semantic_0_loss: 0.0021 - semantic_1_loss: 0.0038 - semantic_2_loss: 9.1158e-04WARNING:tensorflow:Can save best model only with val_loss available, skipping.\n"
     ]
    },
    {
     "name": "stderr",
     "output_type": "stream",
     "text": [
      "WARNING:tensorflow:Can save best model only with val_loss available, skipping.\n"
     ]
    },
    {
     "name": "stdout",
     "output_type": "stream",
     "text": [
      "42/42 [==============================] - 24s 558ms/step - loss: 0.0068 - semantic_0_loss: 0.0021 - semantic_1_loss: 0.0038 - semantic_2_loss: 9.1158e-04 - lr: 5.1514e-05\n",
      "Epoch 68/200\n",
      "42/42 [==============================] - ETA: 0s - loss: 0.0069 - semantic_0_loss: 0.0021 - semantic_1_loss: 0.0038 - semantic_2_loss: 9.1088e-04WARNING:tensorflow:Can save best model only with val_loss available, skipping.\n"
     ]
    },
    {
     "name": "stderr",
     "output_type": "stream",
     "text": [
      "WARNING:tensorflow:Can save best model only with val_loss available, skipping.\n"
     ]
    },
    {
     "name": "stdout",
     "output_type": "stream",
     "text": [
      "42/42 [==============================] - 24s 559ms/step - loss: 0.0069 - semantic_0_loss: 0.0021 - semantic_1_loss: 0.0038 - semantic_2_loss: 9.1088e-04 - lr: 5.0999e-05\n",
      "Epoch 69/200\n",
      "42/42 [==============================] - ETA: 0s - loss: 0.0067 - semantic_0_loss: 0.0021 - semantic_1_loss: 0.0037 - semantic_2_loss: 8.9578e-04WARNING:tensorflow:Can save best model only with val_loss available, skipping.\n"
     ]
    },
    {
     "name": "stderr",
     "output_type": "stream",
     "text": [
      "WARNING:tensorflow:Can save best model only with val_loss available, skipping.\n"
     ]
    },
    {
     "name": "stdout",
     "output_type": "stream",
     "text": [
      "42/42 [==============================] - 24s 555ms/step - loss: 0.0067 - semantic_0_loss: 0.0021 - semantic_1_loss: 0.0037 - semantic_2_loss: 8.9578e-04 - lr: 5.0489e-05\n",
      "Epoch 70/200\n",
      "42/42 [==============================] - ETA: 0s - loss: 0.0067 - semantic_0_loss: 0.0021 - semantic_1_loss: 0.0037 - semantic_2_loss: 9.0732e-04WARNING:tensorflow:Can save best model only with val_loss available, skipping.\n"
     ]
    },
    {
     "name": "stderr",
     "output_type": "stream",
     "text": [
      "WARNING:tensorflow:Can save best model only with val_loss available, skipping.\n"
     ]
    },
    {
     "name": "stdout",
     "output_type": "stream",
     "text": [
      "42/42 [==============================] - 24s 557ms/step - loss: 0.0067 - semantic_0_loss: 0.0021 - semantic_1_loss: 0.0037 - semantic_2_loss: 9.0732e-04 - lr: 4.9984e-05\n",
      "Epoch 71/200\n",
      "42/42 [==============================] - ETA: 0s - loss: 0.0065 - semantic_0_loss: 0.0020 - semantic_1_loss: 0.0036 - semantic_2_loss: 8.9530e-04WARNING:tensorflow:Can save best model only with val_loss available, skipping.\n"
     ]
    },
    {
     "name": "stderr",
     "output_type": "stream",
     "text": [
      "WARNING:tensorflow:Can save best model only with val_loss available, skipping.\n"
     ]
    },
    {
     "name": "stdout",
     "output_type": "stream",
     "text": [
      "42/42 [==============================] - 23s 546ms/step - loss: 0.0065 - semantic_0_loss: 0.0020 - semantic_1_loss: 0.0036 - semantic_2_loss: 8.9530e-04 - lr: 4.9484e-05\n",
      "Epoch 72/200\n",
      "42/42 [==============================] - ETA: 0s - loss: 0.0067 - semantic_0_loss: 0.0021 - semantic_1_loss: 0.0037 - semantic_2_loss: 9.0303e-04WARNING:tensorflow:Can save best model only with val_loss available, skipping.\n"
     ]
    },
    {
     "name": "stderr",
     "output_type": "stream",
     "text": [
      "WARNING:tensorflow:Can save best model only with val_loss available, skipping.\n"
     ]
    },
    {
     "name": "stdout",
     "output_type": "stream",
     "text": [
      "42/42 [==============================] - 23s 550ms/step - loss: 0.0067 - semantic_0_loss: 0.0021 - semantic_1_loss: 0.0037 - semantic_2_loss: 9.0303e-04 - lr: 4.8989e-05\n",
      "Epoch 73/200\n",
      "42/42 [==============================] - ETA: 0s - loss: 0.0066 - semantic_0_loss: 0.0021 - semantic_1_loss: 0.0037 - semantic_2_loss: 8.9762e-04WARNING:tensorflow:Can save best model only with val_loss available, skipping.\n"
     ]
    },
    {
     "name": "stderr",
     "output_type": "stream",
     "text": [
      "WARNING:tensorflow:Can save best model only with val_loss available, skipping.\n"
     ]
    },
    {
     "name": "stdout",
     "output_type": "stream",
     "text": [
      "42/42 [==============================] - 24s 557ms/step - loss: 0.0066 - semantic_0_loss: 0.0021 - semantic_1_loss: 0.0037 - semantic_2_loss: 8.9762e-04 - lr: 4.8499e-05\n",
      "Epoch 74/200\n",
      "42/42 [==============================] - ETA: 0s - loss: 0.0065 - semantic_0_loss: 0.0020 - semantic_1_loss: 0.0036 - semantic_2_loss: 8.8266e-04WARNING:tensorflow:Can save best model only with val_loss available, skipping.\n"
     ]
    },
    {
     "name": "stderr",
     "output_type": "stream",
     "text": [
      "WARNING:tensorflow:Can save best model only with val_loss available, skipping.\n"
     ]
    },
    {
     "name": "stdout",
     "output_type": "stream",
     "text": [
      "42/42 [==============================] - 24s 556ms/step - loss: 0.0065 - semantic_0_loss: 0.0020 - semantic_1_loss: 0.0036 - semantic_2_loss: 8.8266e-04 - lr: 4.8014e-05\n",
      "Epoch 75/200\n",
      "42/42 [==============================] - ETA: 0s - loss: 0.0066 - semantic_0_loss: 0.0020 - semantic_1_loss: 0.0036 - semantic_2_loss: 8.9262e-04WARNING:tensorflow:Can save best model only with val_loss available, skipping.\n"
     ]
    },
    {
     "name": "stderr",
     "output_type": "stream",
     "text": [
      "WARNING:tensorflow:Can save best model only with val_loss available, skipping.\n"
     ]
    },
    {
     "name": "stdout",
     "output_type": "stream",
     "text": [
      "42/42 [==============================] - 24s 559ms/step - loss: 0.0066 - semantic_0_loss: 0.0020 - semantic_1_loss: 0.0036 - semantic_2_loss: 8.9262e-04 - lr: 4.7534e-05\n",
      "Epoch 76/200\n",
      "42/42 [==============================] - ETA: 0s - loss: 0.0065 - semantic_0_loss: 0.0020 - semantic_1_loss: 0.0036 - semantic_2_loss: 8.9298e-04WARNING:tensorflow:Can save best model only with val_loss available, skipping.\n"
     ]
    },
    {
     "name": "stderr",
     "output_type": "stream",
     "text": [
      "WARNING:tensorflow:Can save best model only with val_loss available, skipping.\n"
     ]
    },
    {
     "name": "stdout",
     "output_type": "stream",
     "text": [
      "42/42 [==============================] - 24s 558ms/step - loss: 0.0065 - semantic_0_loss: 0.0020 - semantic_1_loss: 0.0036 - semantic_2_loss: 8.9298e-04 - lr: 4.7059e-05\n",
      "Epoch 77/200\n",
      "42/42 [==============================] - ETA: 0s - loss: 0.0064 - semantic_0_loss: 0.0020 - semantic_1_loss: 0.0035 - semantic_2_loss: 8.7475e-04WARNING:tensorflow:Can save best model only with val_loss available, skipping.\n"
     ]
    },
    {
     "name": "stderr",
     "output_type": "stream",
     "text": [
      "WARNING:tensorflow:Can save best model only with val_loss available, skipping.\n"
     ]
    },
    {
     "name": "stdout",
     "output_type": "stream",
     "text": [
      "42/42 [==============================] - 24s 559ms/step - loss: 0.0064 - semantic_0_loss: 0.0020 - semantic_1_loss: 0.0035 - semantic_2_loss: 8.7475e-04 - lr: 4.6588e-05\n",
      "Epoch 78/200\n",
      "42/42 [==============================] - ETA: 0s - loss: 0.0064 - semantic_0_loss: 0.0020 - semantic_1_loss: 0.0035 - semantic_2_loss: 8.8294e-04WARNING:tensorflow:Can save best model only with val_loss available, skipping.\n"
     ]
    },
    {
     "name": "stderr",
     "output_type": "stream",
     "text": [
      "WARNING:tensorflow:Can save best model only with val_loss available, skipping.\n"
     ]
    },
    {
     "name": "stdout",
     "output_type": "stream",
     "text": [
      "42/42 [==============================] - 23s 551ms/step - loss: 0.0064 - semantic_0_loss: 0.0020 - semantic_1_loss: 0.0035 - semantic_2_loss: 8.8294e-04 - lr: 4.6122e-05\n",
      "Epoch 79/200\n",
      "42/42 [==============================] - ETA: 0s - loss: 0.0065 - semantic_0_loss: 0.0020 - semantic_1_loss: 0.0036 - semantic_2_loss: 8.8430e-04WARNING:tensorflow:Can save best model only with val_loss available, skipping.\n"
     ]
    },
    {
     "name": "stderr",
     "output_type": "stream",
     "text": [
      "WARNING:tensorflow:Can save best model only with val_loss available, skipping.\n"
     ]
    },
    {
     "name": "stdout",
     "output_type": "stream",
     "text": [
      "42/42 [==============================] - 23s 551ms/step - loss: 0.0065 - semantic_0_loss: 0.0020 - semantic_1_loss: 0.0036 - semantic_2_loss: 8.8430e-04 - lr: 4.5661e-05\n",
      "Epoch 80/200\n",
      "42/42 [==============================] - ETA: 0s - loss: 0.0063 - semantic_0_loss: 0.0019 - semantic_1_loss: 0.0035 - semantic_2_loss: 8.7155e-04WARNING:tensorflow:Can save best model only with val_loss available, skipping.\n"
     ]
    },
    {
     "name": "stderr",
     "output_type": "stream",
     "text": [
      "WARNING:tensorflow:Can save best model only with val_loss available, skipping.\n"
     ]
    },
    {
     "name": "stdout",
     "output_type": "stream",
     "text": [
      "42/42 [==============================] - 23s 550ms/step - loss: 0.0063 - semantic_0_loss: 0.0019 - semantic_1_loss: 0.0035 - semantic_2_loss: 8.7155e-04 - lr: 4.5204e-05\n",
      "Epoch 81/200\n",
      "42/42 [==============================] - ETA: 0s - loss: 0.0063 - semantic_0_loss: 0.0020 - semantic_1_loss: 0.0034 - semantic_2_loss: 8.6551e-04WARNING:tensorflow:Can save best model only with val_loss available, skipping.\n"
     ]
    },
    {
     "name": "stderr",
     "output_type": "stream",
     "text": [
      "WARNING:tensorflow:Can save best model only with val_loss available, skipping.\n"
     ]
    },
    {
     "name": "stdout",
     "output_type": "stream",
     "text": [
      "42/42 [==============================] - 24s 559ms/step - loss: 0.0063 - semantic_0_loss: 0.0020 - semantic_1_loss: 0.0034 - semantic_2_loss: 8.6551e-04 - lr: 4.4752e-05\n",
      "Epoch 82/200\n",
      "42/42 [==============================] - ETA: 0s - loss: 0.0064 - semantic_0_loss: 0.0020 - semantic_1_loss: 0.0036 - semantic_2_loss: 8.7808e-04WARNING:tensorflow:Can save best model only with val_loss available, skipping.\n"
     ]
    },
    {
     "name": "stderr",
     "output_type": "stream",
     "text": [
      "WARNING:tensorflow:Can save best model only with val_loss available, skipping.\n"
     ]
    },
    {
     "name": "stdout",
     "output_type": "stream",
     "text": [
      "42/42 [==============================] - 23s 552ms/step - loss: 0.0064 - semantic_0_loss: 0.0020 - semantic_1_loss: 0.0036 - semantic_2_loss: 8.7808e-04 - lr: 4.4305e-05\n",
      "Epoch 83/200\n",
      "42/42 [==============================] - ETA: 0s - loss: 0.0063 - semantic_0_loss: 0.0019 - semantic_1_loss: 0.0035 - semantic_2_loss: 8.8010e-04WARNING:tensorflow:Can save best model only with val_loss available, skipping.\n"
     ]
    },
    {
     "name": "stderr",
     "output_type": "stream",
     "text": [
      "WARNING:tensorflow:Can save best model only with val_loss available, skipping.\n"
     ]
    },
    {
     "name": "stdout",
     "output_type": "stream",
     "text": [
      "42/42 [==============================] - 23s 552ms/step - loss: 0.0063 - semantic_0_loss: 0.0019 - semantic_1_loss: 0.0035 - semantic_2_loss: 8.8010e-04 - lr: 4.3862e-05\n",
      "Epoch 84/200\n",
      "42/42 [==============================] - ETA: 0s - loss: 0.0063 - semantic_0_loss: 0.0020 - semantic_1_loss: 0.0035 - semantic_2_loss: 8.8173e-04WARNING:tensorflow:Can save best model only with val_loss available, skipping.\n"
     ]
    },
    {
     "name": "stderr",
     "output_type": "stream",
     "text": [
      "WARNING:tensorflow:Can save best model only with val_loss available, skipping.\n"
     ]
    },
    {
     "name": "stdout",
     "output_type": "stream",
     "text": [
      "42/42 [==============================] - 24s 558ms/step - loss: 0.0063 - semantic_0_loss: 0.0020 - semantic_1_loss: 0.0035 - semantic_2_loss: 8.8173e-04 - lr: 4.3423e-05\n",
      "Epoch 85/200\n",
      "42/42 [==============================] - ETA: 0s - loss: 0.0061 - semantic_0_loss: 0.0019 - semantic_1_loss: 0.0034 - semantic_2_loss: 8.5642e-04WARNING:tensorflow:Can save best model only with val_loss available, skipping.\n"
     ]
    },
    {
     "name": "stderr",
     "output_type": "stream",
     "text": [
      "WARNING:tensorflow:Can save best model only with val_loss available, skipping.\n"
     ]
    },
    {
     "name": "stdout",
     "output_type": "stream",
     "text": [
      "42/42 [==============================] - 23s 552ms/step - loss: 0.0061 - semantic_0_loss: 0.0019 - semantic_1_loss: 0.0034 - semantic_2_loss: 8.5642e-04 - lr: 4.2989e-05\n",
      "Epoch 86/200\n",
      "42/42 [==============================] - ETA: 0s - loss: 0.0062 - semantic_0_loss: 0.0019 - semantic_1_loss: 0.0034 - semantic_2_loss: 8.6335e-04WARNING:tensorflow:Can save best model only with val_loss available, skipping.\n"
     ]
    },
    {
     "name": "stderr",
     "output_type": "stream",
     "text": [
      "WARNING:tensorflow:Can save best model only with val_loss available, skipping.\n"
     ]
    },
    {
     "name": "stdout",
     "output_type": "stream",
     "text": [
      "42/42 [==============================] - 23s 552ms/step - loss: 0.0062 - semantic_0_loss: 0.0019 - semantic_1_loss: 0.0034 - semantic_2_loss: 8.6335e-04 - lr: 4.2559e-05\n",
      "Epoch 87/200\n",
      "42/42 [==============================] - ETA: 0s - loss: 0.0061 - semantic_0_loss: 0.0019 - semantic_1_loss: 0.0034 - semantic_2_loss: 8.6579e-04WARNING:tensorflow:Can save best model only with val_loss available, skipping.\n"
     ]
    },
    {
     "name": "stderr",
     "output_type": "stream",
     "text": [
      "WARNING:tensorflow:Can save best model only with val_loss available, skipping.\n"
     ]
    },
    {
     "name": "stdout",
     "output_type": "stream",
     "text": [
      "42/42 [==============================] - 24s 556ms/step - loss: 0.0061 - semantic_0_loss: 0.0019 - semantic_1_loss: 0.0034 - semantic_2_loss: 8.6579e-04 - lr: 4.2133e-05\n",
      "Epoch 88/200\n",
      "42/42 [==============================] - ETA: 0s - loss: 0.0062 - semantic_0_loss: 0.0020 - semantic_1_loss: 0.0034 - semantic_2_loss: 8.6047e-04WARNING:tensorflow:Can save best model only with val_loss available, skipping.\n"
     ]
    },
    {
     "name": "stderr",
     "output_type": "stream",
     "text": [
      "WARNING:tensorflow:Can save best model only with val_loss available, skipping.\n"
     ]
    },
    {
     "name": "stdout",
     "output_type": "stream",
     "text": [
      "42/42 [==============================] - 24s 557ms/step - loss: 0.0062 - semantic_0_loss: 0.0020 - semantic_1_loss: 0.0034 - semantic_2_loss: 8.6047e-04 - lr: 4.1712e-05\n",
      "Epoch 89/200\n",
      "42/42 [==============================] - ETA: 0s - loss: 0.0060 - semantic_0_loss: 0.0019 - semantic_1_loss: 0.0033 - semantic_2_loss: 8.4823e-04WARNING:tensorflow:Can save best model only with val_loss available, skipping.\n"
     ]
    },
    {
     "name": "stderr",
     "output_type": "stream",
     "text": [
      "WARNING:tensorflow:Can save best model only with val_loss available, skipping.\n"
     ]
    },
    {
     "name": "stdout",
     "output_type": "stream",
     "text": [
      "42/42 [==============================] - 23s 552ms/step - loss: 0.0060 - semantic_0_loss: 0.0019 - semantic_1_loss: 0.0033 - semantic_2_loss: 8.4823e-04 - lr: 4.1295e-05\n",
      "Epoch 90/200\n",
      "42/42 [==============================] - ETA: 0s - loss: 0.0060 - semantic_0_loss: 0.0019 - semantic_1_loss: 0.0033 - semantic_2_loss: 8.5680e-04WARNING:tensorflow:Can save best model only with val_loss available, skipping.\n"
     ]
    },
    {
     "name": "stderr",
     "output_type": "stream",
     "text": [
      "WARNING:tensorflow:Can save best model only with val_loss available, skipping.\n"
     ]
    },
    {
     "name": "stdout",
     "output_type": "stream",
     "text": [
      "42/42 [==============================] - 24s 561ms/step - loss: 0.0060 - semantic_0_loss: 0.0019 - semantic_1_loss: 0.0033 - semantic_2_loss: 8.5680e-04 - lr: 4.0882e-05\n",
      "Epoch 91/200\n",
      "42/42 [==============================] - ETA: 0s - loss: 0.0060 - semantic_0_loss: 0.0019 - semantic_1_loss: 0.0033 - semantic_2_loss: 8.5160e-04WARNING:tensorflow:Can save best model only with val_loss available, skipping.\n"
     ]
    },
    {
     "name": "stderr",
     "output_type": "stream",
     "text": [
      "WARNING:tensorflow:Can save best model only with val_loss available, skipping.\n"
     ]
    },
    {
     "name": "stdout",
     "output_type": "stream",
     "text": [
      "42/42 [==============================] - 24s 557ms/step - loss: 0.0060 - semantic_0_loss: 0.0019 - semantic_1_loss: 0.0033 - semantic_2_loss: 8.5160e-04 - lr: 4.0473e-05\n",
      "Epoch 92/200\n",
      "42/42 [==============================] - ETA: 0s - loss: 0.0059 - semantic_0_loss: 0.0018 - semantic_1_loss: 0.0032 - semantic_2_loss: 8.3949e-04WARNING:tensorflow:Can save best model only with val_loss available, skipping.\n"
     ]
    },
    {
     "name": "stderr",
     "output_type": "stream",
     "text": [
      "WARNING:tensorflow:Can save best model only with val_loss available, skipping.\n"
     ]
    },
    {
     "name": "stdout",
     "output_type": "stream",
     "text": [
      "42/42 [==============================] - 23s 552ms/step - loss: 0.0059 - semantic_0_loss: 0.0018 - semantic_1_loss: 0.0032 - semantic_2_loss: 8.3949e-04 - lr: 4.0068e-05\n",
      "Epoch 93/200\n",
      "42/42 [==============================] - ETA: 0s - loss: 0.0061 - semantic_0_loss: 0.0019 - semantic_1_loss: 0.0033 - semantic_2_loss: 8.5496e-04WARNING:tensorflow:Can save best model only with val_loss available, skipping.\n"
     ]
    },
    {
     "name": "stderr",
     "output_type": "stream",
     "text": [
      "WARNING:tensorflow:Can save best model only with val_loss available, skipping.\n"
     ]
    },
    {
     "name": "stdout",
     "output_type": "stream",
     "text": [
      "42/42 [==============================] - 24s 562ms/step - loss: 0.0061 - semantic_0_loss: 0.0019 - semantic_1_loss: 0.0033 - semantic_2_loss: 8.5496e-04 - lr: 3.9668e-05\n",
      "Epoch 94/200\n",
      "42/42 [==============================] - ETA: 0s - loss: 0.0059 - semantic_0_loss: 0.0018 - semantic_1_loss: 0.0032 - semantic_2_loss: 8.4334e-04WARNING:tensorflow:Can save best model only with val_loss available, skipping.\n"
     ]
    },
    {
     "name": "stderr",
     "output_type": "stream",
     "text": [
      "WARNING:tensorflow:Can save best model only with val_loss available, skipping.\n"
     ]
    },
    {
     "name": "stdout",
     "output_type": "stream",
     "text": [
      "42/42 [==============================] - 23s 561ms/step - loss: 0.0059 - semantic_0_loss: 0.0018 - semantic_1_loss: 0.0032 - semantic_2_loss: 8.4334e-04 - lr: 3.9271e-05\n",
      "Epoch 95/200\n",
      "42/42 [==============================] - ETA: 0s - loss: 0.0060 - semantic_0_loss: 0.0019 - semantic_1_loss: 0.0033 - semantic_2_loss: 8.5336e-04WARNING:tensorflow:Can save best model only with val_loss available, skipping.\n"
     ]
    },
    {
     "name": "stderr",
     "output_type": "stream",
     "text": [
      "WARNING:tensorflow:Can save best model only with val_loss available, skipping.\n"
     ]
    },
    {
     "name": "stdout",
     "output_type": "stream",
     "text": [
      "42/42 [==============================] - 24s 559ms/step - loss: 0.0060 - semantic_0_loss: 0.0019 - semantic_1_loss: 0.0033 - semantic_2_loss: 8.5336e-04 - lr: 3.8878e-05\n",
      "Epoch 96/200\n",
      "42/42 [==============================] - ETA: 0s - loss: 0.0058 - semantic_0_loss: 0.0018 - semantic_1_loss: 0.0032 - semantic_2_loss: 8.4452e-04WARNING:tensorflow:Can save best model only with val_loss available, skipping.\n"
     ]
    },
    {
     "name": "stderr",
     "output_type": "stream",
     "text": [
      "WARNING:tensorflow:Can save best model only with val_loss available, skipping.\n"
     ]
    },
    {
     "name": "stdout",
     "output_type": "stream",
     "text": [
      "42/42 [==============================] - 23s 549ms/step - loss: 0.0058 - semantic_0_loss: 0.0018 - semantic_1_loss: 0.0032 - semantic_2_loss: 8.4452e-04 - lr: 3.8490e-05\n",
      "Epoch 97/200\n",
      "42/42 [==============================] - ETA: 0s - loss: 0.0059 - semantic_0_loss: 0.0018 - semantic_1_loss: 0.0032 - semantic_2_loss: 8.4365e-04WARNING:tensorflow:Can save best model only with val_loss available, skipping.\n"
     ]
    },
    {
     "name": "stderr",
     "output_type": "stream",
     "text": [
      "WARNING:tensorflow:Can save best model only with val_loss available, skipping.\n"
     ]
    },
    {
     "name": "stdout",
     "output_type": "stream",
     "text": [
      "42/42 [==============================] - 24s 559ms/step - loss: 0.0059 - semantic_0_loss: 0.0018 - semantic_1_loss: 0.0032 - semantic_2_loss: 8.4365e-04 - lr: 3.8105e-05\n",
      "Epoch 98/200\n",
      "42/42 [==============================] - ETA: 0s - loss: 0.0059 - semantic_0_loss: 0.0018 - semantic_1_loss: 0.0032 - semantic_2_loss: 8.4269e-04WARNING:tensorflow:Can save best model only with val_loss available, skipping.\n"
     ]
    },
    {
     "name": "stderr",
     "output_type": "stream",
     "text": [
      "WARNING:tensorflow:Can save best model only with val_loss available, skipping.\n"
     ]
    },
    {
     "name": "stdout",
     "output_type": "stream",
     "text": [
      "42/42 [==============================] - 23s 552ms/step - loss: 0.0059 - semantic_0_loss: 0.0018 - semantic_1_loss: 0.0032 - semantic_2_loss: 8.4269e-04 - lr: 3.7724e-05\n",
      "Epoch 99/200\n",
      "42/42 [==============================] - ETA: 0s - loss: 0.0059 - semantic_0_loss: 0.0018 - semantic_1_loss: 0.0032 - semantic_2_loss: 8.4762e-04WARNING:tensorflow:Can save best model only with val_loss available, skipping.\n"
     ]
    },
    {
     "name": "stderr",
     "output_type": "stream",
     "text": [
      "WARNING:tensorflow:Can save best model only with val_loss available, skipping.\n"
     ]
    },
    {
     "name": "stdout",
     "output_type": "stream",
     "text": [
      "42/42 [==============================] - 24s 557ms/step - loss: 0.0059 - semantic_0_loss: 0.0018 - semantic_1_loss: 0.0032 - semantic_2_loss: 8.4762e-04 - lr: 3.7346e-05\n",
      "Epoch 100/200\n",
      "42/42 [==============================] - ETA: 0s - loss: 0.0057 - semantic_0_loss: 0.0018 - semantic_1_loss: 0.0031 - semantic_2_loss: 8.3204e-04WARNING:tensorflow:Can save best model only with val_loss available, skipping.\n"
     ]
    },
    {
     "name": "stderr",
     "output_type": "stream",
     "text": [
      "WARNING:tensorflow:Can save best model only with val_loss available, skipping.\n"
     ]
    },
    {
     "name": "stdout",
     "output_type": "stream",
     "text": [
      "42/42 [==============================] - 24s 556ms/step - loss: 0.0057 - semantic_0_loss: 0.0018 - semantic_1_loss: 0.0031 - semantic_2_loss: 8.3204e-04 - lr: 3.6973e-05\n",
      "Epoch 101/200\n",
      "42/42 [==============================] - ETA: 0s - loss: 0.0056 - semantic_0_loss: 0.0017 - semantic_1_loss: 0.0030 - semantic_2_loss: 8.2578e-04WARNING:tensorflow:Can save best model only with val_loss available, skipping.\n"
     ]
    },
    {
     "name": "stderr",
     "output_type": "stream",
     "text": [
      "WARNING:tensorflow:Can save best model only with val_loss available, skipping.\n"
     ]
    },
    {
     "name": "stdout",
     "output_type": "stream",
     "text": [
      "42/42 [==============================] - 23s 550ms/step - loss: 0.0056 - semantic_0_loss: 0.0017 - semantic_1_loss: 0.0030 - semantic_2_loss: 8.2578e-04 - lr: 3.6603e-05\n",
      "Epoch 102/200\n",
      "42/42 [==============================] - ETA: 0s - loss: 0.0059 - semantic_0_loss: 0.0018 - semantic_1_loss: 0.0032 - semantic_2_loss: 8.4152e-04WARNING:tensorflow:Can save best model only with val_loss available, skipping.\n"
     ]
    },
    {
     "name": "stderr",
     "output_type": "stream",
     "text": [
      "WARNING:tensorflow:Can save best model only with val_loss available, skipping.\n"
     ]
    },
    {
     "name": "stdout",
     "output_type": "stream",
     "text": [
      "42/42 [==============================] - 23s 552ms/step - loss: 0.0059 - semantic_0_loss: 0.0018 - semantic_1_loss: 0.0032 - semantic_2_loss: 8.4152e-04 - lr: 3.6237e-05\n",
      "Epoch 103/200\n",
      "42/42 [==============================] - ETA: 0s - loss: 0.0057 - semantic_0_loss: 0.0018 - semantic_1_loss: 0.0031 - semantic_2_loss: 8.2811e-04WARNING:tensorflow:Can save best model only with val_loss available, skipping.\n"
     ]
    },
    {
     "name": "stderr",
     "output_type": "stream",
     "text": [
      "WARNING:tensorflow:Can save best model only with val_loss available, skipping.\n"
     ]
    },
    {
     "name": "stdout",
     "output_type": "stream",
     "text": [
      "42/42 [==============================] - 24s 559ms/step - loss: 0.0057 - semantic_0_loss: 0.0018 - semantic_1_loss: 0.0031 - semantic_2_loss: 8.2811e-04 - lr: 3.5875e-05\n",
      "Epoch 104/200\n",
      "42/42 [==============================] - ETA: 0s - loss: 0.0056 - semantic_0_loss: 0.0017 - semantic_1_loss: 0.0030 - semantic_2_loss: 8.2465e-04WARNING:tensorflow:Can save best model only with val_loss available, skipping.\n"
     ]
    },
    {
     "name": "stderr",
     "output_type": "stream",
     "text": [
      "WARNING:tensorflow:Can save best model only with val_loss available, skipping.\n"
     ]
    },
    {
     "name": "stdout",
     "output_type": "stream",
     "text": [
      "42/42 [==============================] - 25s 586ms/step - loss: 0.0056 - semantic_0_loss: 0.0017 - semantic_1_loss: 0.0030 - semantic_2_loss: 8.2465e-04 - lr: 3.5516e-05\n",
      "Epoch 105/200\n",
      "42/42 [==============================] - ETA: 0s - loss: 0.0058 - semantic_0_loss: 0.0018 - semantic_1_loss: 0.0031 - semantic_2_loss: 8.3322e-04WARNING:tensorflow:Can save best model only with val_loss available, skipping.\n"
     ]
    },
    {
     "name": "stderr",
     "output_type": "stream",
     "text": [
      "WARNING:tensorflow:Can save best model only with val_loss available, skipping.\n"
     ]
    },
    {
     "name": "stdout",
     "output_type": "stream",
     "text": [
      "42/42 [==============================] - 23s 555ms/step - loss: 0.0058 - semantic_0_loss: 0.0018 - semantic_1_loss: 0.0031 - semantic_2_loss: 8.3322e-04 - lr: 3.5161e-05\n",
      "Epoch 106/200\n",
      "42/42 [==============================] - ETA: 0s - loss: 0.0056 - semantic_0_loss: 0.0017 - semantic_1_loss: 0.0030 - semantic_2_loss: 8.2577e-04WARNING:tensorflow:Can save best model only with val_loss available, skipping.\n"
     ]
    },
    {
     "name": "stderr",
     "output_type": "stream",
     "text": [
      "WARNING:tensorflow:Can save best model only with val_loss available, skipping.\n"
     ]
    },
    {
     "name": "stdout",
     "output_type": "stream",
     "text": [
      "42/42 [==============================] - 24s 560ms/step - loss: 0.0056 - semantic_0_loss: 0.0017 - semantic_1_loss: 0.0030 - semantic_2_loss: 8.2577e-04 - lr: 3.4809e-05\n",
      "Epoch 107/200\n",
      "42/42 [==============================] - ETA: 0s - loss: 0.0055 - semantic_0_loss: 0.0017 - semantic_1_loss: 0.0030 - semantic_2_loss: 8.1374e-04WARNING:tensorflow:Can save best model only with val_loss available, skipping.\n"
     ]
    },
    {
     "name": "stderr",
     "output_type": "stream",
     "text": [
      "WARNING:tensorflow:Can save best model only with val_loss available, skipping.\n"
     ]
    },
    {
     "name": "stdout",
     "output_type": "stream",
     "text": [
      "42/42 [==============================] - 24s 556ms/step - loss: 0.0055 - semantic_0_loss: 0.0017 - semantic_1_loss: 0.0030 - semantic_2_loss: 8.1374e-04 - lr: 3.4461e-05\n",
      "Epoch 108/200\n",
      "42/42 [==============================] - ETA: 0s - loss: 0.0056 - semantic_0_loss: 0.0018 - semantic_1_loss: 0.0030 - semantic_2_loss: 8.1543e-04WARNING:tensorflow:Can save best model only with val_loss available, skipping.\n"
     ]
    },
    {
     "name": "stderr",
     "output_type": "stream",
     "text": [
      "WARNING:tensorflow:Can save best model only with val_loss available, skipping.\n"
     ]
    },
    {
     "name": "stdout",
     "output_type": "stream",
     "text": [
      "42/42 [==============================] - 23s 552ms/step - loss: 0.0056 - semantic_0_loss: 0.0018 - semantic_1_loss: 0.0030 - semantic_2_loss: 8.1543e-04 - lr: 3.4117e-05\n",
      "Epoch 109/200\n",
      "42/42 [==============================] - ETA: 0s - loss: 0.0055 - semantic_0_loss: 0.0017 - semantic_1_loss: 0.0030 - semantic_2_loss: 8.1893e-04WARNING:tensorflow:Can save best model only with val_loss available, skipping.\n"
     ]
    },
    {
     "name": "stderr",
     "output_type": "stream",
     "text": [
      "WARNING:tensorflow:Can save best model only with val_loss available, skipping.\n"
     ]
    },
    {
     "name": "stdout",
     "output_type": "stream",
     "text": [
      "42/42 [==============================] - 24s 554ms/step - loss: 0.0055 - semantic_0_loss: 0.0017 - semantic_1_loss: 0.0030 - semantic_2_loss: 8.1893e-04 - lr: 3.3775e-05\n",
      "Epoch 110/200\n",
      "42/42 [==============================] - ETA: 0s - loss: 0.0055 - semantic_0_loss: 0.0017 - semantic_1_loss: 0.0030 - semantic_2_loss: 8.1812e-04WARNING:tensorflow:Can save best model only with val_loss available, skipping.\n"
     ]
    },
    {
     "name": "stderr",
     "output_type": "stream",
     "text": [
      "WARNING:tensorflow:Can save best model only with val_loss available, skipping.\n"
     ]
    },
    {
     "name": "stdout",
     "output_type": "stream",
     "text": [
      "42/42 [==============================] - 24s 556ms/step - loss: 0.0055 - semantic_0_loss: 0.0017 - semantic_1_loss: 0.0030 - semantic_2_loss: 8.1812e-04 - lr: 3.3438e-05\n",
      "Epoch 111/200\n",
      "42/42 [==============================] - ETA: 0s - loss: 0.0055 - semantic_0_loss: 0.0017 - semantic_1_loss: 0.0030 - semantic_2_loss: 8.1485e-04WARNING:tensorflow:Can save best model only with val_loss available, skipping.\n"
     ]
    },
    {
     "name": "stderr",
     "output_type": "stream",
     "text": [
      "WARNING:tensorflow:Can save best model only with val_loss available, skipping.\n"
     ]
    },
    {
     "name": "stdout",
     "output_type": "stream",
     "text": [
      "42/42 [==============================] - 23s 549ms/step - loss: 0.0055 - semantic_0_loss: 0.0017 - semantic_1_loss: 0.0030 - semantic_2_loss: 8.1485e-04 - lr: 3.3103e-05\n",
      "Epoch 112/200\n",
      "42/42 [==============================] - ETA: 0s - loss: 0.0054 - semantic_0_loss: 0.0017 - semantic_1_loss: 0.0029 - semantic_2_loss: 8.1202e-04WARNING:tensorflow:Can save best model only with val_loss available, skipping.\n"
     ]
    },
    {
     "name": "stderr",
     "output_type": "stream",
     "text": [
      "WARNING:tensorflow:Can save best model only with val_loss available, skipping.\n"
     ]
    },
    {
     "name": "stdout",
     "output_type": "stream",
     "text": [
      "42/42 [==============================] - 23s 554ms/step - loss: 0.0054 - semantic_0_loss: 0.0017 - semantic_1_loss: 0.0029 - semantic_2_loss: 8.1202e-04 - lr: 3.2772e-05\n",
      "Epoch 113/200\n",
      "42/42 [==============================] - ETA: 0s - loss: 0.0054 - semantic_0_loss: 0.0017 - semantic_1_loss: 0.0029 - semantic_2_loss: 8.0984e-04WARNING:tensorflow:Can save best model only with val_loss available, skipping.\n"
     ]
    },
    {
     "name": "stderr",
     "output_type": "stream",
     "text": [
      "WARNING:tensorflow:Can save best model only with val_loss available, skipping.\n"
     ]
    },
    {
     "name": "stdout",
     "output_type": "stream",
     "text": [
      "42/42 [==============================] - 23s 550ms/step - loss: 0.0054 - semantic_0_loss: 0.0017 - semantic_1_loss: 0.0029 - semantic_2_loss: 8.0984e-04 - lr: 3.2445e-05\n",
      "Epoch 114/200\n",
      "42/42 [==============================] - ETA: 0s - loss: 0.0054 - semantic_0_loss: 0.0017 - semantic_1_loss: 0.0029 - semantic_2_loss: 8.0779e-04WARNING:tensorflow:Can save best model only with val_loss available, skipping.\n"
     ]
    },
    {
     "name": "stderr",
     "output_type": "stream",
     "text": [
      "WARNING:tensorflow:Can save best model only with val_loss available, skipping.\n"
     ]
    },
    {
     "name": "stdout",
     "output_type": "stream",
     "text": [
      "42/42 [==============================] - 23s 554ms/step - loss: 0.0054 - semantic_0_loss: 0.0017 - semantic_1_loss: 0.0029 - semantic_2_loss: 8.0779e-04 - lr: 3.2120e-05\n",
      "Epoch 115/200\n",
      "42/42 [==============================] - ETA: 0s - loss: 0.0054 - semantic_0_loss: 0.0017 - semantic_1_loss: 0.0029 - semantic_2_loss: 8.0985e-04WARNING:tensorflow:Can save best model only with val_loss available, skipping.\n"
     ]
    },
    {
     "name": "stderr",
     "output_type": "stream",
     "text": [
      "WARNING:tensorflow:Can save best model only with val_loss available, skipping.\n"
     ]
    },
    {
     "name": "stdout",
     "output_type": "stream",
     "text": [
      "42/42 [==============================] - 23s 552ms/step - loss: 0.0054 - semantic_0_loss: 0.0017 - semantic_1_loss: 0.0029 - semantic_2_loss: 8.0985e-04 - lr: 3.1799e-05\n",
      "Epoch 116/200\n",
      "42/42 [==============================] - ETA: 0s - loss: 0.0055 - semantic_0_loss: 0.0017 - semantic_1_loss: 0.0030 - semantic_2_loss: 8.1250e-04WARNING:tensorflow:Can save best model only with val_loss available, skipping.\n"
     ]
    },
    {
     "name": "stderr",
     "output_type": "stream",
     "text": [
      "WARNING:tensorflow:Can save best model only with val_loss available, skipping.\n"
     ]
    },
    {
     "name": "stdout",
     "output_type": "stream",
     "text": [
      "42/42 [==============================] - 24s 559ms/step - loss: 0.0055 - semantic_0_loss: 0.0017 - semantic_1_loss: 0.0030 - semantic_2_loss: 8.1250e-04 - lr: 3.1481e-05\n",
      "Epoch 117/200\n",
      "42/42 [==============================] - ETA: 0s - loss: 0.0055 - semantic_0_loss: 0.0017 - semantic_1_loss: 0.0029 - semantic_2_loss: 8.1258e-04WARNING:tensorflow:Can save best model only with val_loss available, skipping.\n"
     ]
    },
    {
     "name": "stderr",
     "output_type": "stream",
     "text": [
      "WARNING:tensorflow:Can save best model only with val_loss available, skipping.\n"
     ]
    },
    {
     "name": "stdout",
     "output_type": "stream",
     "text": [
      "42/42 [==============================] - 24s 557ms/step - loss: 0.0055 - semantic_0_loss: 0.0017 - semantic_1_loss: 0.0029 - semantic_2_loss: 8.1258e-04 - lr: 3.1166e-05\n",
      "Epoch 118/200\n",
      "42/42 [==============================] - ETA: 0s - loss: 0.0055 - semantic_0_loss: 0.0017 - semantic_1_loss: 0.0029 - semantic_2_loss: 8.1303e-04WARNING:tensorflow:Can save best model only with val_loss available, skipping.\n"
     ]
    },
    {
     "name": "stderr",
     "output_type": "stream",
     "text": [
      "WARNING:tensorflow:Can save best model only with val_loss available, skipping.\n"
     ]
    },
    {
     "name": "stdout",
     "output_type": "stream",
     "text": [
      "42/42 [==============================] - 24s 558ms/step - loss: 0.0055 - semantic_0_loss: 0.0017 - semantic_1_loss: 0.0029 - semantic_2_loss: 8.1303e-04 - lr: 3.0854e-05\n",
      "Epoch 119/200\n",
      "42/42 [==============================] - ETA: 0s - loss: 0.0053 - semantic_0_loss: 0.0017 - semantic_1_loss: 0.0029 - semantic_2_loss: 8.0213e-04WARNING:tensorflow:Can save best model only with val_loss available, skipping.\n"
     ]
    },
    {
     "name": "stderr",
     "output_type": "stream",
     "text": [
      "WARNING:tensorflow:Can save best model only with val_loss available, skipping.\n"
     ]
    },
    {
     "name": "stdout",
     "output_type": "stream",
     "text": [
      "42/42 [==============================] - 23s 552ms/step - loss: 0.0053 - semantic_0_loss: 0.0017 - semantic_1_loss: 0.0029 - semantic_2_loss: 8.0213e-04 - lr: 3.0546e-05\n",
      "Epoch 120/200\n",
      "42/42 [==============================] - ETA: 0s - loss: 0.0053 - semantic_0_loss: 0.0017 - semantic_1_loss: 0.0029 - semantic_2_loss: 8.0337e-04WARNING:tensorflow:Can save best model only with val_loss available, skipping.\n"
     ]
    },
    {
     "name": "stderr",
     "output_type": "stream",
     "text": [
      "WARNING:tensorflow:Can save best model only with val_loss available, skipping.\n"
     ]
    },
    {
     "name": "stdout",
     "output_type": "stream",
     "text": [
      "42/42 [==============================] - 23s 554ms/step - loss: 0.0053 - semantic_0_loss: 0.0017 - semantic_1_loss: 0.0029 - semantic_2_loss: 8.0337e-04 - lr: 3.0240e-05\n",
      "Epoch 121/200\n",
      "42/42 [==============================] - ETA: 0s - loss: 0.0055 - semantic_0_loss: 0.0017 - semantic_1_loss: 0.0029 - semantic_2_loss: 8.0434e-04WARNING:tensorflow:Can save best model only with val_loss available, skipping.\n"
     ]
    },
    {
     "name": "stderr",
     "output_type": "stream",
     "text": [
      "WARNING:tensorflow:Can save best model only with val_loss available, skipping.\n"
     ]
    },
    {
     "name": "stdout",
     "output_type": "stream",
     "text": [
      "42/42 [==============================] - 24s 564ms/step - loss: 0.0055 - semantic_0_loss: 0.0017 - semantic_1_loss: 0.0029 - semantic_2_loss: 8.0434e-04 - lr: 2.9938e-05\n",
      "Epoch 122/200\n",
      "42/42 [==============================] - ETA: 0s - loss: 0.0053 - semantic_0_loss: 0.0016 - semantic_1_loss: 0.0029 - semantic_2_loss: 8.0109e-04WARNING:tensorflow:Can save best model only with val_loss available, skipping.\n"
     ]
    },
    {
     "name": "stderr",
     "output_type": "stream",
     "text": [
      "WARNING:tensorflow:Can save best model only with val_loss available, skipping.\n"
     ]
    },
    {
     "name": "stdout",
     "output_type": "stream",
     "text": [
      "42/42 [==============================] - 24s 556ms/step - loss: 0.0053 - semantic_0_loss: 0.0016 - semantic_1_loss: 0.0029 - semantic_2_loss: 8.0109e-04 - lr: 2.9639e-05\n",
      "Epoch 123/200\n",
      "42/42 [==============================] - ETA: 0s - loss: 0.0053 - semantic_0_loss: 0.0017 - semantic_1_loss: 0.0028 - semantic_2_loss: 7.9437e-04WARNING:tensorflow:Can save best model only with val_loss available, skipping.\n"
     ]
    },
    {
     "name": "stderr",
     "output_type": "stream",
     "text": [
      "WARNING:tensorflow:Can save best model only with val_loss available, skipping.\n"
     ]
    },
    {
     "name": "stdout",
     "output_type": "stream",
     "text": [
      "42/42 [==============================] - 23s 542ms/step - loss: 0.0053 - semantic_0_loss: 0.0017 - semantic_1_loss: 0.0028 - semantic_2_loss: 7.9437e-04 - lr: 2.9342e-05\n",
      "Epoch 124/200\n",
      "42/42 [==============================] - ETA: 0s - loss: 0.0053 - semantic_0_loss: 0.0017 - semantic_1_loss: 0.0028 - semantic_2_loss: 7.8931e-04WARNING:tensorflow:Can save best model only with val_loss available, skipping.\n"
     ]
    },
    {
     "name": "stderr",
     "output_type": "stream",
     "text": [
      "WARNING:tensorflow:Can save best model only with val_loss available, skipping.\n"
     ]
    },
    {
     "name": "stdout",
     "output_type": "stream",
     "text": [
      "42/42 [==============================] - 23s 549ms/step - loss: 0.0053 - semantic_0_loss: 0.0017 - semantic_1_loss: 0.0028 - semantic_2_loss: 7.8931e-04 - lr: 2.9049e-05\n",
      "Epoch 125/200\n",
      "42/42 [==============================] - ETA: 0s - loss: 0.0053 - semantic_0_loss: 0.0017 - semantic_1_loss: 0.0028 - semantic_2_loss: 7.9914e-04WARNING:tensorflow:Can save best model only with val_loss available, skipping.\n"
     ]
    },
    {
     "name": "stderr",
     "output_type": "stream",
     "text": [
      "WARNING:tensorflow:Can save best model only with val_loss available, skipping.\n"
     ]
    },
    {
     "name": "stdout",
     "output_type": "stream",
     "text": [
      "42/42 [==============================] - 24s 555ms/step - loss: 0.0053 - semantic_0_loss: 0.0017 - semantic_1_loss: 0.0028 - semantic_2_loss: 7.9914e-04 - lr: 2.8758e-05\n",
      "Epoch 126/200\n",
      "42/42 [==============================] - ETA: 0s - loss: 0.0053 - semantic_0_loss: 0.0016 - semantic_1_loss: 0.0028 - semantic_2_loss: 7.9389e-04WARNING:tensorflow:Can save best model only with val_loss available, skipping.\n"
     ]
    },
    {
     "name": "stderr",
     "output_type": "stream",
     "text": [
      "WARNING:tensorflow:Can save best model only with val_loss available, skipping.\n"
     ]
    },
    {
     "name": "stdout",
     "output_type": "stream",
     "text": [
      "42/42 [==============================] - 24s 556ms/step - loss: 0.0053 - semantic_0_loss: 0.0016 - semantic_1_loss: 0.0028 - semantic_2_loss: 7.9389e-04 - lr: 2.8471e-05\n",
      "Epoch 127/200\n",
      "42/42 [==============================] - ETA: 0s - loss: 0.0053 - semantic_0_loss: 0.0017 - semantic_1_loss: 0.0028 - semantic_2_loss: 7.9501e-04WARNING:tensorflow:Can save best model only with val_loss available, skipping.\n"
     ]
    },
    {
     "name": "stderr",
     "output_type": "stream",
     "text": [
      "WARNING:tensorflow:Can save best model only with val_loss available, skipping.\n"
     ]
    },
    {
     "name": "stdout",
     "output_type": "stream",
     "text": [
      "42/42 [==============================] - 23s 552ms/step - loss: 0.0053 - semantic_0_loss: 0.0017 - semantic_1_loss: 0.0028 - semantic_2_loss: 7.9501e-04 - lr: 2.8186e-05\n",
      "Epoch 128/200\n",
      "42/42 [==============================] - ETA: 0s - loss: 0.0054 - semantic_0_loss: 0.0017 - semantic_1_loss: 0.0029 - semantic_2_loss: 8.0210e-04WARNING:tensorflow:Can save best model only with val_loss available, skipping.\n"
     ]
    },
    {
     "name": "stderr",
     "output_type": "stream",
     "text": [
      "WARNING:tensorflow:Can save best model only with val_loss available, skipping.\n"
     ]
    },
    {
     "name": "stdout",
     "output_type": "stream",
     "text": [
      "42/42 [==============================] - 24s 554ms/step - loss: 0.0054 - semantic_0_loss: 0.0017 - semantic_1_loss: 0.0029 - semantic_2_loss: 8.0210e-04 - lr: 2.7904e-05\n",
      "Epoch 129/200\n",
      "42/42 [==============================] - ETA: 0s - loss: 0.0050 - semantic_0_loss: 0.0016 - semantic_1_loss: 0.0027 - semantic_2_loss: 7.7971e-04WARNING:tensorflow:Can save best model only with val_loss available, skipping.\n"
     ]
    },
    {
     "name": "stderr",
     "output_type": "stream",
     "text": [
      "WARNING:tensorflow:Can save best model only with val_loss available, skipping.\n"
     ]
    },
    {
     "name": "stdout",
     "output_type": "stream",
     "text": [
      "42/42 [==============================] - 23s 553ms/step - loss: 0.0050 - semantic_0_loss: 0.0016 - semantic_1_loss: 0.0027 - semantic_2_loss: 7.7971e-04 - lr: 2.7625e-05\n",
      "Epoch 130/200\n",
      "42/42 [==============================] - ETA: 0s - loss: 0.0052 - semantic_0_loss: 0.0016 - semantic_1_loss: 0.0028 - semantic_2_loss: 7.8774e-04WARNING:tensorflow:Can save best model only with val_loss available, skipping.\n"
     ]
    },
    {
     "name": "stderr",
     "output_type": "stream",
     "text": [
      "WARNING:tensorflow:Can save best model only with val_loss available, skipping.\n"
     ]
    },
    {
     "name": "stdout",
     "output_type": "stream",
     "text": [
      "42/42 [==============================] - 23s 555ms/step - loss: 0.0052 - semantic_0_loss: 0.0016 - semantic_1_loss: 0.0028 - semantic_2_loss: 7.8774e-04 - lr: 2.7349e-05\n",
      "Epoch 131/200\n",
      "42/42 [==============================] - ETA: 0s - loss: 0.0052 - semantic_0_loss: 0.0016 - semantic_1_loss: 0.0028 - semantic_2_loss: 7.9172e-04WARNING:tensorflow:Can save best model only with val_loss available, skipping.\n"
     ]
    },
    {
     "name": "stderr",
     "output_type": "stream",
     "text": [
      "WARNING:tensorflow:Can save best model only with val_loss available, skipping.\n"
     ]
    },
    {
     "name": "stdout",
     "output_type": "stream",
     "text": [
      "42/42 [==============================] - 24s 553ms/step - loss: 0.0052 - semantic_0_loss: 0.0016 - semantic_1_loss: 0.0028 - semantic_2_loss: 7.9172e-04 - lr: 2.7075e-05\n",
      "Epoch 132/200\n",
      "42/42 [==============================] - ETA: 0s - loss: 0.0051 - semantic_0_loss: 0.0016 - semantic_1_loss: 0.0027 - semantic_2_loss: 7.8524e-04WARNING:tensorflow:Can save best model only with val_loss available, skipping.\n"
     ]
    },
    {
     "name": "stderr",
     "output_type": "stream",
     "text": [
      "WARNING:tensorflow:Can save best model only with val_loss available, skipping.\n"
     ]
    },
    {
     "name": "stdout",
     "output_type": "stream",
     "text": [
      "42/42 [==============================] - 24s 561ms/step - loss: 0.0051 - semantic_0_loss: 0.0016 - semantic_1_loss: 0.0027 - semantic_2_loss: 7.8524e-04 - lr: 2.6805e-05\n",
      "Epoch 133/200\n",
      "42/42 [==============================] - ETA: 0s - loss: 0.0051 - semantic_0_loss: 0.0016 - semantic_1_loss: 0.0027 - semantic_2_loss: 7.8192e-04WARNING:tensorflow:Can save best model only with val_loss available, skipping.\n"
     ]
    },
    {
     "name": "stderr",
     "output_type": "stream",
     "text": [
      "WARNING:tensorflow:Can save best model only with val_loss available, skipping.\n"
     ]
    },
    {
     "name": "stdout",
     "output_type": "stream",
     "text": [
      "42/42 [==============================] - 23s 551ms/step - loss: 0.0051 - semantic_0_loss: 0.0016 - semantic_1_loss: 0.0027 - semantic_2_loss: 7.8192e-04 - lr: 2.6537e-05\n",
      "Epoch 134/200\n",
      "42/42 [==============================] - ETA: 0s - loss: 0.0050 - semantic_0_loss: 0.0016 - semantic_1_loss: 0.0027 - semantic_2_loss: 7.7946e-04WARNING:tensorflow:Can save best model only with val_loss available, skipping.\n"
     ]
    },
    {
     "name": "stderr",
     "output_type": "stream",
     "text": [
      "WARNING:tensorflow:Can save best model only with val_loss available, skipping.\n"
     ]
    },
    {
     "name": "stdout",
     "output_type": "stream",
     "text": [
      "42/42 [==============================] - 23s 554ms/step - loss: 0.0050 - semantic_0_loss: 0.0016 - semantic_1_loss: 0.0027 - semantic_2_loss: 7.7946e-04 - lr: 2.6271e-05\n",
      "Epoch 135/200\n",
      "42/42 [==============================] - ETA: 0s - loss: 0.0052 - semantic_0_loss: 0.0016 - semantic_1_loss: 0.0028 - semantic_2_loss: 7.9073e-04WARNING:tensorflow:Can save best model only with val_loss available, skipping.\n"
     ]
    },
    {
     "name": "stderr",
     "output_type": "stream",
     "text": [
      "WARNING:tensorflow:Can save best model only with val_loss available, skipping.\n"
     ]
    },
    {
     "name": "stdout",
     "output_type": "stream",
     "text": [
      "42/42 [==============================] - 24s 560ms/step - loss: 0.0052 - semantic_0_loss: 0.0016 - semantic_1_loss: 0.0028 - semantic_2_loss: 7.9073e-04 - lr: 2.6009e-05\n",
      "Epoch 136/200\n",
      "42/42 [==============================] - ETA: 0s - loss: 0.0050 - semantic_0_loss: 0.0016 - semantic_1_loss: 0.0027 - semantic_2_loss: 7.7972e-04WARNING:tensorflow:Can save best model only with val_loss available, skipping.\n"
     ]
    },
    {
     "name": "stderr",
     "output_type": "stream",
     "text": [
      "WARNING:tensorflow:Can save best model only with val_loss available, skipping.\n"
     ]
    },
    {
     "name": "stdout",
     "output_type": "stream",
     "text": [
      "42/42 [==============================] - 23s 549ms/step - loss: 0.0050 - semantic_0_loss: 0.0016 - semantic_1_loss: 0.0027 - semantic_2_loss: 7.7972e-04 - lr: 2.5748e-05\n",
      "Epoch 137/200\n",
      "42/42 [==============================] - ETA: 0s - loss: 0.0050 - semantic_0_loss: 0.0015 - semantic_1_loss: 0.0027 - semantic_2_loss: 7.8222e-04WARNING:tensorflow:Can save best model only with val_loss available, skipping.\n"
     ]
    },
    {
     "name": "stderr",
     "output_type": "stream",
     "text": [
      "WARNING:tensorflow:Can save best model only with val_loss available, skipping.\n"
     ]
    },
    {
     "name": "stdout",
     "output_type": "stream",
     "text": [
      "42/42 [==============================] - 23s 553ms/step - loss: 0.0050 - semantic_0_loss: 0.0015 - semantic_1_loss: 0.0027 - semantic_2_loss: 7.8222e-04 - lr: 2.5491e-05\n",
      "Epoch 138/200\n",
      "42/42 [==============================] - ETA: 0s - loss: 0.0052 - semantic_0_loss: 0.0016 - semantic_1_loss: 0.0028 - semantic_2_loss: 7.8819e-04WARNING:tensorflow:Can save best model only with val_loss available, skipping.\n"
     ]
    },
    {
     "name": "stderr",
     "output_type": "stream",
     "text": [
      "WARNING:tensorflow:Can save best model only with val_loss available, skipping.\n"
     ]
    },
    {
     "name": "stdout",
     "output_type": "stream",
     "text": [
      "42/42 [==============================] - 23s 552ms/step - loss: 0.0052 - semantic_0_loss: 0.0016 - semantic_1_loss: 0.0028 - semantic_2_loss: 7.8819e-04 - lr: 2.5236e-05\n",
      "Epoch 139/200\n",
      "42/42 [==============================] - ETA: 0s - loss: 0.0051 - semantic_0_loss: 0.0016 - semantic_1_loss: 0.0027 - semantic_2_loss: 7.8870e-04WARNING:tensorflow:Can save best model only with val_loss available, skipping.\n"
     ]
    },
    {
     "name": "stderr",
     "output_type": "stream",
     "text": [
      "WARNING:tensorflow:Can save best model only with val_loss available, skipping.\n"
     ]
    },
    {
     "name": "stdout",
     "output_type": "stream",
     "text": [
      "42/42 [==============================] - 23s 549ms/step - loss: 0.0051 - semantic_0_loss: 0.0016 - semantic_1_loss: 0.0027 - semantic_2_loss: 7.8870e-04 - lr: 2.4984e-05\n",
      "Epoch 140/200\n",
      "42/42 [==============================] - ETA: 0s - loss: 0.0050 - semantic_0_loss: 0.0016 - semantic_1_loss: 0.0027 - semantic_2_loss: 7.7865e-04WARNING:tensorflow:Can save best model only with val_loss available, skipping.\n"
     ]
    },
    {
     "name": "stderr",
     "output_type": "stream",
     "text": [
      "WARNING:tensorflow:Can save best model only with val_loss available, skipping.\n"
     ]
    },
    {
     "name": "stdout",
     "output_type": "stream",
     "text": [
      "42/42 [==============================] - 23s 552ms/step - loss: 0.0050 - semantic_0_loss: 0.0016 - semantic_1_loss: 0.0027 - semantic_2_loss: 7.7865e-04 - lr: 2.4734e-05\n",
      "Epoch 141/200\n",
      "42/42 [==============================] - ETA: 0s - loss: 0.0050 - semantic_0_loss: 0.0016 - semantic_1_loss: 0.0026 - semantic_2_loss: 7.6840e-04WARNING:tensorflow:Can save best model only with val_loss available, skipping.\n"
     ]
    },
    {
     "name": "stderr",
     "output_type": "stream",
     "text": [
      "WARNING:tensorflow:Can save best model only with val_loss available, skipping.\n"
     ]
    },
    {
     "name": "stdout",
     "output_type": "stream",
     "text": [
      "42/42 [==============================] - 24s 554ms/step - loss: 0.0050 - semantic_0_loss: 0.0016 - semantic_1_loss: 0.0026 - semantic_2_loss: 7.6840e-04 - lr: 2.4487e-05\n",
      "Epoch 142/200\n",
      "42/42 [==============================] - ETA: 0s - loss: 0.0050 - semantic_0_loss: 0.0016 - semantic_1_loss: 0.0027 - semantic_2_loss: 7.7708e-04WARNING:tensorflow:Can save best model only with val_loss available, skipping.\n"
     ]
    },
    {
     "name": "stderr",
     "output_type": "stream",
     "text": [
      "WARNING:tensorflow:Can save best model only with val_loss available, skipping.\n"
     ]
    },
    {
     "name": "stdout",
     "output_type": "stream",
     "text": [
      "42/42 [==============================] - 23s 561ms/step - loss: 0.0050 - semantic_0_loss: 0.0016 - semantic_1_loss: 0.0027 - semantic_2_loss: 7.7708e-04 - lr: 2.4242e-05\n",
      "Epoch 143/200\n",
      "42/42 [==============================] - ETA: 0s - loss: 0.0050 - semantic_0_loss: 0.0016 - semantic_1_loss: 0.0027 - semantic_2_loss: 7.8058e-04WARNING:tensorflow:Can save best model only with val_loss available, skipping.\n"
     ]
    },
    {
     "name": "stderr",
     "output_type": "stream",
     "text": [
      "WARNING:tensorflow:Can save best model only with val_loss available, skipping.\n"
     ]
    },
    {
     "name": "stdout",
     "output_type": "stream",
     "text": [
      "42/42 [==============================] - 23s 554ms/step - loss: 0.0050 - semantic_0_loss: 0.0016 - semantic_1_loss: 0.0027 - semantic_2_loss: 7.8058e-04 - lr: 2.3999e-05\n",
      "Epoch 144/200\n",
      "42/42 [==============================] - ETA: 0s - loss: 0.0050 - semantic_0_loss: 0.0015 - semantic_1_loss: 0.0027 - semantic_2_loss: 7.7335e-04WARNING:tensorflow:Can save best model only with val_loss available, skipping.\n"
     ]
    },
    {
     "name": "stderr",
     "output_type": "stream",
     "text": [
      "WARNING:tensorflow:Can save best model only with val_loss available, skipping.\n"
     ]
    },
    {
     "name": "stdout",
     "output_type": "stream",
     "text": [
      "42/42 [==============================] - 24s 556ms/step - loss: 0.0050 - semantic_0_loss: 0.0015 - semantic_1_loss: 0.0027 - semantic_2_loss: 7.7335e-04 - lr: 2.3759e-05\n",
      "Epoch 145/200\n",
      "42/42 [==============================] - ETA: 0s - loss: 0.0051 - semantic_0_loss: 0.0016 - semantic_1_loss: 0.0027 - semantic_2_loss: 7.7614e-04WARNING:tensorflow:Can save best model only with val_loss available, skipping.\n"
     ]
    },
    {
     "name": "stderr",
     "output_type": "stream",
     "text": [
      "WARNING:tensorflow:Can save best model only with val_loss available, skipping.\n"
     ]
    },
    {
     "name": "stdout",
     "output_type": "stream",
     "text": [
      "42/42 [==============================] - 23s 552ms/step - loss: 0.0051 - semantic_0_loss: 0.0016 - semantic_1_loss: 0.0027 - semantic_2_loss: 7.7614e-04 - lr: 2.3522e-05\n",
      "Epoch 146/200\n",
      "42/42 [==============================] - ETA: 0s - loss: 0.0049 - semantic_0_loss: 0.0015 - semantic_1_loss: 0.0026 - semantic_2_loss: 7.6374e-04WARNING:tensorflow:Can save best model only with val_loss available, skipping.\n"
     ]
    },
    {
     "name": "stderr",
     "output_type": "stream",
     "text": [
      "WARNING:tensorflow:Can save best model only with val_loss available, skipping.\n"
     ]
    },
    {
     "name": "stdout",
     "output_type": "stream",
     "text": [
      "42/42 [==============================] - 23s 546ms/step - loss: 0.0049 - semantic_0_loss: 0.0015 - semantic_1_loss: 0.0026 - semantic_2_loss: 7.6374e-04 - lr: 2.3286e-05\n",
      "Epoch 147/200\n",
      "42/42 [==============================] - ETA: 0s - loss: 0.0049 - semantic_0_loss: 0.0015 - semantic_1_loss: 0.0026 - semantic_2_loss: 7.7854e-04WARNING:tensorflow:Can save best model only with val_loss available, skipping.\n"
     ]
    },
    {
     "name": "stderr",
     "output_type": "stream",
     "text": [
      "WARNING:tensorflow:Can save best model only with val_loss available, skipping.\n"
     ]
    },
    {
     "name": "stdout",
     "output_type": "stream",
     "text": [
      "42/42 [==============================] - 24s 556ms/step - loss: 0.0049 - semantic_0_loss: 0.0015 - semantic_1_loss: 0.0026 - semantic_2_loss: 7.7854e-04 - lr: 2.3054e-05\n",
      "Epoch 148/200\n",
      "42/42 [==============================] - ETA: 0s - loss: 0.0050 - semantic_0_loss: 0.0016 - semantic_1_loss: 0.0027 - semantic_2_loss: 7.7494e-04WARNING:tensorflow:Can save best model only with val_loss available, skipping.\n"
     ]
    },
    {
     "name": "stderr",
     "output_type": "stream",
     "text": [
      "WARNING:tensorflow:Can save best model only with val_loss available, skipping.\n"
     ]
    },
    {
     "name": "stdout",
     "output_type": "stream",
     "text": [
      "42/42 [==============================] - 24s 557ms/step - loss: 0.0050 - semantic_0_loss: 0.0016 - semantic_1_loss: 0.0027 - semantic_2_loss: 7.7494e-04 - lr: 2.2823e-05\n",
      "Epoch 149/200\n",
      "42/42 [==============================] - ETA: 0s - loss: 0.0050 - semantic_0_loss: 0.0016 - semantic_1_loss: 0.0026 - semantic_2_loss: 7.7674e-04WARNING:tensorflow:Can save best model only with val_loss available, skipping.\n"
     ]
    },
    {
     "name": "stderr",
     "output_type": "stream",
     "text": [
      "WARNING:tensorflow:Can save best model only with val_loss available, skipping.\n"
     ]
    },
    {
     "name": "stdout",
     "output_type": "stream",
     "text": [
      "42/42 [==============================] - 24s 554ms/step - loss: 0.0050 - semantic_0_loss: 0.0016 - semantic_1_loss: 0.0026 - semantic_2_loss: 7.7674e-04 - lr: 2.2595e-05\n",
      "Epoch 150/200\n",
      "42/42 [==============================] - ETA: 0s - loss: 0.0050 - semantic_0_loss: 0.0016 - semantic_1_loss: 0.0027 - semantic_2_loss: 7.7901e-04WARNING:tensorflow:Can save best model only with val_loss available, skipping.\n"
     ]
    },
    {
     "name": "stderr",
     "output_type": "stream",
     "text": [
      "WARNING:tensorflow:Can save best model only with val_loss available, skipping.\n"
     ]
    },
    {
     "name": "stdout",
     "output_type": "stream",
     "text": [
      "42/42 [==============================] - 23s 551ms/step - loss: 0.0050 - semantic_0_loss: 0.0016 - semantic_1_loss: 0.0027 - semantic_2_loss: 7.7901e-04 - lr: 2.2369e-05\n",
      "Epoch 151/200\n",
      "42/42 [==============================] - ETA: 0s - loss: 0.0049 - semantic_0_loss: 0.0015 - semantic_1_loss: 0.0026 - semantic_2_loss: 7.6852e-04WARNING:tensorflow:Can save best model only with val_loss available, skipping.\n"
     ]
    },
    {
     "name": "stderr",
     "output_type": "stream",
     "text": [
      "WARNING:tensorflow:Can save best model only with val_loss available, skipping.\n"
     ]
    },
    {
     "name": "stdout",
     "output_type": "stream",
     "text": [
      "42/42 [==============================] - 23s 541ms/step - loss: 0.0049 - semantic_0_loss: 0.0015 - semantic_1_loss: 0.0026 - semantic_2_loss: 7.6852e-04 - lr: 2.2145e-05\n",
      "Epoch 152/200\n",
      "42/42 [==============================] - ETA: 0s - loss: 0.0050 - semantic_0_loss: 0.0016 - semantic_1_loss: 0.0026 - semantic_2_loss: 7.7167e-04WARNING:tensorflow:Can save best model only with val_loss available, skipping.\n"
     ]
    },
    {
     "name": "stderr",
     "output_type": "stream",
     "text": [
      "WARNING:tensorflow:Can save best model only with val_loss available, skipping.\n"
     ]
    },
    {
     "name": "stdout",
     "output_type": "stream",
     "text": [
      "42/42 [==============================] - 23s 555ms/step - loss: 0.0050 - semantic_0_loss: 0.0016 - semantic_1_loss: 0.0026 - semantic_2_loss: 7.7167e-04 - lr: 2.1924e-05\n",
      "Epoch 153/200\n",
      "42/42 [==============================] - ETA: 0s - loss: 0.0048 - semantic_0_loss: 0.0015 - semantic_1_loss: 0.0026 - semantic_2_loss: 7.6483e-04WARNING:tensorflow:Can save best model only with val_loss available, skipping.\n"
     ]
    },
    {
     "name": "stderr",
     "output_type": "stream",
     "text": [
      "WARNING:tensorflow:Can save best model only with val_loss available, skipping.\n"
     ]
    },
    {
     "name": "stdout",
     "output_type": "stream",
     "text": [
      "42/42 [==============================] - 24s 556ms/step - loss: 0.0048 - semantic_0_loss: 0.0015 - semantic_1_loss: 0.0026 - semantic_2_loss: 7.6483e-04 - lr: 2.1704e-05\n",
      "Epoch 154/200\n",
      "42/42 [==============================] - ETA: 0s - loss: 0.0048 - semantic_0_loss: 0.0015 - semantic_1_loss: 0.0025 - semantic_2_loss: 7.6240e-04WARNING:tensorflow:Can save best model only with val_loss available, skipping.\n"
     ]
    },
    {
     "name": "stderr",
     "output_type": "stream",
     "text": [
      "WARNING:tensorflow:Can save best model only with val_loss available, skipping.\n"
     ]
    },
    {
     "name": "stdout",
     "output_type": "stream",
     "text": [
      "42/42 [==============================] - 23s 563ms/step - loss: 0.0048 - semantic_0_loss: 0.0015 - semantic_1_loss: 0.0025 - semantic_2_loss: 7.6240e-04 - lr: 2.1487e-05\n",
      "Epoch 155/200\n",
      "42/42 [==============================] - ETA: 0s - loss: 0.0050 - semantic_0_loss: 0.0016 - semantic_1_loss: 0.0027 - semantic_2_loss: 7.7247e-04WARNING:tensorflow:Can save best model only with val_loss available, skipping.\n"
     ]
    },
    {
     "name": "stderr",
     "output_type": "stream",
     "text": [
      "WARNING:tensorflow:Can save best model only with val_loss available, skipping.\n"
     ]
    },
    {
     "name": "stdout",
     "output_type": "stream",
     "text": [
      "42/42 [==============================] - 23s 553ms/step - loss: 0.0050 - semantic_0_loss: 0.0016 - semantic_1_loss: 0.0027 - semantic_2_loss: 7.7247e-04 - lr: 2.1273e-05\n",
      "Epoch 156/200\n",
      "42/42 [==============================] - ETA: 0s - loss: 0.0049 - semantic_0_loss: 0.0015 - semantic_1_loss: 0.0026 - semantic_2_loss: 7.7051e-04WARNING:tensorflow:Can save best model only with val_loss available, skipping.\n"
     ]
    },
    {
     "name": "stderr",
     "output_type": "stream",
     "text": [
      "WARNING:tensorflow:Can save best model only with val_loss available, skipping.\n"
     ]
    },
    {
     "name": "stdout",
     "output_type": "stream",
     "text": [
      "42/42 [==============================] - 24s 574ms/step - loss: 0.0049 - semantic_0_loss: 0.0015 - semantic_1_loss: 0.0026 - semantic_2_loss: 7.7051e-04 - lr: 2.1060e-05\n",
      "Epoch 157/200\n",
      "42/42 [==============================] - ETA: 0s - loss: 0.0049 - semantic_0_loss: 0.0015 - semantic_1_loss: 0.0026 - semantic_2_loss: 7.6462e-04WARNING:tensorflow:Can save best model only with val_loss available, skipping.\n"
     ]
    },
    {
     "name": "stderr",
     "output_type": "stream",
     "text": [
      "WARNING:tensorflow:Can save best model only with val_loss available, skipping.\n"
     ]
    },
    {
     "name": "stdout",
     "output_type": "stream",
     "text": [
      "42/42 [==============================] - 24s 566ms/step - loss: 0.0049 - semantic_0_loss: 0.0015 - semantic_1_loss: 0.0026 - semantic_2_loss: 7.6462e-04 - lr: 2.0849e-05\n",
      "Epoch 158/200\n",
      "42/42 [==============================] - ETA: 0s - loss: 0.0047 - semantic_0_loss: 0.0014 - semantic_1_loss: 0.0025 - semantic_2_loss: 7.5661e-04WARNING:tensorflow:Can save best model only with val_loss available, skipping.\n"
     ]
    },
    {
     "name": "stderr",
     "output_type": "stream",
     "text": [
      "WARNING:tensorflow:Can save best model only with val_loss available, skipping.\n"
     ]
    },
    {
     "name": "stdout",
     "output_type": "stream",
     "text": [
      "42/42 [==============================] - 23s 550ms/step - loss: 0.0047 - semantic_0_loss: 0.0014 - semantic_1_loss: 0.0025 - semantic_2_loss: 7.5661e-04 - lr: 2.0641e-05\n",
      "Epoch 159/200\n",
      "42/42 [==============================] - ETA: 0s - loss: 0.0048 - semantic_0_loss: 0.0015 - semantic_1_loss: 0.0025 - semantic_2_loss: 7.6492e-04WARNING:tensorflow:Can save best model only with val_loss available, skipping.\n"
     ]
    },
    {
     "name": "stderr",
     "output_type": "stream",
     "text": [
      "WARNING:tensorflow:Can save best model only with val_loss available, skipping.\n"
     ]
    },
    {
     "name": "stdout",
     "output_type": "stream",
     "text": [
      "42/42 [==============================] - 23s 545ms/step - loss: 0.0048 - semantic_0_loss: 0.0015 - semantic_1_loss: 0.0025 - semantic_2_loss: 7.6492e-04 - lr: 2.0434e-05\n",
      "Epoch 160/200\n",
      "42/42 [==============================] - ETA: 0s - loss: 0.0048 - semantic_0_loss: 0.0015 - semantic_1_loss: 0.0025 - semantic_2_loss: 7.5690e-04WARNING:tensorflow:Can save best model only with val_loss available, skipping.\n"
     ]
    },
    {
     "name": "stderr",
     "output_type": "stream",
     "text": [
      "WARNING:tensorflow:Can save best model only with val_loss available, skipping.\n"
     ]
    },
    {
     "name": "stdout",
     "output_type": "stream",
     "text": [
      "42/42 [==============================] - 24s 555ms/step - loss: 0.0048 - semantic_0_loss: 0.0015 - semantic_1_loss: 0.0025 - semantic_2_loss: 7.5690e-04 - lr: 2.0230e-05\n",
      "Epoch 161/200\n",
      "42/42 [==============================] - ETA: 0s - loss: 0.0048 - semantic_0_loss: 0.0015 - semantic_1_loss: 0.0025 - semantic_2_loss: 7.5670e-04WARNING:tensorflow:Can save best model only with val_loss available, skipping.\n"
     ]
    },
    {
     "name": "stderr",
     "output_type": "stream",
     "text": [
      "WARNING:tensorflow:Can save best model only with val_loss available, skipping.\n"
     ]
    },
    {
     "name": "stdout",
     "output_type": "stream",
     "text": [
      "42/42 [==============================] - 24s 557ms/step - loss: 0.0048 - semantic_0_loss: 0.0015 - semantic_1_loss: 0.0025 - semantic_2_loss: 7.5670e-04 - lr: 2.0028e-05\n",
      "Epoch 162/200\n",
      "42/42 [==============================] - ETA: 0s - loss: 0.0049 - semantic_0_loss: 0.0015 - semantic_1_loss: 0.0026 - semantic_2_loss: 7.6242e-04WARNING:tensorflow:Can save best model only with val_loss available, skipping.\n"
     ]
    },
    {
     "name": "stderr",
     "output_type": "stream",
     "text": [
      "WARNING:tensorflow:Can save best model only with val_loss available, skipping.\n"
     ]
    },
    {
     "name": "stdout",
     "output_type": "stream",
     "text": [
      "42/42 [==============================] - 24s 553ms/step - loss: 0.0049 - semantic_0_loss: 0.0015 - semantic_1_loss: 0.0026 - semantic_2_loss: 7.6242e-04 - lr: 1.9827e-05\n",
      "Epoch 163/200\n",
      "42/42 [==============================] - ETA: 0s - loss: 0.0047 - semantic_0_loss: 0.0015 - semantic_1_loss: 0.0025 - semantic_2_loss: 7.5536e-04WARNING:tensorflow:Can save best model only with val_loss available, skipping.\n"
     ]
    },
    {
     "name": "stderr",
     "output_type": "stream",
     "text": [
      "WARNING:tensorflow:Can save best model only with val_loss available, skipping.\n"
     ]
    },
    {
     "name": "stdout",
     "output_type": "stream",
     "text": [
      "42/42 [==============================] - 23s 549ms/step - loss: 0.0047 - semantic_0_loss: 0.0015 - semantic_1_loss: 0.0025 - semantic_2_loss: 7.5536e-04 - lr: 1.9629e-05\n",
      "Epoch 164/200\n",
      "42/42 [==============================] - ETA: 0s - loss: 0.0048 - semantic_0_loss: 0.0015 - semantic_1_loss: 0.0026 - semantic_2_loss: 7.6225e-04WARNING:tensorflow:Can save best model only with val_loss available, skipping.\n"
     ]
    },
    {
     "name": "stderr",
     "output_type": "stream",
     "text": [
      "WARNING:tensorflow:Can save best model only with val_loss available, skipping.\n"
     ]
    },
    {
     "name": "stdout",
     "output_type": "stream",
     "text": [
      "42/42 [==============================] - 24s 555ms/step - loss: 0.0048 - semantic_0_loss: 0.0015 - semantic_1_loss: 0.0026 - semantic_2_loss: 7.6225e-04 - lr: 1.9433e-05\n",
      "Epoch 165/200\n",
      "42/42 [==============================] - ETA: 0s - loss: 0.0046 - semantic_0_loss: 0.0014 - semantic_1_loss: 0.0025 - semantic_2_loss: 7.4729e-04WARNING:tensorflow:Can save best model only with val_loss available, skipping.\n"
     ]
    },
    {
     "name": "stderr",
     "output_type": "stream",
     "text": [
      "WARNING:tensorflow:Can save best model only with val_loss available, skipping.\n"
     ]
    },
    {
     "name": "stdout",
     "output_type": "stream",
     "text": [
      "42/42 [==============================] - 23s 552ms/step - loss: 0.0046 - semantic_0_loss: 0.0014 - semantic_1_loss: 0.0025 - semantic_2_loss: 7.4729e-04 - lr: 1.9239e-05\n",
      "Epoch 166/200\n",
      "42/42 [==============================] - ETA: 0s - loss: 0.0047 - semantic_0_loss: 0.0015 - semantic_1_loss: 0.0025 - semantic_2_loss: 7.6050e-04WARNING:tensorflow:Can save best model only with val_loss available, skipping.\n"
     ]
    },
    {
     "name": "stderr",
     "output_type": "stream",
     "text": [
      "WARNING:tensorflow:Can save best model only with val_loss available, skipping.\n"
     ]
    },
    {
     "name": "stdout",
     "output_type": "stream",
     "text": [
      "42/42 [==============================] - 24s 560ms/step - loss: 0.0047 - semantic_0_loss: 0.0015 - semantic_1_loss: 0.0025 - semantic_2_loss: 7.6050e-04 - lr: 1.9046e-05\n",
      "Epoch 167/200\n",
      "42/42 [==============================] - ETA: 0s - loss: 0.0047 - semantic_0_loss: 0.0015 - semantic_1_loss: 0.0025 - semantic_2_loss: 7.5150e-04WARNING:tensorflow:Can save best model only with val_loss available, skipping.\n"
     ]
    },
    {
     "name": "stderr",
     "output_type": "stream",
     "text": [
      "WARNING:tensorflow:Can save best model only with val_loss available, skipping.\n"
     ]
    },
    {
     "name": "stdout",
     "output_type": "stream",
     "text": [
      "42/42 [==============================] - 23s 553ms/step - loss: 0.0047 - semantic_0_loss: 0.0015 - semantic_1_loss: 0.0025 - semantic_2_loss: 7.5150e-04 - lr: 1.8856e-05\n",
      "Epoch 168/200\n",
      "42/42 [==============================] - ETA: 0s - loss: 0.0048 - semantic_0_loss: 0.0015 - semantic_1_loss: 0.0025 - semantic_2_loss: 7.5554e-04WARNING:tensorflow:Can save best model only with val_loss available, skipping.\n"
     ]
    },
    {
     "name": "stderr",
     "output_type": "stream",
     "text": [
      "WARNING:tensorflow:Can save best model only with val_loss available, skipping.\n"
     ]
    },
    {
     "name": "stdout",
     "output_type": "stream",
     "text": [
      "42/42 [==============================] - 24s 552ms/step - loss: 0.0048 - semantic_0_loss: 0.0015 - semantic_1_loss: 0.0025 - semantic_2_loss: 7.5554e-04 - lr: 1.8667e-05\n",
      "Epoch 169/200\n",
      "42/42 [==============================] - ETA: 0s - loss: 0.0048 - semantic_0_loss: 0.0015 - semantic_1_loss: 0.0025 - semantic_2_loss: 7.5642e-04WARNING:tensorflow:Can save best model only with val_loss available, skipping.\n"
     ]
    },
    {
     "name": "stderr",
     "output_type": "stream",
     "text": [
      "WARNING:tensorflow:Can save best model only with val_loss available, skipping.\n"
     ]
    },
    {
     "name": "stdout",
     "output_type": "stream",
     "text": [
      "42/42 [==============================] - 24s 561ms/step - loss: 0.0048 - semantic_0_loss: 0.0015 - semantic_1_loss: 0.0025 - semantic_2_loss: 7.5642e-04 - lr: 1.8480e-05\n",
      "Epoch 170/200\n",
      "42/42 [==============================] - ETA: 0s - loss: 0.0047 - semantic_0_loss: 0.0014 - semantic_1_loss: 0.0025 - semantic_2_loss: 7.5450e-04WARNING:tensorflow:Can save best model only with val_loss available, skipping.\n"
     ]
    },
    {
     "name": "stderr",
     "output_type": "stream",
     "text": [
      "WARNING:tensorflow:Can save best model only with val_loss available, skipping.\n"
     ]
    },
    {
     "name": "stdout",
     "output_type": "stream",
     "text": [
      "42/42 [==============================] - 24s 561ms/step - loss: 0.0047 - semantic_0_loss: 0.0014 - semantic_1_loss: 0.0025 - semantic_2_loss: 7.5450e-04 - lr: 1.8296e-05\n",
      "Epoch 171/200\n",
      "42/42 [==============================] - ETA: 0s - loss: 0.0047 - semantic_0_loss: 0.0015 - semantic_1_loss: 0.0025 - semantic_2_loss: 7.5516e-04WARNING:tensorflow:Can save best model only with val_loss available, skipping.\n"
     ]
    },
    {
     "name": "stderr",
     "output_type": "stream",
     "text": [
      "WARNING:tensorflow:Can save best model only with val_loss available, skipping.\n"
     ]
    },
    {
     "name": "stdout",
     "output_type": "stream",
     "text": [
      "42/42 [==============================] - 23s 546ms/step - loss: 0.0047 - semantic_0_loss: 0.0015 - semantic_1_loss: 0.0025 - semantic_2_loss: 7.5516e-04 - lr: 1.8113e-05\n",
      "Epoch 172/200\n",
      "42/42 [==============================] - ETA: 0s - loss: 0.0047 - semantic_0_loss: 0.0015 - semantic_1_loss: 0.0025 - semantic_2_loss: 7.4634e-04WARNING:tensorflow:Can save best model only with val_loss available, skipping.\n"
     ]
    },
    {
     "name": "stderr",
     "output_type": "stream",
     "text": [
      "WARNING:tensorflow:Can save best model only with val_loss available, skipping.\n"
     ]
    },
    {
     "name": "stdout",
     "output_type": "stream",
     "text": [
      "42/42 [==============================] - 24s 555ms/step - loss: 0.0047 - semantic_0_loss: 0.0015 - semantic_1_loss: 0.0025 - semantic_2_loss: 7.4634e-04 - lr: 1.7932e-05\n",
      "Epoch 173/200\n",
      "42/42 [==============================] - ETA: 0s - loss: 0.0046 - semantic_0_loss: 0.0014 - semantic_1_loss: 0.0024 - semantic_2_loss: 7.4294e-04WARNING:tensorflow:Can save best model only with val_loss available, skipping.\n"
     ]
    },
    {
     "name": "stderr",
     "output_type": "stream",
     "text": [
      "WARNING:tensorflow:Can save best model only with val_loss available, skipping.\n"
     ]
    },
    {
     "name": "stdout",
     "output_type": "stream",
     "text": [
      "42/42 [==============================] - 23s 552ms/step - loss: 0.0046 - semantic_0_loss: 0.0014 - semantic_1_loss: 0.0024 - semantic_2_loss: 7.4294e-04 - lr: 1.7752e-05\n",
      "Epoch 174/200\n",
      "42/42 [==============================] - ETA: 0s - loss: 0.0048 - semantic_0_loss: 0.0015 - semantic_1_loss: 0.0025 - semantic_2_loss: 7.5705e-04WARNING:tensorflow:Can save best model only with val_loss available, skipping.\n"
     ]
    },
    {
     "name": "stderr",
     "output_type": "stream",
     "text": [
      "WARNING:tensorflow:Can save best model only with val_loss available, skipping.\n"
     ]
    },
    {
     "name": "stdout",
     "output_type": "stream",
     "text": [
      "42/42 [==============================] - 24s 559ms/step - loss: 0.0048 - semantic_0_loss: 0.0015 - semantic_1_loss: 0.0025 - semantic_2_loss: 7.5705e-04 - lr: 1.7575e-05\n",
      "Epoch 175/200\n",
      "42/42 [==============================] - ETA: 0s - loss: 0.0047 - semantic_0_loss: 0.0014 - semantic_1_loss: 0.0025 - semantic_2_loss: 7.5418e-04WARNING:tensorflow:Can save best model only with val_loss available, skipping.\n"
     ]
    },
    {
     "name": "stderr",
     "output_type": "stream",
     "text": [
      "WARNING:tensorflow:Can save best model only with val_loss available, skipping.\n"
     ]
    },
    {
     "name": "stdout",
     "output_type": "stream",
     "text": [
      "42/42 [==============================] - 24s 558ms/step - loss: 0.0047 - semantic_0_loss: 0.0014 - semantic_1_loss: 0.0025 - semantic_2_loss: 7.5418e-04 - lr: 1.7399e-05\n",
      "Epoch 176/200\n",
      "42/42 [==============================] - ETA: 0s - loss: 0.0045 - semantic_0_loss: 0.0014 - semantic_1_loss: 0.0024 - semantic_2_loss: 7.3047e-04WARNING:tensorflow:Can save best model only with val_loss available, skipping.\n"
     ]
    },
    {
     "name": "stderr",
     "output_type": "stream",
     "text": [
      "WARNING:tensorflow:Can save best model only with val_loss available, skipping.\n"
     ]
    },
    {
     "name": "stdout",
     "output_type": "stream",
     "text": [
      "42/42 [==============================] - 23s 545ms/step - loss: 0.0045 - semantic_0_loss: 0.0014 - semantic_1_loss: 0.0024 - semantic_2_loss: 7.3047e-04 - lr: 1.7225e-05\n",
      "Epoch 177/200\n",
      "42/42 [==============================] - ETA: 0s - loss: 0.0048 - semantic_0_loss: 0.0015 - semantic_1_loss: 0.0025 - semantic_2_loss: 7.5362e-04WARNING:tensorflow:Can save best model only with val_loss available, skipping.\n"
     ]
    },
    {
     "name": "stderr",
     "output_type": "stream",
     "text": [
      "WARNING:tensorflow:Can save best model only with val_loss available, skipping.\n"
     ]
    },
    {
     "name": "stdout",
     "output_type": "stream",
     "text": [
      "42/42 [==============================] - 23s 555ms/step - loss: 0.0048 - semantic_0_loss: 0.0015 - semantic_1_loss: 0.0025 - semantic_2_loss: 7.5362e-04 - lr: 1.7053e-05\n",
      "Epoch 178/200\n",
      "42/42 [==============================] - ETA: 0s - loss: 0.0047 - semantic_0_loss: 0.0014 - semantic_1_loss: 0.0025 - semantic_2_loss: 7.5162e-04WARNING:tensorflow:Can save best model only with val_loss available, skipping.\n"
     ]
    },
    {
     "name": "stderr",
     "output_type": "stream",
     "text": [
      "WARNING:tensorflow:Can save best model only with val_loss available, skipping.\n"
     ]
    },
    {
     "name": "stdout",
     "output_type": "stream",
     "text": [
      "42/42 [==============================] - 24s 561ms/step - loss: 0.0047 - semantic_0_loss: 0.0014 - semantic_1_loss: 0.0025 - semantic_2_loss: 7.5162e-04 - lr: 1.6882e-05\n",
      "Epoch 179/200\n",
      "42/42 [==============================] - ETA: 0s - loss: 0.0046 - semantic_0_loss: 0.0015 - semantic_1_loss: 0.0024 - semantic_2_loss: 7.4803e-04WARNING:tensorflow:Can save best model only with val_loss available, skipping.\n"
     ]
    },
    {
     "name": "stderr",
     "output_type": "stream",
     "text": [
      "WARNING:tensorflow:Can save best model only with val_loss available, skipping.\n"
     ]
    },
    {
     "name": "stdout",
     "output_type": "stream",
     "text": [
      "42/42 [==============================] - 24s 560ms/step - loss: 0.0046 - semantic_0_loss: 0.0015 - semantic_1_loss: 0.0024 - semantic_2_loss: 7.4803e-04 - lr: 1.6713e-05\n",
      "Epoch 180/200\n",
      "42/42 [==============================] - ETA: 0s - loss: 0.0045 - semantic_0_loss: 0.0014 - semantic_1_loss: 0.0024 - semantic_2_loss: 7.4144e-04WARNING:tensorflow:Can save best model only with val_loss available, skipping.\n"
     ]
    },
    {
     "name": "stderr",
     "output_type": "stream",
     "text": [
      "WARNING:tensorflow:Can save best model only with val_loss available, skipping.\n"
     ]
    },
    {
     "name": "stdout",
     "output_type": "stream",
     "text": [
      "42/42 [==============================] - 24s 558ms/step - loss: 0.0045 - semantic_0_loss: 0.0014 - semantic_1_loss: 0.0024 - semantic_2_loss: 7.4144e-04 - lr: 1.6546e-05\n",
      "Epoch 181/200\n",
      "42/42 [==============================] - ETA: 0s - loss: 0.0046 - semantic_0_loss: 0.0014 - semantic_1_loss: 0.0024 - semantic_2_loss: 7.4638e-04WARNING:tensorflow:Can save best model only with val_loss available, skipping.\n"
     ]
    },
    {
     "name": "stderr",
     "output_type": "stream",
     "text": [
      "WARNING:tensorflow:Can save best model only with val_loss available, skipping.\n"
     ]
    },
    {
     "name": "stdout",
     "output_type": "stream",
     "text": [
      "42/42 [==============================] - 24s 556ms/step - loss: 0.0046 - semantic_0_loss: 0.0014 - semantic_1_loss: 0.0024 - semantic_2_loss: 7.4638e-04 - lr: 1.6381e-05\n",
      "Epoch 182/200\n",
      "42/42 [==============================] - ETA: 0s - loss: 0.0046 - semantic_0_loss: 0.0014 - semantic_1_loss: 0.0025 - semantic_2_loss: 7.4569e-04WARNING:tensorflow:Can save best model only with val_loss available, skipping.\n"
     ]
    },
    {
     "name": "stderr",
     "output_type": "stream",
     "text": [
      "WARNING:tensorflow:Can save best model only with val_loss available, skipping.\n"
     ]
    },
    {
     "name": "stdout",
     "output_type": "stream",
     "text": [
      "42/42 [==============================] - 24s 555ms/step - loss: 0.0046 - semantic_0_loss: 0.0014 - semantic_1_loss: 0.0025 - semantic_2_loss: 7.4569e-04 - lr: 1.6217e-05\n",
      "Epoch 183/200\n",
      "42/42 [==============================] - ETA: 0s - loss: 0.0045 - semantic_0_loss: 0.0014 - semantic_1_loss: 0.0024 - semantic_2_loss: 7.4014e-04WARNING:tensorflow:Can save best model only with val_loss available, skipping.\n"
     ]
    },
    {
     "name": "stderr",
     "output_type": "stream",
     "text": [
      "WARNING:tensorflow:Can save best model only with val_loss available, skipping.\n"
     ]
    },
    {
     "name": "stdout",
     "output_type": "stream",
     "text": [
      "42/42 [==============================] - 24s 556ms/step - loss: 0.0045 - semantic_0_loss: 0.0014 - semantic_1_loss: 0.0024 - semantic_2_loss: 7.4014e-04 - lr: 1.6055e-05\n",
      "Epoch 184/200\n",
      "42/42 [==============================] - ETA: 0s - loss: 0.0045 - semantic_0_loss: 0.0014 - semantic_1_loss: 0.0024 - semantic_2_loss: 7.3790e-04WARNING:tensorflow:Can save best model only with val_loss available, skipping.\n"
     ]
    },
    {
     "name": "stderr",
     "output_type": "stream",
     "text": [
      "WARNING:tensorflow:Can save best model only with val_loss available, skipping.\n"
     ]
    },
    {
     "name": "stdout",
     "output_type": "stream",
     "text": [
      "42/42 [==============================] - 23s 551ms/step - loss: 0.0045 - semantic_0_loss: 0.0014 - semantic_1_loss: 0.0024 - semantic_2_loss: 7.3790e-04 - lr: 1.5894e-05\n",
      "Epoch 185/200\n",
      "42/42 [==============================] - ETA: 0s - loss: 0.0045 - semantic_0_loss: 0.0014 - semantic_1_loss: 0.0024 - semantic_2_loss: 7.3908e-04WARNING:tensorflow:Can save best model only with val_loss available, skipping.\n"
     ]
    },
    {
     "name": "stderr",
     "output_type": "stream",
     "text": [
      "WARNING:tensorflow:Can save best model only with val_loss available, skipping.\n"
     ]
    },
    {
     "name": "stdout",
     "output_type": "stream",
     "text": [
      "42/42 [==============================] - 24s 570ms/step - loss: 0.0045 - semantic_0_loss: 0.0014 - semantic_1_loss: 0.0024 - semantic_2_loss: 7.3908e-04 - lr: 1.5735e-05\n",
      "Epoch 186/200\n",
      "42/42 [==============================] - ETA: 0s - loss: 0.0046 - semantic_0_loss: 0.0014 - semantic_1_loss: 0.0025 - semantic_2_loss: 7.4800e-04WARNING:tensorflow:Can save best model only with val_loss available, skipping.\n"
     ]
    },
    {
     "name": "stderr",
     "output_type": "stream",
     "text": [
      "WARNING:tensorflow:Can save best model only with val_loss available, skipping.\n"
     ]
    },
    {
     "name": "stdout",
     "output_type": "stream",
     "text": [
      "42/42 [==============================] - 23s 546ms/step - loss: 0.0046 - semantic_0_loss: 0.0014 - semantic_1_loss: 0.0025 - semantic_2_loss: 7.4800e-04 - lr: 1.5578e-05\n",
      "Epoch 187/200\n",
      "42/42 [==============================] - ETA: 0s - loss: 0.0046 - semantic_0_loss: 0.0014 - semantic_1_loss: 0.0024 - semantic_2_loss: 7.4723e-04WARNING:tensorflow:Can save best model only with val_loss available, skipping.\n"
     ]
    },
    {
     "name": "stderr",
     "output_type": "stream",
     "text": [
      "WARNING:tensorflow:Can save best model only with val_loss available, skipping.\n"
     ]
    },
    {
     "name": "stdout",
     "output_type": "stream",
     "text": [
      "42/42 [==============================] - 24s 558ms/step - loss: 0.0046 - semantic_0_loss: 0.0014 - semantic_1_loss: 0.0024 - semantic_2_loss: 7.4723e-04 - lr: 1.5422e-05\n",
      "Epoch 188/200\n",
      "42/42 [==============================] - ETA: 0s - loss: 0.0046 - semantic_0_loss: 0.0014 - semantic_1_loss: 0.0024 - semantic_2_loss: 7.4437e-04WARNING:tensorflow:Can save best model only with val_loss available, skipping.\n"
     ]
    },
    {
     "name": "stderr",
     "output_type": "stream",
     "text": [
      "WARNING:tensorflow:Can save best model only with val_loss available, skipping.\n"
     ]
    },
    {
     "name": "stdout",
     "output_type": "stream",
     "text": [
      "42/42 [==============================] - 23s 550ms/step - loss: 0.0046 - semantic_0_loss: 0.0014 - semantic_1_loss: 0.0024 - semantic_2_loss: 7.4437e-04 - lr: 1.5268e-05\n",
      "Epoch 189/200\n",
      "42/42 [==============================] - ETA: 0s - loss: 0.0045 - semantic_0_loss: 0.0014 - semantic_1_loss: 0.0024 - semantic_2_loss: 7.3693e-04WARNING:tensorflow:Can save best model only with val_loss available, skipping.\n"
     ]
    },
    {
     "name": "stderr",
     "output_type": "stream",
     "text": [
      "WARNING:tensorflow:Can save best model only with val_loss available, skipping.\n"
     ]
    },
    {
     "name": "stdout",
     "output_type": "stream",
     "text": [
      "42/42 [==============================] - 23s 552ms/step - loss: 0.0045 - semantic_0_loss: 0.0014 - semantic_1_loss: 0.0024 - semantic_2_loss: 7.3693e-04 - lr: 1.5115e-05\n",
      "Epoch 190/200\n",
      "42/42 [==============================] - ETA: 0s - loss: 0.0045 - semantic_0_loss: 0.0014 - semantic_1_loss: 0.0024 - semantic_2_loss: 7.3905e-04WARNING:tensorflow:Can save best model only with val_loss available, skipping.\n"
     ]
    },
    {
     "name": "stderr",
     "output_type": "stream",
     "text": [
      "WARNING:tensorflow:Can save best model only with val_loss available, skipping.\n"
     ]
    },
    {
     "name": "stdout",
     "output_type": "stream",
     "text": [
      "42/42 [==============================] - 23s 545ms/step - loss: 0.0045 - semantic_0_loss: 0.0014 - semantic_1_loss: 0.0024 - semantic_2_loss: 7.3905e-04 - lr: 1.4964e-05\n",
      "Epoch 191/200\n",
      "42/42 [==============================] - ETA: 0s - loss: 0.0046 - semantic_0_loss: 0.0014 - semantic_1_loss: 0.0025 - semantic_2_loss: 7.5152e-04WARNING:tensorflow:Can save best model only with val_loss available, skipping.\n"
     ]
    },
    {
     "name": "stderr",
     "output_type": "stream",
     "text": [
      "WARNING:tensorflow:Can save best model only with val_loss available, skipping.\n"
     ]
    },
    {
     "name": "stdout",
     "output_type": "stream",
     "text": [
      "42/42 [==============================] - 24s 555ms/step - loss: 0.0046 - semantic_0_loss: 0.0014 - semantic_1_loss: 0.0025 - semantic_2_loss: 7.5152e-04 - lr: 1.4814e-05\n",
      "Epoch 192/200\n",
      "42/42 [==============================] - ETA: 0s - loss: 0.0047 - semantic_0_loss: 0.0015 - semantic_1_loss: 0.0025 - semantic_2_loss: 7.5405e-04WARNING:tensorflow:Can save best model only with val_loss available, skipping.\n"
     ]
    },
    {
     "name": "stderr",
     "output_type": "stream",
     "text": [
      "WARNING:tensorflow:Can save best model only with val_loss available, skipping.\n"
     ]
    },
    {
     "name": "stdout",
     "output_type": "stream",
     "text": [
      "42/42 [==============================] - 23s 550ms/step - loss: 0.0047 - semantic_0_loss: 0.0015 - semantic_1_loss: 0.0025 - semantic_2_loss: 7.5405e-04 - lr: 1.4666e-05\n",
      "Epoch 193/200\n",
      "42/42 [==============================] - ETA: 0s - loss: 0.0046 - semantic_0_loss: 0.0014 - semantic_1_loss: 0.0024 - semantic_2_loss: 7.4121e-04WARNING:tensorflow:Can save best model only with val_loss available, skipping.\n"
     ]
    },
    {
     "name": "stderr",
     "output_type": "stream",
     "text": [
      "WARNING:tensorflow:Can save best model only with val_loss available, skipping.\n"
     ]
    },
    {
     "name": "stdout",
     "output_type": "stream",
     "text": [
      "42/42 [==============================] - 24s 560ms/step - loss: 0.0046 - semantic_0_loss: 0.0014 - semantic_1_loss: 0.0024 - semantic_2_loss: 7.4121e-04 - lr: 1.4520e-05\n",
      "Epoch 194/200\n",
      "42/42 [==============================] - ETA: 0s - loss: 0.0046 - semantic_0_loss: 0.0014 - semantic_1_loss: 0.0024 - semantic_2_loss: 7.4206e-04WARNING:tensorflow:Can save best model only with val_loss available, skipping.\n"
     ]
    },
    {
     "name": "stderr",
     "output_type": "stream",
     "text": [
      "WARNING:tensorflow:Can save best model only with val_loss available, skipping.\n"
     ]
    },
    {
     "name": "stdout",
     "output_type": "stream",
     "text": [
      "42/42 [==============================] - 24s 557ms/step - loss: 0.0046 - semantic_0_loss: 0.0014 - semantic_1_loss: 0.0024 - semantic_2_loss: 7.4206e-04 - lr: 1.4374e-05\n",
      "Epoch 195/200\n",
      "42/42 [==============================] - ETA: 0s - loss: 0.0045 - semantic_0_loss: 0.0014 - semantic_1_loss: 0.0024 - semantic_2_loss: 7.4138e-04WARNING:tensorflow:Can save best model only with val_loss available, skipping.\n"
     ]
    },
    {
     "name": "stderr",
     "output_type": "stream",
     "text": [
      "WARNING:tensorflow:Can save best model only with val_loss available, skipping.\n"
     ]
    },
    {
     "name": "stdout",
     "output_type": "stream",
     "text": [
      "42/42 [==============================] - 24s 563ms/step - loss: 0.0045 - semantic_0_loss: 0.0014 - semantic_1_loss: 0.0024 - semantic_2_loss: 7.4138e-04 - lr: 1.4231e-05\n",
      "Epoch 196/200\n",
      "42/42 [==============================] - ETA: 0s - loss: 0.0044 - semantic_0_loss: 0.0014 - semantic_1_loss: 0.0023 - semantic_2_loss: 7.2837e-04WARNING:tensorflow:Can save best model only with val_loss available, skipping.\n"
     ]
    },
    {
     "name": "stderr",
     "output_type": "stream",
     "text": [
      "WARNING:tensorflow:Can save best model only with val_loss available, skipping.\n"
     ]
    },
    {
     "name": "stdout",
     "output_type": "stream",
     "text": [
      "42/42 [==============================] - 23s 547ms/step - loss: 0.0044 - semantic_0_loss: 0.0014 - semantic_1_loss: 0.0023 - semantic_2_loss: 7.2837e-04 - lr: 1.4088e-05\n",
      "Epoch 197/200\n",
      "42/42 [==============================] - ETA: 0s - loss: 0.0045 - semantic_0_loss: 0.0014 - semantic_1_loss: 0.0023 - semantic_2_loss: 7.3851e-04WARNING:tensorflow:Can save best model only with val_loss available, skipping.\n"
     ]
    },
    {
     "name": "stderr",
     "output_type": "stream",
     "text": [
      "WARNING:tensorflow:Can save best model only with val_loss available, skipping.\n"
     ]
    },
    {
     "name": "stdout",
     "output_type": "stream",
     "text": [
      "42/42 [==============================] - 23s 552ms/step - loss: 0.0045 - semantic_0_loss: 0.0014 - semantic_1_loss: 0.0023 - semantic_2_loss: 7.3851e-04 - lr: 1.3948e-05\n",
      "Epoch 198/200\n",
      "42/42 [==============================] - ETA: 0s - loss: 0.0045 - semantic_0_loss: 0.0014 - semantic_1_loss: 0.0024 - semantic_2_loss: 7.4514e-04WARNING:tensorflow:Can save best model only with val_loss available, skipping.\n"
     ]
    },
    {
     "name": "stderr",
     "output_type": "stream",
     "text": [
      "WARNING:tensorflow:Can save best model only with val_loss available, skipping.\n"
     ]
    },
    {
     "name": "stdout",
     "output_type": "stream",
     "text": [
      "42/42 [==============================] - 23s 548ms/step - loss: 0.0045 - semantic_0_loss: 0.0014 - semantic_1_loss: 0.0024 - semantic_2_loss: 7.4514e-04 - lr: 1.3808e-05\n",
      "Epoch 199/200\n",
      "42/42 [==============================] - ETA: 0s - loss: 0.0047 - semantic_0_loss: 0.0015 - semantic_1_loss: 0.0025 - semantic_2_loss: 7.5352e-04WARNING:tensorflow:Can save best model only with val_loss available, skipping.\n"
     ]
    },
    {
     "name": "stderr",
     "output_type": "stream",
     "text": [
      "WARNING:tensorflow:Can save best model only with val_loss available, skipping.\n"
     ]
    },
    {
     "name": "stdout",
     "output_type": "stream",
     "text": [
      "42/42 [==============================] - 24s 558ms/step - loss: 0.0047 - semantic_0_loss: 0.0015 - semantic_1_loss: 0.0025 - semantic_2_loss: 7.5352e-04 - lr: 1.3670e-05\n",
      "Epoch 200/200\n",
      "42/42 [==============================] - ETA: 0s - loss: 0.0045 - semantic_0_loss: 0.0014 - semantic_1_loss: 0.0024 - semantic_2_loss: 7.3303e-04WARNING:tensorflow:Can save best model only with val_loss available, skipping.\n"
     ]
    },
    {
     "name": "stderr",
     "output_type": "stream",
     "text": [
      "WARNING:tensorflow:Can save best model only with val_loss available, skipping.\n"
     ]
    },
    {
     "name": "stdout",
     "output_type": "stream",
     "text": [
      "42/42 [==============================] - 23s 549ms/step - loss: 0.0045 - semantic_0_loss: 0.0014 - semantic_1_loss: 0.0024 - semantic_2_loss: 7.3303e-04 - lr: 1.3533e-05\n",
      "/home/yfong/deeplearning/dense_cell_segmentation\n",
      "['M926910_CFL_Position7_CD3_test_img.png', 'M872956_JML_Position10_CD3_test_img.png', 'M872956_JML_Position8_CD8_test_img.png', 'M926910_CFL_Position13_CD3_test_img.png', 'M872956_JML_Position8_CD3_test_img.png', 'M872956_JML_Position8_CD4_test_img.png', 'M872956_JML_Position9_CD3_test_img.png']\n",
      "M926910_CFL_Position7_CD3_test_img.png\n"
     ]
    },
    {
     "name": "stderr",
     "output_type": "stream",
     "text": [
      "/app/software/DeepCell/0.11.1-foss-2021b-CUDA-11.4.1/lib/python3.9/site-packages/deepcell_toolbox/deep_watershed.py:179: FutureWarning: `selem` is a deprecated argument name for `h_maxima`. It will be removed in version 1.0.Please use `footprint` instead.\n",
      "  markers = h_maxima(image=maxima,\n"
     ]
    },
    {
     "name": "stdout",
     "output_type": "stream",
     "text": [
      "M872956_JML_Position10_CD3_test_img.png\n",
      "M872956_JML_Position8_CD8_test_img.png\n",
      "M926910_CFL_Position13_CD3_test_img.png\n",
      "M872956_JML_Position8_CD3_test_img.png\n",
      "M872956_JML_Position8_CD4_test_img.png\n",
      "M872956_JML_Position9_CD3_test_img.png\n",
      "[[0.39285714285714285, 0.4550989345509893], [0.36752136752136755, 0.45254237288135596], [0.5025641025641026, 0.48095238095238096], [0.32432432432432434, 0.3684210526315789], [0.5062166962699822, 0.5154109589041096], [0.5640394088669951, 0.5566037735849056], [0.3658051689860835, 0.4437869822485207]]\n",
      "                                         0         1         2\n",
      "0   M926910_CFL_Position7_CD3_test_img.png  0.392857  0.455099\n",
      "1  M872956_JML_Position10_CD3_test_img.png  0.367521  0.452542\n",
      "2   M872956_JML_Position8_CD8_test_img.png  0.502564  0.480952\n",
      "3  M926910_CFL_Position13_CD3_test_img.png  0.324324  0.368421\n",
      "4   M872956_JML_Position8_CD3_test_img.png  0.506217  0.515411\n",
      "5   M872956_JML_Position8_CD4_test_img.png  0.564039  0.556604\n",
      "6   M872956_JML_Position9_CD3_test_img.png  0.365805  0.443787\n"
     ]
    }
   ],
   "source": [
    "for ii in [1,2,3,4,5]: \n",
    "    model_name = 'tn1.0_nuclear_K_512x512resized_train7_aug{}'.format(ii)\n",
    "    model_path = '{}.h5'.format(model_name)\n",
    "\n",
    "    # 1. Regular 2. NoScaling 3. NoFlip 4. NoRotation 5. NoFlipRotation \n",
    "    if ii==1:\n",
    "        datagen = image_generators.SemanticDataGenerator(\n",
    "            rotation_range=180,\n",
    "            fill_mode='reflect',\n",
    "            zoom_range=(0.75, 1.25),\n",
    "            horizontal_flip=True,\n",
    "            vertical_flip=True)\n",
    "    elif ii==2:\n",
    "        datagen = image_generators.SemanticDataGenerator(\n",
    "            rotation_range=180,\n",
    "            fill_mode='reflect',\n",
    "            zoom_range=(1, 1),\n",
    "            horizontal_flip=True,\n",
    "            vertical_flip=True)\n",
    "    elif ii==3:\n",
    "        datagen = image_generators.SemanticDataGenerator(\n",
    "            rotation_range=180,\n",
    "            fill_mode='reflect',\n",
    "            zoom_range=(0.75, 1.25),\n",
    "            horizontal_flip=False,\n",
    "            vertical_flip=False)\n",
    "    elif ii==4:\n",
    "        datagen = image_generators.SemanticDataGenerator(\n",
    "            rotation_range=0,\n",
    "            fill_mode='reflect',\n",
    "            zoom_range=(0.75, 1.25),\n",
    "            horizontal_flip=True,\n",
    "            vertical_flip=True)\n",
    "    elif ii==5:\n",
    "        datagen = image_generators.SemanticDataGenerator(\n",
    "            rotation_range=0,\n",
    "            fill_mode='reflect',\n",
    "            zoom_range=(0.75, 1.25),\n",
    "            horizontal_flip=False,\n",
    "            vertical_flip=False)\n",
    "\n",
    "    # use augmentation for training but not validation\n",
    "    datagen_val = image_generators.CroppingDataGenerator()\n",
    "\n",
    "    batch_size = 4 # 8 causes memory outage\n",
    "\n",
    "    train_data = datagen.flow(\n",
    "        {'X': sub_X, 'y': sub_y},\n",
    "        seed=seed,\n",
    "        transforms=transforms,\n",
    "        transforms_kwargs=transforms_kwargs,\n",
    "        min_objects=min_objects,\n",
    "        batch_size=batch_size)\n",
    "\n",
    "    val_data = None\n",
    "\n",
    "    semantic_classes = [1, 1, 2] # inner distance, outer distance, fgbg\n",
    "\n",
    "    model = PanopticNet(\n",
    "        backbone='resnet50',\n",
    "        input_shape=(512,512,1),\n",
    "        norm_method='whole_image',\n",
    "        num_semantic_classes=semantic_classes)\n",
    "\n",
    "    lr = 1e-4\n",
    "    optimizer = Adam(lr=lr, clipnorm=0.001)\n",
    "    lr_sched = rate_scheduler(lr=lr, decay=0.99)\n",
    "\n",
    "    # Create a dictionary of losses for each semantic head\n",
    "\n",
    "    def semantic_loss(n_classes):\n",
    "        def _semantic_loss(y_pred, y_true):\n",
    "            if n_classes > 1:\n",
    "                return 0.01 * weighted_categorical_crossentropy(\n",
    "                    y_pred, y_true, n_classes=n_classes)\n",
    "            return MSE(y_pred, y_true)\n",
    "        return _semantic_loss\n",
    "\n",
    "    loss = {}\n",
    "\n",
    "    # Give losses for all of the semantic heads\n",
    "    for layer in model.layers:\n",
    "        if layer.name.startswith('semantic_'):\n",
    "            n_classes = layer.output_shape[-1]\n",
    "            loss[layer.name] = semantic_loss(n_classes)\n",
    "\n",
    "    model.compile(loss=loss, optimizer=optimizer)\n",
    "\n",
    "    model.load_weights(starting_model_path, by_name=True)\n",
    "\n",
    "    [(layer.name, layer.output_shape) for layer in filter(lambda x: x.name.startswith('semantic_'), model.layers)]\n",
    "\n",
    "\n",
    "    # fit the model\n",
    "    print('Training on', count_gpus(), 'GPUs.')\n",
    "\n",
    "    train_callbacks = get_callbacks(\n",
    "        model_path,\n",
    "        lr_sched=lr_sched,\n",
    "    #     monitor=\"val_loss\",\n",
    "        # monitor='loss', # training loss\n",
    "        verbose=1)          \n",
    "\n",
    "    loss_history = model.fit(\n",
    "        train_data,\n",
    "        steps_per_epoch=train_data.y.shape[0] // batch_size, # \n",
    "        epochs=epochs, \n",
    "    #     validation_data=val_data,\n",
    "    #     validation_steps=val_data.y.shape[0] // batch_size,\n",
    "        callbacks=train_callbacks)\n",
    "\n",
    "    model.save_weights(model_path)\n",
    "\n",
    "    prediction_model = PanopticNet(\n",
    "        backbone='resnet50',\n",
    "        norm_method='whole_image',\n",
    "        num_semantic_classes=[1, 1], # inner distance, outer distance\n",
    "        input_shape= (512,512,1)\n",
    "    )\n",
    "\n",
    "    prediction_model.load_weights(model_path, by_name=True)\n",
    "\n",
    "    from deepcell.applications import NuclearSegmentation\n",
    "    app = NuclearSegmentation(prediction_model)\n",
    "    [(layer.name, layer.output_shape) for layer in filter(lambda x: x.name.startswith('semantic_'), app.model.layers)]\n",
    "\n",
    "\n",
    "    import os\n",
    "    print(os.getcwd())\n",
    "    INPUT_PATH=\"images/test/\"\n",
    "    FILENAMES = [f for f in os.listdir(\"images/training/testimages\")]\n",
    "    print(FILENAMES)\n",
    "\n",
    "\n",
    "    # more detailed mapping of image_mpp parameter\n",
    "    mpps=[1,1.3]\n",
    "\n",
    "    AP_mat=[]\n",
    "    for CURR_IM_NAME in FILENAMES:\n",
    "        print(CURR_IM_NAME)\n",
    "        im0 = io.imread(os.path.join(INPUT_PATH, CURR_IM_NAME))\n",
    "        mask_true=io.imread(os.path.join(INPUT_PATH, CURR_IM_NAME.replace(\"img\",\"masks\")))\n",
    "\n",
    "        x = np.expand_dims(im0, axis=-1)\n",
    "        x = np.expand_dims(x, axis=0)\n",
    "        y, tile_info = app._tile_input(x)\n",
    "        AP_arr=[]\n",
    "        for mpp in mpps:\n",
    "            prd = app._untile_output(app.predict(y, image_mpp=mpp), tile_info)[0,:,:,0]\n",
    "            a=syotil.csi(mask_true, prd)\n",
    "            AP_arr.append(a)\n",
    "        AP_mat.append(AP_arr)\n",
    "\n",
    "    print(AP_mat)\n",
    "\n",
    "    import pandas as pd\n",
    "    df = pd.DataFrame([FILENAMES, [x[0] for x in AP_mat], [x[1] for x in AP_mat]])\n",
    "    print(df.transpose())\n",
    "    df.to_csv('APresults/csi_'+model_name+'.txt', index=False, header=False)"
   ]
  }
 ],
 "metadata": {
  "kernelspec": {
   "display_name": "Python 3 (ipykernel)",
   "language": "python",
   "name": "python3"
  },
  "language_info": {
   "codemirror_mode": {
    "name": "ipython",
    "version": 3
   },
   "file_extension": ".py",
   "mimetype": "text/x-python",
   "name": "python",
   "nbconvert_exporter": "python",
   "pygments_lexer": "ipython3",
   "version": "3.9.12"
  }
 },
 "nbformat": 4,
 "nbformat_minor": 5
}
