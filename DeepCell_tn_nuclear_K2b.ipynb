{
 "cells": [
  {
   "cell_type": "markdown",
   "id": "330e05e3",
   "metadata": {},
   "source": [
    "**Further train DeepCell Models with K's Data and Make Predictions**<br>\n",
    "Starting from model trained with tn nuclear data, further train the model with resized K's data that is cut into 25x7 512x512 patches. There are a total of 12,574 training instances.<br>\n",
    "The difference between this note book and DeepCell_tn_nuclear_K2 is that resizing of K's training images is done with mpp=1 instead of 1.3.<br>\n",
    "200 epochs, semanticdatagenerator, resized<br>\n",
    "Best mAP 0.44 at mpp=1.3"
   ]
  },
  {
   "cell_type": "code",
   "execution_count": 1,
   "id": "a72e9c51",
   "metadata": {
    "execution": {
     "iopub.execute_input": "2022-11-04T05:16:19.755013Z",
     "iopub.status.busy": "2022-11-04T05:16:19.754347Z",
     "iopub.status.idle": "2022-11-04T05:16:19.762654Z",
     "shell.execute_reply": "2022-11-04T05:16:19.765231Z"
    }
   },
   "outputs": [],
   "source": [
    "starting_model_path = 'tn1.0_nuclear_20221102.h5' # the model trained with nucleus data from the Tissuenet V1.0 dataset\n",
    "INPUT_PATH=\"images/training_resized1_512x512/\"\n",
    "model_name = 'tn1.0_nuclear_K_512x512resized1' \n",
    "model_path = '{}.h5'.format(model_name)\n",
    "epochs=200 # 20 sec per step "
   ]
  },
  {
   "cell_type": "code",
   "execution_count": 2,
   "id": "90f2183c",
   "metadata": {
    "execution": {
     "iopub.execute_input": "2022-11-04T05:16:19.778105Z",
     "iopub.status.busy": "2022-11-04T05:16:19.777458Z",
     "iopub.status.idle": "2022-11-04T05:16:26.462103Z",
     "shell.execute_reply": "2022-11-04T05:16:26.463095Z"
    }
   },
   "outputs": [
    {
     "name": "stdout",
     "output_type": "stream",
     "text": [
      "2.7.1\n",
      "0.11.1\n"
     ]
    }
   ],
   "source": [
    "import syotil\n",
    "\n",
    "import numpy as np\n",
    "from skimage import io\n",
    "from matplotlib import pyplot as plt\n",
    "%matplotlib inline\n",
    "from timeit import default_timer\n",
    "import os\n",
    "from skimage import img_as_ubyte\n",
    "\n",
    "import deepcell\n",
    "from deepcell import image_generators\n",
    "from deepcell.utils.train_utils import rate_scheduler, get_callbacks, count_gpus\n",
    "from deepcell_toolbox.utils import resize, tile_image, untile_image\n",
    "from deepcell_toolbox.deep_watershed import deep_watershed\n",
    "from deepcell.losses import weighted_categorical_crossentropy\n",
    "from deepcell.model_zoo.panopticnet import PanopticNet\n",
    "\n",
    "import tensorflow as tf\n",
    "from tensorflow.keras.optimizers import SGD, Adam\n",
    "from tensorflow.keras.losses import MSE\n",
    "\n",
    "print(tf.__version__)\n",
    "print(deepcell.__version__)"
   ]
  },
  {
   "cell_type": "code",
   "execution_count": 3,
   "id": "938b06af",
   "metadata": {
    "execution": {
     "iopub.execute_input": "2022-11-04T05:16:26.469571Z",
     "iopub.status.busy": "2022-11-04T05:16:26.468468Z",
     "iopub.status.idle": "2022-11-04T05:16:26.473741Z",
     "shell.execute_reply": "2022-11-04T05:16:26.474200Z"
    }
   },
   "outputs": [
    {
     "name": "stdout",
     "output_type": "stream",
     "text": [
      "112\n"
     ]
    }
   ],
   "source": [
    "import glob\n",
    "FILENAMES = glob.glob(INPUT_PATH+\"*_img.png\")\n",
    "print(len(FILENAMES))"
   ]
  },
  {
   "cell_type": "code",
   "execution_count": 4,
   "id": "1bac06f7",
   "metadata": {
    "execution": {
     "iopub.execute_input": "2022-11-04T05:16:26.480902Z",
     "iopub.status.busy": "2022-11-04T05:16:26.480334Z",
     "iopub.status.idle": "2022-11-04T05:16:35.467013Z",
     "shell.execute_reply": "2022-11-04T05:16:35.467956Z"
    }
   },
   "outputs": [
    {
     "name": "stderr",
     "output_type": "stream",
     "text": [
      "2022-11-04 10:36:35.209418: I tensorflow/core/common_runtime/gpu/gpu_device.cc:1525] Created device /job:localhost/replica:0/task:0/device:GPU:0 with 14657 MB memory:  -> device: 0, name: Tesla V100-PCIE-16GB, pci bus id: 0000:04:00.0, compute capability: 7.0\n",
      "2022-11-04 10:36:35.249970: I tensorflow/core/common_runtime/gpu/gpu_device.cc:1525] Created device /job:localhost/replica:0/task:0/device:GPU:1 with 14657 MB memory:  -> device: 1, name: Tesla V100-PCIE-16GB, pci bus id: 0000:06:00.0, compute capability: 7.0\n",
      "2022-11-04 10:36:35.252691: I tensorflow/core/common_runtime/gpu/gpu_device.cc:1525] Created device /job:localhost/replica:0/task:0/device:GPU:2 with 14657 MB memory:  -> device: 2, name: Tesla V100-PCIE-16GB, pci bus id: 0000:08:00.0, compute capability: 7.0\n"
     ]
    },
    {
     "name": "stdout",
     "output_type": "stream",
     "text": [
      "(112, 512, 512, 1)\n",
      "(112, 512, 512, 1)\n"
     ]
    }
   ],
   "source": [
    "imgs = [io.imread(CURR_IM_NAME) for CURR_IM_NAME in FILENAMES]\n",
    "X_train = tf.stack(imgs)\n",
    "X_train = np.expand_dims(X_train, axis=-1)\n",
    "print(X_train.shape)\n",
    "\n",
    "masks = [io.imread(CURR_IM_NAME.replace(\"img\",\"masks\")) for CURR_IM_NAME in FILENAMES]\n",
    "y_train = tf.stack(masks)\n",
    "y_train = np.expand_dims(y_train, axis=-1)\n",
    "print(y_train.shape)"
   ]
  },
  {
   "cell_type": "code",
   "execution_count": 5,
   "id": "5c1212c8",
   "metadata": {
    "execution": {
     "iopub.execute_input": "2022-11-04T05:16:35.473988Z",
     "iopub.status.busy": "2022-11-04T05:16:35.472862Z",
     "iopub.status.idle": "2022-11-04T05:16:35.514831Z",
     "shell.execute_reply": "2022-11-04T05:16:35.515757Z"
    }
   },
   "outputs": [
    {
     "data": {
      "text/plain": [
       "2688"
      ]
     },
     "execution_count": 5,
     "metadata": {},
     "output_type": "execute_result"
    }
   ],
   "source": [
    "np.max(masks) # sanity check"
   ]
  },
  {
   "cell_type": "code",
   "execution_count": 6,
   "id": "73d0c5d8",
   "metadata": {
    "execution": {
     "iopub.execute_input": "2022-11-04T05:16:35.523800Z",
     "iopub.status.busy": "2022-11-04T05:16:35.522671Z",
     "iopub.status.idle": "2022-11-04T05:16:35.949268Z",
     "shell.execute_reply": "2022-11-04T05:16:35.948289Z"
    }
   },
   "outputs": [
    {
     "name": "stdout",
     "output_type": "stream",
     "text": [
      "WARNING:tensorflow:Removing 1 of 112 images with fewer than 5 objects.\n",
      "199356\n"
     ]
    }
   ],
   "source": [
    "# create dataloader\n",
    "seed=0\n",
    "min_objects = 5\n",
    "\n",
    "transforms = ['inner-distance', 'outer-distance', 'fgbg']\n",
    "transforms_kwargs = {'outer-distance': {'erosion_width': 0}}\n",
    "\n",
    "# use augmentation for training but not validation\n",
    "datagen = image_generators.SemanticDataGenerator(\n",
    "    rotation_range=180,\n",
    "    fill_mode='reflect',\n",
    "    zoom_range=(0.75, 1.25),\n",
    "    horizontal_flip=True,\n",
    "    vertical_flip=True)\n",
    "\n",
    "datagen_val = image_generators.CroppingDataGenerator()\n",
    "\n",
    "batch_size = 4 # 8 causes memory outage\n",
    "\n",
    "train_data = datagen.flow(\n",
    "    {'X': X_train, 'y': y_train},\n",
    "    seed=seed,\n",
    "    transforms=transforms,\n",
    "    transforms_kwargs=transforms_kwargs,\n",
    "    min_objects=min_objects,\n",
    "    batch_size=batch_size)\n",
    "\n",
    "val_data = None\n",
    "# datagen_val.flow(\n",
    "#     {'X': X_val, 'y': y_val},\n",
    "#     seed=seed,\n",
    "#     transforms=transforms,\n",
    "#     transforms_kwargs=transforms_kwargs,\n",
    "#     min_objects=min_objects,\n",
    "#     batch_size=batch_size)\n",
    "\n",
    "# get number of training and validation instances\n",
    "\n",
    "cnts_train = [np.max(y_train[i,...]) for i in range(y_train.shape[0])]\n",
    "print(np.sum(cnts_train)) # total number of training instances"
   ]
  },
  {
   "cell_type": "code",
   "execution_count": 7,
   "id": "818ee859",
   "metadata": {
    "execution": {
     "iopub.execute_input": "2022-11-04T05:16:35.954821Z",
     "iopub.status.busy": "2022-11-04T05:16:35.953926Z",
     "iopub.status.idle": "2022-11-04T05:16:36.235511Z",
     "shell.execute_reply": "2022-11-04T05:16:36.236262Z"
    }
   },
   "outputs": [
    {
     "name": "stdout",
     "output_type": "stream",
     "text": [
      "[  4   9  12  12  20  20  21  22  24  25  25  33  39  41  47  50  51  54\n",
      "  55  58  61  62  62  64  65  66  68  70  74  88  89  90  96 101 104 106\n",
      " 107 107 110 111 111 113 114 115 115 117 120 121 121 126 127 128 129 130\n",
      " 133 141 141 148 150 155 155 162 165 165 167 167 167 168 169 173 173 176\n",
      " 178 180 181 184 186 188 188 190 196 197 202 211 212 214 218 220 224 226\n",
      " 241 241 243 246 260 262 269 270 274 275 282 284 290 291 298 302 303 304\n",
      " 332 338 355 362]\n",
      "[45, 102]\n"
     ]
    }
   ],
   "source": [
    "mask_cnt=[len(np.unique(x)) for x in masks]\n",
    "print(np.sort(mask_cnt))\n",
    "indices = []\n",
    "indices.extend([i for i, x in enumerate(mask_cnt) if x == 4])\n",
    "indices.extend([i for i, x in enumerate(mask_cnt) if x == 9])\n",
    "print(indices)"
   ]
  },
  {
   "cell_type": "code",
   "execution_count": 8,
   "id": "980a63f8",
   "metadata": {
    "execution": {
     "iopub.execute_input": "2022-11-04T05:16:36.241857Z",
     "iopub.status.busy": "2022-11-04T05:16:36.240819Z",
     "iopub.status.idle": "2022-11-04T05:16:36.245257Z",
     "shell.execute_reply": "2022-11-04T05:16:36.244321Z"
    }
   },
   "outputs": [
    {
     "data": {
      "text/plain": [
       "['images/training_resized1_512x512/M872956_JML_Position8_CD8_train3_img.png',\n",
       " 'images/training_resized1_512x512/M872956_JML_Position8_CD8_train7_img.png']"
      ]
     },
     "execution_count": 8,
     "metadata": {},
     "output_type": "execute_result"
    }
   ],
   "source": [
    "[FILENAMES[x] for x in indices]"
   ]
  },
  {
   "cell_type": "code",
   "execution_count": 9,
   "id": "edaeac9e",
   "metadata": {
    "execution": {
     "iopub.execute_input": "2022-11-04T05:16:36.251922Z",
     "iopub.status.busy": "2022-11-04T05:16:36.250897Z",
     "iopub.status.idle": "2022-11-04T05:16:36.672042Z",
     "shell.execute_reply": "2022-11-04T05:16:36.671035Z"
    }
   },
   "outputs": [
    {
     "name": "stdout",
     "output_type": "stream",
     "text": [
      "images/training_resized1_512x512/M872956_JML_Position8_CD8_train3_img.png\n"
     ]
    },
    {
     "data": {
      "image/png": "[encoded data removed]",
      "text/plain": [
       "<Figure size 432x288 with 1 Axes>"
      ]
     },
     "metadata": {
      "needs_background": "light"
     },
     "output_type": "display_data"
    },
    {
     "name": "stderr",
     "output_type": "stream",
     "text": [
      "/app/software/scikit-image/0.19.1-foss-2021b/lib/python3.9/site-packages/skimage/io/_plugins/matplotlib_plugin.py:150: UserWarning: Low image data range; displaying image with stretched contrast.\n",
      "  lo, hi, cmap = _get_display_range(image)\n"
     ]
    },
    {
     "data": {
      "image/png": "[encoded data removed]",
      "text/plain": [
       "<Figure size 432x288 with 2 Axes>"
      ]
     },
     "metadata": {
      "needs_background": "light"
     },
     "output_type": "display_data"
    },
    {
     "data": {
      "image/png": "[encoded data removed]",
      "text/plain": [
       "<Figure size 432x288 with 1 Axes>"
      ]
     },
     "metadata": {
      "needs_background": "light"
     },
     "output_type": "display_data"
    },
    {
     "name": "stdout",
     "output_type": "stream",
     "text": [
      "[  0 342 347 495]\n",
      "[  0 342 347 495]\n"
     ]
    }
   ],
   "source": [
    "i=45\n",
    "print(FILENAMES[i])\n",
    "# plt.subplot(1, 3, 1) \n",
    "io.imshow(io.imread(FILENAMES[i]))\n",
    "plt.show()\n",
    "# plt.subplot(1, 3, 2) \n",
    "io.imshow(io.imread(FILENAMES[i].replace(\"_img\",\"_masks\")))\n",
    "plt.show()\n",
    "# plt.subplot(1, 3, 3) \n",
    "tmp=syotil.masks_to_outlines(io.imread(FILENAMES[i].replace(\"_img\",\"_masks\")))\n",
    "io.imshow(tmp)\n",
    "plt.show()\n",
    "print(np.unique(masks[i]))\n",
    "print(np.unique(masks[i][1:510,1:510]))"
   ]
  },
  {
   "cell_type": "code",
   "execution_count": 10,
   "id": "0b79383a",
   "metadata": {
    "execution": {
     "iopub.execute_input": "2022-11-04T05:16:36.693819Z",
     "iopub.status.busy": "2022-11-04T05:16:36.692689Z",
     "iopub.status.idle": "2022-11-04T05:16:36.997540Z",
     "shell.execute_reply": "2022-11-04T05:16:36.998463Z"
    }
   },
   "outputs": [
    {
     "data": {
      "image/png": "[encoded data removed]",
      "text/plain": [
       "<Figure size 432x288 with 4 Axes>"
      ]
     },
     "metadata": {
      "needs_background": "light"
     },
     "output_type": "display_data"
    }
   ],
   "source": [
    "i=5\n",
    "plt.subplot(1, 2, 1) # row 1, col 2 index 1\n",
    "io.imshow(X_train[i,:,:,0])\n",
    "plt.subplot(1, 2, 2) # row 1, col 2 index 1\n",
    "io.imshow(y_train[i,:,:,0])\n",
    "plt.show()"
   ]
  },
  {
   "cell_type": "markdown",
   "id": "9591736f",
   "metadata": {},
   "source": [
    "**The two cells below define and train the model.** They can be skipped if a trained model will be loaded."
   ]
  },
  {
   "cell_type": "code",
   "execution_count": 11,
   "id": "7ebc07f0",
   "metadata": {
    "execution": {
     "iopub.execute_input": "2022-11-04T05:16:37.007369Z",
     "iopub.status.busy": "2022-11-04T05:16:37.006253Z",
     "iopub.status.idle": "2022-11-04T05:16:43.983005Z",
     "shell.execute_reply": "2022-11-04T05:16:43.983933Z"
    }
   },
   "outputs": [
    {
     "name": "stderr",
     "output_type": "stream",
     "text": [
      "2022-11-03 22:16:37.010723: W tensorflow/python/util/util.cc:368] Sets are not currently considered sequences, but this may change in the future, so consider avoiding using them.\n",
      "/app/software/TensorFlow/2.7.1-foss-2021b-CUDA-11.4.1/lib/python3.9/site-packages/keras/optimizer_v2/adam.py:105: UserWarning: The `lr` argument is deprecated, use `learning_rate` instead.\n",
      "  super(Adam, self).__init__(name, **kwargs)\n"
     ]
    },
    {
     "data": {
      "text/plain": [
       "[('semantic_0', (None, 512, 512, 1)),\n",
       " ('semantic_1', (None, 512, 512, 1)),\n",
       " ('semantic_2', (None, 512, 512, 2))]"
      ]
     },
     "execution_count": 11,
     "metadata": {},
     "output_type": "execute_result"
    }
   ],
   "source": [
    "semantic_classes = [1, 1, 2] # inner distance, outer distance, fgbg\n",
    "\n",
    "model = PanopticNet(\n",
    "    backbone='resnet50',\n",
    "    input_shape=(512,512,1),\n",
    "    norm_method='whole_image',\n",
    "    num_semantic_classes=semantic_classes)\n",
    "\n",
    "lr = 1e-4\n",
    "optimizer = Adam(lr=lr, clipnorm=0.001)\n",
    "lr_sched = rate_scheduler(lr=lr, decay=0.99)\n",
    "\n",
    "# Create a dictionary of losses for each semantic head\n",
    "\n",
    "def semantic_loss(n_classes):\n",
    "    def _semantic_loss(y_pred, y_true):\n",
    "        if n_classes > 1:\n",
    "            return 0.01 * weighted_categorical_crossentropy(\n",
    "                y_pred, y_true, n_classes=n_classes)\n",
    "        return MSE(y_pred, y_true)\n",
    "    return _semantic_loss\n",
    "\n",
    "loss = {}\n",
    "\n",
    "# Give losses for all of the semantic heads\n",
    "for layer in model.layers:\n",
    "    if layer.name.startswith('semantic_'):\n",
    "        n_classes = layer.output_shape[-1]\n",
    "        loss[layer.name] = semantic_loss(n_classes)\n",
    "        \n",
    "model.compile(loss=loss, optimizer=optimizer)\n",
    "\n",
    "model.load_weights(starting_model_path, by_name=True)\n",
    "\n",
    "[(layer.name, layer.output_shape) for layer in filter(lambda x: x.name.startswith('semantic_'), model.layers)]"
   ]
  },
  {
   "cell_type": "code",
   "execution_count": 12,
   "id": "b1fab4f5",
   "metadata": {
    "execution": {
     "iopub.execute_input": "2022-11-04T05:16:44.005004Z",
     "iopub.status.busy": "2022-11-04T05:16:44.003857Z",
     "iopub.status.idle": "2022-11-04T06:18:14.121455Z",
     "shell.execute_reply": "2022-11-04T06:18:14.122463Z"
    }
   },
   "outputs": [
    {
     "name": "stdout",
     "output_type": "stream",
     "text": [
      "Training on 3 GPUs.\n"
     ]
    },
    {
     "name": "stderr",
     "output_type": "stream",
     "text": [
      "2022-11-03 22:16:43.997407: I tensorflow/core/common_runtime/gpu/gpu_device.cc:1525] Created device /device:GPU:0 with 14657 MB memory:  -> device: 0, name: Tesla V100-PCIE-16GB, pci bus id: 0000:04:00.0, compute capability: 7.0\n",
      "2022-11-03 22:16:43.998398: I tensorflow/core/common_runtime/gpu/gpu_device.cc:1525] Created device /device:GPU:1 with 14657 MB memory:  -> device: 1, name: Tesla V100-PCIE-16GB, pci bus id: 0000:06:00.0, compute capability: 7.0\n",
      "2022-11-03 22:16:43.999385: I tensorflow/core/common_runtime/gpu/gpu_device.cc:1525] Created device /device:GPU:2 with 14657 MB memory:  -> device: 2, name: Tesla V100-PCIE-16GB, pci bus id: 0000:08:00.0, compute capability: 7.0\n"
     ]
    },
    {
     "name": "stdout",
     "output_type": "stream",
     "text": [
      "Epoch 1/200\n"
     ]
    },
    {
     "name": "stderr",
     "output_type": "stream",
     "text": [
      "2022-11-03 22:16:59.402183: I tensorflow/stream_executor/cuda/cuda_dnn.cc:366] Loaded cuDNN version 8202\n"
     ]
    },
    {
     "name": "stdout",
     "output_type": "stream",
     "text": [
      "27/27 [==============================] - ETA: 0s - loss: 0.0184 - semantic_0_loss: 0.0057 - semantic_1_loss: 0.0106 - semantic_2_loss: 0.0022WARNING:tensorflow:Can save best model only with val_loss available, skipping.\n",
      "27/27 [==============================] - 42s 799ms/step - loss: 0.0184 - semantic_0_loss: 0.0057 - semantic_1_loss: 0.0106 - semantic_2_loss: 0.0022 - lr: 1.0000e-04\n",
      "Epoch 2/200\n",
      "27/27 [==============================] - ETA: 0s - loss: 0.0163 - semantic_0_loss: 0.0051 - semantic_1_loss: 0.0096 - semantic_2_loss: 0.0017WARNING:tensorflow:Can save best model only with val_loss available, skipping.\n",
      "27/27 [==============================] - 18s 654ms/step - loss: 0.0163 - semantic_0_loss: 0.0051 - semantic_1_loss: 0.0096 - semantic_2_loss: 0.0017 - lr: 9.9000e-05\n",
      "Epoch 3/200\n",
      "27/27 [==============================] - ETA: 0s - loss: 0.0165 - semantic_0_loss: 0.0051 - semantic_1_loss: 0.0097 - semantic_2_loss: 0.0016WARNING:tensorflow:Can save best model only with val_loss available, skipping.\n",
      "27/27 [==============================] - 18s 657ms/step - loss: 0.0165 - semantic_0_loss: 0.0051 - semantic_1_loss: 0.0097 - semantic_2_loss: 0.0016 - lr: 9.8010e-05\n",
      "Epoch 4/200\n",
      "27/27 [==============================] - ETA: 0s - loss: 0.0159 - semantic_0_loss: 0.0049 - semantic_1_loss: 0.0094 - semantic_2_loss: 0.0016WARNING:tensorflow:Can save best model only with val_loss available, skipping.\n",
      "27/27 [==============================] - 18s 645ms/step - loss: 0.0159 - semantic_0_loss: 0.0049 - semantic_1_loss: 0.0094 - semantic_2_loss: 0.0016 - lr: 9.7030e-05\n",
      "Epoch 5/200\n",
      "27/27 [==============================] - ETA: 0s - loss: 0.0159 - semantic_0_loss: 0.0050 - semantic_1_loss: 0.0093 - semantic_2_loss: 0.0016WARNING:tensorflow:Can save best model only with val_loss available, skipping.\n",
      "27/27 [==============================] - 18s 649ms/step - loss: 0.0159 - semantic_0_loss: 0.0050 - semantic_1_loss: 0.0093 - semantic_2_loss: 0.0016 - lr: 9.6060e-05\n",
      "Epoch 6/200\n",
      "27/27 [==============================] - ETA: 0s - loss: 0.0157 - semantic_0_loss: 0.0049 - semantic_1_loss: 0.0092 - semantic_2_loss: 0.0016WARNING:tensorflow:Can save best model only with val_loss available, skipping.\n",
      "27/27 [==============================] - 18s 652ms/step - loss: 0.0157 - semantic_0_loss: 0.0049 - semantic_1_loss: 0.0092 - semantic_2_loss: 0.0016 - lr: 9.5099e-05\n",
      "Epoch 7/200\n",
      "27/27 [==============================] - ETA: 0s - loss: 0.0155 - semantic_0_loss: 0.0048 - semantic_1_loss: 0.0092 - semantic_2_loss: 0.0016WARNING:tensorflow:Can save best model only with val_loss available, skipping.\n",
      "27/27 [==============================] - 18s 650ms/step - loss: 0.0155 - semantic_0_loss: 0.0048 - semantic_1_loss: 0.0092 - semantic_2_loss: 0.0016 - lr: 9.4148e-05\n",
      "Epoch 8/200\n",
      "27/27 [==============================] - ETA: 0s - loss: 0.0156 - semantic_0_loss: 0.0048 - semantic_1_loss: 0.0092 - semantic_2_loss: 0.0016WARNING:tensorflow:Can save best model only with val_loss available, skipping.\n",
      "27/27 [==============================] - 18s 670ms/step - loss: 0.0156 - semantic_0_loss: 0.0048 - semantic_1_loss: 0.0092 - semantic_2_loss: 0.0016 - lr: 9.3207e-05\n",
      "Epoch 9/200\n",
      "27/27 [==============================] - ETA: 0s - loss: 0.0151 - semantic_0_loss: 0.0047 - semantic_1_loss: 0.0089 - semantic_2_loss: 0.0015WARNING:tensorflow:Can save best model only with val_loss available, skipping.\n",
      "27/27 [==============================] - 18s 658ms/step - loss: 0.0151 - semantic_0_loss: 0.0047 - semantic_1_loss: 0.0089 - semantic_2_loss: 0.0015 - lr: 9.2274e-05\n",
      "Epoch 10/200\n",
      "27/27 [==============================] - ETA: 0s - loss: 0.0154 - semantic_0_loss: 0.0048 - semantic_1_loss: 0.0090 - semantic_2_loss: 0.0015WARNING:tensorflow:Can save best model only with val_loss available, skipping.\n",
      "27/27 [==============================] - 18s 659ms/step - loss: 0.0154 - semantic_0_loss: 0.0048 - semantic_1_loss: 0.0090 - semantic_2_loss: 0.0015 - lr: 9.1352e-05\n",
      "Epoch 11/200\n",
      "27/27 [==============================] - ETA: 0s - loss: 0.0151 - semantic_0_loss: 0.0047 - semantic_1_loss: 0.0089 - semantic_2_loss: 0.0015WARNING:tensorflow:Can save best model only with val_loss available, skipping.\n",
      "27/27 [==============================] - 18s 651ms/step - loss: 0.0151 - semantic_0_loss: 0.0047 - semantic_1_loss: 0.0089 - semantic_2_loss: 0.0015 - lr: 9.0438e-05\n",
      "Epoch 12/200\n",
      "27/27 [==============================] - ETA: 0s - loss: 0.0151 - semantic_0_loss: 0.0047 - semantic_1_loss: 0.0089 - semantic_2_loss: 0.0015WARNING:tensorflow:Can save best model only with val_loss available, skipping.\n",
      "27/27 [==============================] - 18s 661ms/step - loss: 0.0151 - semantic_0_loss: 0.0047 - semantic_1_loss: 0.0089 - semantic_2_loss: 0.0015 - lr: 8.9534e-05\n",
      "Epoch 13/200\n",
      "27/27 [==============================] - ETA: 0s - loss: 0.0151 - semantic_0_loss: 0.0047 - semantic_1_loss: 0.0089 - semantic_2_loss: 0.0015WARNING:tensorflow:Can save best model only with val_loss available, skipping.\n",
      "27/27 [==============================] - 18s 653ms/step - loss: 0.0151 - semantic_0_loss: 0.0047 - semantic_1_loss: 0.0089 - semantic_2_loss: 0.0015 - lr: 8.8638e-05\n",
      "Epoch 14/200\n",
      "27/27 [==============================] - ETA: 0s - loss: 0.0151 - semantic_0_loss: 0.0047 - semantic_1_loss: 0.0089 - semantic_2_loss: 0.0015WARNING:tensorflow:Can save best model only with val_loss available, skipping.\n",
      "27/27 [==============================] - 18s 648ms/step - loss: 0.0151 - semantic_0_loss: 0.0047 - semantic_1_loss: 0.0089 - semantic_2_loss: 0.0015 - lr: 8.7752e-05\n",
      "Epoch 15/200\n",
      "27/27 [==============================] - ETA: 0s - loss: 0.0150 - semantic_0_loss: 0.0047 - semantic_1_loss: 0.0089 - semantic_2_loss: 0.0015WARNING:tensorflow:Can save best model only with val_loss available, skipping.\n",
      "27/27 [==============================] - 18s 658ms/step - loss: 0.0150 - semantic_0_loss: 0.0047 - semantic_1_loss: 0.0089 - semantic_2_loss: 0.0015 - lr: 8.6875e-05\n",
      "Epoch 16/200\n",
      "27/27 [==============================] - ETA: 0s - loss: 0.0145 - semantic_0_loss: 0.0045 - semantic_1_loss: 0.0085 - semantic_2_loss: 0.0015WARNING:tensorflow:Can save best model only with val_loss available, skipping.\n",
      "27/27 [==============================] - 18s 659ms/step - loss: 0.0145 - semantic_0_loss: 0.0045 - semantic_1_loss: 0.0085 - semantic_2_loss: 0.0015 - lr: 8.6006e-05\n",
      "Epoch 17/200\n",
      "27/27 [==============================] - ETA: 0s - loss: 0.0148 - semantic_0_loss: 0.0046 - semantic_1_loss: 0.0087 - semantic_2_loss: 0.0015WARNING:tensorflow:Can save best model only with val_loss available, skipping.\n",
      "27/27 [==============================] - 18s 651ms/step - loss: 0.0148 - semantic_0_loss: 0.0046 - semantic_1_loss: 0.0087 - semantic_2_loss: 0.0015 - lr: 8.5146e-05\n",
      "Epoch 18/200\n",
      "27/27 [==============================] - ETA: 0s - loss: 0.0152 - semantic_0_loss: 0.0048 - semantic_1_loss: 0.0089 - semantic_2_loss: 0.0015WARNING:tensorflow:Can save best model only with val_loss available, skipping.\n",
      "27/27 [==============================] - 18s 659ms/step - loss: 0.0152 - semantic_0_loss: 0.0048 - semantic_1_loss: 0.0089 - semantic_2_loss: 0.0015 - lr: 8.4294e-05\n",
      "Epoch 19/200\n",
      "27/27 [==============================] - ETA: 0s - loss: 0.0148 - semantic_0_loss: 0.0046 - semantic_1_loss: 0.0086 - semantic_2_loss: 0.0015WARNING:tensorflow:Can save best model only with val_loss available, skipping.\n",
      "27/27 [==============================] - 18s 658ms/step - loss: 0.0148 - semantic_0_loss: 0.0046 - semantic_1_loss: 0.0086 - semantic_2_loss: 0.0015 - lr: 8.3451e-05\n",
      "Epoch 20/200\n",
      "27/27 [==============================] - ETA: 0s - loss: 0.0150 - semantic_0_loss: 0.0047 - semantic_1_loss: 0.0088 - semantic_2_loss: 0.0015WARNING:tensorflow:Can save best model only with val_loss available, skipping.\n",
      "27/27 [==============================] - 18s 664ms/step - loss: 0.0150 - semantic_0_loss: 0.0047 - semantic_1_loss: 0.0088 - semantic_2_loss: 0.0015 - lr: 8.2617e-05\n",
      "Epoch 21/200\n",
      "27/27 [==============================] - ETA: 0s - loss: 0.0148 - semantic_0_loss: 0.0046 - semantic_1_loss: 0.0087 - semantic_2_loss: 0.0015WARNING:tensorflow:Can save best model only with val_loss available, skipping.\n",
      "27/27 [==============================] - 18s 656ms/step - loss: 0.0148 - semantic_0_loss: 0.0046 - semantic_1_loss: 0.0087 - semantic_2_loss: 0.0015 - lr: 8.1791e-05\n",
      "Epoch 22/200\n",
      "27/27 [==============================] - ETA: 0s - loss: 0.0144 - semantic_0_loss: 0.0045 - semantic_1_loss: 0.0084 - semantic_2_loss: 0.0015WARNING:tensorflow:Can save best model only with val_loss available, skipping.\n",
      "27/27 [==============================] - 18s 641ms/step - loss: 0.0144 - semantic_0_loss: 0.0045 - semantic_1_loss: 0.0084 - semantic_2_loss: 0.0015 - lr: 8.0973e-05\n",
      "Epoch 23/200\n",
      "27/27 [==============================] - ETA: 0s - loss: 0.0145 - semantic_0_loss: 0.0045 - semantic_1_loss: 0.0085 - semantic_2_loss: 0.0015WARNING:tensorflow:Can save best model only with val_loss available, skipping.\n",
      "27/27 [==============================] - 18s 650ms/step - loss: 0.0145 - semantic_0_loss: 0.0045 - semantic_1_loss: 0.0085 - semantic_2_loss: 0.0015 - lr: 8.0163e-05\n",
      "Epoch 24/200\n",
      "27/27 [==============================] - ETA: 0s - loss: 0.0149 - semantic_0_loss: 0.0047 - semantic_1_loss: 0.0088 - semantic_2_loss: 0.0015WARNING:tensorflow:Can save best model only with val_loss available, skipping.\n",
      "27/27 [==============================] - 18s 654ms/step - loss: 0.0149 - semantic_0_loss: 0.0047 - semantic_1_loss: 0.0088 - semantic_2_loss: 0.0015 - lr: 7.9361e-05\n",
      "Epoch 25/200\n",
      "27/27 [==============================] - ETA: 0s - loss: 0.0145 - semantic_0_loss: 0.0046 - semantic_1_loss: 0.0085 - semantic_2_loss: 0.0015WARNING:tensorflow:Can save best model only with val_loss available, skipping.\n",
      "27/27 [==============================] - 18s 653ms/step - loss: 0.0145 - semantic_0_loss: 0.0046 - semantic_1_loss: 0.0085 - semantic_2_loss: 0.0015 - lr: 7.8568e-05\n",
      "Epoch 26/200\n",
      "27/27 [==============================] - ETA: 0s - loss: 0.0147 - semantic_0_loss: 0.0046 - semantic_1_loss: 0.0086 - semantic_2_loss: 0.0015WARNING:tensorflow:Can save best model only with val_loss available, skipping.\n",
      "27/27 [==============================] - 18s 658ms/step - loss: 0.0147 - semantic_0_loss: 0.0046 - semantic_1_loss: 0.0086 - semantic_2_loss: 0.0015 - lr: 7.7782e-05\n",
      "Epoch 27/200\n",
      "27/27 [==============================] - ETA: 0s - loss: 0.0145 - semantic_0_loss: 0.0046 - semantic_1_loss: 0.0085 - semantic_2_loss: 0.0015WARNING:tensorflow:Can save best model only with val_loss available, skipping.\n",
      "27/27 [==============================] - 18s 651ms/step - loss: 0.0145 - semantic_0_loss: 0.0046 - semantic_1_loss: 0.0085 - semantic_2_loss: 0.0015 - lr: 7.7004e-05\n",
      "Epoch 28/200\n",
      "27/27 [==============================] - ETA: 0s - loss: 0.0145 - semantic_0_loss: 0.0045 - semantic_1_loss: 0.0085 - semantic_2_loss: 0.0015WARNING:tensorflow:Can save best model only with val_loss available, skipping.\n",
      "27/27 [==============================] - 18s 651ms/step - loss: 0.0145 - semantic_0_loss: 0.0045 - semantic_1_loss: 0.0085 - semantic_2_loss: 0.0015 - lr: 7.6234e-05\n",
      "Epoch 29/200\n",
      "27/27 [==============================] - ETA: 0s - loss: 0.0142 - semantic_0_loss: 0.0045 - semantic_1_loss: 0.0083 - semantic_2_loss: 0.0014WARNING:tensorflow:Can save best model only with val_loss available, skipping.\n",
      "27/27 [==============================] - 18s 645ms/step - loss: 0.0142 - semantic_0_loss: 0.0045 - semantic_1_loss: 0.0083 - semantic_2_loss: 0.0014 - lr: 7.5472e-05\n",
      "Epoch 30/200\n",
      "27/27 [==============================] - ETA: 0s - loss: 0.0147 - semantic_0_loss: 0.0046 - semantic_1_loss: 0.0086 - semantic_2_loss: 0.0015WARNING:tensorflow:Can save best model only with val_loss available, skipping.\n",
      "27/27 [==============================] - 18s 659ms/step - loss: 0.0147 - semantic_0_loss: 0.0046 - semantic_1_loss: 0.0086 - semantic_2_loss: 0.0015 - lr: 7.4717e-05\n",
      "Epoch 31/200\n",
      "27/27 [==============================] - ETA: 0s - loss: 0.0143 - semantic_0_loss: 0.0045 - semantic_1_loss: 0.0083 - semantic_2_loss: 0.0014WARNING:tensorflow:Can save best model only with val_loss available, skipping.\n",
      "27/27 [==============================] - 18s 649ms/step - loss: 0.0143 - semantic_0_loss: 0.0045 - semantic_1_loss: 0.0083 - semantic_2_loss: 0.0014 - lr: 7.3970e-05\n",
      "Epoch 32/200\n",
      "27/27 [==============================] - ETA: 0s - loss: 0.0139 - semantic_0_loss: 0.0044 - semantic_1_loss: 0.0082 - semantic_2_loss: 0.0014WARNING:tensorflow:Can save best model only with val_loss available, skipping.\n",
      "27/27 [==============================] - 18s 647ms/step - loss: 0.0139 - semantic_0_loss: 0.0044 - semantic_1_loss: 0.0082 - semantic_2_loss: 0.0014 - lr: 7.3230e-05\n",
      "Epoch 33/200\n",
      "27/27 [==============================] - ETA: 0s - loss: 0.0141 - semantic_0_loss: 0.0044 - semantic_1_loss: 0.0082 - semantic_2_loss: 0.0014WARNING:tensorflow:Can save best model only with val_loss available, skipping.\n",
      "27/27 [==============================] - 18s 648ms/step - loss: 0.0141 - semantic_0_loss: 0.0044 - semantic_1_loss: 0.0082 - semantic_2_loss: 0.0014 - lr: 7.2498e-05\n",
      "Epoch 34/200\n",
      "27/27 [==============================] - ETA: 0s - loss: 0.0148 - semantic_0_loss: 0.0046 - semantic_1_loss: 0.0087 - semantic_2_loss: 0.0015WARNING:tensorflow:Can save best model only with val_loss available, skipping.\n",
      "27/27 [==============================] - 18s 671ms/step - loss: 0.0148 - semantic_0_loss: 0.0046 - semantic_1_loss: 0.0087 - semantic_2_loss: 0.0015 - lr: 7.1773e-05\n",
      "Epoch 35/200\n",
      "27/27 [==============================] - ETA: 0s - loss: 0.0144 - semantic_0_loss: 0.0045 - semantic_1_loss: 0.0085 - semantic_2_loss: 0.0014WARNING:tensorflow:Can save best model only with val_loss available, skipping.\n",
      "27/27 [==============================] - 18s 647ms/step - loss: 0.0144 - semantic_0_loss: 0.0045 - semantic_1_loss: 0.0085 - semantic_2_loss: 0.0014 - lr: 7.1055e-05\n",
      "Epoch 36/200\n",
      "27/27 [==============================] - ETA: 0s - loss: 0.0143 - semantic_0_loss: 0.0045 - semantic_1_loss: 0.0084 - semantic_2_loss: 0.0015WARNING:tensorflow:Can save best model only with val_loss available, skipping.\n",
      "27/27 [==============================] - 18s 646ms/step - loss: 0.0143 - semantic_0_loss: 0.0045 - semantic_1_loss: 0.0084 - semantic_2_loss: 0.0015 - lr: 7.0345e-05\n",
      "Epoch 37/200\n",
      "27/27 [==============================] - ETA: 0s - loss: 0.0139 - semantic_0_loss: 0.0044 - semantic_1_loss: 0.0081 - semantic_2_loss: 0.0014WARNING:tensorflow:Can save best model only with val_loss available, skipping.\n",
      "27/27 [==============================] - 18s 663ms/step - loss: 0.0139 - semantic_0_loss: 0.0044 - semantic_1_loss: 0.0081 - semantic_2_loss: 0.0014 - lr: 6.9641e-05\n",
      "Epoch 38/200\n",
      "27/27 [==============================] - ETA: 0s - loss: 0.0142 - semantic_0_loss: 0.0045 - semantic_1_loss: 0.0083 - semantic_2_loss: 0.0014WARNING:tensorflow:Can save best model only with val_loss available, skipping.\n",
      "27/27 [==============================] - 18s 647ms/step - loss: 0.0142 - semantic_0_loss: 0.0045 - semantic_1_loss: 0.0083 - semantic_2_loss: 0.0014 - lr: 6.8945e-05\n",
      "Epoch 39/200\n",
      "27/27 [==============================] - ETA: 0s - loss: 0.0145 - semantic_0_loss: 0.0045 - semantic_1_loss: 0.0085 - semantic_2_loss: 0.0015WARNING:tensorflow:Can save best model only with val_loss available, skipping.\n",
      "27/27 [==============================] - 18s 662ms/step - loss: 0.0145 - semantic_0_loss: 0.0045 - semantic_1_loss: 0.0085 - semantic_2_loss: 0.0015 - lr: 6.8255e-05\n",
      "Epoch 40/200\n",
      "27/27 [==============================] - ETA: 0s - loss: 0.0142 - semantic_0_loss: 0.0045 - semantic_1_loss: 0.0083 - semantic_2_loss: 0.0014WARNING:tensorflow:Can save best model only with val_loss available, skipping.\n",
      "27/27 [==============================] - 18s 647ms/step - loss: 0.0142 - semantic_0_loss: 0.0045 - semantic_1_loss: 0.0083 - semantic_2_loss: 0.0014 - lr: 6.7573e-05\n",
      "Epoch 41/200\n",
      "27/27 [==============================] - ETA: 0s - loss: 0.0142 - semantic_0_loss: 0.0045 - semantic_1_loss: 0.0083 - semantic_2_loss: 0.0014WARNING:tensorflow:Can save best model only with val_loss available, skipping.\n",
      "27/27 [==============================] - 18s 640ms/step - loss: 0.0142 - semantic_0_loss: 0.0045 - semantic_1_loss: 0.0083 - semantic_2_loss: 0.0014 - lr: 6.6897e-05\n",
      "Epoch 42/200\n",
      "27/27 [==============================] - ETA: 0s - loss: 0.0135 - semantic_0_loss: 0.0042 - semantic_1_loss: 0.0079 - semantic_2_loss: 0.0014WARNING:tensorflow:Can save best model only with val_loss available, skipping.\n",
      "27/27 [==============================] - 18s 648ms/step - loss: 0.0135 - semantic_0_loss: 0.0042 - semantic_1_loss: 0.0079 - semantic_2_loss: 0.0014 - lr: 6.6228e-05\n",
      "Epoch 43/200\n",
      "27/27 [==============================] - ETA: 0s - loss: 0.0142 - semantic_0_loss: 0.0045 - semantic_1_loss: 0.0083 - semantic_2_loss: 0.0014WARNING:tensorflow:Can save best model only with val_loss available, skipping.\n",
      "27/27 [==============================] - 18s 653ms/step - loss: 0.0142 - semantic_0_loss: 0.0045 - semantic_1_loss: 0.0083 - semantic_2_loss: 0.0014 - lr: 6.5566e-05\n",
      "Epoch 44/200\n",
      "27/27 [==============================] - ETA: 0s - loss: 0.0139 - semantic_0_loss: 0.0044 - semantic_1_loss: 0.0082 - semantic_2_loss: 0.0014WARNING:tensorflow:Can save best model only with val_loss available, skipping.\n",
      "27/27 [==============================] - 18s 654ms/step - loss: 0.0139 - semantic_0_loss: 0.0044 - semantic_1_loss: 0.0082 - semantic_2_loss: 0.0014 - lr: 6.4910e-05\n",
      "Epoch 45/200\n",
      "27/27 [==============================] - ETA: 0s - loss: 0.0137 - semantic_0_loss: 0.0043 - semantic_1_loss: 0.0080 - semantic_2_loss: 0.0014WARNING:tensorflow:Can save best model only with val_loss available, skipping.\n",
      "27/27 [==============================] - 18s 658ms/step - loss: 0.0137 - semantic_0_loss: 0.0043 - semantic_1_loss: 0.0080 - semantic_2_loss: 0.0014 - lr: 6.4261e-05\n",
      "Epoch 46/200\n",
      "27/27 [==============================] - ETA: 0s - loss: 0.0136 - semantic_0_loss: 0.0043 - semantic_1_loss: 0.0079 - semantic_2_loss: 0.0014WARNING:tensorflow:Can save best model only with val_loss available, skipping.\n",
      "27/27 [==============================] - 18s 643ms/step - loss: 0.0136 - semantic_0_loss: 0.0043 - semantic_1_loss: 0.0079 - semantic_2_loss: 0.0014 - lr: 6.3619e-05\n",
      "Epoch 47/200\n",
      "27/27 [==============================] - ETA: 0s - loss: 0.0138 - semantic_0_loss: 0.0043 - semantic_1_loss: 0.0081 - semantic_2_loss: 0.0014WARNING:tensorflow:Can save best model only with val_loss available, skipping.\n",
      "27/27 [==============================] - 18s 646ms/step - loss: 0.0138 - semantic_0_loss: 0.0043 - semantic_1_loss: 0.0081 - semantic_2_loss: 0.0014 - lr: 6.2982e-05\n",
      "Epoch 48/200\n",
      "27/27 [==============================] - ETA: 0s - loss: 0.0139 - semantic_0_loss: 0.0044 - semantic_1_loss: 0.0081 - semantic_2_loss: 0.0014WARNING:tensorflow:Can save best model only with val_loss available, skipping.\n",
      "27/27 [==============================] - 18s 656ms/step - loss: 0.0139 - semantic_0_loss: 0.0044 - semantic_1_loss: 0.0081 - semantic_2_loss: 0.0014 - lr: 6.2353e-05\n",
      "Epoch 49/200\n",
      "27/27 [==============================] - ETA: 0s - loss: 0.0142 - semantic_0_loss: 0.0045 - semantic_1_loss: 0.0083 - semantic_2_loss: 0.0014WARNING:tensorflow:Can save best model only with val_loss available, skipping.\n",
      "27/27 [==============================] - 18s 656ms/step - loss: 0.0142 - semantic_0_loss: 0.0045 - semantic_1_loss: 0.0083 - semantic_2_loss: 0.0014 - lr: 6.1729e-05\n",
      "Epoch 50/200\n",
      "27/27 [==============================] - ETA: 0s - loss: 0.0140 - semantic_0_loss: 0.0044 - semantic_1_loss: 0.0082 - semantic_2_loss: 0.0014WARNING:tensorflow:Can save best model only with val_loss available, skipping.\n",
      "27/27 [==============================] - 18s 655ms/step - loss: 0.0140 - semantic_0_loss: 0.0044 - semantic_1_loss: 0.0082 - semantic_2_loss: 0.0014 - lr: 6.1112e-05\n",
      "Epoch 51/200\n",
      "27/27 [==============================] - ETA: 0s - loss: 0.0137 - semantic_0_loss: 0.0043 - semantic_1_loss: 0.0080 - semantic_2_loss: 0.0014WARNING:tensorflow:Can save best model only with val_loss available, skipping.\n",
      "27/27 [==============================] - 18s 638ms/step - loss: 0.0137 - semantic_0_loss: 0.0043 - semantic_1_loss: 0.0080 - semantic_2_loss: 0.0014 - lr: 6.0501e-05\n",
      "Epoch 52/200\n",
      "27/27 [==============================] - ETA: 0s - loss: 0.0137 - semantic_0_loss: 0.0043 - semantic_1_loss: 0.0080 - semantic_2_loss: 0.0014WARNING:tensorflow:Can save best model only with val_loss available, skipping.\n",
      "27/27 [==============================] - 18s 658ms/step - loss: 0.0137 - semantic_0_loss: 0.0043 - semantic_1_loss: 0.0080 - semantic_2_loss: 0.0014 - lr: 5.9896e-05\n",
      "Epoch 53/200\n",
      "27/27 [==============================] - ETA: 0s - loss: 0.0135 - semantic_0_loss: 0.0042 - semantic_1_loss: 0.0079 - semantic_2_loss: 0.0014WARNING:tensorflow:Can save best model only with val_loss available, skipping.\n",
      "27/27 [==============================] - 18s 651ms/step - loss: 0.0135 - semantic_0_loss: 0.0042 - semantic_1_loss: 0.0079 - semantic_2_loss: 0.0014 - lr: 5.9297e-05\n",
      "Epoch 54/200\n",
      "27/27 [==============================] - ETA: 0s - loss: 0.0135 - semantic_0_loss: 0.0043 - semantic_1_loss: 0.0079 - semantic_2_loss: 0.0014WARNING:tensorflow:Can save best model only with val_loss available, skipping.\n",
      "27/27 [==============================] - 18s 653ms/step - loss: 0.0135 - semantic_0_loss: 0.0043 - semantic_1_loss: 0.0079 - semantic_2_loss: 0.0014 - lr: 5.8704e-05\n",
      "Epoch 55/200\n",
      "27/27 [==============================] - ETA: 0s - loss: 0.0138 - semantic_0_loss: 0.0044 - semantic_1_loss: 0.0081 - semantic_2_loss: 0.0014WARNING:tensorflow:Can save best model only with val_loss available, skipping.\n",
      "27/27 [==============================] - 18s 658ms/step - loss: 0.0138 - semantic_0_loss: 0.0044 - semantic_1_loss: 0.0081 - semantic_2_loss: 0.0014 - lr: 5.8117e-05\n",
      "Epoch 56/200\n",
      "27/27 [==============================] - ETA: 0s - loss: 0.0135 - semantic_0_loss: 0.0043 - semantic_1_loss: 0.0079 - semantic_2_loss: 0.0014WARNING:tensorflow:Can save best model only with val_loss available, skipping.\n",
      "27/27 [==============================] - 18s 654ms/step - loss: 0.0135 - semantic_0_loss: 0.0043 - semantic_1_loss: 0.0079 - semantic_2_loss: 0.0014 - lr: 5.7535e-05\n",
      "Epoch 57/200\n",
      "27/27 [==============================] - ETA: 0s - loss: 0.0136 - semantic_0_loss: 0.0043 - semantic_1_loss: 0.0079 - semantic_2_loss: 0.0014WARNING:tensorflow:Can save best model only with val_loss available, skipping.\n",
      "27/27 [==============================] - 18s 638ms/step - loss: 0.0136 - semantic_0_loss: 0.0043 - semantic_1_loss: 0.0079 - semantic_2_loss: 0.0014 - lr: 5.6960e-05\n",
      "Epoch 58/200\n",
      "27/27 [==============================] - ETA: 0s - loss: 0.0136 - semantic_0_loss: 0.0043 - semantic_1_loss: 0.0079 - semantic_2_loss: 0.0014WARNING:tensorflow:Can save best model only with val_loss available, skipping.\n",
      "27/27 [==============================] - 18s 641ms/step - loss: 0.0136 - semantic_0_loss: 0.0043 - semantic_1_loss: 0.0079 - semantic_2_loss: 0.0014 - lr: 5.6391e-05\n",
      "Epoch 59/200\n",
      "27/27 [==============================] - ETA: 0s - loss: 0.0141 - semantic_0_loss: 0.0045 - semantic_1_loss: 0.0082 - semantic_2_loss: 0.0014WARNING:tensorflow:Can save best model only with val_loss available, skipping.\n",
      "27/27 [==============================] - 18s 678ms/step - loss: 0.0141 - semantic_0_loss: 0.0045 - semantic_1_loss: 0.0082 - semantic_2_loss: 0.0014 - lr: 5.5827e-05\n",
      "Epoch 60/200\n",
      "27/27 [==============================] - ETA: 0s - loss: 0.0135 - semantic_0_loss: 0.0043 - semantic_1_loss: 0.0078 - semantic_2_loss: 0.0014WARNING:tensorflow:Can save best model only with val_loss available, skipping.\n",
      "27/27 [==============================] - 18s 646ms/step - loss: 0.0135 - semantic_0_loss: 0.0043 - semantic_1_loss: 0.0078 - semantic_2_loss: 0.0014 - lr: 5.5268e-05\n",
      "Epoch 61/200\n",
      "27/27 [==============================] - ETA: 0s - loss: 0.0136 - semantic_0_loss: 0.0043 - semantic_1_loss: 0.0079 - semantic_2_loss: 0.0014WARNING:tensorflow:Can save best model only with val_loss available, skipping.\n",
      "27/27 [==============================] - 18s 650ms/step - loss: 0.0136 - semantic_0_loss: 0.0043 - semantic_1_loss: 0.0079 - semantic_2_loss: 0.0014 - lr: 5.4716e-05\n",
      "Epoch 62/200\n",
      "27/27 [==============================] - ETA: 0s - loss: 0.0134 - semantic_0_loss: 0.0042 - semantic_1_loss: 0.0078 - semantic_2_loss: 0.0014WARNING:tensorflow:Can save best model only with val_loss available, skipping.\n",
      "27/27 [==============================] - 18s 643ms/step - loss: 0.0134 - semantic_0_loss: 0.0042 - semantic_1_loss: 0.0078 - semantic_2_loss: 0.0014 - lr: 5.4169e-05\n",
      "Epoch 63/200\n",
      "27/27 [==============================] - ETA: 0s - loss: 0.0137 - semantic_0_loss: 0.0043 - semantic_1_loss: 0.0080 - semantic_2_loss: 0.0014WARNING:tensorflow:Can save best model only with val_loss available, skipping.\n",
      "27/27 [==============================] - 18s 648ms/step - loss: 0.0137 - semantic_0_loss: 0.0043 - semantic_1_loss: 0.0080 - semantic_2_loss: 0.0014 - lr: 5.3627e-05\n",
      "Epoch 64/200\n",
      "27/27 [==============================] - ETA: 0s - loss: 0.0138 - semantic_0_loss: 0.0044 - semantic_1_loss: 0.0081 - semantic_2_loss: 0.0014WARNING:tensorflow:Can save best model only with val_loss available, skipping.\n",
      "27/27 [==============================] - 18s 651ms/step - loss: 0.0138 - semantic_0_loss: 0.0044 - semantic_1_loss: 0.0081 - semantic_2_loss: 0.0014 - lr: 5.3091e-05\n",
      "Epoch 65/200\n",
      "27/27 [==============================] - ETA: 0s - loss: 0.0136 - semantic_0_loss: 0.0043 - semantic_1_loss: 0.0079 - semantic_2_loss: 0.0014WARNING:tensorflow:Can save best model only with val_loss available, skipping.\n",
      "27/27 [==============================] - 18s 664ms/step - loss: 0.0136 - semantic_0_loss: 0.0043 - semantic_1_loss: 0.0079 - semantic_2_loss: 0.0014 - lr: 5.2560e-05\n",
      "Epoch 66/200\n",
      "27/27 [==============================] - ETA: 0s - loss: 0.0135 - semantic_0_loss: 0.0042 - semantic_1_loss: 0.0079 - semantic_2_loss: 0.0014WARNING:tensorflow:Can save best model only with val_loss available, skipping.\n",
      "27/27 [==============================] - 18s 660ms/step - loss: 0.0135 - semantic_0_loss: 0.0042 - semantic_1_loss: 0.0079 - semantic_2_loss: 0.0014 - lr: 5.2034e-05\n",
      "Epoch 67/200\n",
      "27/27 [==============================] - ETA: 0s - loss: 0.0134 - semantic_0_loss: 0.0042 - semantic_1_loss: 0.0078 - semantic_2_loss: 0.0014WARNING:tensorflow:Can save best model only with val_loss available, skipping.\n",
      "27/27 [==============================] - 18s 648ms/step - loss: 0.0134 - semantic_0_loss: 0.0042 - semantic_1_loss: 0.0078 - semantic_2_loss: 0.0014 - lr: 5.1514e-05\n",
      "Epoch 68/200\n",
      "27/27 [==============================] - ETA: 0s - loss: 0.0137 - semantic_0_loss: 0.0043 - semantic_1_loss: 0.0080 - semantic_2_loss: 0.0014WARNING:tensorflow:Can save best model only with val_loss available, skipping.\n",
      "27/27 [==============================] - 18s 652ms/step - loss: 0.0137 - semantic_0_loss: 0.0043 - semantic_1_loss: 0.0080 - semantic_2_loss: 0.0014 - lr: 5.0999e-05\n",
      "Epoch 69/200\n",
      "27/27 [==============================] - ETA: 0s - loss: 0.0138 - semantic_0_loss: 0.0044 - semantic_1_loss: 0.0080 - semantic_2_loss: 0.0014WARNING:tensorflow:Can save best model only with val_loss available, skipping.\n",
      "27/27 [==============================] - 18s 647ms/step - loss: 0.0138 - semantic_0_loss: 0.0044 - semantic_1_loss: 0.0080 - semantic_2_loss: 0.0014 - lr: 5.0489e-05\n",
      "Epoch 70/200\n",
      "27/27 [==============================] - ETA: 0s - loss: 0.0132 - semantic_0_loss: 0.0042 - semantic_1_loss: 0.0077 - semantic_2_loss: 0.0014WARNING:tensorflow:Can save best model only with val_loss available, skipping.\n",
      "27/27 [==============================] - 18s 655ms/step - loss: 0.0132 - semantic_0_loss: 0.0042 - semantic_1_loss: 0.0077 - semantic_2_loss: 0.0014 - lr: 4.9984e-05\n",
      "Epoch 71/200\n",
      "27/27 [==============================] - ETA: 0s - loss: 0.0133 - semantic_0_loss: 0.0042 - semantic_1_loss: 0.0077 - semantic_2_loss: 0.0014WARNING:tensorflow:Can save best model only with val_loss available, skipping.\n",
      "27/27 [==============================] - 18s 652ms/step - loss: 0.0133 - semantic_0_loss: 0.0042 - semantic_1_loss: 0.0077 - semantic_2_loss: 0.0014 - lr: 4.9484e-05\n",
      "Epoch 72/200\n",
      "27/27 [==============================] - ETA: 0s - loss: 0.0137 - semantic_0_loss: 0.0043 - semantic_1_loss: 0.0079 - semantic_2_loss: 0.0014WARNING:tensorflow:Can save best model only with val_loss available, skipping.\n",
      "27/27 [==============================] - 18s 649ms/step - loss: 0.0137 - semantic_0_loss: 0.0043 - semantic_1_loss: 0.0079 - semantic_2_loss: 0.0014 - lr: 4.8989e-05\n",
      "Epoch 73/200\n",
      "27/27 [==============================] - ETA: 0s - loss: 0.0135 - semantic_0_loss: 0.0043 - semantic_1_loss: 0.0078 - semantic_2_loss: 0.0014WARNING:tensorflow:Can save best model only with val_loss available, skipping.\n",
      "27/27 [==============================] - 18s 653ms/step - loss: 0.0135 - semantic_0_loss: 0.0043 - semantic_1_loss: 0.0078 - semantic_2_loss: 0.0014 - lr: 4.8499e-05\n",
      "Epoch 74/200\n",
      "27/27 [==============================] - ETA: 0s - loss: 0.0135 - semantic_0_loss: 0.0043 - semantic_1_loss: 0.0078 - semantic_2_loss: 0.0014WARNING:tensorflow:Can save best model only with val_loss available, skipping.\n",
      "27/27 [==============================] - 18s 668ms/step - loss: 0.0135 - semantic_0_loss: 0.0043 - semantic_1_loss: 0.0078 - semantic_2_loss: 0.0014 - lr: 4.8014e-05\n",
      "Epoch 75/200\n",
      "27/27 [==============================] - ETA: 0s - loss: 0.0133 - semantic_0_loss: 0.0042 - semantic_1_loss: 0.0077 - semantic_2_loss: 0.0014WARNING:tensorflow:Can save best model only with val_loss available, skipping.\n",
      "27/27 [==============================] - 18s 646ms/step - loss: 0.0133 - semantic_0_loss: 0.0042 - semantic_1_loss: 0.0077 - semantic_2_loss: 0.0014 - lr: 4.7534e-05\n",
      "Epoch 76/200\n",
      "27/27 [==============================] - ETA: 0s - loss: 0.0130 - semantic_0_loss: 0.0041 - semantic_1_loss: 0.0075 - semantic_2_loss: 0.0014WARNING:tensorflow:Can save best model only with val_loss available, skipping.\n",
      "27/27 [==============================] - 18s 654ms/step - loss: 0.0130 - semantic_0_loss: 0.0041 - semantic_1_loss: 0.0075 - semantic_2_loss: 0.0014 - lr: 4.7059e-05\n",
      "Epoch 77/200\n",
      "27/27 [==============================] - ETA: 0s - loss: 0.0134 - semantic_0_loss: 0.0042 - semantic_1_loss: 0.0078 - semantic_2_loss: 0.0014WARNING:tensorflow:Can save best model only with val_loss available, skipping.\n",
      "27/27 [==============================] - 18s 650ms/step - loss: 0.0134 - semantic_0_loss: 0.0042 - semantic_1_loss: 0.0078 - semantic_2_loss: 0.0014 - lr: 4.6588e-05\n",
      "Epoch 78/200\n",
      "27/27 [==============================] - ETA: 0s - loss: 0.0131 - semantic_0_loss: 0.0042 - semantic_1_loss: 0.0076 - semantic_2_loss: 0.0013WARNING:tensorflow:Can save best model only with val_loss available, skipping.\n",
      "27/27 [==============================] - 18s 648ms/step - loss: 0.0131 - semantic_0_loss: 0.0042 - semantic_1_loss: 0.0076 - semantic_2_loss: 0.0013 - lr: 4.6122e-05\n",
      "Epoch 79/200\n",
      "27/27 [==============================] - ETA: 0s - loss: 0.0129 - semantic_0_loss: 0.0041 - semantic_1_loss: 0.0075 - semantic_2_loss: 0.0013WARNING:tensorflow:Can save best model only with val_loss available, skipping.\n",
      "27/27 [==============================] - 18s 643ms/step - loss: 0.0129 - semantic_0_loss: 0.0041 - semantic_1_loss: 0.0075 - semantic_2_loss: 0.0013 - lr: 4.5661e-05\n",
      "Epoch 80/200\n",
      "27/27 [==============================] - ETA: 0s - loss: 0.0131 - semantic_0_loss: 0.0041 - semantic_1_loss: 0.0076 - semantic_2_loss: 0.0014WARNING:tensorflow:Can save best model only with val_loss available, skipping.\n",
      "27/27 [==============================] - 18s 643ms/step - loss: 0.0131 - semantic_0_loss: 0.0041 - semantic_1_loss: 0.0076 - semantic_2_loss: 0.0014 - lr: 4.5204e-05\n",
      "Epoch 81/200\n",
      "27/27 [==============================] - ETA: 0s - loss: 0.0133 - semantic_0_loss: 0.0042 - semantic_1_loss: 0.0077 - semantic_2_loss: 0.0014WARNING:tensorflow:Can save best model only with val_loss available, skipping.\n",
      "27/27 [==============================] - 18s 653ms/step - loss: 0.0133 - semantic_0_loss: 0.0042 - semantic_1_loss: 0.0077 - semantic_2_loss: 0.0014 - lr: 4.4752e-05\n",
      "Epoch 82/200\n",
      "27/27 [==============================] - ETA: 0s - loss: 0.0136 - semantic_0_loss: 0.0043 - semantic_1_loss: 0.0079 - semantic_2_loss: 0.0014WARNING:tensorflow:Can save best model only with val_loss available, skipping.\n",
      "27/27 [==============================] - 18s 650ms/step - loss: 0.0136 - semantic_0_loss: 0.0043 - semantic_1_loss: 0.0079 - semantic_2_loss: 0.0014 - lr: 4.4305e-05\n",
      "Epoch 83/200\n",
      "27/27 [==============================] - ETA: 0s - loss: 0.0130 - semantic_0_loss: 0.0041 - semantic_1_loss: 0.0075 - semantic_2_loss: 0.0013WARNING:tensorflow:Can save best model only with val_loss available, skipping.\n",
      "27/27 [==============================] - 18s 645ms/step - loss: 0.0130 - semantic_0_loss: 0.0041 - semantic_1_loss: 0.0075 - semantic_2_loss: 0.0013 - lr: 4.3862e-05\n",
      "Epoch 84/200\n",
      "27/27 [==============================] - ETA: 0s - loss: 0.0133 - semantic_0_loss: 0.0042 - semantic_1_loss: 0.0077 - semantic_2_loss: 0.0014WARNING:tensorflow:Can save best model only with val_loss available, skipping.\n",
      "27/27 [==============================] - 18s 640ms/step - loss: 0.0133 - semantic_0_loss: 0.0042 - semantic_1_loss: 0.0077 - semantic_2_loss: 0.0014 - lr: 4.3423e-05\n",
      "Epoch 85/200\n",
      "27/27 [==============================] - ETA: 0s - loss: 0.0134 - semantic_0_loss: 0.0043 - semantic_1_loss: 0.0078 - semantic_2_loss: 0.0014WARNING:tensorflow:Can save best model only with val_loss available, skipping.\n",
      "27/27 [==============================] - 18s 650ms/step - loss: 0.0134 - semantic_0_loss: 0.0043 - semantic_1_loss: 0.0078 - semantic_2_loss: 0.0014 - lr: 4.2989e-05\n",
      "Epoch 86/200\n",
      "27/27 [==============================] - ETA: 0s - loss: 0.0132 - semantic_0_loss: 0.0042 - semantic_1_loss: 0.0077 - semantic_2_loss: 0.0014WARNING:tensorflow:Can save best model only with val_loss available, skipping.\n",
      "27/27 [==============================] - 18s 656ms/step - loss: 0.0132 - semantic_0_loss: 0.0042 - semantic_1_loss: 0.0077 - semantic_2_loss: 0.0014 - lr: 4.2559e-05\n",
      "Epoch 87/200\n",
      "27/27 [==============================] - ETA: 0s - loss: 0.0129 - semantic_0_loss: 0.0041 - semantic_1_loss: 0.0075 - semantic_2_loss: 0.0013WARNING:tensorflow:Can save best model only with val_loss available, skipping.\n",
      "27/27 [==============================] - 18s 645ms/step - loss: 0.0129 - semantic_0_loss: 0.0041 - semantic_1_loss: 0.0075 - semantic_2_loss: 0.0013 - lr: 4.2133e-05\n",
      "Epoch 88/200\n",
      "27/27 [==============================] - ETA: 0s - loss: 0.0133 - semantic_0_loss: 0.0043 - semantic_1_loss: 0.0077 - semantic_2_loss: 0.0014WARNING:tensorflow:Can save best model only with val_loss available, skipping.\n",
      "27/27 [==============================] - 18s 655ms/step - loss: 0.0133 - semantic_0_loss: 0.0043 - semantic_1_loss: 0.0077 - semantic_2_loss: 0.0014 - lr: 4.1712e-05\n",
      "Epoch 89/200\n",
      "27/27 [==============================] - ETA: 0s - loss: 0.0134 - semantic_0_loss: 0.0043 - semantic_1_loss: 0.0078 - semantic_2_loss: 0.0014WARNING:tensorflow:Can save best model only with val_loss available, skipping.\n",
      "27/27 [==============================] - 18s 674ms/step - loss: 0.0134 - semantic_0_loss: 0.0043 - semantic_1_loss: 0.0078 - semantic_2_loss: 0.0014 - lr: 4.1295e-05\n",
      "Epoch 90/200\n",
      "27/27 [==============================] - ETA: 0s - loss: 0.0127 - semantic_0_loss: 0.0040 - semantic_1_loss: 0.0074 - semantic_2_loss: 0.0013WARNING:tensorflow:Can save best model only with val_loss available, skipping.\n",
      "27/27 [==============================] - 18s 650ms/step - loss: 0.0127 - semantic_0_loss: 0.0040 - semantic_1_loss: 0.0074 - semantic_2_loss: 0.0013 - lr: 4.0882e-05\n",
      "Epoch 91/200\n",
      "27/27 [==============================] - ETA: 0s - loss: 0.0131 - semantic_0_loss: 0.0042 - semantic_1_loss: 0.0076 - semantic_2_loss: 0.0013WARNING:tensorflow:Can save best model only with val_loss available, skipping.\n",
      "27/27 [==============================] - 18s 648ms/step - loss: 0.0131 - semantic_0_loss: 0.0042 - semantic_1_loss: 0.0076 - semantic_2_loss: 0.0013 - lr: 4.0473e-05\n",
      "Epoch 92/200\n",
      "27/27 [==============================] - ETA: 0s - loss: 0.0133 - semantic_0_loss: 0.0042 - semantic_1_loss: 0.0077 - semantic_2_loss: 0.0014WARNING:tensorflow:Can save best model only with val_loss available, skipping.\n",
      "27/27 [==============================] - 18s 642ms/step - loss: 0.0133 - semantic_0_loss: 0.0042 - semantic_1_loss: 0.0077 - semantic_2_loss: 0.0014 - lr: 4.0068e-05\n",
      "Epoch 93/200\n",
      "27/27 [==============================] - ETA: 0s - loss: 0.0133 - semantic_0_loss: 0.0042 - semantic_1_loss: 0.0077 - semantic_2_loss: 0.0013WARNING:tensorflow:Can save best model only with val_loss available, skipping.\n",
      "27/27 [==============================] - 18s 646ms/step - loss: 0.0133 - semantic_0_loss: 0.0042 - semantic_1_loss: 0.0077 - semantic_2_loss: 0.0013 - lr: 3.9668e-05\n",
      "Epoch 94/200\n",
      "27/27 [==============================] - ETA: 0s - loss: 0.0132 - semantic_0_loss: 0.0042 - semantic_1_loss: 0.0077 - semantic_2_loss: 0.0013WARNING:tensorflow:Can save best model only with val_loss available, skipping.\n",
      "27/27 [==============================] - 18s 649ms/step - loss: 0.0132 - semantic_0_loss: 0.0042 - semantic_1_loss: 0.0077 - semantic_2_loss: 0.0013 - lr: 3.9271e-05\n",
      "Epoch 95/200\n",
      "27/27 [==============================] - ETA: 0s - loss: 0.0134 - semantic_0_loss: 0.0042 - semantic_1_loss: 0.0078 - semantic_2_loss: 0.0014WARNING:tensorflow:Can save best model only with val_loss available, skipping.\n",
      "27/27 [==============================] - 18s 649ms/step - loss: 0.0134 - semantic_0_loss: 0.0042 - semantic_1_loss: 0.0078 - semantic_2_loss: 0.0014 - lr: 3.8878e-05\n",
      "Epoch 96/200\n",
      "27/27 [==============================] - ETA: 0s - loss: 0.0129 - semantic_0_loss: 0.0041 - semantic_1_loss: 0.0074 - semantic_2_loss: 0.0013WARNING:tensorflow:Can save best model only with val_loss available, skipping.\n",
      "27/27 [==============================] - 18s 657ms/step - loss: 0.0129 - semantic_0_loss: 0.0041 - semantic_1_loss: 0.0074 - semantic_2_loss: 0.0013 - lr: 3.8490e-05\n",
      "Epoch 97/200\n",
      "27/27 [==============================] - ETA: 0s - loss: 0.0131 - semantic_0_loss: 0.0042 - semantic_1_loss: 0.0076 - semantic_2_loss: 0.0013WARNING:tensorflow:Can save best model only with val_loss available, skipping.\n",
      "27/27 [==============================] - 18s 646ms/step - loss: 0.0131 - semantic_0_loss: 0.0042 - semantic_1_loss: 0.0076 - semantic_2_loss: 0.0013 - lr: 3.8105e-05\n",
      "Epoch 98/200\n",
      "27/27 [==============================] - ETA: 0s - loss: 0.0130 - semantic_0_loss: 0.0041 - semantic_1_loss: 0.0075 - semantic_2_loss: 0.0013WARNING:tensorflow:Can save best model only with val_loss available, skipping.\n",
      "27/27 [==============================] - 18s 644ms/step - loss: 0.0130 - semantic_0_loss: 0.0041 - semantic_1_loss: 0.0075 - semantic_2_loss: 0.0013 - lr: 3.7724e-05\n",
      "Epoch 99/200\n",
      "27/27 [==============================] - ETA: 0s - loss: 0.0132 - semantic_0_loss: 0.0042 - semantic_1_loss: 0.0077 - semantic_2_loss: 0.0014WARNING:tensorflow:Can save best model only with val_loss available, skipping.\n",
      "27/27 [==============================] - 18s 663ms/step - loss: 0.0132 - semantic_0_loss: 0.0042 - semantic_1_loss: 0.0077 - semantic_2_loss: 0.0014 - lr: 3.7346e-05\n",
      "Epoch 100/200\n",
      "27/27 [==============================] - ETA: 0s - loss: 0.0129 - semantic_0_loss: 0.0041 - semantic_1_loss: 0.0075 - semantic_2_loss: 0.0013WARNING:tensorflow:Can save best model only with val_loss available, skipping.\n",
      "27/27 [==============================] - 18s 648ms/step - loss: 0.0129 - semantic_0_loss: 0.0041 - semantic_1_loss: 0.0075 - semantic_2_loss: 0.0013 - lr: 3.6973e-05\n",
      "Epoch 101/200\n",
      "27/27 [==============================] - ETA: 0s - loss: 0.0132 - semantic_0_loss: 0.0042 - semantic_1_loss: 0.0077 - semantic_2_loss: 0.0013WARNING:tensorflow:Can save best model only with val_loss available, skipping.\n",
      "27/27 [==============================] - 18s 658ms/step - loss: 0.0132 - semantic_0_loss: 0.0042 - semantic_1_loss: 0.0077 - semantic_2_loss: 0.0013 - lr: 3.6603e-05\n",
      "Epoch 102/200\n",
      "27/27 [==============================] - ETA: 0s - loss: 0.0130 - semantic_0_loss: 0.0042 - semantic_1_loss: 0.0075 - semantic_2_loss: 0.0013WARNING:tensorflow:Can save best model only with val_loss available, skipping.\n",
      "27/27 [==============================] - 18s 651ms/step - loss: 0.0130 - semantic_0_loss: 0.0042 - semantic_1_loss: 0.0075 - semantic_2_loss: 0.0013 - lr: 3.6237e-05\n",
      "Epoch 103/200\n",
      "27/27 [==============================] - ETA: 0s - loss: 0.0127 - semantic_0_loss: 0.0040 - semantic_1_loss: 0.0074 - semantic_2_loss: 0.0013WARNING:tensorflow:Can save best model only with val_loss available, skipping.\n",
      "27/27 [==============================] - 19s 679ms/step - loss: 0.0127 - semantic_0_loss: 0.0040 - semantic_1_loss: 0.0074 - semantic_2_loss: 0.0013 - lr: 3.5875e-05\n",
      "Epoch 104/200\n",
      "27/27 [==============================] - ETA: 0s - loss: 0.0129 - semantic_0_loss: 0.0041 - semantic_1_loss: 0.0075 - semantic_2_loss: 0.0013WARNING:tensorflow:Can save best model only with val_loss available, skipping.\n",
      "27/27 [==============================] - 18s 664ms/step - loss: 0.0129 - semantic_0_loss: 0.0041 - semantic_1_loss: 0.0075 - semantic_2_loss: 0.0013 - lr: 3.5516e-05\n",
      "Epoch 105/200\n",
      "27/27 [==============================] - ETA: 0s - loss: 0.0130 - semantic_0_loss: 0.0041 - semantic_1_loss: 0.0075 - semantic_2_loss: 0.0013WARNING:tensorflow:Can save best model only with val_loss available, skipping.\n",
      "27/27 [==============================] - 18s 649ms/step - loss: 0.0130 - semantic_0_loss: 0.0041 - semantic_1_loss: 0.0075 - semantic_2_loss: 0.0013 - lr: 3.5161e-05\n",
      "Epoch 106/200\n",
      "27/27 [==============================] - ETA: 0s - loss: 0.0130 - semantic_0_loss: 0.0042 - semantic_1_loss: 0.0075 - semantic_2_loss: 0.0013WARNING:tensorflow:Can save best model only with val_loss available, skipping.\n",
      "27/27 [==============================] - 18s 655ms/step - loss: 0.0130 - semantic_0_loss: 0.0042 - semantic_1_loss: 0.0075 - semantic_2_loss: 0.0013 - lr: 3.4809e-05\n",
      "Epoch 107/200\n",
      "27/27 [==============================] - ETA: 0s - loss: 0.0130 - semantic_0_loss: 0.0042 - semantic_1_loss: 0.0075 - semantic_2_loss: 0.0013WARNING:tensorflow:Can save best model only with val_loss available, skipping.\n",
      "27/27 [==============================] - 18s 660ms/step - loss: 0.0130 - semantic_0_loss: 0.0042 - semantic_1_loss: 0.0075 - semantic_2_loss: 0.0013 - lr: 3.4461e-05\n",
      "Epoch 108/200\n",
      "27/27 [==============================] - ETA: 0s - loss: 0.0128 - semantic_0_loss: 0.0041 - semantic_1_loss: 0.0074 - semantic_2_loss: 0.0013WARNING:tensorflow:Can save best model only with val_loss available, skipping.\n",
      "27/27 [==============================] - 18s 652ms/step - loss: 0.0128 - semantic_0_loss: 0.0041 - semantic_1_loss: 0.0074 - semantic_2_loss: 0.0013 - lr: 3.4117e-05\n",
      "Epoch 109/200\n",
      "27/27 [==============================] - ETA: 0s - loss: 0.0129 - semantic_0_loss: 0.0041 - semantic_1_loss: 0.0074 - semantic_2_loss: 0.0013WARNING:tensorflow:Can save best model only with val_loss available, skipping.\n",
      "27/27 [==============================] - 18s 659ms/step - loss: 0.0129 - semantic_0_loss: 0.0041 - semantic_1_loss: 0.0074 - semantic_2_loss: 0.0013 - lr: 3.3775e-05\n",
      "Epoch 110/200\n",
      "27/27 [==============================] - ETA: 0s - loss: 0.0126 - semantic_0_loss: 0.0040 - semantic_1_loss: 0.0073 - semantic_2_loss: 0.0013WARNING:tensorflow:Can save best model only with val_loss available, skipping.\n",
      "27/27 [==============================] - 18s 647ms/step - loss: 0.0126 - semantic_0_loss: 0.0040 - semantic_1_loss: 0.0073 - semantic_2_loss: 0.0013 - lr: 3.3438e-05\n",
      "Epoch 111/200\n",
      "27/27 [==============================] - ETA: 0s - loss: 0.0129 - semantic_0_loss: 0.0041 - semantic_1_loss: 0.0075 - semantic_2_loss: 0.0013WARNING:tensorflow:Can save best model only with val_loss available, skipping.\n",
      "27/27 [==============================] - 18s 645ms/step - loss: 0.0129 - semantic_0_loss: 0.0041 - semantic_1_loss: 0.0075 - semantic_2_loss: 0.0013 - lr: 3.3103e-05\n",
      "Epoch 112/200\n",
      "27/27 [==============================] - ETA: 0s - loss: 0.0130 - semantic_0_loss: 0.0042 - semantic_1_loss: 0.0075 - semantic_2_loss: 0.0013WARNING:tensorflow:Can save best model only with val_loss available, skipping.\n",
      "27/27 [==============================] - 18s 651ms/step - loss: 0.0130 - semantic_0_loss: 0.0042 - semantic_1_loss: 0.0075 - semantic_2_loss: 0.0013 - lr: 3.2772e-05\n",
      "Epoch 113/200\n",
      "27/27 [==============================] - ETA: 0s - loss: 0.0129 - semantic_0_loss: 0.0041 - semantic_1_loss: 0.0075 - semantic_2_loss: 0.0013WARNING:tensorflow:Can save best model only with val_loss available, skipping.\n",
      "27/27 [==============================] - 18s 651ms/step - loss: 0.0129 - semantic_0_loss: 0.0041 - semantic_1_loss: 0.0075 - semantic_2_loss: 0.0013 - lr: 3.2445e-05\n",
      "Epoch 114/200\n",
      "27/27 [==============================] - ETA: 0s - loss: 0.0130 - semantic_0_loss: 0.0042 - semantic_1_loss: 0.0075 - semantic_2_loss: 0.0013WARNING:tensorflow:Can save best model only with val_loss available, skipping.\n",
      "27/27 [==============================] - 18s 642ms/step - loss: 0.0130 - semantic_0_loss: 0.0042 - semantic_1_loss: 0.0075 - semantic_2_loss: 0.0013 - lr: 3.2120e-05\n",
      "Epoch 115/200\n",
      "27/27 [==============================] - ETA: 0s - loss: 0.0129 - semantic_0_loss: 0.0041 - semantic_1_loss: 0.0074 - semantic_2_loss: 0.0013WARNING:tensorflow:Can save best model only with val_loss available, skipping.\n",
      "27/27 [==============================] - 18s 652ms/step - loss: 0.0129 - semantic_0_loss: 0.0041 - semantic_1_loss: 0.0074 - semantic_2_loss: 0.0013 - lr: 3.1799e-05\n",
      "Epoch 116/200\n",
      "27/27 [==============================] - ETA: 0s - loss: 0.0130 - semantic_0_loss: 0.0041 - semantic_1_loss: 0.0075 - semantic_2_loss: 0.0013WARNING:tensorflow:Can save best model only with val_loss available, skipping.\n",
      "27/27 [==============================] - 18s 657ms/step - loss: 0.0130 - semantic_0_loss: 0.0041 - semantic_1_loss: 0.0075 - semantic_2_loss: 0.0013 - lr: 3.1481e-05\n",
      "Epoch 117/200\n",
      "27/27 [==============================] - ETA: 0s - loss: 0.0127 - semantic_0_loss: 0.0040 - semantic_1_loss: 0.0073 - semantic_2_loss: 0.0013WARNING:tensorflow:Can save best model only with val_loss available, skipping.\n",
      "27/27 [==============================] - 18s 641ms/step - loss: 0.0127 - semantic_0_loss: 0.0040 - semantic_1_loss: 0.0073 - semantic_2_loss: 0.0013 - lr: 3.1166e-05\n",
      "Epoch 118/200\n",
      "27/27 [==============================] - ETA: 0s - loss: 0.0127 - semantic_0_loss: 0.0040 - semantic_1_loss: 0.0074 - semantic_2_loss: 0.0013WARNING:tensorflow:Can save best model only with val_loss available, skipping.\n",
      "27/27 [==============================] - 18s 669ms/step - loss: 0.0127 - semantic_0_loss: 0.0040 - semantic_1_loss: 0.0074 - semantic_2_loss: 0.0013 - lr: 3.0854e-05\n",
      "Epoch 119/200\n",
      "27/27 [==============================] - ETA: 0s - loss: 0.0129 - semantic_0_loss: 0.0041 - semantic_1_loss: 0.0075 - semantic_2_loss: 0.0013WARNING:tensorflow:Can save best model only with val_loss available, skipping.\n",
      "27/27 [==============================] - 18s 645ms/step - loss: 0.0129 - semantic_0_loss: 0.0041 - semantic_1_loss: 0.0075 - semantic_2_loss: 0.0013 - lr: 3.0546e-05\n",
      "Epoch 120/200\n",
      "27/27 [==============================] - ETA: 0s - loss: 0.0128 - semantic_0_loss: 0.0041 - semantic_1_loss: 0.0074 - semantic_2_loss: 0.0013WARNING:tensorflow:Can save best model only with val_loss available, skipping.\n",
      "27/27 [==============================] - 18s 655ms/step - loss: 0.0128 - semantic_0_loss: 0.0041 - semantic_1_loss: 0.0074 - semantic_2_loss: 0.0013 - lr: 3.0240e-05\n",
      "Epoch 121/200\n",
      "27/27 [==============================] - ETA: 0s - loss: 0.0125 - semantic_0_loss: 0.0040 - semantic_1_loss: 0.0072 - semantic_2_loss: 0.0013WARNING:tensorflow:Can save best model only with val_loss available, skipping.\n",
      "27/27 [==============================] - 18s 638ms/step - loss: 0.0125 - semantic_0_loss: 0.0040 - semantic_1_loss: 0.0072 - semantic_2_loss: 0.0013 - lr: 2.9938e-05\n",
      "Epoch 122/200\n",
      "27/27 [==============================] - ETA: 0s - loss: 0.0125 - semantic_0_loss: 0.0040 - semantic_1_loss: 0.0072 - semantic_2_loss: 0.0013WARNING:tensorflow:Can save best model only with val_loss available, skipping.\n",
      "27/27 [==============================] - 17s 628ms/step - loss: 0.0125 - semantic_0_loss: 0.0040 - semantic_1_loss: 0.0072 - semantic_2_loss: 0.0013 - lr: 2.9639e-05\n",
      "Epoch 123/200\n",
      "27/27 [==============================] - ETA: 0s - loss: 0.0128 - semantic_0_loss: 0.0041 - semantic_1_loss: 0.0074 - semantic_2_loss: 0.0013WARNING:tensorflow:Can save best model only with val_loss available, skipping.\n",
      "27/27 [==============================] - 18s 656ms/step - loss: 0.0128 - semantic_0_loss: 0.0041 - semantic_1_loss: 0.0074 - semantic_2_loss: 0.0013 - lr: 2.9342e-05\n",
      "Epoch 124/200\n",
      "27/27 [==============================] - ETA: 0s - loss: 0.0131 - semantic_0_loss: 0.0042 - semantic_1_loss: 0.0076 - semantic_2_loss: 0.0013WARNING:tensorflow:Can save best model only with val_loss available, skipping.\n",
      "27/27 [==============================] - 18s 655ms/step - loss: 0.0131 - semantic_0_loss: 0.0042 - semantic_1_loss: 0.0076 - semantic_2_loss: 0.0013 - lr: 2.9049e-05\n",
      "Epoch 125/200\n",
      "27/27 [==============================] - ETA: 0s - loss: 0.0124 - semantic_0_loss: 0.0040 - semantic_1_loss: 0.0071 - semantic_2_loss: 0.0013WARNING:tensorflow:Can save best model only with val_loss available, skipping.\n",
      "27/27 [==============================] - 18s 647ms/step - loss: 0.0124 - semantic_0_loss: 0.0040 - semantic_1_loss: 0.0071 - semantic_2_loss: 0.0013 - lr: 2.8758e-05\n",
      "Epoch 126/200\n",
      "27/27 [==============================] - ETA: 0s - loss: 0.0129 - semantic_0_loss: 0.0041 - semantic_1_loss: 0.0074 - semantic_2_loss: 0.0013WARNING:tensorflow:Can save best model only with val_loss available, skipping.\n",
      "27/27 [==============================] - 18s 660ms/step - loss: 0.0129 - semantic_0_loss: 0.0041 - semantic_1_loss: 0.0074 - semantic_2_loss: 0.0013 - lr: 2.8471e-05\n",
      "Epoch 127/200\n",
      "27/27 [==============================] - ETA: 0s - loss: 0.0128 - semantic_0_loss: 0.0041 - semantic_1_loss: 0.0074 - semantic_2_loss: 0.0013WARNING:tensorflow:Can save best model only with val_loss available, skipping.\n",
      "27/27 [==============================] - 18s 661ms/step - loss: 0.0128 - semantic_0_loss: 0.0041 - semantic_1_loss: 0.0074 - semantic_2_loss: 0.0013 - lr: 2.8186e-05\n",
      "Epoch 128/200\n",
      "27/27 [==============================] - ETA: 0s - loss: 0.0126 - semantic_0_loss: 0.0040 - semantic_1_loss: 0.0073 - semantic_2_loss: 0.0013WARNING:tensorflow:Can save best model only with val_loss available, skipping.\n",
      "27/27 [==============================] - 18s 643ms/step - loss: 0.0126 - semantic_0_loss: 0.0040 - semantic_1_loss: 0.0073 - semantic_2_loss: 0.0013 - lr: 2.7904e-05\n",
      "Epoch 129/200\n",
      "27/27 [==============================] - ETA: 0s - loss: 0.0127 - semantic_0_loss: 0.0041 - semantic_1_loss: 0.0073 - semantic_2_loss: 0.0013WARNING:tensorflow:Can save best model only with val_loss available, skipping.\n",
      "27/27 [==============================] - 18s 641ms/step - loss: 0.0127 - semantic_0_loss: 0.0041 - semantic_1_loss: 0.0073 - semantic_2_loss: 0.0013 - lr: 2.7625e-05\n",
      "Epoch 130/200\n",
      "27/27 [==============================] - ETA: 0s - loss: 0.0129 - semantic_0_loss: 0.0041 - semantic_1_loss: 0.0074 - semantic_2_loss: 0.0013WARNING:tensorflow:Can save best model only with val_loss available, skipping.\n",
      "27/27 [==============================] - 18s 659ms/step - loss: 0.0129 - semantic_0_loss: 0.0041 - semantic_1_loss: 0.0074 - semantic_2_loss: 0.0013 - lr: 2.7349e-05\n",
      "Epoch 131/200\n",
      "27/27 [==============================] - ETA: 0s - loss: 0.0128 - semantic_0_loss: 0.0041 - semantic_1_loss: 0.0074 - semantic_2_loss: 0.0013WARNING:tensorflow:Can save best model only with val_loss available, skipping.\n",
      "27/27 [==============================] - 18s 661ms/step - loss: 0.0128 - semantic_0_loss: 0.0041 - semantic_1_loss: 0.0074 - semantic_2_loss: 0.0013 - lr: 2.7075e-05\n",
      "Epoch 132/200\n",
      "27/27 [==============================] - ETA: 0s - loss: 0.0128 - semantic_0_loss: 0.0041 - semantic_1_loss: 0.0074 - semantic_2_loss: 0.0013WARNING:tensorflow:Can save best model only with val_loss available, skipping.\n",
      "27/27 [==============================] - 18s 646ms/step - loss: 0.0128 - semantic_0_loss: 0.0041 - semantic_1_loss: 0.0074 - semantic_2_loss: 0.0013 - lr: 2.6805e-05\n",
      "Epoch 133/200\n",
      "27/27 [==============================] - ETA: 0s - loss: 0.0126 - semantic_0_loss: 0.0040 - semantic_1_loss: 0.0073 - semantic_2_loss: 0.0013WARNING:tensorflow:Can save best model only with val_loss available, skipping.\n",
      "27/27 [==============================] - 18s 651ms/step - loss: 0.0126 - semantic_0_loss: 0.0040 - semantic_1_loss: 0.0073 - semantic_2_loss: 0.0013 - lr: 2.6537e-05\n",
      "Epoch 134/200\n",
      "27/27 [==============================] - ETA: 0s - loss: 0.0128 - semantic_0_loss: 0.0041 - semantic_1_loss: 0.0074 - semantic_2_loss: 0.0013WARNING:tensorflow:Can save best model only with val_loss available, skipping.\n",
      "27/27 [==============================] - 18s 646ms/step - loss: 0.0128 - semantic_0_loss: 0.0041 - semantic_1_loss: 0.0074 - semantic_2_loss: 0.0013 - lr: 2.6271e-05\n",
      "Epoch 135/200\n",
      "27/27 [==============================] - ETA: 0s - loss: 0.0130 - semantic_0_loss: 0.0042 - semantic_1_loss: 0.0075 - semantic_2_loss: 0.0013WARNING:tensorflow:Can save best model only with val_loss available, skipping.\n",
      "27/27 [==============================] - 18s 645ms/step - loss: 0.0130 - semantic_0_loss: 0.0042 - semantic_1_loss: 0.0075 - semantic_2_loss: 0.0013 - lr: 2.6009e-05\n",
      "Epoch 136/200\n",
      "27/27 [==============================] - ETA: 0s - loss: 0.0127 - semantic_0_loss: 0.0041 - semantic_1_loss: 0.0073 - semantic_2_loss: 0.0013WARNING:tensorflow:Can save best model only with val_loss available, skipping.\n",
      "27/27 [==============================] - 18s 661ms/step - loss: 0.0127 - semantic_0_loss: 0.0041 - semantic_1_loss: 0.0073 - semantic_2_loss: 0.0013 - lr: 2.5748e-05\n",
      "Epoch 137/200\n",
      "27/27 [==============================] - ETA: 0s - loss: 0.0125 - semantic_0_loss: 0.0040 - semantic_1_loss: 0.0072 - semantic_2_loss: 0.0013WARNING:tensorflow:Can save best model only with val_loss available, skipping.\n",
      "27/27 [==============================] - 18s 648ms/step - loss: 0.0125 - semantic_0_loss: 0.0040 - semantic_1_loss: 0.0072 - semantic_2_loss: 0.0013 - lr: 2.5491e-05\n",
      "Epoch 138/200\n",
      "27/27 [==============================] - ETA: 0s - loss: 0.0122 - semantic_0_loss: 0.0039 - semantic_1_loss: 0.0070 - semantic_2_loss: 0.0013WARNING:tensorflow:Can save best model only with val_loss available, skipping.\n",
      "27/27 [==============================] - 18s 646ms/step - loss: 0.0122 - semantic_0_loss: 0.0039 - semantic_1_loss: 0.0070 - semantic_2_loss: 0.0013 - lr: 2.5236e-05\n",
      "Epoch 139/200\n",
      "27/27 [==============================] - ETA: 0s - loss: 0.0125 - semantic_0_loss: 0.0040 - semantic_1_loss: 0.0072 - semantic_2_loss: 0.0013WARNING:tensorflow:Can save best model only with val_loss available, skipping.\n",
      "27/27 [==============================] - 18s 647ms/step - loss: 0.0125 - semantic_0_loss: 0.0040 - semantic_1_loss: 0.0072 - semantic_2_loss: 0.0013 - lr: 2.4984e-05\n",
      "Epoch 140/200\n",
      "27/27 [==============================] - ETA: 0s - loss: 0.0127 - semantic_0_loss: 0.0041 - semantic_1_loss: 0.0073 - semantic_2_loss: 0.0013WARNING:tensorflow:Can save best model only with val_loss available, skipping.\n",
      "27/27 [==============================] - 18s 646ms/step - loss: 0.0127 - semantic_0_loss: 0.0041 - semantic_1_loss: 0.0073 - semantic_2_loss: 0.0013 - lr: 2.4734e-05\n",
      "Epoch 141/200\n",
      "27/27 [==============================] - ETA: 0s - loss: 0.0129 - semantic_0_loss: 0.0042 - semantic_1_loss: 0.0074 - semantic_2_loss: 0.0013WARNING:tensorflow:Can save best model only with val_loss available, skipping.\n",
      "27/27 [==============================] - 18s 653ms/step - loss: 0.0129 - semantic_0_loss: 0.0042 - semantic_1_loss: 0.0074 - semantic_2_loss: 0.0013 - lr: 2.4487e-05\n",
      "Epoch 142/200\n",
      "27/27 [==============================] - ETA: 0s - loss: 0.0124 - semantic_0_loss: 0.0040 - semantic_1_loss: 0.0071 - semantic_2_loss: 0.0013WARNING:tensorflow:Can save best model only with val_loss available, skipping.\n",
      "27/27 [==============================] - 18s 664ms/step - loss: 0.0124 - semantic_0_loss: 0.0040 - semantic_1_loss: 0.0071 - semantic_2_loss: 0.0013 - lr: 2.4242e-05\n",
      "Epoch 143/200\n",
      "27/27 [==============================] - ETA: 0s - loss: 0.0125 - semantic_0_loss: 0.0040 - semantic_1_loss: 0.0072 - semantic_2_loss: 0.0013WARNING:tensorflow:Can save best model only with val_loss available, skipping.\n",
      "27/27 [==============================] - 18s 655ms/step - loss: 0.0125 - semantic_0_loss: 0.0040 - semantic_1_loss: 0.0072 - semantic_2_loss: 0.0013 - lr: 2.3999e-05\n",
      "Epoch 144/200\n",
      "27/27 [==============================] - ETA: 0s - loss: 0.0128 - semantic_0_loss: 0.0041 - semantic_1_loss: 0.0074 - semantic_2_loss: 0.0013WARNING:tensorflow:Can save best model only with val_loss available, skipping.\n",
      "27/27 [==============================] - 18s 648ms/step - loss: 0.0128 - semantic_0_loss: 0.0041 - semantic_1_loss: 0.0074 - semantic_2_loss: 0.0013 - lr: 2.3759e-05\n",
      "Epoch 145/200\n",
      "27/27 [==============================] - ETA: 0s - loss: 0.0126 - semantic_0_loss: 0.0041 - semantic_1_loss: 0.0073 - semantic_2_loss: 0.0013WARNING:tensorflow:Can save best model only with val_loss available, skipping.\n",
      "27/27 [==============================] - 18s 659ms/step - loss: 0.0126 - semantic_0_loss: 0.0041 - semantic_1_loss: 0.0073 - semantic_2_loss: 0.0013 - lr: 2.3522e-05\n",
      "Epoch 146/200\n",
      "27/27 [==============================] - ETA: 0s - loss: 0.0125 - semantic_0_loss: 0.0040 - semantic_1_loss: 0.0072 - semantic_2_loss: 0.0013WARNING:tensorflow:Can save best model only with val_loss available, skipping.\n",
      "27/27 [==============================] - 18s 648ms/step - loss: 0.0125 - semantic_0_loss: 0.0040 - semantic_1_loss: 0.0072 - semantic_2_loss: 0.0013 - lr: 2.3286e-05\n",
      "Epoch 147/200\n",
      "27/27 [==============================] - ETA: 0s - loss: 0.0124 - semantic_0_loss: 0.0040 - semantic_1_loss: 0.0071 - semantic_2_loss: 0.0013WARNING:tensorflow:Can save best model only with val_loss available, skipping.\n",
      "27/27 [==============================] - 18s 647ms/step - loss: 0.0124 - semantic_0_loss: 0.0040 - semantic_1_loss: 0.0071 - semantic_2_loss: 0.0013 - lr: 2.3054e-05\n",
      "Epoch 148/200\n",
      "27/27 [==============================] - ETA: 0s - loss: 0.0124 - semantic_0_loss: 0.0040 - semantic_1_loss: 0.0072 - semantic_2_loss: 0.0013WARNING:tensorflow:Can save best model only with val_loss available, skipping.\n",
      "27/27 [==============================] - 18s 671ms/step - loss: 0.0124 - semantic_0_loss: 0.0040 - semantic_1_loss: 0.0072 - semantic_2_loss: 0.0013 - lr: 2.2823e-05\n",
      "Epoch 149/200\n",
      "27/27 [==============================] - ETA: 0s - loss: 0.0124 - semantic_0_loss: 0.0040 - semantic_1_loss: 0.0071 - semantic_2_loss: 0.0013WARNING:tensorflow:Can save best model only with val_loss available, skipping.\n",
      "27/27 [==============================] - 18s 656ms/step - loss: 0.0124 - semantic_0_loss: 0.0040 - semantic_1_loss: 0.0071 - semantic_2_loss: 0.0013 - lr: 2.2595e-05\n",
      "Epoch 150/200\n",
      "27/27 [==============================] - ETA: 0s - loss: 0.0125 - semantic_0_loss: 0.0041 - semantic_1_loss: 0.0071 - semantic_2_loss: 0.0013WARNING:tensorflow:Can save best model only with val_loss available, skipping.\n",
      "27/27 [==============================] - 18s 652ms/step - loss: 0.0125 - semantic_0_loss: 0.0041 - semantic_1_loss: 0.0071 - semantic_2_loss: 0.0013 - lr: 2.2369e-05\n",
      "Epoch 151/200\n",
      "27/27 [==============================] - ETA: 0s - loss: 0.0125 - semantic_0_loss: 0.0040 - semantic_1_loss: 0.0072 - semantic_2_loss: 0.0013WARNING:tensorflow:Can save best model only with val_loss available, skipping.\n",
      "27/27 [==============================] - 18s 656ms/step - loss: 0.0125 - semantic_0_loss: 0.0040 - semantic_1_loss: 0.0072 - semantic_2_loss: 0.0013 - lr: 2.2145e-05\n",
      "Epoch 152/200\n",
      "27/27 [==============================] - ETA: 0s - loss: 0.0127 - semantic_0_loss: 0.0041 - semantic_1_loss: 0.0073 - semantic_2_loss: 0.0013WARNING:tensorflow:Can save best model only with val_loss available, skipping.\n",
      "27/27 [==============================] - 18s 644ms/step - loss: 0.0127 - semantic_0_loss: 0.0041 - semantic_1_loss: 0.0073 - semantic_2_loss: 0.0013 - lr: 2.1924e-05\n",
      "Epoch 153/200\n",
      "27/27 [==============================] - ETA: 0s - loss: 0.0127 - semantic_0_loss: 0.0041 - semantic_1_loss: 0.0073 - semantic_2_loss: 0.0013WARNING:tensorflow:Can save best model only with val_loss available, skipping.\n",
      "27/27 [==============================] - 18s 652ms/step - loss: 0.0127 - semantic_0_loss: 0.0041 - semantic_1_loss: 0.0073 - semantic_2_loss: 0.0013 - lr: 2.1704e-05\n",
      "Epoch 154/200\n",
      "27/27 [==============================] - ETA: 0s - loss: 0.0123 - semantic_0_loss: 0.0040 - semantic_1_loss: 0.0070 - semantic_2_loss: 0.0013WARNING:tensorflow:Can save best model only with val_loss available, skipping.\n",
      "27/27 [==============================] - 18s 653ms/step - loss: 0.0123 - semantic_0_loss: 0.0040 - semantic_1_loss: 0.0070 - semantic_2_loss: 0.0013 - lr: 2.1487e-05\n",
      "Epoch 155/200\n",
      "27/27 [==============================] - ETA: 0s - loss: 0.0125 - semantic_0_loss: 0.0041 - semantic_1_loss: 0.0072 - semantic_2_loss: 0.0013WARNING:tensorflow:Can save best model only with val_loss available, skipping.\n",
      "27/27 [==============================] - 18s 663ms/step - loss: 0.0125 - semantic_0_loss: 0.0041 - semantic_1_loss: 0.0072 - semantic_2_loss: 0.0013 - lr: 2.1273e-05\n",
      "Epoch 156/200\n",
      "27/27 [==============================] - ETA: 0s - loss: 0.0122 - semantic_0_loss: 0.0039 - semantic_1_loss: 0.0070 - semantic_2_loss: 0.0013WARNING:tensorflow:Can save best model only with val_loss available, skipping.\n",
      "27/27 [==============================] - 17s 636ms/step - loss: 0.0122 - semantic_0_loss: 0.0039 - semantic_1_loss: 0.0070 - semantic_2_loss: 0.0013 - lr: 2.1060e-05\n",
      "Epoch 157/200\n",
      "27/27 [==============================] - ETA: 0s - loss: 0.0123 - semantic_0_loss: 0.0039 - semantic_1_loss: 0.0070 - semantic_2_loss: 0.0013WARNING:tensorflow:Can save best model only with val_loss available, skipping.\n",
      "27/27 [==============================] - 18s 646ms/step - loss: 0.0123 - semantic_0_loss: 0.0039 - semantic_1_loss: 0.0070 - semantic_2_loss: 0.0013 - lr: 2.0849e-05\n",
      "Epoch 158/200\n",
      "27/27 [==============================] - ETA: 0s - loss: 0.0125 - semantic_0_loss: 0.0040 - semantic_1_loss: 0.0072 - semantic_2_loss: 0.0013WARNING:tensorflow:Can save best model only with val_loss available, skipping.\n",
      "27/27 [==============================] - 18s 660ms/step - loss: 0.0125 - semantic_0_loss: 0.0040 - semantic_1_loss: 0.0072 - semantic_2_loss: 0.0013 - lr: 2.0641e-05\n",
      "Epoch 159/200\n",
      "27/27 [==============================] - ETA: 0s - loss: 0.0124 - semantic_0_loss: 0.0040 - semantic_1_loss: 0.0072 - semantic_2_loss: 0.0013WARNING:tensorflow:Can save best model only with val_loss available, skipping.\n",
      "27/27 [==============================] - 18s 642ms/step - loss: 0.0124 - semantic_0_loss: 0.0040 - semantic_1_loss: 0.0072 - semantic_2_loss: 0.0013 - lr: 2.0434e-05\n",
      "Epoch 160/200\n",
      "27/27 [==============================] - ETA: 0s - loss: 0.0125 - semantic_0_loss: 0.0040 - semantic_1_loss: 0.0072 - semantic_2_loss: 0.0013WARNING:tensorflow:Can save best model only with val_loss available, skipping.\n",
      "27/27 [==============================] - 18s 660ms/step - loss: 0.0125 - semantic_0_loss: 0.0040 - semantic_1_loss: 0.0072 - semantic_2_loss: 0.0013 - lr: 2.0230e-05\n",
      "Epoch 161/200\n",
      "27/27 [==============================] - ETA: 0s - loss: 0.0125 - semantic_0_loss: 0.0040 - semantic_1_loss: 0.0071 - semantic_2_loss: 0.0013WARNING:tensorflow:Can save best model only with val_loss available, skipping.\n",
      "27/27 [==============================] - 18s 662ms/step - loss: 0.0125 - semantic_0_loss: 0.0040 - semantic_1_loss: 0.0071 - semantic_2_loss: 0.0013 - lr: 2.0028e-05\n",
      "Epoch 162/200\n",
      "27/27 [==============================] - ETA: 0s - loss: 0.0125 - semantic_0_loss: 0.0040 - semantic_1_loss: 0.0072 - semantic_2_loss: 0.0013WARNING:tensorflow:Can save best model only with val_loss available, skipping.\n",
      "27/27 [==============================] - 18s 672ms/step - loss: 0.0125 - semantic_0_loss: 0.0040 - semantic_1_loss: 0.0072 - semantic_2_loss: 0.0013 - lr: 1.9827e-05\n",
      "Epoch 163/200\n",
      "27/27 [==============================] - ETA: 0s - loss: 0.0121 - semantic_0_loss: 0.0039 - semantic_1_loss: 0.0069 - semantic_2_loss: 0.0013WARNING:tensorflow:Can save best model only with val_loss available, skipping.\n",
      "27/27 [==============================] - 18s 640ms/step - loss: 0.0121 - semantic_0_loss: 0.0039 - semantic_1_loss: 0.0069 - semantic_2_loss: 0.0013 - lr: 1.9629e-05\n",
      "Epoch 164/200\n",
      "27/27 [==============================] - ETA: 0s - loss: 0.0122 - semantic_0_loss: 0.0039 - semantic_1_loss: 0.0070 - semantic_2_loss: 0.0013WARNING:tensorflow:Can save best model only with val_loss available, skipping.\n",
      "27/27 [==============================] - 18s 650ms/step - loss: 0.0122 - semantic_0_loss: 0.0039 - semantic_1_loss: 0.0070 - semantic_2_loss: 0.0013 - lr: 1.9433e-05\n",
      "Epoch 165/200\n",
      "27/27 [==============================] - ETA: 0s - loss: 0.0126 - semantic_0_loss: 0.0040 - semantic_1_loss: 0.0072 - semantic_2_loss: 0.0013WARNING:tensorflow:Can save best model only with val_loss available, skipping.\n",
      "27/27 [==============================] - 18s 656ms/step - loss: 0.0126 - semantic_0_loss: 0.0040 - semantic_1_loss: 0.0072 - semantic_2_loss: 0.0013 - lr: 1.9239e-05\n",
      "Epoch 166/200\n",
      "27/27 [==============================] - ETA: 0s - loss: 0.0124 - semantic_0_loss: 0.0040 - semantic_1_loss: 0.0071 - semantic_2_loss: 0.0013WARNING:tensorflow:Can save best model only with val_loss available, skipping.\n",
      "27/27 [==============================] - 18s 642ms/step - loss: 0.0124 - semantic_0_loss: 0.0040 - semantic_1_loss: 0.0071 - semantic_2_loss: 0.0013 - lr: 1.9046e-05\n",
      "Epoch 167/200\n",
      "27/27 [==============================] - ETA: 0s - loss: 0.0126 - semantic_0_loss: 0.0040 - semantic_1_loss: 0.0073 - semantic_2_loss: 0.0013WARNING:tensorflow:Can save best model only with val_loss available, skipping.\n",
      "27/27 [==============================] - 18s 664ms/step - loss: 0.0126 - semantic_0_loss: 0.0040 - semantic_1_loss: 0.0073 - semantic_2_loss: 0.0013 - lr: 1.8856e-05\n",
      "Epoch 168/200\n",
      "27/27 [==============================] - ETA: 0s - loss: 0.0124 - semantic_0_loss: 0.0040 - semantic_1_loss: 0.0071 - semantic_2_loss: 0.0013WARNING:tensorflow:Can save best model only with val_loss available, skipping.\n",
      "27/27 [==============================] - 18s 647ms/step - loss: 0.0124 - semantic_0_loss: 0.0040 - semantic_1_loss: 0.0071 - semantic_2_loss: 0.0013 - lr: 1.8667e-05\n",
      "Epoch 169/200\n",
      "27/27 [==============================] - ETA: 0s - loss: 0.0124 - semantic_0_loss: 0.0040 - semantic_1_loss: 0.0072 - semantic_2_loss: 0.0013WARNING:tensorflow:Can save best model only with val_loss available, skipping.\n",
      "27/27 [==============================] - 18s 652ms/step - loss: 0.0124 - semantic_0_loss: 0.0040 - semantic_1_loss: 0.0072 - semantic_2_loss: 0.0013 - lr: 1.8480e-05\n",
      "Epoch 170/200\n",
      "27/27 [==============================] - ETA: 0s - loss: 0.0125 - semantic_0_loss: 0.0040 - semantic_1_loss: 0.0072 - semantic_2_loss: 0.0013WARNING:tensorflow:Can save best model only with val_loss available, skipping.\n",
      "27/27 [==============================] - 18s 661ms/step - loss: 0.0125 - semantic_0_loss: 0.0040 - semantic_1_loss: 0.0072 - semantic_2_loss: 0.0013 - lr: 1.8296e-05\n",
      "Epoch 171/200\n",
      "27/27 [==============================] - ETA: 0s - loss: 0.0125 - semantic_0_loss: 0.0040 - semantic_1_loss: 0.0072 - semantic_2_loss: 0.0013WARNING:tensorflow:Can save best model only with val_loss available, skipping.\n",
      "27/27 [==============================] - 18s 656ms/step - loss: 0.0125 - semantic_0_loss: 0.0040 - semantic_1_loss: 0.0072 - semantic_2_loss: 0.0013 - lr: 1.8113e-05\n",
      "Epoch 172/200\n",
      "27/27 [==============================] - ETA: 0s - loss: 0.0123 - semantic_0_loss: 0.0040 - semantic_1_loss: 0.0070 - semantic_2_loss: 0.0013WARNING:tensorflow:Can save best model only with val_loss available, skipping.\n",
      "27/27 [==============================] - 18s 645ms/step - loss: 0.0123 - semantic_0_loss: 0.0040 - semantic_1_loss: 0.0070 - semantic_2_loss: 0.0013 - lr: 1.7932e-05\n",
      "Epoch 173/200\n",
      "27/27 [==============================] - ETA: 0s - loss: 0.0120 - semantic_0_loss: 0.0039 - semantic_1_loss: 0.0069 - semantic_2_loss: 0.0013WARNING:tensorflow:Can save best model only with val_loss available, skipping.\n",
      "27/27 [==============================] - 18s 641ms/step - loss: 0.0120 - semantic_0_loss: 0.0039 - semantic_1_loss: 0.0069 - semantic_2_loss: 0.0013 - lr: 1.7752e-05\n",
      "Epoch 174/200\n",
      "27/27 [==============================] - ETA: 0s - loss: 0.0123 - semantic_0_loss: 0.0040 - semantic_1_loss: 0.0071 - semantic_2_loss: 0.0013WARNING:tensorflow:Can save best model only with val_loss available, skipping.\n",
      "27/27 [==============================] - 18s 655ms/step - loss: 0.0123 - semantic_0_loss: 0.0040 - semantic_1_loss: 0.0071 - semantic_2_loss: 0.0013 - lr: 1.7575e-05\n",
      "Epoch 175/200\n",
      "27/27 [==============================] - ETA: 0s - loss: 0.0125 - semantic_0_loss: 0.0040 - semantic_1_loss: 0.0072 - semantic_2_loss: 0.0013WARNING:tensorflow:Can save best model only with val_loss available, skipping.\n",
      "27/27 [==============================] - 18s 663ms/step - loss: 0.0125 - semantic_0_loss: 0.0040 - semantic_1_loss: 0.0072 - semantic_2_loss: 0.0013 - lr: 1.7399e-05\n",
      "Epoch 176/200\n",
      "27/27 [==============================] - ETA: 0s - loss: 0.0124 - semantic_0_loss: 0.0040 - semantic_1_loss: 0.0071 - semantic_2_loss: 0.0013WARNING:tensorflow:Can save best model only with val_loss available, skipping.\n",
      "27/27 [==============================] - 18s 651ms/step - loss: 0.0124 - semantic_0_loss: 0.0040 - semantic_1_loss: 0.0071 - semantic_2_loss: 0.0013 - lr: 1.7225e-05\n",
      "Epoch 177/200\n",
      "27/27 [==============================] - ETA: 0s - loss: 0.0125 - semantic_0_loss: 0.0040 - semantic_1_loss: 0.0072 - semantic_2_loss: 0.0013WARNING:tensorflow:Can save best model only with val_loss available, skipping.\n",
      "27/27 [==============================] - 19s 682ms/step - loss: 0.0125 - semantic_0_loss: 0.0040 - semantic_1_loss: 0.0072 - semantic_2_loss: 0.0013 - lr: 1.7053e-05\n",
      "Epoch 178/200\n",
      "27/27 [==============================] - ETA: 0s - loss: 0.0123 - semantic_0_loss: 0.0039 - semantic_1_loss: 0.0071 - semantic_2_loss: 0.0013WARNING:tensorflow:Can save best model only with val_loss available, skipping.\n",
      "27/27 [==============================] - 18s 652ms/step - loss: 0.0123 - semantic_0_loss: 0.0039 - semantic_1_loss: 0.0071 - semantic_2_loss: 0.0013 - lr: 1.6882e-05\n",
      "Epoch 179/200\n",
      "27/27 [==============================] - ETA: 0s - loss: 0.0125 - semantic_0_loss: 0.0040 - semantic_1_loss: 0.0072 - semantic_2_loss: 0.0013WARNING:tensorflow:Can save best model only with val_loss available, skipping.\n",
      "27/27 [==============================] - 18s 648ms/step - loss: 0.0125 - semantic_0_loss: 0.0040 - semantic_1_loss: 0.0072 - semantic_2_loss: 0.0013 - lr: 1.6713e-05\n",
      "Epoch 180/200\n",
      "27/27 [==============================] - ETA: 0s - loss: 0.0124 - semantic_0_loss: 0.0040 - semantic_1_loss: 0.0071 - semantic_2_loss: 0.0013WARNING:tensorflow:Can save best model only with val_loss available, skipping.\n",
      "27/27 [==============================] - 18s 657ms/step - loss: 0.0124 - semantic_0_loss: 0.0040 - semantic_1_loss: 0.0071 - semantic_2_loss: 0.0013 - lr: 1.6546e-05\n",
      "Epoch 181/200\n",
      "27/27 [==============================] - ETA: 0s - loss: 0.0120 - semantic_0_loss: 0.0039 - semantic_1_loss: 0.0069 - semantic_2_loss: 0.0013WARNING:tensorflow:Can save best model only with val_loss available, skipping.\n",
      "27/27 [==============================] - 18s 654ms/step - loss: 0.0120 - semantic_0_loss: 0.0039 - semantic_1_loss: 0.0069 - semantic_2_loss: 0.0013 - lr: 1.6381e-05\n",
      "Epoch 182/200\n",
      "27/27 [==============================] - ETA: 0s - loss: 0.0123 - semantic_0_loss: 0.0040 - semantic_1_loss: 0.0070 - semantic_2_loss: 0.0013WARNING:tensorflow:Can save best model only with val_loss available, skipping.\n",
      "27/27 [==============================] - 18s 650ms/step - loss: 0.0123 - semantic_0_loss: 0.0040 - semantic_1_loss: 0.0070 - semantic_2_loss: 0.0013 - lr: 1.6217e-05\n",
      "Epoch 183/200\n",
      "27/27 [==============================] - ETA: 0s - loss: 0.0121 - semantic_0_loss: 0.0039 - semantic_1_loss: 0.0069 - semantic_2_loss: 0.0013WARNING:tensorflow:Can save best model only with val_loss available, skipping.\n",
      "27/27 [==============================] - 18s 652ms/step - loss: 0.0121 - semantic_0_loss: 0.0039 - semantic_1_loss: 0.0069 - semantic_2_loss: 0.0013 - lr: 1.6055e-05\n",
      "Epoch 184/200\n",
      "27/27 [==============================] - ETA: 0s - loss: 0.0125 - semantic_0_loss: 0.0040 - semantic_1_loss: 0.0072 - semantic_2_loss: 0.0013WARNING:tensorflow:Can save best model only with val_loss available, skipping.\n",
      "27/27 [==============================] - 18s 659ms/step - loss: 0.0125 - semantic_0_loss: 0.0040 - semantic_1_loss: 0.0072 - semantic_2_loss: 0.0013 - lr: 1.5894e-05\n",
      "Epoch 185/200\n",
      "27/27 [==============================] - ETA: 0s - loss: 0.0125 - semantic_0_loss: 0.0041 - semantic_1_loss: 0.0072 - semantic_2_loss: 0.0013WARNING:tensorflow:Can save best model only with val_loss available, skipping.\n",
      "27/27 [==============================] - 18s 658ms/step - loss: 0.0125 - semantic_0_loss: 0.0041 - semantic_1_loss: 0.0072 - semantic_2_loss: 0.0013 - lr: 1.5735e-05\n",
      "Epoch 186/200\n",
      "27/27 [==============================] - ETA: 0s - loss: 0.0123 - semantic_0_loss: 0.0040 - semantic_1_loss: 0.0071 - semantic_2_loss: 0.0013WARNING:tensorflow:Can save best model only with val_loss available, skipping.\n",
      "27/27 [==============================] - 18s 645ms/step - loss: 0.0123 - semantic_0_loss: 0.0040 - semantic_1_loss: 0.0071 - semantic_2_loss: 0.0013 - lr: 1.5578e-05\n",
      "Epoch 187/200\n",
      "27/27 [==============================] - ETA: 0s - loss: 0.0124 - semantic_0_loss: 0.0040 - semantic_1_loss: 0.0071 - semantic_2_loss: 0.0013WARNING:tensorflow:Can save best model only with val_loss available, skipping.\n",
      "27/27 [==============================] - 18s 652ms/step - loss: 0.0124 - semantic_0_loss: 0.0040 - semantic_1_loss: 0.0071 - semantic_2_loss: 0.0013 - lr: 1.5422e-05\n",
      "Epoch 188/200\n",
      "27/27 [==============================] - ETA: 0s - loss: 0.0120 - semantic_0_loss: 0.0038 - semantic_1_loss: 0.0069 - semantic_2_loss: 0.0012WARNING:tensorflow:Can save best model only with val_loss available, skipping.\n",
      "27/27 [==============================] - 18s 655ms/step - loss: 0.0120 - semantic_0_loss: 0.0038 - semantic_1_loss: 0.0069 - semantic_2_loss: 0.0012 - lr: 1.5268e-05\n",
      "Epoch 189/200\n",
      "27/27 [==============================] - ETA: 0s - loss: 0.0123 - semantic_0_loss: 0.0040 - semantic_1_loss: 0.0070 - semantic_2_loss: 0.0013WARNING:tensorflow:Can save best model only with val_loss available, skipping.\n",
      "27/27 [==============================] - 18s 650ms/step - loss: 0.0123 - semantic_0_loss: 0.0040 - semantic_1_loss: 0.0070 - semantic_2_loss: 0.0013 - lr: 1.5115e-05\n",
      "Epoch 190/200\n",
      "27/27 [==============================] - ETA: 0s - loss: 0.0123 - semantic_0_loss: 0.0040 - semantic_1_loss: 0.0071 - semantic_2_loss: 0.0013WARNING:tensorflow:Can save best model only with val_loss available, skipping.\n",
      "27/27 [==============================] - 18s 649ms/step - loss: 0.0123 - semantic_0_loss: 0.0040 - semantic_1_loss: 0.0071 - semantic_2_loss: 0.0013 - lr: 1.4964e-05\n",
      "Epoch 191/200\n",
      "27/27 [==============================] - ETA: 0s - loss: 0.0121 - semantic_0_loss: 0.0039 - semantic_1_loss: 0.0070 - semantic_2_loss: 0.0013WARNING:tensorflow:Can save best model only with val_loss available, skipping.\n",
      "27/27 [==============================] - 18s 648ms/step - loss: 0.0121 - semantic_0_loss: 0.0039 - semantic_1_loss: 0.0070 - semantic_2_loss: 0.0013 - lr: 1.4814e-05\n",
      "Epoch 192/200\n",
      "27/27 [==============================] - ETA: 0s - loss: 0.0123 - semantic_0_loss: 0.0039 - semantic_1_loss: 0.0071 - semantic_2_loss: 0.0013WARNING:tensorflow:Can save best model only with val_loss available, skipping.\n",
      "27/27 [==============================] - 18s 674ms/step - loss: 0.0123 - semantic_0_loss: 0.0039 - semantic_1_loss: 0.0071 - semantic_2_loss: 0.0013 - lr: 1.4666e-05\n",
      "Epoch 193/200\n",
      "27/27 [==============================] - ETA: 0s - loss: 0.0123 - semantic_0_loss: 0.0040 - semantic_1_loss: 0.0070 - semantic_2_loss: 0.0013WARNING:tensorflow:Can save best model only with val_loss available, skipping.\n",
      "27/27 [==============================] - 18s 652ms/step - loss: 0.0123 - semantic_0_loss: 0.0040 - semantic_1_loss: 0.0070 - semantic_2_loss: 0.0013 - lr: 1.4520e-05\n",
      "Epoch 194/200\n",
      "27/27 [==============================] - ETA: 0s - loss: 0.0124 - semantic_0_loss: 0.0040 - semantic_1_loss: 0.0071 - semantic_2_loss: 0.0013WARNING:tensorflow:Can save best model only with val_loss available, skipping.\n",
      "27/27 [==============================] - 18s 642ms/step - loss: 0.0124 - semantic_0_loss: 0.0040 - semantic_1_loss: 0.0071 - semantic_2_loss: 0.0013 - lr: 1.4374e-05\n",
      "Epoch 195/200\n",
      "27/27 [==============================] - ETA: 0s - loss: 0.0123 - semantic_0_loss: 0.0040 - semantic_1_loss: 0.0070 - semantic_2_loss: 0.0013WARNING:tensorflow:Can save best model only with val_loss available, skipping.\n",
      "27/27 [==============================] - 18s 665ms/step - loss: 0.0123 - semantic_0_loss: 0.0040 - semantic_1_loss: 0.0070 - semantic_2_loss: 0.0013 - lr: 1.4231e-05\n",
      "Epoch 196/200\n",
      "27/27 [==============================] - ETA: 0s - loss: 0.0123 - semantic_0_loss: 0.0040 - semantic_1_loss: 0.0071 - semantic_2_loss: 0.0013WARNING:tensorflow:Can save best model only with val_loss available, skipping.\n",
      "27/27 [==============================] - 18s 648ms/step - loss: 0.0123 - semantic_0_loss: 0.0040 - semantic_1_loss: 0.0071 - semantic_2_loss: 0.0013 - lr: 1.4088e-05\n",
      "Epoch 197/200\n",
      "27/27 [==============================] - ETA: 0s - loss: 0.0125 - semantic_0_loss: 0.0040 - semantic_1_loss: 0.0071 - semantic_2_loss: 0.0013WARNING:tensorflow:Can save best model only with val_loss available, skipping.\n",
      "27/27 [==============================] - 18s 659ms/step - loss: 0.0125 - semantic_0_loss: 0.0040 - semantic_1_loss: 0.0071 - semantic_2_loss: 0.0013 - lr: 1.3948e-05\n",
      "Epoch 198/200\n",
      "27/27 [==============================] - ETA: 0s - loss: 0.0122 - semantic_0_loss: 0.0040 - semantic_1_loss: 0.0070 - semantic_2_loss: 0.0013WARNING:tensorflow:Can save best model only with val_loss available, skipping.\n",
      "27/27 [==============================] - 18s 658ms/step - loss: 0.0122 - semantic_0_loss: 0.0040 - semantic_1_loss: 0.0070 - semantic_2_loss: 0.0013 - lr: 1.3808e-05\n",
      "Epoch 199/200\n",
      "27/27 [==============================] - ETA: 0s - loss: 0.0121 - semantic_0_loss: 0.0039 - semantic_1_loss: 0.0069 - semantic_2_loss: 0.0013WARNING:tensorflow:Can save best model only with val_loss available, skipping.\n",
      "27/27 [==============================] - 18s 652ms/step - loss: 0.0121 - semantic_0_loss: 0.0039 - semantic_1_loss: 0.0069 - semantic_2_loss: 0.0013 - lr: 1.3670e-05\n",
      "Epoch 200/200\n",
      "27/27 [==============================] - ETA: 0s - loss: 0.0122 - semantic_0_loss: 0.0040 - semantic_1_loss: 0.0070 - semantic_2_loss: 0.0013WARNING:tensorflow:Can save best model only with val_loss available, skipping.\n",
      "27/27 [==============================] - 18s 659ms/step - loss: 0.0122 - semantic_0_loss: 0.0040 - semantic_1_loss: 0.0070 - semantic_2_loss: 0.0013 - lr: 1.3533e-05\n"
     ]
    }
   ],
   "source": [
    "# fit the model\n",
    "print('Training on', count_gpus(), 'GPUs.')\n",
    "\n",
    "train_callbacks = get_callbacks(\n",
    "    model_path,\n",
    "    lr_sched=lr_sched,\n",
    "#     monitor=\"val_loss\",\n",
    "    # monitor='loss', # training loss\n",
    "    verbose=1)          \n",
    "            \n",
    "loss_history = model.fit(\n",
    "    train_data,\n",
    "    steps_per_epoch=train_data.y.shape[0] // batch_size, # \n",
    "    epochs=epochs, \n",
    "#     validation_data=val_data,\n",
    "#     validation_steps=val_data.y.shape[0] // batch_size,\n",
    "    callbacks=train_callbacks)\n",
    "\n",
    "model.save_weights(model_path)"
   ]
  },
  {
   "cell_type": "markdown",
   "id": "42277d43",
   "metadata": {},
   "source": [
    "**Make prediction on K's data.**<br>\n",
    "Using NuclearSegmentation allows setting image_mpp, which has a substantial influence on performance."
   ]
  },
  {
   "cell_type": "code",
   "execution_count": 11,
   "id": "dbf36df1",
   "metadata": {
    "execution": {
     "iopub.execute_input": "2022-11-04T06:18:14.143050Z",
     "iopub.status.busy": "2022-11-04T06:18:14.140229Z",
     "iopub.status.idle": "2022-11-04T06:18:20.890885Z",
     "shell.execute_reply": "2022-11-04T06:18:20.891828Z"
    }
   },
   "outputs": [
    {
     "name": "stderr",
     "output_type": "stream",
     "text": [
      "2022-11-04 10:36:42.312314: W tensorflow/python/util/util.cc:368] Sets are not currently considered sequences, but this may change in the future, so consider avoiding using them.\n"
     ]
    }
   ],
   "source": [
    "prediction_model = PanopticNet(\n",
    "    backbone='resnet50',\n",
    "    norm_method='whole_image',\n",
    "    num_semantic_classes=[1, 1], # inner distance, outer distance\n",
    "    input_shape= (512,512,1)\n",
    ")\n",
    "\n",
    "prediction_model.load_weights(model_path, by_name=True)"
   ]
  },
  {
   "cell_type": "code",
   "execution_count": 12,
   "id": "37a766dc",
   "metadata": {
    "execution": {
     "iopub.execute_input": "2022-11-04T06:18:20.900632Z",
     "iopub.status.busy": "2022-11-04T06:18:20.899522Z",
     "iopub.status.idle": "2022-11-04T06:18:20.903585Z",
     "shell.execute_reply": "2022-11-04T06:18:20.904496Z"
    }
   },
   "outputs": [
    {
     "data": {
      "text/plain": [
       "[('semantic_0', (None, 512, 512, 1)), ('semantic_1', (None, 512, 512, 1))]"
      ]
     },
     "execution_count": 12,
     "metadata": {},
     "output_type": "execute_result"
    }
   ],
   "source": [
    "from deepcell.applications import NuclearSegmentation\n",
    "app = NuclearSegmentation(prediction_model)\n",
    "[(layer.name, layer.output_shape) for layer in filter(lambda x: x.name.startswith('semantic_'), app.model.layers)]"
   ]
  },
  {
   "cell_type": "code",
   "execution_count": 13,
   "id": "20301e2d",
   "metadata": {
    "execution": {
     "iopub.execute_input": "2022-11-04T06:18:20.909578Z",
     "iopub.status.busy": "2022-11-04T06:18:20.908957Z",
     "iopub.status.idle": "2022-11-04T06:18:20.915408Z",
     "shell.execute_reply": "2022-11-04T06:18:20.914802Z"
    }
   },
   "outputs": [
    {
     "name": "stdout",
     "output_type": "stream",
     "text": [
      "/home/yfong/deeplearning/dense_cell_segmentation\n",
      "['M926910_CFL_Position7_CD3_test_img.png', 'M872956_JML_Position10_CD3_test_img.png', 'M872956_JML_Position8_CD8_test_img.png', 'M926910_CFL_Position13_CD3_test_img.png', 'M872956_JML_Position8_CD3_test_img.png', 'M872956_JML_Position8_CD4_test_img.png', 'M872956_JML_Position9_CD3_test_img.png']\n"
     ]
    }
   ],
   "source": [
    "import os\n",
    "print(os.getcwd())\n",
    "INPUT_PATH=\"images/test/\"\n",
    "FILENAMES = [f for f in os.listdir(\"images/training/testimages\")]\n",
    "print(FILENAMES)"
   ]
  },
  {
   "cell_type": "code",
   "execution_count": 16,
   "id": "a2eaeaa5",
   "metadata": {
    "execution": {
     "iopub.execute_input": "2022-11-04T06:18:20.925276Z",
     "iopub.status.busy": "2022-11-04T06:18:20.924533Z",
     "iopub.status.idle": "2022-11-04T06:20:46.902537Z",
     "shell.execute_reply": "2022-11-04T06:20:46.903396Z"
    }
   },
   "outputs": [
    {
     "name": "stdout",
     "output_type": "stream",
     "text": [
      "M926910_CFL_Position7_CD3_test_img.png\n"
     ]
    },
    {
     "name": "stderr",
     "output_type": "stream",
     "text": [
      "/app/software/DeepCell/0.11.1-foss-2021b-CUDA-11.4.1/lib/python3.9/site-packages/deepcell_toolbox/deep_watershed.py:179: FutureWarning: `selem` is a deprecated argument name for `h_maxima`. It will be removed in version 1.0.Please use `footprint` instead.\n",
      "  markers = h_maxima(image=maxima,\n"
     ]
    },
    {
     "name": "stdout",
     "output_type": "stream",
     "text": [
      "M872956_JML_Position10_CD3_test_img.png\n",
      "M872956_JML_Position8_CD8_test_img.png\n",
      "M926910_CFL_Position13_CD3_test_img.png\n",
      "M872956_JML_Position8_CD3_test_img.png\n",
      "M872956_JML_Position8_CD4_test_img.png\n",
      "M872956_JML_Position9_CD3_test_img.png\n",
      "[[0.3562091503267974, 0.3601236476043277, 0.37065052950075644, 0.3784977908689249, 0.37780898876404495, 0.375], [0.3157894736842105, 0.3805309734513274, 0.4103448275862069, 0.42953020134228187, 0.4208, 0.4182098765432099], [0.46808510638297873, 0.47474747474747475, 0.47058823529411764, 0.4976303317535545, 0.4774774774774775, 0.4495798319327731], [0.27692307692307694, 0.3099273607748184, 0.3333333333333333, 0.3424036281179138, 0.32181425485961124, 0.33059548254620125], [0.45569620253164556, 0.503584229390681, 0.5376532399299475, 0.5108514190317195, 0.4726134585289515, 0.48396946564885496], [0.5746835443037974, 0.5777777777777777, 0.5584725536992841, 0.5279642058165548, 0.4665271966527197, 0.4601593625498008], [0.3155737704918033, 0.3333333333333333, 0.3983903420523139, 0.39728682170542634, 0.39365671641791045, 0.41035120147874304]]\n",
      "[0.9 1.  1.1 1.2 1.3 1.4]\n"
     ]
    },
    {
     "data": {
      "text/plain": [
       "[3, 3, 3, 3, 2, 1, 5]"
      ]
     },
     "execution_count": 16,
     "metadata": {},
     "output_type": "execute_result"
    }
   ],
   "source": [
    "# more detailed mapping of image_mpp parameter\n",
    "mpps=np.linspace(start=.9, stop=1.4, num=6)\n",
    "\n",
    "AP_mat=[]\n",
    "for CURR_IM_NAME in FILENAMES:\n",
    "    print(CURR_IM_NAME)\n",
    "    im0 = io.imread(os.path.join(INPUT_PATH, CURR_IM_NAME))\n",
    "    mask_true=io.imread(os.path.join(INPUT_PATH, CURR_IM_NAME.replace(\"img\",\"masks\")))\n",
    "\n",
    "    x = np.expand_dims(im0, axis=-1)\n",
    "    x = np.expand_dims(x, axis=0)\n",
    "    y, tile_info = app._tile_input(x)\n",
    "    AP_arr=[]\n",
    "    for mpp in mpps:\n",
    "        prd = app._untile_output(app.predict(y, image_mpp=mpp), tile_info)[0,:,:,0]\n",
    "        a=syotil.csi(mask_true, prd)\n",
    "        AP_arr.append(a)\n",
    "    AP_mat.append(AP_arr)\n",
    "print(AP_mat)\n",
    "print(mpps)\n",
    "[x.index(np.max(x)) for x in AP_mat]"
   ]
  },
  {
   "cell_type": "code",
   "execution_count": 15,
   "id": "f31fa740",
   "metadata": {
    "execution": {
     "iopub.execute_input": "2022-11-04T06:20:46.911789Z",
     "iopub.status.busy": "2022-11-04T06:20:46.910670Z",
     "iopub.status.idle": "2022-11-04T06:21:03.330174Z",
     "shell.execute_reply": "2022-11-04T06:21:03.331080Z"
    },
    "scrolled": true
   },
   "outputs": [
    {
     "name": "stdout",
     "output_type": "stream",
     "text": [
      "(1, 1040, 233, 1)\n",
      "(1, 1568, 512, 1)\n",
      "{'padding': True, 'x_pad': (264, 264), 'y_pad': (139, 140)}\n",
      "(1, 1040, 233, 1)\n",
      "(1, 1568, 512, 1)\n",
      "{'padding': True, 'x_pad': (264, 264), 'y_pad': (139, 140)}\n",
      "(1, 1040, 233, 1)\n",
      "(1, 1568, 512, 1)\n",
      "{'padding': True, 'x_pad': (264, 264), 'y_pad': (139, 140)}\n",
      "(1, 1040, 233, 1)\n",
      "(1, 1568, 512, 1)\n",
      "{'padding': True, 'x_pad': (264, 264), 'y_pad': (139, 140)}\n",
      "(1, 1040, 233, 1)\n",
      "(1, 1568, 512, 1)\n",
      "{'padding': True, 'x_pad': (264, 264), 'y_pad': (139, 140)}\n",
      "(1, 1040, 233, 1)\n",
      "(1, 1568, 512, 1)\n",
      "{'padding': True, 'x_pad': (264, 264), 'y_pad': (139, 140)}\n",
      "(1, 1040, 233, 1)\n",
      "(1, 1568, 512, 1)\n",
      "{'padding': True, 'x_pad': (264, 264), 'y_pad': (139, 140)}\n",
      "{'M926910_CFL_Position7_CD3_test_img.png': 0.3784977908689249, 'M872956_JML_Position10_CD3_test_img.png': 0.42953020134228187, 'M872956_JML_Position8_CD8_test_img.png': 0.4976303317535545, 'M926910_CFL_Position13_CD3_test_img.png': 0.3424036281179138, 'M872956_JML_Position8_CD3_test_img.png': 0.5108514190317195, 'M872956_JML_Position8_CD4_test_img.png': 0.5279642058165548, 'M872956_JML_Position9_CD3_test_img.png': 0.39728682170542634, 'mAP': 0.4405949140909108}\n"
     ]
    }
   ],
   "source": [
    "mpp_select=1.2\n",
    "\n",
    "APs={}\n",
    "for CURR_IM_NAME in FILENAMES:\n",
    "    im0 = io.imread(os.path.join(INPUT_PATH, CURR_IM_NAME))\n",
    "    mask_true=io.imread(os.path.join(INPUT_PATH, CURR_IM_NAME.replace(\"img\",\"masks\")))\n",
    "\n",
    "    x = np.expand_dims(im0, axis=-1)\n",
    "    x = np.expand_dims(x, axis=0)\n",
    "    y, tile_info = app._tile_input(x)\n",
    "    print(x.shape)\n",
    "    print(y.shape)\n",
    "    print(tile_info)\n",
    "    pred = app.predict(y, image_mpp=mpp_select)\n",
    "    prd = app._untile_output(pred, tile_info)\n",
    "    #io.imshow(prd[0,:,:,0])\n",
    "    plt.show()\n",
    "    \n",
    "    APs[CURR_IM_NAME] = syotil.csi(mask_true, prd[0,:,:,0])# masks may lose one pixel if dimension is odd pixels\n",
    "\n",
    "APs[\"mAP\"]=np.mean(list(APs.values()))\n",
    "print(APs)"
   ]
  },
  {
   "cell_type": "code",
   "execution_count": 18,
   "id": "7bc06419",
   "metadata": {
    "execution": {
     "iopub.execute_input": "2022-11-04T06:21:03.344685Z",
     "iopub.status.busy": "2022-11-04T06:21:03.343594Z",
     "iopub.status.idle": "2022-11-04T06:21:03.382237Z",
     "shell.execute_reply": "2022-11-04T06:21:03.383095Z"
    }
   },
   "outputs": [
    {
     "name": "stdout",
     "output_type": "stream",
     "text": [
      "                                         0         1\n",
      "0   M926910_CFL_Position7_CD3_test_img.png  0.360124\n",
      "1  M872956_JML_Position10_CD3_test_img.png  0.380531\n",
      "2   M872956_JML_Position8_CD8_test_img.png  0.474747\n",
      "3  M926910_CFL_Position13_CD3_test_img.png  0.309927\n",
      "4   M872956_JML_Position8_CD3_test_img.png  0.503584\n",
      "5   M872956_JML_Position8_CD4_test_img.png  0.577778\n",
      "6   M872956_JML_Position9_CD3_test_img.png  0.333333\n",
      "7                                      mAP  0.420004\n"
     ]
    }
   ],
   "source": [
    "import pandas as pd\n",
    "df = pd.DataFrame([FILENAMES+[\"mAP\"], list(APs.values())])\n",
    "print(df.transpose())\n",
    "df.to_csv('images/training/csi_'+model_name+'.txt', index=False, header=False)"
   ]
  },
  {
   "cell_type": "markdown",
   "id": "520fe391",
   "metadata": {},
   "source": [
    "**mAP**<br>\n",
    "image_mpp=1:   0.42<br>\n",
    "image_mpp=1.2: 0.44<br>\n",
    "image_mpp=1.3: 0.44<br>"
   ]
  }
 ],
 "metadata": {
  "kernelspec": {
   "display_name": "Python 3 (ipykernel)",
   "language": "python",
   "name": "python3"
  },
  "language_info": {
   "codemirror_mode": {
    "name": "ipython",
    "version": 3
   },
   "file_extension": ".py",
   "mimetype": "text/x-python",
   "name": "python",
   "nbconvert_exporter": "python",
   "pygments_lexer": "ipython3",
   "version": "3.9.6"
  }
 },
 "nbformat": 4,
 "nbformat_minor": 5
}
