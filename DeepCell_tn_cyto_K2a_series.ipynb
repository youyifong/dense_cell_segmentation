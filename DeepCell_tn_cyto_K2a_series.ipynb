{
 "cells": [
  {
   "cell_type": "markdown",
   "id": "330e05e3",
   "metadata": {},
   "source": [
    "**Further train DeepCell Models with K's Data and Make Predictions**<br>\n",
    "Starting from model trained with tn cyto data, further train the model with resized K's images that is cut into 25 512x512 patches, one image at a time.\n",
    "200 epochs, semanticdatagenerator, resized<br>"
   ]
  },
  {
   "cell_type": "code",
   "execution_count": 1,
   "id": "a72e9c51",
   "metadata": {
    "execution": {
     "iopub.execute_input": "2022-11-12T03:15:00.426417Z",
     "iopub.status.busy": "2022-11-12T03:15:00.425397Z",
     "iopub.status.idle": "2022-11-12T03:15:00.429239Z",
     "shell.execute_reply": "2022-11-12T03:15:00.428296Z"
    }
   },
   "outputs": [],
   "source": [
    "starting_model_path = 'tn1.0_cyto_20221102.h5' # the model trained with nucleus data from the Tissuenet V1.0 dataset\n",
    "epochs=200 # 20 sec per step "
   ]
  },
  {
   "cell_type": "code",
   "execution_count": 2,
   "id": "90f2183c",
   "metadata": {
    "execution": {
     "iopub.execute_input": "2022-11-12T03:15:00.437361Z",
     "iopub.status.busy": "2022-11-12T03:15:00.436487Z",
     "iopub.status.idle": "2022-11-12T03:15:15.496849Z",
     "shell.execute_reply": "2022-11-12T03:15:15.497910Z"
    }
   },
   "outputs": [
    {
     "name": "stdout",
     "output_type": "stream",
     "text": [
      "2.7.1\n",
      "0.11.1\n"
     ]
    }
   ],
   "source": [
    "import syotil\n",
    "\n",
    "import numpy as np\n",
    "from skimage import io\n",
    "from matplotlib import pyplot as plt\n",
    "%matplotlib inline\n",
    "from timeit import default_timer\n",
    "import os\n",
    "from skimage import img_as_ubyte\n",
    "\n",
    "import deepcell\n",
    "from deepcell import image_generators\n",
    "from deepcell.utils.train_utils import rate_scheduler, get_callbacks, count_gpus\n",
    "from deepcell_toolbox.utils import resize, tile_image, untile_image\n",
    "from deepcell_toolbox.deep_watershed import deep_watershed\n",
    "from deepcell.losses import weighted_categorical_crossentropy\n",
    "from deepcell.model_zoo.panopticnet import PanopticNet\n",
    "\n",
    "import tensorflow as tf\n",
    "from tensorflow.keras.optimizers import SGD, Adam\n",
    "from tensorflow.keras.losses import MSE\n",
    "\n",
    "print(tf.__version__)\n",
    "print(deepcell.__version__)"
   ]
  },
  {
   "cell_type": "code",
   "execution_count": 3,
   "id": "1bac06f7",
   "metadata": {
    "execution": {
     "iopub.execute_input": "2022-11-12T03:15:15.529306Z",
     "iopub.status.busy": "2022-11-12T03:15:15.527964Z",
     "iopub.status.idle": "2022-11-12T07:48:35.629521Z",
     "shell.execute_reply": "2022-11-12T07:48:35.630501Z"
    }
   },
   "outputs": [
    {
     "name": "stdout",
     "output_type": "stream",
     "text": [
      "1\n"
     ]
    },
    {
     "name": "stderr",
     "output_type": "stream",
     "text": [
      "2022-11-11 19:15:19.389616: I tensorflow/core/common_runtime/gpu/gpu_device.cc:1525] Created device /job:localhost/replica:0/task:0/device:GPU:0 with 14657 MB memory:  -> device: 0, name: Tesla V100-PCIE-16GB, pci bus id: 0000:04:00.0, compute capability: 7.0\n"
     ]
    },
    {
     "name": "stdout",
     "output_type": "stream",
     "text": [
      "(1, 1040, 1159, 1)\n",
      "(1, 1040, 1159, 1)\n",
      "3.0769230769230766\n"
     ]
    },
    {
     "name": "stderr",
     "output_type": "stream",
     "text": [
      "2022-11-11 19:15:19.391030: I tensorflow/core/common_runtime/gpu/gpu_device.cc:1525] Created device /job:localhost/replica:0/task:0/device:GPU:1 with 14657 MB memory:  -> device: 1, name: Tesla V100-PCIE-16GB, pci bus id: 0000:06:00.0, compute capability: 7.0\n",
      "2022-11-11 19:15:19.392376: I tensorflow/core/common_runtime/gpu/gpu_device.cc:1525] Created device /job:localhost/replica:0/task:0/device:GPU:2 with 14657 MB memory:  -> device: 2, name: Tesla V100-PCIE-16GB, pci bus id: 0000:08:00.0, compute capability: 7.0\n"
     ]
    },
    {
     "name": "stdout",
     "output_type": "stream",
     "text": [
      "(1, 3199, 3566, 1)\n",
      "(1, 3199, 3566, 1)\n",
      "(1, 3199, 3566, 1)\n",
      "(1, 3199, 3566, 1)\n",
      "[0, 400, 800, 1200, 2687]\n",
      "[512, 912, 1312, 1712, 3199]\n",
      "[0, 512, 1024, 1536, 3054]\n",
      "[512, 1024, 1536, 2048, 3566]\n",
      "(25, 512, 512, 1)\n",
      "(25, 512, 512, 1)\n",
      "WARNING:tensorflow:Removing 4 of 25 images with fewer than 5 objects.\n"
     ]
    },
    {
     "name": "stderr",
     "output_type": "stream",
     "text": [
      "2022-11-11 19:15:20.176542: W tensorflow/python/util/util.cc:368] Sets are not currently considered sequences, but this may change in the future, so consider avoiding using them.\n",
      "/app/software/TensorFlow/2.7.1-foss-2021b-CUDA-11.4.1/lib/python3.9/site-packages/keras/optimizer_v2/adam.py:105: UserWarning: The `lr` argument is deprecated, use `learning_rate` instead.\n",
      "  super(Adam, self).__init__(name, **kwargs)\n"
     ]
    },
    {
     "name": "stdout",
     "output_type": "stream",
     "text": [
      "Training on 3 GPUs.\n"
     ]
    },
    {
     "name": "stderr",
     "output_type": "stream",
     "text": [
      "2022-11-11 19:15:31.077933: I tensorflow/core/common_runtime/gpu/gpu_device.cc:1525] Created device /device:GPU:0 with 14657 MB memory:  -> device: 0, name: Tesla V100-PCIE-16GB, pci bus id: 0000:04:00.0, compute capability: 7.0\n",
      "2022-11-11 19:15:31.078840: I tensorflow/core/common_runtime/gpu/gpu_device.cc:1525] Created device /device:GPU:1 with 14657 MB memory:  -> device: 1, name: Tesla V100-PCIE-16GB, pci bus id: 0000:06:00.0, compute capability: 7.0\n",
      "2022-11-11 19:15:31.079721: I tensorflow/core/common_runtime/gpu/gpu_device.cc:1525] Created device /device:GPU:2 with 14657 MB memory:  -> device: 2, name: Tesla V100-PCIE-16GB, pci bus id: 0000:08:00.0, compute capability: 7.0\n"
     ]
    },
    {
     "name": "stdout",
     "output_type": "stream",
     "text": [
      "Epoch 1/200\n"
     ]
    },
    {
     "name": "stderr",
     "output_type": "stream",
     "text": [
      "2022-11-11 19:15:45.736689: I tensorflow/stream_executor/cuda/cuda_dnn.cc:366] Loaded cuDNN version 8202\n"
     ]
    },
    {
     "name": "stdout",
     "output_type": "stream",
     "text": [
      "5/5 [==============================] - ETA: 0s - loss: 0.0250 - semantic_0_loss: 0.0036 - semantic_1_loss: 0.0184 - semantic_2_loss: 0.0030WARNING:tensorflow:Can save best model only with val_loss available, skipping.\n",
      "5/5 [==============================] - 31s 2s/step - loss: 0.0250 - semantic_0_loss: 0.0036 - semantic_1_loss: 0.0184 - semantic_2_loss: 0.0030 - lr: 1.0000e-04\n",
      "Epoch 2/200\n",
      "5/5 [==============================] - ETA: 0s - loss: 0.0164 - semantic_0_loss: 0.0019 - semantic_1_loss: 0.0119 - semantic_2_loss: 0.0025WARNING:tensorflow:Can save best model only with val_loss available, skipping.\n",
      "5/5 [==============================] - 2s 382ms/step - loss: 0.0164 - semantic_0_loss: 0.0019 - semantic_1_loss: 0.0119 - semantic_2_loss: 0.0025 - lr: 9.9000e-05\n",
      "Epoch 3/200\n",
      "5/5 [==============================] - ETA: 0s - loss: 0.0111 - semantic_0_loss: 0.0014 - semantic_1_loss: 0.0075 - semantic_2_loss: 0.0022WARNING:tensorflow:Can save best model only with val_loss available, skipping.\n",
      "5/5 [==============================] - 2s 479ms/step - loss: 0.0111 - semantic_0_loss: 0.0014 - semantic_1_loss: 0.0075 - semantic_2_loss: 0.0022 - lr: 9.8010e-05\n",
      "Epoch 4/200\n",
      "5/5 [==============================] - ETA: 0s - loss: 0.0091 - semantic_0_loss: 0.0012 - semantic_1_loss: 0.0058 - semantic_2_loss: 0.0021WARNING:tensorflow:Can save best model only with val_loss available, skipping.\n",
      "5/5 [==============================] - 2s 377ms/step - loss: 0.0091 - semantic_0_loss: 0.0012 - semantic_1_loss: 0.0058 - semantic_2_loss: 0.0021 - lr: 9.7030e-05\n",
      "Epoch 5/200\n",
      "5/5 [==============================] - ETA: 0s - loss: 0.0081 - semantic_0_loss: 0.0012 - semantic_1_loss: 0.0050 - semantic_2_loss: 0.0019WARNING:tensorflow:Can save best model only with val_loss available, skipping.\n",
      "5/5 [==============================] - 2s 449ms/step - loss: 0.0081 - semantic_0_loss: 0.0012 - semantic_1_loss: 0.0050 - semantic_2_loss: 0.0019 - lr: 9.6060e-05\n",
      "Epoch 6/200\n",
      "5/5 [==============================] - ETA: 0s - loss: 0.0080 - semantic_0_loss: 0.0012 - semantic_1_loss: 0.0050 - semantic_2_loss: 0.0018WARNING:tensorflow:Can save best model only with val_loss available, skipping.\n",
      "5/5 [==============================] - 2s 459ms/step - loss: 0.0080 - semantic_0_loss: 0.0012 - semantic_1_loss: 0.0050 - semantic_2_loss: 0.0018 - lr: 9.5099e-05\n",
      "Epoch 7/200\n",
      "5/5 [==============================] - ETA: 0s - loss: 0.0073 - semantic_0_loss: 0.0011 - semantic_1_loss: 0.0046 - semantic_2_loss: 0.0016WARNING:tensorflow:Can save best model only with val_loss available, skipping.\n",
      "5/5 [==============================] - 2s 380ms/step - loss: 0.0073 - semantic_0_loss: 0.0011 - semantic_1_loss: 0.0046 - semantic_2_loss: 0.0016 - lr: 9.4148e-05\n",
      "Epoch 8/200\n",
      "5/5 [==============================] - ETA: 0s - loss: 0.0075 - semantic_0_loss: 0.0011 - semantic_1_loss: 0.0047 - semantic_2_loss: 0.0016WARNING:tensorflow:Can save best model only with val_loss available, skipping.\n",
      "5/5 [==============================] - 2s 439ms/step - loss: 0.0075 - semantic_0_loss: 0.0011 - semantic_1_loss: 0.0047 - semantic_2_loss: 0.0016 - lr: 9.3207e-05\n",
      "Epoch 9/200\n",
      "5/5 [==============================] - ETA: 0s - loss: 0.0077 - semantic_0_loss: 0.0011 - semantic_1_loss: 0.0050 - semantic_2_loss: 0.0016WARNING:tensorflow:Can save best model only with val_loss available, skipping.\n",
      "5/5 [==============================] - 2s 387ms/step - loss: 0.0077 - semantic_0_loss: 0.0011 - semantic_1_loss: 0.0050 - semantic_2_loss: 0.0016 - lr: 9.2274e-05\n",
      "Epoch 10/200\n",
      "5/5 [==============================] - ETA: 0s - loss: 0.0072 - semantic_0_loss: 0.0011 - semantic_1_loss: 0.0046 - semantic_2_loss: 0.0014WARNING:tensorflow:Can save best model only with val_loss available, skipping.\n",
      "5/5 [==============================] - 2s 384ms/step - loss: 0.0072 - semantic_0_loss: 0.0011 - semantic_1_loss: 0.0046 - semantic_2_loss: 0.0014 - lr: 9.1352e-05\n",
      "Epoch 11/200\n",
      "5/5 [==============================] - ETA: 0s - loss: 0.0072 - semantic_0_loss: 0.0012 - semantic_1_loss: 0.0045 - semantic_2_loss: 0.0015WARNING:tensorflow:Can save best model only with val_loss available, skipping.\n",
      "5/5 [==============================] - 2s 387ms/step - loss: 0.0072 - semantic_0_loss: 0.0012 - semantic_1_loss: 0.0045 - semantic_2_loss: 0.0015 - lr: 9.0438e-05\n",
      "Epoch 12/200\n",
      "5/5 [==============================] - ETA: 0s - loss: 0.0065 - semantic_0_loss: 0.0010 - semantic_1_loss: 0.0041 - semantic_2_loss: 0.0014WARNING:tensorflow:Can save best model only with val_loss available, skipping.\n",
      "5/5 [==============================] - 2s 385ms/step - loss: 0.0065 - semantic_0_loss: 0.0010 - semantic_1_loss: 0.0041 - semantic_2_loss: 0.0014 - lr: 8.9534e-05\n",
      "Epoch 13/200\n",
      "5/5 [==============================] - ETA: 0s - loss: 0.0066 - semantic_0_loss: 0.0011 - semantic_1_loss: 0.0041 - semantic_2_loss: 0.0014WARNING:tensorflow:Can save best model only with val_loss available, skipping.\n",
      "5/5 [==============================] - 2s 403ms/step - loss: 0.0066 - semantic_0_loss: 0.0011 - semantic_1_loss: 0.0041 - semantic_2_loss: 0.0014 - lr: 8.8638e-05\n",
      "Epoch 14/200\n",
      "5/5 [==============================] - ETA: 0s - loss: 0.0061 - semantic_0_loss: 0.0011 - semantic_1_loss: 0.0037 - semantic_2_loss: 0.0013WARNING:tensorflow:Can save best model only with val_loss available, skipping.\n",
      "5/5 [==============================] - 2s 383ms/step - loss: 0.0061 - semantic_0_loss: 0.0011 - semantic_1_loss: 0.0037 - semantic_2_loss: 0.0013 - lr: 8.7752e-05\n",
      "Epoch 15/200\n",
      "5/5 [==============================] - ETA: 0s - loss: 0.0060 - semantic_0_loss: 0.0011 - semantic_1_loss: 0.0036 - semantic_2_loss: 0.0013WARNING:tensorflow:Can save best model only with val_loss available, skipping.\n",
      "5/5 [==============================] - 2s 478ms/step - loss: 0.0060 - semantic_0_loss: 0.0011 - semantic_1_loss: 0.0036 - semantic_2_loss: 0.0013 - lr: 8.6875e-05\n",
      "Epoch 16/200\n",
      "5/5 [==============================] - ETA: 0s - loss: 0.0065 - semantic_0_loss: 0.0011 - semantic_1_loss: 0.0042 - semantic_2_loss: 0.0013WARNING:tensorflow:Can save best model only with val_loss available, skipping.\n",
      "5/5 [==============================] - 2s 444ms/step - loss: 0.0065 - semantic_0_loss: 0.0011 - semantic_1_loss: 0.0042 - semantic_2_loss: 0.0013 - lr: 8.6006e-05\n",
      "Epoch 17/200\n",
      "5/5 [==============================] - ETA: 0s - loss: 0.0060 - semantic_0_loss: 0.0011 - semantic_1_loss: 0.0037 - semantic_2_loss: 0.0012WARNING:tensorflow:Can save best model only with val_loss available, skipping.\n",
      "5/5 [==============================] - 3s 463ms/step - loss: 0.0060 - semantic_0_loss: 0.0011 - semantic_1_loss: 0.0037 - semantic_2_loss: 0.0012 - lr: 8.5146e-05\n",
      "Epoch 18/200\n",
      "5/5 [==============================] - ETA: 0s - loss: 0.0062 - semantic_0_loss: 0.0011 - semantic_1_loss: 0.0038 - semantic_2_loss: 0.0013WARNING:tensorflow:Can save best model only with val_loss available, skipping.\n",
      "5/5 [==============================] - 2s 383ms/step - loss: 0.0062 - semantic_0_loss: 0.0011 - semantic_1_loss: 0.0038 - semantic_2_loss: 0.0013 - lr: 8.4294e-05\n",
      "Epoch 19/200\n",
      "5/5 [==============================] - ETA: 0s - loss: 0.0057 - semantic_0_loss: 9.5403e-04 - semantic_1_loss: 0.0035 - semantic_2_loss: 0.0012WARNING:tensorflow:Can save best model only with val_loss available, skipping.\n",
      "5/5 [==============================] - 2s 353ms/step - loss: 0.0057 - semantic_0_loss: 9.5403e-04 - semantic_1_loss: 0.0035 - semantic_2_loss: 0.0012 - lr: 8.3451e-05\n",
      "Epoch 20/200\n",
      "5/5 [==============================] - ETA: 0s - loss: 0.0058 - semantic_0_loss: 0.0010 - semantic_1_loss: 0.0036 - semantic_2_loss: 0.0012WARNING:tensorflow:Can save best model only with val_loss available, skipping.\n",
      "5/5 [==============================] - 2s 351ms/step - loss: 0.0058 - semantic_0_loss: 0.0010 - semantic_1_loss: 0.0036 - semantic_2_loss: 0.0012 - lr: 8.2617e-05\n",
      "Epoch 21/200\n",
      "5/5 [==============================] - ETA: 0s - loss: 0.0057 - semantic_0_loss: 9.8956e-04 - semantic_1_loss: 0.0035 - semantic_2_loss: 0.0012WARNING:tensorflow:Can save best model only with val_loss available, skipping.\n",
      "5/5 [==============================] - 2s 385ms/step - loss: 0.0057 - semantic_0_loss: 9.8956e-04 - semantic_1_loss: 0.0035 - semantic_2_loss: 0.0012 - lr: 8.1791e-05\n",
      "Epoch 22/200\n",
      "5/5 [==============================] - ETA: 0s - loss: 0.0056 - semantic_0_loss: 9.8679e-04 - semantic_1_loss: 0.0035 - semantic_2_loss: 0.0012WARNING:tensorflow:Can save best model only with val_loss available, skipping.\n",
      "5/5 [==============================] - 2s 460ms/step - loss: 0.0056 - semantic_0_loss: 9.8679e-04 - semantic_1_loss: 0.0035 - semantic_2_loss: 0.0012 - lr: 8.0973e-05\n",
      "Epoch 23/200\n",
      "5/5 [==============================] - ETA: 0s - loss: 0.0053 - semantic_0_loss: 0.0010 - semantic_1_loss: 0.0031 - semantic_2_loss: 0.0011    WARNING:tensorflow:Can save best model only with val_loss available, skipping.\n",
      "5/5 [==============================] - 2s 382ms/step - loss: 0.0053 - semantic_0_loss: 0.0010 - semantic_1_loss: 0.0031 - semantic_2_loss: 0.0011 - lr: 8.0163e-05\n",
      "Epoch 24/200\n",
      "5/5 [==============================] - ETA: 0s - loss: 0.0056 - semantic_0_loss: 9.9990e-04 - semantic_1_loss: 0.0035 - semantic_2_loss: 0.0011WARNING:tensorflow:Can save best model only with val_loss available, skipping.\n",
      "5/5 [==============================] - 2s 348ms/step - loss: 0.0056 - semantic_0_loss: 9.9990e-04 - semantic_1_loss: 0.0035 - semantic_2_loss: 0.0011 - lr: 7.9361e-05\n",
      "Epoch 25/200\n",
      "5/5 [==============================] - ETA: 0s - loss: 0.0054 - semantic_0_loss: 0.0011 - semantic_1_loss: 0.0033 - semantic_2_loss: 0.0011WARNING:tensorflow:Can save best model only with val_loss available, skipping.\n",
      "5/5 [==============================] - 2s 386ms/step - loss: 0.0054 - semantic_0_loss: 0.0011 - semantic_1_loss: 0.0033 - semantic_2_loss: 0.0011 - lr: 7.8568e-05\n",
      "Epoch 26/200\n",
      "5/5 [==============================] - ETA: 0s - loss: 0.0050 - semantic_0_loss: 9.5280e-04 - semantic_1_loss: 0.0029 - semantic_2_loss: 0.0011WARNING:tensorflow:Can save best model only with val_loss available, skipping.\n",
      "5/5 [==============================] - 2s 385ms/step - loss: 0.0050 - semantic_0_loss: 9.5280e-04 - semantic_1_loss: 0.0029 - semantic_2_loss: 0.0011 - lr: 7.7782e-05\n",
      "Epoch 27/200\n",
      "5/5 [==============================] - ETA: 0s - loss: 0.0049 - semantic_0_loss: 8.8325e-04 - semantic_1_loss: 0.0030 - semantic_2_loss: 0.0011WARNING:tensorflow:Can save best model only with val_loss available, skipping.\n",
      "5/5 [==============================] - 2s 484ms/step - loss: 0.0049 - semantic_0_loss: 8.8325e-04 - semantic_1_loss: 0.0030 - semantic_2_loss: 0.0011 - lr: 7.7004e-05\n",
      "Epoch 28/200\n",
      "5/5 [==============================] - ETA: 0s - loss: 0.0051 - semantic_0_loss: 0.0010 - semantic_1_loss: 0.0030 - semantic_2_loss: 0.0011WARNING:tensorflow:Can save best model only with val_loss available, skipping.\n",
      "5/5 [==============================] - 2s 443ms/step - loss: 0.0051 - semantic_0_loss: 0.0010 - semantic_1_loss: 0.0030 - semantic_2_loss: 0.0011 - lr: 7.6234e-05\n",
      "Epoch 29/200\n",
      "5/5 [==============================] - ETA: 0s - loss: 0.0052 - semantic_0_loss: 9.4403e-04 - semantic_1_loss: 0.0032 - semantic_2_loss: 0.0011WARNING:tensorflow:Can save best model only with val_loss available, skipping.\n",
      "5/5 [==============================] - 2s 370ms/step - loss: 0.0052 - semantic_0_loss: 9.4403e-04 - semantic_1_loss: 0.0032 - semantic_2_loss: 0.0011 - lr: 7.5472e-05\n",
      "Epoch 30/200\n",
      "5/5 [==============================] - ETA: 0s - loss: 0.0046 - semantic_0_loss: 9.4159e-04 - semantic_1_loss: 0.0026 - semantic_2_loss: 0.0010    WARNING:tensorflow:Can save best model only with val_loss available, skipping.\n",
      "5/5 [==============================] - 2s 451ms/step - loss: 0.0046 - semantic_0_loss: 9.4159e-04 - semantic_1_loss: 0.0026 - semantic_2_loss: 0.0010 - lr: 7.4717e-05\n",
      "Epoch 31/200\n",
      "5/5 [==============================] - ETA: 0s - loss: 0.0048 - semantic_0_loss: 9.3350e-04 - semantic_1_loss: 0.0028 - semantic_2_loss: 0.0010WARNING:tensorflow:Can save best model only with val_loss available, skipping.\n",
      "5/5 [==============================] - 2s 352ms/step - loss: 0.0048 - semantic_0_loss: 9.3350e-04 - semantic_1_loss: 0.0028 - semantic_2_loss: 0.0010 - lr: 7.3970e-05\n",
      "Epoch 32/200\n",
      "5/5 [==============================] - ETA: 0s - loss: 0.0052 - semantic_0_loss: 0.0010 - semantic_1_loss: 0.0031 - semantic_2_loss: 0.0011WARNING:tensorflow:Can save best model only with val_loss available, skipping.\n",
      "5/5 [==============================] - 2s 382ms/step - loss: 0.0052 - semantic_0_loss: 0.0010 - semantic_1_loss: 0.0031 - semantic_2_loss: 0.0011 - lr: 7.3230e-05\n",
      "Epoch 33/200\n",
      "5/5 [==============================] - ETA: 0s - loss: 0.0049 - semantic_0_loss: 9.2418e-04 - semantic_1_loss: 0.0029 - semantic_2_loss: 0.0011WARNING:tensorflow:Can save best model only with val_loss available, skipping.\n",
      "5/5 [==============================] - 2s 395ms/step - loss: 0.0049 - semantic_0_loss: 9.2418e-04 - semantic_1_loss: 0.0029 - semantic_2_loss: 0.0011 - lr: 7.2498e-05\n",
      "Epoch 34/200\n",
      "5/5 [==============================] - ETA: 0s - loss: 0.0050 - semantic_0_loss: 9.8371e-04 - semantic_1_loss: 0.0030 - semantic_2_loss: 0.0010WARNING:tensorflow:Can save best model only with val_loss available, skipping.\n",
      "5/5 [==============================] - 2s 384ms/step - loss: 0.0050 - semantic_0_loss: 9.8371e-04 - semantic_1_loss: 0.0030 - semantic_2_loss: 0.0010 - lr: 7.1773e-05\n",
      "Epoch 35/200\n",
      "5/5 [==============================] - ETA: 0s - loss: 0.0047 - semantic_0_loss: 9.3566e-04 - semantic_1_loss: 0.0027 - semantic_2_loss: 9.9549e-04WARNING:tensorflow:Can save best model only with val_loss available, skipping.\n",
      "5/5 [==============================] - 3s 462ms/step - loss: 0.0047 - semantic_0_loss: 9.3566e-04 - semantic_1_loss: 0.0027 - semantic_2_loss: 9.9549e-04 - lr: 7.1055e-05\n",
      "Epoch 36/200\n",
      "5/5 [==============================] - ETA: 0s - loss: 0.0048 - semantic_0_loss: 9.0405e-04 - semantic_1_loss: 0.0028 - semantic_2_loss: 9.9665e-04WARNING:tensorflow:Can save best model only with val_loss available, skipping.\n",
      "5/5 [==============================] - 2s 350ms/step - loss: 0.0048 - semantic_0_loss: 9.0405e-04 - semantic_1_loss: 0.0028 - semantic_2_loss: 9.9665e-04 - lr: 7.0345e-05\n",
      "Epoch 37/200\n",
      "5/5 [==============================] - ETA: 0s - loss: 0.0049 - semantic_0_loss: 9.5332e-04 - semantic_1_loss: 0.0029 - semantic_2_loss: 0.0010WARNING:tensorflow:Can save best model only with val_loss available, skipping.\n",
      "5/5 [==============================] - 2s 447ms/step - loss: 0.0049 - semantic_0_loss: 9.5332e-04 - semantic_1_loss: 0.0029 - semantic_2_loss: 0.0010 - lr: 6.9641e-05\n",
      "Epoch 38/200\n",
      "5/5 [==============================] - ETA: 0s - loss: 0.0050 - semantic_0_loss: 9.6042e-04 - semantic_1_loss: 0.0030 - semantic_2_loss: 0.0010WARNING:tensorflow:Can save best model only with val_loss available, skipping.\n",
      "5/5 [==============================] - 2s 382ms/step - loss: 0.0050 - semantic_0_loss: 9.6042e-04 - semantic_1_loss: 0.0030 - semantic_2_loss: 0.0010 - lr: 6.8945e-05\n",
      "Epoch 39/200\n",
      "5/5 [==============================] - ETA: 0s - loss: 0.0047 - semantic_0_loss: 9.3127e-04 - semantic_1_loss: 0.0028 - semantic_2_loss: 0.0010WARNING:tensorflow:Can save best model only with val_loss available, skipping.\n",
      "5/5 [==============================] - 2s 394ms/step - loss: 0.0047 - semantic_0_loss: 9.3127e-04 - semantic_1_loss: 0.0028 - semantic_2_loss: 0.0010 - lr: 6.8255e-05\n",
      "Epoch 40/200\n",
      "5/5 [==============================] - ETA: 0s - loss: 0.0042 - semantic_0_loss: 9.0818e-04 - semantic_1_loss: 0.0024 - semantic_2_loss: 9.4084e-04WARNING:tensorflow:Can save best model only with val_loss available, skipping.\n",
      "5/5 [==============================] - 2s 383ms/step - loss: 0.0042 - semantic_0_loss: 9.0818e-04 - semantic_1_loss: 0.0024 - semantic_2_loss: 9.4084e-04 - lr: 6.7573e-05\n",
      "Epoch 41/200\n",
      "5/5 [==============================] - ETA: 0s - loss: 0.0046 - semantic_0_loss: 8.9349e-04 - semantic_1_loss: 0.0028 - semantic_2_loss: 9.9360e-04WARNING:tensorflow:Can save best model only with val_loss available, skipping.\n",
      "5/5 [==============================] - 2s 355ms/step - loss: 0.0046 - semantic_0_loss: 8.9349e-04 - semantic_1_loss: 0.0028 - semantic_2_loss: 9.9360e-04 - lr: 6.6897e-05\n",
      "Epoch 42/200\n",
      "5/5 [==============================] - ETA: 0s - loss: 0.0049 - semantic_0_loss: 9.6651e-04 - semantic_1_loss: 0.0029 - semantic_2_loss: 0.0010WARNING:tensorflow:Can save best model only with val_loss available, skipping.\n",
      "5/5 [==============================] - 2s 484ms/step - loss: 0.0049 - semantic_0_loss: 9.6651e-04 - semantic_1_loss: 0.0029 - semantic_2_loss: 0.0010 - lr: 6.6228e-05\n",
      "Epoch 43/200\n",
      "5/5 [==============================] - ETA: 0s - loss: 0.0042 - semantic_0_loss: 8.8315e-04 - semantic_1_loss: 0.0024 - semantic_2_loss: 9.1211e-04WARNING:tensorflow:Can save best model only with val_loss available, skipping.\n",
      "5/5 [==============================] - 2s 470ms/step - loss: 0.0042 - semantic_0_loss: 8.8315e-04 - semantic_1_loss: 0.0024 - semantic_2_loss: 9.1211e-04 - lr: 6.5566e-05\n",
      "Epoch 44/200\n",
      "5/5 [==============================] - ETA: 0s - loss: 0.0044 - semantic_0_loss: 9.0391e-04 - semantic_1_loss: 0.0025 - semantic_2_loss: 9.3254e-04WARNING:tensorflow:Can save best model only with val_loss available, skipping.\n",
      "5/5 [==============================] - 2s 443ms/step - loss: 0.0044 - semantic_0_loss: 9.0391e-04 - semantic_1_loss: 0.0025 - semantic_2_loss: 9.3254e-04 - lr: 6.4910e-05\n",
      "Epoch 45/200\n",
      "5/5 [==============================] - ETA: 0s - loss: 0.0045 - semantic_0_loss: 8.8832e-04 - semantic_1_loss: 0.0027 - semantic_2_loss: 9.7905e-04WARNING:tensorflow:Can save best model only with val_loss available, skipping.\n",
      "5/5 [==============================] - 2s 380ms/step - loss: 0.0045 - semantic_0_loss: 8.8832e-04 - semantic_1_loss: 0.0027 - semantic_2_loss: 9.7905e-04 - lr: 6.4261e-05\n",
      "Epoch 46/200\n",
      "5/5 [==============================] - ETA: 0s - loss: 0.0044 - semantic_0_loss: 9.4937e-04 - semantic_1_loss: 0.0025 - semantic_2_loss: 9.4248e-04WARNING:tensorflow:Can save best model only with val_loss available, skipping.\n",
      "5/5 [==============================] - 2s 482ms/step - loss: 0.0044 - semantic_0_loss: 9.4937e-04 - semantic_1_loss: 0.0025 - semantic_2_loss: 9.4248e-04 - lr: 6.3619e-05\n",
      "Epoch 47/200\n",
      "5/5 [==============================] - ETA: 0s - loss: 0.0046 - semantic_0_loss: 9.1744e-04 - semantic_1_loss: 0.0027 - semantic_2_loss: 9.6295e-04WARNING:tensorflow:Can save best model only with val_loss available, skipping.\n",
      "5/5 [==============================] - 2s 452ms/step - loss: 0.0046 - semantic_0_loss: 9.1744e-04 - semantic_1_loss: 0.0027 - semantic_2_loss: 9.6295e-04 - lr: 6.2982e-05\n",
      "Epoch 48/200\n",
      "5/5 [==============================] - ETA: 0s - loss: 0.0048 - semantic_0_loss: 9.6785e-04 - semantic_1_loss: 0.0029 - semantic_2_loss: 9.7680e-04WARNING:tensorflow:Can save best model only with val_loss available, skipping.\n",
      "5/5 [==============================] - 2s 360ms/step - loss: 0.0048 - semantic_0_loss: 9.6785e-04 - semantic_1_loss: 0.0029 - semantic_2_loss: 9.7680e-04 - lr: 6.2353e-05\n",
      "Epoch 49/200\n",
      "5/5 [==============================] - ETA: 0s - loss: 0.0042 - semantic_0_loss: 8.9079e-04 - semantic_1_loss: 0.0024 - semantic_2_loss: 8.9567e-04WARNING:tensorflow:Can save best model only with val_loss available, skipping.\n",
      "5/5 [==============================] - 2s 384ms/step - loss: 0.0042 - semantic_0_loss: 8.9079e-04 - semantic_1_loss: 0.0024 - semantic_2_loss: 8.9567e-04 - lr: 6.1729e-05\n",
      "Epoch 50/200\n",
      "5/5 [==============================] - ETA: 0s - loss: 0.0044 - semantic_0_loss: 8.9231e-04 - semantic_1_loss: 0.0026 - semantic_2_loss: 9.3279e-04WARNING:tensorflow:Can save best model only with val_loss available, skipping.\n",
      "5/5 [==============================] - 2s 399ms/step - loss: 0.0044 - semantic_0_loss: 8.9231e-04 - semantic_1_loss: 0.0026 - semantic_2_loss: 9.3279e-04 - lr: 6.1112e-05\n",
      "Epoch 51/200\n",
      "5/5 [==============================] - ETA: 0s - loss: 0.0045 - semantic_0_loss: 9.1065e-04 - semantic_1_loss: 0.0026 - semantic_2_loss: 9.0565e-04WARNING:tensorflow:Can save best model only with val_loss available, skipping.\n",
      "5/5 [==============================] - 2s 359ms/step - loss: 0.0045 - semantic_0_loss: 9.1065e-04 - semantic_1_loss: 0.0026 - semantic_2_loss: 9.0565e-04 - lr: 6.0501e-05\n",
      "Epoch 52/200\n",
      "5/5 [==============================] - ETA: 0s - loss: 0.0044 - semantic_0_loss: 8.6742e-04 - semantic_1_loss: 0.0026 - semantic_2_loss: 9.5435e-04WARNING:tensorflow:Can save best model only with val_loss available, skipping.\n",
      "5/5 [==============================] - 2s 388ms/step - loss: 0.0044 - semantic_0_loss: 8.6742e-04 - semantic_1_loss: 0.0026 - semantic_2_loss: 9.5435e-04 - lr: 5.9896e-05\n",
      "Epoch 53/200\n",
      "5/5 [==============================] - ETA: 0s - loss: 0.0044 - semantic_0_loss: 9.6189e-04 - semantic_1_loss: 0.0026 - semantic_2_loss: 9.2131e-04WARNING:tensorflow:Can save best model only with val_loss available, skipping.\n",
      "5/5 [==============================] - 2s 451ms/step - loss: 0.0044 - semantic_0_loss: 9.6189e-04 - semantic_1_loss: 0.0026 - semantic_2_loss: 9.2131e-04 - lr: 5.9297e-05\n",
      "Epoch 54/200\n",
      "5/5 [==============================] - ETA: 0s - loss: 0.0044 - semantic_0_loss: 8.7170e-04 - semantic_1_loss: 0.0026 - semantic_2_loss: 9.6622e-04WARNING:tensorflow:Can save best model only with val_loss available, skipping.\n",
      "5/5 [==============================] - 2s 389ms/step - loss: 0.0044 - semantic_0_loss: 8.7170e-04 - semantic_1_loss: 0.0026 - semantic_2_loss: 9.6622e-04 - lr: 5.8704e-05\n",
      "Epoch 55/200\n",
      "5/5 [==============================] - ETA: 0s - loss: 0.0044 - semantic_0_loss: 9.4287e-04 - semantic_1_loss: 0.0025 - semantic_2_loss: 9.6416e-04WARNING:tensorflow:Can save best model only with val_loss available, skipping.\n",
      "5/5 [==============================] - 2s 359ms/step - loss: 0.0044 - semantic_0_loss: 9.4287e-04 - semantic_1_loss: 0.0025 - semantic_2_loss: 9.6416e-04 - lr: 5.8117e-05\n",
      "Epoch 56/200\n",
      "5/5 [==============================] - ETA: 0s - loss: 0.0044 - semantic_0_loss: 9.2443e-04 - semantic_1_loss: 0.0026 - semantic_2_loss: 9.3284e-04WARNING:tensorflow:Can save best model only with val_loss available, skipping.\n",
      "5/5 [==============================] - 2s 379ms/step - loss: 0.0044 - semantic_0_loss: 9.2443e-04 - semantic_1_loss: 0.0026 - semantic_2_loss: 9.3284e-04 - lr: 5.7535e-05\n",
      "Epoch 57/200\n",
      "5/5 [==============================] - ETA: 0s - loss: 0.0047 - semantic_0_loss: 8.8144e-04 - semantic_1_loss: 0.0028 - semantic_2_loss: 9.4059e-04WARNING:tensorflow:Can save best model only with val_loss available, skipping.\n",
      "5/5 [==============================] - 2s 386ms/step - loss: 0.0047 - semantic_0_loss: 8.8144e-04 - semantic_1_loss: 0.0028 - semantic_2_loss: 9.4059e-04 - lr: 5.6960e-05\n",
      "Epoch 58/200\n",
      "5/5 [==============================] - ETA: 0s - loss: 0.0039 - semantic_0_loss: 8.2403e-04 - semantic_1_loss: 0.0022 - semantic_2_loss: 8.8487e-04WARNING:tensorflow:Can save best model only with val_loss available, skipping.\n",
      "5/5 [==============================] - 2s 478ms/step - loss: 0.0039 - semantic_0_loss: 8.2403e-04 - semantic_1_loss: 0.0022 - semantic_2_loss: 8.8487e-04 - lr: 5.6391e-05\n",
      "Epoch 59/200\n",
      "5/5 [==============================] - ETA: 0s - loss: 0.0043 - semantic_0_loss: 8.5955e-04 - semantic_1_loss: 0.0025 - semantic_2_loss: 9.1681e-04WARNING:tensorflow:Can save best model only with val_loss available, skipping.\n",
      "5/5 [==============================] - 2s 356ms/step - loss: 0.0043 - semantic_0_loss: 8.5955e-04 - semantic_1_loss: 0.0025 - semantic_2_loss: 9.1681e-04 - lr: 5.5827e-05\n",
      "Epoch 60/200\n",
      "5/5 [==============================] - ETA: 0s - loss: 0.0040 - semantic_0_loss: 8.1752e-04 - semantic_1_loss: 0.0023 - semantic_2_loss: 8.8615e-04WARNING:tensorflow:Can save best model only with val_loss available, skipping.\n",
      "5/5 [==============================] - 2s 478ms/step - loss: 0.0040 - semantic_0_loss: 8.1752e-04 - semantic_1_loss: 0.0023 - semantic_2_loss: 8.8615e-04 - lr: 5.5268e-05\n",
      "Epoch 61/200\n",
      "5/5 [==============================] - ETA: 0s - loss: 0.0041 - semantic_0_loss: 9.0371e-04 - semantic_1_loss: 0.0023 - semantic_2_loss: 8.9386e-04WARNING:tensorflow:Can save best model only with val_loss available, skipping.\n",
      "5/5 [==============================] - 2s 352ms/step - loss: 0.0041 - semantic_0_loss: 9.0371e-04 - semantic_1_loss: 0.0023 - semantic_2_loss: 8.9386e-04 - lr: 5.4716e-05\n",
      "Epoch 62/200\n",
      "5/5 [==============================] - ETA: 0s - loss: 0.0043 - semantic_0_loss: 9.2158e-04 - semantic_1_loss: 0.0025 - semantic_2_loss: 8.9366e-04WARNING:tensorflow:Can save best model only with val_loss available, skipping.\n",
      "5/5 [==============================] - 2s 442ms/step - loss: 0.0043 - semantic_0_loss: 9.2158e-04 - semantic_1_loss: 0.0025 - semantic_2_loss: 8.9366e-04 - lr: 5.4169e-05\n",
      "Epoch 63/200\n",
      "5/5 [==============================] - ETA: 0s - loss: 0.0041 - semantic_0_loss: 8.8556e-04 - semantic_1_loss: 0.0023 - semantic_2_loss: 8.6476e-04WARNING:tensorflow:Can save best model only with val_loss available, skipping.\n",
      "5/5 [==============================] - 2s 451ms/step - loss: 0.0041 - semantic_0_loss: 8.8556e-04 - semantic_1_loss: 0.0023 - semantic_2_loss: 8.6476e-04 - lr: 5.3627e-05\n",
      "Epoch 64/200\n",
      "5/5 [==============================] - ETA: 0s - loss: 0.0044 - semantic_0_loss: 9.2669e-04 - semantic_1_loss: 0.0026 - semantic_2_loss: 9.4284e-04WARNING:tensorflow:Can save best model only with val_loss available, skipping.\n",
      "5/5 [==============================] - 2s 453ms/step - loss: 0.0044 - semantic_0_loss: 9.2669e-04 - semantic_1_loss: 0.0026 - semantic_2_loss: 9.4284e-04 - lr: 5.3091e-05\n",
      "Epoch 65/200\n",
      "5/5 [==============================] - ETA: 0s - loss: 0.0039 - semantic_0_loss: 8.5483e-04 - semantic_1_loss: 0.0022 - semantic_2_loss: 8.8096e-04WARNING:tensorflow:Can save best model only with val_loss available, skipping.\n",
      "5/5 [==============================] - 2s 392ms/step - loss: 0.0039 - semantic_0_loss: 8.5483e-04 - semantic_1_loss: 0.0022 - semantic_2_loss: 8.8096e-04 - lr: 5.2560e-05\n",
      "Epoch 66/200\n",
      "5/5 [==============================] - ETA: 0s - loss: 0.0041 - semantic_0_loss: 8.7870e-04 - semantic_1_loss: 0.0023 - semantic_2_loss: 9.0364e-04WARNING:tensorflow:Can save best model only with val_loss available, skipping.\n",
      "5/5 [==============================] - 2s 363ms/step - loss: 0.0041 - semantic_0_loss: 8.7870e-04 - semantic_1_loss: 0.0023 - semantic_2_loss: 9.0364e-04 - lr: 5.2034e-05\n",
      "Epoch 67/200\n",
      "5/5 [==============================] - ETA: 0s - loss: 0.0042 - semantic_0_loss: 8.9986e-04 - semantic_1_loss: 0.0024 - semantic_2_loss: 8.8781e-04WARNING:tensorflow:Can save best model only with val_loss available, skipping.\n",
      "5/5 [==============================] - 2s 379ms/step - loss: 0.0042 - semantic_0_loss: 8.9986e-04 - semantic_1_loss: 0.0024 - semantic_2_loss: 8.8781e-04 - lr: 5.1514e-05\n",
      "Epoch 68/200\n",
      "5/5 [==============================] - ETA: 0s - loss: 0.0040 - semantic_0_loss: 8.5677e-04 - semantic_1_loss: 0.0022 - semantic_2_loss: 8.8193e-04WARNING:tensorflow:Can save best model only with val_loss available, skipping.\n",
      "5/5 [==============================] - 2s 446ms/step - loss: 0.0040 - semantic_0_loss: 8.5677e-04 - semantic_1_loss: 0.0022 - semantic_2_loss: 8.8193e-04 - lr: 5.0999e-05\n",
      "Epoch 69/200\n",
      "5/5 [==============================] - ETA: 0s - loss: 0.0041 - semantic_0_loss: 9.0182e-04 - semantic_1_loss: 0.0023 - semantic_2_loss: 8.8626e-04WARNING:tensorflow:Can save best model only with val_loss available, skipping.\n",
      "5/5 [==============================] - 2s 383ms/step - loss: 0.0041 - semantic_0_loss: 9.0182e-04 - semantic_1_loss: 0.0023 - semantic_2_loss: 8.8626e-04 - lr: 5.0489e-05\n",
      "Epoch 70/200\n",
      "5/5 [==============================] - ETA: 0s - loss: 0.0043 - semantic_0_loss: 9.2370e-04 - semantic_1_loss: 0.0025 - semantic_2_loss: 9.1323e-04WARNING:tensorflow:Can save best model only with val_loss available, skipping.\n",
      "5/5 [==============================] - 2s 448ms/step - loss: 0.0043 - semantic_0_loss: 9.2370e-04 - semantic_1_loss: 0.0025 - semantic_2_loss: 9.1323e-04 - lr: 4.9984e-05\n",
      "Epoch 71/200\n",
      "5/5 [==============================] - ETA: 0s - loss: 0.0040 - semantic_0_loss: 8.6596e-04 - semantic_1_loss: 0.0023 - semantic_2_loss: 8.4116e-04WARNING:tensorflow:Can save best model only with val_loss available, skipping.\n",
      "5/5 [==============================] - 2s 477ms/step - loss: 0.0040 - semantic_0_loss: 8.6596e-04 - semantic_1_loss: 0.0023 - semantic_2_loss: 8.4116e-04 - lr: 4.9484e-05\n",
      "Epoch 72/200\n",
      "5/5 [==============================] - ETA: 0s - loss: 0.0038 - semantic_0_loss: 8.4810e-04 - semantic_1_loss: 0.0021 - semantic_2_loss: 8.3615e-04WARNING:tensorflow:Can save best model only with val_loss available, skipping.\n",
      "5/5 [==============================] - 2s 374ms/step - loss: 0.0038 - semantic_0_loss: 8.4810e-04 - semantic_1_loss: 0.0021 - semantic_2_loss: 8.3615e-04 - lr: 4.8989e-05\n",
      "Epoch 73/200\n",
      "5/5 [==============================] - ETA: 0s - loss: 0.0041 - semantic_0_loss: 8.8587e-04 - semantic_1_loss: 0.0023 - semantic_2_loss: 8.6172e-04WARNING:tensorflow:Can save best model only with val_loss available, skipping.\n",
      "5/5 [==============================] - 2s 384ms/step - loss: 0.0041 - semantic_0_loss: 8.8587e-04 - semantic_1_loss: 0.0023 - semantic_2_loss: 8.6172e-04 - lr: 4.8499e-05\n",
      "Epoch 74/200\n",
      "5/5 [==============================] - ETA: 0s - loss: 0.0040 - semantic_0_loss: 8.7760e-04 - semantic_1_loss: 0.0023 - semantic_2_loss: 8.7774e-04WARNING:tensorflow:Can save best model only with val_loss available, skipping.\n",
      "5/5 [==============================] - 2s 387ms/step - loss: 0.0040 - semantic_0_loss: 8.7760e-04 - semantic_1_loss: 0.0023 - semantic_2_loss: 8.7774e-04 - lr: 4.8014e-05\n",
      "Epoch 75/200\n",
      "5/5 [==============================] - ETA: 0s - loss: 0.0040 - semantic_0_loss: 8.8496e-04 - semantic_1_loss: 0.0023 - semantic_2_loss: 8.7950e-04WARNING:tensorflow:Can save best model only with val_loss available, skipping.\n",
      "5/5 [==============================] - 2s 476ms/step - loss: 0.0040 - semantic_0_loss: 8.8496e-04 - semantic_1_loss: 0.0023 - semantic_2_loss: 8.7950e-04 - lr: 4.7534e-05\n",
      "Epoch 76/200\n",
      "5/5 [==============================] - ETA: 0s - loss: 0.0040 - semantic_0_loss: 8.9094e-04 - semantic_1_loss: 0.0023 - semantic_2_loss: 8.5476e-04WARNING:tensorflow:Can save best model only with val_loss available, skipping.\n",
      "5/5 [==============================] - 2s 389ms/step - loss: 0.0040 - semantic_0_loss: 8.9094e-04 - semantic_1_loss: 0.0023 - semantic_2_loss: 8.5476e-04 - lr: 4.7059e-05\n",
      "Epoch 77/200\n",
      "5/5 [==============================] - ETA: 0s - loss: 0.0043 - semantic_0_loss: 9.1191e-04 - semantic_1_loss: 0.0025 - semantic_2_loss: 8.8877e-04WARNING:tensorflow:Can save best model only with val_loss available, skipping.\n",
      "5/5 [==============================] - 2s 358ms/step - loss: 0.0043 - semantic_0_loss: 9.1191e-04 - semantic_1_loss: 0.0025 - semantic_2_loss: 8.8877e-04 - lr: 4.6588e-05\n",
      "Epoch 78/200\n",
      "5/5 [==============================] - ETA: 0s - loss: 0.0037 - semantic_0_loss: 8.2182e-04 - semantic_1_loss: 0.0021 - semantic_2_loss: 8.2259e-04WARNING:tensorflow:Can save best model only with val_loss available, skipping.\n",
      "5/5 [==============================] - 2s 482ms/step - loss: 0.0037 - semantic_0_loss: 8.2182e-04 - semantic_1_loss: 0.0021 - semantic_2_loss: 8.2259e-04 - lr: 4.6122e-05\n",
      "Epoch 79/200\n",
      "5/5 [==============================] - ETA: 0s - loss: 0.0041 - semantic_0_loss: 9.2749e-04 - semantic_1_loss: 0.0024 - semantic_2_loss: 8.5661e-04WARNING:tensorflow:Can save best model only with val_loss available, skipping.\n",
      "5/5 [==============================] - 2s 387ms/step - loss: 0.0041 - semantic_0_loss: 9.2749e-04 - semantic_1_loss: 0.0024 - semantic_2_loss: 8.5661e-04 - lr: 4.5661e-05\n",
      "Epoch 80/200\n",
      "5/5 [==============================] - ETA: 0s - loss: 0.0041 - semantic_0_loss: 8.9863e-04 - semantic_1_loss: 0.0024 - semantic_2_loss: 8.6169e-04WARNING:tensorflow:Can save best model only with val_loss available, skipping.\n",
      "5/5 [==============================] - 2s 490ms/step - loss: 0.0041 - semantic_0_loss: 8.9863e-04 - semantic_1_loss: 0.0024 - semantic_2_loss: 8.6169e-04 - lr: 4.5204e-05\n",
      "Epoch 81/200\n",
      "5/5 [==============================] - ETA: 0s - loss: 0.0039 - semantic_0_loss: 8.3279e-04 - semantic_1_loss: 0.0022 - semantic_2_loss: 8.6982e-04WARNING:tensorflow:Can save best model only with val_loss available, skipping.\n",
      "5/5 [==============================] - 2s 362ms/step - loss: 0.0039 - semantic_0_loss: 8.3279e-04 - semantic_1_loss: 0.0022 - semantic_2_loss: 8.6982e-04 - lr: 4.4752e-05\n",
      "Epoch 82/200\n",
      "5/5 [==============================] - ETA: 0s - loss: 0.0041 - semantic_0_loss: 8.8147e-04 - semantic_1_loss: 0.0023 - semantic_2_loss: 8.6624e-04WARNING:tensorflow:Can save best model only with val_loss available, skipping.\n",
      "5/5 [==============================] - 2s 391ms/step - loss: 0.0041 - semantic_0_loss: 8.8147e-04 - semantic_1_loss: 0.0023 - semantic_2_loss: 8.6624e-04 - lr: 4.4305e-05\n",
      "Epoch 83/200\n",
      "5/5 [==============================] - ETA: 0s - loss: 0.0038 - semantic_0_loss: 8.8767e-04 - semantic_1_loss: 0.0021 - semantic_2_loss: 8.1768e-04WARNING:tensorflow:Can save best model only with val_loss available, skipping.\n",
      "5/5 [==============================] - 2s 353ms/step - loss: 0.0038 - semantic_0_loss: 8.8767e-04 - semantic_1_loss: 0.0021 - semantic_2_loss: 8.1768e-04 - lr: 4.3862e-05\n",
      "Epoch 84/200\n",
      "5/5 [==============================] - ETA: 0s - loss: 0.0036 - semantic_0_loss: 7.7706e-04 - semantic_1_loss: 0.0020 - semantic_2_loss: 7.9502e-04WARNING:tensorflow:Can save best model only with val_loss available, skipping.\n",
      "5/5 [==============================] - 2s 378ms/step - loss: 0.0036 - semantic_0_loss: 7.7706e-04 - semantic_1_loss: 0.0020 - semantic_2_loss: 7.9502e-04 - lr: 4.3423e-05\n",
      "Epoch 85/200\n",
      "5/5 [==============================] - ETA: 0s - loss: 0.0041 - semantic_0_loss: 9.0722e-04 - semantic_1_loss: 0.0023 - semantic_2_loss: 8.5353e-04WARNING:tensorflow:Can save best model only with val_loss available, skipping.\n",
      "5/5 [==============================] - 2s 355ms/step - loss: 0.0041 - semantic_0_loss: 9.0722e-04 - semantic_1_loss: 0.0023 - semantic_2_loss: 8.5353e-04 - lr: 4.2989e-05\n",
      "Epoch 86/200\n",
      "5/5 [==============================] - ETA: 0s - loss: 0.0037 - semantic_0_loss: 8.7248e-04 - semantic_1_loss: 0.0021 - semantic_2_loss: 8.0218e-04WARNING:tensorflow:Can save best model only with val_loss available, skipping.\n",
      "5/5 [==============================] - 2s 351ms/step - loss: 0.0037 - semantic_0_loss: 8.7248e-04 - semantic_1_loss: 0.0021 - semantic_2_loss: 8.0218e-04 - lr: 4.2559e-05\n",
      "Epoch 87/200\n",
      "5/5 [==============================] - ETA: 0s - loss: 0.0037 - semantic_0_loss: 8.4833e-04 - semantic_1_loss: 0.0020 - semantic_2_loss: 8.1524e-04WARNING:tensorflow:Can save best model only with val_loss available, skipping.\n",
      "5/5 [==============================] - 2s 482ms/step - loss: 0.0037 - semantic_0_loss: 8.4833e-04 - semantic_1_loss: 0.0020 - semantic_2_loss: 8.1524e-04 - lr: 4.2133e-05\n",
      "Epoch 88/200\n",
      "5/5 [==============================] - ETA: 0s - loss: 0.0036 - semantic_0_loss: 7.9687e-04 - semantic_1_loss: 0.0020 - semantic_2_loss: 8.2694e-04WARNING:tensorflow:Can save best model only with val_loss available, skipping.\n",
      "5/5 [==============================] - 2s 388ms/step - loss: 0.0036 - semantic_0_loss: 7.9687e-04 - semantic_1_loss: 0.0020 - semantic_2_loss: 8.2694e-04 - lr: 4.1712e-05\n",
      "Epoch 89/200\n",
      "5/5 [==============================] - ETA: 0s - loss: 0.0040 - semantic_0_loss: 9.1320e-04 - semantic_1_loss: 0.0023 - semantic_2_loss: 8.4651e-04WARNING:tensorflow:Can save best model only with val_loss available, skipping.\n",
      "5/5 [==============================] - 2s 395ms/step - loss: 0.0040 - semantic_0_loss: 9.1320e-04 - semantic_1_loss: 0.0023 - semantic_2_loss: 8.4651e-04 - lr: 4.1295e-05\n",
      "Epoch 90/200\n",
      "5/5 [==============================] - ETA: 0s - loss: 0.0036 - semantic_0_loss: 8.1989e-04 - semantic_1_loss: 0.0020 - semantic_2_loss: 7.8228e-04WARNING:tensorflow:Can save best model only with val_loss available, skipping.\n",
      "5/5 [==============================] - 2s 475ms/step - loss: 0.0036 - semantic_0_loss: 8.1989e-04 - semantic_1_loss: 0.0020 - semantic_2_loss: 7.8228e-04 - lr: 4.0882e-05\n",
      "Epoch 91/200\n",
      "5/5 [==============================] - ETA: 0s - loss: 0.0036 - semantic_0_loss: 8.2068e-04 - semantic_1_loss: 0.0020 - semantic_2_loss: 8.0734e-04WARNING:tensorflow:Can save best model only with val_loss available, skipping.\n",
      "5/5 [==============================] - 2s 394ms/step - loss: 0.0036 - semantic_0_loss: 8.2068e-04 - semantic_1_loss: 0.0020 - semantic_2_loss: 8.0734e-04 - lr: 4.0473e-05\n",
      "Epoch 92/200\n",
      "5/5 [==============================] - ETA: 0s - loss: 0.0037 - semantic_0_loss: 8.5749e-04 - semantic_1_loss: 0.0021 - semantic_2_loss: 7.9789e-04WARNING:tensorflow:Can save best model only with val_loss available, skipping.\n",
      "5/5 [==============================] - 2s 390ms/step - loss: 0.0037 - semantic_0_loss: 8.5749e-04 - semantic_1_loss: 0.0021 - semantic_2_loss: 7.9789e-04 - lr: 4.0068e-05\n",
      "Epoch 93/200\n",
      "5/5 [==============================] - ETA: 0s - loss: 0.0037 - semantic_0_loss: 8.2515e-04 - semantic_1_loss: 0.0021 - semantic_2_loss: 8.2907e-04WARNING:tensorflow:Can save best model only with val_loss available, skipping.\n",
      "5/5 [==============================] - 2s 351ms/step - loss: 0.0037 - semantic_0_loss: 8.2515e-04 - semantic_1_loss: 0.0021 - semantic_2_loss: 8.2907e-04 - lr: 3.9668e-05\n",
      "Epoch 94/200\n",
      "5/5 [==============================] - ETA: 0s - loss: 0.0040 - semantic_0_loss: 8.7328e-04 - semantic_1_loss: 0.0023 - semantic_2_loss: 8.4293e-04WARNING:tensorflow:Can save best model only with val_loss available, skipping.\n",
      "5/5 [==============================] - 2s 384ms/step - loss: 0.0040 - semantic_0_loss: 8.7328e-04 - semantic_1_loss: 0.0023 - semantic_2_loss: 8.4293e-04 - lr: 3.9271e-05\n",
      "Epoch 95/200\n",
      "5/5 [==============================] - ETA: 0s - loss: 0.0035 - semantic_0_loss: 8.4429e-04 - semantic_1_loss: 0.0019 - semantic_2_loss: 7.9308e-04WARNING:tensorflow:Can save best model only with val_loss available, skipping.\n",
      "5/5 [==============================] - 2s 452ms/step - loss: 0.0035 - semantic_0_loss: 8.4429e-04 - semantic_1_loss: 0.0019 - semantic_2_loss: 7.9308e-04 - lr: 3.8878e-05\n",
      "Epoch 96/200\n",
      "5/5 [==============================] - ETA: 0s - loss: 0.0039 - semantic_0_loss: 9.0059e-04 - semantic_1_loss: 0.0021 - semantic_2_loss: 8.1055e-04WARNING:tensorflow:Can save best model only with val_loss available, skipping.\n",
      "5/5 [==============================] - 2s 470ms/step - loss: 0.0039 - semantic_0_loss: 9.0059e-04 - semantic_1_loss: 0.0021 - semantic_2_loss: 8.1055e-04 - lr: 3.8490e-05\n",
      "Epoch 97/200\n",
      "5/5 [==============================] - ETA: 0s - loss: 0.0035 - semantic_0_loss: 8.2705e-04 - semantic_1_loss: 0.0019 - semantic_2_loss: 7.7625e-04WARNING:tensorflow:Can save best model only with val_loss available, skipping.\n",
      "5/5 [==============================] - 2s 487ms/step - loss: 0.0035 - semantic_0_loss: 8.2705e-04 - semantic_1_loss: 0.0019 - semantic_2_loss: 7.7625e-04 - lr: 3.8105e-05\n",
      "Epoch 98/200\n",
      "5/5 [==============================] - ETA: 0s - loss: 0.0038 - semantic_0_loss: 8.2502e-04 - semantic_1_loss: 0.0022 - semantic_2_loss: 8.2719e-04WARNING:tensorflow:Can save best model only with val_loss available, skipping.\n",
      "5/5 [==============================] - 2s 380ms/step - loss: 0.0038 - semantic_0_loss: 8.2502e-04 - semantic_1_loss: 0.0022 - semantic_2_loss: 8.2719e-04 - lr: 3.7724e-05\n",
      "Epoch 99/200\n",
      "5/5 [==============================] - ETA: 0s - loss: 0.0036 - semantic_0_loss: 8.2366e-04 - semantic_1_loss: 0.0020 - semantic_2_loss: 7.8541e-04WARNING:tensorflow:Can save best model only with val_loss available, skipping.\n",
      "5/5 [==============================] - 2s 362ms/step - loss: 0.0036 - semantic_0_loss: 8.2366e-04 - semantic_1_loss: 0.0020 - semantic_2_loss: 7.8541e-04 - lr: 3.7346e-05\n",
      "Epoch 100/200\n",
      "5/5 [==============================] - ETA: 0s - loss: 0.0037 - semantic_0_loss: 8.4734e-04 - semantic_1_loss: 0.0021 - semantic_2_loss: 7.8156e-04WARNING:tensorflow:Can save best model only with val_loss available, skipping.\n",
      "5/5 [==============================] - 2s 477ms/step - loss: 0.0037 - semantic_0_loss: 8.4734e-04 - semantic_1_loss: 0.0021 - semantic_2_loss: 7.8156e-04 - lr: 3.6973e-05\n",
      "Epoch 101/200\n",
      "5/5 [==============================] - ETA: 0s - loss: 0.0038 - semantic_0_loss: 8.4214e-04 - semantic_1_loss: 0.0021 - semantic_2_loss: 8.0409e-04WARNING:tensorflow:Can save best model only with val_loss available, skipping.\n",
      "5/5 [==============================] - 2s 485ms/step - loss: 0.0038 - semantic_0_loss: 8.4214e-04 - semantic_1_loss: 0.0021 - semantic_2_loss: 8.0409e-04 - lr: 3.6603e-05\n",
      "Epoch 102/200\n",
      "5/5 [==============================] - ETA: 0s - loss: 0.0038 - semantic_0_loss: 8.6842e-04 - semantic_1_loss: 0.0021 - semantic_2_loss: 8.2713e-04WARNING:tensorflow:Can save best model only with val_loss available, skipping.\n",
      "5/5 [==============================] - 2s 484ms/step - loss: 0.0038 - semantic_0_loss: 8.6842e-04 - semantic_1_loss: 0.0021 - semantic_2_loss: 8.2713e-04 - lr: 3.6237e-05\n",
      "Epoch 103/200\n",
      "5/5 [==============================] - ETA: 0s - loss: 0.0039 - semantic_0_loss: 9.1457e-04 - semantic_1_loss: 0.0022 - semantic_2_loss: 8.3172e-04WARNING:tensorflow:Can save best model only with val_loss available, skipping.\n",
      "5/5 [==============================] - 2s 442ms/step - loss: 0.0039 - semantic_0_loss: 9.1457e-04 - semantic_1_loss: 0.0022 - semantic_2_loss: 8.3172e-04 - lr: 3.5875e-05\n",
      "Epoch 104/200\n",
      "5/5 [==============================] - ETA: 0s - loss: 0.0035 - semantic_0_loss: 8.4095e-04 - semantic_1_loss: 0.0019 - semantic_2_loss: 7.7288e-04WARNING:tensorflow:Can save best model only with val_loss available, skipping.\n",
      "5/5 [==============================] - 2s 370ms/step - loss: 0.0035 - semantic_0_loss: 8.4095e-04 - semantic_1_loss: 0.0019 - semantic_2_loss: 7.7288e-04 - lr: 3.5516e-05\n",
      "Epoch 105/200\n",
      "5/5 [==============================] - ETA: 0s - loss: 0.0034 - semantic_0_loss: 7.4108e-04 - semantic_1_loss: 0.0019 - semantic_2_loss: 7.7597e-04WARNING:tensorflow:Can save best model only with val_loss available, skipping.\n",
      "5/5 [==============================] - 2s 479ms/step - loss: 0.0034 - semantic_0_loss: 7.4108e-04 - semantic_1_loss: 0.0019 - semantic_2_loss: 7.7597e-04 - lr: 3.5161e-05\n",
      "Epoch 106/200\n",
      "5/5 [==============================] - ETA: 0s - loss: 0.0039 - semantic_0_loss: 8.5550e-04 - semantic_1_loss: 0.0023 - semantic_2_loss: 8.2703e-04WARNING:tensorflow:Can save best model only with val_loss available, skipping.\n",
      "5/5 [==============================] - 2s 382ms/step - loss: 0.0039 - semantic_0_loss: 8.5550e-04 - semantic_1_loss: 0.0023 - semantic_2_loss: 8.2703e-04 - lr: 3.4809e-05\n",
      "Epoch 107/200\n",
      "5/5 [==============================] - ETA: 0s - loss: 0.0036 - semantic_0_loss: 8.4925e-04 - semantic_1_loss: 0.0020 - semantic_2_loss: 7.8922e-04WARNING:tensorflow:Can save best model only with val_loss available, skipping.\n",
      "5/5 [==============================] - 2s 476ms/step - loss: 0.0036 - semantic_0_loss: 8.4925e-04 - semantic_1_loss: 0.0020 - semantic_2_loss: 7.8922e-04 - lr: 3.4461e-05\n",
      "Epoch 108/200\n",
      "5/5 [==============================] - ETA: 0s - loss: 0.0037 - semantic_0_loss: 8.4308e-04 - semantic_1_loss: 0.0021 - semantic_2_loss: 8.0432e-04WARNING:tensorflow:Can save best model only with val_loss available, skipping.\n",
      "5/5 [==============================] - 2s 355ms/step - loss: 0.0037 - semantic_0_loss: 8.4308e-04 - semantic_1_loss: 0.0021 - semantic_2_loss: 8.0432e-04 - lr: 3.4117e-05\n",
      "Epoch 109/200\n",
      "5/5 [==============================] - ETA: 0s - loss: 0.0038 - semantic_0_loss: 8.8119e-04 - semantic_1_loss: 0.0021 - semantic_2_loss: 8.1330e-04WARNING:tensorflow:Can save best model only with val_loss available, skipping.\n",
      "5/5 [==============================] - 2s 447ms/step - loss: 0.0038 - semantic_0_loss: 8.8119e-04 - semantic_1_loss: 0.0021 - semantic_2_loss: 8.1330e-04 - lr: 3.3775e-05\n",
      "Epoch 110/200\n",
      "5/5 [==============================] - ETA: 0s - loss: 0.0035 - semantic_0_loss: 7.9932e-04 - semantic_1_loss: 0.0019 - semantic_2_loss: 7.7340e-04WARNING:tensorflow:Can save best model only with val_loss available, skipping.\n",
      "5/5 [==============================] - 2s 351ms/step - loss: 0.0035 - semantic_0_loss: 7.9932e-04 - semantic_1_loss: 0.0019 - semantic_2_loss: 7.7340e-04 - lr: 3.3438e-05\n",
      "Epoch 111/200\n",
      "5/5 [==============================] - ETA: 0s - loss: 0.0037 - semantic_0_loss: 8.2233e-04 - semantic_1_loss: 0.0021 - semantic_2_loss: 7.9830e-04WARNING:tensorflow:Can save best model only with val_loss available, skipping.\n",
      "5/5 [==============================] - 2s 476ms/step - loss: 0.0037 - semantic_0_loss: 8.2233e-04 - semantic_1_loss: 0.0021 - semantic_2_loss: 7.9830e-04 - lr: 3.3103e-05\n",
      "Epoch 112/200\n",
      "5/5 [==============================] - ETA: 0s - loss: 0.0036 - semantic_0_loss: 8.2042e-04 - semantic_1_loss: 0.0019 - semantic_2_loss: 7.9372e-04WARNING:tensorflow:Can save best model only with val_loss available, skipping.\n",
      "5/5 [==============================] - 2s 383ms/step - loss: 0.0036 - semantic_0_loss: 8.2042e-04 - semantic_1_loss: 0.0019 - semantic_2_loss: 7.9372e-04 - lr: 3.2772e-05\n",
      "Epoch 113/200\n",
      "5/5 [==============================] - ETA: 0s - loss: 0.0035 - semantic_0_loss: 7.5506e-04 - semantic_1_loss: 0.0019 - semantic_2_loss: 7.6607e-04WARNING:tensorflow:Can save best model only with val_loss available, skipping.\n",
      "5/5 [==============================] - 2s 381ms/step - loss: 0.0035 - semantic_0_loss: 7.5506e-04 - semantic_1_loss: 0.0019 - semantic_2_loss: 7.6607e-04 - lr: 3.2445e-05\n",
      "Epoch 114/200\n",
      "5/5 [==============================] - ETA: 0s - loss: 0.0037 - semantic_0_loss: 8.7856e-04 - semantic_1_loss: 0.0021 - semantic_2_loss: 8.0170e-04WARNING:tensorflow:Can save best model only with val_loss available, skipping.\n",
      "5/5 [==============================] - 2s 387ms/step - loss: 0.0037 - semantic_0_loss: 8.7856e-04 - semantic_1_loss: 0.0021 - semantic_2_loss: 8.0170e-04 - lr: 3.2120e-05\n",
      "Epoch 115/200\n",
      "5/5 [==============================] - ETA: 0s - loss: 0.0036 - semantic_0_loss: 8.2114e-04 - semantic_1_loss: 0.0020 - semantic_2_loss: 7.9801e-04WARNING:tensorflow:Can save best model only with val_loss available, skipping.\n",
      "5/5 [==============================] - 2s 379ms/step - loss: 0.0036 - semantic_0_loss: 8.2114e-04 - semantic_1_loss: 0.0020 - semantic_2_loss: 7.9801e-04 - lr: 3.1799e-05\n",
      "Epoch 116/200\n",
      "5/5 [==============================] - ETA: 0s - loss: 0.0037 - semantic_0_loss: 8.3923e-04 - semantic_1_loss: 0.0020 - semantic_2_loss: 7.9650e-04WARNING:tensorflow:Can save best model only with val_loss available, skipping.\n",
      "5/5 [==============================] - 2s 445ms/step - loss: 0.0037 - semantic_0_loss: 8.3923e-04 - semantic_1_loss: 0.0020 - semantic_2_loss: 7.9650e-04 - lr: 3.1481e-05\n",
      "Epoch 117/200\n",
      "5/5 [==============================] - ETA: 0s - loss: 0.0033 - semantic_0_loss: 7.1840e-04 - semantic_1_loss: 0.0018 - semantic_2_loss: 7.6103e-04WARNING:tensorflow:Can save best model only with val_loss available, skipping.\n",
      "5/5 [==============================] - 2s 361ms/step - loss: 0.0033 - semantic_0_loss: 7.1840e-04 - semantic_1_loss: 0.0018 - semantic_2_loss: 7.6103e-04 - lr: 3.1166e-05\n",
      "Epoch 118/200\n",
      "5/5 [==============================] - ETA: 0s - loss: 0.0037 - semantic_0_loss: 8.0328e-04 - semantic_1_loss: 0.0021 - semantic_2_loss: 8.0275e-04WARNING:tensorflow:Can save best model only with val_loss available, skipping.\n",
      "5/5 [==============================] - 2s 388ms/step - loss: 0.0037 - semantic_0_loss: 8.0328e-04 - semantic_1_loss: 0.0021 - semantic_2_loss: 8.0275e-04 - lr: 3.0854e-05\n",
      "Epoch 119/200\n",
      "5/5 [==============================] - ETA: 0s - loss: 0.0035 - semantic_0_loss: 8.1458e-04 - semantic_1_loss: 0.0019 - semantic_2_loss: 7.6095e-04WARNING:tensorflow:Can save best model only with val_loss available, skipping.\n",
      "5/5 [==============================] - 2s 382ms/step - loss: 0.0035 - semantic_0_loss: 8.1458e-04 - semantic_1_loss: 0.0019 - semantic_2_loss: 7.6095e-04 - lr: 3.0546e-05\n",
      "Epoch 120/200\n",
      "5/5 [==============================] - ETA: 0s - loss: 0.0036 - semantic_0_loss: 7.5317e-04 - semantic_1_loss: 0.0020 - semantic_2_loss: 8.0471e-04WARNING:tensorflow:Can save best model only with val_loss available, skipping.\n",
      "5/5 [==============================] - 2s 381ms/step - loss: 0.0036 - semantic_0_loss: 7.5317e-04 - semantic_1_loss: 0.0020 - semantic_2_loss: 8.0471e-04 - lr: 3.0240e-05\n",
      "Epoch 121/200\n",
      "5/5 [==============================] - ETA: 0s - loss: 0.0036 - semantic_0_loss: 9.0417e-04 - semantic_1_loss: 0.0019 - semantic_2_loss: 7.7775e-04WARNING:tensorflow:Can save best model only with val_loss available, skipping.\n",
      "5/5 [==============================] - 2s 385ms/step - loss: 0.0036 - semantic_0_loss: 9.0417e-04 - semantic_1_loss: 0.0019 - semantic_2_loss: 7.7775e-04 - lr: 2.9938e-05\n",
      "Epoch 122/200\n",
      "5/5 [==============================] - ETA: 0s - loss: 0.0035 - semantic_0_loss: 8.3770e-04 - semantic_1_loss: 0.0019 - semantic_2_loss: 7.6975e-04WARNING:tensorflow:Can save best model only with val_loss available, skipping.\n",
      "5/5 [==============================] - 2s 406ms/step - loss: 0.0035 - semantic_0_loss: 8.3770e-04 - semantic_1_loss: 0.0019 - semantic_2_loss: 7.6975e-04 - lr: 2.9639e-05\n",
      "Epoch 123/200\n",
      "5/5 [==============================] - ETA: 0s - loss: 0.0035 - semantic_0_loss: 8.4492e-04 - semantic_1_loss: 0.0019 - semantic_2_loss: 7.6916e-04WARNING:tensorflow:Can save best model only with val_loss available, skipping.\n",
      "5/5 [==============================] - 2s 392ms/step - loss: 0.0035 - semantic_0_loss: 8.4492e-04 - semantic_1_loss: 0.0019 - semantic_2_loss: 7.6916e-04 - lr: 2.9342e-05\n",
      "Epoch 124/200\n",
      "5/5 [==============================] - ETA: 0s - loss: 0.0034 - semantic_0_loss: 8.4881e-04 - semantic_1_loss: 0.0018 - semantic_2_loss: 7.2752e-04WARNING:tensorflow:Can save best model only with val_loss available, skipping.\n",
      "5/5 [==============================] - 2s 477ms/step - loss: 0.0034 - semantic_0_loss: 8.4881e-04 - semantic_1_loss: 0.0018 - semantic_2_loss: 7.2752e-04 - lr: 2.9049e-05\n",
      "Epoch 125/200\n",
      "5/5 [==============================] - ETA: 0s - loss: 0.0034 - semantic_0_loss: 8.1526e-04 - semantic_1_loss: 0.0018 - semantic_2_loss: 7.6374e-04WARNING:tensorflow:Can save best model only with val_loss available, skipping.\n",
      "5/5 [==============================] - 2s 385ms/step - loss: 0.0034 - semantic_0_loss: 8.1526e-04 - semantic_1_loss: 0.0018 - semantic_2_loss: 7.6374e-04 - lr: 2.8758e-05\n",
      "Epoch 126/200\n",
      "5/5 [==============================] - ETA: 0s - loss: 0.0036 - semantic_0_loss: 8.7563e-04 - semantic_1_loss: 0.0019 - semantic_2_loss: 7.7181e-04WARNING:tensorflow:Can save best model only with val_loss available, skipping.\n",
      "5/5 [==============================] - 2s 385ms/step - loss: 0.0036 - semantic_0_loss: 8.7563e-04 - semantic_1_loss: 0.0019 - semantic_2_loss: 7.7181e-04 - lr: 2.8471e-05\n",
      "Epoch 127/200\n",
      "5/5 [==============================] - ETA: 0s - loss: 0.0035 - semantic_0_loss: 8.0649e-04 - semantic_1_loss: 0.0019 - semantic_2_loss: 7.7149e-04WARNING:tensorflow:Can save best model only with val_loss available, skipping.\n",
      "5/5 [==============================] - 2s 391ms/step - loss: 0.0035 - semantic_0_loss: 8.0649e-04 - semantic_1_loss: 0.0019 - semantic_2_loss: 7.7149e-04 - lr: 2.8186e-05\n",
      "Epoch 128/200\n",
      "5/5 [==============================] - ETA: 0s - loss: 0.0036 - semantic_0_loss: 8.7427e-04 - semantic_1_loss: 0.0019 - semantic_2_loss: 7.7536e-04WARNING:tensorflow:Can save best model only with val_loss available, skipping.\n",
      "5/5 [==============================] - 2s 377ms/step - loss: 0.0036 - semantic_0_loss: 8.7427e-04 - semantic_1_loss: 0.0019 - semantic_2_loss: 7.7536e-04 - lr: 2.7904e-05\n",
      "Epoch 129/200\n",
      "5/5 [==============================] - ETA: 0s - loss: 0.0034 - semantic_0_loss: 8.1867e-04 - semantic_1_loss: 0.0018 - semantic_2_loss: 7.3908e-04WARNING:tensorflow:Can save best model only with val_loss available, skipping.\n",
      "5/5 [==============================] - 2s 454ms/step - loss: 0.0034 - semantic_0_loss: 8.1867e-04 - semantic_1_loss: 0.0018 - semantic_2_loss: 7.3908e-04 - lr: 2.7625e-05\n",
      "Epoch 130/200\n",
      "5/5 [==============================] - ETA: 0s - loss: 0.0033 - semantic_0_loss: 8.0135e-04 - semantic_1_loss: 0.0018 - semantic_2_loss: 7.5948e-04WARNING:tensorflow:Can save best model only with val_loss available, skipping.\n",
      "5/5 [==============================] - 2s 401ms/step - loss: 0.0033 - semantic_0_loss: 8.0135e-04 - semantic_1_loss: 0.0018 - semantic_2_loss: 7.5948e-04 - lr: 2.7349e-05\n",
      "Epoch 131/200\n",
      "5/5 [==============================] - ETA: 0s - loss: 0.0036 - semantic_0_loss: 8.4260e-04 - semantic_1_loss: 0.0019 - semantic_2_loss: 8.2397e-04WARNING:tensorflow:Can save best model only with val_loss available, skipping.\n",
      "5/5 [==============================] - 2s 391ms/step - loss: 0.0036 - semantic_0_loss: 8.4260e-04 - semantic_1_loss: 0.0019 - semantic_2_loss: 8.2397e-04 - lr: 2.7075e-05\n",
      "Epoch 132/200\n",
      "5/5 [==============================] - ETA: 0s - loss: 0.0035 - semantic_0_loss: 8.2276e-04 - semantic_1_loss: 0.0019 - semantic_2_loss: 7.7796e-04WARNING:tensorflow:Can save best model only with val_loss available, skipping.\n",
      "5/5 [==============================] - 2s 385ms/step - loss: 0.0035 - semantic_0_loss: 8.2276e-04 - semantic_1_loss: 0.0019 - semantic_2_loss: 7.7796e-04 - lr: 2.6805e-05\n",
      "Epoch 133/200\n",
      "5/5 [==============================] - ETA: 0s - loss: 0.0034 - semantic_0_loss: 8.0544e-04 - semantic_1_loss: 0.0018 - semantic_2_loss: 7.4931e-04WARNING:tensorflow:Can save best model only with val_loss available, skipping.\n",
      "5/5 [==============================] - 2s 441ms/step - loss: 0.0034 - semantic_0_loss: 8.0544e-04 - semantic_1_loss: 0.0018 - semantic_2_loss: 7.4931e-04 - lr: 2.6537e-05\n",
      "Epoch 134/200\n",
      "5/5 [==============================] - ETA: 0s - loss: 0.0033 - semantic_0_loss: 7.6350e-04 - semantic_1_loss: 0.0018 - semantic_2_loss: 7.6042e-04WARNING:tensorflow:Can save best model only with val_loss available, skipping.\n",
      "5/5 [==============================] - 2s 473ms/step - loss: 0.0033 - semantic_0_loss: 7.6350e-04 - semantic_1_loss: 0.0018 - semantic_2_loss: 7.6042e-04 - lr: 2.6271e-05\n",
      "Epoch 135/200\n",
      "5/5 [==============================] - ETA: 0s - loss: 0.0033 - semantic_0_loss: 7.7482e-04 - semantic_1_loss: 0.0018 - semantic_2_loss: 7.3158e-04WARNING:tensorflow:Can save best model only with val_loss available, skipping.\n",
      "5/5 [==============================] - 2s 476ms/step - loss: 0.0033 - semantic_0_loss: 7.7482e-04 - semantic_1_loss: 0.0018 - semantic_2_loss: 7.3158e-04 - lr: 2.6009e-05\n",
      "Epoch 136/200\n",
      "5/5 [==============================] - ETA: 0s - loss: 0.0036 - semantic_0_loss: 8.4304e-04 - semantic_1_loss: 0.0020 - semantic_2_loss: 7.7379e-04WARNING:tensorflow:Can save best model only with val_loss available, skipping.\n",
      "5/5 [==============================] - 2s 379ms/step - loss: 0.0036 - semantic_0_loss: 8.4304e-04 - semantic_1_loss: 0.0020 - semantic_2_loss: 7.7379e-04 - lr: 2.5748e-05\n",
      "Epoch 137/200\n",
      "5/5 [==============================] - ETA: 0s - loss: 0.0034 - semantic_0_loss: 7.8894e-04 - semantic_1_loss: 0.0018 - semantic_2_loss: 7.6044e-04WARNING:tensorflow:Can save best model only with val_loss available, skipping.\n",
      "5/5 [==============================] - 2s 377ms/step - loss: 0.0034 - semantic_0_loss: 7.8894e-04 - semantic_1_loss: 0.0018 - semantic_2_loss: 7.6044e-04 - lr: 2.5491e-05\n",
      "Epoch 138/200\n",
      "5/5 [==============================] - ETA: 0s - loss: 0.0033 - semantic_0_loss: 8.5183e-04 - semantic_1_loss: 0.0018 - semantic_2_loss: 7.3009e-04WARNING:tensorflow:Can save best model only with val_loss available, skipping.\n",
      "5/5 [==============================] - 2s 383ms/step - loss: 0.0033 - semantic_0_loss: 8.5183e-04 - semantic_1_loss: 0.0018 - semantic_2_loss: 7.3009e-04 - lr: 2.5236e-05\n",
      "Epoch 139/200\n",
      "5/5 [==============================] - ETA: 0s - loss: 0.0033 - semantic_0_loss: 7.6771e-04 - semantic_1_loss: 0.0017 - semantic_2_loss: 7.4057e-04WARNING:tensorflow:Can save best model only with val_loss available, skipping.\n",
      "5/5 [==============================] - 2s 349ms/step - loss: 0.0033 - semantic_0_loss: 7.6771e-04 - semantic_1_loss: 0.0017 - semantic_2_loss: 7.4057e-04 - lr: 2.4984e-05\n",
      "Epoch 140/200\n",
      "5/5 [==============================] - ETA: 0s - loss: 0.0035 - semantic_0_loss: 8.1667e-04 - semantic_1_loss: 0.0019 - semantic_2_loss: 7.5285e-04WARNING:tensorflow:Can save best model only with val_loss available, skipping.\n",
      "5/5 [==============================] - 2s 381ms/step - loss: 0.0035 - semantic_0_loss: 8.1667e-04 - semantic_1_loss: 0.0019 - semantic_2_loss: 7.5285e-04 - lr: 2.4734e-05\n",
      "Epoch 141/200\n",
      "5/5 [==============================] - ETA: 0s - loss: 0.0032 - semantic_0_loss: 7.5725e-04 - semantic_1_loss: 0.0017 - semantic_2_loss: 7.1922e-04WARNING:tensorflow:Can save best model only with val_loss available, skipping.\n",
      "5/5 [==============================] - 2s 384ms/step - loss: 0.0032 - semantic_0_loss: 7.5725e-04 - semantic_1_loss: 0.0017 - semantic_2_loss: 7.1922e-04 - lr: 2.4487e-05\n",
      "Epoch 142/200\n",
      "5/5 [==============================] - ETA: 0s - loss: 0.0035 - semantic_0_loss: 8.2606e-04 - semantic_1_loss: 0.0019 - semantic_2_loss: 7.6840e-04WARNING:tensorflow:Can save best model only with val_loss available, skipping.\n",
      "5/5 [==============================] - 2s 440ms/step - loss: 0.0035 - semantic_0_loss: 8.2606e-04 - semantic_1_loss: 0.0019 - semantic_2_loss: 7.6840e-04 - lr: 2.4242e-05\n",
      "Epoch 143/200\n",
      "5/5 [==============================] - ETA: 0s - loss: 0.0037 - semantic_0_loss: 8.9937e-04 - semantic_1_loss: 0.0020 - semantic_2_loss: 7.7335e-04WARNING:tensorflow:Can save best model only with val_loss available, skipping.\n",
      "5/5 [==============================] - 2s 357ms/step - loss: 0.0037 - semantic_0_loss: 8.9937e-04 - semantic_1_loss: 0.0020 - semantic_2_loss: 7.7335e-04 - lr: 2.3999e-05\n",
      "Epoch 144/200\n",
      "5/5 [==============================] - ETA: 0s - loss: 0.0033 - semantic_0_loss: 8.1465e-04 - semantic_1_loss: 0.0018 - semantic_2_loss: 7.4974e-04WARNING:tensorflow:Can save best model only with val_loss available, skipping.\n",
      "5/5 [==============================] - 2s 447ms/step - loss: 0.0033 - semantic_0_loss: 8.1465e-04 - semantic_1_loss: 0.0018 - semantic_2_loss: 7.4974e-04 - lr: 2.3759e-05\n",
      "Epoch 145/200\n",
      "5/5 [==============================] - ETA: 0s - loss: 0.0035 - semantic_0_loss: 8.0683e-04 - semantic_1_loss: 0.0019 - semantic_2_loss: 7.6486e-04WARNING:tensorflow:Can save best model only with val_loss available, skipping.\n",
      "5/5 [==============================] - 2s 377ms/step - loss: 0.0035 - semantic_0_loss: 8.0683e-04 - semantic_1_loss: 0.0019 - semantic_2_loss: 7.6486e-04 - lr: 2.3522e-05\n",
      "Epoch 146/200\n",
      "5/5 [==============================] - ETA: 0s - loss: 0.0034 - semantic_0_loss: 7.9578e-04 - semantic_1_loss: 0.0019 - semantic_2_loss: 7.4639e-04WARNING:tensorflow:Can save best model only with val_loss available, skipping.\n",
      "5/5 [==============================] - 2s 381ms/step - loss: 0.0034 - semantic_0_loss: 7.9578e-04 - semantic_1_loss: 0.0019 - semantic_2_loss: 7.4639e-04 - lr: 2.3286e-05\n",
      "Epoch 147/200\n",
      "5/5 [==============================] - ETA: 0s - loss: 0.0033 - semantic_0_loss: 7.3655e-04 - semantic_1_loss: 0.0019 - semantic_2_loss: 7.3684e-04WARNING:tensorflow:Can save best model only with val_loss available, skipping.\n",
      "5/5 [==============================] - 2s 387ms/step - loss: 0.0033 - semantic_0_loss: 7.3655e-04 - semantic_1_loss: 0.0019 - semantic_2_loss: 7.3684e-04 - lr: 2.3054e-05\n",
      "Epoch 148/200\n",
      "5/5 [==============================] - ETA: 0s - loss: 0.0037 - semantic_0_loss: 8.8284e-04 - semantic_1_loss: 0.0020 - semantic_2_loss: 8.0278e-04WARNING:tensorflow:Can save best model only with val_loss available, skipping.\n",
      "5/5 [==============================] - 2s 385ms/step - loss: 0.0037 - semantic_0_loss: 8.8284e-04 - semantic_1_loss: 0.0020 - semantic_2_loss: 8.0278e-04 - lr: 2.2823e-05\n",
      "Epoch 149/200\n",
      "5/5 [==============================] - ETA: 0s - loss: 0.0035 - semantic_0_loss: 8.3121e-04 - semantic_1_loss: 0.0019 - semantic_2_loss: 7.6140e-04WARNING:tensorflow:Can save best model only with val_loss available, skipping.\n",
      "5/5 [==============================] - 2s 381ms/step - loss: 0.0035 - semantic_0_loss: 8.3121e-04 - semantic_1_loss: 0.0019 - semantic_2_loss: 7.6140e-04 - lr: 2.2595e-05\n",
      "Epoch 150/200\n",
      "5/5 [==============================] - ETA: 0s - loss: 0.0034 - semantic_0_loss: 8.0270e-04 - semantic_1_loss: 0.0019 - semantic_2_loss: 7.3956e-04WARNING:tensorflow:Can save best model only with val_loss available, skipping.\n",
      "5/5 [==============================] - 2s 384ms/step - loss: 0.0034 - semantic_0_loss: 8.0270e-04 - semantic_1_loss: 0.0019 - semantic_2_loss: 7.3956e-04 - lr: 2.2369e-05\n",
      "Epoch 151/200\n",
      "5/5 [==============================] - ETA: 0s - loss: 0.0036 - semantic_0_loss: 8.3391e-04 - semantic_1_loss: 0.0020 - semantic_2_loss: 7.6177e-04WARNING:tensorflow:Can save best model only with val_loss available, skipping.\n",
      "5/5 [==============================] - 2s 479ms/step - loss: 0.0036 - semantic_0_loss: 8.3391e-04 - semantic_1_loss: 0.0020 - semantic_2_loss: 7.6177e-04 - lr: 2.2145e-05\n",
      "Epoch 152/200\n",
      "5/5 [==============================] - ETA: 0s - loss: 0.0033 - semantic_0_loss: 8.2918e-04 - semantic_1_loss: 0.0017 - semantic_2_loss: 7.3928e-04WARNING:tensorflow:Can save best model only with val_loss available, skipping.\n",
      "5/5 [==============================] - 2s 450ms/step - loss: 0.0033 - semantic_0_loss: 8.2918e-04 - semantic_1_loss: 0.0017 - semantic_2_loss: 7.3928e-04 - lr: 2.1924e-05\n",
      "Epoch 153/200\n",
      "5/5 [==============================] - ETA: 0s - loss: 0.0033 - semantic_0_loss: 7.9640e-04 - semantic_1_loss: 0.0018 - semantic_2_loss: 7.4205e-04WARNING:tensorflow:Can save best model only with val_loss available, skipping.\n",
      "5/5 [==============================] - 2s 480ms/step - loss: 0.0033 - semantic_0_loss: 7.9640e-04 - semantic_1_loss: 0.0018 - semantic_2_loss: 7.4205e-04 - lr: 2.1704e-05\n",
      "Epoch 154/200\n",
      "5/5 [==============================] - ETA: 0s - loss: 0.0032 - semantic_0_loss: 8.0695e-04 - semantic_1_loss: 0.0017 - semantic_2_loss: 7.3790e-04WARNING:tensorflow:Can save best model only with val_loss available, skipping.\n",
      "5/5 [==============================] - 2s 361ms/step - loss: 0.0032 - semantic_0_loss: 8.0695e-04 - semantic_1_loss: 0.0017 - semantic_2_loss: 7.3790e-04 - lr: 2.1487e-05\n",
      "Epoch 155/200\n",
      "5/5 [==============================] - ETA: 0s - loss: 0.0032 - semantic_0_loss: 7.7691e-04 - semantic_1_loss: 0.0016 - semantic_2_loss: 7.3455e-04WARNING:tensorflow:Can save best model only with val_loss available, skipping.\n",
      "5/5 [==============================] - 2s 390ms/step - loss: 0.0032 - semantic_0_loss: 7.7691e-04 - semantic_1_loss: 0.0016 - semantic_2_loss: 7.3455e-04 - lr: 2.1273e-05\n",
      "Epoch 156/200\n",
      "5/5 [==============================] - ETA: 0s - loss: 0.0032 - semantic_0_loss: 7.7461e-04 - semantic_1_loss: 0.0017 - semantic_2_loss: 7.2561e-04WARNING:tensorflow:Can save best model only with val_loss available, skipping.\n",
      "5/5 [==============================] - 2s 448ms/step - loss: 0.0032 - semantic_0_loss: 7.7461e-04 - semantic_1_loss: 0.0017 - semantic_2_loss: 7.2561e-04 - lr: 2.1060e-05\n",
      "Epoch 157/200\n",
      "5/5 [==============================] - ETA: 0s - loss: 0.0037 - semantic_0_loss: 8.6389e-04 - semantic_1_loss: 0.0020 - semantic_2_loss: 7.8307e-04WARNING:tensorflow:Can save best model only with val_loss available, skipping.\n",
      "5/5 [==============================] - 2s 380ms/step - loss: 0.0037 - semantic_0_loss: 8.6389e-04 - semantic_1_loss: 0.0020 - semantic_2_loss: 7.8307e-04 - lr: 2.0849e-05\n",
      "Epoch 158/200\n",
      "5/5 [==============================] - ETA: 0s - loss: 0.0032 - semantic_0_loss: 7.6078e-04 - semantic_1_loss: 0.0017 - semantic_2_loss: 7.1690e-04WARNING:tensorflow:Can save best model only with val_loss available, skipping.\n",
      "5/5 [==============================] - 2s 402ms/step - loss: 0.0032 - semantic_0_loss: 7.6078e-04 - semantic_1_loss: 0.0017 - semantic_2_loss: 7.1690e-04 - lr: 2.0641e-05\n",
      "Epoch 159/200\n",
      "5/5 [==============================] - ETA: 0s - loss: 0.0032 - semantic_0_loss: 7.3096e-04 - semantic_1_loss: 0.0017 - semantic_2_loss: 7.0591e-04WARNING:tensorflow:Can save best model only with val_loss available, skipping.\n",
      "5/5 [==============================] - 2s 479ms/step - loss: 0.0032 - semantic_0_loss: 7.3096e-04 - semantic_1_loss: 0.0017 - semantic_2_loss: 7.0591e-04 - lr: 2.0434e-05\n",
      "Epoch 160/200\n",
      "5/5 [==============================] - ETA: 0s - loss: 0.0031 - semantic_0_loss: 7.7403e-04 - semantic_1_loss: 0.0016 - semantic_2_loss: 7.0984e-04WARNING:tensorflow:Can save best model only with val_loss available, skipping.\n",
      "5/5 [==============================] - 2s 388ms/step - loss: 0.0031 - semantic_0_loss: 7.7403e-04 - semantic_1_loss: 0.0016 - semantic_2_loss: 7.0984e-04 - lr: 2.0230e-05\n",
      "Epoch 161/200\n",
      "5/5 [==============================] - ETA: 0s - loss: 0.0032 - semantic_0_loss: 7.5301e-04 - semantic_1_loss: 0.0017 - semantic_2_loss: 7.5431e-04WARNING:tensorflow:Can save best model only with val_loss available, skipping.\n",
      "5/5 [==============================] - 2s 375ms/step - loss: 0.0032 - semantic_0_loss: 7.5301e-04 - semantic_1_loss: 0.0017 - semantic_2_loss: 7.5431e-04 - lr: 2.0028e-05\n",
      "Epoch 162/200\n",
      "5/5 [==============================] - ETA: 0s - loss: 0.0032 - semantic_0_loss: 7.8263e-04 - semantic_1_loss: 0.0017 - semantic_2_loss: 7.1432e-04WARNING:tensorflow:Can save best model only with val_loss available, skipping.\n",
      "5/5 [==============================] - 2s 359ms/step - loss: 0.0032 - semantic_0_loss: 7.8263e-04 - semantic_1_loss: 0.0017 - semantic_2_loss: 7.1432e-04 - lr: 1.9827e-05\n",
      "Epoch 163/200\n",
      "5/5 [==============================] - ETA: 0s - loss: 0.0033 - semantic_0_loss: 7.6400e-04 - semantic_1_loss: 0.0018 - semantic_2_loss: 7.3598e-04WARNING:tensorflow:Can save best model only with val_loss available, skipping.\n",
      "5/5 [==============================] - 2s 376ms/step - loss: 0.0033 - semantic_0_loss: 7.6400e-04 - semantic_1_loss: 0.0018 - semantic_2_loss: 7.3598e-04 - lr: 1.9629e-05\n",
      "Epoch 164/200\n",
      "5/5 [==============================] - ETA: 0s - loss: 0.0035 - semantic_0_loss: 7.9662e-04 - semantic_1_loss: 0.0019 - semantic_2_loss: 7.8761e-04WARNING:tensorflow:Can save best model only with val_loss available, skipping.\n",
      "5/5 [==============================] - 2s 383ms/step - loss: 0.0035 - semantic_0_loss: 7.9662e-04 - semantic_1_loss: 0.0019 - semantic_2_loss: 7.8761e-04 - lr: 1.9433e-05\n",
      "Epoch 165/200\n",
      "5/5 [==============================] - ETA: 0s - loss: 0.0033 - semantic_0_loss: 7.9055e-04 - semantic_1_loss: 0.0018 - semantic_2_loss: 7.1217e-04WARNING:tensorflow:Can save best model only with val_loss available, skipping.\n",
      "5/5 [==============================] - 2s 352ms/step - loss: 0.0033 - semantic_0_loss: 7.9055e-04 - semantic_1_loss: 0.0018 - semantic_2_loss: 7.1217e-04 - lr: 1.9239e-05\n",
      "Epoch 166/200\n",
      "5/5 [==============================] - ETA: 0s - loss: 0.0036 - semantic_0_loss: 8.3112e-04 - semantic_1_loss: 0.0019 - semantic_2_loss: 7.8691e-04WARNING:tensorflow:Can save best model only with val_loss available, skipping.\n",
      "5/5 [==============================] - 2s 369ms/step - loss: 0.0036 - semantic_0_loss: 8.3112e-04 - semantic_1_loss: 0.0019 - semantic_2_loss: 7.8691e-04 - lr: 1.9046e-05\n",
      "Epoch 167/200\n",
      "5/5 [==============================] - ETA: 0s - loss: 0.0032 - semantic_0_loss: 7.4408e-04 - semantic_1_loss: 0.0017 - semantic_2_loss: 7.3161e-04WARNING:tensorflow:Can save best model only with val_loss available, skipping.\n",
      "5/5 [==============================] - 2s 445ms/step - loss: 0.0032 - semantic_0_loss: 7.4408e-04 - semantic_1_loss: 0.0017 - semantic_2_loss: 7.3161e-04 - lr: 1.8856e-05\n",
      "Epoch 168/200\n",
      "5/5 [==============================] - ETA: 0s - loss: 0.0031 - semantic_0_loss: 7.7540e-04 - semantic_1_loss: 0.0016 - semantic_2_loss: 7.2120e-04WARNING:tensorflow:Can save best model only with val_loss available, skipping.\n",
      "5/5 [==============================] - 2s 384ms/step - loss: 0.0031 - semantic_0_loss: 7.7540e-04 - semantic_1_loss: 0.0016 - semantic_2_loss: 7.2120e-04 - lr: 1.8667e-05\n",
      "Epoch 169/200\n",
      "5/5 [==============================] - ETA: 0s - loss: 0.0031 - semantic_0_loss: 7.5177e-04 - semantic_1_loss: 0.0017 - semantic_2_loss: 6.9598e-04WARNING:tensorflow:Can save best model only with val_loss available, skipping.\n",
      "5/5 [==============================] - 2s 390ms/step - loss: 0.0031 - semantic_0_loss: 7.5177e-04 - semantic_1_loss: 0.0017 - semantic_2_loss: 6.9598e-04 - lr: 1.8480e-05\n",
      "Epoch 170/200\n",
      "5/5 [==============================] - ETA: 0s - loss: 0.0031 - semantic_0_loss: 7.3919e-04 - semantic_1_loss: 0.0016 - semantic_2_loss: 7.1547e-04WARNING:tensorflow:Can save best model only with val_loss available, skipping.\n",
      "5/5 [==============================] - 2s 394ms/step - loss: 0.0031 - semantic_0_loss: 7.3919e-04 - semantic_1_loss: 0.0016 - semantic_2_loss: 7.1547e-04 - lr: 1.8296e-05\n",
      "Epoch 171/200\n",
      "5/5 [==============================] - ETA: 0s - loss: 0.0031 - semantic_0_loss: 7.5557e-04 - semantic_1_loss: 0.0016 - semantic_2_loss: 7.0329e-04WARNING:tensorflow:Can save best model only with val_loss available, skipping.\n",
      "5/5 [==============================] - 2s 358ms/step - loss: 0.0031 - semantic_0_loss: 7.5557e-04 - semantic_1_loss: 0.0016 - semantic_2_loss: 7.0329e-04 - lr: 1.8113e-05\n",
      "Epoch 172/200\n",
      "5/5 [==============================] - ETA: 0s - loss: 0.0031 - semantic_0_loss: 7.4208e-04 - semantic_1_loss: 0.0017 - semantic_2_loss: 7.0770e-04WARNING:tensorflow:Can save best model only with val_loss available, skipping.\n",
      "5/5 [==============================] - 2s 453ms/step - loss: 0.0031 - semantic_0_loss: 7.4208e-04 - semantic_1_loss: 0.0017 - semantic_2_loss: 7.0770e-04 - lr: 1.7932e-05\n",
      "Epoch 173/200\n",
      "5/5 [==============================] - ETA: 0s - loss: 0.0033 - semantic_0_loss: 7.8936e-04 - semantic_1_loss: 0.0018 - semantic_2_loss: 7.2287e-04WARNING:tensorflow:Can save best model only with val_loss available, skipping.\n",
      "5/5 [==============================] - 2s 359ms/step - loss: 0.0033 - semantic_0_loss: 7.8936e-04 - semantic_1_loss: 0.0018 - semantic_2_loss: 7.2287e-04 - lr: 1.7752e-05\n",
      "Epoch 174/200\n",
      "5/5 [==============================] - ETA: 0s - loss: 0.0033 - semantic_0_loss: 8.2673e-04 - semantic_1_loss: 0.0017 - semantic_2_loss: 7.1655e-04WARNING:tensorflow:Can save best model only with val_loss available, skipping.\n",
      "5/5 [==============================] - 2s 381ms/step - loss: 0.0033 - semantic_0_loss: 8.2673e-04 - semantic_1_loss: 0.0017 - semantic_2_loss: 7.1655e-04 - lr: 1.7575e-05\n",
      "Epoch 175/200\n",
      "5/5 [==============================] - ETA: 0s - loss: 0.0033 - semantic_0_loss: 7.8125e-04 - semantic_1_loss: 0.0017 - semantic_2_loss: 7.3794e-04WARNING:tensorflow:Can save best model only with val_loss available, skipping.\n",
      "5/5 [==============================] - 2s 394ms/step - loss: 0.0033 - semantic_0_loss: 7.8125e-04 - semantic_1_loss: 0.0017 - semantic_2_loss: 7.3794e-04 - lr: 1.7399e-05\n",
      "Epoch 176/200\n",
      "5/5 [==============================] - ETA: 0s - loss: 0.0034 - semantic_0_loss: 8.1075e-04 - semantic_1_loss: 0.0019 - semantic_2_loss: 7.5110e-04WARNING:tensorflow:Can save best model only with val_loss available, skipping.\n",
      "5/5 [==============================] - 2s 480ms/step - loss: 0.0034 - semantic_0_loss: 8.1075e-04 - semantic_1_loss: 0.0019 - semantic_2_loss: 7.5110e-04 - lr: 1.7225e-05\n",
      "Epoch 177/200\n",
      "5/5 [==============================] - ETA: 0s - loss: 0.0031 - semantic_0_loss: 7.3755e-04 - semantic_1_loss: 0.0017 - semantic_2_loss: 7.4421e-04WARNING:tensorflow:Can save best model only with val_loss available, skipping.\n",
      "5/5 [==============================] - 2s 477ms/step - loss: 0.0031 - semantic_0_loss: 7.3755e-04 - semantic_1_loss: 0.0017 - semantic_2_loss: 7.4421e-04 - lr: 1.7053e-05\n",
      "Epoch 178/200\n",
      "5/5 [==============================] - ETA: 0s - loss: 0.0033 - semantic_0_loss: 8.2330e-04 - semantic_1_loss: 0.0018 - semantic_2_loss: 7.2003e-04WARNING:tensorflow:Can save best model only with val_loss available, skipping.\n",
      "5/5 [==============================] - 2s 492ms/step - loss: 0.0033 - semantic_0_loss: 8.2330e-04 - semantic_1_loss: 0.0018 - semantic_2_loss: 7.2003e-04 - lr: 1.6882e-05\n",
      "Epoch 179/200\n",
      "5/5 [==============================] - ETA: 0s - loss: 0.0035 - semantic_0_loss: 8.6143e-04 - semantic_1_loss: 0.0019 - semantic_2_loss: 7.4926e-04WARNING:tensorflow:Can save best model only with val_loss available, skipping.\n",
      "5/5 [==============================] - 2s 484ms/step - loss: 0.0035 - semantic_0_loss: 8.6143e-04 - semantic_1_loss: 0.0019 - semantic_2_loss: 7.4926e-04 - lr: 1.6713e-05\n",
      "Epoch 180/200\n",
      "5/5 [==============================] - ETA: 0s - loss: 0.0032 - semantic_0_loss: 7.9746e-04 - semantic_1_loss: 0.0017 - semantic_2_loss: 7.0530e-04WARNING:tensorflow:Can save best model only with val_loss available, skipping.\n",
      "5/5 [==============================] - 2s 359ms/step - loss: 0.0032 - semantic_0_loss: 7.9746e-04 - semantic_1_loss: 0.0017 - semantic_2_loss: 7.0530e-04 - lr: 1.6546e-05\n",
      "Epoch 181/200\n",
      "5/5 [==============================] - ETA: 0s - loss: 0.0034 - semantic_0_loss: 8.4540e-04 - semantic_1_loss: 0.0018 - semantic_2_loss: 7.3750e-04WARNING:tensorflow:Can save best model only with val_loss available, skipping.\n",
      "5/5 [==============================] - 2s 480ms/step - loss: 0.0034 - semantic_0_loss: 8.4540e-04 - semantic_1_loss: 0.0018 - semantic_2_loss: 7.3750e-04 - lr: 1.6381e-05\n",
      "Epoch 182/200\n",
      "5/5 [==============================] - ETA: 0s - loss: 0.0032 - semantic_0_loss: 8.0199e-04 - semantic_1_loss: 0.0017 - semantic_2_loss: 7.2278e-04WARNING:tensorflow:Can save best model only with val_loss available, skipping.\n",
      "5/5 [==============================] - 2s 481ms/step - loss: 0.0032 - semantic_0_loss: 8.0199e-04 - semantic_1_loss: 0.0017 - semantic_2_loss: 7.2278e-04 - lr: 1.6217e-05\n",
      "Epoch 183/200\n",
      "5/5 [==============================] - ETA: 0s - loss: 0.0032 - semantic_0_loss: 7.8256e-04 - semantic_1_loss: 0.0017 - semantic_2_loss: 7.1483e-04WARNING:tensorflow:Can save best model only with val_loss available, skipping.\n",
      "5/5 [==============================] - 2s 485ms/step - loss: 0.0032 - semantic_0_loss: 7.8256e-04 - semantic_1_loss: 0.0017 - semantic_2_loss: 7.1483e-04 - lr: 1.6055e-05\n",
      "Epoch 184/200\n",
      "5/5 [==============================] - ETA: 0s - loss: 0.0034 - semantic_0_loss: 8.0420e-04 - semantic_1_loss: 0.0019 - semantic_2_loss: 7.6417e-04WARNING:tensorflow:Can save best model only with val_loss available, skipping.\n",
      "5/5 [==============================] - 2s 358ms/step - loss: 0.0034 - semantic_0_loss: 8.0420e-04 - semantic_1_loss: 0.0019 - semantic_2_loss: 7.6417e-04 - lr: 1.5894e-05\n",
      "Epoch 185/200\n",
      "5/5 [==============================] - ETA: 0s - loss: 0.0031 - semantic_0_loss: 7.8090e-04 - semantic_1_loss: 0.0016 - semantic_2_loss: 7.1890e-04WARNING:tensorflow:Can save best model only with val_loss available, skipping.\n",
      "5/5 [==============================] - 2s 486ms/step - loss: 0.0031 - semantic_0_loss: 7.8090e-04 - semantic_1_loss: 0.0016 - semantic_2_loss: 7.1890e-04 - lr: 1.5735e-05\n",
      "Epoch 186/200\n",
      "5/5 [==============================] - ETA: 0s - loss: 0.0029 - semantic_0_loss: 6.8511e-04 - semantic_1_loss: 0.0016 - semantic_2_loss: 7.0538e-04WARNING:tensorflow:Can save best model only with val_loss available, skipping.\n",
      "5/5 [==============================] - 2s 477ms/step - loss: 0.0029 - semantic_0_loss: 6.8511e-04 - semantic_1_loss: 0.0016 - semantic_2_loss: 7.0538e-04 - lr: 1.5578e-05\n",
      "Epoch 187/200\n",
      "5/5 [==============================] - ETA: 0s - loss: 0.0032 - semantic_0_loss: 7.7853e-04 - semantic_1_loss: 0.0018 - semantic_2_loss: 7.0532e-04WARNING:tensorflow:Can save best model only with val_loss available, skipping.\n",
      "5/5 [==============================] - 2s 385ms/step - loss: 0.0032 - semantic_0_loss: 7.7853e-04 - semantic_1_loss: 0.0018 - semantic_2_loss: 7.0532e-04 - lr: 1.5422e-05\n",
      "Epoch 188/200\n",
      "5/5 [==============================] - ETA: 0s - loss: 0.0031 - semantic_0_loss: 8.0792e-04 - semantic_1_loss: 0.0016 - semantic_2_loss: 7.0901e-04WARNING:tensorflow:Can save best model only with val_loss available, skipping.\n",
      "5/5 [==============================] - 2s 357ms/step - loss: 0.0031 - semantic_0_loss: 8.0792e-04 - semantic_1_loss: 0.0016 - semantic_2_loss: 7.0901e-04 - lr: 1.5268e-05\n",
      "Epoch 189/200\n",
      "5/5 [==============================] - ETA: 0s - loss: 0.0033 - semantic_0_loss: 8.0322e-04 - semantic_1_loss: 0.0017 - semantic_2_loss: 7.0335e-04WARNING:tensorflow:Can save best model only with val_loss available, skipping.\n",
      "5/5 [==============================] - 2s 353ms/step - loss: 0.0033 - semantic_0_loss: 8.0322e-04 - semantic_1_loss: 0.0017 - semantic_2_loss: 7.0335e-04 - lr: 1.5115e-05\n",
      "Epoch 190/200\n",
      "5/5 [==============================] - ETA: 0s - loss: 0.0032 - semantic_0_loss: 8.0901e-04 - semantic_1_loss: 0.0017 - semantic_2_loss: 7.3585e-04WARNING:tensorflow:Can save best model only with val_loss available, skipping.\n",
      "5/5 [==============================] - 2s 454ms/step - loss: 0.0032 - semantic_0_loss: 8.0901e-04 - semantic_1_loss: 0.0017 - semantic_2_loss: 7.3585e-04 - lr: 1.4964e-05\n",
      "Epoch 191/200\n",
      "5/5 [==============================] - ETA: 0s - loss: 0.0033 - semantic_0_loss: 8.4437e-04 - semantic_1_loss: 0.0018 - semantic_2_loss: 7.2481e-04WARNING:tensorflow:Can save best model only with val_loss available, skipping.\n",
      "5/5 [==============================] - 2s 387ms/step - loss: 0.0033 - semantic_0_loss: 8.4437e-04 - semantic_1_loss: 0.0018 - semantic_2_loss: 7.2481e-04 - lr: 1.4814e-05\n",
      "Epoch 192/200\n",
      "5/5 [==============================] - ETA: 0s - loss: 0.0034 - semantic_0_loss: 8.0334e-04 - semantic_1_loss: 0.0018 - semantic_2_loss: 7.3828e-04WARNING:tensorflow:Can save best model only with val_loss available, skipping.\n",
      "5/5 [==============================] - 2s 361ms/step - loss: 0.0034 - semantic_0_loss: 8.0334e-04 - semantic_1_loss: 0.0018 - semantic_2_loss: 7.3828e-04 - lr: 1.4666e-05\n",
      "Epoch 193/200\n",
      "5/5 [==============================] - ETA: 0s - loss: 0.0031 - semantic_0_loss: 7.7910e-04 - semantic_1_loss: 0.0016 - semantic_2_loss: 6.9813e-04WARNING:tensorflow:Can save best model only with val_loss available, skipping.\n",
      "5/5 [==============================] - 2s 479ms/step - loss: 0.0031 - semantic_0_loss: 7.7910e-04 - semantic_1_loss: 0.0016 - semantic_2_loss: 6.9813e-04 - lr: 1.4520e-05\n",
      "Epoch 194/200\n",
      "5/5 [==============================] - ETA: 0s - loss: 0.0030 - semantic_0_loss: 7.5008e-04 - semantic_1_loss: 0.0016 - semantic_2_loss: 6.8276e-04WARNING:tensorflow:Can save best model only with val_loss available, skipping.\n",
      "5/5 [==============================] - 2s 447ms/step - loss: 0.0030 - semantic_0_loss: 7.5008e-04 - semantic_1_loss: 0.0016 - semantic_2_loss: 6.8276e-04 - lr: 1.4374e-05\n",
      "Epoch 195/200\n",
      "5/5 [==============================] - ETA: 0s - loss: 0.0032 - semantic_0_loss: 7.7741e-04 - semantic_1_loss: 0.0017 - semantic_2_loss: 7.1153e-04WARNING:tensorflow:Can save best model only with val_loss available, skipping.\n",
      "5/5 [==============================] - 2s 393ms/step - loss: 0.0032 - semantic_0_loss: 7.7741e-04 - semantic_1_loss: 0.0017 - semantic_2_loss: 7.1153e-04 - lr: 1.4231e-05\n",
      "Epoch 196/200\n",
      "5/5 [==============================] - ETA: 0s - loss: 0.0033 - semantic_0_loss: 8.3210e-04 - semantic_1_loss: 0.0017 - semantic_2_loss: 7.2678e-04WARNING:tensorflow:Can save best model only with val_loss available, skipping.\n",
      "5/5 [==============================] - 2s 390ms/step - loss: 0.0033 - semantic_0_loss: 8.3210e-04 - semantic_1_loss: 0.0017 - semantic_2_loss: 7.2678e-04 - lr: 1.4088e-05\n",
      "Epoch 197/200\n",
      "5/5 [==============================] - ETA: 0s - loss: 0.0033 - semantic_0_loss: 8.2313e-04 - semantic_1_loss: 0.0018 - semantic_2_loss: 7.4168e-04WARNING:tensorflow:Can save best model only with val_loss available, skipping.\n",
      "5/5 [==============================] - 2s 383ms/step - loss: 0.0033 - semantic_0_loss: 8.2313e-04 - semantic_1_loss: 0.0018 - semantic_2_loss: 7.4168e-04 - lr: 1.3948e-05\n",
      "Epoch 198/200\n",
      "5/5 [==============================] - ETA: 0s - loss: 0.0031 - semantic_0_loss: 8.1342e-04 - semantic_1_loss: 0.0016 - semantic_2_loss: 6.8835e-04WARNING:tensorflow:Can save best model only with val_loss available, skipping.\n",
      "5/5 [==============================] - 2s 382ms/step - loss: 0.0031 - semantic_0_loss: 8.1342e-04 - semantic_1_loss: 0.0016 - semantic_2_loss: 6.8835e-04 - lr: 1.3808e-05\n",
      "Epoch 199/200\n",
      "5/5 [==============================] - ETA: 0s - loss: 0.0035 - semantic_0_loss: 7.9349e-04 - semantic_1_loss: 0.0020 - semantic_2_loss: 7.0538e-04WARNING:tensorflow:Can save best model only with val_loss available, skipping.\n",
      "5/5 [==============================] - 2s 384ms/step - loss: 0.0035 - semantic_0_loss: 7.9349e-04 - semantic_1_loss: 0.0020 - semantic_2_loss: 7.0538e-04 - lr: 1.3670e-05\n",
      "Epoch 200/200\n",
      "5/5 [==============================] - ETA: 0s - loss: 0.0032 - semantic_0_loss: 7.5148e-04 - semantic_1_loss: 0.0017 - semantic_2_loss: 7.1809e-04WARNING:tensorflow:Can save best model only with val_loss available, skipping.\n",
      "5/5 [==============================] - 2s 382ms/step - loss: 0.0032 - semantic_0_loss: 7.5148e-04 - semantic_1_loss: 0.0017 - semantic_2_loss: 7.1809e-04 - lr: 1.3533e-05\n",
      "/home/yfong/deeplearning/dense_cell_segmentation\n",
      "['M926910_CFL_Position7_CD3_test_img.png', 'M872956_JML_Position10_CD3_test_img.png', 'M872956_JML_Position8_CD8_test_img.png', 'M926910_CFL_Position13_CD3_test_img.png', 'M872956_JML_Position8_CD3_test_img.png', 'M872956_JML_Position8_CD4_test_img.png', 'M872956_JML_Position9_CD3_test_img.png']\n",
      "M926910_CFL_Position7_CD3_test_img.png\n"
     ]
    },
    {
     "name": "stderr",
     "output_type": "stream",
     "text": [
      "/app/software/DeepCell/0.11.1-foss-2021b-CUDA-11.4.1/lib/python3.9/site-packages/deepcell_toolbox/deep_watershed.py:179: FutureWarning: `selem` is a deprecated argument name for `h_maxima`. It will be removed in version 1.0.Please use `footprint` instead.\n",
      "  markers = h_maxima(image=maxima,\n"
     ]
    },
    {
     "name": "stdout",
     "output_type": "stream",
     "text": [
      "M872956_JML_Position10_CD3_test_img.png\n",
      "M872956_JML_Position8_CD8_test_img.png\n",
      "M926910_CFL_Position13_CD3_test_img.png\n",
      "M872956_JML_Position8_CD3_test_img.png\n",
      "M872956_JML_Position8_CD4_test_img.png\n",
      "M872956_JML_Position9_CD3_test_img.png\n",
      "[[0.1125, 0.21129326047358835], [0.08964143426294821, 0.2123015873015873], [0.2737430167597765, 0.4117647058823529], [0.10479041916167664, 0.1786743515850144], [0.1534090909090909, 0.30177514792899407], [0.29213483146067415, 0.421195652173913], [0.12072892938496584, 0.20361990950226244]]\n",
      "                                         0         1         2\n",
      "0   M926910_CFL_Position7_CD3_test_img.png    0.1125  0.211293\n",
      "1  M872956_JML_Position10_CD3_test_img.png  0.089641  0.212302\n",
      "2   M872956_JML_Position8_CD8_test_img.png  0.273743  0.411765\n",
      "3  M926910_CFL_Position13_CD3_test_img.png   0.10479  0.178674\n",
      "4   M872956_JML_Position8_CD3_test_img.png  0.153409  0.301775\n",
      "5   M872956_JML_Position8_CD4_test_img.png  0.292135  0.421196\n",
      "6   M872956_JML_Position9_CD3_test_img.png  0.120729   0.20362\n",
      "2\n",
      "(2, 1040, 1159, 1)\n",
      "(2, 1040, 1159, 1)\n",
      "3.0769230769230766\n",
      "(2, 3199, 3566, 1)\n",
      "(2, 3199, 3566, 1)\n",
      "(2, 3199, 3566, 1)\n",
      "(2, 3199, 3566, 1)\n",
      "[0, 400, 800, 1200, 2687]\n",
      "[512, 912, 1312, 1712, 3199]\n",
      "[0, 512, 1024, 1536, 3054]\n",
      "[512, 1024, 1536, 2048, 3566]\n",
      "(50, 512, 512, 1)\n",
      "(50, 512, 512, 1)\n",
      "WARNING:tensorflow:Removing 8 of 50 images with fewer than 5 objects.\n"
     ]
    },
    {
     "name": "stderr",
     "output_type": "stream",
     "text": [
      "WARNING:tensorflow:Removing 8 of 50 images with fewer than 5 objects.\n",
      "/app/software/TensorFlow/2.7.1-foss-2021b-CUDA-11.4.1/lib/python3.9/site-packages/keras/optimizer_v2/adam.py:105: UserWarning: The `lr` argument is deprecated, use `learning_rate` instead.\n",
      "  super(Adam, self).__init__(name, **kwargs)\n"
     ]
    },
    {
     "name": "stdout",
     "output_type": "stream",
     "text": [
      "Training on 3 GPUs.\n"
     ]
    },
    {
     "name": "stderr",
     "output_type": "stream",
     "text": [
      "2022-11-11 19:26:09.118850: I tensorflow/core/common_runtime/gpu/gpu_device.cc:1525] Created device /device:GPU:0 with 14657 MB memory:  -> device: 0, name: Tesla V100-PCIE-16GB, pci bus id: 0000:04:00.0, compute capability: 7.0\n",
      "2022-11-11 19:26:09.119813: I tensorflow/core/common_runtime/gpu/gpu_device.cc:1525] Created device /device:GPU:1 with 14657 MB memory:  -> device: 1, name: Tesla V100-PCIE-16GB, pci bus id: 0000:06:00.0, compute capability: 7.0\n",
      "2022-11-11 19:26:09.120733: I tensorflow/core/common_runtime/gpu/gpu_device.cc:1525] Created device /device:GPU:2 with 14657 MB memory:  -> device: 2, name: Tesla V100-PCIE-16GB, pci bus id: 0000:08:00.0, compute capability: 7.0\n"
     ]
    },
    {
     "name": "stdout",
     "output_type": "stream",
     "text": [
      "Epoch 1/200\n",
      "10/10 [==============================] - ETA: 0s - loss: 0.0202 - semantic_0_loss: 0.0034 - semantic_1_loss: 0.0141 - semantic_2_loss: 0.0027WARNING:tensorflow:Can save best model only with val_loss available, skipping.\n"
     ]
    },
    {
     "name": "stderr",
     "output_type": "stream",
     "text": [
      "WARNING:tensorflow:Can save best model only with val_loss available, skipping.\n"
     ]
    },
    {
     "name": "stdout",
     "output_type": "stream",
     "text": [
      "10/10 [==============================] - 23s 962ms/step - loss: 0.0202 - semantic_0_loss: 0.0034 - semantic_1_loss: 0.0141 - semantic_2_loss: 0.0027 - lr: 1.0000e-04\n",
      "Epoch 2/200\n",
      "10/10 [==============================] - ETA: 0s - loss: 0.0136 - semantic_0_loss: 0.0023 - semantic_1_loss: 0.0093 - semantic_2_loss: 0.0020WARNING:tensorflow:Can save best model only with val_loss available, skipping.\n"
     ]
    },
    {
     "name": "stderr",
     "output_type": "stream",
     "text": [
      "WARNING:tensorflow:Can save best model only with val_loss available, skipping.\n"
     ]
    },
    {
     "name": "stdout",
     "output_type": "stream",
     "text": [
      "10/10 [==============================] - 5s 469ms/step - loss: 0.0136 - semantic_0_loss: 0.0023 - semantic_1_loss: 0.0093 - semantic_2_loss: 0.0020 - lr: 9.9000e-05\n",
      "Epoch 3/200\n",
      "10/10 [==============================] - ETA: 0s - loss: 0.0138 - semantic_0_loss: 0.0024 - semantic_1_loss: 0.0096 - semantic_2_loss: 0.0019WARNING:tensorflow:Can save best model only with val_loss available, skipping.\n"
     ]
    },
    {
     "name": "stderr",
     "output_type": "stream",
     "text": [
      "WARNING:tensorflow:Can save best model only with val_loss available, skipping.\n"
     ]
    },
    {
     "name": "stdout",
     "output_type": "stream",
     "text": [
      "10/10 [==============================] - 5s 457ms/step - loss: 0.0138 - semantic_0_loss: 0.0024 - semantic_1_loss: 0.0096 - semantic_2_loss: 0.0019 - lr: 9.8010e-05\n",
      "Epoch 4/200\n",
      "10/10 [==============================] - ETA: 0s - loss: 0.0138 - semantic_0_loss: 0.0024 - semantic_1_loss: 0.0096 - semantic_2_loss: 0.0019WARNING:tensorflow:Can save best model only with val_loss available, skipping.\n"
     ]
    },
    {
     "name": "stderr",
     "output_type": "stream",
     "text": [
      "WARNING:tensorflow:Can save best model only with val_loss available, skipping.\n"
     ]
    },
    {
     "name": "stdout",
     "output_type": "stream",
     "text": [
      "10/10 [==============================] - 5s 454ms/step - loss: 0.0138 - semantic_0_loss: 0.0024 - semantic_1_loss: 0.0096 - semantic_2_loss: 0.0019 - lr: 9.7030e-05\n",
      "Epoch 5/200\n",
      "10/10 [==============================] - ETA: 0s - loss: 0.0132 - semantic_0_loss: 0.0023 - semantic_1_loss: 0.0091 - semantic_2_loss: 0.0018WARNING:tensorflow:Can save best model only with val_loss available, skipping.\n"
     ]
    },
    {
     "name": "stderr",
     "output_type": "stream",
     "text": [
      "WARNING:tensorflow:Can save best model only with val_loss available, skipping.\n"
     ]
    },
    {
     "name": "stdout",
     "output_type": "stream",
     "text": [
      "10/10 [==============================] - 5s 458ms/step - loss: 0.0132 - semantic_0_loss: 0.0023 - semantic_1_loss: 0.0091 - semantic_2_loss: 0.0018 - lr: 9.6060e-05\n",
      "Epoch 6/200\n",
      "10/10 [==============================] - ETA: 0s - loss: 0.0121 - semantic_0_loss: 0.0021 - semantic_1_loss: 0.0083 - semantic_2_loss: 0.0016WARNING:tensorflow:Can save best model only with val_loss available, skipping.\n"
     ]
    },
    {
     "name": "stderr",
     "output_type": "stream",
     "text": [
      "WARNING:tensorflow:Can save best model only with val_loss available, skipping.\n"
     ]
    },
    {
     "name": "stdout",
     "output_type": "stream",
     "text": [
      "10/10 [==============================] - 5s 457ms/step - loss: 0.0121 - semantic_0_loss: 0.0021 - semantic_1_loss: 0.0083 - semantic_2_loss: 0.0016 - lr: 9.5099e-05\n",
      "Epoch 7/200\n",
      "10/10 [==============================] - ETA: 0s - loss: 0.0126 - semantic_0_loss: 0.0023 - semantic_1_loss: 0.0087 - semantic_2_loss: 0.0016WARNING:tensorflow:Can save best model only with val_loss available, skipping.\n"
     ]
    },
    {
     "name": "stderr",
     "output_type": "stream",
     "text": [
      "WARNING:tensorflow:Can save best model only with val_loss available, skipping.\n"
     ]
    },
    {
     "name": "stdout",
     "output_type": "stream",
     "text": [
      "10/10 [==============================] - 5s 459ms/step - loss: 0.0126 - semantic_0_loss: 0.0023 - semantic_1_loss: 0.0087 - semantic_2_loss: 0.0016 - lr: 9.4148e-05\n",
      "Epoch 8/200\n",
      "10/10 [==============================] - ETA: 0s - loss: 0.0115 - semantic_0_loss: 0.0021 - semantic_1_loss: 0.0078 - semantic_2_loss: 0.0016WARNING:tensorflow:Can save best model only with val_loss available, skipping.\n"
     ]
    },
    {
     "name": "stderr",
     "output_type": "stream",
     "text": [
      "WARNING:tensorflow:Can save best model only with val_loss available, skipping.\n"
     ]
    },
    {
     "name": "stdout",
     "output_type": "stream",
     "text": [
      "10/10 [==============================] - 5s 492ms/step - loss: 0.0115 - semantic_0_loss: 0.0021 - semantic_1_loss: 0.0078 - semantic_2_loss: 0.0016 - lr: 9.3207e-05\n",
      "Epoch 9/200\n",
      "10/10 [==============================] - ETA: 0s - loss: 0.0119 - semantic_0_loss: 0.0021 - semantic_1_loss: 0.0082 - semantic_2_loss: 0.0016WARNING:tensorflow:Can save best model only with val_loss available, skipping.\n"
     ]
    },
    {
     "name": "stderr",
     "output_type": "stream",
     "text": [
      "WARNING:tensorflow:Can save best model only with val_loss available, skipping.\n"
     ]
    },
    {
     "name": "stdout",
     "output_type": "stream",
     "text": [
      "10/10 [==============================] - 5s 455ms/step - loss: 0.0119 - semantic_0_loss: 0.0021 - semantic_1_loss: 0.0082 - semantic_2_loss: 0.0016 - lr: 9.2274e-05\n",
      "Epoch 10/200\n",
      "10/10 [==============================] - ETA: 0s - loss: 0.0121 - semantic_0_loss: 0.0021 - semantic_1_loss: 0.0083 - semantic_2_loss: 0.0016WARNING:tensorflow:Can save best model only with val_loss available, skipping.\n"
     ]
    },
    {
     "name": "stderr",
     "output_type": "stream",
     "text": [
      "WARNING:tensorflow:Can save best model only with val_loss available, skipping.\n"
     ]
    },
    {
     "name": "stdout",
     "output_type": "stream",
     "text": [
      "10/10 [==============================] - 5s 463ms/step - loss: 0.0121 - semantic_0_loss: 0.0021 - semantic_1_loss: 0.0083 - semantic_2_loss: 0.0016 - lr: 9.1352e-05\n",
      "Epoch 11/200\n",
      "10/10 [==============================] - ETA: 0s - loss: 0.0111 - semantic_0_loss: 0.0021 - semantic_1_loss: 0.0075 - semantic_2_loss: 0.0015WARNING:tensorflow:Can save best model only with val_loss available, skipping.\n"
     ]
    },
    {
     "name": "stderr",
     "output_type": "stream",
     "text": [
      "WARNING:tensorflow:Can save best model only with val_loss available, skipping.\n"
     ]
    },
    {
     "name": "stdout",
     "output_type": "stream",
     "text": [
      "10/10 [==============================] - 5s 457ms/step - loss: 0.0111 - semantic_0_loss: 0.0021 - semantic_1_loss: 0.0075 - semantic_2_loss: 0.0015 - lr: 9.0438e-05\n",
      "Epoch 12/200\n",
      "10/10 [==============================] - ETA: 0s - loss: 0.0113 - semantic_0_loss: 0.0020 - semantic_1_loss: 0.0077 - semantic_2_loss: 0.0016WARNING:tensorflow:Can save best model only with val_loss available, skipping.\n"
     ]
    },
    {
     "name": "stderr",
     "output_type": "stream",
     "text": [
      "WARNING:tensorflow:Can save best model only with val_loss available, skipping.\n"
     ]
    },
    {
     "name": "stdout",
     "output_type": "stream",
     "text": [
      "10/10 [==============================] - 5s 450ms/step - loss: 0.0113 - semantic_0_loss: 0.0020 - semantic_1_loss: 0.0077 - semantic_2_loss: 0.0016 - lr: 8.9534e-05\n",
      "Epoch 13/200\n",
      "10/10 [==============================] - ETA: 0s - loss: 0.0117 - semantic_0_loss: 0.0021 - semantic_1_loss: 0.0081 - semantic_2_loss: 0.0016WARNING:tensorflow:Can save best model only with val_loss available, skipping.\n"
     ]
    },
    {
     "name": "stderr",
     "output_type": "stream",
     "text": [
      "WARNING:tensorflow:Can save best model only with val_loss available, skipping.\n"
     ]
    },
    {
     "name": "stdout",
     "output_type": "stream",
     "text": [
      "10/10 [==============================] - 5s 464ms/step - loss: 0.0117 - semantic_0_loss: 0.0021 - semantic_1_loss: 0.0081 - semantic_2_loss: 0.0016 - lr: 8.8638e-05\n",
      "Epoch 14/200\n",
      "10/10 [==============================] - ETA: 0s - loss: 0.0117 - semantic_0_loss: 0.0021 - semantic_1_loss: 0.0080 - semantic_2_loss: 0.0015WARNING:tensorflow:Can save best model only with val_loss available, skipping.\n"
     ]
    },
    {
     "name": "stderr",
     "output_type": "stream",
     "text": [
      "WARNING:tensorflow:Can save best model only with val_loss available, skipping.\n"
     ]
    },
    {
     "name": "stdout",
     "output_type": "stream",
     "text": [
      "10/10 [==============================] - 5s 468ms/step - loss: 0.0117 - semantic_0_loss: 0.0021 - semantic_1_loss: 0.0080 - semantic_2_loss: 0.0015 - lr: 8.7752e-05\n",
      "Epoch 15/200\n",
      "10/10 [==============================] - ETA: 0s - loss: 0.0111 - semantic_0_loss: 0.0021 - semantic_1_loss: 0.0076 - semantic_2_loss: 0.0015WARNING:tensorflow:Can save best model only with val_loss available, skipping.\n"
     ]
    },
    {
     "name": "stderr",
     "output_type": "stream",
     "text": [
      "WARNING:tensorflow:Can save best model only with val_loss available, skipping.\n"
     ]
    },
    {
     "name": "stdout",
     "output_type": "stream",
     "text": [
      "10/10 [==============================] - 5s 493ms/step - loss: 0.0111 - semantic_0_loss: 0.0021 - semantic_1_loss: 0.0076 - semantic_2_loss: 0.0015 - lr: 8.6875e-05\n",
      "Epoch 16/200\n",
      "10/10 [==============================] - ETA: 0s - loss: 0.0114 - semantic_0_loss: 0.0021 - semantic_1_loss: 0.0078 - semantic_2_loss: 0.0015WARNING:tensorflow:Can save best model only with val_loss available, skipping.\n"
     ]
    },
    {
     "name": "stderr",
     "output_type": "stream",
     "text": [
      "WARNING:tensorflow:Can save best model only with val_loss available, skipping.\n"
     ]
    },
    {
     "name": "stdout",
     "output_type": "stream",
     "text": [
      "10/10 [==============================] - 5s 460ms/step - loss: 0.0114 - semantic_0_loss: 0.0021 - semantic_1_loss: 0.0078 - semantic_2_loss: 0.0015 - lr: 8.6006e-05\n",
      "Epoch 17/200\n",
      "10/10 [==============================] - ETA: 0s - loss: 0.0111 - semantic_0_loss: 0.0020 - semantic_1_loss: 0.0075 - semantic_2_loss: 0.0015WARNING:tensorflow:Can save best model only with val_loss available, skipping.\n"
     ]
    },
    {
     "name": "stderr",
     "output_type": "stream",
     "text": [
      "WARNING:tensorflow:Can save best model only with val_loss available, skipping.\n"
     ]
    },
    {
     "name": "stdout",
     "output_type": "stream",
     "text": [
      "10/10 [==============================] - 5s 457ms/step - loss: 0.0111 - semantic_0_loss: 0.0020 - semantic_1_loss: 0.0075 - semantic_2_loss: 0.0015 - lr: 8.5146e-05\n",
      "Epoch 18/200\n",
      "10/10 [==============================] - ETA: 0s - loss: 0.0108 - semantic_0_loss: 0.0020 - semantic_1_loss: 0.0073 - semantic_2_loss: 0.0015WARNING:tensorflow:Can save best model only with val_loss available, skipping.\n"
     ]
    },
    {
     "name": "stderr",
     "output_type": "stream",
     "text": [
      "WARNING:tensorflow:Can save best model only with val_loss available, skipping.\n"
     ]
    },
    {
     "name": "stdout",
     "output_type": "stream",
     "text": [
      "10/10 [==============================] - 5s 492ms/step - loss: 0.0108 - semantic_0_loss: 0.0020 - semantic_1_loss: 0.0073 - semantic_2_loss: 0.0015 - lr: 8.4294e-05\n",
      "Epoch 19/200\n",
      "10/10 [==============================] - ETA: 0s - loss: 0.0107 - semantic_0_loss: 0.0020 - semantic_1_loss: 0.0073 - semantic_2_loss: 0.0014WARNING:tensorflow:Can save best model only with val_loss available, skipping.\n"
     ]
    },
    {
     "name": "stderr",
     "output_type": "stream",
     "text": [
      "WARNING:tensorflow:Can save best model only with val_loss available, skipping.\n"
     ]
    },
    {
     "name": "stdout",
     "output_type": "stream",
     "text": [
      "10/10 [==============================] - 5s 480ms/step - loss: 0.0107 - semantic_0_loss: 0.0020 - semantic_1_loss: 0.0073 - semantic_2_loss: 0.0014 - lr: 8.3451e-05\n",
      "Epoch 20/200\n",
      "10/10 [==============================] - ETA: 0s - loss: 0.0104 - semantic_0_loss: 0.0019 - semantic_1_loss: 0.0071 - semantic_2_loss: 0.0014WARNING:tensorflow:Can save best model only with val_loss available, skipping.\n"
     ]
    },
    {
     "name": "stderr",
     "output_type": "stream",
     "text": [
      "WARNING:tensorflow:Can save best model only with val_loss available, skipping.\n"
     ]
    },
    {
     "name": "stdout",
     "output_type": "stream",
     "text": [
      "10/10 [==============================] - 5s 463ms/step - loss: 0.0104 - semantic_0_loss: 0.0019 - semantic_1_loss: 0.0071 - semantic_2_loss: 0.0014 - lr: 8.2617e-05\n",
      "Epoch 21/200\n",
      "10/10 [==============================] - ETA: 0s - loss: 0.0105 - semantic_0_loss: 0.0019 - semantic_1_loss: 0.0071 - semantic_2_loss: 0.0014WARNING:tensorflow:Can save best model only with val_loss available, skipping.\n"
     ]
    },
    {
     "name": "stderr",
     "output_type": "stream",
     "text": [
      "WARNING:tensorflow:Can save best model only with val_loss available, skipping.\n"
     ]
    },
    {
     "name": "stdout",
     "output_type": "stream",
     "text": [
      "10/10 [==============================] - 5s 476ms/step - loss: 0.0105 - semantic_0_loss: 0.0019 - semantic_1_loss: 0.0071 - semantic_2_loss: 0.0014 - lr: 8.1791e-05\n",
      "Epoch 22/200\n",
      "10/10 [==============================] - ETA: 0s - loss: 0.0100 - semantic_0_loss: 0.0019 - semantic_1_loss: 0.0067 - semantic_2_loss: 0.0014WARNING:tensorflow:Can save best model only with val_loss available, skipping.\n"
     ]
    },
    {
     "name": "stderr",
     "output_type": "stream",
     "text": [
      "WARNING:tensorflow:Can save best model only with val_loss available, skipping.\n"
     ]
    },
    {
     "name": "stdout",
     "output_type": "stream",
     "text": [
      "10/10 [==============================] - 5s 467ms/step - loss: 0.0100 - semantic_0_loss: 0.0019 - semantic_1_loss: 0.0067 - semantic_2_loss: 0.0014 - lr: 8.0973e-05\n",
      "Epoch 23/200\n",
      "10/10 [==============================] - ETA: 0s - loss: 0.0110 - semantic_0_loss: 0.0021 - semantic_1_loss: 0.0075 - semantic_2_loss: 0.0015WARNING:tensorflow:Can save best model only with val_loss available, skipping.\n"
     ]
    },
    {
     "name": "stderr",
     "output_type": "stream",
     "text": [
      "WARNING:tensorflow:Can save best model only with val_loss available, skipping.\n"
     ]
    },
    {
     "name": "stdout",
     "output_type": "stream",
     "text": [
      "10/10 [==============================] - 5s 452ms/step - loss: 0.0110 - semantic_0_loss: 0.0021 - semantic_1_loss: 0.0075 - semantic_2_loss: 0.0015 - lr: 8.0163e-05\n",
      "Epoch 24/200\n",
      "10/10 [==============================] - ETA: 0s - loss: 0.0101 - semantic_0_loss: 0.0019 - semantic_1_loss: 0.0068 - semantic_2_loss: 0.0014WARNING:tensorflow:Can save best model only with val_loss available, skipping.\n"
     ]
    },
    {
     "name": "stderr",
     "output_type": "stream",
     "text": [
      "WARNING:tensorflow:Can save best model only with val_loss available, skipping.\n"
     ]
    },
    {
     "name": "stdout",
     "output_type": "stream",
     "text": [
      "10/10 [==============================] - 5s 455ms/step - loss: 0.0101 - semantic_0_loss: 0.0019 - semantic_1_loss: 0.0068 - semantic_2_loss: 0.0014 - lr: 7.9361e-05\n",
      "Epoch 25/200\n",
      "10/10 [==============================] - ETA: 0s - loss: 0.0106 - semantic_0_loss: 0.0020 - semantic_1_loss: 0.0072 - semantic_2_loss: 0.0014WARNING:tensorflow:Can save best model only with val_loss available, skipping.\n"
     ]
    },
    {
     "name": "stderr",
     "output_type": "stream",
     "text": [
      "WARNING:tensorflow:Can save best model only with val_loss available, skipping.\n"
     ]
    },
    {
     "name": "stdout",
     "output_type": "stream",
     "text": [
      "10/10 [==============================] - 5s 448ms/step - loss: 0.0106 - semantic_0_loss: 0.0020 - semantic_1_loss: 0.0072 - semantic_2_loss: 0.0014 - lr: 7.8568e-05\n",
      "Epoch 26/200\n",
      "10/10 [==============================] - ETA: 0s - loss: 0.0104 - semantic_0_loss: 0.0020 - semantic_1_loss: 0.0070 - semantic_2_loss: 0.0014WARNING:tensorflow:Can save best model only with val_loss available, skipping.\n"
     ]
    },
    {
     "name": "stderr",
     "output_type": "stream",
     "text": [
      "WARNING:tensorflow:Can save best model only with val_loss available, skipping.\n"
     ]
    },
    {
     "name": "stdout",
     "output_type": "stream",
     "text": [
      "10/10 [==============================] - 5s 463ms/step - loss: 0.0104 - semantic_0_loss: 0.0020 - semantic_1_loss: 0.0070 - semantic_2_loss: 0.0014 - lr: 7.7782e-05\n",
      "Epoch 27/200\n",
      "10/10 [==============================] - ETA: 0s - loss: 0.0110 - semantic_0_loss: 0.0021 - semantic_1_loss: 0.0075 - semantic_2_loss: 0.0014WARNING:tensorflow:Can save best model only with val_loss available, skipping.\n"
     ]
    },
    {
     "name": "stderr",
     "output_type": "stream",
     "text": [
      "WARNING:tensorflow:Can save best model only with val_loss available, skipping.\n"
     ]
    },
    {
     "name": "stdout",
     "output_type": "stream",
     "text": [
      "10/10 [==============================] - 5s 466ms/step - loss: 0.0110 - semantic_0_loss: 0.0021 - semantic_1_loss: 0.0075 - semantic_2_loss: 0.0014 - lr: 7.7004e-05\n",
      "Epoch 28/200\n",
      "10/10 [==============================] - ETA: 0s - loss: 0.0100 - semantic_0_loss: 0.0019 - semantic_1_loss: 0.0067 - semantic_2_loss: 0.0014WARNING:tensorflow:Can save best model only with val_loss available, skipping.\n"
     ]
    },
    {
     "name": "stderr",
     "output_type": "stream",
     "text": [
      "WARNING:tensorflow:Can save best model only with val_loss available, skipping.\n"
     ]
    },
    {
     "name": "stdout",
     "output_type": "stream",
     "text": [
      "10/10 [==============================] - 5s 454ms/step - loss: 0.0100 - semantic_0_loss: 0.0019 - semantic_1_loss: 0.0067 - semantic_2_loss: 0.0014 - lr: 7.6234e-05\n",
      "Epoch 29/200\n",
      "10/10 [==============================] - ETA: 0s - loss: 0.0102 - semantic_0_loss: 0.0020 - semantic_1_loss: 0.0069 - semantic_2_loss: 0.0014WARNING:tensorflow:Can save best model only with val_loss available, skipping.\n"
     ]
    },
    {
     "name": "stderr",
     "output_type": "stream",
     "text": [
      "WARNING:tensorflow:Can save best model only with val_loss available, skipping.\n"
     ]
    },
    {
     "name": "stdout",
     "output_type": "stream",
     "text": [
      "10/10 [==============================] - 5s 456ms/step - loss: 0.0102 - semantic_0_loss: 0.0020 - semantic_1_loss: 0.0069 - semantic_2_loss: 0.0014 - lr: 7.5472e-05\n",
      "Epoch 30/200\n",
      "10/10 [==============================] - ETA: 0s - loss: 0.0097 - semantic_0_loss: 0.0019 - semantic_1_loss: 0.0065 - semantic_2_loss: 0.0013WARNING:tensorflow:Can save best model only with val_loss available, skipping.\n"
     ]
    },
    {
     "name": "stderr",
     "output_type": "stream",
     "text": [
      "WARNING:tensorflow:Can save best model only with val_loss available, skipping.\n"
     ]
    },
    {
     "name": "stdout",
     "output_type": "stream",
     "text": [
      "10/10 [==============================] - 5s 454ms/step - loss: 0.0097 - semantic_0_loss: 0.0019 - semantic_1_loss: 0.0065 - semantic_2_loss: 0.0013 - lr: 7.4717e-05\n",
      "Epoch 31/200\n",
      "10/10 [==============================] - ETA: 0s - loss: 0.0101 - semantic_0_loss: 0.0020 - semantic_1_loss: 0.0068 - semantic_2_loss: 0.0014WARNING:tensorflow:Can save best model only with val_loss available, skipping.\n"
     ]
    },
    {
     "name": "stderr",
     "output_type": "stream",
     "text": [
      "WARNING:tensorflow:Can save best model only with val_loss available, skipping.\n"
     ]
    },
    {
     "name": "stdout",
     "output_type": "stream",
     "text": [
      "10/10 [==============================] - 5s 492ms/step - loss: 0.0101 - semantic_0_loss: 0.0020 - semantic_1_loss: 0.0068 - semantic_2_loss: 0.0014 - lr: 7.3970e-05\n",
      "Epoch 32/200\n",
      "10/10 [==============================] - ETA: 0s - loss: 0.0099 - semantic_0_loss: 0.0019 - semantic_1_loss: 0.0066 - semantic_2_loss: 0.0013WARNING:tensorflow:Can save best model only with val_loss available, skipping.\n"
     ]
    },
    {
     "name": "stderr",
     "output_type": "stream",
     "text": [
      "WARNING:tensorflow:Can save best model only with val_loss available, skipping.\n"
     ]
    },
    {
     "name": "stdout",
     "output_type": "stream",
     "text": [
      "10/10 [==============================] - 5s 459ms/step - loss: 0.0099 - semantic_0_loss: 0.0019 - semantic_1_loss: 0.0066 - semantic_2_loss: 0.0013 - lr: 7.3230e-05\n",
      "Epoch 33/200\n",
      "10/10 [==============================] - ETA: 0s - loss: 0.0098 - semantic_0_loss: 0.0019 - semantic_1_loss: 0.0066 - semantic_2_loss: 0.0013WARNING:tensorflow:Can save best model only with val_loss available, skipping.\n"
     ]
    },
    {
     "name": "stderr",
     "output_type": "stream",
     "text": [
      "WARNING:tensorflow:Can save best model only with val_loss available, skipping.\n"
     ]
    },
    {
     "name": "stdout",
     "output_type": "stream",
     "text": [
      "10/10 [==============================] - 5s 460ms/step - loss: 0.0098 - semantic_0_loss: 0.0019 - semantic_1_loss: 0.0066 - semantic_2_loss: 0.0013 - lr: 7.2498e-05\n",
      "Epoch 34/200\n",
      "10/10 [==============================] - ETA: 0s - loss: 0.0101 - semantic_0_loss: 0.0020 - semantic_1_loss: 0.0068 - semantic_2_loss: 0.0014WARNING:tensorflow:Can save best model only with val_loss available, skipping.\n"
     ]
    },
    {
     "name": "stderr",
     "output_type": "stream",
     "text": [
      "WARNING:tensorflow:Can save best model only with val_loss available, skipping.\n"
     ]
    },
    {
     "name": "stdout",
     "output_type": "stream",
     "text": [
      "10/10 [==============================] - 5s 459ms/step - loss: 0.0101 - semantic_0_loss: 0.0020 - semantic_1_loss: 0.0068 - semantic_2_loss: 0.0014 - lr: 7.1773e-05\n",
      "Epoch 35/200\n",
      "10/10 [==============================] - ETA: 0s - loss: 0.0100 - semantic_0_loss: 0.0019 - semantic_1_loss: 0.0067 - semantic_2_loss: 0.0014WARNING:tensorflow:Can save best model only with val_loss available, skipping.\n"
     ]
    },
    {
     "name": "stderr",
     "output_type": "stream",
     "text": [
      "WARNING:tensorflow:Can save best model only with val_loss available, skipping.\n"
     ]
    },
    {
     "name": "stdout",
     "output_type": "stream",
     "text": [
      "10/10 [==============================] - 5s 459ms/step - loss: 0.0100 - semantic_0_loss: 0.0019 - semantic_1_loss: 0.0067 - semantic_2_loss: 0.0014 - lr: 7.1055e-05\n",
      "Epoch 36/200\n",
      "10/10 [==============================] - ETA: 0s - loss: 0.0103 - semantic_0_loss: 0.0020 - semantic_1_loss: 0.0069 - semantic_2_loss: 0.0014WARNING:tensorflow:Can save best model only with val_loss available, skipping.\n"
     ]
    },
    {
     "name": "stderr",
     "output_type": "stream",
     "text": [
      "WARNING:tensorflow:Can save best model only with val_loss available, skipping.\n"
     ]
    },
    {
     "name": "stdout",
     "output_type": "stream",
     "text": [
      "10/10 [==============================] - 5s 468ms/step - loss: 0.0103 - semantic_0_loss: 0.0020 - semantic_1_loss: 0.0069 - semantic_2_loss: 0.0014 - lr: 7.0345e-05\n",
      "Epoch 37/200\n",
      "10/10 [==============================] - ETA: 0s - loss: 0.0097 - semantic_0_loss: 0.0019 - semantic_1_loss: 0.0065 - semantic_2_loss: 0.0013WARNING:tensorflow:Can save best model only with val_loss available, skipping.\n"
     ]
    },
    {
     "name": "stderr",
     "output_type": "stream",
     "text": [
      "WARNING:tensorflow:Can save best model only with val_loss available, skipping.\n"
     ]
    },
    {
     "name": "stdout",
     "output_type": "stream",
     "text": [
      "10/10 [==============================] - 5s 452ms/step - loss: 0.0097 - semantic_0_loss: 0.0019 - semantic_1_loss: 0.0065 - semantic_2_loss: 0.0013 - lr: 6.9641e-05\n",
      "Epoch 38/200\n",
      "10/10 [==============================] - ETA: 0s - loss: 0.0100 - semantic_0_loss: 0.0019 - semantic_1_loss: 0.0067 - semantic_2_loss: 0.0014WARNING:tensorflow:Can save best model only with val_loss available, skipping.\n"
     ]
    },
    {
     "name": "stderr",
     "output_type": "stream",
     "text": [
      "WARNING:tensorflow:Can save best model only with val_loss available, skipping.\n"
     ]
    },
    {
     "name": "stdout",
     "output_type": "stream",
     "text": [
      "10/10 [==============================] - 5s 446ms/step - loss: 0.0100 - semantic_0_loss: 0.0019 - semantic_1_loss: 0.0067 - semantic_2_loss: 0.0014 - lr: 6.8945e-05\n",
      "Epoch 39/200\n",
      "10/10 [==============================] - ETA: 0s - loss: 0.0096 - semantic_0_loss: 0.0019 - semantic_1_loss: 0.0064 - semantic_2_loss: 0.0013WARNING:tensorflow:Can save best model only with val_loss available, skipping.\n"
     ]
    },
    {
     "name": "stderr",
     "output_type": "stream",
     "text": [
      "WARNING:tensorflow:Can save best model only with val_loss available, skipping.\n"
     ]
    },
    {
     "name": "stdout",
     "output_type": "stream",
     "text": [
      "10/10 [==============================] - 5s 495ms/step - loss: 0.0096 - semantic_0_loss: 0.0019 - semantic_1_loss: 0.0064 - semantic_2_loss: 0.0013 - lr: 6.8255e-05\n",
      "Epoch 40/200\n",
      "10/10 [==============================] - ETA: 0s - loss: 0.0101 - semantic_0_loss: 0.0020 - semantic_1_loss: 0.0068 - semantic_2_loss: 0.0013WARNING:tensorflow:Can save best model only with val_loss available, skipping.\n"
     ]
    },
    {
     "name": "stderr",
     "output_type": "stream",
     "text": [
      "WARNING:tensorflow:Can save best model only with val_loss available, skipping.\n"
     ]
    },
    {
     "name": "stdout",
     "output_type": "stream",
     "text": [
      "10/10 [==============================] - 5s 456ms/step - loss: 0.0101 - semantic_0_loss: 0.0020 - semantic_1_loss: 0.0068 - semantic_2_loss: 0.0013 - lr: 6.7573e-05\n",
      "Epoch 41/200\n",
      "10/10 [==============================] - ETA: 0s - loss: 0.0100 - semantic_0_loss: 0.0020 - semantic_1_loss: 0.0067 - semantic_2_loss: 0.0013WARNING:tensorflow:Can save best model only with val_loss available, skipping.\n"
     ]
    },
    {
     "name": "stderr",
     "output_type": "stream",
     "text": [
      "WARNING:tensorflow:Can save best model only with val_loss available, skipping.\n"
     ]
    },
    {
     "name": "stdout",
     "output_type": "stream",
     "text": [
      "10/10 [==============================] - 5s 470ms/step - loss: 0.0100 - semantic_0_loss: 0.0020 - semantic_1_loss: 0.0067 - semantic_2_loss: 0.0013 - lr: 6.6897e-05\n",
      "Epoch 42/200\n",
      "10/10 [==============================] - ETA: 0s - loss: 0.0090 - semantic_0_loss: 0.0018 - semantic_1_loss: 0.0059 - semantic_2_loss: 0.0013WARNING:tensorflow:Can save best model only with val_loss available, skipping.\n"
     ]
    },
    {
     "name": "stderr",
     "output_type": "stream",
     "text": [
      "WARNING:tensorflow:Can save best model only with val_loss available, skipping.\n"
     ]
    },
    {
     "name": "stdout",
     "output_type": "stream",
     "text": [
      "10/10 [==============================] - 5s 465ms/step - loss: 0.0090 - semantic_0_loss: 0.0018 - semantic_1_loss: 0.0059 - semantic_2_loss: 0.0013 - lr: 6.6228e-05\n",
      "Epoch 43/200\n",
      "10/10 [==============================] - ETA: 0s - loss: 0.0086 - semantic_0_loss: 0.0017 - semantic_1_loss: 0.0056 - semantic_2_loss: 0.0013WARNING:tensorflow:Can save best model only with val_loss available, skipping.\n"
     ]
    },
    {
     "name": "stderr",
     "output_type": "stream",
     "text": [
      "WARNING:tensorflow:Can save best model only with val_loss available, skipping.\n"
     ]
    },
    {
     "name": "stdout",
     "output_type": "stream",
     "text": [
      "10/10 [==============================] - 5s 447ms/step - loss: 0.0086 - semantic_0_loss: 0.0017 - semantic_1_loss: 0.0056 - semantic_2_loss: 0.0013 - lr: 6.5566e-05\n",
      "Epoch 44/200\n",
      "10/10 [==============================] - ETA: 0s - loss: 0.0101 - semantic_0_loss: 0.0020 - semantic_1_loss: 0.0067 - semantic_2_loss: 0.0013WARNING:tensorflow:Can save best model only with val_loss available, skipping.\n"
     ]
    },
    {
     "name": "stderr",
     "output_type": "stream",
     "text": [
      "WARNING:tensorflow:Can save best model only with val_loss available, skipping.\n"
     ]
    },
    {
     "name": "stdout",
     "output_type": "stream",
     "text": [
      "10/10 [==============================] - 5s 468ms/step - loss: 0.0101 - semantic_0_loss: 0.0020 - semantic_1_loss: 0.0067 - semantic_2_loss: 0.0013 - lr: 6.4910e-05\n",
      "Epoch 45/200\n",
      "10/10 [==============================] - ETA: 0s - loss: 0.0096 - semantic_0_loss: 0.0019 - semantic_1_loss: 0.0064 - semantic_2_loss: 0.0013WARNING:tensorflow:Can save best model only with val_loss available, skipping.\n"
     ]
    },
    {
     "name": "stderr",
     "output_type": "stream",
     "text": [
      "WARNING:tensorflow:Can save best model only with val_loss available, skipping.\n"
     ]
    },
    {
     "name": "stdout",
     "output_type": "stream",
     "text": [
      "10/10 [==============================] - 5s 482ms/step - loss: 0.0096 - semantic_0_loss: 0.0019 - semantic_1_loss: 0.0064 - semantic_2_loss: 0.0013 - lr: 6.4261e-05\n",
      "Epoch 46/200\n",
      "10/10 [==============================] - ETA: 0s - loss: 0.0094 - semantic_0_loss: 0.0018 - semantic_1_loss: 0.0063 - semantic_2_loss: 0.0013WARNING:tensorflow:Can save best model only with val_loss available, skipping.\n"
     ]
    },
    {
     "name": "stderr",
     "output_type": "stream",
     "text": [
      "WARNING:tensorflow:Can save best model only with val_loss available, skipping.\n"
     ]
    },
    {
     "name": "stdout",
     "output_type": "stream",
     "text": [
      "10/10 [==============================] - 5s 453ms/step - loss: 0.0094 - semantic_0_loss: 0.0018 - semantic_1_loss: 0.0063 - semantic_2_loss: 0.0013 - lr: 6.3619e-05\n",
      "Epoch 47/200\n",
      "10/10 [==============================] - ETA: 0s - loss: 0.0091 - semantic_0_loss: 0.0018 - semantic_1_loss: 0.0060 - semantic_2_loss: 0.0013WARNING:tensorflow:Can save best model only with val_loss available, skipping.\n"
     ]
    },
    {
     "name": "stderr",
     "output_type": "stream",
     "text": [
      "WARNING:tensorflow:Can save best model only with val_loss available, skipping.\n"
     ]
    },
    {
     "name": "stdout",
     "output_type": "stream",
     "text": [
      "10/10 [==============================] - 5s 463ms/step - loss: 0.0091 - semantic_0_loss: 0.0018 - semantic_1_loss: 0.0060 - semantic_2_loss: 0.0013 - lr: 6.2982e-05\n",
      "Epoch 48/200\n",
      "10/10 [==============================] - ETA: 0s - loss: 0.0095 - semantic_0_loss: 0.0018 - semantic_1_loss: 0.0063 - semantic_2_loss: 0.0013WARNING:tensorflow:Can save best model only with val_loss available, skipping.\n"
     ]
    },
    {
     "name": "stderr",
     "output_type": "stream",
     "text": [
      "WARNING:tensorflow:Can save best model only with val_loss available, skipping.\n"
     ]
    },
    {
     "name": "stdout",
     "output_type": "stream",
     "text": [
      "10/10 [==============================] - 5s 439ms/step - loss: 0.0095 - semantic_0_loss: 0.0018 - semantic_1_loss: 0.0063 - semantic_2_loss: 0.0013 - lr: 6.2353e-05\n",
      "Epoch 49/200\n",
      "10/10 [==============================] - ETA: 0s - loss: 0.0092 - semantic_0_loss: 0.0018 - semantic_1_loss: 0.0061 - semantic_2_loss: 0.0013WARNING:tensorflow:Can save best model only with val_loss available, skipping.\n"
     ]
    },
    {
     "name": "stderr",
     "output_type": "stream",
     "text": [
      "WARNING:tensorflow:Can save best model only with val_loss available, skipping.\n"
     ]
    },
    {
     "name": "stdout",
     "output_type": "stream",
     "text": [
      "10/10 [==============================] - 5s 455ms/step - loss: 0.0092 - semantic_0_loss: 0.0018 - semantic_1_loss: 0.0061 - semantic_2_loss: 0.0013 - lr: 6.1729e-05\n",
      "Epoch 50/200\n",
      "10/10 [==============================] - ETA: 0s - loss: 0.0092 - semantic_0_loss: 0.0019 - semantic_1_loss: 0.0060 - semantic_2_loss: 0.0013WARNING:tensorflow:Can save best model only with val_loss available, skipping.\n"
     ]
    },
    {
     "name": "stderr",
     "output_type": "stream",
     "text": [
      "WARNING:tensorflow:Can save best model only with val_loss available, skipping.\n"
     ]
    },
    {
     "name": "stdout",
     "output_type": "stream",
     "text": [
      "10/10 [==============================] - 5s 491ms/step - loss: 0.0092 - semantic_0_loss: 0.0019 - semantic_1_loss: 0.0060 - semantic_2_loss: 0.0013 - lr: 6.1112e-05\n",
      "Epoch 51/200\n",
      "10/10 [==============================] - ETA: 0s - loss: 0.0091 - semantic_0_loss: 0.0018 - semantic_1_loss: 0.0060 - semantic_2_loss: 0.0012WARNING:tensorflow:Can save best model only with val_loss available, skipping.\n"
     ]
    },
    {
     "name": "stderr",
     "output_type": "stream",
     "text": [
      "WARNING:tensorflow:Can save best model only with val_loss available, skipping.\n"
     ]
    },
    {
     "name": "stdout",
     "output_type": "stream",
     "text": [
      "10/10 [==============================] - 5s 452ms/step - loss: 0.0091 - semantic_0_loss: 0.0018 - semantic_1_loss: 0.0060 - semantic_2_loss: 0.0012 - lr: 6.0501e-05\n",
      "Epoch 52/200\n",
      "10/10 [==============================] - ETA: 0s - loss: 0.0088 - semantic_0_loss: 0.0017 - semantic_1_loss: 0.0058 - semantic_2_loss: 0.0012WARNING:tensorflow:Can save best model only with val_loss available, skipping.\n"
     ]
    },
    {
     "name": "stderr",
     "output_type": "stream",
     "text": [
      "WARNING:tensorflow:Can save best model only with val_loss available, skipping.\n"
     ]
    },
    {
     "name": "stdout",
     "output_type": "stream",
     "text": [
      "10/10 [==============================] - 5s 455ms/step - loss: 0.0088 - semantic_0_loss: 0.0017 - semantic_1_loss: 0.0058 - semantic_2_loss: 0.0012 - lr: 5.9896e-05\n",
      "Epoch 53/200\n",
      "10/10 [==============================] - ETA: 0s - loss: 0.0091 - semantic_0_loss: 0.0019 - semantic_1_loss: 0.0059 - semantic_2_loss: 0.0013WARNING:tensorflow:Can save best model only with val_loss available, skipping.\n"
     ]
    },
    {
     "name": "stderr",
     "output_type": "stream",
     "text": [
      "WARNING:tensorflow:Can save best model only with val_loss available, skipping.\n"
     ]
    },
    {
     "name": "stdout",
     "output_type": "stream",
     "text": [
      "10/10 [==============================] - 5s 458ms/step - loss: 0.0091 - semantic_0_loss: 0.0019 - semantic_1_loss: 0.0059 - semantic_2_loss: 0.0013 - lr: 5.9297e-05\n",
      "Epoch 54/200\n",
      "10/10 [==============================] - ETA: 0s - loss: 0.0091 - semantic_0_loss: 0.0018 - semantic_1_loss: 0.0060 - semantic_2_loss: 0.0013WARNING:tensorflow:Can save best model only with val_loss available, skipping.\n"
     ]
    },
    {
     "name": "stderr",
     "output_type": "stream",
     "text": [
      "WARNING:tensorflow:Can save best model only with val_loss available, skipping.\n"
     ]
    },
    {
     "name": "stdout",
     "output_type": "stream",
     "text": [
      "10/10 [==============================] - 5s 459ms/step - loss: 0.0091 - semantic_0_loss: 0.0018 - semantic_1_loss: 0.0060 - semantic_2_loss: 0.0013 - lr: 5.8704e-05\n",
      "Epoch 55/200\n",
      "10/10 [==============================] - ETA: 0s - loss: 0.0091 - semantic_0_loss: 0.0018 - semantic_1_loss: 0.0060 - semantic_2_loss: 0.0013WARNING:tensorflow:Can save best model only with val_loss available, skipping.\n"
     ]
    },
    {
     "name": "stderr",
     "output_type": "stream",
     "text": [
      "WARNING:tensorflow:Can save best model only with val_loss available, skipping.\n"
     ]
    },
    {
     "name": "stdout",
     "output_type": "stream",
     "text": [
      "10/10 [==============================] - 5s 453ms/step - loss: 0.0091 - semantic_0_loss: 0.0018 - semantic_1_loss: 0.0060 - semantic_2_loss: 0.0013 - lr: 5.8117e-05\n",
      "Epoch 56/200\n",
      "10/10 [==============================] - ETA: 0s - loss: 0.0085 - semantic_0_loss: 0.0017 - semantic_1_loss: 0.0055 - semantic_2_loss: 0.0012WARNING:tensorflow:Can save best model only with val_loss available, skipping.\n"
     ]
    },
    {
     "name": "stderr",
     "output_type": "stream",
     "text": [
      "WARNING:tensorflow:Can save best model only with val_loss available, skipping.\n"
     ]
    },
    {
     "name": "stdout",
     "output_type": "stream",
     "text": [
      "10/10 [==============================] - 5s 486ms/step - loss: 0.0085 - semantic_0_loss: 0.0017 - semantic_1_loss: 0.0055 - semantic_2_loss: 0.0012 - lr: 5.7535e-05\n",
      "Epoch 57/200\n",
      "10/10 [==============================] - ETA: 0s - loss: 0.0089 - semantic_0_loss: 0.0018 - semantic_1_loss: 0.0058 - semantic_2_loss: 0.0012WARNING:tensorflow:Can save best model only with val_loss available, skipping.\n"
     ]
    },
    {
     "name": "stderr",
     "output_type": "stream",
     "text": [
      "WARNING:tensorflow:Can save best model only with val_loss available, skipping.\n"
     ]
    },
    {
     "name": "stdout",
     "output_type": "stream",
     "text": [
      "10/10 [==============================] - 5s 456ms/step - loss: 0.0089 - semantic_0_loss: 0.0018 - semantic_1_loss: 0.0058 - semantic_2_loss: 0.0012 - lr: 5.6960e-05\n",
      "Epoch 58/200\n",
      "10/10 [==============================] - ETA: 0s - loss: 0.0096 - semantic_0_loss: 0.0019 - semantic_1_loss: 0.0064 - semantic_2_loss: 0.0013WARNING:tensorflow:Can save best model only with val_loss available, skipping.\n"
     ]
    },
    {
     "name": "stderr",
     "output_type": "stream",
     "text": [
      "WARNING:tensorflow:Can save best model only with val_loss available, skipping.\n"
     ]
    },
    {
     "name": "stdout",
     "output_type": "stream",
     "text": [
      "10/10 [==============================] - 5s 469ms/step - loss: 0.0096 - semantic_0_loss: 0.0019 - semantic_1_loss: 0.0064 - semantic_2_loss: 0.0013 - lr: 5.6391e-05\n",
      "Epoch 59/200\n",
      "10/10 [==============================] - ETA: 0s - loss: 0.0095 - semantic_0_loss: 0.0019 - semantic_1_loss: 0.0063 - semantic_2_loss: 0.0013WARNING:tensorflow:Can save best model only with val_loss available, skipping.\n"
     ]
    },
    {
     "name": "stderr",
     "output_type": "stream",
     "text": [
      "WARNING:tensorflow:Can save best model only with val_loss available, skipping.\n"
     ]
    },
    {
     "name": "stdout",
     "output_type": "stream",
     "text": [
      "10/10 [==============================] - 5s 456ms/step - loss: 0.0095 - semantic_0_loss: 0.0019 - semantic_1_loss: 0.0063 - semantic_2_loss: 0.0013 - lr: 5.5827e-05\n",
      "Epoch 60/200\n",
      "10/10 [==============================] - ETA: 0s - loss: 0.0088 - semantic_0_loss: 0.0018 - semantic_1_loss: 0.0058 - semantic_2_loss: 0.0012WARNING:tensorflow:Can save best model only with val_loss available, skipping.\n"
     ]
    },
    {
     "name": "stderr",
     "output_type": "stream",
     "text": [
      "WARNING:tensorflow:Can save best model only with val_loss available, skipping.\n"
     ]
    },
    {
     "name": "stdout",
     "output_type": "stream",
     "text": [
      "10/10 [==============================] - 5s 460ms/step - loss: 0.0088 - semantic_0_loss: 0.0018 - semantic_1_loss: 0.0058 - semantic_2_loss: 0.0012 - lr: 5.5268e-05\n",
      "Epoch 61/200\n",
      "10/10 [==============================] - ETA: 0s - loss: 0.0090 - semantic_0_loss: 0.0019 - semantic_1_loss: 0.0060 - semantic_2_loss: 0.0012WARNING:tensorflow:Can save best model only with val_loss available, skipping.\n"
     ]
    },
    {
     "name": "stderr",
     "output_type": "stream",
     "text": [
      "WARNING:tensorflow:Can save best model only with val_loss available, skipping.\n"
     ]
    },
    {
     "name": "stdout",
     "output_type": "stream",
     "text": [
      "10/10 [==============================] - 5s 459ms/step - loss: 0.0090 - semantic_0_loss: 0.0019 - semantic_1_loss: 0.0060 - semantic_2_loss: 0.0012 - lr: 5.4716e-05\n",
      "Epoch 62/200\n",
      "10/10 [==============================] - ETA: 0s - loss: 0.0095 - semantic_0_loss: 0.0020 - semantic_1_loss: 0.0062 - semantic_2_loss: 0.0013WARNING:tensorflow:Can save best model only with val_loss available, skipping.\n"
     ]
    },
    {
     "name": "stderr",
     "output_type": "stream",
     "text": [
      "WARNING:tensorflow:Can save best model only with val_loss available, skipping.\n"
     ]
    },
    {
     "name": "stdout",
     "output_type": "stream",
     "text": [
      "10/10 [==============================] - 5s 449ms/step - loss: 0.0095 - semantic_0_loss: 0.0020 - semantic_1_loss: 0.0062 - semantic_2_loss: 0.0013 - lr: 5.4169e-05\n",
      "Epoch 63/200\n",
      "10/10 [==============================] - ETA: 0s - loss: 0.0084 - semantic_0_loss: 0.0018 - semantic_1_loss: 0.0055 - semantic_2_loss: 0.0012WARNING:tensorflow:Can save best model only with val_loss available, skipping.\n"
     ]
    },
    {
     "name": "stderr",
     "output_type": "stream",
     "text": [
      "WARNING:tensorflow:Can save best model only with val_loss available, skipping.\n"
     ]
    },
    {
     "name": "stdout",
     "output_type": "stream",
     "text": [
      "10/10 [==============================] - 5s 480ms/step - loss: 0.0084 - semantic_0_loss: 0.0018 - semantic_1_loss: 0.0055 - semantic_2_loss: 0.0012 - lr: 5.3627e-05\n",
      "Epoch 64/200\n",
      "10/10 [==============================] - ETA: 0s - loss: 0.0093 - semantic_0_loss: 0.0019 - semantic_1_loss: 0.0061 - semantic_2_loss: 0.0013WARNING:tensorflow:Can save best model only with val_loss available, skipping.\n"
     ]
    },
    {
     "name": "stderr",
     "output_type": "stream",
     "text": [
      "WARNING:tensorflow:Can save best model only with val_loss available, skipping.\n"
     ]
    },
    {
     "name": "stdout",
     "output_type": "stream",
     "text": [
      "10/10 [==============================] - 5s 460ms/step - loss: 0.0093 - semantic_0_loss: 0.0019 - semantic_1_loss: 0.0061 - semantic_2_loss: 0.0013 - lr: 5.3091e-05\n",
      "Epoch 65/200\n",
      "10/10 [==============================] - ETA: 0s - loss: 0.0089 - semantic_0_loss: 0.0019 - semantic_1_loss: 0.0058 - semantic_2_loss: 0.0012WARNING:tensorflow:Can save best model only with val_loss available, skipping.\n"
     ]
    },
    {
     "name": "stderr",
     "output_type": "stream",
     "text": [
      "WARNING:tensorflow:Can save best model only with val_loss available, skipping.\n"
     ]
    },
    {
     "name": "stdout",
     "output_type": "stream",
     "text": [
      "10/10 [==============================] - 5s 463ms/step - loss: 0.0089 - semantic_0_loss: 0.0019 - semantic_1_loss: 0.0058 - semantic_2_loss: 0.0012 - lr: 5.2560e-05\n",
      "Epoch 66/200\n",
      "10/10 [==============================] - ETA: 0s - loss: 0.0090 - semantic_0_loss: 0.0018 - semantic_1_loss: 0.0059 - semantic_2_loss: 0.0012WARNING:tensorflow:Can save best model only with val_loss available, skipping.\n"
     ]
    },
    {
     "name": "stderr",
     "output_type": "stream",
     "text": [
      "WARNING:tensorflow:Can save best model only with val_loss available, skipping.\n"
     ]
    },
    {
     "name": "stdout",
     "output_type": "stream",
     "text": [
      "10/10 [==============================] - 5s 486ms/step - loss: 0.0090 - semantic_0_loss: 0.0018 - semantic_1_loss: 0.0059 - semantic_2_loss: 0.0012 - lr: 5.2034e-05\n",
      "Epoch 67/200\n",
      "10/10 [==============================] - ETA: 0s - loss: 0.0087 - semantic_0_loss: 0.0018 - semantic_1_loss: 0.0057 - semantic_2_loss: 0.0012WARNING:tensorflow:Can save best model only with val_loss available, skipping.\n"
     ]
    },
    {
     "name": "stderr",
     "output_type": "stream",
     "text": [
      "WARNING:tensorflow:Can save best model only with val_loss available, skipping.\n"
     ]
    },
    {
     "name": "stdout",
     "output_type": "stream",
     "text": [
      "10/10 [==============================] - 5s 467ms/step - loss: 0.0087 - semantic_0_loss: 0.0018 - semantic_1_loss: 0.0057 - semantic_2_loss: 0.0012 - lr: 5.1514e-05\n",
      "Epoch 68/200\n",
      "10/10 [==============================] - ETA: 0s - loss: 0.0083 - semantic_0_loss: 0.0017 - semantic_1_loss: 0.0054 - semantic_2_loss: 0.0012WARNING:tensorflow:Can save best model only with val_loss available, skipping.\n"
     ]
    },
    {
     "name": "stderr",
     "output_type": "stream",
     "text": [
      "WARNING:tensorflow:Can save best model only with val_loss available, skipping.\n"
     ]
    },
    {
     "name": "stdout",
     "output_type": "stream",
     "text": [
      "10/10 [==============================] - 5s 491ms/step - loss: 0.0083 - semantic_0_loss: 0.0017 - semantic_1_loss: 0.0054 - semantic_2_loss: 0.0012 - lr: 5.0999e-05\n",
      "Epoch 69/200\n",
      "10/10 [==============================] - ETA: 0s - loss: 0.0090 - semantic_0_loss: 0.0018 - semantic_1_loss: 0.0059 - semantic_2_loss: 0.0012WARNING:tensorflow:Can save best model only with val_loss available, skipping.\n"
     ]
    },
    {
     "name": "stderr",
     "output_type": "stream",
     "text": [
      "WARNING:tensorflow:Can save best model only with val_loss available, skipping.\n"
     ]
    },
    {
     "name": "stdout",
     "output_type": "stream",
     "text": [
      "10/10 [==============================] - 5s 456ms/step - loss: 0.0090 - semantic_0_loss: 0.0018 - semantic_1_loss: 0.0059 - semantic_2_loss: 0.0012 - lr: 5.0489e-05\n",
      "Epoch 70/200\n",
      "10/10 [==============================] - ETA: 0s - loss: 0.0089 - semantic_0_loss: 0.0019 - semantic_1_loss: 0.0058 - semantic_2_loss: 0.0012WARNING:tensorflow:Can save best model only with val_loss available, skipping.\n"
     ]
    },
    {
     "name": "stderr",
     "output_type": "stream",
     "text": [
      "WARNING:tensorflow:Can save best model only with val_loss available, skipping.\n"
     ]
    },
    {
     "name": "stdout",
     "output_type": "stream",
     "text": [
      "10/10 [==============================] - 5s 468ms/step - loss: 0.0089 - semantic_0_loss: 0.0019 - semantic_1_loss: 0.0058 - semantic_2_loss: 0.0012 - lr: 4.9984e-05\n",
      "Epoch 71/200\n",
      "10/10 [==============================] - ETA: 0s - loss: 0.0076 - semantic_0_loss: 0.0016 - semantic_1_loss: 0.0049 - semantic_2_loss: 0.0011WARNING:tensorflow:Can save best model only with val_loss available, skipping.\n"
     ]
    },
    {
     "name": "stderr",
     "output_type": "stream",
     "text": [
      "WARNING:tensorflow:Can save best model only with val_loss available, skipping.\n"
     ]
    },
    {
     "name": "stdout",
     "output_type": "stream",
     "text": [
      "10/10 [==============================] - 5s 459ms/step - loss: 0.0076 - semantic_0_loss: 0.0016 - semantic_1_loss: 0.0049 - semantic_2_loss: 0.0011 - lr: 4.9484e-05\n",
      "Epoch 72/200\n",
      "10/10 [==============================] - ETA: 0s - loss: 0.0086 - semantic_0_loss: 0.0018 - semantic_1_loss: 0.0056 - semantic_2_loss: 0.0012WARNING:tensorflow:Can save best model only with val_loss available, skipping.\n"
     ]
    },
    {
     "name": "stderr",
     "output_type": "stream",
     "text": [
      "WARNING:tensorflow:Can save best model only with val_loss available, skipping.\n"
     ]
    },
    {
     "name": "stdout",
     "output_type": "stream",
     "text": [
      "10/10 [==============================] - 5s 468ms/step - loss: 0.0086 - semantic_0_loss: 0.0018 - semantic_1_loss: 0.0056 - semantic_2_loss: 0.0012 - lr: 4.8989e-05\n",
      "Epoch 73/200\n",
      "10/10 [==============================] - ETA: 0s - loss: 0.0088 - semantic_0_loss: 0.0018 - semantic_1_loss: 0.0057 - semantic_2_loss: 0.0012WARNING:tensorflow:Can save best model only with val_loss available, skipping.\n"
     ]
    },
    {
     "name": "stderr",
     "output_type": "stream",
     "text": [
      "WARNING:tensorflow:Can save best model only with val_loss available, skipping.\n"
     ]
    },
    {
     "name": "stdout",
     "output_type": "stream",
     "text": [
      "10/10 [==============================] - 5s 449ms/step - loss: 0.0088 - semantic_0_loss: 0.0018 - semantic_1_loss: 0.0057 - semantic_2_loss: 0.0012 - lr: 4.8499e-05\n",
      "Epoch 74/200\n",
      "10/10 [==============================] - ETA: 0s - loss: 0.0085 - semantic_0_loss: 0.0018 - semantic_1_loss: 0.0055 - semantic_2_loss: 0.0012WARNING:tensorflow:Can save best model only with val_loss available, skipping.\n"
     ]
    },
    {
     "name": "stderr",
     "output_type": "stream",
     "text": [
      "WARNING:tensorflow:Can save best model only with val_loss available, skipping.\n"
     ]
    },
    {
     "name": "stdout",
     "output_type": "stream",
     "text": [
      "10/10 [==============================] - 5s 460ms/step - loss: 0.0085 - semantic_0_loss: 0.0018 - semantic_1_loss: 0.0055 - semantic_2_loss: 0.0012 - lr: 4.8014e-05\n",
      "Epoch 75/200\n",
      "10/10 [==============================] - ETA: 0s - loss: 0.0080 - semantic_0_loss: 0.0017 - semantic_1_loss: 0.0052 - semantic_2_loss: 0.0012WARNING:tensorflow:Can save best model only with val_loss available, skipping.\n"
     ]
    },
    {
     "name": "stderr",
     "output_type": "stream",
     "text": [
      "WARNING:tensorflow:Can save best model only with val_loss available, skipping.\n"
     ]
    },
    {
     "name": "stdout",
     "output_type": "stream",
     "text": [
      "10/10 [==============================] - 5s 461ms/step - loss: 0.0080 - semantic_0_loss: 0.0017 - semantic_1_loss: 0.0052 - semantic_2_loss: 0.0012 - lr: 4.7534e-05\n",
      "Epoch 76/200\n",
      "10/10 [==============================] - ETA: 0s - loss: 0.0083 - semantic_0_loss: 0.0018 - semantic_1_loss: 0.0054 - semantic_2_loss: 0.0012WARNING:tensorflow:Can save best model only with val_loss available, skipping.\n"
     ]
    },
    {
     "name": "stderr",
     "output_type": "stream",
     "text": [
      "WARNING:tensorflow:Can save best model only with val_loss available, skipping.\n"
     ]
    },
    {
     "name": "stdout",
     "output_type": "stream",
     "text": [
      "10/10 [==============================] - 5s 460ms/step - loss: 0.0083 - semantic_0_loss: 0.0018 - semantic_1_loss: 0.0054 - semantic_2_loss: 0.0012 - lr: 4.7059e-05\n",
      "Epoch 77/200\n",
      "10/10 [==============================] - ETA: 0s - loss: 0.0074 - semantic_0_loss: 0.0016 - semantic_1_loss: 0.0047 - semantic_2_loss: 0.0011WARNING:tensorflow:Can save best model only with val_loss available, skipping.\n"
     ]
    },
    {
     "name": "stderr",
     "output_type": "stream",
     "text": [
      "WARNING:tensorflow:Can save best model only with val_loss available, skipping.\n"
     ]
    },
    {
     "name": "stdout",
     "output_type": "stream",
     "text": [
      "10/10 [==============================] - 5s 455ms/step - loss: 0.0074 - semantic_0_loss: 0.0016 - semantic_1_loss: 0.0047 - semantic_2_loss: 0.0011 - lr: 4.6588e-05\n",
      "Epoch 78/200\n",
      "10/10 [==============================] - ETA: 0s - loss: 0.0089 - semantic_0_loss: 0.0019 - semantic_1_loss: 0.0057 - semantic_2_loss: 0.0012WARNING:tensorflow:Can save best model only with val_loss available, skipping.\n"
     ]
    },
    {
     "name": "stderr",
     "output_type": "stream",
     "text": [
      "WARNING:tensorflow:Can save best model only with val_loss available, skipping.\n"
     ]
    },
    {
     "name": "stdout",
     "output_type": "stream",
     "text": [
      "10/10 [==============================] - 5s 494ms/step - loss: 0.0089 - semantic_0_loss: 0.0019 - semantic_1_loss: 0.0057 - semantic_2_loss: 0.0012 - lr: 4.6122e-05\n",
      "Epoch 79/200\n",
      "10/10 [==============================] - ETA: 0s - loss: 0.0083 - semantic_0_loss: 0.0017 - semantic_1_loss: 0.0055 - semantic_2_loss: 0.0012WARNING:tensorflow:Can save best model only with val_loss available, skipping.\n"
     ]
    },
    {
     "name": "stderr",
     "output_type": "stream",
     "text": [
      "WARNING:tensorflow:Can save best model only with val_loss available, skipping.\n"
     ]
    },
    {
     "name": "stdout",
     "output_type": "stream",
     "text": [
      "10/10 [==============================] - 5s 444ms/step - loss: 0.0083 - semantic_0_loss: 0.0017 - semantic_1_loss: 0.0055 - semantic_2_loss: 0.0012 - lr: 4.5661e-05\n",
      "Epoch 80/200\n",
      "10/10 [==============================] - ETA: 0s - loss: 0.0080 - semantic_0_loss: 0.0017 - semantic_1_loss: 0.0052 - semantic_2_loss: 0.0011WARNING:tensorflow:Can save best model only with val_loss available, skipping.\n"
     ]
    },
    {
     "name": "stderr",
     "output_type": "stream",
     "text": [
      "WARNING:tensorflow:Can save best model only with val_loss available, skipping.\n"
     ]
    },
    {
     "name": "stdout",
     "output_type": "stream",
     "text": [
      "10/10 [==============================] - 5s 455ms/step - loss: 0.0080 - semantic_0_loss: 0.0017 - semantic_1_loss: 0.0052 - semantic_2_loss: 0.0011 - lr: 4.5204e-05\n",
      "Epoch 81/200\n",
      "10/10 [==============================] - ETA: 0s - loss: 0.0086 - semantic_0_loss: 0.0018 - semantic_1_loss: 0.0056 - semantic_2_loss: 0.0012WARNING:tensorflow:Can save best model only with val_loss available, skipping.\n"
     ]
    },
    {
     "name": "stderr",
     "output_type": "stream",
     "text": [
      "WARNING:tensorflow:Can save best model only with val_loss available, skipping.\n"
     ]
    },
    {
     "name": "stdout",
     "output_type": "stream",
     "text": [
      "10/10 [==============================] - 5s 460ms/step - loss: 0.0086 - semantic_0_loss: 0.0018 - semantic_1_loss: 0.0056 - semantic_2_loss: 0.0012 - lr: 4.4752e-05\n",
      "Epoch 82/200\n",
      "10/10 [==============================] - ETA: 0s - loss: 0.0088 - semantic_0_loss: 0.0019 - semantic_1_loss: 0.0057 - semantic_2_loss: 0.0012WARNING:tensorflow:Can save best model only with val_loss available, skipping.\n"
     ]
    },
    {
     "name": "stderr",
     "output_type": "stream",
     "text": [
      "WARNING:tensorflow:Can save best model only with val_loss available, skipping.\n"
     ]
    },
    {
     "name": "stdout",
     "output_type": "stream",
     "text": [
      "10/10 [==============================] - 5s 457ms/step - loss: 0.0088 - semantic_0_loss: 0.0019 - semantic_1_loss: 0.0057 - semantic_2_loss: 0.0012 - lr: 4.4305e-05\n",
      "Epoch 83/200\n",
      "10/10 [==============================] - ETA: 0s - loss: 0.0085 - semantic_0_loss: 0.0018 - semantic_1_loss: 0.0055 - semantic_2_loss: 0.0012WARNING:tensorflow:Can save best model only with val_loss available, skipping.\n"
     ]
    },
    {
     "name": "stderr",
     "output_type": "stream",
     "text": [
      "WARNING:tensorflow:Can save best model only with val_loss available, skipping.\n"
     ]
    },
    {
     "name": "stdout",
     "output_type": "stream",
     "text": [
      "10/10 [==============================] - 5s 490ms/step - loss: 0.0085 - semantic_0_loss: 0.0018 - semantic_1_loss: 0.0055 - semantic_2_loss: 0.0012 - lr: 4.3862e-05\n",
      "Epoch 84/200\n",
      "10/10 [==============================] - ETA: 0s - loss: 0.0082 - semantic_0_loss: 0.0017 - semantic_1_loss: 0.0054 - semantic_2_loss: 0.0012WARNING:tensorflow:Can save best model only with val_loss available, skipping.\n"
     ]
    },
    {
     "name": "stderr",
     "output_type": "stream",
     "text": [
      "WARNING:tensorflow:Can save best model only with val_loss available, skipping.\n"
     ]
    },
    {
     "name": "stdout",
     "output_type": "stream",
     "text": [
      "10/10 [==============================] - 5s 491ms/step - loss: 0.0082 - semantic_0_loss: 0.0017 - semantic_1_loss: 0.0054 - semantic_2_loss: 0.0012 - lr: 4.3423e-05\n",
      "Epoch 85/200\n",
      "10/10 [==============================] - ETA: 0s - loss: 0.0085 - semantic_0_loss: 0.0018 - semantic_1_loss: 0.0055 - semantic_2_loss: 0.0012WARNING:tensorflow:Can save best model only with val_loss available, skipping.\n"
     ]
    },
    {
     "name": "stderr",
     "output_type": "stream",
     "text": [
      "WARNING:tensorflow:Can save best model only with val_loss available, skipping.\n"
     ]
    },
    {
     "name": "stdout",
     "output_type": "stream",
     "text": [
      "10/10 [==============================] - 5s 487ms/step - loss: 0.0085 - semantic_0_loss: 0.0018 - semantic_1_loss: 0.0055 - semantic_2_loss: 0.0012 - lr: 4.2989e-05\n",
      "Epoch 86/200\n",
      "10/10 [==============================] - ETA: 0s - loss: 0.0137 - semantic_0_loss: 0.0018 - semantic_1_loss: 0.0106 - semantic_2_loss: 0.0012WARNING:tensorflow:Can save best model only with val_loss available, skipping.\n"
     ]
    },
    {
     "name": "stderr",
     "output_type": "stream",
     "text": [
      "WARNING:tensorflow:Can save best model only with val_loss available, skipping.\n"
     ]
    },
    {
     "name": "stdout",
     "output_type": "stream",
     "text": [
      "10/10 [==============================] - 5s 456ms/step - loss: 0.0137 - semantic_0_loss: 0.0018 - semantic_1_loss: 0.0106 - semantic_2_loss: 0.0012 - lr: 4.2559e-05\n",
      "Epoch 87/200\n",
      "10/10 [==============================] - ETA: 0s - loss: 0.0082 - semantic_0_loss: 0.0018 - semantic_1_loss: 0.0053 - semantic_2_loss: 0.0012WARNING:tensorflow:Can save best model only with val_loss available, skipping.\n"
     ]
    },
    {
     "name": "stderr",
     "output_type": "stream",
     "text": [
      "WARNING:tensorflow:Can save best model only with val_loss available, skipping.\n"
     ]
    },
    {
     "name": "stdout",
     "output_type": "stream",
     "text": [
      "10/10 [==============================] - 5s 459ms/step - loss: 0.0082 - semantic_0_loss: 0.0018 - semantic_1_loss: 0.0053 - semantic_2_loss: 0.0012 - lr: 4.2133e-05\n",
      "Epoch 88/200\n",
      "10/10 [==============================] - ETA: 0s - loss: 0.0083 - semantic_0_loss: 0.0018 - semantic_1_loss: 0.0054 - semantic_2_loss: 0.0012WARNING:tensorflow:Can save best model only with val_loss available, skipping.\n"
     ]
    },
    {
     "name": "stderr",
     "output_type": "stream",
     "text": [
      "WARNING:tensorflow:Can save best model only with val_loss available, skipping.\n"
     ]
    },
    {
     "name": "stdout",
     "output_type": "stream",
     "text": [
      "10/10 [==============================] - 5s 464ms/step - loss: 0.0083 - semantic_0_loss: 0.0018 - semantic_1_loss: 0.0054 - semantic_2_loss: 0.0012 - lr: 4.1712e-05\n",
      "Epoch 89/200\n",
      "10/10 [==============================] - ETA: 0s - loss: 0.0082 - semantic_0_loss: 0.0017 - semantic_1_loss: 0.0053 - semantic_2_loss: 0.0011WARNING:tensorflow:Can save best model only with val_loss available, skipping.\n"
     ]
    },
    {
     "name": "stderr",
     "output_type": "stream",
     "text": [
      "WARNING:tensorflow:Can save best model only with val_loss available, skipping.\n"
     ]
    },
    {
     "name": "stdout",
     "output_type": "stream",
     "text": [
      "10/10 [==============================] - 5s 474ms/step - loss: 0.0082 - semantic_0_loss: 0.0017 - semantic_1_loss: 0.0053 - semantic_2_loss: 0.0011 - lr: 4.1295e-05\n",
      "Epoch 90/200\n",
      "10/10 [==============================] - ETA: 0s - loss: 0.0083 - semantic_0_loss: 0.0018 - semantic_1_loss: 0.0053 - semantic_2_loss: 0.0012WARNING:tensorflow:Can save best model only with val_loss available, skipping.\n"
     ]
    },
    {
     "name": "stderr",
     "output_type": "stream",
     "text": [
      "WARNING:tensorflow:Can save best model only with val_loss available, skipping.\n"
     ]
    },
    {
     "name": "stdout",
     "output_type": "stream",
     "text": [
      "10/10 [==============================] - 5s 458ms/step - loss: 0.0083 - semantic_0_loss: 0.0018 - semantic_1_loss: 0.0053 - semantic_2_loss: 0.0012 - lr: 4.0882e-05\n",
      "Epoch 91/200\n",
      "10/10 [==============================] - ETA: 0s - loss: 0.0083 - semantic_0_loss: 0.0018 - semantic_1_loss: 0.0054 - semantic_2_loss: 0.0012WARNING:tensorflow:Can save best model only with val_loss available, skipping.\n"
     ]
    },
    {
     "name": "stderr",
     "output_type": "stream",
     "text": [
      "WARNING:tensorflow:Can save best model only with val_loss available, skipping.\n"
     ]
    },
    {
     "name": "stdout",
     "output_type": "stream",
     "text": [
      "10/10 [==============================] - 5s 449ms/step - loss: 0.0083 - semantic_0_loss: 0.0018 - semantic_1_loss: 0.0054 - semantic_2_loss: 0.0012 - lr: 4.0473e-05\n",
      "Epoch 92/200\n",
      "10/10 [==============================] - ETA: 0s - loss: 0.0080 - semantic_0_loss: 0.0018 - semantic_1_loss: 0.0051 - semantic_2_loss: 0.0011WARNING:tensorflow:Can save best model only with val_loss available, skipping.\n"
     ]
    },
    {
     "name": "stderr",
     "output_type": "stream",
     "text": [
      "WARNING:tensorflow:Can save best model only with val_loss available, skipping.\n"
     ]
    },
    {
     "name": "stdout",
     "output_type": "stream",
     "text": [
      "10/10 [==============================] - 5s 463ms/step - loss: 0.0080 - semantic_0_loss: 0.0018 - semantic_1_loss: 0.0051 - semantic_2_loss: 0.0011 - lr: 4.0068e-05\n",
      "Epoch 93/200\n",
      "10/10 [==============================] - ETA: 0s - loss: 0.0079 - semantic_0_loss: 0.0017 - semantic_1_loss: 0.0051 - semantic_2_loss: 0.0011WARNING:tensorflow:Can save best model only with val_loss available, skipping.\n"
     ]
    },
    {
     "name": "stderr",
     "output_type": "stream",
     "text": [
      "WARNING:tensorflow:Can save best model only with val_loss available, skipping.\n"
     ]
    },
    {
     "name": "stdout",
     "output_type": "stream",
     "text": [
      "10/10 [==============================] - 5s 462ms/step - loss: 0.0079 - semantic_0_loss: 0.0017 - semantic_1_loss: 0.0051 - semantic_2_loss: 0.0011 - lr: 3.9668e-05\n",
      "Epoch 94/200\n",
      "10/10 [==============================] - ETA: 0s - loss: 0.0083 - semantic_0_loss: 0.0018 - semantic_1_loss: 0.0054 - semantic_2_loss: 0.0012WARNING:tensorflow:Can save best model only with val_loss available, skipping.\n"
     ]
    },
    {
     "name": "stderr",
     "output_type": "stream",
     "text": [
      "WARNING:tensorflow:Can save best model only with val_loss available, skipping.\n"
     ]
    },
    {
     "name": "stdout",
     "output_type": "stream",
     "text": [
      "10/10 [==============================] - 5s 457ms/step - loss: 0.0083 - semantic_0_loss: 0.0018 - semantic_1_loss: 0.0054 - semantic_2_loss: 0.0012 - lr: 3.9271e-05\n",
      "Epoch 95/200\n",
      "10/10 [==============================] - ETA: 0s - loss: 0.0075 - semantic_0_loss: 0.0016 - semantic_1_loss: 0.0047 - semantic_2_loss: 0.0011WARNING:tensorflow:Can save best model only with val_loss available, skipping.\n"
     ]
    },
    {
     "name": "stderr",
     "output_type": "stream",
     "text": [
      "WARNING:tensorflow:Can save best model only with val_loss available, skipping.\n"
     ]
    },
    {
     "name": "stdout",
     "output_type": "stream",
     "text": [
      "10/10 [==============================] - 5s 463ms/step - loss: 0.0075 - semantic_0_loss: 0.0016 - semantic_1_loss: 0.0047 - semantic_2_loss: 0.0011 - lr: 3.8878e-05\n",
      "Epoch 96/200\n",
      "10/10 [==============================] - ETA: 0s - loss: 0.0076 - semantic_0_loss: 0.0016 - semantic_1_loss: 0.0049 - semantic_2_loss: 0.0011WARNING:tensorflow:Can save best model only with val_loss available, skipping.\n"
     ]
    },
    {
     "name": "stderr",
     "output_type": "stream",
     "text": [
      "WARNING:tensorflow:Can save best model only with val_loss available, skipping.\n"
     ]
    },
    {
     "name": "stdout",
     "output_type": "stream",
     "text": [
      "10/10 [==============================] - 5s 469ms/step - loss: 0.0076 - semantic_0_loss: 0.0016 - semantic_1_loss: 0.0049 - semantic_2_loss: 0.0011 - lr: 3.8490e-05\n",
      "Epoch 97/200\n",
      "10/10 [==============================] - ETA: 0s - loss: 0.0083 - semantic_0_loss: 0.0018 - semantic_1_loss: 0.0054 - semantic_2_loss: 0.0012WARNING:tensorflow:Can save best model only with val_loss available, skipping.\n"
     ]
    },
    {
     "name": "stderr",
     "output_type": "stream",
     "text": [
      "WARNING:tensorflow:Can save best model only with val_loss available, skipping.\n"
     ]
    },
    {
     "name": "stdout",
     "output_type": "stream",
     "text": [
      "10/10 [==============================] - 5s 456ms/step - loss: 0.0083 - semantic_0_loss: 0.0018 - semantic_1_loss: 0.0054 - semantic_2_loss: 0.0012 - lr: 3.8105e-05\n",
      "Epoch 98/200\n",
      "10/10 [==============================] - ETA: 0s - loss: 0.0073 - semantic_0_loss: 0.0016 - semantic_1_loss: 0.0046 - semantic_2_loss: 0.0011WARNING:tensorflow:Can save best model only with val_loss available, skipping.\n"
     ]
    },
    {
     "name": "stderr",
     "output_type": "stream",
     "text": [
      "WARNING:tensorflow:Can save best model only with val_loss available, skipping.\n"
     ]
    },
    {
     "name": "stdout",
     "output_type": "stream",
     "text": [
      "10/10 [==============================] - 5s 456ms/step - loss: 0.0073 - semantic_0_loss: 0.0016 - semantic_1_loss: 0.0046 - semantic_2_loss: 0.0011 - lr: 3.7724e-05\n",
      "Epoch 99/200\n",
      "10/10 [==============================] - ETA: 0s - loss: 0.0082 - semantic_0_loss: 0.0019 - semantic_1_loss: 0.0052 - semantic_2_loss: 0.0011WARNING:tensorflow:Can save best model only with val_loss available, skipping.\n"
     ]
    },
    {
     "name": "stderr",
     "output_type": "stream",
     "text": [
      "WARNING:tensorflow:Can save best model only with val_loss available, skipping.\n"
     ]
    },
    {
     "name": "stdout",
     "output_type": "stream",
     "text": [
      "10/10 [==============================] - 5s 488ms/step - loss: 0.0082 - semantic_0_loss: 0.0019 - semantic_1_loss: 0.0052 - semantic_2_loss: 0.0011 - lr: 3.7346e-05\n",
      "Epoch 100/200\n",
      "10/10 [==============================] - ETA: 0s - loss: 0.0075 - semantic_0_loss: 0.0016 - semantic_1_loss: 0.0048 - semantic_2_loss: 0.0011WARNING:tensorflow:Can save best model only with val_loss available, skipping.\n"
     ]
    },
    {
     "name": "stderr",
     "output_type": "stream",
     "text": [
      "WARNING:tensorflow:Can save best model only with val_loss available, skipping.\n"
     ]
    },
    {
     "name": "stdout",
     "output_type": "stream",
     "text": [
      "10/10 [==============================] - 5s 460ms/step - loss: 0.0075 - semantic_0_loss: 0.0016 - semantic_1_loss: 0.0048 - semantic_2_loss: 0.0011 - lr: 3.6973e-05\n",
      "Epoch 101/200\n",
      "10/10 [==============================] - ETA: 0s - loss: 0.0074 - semantic_0_loss: 0.0016 - semantic_1_loss: 0.0047 - semantic_2_loss: 0.0011WARNING:tensorflow:Can save best model only with val_loss available, skipping.\n"
     ]
    },
    {
     "name": "stderr",
     "output_type": "stream",
     "text": [
      "WARNING:tensorflow:Can save best model only with val_loss available, skipping.\n"
     ]
    },
    {
     "name": "stdout",
     "output_type": "stream",
     "text": [
      "10/10 [==============================] - 5s 454ms/step - loss: 0.0074 - semantic_0_loss: 0.0016 - semantic_1_loss: 0.0047 - semantic_2_loss: 0.0011 - lr: 3.6603e-05\n",
      "Epoch 102/200\n",
      "10/10 [==============================] - ETA: 0s - loss: 0.0077 - semantic_0_loss: 0.0017 - semantic_1_loss: 0.0049 - semantic_2_loss: 0.0011WARNING:tensorflow:Can save best model only with val_loss available, skipping.\n"
     ]
    },
    {
     "name": "stderr",
     "output_type": "stream",
     "text": [
      "WARNING:tensorflow:Can save best model only with val_loss available, skipping.\n"
     ]
    },
    {
     "name": "stdout",
     "output_type": "stream",
     "text": [
      "10/10 [==============================] - 5s 454ms/step - loss: 0.0077 - semantic_0_loss: 0.0017 - semantic_1_loss: 0.0049 - semantic_2_loss: 0.0011 - lr: 3.6237e-05\n",
      "Epoch 103/200\n",
      "10/10 [==============================] - ETA: 0s - loss: 0.0085 - semantic_0_loss: 0.0018 - semantic_1_loss: 0.0054 - semantic_2_loss: 0.0012WARNING:tensorflow:Can save best model only with val_loss available, skipping.\n"
     ]
    },
    {
     "name": "stderr",
     "output_type": "stream",
     "text": [
      "WARNING:tensorflow:Can save best model only with val_loss available, skipping.\n"
     ]
    },
    {
     "name": "stdout",
     "output_type": "stream",
     "text": [
      "10/10 [==============================] - 5s 463ms/step - loss: 0.0085 - semantic_0_loss: 0.0018 - semantic_1_loss: 0.0054 - semantic_2_loss: 0.0012 - lr: 3.5875e-05\n",
      "Epoch 104/200\n",
      "10/10 [==============================] - ETA: 0s - loss: 0.0082 - semantic_0_loss: 0.0017 - semantic_1_loss: 0.0053 - semantic_2_loss: 0.0012WARNING:tensorflow:Can save best model only with val_loss available, skipping.\n"
     ]
    },
    {
     "name": "stderr",
     "output_type": "stream",
     "text": [
      "WARNING:tensorflow:Can save best model only with val_loss available, skipping.\n"
     ]
    },
    {
     "name": "stdout",
     "output_type": "stream",
     "text": [
      "10/10 [==============================] - 5s 484ms/step - loss: 0.0082 - semantic_0_loss: 0.0017 - semantic_1_loss: 0.0053 - semantic_2_loss: 0.0012 - lr: 3.5516e-05\n",
      "Epoch 105/200\n",
      "10/10 [==============================] - ETA: 0s - loss: 0.0085 - semantic_0_loss: 0.0019 - semantic_1_loss: 0.0055 - semantic_2_loss: 0.0012WARNING:tensorflow:Can save best model only with val_loss available, skipping.\n"
     ]
    },
    {
     "name": "stderr",
     "output_type": "stream",
     "text": [
      "WARNING:tensorflow:Can save best model only with val_loss available, skipping.\n"
     ]
    },
    {
     "name": "stdout",
     "output_type": "stream",
     "text": [
      "10/10 [==============================] - 5s 457ms/step - loss: 0.0085 - semantic_0_loss: 0.0019 - semantic_1_loss: 0.0055 - semantic_2_loss: 0.0012 - lr: 3.5161e-05\n",
      "Epoch 106/200\n",
      "10/10 [==============================] - ETA: 0s - loss: 0.0072 - semantic_0_loss: 0.0016 - semantic_1_loss: 0.0045 - semantic_2_loss: 0.0011WARNING:tensorflow:Can save best model only with val_loss available, skipping.\n"
     ]
    },
    {
     "name": "stderr",
     "output_type": "stream",
     "text": [
      "WARNING:tensorflow:Can save best model only with val_loss available, skipping.\n"
     ]
    },
    {
     "name": "stdout",
     "output_type": "stream",
     "text": [
      "10/10 [==============================] - 5s 446ms/step - loss: 0.0072 - semantic_0_loss: 0.0016 - semantic_1_loss: 0.0045 - semantic_2_loss: 0.0011 - lr: 3.4809e-05\n",
      "Epoch 107/200\n",
      "10/10 [==============================] - ETA: 0s - loss: 0.0082 - semantic_0_loss: 0.0017 - semantic_1_loss: 0.0053 - semantic_2_loss: 0.0012WARNING:tensorflow:Can save best model only with val_loss available, skipping.\n"
     ]
    },
    {
     "name": "stderr",
     "output_type": "stream",
     "text": [
      "WARNING:tensorflow:Can save best model only with val_loss available, skipping.\n"
     ]
    },
    {
     "name": "stdout",
     "output_type": "stream",
     "text": [
      "10/10 [==============================] - 5s 456ms/step - loss: 0.0082 - semantic_0_loss: 0.0017 - semantic_1_loss: 0.0053 - semantic_2_loss: 0.0012 - lr: 3.4461e-05\n",
      "Epoch 108/200\n",
      "10/10 [==============================] - ETA: 0s - loss: 0.0077 - semantic_0_loss: 0.0017 - semantic_1_loss: 0.0049 - semantic_2_loss: 0.0011WARNING:tensorflow:Can save best model only with val_loss available, skipping.\n"
     ]
    },
    {
     "name": "stderr",
     "output_type": "stream",
     "text": [
      "WARNING:tensorflow:Can save best model only with val_loss available, skipping.\n"
     ]
    },
    {
     "name": "stdout",
     "output_type": "stream",
     "text": [
      "10/10 [==============================] - 5s 453ms/step - loss: 0.0077 - semantic_0_loss: 0.0017 - semantic_1_loss: 0.0049 - semantic_2_loss: 0.0011 - lr: 3.4117e-05\n",
      "Epoch 109/200\n",
      "10/10 [==============================] - ETA: 0s - loss: 0.0079 - semantic_0_loss: 0.0017 - semantic_1_loss: 0.0051 - semantic_2_loss: 0.0011WARNING:tensorflow:Can save best model only with val_loss available, skipping.\n"
     ]
    },
    {
     "name": "stderr",
     "output_type": "stream",
     "text": [
      "WARNING:tensorflow:Can save best model only with val_loss available, skipping.\n"
     ]
    },
    {
     "name": "stdout",
     "output_type": "stream",
     "text": [
      "10/10 [==============================] - 5s 455ms/step - loss: 0.0079 - semantic_0_loss: 0.0017 - semantic_1_loss: 0.0051 - semantic_2_loss: 0.0011 - lr: 3.3775e-05\n",
      "Epoch 110/200\n",
      "10/10 [==============================] - ETA: 0s - loss: 0.0075 - semantic_0_loss: 0.0016 - semantic_1_loss: 0.0048 - semantic_2_loss: 0.0011WARNING:tensorflow:Can save best model only with val_loss available, skipping.\n"
     ]
    },
    {
     "name": "stderr",
     "output_type": "stream",
     "text": [
      "WARNING:tensorflow:Can save best model only with val_loss available, skipping.\n"
     ]
    },
    {
     "name": "stdout",
     "output_type": "stream",
     "text": [
      "10/10 [==============================] - 5s 456ms/step - loss: 0.0075 - semantic_0_loss: 0.0016 - semantic_1_loss: 0.0048 - semantic_2_loss: 0.0011 - lr: 3.3438e-05\n",
      "Epoch 111/200\n",
      "10/10 [==============================] - ETA: 0s - loss: 0.0085 - semantic_0_loss: 0.0019 - semantic_1_loss: 0.0054 - semantic_2_loss: 0.0012WARNING:tensorflow:Can save best model only with val_loss available, skipping.\n"
     ]
    },
    {
     "name": "stderr",
     "output_type": "stream",
     "text": [
      "WARNING:tensorflow:Can save best model only with val_loss available, skipping.\n"
     ]
    },
    {
     "name": "stdout",
     "output_type": "stream",
     "text": [
      "10/10 [==============================] - 5s 468ms/step - loss: 0.0085 - semantic_0_loss: 0.0019 - semantic_1_loss: 0.0054 - semantic_2_loss: 0.0012 - lr: 3.3103e-05\n",
      "Epoch 112/200\n",
      "10/10 [==============================] - ETA: 0s - loss: 0.0079 - semantic_0_loss: 0.0017 - semantic_1_loss: 0.0050 - semantic_2_loss: 0.0011WARNING:tensorflow:Can save best model only with val_loss available, skipping.\n"
     ]
    },
    {
     "name": "stderr",
     "output_type": "stream",
     "text": [
      "WARNING:tensorflow:Can save best model only with val_loss available, skipping.\n"
     ]
    },
    {
     "name": "stdout",
     "output_type": "stream",
     "text": [
      "10/10 [==============================] - 5s 456ms/step - loss: 0.0079 - semantic_0_loss: 0.0017 - semantic_1_loss: 0.0050 - semantic_2_loss: 0.0011 - lr: 3.2772e-05\n",
      "Epoch 113/200\n",
      "10/10 [==============================] - ETA: 0s - loss: 0.0074 - semantic_0_loss: 0.0016 - semantic_1_loss: 0.0047 - semantic_2_loss: 0.0011WARNING:tensorflow:Can save best model only with val_loss available, skipping.\n"
     ]
    },
    {
     "name": "stderr",
     "output_type": "stream",
     "text": [
      "WARNING:tensorflow:Can save best model only with val_loss available, skipping.\n"
     ]
    },
    {
     "name": "stdout",
     "output_type": "stream",
     "text": [
      "10/10 [==============================] - 5s 456ms/step - loss: 0.0074 - semantic_0_loss: 0.0016 - semantic_1_loss: 0.0047 - semantic_2_loss: 0.0011 - lr: 3.2445e-05\n",
      "Epoch 114/200\n",
      "10/10 [==============================] - ETA: 0s - loss: 0.0077 - semantic_0_loss: 0.0017 - semantic_1_loss: 0.0049 - semantic_2_loss: 0.0011WARNING:tensorflow:Can save best model only with val_loss available, skipping.\n"
     ]
    },
    {
     "name": "stderr",
     "output_type": "stream",
     "text": [
      "WARNING:tensorflow:Can save best model only with val_loss available, skipping.\n"
     ]
    },
    {
     "name": "stdout",
     "output_type": "stream",
     "text": [
      "10/10 [==============================] - 5s 447ms/step - loss: 0.0077 - semantic_0_loss: 0.0017 - semantic_1_loss: 0.0049 - semantic_2_loss: 0.0011 - lr: 3.2120e-05\n",
      "Epoch 115/200\n",
      "10/10 [==============================] - ETA: 0s - loss: 0.0084 - semantic_0_loss: 0.0018 - semantic_1_loss: 0.0054 - semantic_2_loss: 0.0012WARNING:tensorflow:Can save best model only with val_loss available, skipping.\n"
     ]
    },
    {
     "name": "stderr",
     "output_type": "stream",
     "text": [
      "WARNING:tensorflow:Can save best model only with val_loss available, skipping.\n"
     ]
    },
    {
     "name": "stdout",
     "output_type": "stream",
     "text": [
      "10/10 [==============================] - 5s 447ms/step - loss: 0.0084 - semantic_0_loss: 0.0018 - semantic_1_loss: 0.0054 - semantic_2_loss: 0.0012 - lr: 3.1799e-05\n",
      "Epoch 116/200\n",
      "10/10 [==============================] - ETA: 0s - loss: 0.0079 - semantic_0_loss: 0.0017 - semantic_1_loss: 0.0051 - semantic_2_loss: 0.0011WARNING:tensorflow:Can save best model only with val_loss available, skipping.\n"
     ]
    },
    {
     "name": "stderr",
     "output_type": "stream",
     "text": [
      "WARNING:tensorflow:Can save best model only with val_loss available, skipping.\n"
     ]
    },
    {
     "name": "stdout",
     "output_type": "stream",
     "text": [
      "10/10 [==============================] - 5s 463ms/step - loss: 0.0079 - semantic_0_loss: 0.0017 - semantic_1_loss: 0.0051 - semantic_2_loss: 0.0011 - lr: 3.1481e-05\n",
      "Epoch 117/200\n",
      "10/10 [==============================] - ETA: 0s - loss: 0.0072 - semantic_0_loss: 0.0016 - semantic_1_loss: 0.0045 - semantic_2_loss: 0.0011WARNING:tensorflow:Can save best model only with val_loss available, skipping.\n"
     ]
    },
    {
     "name": "stderr",
     "output_type": "stream",
     "text": [
      "WARNING:tensorflow:Can save best model only with val_loss available, skipping.\n"
     ]
    },
    {
     "name": "stdout",
     "output_type": "stream",
     "text": [
      "10/10 [==============================] - 5s 445ms/step - loss: 0.0072 - semantic_0_loss: 0.0016 - semantic_1_loss: 0.0045 - semantic_2_loss: 0.0011 - lr: 3.1166e-05\n",
      "Epoch 118/200\n",
      "10/10 [==============================] - ETA: 0s - loss: 0.0081 - semantic_0_loss: 0.0018 - semantic_1_loss: 0.0052 - semantic_2_loss: 0.0012WARNING:tensorflow:Can save best model only with val_loss available, skipping.\n"
     ]
    },
    {
     "name": "stderr",
     "output_type": "stream",
     "text": [
      "WARNING:tensorflow:Can save best model only with val_loss available, skipping.\n"
     ]
    },
    {
     "name": "stdout",
     "output_type": "stream",
     "text": [
      "10/10 [==============================] - 5s 452ms/step - loss: 0.0081 - semantic_0_loss: 0.0018 - semantic_1_loss: 0.0052 - semantic_2_loss: 0.0012 - lr: 3.0854e-05\n",
      "Epoch 119/200\n",
      "10/10 [==============================] - ETA: 0s - loss: 0.0077 - semantic_0_loss: 0.0016 - semantic_1_loss: 0.0049 - semantic_2_loss: 0.0011WARNING:tensorflow:Can save best model only with val_loss available, skipping.\n"
     ]
    },
    {
     "name": "stderr",
     "output_type": "stream",
     "text": [
      "WARNING:tensorflow:Can save best model only with val_loss available, skipping.\n"
     ]
    },
    {
     "name": "stdout",
     "output_type": "stream",
     "text": [
      "10/10 [==============================] - 5s 476ms/step - loss: 0.0077 - semantic_0_loss: 0.0016 - semantic_1_loss: 0.0049 - semantic_2_loss: 0.0011 - lr: 3.0546e-05\n",
      "Epoch 120/200\n",
      "10/10 [==============================] - ETA: 0s - loss: 0.0073 - semantic_0_loss: 0.0016 - semantic_1_loss: 0.0046 - semantic_2_loss: 0.0011WARNING:tensorflow:Can save best model only with val_loss available, skipping.\n"
     ]
    },
    {
     "name": "stderr",
     "output_type": "stream",
     "text": [
      "WARNING:tensorflow:Can save best model only with val_loss available, skipping.\n"
     ]
    },
    {
     "name": "stdout",
     "output_type": "stream",
     "text": [
      "10/10 [==============================] - 5s 491ms/step - loss: 0.0073 - semantic_0_loss: 0.0016 - semantic_1_loss: 0.0046 - semantic_2_loss: 0.0011 - lr: 3.0240e-05\n",
      "Epoch 121/200\n",
      "10/10 [==============================] - ETA: 0s - loss: 0.0081 - semantic_0_loss: 0.0018 - semantic_1_loss: 0.0052 - semantic_2_loss: 0.0011WARNING:tensorflow:Can save best model only with val_loss available, skipping.\n"
     ]
    },
    {
     "name": "stderr",
     "output_type": "stream",
     "text": [
      "WARNING:tensorflow:Can save best model only with val_loss available, skipping.\n"
     ]
    },
    {
     "name": "stdout",
     "output_type": "stream",
     "text": [
      "10/10 [==============================] - 5s 476ms/step - loss: 0.0081 - semantic_0_loss: 0.0018 - semantic_1_loss: 0.0052 - semantic_2_loss: 0.0011 - lr: 2.9938e-05\n",
      "Epoch 122/200\n",
      "10/10 [==============================] - ETA: 0s - loss: 0.0078 - semantic_0_loss: 0.0017 - semantic_1_loss: 0.0050 - semantic_2_loss: 0.0011WARNING:tensorflow:Can save best model only with val_loss available, skipping.\n"
     ]
    },
    {
     "name": "stderr",
     "output_type": "stream",
     "text": [
      "WARNING:tensorflow:Can save best model only with val_loss available, skipping.\n"
     ]
    },
    {
     "name": "stdout",
     "output_type": "stream",
     "text": [
      "10/10 [==============================] - 5s 464ms/step - loss: 0.0078 - semantic_0_loss: 0.0017 - semantic_1_loss: 0.0050 - semantic_2_loss: 0.0011 - lr: 2.9639e-05\n",
      "Epoch 123/200\n",
      "10/10 [==============================] - ETA: 0s - loss: 0.0080 - semantic_0_loss: 0.0018 - semantic_1_loss: 0.0051 - semantic_2_loss: 0.0011WARNING:tensorflow:Can save best model only with val_loss available, skipping.\n"
     ]
    },
    {
     "name": "stderr",
     "output_type": "stream",
     "text": [
      "WARNING:tensorflow:Can save best model only with val_loss available, skipping.\n"
     ]
    },
    {
     "name": "stdout",
     "output_type": "stream",
     "text": [
      "10/10 [==============================] - 5s 463ms/step - loss: 0.0080 - semantic_0_loss: 0.0018 - semantic_1_loss: 0.0051 - semantic_2_loss: 0.0011 - lr: 2.9342e-05\n",
      "Epoch 124/200\n",
      "10/10 [==============================] - ETA: 0s - loss: 0.0082 - semantic_0_loss: 0.0018 - semantic_1_loss: 0.0052 - semantic_2_loss: 0.0011WARNING:tensorflow:Can save best model only with val_loss available, skipping.\n"
     ]
    },
    {
     "name": "stderr",
     "output_type": "stream",
     "text": [
      "WARNING:tensorflow:Can save best model only with val_loss available, skipping.\n"
     ]
    },
    {
     "name": "stdout",
     "output_type": "stream",
     "text": [
      "10/10 [==============================] - 5s 464ms/step - loss: 0.0082 - semantic_0_loss: 0.0018 - semantic_1_loss: 0.0052 - semantic_2_loss: 0.0011 - lr: 2.9049e-05\n",
      "Epoch 125/200\n",
      "10/10 [==============================] - ETA: 0s - loss: 0.0067 - semantic_0_loss: 0.0015 - semantic_1_loss: 0.0042 - semantic_2_loss: 0.0011WARNING:tensorflow:Can save best model only with val_loss available, skipping.\n"
     ]
    },
    {
     "name": "stderr",
     "output_type": "stream",
     "text": [
      "WARNING:tensorflow:Can save best model only with val_loss available, skipping.\n"
     ]
    },
    {
     "name": "stdout",
     "output_type": "stream",
     "text": [
      "10/10 [==============================] - 5s 458ms/step - loss: 0.0067 - semantic_0_loss: 0.0015 - semantic_1_loss: 0.0042 - semantic_2_loss: 0.0011 - lr: 2.8758e-05\n",
      "Epoch 126/200\n",
      "10/10 [==============================] - ETA: 0s - loss: 0.0073 - semantic_0_loss: 0.0016 - semantic_1_loss: 0.0047 - semantic_2_loss: 0.0011WARNING:tensorflow:Can save best model only with val_loss available, skipping.\n"
     ]
    },
    {
     "name": "stderr",
     "output_type": "stream",
     "text": [
      "WARNING:tensorflow:Can save best model only with val_loss available, skipping.\n"
     ]
    },
    {
     "name": "stdout",
     "output_type": "stream",
     "text": [
      "10/10 [==============================] - 5s 447ms/step - loss: 0.0073 - semantic_0_loss: 0.0016 - semantic_1_loss: 0.0047 - semantic_2_loss: 0.0011 - lr: 2.8471e-05\n",
      "Epoch 127/200\n",
      "10/10 [==============================] - ETA: 0s - loss: 0.0081 - semantic_0_loss: 0.0018 - semantic_1_loss: 0.0052 - semantic_2_loss: 0.0012WARNING:tensorflow:Can save best model only with val_loss available, skipping.\n"
     ]
    },
    {
     "name": "stderr",
     "output_type": "stream",
     "text": [
      "WARNING:tensorflow:Can save best model only with val_loss available, skipping.\n"
     ]
    },
    {
     "name": "stdout",
     "output_type": "stream",
     "text": [
      "10/10 [==============================] - 5s 454ms/step - loss: 0.0081 - semantic_0_loss: 0.0018 - semantic_1_loss: 0.0052 - semantic_2_loss: 0.0012 - lr: 2.8186e-05\n",
      "Epoch 128/200\n",
      "10/10 [==============================] - ETA: 0s - loss: 0.0078 - semantic_0_loss: 0.0017 - semantic_1_loss: 0.0050 - semantic_2_loss: 0.0011WARNING:tensorflow:Can save best model only with val_loss available, skipping.\n"
     ]
    },
    {
     "name": "stderr",
     "output_type": "stream",
     "text": [
      "WARNING:tensorflow:Can save best model only with val_loss available, skipping.\n"
     ]
    },
    {
     "name": "stdout",
     "output_type": "stream",
     "text": [
      "10/10 [==============================] - 5s 462ms/step - loss: 0.0078 - semantic_0_loss: 0.0017 - semantic_1_loss: 0.0050 - semantic_2_loss: 0.0011 - lr: 2.7904e-05\n",
      "Epoch 129/200\n",
      "10/10 [==============================] - ETA: 0s - loss: 0.0077 - semantic_0_loss: 0.0017 - semantic_1_loss: 0.0049 - semantic_2_loss: 0.0011WARNING:tensorflow:Can save best model only with val_loss available, skipping.\n"
     ]
    },
    {
     "name": "stderr",
     "output_type": "stream",
     "text": [
      "WARNING:tensorflow:Can save best model only with val_loss available, skipping.\n"
     ]
    },
    {
     "name": "stdout",
     "output_type": "stream",
     "text": [
      "10/10 [==============================] - 5s 455ms/step - loss: 0.0077 - semantic_0_loss: 0.0017 - semantic_1_loss: 0.0049 - semantic_2_loss: 0.0011 - lr: 2.7625e-05\n",
      "Epoch 130/200\n",
      "10/10 [==============================] - ETA: 0s - loss: 0.0069 - semantic_0_loss: 0.0015 - semantic_1_loss: 0.0043 - semantic_2_loss: 0.0011WARNING:tensorflow:Can save best model only with val_loss available, skipping.\n"
     ]
    },
    {
     "name": "stderr",
     "output_type": "stream",
     "text": [
      "WARNING:tensorflow:Can save best model only with val_loss available, skipping.\n"
     ]
    },
    {
     "name": "stdout",
     "output_type": "stream",
     "text": [
      "10/10 [==============================] - 5s 456ms/step - loss: 0.0069 - semantic_0_loss: 0.0015 - semantic_1_loss: 0.0043 - semantic_2_loss: 0.0011 - lr: 2.7349e-05\n",
      "Epoch 131/200\n",
      "10/10 [==============================] - ETA: 0s - loss: 0.0075 - semantic_0_loss: 0.0017 - semantic_1_loss: 0.0048 - semantic_2_loss: 0.0011WARNING:tensorflow:Can save best model only with val_loss available, skipping.\n"
     ]
    },
    {
     "name": "stderr",
     "output_type": "stream",
     "text": [
      "WARNING:tensorflow:Can save best model only with val_loss available, skipping.\n"
     ]
    },
    {
     "name": "stdout",
     "output_type": "stream",
     "text": [
      "10/10 [==============================] - 5s 487ms/step - loss: 0.0075 - semantic_0_loss: 0.0017 - semantic_1_loss: 0.0048 - semantic_2_loss: 0.0011 - lr: 2.7075e-05\n",
      "Epoch 132/200\n",
      "10/10 [==============================] - ETA: 0s - loss: 0.0064 - semantic_0_loss: 0.0014 - semantic_1_loss: 0.0039 - semantic_2_loss: 0.0010WARNING:tensorflow:Can save best model only with val_loss available, skipping.\n"
     ]
    },
    {
     "name": "stderr",
     "output_type": "stream",
     "text": [
      "WARNING:tensorflow:Can save best model only with val_loss available, skipping.\n"
     ]
    },
    {
     "name": "stdout",
     "output_type": "stream",
     "text": [
      "10/10 [==============================] - 5s 482ms/step - loss: 0.0064 - semantic_0_loss: 0.0014 - semantic_1_loss: 0.0039 - semantic_2_loss: 0.0010 - lr: 2.6805e-05\n",
      "Epoch 133/200\n",
      "10/10 [==============================] - ETA: 0s - loss: 0.0075 - semantic_0_loss: 0.0016 - semantic_1_loss: 0.0048 - semantic_2_loss: 0.0011WARNING:tensorflow:Can save best model only with val_loss available, skipping.\n"
     ]
    },
    {
     "name": "stderr",
     "output_type": "stream",
     "text": [
      "WARNING:tensorflow:Can save best model only with val_loss available, skipping.\n"
     ]
    },
    {
     "name": "stdout",
     "output_type": "stream",
     "text": [
      "10/10 [==============================] - 5s 440ms/step - loss: 0.0075 - semantic_0_loss: 0.0016 - semantic_1_loss: 0.0048 - semantic_2_loss: 0.0011 - lr: 2.6537e-05\n",
      "Epoch 134/200\n",
      "10/10 [==============================] - ETA: 0s - loss: 0.0073 - semantic_0_loss: 0.0016 - semantic_1_loss: 0.0047 - semantic_2_loss: 0.0011WARNING:tensorflow:Can save best model only with val_loss available, skipping.\n"
     ]
    },
    {
     "name": "stderr",
     "output_type": "stream",
     "text": [
      "WARNING:tensorflow:Can save best model only with val_loss available, skipping.\n"
     ]
    },
    {
     "name": "stdout",
     "output_type": "stream",
     "text": [
      "10/10 [==============================] - 5s 461ms/step - loss: 0.0073 - semantic_0_loss: 0.0016 - semantic_1_loss: 0.0047 - semantic_2_loss: 0.0011 - lr: 2.6271e-05\n",
      "Epoch 135/200\n",
      "10/10 [==============================] - ETA: 0s - loss: 0.0071 - semantic_0_loss: 0.0015 - semantic_1_loss: 0.0044 - semantic_2_loss: 0.0011WARNING:tensorflow:Can save best model only with val_loss available, skipping.\n"
     ]
    },
    {
     "name": "stderr",
     "output_type": "stream",
     "text": [
      "WARNING:tensorflow:Can save best model only with val_loss available, skipping.\n"
     ]
    },
    {
     "name": "stdout",
     "output_type": "stream",
     "text": [
      "10/10 [==============================] - 5s 453ms/step - loss: 0.0071 - semantic_0_loss: 0.0015 - semantic_1_loss: 0.0044 - semantic_2_loss: 0.0011 - lr: 2.6009e-05\n",
      "Epoch 136/200\n",
      "10/10 [==============================] - ETA: 0s - loss: 0.0075 - semantic_0_loss: 0.0017 - semantic_1_loss: 0.0047 - semantic_2_loss: 0.0011WARNING:tensorflow:Can save best model only with val_loss available, skipping.\n"
     ]
    },
    {
     "name": "stderr",
     "output_type": "stream",
     "text": [
      "WARNING:tensorflow:Can save best model only with val_loss available, skipping.\n"
     ]
    },
    {
     "name": "stdout",
     "output_type": "stream",
     "text": [
      "10/10 [==============================] - 5s 479ms/step - loss: 0.0075 - semantic_0_loss: 0.0017 - semantic_1_loss: 0.0047 - semantic_2_loss: 0.0011 - lr: 2.5748e-05\n",
      "Epoch 137/200\n",
      "10/10 [==============================] - ETA: 0s - loss: 0.0078 - semantic_0_loss: 0.0018 - semantic_1_loss: 0.0049 - semantic_2_loss: 0.0011WARNING:tensorflow:Can save best model only with val_loss available, skipping.\n"
     ]
    },
    {
     "name": "stderr",
     "output_type": "stream",
     "text": [
      "WARNING:tensorflow:Can save best model only with val_loss available, skipping.\n"
     ]
    },
    {
     "name": "stdout",
     "output_type": "stream",
     "text": [
      "10/10 [==============================] - 5s 496ms/step - loss: 0.0078 - semantic_0_loss: 0.0018 - semantic_1_loss: 0.0049 - semantic_2_loss: 0.0011 - lr: 2.5491e-05\n",
      "Epoch 138/200\n",
      "10/10 [==============================] - ETA: 0s - loss: 0.0079 - semantic_0_loss: 0.0017 - semantic_1_loss: 0.0051 - semantic_2_loss: 0.0011WARNING:tensorflow:Can save best model only with val_loss available, skipping.\n"
     ]
    },
    {
     "name": "stderr",
     "output_type": "stream",
     "text": [
      "WARNING:tensorflow:Can save best model only with val_loss available, skipping.\n"
     ]
    },
    {
     "name": "stdout",
     "output_type": "stream",
     "text": [
      "10/10 [==============================] - 5s 462ms/step - loss: 0.0079 - semantic_0_loss: 0.0017 - semantic_1_loss: 0.0051 - semantic_2_loss: 0.0011 - lr: 2.5236e-05\n",
      "Epoch 139/200\n",
      "10/10 [==============================] - ETA: 0s - loss: 0.0078 - semantic_0_loss: 0.0017 - semantic_1_loss: 0.0050 - semantic_2_loss: 0.0011WARNING:tensorflow:Can save best model only with val_loss available, skipping.\n"
     ]
    },
    {
     "name": "stderr",
     "output_type": "stream",
     "text": [
      "WARNING:tensorflow:Can save best model only with val_loss available, skipping.\n"
     ]
    },
    {
     "name": "stdout",
     "output_type": "stream",
     "text": [
      "10/10 [==============================] - 5s 455ms/step - loss: 0.0078 - semantic_0_loss: 0.0017 - semantic_1_loss: 0.0050 - semantic_2_loss: 0.0011 - lr: 2.4984e-05\n",
      "Epoch 140/200\n",
      "10/10 [==============================] - ETA: 0s - loss: 0.0073 - semantic_0_loss: 0.0017 - semantic_1_loss: 0.0046 - semantic_2_loss: 0.0011WARNING:tensorflow:Can save best model only with val_loss available, skipping.\n"
     ]
    },
    {
     "name": "stderr",
     "output_type": "stream",
     "text": [
      "WARNING:tensorflow:Can save best model only with val_loss available, skipping.\n"
     ]
    },
    {
     "name": "stdout",
     "output_type": "stream",
     "text": [
      "10/10 [==============================] - 5s 487ms/step - loss: 0.0073 - semantic_0_loss: 0.0017 - semantic_1_loss: 0.0046 - semantic_2_loss: 0.0011 - lr: 2.4734e-05\n",
      "Epoch 141/200\n",
      "10/10 [==============================] - ETA: 0s - loss: 0.0074 - semantic_0_loss: 0.0017 - semantic_1_loss: 0.0046 - semantic_2_loss: 0.0011WARNING:tensorflow:Can save best model only with val_loss available, skipping.\n"
     ]
    },
    {
     "name": "stderr",
     "output_type": "stream",
     "text": [
      "WARNING:tensorflow:Can save best model only with val_loss available, skipping.\n"
     ]
    },
    {
     "name": "stdout",
     "output_type": "stream",
     "text": [
      "10/10 [==============================] - 5s 458ms/step - loss: 0.0074 - semantic_0_loss: 0.0017 - semantic_1_loss: 0.0046 - semantic_2_loss: 0.0011 - lr: 2.4487e-05\n",
      "Epoch 142/200\n",
      "10/10 [==============================] - ETA: 0s - loss: 0.0073 - semantic_0_loss: 0.0017 - semantic_1_loss: 0.0046 - semantic_2_loss: 0.0011WARNING:tensorflow:Can save best model only with val_loss available, skipping.\n"
     ]
    },
    {
     "name": "stderr",
     "output_type": "stream",
     "text": [
      "WARNING:tensorflow:Can save best model only with val_loss available, skipping.\n"
     ]
    },
    {
     "name": "stdout",
     "output_type": "stream",
     "text": [
      "10/10 [==============================] - 5s 465ms/step - loss: 0.0073 - semantic_0_loss: 0.0017 - semantic_1_loss: 0.0046 - semantic_2_loss: 0.0011 - lr: 2.4242e-05\n",
      "Epoch 143/200\n",
      "10/10 [==============================] - ETA: 0s - loss: 0.0077 - semantic_0_loss: 0.0017 - semantic_1_loss: 0.0049 - semantic_2_loss: 0.0011WARNING:tensorflow:Can save best model only with val_loss available, skipping.\n"
     ]
    },
    {
     "name": "stderr",
     "output_type": "stream",
     "text": [
      "WARNING:tensorflow:Can save best model only with val_loss available, skipping.\n"
     ]
    },
    {
     "name": "stdout",
     "output_type": "stream",
     "text": [
      "10/10 [==============================] - 5s 436ms/step - loss: 0.0077 - semantic_0_loss: 0.0017 - semantic_1_loss: 0.0049 - semantic_2_loss: 0.0011 - lr: 2.3999e-05\n",
      "Epoch 144/200\n",
      "10/10 [==============================] - ETA: 0s - loss: 0.0075 - semantic_0_loss: 0.0017 - semantic_1_loss: 0.0047 - semantic_2_loss: 0.0011WARNING:tensorflow:Can save best model only with val_loss available, skipping.\n"
     ]
    },
    {
     "name": "stderr",
     "output_type": "stream",
     "text": [
      "WARNING:tensorflow:Can save best model only with val_loss available, skipping.\n"
     ]
    },
    {
     "name": "stdout",
     "output_type": "stream",
     "text": [
      "10/10 [==============================] - 5s 456ms/step - loss: 0.0075 - semantic_0_loss: 0.0017 - semantic_1_loss: 0.0047 - semantic_2_loss: 0.0011 - lr: 2.3759e-05\n",
      "Epoch 145/200\n",
      "10/10 [==============================] - ETA: 0s - loss: 0.0077 - semantic_0_loss: 0.0017 - semantic_1_loss: 0.0049 - semantic_2_loss: 0.0011WARNING:tensorflow:Can save best model only with val_loss available, skipping.\n"
     ]
    },
    {
     "name": "stderr",
     "output_type": "stream",
     "text": [
      "WARNING:tensorflow:Can save best model only with val_loss available, skipping.\n"
     ]
    },
    {
     "name": "stdout",
     "output_type": "stream",
     "text": [
      "10/10 [==============================] - 5s 507ms/step - loss: 0.0077 - semantic_0_loss: 0.0017 - semantic_1_loss: 0.0049 - semantic_2_loss: 0.0011 - lr: 2.3522e-05\n",
      "Epoch 146/200\n",
      "10/10 [==============================] - ETA: 0s - loss: 0.0074 - semantic_0_loss: 0.0016 - semantic_1_loss: 0.0046 - semantic_2_loss: 0.0011WARNING:tensorflow:Can save best model only with val_loss available, skipping.\n"
     ]
    },
    {
     "name": "stderr",
     "output_type": "stream",
     "text": [
      "WARNING:tensorflow:Can save best model only with val_loss available, skipping.\n"
     ]
    },
    {
     "name": "stdout",
     "output_type": "stream",
     "text": [
      "10/10 [==============================] - 5s 456ms/step - loss: 0.0074 - semantic_0_loss: 0.0016 - semantic_1_loss: 0.0046 - semantic_2_loss: 0.0011 - lr: 2.3286e-05\n",
      "Epoch 147/200\n",
      "10/10 [==============================] - ETA: 0s - loss: 0.0075 - semantic_0_loss: 0.0017 - semantic_1_loss: 0.0047 - semantic_2_loss: 0.0011WARNING:tensorflow:Can save best model only with val_loss available, skipping.\n"
     ]
    },
    {
     "name": "stderr",
     "output_type": "stream",
     "text": [
      "WARNING:tensorflow:Can save best model only with val_loss available, skipping.\n"
     ]
    },
    {
     "name": "stdout",
     "output_type": "stream",
     "text": [
      "10/10 [==============================] - 5s 456ms/step - loss: 0.0075 - semantic_0_loss: 0.0017 - semantic_1_loss: 0.0047 - semantic_2_loss: 0.0011 - lr: 2.3054e-05\n",
      "Epoch 148/200\n",
      "10/10 [==============================] - ETA: 0s - loss: 0.0075 - semantic_0_loss: 0.0017 - semantic_1_loss: 0.0047 - semantic_2_loss: 0.0011WARNING:tensorflow:Can save best model only with val_loss available, skipping.\n"
     ]
    },
    {
     "name": "stderr",
     "output_type": "stream",
     "text": [
      "WARNING:tensorflow:Can save best model only with val_loss available, skipping.\n"
     ]
    },
    {
     "name": "stdout",
     "output_type": "stream",
     "text": [
      "10/10 [==============================] - 5s 447ms/step - loss: 0.0075 - semantic_0_loss: 0.0017 - semantic_1_loss: 0.0047 - semantic_2_loss: 0.0011 - lr: 2.2823e-05\n",
      "Epoch 149/200\n",
      "10/10 [==============================] - ETA: 0s - loss: 0.0072 - semantic_0_loss: 0.0016 - semantic_1_loss: 0.0045 - semantic_2_loss: 0.0011WARNING:tensorflow:Can save best model only with val_loss available, skipping.\n"
     ]
    },
    {
     "name": "stderr",
     "output_type": "stream",
     "text": [
      "WARNING:tensorflow:Can save best model only with val_loss available, skipping.\n"
     ]
    },
    {
     "name": "stdout",
     "output_type": "stream",
     "text": [
      "10/10 [==============================] - 5s 454ms/step - loss: 0.0072 - semantic_0_loss: 0.0016 - semantic_1_loss: 0.0045 - semantic_2_loss: 0.0011 - lr: 2.2595e-05\n",
      "Epoch 150/200\n",
      "10/10 [==============================] - ETA: 0s - loss: 0.0075 - semantic_0_loss: 0.0017 - semantic_1_loss: 0.0047 - semantic_2_loss: 0.0011WARNING:tensorflow:Can save best model only with val_loss available, skipping.\n"
     ]
    },
    {
     "name": "stderr",
     "output_type": "stream",
     "text": [
      "WARNING:tensorflow:Can save best model only with val_loss available, skipping.\n"
     ]
    },
    {
     "name": "stdout",
     "output_type": "stream",
     "text": [
      "10/10 [==============================] - 5s 458ms/step - loss: 0.0075 - semantic_0_loss: 0.0017 - semantic_1_loss: 0.0047 - semantic_2_loss: 0.0011 - lr: 2.2369e-05\n",
      "Epoch 151/200\n",
      "10/10 [==============================] - ETA: 0s - loss: 0.0081 - semantic_0_loss: 0.0018 - semantic_1_loss: 0.0052 - semantic_2_loss: 0.0011WARNING:tensorflow:Can save best model only with val_loss available, skipping.\n"
     ]
    },
    {
     "name": "stderr",
     "output_type": "stream",
     "text": [
      "WARNING:tensorflow:Can save best model only with val_loss available, skipping.\n"
     ]
    },
    {
     "name": "stdout",
     "output_type": "stream",
     "text": [
      "10/10 [==============================] - 5s 469ms/step - loss: 0.0081 - semantic_0_loss: 0.0018 - semantic_1_loss: 0.0052 - semantic_2_loss: 0.0011 - lr: 2.2145e-05\n",
      "Epoch 152/200\n",
      "10/10 [==============================] - ETA: 0s - loss: 0.0069 - semantic_0_loss: 0.0015 - semantic_1_loss: 0.0043 - semantic_2_loss: 0.0011WARNING:tensorflow:Can save best model only with val_loss available, skipping.\n"
     ]
    },
    {
     "name": "stderr",
     "output_type": "stream",
     "text": [
      "WARNING:tensorflow:Can save best model only with val_loss available, skipping.\n"
     ]
    },
    {
     "name": "stdout",
     "output_type": "stream",
     "text": [
      "10/10 [==============================] - 5s 455ms/step - loss: 0.0069 - semantic_0_loss: 0.0015 - semantic_1_loss: 0.0043 - semantic_2_loss: 0.0011 - lr: 2.1924e-05\n",
      "Epoch 153/200\n",
      "10/10 [==============================] - ETA: 0s - loss: 0.0073 - semantic_0_loss: 0.0017 - semantic_1_loss: 0.0046 - semantic_2_loss: 0.0011WARNING:tensorflow:Can save best model only with val_loss available, skipping.\n"
     ]
    },
    {
     "name": "stderr",
     "output_type": "stream",
     "text": [
      "WARNING:tensorflow:Can save best model only with val_loss available, skipping.\n"
     ]
    },
    {
     "name": "stdout",
     "output_type": "stream",
     "text": [
      "10/10 [==============================] - 5s 466ms/step - loss: 0.0073 - semantic_0_loss: 0.0017 - semantic_1_loss: 0.0046 - semantic_2_loss: 0.0011 - lr: 2.1704e-05\n",
      "Epoch 154/200\n",
      "10/10 [==============================] - ETA: 0s - loss: 0.0078 - semantic_0_loss: 0.0017 - semantic_1_loss: 0.0050 - semantic_2_loss: 0.0011WARNING:tensorflow:Can save best model only with val_loss available, skipping.\n"
     ]
    },
    {
     "name": "stderr",
     "output_type": "stream",
     "text": [
      "WARNING:tensorflow:Can save best model only with val_loss available, skipping.\n"
     ]
    },
    {
     "name": "stdout",
     "output_type": "stream",
     "text": [
      "10/10 [==============================] - 5s 471ms/step - loss: 0.0078 - semantic_0_loss: 0.0017 - semantic_1_loss: 0.0050 - semantic_2_loss: 0.0011 - lr: 2.1487e-05\n",
      "Epoch 155/200\n",
      "10/10 [==============================] - ETA: 0s - loss: 0.0076 - semantic_0_loss: 0.0017 - semantic_1_loss: 0.0048 - semantic_2_loss: 0.0011WARNING:tensorflow:Can save best model only with val_loss available, skipping.\n"
     ]
    },
    {
     "name": "stderr",
     "output_type": "stream",
     "text": [
      "WARNING:tensorflow:Can save best model only with val_loss available, skipping.\n"
     ]
    },
    {
     "name": "stdout",
     "output_type": "stream",
     "text": [
      "10/10 [==============================] - 5s 496ms/step - loss: 0.0076 - semantic_0_loss: 0.0017 - semantic_1_loss: 0.0048 - semantic_2_loss: 0.0011 - lr: 2.1273e-05\n",
      "Epoch 156/200\n",
      "10/10 [==============================] - ETA: 0s - loss: 0.0079 - semantic_0_loss: 0.0017 - semantic_1_loss: 0.0051 - semantic_2_loss: 0.0011WARNING:tensorflow:Can save best model only with val_loss available, skipping.\n"
     ]
    },
    {
     "name": "stderr",
     "output_type": "stream",
     "text": [
      "WARNING:tensorflow:Can save best model only with val_loss available, skipping.\n"
     ]
    },
    {
     "name": "stdout",
     "output_type": "stream",
     "text": [
      "10/10 [==============================] - 5s 460ms/step - loss: 0.0079 - semantic_0_loss: 0.0017 - semantic_1_loss: 0.0051 - semantic_2_loss: 0.0011 - lr: 2.1060e-05\n",
      "Epoch 157/200\n",
      "10/10 [==============================] - ETA: 0s - loss: 0.0075 - semantic_0_loss: 0.0017 - semantic_1_loss: 0.0047 - semantic_2_loss: 0.0011WARNING:tensorflow:Can save best model only with val_loss available, skipping.\n"
     ]
    },
    {
     "name": "stderr",
     "output_type": "stream",
     "text": [
      "WARNING:tensorflow:Can save best model only with val_loss available, skipping.\n"
     ]
    },
    {
     "name": "stdout",
     "output_type": "stream",
     "text": [
      "10/10 [==============================] - 5s 492ms/step - loss: 0.0075 - semantic_0_loss: 0.0017 - semantic_1_loss: 0.0047 - semantic_2_loss: 0.0011 - lr: 2.0849e-05\n",
      "Epoch 158/200\n",
      "10/10 [==============================] - ETA: 0s - loss: 0.0067 - semantic_0_loss: 0.0015 - semantic_1_loss: 0.0041 - semantic_2_loss: 0.0010WARNING:tensorflow:Can save best model only with val_loss available, skipping.\n"
     ]
    },
    {
     "name": "stderr",
     "output_type": "stream",
     "text": [
      "WARNING:tensorflow:Can save best model only with val_loss available, skipping.\n"
     ]
    },
    {
     "name": "stdout",
     "output_type": "stream",
     "text": [
      "10/10 [==============================] - 5s 475ms/step - loss: 0.0067 - semantic_0_loss: 0.0015 - semantic_1_loss: 0.0041 - semantic_2_loss: 0.0010 - lr: 2.0641e-05\n",
      "Epoch 159/200\n",
      "10/10 [==============================] - ETA: 0s - loss: 0.0074 - semantic_0_loss: 0.0016 - semantic_1_loss: 0.0047 - semantic_2_loss: 0.0011WARNING:tensorflow:Can save best model only with val_loss available, skipping.\n"
     ]
    },
    {
     "name": "stderr",
     "output_type": "stream",
     "text": [
      "WARNING:tensorflow:Can save best model only with val_loss available, skipping.\n"
     ]
    },
    {
     "name": "stdout",
     "output_type": "stream",
     "text": [
      "10/10 [==============================] - 5s 457ms/step - loss: 0.0074 - semantic_0_loss: 0.0016 - semantic_1_loss: 0.0047 - semantic_2_loss: 0.0011 - lr: 2.0434e-05\n",
      "Epoch 160/200\n",
      "10/10 [==============================] - ETA: 0s - loss: 0.0072 - semantic_0_loss: 0.0017 - semantic_1_loss: 0.0045 - semantic_2_loss: 0.0011WARNING:tensorflow:Can save best model only with val_loss available, skipping.\n"
     ]
    },
    {
     "name": "stderr",
     "output_type": "stream",
     "text": [
      "WARNING:tensorflow:Can save best model only with val_loss available, skipping.\n"
     ]
    },
    {
     "name": "stdout",
     "output_type": "stream",
     "text": [
      "10/10 [==============================] - 5s 495ms/step - loss: 0.0072 - semantic_0_loss: 0.0017 - semantic_1_loss: 0.0045 - semantic_2_loss: 0.0011 - lr: 2.0230e-05\n",
      "Epoch 161/200\n",
      "10/10 [==============================] - ETA: 0s - loss: 0.0067 - semantic_0_loss: 0.0015 - semantic_1_loss: 0.0042 - semantic_2_loss: 0.0010WARNING:tensorflow:Can save best model only with val_loss available, skipping.\n"
     ]
    },
    {
     "name": "stderr",
     "output_type": "stream",
     "text": [
      "WARNING:tensorflow:Can save best model only with val_loss available, skipping.\n"
     ]
    },
    {
     "name": "stdout",
     "output_type": "stream",
     "text": [
      "10/10 [==============================] - 5s 451ms/step - loss: 0.0067 - semantic_0_loss: 0.0015 - semantic_1_loss: 0.0042 - semantic_2_loss: 0.0010 - lr: 2.0028e-05\n",
      "Epoch 162/200\n",
      "10/10 [==============================] - ETA: 0s - loss: 0.0073 - semantic_0_loss: 0.0016 - semantic_1_loss: 0.0046 - semantic_2_loss: 0.0011WARNING:tensorflow:Can save best model only with val_loss available, skipping.\n"
     ]
    },
    {
     "name": "stderr",
     "output_type": "stream",
     "text": [
      "WARNING:tensorflow:Can save best model only with val_loss available, skipping.\n"
     ]
    },
    {
     "name": "stdout",
     "output_type": "stream",
     "text": [
      "10/10 [==============================] - 5s 435ms/step - loss: 0.0073 - semantic_0_loss: 0.0016 - semantic_1_loss: 0.0046 - semantic_2_loss: 0.0011 - lr: 1.9827e-05\n",
      "Epoch 163/200\n",
      "10/10 [==============================] - ETA: 0s - loss: 0.0076 - semantic_0_loss: 0.0017 - semantic_1_loss: 0.0048 - semantic_2_loss: 0.0011WARNING:tensorflow:Can save best model only with val_loss available, skipping.\n"
     ]
    },
    {
     "name": "stderr",
     "output_type": "stream",
     "text": [
      "WARNING:tensorflow:Can save best model only with val_loss available, skipping.\n"
     ]
    },
    {
     "name": "stdout",
     "output_type": "stream",
     "text": [
      "10/10 [==============================] - 5s 492ms/step - loss: 0.0076 - semantic_0_loss: 0.0017 - semantic_1_loss: 0.0048 - semantic_2_loss: 0.0011 - lr: 1.9629e-05\n",
      "Epoch 164/200\n",
      "10/10 [==============================] - ETA: 0s - loss: 0.0077 - semantic_0_loss: 0.0017 - semantic_1_loss: 0.0049 - semantic_2_loss: 0.0011WARNING:tensorflow:Can save best model only with val_loss available, skipping.\n"
     ]
    },
    {
     "name": "stderr",
     "output_type": "stream",
     "text": [
      "WARNING:tensorflow:Can save best model only with val_loss available, skipping.\n"
     ]
    },
    {
     "name": "stdout",
     "output_type": "stream",
     "text": [
      "10/10 [==============================] - 5s 456ms/step - loss: 0.0077 - semantic_0_loss: 0.0017 - semantic_1_loss: 0.0049 - semantic_2_loss: 0.0011 - lr: 1.9433e-05\n",
      "Epoch 165/200\n",
      "10/10 [==============================] - ETA: 0s - loss: 0.0075 - semantic_0_loss: 0.0017 - semantic_1_loss: 0.0048 - semantic_2_loss: 0.0011WARNING:tensorflow:Can save best model only with val_loss available, skipping.\n"
     ]
    },
    {
     "name": "stderr",
     "output_type": "stream",
     "text": [
      "WARNING:tensorflow:Can save best model only with val_loss available, skipping.\n"
     ]
    },
    {
     "name": "stdout",
     "output_type": "stream",
     "text": [
      "10/10 [==============================] - 5s 499ms/step - loss: 0.0075 - semantic_0_loss: 0.0017 - semantic_1_loss: 0.0048 - semantic_2_loss: 0.0011 - lr: 1.9239e-05\n",
      "Epoch 166/200\n",
      "10/10 [==============================] - ETA: 0s - loss: 0.0075 - semantic_0_loss: 0.0017 - semantic_1_loss: 0.0047 - semantic_2_loss: 0.0011WARNING:tensorflow:Can save best model only with val_loss available, skipping.\n"
     ]
    },
    {
     "name": "stderr",
     "output_type": "stream",
     "text": [
      "WARNING:tensorflow:Can save best model only with val_loss available, skipping.\n"
     ]
    },
    {
     "name": "stdout",
     "output_type": "stream",
     "text": [
      "10/10 [==============================] - 5s 460ms/step - loss: 0.0075 - semantic_0_loss: 0.0017 - semantic_1_loss: 0.0047 - semantic_2_loss: 0.0011 - lr: 1.9046e-05\n",
      "Epoch 167/200\n",
      "10/10 [==============================] - ETA: 0s - loss: 0.0072 - semantic_0_loss: 0.0017 - semantic_1_loss: 0.0045 - semantic_2_loss: 0.0011WARNING:tensorflow:Can save best model only with val_loss available, skipping.\n"
     ]
    },
    {
     "name": "stderr",
     "output_type": "stream",
     "text": [
      "WARNING:tensorflow:Can save best model only with val_loss available, skipping.\n"
     ]
    },
    {
     "name": "stdout",
     "output_type": "stream",
     "text": [
      "10/10 [==============================] - 5s 503ms/step - loss: 0.0072 - semantic_0_loss: 0.0017 - semantic_1_loss: 0.0045 - semantic_2_loss: 0.0011 - lr: 1.8856e-05\n",
      "Epoch 168/200\n",
      "10/10 [==============================] - ETA: 0s - loss: 0.0071 - semantic_0_loss: 0.0016 - semantic_1_loss: 0.0044 - semantic_2_loss: 0.0011WARNING:tensorflow:Can save best model only with val_loss available, skipping.\n"
     ]
    },
    {
     "name": "stderr",
     "output_type": "stream",
     "text": [
      "WARNING:tensorflow:Can save best model only with val_loss available, skipping.\n"
     ]
    },
    {
     "name": "stdout",
     "output_type": "stream",
     "text": [
      "10/10 [==============================] - 5s 466ms/step - loss: 0.0071 - semantic_0_loss: 0.0016 - semantic_1_loss: 0.0044 - semantic_2_loss: 0.0011 - lr: 1.8667e-05\n",
      "Epoch 169/200\n",
      "10/10 [==============================] - ETA: 0s - loss: 0.0076 - semantic_0_loss: 0.0017 - semantic_1_loss: 0.0048 - semantic_2_loss: 0.0011WARNING:tensorflow:Can save best model only with val_loss available, skipping.\n"
     ]
    },
    {
     "name": "stderr",
     "output_type": "stream",
     "text": [
      "WARNING:tensorflow:Can save best model only with val_loss available, skipping.\n"
     ]
    },
    {
     "name": "stdout",
     "output_type": "stream",
     "text": [
      "10/10 [==============================] - 5s 472ms/step - loss: 0.0076 - semantic_0_loss: 0.0017 - semantic_1_loss: 0.0048 - semantic_2_loss: 0.0011 - lr: 1.8480e-05\n",
      "Epoch 170/200\n",
      "10/10 [==============================] - ETA: 0s - loss: 0.0072 - semantic_0_loss: 0.0016 - semantic_1_loss: 0.0045 - semantic_2_loss: 0.0011WARNING:tensorflow:Can save best model only with val_loss available, skipping.\n"
     ]
    },
    {
     "name": "stderr",
     "output_type": "stream",
     "text": [
      "WARNING:tensorflow:Can save best model only with val_loss available, skipping.\n"
     ]
    },
    {
     "name": "stdout",
     "output_type": "stream",
     "text": [
      "10/10 [==============================] - 5s 460ms/step - loss: 0.0072 - semantic_0_loss: 0.0016 - semantic_1_loss: 0.0045 - semantic_2_loss: 0.0011 - lr: 1.8296e-05\n",
      "Epoch 171/200\n",
      "10/10 [==============================] - ETA: 0s - loss: 0.0073 - semantic_0_loss: 0.0016 - semantic_1_loss: 0.0046 - semantic_2_loss: 0.0011WARNING:tensorflow:Can save best model only with val_loss available, skipping.\n"
     ]
    },
    {
     "name": "stderr",
     "output_type": "stream",
     "text": [
      "WARNING:tensorflow:Can save best model only with val_loss available, skipping.\n"
     ]
    },
    {
     "name": "stdout",
     "output_type": "stream",
     "text": [
      "10/10 [==============================] - 5s 498ms/step - loss: 0.0073 - semantic_0_loss: 0.0016 - semantic_1_loss: 0.0046 - semantic_2_loss: 0.0011 - lr: 1.8113e-05\n",
      "Epoch 172/200\n",
      "10/10 [==============================] - ETA: 0s - loss: 0.0075 - semantic_0_loss: 0.0017 - semantic_1_loss: 0.0048 - semantic_2_loss: 0.0011WARNING:tensorflow:Can save best model only with val_loss available, skipping.\n"
     ]
    },
    {
     "name": "stderr",
     "output_type": "stream",
     "text": [
      "WARNING:tensorflow:Can save best model only with val_loss available, skipping.\n"
     ]
    },
    {
     "name": "stdout",
     "output_type": "stream",
     "text": [
      "10/10 [==============================] - 5s 459ms/step - loss: 0.0075 - semantic_0_loss: 0.0017 - semantic_1_loss: 0.0048 - semantic_2_loss: 0.0011 - lr: 1.7932e-05\n",
      "Epoch 173/200\n",
      "10/10 [==============================] - ETA: 0s - loss: 0.0073 - semantic_0_loss: 0.0017 - semantic_1_loss: 0.0045 - semantic_2_loss: 0.0011WARNING:tensorflow:Can save best model only with val_loss available, skipping.\n"
     ]
    },
    {
     "name": "stderr",
     "output_type": "stream",
     "text": [
      "WARNING:tensorflow:Can save best model only with val_loss available, skipping.\n"
     ]
    },
    {
     "name": "stdout",
     "output_type": "stream",
     "text": [
      "10/10 [==============================] - 5s 458ms/step - loss: 0.0073 - semantic_0_loss: 0.0017 - semantic_1_loss: 0.0045 - semantic_2_loss: 0.0011 - lr: 1.7752e-05\n",
      "Epoch 174/200\n",
      "10/10 [==============================] - ETA: 0s - loss: 0.0073 - semantic_0_loss: 0.0017 - semantic_1_loss: 0.0046 - semantic_2_loss: 0.0011WARNING:tensorflow:Can save best model only with val_loss available, skipping.\n"
     ]
    },
    {
     "name": "stderr",
     "output_type": "stream",
     "text": [
      "WARNING:tensorflow:Can save best model only with val_loss available, skipping.\n"
     ]
    },
    {
     "name": "stdout",
     "output_type": "stream",
     "text": [
      "10/10 [==============================] - 5s 492ms/step - loss: 0.0073 - semantic_0_loss: 0.0017 - semantic_1_loss: 0.0046 - semantic_2_loss: 0.0011 - lr: 1.7575e-05\n",
      "Epoch 175/200\n",
      "10/10 [==============================] - ETA: 0s - loss: 0.0076 - semantic_0_loss: 0.0017 - semantic_1_loss: 0.0048 - semantic_2_loss: 0.0011WARNING:tensorflow:Can save best model only with val_loss available, skipping.\n"
     ]
    },
    {
     "name": "stderr",
     "output_type": "stream",
     "text": [
      "WARNING:tensorflow:Can save best model only with val_loss available, skipping.\n"
     ]
    },
    {
     "name": "stdout",
     "output_type": "stream",
     "text": [
      "10/10 [==============================] - 5s 446ms/step - loss: 0.0076 - semantic_0_loss: 0.0017 - semantic_1_loss: 0.0048 - semantic_2_loss: 0.0011 - lr: 1.7399e-05\n",
      "Epoch 176/200\n",
      "10/10 [==============================] - ETA: 0s - loss: 0.0070 - semantic_0_loss: 0.0016 - semantic_1_loss: 0.0044 - semantic_2_loss: 0.0011WARNING:tensorflow:Can save best model only with val_loss available, skipping.\n"
     ]
    },
    {
     "name": "stderr",
     "output_type": "stream",
     "text": [
      "WARNING:tensorflow:Can save best model only with val_loss available, skipping.\n"
     ]
    },
    {
     "name": "stdout",
     "output_type": "stream",
     "text": [
      "10/10 [==============================] - 5s 457ms/step - loss: 0.0070 - semantic_0_loss: 0.0016 - semantic_1_loss: 0.0044 - semantic_2_loss: 0.0011 - lr: 1.7225e-05\n",
      "Epoch 177/200\n",
      "10/10 [==============================] - ETA: 0s - loss: 0.0076 - semantic_0_loss: 0.0017 - semantic_1_loss: 0.0048 - semantic_2_loss: 0.0011WARNING:tensorflow:Can save best model only with val_loss available, skipping.\n"
     ]
    },
    {
     "name": "stderr",
     "output_type": "stream",
     "text": [
      "WARNING:tensorflow:Can save best model only with val_loss available, skipping.\n"
     ]
    },
    {
     "name": "stdout",
     "output_type": "stream",
     "text": [
      "10/10 [==============================] - 5s 433ms/step - loss: 0.0076 - semantic_0_loss: 0.0017 - semantic_1_loss: 0.0048 - semantic_2_loss: 0.0011 - lr: 1.7053e-05\n",
      "Epoch 178/200\n",
      "10/10 [==============================] - ETA: 0s - loss: 0.0062 - semantic_0_loss: 0.0013 - semantic_1_loss: 0.0038 - semantic_2_loss: 9.9493e-04WARNING:tensorflow:Can save best model only with val_loss available, skipping.\n"
     ]
    },
    {
     "name": "stderr",
     "output_type": "stream",
     "text": [
      "WARNING:tensorflow:Can save best model only with val_loss available, skipping.\n"
     ]
    },
    {
     "name": "stdout",
     "output_type": "stream",
     "text": [
      "10/10 [==============================] - 5s 448ms/step - loss: 0.0062 - semantic_0_loss: 0.0013 - semantic_1_loss: 0.0038 - semantic_2_loss: 9.9493e-04 - lr: 1.6882e-05\n",
      "Epoch 179/200\n",
      "10/10 [==============================] - ETA: 0s - loss: 0.0074 - semantic_0_loss: 0.0017 - semantic_1_loss: 0.0047 - semantic_2_loss: 0.0011WARNING:tensorflow:Can save best model only with val_loss available, skipping.\n"
     ]
    },
    {
     "name": "stderr",
     "output_type": "stream",
     "text": [
      "WARNING:tensorflow:Can save best model only with val_loss available, skipping.\n"
     ]
    },
    {
     "name": "stdout",
     "output_type": "stream",
     "text": [
      "10/10 [==============================] - 5s 448ms/step - loss: 0.0074 - semantic_0_loss: 0.0017 - semantic_1_loss: 0.0047 - semantic_2_loss: 0.0011 - lr: 1.6713e-05\n",
      "Epoch 180/200\n",
      "10/10 [==============================] - ETA: 0s - loss: 0.0076 - semantic_0_loss: 0.0017 - semantic_1_loss: 0.0048 - semantic_2_loss: 0.0011WARNING:tensorflow:Can save best model only with val_loss available, skipping.\n"
     ]
    },
    {
     "name": "stderr",
     "output_type": "stream",
     "text": [
      "WARNING:tensorflow:Can save best model only with val_loss available, skipping.\n"
     ]
    },
    {
     "name": "stdout",
     "output_type": "stream",
     "text": [
      "10/10 [==============================] - 5s 456ms/step - loss: 0.0076 - semantic_0_loss: 0.0017 - semantic_1_loss: 0.0048 - semantic_2_loss: 0.0011 - lr: 1.6546e-05\n",
      "Epoch 181/200\n",
      "10/10 [==============================] - ETA: 0s - loss: 0.0067 - semantic_0_loss: 0.0016 - semantic_1_loss: 0.0041 - semantic_2_loss: 0.0010WARNING:tensorflow:Can save best model only with val_loss available, skipping.\n"
     ]
    },
    {
     "name": "stderr",
     "output_type": "stream",
     "text": [
      "WARNING:tensorflow:Can save best model only with val_loss available, skipping.\n"
     ]
    },
    {
     "name": "stdout",
     "output_type": "stream",
     "text": [
      "10/10 [==============================] - 5s 448ms/step - loss: 0.0067 - semantic_0_loss: 0.0016 - semantic_1_loss: 0.0041 - semantic_2_loss: 0.0010 - lr: 1.6381e-05\n",
      "Epoch 182/200\n",
      "10/10 [==============================] - ETA: 0s - loss: 0.0062 - semantic_0_loss: 0.0014 - semantic_1_loss: 0.0037 - semantic_2_loss: 0.0010    WARNING:tensorflow:Can save best model only with val_loss available, skipping.\n"
     ]
    },
    {
     "name": "stderr",
     "output_type": "stream",
     "text": [
      "WARNING:tensorflow:Can save best model only with val_loss available, skipping.\n"
     ]
    },
    {
     "name": "stdout",
     "output_type": "stream",
     "text": [
      "10/10 [==============================] - 5s 452ms/step - loss: 0.0062 - semantic_0_loss: 0.0014 - semantic_1_loss: 0.0037 - semantic_2_loss: 0.0010 - lr: 1.6217e-05\n",
      "Epoch 183/200\n",
      "10/10 [==============================] - ETA: 0s - loss: 0.0080 - semantic_0_loss: 0.0015 - semantic_1_loss: 0.0054 - semantic_2_loss: 0.0010WARNING:tensorflow:Can save best model only with val_loss available, skipping.\n"
     ]
    },
    {
     "name": "stderr",
     "output_type": "stream",
     "text": [
      "WARNING:tensorflow:Can save best model only with val_loss available, skipping.\n"
     ]
    },
    {
     "name": "stdout",
     "output_type": "stream",
     "text": [
      "10/10 [==============================] - 5s 441ms/step - loss: 0.0080 - semantic_0_loss: 0.0015 - semantic_1_loss: 0.0054 - semantic_2_loss: 0.0010 - lr: 1.6055e-05\n",
      "Epoch 184/200\n",
      "10/10 [==============================] - ETA: 0s - loss: 0.0073 - semantic_0_loss: 0.0017 - semantic_1_loss: 0.0045 - semantic_2_loss: 0.0011WARNING:tensorflow:Can save best model only with val_loss available, skipping.\n"
     ]
    },
    {
     "name": "stderr",
     "output_type": "stream",
     "text": [
      "WARNING:tensorflow:Can save best model only with val_loss available, skipping.\n"
     ]
    },
    {
     "name": "stdout",
     "output_type": "stream",
     "text": [
      "10/10 [==============================] - 5s 456ms/step - loss: 0.0073 - semantic_0_loss: 0.0017 - semantic_1_loss: 0.0045 - semantic_2_loss: 0.0011 - lr: 1.5894e-05\n",
      "Epoch 185/200\n",
      "10/10 [==============================] - ETA: 0s - loss: 0.0074 - semantic_0_loss: 0.0017 - semantic_1_loss: 0.0046 - semantic_2_loss: 0.0011WARNING:tensorflow:Can save best model only with val_loss available, skipping.\n"
     ]
    },
    {
     "name": "stderr",
     "output_type": "stream",
     "text": [
      "WARNING:tensorflow:Can save best model only with val_loss available, skipping.\n"
     ]
    },
    {
     "name": "stdout",
     "output_type": "stream",
     "text": [
      "10/10 [==============================] - 5s 460ms/step - loss: 0.0074 - semantic_0_loss: 0.0017 - semantic_1_loss: 0.0046 - semantic_2_loss: 0.0011 - lr: 1.5735e-05\n",
      "Epoch 186/200\n",
      "10/10 [==============================] - ETA: 0s - loss: 0.0073 - semantic_0_loss: 0.0017 - semantic_1_loss: 0.0045 - semantic_2_loss: 0.0011WARNING:tensorflow:Can save best model only with val_loss available, skipping.\n"
     ]
    },
    {
     "name": "stderr",
     "output_type": "stream",
     "text": [
      "WARNING:tensorflow:Can save best model only with val_loss available, skipping.\n"
     ]
    },
    {
     "name": "stdout",
     "output_type": "stream",
     "text": [
      "10/10 [==============================] - 5s 466ms/step - loss: 0.0073 - semantic_0_loss: 0.0017 - semantic_1_loss: 0.0045 - semantic_2_loss: 0.0011 - lr: 1.5578e-05\n",
      "Epoch 187/200\n",
      "10/10 [==============================] - ETA: 0s - loss: 0.0077 - semantic_0_loss: 0.0017 - semantic_1_loss: 0.0049 - semantic_2_loss: 0.0011WARNING:tensorflow:Can save best model only with val_loss available, skipping.\n"
     ]
    },
    {
     "name": "stderr",
     "output_type": "stream",
     "text": [
      "WARNING:tensorflow:Can save best model only with val_loss available, skipping.\n"
     ]
    },
    {
     "name": "stdout",
     "output_type": "stream",
     "text": [
      "10/10 [==============================] - 5s 463ms/step - loss: 0.0077 - semantic_0_loss: 0.0017 - semantic_1_loss: 0.0049 - semantic_2_loss: 0.0011 - lr: 1.5422e-05\n",
      "Epoch 188/200\n",
      "10/10 [==============================] - ETA: 0s - loss: 0.0066 - semantic_0_loss: 0.0015 - semantic_1_loss: 0.0040 - semantic_2_loss: 0.0010WARNING:tensorflow:Can save best model only with val_loss available, skipping.\n"
     ]
    },
    {
     "name": "stderr",
     "output_type": "stream",
     "text": [
      "WARNING:tensorflow:Can save best model only with val_loss available, skipping.\n"
     ]
    },
    {
     "name": "stdout",
     "output_type": "stream",
     "text": [
      "10/10 [==============================] - 5s 460ms/step - loss: 0.0066 - semantic_0_loss: 0.0015 - semantic_1_loss: 0.0040 - semantic_2_loss: 0.0010 - lr: 1.5268e-05\n",
      "Epoch 189/200\n",
      "10/10 [==============================] - ETA: 0s - loss: 0.0071 - semantic_0_loss: 0.0016 - semantic_1_loss: 0.0045 - semantic_2_loss: 0.0011WARNING:tensorflow:Can save best model only with val_loss available, skipping.\n"
     ]
    },
    {
     "name": "stderr",
     "output_type": "stream",
     "text": [
      "WARNING:tensorflow:Can save best model only with val_loss available, skipping.\n"
     ]
    },
    {
     "name": "stdout",
     "output_type": "stream",
     "text": [
      "10/10 [==============================] - 5s 452ms/step - loss: 0.0071 - semantic_0_loss: 0.0016 - semantic_1_loss: 0.0045 - semantic_2_loss: 0.0011 - lr: 1.5115e-05\n",
      "Epoch 190/200\n",
      "10/10 [==============================] - ETA: 0s - loss: 0.0066 - semantic_0_loss: 0.0015 - semantic_1_loss: 0.0041 - semantic_2_loss: 0.0010WARNING:tensorflow:Can save best model only with val_loss available, skipping.\n"
     ]
    },
    {
     "name": "stderr",
     "output_type": "stream",
     "text": [
      "WARNING:tensorflow:Can save best model only with val_loss available, skipping.\n"
     ]
    },
    {
     "name": "stdout",
     "output_type": "stream",
     "text": [
      "10/10 [==============================] - 5s 458ms/step - loss: 0.0066 - semantic_0_loss: 0.0015 - semantic_1_loss: 0.0041 - semantic_2_loss: 0.0010 - lr: 1.4964e-05\n",
      "Epoch 191/200\n",
      "10/10 [==============================] - ETA: 0s - loss: 0.0073 - semantic_0_loss: 0.0017 - semantic_1_loss: 0.0045 - semantic_2_loss: 0.0011WARNING:tensorflow:Can save best model only with val_loss available, skipping.\n"
     ]
    },
    {
     "name": "stderr",
     "output_type": "stream",
     "text": [
      "WARNING:tensorflow:Can save best model only with val_loss available, skipping.\n"
     ]
    },
    {
     "name": "stdout",
     "output_type": "stream",
     "text": [
      "10/10 [==============================] - 5s 462ms/step - loss: 0.0073 - semantic_0_loss: 0.0017 - semantic_1_loss: 0.0045 - semantic_2_loss: 0.0011 - lr: 1.4814e-05\n",
      "Epoch 192/200\n",
      "10/10 [==============================] - ETA: 0s - loss: 0.0071 - semantic_0_loss: 0.0016 - semantic_1_loss: 0.0044 - semantic_2_loss: 0.0010WARNING:tensorflow:Can save best model only with val_loss available, skipping.\n"
     ]
    },
    {
     "name": "stderr",
     "output_type": "stream",
     "text": [
      "WARNING:tensorflow:Can save best model only with val_loss available, skipping.\n"
     ]
    },
    {
     "name": "stdout",
     "output_type": "stream",
     "text": [
      "10/10 [==============================] - 5s 453ms/step - loss: 0.0071 - semantic_0_loss: 0.0016 - semantic_1_loss: 0.0044 - semantic_2_loss: 0.0010 - lr: 1.4666e-05\n",
      "Epoch 193/200\n",
      "10/10 [==============================] - ETA: 0s - loss: 0.0072 - semantic_0_loss: 0.0016 - semantic_1_loss: 0.0045 - semantic_2_loss: 0.0011WARNING:tensorflow:Can save best model only with val_loss available, skipping.\n"
     ]
    },
    {
     "name": "stderr",
     "output_type": "stream",
     "text": [
      "WARNING:tensorflow:Can save best model only with val_loss available, skipping.\n"
     ]
    },
    {
     "name": "stdout",
     "output_type": "stream",
     "text": [
      "10/10 [==============================] - 5s 467ms/step - loss: 0.0072 - semantic_0_loss: 0.0016 - semantic_1_loss: 0.0045 - semantic_2_loss: 0.0011 - lr: 1.4520e-05\n",
      "Epoch 194/200\n",
      "10/10 [==============================] - ETA: 0s - loss: 0.0071 - semantic_0_loss: 0.0016 - semantic_1_loss: 0.0044 - semantic_2_loss: 0.0011WARNING:tensorflow:Can save best model only with val_loss available, skipping.\n"
     ]
    },
    {
     "name": "stderr",
     "output_type": "stream",
     "text": [
      "WARNING:tensorflow:Can save best model only with val_loss available, skipping.\n"
     ]
    },
    {
     "name": "stdout",
     "output_type": "stream",
     "text": [
      "10/10 [==============================] - 5s 459ms/step - loss: 0.0071 - semantic_0_loss: 0.0016 - semantic_1_loss: 0.0044 - semantic_2_loss: 0.0011 - lr: 1.4374e-05\n",
      "Epoch 195/200\n",
      "10/10 [==============================] - ETA: 0s - loss: 0.0069 - semantic_0_loss: 0.0015 - semantic_1_loss: 0.0043 - semantic_2_loss: 0.0011WARNING:tensorflow:Can save best model only with val_loss available, skipping.\n"
     ]
    },
    {
     "name": "stderr",
     "output_type": "stream",
     "text": [
      "WARNING:tensorflow:Can save best model only with val_loss available, skipping.\n"
     ]
    },
    {
     "name": "stdout",
     "output_type": "stream",
     "text": [
      "10/10 [==============================] - 5s 447ms/step - loss: 0.0069 - semantic_0_loss: 0.0015 - semantic_1_loss: 0.0043 - semantic_2_loss: 0.0011 - lr: 1.4231e-05\n",
      "Epoch 196/200\n",
      "10/10 [==============================] - ETA: 0s - loss: 0.0064 - semantic_0_loss: 0.0014 - semantic_1_loss: 0.0039 - semantic_2_loss: 0.0010WARNING:tensorflow:Can save best model only with val_loss available, skipping.\n"
     ]
    },
    {
     "name": "stderr",
     "output_type": "stream",
     "text": [
      "WARNING:tensorflow:Can save best model only with val_loss available, skipping.\n"
     ]
    },
    {
     "name": "stdout",
     "output_type": "stream",
     "text": [
      "10/10 [==============================] - 5s 455ms/step - loss: 0.0064 - semantic_0_loss: 0.0014 - semantic_1_loss: 0.0039 - semantic_2_loss: 0.0010 - lr: 1.4088e-05\n",
      "Epoch 197/200\n",
      "10/10 [==============================] - ETA: 0s - loss: 0.0070 - semantic_0_loss: 0.0016 - semantic_1_loss: 0.0043 - semantic_2_loss: 0.0010WARNING:tensorflow:Can save best model only with val_loss available, skipping.\n"
     ]
    },
    {
     "name": "stderr",
     "output_type": "stream",
     "text": [
      "WARNING:tensorflow:Can save best model only with val_loss available, skipping.\n"
     ]
    },
    {
     "name": "stdout",
     "output_type": "stream",
     "text": [
      "10/10 [==============================] - 5s 469ms/step - loss: 0.0070 - semantic_0_loss: 0.0016 - semantic_1_loss: 0.0043 - semantic_2_loss: 0.0010 - lr: 1.3948e-05\n",
      "Epoch 198/200\n",
      "10/10 [==============================] - ETA: 0s - loss: 0.0070 - semantic_0_loss: 0.0015 - semantic_1_loss: 0.0044 - semantic_2_loss: 0.0010WARNING:tensorflow:Can save best model only with val_loss available, skipping.\n"
     ]
    },
    {
     "name": "stderr",
     "output_type": "stream",
     "text": [
      "WARNING:tensorflow:Can save best model only with val_loss available, skipping.\n"
     ]
    },
    {
     "name": "stdout",
     "output_type": "stream",
     "text": [
      "10/10 [==============================] - 5s 492ms/step - loss: 0.0070 - semantic_0_loss: 0.0015 - semantic_1_loss: 0.0044 - semantic_2_loss: 0.0010 - lr: 1.3808e-05\n",
      "Epoch 199/200\n",
      "10/10 [==============================] - ETA: 0s - loss: 0.0065 - semantic_0_loss: 0.0015 - semantic_1_loss: 0.0040 - semantic_2_loss: 0.0010WARNING:tensorflow:Can save best model only with val_loss available, skipping.\n"
     ]
    },
    {
     "name": "stderr",
     "output_type": "stream",
     "text": [
      "WARNING:tensorflow:Can save best model only with val_loss available, skipping.\n"
     ]
    },
    {
     "name": "stdout",
     "output_type": "stream",
     "text": [
      "10/10 [==============================] - 5s 453ms/step - loss: 0.0065 - semantic_0_loss: 0.0015 - semantic_1_loss: 0.0040 - semantic_2_loss: 0.0010 - lr: 1.3670e-05\n",
      "Epoch 200/200\n",
      "10/10 [==============================] - ETA: 0s - loss: 0.0067 - semantic_0_loss: 0.0015 - semantic_1_loss: 0.0041 - semantic_2_loss: 0.0010WARNING:tensorflow:Can save best model only with val_loss available, skipping.\n"
     ]
    },
    {
     "name": "stderr",
     "output_type": "stream",
     "text": [
      "WARNING:tensorflow:Can save best model only with val_loss available, skipping.\n"
     ]
    },
    {
     "name": "stdout",
     "output_type": "stream",
     "text": [
      "10/10 [==============================] - 5s 453ms/step - loss: 0.0067 - semantic_0_loss: 0.0015 - semantic_1_loss: 0.0041 - semantic_2_loss: 0.0010 - lr: 1.3533e-05\n",
      "/home/yfong/deeplearning/dense_cell_segmentation\n",
      "['M926910_CFL_Position7_CD3_test_img.png', 'M872956_JML_Position10_CD3_test_img.png', 'M872956_JML_Position8_CD8_test_img.png', 'M926910_CFL_Position13_CD3_test_img.png', 'M872956_JML_Position8_CD3_test_img.png', 'M872956_JML_Position8_CD4_test_img.png', 'M872956_JML_Position9_CD3_test_img.png']\n",
      "M926910_CFL_Position7_CD3_test_img.png\n"
     ]
    },
    {
     "name": "stderr",
     "output_type": "stream",
     "text": [
      "/app/software/DeepCell/0.11.1-foss-2021b-CUDA-11.4.1/lib/python3.9/site-packages/deepcell_toolbox/deep_watershed.py:179: FutureWarning: `selem` is a deprecated argument name for `h_maxima`. It will be removed in version 1.0.Please use `footprint` instead.\n",
      "  markers = h_maxima(image=maxima,\n"
     ]
    },
    {
     "name": "stdout",
     "output_type": "stream",
     "text": [
      "M872956_JML_Position10_CD3_test_img.png\n",
      "M872956_JML_Position8_CD8_test_img.png\n",
      "M926910_CFL_Position13_CD3_test_img.png\n",
      "M872956_JML_Position8_CD3_test_img.png\n",
      "M872956_JML_Position8_CD4_test_img.png\n",
      "M872956_JML_Position9_CD3_test_img.png\n",
      "[[0.11773700305810397, 0.25862068965517243], [0.12286689419795221, 0.30085470085470084], [0.2780487804878049, 0.39622641509433965], [0.11508951406649616, 0.22939866369710468], [0.26548672566371684, 0.40932642487046633], [0.4375, 0.5409429280397022], [0.19832985386221294, 0.31]]\n",
      "                                         0         1         2\n",
      "0   M926910_CFL_Position7_CD3_test_img.png  0.117737  0.258621\n",
      "1  M872956_JML_Position10_CD3_test_img.png  0.122867  0.300855\n",
      "2   M872956_JML_Position8_CD8_test_img.png  0.278049  0.396226\n",
      "3  M926910_CFL_Position13_CD3_test_img.png   0.11509  0.229399\n",
      "4   M872956_JML_Position8_CD3_test_img.png  0.265487  0.409326\n",
      "5   M872956_JML_Position8_CD4_test_img.png    0.4375  0.540943\n",
      "6   M872956_JML_Position9_CD3_test_img.png   0.19833      0.31\n",
      "3\n",
      "(3, 1040, 1159, 1)\n",
      "(3, 1040, 1159, 1)\n",
      "3.0769230769230766\n",
      "(3, 3199, 3566, 1)\n",
      "(3, 3199, 3566, 1)\n",
      "(3, 3199, 3566, 1)\n",
      "(3, 3199, 3566, 1)\n",
      "[0, 400, 800, 1200, 2687]\n",
      "[512, 912, 1312, 1712, 3199]\n",
      "[0, 512, 1024, 1536, 3054]\n",
      "[512, 1024, 1536, 2048, 3566]\n",
      "(75, 512, 512, 1)\n",
      "(75, 512, 512, 1)\n",
      "WARNING:tensorflow:Removing 12 of 75 images with fewer than 5 objects.\n"
     ]
    },
    {
     "name": "stderr",
     "output_type": "stream",
     "text": [
      "WARNING:tensorflow:Removing 12 of 75 images with fewer than 5 objects.\n",
      "/app/software/TensorFlow/2.7.1-foss-2021b-CUDA-11.4.1/lib/python3.9/site-packages/keras/optimizer_v2/adam.py:105: UserWarning: The `lr` argument is deprecated, use `learning_rate` instead.\n",
      "  super(Adam, self).__init__(name, **kwargs)\n"
     ]
    },
    {
     "name": "stdout",
     "output_type": "stream",
     "text": [
      "Training on 3 GPUs.\n"
     ]
    },
    {
     "name": "stderr",
     "output_type": "stream",
     "text": [
      "2022-11-11 19:45:41.973408: I tensorflow/core/common_runtime/gpu/gpu_device.cc:1525] Created device /device:GPU:0 with 14657 MB memory:  -> device: 0, name: Tesla V100-PCIE-16GB, pci bus id: 0000:04:00.0, compute capability: 7.0\n",
      "2022-11-11 19:45:41.974356: I tensorflow/core/common_runtime/gpu/gpu_device.cc:1525] Created device /device:GPU:1 with 14657 MB memory:  -> device: 1, name: Tesla V100-PCIE-16GB, pci bus id: 0000:06:00.0, compute capability: 7.0\n",
      "2022-11-11 19:45:41.975285: I tensorflow/core/common_runtime/gpu/gpu_device.cc:1525] Created device /device:GPU:2 with 14657 MB memory:  -> device: 2, name: Tesla V100-PCIE-16GB, pci bus id: 0000:08:00.0, compute capability: 7.0\n"
     ]
    },
    {
     "name": "stdout",
     "output_type": "stream",
     "text": [
      "Epoch 1/200\n",
      "15/15 [==============================] - ETA: 0s - loss: 0.0200 - semantic_0_loss: 0.0032 - semantic_1_loss: 0.0143 - semantic_2_loss: 0.0026WARNING:tensorflow:Can save best model only with val_loss available, skipping.\n"
     ]
    },
    {
     "name": "stderr",
     "output_type": "stream",
     "text": [
      "WARNING:tensorflow:Can save best model only with val_loss available, skipping.\n"
     ]
    },
    {
     "name": "stdout",
     "output_type": "stream",
     "text": [
      "15/15 [==============================] - 22s 487ms/step - loss: 0.0200 - semantic_0_loss: 0.0032 - semantic_1_loss: 0.0143 - semantic_2_loss: 0.0026 - lr: 1.0000e-04\n",
      "Epoch 2/200\n",
      "15/15 [==============================] - ETA: 0s - loss: 0.0162 - semantic_0_loss: 0.0025 - semantic_1_loss: 0.0116 - semantic_2_loss: 0.0021WARNING:tensorflow:Can save best model only with val_loss available, skipping.\n"
     ]
    },
    {
     "name": "stderr",
     "output_type": "stream",
     "text": [
      "WARNING:tensorflow:Can save best model only with val_loss available, skipping.\n"
     ]
    },
    {
     "name": "stdout",
     "output_type": "stream",
     "text": [
      "15/15 [==============================] - 12s 798ms/step - loss: 0.0162 - semantic_0_loss: 0.0025 - semantic_1_loss: 0.0116 - semantic_2_loss: 0.0021 - lr: 9.9000e-05\n",
      "Epoch 3/200\n",
      "15/15 [==============================] - ETA: 0s - loss: 0.0158 - semantic_0_loss: 0.0025 - semantic_1_loss: 0.0114 - semantic_2_loss: 0.0020WARNING:tensorflow:Can save best model only with val_loss available, skipping.\n"
     ]
    },
    {
     "name": "stderr",
     "output_type": "stream",
     "text": [
      "WARNING:tensorflow:Can save best model only with val_loss available, skipping.\n"
     ]
    },
    {
     "name": "stdout",
     "output_type": "stream",
     "text": [
      "15/15 [==============================] - 7s 483ms/step - loss: 0.0158 - semantic_0_loss: 0.0025 - semantic_1_loss: 0.0114 - semantic_2_loss: 0.0020 - lr: 9.8010e-05\n",
      "Epoch 4/200\n",
      "15/15 [==============================] - ETA: 0s - loss: 0.0145 - semantic_0_loss: 0.0023 - semantic_1_loss: 0.0103 - semantic_2_loss: 0.0019WARNING:tensorflow:Can save best model only with val_loss available, skipping.\n"
     ]
    },
    {
     "name": "stderr",
     "output_type": "stream",
     "text": [
      "WARNING:tensorflow:Can save best model only with val_loss available, skipping.\n"
     ]
    },
    {
     "name": "stdout",
     "output_type": "stream",
     "text": [
      "15/15 [==============================] - 7s 479ms/step - loss: 0.0145 - semantic_0_loss: 0.0023 - semantic_1_loss: 0.0103 - semantic_2_loss: 0.0019 - lr: 9.7030e-05\n",
      "Epoch 5/200\n",
      "15/15 [==============================] - ETA: 0s - loss: 0.0139 - semantic_0_loss: 0.0023 - semantic_1_loss: 0.0098 - semantic_2_loss: 0.0018WARNING:tensorflow:Can save best model only with val_loss available, skipping.\n"
     ]
    },
    {
     "name": "stderr",
     "output_type": "stream",
     "text": [
      "WARNING:tensorflow:Can save best model only with val_loss available, skipping.\n"
     ]
    },
    {
     "name": "stdout",
     "output_type": "stream",
     "text": [
      "15/15 [==============================] - 7s 471ms/step - loss: 0.0139 - semantic_0_loss: 0.0023 - semantic_1_loss: 0.0098 - semantic_2_loss: 0.0018 - lr: 9.6060e-05\n",
      "Epoch 6/200\n",
      "15/15 [==============================] - ETA: 0s - loss: 0.0140 - semantic_0_loss: 0.0023 - semantic_1_loss: 0.0099 - semantic_2_loss: 0.0018WARNING:tensorflow:Can save best model only with val_loss available, skipping.\n"
     ]
    },
    {
     "name": "stderr",
     "output_type": "stream",
     "text": [
      "WARNING:tensorflow:Can save best model only with val_loss available, skipping.\n"
     ]
    },
    {
     "name": "stdout",
     "output_type": "stream",
     "text": [
      "15/15 [==============================] - 7s 476ms/step - loss: 0.0140 - semantic_0_loss: 0.0023 - semantic_1_loss: 0.0099 - semantic_2_loss: 0.0018 - lr: 9.5099e-05\n",
      "Epoch 7/200\n",
      "15/15 [==============================] - ETA: 0s - loss: 0.0137 - semantic_0_loss: 0.0022 - semantic_1_loss: 0.0097 - semantic_2_loss: 0.0018WARNING:tensorflow:Can save best model only with val_loss available, skipping.\n"
     ]
    },
    {
     "name": "stderr",
     "output_type": "stream",
     "text": [
      "WARNING:tensorflow:Can save best model only with val_loss available, skipping.\n"
     ]
    },
    {
     "name": "stdout",
     "output_type": "stream",
     "text": [
      "15/15 [==============================] - 7s 481ms/step - loss: 0.0137 - semantic_0_loss: 0.0022 - semantic_1_loss: 0.0097 - semantic_2_loss: 0.0018 - lr: 9.4148e-05\n",
      "Epoch 8/200\n",
      "15/15 [==============================] - ETA: 0s - loss: 0.0137 - semantic_0_loss: 0.0023 - semantic_1_loss: 0.0097 - semantic_2_loss: 0.0017WARNING:tensorflow:Can save best model only with val_loss available, skipping.\n"
     ]
    },
    {
     "name": "stderr",
     "output_type": "stream",
     "text": [
      "WARNING:tensorflow:Can save best model only with val_loss available, skipping.\n"
     ]
    },
    {
     "name": "stdout",
     "output_type": "stream",
     "text": [
      "15/15 [==============================] - 7s 493ms/step - loss: 0.0137 - semantic_0_loss: 0.0023 - semantic_1_loss: 0.0097 - semantic_2_loss: 0.0017 - lr: 9.3207e-05\n",
      "Epoch 9/200\n",
      "15/15 [==============================] - ETA: 0s - loss: 0.0133 - semantic_0_loss: 0.0022 - semantic_1_loss: 0.0094 - semantic_2_loss: 0.0017WARNING:tensorflow:Can save best model only with val_loss available, skipping.\n"
     ]
    },
    {
     "name": "stderr",
     "output_type": "stream",
     "text": [
      "WARNING:tensorflow:Can save best model only with val_loss available, skipping.\n"
     ]
    },
    {
     "name": "stdout",
     "output_type": "stream",
     "text": [
      "15/15 [==============================] - 7s 485ms/step - loss: 0.0133 - semantic_0_loss: 0.0022 - semantic_1_loss: 0.0094 - semantic_2_loss: 0.0017 - lr: 9.2274e-05\n",
      "Epoch 10/200\n",
      "15/15 [==============================] - ETA: 0s - loss: 0.0133 - semantic_0_loss: 0.0023 - semantic_1_loss: 0.0094 - semantic_2_loss: 0.0017WARNING:tensorflow:Can save best model only with val_loss available, skipping.\n"
     ]
    },
    {
     "name": "stderr",
     "output_type": "stream",
     "text": [
      "WARNING:tensorflow:Can save best model only with val_loss available, skipping.\n"
     ]
    },
    {
     "name": "stdout",
     "output_type": "stream",
     "text": [
      "15/15 [==============================] - 8s 487ms/step - loss: 0.0133 - semantic_0_loss: 0.0023 - semantic_1_loss: 0.0094 - semantic_2_loss: 0.0017 - lr: 9.1352e-05\n",
      "Epoch 11/200\n",
      "15/15 [==============================] - ETA: 0s - loss: 0.0134 - semantic_0_loss: 0.0022 - semantic_1_loss: 0.0094 - semantic_2_loss: 0.0017WARNING:tensorflow:Can save best model only with val_loss available, skipping.\n"
     ]
    },
    {
     "name": "stderr",
     "output_type": "stream",
     "text": [
      "WARNING:tensorflow:Can save best model only with val_loss available, skipping.\n"
     ]
    },
    {
     "name": "stdout",
     "output_type": "stream",
     "text": [
      "15/15 [==============================] - 8s 487ms/step - loss: 0.0134 - semantic_0_loss: 0.0022 - semantic_1_loss: 0.0094 - semantic_2_loss: 0.0017 - lr: 9.0438e-05\n",
      "Epoch 12/200\n",
      "15/15 [==============================] - ETA: 0s - loss: 0.0132 - semantic_0_loss: 0.0022 - semantic_1_loss: 0.0093 - semantic_2_loss: 0.0017WARNING:tensorflow:Can save best model only with val_loss available, skipping.\n"
     ]
    },
    {
     "name": "stderr",
     "output_type": "stream",
     "text": [
      "WARNING:tensorflow:Can save best model only with val_loss available, skipping.\n"
     ]
    },
    {
     "name": "stdout",
     "output_type": "stream",
     "text": [
      "15/15 [==============================] - 8s 490ms/step - loss: 0.0132 - semantic_0_loss: 0.0022 - semantic_1_loss: 0.0093 - semantic_2_loss: 0.0017 - lr: 8.9534e-05\n",
      "Epoch 13/200\n",
      "15/15 [==============================] - ETA: 0s - loss: 0.0132 - semantic_0_loss: 0.0022 - semantic_1_loss: 0.0093 - semantic_2_loss: 0.0016WARNING:tensorflow:Can save best model only with val_loss available, skipping.\n"
     ]
    },
    {
     "name": "stderr",
     "output_type": "stream",
     "text": [
      "WARNING:tensorflow:Can save best model only with val_loss available, skipping.\n"
     ]
    },
    {
     "name": "stdout",
     "output_type": "stream",
     "text": [
      "15/15 [==============================] - 7s 485ms/step - loss: 0.0132 - semantic_0_loss: 0.0022 - semantic_1_loss: 0.0093 - semantic_2_loss: 0.0016 - lr: 8.8638e-05\n",
      "Epoch 14/200\n",
      "15/15 [==============================] - ETA: 0s - loss: 0.0129 - semantic_0_loss: 0.0022 - semantic_1_loss: 0.0091 - semantic_2_loss: 0.0016WARNING:tensorflow:Can save best model only with val_loss available, skipping.\n"
     ]
    },
    {
     "name": "stderr",
     "output_type": "stream",
     "text": [
      "WARNING:tensorflow:Can save best model only with val_loss available, skipping.\n"
     ]
    },
    {
     "name": "stdout",
     "output_type": "stream",
     "text": [
      "15/15 [==============================] - 8s 489ms/step - loss: 0.0129 - semantic_0_loss: 0.0022 - semantic_1_loss: 0.0091 - semantic_2_loss: 0.0016 - lr: 8.7752e-05\n",
      "Epoch 15/200\n",
      "15/15 [==============================] - ETA: 0s - loss: 0.0130 - semantic_0_loss: 0.0022 - semantic_1_loss: 0.0092 - semantic_2_loss: 0.0016WARNING:tensorflow:Can save best model only with val_loss available, skipping.\n"
     ]
    },
    {
     "name": "stderr",
     "output_type": "stream",
     "text": [
      "WARNING:tensorflow:Can save best model only with val_loss available, skipping.\n"
     ]
    },
    {
     "name": "stdout",
     "output_type": "stream",
     "text": [
      "15/15 [==============================] - 7s 471ms/step - loss: 0.0130 - semantic_0_loss: 0.0022 - semantic_1_loss: 0.0092 - semantic_2_loss: 0.0016 - lr: 8.6875e-05\n",
      "Epoch 16/200\n",
      "15/15 [==============================] - ETA: 0s - loss: 0.0122 - semantic_0_loss: 0.0021 - semantic_1_loss: 0.0085 - semantic_2_loss: 0.0016WARNING:tensorflow:Can save best model only with val_loss available, skipping.\n"
     ]
    },
    {
     "name": "stderr",
     "output_type": "stream",
     "text": [
      "WARNING:tensorflow:Can save best model only with val_loss available, skipping.\n"
     ]
    },
    {
     "name": "stdout",
     "output_type": "stream",
     "text": [
      "15/15 [==============================] - 8s 487ms/step - loss: 0.0122 - semantic_0_loss: 0.0021 - semantic_1_loss: 0.0085 - semantic_2_loss: 0.0016 - lr: 8.6006e-05\n",
      "Epoch 17/200\n",
      "15/15 [==============================] - ETA: 0s - loss: 0.0123 - semantic_0_loss: 0.0021 - semantic_1_loss: 0.0086 - semantic_2_loss: 0.0016WARNING:tensorflow:Can save best model only with val_loss available, skipping.\n"
     ]
    },
    {
     "name": "stderr",
     "output_type": "stream",
     "text": [
      "WARNING:tensorflow:Can save best model only with val_loss available, skipping.\n"
     ]
    },
    {
     "name": "stdout",
     "output_type": "stream",
     "text": [
      "15/15 [==============================] - 7s 478ms/step - loss: 0.0123 - semantic_0_loss: 0.0021 - semantic_1_loss: 0.0086 - semantic_2_loss: 0.0016 - lr: 8.5146e-05\n",
      "Epoch 18/200\n",
      "15/15 [==============================] - ETA: 0s - loss: 0.0127 - semantic_0_loss: 0.0022 - semantic_1_loss: 0.0089 - semantic_2_loss: 0.0016WARNING:tensorflow:Can save best model only with val_loss available, skipping.\n"
     ]
    },
    {
     "name": "stderr",
     "output_type": "stream",
     "text": [
      "WARNING:tensorflow:Can save best model only with val_loss available, skipping.\n"
     ]
    },
    {
     "name": "stdout",
     "output_type": "stream",
     "text": [
      "15/15 [==============================] - 7s 473ms/step - loss: 0.0127 - semantic_0_loss: 0.0022 - semantic_1_loss: 0.0089 - semantic_2_loss: 0.0016 - lr: 8.4294e-05\n",
      "Epoch 19/200\n",
      "15/15 [==============================] - ETA: 0s - loss: 0.0124 - semantic_0_loss: 0.0021 - semantic_1_loss: 0.0087 - semantic_2_loss: 0.0016WARNING:tensorflow:Can save best model only with val_loss available, skipping.\n"
     ]
    },
    {
     "name": "stderr",
     "output_type": "stream",
     "text": [
      "WARNING:tensorflow:Can save best model only with val_loss available, skipping.\n"
     ]
    },
    {
     "name": "stdout",
     "output_type": "stream",
     "text": [
      "15/15 [==============================] - 7s 478ms/step - loss: 0.0124 - semantic_0_loss: 0.0021 - semantic_1_loss: 0.0087 - semantic_2_loss: 0.0016 - lr: 8.3451e-05\n",
      "Epoch 20/200\n",
      "15/15 [==============================] - ETA: 0s - loss: 0.0124 - semantic_0_loss: 0.0022 - semantic_1_loss: 0.0087 - semantic_2_loss: 0.0016WARNING:tensorflow:Can save best model only with val_loss available, skipping.\n"
     ]
    },
    {
     "name": "stderr",
     "output_type": "stream",
     "text": [
      "WARNING:tensorflow:Can save best model only with val_loss available, skipping.\n"
     ]
    },
    {
     "name": "stdout",
     "output_type": "stream",
     "text": [
      "15/15 [==============================] - 7s 481ms/step - loss: 0.0124 - semantic_0_loss: 0.0022 - semantic_1_loss: 0.0087 - semantic_2_loss: 0.0016 - lr: 8.2617e-05\n",
      "Epoch 21/200\n",
      "15/15 [==============================] - ETA: 0s - loss: 0.0127 - semantic_0_loss: 0.0022 - semantic_1_loss: 0.0089 - semantic_2_loss: 0.0016WARNING:tensorflow:Can save best model only with val_loss available, skipping.\n"
     ]
    },
    {
     "name": "stderr",
     "output_type": "stream",
     "text": [
      "WARNING:tensorflow:Can save best model only with val_loss available, skipping.\n"
     ]
    },
    {
     "name": "stdout",
     "output_type": "stream",
     "text": [
      "15/15 [==============================] - 7s 476ms/step - loss: 0.0127 - semantic_0_loss: 0.0022 - semantic_1_loss: 0.0089 - semantic_2_loss: 0.0016 - lr: 8.1791e-05\n",
      "Epoch 22/200\n",
      "15/15 [==============================] - ETA: 0s - loss: 0.0125 - semantic_0_loss: 0.0022 - semantic_1_loss: 0.0087 - semantic_2_loss: 0.0016WARNING:tensorflow:Can save best model only with val_loss available, skipping.\n"
     ]
    },
    {
     "name": "stderr",
     "output_type": "stream",
     "text": [
      "WARNING:tensorflow:Can save best model only with val_loss available, skipping.\n"
     ]
    },
    {
     "name": "stdout",
     "output_type": "stream",
     "text": [
      "15/15 [==============================] - 7s 474ms/step - loss: 0.0125 - semantic_0_loss: 0.0022 - semantic_1_loss: 0.0087 - semantic_2_loss: 0.0016 - lr: 8.0973e-05\n",
      "Epoch 23/200\n",
      "15/15 [==============================] - ETA: 0s - loss: 0.0125 - semantic_0_loss: 0.0021 - semantic_1_loss: 0.0087 - semantic_2_loss: 0.0016WARNING:tensorflow:Can save best model only with val_loss available, skipping.\n"
     ]
    },
    {
     "name": "stderr",
     "output_type": "stream",
     "text": [
      "WARNING:tensorflow:Can save best model only with val_loss available, skipping.\n"
     ]
    },
    {
     "name": "stdout",
     "output_type": "stream",
     "text": [
      "15/15 [==============================] - 7s 470ms/step - loss: 0.0125 - semantic_0_loss: 0.0021 - semantic_1_loss: 0.0087 - semantic_2_loss: 0.0016 - lr: 8.0163e-05\n",
      "Epoch 24/200\n",
      "15/15 [==============================] - ETA: 0s - loss: 0.0125 - semantic_0_loss: 0.0021 - semantic_1_loss: 0.0087 - semantic_2_loss: 0.0016WARNING:tensorflow:Can save best model only with val_loss available, skipping.\n"
     ]
    },
    {
     "name": "stderr",
     "output_type": "stream",
     "text": [
      "WARNING:tensorflow:Can save best model only with val_loss available, skipping.\n"
     ]
    },
    {
     "name": "stdout",
     "output_type": "stream",
     "text": [
      "15/15 [==============================] - 7s 471ms/step - loss: 0.0125 - semantic_0_loss: 0.0021 - semantic_1_loss: 0.0087 - semantic_2_loss: 0.0016 - lr: 7.9361e-05\n",
      "Epoch 25/200\n",
      "15/15 [==============================] - ETA: 0s - loss: 0.0127 - semantic_0_loss: 0.0022 - semantic_1_loss: 0.0089 - semantic_2_loss: 0.0016WARNING:tensorflow:Can save best model only with val_loss available, skipping.\n"
     ]
    },
    {
     "name": "stderr",
     "output_type": "stream",
     "text": [
      "WARNING:tensorflow:Can save best model only with val_loss available, skipping.\n"
     ]
    },
    {
     "name": "stdout",
     "output_type": "stream",
     "text": [
      "15/15 [==============================] - 7s 477ms/step - loss: 0.0127 - semantic_0_loss: 0.0022 - semantic_1_loss: 0.0089 - semantic_2_loss: 0.0016 - lr: 7.8568e-05\n",
      "Epoch 26/200\n",
      "15/15 [==============================] - ETA: 0s - loss: 0.0115 - semantic_0_loss: 0.0021 - semantic_1_loss: 0.0079 - semantic_2_loss: 0.0015WARNING:tensorflow:Can save best model only with val_loss available, skipping.\n"
     ]
    },
    {
     "name": "stderr",
     "output_type": "stream",
     "text": [
      "WARNING:tensorflow:Can save best model only with val_loss available, skipping.\n"
     ]
    },
    {
     "name": "stdout",
     "output_type": "stream",
     "text": [
      "15/15 [==============================] - 8s 487ms/step - loss: 0.0115 - semantic_0_loss: 0.0021 - semantic_1_loss: 0.0079 - semantic_2_loss: 0.0015 - lr: 7.7782e-05\n",
      "Epoch 27/200\n",
      "15/15 [==============================] - ETA: 0s - loss: 0.0120 - semantic_0_loss: 0.0021 - semantic_1_loss: 0.0083 - semantic_2_loss: 0.0015WARNING:tensorflow:Can save best model only with val_loss available, skipping.\n"
     ]
    },
    {
     "name": "stderr",
     "output_type": "stream",
     "text": [
      "WARNING:tensorflow:Can save best model only with val_loss available, skipping.\n"
     ]
    },
    {
     "name": "stdout",
     "output_type": "stream",
     "text": [
      "15/15 [==============================] - 7s 484ms/step - loss: 0.0120 - semantic_0_loss: 0.0021 - semantic_1_loss: 0.0083 - semantic_2_loss: 0.0015 - lr: 7.7004e-05\n",
      "Epoch 28/200\n",
      "15/15 [==============================] - ETA: 0s - loss: 0.0118 - semantic_0_loss: 0.0021 - semantic_1_loss: 0.0082 - semantic_2_loss: 0.0015WARNING:tensorflow:Can save best model only with val_loss available, skipping.\n"
     ]
    },
    {
     "name": "stderr",
     "output_type": "stream",
     "text": [
      "WARNING:tensorflow:Can save best model only with val_loss available, skipping.\n"
     ]
    },
    {
     "name": "stdout",
     "output_type": "stream",
     "text": [
      "15/15 [==============================] - 7s 476ms/step - loss: 0.0118 - semantic_0_loss: 0.0021 - semantic_1_loss: 0.0082 - semantic_2_loss: 0.0015 - lr: 7.6234e-05\n",
      "Epoch 29/200\n",
      "15/15 [==============================] - ETA: 0s - loss: 0.0128 - semantic_0_loss: 0.0022 - semantic_1_loss: 0.0090 - semantic_2_loss: 0.0016WARNING:tensorflow:Can save best model only with val_loss available, skipping.\n"
     ]
    },
    {
     "name": "stderr",
     "output_type": "stream",
     "text": [
      "WARNING:tensorflow:Can save best model only with val_loss available, skipping.\n"
     ]
    },
    {
     "name": "stdout",
     "output_type": "stream",
     "text": [
      "15/15 [==============================] - 8s 488ms/step - loss: 0.0128 - semantic_0_loss: 0.0022 - semantic_1_loss: 0.0090 - semantic_2_loss: 0.0016 - lr: 7.5472e-05\n",
      "Epoch 30/200\n",
      "15/15 [==============================] - ETA: 0s - loss: 0.0113 - semantic_0_loss: 0.0020 - semantic_1_loss: 0.0078 - semantic_2_loss: 0.0015WARNING:tensorflow:Can save best model only with val_loss available, skipping.\n"
     ]
    },
    {
     "name": "stderr",
     "output_type": "stream",
     "text": [
      "WARNING:tensorflow:Can save best model only with val_loss available, skipping.\n"
     ]
    },
    {
     "name": "stdout",
     "output_type": "stream",
     "text": [
      "15/15 [==============================] - 7s 478ms/step - loss: 0.0113 - semantic_0_loss: 0.0020 - semantic_1_loss: 0.0078 - semantic_2_loss: 0.0015 - lr: 7.4717e-05\n",
      "Epoch 31/200\n",
      "15/15 [==============================] - ETA: 0s - loss: 0.0124 - semantic_0_loss: 0.0022 - semantic_1_loss: 0.0086 - semantic_2_loss: 0.0016WARNING:tensorflow:Can save best model only with val_loss available, skipping.\n"
     ]
    },
    {
     "name": "stderr",
     "output_type": "stream",
     "text": [
      "WARNING:tensorflow:Can save best model only with val_loss available, skipping.\n"
     ]
    },
    {
     "name": "stdout",
     "output_type": "stream",
     "text": [
      "15/15 [==============================] - 7s 481ms/step - loss: 0.0124 - semantic_0_loss: 0.0022 - semantic_1_loss: 0.0086 - semantic_2_loss: 0.0016 - lr: 7.3970e-05\n",
      "Epoch 32/200\n",
      "15/15 [==============================] - ETA: 0s - loss: 0.0115 - semantic_0_loss: 0.0020 - semantic_1_loss: 0.0080 - semantic_2_loss: 0.0015WARNING:tensorflow:Can save best model only with val_loss available, skipping.\n"
     ]
    },
    {
     "name": "stderr",
     "output_type": "stream",
     "text": [
      "WARNING:tensorflow:Can save best model only with val_loss available, skipping.\n"
     ]
    },
    {
     "name": "stdout",
     "output_type": "stream",
     "text": [
      "15/15 [==============================] - 7s 485ms/step - loss: 0.0115 - semantic_0_loss: 0.0020 - semantic_1_loss: 0.0080 - semantic_2_loss: 0.0015 - lr: 7.3230e-05\n",
      "Epoch 33/200\n",
      "15/15 [==============================] - ETA: 0s - loss: 0.0116 - semantic_0_loss: 0.0020 - semantic_1_loss: 0.0080 - semantic_2_loss: 0.0015WARNING:tensorflow:Can save best model only with val_loss available, skipping.\n"
     ]
    },
    {
     "name": "stderr",
     "output_type": "stream",
     "text": [
      "WARNING:tensorflow:Can save best model only with val_loss available, skipping.\n"
     ]
    },
    {
     "name": "stdout",
     "output_type": "stream",
     "text": [
      "15/15 [==============================] - 8s 490ms/step - loss: 0.0116 - semantic_0_loss: 0.0020 - semantic_1_loss: 0.0080 - semantic_2_loss: 0.0015 - lr: 7.2498e-05\n",
      "Epoch 34/200\n",
      "15/15 [==============================] - ETA: 0s - loss: 0.0116 - semantic_0_loss: 0.0021 - semantic_1_loss: 0.0080 - semantic_2_loss: 0.0015WARNING:tensorflow:Can save best model only with val_loss available, skipping.\n"
     ]
    },
    {
     "name": "stderr",
     "output_type": "stream",
     "text": [
      "WARNING:tensorflow:Can save best model only with val_loss available, skipping.\n"
     ]
    },
    {
     "name": "stdout",
     "output_type": "stream",
     "text": [
      "15/15 [==============================] - 8s 486ms/step - loss: 0.0116 - semantic_0_loss: 0.0021 - semantic_1_loss: 0.0080 - semantic_2_loss: 0.0015 - lr: 7.1773e-05\n",
      "Epoch 35/200\n",
      "15/15 [==============================] - ETA: 0s - loss: 0.0113 - semantic_0_loss: 0.0020 - semantic_1_loss: 0.0078 - semantic_2_loss: 0.0015WARNING:tensorflow:Can save best model only with val_loss available, skipping.\n"
     ]
    },
    {
     "name": "stderr",
     "output_type": "stream",
     "text": [
      "WARNING:tensorflow:Can save best model only with val_loss available, skipping.\n"
     ]
    },
    {
     "name": "stdout",
     "output_type": "stream",
     "text": [
      "15/15 [==============================] - 7s 474ms/step - loss: 0.0113 - semantic_0_loss: 0.0020 - semantic_1_loss: 0.0078 - semantic_2_loss: 0.0015 - lr: 7.1055e-05\n",
      "Epoch 36/200\n",
      "15/15 [==============================] - ETA: 0s - loss: 0.0118 - semantic_0_loss: 0.0021 - semantic_1_loss: 0.0081 - semantic_2_loss: 0.0015WARNING:tensorflow:Can save best model only with val_loss available, skipping.\n"
     ]
    },
    {
     "name": "stderr",
     "output_type": "stream",
     "text": [
      "WARNING:tensorflow:Can save best model only with val_loss available, skipping.\n"
     ]
    },
    {
     "name": "stdout",
     "output_type": "stream",
     "text": [
      "15/15 [==============================] - 7s 484ms/step - loss: 0.0118 - semantic_0_loss: 0.0021 - semantic_1_loss: 0.0081 - semantic_2_loss: 0.0015 - lr: 7.0345e-05\n",
      "Epoch 37/200\n",
      "15/15 [==============================] - ETA: 0s - loss: 0.0114 - semantic_0_loss: 0.0021 - semantic_1_loss: 0.0079 - semantic_2_loss: 0.0015WARNING:tensorflow:Can save best model only with val_loss available, skipping.\n"
     ]
    },
    {
     "name": "stderr",
     "output_type": "stream",
     "text": [
      "WARNING:tensorflow:Can save best model only with val_loss available, skipping.\n"
     ]
    },
    {
     "name": "stdout",
     "output_type": "stream",
     "text": [
      "15/15 [==============================] - 7s 483ms/step - loss: 0.0114 - semantic_0_loss: 0.0021 - semantic_1_loss: 0.0079 - semantic_2_loss: 0.0015 - lr: 6.9641e-05\n",
      "Epoch 38/200\n",
      "15/15 [==============================] - ETA: 0s - loss: 0.0112 - semantic_0_loss: 0.0020 - semantic_1_loss: 0.0077 - semantic_2_loss: 0.0015WARNING:tensorflow:Can save best model only with val_loss available, skipping.\n"
     ]
    },
    {
     "name": "stderr",
     "output_type": "stream",
     "text": [
      "WARNING:tensorflow:Can save best model only with val_loss available, skipping.\n"
     ]
    },
    {
     "name": "stdout",
     "output_type": "stream",
     "text": [
      "15/15 [==============================] - 8s 489ms/step - loss: 0.0112 - semantic_0_loss: 0.0020 - semantic_1_loss: 0.0077 - semantic_2_loss: 0.0015 - lr: 6.8945e-05\n",
      "Epoch 39/200\n",
      "15/15 [==============================] - ETA: 0s - loss: 0.0113 - semantic_0_loss: 0.0020 - semantic_1_loss: 0.0078 - semantic_2_loss: 0.0015WARNING:tensorflow:Can save best model only with val_loss available, skipping.\n"
     ]
    },
    {
     "name": "stderr",
     "output_type": "stream",
     "text": [
      "WARNING:tensorflow:Can save best model only with val_loss available, skipping.\n"
     ]
    },
    {
     "name": "stdout",
     "output_type": "stream",
     "text": [
      "15/15 [==============================] - 7s 478ms/step - loss: 0.0113 - semantic_0_loss: 0.0020 - semantic_1_loss: 0.0078 - semantic_2_loss: 0.0015 - lr: 6.8255e-05\n",
      "Epoch 40/200\n",
      "15/15 [==============================] - ETA: 0s - loss: 0.0112 - semantic_0_loss: 0.0020 - semantic_1_loss: 0.0077 - semantic_2_loss: 0.0014WARNING:tensorflow:Can save best model only with val_loss available, skipping.\n"
     ]
    },
    {
     "name": "stderr",
     "output_type": "stream",
     "text": [
      "WARNING:tensorflow:Can save best model only with val_loss available, skipping.\n"
     ]
    },
    {
     "name": "stdout",
     "output_type": "stream",
     "text": [
      "15/15 [==============================] - 7s 476ms/step - loss: 0.0112 - semantic_0_loss: 0.0020 - semantic_1_loss: 0.0077 - semantic_2_loss: 0.0014 - lr: 6.7573e-05\n",
      "Epoch 41/200\n",
      "15/15 [==============================] - ETA: 0s - loss: 0.0112 - semantic_0_loss: 0.0020 - semantic_1_loss: 0.0078 - semantic_2_loss: 0.0014WARNING:tensorflow:Can save best model only with val_loss available, skipping.\n"
     ]
    },
    {
     "name": "stderr",
     "output_type": "stream",
     "text": [
      "WARNING:tensorflow:Can save best model only with val_loss available, skipping.\n"
     ]
    },
    {
     "name": "stdout",
     "output_type": "stream",
     "text": [
      "15/15 [==============================] - 7s 480ms/step - loss: 0.0112 - semantic_0_loss: 0.0020 - semantic_1_loss: 0.0078 - semantic_2_loss: 0.0014 - lr: 6.6897e-05\n",
      "Epoch 42/200\n",
      "15/15 [==============================] - ETA: 0s - loss: 0.0117 - semantic_0_loss: 0.0021 - semantic_1_loss: 0.0081 - semantic_2_loss: 0.0015WARNING:tensorflow:Can save best model only with val_loss available, skipping.\n"
     ]
    },
    {
     "name": "stderr",
     "output_type": "stream",
     "text": [
      "WARNING:tensorflow:Can save best model only with val_loss available, skipping.\n"
     ]
    },
    {
     "name": "stdout",
     "output_type": "stream",
     "text": [
      "15/15 [==============================] - 7s 472ms/step - loss: 0.0117 - semantic_0_loss: 0.0021 - semantic_1_loss: 0.0081 - semantic_2_loss: 0.0015 - lr: 6.6228e-05\n",
      "Epoch 43/200\n",
      "15/15 [==============================] - ETA: 0s - loss: 0.0117 - semantic_0_loss: 0.0021 - semantic_1_loss: 0.0081 - semantic_2_loss: 0.0015WARNING:tensorflow:Can save best model only with val_loss available, skipping.\n"
     ]
    },
    {
     "name": "stderr",
     "output_type": "stream",
     "text": [
      "WARNING:tensorflow:Can save best model only with val_loss available, skipping.\n"
     ]
    },
    {
     "name": "stdout",
     "output_type": "stream",
     "text": [
      "15/15 [==============================] - 7s 483ms/step - loss: 0.0117 - semantic_0_loss: 0.0021 - semantic_1_loss: 0.0081 - semantic_2_loss: 0.0015 - lr: 6.5566e-05\n",
      "Epoch 44/200\n",
      "15/15 [==============================] - ETA: 0s - loss: 0.0116 - semantic_0_loss: 0.0021 - semantic_1_loss: 0.0081 - semantic_2_loss: 0.0015WARNING:tensorflow:Can save best model only with val_loss available, skipping.\n"
     ]
    },
    {
     "name": "stderr",
     "output_type": "stream",
     "text": [
      "WARNING:tensorflow:Can save best model only with val_loss available, skipping.\n"
     ]
    },
    {
     "name": "stdout",
     "output_type": "stream",
     "text": [
      "15/15 [==============================] - 7s 480ms/step - loss: 0.0116 - semantic_0_loss: 0.0021 - semantic_1_loss: 0.0081 - semantic_2_loss: 0.0015 - lr: 6.4910e-05\n",
      "Epoch 45/200\n",
      "15/15 [==============================] - ETA: 0s - loss: 0.0119 - semantic_0_loss: 0.0022 - semantic_1_loss: 0.0082 - semantic_2_loss: 0.0015WARNING:tensorflow:Can save best model only with val_loss available, skipping.\n"
     ]
    },
    {
     "name": "stderr",
     "output_type": "stream",
     "text": [
      "WARNING:tensorflow:Can save best model only with val_loss available, skipping.\n"
     ]
    },
    {
     "name": "stdout",
     "output_type": "stream",
     "text": [
      "15/15 [==============================] - 7s 479ms/step - loss: 0.0119 - semantic_0_loss: 0.0022 - semantic_1_loss: 0.0082 - semantic_2_loss: 0.0015 - lr: 6.4261e-05\n",
      "Epoch 46/200\n",
      "15/15 [==============================] - ETA: 0s - loss: 0.0117 - semantic_0_loss: 0.0021 - semantic_1_loss: 0.0081 - semantic_2_loss: 0.0015WARNING:tensorflow:Can save best model only with val_loss available, skipping.\n"
     ]
    },
    {
     "name": "stderr",
     "output_type": "stream",
     "text": [
      "WARNING:tensorflow:Can save best model only with val_loss available, skipping.\n"
     ]
    },
    {
     "name": "stdout",
     "output_type": "stream",
     "text": [
      "15/15 [==============================] - 8s 489ms/step - loss: 0.0117 - semantic_0_loss: 0.0021 - semantic_1_loss: 0.0081 - semantic_2_loss: 0.0015 - lr: 6.3619e-05\n",
      "Epoch 47/200\n",
      "15/15 [==============================] - ETA: 0s - loss: 0.0113 - semantic_0_loss: 0.0020 - semantic_1_loss: 0.0078 - semantic_2_loss: 0.0015WARNING:tensorflow:Can save best model only with val_loss available, skipping.\n"
     ]
    },
    {
     "name": "stderr",
     "output_type": "stream",
     "text": [
      "WARNING:tensorflow:Can save best model only with val_loss available, skipping.\n"
     ]
    },
    {
     "name": "stdout",
     "output_type": "stream",
     "text": [
      "15/15 [==============================] - 8s 485ms/step - loss: 0.0113 - semantic_0_loss: 0.0020 - semantic_1_loss: 0.0078 - semantic_2_loss: 0.0015 - lr: 6.2982e-05\n",
      "Epoch 48/200\n",
      "15/15 [==============================] - ETA: 0s - loss: 0.0104 - semantic_0_loss: 0.0019 - semantic_1_loss: 0.0070 - semantic_2_loss: 0.0014WARNING:tensorflow:Can save best model only with val_loss available, skipping.\n"
     ]
    },
    {
     "name": "stderr",
     "output_type": "stream",
     "text": [
      "WARNING:tensorflow:Can save best model only with val_loss available, skipping.\n"
     ]
    },
    {
     "name": "stdout",
     "output_type": "stream",
     "text": [
      "15/15 [==============================] - 7s 479ms/step - loss: 0.0104 - semantic_0_loss: 0.0019 - semantic_1_loss: 0.0070 - semantic_2_loss: 0.0014 - lr: 6.2353e-05\n",
      "Epoch 49/200\n",
      "15/15 [==============================] - ETA: 0s - loss: 0.0109 - semantic_0_loss: 0.0020 - semantic_1_loss: 0.0075 - semantic_2_loss: 0.0014WARNING:tensorflow:Can save best model only with val_loss available, skipping.\n"
     ]
    },
    {
     "name": "stderr",
     "output_type": "stream",
     "text": [
      "WARNING:tensorflow:Can save best model only with val_loss available, skipping.\n"
     ]
    },
    {
     "name": "stdout",
     "output_type": "stream",
     "text": [
      "15/15 [==============================] - 7s 480ms/step - loss: 0.0109 - semantic_0_loss: 0.0020 - semantic_1_loss: 0.0075 - semantic_2_loss: 0.0014 - lr: 6.1729e-05\n",
      "Epoch 50/200\n",
      "15/15 [==============================] - ETA: 0s - loss: 0.0108 - semantic_0_loss: 0.0019 - semantic_1_loss: 0.0074 - semantic_2_loss: 0.0014WARNING:tensorflow:Can save best model only with val_loss available, skipping.\n"
     ]
    },
    {
     "name": "stderr",
     "output_type": "stream",
     "text": [
      "WARNING:tensorflow:Can save best model only with val_loss available, skipping.\n"
     ]
    },
    {
     "name": "stdout",
     "output_type": "stream",
     "text": [
      "15/15 [==============================] - 7s 489ms/step - loss: 0.0108 - semantic_0_loss: 0.0019 - semantic_1_loss: 0.0074 - semantic_2_loss: 0.0014 - lr: 6.1112e-05\n",
      "Epoch 51/200\n",
      "15/15 [==============================] - ETA: 0s - loss: 0.0108 - semantic_0_loss: 0.0020 - semantic_1_loss: 0.0074 - semantic_2_loss: 0.0014WARNING:tensorflow:Can save best model only with val_loss available, skipping.\n"
     ]
    },
    {
     "name": "stderr",
     "output_type": "stream",
     "text": [
      "WARNING:tensorflow:Can save best model only with val_loss available, skipping.\n"
     ]
    },
    {
     "name": "stdout",
     "output_type": "stream",
     "text": [
      "15/15 [==============================] - 7s 480ms/step - loss: 0.0108 - semantic_0_loss: 0.0020 - semantic_1_loss: 0.0074 - semantic_2_loss: 0.0014 - lr: 6.0501e-05\n",
      "Epoch 52/200\n",
      "15/15 [==============================] - ETA: 0s - loss: 0.0109 - semantic_0_loss: 0.0020 - semantic_1_loss: 0.0075 - semantic_2_loss: 0.0014WARNING:tensorflow:Can save best model only with val_loss available, skipping.\n"
     ]
    },
    {
     "name": "stderr",
     "output_type": "stream",
     "text": [
      "WARNING:tensorflow:Can save best model only with val_loss available, skipping.\n"
     ]
    },
    {
     "name": "stdout",
     "output_type": "stream",
     "text": [
      "15/15 [==============================] - 8s 491ms/step - loss: 0.0109 - semantic_0_loss: 0.0020 - semantic_1_loss: 0.0075 - semantic_2_loss: 0.0014 - lr: 5.9896e-05\n",
      "Epoch 53/200\n",
      "15/15 [==============================] - ETA: 0s - loss: 0.0111 - semantic_0_loss: 0.0020 - semantic_1_loss: 0.0077 - semantic_2_loss: 0.0014WARNING:tensorflow:Can save best model only with val_loss available, skipping.\n"
     ]
    },
    {
     "name": "stderr",
     "output_type": "stream",
     "text": [
      "WARNING:tensorflow:Can save best model only with val_loss available, skipping.\n"
     ]
    },
    {
     "name": "stdout",
     "output_type": "stream",
     "text": [
      "15/15 [==============================] - 7s 478ms/step - loss: 0.0111 - semantic_0_loss: 0.0020 - semantic_1_loss: 0.0077 - semantic_2_loss: 0.0014 - lr: 5.9297e-05\n",
      "Epoch 54/200\n",
      "15/15 [==============================] - ETA: 0s - loss: 0.0110 - semantic_0_loss: 0.0020 - semantic_1_loss: 0.0075 - semantic_2_loss: 0.0015WARNING:tensorflow:Can save best model only with val_loss available, skipping.\n"
     ]
    },
    {
     "name": "stderr",
     "output_type": "stream",
     "text": [
      "WARNING:tensorflow:Can save best model only with val_loss available, skipping.\n"
     ]
    },
    {
     "name": "stdout",
     "output_type": "stream",
     "text": [
      "15/15 [==============================] - 7s 475ms/step - loss: 0.0110 - semantic_0_loss: 0.0020 - semantic_1_loss: 0.0075 - semantic_2_loss: 0.0015 - lr: 5.8704e-05\n",
      "Epoch 55/200\n",
      "15/15 [==============================] - ETA: 0s - loss: 0.0103 - semantic_0_loss: 0.0019 - semantic_1_loss: 0.0070 - semantic_2_loss: 0.0014WARNING:tensorflow:Can save best model only with val_loss available, skipping.\n"
     ]
    },
    {
     "name": "stderr",
     "output_type": "stream",
     "text": [
      "WARNING:tensorflow:Can save best model only with val_loss available, skipping.\n"
     ]
    },
    {
     "name": "stdout",
     "output_type": "stream",
     "text": [
      "15/15 [==============================] - 7s 478ms/step - loss: 0.0103 - semantic_0_loss: 0.0019 - semantic_1_loss: 0.0070 - semantic_2_loss: 0.0014 - lr: 5.8117e-05\n",
      "Epoch 56/200\n",
      "15/15 [==============================] - ETA: 0s - loss: 0.0105 - semantic_0_loss: 0.0020 - semantic_1_loss: 0.0071 - semantic_2_loss: 0.0014WARNING:tensorflow:Can save best model only with val_loss available, skipping.\n"
     ]
    },
    {
     "name": "stderr",
     "output_type": "stream",
     "text": [
      "WARNING:tensorflow:Can save best model only with val_loss available, skipping.\n"
     ]
    },
    {
     "name": "stdout",
     "output_type": "stream",
     "text": [
      "15/15 [==============================] - 7s 476ms/step - loss: 0.0105 - semantic_0_loss: 0.0020 - semantic_1_loss: 0.0071 - semantic_2_loss: 0.0014 - lr: 5.7535e-05\n",
      "Epoch 57/200\n",
      "15/15 [==============================] - ETA: 0s - loss: 0.0106 - semantic_0_loss: 0.0019 - semantic_1_loss: 0.0072 - semantic_2_loss: 0.0014WARNING:tensorflow:Can save best model only with val_loss available, skipping.\n"
     ]
    },
    {
     "name": "stderr",
     "output_type": "stream",
     "text": [
      "WARNING:tensorflow:Can save best model only with val_loss available, skipping.\n"
     ]
    },
    {
     "name": "stdout",
     "output_type": "stream",
     "text": [
      "15/15 [==============================] - 7s 474ms/step - loss: 0.0106 - semantic_0_loss: 0.0019 - semantic_1_loss: 0.0072 - semantic_2_loss: 0.0014 - lr: 5.6960e-05\n",
      "Epoch 58/200\n",
      "15/15 [==============================] - ETA: 0s - loss: 0.0109 - semantic_0_loss: 0.0020 - semantic_1_loss: 0.0074 - semantic_2_loss: 0.0014WARNING:tensorflow:Can save best model only with val_loss available, skipping.\n"
     ]
    },
    {
     "name": "stderr",
     "output_type": "stream",
     "text": [
      "WARNING:tensorflow:Can save best model only with val_loss available, skipping.\n"
     ]
    },
    {
     "name": "stdout",
     "output_type": "stream",
     "text": [
      "15/15 [==============================] - 7s 482ms/step - loss: 0.0109 - semantic_0_loss: 0.0020 - semantic_1_loss: 0.0074 - semantic_2_loss: 0.0014 - lr: 5.6391e-05\n",
      "Epoch 59/200\n",
      "15/15 [==============================] - ETA: 0s - loss: 0.0107 - semantic_0_loss: 0.0020 - semantic_1_loss: 0.0073 - semantic_2_loss: 0.0014WARNING:tensorflow:Can save best model only with val_loss available, skipping.\n"
     ]
    },
    {
     "name": "stderr",
     "output_type": "stream",
     "text": [
      "WARNING:tensorflow:Can save best model only with val_loss available, skipping.\n"
     ]
    },
    {
     "name": "stdout",
     "output_type": "stream",
     "text": [
      "15/15 [==============================] - 8s 492ms/step - loss: 0.0107 - semantic_0_loss: 0.0020 - semantic_1_loss: 0.0073 - semantic_2_loss: 0.0014 - lr: 5.5827e-05\n",
      "Epoch 60/200\n",
      "15/15 [==============================] - ETA: 0s - loss: 0.0109 - semantic_0_loss: 0.0020 - semantic_1_loss: 0.0075 - semantic_2_loss: 0.0014WARNING:tensorflow:Can save best model only with val_loss available, skipping.\n"
     ]
    },
    {
     "name": "stderr",
     "output_type": "stream",
     "text": [
      "WARNING:tensorflow:Can save best model only with val_loss available, skipping.\n"
     ]
    },
    {
     "name": "stdout",
     "output_type": "stream",
     "text": [
      "15/15 [==============================] - 7s 484ms/step - loss: 0.0109 - semantic_0_loss: 0.0020 - semantic_1_loss: 0.0075 - semantic_2_loss: 0.0014 - lr: 5.5268e-05\n",
      "Epoch 61/200\n",
      "15/15 [==============================] - ETA: 0s - loss: 0.0106 - semantic_0_loss: 0.0020 - semantic_1_loss: 0.0072 - semantic_2_loss: 0.0014WARNING:tensorflow:Can save best model only with val_loss available, skipping.\n"
     ]
    },
    {
     "name": "stderr",
     "output_type": "stream",
     "text": [
      "WARNING:tensorflow:Can save best model only with val_loss available, skipping.\n"
     ]
    },
    {
     "name": "stdout",
     "output_type": "stream",
     "text": [
      "15/15 [==============================] - 7s 477ms/step - loss: 0.0106 - semantic_0_loss: 0.0020 - semantic_1_loss: 0.0072 - semantic_2_loss: 0.0014 - lr: 5.4716e-05\n",
      "Epoch 62/200\n",
      "15/15 [==============================] - ETA: 0s - loss: 0.0109 - semantic_0_loss: 0.0021 - semantic_1_loss: 0.0074 - semantic_2_loss: 0.0014WARNING:tensorflow:Can save best model only with val_loss available, skipping.\n"
     ]
    },
    {
     "name": "stderr",
     "output_type": "stream",
     "text": [
      "WARNING:tensorflow:Can save best model only with val_loss available, skipping.\n"
     ]
    },
    {
     "name": "stdout",
     "output_type": "stream",
     "text": [
      "15/15 [==============================] - 7s 473ms/step - loss: 0.0109 - semantic_0_loss: 0.0021 - semantic_1_loss: 0.0074 - semantic_2_loss: 0.0014 - lr: 5.4169e-05\n",
      "Epoch 63/200\n",
      "15/15 [==============================] - ETA: 0s - loss: 0.0101 - semantic_0_loss: 0.0019 - semantic_1_loss: 0.0069 - semantic_2_loss: 0.0014WARNING:tensorflow:Can save best model only with val_loss available, skipping.\n"
     ]
    },
    {
     "name": "stderr",
     "output_type": "stream",
     "text": [
      "WARNING:tensorflow:Can save best model only with val_loss available, skipping.\n"
     ]
    },
    {
     "name": "stdout",
     "output_type": "stream",
     "text": [
      "15/15 [==============================] - 7s 480ms/step - loss: 0.0101 - semantic_0_loss: 0.0019 - semantic_1_loss: 0.0069 - semantic_2_loss: 0.0014 - lr: 5.3627e-05\n",
      "Epoch 64/200\n",
      "15/15 [==============================] - ETA: 0s - loss: 0.0104 - semantic_0_loss: 0.0019 - semantic_1_loss: 0.0071 - semantic_2_loss: 0.0014WARNING:tensorflow:Can save best model only with val_loss available, skipping.\n"
     ]
    },
    {
     "name": "stderr",
     "output_type": "stream",
     "text": [
      "WARNING:tensorflow:Can save best model only with val_loss available, skipping.\n"
     ]
    },
    {
     "name": "stdout",
     "output_type": "stream",
     "text": [
      "15/15 [==============================] - 7s 481ms/step - loss: 0.0104 - semantic_0_loss: 0.0019 - semantic_1_loss: 0.0071 - semantic_2_loss: 0.0014 - lr: 5.3091e-05\n",
      "Epoch 65/200\n",
      "15/15 [==============================] - ETA: 0s - loss: 0.0102 - semantic_0_loss: 0.0019 - semantic_1_loss: 0.0069 - semantic_2_loss: 0.0014WARNING:tensorflow:Can save best model only with val_loss available, skipping.\n"
     ]
    },
    {
     "name": "stderr",
     "output_type": "stream",
     "text": [
      "WARNING:tensorflow:Can save best model only with val_loss available, skipping.\n"
     ]
    },
    {
     "name": "stdout",
     "output_type": "stream",
     "text": [
      "15/15 [==============================] - 7s 482ms/step - loss: 0.0102 - semantic_0_loss: 0.0019 - semantic_1_loss: 0.0069 - semantic_2_loss: 0.0014 - lr: 5.2560e-05\n",
      "Epoch 66/200\n",
      "15/15 [==============================] - ETA: 0s - loss: 0.0104 - semantic_0_loss: 0.0019 - semantic_1_loss: 0.0071 - semantic_2_loss: 0.0014WARNING:tensorflow:Can save best model only with val_loss available, skipping.\n"
     ]
    },
    {
     "name": "stderr",
     "output_type": "stream",
     "text": [
      "WARNING:tensorflow:Can save best model only with val_loss available, skipping.\n"
     ]
    },
    {
     "name": "stdout",
     "output_type": "stream",
     "text": [
      "15/15 [==============================] - 7s 476ms/step - loss: 0.0104 - semantic_0_loss: 0.0019 - semantic_1_loss: 0.0071 - semantic_2_loss: 0.0014 - lr: 5.2034e-05\n",
      "Epoch 67/200\n",
      "15/15 [==============================] - ETA: 0s - loss: 0.0109 - semantic_0_loss: 0.0020 - semantic_1_loss: 0.0074 - semantic_2_loss: 0.0014WARNING:tensorflow:Can save best model only with val_loss available, skipping.\n"
     ]
    },
    {
     "name": "stderr",
     "output_type": "stream",
     "text": [
      "WARNING:tensorflow:Can save best model only with val_loss available, skipping.\n"
     ]
    },
    {
     "name": "stdout",
     "output_type": "stream",
     "text": [
      "15/15 [==============================] - 7s 474ms/step - loss: 0.0109 - semantic_0_loss: 0.0020 - semantic_1_loss: 0.0074 - semantic_2_loss: 0.0014 - lr: 5.1514e-05\n",
      "Epoch 68/200\n",
      "15/15 [==============================] - ETA: 0s - loss: 0.0107 - semantic_0_loss: 0.0021 - semantic_1_loss: 0.0072 - semantic_2_loss: 0.0014WARNING:tensorflow:Can save best model only with val_loss available, skipping.\n"
     ]
    },
    {
     "name": "stderr",
     "output_type": "stream",
     "text": [
      "WARNING:tensorflow:Can save best model only with val_loss available, skipping.\n"
     ]
    },
    {
     "name": "stdout",
     "output_type": "stream",
     "text": [
      "15/15 [==============================] - 8s 488ms/step - loss: 0.0107 - semantic_0_loss: 0.0021 - semantic_1_loss: 0.0072 - semantic_2_loss: 0.0014 - lr: 5.0999e-05\n",
      "Epoch 69/200\n",
      "15/15 [==============================] - ETA: 0s - loss: 0.0102 - semantic_0_loss: 0.0020 - semantic_1_loss: 0.0069 - semantic_2_loss: 0.0014WARNING:tensorflow:Can save best model only with val_loss available, skipping.\n"
     ]
    },
    {
     "name": "stderr",
     "output_type": "stream",
     "text": [
      "WARNING:tensorflow:Can save best model only with val_loss available, skipping.\n"
     ]
    },
    {
     "name": "stdout",
     "output_type": "stream",
     "text": [
      "15/15 [==============================] - 7s 476ms/step - loss: 0.0102 - semantic_0_loss: 0.0020 - semantic_1_loss: 0.0069 - semantic_2_loss: 0.0014 - lr: 5.0489e-05\n",
      "Epoch 70/200\n",
      "15/15 [==============================] - ETA: 0s - loss: 0.0107 - semantic_0_loss: 0.0020 - semantic_1_loss: 0.0073 - semantic_2_loss: 0.0014WARNING:tensorflow:Can save best model only with val_loss available, skipping.\n"
     ]
    },
    {
     "name": "stderr",
     "output_type": "stream",
     "text": [
      "WARNING:tensorflow:Can save best model only with val_loss available, skipping.\n"
     ]
    },
    {
     "name": "stdout",
     "output_type": "stream",
     "text": [
      "15/15 [==============================] - 7s 480ms/step - loss: 0.0107 - semantic_0_loss: 0.0020 - semantic_1_loss: 0.0073 - semantic_2_loss: 0.0014 - lr: 4.9984e-05\n",
      "Epoch 71/200\n",
      "15/15 [==============================] - ETA: 0s - loss: 0.0102 - semantic_0_loss: 0.0019 - semantic_1_loss: 0.0069 - semantic_2_loss: 0.0014WARNING:tensorflow:Can save best model only with val_loss available, skipping.\n"
     ]
    },
    {
     "name": "stderr",
     "output_type": "stream",
     "text": [
      "WARNING:tensorflow:Can save best model only with val_loss available, skipping.\n"
     ]
    },
    {
     "name": "stdout",
     "output_type": "stream",
     "text": [
      "15/15 [==============================] - 7s 475ms/step - loss: 0.0102 - semantic_0_loss: 0.0019 - semantic_1_loss: 0.0069 - semantic_2_loss: 0.0014 - lr: 4.9484e-05\n",
      "Epoch 72/200\n",
      "15/15 [==============================] - ETA: 0s - loss: 0.0103 - semantic_0_loss: 0.0020 - semantic_1_loss: 0.0070 - semantic_2_loss: 0.0014WARNING:tensorflow:Can save best model only with val_loss available, skipping.\n"
     ]
    },
    {
     "name": "stderr",
     "output_type": "stream",
     "text": [
      "WARNING:tensorflow:Can save best model only with val_loss available, skipping.\n"
     ]
    },
    {
     "name": "stdout",
     "output_type": "stream",
     "text": [
      "15/15 [==============================] - 7s 478ms/step - loss: 0.0103 - semantic_0_loss: 0.0020 - semantic_1_loss: 0.0070 - semantic_2_loss: 0.0014 - lr: 4.8989e-05\n",
      "Epoch 73/200\n",
      "15/15 [==============================] - ETA: 0s - loss: 0.0103 - semantic_0_loss: 0.0020 - semantic_1_loss: 0.0070 - semantic_2_loss: 0.0014WARNING:tensorflow:Can save best model only with val_loss available, skipping.\n"
     ]
    },
    {
     "name": "stderr",
     "output_type": "stream",
     "text": [
      "WARNING:tensorflow:Can save best model only with val_loss available, skipping.\n"
     ]
    },
    {
     "name": "stdout",
     "output_type": "stream",
     "text": [
      "15/15 [==============================] - 7s 477ms/step - loss: 0.0103 - semantic_0_loss: 0.0020 - semantic_1_loss: 0.0070 - semantic_2_loss: 0.0014 - lr: 4.8499e-05\n",
      "Epoch 74/200\n",
      "15/15 [==============================] - ETA: 0s - loss: 0.0102 - semantic_0_loss: 0.0019 - semantic_1_loss: 0.0069 - semantic_2_loss: 0.0014WARNING:tensorflow:Can save best model only with val_loss available, skipping.\n"
     ]
    },
    {
     "name": "stderr",
     "output_type": "stream",
     "text": [
      "WARNING:tensorflow:Can save best model only with val_loss available, skipping.\n"
     ]
    },
    {
     "name": "stdout",
     "output_type": "stream",
     "text": [
      "15/15 [==============================] - 7s 475ms/step - loss: 0.0102 - semantic_0_loss: 0.0019 - semantic_1_loss: 0.0069 - semantic_2_loss: 0.0014 - lr: 4.8014e-05\n",
      "Epoch 75/200\n",
      "15/15 [==============================] - ETA: 0s - loss: 0.0103 - semantic_0_loss: 0.0020 - semantic_1_loss: 0.0069 - semantic_2_loss: 0.0014WARNING:tensorflow:Can save best model only with val_loss available, skipping.\n"
     ]
    },
    {
     "name": "stderr",
     "output_type": "stream",
     "text": [
      "WARNING:tensorflow:Can save best model only with val_loss available, skipping.\n"
     ]
    },
    {
     "name": "stdout",
     "output_type": "stream",
     "text": [
      "15/15 [==============================] - 8s 486ms/step - loss: 0.0103 - semantic_0_loss: 0.0020 - semantic_1_loss: 0.0069 - semantic_2_loss: 0.0014 - lr: 4.7534e-05\n",
      "Epoch 76/200\n",
      "15/15 [==============================] - ETA: 0s - loss: 0.0100 - semantic_0_loss: 0.0019 - semantic_1_loss: 0.0067 - semantic_2_loss: 0.0014WARNING:tensorflow:Can save best model only with val_loss available, skipping.\n"
     ]
    },
    {
     "name": "stderr",
     "output_type": "stream",
     "text": [
      "WARNING:tensorflow:Can save best model only with val_loss available, skipping.\n"
     ]
    },
    {
     "name": "stdout",
     "output_type": "stream",
     "text": [
      "15/15 [==============================] - 7s 478ms/step - loss: 0.0100 - semantic_0_loss: 0.0019 - semantic_1_loss: 0.0067 - semantic_2_loss: 0.0014 - lr: 4.7059e-05\n",
      "Epoch 77/200\n",
      "15/15 [==============================] - ETA: 0s - loss: 0.0097 - semantic_0_loss: 0.0018 - semantic_1_loss: 0.0065 - semantic_2_loss: 0.0013WARNING:tensorflow:Can save best model only with val_loss available, skipping.\n"
     ]
    },
    {
     "name": "stderr",
     "output_type": "stream",
     "text": [
      "WARNING:tensorflow:Can save best model only with val_loss available, skipping.\n"
     ]
    },
    {
     "name": "stdout",
     "output_type": "stream",
     "text": [
      "15/15 [==============================] - 7s 486ms/step - loss: 0.0097 - semantic_0_loss: 0.0018 - semantic_1_loss: 0.0065 - semantic_2_loss: 0.0013 - lr: 4.6588e-05\n",
      "Epoch 78/200\n",
      "15/15 [==============================] - ETA: 0s - loss: 0.0099 - semantic_0_loss: 0.0019 - semantic_1_loss: 0.0066 - semantic_2_loss: 0.0013WARNING:tensorflow:Can save best model only with val_loss available, skipping.\n"
     ]
    },
    {
     "name": "stderr",
     "output_type": "stream",
     "text": [
      "WARNING:tensorflow:Can save best model only with val_loss available, skipping.\n"
     ]
    },
    {
     "name": "stdout",
     "output_type": "stream",
     "text": [
      "15/15 [==============================] - 7s 482ms/step - loss: 0.0099 - semantic_0_loss: 0.0019 - semantic_1_loss: 0.0066 - semantic_2_loss: 0.0013 - lr: 4.6122e-05\n",
      "Epoch 79/200\n",
      "15/15 [==============================] - ETA: 0s - loss: 0.0105 - semantic_0_loss: 0.0020 - semantic_1_loss: 0.0071 - semantic_2_loss: 0.0014WARNING:tensorflow:Can save best model only with val_loss available, skipping.\n"
     ]
    },
    {
     "name": "stderr",
     "output_type": "stream",
     "text": [
      "WARNING:tensorflow:Can save best model only with val_loss available, skipping.\n"
     ]
    },
    {
     "name": "stdout",
     "output_type": "stream",
     "text": [
      "15/15 [==============================] - 8s 487ms/step - loss: 0.0105 - semantic_0_loss: 0.0020 - semantic_1_loss: 0.0071 - semantic_2_loss: 0.0014 - lr: 4.5661e-05\n",
      "Epoch 80/200\n",
      "15/15 [==============================] - ETA: 0s - loss: 0.0106 - semantic_0_loss: 0.0020 - semantic_1_loss: 0.0072 - semantic_2_loss: 0.0014WARNING:tensorflow:Can save best model only with val_loss available, skipping.\n"
     ]
    },
    {
     "name": "stderr",
     "output_type": "stream",
     "text": [
      "WARNING:tensorflow:Can save best model only with val_loss available, skipping.\n"
     ]
    },
    {
     "name": "stdout",
     "output_type": "stream",
     "text": [
      "15/15 [==============================] - 7s 478ms/step - loss: 0.0106 - semantic_0_loss: 0.0020 - semantic_1_loss: 0.0072 - semantic_2_loss: 0.0014 - lr: 4.5204e-05\n",
      "Epoch 81/200\n",
      "15/15 [==============================] - ETA: 0s - loss: 0.0101 - semantic_0_loss: 0.0019 - semantic_1_loss: 0.0068 - semantic_2_loss: 0.0013WARNING:tensorflow:Can save best model only with val_loss available, skipping.\n"
     ]
    },
    {
     "name": "stderr",
     "output_type": "stream",
     "text": [
      "WARNING:tensorflow:Can save best model only with val_loss available, skipping.\n"
     ]
    },
    {
     "name": "stdout",
     "output_type": "stream",
     "text": [
      "15/15 [==============================] - 7s 484ms/step - loss: 0.0101 - semantic_0_loss: 0.0019 - semantic_1_loss: 0.0068 - semantic_2_loss: 0.0013 - lr: 4.4752e-05\n",
      "Epoch 82/200\n",
      "15/15 [==============================] - ETA: 0s - loss: 0.0100 - semantic_0_loss: 0.0019 - semantic_1_loss: 0.0068 - semantic_2_loss: 0.0013WARNING:tensorflow:Can save best model only with val_loss available, skipping.\n"
     ]
    },
    {
     "name": "stderr",
     "output_type": "stream",
     "text": [
      "WARNING:tensorflow:Can save best model only with val_loss available, skipping.\n"
     ]
    },
    {
     "name": "stdout",
     "output_type": "stream",
     "text": [
      "15/15 [==============================] - 7s 482ms/step - loss: 0.0100 - semantic_0_loss: 0.0019 - semantic_1_loss: 0.0068 - semantic_2_loss: 0.0013 - lr: 4.4305e-05\n",
      "Epoch 83/200\n",
      "15/15 [==============================] - ETA: 0s - loss: 0.0100 - semantic_0_loss: 0.0020 - semantic_1_loss: 0.0067 - semantic_2_loss: 0.0013WARNING:tensorflow:Can save best model only with val_loss available, skipping.\n"
     ]
    },
    {
     "name": "stderr",
     "output_type": "stream",
     "text": [
      "WARNING:tensorflow:Can save best model only with val_loss available, skipping.\n"
     ]
    },
    {
     "name": "stdout",
     "output_type": "stream",
     "text": [
      "15/15 [==============================] - 7s 473ms/step - loss: 0.0100 - semantic_0_loss: 0.0020 - semantic_1_loss: 0.0067 - semantic_2_loss: 0.0013 - lr: 4.3862e-05\n",
      "Epoch 84/200\n",
      "15/15 [==============================] - ETA: 0s - loss: 0.0103 - semantic_0_loss: 0.0020 - semantic_1_loss: 0.0069 - semantic_2_loss: 0.0013WARNING:tensorflow:Can save best model only with val_loss available, skipping.\n"
     ]
    },
    {
     "name": "stderr",
     "output_type": "stream",
     "text": [
      "WARNING:tensorflow:Can save best model only with val_loss available, skipping.\n"
     ]
    },
    {
     "name": "stdout",
     "output_type": "stream",
     "text": [
      "15/15 [==============================] - 7s 486ms/step - loss: 0.0103 - semantic_0_loss: 0.0020 - semantic_1_loss: 0.0069 - semantic_2_loss: 0.0013 - lr: 4.3423e-05\n",
      "Epoch 85/200\n",
      "15/15 [==============================] - ETA: 0s - loss: 0.0098 - semantic_0_loss: 0.0019 - semantic_1_loss: 0.0066 - semantic_2_loss: 0.0013WARNING:tensorflow:Can save best model only with val_loss available, skipping.\n"
     ]
    },
    {
     "name": "stderr",
     "output_type": "stream",
     "text": [
      "WARNING:tensorflow:Can save best model only with val_loss available, skipping.\n"
     ]
    },
    {
     "name": "stdout",
     "output_type": "stream",
     "text": [
      "15/15 [==============================] - 8s 487ms/step - loss: 0.0098 - semantic_0_loss: 0.0019 - semantic_1_loss: 0.0066 - semantic_2_loss: 0.0013 - lr: 4.2989e-05\n",
      "Epoch 86/200\n",
      "15/15 [==============================] - ETA: 0s - loss: 0.0095 - semantic_0_loss: 0.0019 - semantic_1_loss: 0.0064 - semantic_2_loss: 0.0013WARNING:tensorflow:Can save best model only with val_loss available, skipping.\n"
     ]
    },
    {
     "name": "stderr",
     "output_type": "stream",
     "text": [
      "WARNING:tensorflow:Can save best model only with val_loss available, skipping.\n"
     ]
    },
    {
     "name": "stdout",
     "output_type": "stream",
     "text": [
      "15/15 [==============================] - 7s 477ms/step - loss: 0.0095 - semantic_0_loss: 0.0019 - semantic_1_loss: 0.0064 - semantic_2_loss: 0.0013 - lr: 4.2559e-05\n",
      "Epoch 87/200\n",
      "15/15 [==============================] - ETA: 0s - loss: 0.0096 - semantic_0_loss: 0.0019 - semantic_1_loss: 0.0065 - semantic_2_loss: 0.0013WARNING:tensorflow:Can save best model only with val_loss available, skipping.\n"
     ]
    },
    {
     "name": "stderr",
     "output_type": "stream",
     "text": [
      "WARNING:tensorflow:Can save best model only with val_loss available, skipping.\n"
     ]
    },
    {
     "name": "stdout",
     "output_type": "stream",
     "text": [
      "15/15 [==============================] - 7s 478ms/step - loss: 0.0096 - semantic_0_loss: 0.0019 - semantic_1_loss: 0.0065 - semantic_2_loss: 0.0013 - lr: 4.2133e-05\n",
      "Epoch 88/200\n",
      "15/15 [==============================] - ETA: 0s - loss: 0.0097 - semantic_0_loss: 0.0019 - semantic_1_loss: 0.0065 - semantic_2_loss: 0.0013WARNING:tensorflow:Can save best model only with val_loss available, skipping.\n"
     ]
    },
    {
     "name": "stderr",
     "output_type": "stream",
     "text": [
      "WARNING:tensorflow:Can save best model only with val_loss available, skipping.\n"
     ]
    },
    {
     "name": "stdout",
     "output_type": "stream",
     "text": [
      "15/15 [==============================] - 7s 474ms/step - loss: 0.0097 - semantic_0_loss: 0.0019 - semantic_1_loss: 0.0065 - semantic_2_loss: 0.0013 - lr: 4.1712e-05\n",
      "Epoch 89/200\n",
      "15/15 [==============================] - ETA: 0s - loss: 0.0099 - semantic_0_loss: 0.0019 - semantic_1_loss: 0.0067 - semantic_2_loss: 0.0013WARNING:tensorflow:Can save best model only with val_loss available, skipping.\n"
     ]
    },
    {
     "name": "stderr",
     "output_type": "stream",
     "text": [
      "WARNING:tensorflow:Can save best model only with val_loss available, skipping.\n"
     ]
    },
    {
     "name": "stdout",
     "output_type": "stream",
     "text": [
      "15/15 [==============================] - 7s 474ms/step - loss: 0.0099 - semantic_0_loss: 0.0019 - semantic_1_loss: 0.0067 - semantic_2_loss: 0.0013 - lr: 4.1295e-05\n",
      "Epoch 90/200\n",
      "15/15 [==============================] - ETA: 0s - loss: 0.0104 - semantic_0_loss: 0.0021 - semantic_1_loss: 0.0070 - semantic_2_loss: 0.0014WARNING:tensorflow:Can save best model only with val_loss available, skipping.\n"
     ]
    },
    {
     "name": "stderr",
     "output_type": "stream",
     "text": [
      "WARNING:tensorflow:Can save best model only with val_loss available, skipping.\n"
     ]
    },
    {
     "name": "stdout",
     "output_type": "stream",
     "text": [
      "15/15 [==============================] - 7s 482ms/step - loss: 0.0104 - semantic_0_loss: 0.0021 - semantic_1_loss: 0.0070 - semantic_2_loss: 0.0014 - lr: 4.0882e-05\n",
      "Epoch 91/200\n",
      "15/15 [==============================] - ETA: 0s - loss: 0.0106 - semantic_0_loss: 0.0021 - semantic_1_loss: 0.0071 - semantic_2_loss: 0.0014WARNING:tensorflow:Can save best model only with val_loss available, skipping.\n"
     ]
    },
    {
     "name": "stderr",
     "output_type": "stream",
     "text": [
      "WARNING:tensorflow:Can save best model only with val_loss available, skipping.\n"
     ]
    },
    {
     "name": "stdout",
     "output_type": "stream",
     "text": [
      "15/15 [==============================] - 8s 488ms/step - loss: 0.0106 - semantic_0_loss: 0.0021 - semantic_1_loss: 0.0071 - semantic_2_loss: 0.0014 - lr: 4.0473e-05\n",
      "Epoch 92/200\n",
      "15/15 [==============================] - ETA: 0s - loss: 0.0100 - semantic_0_loss: 0.0019 - semantic_1_loss: 0.0067 - semantic_2_loss: 0.0013WARNING:tensorflow:Can save best model only with val_loss available, skipping.\n"
     ]
    },
    {
     "name": "stderr",
     "output_type": "stream",
     "text": [
      "WARNING:tensorflow:Can save best model only with val_loss available, skipping.\n"
     ]
    },
    {
     "name": "stdout",
     "output_type": "stream",
     "text": [
      "15/15 [==============================] - 7s 479ms/step - loss: 0.0100 - semantic_0_loss: 0.0019 - semantic_1_loss: 0.0067 - semantic_2_loss: 0.0013 - lr: 4.0068e-05\n",
      "Epoch 93/200\n",
      "15/15 [==============================] - ETA: 0s - loss: 0.0097 - semantic_0_loss: 0.0019 - semantic_1_loss: 0.0064 - semantic_2_loss: 0.0013WARNING:tensorflow:Can save best model only with val_loss available, skipping.\n"
     ]
    },
    {
     "name": "stderr",
     "output_type": "stream",
     "text": [
      "WARNING:tensorflow:Can save best model only with val_loss available, skipping.\n"
     ]
    },
    {
     "name": "stdout",
     "output_type": "stream",
     "text": [
      "15/15 [==============================] - 7s 470ms/step - loss: 0.0097 - semantic_0_loss: 0.0019 - semantic_1_loss: 0.0064 - semantic_2_loss: 0.0013 - lr: 3.9668e-05\n",
      "Epoch 94/200\n",
      "15/15 [==============================] - ETA: 0s - loss: 0.0095 - semantic_0_loss: 0.0019 - semantic_1_loss: 0.0064 - semantic_2_loss: 0.0013WARNING:tensorflow:Can save best model only with val_loss available, skipping.\n"
     ]
    },
    {
     "name": "stderr",
     "output_type": "stream",
     "text": [
      "WARNING:tensorflow:Can save best model only with val_loss available, skipping.\n"
     ]
    },
    {
     "name": "stdout",
     "output_type": "stream",
     "text": [
      "15/15 [==============================] - 7s 480ms/step - loss: 0.0095 - semantic_0_loss: 0.0019 - semantic_1_loss: 0.0064 - semantic_2_loss: 0.0013 - lr: 3.9271e-05\n",
      "Epoch 95/200\n",
      "15/15 [==============================] - ETA: 0s - loss: 0.0099 - semantic_0_loss: 0.0020 - semantic_1_loss: 0.0066 - semantic_2_loss: 0.0013WARNING:tensorflow:Can save best model only with val_loss available, skipping.\n"
     ]
    },
    {
     "name": "stderr",
     "output_type": "stream",
     "text": [
      "WARNING:tensorflow:Can save best model only with val_loss available, skipping.\n"
     ]
    },
    {
     "name": "stdout",
     "output_type": "stream",
     "text": [
      "15/15 [==============================] - 7s 480ms/step - loss: 0.0099 - semantic_0_loss: 0.0020 - semantic_1_loss: 0.0066 - semantic_2_loss: 0.0013 - lr: 3.8878e-05\n",
      "Epoch 96/200\n",
      "15/15 [==============================] - ETA: 0s - loss: 0.0100 - semantic_0_loss: 0.0019 - semantic_1_loss: 0.0067 - semantic_2_loss: 0.0013WARNING:tensorflow:Can save best model only with val_loss available, skipping.\n"
     ]
    },
    {
     "name": "stderr",
     "output_type": "stream",
     "text": [
      "WARNING:tensorflow:Can save best model only with val_loss available, skipping.\n"
     ]
    },
    {
     "name": "stdout",
     "output_type": "stream",
     "text": [
      "15/15 [==============================] - 7s 484ms/step - loss: 0.0100 - semantic_0_loss: 0.0019 - semantic_1_loss: 0.0067 - semantic_2_loss: 0.0013 - lr: 3.8490e-05\n",
      "Epoch 97/200\n",
      "15/15 [==============================] - ETA: 0s - loss: 0.0098 - semantic_0_loss: 0.0019 - semantic_1_loss: 0.0066 - semantic_2_loss: 0.0013WARNING:tensorflow:Can save best model only with val_loss available, skipping.\n"
     ]
    },
    {
     "name": "stderr",
     "output_type": "stream",
     "text": [
      "WARNING:tensorflow:Can save best model only with val_loss available, skipping.\n"
     ]
    },
    {
     "name": "stdout",
     "output_type": "stream",
     "text": [
      "15/15 [==============================] - 7s 480ms/step - loss: 0.0098 - semantic_0_loss: 0.0019 - semantic_1_loss: 0.0066 - semantic_2_loss: 0.0013 - lr: 3.8105e-05\n",
      "Epoch 98/200\n",
      "15/15 [==============================] - ETA: 0s - loss: 0.0100 - semantic_0_loss: 0.0020 - semantic_1_loss: 0.0067 - semantic_2_loss: 0.0014WARNING:tensorflow:Can save best model only with val_loss available, skipping.\n"
     ]
    },
    {
     "name": "stderr",
     "output_type": "stream",
     "text": [
      "WARNING:tensorflow:Can save best model only with val_loss available, skipping.\n"
     ]
    },
    {
     "name": "stdout",
     "output_type": "stream",
     "text": [
      "15/15 [==============================] - 7s 480ms/step - loss: 0.0100 - semantic_0_loss: 0.0020 - semantic_1_loss: 0.0067 - semantic_2_loss: 0.0014 - lr: 3.7724e-05\n",
      "Epoch 99/200\n",
      "15/15 [==============================] - ETA: 0s - loss: 0.0100 - semantic_0_loss: 0.0020 - semantic_1_loss: 0.0067 - semantic_2_loss: 0.0013WARNING:tensorflow:Can save best model only with val_loss available, skipping.\n"
     ]
    },
    {
     "name": "stderr",
     "output_type": "stream",
     "text": [
      "WARNING:tensorflow:Can save best model only with val_loss available, skipping.\n"
     ]
    },
    {
     "name": "stdout",
     "output_type": "stream",
     "text": [
      "15/15 [==============================] - 8s 487ms/step - loss: 0.0100 - semantic_0_loss: 0.0020 - semantic_1_loss: 0.0067 - semantic_2_loss: 0.0013 - lr: 3.7346e-05\n",
      "Epoch 100/200\n",
      "15/15 [==============================] - ETA: 0s - loss: 0.0098 - semantic_0_loss: 0.0019 - semantic_1_loss: 0.0065 - semantic_2_loss: 0.0013WARNING:tensorflow:Can save best model only with val_loss available, skipping.\n"
     ]
    },
    {
     "name": "stderr",
     "output_type": "stream",
     "text": [
      "WARNING:tensorflow:Can save best model only with val_loss available, skipping.\n"
     ]
    },
    {
     "name": "stdout",
     "output_type": "stream",
     "text": [
      "15/15 [==============================] - 7s 473ms/step - loss: 0.0098 - semantic_0_loss: 0.0019 - semantic_1_loss: 0.0065 - semantic_2_loss: 0.0013 - lr: 3.6973e-05\n",
      "Epoch 101/200\n",
      "15/15 [==============================] - ETA: 0s - loss: 0.0098 - semantic_0_loss: 0.0019 - semantic_1_loss: 0.0066 - semantic_2_loss: 0.0013WARNING:tensorflow:Can save best model only with val_loss available, skipping.\n"
     ]
    },
    {
     "name": "stderr",
     "output_type": "stream",
     "text": [
      "WARNING:tensorflow:Can save best model only with val_loss available, skipping.\n"
     ]
    },
    {
     "name": "stdout",
     "output_type": "stream",
     "text": [
      "15/15 [==============================] - 7s 482ms/step - loss: 0.0098 - semantic_0_loss: 0.0019 - semantic_1_loss: 0.0066 - semantic_2_loss: 0.0013 - lr: 3.6603e-05\n",
      "Epoch 102/200\n",
      "15/15 [==============================] - ETA: 0s - loss: 0.0098 - semantic_0_loss: 0.0020 - semantic_1_loss: 0.0065 - semantic_2_loss: 0.0013WARNING:tensorflow:Can save best model only with val_loss available, skipping.\n"
     ]
    },
    {
     "name": "stderr",
     "output_type": "stream",
     "text": [
      "WARNING:tensorflow:Can save best model only with val_loss available, skipping.\n"
     ]
    },
    {
     "name": "stdout",
     "output_type": "stream",
     "text": [
      "15/15 [==============================] - 8s 488ms/step - loss: 0.0098 - semantic_0_loss: 0.0020 - semantic_1_loss: 0.0065 - semantic_2_loss: 0.0013 - lr: 3.6237e-05\n",
      "Epoch 103/200\n",
      "15/15 [==============================] - ETA: 0s - loss: 0.0091 - semantic_0_loss: 0.0018 - semantic_1_loss: 0.0060 - semantic_2_loss: 0.0013WARNING:tensorflow:Can save best model only with val_loss available, skipping.\n"
     ]
    },
    {
     "name": "stderr",
     "output_type": "stream",
     "text": [
      "WARNING:tensorflow:Can save best model only with val_loss available, skipping.\n"
     ]
    },
    {
     "name": "stdout",
     "output_type": "stream",
     "text": [
      "15/15 [==============================] - 7s 478ms/step - loss: 0.0091 - semantic_0_loss: 0.0018 - semantic_1_loss: 0.0060 - semantic_2_loss: 0.0013 - lr: 3.5875e-05\n",
      "Epoch 104/200\n",
      "15/15 [==============================] - ETA: 0s - loss: 0.0096 - semantic_0_loss: 0.0019 - semantic_1_loss: 0.0064 - semantic_2_loss: 0.0013WARNING:tensorflow:Can save best model only with val_loss available, skipping.\n"
     ]
    },
    {
     "name": "stderr",
     "output_type": "stream",
     "text": [
      "WARNING:tensorflow:Can save best model only with val_loss available, skipping.\n"
     ]
    },
    {
     "name": "stdout",
     "output_type": "stream",
     "text": [
      "15/15 [==============================] - 8s 490ms/step - loss: 0.0096 - semantic_0_loss: 0.0019 - semantic_1_loss: 0.0064 - semantic_2_loss: 0.0013 - lr: 3.5516e-05\n",
      "Epoch 105/200\n",
      "15/15 [==============================] - ETA: 0s - loss: 0.0099 - semantic_0_loss: 0.0020 - semantic_1_loss: 0.0066 - semantic_2_loss: 0.0013WARNING:tensorflow:Can save best model only with val_loss available, skipping.\n"
     ]
    },
    {
     "name": "stderr",
     "output_type": "stream",
     "text": [
      "WARNING:tensorflow:Can save best model only with val_loss available, skipping.\n"
     ]
    },
    {
     "name": "stdout",
     "output_type": "stream",
     "text": [
      "15/15 [==============================] - 7s 483ms/step - loss: 0.0099 - semantic_0_loss: 0.0020 - semantic_1_loss: 0.0066 - semantic_2_loss: 0.0013 - lr: 3.5161e-05\n",
      "Epoch 106/200\n",
      "15/15 [==============================] - ETA: 0s - loss: 0.0096 - semantic_0_loss: 0.0019 - semantic_1_loss: 0.0064 - semantic_2_loss: 0.0013WARNING:tensorflow:Can save best model only with val_loss available, skipping.\n"
     ]
    },
    {
     "name": "stderr",
     "output_type": "stream",
     "text": [
      "WARNING:tensorflow:Can save best model only with val_loss available, skipping.\n"
     ]
    },
    {
     "name": "stdout",
     "output_type": "stream",
     "text": [
      "15/15 [==============================] - 7s 485ms/step - loss: 0.0096 - semantic_0_loss: 0.0019 - semantic_1_loss: 0.0064 - semantic_2_loss: 0.0013 - lr: 3.4809e-05\n",
      "Epoch 107/200\n",
      "15/15 [==============================] - ETA: 0s - loss: 0.0090 - semantic_0_loss: 0.0018 - semantic_1_loss: 0.0059 - semantic_2_loss: 0.0012WARNING:tensorflow:Can save best model only with val_loss available, skipping.\n"
     ]
    },
    {
     "name": "stderr",
     "output_type": "stream",
     "text": [
      "WARNING:tensorflow:Can save best model only with val_loss available, skipping.\n"
     ]
    },
    {
     "name": "stdout",
     "output_type": "stream",
     "text": [
      "15/15 [==============================] - 7s 478ms/step - loss: 0.0090 - semantic_0_loss: 0.0018 - semantic_1_loss: 0.0059 - semantic_2_loss: 0.0012 - lr: 3.4461e-05\n",
      "Epoch 108/200\n",
      "15/15 [==============================] - ETA: 0s - loss: 0.0094 - semantic_0_loss: 0.0018 - semantic_1_loss: 0.0062 - semantic_2_loss: 0.0013WARNING:tensorflow:Can save best model only with val_loss available, skipping.\n"
     ]
    },
    {
     "name": "stderr",
     "output_type": "stream",
     "text": [
      "WARNING:tensorflow:Can save best model only with val_loss available, skipping.\n"
     ]
    },
    {
     "name": "stdout",
     "output_type": "stream",
     "text": [
      "15/15 [==============================] - 8s 490ms/step - loss: 0.0094 - semantic_0_loss: 0.0018 - semantic_1_loss: 0.0062 - semantic_2_loss: 0.0013 - lr: 3.4117e-05\n",
      "Epoch 109/200\n",
      "15/15 [==============================] - ETA: 0s - loss: 0.0095 - semantic_0_loss: 0.0019 - semantic_1_loss: 0.0063 - semantic_2_loss: 0.0013WARNING:tensorflow:Can save best model only with val_loss available, skipping.\n"
     ]
    },
    {
     "name": "stderr",
     "output_type": "stream",
     "text": [
      "WARNING:tensorflow:Can save best model only with val_loss available, skipping.\n"
     ]
    },
    {
     "name": "stdout",
     "output_type": "stream",
     "text": [
      "15/15 [==============================] - 7s 477ms/step - loss: 0.0095 - semantic_0_loss: 0.0019 - semantic_1_loss: 0.0063 - semantic_2_loss: 0.0013 - lr: 3.3775e-05\n",
      "Epoch 110/200\n",
      "15/15 [==============================] - ETA: 0s - loss: 0.0098 - semantic_0_loss: 0.0020 - semantic_1_loss: 0.0065 - semantic_2_loss: 0.0013WARNING:tensorflow:Can save best model only with val_loss available, skipping.\n"
     ]
    },
    {
     "name": "stderr",
     "output_type": "stream",
     "text": [
      "WARNING:tensorflow:Can save best model only with val_loss available, skipping.\n"
     ]
    },
    {
     "name": "stdout",
     "output_type": "stream",
     "text": [
      "15/15 [==============================] - 7s 474ms/step - loss: 0.0098 - semantic_0_loss: 0.0020 - semantic_1_loss: 0.0065 - semantic_2_loss: 0.0013 - lr: 3.3438e-05\n",
      "Epoch 111/200\n",
      "15/15 [==============================] - ETA: 0s - loss: 0.0095 - semantic_0_loss: 0.0019 - semantic_1_loss: 0.0063 - semantic_2_loss: 0.0013WARNING:tensorflow:Can save best model only with val_loss available, skipping.\n"
     ]
    },
    {
     "name": "stderr",
     "output_type": "stream",
     "text": [
      "WARNING:tensorflow:Can save best model only with val_loss available, skipping.\n"
     ]
    },
    {
     "name": "stdout",
     "output_type": "stream",
     "text": [
      "15/15 [==============================] - 7s 478ms/step - loss: 0.0095 - semantic_0_loss: 0.0019 - semantic_1_loss: 0.0063 - semantic_2_loss: 0.0013 - lr: 3.3103e-05\n",
      "Epoch 112/200\n",
      "15/15 [==============================] - ETA: 0s - loss: 0.0091 - semantic_0_loss: 0.0018 - semantic_1_loss: 0.0060 - semantic_2_loss: 0.0012WARNING:tensorflow:Can save best model only with val_loss available, skipping.\n"
     ]
    },
    {
     "name": "stderr",
     "output_type": "stream",
     "text": [
      "WARNING:tensorflow:Can save best model only with val_loss available, skipping.\n"
     ]
    },
    {
     "name": "stdout",
     "output_type": "stream",
     "text": [
      "15/15 [==============================] - 7s 473ms/step - loss: 0.0091 - semantic_0_loss: 0.0018 - semantic_1_loss: 0.0060 - semantic_2_loss: 0.0012 - lr: 3.2772e-05\n",
      "Epoch 113/200\n",
      "15/15 [==============================] - ETA: 0s - loss: 0.0098 - semantic_0_loss: 0.0019 - semantic_1_loss: 0.0065 - semantic_2_loss: 0.0013WARNING:tensorflow:Can save best model only with val_loss available, skipping.\n"
     ]
    },
    {
     "name": "stderr",
     "output_type": "stream",
     "text": [
      "WARNING:tensorflow:Can save best model only with val_loss available, skipping.\n"
     ]
    },
    {
     "name": "stdout",
     "output_type": "stream",
     "text": [
      "15/15 [==============================] - 7s 482ms/step - loss: 0.0098 - semantic_0_loss: 0.0019 - semantic_1_loss: 0.0065 - semantic_2_loss: 0.0013 - lr: 3.2445e-05\n",
      "Epoch 114/200\n",
      "15/15 [==============================] - ETA: 0s - loss: 0.0095 - semantic_0_loss: 0.0019 - semantic_1_loss: 0.0063 - semantic_2_loss: 0.0013WARNING:tensorflow:Can save best model only with val_loss available, skipping.\n"
     ]
    },
    {
     "name": "stderr",
     "output_type": "stream",
     "text": [
      "WARNING:tensorflow:Can save best model only with val_loss available, skipping.\n"
     ]
    },
    {
     "name": "stdout",
     "output_type": "stream",
     "text": [
      "15/15 [==============================] - 7s 472ms/step - loss: 0.0095 - semantic_0_loss: 0.0019 - semantic_1_loss: 0.0063 - semantic_2_loss: 0.0013 - lr: 3.2120e-05\n",
      "Epoch 115/200\n",
      "15/15 [==============================] - ETA: 0s - loss: 0.0094 - semantic_0_loss: 0.0019 - semantic_1_loss: 0.0062 - semantic_2_loss: 0.0013WARNING:tensorflow:Can save best model only with val_loss available, skipping.\n"
     ]
    },
    {
     "name": "stderr",
     "output_type": "stream",
     "text": [
      "WARNING:tensorflow:Can save best model only with val_loss available, skipping.\n"
     ]
    },
    {
     "name": "stdout",
     "output_type": "stream",
     "text": [
      "15/15 [==============================] - 7s 482ms/step - loss: 0.0094 - semantic_0_loss: 0.0019 - semantic_1_loss: 0.0062 - semantic_2_loss: 0.0013 - lr: 3.1799e-05\n",
      "Epoch 116/200\n",
      "15/15 [==============================] - ETA: 0s - loss: 0.0093 - semantic_0_loss: 0.0019 - semantic_1_loss: 0.0061 - semantic_2_loss: 0.0013WARNING:tensorflow:Can save best model only with val_loss available, skipping.\n"
     ]
    },
    {
     "name": "stderr",
     "output_type": "stream",
     "text": [
      "WARNING:tensorflow:Can save best model only with val_loss available, skipping.\n"
     ]
    },
    {
     "name": "stdout",
     "output_type": "stream",
     "text": [
      "15/15 [==============================] - 7s 481ms/step - loss: 0.0093 - semantic_0_loss: 0.0019 - semantic_1_loss: 0.0061 - semantic_2_loss: 0.0013 - lr: 3.1481e-05\n",
      "Epoch 117/200\n",
      "15/15 [==============================] - ETA: 0s - loss: 0.0098 - semantic_0_loss: 0.0019 - semantic_1_loss: 0.0065 - semantic_2_loss: 0.0013WARNING:tensorflow:Can save best model only with val_loss available, skipping.\n"
     ]
    },
    {
     "name": "stderr",
     "output_type": "stream",
     "text": [
      "WARNING:tensorflow:Can save best model only with val_loss available, skipping.\n"
     ]
    },
    {
     "name": "stdout",
     "output_type": "stream",
     "text": [
      "15/15 [==============================] - 7s 480ms/step - loss: 0.0098 - semantic_0_loss: 0.0019 - semantic_1_loss: 0.0065 - semantic_2_loss: 0.0013 - lr: 3.1166e-05\n",
      "Epoch 118/200\n",
      "15/15 [==============================] - ETA: 0s - loss: 0.0096 - semantic_0_loss: 0.0019 - semantic_1_loss: 0.0064 - semantic_2_loss: 0.0013WARNING:tensorflow:Can save best model only with val_loss available, skipping.\n"
     ]
    },
    {
     "name": "stderr",
     "output_type": "stream",
     "text": [
      "WARNING:tensorflow:Can save best model only with val_loss available, skipping.\n"
     ]
    },
    {
     "name": "stdout",
     "output_type": "stream",
     "text": [
      "15/15 [==============================] - 7s 484ms/step - loss: 0.0096 - semantic_0_loss: 0.0019 - semantic_1_loss: 0.0064 - semantic_2_loss: 0.0013 - lr: 3.0854e-05\n",
      "Epoch 119/200\n",
      "15/15 [==============================] - ETA: 0s - loss: 0.0091 - semantic_0_loss: 0.0018 - semantic_1_loss: 0.0060 - semantic_2_loss: 0.0013WARNING:tensorflow:Can save best model only with val_loss available, skipping.\n"
     ]
    },
    {
     "name": "stderr",
     "output_type": "stream",
     "text": [
      "WARNING:tensorflow:Can save best model only with val_loss available, skipping.\n"
     ]
    },
    {
     "name": "stdout",
     "output_type": "stream",
     "text": [
      "15/15 [==============================] - 7s 476ms/step - loss: 0.0091 - semantic_0_loss: 0.0018 - semantic_1_loss: 0.0060 - semantic_2_loss: 0.0013 - lr: 3.0546e-05\n",
      "Epoch 120/200\n",
      "15/15 [==============================] - ETA: 0s - loss: 0.0094 - semantic_0_loss: 0.0019 - semantic_1_loss: 0.0062 - semantic_2_loss: 0.0013WARNING:tensorflow:Can save best model only with val_loss available, skipping.\n"
     ]
    },
    {
     "name": "stderr",
     "output_type": "stream",
     "text": [
      "WARNING:tensorflow:Can save best model only with val_loss available, skipping.\n"
     ]
    },
    {
     "name": "stdout",
     "output_type": "stream",
     "text": [
      "15/15 [==============================] - 7s 487ms/step - loss: 0.0094 - semantic_0_loss: 0.0019 - semantic_1_loss: 0.0062 - semantic_2_loss: 0.0013 - lr: 3.0240e-05\n",
      "Epoch 121/200\n",
      "15/15 [==============================] - ETA: 0s - loss: 0.0092 - semantic_0_loss: 0.0018 - semantic_1_loss: 0.0061 - semantic_2_loss: 0.0013WARNING:tensorflow:Can save best model only with val_loss available, skipping.\n"
     ]
    },
    {
     "name": "stderr",
     "output_type": "stream",
     "text": [
      "WARNING:tensorflow:Can save best model only with val_loss available, skipping.\n"
     ]
    },
    {
     "name": "stdout",
     "output_type": "stream",
     "text": [
      "15/15 [==============================] - 7s 479ms/step - loss: 0.0092 - semantic_0_loss: 0.0018 - semantic_1_loss: 0.0061 - semantic_2_loss: 0.0013 - lr: 2.9938e-05\n",
      "Epoch 122/200\n",
      "15/15 [==============================] - ETA: 0s - loss: 0.0092 - semantic_0_loss: 0.0018 - semantic_1_loss: 0.0061 - semantic_2_loss: 0.0013WARNING:tensorflow:Can save best model only with val_loss available, skipping.\n"
     ]
    },
    {
     "name": "stderr",
     "output_type": "stream",
     "text": [
      "WARNING:tensorflow:Can save best model only with val_loss available, skipping.\n"
     ]
    },
    {
     "name": "stdout",
     "output_type": "stream",
     "text": [
      "15/15 [==============================] - 8s 491ms/step - loss: 0.0092 - semantic_0_loss: 0.0018 - semantic_1_loss: 0.0061 - semantic_2_loss: 0.0013 - lr: 2.9639e-05\n",
      "Epoch 123/200\n",
      "15/15 [==============================] - ETA: 0s - loss: 0.0096 - semantic_0_loss: 0.0020 - semantic_1_loss: 0.0064 - semantic_2_loss: 0.0013WARNING:tensorflow:Can save best model only with val_loss available, skipping.\n"
     ]
    },
    {
     "name": "stderr",
     "output_type": "stream",
     "text": [
      "WARNING:tensorflow:Can save best model only with val_loss available, skipping.\n"
     ]
    },
    {
     "name": "stdout",
     "output_type": "stream",
     "text": [
      "15/15 [==============================] - 7s 473ms/step - loss: 0.0096 - semantic_0_loss: 0.0020 - semantic_1_loss: 0.0064 - semantic_2_loss: 0.0013 - lr: 2.9342e-05\n",
      "Epoch 124/200\n",
      "15/15 [==============================] - ETA: 0s - loss: 0.0092 - semantic_0_loss: 0.0019 - semantic_1_loss: 0.0061 - semantic_2_loss: 0.0013WARNING:tensorflow:Can save best model only with val_loss available, skipping.\n"
     ]
    },
    {
     "name": "stderr",
     "output_type": "stream",
     "text": [
      "WARNING:tensorflow:Can save best model only with val_loss available, skipping.\n"
     ]
    },
    {
     "name": "stdout",
     "output_type": "stream",
     "text": [
      "15/15 [==============================] - 7s 479ms/step - loss: 0.0092 - semantic_0_loss: 0.0019 - semantic_1_loss: 0.0061 - semantic_2_loss: 0.0013 - lr: 2.9049e-05\n",
      "Epoch 125/200\n",
      "15/15 [==============================] - ETA: 0s - loss: 0.0091 - semantic_0_loss: 0.0019 - semantic_1_loss: 0.0060 - semantic_2_loss: 0.0013WARNING:tensorflow:Can save best model only with val_loss available, skipping.\n"
     ]
    },
    {
     "name": "stderr",
     "output_type": "stream",
     "text": [
      "WARNING:tensorflow:Can save best model only with val_loss available, skipping.\n"
     ]
    },
    {
     "name": "stdout",
     "output_type": "stream",
     "text": [
      "15/15 [==============================] - 7s 479ms/step - loss: 0.0091 - semantic_0_loss: 0.0019 - semantic_1_loss: 0.0060 - semantic_2_loss: 0.0013 - lr: 2.8758e-05\n",
      "Epoch 126/200\n",
      "15/15 [==============================] - ETA: 0s - loss: 0.0094 - semantic_0_loss: 0.0019 - semantic_1_loss: 0.0062 - semantic_2_loss: 0.0013WARNING:tensorflow:Can save best model only with val_loss available, skipping.\n"
     ]
    },
    {
     "name": "stderr",
     "output_type": "stream",
     "text": [
      "WARNING:tensorflow:Can save best model only with val_loss available, skipping.\n"
     ]
    },
    {
     "name": "stdout",
     "output_type": "stream",
     "text": [
      "15/15 [==============================] - 8s 489ms/step - loss: 0.0094 - semantic_0_loss: 0.0019 - semantic_1_loss: 0.0062 - semantic_2_loss: 0.0013 - lr: 2.8471e-05\n",
      "Epoch 127/200\n",
      "15/15 [==============================] - ETA: 0s - loss: 0.0096 - semantic_0_loss: 0.0019 - semantic_1_loss: 0.0064 - semantic_2_loss: 0.0013WARNING:tensorflow:Can save best model only with val_loss available, skipping.\n"
     ]
    },
    {
     "name": "stderr",
     "output_type": "stream",
     "text": [
      "WARNING:tensorflow:Can save best model only with val_loss available, skipping.\n"
     ]
    },
    {
     "name": "stdout",
     "output_type": "stream",
     "text": [
      "15/15 [==============================] - 8s 487ms/step - loss: 0.0096 - semantic_0_loss: 0.0019 - semantic_1_loss: 0.0064 - semantic_2_loss: 0.0013 - lr: 2.8186e-05\n",
      "Epoch 128/200\n",
      "15/15 [==============================] - ETA: 0s - loss: 0.0092 - semantic_0_loss: 0.0019 - semantic_1_loss: 0.0061 - semantic_2_loss: 0.0013WARNING:tensorflow:Can save best model only with val_loss available, skipping.\n"
     ]
    },
    {
     "name": "stderr",
     "output_type": "stream",
     "text": [
      "WARNING:tensorflow:Can save best model only with val_loss available, skipping.\n"
     ]
    },
    {
     "name": "stdout",
     "output_type": "stream",
     "text": [
      "15/15 [==============================] - 8s 487ms/step - loss: 0.0092 - semantic_0_loss: 0.0019 - semantic_1_loss: 0.0061 - semantic_2_loss: 0.0013 - lr: 2.7904e-05\n",
      "Epoch 129/200\n",
      "15/15 [==============================] - ETA: 0s - loss: 0.0093 - semantic_0_loss: 0.0019 - semantic_1_loss: 0.0061 - semantic_2_loss: 0.0013WARNING:tensorflow:Can save best model only with val_loss available, skipping.\n"
     ]
    },
    {
     "name": "stderr",
     "output_type": "stream",
     "text": [
      "WARNING:tensorflow:Can save best model only with val_loss available, skipping.\n"
     ]
    },
    {
     "name": "stdout",
     "output_type": "stream",
     "text": [
      "15/15 [==============================] - 7s 477ms/step - loss: 0.0093 - semantic_0_loss: 0.0019 - semantic_1_loss: 0.0061 - semantic_2_loss: 0.0013 - lr: 2.7625e-05\n",
      "Epoch 130/200\n",
      "15/15 [==============================] - ETA: 0s - loss: 0.0089 - semantic_0_loss: 0.0018 - semantic_1_loss: 0.0059 - semantic_2_loss: 0.0013WARNING:tensorflow:Can save best model only with val_loss available, skipping.\n"
     ]
    },
    {
     "name": "stderr",
     "output_type": "stream",
     "text": [
      "WARNING:tensorflow:Can save best model only with val_loss available, skipping.\n"
     ]
    },
    {
     "name": "stdout",
     "output_type": "stream",
     "text": [
      "15/15 [==============================] - 7s 482ms/step - loss: 0.0089 - semantic_0_loss: 0.0018 - semantic_1_loss: 0.0059 - semantic_2_loss: 0.0013 - lr: 2.7349e-05\n",
      "Epoch 131/200\n",
      "15/15 [==============================] - ETA: 0s - loss: 0.0094 - semantic_0_loss: 0.0019 - semantic_1_loss: 0.0062 - semantic_2_loss: 0.0013WARNING:tensorflow:Can save best model only with val_loss available, skipping.\n"
     ]
    },
    {
     "name": "stderr",
     "output_type": "stream",
     "text": [
      "WARNING:tensorflow:Can save best model only with val_loss available, skipping.\n"
     ]
    },
    {
     "name": "stdout",
     "output_type": "stream",
     "text": [
      "15/15 [==============================] - 7s 483ms/step - loss: 0.0094 - semantic_0_loss: 0.0019 - semantic_1_loss: 0.0062 - semantic_2_loss: 0.0013 - lr: 2.7075e-05\n",
      "Epoch 132/200\n",
      "15/15 [==============================] - ETA: 0s - loss: 0.0087 - semantic_0_loss: 0.0017 - semantic_1_loss: 0.0057 - semantic_2_loss: 0.0012WARNING:tensorflow:Can save best model only with val_loss available, skipping.\n"
     ]
    },
    {
     "name": "stderr",
     "output_type": "stream",
     "text": [
      "WARNING:tensorflow:Can save best model only with val_loss available, skipping.\n"
     ]
    },
    {
     "name": "stdout",
     "output_type": "stream",
     "text": [
      "15/15 [==============================] - 7s 480ms/step - loss: 0.0087 - semantic_0_loss: 0.0017 - semantic_1_loss: 0.0057 - semantic_2_loss: 0.0012 - lr: 2.6805e-05\n",
      "Epoch 133/200\n",
      "15/15 [==============================] - ETA: 0s - loss: 0.0091 - semantic_0_loss: 0.0019 - semantic_1_loss: 0.0060 - semantic_2_loss: 0.0013WARNING:tensorflow:Can save best model only with val_loss available, skipping.\n"
     ]
    },
    {
     "name": "stderr",
     "output_type": "stream",
     "text": [
      "WARNING:tensorflow:Can save best model only with val_loss available, skipping.\n"
     ]
    },
    {
     "name": "stdout",
     "output_type": "stream",
     "text": [
      "15/15 [==============================] - 7s 484ms/step - loss: 0.0091 - semantic_0_loss: 0.0019 - semantic_1_loss: 0.0060 - semantic_2_loss: 0.0013 - lr: 2.6537e-05\n",
      "Epoch 134/200\n",
      "15/15 [==============================] - ETA: 0s - loss: 0.0090 - semantic_0_loss: 0.0019 - semantic_1_loss: 0.0059 - semantic_2_loss: 0.0012WARNING:tensorflow:Can save best model only with val_loss available, skipping.\n"
     ]
    },
    {
     "name": "stderr",
     "output_type": "stream",
     "text": [
      "WARNING:tensorflow:Can save best model only with val_loss available, skipping.\n"
     ]
    },
    {
     "name": "stdout",
     "output_type": "stream",
     "text": [
      "15/15 [==============================] - 8s 488ms/step - loss: 0.0090 - semantic_0_loss: 0.0019 - semantic_1_loss: 0.0059 - semantic_2_loss: 0.0012 - lr: 2.6271e-05\n",
      "Epoch 135/200\n",
      "15/15 [==============================] - ETA: 0s - loss: 0.0092 - semantic_0_loss: 0.0019 - semantic_1_loss: 0.0060 - semantic_2_loss: 0.0013WARNING:tensorflow:Can save best model only with val_loss available, skipping.\n"
     ]
    },
    {
     "name": "stderr",
     "output_type": "stream",
     "text": [
      "WARNING:tensorflow:Can save best model only with val_loss available, skipping.\n"
     ]
    },
    {
     "name": "stdout",
     "output_type": "stream",
     "text": [
      "15/15 [==============================] - 7s 486ms/step - loss: 0.0092 - semantic_0_loss: 0.0019 - semantic_1_loss: 0.0060 - semantic_2_loss: 0.0013 - lr: 2.6009e-05\n",
      "Epoch 136/200\n",
      "15/15 [==============================] - ETA: 0s - loss: 0.0087 - semantic_0_loss: 0.0018 - semantic_1_loss: 0.0057 - semantic_2_loss: 0.0012WARNING:tensorflow:Can save best model only with val_loss available, skipping.\n"
     ]
    },
    {
     "name": "stderr",
     "output_type": "stream",
     "text": [
      "WARNING:tensorflow:Can save best model only with val_loss available, skipping.\n"
     ]
    },
    {
     "name": "stdout",
     "output_type": "stream",
     "text": [
      "15/15 [==============================] - 7s 479ms/step - loss: 0.0087 - semantic_0_loss: 0.0018 - semantic_1_loss: 0.0057 - semantic_2_loss: 0.0012 - lr: 2.5748e-05\n",
      "Epoch 137/200\n",
      "15/15 [==============================] - ETA: 0s - loss: 0.0096 - semantic_0_loss: 0.0019 - semantic_1_loss: 0.0063 - semantic_2_loss: 0.0013WARNING:tensorflow:Can save best model only with val_loss available, skipping.\n"
     ]
    },
    {
     "name": "stderr",
     "output_type": "stream",
     "text": [
      "WARNING:tensorflow:Can save best model only with val_loss available, skipping.\n"
     ]
    },
    {
     "name": "stdout",
     "output_type": "stream",
     "text": [
      "15/15 [==============================] - 7s 496ms/step - loss: 0.0096 - semantic_0_loss: 0.0019 - semantic_1_loss: 0.0063 - semantic_2_loss: 0.0013 - lr: 2.5491e-05\n",
      "Epoch 138/200\n",
      "15/15 [==============================] - ETA: 0s - loss: 0.0089 - semantic_0_loss: 0.0017 - semantic_1_loss: 0.0059 - semantic_2_loss: 0.0013WARNING:tensorflow:Can save best model only with val_loss available, skipping.\n"
     ]
    },
    {
     "name": "stderr",
     "output_type": "stream",
     "text": [
      "WARNING:tensorflow:Can save best model only with val_loss available, skipping.\n"
     ]
    },
    {
     "name": "stdout",
     "output_type": "stream",
     "text": [
      "15/15 [==============================] - 7s 475ms/step - loss: 0.0089 - semantic_0_loss: 0.0017 - semantic_1_loss: 0.0059 - semantic_2_loss: 0.0013 - lr: 2.5236e-05\n",
      "Epoch 139/200\n",
      "15/15 [==============================] - ETA: 0s - loss: 0.0087 - semantic_0_loss: 0.0017 - semantic_1_loss: 0.0057 - semantic_2_loss: 0.0012WARNING:tensorflow:Can save best model only with val_loss available, skipping.\n"
     ]
    },
    {
     "name": "stderr",
     "output_type": "stream",
     "text": [
      "WARNING:tensorflow:Can save best model only with val_loss available, skipping.\n"
     ]
    },
    {
     "name": "stdout",
     "output_type": "stream",
     "text": [
      "15/15 [==============================] - 7s 475ms/step - loss: 0.0087 - semantic_0_loss: 0.0017 - semantic_1_loss: 0.0057 - semantic_2_loss: 0.0012 - lr: 2.4984e-05\n",
      "Epoch 140/200\n",
      "15/15 [==============================] - ETA: 0s - loss: 0.0090 - semantic_0_loss: 0.0019 - semantic_1_loss: 0.0058 - semantic_2_loss: 0.0013WARNING:tensorflow:Can save best model only with val_loss available, skipping.\n"
     ]
    },
    {
     "name": "stderr",
     "output_type": "stream",
     "text": [
      "WARNING:tensorflow:Can save best model only with val_loss available, skipping.\n"
     ]
    },
    {
     "name": "stdout",
     "output_type": "stream",
     "text": [
      "15/15 [==============================] - 8s 495ms/step - loss: 0.0090 - semantic_0_loss: 0.0019 - semantic_1_loss: 0.0058 - semantic_2_loss: 0.0013 - lr: 2.4734e-05\n",
      "Epoch 141/200\n",
      "15/15 [==============================] - ETA: 0s - loss: 0.0090 - semantic_0_loss: 0.0018 - semantic_1_loss: 0.0059 - semantic_2_loss: 0.0013WARNING:tensorflow:Can save best model only with val_loss available, skipping.\n"
     ]
    },
    {
     "name": "stderr",
     "output_type": "stream",
     "text": [
      "WARNING:tensorflow:Can save best model only with val_loss available, skipping.\n"
     ]
    },
    {
     "name": "stdout",
     "output_type": "stream",
     "text": [
      "15/15 [==============================] - 7s 481ms/step - loss: 0.0090 - semantic_0_loss: 0.0018 - semantic_1_loss: 0.0059 - semantic_2_loss: 0.0013 - lr: 2.4487e-05\n",
      "Epoch 142/200\n",
      "15/15 [==============================] - ETA: 0s - loss: 0.0089 - semantic_0_loss: 0.0018 - semantic_1_loss: 0.0059 - semantic_2_loss: 0.0012WARNING:tensorflow:Can save best model only with val_loss available, skipping.\n"
     ]
    },
    {
     "name": "stderr",
     "output_type": "stream",
     "text": [
      "WARNING:tensorflow:Can save best model only with val_loss available, skipping.\n"
     ]
    },
    {
     "name": "stdout",
     "output_type": "stream",
     "text": [
      "15/15 [==============================] - 7s 483ms/step - loss: 0.0089 - semantic_0_loss: 0.0018 - semantic_1_loss: 0.0059 - semantic_2_loss: 0.0012 - lr: 2.4242e-05\n",
      "Epoch 143/200\n",
      "15/15 [==============================] - ETA: 0s - loss: 0.0086 - semantic_0_loss: 0.0018 - semantic_1_loss: 0.0056 - semantic_2_loss: 0.0012WARNING:tensorflow:Can save best model only with val_loss available, skipping.\n"
     ]
    },
    {
     "name": "stderr",
     "output_type": "stream",
     "text": [
      "WARNING:tensorflow:Can save best model only with val_loss available, skipping.\n"
     ]
    },
    {
     "name": "stdout",
     "output_type": "stream",
     "text": [
      "15/15 [==============================] - 7s 475ms/step - loss: 0.0086 - semantic_0_loss: 0.0018 - semantic_1_loss: 0.0056 - semantic_2_loss: 0.0012 - lr: 2.3999e-05\n",
      "Epoch 144/200\n",
      "15/15 [==============================] - ETA: 0s - loss: 0.0090 - semantic_0_loss: 0.0018 - semantic_1_loss: 0.0059 - semantic_2_loss: 0.0012WARNING:tensorflow:Can save best model only with val_loss available, skipping.\n"
     ]
    },
    {
     "name": "stderr",
     "output_type": "stream",
     "text": [
      "WARNING:tensorflow:Can save best model only with val_loss available, skipping.\n"
     ]
    },
    {
     "name": "stdout",
     "output_type": "stream",
     "text": [
      "15/15 [==============================] - 7s 486ms/step - loss: 0.0090 - semantic_0_loss: 0.0018 - semantic_1_loss: 0.0059 - semantic_2_loss: 0.0012 - lr: 2.3759e-05\n",
      "Epoch 145/200\n",
      "15/15 [==============================] - ETA: 0s - loss: 0.0087 - semantic_0_loss: 0.0019 - semantic_1_loss: 0.0056 - semantic_2_loss: 0.0012WARNING:tensorflow:Can save best model only with val_loss available, skipping.\n"
     ]
    },
    {
     "name": "stderr",
     "output_type": "stream",
     "text": [
      "WARNING:tensorflow:Can save best model only with val_loss available, skipping.\n"
     ]
    },
    {
     "name": "stdout",
     "output_type": "stream",
     "text": [
      "15/15 [==============================] - 7s 478ms/step - loss: 0.0087 - semantic_0_loss: 0.0019 - semantic_1_loss: 0.0056 - semantic_2_loss: 0.0012 - lr: 2.3522e-05\n",
      "Epoch 146/200\n",
      "15/15 [==============================] - ETA: 0s - loss: 0.0085 - semantic_0_loss: 0.0018 - semantic_1_loss: 0.0055 - semantic_2_loss: 0.0012WARNING:tensorflow:Can save best model only with val_loss available, skipping.\n"
     ]
    },
    {
     "name": "stderr",
     "output_type": "stream",
     "text": [
      "WARNING:tensorflow:Can save best model only with val_loss available, skipping.\n"
     ]
    },
    {
     "name": "stdout",
     "output_type": "stream",
     "text": [
      "15/15 [==============================] - 7s 488ms/step - loss: 0.0085 - semantic_0_loss: 0.0018 - semantic_1_loss: 0.0055 - semantic_2_loss: 0.0012 - lr: 2.3286e-05\n",
      "Epoch 147/200\n",
      "15/15 [==============================] - ETA: 0s - loss: 0.0087 - semantic_0_loss: 0.0018 - semantic_1_loss: 0.0058 - semantic_2_loss: 0.0012WARNING:tensorflow:Can save best model only with val_loss available, skipping.\n"
     ]
    },
    {
     "name": "stderr",
     "output_type": "stream",
     "text": [
      "WARNING:tensorflow:Can save best model only with val_loss available, skipping.\n"
     ]
    },
    {
     "name": "stdout",
     "output_type": "stream",
     "text": [
      "15/15 [==============================] - 7s 477ms/step - loss: 0.0087 - semantic_0_loss: 0.0018 - semantic_1_loss: 0.0058 - semantic_2_loss: 0.0012 - lr: 2.3054e-05\n",
      "Epoch 148/200\n",
      "15/15 [==============================] - ETA: 0s - loss: 0.0089 - semantic_0_loss: 0.0018 - semantic_1_loss: 0.0059 - semantic_2_loss: 0.0012WARNING:tensorflow:Can save best model only with val_loss available, skipping.\n"
     ]
    },
    {
     "name": "stderr",
     "output_type": "stream",
     "text": [
      "WARNING:tensorflow:Can save best model only with val_loss available, skipping.\n"
     ]
    },
    {
     "name": "stdout",
     "output_type": "stream",
     "text": [
      "15/15 [==============================] - 7s 479ms/step - loss: 0.0089 - semantic_0_loss: 0.0018 - semantic_1_loss: 0.0059 - semantic_2_loss: 0.0012 - lr: 2.2823e-05\n",
      "Epoch 149/200\n",
      "15/15 [==============================] - ETA: 0s - loss: 0.0089 - semantic_0_loss: 0.0018 - semantic_1_loss: 0.0058 - semantic_2_loss: 0.0012WARNING:tensorflow:Can save best model only with val_loss available, skipping.\n"
     ]
    },
    {
     "name": "stderr",
     "output_type": "stream",
     "text": [
      "WARNING:tensorflow:Can save best model only with val_loss available, skipping.\n"
     ]
    },
    {
     "name": "stdout",
     "output_type": "stream",
     "text": [
      "15/15 [==============================] - 7s 471ms/step - loss: 0.0089 - semantic_0_loss: 0.0018 - semantic_1_loss: 0.0058 - semantic_2_loss: 0.0012 - lr: 2.2595e-05\n",
      "Epoch 150/200\n",
      "15/15 [==============================] - ETA: 0s - loss: 0.0090 - semantic_0_loss: 0.0018 - semantic_1_loss: 0.0059 - semantic_2_loss: 0.0013WARNING:tensorflow:Can save best model only with val_loss available, skipping.\n"
     ]
    },
    {
     "name": "stderr",
     "output_type": "stream",
     "text": [
      "WARNING:tensorflow:Can save best model only with val_loss available, skipping.\n"
     ]
    },
    {
     "name": "stdout",
     "output_type": "stream",
     "text": [
      "15/15 [==============================] - 7s 494ms/step - loss: 0.0090 - semantic_0_loss: 0.0018 - semantic_1_loss: 0.0059 - semantic_2_loss: 0.0013 - lr: 2.2369e-05\n",
      "Epoch 151/200\n",
      "15/15 [==============================] - ETA: 0s - loss: 0.0086 - semantic_0_loss: 0.0018 - semantic_1_loss: 0.0056 - semantic_2_loss: 0.0012WARNING:tensorflow:Can save best model only with val_loss available, skipping.\n"
     ]
    },
    {
     "name": "stderr",
     "output_type": "stream",
     "text": [
      "WARNING:tensorflow:Can save best model only with val_loss available, skipping.\n"
     ]
    },
    {
     "name": "stdout",
     "output_type": "stream",
     "text": [
      "15/15 [==============================] - 7s 469ms/step - loss: 0.0086 - semantic_0_loss: 0.0018 - semantic_1_loss: 0.0056 - semantic_2_loss: 0.0012 - lr: 2.2145e-05\n",
      "Epoch 152/200\n",
      "15/15 [==============================] - ETA: 0s - loss: 0.0087 - semantic_0_loss: 0.0018 - semantic_1_loss: 0.0056 - semantic_2_loss: 0.0012WARNING:tensorflow:Can save best model only with val_loss available, skipping.\n"
     ]
    },
    {
     "name": "stderr",
     "output_type": "stream",
     "text": [
      "WARNING:tensorflow:Can save best model only with val_loss available, skipping.\n"
     ]
    },
    {
     "name": "stdout",
     "output_type": "stream",
     "text": [
      "15/15 [==============================] - 7s 480ms/step - loss: 0.0087 - semantic_0_loss: 0.0018 - semantic_1_loss: 0.0056 - semantic_2_loss: 0.0012 - lr: 2.1924e-05\n",
      "Epoch 153/200\n",
      "15/15 [==============================] - ETA: 0s - loss: 0.0089 - semantic_0_loss: 0.0018 - semantic_1_loss: 0.0059 - semantic_2_loss: 0.0013WARNING:tensorflow:Can save best model only with val_loss available, skipping.\n"
     ]
    },
    {
     "name": "stderr",
     "output_type": "stream",
     "text": [
      "WARNING:tensorflow:Can save best model only with val_loss available, skipping.\n"
     ]
    },
    {
     "name": "stdout",
     "output_type": "stream",
     "text": [
      "15/15 [==============================] - 7s 483ms/step - loss: 0.0089 - semantic_0_loss: 0.0018 - semantic_1_loss: 0.0059 - semantic_2_loss: 0.0013 - lr: 2.1704e-05\n",
      "Epoch 154/200\n",
      "15/15 [==============================] - ETA: 0s - loss: 0.0091 - semantic_0_loss: 0.0019 - semantic_1_loss: 0.0060 - semantic_2_loss: 0.0013WARNING:tensorflow:Can save best model only with val_loss available, skipping.\n"
     ]
    },
    {
     "name": "stderr",
     "output_type": "stream",
     "text": [
      "WARNING:tensorflow:Can save best model only with val_loss available, skipping.\n"
     ]
    },
    {
     "name": "stdout",
     "output_type": "stream",
     "text": [
      "15/15 [==============================] - 7s 492ms/step - loss: 0.0091 - semantic_0_loss: 0.0019 - semantic_1_loss: 0.0060 - semantic_2_loss: 0.0013 - lr: 2.1487e-05\n",
      "Epoch 155/200\n",
      "15/15 [==============================] - ETA: 0s - loss: 0.0090 - semantic_0_loss: 0.0019 - semantic_1_loss: 0.0059 - semantic_2_loss: 0.0012WARNING:tensorflow:Can save best model only with val_loss available, skipping.\n"
     ]
    },
    {
     "name": "stderr",
     "output_type": "stream",
     "text": [
      "WARNING:tensorflow:Can save best model only with val_loss available, skipping.\n"
     ]
    },
    {
     "name": "stdout",
     "output_type": "stream",
     "text": [
      "15/15 [==============================] - 7s 487ms/step - loss: 0.0090 - semantic_0_loss: 0.0019 - semantic_1_loss: 0.0059 - semantic_2_loss: 0.0012 - lr: 2.1273e-05\n",
      "Epoch 156/200\n",
      "15/15 [==============================] - ETA: 0s - loss: 0.0089 - semantic_0_loss: 0.0018 - semantic_1_loss: 0.0058 - semantic_2_loss: 0.0012WARNING:tensorflow:Can save best model only with val_loss available, skipping.\n"
     ]
    },
    {
     "name": "stderr",
     "output_type": "stream",
     "text": [
      "WARNING:tensorflow:Can save best model only with val_loss available, skipping.\n"
     ]
    },
    {
     "name": "stdout",
     "output_type": "stream",
     "text": [
      "15/15 [==============================] - 7s 487ms/step - loss: 0.0089 - semantic_0_loss: 0.0018 - semantic_1_loss: 0.0058 - semantic_2_loss: 0.0012 - lr: 2.1060e-05\n",
      "Epoch 157/200\n",
      "15/15 [==============================] - ETA: 0s - loss: 0.0086 - semantic_0_loss: 0.0018 - semantic_1_loss: 0.0056 - semantic_2_loss: 0.0012WARNING:tensorflow:Can save best model only with val_loss available, skipping.\n"
     ]
    },
    {
     "name": "stderr",
     "output_type": "stream",
     "text": [
      "WARNING:tensorflow:Can save best model only with val_loss available, skipping.\n"
     ]
    },
    {
     "name": "stdout",
     "output_type": "stream",
     "text": [
      "15/15 [==============================] - 7s 477ms/step - loss: 0.0086 - semantic_0_loss: 0.0018 - semantic_1_loss: 0.0056 - semantic_2_loss: 0.0012 - lr: 2.0849e-05\n",
      "Epoch 158/200\n",
      "15/15 [==============================] - ETA: 0s - loss: 0.0086 - semantic_0_loss: 0.0018 - semantic_1_loss: 0.0056 - semantic_2_loss: 0.0012WARNING:tensorflow:Can save best model only with val_loss available, skipping.\n"
     ]
    },
    {
     "name": "stderr",
     "output_type": "stream",
     "text": [
      "WARNING:tensorflow:Can save best model only with val_loss available, skipping.\n"
     ]
    },
    {
     "name": "stdout",
     "output_type": "stream",
     "text": [
      "15/15 [==============================] - 7s 477ms/step - loss: 0.0086 - semantic_0_loss: 0.0018 - semantic_1_loss: 0.0056 - semantic_2_loss: 0.0012 - lr: 2.0641e-05\n",
      "Epoch 159/200\n",
      "15/15 [==============================] - ETA: 0s - loss: 0.0089 - semantic_0_loss: 0.0018 - semantic_1_loss: 0.0058 - semantic_2_loss: 0.0012WARNING:tensorflow:Can save best model only with val_loss available, skipping.\n"
     ]
    },
    {
     "name": "stderr",
     "output_type": "stream",
     "text": [
      "WARNING:tensorflow:Can save best model only with val_loss available, skipping.\n"
     ]
    },
    {
     "name": "stdout",
     "output_type": "stream",
     "text": [
      "15/15 [==============================] - 8s 485ms/step - loss: 0.0089 - semantic_0_loss: 0.0018 - semantic_1_loss: 0.0058 - semantic_2_loss: 0.0012 - lr: 2.0434e-05\n",
      "Epoch 160/200\n",
      "15/15 [==============================] - ETA: 0s - loss: 0.0092 - semantic_0_loss: 0.0019 - semantic_1_loss: 0.0060 - semantic_2_loss: 0.0013WARNING:tensorflow:Can save best model only with val_loss available, skipping.\n"
     ]
    },
    {
     "name": "stderr",
     "output_type": "stream",
     "text": [
      "WARNING:tensorflow:Can save best model only with val_loss available, skipping.\n"
     ]
    },
    {
     "name": "stdout",
     "output_type": "stream",
     "text": [
      "15/15 [==============================] - 7s 487ms/step - loss: 0.0092 - semantic_0_loss: 0.0019 - semantic_1_loss: 0.0060 - semantic_2_loss: 0.0013 - lr: 2.0230e-05\n",
      "Epoch 161/200\n",
      "15/15 [==============================] - ETA: 0s - loss: 0.0085 - semantic_0_loss: 0.0017 - semantic_1_loss: 0.0055 - semantic_2_loss: 0.0012WARNING:tensorflow:Can save best model only with val_loss available, skipping.\n"
     ]
    },
    {
     "name": "stderr",
     "output_type": "stream",
     "text": [
      "WARNING:tensorflow:Can save best model only with val_loss available, skipping.\n"
     ]
    },
    {
     "name": "stdout",
     "output_type": "stream",
     "text": [
      "15/15 [==============================] - 7s 479ms/step - loss: 0.0085 - semantic_0_loss: 0.0017 - semantic_1_loss: 0.0055 - semantic_2_loss: 0.0012 - lr: 2.0028e-05\n",
      "Epoch 162/200\n",
      "15/15 [==============================] - ETA: 0s - loss: 0.0090 - semantic_0_loss: 0.0019 - semantic_1_loss: 0.0059 - semantic_2_loss: 0.0013WARNING:tensorflow:Can save best model only with val_loss available, skipping.\n"
     ]
    },
    {
     "name": "stderr",
     "output_type": "stream",
     "text": [
      "WARNING:tensorflow:Can save best model only with val_loss available, skipping.\n"
     ]
    },
    {
     "name": "stdout",
     "output_type": "stream",
     "text": [
      "15/15 [==============================] - 7s 475ms/step - loss: 0.0090 - semantic_0_loss: 0.0019 - semantic_1_loss: 0.0059 - semantic_2_loss: 0.0013 - lr: 1.9827e-05\n",
      "Epoch 163/200\n",
      "15/15 [==============================] - ETA: 0s - loss: 0.0088 - semantic_0_loss: 0.0018 - semantic_1_loss: 0.0057 - semantic_2_loss: 0.0012WARNING:tensorflow:Can save best model only with val_loss available, skipping.\n"
     ]
    },
    {
     "name": "stderr",
     "output_type": "stream",
     "text": [
      "WARNING:tensorflow:Can save best model only with val_loss available, skipping.\n"
     ]
    },
    {
     "name": "stdout",
     "output_type": "stream",
     "text": [
      "15/15 [==============================] - 7s 479ms/step - loss: 0.0088 - semantic_0_loss: 0.0018 - semantic_1_loss: 0.0057 - semantic_2_loss: 0.0012 - lr: 1.9629e-05\n",
      "Epoch 164/200\n",
      "15/15 [==============================] - ETA: 0s - loss: 0.0087 - semantic_0_loss: 0.0018 - semantic_1_loss: 0.0057 - semantic_2_loss: 0.0012WARNING:tensorflow:Can save best model only with val_loss available, skipping.\n"
     ]
    },
    {
     "name": "stderr",
     "output_type": "stream",
     "text": [
      "WARNING:tensorflow:Can save best model only with val_loss available, skipping.\n"
     ]
    },
    {
     "name": "stdout",
     "output_type": "stream",
     "text": [
      "15/15 [==============================] - 7s 482ms/step - loss: 0.0087 - semantic_0_loss: 0.0018 - semantic_1_loss: 0.0057 - semantic_2_loss: 0.0012 - lr: 1.9433e-05\n",
      "Epoch 165/200\n",
      "15/15 [==============================] - ETA: 0s - loss: 0.0085 - semantic_0_loss: 0.0018 - semantic_1_loss: 0.0055 - semantic_2_loss: 0.0012WARNING:tensorflow:Can save best model only with val_loss available, skipping.\n"
     ]
    },
    {
     "name": "stderr",
     "output_type": "stream",
     "text": [
      "WARNING:tensorflow:Can save best model only with val_loss available, skipping.\n"
     ]
    },
    {
     "name": "stdout",
     "output_type": "stream",
     "text": [
      "15/15 [==============================] - 7s 472ms/step - loss: 0.0085 - semantic_0_loss: 0.0018 - semantic_1_loss: 0.0055 - semantic_2_loss: 0.0012 - lr: 1.9239e-05\n",
      "Epoch 166/200\n",
      "15/15 [==============================] - ETA: 0s - loss: 0.0088 - semantic_0_loss: 0.0018 - semantic_1_loss: 0.0058 - semantic_2_loss: 0.0012WARNING:tensorflow:Can save best model only with val_loss available, skipping.\n"
     ]
    },
    {
     "name": "stderr",
     "output_type": "stream",
     "text": [
      "WARNING:tensorflow:Can save best model only with val_loss available, skipping.\n"
     ]
    },
    {
     "name": "stdout",
     "output_type": "stream",
     "text": [
      "15/15 [==============================] - 7s 482ms/step - loss: 0.0088 - semantic_0_loss: 0.0018 - semantic_1_loss: 0.0058 - semantic_2_loss: 0.0012 - lr: 1.9046e-05\n",
      "Epoch 167/200\n",
      "15/15 [==============================] - ETA: 0s - loss: 0.0089 - semantic_0_loss: 0.0018 - semantic_1_loss: 0.0058 - semantic_2_loss: 0.0012WARNING:tensorflow:Can save best model only with val_loss available, skipping.\n"
     ]
    },
    {
     "name": "stderr",
     "output_type": "stream",
     "text": [
      "WARNING:tensorflow:Can save best model only with val_loss available, skipping.\n"
     ]
    },
    {
     "name": "stdout",
     "output_type": "stream",
     "text": [
      "15/15 [==============================] - 7s 479ms/step - loss: 0.0089 - semantic_0_loss: 0.0018 - semantic_1_loss: 0.0058 - semantic_2_loss: 0.0012 - lr: 1.8856e-05\n",
      "Epoch 168/200\n",
      "15/15 [==============================] - ETA: 0s - loss: 0.0083 - semantic_0_loss: 0.0018 - semantic_1_loss: 0.0054 - semantic_2_loss: 0.0012WARNING:tensorflow:Can save best model only with val_loss available, skipping.\n"
     ]
    },
    {
     "name": "stderr",
     "output_type": "stream",
     "text": [
      "WARNING:tensorflow:Can save best model only with val_loss available, skipping.\n"
     ]
    },
    {
     "name": "stdout",
     "output_type": "stream",
     "text": [
      "15/15 [==============================] - 7s 479ms/step - loss: 0.0083 - semantic_0_loss: 0.0018 - semantic_1_loss: 0.0054 - semantic_2_loss: 0.0012 - lr: 1.8667e-05\n",
      "Epoch 169/200\n",
      "15/15 [==============================] - ETA: 0s - loss: 0.0088 - semantic_0_loss: 0.0018 - semantic_1_loss: 0.0058 - semantic_2_loss: 0.0012WARNING:tensorflow:Can save best model only with val_loss available, skipping.\n"
     ]
    },
    {
     "name": "stderr",
     "output_type": "stream",
     "text": [
      "WARNING:tensorflow:Can save best model only with val_loss available, skipping.\n"
     ]
    },
    {
     "name": "stdout",
     "output_type": "stream",
     "text": [
      "15/15 [==============================] - 7s 480ms/step - loss: 0.0088 - semantic_0_loss: 0.0018 - semantic_1_loss: 0.0058 - semantic_2_loss: 0.0012 - lr: 1.8480e-05\n",
      "Epoch 170/200\n",
      "15/15 [==============================] - ETA: 0s - loss: 0.0088 - semantic_0_loss: 0.0018 - semantic_1_loss: 0.0057 - semantic_2_loss: 0.0012WARNING:tensorflow:Can save best model only with val_loss available, skipping.\n"
     ]
    },
    {
     "name": "stderr",
     "output_type": "stream",
     "text": [
      "WARNING:tensorflow:Can save best model only with val_loss available, skipping.\n"
     ]
    },
    {
     "name": "stdout",
     "output_type": "stream",
     "text": [
      "15/15 [==============================] - 7s 474ms/step - loss: 0.0088 - semantic_0_loss: 0.0018 - semantic_1_loss: 0.0057 - semantic_2_loss: 0.0012 - lr: 1.8296e-05\n",
      "Epoch 171/200\n",
      "15/15 [==============================] - ETA: 0s - loss: 0.0088 - semantic_0_loss: 0.0018 - semantic_1_loss: 0.0057 - semantic_2_loss: 0.0012WARNING:tensorflow:Can save best model only with val_loss available, skipping.\n"
     ]
    },
    {
     "name": "stderr",
     "output_type": "stream",
     "text": [
      "WARNING:tensorflow:Can save best model only with val_loss available, skipping.\n"
     ]
    },
    {
     "name": "stdout",
     "output_type": "stream",
     "text": [
      "15/15 [==============================] - 7s 478ms/step - loss: 0.0088 - semantic_0_loss: 0.0018 - semantic_1_loss: 0.0057 - semantic_2_loss: 0.0012 - lr: 1.8113e-05\n",
      "Epoch 172/200\n",
      "15/15 [==============================] - ETA: 0s - loss: 0.0091 - semantic_0_loss: 0.0019 - semantic_1_loss: 0.0060 - semantic_2_loss: 0.0012WARNING:tensorflow:Can save best model only with val_loss available, skipping.\n"
     ]
    },
    {
     "name": "stderr",
     "output_type": "stream",
     "text": [
      "WARNING:tensorflow:Can save best model only with val_loss available, skipping.\n"
     ]
    },
    {
     "name": "stdout",
     "output_type": "stream",
     "text": [
      "15/15 [==============================] - 7s 490ms/step - loss: 0.0091 - semantic_0_loss: 0.0019 - semantic_1_loss: 0.0060 - semantic_2_loss: 0.0012 - lr: 1.7932e-05\n",
      "Epoch 173/200\n",
      "15/15 [==============================] - ETA: 0s - loss: 0.0089 - semantic_0_loss: 0.0019 - semantic_1_loss: 0.0058 - semantic_2_loss: 0.0012WARNING:tensorflow:Can save best model only with val_loss available, skipping.\n"
     ]
    },
    {
     "name": "stderr",
     "output_type": "stream",
     "text": [
      "WARNING:tensorflow:Can save best model only with val_loss available, skipping.\n"
     ]
    },
    {
     "name": "stdout",
     "output_type": "stream",
     "text": [
      "15/15 [==============================] - 7s 472ms/step - loss: 0.0089 - semantic_0_loss: 0.0019 - semantic_1_loss: 0.0058 - semantic_2_loss: 0.0012 - lr: 1.7752e-05\n",
      "Epoch 174/200\n",
      "15/15 [==============================] - ETA: 0s - loss: 0.0089 - semantic_0_loss: 0.0018 - semantic_1_loss: 0.0058 - semantic_2_loss: 0.0012WARNING:tensorflow:Can save best model only with val_loss available, skipping.\n"
     ]
    },
    {
     "name": "stderr",
     "output_type": "stream",
     "text": [
      "WARNING:tensorflow:Can save best model only with val_loss available, skipping.\n"
     ]
    },
    {
     "name": "stdout",
     "output_type": "stream",
     "text": [
      "15/15 [==============================] - 7s 479ms/step - loss: 0.0089 - semantic_0_loss: 0.0018 - semantic_1_loss: 0.0058 - semantic_2_loss: 0.0012 - lr: 1.7575e-05\n",
      "Epoch 175/200\n",
      "15/15 [==============================] - ETA: 0s - loss: 0.0089 - semantic_0_loss: 0.0019 - semantic_1_loss: 0.0058 - semantic_2_loss: 0.0012WARNING:tensorflow:Can save best model only with val_loss available, skipping.\n"
     ]
    },
    {
     "name": "stderr",
     "output_type": "stream",
     "text": [
      "WARNING:tensorflow:Can save best model only with val_loss available, skipping.\n"
     ]
    },
    {
     "name": "stdout",
     "output_type": "stream",
     "text": [
      "15/15 [==============================] - 7s 481ms/step - loss: 0.0089 - semantic_0_loss: 0.0019 - semantic_1_loss: 0.0058 - semantic_2_loss: 0.0012 - lr: 1.7399e-05\n",
      "Epoch 176/200\n",
      "15/15 [==============================] - ETA: 0s - loss: 0.0085 - semantic_0_loss: 0.0018 - semantic_1_loss: 0.0055 - semantic_2_loss: 0.0012WARNING:tensorflow:Can save best model only with val_loss available, skipping.\n"
     ]
    },
    {
     "name": "stderr",
     "output_type": "stream",
     "text": [
      "WARNING:tensorflow:Can save best model only with val_loss available, skipping.\n"
     ]
    },
    {
     "name": "stdout",
     "output_type": "stream",
     "text": [
      "15/15 [==============================] - 7s 478ms/step - loss: 0.0085 - semantic_0_loss: 0.0018 - semantic_1_loss: 0.0055 - semantic_2_loss: 0.0012 - lr: 1.7225e-05\n",
      "Epoch 177/200\n",
      "15/15 [==============================] - ETA: 0s - loss: 0.0084 - semantic_0_loss: 0.0018 - semantic_1_loss: 0.0054 - semantic_2_loss: 0.0012WARNING:tensorflow:Can save best model only with val_loss available, skipping.\n"
     ]
    },
    {
     "name": "stderr",
     "output_type": "stream",
     "text": [
      "WARNING:tensorflow:Can save best model only with val_loss available, skipping.\n"
     ]
    },
    {
     "name": "stdout",
     "output_type": "stream",
     "text": [
      "15/15 [==============================] - 8s 490ms/step - loss: 0.0084 - semantic_0_loss: 0.0018 - semantic_1_loss: 0.0054 - semantic_2_loss: 0.0012 - lr: 1.7053e-05\n",
      "Epoch 178/200\n",
      "15/15 [==============================] - ETA: 0s - loss: 0.0088 - semantic_0_loss: 0.0019 - semantic_1_loss: 0.0057 - semantic_2_loss: 0.0012WARNING:tensorflow:Can save best model only with val_loss available, skipping.\n"
     ]
    },
    {
     "name": "stderr",
     "output_type": "stream",
     "text": [
      "WARNING:tensorflow:Can save best model only with val_loss available, skipping.\n"
     ]
    },
    {
     "name": "stdout",
     "output_type": "stream",
     "text": [
      "15/15 [==============================] - 8s 489ms/step - loss: 0.0088 - semantic_0_loss: 0.0019 - semantic_1_loss: 0.0057 - semantic_2_loss: 0.0012 - lr: 1.6882e-05\n",
      "Epoch 179/200\n",
      "15/15 [==============================] - ETA: 0s - loss: 0.0083 - semantic_0_loss: 0.0017 - semantic_1_loss: 0.0054 - semantic_2_loss: 0.0012WARNING:tensorflow:Can save best model only with val_loss available, skipping.\n"
     ]
    },
    {
     "name": "stderr",
     "output_type": "stream",
     "text": [
      "WARNING:tensorflow:Can save best model only with val_loss available, skipping.\n"
     ]
    },
    {
     "name": "stdout",
     "output_type": "stream",
     "text": [
      "15/15 [==============================] - 7s 486ms/step - loss: 0.0083 - semantic_0_loss: 0.0017 - semantic_1_loss: 0.0054 - semantic_2_loss: 0.0012 - lr: 1.6713e-05\n",
      "Epoch 180/200\n",
      "15/15 [==============================] - ETA: 0s - loss: 0.0088 - semantic_0_loss: 0.0018 - semantic_1_loss: 0.0057 - semantic_2_loss: 0.0012WARNING:tensorflow:Can save best model only with val_loss available, skipping.\n"
     ]
    },
    {
     "name": "stderr",
     "output_type": "stream",
     "text": [
      "WARNING:tensorflow:Can save best model only with val_loss available, skipping.\n"
     ]
    },
    {
     "name": "stdout",
     "output_type": "stream",
     "text": [
      "15/15 [==============================] - 7s 487ms/step - loss: 0.0088 - semantic_0_loss: 0.0018 - semantic_1_loss: 0.0057 - semantic_2_loss: 0.0012 - lr: 1.6546e-05\n",
      "Epoch 181/200\n",
      "15/15 [==============================] - ETA: 0s - loss: 0.0086 - semantic_0_loss: 0.0018 - semantic_1_loss: 0.0056 - semantic_2_loss: 0.0012WARNING:tensorflow:Can save best model only with val_loss available, skipping.\n"
     ]
    },
    {
     "name": "stderr",
     "output_type": "stream",
     "text": [
      "WARNING:tensorflow:Can save best model only with val_loss available, skipping.\n"
     ]
    },
    {
     "name": "stdout",
     "output_type": "stream",
     "text": [
      "15/15 [==============================] - 8s 489ms/step - loss: 0.0086 - semantic_0_loss: 0.0018 - semantic_1_loss: 0.0056 - semantic_2_loss: 0.0012 - lr: 1.6381e-05\n",
      "Epoch 182/200\n",
      "15/15 [==============================] - ETA: 0s - loss: 0.0080 - semantic_0_loss: 0.0017 - semantic_1_loss: 0.0051 - semantic_2_loss: 0.0012WARNING:tensorflow:Can save best model only with val_loss available, skipping.\n"
     ]
    },
    {
     "name": "stderr",
     "output_type": "stream",
     "text": [
      "WARNING:tensorflow:Can save best model only with val_loss available, skipping.\n"
     ]
    },
    {
     "name": "stdout",
     "output_type": "stream",
     "text": [
      "15/15 [==============================] - 7s 477ms/step - loss: 0.0080 - semantic_0_loss: 0.0017 - semantic_1_loss: 0.0051 - semantic_2_loss: 0.0012 - lr: 1.6217e-05\n",
      "Epoch 183/200\n",
      "15/15 [==============================] - ETA: 0s - loss: 0.0084 - semantic_0_loss: 0.0018 - semantic_1_loss: 0.0054 - semantic_2_loss: 0.0012WARNING:tensorflow:Can save best model only with val_loss available, skipping.\n"
     ]
    },
    {
     "name": "stderr",
     "output_type": "stream",
     "text": [
      "WARNING:tensorflow:Can save best model only with val_loss available, skipping.\n"
     ]
    },
    {
     "name": "stdout",
     "output_type": "stream",
     "text": [
      "15/15 [==============================] - 7s 479ms/step - loss: 0.0084 - semantic_0_loss: 0.0018 - semantic_1_loss: 0.0054 - semantic_2_loss: 0.0012 - lr: 1.6055e-05\n",
      "Epoch 184/200\n",
      "15/15 [==============================] - ETA: 0s - loss: 0.0080 - semantic_0_loss: 0.0017 - semantic_1_loss: 0.0051 - semantic_2_loss: 0.0012WARNING:tensorflow:Can save best model only with val_loss available, skipping.\n"
     ]
    },
    {
     "name": "stderr",
     "output_type": "stream",
     "text": [
      "WARNING:tensorflow:Can save best model only with val_loss available, skipping.\n"
     ]
    },
    {
     "name": "stdout",
     "output_type": "stream",
     "text": [
      "15/15 [==============================] - 7s 479ms/step - loss: 0.0080 - semantic_0_loss: 0.0017 - semantic_1_loss: 0.0051 - semantic_2_loss: 0.0012 - lr: 1.5894e-05\n",
      "Epoch 185/200\n",
      "15/15 [==============================] - ETA: 0s - loss: 0.0080 - semantic_0_loss: 0.0017 - semantic_1_loss: 0.0052 - semantic_2_loss: 0.0012WARNING:tensorflow:Can save best model only with val_loss available, skipping.\n"
     ]
    },
    {
     "name": "stderr",
     "output_type": "stream",
     "text": [
      "WARNING:tensorflow:Can save best model only with val_loss available, skipping.\n"
     ]
    },
    {
     "name": "stdout",
     "output_type": "stream",
     "text": [
      "15/15 [==============================] - 7s 473ms/step - loss: 0.0080 - semantic_0_loss: 0.0017 - semantic_1_loss: 0.0052 - semantic_2_loss: 0.0012 - lr: 1.5735e-05\n",
      "Epoch 186/200\n",
      "15/15 [==============================] - ETA: 0s - loss: 0.0087 - semantic_0_loss: 0.0018 - semantic_1_loss: 0.0056 - semantic_2_loss: 0.0012WARNING:tensorflow:Can save best model only with val_loss available, skipping.\n"
     ]
    },
    {
     "name": "stderr",
     "output_type": "stream",
     "text": [
      "WARNING:tensorflow:Can save best model only with val_loss available, skipping.\n"
     ]
    },
    {
     "name": "stdout",
     "output_type": "stream",
     "text": [
      "15/15 [==============================] - 7s 481ms/step - loss: 0.0087 - semantic_0_loss: 0.0018 - semantic_1_loss: 0.0056 - semantic_2_loss: 0.0012 - lr: 1.5578e-05\n",
      "Epoch 187/200\n",
      "15/15 [==============================] - ETA: 0s - loss: 0.0085 - semantic_0_loss: 0.0018 - semantic_1_loss: 0.0056 - semantic_2_loss: 0.0012WARNING:tensorflow:Can save best model only with val_loss available, skipping.\n"
     ]
    },
    {
     "name": "stderr",
     "output_type": "stream",
     "text": [
      "WARNING:tensorflow:Can save best model only with val_loss available, skipping.\n"
     ]
    },
    {
     "name": "stdout",
     "output_type": "stream",
     "text": [
      "15/15 [==============================] - 7s 480ms/step - loss: 0.0085 - semantic_0_loss: 0.0018 - semantic_1_loss: 0.0056 - semantic_2_loss: 0.0012 - lr: 1.5422e-05\n",
      "Epoch 188/200\n",
      "15/15 [==============================] - ETA: 0s - loss: 0.0086 - semantic_0_loss: 0.0018 - semantic_1_loss: 0.0056 - semantic_2_loss: 0.0012WARNING:tensorflow:Can save best model only with val_loss available, skipping.\n"
     ]
    },
    {
     "name": "stderr",
     "output_type": "stream",
     "text": [
      "WARNING:tensorflow:Can save best model only with val_loss available, skipping.\n"
     ]
    },
    {
     "name": "stdout",
     "output_type": "stream",
     "text": [
      "15/15 [==============================] - 7s 481ms/step - loss: 0.0086 - semantic_0_loss: 0.0018 - semantic_1_loss: 0.0056 - semantic_2_loss: 0.0012 - lr: 1.5268e-05\n",
      "Epoch 189/200\n",
      "15/15 [==============================] - ETA: 0s - loss: 0.0085 - semantic_0_loss: 0.0018 - semantic_1_loss: 0.0055 - semantic_2_loss: 0.0012WARNING:tensorflow:Can save best model only with val_loss available, skipping.\n"
     ]
    },
    {
     "name": "stderr",
     "output_type": "stream",
     "text": [
      "WARNING:tensorflow:Can save best model only with val_loss available, skipping.\n"
     ]
    },
    {
     "name": "stdout",
     "output_type": "stream",
     "text": [
      "15/15 [==============================] - 8s 489ms/step - loss: 0.0085 - semantic_0_loss: 0.0018 - semantic_1_loss: 0.0055 - semantic_2_loss: 0.0012 - lr: 1.5115e-05\n",
      "Epoch 190/200\n",
      "15/15 [==============================] - ETA: 0s - loss: 0.0089 - semantic_0_loss: 0.0019 - semantic_1_loss: 0.0058 - semantic_2_loss: 0.0012WARNING:tensorflow:Can save best model only with val_loss available, skipping.\n"
     ]
    },
    {
     "name": "stderr",
     "output_type": "stream",
     "text": [
      "WARNING:tensorflow:Can save best model only with val_loss available, skipping.\n"
     ]
    },
    {
     "name": "stdout",
     "output_type": "stream",
     "text": [
      "15/15 [==============================] - 8s 487ms/step - loss: 0.0089 - semantic_0_loss: 0.0019 - semantic_1_loss: 0.0058 - semantic_2_loss: 0.0012 - lr: 1.4964e-05\n",
      "Epoch 191/200\n",
      "15/15 [==============================] - ETA: 0s - loss: 0.0086 - semantic_0_loss: 0.0018 - semantic_1_loss: 0.0055 - semantic_2_loss: 0.0012WARNING:tensorflow:Can save best model only with val_loss available, skipping.\n"
     ]
    },
    {
     "name": "stderr",
     "output_type": "stream",
     "text": [
      "WARNING:tensorflow:Can save best model only with val_loss available, skipping.\n"
     ]
    },
    {
     "name": "stdout",
     "output_type": "stream",
     "text": [
      "15/15 [==============================] - 7s 491ms/step - loss: 0.0086 - semantic_0_loss: 0.0018 - semantic_1_loss: 0.0055 - semantic_2_loss: 0.0012 - lr: 1.4814e-05\n",
      "Epoch 192/200\n",
      "15/15 [==============================] - ETA: 0s - loss: 0.0083 - semantic_0_loss: 0.0018 - semantic_1_loss: 0.0054 - semantic_2_loss: 0.0012WARNING:tensorflow:Can save best model only with val_loss available, skipping.\n"
     ]
    },
    {
     "name": "stderr",
     "output_type": "stream",
     "text": [
      "WARNING:tensorflow:Can save best model only with val_loss available, skipping.\n"
     ]
    },
    {
     "name": "stdout",
     "output_type": "stream",
     "text": [
      "15/15 [==============================] - 7s 483ms/step - loss: 0.0083 - semantic_0_loss: 0.0018 - semantic_1_loss: 0.0054 - semantic_2_loss: 0.0012 - lr: 1.4666e-05\n",
      "Epoch 193/200\n",
      "15/15 [==============================] - ETA: 0s - loss: 0.0086 - semantic_0_loss: 0.0018 - semantic_1_loss: 0.0056 - semantic_2_loss: 0.0012WARNING:tensorflow:Can save best model only with val_loss available, skipping.\n"
     ]
    },
    {
     "name": "stderr",
     "output_type": "stream",
     "text": [
      "WARNING:tensorflow:Can save best model only with val_loss available, skipping.\n"
     ]
    },
    {
     "name": "stdout",
     "output_type": "stream",
     "text": [
      "15/15 [==============================] - 7s 486ms/step - loss: 0.0086 - semantic_0_loss: 0.0018 - semantic_1_loss: 0.0056 - semantic_2_loss: 0.0012 - lr: 1.4520e-05\n",
      "Epoch 194/200\n",
      "15/15 [==============================] - ETA: 0s - loss: 0.0081 - semantic_0_loss: 0.0017 - semantic_1_loss: 0.0052 - semantic_2_loss: 0.0012WARNING:tensorflow:Can save best model only with val_loss available, skipping.\n"
     ]
    },
    {
     "name": "stderr",
     "output_type": "stream",
     "text": [
      "WARNING:tensorflow:Can save best model only with val_loss available, skipping.\n"
     ]
    },
    {
     "name": "stdout",
     "output_type": "stream",
     "text": [
      "15/15 [==============================] - 7s 483ms/step - loss: 0.0081 - semantic_0_loss: 0.0017 - semantic_1_loss: 0.0052 - semantic_2_loss: 0.0012 - lr: 1.4374e-05\n",
      "Epoch 195/200\n",
      "15/15 [==============================] - ETA: 0s - loss: 0.0083 - semantic_0_loss: 0.0017 - semantic_1_loss: 0.0053 - semantic_2_loss: 0.0012WARNING:tensorflow:Can save best model only with val_loss available, skipping.\n"
     ]
    },
    {
     "name": "stderr",
     "output_type": "stream",
     "text": [
      "WARNING:tensorflow:Can save best model only with val_loss available, skipping.\n"
     ]
    },
    {
     "name": "stdout",
     "output_type": "stream",
     "text": [
      "15/15 [==============================] - 8s 490ms/step - loss: 0.0083 - semantic_0_loss: 0.0017 - semantic_1_loss: 0.0053 - semantic_2_loss: 0.0012 - lr: 1.4231e-05\n",
      "Epoch 196/200\n",
      "15/15 [==============================] - ETA: 0s - loss: 0.0082 - semantic_0_loss: 0.0018 - semantic_1_loss: 0.0053 - semantic_2_loss: 0.0012WARNING:tensorflow:Can save best model only with val_loss available, skipping.\n"
     ]
    },
    {
     "name": "stderr",
     "output_type": "stream",
     "text": [
      "WARNING:tensorflow:Can save best model only with val_loss available, skipping.\n"
     ]
    },
    {
     "name": "stdout",
     "output_type": "stream",
     "text": [
      "15/15 [==============================] - 7s 476ms/step - loss: 0.0082 - semantic_0_loss: 0.0018 - semantic_1_loss: 0.0053 - semantic_2_loss: 0.0012 - lr: 1.4088e-05\n",
      "Epoch 197/200\n",
      "15/15 [==============================] - ETA: 0s - loss: 0.0082 - semantic_0_loss: 0.0017 - semantic_1_loss: 0.0053 - semantic_2_loss: 0.0012WARNING:tensorflow:Can save best model only with val_loss available, skipping.\n"
     ]
    },
    {
     "name": "stderr",
     "output_type": "stream",
     "text": [
      "WARNING:tensorflow:Can save best model only with val_loss available, skipping.\n"
     ]
    },
    {
     "name": "stdout",
     "output_type": "stream",
     "text": [
      "15/15 [==============================] - 7s 476ms/step - loss: 0.0082 - semantic_0_loss: 0.0017 - semantic_1_loss: 0.0053 - semantic_2_loss: 0.0012 - lr: 1.3948e-05\n",
      "Epoch 198/200\n",
      "15/15 [==============================] - ETA: 0s - loss: 0.0083 - semantic_0_loss: 0.0017 - semantic_1_loss: 0.0054 - semantic_2_loss: 0.0012WARNING:tensorflow:Can save best model only with val_loss available, skipping.\n"
     ]
    },
    {
     "name": "stderr",
     "output_type": "stream",
     "text": [
      "WARNING:tensorflow:Can save best model only with val_loss available, skipping.\n"
     ]
    },
    {
     "name": "stdout",
     "output_type": "stream",
     "text": [
      "15/15 [==============================] - 7s 482ms/step - loss: 0.0083 - semantic_0_loss: 0.0017 - semantic_1_loss: 0.0054 - semantic_2_loss: 0.0012 - lr: 1.3808e-05\n",
      "Epoch 199/200\n",
      "15/15 [==============================] - ETA: 0s - loss: 0.0086 - semantic_0_loss: 0.0018 - semantic_1_loss: 0.0056 - semantic_2_loss: 0.0012WARNING:tensorflow:Can save best model only with val_loss available, skipping.\n"
     ]
    },
    {
     "name": "stderr",
     "output_type": "stream",
     "text": [
      "WARNING:tensorflow:Can save best model only with val_loss available, skipping.\n"
     ]
    },
    {
     "name": "stdout",
     "output_type": "stream",
     "text": [
      "15/15 [==============================] - 7s 478ms/step - loss: 0.0086 - semantic_0_loss: 0.0018 - semantic_1_loss: 0.0056 - semantic_2_loss: 0.0012 - lr: 1.3670e-05\n",
      "Epoch 200/200\n",
      "15/15 [==============================] - ETA: 0s - loss: 0.0085 - semantic_0_loss: 0.0018 - semantic_1_loss: 0.0055 - semantic_2_loss: 0.0012WARNING:tensorflow:Can save best model only with val_loss available, skipping.\n"
     ]
    },
    {
     "name": "stderr",
     "output_type": "stream",
     "text": [
      "WARNING:tensorflow:Can save best model only with val_loss available, skipping.\n"
     ]
    },
    {
     "name": "stdout",
     "output_type": "stream",
     "text": [
      "15/15 [==============================] - 7s 474ms/step - loss: 0.0085 - semantic_0_loss: 0.0018 - semantic_1_loss: 0.0055 - semantic_2_loss: 0.0012 - lr: 1.3533e-05\n",
      "/home/yfong/deeplearning/dense_cell_segmentation\n",
      "['M926910_CFL_Position7_CD3_test_img.png', 'M872956_JML_Position10_CD3_test_img.png', 'M872956_JML_Position8_CD8_test_img.png', 'M926910_CFL_Position13_CD3_test_img.png', 'M872956_JML_Position8_CD3_test_img.png', 'M872956_JML_Position8_CD4_test_img.png', 'M872956_JML_Position9_CD3_test_img.png']\n",
      "M926910_CFL_Position7_CD3_test_img.png\n"
     ]
    },
    {
     "name": "stderr",
     "output_type": "stream",
     "text": [
      "/app/software/DeepCell/0.11.1-foss-2021b-CUDA-11.4.1/lib/python3.9/site-packages/deepcell_toolbox/deep_watershed.py:179: FutureWarning: `selem` is a deprecated argument name for `h_maxima`. It will be removed in version 1.0.Please use `footprint` instead.\n",
      "  markers = h_maxima(image=maxima,\n"
     ]
    },
    {
     "name": "stdout",
     "output_type": "stream",
     "text": [
      "M872956_JML_Position10_CD3_test_img.png\n",
      "M872956_JML_Position8_CD8_test_img.png\n",
      "M926910_CFL_Position13_CD3_test_img.png\n",
      "M872956_JML_Position8_CD3_test_img.png\n",
      "M872956_JML_Position8_CD4_test_img.png\n",
      "M872956_JML_Position9_CD3_test_img.png\n",
      "[[0.10911808669656203, 0.24492753623188407], [0.14065180102915953, 0.2970639032815199], [0.27586206896551724, 0.4056603773584906], [0.0975, 0.19469026548672566], [0.24610051993067592, 0.40963855421686746], [0.41379310344827586, 0.5341772151898734], [0.1868583162217659, 0.2736220472440945]]\n",
      "                                         0         1         2\n",
      "0   M926910_CFL_Position7_CD3_test_img.png  0.109118  0.244928\n",
      "1  M872956_JML_Position10_CD3_test_img.png  0.140652  0.297064\n",
      "2   M872956_JML_Position8_CD8_test_img.png  0.275862   0.40566\n",
      "3  M926910_CFL_Position13_CD3_test_img.png    0.0975   0.19469\n",
      "4   M872956_JML_Position8_CD3_test_img.png  0.246101  0.409639\n",
      "5   M872956_JML_Position8_CD4_test_img.png  0.413793  0.534177\n",
      "6   M872956_JML_Position9_CD3_test_img.png  0.186858  0.273622\n",
      "4\n",
      "(4, 1040, 1159, 1)\n",
      "(4, 1040, 1159, 1)\n",
      "3.0769230769230766\n",
      "(4, 3199, 3566, 1)\n",
      "(4, 3199, 3566, 1)\n",
      "(4, 3199, 3566, 1)\n",
      "(4, 3199, 3566, 1)\n",
      "[0, 400, 800, 1200, 2687]\n",
      "[512, 912, 1312, 1712, 3199]\n",
      "[0, 512, 1024, 1536, 3054]\n",
      "[512, 1024, 1536, 2048, 3566]\n",
      "(100, 512, 512, 1)\n",
      "(100, 512, 512, 1)\n",
      "WARNING:tensorflow:Removing 12 of 100 images with fewer than 5 objects.\n"
     ]
    },
    {
     "name": "stderr",
     "output_type": "stream",
     "text": [
      "WARNING:tensorflow:Removing 12 of 100 images with fewer than 5 objects.\n",
      "/app/software/TensorFlow/2.7.1-foss-2021b-CUDA-11.4.1/lib/python3.9/site-packages/keras/optimizer_v2/adam.py:105: UserWarning: The `lr` argument is deprecated, use `learning_rate` instead.\n",
      "  super(Adam, self).__init__(name, **kwargs)\n"
     ]
    },
    {
     "name": "stdout",
     "output_type": "stream",
     "text": [
      "Training on 3 GPUs.\n"
     ]
    },
    {
     "name": "stderr",
     "output_type": "stream",
     "text": [
      "2022-11-11 20:13:57.297855: I tensorflow/core/common_runtime/gpu/gpu_device.cc:1525] Created device /device:GPU:0 with 14657 MB memory:  -> device: 0, name: Tesla V100-PCIE-16GB, pci bus id: 0000:04:00.0, compute capability: 7.0\n",
      "2022-11-11 20:13:57.298805: I tensorflow/core/common_runtime/gpu/gpu_device.cc:1525] Created device /device:GPU:1 with 14657 MB memory:  -> device: 1, name: Tesla V100-PCIE-16GB, pci bus id: 0000:06:00.0, compute capability: 7.0\n",
      "2022-11-11 20:13:57.299748: I tensorflow/core/common_runtime/gpu/gpu_device.cc:1525] Created device /device:GPU:2 with 14657 MB memory:  -> device: 2, name: Tesla V100-PCIE-16GB, pci bus id: 0000:08:00.0, compute capability: 7.0\n"
     ]
    },
    {
     "name": "stdout",
     "output_type": "stream",
     "text": [
      "Epoch 1/200\n",
      "22/22 [==============================] - ETA: 0s - loss: 0.0192 - semantic_0_loss: 0.0032 - semantic_1_loss: 0.0136 - semantic_2_loss: 0.0024WARNING:tensorflow:Can save best model only with val_loss available, skipping.\n"
     ]
    },
    {
     "name": "stderr",
     "output_type": "stream",
     "text": [
      "WARNING:tensorflow:Can save best model only with val_loss available, skipping.\n"
     ]
    },
    {
     "name": "stdout",
     "output_type": "stream",
     "text": [
      "22/22 [==============================] - 24s 493ms/step - loss: 0.0192 - semantic_0_loss: 0.0032 - semantic_1_loss: 0.0136 - semantic_2_loss: 0.0024 - lr: 1.0000e-04\n",
      "Epoch 2/200\n",
      "22/22 [==============================] - ETA: 0s - loss: 0.0155 - semantic_0_loss: 0.0026 - semantic_1_loss: 0.0110 - semantic_2_loss: 0.0019WARNING:tensorflow:Can save best model only with val_loss available, skipping.\n"
     ]
    },
    {
     "name": "stderr",
     "output_type": "stream",
     "text": [
      "WARNING:tensorflow:Can save best model only with val_loss available, skipping.\n"
     ]
    },
    {
     "name": "stdout",
     "output_type": "stream",
     "text": [
      "22/22 [==============================] - 11s 491ms/step - loss: 0.0155 - semantic_0_loss: 0.0026 - semantic_1_loss: 0.0110 - semantic_2_loss: 0.0019 - lr: 9.9000e-05\n",
      "Epoch 3/200\n",
      "22/22 [==============================] - ETA: 0s - loss: 0.0147 - semantic_0_loss: 0.0025 - semantic_1_loss: 0.0104 - semantic_2_loss: 0.0018WARNING:tensorflow:Can save best model only with val_loss available, skipping.\n"
     ]
    },
    {
     "name": "stderr",
     "output_type": "stream",
     "text": [
      "WARNING:tensorflow:Can save best model only with val_loss available, skipping.\n"
     ]
    },
    {
     "name": "stdout",
     "output_type": "stream",
     "text": [
      "22/22 [==============================] - 11s 494ms/step - loss: 0.0147 - semantic_0_loss: 0.0025 - semantic_1_loss: 0.0104 - semantic_2_loss: 0.0018 - lr: 9.8010e-05\n",
      "Epoch 4/200\n",
      "22/22 [==============================] - ETA: 0s - loss: 0.0149 - semantic_0_loss: 0.0025 - semantic_1_loss: 0.0107 - semantic_2_loss: 0.0018WARNING:tensorflow:Can save best model only with val_loss available, skipping.\n"
     ]
    },
    {
     "name": "stderr",
     "output_type": "stream",
     "text": [
      "WARNING:tensorflow:Can save best model only with val_loss available, skipping.\n"
     ]
    },
    {
     "name": "stdout",
     "output_type": "stream",
     "text": [
      "22/22 [==============================] - 11s 486ms/step - loss: 0.0149 - semantic_0_loss: 0.0025 - semantic_1_loss: 0.0107 - semantic_2_loss: 0.0018 - lr: 9.7030e-05\n",
      "Epoch 5/200\n",
      "22/22 [==============================] - ETA: 0s - loss: 0.0139 - semantic_0_loss: 0.0024 - semantic_1_loss: 0.0098 - semantic_2_loss: 0.0017WARNING:tensorflow:Can save best model only with val_loss available, skipping.\n"
     ]
    },
    {
     "name": "stderr",
     "output_type": "stream",
     "text": [
      "WARNING:tensorflow:Can save best model only with val_loss available, skipping.\n"
     ]
    },
    {
     "name": "stdout",
     "output_type": "stream",
     "text": [
      "22/22 [==============================] - 11s 489ms/step - loss: 0.0139 - semantic_0_loss: 0.0024 - semantic_1_loss: 0.0098 - semantic_2_loss: 0.0017 - lr: 9.6060e-05\n",
      "Epoch 6/200\n",
      "22/22 [==============================] - ETA: 0s - loss: 0.0136 - semantic_0_loss: 0.0023 - semantic_1_loss: 0.0096 - semantic_2_loss: 0.0017WARNING:tensorflow:Can save best model only with val_loss available, skipping.\n"
     ]
    },
    {
     "name": "stderr",
     "output_type": "stream",
     "text": [
      "WARNING:tensorflow:Can save best model only with val_loss available, skipping.\n"
     ]
    },
    {
     "name": "stdout",
     "output_type": "stream",
     "text": [
      "22/22 [==============================] - 11s 490ms/step - loss: 0.0136 - semantic_0_loss: 0.0023 - semantic_1_loss: 0.0096 - semantic_2_loss: 0.0017 - lr: 9.5099e-05\n",
      "Epoch 7/200\n",
      "22/22 [==============================] - ETA: 0s - loss: 0.0137 - semantic_0_loss: 0.0024 - semantic_1_loss: 0.0097 - semantic_2_loss: 0.0017WARNING:tensorflow:Can save best model only with val_loss available, skipping.\n"
     ]
    },
    {
     "name": "stderr",
     "output_type": "stream",
     "text": [
      "WARNING:tensorflow:Can save best model only with val_loss available, skipping.\n"
     ]
    },
    {
     "name": "stdout",
     "output_type": "stream",
     "text": [
      "22/22 [==============================] - 11s 488ms/step - loss: 0.0137 - semantic_0_loss: 0.0024 - semantic_1_loss: 0.0097 - semantic_2_loss: 0.0017 - lr: 9.4148e-05\n",
      "Epoch 8/200\n",
      "22/22 [==============================] - ETA: 0s - loss: 0.0133 - semantic_0_loss: 0.0023 - semantic_1_loss: 0.0093 - semantic_2_loss: 0.0016WARNING:tensorflow:Can save best model only with val_loss available, skipping.\n"
     ]
    },
    {
     "name": "stderr",
     "output_type": "stream",
     "text": [
      "WARNING:tensorflow:Can save best model only with val_loss available, skipping.\n"
     ]
    },
    {
     "name": "stdout",
     "output_type": "stream",
     "text": [
      "22/22 [==============================] - 11s 491ms/step - loss: 0.0133 - semantic_0_loss: 0.0023 - semantic_1_loss: 0.0093 - semantic_2_loss: 0.0016 - lr: 9.3207e-05\n",
      "Epoch 9/200\n",
      "22/22 [==============================] - ETA: 0s - loss: 0.0136 - semantic_0_loss: 0.0024 - semantic_1_loss: 0.0096 - semantic_2_loss: 0.0017WARNING:tensorflow:Can save best model only with val_loss available, skipping.\n"
     ]
    },
    {
     "name": "stderr",
     "output_type": "stream",
     "text": [
      "WARNING:tensorflow:Can save best model only with val_loss available, skipping.\n"
     ]
    },
    {
     "name": "stdout",
     "output_type": "stream",
     "text": [
      "22/22 [==============================] - 11s 489ms/step - loss: 0.0136 - semantic_0_loss: 0.0024 - semantic_1_loss: 0.0096 - semantic_2_loss: 0.0017 - lr: 9.2274e-05\n",
      "Epoch 10/200\n",
      "22/22 [==============================] - ETA: 0s - loss: 0.0133 - semantic_0_loss: 0.0023 - semantic_1_loss: 0.0093 - semantic_2_loss: 0.0017WARNING:tensorflow:Can save best model only with val_loss available, skipping.\n"
     ]
    },
    {
     "name": "stderr",
     "output_type": "stream",
     "text": [
      "WARNING:tensorflow:Can save best model only with val_loss available, skipping.\n"
     ]
    },
    {
     "name": "stdout",
     "output_type": "stream",
     "text": [
      "22/22 [==============================] - 11s 491ms/step - loss: 0.0133 - semantic_0_loss: 0.0023 - semantic_1_loss: 0.0093 - semantic_2_loss: 0.0017 - lr: 9.1352e-05\n",
      "Epoch 11/200\n",
      "22/22 [==============================] - ETA: 0s - loss: 0.0135 - semantic_0_loss: 0.0023 - semantic_1_loss: 0.0095 - semantic_2_loss: 0.0017WARNING:tensorflow:Can save best model only with val_loss available, skipping.\n"
     ]
    },
    {
     "name": "stderr",
     "output_type": "stream",
     "text": [
      "WARNING:tensorflow:Can save best model only with val_loss available, skipping.\n"
     ]
    },
    {
     "name": "stdout",
     "output_type": "stream",
     "text": [
      "22/22 [==============================] - 11s 491ms/step - loss: 0.0135 - semantic_0_loss: 0.0023 - semantic_1_loss: 0.0095 - semantic_2_loss: 0.0017 - lr: 9.0438e-05\n",
      "Epoch 12/200\n",
      "22/22 [==============================] - ETA: 0s - loss: 0.0129 - semantic_0_loss: 0.0023 - semantic_1_loss: 0.0091 - semantic_2_loss: 0.0016WARNING:tensorflow:Can save best model only with val_loss available, skipping.\n"
     ]
    },
    {
     "name": "stderr",
     "output_type": "stream",
     "text": [
      "WARNING:tensorflow:Can save best model only with val_loss available, skipping.\n"
     ]
    },
    {
     "name": "stdout",
     "output_type": "stream",
     "text": [
      "22/22 [==============================] - 11s 489ms/step - loss: 0.0129 - semantic_0_loss: 0.0023 - semantic_1_loss: 0.0091 - semantic_2_loss: 0.0016 - lr: 8.9534e-05\n",
      "Epoch 13/200\n",
      "22/22 [==============================] - ETA: 0s - loss: 0.0129 - semantic_0_loss: 0.0022 - semantic_1_loss: 0.0091 - semantic_2_loss: 0.0016WARNING:tensorflow:Can save best model only with val_loss available, skipping.\n"
     ]
    },
    {
     "name": "stderr",
     "output_type": "stream",
     "text": [
      "WARNING:tensorflow:Can save best model only with val_loss available, skipping.\n"
     ]
    },
    {
     "name": "stdout",
     "output_type": "stream",
     "text": [
      "22/22 [==============================] - 11s 487ms/step - loss: 0.0129 - semantic_0_loss: 0.0022 - semantic_1_loss: 0.0091 - semantic_2_loss: 0.0016 - lr: 8.8638e-05\n",
      "Epoch 14/200\n",
      "22/22 [==============================] - ETA: 0s - loss: 0.0128 - semantic_0_loss: 0.0022 - semantic_1_loss: 0.0090 - semantic_2_loss: 0.0016WARNING:tensorflow:Can save best model only with val_loss available, skipping.\n"
     ]
    },
    {
     "name": "stderr",
     "output_type": "stream",
     "text": [
      "WARNING:tensorflow:Can save best model only with val_loss available, skipping.\n"
     ]
    },
    {
     "name": "stdout",
     "output_type": "stream",
     "text": [
      "22/22 [==============================] - 11s 496ms/step - loss: 0.0128 - semantic_0_loss: 0.0022 - semantic_1_loss: 0.0090 - semantic_2_loss: 0.0016 - lr: 8.7752e-05\n",
      "Epoch 15/200\n",
      "22/22 [==============================] - ETA: 0s - loss: 0.0131 - semantic_0_loss: 0.0023 - semantic_1_loss: 0.0092 - semantic_2_loss: 0.0016WARNING:tensorflow:Can save best model only with val_loss available, skipping.\n"
     ]
    },
    {
     "name": "stderr",
     "output_type": "stream",
     "text": [
      "WARNING:tensorflow:Can save best model only with val_loss available, skipping.\n"
     ]
    },
    {
     "name": "stdout",
     "output_type": "stream",
     "text": [
      "22/22 [==============================] - 11s 491ms/step - loss: 0.0131 - semantic_0_loss: 0.0023 - semantic_1_loss: 0.0092 - semantic_2_loss: 0.0016 - lr: 8.6875e-05\n",
      "Epoch 16/200\n",
      "22/22 [==============================] - ETA: 0s - loss: 0.0127 - semantic_0_loss: 0.0022 - semantic_1_loss: 0.0089 - semantic_2_loss: 0.0016WARNING:tensorflow:Can save best model only with val_loss available, skipping.\n"
     ]
    },
    {
     "name": "stderr",
     "output_type": "stream",
     "text": [
      "WARNING:tensorflow:Can save best model only with val_loss available, skipping.\n"
     ]
    },
    {
     "name": "stdout",
     "output_type": "stream",
     "text": [
      "22/22 [==============================] - 11s 483ms/step - loss: 0.0127 - semantic_0_loss: 0.0022 - semantic_1_loss: 0.0089 - semantic_2_loss: 0.0016 - lr: 8.6006e-05\n",
      "Epoch 17/200\n",
      "22/22 [==============================] - ETA: 0s - loss: 0.0127 - semantic_0_loss: 0.0022 - semantic_1_loss: 0.0089 - semantic_2_loss: 0.0016WARNING:tensorflow:Can save best model only with val_loss available, skipping.\n"
     ]
    },
    {
     "name": "stderr",
     "output_type": "stream",
     "text": [
      "WARNING:tensorflow:Can save best model only with val_loss available, skipping.\n"
     ]
    },
    {
     "name": "stdout",
     "output_type": "stream",
     "text": [
      "22/22 [==============================] - 11s 487ms/step - loss: 0.0127 - semantic_0_loss: 0.0022 - semantic_1_loss: 0.0089 - semantic_2_loss: 0.0016 - lr: 8.5146e-05\n",
      "Epoch 18/200\n",
      "22/22 [==============================] - ETA: 0s - loss: 0.0126 - semantic_0_loss: 0.0022 - semantic_1_loss: 0.0088 - semantic_2_loss: 0.0016WARNING:tensorflow:Can save best model only with val_loss available, skipping.\n"
     ]
    },
    {
     "name": "stderr",
     "output_type": "stream",
     "text": [
      "WARNING:tensorflow:Can save best model only with val_loss available, skipping.\n"
     ]
    },
    {
     "name": "stdout",
     "output_type": "stream",
     "text": [
      "22/22 [==============================] - 11s 489ms/step - loss: 0.0126 - semantic_0_loss: 0.0022 - semantic_1_loss: 0.0088 - semantic_2_loss: 0.0016 - lr: 8.4294e-05\n",
      "Epoch 19/200\n",
      "22/22 [==============================] - ETA: 0s - loss: 0.0128 - semantic_0_loss: 0.0023 - semantic_1_loss: 0.0089 - semantic_2_loss: 0.0016WARNING:tensorflow:Can save best model only with val_loss available, skipping.\n"
     ]
    },
    {
     "name": "stderr",
     "output_type": "stream",
     "text": [
      "WARNING:tensorflow:Can save best model only with val_loss available, skipping.\n"
     ]
    },
    {
     "name": "stdout",
     "output_type": "stream",
     "text": [
      "22/22 [==============================] - 11s 493ms/step - loss: 0.0128 - semantic_0_loss: 0.0023 - semantic_1_loss: 0.0089 - semantic_2_loss: 0.0016 - lr: 8.3451e-05\n",
      "Epoch 20/200\n",
      "22/22 [==============================] - ETA: 0s - loss: 0.0126 - semantic_0_loss: 0.0023 - semantic_1_loss: 0.0088 - semantic_2_loss: 0.0015WARNING:tensorflow:Can save best model only with val_loss available, skipping.\n"
     ]
    },
    {
     "name": "stderr",
     "output_type": "stream",
     "text": [
      "WARNING:tensorflow:Can save best model only with val_loss available, skipping.\n"
     ]
    },
    {
     "name": "stdout",
     "output_type": "stream",
     "text": [
      "22/22 [==============================] - 11s 487ms/step - loss: 0.0126 - semantic_0_loss: 0.0023 - semantic_1_loss: 0.0088 - semantic_2_loss: 0.0015 - lr: 8.2617e-05\n",
      "Epoch 21/200\n",
      "22/22 [==============================] - ETA: 0s - loss: 0.0124 - semantic_0_loss: 0.0022 - semantic_1_loss: 0.0086 - semantic_2_loss: 0.0015WARNING:tensorflow:Can save best model only with val_loss available, skipping.\n"
     ]
    },
    {
     "name": "stderr",
     "output_type": "stream",
     "text": [
      "WARNING:tensorflow:Can save best model only with val_loss available, skipping.\n"
     ]
    },
    {
     "name": "stdout",
     "output_type": "stream",
     "text": [
      "22/22 [==============================] - 11s 490ms/step - loss: 0.0124 - semantic_0_loss: 0.0022 - semantic_1_loss: 0.0086 - semantic_2_loss: 0.0015 - lr: 8.1791e-05\n",
      "Epoch 22/200\n",
      "22/22 [==============================] - ETA: 0s - loss: 0.0122 - semantic_0_loss: 0.0022 - semantic_1_loss: 0.0085 - semantic_2_loss: 0.0015WARNING:tensorflow:Can save best model only with val_loss available, skipping.\n"
     ]
    },
    {
     "name": "stderr",
     "output_type": "stream",
     "text": [
      "WARNING:tensorflow:Can save best model only with val_loss available, skipping.\n"
     ]
    },
    {
     "name": "stdout",
     "output_type": "stream",
     "text": [
      "22/22 [==============================] - 11s 493ms/step - loss: 0.0122 - semantic_0_loss: 0.0022 - semantic_1_loss: 0.0085 - semantic_2_loss: 0.0015 - lr: 8.0973e-05\n",
      "Epoch 23/200\n",
      "22/22 [==============================] - ETA: 0s - loss: 0.0124 - semantic_0_loss: 0.0022 - semantic_1_loss: 0.0087 - semantic_2_loss: 0.0015WARNING:tensorflow:Can save best model only with val_loss available, skipping.\n"
     ]
    },
    {
     "name": "stderr",
     "output_type": "stream",
     "text": [
      "WARNING:tensorflow:Can save best model only with val_loss available, skipping.\n"
     ]
    },
    {
     "name": "stdout",
     "output_type": "stream",
     "text": [
      "22/22 [==============================] - 11s 487ms/step - loss: 0.0124 - semantic_0_loss: 0.0022 - semantic_1_loss: 0.0087 - semantic_2_loss: 0.0015 - lr: 8.0163e-05\n",
      "Epoch 24/200\n",
      "22/22 [==============================] - ETA: 0s - loss: 0.0124 - semantic_0_loss: 0.0022 - semantic_1_loss: 0.0087 - semantic_2_loss: 0.0015WARNING:tensorflow:Can save best model only with val_loss available, skipping.\n"
     ]
    },
    {
     "name": "stderr",
     "output_type": "stream",
     "text": [
      "WARNING:tensorflow:Can save best model only with val_loss available, skipping.\n"
     ]
    },
    {
     "name": "stdout",
     "output_type": "stream",
     "text": [
      "22/22 [==============================] - 11s 497ms/step - loss: 0.0124 - semantic_0_loss: 0.0022 - semantic_1_loss: 0.0087 - semantic_2_loss: 0.0015 - lr: 7.9361e-05\n",
      "Epoch 25/200\n",
      "22/22 [==============================] - ETA: 0s - loss: 0.0124 - semantic_0_loss: 0.0023 - semantic_1_loss: 0.0086 - semantic_2_loss: 0.0015WARNING:tensorflow:Can save best model only with val_loss available, skipping.\n"
     ]
    },
    {
     "name": "stderr",
     "output_type": "stream",
     "text": [
      "WARNING:tensorflow:Can save best model only with val_loss available, skipping.\n"
     ]
    },
    {
     "name": "stdout",
     "output_type": "stream",
     "text": [
      "22/22 [==============================] - 11s 485ms/step - loss: 0.0124 - semantic_0_loss: 0.0023 - semantic_1_loss: 0.0086 - semantic_2_loss: 0.0015 - lr: 7.8568e-05\n",
      "Epoch 26/200\n",
      "22/22 [==============================] - ETA: 0s - loss: 0.0122 - semantic_0_loss: 0.0021 - semantic_1_loss: 0.0085 - semantic_2_loss: 0.0015WARNING:tensorflow:Can save best model only with val_loss available, skipping.\n"
     ]
    },
    {
     "name": "stderr",
     "output_type": "stream",
     "text": [
      "WARNING:tensorflow:Can save best model only with val_loss available, skipping.\n"
     ]
    },
    {
     "name": "stdout",
     "output_type": "stream",
     "text": [
      "22/22 [==============================] - 11s 487ms/step - loss: 0.0122 - semantic_0_loss: 0.0021 - semantic_1_loss: 0.0085 - semantic_2_loss: 0.0015 - lr: 7.7782e-05\n",
      "Epoch 27/200\n",
      "22/22 [==============================] - ETA: 0s - loss: 0.0119 - semantic_0_loss: 0.0022 - semantic_1_loss: 0.0082 - semantic_2_loss: 0.0015WARNING:tensorflow:Can save best model only with val_loss available, skipping.\n"
     ]
    },
    {
     "name": "stderr",
     "output_type": "stream",
     "text": [
      "WARNING:tensorflow:Can save best model only with val_loss available, skipping.\n"
     ]
    },
    {
     "name": "stdout",
     "output_type": "stream",
     "text": [
      "22/22 [==============================] - 11s 484ms/step - loss: 0.0119 - semantic_0_loss: 0.0022 - semantic_1_loss: 0.0082 - semantic_2_loss: 0.0015 - lr: 7.7004e-05\n",
      "Epoch 28/200\n",
      "22/22 [==============================] - ETA: 0s - loss: 0.0124 - semantic_0_loss: 0.0022 - semantic_1_loss: 0.0086 - semantic_2_loss: 0.0016WARNING:tensorflow:Can save best model only with val_loss available, skipping.\n"
     ]
    },
    {
     "name": "stderr",
     "output_type": "stream",
     "text": [
      "WARNING:tensorflow:Can save best model only with val_loss available, skipping.\n"
     ]
    },
    {
     "name": "stdout",
     "output_type": "stream",
     "text": [
      "22/22 [==============================] - 11s 488ms/step - loss: 0.0124 - semantic_0_loss: 0.0022 - semantic_1_loss: 0.0086 - semantic_2_loss: 0.0016 - lr: 7.6234e-05\n",
      "Epoch 29/200\n",
      "22/22 [==============================] - ETA: 0s - loss: 0.0121 - semantic_0_loss: 0.0022 - semantic_1_loss: 0.0084 - semantic_2_loss: 0.0015WARNING:tensorflow:Can save best model only with val_loss available, skipping.\n"
     ]
    },
    {
     "name": "stderr",
     "output_type": "stream",
     "text": [
      "WARNING:tensorflow:Can save best model only with val_loss available, skipping.\n"
     ]
    },
    {
     "name": "stdout",
     "output_type": "stream",
     "text": [
      "22/22 [==============================] - 11s 497ms/step - loss: 0.0121 - semantic_0_loss: 0.0022 - semantic_1_loss: 0.0084 - semantic_2_loss: 0.0015 - lr: 7.5472e-05\n",
      "Epoch 30/200\n",
      "22/22 [==============================] - ETA: 0s - loss: 0.0119 - semantic_0_loss: 0.0022 - semantic_1_loss: 0.0082 - semantic_2_loss: 0.0015WARNING:tensorflow:Can save best model only with val_loss available, skipping.\n"
     ]
    },
    {
     "name": "stderr",
     "output_type": "stream",
     "text": [
      "WARNING:tensorflow:Can save best model only with val_loss available, skipping.\n"
     ]
    },
    {
     "name": "stdout",
     "output_type": "stream",
     "text": [
      "22/22 [==============================] - 11s 485ms/step - loss: 0.0119 - semantic_0_loss: 0.0022 - semantic_1_loss: 0.0082 - semantic_2_loss: 0.0015 - lr: 7.4717e-05\n",
      "Epoch 31/200\n",
      "22/22 [==============================] - ETA: 0s - loss: 0.0121 - semantic_0_loss: 0.0022 - semantic_1_loss: 0.0084 - semantic_2_loss: 0.0015WARNING:tensorflow:Can save best model only with val_loss available, skipping.\n"
     ]
    },
    {
     "name": "stderr",
     "output_type": "stream",
     "text": [
      "WARNING:tensorflow:Can save best model only with val_loss available, skipping.\n"
     ]
    },
    {
     "name": "stdout",
     "output_type": "stream",
     "text": [
      "22/22 [==============================] - 11s 489ms/step - loss: 0.0121 - semantic_0_loss: 0.0022 - semantic_1_loss: 0.0084 - semantic_2_loss: 0.0015 - lr: 7.3970e-05\n",
      "Epoch 32/200\n",
      "22/22 [==============================] - ETA: 0s - loss: 0.0119 - semantic_0_loss: 0.0022 - semantic_1_loss: 0.0082 - semantic_2_loss: 0.0015WARNING:tensorflow:Can save best model only with val_loss available, skipping.\n"
     ]
    },
    {
     "name": "stderr",
     "output_type": "stream",
     "text": [
      "WARNING:tensorflow:Can save best model only with val_loss available, skipping.\n"
     ]
    },
    {
     "name": "stdout",
     "output_type": "stream",
     "text": [
      "22/22 [==============================] - 11s 498ms/step - loss: 0.0119 - semantic_0_loss: 0.0022 - semantic_1_loss: 0.0082 - semantic_2_loss: 0.0015 - lr: 7.3230e-05\n",
      "Epoch 33/200\n",
      "22/22 [==============================] - ETA: 0s - loss: 0.0116 - semantic_0_loss: 0.0021 - semantic_1_loss: 0.0080 - semantic_2_loss: 0.0015WARNING:tensorflow:Can save best model only with val_loss available, skipping.\n"
     ]
    },
    {
     "name": "stderr",
     "output_type": "stream",
     "text": [
      "WARNING:tensorflow:Can save best model only with val_loss available, skipping.\n"
     ]
    },
    {
     "name": "stdout",
     "output_type": "stream",
     "text": [
      "22/22 [==============================] - 11s 485ms/step - loss: 0.0116 - semantic_0_loss: 0.0021 - semantic_1_loss: 0.0080 - semantic_2_loss: 0.0015 - lr: 7.2498e-05\n",
      "Epoch 34/200\n",
      "22/22 [==============================] - ETA: 0s - loss: 0.0116 - semantic_0_loss: 0.0021 - semantic_1_loss: 0.0080 - semantic_2_loss: 0.0015WARNING:tensorflow:Can save best model only with val_loss available, skipping.\n"
     ]
    },
    {
     "name": "stderr",
     "output_type": "stream",
     "text": [
      "WARNING:tensorflow:Can save best model only with val_loss available, skipping.\n"
     ]
    },
    {
     "name": "stdout",
     "output_type": "stream",
     "text": [
      "22/22 [==============================] - 11s 487ms/step - loss: 0.0116 - semantic_0_loss: 0.0021 - semantic_1_loss: 0.0080 - semantic_2_loss: 0.0015 - lr: 7.1773e-05\n",
      "Epoch 35/200\n",
      "22/22 [==============================] - ETA: 0s - loss: 0.0117 - semantic_0_loss: 0.0022 - semantic_1_loss: 0.0081 - semantic_2_loss: 0.0014WARNING:tensorflow:Can save best model only with val_loss available, skipping.\n"
     ]
    },
    {
     "name": "stderr",
     "output_type": "stream",
     "text": [
      "WARNING:tensorflow:Can save best model only with val_loss available, skipping.\n"
     ]
    },
    {
     "name": "stdout",
     "output_type": "stream",
     "text": [
      "22/22 [==============================] - 11s 491ms/step - loss: 0.0117 - semantic_0_loss: 0.0022 - semantic_1_loss: 0.0081 - semantic_2_loss: 0.0014 - lr: 7.1055e-05\n",
      "Epoch 36/200\n",
      "22/22 [==============================] - ETA: 0s - loss: 0.0119 - semantic_0_loss: 0.0022 - semantic_1_loss: 0.0082 - semantic_2_loss: 0.0015WARNING:tensorflow:Can save best model only with val_loss available, skipping.\n"
     ]
    },
    {
     "name": "stderr",
     "output_type": "stream",
     "text": [
      "WARNING:tensorflow:Can save best model only with val_loss available, skipping.\n"
     ]
    },
    {
     "name": "stdout",
     "output_type": "stream",
     "text": [
      "22/22 [==============================] - 11s 487ms/step - loss: 0.0119 - semantic_0_loss: 0.0022 - semantic_1_loss: 0.0082 - semantic_2_loss: 0.0015 - lr: 7.0345e-05\n",
      "Epoch 37/200\n",
      "22/22 [==============================] - ETA: 0s - loss: 0.0117 - semantic_0_loss: 0.0021 - semantic_1_loss: 0.0080 - semantic_2_loss: 0.0015WARNING:tensorflow:Can save best model only with val_loss available, skipping.\n"
     ]
    },
    {
     "name": "stderr",
     "output_type": "stream",
     "text": [
      "WARNING:tensorflow:Can save best model only with val_loss available, skipping.\n"
     ]
    },
    {
     "name": "stdout",
     "output_type": "stream",
     "text": [
      "22/22 [==============================] - 11s 493ms/step - loss: 0.0117 - semantic_0_loss: 0.0021 - semantic_1_loss: 0.0080 - semantic_2_loss: 0.0015 - lr: 6.9641e-05\n",
      "Epoch 38/200\n",
      "22/22 [==============================] - ETA: 0s - loss: 0.0113 - semantic_0_loss: 0.0021 - semantic_1_loss: 0.0078 - semantic_2_loss: 0.0014WARNING:tensorflow:Can save best model only with val_loss available, skipping.\n"
     ]
    },
    {
     "name": "stderr",
     "output_type": "stream",
     "text": [
      "WARNING:tensorflow:Can save best model only with val_loss available, skipping.\n"
     ]
    },
    {
     "name": "stdout",
     "output_type": "stream",
     "text": [
      "22/22 [==============================] - 11s 489ms/step - loss: 0.0113 - semantic_0_loss: 0.0021 - semantic_1_loss: 0.0078 - semantic_2_loss: 0.0014 - lr: 6.8945e-05\n",
      "Epoch 39/200\n",
      "22/22 [==============================] - ETA: 0s - loss: 0.0115 - semantic_0_loss: 0.0021 - semantic_1_loss: 0.0080 - semantic_2_loss: 0.0015WARNING:tensorflow:Can save best model only with val_loss available, skipping.\n"
     ]
    },
    {
     "name": "stderr",
     "output_type": "stream",
     "text": [
      "WARNING:tensorflow:Can save best model only with val_loss available, skipping.\n"
     ]
    },
    {
     "name": "stdout",
     "output_type": "stream",
     "text": [
      "22/22 [==============================] - 11s 493ms/step - loss: 0.0115 - semantic_0_loss: 0.0021 - semantic_1_loss: 0.0080 - semantic_2_loss: 0.0015 - lr: 6.8255e-05\n",
      "Epoch 40/200\n",
      "22/22 [==============================] - ETA: 0s - loss: 0.0113 - semantic_0_loss: 0.0021 - semantic_1_loss: 0.0078 - semantic_2_loss: 0.0014WARNING:tensorflow:Can save best model only with val_loss available, skipping.\n"
     ]
    },
    {
     "name": "stderr",
     "output_type": "stream",
     "text": [
      "WARNING:tensorflow:Can save best model only with val_loss available, skipping.\n"
     ]
    },
    {
     "name": "stdout",
     "output_type": "stream",
     "text": [
      "22/22 [==============================] - 11s 495ms/step - loss: 0.0113 - semantic_0_loss: 0.0021 - semantic_1_loss: 0.0078 - semantic_2_loss: 0.0014 - lr: 6.7573e-05\n",
      "Epoch 41/200\n",
      "22/22 [==============================] - ETA: 0s - loss: 0.0112 - semantic_0_loss: 0.0021 - semantic_1_loss: 0.0077 - semantic_2_loss: 0.0014WARNING:tensorflow:Can save best model only with val_loss available, skipping.\n"
     ]
    },
    {
     "name": "stderr",
     "output_type": "stream",
     "text": [
      "WARNING:tensorflow:Can save best model only with val_loss available, skipping.\n"
     ]
    },
    {
     "name": "stdout",
     "output_type": "stream",
     "text": [
      "22/22 [==============================] - 11s 489ms/step - loss: 0.0112 - semantic_0_loss: 0.0021 - semantic_1_loss: 0.0077 - semantic_2_loss: 0.0014 - lr: 6.6897e-05\n",
      "Epoch 42/200\n",
      "22/22 [==============================] - ETA: 0s - loss: 0.0115 - semantic_0_loss: 0.0021 - semantic_1_loss: 0.0079 - semantic_2_loss: 0.0014WARNING:tensorflow:Can save best model only with val_loss available, skipping.\n"
     ]
    },
    {
     "name": "stderr",
     "output_type": "stream",
     "text": [
      "WARNING:tensorflow:Can save best model only with val_loss available, skipping.\n"
     ]
    },
    {
     "name": "stdout",
     "output_type": "stream",
     "text": [
      "22/22 [==============================] - 11s 486ms/step - loss: 0.0115 - semantic_0_loss: 0.0021 - semantic_1_loss: 0.0079 - semantic_2_loss: 0.0014 - lr: 6.6228e-05\n",
      "Epoch 43/200\n",
      "22/22 [==============================] - ETA: 0s - loss: 0.0114 - semantic_0_loss: 0.0021 - semantic_1_loss: 0.0078 - semantic_2_loss: 0.0015WARNING:tensorflow:Can save best model only with val_loss available, skipping.\n"
     ]
    },
    {
     "name": "stderr",
     "output_type": "stream",
     "text": [
      "WARNING:tensorflow:Can save best model only with val_loss available, skipping.\n"
     ]
    },
    {
     "name": "stdout",
     "output_type": "stream",
     "text": [
      "22/22 [==============================] - 11s 496ms/step - loss: 0.0114 - semantic_0_loss: 0.0021 - semantic_1_loss: 0.0078 - semantic_2_loss: 0.0015 - lr: 6.5566e-05\n",
      "Epoch 44/200\n",
      "22/22 [==============================] - ETA: 0s - loss: 0.0112 - semantic_0_loss: 0.0021 - semantic_1_loss: 0.0077 - semantic_2_loss: 0.0014WARNING:tensorflow:Can save best model only with val_loss available, skipping.\n"
     ]
    },
    {
     "name": "stderr",
     "output_type": "stream",
     "text": [
      "WARNING:tensorflow:Can save best model only with val_loss available, skipping.\n"
     ]
    },
    {
     "name": "stdout",
     "output_type": "stream",
     "text": [
      "22/22 [==============================] - 11s 484ms/step - loss: 0.0112 - semantic_0_loss: 0.0021 - semantic_1_loss: 0.0077 - semantic_2_loss: 0.0014 - lr: 6.4910e-05\n",
      "Epoch 45/200\n",
      "22/22 [==============================] - ETA: 0s - loss: 0.0112 - semantic_0_loss: 0.0021 - semantic_1_loss: 0.0077 - semantic_2_loss: 0.0014WARNING:tensorflow:Can save best model only with val_loss available, skipping.\n"
     ]
    },
    {
     "name": "stderr",
     "output_type": "stream",
     "text": [
      "WARNING:tensorflow:Can save best model only with val_loss available, skipping.\n"
     ]
    },
    {
     "name": "stdout",
     "output_type": "stream",
     "text": [
      "22/22 [==============================] - 11s 499ms/step - loss: 0.0112 - semantic_0_loss: 0.0021 - semantic_1_loss: 0.0077 - semantic_2_loss: 0.0014 - lr: 6.4261e-05\n",
      "Epoch 46/200\n",
      "22/22 [==============================] - ETA: 0s - loss: 0.0110 - semantic_0_loss: 0.0021 - semantic_1_loss: 0.0075 - semantic_2_loss: 0.0014WARNING:tensorflow:Can save best model only with val_loss available, skipping.\n"
     ]
    },
    {
     "name": "stderr",
     "output_type": "stream",
     "text": [
      "WARNING:tensorflow:Can save best model only with val_loss available, skipping.\n"
     ]
    },
    {
     "name": "stdout",
     "output_type": "stream",
     "text": [
      "22/22 [==============================] - 11s 491ms/step - loss: 0.0110 - semantic_0_loss: 0.0021 - semantic_1_loss: 0.0075 - semantic_2_loss: 0.0014 - lr: 6.3619e-05\n",
      "Epoch 47/200\n",
      "22/22 [==============================] - ETA: 0s - loss: 0.0110 - semantic_0_loss: 0.0021 - semantic_1_loss: 0.0075 - semantic_2_loss: 0.0014WARNING:tensorflow:Can save best model only with val_loss available, skipping.\n"
     ]
    },
    {
     "name": "stderr",
     "output_type": "stream",
     "text": [
      "WARNING:tensorflow:Can save best model only with val_loss available, skipping.\n"
     ]
    },
    {
     "name": "stdout",
     "output_type": "stream",
     "text": [
      "22/22 [==============================] - 11s 489ms/step - loss: 0.0110 - semantic_0_loss: 0.0021 - semantic_1_loss: 0.0075 - semantic_2_loss: 0.0014 - lr: 6.2982e-05\n",
      "Epoch 48/200\n",
      "22/22 [==============================] - ETA: 0s - loss: 0.0111 - semantic_0_loss: 0.0021 - semantic_1_loss: 0.0076 - semantic_2_loss: 0.0014WARNING:tensorflow:Can save best model only with val_loss available, skipping.\n"
     ]
    },
    {
     "name": "stderr",
     "output_type": "stream",
     "text": [
      "WARNING:tensorflow:Can save best model only with val_loss available, skipping.\n"
     ]
    },
    {
     "name": "stdout",
     "output_type": "stream",
     "text": [
      "22/22 [==============================] - 11s 490ms/step - loss: 0.0111 - semantic_0_loss: 0.0021 - semantic_1_loss: 0.0076 - semantic_2_loss: 0.0014 - lr: 6.2353e-05\n",
      "Epoch 49/200\n",
      "22/22 [==============================] - ETA: 0s - loss: 0.0114 - semantic_0_loss: 0.0022 - semantic_1_loss: 0.0078 - semantic_2_loss: 0.0014WARNING:tensorflow:Can save best model only with val_loss available, skipping.\n"
     ]
    },
    {
     "name": "stderr",
     "output_type": "stream",
     "text": [
      "WARNING:tensorflow:Can save best model only with val_loss available, skipping.\n"
     ]
    },
    {
     "name": "stdout",
     "output_type": "stream",
     "text": [
      "22/22 [==============================] - 11s 484ms/step - loss: 0.0114 - semantic_0_loss: 0.0022 - semantic_1_loss: 0.0078 - semantic_2_loss: 0.0014 - lr: 6.1729e-05\n",
      "Epoch 50/200\n",
      "22/22 [==============================] - ETA: 0s - loss: 0.0110 - semantic_0_loss: 0.0021 - semantic_1_loss: 0.0075 - semantic_2_loss: 0.0014WARNING:tensorflow:Can save best model only with val_loss available, skipping.\n"
     ]
    },
    {
     "name": "stderr",
     "output_type": "stream",
     "text": [
      "WARNING:tensorflow:Can save best model only with val_loss available, skipping.\n"
     ]
    },
    {
     "name": "stdout",
     "output_type": "stream",
     "text": [
      "22/22 [==============================] - 11s 496ms/step - loss: 0.0110 - semantic_0_loss: 0.0021 - semantic_1_loss: 0.0075 - semantic_2_loss: 0.0014 - lr: 6.1112e-05\n",
      "Epoch 51/200\n",
      "22/22 [==============================] - ETA: 0s - loss: 0.0111 - semantic_0_loss: 0.0021 - semantic_1_loss: 0.0075 - semantic_2_loss: 0.0014WARNING:tensorflow:Can save best model only with val_loss available, skipping.\n"
     ]
    },
    {
     "name": "stderr",
     "output_type": "stream",
     "text": [
      "WARNING:tensorflow:Can save best model only with val_loss available, skipping.\n"
     ]
    },
    {
     "name": "stdout",
     "output_type": "stream",
     "text": [
      "22/22 [==============================] - 11s 499ms/step - loss: 0.0111 - semantic_0_loss: 0.0021 - semantic_1_loss: 0.0075 - semantic_2_loss: 0.0014 - lr: 6.0501e-05\n",
      "Epoch 52/200\n",
      "22/22 [==============================] - ETA: 0s - loss: 0.0108 - semantic_0_loss: 0.0021 - semantic_1_loss: 0.0074 - semantic_2_loss: 0.0014WARNING:tensorflow:Can save best model only with val_loss available, skipping.\n"
     ]
    },
    {
     "name": "stderr",
     "output_type": "stream",
     "text": [
      "WARNING:tensorflow:Can save best model only with val_loss available, skipping.\n"
     ]
    },
    {
     "name": "stdout",
     "output_type": "stream",
     "text": [
      "22/22 [==============================] - 11s 495ms/step - loss: 0.0108 - semantic_0_loss: 0.0021 - semantic_1_loss: 0.0074 - semantic_2_loss: 0.0014 - lr: 5.9896e-05\n",
      "Epoch 53/200\n",
      "22/22 [==============================] - ETA: 0s - loss: 0.0110 - semantic_0_loss: 0.0021 - semantic_1_loss: 0.0075 - semantic_2_loss: 0.0014WARNING:tensorflow:Can save best model only with val_loss available, skipping.\n"
     ]
    },
    {
     "name": "stderr",
     "output_type": "stream",
     "text": [
      "WARNING:tensorflow:Can save best model only with val_loss available, skipping.\n"
     ]
    },
    {
     "name": "stdout",
     "output_type": "stream",
     "text": [
      "22/22 [==============================] - 11s 489ms/step - loss: 0.0110 - semantic_0_loss: 0.0021 - semantic_1_loss: 0.0075 - semantic_2_loss: 0.0014 - lr: 5.9297e-05\n",
      "Epoch 54/200\n",
      "22/22 [==============================] - ETA: 0s - loss: 0.0109 - semantic_0_loss: 0.0021 - semantic_1_loss: 0.0075 - semantic_2_loss: 0.0014WARNING:tensorflow:Can save best model only with val_loss available, skipping.\n"
     ]
    },
    {
     "name": "stderr",
     "output_type": "stream",
     "text": [
      "WARNING:tensorflow:Can save best model only with val_loss available, skipping.\n"
     ]
    },
    {
     "name": "stdout",
     "output_type": "stream",
     "text": [
      "22/22 [==============================] - 11s 497ms/step - loss: 0.0109 - semantic_0_loss: 0.0021 - semantic_1_loss: 0.0075 - semantic_2_loss: 0.0014 - lr: 5.8704e-05\n",
      "Epoch 55/200\n",
      "22/22 [==============================] - ETA: 0s - loss: 0.0108 - semantic_0_loss: 0.0020 - semantic_1_loss: 0.0074 - semantic_2_loss: 0.0014WARNING:tensorflow:Can save best model only with val_loss available, skipping.\n"
     ]
    },
    {
     "name": "stderr",
     "output_type": "stream",
     "text": [
      "WARNING:tensorflow:Can save best model only with val_loss available, skipping.\n"
     ]
    },
    {
     "name": "stdout",
     "output_type": "stream",
     "text": [
      "22/22 [==============================] - 11s 486ms/step - loss: 0.0108 - semantic_0_loss: 0.0020 - semantic_1_loss: 0.0074 - semantic_2_loss: 0.0014 - lr: 5.8117e-05\n",
      "Epoch 56/200\n",
      "22/22 [==============================] - ETA: 0s - loss: 0.0108 - semantic_0_loss: 0.0021 - semantic_1_loss: 0.0073 - semantic_2_loss: 0.0014WARNING:tensorflow:Can save best model only with val_loss available, skipping.\n"
     ]
    },
    {
     "name": "stderr",
     "output_type": "stream",
     "text": [
      "WARNING:tensorflow:Can save best model only with val_loss available, skipping.\n"
     ]
    },
    {
     "name": "stdout",
     "output_type": "stream",
     "text": [
      "22/22 [==============================] - 11s 481ms/step - loss: 0.0108 - semantic_0_loss: 0.0021 - semantic_1_loss: 0.0073 - semantic_2_loss: 0.0014 - lr: 5.7535e-05\n",
      "Epoch 57/200\n",
      "22/22 [==============================] - ETA: 0s - loss: 0.0110 - semantic_0_loss: 0.0021 - semantic_1_loss: 0.0075 - semantic_2_loss: 0.0014WARNING:tensorflow:Can save best model only with val_loss available, skipping.\n"
     ]
    },
    {
     "name": "stderr",
     "output_type": "stream",
     "text": [
      "WARNING:tensorflow:Can save best model only with val_loss available, skipping.\n"
     ]
    },
    {
     "name": "stdout",
     "output_type": "stream",
     "text": [
      "22/22 [==============================] - 11s 489ms/step - loss: 0.0110 - semantic_0_loss: 0.0021 - semantic_1_loss: 0.0075 - semantic_2_loss: 0.0014 - lr: 5.6960e-05\n",
      "Epoch 58/200\n",
      "22/22 [==============================] - ETA: 0s - loss: 0.0108 - semantic_0_loss: 0.0021 - semantic_1_loss: 0.0074 - semantic_2_loss: 0.0014WARNING:tensorflow:Can save best model only with val_loss available, skipping.\n"
     ]
    },
    {
     "name": "stderr",
     "output_type": "stream",
     "text": [
      "WARNING:tensorflow:Can save best model only with val_loss available, skipping.\n"
     ]
    },
    {
     "name": "stdout",
     "output_type": "stream",
     "text": [
      "22/22 [==============================] - 11s 492ms/step - loss: 0.0108 - semantic_0_loss: 0.0021 - semantic_1_loss: 0.0074 - semantic_2_loss: 0.0014 - lr: 5.6391e-05\n",
      "Epoch 59/200\n",
      "22/22 [==============================] - ETA: 0s - loss: 0.0108 - semantic_0_loss: 0.0021 - semantic_1_loss: 0.0074 - semantic_2_loss: 0.0014WARNING:tensorflow:Can save best model only with val_loss available, skipping.\n"
     ]
    },
    {
     "name": "stderr",
     "output_type": "stream",
     "text": [
      "WARNING:tensorflow:Can save best model only with val_loss available, skipping.\n"
     ]
    },
    {
     "name": "stdout",
     "output_type": "stream",
     "text": [
      "22/22 [==============================] - 11s 492ms/step - loss: 0.0108 - semantic_0_loss: 0.0021 - semantic_1_loss: 0.0074 - semantic_2_loss: 0.0014 - lr: 5.5827e-05\n",
      "Epoch 60/200\n",
      "22/22 [==============================] - ETA: 0s - loss: 0.0106 - semantic_0_loss: 0.0020 - semantic_1_loss: 0.0072 - semantic_2_loss: 0.0014WARNING:tensorflow:Can save best model only with val_loss available, skipping.\n"
     ]
    },
    {
     "name": "stderr",
     "output_type": "stream",
     "text": [
      "WARNING:tensorflow:Can save best model only with val_loss available, skipping.\n"
     ]
    },
    {
     "name": "stdout",
     "output_type": "stream",
     "text": [
      "22/22 [==============================] - 11s 484ms/step - loss: 0.0106 - semantic_0_loss: 0.0020 - semantic_1_loss: 0.0072 - semantic_2_loss: 0.0014 - lr: 5.5268e-05\n",
      "Epoch 61/200\n",
      "22/22 [==============================] - ETA: 0s - loss: 0.0108 - semantic_0_loss: 0.0021 - semantic_1_loss: 0.0074 - semantic_2_loss: 0.0014WARNING:tensorflow:Can save best model only with val_loss available, skipping.\n"
     ]
    },
    {
     "name": "stderr",
     "output_type": "stream",
     "text": [
      "WARNING:tensorflow:Can save best model only with val_loss available, skipping.\n"
     ]
    },
    {
     "name": "stdout",
     "output_type": "stream",
     "text": [
      "22/22 [==============================] - 11s 490ms/step - loss: 0.0108 - semantic_0_loss: 0.0021 - semantic_1_loss: 0.0074 - semantic_2_loss: 0.0014 - lr: 5.4716e-05\n",
      "Epoch 62/200\n",
      "22/22 [==============================] - ETA: 0s - loss: 0.0106 - semantic_0_loss: 0.0021 - semantic_1_loss: 0.0072 - semantic_2_loss: 0.0014WARNING:tensorflow:Can save best model only with val_loss available, skipping.\n"
     ]
    },
    {
     "name": "stderr",
     "output_type": "stream",
     "text": [
      "WARNING:tensorflow:Can save best model only with val_loss available, skipping.\n"
     ]
    },
    {
     "name": "stdout",
     "output_type": "stream",
     "text": [
      "22/22 [==============================] - 11s 488ms/step - loss: 0.0106 - semantic_0_loss: 0.0021 - semantic_1_loss: 0.0072 - semantic_2_loss: 0.0014 - lr: 5.4169e-05\n",
      "Epoch 63/200\n",
      "22/22 [==============================] - ETA: 0s - loss: 0.0109 - semantic_0_loss: 0.0021 - semantic_1_loss: 0.0074 - semantic_2_loss: 0.0014WARNING:tensorflow:Can save best model only with val_loss available, skipping.\n"
     ]
    },
    {
     "name": "stderr",
     "output_type": "stream",
     "text": [
      "WARNING:tensorflow:Can save best model only with val_loss available, skipping.\n"
     ]
    },
    {
     "name": "stdout",
     "output_type": "stream",
     "text": [
      "22/22 [==============================] - 11s 486ms/step - loss: 0.0109 - semantic_0_loss: 0.0021 - semantic_1_loss: 0.0074 - semantic_2_loss: 0.0014 - lr: 5.3627e-05\n",
      "Epoch 64/200\n",
      "22/22 [==============================] - ETA: 0s - loss: 0.0105 - semantic_0_loss: 0.0020 - semantic_1_loss: 0.0071 - semantic_2_loss: 0.0013WARNING:tensorflow:Can save best model only with val_loss available, skipping.\n"
     ]
    },
    {
     "name": "stderr",
     "output_type": "stream",
     "text": [
      "WARNING:tensorflow:Can save best model only with val_loss available, skipping.\n"
     ]
    },
    {
     "name": "stdout",
     "output_type": "stream",
     "text": [
      "22/22 [==============================] - 11s 501ms/step - loss: 0.0105 - semantic_0_loss: 0.0020 - semantic_1_loss: 0.0071 - semantic_2_loss: 0.0013 - lr: 5.3091e-05\n",
      "Epoch 65/200\n",
      "22/22 [==============================] - ETA: 0s - loss: 0.0105 - semantic_0_loss: 0.0020 - semantic_1_loss: 0.0071 - semantic_2_loss: 0.0014WARNING:tensorflow:Can save best model only with val_loss available, skipping.\n"
     ]
    },
    {
     "name": "stderr",
     "output_type": "stream",
     "text": [
      "WARNING:tensorflow:Can save best model only with val_loss available, skipping.\n"
     ]
    },
    {
     "name": "stdout",
     "output_type": "stream",
     "text": [
      "22/22 [==============================] - 11s 483ms/step - loss: 0.0105 - semantic_0_loss: 0.0020 - semantic_1_loss: 0.0071 - semantic_2_loss: 0.0014 - lr: 5.2560e-05\n",
      "Epoch 66/200\n",
      "22/22 [==============================] - ETA: 0s - loss: 0.0107 - semantic_0_loss: 0.0021 - semantic_1_loss: 0.0073 - semantic_2_loss: 0.0014WARNING:tensorflow:Can save best model only with val_loss available, skipping.\n"
     ]
    },
    {
     "name": "stderr",
     "output_type": "stream",
     "text": [
      "WARNING:tensorflow:Can save best model only with val_loss available, skipping.\n"
     ]
    },
    {
     "name": "stdout",
     "output_type": "stream",
     "text": [
      "22/22 [==============================] - 11s 490ms/step - loss: 0.0107 - semantic_0_loss: 0.0021 - semantic_1_loss: 0.0073 - semantic_2_loss: 0.0014 - lr: 5.2034e-05\n",
      "Epoch 67/200\n",
      "22/22 [==============================] - ETA: 0s - loss: 0.0105 - semantic_0_loss: 0.0020 - semantic_1_loss: 0.0072 - semantic_2_loss: 0.0014WARNING:tensorflow:Can save best model only with val_loss available, skipping.\n"
     ]
    },
    {
     "name": "stderr",
     "output_type": "stream",
     "text": [
      "WARNING:tensorflow:Can save best model only with val_loss available, skipping.\n"
     ]
    },
    {
     "name": "stdout",
     "output_type": "stream",
     "text": [
      "22/22 [==============================] - 11s 489ms/step - loss: 0.0105 - semantic_0_loss: 0.0020 - semantic_1_loss: 0.0072 - semantic_2_loss: 0.0014 - lr: 5.1514e-05\n",
      "Epoch 68/200\n",
      "22/22 [==============================] - ETA: 0s - loss: 0.0106 - semantic_0_loss: 0.0021 - semantic_1_loss: 0.0072 - semantic_2_loss: 0.0013WARNING:tensorflow:Can save best model only with val_loss available, skipping.\n"
     ]
    },
    {
     "name": "stderr",
     "output_type": "stream",
     "text": [
      "WARNING:tensorflow:Can save best model only with val_loss available, skipping.\n"
     ]
    },
    {
     "name": "stdout",
     "output_type": "stream",
     "text": [
      "22/22 [==============================] - 11s 491ms/step - loss: 0.0106 - semantic_0_loss: 0.0021 - semantic_1_loss: 0.0072 - semantic_2_loss: 0.0013 - lr: 5.0999e-05\n",
      "Epoch 69/200\n",
      "22/22 [==============================] - ETA: 0s - loss: 0.0105 - semantic_0_loss: 0.0020 - semantic_1_loss: 0.0071 - semantic_2_loss: 0.0013WARNING:tensorflow:Can save best model only with val_loss available, skipping.\n"
     ]
    },
    {
     "name": "stderr",
     "output_type": "stream",
     "text": [
      "WARNING:tensorflow:Can save best model only with val_loss available, skipping.\n"
     ]
    },
    {
     "name": "stdout",
     "output_type": "stream",
     "text": [
      "22/22 [==============================] - 11s 493ms/step - loss: 0.0105 - semantic_0_loss: 0.0020 - semantic_1_loss: 0.0071 - semantic_2_loss: 0.0013 - lr: 5.0489e-05\n",
      "Epoch 70/200\n",
      "22/22 [==============================] - ETA: 0s - loss: 0.0102 - semantic_0_loss: 0.0020 - semantic_1_loss: 0.0069 - semantic_2_loss: 0.0013WARNING:tensorflow:Can save best model only with val_loss available, skipping.\n"
     ]
    },
    {
     "name": "stderr",
     "output_type": "stream",
     "text": [
      "WARNING:tensorflow:Can save best model only with val_loss available, skipping.\n"
     ]
    },
    {
     "name": "stdout",
     "output_type": "stream",
     "text": [
      "22/22 [==============================] - 11s 489ms/step - loss: 0.0102 - semantic_0_loss: 0.0020 - semantic_1_loss: 0.0069 - semantic_2_loss: 0.0013 - lr: 4.9984e-05\n",
      "Epoch 71/200\n",
      "22/22 [==============================] - ETA: 0s - loss: 0.0103 - semantic_0_loss: 0.0020 - semantic_1_loss: 0.0070 - semantic_2_loss: 0.0013WARNING:tensorflow:Can save best model only with val_loss available, skipping.\n"
     ]
    },
    {
     "name": "stderr",
     "output_type": "stream",
     "text": [
      "WARNING:tensorflow:Can save best model only with val_loss available, skipping.\n"
     ]
    },
    {
     "name": "stdout",
     "output_type": "stream",
     "text": [
      "22/22 [==============================] - 11s 487ms/step - loss: 0.0103 - semantic_0_loss: 0.0020 - semantic_1_loss: 0.0070 - semantic_2_loss: 0.0013 - lr: 4.9484e-05\n",
      "Epoch 72/200\n",
      "22/22 [==============================] - ETA: 0s - loss: 0.0103 - semantic_0_loss: 0.0020 - semantic_1_loss: 0.0070 - semantic_2_loss: 0.0013WARNING:tensorflow:Can save best model only with val_loss available, skipping.\n"
     ]
    },
    {
     "name": "stderr",
     "output_type": "stream",
     "text": [
      "WARNING:tensorflow:Can save best model only with val_loss available, skipping.\n"
     ]
    },
    {
     "name": "stdout",
     "output_type": "stream",
     "text": [
      "22/22 [==============================] - 11s 492ms/step - loss: 0.0103 - semantic_0_loss: 0.0020 - semantic_1_loss: 0.0070 - semantic_2_loss: 0.0013 - lr: 4.8989e-05\n",
      "Epoch 73/200\n",
      "22/22 [==============================] - ETA: 0s - loss: 0.0104 - semantic_0_loss: 0.0020 - semantic_1_loss: 0.0070 - semantic_2_loss: 0.0014WARNING:tensorflow:Can save best model only with val_loss available, skipping.\n"
     ]
    },
    {
     "name": "stderr",
     "output_type": "stream",
     "text": [
      "WARNING:tensorflow:Can save best model only with val_loss available, skipping.\n"
     ]
    },
    {
     "name": "stdout",
     "output_type": "stream",
     "text": [
      "22/22 [==============================] - 11s 493ms/step - loss: 0.0104 - semantic_0_loss: 0.0020 - semantic_1_loss: 0.0070 - semantic_2_loss: 0.0014 - lr: 4.8499e-05\n",
      "Epoch 74/200\n",
      "22/22 [==============================] - ETA: 0s - loss: 0.0103 - semantic_0_loss: 0.0020 - semantic_1_loss: 0.0070 - semantic_2_loss: 0.0013WARNING:tensorflow:Can save best model only with val_loss available, skipping.\n"
     ]
    },
    {
     "name": "stderr",
     "output_type": "stream",
     "text": [
      "WARNING:tensorflow:Can save best model only with val_loss available, skipping.\n"
     ]
    },
    {
     "name": "stdout",
     "output_type": "stream",
     "text": [
      "22/22 [==============================] - 11s 487ms/step - loss: 0.0103 - semantic_0_loss: 0.0020 - semantic_1_loss: 0.0070 - semantic_2_loss: 0.0013 - lr: 4.8014e-05\n",
      "Epoch 75/200\n",
      "22/22 [==============================] - ETA: 0s - loss: 0.0104 - semantic_0_loss: 0.0021 - semantic_1_loss: 0.0070 - semantic_2_loss: 0.0013WARNING:tensorflow:Can save best model only with val_loss available, skipping.\n"
     ]
    },
    {
     "name": "stderr",
     "output_type": "stream",
     "text": [
      "WARNING:tensorflow:Can save best model only with val_loss available, skipping.\n"
     ]
    },
    {
     "name": "stdout",
     "output_type": "stream",
     "text": [
      "22/22 [==============================] - 11s 483ms/step - loss: 0.0104 - semantic_0_loss: 0.0021 - semantic_1_loss: 0.0070 - semantic_2_loss: 0.0013 - lr: 4.7534e-05\n",
      "Epoch 76/200\n",
      "22/22 [==============================] - ETA: 0s - loss: 0.0103 - semantic_0_loss: 0.0020 - semantic_1_loss: 0.0070 - semantic_2_loss: 0.0013WARNING:tensorflow:Can save best model only with val_loss available, skipping.\n"
     ]
    },
    {
     "name": "stderr",
     "output_type": "stream",
     "text": [
      "WARNING:tensorflow:Can save best model only with val_loss available, skipping.\n"
     ]
    },
    {
     "name": "stdout",
     "output_type": "stream",
     "text": [
      "22/22 [==============================] - 11s 490ms/step - loss: 0.0103 - semantic_0_loss: 0.0020 - semantic_1_loss: 0.0070 - semantic_2_loss: 0.0013 - lr: 4.7059e-05\n",
      "Epoch 77/200\n",
      "22/22 [==============================] - ETA: 0s - loss: 0.0102 - semantic_0_loss: 0.0020 - semantic_1_loss: 0.0069 - semantic_2_loss: 0.0013WARNING:tensorflow:Can save best model only with val_loss available, skipping.\n"
     ]
    },
    {
     "name": "stderr",
     "output_type": "stream",
     "text": [
      "WARNING:tensorflow:Can save best model only with val_loss available, skipping.\n"
     ]
    },
    {
     "name": "stdout",
     "output_type": "stream",
     "text": [
      "22/22 [==============================] - 11s 494ms/step - loss: 0.0102 - semantic_0_loss: 0.0020 - semantic_1_loss: 0.0069 - semantic_2_loss: 0.0013 - lr: 4.6588e-05\n",
      "Epoch 78/200\n",
      "22/22 [==============================] - ETA: 0s - loss: 0.0101 - semantic_0_loss: 0.0020 - semantic_1_loss: 0.0068 - semantic_2_loss: 0.0013WARNING:tensorflow:Can save best model only with val_loss available, skipping.\n"
     ]
    },
    {
     "name": "stderr",
     "output_type": "stream",
     "text": [
      "WARNING:tensorflow:Can save best model only with val_loss available, skipping.\n"
     ]
    },
    {
     "name": "stdout",
     "output_type": "stream",
     "text": [
      "22/22 [==============================] - 11s 487ms/step - loss: 0.0101 - semantic_0_loss: 0.0020 - semantic_1_loss: 0.0068 - semantic_2_loss: 0.0013 - lr: 4.6122e-05\n",
      "Epoch 79/200\n",
      "22/22 [==============================] - ETA: 0s - loss: 0.0102 - semantic_0_loss: 0.0020 - semantic_1_loss: 0.0069 - semantic_2_loss: 0.0013WARNING:tensorflow:Can save best model only with val_loss available, skipping.\n"
     ]
    },
    {
     "name": "stderr",
     "output_type": "stream",
     "text": [
      "WARNING:tensorflow:Can save best model only with val_loss available, skipping.\n"
     ]
    },
    {
     "name": "stdout",
     "output_type": "stream",
     "text": [
      "22/22 [==============================] - 11s 493ms/step - loss: 0.0102 - semantic_0_loss: 0.0020 - semantic_1_loss: 0.0069 - semantic_2_loss: 0.0013 - lr: 4.5661e-05\n",
      "Epoch 80/200\n",
      "22/22 [==============================] - ETA: 0s - loss: 0.0102 - semantic_0_loss: 0.0020 - semantic_1_loss: 0.0069 - semantic_2_loss: 0.0013WARNING:tensorflow:Can save best model only with val_loss available, skipping.\n"
     ]
    },
    {
     "name": "stderr",
     "output_type": "stream",
     "text": [
      "WARNING:tensorflow:Can save best model only with val_loss available, skipping.\n"
     ]
    },
    {
     "name": "stdout",
     "output_type": "stream",
     "text": [
      "22/22 [==============================] - 11s 497ms/step - loss: 0.0102 - semantic_0_loss: 0.0020 - semantic_1_loss: 0.0069 - semantic_2_loss: 0.0013 - lr: 4.5204e-05\n",
      "Epoch 81/200\n",
      "22/22 [==============================] - ETA: 0s - loss: 0.0103 - semantic_0_loss: 0.0020 - semantic_1_loss: 0.0069 - semantic_2_loss: 0.0013WARNING:tensorflow:Can save best model only with val_loss available, skipping.\n"
     ]
    },
    {
     "name": "stderr",
     "output_type": "stream",
     "text": [
      "WARNING:tensorflow:Can save best model only with val_loss available, skipping.\n"
     ]
    },
    {
     "name": "stdout",
     "output_type": "stream",
     "text": [
      "22/22 [==============================] - 11s 490ms/step - loss: 0.0103 - semantic_0_loss: 0.0020 - semantic_1_loss: 0.0069 - semantic_2_loss: 0.0013 - lr: 4.4752e-05\n",
      "Epoch 82/200\n",
      "22/22 [==============================] - ETA: 0s - loss: 0.0101 - semantic_0_loss: 0.0020 - semantic_1_loss: 0.0068 - semantic_2_loss: 0.0013WARNING:tensorflow:Can save best model only with val_loss available, skipping.\n"
     ]
    },
    {
     "name": "stderr",
     "output_type": "stream",
     "text": [
      "WARNING:tensorflow:Can save best model only with val_loss available, skipping.\n"
     ]
    },
    {
     "name": "stdout",
     "output_type": "stream",
     "text": [
      "22/22 [==============================] - 11s 492ms/step - loss: 0.0101 - semantic_0_loss: 0.0020 - semantic_1_loss: 0.0068 - semantic_2_loss: 0.0013 - lr: 4.4305e-05\n",
      "Epoch 83/200\n",
      "22/22 [==============================] - ETA: 0s - loss: 0.0100 - semantic_0_loss: 0.0020 - semantic_1_loss: 0.0067 - semantic_2_loss: 0.0013WARNING:tensorflow:Can save best model only with val_loss available, skipping.\n"
     ]
    },
    {
     "name": "stderr",
     "output_type": "stream",
     "text": [
      "WARNING:tensorflow:Can save best model only with val_loss available, skipping.\n"
     ]
    },
    {
     "name": "stdout",
     "output_type": "stream",
     "text": [
      "22/22 [==============================] - 11s 486ms/step - loss: 0.0100 - semantic_0_loss: 0.0020 - semantic_1_loss: 0.0067 - semantic_2_loss: 0.0013 - lr: 4.3862e-05\n",
      "Epoch 84/200\n",
      "22/22 [==============================] - ETA: 0s - loss: 0.0101 - semantic_0_loss: 0.0020 - semantic_1_loss: 0.0068 - semantic_2_loss: 0.0013WARNING:tensorflow:Can save best model only with val_loss available, skipping.\n"
     ]
    },
    {
     "name": "stderr",
     "output_type": "stream",
     "text": [
      "WARNING:tensorflow:Can save best model only with val_loss available, skipping.\n"
     ]
    },
    {
     "name": "stdout",
     "output_type": "stream",
     "text": [
      "22/22 [==============================] - 11s 482ms/step - loss: 0.0101 - semantic_0_loss: 0.0020 - semantic_1_loss: 0.0068 - semantic_2_loss: 0.0013 - lr: 4.3423e-05\n",
      "Epoch 85/200\n",
      "22/22 [==============================] - ETA: 0s - loss: 0.0100 - semantic_0_loss: 0.0020 - semantic_1_loss: 0.0067 - semantic_2_loss: 0.0013WARNING:tensorflow:Can save best model only with val_loss available, skipping.\n"
     ]
    },
    {
     "name": "stderr",
     "output_type": "stream",
     "text": [
      "WARNING:tensorflow:Can save best model only with val_loss available, skipping.\n"
     ]
    },
    {
     "name": "stdout",
     "output_type": "stream",
     "text": [
      "22/22 [==============================] - 11s 490ms/step - loss: 0.0100 - semantic_0_loss: 0.0020 - semantic_1_loss: 0.0067 - semantic_2_loss: 0.0013 - lr: 4.2989e-05\n",
      "Epoch 86/200\n",
      "22/22 [==============================] - ETA: 0s - loss: 0.0101 - semantic_0_loss: 0.0020 - semantic_1_loss: 0.0068 - semantic_2_loss: 0.0013WARNING:tensorflow:Can save best model only with val_loss available, skipping.\n"
     ]
    },
    {
     "name": "stderr",
     "output_type": "stream",
     "text": [
      "WARNING:tensorflow:Can save best model only with val_loss available, skipping.\n"
     ]
    },
    {
     "name": "stdout",
     "output_type": "stream",
     "text": [
      "22/22 [==============================] - 11s 491ms/step - loss: 0.0101 - semantic_0_loss: 0.0020 - semantic_1_loss: 0.0068 - semantic_2_loss: 0.0013 - lr: 4.2559e-05\n",
      "Epoch 87/200\n",
      "22/22 [==============================] - ETA: 0s - loss: 0.0101 - semantic_0_loss: 0.0020 - semantic_1_loss: 0.0068 - semantic_2_loss: 0.0013WARNING:tensorflow:Can save best model only with val_loss available, skipping.\n"
     ]
    },
    {
     "name": "stderr",
     "output_type": "stream",
     "text": [
      "WARNING:tensorflow:Can save best model only with val_loss available, skipping.\n"
     ]
    },
    {
     "name": "stdout",
     "output_type": "stream",
     "text": [
      "22/22 [==============================] - 11s 489ms/step - loss: 0.0101 - semantic_0_loss: 0.0020 - semantic_1_loss: 0.0068 - semantic_2_loss: 0.0013 - lr: 4.2133e-05\n",
      "Epoch 88/200\n",
      "22/22 [==============================] - ETA: 0s - loss: 0.0100 - semantic_0_loss: 0.0020 - semantic_1_loss: 0.0067 - semantic_2_loss: 0.0013WARNING:tensorflow:Can save best model only with val_loss available, skipping.\n"
     ]
    },
    {
     "name": "stderr",
     "output_type": "stream",
     "text": [
      "WARNING:tensorflow:Can save best model only with val_loss available, skipping.\n"
     ]
    },
    {
     "name": "stdout",
     "output_type": "stream",
     "text": [
      "22/22 [==============================] - 11s 492ms/step - loss: 0.0100 - semantic_0_loss: 0.0020 - semantic_1_loss: 0.0067 - semantic_2_loss: 0.0013 - lr: 4.1712e-05\n",
      "Epoch 89/200\n",
      "22/22 [==============================] - ETA: 0s - loss: 0.0099 - semantic_0_loss: 0.0020 - semantic_1_loss: 0.0066 - semantic_2_loss: 0.0013WARNING:tensorflow:Can save best model only with val_loss available, skipping.\n"
     ]
    },
    {
     "name": "stderr",
     "output_type": "stream",
     "text": [
      "WARNING:tensorflow:Can save best model only with val_loss available, skipping.\n"
     ]
    },
    {
     "name": "stdout",
     "output_type": "stream",
     "text": [
      "22/22 [==============================] - 11s 496ms/step - loss: 0.0099 - semantic_0_loss: 0.0020 - semantic_1_loss: 0.0066 - semantic_2_loss: 0.0013 - lr: 4.1295e-05\n",
      "Epoch 90/200\n",
      "22/22 [==============================] - ETA: 0s - loss: 0.0101 - semantic_0_loss: 0.0020 - semantic_1_loss: 0.0068 - semantic_2_loss: 0.0013WARNING:tensorflow:Can save best model only with val_loss available, skipping.\n"
     ]
    },
    {
     "name": "stderr",
     "output_type": "stream",
     "text": [
      "WARNING:tensorflow:Can save best model only with val_loss available, skipping.\n"
     ]
    },
    {
     "name": "stdout",
     "output_type": "stream",
     "text": [
      "22/22 [==============================] - 11s 499ms/step - loss: 0.0101 - semantic_0_loss: 0.0020 - semantic_1_loss: 0.0068 - semantic_2_loss: 0.0013 - lr: 4.0882e-05\n",
      "Epoch 91/200\n",
      "22/22 [==============================] - ETA: 0s - loss: 0.0098 - semantic_0_loss: 0.0020 - semantic_1_loss: 0.0066 - semantic_2_loss: 0.0013WARNING:tensorflow:Can save best model only with val_loss available, skipping.\n"
     ]
    },
    {
     "name": "stderr",
     "output_type": "stream",
     "text": [
      "WARNING:tensorflow:Can save best model only with val_loss available, skipping.\n"
     ]
    },
    {
     "name": "stdout",
     "output_type": "stream",
     "text": [
      "22/22 [==============================] - 11s 485ms/step - loss: 0.0098 - semantic_0_loss: 0.0020 - semantic_1_loss: 0.0066 - semantic_2_loss: 0.0013 - lr: 4.0473e-05\n",
      "Epoch 92/200\n",
      "22/22 [==============================] - ETA: 0s - loss: 0.0099 - semantic_0_loss: 0.0020 - semantic_1_loss: 0.0066 - semantic_2_loss: 0.0013WARNING:tensorflow:Can save best model only with val_loss available, skipping.\n"
     ]
    },
    {
     "name": "stderr",
     "output_type": "stream",
     "text": [
      "WARNING:tensorflow:Can save best model only with val_loss available, skipping.\n"
     ]
    },
    {
     "name": "stdout",
     "output_type": "stream",
     "text": [
      "22/22 [==============================] - 11s 496ms/step - loss: 0.0099 - semantic_0_loss: 0.0020 - semantic_1_loss: 0.0066 - semantic_2_loss: 0.0013 - lr: 4.0068e-05\n",
      "Epoch 93/200\n",
      "22/22 [==============================] - ETA: 0s - loss: 0.0100 - semantic_0_loss: 0.0020 - semantic_1_loss: 0.0067 - semantic_2_loss: 0.0013WARNING:tensorflow:Can save best model only with val_loss available, skipping.\n"
     ]
    },
    {
     "name": "stderr",
     "output_type": "stream",
     "text": [
      "WARNING:tensorflow:Can save best model only with val_loss available, skipping.\n"
     ]
    },
    {
     "name": "stdout",
     "output_type": "stream",
     "text": [
      "22/22 [==============================] - 11s 494ms/step - loss: 0.0100 - semantic_0_loss: 0.0020 - semantic_1_loss: 0.0067 - semantic_2_loss: 0.0013 - lr: 3.9668e-05\n",
      "Epoch 94/200\n",
      "22/22 [==============================] - ETA: 0s - loss: 0.0101 - semantic_0_loss: 0.0020 - semantic_1_loss: 0.0067 - semantic_2_loss: 0.0013WARNING:tensorflow:Can save best model only with val_loss available, skipping.\n"
     ]
    },
    {
     "name": "stderr",
     "output_type": "stream",
     "text": [
      "WARNING:tensorflow:Can save best model only with val_loss available, skipping.\n"
     ]
    },
    {
     "name": "stdout",
     "output_type": "stream",
     "text": [
      "22/22 [==============================] - 11s 498ms/step - loss: 0.0101 - semantic_0_loss: 0.0020 - semantic_1_loss: 0.0067 - semantic_2_loss: 0.0013 - lr: 3.9271e-05\n",
      "Epoch 95/200\n",
      "22/22 [==============================] - ETA: 0s - loss: 0.0098 - semantic_0_loss: 0.0020 - semantic_1_loss: 0.0065 - semantic_2_loss: 0.0013WARNING:tensorflow:Can save best model only with val_loss available, skipping.\n"
     ]
    },
    {
     "name": "stderr",
     "output_type": "stream",
     "text": [
      "WARNING:tensorflow:Can save best model only with val_loss available, skipping.\n"
     ]
    },
    {
     "name": "stdout",
     "output_type": "stream",
     "text": [
      "22/22 [==============================] - 11s 491ms/step - loss: 0.0098 - semantic_0_loss: 0.0020 - semantic_1_loss: 0.0065 - semantic_2_loss: 0.0013 - lr: 3.8878e-05\n",
      "Epoch 96/200\n",
      "22/22 [==============================] - ETA: 0s - loss: 0.0098 - semantic_0_loss: 0.0019 - semantic_1_loss: 0.0065 - semantic_2_loss: 0.0013WARNING:tensorflow:Can save best model only with val_loss available, skipping.\n"
     ]
    },
    {
     "name": "stderr",
     "output_type": "stream",
     "text": [
      "WARNING:tensorflow:Can save best model only with val_loss available, skipping.\n"
     ]
    },
    {
     "name": "stdout",
     "output_type": "stream",
     "text": [
      "22/22 [==============================] - 11s 492ms/step - loss: 0.0098 - semantic_0_loss: 0.0019 - semantic_1_loss: 0.0065 - semantic_2_loss: 0.0013 - lr: 3.8490e-05\n",
      "Epoch 97/200\n",
      "22/22 [==============================] - ETA: 0s - loss: 0.0098 - semantic_0_loss: 0.0020 - semantic_1_loss: 0.0065 - semantic_2_loss: 0.0013WARNING:tensorflow:Can save best model only with val_loss available, skipping.\n"
     ]
    },
    {
     "name": "stderr",
     "output_type": "stream",
     "text": [
      "WARNING:tensorflow:Can save best model only with val_loss available, skipping.\n"
     ]
    },
    {
     "name": "stdout",
     "output_type": "stream",
     "text": [
      "22/22 [==============================] - 11s 495ms/step - loss: 0.0098 - semantic_0_loss: 0.0020 - semantic_1_loss: 0.0065 - semantic_2_loss: 0.0013 - lr: 3.8105e-05\n",
      "Epoch 98/200\n",
      "22/22 [==============================] - ETA: 0s - loss: 0.0097 - semantic_0_loss: 0.0020 - semantic_1_loss: 0.0065 - semantic_2_loss: 0.0013WARNING:tensorflow:Can save best model only with val_loss available, skipping.\n"
     ]
    },
    {
     "name": "stderr",
     "output_type": "stream",
     "text": [
      "WARNING:tensorflow:Can save best model only with val_loss available, skipping.\n"
     ]
    },
    {
     "name": "stdout",
     "output_type": "stream",
     "text": [
      "22/22 [==============================] - 11s 493ms/step - loss: 0.0097 - semantic_0_loss: 0.0020 - semantic_1_loss: 0.0065 - semantic_2_loss: 0.0013 - lr: 3.7724e-05\n",
      "Epoch 99/200\n",
      "22/22 [==============================] - ETA: 0s - loss: 0.0098 - semantic_0_loss: 0.0019 - semantic_1_loss: 0.0066 - semantic_2_loss: 0.0013WARNING:tensorflow:Can save best model only with val_loss available, skipping.\n"
     ]
    },
    {
     "name": "stderr",
     "output_type": "stream",
     "text": [
      "WARNING:tensorflow:Can save best model only with val_loss available, skipping.\n"
     ]
    },
    {
     "name": "stdout",
     "output_type": "stream",
     "text": [
      "22/22 [==============================] - 11s 490ms/step - loss: 0.0098 - semantic_0_loss: 0.0019 - semantic_1_loss: 0.0066 - semantic_2_loss: 0.0013 - lr: 3.7346e-05\n",
      "Epoch 100/200\n",
      "22/22 [==============================] - ETA: 0s - loss: 0.0097 - semantic_0_loss: 0.0019 - semantic_1_loss: 0.0064 - semantic_2_loss: 0.0013WARNING:tensorflow:Can save best model only with val_loss available, skipping.\n"
     ]
    },
    {
     "name": "stderr",
     "output_type": "stream",
     "text": [
      "WARNING:tensorflow:Can save best model only with val_loss available, skipping.\n"
     ]
    },
    {
     "name": "stdout",
     "output_type": "stream",
     "text": [
      "22/22 [==============================] - 11s 494ms/step - loss: 0.0097 - semantic_0_loss: 0.0019 - semantic_1_loss: 0.0064 - semantic_2_loss: 0.0013 - lr: 3.6973e-05\n",
      "Epoch 101/200\n",
      "22/22 [==============================] - ETA: 0s - loss: 0.0095 - semantic_0_loss: 0.0019 - semantic_1_loss: 0.0063 - semantic_2_loss: 0.0013WARNING:tensorflow:Can save best model only with val_loss available, skipping.\n"
     ]
    },
    {
     "name": "stderr",
     "output_type": "stream",
     "text": [
      "WARNING:tensorflow:Can save best model only with val_loss available, skipping.\n"
     ]
    },
    {
     "name": "stdout",
     "output_type": "stream",
     "text": [
      "22/22 [==============================] - 11s 488ms/step - loss: 0.0095 - semantic_0_loss: 0.0019 - semantic_1_loss: 0.0063 - semantic_2_loss: 0.0013 - lr: 3.6603e-05\n",
      "Epoch 102/200\n",
      "22/22 [==============================] - ETA: 0s - loss: 0.0095 - semantic_0_loss: 0.0019 - semantic_1_loss: 0.0063 - semantic_2_loss: 0.0013WARNING:tensorflow:Can save best model only with val_loss available, skipping.\n"
     ]
    },
    {
     "name": "stderr",
     "output_type": "stream",
     "text": [
      "WARNING:tensorflow:Can save best model only with val_loss available, skipping.\n"
     ]
    },
    {
     "name": "stdout",
     "output_type": "stream",
     "text": [
      "22/22 [==============================] - 11s 491ms/step - loss: 0.0095 - semantic_0_loss: 0.0019 - semantic_1_loss: 0.0063 - semantic_2_loss: 0.0013 - lr: 3.6237e-05\n",
      "Epoch 103/200\n",
      "22/22 [==============================] - ETA: 0s - loss: 0.0097 - semantic_0_loss: 0.0020 - semantic_1_loss: 0.0065 - semantic_2_loss: 0.0013WARNING:tensorflow:Can save best model only with val_loss available, skipping.\n"
     ]
    },
    {
     "name": "stderr",
     "output_type": "stream",
     "text": [
      "WARNING:tensorflow:Can save best model only with val_loss available, skipping.\n"
     ]
    },
    {
     "name": "stdout",
     "output_type": "stream",
     "text": [
      "22/22 [==============================] - 11s 494ms/step - loss: 0.0097 - semantic_0_loss: 0.0020 - semantic_1_loss: 0.0065 - semantic_2_loss: 0.0013 - lr: 3.5875e-05\n",
      "Epoch 104/200\n",
      "22/22 [==============================] - ETA: 0s - loss: 0.0096 - semantic_0_loss: 0.0020 - semantic_1_loss: 0.0064 - semantic_2_loss: 0.0013WARNING:tensorflow:Can save best model only with val_loss available, skipping.\n"
     ]
    },
    {
     "name": "stderr",
     "output_type": "stream",
     "text": [
      "WARNING:tensorflow:Can save best model only with val_loss available, skipping.\n"
     ]
    },
    {
     "name": "stdout",
     "output_type": "stream",
     "text": [
      "22/22 [==============================] - 11s 494ms/step - loss: 0.0096 - semantic_0_loss: 0.0020 - semantic_1_loss: 0.0064 - semantic_2_loss: 0.0013 - lr: 3.5516e-05\n",
      "Epoch 105/200\n",
      "22/22 [==============================] - ETA: 0s - loss: 0.0098 - semantic_0_loss: 0.0020 - semantic_1_loss: 0.0066 - semantic_2_loss: 0.0013WARNING:tensorflow:Can save best model only with val_loss available, skipping.\n"
     ]
    },
    {
     "name": "stderr",
     "output_type": "stream",
     "text": [
      "WARNING:tensorflow:Can save best model only with val_loss available, skipping.\n"
     ]
    },
    {
     "name": "stdout",
     "output_type": "stream",
     "text": [
      "22/22 [==============================] - 11s 492ms/step - loss: 0.0098 - semantic_0_loss: 0.0020 - semantic_1_loss: 0.0066 - semantic_2_loss: 0.0013 - lr: 3.5161e-05\n",
      "Epoch 106/200\n",
      "22/22 [==============================] - ETA: 0s - loss: 0.0096 - semantic_0_loss: 0.0019 - semantic_1_loss: 0.0064 - semantic_2_loss: 0.0013WARNING:tensorflow:Can save best model only with val_loss available, skipping.\n"
     ]
    },
    {
     "name": "stderr",
     "output_type": "stream",
     "text": [
      "WARNING:tensorflow:Can save best model only with val_loss available, skipping.\n"
     ]
    },
    {
     "name": "stdout",
     "output_type": "stream",
     "text": [
      "22/22 [==============================] - 11s 489ms/step - loss: 0.0096 - semantic_0_loss: 0.0019 - semantic_1_loss: 0.0064 - semantic_2_loss: 0.0013 - lr: 3.4809e-05\n",
      "Epoch 107/200\n",
      "22/22 [==============================] - ETA: 0s - loss: 0.0098 - semantic_0_loss: 0.0020 - semantic_1_loss: 0.0065 - semantic_2_loss: 0.0013WARNING:tensorflow:Can save best model only with val_loss available, skipping.\n"
     ]
    },
    {
     "name": "stderr",
     "output_type": "stream",
     "text": [
      "WARNING:tensorflow:Can save best model only with val_loss available, skipping.\n"
     ]
    },
    {
     "name": "stdout",
     "output_type": "stream",
     "text": [
      "22/22 [==============================] - 11s 482ms/step - loss: 0.0098 - semantic_0_loss: 0.0020 - semantic_1_loss: 0.0065 - semantic_2_loss: 0.0013 - lr: 3.4461e-05\n",
      "Epoch 108/200\n",
      "22/22 [==============================] - ETA: 0s - loss: 0.0096 - semantic_0_loss: 0.0019 - semantic_1_loss: 0.0064 - semantic_2_loss: 0.0013WARNING:tensorflow:Can save best model only with val_loss available, skipping.\n"
     ]
    },
    {
     "name": "stderr",
     "output_type": "stream",
     "text": [
      "WARNING:tensorflow:Can save best model only with val_loss available, skipping.\n"
     ]
    },
    {
     "name": "stdout",
     "output_type": "stream",
     "text": [
      "22/22 [==============================] - 11s 483ms/step - loss: 0.0096 - semantic_0_loss: 0.0019 - semantic_1_loss: 0.0064 - semantic_2_loss: 0.0013 - lr: 3.4117e-05\n",
      "Epoch 109/200\n",
      "22/22 [==============================] - ETA: 0s - loss: 0.0095 - semantic_0_loss: 0.0020 - semantic_1_loss: 0.0063 - semantic_2_loss: 0.0013WARNING:tensorflow:Can save best model only with val_loss available, skipping.\n"
     ]
    },
    {
     "name": "stderr",
     "output_type": "stream",
     "text": [
      "WARNING:tensorflow:Can save best model only with val_loss available, skipping.\n"
     ]
    },
    {
     "name": "stdout",
     "output_type": "stream",
     "text": [
      "22/22 [==============================] - 11s 496ms/step - loss: 0.0095 - semantic_0_loss: 0.0020 - semantic_1_loss: 0.0063 - semantic_2_loss: 0.0013 - lr: 3.3775e-05\n",
      "Epoch 110/200\n",
      "22/22 [==============================] - ETA: 0s - loss: 0.0098 - semantic_0_loss: 0.0020 - semantic_1_loss: 0.0066 - semantic_2_loss: 0.0013WARNING:tensorflow:Can save best model only with val_loss available, skipping.\n"
     ]
    },
    {
     "name": "stderr",
     "output_type": "stream",
     "text": [
      "WARNING:tensorflow:Can save best model only with val_loss available, skipping.\n"
     ]
    },
    {
     "name": "stdout",
     "output_type": "stream",
     "text": [
      "22/22 [==============================] - 11s 495ms/step - loss: 0.0098 - semantic_0_loss: 0.0020 - semantic_1_loss: 0.0066 - semantic_2_loss: 0.0013 - lr: 3.3438e-05\n",
      "Epoch 111/200\n",
      "22/22 [==============================] - ETA: 0s - loss: 0.0094 - semantic_0_loss: 0.0019 - semantic_1_loss: 0.0062 - semantic_2_loss: 0.0013WARNING:tensorflow:Can save best model only with val_loss available, skipping.\n"
     ]
    },
    {
     "name": "stderr",
     "output_type": "stream",
     "text": [
      "WARNING:tensorflow:Can save best model only with val_loss available, skipping.\n"
     ]
    },
    {
     "name": "stdout",
     "output_type": "stream",
     "text": [
      "22/22 [==============================] - 11s 493ms/step - loss: 0.0094 - semantic_0_loss: 0.0019 - semantic_1_loss: 0.0062 - semantic_2_loss: 0.0013 - lr: 3.3103e-05\n",
      "Epoch 112/200\n",
      "22/22 [==============================] - ETA: 0s - loss: 0.0098 - semantic_0_loss: 0.0020 - semantic_1_loss: 0.0065 - semantic_2_loss: 0.0013WARNING:tensorflow:Can save best model only with val_loss available, skipping.\n"
     ]
    },
    {
     "name": "stderr",
     "output_type": "stream",
     "text": [
      "WARNING:tensorflow:Can save best model only with val_loss available, skipping.\n"
     ]
    },
    {
     "name": "stdout",
     "output_type": "stream",
     "text": [
      "22/22 [==============================] - 11s 493ms/step - loss: 0.0098 - semantic_0_loss: 0.0020 - semantic_1_loss: 0.0065 - semantic_2_loss: 0.0013 - lr: 3.2772e-05\n",
      "Epoch 113/200\n",
      "22/22 [==============================] - ETA: 0s - loss: 0.0094 - semantic_0_loss: 0.0019 - semantic_1_loss: 0.0062 - semantic_2_loss: 0.0012WARNING:tensorflow:Can save best model only with val_loss available, skipping.\n"
     ]
    },
    {
     "name": "stderr",
     "output_type": "stream",
     "text": [
      "WARNING:tensorflow:Can save best model only with val_loss available, skipping.\n"
     ]
    },
    {
     "name": "stdout",
     "output_type": "stream",
     "text": [
      "22/22 [==============================] - 11s 494ms/step - loss: 0.0094 - semantic_0_loss: 0.0019 - semantic_1_loss: 0.0062 - semantic_2_loss: 0.0012 - lr: 3.2445e-05\n",
      "Epoch 114/200\n",
      "22/22 [==============================] - ETA: 0s - loss: 0.0094 - semantic_0_loss: 0.0019 - semantic_1_loss: 0.0063 - semantic_2_loss: 0.0013WARNING:tensorflow:Can save best model only with val_loss available, skipping.\n"
     ]
    },
    {
     "name": "stderr",
     "output_type": "stream",
     "text": [
      "WARNING:tensorflow:Can save best model only with val_loss available, skipping.\n"
     ]
    },
    {
     "name": "stdout",
     "output_type": "stream",
     "text": [
      "22/22 [==============================] - 11s 496ms/step - loss: 0.0094 - semantic_0_loss: 0.0019 - semantic_1_loss: 0.0063 - semantic_2_loss: 0.0013 - lr: 3.2120e-05\n",
      "Epoch 115/200\n",
      "22/22 [==============================] - ETA: 0s - loss: 0.0095 - semantic_0_loss: 0.0020 - semantic_1_loss: 0.0063 - semantic_2_loss: 0.0012WARNING:tensorflow:Can save best model only with val_loss available, skipping.\n"
     ]
    },
    {
     "name": "stderr",
     "output_type": "stream",
     "text": [
      "WARNING:tensorflow:Can save best model only with val_loss available, skipping.\n"
     ]
    },
    {
     "name": "stdout",
     "output_type": "stream",
     "text": [
      "22/22 [==============================] - 11s 494ms/step - loss: 0.0095 - semantic_0_loss: 0.0020 - semantic_1_loss: 0.0063 - semantic_2_loss: 0.0012 - lr: 3.1799e-05\n",
      "Epoch 116/200\n",
      "22/22 [==============================] - ETA: 0s - loss: 0.0092 - semantic_0_loss: 0.0019 - semantic_1_loss: 0.0060 - semantic_2_loss: 0.0012WARNING:tensorflow:Can save best model only with val_loss available, skipping.\n"
     ]
    },
    {
     "name": "stderr",
     "output_type": "stream",
     "text": [
      "WARNING:tensorflow:Can save best model only with val_loss available, skipping.\n"
     ]
    },
    {
     "name": "stdout",
     "output_type": "stream",
     "text": [
      "22/22 [==============================] - 11s 495ms/step - loss: 0.0092 - semantic_0_loss: 0.0019 - semantic_1_loss: 0.0060 - semantic_2_loss: 0.0012 - lr: 3.1481e-05\n",
      "Epoch 117/200\n",
      "22/22 [==============================] - ETA: 0s - loss: 0.0094 - semantic_0_loss: 0.0019 - semantic_1_loss: 0.0063 - semantic_2_loss: 0.0012WARNING:tensorflow:Can save best model only with val_loss available, skipping.\n"
     ]
    },
    {
     "name": "stderr",
     "output_type": "stream",
     "text": [
      "WARNING:tensorflow:Can save best model only with val_loss available, skipping.\n"
     ]
    },
    {
     "name": "stdout",
     "output_type": "stream",
     "text": [
      "22/22 [==============================] - 11s 494ms/step - loss: 0.0094 - semantic_0_loss: 0.0019 - semantic_1_loss: 0.0063 - semantic_2_loss: 0.0012 - lr: 3.1166e-05\n",
      "Epoch 118/200\n",
      "22/22 [==============================] - ETA: 0s - loss: 0.0095 - semantic_0_loss: 0.0019 - semantic_1_loss: 0.0063 - semantic_2_loss: 0.0013WARNING:tensorflow:Can save best model only with val_loss available, skipping.\n"
     ]
    },
    {
     "name": "stderr",
     "output_type": "stream",
     "text": [
      "WARNING:tensorflow:Can save best model only with val_loss available, skipping.\n"
     ]
    },
    {
     "name": "stdout",
     "output_type": "stream",
     "text": [
      "22/22 [==============================] - 11s 492ms/step - loss: 0.0095 - semantic_0_loss: 0.0019 - semantic_1_loss: 0.0063 - semantic_2_loss: 0.0013 - lr: 3.0854e-05\n",
      "Epoch 119/200\n",
      "22/22 [==============================] - ETA: 0s - loss: 0.0094 - semantic_0_loss: 0.0019 - semantic_1_loss: 0.0062 - semantic_2_loss: 0.0013WARNING:tensorflow:Can save best model only with val_loss available, skipping.\n"
     ]
    },
    {
     "name": "stderr",
     "output_type": "stream",
     "text": [
      "WARNING:tensorflow:Can save best model only with val_loss available, skipping.\n"
     ]
    },
    {
     "name": "stdout",
     "output_type": "stream",
     "text": [
      "22/22 [==============================] - 11s 488ms/step - loss: 0.0094 - semantic_0_loss: 0.0019 - semantic_1_loss: 0.0062 - semantic_2_loss: 0.0013 - lr: 3.0546e-05\n",
      "Epoch 120/200\n",
      "22/22 [==============================] - ETA: 0s - loss: 0.0093 - semantic_0_loss: 0.0019 - semantic_1_loss: 0.0061 - semantic_2_loss: 0.0012WARNING:tensorflow:Can save best model only with val_loss available, skipping.\n"
     ]
    },
    {
     "name": "stderr",
     "output_type": "stream",
     "text": [
      "WARNING:tensorflow:Can save best model only with val_loss available, skipping.\n"
     ]
    },
    {
     "name": "stdout",
     "output_type": "stream",
     "text": [
      "22/22 [==============================] - 11s 493ms/step - loss: 0.0093 - semantic_0_loss: 0.0019 - semantic_1_loss: 0.0061 - semantic_2_loss: 0.0012 - lr: 3.0240e-05\n",
      "Epoch 121/200\n",
      "22/22 [==============================] - ETA: 0s - loss: 0.0093 - semantic_0_loss: 0.0019 - semantic_1_loss: 0.0061 - semantic_2_loss: 0.0012WARNING:tensorflow:Can save best model only with val_loss available, skipping.\n"
     ]
    },
    {
     "name": "stderr",
     "output_type": "stream",
     "text": [
      "WARNING:tensorflow:Can save best model only with val_loss available, skipping.\n"
     ]
    },
    {
     "name": "stdout",
     "output_type": "stream",
     "text": [
      "22/22 [==============================] - 11s 492ms/step - loss: 0.0093 - semantic_0_loss: 0.0019 - semantic_1_loss: 0.0061 - semantic_2_loss: 0.0012 - lr: 2.9938e-05\n",
      "Epoch 122/200\n",
      "22/22 [==============================] - ETA: 0s - loss: 0.0094 - semantic_0_loss: 0.0020 - semantic_1_loss: 0.0061 - semantic_2_loss: 0.0012WARNING:tensorflow:Can save best model only with val_loss available, skipping.\n"
     ]
    },
    {
     "name": "stderr",
     "output_type": "stream",
     "text": [
      "WARNING:tensorflow:Can save best model only with val_loss available, skipping.\n"
     ]
    },
    {
     "name": "stdout",
     "output_type": "stream",
     "text": [
      "22/22 [==============================] - 11s 499ms/step - loss: 0.0094 - semantic_0_loss: 0.0020 - semantic_1_loss: 0.0061 - semantic_2_loss: 0.0012 - lr: 2.9639e-05\n",
      "Epoch 123/200\n",
      "22/22 [==============================] - ETA: 0s - loss: 0.0092 - semantic_0_loss: 0.0019 - semantic_1_loss: 0.0061 - semantic_2_loss: 0.0012WARNING:tensorflow:Can save best model only with val_loss available, skipping.\n"
     ]
    },
    {
     "name": "stderr",
     "output_type": "stream",
     "text": [
      "WARNING:tensorflow:Can save best model only with val_loss available, skipping.\n"
     ]
    },
    {
     "name": "stdout",
     "output_type": "stream",
     "text": [
      "22/22 [==============================] - 11s 482ms/step - loss: 0.0092 - semantic_0_loss: 0.0019 - semantic_1_loss: 0.0061 - semantic_2_loss: 0.0012 - lr: 2.9342e-05\n",
      "Epoch 124/200\n",
      "22/22 [==============================] - ETA: 0s - loss: 0.0092 - semantic_0_loss: 0.0019 - semantic_1_loss: 0.0061 - semantic_2_loss: 0.0012WARNING:tensorflow:Can save best model only with val_loss available, skipping.\n"
     ]
    },
    {
     "name": "stderr",
     "output_type": "stream",
     "text": [
      "WARNING:tensorflow:Can save best model only with val_loss available, skipping.\n"
     ]
    },
    {
     "name": "stdout",
     "output_type": "stream",
     "text": [
      "22/22 [==============================] - 11s 482ms/step - loss: 0.0092 - semantic_0_loss: 0.0019 - semantic_1_loss: 0.0061 - semantic_2_loss: 0.0012 - lr: 2.9049e-05\n",
      "Epoch 125/200\n",
      "22/22 [==============================] - ETA: 0s - loss: 0.0094 - semantic_0_loss: 0.0019 - semantic_1_loss: 0.0062 - semantic_2_loss: 0.0013WARNING:tensorflow:Can save best model only with val_loss available, skipping.\n"
     ]
    },
    {
     "name": "stderr",
     "output_type": "stream",
     "text": [
      "WARNING:tensorflow:Can save best model only with val_loss available, skipping.\n"
     ]
    },
    {
     "name": "stdout",
     "output_type": "stream",
     "text": [
      "22/22 [==============================] - 11s 489ms/step - loss: 0.0094 - semantic_0_loss: 0.0019 - semantic_1_loss: 0.0062 - semantic_2_loss: 0.0013 - lr: 2.8758e-05\n",
      "Epoch 126/200\n",
      "22/22 [==============================] - ETA: 0s - loss: 0.0094 - semantic_0_loss: 0.0020 - semantic_1_loss: 0.0062 - semantic_2_loss: 0.0012WARNING:tensorflow:Can save best model only with val_loss available, skipping.\n"
     ]
    },
    {
     "name": "stderr",
     "output_type": "stream",
     "text": [
      "WARNING:tensorflow:Can save best model only with val_loss available, skipping.\n"
     ]
    },
    {
     "name": "stdout",
     "output_type": "stream",
     "text": [
      "22/22 [==============================] - 11s 500ms/step - loss: 0.0094 - semantic_0_loss: 0.0020 - semantic_1_loss: 0.0062 - semantic_2_loss: 0.0012 - lr: 2.8471e-05\n",
      "Epoch 127/200\n",
      "22/22 [==============================] - ETA: 0s - loss: 0.0095 - semantic_0_loss: 0.0020 - semantic_1_loss: 0.0063 - semantic_2_loss: 0.0013WARNING:tensorflow:Can save best model only with val_loss available, skipping.\n"
     ]
    },
    {
     "name": "stderr",
     "output_type": "stream",
     "text": [
      "WARNING:tensorflow:Can save best model only with val_loss available, skipping.\n"
     ]
    },
    {
     "name": "stdout",
     "output_type": "stream",
     "text": [
      "22/22 [==============================] - 11s 497ms/step - loss: 0.0095 - semantic_0_loss: 0.0020 - semantic_1_loss: 0.0063 - semantic_2_loss: 0.0013 - lr: 2.8186e-05\n",
      "Epoch 128/200\n",
      "22/22 [==============================] - ETA: 0s - loss: 0.0094 - semantic_0_loss: 0.0019 - semantic_1_loss: 0.0062 - semantic_2_loss: 0.0013WARNING:tensorflow:Can save best model only with val_loss available, skipping.\n"
     ]
    },
    {
     "name": "stderr",
     "output_type": "stream",
     "text": [
      "WARNING:tensorflow:Can save best model only with val_loss available, skipping.\n"
     ]
    },
    {
     "name": "stdout",
     "output_type": "stream",
     "text": [
      "22/22 [==============================] - 11s 479ms/step - loss: 0.0094 - semantic_0_loss: 0.0019 - semantic_1_loss: 0.0062 - semantic_2_loss: 0.0013 - lr: 2.7904e-05\n",
      "Epoch 129/200\n",
      "22/22 [==============================] - ETA: 0s - loss: 0.0092 - semantic_0_loss: 0.0019 - semantic_1_loss: 0.0061 - semantic_2_loss: 0.0012WARNING:tensorflow:Can save best model only with val_loss available, skipping.\n"
     ]
    },
    {
     "name": "stderr",
     "output_type": "stream",
     "text": [
      "WARNING:tensorflow:Can save best model only with val_loss available, skipping.\n"
     ]
    },
    {
     "name": "stdout",
     "output_type": "stream",
     "text": [
      "22/22 [==============================] - 11s 497ms/step - loss: 0.0092 - semantic_0_loss: 0.0019 - semantic_1_loss: 0.0061 - semantic_2_loss: 0.0012 - lr: 2.7625e-05\n",
      "Epoch 130/200\n",
      "22/22 [==============================] - ETA: 0s - loss: 0.0094 - semantic_0_loss: 0.0019 - semantic_1_loss: 0.0062 - semantic_2_loss: 0.0012WARNING:tensorflow:Can save best model only with val_loss available, skipping.\n"
     ]
    },
    {
     "name": "stderr",
     "output_type": "stream",
     "text": [
      "WARNING:tensorflow:Can save best model only with val_loss available, skipping.\n"
     ]
    },
    {
     "name": "stdout",
     "output_type": "stream",
     "text": [
      "22/22 [==============================] - 11s 487ms/step - loss: 0.0094 - semantic_0_loss: 0.0019 - semantic_1_loss: 0.0062 - semantic_2_loss: 0.0012 - lr: 2.7349e-05\n",
      "Epoch 131/200\n",
      "22/22 [==============================] - ETA: 0s - loss: 0.0091 - semantic_0_loss: 0.0019 - semantic_1_loss: 0.0059 - semantic_2_loss: 0.0012WARNING:tensorflow:Can save best model only with val_loss available, skipping.\n"
     ]
    },
    {
     "name": "stderr",
     "output_type": "stream",
     "text": [
      "WARNING:tensorflow:Can save best model only with val_loss available, skipping.\n"
     ]
    },
    {
     "name": "stdout",
     "output_type": "stream",
     "text": [
      "22/22 [==============================] - 11s 479ms/step - loss: 0.0091 - semantic_0_loss: 0.0019 - semantic_1_loss: 0.0059 - semantic_2_loss: 0.0012 - lr: 2.7075e-05\n",
      "Epoch 132/200\n",
      "22/22 [==============================] - ETA: 0s - loss: 0.0093 - semantic_0_loss: 0.0019 - semantic_1_loss: 0.0061 - semantic_2_loss: 0.0012WARNING:tensorflow:Can save best model only with val_loss available, skipping.\n"
     ]
    },
    {
     "name": "stderr",
     "output_type": "stream",
     "text": [
      "WARNING:tensorflow:Can save best model only with val_loss available, skipping.\n"
     ]
    },
    {
     "name": "stdout",
     "output_type": "stream",
     "text": [
      "22/22 [==============================] - 11s 505ms/step - loss: 0.0093 - semantic_0_loss: 0.0019 - semantic_1_loss: 0.0061 - semantic_2_loss: 0.0012 - lr: 2.6805e-05\n",
      "Epoch 133/200\n",
      "22/22 [==============================] - ETA: 0s - loss: 0.0093 - semantic_0_loss: 0.0019 - semantic_1_loss: 0.0062 - semantic_2_loss: 0.0013WARNING:tensorflow:Can save best model only with val_loss available, skipping.\n"
     ]
    },
    {
     "name": "stderr",
     "output_type": "stream",
     "text": [
      "WARNING:tensorflow:Can save best model only with val_loss available, skipping.\n"
     ]
    },
    {
     "name": "stdout",
     "output_type": "stream",
     "text": [
      "22/22 [==============================] - 11s 498ms/step - loss: 0.0093 - semantic_0_loss: 0.0019 - semantic_1_loss: 0.0062 - semantic_2_loss: 0.0013 - lr: 2.6537e-05\n",
      "Epoch 134/200\n",
      "22/22 [==============================] - ETA: 0s - loss: 0.0091 - semantic_0_loss: 0.0019 - semantic_1_loss: 0.0059 - semantic_2_loss: 0.0012WARNING:tensorflow:Can save best model only with val_loss available, skipping.\n"
     ]
    },
    {
     "name": "stderr",
     "output_type": "stream",
     "text": [
      "WARNING:tensorflow:Can save best model only with val_loss available, skipping.\n"
     ]
    },
    {
     "name": "stdout",
     "output_type": "stream",
     "text": [
      "22/22 [==============================] - 11s 496ms/step - loss: 0.0091 - semantic_0_loss: 0.0019 - semantic_1_loss: 0.0059 - semantic_2_loss: 0.0012 - lr: 2.6271e-05\n",
      "Epoch 135/200\n",
      "22/22 [==============================] - ETA: 0s - loss: 0.0093 - semantic_0_loss: 0.0019 - semantic_1_loss: 0.0061 - semantic_2_loss: 0.0012WARNING:tensorflow:Can save best model only with val_loss available, skipping.\n"
     ]
    },
    {
     "name": "stderr",
     "output_type": "stream",
     "text": [
      "WARNING:tensorflow:Can save best model only with val_loss available, skipping.\n"
     ]
    },
    {
     "name": "stdout",
     "output_type": "stream",
     "text": [
      "22/22 [==============================] - 11s 493ms/step - loss: 0.0093 - semantic_0_loss: 0.0019 - semantic_1_loss: 0.0061 - semantic_2_loss: 0.0012 - lr: 2.6009e-05\n",
      "Epoch 136/200\n",
      "22/22 [==============================] - ETA: 0s - loss: 0.0091 - semantic_0_loss: 0.0019 - semantic_1_loss: 0.0060 - semantic_2_loss: 0.0012WARNING:tensorflow:Can save best model only with val_loss available, skipping.\n"
     ]
    },
    {
     "name": "stderr",
     "output_type": "stream",
     "text": [
      "WARNING:tensorflow:Can save best model only with val_loss available, skipping.\n"
     ]
    },
    {
     "name": "stdout",
     "output_type": "stream",
     "text": [
      "22/22 [==============================] - 11s 495ms/step - loss: 0.0091 - semantic_0_loss: 0.0019 - semantic_1_loss: 0.0060 - semantic_2_loss: 0.0012 - lr: 2.5748e-05\n",
      "Epoch 137/200\n",
      "22/22 [==============================] - ETA: 0s - loss: 0.0091 - semantic_0_loss: 0.0019 - semantic_1_loss: 0.0060 - semantic_2_loss: 0.0012WARNING:tensorflow:Can save best model only with val_loss available, skipping.\n"
     ]
    },
    {
     "name": "stderr",
     "output_type": "stream",
     "text": [
      "WARNING:tensorflow:Can save best model only with val_loss available, skipping.\n"
     ]
    },
    {
     "name": "stdout",
     "output_type": "stream",
     "text": [
      "22/22 [==============================] - 11s 485ms/step - loss: 0.0091 - semantic_0_loss: 0.0019 - semantic_1_loss: 0.0060 - semantic_2_loss: 0.0012 - lr: 2.5491e-05\n",
      "Epoch 138/200\n",
      "22/22 [==============================] - ETA: 0s - loss: 0.0089 - semantic_0_loss: 0.0019 - semantic_1_loss: 0.0059 - semantic_2_loss: 0.0012WARNING:tensorflow:Can save best model only with val_loss available, skipping.\n"
     ]
    },
    {
     "name": "stderr",
     "output_type": "stream",
     "text": [
      "WARNING:tensorflow:Can save best model only with val_loss available, skipping.\n"
     ]
    },
    {
     "name": "stdout",
     "output_type": "stream",
     "text": [
      "22/22 [==============================] - 11s 484ms/step - loss: 0.0089 - semantic_0_loss: 0.0019 - semantic_1_loss: 0.0059 - semantic_2_loss: 0.0012 - lr: 2.5236e-05\n",
      "Epoch 139/200\n",
      "22/22 [==============================] - ETA: 0s - loss: 0.0091 - semantic_0_loss: 0.0019 - semantic_1_loss: 0.0059 - semantic_2_loss: 0.0012WARNING:tensorflow:Can save best model only with val_loss available, skipping.\n"
     ]
    },
    {
     "name": "stderr",
     "output_type": "stream",
     "text": [
      "WARNING:tensorflow:Can save best model only with val_loss available, skipping.\n"
     ]
    },
    {
     "name": "stdout",
     "output_type": "stream",
     "text": [
      "22/22 [==============================] - 11s 482ms/step - loss: 0.0091 - semantic_0_loss: 0.0019 - semantic_1_loss: 0.0059 - semantic_2_loss: 0.0012 - lr: 2.4984e-05\n",
      "Epoch 140/200\n",
      "22/22 [==============================] - ETA: 0s - loss: 0.0090 - semantic_0_loss: 0.0019 - semantic_1_loss: 0.0059 - semantic_2_loss: 0.0012WARNING:tensorflow:Can save best model only with val_loss available, skipping.\n"
     ]
    },
    {
     "name": "stderr",
     "output_type": "stream",
     "text": [
      "WARNING:tensorflow:Can save best model only with val_loss available, skipping.\n"
     ]
    },
    {
     "name": "stdout",
     "output_type": "stream",
     "text": [
      "22/22 [==============================] - 11s 487ms/step - loss: 0.0090 - semantic_0_loss: 0.0019 - semantic_1_loss: 0.0059 - semantic_2_loss: 0.0012 - lr: 2.4734e-05\n",
      "Epoch 141/200\n",
      "22/22 [==============================] - ETA: 0s - loss: 0.0092 - semantic_0_loss: 0.0019 - semantic_1_loss: 0.0060 - semantic_2_loss: 0.0012WARNING:tensorflow:Can save best model only with val_loss available, skipping.\n"
     ]
    },
    {
     "name": "stderr",
     "output_type": "stream",
     "text": [
      "WARNING:tensorflow:Can save best model only with val_loss available, skipping.\n"
     ]
    },
    {
     "name": "stdout",
     "output_type": "stream",
     "text": [
      "22/22 [==============================] - 11s 488ms/step - loss: 0.0092 - semantic_0_loss: 0.0019 - semantic_1_loss: 0.0060 - semantic_2_loss: 0.0012 - lr: 2.4487e-05\n",
      "Epoch 142/200\n",
      "22/22 [==============================] - ETA: 0s - loss: 0.0089 - semantic_0_loss: 0.0019 - semantic_1_loss: 0.0058 - semantic_2_loss: 0.0012WARNING:tensorflow:Can save best model only with val_loss available, skipping.\n"
     ]
    },
    {
     "name": "stderr",
     "output_type": "stream",
     "text": [
      "WARNING:tensorflow:Can save best model only with val_loss available, skipping.\n"
     ]
    },
    {
     "name": "stdout",
     "output_type": "stream",
     "text": [
      "22/22 [==============================] - 11s 488ms/step - loss: 0.0089 - semantic_0_loss: 0.0019 - semantic_1_loss: 0.0058 - semantic_2_loss: 0.0012 - lr: 2.4242e-05\n",
      "Epoch 143/200\n",
      "22/22 [==============================] - ETA: 0s - loss: 0.0088 - semantic_0_loss: 0.0019 - semantic_1_loss: 0.0057 - semantic_2_loss: 0.0012WARNING:tensorflow:Can save best model only with val_loss available, skipping.\n"
     ]
    },
    {
     "name": "stderr",
     "output_type": "stream",
     "text": [
      "WARNING:tensorflow:Can save best model only with val_loss available, skipping.\n"
     ]
    },
    {
     "name": "stdout",
     "output_type": "stream",
     "text": [
      "22/22 [==============================] - 11s 490ms/step - loss: 0.0088 - semantic_0_loss: 0.0019 - semantic_1_loss: 0.0057 - semantic_2_loss: 0.0012 - lr: 2.3999e-05\n",
      "Epoch 144/200\n",
      "22/22 [==============================] - ETA: 0s - loss: 0.0092 - semantic_0_loss: 0.0019 - semantic_1_loss: 0.0060 - semantic_2_loss: 0.0012WARNING:tensorflow:Can save best model only with val_loss available, skipping.\n"
     ]
    },
    {
     "name": "stderr",
     "output_type": "stream",
     "text": [
      "WARNING:tensorflow:Can save best model only with val_loss available, skipping.\n"
     ]
    },
    {
     "name": "stdout",
     "output_type": "stream",
     "text": [
      "22/22 [==============================] - 11s 485ms/step - loss: 0.0092 - semantic_0_loss: 0.0019 - semantic_1_loss: 0.0060 - semantic_2_loss: 0.0012 - lr: 2.3759e-05\n",
      "Epoch 145/200\n",
      "22/22 [==============================] - ETA: 0s - loss: 0.0090 - semantic_0_loss: 0.0019 - semantic_1_loss: 0.0059 - semantic_2_loss: 0.0012WARNING:tensorflow:Can save best model only with val_loss available, skipping.\n"
     ]
    },
    {
     "name": "stderr",
     "output_type": "stream",
     "text": [
      "WARNING:tensorflow:Can save best model only with val_loss available, skipping.\n"
     ]
    },
    {
     "name": "stdout",
     "output_type": "stream",
     "text": [
      "22/22 [==============================] - 11s 493ms/step - loss: 0.0090 - semantic_0_loss: 0.0019 - semantic_1_loss: 0.0059 - semantic_2_loss: 0.0012 - lr: 2.3522e-05\n",
      "Epoch 146/200\n",
      "22/22 [==============================] - ETA: 0s - loss: 0.0089 - semantic_0_loss: 0.0019 - semantic_1_loss: 0.0058 - semantic_2_loss: 0.0012WARNING:tensorflow:Can save best model only with val_loss available, skipping.\n"
     ]
    },
    {
     "name": "stderr",
     "output_type": "stream",
     "text": [
      "WARNING:tensorflow:Can save best model only with val_loss available, skipping.\n"
     ]
    },
    {
     "name": "stdout",
     "output_type": "stream",
     "text": [
      "22/22 [==============================] - 11s 485ms/step - loss: 0.0089 - semantic_0_loss: 0.0019 - semantic_1_loss: 0.0058 - semantic_2_loss: 0.0012 - lr: 2.3286e-05\n",
      "Epoch 147/200\n",
      "22/22 [==============================] - ETA: 0s - loss: 0.0090 - semantic_0_loss: 0.0019 - semantic_1_loss: 0.0059 - semantic_2_loss: 0.0012WARNING:tensorflow:Can save best model only with val_loss available, skipping.\n"
     ]
    },
    {
     "name": "stderr",
     "output_type": "stream",
     "text": [
      "WARNING:tensorflow:Can save best model only with val_loss available, skipping.\n"
     ]
    },
    {
     "name": "stdout",
     "output_type": "stream",
     "text": [
      "22/22 [==============================] - 11s 494ms/step - loss: 0.0090 - semantic_0_loss: 0.0019 - semantic_1_loss: 0.0059 - semantic_2_loss: 0.0012 - lr: 2.3054e-05\n",
      "Epoch 148/200\n",
      "22/22 [==============================] - ETA: 0s - loss: 0.0090 - semantic_0_loss: 0.0019 - semantic_1_loss: 0.0059 - semantic_2_loss: 0.0012WARNING:tensorflow:Can save best model only with val_loss available, skipping.\n"
     ]
    },
    {
     "name": "stderr",
     "output_type": "stream",
     "text": [
      "WARNING:tensorflow:Can save best model only with val_loss available, skipping.\n"
     ]
    },
    {
     "name": "stdout",
     "output_type": "stream",
     "text": [
      "22/22 [==============================] - 11s 493ms/step - loss: 0.0090 - semantic_0_loss: 0.0019 - semantic_1_loss: 0.0059 - semantic_2_loss: 0.0012 - lr: 2.2823e-05\n",
      "Epoch 149/200\n",
      "22/22 [==============================] - ETA: 0s - loss: 0.0091 - semantic_0_loss: 0.0019 - semantic_1_loss: 0.0060 - semantic_2_loss: 0.0012WARNING:tensorflow:Can save best model only with val_loss available, skipping.\n"
     ]
    },
    {
     "name": "stderr",
     "output_type": "stream",
     "text": [
      "WARNING:tensorflow:Can save best model only with val_loss available, skipping.\n"
     ]
    },
    {
     "name": "stdout",
     "output_type": "stream",
     "text": [
      "22/22 [==============================] - 11s 485ms/step - loss: 0.0091 - semantic_0_loss: 0.0019 - semantic_1_loss: 0.0060 - semantic_2_loss: 0.0012 - lr: 2.2595e-05\n",
      "Epoch 150/200\n",
      "22/22 [==============================] - ETA: 0s - loss: 0.0090 - semantic_0_loss: 0.0019 - semantic_1_loss: 0.0059 - semantic_2_loss: 0.0012WARNING:tensorflow:Can save best model only with val_loss available, skipping.\n"
     ]
    },
    {
     "name": "stderr",
     "output_type": "stream",
     "text": [
      "WARNING:tensorflow:Can save best model only with val_loss available, skipping.\n"
     ]
    },
    {
     "name": "stdout",
     "output_type": "stream",
     "text": [
      "22/22 [==============================] - 11s 490ms/step - loss: 0.0090 - semantic_0_loss: 0.0019 - semantic_1_loss: 0.0059 - semantic_2_loss: 0.0012 - lr: 2.2369e-05\n",
      "Epoch 151/200\n",
      "22/22 [==============================] - ETA: 0s - loss: 0.0090 - semantic_0_loss: 0.0019 - semantic_1_loss: 0.0058 - semantic_2_loss: 0.0012WARNING:tensorflow:Can save best model only with val_loss available, skipping.\n"
     ]
    },
    {
     "name": "stderr",
     "output_type": "stream",
     "text": [
      "WARNING:tensorflow:Can save best model only with val_loss available, skipping.\n"
     ]
    },
    {
     "name": "stdout",
     "output_type": "stream",
     "text": [
      "22/22 [==============================] - 11s 493ms/step - loss: 0.0090 - semantic_0_loss: 0.0019 - semantic_1_loss: 0.0058 - semantic_2_loss: 0.0012 - lr: 2.2145e-05\n",
      "Epoch 152/200\n",
      "22/22 [==============================] - ETA: 0s - loss: 0.0090 - semantic_0_loss: 0.0019 - semantic_1_loss: 0.0059 - semantic_2_loss: 0.0012WARNING:tensorflow:Can save best model only with val_loss available, skipping.\n"
     ]
    },
    {
     "name": "stderr",
     "output_type": "stream",
     "text": [
      "WARNING:tensorflow:Can save best model only with val_loss available, skipping.\n"
     ]
    },
    {
     "name": "stdout",
     "output_type": "stream",
     "text": [
      "22/22 [==============================] - 11s 508ms/step - loss: 0.0090 - semantic_0_loss: 0.0019 - semantic_1_loss: 0.0059 - semantic_2_loss: 0.0012 - lr: 2.1924e-05\n",
      "Epoch 153/200\n",
      "22/22 [==============================] - ETA: 0s - loss: 0.0088 - semantic_0_loss: 0.0019 - semantic_1_loss: 0.0058 - semantic_2_loss: 0.0012WARNING:tensorflow:Can save best model only with val_loss available, skipping.\n"
     ]
    },
    {
     "name": "stderr",
     "output_type": "stream",
     "text": [
      "WARNING:tensorflow:Can save best model only with val_loss available, skipping.\n"
     ]
    },
    {
     "name": "stdout",
     "output_type": "stream",
     "text": [
      "22/22 [==============================] - 11s 491ms/step - loss: 0.0088 - semantic_0_loss: 0.0019 - semantic_1_loss: 0.0058 - semantic_2_loss: 0.0012 - lr: 2.1704e-05\n",
      "Epoch 154/200\n",
      "22/22 [==============================] - ETA: 0s - loss: 0.0087 - semantic_0_loss: 0.0019 - semantic_1_loss: 0.0056 - semantic_2_loss: 0.0012WARNING:tensorflow:Can save best model only with val_loss available, skipping.\n"
     ]
    },
    {
     "name": "stderr",
     "output_type": "stream",
     "text": [
      "WARNING:tensorflow:Can save best model only with val_loss available, skipping.\n"
     ]
    },
    {
     "name": "stdout",
     "output_type": "stream",
     "text": [
      "22/22 [==============================] - 11s 487ms/step - loss: 0.0087 - semantic_0_loss: 0.0019 - semantic_1_loss: 0.0056 - semantic_2_loss: 0.0012 - lr: 2.1487e-05\n",
      "Epoch 155/200\n",
      "22/22 [==============================] - ETA: 0s - loss: 0.0089 - semantic_0_loss: 0.0019 - semantic_1_loss: 0.0058 - semantic_2_loss: 0.0012WARNING:tensorflow:Can save best model only with val_loss available, skipping.\n"
     ]
    },
    {
     "name": "stderr",
     "output_type": "stream",
     "text": [
      "WARNING:tensorflow:Can save best model only with val_loss available, skipping.\n"
     ]
    },
    {
     "name": "stdout",
     "output_type": "stream",
     "text": [
      "22/22 [==============================] - 11s 489ms/step - loss: 0.0089 - semantic_0_loss: 0.0019 - semantic_1_loss: 0.0058 - semantic_2_loss: 0.0012 - lr: 2.1273e-05\n",
      "Epoch 156/200\n",
      "22/22 [==============================] - ETA: 0s - loss: 0.0092 - semantic_0_loss: 0.0019 - semantic_1_loss: 0.0061 - semantic_2_loss: 0.0012WARNING:tensorflow:Can save best model only with val_loss available, skipping.\n"
     ]
    },
    {
     "name": "stderr",
     "output_type": "stream",
     "text": [
      "WARNING:tensorflow:Can save best model only with val_loss available, skipping.\n"
     ]
    },
    {
     "name": "stdout",
     "output_type": "stream",
     "text": [
      "22/22 [==============================] - 11s 491ms/step - loss: 0.0092 - semantic_0_loss: 0.0019 - semantic_1_loss: 0.0061 - semantic_2_loss: 0.0012 - lr: 2.1060e-05\n",
      "Epoch 157/200\n",
      "22/22 [==============================] - ETA: 0s - loss: 0.0088 - semantic_0_loss: 0.0019 - semantic_1_loss: 0.0057 - semantic_2_loss: 0.0012WARNING:tensorflow:Can save best model only with val_loss available, skipping.\n"
     ]
    },
    {
     "name": "stderr",
     "output_type": "stream",
     "text": [
      "WARNING:tensorflow:Can save best model only with val_loss available, skipping.\n"
     ]
    },
    {
     "name": "stdout",
     "output_type": "stream",
     "text": [
      "22/22 [==============================] - 11s 492ms/step - loss: 0.0088 - semantic_0_loss: 0.0019 - semantic_1_loss: 0.0057 - semantic_2_loss: 0.0012 - lr: 2.0849e-05\n",
      "Epoch 158/200\n",
      "22/22 [==============================] - ETA: 0s - loss: 0.0087 - semantic_0_loss: 0.0019 - semantic_1_loss: 0.0057 - semantic_2_loss: 0.0012WARNING:tensorflow:Can save best model only with val_loss available, skipping.\n"
     ]
    },
    {
     "name": "stderr",
     "output_type": "stream",
     "text": [
      "WARNING:tensorflow:Can save best model only with val_loss available, skipping.\n"
     ]
    },
    {
     "name": "stdout",
     "output_type": "stream",
     "text": [
      "22/22 [==============================] - 11s 497ms/step - loss: 0.0087 - semantic_0_loss: 0.0019 - semantic_1_loss: 0.0057 - semantic_2_loss: 0.0012 - lr: 2.0641e-05\n",
      "Epoch 159/200\n",
      "22/22 [==============================] - ETA: 0s - loss: 0.0087 - semantic_0_loss: 0.0018 - semantic_1_loss: 0.0057 - semantic_2_loss: 0.0012WARNING:tensorflow:Can save best model only with val_loss available, skipping.\n"
     ]
    },
    {
     "name": "stderr",
     "output_type": "stream",
     "text": [
      "WARNING:tensorflow:Can save best model only with val_loss available, skipping.\n"
     ]
    },
    {
     "name": "stdout",
     "output_type": "stream",
     "text": [
      "22/22 [==============================] - 11s 485ms/step - loss: 0.0087 - semantic_0_loss: 0.0018 - semantic_1_loss: 0.0057 - semantic_2_loss: 0.0012 - lr: 2.0434e-05\n",
      "Epoch 160/200\n",
      "22/22 [==============================] - ETA: 0s - loss: 0.0089 - semantic_0_loss: 0.0019 - semantic_1_loss: 0.0058 - semantic_2_loss: 0.0012WARNING:tensorflow:Can save best model only with val_loss available, skipping.\n"
     ]
    },
    {
     "name": "stderr",
     "output_type": "stream",
     "text": [
      "WARNING:tensorflow:Can save best model only with val_loss available, skipping.\n"
     ]
    },
    {
     "name": "stdout",
     "output_type": "stream",
     "text": [
      "22/22 [==============================] - 11s 488ms/step - loss: 0.0089 - semantic_0_loss: 0.0019 - semantic_1_loss: 0.0058 - semantic_2_loss: 0.0012 - lr: 2.0230e-05\n",
      "Epoch 161/200\n",
      "22/22 [==============================] - ETA: 0s - loss: 0.0092 - semantic_0_loss: 0.0019 - semantic_1_loss: 0.0060 - semantic_2_loss: 0.0012WARNING:tensorflow:Can save best model only with val_loss available, skipping.\n"
     ]
    },
    {
     "name": "stderr",
     "output_type": "stream",
     "text": [
      "WARNING:tensorflow:Can save best model only with val_loss available, skipping.\n"
     ]
    },
    {
     "name": "stdout",
     "output_type": "stream",
     "text": [
      "22/22 [==============================] - 11s 490ms/step - loss: 0.0092 - semantic_0_loss: 0.0019 - semantic_1_loss: 0.0060 - semantic_2_loss: 0.0012 - lr: 2.0028e-05\n",
      "Epoch 162/200\n",
      "22/22 [==============================] - ETA: 0s - loss: 0.0088 - semantic_0_loss: 0.0019 - semantic_1_loss: 0.0058 - semantic_2_loss: 0.0012WARNING:tensorflow:Can save best model only with val_loss available, skipping.\n"
     ]
    },
    {
     "name": "stderr",
     "output_type": "stream",
     "text": [
      "WARNING:tensorflow:Can save best model only with val_loss available, skipping.\n"
     ]
    },
    {
     "name": "stdout",
     "output_type": "stream",
     "text": [
      "22/22 [==============================] - 11s 493ms/step - loss: 0.0088 - semantic_0_loss: 0.0019 - semantic_1_loss: 0.0058 - semantic_2_loss: 0.0012 - lr: 1.9827e-05\n",
      "Epoch 163/200\n",
      "22/22 [==============================] - ETA: 0s - loss: 0.0090 - semantic_0_loss: 0.0019 - semantic_1_loss: 0.0059 - semantic_2_loss: 0.0012WARNING:tensorflow:Can save best model only with val_loss available, skipping.\n"
     ]
    },
    {
     "name": "stderr",
     "output_type": "stream",
     "text": [
      "WARNING:tensorflow:Can save best model only with val_loss available, skipping.\n"
     ]
    },
    {
     "name": "stdout",
     "output_type": "stream",
     "text": [
      "22/22 [==============================] - 11s 493ms/step - loss: 0.0090 - semantic_0_loss: 0.0019 - semantic_1_loss: 0.0059 - semantic_2_loss: 0.0012 - lr: 1.9629e-05\n",
      "Epoch 164/200\n",
      "22/22 [==============================] - ETA: 0s - loss: 0.0089 - semantic_0_loss: 0.0019 - semantic_1_loss: 0.0058 - semantic_2_loss: 0.0012WARNING:tensorflow:Can save best model only with val_loss available, skipping.\n"
     ]
    },
    {
     "name": "stderr",
     "output_type": "stream",
     "text": [
      "WARNING:tensorflow:Can save best model only with val_loss available, skipping.\n"
     ]
    },
    {
     "name": "stdout",
     "output_type": "stream",
     "text": [
      "22/22 [==============================] - 11s 493ms/step - loss: 0.0089 - semantic_0_loss: 0.0019 - semantic_1_loss: 0.0058 - semantic_2_loss: 0.0012 - lr: 1.9433e-05\n",
      "Epoch 165/200\n",
      "22/22 [==============================] - ETA: 0s - loss: 0.0088 - semantic_0_loss: 0.0019 - semantic_1_loss: 0.0058 - semantic_2_loss: 0.0012WARNING:tensorflow:Can save best model only with val_loss available, skipping.\n"
     ]
    },
    {
     "name": "stderr",
     "output_type": "stream",
     "text": [
      "WARNING:tensorflow:Can save best model only with val_loss available, skipping.\n"
     ]
    },
    {
     "name": "stdout",
     "output_type": "stream",
     "text": [
      "22/22 [==============================] - 11s 497ms/step - loss: 0.0088 - semantic_0_loss: 0.0019 - semantic_1_loss: 0.0058 - semantic_2_loss: 0.0012 - lr: 1.9239e-05\n",
      "Epoch 166/200\n",
      "22/22 [==============================] - ETA: 0s - loss: 0.0090 - semantic_0_loss: 0.0019 - semantic_1_loss: 0.0059 - semantic_2_loss: 0.0012WARNING:tensorflow:Can save best model only with val_loss available, skipping.\n"
     ]
    },
    {
     "name": "stderr",
     "output_type": "stream",
     "text": [
      "WARNING:tensorflow:Can save best model only with val_loss available, skipping.\n"
     ]
    },
    {
     "name": "stdout",
     "output_type": "stream",
     "text": [
      "22/22 [==============================] - 11s 498ms/step - loss: 0.0090 - semantic_0_loss: 0.0019 - semantic_1_loss: 0.0059 - semantic_2_loss: 0.0012 - lr: 1.9046e-05\n",
      "Epoch 167/200\n",
      "22/22 [==============================] - ETA: 0s - loss: 0.0088 - semantic_0_loss: 0.0019 - semantic_1_loss: 0.0058 - semantic_2_loss: 0.0012WARNING:tensorflow:Can save best model only with val_loss available, skipping.\n"
     ]
    },
    {
     "name": "stderr",
     "output_type": "stream",
     "text": [
      "WARNING:tensorflow:Can save best model only with val_loss available, skipping.\n"
     ]
    },
    {
     "name": "stdout",
     "output_type": "stream",
     "text": [
      "22/22 [==============================] - 11s 485ms/step - loss: 0.0088 - semantic_0_loss: 0.0019 - semantic_1_loss: 0.0058 - semantic_2_loss: 0.0012 - lr: 1.8856e-05\n",
      "Epoch 168/200\n",
      "22/22 [==============================] - ETA: 0s - loss: 0.0089 - semantic_0_loss: 0.0019 - semantic_1_loss: 0.0058 - semantic_2_loss: 0.0012WARNING:tensorflow:Can save best model only with val_loss available, skipping.\n"
     ]
    },
    {
     "name": "stderr",
     "output_type": "stream",
     "text": [
      "WARNING:tensorflow:Can save best model only with val_loss available, skipping.\n"
     ]
    },
    {
     "name": "stdout",
     "output_type": "stream",
     "text": [
      "22/22 [==============================] - 11s 497ms/step - loss: 0.0089 - semantic_0_loss: 0.0019 - semantic_1_loss: 0.0058 - semantic_2_loss: 0.0012 - lr: 1.8667e-05\n",
      "Epoch 169/200\n",
      "22/22 [==============================] - ETA: 0s - loss: 0.0087 - semantic_0_loss: 0.0019 - semantic_1_loss: 0.0056 - semantic_2_loss: 0.0012WARNING:tensorflow:Can save best model only with val_loss available, skipping.\n"
     ]
    },
    {
     "name": "stderr",
     "output_type": "stream",
     "text": [
      "WARNING:tensorflow:Can save best model only with val_loss available, skipping.\n"
     ]
    },
    {
     "name": "stdout",
     "output_type": "stream",
     "text": [
      "22/22 [==============================] - 11s 489ms/step - loss: 0.0087 - semantic_0_loss: 0.0019 - semantic_1_loss: 0.0056 - semantic_2_loss: 0.0012 - lr: 1.8480e-05\n",
      "Epoch 170/200\n",
      "22/22 [==============================] - ETA: 0s - loss: 0.0088 - semantic_0_loss: 0.0019 - semantic_1_loss: 0.0057 - semantic_2_loss: 0.0012WARNING:tensorflow:Can save best model only with val_loss available, skipping.\n"
     ]
    },
    {
     "name": "stderr",
     "output_type": "stream",
     "text": [
      "WARNING:tensorflow:Can save best model only with val_loss available, skipping.\n"
     ]
    },
    {
     "name": "stdout",
     "output_type": "stream",
     "text": [
      "22/22 [==============================] - 11s 494ms/step - loss: 0.0088 - semantic_0_loss: 0.0019 - semantic_1_loss: 0.0057 - semantic_2_loss: 0.0012 - lr: 1.8296e-05\n",
      "Epoch 171/200\n",
      "22/22 [==============================] - ETA: 0s - loss: 0.0088 - semantic_0_loss: 0.0019 - semantic_1_loss: 0.0057 - semantic_2_loss: 0.0012WARNING:tensorflow:Can save best model only with val_loss available, skipping.\n"
     ]
    },
    {
     "name": "stderr",
     "output_type": "stream",
     "text": [
      "WARNING:tensorflow:Can save best model only with val_loss available, skipping.\n"
     ]
    },
    {
     "name": "stdout",
     "output_type": "stream",
     "text": [
      "22/22 [==============================] - 11s 493ms/step - loss: 0.0088 - semantic_0_loss: 0.0019 - semantic_1_loss: 0.0057 - semantic_2_loss: 0.0012 - lr: 1.8113e-05\n",
      "Epoch 172/200\n",
      "22/22 [==============================] - ETA: 0s - loss: 0.0088 - semantic_0_loss: 0.0019 - semantic_1_loss: 0.0057 - semantic_2_loss: 0.0012WARNING:tensorflow:Can save best model only with val_loss available, skipping.\n"
     ]
    },
    {
     "name": "stderr",
     "output_type": "stream",
     "text": [
      "WARNING:tensorflow:Can save best model only with val_loss available, skipping.\n"
     ]
    },
    {
     "name": "stdout",
     "output_type": "stream",
     "text": [
      "22/22 [==============================] - 11s 492ms/step - loss: 0.0088 - semantic_0_loss: 0.0019 - semantic_1_loss: 0.0057 - semantic_2_loss: 0.0012 - lr: 1.7932e-05\n",
      "Epoch 173/200\n",
      "22/22 [==============================] - ETA: 0s - loss: 0.0088 - semantic_0_loss: 0.0019 - semantic_1_loss: 0.0057 - semantic_2_loss: 0.0012WARNING:tensorflow:Can save best model only with val_loss available, skipping.\n"
     ]
    },
    {
     "name": "stderr",
     "output_type": "stream",
     "text": [
      "WARNING:tensorflow:Can save best model only with val_loss available, skipping.\n"
     ]
    },
    {
     "name": "stdout",
     "output_type": "stream",
     "text": [
      "22/22 [==============================] - 11s 492ms/step - loss: 0.0088 - semantic_0_loss: 0.0019 - semantic_1_loss: 0.0057 - semantic_2_loss: 0.0012 - lr: 1.7752e-05\n",
      "Epoch 174/200\n",
      "22/22 [==============================] - ETA: 0s - loss: 0.0089 - semantic_0_loss: 0.0019 - semantic_1_loss: 0.0059 - semantic_2_loss: 0.0012WARNING:tensorflow:Can save best model only with val_loss available, skipping.\n"
     ]
    },
    {
     "name": "stderr",
     "output_type": "stream",
     "text": [
      "WARNING:tensorflow:Can save best model only with val_loss available, skipping.\n"
     ]
    },
    {
     "name": "stdout",
     "output_type": "stream",
     "text": [
      "22/22 [==============================] - 11s 492ms/step - loss: 0.0089 - semantic_0_loss: 0.0019 - semantic_1_loss: 0.0059 - semantic_2_loss: 0.0012 - lr: 1.7575e-05\n",
      "Epoch 175/200\n",
      "22/22 [==============================] - ETA: 0s - loss: 0.0086 - semantic_0_loss: 0.0018 - semantic_1_loss: 0.0056 - semantic_2_loss: 0.0012WARNING:tensorflow:Can save best model only with val_loss available, skipping.\n"
     ]
    },
    {
     "name": "stderr",
     "output_type": "stream",
     "text": [
      "WARNING:tensorflow:Can save best model only with val_loss available, skipping.\n"
     ]
    },
    {
     "name": "stdout",
     "output_type": "stream",
     "text": [
      "22/22 [==============================] - 11s 491ms/step - loss: 0.0086 - semantic_0_loss: 0.0018 - semantic_1_loss: 0.0056 - semantic_2_loss: 0.0012 - lr: 1.7399e-05\n",
      "Epoch 176/200\n",
      "22/22 [==============================] - ETA: 0s - loss: 0.0087 - semantic_0_loss: 0.0019 - semantic_1_loss: 0.0057 - semantic_2_loss: 0.0012WARNING:tensorflow:Can save best model only with val_loss available, skipping.\n"
     ]
    },
    {
     "name": "stderr",
     "output_type": "stream",
     "text": [
      "WARNING:tensorflow:Can save best model only with val_loss available, skipping.\n"
     ]
    },
    {
     "name": "stdout",
     "output_type": "stream",
     "text": [
      "22/22 [==============================] - 11s 486ms/step - loss: 0.0087 - semantic_0_loss: 0.0019 - semantic_1_loss: 0.0057 - semantic_2_loss: 0.0012 - lr: 1.7225e-05\n",
      "Epoch 177/200\n",
      "22/22 [==============================] - ETA: 0s - loss: 0.0088 - semantic_0_loss: 0.0019 - semantic_1_loss: 0.0057 - semantic_2_loss: 0.0012WARNING:tensorflow:Can save best model only with val_loss available, skipping.\n"
     ]
    },
    {
     "name": "stderr",
     "output_type": "stream",
     "text": [
      "WARNING:tensorflow:Can save best model only with val_loss available, skipping.\n"
     ]
    },
    {
     "name": "stdout",
     "output_type": "stream",
     "text": [
      "22/22 [==============================] - 11s 500ms/step - loss: 0.0088 - semantic_0_loss: 0.0019 - semantic_1_loss: 0.0057 - semantic_2_loss: 0.0012 - lr: 1.7053e-05\n",
      "Epoch 178/200\n",
      "22/22 [==============================] - ETA: 0s - loss: 0.0087 - semantic_0_loss: 0.0019 - semantic_1_loss: 0.0057 - semantic_2_loss: 0.0012WARNING:tensorflow:Can save best model only with val_loss available, skipping.\n"
     ]
    },
    {
     "name": "stderr",
     "output_type": "stream",
     "text": [
      "WARNING:tensorflow:Can save best model only with val_loss available, skipping.\n"
     ]
    },
    {
     "name": "stdout",
     "output_type": "stream",
     "text": [
      "22/22 [==============================] - 11s 484ms/step - loss: 0.0087 - semantic_0_loss: 0.0019 - semantic_1_loss: 0.0057 - semantic_2_loss: 0.0012 - lr: 1.6882e-05\n",
      "Epoch 179/200\n",
      "22/22 [==============================] - ETA: 0s - loss: 0.0086 - semantic_0_loss: 0.0018 - semantic_1_loss: 0.0056 - semantic_2_loss: 0.0012WARNING:tensorflow:Can save best model only with val_loss available, skipping.\n"
     ]
    },
    {
     "name": "stderr",
     "output_type": "stream",
     "text": [
      "WARNING:tensorflow:Can save best model only with val_loss available, skipping.\n"
     ]
    },
    {
     "name": "stdout",
     "output_type": "stream",
     "text": [
      "22/22 [==============================] - 11s 480ms/step - loss: 0.0086 - semantic_0_loss: 0.0018 - semantic_1_loss: 0.0056 - semantic_2_loss: 0.0012 - lr: 1.6713e-05\n",
      "Epoch 180/200\n",
      "22/22 [==============================] - ETA: 0s - loss: 0.0089 - semantic_0_loss: 0.0019 - semantic_1_loss: 0.0058 - semantic_2_loss: 0.0012WARNING:tensorflow:Can save best model only with val_loss available, skipping.\n"
     ]
    },
    {
     "name": "stderr",
     "output_type": "stream",
     "text": [
      "WARNING:tensorflow:Can save best model only with val_loss available, skipping.\n"
     ]
    },
    {
     "name": "stdout",
     "output_type": "stream",
     "text": [
      "22/22 [==============================] - 11s 485ms/step - loss: 0.0089 - semantic_0_loss: 0.0019 - semantic_1_loss: 0.0058 - semantic_2_loss: 0.0012 - lr: 1.6546e-05\n",
      "Epoch 181/200\n",
      "22/22 [==============================] - ETA: 0s - loss: 0.0087 - semantic_0_loss: 0.0019 - semantic_1_loss: 0.0056 - semantic_2_loss: 0.0012WARNING:tensorflow:Can save best model only with val_loss available, skipping.\n"
     ]
    },
    {
     "name": "stderr",
     "output_type": "stream",
     "text": [
      "WARNING:tensorflow:Can save best model only with val_loss available, skipping.\n"
     ]
    },
    {
     "name": "stdout",
     "output_type": "stream",
     "text": [
      "22/22 [==============================] - 11s 491ms/step - loss: 0.0087 - semantic_0_loss: 0.0019 - semantic_1_loss: 0.0056 - semantic_2_loss: 0.0012 - lr: 1.6381e-05\n",
      "Epoch 182/200\n",
      "22/22 [==============================] - ETA: 0s - loss: 0.0087 - semantic_0_loss: 0.0019 - semantic_1_loss: 0.0056 - semantic_2_loss: 0.0012WARNING:tensorflow:Can save best model only with val_loss available, skipping.\n"
     ]
    },
    {
     "name": "stderr",
     "output_type": "stream",
     "text": [
      "WARNING:tensorflow:Can save best model only with val_loss available, skipping.\n"
     ]
    },
    {
     "name": "stdout",
     "output_type": "stream",
     "text": [
      "22/22 [==============================] - 11s 490ms/step - loss: 0.0087 - semantic_0_loss: 0.0019 - semantic_1_loss: 0.0056 - semantic_2_loss: 0.0012 - lr: 1.6217e-05\n",
      "Epoch 183/200\n",
      "22/22 [==============================] - ETA: 0s - loss: 0.0088 - semantic_0_loss: 0.0019 - semantic_1_loss: 0.0058 - semantic_2_loss: 0.0012WARNING:tensorflow:Can save best model only with val_loss available, skipping.\n"
     ]
    },
    {
     "name": "stderr",
     "output_type": "stream",
     "text": [
      "WARNING:tensorflow:Can save best model only with val_loss available, skipping.\n"
     ]
    },
    {
     "name": "stdout",
     "output_type": "stream",
     "text": [
      "22/22 [==============================] - 11s 480ms/step - loss: 0.0088 - semantic_0_loss: 0.0019 - semantic_1_loss: 0.0058 - semantic_2_loss: 0.0012 - lr: 1.6055e-05\n",
      "Epoch 184/200\n",
      "22/22 [==============================] - ETA: 0s - loss: 0.0088 - semantic_0_loss: 0.0019 - semantic_1_loss: 0.0057 - semantic_2_loss: 0.0012WARNING:tensorflow:Can save best model only with val_loss available, skipping.\n"
     ]
    },
    {
     "name": "stderr",
     "output_type": "stream",
     "text": [
      "WARNING:tensorflow:Can save best model only with val_loss available, skipping.\n"
     ]
    },
    {
     "name": "stdout",
     "output_type": "stream",
     "text": [
      "22/22 [==============================] - 11s 490ms/step - loss: 0.0088 - semantic_0_loss: 0.0019 - semantic_1_loss: 0.0057 - semantic_2_loss: 0.0012 - lr: 1.5894e-05\n",
      "Epoch 185/200\n",
      "22/22 [==============================] - ETA: 0s - loss: 0.0086 - semantic_0_loss: 0.0018 - semantic_1_loss: 0.0056 - semantic_2_loss: 0.0012WARNING:tensorflow:Can save best model only with val_loss available, skipping.\n"
     ]
    },
    {
     "name": "stderr",
     "output_type": "stream",
     "text": [
      "WARNING:tensorflow:Can save best model only with val_loss available, skipping.\n"
     ]
    },
    {
     "name": "stdout",
     "output_type": "stream",
     "text": [
      "22/22 [==============================] - 11s 489ms/step - loss: 0.0086 - semantic_0_loss: 0.0018 - semantic_1_loss: 0.0056 - semantic_2_loss: 0.0012 - lr: 1.5735e-05\n",
      "Epoch 186/200\n",
      "22/22 [==============================] - ETA: 0s - loss: 0.0088 - semantic_0_loss: 0.0019 - semantic_1_loss: 0.0057 - semantic_2_loss: 0.0012WARNING:tensorflow:Can save best model only with val_loss available, skipping.\n"
     ]
    },
    {
     "name": "stderr",
     "output_type": "stream",
     "text": [
      "WARNING:tensorflow:Can save best model only with val_loss available, skipping.\n"
     ]
    },
    {
     "name": "stdout",
     "output_type": "stream",
     "text": [
      "22/22 [==============================] - 11s 490ms/step - loss: 0.0088 - semantic_0_loss: 0.0019 - semantic_1_loss: 0.0057 - semantic_2_loss: 0.0012 - lr: 1.5578e-05\n",
      "Epoch 187/200\n",
      "22/22 [==============================] - ETA: 0s - loss: 0.0087 - semantic_0_loss: 0.0019 - semantic_1_loss: 0.0056 - semantic_2_loss: 0.0012WARNING:tensorflow:Can save best model only with val_loss available, skipping.\n"
     ]
    },
    {
     "name": "stderr",
     "output_type": "stream",
     "text": [
      "WARNING:tensorflow:Can save best model only with val_loss available, skipping.\n"
     ]
    },
    {
     "name": "stdout",
     "output_type": "stream",
     "text": [
      "22/22 [==============================] - 11s 494ms/step - loss: 0.0087 - semantic_0_loss: 0.0019 - semantic_1_loss: 0.0056 - semantic_2_loss: 0.0012 - lr: 1.5422e-05\n",
      "Epoch 188/200\n",
      "22/22 [==============================] - ETA: 0s - loss: 0.0084 - semantic_0_loss: 0.0018 - semantic_1_loss: 0.0055 - semantic_2_loss: 0.0012WARNING:tensorflow:Can save best model only with val_loss available, skipping.\n"
     ]
    },
    {
     "name": "stderr",
     "output_type": "stream",
     "text": [
      "WARNING:tensorflow:Can save best model only with val_loss available, skipping.\n"
     ]
    },
    {
     "name": "stdout",
     "output_type": "stream",
     "text": [
      "22/22 [==============================] - 11s 488ms/step - loss: 0.0084 - semantic_0_loss: 0.0018 - semantic_1_loss: 0.0055 - semantic_2_loss: 0.0012 - lr: 1.5268e-05\n",
      "Epoch 189/200\n",
      "22/22 [==============================] - ETA: 0s - loss: 0.0085 - semantic_0_loss: 0.0018 - semantic_1_loss: 0.0055 - semantic_2_loss: 0.0012WARNING:tensorflow:Can save best model only with val_loss available, skipping.\n"
     ]
    },
    {
     "name": "stderr",
     "output_type": "stream",
     "text": [
      "WARNING:tensorflow:Can save best model only with val_loss available, skipping.\n"
     ]
    },
    {
     "name": "stdout",
     "output_type": "stream",
     "text": [
      "22/22 [==============================] - 11s 490ms/step - loss: 0.0085 - semantic_0_loss: 0.0018 - semantic_1_loss: 0.0055 - semantic_2_loss: 0.0012 - lr: 1.5115e-05\n",
      "Epoch 190/200\n",
      "22/22 [==============================] - ETA: 0s - loss: 0.0086 - semantic_0_loss: 0.0018 - semantic_1_loss: 0.0056 - semantic_2_loss: 0.0012WARNING:tensorflow:Can save best model only with val_loss available, skipping.\n"
     ]
    },
    {
     "name": "stderr",
     "output_type": "stream",
     "text": [
      "WARNING:tensorflow:Can save best model only with val_loss available, skipping.\n"
     ]
    },
    {
     "name": "stdout",
     "output_type": "stream",
     "text": [
      "22/22 [==============================] - 11s 497ms/step - loss: 0.0086 - semantic_0_loss: 0.0018 - semantic_1_loss: 0.0056 - semantic_2_loss: 0.0012 - lr: 1.4964e-05\n",
      "Epoch 191/200\n",
      "22/22 [==============================] - ETA: 0s - loss: 0.0085 - semantic_0_loss: 0.0018 - semantic_1_loss: 0.0055 - semantic_2_loss: 0.0012WARNING:tensorflow:Can save best model only with val_loss available, skipping.\n"
     ]
    },
    {
     "name": "stderr",
     "output_type": "stream",
     "text": [
      "WARNING:tensorflow:Can save best model only with val_loss available, skipping.\n"
     ]
    },
    {
     "name": "stdout",
     "output_type": "stream",
     "text": [
      "22/22 [==============================] - 11s 493ms/step - loss: 0.0085 - semantic_0_loss: 0.0018 - semantic_1_loss: 0.0055 - semantic_2_loss: 0.0012 - lr: 1.4814e-05\n",
      "Epoch 192/200\n",
      "22/22 [==============================] - ETA: 0s - loss: 0.0085 - semantic_0_loss: 0.0018 - semantic_1_loss: 0.0055 - semantic_2_loss: 0.0012WARNING:tensorflow:Can save best model only with val_loss available, skipping.\n"
     ]
    },
    {
     "name": "stderr",
     "output_type": "stream",
     "text": [
      "WARNING:tensorflow:Can save best model only with val_loss available, skipping.\n"
     ]
    },
    {
     "name": "stdout",
     "output_type": "stream",
     "text": [
      "22/22 [==============================] - 11s 489ms/step - loss: 0.0085 - semantic_0_loss: 0.0018 - semantic_1_loss: 0.0055 - semantic_2_loss: 0.0012 - lr: 1.4666e-05\n",
      "Epoch 193/200\n",
      "22/22 [==============================] - ETA: 0s - loss: 0.0086 - semantic_0_loss: 0.0018 - semantic_1_loss: 0.0056 - semantic_2_loss: 0.0012WARNING:tensorflow:Can save best model only with val_loss available, skipping.\n"
     ]
    },
    {
     "name": "stderr",
     "output_type": "stream",
     "text": [
      "WARNING:tensorflow:Can save best model only with val_loss available, skipping.\n"
     ]
    },
    {
     "name": "stdout",
     "output_type": "stream",
     "text": [
      "22/22 [==============================] - 11s 484ms/step - loss: 0.0086 - semantic_0_loss: 0.0018 - semantic_1_loss: 0.0056 - semantic_2_loss: 0.0012 - lr: 1.4520e-05\n",
      "Epoch 194/200\n",
      "22/22 [==============================] - ETA: 0s - loss: 0.0089 - semantic_0_loss: 0.0019 - semantic_1_loss: 0.0058 - semantic_2_loss: 0.0012WARNING:tensorflow:Can save best model only with val_loss available, skipping.\n"
     ]
    },
    {
     "name": "stderr",
     "output_type": "stream",
     "text": [
      "WARNING:tensorflow:Can save best model only with val_loss available, skipping.\n"
     ]
    },
    {
     "name": "stdout",
     "output_type": "stream",
     "text": [
      "22/22 [==============================] - 11s 490ms/step - loss: 0.0089 - semantic_0_loss: 0.0019 - semantic_1_loss: 0.0058 - semantic_2_loss: 0.0012 - lr: 1.4374e-05\n",
      "Epoch 195/200\n",
      "22/22 [==============================] - ETA: 0s - loss: 0.0086 - semantic_0_loss: 0.0019 - semantic_1_loss: 0.0055 - semantic_2_loss: 0.0012WARNING:tensorflow:Can save best model only with val_loss available, skipping.\n"
     ]
    },
    {
     "name": "stderr",
     "output_type": "stream",
     "text": [
      "WARNING:tensorflow:Can save best model only with val_loss available, skipping.\n"
     ]
    },
    {
     "name": "stdout",
     "output_type": "stream",
     "text": [
      "22/22 [==============================] - 11s 497ms/step - loss: 0.0086 - semantic_0_loss: 0.0019 - semantic_1_loss: 0.0055 - semantic_2_loss: 0.0012 - lr: 1.4231e-05\n",
      "Epoch 196/200\n",
      "22/22 [==============================] - ETA: 0s - loss: 0.0085 - semantic_0_loss: 0.0018 - semantic_1_loss: 0.0055 - semantic_2_loss: 0.0012WARNING:tensorflow:Can save best model only with val_loss available, skipping.\n"
     ]
    },
    {
     "name": "stderr",
     "output_type": "stream",
     "text": [
      "WARNING:tensorflow:Can save best model only with val_loss available, skipping.\n"
     ]
    },
    {
     "name": "stdout",
     "output_type": "stream",
     "text": [
      "22/22 [==============================] - 11s 488ms/step - loss: 0.0085 - semantic_0_loss: 0.0018 - semantic_1_loss: 0.0055 - semantic_2_loss: 0.0012 - lr: 1.4088e-05\n",
      "Epoch 197/200\n",
      "22/22 [==============================] - ETA: 0s - loss: 0.0085 - semantic_0_loss: 0.0018 - semantic_1_loss: 0.0055 - semantic_2_loss: 0.0012WARNING:tensorflow:Can save best model only with val_loss available, skipping.\n"
     ]
    },
    {
     "name": "stderr",
     "output_type": "stream",
     "text": [
      "WARNING:tensorflow:Can save best model only with val_loss available, skipping.\n"
     ]
    },
    {
     "name": "stdout",
     "output_type": "stream",
     "text": [
      "22/22 [==============================] - 11s 495ms/step - loss: 0.0085 - semantic_0_loss: 0.0018 - semantic_1_loss: 0.0055 - semantic_2_loss: 0.0012 - lr: 1.3948e-05\n",
      "Epoch 198/200\n",
      "22/22 [==============================] - ETA: 0s - loss: 0.0084 - semantic_0_loss: 0.0018 - semantic_1_loss: 0.0055 - semantic_2_loss: 0.0012WARNING:tensorflow:Can save best model only with val_loss available, skipping.\n"
     ]
    },
    {
     "name": "stderr",
     "output_type": "stream",
     "text": [
      "WARNING:tensorflow:Can save best model only with val_loss available, skipping.\n"
     ]
    },
    {
     "name": "stdout",
     "output_type": "stream",
     "text": [
      "22/22 [==============================] - 11s 498ms/step - loss: 0.0084 - semantic_0_loss: 0.0018 - semantic_1_loss: 0.0055 - semantic_2_loss: 0.0012 - lr: 1.3808e-05\n",
      "Epoch 199/200\n",
      "22/22 [==============================] - ETA: 0s - loss: 0.0086 - semantic_0_loss: 0.0019 - semantic_1_loss: 0.0056 - semantic_2_loss: 0.0012WARNING:tensorflow:Can save best model only with val_loss available, skipping.\n"
     ]
    },
    {
     "name": "stderr",
     "output_type": "stream",
     "text": [
      "WARNING:tensorflow:Can save best model only with val_loss available, skipping.\n"
     ]
    },
    {
     "name": "stdout",
     "output_type": "stream",
     "text": [
      "22/22 [==============================] - 11s 490ms/step - loss: 0.0086 - semantic_0_loss: 0.0019 - semantic_1_loss: 0.0056 - semantic_2_loss: 0.0012 - lr: 1.3670e-05\n",
      "Epoch 200/200\n",
      "22/22 [==============================] - ETA: 0s - loss: 0.0087 - semantic_0_loss: 0.0018 - semantic_1_loss: 0.0056 - semantic_2_loss: 0.0012WARNING:tensorflow:Can save best model only with val_loss available, skipping.\n"
     ]
    },
    {
     "name": "stderr",
     "output_type": "stream",
     "text": [
      "WARNING:tensorflow:Can save best model only with val_loss available, skipping.\n"
     ]
    },
    {
     "name": "stdout",
     "output_type": "stream",
     "text": [
      "22/22 [==============================] - 11s 489ms/step - loss: 0.0087 - semantic_0_loss: 0.0018 - semantic_1_loss: 0.0056 - semantic_2_loss: 0.0012 - lr: 1.3533e-05\n",
      "/home/yfong/deeplearning/dense_cell_segmentation\n",
      "['M926910_CFL_Position7_CD3_test_img.png', 'M872956_JML_Position10_CD3_test_img.png', 'M872956_JML_Position8_CD8_test_img.png', 'M926910_CFL_Position13_CD3_test_img.png', 'M872956_JML_Position8_CD3_test_img.png', 'M872956_JML_Position8_CD4_test_img.png', 'M872956_JML_Position9_CD3_test_img.png']\n",
      "M926910_CFL_Position7_CD3_test_img.png\n"
     ]
    },
    {
     "name": "stderr",
     "output_type": "stream",
     "text": [
      "/app/software/DeepCell/0.11.1-foss-2021b-CUDA-11.4.1/lib/python3.9/site-packages/deepcell_toolbox/deep_watershed.py:179: FutureWarning: `selem` is a deprecated argument name for `h_maxima`. It will be removed in version 1.0.Please use `footprint` instead.\n",
      "  markers = h_maxima(image=maxima,\n"
     ]
    },
    {
     "name": "stdout",
     "output_type": "stream",
     "text": [
      "M872956_JML_Position10_CD3_test_img.png\n",
      "M872956_JML_Position8_CD8_test_img.png\n",
      "M926910_CFL_Position13_CD3_test_img.png\n",
      "M872956_JML_Position8_CD3_test_img.png\n",
      "M872956_JML_Position8_CD4_test_img.png\n",
      "M872956_JML_Position9_CD3_test_img.png\n",
      "[[0.13505311077389984, 0.25072463768115943], [0.1827768014059754, 0.2964824120603015], [0.285, 0.4433497536945813], [0.12652068126520682, 0.20620842572062084], [0.30490018148820325, 0.4532627865961199], [0.4046997389033943, 0.5438144329896907], [0.21560574948665298, 0.3061630218687873]]\n",
      "                                         0         1         2\n",
      "0   M926910_CFL_Position7_CD3_test_img.png  0.135053  0.250725\n",
      "1  M872956_JML_Position10_CD3_test_img.png  0.182777  0.296482\n",
      "2   M872956_JML_Position8_CD8_test_img.png     0.285   0.44335\n",
      "3  M926910_CFL_Position13_CD3_test_img.png  0.126521  0.206208\n",
      "4   M872956_JML_Position8_CD3_test_img.png    0.3049  0.453263\n",
      "5   M872956_JML_Position8_CD4_test_img.png    0.4047  0.543814\n",
      "6   M872956_JML_Position9_CD3_test_img.png  0.215606  0.306163\n",
      "5\n",
      "(5, 1040, 1159, 1)\n",
      "(5, 1040, 1159, 1)\n",
      "3.0769230769230766\n",
      "(5, 3199, 3566, 1)\n",
      "(5, 3199, 3566, 1)\n",
      "(5, 3199, 3566, 1)\n",
      "(5, 3199, 3566, 1)\n",
      "[0, 400, 800, 1200, 2687]\n",
      "[512, 912, 1312, 1712, 3199]\n",
      "[0, 512, 1024, 1536, 3054]\n",
      "[512, 1024, 1536, 2048, 3566]\n",
      "(125, 512, 512, 1)\n",
      "(125, 512, 512, 1)\n",
      "WARNING:tensorflow:Removing 14 of 125 images with fewer than 5 objects.\n"
     ]
    },
    {
     "name": "stderr",
     "output_type": "stream",
     "text": [
      "WARNING:tensorflow:Removing 14 of 125 images with fewer than 5 objects.\n",
      "/app/software/TensorFlow/2.7.1-foss-2021b-CUDA-11.4.1/lib/python3.9/site-packages/keras/optimizer_v2/adam.py:105: UserWarning: The `lr` argument is deprecated, use `learning_rate` instead.\n",
      "  super(Adam, self).__init__(name, **kwargs)\n"
     ]
    },
    {
     "name": "stdout",
     "output_type": "stream",
     "text": [
      "Training on 3 GPUs.\n"
     ]
    },
    {
     "name": "stderr",
     "output_type": "stream",
     "text": [
      "2022-11-11 20:53:04.472359: I tensorflow/core/common_runtime/gpu/gpu_device.cc:1525] Created device /device:GPU:0 with 14657 MB memory:  -> device: 0, name: Tesla V100-PCIE-16GB, pci bus id: 0000:04:00.0, compute capability: 7.0\n",
      "2022-11-11 20:53:04.473339: I tensorflow/core/common_runtime/gpu/gpu_device.cc:1525] Created device /device:GPU:1 with 14657 MB memory:  -> device: 1, name: Tesla V100-PCIE-16GB, pci bus id: 0000:06:00.0, compute capability: 7.0\n",
      "2022-11-11 20:53:04.474227: I tensorflow/core/common_runtime/gpu/gpu_device.cc:1525] Created device /device:GPU:2 with 14657 MB memory:  -> device: 2, name: Tesla V100-PCIE-16GB, pci bus id: 0000:08:00.0, compute capability: 7.0\n"
     ]
    },
    {
     "name": "stdout",
     "output_type": "stream",
     "text": [
      "Epoch 1/200\n",
      "27/27 [==============================] - ETA: 0s - loss: 0.0197 - semantic_0_loss: 0.0033 - semantic_1_loss: 0.0140 - semantic_2_loss: 0.0024WARNING:tensorflow:Can save best model only with val_loss available, skipping.\n"
     ]
    },
    {
     "name": "stderr",
     "output_type": "stream",
     "text": [
      "WARNING:tensorflow:Can save best model only with val_loss available, skipping.\n"
     ]
    },
    {
     "name": "stdout",
     "output_type": "stream",
     "text": [
      "27/27 [==============================] - 27s 491ms/step - loss: 0.0197 - semantic_0_loss: 0.0033 - semantic_1_loss: 0.0140 - semantic_2_loss: 0.0024 - lr: 1.0000e-04\n",
      "Epoch 2/200\n",
      "27/27 [==============================] - ETA: 0s - loss: 0.0156 - semantic_0_loss: 0.0027 - semantic_1_loss: 0.0111 - semantic_2_loss: 0.0019WARNING:tensorflow:Can save best model only with val_loss available, skipping.\n"
     ]
    },
    {
     "name": "stderr",
     "output_type": "stream",
     "text": [
      "WARNING:tensorflow:Can save best model only with val_loss available, skipping.\n"
     ]
    },
    {
     "name": "stdout",
     "output_type": "stream",
     "text": [
      "27/27 [==============================] - 13s 489ms/step - loss: 0.0156 - semantic_0_loss: 0.0027 - semantic_1_loss: 0.0111 - semantic_2_loss: 0.0019 - lr: 9.9000e-05\n",
      "Epoch 3/200\n",
      "27/27 [==============================] - ETA: 0s - loss: 0.0147 - semantic_0_loss: 0.0025 - semantic_1_loss: 0.0103 - semantic_2_loss: 0.0018WARNING:tensorflow:Can save best model only with val_loss available, skipping.\n"
     ]
    },
    {
     "name": "stderr",
     "output_type": "stream",
     "text": [
      "WARNING:tensorflow:Can save best model only with val_loss available, skipping.\n"
     ]
    },
    {
     "name": "stdout",
     "output_type": "stream",
     "text": [
      "27/27 [==============================] - 13s 486ms/step - loss: 0.0147 - semantic_0_loss: 0.0025 - semantic_1_loss: 0.0103 - semantic_2_loss: 0.0018 - lr: 9.8010e-05\n",
      "Epoch 4/200\n",
      "27/27 [==============================] - ETA: 0s - loss: 0.0143 - semantic_0_loss: 0.0025 - semantic_1_loss: 0.0101 - semantic_2_loss: 0.0018WARNING:tensorflow:Can save best model only with val_loss available, skipping.\n"
     ]
    },
    {
     "name": "stderr",
     "output_type": "stream",
     "text": [
      "WARNING:tensorflow:Can save best model only with val_loss available, skipping.\n"
     ]
    },
    {
     "name": "stdout",
     "output_type": "stream",
     "text": [
      "27/27 [==============================] - 13s 492ms/step - loss: 0.0143 - semantic_0_loss: 0.0025 - semantic_1_loss: 0.0101 - semantic_2_loss: 0.0018 - lr: 9.7030e-05\n",
      "Epoch 5/200\n",
      "27/27 [==============================] - ETA: 0s - loss: 0.0140 - semantic_0_loss: 0.0025 - semantic_1_loss: 0.0098 - semantic_2_loss: 0.0017WARNING:tensorflow:Can save best model only with val_loss available, skipping.\n"
     ]
    },
    {
     "name": "stderr",
     "output_type": "stream",
     "text": [
      "WARNING:tensorflow:Can save best model only with val_loss available, skipping.\n"
     ]
    },
    {
     "name": "stdout",
     "output_type": "stream",
     "text": [
      "27/27 [==============================] - 13s 486ms/step - loss: 0.0140 - semantic_0_loss: 0.0025 - semantic_1_loss: 0.0098 - semantic_2_loss: 0.0017 - lr: 9.6060e-05\n",
      "Epoch 6/200\n",
      "27/27 [==============================] - ETA: 0s - loss: 0.0138 - semantic_0_loss: 0.0024 - semantic_1_loss: 0.0097 - semantic_2_loss: 0.0017WARNING:tensorflow:Can save best model only with val_loss available, skipping.\n"
     ]
    },
    {
     "name": "stderr",
     "output_type": "stream",
     "text": [
      "WARNING:tensorflow:Can save best model only with val_loss available, skipping.\n"
     ]
    },
    {
     "name": "stdout",
     "output_type": "stream",
     "text": [
      "27/27 [==============================] - 13s 486ms/step - loss: 0.0138 - semantic_0_loss: 0.0024 - semantic_1_loss: 0.0097 - semantic_2_loss: 0.0017 - lr: 9.5099e-05\n",
      "Epoch 7/200\n",
      "27/27 [==============================] - ETA: 0s - loss: 0.0140 - semantic_0_loss: 0.0025 - semantic_1_loss: 0.0099 - semantic_2_loss: 0.0017WARNING:tensorflow:Can save best model only with val_loss available, skipping.\n"
     ]
    },
    {
     "name": "stderr",
     "output_type": "stream",
     "text": [
      "WARNING:tensorflow:Can save best model only with val_loss available, skipping.\n"
     ]
    },
    {
     "name": "stdout",
     "output_type": "stream",
     "text": [
      "27/27 [==============================] - 13s 491ms/step - loss: 0.0140 - semantic_0_loss: 0.0025 - semantic_1_loss: 0.0099 - semantic_2_loss: 0.0017 - lr: 9.4148e-05\n",
      "Epoch 8/200\n",
      "27/27 [==============================] - ETA: 0s - loss: 0.0136 - semantic_0_loss: 0.0024 - semantic_1_loss: 0.0095 - semantic_2_loss: 0.0016WARNING:tensorflow:Can save best model only with val_loss available, skipping.\n"
     ]
    },
    {
     "name": "stderr",
     "output_type": "stream",
     "text": [
      "WARNING:tensorflow:Can save best model only with val_loss available, skipping.\n"
     ]
    },
    {
     "name": "stdout",
     "output_type": "stream",
     "text": [
      "27/27 [==============================] - 13s 486ms/step - loss: 0.0136 - semantic_0_loss: 0.0024 - semantic_1_loss: 0.0095 - semantic_2_loss: 0.0016 - lr: 9.3207e-05\n",
      "Epoch 9/200\n",
      "27/27 [==============================] - ETA: 0s - loss: 0.0130 - semantic_0_loss: 0.0023 - semantic_1_loss: 0.0091 - semantic_2_loss: 0.0016WARNING:tensorflow:Can save best model only with val_loss available, skipping.\n"
     ]
    },
    {
     "name": "stderr",
     "output_type": "stream",
     "text": [
      "WARNING:tensorflow:Can save best model only with val_loss available, skipping.\n"
     ]
    },
    {
     "name": "stdout",
     "output_type": "stream",
     "text": [
      "27/27 [==============================] - 13s 486ms/step - loss: 0.0130 - semantic_0_loss: 0.0023 - semantic_1_loss: 0.0091 - semantic_2_loss: 0.0016 - lr: 9.2274e-05\n",
      "Epoch 10/200\n",
      "27/27 [==============================] - ETA: 0s - loss: 0.0134 - semantic_0_loss: 0.0024 - semantic_1_loss: 0.0094 - semantic_2_loss: 0.0016WARNING:tensorflow:Can save best model only with val_loss available, skipping.\n"
     ]
    },
    {
     "name": "stderr",
     "output_type": "stream",
     "text": [
      "WARNING:tensorflow:Can save best model only with val_loss available, skipping.\n"
     ]
    },
    {
     "name": "stdout",
     "output_type": "stream",
     "text": [
      "27/27 [==============================] - 13s 483ms/step - loss: 0.0134 - semantic_0_loss: 0.0024 - semantic_1_loss: 0.0094 - semantic_2_loss: 0.0016 - lr: 9.1352e-05\n",
      "Epoch 11/200\n",
      "27/27 [==============================] - ETA: 0s - loss: 0.0133 - semantic_0_loss: 0.0024 - semantic_1_loss: 0.0093 - semantic_2_loss: 0.0016WARNING:tensorflow:Can save best model only with val_loss available, skipping.\n"
     ]
    },
    {
     "name": "stderr",
     "output_type": "stream",
     "text": [
      "WARNING:tensorflow:Can save best model only with val_loss available, skipping.\n"
     ]
    },
    {
     "name": "stdout",
     "output_type": "stream",
     "text": [
      "27/27 [==============================] - 13s 493ms/step - loss: 0.0133 - semantic_0_loss: 0.0024 - semantic_1_loss: 0.0093 - semantic_2_loss: 0.0016 - lr: 9.0438e-05\n",
      "Epoch 12/200\n",
      "27/27 [==============================] - ETA: 0s - loss: 0.0136 - semantic_0_loss: 0.0024 - semantic_1_loss: 0.0096 - semantic_2_loss: 0.0016WARNING:tensorflow:Can save best model only with val_loss available, skipping.\n"
     ]
    },
    {
     "name": "stderr",
     "output_type": "stream",
     "text": [
      "WARNING:tensorflow:Can save best model only with val_loss available, skipping.\n"
     ]
    },
    {
     "name": "stdout",
     "output_type": "stream",
     "text": [
      "27/27 [==============================] - 13s 497ms/step - loss: 0.0136 - semantic_0_loss: 0.0024 - semantic_1_loss: 0.0096 - semantic_2_loss: 0.0016 - lr: 8.9534e-05\n",
      "Epoch 13/200\n",
      "27/27 [==============================] - ETA: 0s - loss: 0.0133 - semantic_0_loss: 0.0024 - semantic_1_loss: 0.0093 - semantic_2_loss: 0.0016WARNING:tensorflow:Can save best model only with val_loss available, skipping.\n"
     ]
    },
    {
     "name": "stderr",
     "output_type": "stream",
     "text": [
      "WARNING:tensorflow:Can save best model only with val_loss available, skipping.\n"
     ]
    },
    {
     "name": "stdout",
     "output_type": "stream",
     "text": [
      "27/27 [==============================] - 13s 491ms/step - loss: 0.0133 - semantic_0_loss: 0.0024 - semantic_1_loss: 0.0093 - semantic_2_loss: 0.0016 - lr: 8.8638e-05\n",
      "Epoch 14/200\n",
      "27/27 [==============================] - ETA: 0s - loss: 0.0133 - semantic_0_loss: 0.0024 - semantic_1_loss: 0.0092 - semantic_2_loss: 0.0016WARNING:tensorflow:Can save best model only with val_loss available, skipping.\n"
     ]
    },
    {
     "name": "stderr",
     "output_type": "stream",
     "text": [
      "WARNING:tensorflow:Can save best model only with val_loss available, skipping.\n"
     ]
    },
    {
     "name": "stdout",
     "output_type": "stream",
     "text": [
      "27/27 [==============================] - 13s 490ms/step - loss: 0.0133 - semantic_0_loss: 0.0024 - semantic_1_loss: 0.0092 - semantic_2_loss: 0.0016 - lr: 8.7752e-05\n",
      "Epoch 15/200\n",
      "27/27 [==============================] - ETA: 0s - loss: 0.0129 - semantic_0_loss: 0.0023 - semantic_1_loss: 0.0090 - semantic_2_loss: 0.0016WARNING:tensorflow:Can save best model only with val_loss available, skipping.\n"
     ]
    },
    {
     "name": "stderr",
     "output_type": "stream",
     "text": [
      "WARNING:tensorflow:Can save best model only with val_loss available, skipping.\n"
     ]
    },
    {
     "name": "stdout",
     "output_type": "stream",
     "text": [
      "27/27 [==============================] - 13s 490ms/step - loss: 0.0129 - semantic_0_loss: 0.0023 - semantic_1_loss: 0.0090 - semantic_2_loss: 0.0016 - lr: 8.6875e-05\n",
      "Epoch 16/200\n",
      "27/27 [==============================] - ETA: 0s - loss: 0.0129 - semantic_0_loss: 0.0023 - semantic_1_loss: 0.0090 - semantic_2_loss: 0.0016WARNING:tensorflow:Can save best model only with val_loss available, skipping.\n"
     ]
    },
    {
     "name": "stderr",
     "output_type": "stream",
     "text": [
      "WARNING:tensorflow:Can save best model only with val_loss available, skipping.\n"
     ]
    },
    {
     "name": "stdout",
     "output_type": "stream",
     "text": [
      "27/27 [==============================] - 13s 490ms/step - loss: 0.0129 - semantic_0_loss: 0.0023 - semantic_1_loss: 0.0090 - semantic_2_loss: 0.0016 - lr: 8.6006e-05\n",
      "Epoch 17/200\n",
      "27/27 [==============================] - ETA: 0s - loss: 0.0128 - semantic_0_loss: 0.0023 - semantic_1_loss: 0.0089 - semantic_2_loss: 0.0015WARNING:tensorflow:Can save best model only with val_loss available, skipping.\n"
     ]
    },
    {
     "name": "stderr",
     "output_type": "stream",
     "text": [
      "WARNING:tensorflow:Can save best model only with val_loss available, skipping.\n"
     ]
    },
    {
     "name": "stdout",
     "output_type": "stream",
     "text": [
      "27/27 [==============================] - 13s 492ms/step - loss: 0.0128 - semantic_0_loss: 0.0023 - semantic_1_loss: 0.0089 - semantic_2_loss: 0.0015 - lr: 8.5146e-05\n",
      "Epoch 18/200\n",
      "27/27 [==============================] - ETA: 0s - loss: 0.0125 - semantic_0_loss: 0.0022 - semantic_1_loss: 0.0087 - semantic_2_loss: 0.0015WARNING:tensorflow:Can save best model only with val_loss available, skipping.\n"
     ]
    },
    {
     "name": "stderr",
     "output_type": "stream",
     "text": [
      "WARNING:tensorflow:Can save best model only with val_loss available, skipping.\n"
     ]
    },
    {
     "name": "stdout",
     "output_type": "stream",
     "text": [
      "27/27 [==============================] - 13s 487ms/step - loss: 0.0125 - semantic_0_loss: 0.0022 - semantic_1_loss: 0.0087 - semantic_2_loss: 0.0015 - lr: 8.4294e-05\n",
      "Epoch 19/200\n",
      "27/27 [==============================] - ETA: 0s - loss: 0.0127 - semantic_0_loss: 0.0023 - semantic_1_loss: 0.0088 - semantic_2_loss: 0.0015WARNING:tensorflow:Can save best model only with val_loss available, skipping.\n"
     ]
    },
    {
     "name": "stderr",
     "output_type": "stream",
     "text": [
      "WARNING:tensorflow:Can save best model only with val_loss available, skipping.\n"
     ]
    },
    {
     "name": "stdout",
     "output_type": "stream",
     "text": [
      "27/27 [==============================] - 13s 490ms/step - loss: 0.0127 - semantic_0_loss: 0.0023 - semantic_1_loss: 0.0088 - semantic_2_loss: 0.0015 - lr: 8.3451e-05\n",
      "Epoch 20/200\n",
      "27/27 [==============================] - ETA: 0s - loss: 0.0125 - semantic_0_loss: 0.0023 - semantic_1_loss: 0.0087 - semantic_2_loss: 0.0015WARNING:tensorflow:Can save best model only with val_loss available, skipping.\n"
     ]
    },
    {
     "name": "stderr",
     "output_type": "stream",
     "text": [
      "WARNING:tensorflow:Can save best model only with val_loss available, skipping.\n"
     ]
    },
    {
     "name": "stdout",
     "output_type": "stream",
     "text": [
      "27/27 [==============================] - 14s 493ms/step - loss: 0.0125 - semantic_0_loss: 0.0023 - semantic_1_loss: 0.0087 - semantic_2_loss: 0.0015 - lr: 8.2617e-05\n",
      "Epoch 21/200\n",
      "27/27 [==============================] - ETA: 0s - loss: 0.0125 - semantic_0_loss: 0.0023 - semantic_1_loss: 0.0087 - semantic_2_loss: 0.0015WARNING:tensorflow:Can save best model only with val_loss available, skipping.\n"
     ]
    },
    {
     "name": "stderr",
     "output_type": "stream",
     "text": [
      "WARNING:tensorflow:Can save best model only with val_loss available, skipping.\n"
     ]
    },
    {
     "name": "stdout",
     "output_type": "stream",
     "text": [
      "27/27 [==============================] - 13s 483ms/step - loss: 0.0125 - semantic_0_loss: 0.0023 - semantic_1_loss: 0.0087 - semantic_2_loss: 0.0015 - lr: 8.1791e-05\n",
      "Epoch 22/200\n",
      "27/27 [==============================] - ETA: 0s - loss: 0.0125 - semantic_0_loss: 0.0023 - semantic_1_loss: 0.0087 - semantic_2_loss: 0.0015WARNING:tensorflow:Can save best model only with val_loss available, skipping.\n"
     ]
    },
    {
     "name": "stderr",
     "output_type": "stream",
     "text": [
      "WARNING:tensorflow:Can save best model only with val_loss available, skipping.\n"
     ]
    },
    {
     "name": "stdout",
     "output_type": "stream",
     "text": [
      "27/27 [==============================] - 14s 498ms/step - loss: 0.0125 - semantic_0_loss: 0.0023 - semantic_1_loss: 0.0087 - semantic_2_loss: 0.0015 - lr: 8.0973e-05\n",
      "Epoch 23/200\n",
      "27/27 [==============================] - ETA: 0s - loss: 0.0127 - semantic_0_loss: 0.0023 - semantic_1_loss: 0.0088 - semantic_2_loss: 0.0015WARNING:tensorflow:Can save best model only with val_loss available, skipping.\n"
     ]
    },
    {
     "name": "stderr",
     "output_type": "stream",
     "text": [
      "WARNING:tensorflow:Can save best model only with val_loss available, skipping.\n"
     ]
    },
    {
     "name": "stdout",
     "output_type": "stream",
     "text": [
      "27/27 [==============================] - 13s 489ms/step - loss: 0.0127 - semantic_0_loss: 0.0023 - semantic_1_loss: 0.0088 - semantic_2_loss: 0.0015 - lr: 8.0163e-05\n",
      "Epoch 24/200\n",
      "27/27 [==============================] - ETA: 0s - loss: 0.0125 - semantic_0_loss: 0.0023 - semantic_1_loss: 0.0086 - semantic_2_loss: 0.0015WARNING:tensorflow:Can save best model only with val_loss available, skipping.\n"
     ]
    },
    {
     "name": "stderr",
     "output_type": "stream",
     "text": [
      "WARNING:tensorflow:Can save best model only with val_loss available, skipping.\n"
     ]
    },
    {
     "name": "stdout",
     "output_type": "stream",
     "text": [
      "27/27 [==============================] - 13s 482ms/step - loss: 0.0125 - semantic_0_loss: 0.0023 - semantic_1_loss: 0.0086 - semantic_2_loss: 0.0015 - lr: 7.9361e-05\n",
      "Epoch 25/200\n",
      "27/27 [==============================] - ETA: 0s - loss: 0.0125 - semantic_0_loss: 0.0023 - semantic_1_loss: 0.0087 - semantic_2_loss: 0.0015WARNING:tensorflow:Can save best model only with val_loss available, skipping.\n"
     ]
    },
    {
     "name": "stderr",
     "output_type": "stream",
     "text": [
      "WARNING:tensorflow:Can save best model only with val_loss available, skipping.\n"
     ]
    },
    {
     "name": "stdout",
     "output_type": "stream",
     "text": [
      "27/27 [==============================] - 13s 483ms/step - loss: 0.0125 - semantic_0_loss: 0.0023 - semantic_1_loss: 0.0087 - semantic_2_loss: 0.0015 - lr: 7.8568e-05\n",
      "Epoch 26/200\n",
      "27/27 [==============================] - ETA: 0s - loss: 0.0121 - semantic_0_loss: 0.0022 - semantic_1_loss: 0.0083 - semantic_2_loss: 0.0015WARNING:tensorflow:Can save best model only with val_loss available, skipping.\n"
     ]
    },
    {
     "name": "stderr",
     "output_type": "stream",
     "text": [
      "WARNING:tensorflow:Can save best model only with val_loss available, skipping.\n"
     ]
    },
    {
     "name": "stdout",
     "output_type": "stream",
     "text": [
      "27/27 [==============================] - 13s 489ms/step - loss: 0.0121 - semantic_0_loss: 0.0022 - semantic_1_loss: 0.0083 - semantic_2_loss: 0.0015 - lr: 7.7782e-05\n",
      "Epoch 27/200\n",
      "27/27 [==============================] - ETA: 0s - loss: 0.0119 - semantic_0_loss: 0.0022 - semantic_1_loss: 0.0082 - semantic_2_loss: 0.0015WARNING:tensorflow:Can save best model only with val_loss available, skipping.\n"
     ]
    },
    {
     "name": "stderr",
     "output_type": "stream",
     "text": [
      "WARNING:tensorflow:Can save best model only with val_loss available, skipping.\n"
     ]
    },
    {
     "name": "stdout",
     "output_type": "stream",
     "text": [
      "27/27 [==============================] - 13s 487ms/step - loss: 0.0119 - semantic_0_loss: 0.0022 - semantic_1_loss: 0.0082 - semantic_2_loss: 0.0015 - lr: 7.7004e-05\n",
      "Epoch 28/200\n",
      "27/27 [==============================] - ETA: 0s - loss: 0.0120 - semantic_0_loss: 0.0023 - semantic_1_loss: 0.0083 - semantic_2_loss: 0.0015WARNING:tensorflow:Can save best model only with val_loss available, skipping.\n"
     ]
    },
    {
     "name": "stderr",
     "output_type": "stream",
     "text": [
      "WARNING:tensorflow:Can save best model only with val_loss available, skipping.\n"
     ]
    },
    {
     "name": "stdout",
     "output_type": "stream",
     "text": [
      "27/27 [==============================] - 13s 486ms/step - loss: 0.0120 - semantic_0_loss: 0.0023 - semantic_1_loss: 0.0083 - semantic_2_loss: 0.0015 - lr: 7.6234e-05\n",
      "Epoch 29/200\n",
      "27/27 [==============================] - ETA: 0s - loss: 0.0117 - semantic_0_loss: 0.0022 - semantic_1_loss: 0.0081 - semantic_2_loss: 0.0015WARNING:tensorflow:Can save best model only with val_loss available, skipping.\n"
     ]
    },
    {
     "name": "stderr",
     "output_type": "stream",
     "text": [
      "WARNING:tensorflow:Can save best model only with val_loss available, skipping.\n"
     ]
    },
    {
     "name": "stdout",
     "output_type": "stream",
     "text": [
      "27/27 [==============================] - 13s 484ms/step - loss: 0.0117 - semantic_0_loss: 0.0022 - semantic_1_loss: 0.0081 - semantic_2_loss: 0.0015 - lr: 7.5472e-05\n",
      "Epoch 30/200\n",
      "27/27 [==============================] - ETA: 0s - loss: 0.0117 - semantic_0_loss: 0.0022 - semantic_1_loss: 0.0081 - semantic_2_loss: 0.0015WARNING:tensorflow:Can save best model only with val_loss available, skipping.\n"
     ]
    },
    {
     "name": "stderr",
     "output_type": "stream",
     "text": [
      "WARNING:tensorflow:Can save best model only with val_loss available, skipping.\n"
     ]
    },
    {
     "name": "stdout",
     "output_type": "stream",
     "text": [
      "27/27 [==============================] - 13s 486ms/step - loss: 0.0117 - semantic_0_loss: 0.0022 - semantic_1_loss: 0.0081 - semantic_2_loss: 0.0015 - lr: 7.4717e-05\n",
      "Epoch 31/200\n",
      "27/27 [==============================] - ETA: 0s - loss: 0.0121 - semantic_0_loss: 0.0023 - semantic_1_loss: 0.0084 - semantic_2_loss: 0.0015WARNING:tensorflow:Can save best model only with val_loss available, skipping.\n"
     ]
    },
    {
     "name": "stderr",
     "output_type": "stream",
     "text": [
      "WARNING:tensorflow:Can save best model only with val_loss available, skipping.\n"
     ]
    },
    {
     "name": "stdout",
     "output_type": "stream",
     "text": [
      "27/27 [==============================] - 13s 484ms/step - loss: 0.0121 - semantic_0_loss: 0.0023 - semantic_1_loss: 0.0084 - semantic_2_loss: 0.0015 - lr: 7.3970e-05\n",
      "Epoch 32/200\n",
      "27/27 [==============================] - ETA: 0s - loss: 0.0123 - semantic_0_loss: 0.0023 - semantic_1_loss: 0.0085 - semantic_2_loss: 0.0015WARNING:tensorflow:Can save best model only with val_loss available, skipping.\n"
     ]
    },
    {
     "name": "stderr",
     "output_type": "stream",
     "text": [
      "WARNING:tensorflow:Can save best model only with val_loss available, skipping.\n"
     ]
    },
    {
     "name": "stdout",
     "output_type": "stream",
     "text": [
      "27/27 [==============================] - 13s 484ms/step - loss: 0.0123 - semantic_0_loss: 0.0023 - semantic_1_loss: 0.0085 - semantic_2_loss: 0.0015 - lr: 7.3230e-05\n",
      "Epoch 33/200\n",
      "27/27 [==============================] - ETA: 0s - loss: 0.0122 - semantic_0_loss: 0.0022 - semantic_1_loss: 0.0084 - semantic_2_loss: 0.0015WARNING:tensorflow:Can save best model only with val_loss available, skipping.\n"
     ]
    },
    {
     "name": "stderr",
     "output_type": "stream",
     "text": [
      "WARNING:tensorflow:Can save best model only with val_loss available, skipping.\n"
     ]
    },
    {
     "name": "stdout",
     "output_type": "stream",
     "text": [
      "27/27 [==============================] - 13s 488ms/step - loss: 0.0122 - semantic_0_loss: 0.0022 - semantic_1_loss: 0.0084 - semantic_2_loss: 0.0015 - lr: 7.2498e-05\n",
      "Epoch 34/200\n",
      "27/27 [==============================] - ETA: 0s - loss: 0.0119 - semantic_0_loss: 0.0022 - semantic_1_loss: 0.0082 - semantic_2_loss: 0.0015WARNING:tensorflow:Can save best model only with val_loss available, skipping.\n"
     ]
    },
    {
     "name": "stderr",
     "output_type": "stream",
     "text": [
      "WARNING:tensorflow:Can save best model only with val_loss available, skipping.\n"
     ]
    },
    {
     "name": "stdout",
     "output_type": "stream",
     "text": [
      "27/27 [==============================] - 13s 493ms/step - loss: 0.0119 - semantic_0_loss: 0.0022 - semantic_1_loss: 0.0082 - semantic_2_loss: 0.0015 - lr: 7.1773e-05\n",
      "Epoch 35/200\n",
      "27/27 [==============================] - ETA: 0s - loss: 0.0114 - semantic_0_loss: 0.0022 - semantic_1_loss: 0.0078 - semantic_2_loss: 0.0014WARNING:tensorflow:Can save best model only with val_loss available, skipping.\n"
     ]
    },
    {
     "name": "stderr",
     "output_type": "stream",
     "text": [
      "WARNING:tensorflow:Can save best model only with val_loss available, skipping.\n"
     ]
    },
    {
     "name": "stdout",
     "output_type": "stream",
     "text": [
      "27/27 [==============================] - 13s 484ms/step - loss: 0.0114 - semantic_0_loss: 0.0022 - semantic_1_loss: 0.0078 - semantic_2_loss: 0.0014 - lr: 7.1055e-05\n",
      "Epoch 36/200\n",
      "27/27 [==============================] - ETA: 0s - loss: 0.0118 - semantic_0_loss: 0.0022 - semantic_1_loss: 0.0081 - semantic_2_loss: 0.0015WARNING:tensorflow:Can save best model only with val_loss available, skipping.\n"
     ]
    },
    {
     "name": "stderr",
     "output_type": "stream",
     "text": [
      "WARNING:tensorflow:Can save best model only with val_loss available, skipping.\n"
     ]
    },
    {
     "name": "stdout",
     "output_type": "stream",
     "text": [
      "27/27 [==============================] - 13s 488ms/step - loss: 0.0118 - semantic_0_loss: 0.0022 - semantic_1_loss: 0.0081 - semantic_2_loss: 0.0015 - lr: 7.0345e-05\n",
      "Epoch 37/200\n",
      "27/27 [==============================] - ETA: 0s - loss: 0.0113 - semantic_0_loss: 0.0021 - semantic_1_loss: 0.0078 - semantic_2_loss: 0.0014WARNING:tensorflow:Can save best model only with val_loss available, skipping.\n"
     ]
    },
    {
     "name": "stderr",
     "output_type": "stream",
     "text": [
      "WARNING:tensorflow:Can save best model only with val_loss available, skipping.\n"
     ]
    },
    {
     "name": "stdout",
     "output_type": "stream",
     "text": [
      "27/27 [==============================] - 13s 491ms/step - loss: 0.0113 - semantic_0_loss: 0.0021 - semantic_1_loss: 0.0078 - semantic_2_loss: 0.0014 - lr: 6.9641e-05\n",
      "Epoch 38/200\n",
      "27/27 [==============================] - ETA: 0s - loss: 0.0119 - semantic_0_loss: 0.0023 - semantic_1_loss: 0.0081 - semantic_2_loss: 0.0015WARNING:tensorflow:Can save best model only with val_loss available, skipping.\n"
     ]
    },
    {
     "name": "stderr",
     "output_type": "stream",
     "text": [
      "WARNING:tensorflow:Can save best model only with val_loss available, skipping.\n"
     ]
    },
    {
     "name": "stdout",
     "output_type": "stream",
     "text": [
      "27/27 [==============================] - 13s 491ms/step - loss: 0.0119 - semantic_0_loss: 0.0023 - semantic_1_loss: 0.0081 - semantic_2_loss: 0.0015 - lr: 6.8945e-05\n",
      "Epoch 39/200\n",
      "27/27 [==============================] - ETA: 0s - loss: 0.0117 - semantic_0_loss: 0.0022 - semantic_1_loss: 0.0081 - semantic_2_loss: 0.0014WARNING:tensorflow:Can save best model only with val_loss available, skipping.\n"
     ]
    },
    {
     "name": "stderr",
     "output_type": "stream",
     "text": [
      "WARNING:tensorflow:Can save best model only with val_loss available, skipping.\n"
     ]
    },
    {
     "name": "stdout",
     "output_type": "stream",
     "text": [
      "27/27 [==============================] - 13s 491ms/step - loss: 0.0117 - semantic_0_loss: 0.0022 - semantic_1_loss: 0.0081 - semantic_2_loss: 0.0014 - lr: 6.8255e-05\n",
      "Epoch 40/200\n",
      "27/27 [==============================] - ETA: 0s - loss: 0.0117 - semantic_0_loss: 0.0022 - semantic_1_loss: 0.0080 - semantic_2_loss: 0.0014WARNING:tensorflow:Can save best model only with val_loss available, skipping.\n"
     ]
    },
    {
     "name": "stderr",
     "output_type": "stream",
     "text": [
      "WARNING:tensorflow:Can save best model only with val_loss available, skipping.\n"
     ]
    },
    {
     "name": "stdout",
     "output_type": "stream",
     "text": [
      "27/27 [==============================] - 13s 488ms/step - loss: 0.0117 - semantic_0_loss: 0.0022 - semantic_1_loss: 0.0080 - semantic_2_loss: 0.0014 - lr: 6.7573e-05\n",
      "Epoch 41/200\n",
      "27/27 [==============================] - ETA: 0s - loss: 0.0117 - semantic_0_loss: 0.0022 - semantic_1_loss: 0.0080 - semantic_2_loss: 0.0014WARNING:tensorflow:Can save best model only with val_loss available, skipping.\n"
     ]
    },
    {
     "name": "stderr",
     "output_type": "stream",
     "text": [
      "WARNING:tensorflow:Can save best model only with val_loss available, skipping.\n"
     ]
    },
    {
     "name": "stdout",
     "output_type": "stream",
     "text": [
      "27/27 [==============================] - 13s 488ms/step - loss: 0.0117 - semantic_0_loss: 0.0022 - semantic_1_loss: 0.0080 - semantic_2_loss: 0.0014 - lr: 6.6897e-05\n",
      "Epoch 42/200\n",
      "27/27 [==============================] - ETA: 0s - loss: 0.0114 - semantic_0_loss: 0.0022 - semantic_1_loss: 0.0078 - semantic_2_loss: 0.0014WARNING:tensorflow:Can save best model only with val_loss available, skipping.\n"
     ]
    },
    {
     "name": "stderr",
     "output_type": "stream",
     "text": [
      "WARNING:tensorflow:Can save best model only with val_loss available, skipping.\n"
     ]
    },
    {
     "name": "stdout",
     "output_type": "stream",
     "text": [
      "27/27 [==============================] - 13s 480ms/step - loss: 0.0114 - semantic_0_loss: 0.0022 - semantic_1_loss: 0.0078 - semantic_2_loss: 0.0014 - lr: 6.6228e-05\n",
      "Epoch 43/200\n",
      "27/27 [==============================] - ETA: 0s - loss: 0.0116 - semantic_0_loss: 0.0022 - semantic_1_loss: 0.0080 - semantic_2_loss: 0.0014WARNING:tensorflow:Can save best model only with val_loss available, skipping.\n"
     ]
    },
    {
     "name": "stderr",
     "output_type": "stream",
     "text": [
      "WARNING:tensorflow:Can save best model only with val_loss available, skipping.\n"
     ]
    },
    {
     "name": "stdout",
     "output_type": "stream",
     "text": [
      "27/27 [==============================] - 13s 489ms/step - loss: 0.0116 - semantic_0_loss: 0.0022 - semantic_1_loss: 0.0080 - semantic_2_loss: 0.0014 - lr: 6.5566e-05\n",
      "Epoch 44/200\n",
      "27/27 [==============================] - ETA: 0s - loss: 0.0111 - semantic_0_loss: 0.0021 - semantic_1_loss: 0.0075 - semantic_2_loss: 0.0014WARNING:tensorflow:Can save best model only with val_loss available, skipping.\n"
     ]
    },
    {
     "name": "stderr",
     "output_type": "stream",
     "text": [
      "WARNING:tensorflow:Can save best model only with val_loss available, skipping.\n"
     ]
    },
    {
     "name": "stdout",
     "output_type": "stream",
     "text": [
      "27/27 [==============================] - 13s 488ms/step - loss: 0.0111 - semantic_0_loss: 0.0021 - semantic_1_loss: 0.0075 - semantic_2_loss: 0.0014 - lr: 6.4910e-05\n",
      "Epoch 45/200\n",
      "27/27 [==============================] - ETA: 0s - loss: 0.0113 - semantic_0_loss: 0.0022 - semantic_1_loss: 0.0077 - semantic_2_loss: 0.0014WARNING:tensorflow:Can save best model only with val_loss available, skipping.\n"
     ]
    },
    {
     "name": "stderr",
     "output_type": "stream",
     "text": [
      "WARNING:tensorflow:Can save best model only with val_loss available, skipping.\n"
     ]
    },
    {
     "name": "stdout",
     "output_type": "stream",
     "text": [
      "27/27 [==============================] - 14s 492ms/step - loss: 0.0113 - semantic_0_loss: 0.0022 - semantic_1_loss: 0.0077 - semantic_2_loss: 0.0014 - lr: 6.4261e-05\n",
      "Epoch 46/200\n",
      "27/27 [==============================] - ETA: 0s - loss: 0.0115 - semantic_0_loss: 0.0022 - semantic_1_loss: 0.0078 - semantic_2_loss: 0.0014WARNING:tensorflow:Can save best model only with val_loss available, skipping.\n"
     ]
    },
    {
     "name": "stderr",
     "output_type": "stream",
     "text": [
      "WARNING:tensorflow:Can save best model only with val_loss available, skipping.\n"
     ]
    },
    {
     "name": "stdout",
     "output_type": "stream",
     "text": [
      "27/27 [==============================] - 13s 488ms/step - loss: 0.0115 - semantic_0_loss: 0.0022 - semantic_1_loss: 0.0078 - semantic_2_loss: 0.0014 - lr: 6.3619e-05\n",
      "Epoch 47/200\n",
      "27/27 [==============================] - ETA: 0s - loss: 0.0115 - semantic_0_loss: 0.0022 - semantic_1_loss: 0.0079 - semantic_2_loss: 0.0014WARNING:tensorflow:Can save best model only with val_loss available, skipping.\n"
     ]
    },
    {
     "name": "stderr",
     "output_type": "stream",
     "text": [
      "WARNING:tensorflow:Can save best model only with val_loss available, skipping.\n"
     ]
    },
    {
     "name": "stdout",
     "output_type": "stream",
     "text": [
      "27/27 [==============================] - 13s 482ms/step - loss: 0.0115 - semantic_0_loss: 0.0022 - semantic_1_loss: 0.0079 - semantic_2_loss: 0.0014 - lr: 6.2982e-05\n",
      "Epoch 48/200\n",
      "27/27 [==============================] - ETA: 0s - loss: 0.0114 - semantic_0_loss: 0.0022 - semantic_1_loss: 0.0078 - semantic_2_loss: 0.0014WARNING:tensorflow:Can save best model only with val_loss available, skipping.\n"
     ]
    },
    {
     "name": "stderr",
     "output_type": "stream",
     "text": [
      "WARNING:tensorflow:Can save best model only with val_loss available, skipping.\n"
     ]
    },
    {
     "name": "stdout",
     "output_type": "stream",
     "text": [
      "27/27 [==============================] - 13s 488ms/step - loss: 0.0114 - semantic_0_loss: 0.0022 - semantic_1_loss: 0.0078 - semantic_2_loss: 0.0014 - lr: 6.2353e-05\n",
      "Epoch 49/200\n",
      "27/27 [==============================] - ETA: 0s - loss: 0.0114 - semantic_0_loss: 0.0022 - semantic_1_loss: 0.0078 - semantic_2_loss: 0.0014WARNING:tensorflow:Can save best model only with val_loss available, skipping.\n"
     ]
    },
    {
     "name": "stderr",
     "output_type": "stream",
     "text": [
      "WARNING:tensorflow:Can save best model only with val_loss available, skipping.\n"
     ]
    },
    {
     "name": "stdout",
     "output_type": "stream",
     "text": [
      "27/27 [==============================] - 13s 487ms/step - loss: 0.0114 - semantic_0_loss: 0.0022 - semantic_1_loss: 0.0078 - semantic_2_loss: 0.0014 - lr: 6.1729e-05\n",
      "Epoch 50/200\n",
      "27/27 [==============================] - ETA: 0s - loss: 0.0114 - semantic_0_loss: 0.0022 - semantic_1_loss: 0.0078 - semantic_2_loss: 0.0014WARNING:tensorflow:Can save best model only with val_loss available, skipping.\n"
     ]
    },
    {
     "name": "stderr",
     "output_type": "stream",
     "text": [
      "WARNING:tensorflow:Can save best model only with val_loss available, skipping.\n"
     ]
    },
    {
     "name": "stdout",
     "output_type": "stream",
     "text": [
      "27/27 [==============================] - 14s 494ms/step - loss: 0.0114 - semantic_0_loss: 0.0022 - semantic_1_loss: 0.0078 - semantic_2_loss: 0.0014 - lr: 6.1112e-05\n",
      "Epoch 51/200\n",
      "27/27 [==============================] - ETA: 0s - loss: 0.0111 - semantic_0_loss: 0.0021 - semantic_1_loss: 0.0076 - semantic_2_loss: 0.0014WARNING:tensorflow:Can save best model only with val_loss available, skipping.\n"
     ]
    },
    {
     "name": "stderr",
     "output_type": "stream",
     "text": [
      "WARNING:tensorflow:Can save best model only with val_loss available, skipping.\n"
     ]
    },
    {
     "name": "stdout",
     "output_type": "stream",
     "text": [
      "27/27 [==============================] - 13s 482ms/step - loss: 0.0111 - semantic_0_loss: 0.0021 - semantic_1_loss: 0.0076 - semantic_2_loss: 0.0014 - lr: 6.0501e-05\n",
      "Epoch 52/200\n",
      "27/27 [==============================] - ETA: 0s - loss: 0.0113 - semantic_0_loss: 0.0022 - semantic_1_loss: 0.0077 - semantic_2_loss: 0.0014WARNING:tensorflow:Can save best model only with val_loss available, skipping.\n"
     ]
    },
    {
     "name": "stderr",
     "output_type": "stream",
     "text": [
      "WARNING:tensorflow:Can save best model only with val_loss available, skipping.\n"
     ]
    },
    {
     "name": "stdout",
     "output_type": "stream",
     "text": [
      "27/27 [==============================] - 14s 497ms/step - loss: 0.0113 - semantic_0_loss: 0.0022 - semantic_1_loss: 0.0077 - semantic_2_loss: 0.0014 - lr: 5.9896e-05\n",
      "Epoch 53/200\n",
      "27/27 [==============================] - ETA: 0s - loss: 0.0109 - semantic_0_loss: 0.0021 - semantic_1_loss: 0.0074 - semantic_2_loss: 0.0014WARNING:tensorflow:Can save best model only with val_loss available, skipping.\n"
     ]
    },
    {
     "name": "stderr",
     "output_type": "stream",
     "text": [
      "WARNING:tensorflow:Can save best model only with val_loss available, skipping.\n"
     ]
    },
    {
     "name": "stdout",
     "output_type": "stream",
     "text": [
      "27/27 [==============================] - 13s 485ms/step - loss: 0.0109 - semantic_0_loss: 0.0021 - semantic_1_loss: 0.0074 - semantic_2_loss: 0.0014 - lr: 5.9297e-05\n",
      "Epoch 54/200\n",
      "27/27 [==============================] - ETA: 0s - loss: 0.0109 - semantic_0_loss: 0.0021 - semantic_1_loss: 0.0074 - semantic_2_loss: 0.0014WARNING:tensorflow:Can save best model only with val_loss available, skipping.\n"
     ]
    },
    {
     "name": "stderr",
     "output_type": "stream",
     "text": [
      "WARNING:tensorflow:Can save best model only with val_loss available, skipping.\n"
     ]
    },
    {
     "name": "stdout",
     "output_type": "stream",
     "text": [
      "27/27 [==============================] - 13s 489ms/step - loss: 0.0109 - semantic_0_loss: 0.0021 - semantic_1_loss: 0.0074 - semantic_2_loss: 0.0014 - lr: 5.8704e-05\n",
      "Epoch 55/200\n",
      "27/27 [==============================] - ETA: 0s - loss: 0.0109 - semantic_0_loss: 0.0022 - semantic_1_loss: 0.0074 - semantic_2_loss: 0.0014WARNING:tensorflow:Can save best model only with val_loss available, skipping.\n"
     ]
    },
    {
     "name": "stderr",
     "output_type": "stream",
     "text": [
      "WARNING:tensorflow:Can save best model only with val_loss available, skipping.\n"
     ]
    },
    {
     "name": "stdout",
     "output_type": "stream",
     "text": [
      "27/27 [==============================] - 14s 493ms/step - loss: 0.0109 - semantic_0_loss: 0.0022 - semantic_1_loss: 0.0074 - semantic_2_loss: 0.0014 - lr: 5.8117e-05\n",
      "Epoch 56/200\n",
      "27/27 [==============================] - ETA: 0s - loss: 0.0110 - semantic_0_loss: 0.0021 - semantic_1_loss: 0.0075 - semantic_2_loss: 0.0014WARNING:tensorflow:Can save best model only with val_loss available, skipping.\n"
     ]
    },
    {
     "name": "stderr",
     "output_type": "stream",
     "text": [
      "WARNING:tensorflow:Can save best model only with val_loss available, skipping.\n"
     ]
    },
    {
     "name": "stdout",
     "output_type": "stream",
     "text": [
      "27/27 [==============================] - 13s 484ms/step - loss: 0.0110 - semantic_0_loss: 0.0021 - semantic_1_loss: 0.0075 - semantic_2_loss: 0.0014 - lr: 5.7535e-05\n",
      "Epoch 57/200\n",
      "27/27 [==============================] - ETA: 0s - loss: 0.0112 - semantic_0_loss: 0.0022 - semantic_1_loss: 0.0076 - semantic_2_loss: 0.0014WARNING:tensorflow:Can save best model only with val_loss available, skipping.\n"
     ]
    },
    {
     "name": "stderr",
     "output_type": "stream",
     "text": [
      "WARNING:tensorflow:Can save best model only with val_loss available, skipping.\n"
     ]
    },
    {
     "name": "stdout",
     "output_type": "stream",
     "text": [
      "27/27 [==============================] - 13s 491ms/step - loss: 0.0112 - semantic_0_loss: 0.0022 - semantic_1_loss: 0.0076 - semantic_2_loss: 0.0014 - lr: 5.6960e-05\n",
      "Epoch 58/200\n",
      "27/27 [==============================] - ETA: 0s - loss: 0.0110 - semantic_0_loss: 0.0022 - semantic_1_loss: 0.0075 - semantic_2_loss: 0.0014WARNING:tensorflow:Can save best model only with val_loss available, skipping.\n"
     ]
    },
    {
     "name": "stderr",
     "output_type": "stream",
     "text": [
      "WARNING:tensorflow:Can save best model only with val_loss available, skipping.\n"
     ]
    },
    {
     "name": "stdout",
     "output_type": "stream",
     "text": [
      "27/27 [==============================] - 13s 485ms/step - loss: 0.0110 - semantic_0_loss: 0.0022 - semantic_1_loss: 0.0075 - semantic_2_loss: 0.0014 - lr: 5.6391e-05\n",
      "Epoch 59/200\n",
      "27/27 [==============================] - ETA: 0s - loss: 0.0110 - semantic_0_loss: 0.0022 - semantic_1_loss: 0.0074 - semantic_2_loss: 0.0014WARNING:tensorflow:Can save best model only with val_loss available, skipping.\n"
     ]
    },
    {
     "name": "stderr",
     "output_type": "stream",
     "text": [
      "WARNING:tensorflow:Can save best model only with val_loss available, skipping.\n"
     ]
    },
    {
     "name": "stdout",
     "output_type": "stream",
     "text": [
      "27/27 [==============================] - 13s 488ms/step - loss: 0.0110 - semantic_0_loss: 0.0022 - semantic_1_loss: 0.0074 - semantic_2_loss: 0.0014 - lr: 5.5827e-05\n",
      "Epoch 60/200\n",
      "27/27 [==============================] - ETA: 0s - loss: 0.0108 - semantic_0_loss: 0.0021 - semantic_1_loss: 0.0073 - semantic_2_loss: 0.0013WARNING:tensorflow:Can save best model only with val_loss available, skipping.\n"
     ]
    },
    {
     "name": "stderr",
     "output_type": "stream",
     "text": [
      "WARNING:tensorflow:Can save best model only with val_loss available, skipping.\n"
     ]
    },
    {
     "name": "stdout",
     "output_type": "stream",
     "text": [
      "27/27 [==============================] - 13s 488ms/step - loss: 0.0108 - semantic_0_loss: 0.0021 - semantic_1_loss: 0.0073 - semantic_2_loss: 0.0013 - lr: 5.5268e-05\n",
      "Epoch 61/200\n",
      "27/27 [==============================] - ETA: 0s - loss: 0.0106 - semantic_0_loss: 0.0021 - semantic_1_loss: 0.0072 - semantic_2_loss: 0.0014WARNING:tensorflow:Can save best model only with val_loss available, skipping.\n"
     ]
    },
    {
     "name": "stderr",
     "output_type": "stream",
     "text": [
      "WARNING:tensorflow:Can save best model only with val_loss available, skipping.\n"
     ]
    },
    {
     "name": "stdout",
     "output_type": "stream",
     "text": [
      "27/27 [==============================] - 13s 485ms/step - loss: 0.0106 - semantic_0_loss: 0.0021 - semantic_1_loss: 0.0072 - semantic_2_loss: 0.0014 - lr: 5.4716e-05\n",
      "Epoch 62/200\n",
      "27/27 [==============================] - ETA: 0s - loss: 0.0110 - semantic_0_loss: 0.0021 - semantic_1_loss: 0.0075 - semantic_2_loss: 0.0014WARNING:tensorflow:Can save best model only with val_loss available, skipping.\n"
     ]
    },
    {
     "name": "stderr",
     "output_type": "stream",
     "text": [
      "WARNING:tensorflow:Can save best model only with val_loss available, skipping.\n"
     ]
    },
    {
     "name": "stdout",
     "output_type": "stream",
     "text": [
      "27/27 [==============================] - 13s 488ms/step - loss: 0.0110 - semantic_0_loss: 0.0021 - semantic_1_loss: 0.0075 - semantic_2_loss: 0.0014 - lr: 5.4169e-05\n",
      "Epoch 63/200\n",
      "27/27 [==============================] - ETA: 0s - loss: 0.0110 - semantic_0_loss: 0.0022 - semantic_1_loss: 0.0075 - semantic_2_loss: 0.0014WARNING:tensorflow:Can save best model only with val_loss available, skipping.\n"
     ]
    },
    {
     "name": "stderr",
     "output_type": "stream",
     "text": [
      "WARNING:tensorflow:Can save best model only with val_loss available, skipping.\n"
     ]
    },
    {
     "name": "stdout",
     "output_type": "stream",
     "text": [
      "27/27 [==============================] - 13s 489ms/step - loss: 0.0110 - semantic_0_loss: 0.0022 - semantic_1_loss: 0.0075 - semantic_2_loss: 0.0014 - lr: 5.3627e-05\n",
      "Epoch 64/200\n",
      "27/27 [==============================] - ETA: 0s - loss: 0.0107 - semantic_0_loss: 0.0021 - semantic_1_loss: 0.0073 - semantic_2_loss: 0.0014WARNING:tensorflow:Can save best model only with val_loss available, skipping.\n"
     ]
    },
    {
     "name": "stderr",
     "output_type": "stream",
     "text": [
      "WARNING:tensorflow:Can save best model only with val_loss available, skipping.\n"
     ]
    },
    {
     "name": "stdout",
     "output_type": "stream",
     "text": [
      "27/27 [==============================] - 13s 488ms/step - loss: 0.0107 - semantic_0_loss: 0.0021 - semantic_1_loss: 0.0073 - semantic_2_loss: 0.0014 - lr: 5.3091e-05\n",
      "Epoch 65/200\n",
      "27/27 [==============================] - ETA: 0s - loss: 0.0105 - semantic_0_loss: 0.0021 - semantic_1_loss: 0.0071 - semantic_2_loss: 0.0013WARNING:tensorflow:Can save best model only with val_loss available, skipping.\n"
     ]
    },
    {
     "name": "stderr",
     "output_type": "stream",
     "text": [
      "WARNING:tensorflow:Can save best model only with val_loss available, skipping.\n"
     ]
    },
    {
     "name": "stdout",
     "output_type": "stream",
     "text": [
      "27/27 [==============================] - 13s 479ms/step - loss: 0.0105 - semantic_0_loss: 0.0021 - semantic_1_loss: 0.0071 - semantic_2_loss: 0.0013 - lr: 5.2560e-05\n",
      "Epoch 66/200\n",
      "27/27 [==============================] - ETA: 0s - loss: 0.0105 - semantic_0_loss: 0.0021 - semantic_1_loss: 0.0071 - semantic_2_loss: 0.0013WARNING:tensorflow:Can save best model only with val_loss available, skipping.\n"
     ]
    },
    {
     "name": "stderr",
     "output_type": "stream",
     "text": [
      "WARNING:tensorflow:Can save best model only with val_loss available, skipping.\n"
     ]
    },
    {
     "name": "stdout",
     "output_type": "stream",
     "text": [
      "27/27 [==============================] - 13s 485ms/step - loss: 0.0105 - semantic_0_loss: 0.0021 - semantic_1_loss: 0.0071 - semantic_2_loss: 0.0013 - lr: 5.2034e-05\n",
      "Epoch 67/200\n",
      "27/27 [==============================] - ETA: 0s - loss: 0.0109 - semantic_0_loss: 0.0022 - semantic_1_loss: 0.0073 - semantic_2_loss: 0.0014WARNING:tensorflow:Can save best model only with val_loss available, skipping.\n"
     ]
    },
    {
     "name": "stderr",
     "output_type": "stream",
     "text": [
      "WARNING:tensorflow:Can save best model only with val_loss available, skipping.\n"
     ]
    },
    {
     "name": "stdout",
     "output_type": "stream",
     "text": [
      "27/27 [==============================] - 13s 492ms/step - loss: 0.0109 - semantic_0_loss: 0.0022 - semantic_1_loss: 0.0073 - semantic_2_loss: 0.0014 - lr: 5.1514e-05\n",
      "Epoch 68/200\n",
      "27/27 [==============================] - ETA: 0s - loss: 0.0109 - semantic_0_loss: 0.0022 - semantic_1_loss: 0.0073 - semantic_2_loss: 0.0014WARNING:tensorflow:Can save best model only with val_loss available, skipping.\n"
     ]
    },
    {
     "name": "stderr",
     "output_type": "stream",
     "text": [
      "WARNING:tensorflow:Can save best model only with val_loss available, skipping.\n"
     ]
    },
    {
     "name": "stdout",
     "output_type": "stream",
     "text": [
      "27/27 [==============================] - 13s 491ms/step - loss: 0.0109 - semantic_0_loss: 0.0022 - semantic_1_loss: 0.0073 - semantic_2_loss: 0.0014 - lr: 5.0999e-05\n",
      "Epoch 69/200\n",
      "27/27 [==============================] - ETA: 0s - loss: 0.0104 - semantic_0_loss: 0.0021 - semantic_1_loss: 0.0070 - semantic_2_loss: 0.0013WARNING:tensorflow:Can save best model only with val_loss available, skipping.\n"
     ]
    },
    {
     "name": "stderr",
     "output_type": "stream",
     "text": [
      "WARNING:tensorflow:Can save best model only with val_loss available, skipping.\n"
     ]
    },
    {
     "name": "stdout",
     "output_type": "stream",
     "text": [
      "27/27 [==============================] - 13s 488ms/step - loss: 0.0104 - semantic_0_loss: 0.0021 - semantic_1_loss: 0.0070 - semantic_2_loss: 0.0013 - lr: 5.0489e-05\n",
      "Epoch 70/200\n",
      "27/27 [==============================] - ETA: 0s - loss: 0.0108 - semantic_0_loss: 0.0021 - semantic_1_loss: 0.0073 - semantic_2_loss: 0.0014WARNING:tensorflow:Can save best model only with val_loss available, skipping.\n"
     ]
    },
    {
     "name": "stderr",
     "output_type": "stream",
     "text": [
      "WARNING:tensorflow:Can save best model only with val_loss available, skipping.\n"
     ]
    },
    {
     "name": "stdout",
     "output_type": "stream",
     "text": [
      "27/27 [==============================] - 13s 487ms/step - loss: 0.0108 - semantic_0_loss: 0.0021 - semantic_1_loss: 0.0073 - semantic_2_loss: 0.0014 - lr: 4.9984e-05\n",
      "Epoch 71/200\n",
      "27/27 [==============================] - ETA: 0s - loss: 0.0102 - semantic_0_loss: 0.0021 - semantic_1_loss: 0.0068 - semantic_2_loss: 0.0013WARNING:tensorflow:Can save best model only with val_loss available, skipping.\n"
     ]
    },
    {
     "name": "stderr",
     "output_type": "stream",
     "text": [
      "WARNING:tensorflow:Can save best model only with val_loss available, skipping.\n"
     ]
    },
    {
     "name": "stdout",
     "output_type": "stream",
     "text": [
      "27/27 [==============================] - 13s 486ms/step - loss: 0.0102 - semantic_0_loss: 0.0021 - semantic_1_loss: 0.0068 - semantic_2_loss: 0.0013 - lr: 4.9484e-05\n",
      "Epoch 72/200\n",
      "27/27 [==============================] - ETA: 0s - loss: 0.0103 - semantic_0_loss: 0.0021 - semantic_1_loss: 0.0069 - semantic_2_loss: 0.0013WARNING:tensorflow:Can save best model only with val_loss available, skipping.\n"
     ]
    },
    {
     "name": "stderr",
     "output_type": "stream",
     "text": [
      "WARNING:tensorflow:Can save best model only with val_loss available, skipping.\n"
     ]
    },
    {
     "name": "stdout",
     "output_type": "stream",
     "text": [
      "27/27 [==============================] - 13s 491ms/step - loss: 0.0103 - semantic_0_loss: 0.0021 - semantic_1_loss: 0.0069 - semantic_2_loss: 0.0013 - lr: 4.8989e-05\n",
      "Epoch 73/200\n",
      "27/27 [==============================] - ETA: 0s - loss: 0.0107 - semantic_0_loss: 0.0022 - semantic_1_loss: 0.0072 - semantic_2_loss: 0.0013WARNING:tensorflow:Can save best model only with val_loss available, skipping.\n"
     ]
    },
    {
     "name": "stderr",
     "output_type": "stream",
     "text": [
      "WARNING:tensorflow:Can save best model only with val_loss available, skipping.\n"
     ]
    },
    {
     "name": "stdout",
     "output_type": "stream",
     "text": [
      "27/27 [==============================] - 14s 493ms/step - loss: 0.0107 - semantic_0_loss: 0.0022 - semantic_1_loss: 0.0072 - semantic_2_loss: 0.0013 - lr: 4.8499e-05\n",
      "Epoch 74/200\n",
      "27/27 [==============================] - ETA: 0s - loss: 0.0106 - semantic_0_loss: 0.0021 - semantic_1_loss: 0.0071 - semantic_2_loss: 0.0013WARNING:tensorflow:Can save best model only with val_loss available, skipping.\n"
     ]
    },
    {
     "name": "stderr",
     "output_type": "stream",
     "text": [
      "WARNING:tensorflow:Can save best model only with val_loss available, skipping.\n"
     ]
    },
    {
     "name": "stdout",
     "output_type": "stream",
     "text": [
      "27/27 [==============================] - 13s 487ms/step - loss: 0.0106 - semantic_0_loss: 0.0021 - semantic_1_loss: 0.0071 - semantic_2_loss: 0.0013 - lr: 4.8014e-05\n",
      "Epoch 75/200\n",
      "27/27 [==============================] - ETA: 0s - loss: 0.0107 - semantic_0_loss: 0.0022 - semantic_1_loss: 0.0072 - semantic_2_loss: 0.0013WARNING:tensorflow:Can save best model only with val_loss available, skipping.\n"
     ]
    },
    {
     "name": "stderr",
     "output_type": "stream",
     "text": [
      "WARNING:tensorflow:Can save best model only with val_loss available, skipping.\n"
     ]
    },
    {
     "name": "stdout",
     "output_type": "stream",
     "text": [
      "27/27 [==============================] - 13s 491ms/step - loss: 0.0107 - semantic_0_loss: 0.0022 - semantic_1_loss: 0.0072 - semantic_2_loss: 0.0013 - lr: 4.7534e-05\n",
      "Epoch 76/200\n",
      "27/27 [==============================] - ETA: 0s - loss: 0.0106 - semantic_0_loss: 0.0021 - semantic_1_loss: 0.0071 - semantic_2_loss: 0.0013WARNING:tensorflow:Can save best model only with val_loss available, skipping.\n"
     ]
    },
    {
     "name": "stderr",
     "output_type": "stream",
     "text": [
      "WARNING:tensorflow:Can save best model only with val_loss available, skipping.\n"
     ]
    },
    {
     "name": "stdout",
     "output_type": "stream",
     "text": [
      "27/27 [==============================] - 14s 495ms/step - loss: 0.0106 - semantic_0_loss: 0.0021 - semantic_1_loss: 0.0071 - semantic_2_loss: 0.0013 - lr: 4.7059e-05\n",
      "Epoch 77/200\n",
      "27/27 [==============================] - ETA: 0s - loss: 0.0107 - semantic_0_loss: 0.0021 - semantic_1_loss: 0.0072 - semantic_2_loss: 0.0013WARNING:tensorflow:Can save best model only with val_loss available, skipping.\n"
     ]
    },
    {
     "name": "stderr",
     "output_type": "stream",
     "text": [
      "WARNING:tensorflow:Can save best model only with val_loss available, skipping.\n"
     ]
    },
    {
     "name": "stdout",
     "output_type": "stream",
     "text": [
      "27/27 [==============================] - 14s 496ms/step - loss: 0.0107 - semantic_0_loss: 0.0021 - semantic_1_loss: 0.0072 - semantic_2_loss: 0.0013 - lr: 4.6588e-05\n",
      "Epoch 78/200\n",
      "27/27 [==============================] - ETA: 0s - loss: 0.0103 - semantic_0_loss: 0.0021 - semantic_1_loss: 0.0069 - semantic_2_loss: 0.0013WARNING:tensorflow:Can save best model only with val_loss available, skipping.\n"
     ]
    },
    {
     "name": "stderr",
     "output_type": "stream",
     "text": [
      "WARNING:tensorflow:Can save best model only with val_loss available, skipping.\n"
     ]
    },
    {
     "name": "stdout",
     "output_type": "stream",
     "text": [
      "27/27 [==============================] - 13s 485ms/step - loss: 0.0103 - semantic_0_loss: 0.0021 - semantic_1_loss: 0.0069 - semantic_2_loss: 0.0013 - lr: 4.6122e-05\n",
      "Epoch 79/200\n",
      "27/27 [==============================] - ETA: 0s - loss: 0.0103 - semantic_0_loss: 0.0021 - semantic_1_loss: 0.0069 - semantic_2_loss: 0.0013WARNING:tensorflow:Can save best model only with val_loss available, skipping.\n"
     ]
    },
    {
     "name": "stderr",
     "output_type": "stream",
     "text": [
      "WARNING:tensorflow:Can save best model only with val_loss available, skipping.\n"
     ]
    },
    {
     "name": "stdout",
     "output_type": "stream",
     "text": [
      "27/27 [==============================] - 13s 490ms/step - loss: 0.0103 - semantic_0_loss: 0.0021 - semantic_1_loss: 0.0069 - semantic_2_loss: 0.0013 - lr: 4.5661e-05\n",
      "Epoch 80/200\n",
      "27/27 [==============================] - ETA: 0s - loss: 0.0101 - semantic_0_loss: 0.0021 - semantic_1_loss: 0.0068 - semantic_2_loss: 0.0013WARNING:tensorflow:Can save best model only with val_loss available, skipping.\n"
     ]
    },
    {
     "name": "stderr",
     "output_type": "stream",
     "text": [
      "WARNING:tensorflow:Can save best model only with val_loss available, skipping.\n"
     ]
    },
    {
     "name": "stdout",
     "output_type": "stream",
     "text": [
      "27/27 [==============================] - 13s 482ms/step - loss: 0.0101 - semantic_0_loss: 0.0021 - semantic_1_loss: 0.0068 - semantic_2_loss: 0.0013 - lr: 4.5204e-05\n",
      "Epoch 81/200\n",
      "27/27 [==============================] - ETA: 0s - loss: 0.0102 - semantic_0_loss: 0.0021 - semantic_1_loss: 0.0068 - semantic_2_loss: 0.0013WARNING:tensorflow:Can save best model only with val_loss available, skipping.\n"
     ]
    },
    {
     "name": "stderr",
     "output_type": "stream",
     "text": [
      "WARNING:tensorflow:Can save best model only with val_loss available, skipping.\n"
     ]
    },
    {
     "name": "stdout",
     "output_type": "stream",
     "text": [
      "27/27 [==============================] - 13s 491ms/step - loss: 0.0102 - semantic_0_loss: 0.0021 - semantic_1_loss: 0.0068 - semantic_2_loss: 0.0013 - lr: 4.4752e-05\n",
      "Epoch 82/200\n",
      "27/27 [==============================] - ETA: 0s - loss: 0.0104 - semantic_0_loss: 0.0021 - semantic_1_loss: 0.0069 - semantic_2_loss: 0.0013WARNING:tensorflow:Can save best model only with val_loss available, skipping.\n"
     ]
    },
    {
     "name": "stderr",
     "output_type": "stream",
     "text": [
      "WARNING:tensorflow:Can save best model only with val_loss available, skipping.\n"
     ]
    },
    {
     "name": "stdout",
     "output_type": "stream",
     "text": [
      "27/27 [==============================] - 13s 489ms/step - loss: 0.0104 - semantic_0_loss: 0.0021 - semantic_1_loss: 0.0069 - semantic_2_loss: 0.0013 - lr: 4.4305e-05\n",
      "Epoch 83/200\n",
      "27/27 [==============================] - ETA: 0s - loss: 0.0101 - semantic_0_loss: 0.0021 - semantic_1_loss: 0.0067 - semantic_2_loss: 0.0013WARNING:tensorflow:Can save best model only with val_loss available, skipping.\n"
     ]
    },
    {
     "name": "stderr",
     "output_type": "stream",
     "text": [
      "WARNING:tensorflow:Can save best model only with val_loss available, skipping.\n"
     ]
    },
    {
     "name": "stdout",
     "output_type": "stream",
     "text": [
      "27/27 [==============================] - 13s 484ms/step - loss: 0.0101 - semantic_0_loss: 0.0021 - semantic_1_loss: 0.0067 - semantic_2_loss: 0.0013 - lr: 4.3862e-05\n",
      "Epoch 84/200\n",
      "27/27 [==============================] - ETA: 0s - loss: 0.0103 - semantic_0_loss: 0.0020 - semantic_1_loss: 0.0069 - semantic_2_loss: 0.0013WARNING:tensorflow:Can save best model only with val_loss available, skipping.\n"
     ]
    },
    {
     "name": "stderr",
     "output_type": "stream",
     "text": [
      "WARNING:tensorflow:Can save best model only with val_loss available, skipping.\n"
     ]
    },
    {
     "name": "stdout",
     "output_type": "stream",
     "text": [
      "27/27 [==============================] - 13s 486ms/step - loss: 0.0103 - semantic_0_loss: 0.0020 - semantic_1_loss: 0.0069 - semantic_2_loss: 0.0013 - lr: 4.3423e-05\n",
      "Epoch 85/200\n",
      "27/27 [==============================] - ETA: 0s - loss: 0.0104 - semantic_0_loss: 0.0021 - semantic_1_loss: 0.0070 - semantic_2_loss: 0.0013WARNING:tensorflow:Can save best model only with val_loss available, skipping.\n"
     ]
    },
    {
     "name": "stderr",
     "output_type": "stream",
     "text": [
      "WARNING:tensorflow:Can save best model only with val_loss available, skipping.\n"
     ]
    },
    {
     "name": "stdout",
     "output_type": "stream",
     "text": [
      "27/27 [==============================] - 13s 492ms/step - loss: 0.0104 - semantic_0_loss: 0.0021 - semantic_1_loss: 0.0070 - semantic_2_loss: 0.0013 - lr: 4.2989e-05\n",
      "Epoch 86/200\n",
      "27/27 [==============================] - ETA: 0s - loss: 0.0103 - semantic_0_loss: 0.0021 - semantic_1_loss: 0.0069 - semantic_2_loss: 0.0013WARNING:tensorflow:Can save best model only with val_loss available, skipping.\n"
     ]
    },
    {
     "name": "stderr",
     "output_type": "stream",
     "text": [
      "WARNING:tensorflow:Can save best model only with val_loss available, skipping.\n"
     ]
    },
    {
     "name": "stdout",
     "output_type": "stream",
     "text": [
      "27/27 [==============================] - 14s 492ms/step - loss: 0.0103 - semantic_0_loss: 0.0021 - semantic_1_loss: 0.0069 - semantic_2_loss: 0.0013 - lr: 4.2559e-05\n",
      "Epoch 87/200\n",
      "27/27 [==============================] - ETA: 0s - loss: 0.0102 - semantic_0_loss: 0.0021 - semantic_1_loss: 0.0068 - semantic_2_loss: 0.0013WARNING:tensorflow:Can save best model only with val_loss available, skipping.\n"
     ]
    },
    {
     "name": "stderr",
     "output_type": "stream",
     "text": [
      "WARNING:tensorflow:Can save best model only with val_loss available, skipping.\n"
     ]
    },
    {
     "name": "stdout",
     "output_type": "stream",
     "text": [
      "27/27 [==============================] - 13s 488ms/step - loss: 0.0102 - semantic_0_loss: 0.0021 - semantic_1_loss: 0.0068 - semantic_2_loss: 0.0013 - lr: 4.2133e-05\n",
      "Epoch 88/200\n",
      "27/27 [==============================] - ETA: 0s - loss: 0.0101 - semantic_0_loss: 0.0020 - semantic_1_loss: 0.0067 - semantic_2_loss: 0.0013WARNING:tensorflow:Can save best model only with val_loss available, skipping.\n"
     ]
    },
    {
     "name": "stderr",
     "output_type": "stream",
     "text": [
      "WARNING:tensorflow:Can save best model only with val_loss available, skipping.\n"
     ]
    },
    {
     "name": "stdout",
     "output_type": "stream",
     "text": [
      "27/27 [==============================] - 13s 484ms/step - loss: 0.0101 - semantic_0_loss: 0.0020 - semantic_1_loss: 0.0067 - semantic_2_loss: 0.0013 - lr: 4.1712e-05\n",
      "Epoch 89/200\n",
      "27/27 [==============================] - ETA: 0s - loss: 0.0104 - semantic_0_loss: 0.0021 - semantic_1_loss: 0.0069 - semantic_2_loss: 0.0013WARNING:tensorflow:Can save best model only with val_loss available, skipping.\n"
     ]
    },
    {
     "name": "stderr",
     "output_type": "stream",
     "text": [
      "WARNING:tensorflow:Can save best model only with val_loss available, skipping.\n"
     ]
    },
    {
     "name": "stdout",
     "output_type": "stream",
     "text": [
      "27/27 [==============================] - 13s 492ms/step - loss: 0.0104 - semantic_0_loss: 0.0021 - semantic_1_loss: 0.0069 - semantic_2_loss: 0.0013 - lr: 4.1295e-05\n",
      "Epoch 90/200\n",
      "27/27 [==============================] - ETA: 0s - loss: 0.0099 - semantic_0_loss: 0.0020 - semantic_1_loss: 0.0066 - semantic_2_loss: 0.0013WARNING:tensorflow:Can save best model only with val_loss available, skipping.\n"
     ]
    },
    {
     "name": "stderr",
     "output_type": "stream",
     "text": [
      "WARNING:tensorflow:Can save best model only with val_loss available, skipping.\n"
     ]
    },
    {
     "name": "stdout",
     "output_type": "stream",
     "text": [
      "27/27 [==============================] - 13s 487ms/step - loss: 0.0099 - semantic_0_loss: 0.0020 - semantic_1_loss: 0.0066 - semantic_2_loss: 0.0013 - lr: 4.0882e-05\n",
      "Epoch 91/200\n",
      "27/27 [==============================] - ETA: 0s - loss: 0.0100 - semantic_0_loss: 0.0020 - semantic_1_loss: 0.0066 - semantic_2_loss: 0.0013WARNING:tensorflow:Can save best model only with val_loss available, skipping.\n"
     ]
    },
    {
     "name": "stderr",
     "output_type": "stream",
     "text": [
      "WARNING:tensorflow:Can save best model only with val_loss available, skipping.\n"
     ]
    },
    {
     "name": "stdout",
     "output_type": "stream",
     "text": [
      "27/27 [==============================] - 13s 487ms/step - loss: 0.0100 - semantic_0_loss: 0.0020 - semantic_1_loss: 0.0066 - semantic_2_loss: 0.0013 - lr: 4.0473e-05\n",
      "Epoch 92/200\n",
      "27/27 [==============================] - ETA: 0s - loss: 0.0104 - semantic_0_loss: 0.0021 - semantic_1_loss: 0.0070 - semantic_2_loss: 0.0013WARNING:tensorflow:Can save best model only with val_loss available, skipping.\n"
     ]
    },
    {
     "name": "stderr",
     "output_type": "stream",
     "text": [
      "WARNING:tensorflow:Can save best model only with val_loss available, skipping.\n"
     ]
    },
    {
     "name": "stdout",
     "output_type": "stream",
     "text": [
      "27/27 [==============================] - 14s 496ms/step - loss: 0.0104 - semantic_0_loss: 0.0021 - semantic_1_loss: 0.0070 - semantic_2_loss: 0.0013 - lr: 4.0068e-05\n",
      "Epoch 93/200\n",
      "27/27 [==============================] - ETA: 0s - loss: 0.0096 - semantic_0_loss: 0.0020 - semantic_1_loss: 0.0063 - semantic_2_loss: 0.0013WARNING:tensorflow:Can save best model only with val_loss available, skipping.\n"
     ]
    },
    {
     "name": "stderr",
     "output_type": "stream",
     "text": [
      "WARNING:tensorflow:Can save best model only with val_loss available, skipping.\n"
     ]
    },
    {
     "name": "stdout",
     "output_type": "stream",
     "text": [
      "27/27 [==============================] - 13s 488ms/step - loss: 0.0096 - semantic_0_loss: 0.0020 - semantic_1_loss: 0.0063 - semantic_2_loss: 0.0013 - lr: 3.9668e-05\n",
      "Epoch 94/200\n",
      "27/27 [==============================] - ETA: 0s - loss: 0.0100 - semantic_0_loss: 0.0020 - semantic_1_loss: 0.0067 - semantic_2_loss: 0.0013WARNING:tensorflow:Can save best model only with val_loss available, skipping.\n"
     ]
    },
    {
     "name": "stderr",
     "output_type": "stream",
     "text": [
      "WARNING:tensorflow:Can save best model only with val_loss available, skipping.\n"
     ]
    },
    {
     "name": "stdout",
     "output_type": "stream",
     "text": [
      "27/27 [==============================] - 13s 486ms/step - loss: 0.0100 - semantic_0_loss: 0.0020 - semantic_1_loss: 0.0067 - semantic_2_loss: 0.0013 - lr: 3.9271e-05\n",
      "Epoch 95/200\n",
      "27/27 [==============================] - ETA: 0s - loss: 0.0102 - semantic_0_loss: 0.0021 - semantic_1_loss: 0.0068 - semantic_2_loss: 0.0013WARNING:tensorflow:Can save best model only with val_loss available, skipping.\n"
     ]
    },
    {
     "name": "stderr",
     "output_type": "stream",
     "text": [
      "WARNING:tensorflow:Can save best model only with val_loss available, skipping.\n"
     ]
    },
    {
     "name": "stdout",
     "output_type": "stream",
     "text": [
      "27/27 [==============================] - 13s 485ms/step - loss: 0.0102 - semantic_0_loss: 0.0021 - semantic_1_loss: 0.0068 - semantic_2_loss: 0.0013 - lr: 3.8878e-05\n",
      "Epoch 96/200\n",
      "27/27 [==============================] - ETA: 0s - loss: 0.0103 - semantic_0_loss: 0.0021 - semantic_1_loss: 0.0069 - semantic_2_loss: 0.0013WARNING:tensorflow:Can save best model only with val_loss available, skipping.\n"
     ]
    },
    {
     "name": "stderr",
     "output_type": "stream",
     "text": [
      "WARNING:tensorflow:Can save best model only with val_loss available, skipping.\n"
     ]
    },
    {
     "name": "stdout",
     "output_type": "stream",
     "text": [
      "27/27 [==============================] - 13s 489ms/step - loss: 0.0103 - semantic_0_loss: 0.0021 - semantic_1_loss: 0.0069 - semantic_2_loss: 0.0013 - lr: 3.8490e-05\n",
      "Epoch 97/200\n",
      "27/27 [==============================] - ETA: 0s - loss: 0.0099 - semantic_0_loss: 0.0021 - semantic_1_loss: 0.0066 - semantic_2_loss: 0.0013WARNING:tensorflow:Can save best model only with val_loss available, skipping.\n"
     ]
    },
    {
     "name": "stderr",
     "output_type": "stream",
     "text": [
      "WARNING:tensorflow:Can save best model only with val_loss available, skipping.\n"
     ]
    },
    {
     "name": "stdout",
     "output_type": "stream",
     "text": [
      "27/27 [==============================] - 13s 487ms/step - loss: 0.0099 - semantic_0_loss: 0.0021 - semantic_1_loss: 0.0066 - semantic_2_loss: 0.0013 - lr: 3.8105e-05\n",
      "Epoch 98/200\n",
      "27/27 [==============================] - ETA: 0s - loss: 0.0101 - semantic_0_loss: 0.0021 - semantic_1_loss: 0.0067 - semantic_2_loss: 0.0013WARNING:tensorflow:Can save best model only with val_loss available, skipping.\n"
     ]
    },
    {
     "name": "stderr",
     "output_type": "stream",
     "text": [
      "WARNING:tensorflow:Can save best model only with val_loss available, skipping.\n"
     ]
    },
    {
     "name": "stdout",
     "output_type": "stream",
     "text": [
      "27/27 [==============================] - 13s 492ms/step - loss: 0.0101 - semantic_0_loss: 0.0021 - semantic_1_loss: 0.0067 - semantic_2_loss: 0.0013 - lr: 3.7724e-05\n",
      "Epoch 99/200\n",
      "27/27 [==============================] - ETA: 0s - loss: 0.0099 - semantic_0_loss: 0.0021 - semantic_1_loss: 0.0066 - semantic_2_loss: 0.0013WARNING:tensorflow:Can save best model only with val_loss available, skipping.\n"
     ]
    },
    {
     "name": "stderr",
     "output_type": "stream",
     "text": [
      "WARNING:tensorflow:Can save best model only with val_loss available, skipping.\n"
     ]
    },
    {
     "name": "stdout",
     "output_type": "stream",
     "text": [
      "27/27 [==============================] - 13s 487ms/step - loss: 0.0099 - semantic_0_loss: 0.0021 - semantic_1_loss: 0.0066 - semantic_2_loss: 0.0013 - lr: 3.7346e-05\n",
      "Epoch 100/200\n",
      "27/27 [==============================] - ETA: 0s - loss: 0.0100 - semantic_0_loss: 0.0021 - semantic_1_loss: 0.0067 - semantic_2_loss: 0.0013WARNING:tensorflow:Can save best model only with val_loss available, skipping.\n"
     ]
    },
    {
     "name": "stderr",
     "output_type": "stream",
     "text": [
      "WARNING:tensorflow:Can save best model only with val_loss available, skipping.\n"
     ]
    },
    {
     "name": "stdout",
     "output_type": "stream",
     "text": [
      "27/27 [==============================] - 13s 487ms/step - loss: 0.0100 - semantic_0_loss: 0.0021 - semantic_1_loss: 0.0067 - semantic_2_loss: 0.0013 - lr: 3.6973e-05\n",
      "Epoch 101/200\n",
      "27/27 [==============================] - ETA: 0s - loss: 0.0099 - semantic_0_loss: 0.0020 - semantic_1_loss: 0.0066 - semantic_2_loss: 0.0013WARNING:tensorflow:Can save best model only with val_loss available, skipping.\n"
     ]
    },
    {
     "name": "stderr",
     "output_type": "stream",
     "text": [
      "WARNING:tensorflow:Can save best model only with val_loss available, skipping.\n"
     ]
    },
    {
     "name": "stdout",
     "output_type": "stream",
     "text": [
      "27/27 [==============================] - 13s 488ms/step - loss: 0.0099 - semantic_0_loss: 0.0020 - semantic_1_loss: 0.0066 - semantic_2_loss: 0.0013 - lr: 3.6603e-05\n",
      "Epoch 102/200\n",
      "27/27 [==============================] - ETA: 0s - loss: 0.0095 - semantic_0_loss: 0.0020 - semantic_1_loss: 0.0063 - semantic_2_loss: 0.0012WARNING:tensorflow:Can save best model only with val_loss available, skipping.\n"
     ]
    },
    {
     "name": "stderr",
     "output_type": "stream",
     "text": [
      "WARNING:tensorflow:Can save best model only with val_loss available, skipping.\n"
     ]
    },
    {
     "name": "stdout",
     "output_type": "stream",
     "text": [
      "27/27 [==============================] - 13s 484ms/step - loss: 0.0095 - semantic_0_loss: 0.0020 - semantic_1_loss: 0.0063 - semantic_2_loss: 0.0012 - lr: 3.6237e-05\n",
      "Epoch 103/200\n",
      "27/27 [==============================] - ETA: 0s - loss: 0.0099 - semantic_0_loss: 0.0020 - semantic_1_loss: 0.0066 - semantic_2_loss: 0.0013WARNING:tensorflow:Can save best model only with val_loss available, skipping.\n"
     ]
    },
    {
     "name": "stderr",
     "output_type": "stream",
     "text": [
      "WARNING:tensorflow:Can save best model only with val_loss available, skipping.\n"
     ]
    },
    {
     "name": "stdout",
     "output_type": "stream",
     "text": [
      "27/27 [==============================] - 13s 487ms/step - loss: 0.0099 - semantic_0_loss: 0.0020 - semantic_1_loss: 0.0066 - semantic_2_loss: 0.0013 - lr: 3.5875e-05\n",
      "Epoch 104/200\n",
      "27/27 [==============================] - ETA: 0s - loss: 0.0099 - semantic_0_loss: 0.0021 - semantic_1_loss: 0.0066 - semantic_2_loss: 0.0013WARNING:tensorflow:Can save best model only with val_loss available, skipping.\n"
     ]
    },
    {
     "name": "stderr",
     "output_type": "stream",
     "text": [
      "WARNING:tensorflow:Can save best model only with val_loss available, skipping.\n"
     ]
    },
    {
     "name": "stdout",
     "output_type": "stream",
     "text": [
      "27/27 [==============================] - 13s 484ms/step - loss: 0.0099 - semantic_0_loss: 0.0021 - semantic_1_loss: 0.0066 - semantic_2_loss: 0.0013 - lr: 3.5516e-05\n",
      "Epoch 105/200\n",
      "27/27 [==============================] - ETA: 0s - loss: 0.0099 - semantic_0_loss: 0.0021 - semantic_1_loss: 0.0066 - semantic_2_loss: 0.0013WARNING:tensorflow:Can save best model only with val_loss available, skipping.\n"
     ]
    },
    {
     "name": "stderr",
     "output_type": "stream",
     "text": [
      "WARNING:tensorflow:Can save best model only with val_loss available, skipping.\n"
     ]
    },
    {
     "name": "stdout",
     "output_type": "stream",
     "text": [
      "27/27 [==============================] - 13s 492ms/step - loss: 0.0099 - semantic_0_loss: 0.0021 - semantic_1_loss: 0.0066 - semantic_2_loss: 0.0013 - lr: 3.5161e-05\n",
      "Epoch 106/200\n",
      "27/27 [==============================] - ETA: 0s - loss: 0.0097 - semantic_0_loss: 0.0020 - semantic_1_loss: 0.0064 - semantic_2_loss: 0.0013WARNING:tensorflow:Can save best model only with val_loss available, skipping.\n"
     ]
    },
    {
     "name": "stderr",
     "output_type": "stream",
     "text": [
      "WARNING:tensorflow:Can save best model only with val_loss available, skipping.\n"
     ]
    },
    {
     "name": "stdout",
     "output_type": "stream",
     "text": [
      "27/27 [==============================] - 13s 489ms/step - loss: 0.0097 - semantic_0_loss: 0.0020 - semantic_1_loss: 0.0064 - semantic_2_loss: 0.0013 - lr: 3.4809e-05\n",
      "Epoch 107/200\n",
      "27/27 [==============================] - ETA: 0s - loss: 0.0098 - semantic_0_loss: 0.0021 - semantic_1_loss: 0.0064 - semantic_2_loss: 0.0013WARNING:tensorflow:Can save best model only with val_loss available, skipping.\n"
     ]
    },
    {
     "name": "stderr",
     "output_type": "stream",
     "text": [
      "WARNING:tensorflow:Can save best model only with val_loss available, skipping.\n"
     ]
    },
    {
     "name": "stdout",
     "output_type": "stream",
     "text": [
      "27/27 [==============================] - 13s 490ms/step - loss: 0.0098 - semantic_0_loss: 0.0021 - semantic_1_loss: 0.0064 - semantic_2_loss: 0.0013 - lr: 3.4461e-05\n",
      "Epoch 108/200\n",
      "27/27 [==============================] - ETA: 0s - loss: 0.0097 - semantic_0_loss: 0.0020 - semantic_1_loss: 0.0064 - semantic_2_loss: 0.0013WARNING:tensorflow:Can save best model only with val_loss available, skipping.\n"
     ]
    },
    {
     "name": "stderr",
     "output_type": "stream",
     "text": [
      "WARNING:tensorflow:Can save best model only with val_loss available, skipping.\n"
     ]
    },
    {
     "name": "stdout",
     "output_type": "stream",
     "text": [
      "27/27 [==============================] - 13s 483ms/step - loss: 0.0097 - semantic_0_loss: 0.0020 - semantic_1_loss: 0.0064 - semantic_2_loss: 0.0013 - lr: 3.4117e-05\n",
      "Epoch 109/200\n",
      "27/27 [==============================] - ETA: 0s - loss: 0.0094 - semantic_0_loss: 0.0020 - semantic_1_loss: 0.0062 - semantic_2_loss: 0.0012WARNING:tensorflow:Can save best model only with val_loss available, skipping.\n"
     ]
    },
    {
     "name": "stderr",
     "output_type": "stream",
     "text": [
      "WARNING:tensorflow:Can save best model only with val_loss available, skipping.\n"
     ]
    },
    {
     "name": "stdout",
     "output_type": "stream",
     "text": [
      "27/27 [==============================] - 13s 486ms/step - loss: 0.0094 - semantic_0_loss: 0.0020 - semantic_1_loss: 0.0062 - semantic_2_loss: 0.0012 - lr: 3.3775e-05\n",
      "Epoch 110/200\n",
      "27/27 [==============================] - ETA: 0s - loss: 0.0095 - semantic_0_loss: 0.0020 - semantic_1_loss: 0.0063 - semantic_2_loss: 0.0012WARNING:tensorflow:Can save best model only with val_loss available, skipping.\n"
     ]
    },
    {
     "name": "stderr",
     "output_type": "stream",
     "text": [
      "WARNING:tensorflow:Can save best model only with val_loss available, skipping.\n"
     ]
    },
    {
     "name": "stdout",
     "output_type": "stream",
     "text": [
      "27/27 [==============================] - 13s 485ms/step - loss: 0.0095 - semantic_0_loss: 0.0020 - semantic_1_loss: 0.0063 - semantic_2_loss: 0.0012 - lr: 3.3438e-05\n",
      "Epoch 111/200\n",
      "27/27 [==============================] - ETA: 0s - loss: 0.0099 - semantic_0_loss: 0.0021 - semantic_1_loss: 0.0066 - semantic_2_loss: 0.0013WARNING:tensorflow:Can save best model only with val_loss available, skipping.\n"
     ]
    },
    {
     "name": "stderr",
     "output_type": "stream",
     "text": [
      "WARNING:tensorflow:Can save best model only with val_loss available, skipping.\n"
     ]
    },
    {
     "name": "stdout",
     "output_type": "stream",
     "text": [
      "27/27 [==============================] - 13s 485ms/step - loss: 0.0099 - semantic_0_loss: 0.0021 - semantic_1_loss: 0.0066 - semantic_2_loss: 0.0013 - lr: 3.3103e-05\n",
      "Epoch 112/200\n",
      "27/27 [==============================] - ETA: 0s - loss: 0.0099 - semantic_0_loss: 0.0020 - semantic_1_loss: 0.0066 - semantic_2_loss: 0.0013WARNING:tensorflow:Can save best model only with val_loss available, skipping.\n"
     ]
    },
    {
     "name": "stderr",
     "output_type": "stream",
     "text": [
      "WARNING:tensorflow:Can save best model only with val_loss available, skipping.\n"
     ]
    },
    {
     "name": "stdout",
     "output_type": "stream",
     "text": [
      "27/27 [==============================] - 13s 486ms/step - loss: 0.0099 - semantic_0_loss: 0.0020 - semantic_1_loss: 0.0066 - semantic_2_loss: 0.0013 - lr: 3.2772e-05\n",
      "Epoch 113/200\n",
      "27/27 [==============================] - ETA: 0s - loss: 0.0101 - semantic_0_loss: 0.0021 - semantic_1_loss: 0.0067 - semantic_2_loss: 0.0013WARNING:tensorflow:Can save best model only with val_loss available, skipping.\n"
     ]
    },
    {
     "name": "stderr",
     "output_type": "stream",
     "text": [
      "WARNING:tensorflow:Can save best model only with val_loss available, skipping.\n"
     ]
    },
    {
     "name": "stdout",
     "output_type": "stream",
     "text": [
      "27/27 [==============================] - 13s 488ms/step - loss: 0.0101 - semantic_0_loss: 0.0021 - semantic_1_loss: 0.0067 - semantic_2_loss: 0.0013 - lr: 3.2445e-05\n",
      "Epoch 114/200\n",
      "27/27 [==============================] - ETA: 0s - loss: 0.0098 - semantic_0_loss: 0.0020 - semantic_1_loss: 0.0065 - semantic_2_loss: 0.0013WARNING:tensorflow:Can save best model only with val_loss available, skipping.\n"
     ]
    },
    {
     "name": "stderr",
     "output_type": "stream",
     "text": [
      "WARNING:tensorflow:Can save best model only with val_loss available, skipping.\n"
     ]
    },
    {
     "name": "stdout",
     "output_type": "stream",
     "text": [
      "27/27 [==============================] - 13s 486ms/step - loss: 0.0098 - semantic_0_loss: 0.0020 - semantic_1_loss: 0.0065 - semantic_2_loss: 0.0013 - lr: 3.2120e-05\n",
      "Epoch 115/200\n",
      "27/27 [==============================] - ETA: 0s - loss: 0.0097 - semantic_0_loss: 0.0020 - semantic_1_loss: 0.0064 - semantic_2_loss: 0.0012WARNING:tensorflow:Can save best model only with val_loss available, skipping.\n"
     ]
    },
    {
     "name": "stderr",
     "output_type": "stream",
     "text": [
      "WARNING:tensorflow:Can save best model only with val_loss available, skipping.\n"
     ]
    },
    {
     "name": "stdout",
     "output_type": "stream",
     "text": [
      "27/27 [==============================] - 13s 485ms/step - loss: 0.0097 - semantic_0_loss: 0.0020 - semantic_1_loss: 0.0064 - semantic_2_loss: 0.0012 - lr: 3.1799e-05\n",
      "Epoch 116/200\n",
      "27/27 [==============================] - ETA: 0s - loss: 0.0098 - semantic_0_loss: 0.0021 - semantic_1_loss: 0.0065 - semantic_2_loss: 0.0012WARNING:tensorflow:Can save best model only with val_loss available, skipping.\n"
     ]
    },
    {
     "name": "stderr",
     "output_type": "stream",
     "text": [
      "WARNING:tensorflow:Can save best model only with val_loss available, skipping.\n"
     ]
    },
    {
     "name": "stdout",
     "output_type": "stream",
     "text": [
      "27/27 [==============================] - 13s 484ms/step - loss: 0.0098 - semantic_0_loss: 0.0021 - semantic_1_loss: 0.0065 - semantic_2_loss: 0.0012 - lr: 3.1481e-05\n",
      "Epoch 117/200\n",
      "27/27 [==============================] - ETA: 0s - loss: 0.0097 - semantic_0_loss: 0.0020 - semantic_1_loss: 0.0064 - semantic_2_loss: 0.0013WARNING:tensorflow:Can save best model only with val_loss available, skipping.\n"
     ]
    },
    {
     "name": "stderr",
     "output_type": "stream",
     "text": [
      "WARNING:tensorflow:Can save best model only with val_loss available, skipping.\n"
     ]
    },
    {
     "name": "stdout",
     "output_type": "stream",
     "text": [
      "27/27 [==============================] - 14s 497ms/step - loss: 0.0097 - semantic_0_loss: 0.0020 - semantic_1_loss: 0.0064 - semantic_2_loss: 0.0013 - lr: 3.1166e-05\n",
      "Epoch 118/200\n",
      "27/27 [==============================] - ETA: 0s - loss: 0.0097 - semantic_0_loss: 0.0020 - semantic_1_loss: 0.0064 - semantic_2_loss: 0.0012WARNING:tensorflow:Can save best model only with val_loss available, skipping.\n"
     ]
    },
    {
     "name": "stderr",
     "output_type": "stream",
     "text": [
      "WARNING:tensorflow:Can save best model only with val_loss available, skipping.\n"
     ]
    },
    {
     "name": "stdout",
     "output_type": "stream",
     "text": [
      "27/27 [==============================] - 13s 487ms/step - loss: 0.0097 - semantic_0_loss: 0.0020 - semantic_1_loss: 0.0064 - semantic_2_loss: 0.0012 - lr: 3.0854e-05\n",
      "Epoch 119/200\n",
      "27/27 [==============================] - ETA: 0s - loss: 0.0092 - semantic_0_loss: 0.0020 - semantic_1_loss: 0.0060 - semantic_2_loss: 0.0012WARNING:tensorflow:Can save best model only with val_loss available, skipping.\n"
     ]
    },
    {
     "name": "stderr",
     "output_type": "stream",
     "text": [
      "WARNING:tensorflow:Can save best model only with val_loss available, skipping.\n"
     ]
    },
    {
     "name": "stdout",
     "output_type": "stream",
     "text": [
      "27/27 [==============================] - 13s 481ms/step - loss: 0.0092 - semantic_0_loss: 0.0020 - semantic_1_loss: 0.0060 - semantic_2_loss: 0.0012 - lr: 3.0546e-05\n",
      "Epoch 120/200\n",
      "27/27 [==============================] - ETA: 0s - loss: 0.0097 - semantic_0_loss: 0.0021 - semantic_1_loss: 0.0064 - semantic_2_loss: 0.0013WARNING:tensorflow:Can save best model only with val_loss available, skipping.\n"
     ]
    },
    {
     "name": "stderr",
     "output_type": "stream",
     "text": [
      "WARNING:tensorflow:Can save best model only with val_loss available, skipping.\n"
     ]
    },
    {
     "name": "stdout",
     "output_type": "stream",
     "text": [
      "27/27 [==============================] - 13s 486ms/step - loss: 0.0097 - semantic_0_loss: 0.0021 - semantic_1_loss: 0.0064 - semantic_2_loss: 0.0013 - lr: 3.0240e-05\n",
      "Epoch 121/200\n",
      "27/27 [==============================] - ETA: 0s - loss: 0.0097 - semantic_0_loss: 0.0021 - semantic_1_loss: 0.0064 - semantic_2_loss: 0.0012WARNING:tensorflow:Can save best model only with val_loss available, skipping.\n"
     ]
    },
    {
     "name": "stderr",
     "output_type": "stream",
     "text": [
      "WARNING:tensorflow:Can save best model only with val_loss available, skipping.\n"
     ]
    },
    {
     "name": "stdout",
     "output_type": "stream",
     "text": [
      "27/27 [==============================] - 13s 487ms/step - loss: 0.0097 - semantic_0_loss: 0.0021 - semantic_1_loss: 0.0064 - semantic_2_loss: 0.0012 - lr: 2.9938e-05\n",
      "Epoch 122/200\n",
      "27/27 [==============================] - ETA: 0s - loss: 0.0098 - semantic_0_loss: 0.0021 - semantic_1_loss: 0.0064 - semantic_2_loss: 0.0013WARNING:tensorflow:Can save best model only with val_loss available, skipping.\n"
     ]
    },
    {
     "name": "stderr",
     "output_type": "stream",
     "text": [
      "WARNING:tensorflow:Can save best model only with val_loss available, skipping.\n"
     ]
    },
    {
     "name": "stdout",
     "output_type": "stream",
     "text": [
      "27/27 [==============================] - 14s 493ms/step - loss: 0.0098 - semantic_0_loss: 0.0021 - semantic_1_loss: 0.0064 - semantic_2_loss: 0.0013 - lr: 2.9639e-05\n",
      "Epoch 123/200\n",
      "27/27 [==============================] - ETA: 0s - loss: 0.0092 - semantic_0_loss: 0.0019 - semantic_1_loss: 0.0061 - semantic_2_loss: 0.0012WARNING:tensorflow:Can save best model only with val_loss available, skipping.\n"
     ]
    },
    {
     "name": "stderr",
     "output_type": "stream",
     "text": [
      "WARNING:tensorflow:Can save best model only with val_loss available, skipping.\n"
     ]
    },
    {
     "name": "stdout",
     "output_type": "stream",
     "text": [
      "27/27 [==============================] - 13s 486ms/step - loss: 0.0092 - semantic_0_loss: 0.0019 - semantic_1_loss: 0.0061 - semantic_2_loss: 0.0012 - lr: 2.9342e-05\n",
      "Epoch 124/200\n",
      "27/27 [==============================] - ETA: 0s - loss: 0.0092 - semantic_0_loss: 0.0020 - semantic_1_loss: 0.0060 - semantic_2_loss: 0.0012WARNING:tensorflow:Can save best model only with val_loss available, skipping.\n"
     ]
    },
    {
     "name": "stderr",
     "output_type": "stream",
     "text": [
      "WARNING:tensorflow:Can save best model only with val_loss available, skipping.\n"
     ]
    },
    {
     "name": "stdout",
     "output_type": "stream",
     "text": [
      "27/27 [==============================] - 13s 481ms/step - loss: 0.0092 - semantic_0_loss: 0.0020 - semantic_1_loss: 0.0060 - semantic_2_loss: 0.0012 - lr: 2.9049e-05\n",
      "Epoch 125/200\n",
      "27/27 [==============================] - ETA: 0s - loss: 0.0094 - semantic_0_loss: 0.0020 - semantic_1_loss: 0.0062 - semantic_2_loss: 0.0012WARNING:tensorflow:Can save best model only with val_loss available, skipping.\n"
     ]
    },
    {
     "name": "stderr",
     "output_type": "stream",
     "text": [
      "WARNING:tensorflow:Can save best model only with val_loss available, skipping.\n"
     ]
    },
    {
     "name": "stdout",
     "output_type": "stream",
     "text": [
      "27/27 [==============================] - 13s 492ms/step - loss: 0.0094 - semantic_0_loss: 0.0020 - semantic_1_loss: 0.0062 - semantic_2_loss: 0.0012 - lr: 2.8758e-05\n",
      "Epoch 126/200\n",
      "27/27 [==============================] - ETA: 0s - loss: 0.0095 - semantic_0_loss: 0.0020 - semantic_1_loss: 0.0063 - semantic_2_loss: 0.0012WARNING:tensorflow:Can save best model only with val_loss available, skipping.\n"
     ]
    },
    {
     "name": "stderr",
     "output_type": "stream",
     "text": [
      "WARNING:tensorflow:Can save best model only with val_loss available, skipping.\n"
     ]
    },
    {
     "name": "stdout",
     "output_type": "stream",
     "text": [
      "27/27 [==============================] - 14s 495ms/step - loss: 0.0095 - semantic_0_loss: 0.0020 - semantic_1_loss: 0.0063 - semantic_2_loss: 0.0012 - lr: 2.8471e-05\n",
      "Epoch 127/200\n",
      "27/27 [==============================] - ETA: 0s - loss: 0.0095 - semantic_0_loss: 0.0020 - semantic_1_loss: 0.0063 - semantic_2_loss: 0.0012WARNING:tensorflow:Can save best model only with val_loss available, skipping.\n"
     ]
    },
    {
     "name": "stderr",
     "output_type": "stream",
     "text": [
      "WARNING:tensorflow:Can save best model only with val_loss available, skipping.\n"
     ]
    },
    {
     "name": "stdout",
     "output_type": "stream",
     "text": [
      "27/27 [==============================] - 13s 492ms/step - loss: 0.0095 - semantic_0_loss: 0.0020 - semantic_1_loss: 0.0063 - semantic_2_loss: 0.0012 - lr: 2.8186e-05\n",
      "Epoch 128/200\n",
      "27/27 [==============================] - ETA: 0s - loss: 0.0095 - semantic_0_loss: 0.0020 - semantic_1_loss: 0.0062 - semantic_2_loss: 0.0012WARNING:tensorflow:Can save best model only with val_loss available, skipping.\n"
     ]
    },
    {
     "name": "stderr",
     "output_type": "stream",
     "text": [
      "WARNING:tensorflow:Can save best model only with val_loss available, skipping.\n"
     ]
    },
    {
     "name": "stdout",
     "output_type": "stream",
     "text": [
      "27/27 [==============================] - 13s 485ms/step - loss: 0.0095 - semantic_0_loss: 0.0020 - semantic_1_loss: 0.0062 - semantic_2_loss: 0.0012 - lr: 2.7904e-05\n",
      "Epoch 129/200\n",
      "27/27 [==============================] - ETA: 0s - loss: 0.0096 - semantic_0_loss: 0.0020 - semantic_1_loss: 0.0063 - semantic_2_loss: 0.0012WARNING:tensorflow:Can save best model only with val_loss available, skipping.\n"
     ]
    },
    {
     "name": "stderr",
     "output_type": "stream",
     "text": [
      "WARNING:tensorflow:Can save best model only with val_loss available, skipping.\n"
     ]
    },
    {
     "name": "stdout",
     "output_type": "stream",
     "text": [
      "27/27 [==============================] - 13s 485ms/step - loss: 0.0096 - semantic_0_loss: 0.0020 - semantic_1_loss: 0.0063 - semantic_2_loss: 0.0012 - lr: 2.7625e-05\n",
      "Epoch 130/200\n",
      "27/27 [==============================] - ETA: 0s - loss: 0.0092 - semantic_0_loss: 0.0020 - semantic_1_loss: 0.0060 - semantic_2_loss: 0.0012WARNING:tensorflow:Can save best model only with val_loss available, skipping.\n"
     ]
    },
    {
     "name": "stderr",
     "output_type": "stream",
     "text": [
      "WARNING:tensorflow:Can save best model only with val_loss available, skipping.\n"
     ]
    },
    {
     "name": "stdout",
     "output_type": "stream",
     "text": [
      "27/27 [==============================] - 13s 491ms/step - loss: 0.0092 - semantic_0_loss: 0.0020 - semantic_1_loss: 0.0060 - semantic_2_loss: 0.0012 - lr: 2.7349e-05\n",
      "Epoch 131/200\n",
      "27/27 [==============================] - ETA: 0s - loss: 0.0095 - semantic_0_loss: 0.0020 - semantic_1_loss: 0.0063 - semantic_2_loss: 0.0012WARNING:tensorflow:Can save best model only with val_loss available, skipping.\n"
     ]
    },
    {
     "name": "stderr",
     "output_type": "stream",
     "text": [
      "WARNING:tensorflow:Can save best model only with val_loss available, skipping.\n"
     ]
    },
    {
     "name": "stdout",
     "output_type": "stream",
     "text": [
      "27/27 [==============================] - 13s 487ms/step - loss: 0.0095 - semantic_0_loss: 0.0020 - semantic_1_loss: 0.0063 - semantic_2_loss: 0.0012 - lr: 2.7075e-05\n",
      "Epoch 132/200\n",
      "27/27 [==============================] - ETA: 0s - loss: 0.0096 - semantic_0_loss: 0.0020 - semantic_1_loss: 0.0063 - semantic_2_loss: 0.0012WARNING:tensorflow:Can save best model only with val_loss available, skipping.\n"
     ]
    },
    {
     "name": "stderr",
     "output_type": "stream",
     "text": [
      "WARNING:tensorflow:Can save best model only with val_loss available, skipping.\n"
     ]
    },
    {
     "name": "stdout",
     "output_type": "stream",
     "text": [
      "27/27 [==============================] - 13s 485ms/step - loss: 0.0096 - semantic_0_loss: 0.0020 - semantic_1_loss: 0.0063 - semantic_2_loss: 0.0012 - lr: 2.6805e-05\n",
      "Epoch 133/200\n",
      "27/27 [==============================] - ETA: 0s - loss: 0.0094 - semantic_0_loss: 0.0020 - semantic_1_loss: 0.0062 - semantic_2_loss: 0.0012WARNING:tensorflow:Can save best model only with val_loss available, skipping.\n"
     ]
    },
    {
     "name": "stderr",
     "output_type": "stream",
     "text": [
      "WARNING:tensorflow:Can save best model only with val_loss available, skipping.\n"
     ]
    },
    {
     "name": "stdout",
     "output_type": "stream",
     "text": [
      "27/27 [==============================] - 13s 486ms/step - loss: 0.0094 - semantic_0_loss: 0.0020 - semantic_1_loss: 0.0062 - semantic_2_loss: 0.0012 - lr: 2.6537e-05\n",
      "Epoch 134/200\n",
      "27/27 [==============================] - ETA: 0s - loss: 0.0094 - semantic_0_loss: 0.0020 - semantic_1_loss: 0.0062 - semantic_2_loss: 0.0012WARNING:tensorflow:Can save best model only with val_loss available, skipping.\n"
     ]
    },
    {
     "name": "stderr",
     "output_type": "stream",
     "text": [
      "WARNING:tensorflow:Can save best model only with val_loss available, skipping.\n"
     ]
    },
    {
     "name": "stdout",
     "output_type": "stream",
     "text": [
      "27/27 [==============================] - 13s 489ms/step - loss: 0.0094 - semantic_0_loss: 0.0020 - semantic_1_loss: 0.0062 - semantic_2_loss: 0.0012 - lr: 2.6271e-05\n",
      "Epoch 135/200\n",
      "27/27 [==============================] - ETA: 0s - loss: 0.0095 - semantic_0_loss: 0.0021 - semantic_1_loss: 0.0062 - semantic_2_loss: 0.0012WARNING:tensorflow:Can save best model only with val_loss available, skipping.\n"
     ]
    },
    {
     "name": "stderr",
     "output_type": "stream",
     "text": [
      "WARNING:tensorflow:Can save best model only with val_loss available, skipping.\n"
     ]
    },
    {
     "name": "stdout",
     "output_type": "stream",
     "text": [
      "27/27 [==============================] - 13s 491ms/step - loss: 0.0095 - semantic_0_loss: 0.0021 - semantic_1_loss: 0.0062 - semantic_2_loss: 0.0012 - lr: 2.6009e-05\n",
      "Epoch 136/200\n",
      "27/27 [==============================] - ETA: 0s - loss: 0.0094 - semantic_0_loss: 0.0020 - semantic_1_loss: 0.0062 - semantic_2_loss: 0.0012WARNING:tensorflow:Can save best model only with val_loss available, skipping.\n"
     ]
    },
    {
     "name": "stderr",
     "output_type": "stream",
     "text": [
      "WARNING:tensorflow:Can save best model only with val_loss available, skipping.\n"
     ]
    },
    {
     "name": "stdout",
     "output_type": "stream",
     "text": [
      "27/27 [==============================] - 13s 484ms/step - loss: 0.0094 - semantic_0_loss: 0.0020 - semantic_1_loss: 0.0062 - semantic_2_loss: 0.0012 - lr: 2.5748e-05\n",
      "Epoch 137/200\n",
      "27/27 [==============================] - ETA: 0s - loss: 0.0093 - semantic_0_loss: 0.0020 - semantic_1_loss: 0.0061 - semantic_2_loss: 0.0012WARNING:tensorflow:Can save best model only with val_loss available, skipping.\n"
     ]
    },
    {
     "name": "stderr",
     "output_type": "stream",
     "text": [
      "WARNING:tensorflow:Can save best model only with val_loss available, skipping.\n"
     ]
    },
    {
     "name": "stdout",
     "output_type": "stream",
     "text": [
      "27/27 [==============================] - 13s 484ms/step - loss: 0.0093 - semantic_0_loss: 0.0020 - semantic_1_loss: 0.0061 - semantic_2_loss: 0.0012 - lr: 2.5491e-05\n",
      "Epoch 138/200\n",
      "27/27 [==============================] - ETA: 0s - loss: 0.0094 - semantic_0_loss: 0.0021 - semantic_1_loss: 0.0061 - semantic_2_loss: 0.0012WARNING:tensorflow:Can save best model only with val_loss available, skipping.\n"
     ]
    },
    {
     "name": "stderr",
     "output_type": "stream",
     "text": [
      "WARNING:tensorflow:Can save best model only with val_loss available, skipping.\n"
     ]
    },
    {
     "name": "stdout",
     "output_type": "stream",
     "text": [
      "27/27 [==============================] - 13s 487ms/step - loss: 0.0094 - semantic_0_loss: 0.0021 - semantic_1_loss: 0.0061 - semantic_2_loss: 0.0012 - lr: 2.5236e-05\n",
      "Epoch 139/200\n",
      "27/27 [==============================] - ETA: 0s - loss: 0.0092 - semantic_0_loss: 0.0020 - semantic_1_loss: 0.0060 - semantic_2_loss: 0.0012WARNING:tensorflow:Can save best model only with val_loss available, skipping.\n"
     ]
    },
    {
     "name": "stderr",
     "output_type": "stream",
     "text": [
      "WARNING:tensorflow:Can save best model only with val_loss available, skipping.\n"
     ]
    },
    {
     "name": "stdout",
     "output_type": "stream",
     "text": [
      "27/27 [==============================] - 14s 496ms/step - loss: 0.0092 - semantic_0_loss: 0.0020 - semantic_1_loss: 0.0060 - semantic_2_loss: 0.0012 - lr: 2.4984e-05\n",
      "Epoch 140/200\n",
      "27/27 [==============================] - ETA: 0s - loss: 0.0090 - semantic_0_loss: 0.0020 - semantic_1_loss: 0.0059 - semantic_2_loss: 0.0012WARNING:tensorflow:Can save best model only with val_loss available, skipping.\n"
     ]
    },
    {
     "name": "stderr",
     "output_type": "stream",
     "text": [
      "WARNING:tensorflow:Can save best model only with val_loss available, skipping.\n"
     ]
    },
    {
     "name": "stdout",
     "output_type": "stream",
     "text": [
      "27/27 [==============================] - 13s 484ms/step - loss: 0.0090 - semantic_0_loss: 0.0020 - semantic_1_loss: 0.0059 - semantic_2_loss: 0.0012 - lr: 2.4734e-05\n",
      "Epoch 141/200\n",
      "27/27 [==============================] - ETA: 0s - loss: 0.0094 - semantic_0_loss: 0.0020 - semantic_1_loss: 0.0061 - semantic_2_loss: 0.0012WARNING:tensorflow:Can save best model only with val_loss available, skipping.\n"
     ]
    },
    {
     "name": "stderr",
     "output_type": "stream",
     "text": [
      "WARNING:tensorflow:Can save best model only with val_loss available, skipping.\n"
     ]
    },
    {
     "name": "stdout",
     "output_type": "stream",
     "text": [
      "27/27 [==============================] - 13s 487ms/step - loss: 0.0094 - semantic_0_loss: 0.0020 - semantic_1_loss: 0.0061 - semantic_2_loss: 0.0012 - lr: 2.4487e-05\n",
      "Epoch 142/200\n",
      "27/27 [==============================] - ETA: 0s - loss: 0.0093 - semantic_0_loss: 0.0020 - semantic_1_loss: 0.0060 - semantic_2_loss: 0.0012WARNING:tensorflow:Can save best model only with val_loss available, skipping.\n"
     ]
    },
    {
     "name": "stderr",
     "output_type": "stream",
     "text": [
      "WARNING:tensorflow:Can save best model only with val_loss available, skipping.\n"
     ]
    },
    {
     "name": "stdout",
     "output_type": "stream",
     "text": [
      "27/27 [==============================] - 13s 487ms/step - loss: 0.0093 - semantic_0_loss: 0.0020 - semantic_1_loss: 0.0060 - semantic_2_loss: 0.0012 - lr: 2.4242e-05\n",
      "Epoch 143/200\n",
      "27/27 [==============================] - ETA: 0s - loss: 0.0094 - semantic_0_loss: 0.0020 - semantic_1_loss: 0.0061 - semantic_2_loss: 0.0012WARNING:tensorflow:Can save best model only with val_loss available, skipping.\n"
     ]
    },
    {
     "name": "stderr",
     "output_type": "stream",
     "text": [
      "WARNING:tensorflow:Can save best model only with val_loss available, skipping.\n"
     ]
    },
    {
     "name": "stdout",
     "output_type": "stream",
     "text": [
      "27/27 [==============================] - 14s 493ms/step - loss: 0.0094 - semantic_0_loss: 0.0020 - semantic_1_loss: 0.0061 - semantic_2_loss: 0.0012 - lr: 2.3999e-05\n",
      "Epoch 144/200\n",
      "27/27 [==============================] - ETA: 0s - loss: 0.0091 - semantic_0_loss: 0.0019 - semantic_1_loss: 0.0059 - semantic_2_loss: 0.0012WARNING:tensorflow:Can save best model only with val_loss available, skipping.\n"
     ]
    },
    {
     "name": "stderr",
     "output_type": "stream",
     "text": [
      "WARNING:tensorflow:Can save best model only with val_loss available, skipping.\n"
     ]
    },
    {
     "name": "stdout",
     "output_type": "stream",
     "text": [
      "27/27 [==============================] - 13s 486ms/step - loss: 0.0091 - semantic_0_loss: 0.0019 - semantic_1_loss: 0.0059 - semantic_2_loss: 0.0012 - lr: 2.3759e-05\n",
      "Epoch 145/200\n",
      "27/27 [==============================] - ETA: 0s - loss: 0.0093 - semantic_0_loss: 0.0020 - semantic_1_loss: 0.0060 - semantic_2_loss: 0.0012WARNING:tensorflow:Can save best model only with val_loss available, skipping.\n"
     ]
    },
    {
     "name": "stderr",
     "output_type": "stream",
     "text": [
      "WARNING:tensorflow:Can save best model only with val_loss available, skipping.\n"
     ]
    },
    {
     "name": "stdout",
     "output_type": "stream",
     "text": [
      "27/27 [==============================] - 13s 484ms/step - loss: 0.0093 - semantic_0_loss: 0.0020 - semantic_1_loss: 0.0060 - semantic_2_loss: 0.0012 - lr: 2.3522e-05\n",
      "Epoch 146/200\n",
      "27/27 [==============================] - ETA: 0s - loss: 0.0091 - semantic_0_loss: 0.0020 - semantic_1_loss: 0.0060 - semantic_2_loss: 0.0012WARNING:tensorflow:Can save best model only with val_loss available, skipping.\n"
     ]
    },
    {
     "name": "stderr",
     "output_type": "stream",
     "text": [
      "WARNING:tensorflow:Can save best model only with val_loss available, skipping.\n"
     ]
    },
    {
     "name": "stdout",
     "output_type": "stream",
     "text": [
      "27/27 [==============================] - 13s 486ms/step - loss: 0.0091 - semantic_0_loss: 0.0020 - semantic_1_loss: 0.0060 - semantic_2_loss: 0.0012 - lr: 2.3286e-05\n",
      "Epoch 147/200\n",
      "27/27 [==============================] - ETA: 0s - loss: 0.0091 - semantic_0_loss: 0.0020 - semantic_1_loss: 0.0059 - semantic_2_loss: 0.0012WARNING:tensorflow:Can save best model only with val_loss available, skipping.\n"
     ]
    },
    {
     "name": "stderr",
     "output_type": "stream",
     "text": [
      "WARNING:tensorflow:Can save best model only with val_loss available, skipping.\n"
     ]
    },
    {
     "name": "stdout",
     "output_type": "stream",
     "text": [
      "27/27 [==============================] - 13s 488ms/step - loss: 0.0091 - semantic_0_loss: 0.0020 - semantic_1_loss: 0.0059 - semantic_2_loss: 0.0012 - lr: 2.3054e-05\n",
      "Epoch 148/200\n",
      "27/27 [==============================] - ETA: 0s - loss: 0.0092 - semantic_0_loss: 0.0020 - semantic_1_loss: 0.0060 - semantic_2_loss: 0.0012WARNING:tensorflow:Can save best model only with val_loss available, skipping.\n"
     ]
    },
    {
     "name": "stderr",
     "output_type": "stream",
     "text": [
      "WARNING:tensorflow:Can save best model only with val_loss available, skipping.\n"
     ]
    },
    {
     "name": "stdout",
     "output_type": "stream",
     "text": [
      "27/27 [==============================] - 13s 485ms/step - loss: 0.0092 - semantic_0_loss: 0.0020 - semantic_1_loss: 0.0060 - semantic_2_loss: 0.0012 - lr: 2.2823e-05\n",
      "Epoch 149/200\n",
      "27/27 [==============================] - ETA: 0s - loss: 0.0091 - semantic_0_loss: 0.0020 - semantic_1_loss: 0.0060 - semantic_2_loss: 0.0012WARNING:tensorflow:Can save best model only with val_loss available, skipping.\n"
     ]
    },
    {
     "name": "stderr",
     "output_type": "stream",
     "text": [
      "WARNING:tensorflow:Can save best model only with val_loss available, skipping.\n"
     ]
    },
    {
     "name": "stdout",
     "output_type": "stream",
     "text": [
      "27/27 [==============================] - 13s 490ms/step - loss: 0.0091 - semantic_0_loss: 0.0020 - semantic_1_loss: 0.0060 - semantic_2_loss: 0.0012 - lr: 2.2595e-05\n",
      "Epoch 150/200\n",
      "27/27 [==============================] - ETA: 0s - loss: 0.0092 - semantic_0_loss: 0.0020 - semantic_1_loss: 0.0060 - semantic_2_loss: 0.0012WARNING:tensorflow:Can save best model only with val_loss available, skipping.\n"
     ]
    },
    {
     "name": "stderr",
     "output_type": "stream",
     "text": [
      "WARNING:tensorflow:Can save best model only with val_loss available, skipping.\n"
     ]
    },
    {
     "name": "stdout",
     "output_type": "stream",
     "text": [
      "27/27 [==============================] - 13s 488ms/step - loss: 0.0092 - semantic_0_loss: 0.0020 - semantic_1_loss: 0.0060 - semantic_2_loss: 0.0012 - lr: 2.2369e-05\n",
      "Epoch 151/200\n",
      "27/27 [==============================] - ETA: 0s - loss: 0.0093 - semantic_0_loss: 0.0020 - semantic_1_loss: 0.0060 - semantic_2_loss: 0.0012WARNING:tensorflow:Can save best model only with val_loss available, skipping.\n"
     ]
    },
    {
     "name": "stderr",
     "output_type": "stream",
     "text": [
      "WARNING:tensorflow:Can save best model only with val_loss available, skipping.\n"
     ]
    },
    {
     "name": "stdout",
     "output_type": "stream",
     "text": [
      "27/27 [==============================] - 13s 497ms/step - loss: 0.0093 - semantic_0_loss: 0.0020 - semantic_1_loss: 0.0060 - semantic_2_loss: 0.0012 - lr: 2.2145e-05\n",
      "Epoch 152/200\n",
      "27/27 [==============================] - ETA: 0s - loss: 0.0089 - semantic_0_loss: 0.0019 - semantic_1_loss: 0.0058 - semantic_2_loss: 0.0012WARNING:tensorflow:Can save best model only with val_loss available, skipping.\n"
     ]
    },
    {
     "name": "stderr",
     "output_type": "stream",
     "text": [
      "WARNING:tensorflow:Can save best model only with val_loss available, skipping.\n"
     ]
    },
    {
     "name": "stdout",
     "output_type": "stream",
     "text": [
      "27/27 [==============================] - 13s 484ms/step - loss: 0.0089 - semantic_0_loss: 0.0019 - semantic_1_loss: 0.0058 - semantic_2_loss: 0.0012 - lr: 2.1924e-05\n",
      "Epoch 153/200\n",
      "27/27 [==============================] - ETA: 0s - loss: 0.0093 - semantic_0_loss: 0.0020 - semantic_1_loss: 0.0061 - semantic_2_loss: 0.0012WARNING:tensorflow:Can save best model only with val_loss available, skipping.\n"
     ]
    },
    {
     "name": "stderr",
     "output_type": "stream",
     "text": [
      "WARNING:tensorflow:Can save best model only with val_loss available, skipping.\n"
     ]
    },
    {
     "name": "stdout",
     "output_type": "stream",
     "text": [
      "27/27 [==============================] - 14s 495ms/step - loss: 0.0093 - semantic_0_loss: 0.0020 - semantic_1_loss: 0.0061 - semantic_2_loss: 0.0012 - lr: 2.1704e-05\n",
      "Epoch 154/200\n",
      "27/27 [==============================] - ETA: 0s - loss: 0.0092 - semantic_0_loss: 0.0020 - semantic_1_loss: 0.0060 - semantic_2_loss: 0.0012WARNING:tensorflow:Can save best model only with val_loss available, skipping.\n"
     ]
    },
    {
     "name": "stderr",
     "output_type": "stream",
     "text": [
      "WARNING:tensorflow:Can save best model only with val_loss available, skipping.\n"
     ]
    },
    {
     "name": "stdout",
     "output_type": "stream",
     "text": [
      "27/27 [==============================] - 13s 486ms/step - loss: 0.0092 - semantic_0_loss: 0.0020 - semantic_1_loss: 0.0060 - semantic_2_loss: 0.0012 - lr: 2.1487e-05\n",
      "Epoch 155/200\n",
      "27/27 [==============================] - ETA: 0s - loss: 0.0092 - semantic_0_loss: 0.0020 - semantic_1_loss: 0.0060 - semantic_2_loss: 0.0012WARNING:tensorflow:Can save best model only with val_loss available, skipping.\n"
     ]
    },
    {
     "name": "stderr",
     "output_type": "stream",
     "text": [
      "WARNING:tensorflow:Can save best model only with val_loss available, skipping.\n"
     ]
    },
    {
     "name": "stdout",
     "output_type": "stream",
     "text": [
      "27/27 [==============================] - 13s 487ms/step - loss: 0.0092 - semantic_0_loss: 0.0020 - semantic_1_loss: 0.0060 - semantic_2_loss: 0.0012 - lr: 2.1273e-05\n",
      "Epoch 156/200\n",
      "27/27 [==============================] - ETA: 0s - loss: 0.0090 - semantic_0_loss: 0.0020 - semantic_1_loss: 0.0059 - semantic_2_loss: 0.0012WARNING:tensorflow:Can save best model only with val_loss available, skipping.\n"
     ]
    },
    {
     "name": "stderr",
     "output_type": "stream",
     "text": [
      "WARNING:tensorflow:Can save best model only with val_loss available, skipping.\n"
     ]
    },
    {
     "name": "stdout",
     "output_type": "stream",
     "text": [
      "27/27 [==============================] - 13s 483ms/step - loss: 0.0090 - semantic_0_loss: 0.0020 - semantic_1_loss: 0.0059 - semantic_2_loss: 0.0012 - lr: 2.1060e-05\n",
      "Epoch 157/200\n",
      "27/27 [==============================] - ETA: 0s - loss: 0.0092 - semantic_0_loss: 0.0020 - semantic_1_loss: 0.0060 - semantic_2_loss: 0.0012WARNING:tensorflow:Can save best model only with val_loss available, skipping.\n"
     ]
    },
    {
     "name": "stderr",
     "output_type": "stream",
     "text": [
      "WARNING:tensorflow:Can save best model only with val_loss available, skipping.\n"
     ]
    },
    {
     "name": "stdout",
     "output_type": "stream",
     "text": [
      "27/27 [==============================] - 14s 494ms/step - loss: 0.0092 - semantic_0_loss: 0.0020 - semantic_1_loss: 0.0060 - semantic_2_loss: 0.0012 - lr: 2.0849e-05\n",
      "Epoch 158/200\n",
      "27/27 [==============================] - ETA: 0s - loss: 0.0088 - semantic_0_loss: 0.0019 - semantic_1_loss: 0.0057 - semantic_2_loss: 0.0012WARNING:tensorflow:Can save best model only with val_loss available, skipping.\n"
     ]
    },
    {
     "name": "stderr",
     "output_type": "stream",
     "text": [
      "WARNING:tensorflow:Can save best model only with val_loss available, skipping.\n"
     ]
    },
    {
     "name": "stdout",
     "output_type": "stream",
     "text": [
      "27/27 [==============================] - 13s 484ms/step - loss: 0.0088 - semantic_0_loss: 0.0019 - semantic_1_loss: 0.0057 - semantic_2_loss: 0.0012 - lr: 2.0641e-05\n",
      "Epoch 159/200\n",
      "27/27 [==============================] - ETA: 0s - loss: 0.0090 - semantic_0_loss: 0.0019 - semantic_1_loss: 0.0058 - semantic_2_loss: 0.0012WARNING:tensorflow:Can save best model only with val_loss available, skipping.\n"
     ]
    },
    {
     "name": "stderr",
     "output_type": "stream",
     "text": [
      "WARNING:tensorflow:Can save best model only with val_loss available, skipping.\n"
     ]
    },
    {
     "name": "stdout",
     "output_type": "stream",
     "text": [
      "27/27 [==============================] - 14s 500ms/step - loss: 0.0090 - semantic_0_loss: 0.0019 - semantic_1_loss: 0.0058 - semantic_2_loss: 0.0012 - lr: 2.0434e-05\n",
      "Epoch 160/200\n",
      "27/27 [==============================] - ETA: 0s - loss: 0.0092 - semantic_0_loss: 0.0020 - semantic_1_loss: 0.0060 - semantic_2_loss: 0.0012WARNING:tensorflow:Can save best model only with val_loss available, skipping.\n"
     ]
    },
    {
     "name": "stderr",
     "output_type": "stream",
     "text": [
      "WARNING:tensorflow:Can save best model only with val_loss available, skipping.\n"
     ]
    },
    {
     "name": "stdout",
     "output_type": "stream",
     "text": [
      "27/27 [==============================] - 13s 486ms/step - loss: 0.0092 - semantic_0_loss: 0.0020 - semantic_1_loss: 0.0060 - semantic_2_loss: 0.0012 - lr: 2.0230e-05\n",
      "Epoch 161/200\n",
      "27/27 [==============================] - ETA: 0s - loss: 0.0090 - semantic_0_loss: 0.0020 - semantic_1_loss: 0.0058 - semantic_2_loss: 0.0012WARNING:tensorflow:Can save best model only with val_loss available, skipping.\n"
     ]
    },
    {
     "name": "stderr",
     "output_type": "stream",
     "text": [
      "WARNING:tensorflow:Can save best model only with val_loss available, skipping.\n"
     ]
    },
    {
     "name": "stdout",
     "output_type": "stream",
     "text": [
      "27/27 [==============================] - 13s 485ms/step - loss: 0.0090 - semantic_0_loss: 0.0020 - semantic_1_loss: 0.0058 - semantic_2_loss: 0.0012 - lr: 2.0028e-05\n",
      "Epoch 162/200\n",
      "27/27 [==============================] - ETA: 0s - loss: 0.0090 - semantic_0_loss: 0.0020 - semantic_1_loss: 0.0058 - semantic_2_loss: 0.0012WARNING:tensorflow:Can save best model only with val_loss available, skipping.\n"
     ]
    },
    {
     "name": "stderr",
     "output_type": "stream",
     "text": [
      "WARNING:tensorflow:Can save best model only with val_loss available, skipping.\n"
     ]
    },
    {
     "name": "stdout",
     "output_type": "stream",
     "text": [
      "27/27 [==============================] - 13s 491ms/step - loss: 0.0090 - semantic_0_loss: 0.0020 - semantic_1_loss: 0.0058 - semantic_2_loss: 0.0012 - lr: 1.9827e-05\n",
      "Epoch 163/200\n",
      "27/27 [==============================] - ETA: 0s - loss: 0.0090 - semantic_0_loss: 0.0019 - semantic_1_loss: 0.0059 - semantic_2_loss: 0.0012WARNING:tensorflow:Can save best model only with val_loss available, skipping.\n"
     ]
    },
    {
     "name": "stderr",
     "output_type": "stream",
     "text": [
      "WARNING:tensorflow:Can save best model only with val_loss available, skipping.\n"
     ]
    },
    {
     "name": "stdout",
     "output_type": "stream",
     "text": [
      "27/27 [==============================] - 13s 484ms/step - loss: 0.0090 - semantic_0_loss: 0.0019 - semantic_1_loss: 0.0059 - semantic_2_loss: 0.0012 - lr: 1.9629e-05\n",
      "Epoch 164/200\n",
      "27/27 [==============================] - ETA: 0s - loss: 0.0091 - semantic_0_loss: 0.0020 - semantic_1_loss: 0.0059 - semantic_2_loss: 0.0012WARNING:tensorflow:Can save best model only with val_loss available, skipping.\n"
     ]
    },
    {
     "name": "stderr",
     "output_type": "stream",
     "text": [
      "WARNING:tensorflow:Can save best model only with val_loss available, skipping.\n"
     ]
    },
    {
     "name": "stdout",
     "output_type": "stream",
     "text": [
      "27/27 [==============================] - 13s 487ms/step - loss: 0.0091 - semantic_0_loss: 0.0020 - semantic_1_loss: 0.0059 - semantic_2_loss: 0.0012 - lr: 1.9433e-05\n",
      "Epoch 165/200\n",
      "27/27 [==============================] - ETA: 0s - loss: 0.0090 - semantic_0_loss: 0.0020 - semantic_1_loss: 0.0059 - semantic_2_loss: 0.0012WARNING:tensorflow:Can save best model only with val_loss available, skipping.\n"
     ]
    },
    {
     "name": "stderr",
     "output_type": "stream",
     "text": [
      "WARNING:tensorflow:Can save best model only with val_loss available, skipping.\n"
     ]
    },
    {
     "name": "stdout",
     "output_type": "stream",
     "text": [
      "27/27 [==============================] - 13s 486ms/step - loss: 0.0090 - semantic_0_loss: 0.0020 - semantic_1_loss: 0.0059 - semantic_2_loss: 0.0012 - lr: 1.9239e-05\n",
      "Epoch 166/200\n",
      "27/27 [==============================] - ETA: 0s - loss: 0.0090 - semantic_0_loss: 0.0019 - semantic_1_loss: 0.0058 - semantic_2_loss: 0.0012WARNING:tensorflow:Can save best model only with val_loss available, skipping.\n"
     ]
    },
    {
     "name": "stderr",
     "output_type": "stream",
     "text": [
      "WARNING:tensorflow:Can save best model only with val_loss available, skipping.\n"
     ]
    },
    {
     "name": "stdout",
     "output_type": "stream",
     "text": [
      "27/27 [==============================] - 13s 492ms/step - loss: 0.0090 - semantic_0_loss: 0.0019 - semantic_1_loss: 0.0058 - semantic_2_loss: 0.0012 - lr: 1.9046e-05\n",
      "Epoch 167/200\n",
      "27/27 [==============================] - ETA: 0s - loss: 0.0089 - semantic_0_loss: 0.0019 - semantic_1_loss: 0.0058 - semantic_2_loss: 0.0012WARNING:tensorflow:Can save best model only with val_loss available, skipping.\n"
     ]
    },
    {
     "name": "stderr",
     "output_type": "stream",
     "text": [
      "WARNING:tensorflow:Can save best model only with val_loss available, skipping.\n"
     ]
    },
    {
     "name": "stdout",
     "output_type": "stream",
     "text": [
      "27/27 [==============================] - 13s 489ms/step - loss: 0.0089 - semantic_0_loss: 0.0019 - semantic_1_loss: 0.0058 - semantic_2_loss: 0.0012 - lr: 1.8856e-05\n",
      "Epoch 168/200\n",
      "27/27 [==============================] - ETA: 0s - loss: 0.0091 - semantic_0_loss: 0.0019 - semantic_1_loss: 0.0060 - semantic_2_loss: 0.0012WARNING:tensorflow:Can save best model only with val_loss available, skipping.\n"
     ]
    },
    {
     "name": "stderr",
     "output_type": "stream",
     "text": [
      "WARNING:tensorflow:Can save best model only with val_loss available, skipping.\n"
     ]
    },
    {
     "name": "stdout",
     "output_type": "stream",
     "text": [
      "27/27 [==============================] - 13s 489ms/step - loss: 0.0091 - semantic_0_loss: 0.0019 - semantic_1_loss: 0.0060 - semantic_2_loss: 0.0012 - lr: 1.8667e-05\n",
      "Epoch 169/200\n",
      "27/27 [==============================] - ETA: 0s - loss: 0.0088 - semantic_0_loss: 0.0019 - semantic_1_loss: 0.0057 - semantic_2_loss: 0.0012WARNING:tensorflow:Can save best model only with val_loss available, skipping.\n"
     ]
    },
    {
     "name": "stderr",
     "output_type": "stream",
     "text": [
      "WARNING:tensorflow:Can save best model only with val_loss available, skipping.\n"
     ]
    },
    {
     "name": "stdout",
     "output_type": "stream",
     "text": [
      "27/27 [==============================] - 13s 489ms/step - loss: 0.0088 - semantic_0_loss: 0.0019 - semantic_1_loss: 0.0057 - semantic_2_loss: 0.0012 - lr: 1.8480e-05\n",
      "Epoch 170/200\n",
      "27/27 [==============================] - ETA: 0s - loss: 0.0092 - semantic_0_loss: 0.0020 - semantic_1_loss: 0.0060 - semantic_2_loss: 0.0012WARNING:tensorflow:Can save best model only with val_loss available, skipping.\n"
     ]
    },
    {
     "name": "stderr",
     "output_type": "stream",
     "text": [
      "WARNING:tensorflow:Can save best model only with val_loss available, skipping.\n"
     ]
    },
    {
     "name": "stdout",
     "output_type": "stream",
     "text": [
      "27/27 [==============================] - 13s 491ms/step - loss: 0.0092 - semantic_0_loss: 0.0020 - semantic_1_loss: 0.0060 - semantic_2_loss: 0.0012 - lr: 1.8296e-05\n",
      "Epoch 171/200\n",
      "27/27 [==============================] - ETA: 0s - loss: 0.0089 - semantic_0_loss: 0.0019 - semantic_1_loss: 0.0058 - semantic_2_loss: 0.0012WARNING:tensorflow:Can save best model only with val_loss available, skipping.\n"
     ]
    },
    {
     "name": "stderr",
     "output_type": "stream",
     "text": [
      "WARNING:tensorflow:Can save best model only with val_loss available, skipping.\n"
     ]
    },
    {
     "name": "stdout",
     "output_type": "stream",
     "text": [
      "27/27 [==============================] - 13s 488ms/step - loss: 0.0089 - semantic_0_loss: 0.0019 - semantic_1_loss: 0.0058 - semantic_2_loss: 0.0012 - lr: 1.8113e-05\n",
      "Epoch 172/200\n",
      "27/27 [==============================] - ETA: 0s - loss: 0.0091 - semantic_0_loss: 0.0020 - semantic_1_loss: 0.0059 - semantic_2_loss: 0.0012WARNING:tensorflow:Can save best model only with val_loss available, skipping.\n"
     ]
    },
    {
     "name": "stderr",
     "output_type": "stream",
     "text": [
      "WARNING:tensorflow:Can save best model only with val_loss available, skipping.\n"
     ]
    },
    {
     "name": "stdout",
     "output_type": "stream",
     "text": [
      "27/27 [==============================] - 13s 492ms/step - loss: 0.0091 - semantic_0_loss: 0.0020 - semantic_1_loss: 0.0059 - semantic_2_loss: 0.0012 - lr: 1.7932e-05\n",
      "Epoch 173/200\n",
      "27/27 [==============================] - ETA: 0s - loss: 0.0092 - semantic_0_loss: 0.0020 - semantic_1_loss: 0.0060 - semantic_2_loss: 0.0012WARNING:tensorflow:Can save best model only with val_loss available, skipping.\n"
     ]
    },
    {
     "name": "stderr",
     "output_type": "stream",
     "text": [
      "WARNING:tensorflow:Can save best model only with val_loss available, skipping.\n"
     ]
    },
    {
     "name": "stdout",
     "output_type": "stream",
     "text": [
      "27/27 [==============================] - 13s 492ms/step - loss: 0.0092 - semantic_0_loss: 0.0020 - semantic_1_loss: 0.0060 - semantic_2_loss: 0.0012 - lr: 1.7752e-05\n",
      "Epoch 174/200\n",
      "27/27 [==============================] - ETA: 0s - loss: 0.0091 - semantic_0_loss: 0.0019 - semantic_1_loss: 0.0059 - semantic_2_loss: 0.0012WARNING:tensorflow:Can save best model only with val_loss available, skipping.\n"
     ]
    },
    {
     "name": "stderr",
     "output_type": "stream",
     "text": [
      "WARNING:tensorflow:Can save best model only with val_loss available, skipping.\n"
     ]
    },
    {
     "name": "stdout",
     "output_type": "stream",
     "text": [
      "27/27 [==============================] - 13s 494ms/step - loss: 0.0091 - semantic_0_loss: 0.0019 - semantic_1_loss: 0.0059 - semantic_2_loss: 0.0012 - lr: 1.7575e-05\n",
      "Epoch 175/200\n",
      "27/27 [==============================] - ETA: 0s - loss: 0.0091 - semantic_0_loss: 0.0019 - semantic_1_loss: 0.0059 - semantic_2_loss: 0.0012WARNING:tensorflow:Can save best model only with val_loss available, skipping.\n"
     ]
    },
    {
     "name": "stderr",
     "output_type": "stream",
     "text": [
      "WARNING:tensorflow:Can save best model only with val_loss available, skipping.\n"
     ]
    },
    {
     "name": "stdout",
     "output_type": "stream",
     "text": [
      "27/27 [==============================] - 13s 490ms/step - loss: 0.0091 - semantic_0_loss: 0.0019 - semantic_1_loss: 0.0059 - semantic_2_loss: 0.0012 - lr: 1.7399e-05\n",
      "Epoch 176/200\n",
      "27/27 [==============================] - ETA: 0s - loss: 0.0090 - semantic_0_loss: 0.0020 - semantic_1_loss: 0.0058 - semantic_2_loss: 0.0012WARNING:tensorflow:Can save best model only with val_loss available, skipping.\n"
     ]
    },
    {
     "name": "stderr",
     "output_type": "stream",
     "text": [
      "WARNING:tensorflow:Can save best model only with val_loss available, skipping.\n"
     ]
    },
    {
     "name": "stdout",
     "output_type": "stream",
     "text": [
      "27/27 [==============================] - 13s 484ms/step - loss: 0.0090 - semantic_0_loss: 0.0020 - semantic_1_loss: 0.0058 - semantic_2_loss: 0.0012 - lr: 1.7225e-05\n",
      "Epoch 177/200\n",
      "27/27 [==============================] - ETA: 0s - loss: 0.0090 - semantic_0_loss: 0.0020 - semantic_1_loss: 0.0059 - semantic_2_loss: 0.0012WARNING:tensorflow:Can save best model only with val_loss available, skipping.\n"
     ]
    },
    {
     "name": "stderr",
     "output_type": "stream",
     "text": [
      "WARNING:tensorflow:Can save best model only with val_loss available, skipping.\n"
     ]
    },
    {
     "name": "stdout",
     "output_type": "stream",
     "text": [
      "27/27 [==============================] - 13s 493ms/step - loss: 0.0090 - semantic_0_loss: 0.0020 - semantic_1_loss: 0.0059 - semantic_2_loss: 0.0012 - lr: 1.7053e-05\n",
      "Epoch 178/200\n",
      "27/27 [==============================] - ETA: 0s - loss: 0.0088 - semantic_0_loss: 0.0019 - semantic_1_loss: 0.0057 - semantic_2_loss: 0.0012WARNING:tensorflow:Can save best model only with val_loss available, skipping.\n"
     ]
    },
    {
     "name": "stderr",
     "output_type": "stream",
     "text": [
      "WARNING:tensorflow:Can save best model only with val_loss available, skipping.\n"
     ]
    },
    {
     "name": "stdout",
     "output_type": "stream",
     "text": [
      "27/27 [==============================] - 13s 490ms/step - loss: 0.0088 - semantic_0_loss: 0.0019 - semantic_1_loss: 0.0057 - semantic_2_loss: 0.0012 - lr: 1.6882e-05\n",
      "Epoch 179/200\n",
      "27/27 [==============================] - ETA: 0s - loss: 0.0088 - semantic_0_loss: 0.0019 - semantic_1_loss: 0.0057 - semantic_2_loss: 0.0012WARNING:tensorflow:Can save best model only with val_loss available, skipping.\n"
     ]
    },
    {
     "name": "stderr",
     "output_type": "stream",
     "text": [
      "WARNING:tensorflow:Can save best model only with val_loss available, skipping.\n"
     ]
    },
    {
     "name": "stdout",
     "output_type": "stream",
     "text": [
      "27/27 [==============================] - 13s 488ms/step - loss: 0.0088 - semantic_0_loss: 0.0019 - semantic_1_loss: 0.0057 - semantic_2_loss: 0.0012 - lr: 1.6713e-05\n",
      "Epoch 180/200\n",
      "27/27 [==============================] - ETA: 0s - loss: 0.0090 - semantic_0_loss: 0.0020 - semantic_1_loss: 0.0058 - semantic_2_loss: 0.0012WARNING:tensorflow:Can save best model only with val_loss available, skipping.\n"
     ]
    },
    {
     "name": "stderr",
     "output_type": "stream",
     "text": [
      "WARNING:tensorflow:Can save best model only with val_loss available, skipping.\n"
     ]
    },
    {
     "name": "stdout",
     "output_type": "stream",
     "text": [
      "27/27 [==============================] - 13s 489ms/step - loss: 0.0090 - semantic_0_loss: 0.0020 - semantic_1_loss: 0.0058 - semantic_2_loss: 0.0012 - lr: 1.6546e-05\n",
      "Epoch 181/200\n",
      "27/27 [==============================] - ETA: 0s - loss: 0.0088 - semantic_0_loss: 0.0019 - semantic_1_loss: 0.0057 - semantic_2_loss: 0.0012WARNING:tensorflow:Can save best model only with val_loss available, skipping.\n"
     ]
    },
    {
     "name": "stderr",
     "output_type": "stream",
     "text": [
      "WARNING:tensorflow:Can save best model only with val_loss available, skipping.\n"
     ]
    },
    {
     "name": "stdout",
     "output_type": "stream",
     "text": [
      "27/27 [==============================] - 14s 494ms/step - loss: 0.0088 - semantic_0_loss: 0.0019 - semantic_1_loss: 0.0057 - semantic_2_loss: 0.0012 - lr: 1.6381e-05\n",
      "Epoch 182/200\n",
      "27/27 [==============================] - ETA: 0s - loss: 0.0090 - semantic_0_loss: 0.0020 - semantic_1_loss: 0.0059 - semantic_2_loss: 0.0012WARNING:tensorflow:Can save best model only with val_loss available, skipping.\n"
     ]
    },
    {
     "name": "stderr",
     "output_type": "stream",
     "text": [
      "WARNING:tensorflow:Can save best model only with val_loss available, skipping.\n"
     ]
    },
    {
     "name": "stdout",
     "output_type": "stream",
     "text": [
      "27/27 [==============================] - 13s 489ms/step - loss: 0.0090 - semantic_0_loss: 0.0020 - semantic_1_loss: 0.0059 - semantic_2_loss: 0.0012 - lr: 1.6217e-05\n",
      "Epoch 183/200\n",
      "27/27 [==============================] - ETA: 0s - loss: 0.0088 - semantic_0_loss: 0.0019 - semantic_1_loss: 0.0057 - semantic_2_loss: 0.0012WARNING:tensorflow:Can save best model only with val_loss available, skipping.\n"
     ]
    },
    {
     "name": "stderr",
     "output_type": "stream",
     "text": [
      "WARNING:tensorflow:Can save best model only with val_loss available, skipping.\n"
     ]
    },
    {
     "name": "stdout",
     "output_type": "stream",
     "text": [
      "27/27 [==============================] - 13s 493ms/step - loss: 0.0088 - semantic_0_loss: 0.0019 - semantic_1_loss: 0.0057 - semantic_2_loss: 0.0012 - lr: 1.6055e-05\n",
      "Epoch 184/200\n",
      "27/27 [==============================] - ETA: 0s - loss: 0.0087 - semantic_0_loss: 0.0019 - semantic_1_loss: 0.0056 - semantic_2_loss: 0.0012WARNING:tensorflow:Can save best model only with val_loss available, skipping.\n"
     ]
    },
    {
     "name": "stderr",
     "output_type": "stream",
     "text": [
      "WARNING:tensorflow:Can save best model only with val_loss available, skipping.\n"
     ]
    },
    {
     "name": "stdout",
     "output_type": "stream",
     "text": [
      "27/27 [==============================] - 13s 484ms/step - loss: 0.0087 - semantic_0_loss: 0.0019 - semantic_1_loss: 0.0056 - semantic_2_loss: 0.0012 - lr: 1.5894e-05\n",
      "Epoch 185/200\n",
      "27/27 [==============================] - ETA: 0s - loss: 0.0087 - semantic_0_loss: 0.0019 - semantic_1_loss: 0.0056 - semantic_2_loss: 0.0012WARNING:tensorflow:Can save best model only with val_loss available, skipping.\n"
     ]
    },
    {
     "name": "stderr",
     "output_type": "stream",
     "text": [
      "WARNING:tensorflow:Can save best model only with val_loss available, skipping.\n"
     ]
    },
    {
     "name": "stdout",
     "output_type": "stream",
     "text": [
      "27/27 [==============================] - 13s 483ms/step - loss: 0.0087 - semantic_0_loss: 0.0019 - semantic_1_loss: 0.0056 - semantic_2_loss: 0.0012 - lr: 1.5735e-05\n",
      "Epoch 186/200\n",
      "27/27 [==============================] - ETA: 0s - loss: 0.0090 - semantic_0_loss: 0.0020 - semantic_1_loss: 0.0058 - semantic_2_loss: 0.0012WARNING:tensorflow:Can save best model only with val_loss available, skipping.\n"
     ]
    },
    {
     "name": "stderr",
     "output_type": "stream",
     "text": [
      "WARNING:tensorflow:Can save best model only with val_loss available, skipping.\n"
     ]
    },
    {
     "name": "stdout",
     "output_type": "stream",
     "text": [
      "27/27 [==============================] - 13s 484ms/step - loss: 0.0090 - semantic_0_loss: 0.0020 - semantic_1_loss: 0.0058 - semantic_2_loss: 0.0012 - lr: 1.5578e-05\n",
      "Epoch 187/200\n",
      "27/27 [==============================] - ETA: 0s - loss: 0.0088 - semantic_0_loss: 0.0019 - semantic_1_loss: 0.0057 - semantic_2_loss: 0.0012WARNING:tensorflow:Can save best model only with val_loss available, skipping.\n"
     ]
    },
    {
     "name": "stderr",
     "output_type": "stream",
     "text": [
      "WARNING:tensorflow:Can save best model only with val_loss available, skipping.\n"
     ]
    },
    {
     "name": "stdout",
     "output_type": "stream",
     "text": [
      "27/27 [==============================] - 13s 478ms/step - loss: 0.0088 - semantic_0_loss: 0.0019 - semantic_1_loss: 0.0057 - semantic_2_loss: 0.0012 - lr: 1.5422e-05\n",
      "Epoch 188/200\n",
      "27/27 [==============================] - ETA: 0s - loss: 0.0086 - semantic_0_loss: 0.0019 - semantic_1_loss: 0.0056 - semantic_2_loss: 0.0012WARNING:tensorflow:Can save best model only with val_loss available, skipping.\n"
     ]
    },
    {
     "name": "stderr",
     "output_type": "stream",
     "text": [
      "WARNING:tensorflow:Can save best model only with val_loss available, skipping.\n"
     ]
    },
    {
     "name": "stdout",
     "output_type": "stream",
     "text": [
      "27/27 [==============================] - 14s 499ms/step - loss: 0.0086 - semantic_0_loss: 0.0019 - semantic_1_loss: 0.0056 - semantic_2_loss: 0.0012 - lr: 1.5268e-05\n",
      "Epoch 189/200\n",
      "27/27 [==============================] - ETA: 0s - loss: 0.0091 - semantic_0_loss: 0.0020 - semantic_1_loss: 0.0059 - semantic_2_loss: 0.0012WARNING:tensorflow:Can save best model only with val_loss available, skipping.\n"
     ]
    },
    {
     "name": "stderr",
     "output_type": "stream",
     "text": [
      "WARNING:tensorflow:Can save best model only with val_loss available, skipping.\n"
     ]
    },
    {
     "name": "stdout",
     "output_type": "stream",
     "text": [
      "27/27 [==============================] - 13s 494ms/step - loss: 0.0091 - semantic_0_loss: 0.0020 - semantic_1_loss: 0.0059 - semantic_2_loss: 0.0012 - lr: 1.5115e-05\n",
      "Epoch 190/200\n",
      "27/27 [==============================] - ETA: 0s - loss: 0.0089 - semantic_0_loss: 0.0019 - semantic_1_loss: 0.0058 - semantic_2_loss: 0.0012WARNING:tensorflow:Can save best model only with val_loss available, skipping.\n"
     ]
    },
    {
     "name": "stderr",
     "output_type": "stream",
     "text": [
      "WARNING:tensorflow:Can save best model only with val_loss available, skipping.\n"
     ]
    },
    {
     "name": "stdout",
     "output_type": "stream",
     "text": [
      "27/27 [==============================] - 13s 484ms/step - loss: 0.0089 - semantic_0_loss: 0.0019 - semantic_1_loss: 0.0058 - semantic_2_loss: 0.0012 - lr: 1.4964e-05\n",
      "Epoch 191/200\n",
      "27/27 [==============================] - ETA: 0s - loss: 0.0088 - semantic_0_loss: 0.0019 - semantic_1_loss: 0.0057 - semantic_2_loss: 0.0012WARNING:tensorflow:Can save best model only with val_loss available, skipping.\n"
     ]
    },
    {
     "name": "stderr",
     "output_type": "stream",
     "text": [
      "WARNING:tensorflow:Can save best model only with val_loss available, skipping.\n"
     ]
    },
    {
     "name": "stdout",
     "output_type": "stream",
     "text": [
      "27/27 [==============================] - 13s 484ms/step - loss: 0.0088 - semantic_0_loss: 0.0019 - semantic_1_loss: 0.0057 - semantic_2_loss: 0.0012 - lr: 1.4814e-05\n",
      "Epoch 192/200\n",
      "27/27 [==============================] - ETA: 0s - loss: 0.0088 - semantic_0_loss: 0.0020 - semantic_1_loss: 0.0057 - semantic_2_loss: 0.0012WARNING:tensorflow:Can save best model only with val_loss available, skipping.\n"
     ]
    },
    {
     "name": "stderr",
     "output_type": "stream",
     "text": [
      "WARNING:tensorflow:Can save best model only with val_loss available, skipping.\n"
     ]
    },
    {
     "name": "stdout",
     "output_type": "stream",
     "text": [
      "27/27 [==============================] - 13s 487ms/step - loss: 0.0088 - semantic_0_loss: 0.0020 - semantic_1_loss: 0.0057 - semantic_2_loss: 0.0012 - lr: 1.4666e-05\n",
      "Epoch 193/200\n",
      "27/27 [==============================] - ETA: 0s - loss: 0.0086 - semantic_0_loss: 0.0019 - semantic_1_loss: 0.0055 - semantic_2_loss: 0.0012WARNING:tensorflow:Can save best model only with val_loss available, skipping.\n"
     ]
    },
    {
     "name": "stderr",
     "output_type": "stream",
     "text": [
      "WARNING:tensorflow:Can save best model only with val_loss available, skipping.\n"
     ]
    },
    {
     "name": "stdout",
     "output_type": "stream",
     "text": [
      "27/27 [==============================] - 13s 487ms/step - loss: 0.0086 - semantic_0_loss: 0.0019 - semantic_1_loss: 0.0055 - semantic_2_loss: 0.0012 - lr: 1.4520e-05\n",
      "Epoch 194/200\n",
      "27/27 [==============================] - ETA: 0s - loss: 0.0087 - semantic_0_loss: 0.0019 - semantic_1_loss: 0.0056 - semantic_2_loss: 0.0012WARNING:tensorflow:Can save best model only with val_loss available, skipping.\n"
     ]
    },
    {
     "name": "stderr",
     "output_type": "stream",
     "text": [
      "WARNING:tensorflow:Can save best model only with val_loss available, skipping.\n"
     ]
    },
    {
     "name": "stdout",
     "output_type": "stream",
     "text": [
      "27/27 [==============================] - 13s 490ms/step - loss: 0.0087 - semantic_0_loss: 0.0019 - semantic_1_loss: 0.0056 - semantic_2_loss: 0.0012 - lr: 1.4374e-05\n",
      "Epoch 195/200\n",
      "27/27 [==============================] - ETA: 0s - loss: 0.0087 - semantic_0_loss: 0.0019 - semantic_1_loss: 0.0056 - semantic_2_loss: 0.0012WARNING:tensorflow:Can save best model only with val_loss available, skipping.\n"
     ]
    },
    {
     "name": "stderr",
     "output_type": "stream",
     "text": [
      "WARNING:tensorflow:Can save best model only with val_loss available, skipping.\n"
     ]
    },
    {
     "name": "stdout",
     "output_type": "stream",
     "text": [
      "27/27 [==============================] - 14s 493ms/step - loss: 0.0087 - semantic_0_loss: 0.0019 - semantic_1_loss: 0.0056 - semantic_2_loss: 0.0012 - lr: 1.4231e-05\n",
      "Epoch 196/200\n",
      "27/27 [==============================] - ETA: 0s - loss: 0.0085 - semantic_0_loss: 0.0019 - semantic_1_loss: 0.0055 - semantic_2_loss: 0.0012WARNING:tensorflow:Can save best model only with val_loss available, skipping.\n"
     ]
    },
    {
     "name": "stderr",
     "output_type": "stream",
     "text": [
      "WARNING:tensorflow:Can save best model only with val_loss available, skipping.\n"
     ]
    },
    {
     "name": "stdout",
     "output_type": "stream",
     "text": [
      "27/27 [==============================] - 13s 484ms/step - loss: 0.0085 - semantic_0_loss: 0.0019 - semantic_1_loss: 0.0055 - semantic_2_loss: 0.0012 - lr: 1.4088e-05\n",
      "Epoch 197/200\n",
      "27/27 [==============================] - ETA: 0s - loss: 0.0089 - semantic_0_loss: 0.0020 - semantic_1_loss: 0.0058 - semantic_2_loss: 0.0012WARNING:tensorflow:Can save best model only with val_loss available, skipping.\n"
     ]
    },
    {
     "name": "stderr",
     "output_type": "stream",
     "text": [
      "WARNING:tensorflow:Can save best model only with val_loss available, skipping.\n"
     ]
    },
    {
     "name": "stdout",
     "output_type": "stream",
     "text": [
      "27/27 [==============================] - 13s 487ms/step - loss: 0.0089 - semantic_0_loss: 0.0020 - semantic_1_loss: 0.0058 - semantic_2_loss: 0.0012 - lr: 1.3948e-05\n",
      "Epoch 198/200\n",
      "27/27 [==============================] - ETA: 0s - loss: 0.0090 - semantic_0_loss: 0.0020 - semantic_1_loss: 0.0058 - semantic_2_loss: 0.0012WARNING:tensorflow:Can save best model only with val_loss available, skipping.\n"
     ]
    },
    {
     "name": "stderr",
     "output_type": "stream",
     "text": [
      "WARNING:tensorflow:Can save best model only with val_loss available, skipping.\n"
     ]
    },
    {
     "name": "stdout",
     "output_type": "stream",
     "text": [
      "27/27 [==============================] - 13s 486ms/step - loss: 0.0090 - semantic_0_loss: 0.0020 - semantic_1_loss: 0.0058 - semantic_2_loss: 0.0012 - lr: 1.3808e-05\n",
      "Epoch 199/200\n",
      "27/27 [==============================] - ETA: 0s - loss: 0.0088 - semantic_0_loss: 0.0019 - semantic_1_loss: 0.0057 - semantic_2_loss: 0.0012WARNING:tensorflow:Can save best model only with val_loss available, skipping.\n"
     ]
    },
    {
     "name": "stderr",
     "output_type": "stream",
     "text": [
      "WARNING:tensorflow:Can save best model only with val_loss available, skipping.\n"
     ]
    },
    {
     "name": "stdout",
     "output_type": "stream",
     "text": [
      "27/27 [==============================] - 13s 481ms/step - loss: 0.0088 - semantic_0_loss: 0.0019 - semantic_1_loss: 0.0057 - semantic_2_loss: 0.0012 - lr: 1.3670e-05\n",
      "Epoch 200/200\n",
      "27/27 [==============================] - ETA: 0s - loss: 0.0087 - semantic_0_loss: 0.0019 - semantic_1_loss: 0.0056 - semantic_2_loss: 0.0012WARNING:tensorflow:Can save best model only with val_loss available, skipping.\n"
     ]
    },
    {
     "name": "stderr",
     "output_type": "stream",
     "text": [
      "WARNING:tensorflow:Can save best model only with val_loss available, skipping.\n"
     ]
    },
    {
     "name": "stdout",
     "output_type": "stream",
     "text": [
      "27/27 [==============================] - 13s 488ms/step - loss: 0.0087 - semantic_0_loss: 0.0019 - semantic_1_loss: 0.0056 - semantic_2_loss: 0.0012 - lr: 1.3533e-05\n",
      "/home/yfong/deeplearning/dense_cell_segmentation\n",
      "['M926910_CFL_Position7_CD3_test_img.png', 'M872956_JML_Position10_CD3_test_img.png', 'M872956_JML_Position8_CD8_test_img.png', 'M926910_CFL_Position13_CD3_test_img.png', 'M872956_JML_Position8_CD3_test_img.png', 'M872956_JML_Position8_CD4_test_img.png', 'M872956_JML_Position9_CD3_test_img.png']\n",
      "M926910_CFL_Position7_CD3_test_img.png\n"
     ]
    },
    {
     "name": "stderr",
     "output_type": "stream",
     "text": [
      "/app/software/DeepCell/0.11.1-foss-2021b-CUDA-11.4.1/lib/python3.9/site-packages/deepcell_toolbox/deep_watershed.py:179: FutureWarning: `selem` is a deprecated argument name for `h_maxima`. It will be removed in version 1.0.Please use `footprint` instead.\n",
      "  markers = h_maxima(image=maxima,\n"
     ]
    },
    {
     "name": "stdout",
     "output_type": "stream",
     "text": [
      "M872956_JML_Position10_CD3_test_img.png\n",
      "M872956_JML_Position8_CD8_test_img.png\n",
      "M926910_CFL_Position13_CD3_test_img.png\n",
      "M872956_JML_Position8_CD3_test_img.png\n",
      "M872956_JML_Position8_CD4_test_img.png\n",
      "M872956_JML_Position9_CD3_test_img.png\n",
      "[[0.17377567140600317, 0.2704309063893016], [0.18197573656845753, 0.2951096121416526], [0.3492063492063492, 0.4068627450980392], [0.13010204081632654, 0.21678321678321677], [0.3079710144927536, 0.43562610229276894], [0.4478021978021978, 0.5466321243523317], [0.2175732217573222, 0.3136456211812627]]\n",
      "                                         0         1         2\n",
      "0   M926910_CFL_Position7_CD3_test_img.png  0.173776  0.270431\n",
      "1  M872956_JML_Position10_CD3_test_img.png  0.181976   0.29511\n",
      "2   M872956_JML_Position8_CD8_test_img.png  0.349206  0.406863\n",
      "3  M926910_CFL_Position13_CD3_test_img.png  0.130102  0.216783\n",
      "4   M872956_JML_Position8_CD3_test_img.png  0.307971  0.435626\n",
      "5   M872956_JML_Position8_CD4_test_img.png  0.447802  0.546632\n",
      "6   M872956_JML_Position9_CD3_test_img.png  0.217573  0.313646\n",
      "6\n",
      "(6, 1040, 1159, 1)\n",
      "(6, 1040, 1159, 1)\n",
      "3.0769230769230766\n",
      "(6, 3199, 3566, 1)\n",
      "(6, 3199, 3566, 1)\n",
      "(6, 3199, 3566, 1)\n",
      "(6, 3199, 3566, 1)\n",
      "[0, 400, 800, 1200, 2687]\n",
      "[512, 912, 1312, 1712, 3199]\n",
      "[0, 512, 1024, 1536, 3054]\n",
      "[512, 1024, 1536, 2048, 3566]\n",
      "(150, 512, 512, 1)\n",
      "(150, 512, 512, 1)\n",
      "WARNING:tensorflow:Removing 14 of 150 images with fewer than 5 objects.\n"
     ]
    },
    {
     "name": "stderr",
     "output_type": "stream",
     "text": [
      "WARNING:tensorflow:Removing 14 of 150 images with fewer than 5 objects.\n",
      "/app/software/TensorFlow/2.7.1-foss-2021b-CUDA-11.4.1/lib/python3.9/site-packages/keras/optimizer_v2/adam.py:105: UserWarning: The `lr` argument is deprecated, use `learning_rate` instead.\n",
      "  super(Adam, self).__init__(name, **kwargs)\n"
     ]
    },
    {
     "name": "stdout",
     "output_type": "stream",
     "text": [
      "Training on 3 GPUs.\n"
     ]
    },
    {
     "name": "stderr",
     "output_type": "stream",
     "text": [
      "2022-11-11 21:41:08.152817: I tensorflow/core/common_runtime/gpu/gpu_device.cc:1525] Created device /device:GPU:0 with 14657 MB memory:  -> device: 0, name: Tesla V100-PCIE-16GB, pci bus id: 0000:04:00.0, compute capability: 7.0\n",
      "2022-11-11 21:41:08.153808: I tensorflow/core/common_runtime/gpu/gpu_device.cc:1525] Created device /device:GPU:1 with 14657 MB memory:  -> device: 1, name: Tesla V100-PCIE-16GB, pci bus id: 0000:06:00.0, compute capability: 7.0\n",
      "2022-11-11 21:41:08.154739: I tensorflow/core/common_runtime/gpu/gpu_device.cc:1525] Created device /device:GPU:2 with 14657 MB memory:  -> device: 2, name: Tesla V100-PCIE-16GB, pci bus id: 0000:08:00.0, compute capability: 7.0\n"
     ]
    },
    {
     "name": "stdout",
     "output_type": "stream",
     "text": [
      "Epoch 1/200\n",
      "34/34 [==============================] - ETA: 0s - loss: 0.0191 - semantic_0_loss: 0.0032 - semantic_1_loss: 0.0137 - semantic_2_loss: 0.0023WARNING:tensorflow:Can save best model only with val_loss available, skipping.\n"
     ]
    },
    {
     "name": "stderr",
     "output_type": "stream",
     "text": [
      "WARNING:tensorflow:Can save best model only with val_loss available, skipping.\n"
     ]
    },
    {
     "name": "stdout",
     "output_type": "stream",
     "text": [
      "34/34 [==============================] - 31s 485ms/step - loss: 0.0191 - semantic_0_loss: 0.0032 - semantic_1_loss: 0.0137 - semantic_2_loss: 0.0023 - lr: 1.0000e-04\n",
      "Epoch 2/200\n",
      "34/34 [==============================] - ETA: 0s - loss: 0.0148 - semantic_0_loss: 0.0025 - semantic_1_loss: 0.0104 - semantic_2_loss: 0.0019WARNING:tensorflow:Can save best model only with val_loss available, skipping.\n"
     ]
    },
    {
     "name": "stderr",
     "output_type": "stream",
     "text": [
      "WARNING:tensorflow:Can save best model only with val_loss available, skipping.\n"
     ]
    },
    {
     "name": "stdout",
     "output_type": "stream",
     "text": [
      "34/34 [==============================] - 17s 490ms/step - loss: 0.0148 - semantic_0_loss: 0.0025 - semantic_1_loss: 0.0104 - semantic_2_loss: 0.0019 - lr: 9.9000e-05\n",
      "Epoch 3/200\n",
      "34/34 [==============================] - ETA: 0s - loss: 0.0141 - semantic_0_loss: 0.0025 - semantic_1_loss: 0.0099 - semantic_2_loss: 0.0018WARNING:tensorflow:Can save best model only with val_loss available, skipping.\n"
     ]
    },
    {
     "name": "stderr",
     "output_type": "stream",
     "text": [
      "WARNING:tensorflow:Can save best model only with val_loss available, skipping.\n"
     ]
    },
    {
     "name": "stdout",
     "output_type": "stream",
     "text": [
      "34/34 [==============================] - 17s 493ms/step - loss: 0.0141 - semantic_0_loss: 0.0025 - semantic_1_loss: 0.0099 - semantic_2_loss: 0.0018 - lr: 9.8010e-05\n",
      "Epoch 4/200\n",
      "34/34 [==============================] - ETA: 0s - loss: 0.0142 - semantic_0_loss: 0.0024 - semantic_1_loss: 0.0100 - semantic_2_loss: 0.0018WARNING:tensorflow:Can save best model only with val_loss available, skipping.\n"
     ]
    },
    {
     "name": "stderr",
     "output_type": "stream",
     "text": [
      "WARNING:tensorflow:Can save best model only with val_loss available, skipping.\n"
     ]
    },
    {
     "name": "stdout",
     "output_type": "stream",
     "text": [
      "34/34 [==============================] - 17s 491ms/step - loss: 0.0142 - semantic_0_loss: 0.0024 - semantic_1_loss: 0.0100 - semantic_2_loss: 0.0018 - lr: 9.7030e-05\n",
      "Epoch 5/200\n",
      "34/34 [==============================] - ETA: 0s - loss: 0.0135 - semantic_0_loss: 0.0024 - semantic_1_loss: 0.0094 - semantic_2_loss: 0.0017WARNING:tensorflow:Can save best model only with val_loss available, skipping.\n"
     ]
    },
    {
     "name": "stderr",
     "output_type": "stream",
     "text": [
      "WARNING:tensorflow:Can save best model only with val_loss available, skipping.\n"
     ]
    },
    {
     "name": "stdout",
     "output_type": "stream",
     "text": [
      "34/34 [==============================] - 17s 488ms/step - loss: 0.0135 - semantic_0_loss: 0.0024 - semantic_1_loss: 0.0094 - semantic_2_loss: 0.0017 - lr: 9.6060e-05\n",
      "Epoch 6/200\n",
      "34/34 [==============================] - ETA: 0s - loss: 0.0132 - semantic_0_loss: 0.0024 - semantic_1_loss: 0.0092 - semantic_2_loss: 0.0016WARNING:tensorflow:Can save best model only with val_loss available, skipping.\n"
     ]
    },
    {
     "name": "stderr",
     "output_type": "stream",
     "text": [
      "WARNING:tensorflow:Can save best model only with val_loss available, skipping.\n"
     ]
    },
    {
     "name": "stdout",
     "output_type": "stream",
     "text": [
      "34/34 [==============================] - 17s 497ms/step - loss: 0.0132 - semantic_0_loss: 0.0024 - semantic_1_loss: 0.0092 - semantic_2_loss: 0.0016 - lr: 9.5099e-05\n",
      "Epoch 7/200\n",
      "34/34 [==============================] - ETA: 0s - loss: 0.0132 - semantic_0_loss: 0.0024 - semantic_1_loss: 0.0092 - semantic_2_loss: 0.0016WARNING:tensorflow:Can save best model only with val_loss available, skipping.\n"
     ]
    },
    {
     "name": "stderr",
     "output_type": "stream",
     "text": [
      "WARNING:tensorflow:Can save best model only with val_loss available, skipping.\n"
     ]
    },
    {
     "name": "stdout",
     "output_type": "stream",
     "text": [
      "34/34 [==============================] - 17s 494ms/step - loss: 0.0132 - semantic_0_loss: 0.0024 - semantic_1_loss: 0.0092 - semantic_2_loss: 0.0016 - lr: 9.4148e-05\n",
      "Epoch 8/200\n",
      "34/34 [==============================] - ETA: 0s - loss: 0.0133 - semantic_0_loss: 0.0024 - semantic_1_loss: 0.0093 - semantic_2_loss: 0.0016WARNING:tensorflow:Can save best model only with val_loss available, skipping.\n"
     ]
    },
    {
     "name": "stderr",
     "output_type": "stream",
     "text": [
      "WARNING:tensorflow:Can save best model only with val_loss available, skipping.\n"
     ]
    },
    {
     "name": "stdout",
     "output_type": "stream",
     "text": [
      "34/34 [==============================] - 17s 493ms/step - loss: 0.0133 - semantic_0_loss: 0.0024 - semantic_1_loss: 0.0093 - semantic_2_loss: 0.0016 - lr: 9.3207e-05\n",
      "Epoch 9/200\n",
      "34/34 [==============================] - ETA: 0s - loss: 0.0131 - semantic_0_loss: 0.0023 - semantic_1_loss: 0.0091 - semantic_2_loss: 0.0016WARNING:tensorflow:Can save best model only with val_loss available, skipping.\n"
     ]
    },
    {
     "name": "stderr",
     "output_type": "stream",
     "text": [
      "WARNING:tensorflow:Can save best model only with val_loss available, skipping.\n"
     ]
    },
    {
     "name": "stdout",
     "output_type": "stream",
     "text": [
      "34/34 [==============================] - 17s 489ms/step - loss: 0.0131 - semantic_0_loss: 0.0023 - semantic_1_loss: 0.0091 - semantic_2_loss: 0.0016 - lr: 9.2274e-05\n",
      "Epoch 10/200\n",
      "34/34 [==============================] - ETA: 0s - loss: 0.0129 - semantic_0_loss: 0.0023 - semantic_1_loss: 0.0090 - semantic_2_loss: 0.0016WARNING:tensorflow:Can save best model only with val_loss available, skipping.\n"
     ]
    },
    {
     "name": "stderr",
     "output_type": "stream",
     "text": [
      "WARNING:tensorflow:Can save best model only with val_loss available, skipping.\n"
     ]
    },
    {
     "name": "stdout",
     "output_type": "stream",
     "text": [
      "34/34 [==============================] - 17s 488ms/step - loss: 0.0129 - semantic_0_loss: 0.0023 - semantic_1_loss: 0.0090 - semantic_2_loss: 0.0016 - lr: 9.1352e-05\n",
      "Epoch 11/200\n",
      "34/34 [==============================] - ETA: 0s - loss: 0.0127 - semantic_0_loss: 0.0023 - semantic_1_loss: 0.0088 - semantic_2_loss: 0.0016WARNING:tensorflow:Can save best model only with val_loss available, skipping.\n"
     ]
    },
    {
     "name": "stderr",
     "output_type": "stream",
     "text": [
      "WARNING:tensorflow:Can save best model only with val_loss available, skipping.\n"
     ]
    },
    {
     "name": "stdout",
     "output_type": "stream",
     "text": [
      "34/34 [==============================] - 17s 494ms/step - loss: 0.0127 - semantic_0_loss: 0.0023 - semantic_1_loss: 0.0088 - semantic_2_loss: 0.0016 - lr: 9.0438e-05\n",
      "Epoch 12/200\n",
      "34/34 [==============================] - ETA: 0s - loss: 0.0127 - semantic_0_loss: 0.0023 - semantic_1_loss: 0.0089 - semantic_2_loss: 0.0016WARNING:tensorflow:Can save best model only with val_loss available, skipping.\n"
     ]
    },
    {
     "name": "stderr",
     "output_type": "stream",
     "text": [
      "WARNING:tensorflow:Can save best model only with val_loss available, skipping.\n"
     ]
    },
    {
     "name": "stdout",
     "output_type": "stream",
     "text": [
      "34/34 [==============================] - 17s 487ms/step - loss: 0.0127 - semantic_0_loss: 0.0023 - semantic_1_loss: 0.0089 - semantic_2_loss: 0.0016 - lr: 8.9534e-05\n",
      "Epoch 13/200\n",
      "34/34 [==============================] - ETA: 0s - loss: 0.0125 - semantic_0_loss: 0.0023 - semantic_1_loss: 0.0087 - semantic_2_loss: 0.0016WARNING:tensorflow:Can save best model only with val_loss available, skipping.\n"
     ]
    },
    {
     "name": "stderr",
     "output_type": "stream",
     "text": [
      "WARNING:tensorflow:Can save best model only with val_loss available, skipping.\n"
     ]
    },
    {
     "name": "stdout",
     "output_type": "stream",
     "text": [
      "34/34 [==============================] - 17s 493ms/step - loss: 0.0125 - semantic_0_loss: 0.0023 - semantic_1_loss: 0.0087 - semantic_2_loss: 0.0016 - lr: 8.8638e-05\n",
      "Epoch 14/200\n",
      "34/34 [==============================] - ETA: 0s - loss: 0.0126 - semantic_0_loss: 0.0023 - semantic_1_loss: 0.0087 - semantic_2_loss: 0.0016WARNING:tensorflow:Can save best model only with val_loss available, skipping.\n"
     ]
    },
    {
     "name": "stderr",
     "output_type": "stream",
     "text": [
      "WARNING:tensorflow:Can save best model only with val_loss available, skipping.\n"
     ]
    },
    {
     "name": "stdout",
     "output_type": "stream",
     "text": [
      "34/34 [==============================] - 17s 486ms/step - loss: 0.0126 - semantic_0_loss: 0.0023 - semantic_1_loss: 0.0087 - semantic_2_loss: 0.0016 - lr: 8.7752e-05\n",
      "Epoch 15/200\n",
      "34/34 [==============================] - ETA: 0s - loss: 0.0123 - semantic_0_loss: 0.0023 - semantic_1_loss: 0.0085 - semantic_2_loss: 0.0015WARNING:tensorflow:Can save best model only with val_loss available, skipping.\n"
     ]
    },
    {
     "name": "stderr",
     "output_type": "stream",
     "text": [
      "WARNING:tensorflow:Can save best model only with val_loss available, skipping.\n"
     ]
    },
    {
     "name": "stdout",
     "output_type": "stream",
     "text": [
      "34/34 [==============================] - 17s 490ms/step - loss: 0.0123 - semantic_0_loss: 0.0023 - semantic_1_loss: 0.0085 - semantic_2_loss: 0.0015 - lr: 8.6875e-05\n",
      "Epoch 16/200\n",
      "34/34 [==============================] - ETA: 0s - loss: 0.0126 - semantic_0_loss: 0.0023 - semantic_1_loss: 0.0088 - semantic_2_loss: 0.0016WARNING:tensorflow:Can save best model only with val_loss available, skipping.\n"
     ]
    },
    {
     "name": "stderr",
     "output_type": "stream",
     "text": [
      "WARNING:tensorflow:Can save best model only with val_loss available, skipping.\n"
     ]
    },
    {
     "name": "stdout",
     "output_type": "stream",
     "text": [
      "34/34 [==============================] - 17s 495ms/step - loss: 0.0126 - semantic_0_loss: 0.0023 - semantic_1_loss: 0.0088 - semantic_2_loss: 0.0016 - lr: 8.6006e-05\n",
      "Epoch 17/200\n",
      "34/34 [==============================] - ETA: 0s - loss: 0.0123 - semantic_0_loss: 0.0023 - semantic_1_loss: 0.0085 - semantic_2_loss: 0.0015WARNING:tensorflow:Can save best model only with val_loss available, skipping.\n"
     ]
    },
    {
     "name": "stderr",
     "output_type": "stream",
     "text": [
      "WARNING:tensorflow:Can save best model only with val_loss available, skipping.\n"
     ]
    },
    {
     "name": "stdout",
     "output_type": "stream",
     "text": [
      "34/34 [==============================] - 17s 492ms/step - loss: 0.0123 - semantic_0_loss: 0.0023 - semantic_1_loss: 0.0085 - semantic_2_loss: 0.0015 - lr: 8.5146e-05\n",
      "Epoch 18/200\n",
      "34/34 [==============================] - ETA: 0s - loss: 0.0123 - semantic_0_loss: 0.0023 - semantic_1_loss: 0.0085 - semantic_2_loss: 0.0015WARNING:tensorflow:Can save best model only with val_loss available, skipping.\n"
     ]
    },
    {
     "name": "stderr",
     "output_type": "stream",
     "text": [
      "WARNING:tensorflow:Can save best model only with val_loss available, skipping.\n"
     ]
    },
    {
     "name": "stdout",
     "output_type": "stream",
     "text": [
      "34/34 [==============================] - 17s 488ms/step - loss: 0.0123 - semantic_0_loss: 0.0023 - semantic_1_loss: 0.0085 - semantic_2_loss: 0.0015 - lr: 8.4294e-05\n",
      "Epoch 19/200\n",
      "34/34 [==============================] - ETA: 0s - loss: 0.0123 - semantic_0_loss: 0.0023 - semantic_1_loss: 0.0085 - semantic_2_loss: 0.0015WARNING:tensorflow:Can save best model only with val_loss available, skipping.\n"
     ]
    },
    {
     "name": "stderr",
     "output_type": "stream",
     "text": [
      "WARNING:tensorflow:Can save best model only with val_loss available, skipping.\n"
     ]
    },
    {
     "name": "stdout",
     "output_type": "stream",
     "text": [
      "34/34 [==============================] - 17s 488ms/step - loss: 0.0123 - semantic_0_loss: 0.0023 - semantic_1_loss: 0.0085 - semantic_2_loss: 0.0015 - lr: 8.3451e-05\n",
      "Epoch 20/200\n",
      "34/34 [==============================] - ETA: 0s - loss: 0.0123 - semantic_0_loss: 0.0023 - semantic_1_loss: 0.0085 - semantic_2_loss: 0.0015WARNING:tensorflow:Can save best model only with val_loss available, skipping.\n"
     ]
    },
    {
     "name": "stderr",
     "output_type": "stream",
     "text": [
      "WARNING:tensorflow:Can save best model only with val_loss available, skipping.\n"
     ]
    },
    {
     "name": "stdout",
     "output_type": "stream",
     "text": [
      "34/34 [==============================] - 17s 491ms/step - loss: 0.0123 - semantic_0_loss: 0.0023 - semantic_1_loss: 0.0085 - semantic_2_loss: 0.0015 - lr: 8.2617e-05\n",
      "Epoch 21/200\n",
      "34/34 [==============================] - ETA: 0s - loss: 0.0118 - semantic_0_loss: 0.0022 - semantic_1_loss: 0.0081 - semantic_2_loss: 0.0015WARNING:tensorflow:Can save best model only with val_loss available, skipping.\n"
     ]
    },
    {
     "name": "stderr",
     "output_type": "stream",
     "text": [
      "WARNING:tensorflow:Can save best model only with val_loss available, skipping.\n"
     ]
    },
    {
     "name": "stdout",
     "output_type": "stream",
     "text": [
      "34/34 [==============================] - 17s 495ms/step - loss: 0.0118 - semantic_0_loss: 0.0022 - semantic_1_loss: 0.0081 - semantic_2_loss: 0.0015 - lr: 8.1791e-05\n",
      "Epoch 22/200\n",
      "34/34 [==============================] - ETA: 0s - loss: 0.0122 - semantic_0_loss: 0.0023 - semantic_1_loss: 0.0084 - semantic_2_loss: 0.0015WARNING:tensorflow:Can save best model only with val_loss available, skipping.\n"
     ]
    },
    {
     "name": "stderr",
     "output_type": "stream",
     "text": [
      "WARNING:tensorflow:Can save best model only with val_loss available, skipping.\n"
     ]
    },
    {
     "name": "stdout",
     "output_type": "stream",
     "text": [
      "34/34 [==============================] - 17s 492ms/step - loss: 0.0122 - semantic_0_loss: 0.0023 - semantic_1_loss: 0.0084 - semantic_2_loss: 0.0015 - lr: 8.0973e-05\n",
      "Epoch 23/200\n",
      "34/34 [==============================] - ETA: 0s - loss: 0.0117 - semantic_0_loss: 0.0022 - semantic_1_loss: 0.0080 - semantic_2_loss: 0.0015WARNING:tensorflow:Can save best model only with val_loss available, skipping.\n"
     ]
    },
    {
     "name": "stderr",
     "output_type": "stream",
     "text": [
      "WARNING:tensorflow:Can save best model only with val_loss available, skipping.\n"
     ]
    },
    {
     "name": "stdout",
     "output_type": "stream",
     "text": [
      "34/34 [==============================] - 17s 487ms/step - loss: 0.0117 - semantic_0_loss: 0.0022 - semantic_1_loss: 0.0080 - semantic_2_loss: 0.0015 - lr: 8.0163e-05\n",
      "Epoch 24/200\n",
      "34/34 [==============================] - ETA: 0s - loss: 0.0120 - semantic_0_loss: 0.0022 - semantic_1_loss: 0.0083 - semantic_2_loss: 0.0015WARNING:tensorflow:Can save best model only with val_loss available, skipping.\n"
     ]
    },
    {
     "name": "stderr",
     "output_type": "stream",
     "text": [
      "WARNING:tensorflow:Can save best model only with val_loss available, skipping.\n"
     ]
    },
    {
     "name": "stdout",
     "output_type": "stream",
     "text": [
      "34/34 [==============================] - 17s 487ms/step - loss: 0.0120 - semantic_0_loss: 0.0022 - semantic_1_loss: 0.0083 - semantic_2_loss: 0.0015 - lr: 7.9361e-05\n",
      "Epoch 25/200\n",
      "34/34 [==============================] - ETA: 0s - loss: 0.0117 - semantic_0_loss: 0.0022 - semantic_1_loss: 0.0080 - semantic_2_loss: 0.0015WARNING:tensorflow:Can save best model only with val_loss available, skipping.\n"
     ]
    },
    {
     "name": "stderr",
     "output_type": "stream",
     "text": [
      "WARNING:tensorflow:Can save best model only with val_loss available, skipping.\n"
     ]
    },
    {
     "name": "stdout",
     "output_type": "stream",
     "text": [
      "34/34 [==============================] - 17s 492ms/step - loss: 0.0117 - semantic_0_loss: 0.0022 - semantic_1_loss: 0.0080 - semantic_2_loss: 0.0015 - lr: 7.8568e-05\n",
      "Epoch 26/200\n",
      "34/34 [==============================] - ETA: 0s - loss: 0.0118 - semantic_0_loss: 0.0022 - semantic_1_loss: 0.0081 - semantic_2_loss: 0.0015WARNING:tensorflow:Can save best model only with val_loss available, skipping.\n"
     ]
    },
    {
     "name": "stderr",
     "output_type": "stream",
     "text": [
      "WARNING:tensorflow:Can save best model only with val_loss available, skipping.\n"
     ]
    },
    {
     "name": "stdout",
     "output_type": "stream",
     "text": [
      "34/34 [==============================] - 17s 493ms/step - loss: 0.0118 - semantic_0_loss: 0.0022 - semantic_1_loss: 0.0081 - semantic_2_loss: 0.0015 - lr: 7.7782e-05\n",
      "Epoch 27/200\n",
      "34/34 [==============================] - ETA: 0s - loss: 0.0116 - semantic_0_loss: 0.0022 - semantic_1_loss: 0.0080 - semantic_2_loss: 0.0015WARNING:tensorflow:Can save best model only with val_loss available, skipping.\n"
     ]
    },
    {
     "name": "stderr",
     "output_type": "stream",
     "text": [
      "WARNING:tensorflow:Can save best model only with val_loss available, skipping.\n"
     ]
    },
    {
     "name": "stdout",
     "output_type": "stream",
     "text": [
      "34/34 [==============================] - 17s 484ms/step - loss: 0.0116 - semantic_0_loss: 0.0022 - semantic_1_loss: 0.0080 - semantic_2_loss: 0.0015 - lr: 7.7004e-05\n",
      "Epoch 28/200\n",
      "34/34 [==============================] - ETA: 0s - loss: 0.0118 - semantic_0_loss: 0.0022 - semantic_1_loss: 0.0081 - semantic_2_loss: 0.0015WARNING:tensorflow:Can save best model only with val_loss available, skipping.\n"
     ]
    },
    {
     "name": "stderr",
     "output_type": "stream",
     "text": [
      "WARNING:tensorflow:Can save best model only with val_loss available, skipping.\n"
     ]
    },
    {
     "name": "stdout",
     "output_type": "stream",
     "text": [
      "34/34 [==============================] - 17s 494ms/step - loss: 0.0118 - semantic_0_loss: 0.0022 - semantic_1_loss: 0.0081 - semantic_2_loss: 0.0015 - lr: 7.6234e-05\n",
      "Epoch 29/200\n",
      "34/34 [==============================] - ETA: 0s - loss: 0.0117 - semantic_0_loss: 0.0022 - semantic_1_loss: 0.0080 - semantic_2_loss: 0.0015WARNING:tensorflow:Can save best model only with val_loss available, skipping.\n"
     ]
    },
    {
     "name": "stderr",
     "output_type": "stream",
     "text": [
      "WARNING:tensorflow:Can save best model only with val_loss available, skipping.\n"
     ]
    },
    {
     "name": "stdout",
     "output_type": "stream",
     "text": [
      "34/34 [==============================] - 17s 491ms/step - loss: 0.0117 - semantic_0_loss: 0.0022 - semantic_1_loss: 0.0080 - semantic_2_loss: 0.0015 - lr: 7.5472e-05\n",
      "Epoch 30/200\n",
      "34/34 [==============================] - ETA: 0s - loss: 0.0117 - semantic_0_loss: 0.0022 - semantic_1_loss: 0.0081 - semantic_2_loss: 0.0015WARNING:tensorflow:Can save best model only with val_loss available, skipping.\n"
     ]
    },
    {
     "name": "stderr",
     "output_type": "stream",
     "text": [
      "WARNING:tensorflow:Can save best model only with val_loss available, skipping.\n"
     ]
    },
    {
     "name": "stdout",
     "output_type": "stream",
     "text": [
      "34/34 [==============================] - 17s 485ms/step - loss: 0.0117 - semantic_0_loss: 0.0022 - semantic_1_loss: 0.0081 - semantic_2_loss: 0.0015 - lr: 7.4717e-05\n",
      "Epoch 31/200\n",
      "34/34 [==============================] - ETA: 0s - loss: 0.0115 - semantic_0_loss: 0.0022 - semantic_1_loss: 0.0079 - semantic_2_loss: 0.0015WARNING:tensorflow:Can save best model only with val_loss available, skipping.\n"
     ]
    },
    {
     "name": "stderr",
     "output_type": "stream",
     "text": [
      "WARNING:tensorflow:Can save best model only with val_loss available, skipping.\n"
     ]
    },
    {
     "name": "stdout",
     "output_type": "stream",
     "text": [
      "34/34 [==============================] - 17s 491ms/step - loss: 0.0115 - semantic_0_loss: 0.0022 - semantic_1_loss: 0.0079 - semantic_2_loss: 0.0015 - lr: 7.3970e-05\n",
      "Epoch 32/200\n",
      "34/34 [==============================] - ETA: 0s - loss: 0.0115 - semantic_0_loss: 0.0022 - semantic_1_loss: 0.0079 - semantic_2_loss: 0.0014WARNING:tensorflow:Can save best model only with val_loss available, skipping.\n"
     ]
    },
    {
     "name": "stderr",
     "output_type": "stream",
     "text": [
      "WARNING:tensorflow:Can save best model only with val_loss available, skipping.\n"
     ]
    },
    {
     "name": "stdout",
     "output_type": "stream",
     "text": [
      "34/34 [==============================] - 17s 486ms/step - loss: 0.0115 - semantic_0_loss: 0.0022 - semantic_1_loss: 0.0079 - semantic_2_loss: 0.0014 - lr: 7.3230e-05\n",
      "Epoch 33/200\n",
      "34/34 [==============================] - ETA: 0s - loss: 0.0113 - semantic_0_loss: 0.0022 - semantic_1_loss: 0.0077 - semantic_2_loss: 0.0014WARNING:tensorflow:Can save best model only with val_loss available, skipping.\n"
     ]
    },
    {
     "name": "stderr",
     "output_type": "stream",
     "text": [
      "WARNING:tensorflow:Can save best model only with val_loss available, skipping.\n"
     ]
    },
    {
     "name": "stdout",
     "output_type": "stream",
     "text": [
      "34/34 [==============================] - 17s 497ms/step - loss: 0.0113 - semantic_0_loss: 0.0022 - semantic_1_loss: 0.0077 - semantic_2_loss: 0.0014 - lr: 7.2498e-05\n",
      "Epoch 34/200\n",
      "34/34 [==============================] - ETA: 0s - loss: 0.0114 - semantic_0_loss: 0.0022 - semantic_1_loss: 0.0078 - semantic_2_loss: 0.0014WARNING:tensorflow:Can save best model only with val_loss available, skipping.\n"
     ]
    },
    {
     "name": "stderr",
     "output_type": "stream",
     "text": [
      "WARNING:tensorflow:Can save best model only with val_loss available, skipping.\n"
     ]
    },
    {
     "name": "stdout",
     "output_type": "stream",
     "text": [
      "34/34 [==============================] - 17s 488ms/step - loss: 0.0114 - semantic_0_loss: 0.0022 - semantic_1_loss: 0.0078 - semantic_2_loss: 0.0014 - lr: 7.1773e-05\n",
      "Epoch 35/200\n",
      "34/34 [==============================] - ETA: 0s - loss: 0.0113 - semantic_0_loss: 0.0021 - semantic_1_loss: 0.0077 - semantic_2_loss: 0.0014WARNING:tensorflow:Can save best model only with val_loss available, skipping.\n"
     ]
    },
    {
     "name": "stderr",
     "output_type": "stream",
     "text": [
      "WARNING:tensorflow:Can save best model only with val_loss available, skipping.\n"
     ]
    },
    {
     "name": "stdout",
     "output_type": "stream",
     "text": [
      "34/34 [==============================] - 17s 489ms/step - loss: 0.0113 - semantic_0_loss: 0.0021 - semantic_1_loss: 0.0077 - semantic_2_loss: 0.0014 - lr: 7.1055e-05\n",
      "Epoch 36/200\n",
      "34/34 [==============================] - ETA: 0s - loss: 0.0114 - semantic_0_loss: 0.0022 - semantic_1_loss: 0.0078 - semantic_2_loss: 0.0014WARNING:tensorflow:Can save best model only with val_loss available, skipping.\n"
     ]
    },
    {
     "name": "stderr",
     "output_type": "stream",
     "text": [
      "WARNING:tensorflow:Can save best model only with val_loss available, skipping.\n"
     ]
    },
    {
     "name": "stdout",
     "output_type": "stream",
     "text": [
      "34/34 [==============================] - 17s 492ms/step - loss: 0.0114 - semantic_0_loss: 0.0022 - semantic_1_loss: 0.0078 - semantic_2_loss: 0.0014 - lr: 7.0345e-05\n",
      "Epoch 37/200\n",
      "34/34 [==============================] - ETA: 0s - loss: 0.0113 - semantic_0_loss: 0.0022 - semantic_1_loss: 0.0077 - semantic_2_loss: 0.0014WARNING:tensorflow:Can save best model only with val_loss available, skipping.\n"
     ]
    },
    {
     "name": "stderr",
     "output_type": "stream",
     "text": [
      "WARNING:tensorflow:Can save best model only with val_loss available, skipping.\n"
     ]
    },
    {
     "name": "stdout",
     "output_type": "stream",
     "text": [
      "34/34 [==============================] - 17s 490ms/step - loss: 0.0113 - semantic_0_loss: 0.0022 - semantic_1_loss: 0.0077 - semantic_2_loss: 0.0014 - lr: 6.9641e-05\n",
      "Epoch 38/200\n",
      "34/34 [==============================] - ETA: 0s - loss: 0.0111 - semantic_0_loss: 0.0022 - semantic_1_loss: 0.0075 - semantic_2_loss: 0.0014WARNING:tensorflow:Can save best model only with val_loss available, skipping.\n"
     ]
    },
    {
     "name": "stderr",
     "output_type": "stream",
     "text": [
      "WARNING:tensorflow:Can save best model only with val_loss available, skipping.\n"
     ]
    },
    {
     "name": "stdout",
     "output_type": "stream",
     "text": [
      "34/34 [==============================] - 17s 487ms/step - loss: 0.0111 - semantic_0_loss: 0.0022 - semantic_1_loss: 0.0075 - semantic_2_loss: 0.0014 - lr: 6.8945e-05\n",
      "Epoch 39/200\n",
      "34/34 [==============================] - ETA: 0s - loss: 0.0112 - semantic_0_loss: 0.0021 - semantic_1_loss: 0.0076 - semantic_2_loss: 0.0014WARNING:tensorflow:Can save best model only with val_loss available, skipping.\n"
     ]
    },
    {
     "name": "stderr",
     "output_type": "stream",
     "text": [
      "WARNING:tensorflow:Can save best model only with val_loss available, skipping.\n"
     ]
    },
    {
     "name": "stdout",
     "output_type": "stream",
     "text": [
      "34/34 [==============================] - 17s 492ms/step - loss: 0.0112 - semantic_0_loss: 0.0021 - semantic_1_loss: 0.0076 - semantic_2_loss: 0.0014 - lr: 6.8255e-05\n",
      "Epoch 40/200\n",
      "34/34 [==============================] - ETA: 0s - loss: 0.0111 - semantic_0_loss: 0.0021 - semantic_1_loss: 0.0076 - semantic_2_loss: 0.0014WARNING:tensorflow:Can save best model only with val_loss available, skipping.\n"
     ]
    },
    {
     "name": "stderr",
     "output_type": "stream",
     "text": [
      "WARNING:tensorflow:Can save best model only with val_loss available, skipping.\n"
     ]
    },
    {
     "name": "stdout",
     "output_type": "stream",
     "text": [
      "34/34 [==============================] - 17s 491ms/step - loss: 0.0111 - semantic_0_loss: 0.0021 - semantic_1_loss: 0.0076 - semantic_2_loss: 0.0014 - lr: 6.7573e-05\n",
      "Epoch 41/200\n",
      "34/34 [==============================] - ETA: 0s - loss: 0.0110 - semantic_0_loss: 0.0021 - semantic_1_loss: 0.0075 - semantic_2_loss: 0.0014WARNING:tensorflow:Can save best model only with val_loss available, skipping.\n"
     ]
    },
    {
     "name": "stderr",
     "output_type": "stream",
     "text": [
      "WARNING:tensorflow:Can save best model only with val_loss available, skipping.\n"
     ]
    },
    {
     "name": "stdout",
     "output_type": "stream",
     "text": [
      "34/34 [==============================] - 17s 486ms/step - loss: 0.0110 - semantic_0_loss: 0.0021 - semantic_1_loss: 0.0075 - semantic_2_loss: 0.0014 - lr: 6.6897e-05\n",
      "Epoch 42/200\n",
      "34/34 [==============================] - ETA: 0s - loss: 0.0112 - semantic_0_loss: 0.0021 - semantic_1_loss: 0.0076 - semantic_2_loss: 0.0014WARNING:tensorflow:Can save best model only with val_loss available, skipping.\n"
     ]
    },
    {
     "name": "stderr",
     "output_type": "stream",
     "text": [
      "WARNING:tensorflow:Can save best model only with val_loss available, skipping.\n"
     ]
    },
    {
     "name": "stdout",
     "output_type": "stream",
     "text": [
      "34/34 [==============================] - 17s 492ms/step - loss: 0.0112 - semantic_0_loss: 0.0021 - semantic_1_loss: 0.0076 - semantic_2_loss: 0.0014 - lr: 6.6228e-05\n",
      "Epoch 43/200\n",
      "34/34 [==============================] - ETA: 0s - loss: 0.0109 - semantic_0_loss: 0.0021 - semantic_1_loss: 0.0074 - semantic_2_loss: 0.0014WARNING:tensorflow:Can save best model only with val_loss available, skipping.\n"
     ]
    },
    {
     "name": "stderr",
     "output_type": "stream",
     "text": [
      "WARNING:tensorflow:Can save best model only with val_loss available, skipping.\n"
     ]
    },
    {
     "name": "stdout",
     "output_type": "stream",
     "text": [
      "34/34 [==============================] - 17s 495ms/step - loss: 0.0109 - semantic_0_loss: 0.0021 - semantic_1_loss: 0.0074 - semantic_2_loss: 0.0014 - lr: 6.5566e-05\n",
      "Epoch 44/200\n",
      "34/34 [==============================] - ETA: 0s - loss: 0.0111 - semantic_0_loss: 0.0022 - semantic_1_loss: 0.0076 - semantic_2_loss: 0.0014WARNING:tensorflow:Can save best model only with val_loss available, skipping.\n"
     ]
    },
    {
     "name": "stderr",
     "output_type": "stream",
     "text": [
      "WARNING:tensorflow:Can save best model only with val_loss available, skipping.\n"
     ]
    },
    {
     "name": "stdout",
     "output_type": "stream",
     "text": [
      "34/34 [==============================] - 17s 490ms/step - loss: 0.0111 - semantic_0_loss: 0.0022 - semantic_1_loss: 0.0076 - semantic_2_loss: 0.0014 - lr: 6.4910e-05\n",
      "Epoch 45/200\n",
      "34/34 [==============================] - ETA: 0s - loss: 0.0107 - semantic_0_loss: 0.0021 - semantic_1_loss: 0.0072 - semantic_2_loss: 0.0014WARNING:tensorflow:Can save best model only with val_loss available, skipping.\n"
     ]
    },
    {
     "name": "stderr",
     "output_type": "stream",
     "text": [
      "WARNING:tensorflow:Can save best model only with val_loss available, skipping.\n"
     ]
    },
    {
     "name": "stdout",
     "output_type": "stream",
     "text": [
      "34/34 [==============================] - 17s 490ms/step - loss: 0.0107 - semantic_0_loss: 0.0021 - semantic_1_loss: 0.0072 - semantic_2_loss: 0.0014 - lr: 6.4261e-05\n",
      "Epoch 46/200\n",
      "34/34 [==============================] - ETA: 0s - loss: 0.0109 - semantic_0_loss: 0.0021 - semantic_1_loss: 0.0074 - semantic_2_loss: 0.0014WARNING:tensorflow:Can save best model only with val_loss available, skipping.\n"
     ]
    },
    {
     "name": "stderr",
     "output_type": "stream",
     "text": [
      "WARNING:tensorflow:Can save best model only with val_loss available, skipping.\n"
     ]
    },
    {
     "name": "stdout",
     "output_type": "stream",
     "text": [
      "34/34 [==============================] - 17s 495ms/step - loss: 0.0109 - semantic_0_loss: 0.0021 - semantic_1_loss: 0.0074 - semantic_2_loss: 0.0014 - lr: 6.3619e-05\n",
      "Epoch 47/200\n",
      "34/34 [==============================] - ETA: 0s - loss: 0.0109 - semantic_0_loss: 0.0021 - semantic_1_loss: 0.0074 - semantic_2_loss: 0.0014WARNING:tensorflow:Can save best model only with val_loss available, skipping.\n"
     ]
    },
    {
     "name": "stderr",
     "output_type": "stream",
     "text": [
      "WARNING:tensorflow:Can save best model only with val_loss available, skipping.\n"
     ]
    },
    {
     "name": "stdout",
     "output_type": "stream",
     "text": [
      "34/34 [==============================] - 17s 489ms/step - loss: 0.0109 - semantic_0_loss: 0.0021 - semantic_1_loss: 0.0074 - semantic_2_loss: 0.0014 - lr: 6.2982e-05\n",
      "Epoch 48/200\n",
      "34/34 [==============================] - ETA: 0s - loss: 0.0108 - semantic_0_loss: 0.0021 - semantic_1_loss: 0.0073 - semantic_2_loss: 0.0014WARNING:tensorflow:Can save best model only with val_loss available, skipping.\n"
     ]
    },
    {
     "name": "stderr",
     "output_type": "stream",
     "text": [
      "WARNING:tensorflow:Can save best model only with val_loss available, skipping.\n"
     ]
    },
    {
     "name": "stdout",
     "output_type": "stream",
     "text": [
      "34/34 [==============================] - 17s 489ms/step - loss: 0.0108 - semantic_0_loss: 0.0021 - semantic_1_loss: 0.0073 - semantic_2_loss: 0.0014 - lr: 6.2353e-05\n",
      "Epoch 49/200\n",
      "34/34 [==============================] - ETA: 0s - loss: 0.0108 - semantic_0_loss: 0.0021 - semantic_1_loss: 0.0073 - semantic_2_loss: 0.0014WARNING:tensorflow:Can save best model only with val_loss available, skipping.\n"
     ]
    },
    {
     "name": "stderr",
     "output_type": "stream",
     "text": [
      "WARNING:tensorflow:Can save best model only with val_loss available, skipping.\n"
     ]
    },
    {
     "name": "stdout",
     "output_type": "stream",
     "text": [
      "34/34 [==============================] - 17s 486ms/step - loss: 0.0108 - semantic_0_loss: 0.0021 - semantic_1_loss: 0.0073 - semantic_2_loss: 0.0014 - lr: 6.1729e-05\n",
      "Epoch 50/200\n",
      "34/34 [==============================] - ETA: 0s - loss: 0.0108 - semantic_0_loss: 0.0021 - semantic_1_loss: 0.0073 - semantic_2_loss: 0.0014WARNING:tensorflow:Can save best model only with val_loss available, skipping.\n"
     ]
    },
    {
     "name": "stderr",
     "output_type": "stream",
     "text": [
      "WARNING:tensorflow:Can save best model only with val_loss available, skipping.\n"
     ]
    },
    {
     "name": "stdout",
     "output_type": "stream",
     "text": [
      "34/34 [==============================] - 17s 488ms/step - loss: 0.0108 - semantic_0_loss: 0.0021 - semantic_1_loss: 0.0073 - semantic_2_loss: 0.0014 - lr: 6.1112e-05\n",
      "Epoch 51/200\n",
      "34/34 [==============================] - ETA: 0s - loss: 0.0108 - semantic_0_loss: 0.0021 - semantic_1_loss: 0.0073 - semantic_2_loss: 0.0014WARNING:tensorflow:Can save best model only with val_loss available, skipping.\n"
     ]
    },
    {
     "name": "stderr",
     "output_type": "stream",
     "text": [
      "WARNING:tensorflow:Can save best model only with val_loss available, skipping.\n"
     ]
    },
    {
     "name": "stdout",
     "output_type": "stream",
     "text": [
      "34/34 [==============================] - 17s 490ms/step - loss: 0.0108 - semantic_0_loss: 0.0021 - semantic_1_loss: 0.0073 - semantic_2_loss: 0.0014 - lr: 6.0501e-05\n",
      "Epoch 52/200\n",
      "34/34 [==============================] - ETA: 0s - loss: 0.0108 - semantic_0_loss: 0.0021 - semantic_1_loss: 0.0073 - semantic_2_loss: 0.0014WARNING:tensorflow:Can save best model only with val_loss available, skipping.\n"
     ]
    },
    {
     "name": "stderr",
     "output_type": "stream",
     "text": [
      "WARNING:tensorflow:Can save best model only with val_loss available, skipping.\n"
     ]
    },
    {
     "name": "stdout",
     "output_type": "stream",
     "text": [
      "34/34 [==============================] - 17s 490ms/step - loss: 0.0108 - semantic_0_loss: 0.0021 - semantic_1_loss: 0.0073 - semantic_2_loss: 0.0014 - lr: 5.9896e-05\n",
      "Epoch 53/200\n",
      "34/34 [==============================] - ETA: 0s - loss: 0.0107 - semantic_0_loss: 0.0021 - semantic_1_loss: 0.0072 - semantic_2_loss: 0.0013WARNING:tensorflow:Can save best model only with val_loss available, skipping.\n"
     ]
    },
    {
     "name": "stderr",
     "output_type": "stream",
     "text": [
      "WARNING:tensorflow:Can save best model only with val_loss available, skipping.\n"
     ]
    },
    {
     "name": "stdout",
     "output_type": "stream",
     "text": [
      "34/34 [==============================] - 17s 498ms/step - loss: 0.0107 - semantic_0_loss: 0.0021 - semantic_1_loss: 0.0072 - semantic_2_loss: 0.0013 - lr: 5.9297e-05\n",
      "Epoch 54/200\n",
      "34/34 [==============================] - ETA: 0s - loss: 0.0108 - semantic_0_loss: 0.0021 - semantic_1_loss: 0.0073 - semantic_2_loss: 0.0014WARNING:tensorflow:Can save best model only with val_loss available, skipping.\n"
     ]
    },
    {
     "name": "stderr",
     "output_type": "stream",
     "text": [
      "WARNING:tensorflow:Can save best model only with val_loss available, skipping.\n"
     ]
    },
    {
     "name": "stdout",
     "output_type": "stream",
     "text": [
      "34/34 [==============================] - 17s 495ms/step - loss: 0.0108 - semantic_0_loss: 0.0021 - semantic_1_loss: 0.0073 - semantic_2_loss: 0.0014 - lr: 5.8704e-05\n",
      "Epoch 55/200\n",
      "34/34 [==============================] - ETA: 0s - loss: 0.0107 - semantic_0_loss: 0.0021 - semantic_1_loss: 0.0072 - semantic_2_loss: 0.0014WARNING:tensorflow:Can save best model only with val_loss available, skipping.\n"
     ]
    },
    {
     "name": "stderr",
     "output_type": "stream",
     "text": [
      "WARNING:tensorflow:Can save best model only with val_loss available, skipping.\n"
     ]
    },
    {
     "name": "stdout",
     "output_type": "stream",
     "text": [
      "34/34 [==============================] - 17s 489ms/step - loss: 0.0107 - semantic_0_loss: 0.0021 - semantic_1_loss: 0.0072 - semantic_2_loss: 0.0014 - lr: 5.8117e-05\n",
      "Epoch 56/200\n",
      "34/34 [==============================] - ETA: 0s - loss: 0.0106 - semantic_0_loss: 0.0021 - semantic_1_loss: 0.0071 - semantic_2_loss: 0.0014WARNING:tensorflow:Can save best model only with val_loss available, skipping.\n"
     ]
    },
    {
     "name": "stderr",
     "output_type": "stream",
     "text": [
      "WARNING:tensorflow:Can save best model only with val_loss available, skipping.\n"
     ]
    },
    {
     "name": "stdout",
     "output_type": "stream",
     "text": [
      "34/34 [==============================] - 17s 493ms/step - loss: 0.0106 - semantic_0_loss: 0.0021 - semantic_1_loss: 0.0071 - semantic_2_loss: 0.0014 - lr: 5.7535e-05\n",
      "Epoch 57/200\n",
      "34/34 [==============================] - ETA: 0s - loss: 0.0105 - semantic_0_loss: 0.0021 - semantic_1_loss: 0.0071 - semantic_2_loss: 0.0013WARNING:tensorflow:Can save best model only with val_loss available, skipping.\n"
     ]
    },
    {
     "name": "stderr",
     "output_type": "stream",
     "text": [
      "WARNING:tensorflow:Can save best model only with val_loss available, skipping.\n"
     ]
    },
    {
     "name": "stdout",
     "output_type": "stream",
     "text": [
      "34/34 [==============================] - 17s 489ms/step - loss: 0.0105 - semantic_0_loss: 0.0021 - semantic_1_loss: 0.0071 - semantic_2_loss: 0.0013 - lr: 5.6960e-05\n",
      "Epoch 58/200\n",
      "34/34 [==============================] - ETA: 0s - loss: 0.0106 - semantic_0_loss: 0.0021 - semantic_1_loss: 0.0071 - semantic_2_loss: 0.0014WARNING:tensorflow:Can save best model only with val_loss available, skipping.\n"
     ]
    },
    {
     "name": "stderr",
     "output_type": "stream",
     "text": [
      "WARNING:tensorflow:Can save best model only with val_loss available, skipping.\n"
     ]
    },
    {
     "name": "stdout",
     "output_type": "stream",
     "text": [
      "34/34 [==============================] - 17s 492ms/step - loss: 0.0106 - semantic_0_loss: 0.0021 - semantic_1_loss: 0.0071 - semantic_2_loss: 0.0014 - lr: 5.6391e-05\n",
      "Epoch 59/200\n",
      "34/34 [==============================] - ETA: 0s - loss: 0.0106 - semantic_0_loss: 0.0021 - semantic_1_loss: 0.0071 - semantic_2_loss: 0.0013WARNING:tensorflow:Can save best model only with val_loss available, skipping.\n"
     ]
    },
    {
     "name": "stderr",
     "output_type": "stream",
     "text": [
      "WARNING:tensorflow:Can save best model only with val_loss available, skipping.\n"
     ]
    },
    {
     "name": "stdout",
     "output_type": "stream",
     "text": [
      "34/34 [==============================] - 17s 483ms/step - loss: 0.0106 - semantic_0_loss: 0.0021 - semantic_1_loss: 0.0071 - semantic_2_loss: 0.0013 - lr: 5.5827e-05\n",
      "Epoch 60/200\n",
      "34/34 [==============================] - ETA: 0s - loss: 0.0104 - semantic_0_loss: 0.0021 - semantic_1_loss: 0.0070 - semantic_2_loss: 0.0013WARNING:tensorflow:Can save best model only with val_loss available, skipping.\n"
     ]
    },
    {
     "name": "stderr",
     "output_type": "stream",
     "text": [
      "WARNING:tensorflow:Can save best model only with val_loss available, skipping.\n"
     ]
    },
    {
     "name": "stdout",
     "output_type": "stream",
     "text": [
      "34/34 [==============================] - 17s 486ms/step - loss: 0.0104 - semantic_0_loss: 0.0021 - semantic_1_loss: 0.0070 - semantic_2_loss: 0.0013 - lr: 5.5268e-05\n",
      "Epoch 61/200\n",
      "34/34 [==============================] - ETA: 0s - loss: 0.0107 - semantic_0_loss: 0.0022 - semantic_1_loss: 0.0072 - semantic_2_loss: 0.0013WARNING:tensorflow:Can save best model only with val_loss available, skipping.\n"
     ]
    },
    {
     "name": "stderr",
     "output_type": "stream",
     "text": [
      "WARNING:tensorflow:Can save best model only with val_loss available, skipping.\n"
     ]
    },
    {
     "name": "stdout",
     "output_type": "stream",
     "text": [
      "34/34 [==============================] - 17s 492ms/step - loss: 0.0107 - semantic_0_loss: 0.0022 - semantic_1_loss: 0.0072 - semantic_2_loss: 0.0013 - lr: 5.4716e-05\n",
      "Epoch 62/200\n",
      "34/34 [==============================] - ETA: 0s - loss: 0.0106 - semantic_0_loss: 0.0021 - semantic_1_loss: 0.0071 - semantic_2_loss: 0.0013WARNING:tensorflow:Can save best model only with val_loss available, skipping.\n"
     ]
    },
    {
     "name": "stderr",
     "output_type": "stream",
     "text": [
      "WARNING:tensorflow:Can save best model only with val_loss available, skipping.\n"
     ]
    },
    {
     "name": "stdout",
     "output_type": "stream",
     "text": [
      "34/34 [==============================] - 17s 489ms/step - loss: 0.0106 - semantic_0_loss: 0.0021 - semantic_1_loss: 0.0071 - semantic_2_loss: 0.0013 - lr: 5.4169e-05\n",
      "Epoch 63/200\n",
      "34/34 [==============================] - ETA: 0s - loss: 0.0103 - semantic_0_loss: 0.0021 - semantic_1_loss: 0.0069 - semantic_2_loss: 0.0013WARNING:tensorflow:Can save best model only with val_loss available, skipping.\n"
     ]
    },
    {
     "name": "stderr",
     "output_type": "stream",
     "text": [
      "WARNING:tensorflow:Can save best model only with val_loss available, skipping.\n"
     ]
    },
    {
     "name": "stdout",
     "output_type": "stream",
     "text": [
      "34/34 [==============================] - 17s 493ms/step - loss: 0.0103 - semantic_0_loss: 0.0021 - semantic_1_loss: 0.0069 - semantic_2_loss: 0.0013 - lr: 5.3627e-05\n",
      "Epoch 64/200\n",
      "34/34 [==============================] - ETA: 0s - loss: 0.0102 - semantic_0_loss: 0.0021 - semantic_1_loss: 0.0068 - semantic_2_loss: 0.0013WARNING:tensorflow:Can save best model only with val_loss available, skipping.\n"
     ]
    },
    {
     "name": "stderr",
     "output_type": "stream",
     "text": [
      "WARNING:tensorflow:Can save best model only with val_loss available, skipping.\n"
     ]
    },
    {
     "name": "stdout",
     "output_type": "stream",
     "text": [
      "34/34 [==============================] - 17s 492ms/step - loss: 0.0102 - semantic_0_loss: 0.0021 - semantic_1_loss: 0.0068 - semantic_2_loss: 0.0013 - lr: 5.3091e-05\n",
      "Epoch 65/200\n",
      "34/34 [==============================] - ETA: 0s - loss: 0.0103 - semantic_0_loss: 0.0021 - semantic_1_loss: 0.0069 - semantic_2_loss: 0.0013WARNING:tensorflow:Can save best model only with val_loss available, skipping.\n"
     ]
    },
    {
     "name": "stderr",
     "output_type": "stream",
     "text": [
      "WARNING:tensorflow:Can save best model only with val_loss available, skipping.\n"
     ]
    },
    {
     "name": "stdout",
     "output_type": "stream",
     "text": [
      "34/34 [==============================] - 17s 479ms/step - loss: 0.0103 - semantic_0_loss: 0.0021 - semantic_1_loss: 0.0069 - semantic_2_loss: 0.0013 - lr: 5.2560e-05\n",
      "Epoch 66/200\n",
      "34/34 [==============================] - ETA: 0s - loss: 0.0103 - semantic_0_loss: 0.0021 - semantic_1_loss: 0.0069 - semantic_2_loss: 0.0013WARNING:tensorflow:Can save best model only with val_loss available, skipping.\n"
     ]
    },
    {
     "name": "stderr",
     "output_type": "stream",
     "text": [
      "WARNING:tensorflow:Can save best model only with val_loss available, skipping.\n"
     ]
    },
    {
     "name": "stdout",
     "output_type": "stream",
     "text": [
      "34/34 [==============================] - 17s 486ms/step - loss: 0.0103 - semantic_0_loss: 0.0021 - semantic_1_loss: 0.0069 - semantic_2_loss: 0.0013 - lr: 5.2034e-05\n",
      "Epoch 67/200\n",
      "34/34 [==============================] - ETA: 0s - loss: 0.0104 - semantic_0_loss: 0.0021 - semantic_1_loss: 0.0070 - semantic_2_loss: 0.0013WARNING:tensorflow:Can save best model only with val_loss available, skipping.\n"
     ]
    },
    {
     "name": "stderr",
     "output_type": "stream",
     "text": [
      "WARNING:tensorflow:Can save best model only with val_loss available, skipping.\n"
     ]
    },
    {
     "name": "stdout",
     "output_type": "stream",
     "text": [
      "34/34 [==============================] - 17s 489ms/step - loss: 0.0104 - semantic_0_loss: 0.0021 - semantic_1_loss: 0.0070 - semantic_2_loss: 0.0013 - lr: 5.1514e-05\n",
      "Epoch 68/200\n",
      "34/34 [==============================] - ETA: 0s - loss: 0.0102 - semantic_0_loss: 0.0021 - semantic_1_loss: 0.0068 - semantic_2_loss: 0.0013WARNING:tensorflow:Can save best model only with val_loss available, skipping.\n"
     ]
    },
    {
     "name": "stderr",
     "output_type": "stream",
     "text": [
      "WARNING:tensorflow:Can save best model only with val_loss available, skipping.\n"
     ]
    },
    {
     "name": "stdout",
     "output_type": "stream",
     "text": [
      "34/34 [==============================] - 17s 499ms/step - loss: 0.0102 - semantic_0_loss: 0.0021 - semantic_1_loss: 0.0068 - semantic_2_loss: 0.0013 - lr: 5.0999e-05\n",
      "Epoch 69/200\n",
      "34/34 [==============================] - ETA: 0s - loss: 0.0102 - semantic_0_loss: 0.0021 - semantic_1_loss: 0.0068 - semantic_2_loss: 0.0013WARNING:tensorflow:Can save best model only with val_loss available, skipping.\n"
     ]
    },
    {
     "name": "stderr",
     "output_type": "stream",
     "text": [
      "WARNING:tensorflow:Can save best model only with val_loss available, skipping.\n"
     ]
    },
    {
     "name": "stdout",
     "output_type": "stream",
     "text": [
      "34/34 [==============================] - 17s 497ms/step - loss: 0.0102 - semantic_0_loss: 0.0021 - semantic_1_loss: 0.0068 - semantic_2_loss: 0.0013 - lr: 5.0489e-05\n",
      "Epoch 70/200\n",
      "34/34 [==============================] - ETA: 0s - loss: 0.0101 - semantic_0_loss: 0.0021 - semantic_1_loss: 0.0068 - semantic_2_loss: 0.0013WARNING:tensorflow:Can save best model only with val_loss available, skipping.\n"
     ]
    },
    {
     "name": "stderr",
     "output_type": "stream",
     "text": [
      "WARNING:tensorflow:Can save best model only with val_loss available, skipping.\n"
     ]
    },
    {
     "name": "stdout",
     "output_type": "stream",
     "text": [
      "34/34 [==============================] - 17s 487ms/step - loss: 0.0101 - semantic_0_loss: 0.0021 - semantic_1_loss: 0.0068 - semantic_2_loss: 0.0013 - lr: 4.9984e-05\n",
      "Epoch 71/200\n",
      "34/34 [==============================] - ETA: 0s - loss: 0.0101 - semantic_0_loss: 0.0020 - semantic_1_loss: 0.0068 - semantic_2_loss: 0.0013WARNING:tensorflow:Can save best model only with val_loss available, skipping.\n"
     ]
    },
    {
     "name": "stderr",
     "output_type": "stream",
     "text": [
      "WARNING:tensorflow:Can save best model only with val_loss available, skipping.\n"
     ]
    },
    {
     "name": "stdout",
     "output_type": "stream",
     "text": [
      "34/34 [==============================] - 17s 489ms/step - loss: 0.0101 - semantic_0_loss: 0.0020 - semantic_1_loss: 0.0068 - semantic_2_loss: 0.0013 - lr: 4.9484e-05\n",
      "Epoch 72/200\n",
      "34/34 [==============================] - ETA: 0s - loss: 0.0102 - semantic_0_loss: 0.0021 - semantic_1_loss: 0.0068 - semantic_2_loss: 0.0013WARNING:tensorflow:Can save best model only with val_loss available, skipping.\n"
     ]
    },
    {
     "name": "stderr",
     "output_type": "stream",
     "text": [
      "WARNING:tensorflow:Can save best model only with val_loss available, skipping.\n"
     ]
    },
    {
     "name": "stdout",
     "output_type": "stream",
     "text": [
      "34/34 [==============================] - 17s 499ms/step - loss: 0.0102 - semantic_0_loss: 0.0021 - semantic_1_loss: 0.0068 - semantic_2_loss: 0.0013 - lr: 4.8989e-05\n",
      "Epoch 73/200\n",
      "34/34 [==============================] - ETA: 0s - loss: 0.0102 - semantic_0_loss: 0.0021 - semantic_1_loss: 0.0068 - semantic_2_loss: 0.0013WARNING:tensorflow:Can save best model only with val_loss available, skipping.\n"
     ]
    },
    {
     "name": "stderr",
     "output_type": "stream",
     "text": [
      "WARNING:tensorflow:Can save best model only with val_loss available, skipping.\n"
     ]
    },
    {
     "name": "stdout",
     "output_type": "stream",
     "text": [
      "34/34 [==============================] - 17s 499ms/step - loss: 0.0102 - semantic_0_loss: 0.0021 - semantic_1_loss: 0.0068 - semantic_2_loss: 0.0013 - lr: 4.8499e-05\n",
      "Epoch 74/200\n",
      "34/34 [==============================] - ETA: 0s - loss: 0.0100 - semantic_0_loss: 0.0020 - semantic_1_loss: 0.0066 - semantic_2_loss: 0.0013WARNING:tensorflow:Can save best model only with val_loss available, skipping.\n"
     ]
    },
    {
     "name": "stderr",
     "output_type": "stream",
     "text": [
      "WARNING:tensorflow:Can save best model only with val_loss available, skipping.\n"
     ]
    },
    {
     "name": "stdout",
     "output_type": "stream",
     "text": [
      "34/34 [==============================] - 17s 496ms/step - loss: 0.0100 - semantic_0_loss: 0.0020 - semantic_1_loss: 0.0066 - semantic_2_loss: 0.0013 - lr: 4.8014e-05\n",
      "Epoch 75/200\n",
      "34/34 [==============================] - ETA: 0s - loss: 0.0099 - semantic_0_loss: 0.0020 - semantic_1_loss: 0.0066 - semantic_2_loss: 0.0013WARNING:tensorflow:Can save best model only with val_loss available, skipping.\n"
     ]
    },
    {
     "name": "stderr",
     "output_type": "stream",
     "text": [
      "WARNING:tensorflow:Can save best model only with val_loss available, skipping.\n"
     ]
    },
    {
     "name": "stdout",
     "output_type": "stream",
     "text": [
      "34/34 [==============================] - 17s 490ms/step - loss: 0.0099 - semantic_0_loss: 0.0020 - semantic_1_loss: 0.0066 - semantic_2_loss: 0.0013 - lr: 4.7534e-05\n",
      "Epoch 76/200\n",
      "34/34 [==============================] - ETA: 0s - loss: 0.0099 - semantic_0_loss: 0.0020 - semantic_1_loss: 0.0066 - semantic_2_loss: 0.0013WARNING:tensorflow:Can save best model only with val_loss available, skipping.\n"
     ]
    },
    {
     "name": "stderr",
     "output_type": "stream",
     "text": [
      "WARNING:tensorflow:Can save best model only with val_loss available, skipping.\n"
     ]
    },
    {
     "name": "stdout",
     "output_type": "stream",
     "text": [
      "34/34 [==============================] - 17s 489ms/step - loss: 0.0099 - semantic_0_loss: 0.0020 - semantic_1_loss: 0.0066 - semantic_2_loss: 0.0013 - lr: 4.7059e-05\n",
      "Epoch 77/200\n",
      "34/34 [==============================] - ETA: 0s - loss: 0.0099 - semantic_0_loss: 0.0020 - semantic_1_loss: 0.0066 - semantic_2_loss: 0.0013WARNING:tensorflow:Can save best model only with val_loss available, skipping.\n"
     ]
    },
    {
     "name": "stderr",
     "output_type": "stream",
     "text": [
      "WARNING:tensorflow:Can save best model only with val_loss available, skipping.\n"
     ]
    },
    {
     "name": "stdout",
     "output_type": "stream",
     "text": [
      "34/34 [==============================] - 17s 484ms/step - loss: 0.0099 - semantic_0_loss: 0.0020 - semantic_1_loss: 0.0066 - semantic_2_loss: 0.0013 - lr: 4.6588e-05\n",
      "Epoch 78/200\n",
      "34/34 [==============================] - ETA: 0s - loss: 0.0100 - semantic_0_loss: 0.0021 - semantic_1_loss: 0.0067 - semantic_2_loss: 0.0013WARNING:tensorflow:Can save best model only with val_loss available, skipping.\n"
     ]
    },
    {
     "name": "stderr",
     "output_type": "stream",
     "text": [
      "WARNING:tensorflow:Can save best model only with val_loss available, skipping.\n"
     ]
    },
    {
     "name": "stdout",
     "output_type": "stream",
     "text": [
      "34/34 [==============================] - 17s 483ms/step - loss: 0.0100 - semantic_0_loss: 0.0021 - semantic_1_loss: 0.0067 - semantic_2_loss: 0.0013 - lr: 4.6122e-05\n",
      "Epoch 79/200\n",
      "34/34 [==============================] - ETA: 0s - loss: 0.0100 - semantic_0_loss: 0.0021 - semantic_1_loss: 0.0067 - semantic_2_loss: 0.0013WARNING:tensorflow:Can save best model only with val_loss available, skipping.\n"
     ]
    },
    {
     "name": "stderr",
     "output_type": "stream",
     "text": [
      "WARNING:tensorflow:Can save best model only with val_loss available, skipping.\n"
     ]
    },
    {
     "name": "stdout",
     "output_type": "stream",
     "text": [
      "34/34 [==============================] - 17s 498ms/step - loss: 0.0100 - semantic_0_loss: 0.0021 - semantic_1_loss: 0.0067 - semantic_2_loss: 0.0013 - lr: 4.5661e-05\n",
      "Epoch 80/200\n",
      "34/34 [==============================] - ETA: 0s - loss: 0.0099 - semantic_0_loss: 0.0020 - semantic_1_loss: 0.0066 - semantic_2_loss: 0.0013WARNING:tensorflow:Can save best model only with val_loss available, skipping.\n"
     ]
    },
    {
     "name": "stderr",
     "output_type": "stream",
     "text": [
      "WARNING:tensorflow:Can save best model only with val_loss available, skipping.\n"
     ]
    },
    {
     "name": "stdout",
     "output_type": "stream",
     "text": [
      "34/34 [==============================] - 17s 490ms/step - loss: 0.0099 - semantic_0_loss: 0.0020 - semantic_1_loss: 0.0066 - semantic_2_loss: 0.0013 - lr: 4.5204e-05\n",
      "Epoch 81/200\n",
      "34/34 [==============================] - ETA: 0s - loss: 0.0098 - semantic_0_loss: 0.0020 - semantic_1_loss: 0.0065 - semantic_2_loss: 0.0013WARNING:tensorflow:Can save best model only with val_loss available, skipping.\n"
     ]
    },
    {
     "name": "stderr",
     "output_type": "stream",
     "text": [
      "WARNING:tensorflow:Can save best model only with val_loss available, skipping.\n"
     ]
    },
    {
     "name": "stdout",
     "output_type": "stream",
     "text": [
      "34/34 [==============================] - 17s 497ms/step - loss: 0.0098 - semantic_0_loss: 0.0020 - semantic_1_loss: 0.0065 - semantic_2_loss: 0.0013 - lr: 4.4752e-05\n",
      "Epoch 82/200\n",
      "34/34 [==============================] - ETA: 0s - loss: 0.0099 - semantic_0_loss: 0.0020 - semantic_1_loss: 0.0066 - semantic_2_loss: 0.0013WARNING:tensorflow:Can save best model only with val_loss available, skipping.\n"
     ]
    },
    {
     "name": "stderr",
     "output_type": "stream",
     "text": [
      "WARNING:tensorflow:Can save best model only with val_loss available, skipping.\n"
     ]
    },
    {
     "name": "stdout",
     "output_type": "stream",
     "text": [
      "34/34 [==============================] - 17s 494ms/step - loss: 0.0099 - semantic_0_loss: 0.0020 - semantic_1_loss: 0.0066 - semantic_2_loss: 0.0013 - lr: 4.4305e-05\n",
      "Epoch 83/200\n",
      "34/34 [==============================] - ETA: 0s - loss: 0.0098 - semantic_0_loss: 0.0020 - semantic_1_loss: 0.0065 - semantic_2_loss: 0.0013WARNING:tensorflow:Can save best model only with val_loss available, skipping.\n"
     ]
    },
    {
     "name": "stderr",
     "output_type": "stream",
     "text": [
      "WARNING:tensorflow:Can save best model only with val_loss available, skipping.\n"
     ]
    },
    {
     "name": "stdout",
     "output_type": "stream",
     "text": [
      "34/34 [==============================] - 17s 488ms/step - loss: 0.0098 - semantic_0_loss: 0.0020 - semantic_1_loss: 0.0065 - semantic_2_loss: 0.0013 - lr: 4.3862e-05\n",
      "Epoch 84/200\n",
      "34/34 [==============================] - ETA: 0s - loss: 0.0098 - semantic_0_loss: 0.0020 - semantic_1_loss: 0.0065 - semantic_2_loss: 0.0013WARNING:tensorflow:Can save best model only with val_loss available, skipping.\n"
     ]
    },
    {
     "name": "stderr",
     "output_type": "stream",
     "text": [
      "WARNING:tensorflow:Can save best model only with val_loss available, skipping.\n"
     ]
    },
    {
     "name": "stdout",
     "output_type": "stream",
     "text": [
      "34/34 [==============================] - 17s 494ms/step - loss: 0.0098 - semantic_0_loss: 0.0020 - semantic_1_loss: 0.0065 - semantic_2_loss: 0.0013 - lr: 4.3423e-05\n",
      "Epoch 85/200\n",
      "34/34 [==============================] - ETA: 0s - loss: 0.0098 - semantic_0_loss: 0.0020 - semantic_1_loss: 0.0065 - semantic_2_loss: 0.0013WARNING:tensorflow:Can save best model only with val_loss available, skipping.\n"
     ]
    },
    {
     "name": "stderr",
     "output_type": "stream",
     "text": [
      "WARNING:tensorflow:Can save best model only with val_loss available, skipping.\n"
     ]
    },
    {
     "name": "stdout",
     "output_type": "stream",
     "text": [
      "34/34 [==============================] - 17s 488ms/step - loss: 0.0098 - semantic_0_loss: 0.0020 - semantic_1_loss: 0.0065 - semantic_2_loss: 0.0013 - lr: 4.2989e-05\n",
      "Epoch 86/200\n",
      "34/34 [==============================] - ETA: 0s - loss: 0.0098 - semantic_0_loss: 0.0020 - semantic_1_loss: 0.0065 - semantic_2_loss: 0.0013WARNING:tensorflow:Can save best model only with val_loss available, skipping.\n"
     ]
    },
    {
     "name": "stderr",
     "output_type": "stream",
     "text": [
      "WARNING:tensorflow:Can save best model only with val_loss available, skipping.\n"
     ]
    },
    {
     "name": "stdout",
     "output_type": "stream",
     "text": [
      "34/34 [==============================] - 17s 492ms/step - loss: 0.0098 - semantic_0_loss: 0.0020 - semantic_1_loss: 0.0065 - semantic_2_loss: 0.0013 - lr: 4.2559e-05\n",
      "Epoch 87/200\n",
      "34/34 [==============================] - ETA: 0s - loss: 0.0096 - semantic_0_loss: 0.0020 - semantic_1_loss: 0.0064 - semantic_2_loss: 0.0013WARNING:tensorflow:Can save best model only with val_loss available, skipping.\n"
     ]
    },
    {
     "name": "stderr",
     "output_type": "stream",
     "text": [
      "WARNING:tensorflow:Can save best model only with val_loss available, skipping.\n"
     ]
    },
    {
     "name": "stdout",
     "output_type": "stream",
     "text": [
      "34/34 [==============================] - 17s 493ms/step - loss: 0.0096 - semantic_0_loss: 0.0020 - semantic_1_loss: 0.0064 - semantic_2_loss: 0.0013 - lr: 4.2133e-05\n",
      "Epoch 88/200\n",
      "34/34 [==============================] - ETA: 0s - loss: 0.0098 - semantic_0_loss: 0.0020 - semantic_1_loss: 0.0065 - semantic_2_loss: 0.0013WARNING:tensorflow:Can save best model only with val_loss available, skipping.\n"
     ]
    },
    {
     "name": "stderr",
     "output_type": "stream",
     "text": [
      "WARNING:tensorflow:Can save best model only with val_loss available, skipping.\n"
     ]
    },
    {
     "name": "stdout",
     "output_type": "stream",
     "text": [
      "34/34 [==============================] - 17s 495ms/step - loss: 0.0098 - semantic_0_loss: 0.0020 - semantic_1_loss: 0.0065 - semantic_2_loss: 0.0013 - lr: 4.1712e-05\n",
      "Epoch 89/200\n",
      "34/34 [==============================] - ETA: 0s - loss: 0.0099 - semantic_0_loss: 0.0020 - semantic_1_loss: 0.0065 - semantic_2_loss: 0.0013WARNING:tensorflow:Can save best model only with val_loss available, skipping.\n"
     ]
    },
    {
     "name": "stderr",
     "output_type": "stream",
     "text": [
      "WARNING:tensorflow:Can save best model only with val_loss available, skipping.\n"
     ]
    },
    {
     "name": "stdout",
     "output_type": "stream",
     "text": [
      "34/34 [==============================] - 17s 489ms/step - loss: 0.0099 - semantic_0_loss: 0.0020 - semantic_1_loss: 0.0065 - semantic_2_loss: 0.0013 - lr: 4.1295e-05\n",
      "Epoch 90/200\n",
      "34/34 [==============================] - ETA: 0s - loss: 0.0097 - semantic_0_loss: 0.0020 - semantic_1_loss: 0.0065 - semantic_2_loss: 0.0013WARNING:tensorflow:Can save best model only with val_loss available, skipping.\n"
     ]
    },
    {
     "name": "stderr",
     "output_type": "stream",
     "text": [
      "WARNING:tensorflow:Can save best model only with val_loss available, skipping.\n"
     ]
    },
    {
     "name": "stdout",
     "output_type": "stream",
     "text": [
      "34/34 [==============================] - 17s 493ms/step - loss: 0.0097 - semantic_0_loss: 0.0020 - semantic_1_loss: 0.0065 - semantic_2_loss: 0.0013 - lr: 4.0882e-05\n",
      "Epoch 91/200\n",
      "34/34 [==============================] - ETA: 0s - loss: 0.0097 - semantic_0_loss: 0.0020 - semantic_1_loss: 0.0064 - semantic_2_loss: 0.0013WARNING:tensorflow:Can save best model only with val_loss available, skipping.\n"
     ]
    },
    {
     "name": "stderr",
     "output_type": "stream",
     "text": [
      "WARNING:tensorflow:Can save best model only with val_loss available, skipping.\n"
     ]
    },
    {
     "name": "stdout",
     "output_type": "stream",
     "text": [
      "34/34 [==============================] - 17s 495ms/step - loss: 0.0097 - semantic_0_loss: 0.0020 - semantic_1_loss: 0.0064 - semantic_2_loss: 0.0013 - lr: 4.0473e-05\n",
      "Epoch 92/200\n",
      "34/34 [==============================] - ETA: 0s - loss: 0.0096 - semantic_0_loss: 0.0020 - semantic_1_loss: 0.0063 - semantic_2_loss: 0.0013WARNING:tensorflow:Can save best model only with val_loss available, skipping.\n"
     ]
    },
    {
     "name": "stderr",
     "output_type": "stream",
     "text": [
      "WARNING:tensorflow:Can save best model only with val_loss available, skipping.\n"
     ]
    },
    {
     "name": "stdout",
     "output_type": "stream",
     "text": [
      "34/34 [==============================] - 17s 486ms/step - loss: 0.0096 - semantic_0_loss: 0.0020 - semantic_1_loss: 0.0063 - semantic_2_loss: 0.0013 - lr: 4.0068e-05\n",
      "Epoch 93/200\n",
      "34/34 [==============================] - ETA: 0s - loss: 0.0097 - semantic_0_loss: 0.0020 - semantic_1_loss: 0.0065 - semantic_2_loss: 0.0013WARNING:tensorflow:Can save best model only with val_loss available, skipping.\n"
     ]
    },
    {
     "name": "stderr",
     "output_type": "stream",
     "text": [
      "WARNING:tensorflow:Can save best model only with val_loss available, skipping.\n"
     ]
    },
    {
     "name": "stdout",
     "output_type": "stream",
     "text": [
      "34/34 [==============================] - 17s 485ms/step - loss: 0.0097 - semantic_0_loss: 0.0020 - semantic_1_loss: 0.0065 - semantic_2_loss: 0.0013 - lr: 3.9668e-05\n",
      "Epoch 94/200\n",
      "34/34 [==============================] - ETA: 0s - loss: 0.0097 - semantic_0_loss: 0.0020 - semantic_1_loss: 0.0064 - semantic_2_loss: 0.0013WARNING:tensorflow:Can save best model only with val_loss available, skipping.\n"
     ]
    },
    {
     "name": "stderr",
     "output_type": "stream",
     "text": [
      "WARNING:tensorflow:Can save best model only with val_loss available, skipping.\n"
     ]
    },
    {
     "name": "stdout",
     "output_type": "stream",
     "text": [
      "34/34 [==============================] - 17s 487ms/step - loss: 0.0097 - semantic_0_loss: 0.0020 - semantic_1_loss: 0.0064 - semantic_2_loss: 0.0013 - lr: 3.9271e-05\n",
      "Epoch 95/200\n",
      "34/34 [==============================] - ETA: 0s - loss: 0.0094 - semantic_0_loss: 0.0020 - semantic_1_loss: 0.0062 - semantic_2_loss: 0.0012WARNING:tensorflow:Can save best model only with val_loss available, skipping.\n"
     ]
    },
    {
     "name": "stderr",
     "output_type": "stream",
     "text": [
      "WARNING:tensorflow:Can save best model only with val_loss available, skipping.\n"
     ]
    },
    {
     "name": "stdout",
     "output_type": "stream",
     "text": [
      "34/34 [==============================] - 17s 487ms/step - loss: 0.0094 - semantic_0_loss: 0.0020 - semantic_1_loss: 0.0062 - semantic_2_loss: 0.0012 - lr: 3.8878e-05\n",
      "Epoch 96/200\n",
      "34/34 [==============================] - ETA: 0s - loss: 0.0096 - semantic_0_loss: 0.0020 - semantic_1_loss: 0.0064 - semantic_2_loss: 0.0013WARNING:tensorflow:Can save best model only with val_loss available, skipping.\n"
     ]
    },
    {
     "name": "stderr",
     "output_type": "stream",
     "text": [
      "WARNING:tensorflow:Can save best model only with val_loss available, skipping.\n"
     ]
    },
    {
     "name": "stdout",
     "output_type": "stream",
     "text": [
      "34/34 [==============================] - 17s 491ms/step - loss: 0.0096 - semantic_0_loss: 0.0020 - semantic_1_loss: 0.0064 - semantic_2_loss: 0.0013 - lr: 3.8490e-05\n",
      "Epoch 97/200\n",
      "34/34 [==============================] - ETA: 0s - loss: 0.0096 - semantic_0_loss: 0.0020 - semantic_1_loss: 0.0064 - semantic_2_loss: 0.0013WARNING:tensorflow:Can save best model only with val_loss available, skipping.\n"
     ]
    },
    {
     "name": "stderr",
     "output_type": "stream",
     "text": [
      "WARNING:tensorflow:Can save best model only with val_loss available, skipping.\n"
     ]
    },
    {
     "name": "stdout",
     "output_type": "stream",
     "text": [
      "34/34 [==============================] - 17s 490ms/step - loss: 0.0096 - semantic_0_loss: 0.0020 - semantic_1_loss: 0.0064 - semantic_2_loss: 0.0013 - lr: 3.8105e-05\n",
      "Epoch 98/200\n",
      "34/34 [==============================] - ETA: 0s - loss: 0.0096 - semantic_0_loss: 0.0020 - semantic_1_loss: 0.0064 - semantic_2_loss: 0.0013WARNING:tensorflow:Can save best model only with val_loss available, skipping.\n"
     ]
    },
    {
     "name": "stderr",
     "output_type": "stream",
     "text": [
      "WARNING:tensorflow:Can save best model only with val_loss available, skipping.\n"
     ]
    },
    {
     "name": "stdout",
     "output_type": "stream",
     "text": [
      "34/34 [==============================] - 17s 492ms/step - loss: 0.0096 - semantic_0_loss: 0.0020 - semantic_1_loss: 0.0064 - semantic_2_loss: 0.0013 - lr: 3.7724e-05\n",
      "Epoch 99/200\n",
      "34/34 [==============================] - ETA: 0s - loss: 0.0093 - semantic_0_loss: 0.0020 - semantic_1_loss: 0.0061 - semantic_2_loss: 0.0012WARNING:tensorflow:Can save best model only with val_loss available, skipping.\n"
     ]
    },
    {
     "name": "stderr",
     "output_type": "stream",
     "text": [
      "WARNING:tensorflow:Can save best model only with val_loss available, skipping.\n"
     ]
    },
    {
     "name": "stdout",
     "output_type": "stream",
     "text": [
      "34/34 [==============================] - 17s 490ms/step - loss: 0.0093 - semantic_0_loss: 0.0020 - semantic_1_loss: 0.0061 - semantic_2_loss: 0.0012 - lr: 3.7346e-05\n",
      "Epoch 100/200\n",
      "34/34 [==============================] - ETA: 0s - loss: 0.0096 - semantic_0_loss: 0.0020 - semantic_1_loss: 0.0063 - semantic_2_loss: 0.0012WARNING:tensorflow:Can save best model only with val_loss available, skipping.\n"
     ]
    },
    {
     "name": "stderr",
     "output_type": "stream",
     "text": [
      "WARNING:tensorflow:Can save best model only with val_loss available, skipping.\n"
     ]
    },
    {
     "name": "stdout",
     "output_type": "stream",
     "text": [
      "34/34 [==============================] - 17s 494ms/step - loss: 0.0096 - semantic_0_loss: 0.0020 - semantic_1_loss: 0.0063 - semantic_2_loss: 0.0012 - lr: 3.6973e-05\n",
      "Epoch 101/200\n",
      "34/34 [==============================] - ETA: 0s - loss: 0.0095 - semantic_0_loss: 0.0020 - semantic_1_loss: 0.0062 - semantic_2_loss: 0.0012WARNING:tensorflow:Can save best model only with val_loss available, skipping.\n"
     ]
    },
    {
     "name": "stderr",
     "output_type": "stream",
     "text": [
      "WARNING:tensorflow:Can save best model only with val_loss available, skipping.\n"
     ]
    },
    {
     "name": "stdout",
     "output_type": "stream",
     "text": [
      "34/34 [==============================] - 17s 484ms/step - loss: 0.0095 - semantic_0_loss: 0.0020 - semantic_1_loss: 0.0062 - semantic_2_loss: 0.0012 - lr: 3.6603e-05\n",
      "Epoch 102/200\n",
      "34/34 [==============================] - ETA: 0s - loss: 0.0094 - semantic_0_loss: 0.0020 - semantic_1_loss: 0.0062 - semantic_2_loss: 0.0012WARNING:tensorflow:Can save best model only with val_loss available, skipping.\n"
     ]
    },
    {
     "name": "stderr",
     "output_type": "stream",
     "text": [
      "WARNING:tensorflow:Can save best model only with val_loss available, skipping.\n"
     ]
    },
    {
     "name": "stdout",
     "output_type": "stream",
     "text": [
      "34/34 [==============================] - 17s 491ms/step - loss: 0.0094 - semantic_0_loss: 0.0020 - semantic_1_loss: 0.0062 - semantic_2_loss: 0.0012 - lr: 3.6237e-05\n",
      "Epoch 103/200\n",
      "34/34 [==============================] - ETA: 0s - loss: 0.0094 - semantic_0_loss: 0.0020 - semantic_1_loss: 0.0062 - semantic_2_loss: 0.0012WARNING:tensorflow:Can save best model only with val_loss available, skipping.\n"
     ]
    },
    {
     "name": "stderr",
     "output_type": "stream",
     "text": [
      "WARNING:tensorflow:Can save best model only with val_loss available, skipping.\n"
     ]
    },
    {
     "name": "stdout",
     "output_type": "stream",
     "text": [
      "34/34 [==============================] - 17s 492ms/step - loss: 0.0094 - semantic_0_loss: 0.0020 - semantic_1_loss: 0.0062 - semantic_2_loss: 0.0012 - lr: 3.5875e-05\n",
      "Epoch 104/200\n",
      "34/34 [==============================] - ETA: 0s - loss: 0.0095 - semantic_0_loss: 0.0020 - semantic_1_loss: 0.0062 - semantic_2_loss: 0.0012WARNING:tensorflow:Can save best model only with val_loss available, skipping.\n"
     ]
    },
    {
     "name": "stderr",
     "output_type": "stream",
     "text": [
      "WARNING:tensorflow:Can save best model only with val_loss available, skipping.\n"
     ]
    },
    {
     "name": "stdout",
     "output_type": "stream",
     "text": [
      "34/34 [==============================] - 17s 493ms/step - loss: 0.0095 - semantic_0_loss: 0.0020 - semantic_1_loss: 0.0062 - semantic_2_loss: 0.0012 - lr: 3.5516e-05\n",
      "Epoch 105/200\n",
      "34/34 [==============================] - ETA: 0s - loss: 0.0093 - semantic_0_loss: 0.0019 - semantic_1_loss: 0.0062 - semantic_2_loss: 0.0012WARNING:tensorflow:Can save best model only with val_loss available, skipping.\n"
     ]
    },
    {
     "name": "stderr",
     "output_type": "stream",
     "text": [
      "WARNING:tensorflow:Can save best model only with val_loss available, skipping.\n"
     ]
    },
    {
     "name": "stdout",
     "output_type": "stream",
     "text": [
      "34/34 [==============================] - 17s 489ms/step - loss: 0.0093 - semantic_0_loss: 0.0019 - semantic_1_loss: 0.0062 - semantic_2_loss: 0.0012 - lr: 3.5161e-05\n",
      "Epoch 106/200\n",
      "34/34 [==============================] - ETA: 0s - loss: 0.0094 - semantic_0_loss: 0.0020 - semantic_1_loss: 0.0061 - semantic_2_loss: 0.0012WARNING:tensorflow:Can save best model only with val_loss available, skipping.\n"
     ]
    },
    {
     "name": "stderr",
     "output_type": "stream",
     "text": [
      "WARNING:tensorflow:Can save best model only with val_loss available, skipping.\n"
     ]
    },
    {
     "name": "stdout",
     "output_type": "stream",
     "text": [
      "34/34 [==============================] - 17s 495ms/step - loss: 0.0094 - semantic_0_loss: 0.0020 - semantic_1_loss: 0.0061 - semantic_2_loss: 0.0012 - lr: 3.4809e-05\n",
      "Epoch 107/200\n",
      "34/34 [==============================] - ETA: 0s - loss: 0.0093 - semantic_0_loss: 0.0020 - semantic_1_loss: 0.0061 - semantic_2_loss: 0.0012WARNING:tensorflow:Can save best model only with val_loss available, skipping.\n"
     ]
    },
    {
     "name": "stderr",
     "output_type": "stream",
     "text": [
      "WARNING:tensorflow:Can save best model only with val_loss available, skipping.\n"
     ]
    },
    {
     "name": "stdout",
     "output_type": "stream",
     "text": [
      "34/34 [==============================] - 17s 487ms/step - loss: 0.0093 - semantic_0_loss: 0.0020 - semantic_1_loss: 0.0061 - semantic_2_loss: 0.0012 - lr: 3.4461e-05\n",
      "Epoch 108/200\n",
      "34/34 [==============================] - ETA: 0s - loss: 0.0093 - semantic_0_loss: 0.0020 - semantic_1_loss: 0.0061 - semantic_2_loss: 0.0012WARNING:tensorflow:Can save best model only with val_loss available, skipping.\n"
     ]
    },
    {
     "name": "stderr",
     "output_type": "stream",
     "text": [
      "WARNING:tensorflow:Can save best model only with val_loss available, skipping.\n"
     ]
    },
    {
     "name": "stdout",
     "output_type": "stream",
     "text": [
      "34/34 [==============================] - 17s 490ms/step - loss: 0.0093 - semantic_0_loss: 0.0020 - semantic_1_loss: 0.0061 - semantic_2_loss: 0.0012 - lr: 3.4117e-05\n",
      "Epoch 109/200\n",
      "34/34 [==============================] - ETA: 0s - loss: 0.0095 - semantic_0_loss: 0.0020 - semantic_1_loss: 0.0062 - semantic_2_loss: 0.0012WARNING:tensorflow:Can save best model only with val_loss available, skipping.\n"
     ]
    },
    {
     "name": "stderr",
     "output_type": "stream",
     "text": [
      "WARNING:tensorflow:Can save best model only with val_loss available, skipping.\n"
     ]
    },
    {
     "name": "stdout",
     "output_type": "stream",
     "text": [
      "34/34 [==============================] - 17s 491ms/step - loss: 0.0095 - semantic_0_loss: 0.0020 - semantic_1_loss: 0.0062 - semantic_2_loss: 0.0012 - lr: 3.3775e-05\n",
      "Epoch 110/200\n",
      "34/34 [==============================] - ETA: 0s - loss: 0.0093 - semantic_0_loss: 0.0020 - semantic_1_loss: 0.0061 - semantic_2_loss: 0.0012WARNING:tensorflow:Can save best model only with val_loss available, skipping.\n"
     ]
    },
    {
     "name": "stderr",
     "output_type": "stream",
     "text": [
      "WARNING:tensorflow:Can save best model only with val_loss available, skipping.\n"
     ]
    },
    {
     "name": "stdout",
     "output_type": "stream",
     "text": [
      "34/34 [==============================] - 17s 490ms/step - loss: 0.0093 - semantic_0_loss: 0.0020 - semantic_1_loss: 0.0061 - semantic_2_loss: 0.0012 - lr: 3.3438e-05\n",
      "Epoch 111/200\n",
      "34/34 [==============================] - ETA: 0s - loss: 0.0093 - semantic_0_loss: 0.0020 - semantic_1_loss: 0.0061 - semantic_2_loss: 0.0012WARNING:tensorflow:Can save best model only with val_loss available, skipping.\n"
     ]
    },
    {
     "name": "stderr",
     "output_type": "stream",
     "text": [
      "WARNING:tensorflow:Can save best model only with val_loss available, skipping.\n"
     ]
    },
    {
     "name": "stdout",
     "output_type": "stream",
     "text": [
      "34/34 [==============================] - 17s 494ms/step - loss: 0.0093 - semantic_0_loss: 0.0020 - semantic_1_loss: 0.0061 - semantic_2_loss: 0.0012 - lr: 3.3103e-05\n",
      "Epoch 112/200\n",
      "34/34 [==============================] - ETA: 0s - loss: 0.0092 - semantic_0_loss: 0.0020 - semantic_1_loss: 0.0060 - semantic_2_loss: 0.0012WARNING:tensorflow:Can save best model only with val_loss available, skipping.\n"
     ]
    },
    {
     "name": "stderr",
     "output_type": "stream",
     "text": [
      "WARNING:tensorflow:Can save best model only with val_loss available, skipping.\n"
     ]
    },
    {
     "name": "stdout",
     "output_type": "stream",
     "text": [
      "34/34 [==============================] - 17s 498ms/step - loss: 0.0092 - semantic_0_loss: 0.0020 - semantic_1_loss: 0.0060 - semantic_2_loss: 0.0012 - lr: 3.2772e-05\n",
      "Epoch 113/200\n",
      "34/34 [==============================] - ETA: 0s - loss: 0.0093 - semantic_0_loss: 0.0020 - semantic_1_loss: 0.0061 - semantic_2_loss: 0.0012WARNING:tensorflow:Can save best model only with val_loss available, skipping.\n"
     ]
    },
    {
     "name": "stderr",
     "output_type": "stream",
     "text": [
      "WARNING:tensorflow:Can save best model only with val_loss available, skipping.\n"
     ]
    },
    {
     "name": "stdout",
     "output_type": "stream",
     "text": [
      "34/34 [==============================] - 17s 496ms/step - loss: 0.0093 - semantic_0_loss: 0.0020 - semantic_1_loss: 0.0061 - semantic_2_loss: 0.0012 - lr: 3.2445e-05\n",
      "Epoch 114/200\n",
      "34/34 [==============================] - ETA: 0s - loss: 0.0093 - semantic_0_loss: 0.0020 - semantic_1_loss: 0.0061 - semantic_2_loss: 0.0012WARNING:tensorflow:Can save best model only with val_loss available, skipping.\n"
     ]
    },
    {
     "name": "stderr",
     "output_type": "stream",
     "text": [
      "WARNING:tensorflow:Can save best model only with val_loss available, skipping.\n"
     ]
    },
    {
     "name": "stdout",
     "output_type": "stream",
     "text": [
      "34/34 [==============================] - 17s 489ms/step - loss: 0.0093 - semantic_0_loss: 0.0020 - semantic_1_loss: 0.0061 - semantic_2_loss: 0.0012 - lr: 3.2120e-05\n",
      "Epoch 115/200\n",
      "34/34 [==============================] - ETA: 0s - loss: 0.0093 - semantic_0_loss: 0.0020 - semantic_1_loss: 0.0061 - semantic_2_loss: 0.0012WARNING:tensorflow:Can save best model only with val_loss available, skipping.\n"
     ]
    },
    {
     "name": "stderr",
     "output_type": "stream",
     "text": [
      "WARNING:tensorflow:Can save best model only with val_loss available, skipping.\n"
     ]
    },
    {
     "name": "stdout",
     "output_type": "stream",
     "text": [
      "34/34 [==============================] - 17s 494ms/step - loss: 0.0093 - semantic_0_loss: 0.0020 - semantic_1_loss: 0.0061 - semantic_2_loss: 0.0012 - lr: 3.1799e-05\n",
      "Epoch 116/200\n",
      "34/34 [==============================] - ETA: 0s - loss: 0.0092 - semantic_0_loss: 0.0020 - semantic_1_loss: 0.0060 - semantic_2_loss: 0.0012WARNING:tensorflow:Can save best model only with val_loss available, skipping.\n"
     ]
    },
    {
     "name": "stderr",
     "output_type": "stream",
     "text": [
      "WARNING:tensorflow:Can save best model only with val_loss available, skipping.\n"
     ]
    },
    {
     "name": "stdout",
     "output_type": "stream",
     "text": [
      "34/34 [==============================] - 17s 491ms/step - loss: 0.0092 - semantic_0_loss: 0.0020 - semantic_1_loss: 0.0060 - semantic_2_loss: 0.0012 - lr: 3.1481e-05\n",
      "Epoch 117/200\n",
      "34/34 [==============================] - ETA: 0s - loss: 0.0093 - semantic_0_loss: 0.0020 - semantic_1_loss: 0.0061 - semantic_2_loss: 0.0012WARNING:tensorflow:Can save best model only with val_loss available, skipping.\n"
     ]
    },
    {
     "name": "stderr",
     "output_type": "stream",
     "text": [
      "WARNING:tensorflow:Can save best model only with val_loss available, skipping.\n"
     ]
    },
    {
     "name": "stdout",
     "output_type": "stream",
     "text": [
      "34/34 [==============================] - 17s 492ms/step - loss: 0.0093 - semantic_0_loss: 0.0020 - semantic_1_loss: 0.0061 - semantic_2_loss: 0.0012 - lr: 3.1166e-05\n",
      "Epoch 118/200\n",
      "34/34 [==============================] - ETA: 0s - loss: 0.0093 - semantic_0_loss: 0.0020 - semantic_1_loss: 0.0061 - semantic_2_loss: 0.0012WARNING:tensorflow:Can save best model only with val_loss available, skipping.\n"
     ]
    },
    {
     "name": "stderr",
     "output_type": "stream",
     "text": [
      "WARNING:tensorflow:Can save best model only with val_loss available, skipping.\n"
     ]
    },
    {
     "name": "stdout",
     "output_type": "stream",
     "text": [
      "34/34 [==============================] - 17s 486ms/step - loss: 0.0093 - semantic_0_loss: 0.0020 - semantic_1_loss: 0.0061 - semantic_2_loss: 0.0012 - lr: 3.0854e-05\n",
      "Epoch 119/200\n",
      "34/34 [==============================] - ETA: 0s - loss: 0.0093 - semantic_0_loss: 0.0020 - semantic_1_loss: 0.0061 - semantic_2_loss: 0.0012WARNING:tensorflow:Can save best model only with val_loss available, skipping.\n"
     ]
    },
    {
     "name": "stderr",
     "output_type": "stream",
     "text": [
      "WARNING:tensorflow:Can save best model only with val_loss available, skipping.\n"
     ]
    },
    {
     "name": "stdout",
     "output_type": "stream",
     "text": [
      "34/34 [==============================] - 17s 498ms/step - loss: 0.0093 - semantic_0_loss: 0.0020 - semantic_1_loss: 0.0061 - semantic_2_loss: 0.0012 - lr: 3.0546e-05\n",
      "Epoch 120/200\n",
      "34/34 [==============================] - ETA: 0s - loss: 0.0091 - semantic_0_loss: 0.0019 - semantic_1_loss: 0.0059 - semantic_2_loss: 0.0012WARNING:tensorflow:Can save best model only with val_loss available, skipping.\n"
     ]
    },
    {
     "name": "stderr",
     "output_type": "stream",
     "text": [
      "WARNING:tensorflow:Can save best model only with val_loss available, skipping.\n"
     ]
    },
    {
     "name": "stdout",
     "output_type": "stream",
     "text": [
      "34/34 [==============================] - 17s 503ms/step - loss: 0.0091 - semantic_0_loss: 0.0019 - semantic_1_loss: 0.0059 - semantic_2_loss: 0.0012 - lr: 3.0240e-05\n",
      "Epoch 121/200\n",
      "34/34 [==============================] - ETA: 0s - loss: 0.0091 - semantic_0_loss: 0.0020 - semantic_1_loss: 0.0059 - semantic_2_loss: 0.0012WARNING:tensorflow:Can save best model only with val_loss available, skipping.\n"
     ]
    },
    {
     "name": "stderr",
     "output_type": "stream",
     "text": [
      "WARNING:tensorflow:Can save best model only with val_loss available, skipping.\n"
     ]
    },
    {
     "name": "stdout",
     "output_type": "stream",
     "text": [
      "34/34 [==============================] - 17s 492ms/step - loss: 0.0091 - semantic_0_loss: 0.0020 - semantic_1_loss: 0.0059 - semantic_2_loss: 0.0012 - lr: 2.9938e-05\n",
      "Epoch 122/200\n",
      "34/34 [==============================] - ETA: 0s - loss: 0.0092 - semantic_0_loss: 0.0020 - semantic_1_loss: 0.0060 - semantic_2_loss: 0.0012WARNING:tensorflow:Can save best model only with val_loss available, skipping.\n"
     ]
    },
    {
     "name": "stderr",
     "output_type": "stream",
     "text": [
      "WARNING:tensorflow:Can save best model only with val_loss available, skipping.\n"
     ]
    },
    {
     "name": "stdout",
     "output_type": "stream",
     "text": [
      "34/34 [==============================] - 17s 489ms/step - loss: 0.0092 - semantic_0_loss: 0.0020 - semantic_1_loss: 0.0060 - semantic_2_loss: 0.0012 - lr: 2.9639e-05\n",
      "Epoch 123/200\n",
      "34/34 [==============================] - ETA: 0s - loss: 0.0091 - semantic_0_loss: 0.0020 - semantic_1_loss: 0.0059 - semantic_2_loss: 0.0012WARNING:tensorflow:Can save best model only with val_loss available, skipping.\n"
     ]
    },
    {
     "name": "stderr",
     "output_type": "stream",
     "text": [
      "WARNING:tensorflow:Can save best model only with val_loss available, skipping.\n"
     ]
    },
    {
     "name": "stdout",
     "output_type": "stream",
     "text": [
      "34/34 [==============================] - 17s 495ms/step - loss: 0.0091 - semantic_0_loss: 0.0020 - semantic_1_loss: 0.0059 - semantic_2_loss: 0.0012 - lr: 2.9342e-05\n",
      "Epoch 124/200\n",
      "34/34 [==============================] - ETA: 0s - loss: 0.0091 - semantic_0_loss: 0.0020 - semantic_1_loss: 0.0060 - semantic_2_loss: 0.0012WARNING:tensorflow:Can save best model only with val_loss available, skipping.\n"
     ]
    },
    {
     "name": "stderr",
     "output_type": "stream",
     "text": [
      "WARNING:tensorflow:Can save best model only with val_loss available, skipping.\n"
     ]
    },
    {
     "name": "stdout",
     "output_type": "stream",
     "text": [
      "34/34 [==============================] - 17s 488ms/step - loss: 0.0091 - semantic_0_loss: 0.0020 - semantic_1_loss: 0.0060 - semantic_2_loss: 0.0012 - lr: 2.9049e-05\n",
      "Epoch 125/200\n",
      "34/34 [==============================] - ETA: 0s - loss: 0.0091 - semantic_0_loss: 0.0019 - semantic_1_loss: 0.0059 - semantic_2_loss: 0.0012WARNING:tensorflow:Can save best model only with val_loss available, skipping.\n"
     ]
    },
    {
     "name": "stderr",
     "output_type": "stream",
     "text": [
      "WARNING:tensorflow:Can save best model only with val_loss available, skipping.\n"
     ]
    },
    {
     "name": "stdout",
     "output_type": "stream",
     "text": [
      "34/34 [==============================] - 17s 492ms/step - loss: 0.0091 - semantic_0_loss: 0.0019 - semantic_1_loss: 0.0059 - semantic_2_loss: 0.0012 - lr: 2.8758e-05\n",
      "Epoch 126/200\n",
      "34/34 [==============================] - ETA: 0s - loss: 0.0091 - semantic_0_loss: 0.0019 - semantic_1_loss: 0.0060 - semantic_2_loss: 0.0012WARNING:tensorflow:Can save best model only with val_loss available, skipping.\n"
     ]
    },
    {
     "name": "stderr",
     "output_type": "stream",
     "text": [
      "WARNING:tensorflow:Can save best model only with val_loss available, skipping.\n"
     ]
    },
    {
     "name": "stdout",
     "output_type": "stream",
     "text": [
      "34/34 [==============================] - 17s 486ms/step - loss: 0.0091 - semantic_0_loss: 0.0019 - semantic_1_loss: 0.0060 - semantic_2_loss: 0.0012 - lr: 2.8471e-05\n",
      "Epoch 127/200\n",
      "34/34 [==============================] - ETA: 0s - loss: 0.0091 - semantic_0_loss: 0.0020 - semantic_1_loss: 0.0059 - semantic_2_loss: 0.0012WARNING:tensorflow:Can save best model only with val_loss available, skipping.\n"
     ]
    },
    {
     "name": "stderr",
     "output_type": "stream",
     "text": [
      "WARNING:tensorflow:Can save best model only with val_loss available, skipping.\n"
     ]
    },
    {
     "name": "stdout",
     "output_type": "stream",
     "text": [
      "34/34 [==============================] - 17s 489ms/step - loss: 0.0091 - semantic_0_loss: 0.0020 - semantic_1_loss: 0.0059 - semantic_2_loss: 0.0012 - lr: 2.8186e-05\n",
      "Epoch 128/200\n",
      "34/34 [==============================] - ETA: 0s - loss: 0.0089 - semantic_0_loss: 0.0019 - semantic_1_loss: 0.0057 - semantic_2_loss: 0.0012WARNING:tensorflow:Can save best model only with val_loss available, skipping.\n"
     ]
    },
    {
     "name": "stderr",
     "output_type": "stream",
     "text": [
      "WARNING:tensorflow:Can save best model only with val_loss available, skipping.\n"
     ]
    },
    {
     "name": "stdout",
     "output_type": "stream",
     "text": [
      "34/34 [==============================] - 17s 490ms/step - loss: 0.0089 - semantic_0_loss: 0.0019 - semantic_1_loss: 0.0057 - semantic_2_loss: 0.0012 - lr: 2.7904e-05\n",
      "Epoch 129/200\n",
      "34/34 [==============================] - ETA: 0s - loss: 0.0090 - semantic_0_loss: 0.0019 - semantic_1_loss: 0.0058 - semantic_2_loss: 0.0012WARNING:tensorflow:Can save best model only with val_loss available, skipping.\n"
     ]
    },
    {
     "name": "stderr",
     "output_type": "stream",
     "text": [
      "WARNING:tensorflow:Can save best model only with val_loss available, skipping.\n"
     ]
    },
    {
     "name": "stdout",
     "output_type": "stream",
     "text": [
      "34/34 [==============================] - 17s 501ms/step - loss: 0.0090 - semantic_0_loss: 0.0019 - semantic_1_loss: 0.0058 - semantic_2_loss: 0.0012 - lr: 2.7625e-05\n",
      "Epoch 130/200\n",
      "34/34 [==============================] - ETA: 0s - loss: 0.0089 - semantic_0_loss: 0.0019 - semantic_1_loss: 0.0058 - semantic_2_loss: 0.0012WARNING:tensorflow:Can save best model only with val_loss available, skipping.\n"
     ]
    },
    {
     "name": "stderr",
     "output_type": "stream",
     "text": [
      "WARNING:tensorflow:Can save best model only with val_loss available, skipping.\n"
     ]
    },
    {
     "name": "stdout",
     "output_type": "stream",
     "text": [
      "34/34 [==============================] - 17s 495ms/step - loss: 0.0089 - semantic_0_loss: 0.0019 - semantic_1_loss: 0.0058 - semantic_2_loss: 0.0012 - lr: 2.7349e-05\n",
      "Epoch 131/200\n",
      "34/34 [==============================] - ETA: 0s - loss: 0.0091 - semantic_0_loss: 0.0020 - semantic_1_loss: 0.0059 - semantic_2_loss: 0.0012WARNING:tensorflow:Can save best model only with val_loss available, skipping.\n"
     ]
    },
    {
     "name": "stderr",
     "output_type": "stream",
     "text": [
      "WARNING:tensorflow:Can save best model only with val_loss available, skipping.\n"
     ]
    },
    {
     "name": "stdout",
     "output_type": "stream",
     "text": [
      "34/34 [==============================] - 17s 490ms/step - loss: 0.0091 - semantic_0_loss: 0.0020 - semantic_1_loss: 0.0059 - semantic_2_loss: 0.0012 - lr: 2.7075e-05\n",
      "Epoch 132/200\n",
      "34/34 [==============================] - ETA: 0s - loss: 0.0091 - semantic_0_loss: 0.0019 - semantic_1_loss: 0.0060 - semantic_2_loss: 0.0012WARNING:tensorflow:Can save best model only with val_loss available, skipping.\n"
     ]
    },
    {
     "name": "stderr",
     "output_type": "stream",
     "text": [
      "WARNING:tensorflow:Can save best model only with val_loss available, skipping.\n"
     ]
    },
    {
     "name": "stdout",
     "output_type": "stream",
     "text": [
      "34/34 [==============================] - 17s 495ms/step - loss: 0.0091 - semantic_0_loss: 0.0019 - semantic_1_loss: 0.0060 - semantic_2_loss: 0.0012 - lr: 2.6805e-05\n",
      "Epoch 133/200\n",
      "34/34 [==============================] - ETA: 0s - loss: 0.0089 - semantic_0_loss: 0.0019 - semantic_1_loss: 0.0058 - semantic_2_loss: 0.0012WARNING:tensorflow:Can save best model only with val_loss available, skipping.\n"
     ]
    },
    {
     "name": "stderr",
     "output_type": "stream",
     "text": [
      "WARNING:tensorflow:Can save best model only with val_loss available, skipping.\n"
     ]
    },
    {
     "name": "stdout",
     "output_type": "stream",
     "text": [
      "34/34 [==============================] - 17s 498ms/step - loss: 0.0089 - semantic_0_loss: 0.0019 - semantic_1_loss: 0.0058 - semantic_2_loss: 0.0012 - lr: 2.6537e-05\n",
      "Epoch 134/200\n",
      "34/34 [==============================] - ETA: 0s - loss: 0.0089 - semantic_0_loss: 0.0019 - semantic_1_loss: 0.0058 - semantic_2_loss: 0.0012WARNING:tensorflow:Can save best model only with val_loss available, skipping.\n"
     ]
    },
    {
     "name": "stderr",
     "output_type": "stream",
     "text": [
      "WARNING:tensorflow:Can save best model only with val_loss available, skipping.\n"
     ]
    },
    {
     "name": "stdout",
     "output_type": "stream",
     "text": [
      "34/34 [==============================] - 17s 490ms/step - loss: 0.0089 - semantic_0_loss: 0.0019 - semantic_1_loss: 0.0058 - semantic_2_loss: 0.0012 - lr: 2.6271e-05\n",
      "Epoch 135/200\n",
      "34/34 [==============================] - ETA: 0s - loss: 0.0091 - semantic_0_loss: 0.0020 - semantic_1_loss: 0.0060 - semantic_2_loss: 0.0012WARNING:tensorflow:Can save best model only with val_loss available, skipping.\n"
     ]
    },
    {
     "name": "stderr",
     "output_type": "stream",
     "text": [
      "WARNING:tensorflow:Can save best model only with val_loss available, skipping.\n"
     ]
    },
    {
     "name": "stdout",
     "output_type": "stream",
     "text": [
      "34/34 [==============================] - 17s 496ms/step - loss: 0.0091 - semantic_0_loss: 0.0020 - semantic_1_loss: 0.0060 - semantic_2_loss: 0.0012 - lr: 2.6009e-05\n",
      "Epoch 136/200\n",
      "34/34 [==============================] - ETA: 0s - loss: 0.0089 - semantic_0_loss: 0.0020 - semantic_1_loss: 0.0058 - semantic_2_loss: 0.0012WARNING:tensorflow:Can save best model only with val_loss available, skipping.\n"
     ]
    },
    {
     "name": "stderr",
     "output_type": "stream",
     "text": [
      "WARNING:tensorflow:Can save best model only with val_loss available, skipping.\n"
     ]
    },
    {
     "name": "stdout",
     "output_type": "stream",
     "text": [
      "34/34 [==============================] - 17s 491ms/step - loss: 0.0089 - semantic_0_loss: 0.0020 - semantic_1_loss: 0.0058 - semantic_2_loss: 0.0012 - lr: 2.5748e-05\n",
      "Epoch 137/200\n",
      "34/34 [==============================] - ETA: 0s - loss: 0.0088 - semantic_0_loss: 0.0019 - semantic_1_loss: 0.0057 - semantic_2_loss: 0.0012WARNING:tensorflow:Can save best model only with val_loss available, skipping.\n"
     ]
    },
    {
     "name": "stderr",
     "output_type": "stream",
     "text": [
      "WARNING:tensorflow:Can save best model only with val_loss available, skipping.\n"
     ]
    },
    {
     "name": "stdout",
     "output_type": "stream",
     "text": [
      "34/34 [==============================] - 17s 493ms/step - loss: 0.0088 - semantic_0_loss: 0.0019 - semantic_1_loss: 0.0057 - semantic_2_loss: 0.0012 - lr: 2.5491e-05\n",
      "Epoch 138/200\n",
      "34/34 [==============================] - ETA: 0s - loss: 0.0089 - semantic_0_loss: 0.0019 - semantic_1_loss: 0.0058 - semantic_2_loss: 0.0012WARNING:tensorflow:Can save best model only with val_loss available, skipping.\n"
     ]
    },
    {
     "name": "stderr",
     "output_type": "stream",
     "text": [
      "WARNING:tensorflow:Can save best model only with val_loss available, skipping.\n"
     ]
    },
    {
     "name": "stdout",
     "output_type": "stream",
     "text": [
      "34/34 [==============================] - 17s 490ms/step - loss: 0.0089 - semantic_0_loss: 0.0019 - semantic_1_loss: 0.0058 - semantic_2_loss: 0.0012 - lr: 2.5236e-05\n",
      "Epoch 139/200\n",
      "34/34 [==============================] - ETA: 0s - loss: 0.0087 - semantic_0_loss: 0.0019 - semantic_1_loss: 0.0057 - semantic_2_loss: 0.0012WARNING:tensorflow:Can save best model only with val_loss available, skipping.\n"
     ]
    },
    {
     "name": "stderr",
     "output_type": "stream",
     "text": [
      "WARNING:tensorflow:Can save best model only with val_loss available, skipping.\n"
     ]
    },
    {
     "name": "stdout",
     "output_type": "stream",
     "text": [
      "34/34 [==============================] - 17s 489ms/step - loss: 0.0087 - semantic_0_loss: 0.0019 - semantic_1_loss: 0.0057 - semantic_2_loss: 0.0012 - lr: 2.4984e-05\n",
      "Epoch 140/200\n",
      "34/34 [==============================] - ETA: 0s - loss: 0.0090 - semantic_0_loss: 0.0019 - semantic_1_loss: 0.0058 - semantic_2_loss: 0.0012WARNING:tensorflow:Can save best model only with val_loss available, skipping.\n"
     ]
    },
    {
     "name": "stderr",
     "output_type": "stream",
     "text": [
      "WARNING:tensorflow:Can save best model only with val_loss available, skipping.\n"
     ]
    },
    {
     "name": "stdout",
     "output_type": "stream",
     "text": [
      "34/34 [==============================] - 17s 489ms/step - loss: 0.0090 - semantic_0_loss: 0.0019 - semantic_1_loss: 0.0058 - semantic_2_loss: 0.0012 - lr: 2.4734e-05\n",
      "Epoch 141/200\n",
      "34/34 [==============================] - ETA: 0s - loss: 0.0088 - semantic_0_loss: 0.0019 - semantic_1_loss: 0.0057 - semantic_2_loss: 0.0012WARNING:tensorflow:Can save best model only with val_loss available, skipping.\n"
     ]
    },
    {
     "name": "stderr",
     "output_type": "stream",
     "text": [
      "WARNING:tensorflow:Can save best model only with val_loss available, skipping.\n"
     ]
    },
    {
     "name": "stdout",
     "output_type": "stream",
     "text": [
      "34/34 [==============================] - 17s 497ms/step - loss: 0.0088 - semantic_0_loss: 0.0019 - semantic_1_loss: 0.0057 - semantic_2_loss: 0.0012 - lr: 2.4487e-05\n",
      "Epoch 142/200\n",
      "34/34 [==============================] - ETA: 0s - loss: 0.0089 - semantic_0_loss: 0.0020 - semantic_1_loss: 0.0057 - semantic_2_loss: 0.0012WARNING:tensorflow:Can save best model only with val_loss available, skipping.\n"
     ]
    },
    {
     "name": "stderr",
     "output_type": "stream",
     "text": [
      "WARNING:tensorflow:Can save best model only with val_loss available, skipping.\n"
     ]
    },
    {
     "name": "stdout",
     "output_type": "stream",
     "text": [
      "34/34 [==============================] - 17s 497ms/step - loss: 0.0089 - semantic_0_loss: 0.0020 - semantic_1_loss: 0.0057 - semantic_2_loss: 0.0012 - lr: 2.4242e-05\n",
      "Epoch 143/200\n",
      "34/34 [==============================] - ETA: 0s - loss: 0.0089 - semantic_0_loss: 0.0019 - semantic_1_loss: 0.0058 - semantic_2_loss: 0.0012WARNING:tensorflow:Can save best model only with val_loss available, skipping.\n"
     ]
    },
    {
     "name": "stderr",
     "output_type": "stream",
     "text": [
      "WARNING:tensorflow:Can save best model only with val_loss available, skipping.\n"
     ]
    },
    {
     "name": "stdout",
     "output_type": "stream",
     "text": [
      "34/34 [==============================] - 17s 499ms/step - loss: 0.0089 - semantic_0_loss: 0.0019 - semantic_1_loss: 0.0058 - semantic_2_loss: 0.0012 - lr: 2.3999e-05\n",
      "Epoch 144/200\n",
      "34/34 [==============================] - ETA: 0s - loss: 0.0088 - semantic_0_loss: 0.0019 - semantic_1_loss: 0.0057 - semantic_2_loss: 0.0012WARNING:tensorflow:Can save best model only with val_loss available, skipping.\n"
     ]
    },
    {
     "name": "stderr",
     "output_type": "stream",
     "text": [
      "WARNING:tensorflow:Can save best model only with val_loss available, skipping.\n"
     ]
    },
    {
     "name": "stdout",
     "output_type": "stream",
     "text": [
      "34/34 [==============================] - 17s 489ms/step - loss: 0.0088 - semantic_0_loss: 0.0019 - semantic_1_loss: 0.0057 - semantic_2_loss: 0.0012 - lr: 2.3759e-05\n",
      "Epoch 145/200\n",
      "34/34 [==============================] - ETA: 0s - loss: 0.0090 - semantic_0_loss: 0.0020 - semantic_1_loss: 0.0058 - semantic_2_loss: 0.0012WARNING:tensorflow:Can save best model only with val_loss available, skipping.\n"
     ]
    },
    {
     "name": "stderr",
     "output_type": "stream",
     "text": [
      "WARNING:tensorflow:Can save best model only with val_loss available, skipping.\n"
     ]
    },
    {
     "name": "stdout",
     "output_type": "stream",
     "text": [
      "34/34 [==============================] - 17s 488ms/step - loss: 0.0090 - semantic_0_loss: 0.0020 - semantic_1_loss: 0.0058 - semantic_2_loss: 0.0012 - lr: 2.3522e-05\n",
      "Epoch 146/200\n",
      "34/34 [==============================] - ETA: 0s - loss: 0.0088 - semantic_0_loss: 0.0019 - semantic_1_loss: 0.0057 - semantic_2_loss: 0.0012WARNING:tensorflow:Can save best model only with val_loss available, skipping.\n"
     ]
    },
    {
     "name": "stderr",
     "output_type": "stream",
     "text": [
      "WARNING:tensorflow:Can save best model only with val_loss available, skipping.\n"
     ]
    },
    {
     "name": "stdout",
     "output_type": "stream",
     "text": [
      "34/34 [==============================] - 17s 492ms/step - loss: 0.0088 - semantic_0_loss: 0.0019 - semantic_1_loss: 0.0057 - semantic_2_loss: 0.0012 - lr: 2.3286e-05\n",
      "Epoch 147/200\n",
      "34/34 [==============================] - ETA: 0s - loss: 0.0090 - semantic_0_loss: 0.0019 - semantic_1_loss: 0.0059 - semantic_2_loss: 0.0012WARNING:tensorflow:Can save best model only with val_loss available, skipping.\n"
     ]
    },
    {
     "name": "stderr",
     "output_type": "stream",
     "text": [
      "WARNING:tensorflow:Can save best model only with val_loss available, skipping.\n"
     ]
    },
    {
     "name": "stdout",
     "output_type": "stream",
     "text": [
      "34/34 [==============================] - 17s 496ms/step - loss: 0.0090 - semantic_0_loss: 0.0019 - semantic_1_loss: 0.0059 - semantic_2_loss: 0.0012 - lr: 2.3054e-05\n",
      "Epoch 148/200\n",
      "34/34 [==============================] - ETA: 0s - loss: 0.0087 - semantic_0_loss: 0.0019 - semantic_1_loss: 0.0056 - semantic_2_loss: 0.0012WARNING:tensorflow:Can save best model only with val_loss available, skipping.\n"
     ]
    },
    {
     "name": "stderr",
     "output_type": "stream",
     "text": [
      "WARNING:tensorflow:Can save best model only with val_loss available, skipping.\n"
     ]
    },
    {
     "name": "stdout",
     "output_type": "stream",
     "text": [
      "34/34 [==============================] - 17s 496ms/step - loss: 0.0087 - semantic_0_loss: 0.0019 - semantic_1_loss: 0.0056 - semantic_2_loss: 0.0012 - lr: 2.2823e-05\n",
      "Epoch 149/200\n",
      "34/34 [==============================] - ETA: 0s - loss: 0.0089 - semantic_0_loss: 0.0019 - semantic_1_loss: 0.0058 - semantic_2_loss: 0.0012WARNING:tensorflow:Can save best model only with val_loss available, skipping.\n"
     ]
    },
    {
     "name": "stderr",
     "output_type": "stream",
     "text": [
      "WARNING:tensorflow:Can save best model only with val_loss available, skipping.\n"
     ]
    },
    {
     "name": "stdout",
     "output_type": "stream",
     "text": [
      "34/34 [==============================] - 17s 493ms/step - loss: 0.0089 - semantic_0_loss: 0.0019 - semantic_1_loss: 0.0058 - semantic_2_loss: 0.0012 - lr: 2.2595e-05\n",
      "Epoch 150/200\n",
      "34/34 [==============================] - ETA: 0s - loss: 0.0086 - semantic_0_loss: 0.0019 - semantic_1_loss: 0.0056 - semantic_2_loss: 0.0012WARNING:tensorflow:Can save best model only with val_loss available, skipping.\n"
     ]
    },
    {
     "name": "stderr",
     "output_type": "stream",
     "text": [
      "WARNING:tensorflow:Can save best model only with val_loss available, skipping.\n"
     ]
    },
    {
     "name": "stdout",
     "output_type": "stream",
     "text": [
      "34/34 [==============================] - 17s 484ms/step - loss: 0.0086 - semantic_0_loss: 0.0019 - semantic_1_loss: 0.0056 - semantic_2_loss: 0.0012 - lr: 2.2369e-05\n",
      "Epoch 151/200\n",
      "34/34 [==============================] - ETA: 0s - loss: 0.0089 - semantic_0_loss: 0.0019 - semantic_1_loss: 0.0058 - semantic_2_loss: 0.0012WARNING:tensorflow:Can save best model only with val_loss available, skipping.\n"
     ]
    },
    {
     "name": "stderr",
     "output_type": "stream",
     "text": [
      "WARNING:tensorflow:Can save best model only with val_loss available, skipping.\n"
     ]
    },
    {
     "name": "stdout",
     "output_type": "stream",
     "text": [
      "34/34 [==============================] - 17s 486ms/step - loss: 0.0089 - semantic_0_loss: 0.0019 - semantic_1_loss: 0.0058 - semantic_2_loss: 0.0012 - lr: 2.2145e-05\n",
      "Epoch 152/200\n",
      "34/34 [==============================] - ETA: 0s - loss: 0.0090 - semantic_0_loss: 0.0020 - semantic_1_loss: 0.0059 - semantic_2_loss: 0.0012WARNING:tensorflow:Can save best model only with val_loss available, skipping.\n"
     ]
    },
    {
     "name": "stderr",
     "output_type": "stream",
     "text": [
      "WARNING:tensorflow:Can save best model only with val_loss available, skipping.\n"
     ]
    },
    {
     "name": "stdout",
     "output_type": "stream",
     "text": [
      "34/34 [==============================] - 17s 494ms/step - loss: 0.0090 - semantic_0_loss: 0.0020 - semantic_1_loss: 0.0059 - semantic_2_loss: 0.0012 - lr: 2.1924e-05\n",
      "Epoch 153/200\n",
      "34/34 [==============================] - ETA: 0s - loss: 0.0088 - semantic_0_loss: 0.0019 - semantic_1_loss: 0.0057 - semantic_2_loss: 0.0012WARNING:tensorflow:Can save best model only with val_loss available, skipping.\n"
     ]
    },
    {
     "name": "stderr",
     "output_type": "stream",
     "text": [
      "WARNING:tensorflow:Can save best model only with val_loss available, skipping.\n"
     ]
    },
    {
     "name": "stdout",
     "output_type": "stream",
     "text": [
      "34/34 [==============================] - 17s 498ms/step - loss: 0.0088 - semantic_0_loss: 0.0019 - semantic_1_loss: 0.0057 - semantic_2_loss: 0.0012 - lr: 2.1704e-05\n",
      "Epoch 154/200\n",
      "34/34 [==============================] - ETA: 0s - loss: 0.0088 - semantic_0_loss: 0.0019 - semantic_1_loss: 0.0057 - semantic_2_loss: 0.0012WARNING:tensorflow:Can save best model only with val_loss available, skipping.\n"
     ]
    },
    {
     "name": "stderr",
     "output_type": "stream",
     "text": [
      "WARNING:tensorflow:Can save best model only with val_loss available, skipping.\n"
     ]
    },
    {
     "name": "stdout",
     "output_type": "stream",
     "text": [
      "34/34 [==============================] - 17s 494ms/step - loss: 0.0088 - semantic_0_loss: 0.0019 - semantic_1_loss: 0.0057 - semantic_2_loss: 0.0012 - lr: 2.1487e-05\n",
      "Epoch 155/200\n",
      "34/34 [==============================] - ETA: 0s - loss: 0.0087 - semantic_0_loss: 0.0019 - semantic_1_loss: 0.0056 - semantic_2_loss: 0.0012WARNING:tensorflow:Can save best model only with val_loss available, skipping.\n"
     ]
    },
    {
     "name": "stderr",
     "output_type": "stream",
     "text": [
      "WARNING:tensorflow:Can save best model only with val_loss available, skipping.\n"
     ]
    },
    {
     "name": "stdout",
     "output_type": "stream",
     "text": [
      "34/34 [==============================] - 17s 485ms/step - loss: 0.0087 - semantic_0_loss: 0.0019 - semantic_1_loss: 0.0056 - semantic_2_loss: 0.0012 - lr: 2.1273e-05\n",
      "Epoch 156/200\n",
      "34/34 [==============================] - ETA: 0s - loss: 0.0087 - semantic_0_loss: 0.0019 - semantic_1_loss: 0.0056 - semantic_2_loss: 0.0012WARNING:tensorflow:Can save best model only with val_loss available, skipping.\n"
     ]
    },
    {
     "name": "stderr",
     "output_type": "stream",
     "text": [
      "WARNING:tensorflow:Can save best model only with val_loss available, skipping.\n"
     ]
    },
    {
     "name": "stdout",
     "output_type": "stream",
     "text": [
      "34/34 [==============================] - 17s 494ms/step - loss: 0.0087 - semantic_0_loss: 0.0019 - semantic_1_loss: 0.0056 - semantic_2_loss: 0.0012 - lr: 2.1060e-05\n",
      "Epoch 157/200\n",
      "34/34 [==============================] - ETA: 0s - loss: 0.0087 - semantic_0_loss: 0.0019 - semantic_1_loss: 0.0056 - semantic_2_loss: 0.0012WARNING:tensorflow:Can save best model only with val_loss available, skipping.\n"
     ]
    },
    {
     "name": "stderr",
     "output_type": "stream",
     "text": [
      "WARNING:tensorflow:Can save best model only with val_loss available, skipping.\n"
     ]
    },
    {
     "name": "stdout",
     "output_type": "stream",
     "text": [
      "34/34 [==============================] - 17s 492ms/step - loss: 0.0087 - semantic_0_loss: 0.0019 - semantic_1_loss: 0.0056 - semantic_2_loss: 0.0012 - lr: 2.0849e-05\n",
      "Epoch 158/200\n",
      "34/34 [==============================] - ETA: 0s - loss: 0.0086 - semantic_0_loss: 0.0019 - semantic_1_loss: 0.0056 - semantic_2_loss: 0.0012WARNING:tensorflow:Can save best model only with val_loss available, skipping.\n"
     ]
    },
    {
     "name": "stderr",
     "output_type": "stream",
     "text": [
      "WARNING:tensorflow:Can save best model only with val_loss available, skipping.\n"
     ]
    },
    {
     "name": "stdout",
     "output_type": "stream",
     "text": [
      "34/34 [==============================] - 17s 496ms/step - loss: 0.0086 - semantic_0_loss: 0.0019 - semantic_1_loss: 0.0056 - semantic_2_loss: 0.0012 - lr: 2.0641e-05\n",
      "Epoch 159/200\n",
      "34/34 [==============================] - ETA: 0s - loss: 0.0086 - semantic_0_loss: 0.0019 - semantic_1_loss: 0.0056 - semantic_2_loss: 0.0012WARNING:tensorflow:Can save best model only with val_loss available, skipping.\n"
     ]
    },
    {
     "name": "stderr",
     "output_type": "stream",
     "text": [
      "WARNING:tensorflow:Can save best model only with val_loss available, skipping.\n"
     ]
    },
    {
     "name": "stdout",
     "output_type": "stream",
     "text": [
      "34/34 [==============================] - 17s 486ms/step - loss: 0.0086 - semantic_0_loss: 0.0019 - semantic_1_loss: 0.0056 - semantic_2_loss: 0.0012 - lr: 2.0434e-05\n",
      "Epoch 160/200\n",
      "34/34 [==============================] - ETA: 0s - loss: 0.0087 - semantic_0_loss: 0.0019 - semantic_1_loss: 0.0056 - semantic_2_loss: 0.0012WARNING:tensorflow:Can save best model only with val_loss available, skipping.\n"
     ]
    },
    {
     "name": "stderr",
     "output_type": "stream",
     "text": [
      "WARNING:tensorflow:Can save best model only with val_loss available, skipping.\n"
     ]
    },
    {
     "name": "stdout",
     "output_type": "stream",
     "text": [
      "34/34 [==============================] - 17s 485ms/step - loss: 0.0087 - semantic_0_loss: 0.0019 - semantic_1_loss: 0.0056 - semantic_2_loss: 0.0012 - lr: 2.0230e-05\n",
      "Epoch 161/200\n",
      "34/34 [==============================] - ETA: 0s - loss: 0.0087 - semantic_0_loss: 0.0019 - semantic_1_loss: 0.0057 - semantic_2_loss: 0.0012WARNING:tensorflow:Can save best model only with val_loss available, skipping.\n"
     ]
    },
    {
     "name": "stderr",
     "output_type": "stream",
     "text": [
      "WARNING:tensorflow:Can save best model only with val_loss available, skipping.\n"
     ]
    },
    {
     "name": "stdout",
     "output_type": "stream",
     "text": [
      "34/34 [==============================] - 17s 493ms/step - loss: 0.0087 - semantic_0_loss: 0.0019 - semantic_1_loss: 0.0057 - semantic_2_loss: 0.0012 - lr: 2.0028e-05\n",
      "Epoch 162/200\n",
      "34/34 [==============================] - ETA: 0s - loss: 0.0087 - semantic_0_loss: 0.0019 - semantic_1_loss: 0.0056 - semantic_2_loss: 0.0012WARNING:tensorflow:Can save best model only with val_loss available, skipping.\n"
     ]
    },
    {
     "name": "stderr",
     "output_type": "stream",
     "text": [
      "WARNING:tensorflow:Can save best model only with val_loss available, skipping.\n"
     ]
    },
    {
     "name": "stdout",
     "output_type": "stream",
     "text": [
      "34/34 [==============================] - 17s 489ms/step - loss: 0.0087 - semantic_0_loss: 0.0019 - semantic_1_loss: 0.0056 - semantic_2_loss: 0.0012 - lr: 1.9827e-05\n",
      "Epoch 163/200\n",
      "34/34 [==============================] - ETA: 0s - loss: 0.0086 - semantic_0_loss: 0.0019 - semantic_1_loss: 0.0055 - semantic_2_loss: 0.0012WARNING:tensorflow:Can save best model only with val_loss available, skipping.\n"
     ]
    },
    {
     "name": "stderr",
     "output_type": "stream",
     "text": [
      "WARNING:tensorflow:Can save best model only with val_loss available, skipping.\n"
     ]
    },
    {
     "name": "stdout",
     "output_type": "stream",
     "text": [
      "34/34 [==============================] - 17s 497ms/step - loss: 0.0086 - semantic_0_loss: 0.0019 - semantic_1_loss: 0.0055 - semantic_2_loss: 0.0012 - lr: 1.9629e-05\n",
      "Epoch 164/200\n",
      "34/34 [==============================] - ETA: 0s - loss: 0.0088 - semantic_0_loss: 0.0020 - semantic_1_loss: 0.0057 - semantic_2_loss: 0.0012WARNING:tensorflow:Can save best model only with val_loss available, skipping.\n"
     ]
    },
    {
     "name": "stderr",
     "output_type": "stream",
     "text": [
      "WARNING:tensorflow:Can save best model only with val_loss available, skipping.\n"
     ]
    },
    {
     "name": "stdout",
     "output_type": "stream",
     "text": [
      "34/34 [==============================] - 17s 497ms/step - loss: 0.0088 - semantic_0_loss: 0.0020 - semantic_1_loss: 0.0057 - semantic_2_loss: 0.0012 - lr: 1.9433e-05\n",
      "Epoch 165/200\n",
      "34/34 [==============================] - ETA: 0s - loss: 0.0086 - semantic_0_loss: 0.0019 - semantic_1_loss: 0.0056 - semantic_2_loss: 0.0012WARNING:tensorflow:Can save best model only with val_loss available, skipping.\n"
     ]
    },
    {
     "name": "stderr",
     "output_type": "stream",
     "text": [
      "WARNING:tensorflow:Can save best model only with val_loss available, skipping.\n"
     ]
    },
    {
     "name": "stdout",
     "output_type": "stream",
     "text": [
      "34/34 [==============================] - 17s 486ms/step - loss: 0.0086 - semantic_0_loss: 0.0019 - semantic_1_loss: 0.0056 - semantic_2_loss: 0.0012 - lr: 1.9239e-05\n",
      "Epoch 166/200\n",
      "34/34 [==============================] - ETA: 0s - loss: 0.0085 - semantic_0_loss: 0.0019 - semantic_1_loss: 0.0055 - semantic_2_loss: 0.0012WARNING:tensorflow:Can save best model only with val_loss available, skipping.\n"
     ]
    },
    {
     "name": "stderr",
     "output_type": "stream",
     "text": [
      "WARNING:tensorflow:Can save best model only with val_loss available, skipping.\n"
     ]
    },
    {
     "name": "stdout",
     "output_type": "stream",
     "text": [
      "34/34 [==============================] - 17s 494ms/step - loss: 0.0085 - semantic_0_loss: 0.0019 - semantic_1_loss: 0.0055 - semantic_2_loss: 0.0012 - lr: 1.9046e-05\n",
      "Epoch 167/200\n",
      "34/34 [==============================] - ETA: 0s - loss: 0.0086 - semantic_0_loss: 0.0019 - semantic_1_loss: 0.0055 - semantic_2_loss: 0.0012WARNING:tensorflow:Can save best model only with val_loss available, skipping.\n"
     ]
    },
    {
     "name": "stderr",
     "output_type": "stream",
     "text": [
      "WARNING:tensorflow:Can save best model only with val_loss available, skipping.\n"
     ]
    },
    {
     "name": "stdout",
     "output_type": "stream",
     "text": [
      "34/34 [==============================] - 17s 494ms/step - loss: 0.0086 - semantic_0_loss: 0.0019 - semantic_1_loss: 0.0055 - semantic_2_loss: 0.0012 - lr: 1.8856e-05\n",
      "Epoch 168/200\n",
      "34/34 [==============================] - ETA: 0s - loss: 0.0086 - semantic_0_loss: 0.0019 - semantic_1_loss: 0.0056 - semantic_2_loss: 0.0012WARNING:tensorflow:Can save best model only with val_loss available, skipping.\n"
     ]
    },
    {
     "name": "stderr",
     "output_type": "stream",
     "text": [
      "WARNING:tensorflow:Can save best model only with val_loss available, skipping.\n"
     ]
    },
    {
     "name": "stdout",
     "output_type": "stream",
     "text": [
      "34/34 [==============================] - 17s 489ms/step - loss: 0.0086 - semantic_0_loss: 0.0019 - semantic_1_loss: 0.0056 - semantic_2_loss: 0.0012 - lr: 1.8667e-05\n",
      "Epoch 169/200\n",
      "34/34 [==============================] - ETA: 0s - loss: 0.0087 - semantic_0_loss: 0.0019 - semantic_1_loss: 0.0056 - semantic_2_loss: 0.0012WARNING:tensorflow:Can save best model only with val_loss available, skipping.\n"
     ]
    },
    {
     "name": "stderr",
     "output_type": "stream",
     "text": [
      "WARNING:tensorflow:Can save best model only with val_loss available, skipping.\n"
     ]
    },
    {
     "name": "stdout",
     "output_type": "stream",
     "text": [
      "34/34 [==============================] - 17s 493ms/step - loss: 0.0087 - semantic_0_loss: 0.0019 - semantic_1_loss: 0.0056 - semantic_2_loss: 0.0012 - lr: 1.8480e-05\n",
      "Epoch 170/200\n",
      "34/34 [==============================] - ETA: 0s - loss: 0.0086 - semantic_0_loss: 0.0019 - semantic_1_loss: 0.0056 - semantic_2_loss: 0.0012WARNING:tensorflow:Can save best model only with val_loss available, skipping.\n"
     ]
    },
    {
     "name": "stderr",
     "output_type": "stream",
     "text": [
      "WARNING:tensorflow:Can save best model only with val_loss available, skipping.\n"
     ]
    },
    {
     "name": "stdout",
     "output_type": "stream",
     "text": [
      "34/34 [==============================] - 17s 494ms/step - loss: 0.0086 - semantic_0_loss: 0.0019 - semantic_1_loss: 0.0056 - semantic_2_loss: 0.0012 - lr: 1.8296e-05\n",
      "Epoch 171/200\n",
      "34/34 [==============================] - ETA: 0s - loss: 0.0085 - semantic_0_loss: 0.0019 - semantic_1_loss: 0.0055 - semantic_2_loss: 0.0012WARNING:tensorflow:Can save best model only with val_loss available, skipping.\n"
     ]
    },
    {
     "name": "stderr",
     "output_type": "stream",
     "text": [
      "WARNING:tensorflow:Can save best model only with val_loss available, skipping.\n"
     ]
    },
    {
     "name": "stdout",
     "output_type": "stream",
     "text": [
      "34/34 [==============================] - 17s 496ms/step - loss: 0.0085 - semantic_0_loss: 0.0019 - semantic_1_loss: 0.0055 - semantic_2_loss: 0.0012 - lr: 1.8113e-05\n",
      "Epoch 172/200\n",
      "34/34 [==============================] - ETA: 0s - loss: 0.0085 - semantic_0_loss: 0.0019 - semantic_1_loss: 0.0055 - semantic_2_loss: 0.0012WARNING:tensorflow:Can save best model only with val_loss available, skipping.\n"
     ]
    },
    {
     "name": "stderr",
     "output_type": "stream",
     "text": [
      "WARNING:tensorflow:Can save best model only with val_loss available, skipping.\n"
     ]
    },
    {
     "name": "stdout",
     "output_type": "stream",
     "text": [
      "34/34 [==============================] - 17s 490ms/step - loss: 0.0085 - semantic_0_loss: 0.0019 - semantic_1_loss: 0.0055 - semantic_2_loss: 0.0012 - lr: 1.7932e-05\n",
      "Epoch 173/200\n",
      "34/34 [==============================] - ETA: 0s - loss: 0.0086 - semantic_0_loss: 0.0019 - semantic_1_loss: 0.0055 - semantic_2_loss: 0.0012WARNING:tensorflow:Can save best model only with val_loss available, skipping.\n"
     ]
    },
    {
     "name": "stderr",
     "output_type": "stream",
     "text": [
      "WARNING:tensorflow:Can save best model only with val_loss available, skipping.\n"
     ]
    },
    {
     "name": "stdout",
     "output_type": "stream",
     "text": [
      "34/34 [==============================] - 17s 495ms/step - loss: 0.0086 - semantic_0_loss: 0.0019 - semantic_1_loss: 0.0055 - semantic_2_loss: 0.0012 - lr: 1.7752e-05\n",
      "Epoch 174/200\n",
      "34/34 [==============================] - ETA: 0s - loss: 0.0087 - semantic_0_loss: 0.0019 - semantic_1_loss: 0.0056 - semantic_2_loss: 0.0012WARNING:tensorflow:Can save best model only with val_loss available, skipping.\n"
     ]
    },
    {
     "name": "stderr",
     "output_type": "stream",
     "text": [
      "WARNING:tensorflow:Can save best model only with val_loss available, skipping.\n"
     ]
    },
    {
     "name": "stdout",
     "output_type": "stream",
     "text": [
      "34/34 [==============================] - 17s 490ms/step - loss: 0.0087 - semantic_0_loss: 0.0019 - semantic_1_loss: 0.0056 - semantic_2_loss: 0.0012 - lr: 1.7575e-05\n",
      "Epoch 175/200\n",
      "34/34 [==============================] - ETA: 0s - loss: 0.0084 - semantic_0_loss: 0.0019 - semantic_1_loss: 0.0054 - semantic_2_loss: 0.0012WARNING:tensorflow:Can save best model only with val_loss available, skipping.\n"
     ]
    },
    {
     "name": "stderr",
     "output_type": "stream",
     "text": [
      "WARNING:tensorflow:Can save best model only with val_loss available, skipping.\n"
     ]
    },
    {
     "name": "stdout",
     "output_type": "stream",
     "text": [
      "34/34 [==============================] - 17s 491ms/step - loss: 0.0084 - semantic_0_loss: 0.0019 - semantic_1_loss: 0.0054 - semantic_2_loss: 0.0012 - lr: 1.7399e-05\n",
      "Epoch 176/200\n",
      "34/34 [==============================] - ETA: 0s - loss: 0.0087 - semantic_0_loss: 0.0019 - semantic_1_loss: 0.0056 - semantic_2_loss: 0.0012WARNING:tensorflow:Can save best model only with val_loss available, skipping.\n"
     ]
    },
    {
     "name": "stderr",
     "output_type": "stream",
     "text": [
      "WARNING:tensorflow:Can save best model only with val_loss available, skipping.\n"
     ]
    },
    {
     "name": "stdout",
     "output_type": "stream",
     "text": [
      "34/34 [==============================] - 17s 490ms/step - loss: 0.0087 - semantic_0_loss: 0.0019 - semantic_1_loss: 0.0056 - semantic_2_loss: 0.0012 - lr: 1.7225e-05\n",
      "Epoch 177/200\n",
      "34/34 [==============================] - ETA: 0s - loss: 0.0085 - semantic_0_loss: 0.0019 - semantic_1_loss: 0.0055 - semantic_2_loss: 0.0011WARNING:tensorflow:Can save best model only with val_loss available, skipping.\n"
     ]
    },
    {
     "name": "stderr",
     "output_type": "stream",
     "text": [
      "WARNING:tensorflow:Can save best model only with val_loss available, skipping.\n"
     ]
    },
    {
     "name": "stdout",
     "output_type": "stream",
     "text": [
      "34/34 [==============================] - 17s 488ms/step - loss: 0.0085 - semantic_0_loss: 0.0019 - semantic_1_loss: 0.0055 - semantic_2_loss: 0.0011 - lr: 1.7053e-05\n",
      "Epoch 178/200\n",
      "34/34 [==============================] - ETA: 0s - loss: 0.0085 - semantic_0_loss: 0.0019 - semantic_1_loss: 0.0055 - semantic_2_loss: 0.0012WARNING:tensorflow:Can save best model only with val_loss available, skipping.\n"
     ]
    },
    {
     "name": "stderr",
     "output_type": "stream",
     "text": [
      "WARNING:tensorflow:Can save best model only with val_loss available, skipping.\n"
     ]
    },
    {
     "name": "stdout",
     "output_type": "stream",
     "text": [
      "34/34 [==============================] - 17s 486ms/step - loss: 0.0085 - semantic_0_loss: 0.0019 - semantic_1_loss: 0.0055 - semantic_2_loss: 0.0012 - lr: 1.6882e-05\n",
      "Epoch 179/200\n",
      "34/34 [==============================] - ETA: 0s - loss: 0.0085 - semantic_0_loss: 0.0019 - semantic_1_loss: 0.0055 - semantic_2_loss: 0.0012WARNING:tensorflow:Can save best model only with val_loss available, skipping.\n"
     ]
    },
    {
     "name": "stderr",
     "output_type": "stream",
     "text": [
      "WARNING:tensorflow:Can save best model only with val_loss available, skipping.\n"
     ]
    },
    {
     "name": "stdout",
     "output_type": "stream",
     "text": [
      "34/34 [==============================] - 17s 489ms/step - loss: 0.0085 - semantic_0_loss: 0.0019 - semantic_1_loss: 0.0055 - semantic_2_loss: 0.0012 - lr: 1.6713e-05\n",
      "Epoch 180/200\n",
      "34/34 [==============================] - ETA: 0s - loss: 0.0085 - semantic_0_loss: 0.0019 - semantic_1_loss: 0.0054 - semantic_2_loss: 0.0011WARNING:tensorflow:Can save best model only with val_loss available, skipping.\n"
     ]
    },
    {
     "name": "stderr",
     "output_type": "stream",
     "text": [
      "WARNING:tensorflow:Can save best model only with val_loss available, skipping.\n"
     ]
    },
    {
     "name": "stdout",
     "output_type": "stream",
     "text": [
      "34/34 [==============================] - 17s 479ms/step - loss: 0.0085 - semantic_0_loss: 0.0019 - semantic_1_loss: 0.0054 - semantic_2_loss: 0.0011 - lr: 1.6546e-05\n",
      "Epoch 181/200\n",
      "34/34 [==============================] - ETA: 0s - loss: 0.0086 - semantic_0_loss: 0.0019 - semantic_1_loss: 0.0055 - semantic_2_loss: 0.0012WARNING:tensorflow:Can save best model only with val_loss available, skipping.\n"
     ]
    },
    {
     "name": "stderr",
     "output_type": "stream",
     "text": [
      "WARNING:tensorflow:Can save best model only with val_loss available, skipping.\n"
     ]
    },
    {
     "name": "stdout",
     "output_type": "stream",
     "text": [
      "34/34 [==============================] - 17s 484ms/step - loss: 0.0086 - semantic_0_loss: 0.0019 - semantic_1_loss: 0.0055 - semantic_2_loss: 0.0012 - lr: 1.6381e-05\n",
      "Epoch 182/200\n",
      "34/34 [==============================] - ETA: 0s - loss: 0.0086 - semantic_0_loss: 0.0019 - semantic_1_loss: 0.0056 - semantic_2_loss: 0.0012WARNING:tensorflow:Can save best model only with val_loss available, skipping.\n"
     ]
    },
    {
     "name": "stderr",
     "output_type": "stream",
     "text": [
      "WARNING:tensorflow:Can save best model only with val_loss available, skipping.\n"
     ]
    },
    {
     "name": "stdout",
     "output_type": "stream",
     "text": [
      "34/34 [==============================] - 17s 492ms/step - loss: 0.0086 - semantic_0_loss: 0.0019 - semantic_1_loss: 0.0056 - semantic_2_loss: 0.0012 - lr: 1.6217e-05\n",
      "Epoch 183/200\n",
      "34/34 [==============================] - ETA: 0s - loss: 0.0085 - semantic_0_loss: 0.0019 - semantic_1_loss: 0.0055 - semantic_2_loss: 0.0012WARNING:tensorflow:Can save best model only with val_loss available, skipping.\n"
     ]
    },
    {
     "name": "stderr",
     "output_type": "stream",
     "text": [
      "WARNING:tensorflow:Can save best model only with val_loss available, skipping.\n"
     ]
    },
    {
     "name": "stdout",
     "output_type": "stream",
     "text": [
      "34/34 [==============================] - 17s 494ms/step - loss: 0.0085 - semantic_0_loss: 0.0019 - semantic_1_loss: 0.0055 - semantic_2_loss: 0.0012 - lr: 1.6055e-05\n",
      "Epoch 184/200\n",
      "34/34 [==============================] - ETA: 0s - loss: 0.0085 - semantic_0_loss: 0.0019 - semantic_1_loss: 0.0055 - semantic_2_loss: 0.0011WARNING:tensorflow:Can save best model only with val_loss available, skipping.\n"
     ]
    },
    {
     "name": "stderr",
     "output_type": "stream",
     "text": [
      "WARNING:tensorflow:Can save best model only with val_loss available, skipping.\n"
     ]
    },
    {
     "name": "stdout",
     "output_type": "stream",
     "text": [
      "34/34 [==============================] - 17s 495ms/step - loss: 0.0085 - semantic_0_loss: 0.0019 - semantic_1_loss: 0.0055 - semantic_2_loss: 0.0011 - lr: 1.5894e-05\n",
      "Epoch 185/200\n",
      "34/34 [==============================] - ETA: 0s - loss: 0.0085 - semantic_0_loss: 0.0019 - semantic_1_loss: 0.0055 - semantic_2_loss: 0.0011WARNING:tensorflow:Can save best model only with val_loss available, skipping.\n"
     ]
    },
    {
     "name": "stderr",
     "output_type": "stream",
     "text": [
      "WARNING:tensorflow:Can save best model only with val_loss available, skipping.\n"
     ]
    },
    {
     "name": "stdout",
     "output_type": "stream",
     "text": [
      "34/34 [==============================] - 17s 489ms/step - loss: 0.0085 - semantic_0_loss: 0.0019 - semantic_1_loss: 0.0055 - semantic_2_loss: 0.0011 - lr: 1.5735e-05\n",
      "Epoch 186/200\n",
      "34/34 [==============================] - ETA: 0s - loss: 0.0083 - semantic_0_loss: 0.0019 - semantic_1_loss: 0.0053 - semantic_2_loss: 0.0011WARNING:tensorflow:Can save best model only with val_loss available, skipping.\n"
     ]
    },
    {
     "name": "stderr",
     "output_type": "stream",
     "text": [
      "WARNING:tensorflow:Can save best model only with val_loss available, skipping.\n"
     ]
    },
    {
     "name": "stdout",
     "output_type": "stream",
     "text": [
      "34/34 [==============================] - 17s 492ms/step - loss: 0.0083 - semantic_0_loss: 0.0019 - semantic_1_loss: 0.0053 - semantic_2_loss: 0.0011 - lr: 1.5578e-05\n",
      "Epoch 187/200\n",
      "34/34 [==============================] - ETA: 0s - loss: 0.0085 - semantic_0_loss: 0.0019 - semantic_1_loss: 0.0054 - semantic_2_loss: 0.0011WARNING:tensorflow:Can save best model only with val_loss available, skipping.\n"
     ]
    },
    {
     "name": "stderr",
     "output_type": "stream",
     "text": [
      "WARNING:tensorflow:Can save best model only with val_loss available, skipping.\n"
     ]
    },
    {
     "name": "stdout",
     "output_type": "stream",
     "text": [
      "34/34 [==============================] - 17s 493ms/step - loss: 0.0085 - semantic_0_loss: 0.0019 - semantic_1_loss: 0.0054 - semantic_2_loss: 0.0011 - lr: 1.5422e-05\n",
      "Epoch 188/200\n",
      "34/34 [==============================] - ETA: 0s - loss: 0.0085 - semantic_0_loss: 0.0019 - semantic_1_loss: 0.0054 - semantic_2_loss: 0.0012WARNING:tensorflow:Can save best model only with val_loss available, skipping.\n"
     ]
    },
    {
     "name": "stderr",
     "output_type": "stream",
     "text": [
      "WARNING:tensorflow:Can save best model only with val_loss available, skipping.\n"
     ]
    },
    {
     "name": "stdout",
     "output_type": "stream",
     "text": [
      "34/34 [==============================] - 17s 494ms/step - loss: 0.0085 - semantic_0_loss: 0.0019 - semantic_1_loss: 0.0054 - semantic_2_loss: 0.0012 - lr: 1.5268e-05\n",
      "Epoch 189/200\n",
      "34/34 [==============================] - ETA: 0s - loss: 0.0084 - semantic_0_loss: 0.0019 - semantic_1_loss: 0.0054 - semantic_2_loss: 0.0011WARNING:tensorflow:Can save best model only with val_loss available, skipping.\n"
     ]
    },
    {
     "name": "stderr",
     "output_type": "stream",
     "text": [
      "WARNING:tensorflow:Can save best model only with val_loss available, skipping.\n"
     ]
    },
    {
     "name": "stdout",
     "output_type": "stream",
     "text": [
      "34/34 [==============================] - 17s 488ms/step - loss: 0.0084 - semantic_0_loss: 0.0019 - semantic_1_loss: 0.0054 - semantic_2_loss: 0.0011 - lr: 1.5115e-05\n",
      "Epoch 190/200\n",
      "34/34 [==============================] - ETA: 0s - loss: 0.0086 - semantic_0_loss: 0.0019 - semantic_1_loss: 0.0055 - semantic_2_loss: 0.0012WARNING:tensorflow:Can save best model only with val_loss available, skipping.\n"
     ]
    },
    {
     "name": "stderr",
     "output_type": "stream",
     "text": [
      "WARNING:tensorflow:Can save best model only with val_loss available, skipping.\n"
     ]
    },
    {
     "name": "stdout",
     "output_type": "stream",
     "text": [
      "34/34 [==============================] - 17s 486ms/step - loss: 0.0086 - semantic_0_loss: 0.0019 - semantic_1_loss: 0.0055 - semantic_2_loss: 0.0012 - lr: 1.4964e-05\n",
      "Epoch 191/200\n",
      "34/34 [==============================] - ETA: 0s - loss: 0.0085 - semantic_0_loss: 0.0019 - semantic_1_loss: 0.0054 - semantic_2_loss: 0.0011WARNING:tensorflow:Can save best model only with val_loss available, skipping.\n"
     ]
    },
    {
     "name": "stderr",
     "output_type": "stream",
     "text": [
      "WARNING:tensorflow:Can save best model only with val_loss available, skipping.\n"
     ]
    },
    {
     "name": "stdout",
     "output_type": "stream",
     "text": [
      "34/34 [==============================] - 17s 491ms/step - loss: 0.0085 - semantic_0_loss: 0.0019 - semantic_1_loss: 0.0054 - semantic_2_loss: 0.0011 - lr: 1.4814e-05\n",
      "Epoch 192/200\n",
      "34/34 [==============================] - ETA: 0s - loss: 0.0085 - semantic_0_loss: 0.0019 - semantic_1_loss: 0.0055 - semantic_2_loss: 0.0012WARNING:tensorflow:Can save best model only with val_loss available, skipping.\n"
     ]
    },
    {
     "name": "stderr",
     "output_type": "stream",
     "text": [
      "WARNING:tensorflow:Can save best model only with val_loss available, skipping.\n"
     ]
    },
    {
     "name": "stdout",
     "output_type": "stream",
     "text": [
      "34/34 [==============================] - 17s 485ms/step - loss: 0.0085 - semantic_0_loss: 0.0019 - semantic_1_loss: 0.0055 - semantic_2_loss: 0.0012 - lr: 1.4666e-05\n",
      "Epoch 193/200\n",
      "34/34 [==============================] - ETA: 0s - loss: 0.0082 - semantic_0_loss: 0.0019 - semantic_1_loss: 0.0053 - semantic_2_loss: 0.0011WARNING:tensorflow:Can save best model only with val_loss available, skipping.\n"
     ]
    },
    {
     "name": "stderr",
     "output_type": "stream",
     "text": [
      "WARNING:tensorflow:Can save best model only with val_loss available, skipping.\n"
     ]
    },
    {
     "name": "stdout",
     "output_type": "stream",
     "text": [
      "34/34 [==============================] - 17s 491ms/step - loss: 0.0082 - semantic_0_loss: 0.0019 - semantic_1_loss: 0.0053 - semantic_2_loss: 0.0011 - lr: 1.4520e-05\n",
      "Epoch 194/200\n",
      "34/34 [==============================] - ETA: 0s - loss: 0.0085 - semantic_0_loss: 0.0019 - semantic_1_loss: 0.0054 - semantic_2_loss: 0.0012WARNING:tensorflow:Can save best model only with val_loss available, skipping.\n"
     ]
    },
    {
     "name": "stderr",
     "output_type": "stream",
     "text": [
      "WARNING:tensorflow:Can save best model only with val_loss available, skipping.\n"
     ]
    },
    {
     "name": "stdout",
     "output_type": "stream",
     "text": [
      "34/34 [==============================] - 17s 486ms/step - loss: 0.0085 - semantic_0_loss: 0.0019 - semantic_1_loss: 0.0054 - semantic_2_loss: 0.0012 - lr: 1.4374e-05\n",
      "Epoch 195/200\n",
      "34/34 [==============================] - ETA: 0s - loss: 0.0084 - semantic_0_loss: 0.0019 - semantic_1_loss: 0.0054 - semantic_2_loss: 0.0011WARNING:tensorflow:Can save best model only with val_loss available, skipping.\n"
     ]
    },
    {
     "name": "stderr",
     "output_type": "stream",
     "text": [
      "WARNING:tensorflow:Can save best model only with val_loss available, skipping.\n"
     ]
    },
    {
     "name": "stdout",
     "output_type": "stream",
     "text": [
      "34/34 [==============================] - 17s 495ms/step - loss: 0.0084 - semantic_0_loss: 0.0019 - semantic_1_loss: 0.0054 - semantic_2_loss: 0.0011 - lr: 1.4231e-05\n",
      "Epoch 196/200\n",
      "34/34 [==============================] - ETA: 0s - loss: 0.0084 - semantic_0_loss: 0.0019 - semantic_1_loss: 0.0054 - semantic_2_loss: 0.0011WARNING:tensorflow:Can save best model only with val_loss available, skipping.\n"
     ]
    },
    {
     "name": "stderr",
     "output_type": "stream",
     "text": [
      "WARNING:tensorflow:Can save best model only with val_loss available, skipping.\n"
     ]
    },
    {
     "name": "stdout",
     "output_type": "stream",
     "text": [
      "34/34 [==============================] - 17s 491ms/step - loss: 0.0084 - semantic_0_loss: 0.0019 - semantic_1_loss: 0.0054 - semantic_2_loss: 0.0011 - lr: 1.4088e-05\n",
      "Epoch 197/200\n",
      "34/34 [==============================] - ETA: 0s - loss: 0.0084 - semantic_0_loss: 0.0019 - semantic_1_loss: 0.0054 - semantic_2_loss: 0.0011WARNING:tensorflow:Can save best model only with val_loss available, skipping.\n"
     ]
    },
    {
     "name": "stderr",
     "output_type": "stream",
     "text": [
      "WARNING:tensorflow:Can save best model only with val_loss available, skipping.\n"
     ]
    },
    {
     "name": "stdout",
     "output_type": "stream",
     "text": [
      "34/34 [==============================] - 17s 490ms/step - loss: 0.0084 - semantic_0_loss: 0.0019 - semantic_1_loss: 0.0054 - semantic_2_loss: 0.0011 - lr: 1.3948e-05\n",
      "Epoch 198/200\n",
      "34/34 [==============================] - ETA: 0s - loss: 0.0082 - semantic_0_loss: 0.0019 - semantic_1_loss: 0.0053 - semantic_2_loss: 0.0011WARNING:tensorflow:Can save best model only with val_loss available, skipping.\n"
     ]
    },
    {
     "name": "stderr",
     "output_type": "stream",
     "text": [
      "WARNING:tensorflow:Can save best model only with val_loss available, skipping.\n"
     ]
    },
    {
     "name": "stdout",
     "output_type": "stream",
     "text": [
      "34/34 [==============================] - 17s 496ms/step - loss: 0.0082 - semantic_0_loss: 0.0019 - semantic_1_loss: 0.0053 - semantic_2_loss: 0.0011 - lr: 1.3808e-05\n",
      "Epoch 199/200\n",
      "34/34 [==============================] - ETA: 0s - loss: 0.0085 - semantic_0_loss: 0.0019 - semantic_1_loss: 0.0054 - semantic_2_loss: 0.0012WARNING:tensorflow:Can save best model only with val_loss available, skipping.\n"
     ]
    },
    {
     "name": "stderr",
     "output_type": "stream",
     "text": [
      "WARNING:tensorflow:Can save best model only with val_loss available, skipping.\n"
     ]
    },
    {
     "name": "stdout",
     "output_type": "stream",
     "text": [
      "34/34 [==============================] - 17s 491ms/step - loss: 0.0085 - semantic_0_loss: 0.0019 - semantic_1_loss: 0.0054 - semantic_2_loss: 0.0012 - lr: 1.3670e-05\n",
      "Epoch 200/200\n",
      "34/34 [==============================] - ETA: 0s - loss: 0.0084 - semantic_0_loss: 0.0019 - semantic_1_loss: 0.0054 - semantic_2_loss: 0.0011WARNING:tensorflow:Can save best model only with val_loss available, skipping.\n"
     ]
    },
    {
     "name": "stderr",
     "output_type": "stream",
     "text": [
      "WARNING:tensorflow:Can save best model only with val_loss available, skipping.\n"
     ]
    },
    {
     "name": "stdout",
     "output_type": "stream",
     "text": [
      "34/34 [==============================] - 17s 493ms/step - loss: 0.0084 - semantic_0_loss: 0.0019 - semantic_1_loss: 0.0054 - semantic_2_loss: 0.0011 - lr: 1.3533e-05\n",
      "/home/yfong/deeplearning/dense_cell_segmentation\n",
      "['M926910_CFL_Position7_CD3_test_img.png', 'M872956_JML_Position10_CD3_test_img.png', 'M872956_JML_Position8_CD8_test_img.png', 'M926910_CFL_Position13_CD3_test_img.png', 'M872956_JML_Position8_CD3_test_img.png', 'M872956_JML_Position8_CD4_test_img.png', 'M872956_JML_Position9_CD3_test_img.png']\n",
      "M926910_CFL_Position7_CD3_test_img.png\n"
     ]
    },
    {
     "name": "stderr",
     "output_type": "stream",
     "text": [
      "/app/software/DeepCell/0.11.1-foss-2021b-CUDA-11.4.1/lib/python3.9/site-packages/deepcell_toolbox/deep_watershed.py:179: FutureWarning: `selem` is a deprecated argument name for `h_maxima`. It will be removed in version 1.0.Please use `footprint` instead.\n",
      "  markers = h_maxima(image=maxima,\n"
     ]
    },
    {
     "name": "stdout",
     "output_type": "stream",
     "text": [
      "M872956_JML_Position10_CD3_test_img.png\n",
      "M872956_JML_Position8_CD8_test_img.png\n",
      "M926910_CFL_Position13_CD3_test_img.png\n",
      "M872956_JML_Position8_CD3_test_img.png\n",
      "M872956_JML_Position8_CD4_test_img.png\n",
      "M872956_JML_Position9_CD3_test_img.png\n",
      "[[0.2077922077922078, 0.35873015873015873], [0.21099290780141844, 0.3960923623445826], [0.39344262295081966, 0.45918367346938777], [0.1942257217847769, 0.30423940149625933], [0.3339517625231911, 0.48201438848920863], [0.48467966573816157, 0.582010582010582], [0.27350427350427353, 0.3804573804573805]]\n",
      "                                         0         1         2\n",
      "0   M926910_CFL_Position7_CD3_test_img.png  0.207792   0.35873\n",
      "1  M872956_JML_Position10_CD3_test_img.png  0.210993  0.396092\n",
      "2   M872956_JML_Position8_CD8_test_img.png  0.393443  0.459184\n",
      "3  M926910_CFL_Position13_CD3_test_img.png  0.194226  0.304239\n",
      "4   M872956_JML_Position8_CD3_test_img.png  0.333952  0.482014\n",
      "5   M872956_JML_Position8_CD4_test_img.png   0.48468  0.582011\n",
      "6   M872956_JML_Position9_CD3_test_img.png  0.273504  0.380457\n",
      "7\n",
      "(7, 1040, 1159, 1)\n",
      "(7, 1040, 1159, 1)\n",
      "3.0769230769230766\n",
      "(7, 3199, 3566, 1)\n",
      "(7, 3199, 3566, 1)\n",
      "(7, 3199, 3566, 1)\n",
      "(7, 3199, 3566, 1)\n",
      "[0, 400, 800, 1200, 2687]\n",
      "[512, 912, 1312, 1712, 3199]\n",
      "[0, 512, 1024, 1536, 3054]\n",
      "[512, 1024, 1536, 2048, 3566]\n",
      "(175, 512, 512, 1)\n",
      "(175, 512, 512, 1)\n",
      "WARNING:tensorflow:Removing 14 of 175 images with fewer than 5 objects.\n"
     ]
    },
    {
     "name": "stderr",
     "output_type": "stream",
     "text": [
      "WARNING:tensorflow:Removing 14 of 175 images with fewer than 5 objects.\n",
      "/app/software/TensorFlow/2.7.1-foss-2021b-CUDA-11.4.1/lib/python3.9/site-packages/keras/optimizer_v2/adam.py:105: UserWarning: The `lr` argument is deprecated, use `learning_rate` instead.\n",
      "  super(Adam, self).__init__(name, **kwargs)\n"
     ]
    },
    {
     "name": "stdout",
     "output_type": "stream",
     "text": [
      "Training on 3 GPUs.\n"
     ]
    },
    {
     "name": "stderr",
     "output_type": "stream",
     "text": [
      "2022-11-11 22:39:54.155009: I tensorflow/core/common_runtime/gpu/gpu_device.cc:1525] Created device /device:GPU:0 with 14657 MB memory:  -> device: 0, name: Tesla V100-PCIE-16GB, pci bus id: 0000:04:00.0, compute capability: 7.0\n",
      "2022-11-11 22:39:54.156002: I tensorflow/core/common_runtime/gpu/gpu_device.cc:1525] Created device /device:GPU:1 with 14657 MB memory:  -> device: 1, name: Tesla V100-PCIE-16GB, pci bus id: 0000:06:00.0, compute capability: 7.0\n",
      "2022-11-11 22:39:54.156917: I tensorflow/core/common_runtime/gpu/gpu_device.cc:1525] Created device /device:GPU:2 with 14657 MB memory:  -> device: 2, name: Tesla V100-PCIE-16GB, pci bus id: 0000:08:00.0, compute capability: 7.0\n"
     ]
    },
    {
     "name": "stdout",
     "output_type": "stream",
     "text": [
      "Epoch 1/200\n",
      "40/40 [==============================] - ETA: 0s - loss: 0.0187 - semantic_0_loss: 0.0032 - semantic_1_loss: 0.0132 - semantic_2_loss: 0.0023WARNING:tensorflow:Can save best model only with val_loss available, skipping.\n"
     ]
    },
    {
     "name": "stderr",
     "output_type": "stream",
     "text": [
      "WARNING:tensorflow:Can save best model only with val_loss available, skipping.\n"
     ]
    },
    {
     "name": "stdout",
     "output_type": "stream",
     "text": [
      "40/40 [==============================] - 33s 512ms/step - loss: 0.0187 - semantic_0_loss: 0.0032 - semantic_1_loss: 0.0132 - semantic_2_loss: 0.0023 - lr: 1.0000e-04\n",
      "Epoch 2/200\n",
      "40/40 [==============================] - ETA: 0s - loss: 0.0154 - semantic_0_loss: 0.0027 - semantic_1_loss: 0.0108 - semantic_2_loss: 0.0019WARNING:tensorflow:Can save best model only with val_loss available, skipping.\n"
     ]
    },
    {
     "name": "stderr",
     "output_type": "stream",
     "text": [
      "WARNING:tensorflow:Can save best model only with val_loss available, skipping.\n"
     ]
    },
    {
     "name": "stdout",
     "output_type": "stream",
     "text": [
      "40/40 [==============================] - 20s 498ms/step - loss: 0.0154 - semantic_0_loss: 0.0027 - semantic_1_loss: 0.0108 - semantic_2_loss: 0.0019 - lr: 9.9000e-05\n",
      "Epoch 3/200\n",
      "40/40 [==============================] - ETA: 0s - loss: 0.0148 - semantic_0_loss: 0.0026 - semantic_1_loss: 0.0104 - semantic_2_loss: 0.0018WARNING:tensorflow:Can save best model only with val_loss available, skipping.\n"
     ]
    },
    {
     "name": "stderr",
     "output_type": "stream",
     "text": [
      "WARNING:tensorflow:Can save best model only with val_loss available, skipping.\n"
     ]
    },
    {
     "name": "stdout",
     "output_type": "stream",
     "text": [
      "40/40 [==============================] - 20s 486ms/step - loss: 0.0148 - semantic_0_loss: 0.0026 - semantic_1_loss: 0.0104 - semantic_2_loss: 0.0018 - lr: 9.8010e-05\n",
      "Epoch 4/200\n",
      "40/40 [==============================] - ETA: 0s - loss: 0.0141 - semantic_0_loss: 0.0025 - semantic_1_loss: 0.0098 - semantic_2_loss: 0.0017WARNING:tensorflow:Can save best model only with val_loss available, skipping.\n"
     ]
    },
    {
     "name": "stderr",
     "output_type": "stream",
     "text": [
      "WARNING:tensorflow:Can save best model only with val_loss available, skipping.\n"
     ]
    },
    {
     "name": "stdout",
     "output_type": "stream",
     "text": [
      "40/40 [==============================] - 20s 492ms/step - loss: 0.0141 - semantic_0_loss: 0.0025 - semantic_1_loss: 0.0098 - semantic_2_loss: 0.0017 - lr: 9.7030e-05\n",
      "Epoch 5/200\n",
      "40/40 [==============================] - ETA: 0s - loss: 0.0140 - semantic_0_loss: 0.0025 - semantic_1_loss: 0.0098 - semantic_2_loss: 0.0017WARNING:tensorflow:Can save best model only with val_loss available, skipping.\n"
     ]
    },
    {
     "name": "stderr",
     "output_type": "stream",
     "text": [
      "WARNING:tensorflow:Can save best model only with val_loss available, skipping.\n"
     ]
    },
    {
     "name": "stdout",
     "output_type": "stream",
     "text": [
      "40/40 [==============================] - 20s 487ms/step - loss: 0.0140 - semantic_0_loss: 0.0025 - semantic_1_loss: 0.0098 - semantic_2_loss: 0.0017 - lr: 9.6060e-05\n",
      "Epoch 6/200\n",
      "40/40 [==============================] - ETA: 0s - loss: 0.0138 - semantic_0_loss: 0.0025 - semantic_1_loss: 0.0096 - semantic_2_loss: 0.0017WARNING:tensorflow:Can save best model only with val_loss available, skipping.\n"
     ]
    },
    {
     "name": "stderr",
     "output_type": "stream",
     "text": [
      "WARNING:tensorflow:Can save best model only with val_loss available, skipping.\n"
     ]
    },
    {
     "name": "stdout",
     "output_type": "stream",
     "text": [
      "40/40 [==============================] - 20s 485ms/step - loss: 0.0138 - semantic_0_loss: 0.0025 - semantic_1_loss: 0.0096 - semantic_2_loss: 0.0017 - lr: 9.5099e-05\n",
      "Epoch 7/200\n",
      "40/40 [==============================] - ETA: 0s - loss: 0.0139 - semantic_0_loss: 0.0025 - semantic_1_loss: 0.0098 - semantic_2_loss: 0.0017WARNING:tensorflow:Can save best model only with val_loss available, skipping.\n"
     ]
    },
    {
     "name": "stderr",
     "output_type": "stream",
     "text": [
      "WARNING:tensorflow:Can save best model only with val_loss available, skipping.\n"
     ]
    },
    {
     "name": "stdout",
     "output_type": "stream",
     "text": [
      "40/40 [==============================] - 20s 487ms/step - loss: 0.0139 - semantic_0_loss: 0.0025 - semantic_1_loss: 0.0098 - semantic_2_loss: 0.0017 - lr: 9.4148e-05\n",
      "Epoch 8/200\n",
      "40/40 [==============================] - ETA: 0s - loss: 0.0135 - semantic_0_loss: 0.0025 - semantic_1_loss: 0.0094 - semantic_2_loss: 0.0016WARNING:tensorflow:Can save best model only with val_loss available, skipping.\n"
     ]
    },
    {
     "name": "stderr",
     "output_type": "stream",
     "text": [
      "WARNING:tensorflow:Can save best model only with val_loss available, skipping.\n"
     ]
    },
    {
     "name": "stdout",
     "output_type": "stream",
     "text": [
      "40/40 [==============================] - 20s 488ms/step - loss: 0.0135 - semantic_0_loss: 0.0025 - semantic_1_loss: 0.0094 - semantic_2_loss: 0.0016 - lr: 9.3207e-05\n",
      "Epoch 9/200\n",
      "40/40 [==============================] - ETA: 0s - loss: 0.0134 - semantic_0_loss: 0.0025 - semantic_1_loss: 0.0093 - semantic_2_loss: 0.0016WARNING:tensorflow:Can save best model only with val_loss available, skipping.\n"
     ]
    },
    {
     "name": "stderr",
     "output_type": "stream",
     "text": [
      "WARNING:tensorflow:Can save best model only with val_loss available, skipping.\n"
     ]
    },
    {
     "name": "stdout",
     "output_type": "stream",
     "text": [
      "40/40 [==============================] - 20s 488ms/step - loss: 0.0134 - semantic_0_loss: 0.0025 - semantic_1_loss: 0.0093 - semantic_2_loss: 0.0016 - lr: 9.2274e-05\n",
      "Epoch 10/200\n",
      "40/40 [==============================] - ETA: 0s - loss: 0.0131 - semantic_0_loss: 0.0024 - semantic_1_loss: 0.0091 - semantic_2_loss: 0.0016WARNING:tensorflow:Can save best model only with val_loss available, skipping.\n"
     ]
    },
    {
     "name": "stderr",
     "output_type": "stream",
     "text": [
      "WARNING:tensorflow:Can save best model only with val_loss available, skipping.\n"
     ]
    },
    {
     "name": "stdout",
     "output_type": "stream",
     "text": [
      "40/40 [==============================] - 20s 486ms/step - loss: 0.0131 - semantic_0_loss: 0.0024 - semantic_1_loss: 0.0091 - semantic_2_loss: 0.0016 - lr: 9.1352e-05\n",
      "Epoch 11/200\n",
      "40/40 [==============================] - ETA: 0s - loss: 0.0133 - semantic_0_loss: 0.0025 - semantic_1_loss: 0.0092 - semantic_2_loss: 0.0016WARNING:tensorflow:Can save best model only with val_loss available, skipping.\n"
     ]
    },
    {
     "name": "stderr",
     "output_type": "stream",
     "text": [
      "WARNING:tensorflow:Can save best model only with val_loss available, skipping.\n"
     ]
    },
    {
     "name": "stdout",
     "output_type": "stream",
     "text": [
      "40/40 [==============================] - 20s 487ms/step - loss: 0.0133 - semantic_0_loss: 0.0025 - semantic_1_loss: 0.0092 - semantic_2_loss: 0.0016 - lr: 9.0438e-05\n",
      "Epoch 12/200\n",
      "40/40 [==============================] - ETA: 0s - loss: 0.0132 - semantic_0_loss: 0.0025 - semantic_1_loss: 0.0092 - semantic_2_loss: 0.0016WARNING:tensorflow:Can save best model only with val_loss available, skipping.\n"
     ]
    },
    {
     "name": "stderr",
     "output_type": "stream",
     "text": [
      "WARNING:tensorflow:Can save best model only with val_loss available, skipping.\n"
     ]
    },
    {
     "name": "stdout",
     "output_type": "stream",
     "text": [
      "40/40 [==============================] - 20s 487ms/step - loss: 0.0132 - semantic_0_loss: 0.0025 - semantic_1_loss: 0.0092 - semantic_2_loss: 0.0016 - lr: 8.9534e-05\n",
      "Epoch 13/200\n",
      "40/40 [==============================] - ETA: 0s - loss: 0.0132 - semantic_0_loss: 0.0024 - semantic_1_loss: 0.0092 - semantic_2_loss: 0.0016WARNING:tensorflow:Can save best model only with val_loss available, skipping.\n"
     ]
    },
    {
     "name": "stderr",
     "output_type": "stream",
     "text": [
      "WARNING:tensorflow:Can save best model only with val_loss available, skipping.\n"
     ]
    },
    {
     "name": "stdout",
     "output_type": "stream",
     "text": [
      "40/40 [==============================] - 20s 486ms/step - loss: 0.0132 - semantic_0_loss: 0.0024 - semantic_1_loss: 0.0092 - semantic_2_loss: 0.0016 - lr: 8.8638e-05\n",
      "Epoch 14/200\n",
      "40/40 [==============================] - ETA: 0s - loss: 0.0130 - semantic_0_loss: 0.0024 - semantic_1_loss: 0.0090 - semantic_2_loss: 0.0016WARNING:tensorflow:Can save best model only with val_loss available, skipping.\n"
     ]
    },
    {
     "name": "stderr",
     "output_type": "stream",
     "text": [
      "WARNING:tensorflow:Can save best model only with val_loss available, skipping.\n"
     ]
    },
    {
     "name": "stdout",
     "output_type": "stream",
     "text": [
      "40/40 [==============================] - 20s 486ms/step - loss: 0.0130 - semantic_0_loss: 0.0024 - semantic_1_loss: 0.0090 - semantic_2_loss: 0.0016 - lr: 8.7752e-05\n",
      "Epoch 15/200\n",
      "40/40 [==============================] - ETA: 0s - loss: 0.0129 - semantic_0_loss: 0.0024 - semantic_1_loss: 0.0090 - semantic_2_loss: 0.0016WARNING:tensorflow:Can save best model only with val_loss available, skipping.\n"
     ]
    },
    {
     "name": "stderr",
     "output_type": "stream",
     "text": [
      "WARNING:tensorflow:Can save best model only with val_loss available, skipping.\n"
     ]
    },
    {
     "name": "stdout",
     "output_type": "stream",
     "text": [
      "40/40 [==============================] - 20s 487ms/step - loss: 0.0129 - semantic_0_loss: 0.0024 - semantic_1_loss: 0.0090 - semantic_2_loss: 0.0016 - lr: 8.6875e-05\n",
      "Epoch 16/200\n",
      "40/40 [==============================] - ETA: 0s - loss: 0.0130 - semantic_0_loss: 0.0024 - semantic_1_loss: 0.0090 - semantic_2_loss: 0.0016WARNING:tensorflow:Can save best model only with val_loss available, skipping.\n"
     ]
    },
    {
     "name": "stderr",
     "output_type": "stream",
     "text": [
      "WARNING:tensorflow:Can save best model only with val_loss available, skipping.\n"
     ]
    },
    {
     "name": "stdout",
     "output_type": "stream",
     "text": [
      "40/40 [==============================] - 20s 488ms/step - loss: 0.0130 - semantic_0_loss: 0.0024 - semantic_1_loss: 0.0090 - semantic_2_loss: 0.0016 - lr: 8.6006e-05\n",
      "Epoch 17/200\n",
      "40/40 [==============================] - ETA: 0s - loss: 0.0129 - semantic_0_loss: 0.0024 - semantic_1_loss: 0.0089 - semantic_2_loss: 0.0016WARNING:tensorflow:Can save best model only with val_loss available, skipping.\n"
     ]
    },
    {
     "name": "stderr",
     "output_type": "stream",
     "text": [
      "WARNING:tensorflow:Can save best model only with val_loss available, skipping.\n"
     ]
    },
    {
     "name": "stdout",
     "output_type": "stream",
     "text": [
      "40/40 [==============================] - 20s 495ms/step - loss: 0.0129 - semantic_0_loss: 0.0024 - semantic_1_loss: 0.0089 - semantic_2_loss: 0.0016 - lr: 8.5146e-05\n",
      "Epoch 18/200\n",
      "40/40 [==============================] - ETA: 0s - loss: 0.0127 - semantic_0_loss: 0.0024 - semantic_1_loss: 0.0088 - semantic_2_loss: 0.0015WARNING:tensorflow:Can save best model only with val_loss available, skipping.\n"
     ]
    },
    {
     "name": "stderr",
     "output_type": "stream",
     "text": [
      "WARNING:tensorflow:Can save best model only with val_loss available, skipping.\n"
     ]
    },
    {
     "name": "stdout",
     "output_type": "stream",
     "text": [
      "40/40 [==============================] - 20s 483ms/step - loss: 0.0127 - semantic_0_loss: 0.0024 - semantic_1_loss: 0.0088 - semantic_2_loss: 0.0015 - lr: 8.4294e-05\n",
      "Epoch 19/200\n",
      "40/40 [==============================] - ETA: 0s - loss: 0.0125 - semantic_0_loss: 0.0024 - semantic_1_loss: 0.0086 - semantic_2_loss: 0.0015WARNING:tensorflow:Can save best model only with val_loss available, skipping.\n"
     ]
    },
    {
     "name": "stderr",
     "output_type": "stream",
     "text": [
      "WARNING:tensorflow:Can save best model only with val_loss available, skipping.\n"
     ]
    },
    {
     "name": "stdout",
     "output_type": "stream",
     "text": [
      "40/40 [==============================] - 20s 487ms/step - loss: 0.0125 - semantic_0_loss: 0.0024 - semantic_1_loss: 0.0086 - semantic_2_loss: 0.0015 - lr: 8.3451e-05\n",
      "Epoch 20/200\n",
      "40/40 [==============================] - ETA: 0s - loss: 0.0125 - semantic_0_loss: 0.0024 - semantic_1_loss: 0.0086 - semantic_2_loss: 0.0015WARNING:tensorflow:Can save best model only with val_loss available, skipping.\n"
     ]
    },
    {
     "name": "stderr",
     "output_type": "stream",
     "text": [
      "WARNING:tensorflow:Can save best model only with val_loss available, skipping.\n"
     ]
    },
    {
     "name": "stdout",
     "output_type": "stream",
     "text": [
      "40/40 [==============================] - 20s 487ms/step - loss: 0.0125 - semantic_0_loss: 0.0024 - semantic_1_loss: 0.0086 - semantic_2_loss: 0.0015 - lr: 8.2617e-05\n",
      "Epoch 21/200\n",
      "40/40 [==============================] - ETA: 0s - loss: 0.0125 - semantic_0_loss: 0.0023 - semantic_1_loss: 0.0087 - semantic_2_loss: 0.0015WARNING:tensorflow:Can save best model only with val_loss available, skipping.\n"
     ]
    },
    {
     "name": "stderr",
     "output_type": "stream",
     "text": [
      "WARNING:tensorflow:Can save best model only with val_loss available, skipping.\n"
     ]
    },
    {
     "name": "stdout",
     "output_type": "stream",
     "text": [
      "40/40 [==============================] - 20s 484ms/step - loss: 0.0125 - semantic_0_loss: 0.0023 - semantic_1_loss: 0.0087 - semantic_2_loss: 0.0015 - lr: 8.1791e-05\n",
      "Epoch 22/200\n",
      "40/40 [==============================] - ETA: 0s - loss: 0.0124 - semantic_0_loss: 0.0023 - semantic_1_loss: 0.0085 - semantic_2_loss: 0.0015WARNING:tensorflow:Can save best model only with val_loss available, skipping.\n"
     ]
    },
    {
     "name": "stderr",
     "output_type": "stream",
     "text": [
      "WARNING:tensorflow:Can save best model only with val_loss available, skipping.\n"
     ]
    },
    {
     "name": "stdout",
     "output_type": "stream",
     "text": [
      "40/40 [==============================] - 20s 489ms/step - loss: 0.0124 - semantic_0_loss: 0.0023 - semantic_1_loss: 0.0085 - semantic_2_loss: 0.0015 - lr: 8.0973e-05\n",
      "Epoch 23/200\n",
      "40/40 [==============================] - ETA: 0s - loss: 0.0123 - semantic_0_loss: 0.0023 - semantic_1_loss: 0.0085 - semantic_2_loss: 0.0015WARNING:tensorflow:Can save best model only with val_loss available, skipping.\n"
     ]
    },
    {
     "name": "stderr",
     "output_type": "stream",
     "text": [
      "WARNING:tensorflow:Can save best model only with val_loss available, skipping.\n"
     ]
    },
    {
     "name": "stdout",
     "output_type": "stream",
     "text": [
      "40/40 [==============================] - 20s 485ms/step - loss: 0.0123 - semantic_0_loss: 0.0023 - semantic_1_loss: 0.0085 - semantic_2_loss: 0.0015 - lr: 8.0163e-05\n",
      "Epoch 24/200\n",
      "40/40 [==============================] - ETA: 0s - loss: 0.0121 - semantic_0_loss: 0.0023 - semantic_1_loss: 0.0083 - semantic_2_loss: 0.0015WARNING:tensorflow:Can save best model only with val_loss available, skipping.\n"
     ]
    },
    {
     "name": "stderr",
     "output_type": "stream",
     "text": [
      "WARNING:tensorflow:Can save best model only with val_loss available, skipping.\n"
     ]
    },
    {
     "name": "stdout",
     "output_type": "stream",
     "text": [
      "40/40 [==============================] - 19s 480ms/step - loss: 0.0121 - semantic_0_loss: 0.0023 - semantic_1_loss: 0.0083 - semantic_2_loss: 0.0015 - lr: 7.9361e-05\n",
      "Epoch 25/200\n",
      "40/40 [==============================] - ETA: 0s - loss: 0.0124 - semantic_0_loss: 0.0023 - semantic_1_loss: 0.0085 - semantic_2_loss: 0.0015WARNING:tensorflow:Can save best model only with val_loss available, skipping.\n"
     ]
    },
    {
     "name": "stderr",
     "output_type": "stream",
     "text": [
      "WARNING:tensorflow:Can save best model only with val_loss available, skipping.\n"
     ]
    },
    {
     "name": "stdout",
     "output_type": "stream",
     "text": [
      "40/40 [==============================] - 19s 476ms/step - loss: 0.0124 - semantic_0_loss: 0.0023 - semantic_1_loss: 0.0085 - semantic_2_loss: 0.0015 - lr: 7.8568e-05\n",
      "Epoch 26/200\n",
      "40/40 [==============================] - ETA: 0s - loss: 0.0124 - semantic_0_loss: 0.0024 - semantic_1_loss: 0.0085 - semantic_2_loss: 0.0015WARNING:tensorflow:Can save best model only with val_loss available, skipping.\n"
     ]
    },
    {
     "name": "stderr",
     "output_type": "stream",
     "text": [
      "WARNING:tensorflow:Can save best model only with val_loss available, skipping.\n"
     ]
    },
    {
     "name": "stdout",
     "output_type": "stream",
     "text": [
      "40/40 [==============================] - 20s 485ms/step - loss: 0.0124 - semantic_0_loss: 0.0024 - semantic_1_loss: 0.0085 - semantic_2_loss: 0.0015 - lr: 7.7782e-05\n",
      "Epoch 27/200\n",
      "40/40 [==============================] - ETA: 0s - loss: 0.0122 - semantic_0_loss: 0.0023 - semantic_1_loss: 0.0084 - semantic_2_loss: 0.0015WARNING:tensorflow:Can save best model only with val_loss available, skipping.\n"
     ]
    },
    {
     "name": "stderr",
     "output_type": "stream",
     "text": [
      "WARNING:tensorflow:Can save best model only with val_loss available, skipping.\n"
     ]
    },
    {
     "name": "stdout",
     "output_type": "stream",
     "text": [
      "40/40 [==============================] - 20s 482ms/step - loss: 0.0122 - semantic_0_loss: 0.0023 - semantic_1_loss: 0.0084 - semantic_2_loss: 0.0015 - lr: 7.7004e-05\n",
      "Epoch 28/200\n",
      "40/40 [==============================] - ETA: 0s - loss: 0.0119 - semantic_0_loss: 0.0023 - semantic_1_loss: 0.0082 - semantic_2_loss: 0.0015WARNING:tensorflow:Can save best model only with val_loss available, skipping.\n"
     ]
    },
    {
     "name": "stderr",
     "output_type": "stream",
     "text": [
      "WARNING:tensorflow:Can save best model only with val_loss available, skipping.\n"
     ]
    },
    {
     "name": "stdout",
     "output_type": "stream",
     "text": [
      "40/40 [==============================] - 20s 488ms/step - loss: 0.0119 - semantic_0_loss: 0.0023 - semantic_1_loss: 0.0082 - semantic_2_loss: 0.0015 - lr: 7.6234e-05\n",
      "Epoch 29/200\n",
      "40/40 [==============================] - ETA: 0s - loss: 0.0120 - semantic_0_loss: 0.0023 - semantic_1_loss: 0.0082 - semantic_2_loss: 0.0014WARNING:tensorflow:Can save best model only with val_loss available, skipping.\n"
     ]
    },
    {
     "name": "stderr",
     "output_type": "stream",
     "text": [
      "WARNING:tensorflow:Can save best model only with val_loss available, skipping.\n"
     ]
    },
    {
     "name": "stdout",
     "output_type": "stream",
     "text": [
      "40/40 [==============================] - 20s 484ms/step - loss: 0.0120 - semantic_0_loss: 0.0023 - semantic_1_loss: 0.0082 - semantic_2_loss: 0.0014 - lr: 7.5472e-05\n",
      "Epoch 30/200\n",
      "40/40 [==============================] - ETA: 0s - loss: 0.0121 - semantic_0_loss: 0.0023 - semantic_1_loss: 0.0083 - semantic_2_loss: 0.0015WARNING:tensorflow:Can save best model only with val_loss available, skipping.\n"
     ]
    },
    {
     "name": "stderr",
     "output_type": "stream",
     "text": [
      "WARNING:tensorflow:Can save best model only with val_loss available, skipping.\n"
     ]
    },
    {
     "name": "stdout",
     "output_type": "stream",
     "text": [
      "40/40 [==============================] - 19s 481ms/step - loss: 0.0121 - semantic_0_loss: 0.0023 - semantic_1_loss: 0.0083 - semantic_2_loss: 0.0015 - lr: 7.4717e-05\n",
      "Epoch 31/200\n",
      "40/40 [==============================] - ETA: 0s - loss: 0.0120 - semantic_0_loss: 0.0023 - semantic_1_loss: 0.0082 - semantic_2_loss: 0.0014WARNING:tensorflow:Can save best model only with val_loss available, skipping.\n"
     ]
    },
    {
     "name": "stderr",
     "output_type": "stream",
     "text": [
      "WARNING:tensorflow:Can save best model only with val_loss available, skipping.\n"
     ]
    },
    {
     "name": "stdout",
     "output_type": "stream",
     "text": [
      "40/40 [==============================] - 20s 487ms/step - loss: 0.0120 - semantic_0_loss: 0.0023 - semantic_1_loss: 0.0082 - semantic_2_loss: 0.0014 - lr: 7.3970e-05\n",
      "Epoch 32/200\n",
      "40/40 [==============================] - ETA: 0s - loss: 0.0119 - semantic_0_loss: 0.0023 - semantic_1_loss: 0.0082 - semantic_2_loss: 0.0015WARNING:tensorflow:Can save best model only with val_loss available, skipping.\n"
     ]
    },
    {
     "name": "stderr",
     "output_type": "stream",
     "text": [
      "WARNING:tensorflow:Can save best model only with val_loss available, skipping.\n"
     ]
    },
    {
     "name": "stdout",
     "output_type": "stream",
     "text": [
      "40/40 [==============================] - 19s 477ms/step - loss: 0.0119 - semantic_0_loss: 0.0023 - semantic_1_loss: 0.0082 - semantic_2_loss: 0.0015 - lr: 7.3230e-05\n",
      "Epoch 33/200\n",
      "40/40 [==============================] - ETA: 0s - loss: 0.0118 - semantic_0_loss: 0.0023 - semantic_1_loss: 0.0081 - semantic_2_loss: 0.0014WARNING:tensorflow:Can save best model only with val_loss available, skipping.\n"
     ]
    },
    {
     "name": "stderr",
     "output_type": "stream",
     "text": [
      "WARNING:tensorflow:Can save best model only with val_loss available, skipping.\n"
     ]
    },
    {
     "name": "stdout",
     "output_type": "stream",
     "text": [
      "40/40 [==============================] - 20s 496ms/step - loss: 0.0118 - semantic_0_loss: 0.0023 - semantic_1_loss: 0.0081 - semantic_2_loss: 0.0014 - lr: 7.2498e-05\n",
      "Epoch 34/200\n",
      "40/40 [==============================] - ETA: 0s - loss: 0.0118 - semantic_0_loss: 0.0023 - semantic_1_loss: 0.0080 - semantic_2_loss: 0.0014WARNING:tensorflow:Can save best model only with val_loss available, skipping.\n"
     ]
    },
    {
     "name": "stderr",
     "output_type": "stream",
     "text": [
      "WARNING:tensorflow:Can save best model only with val_loss available, skipping.\n"
     ]
    },
    {
     "name": "stdout",
     "output_type": "stream",
     "text": [
      "40/40 [==============================] - 20s 492ms/step - loss: 0.0118 - semantic_0_loss: 0.0023 - semantic_1_loss: 0.0080 - semantic_2_loss: 0.0014 - lr: 7.1773e-05\n",
      "Epoch 35/200\n",
      "40/40 [==============================] - ETA: 0s - loss: 0.0118 - semantic_0_loss: 0.0023 - semantic_1_loss: 0.0080 - semantic_2_loss: 0.0014WARNING:tensorflow:Can save best model only with val_loss available, skipping.\n"
     ]
    },
    {
     "name": "stderr",
     "output_type": "stream",
     "text": [
      "WARNING:tensorflow:Can save best model only with val_loss available, skipping.\n"
     ]
    },
    {
     "name": "stdout",
     "output_type": "stream",
     "text": [
      "40/40 [==============================] - 20s 484ms/step - loss: 0.0118 - semantic_0_loss: 0.0023 - semantic_1_loss: 0.0080 - semantic_2_loss: 0.0014 - lr: 7.1055e-05\n",
      "Epoch 36/200\n",
      "40/40 [==============================] - ETA: 0s - loss: 0.0118 - semantic_0_loss: 0.0023 - semantic_1_loss: 0.0081 - semantic_2_loss: 0.0014WARNING:tensorflow:Can save best model only with val_loss available, skipping.\n"
     ]
    },
    {
     "name": "stderr",
     "output_type": "stream",
     "text": [
      "WARNING:tensorflow:Can save best model only with val_loss available, skipping.\n"
     ]
    },
    {
     "name": "stdout",
     "output_type": "stream",
     "text": [
      "40/40 [==============================] - 19s 481ms/step - loss: 0.0118 - semantic_0_loss: 0.0023 - semantic_1_loss: 0.0081 - semantic_2_loss: 0.0014 - lr: 7.0345e-05\n",
      "Epoch 37/200\n",
      "40/40 [==============================] - ETA: 0s - loss: 0.0119 - semantic_0_loss: 0.0023 - semantic_1_loss: 0.0081 - semantic_2_loss: 0.0014WARNING:tensorflow:Can save best model only with val_loss available, skipping.\n"
     ]
    },
    {
     "name": "stderr",
     "output_type": "stream",
     "text": [
      "WARNING:tensorflow:Can save best model only with val_loss available, skipping.\n"
     ]
    },
    {
     "name": "stdout",
     "output_type": "stream",
     "text": [
      "40/40 [==============================] - 20s 486ms/step - loss: 0.0119 - semantic_0_loss: 0.0023 - semantic_1_loss: 0.0081 - semantic_2_loss: 0.0014 - lr: 6.9641e-05\n",
      "Epoch 38/200\n",
      "40/40 [==============================] - ETA: 0s - loss: 0.0117 - semantic_0_loss: 0.0023 - semantic_1_loss: 0.0080 - semantic_2_loss: 0.0014WARNING:tensorflow:Can save best model only with val_loss available, skipping.\n"
     ]
    },
    {
     "name": "stderr",
     "output_type": "stream",
     "text": [
      "WARNING:tensorflow:Can save best model only with val_loss available, skipping.\n"
     ]
    },
    {
     "name": "stdout",
     "output_type": "stream",
     "text": [
      "40/40 [==============================] - 20s 487ms/step - loss: 0.0117 - semantic_0_loss: 0.0023 - semantic_1_loss: 0.0080 - semantic_2_loss: 0.0014 - lr: 6.8945e-05\n",
      "Epoch 39/200\n",
      "40/40 [==============================] - ETA: 0s - loss: 0.0117 - semantic_0_loss: 0.0023 - semantic_1_loss: 0.0080 - semantic_2_loss: 0.0014WARNING:tensorflow:Can save best model only with val_loss available, skipping.\n"
     ]
    },
    {
     "name": "stderr",
     "output_type": "stream",
     "text": [
      "WARNING:tensorflow:Can save best model only with val_loss available, skipping.\n"
     ]
    },
    {
     "name": "stdout",
     "output_type": "stream",
     "text": [
      "40/40 [==============================] - 20s 493ms/step - loss: 0.0117 - semantic_0_loss: 0.0023 - semantic_1_loss: 0.0080 - semantic_2_loss: 0.0014 - lr: 6.8255e-05\n",
      "Epoch 40/200\n",
      "40/40 [==============================] - ETA: 0s - loss: 0.0115 - semantic_0_loss: 0.0023 - semantic_1_loss: 0.0078 - semantic_2_loss: 0.0014WARNING:tensorflow:Can save best model only with val_loss available, skipping.\n"
     ]
    },
    {
     "name": "stderr",
     "output_type": "stream",
     "text": [
      "WARNING:tensorflow:Can save best model only with val_loss available, skipping.\n"
     ]
    },
    {
     "name": "stdout",
     "output_type": "stream",
     "text": [
      "40/40 [==============================] - 20s 486ms/step - loss: 0.0115 - semantic_0_loss: 0.0023 - semantic_1_loss: 0.0078 - semantic_2_loss: 0.0014 - lr: 6.7573e-05\n",
      "Epoch 41/200\n",
      "40/40 [==============================] - ETA: 0s - loss: 0.0119 - semantic_0_loss: 0.0023 - semantic_1_loss: 0.0082 - semantic_2_loss: 0.0014WARNING:tensorflow:Can save best model only with val_loss available, skipping.\n"
     ]
    },
    {
     "name": "stderr",
     "output_type": "stream",
     "text": [
      "WARNING:tensorflow:Can save best model only with val_loss available, skipping.\n"
     ]
    },
    {
     "name": "stdout",
     "output_type": "stream",
     "text": [
      "40/40 [==============================] - 20s 485ms/step - loss: 0.0119 - semantic_0_loss: 0.0023 - semantic_1_loss: 0.0082 - semantic_2_loss: 0.0014 - lr: 6.6897e-05\n",
      "Epoch 42/200\n",
      "40/40 [==============================] - ETA: 0s - loss: 0.0114 - semantic_0_loss: 0.0022 - semantic_1_loss: 0.0077 - semantic_2_loss: 0.0014WARNING:tensorflow:Can save best model only with val_loss available, skipping.\n"
     ]
    },
    {
     "name": "stderr",
     "output_type": "stream",
     "text": [
      "WARNING:tensorflow:Can save best model only with val_loss available, skipping.\n"
     ]
    },
    {
     "name": "stdout",
     "output_type": "stream",
     "text": [
      "40/40 [==============================] - 20s 483ms/step - loss: 0.0114 - semantic_0_loss: 0.0022 - semantic_1_loss: 0.0077 - semantic_2_loss: 0.0014 - lr: 6.6228e-05\n",
      "Epoch 43/200\n",
      "40/40 [==============================] - ETA: 0s - loss: 0.0112 - semantic_0_loss: 0.0022 - semantic_1_loss: 0.0076 - semantic_2_loss: 0.0014WARNING:tensorflow:Can save best model only with val_loss available, skipping.\n"
     ]
    },
    {
     "name": "stderr",
     "output_type": "stream",
     "text": [
      "WARNING:tensorflow:Can save best model only with val_loss available, skipping.\n"
     ]
    },
    {
     "name": "stdout",
     "output_type": "stream",
     "text": [
      "40/40 [==============================] - 19s 481ms/step - loss: 0.0112 - semantic_0_loss: 0.0022 - semantic_1_loss: 0.0076 - semantic_2_loss: 0.0014 - lr: 6.5566e-05\n",
      "Epoch 44/200\n",
      "40/40 [==============================] - ETA: 0s - loss: 0.0116 - semantic_0_loss: 0.0023 - semantic_1_loss: 0.0079 - semantic_2_loss: 0.0014WARNING:tensorflow:Can save best model only with val_loss available, skipping.\n"
     ]
    },
    {
     "name": "stderr",
     "output_type": "stream",
     "text": [
      "WARNING:tensorflow:Can save best model only with val_loss available, skipping.\n"
     ]
    },
    {
     "name": "stdout",
     "output_type": "stream",
     "text": [
      "40/40 [==============================] - 20s 489ms/step - loss: 0.0116 - semantic_0_loss: 0.0023 - semantic_1_loss: 0.0079 - semantic_2_loss: 0.0014 - lr: 6.4910e-05\n",
      "Epoch 45/200\n",
      "40/40 [==============================] - ETA: 0s - loss: 0.0111 - semantic_0_loss: 0.0022 - semantic_1_loss: 0.0076 - semantic_2_loss: 0.0014WARNING:tensorflow:Can save best model only with val_loss available, skipping.\n"
     ]
    },
    {
     "name": "stderr",
     "output_type": "stream",
     "text": [
      "WARNING:tensorflow:Can save best model only with val_loss available, skipping.\n"
     ]
    },
    {
     "name": "stdout",
     "output_type": "stream",
     "text": [
      "40/40 [==============================] - 20s 486ms/step - loss: 0.0111 - semantic_0_loss: 0.0022 - semantic_1_loss: 0.0076 - semantic_2_loss: 0.0014 - lr: 6.4261e-05\n",
      "Epoch 46/200\n",
      "40/40 [==============================] - ETA: 0s - loss: 0.0119 - semantic_0_loss: 0.0023 - semantic_1_loss: 0.0082 - semantic_2_loss: 0.0014WARNING:tensorflow:Can save best model only with val_loss available, skipping.\n"
     ]
    },
    {
     "name": "stderr",
     "output_type": "stream",
     "text": [
      "WARNING:tensorflow:Can save best model only with val_loss available, skipping.\n"
     ]
    },
    {
     "name": "stdout",
     "output_type": "stream",
     "text": [
      "40/40 [==============================] - 20s 492ms/step - loss: 0.0119 - semantic_0_loss: 0.0023 - semantic_1_loss: 0.0082 - semantic_2_loss: 0.0014 - lr: 6.3619e-05\n",
      "Epoch 47/200\n",
      "40/40 [==============================] - ETA: 0s - loss: 0.0114 - semantic_0_loss: 0.0022 - semantic_1_loss: 0.0078 - semantic_2_loss: 0.0014WARNING:tensorflow:Can save best model only with val_loss available, skipping.\n"
     ]
    },
    {
     "name": "stderr",
     "output_type": "stream",
     "text": [
      "WARNING:tensorflow:Can save best model only with val_loss available, skipping.\n"
     ]
    },
    {
     "name": "stdout",
     "output_type": "stream",
     "text": [
      "40/40 [==============================] - 19s 482ms/step - loss: 0.0114 - semantic_0_loss: 0.0022 - semantic_1_loss: 0.0078 - semantic_2_loss: 0.0014 - lr: 6.2982e-05\n",
      "Epoch 48/200\n",
      "40/40 [==============================] - ETA: 0s - loss: 0.0111 - semantic_0_loss: 0.0022 - semantic_1_loss: 0.0076 - semantic_2_loss: 0.0014WARNING:tensorflow:Can save best model only with val_loss available, skipping.\n"
     ]
    },
    {
     "name": "stderr",
     "output_type": "stream",
     "text": [
      "WARNING:tensorflow:Can save best model only with val_loss available, skipping.\n"
     ]
    },
    {
     "name": "stdout",
     "output_type": "stream",
     "text": [
      "40/40 [==============================] - 20s 484ms/step - loss: 0.0111 - semantic_0_loss: 0.0022 - semantic_1_loss: 0.0076 - semantic_2_loss: 0.0014 - lr: 6.2353e-05\n",
      "Epoch 49/200\n",
      "40/40 [==============================] - ETA: 0s - loss: 0.0113 - semantic_0_loss: 0.0022 - semantic_1_loss: 0.0076 - semantic_2_loss: 0.0014WARNING:tensorflow:Can save best model only with val_loss available, skipping.\n"
     ]
    },
    {
     "name": "stderr",
     "output_type": "stream",
     "text": [
      "WARNING:tensorflow:Can save best model only with val_loss available, skipping.\n"
     ]
    },
    {
     "name": "stdout",
     "output_type": "stream",
     "text": [
      "40/40 [==============================] - 20s 495ms/step - loss: 0.0113 - semantic_0_loss: 0.0022 - semantic_1_loss: 0.0076 - semantic_2_loss: 0.0014 - lr: 6.1729e-05\n",
      "Epoch 50/200\n",
      "40/40 [==============================] - ETA: 0s - loss: 0.0113 - semantic_0_loss: 0.0023 - semantic_1_loss: 0.0077 - semantic_2_loss: 0.0014WARNING:tensorflow:Can save best model only with val_loss available, skipping.\n"
     ]
    },
    {
     "name": "stderr",
     "output_type": "stream",
     "text": [
      "WARNING:tensorflow:Can save best model only with val_loss available, skipping.\n"
     ]
    },
    {
     "name": "stdout",
     "output_type": "stream",
     "text": [
      "40/40 [==============================] - 19s 478ms/step - loss: 0.0113 - semantic_0_loss: 0.0023 - semantic_1_loss: 0.0077 - semantic_2_loss: 0.0014 - lr: 6.1112e-05\n",
      "Epoch 51/200\n",
      "40/40 [==============================] - ETA: 0s - loss: 0.0110 - semantic_0_loss: 0.0022 - semantic_1_loss: 0.0074 - semantic_2_loss: 0.0014WARNING:tensorflow:Can save best model only with val_loss available, skipping.\n"
     ]
    },
    {
     "name": "stderr",
     "output_type": "stream",
     "text": [
      "WARNING:tensorflow:Can save best model only with val_loss available, skipping.\n"
     ]
    },
    {
     "name": "stdout",
     "output_type": "stream",
     "text": [
      "40/40 [==============================] - 20s 488ms/step - loss: 0.0110 - semantic_0_loss: 0.0022 - semantic_1_loss: 0.0074 - semantic_2_loss: 0.0014 - lr: 6.0501e-05\n",
      "Epoch 52/200\n",
      "40/40 [==============================] - ETA: 0s - loss: 0.0110 - semantic_0_loss: 0.0022 - semantic_1_loss: 0.0075 - semantic_2_loss: 0.0014WARNING:tensorflow:Can save best model only with val_loss available, skipping.\n"
     ]
    },
    {
     "name": "stderr",
     "output_type": "stream",
     "text": [
      "WARNING:tensorflow:Can save best model only with val_loss available, skipping.\n"
     ]
    },
    {
     "name": "stdout",
     "output_type": "stream",
     "text": [
      "40/40 [==============================] - 20s 488ms/step - loss: 0.0110 - semantic_0_loss: 0.0022 - semantic_1_loss: 0.0075 - semantic_2_loss: 0.0014 - lr: 5.9896e-05\n",
      "Epoch 53/200\n",
      "40/40 [==============================] - ETA: 0s - loss: 0.0111 - semantic_0_loss: 0.0022 - semantic_1_loss: 0.0075 - semantic_2_loss: 0.0014WARNING:tensorflow:Can save best model only with val_loss available, skipping.\n"
     ]
    },
    {
     "name": "stderr",
     "output_type": "stream",
     "text": [
      "WARNING:tensorflow:Can save best model only with val_loss available, skipping.\n"
     ]
    },
    {
     "name": "stdout",
     "output_type": "stream",
     "text": [
      "40/40 [==============================] - 19s 475ms/step - loss: 0.0111 - semantic_0_loss: 0.0022 - semantic_1_loss: 0.0075 - semantic_2_loss: 0.0014 - lr: 5.9297e-05\n",
      "Epoch 54/200\n",
      "40/40 [==============================] - ETA: 0s - loss: 0.0109 - semantic_0_loss: 0.0022 - semantic_1_loss: 0.0074 - semantic_2_loss: 0.0013WARNING:tensorflow:Can save best model only with val_loss available, skipping.\n"
     ]
    },
    {
     "name": "stderr",
     "output_type": "stream",
     "text": [
      "WARNING:tensorflow:Can save best model only with val_loss available, skipping.\n"
     ]
    },
    {
     "name": "stdout",
     "output_type": "stream",
     "text": [
      "40/40 [==============================] - 20s 485ms/step - loss: 0.0109 - semantic_0_loss: 0.0022 - semantic_1_loss: 0.0074 - semantic_2_loss: 0.0013 - lr: 5.8704e-05\n",
      "Epoch 55/200\n",
      "40/40 [==============================] - ETA: 0s - loss: 0.0109 - semantic_0_loss: 0.0022 - semantic_1_loss: 0.0074 - semantic_2_loss: 0.0014WARNING:tensorflow:Can save best model only with val_loss available, skipping.\n"
     ]
    },
    {
     "name": "stderr",
     "output_type": "stream",
     "text": [
      "WARNING:tensorflow:Can save best model only with val_loss available, skipping.\n"
     ]
    },
    {
     "name": "stdout",
     "output_type": "stream",
     "text": [
      "40/40 [==============================] - 20s 486ms/step - loss: 0.0109 - semantic_0_loss: 0.0022 - semantic_1_loss: 0.0074 - semantic_2_loss: 0.0014 - lr: 5.8117e-05\n",
      "Epoch 56/200\n",
      "40/40 [==============================] - ETA: 0s - loss: 0.0112 - semantic_0_loss: 0.0023 - semantic_1_loss: 0.0076 - semantic_2_loss: 0.0014WARNING:tensorflow:Can save best model only with val_loss available, skipping.\n"
     ]
    },
    {
     "name": "stderr",
     "output_type": "stream",
     "text": [
      "WARNING:tensorflow:Can save best model only with val_loss available, skipping.\n"
     ]
    },
    {
     "name": "stdout",
     "output_type": "stream",
     "text": [
      "40/40 [==============================] - 20s 483ms/step - loss: 0.0112 - semantic_0_loss: 0.0023 - semantic_1_loss: 0.0076 - semantic_2_loss: 0.0014 - lr: 5.7535e-05\n",
      "Epoch 57/200\n",
      "40/40 [==============================] - ETA: 0s - loss: 0.0108 - semantic_0_loss: 0.0022 - semantic_1_loss: 0.0073 - semantic_2_loss: 0.0013WARNING:tensorflow:Can save best model only with val_loss available, skipping.\n"
     ]
    },
    {
     "name": "stderr",
     "output_type": "stream",
     "text": [
      "WARNING:tensorflow:Can save best model only with val_loss available, skipping.\n"
     ]
    },
    {
     "name": "stdout",
     "output_type": "stream",
     "text": [
      "40/40 [==============================] - 20s 495ms/step - loss: 0.0108 - semantic_0_loss: 0.0022 - semantic_1_loss: 0.0073 - semantic_2_loss: 0.0013 - lr: 5.6960e-05\n",
      "Epoch 58/200\n",
      "40/40 [==============================] - ETA: 0s - loss: 0.0111 - semantic_0_loss: 0.0022 - semantic_1_loss: 0.0075 - semantic_2_loss: 0.0014WARNING:tensorflow:Can save best model only with val_loss available, skipping.\n"
     ]
    },
    {
     "name": "stderr",
     "output_type": "stream",
     "text": [
      "WARNING:tensorflow:Can save best model only with val_loss available, skipping.\n"
     ]
    },
    {
     "name": "stdout",
     "output_type": "stream",
     "text": [
      "40/40 [==============================] - 20s 486ms/step - loss: 0.0111 - semantic_0_loss: 0.0022 - semantic_1_loss: 0.0075 - semantic_2_loss: 0.0014 - lr: 5.6391e-05\n",
      "Epoch 59/200\n",
      "40/40 [==============================] - ETA: 0s - loss: 0.0111 - semantic_0_loss: 0.0022 - semantic_1_loss: 0.0075 - semantic_2_loss: 0.0014WARNING:tensorflow:Can save best model only with val_loss available, skipping.\n"
     ]
    },
    {
     "name": "stderr",
     "output_type": "stream",
     "text": [
      "WARNING:tensorflow:Can save best model only with val_loss available, skipping.\n"
     ]
    },
    {
     "name": "stdout",
     "output_type": "stream",
     "text": [
      "40/40 [==============================] - 20s 486ms/step - loss: 0.0111 - semantic_0_loss: 0.0022 - semantic_1_loss: 0.0075 - semantic_2_loss: 0.0014 - lr: 5.5827e-05\n",
      "Epoch 60/200\n",
      "40/40 [==============================] - ETA: 0s - loss: 0.0109 - semantic_0_loss: 0.0022 - semantic_1_loss: 0.0073 - semantic_2_loss: 0.0013WARNING:tensorflow:Can save best model only with val_loss available, skipping.\n"
     ]
    },
    {
     "name": "stderr",
     "output_type": "stream",
     "text": [
      "WARNING:tensorflow:Can save best model only with val_loss available, skipping.\n"
     ]
    },
    {
     "name": "stdout",
     "output_type": "stream",
     "text": [
      "40/40 [==============================] - 20s 486ms/step - loss: 0.0109 - semantic_0_loss: 0.0022 - semantic_1_loss: 0.0073 - semantic_2_loss: 0.0013 - lr: 5.5268e-05\n",
      "Epoch 61/200\n",
      "40/40 [==============================] - ETA: 0s - loss: 0.0110 - semantic_0_loss: 0.0022 - semantic_1_loss: 0.0075 - semantic_2_loss: 0.0014WARNING:tensorflow:Can save best model only with val_loss available, skipping.\n"
     ]
    },
    {
     "name": "stderr",
     "output_type": "stream",
     "text": [
      "WARNING:tensorflow:Can save best model only with val_loss available, skipping.\n"
     ]
    },
    {
     "name": "stdout",
     "output_type": "stream",
     "text": [
      "40/40 [==============================] - 20s 500ms/step - loss: 0.0110 - semantic_0_loss: 0.0022 - semantic_1_loss: 0.0075 - semantic_2_loss: 0.0014 - lr: 5.4716e-05\n",
      "Epoch 62/200\n",
      "40/40 [==============================] - ETA: 0s - loss: 0.0107 - semantic_0_loss: 0.0022 - semantic_1_loss: 0.0072 - semantic_2_loss: 0.0013WARNING:tensorflow:Can save best model only with val_loss available, skipping.\n"
     ]
    },
    {
     "name": "stderr",
     "output_type": "stream",
     "text": [
      "WARNING:tensorflow:Can save best model only with val_loss available, skipping.\n"
     ]
    },
    {
     "name": "stdout",
     "output_type": "stream",
     "text": [
      "40/40 [==============================] - 20s 489ms/step - loss: 0.0107 - semantic_0_loss: 0.0022 - semantic_1_loss: 0.0072 - semantic_2_loss: 0.0013 - lr: 5.4169e-05\n",
      "Epoch 63/200\n",
      "40/40 [==============================] - ETA: 0s - loss: 0.0109 - semantic_0_loss: 0.0022 - semantic_1_loss: 0.0074 - semantic_2_loss: 0.0013WARNING:tensorflow:Can save best model only with val_loss available, skipping.\n"
     ]
    },
    {
     "name": "stderr",
     "output_type": "stream",
     "text": [
      "WARNING:tensorflow:Can save best model only with val_loss available, skipping.\n"
     ]
    },
    {
     "name": "stdout",
     "output_type": "stream",
     "text": [
      "40/40 [==============================] - 20s 487ms/step - loss: 0.0109 - semantic_0_loss: 0.0022 - semantic_1_loss: 0.0074 - semantic_2_loss: 0.0013 - lr: 5.3627e-05\n",
      "Epoch 64/200\n",
      "40/40 [==============================] - ETA: 0s - loss: 0.0109 - semantic_0_loss: 0.0022 - semantic_1_loss: 0.0073 - semantic_2_loss: 0.0014WARNING:tensorflow:Can save best model only with val_loss available, skipping.\n"
     ]
    },
    {
     "name": "stderr",
     "output_type": "stream",
     "text": [
      "WARNING:tensorflow:Can save best model only with val_loss available, skipping.\n"
     ]
    },
    {
     "name": "stdout",
     "output_type": "stream",
     "text": [
      "40/40 [==============================] - 20s 482ms/step - loss: 0.0109 - semantic_0_loss: 0.0022 - semantic_1_loss: 0.0073 - semantic_2_loss: 0.0014 - lr: 5.3091e-05\n",
      "Epoch 65/200\n",
      "40/40 [==============================] - ETA: 0s - loss: 0.0109 - semantic_0_loss: 0.0022 - semantic_1_loss: 0.0074 - semantic_2_loss: 0.0013WARNING:tensorflow:Can save best model only with val_loss available, skipping.\n"
     ]
    },
    {
     "name": "stderr",
     "output_type": "stream",
     "text": [
      "WARNING:tensorflow:Can save best model only with val_loss available, skipping.\n"
     ]
    },
    {
     "name": "stdout",
     "output_type": "stream",
     "text": [
      "40/40 [==============================] - 20s 491ms/step - loss: 0.0109 - semantic_0_loss: 0.0022 - semantic_1_loss: 0.0074 - semantic_2_loss: 0.0013 - lr: 5.2560e-05\n",
      "Epoch 66/200\n",
      "40/40 [==============================] - ETA: 0s - loss: 0.0109 - semantic_0_loss: 0.0022 - semantic_1_loss: 0.0073 - semantic_2_loss: 0.0013WARNING:tensorflow:Can save best model only with val_loss available, skipping.\n"
     ]
    },
    {
     "name": "stderr",
     "output_type": "stream",
     "text": [
      "WARNING:tensorflow:Can save best model only with val_loss available, skipping.\n"
     ]
    },
    {
     "name": "stdout",
     "output_type": "stream",
     "text": [
      "40/40 [==============================] - 20s 495ms/step - loss: 0.0109 - semantic_0_loss: 0.0022 - semantic_1_loss: 0.0073 - semantic_2_loss: 0.0013 - lr: 5.2034e-05\n",
      "Epoch 67/200\n",
      "40/40 [==============================] - ETA: 0s - loss: 0.0106 - semantic_0_loss: 0.0022 - semantic_1_loss: 0.0071 - semantic_2_loss: 0.0013WARNING:tensorflow:Can save best model only with val_loss available, skipping.\n"
     ]
    },
    {
     "name": "stderr",
     "output_type": "stream",
     "text": [
      "WARNING:tensorflow:Can save best model only with val_loss available, skipping.\n"
     ]
    },
    {
     "name": "stdout",
     "output_type": "stream",
     "text": [
      "40/40 [==============================] - 19s 481ms/step - loss: 0.0106 - semantic_0_loss: 0.0022 - semantic_1_loss: 0.0071 - semantic_2_loss: 0.0013 - lr: 5.1514e-05\n",
      "Epoch 68/200\n",
      "40/40 [==============================] - ETA: 0s - loss: 0.0108 - semantic_0_loss: 0.0022 - semantic_1_loss: 0.0072 - semantic_2_loss: 0.0013WARNING:tensorflow:Can save best model only with val_loss available, skipping.\n"
     ]
    },
    {
     "name": "stderr",
     "output_type": "stream",
     "text": [
      "WARNING:tensorflow:Can save best model only with val_loss available, skipping.\n"
     ]
    },
    {
     "name": "stdout",
     "output_type": "stream",
     "text": [
      "40/40 [==============================] - 20s 487ms/step - loss: 0.0108 - semantic_0_loss: 0.0022 - semantic_1_loss: 0.0072 - semantic_2_loss: 0.0013 - lr: 5.0999e-05\n",
      "Epoch 69/200\n",
      "40/40 [==============================] - ETA: 0s - loss: 0.0107 - semantic_0_loss: 0.0022 - semantic_1_loss: 0.0072 - semantic_2_loss: 0.0013WARNING:tensorflow:Can save best model only with val_loss available, skipping.\n"
     ]
    },
    {
     "name": "stderr",
     "output_type": "stream",
     "text": [
      "WARNING:tensorflow:Can save best model only with val_loss available, skipping.\n"
     ]
    },
    {
     "name": "stdout",
     "output_type": "stream",
     "text": [
      "40/40 [==============================] - 19s 482ms/step - loss: 0.0107 - semantic_0_loss: 0.0022 - semantic_1_loss: 0.0072 - semantic_2_loss: 0.0013 - lr: 5.0489e-05\n",
      "Epoch 70/200\n",
      "40/40 [==============================] - ETA: 0s - loss: 0.0109 - semantic_0_loss: 0.0022 - semantic_1_loss: 0.0073 - semantic_2_loss: 0.0013WARNING:tensorflow:Can save best model only with val_loss available, skipping.\n"
     ]
    },
    {
     "name": "stderr",
     "output_type": "stream",
     "text": [
      "WARNING:tensorflow:Can save best model only with val_loss available, skipping.\n"
     ]
    },
    {
     "name": "stdout",
     "output_type": "stream",
     "text": [
      "40/40 [==============================] - 20s 485ms/step - loss: 0.0109 - semantic_0_loss: 0.0022 - semantic_1_loss: 0.0073 - semantic_2_loss: 0.0013 - lr: 4.9984e-05\n",
      "Epoch 71/200\n",
      "40/40 [==============================] - ETA: 0s - loss: 0.0105 - semantic_0_loss: 0.0022 - semantic_1_loss: 0.0071 - semantic_2_loss: 0.0013WARNING:tensorflow:Can save best model only with val_loss available, skipping.\n"
     ]
    },
    {
     "name": "stderr",
     "output_type": "stream",
     "text": [
      "WARNING:tensorflow:Can save best model only with val_loss available, skipping.\n"
     ]
    },
    {
     "name": "stdout",
     "output_type": "stream",
     "text": [
      "40/40 [==============================] - 20s 491ms/step - loss: 0.0105 - semantic_0_loss: 0.0022 - semantic_1_loss: 0.0071 - semantic_2_loss: 0.0013 - lr: 4.9484e-05\n",
      "Epoch 72/200\n",
      "40/40 [==============================] - ETA: 0s - loss: 0.0106 - semantic_0_loss: 0.0022 - semantic_1_loss: 0.0071 - semantic_2_loss: 0.0013WARNING:tensorflow:Can save best model only with val_loss available, skipping.\n"
     ]
    },
    {
     "name": "stderr",
     "output_type": "stream",
     "text": [
      "WARNING:tensorflow:Can save best model only with val_loss available, skipping.\n"
     ]
    },
    {
     "name": "stdout",
     "output_type": "stream",
     "text": [
      "40/40 [==============================] - 20s 485ms/step - loss: 0.0106 - semantic_0_loss: 0.0022 - semantic_1_loss: 0.0071 - semantic_2_loss: 0.0013 - lr: 4.8989e-05\n",
      "Epoch 73/200\n",
      "40/40 [==============================] - ETA: 0s - loss: 0.0106 - semantic_0_loss: 0.0022 - semantic_1_loss: 0.0071 - semantic_2_loss: 0.0013WARNING:tensorflow:Can save best model only with val_loss available, skipping.\n"
     ]
    },
    {
     "name": "stderr",
     "output_type": "stream",
     "text": [
      "WARNING:tensorflow:Can save best model only with val_loss available, skipping.\n"
     ]
    },
    {
     "name": "stdout",
     "output_type": "stream",
     "text": [
      "40/40 [==============================] - 20s 488ms/step - loss: 0.0106 - semantic_0_loss: 0.0022 - semantic_1_loss: 0.0071 - semantic_2_loss: 0.0013 - lr: 4.8499e-05\n",
      "Epoch 74/200\n",
      "40/40 [==============================] - ETA: 0s - loss: 0.0105 - semantic_0_loss: 0.0021 - semantic_1_loss: 0.0070 - semantic_2_loss: 0.0013WARNING:tensorflow:Can save best model only with val_loss available, skipping.\n"
     ]
    },
    {
     "name": "stderr",
     "output_type": "stream",
     "text": [
      "WARNING:tensorflow:Can save best model only with val_loss available, skipping.\n"
     ]
    },
    {
     "name": "stdout",
     "output_type": "stream",
     "text": [
      "40/40 [==============================] - 19s 479ms/step - loss: 0.0105 - semantic_0_loss: 0.0021 - semantic_1_loss: 0.0070 - semantic_2_loss: 0.0013 - lr: 4.8014e-05\n",
      "Epoch 75/200\n",
      "40/40 [==============================] - ETA: 0s - loss: 0.0105 - semantic_0_loss: 0.0022 - semantic_1_loss: 0.0070 - semantic_2_loss: 0.0013WARNING:tensorflow:Can save best model only with val_loss available, skipping.\n"
     ]
    },
    {
     "name": "stderr",
     "output_type": "stream",
     "text": [
      "WARNING:tensorflow:Can save best model only with val_loss available, skipping.\n"
     ]
    },
    {
     "name": "stdout",
     "output_type": "stream",
     "text": [
      "40/40 [==============================] - 20s 485ms/step - loss: 0.0105 - semantic_0_loss: 0.0022 - semantic_1_loss: 0.0070 - semantic_2_loss: 0.0013 - lr: 4.7534e-05\n",
      "Epoch 76/200\n",
      "40/40 [==============================] - ETA: 0s - loss: 0.0103 - semantic_0_loss: 0.0021 - semantic_1_loss: 0.0069 - semantic_2_loss: 0.0013WARNING:tensorflow:Can save best model only with val_loss available, skipping.\n"
     ]
    },
    {
     "name": "stderr",
     "output_type": "stream",
     "text": [
      "WARNING:tensorflow:Can save best model only with val_loss available, skipping.\n"
     ]
    },
    {
     "name": "stdout",
     "output_type": "stream",
     "text": [
      "40/40 [==============================] - 20s 485ms/step - loss: 0.0103 - semantic_0_loss: 0.0021 - semantic_1_loss: 0.0069 - semantic_2_loss: 0.0013 - lr: 4.7059e-05\n",
      "Epoch 77/200\n",
      "40/40 [==============================] - ETA: 0s - loss: 0.0104 - semantic_0_loss: 0.0022 - semantic_1_loss: 0.0070 - semantic_2_loss: 0.0013WARNING:tensorflow:Can save best model only with val_loss available, skipping.\n"
     ]
    },
    {
     "name": "stderr",
     "output_type": "stream",
     "text": [
      "WARNING:tensorflow:Can save best model only with val_loss available, skipping.\n"
     ]
    },
    {
     "name": "stdout",
     "output_type": "stream",
     "text": [
      "40/40 [==============================] - 20s 483ms/step - loss: 0.0104 - semantic_0_loss: 0.0022 - semantic_1_loss: 0.0070 - semantic_2_loss: 0.0013 - lr: 4.6588e-05\n",
      "Epoch 78/200\n",
      "40/40 [==============================] - ETA: 0s - loss: 0.0104 - semantic_0_loss: 0.0022 - semantic_1_loss: 0.0069 - semantic_2_loss: 0.0013WARNING:tensorflow:Can save best model only with val_loss available, skipping.\n"
     ]
    },
    {
     "name": "stderr",
     "output_type": "stream",
     "text": [
      "WARNING:tensorflow:Can save best model only with val_loss available, skipping.\n"
     ]
    },
    {
     "name": "stdout",
     "output_type": "stream",
     "text": [
      "40/40 [==============================] - 19s 482ms/step - loss: 0.0104 - semantic_0_loss: 0.0022 - semantic_1_loss: 0.0069 - semantic_2_loss: 0.0013 - lr: 4.6122e-05\n",
      "Epoch 79/200\n",
      "40/40 [==============================] - ETA: 0s - loss: 0.0104 - semantic_0_loss: 0.0021 - semantic_1_loss: 0.0070 - semantic_2_loss: 0.0013WARNING:tensorflow:Can save best model only with val_loss available, skipping.\n"
     ]
    },
    {
     "name": "stderr",
     "output_type": "stream",
     "text": [
      "WARNING:tensorflow:Can save best model only with val_loss available, skipping.\n"
     ]
    },
    {
     "name": "stdout",
     "output_type": "stream",
     "text": [
      "40/40 [==============================] - 20s 485ms/step - loss: 0.0104 - semantic_0_loss: 0.0021 - semantic_1_loss: 0.0070 - semantic_2_loss: 0.0013 - lr: 4.5661e-05\n",
      "Epoch 80/200\n",
      "40/40 [==============================] - ETA: 0s - loss: 0.0104 - semantic_0_loss: 0.0022 - semantic_1_loss: 0.0069 - semantic_2_loss: 0.0013WARNING:tensorflow:Can save best model only with val_loss available, skipping.\n"
     ]
    },
    {
     "name": "stderr",
     "output_type": "stream",
     "text": [
      "WARNING:tensorflow:Can save best model only with val_loss available, skipping.\n"
     ]
    },
    {
     "name": "stdout",
     "output_type": "stream",
     "text": [
      "40/40 [==============================] - 20s 489ms/step - loss: 0.0104 - semantic_0_loss: 0.0022 - semantic_1_loss: 0.0069 - semantic_2_loss: 0.0013 - lr: 4.5204e-05\n",
      "Epoch 81/200\n",
      "40/40 [==============================] - ETA: 0s - loss: 0.0103 - semantic_0_loss: 0.0022 - semantic_1_loss: 0.0069 - semantic_2_loss: 0.0013WARNING:tensorflow:Can save best model only with val_loss available, skipping.\n"
     ]
    },
    {
     "name": "stderr",
     "output_type": "stream",
     "text": [
      "WARNING:tensorflow:Can save best model only with val_loss available, skipping.\n"
     ]
    },
    {
     "name": "stdout",
     "output_type": "stream",
     "text": [
      "40/40 [==============================] - 19s 481ms/step - loss: 0.0103 - semantic_0_loss: 0.0022 - semantic_1_loss: 0.0069 - semantic_2_loss: 0.0013 - lr: 4.4752e-05\n",
      "Epoch 82/200\n",
      "40/40 [==============================] - ETA: 0s - loss: 0.0102 - semantic_0_loss: 0.0021 - semantic_1_loss: 0.0068 - semantic_2_loss: 0.0013WARNING:tensorflow:Can save best model only with val_loss available, skipping.\n"
     ]
    },
    {
     "name": "stderr",
     "output_type": "stream",
     "text": [
      "WARNING:tensorflow:Can save best model only with val_loss available, skipping.\n"
     ]
    },
    {
     "name": "stdout",
     "output_type": "stream",
     "text": [
      "40/40 [==============================] - 20s 487ms/step - loss: 0.0102 - semantic_0_loss: 0.0021 - semantic_1_loss: 0.0068 - semantic_2_loss: 0.0013 - lr: 4.4305e-05\n",
      "Epoch 83/200\n",
      "40/40 [==============================] - ETA: 0s - loss: 0.0103 - semantic_0_loss: 0.0021 - semantic_1_loss: 0.0069 - semantic_2_loss: 0.0013WARNING:tensorflow:Can save best model only with val_loss available, skipping.\n"
     ]
    },
    {
     "name": "stderr",
     "output_type": "stream",
     "text": [
      "WARNING:tensorflow:Can save best model only with val_loss available, skipping.\n"
     ]
    },
    {
     "name": "stdout",
     "output_type": "stream",
     "text": [
      "40/40 [==============================] - 20s 487ms/step - loss: 0.0103 - semantic_0_loss: 0.0021 - semantic_1_loss: 0.0069 - semantic_2_loss: 0.0013 - lr: 4.3862e-05\n",
      "Epoch 84/200\n",
      "40/40 [==============================] - ETA: 0s - loss: 0.0104 - semantic_0_loss: 0.0021 - semantic_1_loss: 0.0069 - semantic_2_loss: 0.0013WARNING:tensorflow:Can save best model only with val_loss available, skipping.\n"
     ]
    },
    {
     "name": "stderr",
     "output_type": "stream",
     "text": [
      "WARNING:tensorflow:Can save best model only with val_loss available, skipping.\n"
     ]
    },
    {
     "name": "stdout",
     "output_type": "stream",
     "text": [
      "40/40 [==============================] - 20s 487ms/step - loss: 0.0104 - semantic_0_loss: 0.0021 - semantic_1_loss: 0.0069 - semantic_2_loss: 0.0013 - lr: 4.3423e-05\n",
      "Epoch 85/200\n",
      "40/40 [==============================] - ETA: 0s - loss: 0.0103 - semantic_0_loss: 0.0021 - semantic_1_loss: 0.0069 - semantic_2_loss: 0.0013WARNING:tensorflow:Can save best model only with val_loss available, skipping.\n"
     ]
    },
    {
     "name": "stderr",
     "output_type": "stream",
     "text": [
      "WARNING:tensorflow:Can save best model only with val_loss available, skipping.\n"
     ]
    },
    {
     "name": "stdout",
     "output_type": "stream",
     "text": [
      "40/40 [==============================] - 20s 487ms/step - loss: 0.0103 - semantic_0_loss: 0.0021 - semantic_1_loss: 0.0069 - semantic_2_loss: 0.0013 - lr: 4.2989e-05\n",
      "Epoch 86/200\n",
      "40/40 [==============================] - ETA: 0s - loss: 0.0101 - semantic_0_loss: 0.0021 - semantic_1_loss: 0.0068 - semantic_2_loss: 0.0013WARNING:tensorflow:Can save best model only with val_loss available, skipping.\n"
     ]
    },
    {
     "name": "stderr",
     "output_type": "stream",
     "text": [
      "WARNING:tensorflow:Can save best model only with val_loss available, skipping.\n"
     ]
    },
    {
     "name": "stdout",
     "output_type": "stream",
     "text": [
      "40/40 [==============================] - 20s 498ms/step - loss: 0.0101 - semantic_0_loss: 0.0021 - semantic_1_loss: 0.0068 - semantic_2_loss: 0.0013 - lr: 4.2559e-05\n",
      "Epoch 87/200\n",
      "40/40 [==============================] - ETA: 0s - loss: 0.0102 - semantic_0_loss: 0.0021 - semantic_1_loss: 0.0068 - semantic_2_loss: 0.0013WARNING:tensorflow:Can save best model only with val_loss available, skipping.\n"
     ]
    },
    {
     "name": "stderr",
     "output_type": "stream",
     "text": [
      "WARNING:tensorflow:Can save best model only with val_loss available, skipping.\n"
     ]
    },
    {
     "name": "stdout",
     "output_type": "stream",
     "text": [
      "40/40 [==============================] - 20s 489ms/step - loss: 0.0102 - semantic_0_loss: 0.0021 - semantic_1_loss: 0.0068 - semantic_2_loss: 0.0013 - lr: 4.2133e-05\n",
      "Epoch 88/200\n",
      "40/40 [==============================] - ETA: 0s - loss: 0.0102 - semantic_0_loss: 0.0021 - semantic_1_loss: 0.0068 - semantic_2_loss: 0.0013WARNING:tensorflow:Can save best model only with val_loss available, skipping.\n"
     ]
    },
    {
     "name": "stderr",
     "output_type": "stream",
     "text": [
      "WARNING:tensorflow:Can save best model only with val_loss available, skipping.\n"
     ]
    },
    {
     "name": "stdout",
     "output_type": "stream",
     "text": [
      "40/40 [==============================] - 20s 486ms/step - loss: 0.0102 - semantic_0_loss: 0.0021 - semantic_1_loss: 0.0068 - semantic_2_loss: 0.0013 - lr: 4.1712e-05\n",
      "Epoch 89/200\n",
      "40/40 [==============================] - ETA: 0s - loss: 0.0102 - semantic_0_loss: 0.0021 - semantic_1_loss: 0.0068 - semantic_2_loss: 0.0013WARNING:tensorflow:Can save best model only with val_loss available, skipping.\n"
     ]
    },
    {
     "name": "stderr",
     "output_type": "stream",
     "text": [
      "WARNING:tensorflow:Can save best model only with val_loss available, skipping.\n"
     ]
    },
    {
     "name": "stdout",
     "output_type": "stream",
     "text": [
      "40/40 [==============================] - 20s 490ms/step - loss: 0.0102 - semantic_0_loss: 0.0021 - semantic_1_loss: 0.0068 - semantic_2_loss: 0.0013 - lr: 4.1295e-05\n",
      "Epoch 90/200\n",
      "40/40 [==============================] - ETA: 0s - loss: 0.0102 - semantic_0_loss: 0.0021 - semantic_1_loss: 0.0068 - semantic_2_loss: 0.0013WARNING:tensorflow:Can save best model only with val_loss available, skipping.\n"
     ]
    },
    {
     "name": "stderr",
     "output_type": "stream",
     "text": [
      "WARNING:tensorflow:Can save best model only with val_loss available, skipping.\n"
     ]
    },
    {
     "name": "stdout",
     "output_type": "stream",
     "text": [
      "40/40 [==============================] - 20s 484ms/step - loss: 0.0102 - semantic_0_loss: 0.0021 - semantic_1_loss: 0.0068 - semantic_2_loss: 0.0013 - lr: 4.0882e-05\n",
      "Epoch 91/200\n",
      "40/40 [==============================] - ETA: 0s - loss: 0.0100 - semantic_0_loss: 0.0021 - semantic_1_loss: 0.0067 - semantic_2_loss: 0.0013WARNING:tensorflow:Can save best model only with val_loss available, skipping.\n"
     ]
    },
    {
     "name": "stderr",
     "output_type": "stream",
     "text": [
      "WARNING:tensorflow:Can save best model only with val_loss available, skipping.\n"
     ]
    },
    {
     "name": "stdout",
     "output_type": "stream",
     "text": [
      "40/40 [==============================] - 20s 483ms/step - loss: 0.0100 - semantic_0_loss: 0.0021 - semantic_1_loss: 0.0067 - semantic_2_loss: 0.0013 - lr: 4.0473e-05\n",
      "Epoch 92/200\n",
      "40/40 [==============================] - ETA: 0s - loss: 0.0099 - semantic_0_loss: 0.0021 - semantic_1_loss: 0.0066 - semantic_2_loss: 0.0013WARNING:tensorflow:Can save best model only with val_loss available, skipping.\n"
     ]
    },
    {
     "name": "stderr",
     "output_type": "stream",
     "text": [
      "WARNING:tensorflow:Can save best model only with val_loss available, skipping.\n"
     ]
    },
    {
     "name": "stdout",
     "output_type": "stream",
     "text": [
      "40/40 [==============================] - 20s 497ms/step - loss: 0.0099 - semantic_0_loss: 0.0021 - semantic_1_loss: 0.0066 - semantic_2_loss: 0.0013 - lr: 4.0068e-05\n",
      "Epoch 93/200\n",
      "40/40 [==============================] - ETA: 0s - loss: 0.0100 - semantic_0_loss: 0.0021 - semantic_1_loss: 0.0066 - semantic_2_loss: 0.0013WARNING:tensorflow:Can save best model only with val_loss available, skipping.\n"
     ]
    },
    {
     "name": "stderr",
     "output_type": "stream",
     "text": [
      "WARNING:tensorflow:Can save best model only with val_loss available, skipping.\n"
     ]
    },
    {
     "name": "stdout",
     "output_type": "stream",
     "text": [
      "40/40 [==============================] - 20s 486ms/step - loss: 0.0100 - semantic_0_loss: 0.0021 - semantic_1_loss: 0.0066 - semantic_2_loss: 0.0013 - lr: 3.9668e-05\n",
      "Epoch 94/200\n",
      "40/40 [==============================] - ETA: 0s - loss: 0.0101 - semantic_0_loss: 0.0021 - semantic_1_loss: 0.0068 - semantic_2_loss: 0.0013WARNING:tensorflow:Can save best model only with val_loss available, skipping.\n"
     ]
    },
    {
     "name": "stderr",
     "output_type": "stream",
     "text": [
      "WARNING:tensorflow:Can save best model only with val_loss available, skipping.\n"
     ]
    },
    {
     "name": "stdout",
     "output_type": "stream",
     "text": [
      "40/40 [==============================] - 20s 483ms/step - loss: 0.0101 - semantic_0_loss: 0.0021 - semantic_1_loss: 0.0068 - semantic_2_loss: 0.0013 - lr: 3.9271e-05\n",
      "Epoch 95/200\n",
      "40/40 [==============================] - ETA: 0s - loss: 0.0101 - semantic_0_loss: 0.0021 - semantic_1_loss: 0.0067 - semantic_2_loss: 0.0013WARNING:tensorflow:Can save best model only with val_loss available, skipping.\n"
     ]
    },
    {
     "name": "stderr",
     "output_type": "stream",
     "text": [
      "WARNING:tensorflow:Can save best model only with val_loss available, skipping.\n"
     ]
    },
    {
     "name": "stdout",
     "output_type": "stream",
     "text": [
      "40/40 [==============================] - 20s 495ms/step - loss: 0.0101 - semantic_0_loss: 0.0021 - semantic_1_loss: 0.0067 - semantic_2_loss: 0.0013 - lr: 3.8878e-05\n",
      "Epoch 96/200\n",
      "40/40 [==============================] - ETA: 0s - loss: 0.0099 - semantic_0_loss: 0.0021 - semantic_1_loss: 0.0066 - semantic_2_loss: 0.0013WARNING:tensorflow:Can save best model only with val_loss available, skipping.\n"
     ]
    },
    {
     "name": "stderr",
     "output_type": "stream",
     "text": [
      "WARNING:tensorflow:Can save best model only with val_loss available, skipping.\n"
     ]
    },
    {
     "name": "stdout",
     "output_type": "stream",
     "text": [
      "40/40 [==============================] - 20s 484ms/step - loss: 0.0099 - semantic_0_loss: 0.0021 - semantic_1_loss: 0.0066 - semantic_2_loss: 0.0013 - lr: 3.8490e-05\n",
      "Epoch 97/200\n",
      "40/40 [==============================] - ETA: 0s - loss: 0.0100 - semantic_0_loss: 0.0021 - semantic_1_loss: 0.0066 - semantic_2_loss: 0.0013WARNING:tensorflow:Can save best model only with val_loss available, skipping.\n"
     ]
    },
    {
     "name": "stderr",
     "output_type": "stream",
     "text": [
      "WARNING:tensorflow:Can save best model only with val_loss available, skipping.\n"
     ]
    },
    {
     "name": "stdout",
     "output_type": "stream",
     "text": [
      "40/40 [==============================] - 19s 479ms/step - loss: 0.0100 - semantic_0_loss: 0.0021 - semantic_1_loss: 0.0066 - semantic_2_loss: 0.0013 - lr: 3.8105e-05\n",
      "Epoch 98/200\n",
      "40/40 [==============================] - ETA: 0s - loss: 0.0100 - semantic_0_loss: 0.0021 - semantic_1_loss: 0.0066 - semantic_2_loss: 0.0013WARNING:tensorflow:Can save best model only with val_loss available, skipping.\n"
     ]
    },
    {
     "name": "stderr",
     "output_type": "stream",
     "text": [
      "WARNING:tensorflow:Can save best model only with val_loss available, skipping.\n"
     ]
    },
    {
     "name": "stdout",
     "output_type": "stream",
     "text": [
      "40/40 [==============================] - 20s 496ms/step - loss: 0.0100 - semantic_0_loss: 0.0021 - semantic_1_loss: 0.0066 - semantic_2_loss: 0.0013 - lr: 3.7724e-05\n",
      "Epoch 99/200\n",
      "40/40 [==============================] - ETA: 0s - loss: 0.0098 - semantic_0_loss: 0.0021 - semantic_1_loss: 0.0064 - semantic_2_loss: 0.0013WARNING:tensorflow:Can save best model only with val_loss available, skipping.\n"
     ]
    },
    {
     "name": "stderr",
     "output_type": "stream",
     "text": [
      "WARNING:tensorflow:Can save best model only with val_loss available, skipping.\n"
     ]
    },
    {
     "name": "stdout",
     "output_type": "stream",
     "text": [
      "40/40 [==============================] - 19s 480ms/step - loss: 0.0098 - semantic_0_loss: 0.0021 - semantic_1_loss: 0.0064 - semantic_2_loss: 0.0013 - lr: 3.7346e-05\n",
      "Epoch 100/200\n",
      "40/40 [==============================] - ETA: 0s - loss: 0.0102 - semantic_0_loss: 0.0022 - semantic_1_loss: 0.0068 - semantic_2_loss: 0.0013WARNING:tensorflow:Can save best model only with val_loss available, skipping.\n"
     ]
    },
    {
     "name": "stderr",
     "output_type": "stream",
     "text": [
      "WARNING:tensorflow:Can save best model only with val_loss available, skipping.\n"
     ]
    },
    {
     "name": "stdout",
     "output_type": "stream",
     "text": [
      "40/40 [==============================] - 20s 489ms/step - loss: 0.0102 - semantic_0_loss: 0.0022 - semantic_1_loss: 0.0068 - semantic_2_loss: 0.0013 - lr: 3.6973e-05\n",
      "Epoch 101/200\n",
      "40/40 [==============================] - ETA: 0s - loss: 0.0099 - semantic_0_loss: 0.0021 - semantic_1_loss: 0.0065 - semantic_2_loss: 0.0013WARNING:tensorflow:Can save best model only with val_loss available, skipping.\n"
     ]
    },
    {
     "name": "stderr",
     "output_type": "stream",
     "text": [
      "WARNING:tensorflow:Can save best model only with val_loss available, skipping.\n"
     ]
    },
    {
     "name": "stdout",
     "output_type": "stream",
     "text": [
      "40/40 [==============================] - 20s 486ms/step - loss: 0.0099 - semantic_0_loss: 0.0021 - semantic_1_loss: 0.0065 - semantic_2_loss: 0.0013 - lr: 3.6603e-05\n",
      "Epoch 102/200\n",
      "40/40 [==============================] - ETA: 0s - loss: 0.0099 - semantic_0_loss: 0.0021 - semantic_1_loss: 0.0066 - semantic_2_loss: 0.0012WARNING:tensorflow:Can save best model only with val_loss available, skipping.\n"
     ]
    },
    {
     "name": "stderr",
     "output_type": "stream",
     "text": [
      "WARNING:tensorflow:Can save best model only with val_loss available, skipping.\n"
     ]
    },
    {
     "name": "stdout",
     "output_type": "stream",
     "text": [
      "40/40 [==============================] - 20s 484ms/step - loss: 0.0099 - semantic_0_loss: 0.0021 - semantic_1_loss: 0.0066 - semantic_2_loss: 0.0012 - lr: 3.6237e-05\n",
      "Epoch 103/200\n",
      "40/40 [==============================] - ETA: 0s - loss: 0.0099 - semantic_0_loss: 0.0021 - semantic_1_loss: 0.0066 - semantic_2_loss: 0.0013WARNING:tensorflow:Can save best model only with val_loss available, skipping.\n"
     ]
    },
    {
     "name": "stderr",
     "output_type": "stream",
     "text": [
      "WARNING:tensorflow:Can save best model only with val_loss available, skipping.\n"
     ]
    },
    {
     "name": "stdout",
     "output_type": "stream",
     "text": [
      "40/40 [==============================] - 20s 485ms/step - loss: 0.0099 - semantic_0_loss: 0.0021 - semantic_1_loss: 0.0066 - semantic_2_loss: 0.0013 - lr: 3.5875e-05\n",
      "Epoch 104/200\n",
      "40/40 [==============================] - ETA: 0s - loss: 0.0097 - semantic_0_loss: 0.0021 - semantic_1_loss: 0.0064 - semantic_2_loss: 0.0012WARNING:tensorflow:Can save best model only with val_loss available, skipping.\n"
     ]
    },
    {
     "name": "stderr",
     "output_type": "stream",
     "text": [
      "WARNING:tensorflow:Can save best model only with val_loss available, skipping.\n"
     ]
    },
    {
     "name": "stdout",
     "output_type": "stream",
     "text": [
      "40/40 [==============================] - 20s 487ms/step - loss: 0.0097 - semantic_0_loss: 0.0021 - semantic_1_loss: 0.0064 - semantic_2_loss: 0.0012 - lr: 3.5516e-05\n",
      "Epoch 105/200\n",
      "40/40 [==============================] - ETA: 0s - loss: 0.0099 - semantic_0_loss: 0.0021 - semantic_1_loss: 0.0066 - semantic_2_loss: 0.0013WARNING:tensorflow:Can save best model only with val_loss available, skipping.\n"
     ]
    },
    {
     "name": "stderr",
     "output_type": "stream",
     "text": [
      "WARNING:tensorflow:Can save best model only with val_loss available, skipping.\n"
     ]
    },
    {
     "name": "stdout",
     "output_type": "stream",
     "text": [
      "40/40 [==============================] - 20s 490ms/step - loss: 0.0099 - semantic_0_loss: 0.0021 - semantic_1_loss: 0.0066 - semantic_2_loss: 0.0013 - lr: 3.5161e-05\n",
      "Epoch 106/200\n",
      "40/40 [==============================] - ETA: 0s - loss: 0.0100 - semantic_0_loss: 0.0021 - semantic_1_loss: 0.0066 - semantic_2_loss: 0.0013WARNING:tensorflow:Can save best model only with val_loss available, skipping.\n"
     ]
    },
    {
     "name": "stderr",
     "output_type": "stream",
     "text": [
      "WARNING:tensorflow:Can save best model only with val_loss available, skipping.\n"
     ]
    },
    {
     "name": "stdout",
     "output_type": "stream",
     "text": [
      "40/40 [==============================] - 20s 486ms/step - loss: 0.0100 - semantic_0_loss: 0.0021 - semantic_1_loss: 0.0066 - semantic_2_loss: 0.0013 - lr: 3.4809e-05\n",
      "Epoch 107/200\n",
      "40/40 [==============================] - ETA: 0s - loss: 0.0097 - semantic_0_loss: 0.0021 - semantic_1_loss: 0.0064 - semantic_2_loss: 0.0012WARNING:tensorflow:Can save best model only with val_loss available, skipping.\n"
     ]
    },
    {
     "name": "stderr",
     "output_type": "stream",
     "text": [
      "WARNING:tensorflow:Can save best model only with val_loss available, skipping.\n"
     ]
    },
    {
     "name": "stdout",
     "output_type": "stream",
     "text": [
      "40/40 [==============================] - 20s 482ms/step - loss: 0.0097 - semantic_0_loss: 0.0021 - semantic_1_loss: 0.0064 - semantic_2_loss: 0.0012 - lr: 3.4461e-05\n",
      "Epoch 108/200\n",
      "40/40 [==============================] - ETA: 0s - loss: 0.0098 - semantic_0_loss: 0.0021 - semantic_1_loss: 0.0065 - semantic_2_loss: 0.0012WARNING:tensorflow:Can save best model only with val_loss available, skipping.\n"
     ]
    },
    {
     "name": "stderr",
     "output_type": "stream",
     "text": [
      "WARNING:tensorflow:Can save best model only with val_loss available, skipping.\n"
     ]
    },
    {
     "name": "stdout",
     "output_type": "stream",
     "text": [
      "40/40 [==============================] - 20s 488ms/step - loss: 0.0098 - semantic_0_loss: 0.0021 - semantic_1_loss: 0.0065 - semantic_2_loss: 0.0012 - lr: 3.4117e-05\n",
      "Epoch 109/200\n",
      "40/40 [==============================] - ETA: 0s - loss: 0.0097 - semantic_0_loss: 0.0021 - semantic_1_loss: 0.0064 - semantic_2_loss: 0.0012WARNING:tensorflow:Can save best model only with val_loss available, skipping.\n"
     ]
    },
    {
     "name": "stderr",
     "output_type": "stream",
     "text": [
      "WARNING:tensorflow:Can save best model only with val_loss available, skipping.\n"
     ]
    },
    {
     "name": "stdout",
     "output_type": "stream",
     "text": [
      "40/40 [==============================] - 20s 481ms/step - loss: 0.0097 - semantic_0_loss: 0.0021 - semantic_1_loss: 0.0064 - semantic_2_loss: 0.0012 - lr: 3.3775e-05\n",
      "Epoch 110/200\n",
      "40/40 [==============================] - ETA: 0s - loss: 0.0098 - semantic_0_loss: 0.0021 - semantic_1_loss: 0.0065 - semantic_2_loss: 0.0012WARNING:tensorflow:Can save best model only with val_loss available, skipping.\n"
     ]
    },
    {
     "name": "stderr",
     "output_type": "stream",
     "text": [
      "WARNING:tensorflow:Can save best model only with val_loss available, skipping.\n"
     ]
    },
    {
     "name": "stdout",
     "output_type": "stream",
     "text": [
      "40/40 [==============================] - 20s 486ms/step - loss: 0.0098 - semantic_0_loss: 0.0021 - semantic_1_loss: 0.0065 - semantic_2_loss: 0.0012 - lr: 3.3438e-05\n",
      "Epoch 111/200\n",
      "40/40 [==============================] - ETA: 0s - loss: 0.0097 - semantic_0_loss: 0.0021 - semantic_1_loss: 0.0064 - semantic_2_loss: 0.0013WARNING:tensorflow:Can save best model only with val_loss available, skipping.\n"
     ]
    },
    {
     "name": "stderr",
     "output_type": "stream",
     "text": [
      "WARNING:tensorflow:Can save best model only with val_loss available, skipping.\n"
     ]
    },
    {
     "name": "stdout",
     "output_type": "stream",
     "text": [
      "40/40 [==============================] - 20s 484ms/step - loss: 0.0097 - semantic_0_loss: 0.0021 - semantic_1_loss: 0.0064 - semantic_2_loss: 0.0013 - lr: 3.3103e-05\n",
      "Epoch 112/200\n",
      "40/40 [==============================] - ETA: 0s - loss: 0.0098 - semantic_0_loss: 0.0021 - semantic_1_loss: 0.0064 - semantic_2_loss: 0.0012WARNING:tensorflow:Can save best model only with val_loss available, skipping.\n"
     ]
    },
    {
     "name": "stderr",
     "output_type": "stream",
     "text": [
      "WARNING:tensorflow:Can save best model only with val_loss available, skipping.\n"
     ]
    },
    {
     "name": "stdout",
     "output_type": "stream",
     "text": [
      "40/40 [==============================] - 20s 484ms/step - loss: 0.0098 - semantic_0_loss: 0.0021 - semantic_1_loss: 0.0064 - semantic_2_loss: 0.0012 - lr: 3.2772e-05\n",
      "Epoch 113/200\n",
      "40/40 [==============================] - ETA: 0s - loss: 0.0097 - semantic_0_loss: 0.0021 - semantic_1_loss: 0.0064 - semantic_2_loss: 0.0012WARNING:tensorflow:Can save best model only with val_loss available, skipping.\n"
     ]
    },
    {
     "name": "stderr",
     "output_type": "stream",
     "text": [
      "WARNING:tensorflow:Can save best model only with val_loss available, skipping.\n"
     ]
    },
    {
     "name": "stdout",
     "output_type": "stream",
     "text": [
      "40/40 [==============================] - 20s 491ms/step - loss: 0.0097 - semantic_0_loss: 0.0021 - semantic_1_loss: 0.0064 - semantic_2_loss: 0.0012 - lr: 3.2445e-05\n",
      "Epoch 114/200\n",
      "40/40 [==============================] - ETA: 0s - loss: 0.0096 - semantic_0_loss: 0.0021 - semantic_1_loss: 0.0063 - semantic_2_loss: 0.0012WARNING:tensorflow:Can save best model only with val_loss available, skipping.\n"
     ]
    },
    {
     "name": "stderr",
     "output_type": "stream",
     "text": [
      "WARNING:tensorflow:Can save best model only with val_loss available, skipping.\n"
     ]
    },
    {
     "name": "stdout",
     "output_type": "stream",
     "text": [
      "40/40 [==============================] - 20s 484ms/step - loss: 0.0096 - semantic_0_loss: 0.0021 - semantic_1_loss: 0.0063 - semantic_2_loss: 0.0012 - lr: 3.2120e-05\n",
      "Epoch 115/200\n",
      "40/40 [==============================] - ETA: 0s - loss: 0.0098 - semantic_0_loss: 0.0021 - semantic_1_loss: 0.0065 - semantic_2_loss: 0.0012WARNING:tensorflow:Can save best model only with val_loss available, skipping.\n"
     ]
    },
    {
     "name": "stderr",
     "output_type": "stream",
     "text": [
      "WARNING:tensorflow:Can save best model only with val_loss available, skipping.\n"
     ]
    },
    {
     "name": "stdout",
     "output_type": "stream",
     "text": [
      "40/40 [==============================] - 20s 487ms/step - loss: 0.0098 - semantic_0_loss: 0.0021 - semantic_1_loss: 0.0065 - semantic_2_loss: 0.0012 - lr: 3.1799e-05\n",
      "Epoch 116/200\n",
      "40/40 [==============================] - ETA: 0s - loss: 0.0096 - semantic_0_loss: 0.0020 - semantic_1_loss: 0.0063 - semantic_2_loss: 0.0012WARNING:tensorflow:Can save best model only with val_loss available, skipping.\n"
     ]
    },
    {
     "name": "stderr",
     "output_type": "stream",
     "text": [
      "WARNING:tensorflow:Can save best model only with val_loss available, skipping.\n"
     ]
    },
    {
     "name": "stdout",
     "output_type": "stream",
     "text": [
      "40/40 [==============================] - 20s 485ms/step - loss: 0.0096 - semantic_0_loss: 0.0020 - semantic_1_loss: 0.0063 - semantic_2_loss: 0.0012 - lr: 3.1481e-05\n",
      "Epoch 117/200\n",
      "40/40 [==============================] - ETA: 0s - loss: 0.0095 - semantic_0_loss: 0.0020 - semantic_1_loss: 0.0063 - semantic_2_loss: 0.0012WARNING:tensorflow:Can save best model only with val_loss available, skipping.\n"
     ]
    },
    {
     "name": "stderr",
     "output_type": "stream",
     "text": [
      "WARNING:tensorflow:Can save best model only with val_loss available, skipping.\n"
     ]
    },
    {
     "name": "stdout",
     "output_type": "stream",
     "text": [
      "40/40 [==============================] - 20s 487ms/step - loss: 0.0095 - semantic_0_loss: 0.0020 - semantic_1_loss: 0.0063 - semantic_2_loss: 0.0012 - lr: 3.1166e-05\n",
      "Epoch 118/200\n",
      "40/40 [==============================] - ETA: 0s - loss: 0.0097 - semantic_0_loss: 0.0021 - semantic_1_loss: 0.0064 - semantic_2_loss: 0.0012WARNING:tensorflow:Can save best model only with val_loss available, skipping.\n"
     ]
    },
    {
     "name": "stderr",
     "output_type": "stream",
     "text": [
      "WARNING:tensorflow:Can save best model only with val_loss available, skipping.\n"
     ]
    },
    {
     "name": "stdout",
     "output_type": "stream",
     "text": [
      "40/40 [==============================] - 20s 490ms/step - loss: 0.0097 - semantic_0_loss: 0.0021 - semantic_1_loss: 0.0064 - semantic_2_loss: 0.0012 - lr: 3.0854e-05\n",
      "Epoch 119/200\n",
      "40/40 [==============================] - ETA: 0s - loss: 0.0096 - semantic_0_loss: 0.0021 - semantic_1_loss: 0.0063 - semantic_2_loss: 0.0012WARNING:tensorflow:Can save best model only with val_loss available, skipping.\n"
     ]
    },
    {
     "name": "stderr",
     "output_type": "stream",
     "text": [
      "WARNING:tensorflow:Can save best model only with val_loss available, skipping.\n"
     ]
    },
    {
     "name": "stdout",
     "output_type": "stream",
     "text": [
      "40/40 [==============================] - 19s 479ms/step - loss: 0.0096 - semantic_0_loss: 0.0021 - semantic_1_loss: 0.0063 - semantic_2_loss: 0.0012 - lr: 3.0546e-05\n",
      "Epoch 120/200\n",
      "40/40 [==============================] - ETA: 0s - loss: 0.0098 - semantic_0_loss: 0.0021 - semantic_1_loss: 0.0065 - semantic_2_loss: 0.0012WARNING:tensorflow:Can save best model only with val_loss available, skipping.\n"
     ]
    },
    {
     "name": "stderr",
     "output_type": "stream",
     "text": [
      "WARNING:tensorflow:Can save best model only with val_loss available, skipping.\n"
     ]
    },
    {
     "name": "stdout",
     "output_type": "stream",
     "text": [
      "40/40 [==============================] - 20s 487ms/step - loss: 0.0098 - semantic_0_loss: 0.0021 - semantic_1_loss: 0.0065 - semantic_2_loss: 0.0012 - lr: 3.0240e-05\n",
      "Epoch 121/200\n",
      "40/40 [==============================] - ETA: 0s - loss: 0.0095 - semantic_0_loss: 0.0020 - semantic_1_loss: 0.0063 - semantic_2_loss: 0.0012WARNING:tensorflow:Can save best model only with val_loss available, skipping.\n"
     ]
    },
    {
     "name": "stderr",
     "output_type": "stream",
     "text": [
      "WARNING:tensorflow:Can save best model only with val_loss available, skipping.\n"
     ]
    },
    {
     "name": "stdout",
     "output_type": "stream",
     "text": [
      "40/40 [==============================] - 20s 494ms/step - loss: 0.0095 - semantic_0_loss: 0.0020 - semantic_1_loss: 0.0063 - semantic_2_loss: 0.0012 - lr: 2.9938e-05\n",
      "Epoch 122/200\n",
      "40/40 [==============================] - ETA: 0s - loss: 0.0095 - semantic_0_loss: 0.0020 - semantic_1_loss: 0.0062 - semantic_2_loss: 0.0012WARNING:tensorflow:Can save best model only with val_loss available, skipping.\n"
     ]
    },
    {
     "name": "stderr",
     "output_type": "stream",
     "text": [
      "WARNING:tensorflow:Can save best model only with val_loss available, skipping.\n"
     ]
    },
    {
     "name": "stdout",
     "output_type": "stream",
     "text": [
      "40/40 [==============================] - 20s 483ms/step - loss: 0.0095 - semantic_0_loss: 0.0020 - semantic_1_loss: 0.0062 - semantic_2_loss: 0.0012 - lr: 2.9639e-05\n",
      "Epoch 123/200\n",
      "40/40 [==============================] - ETA: 0s - loss: 0.0094 - semantic_0_loss: 0.0020 - semantic_1_loss: 0.0062 - semantic_2_loss: 0.0012WARNING:tensorflow:Can save best model only with val_loss available, skipping.\n"
     ]
    },
    {
     "name": "stderr",
     "output_type": "stream",
     "text": [
      "WARNING:tensorflow:Can save best model only with val_loss available, skipping.\n"
     ]
    },
    {
     "name": "stdout",
     "output_type": "stream",
     "text": [
      "40/40 [==============================] - 20s 484ms/step - loss: 0.0094 - semantic_0_loss: 0.0020 - semantic_1_loss: 0.0062 - semantic_2_loss: 0.0012 - lr: 2.9342e-05\n",
      "Epoch 124/200\n",
      "40/40 [==============================] - ETA: 0s - loss: 0.0096 - semantic_0_loss: 0.0021 - semantic_1_loss: 0.0063 - semantic_2_loss: 0.0012WARNING:tensorflow:Can save best model only with val_loss available, skipping.\n"
     ]
    },
    {
     "name": "stderr",
     "output_type": "stream",
     "text": [
      "WARNING:tensorflow:Can save best model only with val_loss available, skipping.\n"
     ]
    },
    {
     "name": "stdout",
     "output_type": "stream",
     "text": [
      "40/40 [==============================] - 20s 490ms/step - loss: 0.0096 - semantic_0_loss: 0.0021 - semantic_1_loss: 0.0063 - semantic_2_loss: 0.0012 - lr: 2.9049e-05\n",
      "Epoch 125/200\n",
      "40/40 [==============================] - ETA: 0s - loss: 0.0095 - semantic_0_loss: 0.0021 - semantic_1_loss: 0.0063 - semantic_2_loss: 0.0012WARNING:tensorflow:Can save best model only with val_loss available, skipping.\n"
     ]
    },
    {
     "name": "stderr",
     "output_type": "stream",
     "text": [
      "WARNING:tensorflow:Can save best model only with val_loss available, skipping.\n"
     ]
    },
    {
     "name": "stdout",
     "output_type": "stream",
     "text": [
      "40/40 [==============================] - 20s 484ms/step - loss: 0.0095 - semantic_0_loss: 0.0021 - semantic_1_loss: 0.0063 - semantic_2_loss: 0.0012 - lr: 2.8758e-05\n",
      "Epoch 126/200\n",
      "40/40 [==============================] - ETA: 0s - loss: 0.0096 - semantic_0_loss: 0.0021 - semantic_1_loss: 0.0063 - semantic_2_loss: 0.0012WARNING:tensorflow:Can save best model only with val_loss available, skipping.\n"
     ]
    },
    {
     "name": "stderr",
     "output_type": "stream",
     "text": [
      "WARNING:tensorflow:Can save best model only with val_loss available, skipping.\n"
     ]
    },
    {
     "name": "stdout",
     "output_type": "stream",
     "text": [
      "40/40 [==============================] - 20s 486ms/step - loss: 0.0096 - semantic_0_loss: 0.0021 - semantic_1_loss: 0.0063 - semantic_2_loss: 0.0012 - lr: 2.8471e-05\n",
      "Epoch 127/200\n",
      "40/40 [==============================] - ETA: 0s - loss: 0.0094 - semantic_0_loss: 0.0021 - semantic_1_loss: 0.0062 - semantic_2_loss: 0.0012WARNING:tensorflow:Can save best model only with val_loss available, skipping.\n"
     ]
    },
    {
     "name": "stderr",
     "output_type": "stream",
     "text": [
      "WARNING:tensorflow:Can save best model only with val_loss available, skipping.\n"
     ]
    },
    {
     "name": "stdout",
     "output_type": "stream",
     "text": [
      "40/40 [==============================] - 20s 488ms/step - loss: 0.0094 - semantic_0_loss: 0.0021 - semantic_1_loss: 0.0062 - semantic_2_loss: 0.0012 - lr: 2.8186e-05\n",
      "Epoch 128/200\n",
      "40/40 [==============================] - ETA: 0s - loss: 0.0097 - semantic_0_loss: 0.0021 - semantic_1_loss: 0.0064 - semantic_2_loss: 0.0012WARNING:tensorflow:Can save best model only with val_loss available, skipping.\n"
     ]
    },
    {
     "name": "stderr",
     "output_type": "stream",
     "text": [
      "WARNING:tensorflow:Can save best model only with val_loss available, skipping.\n"
     ]
    },
    {
     "name": "stdout",
     "output_type": "stream",
     "text": [
      "40/40 [==============================] - 20s 491ms/step - loss: 0.0097 - semantic_0_loss: 0.0021 - semantic_1_loss: 0.0064 - semantic_2_loss: 0.0012 - lr: 2.7904e-05\n",
      "Epoch 129/200\n",
      "40/40 [==============================] - ETA: 0s - loss: 0.0095 - semantic_0_loss: 0.0020 - semantic_1_loss: 0.0063 - semantic_2_loss: 0.0012WARNING:tensorflow:Can save best model only with val_loss available, skipping.\n"
     ]
    },
    {
     "name": "stderr",
     "output_type": "stream",
     "text": [
      "WARNING:tensorflow:Can save best model only with val_loss available, skipping.\n"
     ]
    },
    {
     "name": "stdout",
     "output_type": "stream",
     "text": [
      "40/40 [==============================] - 20s 491ms/step - loss: 0.0095 - semantic_0_loss: 0.0020 - semantic_1_loss: 0.0063 - semantic_2_loss: 0.0012 - lr: 2.7625e-05\n",
      "Epoch 130/200\n",
      "40/40 [==============================] - ETA: 0s - loss: 0.0093 - semantic_0_loss: 0.0020 - semantic_1_loss: 0.0061 - semantic_2_loss: 0.0012WARNING:tensorflow:Can save best model only with val_loss available, skipping.\n"
     ]
    },
    {
     "name": "stderr",
     "output_type": "stream",
     "text": [
      "WARNING:tensorflow:Can save best model only with val_loss available, skipping.\n"
     ]
    },
    {
     "name": "stdout",
     "output_type": "stream",
     "text": [
      "40/40 [==============================] - 20s 498ms/step - loss: 0.0093 - semantic_0_loss: 0.0020 - semantic_1_loss: 0.0061 - semantic_2_loss: 0.0012 - lr: 2.7349e-05\n",
      "Epoch 131/200\n",
      "40/40 [==============================] - ETA: 0s - loss: 0.0095 - semantic_0_loss: 0.0020 - semantic_1_loss: 0.0062 - semantic_2_loss: 0.0012WARNING:tensorflow:Can save best model only with val_loss available, skipping.\n"
     ]
    },
    {
     "name": "stderr",
     "output_type": "stream",
     "text": [
      "WARNING:tensorflow:Can save best model only with val_loss available, skipping.\n"
     ]
    },
    {
     "name": "stdout",
     "output_type": "stream",
     "text": [
      "40/40 [==============================] - 20s 498ms/step - loss: 0.0095 - semantic_0_loss: 0.0020 - semantic_1_loss: 0.0062 - semantic_2_loss: 0.0012 - lr: 2.7075e-05\n",
      "Epoch 132/200\n",
      "40/40 [==============================] - ETA: 0s - loss: 0.0096 - semantic_0_loss: 0.0021 - semantic_1_loss: 0.0063 - semantic_2_loss: 0.0012WARNING:tensorflow:Can save best model only with val_loss available, skipping.\n"
     ]
    },
    {
     "name": "stderr",
     "output_type": "stream",
     "text": [
      "WARNING:tensorflow:Can save best model only with val_loss available, skipping.\n"
     ]
    },
    {
     "name": "stdout",
     "output_type": "stream",
     "text": [
      "40/40 [==============================] - 20s 502ms/step - loss: 0.0096 - semantic_0_loss: 0.0021 - semantic_1_loss: 0.0063 - semantic_2_loss: 0.0012 - lr: 2.6805e-05\n",
      "Epoch 133/200\n",
      "40/40 [==============================] - ETA: 0s - loss: 0.0096 - semantic_0_loss: 0.0021 - semantic_1_loss: 0.0063 - semantic_2_loss: 0.0012WARNING:tensorflow:Can save best model only with val_loss available, skipping.\n"
     ]
    },
    {
     "name": "stderr",
     "output_type": "stream",
     "text": [
      "WARNING:tensorflow:Can save best model only with val_loss available, skipping.\n"
     ]
    },
    {
     "name": "stdout",
     "output_type": "stream",
     "text": [
      "40/40 [==============================] - 20s 487ms/step - loss: 0.0096 - semantic_0_loss: 0.0021 - semantic_1_loss: 0.0063 - semantic_2_loss: 0.0012 - lr: 2.6537e-05\n",
      "Epoch 134/200\n",
      "40/40 [==============================] - ETA: 0s - loss: 0.0093 - semantic_0_loss: 0.0020 - semantic_1_loss: 0.0061 - semantic_2_loss: 0.0012WARNING:tensorflow:Can save best model only with val_loss available, skipping.\n"
     ]
    },
    {
     "name": "stderr",
     "output_type": "stream",
     "text": [
      "WARNING:tensorflow:Can save best model only with val_loss available, skipping.\n"
     ]
    },
    {
     "name": "stdout",
     "output_type": "stream",
     "text": [
      "40/40 [==============================] - 20s 485ms/step - loss: 0.0093 - semantic_0_loss: 0.0020 - semantic_1_loss: 0.0061 - semantic_2_loss: 0.0012 - lr: 2.6271e-05\n",
      "Epoch 135/200\n",
      "40/40 [==============================] - ETA: 0s - loss: 0.0096 - semantic_0_loss: 0.0020 - semantic_1_loss: 0.0063 - semantic_2_loss: 0.0012WARNING:tensorflow:Can save best model only with val_loss available, skipping.\n"
     ]
    },
    {
     "name": "stderr",
     "output_type": "stream",
     "text": [
      "WARNING:tensorflow:Can save best model only with val_loss available, skipping.\n"
     ]
    },
    {
     "name": "stdout",
     "output_type": "stream",
     "text": [
      "40/40 [==============================] - 20s 485ms/step - loss: 0.0096 - semantic_0_loss: 0.0020 - semantic_1_loss: 0.0063 - semantic_2_loss: 0.0012 - lr: 2.6009e-05\n",
      "Epoch 136/200\n",
      "40/40 [==============================] - ETA: 0s - loss: 0.0097 - semantic_0_loss: 0.0021 - semantic_1_loss: 0.0063 - semantic_2_loss: 0.0012WARNING:tensorflow:Can save best model only with val_loss available, skipping.\n"
     ]
    },
    {
     "name": "stderr",
     "output_type": "stream",
     "text": [
      "WARNING:tensorflow:Can save best model only with val_loss available, skipping.\n"
     ]
    },
    {
     "name": "stdout",
     "output_type": "stream",
     "text": [
      "40/40 [==============================] - 20s 488ms/step - loss: 0.0097 - semantic_0_loss: 0.0021 - semantic_1_loss: 0.0063 - semantic_2_loss: 0.0012 - lr: 2.5748e-05\n",
      "Epoch 137/200\n",
      "40/40 [==============================] - ETA: 0s - loss: 0.0092 - semantic_0_loss: 0.0020 - semantic_1_loss: 0.0060 - semantic_2_loss: 0.0012WARNING:tensorflow:Can save best model only with val_loss available, skipping.\n"
     ]
    },
    {
     "name": "stderr",
     "output_type": "stream",
     "text": [
      "WARNING:tensorflow:Can save best model only with val_loss available, skipping.\n"
     ]
    },
    {
     "name": "stdout",
     "output_type": "stream",
     "text": [
      "40/40 [==============================] - 20s 485ms/step - loss: 0.0092 - semantic_0_loss: 0.0020 - semantic_1_loss: 0.0060 - semantic_2_loss: 0.0012 - lr: 2.5491e-05\n",
      "Epoch 138/200\n",
      "40/40 [==============================] - ETA: 0s - loss: 0.0093 - semantic_0_loss: 0.0020 - semantic_1_loss: 0.0061 - semantic_2_loss: 0.0012WARNING:tensorflow:Can save best model only with val_loss available, skipping.\n"
     ]
    },
    {
     "name": "stderr",
     "output_type": "stream",
     "text": [
      "WARNING:tensorflow:Can save best model only with val_loss available, skipping.\n"
     ]
    },
    {
     "name": "stdout",
     "output_type": "stream",
     "text": [
      "40/40 [==============================] - 20s 485ms/step - loss: 0.0093 - semantic_0_loss: 0.0020 - semantic_1_loss: 0.0061 - semantic_2_loss: 0.0012 - lr: 2.5236e-05\n",
      "Epoch 139/200\n",
      "40/40 [==============================] - ETA: 0s - loss: 0.0095 - semantic_0_loss: 0.0021 - semantic_1_loss: 0.0062 - semantic_2_loss: 0.0012WARNING:tensorflow:Can save best model only with val_loss available, skipping.\n"
     ]
    },
    {
     "name": "stderr",
     "output_type": "stream",
     "text": [
      "WARNING:tensorflow:Can save best model only with val_loss available, skipping.\n"
     ]
    },
    {
     "name": "stdout",
     "output_type": "stream",
     "text": [
      "40/40 [==============================] - 20s 487ms/step - loss: 0.0095 - semantic_0_loss: 0.0021 - semantic_1_loss: 0.0062 - semantic_2_loss: 0.0012 - lr: 2.4984e-05\n",
      "Epoch 140/200\n",
      "40/40 [==============================] - ETA: 0s - loss: 0.0094 - semantic_0_loss: 0.0021 - semantic_1_loss: 0.0061 - semantic_2_loss: 0.0012WARNING:tensorflow:Can save best model only with val_loss available, skipping.\n"
     ]
    },
    {
     "name": "stderr",
     "output_type": "stream",
     "text": [
      "WARNING:tensorflow:Can save best model only with val_loss available, skipping.\n"
     ]
    },
    {
     "name": "stdout",
     "output_type": "stream",
     "text": [
      "40/40 [==============================] - 20s 485ms/step - loss: 0.0094 - semantic_0_loss: 0.0021 - semantic_1_loss: 0.0061 - semantic_2_loss: 0.0012 - lr: 2.4734e-05\n",
      "Epoch 141/200\n",
      "40/40 [==============================] - ETA: 0s - loss: 0.0095 - semantic_0_loss: 0.0021 - semantic_1_loss: 0.0062 - semantic_2_loss: 0.0012WARNING:tensorflow:Can save best model only with val_loss available, skipping.\n"
     ]
    },
    {
     "name": "stderr",
     "output_type": "stream",
     "text": [
      "WARNING:tensorflow:Can save best model only with val_loss available, skipping.\n"
     ]
    },
    {
     "name": "stdout",
     "output_type": "stream",
     "text": [
      "40/40 [==============================] - 20s 486ms/step - loss: 0.0095 - semantic_0_loss: 0.0021 - semantic_1_loss: 0.0062 - semantic_2_loss: 0.0012 - lr: 2.4487e-05\n",
      "Epoch 142/200\n",
      "40/40 [==============================] - ETA: 0s - loss: 0.0093 - semantic_0_loss: 0.0020 - semantic_1_loss: 0.0061 - semantic_2_loss: 0.0012WARNING:tensorflow:Can save best model only with val_loss available, skipping.\n"
     ]
    },
    {
     "name": "stderr",
     "output_type": "stream",
     "text": [
      "WARNING:tensorflow:Can save best model only with val_loss available, skipping.\n"
     ]
    },
    {
     "name": "stdout",
     "output_type": "stream",
     "text": [
      "40/40 [==============================] - 20s 485ms/step - loss: 0.0093 - semantic_0_loss: 0.0020 - semantic_1_loss: 0.0061 - semantic_2_loss: 0.0012 - lr: 2.4242e-05\n",
      "Epoch 143/200\n",
      "40/40 [==============================] - ETA: 0s - loss: 0.0094 - semantic_0_loss: 0.0021 - semantic_1_loss: 0.0061 - semantic_2_loss: 0.0012WARNING:tensorflow:Can save best model only with val_loss available, skipping.\n"
     ]
    },
    {
     "name": "stderr",
     "output_type": "stream",
     "text": [
      "WARNING:tensorflow:Can save best model only with val_loss available, skipping.\n"
     ]
    },
    {
     "name": "stdout",
     "output_type": "stream",
     "text": [
      "40/40 [==============================] - 20s 487ms/step - loss: 0.0094 - semantic_0_loss: 0.0021 - semantic_1_loss: 0.0061 - semantic_2_loss: 0.0012 - lr: 2.3999e-05\n",
      "Epoch 144/200\n",
      "40/40 [==============================] - ETA: 0s - loss: 0.0092 - semantic_0_loss: 0.0020 - semantic_1_loss: 0.0060 - semantic_2_loss: 0.0012WARNING:tensorflow:Can save best model only with val_loss available, skipping.\n"
     ]
    },
    {
     "name": "stderr",
     "output_type": "stream",
     "text": [
      "WARNING:tensorflow:Can save best model only with val_loss available, skipping.\n"
     ]
    },
    {
     "name": "stdout",
     "output_type": "stream",
     "text": [
      "40/40 [==============================] - 20s 483ms/step - loss: 0.0092 - semantic_0_loss: 0.0020 - semantic_1_loss: 0.0060 - semantic_2_loss: 0.0012 - lr: 2.3759e-05\n",
      "Epoch 145/200\n",
      "40/40 [==============================] - ETA: 0s - loss: 0.0092 - semantic_0_loss: 0.0020 - semantic_1_loss: 0.0060 - semantic_2_loss: 0.0012WARNING:tensorflow:Can save best model only with val_loss available, skipping.\n"
     ]
    },
    {
     "name": "stderr",
     "output_type": "stream",
     "text": [
      "WARNING:tensorflow:Can save best model only with val_loss available, skipping.\n"
     ]
    },
    {
     "name": "stdout",
     "output_type": "stream",
     "text": [
      "40/40 [==============================] - 20s 491ms/step - loss: 0.0092 - semantic_0_loss: 0.0020 - semantic_1_loss: 0.0060 - semantic_2_loss: 0.0012 - lr: 2.3522e-05\n",
      "Epoch 146/200\n",
      "40/40 [==============================] - ETA: 0s - loss: 0.0094 - semantic_0_loss: 0.0021 - semantic_1_loss: 0.0061 - semantic_2_loss: 0.0012WARNING:tensorflow:Can save best model only with val_loss available, skipping.\n"
     ]
    },
    {
     "name": "stderr",
     "output_type": "stream",
     "text": [
      "WARNING:tensorflow:Can save best model only with val_loss available, skipping.\n"
     ]
    },
    {
     "name": "stdout",
     "output_type": "stream",
     "text": [
      "40/40 [==============================] - 20s 489ms/step - loss: 0.0094 - semantic_0_loss: 0.0021 - semantic_1_loss: 0.0061 - semantic_2_loss: 0.0012 - lr: 2.3286e-05\n",
      "Epoch 147/200\n",
      "40/40 [==============================] - ETA: 0s - loss: 0.0093 - semantic_0_loss: 0.0021 - semantic_1_loss: 0.0060 - semantic_2_loss: 0.0012WARNING:tensorflow:Can save best model only with val_loss available, skipping.\n"
     ]
    },
    {
     "name": "stderr",
     "output_type": "stream",
     "text": [
      "WARNING:tensorflow:Can save best model only with val_loss available, skipping.\n"
     ]
    },
    {
     "name": "stdout",
     "output_type": "stream",
     "text": [
      "40/40 [==============================] - 20s 488ms/step - loss: 0.0093 - semantic_0_loss: 0.0021 - semantic_1_loss: 0.0060 - semantic_2_loss: 0.0012 - lr: 2.3054e-05\n",
      "Epoch 148/200\n",
      "40/40 [==============================] - ETA: 0s - loss: 0.0092 - semantic_0_loss: 0.0020 - semantic_1_loss: 0.0060 - semantic_2_loss: 0.0012WARNING:tensorflow:Can save best model only with val_loss available, skipping.\n"
     ]
    },
    {
     "name": "stderr",
     "output_type": "stream",
     "text": [
      "WARNING:tensorflow:Can save best model only with val_loss available, skipping.\n"
     ]
    },
    {
     "name": "stdout",
     "output_type": "stream",
     "text": [
      "40/40 [==============================] - 20s 488ms/step - loss: 0.0092 - semantic_0_loss: 0.0020 - semantic_1_loss: 0.0060 - semantic_2_loss: 0.0012 - lr: 2.2823e-05\n",
      "Epoch 149/200\n",
      "40/40 [==============================] - ETA: 0s - loss: 0.0092 - semantic_0_loss: 0.0020 - semantic_1_loss: 0.0060 - semantic_2_loss: 0.0012WARNING:tensorflow:Can save best model only with val_loss available, skipping.\n"
     ]
    },
    {
     "name": "stderr",
     "output_type": "stream",
     "text": [
      "WARNING:tensorflow:Can save best model only with val_loss available, skipping.\n"
     ]
    },
    {
     "name": "stdout",
     "output_type": "stream",
     "text": [
      "40/40 [==============================] - 20s 486ms/step - loss: 0.0092 - semantic_0_loss: 0.0020 - semantic_1_loss: 0.0060 - semantic_2_loss: 0.0012 - lr: 2.2595e-05\n",
      "Epoch 150/200\n",
      "40/40 [==============================] - ETA: 0s - loss: 0.0090 - semantic_0_loss: 0.0020 - semantic_1_loss: 0.0059 - semantic_2_loss: 0.0012WARNING:tensorflow:Can save best model only with val_loss available, skipping.\n"
     ]
    },
    {
     "name": "stderr",
     "output_type": "stream",
     "text": [
      "WARNING:tensorflow:Can save best model only with val_loss available, skipping.\n"
     ]
    },
    {
     "name": "stdout",
     "output_type": "stream",
     "text": [
      "40/40 [==============================] - 20s 489ms/step - loss: 0.0090 - semantic_0_loss: 0.0020 - semantic_1_loss: 0.0059 - semantic_2_loss: 0.0012 - lr: 2.2369e-05\n",
      "Epoch 151/200\n",
      "40/40 [==============================] - ETA: 0s - loss: 0.0093 - semantic_0_loss: 0.0020 - semantic_1_loss: 0.0061 - semantic_2_loss: 0.0012WARNING:tensorflow:Can save best model only with val_loss available, skipping.\n"
     ]
    },
    {
     "name": "stderr",
     "output_type": "stream",
     "text": [
      "WARNING:tensorflow:Can save best model only with val_loss available, skipping.\n"
     ]
    },
    {
     "name": "stdout",
     "output_type": "stream",
     "text": [
      "40/40 [==============================] - 20s 496ms/step - loss: 0.0093 - semantic_0_loss: 0.0020 - semantic_1_loss: 0.0061 - semantic_2_loss: 0.0012 - lr: 2.2145e-05\n",
      "Epoch 152/200\n",
      "40/40 [==============================] - ETA: 0s - loss: 0.0092 - semantic_0_loss: 0.0020 - semantic_1_loss: 0.0060 - semantic_2_loss: 0.0012WARNING:tensorflow:Can save best model only with val_loss available, skipping.\n"
     ]
    },
    {
     "name": "stderr",
     "output_type": "stream",
     "text": [
      "WARNING:tensorflow:Can save best model only with val_loss available, skipping.\n"
     ]
    },
    {
     "name": "stdout",
     "output_type": "stream",
     "text": [
      "40/40 [==============================] - 20s 484ms/step - loss: 0.0092 - semantic_0_loss: 0.0020 - semantic_1_loss: 0.0060 - semantic_2_loss: 0.0012 - lr: 2.1924e-05\n",
      "Epoch 153/200\n",
      "40/40 [==============================] - ETA: 0s - loss: 0.0091 - semantic_0_loss: 0.0020 - semantic_1_loss: 0.0059 - semantic_2_loss: 0.0012WARNING:tensorflow:Can save best model only with val_loss available, skipping.\n"
     ]
    },
    {
     "name": "stderr",
     "output_type": "stream",
     "text": [
      "WARNING:tensorflow:Can save best model only with val_loss available, skipping.\n"
     ]
    },
    {
     "name": "stdout",
     "output_type": "stream",
     "text": [
      "40/40 [==============================] - 20s 498ms/step - loss: 0.0091 - semantic_0_loss: 0.0020 - semantic_1_loss: 0.0059 - semantic_2_loss: 0.0012 - lr: 2.1704e-05\n",
      "Epoch 154/200\n",
      "40/40 [==============================] - ETA: 0s - loss: 0.0092 - semantic_0_loss: 0.0020 - semantic_1_loss: 0.0060 - semantic_2_loss: 0.0012WARNING:tensorflow:Can save best model only with val_loss available, skipping.\n"
     ]
    },
    {
     "name": "stderr",
     "output_type": "stream",
     "text": [
      "WARNING:tensorflow:Can save best model only with val_loss available, skipping.\n"
     ]
    },
    {
     "name": "stdout",
     "output_type": "stream",
     "text": [
      "40/40 [==============================] - 19s 478ms/step - loss: 0.0092 - semantic_0_loss: 0.0020 - semantic_1_loss: 0.0060 - semantic_2_loss: 0.0012 - lr: 2.1487e-05\n",
      "Epoch 155/200\n",
      "40/40 [==============================] - ETA: 0s - loss: 0.0094 - semantic_0_loss: 0.0021 - semantic_1_loss: 0.0061 - semantic_2_loss: 0.0012WARNING:tensorflow:Can save best model only with val_loss available, skipping.\n"
     ]
    },
    {
     "name": "stderr",
     "output_type": "stream",
     "text": [
      "WARNING:tensorflow:Can save best model only with val_loss available, skipping.\n"
     ]
    },
    {
     "name": "stdout",
     "output_type": "stream",
     "text": [
      "40/40 [==============================] - 20s 484ms/step - loss: 0.0094 - semantic_0_loss: 0.0021 - semantic_1_loss: 0.0061 - semantic_2_loss: 0.0012 - lr: 2.1273e-05\n",
      "Epoch 156/200\n",
      "40/40 [==============================] - ETA: 0s - loss: 0.0089 - semantic_0_loss: 0.0020 - semantic_1_loss: 0.0058 - semantic_2_loss: 0.0012WARNING:tensorflow:Can save best model only with val_loss available, skipping.\n"
     ]
    },
    {
     "name": "stderr",
     "output_type": "stream",
     "text": [
      "WARNING:tensorflow:Can save best model only with val_loss available, skipping.\n"
     ]
    },
    {
     "name": "stdout",
     "output_type": "stream",
     "text": [
      "40/40 [==============================] - 19s 475ms/step - loss: 0.0089 - semantic_0_loss: 0.0020 - semantic_1_loss: 0.0058 - semantic_2_loss: 0.0012 - lr: 2.1060e-05\n",
      "Epoch 157/200\n",
      "40/40 [==============================] - ETA: 0s - loss: 0.0093 - semantic_0_loss: 0.0020 - semantic_1_loss: 0.0061 - semantic_2_loss: 0.0012WARNING:tensorflow:Can save best model only with val_loss available, skipping.\n"
     ]
    },
    {
     "name": "stderr",
     "output_type": "stream",
     "text": [
      "WARNING:tensorflow:Can save best model only with val_loss available, skipping.\n"
     ]
    },
    {
     "name": "stdout",
     "output_type": "stream",
     "text": [
      "40/40 [==============================] - 20s 488ms/step - loss: 0.0093 - semantic_0_loss: 0.0020 - semantic_1_loss: 0.0061 - semantic_2_loss: 0.0012 - lr: 2.0849e-05\n",
      "Epoch 158/200\n",
      "40/40 [==============================] - ETA: 0s - loss: 0.0092 - semantic_0_loss: 0.0020 - semantic_1_loss: 0.0060 - semantic_2_loss: 0.0012WARNING:tensorflow:Can save best model only with val_loss available, skipping.\n"
     ]
    },
    {
     "name": "stderr",
     "output_type": "stream",
     "text": [
      "WARNING:tensorflow:Can save best model only with val_loss available, skipping.\n"
     ]
    },
    {
     "name": "stdout",
     "output_type": "stream",
     "text": [
      "40/40 [==============================] - 19s 482ms/step - loss: 0.0092 - semantic_0_loss: 0.0020 - semantic_1_loss: 0.0060 - semantic_2_loss: 0.0012 - lr: 2.0641e-05\n",
      "Epoch 159/200\n",
      "40/40 [==============================] - ETA: 0s - loss: 0.0091 - semantic_0_loss: 0.0020 - semantic_1_loss: 0.0059 - semantic_2_loss: 0.0012WARNING:tensorflow:Can save best model only with val_loss available, skipping.\n"
     ]
    },
    {
     "name": "stderr",
     "output_type": "stream",
     "text": [
      "WARNING:tensorflow:Can save best model only with val_loss available, skipping.\n"
     ]
    },
    {
     "name": "stdout",
     "output_type": "stream",
     "text": [
      "40/40 [==============================] - 20s 487ms/step - loss: 0.0091 - semantic_0_loss: 0.0020 - semantic_1_loss: 0.0059 - semantic_2_loss: 0.0012 - lr: 2.0434e-05\n",
      "Epoch 160/200\n",
      "40/40 [==============================] - ETA: 0s - loss: 0.0089 - semantic_0_loss: 0.0020 - semantic_1_loss: 0.0058 - semantic_2_loss: 0.0012WARNING:tensorflow:Can save best model only with val_loss available, skipping.\n"
     ]
    },
    {
     "name": "stderr",
     "output_type": "stream",
     "text": [
      "WARNING:tensorflow:Can save best model only with val_loss available, skipping.\n"
     ]
    },
    {
     "name": "stdout",
     "output_type": "stream",
     "text": [
      "40/40 [==============================] - 20s 485ms/step - loss: 0.0089 - semantic_0_loss: 0.0020 - semantic_1_loss: 0.0058 - semantic_2_loss: 0.0012 - lr: 2.0230e-05\n",
      "Epoch 161/200\n",
      "40/40 [==============================] - ETA: 0s - loss: 0.0094 - semantic_0_loss: 0.0021 - semantic_1_loss: 0.0061 - semantic_2_loss: 0.0012WARNING:tensorflow:Can save best model only with val_loss available, skipping.\n"
     ]
    },
    {
     "name": "stderr",
     "output_type": "stream",
     "text": [
      "WARNING:tensorflow:Can save best model only with val_loss available, skipping.\n"
     ]
    },
    {
     "name": "stdout",
     "output_type": "stream",
     "text": [
      "40/40 [==============================] - 20s 490ms/step - loss: 0.0094 - semantic_0_loss: 0.0021 - semantic_1_loss: 0.0061 - semantic_2_loss: 0.0012 - lr: 2.0028e-05\n",
      "Epoch 162/200\n",
      "40/40 [==============================] - ETA: 0s - loss: 0.0092 - semantic_0_loss: 0.0020 - semantic_1_loss: 0.0060 - semantic_2_loss: 0.0012WARNING:tensorflow:Can save best model only with val_loss available, skipping.\n"
     ]
    },
    {
     "name": "stderr",
     "output_type": "stream",
     "text": [
      "WARNING:tensorflow:Can save best model only with val_loss available, skipping.\n"
     ]
    },
    {
     "name": "stdout",
     "output_type": "stream",
     "text": [
      "40/40 [==============================] - 20s 483ms/step - loss: 0.0092 - semantic_0_loss: 0.0020 - semantic_1_loss: 0.0060 - semantic_2_loss: 0.0012 - lr: 1.9827e-05\n",
      "Epoch 163/200\n",
      "40/40 [==============================] - ETA: 0s - loss: 0.0091 - semantic_0_loss: 0.0020 - semantic_1_loss: 0.0059 - semantic_2_loss: 0.0012WARNING:tensorflow:Can save best model only with val_loss available, skipping.\n"
     ]
    },
    {
     "name": "stderr",
     "output_type": "stream",
     "text": [
      "WARNING:tensorflow:Can save best model only with val_loss available, skipping.\n"
     ]
    },
    {
     "name": "stdout",
     "output_type": "stream",
     "text": [
      "40/40 [==============================] - 20s 486ms/step - loss: 0.0091 - semantic_0_loss: 0.0020 - semantic_1_loss: 0.0059 - semantic_2_loss: 0.0012 - lr: 1.9629e-05\n",
      "Epoch 164/200\n",
      "40/40 [==============================] - ETA: 0s - loss: 0.0089 - semantic_0_loss: 0.0020 - semantic_1_loss: 0.0058 - semantic_2_loss: 0.0012WARNING:tensorflow:Can save best model only with val_loss available, skipping.\n"
     ]
    },
    {
     "name": "stderr",
     "output_type": "stream",
     "text": [
      "WARNING:tensorflow:Can save best model only with val_loss available, skipping.\n"
     ]
    },
    {
     "name": "stdout",
     "output_type": "stream",
     "text": [
      "40/40 [==============================] - 19s 481ms/step - loss: 0.0089 - semantic_0_loss: 0.0020 - semantic_1_loss: 0.0058 - semantic_2_loss: 0.0012 - lr: 1.9433e-05\n",
      "Epoch 165/200\n",
      "40/40 [==============================] - ETA: 0s - loss: 0.0089 - semantic_0_loss: 0.0020 - semantic_1_loss: 0.0057 - semantic_2_loss: 0.0012WARNING:tensorflow:Can save best model only with val_loss available, skipping.\n"
     ]
    },
    {
     "name": "stderr",
     "output_type": "stream",
     "text": [
      "WARNING:tensorflow:Can save best model only with val_loss available, skipping.\n"
     ]
    },
    {
     "name": "stdout",
     "output_type": "stream",
     "text": [
      "40/40 [==============================] - 20s 504ms/step - loss: 0.0089 - semantic_0_loss: 0.0020 - semantic_1_loss: 0.0057 - semantic_2_loss: 0.0012 - lr: 1.9239e-05\n",
      "Epoch 166/200\n",
      "40/40 [==============================] - ETA: 0s - loss: 0.0090 - semantic_0_loss: 0.0020 - semantic_1_loss: 0.0058 - semantic_2_loss: 0.0012WARNING:tensorflow:Can save best model only with val_loss available, skipping.\n"
     ]
    },
    {
     "name": "stderr",
     "output_type": "stream",
     "text": [
      "WARNING:tensorflow:Can save best model only with val_loss available, skipping.\n"
     ]
    },
    {
     "name": "stdout",
     "output_type": "stream",
     "text": [
      "40/40 [==============================] - 20s 488ms/step - loss: 0.0090 - semantic_0_loss: 0.0020 - semantic_1_loss: 0.0058 - semantic_2_loss: 0.0012 - lr: 1.9046e-05\n",
      "Epoch 167/200\n",
      "40/40 [==============================] - ETA: 0s - loss: 0.0090 - semantic_0_loss: 0.0020 - semantic_1_loss: 0.0058 - semantic_2_loss: 0.0012WARNING:tensorflow:Can save best model only with val_loss available, skipping.\n"
     ]
    },
    {
     "name": "stderr",
     "output_type": "stream",
     "text": [
      "WARNING:tensorflow:Can save best model only with val_loss available, skipping.\n"
     ]
    },
    {
     "name": "stdout",
     "output_type": "stream",
     "text": [
      "40/40 [==============================] - 20s 481ms/step - loss: 0.0090 - semantic_0_loss: 0.0020 - semantic_1_loss: 0.0058 - semantic_2_loss: 0.0012 - lr: 1.8856e-05\n",
      "Epoch 168/200\n",
      "40/40 [==============================] - ETA: 0s - loss: 0.0090 - semantic_0_loss: 0.0020 - semantic_1_loss: 0.0058 - semantic_2_loss: 0.0012WARNING:tensorflow:Can save best model only with val_loss available, skipping.\n"
     ]
    },
    {
     "name": "stderr",
     "output_type": "stream",
     "text": [
      "WARNING:tensorflow:Can save best model only with val_loss available, skipping.\n"
     ]
    },
    {
     "name": "stdout",
     "output_type": "stream",
     "text": [
      "40/40 [==============================] - 19s 480ms/step - loss: 0.0090 - semantic_0_loss: 0.0020 - semantic_1_loss: 0.0058 - semantic_2_loss: 0.0012 - lr: 1.8667e-05\n",
      "Epoch 169/200\n",
      "40/40 [==============================] - ETA: 0s - loss: 0.0087 - semantic_0_loss: 0.0019 - semantic_1_loss: 0.0056 - semantic_2_loss: 0.0012WARNING:tensorflow:Can save best model only with val_loss available, skipping.\n"
     ]
    },
    {
     "name": "stderr",
     "output_type": "stream",
     "text": [
      "WARNING:tensorflow:Can save best model only with val_loss available, skipping.\n"
     ]
    },
    {
     "name": "stdout",
     "output_type": "stream",
     "text": [
      "40/40 [==============================] - 20s 487ms/step - loss: 0.0087 - semantic_0_loss: 0.0019 - semantic_1_loss: 0.0056 - semantic_2_loss: 0.0012 - lr: 1.8480e-05\n",
      "Epoch 170/200\n",
      "40/40 [==============================] - ETA: 0s - loss: 0.0090 - semantic_0_loss: 0.0020 - semantic_1_loss: 0.0058 - semantic_2_loss: 0.0012WARNING:tensorflow:Can save best model only with val_loss available, skipping.\n"
     ]
    },
    {
     "name": "stderr",
     "output_type": "stream",
     "text": [
      "WARNING:tensorflow:Can save best model only with val_loss available, skipping.\n"
     ]
    },
    {
     "name": "stdout",
     "output_type": "stream",
     "text": [
      "40/40 [==============================] - 20s 495ms/step - loss: 0.0090 - semantic_0_loss: 0.0020 - semantic_1_loss: 0.0058 - semantic_2_loss: 0.0012 - lr: 1.8296e-05\n",
      "Epoch 171/200\n",
      "40/40 [==============================] - ETA: 0s - loss: 0.0090 - semantic_0_loss: 0.0020 - semantic_1_loss: 0.0058 - semantic_2_loss: 0.0012WARNING:tensorflow:Can save best model only with val_loss available, skipping.\n"
     ]
    },
    {
     "name": "stderr",
     "output_type": "stream",
     "text": [
      "WARNING:tensorflow:Can save best model only with val_loss available, skipping.\n"
     ]
    },
    {
     "name": "stdout",
     "output_type": "stream",
     "text": [
      "40/40 [==============================] - 20s 485ms/step - loss: 0.0090 - semantic_0_loss: 0.0020 - semantic_1_loss: 0.0058 - semantic_2_loss: 0.0012 - lr: 1.8113e-05\n",
      "Epoch 172/200\n",
      "40/40 [==============================] - ETA: 0s - loss: 0.0090 - semantic_0_loss: 0.0020 - semantic_1_loss: 0.0058 - semantic_2_loss: 0.0012WARNING:tensorflow:Can save best model only with val_loss available, skipping.\n"
     ]
    },
    {
     "name": "stderr",
     "output_type": "stream",
     "text": [
      "WARNING:tensorflow:Can save best model only with val_loss available, skipping.\n"
     ]
    },
    {
     "name": "stdout",
     "output_type": "stream",
     "text": [
      "40/40 [==============================] - 20s 484ms/step - loss: 0.0090 - semantic_0_loss: 0.0020 - semantic_1_loss: 0.0058 - semantic_2_loss: 0.0012 - lr: 1.7932e-05\n",
      "Epoch 173/200\n",
      "40/40 [==============================] - ETA: 0s - loss: 0.0090 - semantic_0_loss: 0.0020 - semantic_1_loss: 0.0058 - semantic_2_loss: 0.0012WARNING:tensorflow:Can save best model only with val_loss available, skipping.\n"
     ]
    },
    {
     "name": "stderr",
     "output_type": "stream",
     "text": [
      "WARNING:tensorflow:Can save best model only with val_loss available, skipping.\n"
     ]
    },
    {
     "name": "stdout",
     "output_type": "stream",
     "text": [
      "40/40 [==============================] - 20s 485ms/step - loss: 0.0090 - semantic_0_loss: 0.0020 - semantic_1_loss: 0.0058 - semantic_2_loss: 0.0012 - lr: 1.7752e-05\n",
      "Epoch 174/200\n",
      "40/40 [==============================] - ETA: 0s - loss: 0.0090 - semantic_0_loss: 0.0020 - semantic_1_loss: 0.0058 - semantic_2_loss: 0.0012WARNING:tensorflow:Can save best model only with val_loss available, skipping.\n"
     ]
    },
    {
     "name": "stderr",
     "output_type": "stream",
     "text": [
      "WARNING:tensorflow:Can save best model only with val_loss available, skipping.\n"
     ]
    },
    {
     "name": "stdout",
     "output_type": "stream",
     "text": [
      "40/40 [==============================] - 20s 488ms/step - loss: 0.0090 - semantic_0_loss: 0.0020 - semantic_1_loss: 0.0058 - semantic_2_loss: 0.0012 - lr: 1.7575e-05\n",
      "Epoch 175/200\n",
      "40/40 [==============================] - ETA: 0s - loss: 0.0090 - semantic_0_loss: 0.0020 - semantic_1_loss: 0.0058 - semantic_2_loss: 0.0012WARNING:tensorflow:Can save best model only with val_loss available, skipping.\n"
     ]
    },
    {
     "name": "stderr",
     "output_type": "stream",
     "text": [
      "WARNING:tensorflow:Can save best model only with val_loss available, skipping.\n"
     ]
    },
    {
     "name": "stdout",
     "output_type": "stream",
     "text": [
      "40/40 [==============================] - 20s 488ms/step - loss: 0.0090 - semantic_0_loss: 0.0020 - semantic_1_loss: 0.0058 - semantic_2_loss: 0.0012 - lr: 1.7399e-05\n",
      "Epoch 176/200\n",
      "40/40 [==============================] - ETA: 0s - loss: 0.0089 - semantic_0_loss: 0.0020 - semantic_1_loss: 0.0058 - semantic_2_loss: 0.0012WARNING:tensorflow:Can save best model only with val_loss available, skipping.\n"
     ]
    },
    {
     "name": "stderr",
     "output_type": "stream",
     "text": [
      "WARNING:tensorflow:Can save best model only with val_loss available, skipping.\n"
     ]
    },
    {
     "name": "stdout",
     "output_type": "stream",
     "text": [
      "40/40 [==============================] - 20s 487ms/step - loss: 0.0089 - semantic_0_loss: 0.0020 - semantic_1_loss: 0.0058 - semantic_2_loss: 0.0012 - lr: 1.7225e-05\n",
      "Epoch 177/200\n",
      "40/40 [==============================] - ETA: 0s - loss: 0.0090 - semantic_0_loss: 0.0020 - semantic_1_loss: 0.0059 - semantic_2_loss: 0.0012WARNING:tensorflow:Can save best model only with val_loss available, skipping.\n"
     ]
    },
    {
     "name": "stderr",
     "output_type": "stream",
     "text": [
      "WARNING:tensorflow:Can save best model only with val_loss available, skipping.\n"
     ]
    },
    {
     "name": "stdout",
     "output_type": "stream",
     "text": [
      "40/40 [==============================] - 20s 489ms/step - loss: 0.0090 - semantic_0_loss: 0.0020 - semantic_1_loss: 0.0059 - semantic_2_loss: 0.0012 - lr: 1.7053e-05\n",
      "Epoch 178/200\n",
      "40/40 [==============================] - ETA: 0s - loss: 0.0091 - semantic_0_loss: 0.0020 - semantic_1_loss: 0.0059 - semantic_2_loss: 0.0012WARNING:tensorflow:Can save best model only with val_loss available, skipping.\n"
     ]
    },
    {
     "name": "stderr",
     "output_type": "stream",
     "text": [
      "WARNING:tensorflow:Can save best model only with val_loss available, skipping.\n"
     ]
    },
    {
     "name": "stdout",
     "output_type": "stream",
     "text": [
      "40/40 [==============================] - 20s 484ms/step - loss: 0.0091 - semantic_0_loss: 0.0020 - semantic_1_loss: 0.0059 - semantic_2_loss: 0.0012 - lr: 1.6882e-05\n",
      "Epoch 179/200\n",
      "40/40 [==============================] - ETA: 0s - loss: 0.0089 - semantic_0_loss: 0.0020 - semantic_1_loss: 0.0057 - semantic_2_loss: 0.0012WARNING:tensorflow:Can save best model only with val_loss available, skipping.\n"
     ]
    },
    {
     "name": "stderr",
     "output_type": "stream",
     "text": [
      "WARNING:tensorflow:Can save best model only with val_loss available, skipping.\n"
     ]
    },
    {
     "name": "stdout",
     "output_type": "stream",
     "text": [
      "40/40 [==============================] - 20s 487ms/step - loss: 0.0089 - semantic_0_loss: 0.0020 - semantic_1_loss: 0.0057 - semantic_2_loss: 0.0012 - lr: 1.6713e-05\n",
      "Epoch 180/200\n",
      "40/40 [==============================] - ETA: 0s - loss: 0.0090 - semantic_0_loss: 0.0020 - semantic_1_loss: 0.0058 - semantic_2_loss: 0.0012WARNING:tensorflow:Can save best model only with val_loss available, skipping.\n"
     ]
    },
    {
     "name": "stderr",
     "output_type": "stream",
     "text": [
      "WARNING:tensorflow:Can save best model only with val_loss available, skipping.\n"
     ]
    },
    {
     "name": "stdout",
     "output_type": "stream",
     "text": [
      "40/40 [==============================] - 20s 499ms/step - loss: 0.0090 - semantic_0_loss: 0.0020 - semantic_1_loss: 0.0058 - semantic_2_loss: 0.0012 - lr: 1.6546e-05\n",
      "Epoch 181/200\n",
      "40/40 [==============================] - ETA: 0s - loss: 0.0090 - semantic_0_loss: 0.0020 - semantic_1_loss: 0.0058 - semantic_2_loss: 0.0012WARNING:tensorflow:Can save best model only with val_loss available, skipping.\n"
     ]
    },
    {
     "name": "stderr",
     "output_type": "stream",
     "text": [
      "WARNING:tensorflow:Can save best model only with val_loss available, skipping.\n"
     ]
    },
    {
     "name": "stdout",
     "output_type": "stream",
     "text": [
      "40/40 [==============================] - 19s 481ms/step - loss: 0.0090 - semantic_0_loss: 0.0020 - semantic_1_loss: 0.0058 - semantic_2_loss: 0.0012 - lr: 1.6381e-05\n",
      "Epoch 182/200\n",
      "40/40 [==============================] - ETA: 0s - loss: 0.0090 - semantic_0_loss: 0.0020 - semantic_1_loss: 0.0058 - semantic_2_loss: 0.0012WARNING:tensorflow:Can save best model only with val_loss available, skipping.\n"
     ]
    },
    {
     "name": "stderr",
     "output_type": "stream",
     "text": [
      "WARNING:tensorflow:Can save best model only with val_loss available, skipping.\n"
     ]
    },
    {
     "name": "stdout",
     "output_type": "stream",
     "text": [
      "40/40 [==============================] - 20s 484ms/step - loss: 0.0090 - semantic_0_loss: 0.0020 - semantic_1_loss: 0.0058 - semantic_2_loss: 0.0012 - lr: 1.6217e-05\n",
      "Epoch 183/200\n",
      "40/40 [==============================] - ETA: 0s - loss: 0.0090 - semantic_0_loss: 0.0020 - semantic_1_loss: 0.0058 - semantic_2_loss: 0.0012WARNING:tensorflow:Can save best model only with val_loss available, skipping.\n"
     ]
    },
    {
     "name": "stderr",
     "output_type": "stream",
     "text": [
      "WARNING:tensorflow:Can save best model only with val_loss available, skipping.\n"
     ]
    },
    {
     "name": "stdout",
     "output_type": "stream",
     "text": [
      "40/40 [==============================] - 20s 495ms/step - loss: 0.0090 - semantic_0_loss: 0.0020 - semantic_1_loss: 0.0058 - semantic_2_loss: 0.0012 - lr: 1.6055e-05\n",
      "Epoch 184/200\n",
      "40/40 [==============================] - ETA: 0s - loss: 0.0089 - semantic_0_loss: 0.0020 - semantic_1_loss: 0.0057 - semantic_2_loss: 0.0012WARNING:tensorflow:Can save best model only with val_loss available, skipping.\n"
     ]
    },
    {
     "name": "stderr",
     "output_type": "stream",
     "text": [
      "WARNING:tensorflow:Can save best model only with val_loss available, skipping.\n"
     ]
    },
    {
     "name": "stdout",
     "output_type": "stream",
     "text": [
      "40/40 [==============================] - 19s 482ms/step - loss: 0.0089 - semantic_0_loss: 0.0020 - semantic_1_loss: 0.0057 - semantic_2_loss: 0.0012 - lr: 1.5894e-05\n",
      "Epoch 185/200\n",
      "40/40 [==============================] - ETA: 0s - loss: 0.0088 - semantic_0_loss: 0.0020 - semantic_1_loss: 0.0056 - semantic_2_loss: 0.0012WARNING:tensorflow:Can save best model only with val_loss available, skipping.\n"
     ]
    },
    {
     "name": "stderr",
     "output_type": "stream",
     "text": [
      "WARNING:tensorflow:Can save best model only with val_loss available, skipping.\n"
     ]
    },
    {
     "name": "stdout",
     "output_type": "stream",
     "text": [
      "40/40 [==============================] - 20s 488ms/step - loss: 0.0088 - semantic_0_loss: 0.0020 - semantic_1_loss: 0.0056 - semantic_2_loss: 0.0012 - lr: 1.5735e-05\n",
      "Epoch 186/200\n",
      "40/40 [==============================] - ETA: 0s - loss: 0.0091 - semantic_0_loss: 0.0020 - semantic_1_loss: 0.0059 - semantic_2_loss: 0.0012WARNING:tensorflow:Can save best model only with val_loss available, skipping.\n"
     ]
    },
    {
     "name": "stderr",
     "output_type": "stream",
     "text": [
      "WARNING:tensorflow:Can save best model only with val_loss available, skipping.\n"
     ]
    },
    {
     "name": "stdout",
     "output_type": "stream",
     "text": [
      "40/40 [==============================] - 20s 486ms/step - loss: 0.0091 - semantic_0_loss: 0.0020 - semantic_1_loss: 0.0059 - semantic_2_loss: 0.0012 - lr: 1.5578e-05\n",
      "Epoch 187/200\n",
      "40/40 [==============================] - ETA: 0s - loss: 0.0088 - semantic_0_loss: 0.0020 - semantic_1_loss: 0.0057 - semantic_2_loss: 0.0012WARNING:tensorflow:Can save best model only with val_loss available, skipping.\n"
     ]
    },
    {
     "name": "stderr",
     "output_type": "stream",
     "text": [
      "WARNING:tensorflow:Can save best model only with val_loss available, skipping.\n"
     ]
    },
    {
     "name": "stdout",
     "output_type": "stream",
     "text": [
      "40/40 [==============================] - 20s 485ms/step - loss: 0.0088 - semantic_0_loss: 0.0020 - semantic_1_loss: 0.0057 - semantic_2_loss: 0.0012 - lr: 1.5422e-05\n",
      "Epoch 188/200\n",
      "40/40 [==============================] - ETA: 0s - loss: 0.0090 - semantic_0_loss: 0.0020 - semantic_1_loss: 0.0059 - semantic_2_loss: 0.0012WARNING:tensorflow:Can save best model only with val_loss available, skipping.\n"
     ]
    },
    {
     "name": "stderr",
     "output_type": "stream",
     "text": [
      "WARNING:tensorflow:Can save best model only with val_loss available, skipping.\n"
     ]
    },
    {
     "name": "stdout",
     "output_type": "stream",
     "text": [
      "40/40 [==============================] - 19s 480ms/step - loss: 0.0090 - semantic_0_loss: 0.0020 - semantic_1_loss: 0.0059 - semantic_2_loss: 0.0012 - lr: 1.5268e-05\n",
      "Epoch 189/200\n",
      "40/40 [==============================] - ETA: 0s - loss: 0.0089 - semantic_0_loss: 0.0019 - semantic_1_loss: 0.0058 - semantic_2_loss: 0.0012WARNING:tensorflow:Can save best model only with val_loss available, skipping.\n"
     ]
    },
    {
     "name": "stderr",
     "output_type": "stream",
     "text": [
      "WARNING:tensorflow:Can save best model only with val_loss available, skipping.\n"
     ]
    },
    {
     "name": "stdout",
     "output_type": "stream",
     "text": [
      "40/40 [==============================] - 19s 481ms/step - loss: 0.0089 - semantic_0_loss: 0.0019 - semantic_1_loss: 0.0058 - semantic_2_loss: 0.0012 - lr: 1.5115e-05\n",
      "Epoch 190/200\n",
      "40/40 [==============================] - ETA: 0s - loss: 0.0089 - semantic_0_loss: 0.0020 - semantic_1_loss: 0.0058 - semantic_2_loss: 0.0012WARNING:tensorflow:Can save best model only with val_loss available, skipping.\n"
     ]
    },
    {
     "name": "stderr",
     "output_type": "stream",
     "text": [
      "WARNING:tensorflow:Can save best model only with val_loss available, skipping.\n"
     ]
    },
    {
     "name": "stdout",
     "output_type": "stream",
     "text": [
      "40/40 [==============================] - 20s 488ms/step - loss: 0.0089 - semantic_0_loss: 0.0020 - semantic_1_loss: 0.0058 - semantic_2_loss: 0.0012 - lr: 1.4964e-05\n",
      "Epoch 191/200\n",
      "40/40 [==============================] - ETA: 0s - loss: 0.0089 - semantic_0_loss: 0.0020 - semantic_1_loss: 0.0057 - semantic_2_loss: 0.0012WARNING:tensorflow:Can save best model only with val_loss available, skipping.\n"
     ]
    },
    {
     "name": "stderr",
     "output_type": "stream",
     "text": [
      "WARNING:tensorflow:Can save best model only with val_loss available, skipping.\n"
     ]
    },
    {
     "name": "stdout",
     "output_type": "stream",
     "text": [
      "40/40 [==============================] - 20s 486ms/step - loss: 0.0089 - semantic_0_loss: 0.0020 - semantic_1_loss: 0.0057 - semantic_2_loss: 0.0012 - lr: 1.4814e-05\n",
      "Epoch 192/200\n",
      "40/40 [==============================] - ETA: 0s - loss: 0.0088 - semantic_0_loss: 0.0020 - semantic_1_loss: 0.0057 - semantic_2_loss: 0.0011WARNING:tensorflow:Can save best model only with val_loss available, skipping.\n"
     ]
    },
    {
     "name": "stderr",
     "output_type": "stream",
     "text": [
      "WARNING:tensorflow:Can save best model only with val_loss available, skipping.\n"
     ]
    },
    {
     "name": "stdout",
     "output_type": "stream",
     "text": [
      "40/40 [==============================] - 20s 484ms/step - loss: 0.0088 - semantic_0_loss: 0.0020 - semantic_1_loss: 0.0057 - semantic_2_loss: 0.0011 - lr: 1.4666e-05\n",
      "Epoch 193/200\n",
      "40/40 [==============================] - ETA: 0s - loss: 0.0088 - semantic_0_loss: 0.0020 - semantic_1_loss: 0.0056 - semantic_2_loss: 0.0011WARNING:tensorflow:Can save best model only with val_loss available, skipping.\n"
     ]
    },
    {
     "name": "stderr",
     "output_type": "stream",
     "text": [
      "WARNING:tensorflow:Can save best model only with val_loss available, skipping.\n"
     ]
    },
    {
     "name": "stdout",
     "output_type": "stream",
     "text": [
      "40/40 [==============================] - 20s 488ms/step - loss: 0.0088 - semantic_0_loss: 0.0020 - semantic_1_loss: 0.0056 - semantic_2_loss: 0.0011 - lr: 1.4520e-05\n",
      "Epoch 194/200\n",
      "40/40 [==============================] - ETA: 0s - loss: 0.0086 - semantic_0_loss: 0.0020 - semantic_1_loss: 0.0055 - semantic_2_loss: 0.0011WARNING:tensorflow:Can save best model only with val_loss available, skipping.\n"
     ]
    },
    {
     "name": "stderr",
     "output_type": "stream",
     "text": [
      "WARNING:tensorflow:Can save best model only with val_loss available, skipping.\n"
     ]
    },
    {
     "name": "stdout",
     "output_type": "stream",
     "text": [
      "40/40 [==============================] - 20s 489ms/step - loss: 0.0086 - semantic_0_loss: 0.0020 - semantic_1_loss: 0.0055 - semantic_2_loss: 0.0011 - lr: 1.4374e-05\n",
      "Epoch 195/200\n",
      "40/40 [==============================] - ETA: 0s - loss: 0.0089 - semantic_0_loss: 0.0020 - semantic_1_loss: 0.0058 - semantic_2_loss: 0.0012WARNING:tensorflow:Can save best model only with val_loss available, skipping.\n"
     ]
    },
    {
     "name": "stderr",
     "output_type": "stream",
     "text": [
      "WARNING:tensorflow:Can save best model only with val_loss available, skipping.\n"
     ]
    },
    {
     "name": "stdout",
     "output_type": "stream",
     "text": [
      "40/40 [==============================] - 20s 489ms/step - loss: 0.0089 - semantic_0_loss: 0.0020 - semantic_1_loss: 0.0058 - semantic_2_loss: 0.0012 - lr: 1.4231e-05\n",
      "Epoch 196/200\n",
      "40/40 [==============================] - ETA: 0s - loss: 0.0089 - semantic_0_loss: 0.0020 - semantic_1_loss: 0.0057 - semantic_2_loss: 0.0012WARNING:tensorflow:Can save best model only with val_loss available, skipping.\n"
     ]
    },
    {
     "name": "stderr",
     "output_type": "stream",
     "text": [
      "WARNING:tensorflow:Can save best model only with val_loss available, skipping.\n"
     ]
    },
    {
     "name": "stdout",
     "output_type": "stream",
     "text": [
      "40/40 [==============================] - 20s 490ms/step - loss: 0.0089 - semantic_0_loss: 0.0020 - semantic_1_loss: 0.0057 - semantic_2_loss: 0.0012 - lr: 1.4088e-05\n",
      "Epoch 197/200\n",
      "40/40 [==============================] - ETA: 0s - loss: 0.0087 - semantic_0_loss: 0.0019 - semantic_1_loss: 0.0056 - semantic_2_loss: 0.0011WARNING:tensorflow:Can save best model only with val_loss available, skipping.\n"
     ]
    },
    {
     "name": "stderr",
     "output_type": "stream",
     "text": [
      "WARNING:tensorflow:Can save best model only with val_loss available, skipping.\n"
     ]
    },
    {
     "name": "stdout",
     "output_type": "stream",
     "text": [
      "40/40 [==============================] - 20s 492ms/step - loss: 0.0087 - semantic_0_loss: 0.0019 - semantic_1_loss: 0.0056 - semantic_2_loss: 0.0011 - lr: 1.3948e-05\n",
      "Epoch 198/200\n",
      "40/40 [==============================] - ETA: 0s - loss: 0.0089 - semantic_0_loss: 0.0020 - semantic_1_loss: 0.0057 - semantic_2_loss: 0.0012WARNING:tensorflow:Can save best model only with val_loss available, skipping.\n"
     ]
    },
    {
     "name": "stderr",
     "output_type": "stream",
     "text": [
      "WARNING:tensorflow:Can save best model only with val_loss available, skipping.\n"
     ]
    },
    {
     "name": "stdout",
     "output_type": "stream",
     "text": [
      "40/40 [==============================] - 20s 483ms/step - loss: 0.0089 - semantic_0_loss: 0.0020 - semantic_1_loss: 0.0057 - semantic_2_loss: 0.0012 - lr: 1.3808e-05\n",
      "Epoch 199/200\n",
      "40/40 [==============================] - ETA: 0s - loss: 0.0087 - semantic_0_loss: 0.0020 - semantic_1_loss: 0.0056 - semantic_2_loss: 0.0011WARNING:tensorflow:Can save best model only with val_loss available, skipping.\n"
     ]
    },
    {
     "name": "stderr",
     "output_type": "stream",
     "text": [
      "WARNING:tensorflow:Can save best model only with val_loss available, skipping.\n"
     ]
    },
    {
     "name": "stdout",
     "output_type": "stream",
     "text": [
      "40/40 [==============================] - 20s 490ms/step - loss: 0.0087 - semantic_0_loss: 0.0020 - semantic_1_loss: 0.0056 - semantic_2_loss: 0.0011 - lr: 1.3670e-05\n",
      "Epoch 200/200\n",
      "40/40 [==============================] - ETA: 0s - loss: 0.0090 - semantic_0_loss: 0.0020 - semantic_1_loss: 0.0058 - semantic_2_loss: 0.0012WARNING:tensorflow:Can save best model only with val_loss available, skipping.\n"
     ]
    },
    {
     "name": "stderr",
     "output_type": "stream",
     "text": [
      "WARNING:tensorflow:Can save best model only with val_loss available, skipping.\n"
     ]
    },
    {
     "name": "stdout",
     "output_type": "stream",
     "text": [
      "40/40 [==============================] - 20s 488ms/step - loss: 0.0090 - semantic_0_loss: 0.0020 - semantic_1_loss: 0.0058 - semantic_2_loss: 0.0012 - lr: 1.3533e-05\n",
      "/home/yfong/deeplearning/dense_cell_segmentation\n",
      "['M926910_CFL_Position7_CD3_test_img.png', 'M872956_JML_Position10_CD3_test_img.png', 'M872956_JML_Position8_CD8_test_img.png', 'M926910_CFL_Position13_CD3_test_img.png', 'M872956_JML_Position8_CD3_test_img.png', 'M872956_JML_Position8_CD4_test_img.png', 'M872956_JML_Position9_CD3_test_img.png']\n",
      "M926910_CFL_Position7_CD3_test_img.png\n"
     ]
    },
    {
     "name": "stderr",
     "output_type": "stream",
     "text": [
      "/app/software/DeepCell/0.11.1-foss-2021b-CUDA-11.4.1/lib/python3.9/site-packages/deepcell_toolbox/deep_watershed.py:179: FutureWarning: `selem` is a deprecated argument name for `h_maxima`. It will be removed in version 1.0.Please use `footprint` instead.\n",
      "  markers = h_maxima(image=maxima,\n"
     ]
    },
    {
     "name": "stdout",
     "output_type": "stream",
     "text": [
      "M872956_JML_Position10_CD3_test_img.png\n",
      "M872956_JML_Position8_CD8_test_img.png\n",
      "M926910_CFL_Position13_CD3_test_img.png\n",
      "M872956_JML_Position8_CD3_test_img.png\n",
      "M872956_JML_Position8_CD4_test_img.png\n",
      "M872956_JML_Position9_CD3_test_img.png\n",
      "[[0.22366288492706646, 0.3599374021909233], [0.24865831842576028, 0.3890845070422535], [0.3812154696132597, 0.4824120603015075], [0.2037037037037037, 0.3224181360201511], [0.36704119850187267, 0.5], [0.4943820224719101, 0.5883905013192612], [0.2680851063829787, 0.3543788187372709]]\n",
      "                                         0         1         2\n",
      "0   M926910_CFL_Position7_CD3_test_img.png  0.223663  0.359937\n",
      "1  M872956_JML_Position10_CD3_test_img.png  0.248658  0.389085\n",
      "2   M872956_JML_Position8_CD8_test_img.png  0.381215  0.482412\n",
      "3  M926910_CFL_Position13_CD3_test_img.png  0.203704  0.322418\n",
      "4   M872956_JML_Position8_CD3_test_img.png  0.367041       0.5\n",
      "5   M872956_JML_Position8_CD4_test_img.png  0.494382  0.588391\n",
      "6   M872956_JML_Position9_CD3_test_img.png  0.268085  0.354379\n"
     ]
    }
   ],
   "source": [
    "for ii in [1,2,3,4,5,6,7]:\n",
    "    idx=\"training{}\".format(ii)\n",
    "    INPUT_PATH=\"images/\"+idx+\"/\"\n",
    "    model_name = 'tn1.0_cyto_K_512x512resized_'+idx \n",
    "    model_path = '{}.h5'.format(model_name)\n",
    "\n",
    "    import glob\n",
    "    FILENAMES = glob.glob(INPUT_PATH+\"*_img.png\")\n",
    "    print(len(FILENAMES))\n",
    "\n",
    "    imgs = [io.imread(CURR_IM_NAME)[:,:,0] for CURR_IM_NAME in FILENAMES]\n",
    "    X_train = tf.stack(imgs)\n",
    "    X_train = np.expand_dims(X_train, axis=-1)\n",
    "    print(X_train.shape)\n",
    "\n",
    "    masks = [io.imread(CURR_IM_NAME.replace(\"img\",\"masks\")) for CURR_IM_NAME in FILENAMES]\n",
    "    y_train = tf.stack(masks)\n",
    "    y_train = np.expand_dims(y_train, axis=-1)\n",
    "    print(y_train.shape)\n",
    "\n",
    "    # resize image\n",
    "    mpp_select=2 # based on DeepCell_tn_cyto.ipynb\n",
    "    shape = X_train.shape\n",
    "    scale_factor = mpp_select / 0.65\n",
    "    print(scale_factor)\n",
    "    new_shape = (int(shape[1] * scale_factor),\n",
    "                 int(shape[2] * scale_factor))\n",
    "\n",
    "    X_train_resized = resize(X_train, new_shape, data_format='channels_last')\n",
    "    y_train_resized = resize(y_train, new_shape, data_format='channels_last', labeled_image=True)\n",
    "    print(X_train_resized.shape)\n",
    "    print(y_train_resized.shape)\n",
    "\n",
    "    # cut each resized image into 5x5 patches of size 512x512 \n",
    "    print(X_train_resized.shape)\n",
    "    print(y_train_resized.shape)\n",
    "\n",
    "    x_starts=[0,400,400*2,400*3,X_train_resized.shape[1]-512]\n",
    "    x_ends=[x+512 for x in x_starts]\n",
    "    print(x_starts)\n",
    "    print(x_ends)\n",
    "\n",
    "    y_starts=[0,512,512*2,512*3,X_train_resized.shape[2]-512]\n",
    "    y_ends=[x+512 for x in y_starts]\n",
    "    print(y_starts)\n",
    "    print(y_ends)\n",
    "\n",
    "    sub_X=tf.concat([tf.concat([X_train_resized[:, x_starts[i]:x_ends[i], y_starts[j]:y_ends[j], :] for i in range(len(x_starts)) ], axis=0) for j in range(len(y_starts))], axis=0)\n",
    "    sub_X = np.array(sub_X, dtype=np.uint8) # tf.stack changes the dtype \n",
    "    print(sub_X.shape)\n",
    "    sub_y=tf.concat([tf.concat([y_train_resized[:, x_starts[i]:x_ends[i], y_starts[j]:y_ends[j], :] for i in range(len(x_starts)) ], axis=0) for j in range(len(y_starts))], axis=0)\n",
    "    sub_y = np.array(sub_y, dtype=np.uint16) # tf.stack changes the dtype \n",
    "    print(sub_y.shape)\n",
    "\n",
    "    # create dataloader\n",
    "    seed=0\n",
    "    min_objects = 5\n",
    "\n",
    "    transforms = ['inner-distance', 'outer-distance', 'fgbg']\n",
    "    transforms_kwargs = {'outer-distance': {'erosion_width': 0}}\n",
    "\n",
    "    # use augmentation for training but not validation\n",
    "    datagen = image_generators.SemanticDataGenerator(\n",
    "        rotation_range=180,\n",
    "        fill_mode='reflect',\n",
    "        zoom_range=(0.75, 1.25),\n",
    "        horizontal_flip=True,\n",
    "        vertical_flip=True)\n",
    "\n",
    "    datagen_val = image_generators.CroppingDataGenerator()\n",
    "\n",
    "    batch_size = 4 # 8 causes memory outage\n",
    "\n",
    "    train_data = datagen.flow(\n",
    "        {'X': sub_X, 'y': sub_y},\n",
    "        seed=seed,\n",
    "        transforms=transforms,\n",
    "        transforms_kwargs=transforms_kwargs,\n",
    "        min_objects=min_objects,\n",
    "        batch_size=batch_size)\n",
    "\n",
    "    val_data = None\n",
    "\n",
    "    semantic_classes = [1, 1, 2] # inner distance, outer distance, fgbg\n",
    "\n",
    "    model = PanopticNet(\n",
    "        backbone='resnet50',\n",
    "        input_shape=(512,512,1),\n",
    "        norm_method='whole_image',\n",
    "        num_semantic_classes=semantic_classes)\n",
    "\n",
    "    lr = 1e-4\n",
    "    optimizer = Adam(lr=lr, clipnorm=0.001)\n",
    "    lr_sched = rate_scheduler(lr=lr, decay=0.99)\n",
    "\n",
    "    # Create a dictionary of losses for each semantic head\n",
    "\n",
    "    def semantic_loss(n_classes):\n",
    "        def _semantic_loss(y_pred, y_true):\n",
    "            if n_classes > 1:\n",
    "                return 0.01 * weighted_categorical_crossentropy(\n",
    "                    y_pred, y_true, n_classes=n_classes)\n",
    "            return MSE(y_pred, y_true)\n",
    "        return _semantic_loss\n",
    "\n",
    "    loss = {}\n",
    "\n",
    "    # Give losses for all of the semantic heads\n",
    "    for layer in model.layers:\n",
    "        if layer.name.startswith('semantic_'):\n",
    "            n_classes = layer.output_shape[-1]\n",
    "            loss[layer.name] = semantic_loss(n_classes)\n",
    "\n",
    "    model.compile(loss=loss, optimizer=optimizer)\n",
    "\n",
    "    model.load_weights(starting_model_path, by_name=True)\n",
    "\n",
    "    [(layer.name, layer.output_shape) for layer in filter(lambda x: x.name.startswith('semantic_'), model.layers)]\n",
    "\n",
    "\n",
    "    # fit the model\n",
    "    print('Training on', count_gpus(), 'GPUs.')\n",
    "\n",
    "    train_callbacks = get_callbacks(\n",
    "        model_path,\n",
    "        lr_sched=lr_sched,\n",
    "    #     monitor=\"val_loss\",\n",
    "        # monitor='loss', # training loss\n",
    "        verbose=1)          \n",
    "\n",
    "    loss_history = model.fit(\n",
    "        train_data,\n",
    "        steps_per_epoch=train_data.y.shape[0] // batch_size, # \n",
    "        epochs=epochs, \n",
    "    #     validation_data=val_data,\n",
    "    #     validation_steps=val_data.y.shape[0] // batch_size,\n",
    "        callbacks=train_callbacks)\n",
    "\n",
    "    model.save_weights(model_path)\n",
    "\n",
    "    prediction_model = PanopticNet(\n",
    "        backbone='resnet50',\n",
    "        norm_method='whole_image',\n",
    "        num_semantic_classes=[1, 1], # inner distance, outer distance\n",
    "        input_shape= (512,512,1)\n",
    "    )\n",
    "\n",
    "    prediction_model.load_weights(model_path, by_name=True)\n",
    "\n",
    "    from deepcell.applications import CytoplasmSegmentation\n",
    "    app = CytoplasmSegmentation(prediction_model)\n",
    "    [(layer.name, layer.output_shape) for layer in filter(lambda x: x.name.startswith('semantic_'), app.model.layers)]\n",
    "\n",
    "\n",
    "    import os\n",
    "    print(os.getcwd())\n",
    "    INPUT_PATH=\"images/test/\"\n",
    "    FILENAMES = [f for f in os.listdir(\"images/training/testimages\")]\n",
    "    print(FILENAMES)\n",
    "\n",
    "\n",
    "    # more detailed mapping of image_mpp parameter\n",
    "    mpps=[1.3,2]\n",
    "\n",
    "    AP_mat=[]\n",
    "    for CURR_IM_NAME in FILENAMES:\n",
    "        print(CURR_IM_NAME)\n",
    "        im0 = io.imread(os.path.join(INPUT_PATH, CURR_IM_NAME))\n",
    "        mask_true=io.imread(os.path.join(INPUT_PATH, CURR_IM_NAME.replace(\"img\",\"masks\")))\n",
    "\n",
    "        x = np.expand_dims(im0, axis=-1)\n",
    "        x = np.expand_dims(x, axis=0)\n",
    "        y, tile_info = app._tile_input(x)\n",
    "        AP_arr=[]\n",
    "        for mpp in mpps:\n",
    "            prd = app._untile_output(app.predict(y, image_mpp=mpp), tile_info)[0,:,:,0]\n",
    "            a=syotil.csi(mask_true, prd)\n",
    "            AP_arr.append(a)\n",
    "        AP_mat.append(AP_arr)\n",
    "\n",
    "    print(AP_mat)\n",
    "\n",
    "    import pandas as pd\n",
    "    df = pd.DataFrame([FILENAMES, [x[0] for x in AP_mat], [x[1] for x in AP_mat]])\n",
    "    print(df.transpose())\n",
    "    df.to_csv('images/training/csi_'+model_name+'.txt', index=False, header=False)"
   ]
  }
 ],
 "metadata": {
  "kernelspec": {
   "display_name": "Python 3 (ipykernel)",
   "language": "python",
   "name": "python3"
  },
  "language_info": {
   "codemirror_mode": {
    "name": "ipython",
    "version": 3
   },
   "file_extension": ".py",
   "mimetype": "text/x-python",
   "name": "python",
   "nbconvert_exporter": "python",
   "pygments_lexer": "ipython3",
   "version": "3.9.6"
  }
 },
 "nbformat": 4,
 "nbformat_minor": 5
}
