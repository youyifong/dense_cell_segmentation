{
 "cells": [
  {
   "cell_type": "markdown",
   "id": "330e05e3",
   "metadata": {},
   "source": [
    "**Further train DeepCell Models with K's Data and Make Predictions**<br>\n",
    "Starting from model trained with tn nuclear data, further train the model with resized K's data that is cut into 25x7 512x512 patches and masks on the lines are removed along with pixels identified as in the masks on the lines.<br>\n",
    "200 epochs, semanticdatagenerator, resized<br>\n",
    "Best mAP 0.48 at mpp=1.3"
   ]
  },
  {
   "cell_type": "code",
   "execution_count": 1,
   "id": "a72e9c51",
   "metadata": {
    "execution": {
     "iopub.execute_input": "2022-11-05T21:15:28.395635Z",
     "iopub.status.busy": "2022-11-05T21:15:28.394291Z",
     "iopub.status.idle": "2022-11-05T21:15:28.397091Z",
     "shell.execute_reply": "2022-11-05T21:15:28.397687Z"
    }
   },
   "outputs": [],
   "source": [
    "starting_model_path = 'tn1.0_nuclear_20221102.h5' # the model trained with nucleus data from the Tissuenet V1.0 dataset\n",
    "INPUT_PATH=\"images/training_resized_512x512_a/\"\n",
    "model_name = 'tn1.0_nuclear_K_512x512resized_a' \n",
    "model_path = '{}.h5'.format(model_name)\n",
    "epochs=200 # 20 sec per step "
   ]
  },
  {
   "cell_type": "code",
   "execution_count": 2,
   "id": "90f2183c",
   "metadata": {
    "execution": {
     "iopub.execute_input": "2022-11-05T21:15:28.406214Z",
     "iopub.status.busy": "2022-11-05T21:15:28.405447Z",
     "iopub.status.idle": "2022-11-05T21:15:35.440395Z",
     "shell.execute_reply": "2022-11-05T21:15:35.441407Z"
    }
   },
   "outputs": [
    {
     "name": "stdout",
     "output_type": "stream",
     "text": [
      "2.7.1\n",
      "0.11.1\n"
     ]
    }
   ],
   "source": [
    "import syotil\n",
    "\n",
    "import numpy as np\n",
    "from skimage import io\n",
    "from matplotlib import pyplot as plt\n",
    "%matplotlib inline\n",
    "from timeit import default_timer\n",
    "import os\n",
    "from skimage import img_as_ubyte\n",
    "\n",
    "import deepcell\n",
    "from deepcell import image_generators\n",
    "from deepcell.utils.train_utils import rate_scheduler, get_callbacks, count_gpus\n",
    "from deepcell_toolbox.utils import resize, tile_image, untile_image\n",
    "from deepcell_toolbox.deep_watershed import deep_watershed\n",
    "from deepcell.losses import weighted_categorical_crossentropy\n",
    "from deepcell.model_zoo.panopticnet import PanopticNet\n",
    "\n",
    "import tensorflow as tf\n",
    "from tensorflow.keras.optimizers import SGD, Adam\n",
    "from tensorflow.keras.losses import MSE\n",
    "\n",
    "print(tf.__version__)\n",
    "print(deepcell.__version__)"
   ]
  },
  {
   "cell_type": "code",
   "execution_count": 3,
   "id": "938b06af",
   "metadata": {
    "execution": {
     "iopub.execute_input": "2022-11-05T21:15:35.448046Z",
     "iopub.status.busy": "2022-11-05T21:15:35.446864Z",
     "iopub.status.idle": "2022-11-05T21:15:35.452526Z",
     "shell.execute_reply": "2022-11-05T21:15:35.453288Z"
    }
   },
   "outputs": [
    {
     "name": "stdout",
     "output_type": "stream",
     "text": [
      "175\n",
      "['images/training_resized_512x512_a/M872956_JML_Position8_CD8_train21_img.png', 'images/training_resized_512x512_a/M872956_JML_Position10_CD3_train13_img.png', 'images/training_resized_512x512_a/M872956_JML_Position9_CD3_train20_img.png', 'images/training_resized_512x512_a/M872956_JML_Position8_CD8_train6_img.png', 'images/training_resized_512x512_a/M926910_CFL_Position7_CD3_train24_img.png', 'images/training_resized_512x512_a/M926910_CFL_Position7_CD3_train4_img.png', 'images/training_resized_512x512_a/M872956_JML_Position8_CD3_train1_img.png', 'images/training_resized_512x512_a/M872956_JML_Position10_CD3_train21_img.png', 'images/training_resized_512x512_a/M872956_JML_Position8_CD8_train17_img.png', 'images/training_resized_512x512_a/M872956_JML_Position9_CD3_train15_img.png', 'images/training_resized_512x512_a/M872956_JML_Position10_CD3_train7_img.png', 'images/training_resized_512x512_a/M926910_CFL_Position7_CD3_train5_img.png', 'images/training_resized_512x512_a/M872956_JML_Position10_CD3_train1_img.png', 'images/training_resized_512x512_a/M872956_JML_Position8_CD4_train22_img.png', 'images/training_resized_512x512_a/M872956_JML_Position10_CD3_train24_img.png', 'images/training_resized_512x512_a/M926910_CFL_Position7_CD3_train7_img.png', 'images/training_resized_512x512_a/M926910_CFL_Position7_CD3_train18_img.png', 'images/training_resized_512x512_a/M872956_JML_Position9_CD3_train13_img.png', 'images/training_resized_512x512_a/M872956_JML_Position8_CD3_train9_img.png', 'images/training_resized_512x512_a/M872956_JML_Position8_CD3_train21_img.png', 'images/training_resized_512x512_a/M926910_CFL_Position7_CD3_train14_img.png', 'images/training_resized_512x512_a/M926910_CFL_Position13_CD3_train6_img.png', 'images/training_resized_512x512_a/M872956_JML_Position8_CD3_train2_img.png', 'images/training_resized_512x512_a/M872956_JML_Position10_CD3_train14_img.png', 'images/training_resized_512x512_a/M872956_JML_Position8_CD4_train2_img.png', 'images/training_resized_512x512_a/M926910_CFL_Position13_CD3_train15_img.png', 'images/training_resized_512x512_a/M872956_JML_Position8_CD4_train3_img.png', 'images/training_resized_512x512_a/M872956_JML_Position10_CD3_train12_img.png', 'images/training_resized_512x512_a/M872956_JML_Position8_CD8_train12_img.png', 'images/training_resized_512x512_a/M872956_JML_Position9_CD3_train3_img.png', 'images/training_resized_512x512_a/M872956_JML_Position10_CD3_train20_img.png', 'images/training_resized_512x512_a/M872956_JML_Position8_CD8_train20_img.png', 'images/training_resized_512x512_a/M872956_JML_Position8_CD4_train17_img.png', 'images/training_resized_512x512_a/M872956_JML_Position10_CD3_train23_img.png', 'images/training_resized_512x512_a/M872956_JML_Position8_CD3_train17_img.png', 'images/training_resized_512x512_a/M926910_CFL_Position7_CD3_train15_img.png', 'images/training_resized_512x512_a/M872956_JML_Position9_CD3_train7_img.png', 'images/training_resized_512x512_a/M926910_CFL_Position13_CD3_train10_img.png', 'images/training_resized_512x512_a/M872956_JML_Position9_CD3_train9_img.png', 'images/training_resized_512x512_a/M872956_JML_Position8_CD8_train1_img.png', 'images/training_resized_512x512_a/M872956_JML_Position9_CD3_train5_img.png', 'images/training_resized_512x512_a/M926910_CFL_Position13_CD3_train17_img.png', 'images/training_resized_512x512_a/M872956_JML_Position8_CD8_train9_img.png', 'images/training_resized_512x512_a/M872956_JML_Position9_CD3_train21_img.png', 'images/training_resized_512x512_a/M872956_JML_Position10_CD3_train2_img.png', 'images/training_resized_512x512_a/M926910_CFL_Position7_CD3_train12_img.png', 'images/training_resized_512x512_a/M872956_JML_Position9_CD3_train4_img.png', 'images/training_resized_512x512_a/M872956_JML_Position10_CD3_train6_img.png', 'images/training_resized_512x512_a/M926910_CFL_Position13_CD3_train12_img.png', 'images/training_resized_512x512_a/M872956_JML_Position8_CD8_train2_img.png', 'images/training_resized_512x512_a/M872956_JML_Position9_CD3_train8_img.png', 'images/training_resized_512x512_a/M872956_JML_Position9_CD3_train6_img.png', 'images/training_resized_512x512_a/M872956_JML_Position10_CD3_train8_img.png', 'images/training_resized_512x512_a/M926910_CFL_Position7_CD3_train3_img.png', 'images/training_resized_512x512_a/M926910_CFL_Position13_CD3_train14_img.png', 'images/training_resized_512x512_a/M872956_JML_Position9_CD3_train16_img.png', 'images/training_resized_512x512_a/M872956_JML_Position10_CD3_train4_img.png', 'images/training_resized_512x512_a/M872956_JML_Position8_CD3_train19_img.png', 'images/training_resized_512x512_a/M926910_CFL_Position7_CD3_train10_img.png', 'images/training_resized_512x512_a/M926910_CFL_Position13_CD3_train16_img.png', 'images/training_resized_512x512_a/M872956_JML_Position8_CD4_train24_img.png', 'images/training_resized_512x512_a/M872956_JML_Position9_CD3_train1_img.png', 'images/training_resized_512x512_a/M872956_JML_Position9_CD3_train23_img.png', 'images/training_resized_512x512_a/M872956_JML_Position8_CD4_train14_img.png', 'images/training_resized_512x512_a/M926910_CFL_Position13_CD3_train3_img.png', 'images/training_resized_512x512_a/M926910_CFL_Position13_CD3_train18_img.png', 'images/training_resized_512x512_a/M872956_JML_Position8_CD4_train6_img.png', 'images/training_resized_512x512_a/M872956_JML_Position8_CD8_train3_img.png', 'images/training_resized_512x512_a/M872956_JML_Position8_CD3_train4_img.png', 'images/training_resized_512x512_a/M872956_JML_Position8_CD3_train20_img.png', 'images/training_resized_512x512_a/M872956_JML_Position10_CD3_train15_img.png', 'images/training_resized_512x512_a/M872956_JML_Position8_CD4_train1_img.png', 'images/training_resized_512x512_a/M926910_CFL_Position7_CD3_train11_img.png', 'images/training_resized_512x512_a/M872956_JML_Position9_CD3_train24_img.png', 'images/training_resized_512x512_a/M872956_JML_Position10_CD3_train10_img.png', 'images/training_resized_512x512_a/M872956_JML_Position9_CD3_train12_img.png', 'images/training_resized_512x512_a/M926910_CFL_Position13_CD3_train1_img.png', 'images/training_resized_512x512_a/M872956_JML_Position8_CD3_train15_img.png', 'images/training_resized_512x512_a/M872956_JML_Position8_CD4_train21_img.png', 'images/training_resized_512x512_a/M872956_JML_Position8_CD4_train13_img.png', 'images/training_resized_512x512_a/M872956_JML_Position10_CD3_train11_img.png', 'images/training_resized_512x512_a/M926910_CFL_Position7_CD3_train6_img.png', 'images/training_resized_512x512_a/M872956_JML_Position8_CD3_train3_img.png', 'images/training_resized_512x512_a/M926910_CFL_Position7_CD3_train20_img.png', 'images/training_resized_512x512_a/M872956_JML_Position8_CD3_train23_img.png', 'images/training_resized_512x512_a/M872956_JML_Position9_CD3_train14_img.png', 'images/training_resized_512x512_a/M872956_JML_Position8_CD3_train18_img.png', 'images/training_resized_512x512_a/M872956_JML_Position9_CD3_train18_img.png', 'images/training_resized_512x512_a/M872956_JML_Position8_CD3_train12_img.png', 'images/training_resized_512x512_a/M872956_JML_Position8_CD8_train8_img.png', 'images/training_resized_512x512_a/M872956_JML_Position8_CD8_train15_img.png', 'images/training_resized_512x512_a/M926910_CFL_Position7_CD3_train0_img.png', 'images/training_resized_512x512_a/M926910_CFL_Position13_CD3_train21_img.png', 'images/training_resized_512x512_a/M872956_JML_Position8_CD8_train11_img.png', 'images/training_resized_512x512_a/M872956_JML_Position8_CD3_train7_img.png', 'images/training_resized_512x512_a/M926910_CFL_Position13_CD3_train20_img.png', 'images/training_resized_512x512_a/M872956_JML_Position8_CD8_train10_img.png', 'images/training_resized_512x512_a/M872956_JML_Position9_CD3_train11_img.png', 'images/training_resized_512x512_a/M872956_JML_Position8_CD3_train22_img.png', 'images/training_resized_512x512_a/M926910_CFL_Position13_CD3_train9_img.png', 'images/training_resized_512x512_a/M872956_JML_Position9_CD3_train10_img.png', 'images/training_resized_512x512_a/M926910_CFL_Position7_CD3_train16_img.png', 'images/training_resized_512x512_a/M926910_CFL_Position13_CD3_train19_img.png', 'images/training_resized_512x512_a/M872956_JML_Position9_CD3_train2_img.png', 'images/training_resized_512x512_a/M926910_CFL_Position13_CD3_train8_img.png', 'images/training_resized_512x512_a/M872956_JML_Position8_CD4_train23_img.png', 'images/training_resized_512x512_a/M926910_CFL_Position7_CD3_train23_img.png', 'images/training_resized_512x512_a/M872956_JML_Position8_CD4_train20_img.png', 'images/training_resized_512x512_a/M872956_JML_Position10_CD3_train16_img.png', 'images/training_resized_512x512_a/M926910_CFL_Position13_CD3_train11_img.png', 'images/training_resized_512x512_a/M872956_JML_Position8_CD4_train0_img.png', 'images/training_resized_512x512_a/M926910_CFL_Position13_CD3_train4_img.png', 'images/training_resized_512x512_a/M926910_CFL_Position13_CD3_train2_img.png', 'images/training_resized_512x512_a/M926910_CFL_Position7_CD3_train8_img.png', 'images/training_resized_512x512_a/M872956_JML_Position8_CD4_train19_img.png', 'images/training_resized_512x512_a/M872956_JML_Position8_CD4_train7_img.png', 'images/training_resized_512x512_a/M872956_JML_Position10_CD3_train3_img.png', 'images/training_resized_512x512_a/M872956_JML_Position8_CD8_train22_img.png', 'images/training_resized_512x512_a/M926910_CFL_Position7_CD3_train19_img.png', 'images/training_resized_512x512_a/M926910_CFL_Position13_CD3_train22_img.png', 'images/training_resized_512x512_a/M872956_JML_Position8_CD3_train14_img.png', 'images/training_resized_512x512_a/M872956_JML_Position8_CD8_train5_img.png', 'images/training_resized_512x512_a/M926910_CFL_Position7_CD3_train13_img.png', 'images/training_resized_512x512_a/M872956_JML_Position8_CD4_train8_img.png', 'images/training_resized_512x512_a/M926910_CFL_Position7_CD3_train9_img.png', 'images/training_resized_512x512_a/M872956_JML_Position8_CD8_train24_img.png', 'images/training_resized_512x512_a/M872956_JML_Position8_CD3_train16_img.png', 'images/training_resized_512x512_a/M926910_CFL_Position13_CD3_train0_img.png', 'images/training_resized_512x512_a/M872956_JML_Position8_CD4_train4_img.png', 'images/training_resized_512x512_a/M872956_JML_Position8_CD3_train8_img.png', 'images/training_resized_512x512_a/M872956_JML_Position10_CD3_train17_img.png', 'images/training_resized_512x512_a/M872956_JML_Position8_CD3_train13_img.png', 'images/training_resized_512x512_a/M872956_JML_Position8_CD8_train18_img.png', 'images/training_resized_512x512_a/M872956_JML_Position9_CD3_train19_img.png', 'images/training_resized_512x512_a/M872956_JML_Position8_CD8_train23_img.png', 'images/training_resized_512x512_a/M872956_JML_Position8_CD4_train11_img.png', 'images/training_resized_512x512_a/M872956_JML_Position8_CD4_train9_img.png', 'images/training_resized_512x512_a/M872956_JML_Position8_CD8_train19_img.png', 'images/training_resized_512x512_a/M926910_CFL_Position7_CD3_train21_img.png', 'images/training_resized_512x512_a/M872956_JML_Position10_CD3_train5_img.png', 'images/training_resized_512x512_a/M872956_JML_Position9_CD3_train22_img.png', 'images/training_resized_512x512_a/M872956_JML_Position8_CD3_train0_img.png', 'images/training_resized_512x512_a/M872956_JML_Position8_CD4_train12_img.png', 'images/training_resized_512x512_a/M872956_JML_Position8_CD8_train14_img.png', 'images/training_resized_512x512_a/M872956_JML_Position8_CD4_train10_img.png', 'images/training_resized_512x512_a/M872956_JML_Position10_CD3_train0_img.png', 'images/training_resized_512x512_a/M872956_JML_Position8_CD8_train0_img.png', 'images/training_resized_512x512_a/M872956_JML_Position10_CD3_train19_img.png', 'images/training_resized_512x512_a/M926910_CFL_Position13_CD3_train5_img.png', 'images/training_resized_512x512_a/M926910_CFL_Position7_CD3_train1_img.png', 'images/training_resized_512x512_a/M926910_CFL_Position13_CD3_train7_img.png', 'images/training_resized_512x512_a/M872956_JML_Position8_CD8_train4_img.png', 'images/training_resized_512x512_a/M926910_CFL_Position13_CD3_train13_img.png', 'images/training_resized_512x512_a/M872956_JML_Position10_CD3_train9_img.png', 'images/training_resized_512x512_a/M872956_JML_Position9_CD3_train17_img.png', 'images/training_resized_512x512_a/M872956_JML_Position8_CD4_train16_img.png', 'images/training_resized_512x512_a/M926910_CFL_Position7_CD3_train17_img.png', 'images/training_resized_512x512_a/M872956_JML_Position8_CD8_train7_img.png', 'images/training_resized_512x512_a/M872956_JML_Position8_CD4_train5_img.png', 'images/training_resized_512x512_a/M872956_JML_Position8_CD8_train13_img.png', 'images/training_resized_512x512_a/M872956_JML_Position8_CD8_train16_img.png', 'images/training_resized_512x512_a/M926910_CFL_Position13_CD3_train23_img.png', 'images/training_resized_512x512_a/M872956_JML_Position8_CD3_train10_img.png', 'images/training_resized_512x512_a/M872956_JML_Position8_CD3_train24_img.png', 'images/training_resized_512x512_a/M872956_JML_Position8_CD3_train5_img.png', 'images/training_resized_512x512_a/M872956_JML_Position8_CD4_train18_img.png', 'images/training_resized_512x512_a/M926910_CFL_Position13_CD3_train24_img.png', 'images/training_resized_512x512_a/M872956_JML_Position9_CD3_train0_img.png', 'images/training_resized_512x512_a/M926910_CFL_Position7_CD3_train2_img.png', 'images/training_resized_512x512_a/M926910_CFL_Position7_CD3_train22_img.png', 'images/training_resized_512x512_a/M872956_JML_Position8_CD3_train11_img.png', 'images/training_resized_512x512_a/M872956_JML_Position10_CD3_train18_img.png', 'images/training_resized_512x512_a/M872956_JML_Position8_CD3_train6_img.png', 'images/training_resized_512x512_a/M872956_JML_Position8_CD4_train15_img.png', 'images/training_resized_512x512_a/M872956_JML_Position10_CD3_train22_img.png']\n"
     ]
    }
   ],
   "source": [
    "import glob\n",
    "FILENAMES = glob.glob(INPUT_PATH+\"*_img.png\")\n",
    "print(len(FILENAMES))\n",
    "print(FILENAMES)"
   ]
  },
  {
   "cell_type": "code",
   "execution_count": 4,
   "id": "1bac06f7",
   "metadata": {
    "execution": {
     "iopub.execute_input": "2022-11-05T21:15:35.459462Z",
     "iopub.status.busy": "2022-11-05T21:15:35.458879Z",
     "iopub.status.idle": "2022-11-05T21:15:47.339030Z",
     "shell.execute_reply": "2022-11-05T21:15:47.339963Z"
    }
   },
   "outputs": [
    {
     "name": "stderr",
     "output_type": "stream",
     "text": [
      "2022-11-05 14:15:39.478663: I tensorflow/core/common_runtime/gpu/gpu_device.cc:1525] Created device /job:localhost/replica:0/task:0/device:GPU:0 with 14657 MB memory:  -> device: 0, name: Tesla V100-PCIE-16GB, pci bus id: 0000:04:00.0, compute capability: 7.0\n",
      "2022-11-05 14:15:39.480065: I tensorflow/core/common_runtime/gpu/gpu_device.cc:1525] Created device /job:localhost/replica:0/task:0/device:GPU:1 with 14657 MB memory:  -> device: 1, name: Tesla V100-PCIE-16GB, pci bus id: 0000:06:00.0, compute capability: 7.0\n",
      "2022-11-05 14:15:39.481260: I tensorflow/core/common_runtime/gpu/gpu_device.cc:1525] Created device /job:localhost/replica:0/task:0/device:GPU:2 with 14657 MB memory:  -> device: 2, name: Tesla V100-PCIE-16GB, pci bus id: 0000:08:00.0, compute capability: 7.0\n"
     ]
    },
    {
     "name": "stdout",
     "output_type": "stream",
     "text": [
      "(175, 512, 512, 1)\n",
      "(175, 512, 512, 1)\n"
     ]
    }
   ],
   "source": [
    "imgs = [io.imread(CURR_IM_NAME) for CURR_IM_NAME in FILENAMES]\n",
    "X_train = tf.stack(imgs)\n",
    "X_train = np.expand_dims(X_train, axis=-1)\n",
    "print(X_train.shape)\n",
    "\n",
    "masks = [io.imread(CURR_IM_NAME.replace(\"img\",\"masks\")) for CURR_IM_NAME in FILENAMES]\n",
    "y_train = tf.stack(masks)\n",
    "y_train = np.expand_dims(y_train, axis=-1)\n",
    "print(y_train.shape)"
   ]
  },
  {
   "cell_type": "code",
   "execution_count": 5,
   "id": "5c1212c8",
   "metadata": {
    "execution": {
     "iopub.execute_input": "2022-11-05T21:15:47.345273Z",
     "iopub.status.busy": "2022-11-05T21:15:47.344239Z",
     "iopub.status.idle": "2022-11-05T21:15:47.405031Z",
     "shell.execute_reply": "2022-11-05T21:15:47.404287Z"
    }
   },
   "outputs": [
    {
     "data": {
      "text/plain": [
       "2688"
      ]
     },
     "execution_count": 5,
     "metadata": {},
     "output_type": "execute_result"
    }
   ],
   "source": [
    "np.max(masks) # sanity check"
   ]
  },
  {
   "cell_type": "code",
   "execution_count": 6,
   "id": "73d0c5d8",
   "metadata": {
    "execution": {
     "iopub.execute_input": "2022-11-05T21:15:47.412103Z",
     "iopub.status.busy": "2022-11-05T21:15:47.411278Z",
     "iopub.status.idle": "2022-11-05T21:15:48.030300Z",
     "shell.execute_reply": "2022-11-05T21:15:48.031163Z"
    }
   },
   "outputs": [
    {
     "name": "stdout",
     "output_type": "stream",
     "text": [
      "WARNING:tensorflow:Removing 10 of 175 images with fewer than 5 objects.\n",
      "302812\n"
     ]
    }
   ],
   "source": [
    "# create dataloader\n",
    "seed=0\n",
    "min_objects = 5\n",
    "\n",
    "transforms = ['inner-distance', 'outer-distance', 'fgbg']\n",
    "transforms_kwargs = {'outer-distance': {'erosion_width': 0}}\n",
    "\n",
    "# use augmentation for training but not validation\n",
    "datagen = image_generators.SemanticDataGenerator(\n",
    "    rotation_range=180,\n",
    "    fill_mode='reflect',\n",
    "    zoom_range=(0.75, 1.25),\n",
    "    horizontal_flip=True,\n",
    "    vertical_flip=True)\n",
    "\n",
    "datagen_val = image_generators.CroppingDataGenerator()\n",
    "\n",
    "batch_size = 4 # 8 causes memory outage\n",
    "\n",
    "train_data = datagen.flow(\n",
    "    {'X': X_train, 'y': y_train},\n",
    "    seed=seed,\n",
    "    transforms=transforms,\n",
    "    transforms_kwargs=transforms_kwargs,\n",
    "    min_objects=min_objects,\n",
    "    batch_size=batch_size)\n",
    "\n",
    "val_data = None\n",
    "# datagen_val.flow(\n",
    "#     {'X': X_val, 'y': y_val},\n",
    "#     seed=seed,\n",
    "#     transforms=transforms,\n",
    "#     transforms_kwargs=transforms_kwargs,\n",
    "#     min_objects=min_objects,\n",
    "#     batch_size=batch_size)\n",
    "\n",
    "# get number of training and validation instances\n",
    "\n",
    "cnts_train = [np.max(y_train[i,...]) for i in range(y_train.shape[0])]\n",
    "print(np.sum(cnts_train)) # total number of training instances"
   ]
  },
  {
   "cell_type": "code",
   "execution_count": 7,
   "id": "818ee859",
   "metadata": {
    "execution": {
     "iopub.execute_input": "2022-11-05T21:15:48.037349Z",
     "iopub.status.busy": "2022-11-05T21:15:48.036280Z",
     "iopub.status.idle": "2022-11-05T21:15:48.439435Z",
     "shell.execute_reply": "2022-11-05T21:15:48.440369Z"
    }
   },
   "outputs": [
    {
     "name": "stdout",
     "output_type": "stream",
     "text": [
      "[  1   1   1   1   2   4   4   4   5   5   6   6   7   7   8   8   9   9\n",
      "  11  13  13  14  15  15  16  16  17  18  19  20  20  21  22  23  23  25\n",
      "  25  26  26  27  29  29  30  32  33  33  34  35  36  38  38  39  39  39\n",
      "  39  40  41  41  42  43  43  44  44  44  44  45  45  48  49  49  49  49\n",
      "  50  51  51  52  52  55  57  58  58  59  59  59  61  61  63  65  65  66\n",
      "  66  68  68  70  70  72  72  74  75  76  77  78  79  79  80  81  82  82\n",
      "  82  83  84  84  85  88  88  89  89  89  89  89  92  94  95  95  98  99\n",
      " 101 101 102 102 102 102 102 103 103 104 104 106 109 114 115 115 115 115\n",
      " 118 120 120 123 124 125 127 128 129 130 132 135 136 143 143 144 144 144\n",
      " 146 147 149 153 153 160 161 163 165 171 178 178 182]\n",
      "[42, 42, 67, 143, 151, 120, 18, 128, 136]\n"
     ]
    }
   ],
   "source": [
    "mask_cnt=[len(np.unique(x)) for x in masks]\n",
    "print(np.sort(mask_cnt))\n",
    "indices = [mask_cnt.index(1)]\n",
    "indices.extend([i for i, x in enumerate(mask_cnt) if x == 1])\n",
    "indices.extend([i for i, x in enumerate(mask_cnt) if x == 2])\n",
    "indices.extend([i for i, x in enumerate(mask_cnt) if x == 4])\n",
    "print(indices)"
   ]
  },
  {
   "cell_type": "code",
   "execution_count": 8,
   "id": "edaeac9e",
   "metadata": {
    "execution": {
     "iopub.execute_input": "2022-11-05T21:15:48.447181Z",
     "iopub.status.busy": "2022-11-05T21:15:48.446055Z",
     "iopub.status.idle": "2022-11-05T21:15:48.953669Z",
     "shell.execute_reply": "2022-11-05T21:15:48.954548Z"
    }
   },
   "outputs": [
    {
     "name": "stdout",
     "output_type": "stream",
     "text": [
      "136\n",
      "images/training_resized_512x512_a/M872956_JML_Position8_CD4_train9_img.png\n"
     ]
    },
    {
     "name": "stderr",
     "output_type": "stream",
     "text": [
      "/app/software/scikit-image/0.19.1-foss-2021b/lib/python3.9/site-packages/skimage/io/_plugins/matplotlib_plugin.py:150: UserWarning: Low image data range; displaying image with stretched contrast.\n",
      "  lo, hi, cmap = _get_display_range(image)\n"
     ]
    },
    {
     "data": {
      "image/png": "[encoded data removed]",
      "text/plain": [
       "<Figure size 432x288 with 2 Axes>"
      ]
     },
     "metadata": {
      "needs_background": "light"
     },
     "output_type": "display_data"
    },
    {
     "data": {
      "image/png": "[encoded data removed]",
      "text/plain": [
       "<Figure size 432x288 with 2 Axes>"
      ]
     },
     "metadata": {
      "needs_background": "light"
     },
     "output_type": "display_data"
    },
    {
     "data": {
      "image/png": "[encoded data removed]",
      "text/plain": [
       "<Figure size 432x288 with 1 Axes>"
      ]
     },
     "metadata": {
      "needs_background": "light"
     },
     "output_type": "display_data"
    },
    {
     "name": "stdout",
     "output_type": "stream",
     "text": [
      "[  0 194 539 899]\n",
      "[  0 194 539 899]\n"
     ]
    }
   ],
   "source": [
    "i=indices[-1]\n",
    "print(i)\n",
    "print(FILENAMES[i])\n",
    "# plt.subplot(1, 3, 1) \n",
    "io.imshow(io.imread(FILENAMES[i]))\n",
    "plt.show()\n",
    "# plt.subplot(1, 3, 2) \n",
    "io.imshow(io.imread(FILENAMES[i].replace(\"_img\",\"_masks\")))\n",
    "plt.show()\n",
    "# plt.subplot(1, 3, 3) \n",
    "tmp=syotil.masks_to_outlines(io.imread(FILENAMES[i].replace(\"_img\",\"_masks\")))\n",
    "io.imshow(tmp)\n",
    "plt.show()\n",
    "print(np.unique(masks[i]))\n",
    "print(np.unique(masks[i][1:510,1:510]))"
   ]
  },
  {
   "cell_type": "code",
   "execution_count": 9,
   "id": "0b79383a",
   "metadata": {
    "execution": {
     "iopub.execute_input": "2022-11-05T21:15:48.976135Z",
     "iopub.status.busy": "2022-11-05T21:15:48.975000Z",
     "iopub.status.idle": "2022-11-05T21:15:49.279009Z",
     "shell.execute_reply": "2022-11-05T21:15:49.279946Z"
    }
   },
   "outputs": [
    {
     "data": {
      "image/png": "[encoded data removed]",
      "text/plain": [
       "<Figure size 432x288 with 4 Axes>"
      ]
     },
     "metadata": {
      "needs_background": "light"
     },
     "output_type": "display_data"
    }
   ],
   "source": [
    "i=5\n",
    "plt.subplot(1, 2, 1) # row 1, col 2 index 1\n",
    "io.imshow(X_train[i,:,:,0])\n",
    "plt.subplot(1, 2, 2) # row 1, col 2 index 1\n",
    "io.imshow(y_train[i,:,:,0])\n",
    "plt.show()"
   ]
  },
  {
   "cell_type": "markdown",
   "id": "9591736f",
   "metadata": {},
   "source": [
    "**The two cells below define and train the model.** They can be skipped if a trained model will be loaded."
   ]
  },
  {
   "cell_type": "code",
   "execution_count": 10,
   "id": "7ebc07f0",
   "metadata": {
    "execution": {
     "iopub.execute_input": "2022-11-05T21:15:49.288319Z",
     "iopub.status.busy": "2022-11-05T21:15:49.287178Z",
     "iopub.status.idle": "2022-11-05T21:15:56.264143Z",
     "shell.execute_reply": "2022-11-05T21:15:56.265117Z"
    }
   },
   "outputs": [
    {
     "name": "stderr",
     "output_type": "stream",
     "text": [
      "2022-11-05 14:15:49.291567: W tensorflow/python/util/util.cc:368] Sets are not currently considered sequences, but this may change in the future, so consider avoiding using them.\n",
      "/app/software/TensorFlow/2.7.1-foss-2021b-CUDA-11.4.1/lib/python3.9/site-packages/keras/optimizer_v2/adam.py:105: UserWarning: The `lr` argument is deprecated, use `learning_rate` instead.\n",
      "  super(Adam, self).__init__(name, **kwargs)\n"
     ]
    },
    {
     "data": {
      "text/plain": [
       "[('semantic_0', (None, 512, 512, 1)),\n",
       " ('semantic_1', (None, 512, 512, 1)),\n",
       " ('semantic_2', (None, 512, 512, 2))]"
      ]
     },
     "execution_count": 10,
     "metadata": {},
     "output_type": "execute_result"
    }
   ],
   "source": [
    "semantic_classes = [1, 1, 2] # inner distance, outer distance, fgbg\n",
    "\n",
    "model = PanopticNet(\n",
    "    backbone='resnet50',\n",
    "    input_shape=(512,512,1),\n",
    "    norm_method='whole_image',\n",
    "    num_semantic_classes=semantic_classes)\n",
    "\n",
    "lr = 1e-4\n",
    "optimizer = Adam(lr=lr, clipnorm=0.001)\n",
    "lr_sched = rate_scheduler(lr=lr, decay=0.99)\n",
    "\n",
    "# Create a dictionary of losses for each semantic head\n",
    "\n",
    "def semantic_loss(n_classes):\n",
    "    def _semantic_loss(y_pred, y_true):\n",
    "        if n_classes > 1:\n",
    "            return 0.01 * weighted_categorical_crossentropy(\n",
    "                y_pred, y_true, n_classes=n_classes)\n",
    "        return MSE(y_pred, y_true)\n",
    "    return _semantic_loss\n",
    "\n",
    "loss = {}\n",
    "\n",
    "# Give losses for all of the semantic heads\n",
    "for layer in model.layers:\n",
    "    if layer.name.startswith('semantic_'):\n",
    "        n_classes = layer.output_shape[-1]\n",
    "        loss[layer.name] = semantic_loss(n_classes)\n",
    "        \n",
    "model.compile(loss=loss, optimizer=optimizer)\n",
    "\n",
    "model.load_weights(starting_model_path, by_name=True)\n",
    "\n",
    "[(layer.name, layer.output_shape) for layer in filter(lambda x: x.name.startswith('semantic_'), model.layers)]"
   ]
  },
  {
   "cell_type": "code",
   "execution_count": 11,
   "id": "b1fab4f5",
   "metadata": {
    "execution": {
     "iopub.execute_input": "2022-11-05T21:15:56.285376Z",
     "iopub.status.busy": "2022-11-05T21:15:56.284197Z",
     "iopub.status.idle": "2022-11-05T22:30:36.311347Z",
     "shell.execute_reply": "2022-11-05T22:30:36.312395Z"
    }
   },
   "outputs": [
    {
     "name": "stdout",
     "output_type": "stream",
     "text": [
      "Training on 3 GPUs.\n"
     ]
    },
    {
     "name": "stderr",
     "output_type": "stream",
     "text": [
      "2022-11-05 14:15:56.277817: I tensorflow/core/common_runtime/gpu/gpu_device.cc:1525] Created device /device:GPU:0 with 14657 MB memory:  -> device: 0, name: Tesla V100-PCIE-16GB, pci bus id: 0000:04:00.0, compute capability: 7.0\n",
      "2022-11-05 14:15:56.278719: I tensorflow/core/common_runtime/gpu/gpu_device.cc:1525] Created device /device:GPU:1 with 14657 MB memory:  -> device: 1, name: Tesla V100-PCIE-16GB, pci bus id: 0000:06:00.0, compute capability: 7.0\n",
      "2022-11-05 14:15:56.279600: I tensorflow/core/common_runtime/gpu/gpu_device.cc:1525] Created device /device:GPU:2 with 14657 MB memory:  -> device: 2, name: Tesla V100-PCIE-16GB, pci bus id: 0000:08:00.0, compute capability: 7.0\n"
     ]
    },
    {
     "name": "stdout",
     "output_type": "stream",
     "text": [
      "Epoch 1/200\n"
     ]
    },
    {
     "name": "stderr",
     "output_type": "stream",
     "text": [
      "2022-11-05 14:16:16.359256: I tensorflow/stream_executor/cuda/cuda_dnn.cc:366] Loaded cuDNN version 8202\n"
     ]
    },
    {
     "name": "stdout",
     "output_type": "stream",
     "text": [
      "41/41 [==============================] - ETA: 0s - loss: 0.0150 - semantic_0_loss: 0.0036 - semantic_1_loss: 0.0093 - semantic_2_loss: 0.0021WARNING:tensorflow:Can save best model only with val_loss available, skipping.\n",
      "41/41 [==============================] - 62s 620ms/step - loss: 0.0150 - semantic_0_loss: 0.0036 - semantic_1_loss: 0.0093 - semantic_2_loss: 0.0021 - lr: 1.0000e-04\n",
      "Epoch 2/200\n",
      "41/41 [==============================] - ETA: 0s - loss: 0.0127 - semantic_0_loss: 0.0031 - semantic_1_loss: 0.0081 - semantic_2_loss: 0.0015WARNING:tensorflow:Can save best model only with val_loss available, skipping.\n",
      "41/41 [==============================] - 22s 531ms/step - loss: 0.0127 - semantic_0_loss: 0.0031 - semantic_1_loss: 0.0081 - semantic_2_loss: 0.0015 - lr: 9.9000e-05\n",
      "Epoch 3/200\n",
      "41/41 [==============================] - ETA: 0s - loss: 0.0121 - semantic_0_loss: 0.0029 - semantic_1_loss: 0.0077 - semantic_2_loss: 0.0015WARNING:tensorflow:Can save best model only with val_loss available, skipping.\n",
      "41/41 [==============================] - 22s 525ms/step - loss: 0.0121 - semantic_0_loss: 0.0029 - semantic_1_loss: 0.0077 - semantic_2_loss: 0.0015 - lr: 9.8010e-05\n",
      "Epoch 4/200\n",
      "41/41 [==============================] - ETA: 0s - loss: 0.0121 - semantic_0_loss: 0.0030 - semantic_1_loss: 0.0077 - semantic_2_loss: 0.0015WARNING:tensorflow:Can save best model only with val_loss available, skipping.\n",
      "41/41 [==============================] - 22s 532ms/step - loss: 0.0121 - semantic_0_loss: 0.0030 - semantic_1_loss: 0.0077 - semantic_2_loss: 0.0015 - lr: 9.7030e-05\n",
      "Epoch 5/200\n",
      "41/41 [==============================] - ETA: 0s - loss: 0.0117 - semantic_0_loss: 0.0029 - semantic_1_loss: 0.0075 - semantic_2_loss: 0.0014WARNING:tensorflow:Can save best model only with val_loss available, skipping.\n",
      "41/41 [==============================] - 22s 525ms/step - loss: 0.0117 - semantic_0_loss: 0.0029 - semantic_1_loss: 0.0075 - semantic_2_loss: 0.0014 - lr: 9.6060e-05\n",
      "Epoch 6/200\n",
      "41/41 [==============================] - ETA: 0s - loss: 0.0119 - semantic_0_loss: 0.0029 - semantic_1_loss: 0.0076 - semantic_2_loss: 0.0014WARNING:tensorflow:Can save best model only with val_loss available, skipping.\n",
      "41/41 [==============================] - 22s 524ms/step - loss: 0.0119 - semantic_0_loss: 0.0029 - semantic_1_loss: 0.0076 - semantic_2_loss: 0.0014 - lr: 9.5099e-05\n",
      "Epoch 7/200\n",
      "41/41 [==============================] - ETA: 0s - loss: 0.0117 - semantic_0_loss: 0.0029 - semantic_1_loss: 0.0074 - semantic_2_loss: 0.0014WARNING:tensorflow:Can save best model only with val_loss available, skipping.\n",
      "41/41 [==============================] - 22s 530ms/step - loss: 0.0117 - semantic_0_loss: 0.0029 - semantic_1_loss: 0.0074 - semantic_2_loss: 0.0014 - lr: 9.4148e-05\n",
      "Epoch 8/200\n",
      "41/41 [==============================] - ETA: 0s - loss: 0.0118 - semantic_0_loss: 0.0029 - semantic_1_loss: 0.0075 - semantic_2_loss: 0.0014WARNING:tensorflow:Can save best model only with val_loss available, skipping.\n",
      "41/41 [==============================] - 22s 523ms/step - loss: 0.0118 - semantic_0_loss: 0.0029 - semantic_1_loss: 0.0075 - semantic_2_loss: 0.0014 - lr: 9.3207e-05\n",
      "Epoch 9/200\n",
      "41/41 [==============================] - ETA: 0s - loss: 0.0115 - semantic_0_loss: 0.0028 - semantic_1_loss: 0.0073 - semantic_2_loss: 0.0014WARNING:tensorflow:Can save best model only with val_loss available, skipping.\n",
      "41/41 [==============================] - 22s 527ms/step - loss: 0.0115 - semantic_0_loss: 0.0028 - semantic_1_loss: 0.0073 - semantic_2_loss: 0.0014 - lr: 9.2274e-05\n",
      "Epoch 10/200\n",
      "41/41 [==============================] - ETA: 0s - loss: 0.0118 - semantic_0_loss: 0.0028 - semantic_1_loss: 0.0075 - semantic_2_loss: 0.0014WARNING:tensorflow:Can save best model only with val_loss available, skipping.\n",
      "41/41 [==============================] - 22s 537ms/step - loss: 0.0118 - semantic_0_loss: 0.0028 - semantic_1_loss: 0.0075 - semantic_2_loss: 0.0014 - lr: 9.1352e-05\n",
      "Epoch 11/200\n",
      "41/41 [==============================] - ETA: 0s - loss: 0.0114 - semantic_0_loss: 0.0028 - semantic_1_loss: 0.0072 - semantic_2_loss: 0.0014WARNING:tensorflow:Can save best model only with val_loss available, skipping.\n",
      "41/41 [==============================] - 22s 528ms/step - loss: 0.0114 - semantic_0_loss: 0.0028 - semantic_1_loss: 0.0072 - semantic_2_loss: 0.0014 - lr: 9.0438e-05\n",
      "Epoch 12/200\n",
      "41/41 [==============================] - ETA: 0s - loss: 0.0112 - semantic_0_loss: 0.0027 - semantic_1_loss: 0.0071 - semantic_2_loss: 0.0014WARNING:tensorflow:Can save best model only with val_loss available, skipping.\n",
      "41/41 [==============================] - 22s 533ms/step - loss: 0.0112 - semantic_0_loss: 0.0027 - semantic_1_loss: 0.0071 - semantic_2_loss: 0.0014 - lr: 8.9534e-05\n",
      "Epoch 13/200\n",
      "41/41 [==============================] - ETA: 0s - loss: 0.0114 - semantic_0_loss: 0.0028 - semantic_1_loss: 0.0072 - semantic_2_loss: 0.0014WARNING:tensorflow:Can save best model only with val_loss available, skipping.\n",
      "41/41 [==============================] - 22s 525ms/step - loss: 0.0114 - semantic_0_loss: 0.0028 - semantic_1_loss: 0.0072 - semantic_2_loss: 0.0014 - lr: 8.8638e-05\n",
      "Epoch 14/200\n",
      "41/41 [==============================] - ETA: 0s - loss: 0.0112 - semantic_0_loss: 0.0028 - semantic_1_loss: 0.0071 - semantic_2_loss: 0.0013WARNING:tensorflow:Can save best model only with val_loss available, skipping.\n",
      "41/41 [==============================] - 22s 537ms/step - loss: 0.0112 - semantic_0_loss: 0.0028 - semantic_1_loss: 0.0071 - semantic_2_loss: 0.0013 - lr: 8.7752e-05\n",
      "Epoch 15/200\n",
      "41/41 [==============================] - ETA: 0s - loss: 0.0114 - semantic_0_loss: 0.0028 - semantic_1_loss: 0.0072 - semantic_2_loss: 0.0014WARNING:tensorflow:Can save best model only with val_loss available, skipping.\n",
      "41/41 [==============================] - 22s 537ms/step - loss: 0.0114 - semantic_0_loss: 0.0028 - semantic_1_loss: 0.0072 - semantic_2_loss: 0.0014 - lr: 8.6875e-05\n",
      "Epoch 16/200\n",
      "41/41 [==============================] - ETA: 0s - loss: 0.0111 - semantic_0_loss: 0.0027 - semantic_1_loss: 0.0071 - semantic_2_loss: 0.0013WARNING:tensorflow:Can save best model only with val_loss available, skipping.\n",
      "41/41 [==============================] - 22s 527ms/step - loss: 0.0111 - semantic_0_loss: 0.0027 - semantic_1_loss: 0.0071 - semantic_2_loss: 0.0013 - lr: 8.6006e-05\n",
      "Epoch 17/200\n",
      "41/41 [==============================] - ETA: 0s - loss: 0.0107 - semantic_0_loss: 0.0026 - semantic_1_loss: 0.0068 - semantic_2_loss: 0.0013WARNING:tensorflow:Can save best model only with val_loss available, skipping.\n",
      "41/41 [==============================] - 22s 520ms/step - loss: 0.0107 - semantic_0_loss: 0.0026 - semantic_1_loss: 0.0068 - semantic_2_loss: 0.0013 - lr: 8.5146e-05\n",
      "Epoch 18/200\n",
      "41/41 [==============================] - ETA: 0s - loss: 0.0109 - semantic_0_loss: 0.0027 - semantic_1_loss: 0.0069 - semantic_2_loss: 0.0013WARNING:tensorflow:Can save best model only with val_loss available, skipping.\n",
      "41/41 [==============================] - 22s 527ms/step - loss: 0.0109 - semantic_0_loss: 0.0027 - semantic_1_loss: 0.0069 - semantic_2_loss: 0.0013 - lr: 8.4294e-05\n",
      "Epoch 19/200\n",
      "41/41 [==============================] - ETA: 0s - loss: 0.0109 - semantic_0_loss: 0.0027 - semantic_1_loss: 0.0069 - semantic_2_loss: 0.0013WARNING:tensorflow:Can save best model only with val_loss available, skipping.\n",
      "41/41 [==============================] - 22s 528ms/step - loss: 0.0109 - semantic_0_loss: 0.0027 - semantic_1_loss: 0.0069 - semantic_2_loss: 0.0013 - lr: 8.3451e-05\n",
      "Epoch 20/200\n",
      "41/41 [==============================] - ETA: 0s - loss: 0.0110 - semantic_0_loss: 0.0027 - semantic_1_loss: 0.0070 - semantic_2_loss: 0.0013WARNING:tensorflow:Can save best model only with val_loss available, skipping.\n",
      "41/41 [==============================] - 22s 530ms/step - loss: 0.0110 - semantic_0_loss: 0.0027 - semantic_1_loss: 0.0070 - semantic_2_loss: 0.0013 - lr: 8.2617e-05\n",
      "Epoch 21/200\n",
      "41/41 [==============================] - ETA: 0s - loss: 0.0109 - semantic_0_loss: 0.0027 - semantic_1_loss: 0.0069 - semantic_2_loss: 0.0013WARNING:tensorflow:Can save best model only with val_loss available, skipping.\n",
      "41/41 [==============================] - 22s 519ms/step - loss: 0.0109 - semantic_0_loss: 0.0027 - semantic_1_loss: 0.0069 - semantic_2_loss: 0.0013 - lr: 8.1791e-05\n",
      "Epoch 22/200\n",
      "41/41 [==============================] - ETA: 0s - loss: 0.0110 - semantic_0_loss: 0.0027 - semantic_1_loss: 0.0069 - semantic_2_loss: 0.0013WARNING:tensorflow:Can save best model only with val_loss available, skipping.\n",
      "41/41 [==============================] - 22s 528ms/step - loss: 0.0110 - semantic_0_loss: 0.0027 - semantic_1_loss: 0.0069 - semantic_2_loss: 0.0013 - lr: 8.0973e-05\n",
      "Epoch 23/200\n",
      "41/41 [==============================] - ETA: 0s - loss: 0.0108 - semantic_0_loss: 0.0026 - semantic_1_loss: 0.0068 - semantic_2_loss: 0.0013WARNING:tensorflow:Can save best model only with val_loss available, skipping.\n",
      "41/41 [==============================] - 21s 529ms/step - loss: 0.0108 - semantic_0_loss: 0.0026 - semantic_1_loss: 0.0068 - semantic_2_loss: 0.0013 - lr: 8.0163e-05\n",
      "Epoch 24/200\n",
      "41/41 [==============================] - ETA: 0s - loss: 0.0105 - semantic_0_loss: 0.0026 - semantic_1_loss: 0.0066 - semantic_2_loss: 0.0013WARNING:tensorflow:Can save best model only with val_loss available, skipping.\n",
      "41/41 [==============================] - 22s 527ms/step - loss: 0.0105 - semantic_0_loss: 0.0026 - semantic_1_loss: 0.0066 - semantic_2_loss: 0.0013 - lr: 7.9361e-05\n",
      "Epoch 25/200\n",
      "41/41 [==============================] - ETA: 0s - loss: 0.0107 - semantic_0_loss: 0.0026 - semantic_1_loss: 0.0068 - semantic_2_loss: 0.0013WARNING:tensorflow:Can save best model only with val_loss available, skipping.\n",
      "41/41 [==============================] - 22s 523ms/step - loss: 0.0107 - semantic_0_loss: 0.0026 - semantic_1_loss: 0.0068 - semantic_2_loss: 0.0013 - lr: 7.8568e-05\n",
      "Epoch 26/200\n",
      "41/41 [==============================] - ETA: 0s - loss: 0.0106 - semantic_0_loss: 0.0026 - semantic_1_loss: 0.0067 - semantic_2_loss: 0.0013WARNING:tensorflow:Can save best model only with val_loss available, skipping.\n",
      "41/41 [==============================] - 22s 523ms/step - loss: 0.0106 - semantic_0_loss: 0.0026 - semantic_1_loss: 0.0067 - semantic_2_loss: 0.0013 - lr: 7.7782e-05\n",
      "Epoch 27/200\n",
      "41/41 [==============================] - ETA: 0s - loss: 0.0107 - semantic_0_loss: 0.0026 - semantic_1_loss: 0.0067 - semantic_2_loss: 0.0013WARNING:tensorflow:Can save best model only with val_loss available, skipping.\n",
      "41/41 [==============================] - 22s 525ms/step - loss: 0.0107 - semantic_0_loss: 0.0026 - semantic_1_loss: 0.0067 - semantic_2_loss: 0.0013 - lr: 7.7004e-05\n",
      "Epoch 28/200\n",
      "41/41 [==============================] - ETA: 0s - loss: 0.0109 - semantic_0_loss: 0.0027 - semantic_1_loss: 0.0069 - semantic_2_loss: 0.0013WARNING:tensorflow:Can save best model only with val_loss available, skipping.\n",
      "41/41 [==============================] - 22s 524ms/step - loss: 0.0109 - semantic_0_loss: 0.0027 - semantic_1_loss: 0.0069 - semantic_2_loss: 0.0013 - lr: 7.6234e-05\n",
      "Epoch 29/200\n",
      "41/41 [==============================] - ETA: 0s - loss: 0.0106 - semantic_0_loss: 0.0026 - semantic_1_loss: 0.0067 - semantic_2_loss: 0.0013WARNING:tensorflow:Can save best model only with val_loss available, skipping.\n",
      "41/41 [==============================] - 22s 525ms/step - loss: 0.0106 - semantic_0_loss: 0.0026 - semantic_1_loss: 0.0067 - semantic_2_loss: 0.0013 - lr: 7.5472e-05\n",
      "Epoch 30/200\n",
      "41/41 [==============================] - ETA: 0s - loss: 0.0104 - semantic_0_loss: 0.0026 - semantic_1_loss: 0.0066 - semantic_2_loss: 0.0013WARNING:tensorflow:Can save best model only with val_loss available, skipping.\n",
      "41/41 [==============================] - 22s 538ms/step - loss: 0.0104 - semantic_0_loss: 0.0026 - semantic_1_loss: 0.0066 - semantic_2_loss: 0.0013 - lr: 7.4717e-05\n",
      "Epoch 31/200\n",
      "41/41 [==============================] - ETA: 0s - loss: 0.0102 - semantic_0_loss: 0.0025 - semantic_1_loss: 0.0065 - semantic_2_loss: 0.0013WARNING:tensorflow:Can save best model only with val_loss available, skipping.\n",
      "41/41 [==============================] - 22s 526ms/step - loss: 0.0102 - semantic_0_loss: 0.0025 - semantic_1_loss: 0.0065 - semantic_2_loss: 0.0013 - lr: 7.3970e-05\n",
      "Epoch 32/200\n",
      "41/41 [==============================] - ETA: 0s - loss: 0.0106 - semantic_0_loss: 0.0026 - semantic_1_loss: 0.0067 - semantic_2_loss: 0.0013WARNING:tensorflow:Can save best model only with val_loss available, skipping.\n",
      "41/41 [==============================] - 22s 526ms/step - loss: 0.0106 - semantic_0_loss: 0.0026 - semantic_1_loss: 0.0067 - semantic_2_loss: 0.0013 - lr: 7.3230e-05\n",
      "Epoch 33/200\n",
      "41/41 [==============================] - ETA: 0s - loss: 0.0104 - semantic_0_loss: 0.0026 - semantic_1_loss: 0.0066 - semantic_2_loss: 0.0013WARNING:tensorflow:Can save best model only with val_loss available, skipping.\n",
      "41/41 [==============================] - 22s 521ms/step - loss: 0.0104 - semantic_0_loss: 0.0026 - semantic_1_loss: 0.0066 - semantic_2_loss: 0.0013 - lr: 7.2498e-05\n",
      "Epoch 34/200\n",
      "41/41 [==============================] - ETA: 0s - loss: 0.0103 - semantic_0_loss: 0.0025 - semantic_1_loss: 0.0065 - semantic_2_loss: 0.0013WARNING:tensorflow:Can save best model only with val_loss available, skipping.\n",
      "41/41 [==============================] - 22s 531ms/step - loss: 0.0103 - semantic_0_loss: 0.0025 - semantic_1_loss: 0.0065 - semantic_2_loss: 0.0013 - lr: 7.1773e-05\n",
      "Epoch 35/200\n",
      "41/41 [==============================] - ETA: 0s - loss: 0.0104 - semantic_0_loss: 0.0025 - semantic_1_loss: 0.0066 - semantic_2_loss: 0.0013WARNING:tensorflow:Can save best model only with val_loss available, skipping.\n",
      "41/41 [==============================] - 22s 520ms/step - loss: 0.0104 - semantic_0_loss: 0.0025 - semantic_1_loss: 0.0066 - semantic_2_loss: 0.0013 - lr: 7.1055e-05\n",
      "Epoch 36/200\n",
      "41/41 [==============================] - ETA: 0s - loss: 0.0102 - semantic_0_loss: 0.0025 - semantic_1_loss: 0.0065 - semantic_2_loss: 0.0012WARNING:tensorflow:Can save best model only with val_loss available, skipping.\n",
      "41/41 [==============================] - 22s 528ms/step - loss: 0.0102 - semantic_0_loss: 0.0025 - semantic_1_loss: 0.0065 - semantic_2_loss: 0.0012 - lr: 7.0345e-05\n",
      "Epoch 37/200\n",
      "41/41 [==============================] - ETA: 0s - loss: 0.0106 - semantic_0_loss: 0.0026 - semantic_1_loss: 0.0067 - semantic_2_loss: 0.0013WARNING:tensorflow:Can save best model only with val_loss available, skipping.\n",
      "41/41 [==============================] - 22s 524ms/step - loss: 0.0106 - semantic_0_loss: 0.0026 - semantic_1_loss: 0.0067 - semantic_2_loss: 0.0013 - lr: 6.9641e-05\n",
      "Epoch 38/200\n",
      "41/41 [==============================] - ETA: 0s - loss: 0.0102 - semantic_0_loss: 0.0025 - semantic_1_loss: 0.0065 - semantic_2_loss: 0.0013WARNING:tensorflow:Can save best model only with val_loss available, skipping.\n",
      "41/41 [==============================] - 22s 527ms/step - loss: 0.0102 - semantic_0_loss: 0.0025 - semantic_1_loss: 0.0065 - semantic_2_loss: 0.0013 - lr: 6.8945e-05\n",
      "Epoch 39/200\n",
      "41/41 [==============================] - ETA: 0s - loss: 0.0103 - semantic_0_loss: 0.0026 - semantic_1_loss: 0.0065 - semantic_2_loss: 0.0012WARNING:tensorflow:Can save best model only with val_loss available, skipping.\n",
      "41/41 [==============================] - 22s 536ms/step - loss: 0.0103 - semantic_0_loss: 0.0026 - semantic_1_loss: 0.0065 - semantic_2_loss: 0.0012 - lr: 6.8255e-05\n",
      "Epoch 40/200\n",
      "41/41 [==============================] - ETA: 0s - loss: 0.0103 - semantic_0_loss: 0.0025 - semantic_1_loss: 0.0065 - semantic_2_loss: 0.0013WARNING:tensorflow:Can save best model only with val_loss available, skipping.\n",
      "41/41 [==============================] - 22s 532ms/step - loss: 0.0103 - semantic_0_loss: 0.0025 - semantic_1_loss: 0.0065 - semantic_2_loss: 0.0013 - lr: 6.7573e-05\n",
      "Epoch 41/200\n",
      "41/41 [==============================] - ETA: 0s - loss: 0.0103 - semantic_0_loss: 0.0025 - semantic_1_loss: 0.0065 - semantic_2_loss: 0.0012WARNING:tensorflow:Can save best model only with val_loss available, skipping.\n",
      "41/41 [==============================] - 22s 534ms/step - loss: 0.0103 - semantic_0_loss: 0.0025 - semantic_1_loss: 0.0065 - semantic_2_loss: 0.0012 - lr: 6.6897e-05\n",
      "Epoch 42/200\n",
      "41/41 [==============================] - ETA: 0s - loss: 0.0104 - semantic_0_loss: 0.0026 - semantic_1_loss: 0.0066 - semantic_2_loss: 0.0012WARNING:tensorflow:Can save best model only with val_loss available, skipping.\n",
      "41/41 [==============================] - 22s 521ms/step - loss: 0.0104 - semantic_0_loss: 0.0026 - semantic_1_loss: 0.0066 - semantic_2_loss: 0.0012 - lr: 6.6228e-05\n",
      "Epoch 43/200\n",
      "41/41 [==============================] - ETA: 0s - loss: 0.0103 - semantic_0_loss: 0.0025 - semantic_1_loss: 0.0065 - semantic_2_loss: 0.0013WARNING:tensorflow:Can save best model only with val_loss available, skipping.\n",
      "41/41 [==============================] - 22s 525ms/step - loss: 0.0103 - semantic_0_loss: 0.0025 - semantic_1_loss: 0.0065 - semantic_2_loss: 0.0013 - lr: 6.5566e-05\n",
      "Epoch 44/200\n",
      "41/41 [==============================] - ETA: 0s - loss: 0.0102 - semantic_0_loss: 0.0025 - semantic_1_loss: 0.0064 - semantic_2_loss: 0.0012WARNING:tensorflow:Can save best model only with val_loss available, skipping.\n",
      "41/41 [==============================] - 21s 518ms/step - loss: 0.0102 - semantic_0_loss: 0.0025 - semantic_1_loss: 0.0064 - semantic_2_loss: 0.0012 - lr: 6.4910e-05\n",
      "Epoch 45/200\n",
      "41/41 [==============================] - ETA: 0s - loss: 0.0101 - semantic_0_loss: 0.0025 - semantic_1_loss: 0.0063 - semantic_2_loss: 0.0012WARNING:tensorflow:Can save best model only with val_loss available, skipping.\n",
      "41/41 [==============================] - 22s 529ms/step - loss: 0.0101 - semantic_0_loss: 0.0025 - semantic_1_loss: 0.0063 - semantic_2_loss: 0.0012 - lr: 6.4261e-05\n",
      "Epoch 46/200\n",
      "41/41 [==============================] - ETA: 0s - loss: 0.0104 - semantic_0_loss: 0.0026 - semantic_1_loss: 0.0066 - semantic_2_loss: 0.0012WARNING:tensorflow:Can save best model only with val_loss available, skipping.\n",
      "41/41 [==============================] - 22s 524ms/step - loss: 0.0104 - semantic_0_loss: 0.0026 - semantic_1_loss: 0.0066 - semantic_2_loss: 0.0012 - lr: 6.3619e-05\n",
      "Epoch 47/200\n",
      "41/41 [==============================] - ETA: 0s - loss: 0.0101 - semantic_0_loss: 0.0025 - semantic_1_loss: 0.0063 - semantic_2_loss: 0.0012WARNING:tensorflow:Can save best model only with val_loss available, skipping.\n",
      "41/41 [==============================] - 22s 523ms/step - loss: 0.0101 - semantic_0_loss: 0.0025 - semantic_1_loss: 0.0063 - semantic_2_loss: 0.0012 - lr: 6.2982e-05\n",
      "Epoch 48/200\n",
      "41/41 [==============================] - ETA: 0s - loss: 0.0102 - semantic_0_loss: 0.0025 - semantic_1_loss: 0.0065 - semantic_2_loss: 0.0012WARNING:tensorflow:Can save best model only with val_loss available, skipping.\n",
      "41/41 [==============================] - 22s 522ms/step - loss: 0.0102 - semantic_0_loss: 0.0025 - semantic_1_loss: 0.0065 - semantic_2_loss: 0.0012 - lr: 6.2353e-05\n",
      "Epoch 49/200\n",
      "41/41 [==============================] - ETA: 0s - loss: 0.0098 - semantic_0_loss: 0.0024 - semantic_1_loss: 0.0062 - semantic_2_loss: 0.0012WARNING:tensorflow:Can save best model only with val_loss available, skipping.\n",
      "41/41 [==============================] - 22s 520ms/step - loss: 0.0098 - semantic_0_loss: 0.0024 - semantic_1_loss: 0.0062 - semantic_2_loss: 0.0012 - lr: 6.1729e-05\n",
      "Epoch 50/200\n",
      "41/41 [==============================] - ETA: 0s - loss: 0.0101 - semantic_0_loss: 0.0025 - semantic_1_loss: 0.0064 - semantic_2_loss: 0.0012WARNING:tensorflow:Can save best model only with val_loss available, skipping.\n",
      "41/41 [==============================] - 22s 525ms/step - loss: 0.0101 - semantic_0_loss: 0.0025 - semantic_1_loss: 0.0064 - semantic_2_loss: 0.0012 - lr: 6.1112e-05\n",
      "Epoch 51/200\n",
      "41/41 [==============================] - ETA: 0s - loss: 0.0099 - semantic_0_loss: 0.0025 - semantic_1_loss: 0.0062 - semantic_2_loss: 0.0012WARNING:tensorflow:Can save best model only with val_loss available, skipping.\n",
      "41/41 [==============================] - 22s 522ms/step - loss: 0.0099 - semantic_0_loss: 0.0025 - semantic_1_loss: 0.0062 - semantic_2_loss: 0.0012 - lr: 6.0501e-05\n",
      "Epoch 52/200\n",
      "41/41 [==============================] - ETA: 0s - loss: 0.0098 - semantic_0_loss: 0.0025 - semantic_1_loss: 0.0062 - semantic_2_loss: 0.0012WARNING:tensorflow:Can save best model only with val_loss available, skipping.\n",
      "41/41 [==============================] - 22s 536ms/step - loss: 0.0098 - semantic_0_loss: 0.0025 - semantic_1_loss: 0.0062 - semantic_2_loss: 0.0012 - lr: 5.9896e-05\n",
      "Epoch 53/200\n",
      "41/41 [==============================] - ETA: 0s - loss: 0.0101 - semantic_0_loss: 0.0025 - semantic_1_loss: 0.0063 - semantic_2_loss: 0.0012WARNING:tensorflow:Can save best model only with val_loss available, skipping.\n",
      "41/41 [==============================] - 22s 541ms/step - loss: 0.0101 - semantic_0_loss: 0.0025 - semantic_1_loss: 0.0063 - semantic_2_loss: 0.0012 - lr: 5.9297e-05\n",
      "Epoch 54/200\n",
      "41/41 [==============================] - ETA: 0s - loss: 0.0100 - semantic_0_loss: 0.0025 - semantic_1_loss: 0.0063 - semantic_2_loss: 0.0012WARNING:tensorflow:Can save best model only with val_loss available, skipping.\n",
      "41/41 [==============================] - 22s 526ms/step - loss: 0.0100 - semantic_0_loss: 0.0025 - semantic_1_loss: 0.0063 - semantic_2_loss: 0.0012 - lr: 5.8704e-05\n",
      "Epoch 55/200\n",
      "41/41 [==============================] - ETA: 0s - loss: 0.0098 - semantic_0_loss: 0.0024 - semantic_1_loss: 0.0062 - semantic_2_loss: 0.0012WARNING:tensorflow:Can save best model only with val_loss available, skipping.\n",
      "41/41 [==============================] - 22s 538ms/step - loss: 0.0098 - semantic_0_loss: 0.0024 - semantic_1_loss: 0.0062 - semantic_2_loss: 0.0012 - lr: 5.8117e-05\n",
      "Epoch 56/200\n",
      "41/41 [==============================] - ETA: 0s - loss: 0.0101 - semantic_0_loss: 0.0025 - semantic_1_loss: 0.0063 - semantic_2_loss: 0.0012WARNING:tensorflow:Can save best model only with val_loss available, skipping.\n",
      "41/41 [==============================] - 22s 533ms/step - loss: 0.0101 - semantic_0_loss: 0.0025 - semantic_1_loss: 0.0063 - semantic_2_loss: 0.0012 - lr: 5.7535e-05\n",
      "Epoch 57/200\n",
      "41/41 [==============================] - ETA: 0s - loss: 0.0099 - semantic_0_loss: 0.0024 - semantic_1_loss: 0.0062 - semantic_2_loss: 0.0012WARNING:tensorflow:Can save best model only with val_loss available, skipping.\n",
      "41/41 [==============================] - 22s 537ms/step - loss: 0.0099 - semantic_0_loss: 0.0024 - semantic_1_loss: 0.0062 - semantic_2_loss: 0.0012 - lr: 5.6960e-05\n",
      "Epoch 58/200\n",
      "41/41 [==============================] - ETA: 0s - loss: 0.0099 - semantic_0_loss: 0.0025 - semantic_1_loss: 0.0062 - semantic_2_loss: 0.0012WARNING:tensorflow:Can save best model only with val_loss available, skipping.\n",
      "41/41 [==============================] - 22s 525ms/step - loss: 0.0099 - semantic_0_loss: 0.0025 - semantic_1_loss: 0.0062 - semantic_2_loss: 0.0012 - lr: 5.6391e-05\n",
      "Epoch 59/200\n",
      "41/41 [==============================] - ETA: 0s - loss: 0.0099 - semantic_0_loss: 0.0025 - semantic_1_loss: 0.0062 - semantic_2_loss: 0.0012WARNING:tensorflow:Can save best model only with val_loss available, skipping.\n",
      "41/41 [==============================] - 22s 531ms/step - loss: 0.0099 - semantic_0_loss: 0.0025 - semantic_1_loss: 0.0062 - semantic_2_loss: 0.0012 - lr: 5.5827e-05\n",
      "Epoch 60/200\n",
      "41/41 [==============================] - ETA: 0s - loss: 0.0100 - semantic_0_loss: 0.0025 - semantic_1_loss: 0.0063 - semantic_2_loss: 0.0012WARNING:tensorflow:Can save best model only with val_loss available, skipping.\n",
      "41/41 [==============================] - 23s 543ms/step - loss: 0.0100 - semantic_0_loss: 0.0025 - semantic_1_loss: 0.0063 - semantic_2_loss: 0.0012 - lr: 5.5268e-05\n",
      "Epoch 61/200\n",
      "41/41 [==============================] - ETA: 0s - loss: 0.0099 - semantic_0_loss: 0.0025 - semantic_1_loss: 0.0062 - semantic_2_loss: 0.0012WARNING:tensorflow:Can save best model only with val_loss available, skipping.\n",
      "41/41 [==============================] - 22s 529ms/step - loss: 0.0099 - semantic_0_loss: 0.0025 - semantic_1_loss: 0.0062 - semantic_2_loss: 0.0012 - lr: 5.4716e-05\n",
      "Epoch 62/200\n",
      "41/41 [==============================] - ETA: 0s - loss: 0.0097 - semantic_0_loss: 0.0024 - semantic_1_loss: 0.0061 - semantic_2_loss: 0.0012WARNING:tensorflow:Can save best model only with val_loss available, skipping.\n",
      "41/41 [==============================] - 22s 520ms/step - loss: 0.0097 - semantic_0_loss: 0.0024 - semantic_1_loss: 0.0061 - semantic_2_loss: 0.0012 - lr: 5.4169e-05\n",
      "Epoch 63/200\n",
      "41/41 [==============================] - ETA: 0s - loss: 0.0097 - semantic_0_loss: 0.0024 - semantic_1_loss: 0.0061 - semantic_2_loss: 0.0012WARNING:tensorflow:Can save best model only with val_loss available, skipping.\n",
      "41/41 [==============================] - 22s 537ms/step - loss: 0.0097 - semantic_0_loss: 0.0024 - semantic_1_loss: 0.0061 - semantic_2_loss: 0.0012 - lr: 5.3627e-05\n",
      "Epoch 64/200\n",
      "41/41 [==============================] - ETA: 0s - loss: 0.0099 - semantic_0_loss: 0.0025 - semantic_1_loss: 0.0062 - semantic_2_loss: 0.0012WARNING:tensorflow:Can save best model only with val_loss available, skipping.\n",
      "41/41 [==============================] - 22s 524ms/step - loss: 0.0099 - semantic_0_loss: 0.0025 - semantic_1_loss: 0.0062 - semantic_2_loss: 0.0012 - lr: 5.3091e-05\n",
      "Epoch 65/200\n",
      "41/41 [==============================] - ETA: 0s - loss: 0.0097 - semantic_0_loss: 0.0024 - semantic_1_loss: 0.0061 - semantic_2_loss: 0.0012WARNING:tensorflow:Can save best model only with val_loss available, skipping.\n",
      "41/41 [==============================] - 22s 528ms/step - loss: 0.0097 - semantic_0_loss: 0.0024 - semantic_1_loss: 0.0061 - semantic_2_loss: 0.0012 - lr: 5.2560e-05\n",
      "Epoch 66/200\n",
      "41/41 [==============================] - ETA: 0s - loss: 0.0096 - semantic_0_loss: 0.0024 - semantic_1_loss: 0.0060 - semantic_2_loss: 0.0012WARNING:tensorflow:Can save best model only with val_loss available, skipping.\n",
      "41/41 [==============================] - 21s 518ms/step - loss: 0.0096 - semantic_0_loss: 0.0024 - semantic_1_loss: 0.0060 - semantic_2_loss: 0.0012 - lr: 5.2034e-05\n",
      "Epoch 67/200\n",
      "41/41 [==============================] - ETA: 0s - loss: 0.0097 - semantic_0_loss: 0.0024 - semantic_1_loss: 0.0061 - semantic_2_loss: 0.0012WARNING:tensorflow:Can save best model only with val_loss available, skipping.\n",
      "41/41 [==============================] - 22s 527ms/step - loss: 0.0097 - semantic_0_loss: 0.0024 - semantic_1_loss: 0.0061 - semantic_2_loss: 0.0012 - lr: 5.1514e-05\n",
      "Epoch 68/200\n",
      "41/41 [==============================] - ETA: 0s - loss: 0.0094 - semantic_0_loss: 0.0024 - semantic_1_loss: 0.0058 - semantic_2_loss: 0.0012WARNING:tensorflow:Can save best model only with val_loss available, skipping.\n",
      "41/41 [==============================] - 22s 533ms/step - loss: 0.0094 - semantic_0_loss: 0.0024 - semantic_1_loss: 0.0058 - semantic_2_loss: 0.0012 - lr: 5.0999e-05\n",
      "Epoch 69/200\n",
      "41/41 [==============================] - ETA: 0s - loss: 0.0096 - semantic_0_loss: 0.0024 - semantic_1_loss: 0.0060 - semantic_2_loss: 0.0012WARNING:tensorflow:Can save best model only with val_loss available, skipping.\n",
      "41/41 [==============================] - 22s 533ms/step - loss: 0.0096 - semantic_0_loss: 0.0024 - semantic_1_loss: 0.0060 - semantic_2_loss: 0.0012 - lr: 5.0489e-05\n",
      "Epoch 70/200\n",
      "41/41 [==============================] - ETA: 0s - loss: 0.0096 - semantic_0_loss: 0.0024 - semantic_1_loss: 0.0060 - semantic_2_loss: 0.0012WARNING:tensorflow:Can save best model only with val_loss available, skipping.\n",
      "41/41 [==============================] - 22s 529ms/step - loss: 0.0096 - semantic_0_loss: 0.0024 - semantic_1_loss: 0.0060 - semantic_2_loss: 0.0012 - lr: 4.9984e-05\n",
      "Epoch 71/200\n",
      "41/41 [==============================] - ETA: 0s - loss: 0.0098 - semantic_0_loss: 0.0025 - semantic_1_loss: 0.0062 - semantic_2_loss: 0.0012WARNING:tensorflow:Can save best model only with val_loss available, skipping.\n",
      "41/41 [==============================] - 22s 526ms/step - loss: 0.0098 - semantic_0_loss: 0.0025 - semantic_1_loss: 0.0062 - semantic_2_loss: 0.0012 - lr: 4.9484e-05\n",
      "Epoch 72/200\n",
      "41/41 [==============================] - ETA: 0s - loss: 0.0095 - semantic_0_loss: 0.0024 - semantic_1_loss: 0.0059 - semantic_2_loss: 0.0012WARNING:tensorflow:Can save best model only with val_loss available, skipping.\n",
      "41/41 [==============================] - 22s 522ms/step - loss: 0.0095 - semantic_0_loss: 0.0024 - semantic_1_loss: 0.0059 - semantic_2_loss: 0.0012 - lr: 4.8989e-05\n",
      "Epoch 73/200\n",
      "41/41 [==============================] - ETA: 0s - loss: 0.0095 - semantic_0_loss: 0.0024 - semantic_1_loss: 0.0060 - semantic_2_loss: 0.0012WARNING:tensorflow:Can save best model only with val_loss available, skipping.\n",
      "41/41 [==============================] - 22s 522ms/step - loss: 0.0095 - semantic_0_loss: 0.0024 - semantic_1_loss: 0.0060 - semantic_2_loss: 0.0012 - lr: 4.8499e-05\n",
      "Epoch 74/200\n",
      "41/41 [==============================] - ETA: 0s - loss: 0.0093 - semantic_0_loss: 0.0024 - semantic_1_loss: 0.0058 - semantic_2_loss: 0.0011WARNING:tensorflow:Can save best model only with val_loss available, skipping.\n",
      "41/41 [==============================] - 22s 527ms/step - loss: 0.0093 - semantic_0_loss: 0.0024 - semantic_1_loss: 0.0058 - semantic_2_loss: 0.0011 - lr: 4.8014e-05\n",
      "Epoch 75/200\n",
      "41/41 [==============================] - ETA: 0s - loss: 0.0095 - semantic_0_loss: 0.0024 - semantic_1_loss: 0.0059 - semantic_2_loss: 0.0012WARNING:tensorflow:Can save best model only with val_loss available, skipping.\n",
      "41/41 [==============================] - 22s 520ms/step - loss: 0.0095 - semantic_0_loss: 0.0024 - semantic_1_loss: 0.0059 - semantic_2_loss: 0.0012 - lr: 4.7534e-05\n",
      "Epoch 76/200\n",
      "41/41 [==============================] - ETA: 0s - loss: 0.0095 - semantic_0_loss: 0.0024 - semantic_1_loss: 0.0060 - semantic_2_loss: 0.0012WARNING:tensorflow:Can save best model only with val_loss available, skipping.\n",
      "41/41 [==============================] - 22s 521ms/step - loss: 0.0095 - semantic_0_loss: 0.0024 - semantic_1_loss: 0.0060 - semantic_2_loss: 0.0012 - lr: 4.7059e-05\n",
      "Epoch 77/200\n",
      "41/41 [==============================] - ETA: 0s - loss: 0.0095 - semantic_0_loss: 0.0024 - semantic_1_loss: 0.0059 - semantic_2_loss: 0.0012WARNING:tensorflow:Can save best model only with val_loss available, skipping.\n",
      "41/41 [==============================] - 22s 519ms/step - loss: 0.0095 - semantic_0_loss: 0.0024 - semantic_1_loss: 0.0059 - semantic_2_loss: 0.0012 - lr: 4.6588e-05\n",
      "Epoch 78/200\n",
      "41/41 [==============================] - ETA: 0s - loss: 0.0093 - semantic_0_loss: 0.0023 - semantic_1_loss: 0.0058 - semantic_2_loss: 0.0011WARNING:tensorflow:Can save best model only with val_loss available, skipping.\n",
      "41/41 [==============================] - 21s 516ms/step - loss: 0.0093 - semantic_0_loss: 0.0023 - semantic_1_loss: 0.0058 - semantic_2_loss: 0.0011 - lr: 4.6122e-05\n",
      "Epoch 79/200\n",
      "41/41 [==============================] - ETA: 0s - loss: 0.0093 - semantic_0_loss: 0.0023 - semantic_1_loss: 0.0058 - semantic_2_loss: 0.0012WARNING:tensorflow:Can save best model only with val_loss available, skipping.\n",
      "41/41 [==============================] - 22s 524ms/step - loss: 0.0093 - semantic_0_loss: 0.0023 - semantic_1_loss: 0.0058 - semantic_2_loss: 0.0012 - lr: 4.5661e-05\n",
      "Epoch 80/200\n",
      "41/41 [==============================] - ETA: 0s - loss: 0.0096 - semantic_0_loss: 0.0024 - semantic_1_loss: 0.0060 - semantic_2_loss: 0.0012WARNING:tensorflow:Can save best model only with val_loss available, skipping.\n",
      "41/41 [==============================] - 23s 545ms/step - loss: 0.0096 - semantic_0_loss: 0.0024 - semantic_1_loss: 0.0060 - semantic_2_loss: 0.0012 - lr: 4.5204e-05\n",
      "Epoch 81/200\n",
      "41/41 [==============================] - ETA: 0s - loss: 0.0093 - semantic_0_loss: 0.0023 - semantic_1_loss: 0.0058 - semantic_2_loss: 0.0012WARNING:tensorflow:Can save best model only with val_loss available, skipping.\n",
      "41/41 [==============================] - 22s 528ms/step - loss: 0.0093 - semantic_0_loss: 0.0023 - semantic_1_loss: 0.0058 - semantic_2_loss: 0.0012 - lr: 4.4752e-05\n",
      "Epoch 82/200\n",
      "41/41 [==============================] - ETA: 0s - loss: 0.0093 - semantic_0_loss: 0.0024 - semantic_1_loss: 0.0058 - semantic_2_loss: 0.0011WARNING:tensorflow:Can save best model only with val_loss available, skipping.\n",
      "41/41 [==============================] - 22s 531ms/step - loss: 0.0093 - semantic_0_loss: 0.0024 - semantic_1_loss: 0.0058 - semantic_2_loss: 0.0011 - lr: 4.4305e-05\n",
      "Epoch 83/200\n",
      "41/41 [==============================] - ETA: 0s - loss: 0.0094 - semantic_0_loss: 0.0024 - semantic_1_loss: 0.0059 - semantic_2_loss: 0.0012WARNING:tensorflow:Can save best model only with val_loss available, skipping.\n",
      "41/41 [==============================] - 22s 533ms/step - loss: 0.0094 - semantic_0_loss: 0.0024 - semantic_1_loss: 0.0059 - semantic_2_loss: 0.0012 - lr: 4.3862e-05\n",
      "Epoch 84/200\n",
      "41/41 [==============================] - ETA: 0s - loss: 0.0093 - semantic_0_loss: 0.0023 - semantic_1_loss: 0.0058 - semantic_2_loss: 0.0011WARNING:tensorflow:Can save best model only with val_loss available, skipping.\n",
      "41/41 [==============================] - 22s 523ms/step - loss: 0.0093 - semantic_0_loss: 0.0023 - semantic_1_loss: 0.0058 - semantic_2_loss: 0.0011 - lr: 4.3423e-05\n",
      "Epoch 85/200\n",
      "41/41 [==============================] - ETA: 0s - loss: 0.0093 - semantic_0_loss: 0.0024 - semantic_1_loss: 0.0058 - semantic_2_loss: 0.0011WARNING:tensorflow:Can save best model only with val_loss available, skipping.\n",
      "41/41 [==============================] - 22s 535ms/step - loss: 0.0093 - semantic_0_loss: 0.0024 - semantic_1_loss: 0.0058 - semantic_2_loss: 0.0011 - lr: 4.2989e-05\n",
      "Epoch 86/200\n",
      "41/41 [==============================] - ETA: 0s - loss: 0.0093 - semantic_0_loss: 0.0024 - semantic_1_loss: 0.0058 - semantic_2_loss: 0.0012WARNING:tensorflow:Can save best model only with val_loss available, skipping.\n",
      "41/41 [==============================] - 22s 531ms/step - loss: 0.0093 - semantic_0_loss: 0.0024 - semantic_1_loss: 0.0058 - semantic_2_loss: 0.0012 - lr: 4.2559e-05\n",
      "Epoch 87/200\n",
      "41/41 [==============================] - ETA: 0s - loss: 0.0093 - semantic_0_loss: 0.0024 - semantic_1_loss: 0.0058 - semantic_2_loss: 0.0011WARNING:tensorflow:Can save best model only with val_loss available, skipping.\n",
      "41/41 [==============================] - 22s 530ms/step - loss: 0.0093 - semantic_0_loss: 0.0024 - semantic_1_loss: 0.0058 - semantic_2_loss: 0.0011 - lr: 4.2133e-05\n",
      "Epoch 88/200\n",
      "41/41 [==============================] - ETA: 0s - loss: 0.0092 - semantic_0_loss: 0.0023 - semantic_1_loss: 0.0057 - semantic_2_loss: 0.0011WARNING:tensorflow:Can save best model only with val_loss available, skipping.\n",
      "41/41 [==============================] - 22s 531ms/step - loss: 0.0092 - semantic_0_loss: 0.0023 - semantic_1_loss: 0.0057 - semantic_2_loss: 0.0011 - lr: 4.1712e-05\n",
      "Epoch 89/200\n",
      "41/41 [==============================] - ETA: 0s - loss: 0.0092 - semantic_0_loss: 0.0023 - semantic_1_loss: 0.0057 - semantic_2_loss: 0.0011WARNING:tensorflow:Can save best model only with val_loss available, skipping.\n",
      "41/41 [==============================] - 22s 528ms/step - loss: 0.0092 - semantic_0_loss: 0.0023 - semantic_1_loss: 0.0057 - semantic_2_loss: 0.0011 - lr: 4.1295e-05\n",
      "Epoch 90/200\n",
      "41/41 [==============================] - ETA: 0s - loss: 0.0093 - semantic_0_loss: 0.0024 - semantic_1_loss: 0.0058 - semantic_2_loss: 0.0011WARNING:tensorflow:Can save best model only with val_loss available, skipping.\n",
      "41/41 [==============================] - 22s 526ms/step - loss: 0.0093 - semantic_0_loss: 0.0024 - semantic_1_loss: 0.0058 - semantic_2_loss: 0.0011 - lr: 4.0882e-05\n",
      "Epoch 91/200\n",
      "41/41 [==============================] - ETA: 0s - loss: 0.0092 - semantic_0_loss: 0.0023 - semantic_1_loss: 0.0057 - semantic_2_loss: 0.0011WARNING:tensorflow:Can save best model only with val_loss available, skipping.\n",
      "41/41 [==============================] - 22s 521ms/step - loss: 0.0092 - semantic_0_loss: 0.0023 - semantic_1_loss: 0.0057 - semantic_2_loss: 0.0011 - lr: 4.0473e-05\n",
      "Epoch 92/200\n",
      "41/41 [==============================] - ETA: 0s - loss: 0.0093 - semantic_0_loss: 0.0024 - semantic_1_loss: 0.0058 - semantic_2_loss: 0.0011WARNING:tensorflow:Can save best model only with val_loss available, skipping.\n",
      "41/41 [==============================] - 22s 533ms/step - loss: 0.0093 - semantic_0_loss: 0.0024 - semantic_1_loss: 0.0058 - semantic_2_loss: 0.0011 - lr: 4.0068e-05\n",
      "Epoch 93/200\n",
      "41/41 [==============================] - ETA: 0s - loss: 0.0092 - semantic_0_loss: 0.0023 - semantic_1_loss: 0.0057 - semantic_2_loss: 0.0011WARNING:tensorflow:Can save best model only with val_loss available, skipping.\n",
      "41/41 [==============================] - 22s 529ms/step - loss: 0.0092 - semantic_0_loss: 0.0023 - semantic_1_loss: 0.0057 - semantic_2_loss: 0.0011 - lr: 3.9668e-05\n",
      "Epoch 94/200\n",
      "41/41 [==============================] - ETA: 0s - loss: 0.0092 - semantic_0_loss: 0.0023 - semantic_1_loss: 0.0058 - semantic_2_loss: 0.0011WARNING:tensorflow:Can save best model only with val_loss available, skipping.\n",
      "41/41 [==============================] - 22s 521ms/step - loss: 0.0092 - semantic_0_loss: 0.0023 - semantic_1_loss: 0.0058 - semantic_2_loss: 0.0011 - lr: 3.9271e-05\n",
      "Epoch 95/200\n",
      "41/41 [==============================] - ETA: 0s - loss: 0.0091 - semantic_0_loss: 0.0023 - semantic_1_loss: 0.0057 - semantic_2_loss: 0.0011WARNING:tensorflow:Can save best model only with val_loss available, skipping.\n",
      "41/41 [==============================] - 22s 521ms/step - loss: 0.0091 - semantic_0_loss: 0.0023 - semantic_1_loss: 0.0057 - semantic_2_loss: 0.0011 - lr: 3.8878e-05\n",
      "Epoch 96/200\n",
      "41/41 [==============================] - ETA: 0s - loss: 0.0092 - semantic_0_loss: 0.0024 - semantic_1_loss: 0.0057 - semantic_2_loss: 0.0011WARNING:tensorflow:Can save best model only with val_loss available, skipping.\n",
      "41/41 [==============================] - 22s 537ms/step - loss: 0.0092 - semantic_0_loss: 0.0024 - semantic_1_loss: 0.0057 - semantic_2_loss: 0.0011 - lr: 3.8490e-05\n",
      "Epoch 97/200\n",
      "41/41 [==============================] - ETA: 0s - loss: 0.0092 - semantic_0_loss: 0.0024 - semantic_1_loss: 0.0057 - semantic_2_loss: 0.0011WARNING:tensorflow:Can save best model only with val_loss available, skipping.\n",
      "41/41 [==============================] - 22s 529ms/step - loss: 0.0092 - semantic_0_loss: 0.0024 - semantic_1_loss: 0.0057 - semantic_2_loss: 0.0011 - lr: 3.8105e-05\n",
      "Epoch 98/200\n",
      "41/41 [==============================] - ETA: 0s - loss: 0.0092 - semantic_0_loss: 0.0023 - semantic_1_loss: 0.0057 - semantic_2_loss: 0.0011WARNING:tensorflow:Can save best model only with val_loss available, skipping.\n",
      "41/41 [==============================] - 22s 530ms/step - loss: 0.0092 - semantic_0_loss: 0.0023 - semantic_1_loss: 0.0057 - semantic_2_loss: 0.0011 - lr: 3.7724e-05\n",
      "Epoch 99/200\n",
      "41/41 [==============================] - ETA: 0s - loss: 0.0092 - semantic_0_loss: 0.0023 - semantic_1_loss: 0.0057 - semantic_2_loss: 0.0011WARNING:tensorflow:Can save best model only with val_loss available, skipping.\n",
      "41/41 [==============================] - 22s 520ms/step - loss: 0.0092 - semantic_0_loss: 0.0023 - semantic_1_loss: 0.0057 - semantic_2_loss: 0.0011 - lr: 3.7346e-05\n",
      "Epoch 100/200\n",
      "41/41 [==============================] - ETA: 0s - loss: 0.0092 - semantic_0_loss: 0.0023 - semantic_1_loss: 0.0057 - semantic_2_loss: 0.0011WARNING:tensorflow:Can save best model only with val_loss available, skipping.\n",
      "41/41 [==============================] - 22s 525ms/step - loss: 0.0092 - semantic_0_loss: 0.0023 - semantic_1_loss: 0.0057 - semantic_2_loss: 0.0011 - lr: 3.6973e-05\n",
      "Epoch 101/200\n",
      "41/41 [==============================] - ETA: 0s - loss: 0.0091 - semantic_0_loss: 0.0023 - semantic_1_loss: 0.0057 - semantic_2_loss: 0.0011WARNING:tensorflow:Can save best model only with val_loss available, skipping.\n",
      "41/41 [==============================] - 22s 531ms/step - loss: 0.0091 - semantic_0_loss: 0.0023 - semantic_1_loss: 0.0057 - semantic_2_loss: 0.0011 - lr: 3.6603e-05\n",
      "Epoch 102/200\n",
      "41/41 [==============================] - ETA: 0s - loss: 0.0090 - semantic_0_loss: 0.0023 - semantic_1_loss: 0.0056 - semantic_2_loss: 0.0011WARNING:tensorflow:Can save best model only with val_loss available, skipping.\n",
      "41/41 [==============================] - 22s 526ms/step - loss: 0.0090 - semantic_0_loss: 0.0023 - semantic_1_loss: 0.0056 - semantic_2_loss: 0.0011 - lr: 3.6237e-05\n",
      "Epoch 103/200\n",
      "41/41 [==============================] - ETA: 0s - loss: 0.0090 - semantic_0_loss: 0.0023 - semantic_1_loss: 0.0056 - semantic_2_loss: 0.0011WARNING:tensorflow:Can save best model only with val_loss available, skipping.\n",
      "41/41 [==============================] - 22s 536ms/step - loss: 0.0090 - semantic_0_loss: 0.0023 - semantic_1_loss: 0.0056 - semantic_2_loss: 0.0011 - lr: 3.5875e-05\n",
      "Epoch 104/200\n",
      "41/41 [==============================] - ETA: 0s - loss: 0.0091 - semantic_0_loss: 0.0023 - semantic_1_loss: 0.0056 - semantic_2_loss: 0.0011WARNING:tensorflow:Can save best model only with val_loss available, skipping.\n",
      "41/41 [==============================] - 22s 530ms/step - loss: 0.0091 - semantic_0_loss: 0.0023 - semantic_1_loss: 0.0056 - semantic_2_loss: 0.0011 - lr: 3.5516e-05\n",
      "Epoch 105/200\n",
      "41/41 [==============================] - ETA: 0s - loss: 0.0092 - semantic_0_loss: 0.0023 - semantic_1_loss: 0.0057 - semantic_2_loss: 0.0011WARNING:tensorflow:Can save best model only with val_loss available, skipping.\n",
      "41/41 [==============================] - 22s 521ms/step - loss: 0.0092 - semantic_0_loss: 0.0023 - semantic_1_loss: 0.0057 - semantic_2_loss: 0.0011 - lr: 3.5161e-05\n",
      "Epoch 106/200\n",
      "41/41 [==============================] - ETA: 0s - loss: 0.0089 - semantic_0_loss: 0.0023 - semantic_1_loss: 0.0055 - semantic_2_loss: 0.0011WARNING:tensorflow:Can save best model only with val_loss available, skipping.\n",
      "41/41 [==============================] - 22s 526ms/step - loss: 0.0089 - semantic_0_loss: 0.0023 - semantic_1_loss: 0.0055 - semantic_2_loss: 0.0011 - lr: 3.4809e-05\n",
      "Epoch 107/200\n",
      "41/41 [==============================] - ETA: 0s - loss: 0.0089 - semantic_0_loss: 0.0023 - semantic_1_loss: 0.0055 - semantic_2_loss: 0.0011WARNING:tensorflow:Can save best model only with val_loss available, skipping.\n",
      "41/41 [==============================] - 22s 529ms/step - loss: 0.0089 - semantic_0_loss: 0.0023 - semantic_1_loss: 0.0055 - semantic_2_loss: 0.0011 - lr: 3.4461e-05\n",
      "Epoch 108/200\n",
      "41/41 [==============================] - ETA: 0s - loss: 0.0092 - semantic_0_loss: 0.0024 - semantic_1_loss: 0.0057 - semantic_2_loss: 0.0011WARNING:tensorflow:Can save best model only with val_loss available, skipping.\n",
      "41/41 [==============================] - 22s 523ms/step - loss: 0.0092 - semantic_0_loss: 0.0024 - semantic_1_loss: 0.0057 - semantic_2_loss: 0.0011 - lr: 3.4117e-05\n",
      "Epoch 109/200\n",
      "41/41 [==============================] - ETA: 0s - loss: 0.0091 - semantic_0_loss: 0.0023 - semantic_1_loss: 0.0056 - semantic_2_loss: 0.0011WARNING:tensorflow:Can save best model only with val_loss available, skipping.\n",
      "41/41 [==============================] - 22s 531ms/step - loss: 0.0091 - semantic_0_loss: 0.0023 - semantic_1_loss: 0.0056 - semantic_2_loss: 0.0011 - lr: 3.3775e-05\n",
      "Epoch 110/200\n",
      "41/41 [==============================] - ETA: 0s - loss: 0.0089 - semantic_0_loss: 0.0023 - semantic_1_loss: 0.0055 - semantic_2_loss: 0.0011WARNING:tensorflow:Can save best model only with val_loss available, skipping.\n",
      "41/41 [==============================] - 22s 541ms/step - loss: 0.0089 - semantic_0_loss: 0.0023 - semantic_1_loss: 0.0055 - semantic_2_loss: 0.0011 - lr: 3.3438e-05\n",
      "Epoch 111/200\n",
      "41/41 [==============================] - ETA: 0s - loss: 0.0089 - semantic_0_loss: 0.0023 - semantic_1_loss: 0.0056 - semantic_2_loss: 0.0011WARNING:tensorflow:Can save best model only with val_loss available, skipping.\n",
      "41/41 [==============================] - 22s 527ms/step - loss: 0.0089 - semantic_0_loss: 0.0023 - semantic_1_loss: 0.0056 - semantic_2_loss: 0.0011 - lr: 3.3103e-05\n",
      "Epoch 112/200\n",
      "41/41 [==============================] - ETA: 0s - loss: 0.0091 - semantic_0_loss: 0.0023 - semantic_1_loss: 0.0057 - semantic_2_loss: 0.0011WARNING:tensorflow:Can save best model only with val_loss available, skipping.\n",
      "41/41 [==============================] - 22s 533ms/step - loss: 0.0091 - semantic_0_loss: 0.0023 - semantic_1_loss: 0.0057 - semantic_2_loss: 0.0011 - lr: 3.2772e-05\n",
      "Epoch 113/200\n",
      "41/41 [==============================] - ETA: 0s - loss: 0.0088 - semantic_0_loss: 0.0023 - semantic_1_loss: 0.0055 - semantic_2_loss: 0.0011WARNING:tensorflow:Can save best model only with val_loss available, skipping.\n",
      "41/41 [==============================] - 22s 529ms/step - loss: 0.0088 - semantic_0_loss: 0.0023 - semantic_1_loss: 0.0055 - semantic_2_loss: 0.0011 - lr: 3.2445e-05\n",
      "Epoch 114/200\n",
      "41/41 [==============================] - ETA: 0s - loss: 0.0090 - semantic_0_loss: 0.0023 - semantic_1_loss: 0.0056 - semantic_2_loss: 0.0011WARNING:tensorflow:Can save best model only with val_loss available, skipping.\n",
      "41/41 [==============================] - 22s 527ms/step - loss: 0.0090 - semantic_0_loss: 0.0023 - semantic_1_loss: 0.0056 - semantic_2_loss: 0.0011 - lr: 3.2120e-05\n",
      "Epoch 115/200\n",
      "41/41 [==============================] - ETA: 0s - loss: 0.0089 - semantic_0_loss: 0.0023 - semantic_1_loss: 0.0055 - semantic_2_loss: 0.0011WARNING:tensorflow:Can save best model only with val_loss available, skipping.\n",
      "41/41 [==============================] - 22s 528ms/step - loss: 0.0089 - semantic_0_loss: 0.0023 - semantic_1_loss: 0.0055 - semantic_2_loss: 0.0011 - lr: 3.1799e-05\n",
      "Epoch 116/200\n",
      "41/41 [==============================] - ETA: 0s - loss: 0.0090 - semantic_0_loss: 0.0023 - semantic_1_loss: 0.0056 - semantic_2_loss: 0.0011WARNING:tensorflow:Can save best model only with val_loss available, skipping.\n",
      "41/41 [==============================] - 22s 534ms/step - loss: 0.0090 - semantic_0_loss: 0.0023 - semantic_1_loss: 0.0056 - semantic_2_loss: 0.0011 - lr: 3.1481e-05\n",
      "Epoch 117/200\n",
      "41/41 [==============================] - ETA: 0s - loss: 0.0090 - semantic_0_loss: 0.0023 - semantic_1_loss: 0.0056 - semantic_2_loss: 0.0011WARNING:tensorflow:Can save best model only with val_loss available, skipping.\n",
      "41/41 [==============================] - 22s 533ms/step - loss: 0.0090 - semantic_0_loss: 0.0023 - semantic_1_loss: 0.0056 - semantic_2_loss: 0.0011 - lr: 3.1166e-05\n",
      "Epoch 118/200\n",
      "41/41 [==============================] - ETA: 0s - loss: 0.0091 - semantic_0_loss: 0.0023 - semantic_1_loss: 0.0056 - semantic_2_loss: 0.0011WARNING:tensorflow:Can save best model only with val_loss available, skipping.\n",
      "41/41 [==============================] - 22s 537ms/step - loss: 0.0091 - semantic_0_loss: 0.0023 - semantic_1_loss: 0.0056 - semantic_2_loss: 0.0011 - lr: 3.0854e-05\n",
      "Epoch 119/200\n",
      "41/41 [==============================] - ETA: 0s - loss: 0.0089 - semantic_0_loss: 0.0023 - semantic_1_loss: 0.0055 - semantic_2_loss: 0.0011WARNING:tensorflow:Can save best model only with val_loss available, skipping.\n",
      "41/41 [==============================] - 22s 538ms/step - loss: 0.0089 - semantic_0_loss: 0.0023 - semantic_1_loss: 0.0055 - semantic_2_loss: 0.0011 - lr: 3.0546e-05\n",
      "Epoch 120/200\n",
      "41/41 [==============================] - ETA: 0s - loss: 0.0088 - semantic_0_loss: 0.0023 - semantic_1_loss: 0.0055 - semantic_2_loss: 0.0011WARNING:tensorflow:Can save best model only with val_loss available, skipping.\n",
      "41/41 [==============================] - 22s 528ms/step - loss: 0.0088 - semantic_0_loss: 0.0023 - semantic_1_loss: 0.0055 - semantic_2_loss: 0.0011 - lr: 3.0240e-05\n",
      "Epoch 121/200\n",
      "41/41 [==============================] - ETA: 0s - loss: 0.0088 - semantic_0_loss: 0.0022 - semantic_1_loss: 0.0055 - semantic_2_loss: 0.0011WARNING:tensorflow:Can save best model only with val_loss available, skipping.\n",
      "41/41 [==============================] - 22s 538ms/step - loss: 0.0088 - semantic_0_loss: 0.0022 - semantic_1_loss: 0.0055 - semantic_2_loss: 0.0011 - lr: 2.9938e-05\n",
      "Epoch 122/200\n",
      "41/41 [==============================] - ETA: 0s - loss: 0.0087 - semantic_0_loss: 0.0022 - semantic_1_loss: 0.0054 - semantic_2_loss: 0.0011WARNING:tensorflow:Can save best model only with val_loss available, skipping.\n",
      "41/41 [==============================] - 22s 524ms/step - loss: 0.0087 - semantic_0_loss: 0.0022 - semantic_1_loss: 0.0054 - semantic_2_loss: 0.0011 - lr: 2.9639e-05\n",
      "Epoch 123/200\n",
      "41/41 [==============================] - ETA: 0s - loss: 0.0088 - semantic_0_loss: 0.0022 - semantic_1_loss: 0.0054 - semantic_2_loss: 0.0011WARNING:tensorflow:Can save best model only with val_loss available, skipping.\n",
      "41/41 [==============================] - 22s 522ms/step - loss: 0.0088 - semantic_0_loss: 0.0022 - semantic_1_loss: 0.0054 - semantic_2_loss: 0.0011 - lr: 2.9342e-05\n",
      "Epoch 124/200\n",
      "41/41 [==============================] - ETA: 0s - loss: 0.0088 - semantic_0_loss: 0.0023 - semantic_1_loss: 0.0055 - semantic_2_loss: 0.0011WARNING:tensorflow:Can save best model only with val_loss available, skipping.\n",
      "41/41 [==============================] - 22s 521ms/step - loss: 0.0088 - semantic_0_loss: 0.0023 - semantic_1_loss: 0.0055 - semantic_2_loss: 0.0011 - lr: 2.9049e-05\n",
      "Epoch 125/200\n",
      "41/41 [==============================] - ETA: 0s - loss: 0.0089 - semantic_0_loss: 0.0023 - semantic_1_loss: 0.0055 - semantic_2_loss: 0.0011WARNING:tensorflow:Can save best model only with val_loss available, skipping.\n",
      "41/41 [==============================] - 22s 531ms/step - loss: 0.0089 - semantic_0_loss: 0.0023 - semantic_1_loss: 0.0055 - semantic_2_loss: 0.0011 - lr: 2.8758e-05\n",
      "Epoch 126/200\n",
      "41/41 [==============================] - ETA: 0s - loss: 0.0088 - semantic_0_loss: 0.0023 - semantic_1_loss: 0.0054 - semantic_2_loss: 0.0011WARNING:tensorflow:Can save best model only with val_loss available, skipping.\n",
      "41/41 [==============================] - 22s 525ms/step - loss: 0.0088 - semantic_0_loss: 0.0023 - semantic_1_loss: 0.0054 - semantic_2_loss: 0.0011 - lr: 2.8471e-05\n",
      "Epoch 127/200\n",
      "41/41 [==============================] - ETA: 0s - loss: 0.0088 - semantic_0_loss: 0.0023 - semantic_1_loss: 0.0054 - semantic_2_loss: 0.0011WARNING:tensorflow:Can save best model only with val_loss available, skipping.\n",
      "41/41 [==============================] - 22s 518ms/step - loss: 0.0088 - semantic_0_loss: 0.0023 - semantic_1_loss: 0.0054 - semantic_2_loss: 0.0011 - lr: 2.8186e-05\n",
      "Epoch 128/200\n",
      "41/41 [==============================] - ETA: 0s - loss: 0.0087 - semantic_0_loss: 0.0022 - semantic_1_loss: 0.0054 - semantic_2_loss: 0.0011WARNING:tensorflow:Can save best model only with val_loss available, skipping.\n",
      "41/41 [==============================] - 22s 519ms/step - loss: 0.0087 - semantic_0_loss: 0.0022 - semantic_1_loss: 0.0054 - semantic_2_loss: 0.0011 - lr: 2.7904e-05\n",
      "Epoch 129/200\n",
      "41/41 [==============================] - ETA: 0s - loss: 0.0088 - semantic_0_loss: 0.0022 - semantic_1_loss: 0.0054 - semantic_2_loss: 0.0011WARNING:tensorflow:Can save best model only with val_loss available, skipping.\n",
      "41/41 [==============================] - 22s 521ms/step - loss: 0.0088 - semantic_0_loss: 0.0022 - semantic_1_loss: 0.0054 - semantic_2_loss: 0.0011 - lr: 2.7625e-05\n",
      "Epoch 130/200\n",
      "41/41 [==============================] - ETA: 0s - loss: 0.0089 - semantic_0_loss: 0.0023 - semantic_1_loss: 0.0055 - semantic_2_loss: 0.0011WARNING:tensorflow:Can save best model only with val_loss available, skipping.\n",
      "41/41 [==============================] - 22s 523ms/step - loss: 0.0089 - semantic_0_loss: 0.0023 - semantic_1_loss: 0.0055 - semantic_2_loss: 0.0011 - lr: 2.7349e-05\n",
      "Epoch 131/200\n",
      "41/41 [==============================] - ETA: 0s - loss: 0.0087 - semantic_0_loss: 0.0022 - semantic_1_loss: 0.0054 - semantic_2_loss: 0.0011WARNING:tensorflow:Can save best model only with val_loss available, skipping.\n",
      "41/41 [==============================] - 22s 531ms/step - loss: 0.0087 - semantic_0_loss: 0.0022 - semantic_1_loss: 0.0054 - semantic_2_loss: 0.0011 - lr: 2.7075e-05\n",
      "Epoch 132/200\n",
      "41/41 [==============================] - ETA: 0s - loss: 0.0086 - semantic_0_loss: 0.0022 - semantic_1_loss: 0.0053 - semantic_2_loss: 0.0011WARNING:tensorflow:Can save best model only with val_loss available, skipping.\n",
      "41/41 [==============================] - 22s 529ms/step - loss: 0.0086 - semantic_0_loss: 0.0022 - semantic_1_loss: 0.0053 - semantic_2_loss: 0.0011 - lr: 2.6805e-05\n",
      "Epoch 133/200\n",
      "41/41 [==============================] - ETA: 0s - loss: 0.0087 - semantic_0_loss: 0.0022 - semantic_1_loss: 0.0054 - semantic_2_loss: 0.0011WARNING:tensorflow:Can save best model only with val_loss available, skipping.\n",
      "41/41 [==============================] - 22s 529ms/step - loss: 0.0087 - semantic_0_loss: 0.0022 - semantic_1_loss: 0.0054 - semantic_2_loss: 0.0011 - lr: 2.6537e-05\n",
      "Epoch 134/200\n",
      "41/41 [==============================] - ETA: 0s - loss: 0.0087 - semantic_0_loss: 0.0022 - semantic_1_loss: 0.0054 - semantic_2_loss: 0.0011WARNING:tensorflow:Can save best model only with val_loss available, skipping.\n",
      "41/41 [==============================] - 22s 535ms/step - loss: 0.0087 - semantic_0_loss: 0.0022 - semantic_1_loss: 0.0054 - semantic_2_loss: 0.0011 - lr: 2.6271e-05\n",
      "Epoch 135/200\n",
      "41/41 [==============================] - ETA: 0s - loss: 0.0087 - semantic_0_loss: 0.0022 - semantic_1_loss: 0.0054 - semantic_2_loss: 0.0011WARNING:tensorflow:Can save best model only with val_loss available, skipping.\n",
      "41/41 [==============================] - 22s 526ms/step - loss: 0.0087 - semantic_0_loss: 0.0022 - semantic_1_loss: 0.0054 - semantic_2_loss: 0.0011 - lr: 2.6009e-05\n",
      "Epoch 136/200\n",
      "41/41 [==============================] - ETA: 0s - loss: 0.0088 - semantic_0_loss: 0.0023 - semantic_1_loss: 0.0055 - semantic_2_loss: 0.0011WARNING:tensorflow:Can save best model only with val_loss available, skipping.\n",
      "41/41 [==============================] - 22s 536ms/step - loss: 0.0088 - semantic_0_loss: 0.0023 - semantic_1_loss: 0.0055 - semantic_2_loss: 0.0011 - lr: 2.5748e-05\n",
      "Epoch 137/200\n",
      "41/41 [==============================] - ETA: 0s - loss: 0.0087 - semantic_0_loss: 0.0022 - semantic_1_loss: 0.0054 - semantic_2_loss: 0.0011WARNING:tensorflow:Can save best model only with val_loss available, skipping.\n",
      "41/41 [==============================] - 22s 521ms/step - loss: 0.0087 - semantic_0_loss: 0.0022 - semantic_1_loss: 0.0054 - semantic_2_loss: 0.0011 - lr: 2.5491e-05\n",
      "Epoch 138/200\n",
      "41/41 [==============================] - ETA: 0s - loss: 0.0087 - semantic_0_loss: 0.0022 - semantic_1_loss: 0.0054 - semantic_2_loss: 0.0011WARNING:tensorflow:Can save best model only with val_loss available, skipping.\n",
      "41/41 [==============================] - 22s 523ms/step - loss: 0.0087 - semantic_0_loss: 0.0022 - semantic_1_loss: 0.0054 - semantic_2_loss: 0.0011 - lr: 2.5236e-05\n",
      "Epoch 139/200\n",
      "41/41 [==============================] - ETA: 0s - loss: 0.0086 - semantic_0_loss: 0.0022 - semantic_1_loss: 0.0053 - semantic_2_loss: 0.0011WARNING:tensorflow:Can save best model only with val_loss available, skipping.\n",
      "41/41 [==============================] - 22s 543ms/step - loss: 0.0086 - semantic_0_loss: 0.0022 - semantic_1_loss: 0.0053 - semantic_2_loss: 0.0011 - lr: 2.4984e-05\n",
      "Epoch 140/200\n",
      "41/41 [==============================] - ETA: 0s - loss: 0.0090 - semantic_0_loss: 0.0023 - semantic_1_loss: 0.0056 - semantic_2_loss: 0.0011WARNING:tensorflow:Can save best model only with val_loss available, skipping.\n",
      "41/41 [==============================] - 22s 528ms/step - loss: 0.0090 - semantic_0_loss: 0.0023 - semantic_1_loss: 0.0056 - semantic_2_loss: 0.0011 - lr: 2.4734e-05\n",
      "Epoch 141/200\n",
      "41/41 [==============================] - ETA: 0s - loss: 0.0088 - semantic_0_loss: 0.0023 - semantic_1_loss: 0.0055 - semantic_2_loss: 0.0011WARNING:tensorflow:Can save best model only with val_loss available, skipping.\n",
      "41/41 [==============================] - 22s 525ms/step - loss: 0.0088 - semantic_0_loss: 0.0023 - semantic_1_loss: 0.0055 - semantic_2_loss: 0.0011 - lr: 2.4487e-05\n",
      "Epoch 142/200\n",
      "41/41 [==============================] - ETA: 0s - loss: 0.0087 - semantic_0_loss: 0.0022 - semantic_1_loss: 0.0054 - semantic_2_loss: 0.0011WARNING:tensorflow:Can save best model only with val_loss available, skipping.\n",
      "41/41 [==============================] - 22s 526ms/step - loss: 0.0087 - semantic_0_loss: 0.0022 - semantic_1_loss: 0.0054 - semantic_2_loss: 0.0011 - lr: 2.4242e-05\n",
      "Epoch 143/200\n",
      "41/41 [==============================] - ETA: 0s - loss: 0.0087 - semantic_0_loss: 0.0022 - semantic_1_loss: 0.0054 - semantic_2_loss: 0.0011WARNING:tensorflow:Can save best model only with val_loss available, skipping.\n",
      "41/41 [==============================] - 22s 535ms/step - loss: 0.0087 - semantic_0_loss: 0.0022 - semantic_1_loss: 0.0054 - semantic_2_loss: 0.0011 - lr: 2.3999e-05\n",
      "Epoch 144/200\n",
      "41/41 [==============================] - ETA: 0s - loss: 0.0087 - semantic_0_loss: 0.0022 - semantic_1_loss: 0.0053 - semantic_2_loss: 0.0011WARNING:tensorflow:Can save best model only with val_loss available, skipping.\n",
      "41/41 [==============================] - 22s 521ms/step - loss: 0.0087 - semantic_0_loss: 0.0022 - semantic_1_loss: 0.0053 - semantic_2_loss: 0.0011 - lr: 2.3759e-05\n",
      "Epoch 145/200\n",
      "41/41 [==============================] - ETA: 0s - loss: 0.0086 - semantic_0_loss: 0.0022 - semantic_1_loss: 0.0053 - semantic_2_loss: 0.0011WARNING:tensorflow:Can save best model only with val_loss available, skipping.\n",
      "41/41 [==============================] - 22s 524ms/step - loss: 0.0086 - semantic_0_loss: 0.0022 - semantic_1_loss: 0.0053 - semantic_2_loss: 0.0011 - lr: 2.3522e-05\n",
      "Epoch 146/200\n",
      "41/41 [==============================] - ETA: 0s - loss: 0.0086 - semantic_0_loss: 0.0022 - semantic_1_loss: 0.0053 - semantic_2_loss: 0.0011WARNING:tensorflow:Can save best model only with val_loss available, skipping.\n",
      "41/41 [==============================] - 22s 529ms/step - loss: 0.0086 - semantic_0_loss: 0.0022 - semantic_1_loss: 0.0053 - semantic_2_loss: 0.0011 - lr: 2.3286e-05\n",
      "Epoch 147/200\n",
      "41/41 [==============================] - ETA: 0s - loss: 0.0085 - semantic_0_loss: 0.0022 - semantic_1_loss: 0.0052 - semantic_2_loss: 0.0011WARNING:tensorflow:Can save best model only with val_loss available, skipping.\n",
      "41/41 [==============================] - 22s 519ms/step - loss: 0.0085 - semantic_0_loss: 0.0022 - semantic_1_loss: 0.0052 - semantic_2_loss: 0.0011 - lr: 2.3054e-05\n",
      "Epoch 148/200\n",
      "41/41 [==============================] - ETA: 0s - loss: 0.0086 - semantic_0_loss: 0.0022 - semantic_1_loss: 0.0053 - semantic_2_loss: 0.0011WARNING:tensorflow:Can save best model only with val_loss available, skipping.\n",
      "41/41 [==============================] - 22s 527ms/step - loss: 0.0086 - semantic_0_loss: 0.0022 - semantic_1_loss: 0.0053 - semantic_2_loss: 0.0011 - lr: 2.2823e-05\n",
      "Epoch 149/200\n",
      "41/41 [==============================] - ETA: 0s - loss: 0.0086 - semantic_0_loss: 0.0022 - semantic_1_loss: 0.0053 - semantic_2_loss: 0.0011WARNING:tensorflow:Can save best model only with val_loss available, skipping.\n",
      "41/41 [==============================] - 22s 528ms/step - loss: 0.0086 - semantic_0_loss: 0.0022 - semantic_1_loss: 0.0053 - semantic_2_loss: 0.0011 - lr: 2.2595e-05\n",
      "Epoch 150/200\n",
      "41/41 [==============================] - ETA: 0s - loss: 0.0085 - semantic_0_loss: 0.0022 - semantic_1_loss: 0.0053 - semantic_2_loss: 0.0011WARNING:tensorflow:Can save best model only with val_loss available, skipping.\n",
      "41/41 [==============================] - 22s 526ms/step - loss: 0.0085 - semantic_0_loss: 0.0022 - semantic_1_loss: 0.0053 - semantic_2_loss: 0.0011 - lr: 2.2369e-05\n",
      "Epoch 151/200\n",
      "41/41 [==============================] - ETA: 0s - loss: 0.0085 - semantic_0_loss: 0.0022 - semantic_1_loss: 0.0052 - semantic_2_loss: 0.0011WARNING:tensorflow:Can save best model only with val_loss available, skipping.\n",
      "41/41 [==============================] - 22s 523ms/step - loss: 0.0085 - semantic_0_loss: 0.0022 - semantic_1_loss: 0.0052 - semantic_2_loss: 0.0011 - lr: 2.2145e-05\n",
      "Epoch 152/200\n",
      "41/41 [==============================] - ETA: 0s - loss: 0.0086 - semantic_0_loss: 0.0022 - semantic_1_loss: 0.0053 - semantic_2_loss: 0.0011WARNING:tensorflow:Can save best model only with val_loss available, skipping.\n",
      "41/41 [==============================] - 22s 522ms/step - loss: 0.0086 - semantic_0_loss: 0.0022 - semantic_1_loss: 0.0053 - semantic_2_loss: 0.0011 - lr: 2.1924e-05\n",
      "Epoch 153/200\n",
      "41/41 [==============================] - ETA: 0s - loss: 0.0085 - semantic_0_loss: 0.0022 - semantic_1_loss: 0.0053 - semantic_2_loss: 0.0011WARNING:tensorflow:Can save best model only with val_loss available, skipping.\n",
      "41/41 [==============================] - 22s 533ms/step - loss: 0.0085 - semantic_0_loss: 0.0022 - semantic_1_loss: 0.0053 - semantic_2_loss: 0.0011 - lr: 2.1704e-05\n",
      "Epoch 154/200\n",
      "41/41 [==============================] - ETA: 0s - loss: 0.0087 - semantic_0_loss: 0.0022 - semantic_1_loss: 0.0053 - semantic_2_loss: 0.0011WARNING:tensorflow:Can save best model only with val_loss available, skipping.\n",
      "41/41 [==============================] - 22s 526ms/step - loss: 0.0087 - semantic_0_loss: 0.0022 - semantic_1_loss: 0.0053 - semantic_2_loss: 0.0011 - lr: 2.1487e-05\n",
      "Epoch 155/200\n",
      "41/41 [==============================] - ETA: 0s - loss: 0.0087 - semantic_0_loss: 0.0022 - semantic_1_loss: 0.0053 - semantic_2_loss: 0.0011WARNING:tensorflow:Can save best model only with val_loss available, skipping.\n",
      "41/41 [==============================] - 22s 534ms/step - loss: 0.0087 - semantic_0_loss: 0.0022 - semantic_1_loss: 0.0053 - semantic_2_loss: 0.0011 - lr: 2.1273e-05\n",
      "Epoch 156/200\n",
      "41/41 [==============================] - ETA: 0s - loss: 0.0087 - semantic_0_loss: 0.0022 - semantic_1_loss: 0.0054 - semantic_2_loss: 0.0011WARNING:tensorflow:Can save best model only with val_loss available, skipping.\n",
      "41/41 [==============================] - 22s 526ms/step - loss: 0.0087 - semantic_0_loss: 0.0022 - semantic_1_loss: 0.0054 - semantic_2_loss: 0.0011 - lr: 2.1060e-05\n",
      "Epoch 157/200\n",
      "41/41 [==============================] - ETA: 0s - loss: 0.0087 - semantic_0_loss: 0.0023 - semantic_1_loss: 0.0054 - semantic_2_loss: 0.0011WARNING:tensorflow:Can save best model only with val_loss available, skipping.\n",
      "41/41 [==============================] - 22s 526ms/step - loss: 0.0087 - semantic_0_loss: 0.0023 - semantic_1_loss: 0.0054 - semantic_2_loss: 0.0011 - lr: 2.0849e-05\n",
      "Epoch 158/200\n",
      "41/41 [==============================] - ETA: 0s - loss: 0.0087 - semantic_0_loss: 0.0022 - semantic_1_loss: 0.0054 - semantic_2_loss: 0.0011WARNING:tensorflow:Can save best model only with val_loss available, skipping.\n",
      "41/41 [==============================] - 22s 520ms/step - loss: 0.0087 - semantic_0_loss: 0.0022 - semantic_1_loss: 0.0054 - semantic_2_loss: 0.0011 - lr: 2.0641e-05\n",
      "Epoch 159/200\n",
      "41/41 [==============================] - ETA: 0s - loss: 0.0085 - semantic_0_loss: 0.0022 - semantic_1_loss: 0.0052 - semantic_2_loss: 0.0011WARNING:tensorflow:Can save best model only with val_loss available, skipping.\n",
      "41/41 [==============================] - 22s 520ms/step - loss: 0.0085 - semantic_0_loss: 0.0022 - semantic_1_loss: 0.0052 - semantic_2_loss: 0.0011 - lr: 2.0434e-05\n",
      "Epoch 160/200\n",
      "41/41 [==============================] - ETA: 0s - loss: 0.0084 - semantic_0_loss: 0.0022 - semantic_1_loss: 0.0052 - semantic_2_loss: 0.0011WARNING:tensorflow:Can save best model only with val_loss available, skipping.\n",
      "41/41 [==============================] - 22s 521ms/step - loss: 0.0084 - semantic_0_loss: 0.0022 - semantic_1_loss: 0.0052 - semantic_2_loss: 0.0011 - lr: 2.0230e-05\n",
      "Epoch 161/200\n",
      "41/41 [==============================] - ETA: 0s - loss: 0.0085 - semantic_0_loss: 0.0022 - semantic_1_loss: 0.0052 - semantic_2_loss: 0.0011WARNING:tensorflow:Can save best model only with val_loss available, skipping.\n",
      "41/41 [==============================] - 22s 523ms/step - loss: 0.0085 - semantic_0_loss: 0.0022 - semantic_1_loss: 0.0052 - semantic_2_loss: 0.0011 - lr: 2.0028e-05\n",
      "Epoch 162/200\n",
      "41/41 [==============================] - ETA: 0s - loss: 0.0087 - semantic_0_loss: 0.0023 - semantic_1_loss: 0.0054 - semantic_2_loss: 0.0011WARNING:tensorflow:Can save best model only with val_loss available, skipping.\n",
      "41/41 [==============================] - 22s 523ms/step - loss: 0.0087 - semantic_0_loss: 0.0023 - semantic_1_loss: 0.0054 - semantic_2_loss: 0.0011 - lr: 1.9827e-05\n",
      "Epoch 163/200\n",
      "41/41 [==============================] - ETA: 0s - loss: 0.0085 - semantic_0_loss: 0.0022 - semantic_1_loss: 0.0052 - semantic_2_loss: 0.0011WARNING:tensorflow:Can save best model only with val_loss available, skipping.\n",
      "41/41 [==============================] - 22s 523ms/step - loss: 0.0085 - semantic_0_loss: 0.0022 - semantic_1_loss: 0.0052 - semantic_2_loss: 0.0011 - lr: 1.9629e-05\n",
      "Epoch 164/200\n",
      "41/41 [==============================] - ETA: 0s - loss: 0.0084 - semantic_0_loss: 0.0022 - semantic_1_loss: 0.0052 - semantic_2_loss: 0.0011WARNING:tensorflow:Can save best model only with val_loss available, skipping.\n",
      "41/41 [==============================] - 22s 537ms/step - loss: 0.0084 - semantic_0_loss: 0.0022 - semantic_1_loss: 0.0052 - semantic_2_loss: 0.0011 - lr: 1.9433e-05\n",
      "Epoch 165/200\n",
      "41/41 [==============================] - ETA: 0s - loss: 0.0086 - semantic_0_loss: 0.0022 - semantic_1_loss: 0.0053 - semantic_2_loss: 0.0011WARNING:tensorflow:Can save best model only with val_loss available, skipping.\n",
      "41/41 [==============================] - 22s 529ms/step - loss: 0.0086 - semantic_0_loss: 0.0022 - semantic_1_loss: 0.0053 - semantic_2_loss: 0.0011 - lr: 1.9239e-05\n",
      "Epoch 166/200\n",
      "41/41 [==============================] - ETA: 0s - loss: 0.0084 - semantic_0_loss: 0.0022 - semantic_1_loss: 0.0052 - semantic_2_loss: 0.0011WARNING:tensorflow:Can save best model only with val_loss available, skipping.\n",
      "41/41 [==============================] - 22s 525ms/step - loss: 0.0084 - semantic_0_loss: 0.0022 - semantic_1_loss: 0.0052 - semantic_2_loss: 0.0011 - lr: 1.9046e-05\n",
      "Epoch 167/200\n",
      "41/41 [==============================] - ETA: 0s - loss: 0.0085 - semantic_0_loss: 0.0022 - semantic_1_loss: 0.0053 - semantic_2_loss: 0.0011WARNING:tensorflow:Can save best model only with val_loss available, skipping.\n",
      "41/41 [==============================] - 22s 518ms/step - loss: 0.0085 - semantic_0_loss: 0.0022 - semantic_1_loss: 0.0053 - semantic_2_loss: 0.0011 - lr: 1.8856e-05\n",
      "Epoch 168/200\n",
      "41/41 [==============================] - ETA: 0s - loss: 0.0085 - semantic_0_loss: 0.0022 - semantic_1_loss: 0.0053 - semantic_2_loss: 0.0011WARNING:tensorflow:Can save best model only with val_loss available, skipping.\n",
      "41/41 [==============================] - 22s 532ms/step - loss: 0.0085 - semantic_0_loss: 0.0022 - semantic_1_loss: 0.0053 - semantic_2_loss: 0.0011 - lr: 1.8667e-05\n",
      "Epoch 169/200\n",
      "41/41 [==============================] - ETA: 0s - loss: 0.0083 - semantic_0_loss: 0.0021 - semantic_1_loss: 0.0051 - semantic_2_loss: 0.0010WARNING:tensorflow:Can save best model only with val_loss available, skipping.\n",
      "41/41 [==============================] - 21s 517ms/step - loss: 0.0083 - semantic_0_loss: 0.0021 - semantic_1_loss: 0.0051 - semantic_2_loss: 0.0010 - lr: 1.8480e-05\n",
      "Epoch 170/200\n",
      "41/41 [==============================] - ETA: 0s - loss: 0.0084 - semantic_0_loss: 0.0022 - semantic_1_loss: 0.0051 - semantic_2_loss: 0.0011WARNING:tensorflow:Can save best model only with val_loss available, skipping.\n",
      "41/41 [==============================] - 22s 524ms/step - loss: 0.0084 - semantic_0_loss: 0.0022 - semantic_1_loss: 0.0051 - semantic_2_loss: 0.0011 - lr: 1.8296e-05\n",
      "Epoch 171/200\n",
      "41/41 [==============================] - ETA: 0s - loss: 0.0085 - semantic_0_loss: 0.0022 - semantic_1_loss: 0.0052 - semantic_2_loss: 0.0011WARNING:tensorflow:Can save best model only with val_loss available, skipping.\n",
      "41/41 [==============================] - 22s 527ms/step - loss: 0.0085 - semantic_0_loss: 0.0022 - semantic_1_loss: 0.0052 - semantic_2_loss: 0.0011 - lr: 1.8113e-05\n",
      "Epoch 172/200\n",
      "41/41 [==============================] - ETA: 0s - loss: 0.0084 - semantic_0_loss: 0.0022 - semantic_1_loss: 0.0052 - semantic_2_loss: 0.0011WARNING:tensorflow:Can save best model only with val_loss available, skipping.\n",
      "41/41 [==============================] - 22s 520ms/step - loss: 0.0084 - semantic_0_loss: 0.0022 - semantic_1_loss: 0.0052 - semantic_2_loss: 0.0011 - lr: 1.7932e-05\n",
      "Epoch 173/200\n",
      "41/41 [==============================] - ETA: 0s - loss: 0.0083 - semantic_0_loss: 0.0022 - semantic_1_loss: 0.0051 - semantic_2_loss: 0.0010WARNING:tensorflow:Can save best model only with val_loss available, skipping.\n",
      "41/41 [==============================] - 22s 521ms/step - loss: 0.0083 - semantic_0_loss: 0.0022 - semantic_1_loss: 0.0051 - semantic_2_loss: 0.0010 - lr: 1.7752e-05\n",
      "Epoch 174/200\n",
      "41/41 [==============================] - ETA: 0s - loss: 0.0084 - semantic_0_loss: 0.0022 - semantic_1_loss: 0.0052 - semantic_2_loss: 0.0010WARNING:tensorflow:Can save best model only with val_loss available, skipping.\n",
      "41/41 [==============================] - 22s 537ms/step - loss: 0.0084 - semantic_0_loss: 0.0022 - semantic_1_loss: 0.0052 - semantic_2_loss: 0.0010 - lr: 1.7575e-05\n",
      "Epoch 175/200\n",
      "41/41 [==============================] - ETA: 0s - loss: 0.0084 - semantic_0_loss: 0.0022 - semantic_1_loss: 0.0051 - semantic_2_loss: 0.0011WARNING:tensorflow:Can save best model only with val_loss available, skipping.\n",
      "41/41 [==============================] - 22s 521ms/step - loss: 0.0084 - semantic_0_loss: 0.0022 - semantic_1_loss: 0.0051 - semantic_2_loss: 0.0011 - lr: 1.7399e-05\n",
      "Epoch 176/200\n",
      "41/41 [==============================] - ETA: 0s - loss: 0.0083 - semantic_0_loss: 0.0022 - semantic_1_loss: 0.0051 - semantic_2_loss: 0.0010WARNING:tensorflow:Can save best model only with val_loss available, skipping.\n",
      "41/41 [==============================] - 22s 529ms/step - loss: 0.0083 - semantic_0_loss: 0.0022 - semantic_1_loss: 0.0051 - semantic_2_loss: 0.0010 - lr: 1.7225e-05\n",
      "Epoch 177/200\n",
      "41/41 [==============================] - ETA: 0s - loss: 0.0085 - semantic_0_loss: 0.0022 - semantic_1_loss: 0.0052 - semantic_2_loss: 0.0011WARNING:tensorflow:Can save best model only with val_loss available, skipping.\n",
      "41/41 [==============================] - 22s 526ms/step - loss: 0.0085 - semantic_0_loss: 0.0022 - semantic_1_loss: 0.0052 - semantic_2_loss: 0.0011 - lr: 1.7053e-05\n",
      "Epoch 178/200\n",
      "41/41 [==============================] - ETA: 0s - loss: 0.0085 - semantic_0_loss: 0.0022 - semantic_1_loss: 0.0052 - semantic_2_loss: 0.0011WARNING:tensorflow:Can save best model only with val_loss available, skipping.\n",
      "41/41 [==============================] - 22s 526ms/step - loss: 0.0085 - semantic_0_loss: 0.0022 - semantic_1_loss: 0.0052 - semantic_2_loss: 0.0011 - lr: 1.6882e-05\n",
      "Epoch 179/200\n",
      "41/41 [==============================] - ETA: 0s - loss: 0.0084 - semantic_0_loss: 0.0022 - semantic_1_loss: 0.0051 - semantic_2_loss: 0.0011WARNING:tensorflow:Can save best model only with val_loss available, skipping.\n",
      "41/41 [==============================] - 22s 522ms/step - loss: 0.0084 - semantic_0_loss: 0.0022 - semantic_1_loss: 0.0051 - semantic_2_loss: 0.0011 - lr: 1.6713e-05\n",
      "Epoch 180/200\n",
      "41/41 [==============================] - ETA: 0s - loss: 0.0083 - semantic_0_loss: 0.0022 - semantic_1_loss: 0.0051 - semantic_2_loss: 0.0010WARNING:tensorflow:Can save best model only with val_loss available, skipping.\n",
      "41/41 [==============================] - 22s 521ms/step - loss: 0.0083 - semantic_0_loss: 0.0022 - semantic_1_loss: 0.0051 - semantic_2_loss: 0.0010 - lr: 1.6546e-05\n",
      "Epoch 181/200\n",
      "41/41 [==============================] - ETA: 0s - loss: 0.0084 - semantic_0_loss: 0.0022 - semantic_1_loss: 0.0051 - semantic_2_loss: 0.0010WARNING:tensorflow:Can save best model only with val_loss available, skipping.\n",
      "41/41 [==============================] - 22s 543ms/step - loss: 0.0084 - semantic_0_loss: 0.0022 - semantic_1_loss: 0.0051 - semantic_2_loss: 0.0010 - lr: 1.6381e-05\n",
      "Epoch 182/200\n",
      "41/41 [==============================] - ETA: 0s - loss: 0.0083 - semantic_0_loss: 0.0022 - semantic_1_loss: 0.0051 - semantic_2_loss: 0.0010WARNING:tensorflow:Can save best model only with val_loss available, skipping.\n",
      "41/41 [==============================] - 22s 536ms/step - loss: 0.0083 - semantic_0_loss: 0.0022 - semantic_1_loss: 0.0051 - semantic_2_loss: 0.0010 - lr: 1.6217e-05\n",
      "Epoch 183/200\n",
      "41/41 [==============================] - ETA: 0s - loss: 0.0082 - semantic_0_loss: 0.0021 - semantic_1_loss: 0.0051 - semantic_2_loss: 0.0010WARNING:tensorflow:Can save best model only with val_loss available, skipping.\n",
      "41/41 [==============================] - 22s 527ms/step - loss: 0.0082 - semantic_0_loss: 0.0021 - semantic_1_loss: 0.0051 - semantic_2_loss: 0.0010 - lr: 1.6055e-05\n",
      "Epoch 184/200\n",
      "41/41 [==============================] - ETA: 0s - loss: 0.0086 - semantic_0_loss: 0.0022 - semantic_1_loss: 0.0053 - semantic_2_loss: 0.0011WARNING:tensorflow:Can save best model only with val_loss available, skipping.\n",
      "41/41 [==============================] - 22s 527ms/step - loss: 0.0086 - semantic_0_loss: 0.0022 - semantic_1_loss: 0.0053 - semantic_2_loss: 0.0011 - lr: 1.5894e-05\n",
      "Epoch 185/200\n",
      "41/41 [==============================] - ETA: 0s - loss: 0.0085 - semantic_0_loss: 0.0022 - semantic_1_loss: 0.0052 - semantic_2_loss: 0.0011WARNING:tensorflow:Can save best model only with val_loss available, skipping.\n",
      "41/41 [==============================] - 22s 522ms/step - loss: 0.0085 - semantic_0_loss: 0.0022 - semantic_1_loss: 0.0052 - semantic_2_loss: 0.0011 - lr: 1.5735e-05\n",
      "Epoch 186/200\n",
      "41/41 [==============================] - ETA: 0s - loss: 0.0083 - semantic_0_loss: 0.0022 - semantic_1_loss: 0.0051 - semantic_2_loss: 0.0010WARNING:tensorflow:Can save best model only with val_loss available, skipping.\n",
      "41/41 [==============================] - 22s 525ms/step - loss: 0.0083 - semantic_0_loss: 0.0022 - semantic_1_loss: 0.0051 - semantic_2_loss: 0.0010 - lr: 1.5578e-05\n",
      "Epoch 187/200\n",
      "41/41 [==============================] - ETA: 0s - loss: 0.0082 - semantic_0_loss: 0.0021 - semantic_1_loss: 0.0051 - semantic_2_loss: 0.0010WARNING:tensorflow:Can save best model only with val_loss available, skipping.\n",
      "41/41 [==============================] - 22s 526ms/step - loss: 0.0082 - semantic_0_loss: 0.0021 - semantic_1_loss: 0.0051 - semantic_2_loss: 0.0010 - lr: 1.5422e-05\n",
      "Epoch 188/200\n",
      "41/41 [==============================] - ETA: 0s - loss: 0.0084 - semantic_0_loss: 0.0022 - semantic_1_loss: 0.0052 - semantic_2_loss: 0.0010WARNING:tensorflow:Can save best model only with val_loss available, skipping.\n",
      "41/41 [==============================] - 22s 531ms/step - loss: 0.0084 - semantic_0_loss: 0.0022 - semantic_1_loss: 0.0052 - semantic_2_loss: 0.0010 - lr: 1.5268e-05\n",
      "Epoch 189/200\n",
      "41/41 [==============================] - ETA: 0s - loss: 0.0082 - semantic_0_loss: 0.0021 - semantic_1_loss: 0.0050 - semantic_2_loss: 0.0010WARNING:tensorflow:Can save best model only with val_loss available, skipping.\n",
      "41/41 [==============================] - 22s 523ms/step - loss: 0.0082 - semantic_0_loss: 0.0021 - semantic_1_loss: 0.0050 - semantic_2_loss: 0.0010 - lr: 1.5115e-05\n",
      "Epoch 190/200\n",
      "41/41 [==============================] - ETA: 0s - loss: 0.0085 - semantic_0_loss: 0.0022 - semantic_1_loss: 0.0052 - semantic_2_loss: 0.0011WARNING:tensorflow:Can save best model only with val_loss available, skipping.\n",
      "41/41 [==============================] - 22s 529ms/step - loss: 0.0085 - semantic_0_loss: 0.0022 - semantic_1_loss: 0.0052 - semantic_2_loss: 0.0011 - lr: 1.4964e-05\n",
      "Epoch 191/200\n",
      "41/41 [==============================] - ETA: 0s - loss: 0.0083 - semantic_0_loss: 0.0022 - semantic_1_loss: 0.0051 - semantic_2_loss: 0.0010WARNING:tensorflow:Can save best model only with val_loss available, skipping.\n",
      "41/41 [==============================] - 22s 535ms/step - loss: 0.0083 - semantic_0_loss: 0.0022 - semantic_1_loss: 0.0051 - semantic_2_loss: 0.0010 - lr: 1.4814e-05\n",
      "Epoch 192/200\n",
      "41/41 [==============================] - ETA: 0s - loss: 0.0083 - semantic_0_loss: 0.0022 - semantic_1_loss: 0.0051 - semantic_2_loss: 0.0010WARNING:tensorflow:Can save best model only with val_loss available, skipping.\n",
      "41/41 [==============================] - 22s 525ms/step - loss: 0.0083 - semantic_0_loss: 0.0022 - semantic_1_loss: 0.0051 - semantic_2_loss: 0.0010 - lr: 1.4666e-05\n",
      "Epoch 193/200\n",
      "41/41 [==============================] - ETA: 0s - loss: 0.0083 - semantic_0_loss: 0.0022 - semantic_1_loss: 0.0051 - semantic_2_loss: 0.0010WARNING:tensorflow:Can save best model only with val_loss available, skipping.\n",
      "41/41 [==============================] - 22s 526ms/step - loss: 0.0083 - semantic_0_loss: 0.0022 - semantic_1_loss: 0.0051 - semantic_2_loss: 0.0010 - lr: 1.4520e-05\n",
      "Epoch 194/200\n",
      "41/41 [==============================] - ETA: 0s - loss: 0.0082 - semantic_0_loss: 0.0021 - semantic_1_loss: 0.0050 - semantic_2_loss: 0.0010WARNING:tensorflow:Can save best model only with val_loss available, skipping.\n",
      "41/41 [==============================] - 22s 537ms/step - loss: 0.0082 - semantic_0_loss: 0.0021 - semantic_1_loss: 0.0050 - semantic_2_loss: 0.0010 - lr: 1.4374e-05\n",
      "Epoch 195/200\n",
      "41/41 [==============================] - ETA: 0s - loss: 0.0081 - semantic_0_loss: 0.0021 - semantic_1_loss: 0.0050 - semantic_2_loss: 0.0010WARNING:tensorflow:Can save best model only with val_loss available, skipping.\n",
      "41/41 [==============================] - 22s 530ms/step - loss: 0.0081 - semantic_0_loss: 0.0021 - semantic_1_loss: 0.0050 - semantic_2_loss: 0.0010 - lr: 1.4231e-05\n",
      "Epoch 196/200\n",
      "41/41 [==============================] - ETA: 0s - loss: 0.0083 - semantic_0_loss: 0.0021 - semantic_1_loss: 0.0051 - semantic_2_loss: 0.0010WARNING:tensorflow:Can save best model only with val_loss available, skipping.\n",
      "41/41 [==============================] - 22s 539ms/step - loss: 0.0083 - semantic_0_loss: 0.0021 - semantic_1_loss: 0.0051 - semantic_2_loss: 0.0010 - lr: 1.4088e-05\n",
      "Epoch 197/200\n",
      "41/41 [==============================] - ETA: 0s - loss: 0.0084 - semantic_0_loss: 0.0022 - semantic_1_loss: 0.0052 - semantic_2_loss: 0.0011WARNING:tensorflow:Can save best model only with val_loss available, skipping.\n",
      "41/41 [==============================] - 22s 534ms/step - loss: 0.0084 - semantic_0_loss: 0.0022 - semantic_1_loss: 0.0052 - semantic_2_loss: 0.0011 - lr: 1.3948e-05\n",
      "Epoch 198/200\n",
      "41/41 [==============================] - ETA: 0s - loss: 0.0082 - semantic_0_loss: 0.0021 - semantic_1_loss: 0.0050 - semantic_2_loss: 0.0010WARNING:tensorflow:Can save best model only with val_loss available, skipping.\n",
      "41/41 [==============================] - 22s 528ms/step - loss: 0.0082 - semantic_0_loss: 0.0021 - semantic_1_loss: 0.0050 - semantic_2_loss: 0.0010 - lr: 1.3808e-05\n",
      "Epoch 199/200\n",
      "41/41 [==============================] - ETA: 0s - loss: 0.0082 - semantic_0_loss: 0.0021 - semantic_1_loss: 0.0051 - semantic_2_loss: 0.0010WARNING:tensorflow:Can save best model only with val_loss available, skipping.\n",
      "41/41 [==============================] - 22s 525ms/step - loss: 0.0082 - semantic_0_loss: 0.0021 - semantic_1_loss: 0.0051 - semantic_2_loss: 0.0010 - lr: 1.3670e-05\n",
      "Epoch 200/200\n",
      "41/41 [==============================] - ETA: 0s - loss: 0.0082 - semantic_0_loss: 0.0021 - semantic_1_loss: 0.0051 - semantic_2_loss: 0.0010WARNING:tensorflow:Can save best model only with val_loss available, skipping.\n",
      "41/41 [==============================] - 22s 524ms/step - loss: 0.0082 - semantic_0_loss: 0.0021 - semantic_1_loss: 0.0051 - semantic_2_loss: 0.0010 - lr: 1.3533e-05\n"
     ]
    }
   ],
   "source": [
    "# fit the model\n",
    "print('Training on', count_gpus(), 'GPUs.')\n",
    "\n",
    "train_callbacks = get_callbacks(\n",
    "    model_path,\n",
    "    lr_sched=lr_sched,\n",
    "#     monitor=\"val_loss\",\n",
    "    # monitor='loss', # training loss\n",
    "    verbose=1)          \n",
    "            \n",
    "loss_history = model.fit(\n",
    "    train_data,\n",
    "    steps_per_epoch=train_data.y.shape[0] // batch_size, # \n",
    "    epochs=epochs, \n",
    "#     validation_data=val_data,\n",
    "#     validation_steps=val_data.y.shape[0] // batch_size,\n",
    "    callbacks=train_callbacks)\n",
    "\n",
    "model.save_weights(model_path)"
   ]
  },
  {
   "cell_type": "markdown",
   "id": "42277d43",
   "metadata": {},
   "source": [
    "**Make prediction on K's data.**<br>\n",
    "Using NuclearSegmentation allows setting image_mpp, which has a substantial influence on performance."
   ]
  },
  {
   "cell_type": "code",
   "execution_count": 12,
   "id": "dbf36df1",
   "metadata": {
    "execution": {
     "iopub.execute_input": "2022-11-05T22:30:36.335826Z",
     "iopub.status.busy": "2022-11-05T22:30:36.333032Z",
     "iopub.status.idle": "2022-11-05T22:30:43.215436Z",
     "shell.execute_reply": "2022-11-05T22:30:43.216368Z"
    }
   },
   "outputs": [],
   "source": [
    "prediction_model = PanopticNet(\n",
    "    backbone='resnet50',\n",
    "    norm_method='whole_image',\n",
    "    num_semantic_classes=[1, 1], # inner distance, outer distance\n",
    "    input_shape= (512,512,1)\n",
    ")\n",
    "\n",
    "prediction_model.load_weights(model_path, by_name=True)"
   ]
  },
  {
   "cell_type": "code",
   "execution_count": 13,
   "id": "37a766dc",
   "metadata": {
    "execution": {
     "iopub.execute_input": "2022-11-05T22:30:43.225568Z",
     "iopub.status.busy": "2022-11-05T22:30:43.224427Z",
     "iopub.status.idle": "2022-11-05T22:30:43.228494Z",
     "shell.execute_reply": "2022-11-05T22:30:43.229454Z"
    }
   },
   "outputs": [
    {
     "data": {
      "text/plain": [
       "[('semantic_0', (None, 512, 512, 1)), ('semantic_1', (None, 512, 512, 1))]"
      ]
     },
     "execution_count": 13,
     "metadata": {},
     "output_type": "execute_result"
    }
   ],
   "source": [
    "from deepcell.applications import NuclearSegmentation\n",
    "app = NuclearSegmentation(prediction_model)\n",
    "[(layer.name, layer.output_shape) for layer in filter(lambda x: x.name.startswith('semantic_'), app.model.layers)]"
   ]
  },
  {
   "cell_type": "code",
   "execution_count": 14,
   "id": "20301e2d",
   "metadata": {
    "execution": {
     "iopub.execute_input": "2022-11-05T22:30:43.234158Z",
     "iopub.status.busy": "2022-11-05T22:30:43.233519Z",
     "iopub.status.idle": "2022-11-05T22:30:43.244524Z",
     "shell.execute_reply": "2022-11-05T22:30:43.245224Z"
    }
   },
   "outputs": [
    {
     "name": "stdout",
     "output_type": "stream",
     "text": [
      "/home/yfong/deeplearning/dense_cell_segmentation\n",
      "['M926910_CFL_Position7_CD3_test_img.png', 'M872956_JML_Position10_CD3_test_img.png', 'M872956_JML_Position8_CD8_test_img.png', 'M926910_CFL_Position13_CD3_test_img.png', 'M872956_JML_Position8_CD3_test_img.png', 'M872956_JML_Position8_CD4_test_img.png', 'M872956_JML_Position9_CD3_test_img.png']\n"
     ]
    }
   ],
   "source": [
    "import os\n",
    "print(os.getcwd())\n",
    "INPUT_PATH=\"images/test/\"\n",
    "FILENAMES = [f for f in os.listdir(\"images/training/testimages\")]\n",
    "print(FILENAMES)"
   ]
  },
  {
   "cell_type": "code",
   "execution_count": 15,
   "id": "a2eaeaa5",
   "metadata": {
    "execution": {
     "iopub.execute_input": "2022-11-05T22:30:43.258476Z",
     "iopub.status.busy": "2022-11-05T22:30:43.257478Z",
     "iopub.status.idle": "2022-11-05T22:35:07.437080Z",
     "shell.execute_reply": "2022-11-05T22:35:07.438001Z"
    }
   },
   "outputs": [
    {
     "name": "stdout",
     "output_type": "stream",
     "text": [
      "M926910_CFL_Position7_CD3_test_img.png\n"
     ]
    },
    {
     "name": "stderr",
     "output_type": "stream",
     "text": [
      "/app/software/DeepCell/0.11.1-foss-2021b-CUDA-11.4.1/lib/python3.9/site-packages/deepcell_toolbox/deep_watershed.py:179: FutureWarning: `selem` is a deprecated argument name for `h_maxima`. It will be removed in version 1.0.Please use `footprint` instead.\n",
      "  markers = h_maxima(image=maxima,\n"
     ]
    },
    {
     "name": "stdout",
     "output_type": "stream",
     "text": [
      "M872956_JML_Position10_CD3_test_img.png\n",
      "M872956_JML_Position8_CD8_test_img.png\n",
      "M926910_CFL_Position13_CD3_test_img.png\n",
      "M872956_JML_Position8_CD3_test_img.png\n",
      "M872956_JML_Position8_CD4_test_img.png\n",
      "M872956_JML_Position9_CD3_test_img.png\n",
      "[[0.41237113402061853, 0.4224683544303797, 0.42410714285714285, 0.42411347517730497, 0.4038961038961039, 0.3621495327102804], [0.3973634651600753, 0.44206773618538325, 0.47332185886402756, 0.47317073170731705, 0.4245562130177515, 0.3684210526315789], [0.42857142857142855, 0.47641509433962265, 0.4772727272727273, 0.4297520661157025, 0.40625, 0.3411371237458194], [0.30666666666666664, 0.3556701030927835, 0.36342592592592593, 0.3554083885209713, 0.33739837398373984, 0.3171171171171171], [0.49245283018867925, 0.5505415162454874, 0.578397212543554, 0.533442088091354, 0.5076687116564417, 0.43626062322946174], [0.6207865168539326, 0.6015625, 0.5907990314769975, 0.5244444444444445, 0.47520661157024796, 0.4329501915708812], [0.3747276688453159, 0.4288747346072187, 0.42231075697211157, 0.45857418111753373, 0.41563055062166965, 0.3890728476821192]]\n",
      "[1.  1.2 1.4 1.6 1.8 2. ]\n"
     ]
    },
    {
     "data": {
      "text/plain": [
       "[3, 2, 2, 2, 2, 0, 3]"
      ]
     },
     "execution_count": 15,
     "metadata": {},
     "output_type": "execute_result"
    }
   ],
   "source": [
    "# more detailed mapping of image_mpp parameter\n",
    "mpps=np.linspace(start=1, stop=2, num=6)\n",
    "\n",
    "AP_mat=[]\n",
    "for CURR_IM_NAME in FILENAMES:\n",
    "    print(CURR_IM_NAME)\n",
    "    im0 = io.imread(os.path.join(INPUT_PATH, CURR_IM_NAME))\n",
    "    mask_true=io.imread(os.path.join(INPUT_PATH, CURR_IM_NAME.replace(\"img\",\"masks\")))\n",
    "\n",
    "    x = np.expand_dims(im0, axis=-1)\n",
    "    x = np.expand_dims(x, axis=0)\n",
    "    y, tile_info = app._tile_input(x)\n",
    "    AP_arr=[]\n",
    "    for mpp in mpps:\n",
    "        prd = app._untile_output(app.predict(y, image_mpp=mpp), tile_info)[0,:,:,0]\n",
    "        a=syotil.csi(mask_true, prd)\n",
    "        AP_arr.append(a)\n",
    "    AP_mat.append(AP_arr)\n",
    "print(AP_mat)\n",
    "print(mpps)\n",
    "[x.index(np.max(x)) for x in AP_mat]"
   ]
  },
  {
   "cell_type": "code",
   "execution_count": 16,
   "id": "5a5a611e",
   "metadata": {
    "execution": {
     "iopub.execute_input": "2022-11-05T22:35:07.447441Z",
     "iopub.status.busy": "2022-11-05T22:35:07.446296Z",
     "iopub.status.idle": "2022-11-05T22:35:23.050102Z",
     "shell.execute_reply": "2022-11-05T22:35:23.051028Z"
    }
   },
   "outputs": [
    {
     "name": "stdout",
     "output_type": "stream",
     "text": [
      "(1, 1040, 233, 1)\n",
      "(1, 1568, 512, 1)\n",
      "{'padding': True, 'x_pad': (264, 264), 'y_pad': (139, 140)}\n",
      "(1, 1040, 233, 1)\n",
      "(1, 1568, 512, 1)\n",
      "{'padding': True, 'x_pad': (264, 264), 'y_pad': (139, 140)}\n",
      "(1, 1040, 233, 1)\n",
      "(1, 1568, 512, 1)\n",
      "{'padding': True, 'x_pad': (264, 264), 'y_pad': (139, 140)}\n",
      "(1, 1040, 233, 1)\n",
      "(1, 1568, 512, 1)\n",
      "{'padding': True, 'x_pad': (264, 264), 'y_pad': (139, 140)}\n",
      "(1, 1040, 233, 1)\n",
      "(1, 1568, 512, 1)\n",
      "{'padding': True, 'x_pad': (264, 264), 'y_pad': (139, 140)}\n",
      "(1, 1040, 233, 1)\n",
      "(1, 1568, 512, 1)\n",
      "{'padding': True, 'x_pad': (264, 264), 'y_pad': (139, 140)}\n",
      "(1, 1040, 233, 1)\n",
      "(1, 1568, 512, 1)\n",
      "{'padding': True, 'x_pad': (264, 264), 'y_pad': (139, 140)}\n",
      "{'M926910_CFL_Position7_CD3_test_img.png': 0.41237113402061853, 'M872956_JML_Position10_CD3_test_img.png': 0.3973634651600753, 'M872956_JML_Position8_CD8_test_img.png': 0.42857142857142855, 'M926910_CFL_Position13_CD3_test_img.png': 0.30666666666666664, 'M872956_JML_Position8_CD3_test_img.png': 0.49245283018867925, 'M872956_JML_Position8_CD4_test_img.png': 0.6207865168539326, 'M872956_JML_Position9_CD3_test_img.png': 0.3747276688453159, 'mAP': 0.4332771014723882}\n"
     ]
    }
   ],
   "source": [
    "mpp_select=1.0\n",
    "\n",
    "APs={}\n",
    "for CURR_IM_NAME in FILENAMES:\n",
    "    im0 = io.imread(os.path.join(INPUT_PATH, CURR_IM_NAME))\n",
    "    mask_true=io.imread(os.path.join(INPUT_PATH, CURR_IM_NAME.replace(\"img\",\"masks\")))\n",
    "\n",
    "    x = np.expand_dims(im0, axis=-1)\n",
    "    x = np.expand_dims(x, axis=0)\n",
    "    y, tile_info = app._tile_input(x)\n",
    "    print(x.shape)\n",
    "    print(y.shape)\n",
    "    print(tile_info)\n",
    "    pred = app.predict(y, image_mpp=mpp_select)\n",
    "    prd = app._untile_output(pred, tile_info)\n",
    "    #io.imshow(prd[0,:,:,0])\n",
    "    plt.show()\n",
    "    \n",
    "    APs[CURR_IM_NAME] = syotil.csi(mask_true, prd[0,:,:,0])# masks may lose one pixel if dimension is odd pixels\n",
    "\n",
    "APs[\"mAP\"]=np.mean(list(APs.values()))\n",
    "print(APs)"
   ]
  },
  {
   "cell_type": "code",
   "execution_count": 17,
   "id": "f31fa740",
   "metadata": {
    "execution": {
     "iopub.execute_input": "2022-11-05T22:35:23.059399Z",
     "iopub.status.busy": "2022-11-05T22:35:23.058288Z",
     "iopub.status.idle": "2022-11-05T22:35:52.485498Z",
     "shell.execute_reply": "2022-11-05T22:35:52.486422Z"
    }
   },
   "outputs": [
    {
     "name": "stdout",
     "output_type": "stream",
     "text": [
      "(1, 1040, 233, 1)\n",
      "(1, 1568, 512, 1)\n",
      "{'padding': True, 'x_pad': (264, 264), 'y_pad': (139, 140)}\n",
      "(1, 1040, 233, 1)\n",
      "(1, 1568, 512, 1)\n",
      "{'padding': True, 'x_pad': (264, 264), 'y_pad': (139, 140)}\n",
      "(1, 1040, 233, 1)\n",
      "(1, 1568, 512, 1)\n",
      "{'padding': True, 'x_pad': (264, 264), 'y_pad': (139, 140)}\n",
      "(1, 1040, 233, 1)\n",
      "(1, 1568, 512, 1)\n",
      "{'padding': True, 'x_pad': (264, 264), 'y_pad': (139, 140)}\n",
      "(1, 1040, 233, 1)\n",
      "(1, 1568, 512, 1)\n",
      "{'padding': True, 'x_pad': (264, 264), 'y_pad': (139, 140)}\n",
      "(1, 1040, 233, 1)\n",
      "(1, 1568, 512, 1)\n",
      "{'padding': True, 'x_pad': (264, 264), 'y_pad': (139, 140)}\n",
      "(1, 1040, 233, 1)\n",
      "(1, 1568, 512, 1)\n",
      "{'padding': True, 'x_pad': (264, 264), 'y_pad': (139, 140)}\n",
      "{'M926910_CFL_Position7_CD3_test_img.png': 0.42725880551301687, 'M872956_JML_Position10_CD3_test_img.png': 0.4614035087719298, 'M872956_JML_Position8_CD8_test_img.png': 0.5124378109452736, 'M926910_CFL_Position13_CD3_test_img.png': 0.3349282296650718, 'M872956_JML_Position8_CD3_test_img.png': 0.5732368896925859, 'M872956_JML_Position8_CD4_test_img.png': 0.6192893401015228, 'M872956_JML_Position9_CD3_test_img.png': 0.4495798319327731, 'mAP': 0.48259063094602483}\n"
     ]
    }
   ],
   "source": [
    "mpp_select=1.3\n",
    "\n",
    "APs={}\n",
    "for CURR_IM_NAME in FILENAMES:\n",
    "    im0 = io.imread(os.path.join(INPUT_PATH, CURR_IM_NAME))\n",
    "    mask_true=io.imread(os.path.join(INPUT_PATH, CURR_IM_NAME.replace(\"img\",\"masks\")))\n",
    "\n",
    "    x = np.expand_dims(im0, axis=-1)\n",
    "    x = np.expand_dims(x, axis=0)\n",
    "    y, tile_info = app._tile_input(x)\n",
    "    print(x.shape)\n",
    "    print(y.shape)\n",
    "    print(tile_info)\n",
    "    pred = app.predict(y, image_mpp=mpp_select)\n",
    "    prd = app._untile_output(pred, tile_info)\n",
    "    #io.imshow(prd[0,:,:,0])\n",
    "    plt.show()\n",
    "    \n",
    "    APs[CURR_IM_NAME] = syotil.csi(mask_true, prd[0,:,:,0])# masks may lose one pixel if dimension is odd pixels\n",
    "\n",
    "APs[\"mAP\"]=np.mean(list(APs.values()))\n",
    "print(APs)"
   ]
  },
  {
   "cell_type": "code",
   "execution_count": 18,
   "id": "7bc06419",
   "metadata": {
    "execution": {
     "iopub.execute_input": "2022-11-05T22:35:52.495325Z",
     "iopub.status.busy": "2022-11-05T22:35:52.494226Z",
     "iopub.status.idle": "2022-11-05T22:35:52.531968Z",
     "shell.execute_reply": "2022-11-05T22:35:52.531199Z"
    }
   },
   "outputs": [
    {
     "name": "stdout",
     "output_type": "stream",
     "text": [
      "                                         0         1\n",
      "0   M926910_CFL_Position7_CD3_test_img.png  0.427259\n",
      "1  M872956_JML_Position10_CD3_test_img.png  0.461404\n",
      "2   M872956_JML_Position8_CD8_test_img.png  0.512438\n",
      "3  M926910_CFL_Position13_CD3_test_img.png  0.334928\n",
      "4   M872956_JML_Position8_CD3_test_img.png  0.573237\n",
      "5   M872956_JML_Position8_CD4_test_img.png  0.619289\n",
      "6   M872956_JML_Position9_CD3_test_img.png   0.44958\n",
      "7                                      mAP  0.482591\n"
     ]
    }
   ],
   "source": [
    "import pandas as pd\n",
    "df = pd.DataFrame([FILENAMES+[\"mAP\"], list(APs.values())])\n",
    "print(df.transpose())\n",
    "df.to_csv('images/training/csi_'+model_name+'.txt', index=False, header=False)"
   ]
  },
  {
   "cell_type": "markdown",
   "id": "520fe391",
   "metadata": {},
   "source": [
    "**mAP**<br>\n",
    "image_mpp=1:   0.43<br>\n",
    "image_mpp=1.3: 0.48<br>"
   ]
  }
 ],
 "metadata": {
  "kernelspec": {
   "display_name": "Python 3 (ipykernel)",
   "language": "python",
   "name": "python3"
  },
  "language_info": {
   "codemirror_mode": {
    "name": "ipython",
    "version": 3
   },
   "file_extension": ".py",
   "mimetype": "text/x-python",
   "name": "python",
   "nbconvert_exporter": "python",
   "pygments_lexer": "ipython3",
   "version": "3.9.6"
  }
 },
 "nbformat": 4,
 "nbformat_minor": 5
}
