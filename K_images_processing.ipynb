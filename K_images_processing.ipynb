{
 "cells": [
  {
   "cell_type": "markdown",
   "id": "330e05e3",
   "metadata": {},
   "source": [
    "**Processing K's Images**<br>\n"
   ]
  },
  {
   "cell_type": "code",
   "execution_count": 53,
   "id": "90f2183c",
   "metadata": {},
   "outputs": [],
   "source": [
    "import syotil\n",
    "\n",
    "import numpy as np\n",
    "from skimage import io\n",
    "from matplotlib import pyplot as plt\n",
    "%matplotlib inline\n",
    "from timeit import default_timer\n",
    "import os\n",
    "from skimage import img_as_uint\n",
    "\n",
    "import tensorflow as tf\n",
    "\n",
    "from deepcell_toolbox.utils import resize, tile_image, untile_image"
   ]
  },
  {
   "cell_type": "code",
   "execution_count": 59,
   "id": "938b06af",
   "metadata": {},
   "outputs": [
    {
     "name": "stdout",
     "output_type": "stream",
     "text": [
      "7\n",
      "['images/training/M872956_JML_Position9_CD3_train_img.png', 'images/training/M872956_JML_Position8_CD3_train_img.png', 'images/training/M926910_CFL_Position7_CD3_train_img.png', 'images/training/M926910_CFL_Position13_CD3_train_img.png', 'images/training/M872956_JML_Position8_CD8_train_img.png', 'images/training/M872956_JML_Position10_CD3_train_img.png', 'images/training/M872956_JML_Position8_CD4_train_img.png']\n"
     ]
    }
   ],
   "source": [
    "import glob\n",
    "INPUT_PATH=\"images/training/\"\n",
    "#INPUT_PATH=\"images/training_512x512/\"\n",
    "FILENAMES = glob.glob(INPUT_PATH+\"*_img.png\")\n",
    "print(len(FILENAMES))\n",
    "print(FILENAMES)"
   ]
  },
  {
   "cell_type": "code",
   "execution_count": 60,
   "id": "4f88d0ea",
   "metadata": {},
   "outputs": [
    {
     "name": "stdout",
     "output_type": "stream",
     "text": [
      "(7, 1040, 1159, 1)\n",
      "(7, 1040, 1159, 1)\n"
     ]
    }
   ],
   "source": [
    "imgs = [io.imread(CURR_IM_NAME)[:,:,0] for CURR_IM_NAME in FILENAMES]\n",
    "X_train = tf.stack(imgs)\n",
    "X_train = np.expand_dims(X_train, axis=-1)\n",
    "print(X_train.shape)\n",
    "\n",
    "masks = [io.imread(CURR_IM_NAME.replace(\"img\",\"masks\")) for CURR_IM_NAME in FILENAMES]\n",
    "y_train = tf.stack(masks)\n",
    "y_train = np.expand_dims(y_train, axis=-1)\n",
    "print(y_train.shape)\n",
    "\n",
    "# np.savez(\"K_training_data\", X=X_train, y=y_train) # objects to save need to be key value pairs\n",
    "# train_dict, test_dict = get_data(\"K_training_data.npz\", test_size=test_size, seed=seed)"
   ]
  },
  {
   "cell_type": "code",
   "execution_count": 61,
   "id": "e322d39d",
   "metadata": {},
   "outputs": [
    {
     "name": "stdout",
     "output_type": "stream",
     "text": [
      "2.0\n",
      "(7, 2080, 2318, 1)\n",
      "(7, 2080, 2318, 1)\n"
     ]
    }
   ],
   "source": [
    "# resize image\n",
    "mpp_select=1.3 # based on DeepCell_tn_nuclear.ipynb, the best value is 1.2, but 1.3 makes scale factor an integer\n",
    "shape = X_train.shape\n",
    "scale_factor = mpp_select / 0.65\n",
    "print(scale_factor)\n",
    "new_shape = (int(shape[1] * scale_factor),\n",
    "             int(shape[2] * scale_factor))\n",
    "\n",
    "X_train_resized = resize(X_train, new_shape, data_format='channels_last')\n",
    "y_train_resized = resize(y_train, new_shape, data_format='channels_last')\n",
    "print(X_train_resized.shape)\n",
    "print(y_train_resized.shape)"
   ]
  },
  {
   "cell_type": "code",
   "execution_count": 63,
   "id": "3717334a",
   "metadata": {},
   "outputs": [
    {
     "name": "stderr",
     "output_type": "stream",
     "text": [
      "Lossy conversion from int32 to uint8. Range [0, 254]. Convert image to uint8 prior to saving to suppress this warning.\n",
      "Lossy conversion from int32 to uint8. Range [0, 254]. Convert image to uint8 prior to saving to suppress this warning.\n",
      "Lossy conversion from int32 to uint8. Range [0, 254]. Convert image to uint8 prior to saving to suppress this warning.\n",
      "Lossy conversion from int32 to uint8. Range [0, 254]. Convert image to uint8 prior to saving to suppress this warning.\n",
      "Lossy conversion from int32 to uint8. Range [0, 254]. Convert image to uint8 prior to saving to suppress this warning.\n",
      "Lossy conversion from int32 to uint8. Range [0, 250]. Convert image to uint8 prior to saving to suppress this warning.\n",
      "Lossy conversion from int32 to uint8. Range [0, 254]. Convert image to uint8 prior to saving to suppress this warning.\n"
     ]
    }
   ],
   "source": [
    "# write resized images and masks. saved to images/training_resized\n",
    "for i in range(7):\n",
    "    fname=FILENAMES[i].replace(\"_img\",\"_resized_img\").replace(\"training\",\"training_resized\")\n",
    "    io.imsave(fname, X_train_resized[i,:,:,0], check_contrast=False)"
   ]
  },
  {
   "cell_type": "code",
   "execution_count": 66,
   "id": "dbce0682",
   "metadata": {},
   "outputs": [
    {
     "data": {
      "text/plain": [
       "254"
      ]
     },
     "execution_count": 66,
     "metadata": {},
     "output_type": "execute_result"
    }
   ],
   "source": [
    "# previous warnings are okay because:\n",
    "np.max(X_train_resized[i,:,:,0])"
   ]
  },
  {
   "cell_type": "code",
   "execution_count": 68,
   "id": "91030c7a",
   "metadata": {},
   "outputs": [],
   "source": [
    "for i in range(7):\n",
    "    fname=FILENAMES[i].replace(\"_img\",\"_resized_masks\").replace(\"training\",\"training_resized\")\n",
    "    io.imsave(fname, img_as_uint(y_train_resized[i,:,:,0]), check_contrast=False)"
   ]
  },
  {
   "cell_type": "code",
   "execution_count": 69,
   "id": "2a2698ad",
   "metadata": {},
   "outputs": [
    {
     "name": "stdout",
     "output_type": "stream",
     "text": [
      "(7, 2080, 2318, 1)\n",
      "(7, 2080, 2318, 1)\n",
      "[0, 400, 800, 1200, 1568]\n",
      "[512, 912, 1312, 1712, 2080]\n",
      "[0, 512, 1024, 1536, 1806]\n",
      "[512, 1024, 1536, 2048, 2318]\n"
     ]
    }
   ],
   "source": [
    "print(X_train_resized.shape)\n",
    "print(y_train_resized.shape)\n",
    "\n",
    "x_starts=[0,400,400*2,400*3,X_train_resized.shape[1]-512]\n",
    "x_ends=[x+512 for x in x_starts]\n",
    "print(x_starts)\n",
    "print(x_ends)\n",
    "\n",
    "y_starts=[0,512,512*2,512*3,X_train_resized.shape[2]-512]\n",
    "y_ends=[x+512 for x in y_starts]\n",
    "print(y_starts)\n",
    "print(y_ends)"
   ]
  },
  {
   "cell_type": "code",
   "execution_count": 72,
   "id": "d57f2ec3",
   "metadata": {},
   "outputs": [],
   "source": [
    "for i in range(len(x_starts)):\n",
    "    for j in range(len(y_starts)):\n",
    "        sub_X = X_train_resized[:, x_starts[i]:x_ends[i], y_starts[j]:y_ends[j], :]\n",
    "        sub_y = y_train_resized[:, x_starts[i]:x_ends[i], y_starts[j]:y_ends[j], :]\n",
    "        for idx, CURR_IM_NAME in enumerate(FILENAMES):\n",
    "            fname=CURR_IM_NAME.replace(\"training\",\"training_resized_512x512\").replace(\"train_img\",\"train{}_img\".format(j+i*len(y_starts)))\n",
    "            io.imsave(fname, img_as_ubyte(sub_X[idx,...]), check_contrast=False) # use ubyte to suppress warnings\n",
    "            fname=CURR_IM_NAME.replace(\"training\",\"training_resized_512x512\").replace(\"train_img\",\"train{}_masks\".format(j+i*len(y_starts)))\n",
    "            io.imsave(fname, img_as_uint(sub_y[idx,...]), check_contrast=False)\n"
   ]
  }
 ],
 "metadata": {
  "kernelspec": {
   "display_name": "Python 3 (ipykernel)",
   "language": "python",
   "name": "python3"
  },
  "language_info": {
   "codemirror_mode": {
    "name": "ipython",
    "version": 3
   },
   "file_extension": ".py",
   "mimetype": "text/x-python",
   "name": "python",
   "nbconvert_exporter": "python",
   "pygments_lexer": "ipython3",
   "version": "3.9.6"
  }
 },
 "nbformat": 4,
 "nbformat_minor": 5
}
