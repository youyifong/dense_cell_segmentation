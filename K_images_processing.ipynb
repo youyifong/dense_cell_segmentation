{
 "cells": [
  {
   "cell_type": "markdown",
   "id": "330e05e3",
   "metadata": {},
   "source": [
    "**Processing K's Images**<br>\n"
   ]
  },
  {
   "cell_type": "code",
   "execution_count": 1,
   "id": "90f2183c",
   "metadata": {},
   "outputs": [],
   "source": [
    "import syotil\n",
    "\n",
    "import numpy as np\n",
    "from skimage import io\n",
    "from matplotlib import pyplot as plt\n",
    "%matplotlib inline\n",
    "from timeit import default_timer\n",
    "import os\n",
    "\n",
    "import tensorflow as tf\n",
    "\n",
    "from deepcell_toolbox.utils import resize, tile_image, untile_image"
   ]
  },
  {
   "cell_type": "code",
   "execution_count": 2,
   "id": "938b06af",
   "metadata": {},
   "outputs": [
    {
     "name": "stdout",
     "output_type": "stream",
     "text": [
      "7\n",
      "['images/training/M872956_JML_Position9_CD3_train_img.png', 'images/training/M872956_JML_Position8_CD3_train_img.png', 'images/training/M926910_CFL_Position7_CD3_train_img.png', 'images/training/M926910_CFL_Position13_CD3_train_img.png', 'images/training/M872956_JML_Position8_CD8_train_img.png', 'images/training/M872956_JML_Position10_CD3_train_img.png', 'images/training/M872956_JML_Position8_CD4_train_img.png']\n"
     ]
    }
   ],
   "source": [
    "import glob\n",
    "INPUT_PATH=\"images/training/\"\n",
    "#INPUT_PATH=\"images/training_512x512/\"\n",
    "FILENAMES = glob.glob(INPUT_PATH+\"*_img.png\")\n",
    "print(len(FILENAMES))\n",
    "print(FILENAMES)"
   ]
  },
  {
   "cell_type": "code",
   "execution_count": 3,
   "id": "4f88d0ea",
   "metadata": {},
   "outputs": [
    {
     "name": "stderr",
     "output_type": "stream",
     "text": [
      "2022-11-03 21:42:44.370334: I tensorflow/core/common_runtime/gpu/gpu_device.cc:1525] Created device /job:localhost/replica:0/task:0/device:GPU:0 with 14657 MB memory:  -> device: 0, name: Tesla V100-PCIE-16GB, pci bus id: 0000:04:00.0, compute capability: 7.0\n",
      "2022-11-03 21:42:44.371731: I tensorflow/core/common_runtime/gpu/gpu_device.cc:1525] Created device /job:localhost/replica:0/task:0/device:GPU:1 with 14657 MB memory:  -> device: 1, name: Tesla V100-PCIE-16GB, pci bus id: 0000:06:00.0, compute capability: 7.0\n",
      "2022-11-03 21:42:44.372942: I tensorflow/core/common_runtime/gpu/gpu_device.cc:1525] Created device /job:localhost/replica:0/task:0/device:GPU:2 with 14657 MB memory:  -> device: 2, name: Tesla V100-PCIE-16GB, pci bus id: 0000:08:00.0, compute capability: 7.0\n"
     ]
    },
    {
     "name": "stdout",
     "output_type": "stream",
     "text": [
      "(7, 1040, 1159, 1)\n",
      "(7, 1040, 1159, 1)\n"
     ]
    }
   ],
   "source": [
    "imgs = [io.imread(CURR_IM_NAME)[:,:,0] for CURR_IM_NAME in FILENAMES]\n",
    "X_train = tf.stack(imgs)\n",
    "X_train = np.expand_dims(X_train, axis=-1)\n",
    "X_train = np.array(X_train, dtype=np.uint8) # tf.stack changes the dtype \n",
    "print(X_train.shape)\n",
    "\n",
    "masks = [io.imread(CURR_IM_NAME.replace(\"img\",\"masks\")) for CURR_IM_NAME in FILENAMES]\n",
    "y_train = tf.stack(masks)\n",
    "y_train = np.expand_dims(y_train, axis=-1)\n",
    "y_train = np.array(y_train, dtype=np.uint16)  # tf.stack changes the dtype, change it back here so that when saving to files, there will be no loss\n",
    "print(y_train.shape)\n",
    "\n",
    "# np.savez(\"K_training_data\", X=X_train, y=y_train) # objects to save need to be key value pairs\n",
    "# train_dict, test_dict = get_data(\"K_training_data.npz\", test_size=test_size, seed=seed)"
   ]
  },
  {
   "cell_type": "code",
   "execution_count": 7,
   "id": "e322d39d",
   "metadata": {},
   "outputs": [
    {
     "name": "stdout",
     "output_type": "stream",
     "text": [
      "2.0\n",
      "(7, 2080, 2318, 1)\n",
      "(7, 2080, 2318, 1)\n"
     ]
    }
   ],
   "source": [
    "# resize image\n",
    "mpp_select=1.3 # based on DeepCell_tn_nuclear.ipynb, the best value is 1.2, but 1.3 makes scale factor an integer\n",
    "shape = X_train.shape\n",
    "scale_factor = mpp_select / 0.65\n",
    "print(scale_factor)\n",
    "new_shape = (int(shape[1] * scale_factor),\n",
    "             int(shape[2] * scale_factor))\n",
    "\n",
    "X_train_resized = resize(X_train, new_shape, data_format='channels_last')\n",
    "y_train_resized = resize(y_train, new_shape, data_format='channels_last', labeled_image=True)\n",
    "print(X_train_resized.shape)\n",
    "print(y_train_resized.shape)"
   ]
  },
  {
   "cell_type": "code",
   "execution_count": 8,
   "id": "c9f7e94e",
   "metadata": {},
   "outputs": [
    {
     "name": "stdout",
     "output_type": "stream",
     "text": [
      "(array([3640464,     660,     984, ...,    1396,     888,     524]), array([0.000e+00, 1.000e+00, 2.000e+00, ..., 1.985e+03, 1.986e+03,\n",
      "             inf]))\n"
     ]
    },
    {
     "data": {
      "text/plain": [
       "(array([910116,    165,    246, ...,    349,    222,    131]),\n",
       " array([0.000e+00, 1.000e+00, 2.000e+00, ..., 1.985e+03, 1.986e+03,\n",
       "              inf]))"
      ]
     },
     "execution_count": 8,
     "metadata": {},
     "output_type": "execute_result"
    }
   ],
   "source": [
    "# compare before and after resizing\n",
    "print(np.histogram(y_train_resized[0,...], bins=np.append(np.unique(y_train_resized[0,...]), np.inf)))\n",
    "np.histogram(y_train[0,...], bins=np.append(np.unique(y_train[0,...]), np.inf))"
   ]
  },
  {
   "cell_type": "code",
   "execution_count": 15,
   "id": "3717334a",
   "metadata": {},
   "outputs": [],
   "source": [
    "# write resized images and masks. saved to images/training_resized\n",
    "for i in range(7):\n",
    "    fname=FILENAMES[i].replace(\"_img\",\"_resized_img\").replace(\"training\",\"training_resized\")\n",
    "    io.imsave(fname, X_train_resized[i,:,:,0], check_contrast=False)\n",
    "\n",
    "for i in range(7):\n",
    "    fname=FILENAMES[i].replace(\"_img\",\"_resized_masks\").replace(\"training\",\"training_resized\")\n",
    "    io.imsave(fname, y_train_resized[i,:,:,0], check_contrast=False)"
   ]
  },
  {
   "cell_type": "code",
   "execution_count": 20,
   "id": "e7af4a57",
   "metadata": {},
   "outputs": [
    {
     "name": "stdout",
     "output_type": "stream",
     "text": [
      "(7, 2080, 2318, 1)\n",
      "(7, 2080, 2318, 1)\n",
      "[0, 400, 800, 1200, 1568]\n",
      "[512, 912, 1312, 1712, 2080]\n",
      "[0, 512, 1024, 1536, 1806]\n",
      "[512, 1024, 1536, 2048, 2318]\n"
     ]
    }
   ],
   "source": [
    "# cut each image into 5x5 patches of size 512x512 \n",
    "print(X_train_resized.shape)\n",
    "print(y_train_resized.shape)\n",
    "\n",
    "x_starts=[0,400,400*2,400*3,X_train_resized.shape[1]-512]\n",
    "x_ends=[x+512 for x in x_starts]\n",
    "print(x_starts)\n",
    "print(x_ends)\n",
    "\n",
    "y_starts=[0,512,512*2,512*3,X_train_resized.shape[2]-512]\n",
    "y_ends=[x+512 for x in y_starts]\n",
    "print(y_starts)\n",
    "print(y_ends)"
   ]
  },
  {
   "cell_type": "code",
   "execution_count": 22,
   "id": "d57f2ec3",
   "metadata": {},
   "outputs": [],
   "source": [
    "for i in range(len(x_starts)):\n",
    "    for j in range(len(y_starts)):\n",
    "        sub_X = X_train_resized[:, x_starts[i]:x_ends[i], y_starts[j]:y_ends[j], :]\n",
    "        sub_y = y_train_resized[:, x_starts[i]:x_ends[i], y_starts[j]:y_ends[j], :]\n",
    "        for idx, CURR_IM_NAME in enumerate(FILENAMES):\n",
    "            fname=CURR_IM_NAME.replace(\"training\",\"training_resized_512x512\").replace(\"train_img\",\"train{}_img\".format(j+i*len(y_starts)))\n",
    "            io.imsave(fname, sub_X[idx,...], check_contrast=False) # use ubyte to suppress warnings\n",
    "            fname=CURR_IM_NAME.replace(\"training\",\"training_resized_512x512\").replace(\"train_img\",\"train{}_masks\".format(j+i*len(y_starts)))\n",
    "            io.imsave(fname, sub_y[idx,...], check_contrast=False)\n"
   ]
  },
  {
   "cell_type": "code",
   "execution_count": 9,
   "id": "31656d87",
   "metadata": {},
   "outputs": [
    {
     "name": "stdout",
     "output_type": "stream",
     "text": [
      "1.5384615384615383\n",
      "(7, 1599, 1783, 1)\n",
      "(7, 1599, 1783, 1)\n"
     ]
    }
   ],
   "source": [
    "# resize image with a different mpp\n",
    "mpp_select=1.0\n",
    "shape = X_train.shape\n",
    "scale_factor = mpp_select / 0.65\n",
    "print(scale_factor)\n",
    "new_shape = (int(shape[1] * scale_factor),\n",
    "             int(shape[2] * scale_factor))\n",
    "\n",
    "X_train_resized = resize(X_train, new_shape, data_format='channels_last')\n",
    "y_train_resized = resize(y_train, new_shape, data_format='channels_last', labeled_image=True)\n",
    "print(X_train_resized.shape)\n",
    "print(y_train_resized.shape)"
   ]
  },
  {
   "cell_type": "code",
   "execution_count": 5,
   "id": "7e92dc99",
   "metadata": {},
   "outputs": [
    {
     "name": "stdout",
     "output_type": "stream",
     "text": [
      "(array([2152806,     395,     575, ...,     820,     531,     312]), array([0.000e+00, 1.000e+00, 2.000e+00, ..., 1.985e+03, 1.986e+03,\n",
      "             inf]))\n"
     ]
    },
    {
     "data": {
      "text/plain": [
       "(array([910116,    165,    246, ...,    349,    222,    131]),\n",
       " array([0.000e+00, 1.000e+00, 2.000e+00, ..., 1.985e+03, 1.986e+03,\n",
       "              inf]))"
      ]
     },
     "execution_count": 5,
     "metadata": {},
     "output_type": "execute_result"
    }
   ],
   "source": [
    "# compare before and after resizing\n",
    "print(np.histogram(y_train_resized[0,...], bins=np.append(np.unique(y_train_resized[0,...]), np.inf)))\n",
    "np.histogram(y_train[0,...], bins=np.append(np.unique(y_train[0,...]), np.inf))"
   ]
  },
  {
   "cell_type": "code",
   "execution_count": 19,
   "id": "4b4ffde7",
   "metadata": {},
   "outputs": [
    {
     "name": "stdout",
     "output_type": "stream",
     "text": [
      "images/training_resized1/M872956_JML_Position9_CD3_train_resized1_img.png\n",
      "images/training_resized1/M872956_JML_Position8_CD3_train_resized1_img.png\n",
      "images/training_resized1/M926910_CFL_Position7_CD3_train_resized1_img.png\n",
      "images/training_resized1/M926910_CFL_Position13_CD3_train_resized1_img.png\n",
      "images/training_resized1/M872956_JML_Position8_CD8_train_resized1_img.png\n",
      "images/training_resized1/M872956_JML_Position10_CD3_train_resized1_img.png\n",
      "images/training_resized1/M872956_JML_Position8_CD4_train_resized1_img.png\n"
     ]
    }
   ],
   "source": [
    "# write resized images and masks. saved to images/training_resized\n",
    "for i in range(7):\n",
    "    fname=FILENAMES[i].replace(\"training\",\"training_resized1\").replace(\"_img\",\"_resized1_img\")\n",
    "    io.imsave(fname, X_train_resized[i,:,:,0], check_contrast=False)\n",
    "\n",
    "for i in range(7):\n",
    "    fname=FILENAMES[i].replace(\"training\",\"training_resized1\").replace(\"_img\",\"_resized1_masks\")\n",
    "    io.imsave(fname, y_train_resized[i,:,:,0], check_contrast=False)"
   ]
  },
  {
   "cell_type": "code",
   "execution_count": 20,
   "id": "a56c3588",
   "metadata": {},
   "outputs": [
    {
     "name": "stdout",
     "output_type": "stream",
     "text": [
      "(7, 1599, 1783, 1)\n",
      "(7, 1599, 1783, 1)\n",
      "[0, 350, 700, 1087]\n",
      "[512, 862, 1212, 1599]\n",
      "[0, 400, 800, 1271]\n",
      "[512, 912, 1312, 1783]\n"
     ]
    }
   ],
   "source": [
    "# cut each image into 5x5 patches of size 512x512 \n",
    "print(X_train_resized.shape)\n",
    "print(y_train_resized.shape)\n",
    "\n",
    "x_starts=[0,350,350*2,X_train_resized.shape[1]-512]\n",
    "x_ends=[x+512 for x in x_starts]\n",
    "print(x_starts)\n",
    "print(x_ends)\n",
    "\n",
    "y_starts=[0,400,400*2,X_train_resized.shape[2]-512]\n",
    "y_ends=[x+512 for x in y_starts]\n",
    "print(y_starts)\n",
    "print(y_ends)"
   ]
  },
  {
   "cell_type": "code",
   "execution_count": 21,
   "id": "990bcf80",
   "metadata": {},
   "outputs": [],
   "source": [
    "for i in range(len(x_starts)):\n",
    "    for j in range(len(y_starts)):\n",
    "        sub_X = X_train_resized[:, x_starts[i]:x_ends[i], y_starts[j]:y_ends[j], :]\n",
    "        sub_y = y_train_resized[:, x_starts[i]:x_ends[i], y_starts[j]:y_ends[j], :]\n",
    "        for idx, CURR_IM_NAME in enumerate(FILENAMES):\n",
    "            fname=CURR_IM_NAME.replace(\"training\",\"training_resized1_512x512\").replace(\"train_img\",\"train{}_img\".format(j+i*len(y_starts)))\n",
    "            io.imsave(fname, sub_X[idx,...], check_contrast=False) # use ubyte to suppress warnings\n",
    "            fname=CURR_IM_NAME.replace(\"training\",\"training_resized1_512x512\").replace(\"train_img\",\"train{}_masks\".format(j+i*len(y_starts)))\n",
    "            io.imsave(fname, sub_y[idx,...], check_contrast=False)\n"
   ]
  }
 ],
 "metadata": {
  "kernelspec": {
   "display_name": "Python 3 (ipykernel)",
   "language": "python",
   "name": "python3"
  },
  "language_info": {
   "codemirror_mode": {
    "name": "ipython",
    "version": 3
   },
   "file_extension": ".py",
   "mimetype": "text/x-python",
   "name": "python",
   "nbconvert_exporter": "python",
   "pygments_lexer": "ipython3",
   "version": "3.9.6"
  }
 },
 "nbformat": 4,
 "nbformat_minor": 5
}
