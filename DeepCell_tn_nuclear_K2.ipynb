{
 "cells": [
  {
   "cell_type": "markdown",
   "id": "330e05e3",
   "metadata": {},
   "source": [
    "**Further train DeepCell Models with K's Data and Make Predictions**<br>\n",
    "The model has three heads: inner distance, outer distance, and fgbg. It works on tensorflow 2.7.1.<br>\n",
    "We first train a model with nucleus data from the Tissuenet V1.0 dataset and save the model. <br>\n",
    "We then further train the model via deepcell.training.train_model_sample, which allows arbitrary size images and uses window_size to control patch size.\n",
    "There are a total of 12,574 training instances."
   ]
  },
  {
   "cell_type": "code",
   "execution_count": 1,
   "id": "a72e9c51",
   "metadata": {},
   "outputs": [],
   "source": [
    "starting_model_path = 'tn1.0_nuclear_20221102.h5' # the model trained with nucleus data from the Tissuenet V1.0 dataset\n",
    "model_path = 'tn1.0_nuclear_K.h5' # the model trained with nucleus data from the Tissuenet V1.0 dataset\n",
    "epochs=60 # 7 sec per epoch\n",
    "label=\"nuclear_K\""
   ]
  },
  {
   "cell_type": "code",
   "execution_count": 2,
   "id": "90f2183c",
   "metadata": {},
   "outputs": [
    {
     "name": "stdout",
     "output_type": "stream",
     "text": [
      "2.7.1\n",
      "0.11.1\n"
     ]
    }
   ],
   "source": [
    "import syotil\n",
    "\n",
    "import numpy as np\n",
    "from skimage import io\n",
    "from matplotlib import pyplot as plt\n",
    "%matplotlib inline\n",
    "from timeit import default_timer\n",
    "import os\n",
    "from skimage import img_as_ubyte\n",
    "\n",
    "import deepcell\n",
    "from deepcell import image_generators\n",
    "from deepcell.utils.train_utils import rate_scheduler, get_callbacks, count_gpus\n",
    "from deepcell_toolbox.utils import resize, tile_image, untile_image\n",
    "from deepcell_toolbox.deep_watershed import deep_watershed\n",
    "from deepcell.losses import weighted_categorical_crossentropy\n",
    "from deepcell.model_zoo.panopticnet import PanopticNet\n",
    "\n",
    "import tensorflow as tf\n",
    "from tensorflow.keras.optimizers import SGD, Adam\n",
    "from tensorflow.keras.losses import MSE\n",
    "\n",
    "print(tf.__version__)\n",
    "print(deepcell.__version__)"
   ]
  },
  {
   "cell_type": "code",
   "execution_count": 4,
   "id": "938b06af",
   "metadata": {},
   "outputs": [
    {
     "name": "stdout",
     "output_type": "stream",
     "text": [
      "7\n",
      "['images/training/M872956_JML_Position9_CD3_train_img.png', 'images/training/M872956_JML_Position8_CD3_train_img.png', 'images/training/M926910_CFL_Position7_CD3_train_img.png', 'images/training/M926910_CFL_Position13_CD3_train_img.png', 'images/training/M872956_JML_Position8_CD8_train_img.png', 'images/training/M872956_JML_Position10_CD3_train_img.png', 'images/training/M872956_JML_Position8_CD4_train_img.png']\n"
     ]
    }
   ],
   "source": [
    "import glob\n",
    "INPUT_PATH=\"images/training/\"\n",
    "FILENAMES = glob.glob(INPUT_PATH+\"*_img.png\")\n",
    "print(len(FILENAMES))\n",
    "print(FILENAMES)"
   ]
  },
  {
   "cell_type": "code",
   "execution_count": 12,
   "id": "1bac06f7",
   "metadata": {},
   "outputs": [
    {
     "name": "stdout",
     "output_type": "stream",
     "text": [
      "(7, 1040, 1159, 1)\n",
      "(7, 1040, 1159, 1)\n"
     ]
    }
   ],
   "source": [
    "imgs = [io.imread(CURR_IM_NAME)[:,:,0] for CURR_IM_NAME in FILENAMES]\n",
    "X_train = tf.stack(imgs)\n",
    "X_train = np.expand_dims(X_train, axis=-1)\n",
    "print(X_train.shape)\n",
    "\n",
    "masks = [io.imread(CURR_IM_NAME.replace(\"img\",\"masks\")) for CURR_IM_NAME in FILENAMES]\n",
    "y_train = tf.stack(masks)\n",
    "y_train = np.expand_dims(y_train, axis=-1)\n",
    "print(y_train.shape)\n",
    "\n",
    "# np.savez(\"K_training_data\", X=X_train, y=y_train) # objects to save need to be key value pairs\n",
    "# train_dict, test_dict = get_data(\"K_training_data.npz\", test_size=test_size, seed=seed)"
   ]
  },
  {
   "cell_type": "code",
   "execution_count": 6,
   "id": "a53a38a6",
   "metadata": {},
   "outputs": [
    {
     "name": "stdout",
     "output_type": "stream",
     "text": [
      "(7, 1599, 1783, 1)\n"
     ]
    }
   ],
   "source": [
    "# resize image\n",
    "image_mpp=1\n",
    "shape = X_train.shape\n",
    "scale_factor = image_mpp / 0.65\n",
    "new_shape = (int(shape[1] * scale_factor),\n",
    "             int(shape[2] * scale_factor))\n",
    "\n",
    "X_train = resize(X_train, new_shape, data_format='channels_last')\n",
    "y_train = resize(y_train, new_shape, data_format='channels_last')\n",
    "print(X_train.shape)"
   ]
  },
  {
   "cell_type": "code",
   "execution_count": 20,
   "id": "248e9b52",
   "metadata": {},
   "outputs": [],
   "source": [
    "# write resized images and masks. saved to images/training\n",
    "for i in range(7):\n",
    "    io.imsave(FILENAMES[i].replace(\"_img\",\"_resized_img\").replace(\"training\",\"training_resized\"), img_as_ubyte(X_train[i,:,:,0]))"
   ]
  },
  {
   "cell_type": "code",
   "execution_count": 21,
   "id": "6cd66800",
   "metadata": {},
   "outputs": [
    {
     "name": "stderr",
     "output_type": "stream",
     "text": [
      "/tmp/ipykernel_16842/1971877337.py:2: UserWarning: images/training_resized/M872956_JML_Position9_CD3_train_resized_masks.png is a low contrast image\n",
      "  io.imsave(FILENAMES[i].replace(\"_img\",\"_resized_masks\").replace(\"training\",\"training_resized\"), img_as_ubyte(y_train[i,:,:,0]))\n",
      "/tmp/ipykernel_16842/1971877337.py:2: UserWarning: images/training_resized/M872956_JML_Position8_CD3_train_resized_masks.png is a low contrast image\n",
      "  io.imsave(FILENAMES[i].replace(\"_img\",\"_resized_masks\").replace(\"training\",\"training_resized\"), img_as_ubyte(y_train[i,:,:,0]))\n",
      "/tmp/ipykernel_16842/1971877337.py:2: UserWarning: images/training_resized/M926910_CFL_Position7_CD3_train_resized_masks.png is a low contrast image\n",
      "  io.imsave(FILENAMES[i].replace(\"_img\",\"_resized_masks\").replace(\"training\",\"training_resized\"), img_as_ubyte(y_train[i,:,:,0]))\n",
      "/tmp/ipykernel_16842/1971877337.py:2: UserWarning: images/training_resized/M926910_CFL_Position13_CD3_train_resized_masks.png is a low contrast image\n",
      "  io.imsave(FILENAMES[i].replace(\"_img\",\"_resized_masks\").replace(\"training\",\"training_resized\"), img_as_ubyte(y_train[i,:,:,0]))\n",
      "/tmp/ipykernel_16842/1971877337.py:2: UserWarning: images/training_resized/M872956_JML_Position8_CD8_train_resized_masks.png is a low contrast image\n",
      "  io.imsave(FILENAMES[i].replace(\"_img\",\"_resized_masks\").replace(\"training\",\"training_resized\"), img_as_ubyte(y_train[i,:,:,0]))\n",
      "/tmp/ipykernel_16842/1971877337.py:2: UserWarning: images/training_resized/M872956_JML_Position10_CD3_train_resized_masks.png is a low contrast image\n",
      "  io.imsave(FILENAMES[i].replace(\"_img\",\"_resized_masks\").replace(\"training\",\"training_resized\"), img_as_ubyte(y_train[i,:,:,0]))\n",
      "/tmp/ipykernel_16842/1971877337.py:2: UserWarning: images/training_resized/M872956_JML_Position8_CD4_train_resized_masks.png is a low contrast image\n",
      "  io.imsave(FILENAMES[i].replace(\"_img\",\"_resized_masks\").replace(\"training\",\"training_resized\"), img_as_ubyte(y_train[i,:,:,0]))\n"
     ]
    }
   ],
   "source": [
    "for i in range(7):\n",
    "    io.imsave(FILENAMES[i].replace(\"_img\",\"_resized_masks\").replace(\"training\",\"training_resized\"), img_as_ubyte(y_train[i,:,:,0]))"
   ]
  },
  {
   "cell_type": "code",
   "execution_count": 24,
   "id": "b2d16287",
   "metadata": {},
   "outputs": [
    {
     "name": "stderr",
     "output_type": "stream",
     "text": [
      "2022-11-02 18:59:08.777994: W tensorflow/python/util/util.cc:368] Sets are not currently considered sequences, but this may change in the future, so consider avoiding using them.\n"
     ]
    }
   ],
   "source": [
    "prediction_model = PanopticNet(\n",
    "    backbone='resnet50',\n",
    "    norm_method='whole_image',\n",
    "    num_semantic_classes=[1, 1], # inner distance, outer distance\n",
    "    input_shape= (512,512,1)\n",
    ")\n",
    "\n",
    "prediction_model.load_weights(starting_model_path, by_name=True)"
   ]
  },
  {
   "cell_type": "code",
   "execution_count": 28,
   "id": "2e3388b8",
   "metadata": {},
   "outputs": [
    {
     "name": "stdout",
     "output_type": "stream",
     "text": [
      "(7, 1599, 1783, 1)\n",
      "(20, 512, 512, 1)\n",
      "{'batches': [0, 0, 0, 0, 0, 0, 0, 0, 0, 0, 0, 0, 0, 0, 0, 0, 0, 0, 0, 0], 'x_starts': [0, 0, 0, 0, 0, 384, 384, 384, 384, 384, 768, 768, 768, 768, 768, 1152, 1152, 1152, 1152, 1152], 'x_ends': [512, 512, 512, 512, 512, 896, 896, 896, 896, 896, 1280, 1280, 1280, 1280, 1280, 1664, 1664, 1664, 1664, 1664], 'y_starts': [0, 384, 768, 1152, 1536, 0, 384, 768, 1152, 1536, 0, 384, 768, 1152, 1536, 0, 384, 768, 1152, 1536], 'y_ends': [512, 896, 1280, 1664, 2048, 512, 896, 1280, 1664, 2048, 512, 896, 1280, 1664, 2048, 512, 896, 1280, 1664, 2048], 'overlaps_x': [(0, 128), (0, 128), (0, 128), (0, 128), (0, 128), (128, 128), (128, 128), (128, 128), (128, 128), (128, 128), (128, 128), (128, 128), (128, 128), (128, 128), (128, 128), (128, 0), (128, 0), (128, 0), (128, 0), (128, 0)], 'overlaps_y': [(0, 128), (128, 128), (128, 128), (128, 128), (128, 0), (0, 128), (128, 128), (128, 128), (128, 128), (128, 0), (0, 128), (128, 128), (128, 128), (128, 128), (128, 0), (0, 128), (128, 128), (128, 128), (128, 128), (128, 0)], 'stride_x': 384, 'stride_y': 384, 'tile_size_x': 512, 'tile_size_y': 512, 'stride_ratio': 0.75, 'image_shape': (1, 1664, 2048, 1), 'dtype': dtype('int32'), 'pad_x': (33, 32), 'pad_y': (133, 132)}\n"
     ]
    }
   ],
   "source": [
    "# get tile info \n",
    "from deepcell.applications import NuclearSegmentation\n",
    "app1 = NuclearSegmentation(prediction_model)\n",
    "\n",
    "y, tile_info = app1._tile_input(np.expand_dims(X_train[0,...],0))\n",
    "print(X_train.shape)\n",
    "print(y.shape)\n",
    "print(tile_info)\n"
   ]
  },
  {
   "cell_type": "code",
   "execution_count": 40,
   "id": "73d0c5d8",
   "metadata": {},
   "outputs": [
    {
     "name": "stdout",
     "output_type": "stream",
     "text": [
      "12574\n"
     ]
    }
   ],
   "source": [
    "seed=0\n",
    "min_objects = 2\n",
    "\n",
    "transforms = ['inner-distance', 'outer-distance', 'fgbg']\n",
    "transforms_kwargs = {'outer-distance': {'erosion_width': 0}}\n",
    "\n",
    "# use augmentation for training but not validation\n",
    "# no need to define width_shift_range or height_shift_range \n",
    "# because crops will be taken randomly over the image and not just the center (cropping.py)\n",
    "datagen = image_generators.CroppingDataGenerator(\n",
    "    crop_size=(512, 512),\n",
    "    # datagen = image_generators.SemanticDataGenerator(\n",
    "    rotation_range=180,\n",
    "    fill_mode='reflect',\n",
    "    zoom_range=(0.75, 1.25),\n",
    "    horizontal_flip=True,\n",
    "    vertical_flip=True)\n",
    "\n",
    "datagen_val = image_generators.CroppingDataGenerator()\n",
    "\n",
    "batch_size = 1 # 8 causes memory outage\n",
    "\n",
    "train_data = datagen.flow(\n",
    "    {'X': X_train, 'y': y_train},\n",
    "    seed=seed,\n",
    "    transforms=transforms,\n",
    "    transforms_kwargs=transforms_kwargs,\n",
    "    min_objects=min_objects,\n",
    "    batch_size=batch_size)\n",
    "\n",
    "val_data = None\n",
    "# datagen_val.flow(\n",
    "#     {'X': X_val, 'y': y_val},\n",
    "#     seed=seed,\n",
    "#     transforms=transforms,\n",
    "#     transforms_kwargs=transforms_kwargs,\n",
    "#     min_objects=min_objects,\n",
    "#     batch_size=batch_size)\n",
    "\n",
    "# get number of training and validation instances\n",
    "\n",
    "cnts_train = [np.max(y_train[i,...]) for i in range(y_train.shape[0])]\n",
    "print(np.sum(cnts_train)) # total number of training instances"
   ]
  },
  {
   "cell_type": "code",
   "execution_count": 23,
   "id": "b7034669",
   "metadata": {},
   "outputs": [],
   "source": [
    "# x_tmp, y_tmp=train_data.next()"
   ]
  },
  {
   "cell_type": "code",
   "execution_count": 29,
   "id": "0b79383a",
   "metadata": {},
   "outputs": [
    {
     "name": "stderr",
     "output_type": "stream",
     "text": [
      "/app/software/scikit-image/0.19.1-foss-2021b/lib/python3.9/site-packages/skimage/io/_plugins/matplotlib_plugin.py:150: UserWarning: Low image data range; displaying image with stretched contrast.\n",
      "  lo, hi, cmap = _get_display_range(image)\n"
     ]
    },
    {
     "data": {
      "image/png": "[encoded data removed]",
      "text/plain": [
       "<Figure size 432x288 with 4 Axes>"
      ]
     },
     "metadata": {
      "needs_background": "light"
     },
     "output_type": "display_data"
    }
   ],
   "source": [
    "i=5\n",
    "plt.subplot(1, 2, 1) # row 1, col 2 index 1\n",
    "io.imshow(X_train[i,:,:,0])\n",
    "plt.subplot(1, 2, 2) # row 1, col 2 index 1\n",
    "# tmp = syotil.masks_to_outlines(y_train[i,:,:,0]); io.imshow(tmp)\n",
    "io.imshow(y_train[i,:,:,0])\n",
    "plt.show()"
   ]
  },
  {
   "cell_type": "markdown",
   "id": "9591736f",
   "metadata": {},
   "source": [
    "**The two cells below define and train the model.** They can be skipped if a trained model will be loaded."
   ]
  },
  {
   "cell_type": "code",
   "execution_count": 41,
   "id": "7ebc07f0",
   "metadata": {},
   "outputs": [
    {
     "data": {
      "text/plain": [
       "[('semantic_0', (None, 512, 512, 1)),\n",
       " ('semantic_1', (None, 512, 512, 1)),\n",
       " ('semantic_2', (None, 512, 512, 2))]"
      ]
     },
     "execution_count": 41,
     "metadata": {},
     "output_type": "execute_result"
    }
   ],
   "source": [
    "semantic_classes = [1, 1, 2] # inner distance, outer distance, fgbg\n",
    "\n",
    "model = PanopticNet(\n",
    "    backbone='resnet50',\n",
    "    input_shape=(512,512,1),\n",
    "    norm_method='whole_image',\n",
    "    num_semantic_classes=semantic_classes)\n",
    "\n",
    "lr = 1e-4\n",
    "optimizer = Adam(lr=lr, clipnorm=0.001)\n",
    "lr_sched = rate_scheduler(lr=lr, decay=0.99)\n",
    "\n",
    "# Create a dictionary of losses for each semantic head\n",
    "\n",
    "def semantic_loss(n_classes):\n",
    "    def _semantic_loss(y_pred, y_true):\n",
    "        if n_classes > 1:\n",
    "            return 0.01 * weighted_categorical_crossentropy(\n",
    "                y_pred, y_true, n_classes=n_classes)\n",
    "        return MSE(y_pred, y_true)\n",
    "    return _semantic_loss\n",
    "\n",
    "loss = {}\n",
    "\n",
    "# Give losses for all of the semantic heads\n",
    "for layer in model.layers:\n",
    "    if layer.name.startswith('semantic_'):\n",
    "        n_classes = layer.output_shape[-1]\n",
    "        loss[layer.name] = semantic_loss(n_classes)\n",
    "        \n",
    "model.compile(loss=loss, optimizer=optimizer)\n",
    "\n",
    "model.load_weights(starting_model_path, by_name=True)\n",
    "\n",
    "[(layer.name, layer.output_shape) for layer in filter(lambda x: x.name.startswith('semantic_'), model.layers)]"
   ]
  },
  {
   "cell_type": "code",
   "execution_count": 42,
   "id": "b4095bff",
   "metadata": {},
   "outputs": [
    {
     "data": {
      "text/plain": [
       "7"
      ]
     },
     "execution_count": 42,
     "metadata": {},
     "output_type": "execute_result"
    }
   ],
   "source": [
    "train_data.y.shape[0] // batch_size"
   ]
  },
  {
   "cell_type": "code",
   "execution_count": 43,
   "id": "b1fab4f5",
   "metadata": {},
   "outputs": [
    {
     "name": "stdout",
     "output_type": "stream",
     "text": [
      "Training on 3 GPUs.\n"
     ]
    },
    {
     "name": "stderr",
     "output_type": "stream",
     "text": [
      "2022-11-02 22:01:33.186590: I tensorflow/core/common_runtime/gpu/gpu_device.cc:1525] Created device /device:GPU:0 with 14657 MB memory:  -> device: 0, name: Tesla V100-PCIE-16GB, pci bus id: 0000:04:00.0, compute capability: 7.0\n",
      "2022-11-02 22:01:33.187705: I tensorflow/core/common_runtime/gpu/gpu_device.cc:1525] Created device /device:GPU:1 with 14657 MB memory:  -> device: 1, name: Tesla V100-PCIE-16GB, pci bus id: 0000:06:00.0, compute capability: 7.0\n",
      "2022-11-02 22:01:33.188799: I tensorflow/core/common_runtime/gpu/gpu_device.cc:1525] Created device /device:GPU:2 with 14657 MB memory:  -> device: 2, name: Tesla V100-PCIE-16GB, pci bus id: 0000:08:00.0, compute capability: 7.0\n"
     ]
    },
    {
     "name": "stdout",
     "output_type": "stream",
     "text": [
      "Epoch 1/2\n",
      "7/7 [==============================] - ETA: 0s - loss: 0.0264 - semantic_0_loss: 0.0101 - semantic_1_loss: 0.0135 - semantic_2_loss: 0.0028\n",
      "Epoch 00001: loss improved from inf to 0.02643, saving model to tn1.0_nuclear_K.h5\n",
      "7/7 [==============================] - 33s 2s/step - loss: 0.0264 - semantic_0_loss: 0.0101 - semantic_1_loss: 0.0135 - semantic_2_loss: 0.0028 - lr: 1.0000e-04\n",
      "Epoch 2/2\n",
      "7/7 [==============================] - ETA: 0s - loss: 0.0232 - semantic_0_loss: 0.0090 - semantic_1_loss: 0.0122 - semantic_2_loss: 0.0020\n",
      "Epoch 00002: loss improved from 0.02643 to 0.02321, saving model to tn1.0_nuclear_K.h5\n",
      "7/7 [==============================] - 18s 3s/step - loss: 0.0232 - semantic_0_loss: 0.0090 - semantic_1_loss: 0.0122 - semantic_2_loss: 0.0020 - lr: 9.9000e-05\n"
     ]
    }
   ],
   "source": [
    "# fit the model\n",
    "print('Training on', count_gpus(), 'GPUs.')\n",
    "\n",
    "train_callbacks = get_callbacks(\n",
    "    model_path,\n",
    "    lr_sched=lr_sched,\n",
    "#     monitor=\"val_loss\",\n",
    "    monitor='loss', # training loss\n",
    "    verbose=1)          \n",
    "            \n",
    "loss_history = model.fit(\n",
    "    train_data,\n",
    "    steps_per_epoch=train_data.y.shape[0] // batch_size, # \n",
    "    epochs=2, \n",
    "#     validation_data=val_data,\n",
    "#     validation_steps=val_data.y.shape[0] // batch_size,\n",
    "    callbacks=train_callbacks)\n",
    "\n",
    "model.save_weights(model_path)"
   ]
  },
  {
   "cell_type": "markdown",
   "id": "71f3f44b",
   "metadata": {},
   "source": [
    "<B>Make predictions on Nuclear test dataset.</B> "
   ]
  },
  {
   "cell_type": "code",
   "execution_count": 44,
   "id": "dbf36df1",
   "metadata": {},
   "outputs": [],
   "source": [
    "prediction_model = PanopticNet(\n",
    "    backbone='resnet50',\n",
    "    norm_method='whole_image',\n",
    "    num_semantic_classes=[1, 1], # inner distance, outer distance\n",
    "    input_shape= (512,512,1)\n",
    ")\n",
    "\n",
    "prediction_model.load_weights(model_path, by_name=True)"
   ]
  },
  {
   "cell_type": "markdown",
   "id": "42277d43",
   "metadata": {},
   "source": [
    "**Make prediction on K's data.**<br>\n",
    "Using NuclearSegmentation allows setting image_mpp, which has a substantial influence on performance."
   ]
  },
  {
   "cell_type": "code",
   "execution_count": 45,
   "id": "37a766dc",
   "metadata": {},
   "outputs": [
    {
     "data": {
      "text/plain": [
       "[('semantic_0', (None, 512, 512, 1)), ('semantic_1', (None, 512, 512, 1))]"
      ]
     },
     "execution_count": 45,
     "metadata": {},
     "output_type": "execute_result"
    }
   ],
   "source": [
    "from deepcell.applications import NuclearSegmentation\n",
    "app = NuclearSegmentation(prediction_model)\n",
    "[(layer.name, layer.output_shape) for layer in filter(lambda x: x.name.startswith('semantic_'), app.model.layers)]"
   ]
  },
  {
   "cell_type": "code",
   "execution_count": 46,
   "id": "20301e2d",
   "metadata": {},
   "outputs": [
    {
     "name": "stdout",
     "output_type": "stream",
     "text": [
      "/home/yfong/deeplearning/dense_cell_segmentation\n",
      "['M926910_CFL_Position7_CD3_test_img.png', 'M872956_JML_Position10_CD3_test_img.png', 'M872956_JML_Position8_CD8_test_img.png', 'M926910_CFL_Position13_CD3_test_img.png', 'M872956_JML_Position8_CD3_test_img.png', 'M872956_JML_Position8_CD4_test_img.png', 'M872956_JML_Position9_CD3_test_img.png']\n"
     ]
    }
   ],
   "source": [
    "import os\n",
    "print(os.getcwd())\n",
    "INPUT_PATH=\"images/test/\"\n",
    "FILENAMES = [f for f in os.listdir(\"images/training/testimages\")]\n",
    "print(FILENAMES)"
   ]
  },
  {
   "cell_type": "code",
   "execution_count": 47,
   "id": "f31fa740",
   "metadata": {},
   "outputs": [
    {
     "name": "stdout",
     "output_type": "stream",
     "text": [
      "(1, 1040, 233, 1)\n",
      "(1, 1568, 512, 1)\n",
      "{'padding': True, 'x_pad': (264, 264), 'y_pad': (139, 140)}\n"
     ]
    },
    {
     "name": "stderr",
     "output_type": "stream",
     "text": [
      "/app/software/DeepCell/0.11.1-foss-2021b-CUDA-11.4.1/lib/python3.9/site-packages/deepcell_toolbox/deep_watershed.py:179: FutureWarning: `selem` is a deprecated argument name for `h_maxima`. It will be removed in version 1.0.Please use `footprint` instead.\n",
      "  markers = h_maxima(image=maxima,\n"
     ]
    },
    {
     "name": "stdout",
     "output_type": "stream",
     "text": [
      "(1, 1040, 233, 1)\n",
      "(1, 1568, 512, 1)\n",
      "{'padding': True, 'x_pad': (264, 264), 'y_pad': (139, 140)}\n",
      "(1, 1040, 233, 1)\n",
      "(1, 1568, 512, 1)\n",
      "{'padding': True, 'x_pad': (264, 264), 'y_pad': (139, 140)}\n",
      "(1, 1040, 233, 1)\n",
      "(1, 1568, 512, 1)\n",
      "{'padding': True, 'x_pad': (264, 264), 'y_pad': (139, 140)}\n",
      "(1, 1040, 233, 1)\n",
      "(1, 1568, 512, 1)\n",
      "{'padding': True, 'x_pad': (264, 264), 'y_pad': (139, 140)}\n",
      "(1, 1040, 233, 1)\n",
      "(1, 1568, 512, 1)\n",
      "{'padding': True, 'x_pad': (264, 264), 'y_pad': (139, 140)}\n",
      "(1, 1040, 233, 1)\n",
      "(1, 1568, 512, 1)\n",
      "{'padding': True, 'x_pad': (264, 264), 'y_pad': (139, 140)}\n",
      "{'M926910_CFL_Position7_CD3_test_img.png': 0.3526717557251908, 'M872956_JML_Position10_CD3_test_img.png': 0.44223826714801445, 'M872956_JML_Position8_CD8_test_img.png': 0.4784688995215311, 'M926910_CFL_Position13_CD3_test_img.png': 0.25059101654846333, 'M872956_JML_Position8_CD3_test_img.png': 0.4845360824742268, 'M872956_JML_Position8_CD4_test_img.png': 0.42379958246346555, 'M872956_JML_Position9_CD3_test_img.png': 0.39148073022312374, 'mAP': 0.40339804772914517}\n"
     ]
    }
   ],
   "source": [
    "APs={}\n",
    "for CURR_IM_NAME in FILENAMES:\n",
    "    im0 = io.imread(os.path.join(INPUT_PATH, CURR_IM_NAME))\n",
    "    mask_true=io.imread(os.path.join(INPUT_PATH, CURR_IM_NAME.replace(\"img\",\"masks\")))\n",
    "\n",
    "    x = np.expand_dims(im0, axis=-1)\n",
    "    x = np.expand_dims(x, axis=0)\n",
    "    y, tile_info = app._tile_input(x)\n",
    "    print(x.shape)\n",
    "    print(y.shape)\n",
    "    print(tile_info)\n",
    "    pred = app.predict(y, image_mpp=1)\n",
    "    prd = app._untile_output(pred, tile_info)\n",
    "    #io.imshow(prd[0,:,:,0])\n",
    "    plt.show()\n",
    "    \n",
    "    APs[CURR_IM_NAME] = syotil.csi(mask_true, prd[0,:,:,0])# masks may lose one pixel if dimension is odd pixels\n",
    "\n",
    "APs[\"mAP\"]=np.mean(list(APs.values()))\n",
    "print(APs)"
   ]
  },
  {
   "cell_type": "code",
   "execution_count": null,
   "id": "7bc06419",
   "metadata": {},
   "outputs": [],
   "source": [
    "import pandas as pd\n",
    "df = pd.DataFrame([FILENAMES+[\"mAP\"], list(APs.values())])\n",
    "print(df.transpose())\n",
    "df.to_csv('images/training/csi_tn_'+label+'.txt', index=False, header=False)"
   ]
  },
  {
   "cell_type": "markdown",
   "id": "520fe391",
   "metadata": {},
   "source": [
    "**mAP**<br>\n",
    "image_mpp default: .<br>\n",
    "image_mpp=1: .34<br>\n",
    "image_mpp=2: .<br>"
   ]
  }
 ],
 "metadata": {
  "kernelspec": {
   "display_name": "Python 3 (ipykernel)",
   "language": "python",
   "name": "python3"
  },
  "language_info": {
   "codemirror_mode": {
    "name": "ipython",
    "version": 3
   },
   "file_extension": ".py",
   "mimetype": "text/x-python",
   "name": "python",
   "nbconvert_exporter": "python",
   "pygments_lexer": "ipython3",
   "version": "3.9.6"
  }
 },
 "nbformat": 4,
 "nbformat_minor": 5
}
