{
 "cells": [
  {
   "cell_type": "markdown",
   "id": "330e05e3",
   "metadata": {},
   "source": [
    "**Further train DeepCell Models with K's Data and Make Predictions**<br>\n",
    "Starting from model trained with tn nuclear data, further train the model with K's data resized and cut into 25*7 512x512 patches. There are a total of 12,574 training instances.<br>\n",
    "200 epochs, semanticdatagenerator, resized<br>\n",
    "mAP 0."
   ]
  },
  {
   "cell_type": "code",
   "execution_count": 24,
   "id": "a72e9c51",
   "metadata": {},
   "outputs": [],
   "source": [
    "starting_model_path = 'tn1.0_nuclear_20221102.h5' # the model trained with nucleus data from the Tissuenet V1.0 dataset\n",
    "INPUT_PATH=\"images/training_resized_512x512/\"\n",
    "model_name = 'tn1.0_nuclear_K_512x512resized' \n",
    "model_path = '{}.h5'.format(model_name)\n",
    "epochs=200 # 20 sec per step "
   ]
  },
  {
   "cell_type": "code",
   "execution_count": 25,
   "id": "90f2183c",
   "metadata": {},
   "outputs": [
    {
     "name": "stdout",
     "output_type": "stream",
     "text": [
      "2.7.1\n",
      "0.11.1\n"
     ]
    }
   ],
   "source": [
    "import syotil\n",
    "\n",
    "import numpy as np\n",
    "from skimage import io\n",
    "from matplotlib import pyplot as plt\n",
    "%matplotlib inline\n",
    "from timeit import default_timer\n",
    "import os\n",
    "from skimage import img_as_ubyte\n",
    "\n",
    "import deepcell\n",
    "from deepcell import image_generators\n",
    "from deepcell.utils.train_utils import rate_scheduler, get_callbacks, count_gpus\n",
    "from deepcell_toolbox.utils import resize, tile_image, untile_image\n",
    "from deepcell_toolbox.deep_watershed import deep_watershed\n",
    "from deepcell.losses import weighted_categorical_crossentropy\n",
    "from deepcell.model_zoo.panopticnet import PanopticNet\n",
    "\n",
    "import tensorflow as tf\n",
    "from tensorflow.keras.optimizers import SGD, Adam\n",
    "from tensorflow.keras.losses import MSE\n",
    "\n",
    "print(tf.__version__)\n",
    "print(deepcell.__version__)"
   ]
  },
  {
   "cell_type": "code",
   "execution_count": 26,
   "id": "938b06af",
   "metadata": {},
   "outputs": [
    {
     "name": "stdout",
     "output_type": "stream",
     "text": [
      "175\n",
      "['images/training_resized_512x512/M872956_JML_Position8_CD8_train21_img.png', 'images/training_resized_512x512/M872956_JML_Position10_CD3_train13_img.png', 'images/training_resized_512x512/M872956_JML_Position9_CD3_train20_img.png', 'images/training_resized_512x512/M872956_JML_Position8_CD8_train6_img.png', 'images/training_resized_512x512/M926910_CFL_Position7_CD3_train24_img.png', 'images/training_resized_512x512/M926910_CFL_Position7_CD3_train4_img.png', 'images/training_resized_512x512/M872956_JML_Position8_CD3_train1_img.png', 'images/training_resized_512x512/M872956_JML_Position10_CD3_train21_img.png', 'images/training_resized_512x512/M872956_JML_Position8_CD8_train17_img.png', 'images/training_resized_512x512/M872956_JML_Position9_CD3_train15_img.png', 'images/training_resized_512x512/M872956_JML_Position10_CD3_train7_img.png', 'images/training_resized_512x512/M926910_CFL_Position7_CD3_train5_img.png', 'images/training_resized_512x512/M872956_JML_Position10_CD3_train1_img.png', 'images/training_resized_512x512/M872956_JML_Position8_CD4_train22_img.png', 'images/training_resized_512x512/M872956_JML_Position10_CD3_train24_img.png', 'images/training_resized_512x512/M926910_CFL_Position7_CD3_train7_img.png', 'images/training_resized_512x512/M926910_CFL_Position7_CD3_train18_img.png', 'images/training_resized_512x512/M872956_JML_Position9_CD3_train13_img.png', 'images/training_resized_512x512/M872956_JML_Position8_CD3_train9_img.png', 'images/training_resized_512x512/M872956_JML_Position8_CD3_train21_img.png', 'images/training_resized_512x512/M926910_CFL_Position7_CD3_train14_img.png', 'images/training_resized_512x512/M926910_CFL_Position13_CD3_train6_img.png', 'images/training_resized_512x512/M872956_JML_Position8_CD3_train2_img.png', 'images/training_resized_512x512/M872956_JML_Position10_CD3_train14_img.png', 'images/training_resized_512x512/M872956_JML_Position8_CD4_train2_img.png', 'images/training_resized_512x512/M926910_CFL_Position13_CD3_train15_img.png', 'images/training_resized_512x512/M872956_JML_Position8_CD4_train3_img.png', 'images/training_resized_512x512/M872956_JML_Position10_CD3_train12_img.png', 'images/training_resized_512x512/M872956_JML_Position8_CD8_train12_img.png', 'images/training_resized_512x512/M872956_JML_Position9_CD3_train3_img.png', 'images/training_resized_512x512/M872956_JML_Position10_CD3_train20_img.png', 'images/training_resized_512x512/M872956_JML_Position8_CD8_train20_img.png', 'images/training_resized_512x512/M872956_JML_Position8_CD4_train17_img.png', 'images/training_resized_512x512/M872956_JML_Position10_CD3_train23_img.png', 'images/training_resized_512x512/M872956_JML_Position8_CD3_train17_img.png', 'images/training_resized_512x512/M926910_CFL_Position7_CD3_train15_img.png', 'images/training_resized_512x512/M872956_JML_Position9_CD3_train7_img.png', 'images/training_resized_512x512/M926910_CFL_Position13_CD3_train10_img.png', 'images/training_resized_512x512/M872956_JML_Position9_CD3_train9_img.png', 'images/training_resized_512x512/M872956_JML_Position8_CD8_train1_img.png', 'images/training_resized_512x512/M872956_JML_Position9_CD3_train5_img.png', 'images/training_resized_512x512/M926910_CFL_Position13_CD3_train17_img.png', 'images/training_resized_512x512/M872956_JML_Position8_CD8_train9_img.png', 'images/training_resized_512x512/M872956_JML_Position9_CD3_train21_img.png', 'images/training_resized_512x512/M872956_JML_Position10_CD3_train2_img.png', 'images/training_resized_512x512/M926910_CFL_Position7_CD3_train12_img.png', 'images/training_resized_512x512/M872956_JML_Position9_CD3_train4_img.png', 'images/training_resized_512x512/M872956_JML_Position10_CD3_train6_img.png', 'images/training_resized_512x512/M926910_CFL_Position13_CD3_train12_img.png', 'images/training_resized_512x512/M872956_JML_Position8_CD8_train2_img.png', 'images/training_resized_512x512/M872956_JML_Position9_CD3_train8_img.png', 'images/training_resized_512x512/M872956_JML_Position9_CD3_train6_img.png', 'images/training_resized_512x512/M872956_JML_Position10_CD3_train8_img.png', 'images/training_resized_512x512/M926910_CFL_Position7_CD3_train3_img.png', 'images/training_resized_512x512/M926910_CFL_Position13_CD3_train14_img.png', 'images/training_resized_512x512/M872956_JML_Position9_CD3_train16_img.png', 'images/training_resized_512x512/M872956_JML_Position10_CD3_train4_img.png', 'images/training_resized_512x512/M872956_JML_Position8_CD3_train19_img.png', 'images/training_resized_512x512/M926910_CFL_Position7_CD3_train10_img.png', 'images/training_resized_512x512/M926910_CFL_Position13_CD3_train16_img.png', 'images/training_resized_512x512/M872956_JML_Position8_CD4_train24_img.png', 'images/training_resized_512x512/M872956_JML_Position9_CD3_train1_img.png', 'images/training_resized_512x512/M872956_JML_Position9_CD3_train23_img.png', 'images/training_resized_512x512/M872956_JML_Position8_CD4_train14_img.png', 'images/training_resized_512x512/M926910_CFL_Position13_CD3_train3_img.png', 'images/training_resized_512x512/M926910_CFL_Position13_CD3_train18_img.png', 'images/training_resized_512x512/M872956_JML_Position8_CD4_train6_img.png', 'images/training_resized_512x512/M872956_JML_Position8_CD8_train3_img.png', 'images/training_resized_512x512/M872956_JML_Position8_CD3_train4_img.png', 'images/training_resized_512x512/M872956_JML_Position8_CD3_train20_img.png', 'images/training_resized_512x512/M872956_JML_Position10_CD3_train15_img.png', 'images/training_resized_512x512/M872956_JML_Position8_CD4_train1_img.png', 'images/training_resized_512x512/M926910_CFL_Position7_CD3_train11_img.png', 'images/training_resized_512x512/M872956_JML_Position9_CD3_train24_img.png', 'images/training_resized_512x512/M872956_JML_Position10_CD3_train10_img.png', 'images/training_resized_512x512/M872956_JML_Position9_CD3_train12_img.png', 'images/training_resized_512x512/M926910_CFL_Position13_CD3_train1_img.png', 'images/training_resized_512x512/M872956_JML_Position8_CD3_train15_img.png', 'images/training_resized_512x512/M872956_JML_Position8_CD4_train21_img.png', 'images/training_resized_512x512/M872956_JML_Position8_CD4_train13_img.png', 'images/training_resized_512x512/M872956_JML_Position10_CD3_train11_img.png', 'images/training_resized_512x512/M926910_CFL_Position7_CD3_train6_img.png', 'images/training_resized_512x512/M872956_JML_Position8_CD3_train3_img.png', 'images/training_resized_512x512/M926910_CFL_Position7_CD3_train20_img.png', 'images/training_resized_512x512/M872956_JML_Position8_CD3_train23_img.png', 'images/training_resized_512x512/M872956_JML_Position9_CD3_train14_img.png', 'images/training_resized_512x512/M872956_JML_Position8_CD3_train18_img.png', 'images/training_resized_512x512/M872956_JML_Position9_CD3_train18_img.png', 'images/training_resized_512x512/M872956_JML_Position8_CD3_train12_img.png', 'images/training_resized_512x512/M872956_JML_Position8_CD8_train8_img.png', 'images/training_resized_512x512/M872956_JML_Position8_CD8_train15_img.png', 'images/training_resized_512x512/M926910_CFL_Position7_CD3_train0_img.png', 'images/training_resized_512x512/M926910_CFL_Position13_CD3_train21_img.png', 'images/training_resized_512x512/M872956_JML_Position8_CD8_train11_img.png', 'images/training_resized_512x512/M872956_JML_Position8_CD3_train7_img.png', 'images/training_resized_512x512/M926910_CFL_Position13_CD3_train20_img.png', 'images/training_resized_512x512/M872956_JML_Position8_CD8_train10_img.png', 'images/training_resized_512x512/M872956_JML_Position9_CD3_train11_img.png', 'images/training_resized_512x512/M872956_JML_Position8_CD3_train22_img.png', 'images/training_resized_512x512/M926910_CFL_Position13_CD3_train9_img.png', 'images/training_resized_512x512/M872956_JML_Position9_CD3_train10_img.png', 'images/training_resized_512x512/M926910_CFL_Position7_CD3_train16_img.png', 'images/training_resized_512x512/M926910_CFL_Position13_CD3_train19_img.png', 'images/training_resized_512x512/M872956_JML_Position9_CD3_train2_img.png', 'images/training_resized_512x512/M926910_CFL_Position13_CD3_train8_img.png', 'images/training_resized_512x512/M872956_JML_Position8_CD4_train23_img.png', 'images/training_resized_512x512/M926910_CFL_Position7_CD3_train23_img.png', 'images/training_resized_512x512/M872956_JML_Position8_CD4_train20_img.png', 'images/training_resized_512x512/M872956_JML_Position10_CD3_train16_img.png', 'images/training_resized_512x512/M926910_CFL_Position13_CD3_train11_img.png', 'images/training_resized_512x512/M872956_JML_Position8_CD4_train0_img.png', 'images/training_resized_512x512/M926910_CFL_Position13_CD3_train4_img.png', 'images/training_resized_512x512/M926910_CFL_Position13_CD3_train2_img.png', 'images/training_resized_512x512/M926910_CFL_Position7_CD3_train8_img.png', 'images/training_resized_512x512/M872956_JML_Position8_CD4_train19_img.png', 'images/training_resized_512x512/M872956_JML_Position8_CD4_train7_img.png', 'images/training_resized_512x512/M872956_JML_Position10_CD3_train3_img.png', 'images/training_resized_512x512/M872956_JML_Position8_CD8_train22_img.png', 'images/training_resized_512x512/M926910_CFL_Position7_CD3_train19_img.png', 'images/training_resized_512x512/M926910_CFL_Position13_CD3_train22_img.png', 'images/training_resized_512x512/M872956_JML_Position8_CD3_train14_img.png', 'images/training_resized_512x512/M872956_JML_Position8_CD8_train5_img.png', 'images/training_resized_512x512/M926910_CFL_Position7_CD3_train13_img.png', 'images/training_resized_512x512/M872956_JML_Position8_CD4_train8_img.png', 'images/training_resized_512x512/M926910_CFL_Position7_CD3_train9_img.png', 'images/training_resized_512x512/M872956_JML_Position8_CD8_train24_img.png', 'images/training_resized_512x512/M872956_JML_Position8_CD3_train16_img.png', 'images/training_resized_512x512/M926910_CFL_Position13_CD3_train0_img.png', 'images/training_resized_512x512/M872956_JML_Position8_CD4_train4_img.png', 'images/training_resized_512x512/M872956_JML_Position8_CD3_train8_img.png', 'images/training_resized_512x512/M872956_JML_Position10_CD3_train17_img.png', 'images/training_resized_512x512/M872956_JML_Position8_CD3_train13_img.png', 'images/training_resized_512x512/M872956_JML_Position8_CD8_train18_img.png', 'images/training_resized_512x512/M872956_JML_Position9_CD3_train19_img.png', 'images/training_resized_512x512/M872956_JML_Position8_CD8_train23_img.png', 'images/training_resized_512x512/M872956_JML_Position8_CD4_train11_img.png', 'images/training_resized_512x512/M872956_JML_Position8_CD4_train9_img.png', 'images/training_resized_512x512/M872956_JML_Position8_CD8_train19_img.png', 'images/training_resized_512x512/M926910_CFL_Position7_CD3_train21_img.png', 'images/training_resized_512x512/M872956_JML_Position10_CD3_train5_img.png', 'images/training_resized_512x512/M872956_JML_Position9_CD3_train22_img.png', 'images/training_resized_512x512/M872956_JML_Position8_CD3_train0_img.png', 'images/training_resized_512x512/M872956_JML_Position8_CD4_train12_img.png', 'images/training_resized_512x512/M872956_JML_Position8_CD8_train14_img.png', 'images/training_resized_512x512/M872956_JML_Position8_CD4_train10_img.png', 'images/training_resized_512x512/M872956_JML_Position10_CD3_train0_img.png', 'images/training_resized_512x512/M872956_JML_Position8_CD8_train0_img.png', 'images/training_resized_512x512/M872956_JML_Position10_CD3_train19_img.png', 'images/training_resized_512x512/M926910_CFL_Position13_CD3_train5_img.png', 'images/training_resized_512x512/M926910_CFL_Position7_CD3_train1_img.png', 'images/training_resized_512x512/M926910_CFL_Position13_CD3_train7_img.png', 'images/training_resized_512x512/M872956_JML_Position8_CD8_train4_img.png', 'images/training_resized_512x512/M926910_CFL_Position13_CD3_train13_img.png', 'images/training_resized_512x512/M872956_JML_Position10_CD3_train9_img.png', 'images/training_resized_512x512/M872956_JML_Position9_CD3_train17_img.png', 'images/training_resized_512x512/M872956_JML_Position8_CD4_train16_img.png', 'images/training_resized_512x512/M926910_CFL_Position7_CD3_train17_img.png', 'images/training_resized_512x512/M872956_JML_Position8_CD8_train7_img.png', 'images/training_resized_512x512/M872956_JML_Position8_CD4_train5_img.png', 'images/training_resized_512x512/M872956_JML_Position8_CD8_train13_img.png', 'images/training_resized_512x512/M872956_JML_Position8_CD8_train16_img.png', 'images/training_resized_512x512/M926910_CFL_Position13_CD3_train23_img.png', 'images/training_resized_512x512/M872956_JML_Position8_CD3_train10_img.png', 'images/training_resized_512x512/M872956_JML_Position8_CD3_train24_img.png', 'images/training_resized_512x512/M872956_JML_Position8_CD3_train5_img.png', 'images/training_resized_512x512/M872956_JML_Position8_CD4_train18_img.png', 'images/training_resized_512x512/M926910_CFL_Position13_CD3_train24_img.png', 'images/training_resized_512x512/M872956_JML_Position9_CD3_train0_img.png', 'images/training_resized_512x512/M926910_CFL_Position7_CD3_train2_img.png', 'images/training_resized_512x512/M926910_CFL_Position7_CD3_train22_img.png', 'images/training_resized_512x512/M872956_JML_Position8_CD3_train11_img.png', 'images/training_resized_512x512/M872956_JML_Position10_CD3_train18_img.png', 'images/training_resized_512x512/M872956_JML_Position8_CD3_train6_img.png', 'images/training_resized_512x512/M872956_JML_Position8_CD4_train15_img.png', 'images/training_resized_512x512/M872956_JML_Position10_CD3_train22_img.png']\n"
     ]
    }
   ],
   "source": [
    "import glob\n",
    "FILENAMES = glob.glob(INPUT_PATH+\"*_img.png\")\n",
    "print(len(FILENAMES))\n",
    "print(FILENAMES)"
   ]
  },
  {
   "cell_type": "code",
   "execution_count": 27,
   "id": "1bac06f7",
   "metadata": {},
   "outputs": [
    {
     "name": "stdout",
     "output_type": "stream",
     "text": [
      "(175, 512, 512, 1)\n",
      "(175, 512, 512, 1)\n"
     ]
    }
   ],
   "source": [
    "imgs = [io.imread(CURR_IM_NAME) for CURR_IM_NAME in FILENAMES]\n",
    "X_train = tf.stack(imgs)\n",
    "X_train = np.expand_dims(X_train, axis=-1)\n",
    "print(X_train.shape)\n",
    "\n",
    "masks = [io.imread(CURR_IM_NAME.replace(\"img\",\"masks\")) for CURR_IM_NAME in FILENAMES]\n",
    "y_train = tf.stack(masks)\n",
    "y_train = np.expand_dims(y_train, axis=-1)\n",
    "print(y_train.shape)"
   ]
  },
  {
   "cell_type": "code",
   "execution_count": 29,
   "id": "b5b77d27",
   "metadata": {},
   "outputs": [
    {
     "data": {
      "text/plain": [
       "2688"
      ]
     },
     "execution_count": 29,
     "metadata": {},
     "output_type": "execute_result"
    }
   ],
   "source": [
    "np.max(masks) # sanity check"
   ]
  },
  {
   "cell_type": "code",
   "execution_count": 43,
   "id": "73d0c5d8",
   "metadata": {},
   "outputs": [
    {
     "name": "stdout",
     "output_type": "stream",
     "text": [
      "WARNING:tensorflow:Removing 4 of 175 images with fewer than 10 objects.\n",
      "306615\n"
     ]
    }
   ],
   "source": [
    "# create dataloader\n",
    "seed=0\n",
    "min_objects = 10\n",
    "\n",
    "transforms = ['inner-distance', 'outer-distance', 'fgbg']\n",
    "transforms_kwargs = {'outer-distance': {'erosion_width': 0}}\n",
    "\n",
    "# use augmentation for training but not validation\n",
    "datagen = image_generators.SemanticDataGenerator(\n",
    "    rotation_range=180,\n",
    "    fill_mode='reflect',\n",
    "    zoom_range=(0.75, 1.25),\n",
    "    horizontal_flip=True,\n",
    "    vertical_flip=True)\n",
    "\n",
    "datagen_val = image_generators.CroppingDataGenerator()\n",
    "\n",
    "batch_size = 4 # 8 causes memory outage\n",
    "\n",
    "train_data = datagen.flow(\n",
    "    {'X': X_train, 'y': y_train},\n",
    "    seed=seed,\n",
    "    transforms=transforms,\n",
    "    transforms_kwargs=transforms_kwargs,\n",
    "    min_objects=min_objects,\n",
    "    batch_size=batch_size)\n",
    "\n",
    "val_data = None\n",
    "# datagen_val.flow(\n",
    "#     {'X': X_val, 'y': y_val},\n",
    "#     seed=seed,\n",
    "#     transforms=transforms,\n",
    "#     transforms_kwargs=transforms_kwargs,\n",
    "#     min_objects=min_objects,\n",
    "#     batch_size=batch_size)\n",
    "\n",
    "# get number of training and validation instances\n",
    "\n",
    "cnts_train = [np.max(y_train[i,...]) for i in range(y_train.shape[0])]\n",
    "print(np.sum(cnts_train)) # total number of training instances"
   ]
  },
  {
   "cell_type": "code",
   "execution_count": 116,
   "id": "79134121",
   "metadata": {},
   "outputs": [
    {
     "name": "stdout",
     "output_type": "stream",
     "text": [
      "[   1   10   10   10   28   41   44   52   58   72   76   80   82   89\n",
      "  101  107  107  113  116  128  160  163  167  179  192  223  224  224\n",
      "  248  256  261  265  270  275  279  280  287  287  292  301  305  313\n",
      "  325  328  331  364  371  377  390  441  464  478  514  574  575  580\n",
      "  582  591  611  634  647  653  653  655  667  669  675  678  682  682\n",
      "  721  727  728  732  749  751  761  783  793  798  799  821  842  842\n",
      "  849  850  859  860  866  885  902  903  928  940  965  977  993  995\n",
      "  997 1003 1008 1014 1026 1035 1037 1038 1040 1056 1069 1081 1083 1083\n",
      " 1087 1123 1129 1129 1135 1135 1142 1149 1149 1167 1175 1178 1191 1209\n",
      " 1218 1222 1254 1281 1288 1307 1311 1312 1330 1369 1379 1385 1439 1446\n",
      " 1450 1475 1481 1486 1492 1493 1517 1536 1537 1540 1548 1561 1567 1574\n",
      " 1588 1661 1662 1677 1704 1707 1719 1789 1796 1797 1807 1818 1840 1851\n",
      " 1863 1991 1995 2036 2063 2113 2136]\n",
      "[143, 42, 120, 151, 128, 67, 136, 63, 18]\n"
     ]
    }
   ],
   "source": [
    "mask_cnt=[len(np.unique(x)) for x in masks]\n",
    "print(np.sort(mask_cnt))\n",
    "indices = [mask_cnt.index(1)]\n",
    "indices.extend([i for i, x in enumerate(mask_cnt) if x == 10])\n",
    "indices.extend([i for i, x in enumerate(mask_cnt) if x == 28])\n",
    "indices.extend([i for i, x in enumerate(mask_cnt) if x == 41])\n",
    "indices.extend([i for i, x in enumerate(mask_cnt) if x == 44])\n",
    "indices.extend([i for i, x in enumerate(mask_cnt) if x == 52])\n",
    "indices.extend([i for i, x in enumerate(mask_cnt) if x == 58])\n",
    "print(indices)"
   ]
  },
  {
   "cell_type": "code",
   "execution_count": 105,
   "id": "33f4ed80",
   "metadata": {},
   "outputs": [
    {
     "data": {
      "text/plain": [
       "['images/training_resized_512x512/M872956_JML_Position8_CD8_train14_img.png',\n",
       " 'images/training_resized_512x512/M872956_JML_Position8_CD8_train9_img.png',\n",
       " 'images/training_resized_512x512/M872956_JML_Position8_CD3_train14_img.png',\n",
       " 'images/training_resized_512x512/M872956_JML_Position8_CD8_train4_img.png',\n",
       " 'images/training_resized_512x512/M872956_JML_Position8_CD4_train4_img.png',\n",
       " 'images/training_resized_512x512/M872956_JML_Position8_CD8_train3_img.png',\n",
       " 'images/training_resized_512x512/M872956_JML_Position8_CD4_train9_img.png',\n",
       " 'images/training_resized_512x512/M872956_JML_Position8_CD4_train14_img.png',\n",
       " 'images/training_resized_512x512/M872956_JML_Position8_CD3_train9_img.png']"
      ]
     },
     "execution_count": 105,
     "metadata": {},
     "output_type": "execute_result"
    }
   ],
   "source": [
    "[FILENAMES[x] for x in indices]"
   ]
  },
  {
   "cell_type": "code",
   "execution_count": 127,
   "id": "248e85a6",
   "metadata": {},
   "outputs": [
    {
     "name": "stdout",
     "output_type": "stream",
     "text": [
      "images/training_resized_512x512/M872956_JML_Position8_CD3_train9_img.png\n"
     ]
    },
    {
     "data": {
      "image/png": "[encoded data removed]",
      "text/plain": [
       "<Figure size 432x288 with 2 Axes>"
      ]
     },
     "metadata": {
      "needs_background": "light"
     },
     "output_type": "display_data"
    },
    {
     "name": "stdout",
     "output_type": "stream",
     "text": [
      "[   0   46   57   74  104  138  140  173  184  187  224  231  298  313\n",
      "  322  324  325  327  404  414  417  421  519  522  552  561  598  599\n",
      "  601  605  607  608  672  690  693  699  702  730  737  739  740  742\n",
      "  743  746  748  749  750  866  896  924  939  970 1120 1195 1252 1356\n",
      " 1565 1670]\n",
      "[   0   46   57   74  104  138  140  173  184  187  224  231  298  313\n",
      "  322  324  325  327  404  414  417  421  519  522  552  561  598  599\n",
      "  601  605  607  608  672  690  693  699  702  730  737  739  740  742\n",
      "  743  746  748  749  750  896  924  939  970 1120 1195 1252 1356 1565\n",
      " 1670]\n"
     ]
    }
   ],
   "source": [
    "i=18\n",
    "print(FILENAMES[i])\n",
    "tmp=syotil.masks_to_outlines(io.imread(FILENAMES[i].replace(\"_img\",\"_masks\")))\n",
    "plt.subplot(1, 2, 1) # row 1, col 2 index 1\n",
    "io.imshow(tmp)\n",
    "plt.subplot(1, 2, 2) # row 1, col 2 index 1\n",
    "io.imshow(io.imread(FILENAMES[i]))\n",
    "plt.show()\n",
    "print(np.unique(masks[i]))\n",
    "print(np.unique(masks[i][10:500,10:500]))"
   ]
  },
  {
   "cell_type": "code",
   "execution_count": 129,
   "id": "72c000fa",
   "metadata": {},
   "outputs": [
    {
     "name": "stdout",
     "output_type": "stream",
     "text": [
      "[   0.   46.   57.   74.  104.  138.  140.  173.  184.  187.  224.  231.\n",
      "  298.  313.  322.  324.  325.  327.  404.  414.  417.  421.  519.  522.\n",
      "  552.  561.  598.  599.  601.  605.  607.  608.  672.  690.  693.  699.\n",
      "  702.  730.  737.  739.  740.  742.  743.  746.  748.  749.  750.  866.\n",
      "  896.  924.  939.  970. 1120. 1195. 1252. 1356. 1565. 1670.   inf]\n"
     ]
    },
    {
     "data": {
      "text/plain": [
       "(array([258432,     20,      8,     26,     14,     16,     24,     15,\n",
       "            42,     42,     52,     23,     80,     30,      6,      1,\n",
       "             3,     10,      6,      8,     44,     12,      7,     22,\n",
       "            42,     42,     12,      1,      3,      1,      3,     20,\n",
       "            26,      6,     24,      3,     10,     12,    300,      8,\n",
       "            12,      3,      4,     18,      3,    520,     11,      5,\n",
       "            80,    170,     16,     44,     22,   1220,     52,     24,\n",
       "            12,    472]),\n",
       " array([   0.,   46.,   57.,   74.,  104.,  138.,  140.,  173.,  184.,\n",
       "         187.,  224.,  231.,  298.,  313.,  322.,  324.,  325.,  327.,\n",
       "         404.,  414.,  417.,  421.,  519.,  522.,  552.,  561.,  598.,\n",
       "         599.,  601.,  605.,  607.,  608.,  672.,  690.,  693.,  699.,\n",
       "         702.,  730.,  737.,  739.,  740.,  742.,  743.,  746.,  748.,\n",
       "         749.,  750.,  866.,  896.,  924.,  939.,  970., 1120., 1195.,\n",
       "        1252., 1356., 1565., 1670.,   inf]))"
      ]
     },
     "execution_count": 129,
     "metadata": {},
     "output_type": "execute_result"
    }
   ],
   "source": [
    "np.histogram(masks[i], bins=np.append(np.unique(masks[i]), np.inf))"
   ]
  },
  {
   "cell_type": "code",
   "execution_count": 106,
   "id": "302d8f7d",
   "metadata": {},
   "outputs": [
    {
     "name": "stdout",
     "output_type": "stream",
     "text": [
      "[   0   46   57   74  104  138  140  173  184  187  224  231  298  313\n",
      "  322  324  325  327  404  414  417  421  519  522  552  561  598  599\n",
      "  601  605  607  608  672  690  693  699  702  730  737  739  740  742\n",
      "  743  746  748  749  750  866  896  924  939  970 1120 1195 1252 1356\n",
      " 1565 1670]\n"
     ]
    },
    {
     "data": {
      "text/plain": [
       "ModeResult(mode=array([[0, 0, 0, 0, 0, 0, 0, 0, 0, 0, 0, 0, 0, 0, 0, 0, 0, 0, 0, 0, 0, 0,\n",
       "        0, 0, 0, 0, 0, 0, 0, 0, 0, 0, 0, 0, 0, 0, 0, 0, 0, 0, 0, 0, 0, 0,\n",
       "        0, 0, 0, 0, 0, 0, 0, 0, 0, 0, 0, 0, 0, 0, 0, 0, 0, 0, 0, 0, 0, 0,\n",
       "        0, 0, 0, 0, 0, 0, 0, 0, 0, 0, 0, 0, 0, 0, 0, 0, 0, 0, 0, 0, 0, 0,\n",
       "        0, 0, 0, 0, 0, 0, 0, 0, 0, 0, 0, 0, 0, 0, 0, 0, 0, 0, 0, 0, 0, 0,\n",
       "        0, 0, 0, 0, 0, 0, 0, 0, 0, 0, 0, 0, 0, 0, 0, 0, 0, 0, 0, 0, 0, 0,\n",
       "        0, 0, 0, 0, 0, 0, 0, 0, 0, 0, 0, 0, 0, 0, 0, 0, 0, 0, 0, 0, 0, 0,\n",
       "        0, 0, 0, 0, 0, 0, 0, 0, 0, 0, 0, 0, 0, 0, 0, 0, 0, 0, 0, 0, 0, 0,\n",
       "        0, 0, 0, 0, 0, 0, 0, 0, 0, 0, 0, 0, 0, 0, 0, 0, 0, 0, 0, 0, 0, 0,\n",
       "        0, 0, 0, 0, 0, 0, 0, 0, 0, 0, 0, 0, 0, 0, 0, 0, 0, 0, 0, 0, 0, 0,\n",
       "        0, 0, 0, 0, 0, 0, 0, 0, 0, 0, 0, 0, 0, 0, 0, 0, 0, 0, 0, 0, 0, 0,\n",
       "        0, 0, 0, 0, 0, 0, 0, 0, 0, 0, 0, 0, 0, 0, 0, 0, 0, 0, 0, 0, 0, 0,\n",
       "        0, 0, 0, 0, 0, 0, 0, 0, 0, 0, 0, 0, 0, 0, 0, 0, 0, 0, 0, 0, 0, 0,\n",
       "        0, 0, 0, 0, 0, 0, 0, 0, 0, 0, 0, 0, 0, 0, 0, 0, 0, 0, 0, 0, 0, 0,\n",
       "        0, 0, 0, 0, 0, 0, 0, 0, 0, 0, 0, 0, 0, 0, 0, 0, 0, 0, 0, 0, 0, 0,\n",
       "        0, 0, 0, 0, 0, 0, 0, 0, 0, 0, 0, 0, 0, 0, 0, 0, 0, 0, 0, 0, 0, 0,\n",
       "        0, 0, 0, 0, 0, 0, 0, 0, 0, 0, 0, 0, 0, 0, 0, 0, 0, 0, 0, 0, 0, 0,\n",
       "        0, 0, 0, 0, 0, 0, 0, 0, 0, 0, 0, 0, 0, 0, 0, 0, 0, 0, 0, 0, 0, 0,\n",
       "        0, 0, 0, 0, 0, 0, 0, 0, 0, 0, 0, 0, 0, 0, 0, 0, 0, 0, 0, 0, 0, 0,\n",
       "        0, 0, 0, 0, 0, 0, 0, 0, 0, 0, 0, 0, 0, 0, 0, 0, 0, 0, 0, 0, 0, 0,\n",
       "        0, 0, 0, 0, 0, 0, 0, 0, 0, 0, 0, 0, 0, 0, 0, 0, 0, 0, 0, 0, 0, 0,\n",
       "        0, 0, 0, 0, 0, 0, 0, 0, 0, 0, 0, 0, 0, 0, 0, 0, 0, 0, 0, 0, 0, 0,\n",
       "        0, 0, 0, 0, 0, 0, 0, 0, 0, 0, 0, 0, 0, 0, 0, 0, 0, 0, 0, 0, 0, 0,\n",
       "        0, 0, 0, 0, 0, 0]], dtype=uint8), count=array([[512, 512, 512, 512, 512, 512, 512, 512, 512, 512, 512, 512, 512,\n",
       "        512, 512, 512, 512, 512, 512, 512, 512, 512, 512, 512, 512, 512,\n",
       "        512, 512, 512, 512, 512, 512, 512, 512, 512, 512, 512, 512, 512,\n",
       "        512, 512, 512, 512, 512, 512, 512, 512, 512, 512, 512, 512, 512,\n",
       "        512, 512, 512, 512, 512, 512, 512, 512, 512, 512, 512, 512, 512,\n",
       "        512, 512, 512, 512, 512, 512, 512, 512, 512, 512, 512, 512, 512,\n",
       "        512, 512, 512, 512, 512, 512, 512, 512, 512, 512, 512, 512, 512,\n",
       "        512, 512, 512, 512, 512, 512, 512, 512, 512, 512, 512, 512, 512,\n",
       "        512, 512, 512, 512, 512, 512, 512, 512, 512, 512, 512, 512, 512,\n",
       "        512, 512, 512, 512, 512, 512, 512, 512, 512, 512, 512, 512, 512,\n",
       "        512, 512, 512, 512, 512, 512, 512, 512, 512, 512, 512, 512, 512,\n",
       "        512, 512, 512, 512, 512, 512, 512, 512, 512, 512, 512, 512, 512,\n",
       "        512, 512, 512, 512, 512, 512, 512, 512, 512, 512, 512, 512, 512,\n",
       "        512, 512, 512, 512, 512, 512, 512, 512, 512, 512, 512, 512, 512,\n",
       "        512, 512, 512, 512, 512, 512, 512, 512, 512, 512, 512, 512, 512,\n",
       "        512, 512, 512, 512, 512, 512, 512, 512, 512, 512, 512, 512, 512,\n",
       "        512, 512, 512, 512, 512, 512, 512, 512, 512, 512, 512, 512, 512,\n",
       "        512, 512, 512, 512, 512, 512, 512, 512, 512, 512, 512, 512, 512,\n",
       "        512, 512, 512, 512, 512, 512, 512, 512, 512, 512, 512, 512, 512,\n",
       "        512, 512, 512, 512, 512, 512, 512, 512, 512, 512, 512, 512, 512,\n",
       "        512, 512, 512, 512, 512, 512, 512, 512, 512, 512, 512, 512, 512,\n",
       "        512, 512, 512, 512, 512, 512, 512, 512, 512, 512, 512, 512, 512,\n",
       "        512, 512, 512, 512, 512, 512, 512, 512, 512, 512, 512, 512, 512,\n",
       "        512, 512, 512, 512, 512, 512, 512, 512, 512, 512, 512, 512, 512,\n",
       "        512, 512, 512, 512, 512, 512, 512, 512, 512, 512, 512, 512, 512,\n",
       "        512, 512, 512, 512, 512, 512, 512, 512, 512, 512, 512, 512, 512,\n",
       "        512, 512, 512, 512, 512, 512, 512, 512, 512, 512, 512, 512, 512,\n",
       "        512, 512, 512, 512, 512, 512, 512, 512, 512, 512, 512, 512, 512,\n",
       "        512, 512, 512, 512, 512, 512, 512, 512, 512, 512, 512, 512, 512,\n",
       "        512, 512, 512, 512, 512, 512, 512, 512, 512, 512, 512, 512, 512,\n",
       "        512, 512, 512, 512, 512, 512, 512, 512, 512, 512, 512, 512, 512,\n",
       "        512, 512, 512, 512, 512, 512, 512, 512, 512, 512, 512, 512, 512,\n",
       "        512, 512, 512, 512, 512, 512, 512, 512, 512, 512, 512, 512, 512,\n",
       "        512, 512, 512, 512, 512, 512, 512, 512, 512, 512, 512, 512, 512,\n",
       "        512, 512, 512, 512, 512, 512, 512, 512, 512, 512, 512, 512, 512,\n",
       "        512, 512, 512, 512, 512, 512, 512, 512, 512, 512, 512, 512, 512,\n",
       "        512, 512, 512, 512, 512, 512, 512, 512, 512, 512, 512, 512, 512,\n",
       "        512, 512, 512, 512, 512, 512, 512, 512, 512, 512, 512, 512, 512,\n",
       "        512, 512, 512, 512, 512, 512, 512, 512, 512, 512, 512, 512, 512,\n",
       "        512, 512, 512, 512, 512]]))"
      ]
     },
     "execution_count": 106,
     "metadata": {},
     "output_type": "execute_result"
    }
   ],
   "source": [
    "import sys\n",
    "np.set_printoptions(threshold=sys.maxsize)\n",
    "print(np.unique(masks[18]))\n",
    "#print(masks[143])\n",
    "# from collections import Counter\n",
    "# Counter(masks[143]).keys()\n",
    "import scipy\n",
    "max_votes = scipy.stats.mode(masks[143])\n",
    "max_votes"
   ]
  },
  {
   "cell_type": "code",
   "execution_count": 16,
   "id": "0b79383a",
   "metadata": {},
   "outputs": [
    {
     "name": "stderr",
     "output_type": "stream",
     "text": [
      "/app/software/scikit-image/0.19.1-foss-2021b/lib/python3.9/site-packages/skimage/io/_plugins/matplotlib_plugin.py:150: UserWarning: Low image data range; displaying image with stretched contrast.\n",
      "  lo, hi, cmap = _get_display_range(image)\n"
     ]
    },
    {
     "data": {
      "image/png": "[encoded data removed]",
      "text/plain": [
       "<Figure size 432x288 with 3 Axes>"
      ]
     },
     "metadata": {
      "needs_background": "light"
     },
     "output_type": "display_data"
    }
   ],
   "source": [
    "i=5\n",
    "plt.subplot(1, 2, 1) # row 1, col 2 index 1\n",
    "io.imshow(X_train[i,:,:,0])\n",
    "plt.subplot(1, 2, 2) # row 1, col 2 index 1\n",
    "io.imshow(y_train[i,:,:,0])\n",
    "plt.show()"
   ]
  },
  {
   "cell_type": "code",
   "execution_count": 18,
   "id": "a57ef166",
   "metadata": {},
   "outputs": [
    {
     "data": {
      "text/plain": [
       "0"
      ]
     },
     "execution_count": 18,
     "metadata": {},
     "output_type": "execute_result"
    }
   ],
   "source": [
    "np.max(y_train[i,:,:,0])"
   ]
  },
  {
   "cell_type": "markdown",
   "id": "9591736f",
   "metadata": {},
   "source": [
    "**The two cells below define and train the model.** They can be skipped if a trained model will be loaded."
   ]
  },
  {
   "cell_type": "code",
   "execution_count": null,
   "id": "7ebc07f0",
   "metadata": {},
   "outputs": [],
   "source": [
    "semantic_classes = [1, 1, 2] # inner distance, outer distance, fgbg\n",
    "\n",
    "model = PanopticNet(\n",
    "    backbone='resnet50',\n",
    "    input_shape=(512,512,1),\n",
    "    norm_method='whole_image',\n",
    "    num_semantic_classes=semantic_classes)\n",
    "\n",
    "lr = 1e-4\n",
    "optimizer = Adam(lr=lr, clipnorm=0.001)\n",
    "lr_sched = rate_scheduler(lr=lr, decay=0.99)\n",
    "\n",
    "# Create a dictionary of losses for each semantic head\n",
    "\n",
    "def semantic_loss(n_classes):\n",
    "    def _semantic_loss(y_pred, y_true):\n",
    "        if n_classes > 1:\n",
    "            return 0.01 * weighted_categorical_crossentropy(\n",
    "                y_pred, y_true, n_classes=n_classes)\n",
    "        return MSE(y_pred, y_true)\n",
    "    return _semantic_loss\n",
    "\n",
    "loss = {}\n",
    "\n",
    "# Give losses for all of the semantic heads\n",
    "for layer in model.layers:\n",
    "    if layer.name.startswith('semantic_'):\n",
    "        n_classes = layer.output_shape[-1]\n",
    "        loss[layer.name] = semantic_loss(n_classes)\n",
    "        \n",
    "model.compile(loss=loss, optimizer=optimizer)\n",
    "\n",
    "model.load_weights(starting_model_path, by_name=True)\n",
    "\n",
    "[(layer.name, layer.output_shape) for layer in filter(lambda x: x.name.startswith('semantic_'), model.layers)]"
   ]
  },
  {
   "cell_type": "code",
   "execution_count": null,
   "id": "b4095bff",
   "metadata": {},
   "outputs": [],
   "source": [
    "train_data.y.shape[0] // batch_size"
   ]
  },
  {
   "cell_type": "code",
   "execution_count": null,
   "id": "b1fab4f5",
   "metadata": {},
   "outputs": [],
   "source": [
    "# fit the model\n",
    "print('Training on', count_gpus(), 'GPUs.')\n",
    "\n",
    "train_callbacks = get_callbacks(\n",
    "    model_path,\n",
    "    lr_sched=lr_sched,\n",
    "#     monitor=\"val_loss\",\n",
    "    # monitor='loss', # training loss\n",
    "    verbose=1)          \n",
    "            \n",
    "loss_history = model.fit(\n",
    "    train_data,\n",
    "    steps_per_epoch=train_data.y.shape[0] // batch_size, # \n",
    "    epochs=epochs, \n",
    "#     validation_data=val_data,\n",
    "#     validation_steps=val_data.y.shape[0] // batch_size,\n",
    "    callbacks=train_callbacks)\n",
    "\n",
    "model.save_weights(model_path)"
   ]
  },
  {
   "cell_type": "markdown",
   "id": "42277d43",
   "metadata": {},
   "source": [
    "**Make prediction on K's data.**<br>\n",
    "Using NuclearSegmentation allows setting image_mpp, which has a substantial influence on performance."
   ]
  },
  {
   "cell_type": "code",
   "execution_count": null,
   "id": "dbf36df1",
   "metadata": {},
   "outputs": [],
   "source": [
    "prediction_model = PanopticNet(\n",
    "    backbone='resnet50',\n",
    "    norm_method='whole_image',\n",
    "    num_semantic_classes=[1, 1], # inner distance, outer distance\n",
    "    input_shape= (512,512,1)\n",
    ")\n",
    "\n",
    "prediction_model.load_weights(model_path, by_name=True)"
   ]
  },
  {
   "cell_type": "code",
   "execution_count": null,
   "id": "37a766dc",
   "metadata": {},
   "outputs": [],
   "source": [
    "from deepcell.applications import NuclearSegmentation\n",
    "app = NuclearSegmentation(prediction_model)\n",
    "[(layer.name, layer.output_shape) for layer in filter(lambda x: x.name.startswith('semantic_'), app.model.layers)]"
   ]
  },
  {
   "cell_type": "code",
   "execution_count": null,
   "id": "20301e2d",
   "metadata": {},
   "outputs": [],
   "source": [
    "import os\n",
    "print(os.getcwd())\n",
    "INPUT_PATH=\"images/test/\"\n",
    "FILENAMES = [f for f in os.listdir(\"images/training/testimages\")]\n",
    "print(FILENAMES)"
   ]
  },
  {
   "cell_type": "code",
   "execution_count": 23,
   "id": "a2eaeaa5",
   "metadata": {},
   "outputs": [
    {
     "name": "stdout",
     "output_type": "stream",
     "text": [
      "images/training_resized_512x512/M872956_JML_Position8_CD8_train21_img.png\n"
     ]
    },
    {
     "ename": "FileNotFoundError",
     "evalue": "No such file: '/home/yfong/deeplearning/dense_cell_segmentation/images/training_resized_512x512/images/training_resized_512x512/M872956_JML_Position8_CD8_train21_img.png'",
     "output_type": "error",
     "traceback": [
      "\u001b[0;31m---------------------------------------------------------------------------\u001b[0m",
      "\u001b[0;31mFileNotFoundError\u001b[0m                         Traceback (most recent call last)",
      "\u001b[0;32m/tmp/ipykernel_8017/3980446651.py\u001b[0m in \u001b[0;36m<module>\u001b[0;34m\u001b[0m\n\u001b[1;32m      3\u001b[0m \u001b[0;32mfor\u001b[0m \u001b[0mCURR_IM_NAME\u001b[0m \u001b[0;32min\u001b[0m \u001b[0mFILENAMES\u001b[0m\u001b[0;34m:\u001b[0m\u001b[0;34m\u001b[0m\u001b[0;34m\u001b[0m\u001b[0m\n\u001b[1;32m      4\u001b[0m     \u001b[0mprint\u001b[0m\u001b[0;34m(\u001b[0m\u001b[0mCURR_IM_NAME\u001b[0m\u001b[0;34m)\u001b[0m\u001b[0;34m\u001b[0m\u001b[0;34m\u001b[0m\u001b[0m\n\u001b[0;32m----> 5\u001b[0;31m     \u001b[0mim0\u001b[0m \u001b[0;34m=\u001b[0m \u001b[0mio\u001b[0m\u001b[0;34m.\u001b[0m\u001b[0mimread\u001b[0m\u001b[0;34m(\u001b[0m\u001b[0mos\u001b[0m\u001b[0;34m.\u001b[0m\u001b[0mpath\u001b[0m\u001b[0;34m.\u001b[0m\u001b[0mjoin\u001b[0m\u001b[0;34m(\u001b[0m\u001b[0mINPUT_PATH\u001b[0m\u001b[0;34m,\u001b[0m \u001b[0mCURR_IM_NAME\u001b[0m\u001b[0;34m)\u001b[0m\u001b[0;34m)\u001b[0m\u001b[0;34m\u001b[0m\u001b[0;34m\u001b[0m\u001b[0m\n\u001b[0m\u001b[1;32m      6\u001b[0m     \u001b[0mmask_true\u001b[0m\u001b[0;34m=\u001b[0m\u001b[0mio\u001b[0m\u001b[0;34m.\u001b[0m\u001b[0mimread\u001b[0m\u001b[0;34m(\u001b[0m\u001b[0mos\u001b[0m\u001b[0;34m.\u001b[0m\u001b[0mpath\u001b[0m\u001b[0;34m.\u001b[0m\u001b[0mjoin\u001b[0m\u001b[0;34m(\u001b[0m\u001b[0mINPUT_PATH\u001b[0m\u001b[0;34m,\u001b[0m \u001b[0mCURR_IM_NAME\u001b[0m\u001b[0;34m.\u001b[0m\u001b[0mreplace\u001b[0m\u001b[0;34m(\u001b[0m\u001b[0;34m\"img\"\u001b[0m\u001b[0;34m,\u001b[0m\u001b[0;34m\"masks\"\u001b[0m\u001b[0;34m)\u001b[0m\u001b[0;34m)\u001b[0m\u001b[0;34m)\u001b[0m\u001b[0;34m\u001b[0m\u001b[0;34m\u001b[0m\u001b[0m\n\u001b[1;32m      7\u001b[0m \u001b[0;34m\u001b[0m\u001b[0m\n",
      "\u001b[0;32m/app/software/scikit-image/0.19.1-foss-2021b/lib/python3.9/site-packages/skimage/io/_io.py\u001b[0m in \u001b[0;36mimread\u001b[0;34m(fname, as_gray, plugin, **plugin_args)\u001b[0m\n\u001b[1;32m     51\u001b[0m \u001b[0;34m\u001b[0m\u001b[0m\n\u001b[1;32m     52\u001b[0m     \u001b[0;32mwith\u001b[0m \u001b[0mfile_or_url_context\u001b[0m\u001b[0;34m(\u001b[0m\u001b[0mfname\u001b[0m\u001b[0;34m)\u001b[0m \u001b[0;32mas\u001b[0m \u001b[0mfname\u001b[0m\u001b[0;34m:\u001b[0m\u001b[0;34m\u001b[0m\u001b[0;34m\u001b[0m\u001b[0m\n\u001b[0;32m---> 53\u001b[0;31m         \u001b[0mimg\u001b[0m \u001b[0;34m=\u001b[0m \u001b[0mcall_plugin\u001b[0m\u001b[0;34m(\u001b[0m\u001b[0;34m'imread'\u001b[0m\u001b[0;34m,\u001b[0m \u001b[0mfname\u001b[0m\u001b[0;34m,\u001b[0m \u001b[0mplugin\u001b[0m\u001b[0;34m=\u001b[0m\u001b[0mplugin\u001b[0m\u001b[0;34m,\u001b[0m \u001b[0;34m**\u001b[0m\u001b[0mplugin_args\u001b[0m\u001b[0;34m)\u001b[0m\u001b[0;34m\u001b[0m\u001b[0;34m\u001b[0m\u001b[0m\n\u001b[0m\u001b[1;32m     54\u001b[0m \u001b[0;34m\u001b[0m\u001b[0m\n\u001b[1;32m     55\u001b[0m     \u001b[0;32mif\u001b[0m \u001b[0;32mnot\u001b[0m \u001b[0mhasattr\u001b[0m\u001b[0;34m(\u001b[0m\u001b[0mimg\u001b[0m\u001b[0;34m,\u001b[0m \u001b[0;34m'ndim'\u001b[0m\u001b[0;34m)\u001b[0m\u001b[0;34m:\u001b[0m\u001b[0;34m\u001b[0m\u001b[0;34m\u001b[0m\u001b[0m\n",
      "\u001b[0;32m/app/software/scikit-image/0.19.1-foss-2021b/lib/python3.9/site-packages/skimage/io/manage_plugins.py\u001b[0m in \u001b[0;36mcall_plugin\u001b[0;34m(kind, *args, **kwargs)\u001b[0m\n\u001b[1;32m    205\u001b[0m                                (plugin, kind))\n\u001b[1;32m    206\u001b[0m \u001b[0;34m\u001b[0m\u001b[0m\n\u001b[0;32m--> 207\u001b[0;31m     \u001b[0;32mreturn\u001b[0m \u001b[0mfunc\u001b[0m\u001b[0;34m(\u001b[0m\u001b[0;34m*\u001b[0m\u001b[0margs\u001b[0m\u001b[0;34m,\u001b[0m \u001b[0;34m**\u001b[0m\u001b[0mkwargs\u001b[0m\u001b[0;34m)\u001b[0m\u001b[0;34m\u001b[0m\u001b[0;34m\u001b[0m\u001b[0m\n\u001b[0m\u001b[1;32m    208\u001b[0m \u001b[0;34m\u001b[0m\u001b[0m\n\u001b[1;32m    209\u001b[0m \u001b[0;34m\u001b[0m\u001b[0m\n",
      "\u001b[0;32m/app/software/scikit-image/0.19.1-foss-2021b/lib/python3.9/site-packages/skimage/io/_plugins/imageio_plugin.py\u001b[0m in \u001b[0;36mimread\u001b[0;34m(*args, **kwargs)\u001b[0m\n\u001b[1;32m      8\u001b[0m \u001b[0;34m@\u001b[0m\u001b[0mwraps\u001b[0m\u001b[0;34m(\u001b[0m\u001b[0mimageio_imread\u001b[0m\u001b[0;34m)\u001b[0m\u001b[0;34m\u001b[0m\u001b[0;34m\u001b[0m\u001b[0m\n\u001b[1;32m      9\u001b[0m \u001b[0;32mdef\u001b[0m \u001b[0mimread\u001b[0m\u001b[0;34m(\u001b[0m\u001b[0;34m*\u001b[0m\u001b[0margs\u001b[0m\u001b[0;34m,\u001b[0m \u001b[0;34m**\u001b[0m\u001b[0mkwargs\u001b[0m\u001b[0;34m)\u001b[0m\u001b[0;34m:\u001b[0m\u001b[0;34m\u001b[0m\u001b[0;34m\u001b[0m\u001b[0m\n\u001b[0;32m---> 10\u001b[0;31m     \u001b[0;32mreturn\u001b[0m \u001b[0mnp\u001b[0m\u001b[0;34m.\u001b[0m\u001b[0masarray\u001b[0m\u001b[0;34m(\u001b[0m\u001b[0mimageio_imread\u001b[0m\u001b[0;34m(\u001b[0m\u001b[0;34m*\u001b[0m\u001b[0margs\u001b[0m\u001b[0;34m,\u001b[0m \u001b[0;34m**\u001b[0m\u001b[0mkwargs\u001b[0m\u001b[0;34m)\u001b[0m\u001b[0;34m)\u001b[0m\u001b[0;34m\u001b[0m\u001b[0;34m\u001b[0m\u001b[0m\n\u001b[0m",
      "\u001b[0;32m/app/software/imageio/2.13.5-foss-2021b/lib/python3.9/site-packages/imageio/core/functions.py\u001b[0m in \u001b[0;36mimread\u001b[0;34m(uri, format, **kwargs)\u001b[0m\n\u001b[1;32m    157\u001b[0m         )\n\u001b[1;32m    158\u001b[0m \u001b[0;34m\u001b[0m\u001b[0m\n\u001b[0;32m--> 159\u001b[0;31m     \u001b[0;32mwith\u001b[0m \u001b[0mimopen\u001b[0m\u001b[0;34m(\u001b[0m\u001b[0muri\u001b[0m\u001b[0;34m,\u001b[0m \u001b[0;34m\"ri\"\u001b[0m\u001b[0;34m,\u001b[0m \u001b[0mplugin\u001b[0m\u001b[0;34m=\u001b[0m\u001b[0mformat\u001b[0m\u001b[0;34m)\u001b[0m \u001b[0;32mas\u001b[0m \u001b[0mfile\u001b[0m\u001b[0;34m:\u001b[0m\u001b[0;34m\u001b[0m\u001b[0;34m\u001b[0m\u001b[0m\n\u001b[0m\u001b[1;32m    160\u001b[0m         \u001b[0;32mreturn\u001b[0m \u001b[0mfile\u001b[0m\u001b[0;34m.\u001b[0m\u001b[0mread\u001b[0m\u001b[0;34m(\u001b[0m\u001b[0mindex\u001b[0m\u001b[0;34m=\u001b[0m\u001b[0;36m0\u001b[0m\u001b[0;34m,\u001b[0m \u001b[0;34m**\u001b[0m\u001b[0mkwargs\u001b[0m\u001b[0;34m)\u001b[0m\u001b[0;34m\u001b[0m\u001b[0;34m\u001b[0m\u001b[0m\n\u001b[1;32m    161\u001b[0m \u001b[0;34m\u001b[0m\u001b[0m\n",
      "\u001b[0;32m/app/software/imageio/2.13.5-foss-2021b/lib/python3.9/site-packages/imageio/core/imopen.py\u001b[0m in \u001b[0;36mimopen\u001b[0;34m(uri, io_mode, plugin, legacy_mode, **kwargs)\u001b[0m\n\u001b[1;32m    135\u001b[0m         \u001b[0mio_mode\u001b[0m \u001b[0;34m=\u001b[0m \u001b[0mrequest\u001b[0m\u001b[0;34m.\u001b[0m\u001b[0mmode\u001b[0m\u001b[0;34m.\u001b[0m\u001b[0mio_mode\u001b[0m\u001b[0;34m\u001b[0m\u001b[0;34m\u001b[0m\u001b[0m\n\u001b[1;32m    136\u001b[0m     \u001b[0;32melse\u001b[0m\u001b[0;34m:\u001b[0m\u001b[0;34m\u001b[0m\u001b[0;34m\u001b[0m\u001b[0m\n\u001b[0;32m--> 137\u001b[0;31m         \u001b[0mrequest\u001b[0m \u001b[0;34m=\u001b[0m \u001b[0mRequest\u001b[0m\u001b[0;34m(\u001b[0m\u001b[0muri\u001b[0m\u001b[0;34m,\u001b[0m \u001b[0mio_mode\u001b[0m\u001b[0;34m)\u001b[0m\u001b[0;34m\u001b[0m\u001b[0;34m\u001b[0m\u001b[0m\n\u001b[0m\u001b[1;32m    138\u001b[0m \u001b[0;34m\u001b[0m\u001b[0m\n\u001b[1;32m    139\u001b[0m     \u001b[0;31m# plugin specified, no search needed\u001b[0m\u001b[0;34m\u001b[0m\u001b[0;34m\u001b[0m\u001b[0;34m\u001b[0m\u001b[0m\n",
      "\u001b[0;32m/app/software/imageio/2.13.5-foss-2021b/lib/python3.9/site-packages/imageio/core/request.py\u001b[0m in \u001b[0;36m__init__\u001b[0;34m(self, uri, mode, **kwargs)\u001b[0m\n\u001b[1;32m    243\u001b[0m \u001b[0;34m\u001b[0m\u001b[0m\n\u001b[1;32m    244\u001b[0m         \u001b[0;31m# Parse what was given\u001b[0m\u001b[0;34m\u001b[0m\u001b[0;34m\u001b[0m\u001b[0;34m\u001b[0m\u001b[0m\n\u001b[0;32m--> 245\u001b[0;31m         \u001b[0mself\u001b[0m\u001b[0;34m.\u001b[0m\u001b[0m_parse_uri\u001b[0m\u001b[0;34m(\u001b[0m\u001b[0muri\u001b[0m\u001b[0;34m)\u001b[0m\u001b[0;34m\u001b[0m\u001b[0;34m\u001b[0m\u001b[0m\n\u001b[0m\u001b[1;32m    246\u001b[0m \u001b[0;34m\u001b[0m\u001b[0m\n\u001b[1;32m    247\u001b[0m         \u001b[0;31m# Set extension\u001b[0m\u001b[0;34m\u001b[0m\u001b[0;34m\u001b[0m\u001b[0;34m\u001b[0m\u001b[0m\n",
      "\u001b[0;32m/app/software/imageio/2.13.5-foss-2021b/lib/python3.9/site-packages/imageio/core/request.py\u001b[0m in \u001b[0;36m_parse_uri\u001b[0;34m(self, uri)\u001b[0m\n\u001b[1;32m    381\u001b[0m                 \u001b[0;31m# Reading: check that the file exists (but is allowed a dir)\u001b[0m\u001b[0;34m\u001b[0m\u001b[0;34m\u001b[0m\u001b[0;34m\u001b[0m\u001b[0m\n\u001b[1;32m    382\u001b[0m                 \u001b[0;32mif\u001b[0m \u001b[0;32mnot\u001b[0m \u001b[0mos\u001b[0m\u001b[0;34m.\u001b[0m\u001b[0mpath\u001b[0m\u001b[0;34m.\u001b[0m\u001b[0mexists\u001b[0m\u001b[0;34m(\u001b[0m\u001b[0mfn\u001b[0m\u001b[0;34m)\u001b[0m\u001b[0;34m:\u001b[0m\u001b[0;34m\u001b[0m\u001b[0;34m\u001b[0m\u001b[0m\n\u001b[0;32m--> 383\u001b[0;31m                     \u001b[0;32mraise\u001b[0m \u001b[0mFileNotFoundError\u001b[0m\u001b[0;34m(\u001b[0m\u001b[0;34m\"No such file: '%s'\"\u001b[0m \u001b[0;34m%\u001b[0m \u001b[0mfn\u001b[0m\u001b[0;34m)\u001b[0m\u001b[0;34m\u001b[0m\u001b[0;34m\u001b[0m\u001b[0m\n\u001b[0m\u001b[1;32m    384\u001b[0m             \u001b[0;32melse\u001b[0m\u001b[0;34m:\u001b[0m\u001b[0;34m\u001b[0m\u001b[0;34m\u001b[0m\u001b[0m\n\u001b[1;32m    385\u001b[0m                 \u001b[0;31m# Writing: check that the directory to write to does exist\u001b[0m\u001b[0;34m\u001b[0m\u001b[0;34m\u001b[0m\u001b[0;34m\u001b[0m\u001b[0m\n",
      "\u001b[0;31mFileNotFoundError\u001b[0m: No such file: '/home/yfong/deeplearning/dense_cell_segmentation/images/training_resized_512x512/images/training_resized_512x512/M872956_JML_Position8_CD8_train21_img.png'"
     ]
    }
   ],
   "source": [
    "# more detailed mapping of image_mpp parameter\n",
    "AP_mat=[]\n",
    "for CURR_IM_NAME in FILENAMES:\n",
    "    print(CURR_IM_NAME)\n",
    "    im0 = io.imread(os.path.join(INPUT_PATH, CURR_IM_NAME))\n",
    "    mask_true=io.imread(os.path.join(INPUT_PATH, CURR_IM_NAME.replace(\"img\",\"masks\")))\n",
    "\n",
    "    x = np.expand_dims(im0, axis=-1)\n",
    "    x = np.expand_dims(x, axis=0)\n",
    "    y, tile_info = app._tile_input(x)\n",
    "    AP_arr=[]\n",
    "    for mpp in np.linspace(start=0.65, stop=1.6, num=4):\n",
    "        print(mpp)\n",
    "        prd = app._untile_output(app.predict(y, image_mpp=mpp), tile_info)[0,:,:,0]\n",
    "        a=syotil.csi(mask_true, prd)\n",
    "        AP_arr.append(a)\n",
    "    AP_mat.append(AP_arr)\n",
    "#AP_mat\n",
    "[x.index(np.max(x)) for x in AP_mat]"
   ]
  },
  {
   "cell_type": "code",
   "execution_count": null,
   "id": "f31fa740",
   "metadata": {},
   "outputs": [],
   "source": [
    "mpp_select=1\n",
    "\n",
    "APs={}\n",
    "for CURR_IM_NAME in FILENAMES:\n",
    "    im0 = io.imread(os.path.join(INPUT_PATH, CURR_IM_NAME))\n",
    "    mask_true=io.imread(os.path.join(INPUT_PATH, CURR_IM_NAME.replace(\"img\",\"masks\")))\n",
    "\n",
    "    x = np.expand_dims(im0, axis=-1)\n",
    "    x = np.expand_dims(x, axis=0)\n",
    "    y, tile_info = app._tile_input(x)\n",
    "    print(x.shape)\n",
    "    print(y.shape)\n",
    "    print(tile_info)\n",
    "    pred = app.predict(y, image_mpp=mpp_select)\n",
    "    prd = app._untile_output(pred, tile_info)\n",
    "    #io.imshow(prd[0,:,:,0])\n",
    "    plt.show()\n",
    "    \n",
    "    APs[CURR_IM_NAME] = syotil.csi(mask_true, prd[0,:,:,0])# masks may lose one pixel if dimension is odd pixels\n",
    "\n",
    "APs[\"mAP\"]=np.mean(list(APs.values()))\n",
    "print(APs)\n"
   ]
  },
  {
   "cell_type": "code",
   "execution_count": null,
   "id": "7bc06419",
   "metadata": {},
   "outputs": [],
   "source": [
    "import pandas as pd\n",
    "df = pd.DataFrame([FILENAMES+[\"mAP\"], list(APs.values())])\n",
    "print(df.transpose())\n",
    "df.to_csv('images/training/csi_'+model_name+'.txt', index=False, header=False)"
   ]
  },
  {
   "cell_type": "markdown",
   "id": "520fe391",
   "metadata": {},
   "source": [
    "**mAP**<br>\n",
    "image_mpp default: .<br>\n",
    "image_mpp=1: .37<br>\n",
    "image_mpp=2: .<br>"
   ]
  }
 ],
 "metadata": {
  "kernelspec": {
   "display_name": "Python 3 (ipykernel)",
   "language": "python",
   "name": "python3"
  },
  "language_info": {
   "codemirror_mode": {
    "name": "ipython",
    "version": 3
   },
   "file_extension": ".py",
   "mimetype": "text/x-python",
   "name": "python",
   "nbconvert_exporter": "python",
   "pygments_lexer": "ipython3",
   "version": "3.9.6"
  }
 },
 "nbformat": 4,
 "nbformat_minor": 5
}
