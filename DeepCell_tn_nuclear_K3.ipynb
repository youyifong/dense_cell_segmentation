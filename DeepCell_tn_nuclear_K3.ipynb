{
 "cells": [
  {
   "cell_type": "markdown",
   "id": "330e05e3",
   "metadata": {},
   "source": [
    "**Further train DeepCell Models with K's Data and Make Predictions**<br>\n",
    "Starting from model trained with tn nuclear data, further train the model with resized K's data through CroppingDataGenerator. <br>\n",
    "200 epochs, CroppingDataGenerator, resized<br>\n",
    "Best mAP  at mpp="
   ]
  },
  {
   "cell_type": "code",
   "execution_count": 1,
   "id": "a72e9c51",
   "metadata": {
    "execution": {
     "iopub.execute_input": "2022-11-04T20:18:10.585540Z",
     "iopub.status.busy": "2022-11-04T20:18:10.584258Z",
     "iopub.status.idle": "2022-11-04T20:18:10.586616Z",
     "shell.execute_reply": "2022-11-04T20:18:10.587300Z"
    }
   },
   "outputs": [],
   "source": [
    "starting_model_path = 'tn1.0_nuclear_20221102.h5' # the model trained with nucleus data from the Tissuenet V1.0 dataset\n",
    "model_name = 'tn1.0_nuclear_K3' # the newly trained model\n",
    "model_path = '{}.h5'.format(model_name)\n",
    "INPUT_PATH=\"images/training_resized/\"\n",
    "epochs=200 # 20 sec per step "
   ]
  },
  {
   "cell_type": "code",
   "execution_count": 2,
   "id": "90f2183c",
   "metadata": {
    "execution": {
     "iopub.execute_input": "2022-11-04T20:18:10.595675Z",
     "iopub.status.busy": "2022-11-04T20:18:10.594830Z",
     "iopub.status.idle": "2022-11-04T20:18:16.979054Z",
     "shell.execute_reply": "2022-11-04T20:18:16.980051Z"
    }
   },
   "outputs": [
    {
     "name": "stdout",
     "output_type": "stream",
     "text": [
      "2.7.1\n",
      "0.11.1\n"
     ]
    }
   ],
   "source": [
    "import syotil\n",
    "\n",
    "import numpy as np\n",
    "from skimage import io\n",
    "from matplotlib import pyplot as plt\n",
    "%matplotlib inline\n",
    "from timeit import default_timer\n",
    "import os\n",
    "from skimage import img_as_ubyte\n",
    "\n",
    "import deepcell\n",
    "from deepcell import image_generators\n",
    "from deepcell.utils.train_utils import rate_scheduler, get_callbacks, count_gpus\n",
    "from deepcell_toolbox.utils import resize, tile_image, untile_image\n",
    "from deepcell_toolbox.deep_watershed import deep_watershed\n",
    "from deepcell.losses import weighted_categorical_crossentropy\n",
    "from deepcell.model_zoo.panopticnet import PanopticNet\n",
    "\n",
    "import tensorflow as tf\n",
    "from tensorflow.keras.optimizers import SGD, Adam\n",
    "from tensorflow.keras.losses import MSE\n",
    "\n",
    "print(tf.__version__)\n",
    "print(deepcell.__version__)"
   ]
  },
  {
   "cell_type": "code",
   "execution_count": 3,
   "id": "938b06af",
   "metadata": {
    "execution": {
     "iopub.execute_input": "2022-11-04T20:18:16.986956Z",
     "iopub.status.busy": "2022-11-04T20:18:16.985747Z",
     "iopub.status.idle": "2022-11-04T20:18:16.989916Z",
     "shell.execute_reply": "2022-11-04T20:18:16.990356Z"
    }
   },
   "outputs": [
    {
     "name": "stdout",
     "output_type": "stream",
     "text": [
      "7\n",
      "['images/training_resized/M872956_JML_Position10_CD3_train_resized_img.png', 'images/training_resized/M872956_JML_Position9_CD3_train_resized_img.png', 'images/training_resized/M926910_CFL_Position13_CD3_train_resized_img.png', 'images/training_resized/M872956_JML_Position8_CD3_train_resized_img.png', 'images/training_resized/M872956_JML_Position8_CD8_train_resized_img.png', 'images/training_resized/M926910_CFL_Position7_CD3_train_resized_img.png', 'images/training_resized/M872956_JML_Position8_CD4_train_resized_img.png']\n"
     ]
    }
   ],
   "source": [
    "import glob\n",
    "FILENAMES = glob.glob(INPUT_PATH+\"*_img.png\")\n",
    "print(len(FILENAMES))\n",
    "print(FILENAMES)"
   ]
  },
  {
   "cell_type": "code",
   "execution_count": 4,
   "id": "1bac06f7",
   "metadata": {
    "execution": {
     "iopub.execute_input": "2022-11-04T20:18:16.996506Z",
     "iopub.status.busy": "2022-11-04T20:18:16.995932Z",
     "iopub.status.idle": "2022-11-04T20:18:26.342221Z",
     "shell.execute_reply": "2022-11-04T20:18:26.343158Z"
    }
   },
   "outputs": [
    {
     "name": "stderr",
     "output_type": "stream",
     "text": [
      "2022-11-04 18:43:56.258988: I tensorflow/core/common_runtime/gpu/gpu_device.cc:1525] Created device /job:localhost/replica:0/task:0/device:GPU:0 with 14657 MB memory:  -> device: 0, name: Tesla V100-PCIE-16GB, pci bus id: 0000:04:00.0, compute capability: 7.0\n",
      "2022-11-04 18:43:56.297862: I tensorflow/core/common_runtime/gpu/gpu_device.cc:1525] Created device /job:localhost/replica:0/task:0/device:GPU:1 with 14657 MB memory:  -> device: 1, name: Tesla V100-PCIE-16GB, pci bus id: 0000:06:00.0, compute capability: 7.0\n",
      "2022-11-04 18:43:56.300662: I tensorflow/core/common_runtime/gpu/gpu_device.cc:1525] Created device /job:localhost/replica:0/task:0/device:GPU:2 with 14657 MB memory:  -> device: 2, name: Tesla V100-PCIE-16GB, pci bus id: 0000:08:00.0, compute capability: 7.0\n"
     ]
    },
    {
     "name": "stdout",
     "output_type": "stream",
     "text": [
      "(7, 2080, 2318, 1)\n",
      "(7, 2080, 2318, 1)\n"
     ]
    }
   ],
   "source": [
    "imgs = [io.imread(CURR_IM_NAME) for CURR_IM_NAME in FILENAMES]\n",
    "X_train = tf.stack(imgs)\n",
    "X_train = np.expand_dims(X_train, axis=-1)\n",
    "print(X_train.shape)\n",
    "\n",
    "masks = [io.imread(CURR_IM_NAME.replace(\"img\",\"masks\")) for CURR_IM_NAME in FILENAMES]\n",
    "y_train = tf.stack(masks)\n",
    "y_train = np.expand_dims(y_train, axis=-1)\n",
    "print(y_train.shape)\n",
    "\n",
    "# np.savez(\"K_training_data\", X=X_train, y=y_train) # objects to save need to be key value pairs\n",
    "# train_dict, test_dict = get_data(\"K_training_data.npz\", test_size=test_size, seed=seed)"
   ]
  },
  {
   "cell_type": "code",
   "execution_count": 5,
   "id": "73d0c5d8",
   "metadata": {
    "execution": {
     "iopub.execute_input": "2022-11-04T20:18:26.352937Z",
     "iopub.status.busy": "2022-11-04T20:18:26.351775Z",
     "iopub.status.idle": "2022-11-04T20:18:26.909544Z",
     "shell.execute_reply": "2022-11-04T20:18:26.910489Z"
    }
   },
   "outputs": [
    {
     "name": "stdout",
     "output_type": "stream",
     "text": [
      "12574\n"
     ]
    }
   ],
   "source": [
    "# create dataloader\n",
    "crop_size = (512, 512)\n",
    "\n",
    "seed=1\n",
    "min_objects = 2\n",
    "\n",
    "transforms = ['inner-distance', 'outer-distance', 'fgbg']\n",
    "transforms_kwargs = {'outer-distance': {'erosion_width': 0}}\n",
    "\n",
    "# use augmentation for training but not validation\n",
    "# no need to define width_shift_range or height_shift_range \n",
    "# because crops will be taken randomly over the image and not just the center (cropping.py)\n",
    "datagen = image_generators.CroppingDataGenerator(\n",
    "    crop_size=(512, 512),\n",
    "    rotation_range=180,\n",
    "    fill_mode='reflect',\n",
    "    zoom_range=(0.75, 1.25),\n",
    "    horizontal_flip=True,\n",
    "    vertical_flip=True)\n",
    "    \n",
    "datagen_val = image_generators.CroppingDataGenerator()\n",
    "\n",
    "batch_size = 1 # there are only 7 images\n",
    "\n",
    "train_data = datagen.flow(\n",
    "    {'X': X_train, 'y': y_train},\n",
    "    seed=seed,\n",
    "    transforms=transforms,\n",
    "    transforms_kwargs=transforms_kwargs,\n",
    "    min_objects=0,\n",
    "    batch_size=batch_size)\n",
    "\n",
    "val_data = None\n",
    "# datagen_val.flow(\n",
    "#     {'X': X_val, 'y': y_val},\n",
    "#     seed=seed,\n",
    "#     transforms=transforms,\n",
    "#     transforms_kwargs=transforms_kwargs,\n",
    "#     min_objects=min_objects,\n",
    "#     batch_size=batch_size)\n",
    "\n",
    "# get number of training and validation instances\n",
    "\n",
    "cnts_train = [np.max(y_train[i,...]) for i in range(y_train.shape[0])]\n",
    "print(np.sum(cnts_train)) # total number of training instances"
   ]
  },
  {
   "cell_type": "code",
   "execution_count": 6,
   "id": "60b9cdb4",
   "metadata": {
    "execution": {
     "iopub.execute_input": "2022-11-04T20:18:26.934881Z",
     "iopub.status.busy": "2022-11-04T20:18:26.933740Z",
     "iopub.status.idle": "2022-11-04T20:18:27.399171Z",
     "shell.execute_reply": "2022-11-04T20:18:27.400127Z"
    }
   },
   "outputs": [
    {
     "name": "stderr",
     "output_type": "stream",
     "text": [
      "/app/software/scikit-image/0.19.1-foss-2021b/lib/python3.9/site-packages/skimage/io/_plugins/matplotlib_plugin.py:150: UserWarning: Low image data range; displaying image with stretched contrast.\n",
      "  lo, hi, cmap = _get_display_range(image)\n"
     ]
    },
    {
     "data": {
      "image/png": "[encoded data removed]",
      "text/plain": [
       "<Figure size 432x288 with 4 Axes>"
      ]
     },
     "metadata": {
      "needs_background": "light"
     },
     "output_type": "display_data"
    }
   ],
   "source": [
    "i=5\n",
    "plt.subplot(1, 2, 1) # row 1, col 2 index 1\n",
    "io.imshow(X_train[i,:,:,0])\n",
    "plt.subplot(1, 2, 2) # row 1, col 2 index 1\n",
    "# tmp = syotil.masks_to_outlines(y_train[i,:,:,0]); io.imshow(tmp)\n",
    "io.imshow(y_train[i,:,:,0])\n",
    "plt.show()"
   ]
  },
  {
   "cell_type": "markdown",
   "id": "9591736f",
   "metadata": {},
   "source": [
    "**The two cells below define and train the model.** They can be skipped if a trained model will be loaded."
   ]
  },
  {
   "cell_type": "code",
   "execution_count": 7,
   "id": "7ebc07f0",
   "metadata": {
    "execution": {
     "iopub.execute_input": "2022-11-04T20:18:27.409404Z",
     "iopub.status.busy": "2022-11-04T20:18:27.408232Z",
     "iopub.status.idle": "2022-11-04T20:18:34.630038Z",
     "shell.execute_reply": "2022-11-04T20:18:34.629023Z"
    }
   },
   "outputs": [
    {
     "name": "stderr",
     "output_type": "stream",
     "text": [
      "2022-11-04 13:18:27.412461: W tensorflow/python/util/util.cc:368] Sets are not currently considered sequences, but this may change in the future, so consider avoiding using them.\n",
      "/app/software/TensorFlow/2.7.1-foss-2021b-CUDA-11.4.1/lib/python3.9/site-packages/keras/optimizer_v2/adam.py:105: UserWarning: The `lr` argument is deprecated, use `learning_rate` instead.\n",
      "  super(Adam, self).__init__(name, **kwargs)\n"
     ]
    },
    {
     "name": "stdout",
     "output_type": "stream",
     "text": [
      "[('semantic_0', (None, 512, 512, 1)), ('semantic_1', (None, 512, 512, 1)), ('semantic_2', (None, 512, 512, 2))]\n"
     ]
    }
   ],
   "source": [
    "semantic_classes = [1, 1, 2] # inner distance, outer distance, fgbg\n",
    "\n",
    "model = PanopticNet(\n",
    "    backbone='resnet50',\n",
    "    input_shape=(512,512,1),\n",
    "    norm_method='whole_image',\n",
    "    num_semantic_classes=semantic_classes)\n",
    "\n",
    "lr = 1e-4\n",
    "optimizer = Adam(lr=lr, clipnorm=0.001)\n",
    "lr_sched = rate_scheduler(lr=lr, decay=0.99)\n",
    "\n",
    "# Create a dictionary of losses for each semantic head\n",
    "\n",
    "def semantic_loss(n_classes):\n",
    "    def _semantic_loss(y_pred, y_true):\n",
    "        if n_classes > 1:\n",
    "            return 0.01 * weighted_categorical_crossentropy(\n",
    "                y_pred, y_true, n_classes=n_classes)\n",
    "        return MSE(y_pred, y_true)\n",
    "    return _semantic_loss\n",
    "\n",
    "loss = {}\n",
    "\n",
    "# Give losses for all of the semantic heads\n",
    "for layer in model.layers:\n",
    "    if layer.name.startswith('semantic_'):\n",
    "        n_classes = layer.output_shape[-1]\n",
    "        loss[layer.name] = semantic_loss(n_classes)\n",
    "        \n",
    "model.compile(loss=loss, optimizer=optimizer)\n",
    "\n",
    "model.load_weights(starting_model_path, by_name=True)\n",
    "\n",
    "print([(layer.name, layer.output_shape) for layer in filter(lambda x: x.name.startswith('semantic_'), model.layers)])"
   ]
  },
  {
   "cell_type": "code",
   "execution_count": 8,
   "id": "b1fab4f5",
   "metadata": {
    "execution": {
     "iopub.execute_input": "2022-11-04T20:18:34.655350Z",
     "iopub.status.busy": "2022-11-04T20:18:34.654179Z",
     "iopub.status.idle": "2022-11-05T01:06:53.071175Z",
     "shell.execute_reply": "2022-11-05T01:06:53.072186Z"
    }
   },
   "outputs": [
    {
     "name": "stdout",
     "output_type": "stream",
     "text": [
      "Training on 3 GPUs.\n"
     ]
    },
    {
     "name": "stderr",
     "output_type": "stream",
     "text": [
      "2022-11-04 13:18:34.645937: I tensorflow/core/common_runtime/gpu/gpu_device.cc:1525] Created device /device:GPU:0 with 14657 MB memory:  -> device: 0, name: Tesla V100-PCIE-16GB, pci bus id: 0000:04:00.0, compute capability: 7.0\n",
      "2022-11-04 13:18:34.647186: I tensorflow/core/common_runtime/gpu/gpu_device.cc:1525] Created device /device:GPU:1 with 14657 MB memory:  -> device: 1, name: Tesla V100-PCIE-16GB, pci bus id: 0000:06:00.0, compute capability: 7.0\n",
      "2022-11-04 13:18:34.648422: I tensorflow/core/common_runtime/gpu/gpu_device.cc:1525] Created device /device:GPU:2 with 14657 MB memory:  -> device: 2, name: Tesla V100-PCIE-16GB, pci bus id: 0000:08:00.0, compute capability: 7.0\n"
     ]
    },
    {
     "name": "stdout",
     "output_type": "stream",
     "text": [
      "Epoch 1/200\n"
     ]
    },
    {
     "name": "stderr",
     "output_type": "stream",
     "text": [
      "2022-11-04 13:19:18.444746: I tensorflow/stream_executor/cuda/cuda_dnn.cc:366] Loaded cuDNN version 8202\n"
     ]
    },
    {
     "name": "stdout",
     "output_type": "stream",
     "text": [
      "7/7 [==============================] - ETA: 0s - loss: 0.0323 - semantic_0_loss: 0.0076 - semantic_1_loss: 0.0196 - semantic_2_loss: 0.0051 WARNING:tensorflow:Can save best model only with val_loss available, skipping.\n",
      "7/7 [==============================] - 105s 11s/step - loss: 0.0323 - semantic_0_loss: 0.0076 - semantic_1_loss: 0.0196 - semantic_2_loss: 0.0051 - lr: 1.0000e-04\n",
      "Epoch 2/200\n",
      "7/7 [==============================] - ETA: 0s - loss: 0.0253 - semantic_0_loss: 0.0062 - semantic_1_loss: 0.0164 - semantic_2_loss: 0.0027 WARNING:tensorflow:Can save best model only with val_loss available, skipping.\n",
      "7/7 [==============================] - 85s 13s/step - loss: 0.0253 - semantic_0_loss: 0.0062 - semantic_1_loss: 0.0164 - semantic_2_loss: 0.0027 - lr: 9.9000e-05\n",
      "Epoch 3/200\n",
      "7/7 [==============================] - ETA: 0s - loss: 0.0169 - semantic_0_loss: 0.0038 - semantic_1_loss: 0.0092 - semantic_2_loss: 0.0038 WARNING:tensorflow:Can save best model only with val_loss available, skipping.\n",
      "7/7 [==============================] - 86s 13s/step - loss: 0.0169 - semantic_0_loss: 0.0038 - semantic_1_loss: 0.0092 - semantic_2_loss: 0.0038 - lr: 9.8010e-05\n",
      "Epoch 4/200\n",
      "7/7 [==============================] - ETA: 0s - loss: 0.0094 - semantic_0_loss: 0.0022 - semantic_1_loss: 0.0058 - semantic_2_loss: 0.0014 WARNING:tensorflow:Can save best model only with val_loss available, skipping.\n",
      "7/7 [==============================] - 84s 12s/step - loss: 0.0094 - semantic_0_loss: 0.0022 - semantic_1_loss: 0.0058 - semantic_2_loss: 0.0014 - lr: 9.7030e-05\n",
      "Epoch 5/200\n",
      "7/7 [==============================] - ETA: 0s - loss: 0.0213 - semantic_0_loss: 0.0052 - semantic_1_loss: 0.0138 - semantic_2_loss: 0.0022 WARNING:tensorflow:Can save best model only with val_loss available, skipping.\n",
      "7/7 [==============================] - 85s 13s/step - loss: 0.0213 - semantic_0_loss: 0.0052 - semantic_1_loss: 0.0138 - semantic_2_loss: 0.0022 - lr: 9.6060e-05\n",
      "Epoch 6/200\n",
      "7/7 [==============================] - ETA: 0s - loss: 0.0207 - semantic_0_loss: 0.0049 - semantic_1_loss: 0.0137 - semantic_2_loss: 0.0021 WARNING:tensorflow:Can save best model only with val_loss available, skipping.\n",
      "7/7 [==============================] - 85s 13s/step - loss: 0.0207 - semantic_0_loss: 0.0049 - semantic_1_loss: 0.0137 - semantic_2_loss: 0.0021 - lr: 9.5099e-05\n",
      "Epoch 7/200\n",
      "7/7 [==============================] - ETA: 0s - loss: 0.0116 - semantic_0_loss: 0.0028 - semantic_1_loss: 0.0072 - semantic_2_loss: 0.0015 WARNING:tensorflow:Can save best model only with val_loss available, skipping.\n",
      "7/7 [==============================] - 85s 12s/step - loss: 0.0116 - semantic_0_loss: 0.0028 - semantic_1_loss: 0.0072 - semantic_2_loss: 0.0015 - lr: 9.4148e-05\n",
      "Epoch 8/200\n",
      "7/7 [==============================] - ETA: 0s - loss: 0.0115 - semantic_0_loss: 0.0027 - semantic_1_loss: 0.0074 - semantic_2_loss: 0.0013 WARNING:tensorflow:Can save best model only with val_loss available, skipping.\n",
      "7/7 [==============================] - 85s 12s/step - loss: 0.0115 - semantic_0_loss: 0.0027 - semantic_1_loss: 0.0074 - semantic_2_loss: 0.0013 - lr: 9.3207e-05\n",
      "Epoch 9/200\n",
      "7/7 [==============================] - ETA: 0s - loss: 0.0150 - semantic_0_loss: 0.0036 - semantic_1_loss: 0.0097 - semantic_2_loss: 0.0017 WARNING:tensorflow:Can save best model only with val_loss available, skipping.\n",
      "7/7 [==============================] - 84s 11s/step - loss: 0.0150 - semantic_0_loss: 0.0036 - semantic_1_loss: 0.0097 - semantic_2_loss: 0.0017 - lr: 9.2274e-05\n",
      "Epoch 10/200\n",
      "7/7 [==============================] - ETA: 0s - loss: 0.0163 - semantic_0_loss: 0.0040 - semantic_1_loss: 0.0105 - semantic_2_loss: 0.0018 WARNING:tensorflow:Can save best model only with val_loss available, skipping.\n",
      "7/7 [==============================] - 87s 13s/step - loss: 0.0163 - semantic_0_loss: 0.0040 - semantic_1_loss: 0.0105 - semantic_2_loss: 0.0018 - lr: 9.1352e-05\n",
      "Epoch 11/200\n",
      "7/7 [==============================] - ETA: 0s - loss: 0.0150 - semantic_0_loss: 0.0035 - semantic_1_loss: 0.0098 - semantic_2_loss: 0.0017 WARNING:tensorflow:Can save best model only with val_loss available, skipping.\n",
      "7/7 [==============================] - 88s 12s/step - loss: 0.0150 - semantic_0_loss: 0.0035 - semantic_1_loss: 0.0098 - semantic_2_loss: 0.0017 - lr: 9.0438e-05\n",
      "Epoch 12/200\n",
      "7/7 [==============================] - ETA: 0s - loss: 0.0155 - semantic_0_loss: 0.0037 - semantic_1_loss: 0.0101 - semantic_2_loss: 0.0017 WARNING:tensorflow:Can save best model only with val_loss available, skipping.\n",
      "7/7 [==============================] - 86s 12s/step - loss: 0.0155 - semantic_0_loss: 0.0037 - semantic_1_loss: 0.0101 - semantic_2_loss: 0.0017 - lr: 8.9534e-05\n",
      "Epoch 13/200\n",
      "7/7 [==============================] - ETA: 0s - loss: 0.0197 - semantic_0_loss: 0.0048 - semantic_1_loss: 0.0129 - semantic_2_loss: 0.0020 WARNING:tensorflow:Can save best model only with val_loss available, skipping.\n",
      "7/7 [==============================] - 84s 11s/step - loss: 0.0197 - semantic_0_loss: 0.0048 - semantic_1_loss: 0.0129 - semantic_2_loss: 0.0020 - lr: 8.8638e-05\n",
      "Epoch 14/200\n",
      "7/7 [==============================] - ETA: 0s - loss: 0.0165 - semantic_0_loss: 0.0041 - semantic_1_loss: 0.0108 - semantic_2_loss: 0.0016 WARNING:tensorflow:Can save best model only with val_loss available, skipping.\n",
      "7/7 [==============================] - 85s 12s/step - loss: 0.0165 - semantic_0_loss: 0.0041 - semantic_1_loss: 0.0108 - semantic_2_loss: 0.0016 - lr: 8.7752e-05\n",
      "Epoch 15/200\n",
      "7/7 [==============================] - ETA: 0s - loss: 0.0142 - semantic_0_loss: 0.0031 - semantic_1_loss: 0.0094 - semantic_2_loss: 0.0017 WARNING:tensorflow:Can save best model only with val_loss available, skipping.\n",
      "7/7 [==============================] - 84s 12s/step - loss: 0.0142 - semantic_0_loss: 0.0031 - semantic_1_loss: 0.0094 - semantic_2_loss: 0.0017 - lr: 8.6875e-05\n",
      "Epoch 16/200\n",
      "7/7 [==============================] - ETA: 0s - loss: 0.0180 - semantic_0_loss: 0.0044 - semantic_1_loss: 0.0117 - semantic_2_loss: 0.0019 WARNING:tensorflow:Can save best model only with val_loss available, skipping.\n",
      "7/7 [==============================] - 84s 12s/step - loss: 0.0180 - semantic_0_loss: 0.0044 - semantic_1_loss: 0.0117 - semantic_2_loss: 0.0019 - lr: 8.6006e-05\n",
      "Epoch 17/200\n",
      "7/7 [==============================] - ETA: 0s - loss: 0.0129 - semantic_0_loss: 0.0030 - semantic_1_loss: 0.0084 - semantic_2_loss: 0.0015 WARNING:tensorflow:Can save best model only with val_loss available, skipping.\n",
      "7/7 [==============================] - 83s 12s/step - loss: 0.0129 - semantic_0_loss: 0.0030 - semantic_1_loss: 0.0084 - semantic_2_loss: 0.0015 - lr: 8.5146e-05\n",
      "Epoch 18/200\n",
      "7/7 [==============================] - ETA: 0s - loss: 0.0167 - semantic_0_loss: 0.0041 - semantic_1_loss: 0.0107 - semantic_2_loss: 0.0019 WARNING:tensorflow:Can save best model only with val_loss available, skipping.\n",
      "7/7 [==============================] - 85s 12s/step - loss: 0.0167 - semantic_0_loss: 0.0041 - semantic_1_loss: 0.0107 - semantic_2_loss: 0.0019 - lr: 8.4294e-05\n",
      "Epoch 19/200\n",
      "7/7 [==============================] - ETA: 0s - loss: 0.0162 - semantic_0_loss: 0.0040 - semantic_1_loss: 0.0105 - semantic_2_loss: 0.0017 WARNING:tensorflow:Can save best model only with val_loss available, skipping.\n",
      "7/7 [==============================] - 89s 14s/step - loss: 0.0162 - semantic_0_loss: 0.0040 - semantic_1_loss: 0.0105 - semantic_2_loss: 0.0017 - lr: 8.3451e-05\n",
      "Epoch 20/200\n",
      "7/7 [==============================] - ETA: 0s - loss: 0.0191 - semantic_0_loss: 0.0049 - semantic_1_loss: 0.0124 - semantic_2_loss: 0.0018 WARNING:tensorflow:Can save best model only with val_loss available, skipping.\n",
      "7/7 [==============================] - 84s 12s/step - loss: 0.0191 - semantic_0_loss: 0.0049 - semantic_1_loss: 0.0124 - semantic_2_loss: 0.0018 - lr: 8.2617e-05\n",
      "Epoch 21/200\n",
      "7/7 [==============================] - ETA: 0s - loss: 0.0132 - semantic_0_loss: 0.0030 - semantic_1_loss: 0.0085 - semantic_2_loss: 0.0017 WARNING:tensorflow:Can save best model only with val_loss available, skipping.\n",
      "7/7 [==============================] - 85s 12s/step - loss: 0.0132 - semantic_0_loss: 0.0030 - semantic_1_loss: 0.0085 - semantic_2_loss: 0.0017 - lr: 8.1791e-05\n",
      "Epoch 22/200\n",
      "7/7 [==============================] - ETA: 0s - loss: 0.0183 - semantic_0_loss: 0.0039 - semantic_1_loss: 0.0123 - semantic_2_loss: 0.0020 WARNING:tensorflow:Can save best model only with val_loss available, skipping.\n",
      "7/7 [==============================] - 89s 12s/step - loss: 0.0183 - semantic_0_loss: 0.0039 - semantic_1_loss: 0.0123 - semantic_2_loss: 0.0020 - lr: 8.0973e-05\n",
      "Epoch 23/200\n",
      "7/7 [==============================] - ETA: 0s - loss: 0.0124 - semantic_0_loss: 0.0031 - semantic_1_loss: 0.0078 - semantic_2_loss: 0.0015 WARNING:tensorflow:Can save best model only with val_loss available, skipping.\n",
      "7/7 [==============================] - 84s 11s/step - loss: 0.0124 - semantic_0_loss: 0.0031 - semantic_1_loss: 0.0078 - semantic_2_loss: 0.0015 - lr: 8.0163e-05\n",
      "Epoch 24/200\n",
      "7/7 [==============================] - ETA: 0s - loss: 0.0158 - semantic_0_loss: 0.0039 - semantic_1_loss: 0.0103 - semantic_2_loss: 0.0016 WARNING:tensorflow:Can save best model only with val_loss available, skipping.\n",
      "7/7 [==============================] - 86s 13s/step - loss: 0.0158 - semantic_0_loss: 0.0039 - semantic_1_loss: 0.0103 - semantic_2_loss: 0.0016 - lr: 7.9361e-05\n",
      "Epoch 25/200\n",
      "7/7 [==============================] - ETA: 0s - loss: 0.0187 - semantic_0_loss: 0.0046 - semantic_1_loss: 0.0122 - semantic_2_loss: 0.0019 WARNING:tensorflow:Can save best model only with val_loss available, skipping.\n",
      "7/7 [==============================] - 84s 11s/step - loss: 0.0187 - semantic_0_loss: 0.0046 - semantic_1_loss: 0.0122 - semantic_2_loss: 0.0019 - lr: 7.8568e-05\n",
      "Epoch 26/200\n",
      "7/7 [==============================] - ETA: 0s - loss: 0.0178 - semantic_0_loss: 0.0044 - semantic_1_loss: 0.0116 - semantic_2_loss: 0.0018 WARNING:tensorflow:Can save best model only with val_loss available, skipping.\n",
      "7/7 [==============================] - 85s 12s/step - loss: 0.0178 - semantic_0_loss: 0.0044 - semantic_1_loss: 0.0116 - semantic_2_loss: 0.0018 - lr: 7.7782e-05\n",
      "Epoch 27/200\n",
      "7/7 [==============================] - ETA: 0s - loss: 0.0203 - semantic_0_loss: 0.0049 - semantic_1_loss: 0.0133 - semantic_2_loss: 0.0020 WARNING:tensorflow:Can save best model only with val_loss available, skipping.\n",
      "7/7 [==============================] - 88s 12s/step - loss: 0.0203 - semantic_0_loss: 0.0049 - semantic_1_loss: 0.0133 - semantic_2_loss: 0.0020 - lr: 7.7004e-05\n",
      "Epoch 28/200\n",
      "7/7 [==============================] - ETA: 0s - loss: 0.0119 - semantic_0_loss: 0.0030 - semantic_1_loss: 0.0074 - semantic_2_loss: 0.0015 WARNING:tensorflow:Can save best model only with val_loss available, skipping.\n",
      "7/7 [==============================] - 86s 12s/step - loss: 0.0119 - semantic_0_loss: 0.0030 - semantic_1_loss: 0.0074 - semantic_2_loss: 0.0015 - lr: 7.6234e-05\n",
      "Epoch 29/200\n",
      "7/7 [==============================] - ETA: 0s - loss: 0.0197 - semantic_0_loss: 0.0049 - semantic_1_loss: 0.0129 - semantic_2_loss: 0.0019 WARNING:tensorflow:Can save best model only with val_loss available, skipping.\n",
      "7/7 [==============================] - 90s 14s/step - loss: 0.0197 - semantic_0_loss: 0.0049 - semantic_1_loss: 0.0129 - semantic_2_loss: 0.0019 - lr: 7.5472e-05\n",
      "Epoch 30/200\n",
      "7/7 [==============================] - ETA: 0s - loss: 0.0160 - semantic_0_loss: 0.0040 - semantic_1_loss: 0.0102 - semantic_2_loss: 0.0018 WARNING:tensorflow:Can save best model only with val_loss available, skipping.\n",
      "7/7 [==============================] - 89s 12s/step - loss: 0.0160 - semantic_0_loss: 0.0040 - semantic_1_loss: 0.0102 - semantic_2_loss: 0.0018 - lr: 7.4717e-05\n",
      "Epoch 31/200\n",
      "7/7 [==============================] - ETA: 0s - loss: 0.0106 - semantic_0_loss: 0.0026 - semantic_1_loss: 0.0067 - semantic_2_loss: 0.0013 WARNING:tensorflow:Can save best model only with val_loss available, skipping.\n",
      "7/7 [==============================] - 86s 12s/step - loss: 0.0106 - semantic_0_loss: 0.0026 - semantic_1_loss: 0.0067 - semantic_2_loss: 0.0013 - lr: 7.3970e-05\n",
      "Epoch 32/200\n",
      "7/7 [==============================] - ETA: 0s - loss: 0.0121 - semantic_0_loss: 0.0027 - semantic_1_loss: 0.0077 - semantic_2_loss: 0.0017 WARNING:tensorflow:Can save best model only with val_loss available, skipping.\n",
      "7/7 [==============================] - 84s 12s/step - loss: 0.0121 - semantic_0_loss: 0.0027 - semantic_1_loss: 0.0077 - semantic_2_loss: 0.0017 - lr: 7.3230e-05\n",
      "Epoch 33/200\n",
      "7/7 [==============================] - ETA: 0s - loss: 0.0175 - semantic_0_loss: 0.0043 - semantic_1_loss: 0.0115 - semantic_2_loss: 0.0017 WARNING:tensorflow:Can save best model only with val_loss available, skipping.\n",
      "7/7 [==============================] - 85s 13s/step - loss: 0.0175 - semantic_0_loss: 0.0043 - semantic_1_loss: 0.0115 - semantic_2_loss: 0.0017 - lr: 7.2498e-05\n",
      "Epoch 34/200\n",
      "7/7 [==============================] - ETA: 0s - loss: 0.0158 - semantic_0_loss: 0.0039 - semantic_1_loss: 0.0102 - semantic_2_loss: 0.0017 WARNING:tensorflow:Can save best model only with val_loss available, skipping.\n",
      "7/7 [==============================] - 84s 12s/step - loss: 0.0158 - semantic_0_loss: 0.0039 - semantic_1_loss: 0.0102 - semantic_2_loss: 0.0017 - lr: 7.1773e-05\n",
      "Epoch 35/200\n",
      "7/7 [==============================] - ETA: 0s - loss: 0.0111 - semantic_0_loss: 0.0026 - semantic_1_loss: 0.0071 - semantic_2_loss: 0.0014 WARNING:tensorflow:Can save best model only with val_loss available, skipping.\n",
      "7/7 [==============================] - 86s 12s/step - loss: 0.0111 - semantic_0_loss: 0.0026 - semantic_1_loss: 0.0071 - semantic_2_loss: 0.0014 - lr: 7.1055e-05\n",
      "Epoch 36/200\n",
      "7/7 [==============================] - ETA: 0s - loss: 0.0152 - semantic_0_loss: 0.0038 - semantic_1_loss: 0.0098 - semantic_2_loss: 0.0017 WARNING:tensorflow:Can save best model only with val_loss available, skipping.\n",
      "7/7 [==============================] - 84s 13s/step - loss: 0.0152 - semantic_0_loss: 0.0038 - semantic_1_loss: 0.0098 - semantic_2_loss: 0.0017 - lr: 7.0345e-05\n",
      "Epoch 37/200\n",
      "7/7 [==============================] - ETA: 0s - loss: 0.0166 - semantic_0_loss: 0.0040 - semantic_1_loss: 0.0107 - semantic_2_loss: 0.0018 WARNING:tensorflow:Can save best model only with val_loss available, skipping.\n",
      "7/7 [==============================] - 85s 12s/step - loss: 0.0166 - semantic_0_loss: 0.0040 - semantic_1_loss: 0.0107 - semantic_2_loss: 0.0018 - lr: 6.9641e-05\n",
      "Epoch 38/200\n",
      "7/7 [==============================] - ETA: 0s - loss: 0.0192 - semantic_0_loss: 0.0046 - semantic_1_loss: 0.0128 - semantic_2_loss: 0.0018 WARNING:tensorflow:Can save best model only with val_loss available, skipping.\n",
      "7/7 [==============================] - 85s 11s/step - loss: 0.0192 - semantic_0_loss: 0.0046 - semantic_1_loss: 0.0128 - semantic_2_loss: 0.0018 - lr: 6.8945e-05\n",
      "Epoch 39/200\n",
      "7/7 [==============================] - ETA: 0s - loss: 0.0105 - semantic_0_loss: 0.0027 - semantic_1_loss: 0.0064 - semantic_2_loss: 0.0014 WARNING:tensorflow:Can save best model only with val_loss available, skipping.\n",
      "7/7 [==============================] - 89s 13s/step - loss: 0.0105 - semantic_0_loss: 0.0027 - semantic_1_loss: 0.0064 - semantic_2_loss: 0.0014 - lr: 6.8255e-05\n",
      "Epoch 40/200\n",
      "7/7 [==============================] - ETA: 0s - loss: 0.0131 - semantic_0_loss: 0.0030 - semantic_1_loss: 0.0085 - semantic_2_loss: 0.0017 WARNING:tensorflow:Can save best model only with val_loss available, skipping.\n",
      "7/7 [==============================] - 85s 12s/step - loss: 0.0131 - semantic_0_loss: 0.0030 - semantic_1_loss: 0.0085 - semantic_2_loss: 0.0017 - lr: 6.7573e-05\n",
      "Epoch 41/200\n",
      "7/7 [==============================] - ETA: 0s - loss: 0.0153 - semantic_0_loss: 0.0038 - semantic_1_loss: 0.0099 - semantic_2_loss: 0.0016 WARNING:tensorflow:Can save best model only with val_loss available, skipping.\n",
      "7/7 [==============================] - 89s 13s/step - loss: 0.0153 - semantic_0_loss: 0.0038 - semantic_1_loss: 0.0099 - semantic_2_loss: 0.0016 - lr: 6.6897e-05\n",
      "Epoch 42/200\n",
      "7/7 [==============================] - ETA: 0s - loss: 0.0153 - semantic_0_loss: 0.0038 - semantic_1_loss: 0.0099 - semantic_2_loss: 0.0017 WARNING:tensorflow:Can save best model only with val_loss available, skipping.\n",
      "7/7 [==============================] - 91s 11s/step - loss: 0.0153 - semantic_0_loss: 0.0038 - semantic_1_loss: 0.0099 - semantic_2_loss: 0.0017 - lr: 6.6228e-05\n",
      "Epoch 43/200\n",
      "7/7 [==============================] - ETA: 0s - loss: 0.0117 - semantic_0_loss: 0.0029 - semantic_1_loss: 0.0074 - semantic_2_loss: 0.0014 WARNING:tensorflow:Can save best model only with val_loss available, skipping.\n",
      "7/7 [==============================] - 85s 13s/step - loss: 0.0117 - semantic_0_loss: 0.0029 - semantic_1_loss: 0.0074 - semantic_2_loss: 0.0014 - lr: 6.5566e-05\n",
      "Epoch 44/200\n",
      "7/7 [==============================] - ETA: 0s - loss: 0.0174 - semantic_0_loss: 0.0043 - semantic_1_loss: 0.0114 - semantic_2_loss: 0.0018 WARNING:tensorflow:Can save best model only with val_loss available, skipping.\n",
      "7/7 [==============================] - 84s 12s/step - loss: 0.0174 - semantic_0_loss: 0.0043 - semantic_1_loss: 0.0114 - semantic_2_loss: 0.0018 - lr: 6.4910e-05\n",
      "Epoch 45/200\n",
      "7/7 [==============================] - ETA: 0s - loss: 0.0142 - semantic_0_loss: 0.0034 - semantic_1_loss: 0.0092 - semantic_2_loss: 0.0016 WARNING:tensorflow:Can save best model only with val_loss available, skipping.\n",
      "7/7 [==============================] - 85s 13s/step - loss: 0.0142 - semantic_0_loss: 0.0034 - semantic_1_loss: 0.0092 - semantic_2_loss: 0.0016 - lr: 6.4261e-05\n",
      "Epoch 46/200\n",
      "7/7 [==============================] - ETA: 0s - loss: 0.0155 - semantic_0_loss: 0.0037 - semantic_1_loss: 0.0101 - semantic_2_loss: 0.0017 WARNING:tensorflow:Can save best model only with val_loss available, skipping.\n",
      "7/7 [==============================] - 85s 12s/step - loss: 0.0155 - semantic_0_loss: 0.0037 - semantic_1_loss: 0.0101 - semantic_2_loss: 0.0017 - lr: 6.3619e-05\n",
      "Epoch 47/200\n",
      "7/7 [==============================] - ETA: 0s - loss: 0.0125 - semantic_0_loss: 0.0032 - semantic_1_loss: 0.0078 - semantic_2_loss: 0.0015 WARNING:tensorflow:Can save best model only with val_loss available, skipping.\n",
      "7/7 [==============================] - 92s 14s/step - loss: 0.0125 - semantic_0_loss: 0.0032 - semantic_1_loss: 0.0078 - semantic_2_loss: 0.0015 - lr: 6.2982e-05\n",
      "Epoch 48/200\n",
      "7/7 [==============================] - ETA: 0s - loss: 0.0109 - semantic_0_loss: 0.0028 - semantic_1_loss: 0.0068 - semantic_2_loss: 0.0013 WARNING:tensorflow:Can save best model only with val_loss available, skipping.\n",
      "7/7 [==============================] - 85s 13s/step - loss: 0.0109 - semantic_0_loss: 0.0028 - semantic_1_loss: 0.0068 - semantic_2_loss: 0.0013 - lr: 6.2353e-05\n",
      "Epoch 49/200\n",
      "7/7 [==============================] - ETA: 0s - loss: 0.0125 - semantic_0_loss: 0.0031 - semantic_1_loss: 0.0080 - semantic_2_loss: 0.0014 WARNING:tensorflow:Can save best model only with val_loss available, skipping.\n",
      "7/7 [==============================] - 84s 12s/step - loss: 0.0125 - semantic_0_loss: 0.0031 - semantic_1_loss: 0.0080 - semantic_2_loss: 0.0014 - lr: 6.1729e-05\n",
      "Epoch 50/200\n",
      "7/7 [==============================] - ETA: 0s - loss: 0.0187 - semantic_0_loss: 0.0045 - semantic_1_loss: 0.0123 - semantic_2_loss: 0.0019 WARNING:tensorflow:Can save best model only with val_loss available, skipping.\n",
      "7/7 [==============================] - 88s 12s/step - loss: 0.0187 - semantic_0_loss: 0.0045 - semantic_1_loss: 0.0123 - semantic_2_loss: 0.0019 - lr: 6.1112e-05\n",
      "Epoch 51/200\n",
      "7/7 [==============================] - ETA: 0s - loss: 0.0197 - semantic_0_loss: 0.0049 - semantic_1_loss: 0.0130 - semantic_2_loss: 0.0019 WARNING:tensorflow:Can save best model only with val_loss available, skipping.\n",
      "7/7 [==============================] - 83s 11s/step - loss: 0.0197 - semantic_0_loss: 0.0049 - semantic_1_loss: 0.0130 - semantic_2_loss: 0.0019 - lr: 6.0501e-05\n",
      "Epoch 52/200\n",
      "7/7 [==============================] - ETA: 0s - loss: 0.0130 - semantic_0_loss: 0.0031 - semantic_1_loss: 0.0083 - semantic_2_loss: 0.0015 WARNING:tensorflow:Can save best model only with val_loss available, skipping.\n",
      "7/7 [==============================] - 91s 12s/step - loss: 0.0130 - semantic_0_loss: 0.0031 - semantic_1_loss: 0.0083 - semantic_2_loss: 0.0015 - lr: 5.9896e-05\n",
      "Epoch 53/200\n",
      "7/7 [==============================] - ETA: 0s - loss: 0.0139 - semantic_0_loss: 0.0033 - semantic_1_loss: 0.0090 - semantic_2_loss: 0.0016 WARNING:tensorflow:Can save best model only with val_loss available, skipping.\n",
      "7/7 [==============================] - 90s 12s/step - loss: 0.0139 - semantic_0_loss: 0.0033 - semantic_1_loss: 0.0090 - semantic_2_loss: 0.0016 - lr: 5.9297e-05\n",
      "Epoch 54/200\n",
      "7/7 [==============================] - ETA: 0s - loss: 0.0159 - semantic_0_loss: 0.0040 - semantic_1_loss: 0.0103 - semantic_2_loss: 0.0017 WARNING:tensorflow:Can save best model only with val_loss available, skipping.\n",
      "7/7 [==============================] - 87s 12s/step - loss: 0.0159 - semantic_0_loss: 0.0040 - semantic_1_loss: 0.0103 - semantic_2_loss: 0.0017 - lr: 5.8704e-05\n",
      "Epoch 55/200\n",
      "7/7 [==============================] - ETA: 0s - loss: 0.0104 - semantic_0_loss: 0.0026 - semantic_1_loss: 0.0065 - semantic_2_loss: 0.0013 WARNING:tensorflow:Can save best model only with val_loss available, skipping.\n",
      "7/7 [==============================] - 83s 13s/step - loss: 0.0104 - semantic_0_loss: 0.0026 - semantic_1_loss: 0.0065 - semantic_2_loss: 0.0013 - lr: 5.8117e-05\n",
      "Epoch 56/200\n",
      "7/7 [==============================] - ETA: 0s - loss: 0.0126 - semantic_0_loss: 0.0031 - semantic_1_loss: 0.0080 - semantic_2_loss: 0.0016 WARNING:tensorflow:Can save best model only with val_loss available, skipping.\n",
      "7/7 [==============================] - 87s 14s/step - loss: 0.0126 - semantic_0_loss: 0.0031 - semantic_1_loss: 0.0080 - semantic_2_loss: 0.0016 - lr: 5.7535e-05\n",
      "Epoch 57/200\n",
      "7/7 [==============================] - ETA: 0s - loss: 0.0136 - semantic_0_loss: 0.0035 - semantic_1_loss: 0.0086 - semantic_2_loss: 0.0016 WARNING:tensorflow:Can save best model only with val_loss available, skipping.\n",
      "7/7 [==============================] - 84s 12s/step - loss: 0.0136 - semantic_0_loss: 0.0035 - semantic_1_loss: 0.0086 - semantic_2_loss: 0.0016 - lr: 5.6960e-05\n",
      "Epoch 58/200\n",
      "7/7 [==============================] - ETA: 0s - loss: 0.0148 - semantic_0_loss: 0.0035 - semantic_1_loss: 0.0098 - semantic_2_loss: 0.0015 WARNING:tensorflow:Can save best model only with val_loss available, skipping.\n",
      "7/7 [==============================] - 84s 12s/step - loss: 0.0148 - semantic_0_loss: 0.0035 - semantic_1_loss: 0.0098 - semantic_2_loss: 0.0015 - lr: 5.6391e-05\n",
      "Epoch 59/200\n",
      "7/7 [==============================] - ETA: 0s - loss: 0.0126 - semantic_0_loss: 0.0032 - semantic_1_loss: 0.0080 - semantic_2_loss: 0.0014 WARNING:tensorflow:Can save best model only with val_loss available, skipping.\n",
      "7/7 [==============================] - 85s 13s/step - loss: 0.0126 - semantic_0_loss: 0.0032 - semantic_1_loss: 0.0080 - semantic_2_loss: 0.0014 - lr: 5.5827e-05\n",
      "Epoch 60/200\n",
      "7/7 [==============================] - ETA: 0s - loss: 0.0152 - semantic_0_loss: 0.0037 - semantic_1_loss: 0.0099 - semantic_2_loss: 0.0016 WARNING:tensorflow:Can save best model only with val_loss available, skipping.\n",
      "7/7 [==============================] - 85s 11s/step - loss: 0.0152 - semantic_0_loss: 0.0037 - semantic_1_loss: 0.0099 - semantic_2_loss: 0.0016 - lr: 5.5268e-05\n",
      "Epoch 61/200\n",
      "7/7 [==============================] - ETA: 0s - loss: 0.0147 - semantic_0_loss: 0.0035 - semantic_1_loss: 0.0095 - semantic_2_loss: 0.0016 WARNING:tensorflow:Can save best model only with val_loss available, skipping.\n",
      "7/7 [==============================] - 89s 11s/step - loss: 0.0147 - semantic_0_loss: 0.0035 - semantic_1_loss: 0.0095 - semantic_2_loss: 0.0016 - lr: 5.4716e-05\n",
      "Epoch 62/200\n",
      "7/7 [==============================] - ETA: 0s - loss: 0.0180 - semantic_0_loss: 0.0041 - semantic_1_loss: 0.0121 - semantic_2_loss: 0.0018 WARNING:tensorflow:Can save best model only with val_loss available, skipping.\n",
      "7/7 [==============================] - 91s 12s/step - loss: 0.0180 - semantic_0_loss: 0.0041 - semantic_1_loss: 0.0121 - semantic_2_loss: 0.0018 - lr: 5.4169e-05\n",
      "Epoch 63/200\n",
      "7/7 [==============================] - ETA: 0s - loss: 0.0135 - semantic_0_loss: 0.0030 - semantic_1_loss: 0.0090 - semantic_2_loss: 0.0015 WARNING:tensorflow:Can save best model only with val_loss available, skipping.\n",
      "7/7 [==============================] - 89s 12s/step - loss: 0.0135 - semantic_0_loss: 0.0030 - semantic_1_loss: 0.0090 - semantic_2_loss: 0.0015 - lr: 5.3627e-05\n",
      "Epoch 64/200\n",
      "7/7 [==============================] - ETA: 0s - loss: 0.0151 - semantic_0_loss: 0.0038 - semantic_1_loss: 0.0097 - semantic_2_loss: 0.0016 WARNING:tensorflow:Can save best model only with val_loss available, skipping.\n",
      "7/7 [==============================] - 84s 12s/step - loss: 0.0151 - semantic_0_loss: 0.0038 - semantic_1_loss: 0.0097 - semantic_2_loss: 0.0016 - lr: 5.3091e-05\n",
      "Epoch 65/200\n",
      "7/7 [==============================] - ETA: 0s - loss: 0.0156 - semantic_0_loss: 0.0036 - semantic_1_loss: 0.0102 - semantic_2_loss: 0.0017 WARNING:tensorflow:Can save best model only with val_loss available, skipping.\n",
      "7/7 [==============================] - 85s 12s/step - loss: 0.0156 - semantic_0_loss: 0.0036 - semantic_1_loss: 0.0102 - semantic_2_loss: 0.0017 - lr: 5.2560e-05\n",
      "Epoch 66/200\n",
      "7/7 [==============================] - ETA: 0s - loss: 0.0143 - semantic_0_loss: 0.0033 - semantic_1_loss: 0.0092 - semantic_2_loss: 0.0017 WARNING:tensorflow:Can save best model only with val_loss available, skipping.\n",
      "7/7 [==============================] - 85s 12s/step - loss: 0.0143 - semantic_0_loss: 0.0033 - semantic_1_loss: 0.0092 - semantic_2_loss: 0.0017 - lr: 5.2034e-05\n",
      "Epoch 67/200\n",
      "7/7 [==============================] - ETA: 0s - loss: 0.0111 - semantic_0_loss: 0.0028 - semantic_1_loss: 0.0069 - semantic_2_loss: 0.0013 WARNING:tensorflow:Can save best model only with val_loss available, skipping.\n",
      "7/7 [==============================] - 83s 12s/step - loss: 0.0111 - semantic_0_loss: 0.0028 - semantic_1_loss: 0.0069 - semantic_2_loss: 0.0013 - lr: 5.1514e-05\n",
      "Epoch 68/200\n",
      "7/7 [==============================] - ETA: 0s - loss: 0.0116 - semantic_0_loss: 0.0030 - semantic_1_loss: 0.0072 - semantic_2_loss: 0.0014 WARNING:tensorflow:Can save best model only with val_loss available, skipping.\n",
      "7/7 [==============================] - 84s 12s/step - loss: 0.0116 - semantic_0_loss: 0.0030 - semantic_1_loss: 0.0072 - semantic_2_loss: 0.0014 - lr: 5.0999e-05\n",
      "Epoch 69/200\n",
      "7/7 [==============================] - ETA: 0s - loss: 0.0189 - semantic_0_loss: 0.0046 - semantic_1_loss: 0.0124 - semantic_2_loss: 0.0018 WARNING:tensorflow:Can save best model only with val_loss available, skipping.\n",
      "7/7 [==============================] - 94s 14s/step - loss: 0.0189 - semantic_0_loss: 0.0046 - semantic_1_loss: 0.0124 - semantic_2_loss: 0.0018 - lr: 5.0489e-05\n",
      "Epoch 70/200\n",
      "7/7 [==============================] - ETA: 0s - loss: 0.0170 - semantic_0_loss: 0.0040 - semantic_1_loss: 0.0113 - semantic_2_loss: 0.0017 WARNING:tensorflow:Can save best model only with val_loss available, skipping.\n",
      "7/7 [==============================] - 89s 13s/step - loss: 0.0170 - semantic_0_loss: 0.0040 - semantic_1_loss: 0.0113 - semantic_2_loss: 0.0017 - lr: 4.9984e-05\n",
      "Epoch 71/200\n",
      "7/7 [==============================] - ETA: 0s - loss: 0.0166 - semantic_0_loss: 0.0039 - semantic_1_loss: 0.0109 - semantic_2_loss: 0.0018 WARNING:tensorflow:Can save best model only with val_loss available, skipping.\n",
      "7/7 [==============================] - 84s 12s/step - loss: 0.0166 - semantic_0_loss: 0.0039 - semantic_1_loss: 0.0109 - semantic_2_loss: 0.0018 - lr: 4.9484e-05\n",
      "Epoch 72/200\n",
      "7/7 [==============================] - ETA: 0s - loss: 0.0165 - semantic_0_loss: 0.0038 - semantic_1_loss: 0.0110 - semantic_2_loss: 0.0017 WARNING:tensorflow:Can save best model only with val_loss available, skipping.\n",
      "7/7 [==============================] - 87s 13s/step - loss: 0.0165 - semantic_0_loss: 0.0038 - semantic_1_loss: 0.0110 - semantic_2_loss: 0.0017 - lr: 4.8989e-05\n",
      "Epoch 73/200\n",
      "7/7 [==============================] - ETA: 0s - loss: 0.0140 - semantic_0_loss: 0.0034 - semantic_1_loss: 0.0090 - semantic_2_loss: 0.0016 WARNING:tensorflow:Can save best model only with val_loss available, skipping.\n",
      "7/7 [==============================] - 84s 13s/step - loss: 0.0140 - semantic_0_loss: 0.0034 - semantic_1_loss: 0.0090 - semantic_2_loss: 0.0016 - lr: 4.8499e-05\n",
      "Epoch 74/200\n",
      "7/7 [==============================] - ETA: 0s - loss: 0.0133 - semantic_0_loss: 0.0032 - semantic_1_loss: 0.0087 - semantic_2_loss: 0.0014 WARNING:tensorflow:Can save best model only with val_loss available, skipping.\n",
      "7/7 [==============================] - 85s 12s/step - loss: 0.0133 - semantic_0_loss: 0.0032 - semantic_1_loss: 0.0087 - semantic_2_loss: 0.0014 - lr: 4.8014e-05\n",
      "Epoch 75/200\n",
      "7/7 [==============================] - ETA: 0s - loss: 0.0123 - semantic_0_loss: 0.0029 - semantic_1_loss: 0.0079 - semantic_2_loss: 0.0015 WARNING:tensorflow:Can save best model only with val_loss available, skipping.\n",
      "7/7 [==============================] - 88s 13s/step - loss: 0.0123 - semantic_0_loss: 0.0029 - semantic_1_loss: 0.0079 - semantic_2_loss: 0.0015 - lr: 4.7534e-05\n",
      "Epoch 76/200\n",
      "7/7 [==============================] - ETA: 0s - loss: 0.0127 - semantic_0_loss: 0.0030 - semantic_1_loss: 0.0081 - semantic_2_loss: 0.0016 WARNING:tensorflow:Can save best model only with val_loss available, skipping.\n",
      "7/7 [==============================] - 85s 12s/step - loss: 0.0127 - semantic_0_loss: 0.0030 - semantic_1_loss: 0.0081 - semantic_2_loss: 0.0016 - lr: 4.7059e-05\n",
      "Epoch 77/200\n",
      "7/7 [==============================] - ETA: 0s - loss: 0.0143 - semantic_0_loss: 0.0036 - semantic_1_loss: 0.0092 - semantic_2_loss: 0.0016 WARNING:tensorflow:Can save best model only with val_loss available, skipping.\n",
      "7/7 [==============================] - 87s 12s/step - loss: 0.0143 - semantic_0_loss: 0.0036 - semantic_1_loss: 0.0092 - semantic_2_loss: 0.0016 - lr: 4.6588e-05\n",
      "Epoch 78/200\n",
      "7/7 [==============================] - ETA: 0s - loss: 0.0212 - semantic_0_loss: 0.0054 - semantic_1_loss: 0.0140 - semantic_2_loss: 0.0019 WARNING:tensorflow:Can save best model only with val_loss available, skipping.\n",
      "7/7 [==============================] - 83s 12s/step - loss: 0.0212 - semantic_0_loss: 0.0054 - semantic_1_loss: 0.0140 - semantic_2_loss: 0.0019 - lr: 4.6122e-05\n",
      "Epoch 79/200\n",
      "7/7 [==============================] - ETA: 0s - loss: 0.0111 - semantic_0_loss: 0.0028 - semantic_1_loss: 0.0070 - semantic_2_loss: 0.0013 WARNING:tensorflow:Can save best model only with val_loss available, skipping.\n",
      "7/7 [==============================] - 85s 13s/step - loss: 0.0111 - semantic_0_loss: 0.0028 - semantic_1_loss: 0.0070 - semantic_2_loss: 0.0013 - lr: 4.5661e-05\n",
      "Epoch 80/200\n",
      "7/7 [==============================] - ETA: 0s - loss: 0.0127 - semantic_0_loss: 0.0028 - semantic_1_loss: 0.0084 - semantic_2_loss: 0.0016 WARNING:tensorflow:Can save best model only with val_loss available, skipping.\n",
      "7/7 [==============================] - 88s 14s/step - loss: 0.0127 - semantic_0_loss: 0.0028 - semantic_1_loss: 0.0084 - semantic_2_loss: 0.0016 - lr: 4.5204e-05\n",
      "Epoch 81/200\n",
      "7/7 [==============================] - ETA: 0s - loss: 0.0162 - semantic_0_loss: 0.0040 - semantic_1_loss: 0.0106 - semantic_2_loss: 0.0016 WARNING:tensorflow:Can save best model only with val_loss available, skipping.\n",
      "7/7 [==============================] - 86s 12s/step - loss: 0.0162 - semantic_0_loss: 0.0040 - semantic_1_loss: 0.0106 - semantic_2_loss: 0.0016 - lr: 4.4752e-05\n",
      "Epoch 82/200\n",
      "7/7 [==============================] - ETA: 0s - loss: 0.0122 - semantic_0_loss: 0.0028 - semantic_1_loss: 0.0079 - semantic_2_loss: 0.0015 WARNING:tensorflow:Can save best model only with val_loss available, skipping.\n",
      "7/7 [==============================] - 84s 12s/step - loss: 0.0122 - semantic_0_loss: 0.0028 - semantic_1_loss: 0.0079 - semantic_2_loss: 0.0015 - lr: 4.4305e-05\n",
      "Epoch 83/200\n",
      "7/7 [==============================] - ETA: 0s - loss: 0.0151 - semantic_0_loss: 0.0035 - semantic_1_loss: 0.0099 - semantic_2_loss: 0.0017 WARNING:tensorflow:Can save best model only with val_loss available, skipping.\n",
      "7/7 [==============================] - 85s 12s/step - loss: 0.0151 - semantic_0_loss: 0.0035 - semantic_1_loss: 0.0099 - semantic_2_loss: 0.0017 - lr: 4.3862e-05\n",
      "Epoch 84/200\n",
      "7/7 [==============================] - ETA: 0s - loss: 0.0211 - semantic_0_loss: 0.0048 - semantic_1_loss: 0.0142 - semantic_2_loss: 0.0021 WARNING:tensorflow:Can save best model only with val_loss available, skipping.\n",
      "7/7 [==============================] - 84s 12s/step - loss: 0.0211 - semantic_0_loss: 0.0048 - semantic_1_loss: 0.0142 - semantic_2_loss: 0.0021 - lr: 4.3423e-05\n",
      "Epoch 85/200\n",
      "7/7 [==============================] - ETA: 0s - loss: 0.0129 - semantic_0_loss: 0.0030 - semantic_1_loss: 0.0082 - semantic_2_loss: 0.0016 WARNING:tensorflow:Can save best model only with val_loss available, skipping.\n",
      "7/7 [==============================] - 93s 13s/step - loss: 0.0129 - semantic_0_loss: 0.0030 - semantic_1_loss: 0.0082 - semantic_2_loss: 0.0016 - lr: 4.2989e-05\n",
      "Epoch 86/200\n",
      "7/7 [==============================] - ETA: 0s - loss: 0.0175 - semantic_0_loss: 0.0043 - semantic_1_loss: 0.0114 - semantic_2_loss: 0.0018 WARNING:tensorflow:Can save best model only with val_loss available, skipping.\n",
      "7/7 [==============================] - 91s 12s/step - loss: 0.0175 - semantic_0_loss: 0.0043 - semantic_1_loss: 0.0114 - semantic_2_loss: 0.0018 - lr: 4.2559e-05\n",
      "Epoch 87/200\n",
      "7/7 [==============================] - ETA: 0s - loss: 0.0121 - semantic_0_loss: 0.0030 - semantic_1_loss: 0.0077 - semantic_2_loss: 0.0015 WARNING:tensorflow:Can save best model only with val_loss available, skipping.\n",
      "7/7 [==============================] - 85s 12s/step - loss: 0.0121 - semantic_0_loss: 0.0030 - semantic_1_loss: 0.0077 - semantic_2_loss: 0.0015 - lr: 4.2133e-05\n",
      "Epoch 88/200\n",
      "7/7 [==============================] - ETA: 0s - loss: 0.0156 - semantic_0_loss: 0.0039 - semantic_1_loss: 0.0101 - semantic_2_loss: 0.0016 WARNING:tensorflow:Can save best model only with val_loss available, skipping.\n",
      "7/7 [==============================] - 84s 12s/step - loss: 0.0156 - semantic_0_loss: 0.0039 - semantic_1_loss: 0.0101 - semantic_2_loss: 0.0016 - lr: 4.1712e-05\n",
      "Epoch 89/200\n",
      "7/7 [==============================] - ETA: 0s - loss: 0.0178 - semantic_0_loss: 0.0044 - semantic_1_loss: 0.0117 - semantic_2_loss: 0.0017 WARNING:tensorflow:Can save best model only with val_loss available, skipping.\n",
      "7/7 [==============================] - 84s 12s/step - loss: 0.0178 - semantic_0_loss: 0.0044 - semantic_1_loss: 0.0117 - semantic_2_loss: 0.0017 - lr: 4.1295e-05\n",
      "Epoch 90/200\n",
      "7/7 [==============================] - ETA: 0s - loss: 0.0147 - semantic_0_loss: 0.0036 - semantic_1_loss: 0.0096 - semantic_2_loss: 0.0015 WARNING:tensorflow:Can save best model only with val_loss available, skipping.\n",
      "7/7 [==============================] - 86s 13s/step - loss: 0.0147 - semantic_0_loss: 0.0036 - semantic_1_loss: 0.0096 - semantic_2_loss: 0.0015 - lr: 4.0882e-05\n",
      "Epoch 91/200\n",
      "7/7 [==============================] - ETA: 0s - loss: 0.0164 - semantic_0_loss: 0.0041 - semantic_1_loss: 0.0106 - semantic_2_loss: 0.0017 WARNING:tensorflow:Can save best model only with val_loss available, skipping.\n",
      "7/7 [==============================] - 83s 11s/step - loss: 0.0164 - semantic_0_loss: 0.0041 - semantic_1_loss: 0.0106 - semantic_2_loss: 0.0017 - lr: 4.0473e-05\n",
      "Epoch 92/200\n",
      "7/7 [==============================] - ETA: 0s - loss: 0.0108 - semantic_0_loss: 0.0025 - semantic_1_loss: 0.0068 - semantic_2_loss: 0.0014 WARNING:tensorflow:Can save best model only with val_loss available, skipping.\n",
      "7/7 [==============================] - 85s 11s/step - loss: 0.0108 - semantic_0_loss: 0.0025 - semantic_1_loss: 0.0068 - semantic_2_loss: 0.0014 - lr: 4.0068e-05\n",
      "Epoch 93/200\n",
      "7/7 [==============================] - ETA: 0s - loss: 0.0125 - semantic_0_loss: 0.0030 - semantic_1_loss: 0.0082 - semantic_2_loss: 0.0014 WARNING:tensorflow:Can save best model only with val_loss available, skipping.\n",
      "7/7 [==============================] - 88s 12s/step - loss: 0.0125 - semantic_0_loss: 0.0030 - semantic_1_loss: 0.0082 - semantic_2_loss: 0.0014 - lr: 3.9668e-05\n",
      "Epoch 94/200\n",
      "7/7 [==============================] - ETA: 0s - loss: 0.0157 - semantic_0_loss: 0.0038 - semantic_1_loss: 0.0103 - semantic_2_loss: 0.0016 WARNING:tensorflow:Can save best model only with val_loss available, skipping.\n",
      "7/7 [==============================] - 85s 13s/step - loss: 0.0157 - semantic_0_loss: 0.0038 - semantic_1_loss: 0.0103 - semantic_2_loss: 0.0016 - lr: 3.9271e-05\n",
      "Epoch 95/200\n",
      "7/7 [==============================] - ETA: 0s - loss: 0.0152 - semantic_0_loss: 0.0039 - semantic_1_loss: 0.0097 - semantic_2_loss: 0.0015 WARNING:tensorflow:Can save best model only with val_loss available, skipping.\n",
      "7/7 [==============================] - 85s 12s/step - loss: 0.0152 - semantic_0_loss: 0.0039 - semantic_1_loss: 0.0097 - semantic_2_loss: 0.0015 - lr: 3.8878e-05\n",
      "Epoch 96/200\n",
      "7/7 [==============================] - ETA: 0s - loss: 0.0172 - semantic_0_loss: 0.0046 - semantic_1_loss: 0.0109 - semantic_2_loss: 0.0017 WARNING:tensorflow:Can save best model only with val_loss available, skipping.\n",
      "7/7 [==============================] - 88s 12s/step - loss: 0.0172 - semantic_0_loss: 0.0046 - semantic_1_loss: 0.0109 - semantic_2_loss: 0.0017 - lr: 3.8490e-05\n",
      "Epoch 97/200\n",
      "7/7 [==============================] - ETA: 0s - loss: 0.0165 - semantic_0_loss: 0.0039 - semantic_1_loss: 0.0109 - semantic_2_loss: 0.0016 WARNING:tensorflow:Can save best model only with val_loss available, skipping.\n",
      "7/7 [==============================] - 85s 12s/step - loss: 0.0165 - semantic_0_loss: 0.0039 - semantic_1_loss: 0.0109 - semantic_2_loss: 0.0016 - lr: 3.8105e-05\n",
      "Epoch 98/200\n",
      "7/7 [==============================] - ETA: 0s - loss: 0.0128 - semantic_0_loss: 0.0034 - semantic_1_loss: 0.0080 - semantic_2_loss: 0.0014 WARNING:tensorflow:Can save best model only with val_loss available, skipping.\n",
      "7/7 [==============================] - 95s 13s/step - loss: 0.0128 - semantic_0_loss: 0.0034 - semantic_1_loss: 0.0080 - semantic_2_loss: 0.0014 - lr: 3.7724e-05\n",
      "Epoch 99/200\n",
      "7/7 [==============================] - ETA: 0s - loss: 0.0157 - semantic_0_loss: 0.0040 - semantic_1_loss: 0.0100 - semantic_2_loss: 0.0017 WARNING:tensorflow:Can save best model only with val_loss available, skipping.\n",
      "7/7 [==============================] - 88s 13s/step - loss: 0.0157 - semantic_0_loss: 0.0040 - semantic_1_loss: 0.0100 - semantic_2_loss: 0.0017 - lr: 3.7346e-05\n",
      "Epoch 100/200\n",
      "7/7 [==============================] - ETA: 0s - loss: 0.0140 - semantic_0_loss: 0.0033 - semantic_1_loss: 0.0091 - semantic_2_loss: 0.0016 WARNING:tensorflow:Can save best model only with val_loss available, skipping.\n",
      "7/7 [==============================] - 85s 11s/step - loss: 0.0140 - semantic_0_loss: 0.0033 - semantic_1_loss: 0.0091 - semantic_2_loss: 0.0016 - lr: 3.6973e-05\n",
      "Epoch 101/200\n",
      "7/7 [==============================] - ETA: 0s - loss: 0.0181 - semantic_0_loss: 0.0044 - semantic_1_loss: 0.0119 - semantic_2_loss: 0.0018 WARNING:tensorflow:Can save best model only with val_loss available, skipping.\n",
      "7/7 [==============================] - 84s 12s/step - loss: 0.0181 - semantic_0_loss: 0.0044 - semantic_1_loss: 0.0119 - semantic_2_loss: 0.0018 - lr: 3.6603e-05\n",
      "Epoch 102/200\n",
      "7/7 [==============================] - ETA: 0s - loss: 0.0189 - semantic_0_loss: 0.0047 - semantic_1_loss: 0.0124 - semantic_2_loss: 0.0018 WARNING:tensorflow:Can save best model only with val_loss available, skipping.\n",
      "7/7 [==============================] - 84s 11s/step - loss: 0.0189 - semantic_0_loss: 0.0047 - semantic_1_loss: 0.0124 - semantic_2_loss: 0.0018 - lr: 3.6237e-05\n",
      "Epoch 103/200\n",
      "7/7 [==============================] - ETA: 0s - loss: 0.0128 - semantic_0_loss: 0.0030 - semantic_1_loss: 0.0082 - semantic_2_loss: 0.0015 WARNING:tensorflow:Can save best model only with val_loss available, skipping.\n",
      "7/7 [==============================] - 84s 12s/step - loss: 0.0128 - semantic_0_loss: 0.0030 - semantic_1_loss: 0.0082 - semantic_2_loss: 0.0015 - lr: 3.5875e-05\n",
      "Epoch 104/200\n",
      "7/7 [==============================] - ETA: 0s - loss: 0.0136 - semantic_0_loss: 0.0034 - semantic_1_loss: 0.0086 - semantic_2_loss: 0.0015 WARNING:tensorflow:Can save best model only with val_loss available, skipping.\n",
      "7/7 [==============================] - 85s 12s/step - loss: 0.0136 - semantic_0_loss: 0.0034 - semantic_1_loss: 0.0086 - semantic_2_loss: 0.0015 - lr: 3.5516e-05\n",
      "Epoch 105/200\n",
      "7/7 [==============================] - ETA: 0s - loss: 0.0165 - semantic_0_loss: 0.0042 - semantic_1_loss: 0.0107 - semantic_2_loss: 0.0016 WARNING:tensorflow:Can save best model only with val_loss available, skipping.\n",
      "7/7 [==============================] - 85s 12s/step - loss: 0.0165 - semantic_0_loss: 0.0042 - semantic_1_loss: 0.0107 - semantic_2_loss: 0.0016 - lr: 3.5161e-05\n",
      "Epoch 106/200\n",
      "7/7 [==============================] - ETA: 0s - loss: 0.0136 - semantic_0_loss: 0.0035 - semantic_1_loss: 0.0085 - semantic_2_loss: 0.0015 WARNING:tensorflow:Can save best model only with val_loss available, skipping.\n",
      "7/7 [==============================] - 84s 12s/step - loss: 0.0136 - semantic_0_loss: 0.0035 - semantic_1_loss: 0.0085 - semantic_2_loss: 0.0015 - lr: 3.4809e-05\n",
      "Epoch 107/200\n",
      "7/7 [==============================] - ETA: 0s - loss: 0.0129 - semantic_0_loss: 0.0032 - semantic_1_loss: 0.0083 - semantic_2_loss: 0.0014 WARNING:tensorflow:Can save best model only with val_loss available, skipping.\n",
      "7/7 [==============================] - 91s 13s/step - loss: 0.0129 - semantic_0_loss: 0.0032 - semantic_1_loss: 0.0083 - semantic_2_loss: 0.0014 - lr: 3.4461e-05\n",
      "Epoch 108/200\n",
      "7/7 [==============================] - ETA: 0s - loss: 0.0144 - semantic_0_loss: 0.0036 - semantic_1_loss: 0.0093 - semantic_2_loss: 0.0015 WARNING:tensorflow:Can save best model only with val_loss available, skipping.\n",
      "7/7 [==============================] - 89s 12s/step - loss: 0.0144 - semantic_0_loss: 0.0036 - semantic_1_loss: 0.0093 - semantic_2_loss: 0.0015 - lr: 3.4117e-05\n",
      "Epoch 109/200\n",
      "7/7 [==============================] - ETA: 0s - loss: 0.0150 - semantic_0_loss: 0.0037 - semantic_1_loss: 0.0097 - semantic_2_loss: 0.0016 WARNING:tensorflow:Can save best model only with val_loss available, skipping.\n",
      "7/7 [==============================] - 88s 12s/step - loss: 0.0150 - semantic_0_loss: 0.0037 - semantic_1_loss: 0.0097 - semantic_2_loss: 0.0016 - lr: 3.3775e-05\n",
      "Epoch 110/200\n",
      "7/7 [==============================] - ETA: 0s - loss: 0.0148 - semantic_0_loss: 0.0034 - semantic_1_loss: 0.0098 - semantic_2_loss: 0.0016 WARNING:tensorflow:Can save best model only with val_loss available, skipping.\n",
      "7/7 [==============================] - 84s 12s/step - loss: 0.0148 - semantic_0_loss: 0.0034 - semantic_1_loss: 0.0098 - semantic_2_loss: 0.0016 - lr: 3.3438e-05\n",
      "Epoch 111/200\n",
      "7/7 [==============================] - ETA: 0s - loss: 0.0137 - semantic_0_loss: 0.0033 - semantic_1_loss: 0.0088 - semantic_2_loss: 0.0016 WARNING:tensorflow:Can save best model only with val_loss available, skipping.\n",
      "7/7 [==============================] - 85s 13s/step - loss: 0.0137 - semantic_0_loss: 0.0033 - semantic_1_loss: 0.0088 - semantic_2_loss: 0.0016 - lr: 3.3103e-05\n",
      "Epoch 112/200\n",
      "7/7 [==============================] - ETA: 0s - loss: 0.0150 - semantic_0_loss: 0.0039 - semantic_1_loss: 0.0094 - semantic_2_loss: 0.0016 WARNING:tensorflow:Can save best model only with val_loss available, skipping.\n",
      "7/7 [==============================] - 86s 12s/step - loss: 0.0150 - semantic_0_loss: 0.0039 - semantic_1_loss: 0.0094 - semantic_2_loss: 0.0016 - lr: 3.2772e-05\n",
      "Epoch 113/200\n",
      "7/7 [==============================] - ETA: 0s - loss: 0.0128 - semantic_0_loss: 0.0034 - semantic_1_loss: 0.0080 - semantic_2_loss: 0.0014 WARNING:tensorflow:Can save best model only with val_loss available, skipping.\n",
      "7/7 [==============================] - 85s 13s/step - loss: 0.0128 - semantic_0_loss: 0.0034 - semantic_1_loss: 0.0080 - semantic_2_loss: 0.0014 - lr: 3.2445e-05\n",
      "Epoch 114/200\n",
      "7/7 [==============================] - ETA: 0s - loss: 0.0172 - semantic_0_loss: 0.0041 - semantic_1_loss: 0.0114 - semantic_2_loss: 0.0017 WARNING:tensorflow:Can save best model only with val_loss available, skipping.\n",
      "7/7 [==============================] - 85s 12s/step - loss: 0.0172 - semantic_0_loss: 0.0041 - semantic_1_loss: 0.0114 - semantic_2_loss: 0.0017 - lr: 3.2120e-05\n",
      "Epoch 115/200\n",
      "7/7 [==============================] - ETA: 0s - loss: 0.0111 - semantic_0_loss: 0.0029 - semantic_1_loss: 0.0069 - semantic_2_loss: 0.0013 WARNING:tensorflow:Can save best model only with val_loss available, skipping.\n",
      "7/7 [==============================] - 93s 13s/step - loss: 0.0111 - semantic_0_loss: 0.0029 - semantic_1_loss: 0.0069 - semantic_2_loss: 0.0013 - lr: 3.1799e-05\n",
      "Epoch 116/200\n",
      "7/7 [==============================] - ETA: 0s - loss: 0.0144 - semantic_0_loss: 0.0036 - semantic_1_loss: 0.0092 - semantic_2_loss: 0.0016 WARNING:tensorflow:Can save best model only with val_loss available, skipping.\n",
      "7/7 [==============================] - 89s 13s/step - loss: 0.0144 - semantic_0_loss: 0.0036 - semantic_1_loss: 0.0092 - semantic_2_loss: 0.0016 - lr: 3.1481e-05\n",
      "Epoch 117/200\n",
      "7/7 [==============================] - ETA: 0s - loss: 0.0184 - semantic_0_loss: 0.0046 - semantic_1_loss: 0.0120 - semantic_2_loss: 0.0018 WARNING:tensorflow:Can save best model only with val_loss available, skipping.\n",
      "7/7 [==============================] - 97s 13s/step - loss: 0.0184 - semantic_0_loss: 0.0046 - semantic_1_loss: 0.0120 - semantic_2_loss: 0.0018 - lr: 3.1166e-05\n",
      "Epoch 118/200\n",
      "7/7 [==============================] - ETA: 0s - loss: 0.0146 - semantic_0_loss: 0.0037 - semantic_1_loss: 0.0094 - semantic_2_loss: 0.0015 WARNING:tensorflow:Can save best model only with val_loss available, skipping.\n",
      "7/7 [==============================] - 85s 12s/step - loss: 0.0146 - semantic_0_loss: 0.0037 - semantic_1_loss: 0.0094 - semantic_2_loss: 0.0015 - lr: 3.0854e-05\n",
      "Epoch 119/200\n",
      "7/7 [==============================] - ETA: 0s - loss: 0.0141 - semantic_0_loss: 0.0032 - semantic_1_loss: 0.0092 - semantic_2_loss: 0.0017 WARNING:tensorflow:Can save best model only with val_loss available, skipping.\n",
      "7/7 [==============================] - 84s 11s/step - loss: 0.0141 - semantic_0_loss: 0.0032 - semantic_1_loss: 0.0092 - semantic_2_loss: 0.0017 - lr: 3.0546e-05\n",
      "Epoch 120/200\n",
      "7/7 [==============================] - ETA: 0s - loss: 0.0186 - semantic_0_loss: 0.0047 - semantic_1_loss: 0.0121 - semantic_2_loss: 0.0019 WARNING:tensorflow:Can save best model only with val_loss available, skipping.\n",
      "7/7 [==============================] - 85s 11s/step - loss: 0.0186 - semantic_0_loss: 0.0047 - semantic_1_loss: 0.0121 - semantic_2_loss: 0.0019 - lr: 3.0240e-05\n",
      "Epoch 121/200\n",
      "7/7 [==============================] - ETA: 0s - loss: 0.0105 - semantic_0_loss: 0.0026 - semantic_1_loss: 0.0065 - semantic_2_loss: 0.0014 WARNING:tensorflow:Can save best model only with val_loss available, skipping.\n",
      "7/7 [==============================] - 86s 13s/step - loss: 0.0105 - semantic_0_loss: 0.0026 - semantic_1_loss: 0.0065 - semantic_2_loss: 0.0014 - lr: 2.9938e-05\n",
      "Epoch 122/200\n",
      "7/7 [==============================] - ETA: 0s - loss: 0.0159 - semantic_0_loss: 0.0036 - semantic_1_loss: 0.0105 - semantic_2_loss: 0.0017 WARNING:tensorflow:Can save best model only with val_loss available, skipping.\n",
      "7/7 [==============================] - 84s 13s/step - loss: 0.0159 - semantic_0_loss: 0.0036 - semantic_1_loss: 0.0105 - semantic_2_loss: 0.0017 - lr: 2.9639e-05\n",
      "Epoch 123/200\n",
      "7/7 [==============================] - ETA: 0s - loss: 0.0166 - semantic_0_loss: 0.0040 - semantic_1_loss: 0.0108 - semantic_2_loss: 0.0018 WARNING:tensorflow:Can save best model only with val_loss available, skipping.\n",
      "7/7 [==============================] - 86s 12s/step - loss: 0.0166 - semantic_0_loss: 0.0040 - semantic_1_loss: 0.0108 - semantic_2_loss: 0.0018 - lr: 2.9342e-05\n",
      "Epoch 124/200\n",
      "7/7 [==============================] - ETA: 0s - loss: 0.0157 - semantic_0_loss: 0.0037 - semantic_1_loss: 0.0104 - semantic_2_loss: 0.0017 WARNING:tensorflow:Can save best model only with val_loss available, skipping.\n",
      "7/7 [==============================] - 85s 13s/step - loss: 0.0157 - semantic_0_loss: 0.0037 - semantic_1_loss: 0.0104 - semantic_2_loss: 0.0017 - lr: 2.9049e-05\n",
      "Epoch 125/200\n",
      "7/7 [==============================] - ETA: 0s - loss: 0.0155 - semantic_0_loss: 0.0037 - semantic_1_loss: 0.0101 - semantic_2_loss: 0.0016 WARNING:tensorflow:Can save best model only with val_loss available, skipping.\n",
      "7/7 [==============================] - 95s 13s/step - loss: 0.0155 - semantic_0_loss: 0.0037 - semantic_1_loss: 0.0101 - semantic_2_loss: 0.0016 - lr: 2.8758e-05\n",
      "Epoch 126/200\n",
      "7/7 [==============================] - ETA: 0s - loss: 0.0172 - semantic_0_loss: 0.0043 - semantic_1_loss: 0.0111 - semantic_2_loss: 0.0018 WARNING:tensorflow:Can save best model only with val_loss available, skipping.\n",
      "7/7 [==============================] - 85s 12s/step - loss: 0.0172 - semantic_0_loss: 0.0043 - semantic_1_loss: 0.0111 - semantic_2_loss: 0.0018 - lr: 2.8471e-05\n",
      "Epoch 127/200\n",
      "7/7 [==============================] - ETA: 0s - loss: 0.0140 - semantic_0_loss: 0.0033 - semantic_1_loss: 0.0090 - semantic_2_loss: 0.0017 WARNING:tensorflow:Can save best model only with val_loss available, skipping.\n",
      "7/7 [==============================] - 94s 13s/step - loss: 0.0140 - semantic_0_loss: 0.0033 - semantic_1_loss: 0.0090 - semantic_2_loss: 0.0017 - lr: 2.8186e-05\n",
      "Epoch 128/200\n",
      "7/7 [==============================] - ETA: 0s - loss: 0.0141 - semantic_0_loss: 0.0034 - semantic_1_loss: 0.0092 - semantic_2_loss: 0.0015 WARNING:tensorflow:Can save best model only with val_loss available, skipping.\n",
      "7/7 [==============================] - 93s 12s/step - loss: 0.0141 - semantic_0_loss: 0.0034 - semantic_1_loss: 0.0092 - semantic_2_loss: 0.0015 - lr: 2.7904e-05\n",
      "Epoch 129/200\n",
      "7/7 [==============================] - ETA: 0s - loss: 0.0158 - semantic_0_loss: 0.0040 - semantic_1_loss: 0.0101 - semantic_2_loss: 0.0017 WARNING:tensorflow:Can save best model only with val_loss available, skipping.\n",
      "7/7 [==============================] - 84s 11s/step - loss: 0.0158 - semantic_0_loss: 0.0040 - semantic_1_loss: 0.0101 - semantic_2_loss: 0.0017 - lr: 2.7625e-05\n",
      "Epoch 130/200\n",
      "7/7 [==============================] - ETA: 0s - loss: 0.0109 - semantic_0_loss: 0.0027 - semantic_1_loss: 0.0069 - semantic_2_loss: 0.0013 WARNING:tensorflow:Can save best model only with val_loss available, skipping.\n",
      "7/7 [==============================] - 88s 12s/step - loss: 0.0109 - semantic_0_loss: 0.0027 - semantic_1_loss: 0.0069 - semantic_2_loss: 0.0013 - lr: 2.7349e-05\n",
      "Epoch 131/200\n",
      "7/7 [==============================] - ETA: 0s - loss: 0.0156 - semantic_0_loss: 0.0037 - semantic_1_loss: 0.0103 - semantic_2_loss: 0.0016 WARNING:tensorflow:Can save best model only with val_loss available, skipping.\n",
      "7/7 [==============================] - 84s 12s/step - loss: 0.0156 - semantic_0_loss: 0.0037 - semantic_1_loss: 0.0103 - semantic_2_loss: 0.0016 - lr: 2.7075e-05\n",
      "Epoch 132/200\n",
      "7/7 [==============================] - ETA: 0s - loss: 0.0169 - semantic_0_loss: 0.0043 - semantic_1_loss: 0.0110 - semantic_2_loss: 0.0016 WARNING:tensorflow:Can save best model only with val_loss available, skipping.\n",
      "7/7 [==============================] - 93s 11s/step - loss: 0.0169 - semantic_0_loss: 0.0043 - semantic_1_loss: 0.0110 - semantic_2_loss: 0.0016 - lr: 2.6805e-05\n",
      "Epoch 133/200\n",
      "7/7 [==============================] - ETA: 0s - loss: 0.0177 - semantic_0_loss: 0.0044 - semantic_1_loss: 0.0116 - semantic_2_loss: 0.0017 WARNING:tensorflow:Can save best model only with val_loss available, skipping.\n",
      "7/7 [==============================] - 84s 12s/step - loss: 0.0177 - semantic_0_loss: 0.0044 - semantic_1_loss: 0.0116 - semantic_2_loss: 0.0017 - lr: 2.6537e-05\n",
      "Epoch 134/200\n",
      "7/7 [==============================] - ETA: 0s - loss: 0.0114 - semantic_0_loss: 0.0027 - semantic_1_loss: 0.0073 - semantic_2_loss: 0.0013 WARNING:tensorflow:Can save best model only with val_loss available, skipping.\n",
      "7/7 [==============================] - 90s 13s/step - loss: 0.0114 - semantic_0_loss: 0.0027 - semantic_1_loss: 0.0073 - semantic_2_loss: 0.0013 - lr: 2.6271e-05\n",
      "Epoch 135/200\n",
      "7/7 [==============================] - ETA: 0s - loss: 0.0102 - semantic_0_loss: 0.0026 - semantic_1_loss: 0.0064 - semantic_2_loss: 0.0012 WARNING:tensorflow:Can save best model only with val_loss available, skipping.\n",
      "7/7 [==============================] - 85s 12s/step - loss: 0.0102 - semantic_0_loss: 0.0026 - semantic_1_loss: 0.0064 - semantic_2_loss: 0.0012 - lr: 2.6009e-05\n",
      "Epoch 136/200\n",
      "7/7 [==============================] - ETA: 0s - loss: 0.0123 - semantic_0_loss: 0.0032 - semantic_1_loss: 0.0078 - semantic_2_loss: 0.0014 WARNING:tensorflow:Can save best model only with val_loss available, skipping.\n",
      "7/7 [==============================] - 83s 12s/step - loss: 0.0123 - semantic_0_loss: 0.0032 - semantic_1_loss: 0.0078 - semantic_2_loss: 0.0014 - lr: 2.5748e-05\n",
      "Epoch 137/200\n",
      "7/7 [==============================] - ETA: 0s - loss: 0.0128 - semantic_0_loss: 0.0032 - semantic_1_loss: 0.0082 - semantic_2_loss: 0.0015 WARNING:tensorflow:Can save best model only with val_loss available, skipping.\n",
      "7/7 [==============================] - 85s 12s/step - loss: 0.0128 - semantic_0_loss: 0.0032 - semantic_1_loss: 0.0082 - semantic_2_loss: 0.0015 - lr: 2.5491e-05\n",
      "Epoch 138/200\n",
      "7/7 [==============================] - ETA: 0s - loss: 0.0100 - semantic_0_loss: 0.0026 - semantic_1_loss: 0.0062 - semantic_2_loss: 0.0012 WARNING:tensorflow:Can save best model only with val_loss available, skipping.\n",
      "7/7 [==============================] - 94s 15s/step - loss: 0.0100 - semantic_0_loss: 0.0026 - semantic_1_loss: 0.0062 - semantic_2_loss: 0.0012 - lr: 2.5236e-05\n",
      "Epoch 139/200\n",
      "7/7 [==============================] - ETA: 0s - loss: 0.0148 - semantic_0_loss: 0.0036 - semantic_1_loss: 0.0096 - semantic_2_loss: 0.0016 WARNING:tensorflow:Can save best model only with val_loss available, skipping.\n",
      "7/7 [==============================] - 84s 12s/step - loss: 0.0148 - semantic_0_loss: 0.0036 - semantic_1_loss: 0.0096 - semantic_2_loss: 0.0016 - lr: 2.4984e-05\n",
      "Epoch 140/200\n",
      "7/7 [==============================] - ETA: 0s - loss: 0.0109 - semantic_0_loss: 0.0025 - semantic_1_loss: 0.0070 - semantic_2_loss: 0.0014 WARNING:tensorflow:Can save best model only with val_loss available, skipping.\n",
      "7/7 [==============================] - 85s 12s/step - loss: 0.0109 - semantic_0_loss: 0.0025 - semantic_1_loss: 0.0070 - semantic_2_loss: 0.0014 - lr: 2.4734e-05\n",
      "Epoch 141/200\n",
      "7/7 [==============================] - ETA: 0s - loss: 0.0104 - semantic_0_loss: 0.0026 - semantic_1_loss: 0.0065 - semantic_2_loss: 0.0013 WARNING:tensorflow:Can save best model only with val_loss available, skipping.\n",
      "7/7 [==============================] - 89s 14s/step - loss: 0.0104 - semantic_0_loss: 0.0026 - semantic_1_loss: 0.0065 - semantic_2_loss: 0.0013 - lr: 2.4487e-05\n",
      "Epoch 142/200\n",
      "7/7 [==============================] - ETA: 0s - loss: 0.0112 - semantic_0_loss: 0.0026 - semantic_1_loss: 0.0072 - semantic_2_loss: 0.0014 WARNING:tensorflow:Can save best model only with val_loss available, skipping.\n",
      "7/7 [==============================] - 88s 13s/step - loss: 0.0112 - semantic_0_loss: 0.0026 - semantic_1_loss: 0.0072 - semantic_2_loss: 0.0014 - lr: 2.4242e-05\n",
      "Epoch 143/200\n",
      "7/7 [==============================] - ETA: 0s - loss: 0.0158 - semantic_0_loss: 0.0040 - semantic_1_loss: 0.0102 - semantic_2_loss: 0.0016 WARNING:tensorflow:Can save best model only with val_loss available, skipping.\n",
      "7/7 [==============================] - 84s 11s/step - loss: 0.0158 - semantic_0_loss: 0.0040 - semantic_1_loss: 0.0102 - semantic_2_loss: 0.0016 - lr: 2.3999e-05\n",
      "Epoch 144/200\n",
      "7/7 [==============================] - ETA: 0s - loss: 0.0156 - semantic_0_loss: 0.0042 - semantic_1_loss: 0.0098 - semantic_2_loss: 0.0016 WARNING:tensorflow:Can save best model only with val_loss available, skipping.\n",
      "7/7 [==============================] - 84s 12s/step - loss: 0.0156 - semantic_0_loss: 0.0042 - semantic_1_loss: 0.0098 - semantic_2_loss: 0.0016 - lr: 2.3759e-05\n",
      "Epoch 145/200\n",
      "7/7 [==============================] - ETA: 0s - loss: 0.0190 - semantic_0_loss: 0.0048 - semantic_1_loss: 0.0125 - semantic_2_loss: 0.0017 WARNING:tensorflow:Can save best model only with val_loss available, skipping.\n",
      "7/7 [==============================] - 84s 12s/step - loss: 0.0190 - semantic_0_loss: 0.0048 - semantic_1_loss: 0.0125 - semantic_2_loss: 0.0017 - lr: 2.3522e-05\n",
      "Epoch 146/200\n",
      "7/7 [==============================] - ETA: 0s - loss: 0.0181 - semantic_0_loss: 0.0044 - semantic_1_loss: 0.0120 - semantic_2_loss: 0.0018 WARNING:tensorflow:Can save best model only with val_loss available, skipping.\n",
      "7/7 [==============================] - 92s 13s/step - loss: 0.0181 - semantic_0_loss: 0.0044 - semantic_1_loss: 0.0120 - semantic_2_loss: 0.0018 - lr: 2.3286e-05\n",
      "Epoch 147/200\n",
      "7/7 [==============================] - ETA: 0s - loss: 0.0125 - semantic_0_loss: 0.0032 - semantic_1_loss: 0.0079 - semantic_2_loss: 0.0014 WARNING:tensorflow:Can save best model only with val_loss available, skipping.\n",
      "7/7 [==============================] - 87s 12s/step - loss: 0.0125 - semantic_0_loss: 0.0032 - semantic_1_loss: 0.0079 - semantic_2_loss: 0.0014 - lr: 2.3054e-05\n",
      "Epoch 148/200\n",
      "7/7 [==============================] - ETA: 0s - loss: 0.0145 - semantic_0_loss: 0.0033 - semantic_1_loss: 0.0095 - semantic_2_loss: 0.0016 WARNING:tensorflow:Can save best model only with val_loss available, skipping.\n",
      "7/7 [==============================] - 84s 12s/step - loss: 0.0145 - semantic_0_loss: 0.0033 - semantic_1_loss: 0.0095 - semantic_2_loss: 0.0016 - lr: 2.2823e-05\n",
      "Epoch 149/200\n",
      "7/7 [==============================] - ETA: 0s - loss: 0.0136 - semantic_0_loss: 0.0034 - semantic_1_loss: 0.0087 - semantic_2_loss: 0.0015 WARNING:tensorflow:Can save best model only with val_loss available, skipping.\n",
      "7/7 [==============================] - 88s 13s/step - loss: 0.0136 - semantic_0_loss: 0.0034 - semantic_1_loss: 0.0087 - semantic_2_loss: 0.0015 - lr: 2.2595e-05\n",
      "Epoch 150/200\n",
      "7/7 [==============================] - ETA: 0s - loss: 0.0083 - semantic_0_loss: 0.0021 - semantic_1_loss: 0.0051 - semantic_2_loss: 0.0011 WARNING:tensorflow:Can save best model only with val_loss available, skipping.\n",
      "7/7 [==============================] - 91s 13s/step - loss: 0.0083 - semantic_0_loss: 0.0021 - semantic_1_loss: 0.0051 - semantic_2_loss: 0.0011 - lr: 2.2369e-05\n",
      "Epoch 151/200\n",
      "7/7 [==============================] - ETA: 0s - loss: 0.0106 - semantic_0_loss: 0.0026 - semantic_1_loss: 0.0067 - semantic_2_loss: 0.0013 WARNING:tensorflow:Can save best model only with val_loss available, skipping.\n",
      "7/7 [==============================] - 92s 13s/step - loss: 0.0106 - semantic_0_loss: 0.0026 - semantic_1_loss: 0.0067 - semantic_2_loss: 0.0013 - lr: 2.2145e-05\n",
      "Epoch 152/200\n",
      "7/7 [==============================] - ETA: 0s - loss: 0.0099 - semantic_0_loss: 0.0026 - semantic_1_loss: 0.0060 - semantic_2_loss: 0.0013 WARNING:tensorflow:Can save best model only with val_loss available, skipping.\n",
      "7/7 [==============================] - 89s 13s/step - loss: 0.0099 - semantic_0_loss: 0.0026 - semantic_1_loss: 0.0060 - semantic_2_loss: 0.0013 - lr: 2.1924e-05\n",
      "Epoch 153/200\n",
      "7/7 [==============================] - ETA: 0s - loss: 0.0126 - semantic_0_loss: 0.0030 - semantic_1_loss: 0.0082 - semantic_2_loss: 0.0014 WARNING:tensorflow:Can save best model only with val_loss available, skipping.\n",
      "7/7 [==============================] - 83s 12s/step - loss: 0.0126 - semantic_0_loss: 0.0030 - semantic_1_loss: 0.0082 - semantic_2_loss: 0.0014 - lr: 2.1704e-05\n",
      "Epoch 154/200\n",
      "7/7 [==============================] - ETA: 0s - loss: 0.0195 - semantic_0_loss: 0.0047 - semantic_1_loss: 0.0131 - semantic_2_loss: 0.0018 WARNING:tensorflow:Can save best model only with val_loss available, skipping.\n",
      "7/7 [==============================] - 84s 12s/step - loss: 0.0195 - semantic_0_loss: 0.0047 - semantic_1_loss: 0.0131 - semantic_2_loss: 0.0018 - lr: 2.1487e-05\n",
      "Epoch 155/200\n",
      "7/7 [==============================] - ETA: 0s - loss: 0.0131 - semantic_0_loss: 0.0031 - semantic_1_loss: 0.0086 - semantic_2_loss: 0.0015 WARNING:tensorflow:Can save best model only with val_loss available, skipping.\n",
      "7/7 [==============================] - 84s 12s/step - loss: 0.0131 - semantic_0_loss: 0.0031 - semantic_1_loss: 0.0086 - semantic_2_loss: 0.0015 - lr: 2.1273e-05\n",
      "Epoch 156/200\n",
      "7/7 [==============================] - ETA: 0s - loss: 0.0139 - semantic_0_loss: 0.0033 - semantic_1_loss: 0.0090 - semantic_2_loss: 0.0016 WARNING:tensorflow:Can save best model only with val_loss available, skipping.\n",
      "7/7 [==============================] - 84s 12s/step - loss: 0.0139 - semantic_0_loss: 0.0033 - semantic_1_loss: 0.0090 - semantic_2_loss: 0.0016 - lr: 2.1060e-05\n",
      "Epoch 157/200\n",
      "7/7 [==============================] - ETA: 0s - loss: 0.0101 - semantic_0_loss: 0.0024 - semantic_1_loss: 0.0065 - semantic_2_loss: 0.0012 WARNING:tensorflow:Can save best model only with val_loss available, skipping.\n",
      "7/7 [==============================] - 84s 12s/step - loss: 0.0101 - semantic_0_loss: 0.0024 - semantic_1_loss: 0.0065 - semantic_2_loss: 0.0012 - lr: 2.0849e-05\n",
      "Epoch 158/200\n",
      "7/7 [==============================] - ETA: 0s - loss: 0.0089 - semantic_0_loss: 0.0020 - semantic_1_loss: 0.0057 - semantic_2_loss: 0.0013 WARNING:tensorflow:Can save best model only with val_loss available, skipping.\n",
      "7/7 [==============================] - 84s 13s/step - loss: 0.0089 - semantic_0_loss: 0.0020 - semantic_1_loss: 0.0057 - semantic_2_loss: 0.0013 - lr: 2.0641e-05\n",
      "Epoch 159/200\n",
      "7/7 [==============================] - ETA: 0s - loss: 0.0158 - semantic_0_loss: 0.0038 - semantic_1_loss: 0.0104 - semantic_2_loss: 0.0017 WARNING:tensorflow:Can save best model only with val_loss available, skipping.\n",
      "7/7 [==============================] - 84s 12s/step - loss: 0.0158 - semantic_0_loss: 0.0038 - semantic_1_loss: 0.0104 - semantic_2_loss: 0.0017 - lr: 2.0434e-05\n",
      "Epoch 160/200\n",
      "7/7 [==============================] - ETA: 0s - loss: 0.0132 - semantic_0_loss: 0.0033 - semantic_1_loss: 0.0085 - semantic_2_loss: 0.0014 WARNING:tensorflow:Can save best model only with val_loss available, skipping.\n",
      "7/7 [==============================] - 91s 13s/step - loss: 0.0132 - semantic_0_loss: 0.0033 - semantic_1_loss: 0.0085 - semantic_2_loss: 0.0014 - lr: 2.0230e-05\n",
      "Epoch 161/200\n",
      "7/7 [==============================] - ETA: 0s - loss: 0.0098 - semantic_0_loss: 0.0025 - semantic_1_loss: 0.0061 - semantic_2_loss: 0.0012 WARNING:tensorflow:Can save best model only with val_loss available, skipping.\n",
      "7/7 [==============================] - 85s 13s/step - loss: 0.0098 - semantic_0_loss: 0.0025 - semantic_1_loss: 0.0061 - semantic_2_loss: 0.0012 - lr: 2.0028e-05\n",
      "Epoch 162/200\n",
      "7/7 [==============================] - ETA: 0s - loss: 0.0117 - semantic_0_loss: 0.0028 - semantic_1_loss: 0.0075 - semantic_2_loss: 0.0013 WARNING:tensorflow:Can save best model only with val_loss available, skipping.\n",
      "7/7 [==============================] - 85s 11s/step - loss: 0.0117 - semantic_0_loss: 0.0028 - semantic_1_loss: 0.0075 - semantic_2_loss: 0.0013 - lr: 1.9827e-05\n",
      "Epoch 163/200\n",
      "7/7 [==============================] - ETA: 0s - loss: 0.0125 - semantic_0_loss: 0.0032 - semantic_1_loss: 0.0079 - semantic_2_loss: 0.0014 WARNING:tensorflow:Can save best model only with val_loss available, skipping.\n",
      "7/7 [==============================] - 83s 12s/step - loss: 0.0125 - semantic_0_loss: 0.0032 - semantic_1_loss: 0.0079 - semantic_2_loss: 0.0014 - lr: 1.9629e-05\n",
      "Epoch 164/200\n",
      "7/7 [==============================] - ETA: 0s - loss: 0.0155 - semantic_0_loss: 0.0038 - semantic_1_loss: 0.0100 - semantic_2_loss: 0.0017 WARNING:tensorflow:Can save best model only with val_loss available, skipping.\n",
      "7/7 [==============================] - 84s 12s/step - loss: 0.0155 - semantic_0_loss: 0.0038 - semantic_1_loss: 0.0100 - semantic_2_loss: 0.0017 - lr: 1.9433e-05\n",
      "Epoch 165/200\n",
      "7/7 [==============================] - ETA: 0s - loss: 0.0135 - semantic_0_loss: 0.0034 - semantic_1_loss: 0.0086 - semantic_2_loss: 0.0015 WARNING:tensorflow:Can save best model only with val_loss available, skipping.\n",
      "7/7 [==============================] - 84s 11s/step - loss: 0.0135 - semantic_0_loss: 0.0034 - semantic_1_loss: 0.0086 - semantic_2_loss: 0.0015 - lr: 1.9239e-05\n",
      "Epoch 166/200\n",
      "7/7 [==============================] - ETA: 0s - loss: 0.0125 - semantic_0_loss: 0.0031 - semantic_1_loss: 0.0080 - semantic_2_loss: 0.0014 WARNING:tensorflow:Can save best model only with val_loss available, skipping.\n",
      "7/7 [==============================] - 85s 13s/step - loss: 0.0125 - semantic_0_loss: 0.0031 - semantic_1_loss: 0.0080 - semantic_2_loss: 0.0014 - lr: 1.9046e-05\n",
      "Epoch 167/200\n",
      "7/7 [==============================] - ETA: 0s - loss: 0.0123 - semantic_0_loss: 0.0033 - semantic_1_loss: 0.0076 - semantic_2_loss: 0.0014 WARNING:tensorflow:Can save best model only with val_loss available, skipping.\n",
      "7/7 [==============================] - 94s 14s/step - loss: 0.0123 - semantic_0_loss: 0.0033 - semantic_1_loss: 0.0076 - semantic_2_loss: 0.0014 - lr: 1.8856e-05\n",
      "Epoch 168/200\n",
      "7/7 [==============================] - ETA: 0s - loss: 0.0164 - semantic_0_loss: 0.0040 - semantic_1_loss: 0.0108 - semantic_2_loss: 0.0016 WARNING:tensorflow:Can save best model only with val_loss available, skipping.\n",
      "7/7 [==============================] - 85s 12s/step - loss: 0.0164 - semantic_0_loss: 0.0040 - semantic_1_loss: 0.0108 - semantic_2_loss: 0.0016 - lr: 1.8667e-05\n",
      "Epoch 169/200\n",
      "7/7 [==============================] - ETA: 0s - loss: 0.0087 - semantic_0_loss: 0.0021 - semantic_1_loss: 0.0054 - semantic_2_loss: 0.0012 WARNING:tensorflow:Can save best model only with val_loss available, skipping.\n",
      "7/7 [==============================] - 84s 12s/step - loss: 0.0087 - semantic_0_loss: 0.0021 - semantic_1_loss: 0.0054 - semantic_2_loss: 0.0012 - lr: 1.8480e-05\n",
      "Epoch 170/200\n",
      "7/7 [==============================] - ETA: 0s - loss: 0.0140 - semantic_0_loss: 0.0035 - semantic_1_loss: 0.0091 - semantic_2_loss: 0.0015 WARNING:tensorflow:Can save best model only with val_loss available, skipping.\n",
      "7/7 [==============================] - 85s 13s/step - loss: 0.0140 - semantic_0_loss: 0.0035 - semantic_1_loss: 0.0091 - semantic_2_loss: 0.0015 - lr: 1.8296e-05\n",
      "Epoch 171/200\n",
      "7/7 [==============================] - ETA: 0s - loss: 0.0123 - semantic_0_loss: 0.0032 - semantic_1_loss: 0.0077 - semantic_2_loss: 0.0014 WARNING:tensorflow:Can save best model only with val_loss available, skipping.\n",
      "7/7 [==============================] - 84s 12s/step - loss: 0.0123 - semantic_0_loss: 0.0032 - semantic_1_loss: 0.0077 - semantic_2_loss: 0.0014 - lr: 1.8113e-05\n",
      "Epoch 172/200\n",
      "7/7 [==============================] - ETA: 0s - loss: 0.0082 - semantic_0_loss: 0.0020 - semantic_1_loss: 0.0051 - semantic_2_loss: 0.0011 WARNING:tensorflow:Can save best model only with val_loss available, skipping.\n",
      "7/7 [==============================] - 84s 12s/step - loss: 0.0082 - semantic_0_loss: 0.0020 - semantic_1_loss: 0.0051 - semantic_2_loss: 0.0011 - lr: 1.7932e-05\n",
      "Epoch 173/200\n",
      "7/7 [==============================] - ETA: 0s - loss: 0.0126 - semantic_0_loss: 0.0032 - semantic_1_loss: 0.0079 - semantic_2_loss: 0.0015 WARNING:tensorflow:Can save best model only with val_loss available, skipping.\n",
      "7/7 [==============================] - 84s 12s/step - loss: 0.0126 - semantic_0_loss: 0.0032 - semantic_1_loss: 0.0079 - semantic_2_loss: 0.0015 - lr: 1.7752e-05\n",
      "Epoch 174/200\n",
      "7/7 [==============================] - ETA: 0s - loss: 0.0138 - semantic_0_loss: 0.0034 - semantic_1_loss: 0.0089 - semantic_2_loss: 0.0015 WARNING:tensorflow:Can save best model only with val_loss available, skipping.\n",
      "7/7 [==============================] - 94s 14s/step - loss: 0.0138 - semantic_0_loss: 0.0034 - semantic_1_loss: 0.0089 - semantic_2_loss: 0.0015 - lr: 1.7575e-05\n",
      "Epoch 175/200\n",
      "7/7 [==============================] - ETA: 0s - loss: 0.0153 - semantic_0_loss: 0.0040 - semantic_1_loss: 0.0099 - semantic_2_loss: 0.0015 WARNING:tensorflow:Can save best model only with val_loss available, skipping.\n",
      "7/7 [==============================] - 85s 14s/step - loss: 0.0153 - semantic_0_loss: 0.0040 - semantic_1_loss: 0.0099 - semantic_2_loss: 0.0015 - lr: 1.7399e-05\n",
      "Epoch 176/200\n",
      "7/7 [==============================] - ETA: 0s - loss: 0.0131 - semantic_0_loss: 0.0032 - semantic_1_loss: 0.0084 - semantic_2_loss: 0.0015 WARNING:tensorflow:Can save best model only with val_loss available, skipping.\n",
      "7/7 [==============================] - 85s 13s/step - loss: 0.0131 - semantic_0_loss: 0.0032 - semantic_1_loss: 0.0084 - semantic_2_loss: 0.0015 - lr: 1.7225e-05\n",
      "Epoch 177/200\n",
      "7/7 [==============================] - ETA: 0s - loss: 0.0144 - semantic_0_loss: 0.0037 - semantic_1_loss: 0.0093 - semantic_2_loss: 0.0014 WARNING:tensorflow:Can save best model only with val_loss available, skipping.\n",
      "7/7 [==============================] - 86s 13s/step - loss: 0.0144 - semantic_0_loss: 0.0037 - semantic_1_loss: 0.0093 - semantic_2_loss: 0.0014 - lr: 1.7053e-05\n",
      "Epoch 178/200\n",
      "7/7 [==============================] - ETA: 0s - loss: 0.0150 - semantic_0_loss: 0.0039 - semantic_1_loss: 0.0096 - semantic_2_loss: 0.0016 WARNING:tensorflow:Can save best model only with val_loss available, skipping.\n",
      "7/7 [==============================] - 85s 13s/step - loss: 0.0150 - semantic_0_loss: 0.0039 - semantic_1_loss: 0.0096 - semantic_2_loss: 0.0016 - lr: 1.6882e-05\n",
      "Epoch 179/200\n",
      "7/7 [==============================] - ETA: 0s - loss: 0.0170 - semantic_0_loss: 0.0042 - semantic_1_loss: 0.0110 - semantic_2_loss: 0.0018 WARNING:tensorflow:Can save best model only with val_loss available, skipping.\n",
      "7/7 [==============================] - 84s 12s/step - loss: 0.0170 - semantic_0_loss: 0.0042 - semantic_1_loss: 0.0110 - semantic_2_loss: 0.0018 - lr: 1.6713e-05\n",
      "Epoch 180/200\n",
      "7/7 [==============================] - ETA: 0s - loss: 0.0179 - semantic_0_loss: 0.0046 - semantic_1_loss: 0.0117 - semantic_2_loss: 0.0017 WARNING:tensorflow:Can save best model only with val_loss available, skipping.\n",
      "7/7 [==============================] - 84s 12s/step - loss: 0.0179 - semantic_0_loss: 0.0046 - semantic_1_loss: 0.0117 - semantic_2_loss: 0.0017 - lr: 1.6546e-05\n",
      "Epoch 181/200\n",
      "7/7 [==============================] - ETA: 0s - loss: 0.0182 - semantic_0_loss: 0.0047 - semantic_1_loss: 0.0119 - semantic_2_loss: 0.0017 WARNING:tensorflow:Can save best model only with val_loss available, skipping.\n",
      "7/7 [==============================] - 84s 12s/step - loss: 0.0182 - semantic_0_loss: 0.0047 - semantic_1_loss: 0.0119 - semantic_2_loss: 0.0017 - lr: 1.6381e-05\n",
      "Epoch 182/200\n",
      "7/7 [==============================] - ETA: 0s - loss: 0.0141 - semantic_0_loss: 0.0035 - semantic_1_loss: 0.0091 - semantic_2_loss: 0.0015 WARNING:tensorflow:Can save best model only with val_loss available, skipping.\n",
      "7/7 [==============================] - 85s 12s/step - loss: 0.0141 - semantic_0_loss: 0.0035 - semantic_1_loss: 0.0091 - semantic_2_loss: 0.0015 - lr: 1.6217e-05\n",
      "Epoch 183/200\n",
      "7/7 [==============================] - ETA: 0s - loss: 0.0123 - semantic_0_loss: 0.0028 - semantic_1_loss: 0.0080 - semantic_2_loss: 0.0015 WARNING:tensorflow:Can save best model only with val_loss available, skipping.\n",
      "7/7 [==============================] - 84s 12s/step - loss: 0.0123 - semantic_0_loss: 0.0028 - semantic_1_loss: 0.0080 - semantic_2_loss: 0.0015 - lr: 1.6055e-05\n",
      "Epoch 184/200\n",
      "7/7 [==============================] - ETA: 0s - loss: 0.0182 - semantic_0_loss: 0.0046 - semantic_1_loss: 0.0119 - semantic_2_loss: 0.0017 WARNING:tensorflow:Can save best model only with val_loss available, skipping.\n",
      "7/7 [==============================] - 84s 12s/step - loss: 0.0182 - semantic_0_loss: 0.0046 - semantic_1_loss: 0.0119 - semantic_2_loss: 0.0017 - lr: 1.5894e-05\n",
      "Epoch 185/200\n",
      "7/7 [==============================] - ETA: 0s - loss: 0.0085 - semantic_0_loss: 0.0020 - semantic_1_loss: 0.0053 - semantic_2_loss: 0.0012 WARNING:tensorflow:Can save best model only with val_loss available, skipping.\n",
      "7/7 [==============================] - 84s 13s/step - loss: 0.0085 - semantic_0_loss: 0.0020 - semantic_1_loss: 0.0053 - semantic_2_loss: 0.0012 - lr: 1.5735e-05\n",
      "Epoch 186/200\n",
      "7/7 [==============================] - ETA: 0s - loss: 0.0179 - semantic_0_loss: 0.0045 - semantic_1_loss: 0.0117 - semantic_2_loss: 0.0017 WARNING:tensorflow:Can save best model only with val_loss available, skipping.\n",
      "7/7 [==============================] - 84s 12s/step - loss: 0.0179 - semantic_0_loss: 0.0045 - semantic_1_loss: 0.0117 - semantic_2_loss: 0.0017 - lr: 1.5578e-05\n",
      "Epoch 187/200\n",
      "7/7 [==============================] - ETA: 0s - loss: 0.0115 - semantic_0_loss: 0.0028 - semantic_1_loss: 0.0073 - semantic_2_loss: 0.0014 WARNING:tensorflow:Can save best model only with val_loss available, skipping.\n",
      "7/7 [==============================] - 84s 12s/step - loss: 0.0115 - semantic_0_loss: 0.0028 - semantic_1_loss: 0.0073 - semantic_2_loss: 0.0014 - lr: 1.5422e-05\n",
      "Epoch 188/200\n",
      "7/7 [==============================] - ETA: 0s - loss: 0.0104 - semantic_0_loss: 0.0026 - semantic_1_loss: 0.0066 - semantic_2_loss: 0.0012 WARNING:tensorflow:Can save best model only with val_loss available, skipping.\n",
      "7/7 [==============================] - 84s 12s/step - loss: 0.0104 - semantic_0_loss: 0.0026 - semantic_1_loss: 0.0066 - semantic_2_loss: 0.0012 - lr: 1.5268e-05\n",
      "Epoch 189/200\n",
      "7/7 [==============================] - ETA: 0s - loss: 0.0118 - semantic_0_loss: 0.0029 - semantic_1_loss: 0.0075 - semantic_2_loss: 0.0014 WARNING:tensorflow:Can save best model only with val_loss available, skipping.\n",
      "7/7 [==============================] - 84s 12s/step - loss: 0.0118 - semantic_0_loss: 0.0029 - semantic_1_loss: 0.0075 - semantic_2_loss: 0.0014 - lr: 1.5115e-05\n",
      "Epoch 190/200\n",
      "7/7 [==============================] - ETA: 0s - loss: 0.0167 - semantic_0_loss: 0.0043 - semantic_1_loss: 0.0107 - semantic_2_loss: 0.0016 WARNING:tensorflow:Can save best model only with val_loss available, skipping.\n",
      "7/7 [==============================] - 100s 13s/step - loss: 0.0167 - semantic_0_loss: 0.0043 - semantic_1_loss: 0.0107 - semantic_2_loss: 0.0016 - lr: 1.4964e-05\n",
      "Epoch 191/200\n",
      "7/7 [==============================] - ETA: 0s - loss: 0.0189 - semantic_0_loss: 0.0045 - semantic_1_loss: 0.0124 - semantic_2_loss: 0.0020 WARNING:tensorflow:Can save best model only with val_loss available, skipping.\n",
      "7/7 [==============================] - 84s 12s/step - loss: 0.0189 - semantic_0_loss: 0.0045 - semantic_1_loss: 0.0124 - semantic_2_loss: 0.0020 - lr: 1.4814e-05\n",
      "Epoch 192/200\n",
      "7/7 [==============================] - ETA: 0s - loss: 0.0158 - semantic_0_loss: 0.0039 - semantic_1_loss: 0.0103 - semantic_2_loss: 0.0016 WARNING:tensorflow:Can save best model only with val_loss available, skipping.\n",
      "7/7 [==============================] - 84s 12s/step - loss: 0.0158 - semantic_0_loss: 0.0039 - semantic_1_loss: 0.0103 - semantic_2_loss: 0.0016 - lr: 1.4666e-05\n",
      "Epoch 193/200\n",
      "7/7 [==============================] - ETA: 0s - loss: 0.0123 - semantic_0_loss: 0.0029 - semantic_1_loss: 0.0079 - semantic_2_loss: 0.0014 WARNING:tensorflow:Can save best model only with val_loss available, skipping.\n",
      "7/7 [==============================] - 84s 12s/step - loss: 0.0123 - semantic_0_loss: 0.0029 - semantic_1_loss: 0.0079 - semantic_2_loss: 0.0014 - lr: 1.4520e-05\n",
      "Epoch 194/200\n",
      "7/7 [==============================] - ETA: 0s - loss: 0.0137 - semantic_0_loss: 0.0035 - semantic_1_loss: 0.0087 - semantic_2_loss: 0.0015 WARNING:tensorflow:Can save best model only with val_loss available, skipping.\n",
      "7/7 [==============================] - 84s 12s/step - loss: 0.0137 - semantic_0_loss: 0.0035 - semantic_1_loss: 0.0087 - semantic_2_loss: 0.0015 - lr: 1.4374e-05\n",
      "Epoch 195/200\n",
      "7/7 [==============================] - ETA: 0s - loss: 0.0109 - semantic_0_loss: 0.0026 - semantic_1_loss: 0.0069 - semantic_2_loss: 0.0014 WARNING:tensorflow:Can save best model only with val_loss available, skipping.\n",
      "7/7 [==============================] - 87s 12s/step - loss: 0.0109 - semantic_0_loss: 0.0026 - semantic_1_loss: 0.0069 - semantic_2_loss: 0.0014 - lr: 1.4231e-05\n",
      "Epoch 196/200\n",
      "7/7 [==============================] - ETA: 0s - loss: 0.0140 - semantic_0_loss: 0.0036 - semantic_1_loss: 0.0090 - semantic_2_loss: 0.0015 WARNING:tensorflow:Can save best model only with val_loss available, skipping.\n",
      "7/7 [==============================] - 89s 13s/step - loss: 0.0140 - semantic_0_loss: 0.0036 - semantic_1_loss: 0.0090 - semantic_2_loss: 0.0015 - lr: 1.4088e-05\n",
      "Epoch 197/200\n",
      "7/7 [==============================] - ETA: 0s - loss: 0.0171 - semantic_0_loss: 0.0044 - semantic_1_loss: 0.0110 - semantic_2_loss: 0.0017 WARNING:tensorflow:Can save best model only with val_loss available, skipping.\n",
      "7/7 [==============================] - 86s 12s/step - loss: 0.0171 - semantic_0_loss: 0.0044 - semantic_1_loss: 0.0110 - semantic_2_loss: 0.0017 - lr: 1.3948e-05\n",
      "Epoch 198/200\n",
      "7/7 [==============================] - ETA: 0s - loss: 0.0120 - semantic_0_loss: 0.0031 - semantic_1_loss: 0.0076 - semantic_2_loss: 0.0014 WARNING:tensorflow:Can save best model only with val_loss available, skipping.\n",
      "7/7 [==============================] - 85s 12s/step - loss: 0.0120 - semantic_0_loss: 0.0031 - semantic_1_loss: 0.0076 - semantic_2_loss: 0.0014 - lr: 1.3808e-05\n",
      "Epoch 199/200\n",
      "7/7 [==============================] - ETA: 0s - loss: 0.0143 - semantic_0_loss: 0.0036 - semantic_1_loss: 0.0091 - semantic_2_loss: 0.0016 WARNING:tensorflow:Can save best model only with val_loss available, skipping.\n",
      "7/7 [==============================] - 84s 12s/step - loss: 0.0143 - semantic_0_loss: 0.0036 - semantic_1_loss: 0.0091 - semantic_2_loss: 0.0016 - lr: 1.3670e-05\n",
      "Epoch 200/200\n",
      "7/7 [==============================] - ETA: 0s - loss: 0.0161 - semantic_0_loss: 0.0040 - semantic_1_loss: 0.0105 - semantic_2_loss: 0.0016 WARNING:tensorflow:Can save best model only with val_loss available, skipping.\n",
      "7/7 [==============================] - 98s 15s/step - loss: 0.0161 - semantic_0_loss: 0.0040 - semantic_1_loss: 0.0105 - semantic_2_loss: 0.0016 - lr: 1.3533e-05\n"
     ]
    }
   ],
   "source": [
    "# fit the model\n",
    "print('Training on', count_gpus(), 'GPUs.')\n",
    "\n",
    "train_callbacks = get_callbacks(\n",
    "    model_path,\n",
    "    lr_sched=lr_sched,\n",
    "#     monitor=\"val_loss\",\n",
    "    verbose=1)          \n",
    "            \n",
    "loss_history = model.fit(\n",
    "    train_data,\n",
    "    steps_per_epoch=train_data.y.shape[0] // batch_size, # \n",
    "    epochs=epochs, \n",
    "#     validation_data=val_data,\n",
    "#     validation_steps=val_data.y.shape[0] // batch_size,\n",
    "    callbacks=train_callbacks)\n",
    "\n",
    "model.save_weights(model_path)"
   ]
  },
  {
   "cell_type": "markdown",
   "id": "42277d43",
   "metadata": {},
   "source": [
    "**Make prediction on K's data.**<br>\n",
    "Using NuclearSegmentation allows setting image_mpp, which has a substantial influence on performance."
   ]
  },
  {
   "cell_type": "code",
   "execution_count": 7,
   "id": "dbf36df1",
   "metadata": {
    "execution": {
     "iopub.execute_input": "2022-11-05T01:06:53.093919Z",
     "iopub.status.busy": "2022-11-05T01:06:53.092708Z",
     "iopub.status.idle": "2022-11-05T01:06:59.647970Z",
     "shell.execute_reply": "2022-11-05T01:06:59.648909Z"
    }
   },
   "outputs": [
    {
     "name": "stderr",
     "output_type": "stream",
     "text": [
      "2022-11-04 18:44:03.169770: W tensorflow/python/util/util.cc:368] Sets are not currently considered sequences, but this may change in the future, so consider avoiding using them.\n"
     ]
    },
    {
     "data": {
      "text/plain": [
       "[('semantic_0', (None, 512, 512, 1)), ('semantic_1', (None, 512, 512, 1))]"
      ]
     },
     "execution_count": 7,
     "metadata": {},
     "output_type": "execute_result"
    }
   ],
   "source": [
    "prediction_model = PanopticNet(\n",
    "    backbone='resnet50',\n",
    "    norm_method='whole_image',\n",
    "    num_semantic_classes=[1, 1], # inner distance, outer distance\n",
    "    input_shape= (512,512,1)\n",
    ")\n",
    "\n",
    "prediction_model.load_weights(model_path, by_name=True)\n",
    "\n",
    "from deepcell.applications import NuclearSegmentation\n",
    "app = NuclearSegmentation(prediction_model)\n",
    "[(layer.name, layer.output_shape) for layer in filter(lambda x: x.name.startswith('semantic_'), app.model.layers)]"
   ]
  },
  {
   "cell_type": "code",
   "execution_count": 8,
   "id": "20301e2d",
   "metadata": {
    "execution": {
     "iopub.execute_input": "2022-11-05T01:06:59.655070Z",
     "iopub.status.busy": "2022-11-05T01:06:59.653952Z",
     "iopub.status.idle": "2022-11-05T01:06:59.658191Z",
     "shell.execute_reply": "2022-11-05T01:06:59.658598Z"
    }
   },
   "outputs": [
    {
     "name": "stdout",
     "output_type": "stream",
     "text": [
      "/home/yfong/deeplearning/dense_cell_segmentation\n",
      "['M926910_CFL_Position7_CD3_test_img.png', 'M872956_JML_Position10_CD3_test_img.png', 'M872956_JML_Position8_CD8_test_img.png', 'M926910_CFL_Position13_CD3_test_img.png', 'M872956_JML_Position8_CD3_test_img.png', 'M872956_JML_Position8_CD4_test_img.png', 'M872956_JML_Position9_CD3_test_img.png']\n"
     ]
    }
   ],
   "source": [
    "import os\n",
    "print(os.getcwd())\n",
    "INPUT_PATH=\"images/test/\"\n",
    "FILENAMES = [f for f in os.listdir(\"images/training/testimages\")]\n",
    "print(FILENAMES)"
   ]
  },
  {
   "cell_type": "code",
   "execution_count": 11,
   "id": "5b34dbfe",
   "metadata": {
    "execution": {
     "iopub.execute_input": "2022-11-05T01:06:59.666785Z",
     "iopub.status.busy": "2022-11-05T01:06:59.666116Z",
     "iopub.status.idle": "2022-11-05T01:09:28.158899Z",
     "shell.execute_reply": "2022-11-05T01:09:28.159829Z"
    }
   },
   "outputs": [
    {
     "name": "stdout",
     "output_type": "stream",
     "text": [
      "M926910_CFL_Position7_CD3_test_img.png\n"
     ]
    },
    {
     "name": "stderr",
     "output_type": "stream",
     "text": [
      "/app/software/DeepCell/0.11.1-foss-2021b-CUDA-11.4.1/lib/python3.9/site-packages/deepcell_toolbox/deep_watershed.py:179: FutureWarning: `selem` is a deprecated argument name for `h_maxima`. It will be removed in version 1.0.Please use `footprint` instead.\n",
      "  markers = h_maxima(image=maxima,\n"
     ]
    },
    {
     "name": "stdout",
     "output_type": "stream",
     "text": [
      "M872956_JML_Position10_CD3_test_img.png\n",
      "M872956_JML_Position8_CD8_test_img.png\n",
      "M926910_CFL_Position13_CD3_test_img.png\n",
      "M872956_JML_Position8_CD3_test_img.png\n",
      "M872956_JML_Position8_CD4_test_img.png\n",
      "M872956_JML_Position9_CD3_test_img.png\n",
      "[[0.18524590163934426, 0.23934426229508196, 0.29207920792079206, 0.337152209492635, 0.357487922705314, 0.3785488958990536], [0.18083182640144665, 0.25274725274725274, 0.3068391866913124, 0.34798534798534797, 0.39926062846580407, 0.45119705340699817], [0.24519230769230768, 0.3251231527093596, 0.3880597014925373, 0.4068627450980392, 0.40454545454545454, 0.42358078602620086], [0.09158415841584158, 0.13480392156862744, 0.1724137931034483, 0.1943127962085308, 0.23543123543123542, 0.23672566371681417], [0.2805755395683453, 0.34972677595628415, 0.4134078212290503, 0.4585635359116022, 0.4990791896869245, 0.5170556552962298], [0.4316353887399464, 0.47606382978723405, 0.568733153638814, 0.5728900255754475, 0.5700245700245701, 0.5584725536992841], [0.19875776397515527, 0.25103734439834025, 0.29521829521829523, 0.3494736842105263, 0.35655737704918034, 0.39759036144578314]]\n",
      "[0.9 1.  1.1 1.2 1.3 1.4]\n"
     ]
    },
    {
     "data": {
      "text/plain": [
       "[5, 5, 5, 5, 5, 3, 5]"
      ]
     },
     "execution_count": 11,
     "metadata": {},
     "output_type": "execute_result"
    }
   ],
   "source": [
    "# more detailed mapping of image_mpp parameter\n",
    "mpps=np.linspace(start=.9, stop=1.4, num=6)\n",
    "\n",
    "AP_mat=[]\n",
    "for CURR_IM_NAME in FILENAMES:\n",
    "    print(CURR_IM_NAME)\n",
    "    im0 = io.imread(os.path.join(INPUT_PATH, CURR_IM_NAME))\n",
    "    mask_true=io.imread(os.path.join(INPUT_PATH, CURR_IM_NAME.replace(\"img\",\"masks\")))\n",
    "\n",
    "    x = np.expand_dims(im0, axis=-1)\n",
    "    x = np.expand_dims(x, axis=0)\n",
    "    y, tile_info = app._tile_input(x)\n",
    "    AP_arr=[]\n",
    "    for mpp in mpps:\n",
    "        prd = app._untile_output(app.predict(y, image_mpp=mpp), tile_info)[0,:,:,0]\n",
    "        a=syotil.csi(mask_true, prd)\n",
    "        AP_arr.append(a)\n",
    "    AP_mat.append(AP_arr)\n",
    "print(AP_mat)\n",
    "print(mpps)\n",
    "[x.index(np.max(x)) for x in AP_mat]"
   ]
  },
  {
   "cell_type": "code",
   "execution_count": 9,
   "id": "f31fa740",
   "metadata": {
    "execution": {
     "iopub.execute_input": "2022-11-05T01:09:28.167543Z",
     "iopub.status.busy": "2022-11-05T01:09:28.166938Z",
     "iopub.status.idle": "2022-11-05T01:09:59.317116Z",
     "shell.execute_reply": "2022-11-05T01:09:59.318053Z"
    }
   },
   "outputs": [
    {
     "name": "stderr",
     "output_type": "stream",
     "text": [
      "2022-11-04 18:44:18.539290: I tensorflow/stream_executor/cuda/cuda_dnn.cc:366] Loaded cuDNN version 8202\n",
      "/app/software/DeepCell/0.11.1-foss-2021b-CUDA-11.4.1/lib/python3.9/site-packages/deepcell_toolbox/deep_watershed.py:179: FutureWarning: `selem` is a deprecated argument name for `h_maxima`. It will be removed in version 1.0.Please use `footprint` instead.\n",
      "  markers = h_maxima(image=maxima,\n"
     ]
    },
    {
     "name": "stdout",
     "output_type": "stream",
     "text": [
      "{'M926910_CFL_Position7_CD3_test_img.png': 0.23934426229508196, 'M872956_JML_Position10_CD3_test_img.png': 0.25274725274725274, 'M872956_JML_Position8_CD8_test_img.png': 0.3251231527093596, 'M926910_CFL_Position13_CD3_test_img.png': 0.13480392156862744, 'M872956_JML_Position8_CD3_test_img.png': 0.34972677595628415, 'M872956_JML_Position8_CD4_test_img.png': 0.47606382978723405, 'M872956_JML_Position9_CD3_test_img.png': 0.25103734439834025, 'mAP': 0.2898352199231686}\n"
     ]
    }
   ],
   "source": [
    "select_mpp=1.3\n",
    "\n",
    "APs={}\n",
    "for CURR_IM_NAME in FILENAMES:\n",
    "    im0 = io.imread(os.path.join(INPUT_PATH, CURR_IM_NAME))\n",
    "    mask_true=io.imread(os.path.join(INPUT_PATH, CURR_IM_NAME.replace(\"img\",\"masks\")))\n",
    "\n",
    "    x = np.expand_dims(im0, axis=-1)\n",
    "    x = np.expand_dims(x, axis=0)\n",
    "    y, tile_info = app._tile_input(x)\n",
    "#     print(x.shape)\n",
    "#     print(y.shape)\n",
    "#     print(tile_info)\n",
    "    pred = app.predict(y, image_mpp=select_mpp)\n",
    "    prd = app._untile_output(pred, tile_info)\n",
    "    #io.imshow(prd[0,:,:,0])\n",
    "    plt.show()\n",
    "    \n",
    "    APs[CURR_IM_NAME] = syotil.csi(mask_true, prd[0,:,:,0])# masks may lose one pixel if dimension is odd pixels\n",
    "\n",
    "APs[\"mAP\"]=np.mean(list(APs.values()))\n",
    "print(APs)"
   ]
  },
  {
   "cell_type": "code",
   "execution_count": 13,
   "id": "7bc06419",
   "metadata": {
    "execution": {
     "iopub.execute_input": "2022-11-05T01:09:59.326057Z",
     "iopub.status.busy": "2022-11-05T01:09:59.324914Z",
     "iopub.status.idle": "2022-11-05T01:09:59.358197Z",
     "shell.execute_reply": "2022-11-05T01:09:59.359123Z"
    }
   },
   "outputs": [
    {
     "name": "stdout",
     "output_type": "stream",
     "text": [
      "                                         0         1\n",
      "0   M926910_CFL_Position7_CD3_test_img.png  0.359873\n",
      "1  M872956_JML_Position10_CD3_test_img.png  0.433645\n",
      "2   M872956_JML_Position8_CD8_test_img.png  0.401826\n",
      "3  M926910_CFL_Position13_CD3_test_img.png  0.240826\n",
      "4   M872956_JML_Position8_CD3_test_img.png  0.514706\n",
      "5   M872956_JML_Position8_CD4_test_img.png  0.581281\n",
      "6   M872956_JML_Position9_CD3_test_img.png  0.374486\n",
      "7                                      mAP  0.415235\n"
     ]
    }
   ],
   "source": [
    "import pandas as pd\n",
    "df = pd.DataFrame([FILENAMES+[\"mAP\"], list(APs.values())])\n",
    "print(df.transpose())\n",
    "df.to_csv('images/training/csi_'+model_name+'.txt', index=False, header=False)"
   ]
  },
  {
   "cell_type": "markdown",
   "id": "520fe391",
   "metadata": {},
   "source": [
    "**mAP**<br>\n",
    "image_mpp=1  : 0.29<br>\n",
    "image_mpp=1.3: 0.415<br>"
   ]
  }
 ],
 "metadata": {
  "kernelspec": {
   "display_name": "Python 3 (ipykernel)",
   "language": "python",
   "name": "python3"
  },
  "language_info": {
   "codemirror_mode": {
    "name": "ipython",
    "version": 3
   },
   "file_extension": ".py",
   "mimetype": "text/x-python",
   "name": "python",
   "nbconvert_exporter": "python",
   "pygments_lexer": "ipython3",
   "version": "3.9.6"
  }
 },
 "nbformat": 4,
 "nbformat_minor": 5
}
