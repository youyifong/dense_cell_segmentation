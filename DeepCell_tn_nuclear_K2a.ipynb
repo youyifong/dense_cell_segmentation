{
 "cells": [
  {
   "cell_type": "markdown",
   "id": "330e05e3",
   "metadata": {},
   "source": [
    "**Further train DeepCell Models with K's Data and Make Predictions**<br>\n",
    "Starting from model trained with tn nuclear data, further train the model with resized K's data that is cut into 25x7 512x512 patches. There are a total of 12,574 training instances.<br>\n",
    "200 epochs, semanticdatagenerator, resized<br>\n",
    "Best mAP 0.48 at mpp=1.3"
   ]
  },
  {
   "cell_type": "code",
   "execution_count": 1,
   "id": "a72e9c51",
   "metadata": {
    "execution": {
     "iopub.execute_input": "2022-11-04T02:03:14.528001Z",
     "iopub.status.busy": "2022-11-04T02:03:14.525196Z",
     "iopub.status.idle": "2022-11-04T02:03:14.531291Z",
     "shell.execute_reply": "2022-11-04T02:03:14.530717Z"
    }
   },
   "outputs": [],
   "source": [
    "starting_model_path = 'tn1.0_nuclear_20221102.h5' # the model trained with nucleus data from the Tissuenet V1.0 dataset\n",
    "INPUT_PATH=\"images/training_resized_512x512/\"\n",
    "model_name = 'tn1.0_nuclear_K_512x512resized' \n",
    "model_path = '{}.h5'.format(model_name)\n",
    "epochs=200 # 20 sec per step "
   ]
  },
  {
   "cell_type": "code",
   "execution_count": 2,
   "id": "90f2183c",
   "metadata": {
    "execution": {
     "iopub.execute_input": "2022-11-04T02:03:14.539508Z",
     "iopub.status.busy": "2022-11-04T02:03:14.538739Z",
     "iopub.status.idle": "2022-11-04T02:03:27.995274Z",
     "shell.execute_reply": "2022-11-04T02:03:27.996256Z"
    }
   },
   "outputs": [
    {
     "name": "stdout",
     "output_type": "stream",
     "text": [
      "2.7.1\n",
      "0.11.1\n"
     ]
    }
   ],
   "source": [
    "import syotil\n",
    "\n",
    "import numpy as np\n",
    "from skimage import io\n",
    "from matplotlib import pyplot as plt\n",
    "%matplotlib inline\n",
    "from timeit import default_timer\n",
    "import os\n",
    "from skimage import img_as_ubyte\n",
    "\n",
    "import deepcell\n",
    "from deepcell import image_generators\n",
    "from deepcell.utils.train_utils import rate_scheduler, get_callbacks, count_gpus\n",
    "from deepcell_toolbox.utils import resize, tile_image, untile_image\n",
    "from deepcell_toolbox.deep_watershed import deep_watershed\n",
    "from deepcell.losses import weighted_categorical_crossentropy\n",
    "from deepcell.model_zoo.panopticnet import PanopticNet\n",
    "\n",
    "import tensorflow as tf\n",
    "from tensorflow.keras.optimizers import SGD, Adam\n",
    "from tensorflow.keras.losses import MSE\n",
    "\n",
    "print(tf.__version__)\n",
    "print(deepcell.__version__)"
   ]
  },
  {
   "cell_type": "code",
   "execution_count": 3,
   "id": "938b06af",
   "metadata": {
    "execution": {
     "iopub.execute_input": "2022-11-04T02:03:28.003543Z",
     "iopub.status.busy": "2022-11-04T02:03:28.002677Z",
     "iopub.status.idle": "2022-11-04T02:03:28.007735Z",
     "shell.execute_reply": "2022-11-04T02:03:28.008234Z"
    }
   },
   "outputs": [
    {
     "name": "stdout",
     "output_type": "stream",
     "text": [
      "175\n",
      "['images/training_resized_512x512/M872956_JML_Position8_CD8_train21_img.png', 'images/training_resized_512x512/M872956_JML_Position10_CD3_train13_img.png', 'images/training_resized_512x512/M872956_JML_Position9_CD3_train20_img.png', 'images/training_resized_512x512/M872956_JML_Position8_CD8_train6_img.png', 'images/training_resized_512x512/M926910_CFL_Position7_CD3_train24_img.png', 'images/training_resized_512x512/M926910_CFL_Position7_CD3_train4_img.png', 'images/training_resized_512x512/M872956_JML_Position8_CD3_train1_img.png', 'images/training_resized_512x512/M872956_JML_Position10_CD3_train21_img.png', 'images/training_resized_512x512/M872956_JML_Position8_CD8_train17_img.png', 'images/training_resized_512x512/M872956_JML_Position9_CD3_train15_img.png', 'images/training_resized_512x512/M872956_JML_Position10_CD3_train7_img.png', 'images/training_resized_512x512/M926910_CFL_Position7_CD3_train5_img.png', 'images/training_resized_512x512/M872956_JML_Position10_CD3_train1_img.png', 'images/training_resized_512x512/M872956_JML_Position8_CD4_train22_img.png', 'images/training_resized_512x512/M872956_JML_Position10_CD3_train24_img.png', 'images/training_resized_512x512/M926910_CFL_Position7_CD3_train7_img.png', 'images/training_resized_512x512/M926910_CFL_Position7_CD3_train18_img.png', 'images/training_resized_512x512/M872956_JML_Position9_CD3_train13_img.png', 'images/training_resized_512x512/M872956_JML_Position8_CD3_train9_img.png', 'images/training_resized_512x512/M872956_JML_Position8_CD3_train21_img.png', 'images/training_resized_512x512/M926910_CFL_Position7_CD3_train14_img.png', 'images/training_resized_512x512/M926910_CFL_Position13_CD3_train6_img.png', 'images/training_resized_512x512/M872956_JML_Position8_CD3_train2_img.png', 'images/training_resized_512x512/M872956_JML_Position10_CD3_train14_img.png', 'images/training_resized_512x512/M872956_JML_Position8_CD4_train2_img.png', 'images/training_resized_512x512/M926910_CFL_Position13_CD3_train15_img.png', 'images/training_resized_512x512/M872956_JML_Position8_CD4_train3_img.png', 'images/training_resized_512x512/M872956_JML_Position10_CD3_train12_img.png', 'images/training_resized_512x512/M872956_JML_Position8_CD8_train12_img.png', 'images/training_resized_512x512/M872956_JML_Position9_CD3_train3_img.png', 'images/training_resized_512x512/M872956_JML_Position10_CD3_train20_img.png', 'images/training_resized_512x512/M872956_JML_Position8_CD8_train20_img.png', 'images/training_resized_512x512/M872956_JML_Position8_CD4_train17_img.png', 'images/training_resized_512x512/M872956_JML_Position10_CD3_train23_img.png', 'images/training_resized_512x512/M872956_JML_Position8_CD3_train17_img.png', 'images/training_resized_512x512/M926910_CFL_Position7_CD3_train15_img.png', 'images/training_resized_512x512/M872956_JML_Position9_CD3_train7_img.png', 'images/training_resized_512x512/M926910_CFL_Position13_CD3_train10_img.png', 'images/training_resized_512x512/M872956_JML_Position9_CD3_train9_img.png', 'images/training_resized_512x512/M872956_JML_Position8_CD8_train1_img.png', 'images/training_resized_512x512/M872956_JML_Position9_CD3_train5_img.png', 'images/training_resized_512x512/M926910_CFL_Position13_CD3_train17_img.png', 'images/training_resized_512x512/M872956_JML_Position8_CD8_train9_img.png', 'images/training_resized_512x512/M872956_JML_Position9_CD3_train21_img.png', 'images/training_resized_512x512/M872956_JML_Position10_CD3_train2_img.png', 'images/training_resized_512x512/M926910_CFL_Position7_CD3_train12_img.png', 'images/training_resized_512x512/M872956_JML_Position9_CD3_train4_img.png', 'images/training_resized_512x512/M872956_JML_Position10_CD3_train6_img.png', 'images/training_resized_512x512/M926910_CFL_Position13_CD3_train12_img.png', 'images/training_resized_512x512/M872956_JML_Position8_CD8_train2_img.png', 'images/training_resized_512x512/M872956_JML_Position9_CD3_train8_img.png', 'images/training_resized_512x512/M872956_JML_Position9_CD3_train6_img.png', 'images/training_resized_512x512/M872956_JML_Position10_CD3_train8_img.png', 'images/training_resized_512x512/M926910_CFL_Position7_CD3_train3_img.png', 'images/training_resized_512x512/M926910_CFL_Position13_CD3_train14_img.png', 'images/training_resized_512x512/M872956_JML_Position9_CD3_train16_img.png', 'images/training_resized_512x512/M872956_JML_Position10_CD3_train4_img.png', 'images/training_resized_512x512/M872956_JML_Position8_CD3_train19_img.png', 'images/training_resized_512x512/M926910_CFL_Position7_CD3_train10_img.png', 'images/training_resized_512x512/M926910_CFL_Position13_CD3_train16_img.png', 'images/training_resized_512x512/M872956_JML_Position8_CD4_train24_img.png', 'images/training_resized_512x512/M872956_JML_Position9_CD3_train1_img.png', 'images/training_resized_512x512/M872956_JML_Position9_CD3_train23_img.png', 'images/training_resized_512x512/M872956_JML_Position8_CD4_train14_img.png', 'images/training_resized_512x512/M926910_CFL_Position13_CD3_train3_img.png', 'images/training_resized_512x512/M926910_CFL_Position13_CD3_train18_img.png', 'images/training_resized_512x512/M872956_JML_Position8_CD4_train6_img.png', 'images/training_resized_512x512/M872956_JML_Position8_CD8_train3_img.png', 'images/training_resized_512x512/M872956_JML_Position8_CD3_train4_img.png', 'images/training_resized_512x512/M872956_JML_Position8_CD3_train20_img.png', 'images/training_resized_512x512/M872956_JML_Position10_CD3_train15_img.png', 'images/training_resized_512x512/M872956_JML_Position8_CD4_train1_img.png', 'images/training_resized_512x512/M926910_CFL_Position7_CD3_train11_img.png', 'images/training_resized_512x512/M872956_JML_Position9_CD3_train24_img.png', 'images/training_resized_512x512/M872956_JML_Position10_CD3_train10_img.png', 'images/training_resized_512x512/M872956_JML_Position9_CD3_train12_img.png', 'images/training_resized_512x512/M926910_CFL_Position13_CD3_train1_img.png', 'images/training_resized_512x512/M872956_JML_Position8_CD3_train15_img.png', 'images/training_resized_512x512/M872956_JML_Position8_CD4_train21_img.png', 'images/training_resized_512x512/M872956_JML_Position8_CD4_train13_img.png', 'images/training_resized_512x512/M872956_JML_Position10_CD3_train11_img.png', 'images/training_resized_512x512/M926910_CFL_Position7_CD3_train6_img.png', 'images/training_resized_512x512/M872956_JML_Position8_CD3_train3_img.png', 'images/training_resized_512x512/M926910_CFL_Position7_CD3_train20_img.png', 'images/training_resized_512x512/M872956_JML_Position8_CD3_train23_img.png', 'images/training_resized_512x512/M872956_JML_Position9_CD3_train14_img.png', 'images/training_resized_512x512/M872956_JML_Position8_CD3_train18_img.png', 'images/training_resized_512x512/M872956_JML_Position9_CD3_train18_img.png', 'images/training_resized_512x512/M872956_JML_Position8_CD3_train12_img.png', 'images/training_resized_512x512/M872956_JML_Position8_CD8_train8_img.png', 'images/training_resized_512x512/M872956_JML_Position8_CD8_train15_img.png', 'images/training_resized_512x512/M926910_CFL_Position7_CD3_train0_img.png', 'images/training_resized_512x512/M926910_CFL_Position13_CD3_train21_img.png', 'images/training_resized_512x512/M872956_JML_Position8_CD8_train11_img.png', 'images/training_resized_512x512/M872956_JML_Position8_CD3_train7_img.png', 'images/training_resized_512x512/M926910_CFL_Position13_CD3_train20_img.png', 'images/training_resized_512x512/M872956_JML_Position8_CD8_train10_img.png', 'images/training_resized_512x512/M872956_JML_Position9_CD3_train11_img.png', 'images/training_resized_512x512/M872956_JML_Position8_CD3_train22_img.png', 'images/training_resized_512x512/M926910_CFL_Position13_CD3_train9_img.png', 'images/training_resized_512x512/M872956_JML_Position9_CD3_train10_img.png', 'images/training_resized_512x512/M926910_CFL_Position7_CD3_train16_img.png', 'images/training_resized_512x512/M926910_CFL_Position13_CD3_train19_img.png', 'images/training_resized_512x512/M872956_JML_Position9_CD3_train2_img.png', 'images/training_resized_512x512/M926910_CFL_Position13_CD3_train8_img.png', 'images/training_resized_512x512/M872956_JML_Position8_CD4_train23_img.png', 'images/training_resized_512x512/M926910_CFL_Position7_CD3_train23_img.png', 'images/training_resized_512x512/M872956_JML_Position8_CD4_train20_img.png', 'images/training_resized_512x512/M872956_JML_Position10_CD3_train16_img.png', 'images/training_resized_512x512/M926910_CFL_Position13_CD3_train11_img.png', 'images/training_resized_512x512/M872956_JML_Position8_CD4_train0_img.png', 'images/training_resized_512x512/M926910_CFL_Position13_CD3_train4_img.png', 'images/training_resized_512x512/M926910_CFL_Position13_CD3_train2_img.png', 'images/training_resized_512x512/M926910_CFL_Position7_CD3_train8_img.png', 'images/training_resized_512x512/M872956_JML_Position8_CD4_train19_img.png', 'images/training_resized_512x512/M872956_JML_Position8_CD4_train7_img.png', 'images/training_resized_512x512/M872956_JML_Position10_CD3_train3_img.png', 'images/training_resized_512x512/M872956_JML_Position8_CD8_train22_img.png', 'images/training_resized_512x512/M926910_CFL_Position7_CD3_train19_img.png', 'images/training_resized_512x512/M926910_CFL_Position13_CD3_train22_img.png', 'images/training_resized_512x512/M872956_JML_Position8_CD3_train14_img.png', 'images/training_resized_512x512/M872956_JML_Position8_CD8_train5_img.png', 'images/training_resized_512x512/M926910_CFL_Position7_CD3_train13_img.png', 'images/training_resized_512x512/M872956_JML_Position8_CD4_train8_img.png', 'images/training_resized_512x512/M926910_CFL_Position7_CD3_train9_img.png', 'images/training_resized_512x512/M872956_JML_Position8_CD8_train24_img.png', 'images/training_resized_512x512/M872956_JML_Position8_CD3_train16_img.png', 'images/training_resized_512x512/M926910_CFL_Position13_CD3_train0_img.png', 'images/training_resized_512x512/M872956_JML_Position8_CD4_train4_img.png', 'images/training_resized_512x512/M872956_JML_Position8_CD3_train8_img.png', 'images/training_resized_512x512/M872956_JML_Position10_CD3_train17_img.png', 'images/training_resized_512x512/M872956_JML_Position8_CD3_train13_img.png', 'images/training_resized_512x512/M872956_JML_Position8_CD8_train18_img.png', 'images/training_resized_512x512/M872956_JML_Position9_CD3_train19_img.png', 'images/training_resized_512x512/M872956_JML_Position8_CD8_train23_img.png', 'images/training_resized_512x512/M872956_JML_Position8_CD4_train11_img.png', 'images/training_resized_512x512/M872956_JML_Position8_CD4_train9_img.png', 'images/training_resized_512x512/M872956_JML_Position8_CD8_train19_img.png', 'images/training_resized_512x512/M926910_CFL_Position7_CD3_train21_img.png', 'images/training_resized_512x512/M872956_JML_Position10_CD3_train5_img.png', 'images/training_resized_512x512/M872956_JML_Position9_CD3_train22_img.png', 'images/training_resized_512x512/M872956_JML_Position8_CD3_train0_img.png', 'images/training_resized_512x512/M872956_JML_Position8_CD4_train12_img.png', 'images/training_resized_512x512/M872956_JML_Position8_CD8_train14_img.png', 'images/training_resized_512x512/M872956_JML_Position8_CD4_train10_img.png', 'images/training_resized_512x512/M872956_JML_Position10_CD3_train0_img.png', 'images/training_resized_512x512/M872956_JML_Position8_CD8_train0_img.png', 'images/training_resized_512x512/M872956_JML_Position10_CD3_train19_img.png', 'images/training_resized_512x512/M926910_CFL_Position13_CD3_train5_img.png', 'images/training_resized_512x512/M926910_CFL_Position7_CD3_train1_img.png', 'images/training_resized_512x512/M926910_CFL_Position13_CD3_train7_img.png', 'images/training_resized_512x512/M872956_JML_Position8_CD8_train4_img.png', 'images/training_resized_512x512/M926910_CFL_Position13_CD3_train13_img.png', 'images/training_resized_512x512/M872956_JML_Position10_CD3_train9_img.png', 'images/training_resized_512x512/M872956_JML_Position9_CD3_train17_img.png', 'images/training_resized_512x512/M872956_JML_Position8_CD4_train16_img.png', 'images/training_resized_512x512/M926910_CFL_Position7_CD3_train17_img.png', 'images/training_resized_512x512/M872956_JML_Position8_CD8_train7_img.png', 'images/training_resized_512x512/M872956_JML_Position8_CD4_train5_img.png', 'images/training_resized_512x512/M872956_JML_Position8_CD8_train13_img.png', 'images/training_resized_512x512/M872956_JML_Position8_CD8_train16_img.png', 'images/training_resized_512x512/M926910_CFL_Position13_CD3_train23_img.png', 'images/training_resized_512x512/M872956_JML_Position8_CD3_train10_img.png', 'images/training_resized_512x512/M872956_JML_Position8_CD3_train24_img.png', 'images/training_resized_512x512/M872956_JML_Position8_CD3_train5_img.png', 'images/training_resized_512x512/M872956_JML_Position8_CD4_train18_img.png', 'images/training_resized_512x512/M926910_CFL_Position13_CD3_train24_img.png', 'images/training_resized_512x512/M872956_JML_Position9_CD3_train0_img.png', 'images/training_resized_512x512/M926910_CFL_Position7_CD3_train2_img.png', 'images/training_resized_512x512/M926910_CFL_Position7_CD3_train22_img.png', 'images/training_resized_512x512/M872956_JML_Position8_CD3_train11_img.png', 'images/training_resized_512x512/M872956_JML_Position10_CD3_train18_img.png', 'images/training_resized_512x512/M872956_JML_Position8_CD3_train6_img.png', 'images/training_resized_512x512/M872956_JML_Position8_CD4_train15_img.png', 'images/training_resized_512x512/M872956_JML_Position10_CD3_train22_img.png']\n"
     ]
    }
   ],
   "source": [
    "import glob\n",
    "FILENAMES = glob.glob(INPUT_PATH+\"*_img.png\")\n",
    "print(len(FILENAMES))\n",
    "print(FILENAMES)"
   ]
  },
  {
   "cell_type": "code",
   "execution_count": 4,
   "id": "1bac06f7",
   "metadata": {
    "execution": {
     "iopub.execute_input": "2022-11-04T02:03:28.014966Z",
     "iopub.status.busy": "2022-11-04T02:03:28.014370Z",
     "iopub.status.idle": "2022-11-04T02:03:39.757120Z",
     "shell.execute_reply": "2022-11-04T02:03:39.758046Z"
    }
   },
   "outputs": [
    {
     "name": "stderr",
     "output_type": "stream",
     "text": [
      "2022-11-18 18:32:23.403464: I tensorflow/core/common_runtime/gpu/gpu_device.cc:1525] Created device /job:localhost/replica:0/task:0/device:GPU:0 with 14657 MB memory:  -> device: 0, name: Tesla V100-PCIE-16GB, pci bus id: 0000:04:00.0, compute capability: 7.0\n",
      "2022-11-18 18:32:23.405196: I tensorflow/core/common_runtime/gpu/gpu_device.cc:1525] Created device /job:localhost/replica:0/task:0/device:GPU:1 with 14657 MB memory:  -> device: 1, name: Tesla V100-PCIE-16GB, pci bus id: 0000:06:00.0, compute capability: 7.0\n",
      "2022-11-18 18:32:23.406368: I tensorflow/core/common_runtime/gpu/gpu_device.cc:1525] Created device /job:localhost/replica:0/task:0/device:GPU:2 with 14657 MB memory:  -> device: 2, name: Tesla V100-PCIE-16GB, pci bus id: 0000:08:00.0, compute capability: 7.0\n"
     ]
    },
    {
     "name": "stdout",
     "output_type": "stream",
     "text": [
      "(175, 512, 512, 1)\n",
      "(175, 512, 512, 1)\n"
     ]
    }
   ],
   "source": [
    "imgs = [io.imread(CURR_IM_NAME) for CURR_IM_NAME in FILENAMES]\n",
    "X_train = tf.stack(imgs)\n",
    "X_train = np.expand_dims(X_train, axis=-1)\n",
    "print(X_train.shape)\n",
    "\n",
    "masks = [io.imread(CURR_IM_NAME.replace(\"img\",\"masks\")) for CURR_IM_NAME in FILENAMES]\n",
    "y_train = tf.stack(masks)\n",
    "y_train = np.expand_dims(y_train, axis=-1)\n",
    "print(y_train.shape)"
   ]
  },
  {
   "cell_type": "code",
   "execution_count": 5,
   "id": "5c1212c8",
   "metadata": {
    "execution": {
     "iopub.execute_input": "2022-11-04T02:03:39.764045Z",
     "iopub.status.busy": "2022-11-04T02:03:39.762948Z",
     "iopub.status.idle": "2022-11-04T02:03:39.824103Z",
     "shell.execute_reply": "2022-11-04T02:03:39.825037Z"
    }
   },
   "outputs": [
    {
     "data": {
      "text/plain": [
       "2688"
      ]
     },
     "execution_count": 5,
     "metadata": {},
     "output_type": "execute_result"
    }
   ],
   "source": [
    "np.max(masks) # sanity check"
   ]
  },
  {
   "cell_type": "code",
   "execution_count": 6,
   "id": "73d0c5d8",
   "metadata": {
    "execution": {
     "iopub.execute_input": "2022-11-04T02:03:39.833559Z",
     "iopub.status.busy": "2022-11-04T02:03:39.832399Z",
     "iopub.status.idle": "2022-11-04T02:03:40.470234Z",
     "shell.execute_reply": "2022-11-04T02:03:40.471164Z"
    }
   },
   "outputs": [
    {
     "name": "stdout",
     "output_type": "stream",
     "text": [
      "WARNING:tensorflow:Removing 6 of 175 images with fewer than 5 objects.\n",
      "306615\n"
     ]
    }
   ],
   "source": [
    "# create dataloader\n",
    "seed=0\n",
    "min_objects = 5\n",
    "\n",
    "transforms = ['inner-distance', 'outer-distance', 'fgbg']\n",
    "transforms_kwargs = {'outer-distance': {'erosion_width': 0}}\n",
    "\n",
    "# use augmentation for training but not validation\n",
    "datagen = image_generators.SemanticDataGenerator(\n",
    "    rotation_range=180,\n",
    "    fill_mode='reflect',\n",
    "    zoom_range=(0.75, 1.25),\n",
    "    horizontal_flip=True,\n",
    "    vertical_flip=True)\n",
    "\n",
    "datagen_val = image_generators.CroppingDataGenerator()\n",
    "\n",
    "batch_size = 4 # 8 causes memory outage\n",
    "\n",
    "train_data = datagen.flow(\n",
    "    {'X': X_train, 'y': y_train},\n",
    "    seed=seed,\n",
    "    transforms=transforms,\n",
    "    transforms_kwargs=transforms_kwargs,\n",
    "    min_objects=min_objects,\n",
    "    batch_size=batch_size)\n",
    "\n",
    "val_data = None\n",
    "# datagen_val.flow(\n",
    "#     {'X': X_val, 'y': y_val},\n",
    "#     seed=seed,\n",
    "#     transforms=transforms,\n",
    "#     transforms_kwargs=transforms_kwargs,\n",
    "#     min_objects=min_objects,\n",
    "#     batch_size=batch_size)\n",
    "\n",
    "# get number of training and validation instances\n",
    "\n",
    "cnts_train = [np.max(y_train[i,...]) for i in range(y_train.shape[0])]\n",
    "print(np.sum(cnts_train)) # total number of training instances"
   ]
  },
  {
   "cell_type": "code",
   "execution_count": 7,
   "id": "818ee859",
   "metadata": {
    "execution": {
     "iopub.execute_input": "2022-11-04T02:03:40.478042Z",
     "iopub.status.busy": "2022-11-04T02:03:40.477462Z",
     "iopub.status.idle": "2022-11-04T02:03:40.890389Z",
     "shell.execute_reply": "2022-11-04T02:03:40.891098Z"
    }
   },
   "outputs": [
    {
     "name": "stdout",
     "output_type": "stream",
     "text": [
      "[  1   2   2   2   4   4   6   6   7   7   7   7  10  10  10  11  11  12\n",
      "  14  15  16  18  19  19  20  20  21  24  25  25  26  27  27  28  30  31\n",
      "  32  33  35  37  37  39  39  40  43  44  44  46  47  47  47  47  50  50\n",
      "  52  53  53  53  54  54  54  55  55  58  59  61  61  61  63  65  65  65\n",
      "  67  67  69  69  70  70  72  73  74  75  75  75  75  76  78  78  79  83\n",
      "  85  85  89  91  92  95  96  97  99  99  99  99 100 101 101 102 103 103\n",
      " 104 104 105 105 106 108 108 108 108 109 111 111 116 116 117 117 119 121\n",
      " 122 122 124 125 126 127 129 129 131 131 131 131 132 133 134 134 142 144\n",
      " 146 146 151 153 154 155 156 162 162 164 165 169 170 172 172 174 175 181\n",
      " 185 188 188 189 190 198 203 204 206 212 218 225 235]\n",
      "[143, 143, 42, 120, 151, 67, 128, 18, 136, 63, 89, 137, 159, 68, 114, 145]\n"
     ]
    }
   ],
   "source": [
    "mask_cnt=[len(np.unique(x)) for x in masks]\n",
    "print(np.sort(mask_cnt))\n",
    "indices = [mask_cnt.index(1)]\n",
    "indices.extend([i for i, x in enumerate(mask_cnt) if x == 1])\n",
    "indices.extend([i for i, x in enumerate(mask_cnt) if x == 2])\n",
    "indices.extend([i for i, x in enumerate(mask_cnt) if x == 4])\n",
    "indices.extend([i for i, x in enumerate(mask_cnt) if x == 6])\n",
    "indices.extend([i for i, x in enumerate(mask_cnt) if x == 7])\n",
    "indices.extend([i for i, x in enumerate(mask_cnt) if x == 10])\n",
    "print(indices)"
   ]
  },
  {
   "cell_type": "code",
   "execution_count": 8,
   "id": "980a63f8",
   "metadata": {
    "execution": {
     "iopub.execute_input": "2022-11-04T02:03:40.897292Z",
     "iopub.status.busy": "2022-11-04T02:03:40.895989Z",
     "iopub.status.idle": "2022-11-04T02:03:40.900309Z",
     "shell.execute_reply": "2022-11-04T02:03:40.899560Z"
    }
   },
   "outputs": [
    {
     "data": {
      "text/plain": [
       "['images/training_resized_512x512/M872956_JML_Position8_CD8_train14_img.png',\n",
       " 'images/training_resized_512x512/M872956_JML_Position8_CD8_train14_img.png',\n",
       " 'images/training_resized_512x512/M872956_JML_Position8_CD8_train9_img.png',\n",
       " 'images/training_resized_512x512/M872956_JML_Position8_CD3_train14_img.png',\n",
       " 'images/training_resized_512x512/M872956_JML_Position8_CD8_train4_img.png',\n",
       " 'images/training_resized_512x512/M872956_JML_Position8_CD8_train3_img.png',\n",
       " 'images/training_resized_512x512/M872956_JML_Position8_CD4_train4_img.png',\n",
       " 'images/training_resized_512x512/M872956_JML_Position8_CD3_train9_img.png',\n",
       " 'images/training_resized_512x512/M872956_JML_Position8_CD4_train9_img.png',\n",
       " 'images/training_resized_512x512/M872956_JML_Position8_CD4_train14_img.png',\n",
       " 'images/training_resized_512x512/M872956_JML_Position8_CD8_train8_img.png',\n",
       " 'images/training_resized_512x512/M872956_JML_Position8_CD8_train19_img.png',\n",
       " 'images/training_resized_512x512/M872956_JML_Position8_CD8_train13_img.png',\n",
       " 'images/training_resized_512x512/M872956_JML_Position8_CD3_train4_img.png',\n",
       " 'images/training_resized_512x512/M872956_JML_Position8_CD4_train19_img.png',\n",
       " 'images/training_resized_512x512/M872956_JML_Position10_CD3_train0_img.png']"
      ]
     },
     "execution_count": 8,
     "metadata": {},
     "output_type": "execute_result"
    }
   ],
   "source": [
    "[FILENAMES[x] for x in indices]"
   ]
  },
  {
   "cell_type": "code",
   "execution_count": 9,
   "id": "edaeac9e",
   "metadata": {
    "execution": {
     "iopub.execute_input": "2022-11-04T02:03:40.905791Z",
     "iopub.status.busy": "2022-11-04T02:03:40.905332Z",
     "iopub.status.idle": "2022-11-04T02:03:41.339036Z",
     "shell.execute_reply": "2022-11-04T02:03:41.339887Z"
    }
   },
   "outputs": [
    {
     "name": "stdout",
     "output_type": "stream",
     "text": [
      "images/training_resized_512x512/M872956_JML_Position10_CD3_train0_img.png\n"
     ]
    },
    {
     "data": {
      "image/png": "[encoded data removed]",
      "text/plain": [
       "<Figure size 432x288 with 1 Axes>"
      ]
     },
     "metadata": {
      "needs_background": "light"
     },
     "output_type": "display_data"
    },
    {
     "name": "stderr",
     "output_type": "stream",
     "text": [
      "/app/software/scikit-image/0.19.1-foss-2021b/lib/python3.9/site-packages/skimage/io/_plugins/matplotlib_plugin.py:150: UserWarning: Low image data range; displaying image with stretched contrast.\n",
      "  lo, hi, cmap = _get_display_range(image)\n"
     ]
    },
    {
     "data": {
      "image/png": "[encoded data removed]",
      "text/plain": [
       "<Figure size 432x288 with 2 Axes>"
      ]
     },
     "metadata": {
      "needs_background": "light"
     },
     "output_type": "display_data"
    },
    {
     "data": {
      "image/png": "[encoded data removed]",
      "text/plain": [
       "<Figure size 432x288 with 1 Axes>"
      ]
     },
     "metadata": {
      "needs_background": "light"
     },
     "output_type": "display_data"
    },
    {
     "name": "stdout",
     "output_type": "stream",
     "text": [
      "[   0  173  309  349  424  820 1353 1938 2054 2512]\n",
      "[   0  173  309  349  424  820 1353 1938 2054 2512]\n"
     ]
    }
   ],
   "source": [
    "i=145\n",
    "print(FILENAMES[i])\n",
    "# plt.subplot(1, 3, 1) \n",
    "io.imshow(io.imread(FILENAMES[i]))\n",
    "plt.show()\n",
    "# plt.subplot(1, 3, 2) \n",
    "io.imshow(io.imread(FILENAMES[i].replace(\"_img\",\"_masks\")))\n",
    "plt.show()\n",
    "# plt.subplot(1, 3, 3) \n",
    "tmp=syotil.masks_to_outlines(io.imread(FILENAMES[i].replace(\"_img\",\"_masks\")))\n",
    "io.imshow(tmp)\n",
    "plt.show()\n",
    "print(np.unique(masks[i]))\n",
    "print(np.unique(masks[i][1:510,1:510]))"
   ]
  },
  {
   "cell_type": "code",
   "execution_count": 10,
   "id": "0b79383a",
   "metadata": {
    "execution": {
     "iopub.execute_input": "2022-11-04T02:03:41.360133Z",
     "iopub.status.busy": "2022-11-04T02:03:41.356779Z",
     "iopub.status.idle": "2022-11-04T02:03:41.661337Z",
     "shell.execute_reply": "2022-11-04T02:03:41.662253Z"
    }
   },
   "outputs": [
    {
     "data": {
      "image/png": "[encoded data removed]",
      "text/plain": [
       "<Figure size 432x288 with 4 Axes>"
      ]
     },
     "metadata": {
      "needs_background": "light"
     },
     "output_type": "display_data"
    }
   ],
   "source": [
    "i=5\n",
    "plt.subplot(1, 2, 1) # row 1, col 2 index 1\n",
    "io.imshow(X_train[i,:,:,0])\n",
    "plt.subplot(1, 2, 2) # row 1, col 2 index 1\n",
    "io.imshow(y_train[i,:,:,0])\n",
    "plt.show()"
   ]
  },
  {
   "cell_type": "markdown",
   "id": "9591736f",
   "metadata": {},
   "source": [
    "**The two cells below define and train the model.** They can be skipped if a trained model will be loaded."
   ]
  },
  {
   "cell_type": "code",
   "execution_count": 16,
   "id": "7ebc07f0",
   "metadata": {
    "execution": {
     "iopub.execute_input": "2022-11-04T02:03:41.670917Z",
     "iopub.status.busy": "2022-11-04T02:03:41.669799Z",
     "iopub.status.idle": "2022-11-04T02:03:48.744909Z",
     "shell.execute_reply": "2022-11-04T02:03:48.745863Z"
    }
   },
   "outputs": [
    {
     "name": "stderr",
     "output_type": "stream",
     "text": [
      "/app/software/TensorFlow/2.7.1-foss-2021b-CUDA-11.4.1/lib/python3.9/site-packages/keras/optimizer_v2/adam.py:105: UserWarning: The `lr` argument is deprecated, use `learning_rate` instead.\n",
      "  super(Adam, self).__init__(name, **kwargs)\n"
     ]
    },
    {
     "data": {
      "text/plain": [
       "[('semantic_0', (None, 512, 512, 1)),\n",
       " ('semantic_1', (None, 512, 512, 1)),\n",
       " ('semantic_2', (None, 512, 512, 2))]"
      ]
     },
     "execution_count": 16,
     "metadata": {},
     "output_type": "execute_result"
    }
   ],
   "source": [
    "semantic_classes = [1, 1, 2] # inner distance, outer distance, fgbg\n",
    "\n",
    "model = PanopticNet(\n",
    "    backbone='resnet50',\n",
    "    input_shape=(512,512,1),\n",
    "    norm_method='whole_image',\n",
    "    num_semantic_classes=semantic_classes)\n",
    "\n",
    "lr = 1e-4\n",
    "optimizer = Adam(lr=lr, clipnorm=0.001)\n",
    "lr_sched = rate_scheduler(lr=lr, decay=0.99)\n",
    "\n",
    "# Create a dictionary of losses for each semantic head\n",
    "\n",
    "def semantic_loss(n_classes):\n",
    "    def _semantic_loss(y_pred, y_true):\n",
    "        if n_classes > 1:\n",
    "            return 0.01 * weighted_categorical_crossentropy(\n",
    "                y_pred, y_true, n_classes=n_classes)\n",
    "        return MSE(y_pred, y_true)\n",
    "    return _semantic_loss\n",
    "\n",
    "loss = {}\n",
    "\n",
    "# Give losses for all of the semantic heads\n",
    "for layer in model.layers:\n",
    "    if layer.name.startswith('semantic_'):\n",
    "        n_classes = layer.output_shape[-1]\n",
    "        loss[layer.name] = semantic_loss(n_classes)\n",
    "        \n",
    "model.compile(loss=loss, optimizer=optimizer)\n",
    "\n",
    "model.load_weights(starting_model_path, by_name=True)\n",
    "\n",
    "[(layer.name, layer.output_shape) for layer in filter(lambda x: x.name.startswith('semantic_'), model.layers)]"
   ]
  },
  {
   "cell_type": "code",
   "execution_count": 17,
   "id": "b1fab4f5",
   "metadata": {
    "execution": {
     "iopub.execute_input": "2022-11-04T02:03:48.770918Z",
     "iopub.status.busy": "2022-11-04T02:03:48.769553Z",
     "iopub.status.idle": "2022-11-04T03:24:35.093307Z",
     "shell.execute_reply": "2022-11-04T03:24:35.094242Z"
    }
   },
   "outputs": [
    {
     "name": "stdout",
     "output_type": "stream",
     "text": [
      "Training on 3 GPUs.\n"
     ]
    },
    {
     "name": "stderr",
     "output_type": "stream",
     "text": [
      "2022-11-18 18:38:49.321390: I tensorflow/core/common_runtime/gpu/gpu_device.cc:1525] Created device /device:GPU:0 with 14657 MB memory:  -> device: 0, name: Tesla V100-PCIE-16GB, pci bus id: 0000:04:00.0, compute capability: 7.0\n",
      "2022-11-18 18:38:49.322501: I tensorflow/core/common_runtime/gpu/gpu_device.cc:1525] Created device /device:GPU:1 with 14657 MB memory:  -> device: 1, name: Tesla V100-PCIE-16GB, pci bus id: 0000:06:00.0, compute capability: 7.0\n",
      "2022-11-18 18:38:49.323595: I tensorflow/core/common_runtime/gpu/gpu_device.cc:1525] Created device /device:GPU:2 with 14657 MB memory:  -> device: 2, name: Tesla V100-PCIE-16GB, pci bus id: 0000:08:00.0, compute capability: 7.0\n"
     ]
    },
    {
     "name": "stdout",
     "output_type": "stream",
     "text": [
      "Epoch 1/200\n",
      "42/42 [==============================] - ETA: 0s - loss: 0.0163 - semantic_0_loss: 0.0041 - semantic_1_loss: 0.0102 - semantic_2_loss: 0.0020WARNING:tensorflow:Can save best model only with val_loss available, skipping.\n"
     ]
    },
    {
     "name": "stderr",
     "output_type": "stream",
     "text": [
      "WARNING:tensorflow:Can save best model only with val_loss available, skipping.\n"
     ]
    },
    {
     "name": "stdout",
     "output_type": "stream",
     "text": [
      "42/42 [==============================] - 48s 644ms/step - loss: 0.0163 - semantic_0_loss: 0.0041 - semantic_1_loss: 0.0102 - semantic_2_loss: 0.0020 - lr: 1.0000e-04\n",
      "Epoch 2/200\n",
      "42/42 [==============================] - ETA: 0s - loss: 0.0145 - semantic_0_loss: 0.0037 - semantic_1_loss: 0.0093 - semantic_2_loss: 0.0016WARNING:tensorflow:Can save best model only with val_loss available, skipping.\n"
     ]
    },
    {
     "name": "stderr",
     "output_type": "stream",
     "text": [
      "WARNING:tensorflow:Can save best model only with val_loss available, skipping.\n"
     ]
    },
    {
     "name": "stdout",
     "output_type": "stream",
     "text": [
      "42/42 [==============================] - 24s 558ms/step - loss: 0.0145 - semantic_0_loss: 0.0037 - semantic_1_loss: 0.0093 - semantic_2_loss: 0.0016 - lr: 9.9000e-05\n",
      "Epoch 3/200\n",
      "42/42 [==============================] - ETA: 0s - loss: 0.0141 - semantic_0_loss: 0.0036 - semantic_1_loss: 0.0090 - semantic_2_loss: 0.0015WARNING:tensorflow:Can save best model only with val_loss available, skipping.\n"
     ]
    },
    {
     "name": "stderr",
     "output_type": "stream",
     "text": [
      "WARNING:tensorflow:Can save best model only with val_loss available, skipping.\n"
     ]
    },
    {
     "name": "stdout",
     "output_type": "stream",
     "text": [
      "42/42 [==============================] - 24s 560ms/step - loss: 0.0141 - semantic_0_loss: 0.0036 - semantic_1_loss: 0.0090 - semantic_2_loss: 0.0015 - lr: 9.8010e-05\n",
      "Epoch 4/200\n",
      "42/42 [==============================] - ETA: 0s - loss: 0.0136 - semantic_0_loss: 0.0035 - semantic_1_loss: 0.0086 - semantic_2_loss: 0.0015WARNING:tensorflow:Can save best model only with val_loss available, skipping.\n"
     ]
    },
    {
     "name": "stderr",
     "output_type": "stream",
     "text": [
      "WARNING:tensorflow:Can save best model only with val_loss available, skipping.\n"
     ]
    },
    {
     "name": "stdout",
     "output_type": "stream",
     "text": [
      "42/42 [==============================] - 23s 553ms/step - loss: 0.0136 - semantic_0_loss: 0.0035 - semantic_1_loss: 0.0086 - semantic_2_loss: 0.0015 - lr: 9.7030e-05\n",
      "Epoch 5/200\n",
      "42/42 [==============================] - ETA: 0s - loss: 0.0139 - semantic_0_loss: 0.0036 - semantic_1_loss: 0.0088 - semantic_2_loss: 0.0015WARNING:tensorflow:Can save best model only with val_loss available, skipping.\n"
     ]
    },
    {
     "name": "stderr",
     "output_type": "stream",
     "text": [
      "WARNING:tensorflow:Can save best model only with val_loss available, skipping.\n"
     ]
    },
    {
     "name": "stdout",
     "output_type": "stream",
     "text": [
      "42/42 [==============================] - 24s 563ms/step - loss: 0.0139 - semantic_0_loss: 0.0036 - semantic_1_loss: 0.0088 - semantic_2_loss: 0.0015 - lr: 9.6060e-05\n",
      "Epoch 6/200\n",
      "42/42 [==============================] - ETA: 0s - loss: 0.0136 - semantic_0_loss: 0.0035 - semantic_1_loss: 0.0086 - semantic_2_loss: 0.0015WARNING:tensorflow:Can save best model only with val_loss available, skipping.\n"
     ]
    },
    {
     "name": "stderr",
     "output_type": "stream",
     "text": [
      "WARNING:tensorflow:Can save best model only with val_loss available, skipping.\n"
     ]
    },
    {
     "name": "stdout",
     "output_type": "stream",
     "text": [
      "42/42 [==============================] - 23s 555ms/step - loss: 0.0136 - semantic_0_loss: 0.0035 - semantic_1_loss: 0.0086 - semantic_2_loss: 0.0015 - lr: 9.5099e-05\n",
      "Epoch 7/200\n",
      "42/42 [==============================] - ETA: 0s - loss: 0.0139 - semantic_0_loss: 0.0035 - semantic_1_loss: 0.0089 - semantic_2_loss: 0.0015WARNING:tensorflow:Can save best model only with val_loss available, skipping.\n"
     ]
    },
    {
     "name": "stderr",
     "output_type": "stream",
     "text": [
      "WARNING:tensorflow:Can save best model only with val_loss available, skipping.\n"
     ]
    },
    {
     "name": "stdout",
     "output_type": "stream",
     "text": [
      "42/42 [==============================] - 24s 561ms/step - loss: 0.0139 - semantic_0_loss: 0.0035 - semantic_1_loss: 0.0089 - semantic_2_loss: 0.0015 - lr: 9.4148e-05\n",
      "Epoch 8/200\n",
      "42/42 [==============================] - ETA: 0s - loss: 0.0136 - semantic_0_loss: 0.0035 - semantic_1_loss: 0.0087 - semantic_2_loss: 0.0015WARNING:tensorflow:Can save best model only with val_loss available, skipping.\n"
     ]
    },
    {
     "name": "stderr",
     "output_type": "stream",
     "text": [
      "WARNING:tensorflow:Can save best model only with val_loss available, skipping.\n"
     ]
    },
    {
     "name": "stdout",
     "output_type": "stream",
     "text": [
      "42/42 [==============================] - 24s 563ms/step - loss: 0.0136 - semantic_0_loss: 0.0035 - semantic_1_loss: 0.0087 - semantic_2_loss: 0.0015 - lr: 9.3207e-05\n",
      "Epoch 9/200\n",
      "42/42 [==============================] - ETA: 0s - loss: 0.0134 - semantic_0_loss: 0.0034 - semantic_1_loss: 0.0085 - semantic_2_loss: 0.0015WARNING:tensorflow:Can save best model only with val_loss available, skipping.\n"
     ]
    },
    {
     "name": "stderr",
     "output_type": "stream",
     "text": [
      "WARNING:tensorflow:Can save best model only with val_loss available, skipping.\n"
     ]
    },
    {
     "name": "stdout",
     "output_type": "stream",
     "text": [
      "42/42 [==============================] - 24s 559ms/step - loss: 0.0134 - semantic_0_loss: 0.0034 - semantic_1_loss: 0.0085 - semantic_2_loss: 0.0015 - lr: 9.2274e-05\n",
      "Epoch 10/200\n",
      "42/42 [==============================] - ETA: 0s - loss: 0.0133 - semantic_0_loss: 0.0034 - semantic_1_loss: 0.0085 - semantic_2_loss: 0.0015WARNING:tensorflow:Can save best model only with val_loss available, skipping.\n"
     ]
    },
    {
     "name": "stderr",
     "output_type": "stream",
     "text": [
      "WARNING:tensorflow:Can save best model only with val_loss available, skipping.\n"
     ]
    },
    {
     "name": "stdout",
     "output_type": "stream",
     "text": [
      "42/42 [==============================] - 24s 572ms/step - loss: 0.0133 - semantic_0_loss: 0.0034 - semantic_1_loss: 0.0085 - semantic_2_loss: 0.0015 - lr: 9.1352e-05\n",
      "Epoch 11/200\n",
      "42/42 [==============================] - ETA: 0s - loss: 0.0134 - semantic_0_loss: 0.0034 - semantic_1_loss: 0.0085 - semantic_2_loss: 0.0015WARNING:tensorflow:Can save best model only with val_loss available, skipping.\n"
     ]
    },
    {
     "name": "stderr",
     "output_type": "stream",
     "text": [
      "WARNING:tensorflow:Can save best model only with val_loss available, skipping.\n"
     ]
    },
    {
     "name": "stdout",
     "output_type": "stream",
     "text": [
      "42/42 [==============================] - 24s 557ms/step - loss: 0.0134 - semantic_0_loss: 0.0034 - semantic_1_loss: 0.0085 - semantic_2_loss: 0.0015 - lr: 9.0438e-05\n",
      "Epoch 12/200\n",
      "42/42 [==============================] - ETA: 0s - loss: 0.0130 - semantic_0_loss: 0.0034 - semantic_1_loss: 0.0082 - semantic_2_loss: 0.0014WARNING:tensorflow:Can save best model only with val_loss available, skipping.\n"
     ]
    },
    {
     "name": "stderr",
     "output_type": "stream",
     "text": [
      "WARNING:tensorflow:Can save best model only with val_loss available, skipping.\n"
     ]
    },
    {
     "name": "stdout",
     "output_type": "stream",
     "text": [
      "42/42 [==============================] - 25s 587ms/step - loss: 0.0130 - semantic_0_loss: 0.0034 - semantic_1_loss: 0.0082 - semantic_2_loss: 0.0014 - lr: 8.9534e-05\n",
      "Epoch 13/200\n",
      "42/42 [==============================] - ETA: 0s - loss: 0.0130 - semantic_0_loss: 0.0034 - semantic_1_loss: 0.0082 - semantic_2_loss: 0.0014WARNING:tensorflow:Can save best model only with val_loss available, skipping.\n"
     ]
    },
    {
     "name": "stderr",
     "output_type": "stream",
     "text": [
      "WARNING:tensorflow:Can save best model only with val_loss available, skipping.\n"
     ]
    },
    {
     "name": "stdout",
     "output_type": "stream",
     "text": [
      "42/42 [==============================] - 24s 556ms/step - loss: 0.0130 - semantic_0_loss: 0.0034 - semantic_1_loss: 0.0082 - semantic_2_loss: 0.0014 - lr: 8.8638e-05\n",
      "Epoch 14/200\n",
      "42/42 [==============================] - ETA: 0s - loss: 0.0131 - semantic_0_loss: 0.0034 - semantic_1_loss: 0.0083 - semantic_2_loss: 0.0014WARNING:tensorflow:Can save best model only with val_loss available, skipping.\n"
     ]
    },
    {
     "name": "stderr",
     "output_type": "stream",
     "text": [
      "WARNING:tensorflow:Can save best model only with val_loss available, skipping.\n"
     ]
    },
    {
     "name": "stdout",
     "output_type": "stream",
     "text": [
      "42/42 [==============================] - 24s 565ms/step - loss: 0.0131 - semantic_0_loss: 0.0034 - semantic_1_loss: 0.0083 - semantic_2_loss: 0.0014 - lr: 8.7752e-05\n",
      "Epoch 15/200\n",
      "42/42 [==============================] - ETA: 0s - loss: 0.0132 - semantic_0_loss: 0.0034 - semantic_1_loss: 0.0084 - semantic_2_loss: 0.0014WARNING:tensorflow:Can save best model only with val_loss available, skipping.\n"
     ]
    },
    {
     "name": "stderr",
     "output_type": "stream",
     "text": [
      "WARNING:tensorflow:Can save best model only with val_loss available, skipping.\n"
     ]
    },
    {
     "name": "stdout",
     "output_type": "stream",
     "text": [
      "42/42 [==============================] - 24s 563ms/step - loss: 0.0132 - semantic_0_loss: 0.0034 - semantic_1_loss: 0.0084 - semantic_2_loss: 0.0014 - lr: 8.6875e-05\n",
      "Epoch 16/200\n",
      "42/42 [==============================] - ETA: 0s - loss: 0.0133 - semantic_0_loss: 0.0034 - semantic_1_loss: 0.0084 - semantic_2_loss: 0.0014WARNING:tensorflow:Can save best model only with val_loss available, skipping.\n"
     ]
    },
    {
     "name": "stderr",
     "output_type": "stream",
     "text": [
      "WARNING:tensorflow:Can save best model only with val_loss available, skipping.\n"
     ]
    },
    {
     "name": "stdout",
     "output_type": "stream",
     "text": [
      "42/42 [==============================] - 24s 560ms/step - loss: 0.0133 - semantic_0_loss: 0.0034 - semantic_1_loss: 0.0084 - semantic_2_loss: 0.0014 - lr: 8.6006e-05\n",
      "Epoch 17/200\n",
      "42/42 [==============================] - ETA: 0s - loss: 0.0129 - semantic_0_loss: 0.0034 - semantic_1_loss: 0.0081 - semantic_2_loss: 0.0014WARNING:tensorflow:Can save best model only with val_loss available, skipping.\n"
     ]
    },
    {
     "name": "stderr",
     "output_type": "stream",
     "text": [
      "WARNING:tensorflow:Can save best model only with val_loss available, skipping.\n"
     ]
    },
    {
     "name": "stdout",
     "output_type": "stream",
     "text": [
      "42/42 [==============================] - 24s 563ms/step - loss: 0.0129 - semantic_0_loss: 0.0034 - semantic_1_loss: 0.0081 - semantic_2_loss: 0.0014 - lr: 8.5146e-05\n",
      "Epoch 18/200\n",
      "42/42 [==============================] - ETA: 0s - loss: 0.0127 - semantic_0_loss: 0.0033 - semantic_1_loss: 0.0080 - semantic_2_loss: 0.0014WARNING:tensorflow:Can save best model only with val_loss available, skipping.\n"
     ]
    },
    {
     "name": "stderr",
     "output_type": "stream",
     "text": [
      "WARNING:tensorflow:Can save best model only with val_loss available, skipping.\n"
     ]
    },
    {
     "name": "stdout",
     "output_type": "stream",
     "text": [
      "42/42 [==============================] - 24s 565ms/step - loss: 0.0127 - semantic_0_loss: 0.0033 - semantic_1_loss: 0.0080 - semantic_2_loss: 0.0014 - lr: 8.4294e-05\n",
      "Epoch 19/200\n",
      "42/42 [==============================] - ETA: 0s - loss: 0.0131 - semantic_0_loss: 0.0034 - semantic_1_loss: 0.0083 - semantic_2_loss: 0.0014WARNING:tensorflow:Can save best model only with val_loss available, skipping.\n"
     ]
    },
    {
     "name": "stderr",
     "output_type": "stream",
     "text": [
      "WARNING:tensorflow:Can save best model only with val_loss available, skipping.\n"
     ]
    },
    {
     "name": "stdout",
     "output_type": "stream",
     "text": [
      "42/42 [==============================] - 24s 574ms/step - loss: 0.0131 - semantic_0_loss: 0.0034 - semantic_1_loss: 0.0083 - semantic_2_loss: 0.0014 - lr: 8.3451e-05\n",
      "Epoch 20/200\n",
      "42/42 [==============================] - ETA: 0s - loss: 0.0127 - semantic_0_loss: 0.0033 - semantic_1_loss: 0.0080 - semantic_2_loss: 0.0014WARNING:tensorflow:Can save best model only with val_loss available, skipping.\n"
     ]
    },
    {
     "name": "stderr",
     "output_type": "stream",
     "text": [
      "WARNING:tensorflow:Can save best model only with val_loss available, skipping.\n"
     ]
    },
    {
     "name": "stdout",
     "output_type": "stream",
     "text": [
      "42/42 [==============================] - 24s 567ms/step - loss: 0.0127 - semantic_0_loss: 0.0033 - semantic_1_loss: 0.0080 - semantic_2_loss: 0.0014 - lr: 8.2617e-05\n",
      "Epoch 21/200\n",
      "42/42 [==============================] - ETA: 0s - loss: 0.0129 - semantic_0_loss: 0.0033 - semantic_1_loss: 0.0082 - semantic_2_loss: 0.0014WARNING:tensorflow:Can save best model only with val_loss available, skipping.\n"
     ]
    },
    {
     "name": "stderr",
     "output_type": "stream",
     "text": [
      "WARNING:tensorflow:Can save best model only with val_loss available, skipping.\n"
     ]
    },
    {
     "name": "stdout",
     "output_type": "stream",
     "text": [
      "42/42 [==============================] - 24s 556ms/step - loss: 0.0129 - semantic_0_loss: 0.0033 - semantic_1_loss: 0.0082 - semantic_2_loss: 0.0014 - lr: 8.1791e-05\n",
      "Epoch 22/200\n",
      "42/42 [==============================] - ETA: 0s - loss: 0.0126 - semantic_0_loss: 0.0033 - semantic_1_loss: 0.0080 - semantic_2_loss: 0.0014WARNING:tensorflow:Can save best model only with val_loss available, skipping.\n"
     ]
    },
    {
     "name": "stderr",
     "output_type": "stream",
     "text": [
      "WARNING:tensorflow:Can save best model only with val_loss available, skipping.\n"
     ]
    },
    {
     "name": "stdout",
     "output_type": "stream",
     "text": [
      "42/42 [==============================] - 24s 564ms/step - loss: 0.0126 - semantic_0_loss: 0.0033 - semantic_1_loss: 0.0080 - semantic_2_loss: 0.0014 - lr: 8.0973e-05\n",
      "Epoch 23/200\n",
      "42/42 [==============================] - ETA: 0s - loss: 0.0128 - semantic_0_loss: 0.0033 - semantic_1_loss: 0.0081 - semantic_2_loss: 0.0014WARNING:tensorflow:Can save best model only with val_loss available, skipping.\n"
     ]
    },
    {
     "name": "stderr",
     "output_type": "stream",
     "text": [
      "WARNING:tensorflow:Can save best model only with val_loss available, skipping.\n"
     ]
    },
    {
     "name": "stdout",
     "output_type": "stream",
     "text": [
      "42/42 [==============================] - 24s 556ms/step - loss: 0.0128 - semantic_0_loss: 0.0033 - semantic_1_loss: 0.0081 - semantic_2_loss: 0.0014 - lr: 8.0163e-05\n",
      "Epoch 24/200\n",
      "42/42 [==============================] - ETA: 0s - loss: 0.0126 - semantic_0_loss: 0.0033 - semantic_1_loss: 0.0080 - semantic_2_loss: 0.0014WARNING:tensorflow:Can save best model only with val_loss available, skipping.\n"
     ]
    },
    {
     "name": "stderr",
     "output_type": "stream",
     "text": [
      "WARNING:tensorflow:Can save best model only with val_loss available, skipping.\n"
     ]
    },
    {
     "name": "stdout",
     "output_type": "stream",
     "text": [
      "42/42 [==============================] - 24s 557ms/step - loss: 0.0126 - semantic_0_loss: 0.0033 - semantic_1_loss: 0.0080 - semantic_2_loss: 0.0014 - lr: 7.9361e-05\n",
      "Epoch 25/200\n",
      "42/42 [==============================] - ETA: 0s - loss: 0.0126 - semantic_0_loss: 0.0033 - semantic_1_loss: 0.0079 - semantic_2_loss: 0.0014WARNING:tensorflow:Can save best model only with val_loss available, skipping.\n"
     ]
    },
    {
     "name": "stderr",
     "output_type": "stream",
     "text": [
      "WARNING:tensorflow:Can save best model only with val_loss available, skipping.\n"
     ]
    },
    {
     "name": "stdout",
     "output_type": "stream",
     "text": [
      "42/42 [==============================] - 23s 555ms/step - loss: 0.0126 - semantic_0_loss: 0.0033 - semantic_1_loss: 0.0079 - semantic_2_loss: 0.0014 - lr: 7.8568e-05\n",
      "Epoch 26/200\n",
      "42/42 [==============================] - ETA: 0s - loss: 0.0127 - semantic_0_loss: 0.0033 - semantic_1_loss: 0.0080 - semantic_2_loss: 0.0014WARNING:tensorflow:Can save best model only with val_loss available, skipping.\n"
     ]
    },
    {
     "name": "stderr",
     "output_type": "stream",
     "text": [
      "WARNING:tensorflow:Can save best model only with val_loss available, skipping.\n"
     ]
    },
    {
     "name": "stdout",
     "output_type": "stream",
     "text": [
      "42/42 [==============================] - 24s 553ms/step - loss: 0.0127 - semantic_0_loss: 0.0033 - semantic_1_loss: 0.0080 - semantic_2_loss: 0.0014 - lr: 7.7782e-05\n",
      "Epoch 27/200\n",
      "42/42 [==============================] - ETA: 0s - loss: 0.0127 - semantic_0_loss: 0.0033 - semantic_1_loss: 0.0080 - semantic_2_loss: 0.0014WARNING:tensorflow:Can save best model only with val_loss available, skipping.\n"
     ]
    },
    {
     "name": "stderr",
     "output_type": "stream",
     "text": [
      "WARNING:tensorflow:Can save best model only with val_loss available, skipping.\n"
     ]
    },
    {
     "name": "stdout",
     "output_type": "stream",
     "text": [
      "42/42 [==============================] - 23s 554ms/step - loss: 0.0127 - semantic_0_loss: 0.0033 - semantic_1_loss: 0.0080 - semantic_2_loss: 0.0014 - lr: 7.7004e-05\n",
      "Epoch 28/200\n",
      "42/42 [==============================] - ETA: 0s - loss: 0.0125 - semantic_0_loss: 0.0033 - semantic_1_loss: 0.0079 - semantic_2_loss: 0.0014WARNING:tensorflow:Can save best model only with val_loss available, skipping.\n"
     ]
    },
    {
     "name": "stderr",
     "output_type": "stream",
     "text": [
      "WARNING:tensorflow:Can save best model only with val_loss available, skipping.\n"
     ]
    },
    {
     "name": "stdout",
     "output_type": "stream",
     "text": [
      "42/42 [==============================] - 24s 572ms/step - loss: 0.0125 - semantic_0_loss: 0.0033 - semantic_1_loss: 0.0079 - semantic_2_loss: 0.0014 - lr: 7.6234e-05\n",
      "Epoch 29/200\n",
      "42/42 [==============================] - ETA: 0s - loss: 0.0126 - semantic_0_loss: 0.0033 - semantic_1_loss: 0.0080 - semantic_2_loss: 0.0014WARNING:tensorflow:Can save best model only with val_loss available, skipping.\n"
     ]
    },
    {
     "name": "stderr",
     "output_type": "stream",
     "text": [
      "WARNING:tensorflow:Can save best model only with val_loss available, skipping.\n"
     ]
    },
    {
     "name": "stdout",
     "output_type": "stream",
     "text": [
      "42/42 [==============================] - 24s 559ms/step - loss: 0.0126 - semantic_0_loss: 0.0033 - semantic_1_loss: 0.0080 - semantic_2_loss: 0.0014 - lr: 7.5472e-05\n",
      "Epoch 30/200\n",
      "42/42 [==============================] - ETA: 0s - loss: 0.0126 - semantic_0_loss: 0.0033 - semantic_1_loss: 0.0079 - semantic_2_loss: 0.0014WARNING:tensorflow:Can save best model only with val_loss available, skipping.\n"
     ]
    },
    {
     "name": "stderr",
     "output_type": "stream",
     "text": [
      "WARNING:tensorflow:Can save best model only with val_loss available, skipping.\n"
     ]
    },
    {
     "name": "stdout",
     "output_type": "stream",
     "text": [
      "42/42 [==============================] - 24s 560ms/step - loss: 0.0126 - semantic_0_loss: 0.0033 - semantic_1_loss: 0.0079 - semantic_2_loss: 0.0014 - lr: 7.4717e-05\n",
      "Epoch 31/200\n",
      "42/42 [==============================] - ETA: 0s - loss: 0.0125 - semantic_0_loss: 0.0033 - semantic_1_loss: 0.0079 - semantic_2_loss: 0.0014WARNING:tensorflow:Can save best model only with val_loss available, skipping.\n"
     ]
    },
    {
     "name": "stderr",
     "output_type": "stream",
     "text": [
      "WARNING:tensorflow:Can save best model only with val_loss available, skipping.\n"
     ]
    },
    {
     "name": "stdout",
     "output_type": "stream",
     "text": [
      "42/42 [==============================] - 24s 557ms/step - loss: 0.0125 - semantic_0_loss: 0.0033 - semantic_1_loss: 0.0079 - semantic_2_loss: 0.0014 - lr: 7.3970e-05\n",
      "Epoch 32/200\n",
      "42/42 [==============================] - ETA: 0s - loss: 0.0126 - semantic_0_loss: 0.0033 - semantic_1_loss: 0.0079 - semantic_2_loss: 0.0014WARNING:tensorflow:Can save best model only with val_loss available, skipping.\n"
     ]
    },
    {
     "name": "stderr",
     "output_type": "stream",
     "text": [
      "WARNING:tensorflow:Can save best model only with val_loss available, skipping.\n"
     ]
    },
    {
     "name": "stdout",
     "output_type": "stream",
     "text": [
      "42/42 [==============================] - 24s 561ms/step - loss: 0.0126 - semantic_0_loss: 0.0033 - semantic_1_loss: 0.0079 - semantic_2_loss: 0.0014 - lr: 7.3230e-05\n",
      "Epoch 33/200\n",
      "42/42 [==============================] - ETA: 0s - loss: 0.0123 - semantic_0_loss: 0.0032 - semantic_1_loss: 0.0078 - semantic_2_loss: 0.0013WARNING:tensorflow:Can save best model only with val_loss available, skipping.\n"
     ]
    },
    {
     "name": "stderr",
     "output_type": "stream",
     "text": [
      "WARNING:tensorflow:Can save best model only with val_loss available, skipping.\n"
     ]
    },
    {
     "name": "stdout",
     "output_type": "stream",
     "text": [
      "42/42 [==============================] - 24s 555ms/step - loss: 0.0123 - semantic_0_loss: 0.0032 - semantic_1_loss: 0.0078 - semantic_2_loss: 0.0013 - lr: 7.2498e-05\n",
      "Epoch 34/200\n",
      "42/42 [==============================] - ETA: 0s - loss: 0.0125 - semantic_0_loss: 0.0033 - semantic_1_loss: 0.0079 - semantic_2_loss: 0.0014WARNING:tensorflow:Can save best model only with val_loss available, skipping.\n"
     ]
    },
    {
     "name": "stderr",
     "output_type": "stream",
     "text": [
      "WARNING:tensorflow:Can save best model only with val_loss available, skipping.\n"
     ]
    },
    {
     "name": "stdout",
     "output_type": "stream",
     "text": [
      "42/42 [==============================] - 24s 562ms/step - loss: 0.0125 - semantic_0_loss: 0.0033 - semantic_1_loss: 0.0079 - semantic_2_loss: 0.0014 - lr: 7.1773e-05\n",
      "Epoch 35/200\n",
      "42/42 [==============================] - ETA: 0s - loss: 0.0123 - semantic_0_loss: 0.0032 - semantic_1_loss: 0.0078 - semantic_2_loss: 0.0014WARNING:tensorflow:Can save best model only with val_loss available, skipping.\n"
     ]
    },
    {
     "name": "stderr",
     "output_type": "stream",
     "text": [
      "WARNING:tensorflow:Can save best model only with val_loss available, skipping.\n"
     ]
    },
    {
     "name": "stdout",
     "output_type": "stream",
     "text": [
      "42/42 [==============================] - 24s 571ms/step - loss: 0.0123 - semantic_0_loss: 0.0032 - semantic_1_loss: 0.0078 - semantic_2_loss: 0.0014 - lr: 7.1055e-05\n",
      "Epoch 36/200\n",
      "42/42 [==============================] - ETA: 0s - loss: 0.0122 - semantic_0_loss: 0.0032 - semantic_1_loss: 0.0077 - semantic_2_loss: 0.0013WARNING:tensorflow:Can save best model only with val_loss available, skipping.\n"
     ]
    },
    {
     "name": "stderr",
     "output_type": "stream",
     "text": [
      "WARNING:tensorflow:Can save best model only with val_loss available, skipping.\n"
     ]
    },
    {
     "name": "stdout",
     "output_type": "stream",
     "text": [
      "42/42 [==============================] - 24s 554ms/step - loss: 0.0122 - semantic_0_loss: 0.0032 - semantic_1_loss: 0.0077 - semantic_2_loss: 0.0013 - lr: 7.0345e-05\n",
      "Epoch 37/200\n",
      "42/42 [==============================] - ETA: 0s - loss: 0.0124 - semantic_0_loss: 0.0033 - semantic_1_loss: 0.0078 - semantic_2_loss: 0.0013WARNING:tensorflow:Can save best model only with val_loss available, skipping.\n"
     ]
    },
    {
     "name": "stderr",
     "output_type": "stream",
     "text": [
      "WARNING:tensorflow:Can save best model only with val_loss available, skipping.\n"
     ]
    },
    {
     "name": "stdout",
     "output_type": "stream",
     "text": [
      "42/42 [==============================] - 24s 556ms/step - loss: 0.0124 - semantic_0_loss: 0.0033 - semantic_1_loss: 0.0078 - semantic_2_loss: 0.0013 - lr: 6.9641e-05\n",
      "Epoch 38/200\n",
      "42/42 [==============================] - ETA: 0s - loss: 0.0121 - semantic_0_loss: 0.0032 - semantic_1_loss: 0.0076 - semantic_2_loss: 0.0013WARNING:tensorflow:Can save best model only with val_loss available, skipping.\n"
     ]
    },
    {
     "name": "stderr",
     "output_type": "stream",
     "text": [
      "WARNING:tensorflow:Can save best model only with val_loss available, skipping.\n"
     ]
    },
    {
     "name": "stdout",
     "output_type": "stream",
     "text": [
      "42/42 [==============================] - 23s 554ms/step - loss: 0.0121 - semantic_0_loss: 0.0032 - semantic_1_loss: 0.0076 - semantic_2_loss: 0.0013 - lr: 6.8945e-05\n",
      "Epoch 39/200\n",
      "42/42 [==============================] - ETA: 0s - loss: 0.0121 - semantic_0_loss: 0.0032 - semantic_1_loss: 0.0076 - semantic_2_loss: 0.0013WARNING:tensorflow:Can save best model only with val_loss available, skipping.\n"
     ]
    },
    {
     "name": "stderr",
     "output_type": "stream",
     "text": [
      "WARNING:tensorflow:Can save best model only with val_loss available, skipping.\n"
     ]
    },
    {
     "name": "stdout",
     "output_type": "stream",
     "text": [
      "42/42 [==============================] - 23s 553ms/step - loss: 0.0121 - semantic_0_loss: 0.0032 - semantic_1_loss: 0.0076 - semantic_2_loss: 0.0013 - lr: 6.8255e-05\n",
      "Epoch 40/200\n",
      "42/42 [==============================] - ETA: 0s - loss: 0.0122 - semantic_0_loss: 0.0032 - semantic_1_loss: 0.0077 - semantic_2_loss: 0.0013WARNING:tensorflow:Can save best model only with val_loss available, skipping.\n"
     ]
    },
    {
     "name": "stderr",
     "output_type": "stream",
     "text": [
      "WARNING:tensorflow:Can save best model only with val_loss available, skipping.\n"
     ]
    },
    {
     "name": "stdout",
     "output_type": "stream",
     "text": [
      "42/42 [==============================] - 23s 552ms/step - loss: 0.0122 - semantic_0_loss: 0.0032 - semantic_1_loss: 0.0077 - semantic_2_loss: 0.0013 - lr: 6.7573e-05\n",
      "Epoch 41/200\n",
      "42/42 [==============================] - ETA: 0s - loss: 0.0123 - semantic_0_loss: 0.0032 - semantic_1_loss: 0.0077 - semantic_2_loss: 0.0013WARNING:tensorflow:Can save best model only with val_loss available, skipping.\n"
     ]
    },
    {
     "name": "stderr",
     "output_type": "stream",
     "text": [
      "WARNING:tensorflow:Can save best model only with val_loss available, skipping.\n"
     ]
    },
    {
     "name": "stdout",
     "output_type": "stream",
     "text": [
      "42/42 [==============================] - 24s 556ms/step - loss: 0.0123 - semantic_0_loss: 0.0032 - semantic_1_loss: 0.0077 - semantic_2_loss: 0.0013 - lr: 6.6897e-05\n",
      "Epoch 42/200\n",
      "42/42 [==============================] - ETA: 0s - loss: 0.0122 - semantic_0_loss: 0.0032 - semantic_1_loss: 0.0077 - semantic_2_loss: 0.0013WARNING:tensorflow:Can save best model only with val_loss available, skipping.\n"
     ]
    },
    {
     "name": "stderr",
     "output_type": "stream",
     "text": [
      "WARNING:tensorflow:Can save best model only with val_loss available, skipping.\n"
     ]
    },
    {
     "name": "stdout",
     "output_type": "stream",
     "text": [
      "42/42 [==============================] - 24s 557ms/step - loss: 0.0122 - semantic_0_loss: 0.0032 - semantic_1_loss: 0.0077 - semantic_2_loss: 0.0013 - lr: 6.6228e-05\n",
      "Epoch 43/200\n",
      "42/42 [==============================] - ETA: 0s - loss: 0.0122 - semantic_0_loss: 0.0032 - semantic_1_loss: 0.0077 - semantic_2_loss: 0.0013WARNING:tensorflow:Can save best model only with val_loss available, skipping.\n"
     ]
    },
    {
     "name": "stderr",
     "output_type": "stream",
     "text": [
      "WARNING:tensorflow:Can save best model only with val_loss available, skipping.\n"
     ]
    },
    {
     "name": "stdout",
     "output_type": "stream",
     "text": [
      "42/42 [==============================] - 24s 566ms/step - loss: 0.0122 - semantic_0_loss: 0.0032 - semantic_1_loss: 0.0077 - semantic_2_loss: 0.0013 - lr: 6.5566e-05\n",
      "Epoch 44/200\n",
      "42/42 [==============================] - ETA: 0s - loss: 0.0121 - semantic_0_loss: 0.0032 - semantic_1_loss: 0.0076 - semantic_2_loss: 0.0013WARNING:tensorflow:Can save best model only with val_loss available, skipping.\n"
     ]
    },
    {
     "name": "stderr",
     "output_type": "stream",
     "text": [
      "WARNING:tensorflow:Can save best model only with val_loss available, skipping.\n"
     ]
    },
    {
     "name": "stdout",
     "output_type": "stream",
     "text": [
      "42/42 [==============================] - 24s 561ms/step - loss: 0.0121 - semantic_0_loss: 0.0032 - semantic_1_loss: 0.0076 - semantic_2_loss: 0.0013 - lr: 6.4910e-05\n",
      "Epoch 45/200\n",
      "42/42 [==============================] - ETA: 0s - loss: 0.0123 - semantic_0_loss: 0.0032 - semantic_1_loss: 0.0077 - semantic_2_loss: 0.0013WARNING:tensorflow:Can save best model only with val_loss available, skipping.\n"
     ]
    },
    {
     "name": "stderr",
     "output_type": "stream",
     "text": [
      "WARNING:tensorflow:Can save best model only with val_loss available, skipping.\n"
     ]
    },
    {
     "name": "stdout",
     "output_type": "stream",
     "text": [
      "42/42 [==============================] - 24s 571ms/step - loss: 0.0123 - semantic_0_loss: 0.0032 - semantic_1_loss: 0.0077 - semantic_2_loss: 0.0013 - lr: 6.4261e-05\n",
      "Epoch 46/200\n",
      "42/42 [==============================] - ETA: 0s - loss: 0.0117 - semantic_0_loss: 0.0031 - semantic_1_loss: 0.0073 - semantic_2_loss: 0.0013WARNING:tensorflow:Can save best model only with val_loss available, skipping.\n"
     ]
    },
    {
     "name": "stderr",
     "output_type": "stream",
     "text": [
      "WARNING:tensorflow:Can save best model only with val_loss available, skipping.\n"
     ]
    },
    {
     "name": "stdout",
     "output_type": "stream",
     "text": [
      "42/42 [==============================] - 24s 557ms/step - loss: 0.0117 - semantic_0_loss: 0.0031 - semantic_1_loss: 0.0073 - semantic_2_loss: 0.0013 - lr: 6.3619e-05\n",
      "Epoch 47/200\n",
      "42/42 [==============================] - ETA: 0s - loss: 0.0121 - semantic_0_loss: 0.0031 - semantic_1_loss: 0.0076 - semantic_2_loss: 0.0013WARNING:tensorflow:Can save best model only with val_loss available, skipping.\n"
     ]
    },
    {
     "name": "stderr",
     "output_type": "stream",
     "text": [
      "WARNING:tensorflow:Can save best model only with val_loss available, skipping.\n"
     ]
    },
    {
     "name": "stdout",
     "output_type": "stream",
     "text": [
      "42/42 [==============================] - 23s 553ms/step - loss: 0.0121 - semantic_0_loss: 0.0031 - semantic_1_loss: 0.0076 - semantic_2_loss: 0.0013 - lr: 6.2982e-05\n",
      "Epoch 48/200\n",
      "42/42 [==============================] - ETA: 0s - loss: 0.0121 - semantic_0_loss: 0.0032 - semantic_1_loss: 0.0076 - semantic_2_loss: 0.0013WARNING:tensorflow:Can save best model only with val_loss available, skipping.\n"
     ]
    },
    {
     "name": "stderr",
     "output_type": "stream",
     "text": [
      "WARNING:tensorflow:Can save best model only with val_loss available, skipping.\n"
     ]
    },
    {
     "name": "stdout",
     "output_type": "stream",
     "text": [
      "42/42 [==============================] - 24s 571ms/step - loss: 0.0121 - semantic_0_loss: 0.0032 - semantic_1_loss: 0.0076 - semantic_2_loss: 0.0013 - lr: 6.2353e-05\n",
      "Epoch 49/200\n",
      "42/42 [==============================] - ETA: 0s - loss: 0.0122 - semantic_0_loss: 0.0032 - semantic_1_loss: 0.0077 - semantic_2_loss: 0.0013WARNING:tensorflow:Can save best model only with val_loss available, skipping.\n"
     ]
    },
    {
     "name": "stderr",
     "output_type": "stream",
     "text": [
      "WARNING:tensorflow:Can save best model only with val_loss available, skipping.\n"
     ]
    },
    {
     "name": "stdout",
     "output_type": "stream",
     "text": [
      "42/42 [==============================] - 24s 569ms/step - loss: 0.0122 - semantic_0_loss: 0.0032 - semantic_1_loss: 0.0077 - semantic_2_loss: 0.0013 - lr: 6.1729e-05\n",
      "Epoch 50/200\n",
      "42/42 [==============================] - ETA: 0s - loss: 0.0118 - semantic_0_loss: 0.0031 - semantic_1_loss: 0.0074 - semantic_2_loss: 0.0013WARNING:tensorflow:Can save best model only with val_loss available, skipping.\n"
     ]
    },
    {
     "name": "stderr",
     "output_type": "stream",
     "text": [
      "WARNING:tensorflow:Can save best model only with val_loss available, skipping.\n"
     ]
    },
    {
     "name": "stdout",
     "output_type": "stream",
     "text": [
      "42/42 [==============================] - 23s 552ms/step - loss: 0.0118 - semantic_0_loss: 0.0031 - semantic_1_loss: 0.0074 - semantic_2_loss: 0.0013 - lr: 6.1112e-05\n",
      "Epoch 51/200\n",
      "42/42 [==============================] - ETA: 0s - loss: 0.0119 - semantic_0_loss: 0.0032 - semantic_1_loss: 0.0074 - semantic_2_loss: 0.0013WARNING:tensorflow:Can save best model only with val_loss available, skipping.\n"
     ]
    },
    {
     "name": "stderr",
     "output_type": "stream",
     "text": [
      "WARNING:tensorflow:Can save best model only with val_loss available, skipping.\n"
     ]
    },
    {
     "name": "stdout",
     "output_type": "stream",
     "text": [
      "42/42 [==============================] - 24s 559ms/step - loss: 0.0119 - semantic_0_loss: 0.0032 - semantic_1_loss: 0.0074 - semantic_2_loss: 0.0013 - lr: 6.0501e-05\n",
      "Epoch 52/200\n",
      "42/42 [==============================] - ETA: 0s - loss: 0.0119 - semantic_0_loss: 0.0031 - semantic_1_loss: 0.0075 - semantic_2_loss: 0.0013WARNING:tensorflow:Can save best model only with val_loss available, skipping.\n"
     ]
    },
    {
     "name": "stderr",
     "output_type": "stream",
     "text": [
      "WARNING:tensorflow:Can save best model only with val_loss available, skipping.\n"
     ]
    },
    {
     "name": "stdout",
     "output_type": "stream",
     "text": [
      "42/42 [==============================] - 24s 561ms/step - loss: 0.0119 - semantic_0_loss: 0.0031 - semantic_1_loss: 0.0075 - semantic_2_loss: 0.0013 - lr: 5.9896e-05\n",
      "Epoch 53/200\n",
      "42/42 [==============================] - ETA: 0s - loss: 0.0118 - semantic_0_loss: 0.0031 - semantic_1_loss: 0.0074 - semantic_2_loss: 0.0013WARNING:tensorflow:Can save best model only with val_loss available, skipping.\n"
     ]
    },
    {
     "name": "stderr",
     "output_type": "stream",
     "text": [
      "WARNING:tensorflow:Can save best model only with val_loss available, skipping.\n"
     ]
    },
    {
     "name": "stdout",
     "output_type": "stream",
     "text": [
      "42/42 [==============================] - 23s 551ms/step - loss: 0.0118 - semantic_0_loss: 0.0031 - semantic_1_loss: 0.0074 - semantic_2_loss: 0.0013 - lr: 5.9297e-05\n",
      "Epoch 54/200\n",
      "42/42 [==============================] - ETA: 0s - loss: 0.0122 - semantic_0_loss: 0.0032 - semantic_1_loss: 0.0077 - semantic_2_loss: 0.0013WARNING:tensorflow:Can save best model only with val_loss available, skipping.\n"
     ]
    },
    {
     "name": "stderr",
     "output_type": "stream",
     "text": [
      "WARNING:tensorflow:Can save best model only with val_loss available, skipping.\n"
     ]
    },
    {
     "name": "stdout",
     "output_type": "stream",
     "text": [
      "42/42 [==============================] - 24s 568ms/step - loss: 0.0122 - semantic_0_loss: 0.0032 - semantic_1_loss: 0.0077 - semantic_2_loss: 0.0013 - lr: 5.8704e-05\n",
      "Epoch 55/200\n",
      "42/42 [==============================] - ETA: 0s - loss: 0.0118 - semantic_0_loss: 0.0031 - semantic_1_loss: 0.0074 - semantic_2_loss: 0.0013WARNING:tensorflow:Can save best model only with val_loss available, skipping.\n"
     ]
    },
    {
     "name": "stderr",
     "output_type": "stream",
     "text": [
      "WARNING:tensorflow:Can save best model only with val_loss available, skipping.\n"
     ]
    },
    {
     "name": "stdout",
     "output_type": "stream",
     "text": [
      "42/42 [==============================] - 24s 564ms/step - loss: 0.0118 - semantic_0_loss: 0.0031 - semantic_1_loss: 0.0074 - semantic_2_loss: 0.0013 - lr: 5.8117e-05\n",
      "Epoch 56/200\n",
      "42/42 [==============================] - ETA: 0s - loss: 0.0117 - semantic_0_loss: 0.0031 - semantic_1_loss: 0.0073 - semantic_2_loss: 0.0013WARNING:tensorflow:Can save best model only with val_loss available, skipping.\n"
     ]
    },
    {
     "name": "stderr",
     "output_type": "stream",
     "text": [
      "WARNING:tensorflow:Can save best model only with val_loss available, skipping.\n"
     ]
    },
    {
     "name": "stdout",
     "output_type": "stream",
     "text": [
      "42/42 [==============================] - 24s 556ms/step - loss: 0.0117 - semantic_0_loss: 0.0031 - semantic_1_loss: 0.0073 - semantic_2_loss: 0.0013 - lr: 5.7535e-05\n",
      "Epoch 57/200\n",
      "42/42 [==============================] - ETA: 0s - loss: 0.0117 - semantic_0_loss: 0.0031 - semantic_1_loss: 0.0073 - semantic_2_loss: 0.0013WARNING:tensorflow:Can save best model only with val_loss available, skipping.\n"
     ]
    },
    {
     "name": "stderr",
     "output_type": "stream",
     "text": [
      "WARNING:tensorflow:Can save best model only with val_loss available, skipping.\n"
     ]
    },
    {
     "name": "stdout",
     "output_type": "stream",
     "text": [
      "42/42 [==============================] - 24s 564ms/step - loss: 0.0117 - semantic_0_loss: 0.0031 - semantic_1_loss: 0.0073 - semantic_2_loss: 0.0013 - lr: 5.6960e-05\n",
      "Epoch 58/200\n",
      "42/42 [==============================] - ETA: 0s - loss: 0.0116 - semantic_0_loss: 0.0031 - semantic_1_loss: 0.0073 - semantic_2_loss: 0.0013WARNING:tensorflow:Can save best model only with val_loss available, skipping.\n"
     ]
    },
    {
     "name": "stderr",
     "output_type": "stream",
     "text": [
      "WARNING:tensorflow:Can save best model only with val_loss available, skipping.\n"
     ]
    },
    {
     "name": "stdout",
     "output_type": "stream",
     "text": [
      "42/42 [==============================] - 24s 558ms/step - loss: 0.0116 - semantic_0_loss: 0.0031 - semantic_1_loss: 0.0073 - semantic_2_loss: 0.0013 - lr: 5.6391e-05\n",
      "Epoch 59/200\n",
      "42/42 [==============================] - ETA: 0s - loss: 0.0115 - semantic_0_loss: 0.0031 - semantic_1_loss: 0.0072 - semantic_2_loss: 0.0013WARNING:tensorflow:Can save best model only with val_loss available, skipping.\n"
     ]
    },
    {
     "name": "stderr",
     "output_type": "stream",
     "text": [
      "WARNING:tensorflow:Can save best model only with val_loss available, skipping.\n"
     ]
    },
    {
     "name": "stdout",
     "output_type": "stream",
     "text": [
      "42/42 [==============================] - 23s 553ms/step - loss: 0.0115 - semantic_0_loss: 0.0031 - semantic_1_loss: 0.0072 - semantic_2_loss: 0.0013 - lr: 5.5827e-05\n",
      "Epoch 60/200\n",
      "42/42 [==============================] - ETA: 0s - loss: 0.0116 - semantic_0_loss: 0.0030 - semantic_1_loss: 0.0072 - semantic_2_loss: 0.0013WARNING:tensorflow:Can save best model only with val_loss available, skipping.\n"
     ]
    },
    {
     "name": "stderr",
     "output_type": "stream",
     "text": [
      "WARNING:tensorflow:Can save best model only with val_loss available, skipping.\n"
     ]
    },
    {
     "name": "stdout",
     "output_type": "stream",
     "text": [
      "42/42 [==============================] - 24s 554ms/step - loss: 0.0116 - semantic_0_loss: 0.0030 - semantic_1_loss: 0.0072 - semantic_2_loss: 0.0013 - lr: 5.5268e-05\n",
      "Epoch 61/200\n",
      "42/42 [==============================] - ETA: 0s - loss: 0.0117 - semantic_0_loss: 0.0031 - semantic_1_loss: 0.0073 - semantic_2_loss: 0.0013WARNING:tensorflow:Can save best model only with val_loss available, skipping.\n"
     ]
    },
    {
     "name": "stderr",
     "output_type": "stream",
     "text": [
      "WARNING:tensorflow:Can save best model only with val_loss available, skipping.\n"
     ]
    },
    {
     "name": "stdout",
     "output_type": "stream",
     "text": [
      "42/42 [==============================] - 24s 555ms/step - loss: 0.0117 - semantic_0_loss: 0.0031 - semantic_1_loss: 0.0073 - semantic_2_loss: 0.0013 - lr: 5.4716e-05\n",
      "Epoch 62/200\n",
      "42/42 [==============================] - ETA: 0s - loss: 0.0118 - semantic_0_loss: 0.0031 - semantic_1_loss: 0.0074 - semantic_2_loss: 0.0013WARNING:tensorflow:Can save best model only with val_loss available, skipping.\n"
     ]
    },
    {
     "name": "stderr",
     "output_type": "stream",
     "text": [
      "WARNING:tensorflow:Can save best model only with val_loss available, skipping.\n"
     ]
    },
    {
     "name": "stdout",
     "output_type": "stream",
     "text": [
      "42/42 [==============================] - 24s 560ms/step - loss: 0.0118 - semantic_0_loss: 0.0031 - semantic_1_loss: 0.0074 - semantic_2_loss: 0.0013 - lr: 5.4169e-05\n",
      "Epoch 63/200\n",
      "42/42 [==============================] - ETA: 0s - loss: 0.0118 - semantic_0_loss: 0.0031 - semantic_1_loss: 0.0074 - semantic_2_loss: 0.0013WARNING:tensorflow:Can save best model only with val_loss available, skipping.\n"
     ]
    },
    {
     "name": "stderr",
     "output_type": "stream",
     "text": [
      "WARNING:tensorflow:Can save best model only with val_loss available, skipping.\n"
     ]
    },
    {
     "name": "stdout",
     "output_type": "stream",
     "text": [
      "42/42 [==============================] - 23s 552ms/step - loss: 0.0118 - semantic_0_loss: 0.0031 - semantic_1_loss: 0.0074 - semantic_2_loss: 0.0013 - lr: 5.3627e-05\n",
      "Epoch 64/200\n",
      "42/42 [==============================] - ETA: 0s - loss: 0.0115 - semantic_0_loss: 0.0030 - semantic_1_loss: 0.0072 - semantic_2_loss: 0.0013WARNING:tensorflow:Can save best model only with val_loss available, skipping.\n"
     ]
    },
    {
     "name": "stderr",
     "output_type": "stream",
     "text": [
      "WARNING:tensorflow:Can save best model only with val_loss available, skipping.\n"
     ]
    },
    {
     "name": "stdout",
     "output_type": "stream",
     "text": [
      "42/42 [==============================] - 24s 558ms/step - loss: 0.0115 - semantic_0_loss: 0.0030 - semantic_1_loss: 0.0072 - semantic_2_loss: 0.0013 - lr: 5.3091e-05\n",
      "Epoch 65/200\n",
      "42/42 [==============================] - ETA: 0s - loss: 0.0114 - semantic_0_loss: 0.0031 - semantic_1_loss: 0.0071 - semantic_2_loss: 0.0013WARNING:tensorflow:Can save best model only with val_loss available, skipping.\n"
     ]
    },
    {
     "name": "stderr",
     "output_type": "stream",
     "text": [
      "WARNING:tensorflow:Can save best model only with val_loss available, skipping.\n"
     ]
    },
    {
     "name": "stdout",
     "output_type": "stream",
     "text": [
      "42/42 [==============================] - 23s 552ms/step - loss: 0.0114 - semantic_0_loss: 0.0031 - semantic_1_loss: 0.0071 - semantic_2_loss: 0.0013 - lr: 5.2560e-05\n",
      "Epoch 66/200\n",
      "42/42 [==============================] - ETA: 0s - loss: 0.0118 - semantic_0_loss: 0.0031 - semantic_1_loss: 0.0074 - semantic_2_loss: 0.0013WARNING:tensorflow:Can save best model only with val_loss available, skipping.\n"
     ]
    },
    {
     "name": "stderr",
     "output_type": "stream",
     "text": [
      "WARNING:tensorflow:Can save best model only with val_loss available, skipping.\n"
     ]
    },
    {
     "name": "stdout",
     "output_type": "stream",
     "text": [
      "42/42 [==============================] - 24s 561ms/step - loss: 0.0118 - semantic_0_loss: 0.0031 - semantic_1_loss: 0.0074 - semantic_2_loss: 0.0013 - lr: 5.2034e-05\n",
      "Epoch 67/200\n",
      "42/42 [==============================] - ETA: 0s - loss: 0.0116 - semantic_0_loss: 0.0031 - semantic_1_loss: 0.0073 - semantic_2_loss: 0.0013WARNING:tensorflow:Can save best model only with val_loss available, skipping.\n"
     ]
    },
    {
     "name": "stderr",
     "output_type": "stream",
     "text": [
      "WARNING:tensorflow:Can save best model only with val_loss available, skipping.\n"
     ]
    },
    {
     "name": "stdout",
     "output_type": "stream",
     "text": [
      "42/42 [==============================] - 24s 559ms/step - loss: 0.0116 - semantic_0_loss: 0.0031 - semantic_1_loss: 0.0073 - semantic_2_loss: 0.0013 - lr: 5.1514e-05\n",
      "Epoch 68/200\n",
      "42/42 [==============================] - ETA: 0s - loss: 0.0115 - semantic_0_loss: 0.0031 - semantic_1_loss: 0.0072 - semantic_2_loss: 0.0013WARNING:tensorflow:Can save best model only with val_loss available, skipping.\n"
     ]
    },
    {
     "name": "stderr",
     "output_type": "stream",
     "text": [
      "WARNING:tensorflow:Can save best model only with val_loss available, skipping.\n"
     ]
    },
    {
     "name": "stdout",
     "output_type": "stream",
     "text": [
      "42/42 [==============================] - 23s 552ms/step - loss: 0.0115 - semantic_0_loss: 0.0031 - semantic_1_loss: 0.0072 - semantic_2_loss: 0.0013 - lr: 5.0999e-05\n",
      "Epoch 69/200\n",
      "42/42 [==============================] - ETA: 0s - loss: 0.0116 - semantic_0_loss: 0.0031 - semantic_1_loss: 0.0072 - semantic_2_loss: 0.0013WARNING:tensorflow:Can save best model only with val_loss available, skipping.\n"
     ]
    },
    {
     "name": "stderr",
     "output_type": "stream",
     "text": [
      "WARNING:tensorflow:Can save best model only with val_loss available, skipping.\n"
     ]
    },
    {
     "name": "stdout",
     "output_type": "stream",
     "text": [
      "42/42 [==============================] - 24s 569ms/step - loss: 0.0116 - semantic_0_loss: 0.0031 - semantic_1_loss: 0.0072 - semantic_2_loss: 0.0013 - lr: 5.0489e-05\n",
      "Epoch 70/200\n",
      "42/42 [==============================] - ETA: 0s - loss: 0.0114 - semantic_0_loss: 0.0030 - semantic_1_loss: 0.0071 - semantic_2_loss: 0.0013WARNING:tensorflow:Can save best model only with val_loss available, skipping.\n"
     ]
    },
    {
     "name": "stderr",
     "output_type": "stream",
     "text": [
      "WARNING:tensorflow:Can save best model only with val_loss available, skipping.\n"
     ]
    },
    {
     "name": "stdout",
     "output_type": "stream",
     "text": [
      "42/42 [==============================] - 24s 558ms/step - loss: 0.0114 - semantic_0_loss: 0.0030 - semantic_1_loss: 0.0071 - semantic_2_loss: 0.0013 - lr: 4.9984e-05\n",
      "Epoch 71/200\n",
      "42/42 [==============================] - ETA: 0s - loss: 0.0114 - semantic_0_loss: 0.0030 - semantic_1_loss: 0.0071 - semantic_2_loss: 0.0013WARNING:tensorflow:Can save best model only with val_loss available, skipping.\n"
     ]
    },
    {
     "name": "stderr",
     "output_type": "stream",
     "text": [
      "WARNING:tensorflow:Can save best model only with val_loss available, skipping.\n"
     ]
    },
    {
     "name": "stdout",
     "output_type": "stream",
     "text": [
      "42/42 [==============================] - 23s 553ms/step - loss: 0.0114 - semantic_0_loss: 0.0030 - semantic_1_loss: 0.0071 - semantic_2_loss: 0.0013 - lr: 4.9484e-05\n",
      "Epoch 72/200\n",
      "42/42 [==============================] - ETA: 0s - loss: 0.0115 - semantic_0_loss: 0.0031 - semantic_1_loss: 0.0072 - semantic_2_loss: 0.0013WARNING:tensorflow:Can save best model only with val_loss available, skipping.\n"
     ]
    },
    {
     "name": "stderr",
     "output_type": "stream",
     "text": [
      "WARNING:tensorflow:Can save best model only with val_loss available, skipping.\n"
     ]
    },
    {
     "name": "stdout",
     "output_type": "stream",
     "text": [
      "42/42 [==============================] - 24s 558ms/step - loss: 0.0115 - semantic_0_loss: 0.0031 - semantic_1_loss: 0.0072 - semantic_2_loss: 0.0013 - lr: 4.8989e-05\n",
      "Epoch 73/200\n",
      "42/42 [==============================] - ETA: 0s - loss: 0.0113 - semantic_0_loss: 0.0030 - semantic_1_loss: 0.0071 - semantic_2_loss: 0.0013WARNING:tensorflow:Can save best model only with val_loss available, skipping.\n"
     ]
    },
    {
     "name": "stderr",
     "output_type": "stream",
     "text": [
      "WARNING:tensorflow:Can save best model only with val_loss available, skipping.\n"
     ]
    },
    {
     "name": "stdout",
     "output_type": "stream",
     "text": [
      "42/42 [==============================] - 24s 554ms/step - loss: 0.0113 - semantic_0_loss: 0.0030 - semantic_1_loss: 0.0071 - semantic_2_loss: 0.0013 - lr: 4.8499e-05\n",
      "Epoch 74/200\n",
      "42/42 [==============================] - ETA: 0s - loss: 0.0115 - semantic_0_loss: 0.0031 - semantic_1_loss: 0.0072 - semantic_2_loss: 0.0013WARNING:tensorflow:Can save best model only with val_loss available, skipping.\n"
     ]
    },
    {
     "name": "stderr",
     "output_type": "stream",
     "text": [
      "WARNING:tensorflow:Can save best model only with val_loss available, skipping.\n"
     ]
    },
    {
     "name": "stdout",
     "output_type": "stream",
     "text": [
      "42/42 [==============================] - 23s 552ms/step - loss: 0.0115 - semantic_0_loss: 0.0031 - semantic_1_loss: 0.0072 - semantic_2_loss: 0.0013 - lr: 4.8014e-05\n",
      "Epoch 75/200\n",
      "42/42 [==============================] - ETA: 0s - loss: 0.0114 - semantic_0_loss: 0.0030 - semantic_1_loss: 0.0071 - semantic_2_loss: 0.0013WARNING:tensorflow:Can save best model only with val_loss available, skipping.\n"
     ]
    },
    {
     "name": "stderr",
     "output_type": "stream",
     "text": [
      "WARNING:tensorflow:Can save best model only with val_loss available, skipping.\n"
     ]
    },
    {
     "name": "stdout",
     "output_type": "stream",
     "text": [
      "42/42 [==============================] - 24s 559ms/step - loss: 0.0114 - semantic_0_loss: 0.0030 - semantic_1_loss: 0.0071 - semantic_2_loss: 0.0013 - lr: 4.7534e-05\n",
      "Epoch 76/200\n",
      "42/42 [==============================] - ETA: 0s - loss: 0.0115 - semantic_0_loss: 0.0031 - semantic_1_loss: 0.0072 - semantic_2_loss: 0.0013WARNING:tensorflow:Can save best model only with val_loss available, skipping.\n"
     ]
    },
    {
     "name": "stderr",
     "output_type": "stream",
     "text": [
      "WARNING:tensorflow:Can save best model only with val_loss available, skipping.\n"
     ]
    },
    {
     "name": "stdout",
     "output_type": "stream",
     "text": [
      "42/42 [==============================] - 24s 556ms/step - loss: 0.0115 - semantic_0_loss: 0.0031 - semantic_1_loss: 0.0072 - semantic_2_loss: 0.0013 - lr: 4.7059e-05\n",
      "Epoch 77/200\n",
      "42/42 [==============================] - ETA: 0s - loss: 0.0113 - semantic_0_loss: 0.0030 - semantic_1_loss: 0.0071 - semantic_2_loss: 0.0012WARNING:tensorflow:Can save best model only with val_loss available, skipping.\n"
     ]
    },
    {
     "name": "stderr",
     "output_type": "stream",
     "text": [
      "WARNING:tensorflow:Can save best model only with val_loss available, skipping.\n"
     ]
    },
    {
     "name": "stdout",
     "output_type": "stream",
     "text": [
      "42/42 [==============================] - 24s 559ms/step - loss: 0.0113 - semantic_0_loss: 0.0030 - semantic_1_loss: 0.0071 - semantic_2_loss: 0.0012 - lr: 4.6588e-05\n",
      "Epoch 78/200\n",
      "42/42 [==============================] - ETA: 0s - loss: 0.0114 - semantic_0_loss: 0.0031 - semantic_1_loss: 0.0071 - semantic_2_loss: 0.0013WARNING:tensorflow:Can save best model only with val_loss available, skipping.\n"
     ]
    },
    {
     "name": "stderr",
     "output_type": "stream",
     "text": [
      "WARNING:tensorflow:Can save best model only with val_loss available, skipping.\n"
     ]
    },
    {
     "name": "stdout",
     "output_type": "stream",
     "text": [
      "42/42 [==============================] - 23s 554ms/step - loss: 0.0114 - semantic_0_loss: 0.0031 - semantic_1_loss: 0.0071 - semantic_2_loss: 0.0013 - lr: 4.6122e-05\n",
      "Epoch 79/200\n",
      "42/42 [==============================] - ETA: 0s - loss: 0.0112 - semantic_0_loss: 0.0030 - semantic_1_loss: 0.0069 - semantic_2_loss: 0.0012WARNING:tensorflow:Can save best model only with val_loss available, skipping.\n"
     ]
    },
    {
     "name": "stderr",
     "output_type": "stream",
     "text": [
      "WARNING:tensorflow:Can save best model only with val_loss available, skipping.\n"
     ]
    },
    {
     "name": "stdout",
     "output_type": "stream",
     "text": [
      "42/42 [==============================] - 24s 565ms/step - loss: 0.0112 - semantic_0_loss: 0.0030 - semantic_1_loss: 0.0069 - semantic_2_loss: 0.0012 - lr: 4.5661e-05\n",
      "Epoch 80/200\n",
      "42/42 [==============================] - ETA: 0s - loss: 0.0116 - semantic_0_loss: 0.0031 - semantic_1_loss: 0.0073 - semantic_2_loss: 0.0013WARNING:tensorflow:Can save best model only with val_loss available, skipping.\n"
     ]
    },
    {
     "name": "stderr",
     "output_type": "stream",
     "text": [
      "WARNING:tensorflow:Can save best model only with val_loss available, skipping.\n"
     ]
    },
    {
     "name": "stdout",
     "output_type": "stream",
     "text": [
      "42/42 [==============================] - 24s 570ms/step - loss: 0.0116 - semantic_0_loss: 0.0031 - semantic_1_loss: 0.0073 - semantic_2_loss: 0.0013 - lr: 4.5204e-05\n",
      "Epoch 81/200\n",
      "42/42 [==============================] - ETA: 0s - loss: 0.0111 - semantic_0_loss: 0.0030 - semantic_1_loss: 0.0069 - semantic_2_loss: 0.0012WARNING:tensorflow:Can save best model only with val_loss available, skipping.\n"
     ]
    },
    {
     "name": "stderr",
     "output_type": "stream",
     "text": [
      "WARNING:tensorflow:Can save best model only with val_loss available, skipping.\n"
     ]
    },
    {
     "name": "stdout",
     "output_type": "stream",
     "text": [
      "42/42 [==============================] - 24s 570ms/step - loss: 0.0111 - semantic_0_loss: 0.0030 - semantic_1_loss: 0.0069 - semantic_2_loss: 0.0012 - lr: 4.4752e-05\n",
      "Epoch 82/200\n",
      "42/42 [==============================] - ETA: 0s - loss: 0.0114 - semantic_0_loss: 0.0031 - semantic_1_loss: 0.0071 - semantic_2_loss: 0.0012WARNING:tensorflow:Can save best model only with val_loss available, skipping.\n"
     ]
    },
    {
     "name": "stderr",
     "output_type": "stream",
     "text": [
      "WARNING:tensorflow:Can save best model only with val_loss available, skipping.\n"
     ]
    },
    {
     "name": "stdout",
     "output_type": "stream",
     "text": [
      "42/42 [==============================] - 24s 554ms/step - loss: 0.0114 - semantic_0_loss: 0.0031 - semantic_1_loss: 0.0071 - semantic_2_loss: 0.0012 - lr: 4.4305e-05\n",
      "Epoch 83/200\n",
      "42/42 [==============================] - ETA: 0s - loss: 0.0114 - semantic_0_loss: 0.0031 - semantic_1_loss: 0.0071 - semantic_2_loss: 0.0012WARNING:tensorflow:Can save best model only with val_loss available, skipping.\n"
     ]
    },
    {
     "name": "stderr",
     "output_type": "stream",
     "text": [
      "WARNING:tensorflow:Can save best model only with val_loss available, skipping.\n"
     ]
    },
    {
     "name": "stdout",
     "output_type": "stream",
     "text": [
      "42/42 [==============================] - 24s 567ms/step - loss: 0.0114 - semantic_0_loss: 0.0031 - semantic_1_loss: 0.0071 - semantic_2_loss: 0.0012 - lr: 4.3862e-05\n",
      "Epoch 84/200\n",
      "42/42 [==============================] - ETA: 0s - loss: 0.0112 - semantic_0_loss: 0.0030 - semantic_1_loss: 0.0070 - semantic_2_loss: 0.0012WARNING:tensorflow:Can save best model only with val_loss available, skipping.\n"
     ]
    },
    {
     "name": "stderr",
     "output_type": "stream",
     "text": [
      "WARNING:tensorflow:Can save best model only with val_loss available, skipping.\n"
     ]
    },
    {
     "name": "stdout",
     "output_type": "stream",
     "text": [
      "42/42 [==============================] - 24s 565ms/step - loss: 0.0112 - semantic_0_loss: 0.0030 - semantic_1_loss: 0.0070 - semantic_2_loss: 0.0012 - lr: 4.3423e-05\n",
      "Epoch 85/200\n",
      "42/42 [==============================] - ETA: 0s - loss: 0.0113 - semantic_0_loss: 0.0030 - semantic_1_loss: 0.0070 - semantic_2_loss: 0.0012WARNING:tensorflow:Can save best model only with val_loss available, skipping.\n"
     ]
    },
    {
     "name": "stderr",
     "output_type": "stream",
     "text": [
      "WARNING:tensorflow:Can save best model only with val_loss available, skipping.\n"
     ]
    },
    {
     "name": "stdout",
     "output_type": "stream",
     "text": [
      "42/42 [==============================] - 23s 554ms/step - loss: 0.0113 - semantic_0_loss: 0.0030 - semantic_1_loss: 0.0070 - semantic_2_loss: 0.0012 - lr: 4.2989e-05\n",
      "Epoch 86/200\n",
      "42/42 [==============================] - ETA: 0s - loss: 0.0112 - semantic_0_loss: 0.0030 - semantic_1_loss: 0.0069 - semantic_2_loss: 0.0012WARNING:tensorflow:Can save best model only with val_loss available, skipping.\n"
     ]
    },
    {
     "name": "stderr",
     "output_type": "stream",
     "text": [
      "WARNING:tensorflow:Can save best model only with val_loss available, skipping.\n"
     ]
    },
    {
     "name": "stdout",
     "output_type": "stream",
     "text": [
      "42/42 [==============================] - 24s 556ms/step - loss: 0.0112 - semantic_0_loss: 0.0030 - semantic_1_loss: 0.0069 - semantic_2_loss: 0.0012 - lr: 4.2559e-05\n",
      "Epoch 87/200\n",
      "42/42 [==============================] - ETA: 0s - loss: 0.0111 - semantic_0_loss: 0.0030 - semantic_1_loss: 0.0069 - semantic_2_loss: 0.0012WARNING:tensorflow:Can save best model only with val_loss available, skipping.\n"
     ]
    },
    {
     "name": "stderr",
     "output_type": "stream",
     "text": [
      "WARNING:tensorflow:Can save best model only with val_loss available, skipping.\n"
     ]
    },
    {
     "name": "stdout",
     "output_type": "stream",
     "text": [
      "42/42 [==============================] - 24s 560ms/step - loss: 0.0111 - semantic_0_loss: 0.0030 - semantic_1_loss: 0.0069 - semantic_2_loss: 0.0012 - lr: 4.2133e-05\n",
      "Epoch 88/200\n",
      "42/42 [==============================] - ETA: 0s - loss: 0.0112 - semantic_0_loss: 0.0030 - semantic_1_loss: 0.0070 - semantic_2_loss: 0.0012WARNING:tensorflow:Can save best model only with val_loss available, skipping.\n"
     ]
    },
    {
     "name": "stderr",
     "output_type": "stream",
     "text": [
      "WARNING:tensorflow:Can save best model only with val_loss available, skipping.\n"
     ]
    },
    {
     "name": "stdout",
     "output_type": "stream",
     "text": [
      "42/42 [==============================] - 24s 568ms/step - loss: 0.0112 - semantic_0_loss: 0.0030 - semantic_1_loss: 0.0070 - semantic_2_loss: 0.0012 - lr: 4.1712e-05\n",
      "Epoch 89/200\n",
      "42/42 [==============================] - ETA: 0s - loss: 0.0110 - semantic_0_loss: 0.0029 - semantic_1_loss: 0.0068 - semantic_2_loss: 0.0012WARNING:tensorflow:Can save best model only with val_loss available, skipping.\n"
     ]
    },
    {
     "name": "stderr",
     "output_type": "stream",
     "text": [
      "WARNING:tensorflow:Can save best model only with val_loss available, skipping.\n"
     ]
    },
    {
     "name": "stdout",
     "output_type": "stream",
     "text": [
      "42/42 [==============================] - 24s 566ms/step - loss: 0.0110 - semantic_0_loss: 0.0029 - semantic_1_loss: 0.0068 - semantic_2_loss: 0.0012 - lr: 4.1295e-05\n",
      "Epoch 90/200\n",
      "42/42 [==============================] - ETA: 0s - loss: 0.0112 - semantic_0_loss: 0.0030 - semantic_1_loss: 0.0070 - semantic_2_loss: 0.0012WARNING:tensorflow:Can save best model only with val_loss available, skipping.\n"
     ]
    },
    {
     "name": "stderr",
     "output_type": "stream",
     "text": [
      "WARNING:tensorflow:Can save best model only with val_loss available, skipping.\n"
     ]
    },
    {
     "name": "stdout",
     "output_type": "stream",
     "text": [
      "42/42 [==============================] - 24s 558ms/step - loss: 0.0112 - semantic_0_loss: 0.0030 - semantic_1_loss: 0.0070 - semantic_2_loss: 0.0012 - lr: 4.0882e-05\n",
      "Epoch 91/200\n",
      "42/42 [==============================] - ETA: 0s - loss: 0.0113 - semantic_0_loss: 0.0030 - semantic_1_loss: 0.0070 - semantic_2_loss: 0.0012WARNING:tensorflow:Can save best model only with val_loss available, skipping.\n"
     ]
    },
    {
     "name": "stderr",
     "output_type": "stream",
     "text": [
      "WARNING:tensorflow:Can save best model only with val_loss available, skipping.\n"
     ]
    },
    {
     "name": "stdout",
     "output_type": "stream",
     "text": [
      "42/42 [==============================] - 24s 564ms/step - loss: 0.0113 - semantic_0_loss: 0.0030 - semantic_1_loss: 0.0070 - semantic_2_loss: 0.0012 - lr: 4.0473e-05\n",
      "Epoch 92/200\n",
      "42/42 [==============================] - ETA: 0s - loss: 0.0111 - semantic_0_loss: 0.0030 - semantic_1_loss: 0.0069 - semantic_2_loss: 0.0012WARNING:tensorflow:Can save best model only with val_loss available, skipping.\n"
     ]
    },
    {
     "name": "stderr",
     "output_type": "stream",
     "text": [
      "WARNING:tensorflow:Can save best model only with val_loss available, skipping.\n"
     ]
    },
    {
     "name": "stdout",
     "output_type": "stream",
     "text": [
      "42/42 [==============================] - 24s 572ms/step - loss: 0.0111 - semantic_0_loss: 0.0030 - semantic_1_loss: 0.0069 - semantic_2_loss: 0.0012 - lr: 4.0068e-05\n",
      "Epoch 93/200\n",
      "42/42 [==============================] - ETA: 0s - loss: 0.0112 - semantic_0_loss: 0.0030 - semantic_1_loss: 0.0069 - semantic_2_loss: 0.0012WARNING:tensorflow:Can save best model only with val_loss available, skipping.\n"
     ]
    },
    {
     "name": "stderr",
     "output_type": "stream",
     "text": [
      "WARNING:tensorflow:Can save best model only with val_loss available, skipping.\n"
     ]
    },
    {
     "name": "stdout",
     "output_type": "stream",
     "text": [
      "42/42 [==============================] - 24s 558ms/step - loss: 0.0112 - semantic_0_loss: 0.0030 - semantic_1_loss: 0.0069 - semantic_2_loss: 0.0012 - lr: 3.9668e-05\n",
      "Epoch 94/200\n",
      "42/42 [==============================] - ETA: 0s - loss: 0.0110 - semantic_0_loss: 0.0030 - semantic_1_loss: 0.0068 - semantic_2_loss: 0.0012WARNING:tensorflow:Can save best model only with val_loss available, skipping.\n"
     ]
    },
    {
     "name": "stderr",
     "output_type": "stream",
     "text": [
      "WARNING:tensorflow:Can save best model only with val_loss available, skipping.\n"
     ]
    },
    {
     "name": "stdout",
     "output_type": "stream",
     "text": [
      "42/42 [==============================] - 24s 554ms/step - loss: 0.0110 - semantic_0_loss: 0.0030 - semantic_1_loss: 0.0068 - semantic_2_loss: 0.0012 - lr: 3.9271e-05\n",
      "Epoch 95/200\n",
      "42/42 [==============================] - ETA: 0s - loss: 0.0111 - semantic_0_loss: 0.0030 - semantic_1_loss: 0.0069 - semantic_2_loss: 0.0012WARNING:tensorflow:Can save best model only with val_loss available, skipping.\n"
     ]
    },
    {
     "name": "stderr",
     "output_type": "stream",
     "text": [
      "WARNING:tensorflow:Can save best model only with val_loss available, skipping.\n"
     ]
    },
    {
     "name": "stdout",
     "output_type": "stream",
     "text": [
      "42/42 [==============================] - 24s 559ms/step - loss: 0.0111 - semantic_0_loss: 0.0030 - semantic_1_loss: 0.0069 - semantic_2_loss: 0.0012 - lr: 3.8878e-05\n",
      "Epoch 96/200\n",
      "42/42 [==============================] - ETA: 0s - loss: 0.0111 - semantic_0_loss: 0.0030 - semantic_1_loss: 0.0069 - semantic_2_loss: 0.0012WARNING:tensorflow:Can save best model only with val_loss available, skipping.\n"
     ]
    },
    {
     "name": "stderr",
     "output_type": "stream",
     "text": [
      "WARNING:tensorflow:Can save best model only with val_loss available, skipping.\n"
     ]
    },
    {
     "name": "stdout",
     "output_type": "stream",
     "text": [
      "42/42 [==============================] - 24s 556ms/step - loss: 0.0111 - semantic_0_loss: 0.0030 - semantic_1_loss: 0.0069 - semantic_2_loss: 0.0012 - lr: 3.8490e-05\n",
      "Epoch 97/200\n",
      "42/42 [==============================] - ETA: 0s - loss: 0.0110 - semantic_0_loss: 0.0030 - semantic_1_loss: 0.0068 - semantic_2_loss: 0.0012WARNING:tensorflow:Can save best model only with val_loss available, skipping.\n"
     ]
    },
    {
     "name": "stderr",
     "output_type": "stream",
     "text": [
      "WARNING:tensorflow:Can save best model only with val_loss available, skipping.\n"
     ]
    },
    {
     "name": "stdout",
     "output_type": "stream",
     "text": [
      "42/42 [==============================] - 24s 555ms/step - loss: 0.0110 - semantic_0_loss: 0.0030 - semantic_1_loss: 0.0068 - semantic_2_loss: 0.0012 - lr: 3.8105e-05\n",
      "Epoch 98/200\n",
      "42/42 [==============================] - ETA: 0s - loss: 0.0108 - semantic_0_loss: 0.0029 - semantic_1_loss: 0.0067 - semantic_2_loss: 0.0012WARNING:tensorflow:Can save best model only with val_loss available, skipping.\n"
     ]
    },
    {
     "name": "stderr",
     "output_type": "stream",
     "text": [
      "WARNING:tensorflow:Can save best model only with val_loss available, skipping.\n"
     ]
    },
    {
     "name": "stdout",
     "output_type": "stream",
     "text": [
      "42/42 [==============================] - 24s 565ms/step - loss: 0.0108 - semantic_0_loss: 0.0029 - semantic_1_loss: 0.0067 - semantic_2_loss: 0.0012 - lr: 3.7724e-05\n",
      "Epoch 99/200\n",
      "42/42 [==============================] - ETA: 0s - loss: 0.0110 - semantic_0_loss: 0.0030 - semantic_1_loss: 0.0068 - semantic_2_loss: 0.0012WARNING:tensorflow:Can save best model only with val_loss available, skipping.\n"
     ]
    },
    {
     "name": "stderr",
     "output_type": "stream",
     "text": [
      "WARNING:tensorflow:Can save best model only with val_loss available, skipping.\n"
     ]
    },
    {
     "name": "stdout",
     "output_type": "stream",
     "text": [
      "42/42 [==============================] - 24s 566ms/step - loss: 0.0110 - semantic_0_loss: 0.0030 - semantic_1_loss: 0.0068 - semantic_2_loss: 0.0012 - lr: 3.7346e-05\n",
      "Epoch 100/200\n",
      "42/42 [==============================] - ETA: 0s - loss: 0.0109 - semantic_0_loss: 0.0030 - semantic_1_loss: 0.0068 - semantic_2_loss: 0.0012WARNING:tensorflow:Can save best model only with val_loss available, skipping.\n"
     ]
    },
    {
     "name": "stderr",
     "output_type": "stream",
     "text": [
      "WARNING:tensorflow:Can save best model only with val_loss available, skipping.\n"
     ]
    },
    {
     "name": "stdout",
     "output_type": "stream",
     "text": [
      "42/42 [==============================] - 24s 555ms/step - loss: 0.0109 - semantic_0_loss: 0.0030 - semantic_1_loss: 0.0068 - semantic_2_loss: 0.0012 - lr: 3.6973e-05\n",
      "Epoch 101/200\n",
      "42/42 [==============================] - ETA: 0s - loss: 0.0109 - semantic_0_loss: 0.0029 - semantic_1_loss: 0.0067 - semantic_2_loss: 0.0012WARNING:tensorflow:Can save best model only with val_loss available, skipping.\n"
     ]
    },
    {
     "name": "stderr",
     "output_type": "stream",
     "text": [
      "WARNING:tensorflow:Can save best model only with val_loss available, skipping.\n"
     ]
    },
    {
     "name": "stdout",
     "output_type": "stream",
     "text": [
      "42/42 [==============================] - 23s 553ms/step - loss: 0.0109 - semantic_0_loss: 0.0029 - semantic_1_loss: 0.0067 - semantic_2_loss: 0.0012 - lr: 3.6603e-05\n",
      "Epoch 102/200\n",
      "42/42 [==============================] - ETA: 0s - loss: 0.0109 - semantic_0_loss: 0.0029 - semantic_1_loss: 0.0068 - semantic_2_loss: 0.0012WARNING:tensorflow:Can save best model only with val_loss available, skipping.\n"
     ]
    },
    {
     "name": "stderr",
     "output_type": "stream",
     "text": [
      "WARNING:tensorflow:Can save best model only with val_loss available, skipping.\n"
     ]
    },
    {
     "name": "stdout",
     "output_type": "stream",
     "text": [
      "42/42 [==============================] - 24s 567ms/step - loss: 0.0109 - semantic_0_loss: 0.0029 - semantic_1_loss: 0.0068 - semantic_2_loss: 0.0012 - lr: 3.6237e-05\n",
      "Epoch 103/200\n",
      "42/42 [==============================] - ETA: 0s - loss: 0.0109 - semantic_0_loss: 0.0030 - semantic_1_loss: 0.0067 - semantic_2_loss: 0.0012WARNING:tensorflow:Can save best model only with val_loss available, skipping.\n"
     ]
    },
    {
     "name": "stderr",
     "output_type": "stream",
     "text": [
      "WARNING:tensorflow:Can save best model only with val_loss available, skipping.\n"
     ]
    },
    {
     "name": "stdout",
     "output_type": "stream",
     "text": [
      "42/42 [==============================] - 24s 559ms/step - loss: 0.0109 - semantic_0_loss: 0.0030 - semantic_1_loss: 0.0067 - semantic_2_loss: 0.0012 - lr: 3.5875e-05\n",
      "Epoch 104/200\n",
      "42/42 [==============================] - ETA: 0s - loss: 0.0111 - semantic_0_loss: 0.0030 - semantic_1_loss: 0.0068 - semantic_2_loss: 0.0012WARNING:tensorflow:Can save best model only with val_loss available, skipping.\n"
     ]
    },
    {
     "name": "stderr",
     "output_type": "stream",
     "text": [
      "WARNING:tensorflow:Can save best model only with val_loss available, skipping.\n"
     ]
    },
    {
     "name": "stdout",
     "output_type": "stream",
     "text": [
      "42/42 [==============================] - 24s 555ms/step - loss: 0.0111 - semantic_0_loss: 0.0030 - semantic_1_loss: 0.0068 - semantic_2_loss: 0.0012 - lr: 3.5516e-05\n",
      "Epoch 105/200\n",
      "42/42 [==============================] - ETA: 0s - loss: 0.0109 - semantic_0_loss: 0.0029 - semantic_1_loss: 0.0067 - semantic_2_loss: 0.0012WARNING:tensorflow:Can save best model only with val_loss available, skipping.\n"
     ]
    },
    {
     "name": "stderr",
     "output_type": "stream",
     "text": [
      "WARNING:tensorflow:Can save best model only with val_loss available, skipping.\n"
     ]
    },
    {
     "name": "stdout",
     "output_type": "stream",
     "text": [
      "42/42 [==============================] - 23s 549ms/step - loss: 0.0109 - semantic_0_loss: 0.0029 - semantic_1_loss: 0.0067 - semantic_2_loss: 0.0012 - lr: 3.5161e-05\n",
      "Epoch 106/200\n",
      "42/42 [==============================] - ETA: 0s - loss: 0.0109 - semantic_0_loss: 0.0030 - semantic_1_loss: 0.0067 - semantic_2_loss: 0.0012WARNING:tensorflow:Can save best model only with val_loss available, skipping.\n"
     ]
    },
    {
     "name": "stderr",
     "output_type": "stream",
     "text": [
      "WARNING:tensorflow:Can save best model only with val_loss available, skipping.\n"
     ]
    },
    {
     "name": "stdout",
     "output_type": "stream",
     "text": [
      "42/42 [==============================] - 24s 561ms/step - loss: 0.0109 - semantic_0_loss: 0.0030 - semantic_1_loss: 0.0067 - semantic_2_loss: 0.0012 - lr: 3.4809e-05\n",
      "Epoch 107/200\n",
      "42/42 [==============================] - ETA: 0s - loss: 0.0107 - semantic_0_loss: 0.0029 - semantic_1_loss: 0.0066 - semantic_2_loss: 0.0012WARNING:tensorflow:Can save best model only with val_loss available, skipping.\n"
     ]
    },
    {
     "name": "stderr",
     "output_type": "stream",
     "text": [
      "WARNING:tensorflow:Can save best model only with val_loss available, skipping.\n"
     ]
    },
    {
     "name": "stdout",
     "output_type": "stream",
     "text": [
      "42/42 [==============================] - 24s 569ms/step - loss: 0.0107 - semantic_0_loss: 0.0029 - semantic_1_loss: 0.0066 - semantic_2_loss: 0.0012 - lr: 3.4461e-05\n",
      "Epoch 108/200\n",
      "42/42 [==============================] - ETA: 0s - loss: 0.0110 - semantic_0_loss: 0.0030 - semantic_1_loss: 0.0068 - semantic_2_loss: 0.0012WARNING:tensorflow:Can save best model only with val_loss available, skipping.\n"
     ]
    },
    {
     "name": "stderr",
     "output_type": "stream",
     "text": [
      "WARNING:tensorflow:Can save best model only with val_loss available, skipping.\n"
     ]
    },
    {
     "name": "stdout",
     "output_type": "stream",
     "text": [
      "42/42 [==============================] - 23s 553ms/step - loss: 0.0110 - semantic_0_loss: 0.0030 - semantic_1_loss: 0.0068 - semantic_2_loss: 0.0012 - lr: 3.4117e-05\n",
      "Epoch 109/200\n",
      "42/42 [==============================] - ETA: 0s - loss: 0.0107 - semantic_0_loss: 0.0029 - semantic_1_loss: 0.0066 - semantic_2_loss: 0.0012WARNING:tensorflow:Can save best model only with val_loss available, skipping.\n"
     ]
    },
    {
     "name": "stderr",
     "output_type": "stream",
     "text": [
      "WARNING:tensorflow:Can save best model only with val_loss available, skipping.\n"
     ]
    },
    {
     "name": "stdout",
     "output_type": "stream",
     "text": [
      "42/42 [==============================] - 24s 560ms/step - loss: 0.0107 - semantic_0_loss: 0.0029 - semantic_1_loss: 0.0066 - semantic_2_loss: 0.0012 - lr: 3.3775e-05\n",
      "Epoch 110/200\n",
      "42/42 [==============================] - ETA: 0s - loss: 0.0107 - semantic_0_loss: 0.0029 - semantic_1_loss: 0.0066 - semantic_2_loss: 0.0012WARNING:tensorflow:Can save best model only with val_loss available, skipping.\n"
     ]
    },
    {
     "name": "stderr",
     "output_type": "stream",
     "text": [
      "WARNING:tensorflow:Can save best model only with val_loss available, skipping.\n"
     ]
    },
    {
     "name": "stdout",
     "output_type": "stream",
     "text": [
      "42/42 [==============================] - 24s 555ms/step - loss: 0.0107 - semantic_0_loss: 0.0029 - semantic_1_loss: 0.0066 - semantic_2_loss: 0.0012 - lr: 3.3438e-05\n",
      "Epoch 111/200\n",
      "42/42 [==============================] - ETA: 0s - loss: 0.0109 - semantic_0_loss: 0.0029 - semantic_1_loss: 0.0067 - semantic_2_loss: 0.0012WARNING:tensorflow:Can save best model only with val_loss available, skipping.\n"
     ]
    },
    {
     "name": "stderr",
     "output_type": "stream",
     "text": [
      "WARNING:tensorflow:Can save best model only with val_loss available, skipping.\n"
     ]
    },
    {
     "name": "stdout",
     "output_type": "stream",
     "text": [
      "42/42 [==============================] - 23s 562ms/step - loss: 0.0109 - semantic_0_loss: 0.0029 - semantic_1_loss: 0.0067 - semantic_2_loss: 0.0012 - lr: 3.3103e-05\n",
      "Epoch 112/200\n",
      "42/42 [==============================] - ETA: 0s - loss: 0.0109 - semantic_0_loss: 0.0030 - semantic_1_loss: 0.0067 - semantic_2_loss: 0.0012WARNING:tensorflow:Can save best model only with val_loss available, skipping.\n"
     ]
    },
    {
     "name": "stderr",
     "output_type": "stream",
     "text": [
      "WARNING:tensorflow:Can save best model only with val_loss available, skipping.\n"
     ]
    },
    {
     "name": "stdout",
     "output_type": "stream",
     "text": [
      "42/42 [==============================] - 24s 563ms/step - loss: 0.0109 - semantic_0_loss: 0.0030 - semantic_1_loss: 0.0067 - semantic_2_loss: 0.0012 - lr: 3.2772e-05\n",
      "Epoch 113/200\n",
      "42/42 [==============================] - ETA: 0s - loss: 0.0108 - semantic_0_loss: 0.0029 - semantic_1_loss: 0.0066 - semantic_2_loss: 0.0012WARNING:tensorflow:Can save best model only with val_loss available, skipping.\n"
     ]
    },
    {
     "name": "stderr",
     "output_type": "stream",
     "text": [
      "WARNING:tensorflow:Can save best model only with val_loss available, skipping.\n"
     ]
    },
    {
     "name": "stdout",
     "output_type": "stream",
     "text": [
      "42/42 [==============================] - 24s 558ms/step - loss: 0.0108 - semantic_0_loss: 0.0029 - semantic_1_loss: 0.0066 - semantic_2_loss: 0.0012 - lr: 3.2445e-05\n",
      "Epoch 114/200\n",
      "42/42 [==============================] - ETA: 0s - loss: 0.0108 - semantic_0_loss: 0.0029 - semantic_1_loss: 0.0067 - semantic_2_loss: 0.0012WARNING:tensorflow:Can save best model only with val_loss available, skipping.\n"
     ]
    },
    {
     "name": "stderr",
     "output_type": "stream",
     "text": [
      "WARNING:tensorflow:Can save best model only with val_loss available, skipping.\n"
     ]
    },
    {
     "name": "stdout",
     "output_type": "stream",
     "text": [
      "42/42 [==============================] - 23s 555ms/step - loss: 0.0108 - semantic_0_loss: 0.0029 - semantic_1_loss: 0.0067 - semantic_2_loss: 0.0012 - lr: 3.2120e-05\n",
      "Epoch 115/200\n",
      "42/42 [==============================] - ETA: 0s - loss: 0.0109 - semantic_0_loss: 0.0030 - semantic_1_loss: 0.0067 - semantic_2_loss: 0.0012WARNING:tensorflow:Can save best model only with val_loss available, skipping.\n"
     ]
    },
    {
     "name": "stderr",
     "output_type": "stream",
     "text": [
      "WARNING:tensorflow:Can save best model only with val_loss available, skipping.\n"
     ]
    },
    {
     "name": "stdout",
     "output_type": "stream",
     "text": [
      "42/42 [==============================] - 23s 549ms/step - loss: 0.0109 - semantic_0_loss: 0.0030 - semantic_1_loss: 0.0067 - semantic_2_loss: 0.0012 - lr: 3.1799e-05\n",
      "Epoch 116/200\n",
      "42/42 [==============================] - ETA: 0s - loss: 0.0109 - semantic_0_loss: 0.0029 - semantic_1_loss: 0.0067 - semantic_2_loss: 0.0012WARNING:tensorflow:Can save best model only with val_loss available, skipping.\n"
     ]
    },
    {
     "name": "stderr",
     "output_type": "stream",
     "text": [
      "WARNING:tensorflow:Can save best model only with val_loss available, skipping.\n"
     ]
    },
    {
     "name": "stdout",
     "output_type": "stream",
     "text": [
      "42/42 [==============================] - 23s 550ms/step - loss: 0.0109 - semantic_0_loss: 0.0029 - semantic_1_loss: 0.0067 - semantic_2_loss: 0.0012 - lr: 3.1481e-05\n",
      "Epoch 117/200\n",
      "42/42 [==============================] - ETA: 0s - loss: 0.0108 - semantic_0_loss: 0.0030 - semantic_1_loss: 0.0067 - semantic_2_loss: 0.0012WARNING:tensorflow:Can save best model only with val_loss available, skipping.\n"
     ]
    },
    {
     "name": "stderr",
     "output_type": "stream",
     "text": [
      "WARNING:tensorflow:Can save best model only with val_loss available, skipping.\n"
     ]
    },
    {
     "name": "stdout",
     "output_type": "stream",
     "text": [
      "42/42 [==============================] - 24s 576ms/step - loss: 0.0108 - semantic_0_loss: 0.0030 - semantic_1_loss: 0.0067 - semantic_2_loss: 0.0012 - lr: 3.1166e-05\n",
      "Epoch 118/200\n",
      "42/42 [==============================] - ETA: 0s - loss: 0.0106 - semantic_0_loss: 0.0029 - semantic_1_loss: 0.0065 - semantic_2_loss: 0.0012WARNING:tensorflow:Can save best model only with val_loss available, skipping.\n"
     ]
    },
    {
     "name": "stderr",
     "output_type": "stream",
     "text": [
      "WARNING:tensorflow:Can save best model only with val_loss available, skipping.\n"
     ]
    },
    {
     "name": "stdout",
     "output_type": "stream",
     "text": [
      "42/42 [==============================] - 23s 546ms/step - loss: 0.0106 - semantic_0_loss: 0.0029 - semantic_1_loss: 0.0065 - semantic_2_loss: 0.0012 - lr: 3.0854e-05\n",
      "Epoch 119/200\n",
      "42/42 [==============================] - ETA: 0s - loss: 0.0109 - semantic_0_loss: 0.0030 - semantic_1_loss: 0.0067 - semantic_2_loss: 0.0012WARNING:tensorflow:Can save best model only with val_loss available, skipping.\n"
     ]
    },
    {
     "name": "stderr",
     "output_type": "stream",
     "text": [
      "WARNING:tensorflow:Can save best model only with val_loss available, skipping.\n"
     ]
    },
    {
     "name": "stdout",
     "output_type": "stream",
     "text": [
      "42/42 [==============================] - 24s 559ms/step - loss: 0.0109 - semantic_0_loss: 0.0030 - semantic_1_loss: 0.0067 - semantic_2_loss: 0.0012 - lr: 3.0546e-05\n",
      "Epoch 120/200\n",
      "42/42 [==============================] - ETA: 0s - loss: 0.0107 - semantic_0_loss: 0.0029 - semantic_1_loss: 0.0066 - semantic_2_loss: 0.0012WARNING:tensorflow:Can save best model only with val_loss available, skipping.\n"
     ]
    },
    {
     "name": "stderr",
     "output_type": "stream",
     "text": [
      "WARNING:tensorflow:Can save best model only with val_loss available, skipping.\n"
     ]
    },
    {
     "name": "stdout",
     "output_type": "stream",
     "text": [
      "42/42 [==============================] - 23s 551ms/step - loss: 0.0107 - semantic_0_loss: 0.0029 - semantic_1_loss: 0.0066 - semantic_2_loss: 0.0012 - lr: 3.0240e-05\n",
      "Epoch 121/200\n",
      "42/42 [==============================] - ETA: 0s - loss: 0.0108 - semantic_0_loss: 0.0030 - semantic_1_loss: 0.0067 - semantic_2_loss: 0.0012WARNING:tensorflow:Can save best model only with val_loss available, skipping.\n"
     ]
    },
    {
     "name": "stderr",
     "output_type": "stream",
     "text": [
      "WARNING:tensorflow:Can save best model only with val_loss available, skipping.\n"
     ]
    },
    {
     "name": "stdout",
     "output_type": "stream",
     "text": [
      "42/42 [==============================] - 24s 563ms/step - loss: 0.0108 - semantic_0_loss: 0.0030 - semantic_1_loss: 0.0067 - semantic_2_loss: 0.0012 - lr: 2.9938e-05\n",
      "Epoch 122/200\n",
      "42/42 [==============================] - ETA: 0s - loss: 0.0108 - semantic_0_loss: 0.0030 - semantic_1_loss: 0.0066 - semantic_2_loss: 0.0012WARNING:tensorflow:Can save best model only with val_loss available, skipping.\n"
     ]
    },
    {
     "name": "stderr",
     "output_type": "stream",
     "text": [
      "WARNING:tensorflow:Can save best model only with val_loss available, skipping.\n"
     ]
    },
    {
     "name": "stdout",
     "output_type": "stream",
     "text": [
      "42/42 [==============================] - 24s 559ms/step - loss: 0.0108 - semantic_0_loss: 0.0030 - semantic_1_loss: 0.0066 - semantic_2_loss: 0.0012 - lr: 2.9639e-05\n",
      "Epoch 123/200\n",
      "42/42 [==============================] - ETA: 0s - loss: 0.0107 - semantic_0_loss: 0.0029 - semantic_1_loss: 0.0066 - semantic_2_loss: 0.0012WARNING:tensorflow:Can save best model only with val_loss available, skipping.\n"
     ]
    },
    {
     "name": "stderr",
     "output_type": "stream",
     "text": [
      "WARNING:tensorflow:Can save best model only with val_loss available, skipping.\n"
     ]
    },
    {
     "name": "stdout",
     "output_type": "stream",
     "text": [
      "42/42 [==============================] - 24s 557ms/step - loss: 0.0107 - semantic_0_loss: 0.0029 - semantic_1_loss: 0.0066 - semantic_2_loss: 0.0012 - lr: 2.9342e-05\n",
      "Epoch 124/200\n",
      "42/42 [==============================] - ETA: 0s - loss: 0.0108 - semantic_0_loss: 0.0029 - semantic_1_loss: 0.0067 - semantic_2_loss: 0.0012WARNING:tensorflow:Can save best model only with val_loss available, skipping.\n"
     ]
    },
    {
     "name": "stderr",
     "output_type": "stream",
     "text": [
      "WARNING:tensorflow:Can save best model only with val_loss available, skipping.\n"
     ]
    },
    {
     "name": "stdout",
     "output_type": "stream",
     "text": [
      "42/42 [==============================] - 23s 552ms/step - loss: 0.0108 - semantic_0_loss: 0.0029 - semantic_1_loss: 0.0067 - semantic_2_loss: 0.0012 - lr: 2.9049e-05\n",
      "Epoch 125/200\n",
      "42/42 [==============================] - ETA: 0s - loss: 0.0106 - semantic_0_loss: 0.0029 - semantic_1_loss: 0.0065 - semantic_2_loss: 0.0012WARNING:tensorflow:Can save best model only with val_loss available, skipping.\n"
     ]
    },
    {
     "name": "stderr",
     "output_type": "stream",
     "text": [
      "WARNING:tensorflow:Can save best model only with val_loss available, skipping.\n"
     ]
    },
    {
     "name": "stdout",
     "output_type": "stream",
     "text": [
      "42/42 [==============================] - 23s 548ms/step - loss: 0.0106 - semantic_0_loss: 0.0029 - semantic_1_loss: 0.0065 - semantic_2_loss: 0.0012 - lr: 2.8758e-05\n",
      "Epoch 126/200\n",
      "42/42 [==============================] - ETA: 0s - loss: 0.0106 - semantic_0_loss: 0.0029 - semantic_1_loss: 0.0065 - semantic_2_loss: 0.0012WARNING:tensorflow:Can save best model only with val_loss available, skipping.\n"
     ]
    },
    {
     "name": "stderr",
     "output_type": "stream",
     "text": [
      "WARNING:tensorflow:Can save best model only with val_loss available, skipping.\n"
     ]
    },
    {
     "name": "stdout",
     "output_type": "stream",
     "text": [
      "42/42 [==============================] - 24s 566ms/step - loss: 0.0106 - semantic_0_loss: 0.0029 - semantic_1_loss: 0.0065 - semantic_2_loss: 0.0012 - lr: 2.8471e-05\n",
      "Epoch 127/200\n",
      "42/42 [==============================] - ETA: 0s - loss: 0.0104 - semantic_0_loss: 0.0028 - semantic_1_loss: 0.0064 - semantic_2_loss: 0.0012WARNING:tensorflow:Can save best model only with val_loss available, skipping.\n"
     ]
    },
    {
     "name": "stderr",
     "output_type": "stream",
     "text": [
      "WARNING:tensorflow:Can save best model only with val_loss available, skipping.\n"
     ]
    },
    {
     "name": "stdout",
     "output_type": "stream",
     "text": [
      "42/42 [==============================] - 24s 553ms/step - loss: 0.0104 - semantic_0_loss: 0.0028 - semantic_1_loss: 0.0064 - semantic_2_loss: 0.0012 - lr: 2.8186e-05\n",
      "Epoch 128/200\n",
      "42/42 [==============================] - ETA: 0s - loss: 0.0107 - semantic_0_loss: 0.0029 - semantic_1_loss: 0.0066 - semantic_2_loss: 0.0012WARNING:tensorflow:Can save best model only with val_loss available, skipping.\n"
     ]
    },
    {
     "name": "stderr",
     "output_type": "stream",
     "text": [
      "WARNING:tensorflow:Can save best model only with val_loss available, skipping.\n"
     ]
    },
    {
     "name": "stdout",
     "output_type": "stream",
     "text": [
      "42/42 [==============================] - 23s 553ms/step - loss: 0.0107 - semantic_0_loss: 0.0029 - semantic_1_loss: 0.0066 - semantic_2_loss: 0.0012 - lr: 2.7904e-05\n",
      "Epoch 129/200\n",
      "42/42 [==============================] - ETA: 0s - loss: 0.0106 - semantic_0_loss: 0.0029 - semantic_1_loss: 0.0065 - semantic_2_loss: 0.0012WARNING:tensorflow:Can save best model only with val_loss available, skipping.\n"
     ]
    },
    {
     "name": "stderr",
     "output_type": "stream",
     "text": [
      "WARNING:tensorflow:Can save best model only with val_loss available, skipping.\n"
     ]
    },
    {
     "name": "stdout",
     "output_type": "stream",
     "text": [
      "42/42 [==============================] - 24s 558ms/step - loss: 0.0106 - semantic_0_loss: 0.0029 - semantic_1_loss: 0.0065 - semantic_2_loss: 0.0012 - lr: 2.7625e-05\n",
      "Epoch 130/200\n",
      "42/42 [==============================] - ETA: 0s - loss: 0.0105 - semantic_0_loss: 0.0029 - semantic_1_loss: 0.0065 - semantic_2_loss: 0.0012WARNING:tensorflow:Can save best model only with val_loss available, skipping.\n"
     ]
    },
    {
     "name": "stderr",
     "output_type": "stream",
     "text": [
      "WARNING:tensorflow:Can save best model only with val_loss available, skipping.\n"
     ]
    },
    {
     "name": "stdout",
     "output_type": "stream",
     "text": [
      "42/42 [==============================] - 24s 567ms/step - loss: 0.0105 - semantic_0_loss: 0.0029 - semantic_1_loss: 0.0065 - semantic_2_loss: 0.0012 - lr: 2.7349e-05\n",
      "Epoch 131/200\n",
      "42/42 [==============================] - ETA: 0s - loss: 0.0108 - semantic_0_loss: 0.0030 - semantic_1_loss: 0.0067 - semantic_2_loss: 0.0012WARNING:tensorflow:Can save best model only with val_loss available, skipping.\n"
     ]
    },
    {
     "name": "stderr",
     "output_type": "stream",
     "text": [
      "WARNING:tensorflow:Can save best model only with val_loss available, skipping.\n"
     ]
    },
    {
     "name": "stdout",
     "output_type": "stream",
     "text": [
      "42/42 [==============================] - 24s 561ms/step - loss: 0.0108 - semantic_0_loss: 0.0030 - semantic_1_loss: 0.0067 - semantic_2_loss: 0.0012 - lr: 2.7075e-05\n",
      "Epoch 132/200\n",
      "42/42 [==============================] - ETA: 0s - loss: 0.0106 - semantic_0_loss: 0.0029 - semantic_1_loss: 0.0066 - semantic_2_loss: 0.0012WARNING:tensorflow:Can save best model only with val_loss available, skipping.\n"
     ]
    },
    {
     "name": "stderr",
     "output_type": "stream",
     "text": [
      "WARNING:tensorflow:Can save best model only with val_loss available, skipping.\n"
     ]
    },
    {
     "name": "stdout",
     "output_type": "stream",
     "text": [
      "42/42 [==============================] - 24s 555ms/step - loss: 0.0106 - semantic_0_loss: 0.0029 - semantic_1_loss: 0.0066 - semantic_2_loss: 0.0012 - lr: 2.6805e-05\n",
      "Epoch 133/200\n",
      "42/42 [==============================] - ETA: 0s - loss: 0.0105 - semantic_0_loss: 0.0029 - semantic_1_loss: 0.0064 - semantic_2_loss: 0.0012WARNING:tensorflow:Can save best model only with val_loss available, skipping.\n"
     ]
    },
    {
     "name": "stderr",
     "output_type": "stream",
     "text": [
      "WARNING:tensorflow:Can save best model only with val_loss available, skipping.\n"
     ]
    },
    {
     "name": "stdout",
     "output_type": "stream",
     "text": [
      "42/42 [==============================] - 24s 561ms/step - loss: 0.0105 - semantic_0_loss: 0.0029 - semantic_1_loss: 0.0064 - semantic_2_loss: 0.0012 - lr: 2.6537e-05\n",
      "Epoch 134/200\n",
      "42/42 [==============================] - ETA: 0s - loss: 0.0106 - semantic_0_loss: 0.0029 - semantic_1_loss: 0.0065 - semantic_2_loss: 0.0012WARNING:tensorflow:Can save best model only with val_loss available, skipping.\n"
     ]
    },
    {
     "name": "stderr",
     "output_type": "stream",
     "text": [
      "WARNING:tensorflow:Can save best model only with val_loss available, skipping.\n"
     ]
    },
    {
     "name": "stdout",
     "output_type": "stream",
     "text": [
      "42/42 [==============================] - 24s 560ms/step - loss: 0.0106 - semantic_0_loss: 0.0029 - semantic_1_loss: 0.0065 - semantic_2_loss: 0.0012 - lr: 2.6271e-05\n",
      "Epoch 135/200\n",
      "42/42 [==============================] - ETA: 0s - loss: 0.0106 - semantic_0_loss: 0.0029 - semantic_1_loss: 0.0065 - semantic_2_loss: 0.0012WARNING:tensorflow:Can save best model only with val_loss available, skipping.\n"
     ]
    },
    {
     "name": "stderr",
     "output_type": "stream",
     "text": [
      "WARNING:tensorflow:Can save best model only with val_loss available, skipping.\n"
     ]
    },
    {
     "name": "stdout",
     "output_type": "stream",
     "text": [
      "42/42 [==============================] - 24s 571ms/step - loss: 0.0106 - semantic_0_loss: 0.0029 - semantic_1_loss: 0.0065 - semantic_2_loss: 0.0012 - lr: 2.6009e-05\n",
      "Epoch 136/200\n",
      "42/42 [==============================] - ETA: 0s - loss: 0.0107 - semantic_0_loss: 0.0029 - semantic_1_loss: 0.0066 - semantic_2_loss: 0.0012WARNING:tensorflow:Can save best model only with val_loss available, skipping.\n"
     ]
    },
    {
     "name": "stderr",
     "output_type": "stream",
     "text": [
      "WARNING:tensorflow:Can save best model only with val_loss available, skipping.\n"
     ]
    },
    {
     "name": "stdout",
     "output_type": "stream",
     "text": [
      "42/42 [==============================] - 24s 570ms/step - loss: 0.0107 - semantic_0_loss: 0.0029 - semantic_1_loss: 0.0066 - semantic_2_loss: 0.0012 - lr: 2.5748e-05\n",
      "Epoch 137/200\n",
      "42/42 [==============================] - ETA: 0s - loss: 0.0105 - semantic_0_loss: 0.0029 - semantic_1_loss: 0.0065 - semantic_2_loss: 0.0012WARNING:tensorflow:Can save best model only with val_loss available, skipping.\n"
     ]
    },
    {
     "name": "stderr",
     "output_type": "stream",
     "text": [
      "WARNING:tensorflow:Can save best model only with val_loss available, skipping.\n"
     ]
    },
    {
     "name": "stdout",
     "output_type": "stream",
     "text": [
      "42/42 [==============================] - 24s 555ms/step - loss: 0.0105 - semantic_0_loss: 0.0029 - semantic_1_loss: 0.0065 - semantic_2_loss: 0.0012 - lr: 2.5491e-05\n",
      "Epoch 138/200\n",
      "42/42 [==============================] - ETA: 0s - loss: 0.0106 - semantic_0_loss: 0.0029 - semantic_1_loss: 0.0065 - semantic_2_loss: 0.0012WARNING:tensorflow:Can save best model only with val_loss available, skipping.\n"
     ]
    },
    {
     "name": "stderr",
     "output_type": "stream",
     "text": [
      "WARNING:tensorflow:Can save best model only with val_loss available, skipping.\n"
     ]
    },
    {
     "name": "stdout",
     "output_type": "stream",
     "text": [
      "42/42 [==============================] - 23s 554ms/step - loss: 0.0106 - semantic_0_loss: 0.0029 - semantic_1_loss: 0.0065 - semantic_2_loss: 0.0012 - lr: 2.5236e-05\n",
      "Epoch 139/200\n",
      "42/42 [==============================] - ETA: 0s - loss: 0.0106 - semantic_0_loss: 0.0029 - semantic_1_loss: 0.0065 - semantic_2_loss: 0.0012WARNING:tensorflow:Can save best model only with val_loss available, skipping.\n"
     ]
    },
    {
     "name": "stderr",
     "output_type": "stream",
     "text": [
      "WARNING:tensorflow:Can save best model only with val_loss available, skipping.\n"
     ]
    },
    {
     "name": "stdout",
     "output_type": "stream",
     "text": [
      "42/42 [==============================] - 24s 564ms/step - loss: 0.0106 - semantic_0_loss: 0.0029 - semantic_1_loss: 0.0065 - semantic_2_loss: 0.0012 - lr: 2.4984e-05\n",
      "Epoch 140/200\n",
      "42/42 [==============================] - ETA: 0s - loss: 0.0107 - semantic_0_loss: 0.0029 - semantic_1_loss: 0.0065 - semantic_2_loss: 0.0012WARNING:tensorflow:Can save best model only with val_loss available, skipping.\n"
     ]
    },
    {
     "name": "stderr",
     "output_type": "stream",
     "text": [
      "WARNING:tensorflow:Can save best model only with val_loss available, skipping.\n"
     ]
    },
    {
     "name": "stdout",
     "output_type": "stream",
     "text": [
      "42/42 [==============================] - 23s 552ms/step - loss: 0.0107 - semantic_0_loss: 0.0029 - semantic_1_loss: 0.0065 - semantic_2_loss: 0.0012 - lr: 2.4734e-05\n",
      "Epoch 141/200\n",
      "42/42 [==============================] - ETA: 0s - loss: 0.0104 - semantic_0_loss: 0.0028 - semantic_1_loss: 0.0064 - semantic_2_loss: 0.0012WARNING:tensorflow:Can save best model only with val_loss available, skipping.\n"
     ]
    },
    {
     "name": "stderr",
     "output_type": "stream",
     "text": [
      "WARNING:tensorflow:Can save best model only with val_loss available, skipping.\n"
     ]
    },
    {
     "name": "stdout",
     "output_type": "stream",
     "text": [
      "42/42 [==============================] - 24s 558ms/step - loss: 0.0104 - semantic_0_loss: 0.0028 - semantic_1_loss: 0.0064 - semantic_2_loss: 0.0012 - lr: 2.4487e-05\n",
      "Epoch 142/200\n",
      "42/42 [==============================] - ETA: 0s - loss: 0.0105 - semantic_0_loss: 0.0029 - semantic_1_loss: 0.0065 - semantic_2_loss: 0.0012WARNING:tensorflow:Can save best model only with val_loss available, skipping.\n"
     ]
    },
    {
     "name": "stderr",
     "output_type": "stream",
     "text": [
      "WARNING:tensorflow:Can save best model only with val_loss available, skipping.\n"
     ]
    },
    {
     "name": "stdout",
     "output_type": "stream",
     "text": [
      "42/42 [==============================] - 24s 563ms/step - loss: 0.0105 - semantic_0_loss: 0.0029 - semantic_1_loss: 0.0065 - semantic_2_loss: 0.0012 - lr: 2.4242e-05\n",
      "Epoch 143/200\n",
      "42/42 [==============================] - ETA: 0s - loss: 0.0105 - semantic_0_loss: 0.0029 - semantic_1_loss: 0.0064 - semantic_2_loss: 0.0012WARNING:tensorflow:Can save best model only with val_loss available, skipping.\n"
     ]
    },
    {
     "name": "stderr",
     "output_type": "stream",
     "text": [
      "WARNING:tensorflow:Can save best model only with val_loss available, skipping.\n"
     ]
    },
    {
     "name": "stdout",
     "output_type": "stream",
     "text": [
      "42/42 [==============================] - 23s 554ms/step - loss: 0.0105 - semantic_0_loss: 0.0029 - semantic_1_loss: 0.0064 - semantic_2_loss: 0.0012 - lr: 2.3999e-05\n",
      "Epoch 144/200\n",
      "42/42 [==============================] - ETA: 0s - loss: 0.0105 - semantic_0_loss: 0.0029 - semantic_1_loss: 0.0064 - semantic_2_loss: 0.0012WARNING:tensorflow:Can save best model only with val_loss available, skipping.\n"
     ]
    },
    {
     "name": "stderr",
     "output_type": "stream",
     "text": [
      "WARNING:tensorflow:Can save best model only with val_loss available, skipping.\n"
     ]
    },
    {
     "name": "stdout",
     "output_type": "stream",
     "text": [
      "42/42 [==============================] - 23s 554ms/step - loss: 0.0105 - semantic_0_loss: 0.0029 - semantic_1_loss: 0.0064 - semantic_2_loss: 0.0012 - lr: 2.3759e-05\n",
      "Epoch 145/200\n",
      "42/42 [==============================] - ETA: 0s - loss: 0.0104 - semantic_0_loss: 0.0029 - semantic_1_loss: 0.0064 - semantic_2_loss: 0.0012WARNING:tensorflow:Can save best model only with val_loss available, skipping.\n"
     ]
    },
    {
     "name": "stderr",
     "output_type": "stream",
     "text": [
      "WARNING:tensorflow:Can save best model only with val_loss available, skipping.\n"
     ]
    },
    {
     "name": "stdout",
     "output_type": "stream",
     "text": [
      "42/42 [==============================] - 24s 562ms/step - loss: 0.0104 - semantic_0_loss: 0.0029 - semantic_1_loss: 0.0064 - semantic_2_loss: 0.0012 - lr: 2.3522e-05\n",
      "Epoch 146/200\n",
      "42/42 [==============================] - ETA: 0s - loss: 0.0106 - semantic_0_loss: 0.0029 - semantic_1_loss: 0.0065 - semantic_2_loss: 0.0012WARNING:tensorflow:Can save best model only with val_loss available, skipping.\n"
     ]
    },
    {
     "name": "stderr",
     "output_type": "stream",
     "text": [
      "WARNING:tensorflow:Can save best model only with val_loss available, skipping.\n"
     ]
    },
    {
     "name": "stdout",
     "output_type": "stream",
     "text": [
      "42/42 [==============================] - 24s 572ms/step - loss: 0.0106 - semantic_0_loss: 0.0029 - semantic_1_loss: 0.0065 - semantic_2_loss: 0.0012 - lr: 2.3286e-05\n",
      "Epoch 147/200\n",
      "42/42 [==============================] - ETA: 0s - loss: 0.0104 - semantic_0_loss: 0.0029 - semantic_1_loss: 0.0064 - semantic_2_loss: 0.0012WARNING:tensorflow:Can save best model only with val_loss available, skipping.\n"
     ]
    },
    {
     "name": "stderr",
     "output_type": "stream",
     "text": [
      "WARNING:tensorflow:Can save best model only with val_loss available, skipping.\n"
     ]
    },
    {
     "name": "stdout",
     "output_type": "stream",
     "text": [
      "42/42 [==============================] - 24s 561ms/step - loss: 0.0104 - semantic_0_loss: 0.0029 - semantic_1_loss: 0.0064 - semantic_2_loss: 0.0012 - lr: 2.3054e-05\n",
      "Epoch 148/200\n",
      "42/42 [==============================] - ETA: 0s - loss: 0.0105 - semantic_0_loss: 0.0029 - semantic_1_loss: 0.0064 - semantic_2_loss: 0.0012WARNING:tensorflow:Can save best model only with val_loss available, skipping.\n"
     ]
    },
    {
     "name": "stderr",
     "output_type": "stream",
     "text": [
      "WARNING:tensorflow:Can save best model only with val_loss available, skipping.\n"
     ]
    },
    {
     "name": "stdout",
     "output_type": "stream",
     "text": [
      "42/42 [==============================] - 23s 555ms/step - loss: 0.0105 - semantic_0_loss: 0.0029 - semantic_1_loss: 0.0064 - semantic_2_loss: 0.0012 - lr: 2.2823e-05\n",
      "Epoch 149/200\n",
      "42/42 [==============================] - ETA: 0s - loss: 0.0103 - semantic_0_loss: 0.0028 - semantic_1_loss: 0.0063 - semantic_2_loss: 0.0012WARNING:tensorflow:Can save best model only with val_loss available, skipping.\n"
     ]
    },
    {
     "name": "stderr",
     "output_type": "stream",
     "text": [
      "WARNING:tensorflow:Can save best model only with val_loss available, skipping.\n"
     ]
    },
    {
     "name": "stdout",
     "output_type": "stream",
     "text": [
      "42/42 [==============================] - 24s 570ms/step - loss: 0.0103 - semantic_0_loss: 0.0028 - semantic_1_loss: 0.0063 - semantic_2_loss: 0.0012 - lr: 2.2595e-05\n",
      "Epoch 150/200\n",
      "42/42 [==============================] - ETA: 0s - loss: 0.0105 - semantic_0_loss: 0.0029 - semantic_1_loss: 0.0064 - semantic_2_loss: 0.0012WARNING:tensorflow:Can save best model only with val_loss available, skipping.\n"
     ]
    },
    {
     "name": "stderr",
     "output_type": "stream",
     "text": [
      "WARNING:tensorflow:Can save best model only with val_loss available, skipping.\n"
     ]
    },
    {
     "name": "stdout",
     "output_type": "stream",
     "text": [
      "42/42 [==============================] - 23s 550ms/step - loss: 0.0105 - semantic_0_loss: 0.0029 - semantic_1_loss: 0.0064 - semantic_2_loss: 0.0012 - lr: 2.2369e-05\n",
      "Epoch 151/200\n",
      "42/42 [==============================] - ETA: 0s - loss: 0.0105 - semantic_0_loss: 0.0029 - semantic_1_loss: 0.0064 - semantic_2_loss: 0.0012WARNING:tensorflow:Can save best model only with val_loss available, skipping.\n"
     ]
    },
    {
     "name": "stderr",
     "output_type": "stream",
     "text": [
      "WARNING:tensorflow:Can save best model only with val_loss available, skipping.\n"
     ]
    },
    {
     "name": "stdout",
     "output_type": "stream",
     "text": [
      "42/42 [==============================] - 24s 570ms/step - loss: 0.0105 - semantic_0_loss: 0.0029 - semantic_1_loss: 0.0064 - semantic_2_loss: 0.0012 - lr: 2.2145e-05\n",
      "Epoch 152/200\n",
      "42/42 [==============================] - ETA: 0s - loss: 0.0106 - semantic_0_loss: 0.0029 - semantic_1_loss: 0.0065 - semantic_2_loss: 0.0012WARNING:tensorflow:Can save best model only with val_loss available, skipping.\n"
     ]
    },
    {
     "name": "stderr",
     "output_type": "stream",
     "text": [
      "WARNING:tensorflow:Can save best model only with val_loss available, skipping.\n"
     ]
    },
    {
     "name": "stdout",
     "output_type": "stream",
     "text": [
      "42/42 [==============================] - 24s 561ms/step - loss: 0.0106 - semantic_0_loss: 0.0029 - semantic_1_loss: 0.0065 - semantic_2_loss: 0.0012 - lr: 2.1924e-05\n",
      "Epoch 153/200\n",
      "42/42 [==============================] - ETA: 0s - loss: 0.0104 - semantic_0_loss: 0.0028 - semantic_1_loss: 0.0064 - semantic_2_loss: 0.0012WARNING:tensorflow:Can save best model only with val_loss available, skipping.\n"
     ]
    },
    {
     "name": "stderr",
     "output_type": "stream",
     "text": [
      "WARNING:tensorflow:Can save best model only with val_loss available, skipping.\n"
     ]
    },
    {
     "name": "stdout",
     "output_type": "stream",
     "text": [
      "42/42 [==============================] - 24s 554ms/step - loss: 0.0104 - semantic_0_loss: 0.0028 - semantic_1_loss: 0.0064 - semantic_2_loss: 0.0012 - lr: 2.1704e-05\n",
      "Epoch 154/200\n",
      "42/42 [==============================] - ETA: 0s - loss: 0.0103 - semantic_0_loss: 0.0028 - semantic_1_loss: 0.0063 - semantic_2_loss: 0.0012WARNING:tensorflow:Can save best model only with val_loss available, skipping.\n"
     ]
    },
    {
     "name": "stderr",
     "output_type": "stream",
     "text": [
      "WARNING:tensorflow:Can save best model only with val_loss available, skipping.\n"
     ]
    },
    {
     "name": "stdout",
     "output_type": "stream",
     "text": [
      "42/42 [==============================] - 24s 566ms/step - loss: 0.0103 - semantic_0_loss: 0.0028 - semantic_1_loss: 0.0063 - semantic_2_loss: 0.0012 - lr: 2.1487e-05\n",
      "Epoch 155/200\n",
      "42/42 [==============================] - ETA: 0s - loss: 0.0105 - semantic_0_loss: 0.0029 - semantic_1_loss: 0.0064 - semantic_2_loss: 0.0012WARNING:tensorflow:Can save best model only with val_loss available, skipping.\n"
     ]
    },
    {
     "name": "stderr",
     "output_type": "stream",
     "text": [
      "WARNING:tensorflow:Can save best model only with val_loss available, skipping.\n"
     ]
    },
    {
     "name": "stdout",
     "output_type": "stream",
     "text": [
      "42/42 [==============================] - 24s 578ms/step - loss: 0.0105 - semantic_0_loss: 0.0029 - semantic_1_loss: 0.0064 - semantic_2_loss: 0.0012 - lr: 2.1273e-05\n",
      "Epoch 156/200\n",
      "42/42 [==============================] - ETA: 0s - loss: 0.0103 - semantic_0_loss: 0.0029 - semantic_1_loss: 0.0063 - semantic_2_loss: 0.0011WARNING:tensorflow:Can save best model only with val_loss available, skipping.\n"
     ]
    },
    {
     "name": "stderr",
     "output_type": "stream",
     "text": [
      "WARNING:tensorflow:Can save best model only with val_loss available, skipping.\n"
     ]
    },
    {
     "name": "stdout",
     "output_type": "stream",
     "text": [
      "42/42 [==============================] - 24s 562ms/step - loss: 0.0103 - semantic_0_loss: 0.0029 - semantic_1_loss: 0.0063 - semantic_2_loss: 0.0011 - lr: 2.1060e-05\n",
      "Epoch 157/200\n",
      "42/42 [==============================] - ETA: 0s - loss: 0.0103 - semantic_0_loss: 0.0029 - semantic_1_loss: 0.0063 - semantic_2_loss: 0.0012WARNING:tensorflow:Can save best model only with val_loss available, skipping.\n"
     ]
    },
    {
     "name": "stderr",
     "output_type": "stream",
     "text": [
      "WARNING:tensorflow:Can save best model only with val_loss available, skipping.\n"
     ]
    },
    {
     "name": "stdout",
     "output_type": "stream",
     "text": [
      "42/42 [==============================] - 24s 565ms/step - loss: 0.0103 - semantic_0_loss: 0.0029 - semantic_1_loss: 0.0063 - semantic_2_loss: 0.0012 - lr: 2.0849e-05\n",
      "Epoch 158/200\n",
      "42/42 [==============================] - ETA: 0s - loss: 0.0104 - semantic_0_loss: 0.0029 - semantic_1_loss: 0.0064 - semantic_2_loss: 0.0012WARNING:tensorflow:Can save best model only with val_loss available, skipping.\n"
     ]
    },
    {
     "name": "stderr",
     "output_type": "stream",
     "text": [
      "WARNING:tensorflow:Can save best model only with val_loss available, skipping.\n"
     ]
    },
    {
     "name": "stdout",
     "output_type": "stream",
     "text": [
      "42/42 [==============================] - 24s 555ms/step - loss: 0.0104 - semantic_0_loss: 0.0029 - semantic_1_loss: 0.0064 - semantic_2_loss: 0.0012 - lr: 2.0641e-05\n",
      "Epoch 159/200\n",
      "42/42 [==============================] - ETA: 0s - loss: 0.0101 - semantic_0_loss: 0.0028 - semantic_1_loss: 0.0062 - semantic_2_loss: 0.0011WARNING:tensorflow:Can save best model only with val_loss available, skipping.\n"
     ]
    },
    {
     "name": "stderr",
     "output_type": "stream",
     "text": [
      "WARNING:tensorflow:Can save best model only with val_loss available, skipping.\n"
     ]
    },
    {
     "name": "stdout",
     "output_type": "stream",
     "text": [
      "42/42 [==============================] - 23s 553ms/step - loss: 0.0101 - semantic_0_loss: 0.0028 - semantic_1_loss: 0.0062 - semantic_2_loss: 0.0011 - lr: 2.0434e-05\n",
      "Epoch 160/200\n",
      "42/42 [==============================] - ETA: 0s - loss: 0.0105 - semantic_0_loss: 0.0029 - semantic_1_loss: 0.0065 - semantic_2_loss: 0.0012WARNING:tensorflow:Can save best model only with val_loss available, skipping.\n"
     ]
    },
    {
     "name": "stderr",
     "output_type": "stream",
     "text": [
      "WARNING:tensorflow:Can save best model only with val_loss available, skipping.\n"
     ]
    },
    {
     "name": "stdout",
     "output_type": "stream",
     "text": [
      "42/42 [==============================] - 24s 558ms/step - loss: 0.0105 - semantic_0_loss: 0.0029 - semantic_1_loss: 0.0065 - semantic_2_loss: 0.0012 - lr: 2.0230e-05\n",
      "Epoch 161/200\n",
      "42/42 [==============================] - ETA: 0s - loss: 0.0101 - semantic_0_loss: 0.0028 - semantic_1_loss: 0.0062 - semantic_2_loss: 0.0012WARNING:tensorflow:Can save best model only with val_loss available, skipping.\n"
     ]
    },
    {
     "name": "stderr",
     "output_type": "stream",
     "text": [
      "WARNING:tensorflow:Can save best model only with val_loss available, skipping.\n"
     ]
    },
    {
     "name": "stdout",
     "output_type": "stream",
     "text": [
      "42/42 [==============================] - 24s 560ms/step - loss: 0.0101 - semantic_0_loss: 0.0028 - semantic_1_loss: 0.0062 - semantic_2_loss: 0.0012 - lr: 2.0028e-05\n",
      "Epoch 162/200\n",
      "42/42 [==============================] - ETA: 0s - loss: 0.0103 - semantic_0_loss: 0.0029 - semantic_1_loss: 0.0063 - semantic_2_loss: 0.0012WARNING:tensorflow:Can save best model only with val_loss available, skipping.\n"
     ]
    },
    {
     "name": "stderr",
     "output_type": "stream",
     "text": [
      "WARNING:tensorflow:Can save best model only with val_loss available, skipping.\n"
     ]
    },
    {
     "name": "stdout",
     "output_type": "stream",
     "text": [
      "42/42 [==============================] - 23s 563ms/step - loss: 0.0103 - semantic_0_loss: 0.0029 - semantic_1_loss: 0.0063 - semantic_2_loss: 0.0012 - lr: 1.9827e-05\n",
      "Epoch 163/200\n",
      "42/42 [==============================] - ETA: 0s - loss: 0.0102 - semantic_0_loss: 0.0028 - semantic_1_loss: 0.0062 - semantic_2_loss: 0.0012WARNING:tensorflow:Can save best model only with val_loss available, skipping.\n"
     ]
    },
    {
     "name": "stderr",
     "output_type": "stream",
     "text": [
      "WARNING:tensorflow:Can save best model only with val_loss available, skipping.\n"
     ]
    },
    {
     "name": "stdout",
     "output_type": "stream",
     "text": [
      "42/42 [==============================] - 23s 555ms/step - loss: 0.0102 - semantic_0_loss: 0.0028 - semantic_1_loss: 0.0062 - semantic_2_loss: 0.0012 - lr: 1.9629e-05\n",
      "Epoch 164/200\n",
      "42/42 [==============================] - ETA: 0s - loss: 0.0104 - semantic_0_loss: 0.0028 - semantic_1_loss: 0.0064 - semantic_2_loss: 0.0012WARNING:tensorflow:Can save best model only with val_loss available, skipping.\n"
     ]
    },
    {
     "name": "stderr",
     "output_type": "stream",
     "text": [
      "WARNING:tensorflow:Can save best model only with val_loss available, skipping.\n"
     ]
    },
    {
     "name": "stdout",
     "output_type": "stream",
     "text": [
      "42/42 [==============================] - 24s 557ms/step - loss: 0.0104 - semantic_0_loss: 0.0028 - semantic_1_loss: 0.0064 - semantic_2_loss: 0.0012 - lr: 1.9433e-05\n",
      "Epoch 165/200\n",
      "42/42 [==============================] - ETA: 0s - loss: 0.0103 - semantic_0_loss: 0.0028 - semantic_1_loss: 0.0063 - semantic_2_loss: 0.0012WARNING:tensorflow:Can save best model only with val_loss available, skipping.\n"
     ]
    },
    {
     "name": "stderr",
     "output_type": "stream",
     "text": [
      "WARNING:tensorflow:Can save best model only with val_loss available, skipping.\n"
     ]
    },
    {
     "name": "stdout",
     "output_type": "stream",
     "text": [
      "42/42 [==============================] - 23s 549ms/step - loss: 0.0103 - semantic_0_loss: 0.0028 - semantic_1_loss: 0.0063 - semantic_2_loss: 0.0012 - lr: 1.9239e-05\n",
      "Epoch 166/200\n",
      "42/42 [==============================] - ETA: 0s - loss: 0.0103 - semantic_0_loss: 0.0028 - semantic_1_loss: 0.0063 - semantic_2_loss: 0.0012WARNING:tensorflow:Can save best model only with val_loss available, skipping.\n"
     ]
    },
    {
     "name": "stderr",
     "output_type": "stream",
     "text": [
      "WARNING:tensorflow:Can save best model only with val_loss available, skipping.\n"
     ]
    },
    {
     "name": "stdout",
     "output_type": "stream",
     "text": [
      "42/42 [==============================] - 24s 559ms/step - loss: 0.0103 - semantic_0_loss: 0.0028 - semantic_1_loss: 0.0063 - semantic_2_loss: 0.0012 - lr: 1.9046e-05\n",
      "Epoch 167/200\n",
      "42/42 [==============================] - ETA: 0s - loss: 0.0101 - semantic_0_loss: 0.0028 - semantic_1_loss: 0.0062 - semantic_2_loss: 0.0011WARNING:tensorflow:Can save best model only with val_loss available, skipping.\n"
     ]
    },
    {
     "name": "stderr",
     "output_type": "stream",
     "text": [
      "WARNING:tensorflow:Can save best model only with val_loss available, skipping.\n"
     ]
    },
    {
     "name": "stdout",
     "output_type": "stream",
     "text": [
      "42/42 [==============================] - 23s 551ms/step - loss: 0.0101 - semantic_0_loss: 0.0028 - semantic_1_loss: 0.0062 - semantic_2_loss: 0.0011 - lr: 1.8856e-05\n",
      "Epoch 168/200\n",
      "42/42 [==============================] - ETA: 0s - loss: 0.0104 - semantic_0_loss: 0.0029 - semantic_1_loss: 0.0063 - semantic_2_loss: 0.0012WARNING:tensorflow:Can save best model only with val_loss available, skipping.\n"
     ]
    },
    {
     "name": "stderr",
     "output_type": "stream",
     "text": [
      "WARNING:tensorflow:Can save best model only with val_loss available, skipping.\n"
     ]
    },
    {
     "name": "stdout",
     "output_type": "stream",
     "text": [
      "42/42 [==============================] - 24s 559ms/step - loss: 0.0104 - semantic_0_loss: 0.0029 - semantic_1_loss: 0.0063 - semantic_2_loss: 0.0012 - lr: 1.8667e-05\n",
      "Epoch 169/200\n",
      "42/42 [==============================] - ETA: 0s - loss: 0.0101 - semantic_0_loss: 0.0028 - semantic_1_loss: 0.0062 - semantic_2_loss: 0.0011WARNING:tensorflow:Can save best model only with val_loss available, skipping.\n"
     ]
    },
    {
     "name": "stderr",
     "output_type": "stream",
     "text": [
      "WARNING:tensorflow:Can save best model only with val_loss available, skipping.\n"
     ]
    },
    {
     "name": "stdout",
     "output_type": "stream",
     "text": [
      "42/42 [==============================] - 24s 559ms/step - loss: 0.0101 - semantic_0_loss: 0.0028 - semantic_1_loss: 0.0062 - semantic_2_loss: 0.0011 - lr: 1.8480e-05\n",
      "Epoch 170/200\n",
      "42/42 [==============================] - ETA: 0s - loss: 0.0106 - semantic_0_loss: 0.0029 - semantic_1_loss: 0.0065 - semantic_2_loss: 0.0012WARNING:tensorflow:Can save best model only with val_loss available, skipping.\n"
     ]
    },
    {
     "name": "stderr",
     "output_type": "stream",
     "text": [
      "WARNING:tensorflow:Can save best model only with val_loss available, skipping.\n"
     ]
    },
    {
     "name": "stdout",
     "output_type": "stream",
     "text": [
      "42/42 [==============================] - 24s 570ms/step - loss: 0.0106 - semantic_0_loss: 0.0029 - semantic_1_loss: 0.0065 - semantic_2_loss: 0.0012 - lr: 1.8296e-05\n",
      "Epoch 171/200\n",
      "42/42 [==============================] - ETA: 0s - loss: 0.0102 - semantic_0_loss: 0.0028 - semantic_1_loss: 0.0062 - semantic_2_loss: 0.0011WARNING:tensorflow:Can save best model only with val_loss available, skipping.\n"
     ]
    },
    {
     "name": "stderr",
     "output_type": "stream",
     "text": [
      "WARNING:tensorflow:Can save best model only with val_loss available, skipping.\n"
     ]
    },
    {
     "name": "stdout",
     "output_type": "stream",
     "text": [
      "42/42 [==============================] - 24s 555ms/step - loss: 0.0102 - semantic_0_loss: 0.0028 - semantic_1_loss: 0.0062 - semantic_2_loss: 0.0011 - lr: 1.8113e-05\n",
      "Epoch 172/200\n",
      "42/42 [==============================] - ETA: 0s - loss: 0.0104 - semantic_0_loss: 0.0029 - semantic_1_loss: 0.0063 - semantic_2_loss: 0.0012WARNING:tensorflow:Can save best model only with val_loss available, skipping.\n"
     ]
    },
    {
     "name": "stderr",
     "output_type": "stream",
     "text": [
      "WARNING:tensorflow:Can save best model only with val_loss available, skipping.\n"
     ]
    },
    {
     "name": "stdout",
     "output_type": "stream",
     "text": [
      "42/42 [==============================] - 24s 565ms/step - loss: 0.0104 - semantic_0_loss: 0.0029 - semantic_1_loss: 0.0063 - semantic_2_loss: 0.0012 - lr: 1.7932e-05\n",
      "Epoch 173/200\n",
      "42/42 [==============================] - ETA: 0s - loss: 0.0103 - semantic_0_loss: 0.0028 - semantic_1_loss: 0.0063 - semantic_2_loss: 0.0011WARNING:tensorflow:Can save best model only with val_loss available, skipping.\n"
     ]
    },
    {
     "name": "stderr",
     "output_type": "stream",
     "text": [
      "WARNING:tensorflow:Can save best model only with val_loss available, skipping.\n"
     ]
    },
    {
     "name": "stdout",
     "output_type": "stream",
     "text": [
      "42/42 [==============================] - 24s 570ms/step - loss: 0.0103 - semantic_0_loss: 0.0028 - semantic_1_loss: 0.0063 - semantic_2_loss: 0.0011 - lr: 1.7752e-05\n",
      "Epoch 174/200\n",
      "42/42 [==============================] - ETA: 0s - loss: 0.0102 - semantic_0_loss: 0.0028 - semantic_1_loss: 0.0063 - semantic_2_loss: 0.0012WARNING:tensorflow:Can save best model only with val_loss available, skipping.\n"
     ]
    },
    {
     "name": "stderr",
     "output_type": "stream",
     "text": [
      "WARNING:tensorflow:Can save best model only with val_loss available, skipping.\n"
     ]
    },
    {
     "name": "stdout",
     "output_type": "stream",
     "text": [
      "42/42 [==============================] - 23s 550ms/step - loss: 0.0102 - semantic_0_loss: 0.0028 - semantic_1_loss: 0.0063 - semantic_2_loss: 0.0012 - lr: 1.7575e-05\n",
      "Epoch 175/200\n",
      "42/42 [==============================] - ETA: 0s - loss: 0.0104 - semantic_0_loss: 0.0029 - semantic_1_loss: 0.0064 - semantic_2_loss: 0.0012WARNING:tensorflow:Can save best model only with val_loss available, skipping.\n"
     ]
    },
    {
     "name": "stderr",
     "output_type": "stream",
     "text": [
      "WARNING:tensorflow:Can save best model only with val_loss available, skipping.\n"
     ]
    },
    {
     "name": "stdout",
     "output_type": "stream",
     "text": [
      "42/42 [==============================] - 23s 552ms/step - loss: 0.0104 - semantic_0_loss: 0.0029 - semantic_1_loss: 0.0064 - semantic_2_loss: 0.0012 - lr: 1.7399e-05\n",
      "Epoch 176/200\n",
      "42/42 [==============================] - ETA: 0s - loss: 0.0101 - semantic_0_loss: 0.0028 - semantic_1_loss: 0.0062 - semantic_2_loss: 0.0011WARNING:tensorflow:Can save best model only with val_loss available, skipping.\n"
     ]
    },
    {
     "name": "stderr",
     "output_type": "stream",
     "text": [
      "WARNING:tensorflow:Can save best model only with val_loss available, skipping.\n"
     ]
    },
    {
     "name": "stdout",
     "output_type": "stream",
     "text": [
      "42/42 [==============================] - 24s 573ms/step - loss: 0.0101 - semantic_0_loss: 0.0028 - semantic_1_loss: 0.0062 - semantic_2_loss: 0.0011 - lr: 1.7225e-05\n",
      "Epoch 177/200\n",
      "42/42 [==============================] - ETA: 0s - loss: 0.0103 - semantic_0_loss: 0.0029 - semantic_1_loss: 0.0063 - semantic_2_loss: 0.0012WARNING:tensorflow:Can save best model only with val_loss available, skipping.\n"
     ]
    },
    {
     "name": "stderr",
     "output_type": "stream",
     "text": [
      "WARNING:tensorflow:Can save best model only with val_loss available, skipping.\n"
     ]
    },
    {
     "name": "stdout",
     "output_type": "stream",
     "text": [
      "42/42 [==============================] - 24s 561ms/step - loss: 0.0103 - semantic_0_loss: 0.0029 - semantic_1_loss: 0.0063 - semantic_2_loss: 0.0012 - lr: 1.7053e-05\n",
      "Epoch 178/200\n",
      "42/42 [==============================] - ETA: 0s - loss: 0.0103 - semantic_0_loss: 0.0028 - semantic_1_loss: 0.0063 - semantic_2_loss: 0.0011WARNING:tensorflow:Can save best model only with val_loss available, skipping.\n"
     ]
    },
    {
     "name": "stderr",
     "output_type": "stream",
     "text": [
      "WARNING:tensorflow:Can save best model only with val_loss available, skipping.\n"
     ]
    },
    {
     "name": "stdout",
     "output_type": "stream",
     "text": [
      "42/42 [==============================] - 24s 557ms/step - loss: 0.0103 - semantic_0_loss: 0.0028 - semantic_1_loss: 0.0063 - semantic_2_loss: 0.0011 - lr: 1.6882e-05\n",
      "Epoch 179/200\n",
      "42/42 [==============================] - ETA: 0s - loss: 0.0103 - semantic_0_loss: 0.0028 - semantic_1_loss: 0.0063 - semantic_2_loss: 0.0012WARNING:tensorflow:Can save best model only with val_loss available, skipping.\n"
     ]
    },
    {
     "name": "stderr",
     "output_type": "stream",
     "text": [
      "WARNING:tensorflow:Can save best model only with val_loss available, skipping.\n"
     ]
    },
    {
     "name": "stdout",
     "output_type": "stream",
     "text": [
      "42/42 [==============================] - 24s 559ms/step - loss: 0.0103 - semantic_0_loss: 0.0028 - semantic_1_loss: 0.0063 - semantic_2_loss: 0.0012 - lr: 1.6713e-05\n",
      "Epoch 180/200\n",
      "42/42 [==============================] - ETA: 0s - loss: 0.0102 - semantic_0_loss: 0.0028 - semantic_1_loss: 0.0063 - semantic_2_loss: 0.0011WARNING:tensorflow:Can save best model only with val_loss available, skipping.\n"
     ]
    },
    {
     "name": "stderr",
     "output_type": "stream",
     "text": [
      "WARNING:tensorflow:Can save best model only with val_loss available, skipping.\n"
     ]
    },
    {
     "name": "stdout",
     "output_type": "stream",
     "text": [
      "42/42 [==============================] - 24s 556ms/step - loss: 0.0102 - semantic_0_loss: 0.0028 - semantic_1_loss: 0.0063 - semantic_2_loss: 0.0011 - lr: 1.6546e-05\n",
      "Epoch 181/200\n",
      "42/42 [==============================] - ETA: 0s - loss: 0.0103 - semantic_0_loss: 0.0028 - semantic_1_loss: 0.0063 - semantic_2_loss: 0.0012WARNING:tensorflow:Can save best model only with val_loss available, skipping.\n"
     ]
    },
    {
     "name": "stderr",
     "output_type": "stream",
     "text": [
      "WARNING:tensorflow:Can save best model only with val_loss available, skipping.\n"
     ]
    },
    {
     "name": "stdout",
     "output_type": "stream",
     "text": [
      "42/42 [==============================] - 24s 561ms/step - loss: 0.0103 - semantic_0_loss: 0.0028 - semantic_1_loss: 0.0063 - semantic_2_loss: 0.0012 - lr: 1.6381e-05\n",
      "Epoch 182/200\n",
      "42/42 [==============================] - ETA: 0s - loss: 0.0103 - semantic_0_loss: 0.0028 - semantic_1_loss: 0.0063 - semantic_2_loss: 0.0011WARNING:tensorflow:Can save best model only with val_loss available, skipping.\n"
     ]
    },
    {
     "name": "stderr",
     "output_type": "stream",
     "text": [
      "WARNING:tensorflow:Can save best model only with val_loss available, skipping.\n"
     ]
    },
    {
     "name": "stdout",
     "output_type": "stream",
     "text": [
      "42/42 [==============================] - 24s 559ms/step - loss: 0.0103 - semantic_0_loss: 0.0028 - semantic_1_loss: 0.0063 - semantic_2_loss: 0.0011 - lr: 1.6217e-05\n",
      "Epoch 183/200\n",
      "42/42 [==============================] - ETA: 0s - loss: 0.0099 - semantic_0_loss: 0.0028 - semantic_1_loss: 0.0060 - semantic_2_loss: 0.0011WARNING:tensorflow:Can save best model only with val_loss available, skipping.\n"
     ]
    },
    {
     "name": "stderr",
     "output_type": "stream",
     "text": [
      "WARNING:tensorflow:Can save best model only with val_loss available, skipping.\n"
     ]
    },
    {
     "name": "stdout",
     "output_type": "stream",
     "text": [
      "42/42 [==============================] - 23s 554ms/step - loss: 0.0099 - semantic_0_loss: 0.0028 - semantic_1_loss: 0.0060 - semantic_2_loss: 0.0011 - lr: 1.6055e-05\n",
      "Epoch 184/200\n",
      "42/42 [==============================] - ETA: 0s - loss: 0.0102 - semantic_0_loss: 0.0028 - semantic_1_loss: 0.0062 - semantic_2_loss: 0.0011WARNING:tensorflow:Can save best model only with val_loss available, skipping.\n"
     ]
    },
    {
     "name": "stderr",
     "output_type": "stream",
     "text": [
      "WARNING:tensorflow:Can save best model only with val_loss available, skipping.\n"
     ]
    },
    {
     "name": "stdout",
     "output_type": "stream",
     "text": [
      "42/42 [==============================] - 24s 562ms/step - loss: 0.0102 - semantic_0_loss: 0.0028 - semantic_1_loss: 0.0062 - semantic_2_loss: 0.0011 - lr: 1.5894e-05\n",
      "Epoch 185/200\n",
      "42/42 [==============================] - ETA: 0s - loss: 0.0101 - semantic_0_loss: 0.0028 - semantic_1_loss: 0.0061 - semantic_2_loss: 0.0011WARNING:tensorflow:Can save best model only with val_loss available, skipping.\n"
     ]
    },
    {
     "name": "stderr",
     "output_type": "stream",
     "text": [
      "WARNING:tensorflow:Can save best model only with val_loss available, skipping.\n"
     ]
    },
    {
     "name": "stdout",
     "output_type": "stream",
     "text": [
      "42/42 [==============================] - 23s 554ms/step - loss: 0.0101 - semantic_0_loss: 0.0028 - semantic_1_loss: 0.0061 - semantic_2_loss: 0.0011 - lr: 1.5735e-05\n",
      "Epoch 186/200\n",
      "42/42 [==============================] - ETA: 0s - loss: 0.0103 - semantic_0_loss: 0.0029 - semantic_1_loss: 0.0063 - semantic_2_loss: 0.0012WARNING:tensorflow:Can save best model only with val_loss available, skipping.\n"
     ]
    },
    {
     "name": "stderr",
     "output_type": "stream",
     "text": [
      "WARNING:tensorflow:Can save best model only with val_loss available, skipping.\n"
     ]
    },
    {
     "name": "stdout",
     "output_type": "stream",
     "text": [
      "42/42 [==============================] - 24s 564ms/step - loss: 0.0103 - semantic_0_loss: 0.0029 - semantic_1_loss: 0.0063 - semantic_2_loss: 0.0012 - lr: 1.5578e-05\n",
      "Epoch 187/200\n",
      "42/42 [==============================] - ETA: 0s - loss: 0.0100 - semantic_0_loss: 0.0028 - semantic_1_loss: 0.0061 - semantic_2_loss: 0.0011WARNING:tensorflow:Can save best model only with val_loss available, skipping.\n"
     ]
    },
    {
     "name": "stderr",
     "output_type": "stream",
     "text": [
      "WARNING:tensorflow:Can save best model only with val_loss available, skipping.\n"
     ]
    },
    {
     "name": "stdout",
     "output_type": "stream",
     "text": [
      "42/42 [==============================] - 23s 545ms/step - loss: 0.0100 - semantic_0_loss: 0.0028 - semantic_1_loss: 0.0061 - semantic_2_loss: 0.0011 - lr: 1.5422e-05\n",
      "Epoch 188/200\n",
      "42/42 [==============================] - ETA: 0s - loss: 0.0102 - semantic_0_loss: 0.0028 - semantic_1_loss: 0.0062 - semantic_2_loss: 0.0011WARNING:tensorflow:Can save best model only with val_loss available, skipping.\n"
     ]
    },
    {
     "name": "stderr",
     "output_type": "stream",
     "text": [
      "WARNING:tensorflow:Can save best model only with val_loss available, skipping.\n"
     ]
    },
    {
     "name": "stdout",
     "output_type": "stream",
     "text": [
      "42/42 [==============================] - 24s 561ms/step - loss: 0.0102 - semantic_0_loss: 0.0028 - semantic_1_loss: 0.0062 - semantic_2_loss: 0.0011 - lr: 1.5268e-05\n",
      "Epoch 189/200\n",
      "42/42 [==============================] - ETA: 0s - loss: 0.0101 - semantic_0_loss: 0.0028 - semantic_1_loss: 0.0062 - semantic_2_loss: 0.0011WARNING:tensorflow:Can save best model only with val_loss available, skipping.\n"
     ]
    },
    {
     "name": "stderr",
     "output_type": "stream",
     "text": [
      "WARNING:tensorflow:Can save best model only with val_loss available, skipping.\n"
     ]
    },
    {
     "name": "stdout",
     "output_type": "stream",
     "text": [
      "42/42 [==============================] - 24s 559ms/step - loss: 0.0101 - semantic_0_loss: 0.0028 - semantic_1_loss: 0.0062 - semantic_2_loss: 0.0011 - lr: 1.5115e-05\n",
      "Epoch 190/200\n",
      "42/42 [==============================] - ETA: 0s - loss: 0.0102 - semantic_0_loss: 0.0028 - semantic_1_loss: 0.0062 - semantic_2_loss: 0.0012WARNING:tensorflow:Can save best model only with val_loss available, skipping.\n"
     ]
    },
    {
     "name": "stderr",
     "output_type": "stream",
     "text": [
      "WARNING:tensorflow:Can save best model only with val_loss available, skipping.\n"
     ]
    },
    {
     "name": "stdout",
     "output_type": "stream",
     "text": [
      "42/42 [==============================] - 24s 566ms/step - loss: 0.0102 - semantic_0_loss: 0.0028 - semantic_1_loss: 0.0062 - semantic_2_loss: 0.0012 - lr: 1.4964e-05\n",
      "Epoch 191/200\n",
      "42/42 [==============================] - ETA: 0s - loss: 0.0101 - semantic_0_loss: 0.0028 - semantic_1_loss: 0.0062 - semantic_2_loss: 0.0011WARNING:tensorflow:Can save best model only with val_loss available, skipping.\n"
     ]
    },
    {
     "name": "stderr",
     "output_type": "stream",
     "text": [
      "WARNING:tensorflow:Can save best model only with val_loss available, skipping.\n"
     ]
    },
    {
     "name": "stdout",
     "output_type": "stream",
     "text": [
      "42/42 [==============================] - 24s 554ms/step - loss: 0.0101 - semantic_0_loss: 0.0028 - semantic_1_loss: 0.0062 - semantic_2_loss: 0.0011 - lr: 1.4814e-05\n",
      "Epoch 192/200\n",
      "42/42 [==============================] - ETA: 0s - loss: 0.0100 - semantic_0_loss: 0.0028 - semantic_1_loss: 0.0061 - semantic_2_loss: 0.0011WARNING:tensorflow:Can save best model only with val_loss available, skipping.\n"
     ]
    },
    {
     "name": "stderr",
     "output_type": "stream",
     "text": [
      "WARNING:tensorflow:Can save best model only with val_loss available, skipping.\n"
     ]
    },
    {
     "name": "stdout",
     "output_type": "stream",
     "text": [
      "42/42 [==============================] - 23s 554ms/step - loss: 0.0100 - semantic_0_loss: 0.0028 - semantic_1_loss: 0.0061 - semantic_2_loss: 0.0011 - lr: 1.4666e-05\n",
      "Epoch 193/200\n",
      "42/42 [==============================] - ETA: 0s - loss: 0.0099 - semantic_0_loss: 0.0027 - semantic_1_loss: 0.0060 - semantic_2_loss: 0.0011WARNING:tensorflow:Can save best model only with val_loss available, skipping.\n"
     ]
    },
    {
     "name": "stderr",
     "output_type": "stream",
     "text": [
      "WARNING:tensorflow:Can save best model only with val_loss available, skipping.\n"
     ]
    },
    {
     "name": "stdout",
     "output_type": "stream",
     "text": [
      "42/42 [==============================] - 23s 550ms/step - loss: 0.0099 - semantic_0_loss: 0.0027 - semantic_1_loss: 0.0060 - semantic_2_loss: 0.0011 - lr: 1.4520e-05\n",
      "Epoch 194/200\n",
      "42/42 [==============================] - ETA: 0s - loss: 0.0101 - semantic_0_loss: 0.0028 - semantic_1_loss: 0.0061 - semantic_2_loss: 0.0011WARNING:tensorflow:Can save best model only with val_loss available, skipping.\n"
     ]
    },
    {
     "name": "stderr",
     "output_type": "stream",
     "text": [
      "WARNING:tensorflow:Can save best model only with val_loss available, skipping.\n"
     ]
    },
    {
     "name": "stdout",
     "output_type": "stream",
     "text": [
      "42/42 [==============================] - 23s 556ms/step - loss: 0.0101 - semantic_0_loss: 0.0028 - semantic_1_loss: 0.0061 - semantic_2_loss: 0.0011 - lr: 1.4374e-05\n",
      "Epoch 195/200\n",
      "42/42 [==============================] - ETA: 0s - loss: 0.0101 - semantic_0_loss: 0.0028 - semantic_1_loss: 0.0061 - semantic_2_loss: 0.0011WARNING:tensorflow:Can save best model only with val_loss available, skipping.\n"
     ]
    },
    {
     "name": "stderr",
     "output_type": "stream",
     "text": [
      "WARNING:tensorflow:Can save best model only with val_loss available, skipping.\n"
     ]
    },
    {
     "name": "stdout",
     "output_type": "stream",
     "text": [
      "42/42 [==============================] - 24s 572ms/step - loss: 0.0101 - semantic_0_loss: 0.0028 - semantic_1_loss: 0.0061 - semantic_2_loss: 0.0011 - lr: 1.4231e-05\n",
      "Epoch 196/200\n",
      "42/42 [==============================] - ETA: 0s - loss: 0.0101 - semantic_0_loss: 0.0028 - semantic_1_loss: 0.0062 - semantic_2_loss: 0.0011WARNING:tensorflow:Can save best model only with val_loss available, skipping.\n"
     ]
    },
    {
     "name": "stderr",
     "output_type": "stream",
     "text": [
      "WARNING:tensorflow:Can save best model only with val_loss available, skipping.\n"
     ]
    },
    {
     "name": "stdout",
     "output_type": "stream",
     "text": [
      "42/42 [==============================] - 24s 571ms/step - loss: 0.0101 - semantic_0_loss: 0.0028 - semantic_1_loss: 0.0062 - semantic_2_loss: 0.0011 - lr: 1.4088e-05\n",
      "Epoch 197/200\n",
      "42/42 [==============================] - ETA: 0s - loss: 0.0100 - semantic_0_loss: 0.0028 - semantic_1_loss: 0.0061 - semantic_2_loss: 0.0011WARNING:tensorflow:Can save best model only with val_loss available, skipping.\n"
     ]
    },
    {
     "name": "stderr",
     "output_type": "stream",
     "text": [
      "WARNING:tensorflow:Can save best model only with val_loss available, skipping.\n"
     ]
    },
    {
     "name": "stdout",
     "output_type": "stream",
     "text": [
      "42/42 [==============================] - 24s 567ms/step - loss: 0.0100 - semantic_0_loss: 0.0028 - semantic_1_loss: 0.0061 - semantic_2_loss: 0.0011 - lr: 1.3948e-05\n",
      "Epoch 198/200\n",
      "42/42 [==============================] - ETA: 0s - loss: 0.0099 - semantic_0_loss: 0.0028 - semantic_1_loss: 0.0060 - semantic_2_loss: 0.0011WARNING:tensorflow:Can save best model only with val_loss available, skipping.\n"
     ]
    },
    {
     "name": "stderr",
     "output_type": "stream",
     "text": [
      "WARNING:tensorflow:Can save best model only with val_loss available, skipping.\n"
     ]
    },
    {
     "name": "stdout",
     "output_type": "stream",
     "text": [
      "42/42 [==============================] - 24s 556ms/step - loss: 0.0099 - semantic_0_loss: 0.0028 - semantic_1_loss: 0.0060 - semantic_2_loss: 0.0011 - lr: 1.3808e-05\n",
      "Epoch 199/200\n",
      "42/42 [==============================] - ETA: 0s - loss: 0.0100 - semantic_0_loss: 0.0028 - semantic_1_loss: 0.0061 - semantic_2_loss: 0.0011WARNING:tensorflow:Can save best model only with val_loss available, skipping.\n"
     ]
    },
    {
     "name": "stderr",
     "output_type": "stream",
     "text": [
      "WARNING:tensorflow:Can save best model only with val_loss available, skipping.\n"
     ]
    },
    {
     "name": "stdout",
     "output_type": "stream",
     "text": [
      "42/42 [==============================] - 23s 550ms/step - loss: 0.0100 - semantic_0_loss: 0.0028 - semantic_1_loss: 0.0061 - semantic_2_loss: 0.0011 - lr: 1.3670e-05\n",
      "Epoch 200/200\n",
      "42/42 [==============================] - ETA: 0s - loss: 0.0102 - semantic_0_loss: 0.0029 - semantic_1_loss: 0.0062 - semantic_2_loss: 0.0011WARNING:tensorflow:Can save best model only with val_loss available, skipping.\n"
     ]
    },
    {
     "name": "stderr",
     "output_type": "stream",
     "text": [
      "WARNING:tensorflow:Can save best model only with val_loss available, skipping.\n"
     ]
    },
    {
     "name": "stdout",
     "output_type": "stream",
     "text": [
      "\b\b\b\b\b\b\b\b\b\b\b\b\b\b\b\b\b\b\b\b\b\b\b\b\b\b\b\b\b\b\b\b\b\b\b\b\b\b\b\b\b\b\b\b\b\b\b\b\b\b\b\b\b\b\b\b\b\b\b\b\b\b\b\b\b\b\b\b\b\b\b\b\b\b\b\b\b\b\b\b\b\b\b\b\b\b\b\b\b\b\b\b\b\b\b\b\b\b\b\b\b\b\b\b\b\b\b\b\b\b\b\b\b\b\b\b\b\b\b\b\b\b\b\b\b\b\b\b\b\b\b\b\b\b\b\b\b\b\b\b\b\r",
      "42/42 [==============================] - 24s 569ms/step - loss: 0.0102 - semantic_0_loss: 0.0029 - semantic_1_loss: 0.0062 - semantic_2_loss: 0.0011 - lr: 1.3533e-05\n"
     ]
    }
   ],
   "source": [
    "# fit the model\n",
    "print('Training on', count_gpus(), 'GPUs.')\n",
    "\n",
    "train_callbacks = get_callbacks(\n",
    "    model_path,\n",
    "    lr_sched=lr_sched,\n",
    "#     monitor=\"val_loss\",\n",
    "    # monitor='loss', # training loss\n",
    "    verbose=1)          \n",
    "            \n",
    "loss_history = model.fit(\n",
    "    train_data,\n",
    "    steps_per_epoch=train_data.y.shape[0] // batch_size, # \n",
    "    epochs=epochs, \n",
    "#     validation_data=val_data,\n",
    "#     validation_steps=val_data.y.shape[0] // batch_size,\n",
    "    callbacks=train_callbacks)\n",
    "\n",
    "model.save_weights(model_path)"
   ]
  },
  {
   "cell_type": "markdown",
   "id": "42277d43",
   "metadata": {},
   "source": [
    "**Make prediction on K's data.**<br>\n",
    "Using NuclearSegmentation allows setting image_mpp, which has a substantial influence on performance."
   ]
  },
  {
   "cell_type": "code",
   "execution_count": 18,
   "id": "dbf36df1",
   "metadata": {
    "execution": {
     "iopub.execute_input": "2022-11-04T03:24:35.108702Z",
     "iopub.status.busy": "2022-11-04T03:24:35.107424Z",
     "iopub.status.idle": "2022-11-04T03:24:45.825318Z",
     "shell.execute_reply": "2022-11-04T03:24:45.826202Z"
    }
   },
   "outputs": [],
   "source": [
    "prediction_model = PanopticNet(\n",
    "    backbone='resnet50',\n",
    "    norm_method='whole_image',\n",
    "    num_semantic_classes=[1, 1], # inner distance, outer distance\n",
    "    input_shape= (512,512,1)\n",
    ")\n",
    "\n",
    "prediction_model.load_weights(model_path, by_name=True)"
   ]
  },
  {
   "cell_type": "code",
   "execution_count": 19,
   "id": "37a766dc",
   "metadata": {
    "execution": {
     "iopub.execute_input": "2022-11-04T03:24:45.835181Z",
     "iopub.status.busy": "2022-11-04T03:24:45.834069Z",
     "iopub.status.idle": "2022-11-04T03:24:45.838025Z",
     "shell.execute_reply": "2022-11-04T03:24:45.838934Z"
    }
   },
   "outputs": [
    {
     "data": {
      "text/plain": [
       "[('semantic_0', (None, 512, 512, 1)), ('semantic_1', (None, 512, 512, 1))]"
      ]
     },
     "execution_count": 19,
     "metadata": {},
     "output_type": "execute_result"
    }
   ],
   "source": [
    "from deepcell.applications import NuclearSegmentation\n",
    "app = NuclearSegmentation(prediction_model)\n",
    "[(layer.name, layer.output_shape) for layer in filter(lambda x: x.name.startswith('semantic_'), app.model.layers)]"
   ]
  },
  {
   "cell_type": "code",
   "execution_count": 20,
   "id": "20301e2d",
   "metadata": {
    "execution": {
     "iopub.execute_input": "2022-11-04T03:24:45.843988Z",
     "iopub.status.busy": "2022-11-04T03:24:45.843414Z",
     "iopub.status.idle": "2022-11-04T03:24:45.850937Z",
     "shell.execute_reply": "2022-11-04T03:24:45.850447Z"
    }
   },
   "outputs": [
    {
     "name": "stdout",
     "output_type": "stream",
     "text": [
      "/home/yfong/deeplearning/dense_cell_segmentation\n",
      "['M926910_CFL_Position7_CD3_test_img.png', 'M872956_JML_Position10_CD3_test_img.png', 'M872956_JML_Position8_CD8_test_img.png', 'M926910_CFL_Position13_CD3_test_img.png', 'M872956_JML_Position8_CD3_test_img.png', 'M872956_JML_Position8_CD4_test_img.png', 'M872956_JML_Position9_CD3_test_img.png']\n"
     ]
    }
   ],
   "source": [
    "import os\n",
    "print(os.getcwd())\n",
    "INPUT_PATH=\"images/test/\"\n",
    "FILENAMES = [f for f in os.listdir(\"images/training/testimages\")]\n",
    "print(FILENAMES)"
   ]
  },
  {
   "cell_type": "code",
   "execution_count": null,
   "id": "a2eaeaa5",
   "metadata": {
    "execution": {
     "iopub.execute_input": "2022-11-04T03:24:45.865414Z",
     "iopub.status.busy": "2022-11-04T03:24:45.854276Z",
     "iopub.status.idle": "2022-11-04T03:29:13.500410Z",
     "shell.execute_reply": "2022-11-04T03:29:13.501324Z"
    }
   },
   "outputs": [],
   "source": [
    "# more detailed mapping of image_mpp parameter\n",
    "mpps=np.linspace(start=1, stop=2, num=6)\n",
    "\n",
    "AP_mat=[]\n",
    "for CURR_IM_NAME in FILENAMES:\n",
    "    print(CURR_IM_NAME)\n",
    "    im0 = io.imread(os.path.join(INPUT_PATH, CURR_IM_NAME))\n",
    "    mask_true=io.imread(os.path.join(INPUT_PATH, CURR_IM_NAME.replace(\"img\",\"masks\")))\n",
    "\n",
    "    x = np.expand_dims(im0, axis=-1)\n",
    "    x = np.expand_dims(x, axis=0)\n",
    "    y, tile_info = app._tile_input(x)\n",
    "    AP_arr=[]\n",
    "    for mpp in mpps:\n",
    "        prd = app._untile_output(app.predict(y, image_mpp=mpp), tile_info)[0,:,:,0]\n",
    "        a=syotil.csi(mask_true, prd)\n",
    "        AP_arr.append(a)\n",
    "    AP_mat.append(AP_arr)\n",
    "print(AP_mat)\n",
    "print(mpps)\n",
    "[x.index(np.max(x)) for x in AP_mat]"
   ]
  },
  {
   "cell_type": "code",
   "execution_count": 25,
   "id": "f31fa740",
   "metadata": {
    "execution": {
     "iopub.execute_input": "2022-11-04T03:29:13.509703Z",
     "iopub.status.busy": "2022-11-04T03:29:13.509121Z",
     "iopub.status.idle": "2022-11-04T03:29:59.849150Z",
     "shell.execute_reply": "2022-11-04T03:29:59.850055Z"
    }
   },
   "outputs": [
    {
     "name": "stdout",
     "output_type": "stream",
     "text": [
      "(1, 1040, 233, 1)\n",
      "(1, 1568, 512, 1)\n",
      "{'padding': True, 'x_pad': (264, 264), 'y_pad': (139, 140)}\n"
     ]
    },
    {
     "name": "stderr",
     "output_type": "stream",
     "text": [
      "/tmp/ipykernel_22672/1373447621.py:17: UserWarning: M926910_CFL_Position7_CD3_test_img.png_dcmasks.png is a low contrast image\n",
      "  io.imsave(\"{}_dcmasks.png\".format(CURR_IM_NAME), np.array(prd[0,:,:,0], dtype=np.uint16))\n"
     ]
    },
    {
     "name": "stdout",
     "output_type": "stream",
     "text": [
      "(1, 1040, 233, 1)\n",
      "(1, 1568, 512, 1)\n",
      "{'padding': True, 'x_pad': (264, 264), 'y_pad': (139, 140)}\n"
     ]
    },
    {
     "name": "stderr",
     "output_type": "stream",
     "text": [
      "/tmp/ipykernel_22672/1373447621.py:17: UserWarning: M872956_JML_Position10_CD3_test_img.png_dcmasks.png is a low contrast image\n",
      "  io.imsave(\"{}_dcmasks.png\".format(CURR_IM_NAME), np.array(prd[0,:,:,0], dtype=np.uint16))\n"
     ]
    },
    {
     "name": "stdout",
     "output_type": "stream",
     "text": [
      "(1, 1040, 233, 1)\n",
      "(1, 1568, 512, 1)\n",
      "{'padding': True, 'x_pad': (264, 264), 'y_pad': (139, 140)}\n"
     ]
    },
    {
     "name": "stderr",
     "output_type": "stream",
     "text": [
      "/tmp/ipykernel_22672/1373447621.py:17: UserWarning: M872956_JML_Position8_CD8_test_img.png_dcmasks.png is a low contrast image\n",
      "  io.imsave(\"{}_dcmasks.png\".format(CURR_IM_NAME), np.array(prd[0,:,:,0], dtype=np.uint16))\n"
     ]
    },
    {
     "name": "stdout",
     "output_type": "stream",
     "text": [
      "(1, 1040, 233, 1)\n",
      "(1, 1568, 512, 1)\n",
      "{'padding': True, 'x_pad': (264, 264), 'y_pad': (139, 140)}\n"
     ]
    },
    {
     "name": "stderr",
     "output_type": "stream",
     "text": [
      "/tmp/ipykernel_22672/1373447621.py:17: UserWarning: M926910_CFL_Position13_CD3_test_img.png_dcmasks.png is a low contrast image\n",
      "  io.imsave(\"{}_dcmasks.png\".format(CURR_IM_NAME), np.array(prd[0,:,:,0], dtype=np.uint16))\n"
     ]
    },
    {
     "name": "stdout",
     "output_type": "stream",
     "text": [
      "(1, 1040, 233, 1)\n",
      "(1, 1568, 512, 1)\n",
      "{'padding': True, 'x_pad': (264, 264), 'y_pad': (139, 140)}\n"
     ]
    },
    {
     "name": "stderr",
     "output_type": "stream",
     "text": [
      "/tmp/ipykernel_22672/1373447621.py:17: UserWarning: M872956_JML_Position8_CD3_test_img.png_dcmasks.png is a low contrast image\n",
      "  io.imsave(\"{}_dcmasks.png\".format(CURR_IM_NAME), np.array(prd[0,:,:,0], dtype=np.uint16))\n"
     ]
    },
    {
     "name": "stdout",
     "output_type": "stream",
     "text": [
      "(1, 1040, 233, 1)\n",
      "(1, 1568, 512, 1)\n",
      "{'padding': True, 'x_pad': (264, 264), 'y_pad': (139, 140)}\n"
     ]
    },
    {
     "name": "stderr",
     "output_type": "stream",
     "text": [
      "/tmp/ipykernel_22672/1373447621.py:17: UserWarning: M872956_JML_Position8_CD4_test_img.png_dcmasks.png is a low contrast image\n",
      "  io.imsave(\"{}_dcmasks.png\".format(CURR_IM_NAME), np.array(prd[0,:,:,0], dtype=np.uint16))\n"
     ]
    },
    {
     "name": "stdout",
     "output_type": "stream",
     "text": [
      "(1, 1040, 233, 1)\n",
      "(1, 1568, 512, 1)\n",
      "{'padding': True, 'x_pad': (264, 264), 'y_pad': (139, 140)}\n",
      "{'M926910_CFL_Position7_CD3_test_img.png': 0.40813253012048195, 'M872956_JML_Position10_CD3_test_img.png': 0.4517241379310345, 'M872956_JML_Position8_CD8_test_img.png': 0.49261083743842365, 'M926910_CFL_Position13_CD3_test_img.png': 0.39903846153846156, 'M872956_JML_Position8_CD3_test_img.png': 0.5721830985915493, 'M872956_JML_Position8_CD4_test_img.png': 0.5966183574879227, 'M872956_JML_Position9_CD3_test_img.png': 0.46060606060606063, 'mAP': 0.48298764053056203}\n"
     ]
    },
    {
     "name": "stderr",
     "output_type": "stream",
     "text": [
      "/tmp/ipykernel_22672/1373447621.py:17: UserWarning: M872956_JML_Position9_CD3_test_img.png_dcmasks.png is a low contrast image\n",
      "  io.imsave(\"{}_dcmasks.png\".format(CURR_IM_NAME), np.array(prd[0,:,:,0], dtype=np.uint16))\n"
     ]
    }
   ],
   "source": [
    "mpp_select=1.3\n",
    "\n",
    "APs={}\n",
    "for CURR_IM_NAME in FILENAMES:\n",
    "    im0 = io.imread(os.path.join(INPUT_PATH, CURR_IM_NAME))\n",
    "    mask_true=io.imread(os.path.join(INPUT_PATH, CURR_IM_NAME.replace(\"img\",\"masks\")))\n",
    "\n",
    "    x = np.expand_dims(im0, axis=-1)\n",
    "    x = np.expand_dims(x, axis=0)\n",
    "    y, tile_info = app._tile_input(x)\n",
    "    print(x.shape)\n",
    "    print(y.shape)\n",
    "    print(tile_info)\n",
    "    pred = app.predict(y, image_mpp=mpp_select)\n",
    "    prd = app._untile_output(pred, tile_info)\n",
    "    #io.imshow(prd[0,:,:,0])\n",
    "    #io.imsave(CURR_IM_NAME.replace(\"img\",\"dcmasks\"), np.array(prd[0,:,:,0], dtype=np.uint16))\n",
    "    \n",
    "    APs[CURR_IM_NAME] = syotil.csi(mask_true, prd[0,:,:,0])# masks may lose one pixel if dimension is odd pixels\n",
    "\n",
    "APs[\"mAP\"]=np.mean(list(APs.values()))\n",
    "print(APs)"
   ]
  },
  {
   "cell_type": "code",
   "execution_count": null,
   "id": "7bc06419",
   "metadata": {
    "execution": {
     "iopub.execute_input": "2022-11-04T03:29:59.859796Z",
     "iopub.status.busy": "2022-11-04T03:29:59.858704Z",
     "iopub.status.idle": "2022-11-04T03:29:59.883456Z",
     "shell.execute_reply": "2022-11-04T03:29:59.884238Z"
    }
   },
   "outputs": [],
   "source": [
    "import pandas as pd\n",
    "df = pd.DataFrame([FILENAMES+[\"mAP\"], list(APs.values())])\n",
    "print(df.transpose())\n",
    "df.to_csv('images/training/csi_'+model_name+'.txt', index=False, header=False)"
   ]
  },
  {
   "cell_type": "markdown",
   "id": "520fe391",
   "metadata": {},
   "source": [
    "**mAP**<br>\n",
    "image_mpp=1:   0.41<br>\n",
    "image_mpp=1.3: 0.48<br>"
   ]
  }
 ],
 "metadata": {
  "kernelspec": {
   "display_name": "Python 3 (ipykernel)",
   "language": "python",
   "name": "python3"
  },
  "language_info": {
   "codemirror_mode": {
    "name": "ipython",
    "version": 3
   },
   "file_extension": ".py",
   "mimetype": "text/x-python",
   "name": "python",
   "nbconvert_exporter": "python",
   "pygments_lexer": "ipython3",
   "version": "3.9.6"
  }
 },
 "nbformat": 4,
 "nbformat_minor": 5
}
