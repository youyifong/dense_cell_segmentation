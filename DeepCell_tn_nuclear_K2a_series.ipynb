{
 "cells": [
  {
   "cell_type": "markdown",
   "id": "fa5c87fb",
   "metadata": {},
   "source": [
    "**Further train DeepCell Models with K's Data and Make Predictions**<br>\n",
    "Starting from model trained with tn nuclear data, further train the model with resized K's images that is cut into 25 512x512 patches, one image at a time.\n",
    "200 epochs, semanticdatagenerator, resized<br>"
   ]
  },
  {
   "cell_type": "code",
   "execution_count": 1,
   "id": "969e7134",
   "metadata": {
    "execution": {
     "iopub.execute_input": "2022-11-06T16:49:01.459533Z",
     "iopub.status.busy": "2022-11-06T16:49:01.458213Z",
     "iopub.status.idle": "2022-11-06T16:49:01.461680Z",
     "shell.execute_reply": "2022-11-06T16:49:01.460803Z"
    }
   },
   "outputs": [],
   "source": [
    "starting_model_path = 'tn1.0_nuclear_20221102.h5' # the model trained with nucleus data from the Tissuenet V1.0 dataset\n",
    "epochs=200 # 20 sec per step "
   ]
  },
  {
   "cell_type": "code",
   "execution_count": 2,
   "id": "5760ef98",
   "metadata": {
    "execution": {
     "iopub.execute_input": "2022-11-06T16:49:01.470717Z",
     "iopub.status.busy": "2022-11-06T16:49:01.469804Z",
     "iopub.status.idle": "2022-11-06T16:49:50.964739Z",
     "shell.execute_reply": "2022-11-06T16:49:50.965743Z"
    }
   },
   "outputs": [
    {
     "name": "stdout",
     "output_type": "stream",
     "text": [
      "2.7.1\n",
      "0.11.1\n"
     ]
    }
   ],
   "source": [
    "import syotil\n",
    "\n",
    "import numpy as np\n",
    "from skimage import io\n",
    "from matplotlib import pyplot as plt\n",
    "%matplotlib inline\n",
    "from timeit import default_timer\n",
    "import os\n",
    "from skimage import img_as_ubyte\n",
    "\n",
    "import deepcell\n",
    "from deepcell import image_generators\n",
    "from deepcell.utils.train_utils import rate_scheduler, get_callbacks, count_gpus\n",
    "from deepcell_toolbox.utils import resize, tile_image, untile_image\n",
    "from deepcell_toolbox.deep_watershed import deep_watershed\n",
    "from deepcell.losses import weighted_categorical_crossentropy\n",
    "from deepcell.model_zoo.panopticnet import PanopticNet\n",
    "\n",
    "import tensorflow as tf\n",
    "from tensorflow.keras.optimizers import SGD, Adam\n",
    "from tensorflow.keras.losses import MSE\n",
    "\n",
    "print(tf.__version__)\n",
    "print(deepcell.__version__)"
   ]
  },
  {
   "cell_type": "code",
   "execution_count": 3,
   "id": "6a3d724c",
   "metadata": {
    "execution": {
     "iopub.execute_input": "2022-11-06T16:49:51.002487Z",
     "iopub.status.busy": "2022-11-06T16:49:51.001208Z",
     "iopub.status.idle": "2022-11-06T22:05:32.486056Z",
     "shell.execute_reply": "2022-11-06T22:05:32.487031Z"
    }
   },
   "outputs": [
    {
     "name": "stdout",
     "output_type": "stream",
     "text": [
      "1\n",
      "(1, 1040, 1159, 1)\n",
      "(1, 1040, 1159, 1)\n",
      "2.0\n"
     ]
    },
    {
     "name": "stderr",
     "output_type": "stream",
     "text": [
      "2022-11-06 08:49:56.594887: I tensorflow/core/common_runtime/gpu/gpu_device.cc:1525] Created device /job:localhost/replica:0/task:0/device:GPU:0 with 14657 MB memory:  -> device: 0, name: Tesla V100-PCIE-16GB, pci bus id: 0000:04:00.0, compute capability: 7.0\n",
      "2022-11-06 08:49:56.618259: I tensorflow/core/common_runtime/gpu/gpu_device.cc:1525] Created device /job:localhost/replica:0/task:0/device:GPU:1 with 14657 MB memory:  -> device: 1, name: Tesla V100-PCIE-16GB, pci bus id: 0000:06:00.0, compute capability: 7.0\n",
      "2022-11-06 08:49:56.620362: I tensorflow/core/common_runtime/gpu/gpu_device.cc:1525] Created device /job:localhost/replica:0/task:0/device:GPU:2 with 14657 MB memory:  -> device: 2, name: Tesla V100-PCIE-16GB, pci bus id: 0000:08:00.0, compute capability: 7.0\n"
     ]
    },
    {
     "name": "stdout",
     "output_type": "stream",
     "text": [
      "(1, 2080, 2318, 1)\n",
      "(1, 2080, 2318, 1)\n",
      "(1, 2080, 2318, 1)\n",
      "(1, 2080, 2318, 1)\n",
      "[0, 400, 800, 1200, 1568]\n",
      "[512, 912, 1312, 1712, 2080]\n",
      "[0, 512, 1024, 1536, 1806]\n",
      "[512, 1024, 1536, 2048, 2318]\n",
      "(25, 512, 512, 1)\n",
      "(25, 512, 512, 1)\n",
      "WARNING:tensorflow:Removing 4 of 25 images with fewer than 5 objects.\n"
     ]
    },
    {
     "name": "stderr",
     "output_type": "stream",
     "text": [
      "2022-11-06 08:49:57.442132: W tensorflow/python/util/util.cc:368] Sets are not currently considered sequences, but this may change in the future, so consider avoiding using them.\n",
      "/app/software/TensorFlow/2.7.1-foss-2021b-CUDA-11.4.1/lib/python3.9/site-packages/keras/optimizer_v2/adam.py:105: UserWarning: The `lr` argument is deprecated, use `learning_rate` instead.\n",
      "  super(Adam, self).__init__(name, **kwargs)\n"
     ]
    },
    {
     "name": "stdout",
     "output_type": "stream",
     "text": [
      "Training on 3 GPUs.\n"
     ]
    },
    {
     "name": "stderr",
     "output_type": "stream",
     "text": [
      "2022-11-06 08:50:05.766112: I tensorflow/core/common_runtime/gpu/gpu_device.cc:1525] Created device /device:GPU:0 with 14657 MB memory:  -> device: 0, name: Tesla V100-PCIE-16GB, pci bus id: 0000:04:00.0, compute capability: 7.0\n",
      "2022-11-06 08:50:05.767200: I tensorflow/core/common_runtime/gpu/gpu_device.cc:1525] Created device /device:GPU:1 with 14657 MB memory:  -> device: 1, name: Tesla V100-PCIE-16GB, pci bus id: 0000:06:00.0, compute capability: 7.0\n",
      "2022-11-06 08:50:05.768255: I tensorflow/core/common_runtime/gpu/gpu_device.cc:1525] Created device /device:GPU:2 with 14657 MB memory:  -> device: 2, name: Tesla V100-PCIE-16GB, pci bus id: 0000:08:00.0, compute capability: 7.0\n"
     ]
    },
    {
     "name": "stdout",
     "output_type": "stream",
     "text": [
      "Epoch 1/200\n"
     ]
    },
    {
     "name": "stderr",
     "output_type": "stream",
     "text": [
      "2022-11-06 08:50:25.549116: I tensorflow/stream_executor/cuda/cuda_dnn.cc:366] Loaded cuDNN version 8202\n"
     ]
    },
    {
     "name": "stdout",
     "output_type": "stream",
     "text": [
      "5/5 [==============================] - ETA: 0s - loss: 0.0113 - semantic_0_loss: 0.0023 - semantic_1_loss: 0.0049 - semantic_2_loss: 0.0041WARNING:tensorflow:Can save best model only with val_loss available, skipping.\n",
      "5/5 [==============================] - 43s 1s/step - loss: 0.0113 - semantic_0_loss: 0.0023 - semantic_1_loss: 0.0049 - semantic_2_loss: 0.0041 - lr: 1.0000e-04\n",
      "Epoch 2/200\n",
      "5/5 [==============================] - ETA: 0s - loss: 0.0064 - semantic_0_loss: 0.0013 - semantic_1_loss: 0.0037 - semantic_2_loss: 0.0014WARNING:tensorflow:Can save best model only with val_loss available, skipping.\n",
      "5/5 [==============================] - 2s 387ms/step - loss: 0.0064 - semantic_0_loss: 0.0013 - semantic_1_loss: 0.0037 - semantic_2_loss: 0.0014 - lr: 9.9000e-05\n",
      "Epoch 3/200\n",
      "5/5 [==============================] - ETA: 0s - loss: 0.0065 - semantic_0_loss: 0.0014 - semantic_1_loss: 0.0038 - semantic_2_loss: 0.0013WARNING:tensorflow:Can save best model only with val_loss available, skipping.\n",
      "5/5 [==============================] - 2s 370ms/step - loss: 0.0065 - semantic_0_loss: 0.0014 - semantic_1_loss: 0.0038 - semantic_2_loss: 0.0013 - lr: 9.8010e-05\n",
      "Epoch 4/200\n",
      "5/5 [==============================] - ETA: 0s - loss: 0.0057 - semantic_0_loss: 0.0013 - semantic_1_loss: 0.0033 - semantic_2_loss: 0.0011WARNING:tensorflow:Can save best model only with val_loss available, skipping.\n",
      "5/5 [==============================] - 2s 378ms/step - loss: 0.0057 - semantic_0_loss: 0.0013 - semantic_1_loss: 0.0033 - semantic_2_loss: 0.0011 - lr: 9.7030e-05\n",
      "Epoch 5/200\n",
      "5/5 [==============================] - ETA: 0s - loss: 0.0048 - semantic_0_loss: 0.0010 - semantic_1_loss: 0.0028 - semantic_2_loss: 9.8282e-04    WARNING:tensorflow:Can save best model only with val_loss available, skipping.\n",
      "5/5 [==============================] - 2s 382ms/step - loss: 0.0048 - semantic_0_loss: 0.0010 - semantic_1_loss: 0.0028 - semantic_2_loss: 9.8282e-04 - lr: 9.6060e-05\n",
      "Epoch 6/200\n",
      "5/5 [==============================] - ETA: 0s - loss: 0.0046 - semantic_0_loss: 0.0010 - semantic_1_loss: 0.0026 - semantic_2_loss: 9.0614e-04WARNING:tensorflow:Can save best model only with val_loss available, skipping.\n",
      "5/5 [==============================] - 2s 399ms/step - loss: 0.0046 - semantic_0_loss: 0.0010 - semantic_1_loss: 0.0026 - semantic_2_loss: 9.0614e-04 - lr: 9.5099e-05\n",
      "Epoch 7/200\n",
      "5/5 [==============================] - ETA: 0s - loss: 0.0053 - semantic_0_loss: 0.0012 - semantic_1_loss: 0.0030 - semantic_2_loss: 0.0010WARNING:tensorflow:Can save best model only with val_loss available, skipping.\n",
      "5/5 [==============================] - 2s 493ms/step - loss: 0.0053 - semantic_0_loss: 0.0012 - semantic_1_loss: 0.0030 - semantic_2_loss: 0.0010 - lr: 9.4148e-05\n",
      "Epoch 8/200\n",
      "5/5 [==============================] - ETA: 0s - loss: 0.0049 - semantic_0_loss: 0.0011 - semantic_1_loss: 0.0028 - semantic_2_loss: 9.5649e-04WARNING:tensorflow:Can save best model only with val_loss available, skipping.\n",
      "5/5 [==============================] - 2s 494ms/step - loss: 0.0049 - semantic_0_loss: 0.0011 - semantic_1_loss: 0.0028 - semantic_2_loss: 9.5649e-04 - lr: 9.3207e-05\n",
      "Epoch 9/200\n",
      "5/5 [==============================] - ETA: 0s - loss: 0.0050 - semantic_0_loss: 0.0012 - semantic_1_loss: 0.0029 - semantic_2_loss: 9.1267e-04WARNING:tensorflow:Can save best model only with val_loss available, skipping.\n",
      "5/5 [==============================] - 2s 402ms/step - loss: 0.0050 - semantic_0_loss: 0.0012 - semantic_1_loss: 0.0029 - semantic_2_loss: 9.1267e-04 - lr: 9.2274e-05\n",
      "Epoch 10/200\n",
      "5/5 [==============================] - ETA: 0s - loss: 0.0048 - semantic_0_loss: 0.0011 - semantic_1_loss: 0.0028 - semantic_2_loss: 9.3071e-04WARNING:tensorflow:Can save best model only with val_loss available, skipping.\n",
      "5/5 [==============================] - 3s 462ms/step - loss: 0.0048 - semantic_0_loss: 0.0011 - semantic_1_loss: 0.0028 - semantic_2_loss: 9.3071e-04 - lr: 9.1352e-05\n",
      "Epoch 11/200\n",
      "5/5 [==============================] - ETA: 0s - loss: 0.0052 - semantic_0_loss: 0.0012 - semantic_1_loss: 0.0030 - semantic_2_loss: 9.3669e-04WARNING:tensorflow:Can save best model only with val_loss available, skipping.\n",
      "5/5 [==============================] - 2s 509ms/step - loss: 0.0052 - semantic_0_loss: 0.0012 - semantic_1_loss: 0.0030 - semantic_2_loss: 9.3669e-04 - lr: 9.0438e-05\n",
      "Epoch 12/200\n",
      "5/5 [==============================] - ETA: 0s - loss: 0.0049 - semantic_0_loss: 0.0011 - semantic_1_loss: 0.0029 - semantic_2_loss: 9.4371e-04WARNING:tensorflow:Can save best model only with val_loss available, skipping.\n",
      "5/5 [==============================] - 2s 505ms/step - loss: 0.0049 - semantic_0_loss: 0.0011 - semantic_1_loss: 0.0029 - semantic_2_loss: 9.4371e-04 - lr: 8.9534e-05\n",
      "Epoch 13/200\n",
      "5/5 [==============================] - ETA: 0s - loss: 0.0041 - semantic_0_loss: 9.3442e-04 - semantic_1_loss: 0.0023 - semantic_2_loss: 8.5063e-04WARNING:tensorflow:Can save best model only with val_loss available, skipping.\n",
      "5/5 [==============================] - 2s 362ms/step - loss: 0.0041 - semantic_0_loss: 9.3442e-04 - semantic_1_loss: 0.0023 - semantic_2_loss: 8.5063e-04 - lr: 8.8638e-05\n",
      "Epoch 14/200\n",
      "5/5 [==============================] - ETA: 0s - loss: 0.0042 - semantic_0_loss: 9.6268e-04 - semantic_1_loss: 0.0024 - semantic_2_loss: 8.3015e-04WARNING:tensorflow:Can save best model only with val_loss available, skipping.\n",
      "5/5 [==============================] - 2s 396ms/step - loss: 0.0042 - semantic_0_loss: 9.6268e-04 - semantic_1_loss: 0.0024 - semantic_2_loss: 8.3015e-04 - lr: 8.7752e-05\n",
      "Epoch 15/200\n",
      "5/5 [==============================] - ETA: 0s - loss: 0.0043 - semantic_0_loss: 0.0010 - semantic_1_loss: 0.0025 - semantic_2_loss: 8.4802e-04    WARNING:tensorflow:Can save best model only with val_loss available, skipping.\n",
      "5/5 [==============================] - 2s 454ms/step - loss: 0.0043 - semantic_0_loss: 0.0010 - semantic_1_loss: 0.0025 - semantic_2_loss: 8.4802e-04 - lr: 8.6875e-05\n",
      "Epoch 16/200\n",
      "5/5 [==============================] - ETA: 0s - loss: 0.0040 - semantic_0_loss: 9.4708e-04 - semantic_1_loss: 0.0023 - semantic_2_loss: 7.9315e-04WARNING:tensorflow:Can save best model only with val_loss available, skipping.\n",
      "5/5 [==============================] - 2s 370ms/step - loss: 0.0040 - semantic_0_loss: 9.4708e-04 - semantic_1_loss: 0.0023 - semantic_2_loss: 7.9315e-04 - lr: 8.6006e-05\n",
      "Epoch 17/200\n",
      "5/5 [==============================] - ETA: 0s - loss: 0.0043 - semantic_0_loss: 9.7978e-04 - semantic_1_loss: 0.0024 - semantic_2_loss: 8.4462e-04WARNING:tensorflow:Can save best model only with val_loss available, skipping.\n",
      "5/5 [==============================] - 2s 396ms/step - loss: 0.0043 - semantic_0_loss: 9.7978e-04 - semantic_1_loss: 0.0024 - semantic_2_loss: 8.4462e-04 - lr: 8.5146e-05\n",
      "Epoch 18/200\n",
      "5/5 [==============================] - ETA: 0s - loss: 0.0048 - semantic_0_loss: 0.0011 - semantic_1_loss: 0.0027 - semantic_2_loss: 9.1199e-04WARNING:tensorflow:Can save best model only with val_loss available, skipping.\n",
      "5/5 [==============================] - 2s 490ms/step - loss: 0.0048 - semantic_0_loss: 0.0011 - semantic_1_loss: 0.0027 - semantic_2_loss: 9.1199e-04 - lr: 8.4294e-05\n",
      "Epoch 19/200\n",
      "5/5 [==============================] - ETA: 0s - loss: 0.0043 - semantic_0_loss: 9.8752e-04 - semantic_1_loss: 0.0024 - semantic_2_loss: 8.3065e-04WARNING:tensorflow:Can save best model only with val_loss available, skipping.\n",
      "5/5 [==============================] - 2s 394ms/step - loss: 0.0043 - semantic_0_loss: 9.8752e-04 - semantic_1_loss: 0.0024 - semantic_2_loss: 8.3065e-04 - lr: 8.3451e-05\n",
      "Epoch 20/200\n",
      "5/5 [==============================] - ETA: 0s - loss: 0.0045 - semantic_0_loss: 0.0011 - semantic_1_loss: 0.0026 - semantic_2_loss: 8.6024e-04WARNING:tensorflow:Can save best model only with val_loss available, skipping.\n",
      "5/5 [==============================] - 2s 394ms/step - loss: 0.0045 - semantic_0_loss: 0.0011 - semantic_1_loss: 0.0026 - semantic_2_loss: 8.6024e-04 - lr: 8.2617e-05\n",
      "Epoch 21/200\n",
      "5/5 [==============================] - ETA: 0s - loss: 0.0040 - semantic_0_loss: 9.3533e-04 - semantic_1_loss: 0.0023 - semantic_2_loss: 7.5951e-04WARNING:tensorflow:Can save best model only with val_loss available, skipping.\n",
      "5/5 [==============================] - 2s 394ms/step - loss: 0.0040 - semantic_0_loss: 9.3533e-04 - semantic_1_loss: 0.0023 - semantic_2_loss: 7.5951e-04 - lr: 8.1791e-05\n",
      "Epoch 22/200\n",
      "5/5 [==============================] - ETA: 0s - loss: 0.0039 - semantic_0_loss: 9.3321e-04 - semantic_1_loss: 0.0022 - semantic_2_loss: 7.6131e-04WARNING:tensorflow:Can save best model only with val_loss available, skipping.\n",
      "5/5 [==============================] - 2s 365ms/step - loss: 0.0039 - semantic_0_loss: 9.3321e-04 - semantic_1_loss: 0.0022 - semantic_2_loss: 7.6131e-04 - lr: 8.0973e-05\n",
      "Epoch 23/200\n",
      "5/5 [==============================] - ETA: 0s - loss: 0.0041 - semantic_0_loss: 9.7166e-04 - semantic_1_loss: 0.0024 - semantic_2_loss: 8.1052e-04WARNING:tensorflow:Can save best model only with val_loss available, skipping.\n",
      "5/5 [==============================] - 2s 491ms/step - loss: 0.0041 - semantic_0_loss: 9.7166e-04 - semantic_1_loss: 0.0024 - semantic_2_loss: 8.1052e-04 - lr: 8.0163e-05\n",
      "Epoch 24/200\n",
      "5/5 [==============================] - ETA: 0s - loss: 0.0036 - semantic_0_loss: 8.5963e-04 - semantic_1_loss: 0.0020 - semantic_2_loss: 7.1926e-04WARNING:tensorflow:Can save best model only with val_loss available, skipping.\n",
      "5/5 [==============================] - 2s 511ms/step - loss: 0.0036 - semantic_0_loss: 8.5963e-04 - semantic_1_loss: 0.0020 - semantic_2_loss: 7.1926e-04 - lr: 7.9361e-05\n",
      "Epoch 25/200\n",
      "5/5 [==============================] - ETA: 0s - loss: 0.0047 - semantic_0_loss: 0.0011 - semantic_1_loss: 0.0027 - semantic_2_loss: 9.0405e-04WARNING:tensorflow:Can save best model only with val_loss available, skipping.\n",
      "5/5 [==============================] - 2s 497ms/step - loss: 0.0047 - semantic_0_loss: 0.0011 - semantic_1_loss: 0.0027 - semantic_2_loss: 9.0405e-04 - lr: 7.8568e-05\n",
      "Epoch 26/200\n",
      "5/5 [==============================] - ETA: 0s - loss: 0.0042 - semantic_0_loss: 9.9641e-04 - semantic_1_loss: 0.0024 - semantic_2_loss: 8.0509e-04WARNING:tensorflow:Can save best model only with val_loss available, skipping.\n",
      "5/5 [==============================] - 2s 414ms/step - loss: 0.0042 - semantic_0_loss: 9.9641e-04 - semantic_1_loss: 0.0024 - semantic_2_loss: 8.0509e-04 - lr: 7.7782e-05\n",
      "Epoch 27/200\n",
      "5/5 [==============================] - ETA: 0s - loss: 0.0037 - semantic_0_loss: 9.0424e-04 - semantic_1_loss: 0.0020 - semantic_2_loss: 7.5612e-04WARNING:tensorflow:Can save best model only with val_loss available, skipping.\n",
      "5/5 [==============================] - 2s 388ms/step - loss: 0.0037 - semantic_0_loss: 9.0424e-04 - semantic_1_loss: 0.0020 - semantic_2_loss: 7.5612e-04 - lr: 7.7004e-05\n",
      "Epoch 28/200\n",
      "5/5 [==============================] - ETA: 0s - loss: 0.0042 - semantic_0_loss: 0.0011 - semantic_1_loss: 0.0024 - semantic_2_loss: 8.0267e-04WARNING:tensorflow:Can save best model only with val_loss available, skipping.\n",
      "5/5 [==============================] - 2s 403ms/step - loss: 0.0042 - semantic_0_loss: 0.0011 - semantic_1_loss: 0.0024 - semantic_2_loss: 8.0267e-04 - lr: 7.6234e-05\n",
      "Epoch 29/200\n",
      "5/5 [==============================] - ETA: 0s - loss: 0.0041 - semantic_0_loss: 0.0010 - semantic_1_loss: 0.0023 - semantic_2_loss: 7.8554e-04    WARNING:tensorflow:Can save best model only with val_loss available, skipping.\n",
      "5/5 [==============================] - 2s 393ms/step - loss: 0.0041 - semantic_0_loss: 0.0010 - semantic_1_loss: 0.0023 - semantic_2_loss: 7.8554e-04 - lr: 7.5472e-05\n",
      "Epoch 30/200\n",
      "5/5 [==============================] - ETA: 0s - loss: 0.0039 - semantic_0_loss: 9.3599e-04 - semantic_1_loss: 0.0022 - semantic_2_loss: 7.7280e-04WARNING:tensorflow:Can save best model only with val_loss available, skipping.\n",
      "5/5 [==============================] - 3s 465ms/step - loss: 0.0039 - semantic_0_loss: 9.3599e-04 - semantic_1_loss: 0.0022 - semantic_2_loss: 7.7280e-04 - lr: 7.4717e-05\n",
      "Epoch 31/200\n",
      "5/5 [==============================] - ETA: 0s - loss: 0.0039 - semantic_0_loss: 9.3012e-04 - semantic_1_loss: 0.0022 - semantic_2_loss: 7.7759e-04WARNING:tensorflow:Can save best model only with val_loss available, skipping.\n",
      "5/5 [==============================] - 2s 375ms/step - loss: 0.0039 - semantic_0_loss: 9.3012e-04 - semantic_1_loss: 0.0022 - semantic_2_loss: 7.7759e-04 - lr: 7.3970e-05\n",
      "Epoch 32/200\n",
      "5/5 [==============================] - ETA: 0s - loss: 0.0043 - semantic_0_loss: 0.0010 - semantic_1_loss: 0.0024 - semantic_2_loss: 8.6576e-04WARNING:tensorflow:Can save best model only with val_loss available, skipping.\n",
      "5/5 [==============================] - 2s 383ms/step - loss: 0.0043 - semantic_0_loss: 0.0010 - semantic_1_loss: 0.0024 - semantic_2_loss: 8.6576e-04 - lr: 7.3230e-05\n",
      "Epoch 33/200\n",
      "5/5 [==============================] - ETA: 0s - loss: 0.0037 - semantic_0_loss: 8.6884e-04 - semantic_1_loss: 0.0021 - semantic_2_loss: 7.6420e-04WARNING:tensorflow:Can save best model only with val_loss available, skipping.\n",
      "5/5 [==============================] - 2s 402ms/step - loss: 0.0037 - semantic_0_loss: 8.6884e-04 - semantic_1_loss: 0.0021 - semantic_2_loss: 7.6420e-04 - lr: 7.2498e-05\n",
      "Epoch 34/200\n",
      "5/5 [==============================] - ETA: 0s - loss: 0.0040 - semantic_0_loss: 9.6377e-04 - semantic_1_loss: 0.0023 - semantic_2_loss: 7.9698e-04WARNING:tensorflow:Can save best model only with val_loss available, skipping.\n",
      "5/5 [==============================] - 2s 401ms/step - loss: 0.0040 - semantic_0_loss: 9.6377e-04 - semantic_1_loss: 0.0023 - semantic_2_loss: 7.9698e-04 - lr: 7.1773e-05\n",
      "Epoch 35/200\n",
      "5/5 [==============================] - ETA: 0s - loss: 0.0033 - semantic_0_loss: 7.7328e-04 - semantic_1_loss: 0.0018 - semantic_2_loss: 7.0055e-04WARNING:tensorflow:Can save best model only with val_loss available, skipping.\n",
      "5/5 [==============================] - 2s 361ms/step - loss: 0.0033 - semantic_0_loss: 7.7328e-04 - semantic_1_loss: 0.0018 - semantic_2_loss: 7.0055e-04 - lr: 7.1055e-05\n",
      "Epoch 36/200\n",
      "5/5 [==============================] - ETA: 0s - loss: 0.0041 - semantic_0_loss: 9.7059e-04 - semantic_1_loss: 0.0023 - semantic_2_loss: 8.4303e-04WARNING:tensorflow:Can save best model only with val_loss available, skipping.\n",
      "5/5 [==============================] - 2s 396ms/step - loss: 0.0041 - semantic_0_loss: 9.7059e-04 - semantic_1_loss: 0.0023 - semantic_2_loss: 8.4303e-04 - lr: 7.0345e-05\n",
      "Epoch 37/200\n",
      "5/5 [==============================] - ETA: 0s - loss: 0.0039 - semantic_0_loss: 9.4357e-04 - semantic_1_loss: 0.0022 - semantic_2_loss: 7.5442e-04WARNING:tensorflow:Can save best model only with val_loss available, skipping.\n",
      "5/5 [==============================] - 2s 390ms/step - loss: 0.0039 - semantic_0_loss: 9.4357e-04 - semantic_1_loss: 0.0022 - semantic_2_loss: 7.5442e-04 - lr: 6.9641e-05\n",
      "Epoch 38/200\n",
      "5/5 [==============================] - ETA: 0s - loss: 0.0034 - semantic_0_loss: 8.3007e-04 - semantic_1_loss: 0.0019 - semantic_2_loss: 6.8237e-04WARNING:tensorflow:Can save best model only with val_loss available, skipping.\n",
      "5/5 [==============================] - 2s 483ms/step - loss: 0.0034 - semantic_0_loss: 8.3007e-04 - semantic_1_loss: 0.0019 - semantic_2_loss: 6.8237e-04 - lr: 6.8945e-05\n",
      "Epoch 39/200\n",
      "5/5 [==============================] - ETA: 0s - loss: 0.0039 - semantic_0_loss: 9.7706e-04 - semantic_1_loss: 0.0021 - semantic_2_loss: 7.6773e-04WARNING:tensorflow:Can save best model only with val_loss available, skipping.\n",
      "5/5 [==============================] - 2s 391ms/step - loss: 0.0039 - semantic_0_loss: 9.7706e-04 - semantic_1_loss: 0.0021 - semantic_2_loss: 7.6773e-04 - lr: 6.8255e-05\n",
      "Epoch 40/200\n",
      "5/5 [==============================] - ETA: 0s - loss: 0.0045 - semantic_0_loss: 0.0011 - semantic_1_loss: 0.0026 - semantic_2_loss: 8.1526e-04WARNING:tensorflow:Can save best model only with val_loss available, skipping.\n",
      "5/5 [==============================] - 2s 414ms/step - loss: 0.0045 - semantic_0_loss: 0.0011 - semantic_1_loss: 0.0026 - semantic_2_loss: 8.1526e-04 - lr: 6.7573e-05\n",
      "Epoch 41/200\n",
      "5/5 [==============================] - ETA: 0s - loss: 0.0037 - semantic_0_loss: 9.2625e-04 - semantic_1_loss: 0.0021 - semantic_2_loss: 7.2384e-04WARNING:tensorflow:Can save best model only with val_loss available, skipping.\n",
      "5/5 [==============================] - 2s 362ms/step - loss: 0.0037 - semantic_0_loss: 9.2625e-04 - semantic_1_loss: 0.0021 - semantic_2_loss: 7.2384e-04 - lr: 6.6897e-05\n",
      "Epoch 42/200\n",
      "5/5 [==============================] - ETA: 0s - loss: 0.0036 - semantic_0_loss: 8.5867e-04 - semantic_1_loss: 0.0020 - semantic_2_loss: 7.4297e-04WARNING:tensorflow:Can save best model only with val_loss available, skipping.\n",
      "5/5 [==============================] - 2s 447ms/step - loss: 0.0036 - semantic_0_loss: 8.5867e-04 - semantic_1_loss: 0.0020 - semantic_2_loss: 7.4297e-04 - lr: 6.6228e-05\n",
      "Epoch 43/200\n",
      "5/5 [==============================] - ETA: 0s - loss: 0.0037 - semantic_0_loss: 9.3082e-04 - semantic_1_loss: 0.0020 - semantic_2_loss: 7.3783e-04WARNING:tensorflow:Can save best model only with val_loss available, skipping.\n",
      "5/5 [==============================] - 2s 395ms/step - loss: 0.0037 - semantic_0_loss: 9.3082e-04 - semantic_1_loss: 0.0020 - semantic_2_loss: 7.3783e-04 - lr: 6.5566e-05\n",
      "Epoch 44/200\n",
      "5/5 [==============================] - ETA: 0s - loss: 0.0040 - semantic_0_loss: 9.2449e-04 - semantic_1_loss: 0.0022 - semantic_2_loss: 7.9253e-04WARNING:tensorflow:Can save best model only with val_loss available, skipping.\n",
      "5/5 [==============================] - 2s 400ms/step - loss: 0.0040 - semantic_0_loss: 9.2449e-04 - semantic_1_loss: 0.0022 - semantic_2_loss: 7.9253e-04 - lr: 6.4910e-05\n",
      "Epoch 45/200\n",
      "5/5 [==============================] - ETA: 0s - loss: 0.0035 - semantic_0_loss: 8.4915e-04 - semantic_1_loss: 0.0019 - semantic_2_loss: 7.5065e-04WARNING:tensorflow:Can save best model only with val_loss available, skipping.\n",
      "5/5 [==============================] - 2s 385ms/step - loss: 0.0035 - semantic_0_loss: 8.4915e-04 - semantic_1_loss: 0.0019 - semantic_2_loss: 7.5065e-04 - lr: 6.4261e-05\n",
      "Epoch 46/200\n",
      "5/5 [==============================] - ETA: 0s - loss: 0.0037 - semantic_0_loss: 8.3945e-04 - semantic_1_loss: 0.0022 - semantic_2_loss: 7.4322e-04WARNING:tensorflow:Can save best model only with val_loss available, skipping.\n",
      "5/5 [==============================] - 2s 392ms/step - loss: 0.0037 - semantic_0_loss: 8.3945e-04 - semantic_1_loss: 0.0022 - semantic_2_loss: 7.4322e-04 - lr: 6.3619e-05\n",
      "Epoch 47/200\n",
      "5/5 [==============================] - ETA: 0s - loss: 0.0039 - semantic_0_loss: 9.4642e-04 - semantic_1_loss: 0.0022 - semantic_2_loss: 7.5205e-04WARNING:tensorflow:Can save best model only with val_loss available, skipping.\n",
      "5/5 [==============================] - 2s 407ms/step - loss: 0.0039 - semantic_0_loss: 9.4642e-04 - semantic_1_loss: 0.0022 - semantic_2_loss: 7.5205e-04 - lr: 6.2982e-05\n",
      "Epoch 48/200\n",
      "5/5 [==============================] - ETA: 0s - loss: 0.0041 - semantic_0_loss: 0.0010 - semantic_1_loss: 0.0023 - semantic_2_loss: 7.7768e-04    WARNING:tensorflow:Can save best model only with val_loss available, skipping.\n",
      "5/5 [==============================] - 2s 490ms/step - loss: 0.0041 - semantic_0_loss: 0.0010 - semantic_1_loss: 0.0023 - semantic_2_loss: 7.7768e-04 - lr: 6.2353e-05\n",
      "Epoch 49/200\n",
      "5/5 [==============================] - ETA: 0s - loss: 0.0040 - semantic_0_loss: 0.0010 - semantic_1_loss: 0.0022 - semantic_2_loss: 7.6310e-04    WARNING:tensorflow:Can save best model only with val_loss available, skipping.\n",
      "5/5 [==============================] - 2s 401ms/step - loss: 0.0040 - semantic_0_loss: 0.0010 - semantic_1_loss: 0.0022 - semantic_2_loss: 7.6310e-04 - lr: 6.1729e-05\n",
      "Epoch 50/200\n",
      "5/5 [==============================] - ETA: 0s - loss: 0.0037 - semantic_0_loss: 8.8651e-04 - semantic_1_loss: 0.0021 - semantic_2_loss: 7.3101e-04WARNING:tensorflow:Can save best model only with val_loss available, skipping.\n",
      "5/5 [==============================] - 2s 364ms/step - loss: 0.0037 - semantic_0_loss: 8.8651e-04 - semantic_1_loss: 0.0021 - semantic_2_loss: 7.3101e-04 - lr: 6.1112e-05\n",
      "Epoch 51/200\n",
      "5/5 [==============================] - ETA: 0s - loss: 0.0039 - semantic_0_loss: 9.5639e-04 - semantic_1_loss: 0.0021 - semantic_2_loss: 7.9267e-04WARNING:tensorflow:Can save best model only with val_loss available, skipping.\n",
      "5/5 [==============================] - 2s 402ms/step - loss: 0.0039 - semantic_0_loss: 9.5639e-04 - semantic_1_loss: 0.0021 - semantic_2_loss: 7.9267e-04 - lr: 6.0501e-05\n",
      "Epoch 52/200\n",
      "5/5 [==============================] - ETA: 0s - loss: 0.0039 - semantic_0_loss: 9.8007e-04 - semantic_1_loss: 0.0022 - semantic_2_loss: 7.4936e-04WARNING:tensorflow:Can save best model only with val_loss available, skipping.\n",
      "5/5 [==============================] - 2s 502ms/step - loss: 0.0039 - semantic_0_loss: 9.8007e-04 - semantic_1_loss: 0.0022 - semantic_2_loss: 7.4936e-04 - lr: 5.9896e-05\n",
      "Epoch 53/200\n",
      "5/5 [==============================] - ETA: 0s - loss: 0.0037 - semantic_0_loss: 9.2156e-04 - semantic_1_loss: 0.0020 - semantic_2_loss: 7.4003e-04WARNING:tensorflow:Can save best model only with val_loss available, skipping.\n",
      "5/5 [==============================] - 2s 395ms/step - loss: 0.0037 - semantic_0_loss: 9.2156e-04 - semantic_1_loss: 0.0020 - semantic_2_loss: 7.4003e-04 - lr: 5.9297e-05\n",
      "Epoch 54/200\n",
      "5/5 [==============================] - ETA: 0s - loss: 0.0038 - semantic_0_loss: 8.7250e-04 - semantic_1_loss: 0.0021 - semantic_2_loss: 7.8997e-04WARNING:tensorflow:Can save best model only with val_loss available, skipping.\n",
      "5/5 [==============================] - 2s 493ms/step - loss: 0.0038 - semantic_0_loss: 8.7250e-04 - semantic_1_loss: 0.0021 - semantic_2_loss: 7.8997e-04 - lr: 5.8704e-05\n",
      "Epoch 55/200\n",
      "5/5 [==============================] - ETA: 0s - loss: 0.0040 - semantic_0_loss: 9.9322e-04 - semantic_1_loss: 0.0023 - semantic_2_loss: 7.8459e-04WARNING:tensorflow:Can save best model only with val_loss available, skipping.\n",
      "5/5 [==============================] - 2s 387ms/step - loss: 0.0040 - semantic_0_loss: 9.9322e-04 - semantic_1_loss: 0.0023 - semantic_2_loss: 7.8459e-04 - lr: 5.8117e-05\n",
      "Epoch 56/200\n",
      "5/5 [==============================] - ETA: 0s - loss: 0.0039 - semantic_0_loss: 9.8262e-04 - semantic_1_loss: 0.0022 - semantic_2_loss: 7.6372e-04WARNING:tensorflow:Can save best model only with val_loss available, skipping.\n",
      "5/5 [==============================] - 3s 464ms/step - loss: 0.0039 - semantic_0_loss: 9.8262e-04 - semantic_1_loss: 0.0022 - semantic_2_loss: 7.6372e-04 - lr: 5.7535e-05\n",
      "Epoch 57/200\n",
      "5/5 [==============================] - ETA: 0s - loss: 0.0042 - semantic_0_loss: 0.0010 - semantic_1_loss: 0.0024 - semantic_2_loss: 7.8819e-04    WARNING:tensorflow:Can save best model only with val_loss available, skipping.\n",
      "5/5 [==============================] - 2s 401ms/step - loss: 0.0042 - semantic_0_loss: 0.0010 - semantic_1_loss: 0.0024 - semantic_2_loss: 7.8819e-04 - lr: 5.6960e-05\n",
      "Epoch 58/200\n",
      "5/5 [==============================] - ETA: 0s - loss: 0.0037 - semantic_0_loss: 9.2591e-04 - semantic_1_loss: 0.0020 - semantic_2_loss: 7.3486e-04WARNING:tensorflow:Can save best model only with val_loss available, skipping.\n",
      "5/5 [==============================] - 2s 498ms/step - loss: 0.0037 - semantic_0_loss: 9.2591e-04 - semantic_1_loss: 0.0020 - semantic_2_loss: 7.3486e-04 - lr: 5.6391e-05\n",
      "Epoch 59/200\n",
      "5/5 [==============================] - ETA: 0s - loss: 0.0032 - semantic_0_loss: 7.8103e-04 - semantic_1_loss: 0.0017 - semantic_2_loss: 6.5569e-04WARNING:tensorflow:Can save best model only with val_loss available, skipping.\n",
      "5/5 [==============================] - 2s 395ms/step - loss: 0.0032 - semantic_0_loss: 7.8103e-04 - semantic_1_loss: 0.0017 - semantic_2_loss: 6.5569e-04 - lr: 5.5827e-05\n",
      "Epoch 60/200\n",
      "5/5 [==============================] - ETA: 0s - loss: 0.0040 - semantic_0_loss: 9.6891e-04 - semantic_1_loss: 0.0023 - semantic_2_loss: 7.8361e-04WARNING:tensorflow:Can save best model only with val_loss available, skipping.\n",
      "5/5 [==============================] - 2s 399ms/step - loss: 0.0040 - semantic_0_loss: 9.6891e-04 - semantic_1_loss: 0.0023 - semantic_2_loss: 7.8361e-04 - lr: 5.5268e-05\n",
      "Epoch 61/200\n",
      "5/5 [==============================] - ETA: 0s - loss: 0.0040 - semantic_0_loss: 0.0010 - semantic_1_loss: 0.0022 - semantic_2_loss: 7.4772e-04    WARNING:tensorflow:Can save best model only with val_loss available, skipping.\n",
      "5/5 [==============================] - 2s 407ms/step - loss: 0.0040 - semantic_0_loss: 0.0010 - semantic_1_loss: 0.0022 - semantic_2_loss: 7.4772e-04 - lr: 5.4716e-05\n",
      "Epoch 62/200\n",
      "5/5 [==============================] - ETA: 0s - loss: 0.0036 - semantic_0_loss: 8.7702e-04 - semantic_1_loss: 0.0020 - semantic_2_loss: 7.2181e-04WARNING:tensorflow:Can save best model only with val_loss available, skipping.\n",
      "5/5 [==============================] - 2s 498ms/step - loss: 0.0036 - semantic_0_loss: 8.7702e-04 - semantic_1_loss: 0.0020 - semantic_2_loss: 7.2181e-04 - lr: 5.4169e-05\n",
      "Epoch 63/200\n",
      "5/5 [==============================] - ETA: 0s - loss: 0.0035 - semantic_0_loss: 8.6236e-04 - semantic_1_loss: 0.0019 - semantic_2_loss: 6.8411e-04WARNING:tensorflow:Can save best model only with val_loss available, skipping.\n",
      "5/5 [==============================] - 2s 413ms/step - loss: 0.0035 - semantic_0_loss: 8.6236e-04 - semantic_1_loss: 0.0019 - semantic_2_loss: 6.8411e-04 - lr: 5.3627e-05\n",
      "Epoch 64/200\n",
      "5/5 [==============================] - ETA: 0s - loss: 0.0038 - semantic_0_loss: 9.0187e-04 - semantic_1_loss: 0.0021 - semantic_2_loss: 7.5703e-04WARNING:tensorflow:Can save best model only with val_loss available, skipping.\n",
      "5/5 [==============================] - 2s 367ms/step - loss: 0.0038 - semantic_0_loss: 9.0187e-04 - semantic_1_loss: 0.0021 - semantic_2_loss: 7.5703e-04 - lr: 5.3091e-05\n",
      "Epoch 65/200\n",
      "5/5 [==============================] - ETA: 0s - loss: 0.0036 - semantic_0_loss: 8.9046e-04 - semantic_1_loss: 0.0020 - semantic_2_loss: 7.2225e-04WARNING:tensorflow:Can save best model only with val_loss available, skipping.\n",
      "5/5 [==============================] - 2s 403ms/step - loss: 0.0036 - semantic_0_loss: 8.9046e-04 - semantic_1_loss: 0.0020 - semantic_2_loss: 7.2225e-04 - lr: 5.2560e-05\n",
      "Epoch 66/200\n",
      "5/5 [==============================] - ETA: 0s - loss: 0.0035 - semantic_0_loss: 8.8822e-04 - semantic_1_loss: 0.0019 - semantic_2_loss: 7.1682e-04WARNING:tensorflow:Can save best model only with val_loss available, skipping.\n",
      "5/5 [==============================] - 3s 460ms/step - loss: 0.0035 - semantic_0_loss: 8.8822e-04 - semantic_1_loss: 0.0019 - semantic_2_loss: 7.1682e-04 - lr: 5.2034e-05\n",
      "Epoch 67/200\n",
      "5/5 [==============================] - ETA: 0s - loss: 0.0034 - semantic_0_loss: 8.6083e-04 - semantic_1_loss: 0.0019 - semantic_2_loss: 6.8655e-04WARNING:tensorflow:Can save best model only with val_loss available, skipping.\n",
      "5/5 [==============================] - 2s 387ms/step - loss: 0.0034 - semantic_0_loss: 8.6083e-04 - semantic_1_loss: 0.0019 - semantic_2_loss: 6.8655e-04 - lr: 5.1514e-05\n",
      "Epoch 68/200\n",
      "5/5 [==============================] - ETA: 0s - loss: 0.0031 - semantic_0_loss: 7.6124e-04 - semantic_1_loss: 0.0017 - semantic_2_loss: 6.2919e-04WARNING:tensorflow:Can save best model only with val_loss available, skipping.\n",
      "5/5 [==============================] - 2s 373ms/step - loss: 0.0031 - semantic_0_loss: 7.6124e-04 - semantic_1_loss: 0.0017 - semantic_2_loss: 6.2919e-04 - lr: 5.0999e-05\n",
      "Epoch 69/200\n",
      "5/5 [==============================] - ETA: 0s - loss: 0.0034 - semantic_0_loss: 8.0124e-04 - semantic_1_loss: 0.0019 - semantic_2_loss: 6.8751e-04WARNING:tensorflow:Can save best model only with val_loss available, skipping.\n",
      "5/5 [==============================] - 3s 469ms/step - loss: 0.0034 - semantic_0_loss: 8.0124e-04 - semantic_1_loss: 0.0019 - semantic_2_loss: 6.8751e-04 - lr: 5.0489e-05\n",
      "Epoch 70/200\n",
      "5/5 [==============================] - ETA: 0s - loss: 0.0035 - semantic_0_loss: 8.5933e-04 - semantic_1_loss: 0.0019 - semantic_2_loss: 6.7473e-04WARNING:tensorflow:Can save best model only with val_loss available, skipping.\n",
      "5/5 [==============================] - 2s 510ms/step - loss: 0.0035 - semantic_0_loss: 8.5933e-04 - semantic_1_loss: 0.0019 - semantic_2_loss: 6.7473e-04 - lr: 4.9984e-05\n",
      "Epoch 71/200\n",
      "5/5 [==============================] - ETA: 0s - loss: 0.0033 - semantic_0_loss: 8.1890e-04 - semantic_1_loss: 0.0018 - semantic_2_loss: 6.7574e-04WARNING:tensorflow:Can save best model only with val_loss available, skipping.\n",
      "5/5 [==============================] - 3s 466ms/step - loss: 0.0033 - semantic_0_loss: 8.1890e-04 - semantic_1_loss: 0.0018 - semantic_2_loss: 6.7574e-04 - lr: 4.9484e-05\n",
      "Epoch 72/200\n",
      "5/5 [==============================] - ETA: 0s - loss: 0.0039 - semantic_0_loss: 9.1428e-04 - semantic_1_loss: 0.0023 - semantic_2_loss: 6.9651e-04WARNING:tensorflow:Can save best model only with val_loss available, skipping.\n",
      "5/5 [==============================] - 2s 398ms/step - loss: 0.0039 - semantic_0_loss: 9.1428e-04 - semantic_1_loss: 0.0023 - semantic_2_loss: 6.9651e-04 - lr: 4.8989e-05\n",
      "Epoch 73/200\n",
      "5/5 [==============================] - ETA: 0s - loss: 0.0028 - semantic_0_loss: 7.0919e-04 - semantic_1_loss: 0.0015 - semantic_2_loss: 6.0758e-04WARNING:tensorflow:Can save best model only with val_loss available, skipping.\n",
      "5/5 [==============================] - 2s 506ms/step - loss: 0.0028 - semantic_0_loss: 7.0919e-04 - semantic_1_loss: 0.0015 - semantic_2_loss: 6.0758e-04 - lr: 4.8499e-05\n",
      "Epoch 74/200\n",
      "5/5 [==============================] - ETA: 0s - loss: 0.0039 - semantic_0_loss: 9.9559e-04 - semantic_1_loss: 0.0021 - semantic_2_loss: 7.3547e-04WARNING:tensorflow:Can save best model only with val_loss available, skipping.\n",
      "5/5 [==============================] - 2s 509ms/step - loss: 0.0039 - semantic_0_loss: 9.9559e-04 - semantic_1_loss: 0.0021 - semantic_2_loss: 7.3547e-04 - lr: 4.8014e-05\n",
      "Epoch 75/200\n",
      "5/5 [==============================] - ETA: 0s - loss: 0.0034 - semantic_0_loss: 8.4267e-04 - semantic_1_loss: 0.0018 - semantic_2_loss: 6.8197e-04WARNING:tensorflow:Can save best model only with val_loss available, skipping.\n",
      "5/5 [==============================] - 2s 371ms/step - loss: 0.0034 - semantic_0_loss: 8.4267e-04 - semantic_1_loss: 0.0018 - semantic_2_loss: 6.8197e-04 - lr: 4.7534e-05\n",
      "Epoch 76/200\n",
      "5/5 [==============================] - ETA: 0s - loss: 0.0034 - semantic_0_loss: 8.5860e-04 - semantic_1_loss: 0.0019 - semantic_2_loss: 6.9450e-04WARNING:tensorflow:Can save best model only with val_loss available, skipping.\n",
      "5/5 [==============================] - 2s 496ms/step - loss: 0.0034 - semantic_0_loss: 8.5860e-04 - semantic_1_loss: 0.0019 - semantic_2_loss: 6.9450e-04 - lr: 4.7059e-05\n",
      "Epoch 77/200\n",
      "5/5 [==============================] - ETA: 0s - loss: 0.0037 - semantic_0_loss: 9.0148e-04 - semantic_1_loss: 0.0021 - semantic_2_loss: 7.6181e-04WARNING:tensorflow:Can save best model only with val_loss available, skipping.\n",
      "5/5 [==============================] - 3s 470ms/step - loss: 0.0037 - semantic_0_loss: 9.0148e-04 - semantic_1_loss: 0.0021 - semantic_2_loss: 7.6181e-04 - lr: 4.6588e-05\n",
      "Epoch 78/200\n",
      "5/5 [==============================] - ETA: 0s - loss: 0.0030 - semantic_0_loss: 8.0937e-04 - semantic_1_loss: 0.0016 - semantic_2_loss: 6.2616e-04WARNING:tensorflow:Can save best model only with val_loss available, skipping.\n",
      "5/5 [==============================] - 2s 402ms/step - loss: 0.0030 - semantic_0_loss: 8.0937e-04 - semantic_1_loss: 0.0016 - semantic_2_loss: 6.2616e-04 - lr: 4.6122e-05\n",
      "Epoch 79/200\n",
      "5/5 [==============================] - ETA: 0s - loss: 0.0035 - semantic_0_loss: 9.2073e-04 - semantic_1_loss: 0.0019 - semantic_2_loss: 6.6204e-04WARNING:tensorflow:Can save best model only with val_loss available, skipping.\n",
      "5/5 [==============================] - 2s 397ms/step - loss: 0.0035 - semantic_0_loss: 9.2073e-04 - semantic_1_loss: 0.0019 - semantic_2_loss: 6.6204e-04 - lr: 4.5661e-05\n",
      "Epoch 80/200\n",
      "5/5 [==============================] - ETA: 0s - loss: 0.0033 - semantic_0_loss: 8.1999e-04 - semantic_1_loss: 0.0018 - semantic_2_loss: 6.4731e-04WARNING:tensorflow:Can save best model only with val_loss available, skipping.\n",
      "5/5 [==============================] - 3s 474ms/step - loss: 0.0033 - semantic_0_loss: 8.1999e-04 - semantic_1_loss: 0.0018 - semantic_2_loss: 6.4731e-04 - lr: 4.5204e-05\n",
      "Epoch 81/200\n",
      "5/5 [==============================] - ETA: 0s - loss: 0.0040 - semantic_0_loss: 0.0010 - semantic_1_loss: 0.0022 - semantic_2_loss: 8.2206e-04WARNING:tensorflow:Can save best model only with val_loss available, skipping.\n",
      "5/5 [==============================] - 2s 407ms/step - loss: 0.0040 - semantic_0_loss: 0.0010 - semantic_1_loss: 0.0022 - semantic_2_loss: 8.2206e-04 - lr: 4.4752e-05\n",
      "Epoch 82/200\n",
      "5/5 [==============================] - ETA: 0s - loss: 0.0033 - semantic_0_loss: 8.3579e-04 - semantic_1_loss: 0.0018 - semantic_2_loss: 6.4017e-04WARNING:tensorflow:Can save best model only with val_loss available, skipping.\n",
      "5/5 [==============================] - 2s 411ms/step - loss: 0.0033 - semantic_0_loss: 8.3579e-04 - semantic_1_loss: 0.0018 - semantic_2_loss: 6.4017e-04 - lr: 4.4305e-05\n",
      "Epoch 83/200\n",
      "5/5 [==============================] - ETA: 0s - loss: 0.0034 - semantic_0_loss: 8.6353e-04 - semantic_1_loss: 0.0018 - semantic_2_loss: 6.8671e-04WARNING:tensorflow:Can save best model only with val_loss available, skipping.\n",
      "5/5 [==============================] - 2s 495ms/step - loss: 0.0034 - semantic_0_loss: 8.6353e-04 - semantic_1_loss: 0.0018 - semantic_2_loss: 6.8671e-04 - lr: 4.3862e-05\n",
      "Epoch 84/200\n",
      "5/5 [==============================] - ETA: 0s - loss: 0.0032 - semantic_0_loss: 7.5828e-04 - semantic_1_loss: 0.0017 - semantic_2_loss: 6.7697e-04WARNING:tensorflow:Can save best model only with val_loss available, skipping.\n",
      "5/5 [==============================] - 2s 388ms/step - loss: 0.0032 - semantic_0_loss: 7.5828e-04 - semantic_1_loss: 0.0017 - semantic_2_loss: 6.7697e-04 - lr: 4.3423e-05\n",
      "Epoch 85/200\n",
      "5/5 [==============================] - ETA: 0s - loss: 0.0037 - semantic_0_loss: 9.3256e-04 - semantic_1_loss: 0.0020 - semantic_2_loss: 7.5506e-04WARNING:tensorflow:Can save best model only with val_loss available, skipping.\n",
      "5/5 [==============================] - 2s 366ms/step - loss: 0.0037 - semantic_0_loss: 9.3256e-04 - semantic_1_loss: 0.0020 - semantic_2_loss: 7.5506e-04 - lr: 4.2989e-05\n",
      "Epoch 86/200\n",
      "5/5 [==============================] - ETA: 0s - loss: 0.0031 - semantic_0_loss: 7.7433e-04 - semantic_1_loss: 0.0017 - semantic_2_loss: 6.2678e-04WARNING:tensorflow:Can save best model only with val_loss available, skipping.\n",
      "5/5 [==============================] - 2s 402ms/step - loss: 0.0031 - semantic_0_loss: 7.7433e-04 - semantic_1_loss: 0.0017 - semantic_2_loss: 6.2678e-04 - lr: 4.2559e-05\n",
      "Epoch 87/200\n",
      "5/5 [==============================] - ETA: 0s - loss: 0.0032 - semantic_0_loss: 8.2015e-04 - semantic_1_loss: 0.0017 - semantic_2_loss: 6.4411e-04WARNING:tensorflow:Can save best model only with val_loss available, skipping.\n",
      "5/5 [==============================] - 2s 399ms/step - loss: 0.0032 - semantic_0_loss: 8.2015e-04 - semantic_1_loss: 0.0017 - semantic_2_loss: 6.4411e-04 - lr: 4.2133e-05\n",
      "Epoch 88/200\n",
      "5/5 [==============================] - ETA: 0s - loss: 0.0039 - semantic_0_loss: 9.5477e-04 - semantic_1_loss: 0.0022 - semantic_2_loss: 7.3462e-04WARNING:tensorflow:Can save best model only with val_loss available, skipping.\n",
      "5/5 [==============================] - 2s 368ms/step - loss: 0.0039 - semantic_0_loss: 9.5477e-04 - semantic_1_loss: 0.0022 - semantic_2_loss: 7.3462e-04 - lr: 4.1712e-05\n",
      "Epoch 89/200\n",
      "5/5 [==============================] - ETA: 0s - loss: 0.0029 - semantic_0_loss: 7.3103e-04 - semantic_1_loss: 0.0016 - semantic_2_loss: 6.2571e-04WARNING:tensorflow:Can save best model only with val_loss available, skipping.\n",
      "5/5 [==============================] - 2s 472ms/step - loss: 0.0029 - semantic_0_loss: 7.3103e-04 - semantic_1_loss: 0.0016 - semantic_2_loss: 6.2571e-04 - lr: 4.1295e-05\n",
      "Epoch 90/200\n",
      "5/5 [==============================] - ETA: 0s - loss: 0.0029 - semantic_0_loss: 7.6259e-04 - semantic_1_loss: 0.0016 - semantic_2_loss: 6.0102e-04WARNING:tensorflow:Can save best model only with val_loss available, skipping.\n",
      "5/5 [==============================] - 2s 369ms/step - loss: 0.0029 - semantic_0_loss: 7.6259e-04 - semantic_1_loss: 0.0016 - semantic_2_loss: 6.0102e-04 - lr: 4.0882e-05\n",
      "Epoch 91/200\n",
      "5/5 [==============================] - ETA: 0s - loss: 0.0035 - semantic_0_loss: 9.0873e-04 - semantic_1_loss: 0.0018 - semantic_2_loss: 7.0979e-04WARNING:tensorflow:Can save best model only with val_loss available, skipping.\n",
      "5/5 [==============================] - 2s 394ms/step - loss: 0.0035 - semantic_0_loss: 9.0873e-04 - semantic_1_loss: 0.0018 - semantic_2_loss: 7.0979e-04 - lr: 4.0473e-05\n",
      "Epoch 92/200\n",
      "5/5 [==============================] - ETA: 0s - loss: 0.0037 - semantic_0_loss: 9.2276e-04 - semantic_1_loss: 0.0021 - semantic_2_loss: 7.2471e-04WARNING:tensorflow:Can save best model only with val_loss available, skipping.\n",
      "5/5 [==============================] - 2s 512ms/step - loss: 0.0037 - semantic_0_loss: 9.2276e-04 - semantic_1_loss: 0.0021 - semantic_2_loss: 7.2471e-04 - lr: 4.0068e-05\n",
      "Epoch 93/200\n",
      "5/5 [==============================] - ETA: 0s - loss: 0.0038 - semantic_0_loss: 9.6554e-04 - semantic_1_loss: 0.0021 - semantic_2_loss: 7.3831e-04WARNING:tensorflow:Can save best model only with val_loss available, skipping.\n",
      "5/5 [==============================] - 2s 399ms/step - loss: 0.0038 - semantic_0_loss: 9.6554e-04 - semantic_1_loss: 0.0021 - semantic_2_loss: 7.3831e-04 - lr: 3.9668e-05\n",
      "Epoch 94/200\n",
      "5/5 [==============================] - ETA: 0s - loss: 0.0031 - semantic_0_loss: 7.7077e-04 - semantic_1_loss: 0.0017 - semantic_2_loss: 6.6732e-04WARNING:tensorflow:Can save best model only with val_loss available, skipping.\n",
      "5/5 [==============================] - 2s 388ms/step - loss: 0.0031 - semantic_0_loss: 7.7077e-04 - semantic_1_loss: 0.0017 - semantic_2_loss: 6.6732e-04 - lr: 3.9271e-05\n",
      "Epoch 95/200\n",
      "5/5 [==============================] - ETA: 0s - loss: 0.0031 - semantic_0_loss: 7.9767e-04 - semantic_1_loss: 0.0017 - semantic_2_loss: 6.3705e-04WARNING:tensorflow:Can save best model only with val_loss available, skipping.\n",
      "5/5 [==============================] - 2s 502ms/step - loss: 0.0031 - semantic_0_loss: 7.9767e-04 - semantic_1_loss: 0.0017 - semantic_2_loss: 6.3705e-04 - lr: 3.8878e-05\n",
      "Epoch 96/200\n",
      "5/5 [==============================] - ETA: 0s - loss: 0.0035 - semantic_0_loss: 8.9173e-04 - semantic_1_loss: 0.0019 - semantic_2_loss: 7.1006e-04WARNING:tensorflow:Can save best model only with val_loss available, skipping.\n",
      "5/5 [==============================] - 2s 397ms/step - loss: 0.0035 - semantic_0_loss: 8.9173e-04 - semantic_1_loss: 0.0019 - semantic_2_loss: 7.1006e-04 - lr: 3.8490e-05\n",
      "Epoch 97/200\n",
      "5/5 [==============================] - ETA: 0s - loss: 0.0029 - semantic_0_loss: 7.3923e-04 - semantic_1_loss: 0.0015 - semantic_2_loss: 6.2234e-04WARNING:tensorflow:Can save best model only with val_loss available, skipping.\n",
      "5/5 [==============================] - 2s 389ms/step - loss: 0.0029 - semantic_0_loss: 7.3923e-04 - semantic_1_loss: 0.0015 - semantic_2_loss: 6.2234e-04 - lr: 3.8105e-05\n",
      "Epoch 98/200\n",
      "5/5 [==============================] - ETA: 0s - loss: 0.0033 - semantic_0_loss: 8.6641e-04 - semantic_1_loss: 0.0018 - semantic_2_loss: 6.6218e-04WARNING:tensorflow:Can save best model only with val_loss available, skipping.\n",
      "5/5 [==============================] - 2s 496ms/step - loss: 0.0033 - semantic_0_loss: 8.6641e-04 - semantic_1_loss: 0.0018 - semantic_2_loss: 6.6218e-04 - lr: 3.7724e-05\n",
      "Epoch 99/200\n",
      "5/5 [==============================] - ETA: 0s - loss: 0.0032 - semantic_0_loss: 8.0136e-04 - semantic_1_loss: 0.0018 - semantic_2_loss: 6.6712e-04WARNING:tensorflow:Can save best model only with val_loss available, skipping.\n",
      "5/5 [==============================] - 2s 380ms/step - loss: 0.0032 - semantic_0_loss: 8.0136e-04 - semantic_1_loss: 0.0018 - semantic_2_loss: 6.6712e-04 - lr: 3.7346e-05\n",
      "Epoch 100/200\n",
      "5/5 [==============================] - ETA: 0s - loss: 0.0031 - semantic_0_loss: 7.7879e-04 - semantic_1_loss: 0.0017 - semantic_2_loss: 6.4426e-04WARNING:tensorflow:Can save best model only with val_loss available, skipping.\n",
      "5/5 [==============================] - 2s 402ms/step - loss: 0.0031 - semantic_0_loss: 7.7879e-04 - semantic_1_loss: 0.0017 - semantic_2_loss: 6.4426e-04 - lr: 3.6973e-05\n",
      "Epoch 101/200\n",
      "5/5 [==============================] - ETA: 0s - loss: 0.0032 - semantic_0_loss: 8.0892e-04 - semantic_1_loss: 0.0017 - semantic_2_loss: 6.6518e-04WARNING:tensorflow:Can save best model only with val_loss available, skipping.\n",
      "5/5 [==============================] - 3s 457ms/step - loss: 0.0032 - semantic_0_loss: 8.0892e-04 - semantic_1_loss: 0.0017 - semantic_2_loss: 6.6518e-04 - lr: 3.6603e-05\n",
      "Epoch 102/200\n",
      "5/5 [==============================] - ETA: 0s - loss: 0.0030 - semantic_0_loss: 7.3779e-04 - semantic_1_loss: 0.0016 - semantic_2_loss: 6.0782e-04WARNING:tensorflow:Can save best model only with val_loss available, skipping.\n",
      "5/5 [==============================] - 2s 490ms/step - loss: 0.0030 - semantic_0_loss: 7.3779e-04 - semantic_1_loss: 0.0016 - semantic_2_loss: 6.0782e-04 - lr: 3.6237e-05\n",
      "Epoch 103/200\n",
      "5/5 [==============================] - ETA: 0s - loss: 0.0030 - semantic_0_loss: 7.9882e-04 - semantic_1_loss: 0.0016 - semantic_2_loss: 6.1497e-04WARNING:tensorflow:Can save best model only with val_loss available, skipping.\n",
      "5/5 [==============================] - 2s 384ms/step - loss: 0.0030 - semantic_0_loss: 7.9882e-04 - semantic_1_loss: 0.0016 - semantic_2_loss: 6.1497e-04 - lr: 3.5875e-05\n",
      "Epoch 104/200\n",
      "5/5 [==============================] - ETA: 0s - loss: 0.0031 - semantic_0_loss: 7.1782e-04 - semantic_1_loss: 0.0017 - semantic_2_loss: 6.1807e-04WARNING:tensorflow:Can save best model only with val_loss available, skipping.\n",
      "5/5 [==============================] - 2s 397ms/step - loss: 0.0031 - semantic_0_loss: 7.1782e-04 - semantic_1_loss: 0.0017 - semantic_2_loss: 6.1807e-04 - lr: 3.5516e-05\n",
      "Epoch 105/200\n",
      "5/5 [==============================] - ETA: 0s - loss: 0.0031 - semantic_0_loss: 8.0752e-04 - semantic_1_loss: 0.0017 - semantic_2_loss: 6.2580e-04WARNING:tensorflow:Can save best model only with val_loss available, skipping.\n",
      "5/5 [==============================] - 2s 400ms/step - loss: 0.0031 - semantic_0_loss: 8.0752e-04 - semantic_1_loss: 0.0017 - semantic_2_loss: 6.2580e-04 - lr: 3.5161e-05\n",
      "Epoch 106/200\n",
      "5/5 [==============================] - ETA: 0s - loss: 0.0035 - semantic_0_loss: 9.1864e-04 - semantic_1_loss: 0.0019 - semantic_2_loss: 6.6902e-04WARNING:tensorflow:Can save best model only with val_loss available, skipping.\n",
      "5/5 [==============================] - 2s 402ms/step - loss: 0.0035 - semantic_0_loss: 9.1864e-04 - semantic_1_loss: 0.0019 - semantic_2_loss: 6.6902e-04 - lr: 3.4809e-05\n",
      "Epoch 107/200\n",
      "5/5 [==============================] - ETA: 0s - loss: 0.0033 - semantic_0_loss: 8.5465e-04 - semantic_1_loss: 0.0018 - semantic_2_loss: 6.7224e-04WARNING:tensorflow:Can save best model only with val_loss available, skipping.\n",
      "5/5 [==============================] - 2s 369ms/step - loss: 0.0033 - semantic_0_loss: 8.5465e-04 - semantic_1_loss: 0.0018 - semantic_2_loss: 6.7224e-04 - lr: 3.4461e-05\n",
      "Epoch 108/200\n",
      "5/5 [==============================] - ETA: 0s - loss: 0.0035 - semantic_0_loss: 8.8219e-04 - semantic_1_loss: 0.0019 - semantic_2_loss: 6.9699e-04WARNING:tensorflow:Can save best model only with val_loss available, skipping.\n",
      "5/5 [==============================] - 2s 396ms/step - loss: 0.0035 - semantic_0_loss: 8.8219e-04 - semantic_1_loss: 0.0019 - semantic_2_loss: 6.9699e-04 - lr: 3.4117e-05\n",
      "Epoch 109/200\n",
      "5/5 [==============================] - ETA: 0s - loss: 0.0030 - semantic_0_loss: 7.7908e-04 - semantic_1_loss: 0.0016 - semantic_2_loss: 6.1214e-04WARNING:tensorflow:Can save best model only with val_loss available, skipping.\n",
      "5/5 [==============================] - 2s 357ms/step - loss: 0.0030 - semantic_0_loss: 7.7908e-04 - semantic_1_loss: 0.0016 - semantic_2_loss: 6.1214e-04 - lr: 3.3775e-05\n",
      "Epoch 110/200\n",
      "5/5 [==============================] - ETA: 0s - loss: 0.0030 - semantic_0_loss: 7.2955e-04 - semantic_1_loss: 0.0017 - semantic_2_loss: 6.5387e-04WARNING:tensorflow:Can save best model only with val_loss available, skipping.\n",
      "5/5 [==============================] - 2s 394ms/step - loss: 0.0030 - semantic_0_loss: 7.2955e-04 - semantic_1_loss: 0.0017 - semantic_2_loss: 6.5387e-04 - lr: 3.3438e-05\n",
      "Epoch 111/200\n",
      "5/5 [==============================] - ETA: 0s - loss: 0.0033 - semantic_0_loss: 8.8359e-04 - semantic_1_loss: 0.0018 - semantic_2_loss: 6.5528e-04WARNING:tensorflow:Can save best model only with val_loss available, skipping.\n",
      "5/5 [==============================] - 2s 401ms/step - loss: 0.0033 - semantic_0_loss: 8.8359e-04 - semantic_1_loss: 0.0018 - semantic_2_loss: 6.5528e-04 - lr: 3.3103e-05\n",
      "Epoch 112/200\n",
      "5/5 [==============================] - ETA: 0s - loss: 0.0032 - semantic_0_loss: 8.2489e-04 - semantic_1_loss: 0.0017 - semantic_2_loss: 6.3879e-04WARNING:tensorflow:Can save best model only with val_loss available, skipping.\n",
      "5/5 [==============================] - 2s 391ms/step - loss: 0.0032 - semantic_0_loss: 8.2489e-04 - semantic_1_loss: 0.0017 - semantic_2_loss: 6.3879e-04 - lr: 3.2772e-05\n",
      "Epoch 113/200\n",
      "5/5 [==============================] - ETA: 0s - loss: 0.0030 - semantic_0_loss: 7.6946e-04 - semantic_1_loss: 0.0016 - semantic_2_loss: 6.0727e-04WARNING:tensorflow:Can save best model only with val_loss available, skipping.\n",
      "5/5 [==============================] - 2s 504ms/step - loss: 0.0030 - semantic_0_loss: 7.6946e-04 - semantic_1_loss: 0.0016 - semantic_2_loss: 6.0727e-04 - lr: 3.2445e-05\n",
      "Epoch 114/200\n",
      "5/5 [==============================] - ETA: 0s - loss: 0.0032 - semantic_0_loss: 8.4442e-04 - semantic_1_loss: 0.0017 - semantic_2_loss: 6.4792e-04WARNING:tensorflow:Can save best model only with val_loss available, skipping.\n",
      "5/5 [==============================] - 2s 507ms/step - loss: 0.0032 - semantic_0_loss: 8.4442e-04 - semantic_1_loss: 0.0017 - semantic_2_loss: 6.4792e-04 - lr: 3.2120e-05\n",
      "Epoch 115/200\n",
      "5/5 [==============================] - ETA: 0s - loss: 0.0036 - semantic_0_loss: 9.4950e-04 - semantic_1_loss: 0.0019 - semantic_2_loss: 7.1850e-04WARNING:tensorflow:Can save best model only with val_loss available, skipping.\n",
      "5/5 [==============================] - 2s 411ms/step - loss: 0.0036 - semantic_0_loss: 9.4950e-04 - semantic_1_loss: 0.0019 - semantic_2_loss: 7.1850e-04 - lr: 3.1799e-05\n",
      "Epoch 116/200\n",
      "5/5 [==============================] - ETA: 0s - loss: 0.0030 - semantic_0_loss: 7.5964e-04 - semantic_1_loss: 0.0016 - semantic_2_loss: 6.5754e-04WARNING:tensorflow:Can save best model only with val_loss available, skipping.\n",
      "5/5 [==============================] - 2s 495ms/step - loss: 0.0030 - semantic_0_loss: 7.5964e-04 - semantic_1_loss: 0.0016 - semantic_2_loss: 6.5754e-04 - lr: 3.1481e-05\n",
      "Epoch 117/200\n",
      "5/5 [==============================] - ETA: 0s - loss: 0.0028 - semantic_0_loss: 7.1107e-04 - semantic_1_loss: 0.0015 - semantic_2_loss: 5.8013e-04WARNING:tensorflow:Can save best model only with val_loss available, skipping.\n",
      "5/5 [==============================] - 2s 387ms/step - loss: 0.0028 - semantic_0_loss: 7.1107e-04 - semantic_1_loss: 0.0015 - semantic_2_loss: 5.8013e-04 - lr: 3.1166e-05\n",
      "Epoch 118/200\n",
      "5/5 [==============================] - ETA: 0s - loss: 0.0031 - semantic_0_loss: 7.8171e-04 - semantic_1_loss: 0.0016 - semantic_2_loss: 6.3476e-04WARNING:tensorflow:Can save best model only with val_loss available, skipping.\n",
      "5/5 [==============================] - 3s 462ms/step - loss: 0.0031 - semantic_0_loss: 7.8171e-04 - semantic_1_loss: 0.0016 - semantic_2_loss: 6.3476e-04 - lr: 3.0854e-05\n",
      "Epoch 119/200\n",
      "5/5 [==============================] - ETA: 0s - loss: 0.0029 - semantic_0_loss: 7.6539e-04 - semantic_1_loss: 0.0016 - semantic_2_loss: 5.8057e-04WARNING:tensorflow:Can save best model only with val_loss available, skipping.\n",
      "5/5 [==============================] - 2s 398ms/step - loss: 0.0029 - semantic_0_loss: 7.6539e-04 - semantic_1_loss: 0.0016 - semantic_2_loss: 5.8057e-04 - lr: 3.0546e-05\n",
      "Epoch 120/200\n",
      "5/5 [==============================] - ETA: 0s - loss: 0.0033 - semantic_0_loss: 8.2009e-04 - semantic_1_loss: 0.0018 - semantic_2_loss: 6.4461e-04WARNING:tensorflow:Can save best model only with val_loss available, skipping.\n",
      "5/5 [==============================] - 2s 370ms/step - loss: 0.0033 - semantic_0_loss: 8.2009e-04 - semantic_1_loss: 0.0018 - semantic_2_loss: 6.4461e-04 - lr: 3.0240e-05\n",
      "Epoch 121/200\n",
      "5/5 [==============================] - ETA: 0s - loss: 0.0032 - semantic_0_loss: 8.5212e-04 - semantic_1_loss: 0.0017 - semantic_2_loss: 6.4784e-04WARNING:tensorflow:Can save best model only with val_loss available, skipping.\n",
      "5/5 [==============================] - 3s 468ms/step - loss: 0.0032 - semantic_0_loss: 8.5212e-04 - semantic_1_loss: 0.0017 - semantic_2_loss: 6.4784e-04 - lr: 2.9938e-05\n",
      "Epoch 122/200\n",
      "5/5 [==============================] - ETA: 0s - loss: 0.0030 - semantic_0_loss: 7.8138e-04 - semantic_1_loss: 0.0016 - semantic_2_loss: 6.3109e-04WARNING:tensorflow:Can save best model only with val_loss available, skipping.\n",
      "5/5 [==============================] - 3s 474ms/step - loss: 0.0030 - semantic_0_loss: 7.8138e-04 - semantic_1_loss: 0.0016 - semantic_2_loss: 6.3109e-04 - lr: 2.9639e-05\n",
      "Epoch 123/200\n",
      "5/5 [==============================] - ETA: 0s - loss: 0.0036 - semantic_0_loss: 9.0953e-04 - semantic_1_loss: 0.0020 - semantic_2_loss: 6.8655e-04WARNING:tensorflow:Can save best model only with val_loss available, skipping.\n",
      "5/5 [==============================] - 2s 502ms/step - loss: 0.0036 - semantic_0_loss: 9.0953e-04 - semantic_1_loss: 0.0020 - semantic_2_loss: 6.8655e-04 - lr: 2.9342e-05\n",
      "Epoch 124/200\n",
      "5/5 [==============================] - ETA: 0s - loss: 0.0030 - semantic_0_loss: 7.7112e-04 - semantic_1_loss: 0.0016 - semantic_2_loss: 6.2467e-04WARNING:tensorflow:Can save best model only with val_loss available, skipping.\n",
      "5/5 [==============================] - 3s 463ms/step - loss: 0.0030 - semantic_0_loss: 7.7112e-04 - semantic_1_loss: 0.0016 - semantic_2_loss: 6.2467e-04 - lr: 2.9049e-05\n",
      "Epoch 125/200\n",
      "5/5 [==============================] - ETA: 0s - loss: 0.0032 - semantic_0_loss: 8.4546e-04 - semantic_1_loss: 0.0017 - semantic_2_loss: 6.3936e-04WARNING:tensorflow:Can save best model only with val_loss available, skipping.\n",
      "5/5 [==============================] - 2s 408ms/step - loss: 0.0032 - semantic_0_loss: 8.4546e-04 - semantic_1_loss: 0.0017 - semantic_2_loss: 6.3936e-04 - lr: 2.8758e-05\n",
      "Epoch 126/200\n",
      "5/5 [==============================] - ETA: 0s - loss: 0.0029 - semantic_0_loss: 7.4527e-04 - semantic_1_loss: 0.0016 - semantic_2_loss: 5.9551e-04WARNING:tensorflow:Can save best model only with val_loss available, skipping.\n",
      "5/5 [==============================] - 2s 401ms/step - loss: 0.0029 - semantic_0_loss: 7.4527e-04 - semantic_1_loss: 0.0016 - semantic_2_loss: 5.9551e-04 - lr: 2.8471e-05\n",
      "Epoch 127/200\n",
      "5/5 [==============================] - ETA: 0s - loss: 0.0031 - semantic_0_loss: 7.9323e-04 - semantic_1_loss: 0.0016 - semantic_2_loss: 6.3964e-04WARNING:tensorflow:Can save best model only with val_loss available, skipping.\n",
      "5/5 [==============================] - 2s 393ms/step - loss: 0.0031 - semantic_0_loss: 7.9323e-04 - semantic_1_loss: 0.0016 - semantic_2_loss: 6.3964e-04 - lr: 2.8186e-05\n",
      "Epoch 128/200\n",
      "5/5 [==============================] - ETA: 0s - loss: 0.0030 - semantic_0_loss: 7.8161e-04 - semantic_1_loss: 0.0016 - semantic_2_loss: 6.2715e-04WARNING:tensorflow:Can save best model only with val_loss available, skipping.\n",
      "5/5 [==============================] - 2s 399ms/step - loss: 0.0030 - semantic_0_loss: 7.8161e-04 - semantic_1_loss: 0.0016 - semantic_2_loss: 6.2715e-04 - lr: 2.7904e-05\n",
      "Epoch 129/200\n",
      "5/5 [==============================] - ETA: 0s - loss: 0.0034 - semantic_0_loss: 8.8107e-04 - semantic_1_loss: 0.0018 - semantic_2_loss: 6.7479e-04WARNING:tensorflow:Can save best model only with val_loss available, skipping.\n",
      "5/5 [==============================] - 2s 406ms/step - loss: 0.0034 - semantic_0_loss: 8.8107e-04 - semantic_1_loss: 0.0018 - semantic_2_loss: 6.7479e-04 - lr: 2.7625e-05\n",
      "Epoch 130/200\n",
      "5/5 [==============================] - ETA: 0s - loss: 0.0032 - semantic_0_loss: 8.4017e-04 - semantic_1_loss: 0.0017 - semantic_2_loss: 6.5575e-04WARNING:tensorflow:Can save best model only with val_loss available, skipping.\n",
      "5/5 [==============================] - 2s 407ms/step - loss: 0.0032 - semantic_0_loss: 8.4017e-04 - semantic_1_loss: 0.0017 - semantic_2_loss: 6.5575e-04 - lr: 2.7349e-05\n",
      "Epoch 131/200\n",
      "5/5 [==============================] - ETA: 0s - loss: 0.0027 - semantic_0_loss: 7.0420e-04 - semantic_1_loss: 0.0014 - semantic_2_loss: 6.0722e-04WARNING:tensorflow:Can save best model only with val_loss available, skipping.\n",
      "5/5 [==============================] - 2s 367ms/step - loss: 0.0027 - semantic_0_loss: 7.0420e-04 - semantic_1_loss: 0.0014 - semantic_2_loss: 6.0722e-04 - lr: 2.7075e-05\n",
      "Epoch 132/200\n",
      "5/5 [==============================] - ETA: 0s - loss: 0.0033 - semantic_0_loss: 8.5776e-04 - semantic_1_loss: 0.0018 - semantic_2_loss: 6.4567e-04WARNING:tensorflow:Can save best model only with val_loss available, skipping.\n",
      "5/5 [==============================] - 3s 465ms/step - loss: 0.0033 - semantic_0_loss: 8.5776e-04 - semantic_1_loss: 0.0018 - semantic_2_loss: 6.4567e-04 - lr: 2.6805e-05\n",
      "Epoch 133/200\n",
      "5/5 [==============================] - ETA: 0s - loss: 0.0031 - semantic_0_loss: 7.7949e-04 - semantic_1_loss: 0.0017 - semantic_2_loss: 6.2245e-04WARNING:tensorflow:Can save best model only with val_loss available, skipping.\n",
      "5/5 [==============================] - 2s 393ms/step - loss: 0.0031 - semantic_0_loss: 7.7949e-04 - semantic_1_loss: 0.0017 - semantic_2_loss: 6.2245e-04 - lr: 2.6537e-05\n",
      "Epoch 134/200\n",
      "5/5 [==============================] - ETA: 0s - loss: 0.0031 - semantic_0_loss: 8.6317e-04 - semantic_1_loss: 0.0016 - semantic_2_loss: 6.3165e-04WARNING:tensorflow:Can save best model only with val_loss available, skipping.\n",
      "5/5 [==============================] - 2s 404ms/step - loss: 0.0031 - semantic_0_loss: 8.6317e-04 - semantic_1_loss: 0.0016 - semantic_2_loss: 6.3165e-04 - lr: 2.6271e-05\n",
      "Epoch 135/200\n",
      "5/5 [==============================] - ETA: 0s - loss: 0.0029 - semantic_0_loss: 7.5192e-04 - semantic_1_loss: 0.0016 - semantic_2_loss: 6.1743e-04WARNING:tensorflow:Can save best model only with val_loss available, skipping.\n",
      "5/5 [==============================] - 3s 487ms/step - loss: 0.0029 - semantic_0_loss: 7.5192e-04 - semantic_1_loss: 0.0016 - semantic_2_loss: 6.1743e-04 - lr: 2.6009e-05\n",
      "Epoch 136/200\n",
      "5/5 [==============================] - ETA: 0s - loss: 0.0035 - semantic_0_loss: 9.3821e-04 - semantic_1_loss: 0.0019 - semantic_2_loss: 6.9606e-04WARNING:tensorflow:Can save best model only with val_loss available, skipping.\n",
      "5/5 [==============================] - 2s 399ms/step - loss: 0.0035 - semantic_0_loss: 9.3821e-04 - semantic_1_loss: 0.0019 - semantic_2_loss: 6.9606e-04 - lr: 2.5748e-05\n",
      "Epoch 137/200\n",
      "5/5 [==============================] - ETA: 0s - loss: 0.0028 - semantic_0_loss: 7.2182e-04 - semantic_1_loss: 0.0015 - semantic_2_loss: 5.9331e-04WARNING:tensorflow:Can save best model only with val_loss available, skipping.\n",
      "5/5 [==============================] - 2s 500ms/step - loss: 0.0028 - semantic_0_loss: 7.2182e-04 - semantic_1_loss: 0.0015 - semantic_2_loss: 5.9331e-04 - lr: 2.5491e-05\n",
      "Epoch 138/200\n",
      "5/5 [==============================] - ETA: 0s - loss: 0.0031 - semantic_0_loss: 7.9934e-04 - semantic_1_loss: 0.0017 - semantic_2_loss: 6.4462e-04WARNING:tensorflow:Can save best model only with val_loss available, skipping.\n",
      "5/5 [==============================] - 2s 386ms/step - loss: 0.0031 - semantic_0_loss: 7.9934e-04 - semantic_1_loss: 0.0017 - semantic_2_loss: 6.4462e-04 - lr: 2.5236e-05\n",
      "Epoch 139/200\n",
      "5/5 [==============================] - ETA: 0s - loss: 0.0029 - semantic_0_loss: 7.5406e-04 - semantic_1_loss: 0.0016 - semantic_2_loss: 5.9777e-04WARNING:tensorflow:Can save best model only with val_loss available, skipping.\n",
      "5/5 [==============================] - 2s 404ms/step - loss: 0.0029 - semantic_0_loss: 7.5406e-04 - semantic_1_loss: 0.0016 - semantic_2_loss: 5.9777e-04 - lr: 2.4984e-05\n",
      "Epoch 140/200\n",
      "5/5 [==============================] - ETA: 0s - loss: 0.0028 - semantic_0_loss: 7.2506e-04 - semantic_1_loss: 0.0014 - semantic_2_loss: 6.0388e-04WARNING:tensorflow:Can save best model only with val_loss available, skipping.\n",
      "5/5 [==============================] - 3s 468ms/step - loss: 0.0028 - semantic_0_loss: 7.2506e-04 - semantic_1_loss: 0.0014 - semantic_2_loss: 6.0388e-04 - lr: 2.4734e-05\n",
      "Epoch 141/200\n",
      "5/5 [==============================] - ETA: 0s - loss: 0.0036 - semantic_0_loss: 9.0816e-04 - semantic_1_loss: 0.0020 - semantic_2_loss: 6.8961e-04WARNING:tensorflow:Can save best model only with val_loss available, skipping.\n",
      "5/5 [==============================] - 2s 493ms/step - loss: 0.0036 - semantic_0_loss: 9.0816e-04 - semantic_1_loss: 0.0020 - semantic_2_loss: 6.8961e-04 - lr: 2.4487e-05\n",
      "Epoch 142/200\n",
      "5/5 [==============================] - ETA: 0s - loss: 0.0031 - semantic_0_loss: 8.4714e-04 - semantic_1_loss: 0.0016 - semantic_2_loss: 6.3262e-04WARNING:tensorflow:Can save best model only with val_loss available, skipping.\n",
      "5/5 [==============================] - 2s 500ms/step - loss: 0.0031 - semantic_0_loss: 8.4714e-04 - semantic_1_loss: 0.0016 - semantic_2_loss: 6.3262e-04 - lr: 2.4242e-05\n",
      "Epoch 143/200\n",
      "5/5 [==============================] - ETA: 0s - loss: 0.0031 - semantic_0_loss: 8.0835e-04 - semantic_1_loss: 0.0017 - semantic_2_loss: 6.2614e-04WARNING:tensorflow:Can save best model only with val_loss available, skipping.\n",
      "5/5 [==============================] - 2s 489ms/step - loss: 0.0031 - semantic_0_loss: 8.0835e-04 - semantic_1_loss: 0.0017 - semantic_2_loss: 6.2614e-04 - lr: 2.3999e-05\n",
      "Epoch 144/200\n",
      "5/5 [==============================] - ETA: 0s - loss: 0.0031 - semantic_0_loss: 7.6868e-04 - semantic_1_loss: 0.0017 - semantic_2_loss: 6.1330e-04WARNING:tensorflow:Can save best model only with val_loss available, skipping.\n",
      "5/5 [==============================] - 2s 502ms/step - loss: 0.0031 - semantic_0_loss: 7.6868e-04 - semantic_1_loss: 0.0017 - semantic_2_loss: 6.1330e-04 - lr: 2.3759e-05\n",
      "Epoch 145/200\n",
      "5/5 [==============================] - ETA: 0s - loss: 0.0028 - semantic_0_loss: 7.3640e-04 - semantic_1_loss: 0.0015 - semantic_2_loss: 5.8091e-04WARNING:tensorflow:Can save best model only with val_loss available, skipping.\n",
      "5/5 [==============================] - 3s 478ms/step - loss: 0.0028 - semantic_0_loss: 7.3640e-04 - semantic_1_loss: 0.0015 - semantic_2_loss: 5.8091e-04 - lr: 2.3522e-05\n",
      "Epoch 146/200\n",
      "5/5 [==============================] - ETA: 0s - loss: 0.0032 - semantic_0_loss: 8.2345e-04 - semantic_1_loss: 0.0017 - semantic_2_loss: 6.4244e-04WARNING:tensorflow:Can save best model only with val_loss available, skipping.\n",
      "5/5 [==============================] - 2s 404ms/step - loss: 0.0032 - semantic_0_loss: 8.2345e-04 - semantic_1_loss: 0.0017 - semantic_2_loss: 6.4244e-04 - lr: 2.3286e-05\n",
      "Epoch 147/200\n",
      "5/5 [==============================] - ETA: 0s - loss: 0.0028 - semantic_0_loss: 7.0875e-04 - semantic_1_loss: 0.0015 - semantic_2_loss: 5.7932e-04WARNING:tensorflow:Can save best model only with val_loss available, skipping.\n",
      "5/5 [==============================] - 2s 493ms/step - loss: 0.0028 - semantic_0_loss: 7.0875e-04 - semantic_1_loss: 0.0015 - semantic_2_loss: 5.7932e-04 - lr: 2.3054e-05\n",
      "Epoch 148/200\n",
      "5/5 [==============================] - ETA: 0s - loss: 0.0028 - semantic_0_loss: 7.0166e-04 - semantic_1_loss: 0.0015 - semantic_2_loss: 6.0526e-04WARNING:tensorflow:Can save best model only with val_loss available, skipping.\n",
      "5/5 [==============================] - 2s 401ms/step - loss: 0.0028 - semantic_0_loss: 7.0166e-04 - semantic_1_loss: 0.0015 - semantic_2_loss: 6.0526e-04 - lr: 2.2823e-05\n",
      "Epoch 149/200\n",
      "5/5 [==============================] - ETA: 0s - loss: 0.0030 - semantic_0_loss: 7.8987e-04 - semantic_1_loss: 0.0016 - semantic_2_loss: 6.0326e-04WARNING:tensorflow:Can save best model only with val_loss available, skipping.\n",
      "5/5 [==============================] - 2s 500ms/step - loss: 0.0030 - semantic_0_loss: 7.8987e-04 - semantic_1_loss: 0.0016 - semantic_2_loss: 6.0326e-04 - lr: 2.2595e-05\n",
      "Epoch 150/200\n",
      "5/5 [==============================] - ETA: 0s - loss: 0.0030 - semantic_0_loss: 8.0582e-04 - semantic_1_loss: 0.0016 - semantic_2_loss: 6.0115e-04WARNING:tensorflow:Can save best model only with val_loss available, skipping.\n",
      "5/5 [==============================] - 2s 485ms/step - loss: 0.0030 - semantic_0_loss: 8.0582e-04 - semantic_1_loss: 0.0016 - semantic_2_loss: 6.0115e-04 - lr: 2.2369e-05\n",
      "Epoch 151/200\n",
      "5/5 [==============================] - ETA: 0s - loss: 0.0037 - semantic_0_loss: 9.6256e-04 - semantic_1_loss: 0.0020 - semantic_2_loss: 7.1615e-04WARNING:tensorflow:Can save best model only with val_loss available, skipping.\n",
      "5/5 [==============================] - 2s 502ms/step - loss: 0.0037 - semantic_0_loss: 9.6256e-04 - semantic_1_loss: 0.0020 - semantic_2_loss: 7.1615e-04 - lr: 2.2145e-05\n",
      "Epoch 152/200\n",
      "5/5 [==============================] - ETA: 0s - loss: 0.0029 - semantic_0_loss: 7.5045e-04 - semantic_1_loss: 0.0015 - semantic_2_loss: 5.9770e-04WARNING:tensorflow:Can save best model only with val_loss available, skipping.\n",
      "5/5 [==============================] - 2s 491ms/step - loss: 0.0029 - semantic_0_loss: 7.5045e-04 - semantic_1_loss: 0.0015 - semantic_2_loss: 5.9770e-04 - lr: 2.1924e-05\n",
      "Epoch 153/200\n",
      "5/5 [==============================] - ETA: 0s - loss: 0.0028 - semantic_0_loss: 7.6595e-04 - semantic_1_loss: 0.0015 - semantic_2_loss: 5.9173e-04WARNING:tensorflow:Can save best model only with val_loss available, skipping.\n",
      "5/5 [==============================] - 2s 458ms/step - loss: 0.0028 - semantic_0_loss: 7.6595e-04 - semantic_1_loss: 0.0015 - semantic_2_loss: 5.9173e-04 - lr: 2.1704e-05\n",
      "Epoch 154/200\n",
      "5/5 [==============================] - ETA: 0s - loss: 0.0029 - semantic_0_loss: 7.8359e-04 - semantic_1_loss: 0.0015 - semantic_2_loss: 5.9475e-04WARNING:tensorflow:Can save best model only with val_loss available, skipping.\n",
      "5/5 [==============================] - 3s 467ms/step - loss: 0.0029 - semantic_0_loss: 7.8359e-04 - semantic_1_loss: 0.0015 - semantic_2_loss: 5.9475e-04 - lr: 2.1487e-05\n",
      "Epoch 155/200\n",
      "5/5 [==============================] - ETA: 0s - loss: 0.0030 - semantic_0_loss: 7.9838e-04 - semantic_1_loss: 0.0016 - semantic_2_loss: 6.0968e-04WARNING:tensorflow:Can save best model only with val_loss available, skipping.\n",
      "5/5 [==============================] - 3s 456ms/step - loss: 0.0030 - semantic_0_loss: 7.9838e-04 - semantic_1_loss: 0.0016 - semantic_2_loss: 6.0968e-04 - lr: 2.1273e-05\n",
      "Epoch 156/200\n",
      "5/5 [==============================] - ETA: 0s - loss: 0.0030 - semantic_0_loss: 8.1321e-04 - semantic_1_loss: 0.0016 - semantic_2_loss: 6.3000e-04WARNING:tensorflow:Can save best model only with val_loss available, skipping.\n",
      "5/5 [==============================] - 3s 461ms/step - loss: 0.0030 - semantic_0_loss: 8.1321e-04 - semantic_1_loss: 0.0016 - semantic_2_loss: 6.3000e-04 - lr: 2.1060e-05\n",
      "Epoch 157/200\n",
      "5/5 [==============================] - ETA: 0s - loss: 0.0029 - semantic_0_loss: 7.8357e-04 - semantic_1_loss: 0.0015 - semantic_2_loss: 5.9559e-04WARNING:tensorflow:Can save best model only with val_loss available, skipping.\n",
      "5/5 [==============================] - 3s 470ms/step - loss: 0.0029 - semantic_0_loss: 7.8357e-04 - semantic_1_loss: 0.0015 - semantic_2_loss: 5.9559e-04 - lr: 2.0849e-05\n",
      "Epoch 158/200\n",
      "5/5 [==============================] - ETA: 0s - loss: 0.0032 - semantic_0_loss: 8.5034e-04 - semantic_1_loss: 0.0018 - semantic_2_loss: 6.4259e-04WARNING:tensorflow:Can save best model only with val_loss available, skipping.\n",
      "5/5 [==============================] - 2s 400ms/step - loss: 0.0032 - semantic_0_loss: 8.5034e-04 - semantic_1_loss: 0.0018 - semantic_2_loss: 6.4259e-04 - lr: 2.0641e-05\n",
      "Epoch 159/200\n",
      "5/5 [==============================] - ETA: 0s - loss: 0.0029 - semantic_0_loss: 7.7421e-04 - semantic_1_loss: 0.0015 - semantic_2_loss: 6.1212e-04WARNING:tensorflow:Can save best model only with val_loss available, skipping.\n",
      "5/5 [==============================] - 2s 388ms/step - loss: 0.0029 - semantic_0_loss: 7.7421e-04 - semantic_1_loss: 0.0015 - semantic_2_loss: 6.1212e-04 - lr: 2.0434e-05\n",
      "Epoch 160/200\n",
      "5/5 [==============================] - ETA: 0s - loss: 0.0030 - semantic_0_loss: 7.9219e-04 - semantic_1_loss: 0.0016 - semantic_2_loss: 6.3002e-04WARNING:tensorflow:Can save best model only with val_loss available, skipping.\n",
      "5/5 [==============================] - 2s 407ms/step - loss: 0.0030 - semantic_0_loss: 7.9219e-04 - semantic_1_loss: 0.0016 - semantic_2_loss: 6.3002e-04 - lr: 2.0230e-05\n",
      "Epoch 161/200\n",
      "5/5 [==============================] - ETA: 0s - loss: 0.0031 - semantic_0_loss: 8.0362e-04 - semantic_1_loss: 0.0017 - semantic_2_loss: 6.4353e-04WARNING:tensorflow:Can save best model only with val_loss available, skipping.\n",
      "5/5 [==============================] - 2s 399ms/step - loss: 0.0031 - semantic_0_loss: 8.0362e-04 - semantic_1_loss: 0.0017 - semantic_2_loss: 6.4353e-04 - lr: 2.0028e-05\n",
      "Epoch 162/200\n",
      "5/5 [==============================] - ETA: 0s - loss: 0.0029 - semantic_0_loss: 7.5776e-04 - semantic_1_loss: 0.0016 - semantic_2_loss: 6.1680e-04WARNING:tensorflow:Can save best model only with val_loss available, skipping.\n",
      "5/5 [==============================] - 2s 369ms/step - loss: 0.0029 - semantic_0_loss: 7.5776e-04 - semantic_1_loss: 0.0016 - semantic_2_loss: 6.1680e-04 - lr: 1.9827e-05\n",
      "Epoch 163/200\n",
      "5/5 [==============================] - ETA: 0s - loss: 0.0028 - semantic_0_loss: 7.2926e-04 - semantic_1_loss: 0.0015 - semantic_2_loss: 5.8667e-04WARNING:tensorflow:Can save best model only with val_loss available, skipping.\n",
      "5/5 [==============================] - 2s 393ms/step - loss: 0.0028 - semantic_0_loss: 7.2926e-04 - semantic_1_loss: 0.0015 - semantic_2_loss: 5.8667e-04 - lr: 1.9629e-05\n",
      "Epoch 164/200\n",
      "5/5 [==============================] - ETA: 0s - loss: 0.0030 - semantic_0_loss: 7.9251e-04 - semantic_1_loss: 0.0016 - semantic_2_loss: 6.3645e-04WARNING:tensorflow:Can save best model only with val_loss available, skipping.\n",
      "5/5 [==============================] - 3s 457ms/step - loss: 0.0030 - semantic_0_loss: 7.9251e-04 - semantic_1_loss: 0.0016 - semantic_2_loss: 6.3645e-04 - lr: 1.9433e-05\n",
      "Epoch 165/200\n",
      "5/5 [==============================] - ETA: 0s - loss: 0.0029 - semantic_0_loss: 8.0095e-04 - semantic_1_loss: 0.0015 - semantic_2_loss: 5.8934e-04WARNING:tensorflow:Can save best model only with val_loss available, skipping.\n",
      "5/5 [==============================] - 2s 397ms/step - loss: 0.0029 - semantic_0_loss: 8.0095e-04 - semantic_1_loss: 0.0015 - semantic_2_loss: 5.8934e-04 - lr: 1.9239e-05\n",
      "Epoch 166/200\n",
      "5/5 [==============================] - ETA: 0s - loss: 0.0031 - semantic_0_loss: 8.2721e-04 - semantic_1_loss: 0.0017 - semantic_2_loss: 6.3441e-04WARNING:tensorflow:Can save best model only with val_loss available, skipping.\n",
      "5/5 [==============================] - 2s 392ms/step - loss: 0.0031 - semantic_0_loss: 8.2721e-04 - semantic_1_loss: 0.0017 - semantic_2_loss: 6.3441e-04 - lr: 1.9046e-05\n",
      "Epoch 167/200\n",
      "5/5 [==============================] - ETA: 0s - loss: 0.0032 - semantic_0_loss: 8.2420e-04 - semantic_1_loss: 0.0017 - semantic_2_loss: 6.4152e-04WARNING:tensorflow:Can save best model only with val_loss available, skipping.\n",
      "5/5 [==============================] - 3s 462ms/step - loss: 0.0032 - semantic_0_loss: 8.2420e-04 - semantic_1_loss: 0.0017 - semantic_2_loss: 6.4152e-04 - lr: 1.8856e-05\n",
      "Epoch 168/200\n",
      "5/5 [==============================] - ETA: 0s - loss: 0.0029 - semantic_0_loss: 7.5804e-04 - semantic_1_loss: 0.0016 - semantic_2_loss: 6.2270e-04WARNING:tensorflow:Can save best model only with val_loss available, skipping.\n",
      "5/5 [==============================] - 2s 402ms/step - loss: 0.0029 - semantic_0_loss: 7.5804e-04 - semantic_1_loss: 0.0016 - semantic_2_loss: 6.2270e-04 - lr: 1.8667e-05\n",
      "Epoch 169/200\n",
      "5/5 [==============================] - ETA: 0s - loss: 0.0029 - semantic_0_loss: 7.5562e-04 - semantic_1_loss: 0.0015 - semantic_2_loss: 5.9110e-04WARNING:tensorflow:Can save best model only with val_loss available, skipping.\n",
      "5/5 [==============================] - 3s 464ms/step - loss: 0.0029 - semantic_0_loss: 7.5562e-04 - semantic_1_loss: 0.0015 - semantic_2_loss: 5.9110e-04 - lr: 1.8480e-05\n",
      "Epoch 170/200\n",
      "5/5 [==============================] - ETA: 0s - loss: 0.0028 - semantic_0_loss: 7.1542e-04 - semantic_1_loss: 0.0014 - semantic_2_loss: 5.9763e-04WARNING:tensorflow:Can save best model only with val_loss available, skipping.\n",
      "5/5 [==============================] - 2s 402ms/step - loss: 0.0028 - semantic_0_loss: 7.1542e-04 - semantic_1_loss: 0.0014 - semantic_2_loss: 5.9763e-04 - lr: 1.8296e-05\n",
      "Epoch 171/200\n",
      "5/5 [==============================] - ETA: 0s - loss: 0.0028 - semantic_0_loss: 7.2412e-04 - semantic_1_loss: 0.0015 - semantic_2_loss: 5.8062e-04WARNING:tensorflow:Can save best model only with val_loss available, skipping.\n",
      "5/5 [==============================] - 3s 470ms/step - loss: 0.0028 - semantic_0_loss: 7.2412e-04 - semantic_1_loss: 0.0015 - semantic_2_loss: 5.8062e-04 - lr: 1.8113e-05\n",
      "Epoch 172/200\n",
      "5/5 [==============================] - ETA: 0s - loss: 0.0030 - semantic_0_loss: 7.5284e-04 - semantic_1_loss: 0.0016 - semantic_2_loss: 6.2536e-04WARNING:tensorflow:Can save best model only with val_loss available, skipping.\n",
      "5/5 [==============================] - 2s 395ms/step - loss: 0.0030 - semantic_0_loss: 7.5284e-04 - semantic_1_loss: 0.0016 - semantic_2_loss: 6.2536e-04 - lr: 1.7932e-05\n",
      "Epoch 173/200\n",
      "5/5 [==============================] - ETA: 0s - loss: 0.0028 - semantic_0_loss: 7.5778e-04 - semantic_1_loss: 0.0015 - semantic_2_loss: 5.7648e-04WARNING:tensorflow:Can save best model only with val_loss available, skipping.\n",
      "5/5 [==============================] - 3s 471ms/step - loss: 0.0028 - semantic_0_loss: 7.5778e-04 - semantic_1_loss: 0.0015 - semantic_2_loss: 5.7648e-04 - lr: 1.7752e-05\n",
      "Epoch 174/200\n",
      "5/5 [==============================] - ETA: 0s - loss: 0.0030 - semantic_0_loss: 7.9771e-04 - semantic_1_loss: 0.0016 - semantic_2_loss: 6.2742e-04WARNING:tensorflow:Can save best model only with val_loss available, skipping.\n",
      "5/5 [==============================] - 2s 350ms/step - loss: 0.0030 - semantic_0_loss: 7.9771e-04 - semantic_1_loss: 0.0016 - semantic_2_loss: 6.2742e-04 - lr: 1.7575e-05\n",
      "Epoch 175/200\n",
      "5/5 [==============================] - ETA: 0s - loss: 0.0029 - semantic_0_loss: 7.6786e-04 - semantic_1_loss: 0.0015 - semantic_2_loss: 6.0359e-04WARNING:tensorflow:Can save best model only with val_loss available, skipping.\n",
      "5/5 [==============================] - 2s 448ms/step - loss: 0.0029 - semantic_0_loss: 7.6786e-04 - semantic_1_loss: 0.0015 - semantic_2_loss: 6.0359e-04 - lr: 1.7399e-05\n",
      "Epoch 176/200\n",
      "5/5 [==============================] - ETA: 0s - loss: 0.0030 - semantic_0_loss: 7.9325e-04 - semantic_1_loss: 0.0016 - semantic_2_loss: 6.0285e-04WARNING:tensorflow:Can save best model only with val_loss available, skipping.\n",
      "5/5 [==============================] - 2s 398ms/step - loss: 0.0030 - semantic_0_loss: 7.9325e-04 - semantic_1_loss: 0.0016 - semantic_2_loss: 6.0285e-04 - lr: 1.7225e-05\n",
      "Epoch 177/200\n",
      "5/5 [==============================] - ETA: 0s - loss: 0.0026 - semantic_0_loss: 6.9611e-04 - semantic_1_loss: 0.0014 - semantic_2_loss: 5.6147e-04WARNING:tensorflow:Can save best model only with val_loss available, skipping.\n",
      "5/5 [==============================] - 2s 391ms/step - loss: 0.0026 - semantic_0_loss: 6.9611e-04 - semantic_1_loss: 0.0014 - semantic_2_loss: 5.6147e-04 - lr: 1.7053e-05\n",
      "Epoch 178/200\n",
      "5/5 [==============================] - ETA: 0s - loss: 0.0032 - semantic_0_loss: 8.1866e-04 - semantic_1_loss: 0.0018 - semantic_2_loss: 6.4571e-04WARNING:tensorflow:Can save best model only with val_loss available, skipping.\n",
      "5/5 [==============================] - 2s 368ms/step - loss: 0.0032 - semantic_0_loss: 8.1866e-04 - semantic_1_loss: 0.0018 - semantic_2_loss: 6.4571e-04 - lr: 1.6882e-05\n",
      "Epoch 179/200\n",
      "5/5 [==============================] - ETA: 0s - loss: 0.0030 - semantic_0_loss: 7.3470e-04 - semantic_1_loss: 0.0016 - semantic_2_loss: 6.2073e-04WARNING:tensorflow:Can save best model only with val_loss available, skipping.\n",
      "5/5 [==============================] - 2s 409ms/step - loss: 0.0030 - semantic_0_loss: 7.3470e-04 - semantic_1_loss: 0.0016 - semantic_2_loss: 6.2073e-04 - lr: 1.6713e-05\n",
      "Epoch 180/200\n",
      "5/5 [==============================] - ETA: 0s - loss: 0.0030 - semantic_0_loss: 8.2663e-04 - semantic_1_loss: 0.0015 - semantic_2_loss: 5.9897e-04WARNING:tensorflow:Can save best model only with val_loss available, skipping.\n",
      "5/5 [==============================] - 3s 464ms/step - loss: 0.0030 - semantic_0_loss: 8.2663e-04 - semantic_1_loss: 0.0015 - semantic_2_loss: 5.9897e-04 - lr: 1.6546e-05\n",
      "Epoch 181/200\n",
      "5/5 [==============================] - ETA: 0s - loss: 0.0027 - semantic_0_loss: 7.1752e-04 - semantic_1_loss: 0.0014 - semantic_2_loss: 5.7718e-04WARNING:tensorflow:Can save best model only with val_loss available, skipping.\n",
      "5/5 [==============================] - 2s 386ms/step - loss: 0.0027 - semantic_0_loss: 7.1752e-04 - semantic_1_loss: 0.0014 - semantic_2_loss: 5.7718e-04 - lr: 1.6381e-05\n",
      "Epoch 182/200\n",
      "5/5 [==============================] - ETA: 0s - loss: 0.0030 - semantic_0_loss: 7.6255e-04 - semantic_1_loss: 0.0016 - semantic_2_loss: 6.1172e-04WARNING:tensorflow:Can save best model only with val_loss available, skipping.\n",
      "5/5 [==============================] - 2s 393ms/step - loss: 0.0030 - semantic_0_loss: 7.6255e-04 - semantic_1_loss: 0.0016 - semantic_2_loss: 6.1172e-04 - lr: 1.6217e-05\n",
      "Epoch 183/200\n",
      "5/5 [==============================] - ETA: 0s - loss: 0.0032 - semantic_0_loss: 8.5477e-04 - semantic_1_loss: 0.0017 - semantic_2_loss: 6.2779e-04WARNING:tensorflow:Can save best model only with val_loss available, skipping.\n",
      "5/5 [==============================] - 2s 405ms/step - loss: 0.0032 - semantic_0_loss: 8.5477e-04 - semantic_1_loss: 0.0017 - semantic_2_loss: 6.2779e-04 - lr: 1.6055e-05\n",
      "Epoch 184/200\n",
      "5/5 [==============================] - ETA: 0s - loss: 0.0027 - semantic_0_loss: 7.1542e-04 - semantic_1_loss: 0.0014 - semantic_2_loss: 5.5325e-04WARNING:tensorflow:Can save best model only with val_loss available, skipping.\n",
      "5/5 [==============================] - 2s 505ms/step - loss: 0.0027 - semantic_0_loss: 7.1542e-04 - semantic_1_loss: 0.0014 - semantic_2_loss: 5.5325e-04 - lr: 1.5894e-05\n",
      "Epoch 185/200\n",
      "5/5 [==============================] - ETA: 0s - loss: 0.0028 - semantic_0_loss: 7.5761e-04 - semantic_1_loss: 0.0015 - semantic_2_loss: 5.9182e-04WARNING:tensorflow:Can save best model only with val_loss available, skipping.\n",
      "5/5 [==============================] - 3s 456ms/step - loss: 0.0028 - semantic_0_loss: 7.5761e-04 - semantic_1_loss: 0.0015 - semantic_2_loss: 5.9182e-04 - lr: 1.5735e-05\n",
      "Epoch 186/200\n",
      "5/5 [==============================] - ETA: 0s - loss: 0.0030 - semantic_0_loss: 7.6550e-04 - semantic_1_loss: 0.0016 - semantic_2_loss: 6.1777e-04WARNING:tensorflow:Can save best model only with val_loss available, skipping.\n",
      "5/5 [==============================] - 2s 370ms/step - loss: 0.0030 - semantic_0_loss: 7.6550e-04 - semantic_1_loss: 0.0016 - semantic_2_loss: 6.1777e-04 - lr: 1.5578e-05\n",
      "Epoch 187/200\n",
      "5/5 [==============================] - ETA: 0s - loss: 0.0030 - semantic_0_loss: 8.4309e-04 - semantic_1_loss: 0.0015 - semantic_2_loss: 6.1394e-04WARNING:tensorflow:Can save best model only with val_loss available, skipping.\n",
      "5/5 [==============================] - 2s 361ms/step - loss: 0.0030 - semantic_0_loss: 8.4309e-04 - semantic_1_loss: 0.0015 - semantic_2_loss: 6.1394e-04 - lr: 1.5422e-05\n",
      "Epoch 188/200\n",
      "5/5 [==============================] - ETA: 0s - loss: 0.0032 - semantic_0_loss: 8.2727e-04 - semantic_1_loss: 0.0017 - semantic_2_loss: 6.2316e-04WARNING:tensorflow:Can save best model only with val_loss available, skipping.\n",
      "5/5 [==============================] - 2s 368ms/step - loss: 0.0032 - semantic_0_loss: 8.2727e-04 - semantic_1_loss: 0.0017 - semantic_2_loss: 6.2316e-04 - lr: 1.5268e-05\n",
      "Epoch 189/200\n",
      "5/5 [==============================] - ETA: 0s - loss: 0.0028 - semantic_0_loss: 7.6488e-04 - semantic_1_loss: 0.0015 - semantic_2_loss: 5.8060e-04WARNING:tensorflow:Can save best model only with val_loss available, skipping.\n",
      "5/5 [==============================] - 3s 460ms/step - loss: 0.0028 - semantic_0_loss: 7.6488e-04 - semantic_1_loss: 0.0015 - semantic_2_loss: 5.8060e-04 - lr: 1.5115e-05\n",
      "Epoch 190/200\n",
      "5/5 [==============================] - ETA: 0s - loss: 0.0030 - semantic_0_loss: 7.9707e-04 - semantic_1_loss: 0.0016 - semantic_2_loss: 6.4249e-04WARNING:tensorflow:Can save best model only with val_loss available, skipping.\n",
      "5/5 [==============================] - 3s 473ms/step - loss: 0.0030 - semantic_0_loss: 7.9707e-04 - semantic_1_loss: 0.0016 - semantic_2_loss: 6.4249e-04 - lr: 1.4964e-05\n",
      "Epoch 191/200\n",
      "5/5 [==============================] - ETA: 0s - loss: 0.0030 - semantic_0_loss: 8.0958e-04 - semantic_1_loss: 0.0015 - semantic_2_loss: 6.0663e-04WARNING:tensorflow:Can save best model only with val_loss available, skipping.\n",
      "5/5 [==============================] - 2s 392ms/step - loss: 0.0030 - semantic_0_loss: 8.0958e-04 - semantic_1_loss: 0.0015 - semantic_2_loss: 6.0663e-04 - lr: 1.4814e-05\n",
      "Epoch 192/200\n",
      "5/5 [==============================] - ETA: 0s - loss: 0.0030 - semantic_0_loss: 8.0822e-04 - semantic_1_loss: 0.0016 - semantic_2_loss: 6.1367e-04WARNING:tensorflow:Can save best model only with val_loss available, skipping.\n",
      "5/5 [==============================] - 3s 463ms/step - loss: 0.0030 - semantic_0_loss: 8.0822e-04 - semantic_1_loss: 0.0016 - semantic_2_loss: 6.1367e-04 - lr: 1.4666e-05\n",
      "Epoch 193/200\n",
      "5/5 [==============================] - ETA: 0s - loss: 0.0028 - semantic_0_loss: 7.3986e-04 - semantic_1_loss: 0.0014 - semantic_2_loss: 6.1719e-04WARNING:tensorflow:Can save best model only with val_loss available, skipping.\n",
      "5/5 [==============================] - 2s 408ms/step - loss: 0.0028 - semantic_0_loss: 7.3986e-04 - semantic_1_loss: 0.0014 - semantic_2_loss: 6.1719e-04 - lr: 1.4520e-05\n",
      "Epoch 194/200\n",
      "5/5 [==============================] - ETA: 0s - loss: 0.0028 - semantic_0_loss: 7.3280e-04 - semantic_1_loss: 0.0015 - semantic_2_loss: 6.0595e-04WARNING:tensorflow:Can save best model only with val_loss available, skipping.\n",
      "5/5 [==============================] - 2s 401ms/step - loss: 0.0028 - semantic_0_loss: 7.3280e-04 - semantic_1_loss: 0.0015 - semantic_2_loss: 6.0595e-04 - lr: 1.4374e-05\n",
      "Epoch 195/200\n",
      "5/5 [==============================] - ETA: 0s - loss: 0.0029 - semantic_0_loss: 7.6071e-04 - semantic_1_loss: 0.0015 - semantic_2_loss: 5.8666e-04WARNING:tensorflow:Can save best model only with val_loss available, skipping.\n",
      "5/5 [==============================] - 2s 397ms/step - loss: 0.0029 - semantic_0_loss: 7.6071e-04 - semantic_1_loss: 0.0015 - semantic_2_loss: 5.8666e-04 - lr: 1.4231e-05\n",
      "Epoch 196/200\n",
      "5/5 [==============================] - ETA: 0s - loss: 0.0028 - semantic_0_loss: 7.0062e-04 - semantic_1_loss: 0.0015 - semantic_2_loss: 5.8593e-04WARNING:tensorflow:Can save best model only with val_loss available, skipping.\n",
      "5/5 [==============================] - 2s 390ms/step - loss: 0.0028 - semantic_0_loss: 7.0062e-04 - semantic_1_loss: 0.0015 - semantic_2_loss: 5.8593e-04 - lr: 1.4088e-05\n",
      "Epoch 197/200\n",
      "5/5 [==============================] - ETA: 0s - loss: 0.0028 - semantic_0_loss: 7.4809e-04 - semantic_1_loss: 0.0015 - semantic_2_loss: 6.0000e-04WARNING:tensorflow:Can save best model only with val_loss available, skipping.\n",
      "5/5 [==============================] - 2s 394ms/step - loss: 0.0028 - semantic_0_loss: 7.4809e-04 - semantic_1_loss: 0.0015 - semantic_2_loss: 6.0000e-04 - lr: 1.3948e-05\n",
      "Epoch 198/200\n",
      "5/5 [==============================] - ETA: 0s - loss: 0.0029 - semantic_0_loss: 7.7007e-04 - semantic_1_loss: 0.0016 - semantic_2_loss: 5.9339e-04WARNING:tensorflow:Can save best model only with val_loss available, skipping.\n",
      "5/5 [==============================] - 2s 503ms/step - loss: 0.0029 - semantic_0_loss: 7.7007e-04 - semantic_1_loss: 0.0016 - semantic_2_loss: 5.9339e-04 - lr: 1.3808e-05\n",
      "Epoch 199/200\n",
      "5/5 [==============================] - ETA: 0s - loss: 0.0026 - semantic_0_loss: 6.5862e-04 - semantic_1_loss: 0.0014 - semantic_2_loss: 5.4269e-04WARNING:tensorflow:Can save best model only with val_loss available, skipping.\n",
      "5/5 [==============================] - 2s 388ms/step - loss: 0.0026 - semantic_0_loss: 6.5862e-04 - semantic_1_loss: 0.0014 - semantic_2_loss: 5.4269e-04 - lr: 1.3670e-05\n",
      "Epoch 200/200\n",
      "5/5 [==============================] - ETA: 0s - loss: 0.0028 - semantic_0_loss: 7.3259e-04 - semantic_1_loss: 0.0015 - semantic_2_loss: 5.8693e-04WARNING:tensorflow:Can save best model only with val_loss available, skipping.\n",
      "5/5 [==============================] - 3s 464ms/step - loss: 0.0028 - semantic_0_loss: 7.3259e-04 - semantic_1_loss: 0.0015 - semantic_2_loss: 5.8693e-04 - lr: 1.3533e-05\n",
      "/home/yfong/deeplearning/dense_cell_segmentation\n",
      "['M926910_CFL_Position7_CD3_test_img.png', 'M872956_JML_Position10_CD3_test_img.png', 'M872956_JML_Position8_CD8_test_img.png', 'M926910_CFL_Position13_CD3_test_img.png', 'M872956_JML_Position8_CD3_test_img.png', 'M872956_JML_Position8_CD4_test_img.png', 'M872956_JML_Position9_CD3_test_img.png']\n",
      "M926910_CFL_Position7_CD3_test_img.png\n"
     ]
    },
    {
     "name": "stderr",
     "output_type": "stream",
     "text": [
      "/app/software/DeepCell/0.11.1-foss-2021b-CUDA-11.4.1/lib/python3.9/site-packages/deepcell_toolbox/deep_watershed.py:179: FutureWarning: `selem` is a deprecated argument name for `h_maxima`. It will be removed in version 1.0.Please use `footprint` instead.\n",
      "  markers = h_maxima(image=maxima,\n"
     ]
    },
    {
     "name": "stdout",
     "output_type": "stream",
     "text": [
      "M872956_JML_Position10_CD3_test_img.png\n",
      "M872956_JML_Position8_CD8_test_img.png\n",
      "M926910_CFL_Position13_CD3_test_img.png\n",
      "M872956_JML_Position8_CD3_test_img.png\n",
      "M872956_JML_Position8_CD4_test_img.png\n",
      "M872956_JML_Position9_CD3_test_img.png\n",
      "[[0.21428571428571427, 0.2823712948517941], [0.23333333333333334, 0.3527204502814259], [0.38219895287958117, 0.4213197969543147], [0.15365239294710328, 0.23227383863080683], [0.33638025594149906, 0.4655493482309125], [0.48947368421052634, 0.5367647058823529], [0.22981366459627328, 0.32075471698113206]]\n",
      "                                         0         1         2\n",
      "0   M926910_CFL_Position7_CD3_test_img.png  0.214286  0.282371\n",
      "1  M872956_JML_Position10_CD3_test_img.png  0.233333   0.35272\n",
      "2   M872956_JML_Position8_CD8_test_img.png  0.382199   0.42132\n",
      "3  M926910_CFL_Position13_CD3_test_img.png  0.153652  0.232274\n",
      "4   M872956_JML_Position8_CD3_test_img.png   0.33638  0.465549\n",
      "5   M872956_JML_Position8_CD4_test_img.png  0.489474  0.536765\n",
      "6   M872956_JML_Position9_CD3_test_img.png  0.229814  0.320755\n",
      "2\n",
      "(2, 1040, 1159, 1)\n",
      "(2, 1040, 1159, 1)\n",
      "2.0\n",
      "(2, 2080, 2318, 1)\n",
      "(2, 2080, 2318, 1)\n",
      "(2, 2080, 2318, 1)\n",
      "(2, 2080, 2318, 1)\n",
      "[0, 400, 800, 1200, 1568]\n",
      "[512, 912, 1312, 1712, 2080]\n",
      "[0, 512, 1024, 1536, 1806]\n",
      "[512, 1024, 1536, 2048, 2318]\n",
      "(50, 512, 512, 1)\n",
      "(50, 512, 512, 1)\n",
      "WARNING:tensorflow:Removing 5 of 50 images with fewer than 5 objects.\n"
     ]
    },
    {
     "name": "stderr",
     "output_type": "stream",
     "text": [
      "WARNING:tensorflow:Removing 5 of 50 images with fewer than 5 objects.\n",
      "/app/software/TensorFlow/2.7.1-foss-2021b-CUDA-11.4.1/lib/python3.9/site-packages/keras/optimizer_v2/adam.py:105: UserWarning: The `lr` argument is deprecated, use `learning_rate` instead.\n",
      "  super(Adam, self).__init__(name, **kwargs)\n"
     ]
    },
    {
     "name": "stdout",
     "output_type": "stream",
     "text": [
      "Training on 3 GPUs.\n"
     ]
    },
    {
     "name": "stderr",
     "output_type": "stream",
     "text": [
      "2022-11-06 09:00:21.465058: I tensorflow/core/common_runtime/gpu/gpu_device.cc:1525] Created device /device:GPU:0 with 14657 MB memory:  -> device: 0, name: Tesla V100-PCIE-16GB, pci bus id: 0000:04:00.0, compute capability: 7.0\n",
      "2022-11-06 09:00:21.466099: I tensorflow/core/common_runtime/gpu/gpu_device.cc:1525] Created device /device:GPU:1 with 14657 MB memory:  -> device: 1, name: Tesla V100-PCIE-16GB, pci bus id: 0000:06:00.0, compute capability: 7.0\n",
      "2022-11-06 09:00:21.467118: I tensorflow/core/common_runtime/gpu/gpu_device.cc:1525] Created device /device:GPU:2 with 14657 MB memory:  -> device: 2, name: Tesla V100-PCIE-16GB, pci bus id: 0000:08:00.0, compute capability: 7.0\n"
     ]
    },
    {
     "name": "stdout",
     "output_type": "stream",
     "text": [
      "Epoch 1/200\n",
      "11/11 [==============================] - ETA: 0s - loss: 0.0150 - semantic_0_loss: 0.0034 - semantic_1_loss: 0.0087 - semantic_2_loss: 0.0029WARNING:tensorflow:Can save best model only with val_loss available, skipping.\n"
     ]
    },
    {
     "name": "stderr",
     "output_type": "stream",
     "text": [
      "WARNING:tensorflow:Can save best model only with val_loss available, skipping.\n"
     ]
    },
    {
     "name": "stdout",
     "output_type": "stream",
     "text": [
      "11/11 [==============================] - 19s 496ms/step - loss: 0.0150 - semantic_0_loss: 0.0034 - semantic_1_loss: 0.0087 - semantic_2_loss: 0.0029 - lr: 1.0000e-04\n",
      "Epoch 2/200\n",
      "11/11 [==============================] - ETA: 0s - loss: 0.0101 - semantic_0_loss: 0.0024 - semantic_1_loss: 0.0063 - semantic_2_loss: 0.0015WARNING:tensorflow:Can save best model only with val_loss available, skipping.\n"
     ]
    },
    {
     "name": "stderr",
     "output_type": "stream",
     "text": [
      "WARNING:tensorflow:Can save best model only with val_loss available, skipping.\n"
     ]
    },
    {
     "name": "stdout",
     "output_type": "stream",
     "text": [
      "11/11 [==============================] - 6s 468ms/step - loss: 0.0101 - semantic_0_loss: 0.0024 - semantic_1_loss: 0.0063 - semantic_2_loss: 0.0015 - lr: 9.9000e-05\n",
      "Epoch 3/200\n",
      "11/11 [==============================] - ETA: 0s - loss: 0.0097 - semantic_0_loss: 0.0023 - semantic_1_loss: 0.0060 - semantic_2_loss: 0.0014WARNING:tensorflow:Can save best model only with val_loss available, skipping.\n"
     ]
    },
    {
     "name": "stderr",
     "output_type": "stream",
     "text": [
      "WARNING:tensorflow:Can save best model only with val_loss available, skipping.\n"
     ]
    },
    {
     "name": "stdout",
     "output_type": "stream",
     "text": [
      "11/11 [==============================] - 6s 478ms/step - loss: 0.0097 - semantic_0_loss: 0.0023 - semantic_1_loss: 0.0060 - semantic_2_loss: 0.0014 - lr: 9.8010e-05\n",
      "Epoch 4/200\n",
      "11/11 [==============================] - ETA: 0s - loss: 0.0095 - semantic_0_loss: 0.0022 - semantic_1_loss: 0.0059 - semantic_2_loss: 0.0013WARNING:tensorflow:Can save best model only with val_loss available, skipping.\n"
     ]
    },
    {
     "name": "stderr",
     "output_type": "stream",
     "text": [
      "WARNING:tensorflow:Can save best model only with val_loss available, skipping.\n"
     ]
    },
    {
     "name": "stdout",
     "output_type": "stream",
     "text": [
      "11/11 [==============================] - 6s 478ms/step - loss: 0.0095 - semantic_0_loss: 0.0022 - semantic_1_loss: 0.0059 - semantic_2_loss: 0.0013 - lr: 9.7030e-05\n",
      "Epoch 5/200\n",
      "11/11 [==============================] - ETA: 0s - loss: 0.0094 - semantic_0_loss: 0.0023 - semantic_1_loss: 0.0059 - semantic_2_loss: 0.0013WARNING:tensorflow:Can save best model only with val_loss available, skipping.\n"
     ]
    },
    {
     "name": "stderr",
     "output_type": "stream",
     "text": [
      "WARNING:tensorflow:Can save best model only with val_loss available, skipping.\n"
     ]
    },
    {
     "name": "stdout",
     "output_type": "stream",
     "text": [
      "11/11 [==============================] - 6s 483ms/step - loss: 0.0094 - semantic_0_loss: 0.0023 - semantic_1_loss: 0.0059 - semantic_2_loss: 0.0013 - lr: 9.6060e-05\n",
      "Epoch 6/200\n",
      "11/11 [==============================] - ETA: 0s - loss: 0.0088 - semantic_0_loss: 0.0021 - semantic_1_loss: 0.0055 - semantic_2_loss: 0.0012WARNING:tensorflow:Can save best model only with val_loss available, skipping.\n"
     ]
    },
    {
     "name": "stderr",
     "output_type": "stream",
     "text": [
      "WARNING:tensorflow:Can save best model only with val_loss available, skipping.\n"
     ]
    },
    {
     "name": "stdout",
     "output_type": "stream",
     "text": [
      "11/11 [==============================] - 6s 489ms/step - loss: 0.0088 - semantic_0_loss: 0.0021 - semantic_1_loss: 0.0055 - semantic_2_loss: 0.0012 - lr: 9.5099e-05\n",
      "Epoch 7/200\n",
      "11/11 [==============================] - ETA: 0s - loss: 0.0090 - semantic_0_loss: 0.0021 - semantic_1_loss: 0.0056 - semantic_2_loss: 0.0012WARNING:tensorflow:Can save best model only with val_loss available, skipping.\n"
     ]
    },
    {
     "name": "stderr",
     "output_type": "stream",
     "text": [
      "WARNING:tensorflow:Can save best model only with val_loss available, skipping.\n"
     ]
    },
    {
     "name": "stdout",
     "output_type": "stream",
     "text": [
      "11/11 [==============================] - 6s 486ms/step - loss: 0.0090 - semantic_0_loss: 0.0021 - semantic_1_loss: 0.0056 - semantic_2_loss: 0.0012 - lr: 9.4148e-05\n",
      "Epoch 8/200\n",
      "11/11 [==============================] - ETA: 0s - loss: 0.0086 - semantic_0_loss: 0.0020 - semantic_1_loss: 0.0054 - semantic_2_loss: 0.0012WARNING:tensorflow:Can save best model only with val_loss available, skipping.\n"
     ]
    },
    {
     "name": "stderr",
     "output_type": "stream",
     "text": [
      "WARNING:tensorflow:Can save best model only with val_loss available, skipping.\n"
     ]
    },
    {
     "name": "stdout",
     "output_type": "stream",
     "text": [
      "11/11 [==============================] - 5s 475ms/step - loss: 0.0086 - semantic_0_loss: 0.0020 - semantic_1_loss: 0.0054 - semantic_2_loss: 0.0012 - lr: 9.3207e-05\n",
      "Epoch 9/200\n",
      "11/11 [==============================] - ETA: 0s - loss: 0.0091 - semantic_0_loss: 0.0021 - semantic_1_loss: 0.0058 - semantic_2_loss: 0.0012WARNING:tensorflow:Can save best model only with val_loss available, skipping.\n"
     ]
    },
    {
     "name": "stderr",
     "output_type": "stream",
     "text": [
      "WARNING:tensorflow:Can save best model only with val_loss available, skipping.\n"
     ]
    },
    {
     "name": "stdout",
     "output_type": "stream",
     "text": [
      "11/11 [==============================] - 6s 472ms/step - loss: 0.0091 - semantic_0_loss: 0.0021 - semantic_1_loss: 0.0058 - semantic_2_loss: 0.0012 - lr: 9.2274e-05\n",
      "Epoch 10/200\n",
      "11/11 [==============================] - ETA: 0s - loss: 0.0088 - semantic_0_loss: 0.0021 - semantic_1_loss: 0.0055 - semantic_2_loss: 0.0012WARNING:tensorflow:Can save best model only with val_loss available, skipping.\n"
     ]
    },
    {
     "name": "stderr",
     "output_type": "stream",
     "text": [
      "WARNING:tensorflow:Can save best model only with val_loss available, skipping.\n"
     ]
    },
    {
     "name": "stdout",
     "output_type": "stream",
     "text": [
      "11/11 [==============================] - 6s 483ms/step - loss: 0.0088 - semantic_0_loss: 0.0021 - semantic_1_loss: 0.0055 - semantic_2_loss: 0.0012 - lr: 9.1352e-05\n",
      "Epoch 11/200\n",
      "11/11 [==============================] - ETA: 0s - loss: 0.0090 - semantic_0_loss: 0.0021 - semantic_1_loss: 0.0057 - semantic_2_loss: 0.0012WARNING:tensorflow:Can save best model only with val_loss available, skipping.\n"
     ]
    },
    {
     "name": "stderr",
     "output_type": "stream",
     "text": [
      "WARNING:tensorflow:Can save best model only with val_loss available, skipping.\n"
     ]
    },
    {
     "name": "stdout",
     "output_type": "stream",
     "text": [
      "11/11 [==============================] - 5s 525ms/step - loss: 0.0090 - semantic_0_loss: 0.0021 - semantic_1_loss: 0.0057 - semantic_2_loss: 0.0012 - lr: 9.0438e-05\n",
      "Epoch 12/200\n",
      "11/11 [==============================] - ETA: 0s - loss: 0.0090 - semantic_0_loss: 0.0021 - semantic_1_loss: 0.0057 - semantic_2_loss: 0.0012WARNING:tensorflow:Can save best model only with val_loss available, skipping.\n"
     ]
    },
    {
     "name": "stderr",
     "output_type": "stream",
     "text": [
      "WARNING:tensorflow:Can save best model only with val_loss available, skipping.\n"
     ]
    },
    {
     "name": "stdout",
     "output_type": "stream",
     "text": [
      "11/11 [==============================] - 6s 519ms/step - loss: 0.0090 - semantic_0_loss: 0.0021 - semantic_1_loss: 0.0057 - semantic_2_loss: 0.0012 - lr: 8.9534e-05\n",
      "Epoch 13/200\n",
      "11/11 [==============================] - ETA: 0s - loss: 0.0080 - semantic_0_loss: 0.0019 - semantic_1_loss: 0.0050 - semantic_2_loss: 0.0011WARNING:tensorflow:Can save best model only with val_loss available, skipping.\n"
     ]
    },
    {
     "name": "stderr",
     "output_type": "stream",
     "text": [
      "WARNING:tensorflow:Can save best model only with val_loss available, skipping.\n"
     ]
    },
    {
     "name": "stdout",
     "output_type": "stream",
     "text": [
      "11/11 [==============================] - 6s 476ms/step - loss: 0.0080 - semantic_0_loss: 0.0019 - semantic_1_loss: 0.0050 - semantic_2_loss: 0.0011 - lr: 8.8638e-05\n",
      "Epoch 14/200\n",
      "11/11 [==============================] - ETA: 0s - loss: 0.0091 - semantic_0_loss: 0.0022 - semantic_1_loss: 0.0057 - semantic_2_loss: 0.0012WARNING:tensorflow:Can save best model only with val_loss available, skipping.\n"
     ]
    },
    {
     "name": "stderr",
     "output_type": "stream",
     "text": [
      "WARNING:tensorflow:Can save best model only with val_loss available, skipping.\n"
     ]
    },
    {
     "name": "stdout",
     "output_type": "stream",
     "text": [
      "11/11 [==============================] - 6s 482ms/step - loss: 0.0091 - semantic_0_loss: 0.0022 - semantic_1_loss: 0.0057 - semantic_2_loss: 0.0012 - lr: 8.7752e-05\n",
      "Epoch 15/200\n",
      "11/11 [==============================] - ETA: 0s - loss: 0.0090 - semantic_0_loss: 0.0021 - semantic_1_loss: 0.0057 - semantic_2_loss: 0.0012WARNING:tensorflow:Can save best model only with val_loss available, skipping.\n"
     ]
    },
    {
     "name": "stderr",
     "output_type": "stream",
     "text": [
      "WARNING:tensorflow:Can save best model only with val_loss available, skipping.\n"
     ]
    },
    {
     "name": "stdout",
     "output_type": "stream",
     "text": [
      "11/11 [==============================] - 6s 481ms/step - loss: 0.0090 - semantic_0_loss: 0.0021 - semantic_1_loss: 0.0057 - semantic_2_loss: 0.0012 - lr: 8.6875e-05\n",
      "Epoch 16/200\n",
      "11/11 [==============================] - ETA: 0s - loss: 0.0083 - semantic_0_loss: 0.0020 - semantic_1_loss: 0.0052 - semantic_2_loss: 0.0011WARNING:tensorflow:Can save best model only with val_loss available, skipping.\n"
     ]
    },
    {
     "name": "stderr",
     "output_type": "stream",
     "text": [
      "WARNING:tensorflow:Can save best model only with val_loss available, skipping.\n"
     ]
    },
    {
     "name": "stdout",
     "output_type": "stream",
     "text": [
      "11/11 [==============================] - 5s 474ms/step - loss: 0.0083 - semantic_0_loss: 0.0020 - semantic_1_loss: 0.0052 - semantic_2_loss: 0.0011 - lr: 8.6006e-05\n",
      "Epoch 17/200\n",
      "11/11 [==============================] - ETA: 0s - loss: 0.0089 - semantic_0_loss: 0.0022 - semantic_1_loss: 0.0055 - semantic_2_loss: 0.0012WARNING:tensorflow:Can save best model only with val_loss available, skipping.\n"
     ]
    },
    {
     "name": "stderr",
     "output_type": "stream",
     "text": [
      "WARNING:tensorflow:Can save best model only with val_loss available, skipping.\n"
     ]
    },
    {
     "name": "stdout",
     "output_type": "stream",
     "text": [
      "11/11 [==============================] - 6s 481ms/step - loss: 0.0089 - semantic_0_loss: 0.0022 - semantic_1_loss: 0.0055 - semantic_2_loss: 0.0012 - lr: 8.5146e-05\n",
      "Epoch 18/200\n",
      "11/11 [==============================] - ETA: 0s - loss: 0.0085 - semantic_0_loss: 0.0021 - semantic_1_loss: 0.0053 - semantic_2_loss: 0.0012WARNING:tensorflow:Can save best model only with val_loss available, skipping.\n"
     ]
    },
    {
     "name": "stderr",
     "output_type": "stream",
     "text": [
      "WARNING:tensorflow:Can save best model only with val_loss available, skipping.\n"
     ]
    },
    {
     "name": "stdout",
     "output_type": "stream",
     "text": [
      "11/11 [==============================] - 6s 485ms/step - loss: 0.0085 - semantic_0_loss: 0.0021 - semantic_1_loss: 0.0053 - semantic_2_loss: 0.0012 - lr: 8.4294e-05\n",
      "Epoch 19/200\n",
      "11/11 [==============================] - ETA: 0s - loss: 0.0085 - semantic_0_loss: 0.0021 - semantic_1_loss: 0.0053 - semantic_2_loss: 0.0011WARNING:tensorflow:Can save best model only with val_loss available, skipping.\n"
     ]
    },
    {
     "name": "stderr",
     "output_type": "stream",
     "text": [
      "WARNING:tensorflow:Can save best model only with val_loss available, skipping.\n"
     ]
    },
    {
     "name": "stdout",
     "output_type": "stream",
     "text": [
      "11/11 [==============================] - 6s 478ms/step - loss: 0.0085 - semantic_0_loss: 0.0021 - semantic_1_loss: 0.0053 - semantic_2_loss: 0.0011 - lr: 8.3451e-05\n",
      "Epoch 20/200\n",
      "11/11 [==============================] - ETA: 0s - loss: 0.0083 - semantic_0_loss: 0.0020 - semantic_1_loss: 0.0052 - semantic_2_loss: 0.0011WARNING:tensorflow:Can save best model only with val_loss available, skipping.\n"
     ]
    },
    {
     "name": "stderr",
     "output_type": "stream",
     "text": [
      "WARNING:tensorflow:Can save best model only with val_loss available, skipping.\n"
     ]
    },
    {
     "name": "stdout",
     "output_type": "stream",
     "text": [
      "11/11 [==============================] - 6s 480ms/step - loss: 0.0083 - semantic_0_loss: 0.0020 - semantic_1_loss: 0.0052 - semantic_2_loss: 0.0011 - lr: 8.2617e-05\n",
      "Epoch 21/200\n",
      "11/11 [==============================] - ETA: 0s - loss: 0.0081 - semantic_0_loss: 0.0020 - semantic_1_loss: 0.0051 - semantic_2_loss: 0.0011WARNING:tensorflow:Can save best model only with val_loss available, skipping.\n"
     ]
    },
    {
     "name": "stderr",
     "output_type": "stream",
     "text": [
      "WARNING:tensorflow:Can save best model only with val_loss available, skipping.\n"
     ]
    },
    {
     "name": "stdout",
     "output_type": "stream",
     "text": [
      "11/11 [==============================] - 5s 482ms/step - loss: 0.0081 - semantic_0_loss: 0.0020 - semantic_1_loss: 0.0051 - semantic_2_loss: 0.0011 - lr: 8.1791e-05\n",
      "Epoch 22/200\n",
      "11/11 [==============================] - ETA: 0s - loss: 0.0086 - semantic_0_loss: 0.0021 - semantic_1_loss: 0.0054 - semantic_2_loss: 0.0011WARNING:tensorflow:Can save best model only with val_loss available, skipping.\n"
     ]
    },
    {
     "name": "stderr",
     "output_type": "stream",
     "text": [
      "WARNING:tensorflow:Can save best model only with val_loss available, skipping.\n"
     ]
    },
    {
     "name": "stdout",
     "output_type": "stream",
     "text": [
      "11/11 [==============================] - 5s 527ms/step - loss: 0.0086 - semantic_0_loss: 0.0021 - semantic_1_loss: 0.0054 - semantic_2_loss: 0.0011 - lr: 8.0973e-05\n",
      "Epoch 23/200\n",
      "11/11 [==============================] - ETA: 0s - loss: 0.0087 - semantic_0_loss: 0.0020 - semantic_1_loss: 0.0055 - semantic_2_loss: 0.0011WARNING:tensorflow:Can save best model only with val_loss available, skipping.\n"
     ]
    },
    {
     "name": "stderr",
     "output_type": "stream",
     "text": [
      "WARNING:tensorflow:Can save best model only with val_loss available, skipping.\n"
     ]
    },
    {
     "name": "stdout",
     "output_type": "stream",
     "text": [
      "11/11 [==============================] - 6s 479ms/step - loss: 0.0087 - semantic_0_loss: 0.0020 - semantic_1_loss: 0.0055 - semantic_2_loss: 0.0011 - lr: 8.0163e-05\n",
      "Epoch 24/200\n",
      "11/11 [==============================] - ETA: 0s - loss: 0.0076 - semantic_0_loss: 0.0019 - semantic_1_loss: 0.0047 - semantic_2_loss: 0.0011WARNING:tensorflow:Can save best model only with val_loss available, skipping.\n"
     ]
    },
    {
     "name": "stderr",
     "output_type": "stream",
     "text": [
      "WARNING:tensorflow:Can save best model only with val_loss available, skipping.\n"
     ]
    },
    {
     "name": "stdout",
     "output_type": "stream",
     "text": [
      "11/11 [==============================] - 5s 477ms/step - loss: 0.0076 - semantic_0_loss: 0.0019 - semantic_1_loss: 0.0047 - semantic_2_loss: 0.0011 - lr: 7.9361e-05\n",
      "Epoch 25/200\n",
      "11/11 [==============================] - ETA: 0s - loss: 0.0085 - semantic_0_loss: 0.0021 - semantic_1_loss: 0.0053 - semantic_2_loss: 0.0011WARNING:tensorflow:Can save best model only with val_loss available, skipping.\n"
     ]
    },
    {
     "name": "stderr",
     "output_type": "stream",
     "text": [
      "WARNING:tensorflow:Can save best model only with val_loss available, skipping.\n"
     ]
    },
    {
     "name": "stdout",
     "output_type": "stream",
     "text": [
      "11/11 [==============================] - 6s 524ms/step - loss: 0.0085 - semantic_0_loss: 0.0021 - semantic_1_loss: 0.0053 - semantic_2_loss: 0.0011 - lr: 7.8568e-05\n",
      "Epoch 26/200\n",
      "11/11 [==============================] - ETA: 0s - loss: 0.0086 - semantic_0_loss: 0.0021 - semantic_1_loss: 0.0054 - semantic_2_loss: 0.0011WARNING:tensorflow:Can save best model only with val_loss available, skipping.\n"
     ]
    },
    {
     "name": "stderr",
     "output_type": "stream",
     "text": [
      "WARNING:tensorflow:Can save best model only with val_loss available, skipping.\n"
     ]
    },
    {
     "name": "stdout",
     "output_type": "stream",
     "text": [
      "11/11 [==============================] - 6s 532ms/step - loss: 0.0086 - semantic_0_loss: 0.0021 - semantic_1_loss: 0.0054 - semantic_2_loss: 0.0011 - lr: 7.7782e-05\n",
      "Epoch 27/200\n",
      "11/11 [==============================] - ETA: 0s - loss: 0.0079 - semantic_0_loss: 0.0020 - semantic_1_loss: 0.0049 - semantic_2_loss: 0.0011WARNING:tensorflow:Can save best model only with val_loss available, skipping.\n"
     ]
    },
    {
     "name": "stderr",
     "output_type": "stream",
     "text": [
      "WARNING:tensorflow:Can save best model only with val_loss available, skipping.\n"
     ]
    },
    {
     "name": "stdout",
     "output_type": "stream",
     "text": [
      "11/11 [==============================] - 5s 465ms/step - loss: 0.0079 - semantic_0_loss: 0.0020 - semantic_1_loss: 0.0049 - semantic_2_loss: 0.0011 - lr: 7.7004e-05\n",
      "Epoch 28/200\n",
      "11/11 [==============================] - ETA: 0s - loss: 0.0082 - semantic_0_loss: 0.0020 - semantic_1_loss: 0.0051 - semantic_2_loss: 0.0011WARNING:tensorflow:Can save best model only with val_loss available, skipping.\n"
     ]
    },
    {
     "name": "stderr",
     "output_type": "stream",
     "text": [
      "WARNING:tensorflow:Can save best model only with val_loss available, skipping.\n"
     ]
    },
    {
     "name": "stdout",
     "output_type": "stream",
     "text": [
      "11/11 [==============================] - 6s 494ms/step - loss: 0.0082 - semantic_0_loss: 0.0020 - semantic_1_loss: 0.0051 - semantic_2_loss: 0.0011 - lr: 7.6234e-05\n",
      "Epoch 29/200\n",
      "11/11 [==============================] - ETA: 0s - loss: 0.0083 - semantic_0_loss: 0.0021 - semantic_1_loss: 0.0052 - semantic_2_loss: 0.0011WARNING:tensorflow:Can save best model only with val_loss available, skipping.\n"
     ]
    },
    {
     "name": "stderr",
     "output_type": "stream",
     "text": [
      "WARNING:tensorflow:Can save best model only with val_loss available, skipping.\n"
     ]
    },
    {
     "name": "stdout",
     "output_type": "stream",
     "text": [
      "11/11 [==============================] - 6s 476ms/step - loss: 0.0083 - semantic_0_loss: 0.0021 - semantic_1_loss: 0.0052 - semantic_2_loss: 0.0011 - lr: 7.5472e-05\n",
      "Epoch 30/200\n",
      "11/11 [==============================] - ETA: 0s - loss: 0.0085 - semantic_0_loss: 0.0021 - semantic_1_loss: 0.0053 - semantic_2_loss: 0.0011WARNING:tensorflow:Can save best model only with val_loss available, skipping.\n"
     ]
    },
    {
     "name": "stderr",
     "output_type": "stream",
     "text": [
      "WARNING:tensorflow:Can save best model only with val_loss available, skipping.\n"
     ]
    },
    {
     "name": "stdout",
     "output_type": "stream",
     "text": [
      "11/11 [==============================] - 6s 541ms/step - loss: 0.0085 - semantic_0_loss: 0.0021 - semantic_1_loss: 0.0053 - semantic_2_loss: 0.0011 - lr: 7.4717e-05\n",
      "Epoch 31/200\n",
      "11/11 [==============================] - ETA: 0s - loss: 0.0076 - semantic_0_loss: 0.0019 - semantic_1_loss: 0.0047 - semantic_2_loss: 0.0011WARNING:tensorflow:Can save best model only with val_loss available, skipping.\n"
     ]
    },
    {
     "name": "stderr",
     "output_type": "stream",
     "text": [
      "WARNING:tensorflow:Can save best model only with val_loss available, skipping.\n"
     ]
    },
    {
     "name": "stdout",
     "output_type": "stream",
     "text": [
      "11/11 [==============================] - 6s 492ms/step - loss: 0.0076 - semantic_0_loss: 0.0019 - semantic_1_loss: 0.0047 - semantic_2_loss: 0.0011 - lr: 7.3970e-05\n",
      "Epoch 32/200\n",
      "11/11 [==============================] - ETA: 0s - loss: 0.0077 - semantic_0_loss: 0.0019 - semantic_1_loss: 0.0047 - semantic_2_loss: 0.0011WARNING:tensorflow:Can save best model only with val_loss available, skipping.\n"
     ]
    },
    {
     "name": "stderr",
     "output_type": "stream",
     "text": [
      "WARNING:tensorflow:Can save best model only with val_loss available, skipping.\n"
     ]
    },
    {
     "name": "stdout",
     "output_type": "stream",
     "text": [
      "11/11 [==============================] - 6s 491ms/step - loss: 0.0077 - semantic_0_loss: 0.0019 - semantic_1_loss: 0.0047 - semantic_2_loss: 0.0011 - lr: 7.3230e-05\n",
      "Epoch 33/200\n",
      "11/11 [==============================] - ETA: 0s - loss: 0.0079 - semantic_0_loss: 0.0019 - semantic_1_loss: 0.0049 - semantic_2_loss: 0.0011WARNING:tensorflow:Can save best model only with val_loss available, skipping.\n"
     ]
    },
    {
     "name": "stderr",
     "output_type": "stream",
     "text": [
      "WARNING:tensorflow:Can save best model only with val_loss available, skipping.\n"
     ]
    },
    {
     "name": "stdout",
     "output_type": "stream",
     "text": [
      "11/11 [==============================] - 5s 470ms/step - loss: 0.0079 - semantic_0_loss: 0.0019 - semantic_1_loss: 0.0049 - semantic_2_loss: 0.0011 - lr: 7.2498e-05\n",
      "Epoch 34/200\n",
      "11/11 [==============================] - ETA: 0s - loss: 0.0078 - semantic_0_loss: 0.0020 - semantic_1_loss: 0.0048 - semantic_2_loss: 0.0010WARNING:tensorflow:Can save best model only with val_loss available, skipping.\n"
     ]
    },
    {
     "name": "stderr",
     "output_type": "stream",
     "text": [
      "WARNING:tensorflow:Can save best model only with val_loss available, skipping.\n"
     ]
    },
    {
     "name": "stdout",
     "output_type": "stream",
     "text": [
      "11/11 [==============================] - 6s 481ms/step - loss: 0.0078 - semantic_0_loss: 0.0020 - semantic_1_loss: 0.0048 - semantic_2_loss: 0.0010 - lr: 7.1773e-05\n",
      "Epoch 35/200\n",
      "11/11 [==============================] - ETA: 0s - loss: 0.0084 - semantic_0_loss: 0.0021 - semantic_1_loss: 0.0052 - semantic_2_loss: 0.0011WARNING:tensorflow:Can save best model only with val_loss available, skipping.\n"
     ]
    },
    {
     "name": "stderr",
     "output_type": "stream",
     "text": [
      "WARNING:tensorflow:Can save best model only with val_loss available, skipping.\n"
     ]
    },
    {
     "name": "stdout",
     "output_type": "stream",
     "text": [
      "11/11 [==============================] - 6s 490ms/step - loss: 0.0084 - semantic_0_loss: 0.0021 - semantic_1_loss: 0.0052 - semantic_2_loss: 0.0011 - lr: 7.1055e-05\n",
      "Epoch 36/200\n",
      "11/11 [==============================] - ETA: 0s - loss: 0.0085 - semantic_0_loss: 0.0021 - semantic_1_loss: 0.0053 - semantic_2_loss: 0.0011WARNING:tensorflow:Can save best model only with val_loss available, skipping.\n"
     ]
    },
    {
     "name": "stderr",
     "output_type": "stream",
     "text": [
      "WARNING:tensorflow:Can save best model only with val_loss available, skipping.\n"
     ]
    },
    {
     "name": "stdout",
     "output_type": "stream",
     "text": [
      "11/11 [==============================] - 6s 491ms/step - loss: 0.0085 - semantic_0_loss: 0.0021 - semantic_1_loss: 0.0053 - semantic_2_loss: 0.0011 - lr: 7.0345e-05\n",
      "Epoch 37/200\n",
      "11/11 [==============================] - ETA: 0s - loss: 0.0077 - semantic_0_loss: 0.0019 - semantic_1_loss: 0.0048 - semantic_2_loss: 0.0011WARNING:tensorflow:Can save best model only with val_loss available, skipping.\n"
     ]
    },
    {
     "name": "stderr",
     "output_type": "stream",
     "text": [
      "WARNING:tensorflow:Can save best model only with val_loss available, skipping.\n"
     ]
    },
    {
     "name": "stdout",
     "output_type": "stream",
     "text": [
      "11/11 [==============================] - 5s 525ms/step - loss: 0.0077 - semantic_0_loss: 0.0019 - semantic_1_loss: 0.0048 - semantic_2_loss: 0.0011 - lr: 6.9641e-05\n",
      "Epoch 38/200\n",
      "11/11 [==============================] - ETA: 0s - loss: 0.0076 - semantic_0_loss: 0.0019 - semantic_1_loss: 0.0047 - semantic_2_loss: 0.0010WARNING:tensorflow:Can save best model only with val_loss available, skipping.\n"
     ]
    },
    {
     "name": "stderr",
     "output_type": "stream",
     "text": [
      "WARNING:tensorflow:Can save best model only with val_loss available, skipping.\n"
     ]
    },
    {
     "name": "stdout",
     "output_type": "stream",
     "text": [
      "11/11 [==============================] - 6s 514ms/step - loss: 0.0076 - semantic_0_loss: 0.0019 - semantic_1_loss: 0.0047 - semantic_2_loss: 0.0010 - lr: 6.8945e-05\n",
      "Epoch 39/200\n",
      "11/11 [==============================] - ETA: 0s - loss: 0.0083 - semantic_0_loss: 0.0020 - semantic_1_loss: 0.0052 - semantic_2_loss: 0.0011WARNING:tensorflow:Can save best model only with val_loss available, skipping.\n"
     ]
    },
    {
     "name": "stderr",
     "output_type": "stream",
     "text": [
      "WARNING:tensorflow:Can save best model only with val_loss available, skipping.\n"
     ]
    },
    {
     "name": "stdout",
     "output_type": "stream",
     "text": [
      "11/11 [==============================] - 6s 490ms/step - loss: 0.0083 - semantic_0_loss: 0.0020 - semantic_1_loss: 0.0052 - semantic_2_loss: 0.0011 - lr: 6.8255e-05\n",
      "Epoch 40/200\n",
      "11/11 [==============================] - ETA: 0s - loss: 0.0073 - semantic_0_loss: 0.0018 - semantic_1_loss: 0.0045 - semantic_2_loss: 0.0010    WARNING:tensorflow:Can save best model only with val_loss available, skipping.\n"
     ]
    },
    {
     "name": "stderr",
     "output_type": "stream",
     "text": [
      "WARNING:tensorflow:Can save best model only with val_loss available, skipping.\n"
     ]
    },
    {
     "name": "stdout",
     "output_type": "stream",
     "text": [
      "11/11 [==============================] - 5s 476ms/step - loss: 0.0073 - semantic_0_loss: 0.0018 - semantic_1_loss: 0.0045 - semantic_2_loss: 0.0010 - lr: 6.7573e-05\n",
      "Epoch 41/200\n",
      "11/11 [==============================] - ETA: 0s - loss: 0.0075 - semantic_0_loss: 0.0019 - semantic_1_loss: 0.0046 - semantic_2_loss: 0.0010WARNING:tensorflow:Can save best model only with val_loss available, skipping.\n"
     ]
    },
    {
     "name": "stderr",
     "output_type": "stream",
     "text": [
      "WARNING:tensorflow:Can save best model only with val_loss available, skipping.\n"
     ]
    },
    {
     "name": "stdout",
     "output_type": "stream",
     "text": [
      "11/11 [==============================] - 6s 479ms/step - loss: 0.0075 - semantic_0_loss: 0.0019 - semantic_1_loss: 0.0046 - semantic_2_loss: 0.0010 - lr: 6.6897e-05\n",
      "Epoch 42/200\n",
      "11/11 [==============================] - ETA: 0s - loss: 0.0076 - semantic_0_loss: 0.0019 - semantic_1_loss: 0.0046 - semantic_2_loss: 0.0010WARNING:tensorflow:Can save best model only with val_loss available, skipping.\n"
     ]
    },
    {
     "name": "stderr",
     "output_type": "stream",
     "text": [
      "WARNING:tensorflow:Can save best model only with val_loss available, skipping.\n"
     ]
    },
    {
     "name": "stdout",
     "output_type": "stream",
     "text": [
      "11/11 [==============================] - 5s 474ms/step - loss: 0.0076 - semantic_0_loss: 0.0019 - semantic_1_loss: 0.0046 - semantic_2_loss: 0.0010 - lr: 6.6228e-05\n",
      "Epoch 43/200\n",
      "11/11 [==============================] - ETA: 0s - loss: 0.0079 - semantic_0_loss: 0.0020 - semantic_1_loss: 0.0049 - semantic_2_loss: 0.0011WARNING:tensorflow:Can save best model only with val_loss available, skipping.\n"
     ]
    },
    {
     "name": "stderr",
     "output_type": "stream",
     "text": [
      "WARNING:tensorflow:Can save best model only with val_loss available, skipping.\n"
     ]
    },
    {
     "name": "stdout",
     "output_type": "stream",
     "text": [
      "11/11 [==============================] - 6s 499ms/step - loss: 0.0079 - semantic_0_loss: 0.0020 - semantic_1_loss: 0.0049 - semantic_2_loss: 0.0011 - lr: 6.5566e-05\n",
      "Epoch 44/200\n",
      "11/11 [==============================] - ETA: 0s - loss: 0.0083 - semantic_0_loss: 0.0021 - semantic_1_loss: 0.0051 - semantic_2_loss: 0.0011WARNING:tensorflow:Can save best model only with val_loss available, skipping.\n"
     ]
    },
    {
     "name": "stderr",
     "output_type": "stream",
     "text": [
      "WARNING:tensorflow:Can save best model only with val_loss available, skipping.\n"
     ]
    },
    {
     "name": "stdout",
     "output_type": "stream",
     "text": [
      "11/11 [==============================] - 6s 491ms/step - loss: 0.0083 - semantic_0_loss: 0.0021 - semantic_1_loss: 0.0051 - semantic_2_loss: 0.0011 - lr: 6.4910e-05\n",
      "Epoch 45/200\n",
      "11/11 [==============================] - ETA: 0s - loss: 0.0082 - semantic_0_loss: 0.0021 - semantic_1_loss: 0.0050 - semantic_2_loss: 0.0011WARNING:tensorflow:Can save best model only with val_loss available, skipping.\n"
     ]
    },
    {
     "name": "stderr",
     "output_type": "stream",
     "text": [
      "WARNING:tensorflow:Can save best model only with val_loss available, skipping.\n"
     ]
    },
    {
     "name": "stdout",
     "output_type": "stream",
     "text": [
      "11/11 [==============================] - 6s 493ms/step - loss: 0.0082 - semantic_0_loss: 0.0021 - semantic_1_loss: 0.0050 - semantic_2_loss: 0.0011 - lr: 6.4261e-05\n",
      "Epoch 46/200\n",
      "11/11 [==============================] - ETA: 0s - loss: 0.0072 - semantic_0_loss: 0.0018 - semantic_1_loss: 0.0044 - semantic_2_loss: 0.0010    WARNING:tensorflow:Can save best model only with val_loss available, skipping.\n"
     ]
    },
    {
     "name": "stderr",
     "output_type": "stream",
     "text": [
      "WARNING:tensorflow:Can save best model only with val_loss available, skipping.\n"
     ]
    },
    {
     "name": "stdout",
     "output_type": "stream",
     "text": [
      "11/11 [==============================] - 5s 476ms/step - loss: 0.0072 - semantic_0_loss: 0.0018 - semantic_1_loss: 0.0044 - semantic_2_loss: 0.0010 - lr: 6.3619e-05\n",
      "Epoch 47/200\n",
      "11/11 [==============================] - ETA: 0s - loss: 0.0077 - semantic_0_loss: 0.0019 - semantic_1_loss: 0.0047 - semantic_2_loss: 0.0010WARNING:tensorflow:Can save best model only with val_loss available, skipping.\n"
     ]
    },
    {
     "name": "stderr",
     "output_type": "stream",
     "text": [
      "WARNING:tensorflow:Can save best model only with val_loss available, skipping.\n"
     ]
    },
    {
     "name": "stdout",
     "output_type": "stream",
     "text": [
      "11/11 [==============================] - 5s 475ms/step - loss: 0.0077 - semantic_0_loss: 0.0019 - semantic_1_loss: 0.0047 - semantic_2_loss: 0.0010 - lr: 6.2982e-05\n",
      "Epoch 48/200\n",
      "11/11 [==============================] - ETA: 0s - loss: 0.0073 - semantic_0_loss: 0.0018 - semantic_1_loss: 0.0044 - semantic_2_loss: 9.9126e-04WARNING:tensorflow:Can save best model only with val_loss available, skipping.\n"
     ]
    },
    {
     "name": "stderr",
     "output_type": "stream",
     "text": [
      "WARNING:tensorflow:Can save best model only with val_loss available, skipping.\n"
     ]
    },
    {
     "name": "stdout",
     "output_type": "stream",
     "text": [
      "11/11 [==============================] - 6s 484ms/step - loss: 0.0073 - semantic_0_loss: 0.0018 - semantic_1_loss: 0.0044 - semantic_2_loss: 9.9126e-04 - lr: 6.2353e-05\n",
      "Epoch 49/200\n",
      "11/11 [==============================] - ETA: 0s - loss: 0.0077 - semantic_0_loss: 0.0019 - semantic_1_loss: 0.0047 - semantic_2_loss: 0.0010WARNING:tensorflow:Can save best model only with val_loss available, skipping.\n"
     ]
    },
    {
     "name": "stderr",
     "output_type": "stream",
     "text": [
      "WARNING:tensorflow:Can save best model only with val_loss available, skipping.\n"
     ]
    },
    {
     "name": "stdout",
     "output_type": "stream",
     "text": [
      "11/11 [==============================] - 6s 503ms/step - loss: 0.0077 - semantic_0_loss: 0.0019 - semantic_1_loss: 0.0047 - semantic_2_loss: 0.0010 - lr: 6.1729e-05\n",
      "Epoch 50/200\n",
      "11/11 [==============================] - ETA: 0s - loss: 0.0076 - semantic_0_loss: 0.0019 - semantic_1_loss: 0.0047 - semantic_2_loss: 0.0010WARNING:tensorflow:Can save best model only with val_loss available, skipping.\n"
     ]
    },
    {
     "name": "stderr",
     "output_type": "stream",
     "text": [
      "WARNING:tensorflow:Can save best model only with val_loss available, skipping.\n"
     ]
    },
    {
     "name": "stdout",
     "output_type": "stream",
     "text": [
      "11/11 [==============================] - 6s 481ms/step - loss: 0.0076 - semantic_0_loss: 0.0019 - semantic_1_loss: 0.0047 - semantic_2_loss: 0.0010 - lr: 6.1112e-05\n",
      "Epoch 51/200\n",
      "11/11 [==============================] - ETA: 0s - loss: 0.0079 - semantic_0_loss: 0.0020 - semantic_1_loss: 0.0049 - semantic_2_loss: 0.0011WARNING:tensorflow:Can save best model only with val_loss available, skipping.\n"
     ]
    },
    {
     "name": "stderr",
     "output_type": "stream",
     "text": [
      "WARNING:tensorflow:Can save best model only with val_loss available, skipping.\n"
     ]
    },
    {
     "name": "stdout",
     "output_type": "stream",
     "text": [
      "11/11 [==============================] - 6s 494ms/step - loss: 0.0079 - semantic_0_loss: 0.0020 - semantic_1_loss: 0.0049 - semantic_2_loss: 0.0011 - lr: 6.0501e-05\n",
      "Epoch 52/200\n",
      "11/11 [==============================] - ETA: 0s - loss: 0.0076 - semantic_0_loss: 0.0019 - semantic_1_loss: 0.0047 - semantic_2_loss: 0.0010WARNING:tensorflow:Can save best model only with val_loss available, skipping.\n"
     ]
    },
    {
     "name": "stderr",
     "output_type": "stream",
     "text": [
      "WARNING:tensorflow:Can save best model only with val_loss available, skipping.\n"
     ]
    },
    {
     "name": "stdout",
     "output_type": "stream",
     "text": [
      "11/11 [==============================] - 6s 493ms/step - loss: 0.0076 - semantic_0_loss: 0.0019 - semantic_1_loss: 0.0047 - semantic_2_loss: 0.0010 - lr: 5.9896e-05\n",
      "Epoch 53/200\n",
      "11/11 [==============================] - ETA: 0s - loss: 0.0078 - semantic_0_loss: 0.0019 - semantic_1_loss: 0.0048 - semantic_2_loss: 0.0011WARNING:tensorflow:Can save best model only with val_loss available, skipping.\n"
     ]
    },
    {
     "name": "stderr",
     "output_type": "stream",
     "text": [
      "WARNING:tensorflow:Can save best model only with val_loss available, skipping.\n"
     ]
    },
    {
     "name": "stdout",
     "output_type": "stream",
     "text": [
      "11/11 [==============================] - 6s 482ms/step - loss: 0.0078 - semantic_0_loss: 0.0019 - semantic_1_loss: 0.0048 - semantic_2_loss: 0.0011 - lr: 5.9297e-05\n",
      "Epoch 54/200\n",
      "11/11 [==============================] - ETA: 0s - loss: 0.0076 - semantic_0_loss: 0.0019 - semantic_1_loss: 0.0047 - semantic_2_loss: 0.0011WARNING:tensorflow:Can save best model only with val_loss available, skipping.\n"
     ]
    },
    {
     "name": "stderr",
     "output_type": "stream",
     "text": [
      "WARNING:tensorflow:Can save best model only with val_loss available, skipping.\n"
     ]
    },
    {
     "name": "stdout",
     "output_type": "stream",
     "text": [
      "11/11 [==============================] - 6s 482ms/step - loss: 0.0076 - semantic_0_loss: 0.0019 - semantic_1_loss: 0.0047 - semantic_2_loss: 0.0011 - lr: 5.8704e-05\n",
      "Epoch 55/200\n",
      "11/11 [==============================] - ETA: 0s - loss: 0.0076 - semantic_0_loss: 0.0019 - semantic_1_loss: 0.0047 - semantic_2_loss: 0.0010WARNING:tensorflow:Can save best model only with val_loss available, skipping.\n"
     ]
    },
    {
     "name": "stderr",
     "output_type": "stream",
     "text": [
      "WARNING:tensorflow:Can save best model only with val_loss available, skipping.\n"
     ]
    },
    {
     "name": "stdout",
     "output_type": "stream",
     "text": [
      "11/11 [==============================] - 6s 488ms/step - loss: 0.0076 - semantic_0_loss: 0.0019 - semantic_1_loss: 0.0047 - semantic_2_loss: 0.0010 - lr: 5.8117e-05\n",
      "Epoch 56/200\n",
      "11/11 [==============================] - ETA: 0s - loss: 0.0075 - semantic_0_loss: 0.0019 - semantic_1_loss: 0.0046 - semantic_2_loss: 0.0010WARNING:tensorflow:Can save best model only with val_loss available, skipping.\n"
     ]
    },
    {
     "name": "stderr",
     "output_type": "stream",
     "text": [
      "WARNING:tensorflow:Can save best model only with val_loss available, skipping.\n"
     ]
    },
    {
     "name": "stdout",
     "output_type": "stream",
     "text": [
      "11/11 [==============================] - 5s 477ms/step - loss: 0.0075 - semantic_0_loss: 0.0019 - semantic_1_loss: 0.0046 - semantic_2_loss: 0.0010 - lr: 5.7535e-05\n",
      "Epoch 57/200\n",
      "11/11 [==============================] - ETA: 0s - loss: 0.0071 - semantic_0_loss: 0.0018 - semantic_1_loss: 0.0043 - semantic_2_loss: 9.9470e-04WARNING:tensorflow:Can save best model only with val_loss available, skipping.\n"
     ]
    },
    {
     "name": "stderr",
     "output_type": "stream",
     "text": [
      "WARNING:tensorflow:Can save best model only with val_loss available, skipping.\n"
     ]
    },
    {
     "name": "stdout",
     "output_type": "stream",
     "text": [
      "11/11 [==============================] - 5s 474ms/step - loss: 0.0071 - semantic_0_loss: 0.0018 - semantic_1_loss: 0.0043 - semantic_2_loss: 9.9470e-04 - lr: 5.6960e-05\n",
      "Epoch 58/200\n",
      "11/11 [==============================] - ETA: 0s - loss: 0.0075 - semantic_0_loss: 0.0019 - semantic_1_loss: 0.0046 - semantic_2_loss: 0.0010WARNING:tensorflow:Can save best model only with val_loss available, skipping.\n"
     ]
    },
    {
     "name": "stderr",
     "output_type": "stream",
     "text": [
      "WARNING:tensorflow:Can save best model only with val_loss available, skipping.\n"
     ]
    },
    {
     "name": "stdout",
     "output_type": "stream",
     "text": [
      "11/11 [==============================] - 6s 487ms/step - loss: 0.0075 - semantic_0_loss: 0.0019 - semantic_1_loss: 0.0046 - semantic_2_loss: 0.0010 - lr: 5.6391e-05\n",
      "Epoch 59/200\n",
      "11/11 [==============================] - ETA: 0s - loss: 0.0077 - semantic_0_loss: 0.0020 - semantic_1_loss: 0.0047 - semantic_2_loss: 0.0010    WARNING:tensorflow:Can save best model only with val_loss available, skipping.\n"
     ]
    },
    {
     "name": "stderr",
     "output_type": "stream",
     "text": [
      "WARNING:tensorflow:Can save best model only with val_loss available, skipping.\n"
     ]
    },
    {
     "name": "stdout",
     "output_type": "stream",
     "text": [
      "11/11 [==============================] - 6s 493ms/step - loss: 0.0077 - semantic_0_loss: 0.0020 - semantic_1_loss: 0.0047 - semantic_2_loss: 0.0010 - lr: 5.5827e-05\n",
      "Epoch 60/200\n",
      "11/11 [==============================] - ETA: 0s - loss: 0.0071 - semantic_0_loss: 0.0018 - semantic_1_loss: 0.0043 - semantic_2_loss: 9.9687e-04WARNING:tensorflow:Can save best model only with val_loss available, skipping.\n"
     ]
    },
    {
     "name": "stderr",
     "output_type": "stream",
     "text": [
      "WARNING:tensorflow:Can save best model only with val_loss available, skipping.\n"
     ]
    },
    {
     "name": "stdout",
     "output_type": "stream",
     "text": [
      "11/11 [==============================] - 5s 462ms/step - loss: 0.0071 - semantic_0_loss: 0.0018 - semantic_1_loss: 0.0043 - semantic_2_loss: 9.9687e-04 - lr: 5.5268e-05\n",
      "Epoch 61/200\n",
      "11/11 [==============================] - ETA: 0s - loss: 0.0072 - semantic_0_loss: 0.0018 - semantic_1_loss: 0.0044 - semantic_2_loss: 9.9183e-04WARNING:tensorflow:Can save best model only with val_loss available, skipping.\n"
     ]
    },
    {
     "name": "stderr",
     "output_type": "stream",
     "text": [
      "WARNING:tensorflow:Can save best model only with val_loss available, skipping.\n"
     ]
    },
    {
     "name": "stdout",
     "output_type": "stream",
     "text": [
      "11/11 [==============================] - 6s 491ms/step - loss: 0.0072 - semantic_0_loss: 0.0018 - semantic_1_loss: 0.0044 - semantic_2_loss: 9.9183e-04 - lr: 5.4716e-05\n",
      "Epoch 62/200\n",
      "11/11 [==============================] - ETA: 0s - loss: 0.0079 - semantic_0_loss: 0.0020 - semantic_1_loss: 0.0048 - semantic_2_loss: 0.0011WARNING:tensorflow:Can save best model only with val_loss available, skipping.\n"
     ]
    },
    {
     "name": "stderr",
     "output_type": "stream",
     "text": [
      "WARNING:tensorflow:Can save best model only with val_loss available, skipping.\n"
     ]
    },
    {
     "name": "stdout",
     "output_type": "stream",
     "text": [
      "11/11 [==============================] - 6s 481ms/step - loss: 0.0079 - semantic_0_loss: 0.0020 - semantic_1_loss: 0.0048 - semantic_2_loss: 0.0011 - lr: 5.4169e-05\n",
      "Epoch 63/200\n",
      "11/11 [==============================] - ETA: 0s - loss: 0.0068 - semantic_0_loss: 0.0017 - semantic_1_loss: 0.0041 - semantic_2_loss: 9.3810e-04WARNING:tensorflow:Can save best model only with val_loss available, skipping.\n"
     ]
    },
    {
     "name": "stderr",
     "output_type": "stream",
     "text": [
      "WARNING:tensorflow:Can save best model only with val_loss available, skipping.\n"
     ]
    },
    {
     "name": "stdout",
     "output_type": "stream",
     "text": [
      "11/11 [==============================] - 6s 479ms/step - loss: 0.0068 - semantic_0_loss: 0.0017 - semantic_1_loss: 0.0041 - semantic_2_loss: 9.3810e-04 - lr: 5.3627e-05\n",
      "Epoch 64/200\n",
      "11/11 [==============================] - ETA: 0s - loss: 0.0073 - semantic_0_loss: 0.0018 - semantic_1_loss: 0.0044 - semantic_2_loss: 9.9644e-04WARNING:tensorflow:Can save best model only with val_loss available, skipping.\n"
     ]
    },
    {
     "name": "stderr",
     "output_type": "stream",
     "text": [
      "WARNING:tensorflow:Can save best model only with val_loss available, skipping.\n"
     ]
    },
    {
     "name": "stdout",
     "output_type": "stream",
     "text": [
      "11/11 [==============================] - 6s 478ms/step - loss: 0.0073 - semantic_0_loss: 0.0018 - semantic_1_loss: 0.0044 - semantic_2_loss: 9.9644e-04 - lr: 5.3091e-05\n",
      "Epoch 65/200\n",
      "11/11 [==============================] - ETA: 0s - loss: 0.0077 - semantic_0_loss: 0.0020 - semantic_1_loss: 0.0047 - semantic_2_loss: 0.0010WARNING:tensorflow:Can save best model only with val_loss available, skipping.\n"
     ]
    },
    {
     "name": "stderr",
     "output_type": "stream",
     "text": [
      "WARNING:tensorflow:Can save best model only with val_loss available, skipping.\n"
     ]
    },
    {
     "name": "stdout",
     "output_type": "stream",
     "text": [
      "11/11 [==============================] - 6s 492ms/step - loss: 0.0077 - semantic_0_loss: 0.0020 - semantic_1_loss: 0.0047 - semantic_2_loss: 0.0010 - lr: 5.2560e-05\n",
      "Epoch 66/200\n",
      "11/11 [==============================] - ETA: 0s - loss: 0.0074 - semantic_0_loss: 0.0019 - semantic_1_loss: 0.0045 - semantic_2_loss: 9.9149e-04WARNING:tensorflow:Can save best model only with val_loss available, skipping.\n"
     ]
    },
    {
     "name": "stderr",
     "output_type": "stream",
     "text": [
      "WARNING:tensorflow:Can save best model only with val_loss available, skipping.\n"
     ]
    },
    {
     "name": "stdout",
     "output_type": "stream",
     "text": [
      "11/11 [==============================] - 6s 487ms/step - loss: 0.0074 - semantic_0_loss: 0.0019 - semantic_1_loss: 0.0045 - semantic_2_loss: 9.9149e-04 - lr: 5.2034e-05\n",
      "Epoch 67/200\n",
      "11/11 [==============================] - ETA: 0s - loss: 0.0072 - semantic_0_loss: 0.0018 - semantic_1_loss: 0.0043 - semantic_2_loss: 9.9145e-04WARNING:tensorflow:Can save best model only with val_loss available, skipping.\n"
     ]
    },
    {
     "name": "stderr",
     "output_type": "stream",
     "text": [
      "WARNING:tensorflow:Can save best model only with val_loss available, skipping.\n"
     ]
    },
    {
     "name": "stdout",
     "output_type": "stream",
     "text": [
      "11/11 [==============================] - 5s 480ms/step - loss: 0.0072 - semantic_0_loss: 0.0018 - semantic_1_loss: 0.0043 - semantic_2_loss: 9.9145e-04 - lr: 5.1514e-05\n",
      "Epoch 68/200\n",
      "11/11 [==============================] - ETA: 0s - loss: 0.0077 - semantic_0_loss: 0.0020 - semantic_1_loss: 0.0047 - semantic_2_loss: 0.0010WARNING:tensorflow:Can save best model only with val_loss available, skipping.\n"
     ]
    },
    {
     "name": "stderr",
     "output_type": "stream",
     "text": [
      "WARNING:tensorflow:Can save best model only with val_loss available, skipping.\n"
     ]
    },
    {
     "name": "stdout",
     "output_type": "stream",
     "text": [
      "11/11 [==============================] - 6s 483ms/step - loss: 0.0077 - semantic_0_loss: 0.0020 - semantic_1_loss: 0.0047 - semantic_2_loss: 0.0010 - lr: 5.0999e-05\n",
      "Epoch 69/200\n",
      "11/11 [==============================] - ETA: 0s - loss: 0.0074 - semantic_0_loss: 0.0019 - semantic_1_loss: 0.0045 - semantic_2_loss: 9.9155e-04WARNING:tensorflow:Can save best model only with val_loss available, skipping.\n"
     ]
    },
    {
     "name": "stderr",
     "output_type": "stream",
     "text": [
      "WARNING:tensorflow:Can save best model only with val_loss available, skipping.\n"
     ]
    },
    {
     "name": "stdout",
     "output_type": "stream",
     "text": [
      "11/11 [==============================] - 5s 462ms/step - loss: 0.0074 - semantic_0_loss: 0.0019 - semantic_1_loss: 0.0045 - semantic_2_loss: 9.9155e-04 - lr: 5.0489e-05\n",
      "Epoch 70/200\n",
      "11/11 [==============================] - ETA: 0s - loss: 0.0068 - semantic_0_loss: 0.0017 - semantic_1_loss: 0.0041 - semantic_2_loss: 9.4280e-04WARNING:tensorflow:Can save best model only with val_loss available, skipping.\n"
     ]
    },
    {
     "name": "stderr",
     "output_type": "stream",
     "text": [
      "WARNING:tensorflow:Can save best model only with val_loss available, skipping.\n"
     ]
    },
    {
     "name": "stdout",
     "output_type": "stream",
     "text": [
      "11/11 [==============================] - 5s 517ms/step - loss: 0.0068 - semantic_0_loss: 0.0017 - semantic_1_loss: 0.0041 - semantic_2_loss: 9.4280e-04 - lr: 4.9984e-05\n",
      "Epoch 71/200\n",
      "11/11 [==============================] - ETA: 0s - loss: 0.0074 - semantic_0_loss: 0.0019 - semantic_1_loss: 0.0046 - semantic_2_loss: 0.0010    WARNING:tensorflow:Can save best model only with val_loss available, skipping.\n"
     ]
    },
    {
     "name": "stderr",
     "output_type": "stream",
     "text": [
      "WARNING:tensorflow:Can save best model only with val_loss available, skipping.\n"
     ]
    },
    {
     "name": "stdout",
     "output_type": "stream",
     "text": [
      "11/11 [==============================] - 6s 495ms/step - loss: 0.0074 - semantic_0_loss: 0.0019 - semantic_1_loss: 0.0046 - semantic_2_loss: 0.0010 - lr: 4.9484e-05\n",
      "Epoch 72/200\n",
      "11/11 [==============================] - ETA: 0s - loss: 0.0073 - semantic_0_loss: 0.0019 - semantic_1_loss: 0.0044 - semantic_2_loss: 9.8266e-04WARNING:tensorflow:Can save best model only with val_loss available, skipping.\n"
     ]
    },
    {
     "name": "stderr",
     "output_type": "stream",
     "text": [
      "WARNING:tensorflow:Can save best model only with val_loss available, skipping.\n"
     ]
    },
    {
     "name": "stdout",
     "output_type": "stream",
     "text": [
      "11/11 [==============================] - 6s 525ms/step - loss: 0.0073 - semantic_0_loss: 0.0019 - semantic_1_loss: 0.0044 - semantic_2_loss: 9.8266e-04 - lr: 4.8989e-05\n",
      "Epoch 73/200\n",
      "11/11 [==============================] - ETA: 0s - loss: 0.0074 - semantic_0_loss: 0.0019 - semantic_1_loss: 0.0045 - semantic_2_loss: 0.0010WARNING:tensorflow:Can save best model only with val_loss available, skipping.\n"
     ]
    },
    {
     "name": "stderr",
     "output_type": "stream",
     "text": [
      "WARNING:tensorflow:Can save best model only with val_loss available, skipping.\n"
     ]
    },
    {
     "name": "stdout",
     "output_type": "stream",
     "text": [
      "11/11 [==============================] - 6s 485ms/step - loss: 0.0074 - semantic_0_loss: 0.0019 - semantic_1_loss: 0.0045 - semantic_2_loss: 0.0010 - lr: 4.8499e-05\n",
      "Epoch 74/200\n",
      "11/11 [==============================] - ETA: 0s - loss: 0.0068 - semantic_0_loss: 0.0017 - semantic_1_loss: 0.0042 - semantic_2_loss: 9.5877e-04WARNING:tensorflow:Can save best model only with val_loss available, skipping.\n"
     ]
    },
    {
     "name": "stderr",
     "output_type": "stream",
     "text": [
      "WARNING:tensorflow:Can save best model only with val_loss available, skipping.\n"
     ]
    },
    {
     "name": "stdout",
     "output_type": "stream",
     "text": [
      "11/11 [==============================] - 6s 490ms/step - loss: 0.0068 - semantic_0_loss: 0.0017 - semantic_1_loss: 0.0042 - semantic_2_loss: 9.5877e-04 - lr: 4.8014e-05\n",
      "Epoch 75/200\n",
      "11/11 [==============================] - ETA: 0s - loss: 0.0076 - semantic_0_loss: 0.0020 - semantic_1_loss: 0.0047 - semantic_2_loss: 0.0010WARNING:tensorflow:Can save best model only with val_loss available, skipping.\n"
     ]
    },
    {
     "name": "stderr",
     "output_type": "stream",
     "text": [
      "WARNING:tensorflow:Can save best model only with val_loss available, skipping.\n"
     ]
    },
    {
     "name": "stdout",
     "output_type": "stream",
     "text": [
      "11/11 [==============================] - 6s 499ms/step - loss: 0.0076 - semantic_0_loss: 0.0020 - semantic_1_loss: 0.0047 - semantic_2_loss: 0.0010 - lr: 4.7534e-05\n",
      "Epoch 76/200\n",
      "11/11 [==============================] - ETA: 0s - loss: 0.0065 - semantic_0_loss: 0.0017 - semantic_1_loss: 0.0039 - semantic_2_loss: 9.4587e-04WARNING:tensorflow:Can save best model only with val_loss available, skipping.\n"
     ]
    },
    {
     "name": "stderr",
     "output_type": "stream",
     "text": [
      "WARNING:tensorflow:Can save best model only with val_loss available, skipping.\n"
     ]
    },
    {
     "name": "stdout",
     "output_type": "stream",
     "text": [
      "11/11 [==============================] - 6s 530ms/step - loss: 0.0065 - semantic_0_loss: 0.0017 - semantic_1_loss: 0.0039 - semantic_2_loss: 9.4587e-04 - lr: 4.7059e-05\n",
      "Epoch 77/200\n",
      "11/11 [==============================] - ETA: 0s - loss: 0.0073 - semantic_0_loss: 0.0019 - semantic_1_loss: 0.0044 - semantic_2_loss: 9.8630e-04WARNING:tensorflow:Can save best model only with val_loss available, skipping.\n"
     ]
    },
    {
     "name": "stderr",
     "output_type": "stream",
     "text": [
      "WARNING:tensorflow:Can save best model only with val_loss available, skipping.\n"
     ]
    },
    {
     "name": "stdout",
     "output_type": "stream",
     "text": [
      "11/11 [==============================] - 6s 510ms/step - loss: 0.0073 - semantic_0_loss: 0.0019 - semantic_1_loss: 0.0044 - semantic_2_loss: 9.8630e-04 - lr: 4.6588e-05\n",
      "Epoch 78/200\n",
      "11/11 [==============================] - ETA: 0s - loss: 0.0075 - semantic_0_loss: 0.0019 - semantic_1_loss: 0.0046 - semantic_2_loss: 0.0010    WARNING:tensorflow:Can save best model only with val_loss available, skipping.\n"
     ]
    },
    {
     "name": "stderr",
     "output_type": "stream",
     "text": [
      "WARNING:tensorflow:Can save best model only with val_loss available, skipping.\n"
     ]
    },
    {
     "name": "stdout",
     "output_type": "stream",
     "text": [
      "11/11 [==============================] - 6s 522ms/step - loss: 0.0075 - semantic_0_loss: 0.0019 - semantic_1_loss: 0.0046 - semantic_2_loss: 0.0010 - lr: 4.6122e-05\n",
      "Epoch 79/200\n",
      "11/11 [==============================] - ETA: 0s - loss: 0.0074 - semantic_0_loss: 0.0019 - semantic_1_loss: 0.0045 - semantic_2_loss: 9.9471e-04WARNING:tensorflow:Can save best model only with val_loss available, skipping.\n"
     ]
    },
    {
     "name": "stderr",
     "output_type": "stream",
     "text": [
      "WARNING:tensorflow:Can save best model only with val_loss available, skipping.\n"
     ]
    },
    {
     "name": "stdout",
     "output_type": "stream",
     "text": [
      "11/11 [==============================] - 6s 510ms/step - loss: 0.0074 - semantic_0_loss: 0.0019 - semantic_1_loss: 0.0045 - semantic_2_loss: 9.9471e-04 - lr: 4.5661e-05\n",
      "Epoch 80/200\n",
      "11/11 [==============================] - ETA: 0s - loss: 0.0071 - semantic_0_loss: 0.0018 - semantic_1_loss: 0.0043 - semantic_2_loss: 9.5543e-04WARNING:tensorflow:Can save best model only with val_loss available, skipping.\n"
     ]
    },
    {
     "name": "stderr",
     "output_type": "stream",
     "text": [
      "WARNING:tensorflow:Can save best model only with val_loss available, skipping.\n"
     ]
    },
    {
     "name": "stdout",
     "output_type": "stream",
     "text": [
      "11/11 [==============================] - 5s 525ms/step - loss: 0.0071 - semantic_0_loss: 0.0018 - semantic_1_loss: 0.0043 - semantic_2_loss: 9.5543e-04 - lr: 4.5204e-05\n",
      "Epoch 81/200\n",
      "11/11 [==============================] - ETA: 0s - loss: 0.0075 - semantic_0_loss: 0.0019 - semantic_1_loss: 0.0046 - semantic_2_loss: 9.8282e-04WARNING:tensorflow:Can save best model only with val_loss available, skipping.\n"
     ]
    },
    {
     "name": "stderr",
     "output_type": "stream",
     "text": [
      "WARNING:tensorflow:Can save best model only with val_loss available, skipping.\n"
     ]
    },
    {
     "name": "stdout",
     "output_type": "stream",
     "text": [
      "11/11 [==============================] - 6s 497ms/step - loss: 0.0075 - semantic_0_loss: 0.0019 - semantic_1_loss: 0.0046 - semantic_2_loss: 9.8282e-04 - lr: 4.4752e-05\n",
      "Epoch 82/200\n",
      "11/11 [==============================] - ETA: 0s - loss: 0.0073 - semantic_0_loss: 0.0019 - semantic_1_loss: 0.0044 - semantic_2_loss: 9.7486e-04WARNING:tensorflow:Can save best model only with val_loss available, skipping.\n"
     ]
    },
    {
     "name": "stderr",
     "output_type": "stream",
     "text": [
      "WARNING:tensorflow:Can save best model only with val_loss available, skipping.\n"
     ]
    },
    {
     "name": "stdout",
     "output_type": "stream",
     "text": [
      "11/11 [==============================] - 5s 525ms/step - loss: 0.0073 - semantic_0_loss: 0.0019 - semantic_1_loss: 0.0044 - semantic_2_loss: 9.7486e-04 - lr: 4.4305e-05\n",
      "Epoch 83/200\n",
      "11/11 [==============================] - ETA: 0s - loss: 0.0075 - semantic_0_loss: 0.0019 - semantic_1_loss: 0.0046 - semantic_2_loss: 0.0010WARNING:tensorflow:Can save best model only with val_loss available, skipping.\n"
     ]
    },
    {
     "name": "stderr",
     "output_type": "stream",
     "text": [
      "WARNING:tensorflow:Can save best model only with val_loss available, skipping.\n"
     ]
    },
    {
     "name": "stdout",
     "output_type": "stream",
     "text": [
      "11/11 [==============================] - 5s 476ms/step - loss: 0.0075 - semantic_0_loss: 0.0019 - semantic_1_loss: 0.0046 - semantic_2_loss: 0.0010 - lr: 4.3862e-05\n",
      "Epoch 84/200\n",
      "11/11 [==============================] - ETA: 0s - loss: 0.0071 - semantic_0_loss: 0.0019 - semantic_1_loss: 0.0043 - semantic_2_loss: 9.5795e-04WARNING:tensorflow:Can save best model only with val_loss available, skipping.\n"
     ]
    },
    {
     "name": "stderr",
     "output_type": "stream",
     "text": [
      "WARNING:tensorflow:Can save best model only with val_loss available, skipping.\n"
     ]
    },
    {
     "name": "stdout",
     "output_type": "stream",
     "text": [
      "11/11 [==============================] - 6s 479ms/step - loss: 0.0071 - semantic_0_loss: 0.0019 - semantic_1_loss: 0.0043 - semantic_2_loss: 9.5795e-04 - lr: 4.3423e-05\n",
      "Epoch 85/200\n",
      "11/11 [==============================] - ETA: 0s - loss: 0.0066 - semantic_0_loss: 0.0017 - semantic_1_loss: 0.0040 - semantic_2_loss: 9.4316e-04WARNING:tensorflow:Can save best model only with val_loss available, skipping.\n"
     ]
    },
    {
     "name": "stderr",
     "output_type": "stream",
     "text": [
      "WARNING:tensorflow:Can save best model only with val_loss available, skipping.\n"
     ]
    },
    {
     "name": "stdout",
     "output_type": "stream",
     "text": [
      "11/11 [==============================] - 5s 465ms/step - loss: 0.0066 - semantic_0_loss: 0.0017 - semantic_1_loss: 0.0040 - semantic_2_loss: 9.4316e-04 - lr: 4.2989e-05\n",
      "Epoch 86/200\n",
      "11/11 [==============================] - ETA: 0s - loss: 0.0072 - semantic_0_loss: 0.0018 - semantic_1_loss: 0.0044 - semantic_2_loss: 9.5961e-04WARNING:tensorflow:Can save best model only with val_loss available, skipping.\n"
     ]
    },
    {
     "name": "stderr",
     "output_type": "stream",
     "text": [
      "WARNING:tensorflow:Can save best model only with val_loss available, skipping.\n"
     ]
    },
    {
     "name": "stdout",
     "output_type": "stream",
     "text": [
      "11/11 [==============================] - 5s 476ms/step - loss: 0.0072 - semantic_0_loss: 0.0018 - semantic_1_loss: 0.0044 - semantic_2_loss: 9.5961e-04 - lr: 4.2559e-05\n",
      "Epoch 87/200\n",
      "11/11 [==============================] - ETA: 0s - loss: 0.0073 - semantic_0_loss: 0.0019 - semantic_1_loss: 0.0044 - semantic_2_loss: 9.8603e-04WARNING:tensorflow:Can save best model only with val_loss available, skipping.\n"
     ]
    },
    {
     "name": "stderr",
     "output_type": "stream",
     "text": [
      "WARNING:tensorflow:Can save best model only with val_loss available, skipping.\n"
     ]
    },
    {
     "name": "stdout",
     "output_type": "stream",
     "text": [
      "11/11 [==============================] - 6s 497ms/step - loss: 0.0073 - semantic_0_loss: 0.0019 - semantic_1_loss: 0.0044 - semantic_2_loss: 9.8603e-04 - lr: 4.2133e-05\n",
      "Epoch 88/200\n",
      "11/11 [==============================] - ETA: 0s - loss: 0.0070 - semantic_0_loss: 0.0018 - semantic_1_loss: 0.0043 - semantic_2_loss: 9.4343e-04WARNING:tensorflow:Can save best model only with val_loss available, skipping.\n"
     ]
    },
    {
     "name": "stderr",
     "output_type": "stream",
     "text": [
      "WARNING:tensorflow:Can save best model only with val_loss available, skipping.\n"
     ]
    },
    {
     "name": "stdout",
     "output_type": "stream",
     "text": [
      "11/11 [==============================] - 5s 478ms/step - loss: 0.0070 - semantic_0_loss: 0.0018 - semantic_1_loss: 0.0043 - semantic_2_loss: 9.4343e-04 - lr: 4.1712e-05\n",
      "Epoch 89/200\n",
      "11/11 [==============================] - ETA: 0s - loss: 0.0067 - semantic_0_loss: 0.0018 - semantic_1_loss: 0.0040 - semantic_2_loss: 9.5547e-04WARNING:tensorflow:Can save best model only with val_loss available, skipping.\n"
     ]
    },
    {
     "name": "stderr",
     "output_type": "stream",
     "text": [
      "WARNING:tensorflow:Can save best model only with val_loss available, skipping.\n"
     ]
    },
    {
     "name": "stdout",
     "output_type": "stream",
     "text": [
      "11/11 [==============================] - 5s 465ms/step - loss: 0.0067 - semantic_0_loss: 0.0018 - semantic_1_loss: 0.0040 - semantic_2_loss: 9.5547e-04 - lr: 4.1295e-05\n",
      "Epoch 90/200\n",
      "11/11 [==============================] - ETA: 0s - loss: 0.0078 - semantic_0_loss: 0.0020 - semantic_1_loss: 0.0048 - semantic_2_loss: 0.0010WARNING:tensorflow:Can save best model only with val_loss available, skipping.\n"
     ]
    },
    {
     "name": "stderr",
     "output_type": "stream",
     "text": [
      "WARNING:tensorflow:Can save best model only with val_loss available, skipping.\n"
     ]
    },
    {
     "name": "stdout",
     "output_type": "stream",
     "text": [
      "11/11 [==============================] - 6s 492ms/step - loss: 0.0078 - semantic_0_loss: 0.0020 - semantic_1_loss: 0.0048 - semantic_2_loss: 0.0010 - lr: 4.0882e-05\n",
      "Epoch 91/200\n",
      "11/11 [==============================] - ETA: 0s - loss: 0.0075 - semantic_0_loss: 0.0019 - semantic_1_loss: 0.0046 - semantic_2_loss: 0.0010WARNING:tensorflow:Can save best model only with val_loss available, skipping.\n"
     ]
    },
    {
     "name": "stderr",
     "output_type": "stream",
     "text": [
      "WARNING:tensorflow:Can save best model only with val_loss available, skipping.\n"
     ]
    },
    {
     "name": "stdout",
     "output_type": "stream",
     "text": [
      "11/11 [==============================] - 6s 494ms/step - loss: 0.0075 - semantic_0_loss: 0.0019 - semantic_1_loss: 0.0046 - semantic_2_loss: 0.0010 - lr: 4.0473e-05\n",
      "Epoch 92/200\n",
      "11/11 [==============================] - ETA: 0s - loss: 0.0072 - semantic_0_loss: 0.0019 - semantic_1_loss: 0.0043 - semantic_2_loss: 9.7536e-04WARNING:tensorflow:Can save best model only with val_loss available, skipping.\n"
     ]
    },
    {
     "name": "stderr",
     "output_type": "stream",
     "text": [
      "WARNING:tensorflow:Can save best model only with val_loss available, skipping.\n"
     ]
    },
    {
     "name": "stdout",
     "output_type": "stream",
     "text": [
      "11/11 [==============================] - 6s 492ms/step - loss: 0.0072 - semantic_0_loss: 0.0019 - semantic_1_loss: 0.0043 - semantic_2_loss: 9.7536e-04 - lr: 4.0068e-05\n",
      "Epoch 93/200\n",
      "11/11 [==============================] - ETA: 0s - loss: 0.0071 - semantic_0_loss: 0.0018 - semantic_1_loss: 0.0043 - semantic_2_loss: 9.7281e-04WARNING:tensorflow:Can save best model only with val_loss available, skipping.\n"
     ]
    },
    {
     "name": "stderr",
     "output_type": "stream",
     "text": [
      "WARNING:tensorflow:Can save best model only with val_loss available, skipping.\n"
     ]
    },
    {
     "name": "stdout",
     "output_type": "stream",
     "text": [
      "11/11 [==============================] - 6s 470ms/step - loss: 0.0071 - semantic_0_loss: 0.0018 - semantic_1_loss: 0.0043 - semantic_2_loss: 9.7281e-04 - lr: 3.9668e-05\n",
      "Epoch 94/200\n",
      "11/11 [==============================] - ETA: 0s - loss: 0.0072 - semantic_0_loss: 0.0019 - semantic_1_loss: 0.0043 - semantic_2_loss: 9.6541e-04WARNING:tensorflow:Can save best model only with val_loss available, skipping.\n"
     ]
    },
    {
     "name": "stderr",
     "output_type": "stream",
     "text": [
      "WARNING:tensorflow:Can save best model only with val_loss available, skipping.\n"
     ]
    },
    {
     "name": "stdout",
     "output_type": "stream",
     "text": [
      "11/11 [==============================] - 6s 515ms/step - loss: 0.0072 - semantic_0_loss: 0.0019 - semantic_1_loss: 0.0043 - semantic_2_loss: 9.6541e-04 - lr: 3.9271e-05\n",
      "Epoch 95/200\n",
      "11/11 [==============================] - ETA: 0s - loss: 0.0072 - semantic_0_loss: 0.0018 - semantic_1_loss: 0.0044 - semantic_2_loss: 9.7994e-04WARNING:tensorflow:Can save best model only with val_loss available, skipping.\n"
     ]
    },
    {
     "name": "stderr",
     "output_type": "stream",
     "text": [
      "WARNING:tensorflow:Can save best model only with val_loss available, skipping.\n"
     ]
    },
    {
     "name": "stdout",
     "output_type": "stream",
     "text": [
      "11/11 [==============================] - 6s 486ms/step - loss: 0.0072 - semantic_0_loss: 0.0018 - semantic_1_loss: 0.0044 - semantic_2_loss: 9.7994e-04 - lr: 3.8878e-05\n",
      "Epoch 96/200\n",
      "11/11 [==============================] - ETA: 0s - loss: 0.0072 - semantic_0_loss: 0.0018 - semantic_1_loss: 0.0044 - semantic_2_loss: 9.8098e-04WARNING:tensorflow:Can save best model only with val_loss available, skipping.\n"
     ]
    },
    {
     "name": "stderr",
     "output_type": "stream",
     "text": [
      "WARNING:tensorflow:Can save best model only with val_loss available, skipping.\n"
     ]
    },
    {
     "name": "stdout",
     "output_type": "stream",
     "text": [
      "11/11 [==============================] - 6s 487ms/step - loss: 0.0072 - semantic_0_loss: 0.0018 - semantic_1_loss: 0.0044 - semantic_2_loss: 9.8098e-04 - lr: 3.8490e-05\n",
      "Epoch 97/200\n",
      "11/11 [==============================] - ETA: 0s - loss: 0.0070 - semantic_0_loss: 0.0018 - semantic_1_loss: 0.0042 - semantic_2_loss: 9.6599e-04WARNING:tensorflow:Can save best model only with val_loss available, skipping.\n"
     ]
    },
    {
     "name": "stderr",
     "output_type": "stream",
     "text": [
      "WARNING:tensorflow:Can save best model only with val_loss available, skipping.\n"
     ]
    },
    {
     "name": "stdout",
     "output_type": "stream",
     "text": [
      "11/11 [==============================] - 6s 488ms/step - loss: 0.0070 - semantic_0_loss: 0.0018 - semantic_1_loss: 0.0042 - semantic_2_loss: 9.6599e-04 - lr: 3.8105e-05\n",
      "Epoch 98/200\n",
      "11/11 [==============================] - ETA: 0s - loss: 0.0072 - semantic_0_loss: 0.0018 - semantic_1_loss: 0.0044 - semantic_2_loss: 9.7290e-04WARNING:tensorflow:Can save best model only with val_loss available, skipping.\n"
     ]
    },
    {
     "name": "stderr",
     "output_type": "stream",
     "text": [
      "WARNING:tensorflow:Can save best model only with val_loss available, skipping.\n"
     ]
    },
    {
     "name": "stdout",
     "output_type": "stream",
     "text": [
      "11/11 [==============================] - 5s 474ms/step - loss: 0.0072 - semantic_0_loss: 0.0018 - semantic_1_loss: 0.0044 - semantic_2_loss: 9.7290e-04 - lr: 3.7724e-05\n",
      "Epoch 99/200\n",
      "11/11 [==============================] - ETA: 0s - loss: 0.0071 - semantic_0_loss: 0.0018 - semantic_1_loss: 0.0043 - semantic_2_loss: 9.7477e-04WARNING:tensorflow:Can save best model only with val_loss available, skipping.\n"
     ]
    },
    {
     "name": "stderr",
     "output_type": "stream",
     "text": [
      "WARNING:tensorflow:Can save best model only with val_loss available, skipping.\n"
     ]
    },
    {
     "name": "stdout",
     "output_type": "stream",
     "text": [
      "11/11 [==============================] - 5s 468ms/step - loss: 0.0071 - semantic_0_loss: 0.0018 - semantic_1_loss: 0.0043 - semantic_2_loss: 9.7477e-04 - lr: 3.7346e-05\n",
      "Epoch 100/200\n",
      "11/11 [==============================] - ETA: 0s - loss: 0.0068 - semantic_0_loss: 0.0017 - semantic_1_loss: 0.0042 - semantic_2_loss: 9.4631e-04WARNING:tensorflow:Can save best model only with val_loss available, skipping.\n"
     ]
    },
    {
     "name": "stderr",
     "output_type": "stream",
     "text": [
      "WARNING:tensorflow:Can save best model only with val_loss available, skipping.\n"
     ]
    },
    {
     "name": "stdout",
     "output_type": "stream",
     "text": [
      "11/11 [==============================] - 5s 465ms/step - loss: 0.0068 - semantic_0_loss: 0.0017 - semantic_1_loss: 0.0042 - semantic_2_loss: 9.4631e-04 - lr: 3.6973e-05\n",
      "Epoch 101/200\n",
      "11/11 [==============================] - ETA: 0s - loss: 0.0070 - semantic_0_loss: 0.0018 - semantic_1_loss: 0.0042 - semantic_2_loss: 9.7375e-04WARNING:tensorflow:Can save best model only with val_loss available, skipping.\n"
     ]
    },
    {
     "name": "stderr",
     "output_type": "stream",
     "text": [
      "WARNING:tensorflow:Can save best model only with val_loss available, skipping.\n"
     ]
    },
    {
     "name": "stdout",
     "output_type": "stream",
     "text": [
      "11/11 [==============================] - 6s 518ms/step - loss: 0.0070 - semantic_0_loss: 0.0018 - semantic_1_loss: 0.0042 - semantic_2_loss: 9.7375e-04 - lr: 3.6603e-05\n",
      "Epoch 102/200\n",
      "11/11 [==============================] - ETA: 0s - loss: 0.0067 - semantic_0_loss: 0.0017 - semantic_1_loss: 0.0040 - semantic_2_loss: 9.3594e-04WARNING:tensorflow:Can save best model only with val_loss available, skipping.\n"
     ]
    },
    {
     "name": "stderr",
     "output_type": "stream",
     "text": [
      "WARNING:tensorflow:Can save best model only with val_loss available, skipping.\n"
     ]
    },
    {
     "name": "stdout",
     "output_type": "stream",
     "text": [
      "11/11 [==============================] - 6s 530ms/step - loss: 0.0067 - semantic_0_loss: 0.0017 - semantic_1_loss: 0.0040 - semantic_2_loss: 9.3594e-04 - lr: 3.6237e-05\n",
      "Epoch 103/200\n",
      "11/11 [==============================] - ETA: 0s - loss: 0.0066 - semantic_0_loss: 0.0017 - semantic_1_loss: 0.0040 - semantic_2_loss: 9.1786e-04WARNING:tensorflow:Can save best model only with val_loss available, skipping.\n"
     ]
    },
    {
     "name": "stderr",
     "output_type": "stream",
     "text": [
      "WARNING:tensorflow:Can save best model only with val_loss available, skipping.\n"
     ]
    },
    {
     "name": "stdout",
     "output_type": "stream",
     "text": [
      "11/11 [==============================] - 6s 517ms/step - loss: 0.0066 - semantic_0_loss: 0.0017 - semantic_1_loss: 0.0040 - semantic_2_loss: 9.1786e-04 - lr: 3.5875e-05\n",
      "Epoch 104/200\n",
      "11/11 [==============================] - ETA: 0s - loss: 0.0066 - semantic_0_loss: 0.0017 - semantic_1_loss: 0.0039 - semantic_2_loss: 9.3422e-04WARNING:tensorflow:Can save best model only with val_loss available, skipping.\n"
     ]
    },
    {
     "name": "stderr",
     "output_type": "stream",
     "text": [
      "WARNING:tensorflow:Can save best model only with val_loss available, skipping.\n"
     ]
    },
    {
     "name": "stdout",
     "output_type": "stream",
     "text": [
      "11/11 [==============================] - 6s 495ms/step - loss: 0.0066 - semantic_0_loss: 0.0017 - semantic_1_loss: 0.0039 - semantic_2_loss: 9.3422e-04 - lr: 3.5516e-05\n",
      "Epoch 105/200\n",
      "11/11 [==============================] - ETA: 0s - loss: 0.0070 - semantic_0_loss: 0.0018 - semantic_1_loss: 0.0042 - semantic_2_loss: 9.4808e-04WARNING:tensorflow:Can save best model only with val_loss available, skipping.\n"
     ]
    },
    {
     "name": "stderr",
     "output_type": "stream",
     "text": [
      "WARNING:tensorflow:Can save best model only with val_loss available, skipping.\n"
     ]
    },
    {
     "name": "stdout",
     "output_type": "stream",
     "text": [
      "11/11 [==============================] - 5s 478ms/step - loss: 0.0070 - semantic_0_loss: 0.0018 - semantic_1_loss: 0.0042 - semantic_2_loss: 9.4808e-04 - lr: 3.5161e-05\n",
      "Epoch 106/200\n",
      "11/11 [==============================] - ETA: 0s - loss: 0.0069 - semantic_0_loss: 0.0018 - semantic_1_loss: 0.0042 - semantic_2_loss: 9.4865e-04WARNING:tensorflow:Can save best model only with val_loss available, skipping.\n"
     ]
    },
    {
     "name": "stderr",
     "output_type": "stream",
     "text": [
      "WARNING:tensorflow:Can save best model only with val_loss available, skipping.\n"
     ]
    },
    {
     "name": "stdout",
     "output_type": "stream",
     "text": [
      "11/11 [==============================] - 6s 532ms/step - loss: 0.0069 - semantic_0_loss: 0.0018 - semantic_1_loss: 0.0042 - semantic_2_loss: 9.4865e-04 - lr: 3.4809e-05\n",
      "Epoch 107/200\n",
      "11/11 [==============================] - ETA: 0s - loss: 0.0069 - semantic_0_loss: 0.0018 - semantic_1_loss: 0.0042 - semantic_2_loss: 9.4478e-04WARNING:tensorflow:Can save best model only with val_loss available, skipping.\n"
     ]
    },
    {
     "name": "stderr",
     "output_type": "stream",
     "text": [
      "WARNING:tensorflow:Can save best model only with val_loss available, skipping.\n"
     ]
    },
    {
     "name": "stdout",
     "output_type": "stream",
     "text": [
      "11/11 [==============================] - 6s 483ms/step - loss: 0.0069 - semantic_0_loss: 0.0018 - semantic_1_loss: 0.0042 - semantic_2_loss: 9.4478e-04 - lr: 3.4461e-05\n",
      "Epoch 108/200\n",
      "11/11 [==============================] - ETA: 0s - loss: 0.0066 - semantic_0_loss: 0.0017 - semantic_1_loss: 0.0040 - semantic_2_loss: 9.2439e-04WARNING:tensorflow:Can save best model only with val_loss available, skipping.\n"
     ]
    },
    {
     "name": "stderr",
     "output_type": "stream",
     "text": [
      "WARNING:tensorflow:Can save best model only with val_loss available, skipping.\n"
     ]
    },
    {
     "name": "stdout",
     "output_type": "stream",
     "text": [
      "11/11 [==============================] - 6s 491ms/step - loss: 0.0066 - semantic_0_loss: 0.0017 - semantic_1_loss: 0.0040 - semantic_2_loss: 9.2439e-04 - lr: 3.4117e-05\n",
      "Epoch 109/200\n",
      "11/11 [==============================] - ETA: 0s - loss: 0.0068 - semantic_0_loss: 0.0017 - semantic_1_loss: 0.0041 - semantic_2_loss: 9.4615e-04WARNING:tensorflow:Can save best model only with val_loss available, skipping.\n"
     ]
    },
    {
     "name": "stderr",
     "output_type": "stream",
     "text": [
      "WARNING:tensorflow:Can save best model only with val_loss available, skipping.\n"
     ]
    },
    {
     "name": "stdout",
     "output_type": "stream",
     "text": [
      "11/11 [==============================] - 6s 531ms/step - loss: 0.0068 - semantic_0_loss: 0.0017 - semantic_1_loss: 0.0041 - semantic_2_loss: 9.4615e-04 - lr: 3.3775e-05\n",
      "Epoch 110/200\n",
      "11/11 [==============================] - ETA: 0s - loss: 0.0065 - semantic_0_loss: 0.0017 - semantic_1_loss: 0.0039 - semantic_2_loss: 9.1382e-04WARNING:tensorflow:Can save best model only with val_loss available, skipping.\n"
     ]
    },
    {
     "name": "stderr",
     "output_type": "stream",
     "text": [
      "WARNING:tensorflow:Can save best model only with val_loss available, skipping.\n"
     ]
    },
    {
     "name": "stdout",
     "output_type": "stream",
     "text": [
      "11/11 [==============================] - 5s 474ms/step - loss: 0.0065 - semantic_0_loss: 0.0017 - semantic_1_loss: 0.0039 - semantic_2_loss: 9.1382e-04 - lr: 3.3438e-05\n",
      "Epoch 111/200\n",
      "11/11 [==============================] - ETA: 0s - loss: 0.0070 - semantic_0_loss: 0.0018 - semantic_1_loss: 0.0042 - semantic_2_loss: 9.6389e-04WARNING:tensorflow:Can save best model only with val_loss available, skipping.\n"
     ]
    },
    {
     "name": "stderr",
     "output_type": "stream",
     "text": [
      "WARNING:tensorflow:Can save best model only with val_loss available, skipping.\n"
     ]
    },
    {
     "name": "stdout",
     "output_type": "stream",
     "text": [
      "11/11 [==============================] - 6s 492ms/step - loss: 0.0070 - semantic_0_loss: 0.0018 - semantic_1_loss: 0.0042 - semantic_2_loss: 9.6389e-04 - lr: 3.3103e-05\n",
      "Epoch 112/200\n",
      "11/11 [==============================] - ETA: 0s - loss: 0.0072 - semantic_0_loss: 0.0019 - semantic_1_loss: 0.0044 - semantic_2_loss: 9.7666e-04WARNING:tensorflow:Can save best model only with val_loss available, skipping.\n"
     ]
    },
    {
     "name": "stderr",
     "output_type": "stream",
     "text": [
      "WARNING:tensorflow:Can save best model only with val_loss available, skipping.\n"
     ]
    },
    {
     "name": "stdout",
     "output_type": "stream",
     "text": [
      "11/11 [==============================] - 6s 486ms/step - loss: 0.0072 - semantic_0_loss: 0.0019 - semantic_1_loss: 0.0044 - semantic_2_loss: 9.7666e-04 - lr: 3.2772e-05\n",
      "Epoch 113/200\n",
      "11/11 [==============================] - ETA: 0s - loss: 0.0068 - semantic_0_loss: 0.0017 - semantic_1_loss: 0.0041 - semantic_2_loss: 9.4530e-04WARNING:tensorflow:Can save best model only with val_loss available, skipping.\n"
     ]
    },
    {
     "name": "stderr",
     "output_type": "stream",
     "text": [
      "WARNING:tensorflow:Can save best model only with val_loss available, skipping.\n"
     ]
    },
    {
     "name": "stdout",
     "output_type": "stream",
     "text": [
      "11/11 [==============================] - 6s 486ms/step - loss: 0.0068 - semantic_0_loss: 0.0017 - semantic_1_loss: 0.0041 - semantic_2_loss: 9.4530e-04 - lr: 3.2445e-05\n",
      "Epoch 114/200\n",
      "11/11 [==============================] - ETA: 0s - loss: 0.0068 - semantic_0_loss: 0.0018 - semantic_1_loss: 0.0041 - semantic_2_loss: 9.3219e-04WARNING:tensorflow:Can save best model only with val_loss available, skipping.\n"
     ]
    },
    {
     "name": "stderr",
     "output_type": "stream",
     "text": [
      "WARNING:tensorflow:Can save best model only with val_loss available, skipping.\n"
     ]
    },
    {
     "name": "stdout",
     "output_type": "stream",
     "text": [
      "11/11 [==============================] - 6s 484ms/step - loss: 0.0068 - semantic_0_loss: 0.0018 - semantic_1_loss: 0.0041 - semantic_2_loss: 9.3219e-04 - lr: 3.2120e-05\n",
      "Epoch 115/200\n",
      "11/11 [==============================] - ETA: 0s - loss: 0.0070 - semantic_0_loss: 0.0018 - semantic_1_loss: 0.0042 - semantic_2_loss: 9.5360e-04WARNING:tensorflow:Can save best model only with val_loss available, skipping.\n"
     ]
    },
    {
     "name": "stderr",
     "output_type": "stream",
     "text": [
      "WARNING:tensorflow:Can save best model only with val_loss available, skipping.\n"
     ]
    },
    {
     "name": "stdout",
     "output_type": "stream",
     "text": [
      "11/11 [==============================] - 5s 473ms/step - loss: 0.0070 - semantic_0_loss: 0.0018 - semantic_1_loss: 0.0042 - semantic_2_loss: 9.5360e-04 - lr: 3.1799e-05\n",
      "Epoch 116/200\n",
      "11/11 [==============================] - ETA: 0s - loss: 0.0074 - semantic_0_loss: 0.0019 - semantic_1_loss: 0.0045 - semantic_2_loss: 9.9586e-04WARNING:tensorflow:Can save best model only with val_loss available, skipping.\n"
     ]
    },
    {
     "name": "stderr",
     "output_type": "stream",
     "text": [
      "WARNING:tensorflow:Can save best model only with val_loss available, skipping.\n"
     ]
    },
    {
     "name": "stdout",
     "output_type": "stream",
     "text": [
      "11/11 [==============================] - 6s 490ms/step - loss: 0.0074 - semantic_0_loss: 0.0019 - semantic_1_loss: 0.0045 - semantic_2_loss: 9.9586e-04 - lr: 3.1481e-05\n",
      "Epoch 117/200\n",
      "11/11 [==============================] - ETA: 0s - loss: 0.0067 - semantic_0_loss: 0.0017 - semantic_1_loss: 0.0040 - semantic_2_loss: 9.4416e-04WARNING:tensorflow:Can save best model only with val_loss available, skipping.\n"
     ]
    },
    {
     "name": "stderr",
     "output_type": "stream",
     "text": [
      "WARNING:tensorflow:Can save best model only with val_loss available, skipping.\n"
     ]
    },
    {
     "name": "stdout",
     "output_type": "stream",
     "text": [
      "11/11 [==============================] - 5s 475ms/step - loss: 0.0067 - semantic_0_loss: 0.0017 - semantic_1_loss: 0.0040 - semantic_2_loss: 9.4416e-04 - lr: 3.1166e-05\n",
      "Epoch 118/200\n",
      "11/11 [==============================] - ETA: 0s - loss: 0.0069 - semantic_0_loss: 0.0018 - semantic_1_loss: 0.0042 - semantic_2_loss: 9.6142e-04WARNING:tensorflow:Can save best model only with val_loss available, skipping.\n"
     ]
    },
    {
     "name": "stderr",
     "output_type": "stream",
     "text": [
      "WARNING:tensorflow:Can save best model only with val_loss available, skipping.\n"
     ]
    },
    {
     "name": "stdout",
     "output_type": "stream",
     "text": [
      "11/11 [==============================] - 6s 498ms/step - loss: 0.0069 - semantic_0_loss: 0.0018 - semantic_1_loss: 0.0042 - semantic_2_loss: 9.6142e-04 - lr: 3.0854e-05\n",
      "Epoch 119/200\n",
      "11/11 [==============================] - ETA: 0s - loss: 0.0069 - semantic_0_loss: 0.0018 - semantic_1_loss: 0.0042 - semantic_2_loss: 9.5386e-04WARNING:tensorflow:Can save best model only with val_loss available, skipping.\n"
     ]
    },
    {
     "name": "stderr",
     "output_type": "stream",
     "text": [
      "WARNING:tensorflow:Can save best model only with val_loss available, skipping.\n"
     ]
    },
    {
     "name": "stdout",
     "output_type": "stream",
     "text": [
      "11/11 [==============================] - 6s 481ms/step - loss: 0.0069 - semantic_0_loss: 0.0018 - semantic_1_loss: 0.0042 - semantic_2_loss: 9.5386e-04 - lr: 3.0546e-05\n",
      "Epoch 120/200\n",
      "11/11 [==============================] - ETA: 0s - loss: 0.0072 - semantic_0_loss: 0.0019 - semantic_1_loss: 0.0043 - semantic_2_loss: 9.7326e-04WARNING:tensorflow:Can save best model only with val_loss available, skipping.\n"
     ]
    },
    {
     "name": "stderr",
     "output_type": "stream",
     "text": [
      "WARNING:tensorflow:Can save best model only with val_loss available, skipping.\n"
     ]
    },
    {
     "name": "stdout",
     "output_type": "stream",
     "text": [
      "11/11 [==============================] - 6s 544ms/step - loss: 0.0072 - semantic_0_loss: 0.0019 - semantic_1_loss: 0.0043 - semantic_2_loss: 9.7326e-04 - lr: 3.0240e-05\n",
      "Epoch 121/200\n",
      "11/11 [==============================] - ETA: 0s - loss: 0.0070 - semantic_0_loss: 0.0018 - semantic_1_loss: 0.0042 - semantic_2_loss: 9.4703e-04WARNING:tensorflow:Can save best model only with val_loss available, skipping.\n"
     ]
    },
    {
     "name": "stderr",
     "output_type": "stream",
     "text": [
      "WARNING:tensorflow:Can save best model only with val_loss available, skipping.\n"
     ]
    },
    {
     "name": "stdout",
     "output_type": "stream",
     "text": [
      "11/11 [==============================] - 6s 492ms/step - loss: 0.0070 - semantic_0_loss: 0.0018 - semantic_1_loss: 0.0042 - semantic_2_loss: 9.4703e-04 - lr: 2.9938e-05\n",
      "Epoch 122/200\n",
      "11/11 [==============================] - ETA: 0s - loss: 0.0069 - semantic_0_loss: 0.0018 - semantic_1_loss: 0.0041 - semantic_2_loss: 9.4313e-04WARNING:tensorflow:Can save best model only with val_loss available, skipping.\n"
     ]
    },
    {
     "name": "stderr",
     "output_type": "stream",
     "text": [
      "WARNING:tensorflow:Can save best model only with val_loss available, skipping.\n"
     ]
    },
    {
     "name": "stdout",
     "output_type": "stream",
     "text": [
      "11/11 [==============================] - 6s 479ms/step - loss: 0.0069 - semantic_0_loss: 0.0018 - semantic_1_loss: 0.0041 - semantic_2_loss: 9.4313e-04 - lr: 2.9639e-05\n",
      "Epoch 123/200\n",
      "11/11 [==============================] - ETA: 0s - loss: 0.0073 - semantic_0_loss: 0.0019 - semantic_1_loss: 0.0044 - semantic_2_loss: 9.6839e-04WARNING:tensorflow:Can save best model only with val_loss available, skipping.\n"
     ]
    },
    {
     "name": "stderr",
     "output_type": "stream",
     "text": [
      "WARNING:tensorflow:Can save best model only with val_loss available, skipping.\n"
     ]
    },
    {
     "name": "stdout",
     "output_type": "stream",
     "text": [
      "11/11 [==============================] - 5s 472ms/step - loss: 0.0073 - semantic_0_loss: 0.0019 - semantic_1_loss: 0.0044 - semantic_2_loss: 9.6839e-04 - lr: 2.9342e-05\n",
      "Epoch 124/200\n",
      "11/11 [==============================] - ETA: 0s - loss: 0.0072 - semantic_0_loss: 0.0019 - semantic_1_loss: 0.0043 - semantic_2_loss: 9.5666e-04WARNING:tensorflow:Can save best model only with val_loss available, skipping.\n"
     ]
    },
    {
     "name": "stderr",
     "output_type": "stream",
     "text": [
      "WARNING:tensorflow:Can save best model only with val_loss available, skipping.\n"
     ]
    },
    {
     "name": "stdout",
     "output_type": "stream",
     "text": [
      "11/11 [==============================] - 6s 500ms/step - loss: 0.0072 - semantic_0_loss: 0.0019 - semantic_1_loss: 0.0043 - semantic_2_loss: 9.5666e-04 - lr: 2.9049e-05\n",
      "Epoch 125/200\n",
      "11/11 [==============================] - ETA: 0s - loss: 0.0065 - semantic_0_loss: 0.0017 - semantic_1_loss: 0.0039 - semantic_2_loss: 8.9787e-04WARNING:tensorflow:Can save best model only with val_loss available, skipping.\n"
     ]
    },
    {
     "name": "stderr",
     "output_type": "stream",
     "text": [
      "WARNING:tensorflow:Can save best model only with val_loss available, skipping.\n"
     ]
    },
    {
     "name": "stdout",
     "output_type": "stream",
     "text": [
      "11/11 [==============================] - 5s 474ms/step - loss: 0.0065 - semantic_0_loss: 0.0017 - semantic_1_loss: 0.0039 - semantic_2_loss: 8.9787e-04 - lr: 2.8758e-05\n",
      "Epoch 126/200\n",
      "11/11 [==============================] - ETA: 0s - loss: 0.0070 - semantic_0_loss: 0.0018 - semantic_1_loss: 0.0042 - semantic_2_loss: 9.4624e-04WARNING:tensorflow:Can save best model only with val_loss available, skipping.\n"
     ]
    },
    {
     "name": "stderr",
     "output_type": "stream",
     "text": [
      "WARNING:tensorflow:Can save best model only with val_loss available, skipping.\n"
     ]
    },
    {
     "name": "stdout",
     "output_type": "stream",
     "text": [
      "11/11 [==============================] - 6s 531ms/step - loss: 0.0070 - semantic_0_loss: 0.0018 - semantic_1_loss: 0.0042 - semantic_2_loss: 9.4624e-04 - lr: 2.8471e-05\n",
      "Epoch 127/200\n",
      "11/11 [==============================] - ETA: 0s - loss: 0.0066 - semantic_0_loss: 0.0017 - semantic_1_loss: 0.0039 - semantic_2_loss: 9.2638e-04WARNING:tensorflow:Can save best model only with val_loss available, skipping.\n"
     ]
    },
    {
     "name": "stderr",
     "output_type": "stream",
     "text": [
      "WARNING:tensorflow:Can save best model only with val_loss available, skipping.\n"
     ]
    },
    {
     "name": "stdout",
     "output_type": "stream",
     "text": [
      "11/11 [==============================] - 5s 475ms/step - loss: 0.0066 - semantic_0_loss: 0.0017 - semantic_1_loss: 0.0039 - semantic_2_loss: 9.2638e-04 - lr: 2.8186e-05\n",
      "Epoch 128/200\n",
      "11/11 [==============================] - ETA: 0s - loss: 0.0066 - semantic_0_loss: 0.0017 - semantic_1_loss: 0.0039 - semantic_2_loss: 9.1411e-04WARNING:tensorflow:Can save best model only with val_loss available, skipping.\n"
     ]
    },
    {
     "name": "stderr",
     "output_type": "stream",
     "text": [
      "WARNING:tensorflow:Can save best model only with val_loss available, skipping.\n"
     ]
    },
    {
     "name": "stdout",
     "output_type": "stream",
     "text": [
      "11/11 [==============================] - 6s 517ms/step - loss: 0.0066 - semantic_0_loss: 0.0017 - semantic_1_loss: 0.0039 - semantic_2_loss: 9.1411e-04 - lr: 2.7904e-05\n",
      "Epoch 129/200\n",
      "11/11 [==============================] - ETA: 0s - loss: 0.0064 - semantic_0_loss: 0.0017 - semantic_1_loss: 0.0038 - semantic_2_loss: 9.0786e-04WARNING:tensorflow:Can save best model only with val_loss available, skipping.\n"
     ]
    },
    {
     "name": "stderr",
     "output_type": "stream",
     "text": [
      "WARNING:tensorflow:Can save best model only with val_loss available, skipping.\n"
     ]
    },
    {
     "name": "stdout",
     "output_type": "stream",
     "text": [
      "11/11 [==============================] - 6s 530ms/step - loss: 0.0064 - semantic_0_loss: 0.0017 - semantic_1_loss: 0.0038 - semantic_2_loss: 9.0786e-04 - lr: 2.7625e-05\n",
      "Epoch 130/200\n",
      "11/11 [==============================] - ETA: 0s - loss: 0.0058 - semantic_0_loss: 0.0015 - semantic_1_loss: 0.0035 - semantic_2_loss: 8.8263e-04WARNING:tensorflow:Can save best model only with val_loss available, skipping.\n"
     ]
    },
    {
     "name": "stderr",
     "output_type": "stream",
     "text": [
      "WARNING:tensorflow:Can save best model only with val_loss available, skipping.\n"
     ]
    },
    {
     "name": "stdout",
     "output_type": "stream",
     "text": [
      "11/11 [==============================] - 5s 463ms/step - loss: 0.0058 - semantic_0_loss: 0.0015 - semantic_1_loss: 0.0035 - semantic_2_loss: 8.8263e-04 - lr: 2.7349e-05\n",
      "Epoch 131/200\n",
      "11/11 [==============================] - ETA: 0s - loss: 0.0060 - semantic_0_loss: 0.0015 - semantic_1_loss: 0.0036 - semantic_2_loss: 8.8314e-04WARNING:tensorflow:Can save best model only with val_loss available, skipping.\n"
     ]
    },
    {
     "name": "stderr",
     "output_type": "stream",
     "text": [
      "WARNING:tensorflow:Can save best model only with val_loss available, skipping.\n"
     ]
    },
    {
     "name": "stdout",
     "output_type": "stream",
     "text": [
      "11/11 [==============================] - 5s 520ms/step - loss: 0.0060 - semantic_0_loss: 0.0015 - semantic_1_loss: 0.0036 - semantic_2_loss: 8.8314e-04 - lr: 2.7075e-05\n",
      "Epoch 132/200\n",
      "11/11 [==============================] - ETA: 0s - loss: 0.0068 - semantic_0_loss: 0.0018 - semantic_1_loss: 0.0041 - semantic_2_loss: 9.3956e-04WARNING:tensorflow:Can save best model only with val_loss available, skipping.\n"
     ]
    },
    {
     "name": "stderr",
     "output_type": "stream",
     "text": [
      "WARNING:tensorflow:Can save best model only with val_loss available, skipping.\n"
     ]
    },
    {
     "name": "stdout",
     "output_type": "stream",
     "text": [
      "11/11 [==============================] - 5s 483ms/step - loss: 0.0068 - semantic_0_loss: 0.0018 - semantic_1_loss: 0.0041 - semantic_2_loss: 9.3956e-04 - lr: 2.6805e-05\n",
      "Epoch 133/200\n",
      "11/11 [==============================] - ETA: 0s - loss: 0.0070 - semantic_0_loss: 0.0018 - semantic_1_loss: 0.0042 - semantic_2_loss: 9.5382e-04WARNING:tensorflow:Can save best model only with val_loss available, skipping.\n"
     ]
    },
    {
     "name": "stderr",
     "output_type": "stream",
     "text": [
      "WARNING:tensorflow:Can save best model only with val_loss available, skipping.\n"
     ]
    },
    {
     "name": "stdout",
     "output_type": "stream",
     "text": [
      "11/11 [==============================] - 6s 501ms/step - loss: 0.0070 - semantic_0_loss: 0.0018 - semantic_1_loss: 0.0042 - semantic_2_loss: 9.5382e-04 - lr: 2.6537e-05\n",
      "Epoch 134/200\n",
      "11/11 [==============================] - ETA: 0s - loss: 0.0065 - semantic_0_loss: 0.0017 - semantic_1_loss: 0.0039 - semantic_2_loss: 9.1977e-04WARNING:tensorflow:Can save best model only with val_loss available, skipping.\n"
     ]
    },
    {
     "name": "stderr",
     "output_type": "stream",
     "text": [
      "WARNING:tensorflow:Can save best model only with val_loss available, skipping.\n"
     ]
    },
    {
     "name": "stdout",
     "output_type": "stream",
     "text": [
      "11/11 [==============================] - 6s 502ms/step - loss: 0.0065 - semantic_0_loss: 0.0017 - semantic_1_loss: 0.0039 - semantic_2_loss: 9.1977e-04 - lr: 2.6271e-05\n",
      "Epoch 135/200\n",
      "11/11 [==============================] - ETA: 0s - loss: 0.0064 - semantic_0_loss: 0.0017 - semantic_1_loss: 0.0038 - semantic_2_loss: 9.2166e-04WARNING:tensorflow:Can save best model only with val_loss available, skipping.\n"
     ]
    },
    {
     "name": "stderr",
     "output_type": "stream",
     "text": [
      "WARNING:tensorflow:Can save best model only with val_loss available, skipping.\n"
     ]
    },
    {
     "name": "stdout",
     "output_type": "stream",
     "text": [
      "11/11 [==============================] - 6s 484ms/step - loss: 0.0064 - semantic_0_loss: 0.0017 - semantic_1_loss: 0.0038 - semantic_2_loss: 9.2166e-04 - lr: 2.6009e-05\n",
      "Epoch 136/200\n",
      "11/11 [==============================] - ETA: 0s - loss: 0.0070 - semantic_0_loss: 0.0018 - semantic_1_loss: 0.0042 - semantic_2_loss: 9.4700e-04WARNING:tensorflow:Can save best model only with val_loss available, skipping.\n"
     ]
    },
    {
     "name": "stderr",
     "output_type": "stream",
     "text": [
      "WARNING:tensorflow:Can save best model only with val_loss available, skipping.\n"
     ]
    },
    {
     "name": "stdout",
     "output_type": "stream",
     "text": [
      "11/11 [==============================] - 6s 489ms/step - loss: 0.0070 - semantic_0_loss: 0.0018 - semantic_1_loss: 0.0042 - semantic_2_loss: 9.4700e-04 - lr: 2.5748e-05\n",
      "Epoch 137/200\n",
      "11/11 [==============================] - ETA: 0s - loss: 0.0069 - semantic_0_loss: 0.0018 - semantic_1_loss: 0.0041 - semantic_2_loss: 9.1893e-04WARNING:tensorflow:Can save best model only with val_loss available, skipping.\n"
     ]
    },
    {
     "name": "stderr",
     "output_type": "stream",
     "text": [
      "WARNING:tensorflow:Can save best model only with val_loss available, skipping.\n"
     ]
    },
    {
     "name": "stdout",
     "output_type": "stream",
     "text": [
      "11/11 [==============================] - 6s 533ms/step - loss: 0.0069 - semantic_0_loss: 0.0018 - semantic_1_loss: 0.0041 - semantic_2_loss: 9.1893e-04 - lr: 2.5491e-05\n",
      "Epoch 138/200\n",
      "11/11 [==============================] - ETA: 0s - loss: 0.0069 - semantic_0_loss: 0.0018 - semantic_1_loss: 0.0041 - semantic_2_loss: 9.4367e-04WARNING:tensorflow:Can save best model only with val_loss available, skipping.\n"
     ]
    },
    {
     "name": "stderr",
     "output_type": "stream",
     "text": [
      "WARNING:tensorflow:Can save best model only with val_loss available, skipping.\n"
     ]
    },
    {
     "name": "stdout",
     "output_type": "stream",
     "text": [
      "11/11 [==============================] - 5s 480ms/step - loss: 0.0069 - semantic_0_loss: 0.0018 - semantic_1_loss: 0.0041 - semantic_2_loss: 9.4367e-04 - lr: 2.5236e-05\n",
      "Epoch 139/200\n",
      "11/11 [==============================] - ETA: 0s - loss: 0.0067 - semantic_0_loss: 0.0018 - semantic_1_loss: 0.0041 - semantic_2_loss: 9.2309e-04WARNING:tensorflow:Can save best model only with val_loss available, skipping.\n"
     ]
    },
    {
     "name": "stderr",
     "output_type": "stream",
     "text": [
      "WARNING:tensorflow:Can save best model only with val_loss available, skipping.\n"
     ]
    },
    {
     "name": "stdout",
     "output_type": "stream",
     "text": [
      "11/11 [==============================] - 6s 521ms/step - loss: 0.0067 - semantic_0_loss: 0.0018 - semantic_1_loss: 0.0041 - semantic_2_loss: 9.2309e-04 - lr: 2.4984e-05\n",
      "Epoch 140/200\n",
      "11/11 [==============================] - ETA: 0s - loss: 0.0064 - semantic_0_loss: 0.0017 - semantic_1_loss: 0.0038 - semantic_2_loss: 8.9007e-04WARNING:tensorflow:Can save best model only with val_loss available, skipping.\n"
     ]
    },
    {
     "name": "stderr",
     "output_type": "stream",
     "text": [
      "WARNING:tensorflow:Can save best model only with val_loss available, skipping.\n"
     ]
    },
    {
     "name": "stdout",
     "output_type": "stream",
     "text": [
      "11/11 [==============================] - 6s 488ms/step - loss: 0.0064 - semantic_0_loss: 0.0017 - semantic_1_loss: 0.0038 - semantic_2_loss: 8.9007e-04 - lr: 2.4734e-05\n",
      "Epoch 141/200\n",
      "11/11 [==============================] - ETA: 0s - loss: 0.0071 - semantic_0_loss: 0.0019 - semantic_1_loss: 0.0042 - semantic_2_loss: 9.4548e-04WARNING:tensorflow:Can save best model only with val_loss available, skipping.\n"
     ]
    },
    {
     "name": "stderr",
     "output_type": "stream",
     "text": [
      "WARNING:tensorflow:Can save best model only with val_loss available, skipping.\n"
     ]
    },
    {
     "name": "stdout",
     "output_type": "stream",
     "text": [
      "11/11 [==============================] - 6s 488ms/step - loss: 0.0071 - semantic_0_loss: 0.0019 - semantic_1_loss: 0.0042 - semantic_2_loss: 9.4548e-04 - lr: 2.4487e-05\n",
      "Epoch 142/200\n",
      "11/11 [==============================] - ETA: 0s - loss: 0.0068 - semantic_0_loss: 0.0017 - semantic_1_loss: 0.0041 - semantic_2_loss: 9.4271e-04WARNING:tensorflow:Can save best model only with val_loss available, skipping.\n"
     ]
    },
    {
     "name": "stderr",
     "output_type": "stream",
     "text": [
      "WARNING:tensorflow:Can save best model only with val_loss available, skipping.\n"
     ]
    },
    {
     "name": "stdout",
     "output_type": "stream",
     "text": [
      "11/11 [==============================] - 6s 489ms/step - loss: 0.0068 - semantic_0_loss: 0.0017 - semantic_1_loss: 0.0041 - semantic_2_loss: 9.4271e-04 - lr: 2.4242e-05\n",
      "Epoch 143/200\n",
      "11/11 [==============================] - ETA: 0s - loss: 0.0068 - semantic_0_loss: 0.0018 - semantic_1_loss: 0.0041 - semantic_2_loss: 9.2007e-04WARNING:tensorflow:Can save best model only with val_loss available, skipping.\n"
     ]
    },
    {
     "name": "stderr",
     "output_type": "stream",
     "text": [
      "WARNING:tensorflow:Can save best model only with val_loss available, skipping.\n"
     ]
    },
    {
     "name": "stdout",
     "output_type": "stream",
     "text": [
      "11/11 [==============================] - 6s 484ms/step - loss: 0.0068 - semantic_0_loss: 0.0018 - semantic_1_loss: 0.0041 - semantic_2_loss: 9.2007e-04 - lr: 2.3999e-05\n",
      "Epoch 144/200\n",
      "11/11 [==============================] - ETA: 0s - loss: 0.0069 - semantic_0_loss: 0.0018 - semantic_1_loss: 0.0042 - semantic_2_loss: 9.4270e-04WARNING:tensorflow:Can save best model only with val_loss available, skipping.\n"
     ]
    },
    {
     "name": "stderr",
     "output_type": "stream",
     "text": [
      "WARNING:tensorflow:Can save best model only with val_loss available, skipping.\n"
     ]
    },
    {
     "name": "stdout",
     "output_type": "stream",
     "text": [
      "11/11 [==============================] - 6s 494ms/step - loss: 0.0069 - semantic_0_loss: 0.0018 - semantic_1_loss: 0.0042 - semantic_2_loss: 9.4270e-04 - lr: 2.3759e-05\n",
      "Epoch 145/200\n",
      "11/11 [==============================] - ETA: 0s - loss: 0.0058 - semantic_0_loss: 0.0015 - semantic_1_loss: 0.0034 - semantic_2_loss: 8.6508e-04WARNING:tensorflow:Can save best model only with val_loss available, skipping.\n"
     ]
    },
    {
     "name": "stderr",
     "output_type": "stream",
     "text": [
      "WARNING:tensorflow:Can save best model only with val_loss available, skipping.\n"
     ]
    },
    {
     "name": "stdout",
     "output_type": "stream",
     "text": [
      "11/11 [==============================] - 5s 469ms/step - loss: 0.0058 - semantic_0_loss: 0.0015 - semantic_1_loss: 0.0034 - semantic_2_loss: 8.6508e-04 - lr: 2.3522e-05\n",
      "Epoch 146/200\n",
      "11/11 [==============================] - ETA: 0s - loss: 0.0066 - semantic_0_loss: 0.0017 - semantic_1_loss: 0.0040 - semantic_2_loss: 9.4376e-04WARNING:tensorflow:Can save best model only with val_loss available, skipping.\n"
     ]
    },
    {
     "name": "stderr",
     "output_type": "stream",
     "text": [
      "WARNING:tensorflow:Can save best model only with val_loss available, skipping.\n"
     ]
    },
    {
     "name": "stdout",
     "output_type": "stream",
     "text": [
      "11/11 [==============================] - 6s 483ms/step - loss: 0.0066 - semantic_0_loss: 0.0017 - semantic_1_loss: 0.0040 - semantic_2_loss: 9.4376e-04 - lr: 2.3286e-05\n",
      "Epoch 147/200\n",
      "11/11 [==============================] - ETA: 0s - loss: 0.0070 - semantic_0_loss: 0.0018 - semantic_1_loss: 0.0042 - semantic_2_loss: 9.3656e-04WARNING:tensorflow:Can save best model only with val_loss available, skipping.\n"
     ]
    },
    {
     "name": "stderr",
     "output_type": "stream",
     "text": [
      "WARNING:tensorflow:Can save best model only with val_loss available, skipping.\n"
     ]
    },
    {
     "name": "stdout",
     "output_type": "stream",
     "text": [
      "11/11 [==============================] - 5s 474ms/step - loss: 0.0070 - semantic_0_loss: 0.0018 - semantic_1_loss: 0.0042 - semantic_2_loss: 9.3656e-04 - lr: 2.3054e-05\n",
      "Epoch 148/200\n",
      "11/11 [==============================] - ETA: 0s - loss: 0.0066 - semantic_0_loss: 0.0018 - semantic_1_loss: 0.0039 - semantic_2_loss: 9.0212e-04WARNING:tensorflow:Can save best model only with val_loss available, skipping.\n"
     ]
    },
    {
     "name": "stderr",
     "output_type": "stream",
     "text": [
      "WARNING:tensorflow:Can save best model only with val_loss available, skipping.\n"
     ]
    },
    {
     "name": "stdout",
     "output_type": "stream",
     "text": [
      "11/11 [==============================] - 6s 489ms/step - loss: 0.0066 - semantic_0_loss: 0.0018 - semantic_1_loss: 0.0039 - semantic_2_loss: 9.0212e-04 - lr: 2.2823e-05\n",
      "Epoch 149/200\n",
      "11/11 [==============================] - ETA: 0s - loss: 0.0066 - semantic_0_loss: 0.0017 - semantic_1_loss: 0.0040 - semantic_2_loss: 9.1235e-04WARNING:tensorflow:Can save best model only with val_loss available, skipping.\n"
     ]
    },
    {
     "name": "stderr",
     "output_type": "stream",
     "text": [
      "WARNING:tensorflow:Can save best model only with val_loss available, skipping.\n"
     ]
    },
    {
     "name": "stdout",
     "output_type": "stream",
     "text": [
      "11/11 [==============================] - 6s 488ms/step - loss: 0.0066 - semantic_0_loss: 0.0017 - semantic_1_loss: 0.0040 - semantic_2_loss: 9.1235e-04 - lr: 2.2595e-05\n",
      "Epoch 150/200\n",
      "11/11 [==============================] - ETA: 0s - loss: 0.0063 - semantic_0_loss: 0.0017 - semantic_1_loss: 0.0038 - semantic_2_loss: 9.0145e-04WARNING:tensorflow:Can save best model only with val_loss available, skipping.\n"
     ]
    },
    {
     "name": "stderr",
     "output_type": "stream",
     "text": [
      "WARNING:tensorflow:Can save best model only with val_loss available, skipping.\n"
     ]
    },
    {
     "name": "stdout",
     "output_type": "stream",
     "text": [
      "11/11 [==============================] - 6s 482ms/step - loss: 0.0063 - semantic_0_loss: 0.0017 - semantic_1_loss: 0.0038 - semantic_2_loss: 9.0145e-04 - lr: 2.2369e-05\n",
      "Epoch 151/200\n",
      "11/11 [==============================] - ETA: 0s - loss: 0.0062 - semantic_0_loss: 0.0016 - semantic_1_loss: 0.0036 - semantic_2_loss: 8.9215e-04WARNING:tensorflow:Can save best model only with val_loss available, skipping.\n"
     ]
    },
    {
     "name": "stderr",
     "output_type": "stream",
     "text": [
      "WARNING:tensorflow:Can save best model only with val_loss available, skipping.\n"
     ]
    },
    {
     "name": "stdout",
     "output_type": "stream",
     "text": [
      "11/11 [==============================] - 5s 475ms/step - loss: 0.0062 - semantic_0_loss: 0.0016 - semantic_1_loss: 0.0036 - semantic_2_loss: 8.9215e-04 - lr: 2.2145e-05\n",
      "Epoch 152/200\n",
      "11/11 [==============================] - ETA: 0s - loss: 0.0066 - semantic_0_loss: 0.0017 - semantic_1_loss: 0.0039 - semantic_2_loss: 9.2473e-04WARNING:tensorflow:Can save best model only with val_loss available, skipping.\n"
     ]
    },
    {
     "name": "stderr",
     "output_type": "stream",
     "text": [
      "WARNING:tensorflow:Can save best model only with val_loss available, skipping.\n"
     ]
    },
    {
     "name": "stdout",
     "output_type": "stream",
     "text": [
      "11/11 [==============================] - 6s 481ms/step - loss: 0.0066 - semantic_0_loss: 0.0017 - semantic_1_loss: 0.0039 - semantic_2_loss: 9.2473e-04 - lr: 2.1924e-05\n",
      "Epoch 153/200\n",
      "11/11 [==============================] - ETA: 0s - loss: 0.0067 - semantic_0_loss: 0.0018 - semantic_1_loss: 0.0040 - semantic_2_loss: 9.4021e-04WARNING:tensorflow:Can save best model only with val_loss available, skipping.\n"
     ]
    },
    {
     "name": "stderr",
     "output_type": "stream",
     "text": [
      "WARNING:tensorflow:Can save best model only with val_loss available, skipping.\n"
     ]
    },
    {
     "name": "stdout",
     "output_type": "stream",
     "text": [
      "11/11 [==============================] - 6s 489ms/step - loss: 0.0067 - semantic_0_loss: 0.0018 - semantic_1_loss: 0.0040 - semantic_2_loss: 9.4021e-04 - lr: 2.1704e-05\n",
      "Epoch 154/200\n",
      "11/11 [==============================] - ETA: 0s - loss: 0.0064 - semantic_0_loss: 0.0017 - semantic_1_loss: 0.0038 - semantic_2_loss: 9.1757e-04WARNING:tensorflow:Can save best model only with val_loss available, skipping.\n"
     ]
    },
    {
     "name": "stderr",
     "output_type": "stream",
     "text": [
      "WARNING:tensorflow:Can save best model only with val_loss available, skipping.\n"
     ]
    },
    {
     "name": "stdout",
     "output_type": "stream",
     "text": [
      "11/11 [==============================] - 5s 483ms/step - loss: 0.0064 - semantic_0_loss: 0.0017 - semantic_1_loss: 0.0038 - semantic_2_loss: 9.1757e-04 - lr: 2.1487e-05\n",
      "Epoch 155/200\n",
      "11/11 [==============================] - ETA: 0s - loss: 0.0061 - semantic_0_loss: 0.0016 - semantic_1_loss: 0.0036 - semantic_2_loss: 8.8785e-04WARNING:tensorflow:Can save best model only with val_loss available, skipping.\n"
     ]
    },
    {
     "name": "stderr",
     "output_type": "stream",
     "text": [
      "WARNING:tensorflow:Can save best model only with val_loss available, skipping.\n"
     ]
    },
    {
     "name": "stdout",
     "output_type": "stream",
     "text": [
      "11/11 [==============================] - 5s 467ms/step - loss: 0.0061 - semantic_0_loss: 0.0016 - semantic_1_loss: 0.0036 - semantic_2_loss: 8.8785e-04 - lr: 2.1273e-05\n",
      "Epoch 156/200\n",
      "11/11 [==============================] - ETA: 0s - loss: 0.0067 - semantic_0_loss: 0.0018 - semantic_1_loss: 0.0040 - semantic_2_loss: 9.3068e-04WARNING:tensorflow:Can save best model only with val_loss available, skipping.\n"
     ]
    },
    {
     "name": "stderr",
     "output_type": "stream",
     "text": [
      "WARNING:tensorflow:Can save best model only with val_loss available, skipping.\n"
     ]
    },
    {
     "name": "stdout",
     "output_type": "stream",
     "text": [
      "11/11 [==============================] - 6s 483ms/step - loss: 0.0067 - semantic_0_loss: 0.0018 - semantic_1_loss: 0.0040 - semantic_2_loss: 9.3068e-04 - lr: 2.1060e-05\n",
      "Epoch 157/200\n",
      "11/11 [==============================] - ETA: 0s - loss: 0.0058 - semantic_0_loss: 0.0015 - semantic_1_loss: 0.0034 - semantic_2_loss: 8.5650e-04WARNING:tensorflow:Can save best model only with val_loss available, skipping.\n"
     ]
    },
    {
     "name": "stderr",
     "output_type": "stream",
     "text": [
      "WARNING:tensorflow:Can save best model only with val_loss available, skipping.\n"
     ]
    },
    {
     "name": "stdout",
     "output_type": "stream",
     "text": [
      "11/11 [==============================] - 6s 494ms/step - loss: 0.0058 - semantic_0_loss: 0.0015 - semantic_1_loss: 0.0034 - semantic_2_loss: 8.5650e-04 - lr: 2.0849e-05\n",
      "Epoch 158/200\n",
      "11/11 [==============================] - ETA: 0s - loss: 0.0064 - semantic_0_loss: 0.0017 - semantic_1_loss: 0.0038 - semantic_2_loss: 8.9752e-04WARNING:tensorflow:Can save best model only with val_loss available, skipping.\n"
     ]
    },
    {
     "name": "stderr",
     "output_type": "stream",
     "text": [
      "WARNING:tensorflow:Can save best model only with val_loss available, skipping.\n"
     ]
    },
    {
     "name": "stdout",
     "output_type": "stream",
     "text": [
      "11/11 [==============================] - 6s 483ms/step - loss: 0.0064 - semantic_0_loss: 0.0017 - semantic_1_loss: 0.0038 - semantic_2_loss: 8.9752e-04 - lr: 2.0641e-05\n",
      "Epoch 159/200\n",
      "11/11 [==============================] - ETA: 0s - loss: 0.0068 - semantic_0_loss: 0.0018 - semantic_1_loss: 0.0041 - semantic_2_loss: 9.2583e-04WARNING:tensorflow:Can save best model only with val_loss available, skipping.\n"
     ]
    },
    {
     "name": "stderr",
     "output_type": "stream",
     "text": [
      "WARNING:tensorflow:Can save best model only with val_loss available, skipping.\n"
     ]
    },
    {
     "name": "stdout",
     "output_type": "stream",
     "text": [
      "11/11 [==============================] - 6s 482ms/step - loss: 0.0068 - semantic_0_loss: 0.0018 - semantic_1_loss: 0.0041 - semantic_2_loss: 9.2583e-04 - lr: 2.0434e-05\n",
      "Epoch 160/200\n",
      "11/11 [==============================] - ETA: 0s - loss: 0.0063 - semantic_0_loss: 0.0017 - semantic_1_loss: 0.0038 - semantic_2_loss: 9.0264e-04WARNING:tensorflow:Can save best model only with val_loss available, skipping.\n"
     ]
    },
    {
     "name": "stderr",
     "output_type": "stream",
     "text": [
      "WARNING:tensorflow:Can save best model only with val_loss available, skipping.\n"
     ]
    },
    {
     "name": "stdout",
     "output_type": "stream",
     "text": [
      "11/11 [==============================] - 5s 467ms/step - loss: 0.0063 - semantic_0_loss: 0.0017 - semantic_1_loss: 0.0038 - semantic_2_loss: 9.0264e-04 - lr: 2.0230e-05\n",
      "Epoch 161/200\n",
      "11/11 [==============================] - ETA: 0s - loss: 0.0068 - semantic_0_loss: 0.0018 - semantic_1_loss: 0.0041 - semantic_2_loss: 9.3941e-04WARNING:tensorflow:Can save best model only with val_loss available, skipping.\n"
     ]
    },
    {
     "name": "stderr",
     "output_type": "stream",
     "text": [
      "WARNING:tensorflow:Can save best model only with val_loss available, skipping.\n"
     ]
    },
    {
     "name": "stdout",
     "output_type": "stream",
     "text": [
      "11/11 [==============================] - 6s 492ms/step - loss: 0.0068 - semantic_0_loss: 0.0018 - semantic_1_loss: 0.0041 - semantic_2_loss: 9.3941e-04 - lr: 2.0028e-05\n",
      "Epoch 162/200\n",
      "11/11 [==============================] - ETA: 0s - loss: 0.0064 - semantic_0_loss: 0.0017 - semantic_1_loss: 0.0038 - semantic_2_loss: 8.9352e-04WARNING:tensorflow:Can save best model only with val_loss available, skipping.\n"
     ]
    },
    {
     "name": "stderr",
     "output_type": "stream",
     "text": [
      "WARNING:tensorflow:Can save best model only with val_loss available, skipping.\n"
     ]
    },
    {
     "name": "stdout",
     "output_type": "stream",
     "text": [
      "11/11 [==============================] - 6s 500ms/step - loss: 0.0064 - semantic_0_loss: 0.0017 - semantic_1_loss: 0.0038 - semantic_2_loss: 8.9352e-04 - lr: 1.9827e-05\n",
      "Epoch 163/200\n",
      "11/11 [==============================] - ETA: 0s - loss: 0.0065 - semantic_0_loss: 0.0017 - semantic_1_loss: 0.0039 - semantic_2_loss: 9.0429e-04WARNING:tensorflow:Can save best model only with val_loss available, skipping.\n"
     ]
    },
    {
     "name": "stderr",
     "output_type": "stream",
     "text": [
      "WARNING:tensorflow:Can save best model only with val_loss available, skipping.\n"
     ]
    },
    {
     "name": "stdout",
     "output_type": "stream",
     "text": [
      "11/11 [==============================] - 6s 491ms/step - loss: 0.0065 - semantic_0_loss: 0.0017 - semantic_1_loss: 0.0039 - semantic_2_loss: 9.0429e-04 - lr: 1.9629e-05\n",
      "Epoch 164/200\n",
      "11/11 [==============================] - ETA: 0s - loss: 0.0069 - semantic_0_loss: 0.0018 - semantic_1_loss: 0.0042 - semantic_2_loss: 9.3377e-04WARNING:tensorflow:Can save best model only with val_loss available, skipping.\n"
     ]
    },
    {
     "name": "stderr",
     "output_type": "stream",
     "text": [
      "WARNING:tensorflow:Can save best model only with val_loss available, skipping.\n"
     ]
    },
    {
     "name": "stdout",
     "output_type": "stream",
     "text": [
      "11/11 [==============================] - 6s 486ms/step - loss: 0.0069 - semantic_0_loss: 0.0018 - semantic_1_loss: 0.0042 - semantic_2_loss: 9.3377e-04 - lr: 1.9433e-05\n",
      "Epoch 165/200\n",
      "11/11 [==============================] - ETA: 0s - loss: 0.0065 - semantic_0_loss: 0.0017 - semantic_1_loss: 0.0039 - semantic_2_loss: 9.1355e-04WARNING:tensorflow:Can save best model only with val_loss available, skipping.\n"
     ]
    },
    {
     "name": "stderr",
     "output_type": "stream",
     "text": [
      "WARNING:tensorflow:Can save best model only with val_loss available, skipping.\n"
     ]
    },
    {
     "name": "stdout",
     "output_type": "stream",
     "text": [
      "11/11 [==============================] - 6s 518ms/step - loss: 0.0065 - semantic_0_loss: 0.0017 - semantic_1_loss: 0.0039 - semantic_2_loss: 9.1355e-04 - lr: 1.9239e-05\n",
      "Epoch 166/200\n",
      "11/11 [==============================] - ETA: 0s - loss: 0.0063 - semantic_0_loss: 0.0017 - semantic_1_loss: 0.0037 - semantic_2_loss: 8.8956e-04WARNING:tensorflow:Can save best model only with val_loss available, skipping.\n"
     ]
    },
    {
     "name": "stderr",
     "output_type": "stream",
     "text": [
      "WARNING:tensorflow:Can save best model only with val_loss available, skipping.\n"
     ]
    },
    {
     "name": "stdout",
     "output_type": "stream",
     "text": [
      "11/11 [==============================] - 6s 501ms/step - loss: 0.0063 - semantic_0_loss: 0.0017 - semantic_1_loss: 0.0037 - semantic_2_loss: 8.8956e-04 - lr: 1.9046e-05\n",
      "Epoch 167/200\n",
      "11/11 [==============================] - ETA: 0s - loss: 0.0066 - semantic_0_loss: 0.0018 - semantic_1_loss: 0.0039 - semantic_2_loss: 9.1861e-04WARNING:tensorflow:Can save best model only with val_loss available, skipping.\n"
     ]
    },
    {
     "name": "stderr",
     "output_type": "stream",
     "text": [
      "WARNING:tensorflow:Can save best model only with val_loss available, skipping.\n"
     ]
    },
    {
     "name": "stdout",
     "output_type": "stream",
     "text": [
      "11/11 [==============================] - 6s 506ms/step - loss: 0.0066 - semantic_0_loss: 0.0018 - semantic_1_loss: 0.0039 - semantic_2_loss: 9.1861e-04 - lr: 1.8856e-05\n",
      "Epoch 168/200\n",
      "11/11 [==============================] - ETA: 0s - loss: 0.0067 - semantic_0_loss: 0.0018 - semantic_1_loss: 0.0040 - semantic_2_loss: 9.2569e-04WARNING:tensorflow:Can save best model only with val_loss available, skipping.\n"
     ]
    },
    {
     "name": "stderr",
     "output_type": "stream",
     "text": [
      "WARNING:tensorflow:Can save best model only with val_loss available, skipping.\n"
     ]
    },
    {
     "name": "stdout",
     "output_type": "stream",
     "text": [
      "11/11 [==============================] - 6s 492ms/step - loss: 0.0067 - semantic_0_loss: 0.0018 - semantic_1_loss: 0.0040 - semantic_2_loss: 9.2569e-04 - lr: 1.8667e-05\n",
      "Epoch 169/200\n",
      "11/11 [==============================] - ETA: 0s - loss: 0.0068 - semantic_0_loss: 0.0018 - semantic_1_loss: 0.0041 - semantic_2_loss: 9.1762e-04WARNING:tensorflow:Can save best model only with val_loss available, skipping.\n"
     ]
    },
    {
     "name": "stderr",
     "output_type": "stream",
     "text": [
      "WARNING:tensorflow:Can save best model only with val_loss available, skipping.\n"
     ]
    },
    {
     "name": "stdout",
     "output_type": "stream",
     "text": [
      "11/11 [==============================] - 6s 487ms/step - loss: 0.0068 - semantic_0_loss: 0.0018 - semantic_1_loss: 0.0041 - semantic_2_loss: 9.1762e-04 - lr: 1.8480e-05\n",
      "Epoch 170/200\n",
      "11/11 [==============================] - ETA: 0s - loss: 0.0061 - semantic_0_loss: 0.0016 - semantic_1_loss: 0.0037 - semantic_2_loss: 8.7549e-04WARNING:tensorflow:Can save best model only with val_loss available, skipping.\n"
     ]
    },
    {
     "name": "stderr",
     "output_type": "stream",
     "text": [
      "WARNING:tensorflow:Can save best model only with val_loss available, skipping.\n"
     ]
    },
    {
     "name": "stdout",
     "output_type": "stream",
     "text": [
      "11/11 [==============================] - 6s 480ms/step - loss: 0.0061 - semantic_0_loss: 0.0016 - semantic_1_loss: 0.0037 - semantic_2_loss: 8.7549e-04 - lr: 1.8296e-05\n",
      "Epoch 171/200\n",
      "11/11 [==============================] - ETA: 0s - loss: 0.0066 - semantic_0_loss: 0.0017 - semantic_1_loss: 0.0039 - semantic_2_loss: 9.0543e-04WARNING:tensorflow:Can save best model only with val_loss available, skipping.\n"
     ]
    },
    {
     "name": "stderr",
     "output_type": "stream",
     "text": [
      "WARNING:tensorflow:Can save best model only with val_loss available, skipping.\n"
     ]
    },
    {
     "name": "stdout",
     "output_type": "stream",
     "text": [
      "11/11 [==============================] - 6s 494ms/step - loss: 0.0066 - semantic_0_loss: 0.0017 - semantic_1_loss: 0.0039 - semantic_2_loss: 9.0543e-04 - lr: 1.8113e-05\n",
      "Epoch 172/200\n",
      "11/11 [==============================] - ETA: 0s - loss: 0.0068 - semantic_0_loss: 0.0018 - semantic_1_loss: 0.0040 - semantic_2_loss: 9.3622e-04WARNING:tensorflow:Can save best model only with val_loss available, skipping.\n"
     ]
    },
    {
     "name": "stderr",
     "output_type": "stream",
     "text": [
      "WARNING:tensorflow:Can save best model only with val_loss available, skipping.\n"
     ]
    },
    {
     "name": "stdout",
     "output_type": "stream",
     "text": [
      "11/11 [==============================] - 6s 488ms/step - loss: 0.0068 - semantic_0_loss: 0.0018 - semantic_1_loss: 0.0040 - semantic_2_loss: 9.3622e-04 - lr: 1.7932e-05\n",
      "Epoch 173/200\n",
      "11/11 [==============================] - ETA: 0s - loss: 0.0067 - semantic_0_loss: 0.0018 - semantic_1_loss: 0.0040 - semantic_2_loss: 9.2473e-04WARNING:tensorflow:Can save best model only with val_loss available, skipping.\n"
     ]
    },
    {
     "name": "stderr",
     "output_type": "stream",
     "text": [
      "WARNING:tensorflow:Can save best model only with val_loss available, skipping.\n"
     ]
    },
    {
     "name": "stdout",
     "output_type": "stream",
     "text": [
      "11/11 [==============================] - 6s 480ms/step - loss: 0.0067 - semantic_0_loss: 0.0018 - semantic_1_loss: 0.0040 - semantic_2_loss: 9.2473e-04 - lr: 1.7752e-05\n",
      "Epoch 174/200\n",
      "11/11 [==============================] - ETA: 0s - loss: 0.0065 - semantic_0_loss: 0.0017 - semantic_1_loss: 0.0039 - semantic_2_loss: 9.0698e-04WARNING:tensorflow:Can save best model only with val_loss available, skipping.\n"
     ]
    },
    {
     "name": "stderr",
     "output_type": "stream",
     "text": [
      "WARNING:tensorflow:Can save best model only with val_loss available, skipping.\n"
     ]
    },
    {
     "name": "stdout",
     "output_type": "stream",
     "text": [
      "11/11 [==============================] - 5s 471ms/step - loss: 0.0065 - semantic_0_loss: 0.0017 - semantic_1_loss: 0.0039 - semantic_2_loss: 9.0698e-04 - lr: 1.7575e-05\n",
      "Epoch 175/200\n",
      "11/11 [==============================] - ETA: 0s - loss: 0.0065 - semantic_0_loss: 0.0017 - semantic_1_loss: 0.0039 - semantic_2_loss: 9.2222e-04WARNING:tensorflow:Can save best model only with val_loss available, skipping.\n"
     ]
    },
    {
     "name": "stderr",
     "output_type": "stream",
     "text": [
      "WARNING:tensorflow:Can save best model only with val_loss available, skipping.\n"
     ]
    },
    {
     "name": "stdout",
     "output_type": "stream",
     "text": [
      "11/11 [==============================] - 6s 498ms/step - loss: 0.0065 - semantic_0_loss: 0.0017 - semantic_1_loss: 0.0039 - semantic_2_loss: 9.2222e-04 - lr: 1.7399e-05\n",
      "Epoch 176/200\n",
      "11/11 [==============================] - ETA: 0s - loss: 0.0064 - semantic_0_loss: 0.0017 - semantic_1_loss: 0.0038 - semantic_2_loss: 8.9601e-04WARNING:tensorflow:Can save best model only with val_loss available, skipping.\n"
     ]
    },
    {
     "name": "stderr",
     "output_type": "stream",
     "text": [
      "WARNING:tensorflow:Can save best model only with val_loss available, skipping.\n"
     ]
    },
    {
     "name": "stdout",
     "output_type": "stream",
     "text": [
      "11/11 [==============================] - 6s 482ms/step - loss: 0.0064 - semantic_0_loss: 0.0017 - semantic_1_loss: 0.0038 - semantic_2_loss: 8.9601e-04 - lr: 1.7225e-05\n",
      "Epoch 177/200\n",
      "11/11 [==============================] - ETA: 0s - loss: 0.0064 - semantic_0_loss: 0.0017 - semantic_1_loss: 0.0038 - semantic_2_loss: 8.9015e-04WARNING:tensorflow:Can save best model only with val_loss available, skipping.\n"
     ]
    },
    {
     "name": "stderr",
     "output_type": "stream",
     "text": [
      "WARNING:tensorflow:Can save best model only with val_loss available, skipping.\n"
     ]
    },
    {
     "name": "stdout",
     "output_type": "stream",
     "text": [
      "11/11 [==============================] - 6s 472ms/step - loss: 0.0064 - semantic_0_loss: 0.0017 - semantic_1_loss: 0.0038 - semantic_2_loss: 8.9015e-04 - lr: 1.7053e-05\n",
      "Epoch 178/200\n",
      "11/11 [==============================] - ETA: 0s - loss: 0.0063 - semantic_0_loss: 0.0016 - semantic_1_loss: 0.0037 - semantic_2_loss: 9.0349e-04WARNING:tensorflow:Can save best model only with val_loss available, skipping.\n"
     ]
    },
    {
     "name": "stderr",
     "output_type": "stream",
     "text": [
      "WARNING:tensorflow:Can save best model only with val_loss available, skipping.\n"
     ]
    },
    {
     "name": "stdout",
     "output_type": "stream",
     "text": [
      "11/11 [==============================] - 6s 528ms/step - loss: 0.0063 - semantic_0_loss: 0.0016 - semantic_1_loss: 0.0037 - semantic_2_loss: 9.0349e-04 - lr: 1.6882e-05\n",
      "Epoch 179/200\n",
      "11/11 [==============================] - ETA: 0s - loss: 0.0067 - semantic_0_loss: 0.0018 - semantic_1_loss: 0.0040 - semantic_2_loss: 9.3541e-04WARNING:tensorflow:Can save best model only with val_loss available, skipping.\n"
     ]
    },
    {
     "name": "stderr",
     "output_type": "stream",
     "text": [
      "WARNING:tensorflow:Can save best model only with val_loss available, skipping.\n"
     ]
    },
    {
     "name": "stdout",
     "output_type": "stream",
     "text": [
      "11/11 [==============================] - 6s 486ms/step - loss: 0.0067 - semantic_0_loss: 0.0018 - semantic_1_loss: 0.0040 - semantic_2_loss: 9.3541e-04 - lr: 1.6713e-05\n",
      "Epoch 180/200\n",
      "11/11 [==============================] - ETA: 0s - loss: 0.0063 - semantic_0_loss: 0.0016 - semantic_1_loss: 0.0037 - semantic_2_loss: 8.7375e-04WARNING:tensorflow:Can save best model only with val_loss available, skipping.\n"
     ]
    },
    {
     "name": "stderr",
     "output_type": "stream",
     "text": [
      "WARNING:tensorflow:Can save best model only with val_loss available, skipping.\n"
     ]
    },
    {
     "name": "stdout",
     "output_type": "stream",
     "text": [
      "11/11 [==============================] - 6s 510ms/step - loss: 0.0063 - semantic_0_loss: 0.0016 - semantic_1_loss: 0.0037 - semantic_2_loss: 8.7375e-04 - lr: 1.6546e-05\n",
      "Epoch 181/200\n",
      "11/11 [==============================] - ETA: 0s - loss: 0.0068 - semantic_0_loss: 0.0018 - semantic_1_loss: 0.0041 - semantic_2_loss: 9.2638e-04WARNING:tensorflow:Can save best model only with val_loss available, skipping.\n"
     ]
    },
    {
     "name": "stderr",
     "output_type": "stream",
     "text": [
      "WARNING:tensorflow:Can save best model only with val_loss available, skipping.\n"
     ]
    },
    {
     "name": "stdout",
     "output_type": "stream",
     "text": [
      "11/11 [==============================] - 6s 483ms/step - loss: 0.0068 - semantic_0_loss: 0.0018 - semantic_1_loss: 0.0041 - semantic_2_loss: 9.2638e-04 - lr: 1.6381e-05\n",
      "Epoch 182/200\n",
      "11/11 [==============================] - ETA: 0s - loss: 0.0067 - semantic_0_loss: 0.0018 - semantic_1_loss: 0.0040 - semantic_2_loss: 9.2915e-04WARNING:tensorflow:Can save best model only with val_loss available, skipping.\n"
     ]
    },
    {
     "name": "stderr",
     "output_type": "stream",
     "text": [
      "WARNING:tensorflow:Can save best model only with val_loss available, skipping.\n"
     ]
    },
    {
     "name": "stdout",
     "output_type": "stream",
     "text": [
      "11/11 [==============================] - 6s 503ms/step - loss: 0.0067 - semantic_0_loss: 0.0018 - semantic_1_loss: 0.0040 - semantic_2_loss: 9.2915e-04 - lr: 1.6217e-05\n",
      "Epoch 183/200\n",
      "11/11 [==============================] - ETA: 0s - loss: 0.0063 - semantic_0_loss: 0.0017 - semantic_1_loss: 0.0038 - semantic_2_loss: 8.8904e-04WARNING:tensorflow:Can save best model only with val_loss available, skipping.\n"
     ]
    },
    {
     "name": "stderr",
     "output_type": "stream",
     "text": [
      "WARNING:tensorflow:Can save best model only with val_loss available, skipping.\n"
     ]
    },
    {
     "name": "stdout",
     "output_type": "stream",
     "text": [
      "11/11 [==============================] - 6s 518ms/step - loss: 0.0063 - semantic_0_loss: 0.0017 - semantic_1_loss: 0.0038 - semantic_2_loss: 8.8904e-04 - lr: 1.6055e-05\n",
      "Epoch 184/200\n",
      "11/11 [==============================] - ETA: 0s - loss: 0.0064 - semantic_0_loss: 0.0017 - semantic_1_loss: 0.0038 - semantic_2_loss: 8.8802e-04WARNING:tensorflow:Can save best model only with val_loss available, skipping.\n"
     ]
    },
    {
     "name": "stderr",
     "output_type": "stream",
     "text": [
      "WARNING:tensorflow:Can save best model only with val_loss available, skipping.\n"
     ]
    },
    {
     "name": "stdout",
     "output_type": "stream",
     "text": [
      "11/11 [==============================] - 6s 477ms/step - loss: 0.0064 - semantic_0_loss: 0.0017 - semantic_1_loss: 0.0038 - semantic_2_loss: 8.8802e-04 - lr: 1.5894e-05\n",
      "Epoch 185/200\n",
      "11/11 [==============================] - ETA: 0s - loss: 0.0065 - semantic_0_loss: 0.0017 - semantic_1_loss: 0.0038 - semantic_2_loss: 9.0121e-04WARNING:tensorflow:Can save best model only with val_loss available, skipping.\n"
     ]
    },
    {
     "name": "stderr",
     "output_type": "stream",
     "text": [
      "WARNING:tensorflow:Can save best model only with val_loss available, skipping.\n"
     ]
    },
    {
     "name": "stdout",
     "output_type": "stream",
     "text": [
      "11/11 [==============================] - 5s 519ms/step - loss: 0.0065 - semantic_0_loss: 0.0017 - semantic_1_loss: 0.0038 - semantic_2_loss: 9.0121e-04 - lr: 1.5735e-05\n",
      "Epoch 186/200\n",
      "11/11 [==============================] - ETA: 0s - loss: 0.0061 - semantic_0_loss: 0.0017 - semantic_1_loss: 0.0036 - semantic_2_loss: 8.6880e-04WARNING:tensorflow:Can save best model only with val_loss available, skipping.\n"
     ]
    },
    {
     "name": "stderr",
     "output_type": "stream",
     "text": [
      "WARNING:tensorflow:Can save best model only with val_loss available, skipping.\n"
     ]
    },
    {
     "name": "stdout",
     "output_type": "stream",
     "text": [
      "11/11 [==============================] - 6s 485ms/step - loss: 0.0061 - semantic_0_loss: 0.0017 - semantic_1_loss: 0.0036 - semantic_2_loss: 8.6880e-04 - lr: 1.5578e-05\n",
      "Epoch 187/200\n",
      "11/11 [==============================] - ETA: 0s - loss: 0.0067 - semantic_0_loss: 0.0018 - semantic_1_loss: 0.0040 - semantic_2_loss: 9.1249e-04WARNING:tensorflow:Can save best model only with val_loss available, skipping.\n"
     ]
    },
    {
     "name": "stderr",
     "output_type": "stream",
     "text": [
      "WARNING:tensorflow:Can save best model only with val_loss available, skipping.\n"
     ]
    },
    {
     "name": "stdout",
     "output_type": "stream",
     "text": [
      "11/11 [==============================] - 6s 539ms/step - loss: 0.0067 - semantic_0_loss: 0.0018 - semantic_1_loss: 0.0040 - semantic_2_loss: 9.1249e-04 - lr: 1.5422e-05\n",
      "Epoch 188/200\n",
      "11/11 [==============================] - ETA: 0s - loss: 0.0063 - semantic_0_loss: 0.0017 - semantic_1_loss: 0.0037 - semantic_2_loss: 8.8271e-04WARNING:tensorflow:Can save best model only with val_loss available, skipping.\n"
     ]
    },
    {
     "name": "stderr",
     "output_type": "stream",
     "text": [
      "WARNING:tensorflow:Can save best model only with val_loss available, skipping.\n"
     ]
    },
    {
     "name": "stdout",
     "output_type": "stream",
     "text": [
      "11/11 [==============================] - 6s 484ms/step - loss: 0.0063 - semantic_0_loss: 0.0017 - semantic_1_loss: 0.0037 - semantic_2_loss: 8.8271e-04 - lr: 1.5268e-05\n",
      "Epoch 189/200\n",
      "11/11 [==============================] - ETA: 0s - loss: 0.0063 - semantic_0_loss: 0.0017 - semantic_1_loss: 0.0038 - semantic_2_loss: 8.9747e-04WARNING:tensorflow:Can save best model only with val_loss available, skipping.\n"
     ]
    },
    {
     "name": "stderr",
     "output_type": "stream",
     "text": [
      "WARNING:tensorflow:Can save best model only with val_loss available, skipping.\n"
     ]
    },
    {
     "name": "stdout",
     "output_type": "stream",
     "text": [
      "11/11 [==============================] - 6s 490ms/step - loss: 0.0063 - semantic_0_loss: 0.0017 - semantic_1_loss: 0.0038 - semantic_2_loss: 8.9747e-04 - lr: 1.5115e-05\n",
      "Epoch 190/200\n",
      "11/11 [==============================] - ETA: 0s - loss: 0.0066 - semantic_0_loss: 0.0017 - semantic_1_loss: 0.0039 - semantic_2_loss: 9.1130e-04WARNING:tensorflow:Can save best model only with val_loss available, skipping.\n"
     ]
    },
    {
     "name": "stderr",
     "output_type": "stream",
     "text": [
      "WARNING:tensorflow:Can save best model only with val_loss available, skipping.\n"
     ]
    },
    {
     "name": "stdout",
     "output_type": "stream",
     "text": [
      "11/11 [==============================] - 5s 471ms/step - loss: 0.0066 - semantic_0_loss: 0.0017 - semantic_1_loss: 0.0039 - semantic_2_loss: 9.1130e-04 - lr: 1.4964e-05\n",
      "Epoch 191/200\n",
      "11/11 [==============================] - ETA: 0s - loss: 0.0069 - semantic_0_loss: 0.0019 - semantic_1_loss: 0.0041 - semantic_2_loss: 9.3735e-04WARNING:tensorflow:Can save best model only with val_loss available, skipping.\n"
     ]
    },
    {
     "name": "stderr",
     "output_type": "stream",
     "text": [
      "WARNING:tensorflow:Can save best model only with val_loss available, skipping.\n"
     ]
    },
    {
     "name": "stdout",
     "output_type": "stream",
     "text": [
      "11/11 [==============================] - 5s 526ms/step - loss: 0.0069 - semantic_0_loss: 0.0019 - semantic_1_loss: 0.0041 - semantic_2_loss: 9.3735e-04 - lr: 1.4814e-05\n",
      "Epoch 192/200\n",
      "11/11 [==============================] - ETA: 0s - loss: 0.0065 - semantic_0_loss: 0.0017 - semantic_1_loss: 0.0039 - semantic_2_loss: 8.8767e-04WARNING:tensorflow:Can save best model only with val_loss available, skipping.\n"
     ]
    },
    {
     "name": "stderr",
     "output_type": "stream",
     "text": [
      "WARNING:tensorflow:Can save best model only with val_loss available, skipping.\n"
     ]
    },
    {
     "name": "stdout",
     "output_type": "stream",
     "text": [
      "11/11 [==============================] - 5s 528ms/step - loss: 0.0065 - semantic_0_loss: 0.0017 - semantic_1_loss: 0.0039 - semantic_2_loss: 8.8767e-04 - lr: 1.4666e-05\n",
      "Epoch 193/200\n",
      "11/11 [==============================] - ETA: 0s - loss: 0.0066 - semantic_0_loss: 0.0018 - semantic_1_loss: 0.0039 - semantic_2_loss: 9.0671e-04WARNING:tensorflow:Can save best model only with val_loss available, skipping.\n"
     ]
    },
    {
     "name": "stderr",
     "output_type": "stream",
     "text": [
      "WARNING:tensorflow:Can save best model only with val_loss available, skipping.\n"
     ]
    },
    {
     "name": "stdout",
     "output_type": "stream",
     "text": [
      "11/11 [==============================] - 6s 474ms/step - loss: 0.0066 - semantic_0_loss: 0.0018 - semantic_1_loss: 0.0039 - semantic_2_loss: 9.0671e-04 - lr: 1.4520e-05\n",
      "Epoch 194/200\n",
      "11/11 [==============================] - ETA: 0s - loss: 0.0065 - semantic_0_loss: 0.0017 - semantic_1_loss: 0.0039 - semantic_2_loss: 8.8951e-04WARNING:tensorflow:Can save best model only with val_loss available, skipping.\n"
     ]
    },
    {
     "name": "stderr",
     "output_type": "stream",
     "text": [
      "WARNING:tensorflow:Can save best model only with val_loss available, skipping.\n"
     ]
    },
    {
     "name": "stdout",
     "output_type": "stream",
     "text": [
      "11/11 [==============================] - 6s 480ms/step - loss: 0.0065 - semantic_0_loss: 0.0017 - semantic_1_loss: 0.0039 - semantic_2_loss: 8.8951e-04 - lr: 1.4374e-05\n",
      "Epoch 195/200\n",
      "11/11 [==============================] - ETA: 0s - loss: 0.0064 - semantic_0_loss: 0.0017 - semantic_1_loss: 0.0038 - semantic_2_loss: 9.0219e-04WARNING:tensorflow:Can save best model only with val_loss available, skipping.\n"
     ]
    },
    {
     "name": "stderr",
     "output_type": "stream",
     "text": [
      "WARNING:tensorflow:Can save best model only with val_loss available, skipping.\n"
     ]
    },
    {
     "name": "stdout",
     "output_type": "stream",
     "text": [
      "11/11 [==============================] - 6s 473ms/step - loss: 0.0064 - semantic_0_loss: 0.0017 - semantic_1_loss: 0.0038 - semantic_2_loss: 9.0219e-04 - lr: 1.4231e-05\n",
      "Epoch 196/200\n",
      "11/11 [==============================] - ETA: 0s - loss: 0.0061 - semantic_0_loss: 0.0016 - semantic_1_loss: 0.0036 - semantic_2_loss: 8.7364e-04WARNING:tensorflow:Can save best model only with val_loss available, skipping.\n"
     ]
    },
    {
     "name": "stderr",
     "output_type": "stream",
     "text": [
      "WARNING:tensorflow:Can save best model only with val_loss available, skipping.\n"
     ]
    },
    {
     "name": "stdout",
     "output_type": "stream",
     "text": [
      "11/11 [==============================] - 6s 493ms/step - loss: 0.0061 - semantic_0_loss: 0.0016 - semantic_1_loss: 0.0036 - semantic_2_loss: 8.7364e-04 - lr: 1.4088e-05\n",
      "Epoch 197/200\n",
      "11/11 [==============================] - ETA: 0s - loss: 0.0063 - semantic_0_loss: 0.0017 - semantic_1_loss: 0.0037 - semantic_2_loss: 8.8117e-04WARNING:tensorflow:Can save best model only with val_loss available, skipping.\n"
     ]
    },
    {
     "name": "stderr",
     "output_type": "stream",
     "text": [
      "WARNING:tensorflow:Can save best model only with val_loss available, skipping.\n"
     ]
    },
    {
     "name": "stdout",
     "output_type": "stream",
     "text": [
      "11/11 [==============================] - 6s 492ms/step - loss: 0.0063 - semantic_0_loss: 0.0017 - semantic_1_loss: 0.0037 - semantic_2_loss: 8.8117e-04 - lr: 1.3948e-05\n",
      "Epoch 198/200\n",
      "11/11 [==============================] - ETA: 0s - loss: 0.0063 - semantic_0_loss: 0.0016 - semantic_1_loss: 0.0037 - semantic_2_loss: 9.1230e-04WARNING:tensorflow:Can save best model only with val_loss available, skipping.\n"
     ]
    },
    {
     "name": "stderr",
     "output_type": "stream",
     "text": [
      "WARNING:tensorflow:Can save best model only with val_loss available, skipping.\n"
     ]
    },
    {
     "name": "stdout",
     "output_type": "stream",
     "text": [
      "11/11 [==============================] - 6s 492ms/step - loss: 0.0063 - semantic_0_loss: 0.0016 - semantic_1_loss: 0.0037 - semantic_2_loss: 9.1230e-04 - lr: 1.3808e-05\n",
      "Epoch 199/200\n",
      "11/11 [==============================] - ETA: 0s - loss: 0.0059 - semantic_0_loss: 0.0016 - semantic_1_loss: 0.0035 - semantic_2_loss: 8.5493e-04WARNING:tensorflow:Can save best model only with val_loss available, skipping.\n"
     ]
    },
    {
     "name": "stderr",
     "output_type": "stream",
     "text": [
      "WARNING:tensorflow:Can save best model only with val_loss available, skipping.\n"
     ]
    },
    {
     "name": "stdout",
     "output_type": "stream",
     "text": [
      "11/11 [==============================] - 6s 490ms/step - loss: 0.0059 - semantic_0_loss: 0.0016 - semantic_1_loss: 0.0035 - semantic_2_loss: 8.5493e-04 - lr: 1.3670e-05\n",
      "Epoch 200/200\n",
      "11/11 [==============================] - ETA: 0s - loss: 0.0061 - semantic_0_loss: 0.0016 - semantic_1_loss: 0.0036 - semantic_2_loss: 8.7304e-04WARNING:tensorflow:Can save best model only with val_loss available, skipping.\n"
     ]
    },
    {
     "name": "stderr",
     "output_type": "stream",
     "text": [
      "WARNING:tensorflow:Can save best model only with val_loss available, skipping.\n"
     ]
    },
    {
     "name": "stdout",
     "output_type": "stream",
     "text": [
      "11/11 [==============================] - 5s 464ms/step - loss: 0.0061 - semantic_0_loss: 0.0016 - semantic_1_loss: 0.0036 - semantic_2_loss: 8.7304e-04 - lr: 1.3533e-05\n",
      "/home/yfong/deeplearning/dense_cell_segmentation\n",
      "['M926910_CFL_Position7_CD3_test_img.png', 'M872956_JML_Position10_CD3_test_img.png', 'M872956_JML_Position8_CD8_test_img.png', 'M926910_CFL_Position13_CD3_test_img.png', 'M872956_JML_Position8_CD3_test_img.png', 'M872956_JML_Position8_CD4_test_img.png', 'M872956_JML_Position9_CD3_test_img.png']\n",
      "M926910_CFL_Position7_CD3_test_img.png\n"
     ]
    },
    {
     "name": "stderr",
     "output_type": "stream",
     "text": [
      "/app/software/DeepCell/0.11.1-foss-2021b-CUDA-11.4.1/lib/python3.9/site-packages/deepcell_toolbox/deep_watershed.py:179: FutureWarning: `selem` is a deprecated argument name for `h_maxima`. It will be removed in version 1.0.Please use `footprint` instead.\n",
      "  markers = h_maxima(image=maxima,\n"
     ]
    },
    {
     "name": "stdout",
     "output_type": "stream",
     "text": [
      "M872956_JML_Position10_CD3_test_img.png\n",
      "M872956_JML_Position8_CD8_test_img.png\n",
      "M926910_CFL_Position13_CD3_test_img.png\n",
      "M872956_JML_Position8_CD3_test_img.png\n",
      "M872956_JML_Position8_CD4_test_img.png\n",
      "M872956_JML_Position9_CD3_test_img.png\n",
      "[[0.2405446293494705, 0.2692307692307692], [0.2663230240549828, 0.3411764705882353], [0.4497354497354497, 0.46534653465346537], [0.20149253731343283, 0.2565789473684211], [0.40391459074733094, 0.46283783783783783], [0.5755968169761273, 0.5197368421052632], [0.2854251012145749, 0.3533980582524272]]\n",
      "                                         0         1         2\n",
      "0   M926910_CFL_Position7_CD3_test_img.png  0.240545  0.269231\n",
      "1  M872956_JML_Position10_CD3_test_img.png  0.266323  0.341176\n",
      "2   M872956_JML_Position8_CD8_test_img.png  0.449735  0.465347\n",
      "3  M926910_CFL_Position13_CD3_test_img.png  0.201493  0.256579\n",
      "4   M872956_JML_Position8_CD3_test_img.png  0.403915  0.462838\n",
      "5   M872956_JML_Position8_CD4_test_img.png  0.575597  0.519737\n",
      "6   M872956_JML_Position9_CD3_test_img.png  0.285425  0.353398\n",
      "3\n",
      "(3, 1040, 1159, 1)\n",
      "(3, 1040, 1159, 1)\n",
      "2.0\n",
      "(3, 2080, 2318, 1)\n",
      "(3, 2080, 2318, 1)\n",
      "(3, 2080, 2318, 1)\n",
      "(3, 2080, 2318, 1)\n",
      "[0, 400, 800, 1200, 1568]\n",
      "[512, 912, 1312, 1712, 2080]\n",
      "[0, 512, 1024, 1536, 1806]\n",
      "[512, 1024, 1536, 2048, 2318]\n",
      "(75, 512, 512, 1)\n",
      "(75, 512, 512, 1)\n",
      "WARNING:tensorflow:Removing 6 of 75 images with fewer than 5 objects.\n"
     ]
    },
    {
     "name": "stderr",
     "output_type": "stream",
     "text": [
      "WARNING:tensorflow:Removing 6 of 75 images with fewer than 5 objects.\n",
      "/app/software/TensorFlow/2.7.1-foss-2021b-CUDA-11.4.1/lib/python3.9/site-packages/keras/optimizer_v2/adam.py:105: UserWarning: The `lr` argument is deprecated, use `learning_rate` instead.\n",
      "  super(Adam, self).__init__(name, **kwargs)\n"
     ]
    },
    {
     "name": "stdout",
     "output_type": "stream",
     "text": [
      "Training on 3 GPUs.\n"
     ]
    },
    {
     "name": "stderr",
     "output_type": "stream",
     "text": [
      "2022-11-06 09:21:32.265341: I tensorflow/core/common_runtime/gpu/gpu_device.cc:1525] Created device /device:GPU:0 with 14657 MB memory:  -> device: 0, name: Tesla V100-PCIE-16GB, pci bus id: 0000:04:00.0, compute capability: 7.0\n",
      "2022-11-06 09:21:32.266331: I tensorflow/core/common_runtime/gpu/gpu_device.cc:1525] Created device /device:GPU:1 with 14657 MB memory:  -> device: 1, name: Tesla V100-PCIE-16GB, pci bus id: 0000:06:00.0, compute capability: 7.0\n",
      "2022-11-06 09:21:32.267345: I tensorflow/core/common_runtime/gpu/gpu_device.cc:1525] Created device /device:GPU:2 with 14657 MB memory:  -> device: 2, name: Tesla V100-PCIE-16GB, pci bus id: 0000:08:00.0, compute capability: 7.0\n"
     ]
    },
    {
     "name": "stdout",
     "output_type": "stream",
     "text": [
      "Epoch 1/200\n",
      "17/17 [==============================] - ETA: 0s - loss: 0.0160 - semantic_0_loss: 0.0035 - semantic_1_loss: 0.0097 - semantic_2_loss: 0.0027WARNING:tensorflow:Can save best model only with val_loss available, skipping.\n"
     ]
    },
    {
     "name": "stderr",
     "output_type": "stream",
     "text": [
      "WARNING:tensorflow:Can save best model only with val_loss available, skipping.\n"
     ]
    },
    {
     "name": "stdout",
     "output_type": "stream",
     "text": [
      "17/17 [==============================] - 22s 492ms/step - loss: 0.0160 - semantic_0_loss: 0.0035 - semantic_1_loss: 0.0097 - semantic_2_loss: 0.0027 - lr: 1.0000e-04\n",
      "Epoch 2/200\n",
      "17/17 [==============================] - ETA: 0s - loss: 0.0118 - semantic_0_loss: 0.0027 - semantic_1_loss: 0.0076 - semantic_2_loss: 0.0015WARNING:tensorflow:Can save best model only with val_loss available, skipping.\n"
     ]
    },
    {
     "name": "stderr",
     "output_type": "stream",
     "text": [
      "WARNING:tensorflow:Can save best model only with val_loss available, skipping.\n"
     ]
    },
    {
     "name": "stdout",
     "output_type": "stream",
     "text": [
      "17/17 [==============================] - 9s 504ms/step - loss: 0.0118 - semantic_0_loss: 0.0027 - semantic_1_loss: 0.0076 - semantic_2_loss: 0.0015 - lr: 9.9000e-05\n",
      "Epoch 3/200\n",
      "17/17 [==============================] - ETA: 0s - loss: 0.0114 - semantic_0_loss: 0.0026 - semantic_1_loss: 0.0074 - semantic_2_loss: 0.0014WARNING:tensorflow:Can save best model only with val_loss available, skipping.\n"
     ]
    },
    {
     "name": "stderr",
     "output_type": "stream",
     "text": [
      "WARNING:tensorflow:Can save best model only with val_loss available, skipping.\n"
     ]
    },
    {
     "name": "stdout",
     "output_type": "stream",
     "text": [
      "17/17 [==============================] - 9s 496ms/step - loss: 0.0114 - semantic_0_loss: 0.0026 - semantic_1_loss: 0.0074 - semantic_2_loss: 0.0014 - lr: 9.8010e-05\n",
      "Epoch 4/200\n",
      "17/17 [==============================] - ETA: 0s - loss: 0.0108 - semantic_0_loss: 0.0025 - semantic_1_loss: 0.0069 - semantic_2_loss: 0.0014WARNING:tensorflow:Can save best model only with val_loss available, skipping.\n"
     ]
    },
    {
     "name": "stderr",
     "output_type": "stream",
     "text": [
      "WARNING:tensorflow:Can save best model only with val_loss available, skipping.\n"
     ]
    },
    {
     "name": "stdout",
     "output_type": "stream",
     "text": [
      "17/17 [==============================] - 9s 491ms/step - loss: 0.0108 - semantic_0_loss: 0.0025 - semantic_1_loss: 0.0069 - semantic_2_loss: 0.0014 - lr: 9.7030e-05\n",
      "Epoch 5/200\n",
      "17/17 [==============================] - ETA: 0s - loss: 0.0113 - semantic_0_loss: 0.0025 - semantic_1_loss: 0.0073 - semantic_2_loss: 0.0014WARNING:tensorflow:Can save best model only with val_loss available, skipping.\n"
     ]
    },
    {
     "name": "stderr",
     "output_type": "stream",
     "text": [
      "WARNING:tensorflow:Can save best model only with val_loss available, skipping.\n"
     ]
    },
    {
     "name": "stdout",
     "output_type": "stream",
     "text": [
      "17/17 [==============================] - 9s 508ms/step - loss: 0.0113 - semantic_0_loss: 0.0025 - semantic_1_loss: 0.0073 - semantic_2_loss: 0.0014 - lr: 9.6060e-05\n",
      "Epoch 6/200\n",
      "17/17 [==============================] - ETA: 0s - loss: 0.0114 - semantic_0_loss: 0.0026 - semantic_1_loss: 0.0074 - semantic_2_loss: 0.0014WARNING:tensorflow:Can save best model only with val_loss available, skipping.\n"
     ]
    },
    {
     "name": "stderr",
     "output_type": "stream",
     "text": [
      "WARNING:tensorflow:Can save best model only with val_loss available, skipping.\n"
     ]
    },
    {
     "name": "stdout",
     "output_type": "stream",
     "text": [
      "17/17 [==============================] - 9s 502ms/step - loss: 0.0114 - semantic_0_loss: 0.0026 - semantic_1_loss: 0.0074 - semantic_2_loss: 0.0014 - lr: 9.5099e-05\n",
      "Epoch 7/200\n",
      "17/17 [==============================] - ETA: 0s - loss: 0.0104 - semantic_0_loss: 0.0024 - semantic_1_loss: 0.0067 - semantic_2_loss: 0.0013WARNING:tensorflow:Can save best model only with val_loss available, skipping.\n"
     ]
    },
    {
     "name": "stderr",
     "output_type": "stream",
     "text": [
      "WARNING:tensorflow:Can save best model only with val_loss available, skipping.\n"
     ]
    },
    {
     "name": "stdout",
     "output_type": "stream",
     "text": [
      "17/17 [==============================] - 9s 491ms/step - loss: 0.0104 - semantic_0_loss: 0.0024 - semantic_1_loss: 0.0067 - semantic_2_loss: 0.0013 - lr: 9.4148e-05\n",
      "Epoch 8/200\n",
      "17/17 [==============================] - ETA: 0s - loss: 0.0108 - semantic_0_loss: 0.0025 - semantic_1_loss: 0.0070 - semantic_2_loss: 0.0014WARNING:tensorflow:Can save best model only with val_loss available, skipping.\n"
     ]
    },
    {
     "name": "stderr",
     "output_type": "stream",
     "text": [
      "WARNING:tensorflow:Can save best model only with val_loss available, skipping.\n"
     ]
    },
    {
     "name": "stdout",
     "output_type": "stream",
     "text": [
      "17/17 [==============================] - 9s 509ms/step - loss: 0.0108 - semantic_0_loss: 0.0025 - semantic_1_loss: 0.0070 - semantic_2_loss: 0.0014 - lr: 9.3207e-05\n",
      "Epoch 9/200\n",
      "17/17 [==============================] - ETA: 0s - loss: 0.0104 - semantic_0_loss: 0.0024 - semantic_1_loss: 0.0067 - semantic_2_loss: 0.0013WARNING:tensorflow:Can save best model only with val_loss available, skipping.\n"
     ]
    },
    {
     "name": "stderr",
     "output_type": "stream",
     "text": [
      "WARNING:tensorflow:Can save best model only with val_loss available, skipping.\n"
     ]
    },
    {
     "name": "stdout",
     "output_type": "stream",
     "text": [
      "17/17 [==============================] - 9s 499ms/step - loss: 0.0104 - semantic_0_loss: 0.0024 - semantic_1_loss: 0.0067 - semantic_2_loss: 0.0013 - lr: 9.2274e-05\n",
      "Epoch 10/200\n",
      "17/17 [==============================] - ETA: 0s - loss: 0.0112 - semantic_0_loss: 0.0025 - semantic_1_loss: 0.0072 - semantic_2_loss: 0.0014WARNING:tensorflow:Can save best model only with val_loss available, skipping.\n"
     ]
    },
    {
     "name": "stderr",
     "output_type": "stream",
     "text": [
      "WARNING:tensorflow:Can save best model only with val_loss available, skipping.\n"
     ]
    },
    {
     "name": "stdout",
     "output_type": "stream",
     "text": [
      "17/17 [==============================] - 9s 544ms/step - loss: 0.0112 - semantic_0_loss: 0.0025 - semantic_1_loss: 0.0072 - semantic_2_loss: 0.0014 - lr: 9.1352e-05\n",
      "Epoch 11/200\n",
      "17/17 [==============================] - ETA: 0s - loss: 0.0107 - semantic_0_loss: 0.0025 - semantic_1_loss: 0.0069 - semantic_2_loss: 0.0013WARNING:tensorflow:Can save best model only with val_loss available, skipping.\n"
     ]
    },
    {
     "name": "stderr",
     "output_type": "stream",
     "text": [
      "WARNING:tensorflow:Can save best model only with val_loss available, skipping.\n"
     ]
    },
    {
     "name": "stdout",
     "output_type": "stream",
     "text": [
      "17/17 [==============================] - 9s 506ms/step - loss: 0.0107 - semantic_0_loss: 0.0025 - semantic_1_loss: 0.0069 - semantic_2_loss: 0.0013 - lr: 9.0438e-05\n",
      "Epoch 12/200\n",
      "17/17 [==============================] - ETA: 0s - loss: 0.0107 - semantic_0_loss: 0.0025 - semantic_1_loss: 0.0069 - semantic_2_loss: 0.0013WARNING:tensorflow:Can save best model only with val_loss available, skipping.\n"
     ]
    },
    {
     "name": "stderr",
     "output_type": "stream",
     "text": [
      "WARNING:tensorflow:Can save best model only with val_loss available, skipping.\n"
     ]
    },
    {
     "name": "stdout",
     "output_type": "stream",
     "text": [
      "17/17 [==============================] - 9s 507ms/step - loss: 0.0107 - semantic_0_loss: 0.0025 - semantic_1_loss: 0.0069 - semantic_2_loss: 0.0013 - lr: 8.9534e-05\n",
      "Epoch 13/200\n",
      "17/17 [==============================] - ETA: 0s - loss: 0.0107 - semantic_0_loss: 0.0025 - semantic_1_loss: 0.0069 - semantic_2_loss: 0.0013WARNING:tensorflow:Can save best model only with val_loss available, skipping.\n"
     ]
    },
    {
     "name": "stderr",
     "output_type": "stream",
     "text": [
      "WARNING:tensorflow:Can save best model only with val_loss available, skipping.\n"
     ]
    },
    {
     "name": "stdout",
     "output_type": "stream",
     "text": [
      "17/17 [==============================] - 9s 509ms/step - loss: 0.0107 - semantic_0_loss: 0.0025 - semantic_1_loss: 0.0069 - semantic_2_loss: 0.0013 - lr: 8.8638e-05\n",
      "Epoch 14/200\n",
      "17/17 [==============================] - ETA: 0s - loss: 0.0104 - semantic_0_loss: 0.0024 - semantic_1_loss: 0.0067 - semantic_2_loss: 0.0013WARNING:tensorflow:Can save best model only with val_loss available, skipping.\n"
     ]
    },
    {
     "name": "stderr",
     "output_type": "stream",
     "text": [
      "WARNING:tensorflow:Can save best model only with val_loss available, skipping.\n"
     ]
    },
    {
     "name": "stdout",
     "output_type": "stream",
     "text": [
      "17/17 [==============================] - 9s 501ms/step - loss: 0.0104 - semantic_0_loss: 0.0024 - semantic_1_loss: 0.0067 - semantic_2_loss: 0.0013 - lr: 8.7752e-05\n",
      "Epoch 15/200\n",
      "17/17 [==============================] - ETA: 0s - loss: 0.0102 - semantic_0_loss: 0.0024 - semantic_1_loss: 0.0066 - semantic_2_loss: 0.0013WARNING:tensorflow:Can save best model only with val_loss available, skipping.\n"
     ]
    },
    {
     "name": "stderr",
     "output_type": "stream",
     "text": [
      "WARNING:tensorflow:Can save best model only with val_loss available, skipping.\n"
     ]
    },
    {
     "name": "stdout",
     "output_type": "stream",
     "text": [
      "17/17 [==============================] - 9s 497ms/step - loss: 0.0102 - semantic_0_loss: 0.0024 - semantic_1_loss: 0.0066 - semantic_2_loss: 0.0013 - lr: 8.6875e-05\n",
      "Epoch 16/200\n",
      "17/17 [==============================] - ETA: 0s - loss: 0.0102 - semantic_0_loss: 0.0024 - semantic_1_loss: 0.0066 - semantic_2_loss: 0.0013WARNING:tensorflow:Can save best model only with val_loss available, skipping.\n"
     ]
    },
    {
     "name": "stderr",
     "output_type": "stream",
     "text": [
      "WARNING:tensorflow:Can save best model only with val_loss available, skipping.\n"
     ]
    },
    {
     "name": "stdout",
     "output_type": "stream",
     "text": [
      "17/17 [==============================] - 9s 534ms/step - loss: 0.0102 - semantic_0_loss: 0.0024 - semantic_1_loss: 0.0066 - semantic_2_loss: 0.0013 - lr: 8.6006e-05\n",
      "Epoch 17/200\n",
      "17/17 [==============================] - ETA: 0s - loss: 0.0105 - semantic_0_loss: 0.0024 - semantic_1_loss: 0.0067 - semantic_2_loss: 0.0013WARNING:tensorflow:Can save best model only with val_loss available, skipping.\n"
     ]
    },
    {
     "name": "stderr",
     "output_type": "stream",
     "text": [
      "WARNING:tensorflow:Can save best model only with val_loss available, skipping.\n"
     ]
    },
    {
     "name": "stdout",
     "output_type": "stream",
     "text": [
      "17/17 [==============================] - 9s 509ms/step - loss: 0.0105 - semantic_0_loss: 0.0024 - semantic_1_loss: 0.0067 - semantic_2_loss: 0.0013 - lr: 8.5146e-05\n",
      "Epoch 18/200\n",
      "17/17 [==============================] - ETA: 0s - loss: 0.0105 - semantic_0_loss: 0.0025 - semantic_1_loss: 0.0068 - semantic_2_loss: 0.0013WARNING:tensorflow:Can save best model only with val_loss available, skipping.\n"
     ]
    },
    {
     "name": "stderr",
     "output_type": "stream",
     "text": [
      "WARNING:tensorflow:Can save best model only with val_loss available, skipping.\n"
     ]
    },
    {
     "name": "stdout",
     "output_type": "stream",
     "text": [
      "17/17 [==============================] - 9s 506ms/step - loss: 0.0105 - semantic_0_loss: 0.0025 - semantic_1_loss: 0.0068 - semantic_2_loss: 0.0013 - lr: 8.4294e-05\n",
      "Epoch 19/200\n",
      "17/17 [==============================] - ETA: 0s - loss: 0.0103 - semantic_0_loss: 0.0024 - semantic_1_loss: 0.0066 - semantic_2_loss: 0.0013WARNING:tensorflow:Can save best model only with val_loss available, skipping.\n"
     ]
    },
    {
     "name": "stderr",
     "output_type": "stream",
     "text": [
      "WARNING:tensorflow:Can save best model only with val_loss available, skipping.\n"
     ]
    },
    {
     "name": "stdout",
     "output_type": "stream",
     "text": [
      "17/17 [==============================] - 9s 493ms/step - loss: 0.0103 - semantic_0_loss: 0.0024 - semantic_1_loss: 0.0066 - semantic_2_loss: 0.0013 - lr: 8.3451e-05\n",
      "Epoch 20/200\n",
      "17/17 [==============================] - ETA: 0s - loss: 0.0102 - semantic_0_loss: 0.0024 - semantic_1_loss: 0.0066 - semantic_2_loss: 0.0013WARNING:tensorflow:Can save best model only with val_loss available, skipping.\n"
     ]
    },
    {
     "name": "stderr",
     "output_type": "stream",
     "text": [
      "WARNING:tensorflow:Can save best model only with val_loss available, skipping.\n"
     ]
    },
    {
     "name": "stdout",
     "output_type": "stream",
     "text": [
      "17/17 [==============================] - 9s 531ms/step - loss: 0.0102 - semantic_0_loss: 0.0024 - semantic_1_loss: 0.0066 - semantic_2_loss: 0.0013 - lr: 8.2617e-05\n",
      "Epoch 21/200\n",
      "17/17 [==============================] - ETA: 0s - loss: 0.0093 - semantic_0_loss: 0.0021 - semantic_1_loss: 0.0060 - semantic_2_loss: 0.0012WARNING:tensorflow:Can save best model only with val_loss available, skipping.\n"
     ]
    },
    {
     "name": "stderr",
     "output_type": "stream",
     "text": [
      "WARNING:tensorflow:Can save best model only with val_loss available, skipping.\n"
     ]
    },
    {
     "name": "stdout",
     "output_type": "stream",
     "text": [
      "17/17 [==============================] - 8s 514ms/step - loss: 0.0093 - semantic_0_loss: 0.0021 - semantic_1_loss: 0.0060 - semantic_2_loss: 0.0012 - lr: 8.1791e-05\n",
      "Epoch 22/200\n",
      "17/17 [==============================] - ETA: 0s - loss: 0.0098 - semantic_0_loss: 0.0023 - semantic_1_loss: 0.0063 - semantic_2_loss: 0.0013WARNING:tensorflow:Can save best model only with val_loss available, skipping.\n"
     ]
    },
    {
     "name": "stderr",
     "output_type": "stream",
     "text": [
      "WARNING:tensorflow:Can save best model only with val_loss available, skipping.\n"
     ]
    },
    {
     "name": "stdout",
     "output_type": "stream",
     "text": [
      "17/17 [==============================] - 9s 489ms/step - loss: 0.0098 - semantic_0_loss: 0.0023 - semantic_1_loss: 0.0063 - semantic_2_loss: 0.0013 - lr: 8.0973e-05\n",
      "Epoch 23/200\n",
      "17/17 [==============================] - ETA: 0s - loss: 0.0102 - semantic_0_loss: 0.0024 - semantic_1_loss: 0.0065 - semantic_2_loss: 0.0013WARNING:tensorflow:Can save best model only with val_loss available, skipping.\n"
     ]
    },
    {
     "name": "stderr",
     "output_type": "stream",
     "text": [
      "WARNING:tensorflow:Can save best model only with val_loss available, skipping.\n"
     ]
    },
    {
     "name": "stdout",
     "output_type": "stream",
     "text": [
      "17/17 [==============================] - 9s 504ms/step - loss: 0.0102 - semantic_0_loss: 0.0024 - semantic_1_loss: 0.0065 - semantic_2_loss: 0.0013 - lr: 8.0163e-05\n",
      "Epoch 24/200\n",
      "17/17 [==============================] - ETA: 0s - loss: 0.0101 - semantic_0_loss: 0.0024 - semantic_1_loss: 0.0065 - semantic_2_loss: 0.0012WARNING:tensorflow:Can save best model only with val_loss available, skipping.\n"
     ]
    },
    {
     "name": "stderr",
     "output_type": "stream",
     "text": [
      "WARNING:tensorflow:Can save best model only with val_loss available, skipping.\n"
     ]
    },
    {
     "name": "stdout",
     "output_type": "stream",
     "text": [
      "17/17 [==============================] - 9s 507ms/step - loss: 0.0101 - semantic_0_loss: 0.0024 - semantic_1_loss: 0.0065 - semantic_2_loss: 0.0012 - lr: 7.9361e-05\n",
      "Epoch 25/200\n",
      "17/17 [==============================] - ETA: 0s - loss: 0.0098 - semantic_0_loss: 0.0023 - semantic_1_loss: 0.0063 - semantic_2_loss: 0.0013WARNING:tensorflow:Can save best model only with val_loss available, skipping.\n"
     ]
    },
    {
     "name": "stderr",
     "output_type": "stream",
     "text": [
      "WARNING:tensorflow:Can save best model only with val_loss available, skipping.\n"
     ]
    },
    {
     "name": "stdout",
     "output_type": "stream",
     "text": [
      "17/17 [==============================] - 9s 504ms/step - loss: 0.0098 - semantic_0_loss: 0.0023 - semantic_1_loss: 0.0063 - semantic_2_loss: 0.0013 - lr: 7.8568e-05\n",
      "Epoch 26/200\n",
      "17/17 [==============================] - ETA: 0s - loss: 0.0101 - semantic_0_loss: 0.0023 - semantic_1_loss: 0.0065 - semantic_2_loss: 0.0013WARNING:tensorflow:Can save best model only with val_loss available, skipping.\n"
     ]
    },
    {
     "name": "stderr",
     "output_type": "stream",
     "text": [
      "WARNING:tensorflow:Can save best model only with val_loss available, skipping.\n"
     ]
    },
    {
     "name": "stdout",
     "output_type": "stream",
     "text": [
      "17/17 [==============================] - 9s 498ms/step - loss: 0.0101 - semantic_0_loss: 0.0023 - semantic_1_loss: 0.0065 - semantic_2_loss: 0.0013 - lr: 7.7782e-05\n",
      "Epoch 27/200\n",
      "17/17 [==============================] - ETA: 0s - loss: 0.0098 - semantic_0_loss: 0.0023 - semantic_1_loss: 0.0063 - semantic_2_loss: 0.0012WARNING:tensorflow:Can save best model only with val_loss available, skipping.\n"
     ]
    },
    {
     "name": "stderr",
     "output_type": "stream",
     "text": [
      "WARNING:tensorflow:Can save best model only with val_loss available, skipping.\n"
     ]
    },
    {
     "name": "stdout",
     "output_type": "stream",
     "text": [
      "17/17 [==============================] - 9s 496ms/step - loss: 0.0098 - semantic_0_loss: 0.0023 - semantic_1_loss: 0.0063 - semantic_2_loss: 0.0012 - lr: 7.7004e-05\n",
      "Epoch 28/200\n",
      "17/17 [==============================] - ETA: 0s - loss: 0.0093 - semantic_0_loss: 0.0022 - semantic_1_loss: 0.0059 - semantic_2_loss: 0.0012WARNING:tensorflow:Can save best model only with val_loss available, skipping.\n"
     ]
    },
    {
     "name": "stderr",
     "output_type": "stream",
     "text": [
      "WARNING:tensorflow:Can save best model only with val_loss available, skipping.\n"
     ]
    },
    {
     "name": "stdout",
     "output_type": "stream",
     "text": [
      "17/17 [==============================] - 9s 492ms/step - loss: 0.0093 - semantic_0_loss: 0.0022 - semantic_1_loss: 0.0059 - semantic_2_loss: 0.0012 - lr: 7.6234e-05\n",
      "Epoch 29/200\n",
      "17/17 [==============================] - ETA: 0s - loss: 0.0093 - semantic_0_loss: 0.0022 - semantic_1_loss: 0.0059 - semantic_2_loss: 0.0012WARNING:tensorflow:Can save best model only with val_loss available, skipping.\n"
     ]
    },
    {
     "name": "stderr",
     "output_type": "stream",
     "text": [
      "WARNING:tensorflow:Can save best model only with val_loss available, skipping.\n"
     ]
    },
    {
     "name": "stdout",
     "output_type": "stream",
     "text": [
      "17/17 [==============================] - 9s 499ms/step - loss: 0.0093 - semantic_0_loss: 0.0022 - semantic_1_loss: 0.0059 - semantic_2_loss: 0.0012 - lr: 7.5472e-05\n",
      "Epoch 30/200\n",
      "17/17 [==============================] - ETA: 0s - loss: 0.0094 - semantic_0_loss: 0.0022 - semantic_1_loss: 0.0060 - semantic_2_loss: 0.0012WARNING:tensorflow:Can save best model only with val_loss available, skipping.\n"
     ]
    },
    {
     "name": "stderr",
     "output_type": "stream",
     "text": [
      "WARNING:tensorflow:Can save best model only with val_loss available, skipping.\n"
     ]
    },
    {
     "name": "stdout",
     "output_type": "stream",
     "text": [
      "17/17 [==============================] - 9s 508ms/step - loss: 0.0094 - semantic_0_loss: 0.0022 - semantic_1_loss: 0.0060 - semantic_2_loss: 0.0012 - lr: 7.4717e-05\n",
      "Epoch 31/200\n",
      "17/17 [==============================] - ETA: 0s - loss: 0.0098 - semantic_0_loss: 0.0023 - semantic_1_loss: 0.0063 - semantic_2_loss: 0.0012WARNING:tensorflow:Can save best model only with val_loss available, skipping.\n"
     ]
    },
    {
     "name": "stderr",
     "output_type": "stream",
     "text": [
      "WARNING:tensorflow:Can save best model only with val_loss available, skipping.\n"
     ]
    },
    {
     "name": "stdout",
     "output_type": "stream",
     "text": [
      "17/17 [==============================] - 9s 497ms/step - loss: 0.0098 - semantic_0_loss: 0.0023 - semantic_1_loss: 0.0063 - semantic_2_loss: 0.0012 - lr: 7.3970e-05\n",
      "Epoch 32/200\n",
      "17/17 [==============================] - ETA: 0s - loss: 0.0096 - semantic_0_loss: 0.0023 - semantic_1_loss: 0.0062 - semantic_2_loss: 0.0012WARNING:tensorflow:Can save best model only with val_loss available, skipping.\n"
     ]
    },
    {
     "name": "stderr",
     "output_type": "stream",
     "text": [
      "WARNING:tensorflow:Can save best model only with val_loss available, skipping.\n"
     ]
    },
    {
     "name": "stdout",
     "output_type": "stream",
     "text": [
      "17/17 [==============================] - 9s 494ms/step - loss: 0.0096 - semantic_0_loss: 0.0023 - semantic_1_loss: 0.0062 - semantic_2_loss: 0.0012 - lr: 7.3230e-05\n",
      "Epoch 33/200\n",
      "17/17 [==============================] - ETA: 0s - loss: 0.0096 - semantic_0_loss: 0.0023 - semantic_1_loss: 0.0061 - semantic_2_loss: 0.0012WARNING:tensorflow:Can save best model only with val_loss available, skipping.\n"
     ]
    },
    {
     "name": "stderr",
     "output_type": "stream",
     "text": [
      "WARNING:tensorflow:Can save best model only with val_loss available, skipping.\n"
     ]
    },
    {
     "name": "stdout",
     "output_type": "stream",
     "text": [
      "17/17 [==============================] - 9s 503ms/step - loss: 0.0096 - semantic_0_loss: 0.0023 - semantic_1_loss: 0.0061 - semantic_2_loss: 0.0012 - lr: 7.2498e-05\n",
      "Epoch 34/200\n",
      "17/17 [==============================] - ETA: 0s - loss: 0.0099 - semantic_0_loss: 0.0023 - semantic_1_loss: 0.0064 - semantic_2_loss: 0.0012WARNING:tensorflow:Can save best model only with val_loss available, skipping.\n"
     ]
    },
    {
     "name": "stderr",
     "output_type": "stream",
     "text": [
      "WARNING:tensorflow:Can save best model only with val_loss available, skipping.\n"
     ]
    },
    {
     "name": "stdout",
     "output_type": "stream",
     "text": [
      "17/17 [==============================] - 9s 506ms/step - loss: 0.0099 - semantic_0_loss: 0.0023 - semantic_1_loss: 0.0064 - semantic_2_loss: 0.0012 - lr: 7.1773e-05\n",
      "Epoch 35/200\n",
      "17/17 [==============================] - ETA: 0s - loss: 0.0096 - semantic_0_loss: 0.0022 - semantic_1_loss: 0.0061 - semantic_2_loss: 0.0012WARNING:tensorflow:Can save best model only with val_loss available, skipping.\n"
     ]
    },
    {
     "name": "stderr",
     "output_type": "stream",
     "text": [
      "WARNING:tensorflow:Can save best model only with val_loss available, skipping.\n"
     ]
    },
    {
     "name": "stdout",
     "output_type": "stream",
     "text": [
      "17/17 [==============================] - 9s 525ms/step - loss: 0.0096 - semantic_0_loss: 0.0022 - semantic_1_loss: 0.0061 - semantic_2_loss: 0.0012 - lr: 7.1055e-05\n",
      "Epoch 36/200\n",
      "17/17 [==============================] - ETA: 0s - loss: 0.0095 - semantic_0_loss: 0.0023 - semantic_1_loss: 0.0060 - semantic_2_loss: 0.0012WARNING:tensorflow:Can save best model only with val_loss available, skipping.\n"
     ]
    },
    {
     "name": "stderr",
     "output_type": "stream",
     "text": [
      "WARNING:tensorflow:Can save best model only with val_loss available, skipping.\n"
     ]
    },
    {
     "name": "stdout",
     "output_type": "stream",
     "text": [
      "17/17 [==============================] - 9s 506ms/step - loss: 0.0095 - semantic_0_loss: 0.0023 - semantic_1_loss: 0.0060 - semantic_2_loss: 0.0012 - lr: 7.0345e-05\n",
      "Epoch 37/200\n",
      "17/17 [==============================] - ETA: 0s - loss: 0.0094 - semantic_0_loss: 0.0023 - semantic_1_loss: 0.0060 - semantic_2_loss: 0.0012WARNING:tensorflow:Can save best model only with val_loss available, skipping.\n"
     ]
    },
    {
     "name": "stderr",
     "output_type": "stream",
     "text": [
      "WARNING:tensorflow:Can save best model only with val_loss available, skipping.\n"
     ]
    },
    {
     "name": "stdout",
     "output_type": "stream",
     "text": [
      "17/17 [==============================] - 9s 489ms/step - loss: 0.0094 - semantic_0_loss: 0.0023 - semantic_1_loss: 0.0060 - semantic_2_loss: 0.0012 - lr: 6.9641e-05\n",
      "Epoch 38/200\n",
      "17/17 [==============================] - ETA: 0s - loss: 0.0092 - semantic_0_loss: 0.0022 - semantic_1_loss: 0.0059 - semantic_2_loss: 0.0012WARNING:tensorflow:Can save best model only with val_loss available, skipping.\n"
     ]
    },
    {
     "name": "stderr",
     "output_type": "stream",
     "text": [
      "WARNING:tensorflow:Can save best model only with val_loss available, skipping.\n"
     ]
    },
    {
     "name": "stdout",
     "output_type": "stream",
     "text": [
      "17/17 [==============================] - 9s 493ms/step - loss: 0.0092 - semantic_0_loss: 0.0022 - semantic_1_loss: 0.0059 - semantic_2_loss: 0.0012 - lr: 6.8945e-05\n",
      "Epoch 39/200\n",
      "17/17 [==============================] - ETA: 0s - loss: 0.0093 - semantic_0_loss: 0.0022 - semantic_1_loss: 0.0059 - semantic_2_loss: 0.0012WARNING:tensorflow:Can save best model only with val_loss available, skipping.\n"
     ]
    },
    {
     "name": "stderr",
     "output_type": "stream",
     "text": [
      "WARNING:tensorflow:Can save best model only with val_loss available, skipping.\n"
     ]
    },
    {
     "name": "stdout",
     "output_type": "stream",
     "text": [
      "17/17 [==============================] - 9s 526ms/step - loss: 0.0093 - semantic_0_loss: 0.0022 - semantic_1_loss: 0.0059 - semantic_2_loss: 0.0012 - lr: 6.8255e-05\n",
      "Epoch 40/200\n",
      "17/17 [==============================] - ETA: 0s - loss: 0.0099 - semantic_0_loss: 0.0023 - semantic_1_loss: 0.0063 - semantic_2_loss: 0.0012WARNING:tensorflow:Can save best model only with val_loss available, skipping.\n"
     ]
    },
    {
     "name": "stderr",
     "output_type": "stream",
     "text": [
      "WARNING:tensorflow:Can save best model only with val_loss available, skipping.\n"
     ]
    },
    {
     "name": "stdout",
     "output_type": "stream",
     "text": [
      "17/17 [==============================] - 9s 507ms/step - loss: 0.0099 - semantic_0_loss: 0.0023 - semantic_1_loss: 0.0063 - semantic_2_loss: 0.0012 - lr: 6.7573e-05\n",
      "Epoch 41/200\n",
      "17/17 [==============================] - ETA: 0s - loss: 0.0095 - semantic_0_loss: 0.0023 - semantic_1_loss: 0.0060 - semantic_2_loss: 0.0012WARNING:tensorflow:Can save best model only with val_loss available, skipping.\n"
     ]
    },
    {
     "name": "stderr",
     "output_type": "stream",
     "text": [
      "WARNING:tensorflow:Can save best model only with val_loss available, skipping.\n"
     ]
    },
    {
     "name": "stdout",
     "output_type": "stream",
     "text": [
      "17/17 [==============================] - 9s 537ms/step - loss: 0.0095 - semantic_0_loss: 0.0023 - semantic_1_loss: 0.0060 - semantic_2_loss: 0.0012 - lr: 6.6897e-05\n",
      "Epoch 42/200\n",
      "17/17 [==============================] - ETA: 0s - loss: 0.0096 - semantic_0_loss: 0.0023 - semantic_1_loss: 0.0061 - semantic_2_loss: 0.0012WARNING:tensorflow:Can save best model only with val_loss available, skipping.\n"
     ]
    },
    {
     "name": "stderr",
     "output_type": "stream",
     "text": [
      "WARNING:tensorflow:Can save best model only with val_loss available, skipping.\n"
     ]
    },
    {
     "name": "stdout",
     "output_type": "stream",
     "text": [
      "17/17 [==============================] - 9s 509ms/step - loss: 0.0096 - semantic_0_loss: 0.0023 - semantic_1_loss: 0.0061 - semantic_2_loss: 0.0012 - lr: 6.6228e-05\n",
      "Epoch 43/200\n",
      "17/17 [==============================] - ETA: 0s - loss: 0.0093 - semantic_0_loss: 0.0022 - semantic_1_loss: 0.0059 - semantic_2_loss: 0.0012WARNING:tensorflow:Can save best model only with val_loss available, skipping.\n"
     ]
    },
    {
     "name": "stderr",
     "output_type": "stream",
     "text": [
      "WARNING:tensorflow:Can save best model only with val_loss available, skipping.\n"
     ]
    },
    {
     "name": "stdout",
     "output_type": "stream",
     "text": [
      "17/17 [==============================] - 9s 506ms/step - loss: 0.0093 - semantic_0_loss: 0.0022 - semantic_1_loss: 0.0059 - semantic_2_loss: 0.0012 - lr: 6.5566e-05\n",
      "Epoch 44/200\n",
      "17/17 [==============================] - ETA: 0s - loss: 0.0095 - semantic_0_loss: 0.0022 - semantic_1_loss: 0.0061 - semantic_2_loss: 0.0012WARNING:tensorflow:Can save best model only with val_loss available, skipping.\n"
     ]
    },
    {
     "name": "stderr",
     "output_type": "stream",
     "text": [
      "WARNING:tensorflow:Can save best model only with val_loss available, skipping.\n"
     ]
    },
    {
     "name": "stdout",
     "output_type": "stream",
     "text": [
      "17/17 [==============================] - 9s 492ms/step - loss: 0.0095 - semantic_0_loss: 0.0022 - semantic_1_loss: 0.0061 - semantic_2_loss: 0.0012 - lr: 6.4910e-05\n",
      "Epoch 45/200\n",
      "17/17 [==============================] - ETA: 0s - loss: 0.0089 - semantic_0_loss: 0.0021 - semantic_1_loss: 0.0056 - semantic_2_loss: 0.0012WARNING:tensorflow:Can save best model only with val_loss available, skipping.\n"
     ]
    },
    {
     "name": "stderr",
     "output_type": "stream",
     "text": [
      "WARNING:tensorflow:Can save best model only with val_loss available, skipping.\n"
     ]
    },
    {
     "name": "stdout",
     "output_type": "stream",
     "text": [
      "17/17 [==============================] - 9s 499ms/step - loss: 0.0089 - semantic_0_loss: 0.0021 - semantic_1_loss: 0.0056 - semantic_2_loss: 0.0012 - lr: 6.4261e-05\n",
      "Epoch 46/200\n",
      "17/17 [==============================] - ETA: 0s - loss: 0.0093 - semantic_0_loss: 0.0022 - semantic_1_loss: 0.0059 - semantic_2_loss: 0.0012WARNING:tensorflow:Can save best model only with val_loss available, skipping.\n"
     ]
    },
    {
     "name": "stderr",
     "output_type": "stream",
     "text": [
      "WARNING:tensorflow:Can save best model only with val_loss available, skipping.\n"
     ]
    },
    {
     "name": "stdout",
     "output_type": "stream",
     "text": [
      "17/17 [==============================] - 9s 493ms/step - loss: 0.0093 - semantic_0_loss: 0.0022 - semantic_1_loss: 0.0059 - semantic_2_loss: 0.0012 - lr: 6.3619e-05\n",
      "Epoch 47/200\n",
      "17/17 [==============================] - ETA: 0s - loss: 0.0094 - semantic_0_loss: 0.0022 - semantic_1_loss: 0.0060 - semantic_2_loss: 0.0012WARNING:tensorflow:Can save best model only with val_loss available, skipping.\n"
     ]
    },
    {
     "name": "stderr",
     "output_type": "stream",
     "text": [
      "WARNING:tensorflow:Can save best model only with val_loss available, skipping.\n"
     ]
    },
    {
     "name": "stdout",
     "output_type": "stream",
     "text": [
      "17/17 [==============================] - 9s 494ms/step - loss: 0.0094 - semantic_0_loss: 0.0022 - semantic_1_loss: 0.0060 - semantic_2_loss: 0.0012 - lr: 6.2982e-05\n",
      "Epoch 48/200\n",
      "17/17 [==============================] - ETA: 0s - loss: 0.0096 - semantic_0_loss: 0.0023 - semantic_1_loss: 0.0061 - semantic_2_loss: 0.0012WARNING:tensorflow:Can save best model only with val_loss available, skipping.\n"
     ]
    },
    {
     "name": "stderr",
     "output_type": "stream",
     "text": [
      "WARNING:tensorflow:Can save best model only with val_loss available, skipping.\n"
     ]
    },
    {
     "name": "stdout",
     "output_type": "stream",
     "text": [
      "17/17 [==============================] - 9s 504ms/step - loss: 0.0096 - semantic_0_loss: 0.0023 - semantic_1_loss: 0.0061 - semantic_2_loss: 0.0012 - lr: 6.2353e-05\n",
      "Epoch 49/200\n",
      "17/17 [==============================] - ETA: 0s - loss: 0.0095 - semantic_0_loss: 0.0022 - semantic_1_loss: 0.0061 - semantic_2_loss: 0.0012WARNING:tensorflow:Can save best model only with val_loss available, skipping.\n"
     ]
    },
    {
     "name": "stderr",
     "output_type": "stream",
     "text": [
      "WARNING:tensorflow:Can save best model only with val_loss available, skipping.\n"
     ]
    },
    {
     "name": "stdout",
     "output_type": "stream",
     "text": [
      "17/17 [==============================] - 9s 491ms/step - loss: 0.0095 - semantic_0_loss: 0.0022 - semantic_1_loss: 0.0061 - semantic_2_loss: 0.0012 - lr: 6.1729e-05\n",
      "Epoch 50/200\n",
      "17/17 [==============================] - ETA: 0s - loss: 0.0090 - semantic_0_loss: 0.0022 - semantic_1_loss: 0.0057 - semantic_2_loss: 0.0012WARNING:tensorflow:Can save best model only with val_loss available, skipping.\n"
     ]
    },
    {
     "name": "stderr",
     "output_type": "stream",
     "text": [
      "WARNING:tensorflow:Can save best model only with val_loss available, skipping.\n"
     ]
    },
    {
     "name": "stdout",
     "output_type": "stream",
     "text": [
      "17/17 [==============================] - 9s 521ms/step - loss: 0.0090 - semantic_0_loss: 0.0022 - semantic_1_loss: 0.0057 - semantic_2_loss: 0.0012 - lr: 6.1112e-05\n",
      "Epoch 51/200\n",
      "17/17 [==============================] - ETA: 0s - loss: 0.0094 - semantic_0_loss: 0.0023 - semantic_1_loss: 0.0060 - semantic_2_loss: 0.0012WARNING:tensorflow:Can save best model only with val_loss available, skipping.\n"
     ]
    },
    {
     "name": "stderr",
     "output_type": "stream",
     "text": [
      "WARNING:tensorflow:Can save best model only with val_loss available, skipping.\n"
     ]
    },
    {
     "name": "stdout",
     "output_type": "stream",
     "text": [
      "17/17 [==============================] - 9s 501ms/step - loss: 0.0094 - semantic_0_loss: 0.0023 - semantic_1_loss: 0.0060 - semantic_2_loss: 0.0012 - lr: 6.0501e-05\n",
      "Epoch 52/200\n",
      "17/17 [==============================] - ETA: 0s - loss: 0.0093 - semantic_0_loss: 0.0022 - semantic_1_loss: 0.0059 - semantic_2_loss: 0.0012WARNING:tensorflow:Can save best model only with val_loss available, skipping.\n"
     ]
    },
    {
     "name": "stderr",
     "output_type": "stream",
     "text": [
      "WARNING:tensorflow:Can save best model only with val_loss available, skipping.\n"
     ]
    },
    {
     "name": "stdout",
     "output_type": "stream",
     "text": [
      "17/17 [==============================] - 9s 493ms/step - loss: 0.0093 - semantic_0_loss: 0.0022 - semantic_1_loss: 0.0059 - semantic_2_loss: 0.0012 - lr: 5.9896e-05\n",
      "Epoch 53/200\n",
      "17/17 [==============================] - ETA: 0s - loss: 0.0095 - semantic_0_loss: 0.0023 - semantic_1_loss: 0.0060 - semantic_2_loss: 0.0012WARNING:tensorflow:Can save best model only with val_loss available, skipping.\n"
     ]
    },
    {
     "name": "stderr",
     "output_type": "stream",
     "text": [
      "WARNING:tensorflow:Can save best model only with val_loss available, skipping.\n"
     ]
    },
    {
     "name": "stdout",
     "output_type": "stream",
     "text": [
      "17/17 [==============================] - 9s 500ms/step - loss: 0.0095 - semantic_0_loss: 0.0023 - semantic_1_loss: 0.0060 - semantic_2_loss: 0.0012 - lr: 5.9297e-05\n",
      "Epoch 54/200\n",
      "17/17 [==============================] - ETA: 0s - loss: 0.0092 - semantic_0_loss: 0.0022 - semantic_1_loss: 0.0058 - semantic_2_loss: 0.0012WARNING:tensorflow:Can save best model only with val_loss available, skipping.\n"
     ]
    },
    {
     "name": "stderr",
     "output_type": "stream",
     "text": [
      "WARNING:tensorflow:Can save best model only with val_loss available, skipping.\n"
     ]
    },
    {
     "name": "stdout",
     "output_type": "stream",
     "text": [
      "17/17 [==============================] - 9s 495ms/step - loss: 0.0092 - semantic_0_loss: 0.0022 - semantic_1_loss: 0.0058 - semantic_2_loss: 0.0012 - lr: 5.8704e-05\n",
      "Epoch 55/200\n",
      "17/17 [==============================] - ETA: 0s - loss: 0.0095 - semantic_0_loss: 0.0023 - semantic_1_loss: 0.0060 - semantic_2_loss: 0.0012WARNING:tensorflow:Can save best model only with val_loss available, skipping.\n"
     ]
    },
    {
     "name": "stderr",
     "output_type": "stream",
     "text": [
      "WARNING:tensorflow:Can save best model only with val_loss available, skipping.\n"
     ]
    },
    {
     "name": "stdout",
     "output_type": "stream",
     "text": [
      "17/17 [==============================] - 9s 505ms/step - loss: 0.0095 - semantic_0_loss: 0.0023 - semantic_1_loss: 0.0060 - semantic_2_loss: 0.0012 - lr: 5.8117e-05\n",
      "Epoch 56/200\n",
      "17/17 [==============================] - ETA: 0s - loss: 0.0090 - semantic_0_loss: 0.0022 - semantic_1_loss: 0.0057 - semantic_2_loss: 0.0011WARNING:tensorflow:Can save best model only with val_loss available, skipping.\n"
     ]
    },
    {
     "name": "stderr",
     "output_type": "stream",
     "text": [
      "WARNING:tensorflow:Can save best model only with val_loss available, skipping.\n"
     ]
    },
    {
     "name": "stdout",
     "output_type": "stream",
     "text": [
      "17/17 [==============================] - 9s 489ms/step - loss: 0.0090 - semantic_0_loss: 0.0022 - semantic_1_loss: 0.0057 - semantic_2_loss: 0.0011 - lr: 5.7535e-05\n",
      "Epoch 57/200\n",
      "17/17 [==============================] - ETA: 0s - loss: 0.0095 - semantic_0_loss: 0.0023 - semantic_1_loss: 0.0060 - semantic_2_loss: 0.0012WARNING:tensorflow:Can save best model only with val_loss available, skipping.\n"
     ]
    },
    {
     "name": "stderr",
     "output_type": "stream",
     "text": [
      "WARNING:tensorflow:Can save best model only with val_loss available, skipping.\n"
     ]
    },
    {
     "name": "stdout",
     "output_type": "stream",
     "text": [
      "17/17 [==============================] - 9s 491ms/step - loss: 0.0095 - semantic_0_loss: 0.0023 - semantic_1_loss: 0.0060 - semantic_2_loss: 0.0012 - lr: 5.6960e-05\n",
      "Epoch 58/200\n",
      "17/17 [==============================] - ETA: 0s - loss: 0.0092 - semantic_0_loss: 0.0022 - semantic_1_loss: 0.0058 - semantic_2_loss: 0.0012WARNING:tensorflow:Can save best model only with val_loss available, skipping.\n"
     ]
    },
    {
     "name": "stderr",
     "output_type": "stream",
     "text": [
      "WARNING:tensorflow:Can save best model only with val_loss available, skipping.\n"
     ]
    },
    {
     "name": "stdout",
     "output_type": "stream",
     "text": [
      "17/17 [==============================] - 9s 495ms/step - loss: 0.0092 - semantic_0_loss: 0.0022 - semantic_1_loss: 0.0058 - semantic_2_loss: 0.0012 - lr: 5.6391e-05\n",
      "Epoch 59/200\n",
      "17/17 [==============================] - ETA: 0s - loss: 0.0094 - semantic_0_loss: 0.0023 - semantic_1_loss: 0.0060 - semantic_2_loss: 0.0012WARNING:tensorflow:Can save best model only with val_loss available, skipping.\n"
     ]
    },
    {
     "name": "stderr",
     "output_type": "stream",
     "text": [
      "WARNING:tensorflow:Can save best model only with val_loss available, skipping.\n"
     ]
    },
    {
     "name": "stdout",
     "output_type": "stream",
     "text": [
      "17/17 [==============================] - 9s 491ms/step - loss: 0.0094 - semantic_0_loss: 0.0023 - semantic_1_loss: 0.0060 - semantic_2_loss: 0.0012 - lr: 5.5827e-05\n",
      "Epoch 60/200\n",
      "17/17 [==============================] - ETA: 0s - loss: 0.0088 - semantic_0_loss: 0.0021 - semantic_1_loss: 0.0056 - semantic_2_loss: 0.0011WARNING:tensorflow:Can save best model only with val_loss available, skipping.\n"
     ]
    },
    {
     "name": "stderr",
     "output_type": "stream",
     "text": [
      "WARNING:tensorflow:Can save best model only with val_loss available, skipping.\n"
     ]
    },
    {
     "name": "stdout",
     "output_type": "stream",
     "text": [
      "17/17 [==============================] - 9s 491ms/step - loss: 0.0088 - semantic_0_loss: 0.0021 - semantic_1_loss: 0.0056 - semantic_2_loss: 0.0011 - lr: 5.5268e-05\n",
      "Epoch 61/200\n",
      "17/17 [==============================] - ETA: 0s - loss: 0.0087 - semantic_0_loss: 0.0021 - semantic_1_loss: 0.0054 - semantic_2_loss: 0.0012WARNING:tensorflow:Can save best model only with val_loss available, skipping.\n"
     ]
    },
    {
     "name": "stderr",
     "output_type": "stream",
     "text": [
      "WARNING:tensorflow:Can save best model only with val_loss available, skipping.\n"
     ]
    },
    {
     "name": "stdout",
     "output_type": "stream",
     "text": [
      "17/17 [==============================] - 9s 505ms/step - loss: 0.0087 - semantic_0_loss: 0.0021 - semantic_1_loss: 0.0054 - semantic_2_loss: 0.0012 - lr: 5.4716e-05\n",
      "Epoch 62/200\n",
      "17/17 [==============================] - ETA: 0s - loss: 0.0085 - semantic_0_loss: 0.0020 - semantic_1_loss: 0.0053 - semantic_2_loss: 0.0011WARNING:tensorflow:Can save best model only with val_loss available, skipping.\n"
     ]
    },
    {
     "name": "stderr",
     "output_type": "stream",
     "text": [
      "WARNING:tensorflow:Can save best model only with val_loss available, skipping.\n"
     ]
    },
    {
     "name": "stdout",
     "output_type": "stream",
     "text": [
      "17/17 [==============================] - 9s 493ms/step - loss: 0.0085 - semantic_0_loss: 0.0020 - semantic_1_loss: 0.0053 - semantic_2_loss: 0.0011 - lr: 5.4169e-05\n",
      "Epoch 63/200\n",
      "17/17 [==============================] - ETA: 0s - loss: 0.0090 - semantic_0_loss: 0.0022 - semantic_1_loss: 0.0057 - semantic_2_loss: 0.0011WARNING:tensorflow:Can save best model only with val_loss available, skipping.\n"
     ]
    },
    {
     "name": "stderr",
     "output_type": "stream",
     "text": [
      "WARNING:tensorflow:Can save best model only with val_loss available, skipping.\n"
     ]
    },
    {
     "name": "stdout",
     "output_type": "stream",
     "text": [
      "17/17 [==============================] - 9s 490ms/step - loss: 0.0090 - semantic_0_loss: 0.0022 - semantic_1_loss: 0.0057 - semantic_2_loss: 0.0011 - lr: 5.3627e-05\n",
      "Epoch 64/200\n",
      "17/17 [==============================] - ETA: 0s - loss: 0.0089 - semantic_0_loss: 0.0022 - semantic_1_loss: 0.0056 - semantic_2_loss: 0.0012WARNING:tensorflow:Can save best model only with val_loss available, skipping.\n"
     ]
    },
    {
     "name": "stderr",
     "output_type": "stream",
     "text": [
      "WARNING:tensorflow:Can save best model only with val_loss available, skipping.\n"
     ]
    },
    {
     "name": "stdout",
     "output_type": "stream",
     "text": [
      "17/17 [==============================] - 9s 508ms/step - loss: 0.0089 - semantic_0_loss: 0.0022 - semantic_1_loss: 0.0056 - semantic_2_loss: 0.0012 - lr: 5.3091e-05\n",
      "Epoch 65/200\n",
      "17/17 [==============================] - ETA: 0s - loss: 0.0087 - semantic_0_loss: 0.0021 - semantic_1_loss: 0.0055 - semantic_2_loss: 0.0011WARNING:tensorflow:Can save best model only with val_loss available, skipping.\n"
     ]
    },
    {
     "name": "stderr",
     "output_type": "stream",
     "text": [
      "WARNING:tensorflow:Can save best model only with val_loss available, skipping.\n"
     ]
    },
    {
     "name": "stdout",
     "output_type": "stream",
     "text": [
      "17/17 [==============================] - 9s 497ms/step - loss: 0.0087 - semantic_0_loss: 0.0021 - semantic_1_loss: 0.0055 - semantic_2_loss: 0.0011 - lr: 5.2560e-05\n",
      "Epoch 66/200\n",
      "17/17 [==============================] - ETA: 0s - loss: 0.0085 - semantic_0_loss: 0.0021 - semantic_1_loss: 0.0053 - semantic_2_loss: 0.0011WARNING:tensorflow:Can save best model only with val_loss available, skipping.\n"
     ]
    },
    {
     "name": "stderr",
     "output_type": "stream",
     "text": [
      "WARNING:tensorflow:Can save best model only with val_loss available, skipping.\n"
     ]
    },
    {
     "name": "stdout",
     "output_type": "stream",
     "text": [
      "17/17 [==============================] - 9s 487ms/step - loss: 0.0085 - semantic_0_loss: 0.0021 - semantic_1_loss: 0.0053 - semantic_2_loss: 0.0011 - lr: 5.2034e-05\n",
      "Epoch 67/200\n",
      "17/17 [==============================] - ETA: 0s - loss: 0.0092 - semantic_0_loss: 0.0022 - semantic_1_loss: 0.0058 - semantic_2_loss: 0.0011WARNING:tensorflow:Can save best model only with val_loss available, skipping.\n"
     ]
    },
    {
     "name": "stderr",
     "output_type": "stream",
     "text": [
      "WARNING:tensorflow:Can save best model only with val_loss available, skipping.\n"
     ]
    },
    {
     "name": "stdout",
     "output_type": "stream",
     "text": [
      "17/17 [==============================] - 9s 508ms/step - loss: 0.0092 - semantic_0_loss: 0.0022 - semantic_1_loss: 0.0058 - semantic_2_loss: 0.0011 - lr: 5.1514e-05\n",
      "Epoch 68/200\n",
      "17/17 [==============================] - ETA: 0s - loss: 0.0085 - semantic_0_loss: 0.0020 - semantic_1_loss: 0.0054 - semantic_2_loss: 0.0011WARNING:tensorflow:Can save best model only with val_loss available, skipping.\n"
     ]
    },
    {
     "name": "stderr",
     "output_type": "stream",
     "text": [
      "WARNING:tensorflow:Can save best model only with val_loss available, skipping.\n"
     ]
    },
    {
     "name": "stdout",
     "output_type": "stream",
     "text": [
      "17/17 [==============================] - 9s 493ms/step - loss: 0.0085 - semantic_0_loss: 0.0020 - semantic_1_loss: 0.0054 - semantic_2_loss: 0.0011 - lr: 5.0999e-05\n",
      "Epoch 69/200\n",
      "17/17 [==============================] - ETA: 0s - loss: 0.0090 - semantic_0_loss: 0.0022 - semantic_1_loss: 0.0057 - semantic_2_loss: 0.0011WARNING:tensorflow:Can save best model only with val_loss available, skipping.\n"
     ]
    },
    {
     "name": "stderr",
     "output_type": "stream",
     "text": [
      "WARNING:tensorflow:Can save best model only with val_loss available, skipping.\n"
     ]
    },
    {
     "name": "stdout",
     "output_type": "stream",
     "text": [
      "17/17 [==============================] - 9s 494ms/step - loss: 0.0090 - semantic_0_loss: 0.0022 - semantic_1_loss: 0.0057 - semantic_2_loss: 0.0011 - lr: 5.0489e-05\n",
      "Epoch 70/200\n",
      "17/17 [==============================] - ETA: 0s - loss: 0.0094 - semantic_0_loss: 0.0023 - semantic_1_loss: 0.0059 - semantic_2_loss: 0.0012WARNING:tensorflow:Can save best model only with val_loss available, skipping.\n"
     ]
    },
    {
     "name": "stderr",
     "output_type": "stream",
     "text": [
      "WARNING:tensorflow:Can save best model only with val_loss available, skipping.\n"
     ]
    },
    {
     "name": "stdout",
     "output_type": "stream",
     "text": [
      "17/17 [==============================] - 9s 521ms/step - loss: 0.0094 - semantic_0_loss: 0.0023 - semantic_1_loss: 0.0059 - semantic_2_loss: 0.0012 - lr: 4.9984e-05\n",
      "Epoch 71/200\n",
      "17/17 [==============================] - ETA: 0s - loss: 0.0088 - semantic_0_loss: 0.0021 - semantic_1_loss: 0.0055 - semantic_2_loss: 0.0011WARNING:tensorflow:Can save best model only with val_loss available, skipping.\n"
     ]
    },
    {
     "name": "stderr",
     "output_type": "stream",
     "text": [
      "WARNING:tensorflow:Can save best model only with val_loss available, skipping.\n"
     ]
    },
    {
     "name": "stdout",
     "output_type": "stream",
     "text": [
      "17/17 [==============================] - 9s 499ms/step - loss: 0.0088 - semantic_0_loss: 0.0021 - semantic_1_loss: 0.0055 - semantic_2_loss: 0.0011 - lr: 4.9484e-05\n",
      "Epoch 72/200\n",
      "17/17 [==============================] - ETA: 0s - loss: 0.0089 - semantic_0_loss: 0.0022 - semantic_1_loss: 0.0056 - semantic_2_loss: 0.0011WARNING:tensorflow:Can save best model only with val_loss available, skipping.\n"
     ]
    },
    {
     "name": "stderr",
     "output_type": "stream",
     "text": [
      "WARNING:tensorflow:Can save best model only with val_loss available, skipping.\n"
     ]
    },
    {
     "name": "stdout",
     "output_type": "stream",
     "text": [
      "17/17 [==============================] - 9s 509ms/step - loss: 0.0089 - semantic_0_loss: 0.0022 - semantic_1_loss: 0.0056 - semantic_2_loss: 0.0011 - lr: 4.8989e-05\n",
      "Epoch 73/200\n",
      "17/17 [==============================] - ETA: 0s - loss: 0.0091 - semantic_0_loss: 0.0022 - semantic_1_loss: 0.0057 - semantic_2_loss: 0.0012WARNING:tensorflow:Can save best model only with val_loss available, skipping.\n"
     ]
    },
    {
     "name": "stderr",
     "output_type": "stream",
     "text": [
      "WARNING:tensorflow:Can save best model only with val_loss available, skipping.\n"
     ]
    },
    {
     "name": "stdout",
     "output_type": "stream",
     "text": [
      "17/17 [==============================] - 9s 509ms/step - loss: 0.0091 - semantic_0_loss: 0.0022 - semantic_1_loss: 0.0057 - semantic_2_loss: 0.0012 - lr: 4.8499e-05\n",
      "Epoch 74/200\n",
      "17/17 [==============================] - ETA: 0s - loss: 0.0087 - semantic_0_loss: 0.0021 - semantic_1_loss: 0.0055 - semantic_2_loss: 0.0011WARNING:tensorflow:Can save best model only with val_loss available, skipping.\n"
     ]
    },
    {
     "name": "stderr",
     "output_type": "stream",
     "text": [
      "WARNING:tensorflow:Can save best model only with val_loss available, skipping.\n"
     ]
    },
    {
     "name": "stdout",
     "output_type": "stream",
     "text": [
      "17/17 [==============================] - 9s 498ms/step - loss: 0.0087 - semantic_0_loss: 0.0021 - semantic_1_loss: 0.0055 - semantic_2_loss: 0.0011 - lr: 4.8014e-05\n",
      "Epoch 75/200\n",
      "17/17 [==============================] - ETA: 0s - loss: 0.0089 - semantic_0_loss: 0.0021 - semantic_1_loss: 0.0056 - semantic_2_loss: 0.0011WARNING:tensorflow:Can save best model only with val_loss available, skipping.\n"
     ]
    },
    {
     "name": "stderr",
     "output_type": "stream",
     "text": [
      "WARNING:tensorflow:Can save best model only with val_loss available, skipping.\n"
     ]
    },
    {
     "name": "stdout",
     "output_type": "stream",
     "text": [
      "17/17 [==============================] - 9s 507ms/step - loss: 0.0089 - semantic_0_loss: 0.0021 - semantic_1_loss: 0.0056 - semantic_2_loss: 0.0011 - lr: 4.7534e-05\n",
      "Epoch 76/200\n",
      "17/17 [==============================] - ETA: 0s - loss: 0.0086 - semantic_0_loss: 0.0021 - semantic_1_loss: 0.0054 - semantic_2_loss: 0.0011WARNING:tensorflow:Can save best model only with val_loss available, skipping.\n"
     ]
    },
    {
     "name": "stderr",
     "output_type": "stream",
     "text": [
      "WARNING:tensorflow:Can save best model only with val_loss available, skipping.\n"
     ]
    },
    {
     "name": "stdout",
     "output_type": "stream",
     "text": [
      "17/17 [==============================] - 9s 485ms/step - loss: 0.0086 - semantic_0_loss: 0.0021 - semantic_1_loss: 0.0054 - semantic_2_loss: 0.0011 - lr: 4.7059e-05\n",
      "Epoch 77/200\n",
      "17/17 [==============================] - ETA: 0s - loss: 0.0091 - semantic_0_loss: 0.0022 - semantic_1_loss: 0.0057 - semantic_2_loss: 0.0012WARNING:tensorflow:Can save best model only with val_loss available, skipping.\n"
     ]
    },
    {
     "name": "stderr",
     "output_type": "stream",
     "text": [
      "WARNING:tensorflow:Can save best model only with val_loss available, skipping.\n"
     ]
    },
    {
     "name": "stdout",
     "output_type": "stream",
     "text": [
      "17/17 [==============================] - 9s 499ms/step - loss: 0.0091 - semantic_0_loss: 0.0022 - semantic_1_loss: 0.0057 - semantic_2_loss: 0.0012 - lr: 4.6588e-05\n",
      "Epoch 78/200\n",
      "17/17 [==============================] - ETA: 0s - loss: 0.0085 - semantic_0_loss: 0.0021 - semantic_1_loss: 0.0053 - semantic_2_loss: 0.0011WARNING:tensorflow:Can save best model only with val_loss available, skipping.\n"
     ]
    },
    {
     "name": "stderr",
     "output_type": "stream",
     "text": [
      "WARNING:tensorflow:Can save best model only with val_loss available, skipping.\n"
     ]
    },
    {
     "name": "stdout",
     "output_type": "stream",
     "text": [
      "17/17 [==============================] - 9s 502ms/step - loss: 0.0085 - semantic_0_loss: 0.0021 - semantic_1_loss: 0.0053 - semantic_2_loss: 0.0011 - lr: 4.6122e-05\n",
      "Epoch 79/200\n",
      "17/17 [==============================] - ETA: 0s - loss: 0.0087 - semantic_0_loss: 0.0021 - semantic_1_loss: 0.0055 - semantic_2_loss: 0.0011WARNING:tensorflow:Can save best model only with val_loss available, skipping.\n"
     ]
    },
    {
     "name": "stderr",
     "output_type": "stream",
     "text": [
      "WARNING:tensorflow:Can save best model only with val_loss available, skipping.\n"
     ]
    },
    {
     "name": "stdout",
     "output_type": "stream",
     "text": [
      "17/17 [==============================] - 9s 498ms/step - loss: 0.0087 - semantic_0_loss: 0.0021 - semantic_1_loss: 0.0055 - semantic_2_loss: 0.0011 - lr: 4.5661e-05\n",
      "Epoch 80/200\n",
      "17/17 [==============================] - ETA: 0s - loss: 0.0087 - semantic_0_loss: 0.0021 - semantic_1_loss: 0.0055 - semantic_2_loss: 0.0011WARNING:tensorflow:Can save best model only with val_loss available, skipping.\n"
     ]
    },
    {
     "name": "stderr",
     "output_type": "stream",
     "text": [
      "WARNING:tensorflow:Can save best model only with val_loss available, skipping.\n"
     ]
    },
    {
     "name": "stdout",
     "output_type": "stream",
     "text": [
      "17/17 [==============================] - 9s 497ms/step - loss: 0.0087 - semantic_0_loss: 0.0021 - semantic_1_loss: 0.0055 - semantic_2_loss: 0.0011 - lr: 4.5204e-05\n",
      "Epoch 81/200\n",
      "17/17 [==============================] - ETA: 0s - loss: 0.0085 - semantic_0_loss: 0.0021 - semantic_1_loss: 0.0053 - semantic_2_loss: 0.0011WARNING:tensorflow:Can save best model only with val_loss available, skipping.\n"
     ]
    },
    {
     "name": "stderr",
     "output_type": "stream",
     "text": [
      "WARNING:tensorflow:Can save best model only with val_loss available, skipping.\n"
     ]
    },
    {
     "name": "stdout",
     "output_type": "stream",
     "text": [
      "17/17 [==============================] - 9s 494ms/step - loss: 0.0085 - semantic_0_loss: 0.0021 - semantic_1_loss: 0.0053 - semantic_2_loss: 0.0011 - lr: 4.4752e-05\n",
      "Epoch 82/200\n",
      "17/17 [==============================] - ETA: 0s - loss: 0.0089 - semantic_0_loss: 0.0022 - semantic_1_loss: 0.0056 - semantic_2_loss: 0.0011WARNING:tensorflow:Can save best model only with val_loss available, skipping.\n"
     ]
    },
    {
     "name": "stderr",
     "output_type": "stream",
     "text": [
      "WARNING:tensorflow:Can save best model only with val_loss available, skipping.\n"
     ]
    },
    {
     "name": "stdout",
     "output_type": "stream",
     "text": [
      "17/17 [==============================] - 9s 510ms/step - loss: 0.0089 - semantic_0_loss: 0.0022 - semantic_1_loss: 0.0056 - semantic_2_loss: 0.0011 - lr: 4.4305e-05\n",
      "Epoch 83/200\n",
      "17/17 [==============================] - ETA: 0s - loss: 0.0085 - semantic_0_loss: 0.0021 - semantic_1_loss: 0.0053 - semantic_2_loss: 0.0011WARNING:tensorflow:Can save best model only with val_loss available, skipping.\n"
     ]
    },
    {
     "name": "stderr",
     "output_type": "stream",
     "text": [
      "WARNING:tensorflow:Can save best model only with val_loss available, skipping.\n"
     ]
    },
    {
     "name": "stdout",
     "output_type": "stream",
     "text": [
      "17/17 [==============================] - 9s 507ms/step - loss: 0.0085 - semantic_0_loss: 0.0021 - semantic_1_loss: 0.0053 - semantic_2_loss: 0.0011 - lr: 4.3862e-05\n",
      "Epoch 84/200\n",
      "17/17 [==============================] - ETA: 0s - loss: 0.0083 - semantic_0_loss: 0.0021 - semantic_1_loss: 0.0052 - semantic_2_loss: 0.0011WARNING:tensorflow:Can save best model only with val_loss available, skipping.\n"
     ]
    },
    {
     "name": "stderr",
     "output_type": "stream",
     "text": [
      "WARNING:tensorflow:Can save best model only with val_loss available, skipping.\n"
     ]
    },
    {
     "name": "stdout",
     "output_type": "stream",
     "text": [
      "17/17 [==============================] - 9s 506ms/step - loss: 0.0083 - semantic_0_loss: 0.0021 - semantic_1_loss: 0.0052 - semantic_2_loss: 0.0011 - lr: 4.3423e-05\n",
      "Epoch 85/200\n",
      "17/17 [==============================] - ETA: 0s - loss: 0.0084 - semantic_0_loss: 0.0021 - semantic_1_loss: 0.0053 - semantic_2_loss: 0.0011WARNING:tensorflow:Can save best model only with val_loss available, skipping.\n"
     ]
    },
    {
     "name": "stderr",
     "output_type": "stream",
     "text": [
      "WARNING:tensorflow:Can save best model only with val_loss available, skipping.\n"
     ]
    },
    {
     "name": "stdout",
     "output_type": "stream",
     "text": [
      "17/17 [==============================] - 9s 498ms/step - loss: 0.0084 - semantic_0_loss: 0.0021 - semantic_1_loss: 0.0053 - semantic_2_loss: 0.0011 - lr: 4.2989e-05\n",
      "Epoch 86/200\n",
      "17/17 [==============================] - ETA: 0s - loss: 0.0085 - semantic_0_loss: 0.0021 - semantic_1_loss: 0.0053 - semantic_2_loss: 0.0011WARNING:tensorflow:Can save best model only with val_loss available, skipping.\n"
     ]
    },
    {
     "name": "stderr",
     "output_type": "stream",
     "text": [
      "WARNING:tensorflow:Can save best model only with val_loss available, skipping.\n"
     ]
    },
    {
     "name": "stdout",
     "output_type": "stream",
     "text": [
      "17/17 [==============================] - 9s 499ms/step - loss: 0.0085 - semantic_0_loss: 0.0021 - semantic_1_loss: 0.0053 - semantic_2_loss: 0.0011 - lr: 4.2559e-05\n",
      "Epoch 87/200\n",
      "17/17 [==============================] - ETA: 0s - loss: 0.0081 - semantic_0_loss: 0.0020 - semantic_1_loss: 0.0051 - semantic_2_loss: 0.0011WARNING:tensorflow:Can save best model only with val_loss available, skipping.\n"
     ]
    },
    {
     "name": "stderr",
     "output_type": "stream",
     "text": [
      "WARNING:tensorflow:Can save best model only with val_loss available, skipping.\n"
     ]
    },
    {
     "name": "stdout",
     "output_type": "stream",
     "text": [
      "17/17 [==============================] - 8s 489ms/step - loss: 0.0081 - semantic_0_loss: 0.0020 - semantic_1_loss: 0.0051 - semantic_2_loss: 0.0011 - lr: 4.2133e-05\n",
      "Epoch 88/200\n",
      "17/17 [==============================] - ETA: 0s - loss: 0.0086 - semantic_0_loss: 0.0021 - semantic_1_loss: 0.0054 - semantic_2_loss: 0.0011WARNING:tensorflow:Can save best model only with val_loss available, skipping.\n"
     ]
    },
    {
     "name": "stderr",
     "output_type": "stream",
     "text": [
      "WARNING:tensorflow:Can save best model only with val_loss available, skipping.\n"
     ]
    },
    {
     "name": "stdout",
     "output_type": "stream",
     "text": [
      "17/17 [==============================] - 9s 519ms/step - loss: 0.0086 - semantic_0_loss: 0.0021 - semantic_1_loss: 0.0054 - semantic_2_loss: 0.0011 - lr: 4.1712e-05\n",
      "Epoch 89/200\n",
      "17/17 [==============================] - ETA: 0s - loss: 0.0083 - semantic_0_loss: 0.0020 - semantic_1_loss: 0.0052 - semantic_2_loss: 0.0011WARNING:tensorflow:Can save best model only with val_loss available, skipping.\n"
     ]
    },
    {
     "name": "stderr",
     "output_type": "stream",
     "text": [
      "WARNING:tensorflow:Can save best model only with val_loss available, skipping.\n"
     ]
    },
    {
     "name": "stdout",
     "output_type": "stream",
     "text": [
      "17/17 [==============================] - 9s 505ms/step - loss: 0.0083 - semantic_0_loss: 0.0020 - semantic_1_loss: 0.0052 - semantic_2_loss: 0.0011 - lr: 4.1295e-05\n",
      "Epoch 90/200\n",
      "17/17 [==============================] - ETA: 0s - loss: 0.0083 - semantic_0_loss: 0.0020 - semantic_1_loss: 0.0052 - semantic_2_loss: 0.0011WARNING:tensorflow:Can save best model only with val_loss available, skipping.\n"
     ]
    },
    {
     "name": "stderr",
     "output_type": "stream",
     "text": [
      "WARNING:tensorflow:Can save best model only with val_loss available, skipping.\n"
     ]
    },
    {
     "name": "stdout",
     "output_type": "stream",
     "text": [
      "17/17 [==============================] - 9s 487ms/step - loss: 0.0083 - semantic_0_loss: 0.0020 - semantic_1_loss: 0.0052 - semantic_2_loss: 0.0011 - lr: 4.0882e-05\n",
      "Epoch 91/200\n",
      "17/17 [==============================] - ETA: 0s - loss: 0.0084 - semantic_0_loss: 0.0021 - semantic_1_loss: 0.0052 - semantic_2_loss: 0.0011WARNING:tensorflow:Can save best model only with val_loss available, skipping.\n"
     ]
    },
    {
     "name": "stderr",
     "output_type": "stream",
     "text": [
      "WARNING:tensorflow:Can save best model only with val_loss available, skipping.\n"
     ]
    },
    {
     "name": "stdout",
     "output_type": "stream",
     "text": [
      "17/17 [==============================] - 9s 490ms/step - loss: 0.0084 - semantic_0_loss: 0.0021 - semantic_1_loss: 0.0052 - semantic_2_loss: 0.0011 - lr: 4.0473e-05\n",
      "Epoch 92/200\n",
      "17/17 [==============================] - ETA: 0s - loss: 0.0089 - semantic_0_loss: 0.0022 - semantic_1_loss: 0.0056 - semantic_2_loss: 0.0011WARNING:tensorflow:Can save best model only with val_loss available, skipping.\n"
     ]
    },
    {
     "name": "stderr",
     "output_type": "stream",
     "text": [
      "WARNING:tensorflow:Can save best model only with val_loss available, skipping.\n"
     ]
    },
    {
     "name": "stdout",
     "output_type": "stream",
     "text": [
      "17/17 [==============================] - 9s 537ms/step - loss: 0.0089 - semantic_0_loss: 0.0022 - semantic_1_loss: 0.0056 - semantic_2_loss: 0.0011 - lr: 4.0068e-05\n",
      "Epoch 93/200\n",
      "17/17 [==============================] - ETA: 0s - loss: 0.0086 - semantic_0_loss: 0.0021 - semantic_1_loss: 0.0053 - semantic_2_loss: 0.0011WARNING:tensorflow:Can save best model only with val_loss available, skipping.\n"
     ]
    },
    {
     "name": "stderr",
     "output_type": "stream",
     "text": [
      "WARNING:tensorflow:Can save best model only with val_loss available, skipping.\n"
     ]
    },
    {
     "name": "stdout",
     "output_type": "stream",
     "text": [
      "17/17 [==============================] - 9s 505ms/step - loss: 0.0086 - semantic_0_loss: 0.0021 - semantic_1_loss: 0.0053 - semantic_2_loss: 0.0011 - lr: 3.9668e-05\n",
      "Epoch 94/200\n",
      "17/17 [==============================] - ETA: 0s - loss: 0.0081 - semantic_0_loss: 0.0020 - semantic_1_loss: 0.0051 - semantic_2_loss: 0.0011WARNING:tensorflow:Can save best model only with val_loss available, skipping.\n"
     ]
    },
    {
     "name": "stderr",
     "output_type": "stream",
     "text": [
      "WARNING:tensorflow:Can save best model only with val_loss available, skipping.\n"
     ]
    },
    {
     "name": "stdout",
     "output_type": "stream",
     "text": [
      "17/17 [==============================] - 9s 487ms/step - loss: 0.0081 - semantic_0_loss: 0.0020 - semantic_1_loss: 0.0051 - semantic_2_loss: 0.0011 - lr: 3.9271e-05\n",
      "Epoch 95/200\n",
      "17/17 [==============================] - ETA: 0s - loss: 0.0086 - semantic_0_loss: 0.0021 - semantic_1_loss: 0.0053 - semantic_2_loss: 0.0011WARNING:tensorflow:Can save best model only with val_loss available, skipping.\n"
     ]
    },
    {
     "name": "stderr",
     "output_type": "stream",
     "text": [
      "WARNING:tensorflow:Can save best model only with val_loss available, skipping.\n"
     ]
    },
    {
     "name": "stdout",
     "output_type": "stream",
     "text": [
      "17/17 [==============================] - 9s 497ms/step - loss: 0.0086 - semantic_0_loss: 0.0021 - semantic_1_loss: 0.0053 - semantic_2_loss: 0.0011 - lr: 3.8878e-05\n",
      "Epoch 96/200\n",
      "17/17 [==============================] - ETA: 0s - loss: 0.0084 - semantic_0_loss: 0.0021 - semantic_1_loss: 0.0052 - semantic_2_loss: 0.0011WARNING:tensorflow:Can save best model only with val_loss available, skipping.\n"
     ]
    },
    {
     "name": "stderr",
     "output_type": "stream",
     "text": [
      "WARNING:tensorflow:Can save best model only with val_loss available, skipping.\n"
     ]
    },
    {
     "name": "stdout",
     "output_type": "stream",
     "text": [
      "17/17 [==============================] - 9s 504ms/step - loss: 0.0084 - semantic_0_loss: 0.0021 - semantic_1_loss: 0.0052 - semantic_2_loss: 0.0011 - lr: 3.8490e-05\n",
      "Epoch 97/200\n",
      "17/17 [==============================] - ETA: 0s - loss: 0.0084 - semantic_0_loss: 0.0021 - semantic_1_loss: 0.0053 - semantic_2_loss: 0.0011WARNING:tensorflow:Can save best model only with val_loss available, skipping.\n"
     ]
    },
    {
     "name": "stderr",
     "output_type": "stream",
     "text": [
      "WARNING:tensorflow:Can save best model only with val_loss available, skipping.\n"
     ]
    },
    {
     "name": "stdout",
     "output_type": "stream",
     "text": [
      "17/17 [==============================] - 9s 499ms/step - loss: 0.0084 - semantic_0_loss: 0.0021 - semantic_1_loss: 0.0053 - semantic_2_loss: 0.0011 - lr: 3.8105e-05\n",
      "Epoch 98/200\n",
      "17/17 [==============================] - ETA: 0s - loss: 0.0082 - semantic_0_loss: 0.0020 - semantic_1_loss: 0.0051 - semantic_2_loss: 0.0011WARNING:tensorflow:Can save best model only with val_loss available, skipping.\n"
     ]
    },
    {
     "name": "stderr",
     "output_type": "stream",
     "text": [
      "WARNING:tensorflow:Can save best model only with val_loss available, skipping.\n"
     ]
    },
    {
     "name": "stdout",
     "output_type": "stream",
     "text": [
      "17/17 [==============================] - 9s 504ms/step - loss: 0.0082 - semantic_0_loss: 0.0020 - semantic_1_loss: 0.0051 - semantic_2_loss: 0.0011 - lr: 3.7724e-05\n",
      "Epoch 99/200\n",
      "17/17 [==============================] - ETA: 0s - loss: 0.0086 - semantic_0_loss: 0.0021 - semantic_1_loss: 0.0054 - semantic_2_loss: 0.0011WARNING:tensorflow:Can save best model only with val_loss available, skipping.\n"
     ]
    },
    {
     "name": "stderr",
     "output_type": "stream",
     "text": [
      "WARNING:tensorflow:Can save best model only with val_loss available, skipping.\n"
     ]
    },
    {
     "name": "stdout",
     "output_type": "stream",
     "text": [
      "17/17 [==============================] - 9s 507ms/step - loss: 0.0086 - semantic_0_loss: 0.0021 - semantic_1_loss: 0.0054 - semantic_2_loss: 0.0011 - lr: 3.7346e-05\n",
      "Epoch 100/200\n",
      "17/17 [==============================] - ETA: 0s - loss: 0.0081 - semantic_0_loss: 0.0020 - semantic_1_loss: 0.0051 - semantic_2_loss: 0.0011WARNING:tensorflow:Can save best model only with val_loss available, skipping.\n"
     ]
    },
    {
     "name": "stderr",
     "output_type": "stream",
     "text": [
      "WARNING:tensorflow:Can save best model only with val_loss available, skipping.\n"
     ]
    },
    {
     "name": "stdout",
     "output_type": "stream",
     "text": [
      "17/17 [==============================] - 9s 497ms/step - loss: 0.0081 - semantic_0_loss: 0.0020 - semantic_1_loss: 0.0051 - semantic_2_loss: 0.0011 - lr: 3.6973e-05\n",
      "Epoch 101/200\n",
      "17/17 [==============================] - ETA: 0s - loss: 0.0086 - semantic_0_loss: 0.0022 - semantic_1_loss: 0.0054 - semantic_2_loss: 0.0011WARNING:tensorflow:Can save best model only with val_loss available, skipping.\n"
     ]
    },
    {
     "name": "stderr",
     "output_type": "stream",
     "text": [
      "WARNING:tensorflow:Can save best model only with val_loss available, skipping.\n"
     ]
    },
    {
     "name": "stdout",
     "output_type": "stream",
     "text": [
      "17/17 [==============================] - 9s 497ms/step - loss: 0.0086 - semantic_0_loss: 0.0022 - semantic_1_loss: 0.0054 - semantic_2_loss: 0.0011 - lr: 3.6603e-05\n",
      "Epoch 102/200\n",
      "17/17 [==============================] - ETA: 0s - loss: 0.0083 - semantic_0_loss: 0.0020 - semantic_1_loss: 0.0052 - semantic_2_loss: 0.0011WARNING:tensorflow:Can save best model only with val_loss available, skipping.\n"
     ]
    },
    {
     "name": "stderr",
     "output_type": "stream",
     "text": [
      "WARNING:tensorflow:Can save best model only with val_loss available, skipping.\n"
     ]
    },
    {
     "name": "stdout",
     "output_type": "stream",
     "text": [
      "17/17 [==============================] - 9s 496ms/step - loss: 0.0083 - semantic_0_loss: 0.0020 - semantic_1_loss: 0.0052 - semantic_2_loss: 0.0011 - lr: 3.6237e-05\n",
      "Epoch 103/200\n",
      "17/17 [==============================] - ETA: 0s - loss: 0.0081 - semantic_0_loss: 0.0020 - semantic_1_loss: 0.0051 - semantic_2_loss: 0.0011WARNING:tensorflow:Can save best model only with val_loss available, skipping.\n"
     ]
    },
    {
     "name": "stderr",
     "output_type": "stream",
     "text": [
      "WARNING:tensorflow:Can save best model only with val_loss available, skipping.\n"
     ]
    },
    {
     "name": "stdout",
     "output_type": "stream",
     "text": [
      "17/17 [==============================] - 9s 497ms/step - loss: 0.0081 - semantic_0_loss: 0.0020 - semantic_1_loss: 0.0051 - semantic_2_loss: 0.0011 - lr: 3.5875e-05\n",
      "Epoch 104/200\n",
      "17/17 [==============================] - ETA: 0s - loss: 0.0082 - semantic_0_loss: 0.0020 - semantic_1_loss: 0.0051 - semantic_2_loss: 0.0011WARNING:tensorflow:Can save best model only with val_loss available, skipping.\n"
     ]
    },
    {
     "name": "stderr",
     "output_type": "stream",
     "text": [
      "WARNING:tensorflow:Can save best model only with val_loss available, skipping.\n"
     ]
    },
    {
     "name": "stdout",
     "output_type": "stream",
     "text": [
      "17/17 [==============================] - 9s 493ms/step - loss: 0.0082 - semantic_0_loss: 0.0020 - semantic_1_loss: 0.0051 - semantic_2_loss: 0.0011 - lr: 3.5516e-05\n",
      "Epoch 105/200\n",
      "17/17 [==============================] - ETA: 0s - loss: 0.0085 - semantic_0_loss: 0.0021 - semantic_1_loss: 0.0053 - semantic_2_loss: 0.0011WARNING:tensorflow:Can save best model only with val_loss available, skipping.\n"
     ]
    },
    {
     "name": "stderr",
     "output_type": "stream",
     "text": [
      "WARNING:tensorflow:Can save best model only with val_loss available, skipping.\n"
     ]
    },
    {
     "name": "stdout",
     "output_type": "stream",
     "text": [
      "17/17 [==============================] - 9s 490ms/step - loss: 0.0085 - semantic_0_loss: 0.0021 - semantic_1_loss: 0.0053 - semantic_2_loss: 0.0011 - lr: 3.5161e-05\n",
      "Epoch 106/200\n",
      "17/17 [==============================] - ETA: 0s - loss: 0.0086 - semantic_0_loss: 0.0022 - semantic_1_loss: 0.0053 - semantic_2_loss: 0.0011WARNING:tensorflow:Can save best model only with val_loss available, skipping.\n"
     ]
    },
    {
     "name": "stderr",
     "output_type": "stream",
     "text": [
      "WARNING:tensorflow:Can save best model only with val_loss available, skipping.\n"
     ]
    },
    {
     "name": "stdout",
     "output_type": "stream",
     "text": [
      "17/17 [==============================] - 9s 499ms/step - loss: 0.0086 - semantic_0_loss: 0.0022 - semantic_1_loss: 0.0053 - semantic_2_loss: 0.0011 - lr: 3.4809e-05\n",
      "Epoch 107/200\n",
      "17/17 [==============================] - ETA: 0s - loss: 0.0084 - semantic_0_loss: 0.0021 - semantic_1_loss: 0.0052 - semantic_2_loss: 0.0011WARNING:tensorflow:Can save best model only with val_loss available, skipping.\n"
     ]
    },
    {
     "name": "stderr",
     "output_type": "stream",
     "text": [
      "WARNING:tensorflow:Can save best model only with val_loss available, skipping.\n"
     ]
    },
    {
     "name": "stdout",
     "output_type": "stream",
     "text": [
      "17/17 [==============================] - 9s 484ms/step - loss: 0.0084 - semantic_0_loss: 0.0021 - semantic_1_loss: 0.0052 - semantic_2_loss: 0.0011 - lr: 3.4461e-05\n",
      "Epoch 108/200\n",
      "17/17 [==============================] - ETA: 0s - loss: 0.0083 - semantic_0_loss: 0.0020 - semantic_1_loss: 0.0052 - semantic_2_loss: 0.0011WARNING:tensorflow:Can save best model only with val_loss available, skipping.\n"
     ]
    },
    {
     "name": "stderr",
     "output_type": "stream",
     "text": [
      "WARNING:tensorflow:Can save best model only with val_loss available, skipping.\n"
     ]
    },
    {
     "name": "stdout",
     "output_type": "stream",
     "text": [
      "17/17 [==============================] - 9s 505ms/step - loss: 0.0083 - semantic_0_loss: 0.0020 - semantic_1_loss: 0.0052 - semantic_2_loss: 0.0011 - lr: 3.4117e-05\n",
      "Epoch 109/200\n",
      "17/17 [==============================] - ETA: 0s - loss: 0.0084 - semantic_0_loss: 0.0021 - semantic_1_loss: 0.0052 - semantic_2_loss: 0.0011WARNING:tensorflow:Can save best model only with val_loss available, skipping.\n"
     ]
    },
    {
     "name": "stderr",
     "output_type": "stream",
     "text": [
      "WARNING:tensorflow:Can save best model only with val_loss available, skipping.\n"
     ]
    },
    {
     "name": "stdout",
     "output_type": "stream",
     "text": [
      "17/17 [==============================] - 9s 510ms/step - loss: 0.0084 - semantic_0_loss: 0.0021 - semantic_1_loss: 0.0052 - semantic_2_loss: 0.0011 - lr: 3.3775e-05\n",
      "Epoch 110/200\n",
      "17/17 [==============================] - ETA: 0s - loss: 0.0086 - semantic_0_loss: 0.0021 - semantic_1_loss: 0.0053 - semantic_2_loss: 0.0011WARNING:tensorflow:Can save best model only with val_loss available, skipping.\n"
     ]
    },
    {
     "name": "stderr",
     "output_type": "stream",
     "text": [
      "WARNING:tensorflow:Can save best model only with val_loss available, skipping.\n"
     ]
    },
    {
     "name": "stdout",
     "output_type": "stream",
     "text": [
      "17/17 [==============================] - 9s 494ms/step - loss: 0.0086 - semantic_0_loss: 0.0021 - semantic_1_loss: 0.0053 - semantic_2_loss: 0.0011 - lr: 3.3438e-05\n",
      "Epoch 111/200\n",
      "17/17 [==============================] - ETA: 0s - loss: 0.0078 - semantic_0_loss: 0.0019 - semantic_1_loss: 0.0048 - semantic_2_loss: 0.0011WARNING:tensorflow:Can save best model only with val_loss available, skipping.\n"
     ]
    },
    {
     "name": "stderr",
     "output_type": "stream",
     "text": [
      "WARNING:tensorflow:Can save best model only with val_loss available, skipping.\n"
     ]
    },
    {
     "name": "stdout",
     "output_type": "stream",
     "text": [
      "17/17 [==============================] - 9s 492ms/step - loss: 0.0078 - semantic_0_loss: 0.0019 - semantic_1_loss: 0.0048 - semantic_2_loss: 0.0011 - lr: 3.3103e-05\n",
      "Epoch 112/200\n",
      "17/17 [==============================] - ETA: 0s - loss: 0.0084 - semantic_0_loss: 0.0021 - semantic_1_loss: 0.0052 - semantic_2_loss: 0.0011WARNING:tensorflow:Can save best model only with val_loss available, skipping.\n"
     ]
    },
    {
     "name": "stderr",
     "output_type": "stream",
     "text": [
      "WARNING:tensorflow:Can save best model only with val_loss available, skipping.\n"
     ]
    },
    {
     "name": "stdout",
     "output_type": "stream",
     "text": [
      "17/17 [==============================] - 9s 505ms/step - loss: 0.0084 - semantic_0_loss: 0.0021 - semantic_1_loss: 0.0052 - semantic_2_loss: 0.0011 - lr: 3.2772e-05\n",
      "Epoch 113/200\n",
      "17/17 [==============================] - ETA: 0s - loss: 0.0076 - semantic_0_loss: 0.0019 - semantic_1_loss: 0.0046 - semantic_2_loss: 0.0010WARNING:tensorflow:Can save best model only with val_loss available, skipping.\n"
     ]
    },
    {
     "name": "stderr",
     "output_type": "stream",
     "text": [
      "WARNING:tensorflow:Can save best model only with val_loss available, skipping.\n"
     ]
    },
    {
     "name": "stdout",
     "output_type": "stream",
     "text": [
      "17/17 [==============================] - 9s 494ms/step - loss: 0.0076 - semantic_0_loss: 0.0019 - semantic_1_loss: 0.0046 - semantic_2_loss: 0.0010 - lr: 3.2445e-05\n",
      "Epoch 114/200\n",
      "17/17 [==============================] - ETA: 0s - loss: 0.0084 - semantic_0_loss: 0.0021 - semantic_1_loss: 0.0052 - semantic_2_loss: 0.0011WARNING:tensorflow:Can save best model only with val_loss available, skipping.\n"
     ]
    },
    {
     "name": "stderr",
     "output_type": "stream",
     "text": [
      "WARNING:tensorflow:Can save best model only with val_loss available, skipping.\n"
     ]
    },
    {
     "name": "stdout",
     "output_type": "stream",
     "text": [
      "17/17 [==============================] - 9s 498ms/step - loss: 0.0084 - semantic_0_loss: 0.0021 - semantic_1_loss: 0.0052 - semantic_2_loss: 0.0011 - lr: 3.2120e-05\n",
      "Epoch 115/200\n",
      "17/17 [==============================] - ETA: 0s - loss: 0.0082 - semantic_0_loss: 0.0020 - semantic_1_loss: 0.0051 - semantic_2_loss: 0.0011WARNING:tensorflow:Can save best model only with val_loss available, skipping.\n"
     ]
    },
    {
     "name": "stderr",
     "output_type": "stream",
     "text": [
      "WARNING:tensorflow:Can save best model only with val_loss available, skipping.\n"
     ]
    },
    {
     "name": "stdout",
     "output_type": "stream",
     "text": [
      "17/17 [==============================] - 9s 495ms/step - loss: 0.0082 - semantic_0_loss: 0.0020 - semantic_1_loss: 0.0051 - semantic_2_loss: 0.0011 - lr: 3.1799e-05\n",
      "Epoch 116/200\n",
      "17/17 [==============================] - ETA: 0s - loss: 0.0079 - semantic_0_loss: 0.0020 - semantic_1_loss: 0.0048 - semantic_2_loss: 0.0010WARNING:tensorflow:Can save best model only with val_loss available, skipping.\n"
     ]
    },
    {
     "name": "stderr",
     "output_type": "stream",
     "text": [
      "WARNING:tensorflow:Can save best model only with val_loss available, skipping.\n"
     ]
    },
    {
     "name": "stdout",
     "output_type": "stream",
     "text": [
      "17/17 [==============================] - 9s 496ms/step - loss: 0.0079 - semantic_0_loss: 0.0020 - semantic_1_loss: 0.0048 - semantic_2_loss: 0.0010 - lr: 3.1481e-05\n",
      "Epoch 117/200\n",
      "17/17 [==============================] - ETA: 0s - loss: 0.0083 - semantic_0_loss: 0.0020 - semantic_1_loss: 0.0051 - semantic_2_loss: 0.0011WARNING:tensorflow:Can save best model only with val_loss available, skipping.\n"
     ]
    },
    {
     "name": "stderr",
     "output_type": "stream",
     "text": [
      "WARNING:tensorflow:Can save best model only with val_loss available, skipping.\n"
     ]
    },
    {
     "name": "stdout",
     "output_type": "stream",
     "text": [
      "17/17 [==============================] - 9s 496ms/step - loss: 0.0083 - semantic_0_loss: 0.0020 - semantic_1_loss: 0.0051 - semantic_2_loss: 0.0011 - lr: 3.1166e-05\n",
      "Epoch 118/200\n",
      "17/17 [==============================] - ETA: 0s - loss: 0.0083 - semantic_0_loss: 0.0021 - semantic_1_loss: 0.0051 - semantic_2_loss: 0.0011WARNING:tensorflow:Can save best model only with val_loss available, skipping.\n"
     ]
    },
    {
     "name": "stderr",
     "output_type": "stream",
     "text": [
      "WARNING:tensorflow:Can save best model only with val_loss available, skipping.\n"
     ]
    },
    {
     "name": "stdout",
     "output_type": "stream",
     "text": [
      "17/17 [==============================] - 9s 498ms/step - loss: 0.0083 - semantic_0_loss: 0.0021 - semantic_1_loss: 0.0051 - semantic_2_loss: 0.0011 - lr: 3.0854e-05\n",
      "Epoch 119/200\n",
      "17/17 [==============================] - ETA: 0s - loss: 0.0081 - semantic_0_loss: 0.0020 - semantic_1_loss: 0.0050 - semantic_2_loss: 0.0010WARNING:tensorflow:Can save best model only with val_loss available, skipping.\n"
     ]
    },
    {
     "name": "stderr",
     "output_type": "stream",
     "text": [
      "WARNING:tensorflow:Can save best model only with val_loss available, skipping.\n"
     ]
    },
    {
     "name": "stdout",
     "output_type": "stream",
     "text": [
      "17/17 [==============================] - 9s 515ms/step - loss: 0.0081 - semantic_0_loss: 0.0020 - semantic_1_loss: 0.0050 - semantic_2_loss: 0.0010 - lr: 3.0546e-05\n",
      "Epoch 120/200\n",
      "17/17 [==============================] - ETA: 0s - loss: 0.0078 - semantic_0_loss: 0.0020 - semantic_1_loss: 0.0048 - semantic_2_loss: 0.0010WARNING:tensorflow:Can save best model only with val_loss available, skipping.\n"
     ]
    },
    {
     "name": "stderr",
     "output_type": "stream",
     "text": [
      "WARNING:tensorflow:Can save best model only with val_loss available, skipping.\n"
     ]
    },
    {
     "name": "stdout",
     "output_type": "stream",
     "text": [
      "17/17 [==============================] - 9s 489ms/step - loss: 0.0078 - semantic_0_loss: 0.0020 - semantic_1_loss: 0.0048 - semantic_2_loss: 0.0010 - lr: 3.0240e-05\n",
      "Epoch 121/200\n",
      "17/17 [==============================] - ETA: 0s - loss: 0.0080 - semantic_0_loss: 0.0020 - semantic_1_loss: 0.0049 - semantic_2_loss: 0.0010WARNING:tensorflow:Can save best model only with val_loss available, skipping.\n"
     ]
    },
    {
     "name": "stderr",
     "output_type": "stream",
     "text": [
      "WARNING:tensorflow:Can save best model only with val_loss available, skipping.\n"
     ]
    },
    {
     "name": "stdout",
     "output_type": "stream",
     "text": [
      "17/17 [==============================] - 9s 490ms/step - loss: 0.0080 - semantic_0_loss: 0.0020 - semantic_1_loss: 0.0049 - semantic_2_loss: 0.0010 - lr: 2.9938e-05\n",
      "Epoch 122/200\n",
      "17/17 [==============================] - ETA: 0s - loss: 0.0075 - semantic_0_loss: 0.0019 - semantic_1_loss: 0.0046 - semantic_2_loss: 9.9689e-04WARNING:tensorflow:Can save best model only with val_loss available, skipping.\n"
     ]
    },
    {
     "name": "stderr",
     "output_type": "stream",
     "text": [
      "WARNING:tensorflow:Can save best model only with val_loss available, skipping.\n"
     ]
    },
    {
     "name": "stdout",
     "output_type": "stream",
     "text": [
      "17/17 [==============================] - 9s 488ms/step - loss: 0.0075 - semantic_0_loss: 0.0019 - semantic_1_loss: 0.0046 - semantic_2_loss: 9.9689e-04 - lr: 2.9639e-05\n",
      "Epoch 123/200\n",
      "17/17 [==============================] - ETA: 0s - loss: 0.0078 - semantic_0_loss: 0.0019 - semantic_1_loss: 0.0048 - semantic_2_loss: 0.0010WARNING:tensorflow:Can save best model only with val_loss available, skipping.\n"
     ]
    },
    {
     "name": "stderr",
     "output_type": "stream",
     "text": [
      "WARNING:tensorflow:Can save best model only with val_loss available, skipping.\n"
     ]
    },
    {
     "name": "stdout",
     "output_type": "stream",
     "text": [
      "17/17 [==============================] - 9s 500ms/step - loss: 0.0078 - semantic_0_loss: 0.0019 - semantic_1_loss: 0.0048 - semantic_2_loss: 0.0010 - lr: 2.9342e-05\n",
      "Epoch 124/200\n",
      "17/17 [==============================] - ETA: 0s - loss: 0.0080 - semantic_0_loss: 0.0020 - semantic_1_loss: 0.0050 - semantic_2_loss: 0.0011WARNING:tensorflow:Can save best model only with val_loss available, skipping.\n"
     ]
    },
    {
     "name": "stderr",
     "output_type": "stream",
     "text": [
      "WARNING:tensorflow:Can save best model only with val_loss available, skipping.\n"
     ]
    },
    {
     "name": "stdout",
     "output_type": "stream",
     "text": [
      "17/17 [==============================] - 8s 481ms/step - loss: 0.0080 - semantic_0_loss: 0.0020 - semantic_1_loss: 0.0050 - semantic_2_loss: 0.0011 - lr: 2.9049e-05\n",
      "Epoch 125/200\n",
      "17/17 [==============================] - ETA: 0s - loss: 0.0079 - semantic_0_loss: 0.0020 - semantic_1_loss: 0.0049 - semantic_2_loss: 0.0010WARNING:tensorflow:Can save best model only with val_loss available, skipping.\n"
     ]
    },
    {
     "name": "stderr",
     "output_type": "stream",
     "text": [
      "WARNING:tensorflow:Can save best model only with val_loss available, skipping.\n"
     ]
    },
    {
     "name": "stdout",
     "output_type": "stream",
     "text": [
      "17/17 [==============================] - 8s 514ms/step - loss: 0.0079 - semantic_0_loss: 0.0020 - semantic_1_loss: 0.0049 - semantic_2_loss: 0.0010 - lr: 2.8758e-05\n",
      "Epoch 126/200\n",
      "17/17 [==============================] - ETA: 0s - loss: 0.0080 - semantic_0_loss: 0.0020 - semantic_1_loss: 0.0049 - semantic_2_loss: 0.0010WARNING:tensorflow:Can save best model only with val_loss available, skipping.\n"
     ]
    },
    {
     "name": "stderr",
     "output_type": "stream",
     "text": [
      "WARNING:tensorflow:Can save best model only with val_loss available, skipping.\n"
     ]
    },
    {
     "name": "stdout",
     "output_type": "stream",
     "text": [
      "17/17 [==============================] - 9s 490ms/step - loss: 0.0080 - semantic_0_loss: 0.0020 - semantic_1_loss: 0.0049 - semantic_2_loss: 0.0010 - lr: 2.8471e-05\n",
      "Epoch 127/200\n",
      "17/17 [==============================] - ETA: 0s - loss: 0.0079 - semantic_0_loss: 0.0020 - semantic_1_loss: 0.0049 - semantic_2_loss: 0.0010WARNING:tensorflow:Can save best model only with val_loss available, skipping.\n"
     ]
    },
    {
     "name": "stderr",
     "output_type": "stream",
     "text": [
      "WARNING:tensorflow:Can save best model only with val_loss available, skipping.\n"
     ]
    },
    {
     "name": "stdout",
     "output_type": "stream",
     "text": [
      "17/17 [==============================] - 9s 509ms/step - loss: 0.0079 - semantic_0_loss: 0.0020 - semantic_1_loss: 0.0049 - semantic_2_loss: 0.0010 - lr: 2.8186e-05\n",
      "Epoch 128/200\n",
      "17/17 [==============================] - ETA: 0s - loss: 0.0079 - semantic_0_loss: 0.0020 - semantic_1_loss: 0.0049 - semantic_2_loss: 0.0010WARNING:tensorflow:Can save best model only with val_loss available, skipping.\n"
     ]
    },
    {
     "name": "stderr",
     "output_type": "stream",
     "text": [
      "WARNING:tensorflow:Can save best model only with val_loss available, skipping.\n"
     ]
    },
    {
     "name": "stdout",
     "output_type": "stream",
     "text": [
      "17/17 [==============================] - 9s 490ms/step - loss: 0.0079 - semantic_0_loss: 0.0020 - semantic_1_loss: 0.0049 - semantic_2_loss: 0.0010 - lr: 2.7904e-05\n",
      "Epoch 129/200\n",
      "17/17 [==============================] - ETA: 0s - loss: 0.0082 - semantic_0_loss: 0.0021 - semantic_1_loss: 0.0051 - semantic_2_loss: 0.0011WARNING:tensorflow:Can save best model only with val_loss available, skipping.\n"
     ]
    },
    {
     "name": "stderr",
     "output_type": "stream",
     "text": [
      "WARNING:tensorflow:Can save best model only with val_loss available, skipping.\n"
     ]
    },
    {
     "name": "stdout",
     "output_type": "stream",
     "text": [
      "17/17 [==============================] - 9s 496ms/step - loss: 0.0082 - semantic_0_loss: 0.0021 - semantic_1_loss: 0.0051 - semantic_2_loss: 0.0011 - lr: 2.7625e-05\n",
      "Epoch 130/200\n",
      "17/17 [==============================] - ETA: 0s - loss: 0.0079 - semantic_0_loss: 0.0020 - semantic_1_loss: 0.0048 - semantic_2_loss: 0.0010WARNING:tensorflow:Can save best model only with val_loss available, skipping.\n"
     ]
    },
    {
     "name": "stderr",
     "output_type": "stream",
     "text": [
      "WARNING:tensorflow:Can save best model only with val_loss available, skipping.\n"
     ]
    },
    {
     "name": "stdout",
     "output_type": "stream",
     "text": [
      "17/17 [==============================] - 8s 487ms/step - loss: 0.0079 - semantic_0_loss: 0.0020 - semantic_1_loss: 0.0048 - semantic_2_loss: 0.0010 - lr: 2.7349e-05\n",
      "Epoch 131/200\n",
      "17/17 [==============================] - ETA: 0s - loss: 0.0080 - semantic_0_loss: 0.0020 - semantic_1_loss: 0.0049 - semantic_2_loss: 0.0010WARNING:tensorflow:Can save best model only with val_loss available, skipping.\n"
     ]
    },
    {
     "name": "stderr",
     "output_type": "stream",
     "text": [
      "WARNING:tensorflow:Can save best model only with val_loss available, skipping.\n"
     ]
    },
    {
     "name": "stdout",
     "output_type": "stream",
     "text": [
      "17/17 [==============================] - 9s 505ms/step - loss: 0.0080 - semantic_0_loss: 0.0020 - semantic_1_loss: 0.0049 - semantic_2_loss: 0.0010 - lr: 2.7075e-05\n",
      "Epoch 132/200\n",
      "17/17 [==============================] - ETA: 0s - loss: 0.0076 - semantic_0_loss: 0.0019 - semantic_1_loss: 0.0047 - semantic_2_loss: 0.0010WARNING:tensorflow:Can save best model only with val_loss available, skipping.\n"
     ]
    },
    {
     "name": "stderr",
     "output_type": "stream",
     "text": [
      "WARNING:tensorflow:Can save best model only with val_loss available, skipping.\n"
     ]
    },
    {
     "name": "stdout",
     "output_type": "stream",
     "text": [
      "17/17 [==============================] - 9s 494ms/step - loss: 0.0076 - semantic_0_loss: 0.0019 - semantic_1_loss: 0.0047 - semantic_2_loss: 0.0010 - lr: 2.6805e-05\n",
      "Epoch 133/200\n",
      "17/17 [==============================] - ETA: 0s - loss: 0.0083 - semantic_0_loss: 0.0021 - semantic_1_loss: 0.0051 - semantic_2_loss: 0.0011WARNING:tensorflow:Can save best model only with val_loss available, skipping.\n"
     ]
    },
    {
     "name": "stderr",
     "output_type": "stream",
     "text": [
      "WARNING:tensorflow:Can save best model only with val_loss available, skipping.\n"
     ]
    },
    {
     "name": "stdout",
     "output_type": "stream",
     "text": [
      "17/17 [==============================] - 9s 495ms/step - loss: 0.0083 - semantic_0_loss: 0.0021 - semantic_1_loss: 0.0051 - semantic_2_loss: 0.0011 - lr: 2.6537e-05\n",
      "Epoch 134/200\n",
      "17/17 [==============================] - ETA: 0s - loss: 0.0084 - semantic_0_loss: 0.0021 - semantic_1_loss: 0.0052 - semantic_2_loss: 0.0011WARNING:tensorflow:Can save best model only with val_loss available, skipping.\n"
     ]
    },
    {
     "name": "stderr",
     "output_type": "stream",
     "text": [
      "WARNING:tensorflow:Can save best model only with val_loss available, skipping.\n"
     ]
    },
    {
     "name": "stdout",
     "output_type": "stream",
     "text": [
      "17/17 [==============================] - 9s 492ms/step - loss: 0.0084 - semantic_0_loss: 0.0021 - semantic_1_loss: 0.0052 - semantic_2_loss: 0.0011 - lr: 2.6271e-05\n",
      "Epoch 135/200\n",
      "17/17 [==============================] - ETA: 0s - loss: 0.0079 - semantic_0_loss: 0.0020 - semantic_1_loss: 0.0048 - semantic_2_loss: 0.0011WARNING:tensorflow:Can save best model only with val_loss available, skipping.\n"
     ]
    },
    {
     "name": "stderr",
     "output_type": "stream",
     "text": [
      "WARNING:tensorflow:Can save best model only with val_loss available, skipping.\n"
     ]
    },
    {
     "name": "stdout",
     "output_type": "stream",
     "text": [
      "17/17 [==============================] - 9s 485ms/step - loss: 0.0079 - semantic_0_loss: 0.0020 - semantic_1_loss: 0.0048 - semantic_2_loss: 0.0011 - lr: 2.6009e-05\n",
      "Epoch 136/200\n",
      "17/17 [==============================] - ETA: 0s - loss: 0.0083 - semantic_0_loss: 0.0021 - semantic_1_loss: 0.0051 - semantic_2_loss: 0.0011WARNING:tensorflow:Can save best model only with val_loss available, skipping.\n"
     ]
    },
    {
     "name": "stderr",
     "output_type": "stream",
     "text": [
      "WARNING:tensorflow:Can save best model only with val_loss available, skipping.\n"
     ]
    },
    {
     "name": "stdout",
     "output_type": "stream",
     "text": [
      "17/17 [==============================] - 9s 498ms/step - loss: 0.0083 - semantic_0_loss: 0.0021 - semantic_1_loss: 0.0051 - semantic_2_loss: 0.0011 - lr: 2.5748e-05\n",
      "Epoch 137/200\n",
      "17/17 [==============================] - ETA: 0s - loss: 0.0083 - semantic_0_loss: 0.0021 - semantic_1_loss: 0.0051 - semantic_2_loss: 0.0011WARNING:tensorflow:Can save best model only with val_loss available, skipping.\n"
     ]
    },
    {
     "name": "stderr",
     "output_type": "stream",
     "text": [
      "WARNING:tensorflow:Can save best model only with val_loss available, skipping.\n"
     ]
    },
    {
     "name": "stdout",
     "output_type": "stream",
     "text": [
      "17/17 [==============================] - 9s 488ms/step - loss: 0.0083 - semantic_0_loss: 0.0021 - semantic_1_loss: 0.0051 - semantic_2_loss: 0.0011 - lr: 2.5491e-05\n",
      "Epoch 138/200\n",
      "17/17 [==============================] - ETA: 0s - loss: 0.0078 - semantic_0_loss: 0.0020 - semantic_1_loss: 0.0048 - semantic_2_loss: 0.0010WARNING:tensorflow:Can save best model only with val_loss available, skipping.\n"
     ]
    },
    {
     "name": "stderr",
     "output_type": "stream",
     "text": [
      "WARNING:tensorflow:Can save best model only with val_loss available, skipping.\n"
     ]
    },
    {
     "name": "stdout",
     "output_type": "stream",
     "text": [
      "17/17 [==============================] - 9s 497ms/step - loss: 0.0078 - semantic_0_loss: 0.0020 - semantic_1_loss: 0.0048 - semantic_2_loss: 0.0010 - lr: 2.5236e-05\n",
      "Epoch 139/200\n",
      "17/17 [==============================] - ETA: 0s - loss: 0.0079 - semantic_0_loss: 0.0020 - semantic_1_loss: 0.0048 - semantic_2_loss: 0.0010WARNING:tensorflow:Can save best model only with val_loss available, skipping.\n"
     ]
    },
    {
     "name": "stderr",
     "output_type": "stream",
     "text": [
      "WARNING:tensorflow:Can save best model only with val_loss available, skipping.\n"
     ]
    },
    {
     "name": "stdout",
     "output_type": "stream",
     "text": [
      "17/17 [==============================] - 9s 489ms/step - loss: 0.0079 - semantic_0_loss: 0.0020 - semantic_1_loss: 0.0048 - semantic_2_loss: 0.0010 - lr: 2.4984e-05\n",
      "Epoch 140/200\n",
      "17/17 [==============================] - ETA: 0s - loss: 0.0078 - semantic_0_loss: 0.0020 - semantic_1_loss: 0.0048 - semantic_2_loss: 0.0010WARNING:tensorflow:Can save best model only with val_loss available, skipping.\n"
     ]
    },
    {
     "name": "stderr",
     "output_type": "stream",
     "text": [
      "WARNING:tensorflow:Can save best model only with val_loss available, skipping.\n"
     ]
    },
    {
     "name": "stdout",
     "output_type": "stream",
     "text": [
      "17/17 [==============================] - 9s 503ms/step - loss: 0.0078 - semantic_0_loss: 0.0020 - semantic_1_loss: 0.0048 - semantic_2_loss: 0.0010 - lr: 2.4734e-05\n",
      "Epoch 141/200\n",
      "17/17 [==============================] - ETA: 0s - loss: 0.0078 - semantic_0_loss: 0.0020 - semantic_1_loss: 0.0048 - semantic_2_loss: 0.0010WARNING:tensorflow:Can save best model only with val_loss available, skipping.\n"
     ]
    },
    {
     "name": "stderr",
     "output_type": "stream",
     "text": [
      "WARNING:tensorflow:Can save best model only with val_loss available, skipping.\n"
     ]
    },
    {
     "name": "stdout",
     "output_type": "stream",
     "text": [
      "17/17 [==============================] - 9s 498ms/step - loss: 0.0078 - semantic_0_loss: 0.0020 - semantic_1_loss: 0.0048 - semantic_2_loss: 0.0010 - lr: 2.4487e-05\n",
      "Epoch 142/200\n",
      "17/17 [==============================] - ETA: 0s - loss: 0.0079 - semantic_0_loss: 0.0020 - semantic_1_loss: 0.0048 - semantic_2_loss: 0.0010WARNING:tensorflow:Can save best model only with val_loss available, skipping.\n"
     ]
    },
    {
     "name": "stderr",
     "output_type": "stream",
     "text": [
      "WARNING:tensorflow:Can save best model only with val_loss available, skipping.\n"
     ]
    },
    {
     "name": "stdout",
     "output_type": "stream",
     "text": [
      "17/17 [==============================] - 9s 500ms/step - loss: 0.0079 - semantic_0_loss: 0.0020 - semantic_1_loss: 0.0048 - semantic_2_loss: 0.0010 - lr: 2.4242e-05\n",
      "Epoch 143/200\n",
      "17/17 [==============================] - ETA: 0s - loss: 0.0082 - semantic_0_loss: 0.0020 - semantic_1_loss: 0.0051 - semantic_2_loss: 0.0011WARNING:tensorflow:Can save best model only with val_loss available, skipping.\n"
     ]
    },
    {
     "name": "stderr",
     "output_type": "stream",
     "text": [
      "WARNING:tensorflow:Can save best model only with val_loss available, skipping.\n"
     ]
    },
    {
     "name": "stdout",
     "output_type": "stream",
     "text": [
      "17/17 [==============================] - 9s 489ms/step - loss: 0.0082 - semantic_0_loss: 0.0020 - semantic_1_loss: 0.0051 - semantic_2_loss: 0.0011 - lr: 2.3999e-05\n",
      "Epoch 144/200\n",
      "17/17 [==============================] - ETA: 0s - loss: 0.0076 - semantic_0_loss: 0.0019 - semantic_1_loss: 0.0046 - semantic_2_loss: 0.0010WARNING:tensorflow:Can save best model only with val_loss available, skipping.\n"
     ]
    },
    {
     "name": "stderr",
     "output_type": "stream",
     "text": [
      "WARNING:tensorflow:Can save best model only with val_loss available, skipping.\n"
     ]
    },
    {
     "name": "stdout",
     "output_type": "stream",
     "text": [
      "17/17 [==============================] - 9s 507ms/step - loss: 0.0076 - semantic_0_loss: 0.0019 - semantic_1_loss: 0.0046 - semantic_2_loss: 0.0010 - lr: 2.3759e-05\n",
      "Epoch 145/200\n",
      "17/17 [==============================] - ETA: 0s - loss: 0.0080 - semantic_0_loss: 0.0020 - semantic_1_loss: 0.0050 - semantic_2_loss: 0.0010WARNING:tensorflow:Can save best model only with val_loss available, skipping.\n"
     ]
    },
    {
     "name": "stderr",
     "output_type": "stream",
     "text": [
      "WARNING:tensorflow:Can save best model only with val_loss available, skipping.\n"
     ]
    },
    {
     "name": "stdout",
     "output_type": "stream",
     "text": [
      "17/17 [==============================] - 9s 507ms/step - loss: 0.0080 - semantic_0_loss: 0.0020 - semantic_1_loss: 0.0050 - semantic_2_loss: 0.0010 - lr: 2.3522e-05\n",
      "Epoch 146/200\n",
      "17/17 [==============================] - ETA: 0s - loss: 0.0079 - semantic_0_loss: 0.0020 - semantic_1_loss: 0.0049 - semantic_2_loss: 0.0010WARNING:tensorflow:Can save best model only with val_loss available, skipping.\n"
     ]
    },
    {
     "name": "stderr",
     "output_type": "stream",
     "text": [
      "WARNING:tensorflow:Can save best model only with val_loss available, skipping.\n"
     ]
    },
    {
     "name": "stdout",
     "output_type": "stream",
     "text": [
      "17/17 [==============================] - 9s 496ms/step - loss: 0.0079 - semantic_0_loss: 0.0020 - semantic_1_loss: 0.0049 - semantic_2_loss: 0.0010 - lr: 2.3286e-05\n",
      "Epoch 147/200\n",
      "17/17 [==============================] - ETA: 0s - loss: 0.0076 - semantic_0_loss: 0.0019 - semantic_1_loss: 0.0047 - semantic_2_loss: 0.0010WARNING:tensorflow:Can save best model only with val_loss available, skipping.\n"
     ]
    },
    {
     "name": "stderr",
     "output_type": "stream",
     "text": [
      "WARNING:tensorflow:Can save best model only with val_loss available, skipping.\n"
     ]
    },
    {
     "name": "stdout",
     "output_type": "stream",
     "text": [
      "17/17 [==============================] - 9s 504ms/step - loss: 0.0076 - semantic_0_loss: 0.0019 - semantic_1_loss: 0.0047 - semantic_2_loss: 0.0010 - lr: 2.3054e-05\n",
      "Epoch 148/200\n",
      "17/17 [==============================] - ETA: 0s - loss: 0.0081 - semantic_0_loss: 0.0021 - semantic_1_loss: 0.0050 - semantic_2_loss: 0.0010WARNING:tensorflow:Can save best model only with val_loss available, skipping.\n"
     ]
    },
    {
     "name": "stderr",
     "output_type": "stream",
     "text": [
      "WARNING:tensorflow:Can save best model only with val_loss available, skipping.\n"
     ]
    },
    {
     "name": "stdout",
     "output_type": "stream",
     "text": [
      "17/17 [==============================] - 9s 508ms/step - loss: 0.0081 - semantic_0_loss: 0.0021 - semantic_1_loss: 0.0050 - semantic_2_loss: 0.0010 - lr: 2.2823e-05\n",
      "Epoch 149/200\n",
      "17/17 [==============================] - ETA: 0s - loss: 0.0076 - semantic_0_loss: 0.0019 - semantic_1_loss: 0.0047 - semantic_2_loss: 0.0010WARNING:tensorflow:Can save best model only with val_loss available, skipping.\n"
     ]
    },
    {
     "name": "stderr",
     "output_type": "stream",
     "text": [
      "WARNING:tensorflow:Can save best model only with val_loss available, skipping.\n"
     ]
    },
    {
     "name": "stdout",
     "output_type": "stream",
     "text": [
      "17/17 [==============================] - 9s 498ms/step - loss: 0.0076 - semantic_0_loss: 0.0019 - semantic_1_loss: 0.0047 - semantic_2_loss: 0.0010 - lr: 2.2595e-05\n",
      "Epoch 150/200\n",
      "17/17 [==============================] - ETA: 0s - loss: 0.0081 - semantic_0_loss: 0.0020 - semantic_1_loss: 0.0050 - semantic_2_loss: 0.0011WARNING:tensorflow:Can save best model only with val_loss available, skipping.\n"
     ]
    },
    {
     "name": "stderr",
     "output_type": "stream",
     "text": [
      "WARNING:tensorflow:Can save best model only with val_loss available, skipping.\n"
     ]
    },
    {
     "name": "stdout",
     "output_type": "stream",
     "text": [
      "17/17 [==============================] - 9s 516ms/step - loss: 0.0081 - semantic_0_loss: 0.0020 - semantic_1_loss: 0.0050 - semantic_2_loss: 0.0011 - lr: 2.2369e-05\n",
      "Epoch 151/200\n",
      "17/17 [==============================] - ETA: 0s - loss: 0.0079 - semantic_0_loss: 0.0020 - semantic_1_loss: 0.0049 - semantic_2_loss: 0.0010WARNING:tensorflow:Can save best model only with val_loss available, skipping.\n"
     ]
    },
    {
     "name": "stderr",
     "output_type": "stream",
     "text": [
      "WARNING:tensorflow:Can save best model only with val_loss available, skipping.\n"
     ]
    },
    {
     "name": "stdout",
     "output_type": "stream",
     "text": [
      "17/17 [==============================] - 8s 479ms/step - loss: 0.0079 - semantic_0_loss: 0.0020 - semantic_1_loss: 0.0049 - semantic_2_loss: 0.0010 - lr: 2.2145e-05\n",
      "Epoch 152/200\n",
      "17/17 [==============================] - ETA: 0s - loss: 0.0077 - semantic_0_loss: 0.0020 - semantic_1_loss: 0.0048 - semantic_2_loss: 0.0010WARNING:tensorflow:Can save best model only with val_loss available, skipping.\n"
     ]
    },
    {
     "name": "stderr",
     "output_type": "stream",
     "text": [
      "WARNING:tensorflow:Can save best model only with val_loss available, skipping.\n"
     ]
    },
    {
     "name": "stdout",
     "output_type": "stream",
     "text": [
      "17/17 [==============================] - 9s 496ms/step - loss: 0.0077 - semantic_0_loss: 0.0020 - semantic_1_loss: 0.0048 - semantic_2_loss: 0.0010 - lr: 2.1924e-05\n",
      "Epoch 153/200\n",
      "17/17 [==============================] - ETA: 0s - loss: 0.0081 - semantic_0_loss: 0.0020 - semantic_1_loss: 0.0050 - semantic_2_loss: 0.0011WARNING:tensorflow:Can save best model only with val_loss available, skipping.\n"
     ]
    },
    {
     "name": "stderr",
     "output_type": "stream",
     "text": [
      "WARNING:tensorflow:Can save best model only with val_loss available, skipping.\n"
     ]
    },
    {
     "name": "stdout",
     "output_type": "stream",
     "text": [
      "17/17 [==============================] - 9s 499ms/step - loss: 0.0081 - semantic_0_loss: 0.0020 - semantic_1_loss: 0.0050 - semantic_2_loss: 0.0011 - lr: 2.1704e-05\n",
      "Epoch 154/200\n",
      "17/17 [==============================] - ETA: 0s - loss: 0.0079 - semantic_0_loss: 0.0020 - semantic_1_loss: 0.0049 - semantic_2_loss: 0.0010WARNING:tensorflow:Can save best model only with val_loss available, skipping.\n"
     ]
    },
    {
     "name": "stderr",
     "output_type": "stream",
     "text": [
      "WARNING:tensorflow:Can save best model only with val_loss available, skipping.\n"
     ]
    },
    {
     "name": "stdout",
     "output_type": "stream",
     "text": [
      "17/17 [==============================] - 8s 476ms/step - loss: 0.0079 - semantic_0_loss: 0.0020 - semantic_1_loss: 0.0049 - semantic_2_loss: 0.0010 - lr: 2.1487e-05\n",
      "Epoch 155/200\n",
      "17/17 [==============================] - ETA: 0s - loss: 0.0076 - semantic_0_loss: 0.0019 - semantic_1_loss: 0.0046 - semantic_2_loss: 0.0010WARNING:tensorflow:Can save best model only with val_loss available, skipping.\n"
     ]
    },
    {
     "name": "stderr",
     "output_type": "stream",
     "text": [
      "WARNING:tensorflow:Can save best model only with val_loss available, skipping.\n"
     ]
    },
    {
     "name": "stdout",
     "output_type": "stream",
     "text": [
      "17/17 [==============================] - 9s 498ms/step - loss: 0.0076 - semantic_0_loss: 0.0019 - semantic_1_loss: 0.0046 - semantic_2_loss: 0.0010 - lr: 2.1273e-05\n",
      "Epoch 156/200\n",
      "17/17 [==============================] - ETA: 0s - loss: 0.0075 - semantic_0_loss: 0.0019 - semantic_1_loss: 0.0046 - semantic_2_loss: 9.8571e-04WARNING:tensorflow:Can save best model only with val_loss available, skipping.\n"
     ]
    },
    {
     "name": "stderr",
     "output_type": "stream",
     "text": [
      "WARNING:tensorflow:Can save best model only with val_loss available, skipping.\n"
     ]
    },
    {
     "name": "stdout",
     "output_type": "stream",
     "text": [
      "17/17 [==============================] - 9s 490ms/step - loss: 0.0075 - semantic_0_loss: 0.0019 - semantic_1_loss: 0.0046 - semantic_2_loss: 9.8571e-04 - lr: 2.1060e-05\n",
      "Epoch 157/200\n",
      "17/17 [==============================] - ETA: 0s - loss: 0.0081 - semantic_0_loss: 0.0021 - semantic_1_loss: 0.0049 - semantic_2_loss: 0.0011WARNING:tensorflow:Can save best model only with val_loss available, skipping.\n"
     ]
    },
    {
     "name": "stderr",
     "output_type": "stream",
     "text": [
      "WARNING:tensorflow:Can save best model only with val_loss available, skipping.\n"
     ]
    },
    {
     "name": "stdout",
     "output_type": "stream",
     "text": [
      "17/17 [==============================] - 9s 490ms/step - loss: 0.0081 - semantic_0_loss: 0.0021 - semantic_1_loss: 0.0049 - semantic_2_loss: 0.0011 - lr: 2.0849e-05\n",
      "Epoch 158/200\n",
      "17/17 [==============================] - ETA: 0s - loss: 0.0079 - semantic_0_loss: 0.0020 - semantic_1_loss: 0.0049 - semantic_2_loss: 0.0010WARNING:tensorflow:Can save best model only with val_loss available, skipping.\n"
     ]
    },
    {
     "name": "stderr",
     "output_type": "stream",
     "text": [
      "WARNING:tensorflow:Can save best model only with val_loss available, skipping.\n"
     ]
    },
    {
     "name": "stdout",
     "output_type": "stream",
     "text": [
      "17/17 [==============================] - 9s 521ms/step - loss: 0.0079 - semantic_0_loss: 0.0020 - semantic_1_loss: 0.0049 - semantic_2_loss: 0.0010 - lr: 2.0641e-05\n",
      "Epoch 159/200\n",
      "17/17 [==============================] - ETA: 0s - loss: 0.0074 - semantic_0_loss: 0.0019 - semantic_1_loss: 0.0045 - semantic_2_loss: 9.9175e-04WARNING:tensorflow:Can save best model only with val_loss available, skipping.\n"
     ]
    },
    {
     "name": "stderr",
     "output_type": "stream",
     "text": [
      "WARNING:tensorflow:Can save best model only with val_loss available, skipping.\n"
     ]
    },
    {
     "name": "stdout",
     "output_type": "stream",
     "text": [
      "17/17 [==============================] - 9s 515ms/step - loss: 0.0074 - semantic_0_loss: 0.0019 - semantic_1_loss: 0.0045 - semantic_2_loss: 9.9175e-04 - lr: 2.0434e-05\n",
      "Epoch 160/200\n",
      "17/17 [==============================] - ETA: 0s - loss: 0.0073 - semantic_0_loss: 0.0019 - semantic_1_loss: 0.0045 - semantic_2_loss: 9.9145e-04WARNING:tensorflow:Can save best model only with val_loss available, skipping.\n"
     ]
    },
    {
     "name": "stderr",
     "output_type": "stream",
     "text": [
      "WARNING:tensorflow:Can save best model only with val_loss available, skipping.\n"
     ]
    },
    {
     "name": "stdout",
     "output_type": "stream",
     "text": [
      "17/17 [==============================] - 8s 480ms/step - loss: 0.0073 - semantic_0_loss: 0.0019 - semantic_1_loss: 0.0045 - semantic_2_loss: 9.9145e-04 - lr: 2.0230e-05\n",
      "Epoch 161/200\n",
      "17/17 [==============================] - ETA: 0s - loss: 0.0078 - semantic_0_loss: 0.0020 - semantic_1_loss: 0.0047 - semantic_2_loss: 0.0010WARNING:tensorflow:Can save best model only with val_loss available, skipping.\n"
     ]
    },
    {
     "name": "stderr",
     "output_type": "stream",
     "text": [
      "WARNING:tensorflow:Can save best model only with val_loss available, skipping.\n"
     ]
    },
    {
     "name": "stdout",
     "output_type": "stream",
     "text": [
      "17/17 [==============================] - 9s 517ms/step - loss: 0.0078 - semantic_0_loss: 0.0020 - semantic_1_loss: 0.0047 - semantic_2_loss: 0.0010 - lr: 2.0028e-05\n",
      "Epoch 162/200\n",
      "17/17 [==============================] - ETA: 0s - loss: 0.0075 - semantic_0_loss: 0.0019 - semantic_1_loss: 0.0046 - semantic_2_loss: 9.9727e-04WARNING:tensorflow:Can save best model only with val_loss available, skipping.\n"
     ]
    },
    {
     "name": "stderr",
     "output_type": "stream",
     "text": [
      "WARNING:tensorflow:Can save best model only with val_loss available, skipping.\n"
     ]
    },
    {
     "name": "stdout",
     "output_type": "stream",
     "text": [
      "17/17 [==============================] - 9s 505ms/step - loss: 0.0075 - semantic_0_loss: 0.0019 - semantic_1_loss: 0.0046 - semantic_2_loss: 9.9727e-04 - lr: 1.9827e-05\n",
      "Epoch 163/200\n",
      "17/17 [==============================] - ETA: 0s - loss: 0.0077 - semantic_0_loss: 0.0020 - semantic_1_loss: 0.0047 - semantic_2_loss: 0.0010WARNING:tensorflow:Can save best model only with val_loss available, skipping.\n"
     ]
    },
    {
     "name": "stderr",
     "output_type": "stream",
     "text": [
      "WARNING:tensorflow:Can save best model only with val_loss available, skipping.\n"
     ]
    },
    {
     "name": "stdout",
     "output_type": "stream",
     "text": [
      "17/17 [==============================] - 9s 505ms/step - loss: 0.0077 - semantic_0_loss: 0.0020 - semantic_1_loss: 0.0047 - semantic_2_loss: 0.0010 - lr: 1.9629e-05\n",
      "Epoch 164/200\n",
      "17/17 [==============================] - ETA: 0s - loss: 0.0080 - semantic_0_loss: 0.0020 - semantic_1_loss: 0.0049 - semantic_2_loss: 0.0010WARNING:tensorflow:Can save best model only with val_loss available, skipping.\n"
     ]
    },
    {
     "name": "stderr",
     "output_type": "stream",
     "text": [
      "WARNING:tensorflow:Can save best model only with val_loss available, skipping.\n"
     ]
    },
    {
     "name": "stdout",
     "output_type": "stream",
     "text": [
      "17/17 [==============================] - 9s 499ms/step - loss: 0.0080 - semantic_0_loss: 0.0020 - semantic_1_loss: 0.0049 - semantic_2_loss: 0.0010 - lr: 1.9433e-05\n",
      "Epoch 165/200\n",
      "17/17 [==============================] - ETA: 0s - loss: 0.0075 - semantic_0_loss: 0.0019 - semantic_1_loss: 0.0045 - semantic_2_loss: 9.9603e-04WARNING:tensorflow:Can save best model only with val_loss available, skipping.\n"
     ]
    },
    {
     "name": "stderr",
     "output_type": "stream",
     "text": [
      "WARNING:tensorflow:Can save best model only with val_loss available, skipping.\n"
     ]
    },
    {
     "name": "stdout",
     "output_type": "stream",
     "text": [
      "17/17 [==============================] - 9s 488ms/step - loss: 0.0075 - semantic_0_loss: 0.0019 - semantic_1_loss: 0.0045 - semantic_2_loss: 9.9603e-04 - lr: 1.9239e-05\n",
      "Epoch 166/200\n",
      "17/17 [==============================] - ETA: 0s - loss: 0.0079 - semantic_0_loss: 0.0020 - semantic_1_loss: 0.0048 - semantic_2_loss: 0.0010WARNING:tensorflow:Can save best model only with val_loss available, skipping.\n"
     ]
    },
    {
     "name": "stderr",
     "output_type": "stream",
     "text": [
      "WARNING:tensorflow:Can save best model only with val_loss available, skipping.\n"
     ]
    },
    {
     "name": "stdout",
     "output_type": "stream",
     "text": [
      "17/17 [==============================] - 9s 518ms/step - loss: 0.0079 - semantic_0_loss: 0.0020 - semantic_1_loss: 0.0048 - semantic_2_loss: 0.0010 - lr: 1.9046e-05\n",
      "Epoch 167/200\n",
      "17/17 [==============================] - ETA: 0s - loss: 0.0078 - semantic_0_loss: 0.0020 - semantic_1_loss: 0.0048 - semantic_2_loss: 0.0010WARNING:tensorflow:Can save best model only with val_loss available, skipping.\n"
     ]
    },
    {
     "name": "stderr",
     "output_type": "stream",
     "text": [
      "WARNING:tensorflow:Can save best model only with val_loss available, skipping.\n"
     ]
    },
    {
     "name": "stdout",
     "output_type": "stream",
     "text": [
      "17/17 [==============================] - 9s 495ms/step - loss: 0.0078 - semantic_0_loss: 0.0020 - semantic_1_loss: 0.0048 - semantic_2_loss: 0.0010 - lr: 1.8856e-05\n",
      "Epoch 168/200\n",
      "17/17 [==============================] - ETA: 0s - loss: 0.0075 - semantic_0_loss: 0.0019 - semantic_1_loss: 0.0046 - semantic_2_loss: 9.9632e-04WARNING:tensorflow:Can save best model only with val_loss available, skipping.\n"
     ]
    },
    {
     "name": "stderr",
     "output_type": "stream",
     "text": [
      "WARNING:tensorflow:Can save best model only with val_loss available, skipping.\n"
     ]
    },
    {
     "name": "stdout",
     "output_type": "stream",
     "text": [
      "17/17 [==============================] - 9s 490ms/step - loss: 0.0075 - semantic_0_loss: 0.0019 - semantic_1_loss: 0.0046 - semantic_2_loss: 9.9632e-04 - lr: 1.8667e-05\n",
      "Epoch 169/200\n",
      "17/17 [==============================] - ETA: 0s - loss: 0.0073 - semantic_0_loss: 0.0019 - semantic_1_loss: 0.0044 - semantic_2_loss: 9.9314e-04WARNING:tensorflow:Can save best model only with val_loss available, skipping.\n"
     ]
    },
    {
     "name": "stderr",
     "output_type": "stream",
     "text": [
      "WARNING:tensorflow:Can save best model only with val_loss available, skipping.\n"
     ]
    },
    {
     "name": "stdout",
     "output_type": "stream",
     "text": [
      "17/17 [==============================] - 9s 500ms/step - loss: 0.0073 - semantic_0_loss: 0.0019 - semantic_1_loss: 0.0044 - semantic_2_loss: 9.9314e-04 - lr: 1.8480e-05\n",
      "Epoch 170/200\n",
      "17/17 [==============================] - ETA: 0s - loss: 0.0078 - semantic_0_loss: 0.0020 - semantic_1_loss: 0.0048 - semantic_2_loss: 0.0010WARNING:tensorflow:Can save best model only with val_loss available, skipping.\n"
     ]
    },
    {
     "name": "stderr",
     "output_type": "stream",
     "text": [
      "WARNING:tensorflow:Can save best model only with val_loss available, skipping.\n"
     ]
    },
    {
     "name": "stdout",
     "output_type": "stream",
     "text": [
      "17/17 [==============================] - 9s 499ms/step - loss: 0.0078 - semantic_0_loss: 0.0020 - semantic_1_loss: 0.0048 - semantic_2_loss: 0.0010 - lr: 1.8296e-05\n",
      "Epoch 171/200\n",
      "17/17 [==============================] - ETA: 0s - loss: 0.0076 - semantic_0_loss: 0.0019 - semantic_1_loss: 0.0046 - semantic_2_loss: 0.0010WARNING:tensorflow:Can save best model only with val_loss available, skipping.\n"
     ]
    },
    {
     "name": "stderr",
     "output_type": "stream",
     "text": [
      "WARNING:tensorflow:Can save best model only with val_loss available, skipping.\n"
     ]
    },
    {
     "name": "stdout",
     "output_type": "stream",
     "text": [
      "17/17 [==============================] - 9s 494ms/step - loss: 0.0076 - semantic_0_loss: 0.0019 - semantic_1_loss: 0.0046 - semantic_2_loss: 0.0010 - lr: 1.8113e-05\n",
      "Epoch 172/200\n",
      "17/17 [==============================] - ETA: 0s - loss: 0.0081 - semantic_0_loss: 0.0021 - semantic_1_loss: 0.0050 - semantic_2_loss: 0.0010WARNING:tensorflow:Can save best model only with val_loss available, skipping.\n"
     ]
    },
    {
     "name": "stderr",
     "output_type": "stream",
     "text": [
      "WARNING:tensorflow:Can save best model only with val_loss available, skipping.\n"
     ]
    },
    {
     "name": "stdout",
     "output_type": "stream",
     "text": [
      "17/17 [==============================] - 9s 497ms/step - loss: 0.0081 - semantic_0_loss: 0.0021 - semantic_1_loss: 0.0050 - semantic_2_loss: 0.0010 - lr: 1.7932e-05\n",
      "Epoch 173/200\n",
      "17/17 [==============================] - ETA: 0s - loss: 0.0078 - semantic_0_loss: 0.0020 - semantic_1_loss: 0.0048 - semantic_2_loss: 0.0010WARNING:tensorflow:Can save best model only with val_loss available, skipping.\n"
     ]
    },
    {
     "name": "stderr",
     "output_type": "stream",
     "text": [
      "WARNING:tensorflow:Can save best model only with val_loss available, skipping.\n"
     ]
    },
    {
     "name": "stdout",
     "output_type": "stream",
     "text": [
      "17/17 [==============================] - 9s 497ms/step - loss: 0.0078 - semantic_0_loss: 0.0020 - semantic_1_loss: 0.0048 - semantic_2_loss: 0.0010 - lr: 1.7752e-05\n",
      "Epoch 174/200\n",
      "17/17 [==============================] - ETA: 0s - loss: 0.0079 - semantic_0_loss: 0.0020 - semantic_1_loss: 0.0049 - semantic_2_loss: 0.0010WARNING:tensorflow:Can save best model only with val_loss available, skipping.\n"
     ]
    },
    {
     "name": "stderr",
     "output_type": "stream",
     "text": [
      "WARNING:tensorflow:Can save best model only with val_loss available, skipping.\n"
     ]
    },
    {
     "name": "stdout",
     "output_type": "stream",
     "text": [
      "17/17 [==============================] - 9s 491ms/step - loss: 0.0079 - semantic_0_loss: 0.0020 - semantic_1_loss: 0.0049 - semantic_2_loss: 0.0010 - lr: 1.7575e-05\n",
      "Epoch 175/200\n",
      "17/17 [==============================] - ETA: 0s - loss: 0.0078 - semantic_0_loss: 0.0020 - semantic_1_loss: 0.0048 - semantic_2_loss: 0.0010WARNING:tensorflow:Can save best model only with val_loss available, skipping.\n"
     ]
    },
    {
     "name": "stderr",
     "output_type": "stream",
     "text": [
      "WARNING:tensorflow:Can save best model only with val_loss available, skipping.\n"
     ]
    },
    {
     "name": "stdout",
     "output_type": "stream",
     "text": [
      "17/17 [==============================] - 9s 492ms/step - loss: 0.0078 - semantic_0_loss: 0.0020 - semantic_1_loss: 0.0048 - semantic_2_loss: 0.0010 - lr: 1.7399e-05\n",
      "Epoch 176/200\n",
      "17/17 [==============================] - ETA: 0s - loss: 0.0081 - semantic_0_loss: 0.0021 - semantic_1_loss: 0.0050 - semantic_2_loss: 0.0010WARNING:tensorflow:Can save best model only with val_loss available, skipping.\n"
     ]
    },
    {
     "name": "stderr",
     "output_type": "stream",
     "text": [
      "WARNING:tensorflow:Can save best model only with val_loss available, skipping.\n"
     ]
    },
    {
     "name": "stdout",
     "output_type": "stream",
     "text": [
      "17/17 [==============================] - 9s 493ms/step - loss: 0.0081 - semantic_0_loss: 0.0021 - semantic_1_loss: 0.0050 - semantic_2_loss: 0.0010 - lr: 1.7225e-05\n",
      "Epoch 177/200\n",
      "17/17 [==============================] - ETA: 0s - loss: 0.0076 - semantic_0_loss: 0.0019 - semantic_1_loss: 0.0047 - semantic_2_loss: 0.0010WARNING:tensorflow:Can save best model only with val_loss available, skipping.\n"
     ]
    },
    {
     "name": "stderr",
     "output_type": "stream",
     "text": [
      "WARNING:tensorflow:Can save best model only with val_loss available, skipping.\n"
     ]
    },
    {
     "name": "stdout",
     "output_type": "stream",
     "text": [
      "17/17 [==============================] - 9s 502ms/step - loss: 0.0076 - semantic_0_loss: 0.0019 - semantic_1_loss: 0.0047 - semantic_2_loss: 0.0010 - lr: 1.7053e-05\n",
      "Epoch 178/200\n",
      "17/17 [==============================] - ETA: 0s - loss: 0.0076 - semantic_0_loss: 0.0019 - semantic_1_loss: 0.0047 - semantic_2_loss: 0.0010WARNING:tensorflow:Can save best model only with val_loss available, skipping.\n"
     ]
    },
    {
     "name": "stderr",
     "output_type": "stream",
     "text": [
      "WARNING:tensorflow:Can save best model only with val_loss available, skipping.\n"
     ]
    },
    {
     "name": "stdout",
     "output_type": "stream",
     "text": [
      "17/17 [==============================] - 9s 502ms/step - loss: 0.0076 - semantic_0_loss: 0.0019 - semantic_1_loss: 0.0047 - semantic_2_loss: 0.0010 - lr: 1.6882e-05\n",
      "Epoch 179/200\n",
      "17/17 [==============================] - ETA: 0s - loss: 0.0076 - semantic_0_loss: 0.0019 - semantic_1_loss: 0.0047 - semantic_2_loss: 0.0010    WARNING:tensorflow:Can save best model only with val_loss available, skipping.\n"
     ]
    },
    {
     "name": "stderr",
     "output_type": "stream",
     "text": [
      "WARNING:tensorflow:Can save best model only with val_loss available, skipping.\n"
     ]
    },
    {
     "name": "stdout",
     "output_type": "stream",
     "text": [
      "17/17 [==============================] - 9s 504ms/step - loss: 0.0076 - semantic_0_loss: 0.0019 - semantic_1_loss: 0.0047 - semantic_2_loss: 0.0010 - lr: 1.6713e-05\n",
      "Epoch 180/200\n",
      "17/17 [==============================] - ETA: 0s - loss: 0.0072 - semantic_0_loss: 0.0018 - semantic_1_loss: 0.0044 - semantic_2_loss: 9.7206e-04WARNING:tensorflow:Can save best model only with val_loss available, skipping.\n"
     ]
    },
    {
     "name": "stderr",
     "output_type": "stream",
     "text": [
      "WARNING:tensorflow:Can save best model only with val_loss available, skipping.\n"
     ]
    },
    {
     "name": "stdout",
     "output_type": "stream",
     "text": [
      "17/17 [==============================] - 9s 487ms/step - loss: 0.0072 - semantic_0_loss: 0.0018 - semantic_1_loss: 0.0044 - semantic_2_loss: 9.7206e-04 - lr: 1.6546e-05\n",
      "Epoch 181/200\n",
      "17/17 [==============================] - ETA: 0s - loss: 0.0076 - semantic_0_loss: 0.0019 - semantic_1_loss: 0.0046 - semantic_2_loss: 0.0010WARNING:tensorflow:Can save best model only with val_loss available, skipping.\n"
     ]
    },
    {
     "name": "stderr",
     "output_type": "stream",
     "text": [
      "WARNING:tensorflow:Can save best model only with val_loss available, skipping.\n"
     ]
    },
    {
     "name": "stdout",
     "output_type": "stream",
     "text": [
      "17/17 [==============================] - 9s 495ms/step - loss: 0.0076 - semantic_0_loss: 0.0019 - semantic_1_loss: 0.0046 - semantic_2_loss: 0.0010 - lr: 1.6381e-05\n",
      "Epoch 182/200\n",
      "17/17 [==============================] - ETA: 0s - loss: 0.0077 - semantic_0_loss: 0.0019 - semantic_1_loss: 0.0048 - semantic_2_loss: 0.0010WARNING:tensorflow:Can save best model only with val_loss available, skipping.\n"
     ]
    },
    {
     "name": "stderr",
     "output_type": "stream",
     "text": [
      "WARNING:tensorflow:Can save best model only with val_loss available, skipping.\n"
     ]
    },
    {
     "name": "stdout",
     "output_type": "stream",
     "text": [
      "17/17 [==============================] - 9s 497ms/step - loss: 0.0077 - semantic_0_loss: 0.0019 - semantic_1_loss: 0.0048 - semantic_2_loss: 0.0010 - lr: 1.6217e-05\n",
      "Epoch 183/200\n",
      "17/17 [==============================] - ETA: 0s - loss: 0.0075 - semantic_0_loss: 0.0020 - semantic_1_loss: 0.0046 - semantic_2_loss: 9.9483e-04WARNING:tensorflow:Can save best model only with val_loss available, skipping.\n"
     ]
    },
    {
     "name": "stderr",
     "output_type": "stream",
     "text": [
      "WARNING:tensorflow:Can save best model only with val_loss available, skipping.\n"
     ]
    },
    {
     "name": "stdout",
     "output_type": "stream",
     "text": [
      "17/17 [==============================] - 9s 499ms/step - loss: 0.0075 - semantic_0_loss: 0.0020 - semantic_1_loss: 0.0046 - semantic_2_loss: 9.9483e-04 - lr: 1.6055e-05\n",
      "Epoch 184/200\n",
      "17/17 [==============================] - ETA: 0s - loss: 0.0075 - semantic_0_loss: 0.0019 - semantic_1_loss: 0.0046 - semantic_2_loss: 0.0010WARNING:tensorflow:Can save best model only with val_loss available, skipping.\n"
     ]
    },
    {
     "name": "stderr",
     "output_type": "stream",
     "text": [
      "WARNING:tensorflow:Can save best model only with val_loss available, skipping.\n"
     ]
    },
    {
     "name": "stdout",
     "output_type": "stream",
     "text": [
      "17/17 [==============================] - 9s 494ms/step - loss: 0.0075 - semantic_0_loss: 0.0019 - semantic_1_loss: 0.0046 - semantic_2_loss: 0.0010 - lr: 1.5894e-05\n",
      "Epoch 185/200\n",
      "17/17 [==============================] - ETA: 0s - loss: 0.0073 - semantic_0_loss: 0.0019 - semantic_1_loss: 0.0045 - semantic_2_loss: 9.8276e-04WARNING:tensorflow:Can save best model only with val_loss available, skipping.\n"
     ]
    },
    {
     "name": "stderr",
     "output_type": "stream",
     "text": [
      "WARNING:tensorflow:Can save best model only with val_loss available, skipping.\n"
     ]
    },
    {
     "name": "stdout",
     "output_type": "stream",
     "text": [
      "17/17 [==============================] - 9s 489ms/step - loss: 0.0073 - semantic_0_loss: 0.0019 - semantic_1_loss: 0.0045 - semantic_2_loss: 9.8276e-04 - lr: 1.5735e-05\n",
      "Epoch 186/200\n",
      "17/17 [==============================] - ETA: 0s - loss: 0.0074 - semantic_0_loss: 0.0019 - semantic_1_loss: 0.0045 - semantic_2_loss: 0.0010WARNING:tensorflow:Can save best model only with val_loss available, skipping.\n"
     ]
    },
    {
     "name": "stderr",
     "output_type": "stream",
     "text": [
      "WARNING:tensorflow:Can save best model only with val_loss available, skipping.\n"
     ]
    },
    {
     "name": "stdout",
     "output_type": "stream",
     "text": [
      "17/17 [==============================] - 9s 487ms/step - loss: 0.0074 - semantic_0_loss: 0.0019 - semantic_1_loss: 0.0045 - semantic_2_loss: 0.0010 - lr: 1.5578e-05\n",
      "Epoch 187/200\n",
      "17/17 [==============================] - ETA: 0s - loss: 0.0077 - semantic_0_loss: 0.0020 - semantic_1_loss: 0.0047 - semantic_2_loss: 0.0010WARNING:tensorflow:Can save best model only with val_loss available, skipping.\n"
     ]
    },
    {
     "name": "stderr",
     "output_type": "stream",
     "text": [
      "WARNING:tensorflow:Can save best model only with val_loss available, skipping.\n"
     ]
    },
    {
     "name": "stdout",
     "output_type": "stream",
     "text": [
      "17/17 [==============================] - 9s 487ms/step - loss: 0.0077 - semantic_0_loss: 0.0020 - semantic_1_loss: 0.0047 - semantic_2_loss: 0.0010 - lr: 1.5422e-05\n",
      "Epoch 188/200\n",
      "17/17 [==============================] - ETA: 0s - loss: 0.0072 - semantic_0_loss: 0.0018 - semantic_1_loss: 0.0044 - semantic_2_loss: 9.7907e-04WARNING:tensorflow:Can save best model only with val_loss available, skipping.\n"
     ]
    },
    {
     "name": "stderr",
     "output_type": "stream",
     "text": [
      "WARNING:tensorflow:Can save best model only with val_loss available, skipping.\n"
     ]
    },
    {
     "name": "stdout",
     "output_type": "stream",
     "text": [
      "17/17 [==============================] - 9s 512ms/step - loss: 0.0072 - semantic_0_loss: 0.0018 - semantic_1_loss: 0.0044 - semantic_2_loss: 9.7907e-04 - lr: 1.5268e-05\n",
      "Epoch 189/200\n",
      "17/17 [==============================] - ETA: 0s - loss: 0.0076 - semantic_0_loss: 0.0020 - semantic_1_loss: 0.0047 - semantic_2_loss: 0.0010WARNING:tensorflow:Can save best model only with val_loss available, skipping.\n"
     ]
    },
    {
     "name": "stderr",
     "output_type": "stream",
     "text": [
      "WARNING:tensorflow:Can save best model only with val_loss available, skipping.\n"
     ]
    },
    {
     "name": "stdout",
     "output_type": "stream",
     "text": [
      "17/17 [==============================] - 9s 500ms/step - loss: 0.0076 - semantic_0_loss: 0.0020 - semantic_1_loss: 0.0047 - semantic_2_loss: 0.0010 - lr: 1.5115e-05\n",
      "Epoch 190/200\n",
      "17/17 [==============================] - ETA: 0s - loss: 0.0078 - semantic_0_loss: 0.0021 - semantic_1_loss: 0.0048 - semantic_2_loss: 0.0010WARNING:tensorflow:Can save best model only with val_loss available, skipping.\n"
     ]
    },
    {
     "name": "stderr",
     "output_type": "stream",
     "text": [
      "WARNING:tensorflow:Can save best model only with val_loss available, skipping.\n"
     ]
    },
    {
     "name": "stdout",
     "output_type": "stream",
     "text": [
      "17/17 [==============================] - 9s 491ms/step - loss: 0.0078 - semantic_0_loss: 0.0021 - semantic_1_loss: 0.0048 - semantic_2_loss: 0.0010 - lr: 1.4964e-05\n",
      "Epoch 191/200\n",
      "17/17 [==============================] - ETA: 0s - loss: 0.0078 - semantic_0_loss: 0.0020 - semantic_1_loss: 0.0047 - semantic_2_loss: 0.0010WARNING:tensorflow:Can save best model only with val_loss available, skipping.\n"
     ]
    },
    {
     "name": "stderr",
     "output_type": "stream",
     "text": [
      "WARNING:tensorflow:Can save best model only with val_loss available, skipping.\n"
     ]
    },
    {
     "name": "stdout",
     "output_type": "stream",
     "text": [
      "17/17 [==============================] - 9s 512ms/step - loss: 0.0078 - semantic_0_loss: 0.0020 - semantic_1_loss: 0.0047 - semantic_2_loss: 0.0010 - lr: 1.4814e-05\n",
      "Epoch 192/200\n",
      "17/17 [==============================] - ETA: 0s - loss: 0.0072 - semantic_0_loss: 0.0018 - semantic_1_loss: 0.0044 - semantic_2_loss: 9.8156e-04WARNING:tensorflow:Can save best model only with val_loss available, skipping.\n"
     ]
    },
    {
     "name": "stderr",
     "output_type": "stream",
     "text": [
      "WARNING:tensorflow:Can save best model only with val_loss available, skipping.\n"
     ]
    },
    {
     "name": "stdout",
     "output_type": "stream",
     "text": [
      "17/17 [==============================] - 9s 512ms/step - loss: 0.0072 - semantic_0_loss: 0.0018 - semantic_1_loss: 0.0044 - semantic_2_loss: 9.8156e-04 - lr: 1.4666e-05\n",
      "Epoch 193/200\n",
      "17/17 [==============================] - ETA: 0s - loss: 0.0078 - semantic_0_loss: 0.0020 - semantic_1_loss: 0.0048 - semantic_2_loss: 0.0010WARNING:tensorflow:Can save best model only with val_loss available, skipping.\n"
     ]
    },
    {
     "name": "stderr",
     "output_type": "stream",
     "text": [
      "WARNING:tensorflow:Can save best model only with val_loss available, skipping.\n"
     ]
    },
    {
     "name": "stdout",
     "output_type": "stream",
     "text": [
      "17/17 [==============================] - 9s 527ms/step - loss: 0.0078 - semantic_0_loss: 0.0020 - semantic_1_loss: 0.0048 - semantic_2_loss: 0.0010 - lr: 1.4520e-05\n",
      "Epoch 194/200\n",
      "17/17 [==============================] - ETA: 0s - loss: 0.0075 - semantic_0_loss: 0.0019 - semantic_1_loss: 0.0045 - semantic_2_loss: 9.9398e-04WARNING:tensorflow:Can save best model only with val_loss available, skipping.\n"
     ]
    },
    {
     "name": "stderr",
     "output_type": "stream",
     "text": [
      "WARNING:tensorflow:Can save best model only with val_loss available, skipping.\n"
     ]
    },
    {
     "name": "stdout",
     "output_type": "stream",
     "text": [
      "17/17 [==============================] - 9s 498ms/step - loss: 0.0075 - semantic_0_loss: 0.0019 - semantic_1_loss: 0.0045 - semantic_2_loss: 9.9398e-04 - lr: 1.4374e-05\n",
      "Epoch 195/200\n",
      "17/17 [==============================] - ETA: 0s - loss: 0.0076 - semantic_0_loss: 0.0019 - semantic_1_loss: 0.0046 - semantic_2_loss: 9.9797e-04WARNING:tensorflow:Can save best model only with val_loss available, skipping.\n"
     ]
    },
    {
     "name": "stderr",
     "output_type": "stream",
     "text": [
      "WARNING:tensorflow:Can save best model only with val_loss available, skipping.\n"
     ]
    },
    {
     "name": "stdout",
     "output_type": "stream",
     "text": [
      "17/17 [==============================] - 9s 497ms/step - loss: 0.0076 - semantic_0_loss: 0.0019 - semantic_1_loss: 0.0046 - semantic_2_loss: 9.9797e-04 - lr: 1.4231e-05\n",
      "Epoch 196/200\n",
      "17/17 [==============================] - ETA: 0s - loss: 0.0071 - semantic_0_loss: 0.0018 - semantic_1_loss: 0.0043 - semantic_2_loss: 9.7448e-04WARNING:tensorflow:Can save best model only with val_loss available, skipping.\n"
     ]
    },
    {
     "name": "stderr",
     "output_type": "stream",
     "text": [
      "WARNING:tensorflow:Can save best model only with val_loss available, skipping.\n"
     ]
    },
    {
     "name": "stdout",
     "output_type": "stream",
     "text": [
      "17/17 [==============================] - 9s 496ms/step - loss: 0.0071 - semantic_0_loss: 0.0018 - semantic_1_loss: 0.0043 - semantic_2_loss: 9.7448e-04 - lr: 1.4088e-05\n",
      "Epoch 197/200\n",
      "17/17 [==============================] - ETA: 0s - loss: 0.0072 - semantic_0_loss: 0.0018 - semantic_1_loss: 0.0044 - semantic_2_loss: 9.8484e-04WARNING:tensorflow:Can save best model only with val_loss available, skipping.\n"
     ]
    },
    {
     "name": "stderr",
     "output_type": "stream",
     "text": [
      "WARNING:tensorflow:Can save best model only with val_loss available, skipping.\n"
     ]
    },
    {
     "name": "stdout",
     "output_type": "stream",
     "text": [
      "17/17 [==============================] - 9s 489ms/step - loss: 0.0072 - semantic_0_loss: 0.0018 - semantic_1_loss: 0.0044 - semantic_2_loss: 9.8484e-04 - lr: 1.3948e-05\n",
      "Epoch 198/200\n",
      "17/17 [==============================] - ETA: 0s - loss: 0.0076 - semantic_0_loss: 0.0020 - semantic_1_loss: 0.0047 - semantic_2_loss: 0.0010WARNING:tensorflow:Can save best model only with val_loss available, skipping.\n"
     ]
    },
    {
     "name": "stderr",
     "output_type": "stream",
     "text": [
      "WARNING:tensorflow:Can save best model only with val_loss available, skipping.\n"
     ]
    },
    {
     "name": "stdout",
     "output_type": "stream",
     "text": [
      "17/17 [==============================] - 9s 499ms/step - loss: 0.0076 - semantic_0_loss: 0.0020 - semantic_1_loss: 0.0047 - semantic_2_loss: 0.0010 - lr: 1.3808e-05\n",
      "Epoch 199/200\n",
      "17/17 [==============================] - ETA: 0s - loss: 0.0078 - semantic_0_loss: 0.0020 - semantic_1_loss: 0.0048 - semantic_2_loss: 0.0010WARNING:tensorflow:Can save best model only with val_loss available, skipping.\n"
     ]
    },
    {
     "name": "stderr",
     "output_type": "stream",
     "text": [
      "WARNING:tensorflow:Can save best model only with val_loss available, skipping.\n"
     ]
    },
    {
     "name": "stdout",
     "output_type": "stream",
     "text": [
      "17/17 [==============================] - 9s 495ms/step - loss: 0.0078 - semantic_0_loss: 0.0020 - semantic_1_loss: 0.0048 - semantic_2_loss: 0.0010 - lr: 1.3670e-05\n",
      "Epoch 200/200\n",
      "17/17 [==============================] - ETA: 0s - loss: 0.0072 - semantic_0_loss: 0.0019 - semantic_1_loss: 0.0043 - semantic_2_loss: 9.7594e-04WARNING:tensorflow:Can save best model only with val_loss available, skipping.\n"
     ]
    },
    {
     "name": "stderr",
     "output_type": "stream",
     "text": [
      "WARNING:tensorflow:Can save best model only with val_loss available, skipping.\n"
     ]
    },
    {
     "name": "stdout",
     "output_type": "stream",
     "text": [
      "17/17 [==============================] - 9s 518ms/step - loss: 0.0072 - semantic_0_loss: 0.0019 - semantic_1_loss: 0.0043 - semantic_2_loss: 9.7594e-04 - lr: 1.3533e-05\n",
      "/home/yfong/deeplearning/dense_cell_segmentation\n",
      "['M926910_CFL_Position7_CD3_test_img.png', 'M872956_JML_Position10_CD3_test_img.png', 'M872956_JML_Position8_CD8_test_img.png', 'M926910_CFL_Position13_CD3_test_img.png', 'M872956_JML_Position8_CD3_test_img.png', 'M872956_JML_Position8_CD4_test_img.png', 'M872956_JML_Position9_CD3_test_img.png']\n",
      "M926910_CFL_Position7_CD3_test_img.png\n"
     ]
    },
    {
     "name": "stderr",
     "output_type": "stream",
     "text": [
      "/app/software/DeepCell/0.11.1-foss-2021b-CUDA-11.4.1/lib/python3.9/site-packages/deepcell_toolbox/deep_watershed.py:179: FutureWarning: `selem` is a deprecated argument name for `h_maxima`. It will be removed in version 1.0.Please use `footprint` instead.\n",
      "  markers = h_maxima(image=maxima,\n"
     ]
    },
    {
     "name": "stdout",
     "output_type": "stream",
     "text": [
      "M872956_JML_Position10_CD3_test_img.png\n",
      "M872956_JML_Position8_CD8_test_img.png\n",
      "M926910_CFL_Position13_CD3_test_img.png\n",
      "M872956_JML_Position8_CD3_test_img.png\n",
      "M872956_JML_Position8_CD4_test_img.png\n",
      "M872956_JML_Position9_CD3_test_img.png\n",
      "[[0.23400936037441497, 0.2867756315007429], [0.23508771929824562, 0.3082191780821918], [0.4262295081967213, 0.48205128205128206], [0.16336633663366337, 0.2311212814645309], [0.36379928315412186, 0.46003552397868563], [0.5467032967032966, 0.5760598503740648], [0.2515463917525773, 0.3152610441767068]]\n",
      "                                         0         1         2\n",
      "0   M926910_CFL_Position7_CD3_test_img.png  0.234009  0.286776\n",
      "1  M872956_JML_Position10_CD3_test_img.png  0.235088  0.308219\n",
      "2   M872956_JML_Position8_CD8_test_img.png   0.42623  0.482051\n",
      "3  M926910_CFL_Position13_CD3_test_img.png  0.163366  0.231121\n",
      "4   M872956_JML_Position8_CD3_test_img.png  0.363799  0.460036\n",
      "5   M872956_JML_Position8_CD4_test_img.png  0.546703   0.57606\n",
      "6   M872956_JML_Position9_CD3_test_img.png  0.251546  0.315261\n",
      "4\n",
      "(4, 1040, 1159, 1)\n",
      "(4, 1040, 1159, 1)\n",
      "2.0\n",
      "(4, 2080, 2318, 1)\n",
      "(4, 2080, 2318, 1)\n",
      "(4, 2080, 2318, 1)\n",
      "(4, 2080, 2318, 1)\n",
      "[0, 400, 800, 1200, 1568]\n",
      "[512, 912, 1312, 1712, 2080]\n",
      "[0, 512, 1024, 1536, 1806]\n",
      "[512, 1024, 1536, 2048, 2318]\n",
      "(100, 512, 512, 1)\n",
      "(100, 512, 512, 1)\n",
      "WARNING:tensorflow:Removing 6 of 100 images with fewer than 5 objects.\n"
     ]
    },
    {
     "name": "stderr",
     "output_type": "stream",
     "text": [
      "WARNING:tensorflow:Removing 6 of 100 images with fewer than 5 objects.\n",
      "/app/software/TensorFlow/2.7.1-foss-2021b-CUDA-11.4.1/lib/python3.9/site-packages/keras/optimizer_v2/adam.py:105: UserWarning: The `lr` argument is deprecated, use `learning_rate` instead.\n",
      "  super(Adam, self).__init__(name, **kwargs)\n"
     ]
    },
    {
     "name": "stdout",
     "output_type": "stream",
     "text": [
      "Training on 3 GPUs.\n"
     ]
    },
    {
     "name": "stderr",
     "output_type": "stream",
     "text": [
      "2022-11-06 09:52:57.530058: I tensorflow/core/common_runtime/gpu/gpu_device.cc:1525] Created device /device:GPU:0 with 14657 MB memory:  -> device: 0, name: Tesla V100-PCIE-16GB, pci bus id: 0000:04:00.0, compute capability: 7.0\n",
      "2022-11-06 09:52:57.531085: I tensorflow/core/common_runtime/gpu/gpu_device.cc:1525] Created device /device:GPU:1 with 14657 MB memory:  -> device: 1, name: Tesla V100-PCIE-16GB, pci bus id: 0000:06:00.0, compute capability: 7.0\n",
      "2022-11-06 09:52:57.532162: I tensorflow/core/common_runtime/gpu/gpu_device.cc:1525] Created device /device:GPU:2 with 14657 MB memory:  -> device: 2, name: Tesla V100-PCIE-16GB, pci bus id: 0000:08:00.0, compute capability: 7.0\n"
     ]
    },
    {
     "name": "stdout",
     "output_type": "stream",
     "text": [
      "Epoch 1/200\n",
      "23/23 [==============================] - ETA: 0s - loss: 0.0158 - semantic_0_loss: 0.0038 - semantic_1_loss: 0.0097 - semantic_2_loss: 0.0024WARNING:tensorflow:Can save best model only with val_loss available, skipping.\n"
     ]
    },
    {
     "name": "stderr",
     "output_type": "stream",
     "text": [
      "WARNING:tensorflow:Can save best model only with val_loss available, skipping.\n"
     ]
    },
    {
     "name": "stdout",
     "output_type": "stream",
     "text": [
      "23/23 [==============================] - 30s 714ms/step - loss: 0.0158 - semantic_0_loss: 0.0038 - semantic_1_loss: 0.0097 - semantic_2_loss: 0.0024 - lr: 1.0000e-04\n",
      "Epoch 2/200\n",
      "23/23 [==============================] - ETA: 0s - loss: 0.0129 - semantic_0_loss: 0.0031 - semantic_1_loss: 0.0082 - semantic_2_loss: 0.0015WARNING:tensorflow:Can save best model only with val_loss available, skipping.\n"
     ]
    },
    {
     "name": "stderr",
     "output_type": "stream",
     "text": [
      "WARNING:tensorflow:Can save best model only with val_loss available, skipping.\n"
     ]
    },
    {
     "name": "stdout",
     "output_type": "stream",
     "text": [
      "23/23 [==============================] - 13s 538ms/step - loss: 0.0129 - semantic_0_loss: 0.0031 - semantic_1_loss: 0.0082 - semantic_2_loss: 0.0015 - lr: 9.9000e-05\n",
      "Epoch 3/200\n",
      "23/23 [==============================] - ETA: 0s - loss: 0.0120 - semantic_0_loss: 0.0028 - semantic_1_loss: 0.0077 - semantic_2_loss: 0.0015WARNING:tensorflow:Can save best model only with val_loss available, skipping.\n"
     ]
    },
    {
     "name": "stderr",
     "output_type": "stream",
     "text": [
      "WARNING:tensorflow:Can save best model only with val_loss available, skipping.\n"
     ]
    },
    {
     "name": "stdout",
     "output_type": "stream",
     "text": [
      "23/23 [==============================] - 12s 532ms/step - loss: 0.0120 - semantic_0_loss: 0.0028 - semantic_1_loss: 0.0077 - semantic_2_loss: 0.0015 - lr: 9.8010e-05\n",
      "Epoch 4/200\n",
      "23/23 [==============================] - ETA: 0s - loss: 0.0122 - semantic_0_loss: 0.0029 - semantic_1_loss: 0.0078 - semantic_2_loss: 0.0014WARNING:tensorflow:Can save best model only with val_loss available, skipping.\n"
     ]
    },
    {
     "name": "stderr",
     "output_type": "stream",
     "text": [
      "WARNING:tensorflow:Can save best model only with val_loss available, skipping.\n"
     ]
    },
    {
     "name": "stdout",
     "output_type": "stream",
     "text": [
      "23/23 [==============================] - 13s 539ms/step - loss: 0.0122 - semantic_0_loss: 0.0029 - semantic_1_loss: 0.0078 - semantic_2_loss: 0.0014 - lr: 9.7030e-05\n",
      "Epoch 5/200\n",
      "23/23 [==============================] - ETA: 0s - loss: 0.0118 - semantic_0_loss: 0.0029 - semantic_1_loss: 0.0076 - semantic_2_loss: 0.0014WARNING:tensorflow:Can save best model only with val_loss available, skipping.\n"
     ]
    },
    {
     "name": "stderr",
     "output_type": "stream",
     "text": [
      "WARNING:tensorflow:Can save best model only with val_loss available, skipping.\n"
     ]
    },
    {
     "name": "stdout",
     "output_type": "stream",
     "text": [
      "23/23 [==============================] - 12s 516ms/step - loss: 0.0118 - semantic_0_loss: 0.0029 - semantic_1_loss: 0.0076 - semantic_2_loss: 0.0014 - lr: 9.6060e-05\n",
      "Epoch 6/200\n",
      "23/23 [==============================] - ETA: 0s - loss: 0.0120 - semantic_0_loss: 0.0029 - semantic_1_loss: 0.0077 - semantic_2_loss: 0.0014WARNING:tensorflow:Can save best model only with val_loss available, skipping.\n"
     ]
    },
    {
     "name": "stderr",
     "output_type": "stream",
     "text": [
      "WARNING:tensorflow:Can save best model only with val_loss available, skipping.\n"
     ]
    },
    {
     "name": "stdout",
     "output_type": "stream",
     "text": [
      "23/23 [==============================] - 12s 534ms/step - loss: 0.0120 - semantic_0_loss: 0.0029 - semantic_1_loss: 0.0077 - semantic_2_loss: 0.0014 - lr: 9.5099e-05\n",
      "Epoch 7/200\n",
      "23/23 [==============================] - ETA: 0s - loss: 0.0116 - semantic_0_loss: 0.0028 - semantic_1_loss: 0.0074 - semantic_2_loss: 0.0014WARNING:tensorflow:Can save best model only with val_loss available, skipping.\n"
     ]
    },
    {
     "name": "stderr",
     "output_type": "stream",
     "text": [
      "WARNING:tensorflow:Can save best model only with val_loss available, skipping.\n"
     ]
    },
    {
     "name": "stdout",
     "output_type": "stream",
     "text": [
      "23/23 [==============================] - 12s 535ms/step - loss: 0.0116 - semantic_0_loss: 0.0028 - semantic_1_loss: 0.0074 - semantic_2_loss: 0.0014 - lr: 9.4148e-05\n",
      "Epoch 8/200\n",
      "23/23 [==============================] - ETA: 0s - loss: 0.0118 - semantic_0_loss: 0.0028 - semantic_1_loss: 0.0076 - semantic_2_loss: 0.0014WARNING:tensorflow:Can save best model only with val_loss available, skipping.\n"
     ]
    },
    {
     "name": "stderr",
     "output_type": "stream",
     "text": [
      "WARNING:tensorflow:Can save best model only with val_loss available, skipping.\n"
     ]
    },
    {
     "name": "stdout",
     "output_type": "stream",
     "text": [
      "23/23 [==============================] - 12s 528ms/step - loss: 0.0118 - semantic_0_loss: 0.0028 - semantic_1_loss: 0.0076 - semantic_2_loss: 0.0014 - lr: 9.3207e-05\n",
      "Epoch 9/200\n",
      "23/23 [==============================] - ETA: 0s - loss: 0.0115 - semantic_0_loss: 0.0027 - semantic_1_loss: 0.0074 - semantic_2_loss: 0.0014WARNING:tensorflow:Can save best model only with val_loss available, skipping.\n"
     ]
    },
    {
     "name": "stderr",
     "output_type": "stream",
     "text": [
      "WARNING:tensorflow:Can save best model only with val_loss available, skipping.\n"
     ]
    },
    {
     "name": "stdout",
     "output_type": "stream",
     "text": [
      "23/23 [==============================] - 12s 525ms/step - loss: 0.0115 - semantic_0_loss: 0.0027 - semantic_1_loss: 0.0074 - semantic_2_loss: 0.0014 - lr: 9.2274e-05\n",
      "Epoch 10/200\n",
      "23/23 [==============================] - ETA: 0s - loss: 0.0112 - semantic_0_loss: 0.0027 - semantic_1_loss: 0.0072 - semantic_2_loss: 0.0013WARNING:tensorflow:Can save best model only with val_loss available, skipping.\n"
     ]
    },
    {
     "name": "stderr",
     "output_type": "stream",
     "text": [
      "WARNING:tensorflow:Can save best model only with val_loss available, skipping.\n"
     ]
    },
    {
     "name": "stdout",
     "output_type": "stream",
     "text": [
      "23/23 [==============================] - 12s 528ms/step - loss: 0.0112 - semantic_0_loss: 0.0027 - semantic_1_loss: 0.0072 - semantic_2_loss: 0.0013 - lr: 9.1352e-05\n",
      "Epoch 11/200\n",
      "23/23 [==============================] - ETA: 0s - loss: 0.0114 - semantic_0_loss: 0.0028 - semantic_1_loss: 0.0073 - semantic_2_loss: 0.0013WARNING:tensorflow:Can save best model only with val_loss available, skipping.\n"
     ]
    },
    {
     "name": "stderr",
     "output_type": "stream",
     "text": [
      "WARNING:tensorflow:Can save best model only with val_loss available, skipping.\n"
     ]
    },
    {
     "name": "stdout",
     "output_type": "stream",
     "text": [
      "23/23 [==============================] - 13s 541ms/step - loss: 0.0114 - semantic_0_loss: 0.0028 - semantic_1_loss: 0.0073 - semantic_2_loss: 0.0013 - lr: 9.0438e-05\n",
      "Epoch 12/200\n",
      "23/23 [==============================] - ETA: 0s - loss: 0.0114 - semantic_0_loss: 0.0028 - semantic_1_loss: 0.0073 - semantic_2_loss: 0.0013WARNING:tensorflow:Can save best model only with val_loss available, skipping.\n"
     ]
    },
    {
     "name": "stderr",
     "output_type": "stream",
     "text": [
      "WARNING:tensorflow:Can save best model only with val_loss available, skipping.\n"
     ]
    },
    {
     "name": "stdout",
     "output_type": "stream",
     "text": [
      "23/23 [==============================] - 12s 517ms/step - loss: 0.0114 - semantic_0_loss: 0.0028 - semantic_1_loss: 0.0073 - semantic_2_loss: 0.0013 - lr: 8.9534e-05\n",
      "Epoch 13/200\n",
      "23/23 [==============================] - ETA: 0s - loss: 0.0113 - semantic_0_loss: 0.0027 - semantic_1_loss: 0.0072 - semantic_2_loss: 0.0013WARNING:tensorflow:Can save best model only with val_loss available, skipping.\n"
     ]
    },
    {
     "name": "stderr",
     "output_type": "stream",
     "text": [
      "WARNING:tensorflow:Can save best model only with val_loss available, skipping.\n"
     ]
    },
    {
     "name": "stdout",
     "output_type": "stream",
     "text": [
      "23/23 [==============================] - 13s 533ms/step - loss: 0.0113 - semantic_0_loss: 0.0027 - semantic_1_loss: 0.0072 - semantic_2_loss: 0.0013 - lr: 8.8638e-05\n",
      "Epoch 14/200\n",
      "23/23 [==============================] - ETA: 0s - loss: 0.0113 - semantic_0_loss: 0.0027 - semantic_1_loss: 0.0072 - semantic_2_loss: 0.0013WARNING:tensorflow:Can save best model only with val_loss available, skipping.\n"
     ]
    },
    {
     "name": "stderr",
     "output_type": "stream",
     "text": [
      "WARNING:tensorflow:Can save best model only with val_loss available, skipping.\n"
     ]
    },
    {
     "name": "stdout",
     "output_type": "stream",
     "text": [
      "23/23 [==============================] - 12s 526ms/step - loss: 0.0113 - semantic_0_loss: 0.0027 - semantic_1_loss: 0.0072 - semantic_2_loss: 0.0013 - lr: 8.7752e-05\n",
      "Epoch 15/200\n",
      "23/23 [==============================] - ETA: 0s - loss: 0.0113 - semantic_0_loss: 0.0027 - semantic_1_loss: 0.0072 - semantic_2_loss: 0.0013WARNING:tensorflow:Can save best model only with val_loss available, skipping.\n"
     ]
    },
    {
     "name": "stderr",
     "output_type": "stream",
     "text": [
      "WARNING:tensorflow:Can save best model only with val_loss available, skipping.\n"
     ]
    },
    {
     "name": "stdout",
     "output_type": "stream",
     "text": [
      "23/23 [==============================] - 13s 537ms/step - loss: 0.0113 - semantic_0_loss: 0.0027 - semantic_1_loss: 0.0072 - semantic_2_loss: 0.0013 - lr: 8.6875e-05\n",
      "Epoch 16/200\n",
      "23/23 [==============================] - ETA: 0s - loss: 0.0110 - semantic_0_loss: 0.0027 - semantic_1_loss: 0.0070 - semantic_2_loss: 0.0013WARNING:tensorflow:Can save best model only with val_loss available, skipping.\n"
     ]
    },
    {
     "name": "stderr",
     "output_type": "stream",
     "text": [
      "WARNING:tensorflow:Can save best model only with val_loss available, skipping.\n"
     ]
    },
    {
     "name": "stdout",
     "output_type": "stream",
     "text": [
      "23/23 [==============================] - 12s 523ms/step - loss: 0.0110 - semantic_0_loss: 0.0027 - semantic_1_loss: 0.0070 - semantic_2_loss: 0.0013 - lr: 8.6006e-05\n",
      "Epoch 17/200\n",
      "23/23 [==============================] - ETA: 0s - loss: 0.0109 - semantic_0_loss: 0.0026 - semantic_1_loss: 0.0070 - semantic_2_loss: 0.0013WARNING:tensorflow:Can save best model only with val_loss available, skipping.\n"
     ]
    },
    {
     "name": "stderr",
     "output_type": "stream",
     "text": [
      "WARNING:tensorflow:Can save best model only with val_loss available, skipping.\n"
     ]
    },
    {
     "name": "stdout",
     "output_type": "stream",
     "text": [
      "23/23 [==============================] - 12s 534ms/step - loss: 0.0109 - semantic_0_loss: 0.0026 - semantic_1_loss: 0.0070 - semantic_2_loss: 0.0013 - lr: 8.5146e-05\n",
      "Epoch 18/200\n",
      "23/23 [==============================] - ETA: 0s - loss: 0.0111 - semantic_0_loss: 0.0027 - semantic_1_loss: 0.0071 - semantic_2_loss: 0.0013WARNING:tensorflow:Can save best model only with val_loss available, skipping.\n"
     ]
    },
    {
     "name": "stderr",
     "output_type": "stream",
     "text": [
      "WARNING:tensorflow:Can save best model only with val_loss available, skipping.\n"
     ]
    },
    {
     "name": "stdout",
     "output_type": "stream",
     "text": [
      "23/23 [==============================] - 13s 536ms/step - loss: 0.0111 - semantic_0_loss: 0.0027 - semantic_1_loss: 0.0071 - semantic_2_loss: 0.0013 - lr: 8.4294e-05\n",
      "Epoch 19/200\n",
      "23/23 [==============================] - ETA: 0s - loss: 0.0113 - semantic_0_loss: 0.0027 - semantic_1_loss: 0.0072 - semantic_2_loss: 0.0013WARNING:tensorflow:Can save best model only with val_loss available, skipping.\n"
     ]
    },
    {
     "name": "stderr",
     "output_type": "stream",
     "text": [
      "WARNING:tensorflow:Can save best model only with val_loss available, skipping.\n"
     ]
    },
    {
     "name": "stdout",
     "output_type": "stream",
     "text": [
      "23/23 [==============================] - 12s 529ms/step - loss: 0.0113 - semantic_0_loss: 0.0027 - semantic_1_loss: 0.0072 - semantic_2_loss: 0.0013 - lr: 8.3451e-05\n",
      "Epoch 20/200\n",
      "23/23 [==============================] - ETA: 0s - loss: 0.0107 - semantic_0_loss: 0.0026 - semantic_1_loss: 0.0068 - semantic_2_loss: 0.0013WARNING:tensorflow:Can save best model only with val_loss available, skipping.\n"
     ]
    },
    {
     "name": "stderr",
     "output_type": "stream",
     "text": [
      "WARNING:tensorflow:Can save best model only with val_loss available, skipping.\n"
     ]
    },
    {
     "name": "stdout",
     "output_type": "stream",
     "text": [
      "23/23 [==============================] - 12s 521ms/step - loss: 0.0107 - semantic_0_loss: 0.0026 - semantic_1_loss: 0.0068 - semantic_2_loss: 0.0013 - lr: 8.2617e-05\n",
      "Epoch 21/200\n",
      "23/23 [==============================] - ETA: 0s - loss: 0.0109 - semantic_0_loss: 0.0027 - semantic_1_loss: 0.0069 - semantic_2_loss: 0.0013WARNING:tensorflow:Can save best model only with val_loss available, skipping.\n"
     ]
    },
    {
     "name": "stderr",
     "output_type": "stream",
     "text": [
      "WARNING:tensorflow:Can save best model only with val_loss available, skipping.\n"
     ]
    },
    {
     "name": "stdout",
     "output_type": "stream",
     "text": [
      "23/23 [==============================] - 12s 531ms/step - loss: 0.0109 - semantic_0_loss: 0.0027 - semantic_1_loss: 0.0069 - semantic_2_loss: 0.0013 - lr: 8.1791e-05\n",
      "Epoch 22/200\n",
      "23/23 [==============================] - ETA: 0s - loss: 0.0108 - semantic_0_loss: 0.0026 - semantic_1_loss: 0.0069 - semantic_2_loss: 0.0013WARNING:tensorflow:Can save best model only with val_loss available, skipping.\n"
     ]
    },
    {
     "name": "stderr",
     "output_type": "stream",
     "text": [
      "WARNING:tensorflow:Can save best model only with val_loss available, skipping.\n"
     ]
    },
    {
     "name": "stdout",
     "output_type": "stream",
     "text": [
      "23/23 [==============================] - 12s 526ms/step - loss: 0.0108 - semantic_0_loss: 0.0026 - semantic_1_loss: 0.0069 - semantic_2_loss: 0.0013 - lr: 8.0973e-05\n",
      "Epoch 23/200\n",
      "23/23 [==============================] - ETA: 0s - loss: 0.0110 - semantic_0_loss: 0.0027 - semantic_1_loss: 0.0070 - semantic_2_loss: 0.0013WARNING:tensorflow:Can save best model only with val_loss available, skipping.\n"
     ]
    },
    {
     "name": "stderr",
     "output_type": "stream",
     "text": [
      "WARNING:tensorflow:Can save best model only with val_loss available, skipping.\n"
     ]
    },
    {
     "name": "stdout",
     "output_type": "stream",
     "text": [
      "23/23 [==============================] - 12s 527ms/step - loss: 0.0110 - semantic_0_loss: 0.0027 - semantic_1_loss: 0.0070 - semantic_2_loss: 0.0013 - lr: 8.0163e-05\n",
      "Epoch 24/200\n",
      "23/23 [==============================] - ETA: 0s - loss: 0.0109 - semantic_0_loss: 0.0026 - semantic_1_loss: 0.0070 - semantic_2_loss: 0.0013WARNING:tensorflow:Can save best model only with val_loss available, skipping.\n"
     ]
    },
    {
     "name": "stderr",
     "output_type": "stream",
     "text": [
      "WARNING:tensorflow:Can save best model only with val_loss available, skipping.\n"
     ]
    },
    {
     "name": "stdout",
     "output_type": "stream",
     "text": [
      "23/23 [==============================] - 12s 531ms/step - loss: 0.0109 - semantic_0_loss: 0.0026 - semantic_1_loss: 0.0070 - semantic_2_loss: 0.0013 - lr: 7.9361e-05\n",
      "Epoch 25/200\n",
      "23/23 [==============================] - ETA: 0s - loss: 0.0104 - semantic_0_loss: 0.0025 - semantic_1_loss: 0.0066 - semantic_2_loss: 0.0012WARNING:tensorflow:Can save best model only with val_loss available, skipping.\n"
     ]
    },
    {
     "name": "stderr",
     "output_type": "stream",
     "text": [
      "WARNING:tensorflow:Can save best model only with val_loss available, skipping.\n"
     ]
    },
    {
     "name": "stdout",
     "output_type": "stream",
     "text": [
      "23/23 [==============================] - 12s 526ms/step - loss: 0.0104 - semantic_0_loss: 0.0025 - semantic_1_loss: 0.0066 - semantic_2_loss: 0.0012 - lr: 7.8568e-05\n",
      "Epoch 26/200\n",
      "23/23 [==============================] - ETA: 0s - loss: 0.0101 - semantic_0_loss: 0.0025 - semantic_1_loss: 0.0064 - semantic_2_loss: 0.0012WARNING:tensorflow:Can save best model only with val_loss available, skipping.\n"
     ]
    },
    {
     "name": "stderr",
     "output_type": "stream",
     "text": [
      "WARNING:tensorflow:Can save best model only with val_loss available, skipping.\n"
     ]
    },
    {
     "name": "stdout",
     "output_type": "stream",
     "text": [
      "23/23 [==============================] - 12s 526ms/step - loss: 0.0101 - semantic_0_loss: 0.0025 - semantic_1_loss: 0.0064 - semantic_2_loss: 0.0012 - lr: 7.7782e-05\n",
      "Epoch 27/200\n",
      "23/23 [==============================] - ETA: 0s - loss: 0.0106 - semantic_0_loss: 0.0026 - semantic_1_loss: 0.0067 - semantic_2_loss: 0.0013WARNING:tensorflow:Can save best model only with val_loss available, skipping.\n"
     ]
    },
    {
     "name": "stderr",
     "output_type": "stream",
     "text": [
      "WARNING:tensorflow:Can save best model only with val_loss available, skipping.\n"
     ]
    },
    {
     "name": "stdout",
     "output_type": "stream",
     "text": [
      "23/23 [==============================] - 12s 524ms/step - loss: 0.0106 - semantic_0_loss: 0.0026 - semantic_1_loss: 0.0067 - semantic_2_loss: 0.0013 - lr: 7.7004e-05\n",
      "Epoch 28/200\n",
      "23/23 [==============================] - ETA: 0s - loss: 0.0111 - semantic_0_loss: 0.0027 - semantic_1_loss: 0.0070 - semantic_2_loss: 0.0013WARNING:tensorflow:Can save best model only with val_loss available, skipping.\n"
     ]
    },
    {
     "name": "stderr",
     "output_type": "stream",
     "text": [
      "WARNING:tensorflow:Can save best model only with val_loss available, skipping.\n"
     ]
    },
    {
     "name": "stdout",
     "output_type": "stream",
     "text": [
      "23/23 [==============================] - 12s 532ms/step - loss: 0.0111 - semantic_0_loss: 0.0027 - semantic_1_loss: 0.0070 - semantic_2_loss: 0.0013 - lr: 7.6234e-05\n",
      "Epoch 29/200\n",
      "23/23 [==============================] - ETA: 0s - loss: 0.0107 - semantic_0_loss: 0.0026 - semantic_1_loss: 0.0068 - semantic_2_loss: 0.0013WARNING:tensorflow:Can save best model only with val_loss available, skipping.\n"
     ]
    },
    {
     "name": "stderr",
     "output_type": "stream",
     "text": [
      "WARNING:tensorflow:Can save best model only with val_loss available, skipping.\n"
     ]
    },
    {
     "name": "stdout",
     "output_type": "stream",
     "text": [
      "23/23 [==============================] - 12s 512ms/step - loss: 0.0107 - semantic_0_loss: 0.0026 - semantic_1_loss: 0.0068 - semantic_2_loss: 0.0013 - lr: 7.5472e-05\n",
      "Epoch 30/200\n",
      "23/23 [==============================] - ETA: 0s - loss: 0.0105 - semantic_0_loss: 0.0026 - semantic_1_loss: 0.0066 - semantic_2_loss: 0.0012WARNING:tensorflow:Can save best model only with val_loss available, skipping.\n"
     ]
    },
    {
     "name": "stderr",
     "output_type": "stream",
     "text": [
      "WARNING:tensorflow:Can save best model only with val_loss available, skipping.\n"
     ]
    },
    {
     "name": "stdout",
     "output_type": "stream",
     "text": [
      "23/23 [==============================] - 12s 529ms/step - loss: 0.0105 - semantic_0_loss: 0.0026 - semantic_1_loss: 0.0066 - semantic_2_loss: 0.0012 - lr: 7.4717e-05\n",
      "Epoch 31/200\n",
      "23/23 [==============================] - ETA: 0s - loss: 0.0108 - semantic_0_loss: 0.0027 - semantic_1_loss: 0.0069 - semantic_2_loss: 0.0013WARNING:tensorflow:Can save best model only with val_loss available, skipping.\n"
     ]
    },
    {
     "name": "stderr",
     "output_type": "stream",
     "text": [
      "WARNING:tensorflow:Can save best model only with val_loss available, skipping.\n"
     ]
    },
    {
     "name": "stdout",
     "output_type": "stream",
     "text": [
      "23/23 [==============================] - 12s 510ms/step - loss: 0.0108 - semantic_0_loss: 0.0027 - semantic_1_loss: 0.0069 - semantic_2_loss: 0.0013 - lr: 7.3970e-05\n",
      "Epoch 32/200\n",
      "23/23 [==============================] - ETA: 0s - loss: 0.0102 - semantic_0_loss: 0.0025 - semantic_1_loss: 0.0065 - semantic_2_loss: 0.0012WARNING:tensorflow:Can save best model only with val_loss available, skipping.\n"
     ]
    },
    {
     "name": "stderr",
     "output_type": "stream",
     "text": [
      "WARNING:tensorflow:Can save best model only with val_loss available, skipping.\n"
     ]
    },
    {
     "name": "stdout",
     "output_type": "stream",
     "text": [
      "23/23 [==============================] - 12s 527ms/step - loss: 0.0102 - semantic_0_loss: 0.0025 - semantic_1_loss: 0.0065 - semantic_2_loss: 0.0012 - lr: 7.3230e-05\n",
      "Epoch 33/200\n",
      "23/23 [==============================] - ETA: 0s - loss: 0.0105 - semantic_0_loss: 0.0026 - semantic_1_loss: 0.0067 - semantic_2_loss: 0.0013WARNING:tensorflow:Can save best model only with val_loss available, skipping.\n"
     ]
    },
    {
     "name": "stderr",
     "output_type": "stream",
     "text": [
      "WARNING:tensorflow:Can save best model only with val_loss available, skipping.\n"
     ]
    },
    {
     "name": "stdout",
     "output_type": "stream",
     "text": [
      "23/23 [==============================] - 12s 531ms/step - loss: 0.0105 - semantic_0_loss: 0.0026 - semantic_1_loss: 0.0067 - semantic_2_loss: 0.0013 - lr: 7.2498e-05\n",
      "Epoch 34/200\n",
      "23/23 [==============================] - ETA: 0s - loss: 0.0102 - semantic_0_loss: 0.0025 - semantic_1_loss: 0.0065 - semantic_2_loss: 0.0012WARNING:tensorflow:Can save best model only with val_loss available, skipping.\n"
     ]
    },
    {
     "name": "stderr",
     "output_type": "stream",
     "text": [
      "WARNING:tensorflow:Can save best model only with val_loss available, skipping.\n"
     ]
    },
    {
     "name": "stdout",
     "output_type": "stream",
     "text": [
      "23/23 [==============================] - 12s 517ms/step - loss: 0.0102 - semantic_0_loss: 0.0025 - semantic_1_loss: 0.0065 - semantic_2_loss: 0.0012 - lr: 7.1773e-05\n",
      "Epoch 35/200\n",
      "23/23 [==============================] - ETA: 0s - loss: 0.0101 - semantic_0_loss: 0.0025 - semantic_1_loss: 0.0064 - semantic_2_loss: 0.0012WARNING:tensorflow:Can save best model only with val_loss available, skipping.\n"
     ]
    },
    {
     "name": "stderr",
     "output_type": "stream",
     "text": [
      "WARNING:tensorflow:Can save best model only with val_loss available, skipping.\n"
     ]
    },
    {
     "name": "stdout",
     "output_type": "stream",
     "text": [
      "23/23 [==============================] - 12s 524ms/step - loss: 0.0101 - semantic_0_loss: 0.0025 - semantic_1_loss: 0.0064 - semantic_2_loss: 0.0012 - lr: 7.1055e-05\n",
      "Epoch 36/200\n",
      "23/23 [==============================] - ETA: 0s - loss: 0.0105 - semantic_0_loss: 0.0026 - semantic_1_loss: 0.0066 - semantic_2_loss: 0.0013WARNING:tensorflow:Can save best model only with val_loss available, skipping.\n"
     ]
    },
    {
     "name": "stderr",
     "output_type": "stream",
     "text": [
      "WARNING:tensorflow:Can save best model only with val_loss available, skipping.\n"
     ]
    },
    {
     "name": "stdout",
     "output_type": "stream",
     "text": [
      "23/23 [==============================] - 12s 515ms/step - loss: 0.0105 - semantic_0_loss: 0.0026 - semantic_1_loss: 0.0066 - semantic_2_loss: 0.0013 - lr: 7.0345e-05\n",
      "Epoch 37/200\n",
      "23/23 [==============================] - ETA: 0s - loss: 0.0109 - semantic_0_loss: 0.0027 - semantic_1_loss: 0.0069 - semantic_2_loss: 0.0013WARNING:tensorflow:Can save best model only with val_loss available, skipping.\n"
     ]
    },
    {
     "name": "stderr",
     "output_type": "stream",
     "text": [
      "WARNING:tensorflow:Can save best model only with val_loss available, skipping.\n"
     ]
    },
    {
     "name": "stdout",
     "output_type": "stream",
     "text": [
      "23/23 [==============================] - 12s 528ms/step - loss: 0.0109 - semantic_0_loss: 0.0027 - semantic_1_loss: 0.0069 - semantic_2_loss: 0.0013 - lr: 6.9641e-05\n",
      "Epoch 38/200\n",
      "23/23 [==============================] - ETA: 0s - loss: 0.0095 - semantic_0_loss: 0.0024 - semantic_1_loss: 0.0060 - semantic_2_loss: 0.0012WARNING:tensorflow:Can save best model only with val_loss available, skipping.\n"
     ]
    },
    {
     "name": "stderr",
     "output_type": "stream",
     "text": [
      "WARNING:tensorflow:Can save best model only with val_loss available, skipping.\n"
     ]
    },
    {
     "name": "stdout",
     "output_type": "stream",
     "text": [
      "23/23 [==============================] - 12s 531ms/step - loss: 0.0095 - semantic_0_loss: 0.0024 - semantic_1_loss: 0.0060 - semantic_2_loss: 0.0012 - lr: 6.8945e-05\n",
      "Epoch 39/200\n",
      "23/23 [==============================] - ETA: 0s - loss: 0.0108 - semantic_0_loss: 0.0027 - semantic_1_loss: 0.0068 - semantic_2_loss: 0.0013WARNING:tensorflow:Can save best model only with val_loss available, skipping.\n"
     ]
    },
    {
     "name": "stderr",
     "output_type": "stream",
     "text": [
      "WARNING:tensorflow:Can save best model only with val_loss available, skipping.\n"
     ]
    },
    {
     "name": "stdout",
     "output_type": "stream",
     "text": [
      "23/23 [==============================] - 12s 533ms/step - loss: 0.0108 - semantic_0_loss: 0.0027 - semantic_1_loss: 0.0068 - semantic_2_loss: 0.0013 - lr: 6.8255e-05\n",
      "Epoch 40/200\n",
      "23/23 [==============================] - ETA: 0s - loss: 0.0101 - semantic_0_loss: 0.0025 - semantic_1_loss: 0.0064 - semantic_2_loss: 0.0012WARNING:tensorflow:Can save best model only with val_loss available, skipping.\n"
     ]
    },
    {
     "name": "stderr",
     "output_type": "stream",
     "text": [
      "WARNING:tensorflow:Can save best model only with val_loss available, skipping.\n"
     ]
    },
    {
     "name": "stdout",
     "output_type": "stream",
     "text": [
      "23/23 [==============================] - 12s 517ms/step - loss: 0.0101 - semantic_0_loss: 0.0025 - semantic_1_loss: 0.0064 - semantic_2_loss: 0.0012 - lr: 6.7573e-05\n",
      "Epoch 41/200\n",
      "23/23 [==============================] - ETA: 0s - loss: 0.0103 - semantic_0_loss: 0.0025 - semantic_1_loss: 0.0065 - semantic_2_loss: 0.0013WARNING:tensorflow:Can save best model only with val_loss available, skipping.\n"
     ]
    },
    {
     "name": "stderr",
     "output_type": "stream",
     "text": [
      "WARNING:tensorflow:Can save best model only with val_loss available, skipping.\n"
     ]
    },
    {
     "name": "stdout",
     "output_type": "stream",
     "text": [
      "23/23 [==============================] - 12s 526ms/step - loss: 0.0103 - semantic_0_loss: 0.0025 - semantic_1_loss: 0.0065 - semantic_2_loss: 0.0013 - lr: 6.6897e-05\n",
      "Epoch 42/200\n",
      "23/23 [==============================] - ETA: 0s - loss: 0.0105 - semantic_0_loss: 0.0026 - semantic_1_loss: 0.0067 - semantic_2_loss: 0.0012WARNING:tensorflow:Can save best model only with val_loss available, skipping.\n"
     ]
    },
    {
     "name": "stderr",
     "output_type": "stream",
     "text": [
      "WARNING:tensorflow:Can save best model only with val_loss available, skipping.\n"
     ]
    },
    {
     "name": "stdout",
     "output_type": "stream",
     "text": [
      "23/23 [==============================] - 12s 520ms/step - loss: 0.0105 - semantic_0_loss: 0.0026 - semantic_1_loss: 0.0067 - semantic_2_loss: 0.0012 - lr: 6.6228e-05\n",
      "Epoch 43/200\n",
      "23/23 [==============================] - ETA: 0s - loss: 0.0102 - semantic_0_loss: 0.0025 - semantic_1_loss: 0.0064 - semantic_2_loss: 0.0012WARNING:tensorflow:Can save best model only with val_loss available, skipping.\n"
     ]
    },
    {
     "name": "stderr",
     "output_type": "stream",
     "text": [
      "WARNING:tensorflow:Can save best model only with val_loss available, skipping.\n"
     ]
    },
    {
     "name": "stdout",
     "output_type": "stream",
     "text": [
      "23/23 [==============================] - 12s 530ms/step - loss: 0.0102 - semantic_0_loss: 0.0025 - semantic_1_loss: 0.0064 - semantic_2_loss: 0.0012 - lr: 6.5566e-05\n",
      "Epoch 44/200\n",
      "23/23 [==============================] - ETA: 0s - loss: 0.0104 - semantic_0_loss: 0.0025 - semantic_1_loss: 0.0066 - semantic_2_loss: 0.0012WARNING:tensorflow:Can save best model only with val_loss available, skipping.\n"
     ]
    },
    {
     "name": "stderr",
     "output_type": "stream",
     "text": [
      "WARNING:tensorflow:Can save best model only with val_loss available, skipping.\n"
     ]
    },
    {
     "name": "stdout",
     "output_type": "stream",
     "text": [
      "23/23 [==============================] - 12s 529ms/step - loss: 0.0104 - semantic_0_loss: 0.0025 - semantic_1_loss: 0.0066 - semantic_2_loss: 0.0012 - lr: 6.4910e-05\n",
      "Epoch 45/200\n",
      "23/23 [==============================] - ETA: 0s - loss: 0.0104 - semantic_0_loss: 0.0025 - semantic_1_loss: 0.0066 - semantic_2_loss: 0.0013WARNING:tensorflow:Can save best model only with val_loss available, skipping.\n"
     ]
    },
    {
     "name": "stderr",
     "output_type": "stream",
     "text": [
      "WARNING:tensorflow:Can save best model only with val_loss available, skipping.\n"
     ]
    },
    {
     "name": "stdout",
     "output_type": "stream",
     "text": [
      "23/23 [==============================] - 12s 527ms/step - loss: 0.0104 - semantic_0_loss: 0.0025 - semantic_1_loss: 0.0066 - semantic_2_loss: 0.0013 - lr: 6.4261e-05\n",
      "Epoch 46/200\n",
      "23/23 [==============================] - ETA: 0s - loss: 0.0102 - semantic_0_loss: 0.0025 - semantic_1_loss: 0.0064 - semantic_2_loss: 0.0012WARNING:tensorflow:Can save best model only with val_loss available, skipping.\n"
     ]
    },
    {
     "name": "stderr",
     "output_type": "stream",
     "text": [
      "WARNING:tensorflow:Can save best model only with val_loss available, skipping.\n"
     ]
    },
    {
     "name": "stdout",
     "output_type": "stream",
     "text": [
      "23/23 [==============================] - 12s 518ms/step - loss: 0.0102 - semantic_0_loss: 0.0025 - semantic_1_loss: 0.0064 - semantic_2_loss: 0.0012 - lr: 6.3619e-05\n",
      "Epoch 47/200\n",
      "23/23 [==============================] - ETA: 0s - loss: 0.0100 - semantic_0_loss: 0.0025 - semantic_1_loss: 0.0063 - semantic_2_loss: 0.0012WARNING:tensorflow:Can save best model only with val_loss available, skipping.\n"
     ]
    },
    {
     "name": "stderr",
     "output_type": "stream",
     "text": [
      "WARNING:tensorflow:Can save best model only with val_loss available, skipping.\n"
     ]
    },
    {
     "name": "stdout",
     "output_type": "stream",
     "text": [
      "23/23 [==============================] - 12s 522ms/step - loss: 0.0100 - semantic_0_loss: 0.0025 - semantic_1_loss: 0.0063 - semantic_2_loss: 0.0012 - lr: 6.2982e-05\n",
      "Epoch 48/200\n",
      "23/23 [==============================] - ETA: 0s - loss: 0.0106 - semantic_0_loss: 0.0026 - semantic_1_loss: 0.0067 - semantic_2_loss: 0.0013WARNING:tensorflow:Can save best model only with val_loss available, skipping.\n"
     ]
    },
    {
     "name": "stderr",
     "output_type": "stream",
     "text": [
      "WARNING:tensorflow:Can save best model only with val_loss available, skipping.\n"
     ]
    },
    {
     "name": "stdout",
     "output_type": "stream",
     "text": [
      "23/23 [==============================] - 12s 526ms/step - loss: 0.0106 - semantic_0_loss: 0.0026 - semantic_1_loss: 0.0067 - semantic_2_loss: 0.0013 - lr: 6.2353e-05\n",
      "Epoch 49/200\n",
      "23/23 [==============================] - ETA: 0s - loss: 0.0097 - semantic_0_loss: 0.0024 - semantic_1_loss: 0.0061 - semantic_2_loss: 0.0012WARNING:tensorflow:Can save best model only with val_loss available, skipping.\n"
     ]
    },
    {
     "name": "stderr",
     "output_type": "stream",
     "text": [
      "WARNING:tensorflow:Can save best model only with val_loss available, skipping.\n"
     ]
    },
    {
     "name": "stdout",
     "output_type": "stream",
     "text": [
      "23/23 [==============================] - 12s 510ms/step - loss: 0.0097 - semantic_0_loss: 0.0024 - semantic_1_loss: 0.0061 - semantic_2_loss: 0.0012 - lr: 6.1729e-05\n",
      "Epoch 50/200\n",
      "23/23 [==============================] - ETA: 0s - loss: 0.0102 - semantic_0_loss: 0.0026 - semantic_1_loss: 0.0064 - semantic_2_loss: 0.0012WARNING:tensorflow:Can save best model only with val_loss available, skipping.\n"
     ]
    },
    {
     "name": "stderr",
     "output_type": "stream",
     "text": [
      "WARNING:tensorflow:Can save best model only with val_loss available, skipping.\n"
     ]
    },
    {
     "name": "stdout",
     "output_type": "stream",
     "text": [
      "23/23 [==============================] - 12s 530ms/step - loss: 0.0102 - semantic_0_loss: 0.0026 - semantic_1_loss: 0.0064 - semantic_2_loss: 0.0012 - lr: 6.1112e-05\n",
      "Epoch 51/200\n",
      "23/23 [==============================] - ETA: 0s - loss: 0.0097 - semantic_0_loss: 0.0024 - semantic_1_loss: 0.0061 - semantic_2_loss: 0.0012WARNING:tensorflow:Can save best model only with val_loss available, skipping.\n"
     ]
    },
    {
     "name": "stderr",
     "output_type": "stream",
     "text": [
      "WARNING:tensorflow:Can save best model only with val_loss available, skipping.\n"
     ]
    },
    {
     "name": "stdout",
     "output_type": "stream",
     "text": [
      "23/23 [==============================] - 12s 513ms/step - loss: 0.0097 - semantic_0_loss: 0.0024 - semantic_1_loss: 0.0061 - semantic_2_loss: 0.0012 - lr: 6.0501e-05\n",
      "Epoch 52/200\n",
      "23/23 [==============================] - ETA: 0s - loss: 0.0100 - semantic_0_loss: 0.0025 - semantic_1_loss: 0.0063 - semantic_2_loss: 0.0012WARNING:tensorflow:Can save best model only with val_loss available, skipping.\n"
     ]
    },
    {
     "name": "stderr",
     "output_type": "stream",
     "text": [
      "WARNING:tensorflow:Can save best model only with val_loss available, skipping.\n"
     ]
    },
    {
     "name": "stdout",
     "output_type": "stream",
     "text": [
      "23/23 [==============================] - 12s 532ms/step - loss: 0.0100 - semantic_0_loss: 0.0025 - semantic_1_loss: 0.0063 - semantic_2_loss: 0.0012 - lr: 5.9896e-05\n",
      "Epoch 53/200\n",
      "23/23 [==============================] - ETA: 0s - loss: 0.0103 - semantic_0_loss: 0.0026 - semantic_1_loss: 0.0064 - semantic_2_loss: 0.0012WARNING:tensorflow:Can save best model only with val_loss available, skipping.\n"
     ]
    },
    {
     "name": "stderr",
     "output_type": "stream",
     "text": [
      "WARNING:tensorflow:Can save best model only with val_loss available, skipping.\n"
     ]
    },
    {
     "name": "stdout",
     "output_type": "stream",
     "text": [
      "23/23 [==============================] - 12s 516ms/step - loss: 0.0103 - semantic_0_loss: 0.0026 - semantic_1_loss: 0.0064 - semantic_2_loss: 0.0012 - lr: 5.9297e-05\n",
      "Epoch 54/200\n",
      "23/23 [==============================] - ETA: 0s - loss: 0.0102 - semantic_0_loss: 0.0026 - semantic_1_loss: 0.0064 - semantic_2_loss: 0.0012WARNING:tensorflow:Can save best model only with val_loss available, skipping.\n"
     ]
    },
    {
     "name": "stderr",
     "output_type": "stream",
     "text": [
      "WARNING:tensorflow:Can save best model only with val_loss available, skipping.\n"
     ]
    },
    {
     "name": "stdout",
     "output_type": "stream",
     "text": [
      "23/23 [==============================] - 13s 536ms/step - loss: 0.0102 - semantic_0_loss: 0.0026 - semantic_1_loss: 0.0064 - semantic_2_loss: 0.0012 - lr: 5.8704e-05\n",
      "Epoch 55/200\n",
      "23/23 [==============================] - ETA: 0s - loss: 0.0100 - semantic_0_loss: 0.0025 - semantic_1_loss: 0.0063 - semantic_2_loss: 0.0012WARNING:tensorflow:Can save best model only with val_loss available, skipping.\n"
     ]
    },
    {
     "name": "stderr",
     "output_type": "stream",
     "text": [
      "WARNING:tensorflow:Can save best model only with val_loss available, skipping.\n"
     ]
    },
    {
     "name": "stdout",
     "output_type": "stream",
     "text": [
      "23/23 [==============================] - 12s 533ms/step - loss: 0.0100 - semantic_0_loss: 0.0025 - semantic_1_loss: 0.0063 - semantic_2_loss: 0.0012 - lr: 5.8117e-05\n",
      "Epoch 56/200\n",
      "23/23 [==============================] - ETA: 0s - loss: 0.0100 - semantic_0_loss: 0.0025 - semantic_1_loss: 0.0063 - semantic_2_loss: 0.0012WARNING:tensorflow:Can save best model only with val_loss available, skipping.\n"
     ]
    },
    {
     "name": "stderr",
     "output_type": "stream",
     "text": [
      "WARNING:tensorflow:Can save best model only with val_loss available, skipping.\n"
     ]
    },
    {
     "name": "stdout",
     "output_type": "stream",
     "text": [
      "23/23 [==============================] - 12s 518ms/step - loss: 0.0100 - semantic_0_loss: 0.0025 - semantic_1_loss: 0.0063 - semantic_2_loss: 0.0012 - lr: 5.7535e-05\n",
      "Epoch 57/200\n",
      "23/23 [==============================] - ETA: 0s - loss: 0.0103 - semantic_0_loss: 0.0026 - semantic_1_loss: 0.0065 - semantic_2_loss: 0.0012WARNING:tensorflow:Can save best model only with val_loss available, skipping.\n"
     ]
    },
    {
     "name": "stderr",
     "output_type": "stream",
     "text": [
      "WARNING:tensorflow:Can save best model only with val_loss available, skipping.\n"
     ]
    },
    {
     "name": "stdout",
     "output_type": "stream",
     "text": [
      "23/23 [==============================] - 12s 527ms/step - loss: 0.0103 - semantic_0_loss: 0.0026 - semantic_1_loss: 0.0065 - semantic_2_loss: 0.0012 - lr: 5.6960e-05\n",
      "Epoch 58/200\n",
      "23/23 [==============================] - ETA: 0s - loss: 0.0102 - semantic_0_loss: 0.0025 - semantic_1_loss: 0.0064 - semantic_2_loss: 0.0012WARNING:tensorflow:Can save best model only with val_loss available, skipping.\n"
     ]
    },
    {
     "name": "stderr",
     "output_type": "stream",
     "text": [
      "WARNING:tensorflow:Can save best model only with val_loss available, skipping.\n"
     ]
    },
    {
     "name": "stdout",
     "output_type": "stream",
     "text": [
      "23/23 [==============================] - 12s 519ms/step - loss: 0.0102 - semantic_0_loss: 0.0025 - semantic_1_loss: 0.0064 - semantic_2_loss: 0.0012 - lr: 5.6391e-05\n",
      "Epoch 59/200\n",
      "23/23 [==============================] - ETA: 0s - loss: 0.0099 - semantic_0_loss: 0.0025 - semantic_1_loss: 0.0062 - semantic_2_loss: 0.0012WARNING:tensorflow:Can save best model only with val_loss available, skipping.\n"
     ]
    },
    {
     "name": "stderr",
     "output_type": "stream",
     "text": [
      "WARNING:tensorflow:Can save best model only with val_loss available, skipping.\n"
     ]
    },
    {
     "name": "stdout",
     "output_type": "stream",
     "text": [
      "23/23 [==============================] - 12s 522ms/step - loss: 0.0099 - semantic_0_loss: 0.0025 - semantic_1_loss: 0.0062 - semantic_2_loss: 0.0012 - lr: 5.5827e-05\n",
      "Epoch 60/200\n",
      "23/23 [==============================] - ETA: 0s - loss: 0.0102 - semantic_0_loss: 0.0025 - semantic_1_loss: 0.0064 - semantic_2_loss: 0.0012WARNING:tensorflow:Can save best model only with val_loss available, skipping.\n"
     ]
    },
    {
     "name": "stderr",
     "output_type": "stream",
     "text": [
      "WARNING:tensorflow:Can save best model only with val_loss available, skipping.\n"
     ]
    },
    {
     "name": "stdout",
     "output_type": "stream",
     "text": [
      "23/23 [==============================] - 12s 531ms/step - loss: 0.0102 - semantic_0_loss: 0.0025 - semantic_1_loss: 0.0064 - semantic_2_loss: 0.0012 - lr: 5.5268e-05\n",
      "Epoch 61/200\n",
      "23/23 [==============================] - ETA: 0s - loss: 0.0099 - semantic_0_loss: 0.0025 - semantic_1_loss: 0.0063 - semantic_2_loss: 0.0012WARNING:tensorflow:Can save best model only with val_loss available, skipping.\n"
     ]
    },
    {
     "name": "stderr",
     "output_type": "stream",
     "text": [
      "WARNING:tensorflow:Can save best model only with val_loss available, skipping.\n"
     ]
    },
    {
     "name": "stdout",
     "output_type": "stream",
     "text": [
      "23/23 [==============================] - 12s 524ms/step - loss: 0.0099 - semantic_0_loss: 0.0025 - semantic_1_loss: 0.0063 - semantic_2_loss: 0.0012 - lr: 5.4716e-05\n",
      "Epoch 62/200\n",
      "23/23 [==============================] - ETA: 0s - loss: 0.0096 - semantic_0_loss: 0.0024 - semantic_1_loss: 0.0060 - semantic_2_loss: 0.0012WARNING:tensorflow:Can save best model only with val_loss available, skipping.\n"
     ]
    },
    {
     "name": "stderr",
     "output_type": "stream",
     "text": [
      "WARNING:tensorflow:Can save best model only with val_loss available, skipping.\n"
     ]
    },
    {
     "name": "stdout",
     "output_type": "stream",
     "text": [
      "23/23 [==============================] - 12s 520ms/step - loss: 0.0096 - semantic_0_loss: 0.0024 - semantic_1_loss: 0.0060 - semantic_2_loss: 0.0012 - lr: 5.4169e-05\n",
      "Epoch 63/200\n",
      "23/23 [==============================] - ETA: 0s - loss: 0.0095 - semantic_0_loss: 0.0024 - semantic_1_loss: 0.0060 - semantic_2_loss: 0.0012WARNING:tensorflow:Can save best model only with val_loss available, skipping.\n"
     ]
    },
    {
     "name": "stderr",
     "output_type": "stream",
     "text": [
      "WARNING:tensorflow:Can save best model only with val_loss available, skipping.\n"
     ]
    },
    {
     "name": "stdout",
     "output_type": "stream",
     "text": [
      "23/23 [==============================] - 12s 529ms/step - loss: 0.0095 - semantic_0_loss: 0.0024 - semantic_1_loss: 0.0060 - semantic_2_loss: 0.0012 - lr: 5.3627e-05\n",
      "Epoch 64/200\n",
      "23/23 [==============================] - ETA: 0s - loss: 0.0097 - semantic_0_loss: 0.0024 - semantic_1_loss: 0.0062 - semantic_2_loss: 0.0012WARNING:tensorflow:Can save best model only with val_loss available, skipping.\n"
     ]
    },
    {
     "name": "stderr",
     "output_type": "stream",
     "text": [
      "WARNING:tensorflow:Can save best model only with val_loss available, skipping.\n"
     ]
    },
    {
     "name": "stdout",
     "output_type": "stream",
     "text": [
      "23/23 [==============================] - 12s 514ms/step - loss: 0.0097 - semantic_0_loss: 0.0024 - semantic_1_loss: 0.0062 - semantic_2_loss: 0.0012 - lr: 5.3091e-05\n",
      "Epoch 65/200\n",
      "23/23 [==============================] - ETA: 0s - loss: 0.0097 - semantic_0_loss: 0.0024 - semantic_1_loss: 0.0061 - semantic_2_loss: 0.0012WARNING:tensorflow:Can save best model only with val_loss available, skipping.\n"
     ]
    },
    {
     "name": "stderr",
     "output_type": "stream",
     "text": [
      "WARNING:tensorflow:Can save best model only with val_loss available, skipping.\n"
     ]
    },
    {
     "name": "stdout",
     "output_type": "stream",
     "text": [
      "23/23 [==============================] - 12s 517ms/step - loss: 0.0097 - semantic_0_loss: 0.0024 - semantic_1_loss: 0.0061 - semantic_2_loss: 0.0012 - lr: 5.2560e-05\n",
      "Epoch 66/200\n",
      "23/23 [==============================] - ETA: 0s - loss: 0.0096 - semantic_0_loss: 0.0025 - semantic_1_loss: 0.0060 - semantic_2_loss: 0.0012WARNING:tensorflow:Can save best model only with val_loss available, skipping.\n"
     ]
    },
    {
     "name": "stderr",
     "output_type": "stream",
     "text": [
      "WARNING:tensorflow:Can save best model only with val_loss available, skipping.\n"
     ]
    },
    {
     "name": "stdout",
     "output_type": "stream",
     "text": [
      "23/23 [==============================] - 12s 528ms/step - loss: 0.0096 - semantic_0_loss: 0.0025 - semantic_1_loss: 0.0060 - semantic_2_loss: 0.0012 - lr: 5.2034e-05\n",
      "Epoch 67/200\n",
      "23/23 [==============================] - ETA: 0s - loss: 0.0097 - semantic_0_loss: 0.0024 - semantic_1_loss: 0.0061 - semantic_2_loss: 0.0012WARNING:tensorflow:Can save best model only with val_loss available, skipping.\n"
     ]
    },
    {
     "name": "stderr",
     "output_type": "stream",
     "text": [
      "WARNING:tensorflow:Can save best model only with val_loss available, skipping.\n"
     ]
    },
    {
     "name": "stdout",
     "output_type": "stream",
     "text": [
      "23/23 [==============================] - 13s 529ms/step - loss: 0.0097 - semantic_0_loss: 0.0024 - semantic_1_loss: 0.0061 - semantic_2_loss: 0.0012 - lr: 5.1514e-05\n",
      "Epoch 68/200\n",
      "23/23 [==============================] - ETA: 0s - loss: 0.0097 - semantic_0_loss: 0.0025 - semantic_1_loss: 0.0061 - semantic_2_loss: 0.0012WARNING:tensorflow:Can save best model only with val_loss available, skipping.\n"
     ]
    },
    {
     "name": "stderr",
     "output_type": "stream",
     "text": [
      "WARNING:tensorflow:Can save best model only with val_loss available, skipping.\n"
     ]
    },
    {
     "name": "stdout",
     "output_type": "stream",
     "text": [
      "23/23 [==============================] - 12s 524ms/step - loss: 0.0097 - semantic_0_loss: 0.0025 - semantic_1_loss: 0.0061 - semantic_2_loss: 0.0012 - lr: 5.0999e-05\n",
      "Epoch 69/200\n",
      "23/23 [==============================] - ETA: 0s - loss: 0.0097 - semantic_0_loss: 0.0025 - semantic_1_loss: 0.0061 - semantic_2_loss: 0.0012WARNING:tensorflow:Can save best model only with val_loss available, skipping.\n"
     ]
    },
    {
     "name": "stderr",
     "output_type": "stream",
     "text": [
      "WARNING:tensorflow:Can save best model only with val_loss available, skipping.\n"
     ]
    },
    {
     "name": "stdout",
     "output_type": "stream",
     "text": [
      "23/23 [==============================] - 12s 524ms/step - loss: 0.0097 - semantic_0_loss: 0.0025 - semantic_1_loss: 0.0061 - semantic_2_loss: 0.0012 - lr: 5.0489e-05\n",
      "Epoch 70/200\n",
      "23/23 [==============================] - ETA: 0s - loss: 0.0098 - semantic_0_loss: 0.0025 - semantic_1_loss: 0.0062 - semantic_2_loss: 0.0012WARNING:tensorflow:Can save best model only with val_loss available, skipping.\n"
     ]
    },
    {
     "name": "stderr",
     "output_type": "stream",
     "text": [
      "WARNING:tensorflow:Can save best model only with val_loss available, skipping.\n"
     ]
    },
    {
     "name": "stdout",
     "output_type": "stream",
     "text": [
      "23/23 [==============================] - 12s 525ms/step - loss: 0.0098 - semantic_0_loss: 0.0025 - semantic_1_loss: 0.0062 - semantic_2_loss: 0.0012 - lr: 4.9984e-05\n",
      "Epoch 71/200\n",
      "23/23 [==============================] - ETA: 0s - loss: 0.0096 - semantic_0_loss: 0.0024 - semantic_1_loss: 0.0060 - semantic_2_loss: 0.0012WARNING:tensorflow:Can save best model only with val_loss available, skipping.\n"
     ]
    },
    {
     "name": "stderr",
     "output_type": "stream",
     "text": [
      "WARNING:tensorflow:Can save best model only with val_loss available, skipping.\n"
     ]
    },
    {
     "name": "stdout",
     "output_type": "stream",
     "text": [
      "23/23 [==============================] - 13s 537ms/step - loss: 0.0096 - semantic_0_loss: 0.0024 - semantic_1_loss: 0.0060 - semantic_2_loss: 0.0012 - lr: 4.9484e-05\n",
      "Epoch 72/200\n",
      "23/23 [==============================] - ETA: 0s - loss: 0.0096 - semantic_0_loss: 0.0024 - semantic_1_loss: 0.0061 - semantic_2_loss: 0.0012WARNING:tensorflow:Can save best model only with val_loss available, skipping.\n"
     ]
    },
    {
     "name": "stderr",
     "output_type": "stream",
     "text": [
      "WARNING:tensorflow:Can save best model only with val_loss available, skipping.\n"
     ]
    },
    {
     "name": "stdout",
     "output_type": "stream",
     "text": [
      "23/23 [==============================] - 12s 517ms/step - loss: 0.0096 - semantic_0_loss: 0.0024 - semantic_1_loss: 0.0061 - semantic_2_loss: 0.0012 - lr: 4.8989e-05\n",
      "Epoch 73/200\n",
      "23/23 [==============================] - ETA: 0s - loss: 0.0096 - semantic_0_loss: 0.0024 - semantic_1_loss: 0.0060 - semantic_2_loss: 0.0012WARNING:tensorflow:Can save best model only with val_loss available, skipping.\n"
     ]
    },
    {
     "name": "stderr",
     "output_type": "stream",
     "text": [
      "WARNING:tensorflow:Can save best model only with val_loss available, skipping.\n"
     ]
    },
    {
     "name": "stdout",
     "output_type": "stream",
     "text": [
      "23/23 [==============================] - 12s 515ms/step - loss: 0.0096 - semantic_0_loss: 0.0024 - semantic_1_loss: 0.0060 - semantic_2_loss: 0.0012 - lr: 4.8499e-05\n",
      "Epoch 74/200\n",
      "23/23 [==============================] - ETA: 0s - loss: 0.0094 - semantic_0_loss: 0.0024 - semantic_1_loss: 0.0059 - semantic_2_loss: 0.0012WARNING:tensorflow:Can save best model only with val_loss available, skipping.\n"
     ]
    },
    {
     "name": "stderr",
     "output_type": "stream",
     "text": [
      "WARNING:tensorflow:Can save best model only with val_loss available, skipping.\n"
     ]
    },
    {
     "name": "stdout",
     "output_type": "stream",
     "text": [
      "23/23 [==============================] - 13s 540ms/step - loss: 0.0094 - semantic_0_loss: 0.0024 - semantic_1_loss: 0.0059 - semantic_2_loss: 0.0012 - lr: 4.8014e-05\n",
      "Epoch 75/200\n",
      "23/23 [==============================] - ETA: 0s - loss: 0.0098 - semantic_0_loss: 0.0025 - semantic_1_loss: 0.0061 - semantic_2_loss: 0.0012WARNING:tensorflow:Can save best model only with val_loss available, skipping.\n"
     ]
    },
    {
     "name": "stderr",
     "output_type": "stream",
     "text": [
      "WARNING:tensorflow:Can save best model only with val_loss available, skipping.\n"
     ]
    },
    {
     "name": "stdout",
     "output_type": "stream",
     "text": [
      "23/23 [==============================] - 12s 519ms/step - loss: 0.0098 - semantic_0_loss: 0.0025 - semantic_1_loss: 0.0061 - semantic_2_loss: 0.0012 - lr: 4.7534e-05\n",
      "Epoch 76/200\n",
      "23/23 [==============================] - ETA: 0s - loss: 0.0092 - semantic_0_loss: 0.0023 - semantic_1_loss: 0.0057 - semantic_2_loss: 0.0011WARNING:tensorflow:Can save best model only with val_loss available, skipping.\n"
     ]
    },
    {
     "name": "stderr",
     "output_type": "stream",
     "text": [
      "WARNING:tensorflow:Can save best model only with val_loss available, skipping.\n"
     ]
    },
    {
     "name": "stdout",
     "output_type": "stream",
     "text": [
      "23/23 [==============================] - 12s 531ms/step - loss: 0.0092 - semantic_0_loss: 0.0023 - semantic_1_loss: 0.0057 - semantic_2_loss: 0.0011 - lr: 4.7059e-05\n",
      "Epoch 77/200\n",
      "23/23 [==============================] - ETA: 0s - loss: 0.0095 - semantic_0_loss: 0.0024 - semantic_1_loss: 0.0059 - semantic_2_loss: 0.0012WARNING:tensorflow:Can save best model only with val_loss available, skipping.\n"
     ]
    },
    {
     "name": "stderr",
     "output_type": "stream",
     "text": [
      "WARNING:tensorflow:Can save best model only with val_loss available, skipping.\n"
     ]
    },
    {
     "name": "stdout",
     "output_type": "stream",
     "text": [
      "23/23 [==============================] - 12s 515ms/step - loss: 0.0095 - semantic_0_loss: 0.0024 - semantic_1_loss: 0.0059 - semantic_2_loss: 0.0012 - lr: 4.6588e-05\n",
      "Epoch 78/200\n",
      "23/23 [==============================] - ETA: 0s - loss: 0.0099 - semantic_0_loss: 0.0025 - semantic_1_loss: 0.0062 - semantic_2_loss: 0.0012WARNING:tensorflow:Can save best model only with val_loss available, skipping.\n"
     ]
    },
    {
     "name": "stderr",
     "output_type": "stream",
     "text": [
      "WARNING:tensorflow:Can save best model only with val_loss available, skipping.\n"
     ]
    },
    {
     "name": "stdout",
     "output_type": "stream",
     "text": [
      "23/23 [==============================] - 13s 537ms/step - loss: 0.0099 - semantic_0_loss: 0.0025 - semantic_1_loss: 0.0062 - semantic_2_loss: 0.0012 - lr: 4.6122e-05\n",
      "Epoch 79/200\n",
      "23/23 [==============================] - ETA: 0s - loss: 0.0094 - semantic_0_loss: 0.0024 - semantic_1_loss: 0.0059 - semantic_2_loss: 0.0011WARNING:tensorflow:Can save best model only with val_loss available, skipping.\n"
     ]
    },
    {
     "name": "stderr",
     "output_type": "stream",
     "text": [
      "WARNING:tensorflow:Can save best model only with val_loss available, skipping.\n"
     ]
    },
    {
     "name": "stdout",
     "output_type": "stream",
     "text": [
      "23/23 [==============================] - 12s 519ms/step - loss: 0.0094 - semantic_0_loss: 0.0024 - semantic_1_loss: 0.0059 - semantic_2_loss: 0.0011 - lr: 4.5661e-05\n",
      "Epoch 80/200\n",
      "23/23 [==============================] - ETA: 0s - loss: 0.0094 - semantic_0_loss: 0.0024 - semantic_1_loss: 0.0059 - semantic_2_loss: 0.0011WARNING:tensorflow:Can save best model only with val_loss available, skipping.\n"
     ]
    },
    {
     "name": "stderr",
     "output_type": "stream",
     "text": [
      "WARNING:tensorflow:Can save best model only with val_loss available, skipping.\n"
     ]
    },
    {
     "name": "stdout",
     "output_type": "stream",
     "text": [
      "23/23 [==============================] - 12s 522ms/step - loss: 0.0094 - semantic_0_loss: 0.0024 - semantic_1_loss: 0.0059 - semantic_2_loss: 0.0011 - lr: 4.5204e-05\n",
      "Epoch 81/200\n",
      "23/23 [==============================] - ETA: 0s - loss: 0.0095 - semantic_0_loss: 0.0024 - semantic_1_loss: 0.0060 - semantic_2_loss: 0.0012WARNING:tensorflow:Can save best model only with val_loss available, skipping.\n"
     ]
    },
    {
     "name": "stderr",
     "output_type": "stream",
     "text": [
      "WARNING:tensorflow:Can save best model only with val_loss available, skipping.\n"
     ]
    },
    {
     "name": "stdout",
     "output_type": "stream",
     "text": [
      "23/23 [==============================] - 12s 530ms/step - loss: 0.0095 - semantic_0_loss: 0.0024 - semantic_1_loss: 0.0060 - semantic_2_loss: 0.0012 - lr: 4.4752e-05\n",
      "Epoch 82/200\n",
      "23/23 [==============================] - ETA: 0s - loss: 0.0094 - semantic_0_loss: 0.0024 - semantic_1_loss: 0.0058 - semantic_2_loss: 0.0011WARNING:tensorflow:Can save best model only with val_loss available, skipping.\n"
     ]
    },
    {
     "name": "stderr",
     "output_type": "stream",
     "text": [
      "WARNING:tensorflow:Can save best model only with val_loss available, skipping.\n"
     ]
    },
    {
     "name": "stdout",
     "output_type": "stream",
     "text": [
      "23/23 [==============================] - 12s 528ms/step - loss: 0.0094 - semantic_0_loss: 0.0024 - semantic_1_loss: 0.0058 - semantic_2_loss: 0.0011 - lr: 4.4305e-05\n",
      "Epoch 83/200\n",
      "23/23 [==============================] - ETA: 0s - loss: 0.0095 - semantic_0_loss: 0.0024 - semantic_1_loss: 0.0059 - semantic_2_loss: 0.0011WARNING:tensorflow:Can save best model only with val_loss available, skipping.\n"
     ]
    },
    {
     "name": "stderr",
     "output_type": "stream",
     "text": [
      "WARNING:tensorflow:Can save best model only with val_loss available, skipping.\n"
     ]
    },
    {
     "name": "stdout",
     "output_type": "stream",
     "text": [
      "23/23 [==============================] - 12s 527ms/step - loss: 0.0095 - semantic_0_loss: 0.0024 - semantic_1_loss: 0.0059 - semantic_2_loss: 0.0011 - lr: 4.3862e-05\n",
      "Epoch 84/200\n",
      "23/23 [==============================] - ETA: 0s - loss: 0.0091 - semantic_0_loss: 0.0023 - semantic_1_loss: 0.0057 - semantic_2_loss: 0.0011WARNING:tensorflow:Can save best model only with val_loss available, skipping.\n"
     ]
    },
    {
     "name": "stderr",
     "output_type": "stream",
     "text": [
      "WARNING:tensorflow:Can save best model only with val_loss available, skipping.\n"
     ]
    },
    {
     "name": "stdout",
     "output_type": "stream",
     "text": [
      "23/23 [==============================] - 12s 525ms/step - loss: 0.0091 - semantic_0_loss: 0.0023 - semantic_1_loss: 0.0057 - semantic_2_loss: 0.0011 - lr: 4.3423e-05\n",
      "Epoch 85/200\n",
      "23/23 [==============================] - ETA: 0s - loss: 0.0093 - semantic_0_loss: 0.0024 - semantic_1_loss: 0.0058 - semantic_2_loss: 0.0011WARNING:tensorflow:Can save best model only with val_loss available, skipping.\n"
     ]
    },
    {
     "name": "stderr",
     "output_type": "stream",
     "text": [
      "WARNING:tensorflow:Can save best model only with val_loss available, skipping.\n"
     ]
    },
    {
     "name": "stdout",
     "output_type": "stream",
     "text": [
      "23/23 [==============================] - 12s 531ms/step - loss: 0.0093 - semantic_0_loss: 0.0024 - semantic_1_loss: 0.0058 - semantic_2_loss: 0.0011 - lr: 4.2989e-05\n",
      "Epoch 86/200\n",
      "23/23 [==============================] - ETA: 0s - loss: 0.0095 - semantic_0_loss: 0.0024 - semantic_1_loss: 0.0060 - semantic_2_loss: 0.0011WARNING:tensorflow:Can save best model only with val_loss available, skipping.\n"
     ]
    },
    {
     "name": "stderr",
     "output_type": "stream",
     "text": [
      "WARNING:tensorflow:Can save best model only with val_loss available, skipping.\n"
     ]
    },
    {
     "name": "stdout",
     "output_type": "stream",
     "text": [
      "23/23 [==============================] - 12s 513ms/step - loss: 0.0095 - semantic_0_loss: 0.0024 - semantic_1_loss: 0.0060 - semantic_2_loss: 0.0011 - lr: 4.2559e-05\n",
      "Epoch 87/200\n",
      "23/23 [==============================] - ETA: 0s - loss: 0.0094 - semantic_0_loss: 0.0024 - semantic_1_loss: 0.0058 - semantic_2_loss: 0.0011WARNING:tensorflow:Can save best model only with val_loss available, skipping.\n"
     ]
    },
    {
     "name": "stderr",
     "output_type": "stream",
     "text": [
      "WARNING:tensorflow:Can save best model only with val_loss available, skipping.\n"
     ]
    },
    {
     "name": "stdout",
     "output_type": "stream",
     "text": [
      "23/23 [==============================] - 12s 514ms/step - loss: 0.0094 - semantic_0_loss: 0.0024 - semantic_1_loss: 0.0058 - semantic_2_loss: 0.0011 - lr: 4.2133e-05\n",
      "Epoch 88/200\n",
      "23/23 [==============================] - ETA: 0s - loss: 0.0091 - semantic_0_loss: 0.0023 - semantic_1_loss: 0.0056 - semantic_2_loss: 0.0011WARNING:tensorflow:Can save best model only with val_loss available, skipping.\n"
     ]
    },
    {
     "name": "stderr",
     "output_type": "stream",
     "text": [
      "WARNING:tensorflow:Can save best model only with val_loss available, skipping.\n"
     ]
    },
    {
     "name": "stdout",
     "output_type": "stream",
     "text": [
      "23/23 [==============================] - 12s 526ms/step - loss: 0.0091 - semantic_0_loss: 0.0023 - semantic_1_loss: 0.0056 - semantic_2_loss: 0.0011 - lr: 4.1712e-05\n",
      "Epoch 89/200\n",
      "23/23 [==============================] - ETA: 0s - loss: 0.0092 - semantic_0_loss: 0.0023 - semantic_1_loss: 0.0057 - semantic_2_loss: 0.0011WARNING:tensorflow:Can save best model only with val_loss available, skipping.\n"
     ]
    },
    {
     "name": "stderr",
     "output_type": "stream",
     "text": [
      "WARNING:tensorflow:Can save best model only with val_loss available, skipping.\n"
     ]
    },
    {
     "name": "stdout",
     "output_type": "stream",
     "text": [
      "23/23 [==============================] - 12s 532ms/step - loss: 0.0092 - semantic_0_loss: 0.0023 - semantic_1_loss: 0.0057 - semantic_2_loss: 0.0011 - lr: 4.1295e-05\n",
      "Epoch 90/200\n",
      "23/23 [==============================] - ETA: 0s - loss: 0.0092 - semantic_0_loss: 0.0023 - semantic_1_loss: 0.0057 - semantic_2_loss: 0.0011WARNING:tensorflow:Can save best model only with val_loss available, skipping.\n"
     ]
    },
    {
     "name": "stderr",
     "output_type": "stream",
     "text": [
      "WARNING:tensorflow:Can save best model only with val_loss available, skipping.\n"
     ]
    },
    {
     "name": "stdout",
     "output_type": "stream",
     "text": [
      "23/23 [==============================] - 12s 523ms/step - loss: 0.0092 - semantic_0_loss: 0.0023 - semantic_1_loss: 0.0057 - semantic_2_loss: 0.0011 - lr: 4.0882e-05\n",
      "Epoch 91/200\n",
      "23/23 [==============================] - ETA: 0s - loss: 0.0096 - semantic_0_loss: 0.0024 - semantic_1_loss: 0.0060 - semantic_2_loss: 0.0012WARNING:tensorflow:Can save best model only with val_loss available, skipping.\n"
     ]
    },
    {
     "name": "stderr",
     "output_type": "stream",
     "text": [
      "WARNING:tensorflow:Can save best model only with val_loss available, skipping.\n"
     ]
    },
    {
     "name": "stdout",
     "output_type": "stream",
     "text": [
      "23/23 [==============================] - 12s 520ms/step - loss: 0.0096 - semantic_0_loss: 0.0024 - semantic_1_loss: 0.0060 - semantic_2_loss: 0.0012 - lr: 4.0473e-05\n",
      "Epoch 92/200\n",
      "23/23 [==============================] - ETA: 0s - loss: 0.0093 - semantic_0_loss: 0.0024 - semantic_1_loss: 0.0058 - semantic_2_loss: 0.0011WARNING:tensorflow:Can save best model only with val_loss available, skipping.\n"
     ]
    },
    {
     "name": "stderr",
     "output_type": "stream",
     "text": [
      "WARNING:tensorflow:Can save best model only with val_loss available, skipping.\n"
     ]
    },
    {
     "name": "stdout",
     "output_type": "stream",
     "text": [
      "23/23 [==============================] - 12s 526ms/step - loss: 0.0093 - semantic_0_loss: 0.0024 - semantic_1_loss: 0.0058 - semantic_2_loss: 0.0011 - lr: 4.0068e-05\n",
      "Epoch 93/200\n",
      "23/23 [==============================] - ETA: 0s - loss: 0.0093 - semantic_0_loss: 0.0024 - semantic_1_loss: 0.0058 - semantic_2_loss: 0.0012WARNING:tensorflow:Can save best model only with val_loss available, skipping.\n"
     ]
    },
    {
     "name": "stderr",
     "output_type": "stream",
     "text": [
      "WARNING:tensorflow:Can save best model only with val_loss available, skipping.\n"
     ]
    },
    {
     "name": "stdout",
     "output_type": "stream",
     "text": [
      "23/23 [==============================] - 12s 526ms/step - loss: 0.0093 - semantic_0_loss: 0.0024 - semantic_1_loss: 0.0058 - semantic_2_loss: 0.0012 - lr: 3.9668e-05\n",
      "Epoch 94/200\n",
      "23/23 [==============================] - ETA: 0s - loss: 0.0094 - semantic_0_loss: 0.0024 - semantic_1_loss: 0.0058 - semantic_2_loss: 0.0011WARNING:tensorflow:Can save best model only with val_loss available, skipping.\n"
     ]
    },
    {
     "name": "stderr",
     "output_type": "stream",
     "text": [
      "WARNING:tensorflow:Can save best model only with val_loss available, skipping.\n"
     ]
    },
    {
     "name": "stdout",
     "output_type": "stream",
     "text": [
      "23/23 [==============================] - 13s 535ms/step - loss: 0.0094 - semantic_0_loss: 0.0024 - semantic_1_loss: 0.0058 - semantic_2_loss: 0.0011 - lr: 3.9271e-05\n",
      "Epoch 95/200\n",
      "23/23 [==============================] - ETA: 0s - loss: 0.0094 - semantic_0_loss: 0.0024 - semantic_1_loss: 0.0059 - semantic_2_loss: 0.0011WARNING:tensorflow:Can save best model only with val_loss available, skipping.\n"
     ]
    },
    {
     "name": "stderr",
     "output_type": "stream",
     "text": [
      "WARNING:tensorflow:Can save best model only with val_loss available, skipping.\n"
     ]
    },
    {
     "name": "stdout",
     "output_type": "stream",
     "text": [
      "23/23 [==============================] - 12s 535ms/step - loss: 0.0094 - semantic_0_loss: 0.0024 - semantic_1_loss: 0.0059 - semantic_2_loss: 0.0011 - lr: 3.8878e-05\n",
      "Epoch 96/200\n",
      "23/23 [==============================] - ETA: 0s - loss: 0.0095 - semantic_0_loss: 0.0025 - semantic_1_loss: 0.0059 - semantic_2_loss: 0.0011WARNING:tensorflow:Can save best model only with val_loss available, skipping.\n"
     ]
    },
    {
     "name": "stderr",
     "output_type": "stream",
     "text": [
      "WARNING:tensorflow:Can save best model only with val_loss available, skipping.\n"
     ]
    },
    {
     "name": "stdout",
     "output_type": "stream",
     "text": [
      "23/23 [==============================] - 12s 524ms/step - loss: 0.0095 - semantic_0_loss: 0.0025 - semantic_1_loss: 0.0059 - semantic_2_loss: 0.0011 - lr: 3.8490e-05\n",
      "Epoch 97/200\n",
      "23/23 [==============================] - ETA: 0s - loss: 0.0094 - semantic_0_loss: 0.0024 - semantic_1_loss: 0.0058 - semantic_2_loss: 0.0011WARNING:tensorflow:Can save best model only with val_loss available, skipping.\n"
     ]
    },
    {
     "name": "stderr",
     "output_type": "stream",
     "text": [
      "WARNING:tensorflow:Can save best model only with val_loss available, skipping.\n"
     ]
    },
    {
     "name": "stdout",
     "output_type": "stream",
     "text": [
      "23/23 [==============================] - 12s 535ms/step - loss: 0.0094 - semantic_0_loss: 0.0024 - semantic_1_loss: 0.0058 - semantic_2_loss: 0.0011 - lr: 3.8105e-05\n",
      "Epoch 98/200\n",
      "23/23 [==============================] - ETA: 0s - loss: 0.0089 - semantic_0_loss: 0.0022 - semantic_1_loss: 0.0055 - semantic_2_loss: 0.0011WARNING:tensorflow:Can save best model only with val_loss available, skipping.\n"
     ]
    },
    {
     "name": "stderr",
     "output_type": "stream",
     "text": [
      "WARNING:tensorflow:Can save best model only with val_loss available, skipping.\n"
     ]
    },
    {
     "name": "stdout",
     "output_type": "stream",
     "text": [
      "23/23 [==============================] - 12s 511ms/step - loss: 0.0089 - semantic_0_loss: 0.0022 - semantic_1_loss: 0.0055 - semantic_2_loss: 0.0011 - lr: 3.7724e-05\n",
      "Epoch 99/200\n",
      "23/23 [==============================] - ETA: 0s - loss: 0.0089 - semantic_0_loss: 0.0023 - semantic_1_loss: 0.0055 - semantic_2_loss: 0.0011WARNING:tensorflow:Can save best model only with val_loss available, skipping.\n"
     ]
    },
    {
     "name": "stderr",
     "output_type": "stream",
     "text": [
      "WARNING:tensorflow:Can save best model only with val_loss available, skipping.\n"
     ]
    },
    {
     "name": "stdout",
     "output_type": "stream",
     "text": [
      "23/23 [==============================] - 12s 525ms/step - loss: 0.0089 - semantic_0_loss: 0.0023 - semantic_1_loss: 0.0055 - semantic_2_loss: 0.0011 - lr: 3.7346e-05\n",
      "Epoch 100/200\n",
      "23/23 [==============================] - ETA: 0s - loss: 0.0089 - semantic_0_loss: 0.0023 - semantic_1_loss: 0.0055 - semantic_2_loss: 0.0011WARNING:tensorflow:Can save best model only with val_loss available, skipping.\n"
     ]
    },
    {
     "name": "stderr",
     "output_type": "stream",
     "text": [
      "WARNING:tensorflow:Can save best model only with val_loss available, skipping.\n"
     ]
    },
    {
     "name": "stdout",
     "output_type": "stream",
     "text": [
      "23/23 [==============================] - 12s 520ms/step - loss: 0.0089 - semantic_0_loss: 0.0023 - semantic_1_loss: 0.0055 - semantic_2_loss: 0.0011 - lr: 3.6973e-05\n",
      "Epoch 101/200\n",
      "23/23 [==============================] - ETA: 0s - loss: 0.0093 - semantic_0_loss: 0.0024 - semantic_1_loss: 0.0058 - semantic_2_loss: 0.0011WARNING:tensorflow:Can save best model only with val_loss available, skipping.\n"
     ]
    },
    {
     "name": "stderr",
     "output_type": "stream",
     "text": [
      "WARNING:tensorflow:Can save best model only with val_loss available, skipping.\n"
     ]
    },
    {
     "name": "stdout",
     "output_type": "stream",
     "text": [
      "23/23 [==============================] - 12s 525ms/step - loss: 0.0093 - semantic_0_loss: 0.0024 - semantic_1_loss: 0.0058 - semantic_2_loss: 0.0011 - lr: 3.6603e-05\n",
      "Epoch 102/200\n",
      "23/23 [==============================] - ETA: 0s - loss: 0.0092 - semantic_0_loss: 0.0024 - semantic_1_loss: 0.0057 - semantic_2_loss: 0.0011WARNING:tensorflow:Can save best model only with val_loss available, skipping.\n"
     ]
    },
    {
     "name": "stderr",
     "output_type": "stream",
     "text": [
      "WARNING:tensorflow:Can save best model only with val_loss available, skipping.\n"
     ]
    },
    {
     "name": "stdout",
     "output_type": "stream",
     "text": [
      "23/23 [==============================] - 13s 541ms/step - loss: 0.0092 - semantic_0_loss: 0.0024 - semantic_1_loss: 0.0057 - semantic_2_loss: 0.0011 - lr: 3.6237e-05\n",
      "Epoch 103/200\n",
      "23/23 [==============================] - ETA: 0s - loss: 0.0090 - semantic_0_loss: 0.0023 - semantic_1_loss: 0.0056 - semantic_2_loss: 0.0011WARNING:tensorflow:Can save best model only with val_loss available, skipping.\n"
     ]
    },
    {
     "name": "stderr",
     "output_type": "stream",
     "text": [
      "WARNING:tensorflow:Can save best model only with val_loss available, skipping.\n"
     ]
    },
    {
     "name": "stdout",
     "output_type": "stream",
     "text": [
      "23/23 [==============================] - 12s 525ms/step - loss: 0.0090 - semantic_0_loss: 0.0023 - semantic_1_loss: 0.0056 - semantic_2_loss: 0.0011 - lr: 3.5875e-05\n",
      "Epoch 104/200\n",
      "23/23 [==============================] - ETA: 0s - loss: 0.0089 - semantic_0_loss: 0.0023 - semantic_1_loss: 0.0055 - semantic_2_loss: 0.0011WARNING:tensorflow:Can save best model only with val_loss available, skipping.\n"
     ]
    },
    {
     "name": "stderr",
     "output_type": "stream",
     "text": [
      "WARNING:tensorflow:Can save best model only with val_loss available, skipping.\n"
     ]
    },
    {
     "name": "stdout",
     "output_type": "stream",
     "text": [
      "23/23 [==============================] - 12s 515ms/step - loss: 0.0089 - semantic_0_loss: 0.0023 - semantic_1_loss: 0.0055 - semantic_2_loss: 0.0011 - lr: 3.5516e-05\n",
      "Epoch 105/200\n",
      "23/23 [==============================] - ETA: 0s - loss: 0.0091 - semantic_0_loss: 0.0023 - semantic_1_loss: 0.0057 - semantic_2_loss: 0.0011WARNING:tensorflow:Can save best model only with val_loss available, skipping.\n"
     ]
    },
    {
     "name": "stderr",
     "output_type": "stream",
     "text": [
      "WARNING:tensorflow:Can save best model only with val_loss available, skipping.\n"
     ]
    },
    {
     "name": "stdout",
     "output_type": "stream",
     "text": [
      "23/23 [==============================] - 12s 516ms/step - loss: 0.0091 - semantic_0_loss: 0.0023 - semantic_1_loss: 0.0057 - semantic_2_loss: 0.0011 - lr: 3.5161e-05\n",
      "Epoch 106/200\n",
      "23/23 [==============================] - ETA: 0s - loss: 0.0092 - semantic_0_loss: 0.0024 - semantic_1_loss: 0.0057 - semantic_2_loss: 0.0011WARNING:tensorflow:Can save best model only with val_loss available, skipping.\n"
     ]
    },
    {
     "name": "stderr",
     "output_type": "stream",
     "text": [
      "WARNING:tensorflow:Can save best model only with val_loss available, skipping.\n"
     ]
    },
    {
     "name": "stdout",
     "output_type": "stream",
     "text": [
      "23/23 [==============================] - 12s 524ms/step - loss: 0.0092 - semantic_0_loss: 0.0024 - semantic_1_loss: 0.0057 - semantic_2_loss: 0.0011 - lr: 3.4809e-05\n",
      "Epoch 107/200\n",
      "23/23 [==============================] - ETA: 0s - loss: 0.0092 - semantic_0_loss: 0.0023 - semantic_1_loss: 0.0057 - semantic_2_loss: 0.0011WARNING:tensorflow:Can save best model only with val_loss available, skipping.\n"
     ]
    },
    {
     "name": "stderr",
     "output_type": "stream",
     "text": [
      "WARNING:tensorflow:Can save best model only with val_loss available, skipping.\n"
     ]
    },
    {
     "name": "stdout",
     "output_type": "stream",
     "text": [
      "23/23 [==============================] - 13s 572ms/step - loss: 0.0092 - semantic_0_loss: 0.0023 - semantic_1_loss: 0.0057 - semantic_2_loss: 0.0011 - lr: 3.4461e-05\n",
      "Epoch 108/200\n",
      "23/23 [==============================] - ETA: 0s - loss: 0.0091 - semantic_0_loss: 0.0023 - semantic_1_loss: 0.0056 - semantic_2_loss: 0.0011WARNING:tensorflow:Can save best model only with val_loss available, skipping.\n"
     ]
    },
    {
     "name": "stderr",
     "output_type": "stream",
     "text": [
      "WARNING:tensorflow:Can save best model only with val_loss available, skipping.\n"
     ]
    },
    {
     "name": "stdout",
     "output_type": "stream",
     "text": [
      "23/23 [==============================] - 12s 529ms/step - loss: 0.0091 - semantic_0_loss: 0.0023 - semantic_1_loss: 0.0056 - semantic_2_loss: 0.0011 - lr: 3.4117e-05\n",
      "Epoch 109/200\n",
      "23/23 [==============================] - ETA: 0s - loss: 0.0093 - semantic_0_loss: 0.0024 - semantic_1_loss: 0.0058 - semantic_2_loss: 0.0011WARNING:tensorflow:Can save best model only with val_loss available, skipping.\n"
     ]
    },
    {
     "name": "stderr",
     "output_type": "stream",
     "text": [
      "WARNING:tensorflow:Can save best model only with val_loss available, skipping.\n"
     ]
    },
    {
     "name": "stdout",
     "output_type": "stream",
     "text": [
      "23/23 [==============================] - 12s 530ms/step - loss: 0.0093 - semantic_0_loss: 0.0024 - semantic_1_loss: 0.0058 - semantic_2_loss: 0.0011 - lr: 3.3775e-05\n",
      "Epoch 110/200\n",
      "23/23 [==============================] - ETA: 0s - loss: 0.0088 - semantic_0_loss: 0.0023 - semantic_1_loss: 0.0055 - semantic_2_loss: 0.0011WARNING:tensorflow:Can save best model only with val_loss available, skipping.\n"
     ]
    },
    {
     "name": "stderr",
     "output_type": "stream",
     "text": [
      "WARNING:tensorflow:Can save best model only with val_loss available, skipping.\n"
     ]
    },
    {
     "name": "stdout",
     "output_type": "stream",
     "text": [
      "23/23 [==============================] - 12s 526ms/step - loss: 0.0088 - semantic_0_loss: 0.0023 - semantic_1_loss: 0.0055 - semantic_2_loss: 0.0011 - lr: 3.3438e-05\n",
      "Epoch 111/200\n",
      "23/23 [==============================] - ETA: 0s - loss: 0.0095 - semantic_0_loss: 0.0024 - semantic_1_loss: 0.0059 - semantic_2_loss: 0.0011WARNING:tensorflow:Can save best model only with val_loss available, skipping.\n"
     ]
    },
    {
     "name": "stderr",
     "output_type": "stream",
     "text": [
      "WARNING:tensorflow:Can save best model only with val_loss available, skipping.\n"
     ]
    },
    {
     "name": "stdout",
     "output_type": "stream",
     "text": [
      "23/23 [==============================] - 12s 523ms/step - loss: 0.0095 - semantic_0_loss: 0.0024 - semantic_1_loss: 0.0059 - semantic_2_loss: 0.0011 - lr: 3.3103e-05\n",
      "Epoch 112/200\n",
      "23/23 [==============================] - ETA: 0s - loss: 0.0092 - semantic_0_loss: 0.0024 - semantic_1_loss: 0.0057 - semantic_2_loss: 0.0011WARNING:tensorflow:Can save best model only with val_loss available, skipping.\n"
     ]
    },
    {
     "name": "stderr",
     "output_type": "stream",
     "text": [
      "WARNING:tensorflow:Can save best model only with val_loss available, skipping.\n"
     ]
    },
    {
     "name": "stdout",
     "output_type": "stream",
     "text": [
      "23/23 [==============================] - 12s 527ms/step - loss: 0.0092 - semantic_0_loss: 0.0024 - semantic_1_loss: 0.0057 - semantic_2_loss: 0.0011 - lr: 3.2772e-05\n",
      "Epoch 113/200\n",
      "23/23 [==============================] - ETA: 0s - loss: 0.0090 - semantic_0_loss: 0.0023 - semantic_1_loss: 0.0056 - semantic_2_loss: 0.0011WARNING:tensorflow:Can save best model only with val_loss available, skipping.\n"
     ]
    },
    {
     "name": "stderr",
     "output_type": "stream",
     "text": [
      "WARNING:tensorflow:Can save best model only with val_loss available, skipping.\n"
     ]
    },
    {
     "name": "stdout",
     "output_type": "stream",
     "text": [
      "23/23 [==============================] - 12s 520ms/step - loss: 0.0090 - semantic_0_loss: 0.0023 - semantic_1_loss: 0.0056 - semantic_2_loss: 0.0011 - lr: 3.2445e-05\n",
      "Epoch 114/200\n",
      "23/23 [==============================] - ETA: 0s - loss: 0.0091 - semantic_0_loss: 0.0024 - semantic_1_loss: 0.0057 - semantic_2_loss: 0.0011WARNING:tensorflow:Can save best model only with val_loss available, skipping.\n"
     ]
    },
    {
     "name": "stderr",
     "output_type": "stream",
     "text": [
      "WARNING:tensorflow:Can save best model only with val_loss available, skipping.\n"
     ]
    },
    {
     "name": "stdout",
     "output_type": "stream",
     "text": [
      "23/23 [==============================] - 12s 528ms/step - loss: 0.0091 - semantic_0_loss: 0.0024 - semantic_1_loss: 0.0057 - semantic_2_loss: 0.0011 - lr: 3.2120e-05\n",
      "Epoch 115/200\n",
      "23/23 [==============================] - ETA: 0s - loss: 0.0090 - semantic_0_loss: 0.0023 - semantic_1_loss: 0.0056 - semantic_2_loss: 0.0011WARNING:tensorflow:Can save best model only with val_loss available, skipping.\n"
     ]
    },
    {
     "name": "stderr",
     "output_type": "stream",
     "text": [
      "WARNING:tensorflow:Can save best model only with val_loss available, skipping.\n"
     ]
    },
    {
     "name": "stdout",
     "output_type": "stream",
     "text": [
      "23/23 [==============================] - 12s 520ms/step - loss: 0.0090 - semantic_0_loss: 0.0023 - semantic_1_loss: 0.0056 - semantic_2_loss: 0.0011 - lr: 3.1799e-05\n",
      "Epoch 116/200\n",
      "23/23 [==============================] - ETA: 0s - loss: 0.0091 - semantic_0_loss: 0.0023 - semantic_1_loss: 0.0056 - semantic_2_loss: 0.0011WARNING:tensorflow:Can save best model only with val_loss available, skipping.\n"
     ]
    },
    {
     "name": "stderr",
     "output_type": "stream",
     "text": [
      "WARNING:tensorflow:Can save best model only with val_loss available, skipping.\n"
     ]
    },
    {
     "name": "stdout",
     "output_type": "stream",
     "text": [
      "23/23 [==============================] - 12s 532ms/step - loss: 0.0091 - semantic_0_loss: 0.0023 - semantic_1_loss: 0.0056 - semantic_2_loss: 0.0011 - lr: 3.1481e-05\n",
      "Epoch 117/200\n",
      "23/23 [==============================] - ETA: 0s - loss: 0.0087 - semantic_0_loss: 0.0023 - semantic_1_loss: 0.0054 - semantic_2_loss: 0.0011WARNING:tensorflow:Can save best model only with val_loss available, skipping.\n"
     ]
    },
    {
     "name": "stderr",
     "output_type": "stream",
     "text": [
      "WARNING:tensorflow:Can save best model only with val_loss available, skipping.\n"
     ]
    },
    {
     "name": "stdout",
     "output_type": "stream",
     "text": [
      "23/23 [==============================] - 12s 519ms/step - loss: 0.0087 - semantic_0_loss: 0.0023 - semantic_1_loss: 0.0054 - semantic_2_loss: 0.0011 - lr: 3.1166e-05\n",
      "Epoch 118/200\n",
      "23/23 [==============================] - ETA: 0s - loss: 0.0090 - semantic_0_loss: 0.0024 - semantic_1_loss: 0.0056 - semantic_2_loss: 0.0011WARNING:tensorflow:Can save best model only with val_loss available, skipping.\n"
     ]
    },
    {
     "name": "stderr",
     "output_type": "stream",
     "text": [
      "WARNING:tensorflow:Can save best model only with val_loss available, skipping.\n"
     ]
    },
    {
     "name": "stdout",
     "output_type": "stream",
     "text": [
      "23/23 [==============================] - 12s 524ms/step - loss: 0.0090 - semantic_0_loss: 0.0024 - semantic_1_loss: 0.0056 - semantic_2_loss: 0.0011 - lr: 3.0854e-05\n",
      "Epoch 119/200\n",
      "23/23 [==============================] - ETA: 0s - loss: 0.0087 - semantic_0_loss: 0.0022 - semantic_1_loss: 0.0054 - semantic_2_loss: 0.0011WARNING:tensorflow:Can save best model only with val_loss available, skipping.\n"
     ]
    },
    {
     "name": "stderr",
     "output_type": "stream",
     "text": [
      "WARNING:tensorflow:Can save best model only with val_loss available, skipping.\n"
     ]
    },
    {
     "name": "stdout",
     "output_type": "stream",
     "text": [
      "23/23 [==============================] - 12s 525ms/step - loss: 0.0087 - semantic_0_loss: 0.0022 - semantic_1_loss: 0.0054 - semantic_2_loss: 0.0011 - lr: 3.0546e-05\n",
      "Epoch 120/200\n",
      "23/23 [==============================] - ETA: 0s - loss: 0.0091 - semantic_0_loss: 0.0024 - semantic_1_loss: 0.0057 - semantic_2_loss: 0.0011WARNING:tensorflow:Can save best model only with val_loss available, skipping.\n"
     ]
    },
    {
     "name": "stderr",
     "output_type": "stream",
     "text": [
      "WARNING:tensorflow:Can save best model only with val_loss available, skipping.\n"
     ]
    },
    {
     "name": "stdout",
     "output_type": "stream",
     "text": [
      "23/23 [==============================] - 12s 528ms/step - loss: 0.0091 - semantic_0_loss: 0.0024 - semantic_1_loss: 0.0057 - semantic_2_loss: 0.0011 - lr: 3.0240e-05\n",
      "Epoch 121/200\n",
      "23/23 [==============================] - ETA: 0s - loss: 0.0089 - semantic_0_loss: 0.0023 - semantic_1_loss: 0.0055 - semantic_2_loss: 0.0011WARNING:tensorflow:Can save best model only with val_loss available, skipping.\n"
     ]
    },
    {
     "name": "stderr",
     "output_type": "stream",
     "text": [
      "WARNING:tensorflow:Can save best model only with val_loss available, skipping.\n"
     ]
    },
    {
     "name": "stdout",
     "output_type": "stream",
     "text": [
      "23/23 [==============================] - 12s 521ms/step - loss: 0.0089 - semantic_0_loss: 0.0023 - semantic_1_loss: 0.0055 - semantic_2_loss: 0.0011 - lr: 2.9938e-05\n",
      "Epoch 122/200\n",
      "23/23 [==============================] - ETA: 0s - loss: 0.0090 - semantic_0_loss: 0.0023 - semantic_1_loss: 0.0056 - semantic_2_loss: 0.0011WARNING:tensorflow:Can save best model only with val_loss available, skipping.\n"
     ]
    },
    {
     "name": "stderr",
     "output_type": "stream",
     "text": [
      "WARNING:tensorflow:Can save best model only with val_loss available, skipping.\n"
     ]
    },
    {
     "name": "stdout",
     "output_type": "stream",
     "text": [
      "23/23 [==============================] - 13s 538ms/step - loss: 0.0090 - semantic_0_loss: 0.0023 - semantic_1_loss: 0.0056 - semantic_2_loss: 0.0011 - lr: 2.9639e-05\n",
      "Epoch 123/200\n",
      "23/23 [==============================] - ETA: 0s - loss: 0.0090 - semantic_0_loss: 0.0023 - semantic_1_loss: 0.0056 - semantic_2_loss: 0.0011WARNING:tensorflow:Can save best model only with val_loss available, skipping.\n"
     ]
    },
    {
     "name": "stderr",
     "output_type": "stream",
     "text": [
      "WARNING:tensorflow:Can save best model only with val_loss available, skipping.\n"
     ]
    },
    {
     "name": "stdout",
     "output_type": "stream",
     "text": [
      "23/23 [==============================] - 12s 530ms/step - loss: 0.0090 - semantic_0_loss: 0.0023 - semantic_1_loss: 0.0056 - semantic_2_loss: 0.0011 - lr: 2.9342e-05\n",
      "Epoch 124/200\n",
      "23/23 [==============================] - ETA: 0s - loss: 0.0090 - semantic_0_loss: 0.0023 - semantic_1_loss: 0.0056 - semantic_2_loss: 0.0011WARNING:tensorflow:Can save best model only with val_loss available, skipping.\n"
     ]
    },
    {
     "name": "stderr",
     "output_type": "stream",
     "text": [
      "WARNING:tensorflow:Can save best model only with val_loss available, skipping.\n"
     ]
    },
    {
     "name": "stdout",
     "output_type": "stream",
     "text": [
      "23/23 [==============================] - 12s 512ms/step - loss: 0.0090 - semantic_0_loss: 0.0023 - semantic_1_loss: 0.0056 - semantic_2_loss: 0.0011 - lr: 2.9049e-05\n",
      "Epoch 125/200\n",
      "23/23 [==============================] - ETA: 0s - loss: 0.0090 - semantic_0_loss: 0.0024 - semantic_1_loss: 0.0055 - semantic_2_loss: 0.0011WARNING:tensorflow:Can save best model only with val_loss available, skipping.\n"
     ]
    },
    {
     "name": "stderr",
     "output_type": "stream",
     "text": [
      "WARNING:tensorflow:Can save best model only with val_loss available, skipping.\n"
     ]
    },
    {
     "name": "stdout",
     "output_type": "stream",
     "text": [
      "23/23 [==============================] - 12s 523ms/step - loss: 0.0090 - semantic_0_loss: 0.0024 - semantic_1_loss: 0.0055 - semantic_2_loss: 0.0011 - lr: 2.8758e-05\n",
      "Epoch 126/200\n",
      "23/23 [==============================] - ETA: 0s - loss: 0.0090 - semantic_0_loss: 0.0023 - semantic_1_loss: 0.0056 - semantic_2_loss: 0.0011WARNING:tensorflow:Can save best model only with val_loss available, skipping.\n"
     ]
    },
    {
     "name": "stderr",
     "output_type": "stream",
     "text": [
      "WARNING:tensorflow:Can save best model only with val_loss available, skipping.\n"
     ]
    },
    {
     "name": "stdout",
     "output_type": "stream",
     "text": [
      "23/23 [==============================] - 12s 525ms/step - loss: 0.0090 - semantic_0_loss: 0.0023 - semantic_1_loss: 0.0056 - semantic_2_loss: 0.0011 - lr: 2.8471e-05\n",
      "Epoch 127/200\n",
      "23/23 [==============================] - ETA: 0s - loss: 0.0090 - semantic_0_loss: 0.0023 - semantic_1_loss: 0.0056 - semantic_2_loss: 0.0011WARNING:tensorflow:Can save best model only with val_loss available, skipping.\n"
     ]
    },
    {
     "name": "stderr",
     "output_type": "stream",
     "text": [
      "WARNING:tensorflow:Can save best model only with val_loss available, skipping.\n"
     ]
    },
    {
     "name": "stdout",
     "output_type": "stream",
     "text": [
      "23/23 [==============================] - 12s 520ms/step - loss: 0.0090 - semantic_0_loss: 0.0023 - semantic_1_loss: 0.0056 - semantic_2_loss: 0.0011 - lr: 2.8186e-05\n",
      "Epoch 128/200\n",
      "23/23 [==============================] - ETA: 0s - loss: 0.0089 - semantic_0_loss: 0.0023 - semantic_1_loss: 0.0055 - semantic_2_loss: 0.0011WARNING:tensorflow:Can save best model only with val_loss available, skipping.\n"
     ]
    },
    {
     "name": "stderr",
     "output_type": "stream",
     "text": [
      "WARNING:tensorflow:Can save best model only with val_loss available, skipping.\n"
     ]
    },
    {
     "name": "stdout",
     "output_type": "stream",
     "text": [
      "23/23 [==============================] - 12s 516ms/step - loss: 0.0089 - semantic_0_loss: 0.0023 - semantic_1_loss: 0.0055 - semantic_2_loss: 0.0011 - lr: 2.7904e-05\n",
      "Epoch 129/200\n",
      "23/23 [==============================] - ETA: 0s - loss: 0.0088 - semantic_0_loss: 0.0023 - semantic_1_loss: 0.0054 - semantic_2_loss: 0.0011WARNING:tensorflow:Can save best model only with val_loss available, skipping.\n"
     ]
    },
    {
     "name": "stderr",
     "output_type": "stream",
     "text": [
      "WARNING:tensorflow:Can save best model only with val_loss available, skipping.\n"
     ]
    },
    {
     "name": "stdout",
     "output_type": "stream",
     "text": [
      "23/23 [==============================] - 12s 519ms/step - loss: 0.0088 - semantic_0_loss: 0.0023 - semantic_1_loss: 0.0054 - semantic_2_loss: 0.0011 - lr: 2.7625e-05\n",
      "Epoch 130/200\n",
      "23/23 [==============================] - ETA: 0s - loss: 0.0092 - semantic_0_loss: 0.0024 - semantic_1_loss: 0.0057 - semantic_2_loss: 0.0011WARNING:tensorflow:Can save best model only with val_loss available, skipping.\n"
     ]
    },
    {
     "name": "stderr",
     "output_type": "stream",
     "text": [
      "WARNING:tensorflow:Can save best model only with val_loss available, skipping.\n"
     ]
    },
    {
     "name": "stdout",
     "output_type": "stream",
     "text": [
      "23/23 [==============================] - 12s 517ms/step - loss: 0.0092 - semantic_0_loss: 0.0024 - semantic_1_loss: 0.0057 - semantic_2_loss: 0.0011 - lr: 2.7349e-05\n",
      "Epoch 131/200\n",
      "23/23 [==============================] - ETA: 0s - loss: 0.0089 - semantic_0_loss: 0.0023 - semantic_1_loss: 0.0055 - semantic_2_loss: 0.0011WARNING:tensorflow:Can save best model only with val_loss available, skipping.\n"
     ]
    },
    {
     "name": "stderr",
     "output_type": "stream",
     "text": [
      "WARNING:tensorflow:Can save best model only with val_loss available, skipping.\n"
     ]
    },
    {
     "name": "stdout",
     "output_type": "stream",
     "text": [
      "23/23 [==============================] - 12s 521ms/step - loss: 0.0089 - semantic_0_loss: 0.0023 - semantic_1_loss: 0.0055 - semantic_2_loss: 0.0011 - lr: 2.7075e-05\n",
      "Epoch 132/200\n",
      "23/23 [==============================] - ETA: 0s - loss: 0.0088 - semantic_0_loss: 0.0023 - semantic_1_loss: 0.0054 - semantic_2_loss: 0.0011WARNING:tensorflow:Can save best model only with val_loss available, skipping.\n"
     ]
    },
    {
     "name": "stderr",
     "output_type": "stream",
     "text": [
      "WARNING:tensorflow:Can save best model only with val_loss available, skipping.\n"
     ]
    },
    {
     "name": "stdout",
     "output_type": "stream",
     "text": [
      "23/23 [==============================] - 12s 526ms/step - loss: 0.0088 - semantic_0_loss: 0.0023 - semantic_1_loss: 0.0054 - semantic_2_loss: 0.0011 - lr: 2.6805e-05\n",
      "Epoch 133/200\n",
      "23/23 [==============================] - ETA: 0s - loss: 0.0091 - semantic_0_loss: 0.0024 - semantic_1_loss: 0.0056 - semantic_2_loss: 0.0011WARNING:tensorflow:Can save best model only with val_loss available, skipping.\n"
     ]
    },
    {
     "name": "stderr",
     "output_type": "stream",
     "text": [
      "WARNING:tensorflow:Can save best model only with val_loss available, skipping.\n"
     ]
    },
    {
     "name": "stdout",
     "output_type": "stream",
     "text": [
      "23/23 [==============================] - 12s 521ms/step - loss: 0.0091 - semantic_0_loss: 0.0024 - semantic_1_loss: 0.0056 - semantic_2_loss: 0.0011 - lr: 2.6537e-05\n",
      "Epoch 134/200\n",
      "23/23 [==============================] - ETA: 0s - loss: 0.0087 - semantic_0_loss: 0.0022 - semantic_1_loss: 0.0054 - semantic_2_loss: 0.0011WARNING:tensorflow:Can save best model only with val_loss available, skipping.\n"
     ]
    },
    {
     "name": "stderr",
     "output_type": "stream",
     "text": [
      "WARNING:tensorflow:Can save best model only with val_loss available, skipping.\n"
     ]
    },
    {
     "name": "stdout",
     "output_type": "stream",
     "text": [
      "23/23 [==============================] - 12s 521ms/step - loss: 0.0087 - semantic_0_loss: 0.0022 - semantic_1_loss: 0.0054 - semantic_2_loss: 0.0011 - lr: 2.6271e-05\n",
      "Epoch 135/200\n",
      "23/23 [==============================] - ETA: 0s - loss: 0.0087 - semantic_0_loss: 0.0023 - semantic_1_loss: 0.0054 - semantic_2_loss: 0.0011WARNING:tensorflow:Can save best model only with val_loss available, skipping.\n"
     ]
    },
    {
     "name": "stderr",
     "output_type": "stream",
     "text": [
      "WARNING:tensorflow:Can save best model only with val_loss available, skipping.\n"
     ]
    },
    {
     "name": "stdout",
     "output_type": "stream",
     "text": [
      "23/23 [==============================] - 12s 529ms/step - loss: 0.0087 - semantic_0_loss: 0.0023 - semantic_1_loss: 0.0054 - semantic_2_loss: 0.0011 - lr: 2.6009e-05\n",
      "Epoch 136/200\n",
      "23/23 [==============================] - ETA: 0s - loss: 0.0089 - semantic_0_loss: 0.0023 - semantic_1_loss: 0.0055 - semantic_2_loss: 0.0011WARNING:tensorflow:Can save best model only with val_loss available, skipping.\n"
     ]
    },
    {
     "name": "stderr",
     "output_type": "stream",
     "text": [
      "WARNING:tensorflow:Can save best model only with val_loss available, skipping.\n"
     ]
    },
    {
     "name": "stdout",
     "output_type": "stream",
     "text": [
      "23/23 [==============================] - 12s 525ms/step - loss: 0.0089 - semantic_0_loss: 0.0023 - semantic_1_loss: 0.0055 - semantic_2_loss: 0.0011 - lr: 2.5748e-05\n",
      "Epoch 137/200\n",
      "23/23 [==============================] - ETA: 0s - loss: 0.0090 - semantic_0_loss: 0.0024 - semantic_1_loss: 0.0056 - semantic_2_loss: 0.0011WARNING:tensorflow:Can save best model only with val_loss available, skipping.\n"
     ]
    },
    {
     "name": "stderr",
     "output_type": "stream",
     "text": [
      "WARNING:tensorflow:Can save best model only with val_loss available, skipping.\n"
     ]
    },
    {
     "name": "stdout",
     "output_type": "stream",
     "text": [
      "23/23 [==============================] - 13s 542ms/step - loss: 0.0090 - semantic_0_loss: 0.0024 - semantic_1_loss: 0.0056 - semantic_2_loss: 0.0011 - lr: 2.5491e-05\n",
      "Epoch 138/200\n",
      "23/23 [==============================] - ETA: 0s - loss: 0.0087 - semantic_0_loss: 0.0022 - semantic_1_loss: 0.0054 - semantic_2_loss: 0.0011WARNING:tensorflow:Can save best model only with val_loss available, skipping.\n"
     ]
    },
    {
     "name": "stderr",
     "output_type": "stream",
     "text": [
      "WARNING:tensorflow:Can save best model only with val_loss available, skipping.\n"
     ]
    },
    {
     "name": "stdout",
     "output_type": "stream",
     "text": [
      "23/23 [==============================] - 12s 512ms/step - loss: 0.0087 - semantic_0_loss: 0.0022 - semantic_1_loss: 0.0054 - semantic_2_loss: 0.0011 - lr: 2.5236e-05\n",
      "Epoch 139/200\n",
      "23/23 [==============================] - ETA: 0s - loss: 0.0087 - semantic_0_loss: 0.0023 - semantic_1_loss: 0.0053 - semantic_2_loss: 0.0011WARNING:tensorflow:Can save best model only with val_loss available, skipping.\n"
     ]
    },
    {
     "name": "stderr",
     "output_type": "stream",
     "text": [
      "WARNING:tensorflow:Can save best model only with val_loss available, skipping.\n"
     ]
    },
    {
     "name": "stdout",
     "output_type": "stream",
     "text": [
      "23/23 [==============================] - 12s 516ms/step - loss: 0.0087 - semantic_0_loss: 0.0023 - semantic_1_loss: 0.0053 - semantic_2_loss: 0.0011 - lr: 2.4984e-05\n",
      "Epoch 140/200\n",
      "23/23 [==============================] - ETA: 0s - loss: 0.0089 - semantic_0_loss: 0.0023 - semantic_1_loss: 0.0055 - semantic_2_loss: 0.0011WARNING:tensorflow:Can save best model only with val_loss available, skipping.\n"
     ]
    },
    {
     "name": "stderr",
     "output_type": "stream",
     "text": [
      "WARNING:tensorflow:Can save best model only with val_loss available, skipping.\n"
     ]
    },
    {
     "name": "stdout",
     "output_type": "stream",
     "text": [
      "23/23 [==============================] - 12s 519ms/step - loss: 0.0089 - semantic_0_loss: 0.0023 - semantic_1_loss: 0.0055 - semantic_2_loss: 0.0011 - lr: 2.4734e-05\n",
      "Epoch 141/200\n",
      "23/23 [==============================] - ETA: 0s - loss: 0.0087 - semantic_0_loss: 0.0023 - semantic_1_loss: 0.0054 - semantic_2_loss: 0.0011WARNING:tensorflow:Can save best model only with val_loss available, skipping.\n"
     ]
    },
    {
     "name": "stderr",
     "output_type": "stream",
     "text": [
      "WARNING:tensorflow:Can save best model only with val_loss available, skipping.\n"
     ]
    },
    {
     "name": "stdout",
     "output_type": "stream",
     "text": [
      "23/23 [==============================] - 12s 533ms/step - loss: 0.0087 - semantic_0_loss: 0.0023 - semantic_1_loss: 0.0054 - semantic_2_loss: 0.0011 - lr: 2.4487e-05\n",
      "Epoch 142/200\n",
      "23/23 [==============================] - ETA: 0s - loss: 0.0087 - semantic_0_loss: 0.0023 - semantic_1_loss: 0.0054 - semantic_2_loss: 0.0011WARNING:tensorflow:Can save best model only with val_loss available, skipping.\n"
     ]
    },
    {
     "name": "stderr",
     "output_type": "stream",
     "text": [
      "WARNING:tensorflow:Can save best model only with val_loss available, skipping.\n"
     ]
    },
    {
     "name": "stdout",
     "output_type": "stream",
     "text": [
      "23/23 [==============================] - 12s 520ms/step - loss: 0.0087 - semantic_0_loss: 0.0023 - semantic_1_loss: 0.0054 - semantic_2_loss: 0.0011 - lr: 2.4242e-05\n",
      "Epoch 143/200\n",
      "23/23 [==============================] - ETA: 0s - loss: 0.0087 - semantic_0_loss: 0.0023 - semantic_1_loss: 0.0053 - semantic_2_loss: 0.0011WARNING:tensorflow:Can save best model only with val_loss available, skipping.\n"
     ]
    },
    {
     "name": "stderr",
     "output_type": "stream",
     "text": [
      "WARNING:tensorflow:Can save best model only with val_loss available, skipping.\n"
     ]
    },
    {
     "name": "stdout",
     "output_type": "stream",
     "text": [
      "23/23 [==============================] - 12s 517ms/step - loss: 0.0087 - semantic_0_loss: 0.0023 - semantic_1_loss: 0.0053 - semantic_2_loss: 0.0011 - lr: 2.3999e-05\n",
      "Epoch 144/200\n",
      "23/23 [==============================] - ETA: 0s - loss: 0.0089 - semantic_0_loss: 0.0023 - semantic_1_loss: 0.0055 - semantic_2_loss: 0.0011WARNING:tensorflow:Can save best model only with val_loss available, skipping.\n"
     ]
    },
    {
     "name": "stderr",
     "output_type": "stream",
     "text": [
      "WARNING:tensorflow:Can save best model only with val_loss available, skipping.\n"
     ]
    },
    {
     "name": "stdout",
     "output_type": "stream",
     "text": [
      "23/23 [==============================] - 12s 534ms/step - loss: 0.0089 - semantic_0_loss: 0.0023 - semantic_1_loss: 0.0055 - semantic_2_loss: 0.0011 - lr: 2.3759e-05\n",
      "Epoch 145/200\n",
      "23/23 [==============================] - ETA: 0s - loss: 0.0083 - semantic_0_loss: 0.0022 - semantic_1_loss: 0.0051 - semantic_2_loss: 0.0011WARNING:tensorflow:Can save best model only with val_loss available, skipping.\n"
     ]
    },
    {
     "name": "stderr",
     "output_type": "stream",
     "text": [
      "WARNING:tensorflow:Can save best model only with val_loss available, skipping.\n"
     ]
    },
    {
     "name": "stdout",
     "output_type": "stream",
     "text": [
      "23/23 [==============================] - 12s 526ms/step - loss: 0.0083 - semantic_0_loss: 0.0022 - semantic_1_loss: 0.0051 - semantic_2_loss: 0.0011 - lr: 2.3522e-05\n",
      "Epoch 146/200\n",
      "23/23 [==============================] - ETA: 0s - loss: 0.0086 - semantic_0_loss: 0.0022 - semantic_1_loss: 0.0053 - semantic_2_loss: 0.0011WARNING:tensorflow:Can save best model only with val_loss available, skipping.\n"
     ]
    },
    {
     "name": "stderr",
     "output_type": "stream",
     "text": [
      "WARNING:tensorflow:Can save best model only with val_loss available, skipping.\n"
     ]
    },
    {
     "name": "stdout",
     "output_type": "stream",
     "text": [
      "23/23 [==============================] - 12s 533ms/step - loss: 0.0086 - semantic_0_loss: 0.0022 - semantic_1_loss: 0.0053 - semantic_2_loss: 0.0011 - lr: 2.3286e-05\n",
      "Epoch 147/200\n",
      "23/23 [==============================] - ETA: 0s - loss: 0.0085 - semantic_0_loss: 0.0022 - semantic_1_loss: 0.0052 - semantic_2_loss: 0.0011WARNING:tensorflow:Can save best model only with val_loss available, skipping.\n"
     ]
    },
    {
     "name": "stderr",
     "output_type": "stream",
     "text": [
      "WARNING:tensorflow:Can save best model only with val_loss available, skipping.\n"
     ]
    },
    {
     "name": "stdout",
     "output_type": "stream",
     "text": [
      "23/23 [==============================] - 12s 526ms/step - loss: 0.0085 - semantic_0_loss: 0.0022 - semantic_1_loss: 0.0052 - semantic_2_loss: 0.0011 - lr: 2.3054e-05\n",
      "Epoch 148/200\n",
      "23/23 [==============================] - ETA: 0s - loss: 0.0087 - semantic_0_loss: 0.0023 - semantic_1_loss: 0.0054 - semantic_2_loss: 0.0011WARNING:tensorflow:Can save best model only with val_loss available, skipping.\n"
     ]
    },
    {
     "name": "stderr",
     "output_type": "stream",
     "text": [
      "WARNING:tensorflow:Can save best model only with val_loss available, skipping.\n"
     ]
    },
    {
     "name": "stdout",
     "output_type": "stream",
     "text": [
      "23/23 [==============================] - 13s 533ms/step - loss: 0.0087 - semantic_0_loss: 0.0023 - semantic_1_loss: 0.0054 - semantic_2_loss: 0.0011 - lr: 2.2823e-05\n",
      "Epoch 149/200\n",
      "23/23 [==============================] - ETA: 0s - loss: 0.0087 - semantic_0_loss: 0.0022 - semantic_1_loss: 0.0054 - semantic_2_loss: 0.0011WARNING:tensorflow:Can save best model only with val_loss available, skipping.\n"
     ]
    },
    {
     "name": "stderr",
     "output_type": "stream",
     "text": [
      "WARNING:tensorflow:Can save best model only with val_loss available, skipping.\n"
     ]
    },
    {
     "name": "stdout",
     "output_type": "stream",
     "text": [
      "23/23 [==============================] - 12s 520ms/step - loss: 0.0087 - semantic_0_loss: 0.0022 - semantic_1_loss: 0.0054 - semantic_2_loss: 0.0011 - lr: 2.2595e-05\n",
      "Epoch 150/200\n",
      "23/23 [==============================] - ETA: 0s - loss: 0.0087 - semantic_0_loss: 0.0023 - semantic_1_loss: 0.0054 - semantic_2_loss: 0.0011WARNING:tensorflow:Can save best model only with val_loss available, skipping.\n"
     ]
    },
    {
     "name": "stderr",
     "output_type": "stream",
     "text": [
      "WARNING:tensorflow:Can save best model only with val_loss available, skipping.\n"
     ]
    },
    {
     "name": "stdout",
     "output_type": "stream",
     "text": [
      "23/23 [==============================] - 12s 526ms/step - loss: 0.0087 - semantic_0_loss: 0.0023 - semantic_1_loss: 0.0054 - semantic_2_loss: 0.0011 - lr: 2.2369e-05\n",
      "Epoch 151/200\n",
      "23/23 [==============================] - ETA: 0s - loss: 0.0089 - semantic_0_loss: 0.0024 - semantic_1_loss: 0.0055 - semantic_2_loss: 0.0011WARNING:tensorflow:Can save best model only with val_loss available, skipping.\n"
     ]
    },
    {
     "name": "stderr",
     "output_type": "stream",
     "text": [
      "WARNING:tensorflow:Can save best model only with val_loss available, skipping.\n"
     ]
    },
    {
     "name": "stdout",
     "output_type": "stream",
     "text": [
      "23/23 [==============================] - 12s 536ms/step - loss: 0.0089 - semantic_0_loss: 0.0024 - semantic_1_loss: 0.0055 - semantic_2_loss: 0.0011 - lr: 2.2145e-05\n",
      "Epoch 152/200\n",
      "23/23 [==============================] - ETA: 0s - loss: 0.0086 - semantic_0_loss: 0.0023 - semantic_1_loss: 0.0053 - semantic_2_loss: 0.0011WARNING:tensorflow:Can save best model only with val_loss available, skipping.\n"
     ]
    },
    {
     "name": "stderr",
     "output_type": "stream",
     "text": [
      "WARNING:tensorflow:Can save best model only with val_loss available, skipping.\n"
     ]
    },
    {
     "name": "stdout",
     "output_type": "stream",
     "text": [
      "23/23 [==============================] - 12s 515ms/step - loss: 0.0086 - semantic_0_loss: 0.0023 - semantic_1_loss: 0.0053 - semantic_2_loss: 0.0011 - lr: 2.1924e-05\n",
      "Epoch 153/200\n",
      "23/23 [==============================] - ETA: 0s - loss: 0.0087 - semantic_0_loss: 0.0023 - semantic_1_loss: 0.0053 - semantic_2_loss: 0.0011WARNING:tensorflow:Can save best model only with val_loss available, skipping.\n"
     ]
    },
    {
     "name": "stderr",
     "output_type": "stream",
     "text": [
      "WARNING:tensorflow:Can save best model only with val_loss available, skipping.\n"
     ]
    },
    {
     "name": "stdout",
     "output_type": "stream",
     "text": [
      "23/23 [==============================] - 12s 523ms/step - loss: 0.0087 - semantic_0_loss: 0.0023 - semantic_1_loss: 0.0053 - semantic_2_loss: 0.0011 - lr: 2.1704e-05\n",
      "Epoch 154/200\n",
      "23/23 [==============================] - ETA: 0s - loss: 0.0087 - semantic_0_loss: 0.0023 - semantic_1_loss: 0.0054 - semantic_2_loss: 0.0011WARNING:tensorflow:Can save best model only with val_loss available, skipping.\n"
     ]
    },
    {
     "name": "stderr",
     "output_type": "stream",
     "text": [
      "WARNING:tensorflow:Can save best model only with val_loss available, skipping.\n"
     ]
    },
    {
     "name": "stdout",
     "output_type": "stream",
     "text": [
      "23/23 [==============================] - 12s 524ms/step - loss: 0.0087 - semantic_0_loss: 0.0023 - semantic_1_loss: 0.0054 - semantic_2_loss: 0.0011 - lr: 2.1487e-05\n",
      "Epoch 155/200\n",
      "23/23 [==============================] - ETA: 0s - loss: 0.0085 - semantic_0_loss: 0.0022 - semantic_1_loss: 0.0052 - semantic_2_loss: 0.0011WARNING:tensorflow:Can save best model only with val_loss available, skipping.\n"
     ]
    },
    {
     "name": "stderr",
     "output_type": "stream",
     "text": [
      "WARNING:tensorflow:Can save best model only with val_loss available, skipping.\n"
     ]
    },
    {
     "name": "stdout",
     "output_type": "stream",
     "text": [
      "23/23 [==============================] - 12s 515ms/step - loss: 0.0085 - semantic_0_loss: 0.0022 - semantic_1_loss: 0.0052 - semantic_2_loss: 0.0011 - lr: 2.1273e-05\n",
      "Epoch 156/200\n",
      "23/23 [==============================] - ETA: 0s - loss: 0.0085 - semantic_0_loss: 0.0022 - semantic_1_loss: 0.0052 - semantic_2_loss: 0.0010WARNING:tensorflow:Can save best model only with val_loss available, skipping.\n"
     ]
    },
    {
     "name": "stderr",
     "output_type": "stream",
     "text": [
      "WARNING:tensorflow:Can save best model only with val_loss available, skipping.\n"
     ]
    },
    {
     "name": "stdout",
     "output_type": "stream",
     "text": [
      "23/23 [==============================] - 12s 524ms/step - loss: 0.0085 - semantic_0_loss: 0.0022 - semantic_1_loss: 0.0052 - semantic_2_loss: 0.0010 - lr: 2.1060e-05\n",
      "Epoch 157/200\n",
      "23/23 [==============================] - ETA: 0s - loss: 0.0082 - semantic_0_loss: 0.0022 - semantic_1_loss: 0.0050 - semantic_2_loss: 0.0010WARNING:tensorflow:Can save best model only with val_loss available, skipping.\n"
     ]
    },
    {
     "name": "stderr",
     "output_type": "stream",
     "text": [
      "WARNING:tensorflow:Can save best model only with val_loss available, skipping.\n"
     ]
    },
    {
     "name": "stdout",
     "output_type": "stream",
     "text": [
      "23/23 [==============================] - 12s 529ms/step - loss: 0.0082 - semantic_0_loss: 0.0022 - semantic_1_loss: 0.0050 - semantic_2_loss: 0.0010 - lr: 2.0849e-05\n",
      "Epoch 158/200\n",
      "23/23 [==============================] - ETA: 0s - loss: 0.0085 - semantic_0_loss: 0.0022 - semantic_1_loss: 0.0052 - semantic_2_loss: 0.0011WARNING:tensorflow:Can save best model only with val_loss available, skipping.\n"
     ]
    },
    {
     "name": "stderr",
     "output_type": "stream",
     "text": [
      "WARNING:tensorflow:Can save best model only with val_loss available, skipping.\n"
     ]
    },
    {
     "name": "stdout",
     "output_type": "stream",
     "text": [
      "23/23 [==============================] - 12s 523ms/step - loss: 0.0085 - semantic_0_loss: 0.0022 - semantic_1_loss: 0.0052 - semantic_2_loss: 0.0011 - lr: 2.0641e-05\n",
      "Epoch 159/200\n",
      "23/23 [==============================] - ETA: 0s - loss: 0.0086 - semantic_0_loss: 0.0022 - semantic_1_loss: 0.0053 - semantic_2_loss: 0.0011WARNING:tensorflow:Can save best model only with val_loss available, skipping.\n"
     ]
    },
    {
     "name": "stderr",
     "output_type": "stream",
     "text": [
      "WARNING:tensorflow:Can save best model only with val_loss available, skipping.\n"
     ]
    },
    {
     "name": "stdout",
     "output_type": "stream",
     "text": [
      "23/23 [==============================] - 12s 538ms/step - loss: 0.0086 - semantic_0_loss: 0.0022 - semantic_1_loss: 0.0053 - semantic_2_loss: 0.0011 - lr: 2.0434e-05\n",
      "Epoch 160/200\n",
      "23/23 [==============================] - ETA: 0s - loss: 0.0084 - semantic_0_loss: 0.0022 - semantic_1_loss: 0.0051 - semantic_2_loss: 0.0010WARNING:tensorflow:Can save best model only with val_loss available, skipping.\n"
     ]
    },
    {
     "name": "stderr",
     "output_type": "stream",
     "text": [
      "WARNING:tensorflow:Can save best model only with val_loss available, skipping.\n"
     ]
    },
    {
     "name": "stdout",
     "output_type": "stream",
     "text": [
      "23/23 [==============================] - 12s 521ms/step - loss: 0.0084 - semantic_0_loss: 0.0022 - semantic_1_loss: 0.0051 - semantic_2_loss: 0.0010 - lr: 2.0230e-05\n",
      "Epoch 161/200\n",
      "23/23 [==============================] - ETA: 0s - loss: 0.0082 - semantic_0_loss: 0.0022 - semantic_1_loss: 0.0050 - semantic_2_loss: 0.0010WARNING:tensorflow:Can save best model only with val_loss available, skipping.\n"
     ]
    },
    {
     "name": "stderr",
     "output_type": "stream",
     "text": [
      "WARNING:tensorflow:Can save best model only with val_loss available, skipping.\n"
     ]
    },
    {
     "name": "stdout",
     "output_type": "stream",
     "text": [
      "23/23 [==============================] - 12s 511ms/step - loss: 0.0082 - semantic_0_loss: 0.0022 - semantic_1_loss: 0.0050 - semantic_2_loss: 0.0010 - lr: 2.0028e-05\n",
      "Epoch 162/200\n",
      "23/23 [==============================] - ETA: 0s - loss: 0.0087 - semantic_0_loss: 0.0023 - semantic_1_loss: 0.0053 - semantic_2_loss: 0.0011WARNING:tensorflow:Can save best model only with val_loss available, skipping.\n"
     ]
    },
    {
     "name": "stderr",
     "output_type": "stream",
     "text": [
      "WARNING:tensorflow:Can save best model only with val_loss available, skipping.\n"
     ]
    },
    {
     "name": "stdout",
     "output_type": "stream",
     "text": [
      "23/23 [==============================] - 12s 523ms/step - loss: 0.0087 - semantic_0_loss: 0.0023 - semantic_1_loss: 0.0053 - semantic_2_loss: 0.0011 - lr: 1.9827e-05\n",
      "Epoch 163/200\n",
      "23/23 [==============================] - ETA: 0s - loss: 0.0088 - semantic_0_loss: 0.0023 - semantic_1_loss: 0.0054 - semantic_2_loss: 0.0011WARNING:tensorflow:Can save best model only with val_loss available, skipping.\n"
     ]
    },
    {
     "name": "stderr",
     "output_type": "stream",
     "text": [
      "WARNING:tensorflow:Can save best model only with val_loss available, skipping.\n"
     ]
    },
    {
     "name": "stdout",
     "output_type": "stream",
     "text": [
      "23/23 [==============================] - 12s 531ms/step - loss: 0.0088 - semantic_0_loss: 0.0023 - semantic_1_loss: 0.0054 - semantic_2_loss: 0.0011 - lr: 1.9629e-05\n",
      "Epoch 164/200\n",
      "23/23 [==============================] - ETA: 0s - loss: 0.0084 - semantic_0_loss: 0.0022 - semantic_1_loss: 0.0052 - semantic_2_loss: 0.0010WARNING:tensorflow:Can save best model only with val_loss available, skipping.\n"
     ]
    },
    {
     "name": "stderr",
     "output_type": "stream",
     "text": [
      "WARNING:tensorflow:Can save best model only with val_loss available, skipping.\n"
     ]
    },
    {
     "name": "stdout",
     "output_type": "stream",
     "text": [
      "23/23 [==============================] - 12s 519ms/step - loss: 0.0084 - semantic_0_loss: 0.0022 - semantic_1_loss: 0.0052 - semantic_2_loss: 0.0010 - lr: 1.9433e-05\n",
      "Epoch 165/200\n",
      "23/23 [==============================] - ETA: 0s - loss: 0.0085 - semantic_0_loss: 0.0023 - semantic_1_loss: 0.0052 - semantic_2_loss: 0.0010WARNING:tensorflow:Can save best model only with val_loss available, skipping.\n"
     ]
    },
    {
     "name": "stderr",
     "output_type": "stream",
     "text": [
      "WARNING:tensorflow:Can save best model only with val_loss available, skipping.\n"
     ]
    },
    {
     "name": "stdout",
     "output_type": "stream",
     "text": [
      "23/23 [==============================] - 12s 522ms/step - loss: 0.0085 - semantic_0_loss: 0.0023 - semantic_1_loss: 0.0052 - semantic_2_loss: 0.0010 - lr: 1.9239e-05\n",
      "Epoch 166/200\n",
      "23/23 [==============================] - ETA: 0s - loss: 0.0086 - semantic_0_loss: 0.0023 - semantic_1_loss: 0.0053 - semantic_2_loss: 0.0011WARNING:tensorflow:Can save best model only with val_loss available, skipping.\n"
     ]
    },
    {
     "name": "stderr",
     "output_type": "stream",
     "text": [
      "WARNING:tensorflow:Can save best model only with val_loss available, skipping.\n"
     ]
    },
    {
     "name": "stdout",
     "output_type": "stream",
     "text": [
      "23/23 [==============================] - 13s 535ms/step - loss: 0.0086 - semantic_0_loss: 0.0023 - semantic_1_loss: 0.0053 - semantic_2_loss: 0.0011 - lr: 1.9046e-05\n",
      "Epoch 167/200\n",
      "23/23 [==============================] - ETA: 0s - loss: 0.0085 - semantic_0_loss: 0.0022 - semantic_1_loss: 0.0052 - semantic_2_loss: 0.0011WARNING:tensorflow:Can save best model only with val_loss available, skipping.\n"
     ]
    },
    {
     "name": "stderr",
     "output_type": "stream",
     "text": [
      "WARNING:tensorflow:Can save best model only with val_loss available, skipping.\n"
     ]
    },
    {
     "name": "stdout",
     "output_type": "stream",
     "text": [
      "23/23 [==============================] - 12s 535ms/step - loss: 0.0085 - semantic_0_loss: 0.0022 - semantic_1_loss: 0.0052 - semantic_2_loss: 0.0011 - lr: 1.8856e-05\n",
      "Epoch 168/200\n",
      "23/23 [==============================] - ETA: 0s - loss: 0.0085 - semantic_0_loss: 0.0022 - semantic_1_loss: 0.0052 - semantic_2_loss: 0.0011WARNING:tensorflow:Can save best model only with val_loss available, skipping.\n"
     ]
    },
    {
     "name": "stderr",
     "output_type": "stream",
     "text": [
      "WARNING:tensorflow:Can save best model only with val_loss available, skipping.\n"
     ]
    },
    {
     "name": "stdout",
     "output_type": "stream",
     "text": [
      "23/23 [==============================] - 12s 526ms/step - loss: 0.0085 - semantic_0_loss: 0.0022 - semantic_1_loss: 0.0052 - semantic_2_loss: 0.0011 - lr: 1.8667e-05\n",
      "Epoch 169/200\n",
      "23/23 [==============================] - ETA: 0s - loss: 0.0083 - semantic_0_loss: 0.0022 - semantic_1_loss: 0.0051 - semantic_2_loss: 0.0010WARNING:tensorflow:Can save best model only with val_loss available, skipping.\n"
     ]
    },
    {
     "name": "stderr",
     "output_type": "stream",
     "text": [
      "WARNING:tensorflow:Can save best model only with val_loss available, skipping.\n"
     ]
    },
    {
     "name": "stdout",
     "output_type": "stream",
     "text": [
      "23/23 [==============================] - 12s 518ms/step - loss: 0.0083 - semantic_0_loss: 0.0022 - semantic_1_loss: 0.0051 - semantic_2_loss: 0.0010 - lr: 1.8480e-05\n",
      "Epoch 170/200\n",
      "23/23 [==============================] - ETA: 0s - loss: 0.0085 - semantic_0_loss: 0.0023 - semantic_1_loss: 0.0052 - semantic_2_loss: 0.0011WARNING:tensorflow:Can save best model only with val_loss available, skipping.\n"
     ]
    },
    {
     "name": "stderr",
     "output_type": "stream",
     "text": [
      "WARNING:tensorflow:Can save best model only with val_loss available, skipping.\n"
     ]
    },
    {
     "name": "stdout",
     "output_type": "stream",
     "text": [
      "23/23 [==============================] - 12s 531ms/step - loss: 0.0085 - semantic_0_loss: 0.0023 - semantic_1_loss: 0.0052 - semantic_2_loss: 0.0011 - lr: 1.8296e-05\n",
      "Epoch 171/200\n",
      "23/23 [==============================] - ETA: 0s - loss: 0.0085 - semantic_0_loss: 0.0022 - semantic_1_loss: 0.0052 - semantic_2_loss: 0.0011WARNING:tensorflow:Can save best model only with val_loss available, skipping.\n"
     ]
    },
    {
     "name": "stderr",
     "output_type": "stream",
     "text": [
      "WARNING:tensorflow:Can save best model only with val_loss available, skipping.\n"
     ]
    },
    {
     "name": "stdout",
     "output_type": "stream",
     "text": [
      "23/23 [==============================] - 12s 524ms/step - loss: 0.0085 - semantic_0_loss: 0.0022 - semantic_1_loss: 0.0052 - semantic_2_loss: 0.0011 - lr: 1.8113e-05\n",
      "Epoch 172/200\n",
      "23/23 [==============================] - ETA: 0s - loss: 0.0086 - semantic_0_loss: 0.0023 - semantic_1_loss: 0.0053 - semantic_2_loss: 0.0011WARNING:tensorflow:Can save best model only with val_loss available, skipping.\n"
     ]
    },
    {
     "name": "stderr",
     "output_type": "stream",
     "text": [
      "WARNING:tensorflow:Can save best model only with val_loss available, skipping.\n"
     ]
    },
    {
     "name": "stdout",
     "output_type": "stream",
     "text": [
      "23/23 [==============================] - 12s 518ms/step - loss: 0.0086 - semantic_0_loss: 0.0023 - semantic_1_loss: 0.0053 - semantic_2_loss: 0.0011 - lr: 1.7932e-05\n",
      "Epoch 173/200\n",
      "23/23 [==============================] - ETA: 0s - loss: 0.0086 - semantic_0_loss: 0.0023 - semantic_1_loss: 0.0053 - semantic_2_loss: 0.0011WARNING:tensorflow:Can save best model only with val_loss available, skipping.\n"
     ]
    },
    {
     "name": "stderr",
     "output_type": "stream",
     "text": [
      "WARNING:tensorflow:Can save best model only with val_loss available, skipping.\n"
     ]
    },
    {
     "name": "stdout",
     "output_type": "stream",
     "text": [
      "23/23 [==============================] - 12s 522ms/step - loss: 0.0086 - semantic_0_loss: 0.0023 - semantic_1_loss: 0.0053 - semantic_2_loss: 0.0011 - lr: 1.7752e-05\n",
      "Epoch 174/200\n",
      "23/23 [==============================] - ETA: 0s - loss: 0.0083 - semantic_0_loss: 0.0022 - semantic_1_loss: 0.0051 - semantic_2_loss: 0.0010WARNING:tensorflow:Can save best model only with val_loss available, skipping.\n"
     ]
    },
    {
     "name": "stderr",
     "output_type": "stream",
     "text": [
      "WARNING:tensorflow:Can save best model only with val_loss available, skipping.\n"
     ]
    },
    {
     "name": "stdout",
     "output_type": "stream",
     "text": [
      "23/23 [==============================] - 12s 530ms/step - loss: 0.0083 - semantic_0_loss: 0.0022 - semantic_1_loss: 0.0051 - semantic_2_loss: 0.0010 - lr: 1.7575e-05\n",
      "Epoch 175/200\n",
      "23/23 [==============================] - ETA: 0s - loss: 0.0083 - semantic_0_loss: 0.0022 - semantic_1_loss: 0.0050 - semantic_2_loss: 0.0010WARNING:tensorflow:Can save best model only with val_loss available, skipping.\n"
     ]
    },
    {
     "name": "stderr",
     "output_type": "stream",
     "text": [
      "WARNING:tensorflow:Can save best model only with val_loss available, skipping.\n"
     ]
    },
    {
     "name": "stdout",
     "output_type": "stream",
     "text": [
      "23/23 [==============================] - 12s 519ms/step - loss: 0.0083 - semantic_0_loss: 0.0022 - semantic_1_loss: 0.0050 - semantic_2_loss: 0.0010 - lr: 1.7399e-05\n",
      "Epoch 176/200\n",
      "23/23 [==============================] - ETA: 0s - loss: 0.0086 - semantic_0_loss: 0.0023 - semantic_1_loss: 0.0053 - semantic_2_loss: 0.0011WARNING:tensorflow:Can save best model only with val_loss available, skipping.\n"
     ]
    },
    {
     "name": "stderr",
     "output_type": "stream",
     "text": [
      "WARNING:tensorflow:Can save best model only with val_loss available, skipping.\n"
     ]
    },
    {
     "name": "stdout",
     "output_type": "stream",
     "text": [
      "23/23 [==============================] - 12s 530ms/step - loss: 0.0086 - semantic_0_loss: 0.0023 - semantic_1_loss: 0.0053 - semantic_2_loss: 0.0011 - lr: 1.7225e-05\n",
      "Epoch 177/200\n",
      "23/23 [==============================] - ETA: 0s - loss: 0.0084 - semantic_0_loss: 0.0022 - semantic_1_loss: 0.0052 - semantic_2_loss: 0.0010WARNING:tensorflow:Can save best model only with val_loss available, skipping.\n"
     ]
    },
    {
     "name": "stderr",
     "output_type": "stream",
     "text": [
      "WARNING:tensorflow:Can save best model only with val_loss available, skipping.\n"
     ]
    },
    {
     "name": "stdout",
     "output_type": "stream",
     "text": [
      "23/23 [==============================] - 12s 522ms/step - loss: 0.0084 - semantic_0_loss: 0.0022 - semantic_1_loss: 0.0052 - semantic_2_loss: 0.0010 - lr: 1.7053e-05\n",
      "Epoch 178/200\n",
      "23/23 [==============================] - ETA: 0s - loss: 0.0084 - semantic_0_loss: 0.0022 - semantic_1_loss: 0.0051 - semantic_2_loss: 0.0010WARNING:tensorflow:Can save best model only with val_loss available, skipping.\n"
     ]
    },
    {
     "name": "stderr",
     "output_type": "stream",
     "text": [
      "WARNING:tensorflow:Can save best model only with val_loss available, skipping.\n"
     ]
    },
    {
     "name": "stdout",
     "output_type": "stream",
     "text": [
      "23/23 [==============================] - 12s 513ms/step - loss: 0.0084 - semantic_0_loss: 0.0022 - semantic_1_loss: 0.0051 - semantic_2_loss: 0.0010 - lr: 1.6882e-05\n",
      "Epoch 179/200\n",
      "23/23 [==============================] - ETA: 0s - loss: 0.0087 - semantic_0_loss: 0.0023 - semantic_1_loss: 0.0054 - semantic_2_loss: 0.0011WARNING:tensorflow:Can save best model only with val_loss available, skipping.\n"
     ]
    },
    {
     "name": "stderr",
     "output_type": "stream",
     "text": [
      "WARNING:tensorflow:Can save best model only with val_loss available, skipping.\n"
     ]
    },
    {
     "name": "stdout",
     "output_type": "stream",
     "text": [
      "23/23 [==============================] - 12s 516ms/step - loss: 0.0087 - semantic_0_loss: 0.0023 - semantic_1_loss: 0.0054 - semantic_2_loss: 0.0011 - lr: 1.6713e-05\n",
      "Epoch 180/200\n",
      "23/23 [==============================] - ETA: 0s - loss: 0.0086 - semantic_0_loss: 0.0023 - semantic_1_loss: 0.0052 - semantic_2_loss: 0.0011WARNING:tensorflow:Can save best model only with val_loss available, skipping.\n"
     ]
    },
    {
     "name": "stderr",
     "output_type": "stream",
     "text": [
      "WARNING:tensorflow:Can save best model only with val_loss available, skipping.\n"
     ]
    },
    {
     "name": "stdout",
     "output_type": "stream",
     "text": [
      "23/23 [==============================] - 12s 530ms/step - loss: 0.0086 - semantic_0_loss: 0.0023 - semantic_1_loss: 0.0052 - semantic_2_loss: 0.0011 - lr: 1.6546e-05\n",
      "Epoch 181/200\n",
      "23/23 [==============================] - ETA: 0s - loss: 0.0085 - semantic_0_loss: 0.0022 - semantic_1_loss: 0.0052 - semantic_2_loss: 0.0011WARNING:tensorflow:Can save best model only with val_loss available, skipping.\n"
     ]
    },
    {
     "name": "stderr",
     "output_type": "stream",
     "text": [
      "WARNING:tensorflow:Can save best model only with val_loss available, skipping.\n"
     ]
    },
    {
     "name": "stdout",
     "output_type": "stream",
     "text": [
      "23/23 [==============================] - 12s 521ms/step - loss: 0.0085 - semantic_0_loss: 0.0022 - semantic_1_loss: 0.0052 - semantic_2_loss: 0.0011 - lr: 1.6381e-05\n",
      "Epoch 182/200\n",
      "23/23 [==============================] - ETA: 0s - loss: 0.0087 - semantic_0_loss: 0.0023 - semantic_1_loss: 0.0054 - semantic_2_loss: 0.0011WARNING:tensorflow:Can save best model only with val_loss available, skipping.\n"
     ]
    },
    {
     "name": "stderr",
     "output_type": "stream",
     "text": [
      "WARNING:tensorflow:Can save best model only with val_loss available, skipping.\n"
     ]
    },
    {
     "name": "stdout",
     "output_type": "stream",
     "text": [
      "23/23 [==============================] - 12s 515ms/step - loss: 0.0087 - semantic_0_loss: 0.0023 - semantic_1_loss: 0.0054 - semantic_2_loss: 0.0011 - lr: 1.6217e-05\n",
      "Epoch 183/200\n",
      "23/23 [==============================] - ETA: 0s - loss: 0.0087 - semantic_0_loss: 0.0023 - semantic_1_loss: 0.0053 - semantic_2_loss: 0.0011WARNING:tensorflow:Can save best model only with val_loss available, skipping.\n"
     ]
    },
    {
     "name": "stderr",
     "output_type": "stream",
     "text": [
      "WARNING:tensorflow:Can save best model only with val_loss available, skipping.\n"
     ]
    },
    {
     "name": "stdout",
     "output_type": "stream",
     "text": [
      "23/23 [==============================] - 13s 534ms/step - loss: 0.0087 - semantic_0_loss: 0.0023 - semantic_1_loss: 0.0053 - semantic_2_loss: 0.0011 - lr: 1.6055e-05\n",
      "Epoch 184/200\n",
      "23/23 [==============================] - ETA: 0s - loss: 0.0083 - semantic_0_loss: 0.0022 - semantic_1_loss: 0.0051 - semantic_2_loss: 0.0010WARNING:tensorflow:Can save best model only with val_loss available, skipping.\n"
     ]
    },
    {
     "name": "stderr",
     "output_type": "stream",
     "text": [
      "WARNING:tensorflow:Can save best model only with val_loss available, skipping.\n"
     ]
    },
    {
     "name": "stdout",
     "output_type": "stream",
     "text": [
      "23/23 [==============================] - 12s 521ms/step - loss: 0.0083 - semantic_0_loss: 0.0022 - semantic_1_loss: 0.0051 - semantic_2_loss: 0.0010 - lr: 1.5894e-05\n",
      "Epoch 185/200\n",
      "23/23 [==============================] - ETA: 0s - loss: 0.0085 - semantic_0_loss: 0.0023 - semantic_1_loss: 0.0052 - semantic_2_loss: 0.0011WARNING:tensorflow:Can save best model only with val_loss available, skipping.\n"
     ]
    },
    {
     "name": "stderr",
     "output_type": "stream",
     "text": [
      "WARNING:tensorflow:Can save best model only with val_loss available, skipping.\n"
     ]
    },
    {
     "name": "stdout",
     "output_type": "stream",
     "text": [
      "23/23 [==============================] - 12s 533ms/step - loss: 0.0085 - semantic_0_loss: 0.0023 - semantic_1_loss: 0.0052 - semantic_2_loss: 0.0011 - lr: 1.5735e-05\n",
      "Epoch 186/200\n",
      "23/23 [==============================] - ETA: 0s - loss: 0.0084 - semantic_0_loss: 0.0022 - semantic_1_loss: 0.0051 - semantic_2_loss: 0.0010WARNING:tensorflow:Can save best model only with val_loss available, skipping.\n"
     ]
    },
    {
     "name": "stderr",
     "output_type": "stream",
     "text": [
      "WARNING:tensorflow:Can save best model only with val_loss available, skipping.\n"
     ]
    },
    {
     "name": "stdout",
     "output_type": "stream",
     "text": [
      "23/23 [==============================] - 12s 525ms/step - loss: 0.0084 - semantic_0_loss: 0.0022 - semantic_1_loss: 0.0051 - semantic_2_loss: 0.0010 - lr: 1.5578e-05\n",
      "Epoch 187/200\n",
      "23/23 [==============================] - ETA: 0s - loss: 0.0083 - semantic_0_loss: 0.0022 - semantic_1_loss: 0.0051 - semantic_2_loss: 0.0011WARNING:tensorflow:Can save best model only with val_loss available, skipping.\n"
     ]
    },
    {
     "name": "stderr",
     "output_type": "stream",
     "text": [
      "WARNING:tensorflow:Can save best model only with val_loss available, skipping.\n"
     ]
    },
    {
     "name": "stdout",
     "output_type": "stream",
     "text": [
      "23/23 [==============================] - 12s 527ms/step - loss: 0.0083 - semantic_0_loss: 0.0022 - semantic_1_loss: 0.0051 - semantic_2_loss: 0.0011 - lr: 1.5422e-05\n",
      "Epoch 188/200\n",
      "23/23 [==============================] - ETA: 0s - loss: 0.0084 - semantic_0_loss: 0.0022 - semantic_1_loss: 0.0051 - semantic_2_loss: 0.0011WARNING:tensorflow:Can save best model only with val_loss available, skipping.\n"
     ]
    },
    {
     "name": "stderr",
     "output_type": "stream",
     "text": [
      "WARNING:tensorflow:Can save best model only with val_loss available, skipping.\n"
     ]
    },
    {
     "name": "stdout",
     "output_type": "stream",
     "text": [
      "23/23 [==============================] - 12s 522ms/step - loss: 0.0084 - semantic_0_loss: 0.0022 - semantic_1_loss: 0.0051 - semantic_2_loss: 0.0011 - lr: 1.5268e-05\n",
      "Epoch 189/200\n",
      "23/23 [==============================] - ETA: 0s - loss: 0.0086 - semantic_0_loss: 0.0023 - semantic_1_loss: 0.0053 - semantic_2_loss: 0.0011WARNING:tensorflow:Can save best model only with val_loss available, skipping.\n"
     ]
    },
    {
     "name": "stderr",
     "output_type": "stream",
     "text": [
      "WARNING:tensorflow:Can save best model only with val_loss available, skipping.\n"
     ]
    },
    {
     "name": "stdout",
     "output_type": "stream",
     "text": [
      "23/23 [==============================] - 13s 537ms/step - loss: 0.0086 - semantic_0_loss: 0.0023 - semantic_1_loss: 0.0053 - semantic_2_loss: 0.0011 - lr: 1.5115e-05\n",
      "Epoch 190/200\n",
      "23/23 [==============================] - ETA: 0s - loss: 0.0083 - semantic_0_loss: 0.0022 - semantic_1_loss: 0.0051 - semantic_2_loss: 0.0010WARNING:tensorflow:Can save best model only with val_loss available, skipping.\n"
     ]
    },
    {
     "name": "stderr",
     "output_type": "stream",
     "text": [
      "WARNING:tensorflow:Can save best model only with val_loss available, skipping.\n"
     ]
    },
    {
     "name": "stdout",
     "output_type": "stream",
     "text": [
      "23/23 [==============================] - 12s 518ms/step - loss: 0.0083 - semantic_0_loss: 0.0022 - semantic_1_loss: 0.0051 - semantic_2_loss: 0.0010 - lr: 1.4964e-05\n",
      "Epoch 191/200\n",
      "23/23 [==============================] - ETA: 0s - loss: 0.0085 - semantic_0_loss: 0.0022 - semantic_1_loss: 0.0052 - semantic_2_loss: 0.0011WARNING:tensorflow:Can save best model only with val_loss available, skipping.\n"
     ]
    },
    {
     "name": "stderr",
     "output_type": "stream",
     "text": [
      "WARNING:tensorflow:Can save best model only with val_loss available, skipping.\n"
     ]
    },
    {
     "name": "stdout",
     "output_type": "stream",
     "text": [
      "23/23 [==============================] - 12s 533ms/step - loss: 0.0085 - semantic_0_loss: 0.0022 - semantic_1_loss: 0.0052 - semantic_2_loss: 0.0011 - lr: 1.4814e-05\n",
      "Epoch 192/200\n",
      "23/23 [==============================] - ETA: 0s - loss: 0.0087 - semantic_0_loss: 0.0023 - semantic_1_loss: 0.0053 - semantic_2_loss: 0.0011WARNING:tensorflow:Can save best model only with val_loss available, skipping.\n"
     ]
    },
    {
     "name": "stderr",
     "output_type": "stream",
     "text": [
      "WARNING:tensorflow:Can save best model only with val_loss available, skipping.\n"
     ]
    },
    {
     "name": "stdout",
     "output_type": "stream",
     "text": [
      "23/23 [==============================] - 12s 528ms/step - loss: 0.0087 - semantic_0_loss: 0.0023 - semantic_1_loss: 0.0053 - semantic_2_loss: 0.0011 - lr: 1.4666e-05\n",
      "Epoch 193/200\n",
      "23/23 [==============================] - ETA: 0s - loss: 0.0084 - semantic_0_loss: 0.0022 - semantic_1_loss: 0.0051 - semantic_2_loss: 0.0010WARNING:tensorflow:Can save best model only with val_loss available, skipping.\n"
     ]
    },
    {
     "name": "stderr",
     "output_type": "stream",
     "text": [
      "WARNING:tensorflow:Can save best model only with val_loss available, skipping.\n"
     ]
    },
    {
     "name": "stdout",
     "output_type": "stream",
     "text": [
      "23/23 [==============================] - 12s 521ms/step - loss: 0.0084 - semantic_0_loss: 0.0022 - semantic_1_loss: 0.0051 - semantic_2_loss: 0.0010 - lr: 1.4520e-05\n",
      "Epoch 194/200\n",
      "23/23 [==============================] - ETA: 0s - loss: 0.0086 - semantic_0_loss: 0.0023 - semantic_1_loss: 0.0052 - semantic_2_loss: 0.0011WARNING:tensorflow:Can save best model only with val_loss available, skipping.\n"
     ]
    },
    {
     "name": "stderr",
     "output_type": "stream",
     "text": [
      "WARNING:tensorflow:Can save best model only with val_loss available, skipping.\n"
     ]
    },
    {
     "name": "stdout",
     "output_type": "stream",
     "text": [
      "23/23 [==============================] - 13s 545ms/step - loss: 0.0086 - semantic_0_loss: 0.0023 - semantic_1_loss: 0.0052 - semantic_2_loss: 0.0011 - lr: 1.4374e-05\n",
      "Epoch 195/200\n",
      "23/23 [==============================] - ETA: 0s - loss: 0.0081 - semantic_0_loss: 0.0021 - semantic_1_loss: 0.0049 - semantic_2_loss: 0.0010WARNING:tensorflow:Can save best model only with val_loss available, skipping.\n"
     ]
    },
    {
     "name": "stderr",
     "output_type": "stream",
     "text": [
      "WARNING:tensorflow:Can save best model only with val_loss available, skipping.\n"
     ]
    },
    {
     "name": "stdout",
     "output_type": "stream",
     "text": [
      "23/23 [==============================] - 12s 531ms/step - loss: 0.0081 - semantic_0_loss: 0.0021 - semantic_1_loss: 0.0049 - semantic_2_loss: 0.0010 - lr: 1.4231e-05\n",
      "Epoch 196/200\n",
      "23/23 [==============================] - ETA: 0s - loss: 0.0085 - semantic_0_loss: 0.0022 - semantic_1_loss: 0.0052 - semantic_2_loss: 0.0010WARNING:tensorflow:Can save best model only with val_loss available, skipping.\n"
     ]
    },
    {
     "name": "stderr",
     "output_type": "stream",
     "text": [
      "WARNING:tensorflow:Can save best model only with val_loss available, skipping.\n"
     ]
    },
    {
     "name": "stdout",
     "output_type": "stream",
     "text": [
      "23/23 [==============================] - 13s 536ms/step - loss: 0.0085 - semantic_0_loss: 0.0022 - semantic_1_loss: 0.0052 - semantic_2_loss: 0.0010 - lr: 1.4088e-05\n",
      "Epoch 197/200\n",
      "23/23 [==============================] - ETA: 0s - loss: 0.0083 - semantic_0_loss: 0.0022 - semantic_1_loss: 0.0051 - semantic_2_loss: 0.0010WARNING:tensorflow:Can save best model only with val_loss available, skipping.\n"
     ]
    },
    {
     "name": "stderr",
     "output_type": "stream",
     "text": [
      "WARNING:tensorflow:Can save best model only with val_loss available, skipping.\n"
     ]
    },
    {
     "name": "stdout",
     "output_type": "stream",
     "text": [
      "23/23 [==============================] - 12s 532ms/step - loss: 0.0083 - semantic_0_loss: 0.0022 - semantic_1_loss: 0.0051 - semantic_2_loss: 0.0010 - lr: 1.3948e-05\n",
      "Epoch 198/200\n",
      "23/23 [==============================] - ETA: 0s - loss: 0.0086 - semantic_0_loss: 0.0023 - semantic_1_loss: 0.0052 - semantic_2_loss: 0.0010WARNING:tensorflow:Can save best model only with val_loss available, skipping.\n"
     ]
    },
    {
     "name": "stderr",
     "output_type": "stream",
     "text": [
      "WARNING:tensorflow:Can save best model only with val_loss available, skipping.\n"
     ]
    },
    {
     "name": "stdout",
     "output_type": "stream",
     "text": [
      "23/23 [==============================] - 13s 533ms/step - loss: 0.0086 - semantic_0_loss: 0.0023 - semantic_1_loss: 0.0052 - semantic_2_loss: 0.0010 - lr: 1.3808e-05\n",
      "Epoch 199/200\n",
      "23/23 [==============================] - ETA: 0s - loss: 0.0082 - semantic_0_loss: 0.0022 - semantic_1_loss: 0.0050 - semantic_2_loss: 0.0010WARNING:tensorflow:Can save best model only with val_loss available, skipping.\n"
     ]
    },
    {
     "name": "stderr",
     "output_type": "stream",
     "text": [
      "WARNING:tensorflow:Can save best model only with val_loss available, skipping.\n"
     ]
    },
    {
     "name": "stdout",
     "output_type": "stream",
     "text": [
      "23/23 [==============================] - 12s 533ms/step - loss: 0.0082 - semantic_0_loss: 0.0022 - semantic_1_loss: 0.0050 - semantic_2_loss: 0.0010 - lr: 1.3670e-05\n",
      "Epoch 200/200\n",
      "23/23 [==============================] - ETA: 0s - loss: 0.0087 - semantic_0_loss: 0.0023 - semantic_1_loss: 0.0053 - semantic_2_loss: 0.0011WARNING:tensorflow:Can save best model only with val_loss available, skipping.\n"
     ]
    },
    {
     "name": "stderr",
     "output_type": "stream",
     "text": [
      "WARNING:tensorflow:Can save best model only with val_loss available, skipping.\n"
     ]
    },
    {
     "name": "stdout",
     "output_type": "stream",
     "text": [
      "23/23 [==============================] - 12s 520ms/step - loss: 0.0087 - semantic_0_loss: 0.0023 - semantic_1_loss: 0.0053 - semantic_2_loss: 0.0011 - lr: 1.3533e-05\n",
      "/home/yfong/deeplearning/dense_cell_segmentation\n",
      "['M926910_CFL_Position7_CD3_test_img.png', 'M872956_JML_Position10_CD3_test_img.png', 'M872956_JML_Position8_CD8_test_img.png', 'M926910_CFL_Position13_CD3_test_img.png', 'M872956_JML_Position8_CD3_test_img.png', 'M872956_JML_Position8_CD4_test_img.png', 'M872956_JML_Position9_CD3_test_img.png']\n",
      "M926910_CFL_Position7_CD3_test_img.png\n"
     ]
    },
    {
     "name": "stderr",
     "output_type": "stream",
     "text": [
      "/app/software/DeepCell/0.11.1-foss-2021b-CUDA-11.4.1/lib/python3.9/site-packages/deepcell_toolbox/deep_watershed.py:179: FutureWarning: `selem` is a deprecated argument name for `h_maxima`. It will be removed in version 1.0.Please use `footprint` instead.\n",
      "  markers = h_maxima(image=maxima,\n"
     ]
    },
    {
     "name": "stdout",
     "output_type": "stream",
     "text": [
      "M872956_JML_Position10_CD3_test_img.png\n",
      "M872956_JML_Position8_CD8_test_img.png\n",
      "M926910_CFL_Position13_CD3_test_img.png\n",
      "M872956_JML_Position8_CD3_test_img.png\n",
      "M872956_JML_Position8_CD4_test_img.png\n",
      "M872956_JML_Position9_CD3_test_img.png\n",
      "[[0.2073529411764706, 0.2857142857142857], [0.24108658743633277, 0.35073409461663946], [0.44886363636363635, 0.46733668341708545], [0.16105769230769232, 0.21961620469083157], [0.3776978417266187, 0.4686411149825784], [0.5449438202247191, 0.5919395465994962], [0.25609756097560976, 0.35728542914171657]]\n",
      "                                         0         1         2\n",
      "0   M926910_CFL_Position7_CD3_test_img.png  0.207353  0.285714\n",
      "1  M872956_JML_Position10_CD3_test_img.png  0.241087  0.350734\n",
      "2   M872956_JML_Position8_CD8_test_img.png  0.448864  0.467337\n",
      "3  M926910_CFL_Position13_CD3_test_img.png  0.161058  0.219616\n",
      "4   M872956_JML_Position8_CD3_test_img.png  0.377698  0.468641\n",
      "5   M872956_JML_Position8_CD4_test_img.png  0.544944   0.59194\n",
      "6   M872956_JML_Position9_CD3_test_img.png  0.256098  0.357285\n",
      "5\n",
      "(5, 1040, 1159, 1)\n",
      "(5, 1040, 1159, 1)\n",
      "2.0\n",
      "(5, 2080, 2318, 1)\n",
      "(5, 2080, 2318, 1)\n",
      "(5, 2080, 2318, 1)\n",
      "(5, 2080, 2318, 1)\n",
      "[0, 400, 800, 1200, 1568]\n",
      "[512, 912, 1312, 1712, 2080]\n",
      "[0, 512, 1024, 1536, 1806]\n",
      "[512, 1024, 1536, 2048, 2318]\n",
      "(125, 512, 512, 1)\n",
      "(125, 512, 512, 1)\n",
      "WARNING:tensorflow:Removing 6 of 125 images with fewer than 5 objects.\n"
     ]
    },
    {
     "name": "stderr",
     "output_type": "stream",
     "text": [
      "WARNING:tensorflow:Removing 6 of 125 images with fewer than 5 objects.\n",
      "/app/software/TensorFlow/2.7.1-foss-2021b-CUDA-11.4.1/lib/python3.9/site-packages/keras/optimizer_v2/adam.py:105: UserWarning: The `lr` argument is deprecated, use `learning_rate` instead.\n",
      "  super(Adam, self).__init__(name, **kwargs)\n"
     ]
    },
    {
     "name": "stdout",
     "output_type": "stream",
     "text": [
      "Training on 3 GPUs.\n"
     ]
    },
    {
     "name": "stderr",
     "output_type": "stream",
     "text": [
      "2022-11-06 10:36:33.005224: I tensorflow/core/common_runtime/gpu/gpu_device.cc:1525] Created device /device:GPU:0 with 14657 MB memory:  -> device: 0, name: Tesla V100-PCIE-16GB, pci bus id: 0000:04:00.0, compute capability: 7.0\n",
      "2022-11-06 10:36:33.006383: I tensorflow/core/common_runtime/gpu/gpu_device.cc:1525] Created device /device:GPU:1 with 14657 MB memory:  -> device: 1, name: Tesla V100-PCIE-16GB, pci bus id: 0000:06:00.0, compute capability: 7.0\n",
      "2022-11-06 10:36:33.007319: I tensorflow/core/common_runtime/gpu/gpu_device.cc:1525] Created device /device:GPU:2 with 14657 MB memory:  -> device: 2, name: Tesla V100-PCIE-16GB, pci bus id: 0000:08:00.0, compute capability: 7.0\n"
     ]
    },
    {
     "name": "stdout",
     "output_type": "stream",
     "text": [
      "Epoch 1/200\n",
      "29/29 [==============================] - ETA: 0s - loss: 0.0177 - semantic_0_loss: 0.0043 - semantic_1_loss: 0.0110 - semantic_2_loss: 0.0024WARNING:tensorflow:Can save best model only with val_loss available, skipping.\n"
     ]
    },
    {
     "name": "stderr",
     "output_type": "stream",
     "text": [
      "WARNING:tensorflow:Can save best model only with val_loss available, skipping.\n"
     ]
    },
    {
     "name": "stdout",
     "output_type": "stream",
     "text": [
      "29/29 [==============================] - 34s 711ms/step - loss: 0.0177 - semantic_0_loss: 0.0043 - semantic_1_loss: 0.0110 - semantic_2_loss: 0.0024 - lr: 1.0000e-04\n",
      "Epoch 2/200\n",
      "29/29 [==============================] - ETA: 0s - loss: 0.0148 - semantic_0_loss: 0.0036 - semantic_1_loss: 0.0096 - semantic_2_loss: 0.0016WARNING:tensorflow:Can save best model only with val_loss available, skipping.\n"
     ]
    },
    {
     "name": "stderr",
     "output_type": "stream",
     "text": [
      "WARNING:tensorflow:Can save best model only with val_loss available, skipping.\n"
     ]
    },
    {
     "name": "stdout",
     "output_type": "stream",
     "text": [
      "29/29 [==============================] - 16s 557ms/step - loss: 0.0148 - semantic_0_loss: 0.0036 - semantic_1_loss: 0.0096 - semantic_2_loss: 0.0016 - lr: 9.9000e-05\n",
      "Epoch 3/200\n",
      "29/29 [==============================] - ETA: 0s - loss: 0.0141 - semantic_0_loss: 0.0035 - semantic_1_loss: 0.0091 - semantic_2_loss: 0.0015WARNING:tensorflow:Can save best model only with val_loss available, skipping.\n"
     ]
    },
    {
     "name": "stderr",
     "output_type": "stream",
     "text": [
      "WARNING:tensorflow:Can save best model only with val_loss available, skipping.\n"
     ]
    },
    {
     "name": "stdout",
     "output_type": "stream",
     "text": [
      "29/29 [==============================] - 16s 558ms/step - loss: 0.0141 - semantic_0_loss: 0.0035 - semantic_1_loss: 0.0091 - semantic_2_loss: 0.0015 - lr: 9.8010e-05\n",
      "Epoch 4/200\n",
      "29/29 [==============================] - ETA: 0s - loss: 0.0140 - semantic_0_loss: 0.0035 - semantic_1_loss: 0.0090 - semantic_2_loss: 0.0015WARNING:tensorflow:Can save best model only with val_loss available, skipping.\n"
     ]
    },
    {
     "name": "stderr",
     "output_type": "stream",
     "text": [
      "WARNING:tensorflow:Can save best model only with val_loss available, skipping.\n"
     ]
    },
    {
     "name": "stdout",
     "output_type": "stream",
     "text": [
      "29/29 [==============================] - 16s 546ms/step - loss: 0.0140 - semantic_0_loss: 0.0035 - semantic_1_loss: 0.0090 - semantic_2_loss: 0.0015 - lr: 9.7030e-05\n",
      "Epoch 5/200\n",
      "29/29 [==============================] - ETA: 0s - loss: 0.0136 - semantic_0_loss: 0.0033 - semantic_1_loss: 0.0087 - semantic_2_loss: 0.0015WARNING:tensorflow:Can save best model only with val_loss available, skipping.\n"
     ]
    },
    {
     "name": "stderr",
     "output_type": "stream",
     "text": [
      "WARNING:tensorflow:Can save best model only with val_loss available, skipping.\n"
     ]
    },
    {
     "name": "stdout",
     "output_type": "stream",
     "text": [
      "29/29 [==============================] - 16s 562ms/step - loss: 0.0136 - semantic_0_loss: 0.0033 - semantic_1_loss: 0.0087 - semantic_2_loss: 0.0015 - lr: 9.6060e-05\n",
      "Epoch 6/200\n",
      "29/29 [==============================] - ETA: 0s - loss: 0.0135 - semantic_0_loss: 0.0034 - semantic_1_loss: 0.0086 - semantic_2_loss: 0.0015WARNING:tensorflow:Can save best model only with val_loss available, skipping.\n"
     ]
    },
    {
     "name": "stderr",
     "output_type": "stream",
     "text": [
      "WARNING:tensorflow:Can save best model only with val_loss available, skipping.\n"
     ]
    },
    {
     "name": "stdout",
     "output_type": "stream",
     "text": [
      "29/29 [==============================] - 16s 552ms/step - loss: 0.0135 - semantic_0_loss: 0.0034 - semantic_1_loss: 0.0086 - semantic_2_loss: 0.0015 - lr: 9.5099e-05\n",
      "Epoch 7/200\n",
      "29/29 [==============================] - ETA: 0s - loss: 0.0138 - semantic_0_loss: 0.0035 - semantic_1_loss: 0.0089 - semantic_2_loss: 0.0015WARNING:tensorflow:Can save best model only with val_loss available, skipping.\n"
     ]
    },
    {
     "name": "stderr",
     "output_type": "stream",
     "text": [
      "WARNING:tensorflow:Can save best model only with val_loss available, skipping.\n"
     ]
    },
    {
     "name": "stdout",
     "output_type": "stream",
     "text": [
      "29/29 [==============================] - 16s 557ms/step - loss: 0.0138 - semantic_0_loss: 0.0035 - semantic_1_loss: 0.0089 - semantic_2_loss: 0.0015 - lr: 9.4148e-05\n",
      "Epoch 8/200\n",
      "29/29 [==============================] - ETA: 0s - loss: 0.0133 - semantic_0_loss: 0.0034 - semantic_1_loss: 0.0085 - semantic_2_loss: 0.0014WARNING:tensorflow:Can save best model only with val_loss available, skipping.\n"
     ]
    },
    {
     "name": "stderr",
     "output_type": "stream",
     "text": [
      "WARNING:tensorflow:Can save best model only with val_loss available, skipping.\n"
     ]
    },
    {
     "name": "stdout",
     "output_type": "stream",
     "text": [
      "29/29 [==============================] - 16s 556ms/step - loss: 0.0133 - semantic_0_loss: 0.0034 - semantic_1_loss: 0.0085 - semantic_2_loss: 0.0014 - lr: 9.3207e-05\n",
      "Epoch 9/200\n",
      "29/29 [==============================] - ETA: 0s - loss: 0.0136 - semantic_0_loss: 0.0034 - semantic_1_loss: 0.0088 - semantic_2_loss: 0.0015WARNING:tensorflow:Can save best model only with val_loss available, skipping.\n"
     ]
    },
    {
     "name": "stderr",
     "output_type": "stream",
     "text": [
      "WARNING:tensorflow:Can save best model only with val_loss available, skipping.\n"
     ]
    },
    {
     "name": "stdout",
     "output_type": "stream",
     "text": [
      "29/29 [==============================] - 16s 564ms/step - loss: 0.0136 - semantic_0_loss: 0.0034 - semantic_1_loss: 0.0088 - semantic_2_loss: 0.0015 - lr: 9.2274e-05\n",
      "Epoch 10/200\n",
      "29/29 [==============================] - ETA: 0s - loss: 0.0136 - semantic_0_loss: 0.0034 - semantic_1_loss: 0.0088 - semantic_2_loss: 0.0015WARNING:tensorflow:Can save best model only with val_loss available, skipping.\n"
     ]
    },
    {
     "name": "stderr",
     "output_type": "stream",
     "text": [
      "WARNING:tensorflow:Can save best model only with val_loss available, skipping.\n"
     ]
    },
    {
     "name": "stdout",
     "output_type": "stream",
     "text": [
      "29/29 [==============================] - 17s 580ms/step - loss: 0.0136 - semantic_0_loss: 0.0034 - semantic_1_loss: 0.0088 - semantic_2_loss: 0.0015 - lr: 9.1352e-05\n",
      "Epoch 11/200\n",
      "29/29 [==============================] - ETA: 0s - loss: 0.0134 - semantic_0_loss: 0.0034 - semantic_1_loss: 0.0086 - semantic_2_loss: 0.0014WARNING:tensorflow:Can save best model only with val_loss available, skipping.\n"
     ]
    },
    {
     "name": "stderr",
     "output_type": "stream",
     "text": [
      "WARNING:tensorflow:Can save best model only with val_loss available, skipping.\n"
     ]
    },
    {
     "name": "stdout",
     "output_type": "stream",
     "text": [
      "29/29 [==============================] - 16s 561ms/step - loss: 0.0134 - semantic_0_loss: 0.0034 - semantic_1_loss: 0.0086 - semantic_2_loss: 0.0014 - lr: 9.0438e-05\n",
      "Epoch 12/200\n",
      "29/29 [==============================] - ETA: 0s - loss: 0.0135 - semantic_0_loss: 0.0034 - semantic_1_loss: 0.0087 - semantic_2_loss: 0.0015WARNING:tensorflow:Can save best model only with val_loss available, skipping.\n"
     ]
    },
    {
     "name": "stderr",
     "output_type": "stream",
     "text": [
      "WARNING:tensorflow:Can save best model only with val_loss available, skipping.\n"
     ]
    },
    {
     "name": "stdout",
     "output_type": "stream",
     "text": [
      "29/29 [==============================] - 16s 555ms/step - loss: 0.0135 - semantic_0_loss: 0.0034 - semantic_1_loss: 0.0087 - semantic_2_loss: 0.0015 - lr: 8.9534e-05\n",
      "Epoch 13/200\n",
      "29/29 [==============================] - ETA: 0s - loss: 0.0133 - semantic_0_loss: 0.0033 - semantic_1_loss: 0.0085 - semantic_2_loss: 0.0014WARNING:tensorflow:Can save best model only with val_loss available, skipping.\n"
     ]
    },
    {
     "name": "stderr",
     "output_type": "stream",
     "text": [
      "WARNING:tensorflow:Can save best model only with val_loss available, skipping.\n"
     ]
    },
    {
     "name": "stdout",
     "output_type": "stream",
     "text": [
      "29/29 [==============================] - 16s 549ms/step - loss: 0.0133 - semantic_0_loss: 0.0033 - semantic_1_loss: 0.0085 - semantic_2_loss: 0.0014 - lr: 8.8638e-05\n",
      "Epoch 14/200\n",
      "29/29 [==============================] - ETA: 0s - loss: 0.0136 - semantic_0_loss: 0.0035 - semantic_1_loss: 0.0087 - semantic_2_loss: 0.0015WARNING:tensorflow:Can save best model only with val_loss available, skipping.\n"
     ]
    },
    {
     "name": "stderr",
     "output_type": "stream",
     "text": [
      "WARNING:tensorflow:Can save best model only with val_loss available, skipping.\n"
     ]
    },
    {
     "name": "stdout",
     "output_type": "stream",
     "text": [
      "29/29 [==============================] - 17s 563ms/step - loss: 0.0136 - semantic_0_loss: 0.0035 - semantic_1_loss: 0.0087 - semantic_2_loss: 0.0015 - lr: 8.7752e-05\n",
      "Epoch 15/200\n",
      "29/29 [==============================] - ETA: 0s - loss: 0.0126 - semantic_0_loss: 0.0032 - semantic_1_loss: 0.0080 - semantic_2_loss: 0.0014WARNING:tensorflow:Can save best model only with val_loss available, skipping.\n"
     ]
    },
    {
     "name": "stderr",
     "output_type": "stream",
     "text": [
      "WARNING:tensorflow:Can save best model only with val_loss available, skipping.\n"
     ]
    },
    {
     "name": "stdout",
     "output_type": "stream",
     "text": [
      "29/29 [==============================] - 16s 562ms/step - loss: 0.0126 - semantic_0_loss: 0.0032 - semantic_1_loss: 0.0080 - semantic_2_loss: 0.0014 - lr: 8.6875e-05\n",
      "Epoch 16/200\n",
      "29/29 [==============================] - ETA: 0s - loss: 0.0131 - semantic_0_loss: 0.0033 - semantic_1_loss: 0.0084 - semantic_2_loss: 0.0014WARNING:tensorflow:Can save best model only with val_loss available, skipping.\n"
     ]
    },
    {
     "name": "stderr",
     "output_type": "stream",
     "text": [
      "WARNING:tensorflow:Can save best model only with val_loss available, skipping.\n"
     ]
    },
    {
     "name": "stdout",
     "output_type": "stream",
     "text": [
      "29/29 [==============================] - 16s 560ms/step - loss: 0.0131 - semantic_0_loss: 0.0033 - semantic_1_loss: 0.0084 - semantic_2_loss: 0.0014 - lr: 8.6006e-05\n",
      "Epoch 17/200\n",
      "29/29 [==============================] - ETA: 0s - loss: 0.0132 - semantic_0_loss: 0.0033 - semantic_1_loss: 0.0084 - semantic_2_loss: 0.0014WARNING:tensorflow:Can save best model only with val_loss available, skipping.\n"
     ]
    },
    {
     "name": "stderr",
     "output_type": "stream",
     "text": [
      "WARNING:tensorflow:Can save best model only with val_loss available, skipping.\n"
     ]
    },
    {
     "name": "stdout",
     "output_type": "stream",
     "text": [
      "29/29 [==============================] - 16s 556ms/step - loss: 0.0132 - semantic_0_loss: 0.0033 - semantic_1_loss: 0.0084 - semantic_2_loss: 0.0014 - lr: 8.5146e-05\n",
      "Epoch 18/200\n",
      "29/29 [==============================] - ETA: 0s - loss: 0.0128 - semantic_0_loss: 0.0032 - semantic_1_loss: 0.0082 - semantic_2_loss: 0.0014WARNING:tensorflow:Can save best model only with val_loss available, skipping.\n"
     ]
    },
    {
     "name": "stderr",
     "output_type": "stream",
     "text": [
      "WARNING:tensorflow:Can save best model only with val_loss available, skipping.\n"
     ]
    },
    {
     "name": "stdout",
     "output_type": "stream",
     "text": [
      "29/29 [==============================] - 16s 557ms/step - loss: 0.0128 - semantic_0_loss: 0.0032 - semantic_1_loss: 0.0082 - semantic_2_loss: 0.0014 - lr: 8.4294e-05\n",
      "Epoch 19/200\n",
      "29/29 [==============================] - ETA: 0s - loss: 0.0133 - semantic_0_loss: 0.0034 - semantic_1_loss: 0.0085 - semantic_2_loss: 0.0014WARNING:tensorflow:Can save best model only with val_loss available, skipping.\n"
     ]
    },
    {
     "name": "stderr",
     "output_type": "stream",
     "text": [
      "WARNING:tensorflow:Can save best model only with val_loss available, skipping.\n"
     ]
    },
    {
     "name": "stdout",
     "output_type": "stream",
     "text": [
      "29/29 [==============================] - 16s 558ms/step - loss: 0.0133 - semantic_0_loss: 0.0034 - semantic_1_loss: 0.0085 - semantic_2_loss: 0.0014 - lr: 8.3451e-05\n",
      "Epoch 20/200\n",
      "29/29 [==============================] - ETA: 0s - loss: 0.0130 - semantic_0_loss: 0.0033 - semantic_1_loss: 0.0083 - semantic_2_loss: 0.0014WARNING:tensorflow:Can save best model only with val_loss available, skipping.\n"
     ]
    },
    {
     "name": "stderr",
     "output_type": "stream",
     "text": [
      "WARNING:tensorflow:Can save best model only with val_loss available, skipping.\n"
     ]
    },
    {
     "name": "stdout",
     "output_type": "stream",
     "text": [
      "29/29 [==============================] - 16s 557ms/step - loss: 0.0130 - semantic_0_loss: 0.0033 - semantic_1_loss: 0.0083 - semantic_2_loss: 0.0014 - lr: 8.2617e-05\n",
      "Epoch 21/200\n",
      "29/29 [==============================] - ETA: 0s - loss: 0.0130 - semantic_0_loss: 0.0033 - semantic_1_loss: 0.0083 - semantic_2_loss: 0.0014WARNING:tensorflow:Can save best model only with val_loss available, skipping.\n"
     ]
    },
    {
     "name": "stderr",
     "output_type": "stream",
     "text": [
      "WARNING:tensorflow:Can save best model only with val_loss available, skipping.\n"
     ]
    },
    {
     "name": "stdout",
     "output_type": "stream",
     "text": [
      "29/29 [==============================] - 16s 552ms/step - loss: 0.0130 - semantic_0_loss: 0.0033 - semantic_1_loss: 0.0083 - semantic_2_loss: 0.0014 - lr: 8.1791e-05\n",
      "Epoch 22/200\n",
      "29/29 [==============================] - ETA: 0s - loss: 0.0130 - semantic_0_loss: 0.0032 - semantic_1_loss: 0.0083 - semantic_2_loss: 0.0014WARNING:tensorflow:Can save best model only with val_loss available, skipping.\n"
     ]
    },
    {
     "name": "stderr",
     "output_type": "stream",
     "text": [
      "WARNING:tensorflow:Can save best model only with val_loss available, skipping.\n"
     ]
    },
    {
     "name": "stdout",
     "output_type": "stream",
     "text": [
      "29/29 [==============================] - 16s 556ms/step - loss: 0.0130 - semantic_0_loss: 0.0032 - semantic_1_loss: 0.0083 - semantic_2_loss: 0.0014 - lr: 8.0973e-05\n",
      "Epoch 23/200\n",
      "29/29 [==============================] - ETA: 0s - loss: 0.0129 - semantic_0_loss: 0.0032 - semantic_1_loss: 0.0082 - semantic_2_loss: 0.0014WARNING:tensorflow:Can save best model only with val_loss available, skipping.\n"
     ]
    },
    {
     "name": "stderr",
     "output_type": "stream",
     "text": [
      "WARNING:tensorflow:Can save best model only with val_loss available, skipping.\n"
     ]
    },
    {
     "name": "stdout",
     "output_type": "stream",
     "text": [
      "29/29 [==============================] - 16s 558ms/step - loss: 0.0129 - semantic_0_loss: 0.0032 - semantic_1_loss: 0.0082 - semantic_2_loss: 0.0014 - lr: 8.0163e-05\n",
      "Epoch 24/200\n",
      "29/29 [==============================] - ETA: 0s - loss: 0.0130 - semantic_0_loss: 0.0033 - semantic_1_loss: 0.0083 - semantic_2_loss: 0.0014WARNING:tensorflow:Can save best model only with val_loss available, skipping.\n"
     ]
    },
    {
     "name": "stderr",
     "output_type": "stream",
     "text": [
      "WARNING:tensorflow:Can save best model only with val_loss available, skipping.\n"
     ]
    },
    {
     "name": "stdout",
     "output_type": "stream",
     "text": [
      "29/29 [==============================] - 17s 565ms/step - loss: 0.0130 - semantic_0_loss: 0.0033 - semantic_1_loss: 0.0083 - semantic_2_loss: 0.0014 - lr: 7.9361e-05\n",
      "Epoch 25/200\n",
      "29/29 [==============================] - ETA: 0s - loss: 0.0128 - semantic_0_loss: 0.0033 - semantic_1_loss: 0.0081 - semantic_2_loss: 0.0014WARNING:tensorflow:Can save best model only with val_loss available, skipping.\n"
     ]
    },
    {
     "name": "stderr",
     "output_type": "stream",
     "text": [
      "WARNING:tensorflow:Can save best model only with val_loss available, skipping.\n"
     ]
    },
    {
     "name": "stdout",
     "output_type": "stream",
     "text": [
      "29/29 [==============================] - 17s 560ms/step - loss: 0.0128 - semantic_0_loss: 0.0033 - semantic_1_loss: 0.0081 - semantic_2_loss: 0.0014 - lr: 7.8568e-05\n",
      "Epoch 26/200\n",
      "29/29 [==============================] - ETA: 0s - loss: 0.0123 - semantic_0_loss: 0.0031 - semantic_1_loss: 0.0078 - semantic_2_loss: 0.0013WARNING:tensorflow:Can save best model only with val_loss available, skipping.\n"
     ]
    },
    {
     "name": "stderr",
     "output_type": "stream",
     "text": [
      "WARNING:tensorflow:Can save best model only with val_loss available, skipping.\n"
     ]
    },
    {
     "name": "stdout",
     "output_type": "stream",
     "text": [
      "29/29 [==============================] - 16s 556ms/step - loss: 0.0123 - semantic_0_loss: 0.0031 - semantic_1_loss: 0.0078 - semantic_2_loss: 0.0013 - lr: 7.7782e-05\n",
      "Epoch 27/200\n",
      "29/29 [==============================] - ETA: 0s - loss: 0.0129 - semantic_0_loss: 0.0033 - semantic_1_loss: 0.0083 - semantic_2_loss: 0.0014WARNING:tensorflow:Can save best model only with val_loss available, skipping.\n"
     ]
    },
    {
     "name": "stderr",
     "output_type": "stream",
     "text": [
      "WARNING:tensorflow:Can save best model only with val_loss available, skipping.\n"
     ]
    },
    {
     "name": "stdout",
     "output_type": "stream",
     "text": [
      "29/29 [==============================] - 17s 562ms/step - loss: 0.0129 - semantic_0_loss: 0.0033 - semantic_1_loss: 0.0083 - semantic_2_loss: 0.0014 - lr: 7.7004e-05\n",
      "Epoch 28/200\n",
      "29/29 [==============================] - ETA: 0s - loss: 0.0130 - semantic_0_loss: 0.0033 - semantic_1_loss: 0.0083 - semantic_2_loss: 0.0014WARNING:tensorflow:Can save best model only with val_loss available, skipping.\n"
     ]
    },
    {
     "name": "stderr",
     "output_type": "stream",
     "text": [
      "WARNING:tensorflow:Can save best model only with val_loss available, skipping.\n"
     ]
    },
    {
     "name": "stdout",
     "output_type": "stream",
     "text": [
      "29/29 [==============================] - 16s 565ms/step - loss: 0.0130 - semantic_0_loss: 0.0033 - semantic_1_loss: 0.0083 - semantic_2_loss: 0.0014 - lr: 7.6234e-05\n",
      "Epoch 29/200\n",
      "29/29 [==============================] - ETA: 0s - loss: 0.0128 - semantic_0_loss: 0.0032 - semantic_1_loss: 0.0082 - semantic_2_loss: 0.0014WARNING:tensorflow:Can save best model only with val_loss available, skipping.\n"
     ]
    },
    {
     "name": "stderr",
     "output_type": "stream",
     "text": [
      "WARNING:tensorflow:Can save best model only with val_loss available, skipping.\n"
     ]
    },
    {
     "name": "stdout",
     "output_type": "stream",
     "text": [
      "29/29 [==============================] - 17s 569ms/step - loss: 0.0128 - semantic_0_loss: 0.0032 - semantic_1_loss: 0.0082 - semantic_2_loss: 0.0014 - lr: 7.5472e-05\n",
      "Epoch 30/200\n",
      "29/29 [==============================] - ETA: 0s - loss: 0.0125 - semantic_0_loss: 0.0032 - semantic_1_loss: 0.0080 - semantic_2_loss: 0.0014WARNING:tensorflow:Can save best model only with val_loss available, skipping.\n"
     ]
    },
    {
     "name": "stderr",
     "output_type": "stream",
     "text": [
      "WARNING:tensorflow:Can save best model only with val_loss available, skipping.\n"
     ]
    },
    {
     "name": "stdout",
     "output_type": "stream",
     "text": [
      "29/29 [==============================] - 16s 552ms/step - loss: 0.0125 - semantic_0_loss: 0.0032 - semantic_1_loss: 0.0080 - semantic_2_loss: 0.0014 - lr: 7.4717e-05\n",
      "Epoch 31/200\n",
      "29/29 [==============================] - ETA: 0s - loss: 0.0123 - semantic_0_loss: 0.0031 - semantic_1_loss: 0.0078 - semantic_2_loss: 0.0014WARNING:tensorflow:Can save best model only with val_loss available, skipping.\n"
     ]
    },
    {
     "name": "stderr",
     "output_type": "stream",
     "text": [
      "WARNING:tensorflow:Can save best model only with val_loss available, skipping.\n"
     ]
    },
    {
     "name": "stdout",
     "output_type": "stream",
     "text": [
      "29/29 [==============================] - 16s 549ms/step - loss: 0.0123 - semantic_0_loss: 0.0031 - semantic_1_loss: 0.0078 - semantic_2_loss: 0.0014 - lr: 7.3970e-05\n",
      "Epoch 32/200\n",
      "29/29 [==============================] - ETA: 0s - loss: 0.0127 - semantic_0_loss: 0.0032 - semantic_1_loss: 0.0081 - semantic_2_loss: 0.0014WARNING:tensorflow:Can save best model only with val_loss available, skipping.\n"
     ]
    },
    {
     "name": "stderr",
     "output_type": "stream",
     "text": [
      "WARNING:tensorflow:Can save best model only with val_loss available, skipping.\n"
     ]
    },
    {
     "name": "stdout",
     "output_type": "stream",
     "text": [
      "29/29 [==============================] - 16s 556ms/step - loss: 0.0127 - semantic_0_loss: 0.0032 - semantic_1_loss: 0.0081 - semantic_2_loss: 0.0014 - lr: 7.3230e-05\n",
      "Epoch 33/200\n",
      "29/29 [==============================] - ETA: 0s - loss: 0.0127 - semantic_0_loss: 0.0032 - semantic_1_loss: 0.0081 - semantic_2_loss: 0.0014WARNING:tensorflow:Can save best model only with val_loss available, skipping.\n"
     ]
    },
    {
     "name": "stderr",
     "output_type": "stream",
     "text": [
      "WARNING:tensorflow:Can save best model only with val_loss available, skipping.\n"
     ]
    },
    {
     "name": "stdout",
     "output_type": "stream",
     "text": [
      "29/29 [==============================] - 17s 564ms/step - loss: 0.0127 - semantic_0_loss: 0.0032 - semantic_1_loss: 0.0081 - semantic_2_loss: 0.0014 - lr: 7.2498e-05\n",
      "Epoch 34/200\n",
      "29/29 [==============================] - ETA: 0s - loss: 0.0124 - semantic_0_loss: 0.0031 - semantic_1_loss: 0.0079 - semantic_2_loss: 0.0014WARNING:tensorflow:Can save best model only with val_loss available, skipping.\n"
     ]
    },
    {
     "name": "stderr",
     "output_type": "stream",
     "text": [
      "WARNING:tensorflow:Can save best model only with val_loss available, skipping.\n"
     ]
    },
    {
     "name": "stdout",
     "output_type": "stream",
     "text": [
      "29/29 [==============================] - 16s 554ms/step - loss: 0.0124 - semantic_0_loss: 0.0031 - semantic_1_loss: 0.0079 - semantic_2_loss: 0.0014 - lr: 7.1773e-05\n",
      "Epoch 35/200\n",
      "29/29 [==============================] - ETA: 0s - loss: 0.0125 - semantic_0_loss: 0.0032 - semantic_1_loss: 0.0080 - semantic_2_loss: 0.0014WARNING:tensorflow:Can save best model only with val_loss available, skipping.\n"
     ]
    },
    {
     "name": "stderr",
     "output_type": "stream",
     "text": [
      "WARNING:tensorflow:Can save best model only with val_loss available, skipping.\n"
     ]
    },
    {
     "name": "stdout",
     "output_type": "stream",
     "text": [
      "29/29 [==============================] - 17s 562ms/step - loss: 0.0125 - semantic_0_loss: 0.0032 - semantic_1_loss: 0.0080 - semantic_2_loss: 0.0014 - lr: 7.1055e-05\n",
      "Epoch 36/200\n",
      "29/29 [==============================] - ETA: 0s - loss: 0.0126 - semantic_0_loss: 0.0032 - semantic_1_loss: 0.0080 - semantic_2_loss: 0.0014WARNING:tensorflow:Can save best model only with val_loss available, skipping.\n"
     ]
    },
    {
     "name": "stderr",
     "output_type": "stream",
     "text": [
      "WARNING:tensorflow:Can save best model only with val_loss available, skipping.\n"
     ]
    },
    {
     "name": "stdout",
     "output_type": "stream",
     "text": [
      "29/29 [==============================] - 17s 564ms/step - loss: 0.0126 - semantic_0_loss: 0.0032 - semantic_1_loss: 0.0080 - semantic_2_loss: 0.0014 - lr: 7.0345e-05\n",
      "Epoch 37/200\n",
      "29/29 [==============================] - ETA: 0s - loss: 0.0125 - semantic_0_loss: 0.0032 - semantic_1_loss: 0.0080 - semantic_2_loss: 0.0014WARNING:tensorflow:Can save best model only with val_loss available, skipping.\n"
     ]
    },
    {
     "name": "stderr",
     "output_type": "stream",
     "text": [
      "WARNING:tensorflow:Can save best model only with val_loss available, skipping.\n"
     ]
    },
    {
     "name": "stdout",
     "output_type": "stream",
     "text": [
      "29/29 [==============================] - 16s 559ms/step - loss: 0.0125 - semantic_0_loss: 0.0032 - semantic_1_loss: 0.0080 - semantic_2_loss: 0.0014 - lr: 6.9641e-05\n",
      "Epoch 38/200\n",
      "29/29 [==============================] - ETA: 0s - loss: 0.0121 - semantic_0_loss: 0.0031 - semantic_1_loss: 0.0077 - semantic_2_loss: 0.0013WARNING:tensorflow:Can save best model only with val_loss available, skipping.\n"
     ]
    },
    {
     "name": "stderr",
     "output_type": "stream",
     "text": [
      "WARNING:tensorflow:Can save best model only with val_loss available, skipping.\n"
     ]
    },
    {
     "name": "stdout",
     "output_type": "stream",
     "text": [
      "29/29 [==============================] - 17s 560ms/step - loss: 0.0121 - semantic_0_loss: 0.0031 - semantic_1_loss: 0.0077 - semantic_2_loss: 0.0013 - lr: 6.8945e-05\n",
      "Epoch 39/200\n",
      "29/29 [==============================] - ETA: 0s - loss: 0.0121 - semantic_0_loss: 0.0031 - semantic_1_loss: 0.0077 - semantic_2_loss: 0.0013WARNING:tensorflow:Can save best model only with val_loss available, skipping.\n"
     ]
    },
    {
     "name": "stderr",
     "output_type": "stream",
     "text": [
      "WARNING:tensorflow:Can save best model only with val_loss available, skipping.\n"
     ]
    },
    {
     "name": "stdout",
     "output_type": "stream",
     "text": [
      "29/29 [==============================] - 17s 570ms/step - loss: 0.0121 - semantic_0_loss: 0.0031 - semantic_1_loss: 0.0077 - semantic_2_loss: 0.0013 - lr: 6.8255e-05\n",
      "Epoch 40/200\n",
      "29/29 [==============================] - ETA: 0s - loss: 0.0123 - semantic_0_loss: 0.0031 - semantic_1_loss: 0.0079 - semantic_2_loss: 0.0014WARNING:tensorflow:Can save best model only with val_loss available, skipping.\n"
     ]
    },
    {
     "name": "stderr",
     "output_type": "stream",
     "text": [
      "WARNING:tensorflow:Can save best model only with val_loss available, skipping.\n"
     ]
    },
    {
     "name": "stdout",
     "output_type": "stream",
     "text": [
      "29/29 [==============================] - 16s 563ms/step - loss: 0.0123 - semantic_0_loss: 0.0031 - semantic_1_loss: 0.0079 - semantic_2_loss: 0.0014 - lr: 6.7573e-05\n",
      "Epoch 41/200\n",
      "29/29 [==============================] - ETA: 0s - loss: 0.0118 - semantic_0_loss: 0.0031 - semantic_1_loss: 0.0075 - semantic_2_loss: 0.0013WARNING:tensorflow:Can save best model only with val_loss available, skipping.\n"
     ]
    },
    {
     "name": "stderr",
     "output_type": "stream",
     "text": [
      "WARNING:tensorflow:Can save best model only with val_loss available, skipping.\n"
     ]
    },
    {
     "name": "stdout",
     "output_type": "stream",
     "text": [
      "29/29 [==============================] - 17s 563ms/step - loss: 0.0118 - semantic_0_loss: 0.0031 - semantic_1_loss: 0.0075 - semantic_2_loss: 0.0013 - lr: 6.6897e-05\n",
      "Epoch 42/200\n",
      "29/29 [==============================] - ETA: 0s - loss: 0.0121 - semantic_0_loss: 0.0031 - semantic_1_loss: 0.0076 - semantic_2_loss: 0.0013WARNING:tensorflow:Can save best model only with val_loss available, skipping.\n"
     ]
    },
    {
     "name": "stderr",
     "output_type": "stream",
     "text": [
      "WARNING:tensorflow:Can save best model only with val_loss available, skipping.\n"
     ]
    },
    {
     "name": "stdout",
     "output_type": "stream",
     "text": [
      "29/29 [==============================] - 16s 553ms/step - loss: 0.0121 - semantic_0_loss: 0.0031 - semantic_1_loss: 0.0076 - semantic_2_loss: 0.0013 - lr: 6.6228e-05\n",
      "Epoch 43/200\n",
      "29/29 [==============================] - ETA: 0s - loss: 0.0121 - semantic_0_loss: 0.0031 - semantic_1_loss: 0.0077 - semantic_2_loss: 0.0013WARNING:tensorflow:Can save best model only with val_loss available, skipping.\n"
     ]
    },
    {
     "name": "stderr",
     "output_type": "stream",
     "text": [
      "WARNING:tensorflow:Can save best model only with val_loss available, skipping.\n"
     ]
    },
    {
     "name": "stdout",
     "output_type": "stream",
     "text": [
      "29/29 [==============================] - 17s 562ms/step - loss: 0.0121 - semantic_0_loss: 0.0031 - semantic_1_loss: 0.0077 - semantic_2_loss: 0.0013 - lr: 6.5566e-05\n",
      "Epoch 44/200\n",
      "29/29 [==============================] - ETA: 0s - loss: 0.0122 - semantic_0_loss: 0.0031 - semantic_1_loss: 0.0077 - semantic_2_loss: 0.0013WARNING:tensorflow:Can save best model only with val_loss available, skipping.\n"
     ]
    },
    {
     "name": "stderr",
     "output_type": "stream",
     "text": [
      "WARNING:tensorflow:Can save best model only with val_loss available, skipping.\n"
     ]
    },
    {
     "name": "stdout",
     "output_type": "stream",
     "text": [
      "29/29 [==============================] - 16s 557ms/step - loss: 0.0122 - semantic_0_loss: 0.0031 - semantic_1_loss: 0.0077 - semantic_2_loss: 0.0013 - lr: 6.4910e-05\n",
      "Epoch 45/200\n",
      "29/29 [==============================] - ETA: 0s - loss: 0.0118 - semantic_0_loss: 0.0030 - semantic_1_loss: 0.0074 - semantic_2_loss: 0.0013WARNING:tensorflow:Can save best model only with val_loss available, skipping.\n"
     ]
    },
    {
     "name": "stderr",
     "output_type": "stream",
     "text": [
      "WARNING:tensorflow:Can save best model only with val_loss available, skipping.\n"
     ]
    },
    {
     "name": "stdout",
     "output_type": "stream",
     "text": [
      "29/29 [==============================] - 16s 554ms/step - loss: 0.0118 - semantic_0_loss: 0.0030 - semantic_1_loss: 0.0074 - semantic_2_loss: 0.0013 - lr: 6.4261e-05\n",
      "Epoch 46/200\n",
      "29/29 [==============================] - ETA: 0s - loss: 0.0122 - semantic_0_loss: 0.0031 - semantic_1_loss: 0.0078 - semantic_2_loss: 0.0013WARNING:tensorflow:Can save best model only with val_loss available, skipping.\n"
     ]
    },
    {
     "name": "stderr",
     "output_type": "stream",
     "text": [
      "WARNING:tensorflow:Can save best model only with val_loss available, skipping.\n"
     ]
    },
    {
     "name": "stdout",
     "output_type": "stream",
     "text": [
      "29/29 [==============================] - 17s 565ms/step - loss: 0.0122 - semantic_0_loss: 0.0031 - semantic_1_loss: 0.0078 - semantic_2_loss: 0.0013 - lr: 6.3619e-05\n",
      "Epoch 47/200\n",
      "29/29 [==============================] - ETA: 0s - loss: 0.0121 - semantic_0_loss: 0.0031 - semantic_1_loss: 0.0076 - semantic_2_loss: 0.0013WARNING:tensorflow:Can save best model only with val_loss available, skipping.\n"
     ]
    },
    {
     "name": "stderr",
     "output_type": "stream",
     "text": [
      "WARNING:tensorflow:Can save best model only with val_loss available, skipping.\n"
     ]
    },
    {
     "name": "stdout",
     "output_type": "stream",
     "text": [
      "29/29 [==============================] - 16s 556ms/step - loss: 0.0121 - semantic_0_loss: 0.0031 - semantic_1_loss: 0.0076 - semantic_2_loss: 0.0013 - lr: 6.2982e-05\n",
      "Epoch 48/200\n",
      "29/29 [==============================] - ETA: 0s - loss: 0.0121 - semantic_0_loss: 0.0031 - semantic_1_loss: 0.0077 - semantic_2_loss: 0.0013WARNING:tensorflow:Can save best model only with val_loss available, skipping.\n"
     ]
    },
    {
     "name": "stderr",
     "output_type": "stream",
     "text": [
      "WARNING:tensorflow:Can save best model only with val_loss available, skipping.\n"
     ]
    },
    {
     "name": "stdout",
     "output_type": "stream",
     "text": [
      "29/29 [==============================] - 17s 564ms/step - loss: 0.0121 - semantic_0_loss: 0.0031 - semantic_1_loss: 0.0077 - semantic_2_loss: 0.0013 - lr: 6.2353e-05\n",
      "Epoch 49/200\n",
      "29/29 [==============================] - ETA: 0s - loss: 0.0117 - semantic_0_loss: 0.0030 - semantic_1_loss: 0.0074 - semantic_2_loss: 0.0013WARNING:tensorflow:Can save best model only with val_loss available, skipping.\n"
     ]
    },
    {
     "name": "stderr",
     "output_type": "stream",
     "text": [
      "WARNING:tensorflow:Can save best model only with val_loss available, skipping.\n"
     ]
    },
    {
     "name": "stdout",
     "output_type": "stream",
     "text": [
      "29/29 [==============================] - 17s 564ms/step - loss: 0.0117 - semantic_0_loss: 0.0030 - semantic_1_loss: 0.0074 - semantic_2_loss: 0.0013 - lr: 6.1729e-05\n",
      "Epoch 50/200\n",
      "29/29 [==============================] - ETA: 0s - loss: 0.0117 - semantic_0_loss: 0.0030 - semantic_1_loss: 0.0074 - semantic_2_loss: 0.0013WARNING:tensorflow:Can save best model only with val_loss available, skipping.\n"
     ]
    },
    {
     "name": "stderr",
     "output_type": "stream",
     "text": [
      "WARNING:tensorflow:Can save best model only with val_loss available, skipping.\n"
     ]
    },
    {
     "name": "stdout",
     "output_type": "stream",
     "text": [
      "29/29 [==============================] - 16s 560ms/step - loss: 0.0117 - semantic_0_loss: 0.0030 - semantic_1_loss: 0.0074 - semantic_2_loss: 0.0013 - lr: 6.1112e-05\n",
      "Epoch 51/200\n",
      "29/29 [==============================] - ETA: 0s - loss: 0.0117 - semantic_0_loss: 0.0030 - semantic_1_loss: 0.0074 - semantic_2_loss: 0.0013WARNING:tensorflow:Can save best model only with val_loss available, skipping.\n"
     ]
    },
    {
     "name": "stderr",
     "output_type": "stream",
     "text": [
      "WARNING:tensorflow:Can save best model only with val_loss available, skipping.\n"
     ]
    },
    {
     "name": "stdout",
     "output_type": "stream",
     "text": [
      "29/29 [==============================] - 17s 570ms/step - loss: 0.0117 - semantic_0_loss: 0.0030 - semantic_1_loss: 0.0074 - semantic_2_loss: 0.0013 - lr: 6.0501e-05\n",
      "Epoch 52/200\n",
      "29/29 [==============================] - ETA: 0s - loss: 0.0118 - semantic_0_loss: 0.0030 - semantic_1_loss: 0.0074 - semantic_2_loss: 0.0013WARNING:tensorflow:Can save best model only with val_loss available, skipping.\n"
     ]
    },
    {
     "name": "stderr",
     "output_type": "stream",
     "text": [
      "WARNING:tensorflow:Can save best model only with val_loss available, skipping.\n"
     ]
    },
    {
     "name": "stdout",
     "output_type": "stream",
     "text": [
      "29/29 [==============================] - 16s 551ms/step - loss: 0.0118 - semantic_0_loss: 0.0030 - semantic_1_loss: 0.0074 - semantic_2_loss: 0.0013 - lr: 5.9896e-05\n",
      "Epoch 53/200\n",
      "29/29 [==============================] - ETA: 0s - loss: 0.0122 - semantic_0_loss: 0.0031 - semantic_1_loss: 0.0077 - semantic_2_loss: 0.0013WARNING:tensorflow:Can save best model only with val_loss available, skipping.\n"
     ]
    },
    {
     "name": "stderr",
     "output_type": "stream",
     "text": [
      "WARNING:tensorflow:Can save best model only with val_loss available, skipping.\n"
     ]
    },
    {
     "name": "stdout",
     "output_type": "stream",
     "text": [
      "29/29 [==============================] - 17s 563ms/step - loss: 0.0122 - semantic_0_loss: 0.0031 - semantic_1_loss: 0.0077 - semantic_2_loss: 0.0013 - lr: 5.9297e-05\n",
      "Epoch 54/200\n",
      "29/29 [==============================] - ETA: 0s - loss: 0.0118 - semantic_0_loss: 0.0030 - semantic_1_loss: 0.0075 - semantic_2_loss: 0.0013WARNING:tensorflow:Can save best model only with val_loss available, skipping.\n"
     ]
    },
    {
     "name": "stderr",
     "output_type": "stream",
     "text": [
      "WARNING:tensorflow:Can save best model only with val_loss available, skipping.\n"
     ]
    },
    {
     "name": "stdout",
     "output_type": "stream",
     "text": [
      "29/29 [==============================] - 16s 561ms/step - loss: 0.0118 - semantic_0_loss: 0.0030 - semantic_1_loss: 0.0075 - semantic_2_loss: 0.0013 - lr: 5.8704e-05\n",
      "Epoch 55/200\n",
      "29/29 [==============================] - ETA: 0s - loss: 0.0120 - semantic_0_loss: 0.0031 - semantic_1_loss: 0.0076 - semantic_2_loss: 0.0013WARNING:tensorflow:Can save best model only with val_loss available, skipping.\n"
     ]
    },
    {
     "name": "stderr",
     "output_type": "stream",
     "text": [
      "WARNING:tensorflow:Can save best model only with val_loss available, skipping.\n"
     ]
    },
    {
     "name": "stdout",
     "output_type": "stream",
     "text": [
      "29/29 [==============================] - 16s 555ms/step - loss: 0.0120 - semantic_0_loss: 0.0031 - semantic_1_loss: 0.0076 - semantic_2_loss: 0.0013 - lr: 5.8117e-05\n",
      "Epoch 56/200\n",
      "29/29 [==============================] - ETA: 0s - loss: 0.0119 - semantic_0_loss: 0.0031 - semantic_1_loss: 0.0075 - semantic_2_loss: 0.0013WARNING:tensorflow:Can save best model only with val_loss available, skipping.\n"
     ]
    },
    {
     "name": "stderr",
     "output_type": "stream",
     "text": [
      "WARNING:tensorflow:Can save best model only with val_loss available, skipping.\n"
     ]
    },
    {
     "name": "stdout",
     "output_type": "stream",
     "text": [
      "29/29 [==============================] - 16s 558ms/step - loss: 0.0119 - semantic_0_loss: 0.0031 - semantic_1_loss: 0.0075 - semantic_2_loss: 0.0013 - lr: 5.7535e-05\n",
      "Epoch 57/200\n",
      "29/29 [==============================] - ETA: 0s - loss: 0.0119 - semantic_0_loss: 0.0031 - semantic_1_loss: 0.0075 - semantic_2_loss: 0.0013WARNING:tensorflow:Can save best model only with val_loss available, skipping.\n"
     ]
    },
    {
     "name": "stderr",
     "output_type": "stream",
     "text": [
      "WARNING:tensorflow:Can save best model only with val_loss available, skipping.\n"
     ]
    },
    {
     "name": "stdout",
     "output_type": "stream",
     "text": [
      "29/29 [==============================] - 17s 566ms/step - loss: 0.0119 - semantic_0_loss: 0.0031 - semantic_1_loss: 0.0075 - semantic_2_loss: 0.0013 - lr: 5.6960e-05\n",
      "Epoch 58/200\n",
      "29/29 [==============================] - ETA: 0s - loss: 0.0117 - semantic_0_loss: 0.0030 - semantic_1_loss: 0.0074 - semantic_2_loss: 0.0013WARNING:tensorflow:Can save best model only with val_loss available, skipping.\n"
     ]
    },
    {
     "name": "stderr",
     "output_type": "stream",
     "text": [
      "WARNING:tensorflow:Can save best model only with val_loss available, skipping.\n"
     ]
    },
    {
     "name": "stdout",
     "output_type": "stream",
     "text": [
      "29/29 [==============================] - 16s 555ms/step - loss: 0.0117 - semantic_0_loss: 0.0030 - semantic_1_loss: 0.0074 - semantic_2_loss: 0.0013 - lr: 5.6391e-05\n",
      "Epoch 59/200\n",
      "29/29 [==============================] - ETA: 0s - loss: 0.0115 - semantic_0_loss: 0.0030 - semantic_1_loss: 0.0072 - semantic_2_loss: 0.0013WARNING:tensorflow:Can save best model only with val_loss available, skipping.\n"
     ]
    },
    {
     "name": "stderr",
     "output_type": "stream",
     "text": [
      "WARNING:tensorflow:Can save best model only with val_loss available, skipping.\n"
     ]
    },
    {
     "name": "stdout",
     "output_type": "stream",
     "text": [
      "29/29 [==============================] - 16s 558ms/step - loss: 0.0115 - semantic_0_loss: 0.0030 - semantic_1_loss: 0.0072 - semantic_2_loss: 0.0013 - lr: 5.5827e-05\n",
      "Epoch 60/200\n",
      "29/29 [==============================] - ETA: 0s - loss: 0.0115 - semantic_0_loss: 0.0030 - semantic_1_loss: 0.0073 - semantic_2_loss: 0.0013WARNING:tensorflow:Can save best model only with val_loss available, skipping.\n"
     ]
    },
    {
     "name": "stderr",
     "output_type": "stream",
     "text": [
      "WARNING:tensorflow:Can save best model only with val_loss available, skipping.\n"
     ]
    },
    {
     "name": "stdout",
     "output_type": "stream",
     "text": [
      "29/29 [==============================] - 16s 559ms/step - loss: 0.0115 - semantic_0_loss: 0.0030 - semantic_1_loss: 0.0073 - semantic_2_loss: 0.0013 - lr: 5.5268e-05\n",
      "Epoch 61/200\n",
      "29/29 [==============================] - ETA: 0s - loss: 0.0114 - semantic_0_loss: 0.0029 - semantic_1_loss: 0.0072 - semantic_2_loss: 0.0013WARNING:tensorflow:Can save best model only with val_loss available, skipping.\n"
     ]
    },
    {
     "name": "stderr",
     "output_type": "stream",
     "text": [
      "WARNING:tensorflow:Can save best model only with val_loss available, skipping.\n"
     ]
    },
    {
     "name": "stdout",
     "output_type": "stream",
     "text": [
      "29/29 [==============================] - 16s 557ms/step - loss: 0.0114 - semantic_0_loss: 0.0029 - semantic_1_loss: 0.0072 - semantic_2_loss: 0.0013 - lr: 5.4716e-05\n",
      "Epoch 62/200\n",
      "29/29 [==============================] - ETA: 0s - loss: 0.0114 - semantic_0_loss: 0.0030 - semantic_1_loss: 0.0072 - semantic_2_loss: 0.0013WARNING:tensorflow:Can save best model only with val_loss available, skipping.\n"
     ]
    },
    {
     "name": "stderr",
     "output_type": "stream",
     "text": [
      "WARNING:tensorflow:Can save best model only with val_loss available, skipping.\n"
     ]
    },
    {
     "name": "stdout",
     "output_type": "stream",
     "text": [
      "29/29 [==============================] - 16s 555ms/step - loss: 0.0114 - semantic_0_loss: 0.0030 - semantic_1_loss: 0.0072 - semantic_2_loss: 0.0013 - lr: 5.4169e-05\n",
      "Epoch 63/200\n",
      "29/29 [==============================] - ETA: 0s - loss: 0.0116 - semantic_0_loss: 0.0030 - semantic_1_loss: 0.0073 - semantic_2_loss: 0.0013WARNING:tensorflow:Can save best model only with val_loss available, skipping.\n"
     ]
    },
    {
     "name": "stderr",
     "output_type": "stream",
     "text": [
      "WARNING:tensorflow:Can save best model only with val_loss available, skipping.\n"
     ]
    },
    {
     "name": "stdout",
     "output_type": "stream",
     "text": [
      "29/29 [==============================] - 16s 559ms/step - loss: 0.0116 - semantic_0_loss: 0.0030 - semantic_1_loss: 0.0073 - semantic_2_loss: 0.0013 - lr: 5.3627e-05\n",
      "Epoch 64/200\n",
      "29/29 [==============================] - ETA: 0s - loss: 0.0118 - semantic_0_loss: 0.0031 - semantic_1_loss: 0.0074 - semantic_2_loss: 0.0013WARNING:tensorflow:Can save best model only with val_loss available, skipping.\n"
     ]
    },
    {
     "name": "stderr",
     "output_type": "stream",
     "text": [
      "WARNING:tensorflow:Can save best model only with val_loss available, skipping.\n"
     ]
    },
    {
     "name": "stdout",
     "output_type": "stream",
     "text": [
      "29/29 [==============================] - 17s 560ms/step - loss: 0.0118 - semantic_0_loss: 0.0031 - semantic_1_loss: 0.0074 - semantic_2_loss: 0.0013 - lr: 5.3091e-05\n",
      "Epoch 65/200\n",
      "29/29 [==============================] - ETA: 0s - loss: 0.0115 - semantic_0_loss: 0.0030 - semantic_1_loss: 0.0073 - semantic_2_loss: 0.0013WARNING:tensorflow:Can save best model only with val_loss available, skipping.\n"
     ]
    },
    {
     "name": "stderr",
     "output_type": "stream",
     "text": [
      "WARNING:tensorflow:Can save best model only with val_loss available, skipping.\n"
     ]
    },
    {
     "name": "stdout",
     "output_type": "stream",
     "text": [
      "29/29 [==============================] - 17s 565ms/step - loss: 0.0115 - semantic_0_loss: 0.0030 - semantic_1_loss: 0.0073 - semantic_2_loss: 0.0013 - lr: 5.2560e-05\n",
      "Epoch 66/200\n",
      "29/29 [==============================] - ETA: 0s - loss: 0.0117 - semantic_0_loss: 0.0030 - semantic_1_loss: 0.0074 - semantic_2_loss: 0.0013WARNING:tensorflow:Can save best model only with val_loss available, skipping.\n"
     ]
    },
    {
     "name": "stderr",
     "output_type": "stream",
     "text": [
      "WARNING:tensorflow:Can save best model only with val_loss available, skipping.\n"
     ]
    },
    {
     "name": "stdout",
     "output_type": "stream",
     "text": [
      "29/29 [==============================] - 16s 557ms/step - loss: 0.0117 - semantic_0_loss: 0.0030 - semantic_1_loss: 0.0074 - semantic_2_loss: 0.0013 - lr: 5.2034e-05\n",
      "Epoch 67/200\n",
      "29/29 [==============================] - ETA: 0s - loss: 0.0119 - semantic_0_loss: 0.0031 - semantic_1_loss: 0.0075 - semantic_2_loss: 0.0013WARNING:tensorflow:Can save best model only with val_loss available, skipping.\n"
     ]
    },
    {
     "name": "stderr",
     "output_type": "stream",
     "text": [
      "WARNING:tensorflow:Can save best model only with val_loss available, skipping.\n"
     ]
    },
    {
     "name": "stdout",
     "output_type": "stream",
     "text": [
      "29/29 [==============================] - 16s 557ms/step - loss: 0.0119 - semantic_0_loss: 0.0031 - semantic_1_loss: 0.0075 - semantic_2_loss: 0.0013 - lr: 5.1514e-05\n",
      "Epoch 68/200\n",
      "29/29 [==============================] - ETA: 0s - loss: 0.0117 - semantic_0_loss: 0.0030 - semantic_1_loss: 0.0073 - semantic_2_loss: 0.0013WARNING:tensorflow:Can save best model only with val_loss available, skipping.\n"
     ]
    },
    {
     "name": "stderr",
     "output_type": "stream",
     "text": [
      "WARNING:tensorflow:Can save best model only with val_loss available, skipping.\n"
     ]
    },
    {
     "name": "stdout",
     "output_type": "stream",
     "text": [
      "29/29 [==============================] - 16s 561ms/step - loss: 0.0117 - semantic_0_loss: 0.0030 - semantic_1_loss: 0.0073 - semantic_2_loss: 0.0013 - lr: 5.0999e-05\n",
      "Epoch 69/200\n",
      "29/29 [==============================] - ETA: 0s - loss: 0.0116 - semantic_0_loss: 0.0030 - semantic_1_loss: 0.0073 - semantic_2_loss: 0.0013WARNING:tensorflow:Can save best model only with val_loss available, skipping.\n"
     ]
    },
    {
     "name": "stderr",
     "output_type": "stream",
     "text": [
      "WARNING:tensorflow:Can save best model only with val_loss available, skipping.\n"
     ]
    },
    {
     "name": "stdout",
     "output_type": "stream",
     "text": [
      "29/29 [==============================] - 17s 568ms/step - loss: 0.0116 - semantic_0_loss: 0.0030 - semantic_1_loss: 0.0073 - semantic_2_loss: 0.0013 - lr: 5.0489e-05\n",
      "Epoch 70/200\n",
      "29/29 [==============================] - ETA: 0s - loss: 0.0116 - semantic_0_loss: 0.0030 - semantic_1_loss: 0.0073 - semantic_2_loss: 0.0013WARNING:tensorflow:Can save best model only with val_loss available, skipping.\n"
     ]
    },
    {
     "name": "stderr",
     "output_type": "stream",
     "text": [
      "WARNING:tensorflow:Can save best model only with val_loss available, skipping.\n"
     ]
    },
    {
     "name": "stdout",
     "output_type": "stream",
     "text": [
      "29/29 [==============================] - 17s 564ms/step - loss: 0.0116 - semantic_0_loss: 0.0030 - semantic_1_loss: 0.0073 - semantic_2_loss: 0.0013 - lr: 4.9984e-05\n",
      "Epoch 71/200\n",
      "29/29 [==============================] - ETA: 0s - loss: 0.0116 - semantic_0_loss: 0.0030 - semantic_1_loss: 0.0073 - semantic_2_loss: 0.0013WARNING:tensorflow:Can save best model only with val_loss available, skipping.\n"
     ]
    },
    {
     "name": "stderr",
     "output_type": "stream",
     "text": [
      "WARNING:tensorflow:Can save best model only with val_loss available, skipping.\n"
     ]
    },
    {
     "name": "stdout",
     "output_type": "stream",
     "text": [
      "29/29 [==============================] - 16s 557ms/step - loss: 0.0116 - semantic_0_loss: 0.0030 - semantic_1_loss: 0.0073 - semantic_2_loss: 0.0013 - lr: 4.9484e-05\n",
      "Epoch 72/200\n",
      "29/29 [==============================] - ETA: 0s - loss: 0.0116 - semantic_0_loss: 0.0030 - semantic_1_loss: 0.0073 - semantic_2_loss: 0.0013WARNING:tensorflow:Can save best model only with val_loss available, skipping.\n"
     ]
    },
    {
     "name": "stderr",
     "output_type": "stream",
     "text": [
      "WARNING:tensorflow:Can save best model only with val_loss available, skipping.\n"
     ]
    },
    {
     "name": "stdout",
     "output_type": "stream",
     "text": [
      "29/29 [==============================] - 16s 561ms/step - loss: 0.0116 - semantic_0_loss: 0.0030 - semantic_1_loss: 0.0073 - semantic_2_loss: 0.0013 - lr: 4.8989e-05\n",
      "Epoch 73/200\n",
      "29/29 [==============================] - ETA: 0s - loss: 0.0118 - semantic_0_loss: 0.0031 - semantic_1_loss: 0.0074 - semantic_2_loss: 0.0013WARNING:tensorflow:Can save best model only with val_loss available, skipping.\n"
     ]
    },
    {
     "name": "stderr",
     "output_type": "stream",
     "text": [
      "WARNING:tensorflow:Can save best model only with val_loss available, skipping.\n"
     ]
    },
    {
     "name": "stdout",
     "output_type": "stream",
     "text": [
      "29/29 [==============================] - 17s 582ms/step - loss: 0.0118 - semantic_0_loss: 0.0031 - semantic_1_loss: 0.0074 - semantic_2_loss: 0.0013 - lr: 4.8499e-05\n",
      "Epoch 74/200\n",
      "29/29 [==============================] - ETA: 0s - loss: 0.0114 - semantic_0_loss: 0.0029 - semantic_1_loss: 0.0072 - semantic_2_loss: 0.0013WARNING:tensorflow:Can save best model only with val_loss available, skipping.\n"
     ]
    },
    {
     "name": "stderr",
     "output_type": "stream",
     "text": [
      "WARNING:tensorflow:Can save best model only with val_loss available, skipping.\n"
     ]
    },
    {
     "name": "stdout",
     "output_type": "stream",
     "text": [
      "29/29 [==============================] - 16s 555ms/step - loss: 0.0114 - semantic_0_loss: 0.0029 - semantic_1_loss: 0.0072 - semantic_2_loss: 0.0013 - lr: 4.8014e-05\n",
      "Epoch 75/200\n",
      "29/29 [==============================] - ETA: 0s - loss: 0.0114 - semantic_0_loss: 0.0030 - semantic_1_loss: 0.0072 - semantic_2_loss: 0.0013WARNING:tensorflow:Can save best model only with val_loss available, skipping.\n"
     ]
    },
    {
     "name": "stderr",
     "output_type": "stream",
     "text": [
      "WARNING:tensorflow:Can save best model only with val_loss available, skipping.\n"
     ]
    },
    {
     "name": "stdout",
     "output_type": "stream",
     "text": [
      "29/29 [==============================] - 16s 555ms/step - loss: 0.0114 - semantic_0_loss: 0.0030 - semantic_1_loss: 0.0072 - semantic_2_loss: 0.0013 - lr: 4.7534e-05\n",
      "Epoch 76/200\n",
      "29/29 [==============================] - ETA: 0s - loss: 0.0114 - semantic_0_loss: 0.0030 - semantic_1_loss: 0.0072 - semantic_2_loss: 0.0013WARNING:tensorflow:Can save best model only with val_loss available, skipping.\n"
     ]
    },
    {
     "name": "stderr",
     "output_type": "stream",
     "text": [
      "WARNING:tensorflow:Can save best model only with val_loss available, skipping.\n"
     ]
    },
    {
     "name": "stdout",
     "output_type": "stream",
     "text": [
      "29/29 [==============================] - 16s 562ms/step - loss: 0.0114 - semantic_0_loss: 0.0030 - semantic_1_loss: 0.0072 - semantic_2_loss: 0.0013 - lr: 4.7059e-05\n",
      "Epoch 77/200\n",
      "29/29 [==============================] - ETA: 0s - loss: 0.0114 - semantic_0_loss: 0.0030 - semantic_1_loss: 0.0071 - semantic_2_loss: 0.0013WARNING:tensorflow:Can save best model only with val_loss available, skipping.\n"
     ]
    },
    {
     "name": "stderr",
     "output_type": "stream",
     "text": [
      "WARNING:tensorflow:Can save best model only with val_loss available, skipping.\n"
     ]
    },
    {
     "name": "stdout",
     "output_type": "stream",
     "text": [
      "29/29 [==============================] - 16s 560ms/step - loss: 0.0114 - semantic_0_loss: 0.0030 - semantic_1_loss: 0.0071 - semantic_2_loss: 0.0013 - lr: 4.6588e-05\n",
      "Epoch 78/200\n",
      "29/29 [==============================] - ETA: 0s - loss: 0.0116 - semantic_0_loss: 0.0031 - semantic_1_loss: 0.0073 - semantic_2_loss: 0.0013WARNING:tensorflow:Can save best model only with val_loss available, skipping.\n"
     ]
    },
    {
     "name": "stderr",
     "output_type": "stream",
     "text": [
      "WARNING:tensorflow:Can save best model only with val_loss available, skipping.\n"
     ]
    },
    {
     "name": "stdout",
     "output_type": "stream",
     "text": [
      "29/29 [==============================] - 17s 569ms/step - loss: 0.0116 - semantic_0_loss: 0.0031 - semantic_1_loss: 0.0073 - semantic_2_loss: 0.0013 - lr: 4.6122e-05\n",
      "Epoch 79/200\n",
      "29/29 [==============================] - ETA: 0s - loss: 0.0114 - semantic_0_loss: 0.0030 - semantic_1_loss: 0.0072 - semantic_2_loss: 0.0013WARNING:tensorflow:Can save best model only with val_loss available, skipping.\n"
     ]
    },
    {
     "name": "stderr",
     "output_type": "stream",
     "text": [
      "WARNING:tensorflow:Can save best model only with val_loss available, skipping.\n"
     ]
    },
    {
     "name": "stdout",
     "output_type": "stream",
     "text": [
      "29/29 [==============================] - 17s 561ms/step - loss: 0.0114 - semantic_0_loss: 0.0030 - semantic_1_loss: 0.0072 - semantic_2_loss: 0.0013 - lr: 4.5661e-05\n",
      "Epoch 80/200\n",
      "29/29 [==============================] - ETA: 0s - loss: 0.0112 - semantic_0_loss: 0.0029 - semantic_1_loss: 0.0071 - semantic_2_loss: 0.0013WARNING:tensorflow:Can save best model only with val_loss available, skipping.\n"
     ]
    },
    {
     "name": "stderr",
     "output_type": "stream",
     "text": [
      "WARNING:tensorflow:Can save best model only with val_loss available, skipping.\n"
     ]
    },
    {
     "name": "stdout",
     "output_type": "stream",
     "text": [
      "29/29 [==============================] - 16s 560ms/step - loss: 0.0112 - semantic_0_loss: 0.0029 - semantic_1_loss: 0.0071 - semantic_2_loss: 0.0013 - lr: 4.5204e-05\n",
      "Epoch 81/200\n",
      "29/29 [==============================] - ETA: 0s - loss: 0.0112 - semantic_0_loss: 0.0029 - semantic_1_loss: 0.0071 - semantic_2_loss: 0.0012WARNING:tensorflow:Can save best model only with val_loss available, skipping.\n"
     ]
    },
    {
     "name": "stderr",
     "output_type": "stream",
     "text": [
      "WARNING:tensorflow:Can save best model only with val_loss available, skipping.\n"
     ]
    },
    {
     "name": "stdout",
     "output_type": "stream",
     "text": [
      "29/29 [==============================] - 17s 566ms/step - loss: 0.0112 - semantic_0_loss: 0.0029 - semantic_1_loss: 0.0071 - semantic_2_loss: 0.0012 - lr: 4.4752e-05\n",
      "Epoch 82/200\n",
      "29/29 [==============================] - ETA: 0s - loss: 0.0109 - semantic_0_loss: 0.0029 - semantic_1_loss: 0.0068 - semantic_2_loss: 0.0012WARNING:tensorflow:Can save best model only with val_loss available, skipping.\n"
     ]
    },
    {
     "name": "stderr",
     "output_type": "stream",
     "text": [
      "WARNING:tensorflow:Can save best model only with val_loss available, skipping.\n"
     ]
    },
    {
     "name": "stdout",
     "output_type": "stream",
     "text": [
      "29/29 [==============================] - 16s 554ms/step - loss: 0.0109 - semantic_0_loss: 0.0029 - semantic_1_loss: 0.0068 - semantic_2_loss: 0.0012 - lr: 4.4305e-05\n",
      "Epoch 83/200\n",
      "29/29 [==============================] - ETA: 0s - loss: 0.0112 - semantic_0_loss: 0.0030 - semantic_1_loss: 0.0070 - semantic_2_loss: 0.0012WARNING:tensorflow:Can save best model only with val_loss available, skipping.\n"
     ]
    },
    {
     "name": "stderr",
     "output_type": "stream",
     "text": [
      "WARNING:tensorflow:Can save best model only with val_loss available, skipping.\n"
     ]
    },
    {
     "name": "stdout",
     "output_type": "stream",
     "text": [
      "29/29 [==============================] - 16s 550ms/step - loss: 0.0112 - semantic_0_loss: 0.0030 - semantic_1_loss: 0.0070 - semantic_2_loss: 0.0012 - lr: 4.3862e-05\n",
      "Epoch 84/200\n",
      "29/29 [==============================] - ETA: 0s - loss: 0.0112 - semantic_0_loss: 0.0029 - semantic_1_loss: 0.0071 - semantic_2_loss: 0.0012WARNING:tensorflow:Can save best model only with val_loss available, skipping.\n"
     ]
    },
    {
     "name": "stderr",
     "output_type": "stream",
     "text": [
      "WARNING:tensorflow:Can save best model only with val_loss available, skipping.\n"
     ]
    },
    {
     "name": "stdout",
     "output_type": "stream",
     "text": [
      "29/29 [==============================] - 17s 567ms/step - loss: 0.0112 - semantic_0_loss: 0.0029 - semantic_1_loss: 0.0071 - semantic_2_loss: 0.0012 - lr: 4.3423e-05\n",
      "Epoch 85/200\n",
      "29/29 [==============================] - ETA: 0s - loss: 0.0113 - semantic_0_loss: 0.0030 - semantic_1_loss: 0.0071 - semantic_2_loss: 0.0012WARNING:tensorflow:Can save best model only with val_loss available, skipping.\n"
     ]
    },
    {
     "name": "stderr",
     "output_type": "stream",
     "text": [
      "WARNING:tensorflow:Can save best model only with val_loss available, skipping.\n"
     ]
    },
    {
     "name": "stdout",
     "output_type": "stream",
     "text": [
      "29/29 [==============================] - 17s 582ms/step - loss: 0.0113 - semantic_0_loss: 0.0030 - semantic_1_loss: 0.0071 - semantic_2_loss: 0.0012 - lr: 4.2989e-05\n",
      "Epoch 86/200\n",
      "29/29 [==============================] - ETA: 0s - loss: 0.0115 - semantic_0_loss: 0.0030 - semantic_1_loss: 0.0072 - semantic_2_loss: 0.0013WARNING:tensorflow:Can save best model only with val_loss available, skipping.\n"
     ]
    },
    {
     "name": "stderr",
     "output_type": "stream",
     "text": [
      "WARNING:tensorflow:Can save best model only with val_loss available, skipping.\n"
     ]
    },
    {
     "name": "stdout",
     "output_type": "stream",
     "text": [
      "29/29 [==============================] - 16s 557ms/step - loss: 0.0115 - semantic_0_loss: 0.0030 - semantic_1_loss: 0.0072 - semantic_2_loss: 0.0013 - lr: 4.2559e-05\n",
      "Epoch 87/200\n",
      "29/29 [==============================] - ETA: 0s - loss: 0.0113 - semantic_0_loss: 0.0030 - semantic_1_loss: 0.0071 - semantic_2_loss: 0.0012WARNING:tensorflow:Can save best model only with val_loss available, skipping.\n"
     ]
    },
    {
     "name": "stderr",
     "output_type": "stream",
     "text": [
      "WARNING:tensorflow:Can save best model only with val_loss available, skipping.\n"
     ]
    },
    {
     "name": "stdout",
     "output_type": "stream",
     "text": [
      "29/29 [==============================] - 17s 569ms/step - loss: 0.0113 - semantic_0_loss: 0.0030 - semantic_1_loss: 0.0071 - semantic_2_loss: 0.0012 - lr: 4.2133e-05\n",
      "Epoch 88/200\n",
      "29/29 [==============================] - ETA: 0s - loss: 0.0111 - semantic_0_loss: 0.0029 - semantic_1_loss: 0.0069 - semantic_2_loss: 0.0012WARNING:tensorflow:Can save best model only with val_loss available, skipping.\n"
     ]
    },
    {
     "name": "stderr",
     "output_type": "stream",
     "text": [
      "WARNING:tensorflow:Can save best model only with val_loss available, skipping.\n"
     ]
    },
    {
     "name": "stdout",
     "output_type": "stream",
     "text": [
      "29/29 [==============================] - 16s 556ms/step - loss: 0.0111 - semantic_0_loss: 0.0029 - semantic_1_loss: 0.0069 - semantic_2_loss: 0.0012 - lr: 4.1712e-05\n",
      "Epoch 89/200\n",
      "29/29 [==============================] - ETA: 0s - loss: 0.0111 - semantic_0_loss: 0.0029 - semantic_1_loss: 0.0070 - semantic_2_loss: 0.0013WARNING:tensorflow:Can save best model only with val_loss available, skipping.\n"
     ]
    },
    {
     "name": "stderr",
     "output_type": "stream",
     "text": [
      "WARNING:tensorflow:Can save best model only with val_loss available, skipping.\n"
     ]
    },
    {
     "name": "stdout",
     "output_type": "stream",
     "text": [
      "29/29 [==============================] - 16s 545ms/step - loss: 0.0111 - semantic_0_loss: 0.0029 - semantic_1_loss: 0.0070 - semantic_2_loss: 0.0013 - lr: 4.1295e-05\n",
      "Epoch 90/200\n",
      "29/29 [==============================] - ETA: 0s - loss: 0.0111 - semantic_0_loss: 0.0030 - semantic_1_loss: 0.0070 - semantic_2_loss: 0.0012WARNING:tensorflow:Can save best model only with val_loss available, skipping.\n"
     ]
    },
    {
     "name": "stderr",
     "output_type": "stream",
     "text": [
      "WARNING:tensorflow:Can save best model only with val_loss available, skipping.\n"
     ]
    },
    {
     "name": "stdout",
     "output_type": "stream",
     "text": [
      "29/29 [==============================] - 17s 562ms/step - loss: 0.0111 - semantic_0_loss: 0.0030 - semantic_1_loss: 0.0070 - semantic_2_loss: 0.0012 - lr: 4.0882e-05\n",
      "Epoch 91/200\n",
      "29/29 [==============================] - ETA: 0s - loss: 0.0112 - semantic_0_loss: 0.0030 - semantic_1_loss: 0.0070 - semantic_2_loss: 0.0012WARNING:tensorflow:Can save best model only with val_loss available, skipping.\n"
     ]
    },
    {
     "name": "stderr",
     "output_type": "stream",
     "text": [
      "WARNING:tensorflow:Can save best model only with val_loss available, skipping.\n"
     ]
    },
    {
     "name": "stdout",
     "output_type": "stream",
     "text": [
      "29/29 [==============================] - 17s 559ms/step - loss: 0.0112 - semantic_0_loss: 0.0030 - semantic_1_loss: 0.0070 - semantic_2_loss: 0.0012 - lr: 4.0473e-05\n",
      "Epoch 92/200\n",
      "29/29 [==============================] - ETA: 0s - loss: 0.0111 - semantic_0_loss: 0.0029 - semantic_1_loss: 0.0069 - semantic_2_loss: 0.0012WARNING:tensorflow:Can save best model only with val_loss available, skipping.\n"
     ]
    },
    {
     "name": "stderr",
     "output_type": "stream",
     "text": [
      "WARNING:tensorflow:Can save best model only with val_loss available, skipping.\n"
     ]
    },
    {
     "name": "stdout",
     "output_type": "stream",
     "text": [
      "29/29 [==============================] - 16s 566ms/step - loss: 0.0111 - semantic_0_loss: 0.0029 - semantic_1_loss: 0.0069 - semantic_2_loss: 0.0012 - lr: 4.0068e-05\n",
      "Epoch 93/200\n",
      "29/29 [==============================] - ETA: 0s - loss: 0.0113 - semantic_0_loss: 0.0030 - semantic_1_loss: 0.0071 - semantic_2_loss: 0.0012WARNING:tensorflow:Can save best model only with val_loss available, skipping.\n"
     ]
    },
    {
     "name": "stderr",
     "output_type": "stream",
     "text": [
      "WARNING:tensorflow:Can save best model only with val_loss available, skipping.\n"
     ]
    },
    {
     "name": "stdout",
     "output_type": "stream",
     "text": [
      "29/29 [==============================] - 16s 563ms/step - loss: 0.0113 - semantic_0_loss: 0.0030 - semantic_1_loss: 0.0071 - semantic_2_loss: 0.0012 - lr: 3.9668e-05\n",
      "Epoch 94/200\n",
      "29/29 [==============================] - ETA: 0s - loss: 0.0112 - semantic_0_loss: 0.0030 - semantic_1_loss: 0.0070 - semantic_2_loss: 0.0012WARNING:tensorflow:Can save best model only with val_loss available, skipping.\n"
     ]
    },
    {
     "name": "stderr",
     "output_type": "stream",
     "text": [
      "WARNING:tensorflow:Can save best model only with val_loss available, skipping.\n"
     ]
    },
    {
     "name": "stdout",
     "output_type": "stream",
     "text": [
      "29/29 [==============================] - 16s 562ms/step - loss: 0.0112 - semantic_0_loss: 0.0030 - semantic_1_loss: 0.0070 - semantic_2_loss: 0.0012 - lr: 3.9271e-05\n",
      "Epoch 95/200\n",
      "29/29 [==============================] - ETA: 0s - loss: 0.0109 - semantic_0_loss: 0.0028 - semantic_1_loss: 0.0069 - semantic_2_loss: 0.0012WARNING:tensorflow:Can save best model only with val_loss available, skipping.\n"
     ]
    },
    {
     "name": "stderr",
     "output_type": "stream",
     "text": [
      "WARNING:tensorflow:Can save best model only with val_loss available, skipping.\n"
     ]
    },
    {
     "name": "stdout",
     "output_type": "stream",
     "text": [
      "29/29 [==============================] - 16s 550ms/step - loss: 0.0109 - semantic_0_loss: 0.0028 - semantic_1_loss: 0.0069 - semantic_2_loss: 0.0012 - lr: 3.8878e-05\n",
      "Epoch 96/200\n",
      "29/29 [==============================] - ETA: 0s - loss: 0.0111 - semantic_0_loss: 0.0029 - semantic_1_loss: 0.0070 - semantic_2_loss: 0.0012WARNING:tensorflow:Can save best model only with val_loss available, skipping.\n"
     ]
    },
    {
     "name": "stderr",
     "output_type": "stream",
     "text": [
      "WARNING:tensorflow:Can save best model only with val_loss available, skipping.\n"
     ]
    },
    {
     "name": "stdout",
     "output_type": "stream",
     "text": [
      "29/29 [==============================] - 17s 569ms/step - loss: 0.0111 - semantic_0_loss: 0.0029 - semantic_1_loss: 0.0070 - semantic_2_loss: 0.0012 - lr: 3.8490e-05\n",
      "Epoch 97/200\n",
      "29/29 [==============================] - ETA: 0s - loss: 0.0110 - semantic_0_loss: 0.0029 - semantic_1_loss: 0.0069 - semantic_2_loss: 0.0012WARNING:tensorflow:Can save best model only with val_loss available, skipping.\n"
     ]
    },
    {
     "name": "stderr",
     "output_type": "stream",
     "text": [
      "WARNING:tensorflow:Can save best model only with val_loss available, skipping.\n"
     ]
    },
    {
     "name": "stdout",
     "output_type": "stream",
     "text": [
      "29/29 [==============================] - 16s 560ms/step - loss: 0.0110 - semantic_0_loss: 0.0029 - semantic_1_loss: 0.0069 - semantic_2_loss: 0.0012 - lr: 3.8105e-05\n",
      "Epoch 98/200\n",
      "29/29 [==============================] - ETA: 0s - loss: 0.0111 - semantic_0_loss: 0.0029 - semantic_1_loss: 0.0070 - semantic_2_loss: 0.0012WARNING:tensorflow:Can save best model only with val_loss available, skipping.\n"
     ]
    },
    {
     "name": "stderr",
     "output_type": "stream",
     "text": [
      "WARNING:tensorflow:Can save best model only with val_loss available, skipping.\n"
     ]
    },
    {
     "name": "stdout",
     "output_type": "stream",
     "text": [
      "29/29 [==============================] - 16s 555ms/step - loss: 0.0111 - semantic_0_loss: 0.0029 - semantic_1_loss: 0.0070 - semantic_2_loss: 0.0012 - lr: 3.7724e-05\n",
      "Epoch 99/200\n",
      "29/29 [==============================] - ETA: 0s - loss: 0.0111 - semantic_0_loss: 0.0029 - semantic_1_loss: 0.0069 - semantic_2_loss: 0.0012WARNING:tensorflow:Can save best model only with val_loss available, skipping.\n"
     ]
    },
    {
     "name": "stderr",
     "output_type": "stream",
     "text": [
      "WARNING:tensorflow:Can save best model only with val_loss available, skipping.\n"
     ]
    },
    {
     "name": "stdout",
     "output_type": "stream",
     "text": [
      "29/29 [==============================] - 16s 560ms/step - loss: 0.0111 - semantic_0_loss: 0.0029 - semantic_1_loss: 0.0069 - semantic_2_loss: 0.0012 - lr: 3.7346e-05\n",
      "Epoch 100/200\n",
      "29/29 [==============================] - ETA: 0s - loss: 0.0110 - semantic_0_loss: 0.0029 - semantic_1_loss: 0.0068 - semantic_2_loss: 0.0012WARNING:tensorflow:Can save best model only with val_loss available, skipping.\n"
     ]
    },
    {
     "name": "stderr",
     "output_type": "stream",
     "text": [
      "WARNING:tensorflow:Can save best model only with val_loss available, skipping.\n"
     ]
    },
    {
     "name": "stdout",
     "output_type": "stream",
     "text": [
      "29/29 [==============================] - 16s 556ms/step - loss: 0.0110 - semantic_0_loss: 0.0029 - semantic_1_loss: 0.0068 - semantic_2_loss: 0.0012 - lr: 3.6973e-05\n",
      "Epoch 101/200\n",
      "29/29 [==============================] - ETA: 0s - loss: 0.0109 - semantic_0_loss: 0.0029 - semantic_1_loss: 0.0068 - semantic_2_loss: 0.0012WARNING:tensorflow:Can save best model only with val_loss available, skipping.\n"
     ]
    },
    {
     "name": "stderr",
     "output_type": "stream",
     "text": [
      "WARNING:tensorflow:Can save best model only with val_loss available, skipping.\n"
     ]
    },
    {
     "name": "stdout",
     "output_type": "stream",
     "text": [
      "29/29 [==============================] - 16s 563ms/step - loss: 0.0109 - semantic_0_loss: 0.0029 - semantic_1_loss: 0.0068 - semantic_2_loss: 0.0012 - lr: 3.6603e-05\n",
      "Epoch 102/200\n",
      "29/29 [==============================] - ETA: 0s - loss: 0.0108 - semantic_0_loss: 0.0029 - semantic_1_loss: 0.0067 - semantic_2_loss: 0.0012WARNING:tensorflow:Can save best model only with val_loss available, skipping.\n"
     ]
    },
    {
     "name": "stderr",
     "output_type": "stream",
     "text": [
      "WARNING:tensorflow:Can save best model only with val_loss available, skipping.\n"
     ]
    },
    {
     "name": "stdout",
     "output_type": "stream",
     "text": [
      "29/29 [==============================] - 16s 556ms/step - loss: 0.0108 - semantic_0_loss: 0.0029 - semantic_1_loss: 0.0067 - semantic_2_loss: 0.0012 - lr: 3.6237e-05\n",
      "Epoch 103/200\n",
      "29/29 [==============================] - ETA: 0s - loss: 0.0111 - semantic_0_loss: 0.0029 - semantic_1_loss: 0.0069 - semantic_2_loss: 0.0012WARNING:tensorflow:Can save best model only with val_loss available, skipping.\n"
     ]
    },
    {
     "name": "stderr",
     "output_type": "stream",
     "text": [
      "WARNING:tensorflow:Can save best model only with val_loss available, skipping.\n"
     ]
    },
    {
     "name": "stdout",
     "output_type": "stream",
     "text": [
      "29/29 [==============================] - 16s 561ms/step - loss: 0.0111 - semantic_0_loss: 0.0029 - semantic_1_loss: 0.0069 - semantic_2_loss: 0.0012 - lr: 3.5875e-05\n",
      "Epoch 104/200\n",
      "29/29 [==============================] - ETA: 0s - loss: 0.0110 - semantic_0_loss: 0.0029 - semantic_1_loss: 0.0069 - semantic_2_loss: 0.0012WARNING:tensorflow:Can save best model only with val_loss available, skipping.\n"
     ]
    },
    {
     "name": "stderr",
     "output_type": "stream",
     "text": [
      "WARNING:tensorflow:Can save best model only with val_loss available, skipping.\n"
     ]
    },
    {
     "name": "stdout",
     "output_type": "stream",
     "text": [
      "29/29 [==============================] - 16s 560ms/step - loss: 0.0110 - semantic_0_loss: 0.0029 - semantic_1_loss: 0.0069 - semantic_2_loss: 0.0012 - lr: 3.5516e-05\n",
      "Epoch 105/200\n",
      "29/29 [==============================] - ETA: 0s - loss: 0.0110 - semantic_0_loss: 0.0029 - semantic_1_loss: 0.0068 - semantic_2_loss: 0.0012WARNING:tensorflow:Can save best model only with val_loss available, skipping.\n"
     ]
    },
    {
     "name": "stderr",
     "output_type": "stream",
     "text": [
      "WARNING:tensorflow:Can save best model only with val_loss available, skipping.\n"
     ]
    },
    {
     "name": "stdout",
     "output_type": "stream",
     "text": [
      "29/29 [==============================] - 17s 565ms/step - loss: 0.0110 - semantic_0_loss: 0.0029 - semantic_1_loss: 0.0068 - semantic_2_loss: 0.0012 - lr: 3.5161e-05\n",
      "Epoch 106/200\n",
      "29/29 [==============================] - ETA: 0s - loss: 0.0109 - semantic_0_loss: 0.0029 - semantic_1_loss: 0.0068 - semantic_2_loss: 0.0012WARNING:tensorflow:Can save best model only with val_loss available, skipping.\n"
     ]
    },
    {
     "name": "stderr",
     "output_type": "stream",
     "text": [
      "WARNING:tensorflow:Can save best model only with val_loss available, skipping.\n"
     ]
    },
    {
     "name": "stdout",
     "output_type": "stream",
     "text": [
      "29/29 [==============================] - 16s 554ms/step - loss: 0.0109 - semantic_0_loss: 0.0029 - semantic_1_loss: 0.0068 - semantic_2_loss: 0.0012 - lr: 3.4809e-05\n",
      "Epoch 107/200\n",
      "29/29 [==============================] - ETA: 0s - loss: 0.0107 - semantic_0_loss: 0.0028 - semantic_1_loss: 0.0067 - semantic_2_loss: 0.0012WARNING:tensorflow:Can save best model only with val_loss available, skipping.\n"
     ]
    },
    {
     "name": "stderr",
     "output_type": "stream",
     "text": [
      "WARNING:tensorflow:Can save best model only with val_loss available, skipping.\n"
     ]
    },
    {
     "name": "stdout",
     "output_type": "stream",
     "text": [
      "29/29 [==============================] - 16s 551ms/step - loss: 0.0107 - semantic_0_loss: 0.0028 - semantic_1_loss: 0.0067 - semantic_2_loss: 0.0012 - lr: 3.4461e-05\n",
      "Epoch 108/200\n",
      "29/29 [==============================] - ETA: 0s - loss: 0.0111 - semantic_0_loss: 0.0029 - semantic_1_loss: 0.0069 - semantic_2_loss: 0.0012WARNING:tensorflow:Can save best model only with val_loss available, skipping.\n"
     ]
    },
    {
     "name": "stderr",
     "output_type": "stream",
     "text": [
      "WARNING:tensorflow:Can save best model only with val_loss available, skipping.\n"
     ]
    },
    {
     "name": "stdout",
     "output_type": "stream",
     "text": [
      "29/29 [==============================] - 17s 573ms/step - loss: 0.0111 - semantic_0_loss: 0.0029 - semantic_1_loss: 0.0069 - semantic_2_loss: 0.0012 - lr: 3.4117e-05\n",
      "Epoch 109/200\n",
      "29/29 [==============================] - ETA: 0s - loss: 0.0108 - semantic_0_loss: 0.0029 - semantic_1_loss: 0.0067 - semantic_2_loss: 0.0012WARNING:tensorflow:Can save best model only with val_loss available, skipping.\n"
     ]
    },
    {
     "name": "stderr",
     "output_type": "stream",
     "text": [
      "WARNING:tensorflow:Can save best model only with val_loss available, skipping.\n"
     ]
    },
    {
     "name": "stdout",
     "output_type": "stream",
     "text": [
      "29/29 [==============================] - 16s 553ms/step - loss: 0.0108 - semantic_0_loss: 0.0029 - semantic_1_loss: 0.0067 - semantic_2_loss: 0.0012 - lr: 3.3775e-05\n",
      "Epoch 110/200\n",
      "29/29 [==============================] - ETA: 0s - loss: 0.0113 - semantic_0_loss: 0.0030 - semantic_1_loss: 0.0070 - semantic_2_loss: 0.0012WARNING:tensorflow:Can save best model only with val_loss available, skipping.\n"
     ]
    },
    {
     "name": "stderr",
     "output_type": "stream",
     "text": [
      "WARNING:tensorflow:Can save best model only with val_loss available, skipping.\n"
     ]
    },
    {
     "name": "stdout",
     "output_type": "stream",
     "text": [
      "29/29 [==============================] - 16s 563ms/step - loss: 0.0113 - semantic_0_loss: 0.0030 - semantic_1_loss: 0.0070 - semantic_2_loss: 0.0012 - lr: 3.3438e-05\n",
      "Epoch 111/200\n",
      "29/29 [==============================] - ETA: 0s - loss: 0.0109 - semantic_0_loss: 0.0029 - semantic_1_loss: 0.0067 - semantic_2_loss: 0.0012WARNING:tensorflow:Can save best model only with val_loss available, skipping.\n"
     ]
    },
    {
     "name": "stderr",
     "output_type": "stream",
     "text": [
      "WARNING:tensorflow:Can save best model only with val_loss available, skipping.\n"
     ]
    },
    {
     "name": "stdout",
     "output_type": "stream",
     "text": [
      "29/29 [==============================] - 16s 556ms/step - loss: 0.0109 - semantic_0_loss: 0.0029 - semantic_1_loss: 0.0067 - semantic_2_loss: 0.0012 - lr: 3.3103e-05\n",
      "Epoch 112/200\n",
      "29/29 [==============================] - ETA: 0s - loss: 0.0106 - semantic_0_loss: 0.0028 - semantic_1_loss: 0.0066 - semantic_2_loss: 0.0012WARNING:tensorflow:Can save best model only with val_loss available, skipping.\n"
     ]
    },
    {
     "name": "stderr",
     "output_type": "stream",
     "text": [
      "WARNING:tensorflow:Can save best model only with val_loss available, skipping.\n"
     ]
    },
    {
     "name": "stdout",
     "output_type": "stream",
     "text": [
      "29/29 [==============================] - 16s 551ms/step - loss: 0.0106 - semantic_0_loss: 0.0028 - semantic_1_loss: 0.0066 - semantic_2_loss: 0.0012 - lr: 3.2772e-05\n",
      "Epoch 113/200\n",
      "29/29 [==============================] - ETA: 0s - loss: 0.0111 - semantic_0_loss: 0.0029 - semantic_1_loss: 0.0069 - semantic_2_loss: 0.0012WARNING:tensorflow:Can save best model only with val_loss available, skipping.\n"
     ]
    },
    {
     "name": "stderr",
     "output_type": "stream",
     "text": [
      "WARNING:tensorflow:Can save best model only with val_loss available, skipping.\n"
     ]
    },
    {
     "name": "stdout",
     "output_type": "stream",
     "text": [
      "29/29 [==============================] - 17s 563ms/step - loss: 0.0111 - semantic_0_loss: 0.0029 - semantic_1_loss: 0.0069 - semantic_2_loss: 0.0012 - lr: 3.2445e-05\n",
      "Epoch 114/200\n",
      "29/29 [==============================] - ETA: 0s - loss: 0.0109 - semantic_0_loss: 0.0029 - semantic_1_loss: 0.0068 - semantic_2_loss: 0.0012WARNING:tensorflow:Can save best model only with val_loss available, skipping.\n"
     ]
    },
    {
     "name": "stderr",
     "output_type": "stream",
     "text": [
      "WARNING:tensorflow:Can save best model only with val_loss available, skipping.\n"
     ]
    },
    {
     "name": "stdout",
     "output_type": "stream",
     "text": [
      "29/29 [==============================] - 17s 563ms/step - loss: 0.0109 - semantic_0_loss: 0.0029 - semantic_1_loss: 0.0068 - semantic_2_loss: 0.0012 - lr: 3.2120e-05\n",
      "Epoch 115/200\n",
      "29/29 [==============================] - ETA: 0s - loss: 0.0108 - semantic_0_loss: 0.0029 - semantic_1_loss: 0.0067 - semantic_2_loss: 0.0012WARNING:tensorflow:Can save best model only with val_loss available, skipping.\n"
     ]
    },
    {
     "name": "stderr",
     "output_type": "stream",
     "text": [
      "WARNING:tensorflow:Can save best model only with val_loss available, skipping.\n"
     ]
    },
    {
     "name": "stdout",
     "output_type": "stream",
     "text": [
      "29/29 [==============================] - 17s 565ms/step - loss: 0.0108 - semantic_0_loss: 0.0029 - semantic_1_loss: 0.0067 - semantic_2_loss: 0.0012 - lr: 3.1799e-05\n",
      "Epoch 116/200\n",
      "29/29 [==============================] - ETA: 0s - loss: 0.0107 - semantic_0_loss: 0.0029 - semantic_1_loss: 0.0067 - semantic_2_loss: 0.0012WARNING:tensorflow:Can save best model only with val_loss available, skipping.\n"
     ]
    },
    {
     "name": "stderr",
     "output_type": "stream",
     "text": [
      "WARNING:tensorflow:Can save best model only with val_loss available, skipping.\n"
     ]
    },
    {
     "name": "stdout",
     "output_type": "stream",
     "text": [
      "29/29 [==============================] - 17s 563ms/step - loss: 0.0107 - semantic_0_loss: 0.0029 - semantic_1_loss: 0.0067 - semantic_2_loss: 0.0012 - lr: 3.1481e-05\n",
      "Epoch 117/200\n",
      "29/29 [==============================] - ETA: 0s - loss: 0.0109 - semantic_0_loss: 0.0029 - semantic_1_loss: 0.0067 - semantic_2_loss: 0.0012WARNING:tensorflow:Can save best model only with val_loss available, skipping.\n"
     ]
    },
    {
     "name": "stderr",
     "output_type": "stream",
     "text": [
      "WARNING:tensorflow:Can save best model only with val_loss available, skipping.\n"
     ]
    },
    {
     "name": "stdout",
     "output_type": "stream",
     "text": [
      "29/29 [==============================] - 17s 563ms/step - loss: 0.0109 - semantic_0_loss: 0.0029 - semantic_1_loss: 0.0067 - semantic_2_loss: 0.0012 - lr: 3.1166e-05\n",
      "Epoch 118/200\n",
      "29/29 [==============================] - ETA: 0s - loss: 0.0107 - semantic_0_loss: 0.0029 - semantic_1_loss: 0.0067 - semantic_2_loss: 0.0012WARNING:tensorflow:Can save best model only with val_loss available, skipping.\n"
     ]
    },
    {
     "name": "stderr",
     "output_type": "stream",
     "text": [
      "WARNING:tensorflow:Can save best model only with val_loss available, skipping.\n"
     ]
    },
    {
     "name": "stdout",
     "output_type": "stream",
     "text": [
      "29/29 [==============================] - 16s 559ms/step - loss: 0.0107 - semantic_0_loss: 0.0029 - semantic_1_loss: 0.0067 - semantic_2_loss: 0.0012 - lr: 3.0854e-05\n",
      "Epoch 119/200\n",
      "29/29 [==============================] - ETA: 0s - loss: 0.0109 - semantic_0_loss: 0.0029 - semantic_1_loss: 0.0068 - semantic_2_loss: 0.0012WARNING:tensorflow:Can save best model only with val_loss available, skipping.\n"
     ]
    },
    {
     "name": "stderr",
     "output_type": "stream",
     "text": [
      "WARNING:tensorflow:Can save best model only with val_loss available, skipping.\n"
     ]
    },
    {
     "name": "stdout",
     "output_type": "stream",
     "text": [
      "29/29 [==============================] - 17s 566ms/step - loss: 0.0109 - semantic_0_loss: 0.0029 - semantic_1_loss: 0.0068 - semantic_2_loss: 0.0012 - lr: 3.0546e-05\n",
      "Epoch 120/200\n",
      "29/29 [==============================] - ETA: 0s - loss: 0.0109 - semantic_0_loss: 0.0029 - semantic_1_loss: 0.0068 - semantic_2_loss: 0.0012WARNING:tensorflow:Can save best model only with val_loss available, skipping.\n"
     ]
    },
    {
     "name": "stderr",
     "output_type": "stream",
     "text": [
      "WARNING:tensorflow:Can save best model only with val_loss available, skipping.\n"
     ]
    },
    {
     "name": "stdout",
     "output_type": "stream",
     "text": [
      "29/29 [==============================] - 16s 564ms/step - loss: 0.0109 - semantic_0_loss: 0.0029 - semantic_1_loss: 0.0068 - semantic_2_loss: 0.0012 - lr: 3.0240e-05\n",
      "Epoch 121/200\n",
      "29/29 [==============================] - ETA: 0s - loss: 0.0110 - semantic_0_loss: 0.0029 - semantic_1_loss: 0.0068 - semantic_2_loss: 0.0012WARNING:tensorflow:Can save best model only with val_loss available, skipping.\n"
     ]
    },
    {
     "name": "stderr",
     "output_type": "stream",
     "text": [
      "WARNING:tensorflow:Can save best model only with val_loss available, skipping.\n"
     ]
    },
    {
     "name": "stdout",
     "output_type": "stream",
     "text": [
      "29/29 [==============================] - 17s 560ms/step - loss: 0.0110 - semantic_0_loss: 0.0029 - semantic_1_loss: 0.0068 - semantic_2_loss: 0.0012 - lr: 2.9938e-05\n",
      "Epoch 122/200\n",
      "29/29 [==============================] - ETA: 0s - loss: 0.0106 - semantic_0_loss: 0.0029 - semantic_1_loss: 0.0066 - semantic_2_loss: 0.0012WARNING:tensorflow:Can save best model only with val_loss available, skipping.\n"
     ]
    },
    {
     "name": "stderr",
     "output_type": "stream",
     "text": [
      "WARNING:tensorflow:Can save best model only with val_loss available, skipping.\n"
     ]
    },
    {
     "name": "stdout",
     "output_type": "stream",
     "text": [
      "29/29 [==============================] - 16s 560ms/step - loss: 0.0106 - semantic_0_loss: 0.0029 - semantic_1_loss: 0.0066 - semantic_2_loss: 0.0012 - lr: 2.9639e-05\n",
      "Epoch 123/200\n",
      "29/29 [==============================] - ETA: 0s - loss: 0.0107 - semantic_0_loss: 0.0028 - semantic_1_loss: 0.0066 - semantic_2_loss: 0.0012WARNING:tensorflow:Can save best model only with val_loss available, skipping.\n"
     ]
    },
    {
     "name": "stderr",
     "output_type": "stream",
     "text": [
      "WARNING:tensorflow:Can save best model only with val_loss available, skipping.\n"
     ]
    },
    {
     "name": "stdout",
     "output_type": "stream",
     "text": [
      "29/29 [==============================] - 16s 555ms/step - loss: 0.0107 - semantic_0_loss: 0.0028 - semantic_1_loss: 0.0066 - semantic_2_loss: 0.0012 - lr: 2.9342e-05\n",
      "Epoch 124/200\n",
      "29/29 [==============================] - ETA: 0s - loss: 0.0110 - semantic_0_loss: 0.0030 - semantic_1_loss: 0.0069 - semantic_2_loss: 0.0012WARNING:tensorflow:Can save best model only with val_loss available, skipping.\n"
     ]
    },
    {
     "name": "stderr",
     "output_type": "stream",
     "text": [
      "WARNING:tensorflow:Can save best model only with val_loss available, skipping.\n"
     ]
    },
    {
     "name": "stdout",
     "output_type": "stream",
     "text": [
      "29/29 [==============================] - 16s 561ms/step - loss: 0.0110 - semantic_0_loss: 0.0030 - semantic_1_loss: 0.0069 - semantic_2_loss: 0.0012 - lr: 2.9049e-05\n",
      "Epoch 125/200\n",
      "29/29 [==============================] - ETA: 0s - loss: 0.0104 - semantic_0_loss: 0.0028 - semantic_1_loss: 0.0065 - semantic_2_loss: 0.0012WARNING:tensorflow:Can save best model only with val_loss available, skipping.\n"
     ]
    },
    {
     "name": "stderr",
     "output_type": "stream",
     "text": [
      "WARNING:tensorflow:Can save best model only with val_loss available, skipping.\n"
     ]
    },
    {
     "name": "stdout",
     "output_type": "stream",
     "text": [
      "29/29 [==============================] - 17s 564ms/step - loss: 0.0104 - semantic_0_loss: 0.0028 - semantic_1_loss: 0.0065 - semantic_2_loss: 0.0012 - lr: 2.8758e-05\n",
      "Epoch 126/200\n",
      "29/29 [==============================] - ETA: 0s - loss: 0.0104 - semantic_0_loss: 0.0028 - semantic_1_loss: 0.0064 - semantic_2_loss: 0.0012WARNING:tensorflow:Can save best model only with val_loss available, skipping.\n"
     ]
    },
    {
     "name": "stderr",
     "output_type": "stream",
     "text": [
      "WARNING:tensorflow:Can save best model only with val_loss available, skipping.\n"
     ]
    },
    {
     "name": "stdout",
     "output_type": "stream",
     "text": [
      "29/29 [==============================] - 16s 556ms/step - loss: 0.0104 - semantic_0_loss: 0.0028 - semantic_1_loss: 0.0064 - semantic_2_loss: 0.0012 - lr: 2.8471e-05\n",
      "Epoch 127/200\n",
      "29/29 [==============================] - ETA: 0s - loss: 0.0106 - semantic_0_loss: 0.0028 - semantic_1_loss: 0.0066 - semantic_2_loss: 0.0012WARNING:tensorflow:Can save best model only with val_loss available, skipping.\n"
     ]
    },
    {
     "name": "stderr",
     "output_type": "stream",
     "text": [
      "WARNING:tensorflow:Can save best model only with val_loss available, skipping.\n"
     ]
    },
    {
     "name": "stdout",
     "output_type": "stream",
     "text": [
      "29/29 [==============================] - 16s 553ms/step - loss: 0.0106 - semantic_0_loss: 0.0028 - semantic_1_loss: 0.0066 - semantic_2_loss: 0.0012 - lr: 2.8186e-05\n",
      "Epoch 128/200\n",
      "29/29 [==============================] - ETA: 0s - loss: 0.0106 - semantic_0_loss: 0.0028 - semantic_1_loss: 0.0066 - semantic_2_loss: 0.0012WARNING:tensorflow:Can save best model only with val_loss available, skipping.\n"
     ]
    },
    {
     "name": "stderr",
     "output_type": "stream",
     "text": [
      "WARNING:tensorflow:Can save best model only with val_loss available, skipping.\n"
     ]
    },
    {
     "name": "stdout",
     "output_type": "stream",
     "text": [
      "29/29 [==============================] - 16s 558ms/step - loss: 0.0106 - semantic_0_loss: 0.0028 - semantic_1_loss: 0.0066 - semantic_2_loss: 0.0012 - lr: 2.7904e-05\n",
      "Epoch 129/200\n",
      "29/29 [==============================] - ETA: 0s - loss: 0.0106 - semantic_0_loss: 0.0028 - semantic_1_loss: 0.0065 - semantic_2_loss: 0.0012WARNING:tensorflow:Can save best model only with val_loss available, skipping.\n"
     ]
    },
    {
     "name": "stderr",
     "output_type": "stream",
     "text": [
      "WARNING:tensorflow:Can save best model only with val_loss available, skipping.\n"
     ]
    },
    {
     "name": "stdout",
     "output_type": "stream",
     "text": [
      "29/29 [==============================] - 16s 554ms/step - loss: 0.0106 - semantic_0_loss: 0.0028 - semantic_1_loss: 0.0065 - semantic_2_loss: 0.0012 - lr: 2.7625e-05\n",
      "Epoch 130/200\n",
      "29/29 [==============================] - ETA: 0s - loss: 0.0107 - semantic_0_loss: 0.0029 - semantic_1_loss: 0.0066 - semantic_2_loss: 0.0012WARNING:tensorflow:Can save best model only with val_loss available, skipping.\n"
     ]
    },
    {
     "name": "stderr",
     "output_type": "stream",
     "text": [
      "WARNING:tensorflow:Can save best model only with val_loss available, skipping.\n"
     ]
    },
    {
     "name": "stdout",
     "output_type": "stream",
     "text": [
      "29/29 [==============================] - 16s 558ms/step - loss: 0.0107 - semantic_0_loss: 0.0029 - semantic_1_loss: 0.0066 - semantic_2_loss: 0.0012 - lr: 2.7349e-05\n",
      "Epoch 131/200\n",
      "29/29 [==============================] - ETA: 0s - loss: 0.0107 - semantic_0_loss: 0.0029 - semantic_1_loss: 0.0066 - semantic_2_loss: 0.0012WARNING:tensorflow:Can save best model only with val_loss available, skipping.\n"
     ]
    },
    {
     "name": "stderr",
     "output_type": "stream",
     "text": [
      "WARNING:tensorflow:Can save best model only with val_loss available, skipping.\n"
     ]
    },
    {
     "name": "stdout",
     "output_type": "stream",
     "text": [
      "29/29 [==============================] - 16s 559ms/step - loss: 0.0107 - semantic_0_loss: 0.0029 - semantic_1_loss: 0.0066 - semantic_2_loss: 0.0012 - lr: 2.7075e-05\n",
      "Epoch 132/200\n",
      "29/29 [==============================] - ETA: 0s - loss: 0.0107 - semantic_0_loss: 0.0029 - semantic_1_loss: 0.0066 - semantic_2_loss: 0.0012WARNING:tensorflow:Can save best model only with val_loss available, skipping.\n"
     ]
    },
    {
     "name": "stderr",
     "output_type": "stream",
     "text": [
      "WARNING:tensorflow:Can save best model only with val_loss available, skipping.\n"
     ]
    },
    {
     "name": "stdout",
     "output_type": "stream",
     "text": [
      "29/29 [==============================] - 16s 558ms/step - loss: 0.0107 - semantic_0_loss: 0.0029 - semantic_1_loss: 0.0066 - semantic_2_loss: 0.0012 - lr: 2.6805e-05\n",
      "Epoch 133/200\n",
      "29/29 [==============================] - ETA: 0s - loss: 0.0106 - semantic_0_loss: 0.0028 - semantic_1_loss: 0.0066 - semantic_2_loss: 0.0012WARNING:tensorflow:Can save best model only with val_loss available, skipping.\n"
     ]
    },
    {
     "name": "stderr",
     "output_type": "stream",
     "text": [
      "WARNING:tensorflow:Can save best model only with val_loss available, skipping.\n"
     ]
    },
    {
     "name": "stdout",
     "output_type": "stream",
     "text": [
      "29/29 [==============================] - 17s 565ms/step - loss: 0.0106 - semantic_0_loss: 0.0028 - semantic_1_loss: 0.0066 - semantic_2_loss: 0.0012 - lr: 2.6537e-05\n",
      "Epoch 134/200\n",
      "29/29 [==============================] - ETA: 0s - loss: 0.0105 - semantic_0_loss: 0.0028 - semantic_1_loss: 0.0065 - semantic_2_loss: 0.0012WARNING:tensorflow:Can save best model only with val_loss available, skipping.\n"
     ]
    },
    {
     "name": "stderr",
     "output_type": "stream",
     "text": [
      "WARNING:tensorflow:Can save best model only with val_loss available, skipping.\n"
     ]
    },
    {
     "name": "stdout",
     "output_type": "stream",
     "text": [
      "29/29 [==============================] - 16s 563ms/step - loss: 0.0105 - semantic_0_loss: 0.0028 - semantic_1_loss: 0.0065 - semantic_2_loss: 0.0012 - lr: 2.6271e-05\n",
      "Epoch 135/200\n",
      "29/29 [==============================] - ETA: 0s - loss: 0.0108 - semantic_0_loss: 0.0029 - semantic_1_loss: 0.0067 - semantic_2_loss: 0.0012WARNING:tensorflow:Can save best model only with val_loss available, skipping.\n"
     ]
    },
    {
     "name": "stderr",
     "output_type": "stream",
     "text": [
      "WARNING:tensorflow:Can save best model only with val_loss available, skipping.\n"
     ]
    },
    {
     "name": "stdout",
     "output_type": "stream",
     "text": [
      "29/29 [==============================] - 16s 560ms/step - loss: 0.0108 - semantic_0_loss: 0.0029 - semantic_1_loss: 0.0067 - semantic_2_loss: 0.0012 - lr: 2.6009e-05\n",
      "Epoch 136/200\n",
      "29/29 [==============================] - ETA: 0s - loss: 0.0105 - semantic_0_loss: 0.0028 - semantic_1_loss: 0.0065 - semantic_2_loss: 0.0012WARNING:tensorflow:Can save best model only with val_loss available, skipping.\n"
     ]
    },
    {
     "name": "stderr",
     "output_type": "stream",
     "text": [
      "WARNING:tensorflow:Can save best model only with val_loss available, skipping.\n"
     ]
    },
    {
     "name": "stdout",
     "output_type": "stream",
     "text": [
      "29/29 [==============================] - 16s 557ms/step - loss: 0.0105 - semantic_0_loss: 0.0028 - semantic_1_loss: 0.0065 - semantic_2_loss: 0.0012 - lr: 2.5748e-05\n",
      "Epoch 137/200\n",
      "29/29 [==============================] - ETA: 0s - loss: 0.0106 - semantic_0_loss: 0.0028 - semantic_1_loss: 0.0066 - semantic_2_loss: 0.0012WARNING:tensorflow:Can save best model only with val_loss available, skipping.\n"
     ]
    },
    {
     "name": "stderr",
     "output_type": "stream",
     "text": [
      "WARNING:tensorflow:Can save best model only with val_loss available, skipping.\n"
     ]
    },
    {
     "name": "stdout",
     "output_type": "stream",
     "text": [
      "29/29 [==============================] - 16s 555ms/step - loss: 0.0106 - semantic_0_loss: 0.0028 - semantic_1_loss: 0.0066 - semantic_2_loss: 0.0012 - lr: 2.5491e-05\n",
      "Epoch 138/200\n",
      "29/29 [==============================] - ETA: 0s - loss: 0.0103 - semantic_0_loss: 0.0028 - semantic_1_loss: 0.0064 - semantic_2_loss: 0.0012WARNING:tensorflow:Can save best model only with val_loss available, skipping.\n"
     ]
    },
    {
     "name": "stderr",
     "output_type": "stream",
     "text": [
      "WARNING:tensorflow:Can save best model only with val_loss available, skipping.\n"
     ]
    },
    {
     "name": "stdout",
     "output_type": "stream",
     "text": [
      "29/29 [==============================] - 17s 562ms/step - loss: 0.0103 - semantic_0_loss: 0.0028 - semantic_1_loss: 0.0064 - semantic_2_loss: 0.0012 - lr: 2.5236e-05\n",
      "Epoch 139/200\n",
      "29/29 [==============================] - ETA: 0s - loss: 0.0105 - semantic_0_loss: 0.0028 - semantic_1_loss: 0.0065 - semantic_2_loss: 0.0012WARNING:tensorflow:Can save best model only with val_loss available, skipping.\n"
     ]
    },
    {
     "name": "stderr",
     "output_type": "stream",
     "text": [
      "WARNING:tensorflow:Can save best model only with val_loss available, skipping.\n"
     ]
    },
    {
     "name": "stdout",
     "output_type": "stream",
     "text": [
      "29/29 [==============================] - 16s 560ms/step - loss: 0.0105 - semantic_0_loss: 0.0028 - semantic_1_loss: 0.0065 - semantic_2_loss: 0.0012 - lr: 2.4984e-05\n",
      "Epoch 140/200\n",
      "29/29 [==============================] - ETA: 0s - loss: 0.0105 - semantic_0_loss: 0.0028 - semantic_1_loss: 0.0065 - semantic_2_loss: 0.0012WARNING:tensorflow:Can save best model only with val_loss available, skipping.\n"
     ]
    },
    {
     "name": "stderr",
     "output_type": "stream",
     "text": [
      "WARNING:tensorflow:Can save best model only with val_loss available, skipping.\n"
     ]
    },
    {
     "name": "stdout",
     "output_type": "stream",
     "text": [
      "29/29 [==============================] - 17s 568ms/step - loss: 0.0105 - semantic_0_loss: 0.0028 - semantic_1_loss: 0.0065 - semantic_2_loss: 0.0012 - lr: 2.4734e-05\n",
      "Epoch 141/200\n",
      "29/29 [==============================] - ETA: 0s - loss: 0.0104 - semantic_0_loss: 0.0028 - semantic_1_loss: 0.0064 - semantic_2_loss: 0.0012WARNING:tensorflow:Can save best model only with val_loss available, skipping.\n"
     ]
    },
    {
     "name": "stderr",
     "output_type": "stream",
     "text": [
      "WARNING:tensorflow:Can save best model only with val_loss available, skipping.\n"
     ]
    },
    {
     "name": "stdout",
     "output_type": "stream",
     "text": [
      "29/29 [==============================] - 16s 565ms/step - loss: 0.0104 - semantic_0_loss: 0.0028 - semantic_1_loss: 0.0064 - semantic_2_loss: 0.0012 - lr: 2.4487e-05\n",
      "Epoch 142/200\n",
      "29/29 [==============================] - ETA: 0s - loss: 0.0104 - semantic_0_loss: 0.0028 - semantic_1_loss: 0.0064 - semantic_2_loss: 0.0012WARNING:tensorflow:Can save best model only with val_loss available, skipping.\n"
     ]
    },
    {
     "name": "stderr",
     "output_type": "stream",
     "text": [
      "WARNING:tensorflow:Can save best model only with val_loss available, skipping.\n"
     ]
    },
    {
     "name": "stdout",
     "output_type": "stream",
     "text": [
      "29/29 [==============================] - 16s 554ms/step - loss: 0.0104 - semantic_0_loss: 0.0028 - semantic_1_loss: 0.0064 - semantic_2_loss: 0.0012 - lr: 2.4242e-05\n",
      "Epoch 143/200\n",
      "29/29 [==============================] - ETA: 0s - loss: 0.0106 - semantic_0_loss: 0.0029 - semantic_1_loss: 0.0066 - semantic_2_loss: 0.0012WARNING:tensorflow:Can save best model only with val_loss available, skipping.\n"
     ]
    },
    {
     "name": "stderr",
     "output_type": "stream",
     "text": [
      "WARNING:tensorflow:Can save best model only with val_loss available, skipping.\n"
     ]
    },
    {
     "name": "stdout",
     "output_type": "stream",
     "text": [
      "29/29 [==============================] - 17s 564ms/step - loss: 0.0106 - semantic_0_loss: 0.0029 - semantic_1_loss: 0.0066 - semantic_2_loss: 0.0012 - lr: 2.3999e-05\n",
      "Epoch 144/200\n",
      "29/29 [==============================] - ETA: 0s - loss: 0.0105 - semantic_0_loss: 0.0028 - semantic_1_loss: 0.0065 - semantic_2_loss: 0.0012WARNING:tensorflow:Can save best model only with val_loss available, skipping.\n"
     ]
    },
    {
     "name": "stderr",
     "output_type": "stream",
     "text": [
      "WARNING:tensorflow:Can save best model only with val_loss available, skipping.\n"
     ]
    },
    {
     "name": "stdout",
     "output_type": "stream",
     "text": [
      "29/29 [==============================] - 17s 564ms/step - loss: 0.0105 - semantic_0_loss: 0.0028 - semantic_1_loss: 0.0065 - semantic_2_loss: 0.0012 - lr: 2.3759e-05\n",
      "Epoch 145/200\n",
      "29/29 [==============================] - ETA: 0s - loss: 0.0104 - semantic_0_loss: 0.0028 - semantic_1_loss: 0.0064 - semantic_2_loss: 0.0012WARNING:tensorflow:Can save best model only with val_loss available, skipping.\n"
     ]
    },
    {
     "name": "stderr",
     "output_type": "stream",
     "text": [
      "WARNING:tensorflow:Can save best model only with val_loss available, skipping.\n"
     ]
    },
    {
     "name": "stdout",
     "output_type": "stream",
     "text": [
      "29/29 [==============================] - 16s 560ms/step - loss: 0.0104 - semantic_0_loss: 0.0028 - semantic_1_loss: 0.0064 - semantic_2_loss: 0.0012 - lr: 2.3522e-05\n",
      "Epoch 146/200\n",
      "29/29 [==============================] - ETA: 0s - loss: 0.0105 - semantic_0_loss: 0.0028 - semantic_1_loss: 0.0065 - semantic_2_loss: 0.0012WARNING:tensorflow:Can save best model only with val_loss available, skipping.\n"
     ]
    },
    {
     "name": "stderr",
     "output_type": "stream",
     "text": [
      "WARNING:tensorflow:Can save best model only with val_loss available, skipping.\n"
     ]
    },
    {
     "name": "stdout",
     "output_type": "stream",
     "text": [
      "29/29 [==============================] - 17s 563ms/step - loss: 0.0105 - semantic_0_loss: 0.0028 - semantic_1_loss: 0.0065 - semantic_2_loss: 0.0012 - lr: 2.3286e-05\n",
      "Epoch 147/200\n",
      "29/29 [==============================] - ETA: 0s - loss: 0.0106 - semantic_0_loss: 0.0029 - semantic_1_loss: 0.0066 - semantic_2_loss: 0.0012WARNING:tensorflow:Can save best model only with val_loss available, skipping.\n"
     ]
    },
    {
     "name": "stderr",
     "output_type": "stream",
     "text": [
      "WARNING:tensorflow:Can save best model only with val_loss available, skipping.\n"
     ]
    },
    {
     "name": "stdout",
     "output_type": "stream",
     "text": [
      "29/29 [==============================] - 17s 563ms/step - loss: 0.0106 - semantic_0_loss: 0.0029 - semantic_1_loss: 0.0066 - semantic_2_loss: 0.0012 - lr: 2.3054e-05\n",
      "Epoch 148/200\n",
      "29/29 [==============================] - ETA: 0s - loss: 0.0104 - semantic_0_loss: 0.0028 - semantic_1_loss: 0.0064 - semantic_2_loss: 0.0012WARNING:tensorflow:Can save best model only with val_loss available, skipping.\n"
     ]
    },
    {
     "name": "stderr",
     "output_type": "stream",
     "text": [
      "WARNING:tensorflow:Can save best model only with val_loss available, skipping.\n"
     ]
    },
    {
     "name": "stdout",
     "output_type": "stream",
     "text": [
      "29/29 [==============================] - 17s 562ms/step - loss: 0.0104 - semantic_0_loss: 0.0028 - semantic_1_loss: 0.0064 - semantic_2_loss: 0.0012 - lr: 2.2823e-05\n",
      "Epoch 149/200\n",
      "29/29 [==============================] - ETA: 0s - loss: 0.0105 - semantic_0_loss: 0.0028 - semantic_1_loss: 0.0065 - semantic_2_loss: 0.0012WARNING:tensorflow:Can save best model only with val_loss available, skipping.\n"
     ]
    },
    {
     "name": "stderr",
     "output_type": "stream",
     "text": [
      "WARNING:tensorflow:Can save best model only with val_loss available, skipping.\n"
     ]
    },
    {
     "name": "stdout",
     "output_type": "stream",
     "text": [
      "29/29 [==============================] - 17s 562ms/step - loss: 0.0105 - semantic_0_loss: 0.0028 - semantic_1_loss: 0.0065 - semantic_2_loss: 0.0012 - lr: 2.2595e-05\n",
      "Epoch 150/200\n",
      "29/29 [==============================] - ETA: 0s - loss: 0.0104 - semantic_0_loss: 0.0028 - semantic_1_loss: 0.0064 - semantic_2_loss: 0.0012WARNING:tensorflow:Can save best model only with val_loss available, skipping.\n"
     ]
    },
    {
     "name": "stderr",
     "output_type": "stream",
     "text": [
      "WARNING:tensorflow:Can save best model only with val_loss available, skipping.\n"
     ]
    },
    {
     "name": "stdout",
     "output_type": "stream",
     "text": [
      "29/29 [==============================] - 16s 557ms/step - loss: 0.0104 - semantic_0_loss: 0.0028 - semantic_1_loss: 0.0064 - semantic_2_loss: 0.0012 - lr: 2.2369e-05\n",
      "Epoch 151/200\n",
      "29/29 [==============================] - ETA: 0s - loss: 0.0105 - semantic_0_loss: 0.0029 - semantic_1_loss: 0.0065 - semantic_2_loss: 0.0012WARNING:tensorflow:Can save best model only with val_loss available, skipping.\n"
     ]
    },
    {
     "name": "stderr",
     "output_type": "stream",
     "text": [
      "WARNING:tensorflow:Can save best model only with val_loss available, skipping.\n"
     ]
    },
    {
     "name": "stdout",
     "output_type": "stream",
     "text": [
      "29/29 [==============================] - 16s 563ms/step - loss: 0.0105 - semantic_0_loss: 0.0029 - semantic_1_loss: 0.0065 - semantic_2_loss: 0.0012 - lr: 2.2145e-05\n",
      "Epoch 152/200\n",
      "29/29 [==============================] - ETA: 0s - loss: 0.0104 - semantic_0_loss: 0.0028 - semantic_1_loss: 0.0064 - semantic_2_loss: 0.0012WARNING:tensorflow:Can save best model only with val_loss available, skipping.\n"
     ]
    },
    {
     "name": "stderr",
     "output_type": "stream",
     "text": [
      "WARNING:tensorflow:Can save best model only with val_loss available, skipping.\n"
     ]
    },
    {
     "name": "stdout",
     "output_type": "stream",
     "text": [
      "29/29 [==============================] - 16s 555ms/step - loss: 0.0104 - semantic_0_loss: 0.0028 - semantic_1_loss: 0.0064 - semantic_2_loss: 0.0012 - lr: 2.1924e-05\n",
      "Epoch 153/200\n",
      "29/29 [==============================] - ETA: 0s - loss: 0.0104 - semantic_0_loss: 0.0028 - semantic_1_loss: 0.0064 - semantic_2_loss: 0.0012WARNING:tensorflow:Can save best model only with val_loss available, skipping.\n"
     ]
    },
    {
     "name": "stderr",
     "output_type": "stream",
     "text": [
      "WARNING:tensorflow:Can save best model only with val_loss available, skipping.\n"
     ]
    },
    {
     "name": "stdout",
     "output_type": "stream",
     "text": [
      "29/29 [==============================] - 16s 562ms/step - loss: 0.0104 - semantic_0_loss: 0.0028 - semantic_1_loss: 0.0064 - semantic_2_loss: 0.0012 - lr: 2.1704e-05\n",
      "Epoch 154/200\n",
      "29/29 [==============================] - ETA: 0s - loss: 0.0104 - semantic_0_loss: 0.0028 - semantic_1_loss: 0.0064 - semantic_2_loss: 0.0012WARNING:tensorflow:Can save best model only with val_loss available, skipping.\n"
     ]
    },
    {
     "name": "stderr",
     "output_type": "stream",
     "text": [
      "WARNING:tensorflow:Can save best model only with val_loss available, skipping.\n"
     ]
    },
    {
     "name": "stdout",
     "output_type": "stream",
     "text": [
      "29/29 [==============================] - 16s 561ms/step - loss: 0.0104 - semantic_0_loss: 0.0028 - semantic_1_loss: 0.0064 - semantic_2_loss: 0.0012 - lr: 2.1487e-05\n",
      "Epoch 155/200\n",
      "29/29 [==============================] - ETA: 0s - loss: 0.0103 - semantic_0_loss: 0.0027 - semantic_1_loss: 0.0063 - semantic_2_loss: 0.0012WARNING:tensorflow:Can save best model only with val_loss available, skipping.\n"
     ]
    },
    {
     "name": "stderr",
     "output_type": "stream",
     "text": [
      "WARNING:tensorflow:Can save best model only with val_loss available, skipping.\n"
     ]
    },
    {
     "name": "stdout",
     "output_type": "stream",
     "text": [
      "29/29 [==============================] - 16s 556ms/step - loss: 0.0103 - semantic_0_loss: 0.0027 - semantic_1_loss: 0.0063 - semantic_2_loss: 0.0012 - lr: 2.1273e-05\n",
      "Epoch 156/200\n",
      "29/29 [==============================] - ETA: 0s - loss: 0.0099 - semantic_0_loss: 0.0027 - semantic_1_loss: 0.0061 - semantic_2_loss: 0.0011WARNING:tensorflow:Can save best model only with val_loss available, skipping.\n"
     ]
    },
    {
     "name": "stderr",
     "output_type": "stream",
     "text": [
      "WARNING:tensorflow:Can save best model only with val_loss available, skipping.\n"
     ]
    },
    {
     "name": "stdout",
     "output_type": "stream",
     "text": [
      "29/29 [==============================] - 16s 551ms/step - loss: 0.0099 - semantic_0_loss: 0.0027 - semantic_1_loss: 0.0061 - semantic_2_loss: 0.0011 - lr: 2.1060e-05\n",
      "Epoch 157/200\n",
      "29/29 [==============================] - ETA: 0s - loss: 0.0103 - semantic_0_loss: 0.0028 - semantic_1_loss: 0.0064 - semantic_2_loss: 0.0012WARNING:tensorflow:Can save best model only with val_loss available, skipping.\n"
     ]
    },
    {
     "name": "stderr",
     "output_type": "stream",
     "text": [
      "WARNING:tensorflow:Can save best model only with val_loss available, skipping.\n"
     ]
    },
    {
     "name": "stdout",
     "output_type": "stream",
     "text": [
      "29/29 [==============================] - 16s 557ms/step - loss: 0.0103 - semantic_0_loss: 0.0028 - semantic_1_loss: 0.0064 - semantic_2_loss: 0.0012 - lr: 2.0849e-05\n",
      "Epoch 158/200\n",
      "29/29 [==============================] - ETA: 0s - loss: 0.0104 - semantic_0_loss: 0.0028 - semantic_1_loss: 0.0064 - semantic_2_loss: 0.0012WARNING:tensorflow:Can save best model only with val_loss available, skipping.\n"
     ]
    },
    {
     "name": "stderr",
     "output_type": "stream",
     "text": [
      "WARNING:tensorflow:Can save best model only with val_loss available, skipping.\n"
     ]
    },
    {
     "name": "stdout",
     "output_type": "stream",
     "text": [
      "29/29 [==============================] - 16s 558ms/step - loss: 0.0104 - semantic_0_loss: 0.0028 - semantic_1_loss: 0.0064 - semantic_2_loss: 0.0012 - lr: 2.0641e-05\n",
      "Epoch 159/200\n",
      "29/29 [==============================] - ETA: 0s - loss: 0.0105 - semantic_0_loss: 0.0028 - semantic_1_loss: 0.0065 - semantic_2_loss: 0.0012WARNING:tensorflow:Can save best model only with val_loss available, skipping.\n"
     ]
    },
    {
     "name": "stderr",
     "output_type": "stream",
     "text": [
      "WARNING:tensorflow:Can save best model only with val_loss available, skipping.\n"
     ]
    },
    {
     "name": "stdout",
     "output_type": "stream",
     "text": [
      "29/29 [==============================] - 18s 605ms/step - loss: 0.0105 - semantic_0_loss: 0.0028 - semantic_1_loss: 0.0065 - semantic_2_loss: 0.0012 - lr: 2.0434e-05\n",
      "Epoch 160/200\n",
      "29/29 [==============================] - ETA: 0s - loss: 0.0104 - semantic_0_loss: 0.0028 - semantic_1_loss: 0.0064 - semantic_2_loss: 0.0012WARNING:tensorflow:Can save best model only with val_loss available, skipping.\n"
     ]
    },
    {
     "name": "stderr",
     "output_type": "stream",
     "text": [
      "WARNING:tensorflow:Can save best model only with val_loss available, skipping.\n"
     ]
    },
    {
     "name": "stdout",
     "output_type": "stream",
     "text": [
      "29/29 [==============================] - 16s 560ms/step - loss: 0.0104 - semantic_0_loss: 0.0028 - semantic_1_loss: 0.0064 - semantic_2_loss: 0.0012 - lr: 2.0230e-05\n",
      "Epoch 161/200\n",
      "29/29 [==============================] - ETA: 0s - loss: 0.0103 - semantic_0_loss: 0.0028 - semantic_1_loss: 0.0063 - semantic_2_loss: 0.0012WARNING:tensorflow:Can save best model only with val_loss available, skipping.\n"
     ]
    },
    {
     "name": "stderr",
     "output_type": "stream",
     "text": [
      "WARNING:tensorflow:Can save best model only with val_loss available, skipping.\n"
     ]
    },
    {
     "name": "stdout",
     "output_type": "stream",
     "text": [
      "29/29 [==============================] - 16s 562ms/step - loss: 0.0103 - semantic_0_loss: 0.0028 - semantic_1_loss: 0.0063 - semantic_2_loss: 0.0012 - lr: 2.0028e-05\n",
      "Epoch 162/200\n",
      "29/29 [==============================] - ETA: 0s - loss: 0.0105 - semantic_0_loss: 0.0029 - semantic_1_loss: 0.0065 - semantic_2_loss: 0.0012WARNING:tensorflow:Can save best model only with val_loss available, skipping.\n"
     ]
    },
    {
     "name": "stderr",
     "output_type": "stream",
     "text": [
      "WARNING:tensorflow:Can save best model only with val_loss available, skipping.\n"
     ]
    },
    {
     "name": "stdout",
     "output_type": "stream",
     "text": [
      "29/29 [==============================] - 17s 566ms/step - loss: 0.0105 - semantic_0_loss: 0.0029 - semantic_1_loss: 0.0065 - semantic_2_loss: 0.0012 - lr: 1.9827e-05\n",
      "Epoch 163/200\n",
      "29/29 [==============================] - ETA: 0s - loss: 0.0104 - semantic_0_loss: 0.0028 - semantic_1_loss: 0.0064 - semantic_2_loss: 0.0012WARNING:tensorflow:Can save best model only with val_loss available, skipping.\n"
     ]
    },
    {
     "name": "stderr",
     "output_type": "stream",
     "text": [
      "WARNING:tensorflow:Can save best model only with val_loss available, skipping.\n"
     ]
    },
    {
     "name": "stdout",
     "output_type": "stream",
     "text": [
      "29/29 [==============================] - 17s 562ms/step - loss: 0.0104 - semantic_0_loss: 0.0028 - semantic_1_loss: 0.0064 - semantic_2_loss: 0.0012 - lr: 1.9629e-05\n",
      "Epoch 164/200\n",
      "29/29 [==============================] - ETA: 0s - loss: 0.0105 - semantic_0_loss: 0.0029 - semantic_1_loss: 0.0065 - semantic_2_loss: 0.0012WARNING:tensorflow:Can save best model only with val_loss available, skipping.\n"
     ]
    },
    {
     "name": "stderr",
     "output_type": "stream",
     "text": [
      "WARNING:tensorflow:Can save best model only with val_loss available, skipping.\n"
     ]
    },
    {
     "name": "stdout",
     "output_type": "stream",
     "text": [
      "29/29 [==============================] - 16s 559ms/step - loss: 0.0105 - semantic_0_loss: 0.0029 - semantic_1_loss: 0.0065 - semantic_2_loss: 0.0012 - lr: 1.9433e-05\n",
      "Epoch 165/200\n",
      "29/29 [==============================] - ETA: 0s - loss: 0.0103 - semantic_0_loss: 0.0028 - semantic_1_loss: 0.0063 - semantic_2_loss: 0.0012WARNING:tensorflow:Can save best model only with val_loss available, skipping.\n"
     ]
    },
    {
     "name": "stderr",
     "output_type": "stream",
     "text": [
      "WARNING:tensorflow:Can save best model only with val_loss available, skipping.\n"
     ]
    },
    {
     "name": "stdout",
     "output_type": "stream",
     "text": [
      "29/29 [==============================] - 17s 560ms/step - loss: 0.0103 - semantic_0_loss: 0.0028 - semantic_1_loss: 0.0063 - semantic_2_loss: 0.0012 - lr: 1.9239e-05\n",
      "Epoch 166/200\n",
      "29/29 [==============================] - ETA: 0s - loss: 0.0104 - semantic_0_loss: 0.0028 - semantic_1_loss: 0.0064 - semantic_2_loss: 0.0012WARNING:tensorflow:Can save best model only with val_loss available, skipping.\n"
     ]
    },
    {
     "name": "stderr",
     "output_type": "stream",
     "text": [
      "WARNING:tensorflow:Can save best model only with val_loss available, skipping.\n"
     ]
    },
    {
     "name": "stdout",
     "output_type": "stream",
     "text": [
      "29/29 [==============================] - 16s 558ms/step - loss: 0.0104 - semantic_0_loss: 0.0028 - semantic_1_loss: 0.0064 - semantic_2_loss: 0.0012 - lr: 1.9046e-05\n",
      "Epoch 167/200\n",
      "29/29 [==============================] - ETA: 0s - loss: 0.0104 - semantic_0_loss: 0.0028 - semantic_1_loss: 0.0064 - semantic_2_loss: 0.0012WARNING:tensorflow:Can save best model only with val_loss available, skipping.\n"
     ]
    },
    {
     "name": "stderr",
     "output_type": "stream",
     "text": [
      "WARNING:tensorflow:Can save best model only with val_loss available, skipping.\n"
     ]
    },
    {
     "name": "stdout",
     "output_type": "stream",
     "text": [
      "29/29 [==============================] - 17s 570ms/step - loss: 0.0104 - semantic_0_loss: 0.0028 - semantic_1_loss: 0.0064 - semantic_2_loss: 0.0012 - lr: 1.8856e-05\n",
      "Epoch 168/200\n",
      "29/29 [==============================] - ETA: 0s - loss: 0.0102 - semantic_0_loss: 0.0028 - semantic_1_loss: 0.0062 - semantic_2_loss: 0.0011WARNING:tensorflow:Can save best model only with val_loss available, skipping.\n"
     ]
    },
    {
     "name": "stderr",
     "output_type": "stream",
     "text": [
      "WARNING:tensorflow:Can save best model only with val_loss available, skipping.\n"
     ]
    },
    {
     "name": "stdout",
     "output_type": "stream",
     "text": [
      "29/29 [==============================] - 16s 550ms/step - loss: 0.0102 - semantic_0_loss: 0.0028 - semantic_1_loss: 0.0062 - semantic_2_loss: 0.0011 - lr: 1.8667e-05\n",
      "Epoch 169/200\n",
      "29/29 [==============================] - ETA: 0s - loss: 0.0104 - semantic_0_loss: 0.0029 - semantic_1_loss: 0.0064 - semantic_2_loss: 0.0012WARNING:tensorflow:Can save best model only with val_loss available, skipping.\n"
     ]
    },
    {
     "name": "stderr",
     "output_type": "stream",
     "text": [
      "WARNING:tensorflow:Can save best model only with val_loss available, skipping.\n"
     ]
    },
    {
     "name": "stdout",
     "output_type": "stream",
     "text": [
      "29/29 [==============================] - 16s 556ms/step - loss: 0.0104 - semantic_0_loss: 0.0029 - semantic_1_loss: 0.0064 - semantic_2_loss: 0.0012 - lr: 1.8480e-05\n",
      "Epoch 170/200\n",
      "29/29 [==============================] - ETA: 0s - loss: 0.0102 - semantic_0_loss: 0.0028 - semantic_1_loss: 0.0063 - semantic_2_loss: 0.0011WARNING:tensorflow:Can save best model only with val_loss available, skipping.\n"
     ]
    },
    {
     "name": "stderr",
     "output_type": "stream",
     "text": [
      "WARNING:tensorflow:Can save best model only with val_loss available, skipping.\n"
     ]
    },
    {
     "name": "stdout",
     "output_type": "stream",
     "text": [
      "29/29 [==============================] - 17s 567ms/step - loss: 0.0102 - semantic_0_loss: 0.0028 - semantic_1_loss: 0.0063 - semantic_2_loss: 0.0011 - lr: 1.8296e-05\n",
      "Epoch 171/200\n",
      "29/29 [==============================] - ETA: 0s - loss: 0.0104 - semantic_0_loss: 0.0028 - semantic_1_loss: 0.0064 - semantic_2_loss: 0.0012WARNING:tensorflow:Can save best model only with val_loss available, skipping.\n"
     ]
    },
    {
     "name": "stderr",
     "output_type": "stream",
     "text": [
      "WARNING:tensorflow:Can save best model only with val_loss available, skipping.\n"
     ]
    },
    {
     "name": "stdout",
     "output_type": "stream",
     "text": [
      "29/29 [==============================] - 17s 569ms/step - loss: 0.0104 - semantic_0_loss: 0.0028 - semantic_1_loss: 0.0064 - semantic_2_loss: 0.0012 - lr: 1.8113e-05\n",
      "Epoch 172/200\n",
      "29/29 [==============================] - ETA: 0s - loss: 0.0104 - semantic_0_loss: 0.0028 - semantic_1_loss: 0.0064 - semantic_2_loss: 0.0012WARNING:tensorflow:Can save best model only with val_loss available, skipping.\n"
     ]
    },
    {
     "name": "stderr",
     "output_type": "stream",
     "text": [
      "WARNING:tensorflow:Can save best model only with val_loss available, skipping.\n"
     ]
    },
    {
     "name": "stdout",
     "output_type": "stream",
     "text": [
      "29/29 [==============================] - 16s 559ms/step - loss: 0.0104 - semantic_0_loss: 0.0028 - semantic_1_loss: 0.0064 - semantic_2_loss: 0.0012 - lr: 1.7932e-05\n",
      "Epoch 173/200\n",
      "29/29 [==============================] - ETA: 0s - loss: 0.0104 - semantic_0_loss: 0.0028 - semantic_1_loss: 0.0064 - semantic_2_loss: 0.0012WARNING:tensorflow:Can save best model only with val_loss available, skipping.\n"
     ]
    },
    {
     "name": "stderr",
     "output_type": "stream",
     "text": [
      "WARNING:tensorflow:Can save best model only with val_loss available, skipping.\n"
     ]
    },
    {
     "name": "stdout",
     "output_type": "stream",
     "text": [
      "29/29 [==============================] - 17s 561ms/step - loss: 0.0104 - semantic_0_loss: 0.0028 - semantic_1_loss: 0.0064 - semantic_2_loss: 0.0012 - lr: 1.7752e-05\n",
      "Epoch 174/200\n",
      "29/29 [==============================] - ETA: 0s - loss: 0.0105 - semantic_0_loss: 0.0029 - semantic_1_loss: 0.0065 - semantic_2_loss: 0.0012WARNING:tensorflow:Can save best model only with val_loss available, skipping.\n"
     ]
    },
    {
     "name": "stderr",
     "output_type": "stream",
     "text": [
      "WARNING:tensorflow:Can save best model only with val_loss available, skipping.\n"
     ]
    },
    {
     "name": "stdout",
     "output_type": "stream",
     "text": [
      "29/29 [==============================] - 16s 561ms/step - loss: 0.0105 - semantic_0_loss: 0.0029 - semantic_1_loss: 0.0065 - semantic_2_loss: 0.0012 - lr: 1.7575e-05\n",
      "Epoch 175/200\n",
      "29/29 [==============================] - ETA: 0s - loss: 0.0103 - semantic_0_loss: 0.0028 - semantic_1_loss: 0.0063 - semantic_2_loss: 0.0012WARNING:tensorflow:Can save best model only with val_loss available, skipping.\n"
     ]
    },
    {
     "name": "stderr",
     "output_type": "stream",
     "text": [
      "WARNING:tensorflow:Can save best model only with val_loss available, skipping.\n"
     ]
    },
    {
     "name": "stdout",
     "output_type": "stream",
     "text": [
      "29/29 [==============================] - 16s 558ms/step - loss: 0.0103 - semantic_0_loss: 0.0028 - semantic_1_loss: 0.0063 - semantic_2_loss: 0.0012 - lr: 1.7399e-05\n",
      "Epoch 176/200\n",
      "29/29 [==============================] - ETA: 0s - loss: 0.0103 - semantic_0_loss: 0.0028 - semantic_1_loss: 0.0063 - semantic_2_loss: 0.0012WARNING:tensorflow:Can save best model only with val_loss available, skipping.\n"
     ]
    },
    {
     "name": "stderr",
     "output_type": "stream",
     "text": [
      "WARNING:tensorflow:Can save best model only with val_loss available, skipping.\n"
     ]
    },
    {
     "name": "stdout",
     "output_type": "stream",
     "text": [
      "29/29 [==============================] - 17s 567ms/step - loss: 0.0103 - semantic_0_loss: 0.0028 - semantic_1_loss: 0.0063 - semantic_2_loss: 0.0012 - lr: 1.7225e-05\n",
      "Epoch 177/200\n",
      "29/29 [==============================] - ETA: 0s - loss: 0.0104 - semantic_0_loss: 0.0029 - semantic_1_loss: 0.0064 - semantic_2_loss: 0.0012WARNING:tensorflow:Can save best model only with val_loss available, skipping.\n"
     ]
    },
    {
     "name": "stderr",
     "output_type": "stream",
     "text": [
      "WARNING:tensorflow:Can save best model only with val_loss available, skipping.\n"
     ]
    },
    {
     "name": "stdout",
     "output_type": "stream",
     "text": [
      "29/29 [==============================] - 17s 559ms/step - loss: 0.0104 - semantic_0_loss: 0.0029 - semantic_1_loss: 0.0064 - semantic_2_loss: 0.0012 - lr: 1.7053e-05\n",
      "Epoch 178/200\n",
      "29/29 [==============================] - ETA: 0s - loss: 0.0103 - semantic_0_loss: 0.0028 - semantic_1_loss: 0.0063 - semantic_2_loss: 0.0012WARNING:tensorflow:Can save best model only with val_loss available, skipping.\n"
     ]
    },
    {
     "name": "stderr",
     "output_type": "stream",
     "text": [
      "WARNING:tensorflow:Can save best model only with val_loss available, skipping.\n"
     ]
    },
    {
     "name": "stdout",
     "output_type": "stream",
     "text": [
      "29/29 [==============================] - 16s 556ms/step - loss: 0.0103 - semantic_0_loss: 0.0028 - semantic_1_loss: 0.0063 - semantic_2_loss: 0.0012 - lr: 1.6882e-05\n",
      "Epoch 179/200\n",
      "29/29 [==============================] - ETA: 0s - loss: 0.0100 - semantic_0_loss: 0.0027 - semantic_1_loss: 0.0062 - semantic_2_loss: 0.0011WARNING:tensorflow:Can save best model only with val_loss available, skipping.\n"
     ]
    },
    {
     "name": "stderr",
     "output_type": "stream",
     "text": [
      "WARNING:tensorflow:Can save best model only with val_loss available, skipping.\n"
     ]
    },
    {
     "name": "stdout",
     "output_type": "stream",
     "text": [
      "29/29 [==============================] - 16s 560ms/step - loss: 0.0100 - semantic_0_loss: 0.0027 - semantic_1_loss: 0.0062 - semantic_2_loss: 0.0011 - lr: 1.6713e-05\n",
      "Epoch 180/200\n",
      "29/29 [==============================] - ETA: 0s - loss: 0.0103 - semantic_0_loss: 0.0028 - semantic_1_loss: 0.0063 - semantic_2_loss: 0.0012WARNING:tensorflow:Can save best model only with val_loss available, skipping.\n"
     ]
    },
    {
     "name": "stderr",
     "output_type": "stream",
     "text": [
      "WARNING:tensorflow:Can save best model only with val_loss available, skipping.\n"
     ]
    },
    {
     "name": "stdout",
     "output_type": "stream",
     "text": [
      "29/29 [==============================] - 16s 556ms/step - loss: 0.0103 - semantic_0_loss: 0.0028 - semantic_1_loss: 0.0063 - semantic_2_loss: 0.0012 - lr: 1.6546e-05\n",
      "Epoch 181/200\n",
      "29/29 [==============================] - ETA: 0s - loss: 0.0105 - semantic_0_loss: 0.0029 - semantic_1_loss: 0.0065 - semantic_2_loss: 0.0012WARNING:tensorflow:Can save best model only with val_loss available, skipping.\n"
     ]
    },
    {
     "name": "stderr",
     "output_type": "stream",
     "text": [
      "WARNING:tensorflow:Can save best model only with val_loss available, skipping.\n"
     ]
    },
    {
     "name": "stdout",
     "output_type": "stream",
     "text": [
      "29/29 [==============================] - 17s 563ms/step - loss: 0.0105 - semantic_0_loss: 0.0029 - semantic_1_loss: 0.0065 - semantic_2_loss: 0.0012 - lr: 1.6381e-05\n",
      "Epoch 182/200\n",
      "29/29 [==============================] - ETA: 0s - loss: 0.0101 - semantic_0_loss: 0.0028 - semantic_1_loss: 0.0062 - semantic_2_loss: 0.0011WARNING:tensorflow:Can save best model only with val_loss available, skipping.\n"
     ]
    },
    {
     "name": "stderr",
     "output_type": "stream",
     "text": [
      "WARNING:tensorflow:Can save best model only with val_loss available, skipping.\n"
     ]
    },
    {
     "name": "stdout",
     "output_type": "stream",
     "text": [
      "29/29 [==============================] - 16s 557ms/step - loss: 0.0101 - semantic_0_loss: 0.0028 - semantic_1_loss: 0.0062 - semantic_2_loss: 0.0011 - lr: 1.6217e-05\n",
      "Epoch 183/200\n",
      "29/29 [==============================] - ETA: 0s - loss: 0.0099 - semantic_0_loss: 0.0027 - semantic_1_loss: 0.0061 - semantic_2_loss: 0.0011WARNING:tensorflow:Can save best model only with val_loss available, skipping.\n"
     ]
    },
    {
     "name": "stderr",
     "output_type": "stream",
     "text": [
      "WARNING:tensorflow:Can save best model only with val_loss available, skipping.\n"
     ]
    },
    {
     "name": "stdout",
     "output_type": "stream",
     "text": [
      "29/29 [==============================] - 16s 552ms/step - loss: 0.0099 - semantic_0_loss: 0.0027 - semantic_1_loss: 0.0061 - semantic_2_loss: 0.0011 - lr: 1.6055e-05\n",
      "Epoch 184/200\n",
      "29/29 [==============================] - ETA: 0s - loss: 0.0103 - semantic_0_loss: 0.0029 - semantic_1_loss: 0.0063 - semantic_2_loss: 0.0012WARNING:tensorflow:Can save best model only with val_loss available, skipping.\n"
     ]
    },
    {
     "name": "stderr",
     "output_type": "stream",
     "text": [
      "WARNING:tensorflow:Can save best model only with val_loss available, skipping.\n"
     ]
    },
    {
     "name": "stdout",
     "output_type": "stream",
     "text": [
      "29/29 [==============================] - 17s 568ms/step - loss: 0.0103 - semantic_0_loss: 0.0029 - semantic_1_loss: 0.0063 - semantic_2_loss: 0.0012 - lr: 1.5894e-05\n",
      "Epoch 185/200\n",
      "29/29 [==============================] - ETA: 0s - loss: 0.0101 - semantic_0_loss: 0.0027 - semantic_1_loss: 0.0062 - semantic_2_loss: 0.0012WARNING:tensorflow:Can save best model only with val_loss available, skipping.\n"
     ]
    },
    {
     "name": "stderr",
     "output_type": "stream",
     "text": [
      "WARNING:tensorflow:Can save best model only with val_loss available, skipping.\n"
     ]
    },
    {
     "name": "stdout",
     "output_type": "stream",
     "text": [
      "29/29 [==============================] - 16s 558ms/step - loss: 0.0101 - semantic_0_loss: 0.0027 - semantic_1_loss: 0.0062 - semantic_2_loss: 0.0012 - lr: 1.5735e-05\n",
      "Epoch 186/200\n",
      "29/29 [==============================] - ETA: 0s - loss: 0.0098 - semantic_0_loss: 0.0027 - semantic_1_loss: 0.0060 - semantic_2_loss: 0.0011WARNING:tensorflow:Can save best model only with val_loss available, skipping.\n"
     ]
    },
    {
     "name": "stderr",
     "output_type": "stream",
     "text": [
      "WARNING:tensorflow:Can save best model only with val_loss available, skipping.\n"
     ]
    },
    {
     "name": "stdout",
     "output_type": "stream",
     "text": [
      "29/29 [==============================] - 16s 558ms/step - loss: 0.0098 - semantic_0_loss: 0.0027 - semantic_1_loss: 0.0060 - semantic_2_loss: 0.0011 - lr: 1.5578e-05\n",
      "Epoch 187/200\n",
      "29/29 [==============================] - ETA: 0s - loss: 0.0099 - semantic_0_loss: 0.0027 - semantic_1_loss: 0.0060 - semantic_2_loss: 0.0011WARNING:tensorflow:Can save best model only with val_loss available, skipping.\n"
     ]
    },
    {
     "name": "stderr",
     "output_type": "stream",
     "text": [
      "WARNING:tensorflow:Can save best model only with val_loss available, skipping.\n"
     ]
    },
    {
     "name": "stdout",
     "output_type": "stream",
     "text": [
      "29/29 [==============================] - 16s 561ms/step - loss: 0.0099 - semantic_0_loss: 0.0027 - semantic_1_loss: 0.0060 - semantic_2_loss: 0.0011 - lr: 1.5422e-05\n",
      "Epoch 188/200\n",
      "29/29 [==============================] - ETA: 0s - loss: 0.0102 - semantic_0_loss: 0.0028 - semantic_1_loss: 0.0063 - semantic_2_loss: 0.0011WARNING:tensorflow:Can save best model only with val_loss available, skipping.\n"
     ]
    },
    {
     "name": "stderr",
     "output_type": "stream",
     "text": [
      "WARNING:tensorflow:Can save best model only with val_loss available, skipping.\n"
     ]
    },
    {
     "name": "stdout",
     "output_type": "stream",
     "text": [
      "29/29 [==============================] - 16s 554ms/step - loss: 0.0102 - semantic_0_loss: 0.0028 - semantic_1_loss: 0.0063 - semantic_2_loss: 0.0011 - lr: 1.5268e-05\n",
      "Epoch 189/200\n",
      "29/29 [==============================] - ETA: 0s - loss: 0.0100 - semantic_0_loss: 0.0027 - semantic_1_loss: 0.0061 - semantic_2_loss: 0.0011WARNING:tensorflow:Can save best model only with val_loss available, skipping.\n"
     ]
    },
    {
     "name": "stderr",
     "output_type": "stream",
     "text": [
      "WARNING:tensorflow:Can save best model only with val_loss available, skipping.\n"
     ]
    },
    {
     "name": "stdout",
     "output_type": "stream",
     "text": [
      "29/29 [==============================] - 17s 560ms/step - loss: 0.0100 - semantic_0_loss: 0.0027 - semantic_1_loss: 0.0061 - semantic_2_loss: 0.0011 - lr: 1.5115e-05\n",
      "Epoch 190/200\n",
      "29/29 [==============================] - ETA: 0s - loss: 0.0100 - semantic_0_loss: 0.0027 - semantic_1_loss: 0.0061 - semantic_2_loss: 0.0011WARNING:tensorflow:Can save best model only with val_loss available, skipping.\n"
     ]
    },
    {
     "name": "stderr",
     "output_type": "stream",
     "text": [
      "WARNING:tensorflow:Can save best model only with val_loss available, skipping.\n"
     ]
    },
    {
     "name": "stdout",
     "output_type": "stream",
     "text": [
      "29/29 [==============================] - 16s 560ms/step - loss: 0.0100 - semantic_0_loss: 0.0027 - semantic_1_loss: 0.0061 - semantic_2_loss: 0.0011 - lr: 1.4964e-05\n",
      "Epoch 191/200\n",
      "29/29 [==============================] - ETA: 0s - loss: 0.0099 - semantic_0_loss: 0.0027 - semantic_1_loss: 0.0061 - semantic_2_loss: 0.0011WARNING:tensorflow:Can save best model only with val_loss available, skipping.\n"
     ]
    },
    {
     "name": "stderr",
     "output_type": "stream",
     "text": [
      "WARNING:tensorflow:Can save best model only with val_loss available, skipping.\n"
     ]
    },
    {
     "name": "stdout",
     "output_type": "stream",
     "text": [
      "29/29 [==============================] - 16s 552ms/step - loss: 0.0099 - semantic_0_loss: 0.0027 - semantic_1_loss: 0.0061 - semantic_2_loss: 0.0011 - lr: 1.4814e-05\n",
      "Epoch 192/200\n",
      "29/29 [==============================] - ETA: 0s - loss: 0.0101 - semantic_0_loss: 0.0028 - semantic_1_loss: 0.0062 - semantic_2_loss: 0.0011WARNING:tensorflow:Can save best model only with val_loss available, skipping.\n"
     ]
    },
    {
     "name": "stderr",
     "output_type": "stream",
     "text": [
      "WARNING:tensorflow:Can save best model only with val_loss available, skipping.\n"
     ]
    },
    {
     "name": "stdout",
     "output_type": "stream",
     "text": [
      "29/29 [==============================] - 16s 556ms/step - loss: 0.0101 - semantic_0_loss: 0.0028 - semantic_1_loss: 0.0062 - semantic_2_loss: 0.0011 - lr: 1.4666e-05\n",
      "Epoch 193/200\n",
      "29/29 [==============================] - ETA: 0s - loss: 0.0098 - semantic_0_loss: 0.0027 - semantic_1_loss: 0.0060 - semantic_2_loss: 0.0011WARNING:tensorflow:Can save best model only with val_loss available, skipping.\n"
     ]
    },
    {
     "name": "stderr",
     "output_type": "stream",
     "text": [
      "WARNING:tensorflow:Can save best model only with val_loss available, skipping.\n"
     ]
    },
    {
     "name": "stdout",
     "output_type": "stream",
     "text": [
      "29/29 [==============================] - 16s 557ms/step - loss: 0.0098 - semantic_0_loss: 0.0027 - semantic_1_loss: 0.0060 - semantic_2_loss: 0.0011 - lr: 1.4520e-05\n",
      "Epoch 194/200\n",
      "29/29 [==============================] - ETA: 0s - loss: 0.0100 - semantic_0_loss: 0.0027 - semantic_1_loss: 0.0062 - semantic_2_loss: 0.0011WARNING:tensorflow:Can save best model only with val_loss available, skipping.\n"
     ]
    },
    {
     "name": "stderr",
     "output_type": "stream",
     "text": [
      "WARNING:tensorflow:Can save best model only with val_loss available, skipping.\n"
     ]
    },
    {
     "name": "stdout",
     "output_type": "stream",
     "text": [
      "29/29 [==============================] - 16s 557ms/step - loss: 0.0100 - semantic_0_loss: 0.0027 - semantic_1_loss: 0.0062 - semantic_2_loss: 0.0011 - lr: 1.4374e-05\n",
      "Epoch 195/200\n",
      "29/29 [==============================] - ETA: 0s - loss: 0.0103 - semantic_0_loss: 0.0028 - semantic_1_loss: 0.0063 - semantic_2_loss: 0.0011WARNING:tensorflow:Can save best model only with val_loss available, skipping.\n"
     ]
    },
    {
     "name": "stderr",
     "output_type": "stream",
     "text": [
      "WARNING:tensorflow:Can save best model only with val_loss available, skipping.\n"
     ]
    },
    {
     "name": "stdout",
     "output_type": "stream",
     "text": [
      "29/29 [==============================] - 17s 563ms/step - loss: 0.0103 - semantic_0_loss: 0.0028 - semantic_1_loss: 0.0063 - semantic_2_loss: 0.0011 - lr: 1.4231e-05\n",
      "Epoch 196/200\n",
      "29/29 [==============================] - ETA: 0s - loss: 0.0102 - semantic_0_loss: 0.0028 - semantic_1_loss: 0.0063 - semantic_2_loss: 0.0011WARNING:tensorflow:Can save best model only with val_loss available, skipping.\n"
     ]
    },
    {
     "name": "stderr",
     "output_type": "stream",
     "text": [
      "WARNING:tensorflow:Can save best model only with val_loss available, skipping.\n"
     ]
    },
    {
     "name": "stdout",
     "output_type": "stream",
     "text": [
      "29/29 [==============================] - 16s 559ms/step - loss: 0.0102 - semantic_0_loss: 0.0028 - semantic_1_loss: 0.0063 - semantic_2_loss: 0.0011 - lr: 1.4088e-05\n",
      "Epoch 197/200\n",
      "29/29 [==============================] - ETA: 0s - loss: 0.0099 - semantic_0_loss: 0.0027 - semantic_1_loss: 0.0061 - semantic_2_loss: 0.0011WARNING:tensorflow:Can save best model only with val_loss available, skipping.\n"
     ]
    },
    {
     "name": "stderr",
     "output_type": "stream",
     "text": [
      "WARNING:tensorflow:Can save best model only with val_loss available, skipping.\n"
     ]
    },
    {
     "name": "stdout",
     "output_type": "stream",
     "text": [
      "29/29 [==============================] - 16s 551ms/step - loss: 0.0099 - semantic_0_loss: 0.0027 - semantic_1_loss: 0.0061 - semantic_2_loss: 0.0011 - lr: 1.3948e-05\n",
      "Epoch 198/200\n",
      "29/29 [==============================] - ETA: 0s - loss: 0.0100 - semantic_0_loss: 0.0027 - semantic_1_loss: 0.0062 - semantic_2_loss: 0.0011WARNING:tensorflow:Can save best model only with val_loss available, skipping.\n"
     ]
    },
    {
     "name": "stderr",
     "output_type": "stream",
     "text": [
      "WARNING:tensorflow:Can save best model only with val_loss available, skipping.\n"
     ]
    },
    {
     "name": "stdout",
     "output_type": "stream",
     "text": [
      "29/29 [==============================] - 16s 555ms/step - loss: 0.0100 - semantic_0_loss: 0.0027 - semantic_1_loss: 0.0062 - semantic_2_loss: 0.0011 - lr: 1.3808e-05\n",
      "Epoch 199/200\n",
      "29/29 [==============================] - ETA: 0s - loss: 0.0101 - semantic_0_loss: 0.0028 - semantic_1_loss: 0.0062 - semantic_2_loss: 0.0011WARNING:tensorflow:Can save best model only with val_loss available, skipping.\n"
     ]
    },
    {
     "name": "stderr",
     "output_type": "stream",
     "text": [
      "WARNING:tensorflow:Can save best model only with val_loss available, skipping.\n"
     ]
    },
    {
     "name": "stdout",
     "output_type": "stream",
     "text": [
      "29/29 [==============================] - 16s 560ms/step - loss: 0.0101 - semantic_0_loss: 0.0028 - semantic_1_loss: 0.0062 - semantic_2_loss: 0.0011 - lr: 1.3670e-05\n",
      "Epoch 200/200\n",
      "29/29 [==============================] - ETA: 0s - loss: 0.0102 - semantic_0_loss: 0.0028 - semantic_1_loss: 0.0062 - semantic_2_loss: 0.0011WARNING:tensorflow:Can save best model only with val_loss available, skipping.\n"
     ]
    },
    {
     "name": "stderr",
     "output_type": "stream",
     "text": [
      "WARNING:tensorflow:Can save best model only with val_loss available, skipping.\n"
     ]
    },
    {
     "name": "stdout",
     "output_type": "stream",
     "text": [
      "29/29 [==============================] - 16s 558ms/step - loss: 0.0102 - semantic_0_loss: 0.0028 - semantic_1_loss: 0.0062 - semantic_2_loss: 0.0011 - lr: 1.3533e-05\n",
      "/home/yfong/deeplearning/dense_cell_segmentation\n",
      "['M926910_CFL_Position7_CD3_test_img.png', 'M872956_JML_Position10_CD3_test_img.png', 'M872956_JML_Position8_CD8_test_img.png', 'M926910_CFL_Position13_CD3_test_img.png', 'M872956_JML_Position8_CD3_test_img.png', 'M872956_JML_Position8_CD4_test_img.png', 'M872956_JML_Position9_CD3_test_img.png']\n",
      "M926910_CFL_Position7_CD3_test_img.png\n"
     ]
    },
    {
     "name": "stderr",
     "output_type": "stream",
     "text": [
      "/app/software/DeepCell/0.11.1-foss-2021b-CUDA-11.4.1/lib/python3.9/site-packages/deepcell_toolbox/deep_watershed.py:179: FutureWarning: `selem` is a deprecated argument name for `h_maxima`. It will be removed in version 1.0.Please use `footprint` instead.\n",
      "  markers = h_maxima(image=maxima,\n"
     ]
    },
    {
     "name": "stdout",
     "output_type": "stream",
     "text": [
      "M872956_JML_Position10_CD3_test_img.png\n",
      "M872956_JML_Position8_CD8_test_img.png\n",
      "M926910_CFL_Position13_CD3_test_img.png\n",
      "M872956_JML_Position8_CD3_test_img.png\n",
      "M872956_JML_Position8_CD4_test_img.png\n",
      "M872956_JML_Position9_CD3_test_img.png\n",
      "[[0.2751572327044025, 0.3256484149855908], [0.2927689594356261, 0.3856655290102389], [0.4419889502762431, 0.49230769230769234], [0.2144638403990025, 0.27802690582959644], [0.4150268336314848, 0.5214285714285715], [0.5710382513661202, 0.5935162094763092], [0.2993762993762994, 0.3867735470941884]]\n",
      "                                         0         1         2\n",
      "0   M926910_CFL_Position7_CD3_test_img.png  0.275157  0.325648\n",
      "1  M872956_JML_Position10_CD3_test_img.png  0.292769  0.385666\n",
      "2   M872956_JML_Position8_CD8_test_img.png  0.441989  0.492308\n",
      "3  M926910_CFL_Position13_CD3_test_img.png  0.214464  0.278027\n",
      "4   M872956_JML_Position8_CD3_test_img.png  0.415027  0.521429\n",
      "5   M872956_JML_Position8_CD4_test_img.png  0.571038  0.593516\n",
      "6   M872956_JML_Position9_CD3_test_img.png  0.299376  0.386774\n",
      "6\n",
      "(6, 1040, 1159, 1)\n",
      "(6, 1040, 1159, 1)\n",
      "2.0\n",
      "(6, 2080, 2318, 1)\n",
      "(6, 2080, 2318, 1)\n",
      "(6, 2080, 2318, 1)\n",
      "(6, 2080, 2318, 1)\n",
      "[0, 400, 800, 1200, 1568]\n",
      "[512, 912, 1312, 1712, 2080]\n",
      "[0, 512, 1024, 1536, 1806]\n",
      "[512, 1024, 1536, 2048, 2318]\n",
      "(150, 512, 512, 1)\n",
      "(150, 512, 512, 1)\n",
      "WARNING:tensorflow:Removing 6 of 150 images with fewer than 5 objects.\n"
     ]
    },
    {
     "name": "stderr",
     "output_type": "stream",
     "text": [
      "WARNING:tensorflow:Removing 6 of 150 images with fewer than 5 objects.\n",
      "/app/software/TensorFlow/2.7.1-foss-2021b-CUDA-11.4.1/lib/python3.9/site-packages/keras/optimizer_v2/adam.py:105: UserWarning: The `lr` argument is deprecated, use `learning_rate` instead.\n",
      "  super(Adam, self).__init__(name, **kwargs)\n"
     ]
    },
    {
     "name": "stdout",
     "output_type": "stream",
     "text": [
      "Training on 3 GPUs.\n"
     ]
    },
    {
     "name": "stderr",
     "output_type": "stream",
     "text": [
      "2022-11-06 11:34:02.339601: I tensorflow/core/common_runtime/gpu/gpu_device.cc:1525] Created device /device:GPU:0 with 14657 MB memory:  -> device: 0, name: Tesla V100-PCIE-16GB, pci bus id: 0000:04:00.0, compute capability: 7.0\n",
      "2022-11-06 11:34:02.340825: I tensorflow/core/common_runtime/gpu/gpu_device.cc:1525] Created device /device:GPU:1 with 14657 MB memory:  -> device: 1, name: Tesla V100-PCIE-16GB, pci bus id: 0000:06:00.0, compute capability: 7.0\n",
      "2022-11-06 11:34:02.341817: I tensorflow/core/common_runtime/gpu/gpu_device.cc:1525] Created device /device:GPU:2 with 14657 MB memory:  -> device: 2, name: Tesla V100-PCIE-16GB, pci bus id: 0000:08:00.0, compute capability: 7.0\n"
     ]
    },
    {
     "name": "stdout",
     "output_type": "stream",
     "text": [
      "Epoch 1/200\n",
      "36/36 [==============================] - ETA: 0s - loss: 0.0168 - semantic_0_loss: 0.0041 - semantic_1_loss: 0.0105 - semantic_2_loss: 0.0022WARNING:tensorflow:Can save best model only with val_loss available, skipping.\n"
     ]
    },
    {
     "name": "stderr",
     "output_type": "stream",
     "text": [
      "WARNING:tensorflow:Can save best model only with val_loss available, skipping.\n"
     ]
    },
    {
     "name": "stdout",
     "output_type": "stream",
     "text": [
      "36/36 [==============================] - 33s 559ms/step - loss: 0.0168 - semantic_0_loss: 0.0041 - semantic_1_loss: 0.0105 - semantic_2_loss: 0.0022 - lr: 1.0000e-04\n",
      "Epoch 2/200\n",
      "36/36 [==============================] - ETA: 0s - loss: 0.0140 - semantic_0_loss: 0.0035 - semantic_1_loss: 0.0089 - semantic_2_loss: 0.0016WARNING:tensorflow:Can save best model only with val_loss available, skipping.\n"
     ]
    },
    {
     "name": "stderr",
     "output_type": "stream",
     "text": [
      "WARNING:tensorflow:Can save best model only with val_loss available, skipping.\n"
     ]
    },
    {
     "name": "stdout",
     "output_type": "stream",
     "text": [
      "36/36 [==============================] - 21s 567ms/step - loss: 0.0140 - semantic_0_loss: 0.0035 - semantic_1_loss: 0.0089 - semantic_2_loss: 0.0016 - lr: 9.9000e-05\n",
      "Epoch 3/200\n",
      "36/36 [==============================] - ETA: 0s - loss: 0.0141 - semantic_0_loss: 0.0036 - semantic_1_loss: 0.0090 - semantic_2_loss: 0.0016WARNING:tensorflow:Can save best model only with val_loss available, skipping.\n"
     ]
    },
    {
     "name": "stderr",
     "output_type": "stream",
     "text": [
      "WARNING:tensorflow:Can save best model only with val_loss available, skipping.\n"
     ]
    },
    {
     "name": "stdout",
     "output_type": "stream",
     "text": [
      "36/36 [==============================] - 20s 563ms/step - loss: 0.0141 - semantic_0_loss: 0.0036 - semantic_1_loss: 0.0090 - semantic_2_loss: 0.0016 - lr: 9.8010e-05\n",
      "Epoch 4/200\n",
      "36/36 [==============================] - ETA: 0s - loss: 0.0140 - semantic_0_loss: 0.0035 - semantic_1_loss: 0.0090 - semantic_2_loss: 0.0016WARNING:tensorflow:Can save best model only with val_loss available, skipping.\n"
     ]
    },
    {
     "name": "stderr",
     "output_type": "stream",
     "text": [
      "WARNING:tensorflow:Can save best model only with val_loss available, skipping.\n"
     ]
    },
    {
     "name": "stdout",
     "output_type": "stream",
     "text": [
      "36/36 [==============================] - 21s 563ms/step - loss: 0.0140 - semantic_0_loss: 0.0035 - semantic_1_loss: 0.0090 - semantic_2_loss: 0.0016 - lr: 9.7030e-05\n",
      "Epoch 5/200\n",
      "36/36 [==============================] - ETA: 0s - loss: 0.0135 - semantic_0_loss: 0.0034 - semantic_1_loss: 0.0086 - semantic_2_loss: 0.0015WARNING:tensorflow:Can save best model only with val_loss available, skipping.\n"
     ]
    },
    {
     "name": "stderr",
     "output_type": "stream",
     "text": [
      "WARNING:tensorflow:Can save best model only with val_loss available, skipping.\n"
     ]
    },
    {
     "name": "stdout",
     "output_type": "stream",
     "text": [
      "36/36 [==============================] - 20s 562ms/step - loss: 0.0135 - semantic_0_loss: 0.0034 - semantic_1_loss: 0.0086 - semantic_2_loss: 0.0015 - lr: 9.6060e-05\n",
      "Epoch 6/200\n",
      "36/36 [==============================] - ETA: 0s - loss: 0.0134 - semantic_0_loss: 0.0034 - semantic_1_loss: 0.0085 - semantic_2_loss: 0.0015WARNING:tensorflow:Can save best model only with val_loss available, skipping.\n"
     ]
    },
    {
     "name": "stderr",
     "output_type": "stream",
     "text": [
      "WARNING:tensorflow:Can save best model only with val_loss available, skipping.\n"
     ]
    },
    {
     "name": "stdout",
     "output_type": "stream",
     "text": [
      "36/36 [==============================] - 21s 568ms/step - loss: 0.0134 - semantic_0_loss: 0.0034 - semantic_1_loss: 0.0085 - semantic_2_loss: 0.0015 - lr: 9.5099e-05\n",
      "Epoch 7/200\n",
      "36/36 [==============================] - ETA: 0s - loss: 0.0134 - semantic_0_loss: 0.0034 - semantic_1_loss: 0.0085 - semantic_2_loss: 0.0015WARNING:tensorflow:Can save best model only with val_loss available, skipping.\n"
     ]
    },
    {
     "name": "stderr",
     "output_type": "stream",
     "text": [
      "WARNING:tensorflow:Can save best model only with val_loss available, skipping.\n"
     ]
    },
    {
     "name": "stdout",
     "output_type": "stream",
     "text": [
      "36/36 [==============================] - 20s 561ms/step - loss: 0.0134 - semantic_0_loss: 0.0034 - semantic_1_loss: 0.0085 - semantic_2_loss: 0.0015 - lr: 9.4148e-05\n",
      "Epoch 8/200\n",
      "36/36 [==============================] - ETA: 0s - loss: 0.0133 - semantic_0_loss: 0.0033 - semantic_1_loss: 0.0085 - semantic_2_loss: 0.0015WARNING:tensorflow:Can save best model only with val_loss available, skipping.\n"
     ]
    },
    {
     "name": "stderr",
     "output_type": "stream",
     "text": [
      "WARNING:tensorflow:Can save best model only with val_loss available, skipping.\n"
     ]
    },
    {
     "name": "stdout",
     "output_type": "stream",
     "text": [
      "36/36 [==============================] - 21s 567ms/step - loss: 0.0133 - semantic_0_loss: 0.0033 - semantic_1_loss: 0.0085 - semantic_2_loss: 0.0015 - lr: 9.3207e-05\n",
      "Epoch 9/200\n",
      "36/36 [==============================] - ETA: 0s - loss: 0.0131 - semantic_0_loss: 0.0033 - semantic_1_loss: 0.0084 - semantic_2_loss: 0.0015WARNING:tensorflow:Can save best model only with val_loss available, skipping.\n"
     ]
    },
    {
     "name": "stderr",
     "output_type": "stream",
     "text": [
      "WARNING:tensorflow:Can save best model only with val_loss available, skipping.\n"
     ]
    },
    {
     "name": "stdout",
     "output_type": "stream",
     "text": [
      "36/36 [==============================] - 21s 569ms/step - loss: 0.0131 - semantic_0_loss: 0.0033 - semantic_1_loss: 0.0084 - semantic_2_loss: 0.0015 - lr: 9.2274e-05\n",
      "Epoch 10/200\n",
      "36/36 [==============================] - ETA: 0s - loss: 0.0133 - semantic_0_loss: 0.0034 - semantic_1_loss: 0.0085 - semantic_2_loss: 0.0015WARNING:tensorflow:Can save best model only with val_loss available, skipping.\n"
     ]
    },
    {
     "name": "stderr",
     "output_type": "stream",
     "text": [
      "WARNING:tensorflow:Can save best model only with val_loss available, skipping.\n"
     ]
    },
    {
     "name": "stdout",
     "output_type": "stream",
     "text": [
      "36/36 [==============================] - 20s 566ms/step - loss: 0.0133 - semantic_0_loss: 0.0034 - semantic_1_loss: 0.0085 - semantic_2_loss: 0.0015 - lr: 9.1352e-05\n",
      "Epoch 11/200\n",
      "36/36 [==============================] - ETA: 0s - loss: 0.0130 - semantic_0_loss: 0.0033 - semantic_1_loss: 0.0083 - semantic_2_loss: 0.0014WARNING:tensorflow:Can save best model only with val_loss available, skipping.\n"
     ]
    },
    {
     "name": "stderr",
     "output_type": "stream",
     "text": [
      "WARNING:tensorflow:Can save best model only with val_loss available, skipping.\n"
     ]
    },
    {
     "name": "stdout",
     "output_type": "stream",
     "text": [
      "36/36 [==============================] - 21s 568ms/step - loss: 0.0130 - semantic_0_loss: 0.0033 - semantic_1_loss: 0.0083 - semantic_2_loss: 0.0014 - lr: 9.0438e-05\n",
      "Epoch 12/200\n",
      "36/36 [==============================] - ETA: 0s - loss: 0.0128 - semantic_0_loss: 0.0033 - semantic_1_loss: 0.0081 - semantic_2_loss: 0.0014WARNING:tensorflow:Can save best model only with val_loss available, skipping.\n"
     ]
    },
    {
     "name": "stderr",
     "output_type": "stream",
     "text": [
      "WARNING:tensorflow:Can save best model only with val_loss available, skipping.\n"
     ]
    },
    {
     "name": "stdout",
     "output_type": "stream",
     "text": [
      "36/36 [==============================] - 21s 563ms/step - loss: 0.0128 - semantic_0_loss: 0.0033 - semantic_1_loss: 0.0081 - semantic_2_loss: 0.0014 - lr: 8.9534e-05\n",
      "Epoch 13/200\n",
      "36/36 [==============================] - ETA: 0s - loss: 0.0129 - semantic_0_loss: 0.0033 - semantic_1_loss: 0.0082 - semantic_2_loss: 0.0014WARNING:tensorflow:Can save best model only with val_loss available, skipping.\n"
     ]
    },
    {
     "name": "stderr",
     "output_type": "stream",
     "text": [
      "WARNING:tensorflow:Can save best model only with val_loss available, skipping.\n"
     ]
    },
    {
     "name": "stdout",
     "output_type": "stream",
     "text": [
      "36/36 [==============================] - 21s 564ms/step - loss: 0.0129 - semantic_0_loss: 0.0033 - semantic_1_loss: 0.0082 - semantic_2_loss: 0.0014 - lr: 8.8638e-05\n",
      "Epoch 14/200\n",
      "36/36 [==============================] - ETA: 0s - loss: 0.0130 - semantic_0_loss: 0.0033 - semantic_1_loss: 0.0082 - semantic_2_loss: 0.0014WARNING:tensorflow:Can save best model only with val_loss available, skipping.\n"
     ]
    },
    {
     "name": "stderr",
     "output_type": "stream",
     "text": [
      "WARNING:tensorflow:Can save best model only with val_loss available, skipping.\n"
     ]
    },
    {
     "name": "stdout",
     "output_type": "stream",
     "text": [
      "36/36 [==============================] - 21s 573ms/step - loss: 0.0130 - semantic_0_loss: 0.0033 - semantic_1_loss: 0.0082 - semantic_2_loss: 0.0014 - lr: 8.7752e-05\n",
      "Epoch 15/200\n",
      "36/36 [==============================] - ETA: 0s - loss: 0.0128 - semantic_0_loss: 0.0033 - semantic_1_loss: 0.0081 - semantic_2_loss: 0.0014WARNING:tensorflow:Can save best model only with val_loss available, skipping.\n"
     ]
    },
    {
     "name": "stderr",
     "output_type": "stream",
     "text": [
      "WARNING:tensorflow:Can save best model only with val_loss available, skipping.\n"
     ]
    },
    {
     "name": "stdout",
     "output_type": "stream",
     "text": [
      "36/36 [==============================] - 21s 570ms/step - loss: 0.0128 - semantic_0_loss: 0.0033 - semantic_1_loss: 0.0081 - semantic_2_loss: 0.0014 - lr: 8.6875e-05\n",
      "Epoch 16/200\n",
      "36/36 [==============================] - ETA: 0s - loss: 0.0127 - semantic_0_loss: 0.0032 - semantic_1_loss: 0.0081 - semantic_2_loss: 0.0014WARNING:tensorflow:Can save best model only with val_loss available, skipping.\n"
     ]
    },
    {
     "name": "stderr",
     "output_type": "stream",
     "text": [
      "WARNING:tensorflow:Can save best model only with val_loss available, skipping.\n"
     ]
    },
    {
     "name": "stdout",
     "output_type": "stream",
     "text": [
      "36/36 [==============================] - 22s 599ms/step - loss: 0.0127 - semantic_0_loss: 0.0032 - semantic_1_loss: 0.0081 - semantic_2_loss: 0.0014 - lr: 8.6006e-05\n",
      "Epoch 17/200\n",
      "36/36 [==============================] - ETA: 0s - loss: 0.0127 - semantic_0_loss: 0.0032 - semantic_1_loss: 0.0080 - semantic_2_loss: 0.0014WARNING:tensorflow:Can save best model only with val_loss available, skipping.\n"
     ]
    },
    {
     "name": "stderr",
     "output_type": "stream",
     "text": [
      "WARNING:tensorflow:Can save best model only with val_loss available, skipping.\n"
     ]
    },
    {
     "name": "stdout",
     "output_type": "stream",
     "text": [
      "36/36 [==============================] - 20s 562ms/step - loss: 0.0127 - semantic_0_loss: 0.0032 - semantic_1_loss: 0.0080 - semantic_2_loss: 0.0014 - lr: 8.5146e-05\n",
      "Epoch 18/200\n",
      "36/36 [==============================] - ETA: 0s - loss: 0.0123 - semantic_0_loss: 0.0032 - semantic_1_loss: 0.0078 - semantic_2_loss: 0.0014WARNING:tensorflow:Can save best model only with val_loss available, skipping.\n"
     ]
    },
    {
     "name": "stderr",
     "output_type": "stream",
     "text": [
      "WARNING:tensorflow:Can save best model only with val_loss available, skipping.\n"
     ]
    },
    {
     "name": "stdout",
     "output_type": "stream",
     "text": [
      "36/36 [==============================] - 20s 563ms/step - loss: 0.0123 - semantic_0_loss: 0.0032 - semantic_1_loss: 0.0078 - semantic_2_loss: 0.0014 - lr: 8.4294e-05\n",
      "Epoch 19/200\n",
      "36/36 [==============================] - ETA: 0s - loss: 0.0126 - semantic_0_loss: 0.0032 - semantic_1_loss: 0.0080 - semantic_2_loss: 0.0014WARNING:tensorflow:Can save best model only with val_loss available, skipping.\n"
     ]
    },
    {
     "name": "stderr",
     "output_type": "stream",
     "text": [
      "WARNING:tensorflow:Can save best model only with val_loss available, skipping.\n"
     ]
    },
    {
     "name": "stdout",
     "output_type": "stream",
     "text": [
      "36/36 [==============================] - 20s 561ms/step - loss: 0.0126 - semantic_0_loss: 0.0032 - semantic_1_loss: 0.0080 - semantic_2_loss: 0.0014 - lr: 8.3451e-05\n",
      "Epoch 20/200\n",
      "36/36 [==============================] - ETA: 0s - loss: 0.0126 - semantic_0_loss: 0.0032 - semantic_1_loss: 0.0080 - semantic_2_loss: 0.0014WARNING:tensorflow:Can save best model only with val_loss available, skipping.\n"
     ]
    },
    {
     "name": "stderr",
     "output_type": "stream",
     "text": [
      "WARNING:tensorflow:Can save best model only with val_loss available, skipping.\n"
     ]
    },
    {
     "name": "stdout",
     "output_type": "stream",
     "text": [
      "36/36 [==============================] - 21s 569ms/step - loss: 0.0126 - semantic_0_loss: 0.0032 - semantic_1_loss: 0.0080 - semantic_2_loss: 0.0014 - lr: 8.2617e-05\n",
      "Epoch 21/200\n",
      "36/36 [==============================] - ETA: 0s - loss: 0.0124 - semantic_0_loss: 0.0032 - semantic_1_loss: 0.0079 - semantic_2_loss: 0.0014WARNING:tensorflow:Can save best model only with val_loss available, skipping.\n"
     ]
    },
    {
     "name": "stderr",
     "output_type": "stream",
     "text": [
      "WARNING:tensorflow:Can save best model only with val_loss available, skipping.\n"
     ]
    },
    {
     "name": "stdout",
     "output_type": "stream",
     "text": [
      "36/36 [==============================] - 20s 557ms/step - loss: 0.0124 - semantic_0_loss: 0.0032 - semantic_1_loss: 0.0079 - semantic_2_loss: 0.0014 - lr: 8.1791e-05\n",
      "Epoch 22/200\n",
      "36/36 [==============================] - ETA: 0s - loss: 0.0123 - semantic_0_loss: 0.0031 - semantic_1_loss: 0.0078 - semantic_2_loss: 0.0014WARNING:tensorflow:Can save best model only with val_loss available, skipping.\n"
     ]
    },
    {
     "name": "stderr",
     "output_type": "stream",
     "text": [
      "WARNING:tensorflow:Can save best model only with val_loss available, skipping.\n"
     ]
    },
    {
     "name": "stdout",
     "output_type": "stream",
     "text": [
      "36/36 [==============================] - 21s 565ms/step - loss: 0.0123 - semantic_0_loss: 0.0031 - semantic_1_loss: 0.0078 - semantic_2_loss: 0.0014 - lr: 8.0973e-05\n",
      "Epoch 23/200\n",
      "36/36 [==============================] - ETA: 0s - loss: 0.0125 - semantic_0_loss: 0.0031 - semantic_1_loss: 0.0079 - semantic_2_loss: 0.0014WARNING:tensorflow:Can save best model only with val_loss available, skipping.\n"
     ]
    },
    {
     "name": "stderr",
     "output_type": "stream",
     "text": [
      "WARNING:tensorflow:Can save best model only with val_loss available, skipping.\n"
     ]
    },
    {
     "name": "stdout",
     "output_type": "stream",
     "text": [
      "36/36 [==============================] - 21s 564ms/step - loss: 0.0125 - semantic_0_loss: 0.0031 - semantic_1_loss: 0.0079 - semantic_2_loss: 0.0014 - lr: 8.0163e-05\n",
      "Epoch 24/200\n",
      "36/36 [==============================] - ETA: 0s - loss: 0.0125 - semantic_0_loss: 0.0032 - semantic_1_loss: 0.0079 - semantic_2_loss: 0.0014WARNING:tensorflow:Can save best model only with val_loss available, skipping.\n"
     ]
    },
    {
     "name": "stderr",
     "output_type": "stream",
     "text": [
      "WARNING:tensorflow:Can save best model only with val_loss available, skipping.\n"
     ]
    },
    {
     "name": "stdout",
     "output_type": "stream",
     "text": [
      "36/36 [==============================] - 21s 563ms/step - loss: 0.0125 - semantic_0_loss: 0.0032 - semantic_1_loss: 0.0079 - semantic_2_loss: 0.0014 - lr: 7.9361e-05\n",
      "Epoch 25/200\n",
      "36/36 [==============================] - ETA: 0s - loss: 0.0123 - semantic_0_loss: 0.0032 - semantic_1_loss: 0.0078 - semantic_2_loss: 0.0014WARNING:tensorflow:Can save best model only with val_loss available, skipping.\n"
     ]
    },
    {
     "name": "stderr",
     "output_type": "stream",
     "text": [
      "WARNING:tensorflow:Can save best model only with val_loss available, skipping.\n"
     ]
    },
    {
     "name": "stdout",
     "output_type": "stream",
     "text": [
      "36/36 [==============================] - 21s 564ms/step - loss: 0.0123 - semantic_0_loss: 0.0032 - semantic_1_loss: 0.0078 - semantic_2_loss: 0.0014 - lr: 7.8568e-05\n",
      "Epoch 26/200\n",
      "36/36 [==============================] - ETA: 0s - loss: 0.0124 - semantic_0_loss: 0.0032 - semantic_1_loss: 0.0079 - semantic_2_loss: 0.0014WARNING:tensorflow:Can save best model only with val_loss available, skipping.\n"
     ]
    },
    {
     "name": "stderr",
     "output_type": "stream",
     "text": [
      "WARNING:tensorflow:Can save best model only with val_loss available, skipping.\n"
     ]
    },
    {
     "name": "stdout",
     "output_type": "stream",
     "text": [
      "36/36 [==============================] - 20s 559ms/step - loss: 0.0124 - semantic_0_loss: 0.0032 - semantic_1_loss: 0.0079 - semantic_2_loss: 0.0014 - lr: 7.7782e-05\n",
      "Epoch 27/200\n",
      "36/36 [==============================] - ETA: 0s - loss: 0.0122 - semantic_0_loss: 0.0031 - semantic_1_loss: 0.0078 - semantic_2_loss: 0.0014WARNING:tensorflow:Can save best model only with val_loss available, skipping.\n"
     ]
    },
    {
     "name": "stderr",
     "output_type": "stream",
     "text": [
      "WARNING:tensorflow:Can save best model only with val_loss available, skipping.\n"
     ]
    },
    {
     "name": "stdout",
     "output_type": "stream",
     "text": [
      "36/36 [==============================] - 20s 561ms/step - loss: 0.0122 - semantic_0_loss: 0.0031 - semantic_1_loss: 0.0078 - semantic_2_loss: 0.0014 - lr: 7.7004e-05\n",
      "Epoch 28/200\n",
      "36/36 [==============================] - ETA: 0s - loss: 0.0122 - semantic_0_loss: 0.0031 - semantic_1_loss: 0.0077 - semantic_2_loss: 0.0014WARNING:tensorflow:Can save best model only with val_loss available, skipping.\n"
     ]
    },
    {
     "name": "stderr",
     "output_type": "stream",
     "text": [
      "WARNING:tensorflow:Can save best model only with val_loss available, skipping.\n"
     ]
    },
    {
     "name": "stdout",
     "output_type": "stream",
     "text": [
      "36/36 [==============================] - 20s 563ms/step - loss: 0.0122 - semantic_0_loss: 0.0031 - semantic_1_loss: 0.0077 - semantic_2_loss: 0.0014 - lr: 7.6234e-05\n",
      "Epoch 29/200\n",
      "36/36 [==============================] - ETA: 0s - loss: 0.0121 - semantic_0_loss: 0.0031 - semantic_1_loss: 0.0077 - semantic_2_loss: 0.0013WARNING:tensorflow:Can save best model only with val_loss available, skipping.\n"
     ]
    },
    {
     "name": "stderr",
     "output_type": "stream",
     "text": [
      "WARNING:tensorflow:Can save best model only with val_loss available, skipping.\n"
     ]
    },
    {
     "name": "stdout",
     "output_type": "stream",
     "text": [
      "36/36 [==============================] - 20s 563ms/step - loss: 0.0121 - semantic_0_loss: 0.0031 - semantic_1_loss: 0.0077 - semantic_2_loss: 0.0013 - lr: 7.5472e-05\n",
      "Epoch 30/200\n",
      "36/36 [==============================] - ETA: 0s - loss: 0.0124 - semantic_0_loss: 0.0032 - semantic_1_loss: 0.0079 - semantic_2_loss: 0.0014WARNING:tensorflow:Can save best model only with val_loss available, skipping.\n"
     ]
    },
    {
     "name": "stderr",
     "output_type": "stream",
     "text": [
      "WARNING:tensorflow:Can save best model only with val_loss available, skipping.\n"
     ]
    },
    {
     "name": "stdout",
     "output_type": "stream",
     "text": [
      "36/36 [==============================] - 21s 566ms/step - loss: 0.0124 - semantic_0_loss: 0.0032 - semantic_1_loss: 0.0079 - semantic_2_loss: 0.0014 - lr: 7.4717e-05\n",
      "Epoch 31/200\n",
      "36/36 [==============================] - ETA: 0s - loss: 0.0122 - semantic_0_loss: 0.0031 - semantic_1_loss: 0.0077 - semantic_2_loss: 0.0014WARNING:tensorflow:Can save best model only with val_loss available, skipping.\n"
     ]
    },
    {
     "name": "stderr",
     "output_type": "stream",
     "text": [
      "WARNING:tensorflow:Can save best model only with val_loss available, skipping.\n"
     ]
    },
    {
     "name": "stdout",
     "output_type": "stream",
     "text": [
      "36/36 [==============================] - 20s 558ms/step - loss: 0.0122 - semantic_0_loss: 0.0031 - semantic_1_loss: 0.0077 - semantic_2_loss: 0.0014 - lr: 7.3970e-05\n",
      "Epoch 32/200\n",
      "36/36 [==============================] - ETA: 0s - loss: 0.0122 - semantic_0_loss: 0.0031 - semantic_1_loss: 0.0077 - semantic_2_loss: 0.0014WARNING:tensorflow:Can save best model only with val_loss available, skipping.\n"
     ]
    },
    {
     "name": "stderr",
     "output_type": "stream",
     "text": [
      "WARNING:tensorflow:Can save best model only with val_loss available, skipping.\n"
     ]
    },
    {
     "name": "stdout",
     "output_type": "stream",
     "text": [
      "36/36 [==============================] - 20s 563ms/step - loss: 0.0122 - semantic_0_loss: 0.0031 - semantic_1_loss: 0.0077 - semantic_2_loss: 0.0014 - lr: 7.3230e-05\n",
      "Epoch 33/200\n",
      "36/36 [==============================] - ETA: 0s - loss: 0.0121 - semantic_0_loss: 0.0031 - semantic_1_loss: 0.0077 - semantic_2_loss: 0.0014WARNING:tensorflow:Can save best model only with val_loss available, skipping.\n"
     ]
    },
    {
     "name": "stderr",
     "output_type": "stream",
     "text": [
      "WARNING:tensorflow:Can save best model only with val_loss available, skipping.\n"
     ]
    },
    {
     "name": "stdout",
     "output_type": "stream",
     "text": [
      "36/36 [==============================] - 21s 565ms/step - loss: 0.0121 - semantic_0_loss: 0.0031 - semantic_1_loss: 0.0077 - semantic_2_loss: 0.0014 - lr: 7.2498e-05\n",
      "Epoch 34/200\n",
      "36/36 [==============================] - ETA: 0s - loss: 0.0120 - semantic_0_loss: 0.0031 - semantic_1_loss: 0.0075 - semantic_2_loss: 0.0013WARNING:tensorflow:Can save best model only with val_loss available, skipping.\n"
     ]
    },
    {
     "name": "stderr",
     "output_type": "stream",
     "text": [
      "WARNING:tensorflow:Can save best model only with val_loss available, skipping.\n"
     ]
    },
    {
     "name": "stdout",
     "output_type": "stream",
     "text": [
      "36/36 [==============================] - 21s 563ms/step - loss: 0.0120 - semantic_0_loss: 0.0031 - semantic_1_loss: 0.0075 - semantic_2_loss: 0.0013 - lr: 7.1773e-05\n",
      "Epoch 35/200\n",
      "36/36 [==============================] - ETA: 0s - loss: 0.0120 - semantic_0_loss: 0.0031 - semantic_1_loss: 0.0076 - semantic_2_loss: 0.0013WARNING:tensorflow:Can save best model only with val_loss available, skipping.\n"
     ]
    },
    {
     "name": "stderr",
     "output_type": "stream",
     "text": [
      "WARNING:tensorflow:Can save best model only with val_loss available, skipping.\n"
     ]
    },
    {
     "name": "stdout",
     "output_type": "stream",
     "text": [
      "36/36 [==============================] - 21s 571ms/step - loss: 0.0120 - semantic_0_loss: 0.0031 - semantic_1_loss: 0.0076 - semantic_2_loss: 0.0013 - lr: 7.1055e-05\n",
      "Epoch 36/200\n",
      "36/36 [==============================] - ETA: 0s - loss: 0.0122 - semantic_0_loss: 0.0031 - semantic_1_loss: 0.0077 - semantic_2_loss: 0.0013WARNING:tensorflow:Can save best model only with val_loss available, skipping.\n"
     ]
    },
    {
     "name": "stderr",
     "output_type": "stream",
     "text": [
      "WARNING:tensorflow:Can save best model only with val_loss available, skipping.\n"
     ]
    },
    {
     "name": "stdout",
     "output_type": "stream",
     "text": [
      "36/36 [==============================] - 21s 573ms/step - loss: 0.0122 - semantic_0_loss: 0.0031 - semantic_1_loss: 0.0077 - semantic_2_loss: 0.0013 - lr: 7.0345e-05\n",
      "Epoch 37/200\n",
      "36/36 [==============================] - ETA: 0s - loss: 0.0120 - semantic_0_loss: 0.0031 - semantic_1_loss: 0.0076 - semantic_2_loss: 0.0013WARNING:tensorflow:Can save best model only with val_loss available, skipping.\n"
     ]
    },
    {
     "name": "stderr",
     "output_type": "stream",
     "text": [
      "WARNING:tensorflow:Can save best model only with val_loss available, skipping.\n"
     ]
    },
    {
     "name": "stdout",
     "output_type": "stream",
     "text": [
      "36/36 [==============================] - 20s 561ms/step - loss: 0.0120 - semantic_0_loss: 0.0031 - semantic_1_loss: 0.0076 - semantic_2_loss: 0.0013 - lr: 6.9641e-05\n",
      "Epoch 38/200\n",
      "36/36 [==============================] - ETA: 0s - loss: 0.0119 - semantic_0_loss: 0.0031 - semantic_1_loss: 0.0075 - semantic_2_loss: 0.0013WARNING:tensorflow:Can save best model only with val_loss available, skipping.\n"
     ]
    },
    {
     "name": "stderr",
     "output_type": "stream",
     "text": [
      "WARNING:tensorflow:Can save best model only with val_loss available, skipping.\n"
     ]
    },
    {
     "name": "stdout",
     "output_type": "stream",
     "text": [
      "36/36 [==============================] - 21s 569ms/step - loss: 0.0119 - semantic_0_loss: 0.0031 - semantic_1_loss: 0.0075 - semantic_2_loss: 0.0013 - lr: 6.8945e-05\n",
      "Epoch 39/200\n",
      "36/36 [==============================] - ETA: 0s - loss: 0.0119 - semantic_0_loss: 0.0031 - semantic_1_loss: 0.0075 - semantic_2_loss: 0.0013WARNING:tensorflow:Can save best model only with val_loss available, skipping.\n"
     ]
    },
    {
     "name": "stderr",
     "output_type": "stream",
     "text": [
      "WARNING:tensorflow:Can save best model only with val_loss available, skipping.\n"
     ]
    },
    {
     "name": "stdout",
     "output_type": "stream",
     "text": [
      "36/36 [==============================] - 21s 564ms/step - loss: 0.0119 - semantic_0_loss: 0.0031 - semantic_1_loss: 0.0075 - semantic_2_loss: 0.0013 - lr: 6.8255e-05\n",
      "Epoch 40/200\n",
      "36/36 [==============================] - ETA: 0s - loss: 0.0120 - semantic_0_loss: 0.0031 - semantic_1_loss: 0.0076 - semantic_2_loss: 0.0013WARNING:tensorflow:Can save best model only with val_loss available, skipping.\n"
     ]
    },
    {
     "name": "stderr",
     "output_type": "stream",
     "text": [
      "WARNING:tensorflow:Can save best model only with val_loss available, skipping.\n"
     ]
    },
    {
     "name": "stdout",
     "output_type": "stream",
     "text": [
      "36/36 [==============================] - 21s 570ms/step - loss: 0.0120 - semantic_0_loss: 0.0031 - semantic_1_loss: 0.0076 - semantic_2_loss: 0.0013 - lr: 6.7573e-05\n",
      "Epoch 41/200\n",
      "36/36 [==============================] - ETA: 0s - loss: 0.0118 - semantic_0_loss: 0.0031 - semantic_1_loss: 0.0075 - semantic_2_loss: 0.0013WARNING:tensorflow:Can save best model only with val_loss available, skipping.\n"
     ]
    },
    {
     "name": "stderr",
     "output_type": "stream",
     "text": [
      "WARNING:tensorflow:Can save best model only with val_loss available, skipping.\n"
     ]
    },
    {
     "name": "stdout",
     "output_type": "stream",
     "text": [
      "36/36 [==============================] - 20s 560ms/step - loss: 0.0118 - semantic_0_loss: 0.0031 - semantic_1_loss: 0.0075 - semantic_2_loss: 0.0013 - lr: 6.6897e-05\n",
      "Epoch 42/200\n",
      "36/36 [==============================] - ETA: 0s - loss: 0.0117 - semantic_0_loss: 0.0030 - semantic_1_loss: 0.0074 - semantic_2_loss: 0.0013WARNING:tensorflow:Can save best model only with val_loss available, skipping.\n"
     ]
    },
    {
     "name": "stderr",
     "output_type": "stream",
     "text": [
      "WARNING:tensorflow:Can save best model only with val_loss available, skipping.\n"
     ]
    },
    {
     "name": "stdout",
     "output_type": "stream",
     "text": [
      "36/36 [==============================] - 21s 569ms/step - loss: 0.0117 - semantic_0_loss: 0.0030 - semantic_1_loss: 0.0074 - semantic_2_loss: 0.0013 - lr: 6.6228e-05\n",
      "Epoch 43/200\n",
      "36/36 [==============================] - ETA: 0s - loss: 0.0117 - semantic_0_loss: 0.0030 - semantic_1_loss: 0.0074 - semantic_2_loss: 0.0013WARNING:tensorflow:Can save best model only with val_loss available, skipping.\n"
     ]
    },
    {
     "name": "stderr",
     "output_type": "stream",
     "text": [
      "WARNING:tensorflow:Can save best model only with val_loss available, skipping.\n"
     ]
    },
    {
     "name": "stdout",
     "output_type": "stream",
     "text": [
      "36/36 [==============================] - 21s 565ms/step - loss: 0.0117 - semantic_0_loss: 0.0030 - semantic_1_loss: 0.0074 - semantic_2_loss: 0.0013 - lr: 6.5566e-05\n",
      "Epoch 44/200\n",
      "36/36 [==============================] - ETA: 0s - loss: 0.0117 - semantic_0_loss: 0.0030 - semantic_1_loss: 0.0073 - semantic_2_loss: 0.0013WARNING:tensorflow:Can save best model only with val_loss available, skipping.\n"
     ]
    },
    {
     "name": "stderr",
     "output_type": "stream",
     "text": [
      "WARNING:tensorflow:Can save best model only with val_loss available, skipping.\n"
     ]
    },
    {
     "name": "stdout",
     "output_type": "stream",
     "text": [
      "36/36 [==============================] - 21s 570ms/step - loss: 0.0117 - semantic_0_loss: 0.0030 - semantic_1_loss: 0.0073 - semantic_2_loss: 0.0013 - lr: 6.4910e-05\n",
      "Epoch 45/200\n",
      "36/36 [==============================] - ETA: 0s - loss: 0.0115 - semantic_0_loss: 0.0030 - semantic_1_loss: 0.0072 - semantic_2_loss: 0.0013WARNING:tensorflow:Can save best model only with val_loss available, skipping.\n"
     ]
    },
    {
     "name": "stderr",
     "output_type": "stream",
     "text": [
      "WARNING:tensorflow:Can save best model only with val_loss available, skipping.\n"
     ]
    },
    {
     "name": "stdout",
     "output_type": "stream",
     "text": [
      "36/36 [==============================] - 20s 563ms/step - loss: 0.0115 - semantic_0_loss: 0.0030 - semantic_1_loss: 0.0072 - semantic_2_loss: 0.0013 - lr: 6.4261e-05\n",
      "Epoch 46/200\n",
      "36/36 [==============================] - ETA: 0s - loss: 0.0120 - semantic_0_loss: 0.0031 - semantic_1_loss: 0.0075 - semantic_2_loss: 0.0013WARNING:tensorflow:Can save best model only with val_loss available, skipping.\n"
     ]
    },
    {
     "name": "stderr",
     "output_type": "stream",
     "text": [
      "WARNING:tensorflow:Can save best model only with val_loss available, skipping.\n"
     ]
    },
    {
     "name": "stdout",
     "output_type": "stream",
     "text": [
      "36/36 [==============================] - 21s 564ms/step - loss: 0.0120 - semantic_0_loss: 0.0031 - semantic_1_loss: 0.0075 - semantic_2_loss: 0.0013 - lr: 6.3619e-05\n",
      "Epoch 47/200\n",
      "36/36 [==============================] - ETA: 0s - loss: 0.0118 - semantic_0_loss: 0.0030 - semantic_1_loss: 0.0075 - semantic_2_loss: 0.0013WARNING:tensorflow:Can save best model only with val_loss available, skipping.\n"
     ]
    },
    {
     "name": "stderr",
     "output_type": "stream",
     "text": [
      "WARNING:tensorflow:Can save best model only with val_loss available, skipping.\n"
     ]
    },
    {
     "name": "stdout",
     "output_type": "stream",
     "text": [
      "36/36 [==============================] - 21s 564ms/step - loss: 0.0118 - semantic_0_loss: 0.0030 - semantic_1_loss: 0.0075 - semantic_2_loss: 0.0013 - lr: 6.2982e-05\n",
      "Epoch 48/200\n",
      "36/36 [==============================] - ETA: 0s - loss: 0.0118 - semantic_0_loss: 0.0031 - semantic_1_loss: 0.0074 - semantic_2_loss: 0.0013WARNING:tensorflow:Can save best model only with val_loss available, skipping.\n"
     ]
    },
    {
     "name": "stderr",
     "output_type": "stream",
     "text": [
      "WARNING:tensorflow:Can save best model only with val_loss available, skipping.\n"
     ]
    },
    {
     "name": "stdout",
     "output_type": "stream",
     "text": [
      "36/36 [==============================] - 21s 567ms/step - loss: 0.0118 - semantic_0_loss: 0.0031 - semantic_1_loss: 0.0074 - semantic_2_loss: 0.0013 - lr: 6.2353e-05\n",
      "Epoch 49/200\n",
      "36/36 [==============================] - ETA: 0s - loss: 0.0115 - semantic_0_loss: 0.0030 - semantic_1_loss: 0.0072 - semantic_2_loss: 0.0013WARNING:tensorflow:Can save best model only with val_loss available, skipping.\n"
     ]
    },
    {
     "name": "stderr",
     "output_type": "stream",
     "text": [
      "WARNING:tensorflow:Can save best model only with val_loss available, skipping.\n"
     ]
    },
    {
     "name": "stdout",
     "output_type": "stream",
     "text": [
      "36/36 [==============================] - 20s 565ms/step - loss: 0.0115 - semantic_0_loss: 0.0030 - semantic_1_loss: 0.0072 - semantic_2_loss: 0.0013 - lr: 6.1729e-05\n",
      "Epoch 50/200\n",
      "36/36 [==============================] - ETA: 0s - loss: 0.0117 - semantic_0_loss: 0.0030 - semantic_1_loss: 0.0074 - semantic_2_loss: 0.0013WARNING:tensorflow:Can save best model only with val_loss available, skipping.\n"
     ]
    },
    {
     "name": "stderr",
     "output_type": "stream",
     "text": [
      "WARNING:tensorflow:Can save best model only with val_loss available, skipping.\n"
     ]
    },
    {
     "name": "stdout",
     "output_type": "stream",
     "text": [
      "36/36 [==============================] - 20s 560ms/step - loss: 0.0117 - semantic_0_loss: 0.0030 - semantic_1_loss: 0.0074 - semantic_2_loss: 0.0013 - lr: 6.1112e-05\n",
      "Epoch 51/200\n",
      "36/36 [==============================] - ETA: 0s - loss: 0.0118 - semantic_0_loss: 0.0031 - semantic_1_loss: 0.0074 - semantic_2_loss: 0.0013WARNING:tensorflow:Can save best model only with val_loss available, skipping.\n"
     ]
    },
    {
     "name": "stderr",
     "output_type": "stream",
     "text": [
      "WARNING:tensorflow:Can save best model only with val_loss available, skipping.\n"
     ]
    },
    {
     "name": "stdout",
     "output_type": "stream",
     "text": [
      "36/36 [==============================] - 21s 563ms/step - loss: 0.0118 - semantic_0_loss: 0.0031 - semantic_1_loss: 0.0074 - semantic_2_loss: 0.0013 - lr: 6.0501e-05\n",
      "Epoch 52/200\n",
      "36/36 [==============================] - ETA: 0s - loss: 0.0116 - semantic_0_loss: 0.0030 - semantic_1_loss: 0.0073 - semantic_2_loss: 0.0013WARNING:tensorflow:Can save best model only with val_loss available, skipping.\n"
     ]
    },
    {
     "name": "stderr",
     "output_type": "stream",
     "text": [
      "WARNING:tensorflow:Can save best model only with val_loss available, skipping.\n"
     ]
    },
    {
     "name": "stdout",
     "output_type": "stream",
     "text": [
      "36/36 [==============================] - 21s 568ms/step - loss: 0.0116 - semantic_0_loss: 0.0030 - semantic_1_loss: 0.0073 - semantic_2_loss: 0.0013 - lr: 5.9896e-05\n",
      "Epoch 53/200\n",
      "36/36 [==============================] - ETA: 0s - loss: 0.0115 - semantic_0_loss: 0.0030 - semantic_1_loss: 0.0073 - semantic_2_loss: 0.0013WARNING:tensorflow:Can save best model only with val_loss available, skipping.\n"
     ]
    },
    {
     "name": "stderr",
     "output_type": "stream",
     "text": [
      "WARNING:tensorflow:Can save best model only with val_loss available, skipping.\n"
     ]
    },
    {
     "name": "stdout",
     "output_type": "stream",
     "text": [
      "36/36 [==============================] - 20s 564ms/step - loss: 0.0115 - semantic_0_loss: 0.0030 - semantic_1_loss: 0.0073 - semantic_2_loss: 0.0013 - lr: 5.9297e-05\n",
      "Epoch 54/200\n",
      "36/36 [==============================] - ETA: 0s - loss: 0.0117 - semantic_0_loss: 0.0030 - semantic_1_loss: 0.0074 - semantic_2_loss: 0.0013WARNING:tensorflow:Can save best model only with val_loss available, skipping.\n"
     ]
    },
    {
     "name": "stderr",
     "output_type": "stream",
     "text": [
      "WARNING:tensorflow:Can save best model only with val_loss available, skipping.\n"
     ]
    },
    {
     "name": "stdout",
     "output_type": "stream",
     "text": [
      "36/36 [==============================] - 20s 562ms/step - loss: 0.0117 - semantic_0_loss: 0.0030 - semantic_1_loss: 0.0074 - semantic_2_loss: 0.0013 - lr: 5.8704e-05\n",
      "Epoch 55/200\n",
      "36/36 [==============================] - ETA: 0s - loss: 0.0115 - semantic_0_loss: 0.0030 - semantic_1_loss: 0.0072 - semantic_2_loss: 0.0013WARNING:tensorflow:Can save best model only with val_loss available, skipping.\n"
     ]
    },
    {
     "name": "stderr",
     "output_type": "stream",
     "text": [
      "WARNING:tensorflow:Can save best model only with val_loss available, skipping.\n"
     ]
    },
    {
     "name": "stdout",
     "output_type": "stream",
     "text": [
      "36/36 [==============================] - 20s 561ms/step - loss: 0.0115 - semantic_0_loss: 0.0030 - semantic_1_loss: 0.0072 - semantic_2_loss: 0.0013 - lr: 5.8117e-05\n",
      "Epoch 56/200\n",
      "36/36 [==============================] - ETA: 0s - loss: 0.0116 - semantic_0_loss: 0.0030 - semantic_1_loss: 0.0073 - semantic_2_loss: 0.0013WARNING:tensorflow:Can save best model only with val_loss available, skipping.\n"
     ]
    },
    {
     "name": "stderr",
     "output_type": "stream",
     "text": [
      "WARNING:tensorflow:Can save best model only with val_loss available, skipping.\n"
     ]
    },
    {
     "name": "stdout",
     "output_type": "stream",
     "text": [
      "36/36 [==============================] - 20s 557ms/step - loss: 0.0116 - semantic_0_loss: 0.0030 - semantic_1_loss: 0.0073 - semantic_2_loss: 0.0013 - lr: 5.7535e-05\n",
      "Epoch 57/200\n",
      "36/36 [==============================] - ETA: 0s - loss: 0.0115 - semantic_0_loss: 0.0030 - semantic_1_loss: 0.0072 - semantic_2_loss: 0.0013WARNING:tensorflow:Can save best model only with val_loss available, skipping.\n"
     ]
    },
    {
     "name": "stderr",
     "output_type": "stream",
     "text": [
      "WARNING:tensorflow:Can save best model only with val_loss available, skipping.\n"
     ]
    },
    {
     "name": "stdout",
     "output_type": "stream",
     "text": [
      "36/36 [==============================] - 21s 568ms/step - loss: 0.0115 - semantic_0_loss: 0.0030 - semantic_1_loss: 0.0072 - semantic_2_loss: 0.0013 - lr: 5.6960e-05\n",
      "Epoch 58/200\n",
      "36/36 [==============================] - ETA: 0s - loss: 0.0115 - semantic_0_loss: 0.0030 - semantic_1_loss: 0.0072 - semantic_2_loss: 0.0013WARNING:tensorflow:Can save best model only with val_loss available, skipping.\n"
     ]
    },
    {
     "name": "stderr",
     "output_type": "stream",
     "text": [
      "WARNING:tensorflow:Can save best model only with val_loss available, skipping.\n"
     ]
    },
    {
     "name": "stdout",
     "output_type": "stream",
     "text": [
      "36/36 [==============================] - 21s 566ms/step - loss: 0.0115 - semantic_0_loss: 0.0030 - semantic_1_loss: 0.0072 - semantic_2_loss: 0.0013 - lr: 5.6391e-05\n",
      "Epoch 59/200\n",
      "36/36 [==============================] - ETA: 0s - loss: 0.0113 - semantic_0_loss: 0.0029 - semantic_1_loss: 0.0070 - semantic_2_loss: 0.0013WARNING:tensorflow:Can save best model only with val_loss available, skipping.\n"
     ]
    },
    {
     "name": "stderr",
     "output_type": "stream",
     "text": [
      "WARNING:tensorflow:Can save best model only with val_loss available, skipping.\n"
     ]
    },
    {
     "name": "stdout",
     "output_type": "stream",
     "text": [
      "36/36 [==============================] - 21s 568ms/step - loss: 0.0113 - semantic_0_loss: 0.0029 - semantic_1_loss: 0.0070 - semantic_2_loss: 0.0013 - lr: 5.5827e-05\n",
      "Epoch 60/200\n",
      "36/36 [==============================] - ETA: 0s - loss: 0.0113 - semantic_0_loss: 0.0029 - semantic_1_loss: 0.0071 - semantic_2_loss: 0.0013WARNING:tensorflow:Can save best model only with val_loss available, skipping.\n"
     ]
    },
    {
     "name": "stderr",
     "output_type": "stream",
     "text": [
      "WARNING:tensorflow:Can save best model only with val_loss available, skipping.\n"
     ]
    },
    {
     "name": "stdout",
     "output_type": "stream",
     "text": [
      "36/36 [==============================] - 21s 565ms/step - loss: 0.0113 - semantic_0_loss: 0.0029 - semantic_1_loss: 0.0071 - semantic_2_loss: 0.0013 - lr: 5.5268e-05\n",
      "Epoch 61/200\n",
      "36/36 [==============================] - ETA: 0s - loss: 0.0114 - semantic_0_loss: 0.0030 - semantic_1_loss: 0.0072 - semantic_2_loss: 0.0013WARNING:tensorflow:Can save best model only with val_loss available, skipping.\n"
     ]
    },
    {
     "name": "stderr",
     "output_type": "stream",
     "text": [
      "WARNING:tensorflow:Can save best model only with val_loss available, skipping.\n"
     ]
    },
    {
     "name": "stdout",
     "output_type": "stream",
     "text": [
      "36/36 [==============================] - 21s 567ms/step - loss: 0.0114 - semantic_0_loss: 0.0030 - semantic_1_loss: 0.0072 - semantic_2_loss: 0.0013 - lr: 5.4716e-05\n",
      "Epoch 62/200\n",
      "36/36 [==============================] - ETA: 0s - loss: 0.0113 - semantic_0_loss: 0.0030 - semantic_1_loss: 0.0070 - semantic_2_loss: 0.0013WARNING:tensorflow:Can save best model only with val_loss available, skipping.\n"
     ]
    },
    {
     "name": "stderr",
     "output_type": "stream",
     "text": [
      "WARNING:tensorflow:Can save best model only with val_loss available, skipping.\n"
     ]
    },
    {
     "name": "stdout",
     "output_type": "stream",
     "text": [
      "36/36 [==============================] - 20s 562ms/step - loss: 0.0113 - semantic_0_loss: 0.0030 - semantic_1_loss: 0.0070 - semantic_2_loss: 0.0013 - lr: 5.4169e-05\n",
      "Epoch 63/200\n",
      "36/36 [==============================] - ETA: 0s - loss: 0.0113 - semantic_0_loss: 0.0030 - semantic_1_loss: 0.0071 - semantic_2_loss: 0.0013WARNING:tensorflow:Can save best model only with val_loss available, skipping.\n"
     ]
    },
    {
     "name": "stderr",
     "output_type": "stream",
     "text": [
      "WARNING:tensorflow:Can save best model only with val_loss available, skipping.\n"
     ]
    },
    {
     "name": "stdout",
     "output_type": "stream",
     "text": [
      "36/36 [==============================] - 20s 564ms/step - loss: 0.0113 - semantic_0_loss: 0.0030 - semantic_1_loss: 0.0071 - semantic_2_loss: 0.0013 - lr: 5.3627e-05\n",
      "Epoch 64/200\n",
      "36/36 [==============================] - ETA: 0s - loss: 0.0114 - semantic_0_loss: 0.0030 - semantic_1_loss: 0.0071 - semantic_2_loss: 0.0013WARNING:tensorflow:Can save best model only with val_loss available, skipping.\n"
     ]
    },
    {
     "name": "stderr",
     "output_type": "stream",
     "text": [
      "WARNING:tensorflow:Can save best model only with val_loss available, skipping.\n"
     ]
    },
    {
     "name": "stdout",
     "output_type": "stream",
     "text": [
      "36/36 [==============================] - 20s 563ms/step - loss: 0.0114 - semantic_0_loss: 0.0030 - semantic_1_loss: 0.0071 - semantic_2_loss: 0.0013 - lr: 5.3091e-05\n",
      "Epoch 65/200\n",
      "36/36 [==============================] - ETA: 0s - loss: 0.0112 - semantic_0_loss: 0.0029 - semantic_1_loss: 0.0070 - semantic_2_loss: 0.0013WARNING:tensorflow:Can save best model only with val_loss available, skipping.\n"
     ]
    },
    {
     "name": "stderr",
     "output_type": "stream",
     "text": [
      "WARNING:tensorflow:Can save best model only with val_loss available, skipping.\n"
     ]
    },
    {
     "name": "stdout",
     "output_type": "stream",
     "text": [
      "36/36 [==============================] - 21s 564ms/step - loss: 0.0112 - semantic_0_loss: 0.0029 - semantic_1_loss: 0.0070 - semantic_2_loss: 0.0013 - lr: 5.2560e-05\n",
      "Epoch 66/200\n",
      "36/36 [==============================] - ETA: 0s - loss: 0.0113 - semantic_0_loss: 0.0030 - semantic_1_loss: 0.0070 - semantic_2_loss: 0.0013WARNING:tensorflow:Can save best model only with val_loss available, skipping.\n"
     ]
    },
    {
     "name": "stderr",
     "output_type": "stream",
     "text": [
      "WARNING:tensorflow:Can save best model only with val_loss available, skipping.\n"
     ]
    },
    {
     "name": "stdout",
     "output_type": "stream",
     "text": [
      "36/36 [==============================] - 21s 569ms/step - loss: 0.0113 - semantic_0_loss: 0.0030 - semantic_1_loss: 0.0070 - semantic_2_loss: 0.0013 - lr: 5.2034e-05\n",
      "Epoch 67/200\n",
      "36/36 [==============================] - ETA: 0s - loss: 0.0113 - semantic_0_loss: 0.0029 - semantic_1_loss: 0.0071 - semantic_2_loss: 0.0013WARNING:tensorflow:Can save best model only with val_loss available, skipping.\n"
     ]
    },
    {
     "name": "stderr",
     "output_type": "stream",
     "text": [
      "WARNING:tensorflow:Can save best model only with val_loss available, skipping.\n"
     ]
    },
    {
     "name": "stdout",
     "output_type": "stream",
     "text": [
      "36/36 [==============================] - 21s 567ms/step - loss: 0.0113 - semantic_0_loss: 0.0029 - semantic_1_loss: 0.0071 - semantic_2_loss: 0.0013 - lr: 5.1514e-05\n",
      "Epoch 68/200\n",
      "36/36 [==============================] - ETA: 0s - loss: 0.0111 - semantic_0_loss: 0.0029 - semantic_1_loss: 0.0069 - semantic_2_loss: 0.0013WARNING:tensorflow:Can save best model only with val_loss available, skipping.\n"
     ]
    },
    {
     "name": "stderr",
     "output_type": "stream",
     "text": [
      "WARNING:tensorflow:Can save best model only with val_loss available, skipping.\n"
     ]
    },
    {
     "name": "stdout",
     "output_type": "stream",
     "text": [
      "36/36 [==============================] - 21s 565ms/step - loss: 0.0111 - semantic_0_loss: 0.0029 - semantic_1_loss: 0.0069 - semantic_2_loss: 0.0013 - lr: 5.0999e-05\n",
      "Epoch 69/200\n",
      "36/36 [==============================] - ETA: 0s - loss: 0.0112 - semantic_0_loss: 0.0029 - semantic_1_loss: 0.0070 - semantic_2_loss: 0.0013WARNING:tensorflow:Can save best model only with val_loss available, skipping.\n"
     ]
    },
    {
     "name": "stderr",
     "output_type": "stream",
     "text": [
      "WARNING:tensorflow:Can save best model only with val_loss available, skipping.\n"
     ]
    },
    {
     "name": "stdout",
     "output_type": "stream",
     "text": [
      "36/36 [==============================] - 20s 559ms/step - loss: 0.0112 - semantic_0_loss: 0.0029 - semantic_1_loss: 0.0070 - semantic_2_loss: 0.0013 - lr: 5.0489e-05\n",
      "Epoch 70/200\n",
      "36/36 [==============================] - ETA: 0s - loss: 0.0110 - semantic_0_loss: 0.0029 - semantic_1_loss: 0.0069 - semantic_2_loss: 0.0012WARNING:tensorflow:Can save best model only with val_loss available, skipping.\n"
     ]
    },
    {
     "name": "stderr",
     "output_type": "stream",
     "text": [
      "WARNING:tensorflow:Can save best model only with val_loss available, skipping.\n"
     ]
    },
    {
     "name": "stdout",
     "output_type": "stream",
     "text": [
      "36/36 [==============================] - 20s 564ms/step - loss: 0.0110 - semantic_0_loss: 0.0029 - semantic_1_loss: 0.0069 - semantic_2_loss: 0.0012 - lr: 4.9984e-05\n",
      "Epoch 71/200\n",
      "36/36 [==============================] - ETA: 0s - loss: 0.0111 - semantic_0_loss: 0.0029 - semantic_1_loss: 0.0070 - semantic_2_loss: 0.0013WARNING:tensorflow:Can save best model only with val_loss available, skipping.\n"
     ]
    },
    {
     "name": "stderr",
     "output_type": "stream",
     "text": [
      "WARNING:tensorflow:Can save best model only with val_loss available, skipping.\n"
     ]
    },
    {
     "name": "stdout",
     "output_type": "stream",
     "text": [
      "36/36 [==============================] - 20s 552ms/step - loss: 0.0111 - semantic_0_loss: 0.0029 - semantic_1_loss: 0.0070 - semantic_2_loss: 0.0013 - lr: 4.9484e-05\n",
      "Epoch 72/200\n",
      "36/36 [==============================] - ETA: 0s - loss: 0.0111 - semantic_0_loss: 0.0029 - semantic_1_loss: 0.0070 - semantic_2_loss: 0.0013WARNING:tensorflow:Can save best model only with val_loss available, skipping.\n"
     ]
    },
    {
     "name": "stderr",
     "output_type": "stream",
     "text": [
      "WARNING:tensorflow:Can save best model only with val_loss available, skipping.\n"
     ]
    },
    {
     "name": "stdout",
     "output_type": "stream",
     "text": [
      "36/36 [==============================] - 21s 568ms/step - loss: 0.0111 - semantic_0_loss: 0.0029 - semantic_1_loss: 0.0070 - semantic_2_loss: 0.0013 - lr: 4.8989e-05\n",
      "Epoch 73/200\n",
      "36/36 [==============================] - ETA: 0s - loss: 0.0109 - semantic_0_loss: 0.0029 - semantic_1_loss: 0.0068 - semantic_2_loss: 0.0012WARNING:tensorflow:Can save best model only with val_loss available, skipping.\n"
     ]
    },
    {
     "name": "stderr",
     "output_type": "stream",
     "text": [
      "WARNING:tensorflow:Can save best model only with val_loss available, skipping.\n"
     ]
    },
    {
     "name": "stdout",
     "output_type": "stream",
     "text": [
      "36/36 [==============================] - 20s 565ms/step - loss: 0.0109 - semantic_0_loss: 0.0029 - semantic_1_loss: 0.0068 - semantic_2_loss: 0.0012 - lr: 4.8499e-05\n",
      "Epoch 74/200\n",
      "36/36 [==============================] - ETA: 0s - loss: 0.0111 - semantic_0_loss: 0.0029 - semantic_1_loss: 0.0069 - semantic_2_loss: 0.0013WARNING:tensorflow:Can save best model only with val_loss available, skipping.\n"
     ]
    },
    {
     "name": "stderr",
     "output_type": "stream",
     "text": [
      "WARNING:tensorflow:Can save best model only with val_loss available, skipping.\n"
     ]
    },
    {
     "name": "stdout",
     "output_type": "stream",
     "text": [
      "36/36 [==============================] - 21s 562ms/step - loss: 0.0111 - semantic_0_loss: 0.0029 - semantic_1_loss: 0.0069 - semantic_2_loss: 0.0013 - lr: 4.8014e-05\n",
      "Epoch 75/200\n",
      "36/36 [==============================] - ETA: 0s - loss: 0.0111 - semantic_0_loss: 0.0029 - semantic_1_loss: 0.0069 - semantic_2_loss: 0.0012WARNING:tensorflow:Can save best model only with val_loss available, skipping.\n"
     ]
    },
    {
     "name": "stderr",
     "output_type": "stream",
     "text": [
      "WARNING:tensorflow:Can save best model only with val_loss available, skipping.\n"
     ]
    },
    {
     "name": "stdout",
     "output_type": "stream",
     "text": [
      "36/36 [==============================] - 21s 565ms/step - loss: 0.0111 - semantic_0_loss: 0.0029 - semantic_1_loss: 0.0069 - semantic_2_loss: 0.0012 - lr: 4.7534e-05\n",
      "Epoch 76/200\n",
      "36/36 [==============================] - ETA: 0s - loss: 0.0110 - semantic_0_loss: 0.0029 - semantic_1_loss: 0.0068 - semantic_2_loss: 0.0012WARNING:tensorflow:Can save best model only with val_loss available, skipping.\n"
     ]
    },
    {
     "name": "stderr",
     "output_type": "stream",
     "text": [
      "WARNING:tensorflow:Can save best model only with val_loss available, skipping.\n"
     ]
    },
    {
     "name": "stdout",
     "output_type": "stream",
     "text": [
      "36/36 [==============================] - 20s 563ms/step - loss: 0.0110 - semantic_0_loss: 0.0029 - semantic_1_loss: 0.0068 - semantic_2_loss: 0.0012 - lr: 4.7059e-05\n",
      "Epoch 77/200\n",
      "36/36 [==============================] - ETA: 0s - loss: 0.0112 - semantic_0_loss: 0.0029 - semantic_1_loss: 0.0070 - semantic_2_loss: 0.0013WARNING:tensorflow:Can save best model only with val_loss available, skipping.\n"
     ]
    },
    {
     "name": "stderr",
     "output_type": "stream",
     "text": [
      "WARNING:tensorflow:Can save best model only with val_loss available, skipping.\n"
     ]
    },
    {
     "name": "stdout",
     "output_type": "stream",
     "text": [
      "36/36 [==============================] - 21s 568ms/step - loss: 0.0112 - semantic_0_loss: 0.0029 - semantic_1_loss: 0.0070 - semantic_2_loss: 0.0013 - lr: 4.6588e-05\n",
      "Epoch 78/200\n",
      "36/36 [==============================] - ETA: 0s - loss: 0.0111 - semantic_0_loss: 0.0029 - semantic_1_loss: 0.0069 - semantic_2_loss: 0.0013WARNING:tensorflow:Can save best model only with val_loss available, skipping.\n"
     ]
    },
    {
     "name": "stderr",
     "output_type": "stream",
     "text": [
      "WARNING:tensorflow:Can save best model only with val_loss available, skipping.\n"
     ]
    },
    {
     "name": "stdout",
     "output_type": "stream",
     "text": [
      "36/36 [==============================] - 20s 561ms/step - loss: 0.0111 - semantic_0_loss: 0.0029 - semantic_1_loss: 0.0069 - semantic_2_loss: 0.0013 - lr: 4.6122e-05\n",
      "Epoch 79/200\n",
      "36/36 [==============================] - ETA: 0s - loss: 0.0110 - semantic_0_loss: 0.0029 - semantic_1_loss: 0.0068 - semantic_2_loss: 0.0012WARNING:tensorflow:Can save best model only with val_loss available, skipping.\n"
     ]
    },
    {
     "name": "stderr",
     "output_type": "stream",
     "text": [
      "WARNING:tensorflow:Can save best model only with val_loss available, skipping.\n"
     ]
    },
    {
     "name": "stdout",
     "output_type": "stream",
     "text": [
      "36/36 [==============================] - 21s 567ms/step - loss: 0.0110 - semantic_0_loss: 0.0029 - semantic_1_loss: 0.0068 - semantic_2_loss: 0.0012 - lr: 4.5661e-05\n",
      "Epoch 80/200\n",
      "36/36 [==============================] - ETA: 0s - loss: 0.0112 - semantic_0_loss: 0.0029 - semantic_1_loss: 0.0070 - semantic_2_loss: 0.0013WARNING:tensorflow:Can save best model only with val_loss available, skipping.\n"
     ]
    },
    {
     "name": "stderr",
     "output_type": "stream",
     "text": [
      "WARNING:tensorflow:Can save best model only with val_loss available, skipping.\n"
     ]
    },
    {
     "name": "stdout",
     "output_type": "stream",
     "text": [
      "36/36 [==============================] - 21s 591ms/step - loss: 0.0112 - semantic_0_loss: 0.0029 - semantic_1_loss: 0.0070 - semantic_2_loss: 0.0013 - lr: 4.5204e-05\n",
      "Epoch 81/200\n",
      "36/36 [==============================] - ETA: 0s - loss: 0.0110 - semantic_0_loss: 0.0029 - semantic_1_loss: 0.0068 - semantic_2_loss: 0.0012WARNING:tensorflow:Can save best model only with val_loss available, skipping.\n"
     ]
    },
    {
     "name": "stderr",
     "output_type": "stream",
     "text": [
      "WARNING:tensorflow:Can save best model only with val_loss available, skipping.\n"
     ]
    },
    {
     "name": "stdout",
     "output_type": "stream",
     "text": [
      "36/36 [==============================] - 20s 559ms/step - loss: 0.0110 - semantic_0_loss: 0.0029 - semantic_1_loss: 0.0068 - semantic_2_loss: 0.0012 - lr: 4.4752e-05\n",
      "Epoch 82/200\n",
      "36/36 [==============================] - ETA: 0s - loss: 0.0110 - semantic_0_loss: 0.0029 - semantic_1_loss: 0.0068 - semantic_2_loss: 0.0013WARNING:tensorflow:Can save best model only with val_loss available, skipping.\n"
     ]
    },
    {
     "name": "stderr",
     "output_type": "stream",
     "text": [
      "WARNING:tensorflow:Can save best model only with val_loss available, skipping.\n"
     ]
    },
    {
     "name": "stdout",
     "output_type": "stream",
     "text": [
      "36/36 [==============================] - 20s 561ms/step - loss: 0.0110 - semantic_0_loss: 0.0029 - semantic_1_loss: 0.0068 - semantic_2_loss: 0.0013 - lr: 4.4305e-05\n",
      "Epoch 83/200\n",
      "36/36 [==============================] - ETA: 0s - loss: 0.0109 - semantic_0_loss: 0.0029 - semantic_1_loss: 0.0068 - semantic_2_loss: 0.0012WARNING:tensorflow:Can save best model only with val_loss available, skipping.\n"
     ]
    },
    {
     "name": "stderr",
     "output_type": "stream",
     "text": [
      "WARNING:tensorflow:Can save best model only with val_loss available, skipping.\n"
     ]
    },
    {
     "name": "stdout",
     "output_type": "stream",
     "text": [
      "36/36 [==============================] - 21s 567ms/step - loss: 0.0109 - semantic_0_loss: 0.0029 - semantic_1_loss: 0.0068 - semantic_2_loss: 0.0012 - lr: 4.3862e-05\n",
      "Epoch 84/200\n",
      "36/36 [==============================] - ETA: 0s - loss: 0.0111 - semantic_0_loss: 0.0029 - semantic_1_loss: 0.0069 - semantic_2_loss: 0.0012WARNING:tensorflow:Can save best model only with val_loss available, skipping.\n"
     ]
    },
    {
     "name": "stderr",
     "output_type": "stream",
     "text": [
      "WARNING:tensorflow:Can save best model only with val_loss available, skipping.\n"
     ]
    },
    {
     "name": "stdout",
     "output_type": "stream",
     "text": [
      "36/36 [==============================] - 20s 562ms/step - loss: 0.0111 - semantic_0_loss: 0.0029 - semantic_1_loss: 0.0069 - semantic_2_loss: 0.0012 - lr: 4.3423e-05\n",
      "Epoch 85/200\n",
      "36/36 [==============================] - ETA: 0s - loss: 0.0109 - semantic_0_loss: 0.0029 - semantic_1_loss: 0.0068 - semantic_2_loss: 0.0012WARNING:tensorflow:Can save best model only with val_loss available, skipping.\n"
     ]
    },
    {
     "name": "stderr",
     "output_type": "stream",
     "text": [
      "WARNING:tensorflow:Can save best model only with val_loss available, skipping.\n"
     ]
    },
    {
     "name": "stdout",
     "output_type": "stream",
     "text": [
      "36/36 [==============================] - 21s 568ms/step - loss: 0.0109 - semantic_0_loss: 0.0029 - semantic_1_loss: 0.0068 - semantic_2_loss: 0.0012 - lr: 4.2989e-05\n",
      "Epoch 86/200\n",
      "36/36 [==============================] - ETA: 0s - loss: 0.0109 - semantic_0_loss: 0.0029 - semantic_1_loss: 0.0068 - semantic_2_loss: 0.0012WARNING:tensorflow:Can save best model only with val_loss available, skipping.\n"
     ]
    },
    {
     "name": "stderr",
     "output_type": "stream",
     "text": [
      "WARNING:tensorflow:Can save best model only with val_loss available, skipping.\n"
     ]
    },
    {
     "name": "stdout",
     "output_type": "stream",
     "text": [
      "36/36 [==============================] - 21s 568ms/step - loss: 0.0109 - semantic_0_loss: 0.0029 - semantic_1_loss: 0.0068 - semantic_2_loss: 0.0012 - lr: 4.2559e-05\n",
      "Epoch 87/200\n",
      "36/36 [==============================] - ETA: 0s - loss: 0.0110 - semantic_0_loss: 0.0029 - semantic_1_loss: 0.0068 - semantic_2_loss: 0.0012WARNING:tensorflow:Can save best model only with val_loss available, skipping.\n"
     ]
    },
    {
     "name": "stderr",
     "output_type": "stream",
     "text": [
      "WARNING:tensorflow:Can save best model only with val_loss available, skipping.\n"
     ]
    },
    {
     "name": "stdout",
     "output_type": "stream",
     "text": [
      "36/36 [==============================] - 21s 563ms/step - loss: 0.0110 - semantic_0_loss: 0.0029 - semantic_1_loss: 0.0068 - semantic_2_loss: 0.0012 - lr: 4.2133e-05\n",
      "Epoch 88/200\n",
      "36/36 [==============================] - ETA: 0s - loss: 0.0109 - semantic_0_loss: 0.0029 - semantic_1_loss: 0.0067 - semantic_2_loss: 0.0012WARNING:tensorflow:Can save best model only with val_loss available, skipping.\n"
     ]
    },
    {
     "name": "stderr",
     "output_type": "stream",
     "text": [
      "WARNING:tensorflow:Can save best model only with val_loss available, skipping.\n"
     ]
    },
    {
     "name": "stdout",
     "output_type": "stream",
     "text": [
      "36/36 [==============================] - 21s 566ms/step - loss: 0.0109 - semantic_0_loss: 0.0029 - semantic_1_loss: 0.0067 - semantic_2_loss: 0.0012 - lr: 4.1712e-05\n",
      "Epoch 89/200\n",
      "36/36 [==============================] - ETA: 0s - loss: 0.0107 - semantic_0_loss: 0.0028 - semantic_1_loss: 0.0067 - semantic_2_loss: 0.0012WARNING:tensorflow:Can save best model only with val_loss available, skipping.\n"
     ]
    },
    {
     "name": "stderr",
     "output_type": "stream",
     "text": [
      "WARNING:tensorflow:Can save best model only with val_loss available, skipping.\n"
     ]
    },
    {
     "name": "stdout",
     "output_type": "stream",
     "text": [
      "36/36 [==============================] - 20s 564ms/step - loss: 0.0107 - semantic_0_loss: 0.0028 - semantic_1_loss: 0.0067 - semantic_2_loss: 0.0012 - lr: 4.1295e-05\n",
      "Epoch 90/200\n",
      "36/36 [==============================] - ETA: 0s - loss: 0.0109 - semantic_0_loss: 0.0029 - semantic_1_loss: 0.0068 - semantic_2_loss: 0.0012WARNING:tensorflow:Can save best model only with val_loss available, skipping.\n"
     ]
    },
    {
     "name": "stderr",
     "output_type": "stream",
     "text": [
      "WARNING:tensorflow:Can save best model only with val_loss available, skipping.\n"
     ]
    },
    {
     "name": "stdout",
     "output_type": "stream",
     "text": [
      "36/36 [==============================] - 21s 567ms/step - loss: 0.0109 - semantic_0_loss: 0.0029 - semantic_1_loss: 0.0068 - semantic_2_loss: 0.0012 - lr: 4.0882e-05\n",
      "Epoch 91/200\n",
      "36/36 [==============================] - ETA: 0s - loss: 0.0108 - semantic_0_loss: 0.0029 - semantic_1_loss: 0.0067 - semantic_2_loss: 0.0012WARNING:tensorflow:Can save best model only with val_loss available, skipping.\n"
     ]
    },
    {
     "name": "stderr",
     "output_type": "stream",
     "text": [
      "WARNING:tensorflow:Can save best model only with val_loss available, skipping.\n"
     ]
    },
    {
     "name": "stdout",
     "output_type": "stream",
     "text": [
      "36/36 [==============================] - 21s 572ms/step - loss: 0.0108 - semantic_0_loss: 0.0029 - semantic_1_loss: 0.0067 - semantic_2_loss: 0.0012 - lr: 4.0473e-05\n",
      "Epoch 92/200\n",
      "36/36 [==============================] - ETA: 0s - loss: 0.0108 - semantic_0_loss: 0.0029 - semantic_1_loss: 0.0067 - semantic_2_loss: 0.0012WARNING:tensorflow:Can save best model only with val_loss available, skipping.\n"
     ]
    },
    {
     "name": "stderr",
     "output_type": "stream",
     "text": [
      "WARNING:tensorflow:Can save best model only with val_loss available, skipping.\n"
     ]
    },
    {
     "name": "stdout",
     "output_type": "stream",
     "text": [
      "36/36 [==============================] - 21s 571ms/step - loss: 0.0108 - semantic_0_loss: 0.0029 - semantic_1_loss: 0.0067 - semantic_2_loss: 0.0012 - lr: 4.0068e-05\n",
      "Epoch 93/200\n",
      "36/36 [==============================] - ETA: 0s - loss: 0.0107 - semantic_0_loss: 0.0028 - semantic_1_loss: 0.0067 - semantic_2_loss: 0.0012WARNING:tensorflow:Can save best model only with val_loss available, skipping.\n"
     ]
    },
    {
     "name": "stderr",
     "output_type": "stream",
     "text": [
      "WARNING:tensorflow:Can save best model only with val_loss available, skipping.\n"
     ]
    },
    {
     "name": "stdout",
     "output_type": "stream",
     "text": [
      "36/36 [==============================] - 21s 569ms/step - loss: 0.0107 - semantic_0_loss: 0.0028 - semantic_1_loss: 0.0067 - semantic_2_loss: 0.0012 - lr: 3.9668e-05\n",
      "Epoch 94/200\n",
      "36/36 [==============================] - ETA: 0s - loss: 0.0107 - semantic_0_loss: 0.0029 - semantic_1_loss: 0.0067 - semantic_2_loss: 0.0012WARNING:tensorflow:Can save best model only with val_loss available, skipping.\n"
     ]
    },
    {
     "name": "stderr",
     "output_type": "stream",
     "text": [
      "WARNING:tensorflow:Can save best model only with val_loss available, skipping.\n"
     ]
    },
    {
     "name": "stdout",
     "output_type": "stream",
     "text": [
      "36/36 [==============================] - 20s 562ms/step - loss: 0.0107 - semantic_0_loss: 0.0029 - semantic_1_loss: 0.0067 - semantic_2_loss: 0.0012 - lr: 3.9271e-05\n",
      "Epoch 95/200\n",
      "36/36 [==============================] - ETA: 0s - loss: 0.0107 - semantic_0_loss: 0.0028 - semantic_1_loss: 0.0066 - semantic_2_loss: 0.0012WARNING:tensorflow:Can save best model only with val_loss available, skipping.\n"
     ]
    },
    {
     "name": "stderr",
     "output_type": "stream",
     "text": [
      "WARNING:tensorflow:Can save best model only with val_loss available, skipping.\n"
     ]
    },
    {
     "name": "stdout",
     "output_type": "stream",
     "text": [
      "36/36 [==============================] - 20s 563ms/step - loss: 0.0107 - semantic_0_loss: 0.0028 - semantic_1_loss: 0.0066 - semantic_2_loss: 0.0012 - lr: 3.8878e-05\n",
      "Epoch 96/200\n",
      "36/36 [==============================] - ETA: 0s - loss: 0.0107 - semantic_0_loss: 0.0028 - semantic_1_loss: 0.0066 - semantic_2_loss: 0.0012WARNING:tensorflow:Can save best model only with val_loss available, skipping.\n"
     ]
    },
    {
     "name": "stderr",
     "output_type": "stream",
     "text": [
      "WARNING:tensorflow:Can save best model only with val_loss available, skipping.\n"
     ]
    },
    {
     "name": "stdout",
     "output_type": "stream",
     "text": [
      "36/36 [==============================] - 20s 558ms/step - loss: 0.0107 - semantic_0_loss: 0.0028 - semantic_1_loss: 0.0066 - semantic_2_loss: 0.0012 - lr: 3.8490e-05\n",
      "Epoch 97/200\n",
      "36/36 [==============================] - ETA: 0s - loss: 0.0106 - semantic_0_loss: 0.0028 - semantic_1_loss: 0.0066 - semantic_2_loss: 0.0012WARNING:tensorflow:Can save best model only with val_loss available, skipping.\n"
     ]
    },
    {
     "name": "stderr",
     "output_type": "stream",
     "text": [
      "WARNING:tensorflow:Can save best model only with val_loss available, skipping.\n"
     ]
    },
    {
     "name": "stdout",
     "output_type": "stream",
     "text": [
      "36/36 [==============================] - 20s 555ms/step - loss: 0.0106 - semantic_0_loss: 0.0028 - semantic_1_loss: 0.0066 - semantic_2_loss: 0.0012 - lr: 3.8105e-05\n",
      "Epoch 98/200\n",
      "36/36 [==============================] - ETA: 0s - loss: 0.0108 - semantic_0_loss: 0.0029 - semantic_1_loss: 0.0067 - semantic_2_loss: 0.0012WARNING:tensorflow:Can save best model only with val_loss available, skipping.\n"
     ]
    },
    {
     "name": "stderr",
     "output_type": "stream",
     "text": [
      "WARNING:tensorflow:Can save best model only with val_loss available, skipping.\n"
     ]
    },
    {
     "name": "stdout",
     "output_type": "stream",
     "text": [
      "36/36 [==============================] - 20s 551ms/step - loss: 0.0108 - semantic_0_loss: 0.0029 - semantic_1_loss: 0.0067 - semantic_2_loss: 0.0012 - lr: 3.7724e-05\n",
      "Epoch 99/200\n",
      "36/36 [==============================] - ETA: 0s - loss: 0.0105 - semantic_0_loss: 0.0028 - semantic_1_loss: 0.0065 - semantic_2_loss: 0.0012WARNING:tensorflow:Can save best model only with val_loss available, skipping.\n"
     ]
    },
    {
     "name": "stderr",
     "output_type": "stream",
     "text": [
      "WARNING:tensorflow:Can save best model only with val_loss available, skipping.\n"
     ]
    },
    {
     "name": "stdout",
     "output_type": "stream",
     "text": [
      "36/36 [==============================] - 21s 569ms/step - loss: 0.0105 - semantic_0_loss: 0.0028 - semantic_1_loss: 0.0065 - semantic_2_loss: 0.0012 - lr: 3.7346e-05\n",
      "Epoch 100/200\n",
      "36/36 [==============================] - ETA: 0s - loss: 0.0107 - semantic_0_loss: 0.0029 - semantic_1_loss: 0.0067 - semantic_2_loss: 0.0012WARNING:tensorflow:Can save best model only with val_loss available, skipping.\n"
     ]
    },
    {
     "name": "stderr",
     "output_type": "stream",
     "text": [
      "WARNING:tensorflow:Can save best model only with val_loss available, skipping.\n"
     ]
    },
    {
     "name": "stdout",
     "output_type": "stream",
     "text": [
      "36/36 [==============================] - 21s 562ms/step - loss: 0.0107 - semantic_0_loss: 0.0029 - semantic_1_loss: 0.0067 - semantic_2_loss: 0.0012 - lr: 3.6973e-05\n",
      "Epoch 101/200\n",
      "36/36 [==============================] - ETA: 0s - loss: 0.0107 - semantic_0_loss: 0.0029 - semantic_1_loss: 0.0066 - semantic_2_loss: 0.0012WARNING:tensorflow:Can save best model only with val_loss available, skipping.\n"
     ]
    },
    {
     "name": "stderr",
     "output_type": "stream",
     "text": [
      "WARNING:tensorflow:Can save best model only with val_loss available, skipping.\n"
     ]
    },
    {
     "name": "stdout",
     "output_type": "stream",
     "text": [
      "36/36 [==============================] - 20s 562ms/step - loss: 0.0107 - semantic_0_loss: 0.0029 - semantic_1_loss: 0.0066 - semantic_2_loss: 0.0012 - lr: 3.6603e-05\n",
      "Epoch 102/200\n",
      "36/36 [==============================] - ETA: 0s - loss: 0.0107 - semantic_0_loss: 0.0028 - semantic_1_loss: 0.0066 - semantic_2_loss: 0.0012WARNING:tensorflow:Can save best model only with val_loss available, skipping.\n"
     ]
    },
    {
     "name": "stderr",
     "output_type": "stream",
     "text": [
      "WARNING:tensorflow:Can save best model only with val_loss available, skipping.\n"
     ]
    },
    {
     "name": "stdout",
     "output_type": "stream",
     "text": [
      "36/36 [==============================] - 20s 561ms/step - loss: 0.0107 - semantic_0_loss: 0.0028 - semantic_1_loss: 0.0066 - semantic_2_loss: 0.0012 - lr: 3.6237e-05\n",
      "Epoch 103/200\n",
      "36/36 [==============================] - ETA: 0s - loss: 0.0107 - semantic_0_loss: 0.0029 - semantic_1_loss: 0.0067 - semantic_2_loss: 0.0012WARNING:tensorflow:Can save best model only with val_loss available, skipping.\n"
     ]
    },
    {
     "name": "stderr",
     "output_type": "stream",
     "text": [
      "WARNING:tensorflow:Can save best model only with val_loss available, skipping.\n"
     ]
    },
    {
     "name": "stdout",
     "output_type": "stream",
     "text": [
      "36/36 [==============================] - 20s 559ms/step - loss: 0.0107 - semantic_0_loss: 0.0029 - semantic_1_loss: 0.0067 - semantic_2_loss: 0.0012 - lr: 3.5875e-05\n",
      "Epoch 104/200\n",
      "36/36 [==============================] - ETA: 0s - loss: 0.0105 - semantic_0_loss: 0.0028 - semantic_1_loss: 0.0065 - semantic_2_loss: 0.0012WARNING:tensorflow:Can save best model only with val_loss available, skipping.\n"
     ]
    },
    {
     "name": "stderr",
     "output_type": "stream",
     "text": [
      "WARNING:tensorflow:Can save best model only with val_loss available, skipping.\n"
     ]
    },
    {
     "name": "stdout",
     "output_type": "stream",
     "text": [
      "36/36 [==============================] - 20s 562ms/step - loss: 0.0105 - semantic_0_loss: 0.0028 - semantic_1_loss: 0.0065 - semantic_2_loss: 0.0012 - lr: 3.5516e-05\n",
      "Epoch 105/200\n",
      "36/36 [==============================] - ETA: 0s - loss: 0.0106 - semantic_0_loss: 0.0028 - semantic_1_loss: 0.0065 - semantic_2_loss: 0.0012WARNING:tensorflow:Can save best model only with val_loss available, skipping.\n"
     ]
    },
    {
     "name": "stderr",
     "output_type": "stream",
     "text": [
      "WARNING:tensorflow:Can save best model only with val_loss available, skipping.\n"
     ]
    },
    {
     "name": "stdout",
     "output_type": "stream",
     "text": [
      "36/36 [==============================] - 20s 563ms/step - loss: 0.0106 - semantic_0_loss: 0.0028 - semantic_1_loss: 0.0065 - semantic_2_loss: 0.0012 - lr: 3.5161e-05\n",
      "Epoch 106/200\n",
      "36/36 [==============================] - ETA: 0s - loss: 0.0106 - semantic_0_loss: 0.0028 - semantic_1_loss: 0.0066 - semantic_2_loss: 0.0012WARNING:tensorflow:Can save best model only with val_loss available, skipping.\n"
     ]
    },
    {
     "name": "stderr",
     "output_type": "stream",
     "text": [
      "WARNING:tensorflow:Can save best model only with val_loss available, skipping.\n"
     ]
    },
    {
     "name": "stdout",
     "output_type": "stream",
     "text": [
      "36/36 [==============================] - 20s 558ms/step - loss: 0.0106 - semantic_0_loss: 0.0028 - semantic_1_loss: 0.0066 - semantic_2_loss: 0.0012 - lr: 3.4809e-05\n",
      "Epoch 107/200\n",
      "36/36 [==============================] - ETA: 0s - loss: 0.0105 - semantic_0_loss: 0.0028 - semantic_1_loss: 0.0065 - semantic_2_loss: 0.0012WARNING:tensorflow:Can save best model only with val_loss available, skipping.\n"
     ]
    },
    {
     "name": "stderr",
     "output_type": "stream",
     "text": [
      "WARNING:tensorflow:Can save best model only with val_loss available, skipping.\n"
     ]
    },
    {
     "name": "stdout",
     "output_type": "stream",
     "text": [
      "36/36 [==============================] - 20s 552ms/step - loss: 0.0105 - semantic_0_loss: 0.0028 - semantic_1_loss: 0.0065 - semantic_2_loss: 0.0012 - lr: 3.4461e-05\n",
      "Epoch 108/200\n",
      "36/36 [==============================] - ETA: 0s - loss: 0.0105 - semantic_0_loss: 0.0028 - semantic_1_loss: 0.0065 - semantic_2_loss: 0.0012WARNING:tensorflow:Can save best model only with val_loss available, skipping.\n"
     ]
    },
    {
     "name": "stderr",
     "output_type": "stream",
     "text": [
      "WARNING:tensorflow:Can save best model only with val_loss available, skipping.\n"
     ]
    },
    {
     "name": "stdout",
     "output_type": "stream",
     "text": [
      "36/36 [==============================] - 21s 562ms/step - loss: 0.0105 - semantic_0_loss: 0.0028 - semantic_1_loss: 0.0065 - semantic_2_loss: 0.0012 - lr: 3.4117e-05\n",
      "Epoch 109/200\n",
      "36/36 [==============================] - ETA: 0s - loss: 0.0105 - semantic_0_loss: 0.0028 - semantic_1_loss: 0.0064 - semantic_2_loss: 0.0012WARNING:tensorflow:Can save best model only with val_loss available, skipping.\n"
     ]
    },
    {
     "name": "stderr",
     "output_type": "stream",
     "text": [
      "WARNING:tensorflow:Can save best model only with val_loss available, skipping.\n"
     ]
    },
    {
     "name": "stdout",
     "output_type": "stream",
     "text": [
      "36/36 [==============================] - 21s 565ms/step - loss: 0.0105 - semantic_0_loss: 0.0028 - semantic_1_loss: 0.0064 - semantic_2_loss: 0.0012 - lr: 3.3775e-05\n",
      "Epoch 110/200\n",
      "36/36 [==============================] - ETA: 0s - loss: 0.0105 - semantic_0_loss: 0.0028 - semantic_1_loss: 0.0065 - semantic_2_loss: 0.0012WARNING:tensorflow:Can save best model only with val_loss available, skipping.\n"
     ]
    },
    {
     "name": "stderr",
     "output_type": "stream",
     "text": [
      "WARNING:tensorflow:Can save best model only with val_loss available, skipping.\n"
     ]
    },
    {
     "name": "stdout",
     "output_type": "stream",
     "text": [
      "36/36 [==============================] - 20s 562ms/step - loss: 0.0105 - semantic_0_loss: 0.0028 - semantic_1_loss: 0.0065 - semantic_2_loss: 0.0012 - lr: 3.3438e-05\n",
      "Epoch 111/200\n",
      "36/36 [==============================] - ETA: 0s - loss: 0.0106 - semantic_0_loss: 0.0028 - semantic_1_loss: 0.0065 - semantic_2_loss: 0.0012WARNING:tensorflow:Can save best model only with val_loss available, skipping.\n"
     ]
    },
    {
     "name": "stderr",
     "output_type": "stream",
     "text": [
      "WARNING:tensorflow:Can save best model only with val_loss available, skipping.\n"
     ]
    },
    {
     "name": "stdout",
     "output_type": "stream",
     "text": [
      "36/36 [==============================] - 21s 568ms/step - loss: 0.0106 - semantic_0_loss: 0.0028 - semantic_1_loss: 0.0065 - semantic_2_loss: 0.0012 - lr: 3.3103e-05\n",
      "Epoch 112/200\n",
      "36/36 [==============================] - ETA: 0s - loss: 0.0104 - semantic_0_loss: 0.0028 - semantic_1_loss: 0.0064 - semantic_2_loss: 0.0012WARNING:tensorflow:Can save best model only with val_loss available, skipping.\n"
     ]
    },
    {
     "name": "stderr",
     "output_type": "stream",
     "text": [
      "WARNING:tensorflow:Can save best model only with val_loss available, skipping.\n"
     ]
    },
    {
     "name": "stdout",
     "output_type": "stream",
     "text": [
      "36/36 [==============================] - 21s 566ms/step - loss: 0.0104 - semantic_0_loss: 0.0028 - semantic_1_loss: 0.0064 - semantic_2_loss: 0.0012 - lr: 3.2772e-05\n",
      "Epoch 113/200\n",
      "36/36 [==============================] - ETA: 0s - loss: 0.0106 - semantic_0_loss: 0.0028 - semantic_1_loss: 0.0066 - semantic_2_loss: 0.0012WARNING:tensorflow:Can save best model only with val_loss available, skipping.\n"
     ]
    },
    {
     "name": "stderr",
     "output_type": "stream",
     "text": [
      "WARNING:tensorflow:Can save best model only with val_loss available, skipping.\n"
     ]
    },
    {
     "name": "stdout",
     "output_type": "stream",
     "text": [
      "36/36 [==============================] - 21s 567ms/step - loss: 0.0106 - semantic_0_loss: 0.0028 - semantic_1_loss: 0.0066 - semantic_2_loss: 0.0012 - lr: 3.2445e-05\n",
      "Epoch 114/200\n",
      "36/36 [==============================] - ETA: 0s - loss: 0.0103 - semantic_0_loss: 0.0028 - semantic_1_loss: 0.0063 - semantic_2_loss: 0.0012WARNING:tensorflow:Can save best model only with val_loss available, skipping.\n"
     ]
    },
    {
     "name": "stderr",
     "output_type": "stream",
     "text": [
      "WARNING:tensorflow:Can save best model only with val_loss available, skipping.\n"
     ]
    },
    {
     "name": "stdout",
     "output_type": "stream",
     "text": [
      "36/36 [==============================] - 21s 567ms/step - loss: 0.0103 - semantic_0_loss: 0.0028 - semantic_1_loss: 0.0063 - semantic_2_loss: 0.0012 - lr: 3.2120e-05\n",
      "Epoch 115/200\n",
      "36/36 [==============================] - ETA: 0s - loss: 0.0105 - semantic_0_loss: 0.0028 - semantic_1_loss: 0.0065 - semantic_2_loss: 0.0012WARNING:tensorflow:Can save best model only with val_loss available, skipping.\n"
     ]
    },
    {
     "name": "stderr",
     "output_type": "stream",
     "text": [
      "WARNING:tensorflow:Can save best model only with val_loss available, skipping.\n"
     ]
    },
    {
     "name": "stdout",
     "output_type": "stream",
     "text": [
      "36/36 [==============================] - 20s 563ms/step - loss: 0.0105 - semantic_0_loss: 0.0028 - semantic_1_loss: 0.0065 - semantic_2_loss: 0.0012 - lr: 3.1799e-05\n",
      "Epoch 116/200\n",
      "36/36 [==============================] - ETA: 0s - loss: 0.0104 - semantic_0_loss: 0.0028 - semantic_1_loss: 0.0064 - semantic_2_loss: 0.0012WARNING:tensorflow:Can save best model only with val_loss available, skipping.\n"
     ]
    },
    {
     "name": "stderr",
     "output_type": "stream",
     "text": [
      "WARNING:tensorflow:Can save best model only with val_loss available, skipping.\n"
     ]
    },
    {
     "name": "stdout",
     "output_type": "stream",
     "text": [
      "36/36 [==============================] - 21s 569ms/step - loss: 0.0104 - semantic_0_loss: 0.0028 - semantic_1_loss: 0.0064 - semantic_2_loss: 0.0012 - lr: 3.1481e-05\n",
      "Epoch 117/200\n",
      "36/36 [==============================] - ETA: 0s - loss: 0.0105 - semantic_0_loss: 0.0028 - semantic_1_loss: 0.0065 - semantic_2_loss: 0.0012WARNING:tensorflow:Can save best model only with val_loss available, skipping.\n"
     ]
    },
    {
     "name": "stderr",
     "output_type": "stream",
     "text": [
      "WARNING:tensorflow:Can save best model only with val_loss available, skipping.\n"
     ]
    },
    {
     "name": "stdout",
     "output_type": "stream",
     "text": [
      "36/36 [==============================] - 21s 569ms/step - loss: 0.0105 - semantic_0_loss: 0.0028 - semantic_1_loss: 0.0065 - semantic_2_loss: 0.0012 - lr: 3.1166e-05\n",
      "Epoch 118/200\n",
      "36/36 [==============================] - ETA: 0s - loss: 0.0103 - semantic_0_loss: 0.0028 - semantic_1_loss: 0.0063 - semantic_2_loss: 0.0012WARNING:tensorflow:Can save best model only with val_loss available, skipping.\n"
     ]
    },
    {
     "name": "stderr",
     "output_type": "stream",
     "text": [
      "WARNING:tensorflow:Can save best model only with val_loss available, skipping.\n"
     ]
    },
    {
     "name": "stdout",
     "output_type": "stream",
     "text": [
      "36/36 [==============================] - 21s 567ms/step - loss: 0.0103 - semantic_0_loss: 0.0028 - semantic_1_loss: 0.0063 - semantic_2_loss: 0.0012 - lr: 3.0854e-05\n",
      "Epoch 119/200\n",
      "36/36 [==============================] - ETA: 0s - loss: 0.0105 - semantic_0_loss: 0.0028 - semantic_1_loss: 0.0065 - semantic_2_loss: 0.0012WARNING:tensorflow:Can save best model only with val_loss available, skipping.\n"
     ]
    },
    {
     "name": "stderr",
     "output_type": "stream",
     "text": [
      "WARNING:tensorflow:Can save best model only with val_loss available, skipping.\n"
     ]
    },
    {
     "name": "stdout",
     "output_type": "stream",
     "text": [
      "36/36 [==============================] - 21s 565ms/step - loss: 0.0105 - semantic_0_loss: 0.0028 - semantic_1_loss: 0.0065 - semantic_2_loss: 0.0012 - lr: 3.0546e-05\n",
      "Epoch 120/200\n",
      "36/36 [==============================] - ETA: 0s - loss: 0.0103 - semantic_0_loss: 0.0028 - semantic_1_loss: 0.0063 - semantic_2_loss: 0.0012WARNING:tensorflow:Can save best model only with val_loss available, skipping.\n"
     ]
    },
    {
     "name": "stderr",
     "output_type": "stream",
     "text": [
      "WARNING:tensorflow:Can save best model only with val_loss available, skipping.\n"
     ]
    },
    {
     "name": "stdout",
     "output_type": "stream",
     "text": [
      "36/36 [==============================] - 21s 563ms/step - loss: 0.0103 - semantic_0_loss: 0.0028 - semantic_1_loss: 0.0063 - semantic_2_loss: 0.0012 - lr: 3.0240e-05\n",
      "Epoch 121/200\n",
      "36/36 [==============================] - ETA: 0s - loss: 0.0104 - semantic_0_loss: 0.0028 - semantic_1_loss: 0.0064 - semantic_2_loss: 0.0012WARNING:tensorflow:Can save best model only with val_loss available, skipping.\n"
     ]
    },
    {
     "name": "stderr",
     "output_type": "stream",
     "text": [
      "WARNING:tensorflow:Can save best model only with val_loss available, skipping.\n"
     ]
    },
    {
     "name": "stdout",
     "output_type": "stream",
     "text": [
      "36/36 [==============================] - 20s 559ms/step - loss: 0.0104 - semantic_0_loss: 0.0028 - semantic_1_loss: 0.0064 - semantic_2_loss: 0.0012 - lr: 2.9938e-05\n",
      "Epoch 122/200\n",
      "36/36 [==============================] - ETA: 0s - loss: 0.0104 - semantic_0_loss: 0.0028 - semantic_1_loss: 0.0064 - semantic_2_loss: 0.0012WARNING:tensorflow:Can save best model only with val_loss available, skipping.\n"
     ]
    },
    {
     "name": "stderr",
     "output_type": "stream",
     "text": [
      "WARNING:tensorflow:Can save best model only with val_loss available, skipping.\n"
     ]
    },
    {
     "name": "stdout",
     "output_type": "stream",
     "text": [
      "36/36 [==============================] - 20s 562ms/step - loss: 0.0104 - semantic_0_loss: 0.0028 - semantic_1_loss: 0.0064 - semantic_2_loss: 0.0012 - lr: 2.9639e-05\n",
      "Epoch 123/200\n",
      "36/36 [==============================] - ETA: 0s - loss: 0.0103 - semantic_0_loss: 0.0028 - semantic_1_loss: 0.0064 - semantic_2_loss: 0.0012WARNING:tensorflow:Can save best model only with val_loss available, skipping.\n"
     ]
    },
    {
     "name": "stderr",
     "output_type": "stream",
     "text": [
      "WARNING:tensorflow:Can save best model only with val_loss available, skipping.\n"
     ]
    },
    {
     "name": "stdout",
     "output_type": "stream",
     "text": [
      "36/36 [==============================] - 21s 570ms/step - loss: 0.0103 - semantic_0_loss: 0.0028 - semantic_1_loss: 0.0064 - semantic_2_loss: 0.0012 - lr: 2.9342e-05\n",
      "Epoch 124/200\n",
      "36/36 [==============================] - ETA: 0s - loss: 0.0104 - semantic_0_loss: 0.0028 - semantic_1_loss: 0.0064 - semantic_2_loss: 0.0012WARNING:tensorflow:Can save best model only with val_loss available, skipping.\n"
     ]
    },
    {
     "name": "stderr",
     "output_type": "stream",
     "text": [
      "WARNING:tensorflow:Can save best model only with val_loss available, skipping.\n"
     ]
    },
    {
     "name": "stdout",
     "output_type": "stream",
     "text": [
      "36/36 [==============================] - 20s 554ms/step - loss: 0.0104 - semantic_0_loss: 0.0028 - semantic_1_loss: 0.0064 - semantic_2_loss: 0.0012 - lr: 2.9049e-05\n",
      "Epoch 125/200\n",
      "36/36 [==============================] - ETA: 0s - loss: 0.0103 - semantic_0_loss: 0.0028 - semantic_1_loss: 0.0064 - semantic_2_loss: 0.0012WARNING:tensorflow:Can save best model only with val_loss available, skipping.\n"
     ]
    },
    {
     "name": "stderr",
     "output_type": "stream",
     "text": [
      "WARNING:tensorflow:Can save best model only with val_loss available, skipping.\n"
     ]
    },
    {
     "name": "stdout",
     "output_type": "stream",
     "text": [
      "36/36 [==============================] - 21s 564ms/step - loss: 0.0103 - semantic_0_loss: 0.0028 - semantic_1_loss: 0.0064 - semantic_2_loss: 0.0012 - lr: 2.8758e-05\n",
      "Epoch 126/200\n",
      "36/36 [==============================] - ETA: 0s - loss: 0.0104 - semantic_0_loss: 0.0028 - semantic_1_loss: 0.0064 - semantic_2_loss: 0.0012WARNING:tensorflow:Can save best model only with val_loss available, skipping.\n"
     ]
    },
    {
     "name": "stderr",
     "output_type": "stream",
     "text": [
      "WARNING:tensorflow:Can save best model only with val_loss available, skipping.\n"
     ]
    },
    {
     "name": "stdout",
     "output_type": "stream",
     "text": [
      "36/36 [==============================] - 20s 560ms/step - loss: 0.0104 - semantic_0_loss: 0.0028 - semantic_1_loss: 0.0064 - semantic_2_loss: 0.0012 - lr: 2.8471e-05\n",
      "Epoch 127/200\n",
      "36/36 [==============================] - ETA: 0s - loss: 0.0104 - semantic_0_loss: 0.0028 - semantic_1_loss: 0.0064 - semantic_2_loss: 0.0012WARNING:tensorflow:Can save best model only with val_loss available, skipping.\n"
     ]
    },
    {
     "name": "stderr",
     "output_type": "stream",
     "text": [
      "WARNING:tensorflow:Can save best model only with val_loss available, skipping.\n"
     ]
    },
    {
     "name": "stdout",
     "output_type": "stream",
     "text": [
      "36/36 [==============================] - 20s 561ms/step - loss: 0.0104 - semantic_0_loss: 0.0028 - semantic_1_loss: 0.0064 - semantic_2_loss: 0.0012 - lr: 2.8186e-05\n",
      "Epoch 128/200\n",
      "36/36 [==============================] - ETA: 0s - loss: 0.0104 - semantic_0_loss: 0.0028 - semantic_1_loss: 0.0064 - semantic_2_loss: 0.0012WARNING:tensorflow:Can save best model only with val_loss available, skipping.\n"
     ]
    },
    {
     "name": "stderr",
     "output_type": "stream",
     "text": [
      "WARNING:tensorflow:Can save best model only with val_loss available, skipping.\n"
     ]
    },
    {
     "name": "stdout",
     "output_type": "stream",
     "text": [
      "36/36 [==============================] - 20s 563ms/step - loss: 0.0104 - semantic_0_loss: 0.0028 - semantic_1_loss: 0.0064 - semantic_2_loss: 0.0012 - lr: 2.7904e-05\n",
      "Epoch 129/200\n",
      "36/36 [==============================] - ETA: 0s - loss: 0.0104 - semantic_0_loss: 0.0028 - semantic_1_loss: 0.0064 - semantic_2_loss: 0.0012WARNING:tensorflow:Can save best model only with val_loss available, skipping.\n"
     ]
    },
    {
     "name": "stderr",
     "output_type": "stream",
     "text": [
      "WARNING:tensorflow:Can save best model only with val_loss available, skipping.\n"
     ]
    },
    {
     "name": "stdout",
     "output_type": "stream",
     "text": [
      "36/36 [==============================] - 21s 571ms/step - loss: 0.0104 - semantic_0_loss: 0.0028 - semantic_1_loss: 0.0064 - semantic_2_loss: 0.0012 - lr: 2.7625e-05\n",
      "Epoch 130/200\n",
      "36/36 [==============================] - ETA: 0s - loss: 0.0102 - semantic_0_loss: 0.0027 - semantic_1_loss: 0.0063 - semantic_2_loss: 0.0012WARNING:tensorflow:Can save best model only with val_loss available, skipping.\n"
     ]
    },
    {
     "name": "stderr",
     "output_type": "stream",
     "text": [
      "WARNING:tensorflow:Can save best model only with val_loss available, skipping.\n"
     ]
    },
    {
     "name": "stdout",
     "output_type": "stream",
     "text": [
      "36/36 [==============================] - 20s 564ms/step - loss: 0.0102 - semantic_0_loss: 0.0027 - semantic_1_loss: 0.0063 - semantic_2_loss: 0.0012 - lr: 2.7349e-05\n",
      "Epoch 131/200\n",
      "36/36 [==============================] - ETA: 0s - loss: 0.0103 - semantic_0_loss: 0.0028 - semantic_1_loss: 0.0063 - semantic_2_loss: 0.0012WARNING:tensorflow:Can save best model only with val_loss available, skipping.\n"
     ]
    },
    {
     "name": "stderr",
     "output_type": "stream",
     "text": [
      "WARNING:tensorflow:Can save best model only with val_loss available, skipping.\n"
     ]
    },
    {
     "name": "stdout",
     "output_type": "stream",
     "text": [
      "36/36 [==============================] - 21s 567ms/step - loss: 0.0103 - semantic_0_loss: 0.0028 - semantic_1_loss: 0.0063 - semantic_2_loss: 0.0012 - lr: 2.7075e-05\n",
      "Epoch 132/200\n",
      "36/36 [==============================] - ETA: 0s - loss: 0.0101 - semantic_0_loss: 0.0027 - semantic_1_loss: 0.0063 - semantic_2_loss: 0.0012WARNING:tensorflow:Can save best model only with val_loss available, skipping.\n"
     ]
    },
    {
     "name": "stderr",
     "output_type": "stream",
     "text": [
      "WARNING:tensorflow:Can save best model only with val_loss available, skipping.\n"
     ]
    },
    {
     "name": "stdout",
     "output_type": "stream",
     "text": [
      "36/36 [==============================] - 21s 567ms/step - loss: 0.0101 - semantic_0_loss: 0.0027 - semantic_1_loss: 0.0063 - semantic_2_loss: 0.0012 - lr: 2.6805e-05\n",
      "Epoch 133/200\n",
      "36/36 [==============================] - ETA: 0s - loss: 0.0103 - semantic_0_loss: 0.0028 - semantic_1_loss: 0.0063 - semantic_2_loss: 0.0012WARNING:tensorflow:Can save best model only with val_loss available, skipping.\n"
     ]
    },
    {
     "name": "stderr",
     "output_type": "stream",
     "text": [
      "WARNING:tensorflow:Can save best model only with val_loss available, skipping.\n"
     ]
    },
    {
     "name": "stdout",
     "output_type": "stream",
     "text": [
      "36/36 [==============================] - 21s 569ms/step - loss: 0.0103 - semantic_0_loss: 0.0028 - semantic_1_loss: 0.0063 - semantic_2_loss: 0.0012 - lr: 2.6537e-05\n",
      "Epoch 134/200\n",
      "36/36 [==============================] - ETA: 0s - loss: 0.0104 - semantic_0_loss: 0.0028 - semantic_1_loss: 0.0064 - semantic_2_loss: 0.0012WARNING:tensorflow:Can save best model only with val_loss available, skipping.\n"
     ]
    },
    {
     "name": "stderr",
     "output_type": "stream",
     "text": [
      "WARNING:tensorflow:Can save best model only with val_loss available, skipping.\n"
     ]
    },
    {
     "name": "stdout",
     "output_type": "stream",
     "text": [
      "36/36 [==============================] - 21s 569ms/step - loss: 0.0104 - semantic_0_loss: 0.0028 - semantic_1_loss: 0.0064 - semantic_2_loss: 0.0012 - lr: 2.6271e-05\n",
      "Epoch 135/200\n",
      "36/36 [==============================] - ETA: 0s - loss: 0.0101 - semantic_0_loss: 0.0027 - semantic_1_loss: 0.0062 - semantic_2_loss: 0.0012WARNING:tensorflow:Can save best model only with val_loss available, skipping.\n"
     ]
    },
    {
     "name": "stderr",
     "output_type": "stream",
     "text": [
      "WARNING:tensorflow:Can save best model only with val_loss available, skipping.\n"
     ]
    },
    {
     "name": "stdout",
     "output_type": "stream",
     "text": [
      "36/36 [==============================] - 20s 555ms/step - loss: 0.0101 - semantic_0_loss: 0.0027 - semantic_1_loss: 0.0062 - semantic_2_loss: 0.0012 - lr: 2.6009e-05\n",
      "Epoch 136/200\n",
      "36/36 [==============================] - ETA: 0s - loss: 0.0102 - semantic_0_loss: 0.0028 - semantic_1_loss: 0.0063 - semantic_2_loss: 0.0012WARNING:tensorflow:Can save best model only with val_loss available, skipping.\n"
     ]
    },
    {
     "name": "stderr",
     "output_type": "stream",
     "text": [
      "WARNING:tensorflow:Can save best model only with val_loss available, skipping.\n"
     ]
    },
    {
     "name": "stdout",
     "output_type": "stream",
     "text": [
      "36/36 [==============================] - 21s 568ms/step - loss: 0.0102 - semantic_0_loss: 0.0028 - semantic_1_loss: 0.0063 - semantic_2_loss: 0.0012 - lr: 2.5748e-05\n",
      "Epoch 137/200\n",
      "36/36 [==============================] - ETA: 0s - loss: 0.0101 - semantic_0_loss: 0.0027 - semantic_1_loss: 0.0062 - semantic_2_loss: 0.0012WARNING:tensorflow:Can save best model only with val_loss available, skipping.\n"
     ]
    },
    {
     "name": "stderr",
     "output_type": "stream",
     "text": [
      "WARNING:tensorflow:Can save best model only with val_loss available, skipping.\n"
     ]
    },
    {
     "name": "stdout",
     "output_type": "stream",
     "text": [
      "36/36 [==============================] - 21s 568ms/step - loss: 0.0101 - semantic_0_loss: 0.0027 - semantic_1_loss: 0.0062 - semantic_2_loss: 0.0012 - lr: 2.5491e-05\n",
      "Epoch 138/200\n",
      "36/36 [==============================] - ETA: 0s - loss: 0.0102 - semantic_0_loss: 0.0028 - semantic_1_loss: 0.0063 - semantic_2_loss: 0.0012WARNING:tensorflow:Can save best model only with val_loss available, skipping.\n"
     ]
    },
    {
     "name": "stderr",
     "output_type": "stream",
     "text": [
      "WARNING:tensorflow:Can save best model only with val_loss available, skipping.\n"
     ]
    },
    {
     "name": "stdout",
     "output_type": "stream",
     "text": [
      "36/36 [==============================] - 20s 563ms/step - loss: 0.0102 - semantic_0_loss: 0.0028 - semantic_1_loss: 0.0063 - semantic_2_loss: 0.0012 - lr: 2.5236e-05\n",
      "Epoch 139/200\n",
      "36/36 [==============================] - ETA: 0s - loss: 0.0101 - semantic_0_loss: 0.0028 - semantic_1_loss: 0.0062 - semantic_2_loss: 0.0012WARNING:tensorflow:Can save best model only with val_loss available, skipping.\n"
     ]
    },
    {
     "name": "stderr",
     "output_type": "stream",
     "text": [
      "WARNING:tensorflow:Can save best model only with val_loss available, skipping.\n"
     ]
    },
    {
     "name": "stdout",
     "output_type": "stream",
     "text": [
      "36/36 [==============================] - 21s 564ms/step - loss: 0.0101 - semantic_0_loss: 0.0028 - semantic_1_loss: 0.0062 - semantic_2_loss: 0.0012 - lr: 2.4984e-05\n",
      "Epoch 140/200\n",
      "36/36 [==============================] - ETA: 0s - loss: 0.0102 - semantic_0_loss: 0.0028 - semantic_1_loss: 0.0063 - semantic_2_loss: 0.0012WARNING:tensorflow:Can save best model only with val_loss available, skipping.\n"
     ]
    },
    {
     "name": "stderr",
     "output_type": "stream",
     "text": [
      "WARNING:tensorflow:Can save best model only with val_loss available, skipping.\n"
     ]
    },
    {
     "name": "stdout",
     "output_type": "stream",
     "text": [
      "36/36 [==============================] - 21s 568ms/step - loss: 0.0102 - semantic_0_loss: 0.0028 - semantic_1_loss: 0.0063 - semantic_2_loss: 0.0012 - lr: 2.4734e-05\n",
      "Epoch 141/200\n",
      "36/36 [==============================] - ETA: 0s - loss: 0.0103 - semantic_0_loss: 0.0028 - semantic_1_loss: 0.0063 - semantic_2_loss: 0.0012WARNING:tensorflow:Can save best model only with val_loss available, skipping.\n"
     ]
    },
    {
     "name": "stderr",
     "output_type": "stream",
     "text": [
      "WARNING:tensorflow:Can save best model only with val_loss available, skipping.\n"
     ]
    },
    {
     "name": "stdout",
     "output_type": "stream",
     "text": [
      "36/36 [==============================] - 21s 568ms/step - loss: 0.0103 - semantic_0_loss: 0.0028 - semantic_1_loss: 0.0063 - semantic_2_loss: 0.0012 - lr: 2.4487e-05\n",
      "Epoch 142/200\n",
      "36/36 [==============================] - ETA: 0s - loss: 0.0100 - semantic_0_loss: 0.0027 - semantic_1_loss: 0.0061 - semantic_2_loss: 0.0012WARNING:tensorflow:Can save best model only with val_loss available, skipping.\n"
     ]
    },
    {
     "name": "stderr",
     "output_type": "stream",
     "text": [
      "WARNING:tensorflow:Can save best model only with val_loss available, skipping.\n"
     ]
    },
    {
     "name": "stdout",
     "output_type": "stream",
     "text": [
      "36/36 [==============================] - 20s 560ms/step - loss: 0.0100 - semantic_0_loss: 0.0027 - semantic_1_loss: 0.0061 - semantic_2_loss: 0.0012 - lr: 2.4242e-05\n",
      "Epoch 143/200\n",
      "36/36 [==============================] - ETA: 0s - loss: 0.0102 - semantic_0_loss: 0.0028 - semantic_1_loss: 0.0063 - semantic_2_loss: 0.0012WARNING:tensorflow:Can save best model only with val_loss available, skipping.\n"
     ]
    },
    {
     "name": "stderr",
     "output_type": "stream",
     "text": [
      "WARNING:tensorflow:Can save best model only with val_loss available, skipping.\n"
     ]
    },
    {
     "name": "stdout",
     "output_type": "stream",
     "text": [
      "36/36 [==============================] - 20s 564ms/step - loss: 0.0102 - semantic_0_loss: 0.0028 - semantic_1_loss: 0.0063 - semantic_2_loss: 0.0012 - lr: 2.3999e-05\n",
      "Epoch 144/200\n",
      "36/36 [==============================] - ETA: 0s - loss: 0.0103 - semantic_0_loss: 0.0028 - semantic_1_loss: 0.0064 - semantic_2_loss: 0.0012WARNING:tensorflow:Can save best model only with val_loss available, skipping.\n"
     ]
    },
    {
     "name": "stderr",
     "output_type": "stream",
     "text": [
      "WARNING:tensorflow:Can save best model only with val_loss available, skipping.\n"
     ]
    },
    {
     "name": "stdout",
     "output_type": "stream",
     "text": [
      "36/36 [==============================] - 20s 561ms/step - loss: 0.0103 - semantic_0_loss: 0.0028 - semantic_1_loss: 0.0064 - semantic_2_loss: 0.0012 - lr: 2.3759e-05\n",
      "Epoch 145/200\n",
      "36/36 [==============================] - ETA: 0s - loss: 0.0102 - semantic_0_loss: 0.0028 - semantic_1_loss: 0.0062 - semantic_2_loss: 0.0012WARNING:tensorflow:Can save best model only with val_loss available, skipping.\n"
     ]
    },
    {
     "name": "stderr",
     "output_type": "stream",
     "text": [
      "WARNING:tensorflow:Can save best model only with val_loss available, skipping.\n"
     ]
    },
    {
     "name": "stdout",
     "output_type": "stream",
     "text": [
      "36/36 [==============================] - 21s 588ms/step - loss: 0.0102 - semantic_0_loss: 0.0028 - semantic_1_loss: 0.0062 - semantic_2_loss: 0.0012 - lr: 2.3522e-05\n",
      "Epoch 146/200\n",
      "36/36 [==============================] - ETA: 0s - loss: 0.0102 - semantic_0_loss: 0.0028 - semantic_1_loss: 0.0063 - semantic_2_loss: 0.0012WARNING:tensorflow:Can save best model only with val_loss available, skipping.\n"
     ]
    },
    {
     "name": "stderr",
     "output_type": "stream",
     "text": [
      "WARNING:tensorflow:Can save best model only with val_loss available, skipping.\n"
     ]
    },
    {
     "name": "stdout",
     "output_type": "stream",
     "text": [
      "36/36 [==============================] - 21s 570ms/step - loss: 0.0102 - semantic_0_loss: 0.0028 - semantic_1_loss: 0.0063 - semantic_2_loss: 0.0012 - lr: 2.3286e-05\n",
      "Epoch 147/200\n",
      "36/36 [==============================] - ETA: 0s - loss: 0.0101 - semantic_0_loss: 0.0027 - semantic_1_loss: 0.0062 - semantic_2_loss: 0.0012WARNING:tensorflow:Can save best model only with val_loss available, skipping.\n"
     ]
    },
    {
     "name": "stderr",
     "output_type": "stream",
     "text": [
      "WARNING:tensorflow:Can save best model only with val_loss available, skipping.\n"
     ]
    },
    {
     "name": "stdout",
     "output_type": "stream",
     "text": [
      "36/36 [==============================] - 20s 562ms/step - loss: 0.0101 - semantic_0_loss: 0.0027 - semantic_1_loss: 0.0062 - semantic_2_loss: 0.0012 - lr: 2.3054e-05\n",
      "Epoch 148/200\n",
      "36/36 [==============================] - ETA: 0s - loss: 0.0102 - semantic_0_loss: 0.0028 - semantic_1_loss: 0.0062 - semantic_2_loss: 0.0012WARNING:tensorflow:Can save best model only with val_loss available, skipping.\n"
     ]
    },
    {
     "name": "stderr",
     "output_type": "stream",
     "text": [
      "WARNING:tensorflow:Can save best model only with val_loss available, skipping.\n"
     ]
    },
    {
     "name": "stdout",
     "output_type": "stream",
     "text": [
      "36/36 [==============================] - 21s 567ms/step - loss: 0.0102 - semantic_0_loss: 0.0028 - semantic_1_loss: 0.0062 - semantic_2_loss: 0.0012 - lr: 2.2823e-05\n",
      "Epoch 149/200\n",
      "36/36 [==============================] - ETA: 0s - loss: 0.0100 - semantic_0_loss: 0.0027 - semantic_1_loss: 0.0062 - semantic_2_loss: 0.0012WARNING:tensorflow:Can save best model only with val_loss available, skipping.\n"
     ]
    },
    {
     "name": "stderr",
     "output_type": "stream",
     "text": [
      "WARNING:tensorflow:Can save best model only with val_loss available, skipping.\n"
     ]
    },
    {
     "name": "stdout",
     "output_type": "stream",
     "text": [
      "36/36 [==============================] - 21s 564ms/step - loss: 0.0100 - semantic_0_loss: 0.0027 - semantic_1_loss: 0.0062 - semantic_2_loss: 0.0012 - lr: 2.2595e-05\n",
      "Epoch 150/200\n",
      "36/36 [==============================] - ETA: 0s - loss: 0.0101 - semantic_0_loss: 0.0027 - semantic_1_loss: 0.0062 - semantic_2_loss: 0.0012WARNING:tensorflow:Can save best model only with val_loss available, skipping.\n"
     ]
    },
    {
     "name": "stderr",
     "output_type": "stream",
     "text": [
      "WARNING:tensorflow:Can save best model only with val_loss available, skipping.\n"
     ]
    },
    {
     "name": "stdout",
     "output_type": "stream",
     "text": [
      "36/36 [==============================] - 21s 567ms/step - loss: 0.0101 - semantic_0_loss: 0.0027 - semantic_1_loss: 0.0062 - semantic_2_loss: 0.0012 - lr: 2.2369e-05\n",
      "Epoch 151/200\n",
      "36/36 [==============================] - ETA: 0s - loss: 0.0101 - semantic_0_loss: 0.0028 - semantic_1_loss: 0.0062 - semantic_2_loss: 0.0012WARNING:tensorflow:Can save best model only with val_loss available, skipping.\n"
     ]
    },
    {
     "name": "stderr",
     "output_type": "stream",
     "text": [
      "WARNING:tensorflow:Can save best model only with val_loss available, skipping.\n"
     ]
    },
    {
     "name": "stdout",
     "output_type": "stream",
     "text": [
      "36/36 [==============================] - 20s 561ms/step - loss: 0.0101 - semantic_0_loss: 0.0028 - semantic_1_loss: 0.0062 - semantic_2_loss: 0.0012 - lr: 2.2145e-05\n",
      "Epoch 152/200\n",
      "36/36 [==============================] - ETA: 0s - loss: 0.0101 - semantic_0_loss: 0.0027 - semantic_1_loss: 0.0062 - semantic_2_loss: 0.0012WARNING:tensorflow:Can save best model only with val_loss available, skipping.\n"
     ]
    },
    {
     "name": "stderr",
     "output_type": "stream",
     "text": [
      "WARNING:tensorflow:Can save best model only with val_loss available, skipping.\n"
     ]
    },
    {
     "name": "stdout",
     "output_type": "stream",
     "text": [
      "36/36 [==============================] - 20s 558ms/step - loss: 0.0101 - semantic_0_loss: 0.0027 - semantic_1_loss: 0.0062 - semantic_2_loss: 0.0012 - lr: 2.1924e-05\n",
      "Epoch 153/200\n",
      "36/36 [==============================] - ETA: 0s - loss: 0.0102 - semantic_0_loss: 0.0028 - semantic_1_loss: 0.0063 - semantic_2_loss: 0.0012WARNING:tensorflow:Can save best model only with val_loss available, skipping.\n"
     ]
    },
    {
     "name": "stderr",
     "output_type": "stream",
     "text": [
      "WARNING:tensorflow:Can save best model only with val_loss available, skipping.\n"
     ]
    },
    {
     "name": "stdout",
     "output_type": "stream",
     "text": [
      "36/36 [==============================] - 21s 562ms/step - loss: 0.0102 - semantic_0_loss: 0.0028 - semantic_1_loss: 0.0063 - semantic_2_loss: 0.0012 - lr: 2.1704e-05\n",
      "Epoch 154/200\n",
      "36/36 [==============================] - ETA: 0s - loss: 0.0101 - semantic_0_loss: 0.0028 - semantic_1_loss: 0.0062 - semantic_2_loss: 0.0012WARNING:tensorflow:Can save best model only with val_loss available, skipping.\n"
     ]
    },
    {
     "name": "stderr",
     "output_type": "stream",
     "text": [
      "WARNING:tensorflow:Can save best model only with val_loss available, skipping.\n"
     ]
    },
    {
     "name": "stdout",
     "output_type": "stream",
     "text": [
      "36/36 [==============================] - 21s 567ms/step - loss: 0.0101 - semantic_0_loss: 0.0028 - semantic_1_loss: 0.0062 - semantic_2_loss: 0.0012 - lr: 2.1487e-05\n",
      "Epoch 155/200\n",
      "36/36 [==============================] - ETA: 0s - loss: 0.0100 - semantic_0_loss: 0.0027 - semantic_1_loss: 0.0061 - semantic_2_loss: 0.0012WARNING:tensorflow:Can save best model only with val_loss available, skipping.\n"
     ]
    },
    {
     "name": "stderr",
     "output_type": "stream",
     "text": [
      "WARNING:tensorflow:Can save best model only with val_loss available, skipping.\n"
     ]
    },
    {
     "name": "stdout",
     "output_type": "stream",
     "text": [
      "36/36 [==============================] - 21s 576ms/step - loss: 0.0100 - semantic_0_loss: 0.0027 - semantic_1_loss: 0.0061 - semantic_2_loss: 0.0012 - lr: 2.1273e-05\n",
      "Epoch 156/200\n",
      "36/36 [==============================] - ETA: 0s - loss: 0.0100 - semantic_0_loss: 0.0027 - semantic_1_loss: 0.0061 - semantic_2_loss: 0.0011WARNING:tensorflow:Can save best model only with val_loss available, skipping.\n"
     ]
    },
    {
     "name": "stderr",
     "output_type": "stream",
     "text": [
      "WARNING:tensorflow:Can save best model only with val_loss available, skipping.\n"
     ]
    },
    {
     "name": "stdout",
     "output_type": "stream",
     "text": [
      "36/36 [==============================] - 21s 567ms/step - loss: 0.0100 - semantic_0_loss: 0.0027 - semantic_1_loss: 0.0061 - semantic_2_loss: 0.0011 - lr: 2.1060e-05\n",
      "Epoch 157/200\n",
      "36/36 [==============================] - ETA: 0s - loss: 0.0102 - semantic_0_loss: 0.0028 - semantic_1_loss: 0.0062 - semantic_2_loss: 0.0012WARNING:tensorflow:Can save best model only with val_loss available, skipping.\n"
     ]
    },
    {
     "name": "stderr",
     "output_type": "stream",
     "text": [
      "WARNING:tensorflow:Can save best model only with val_loss available, skipping.\n"
     ]
    },
    {
     "name": "stdout",
     "output_type": "stream",
     "text": [
      "36/36 [==============================] - 21s 566ms/step - loss: 0.0102 - semantic_0_loss: 0.0028 - semantic_1_loss: 0.0062 - semantic_2_loss: 0.0012 - lr: 2.0849e-05\n",
      "Epoch 158/200\n",
      "36/36 [==============================] - ETA: 0s - loss: 0.0100 - semantic_0_loss: 0.0027 - semantic_1_loss: 0.0062 - semantic_2_loss: 0.0012WARNING:tensorflow:Can save best model only with val_loss available, skipping.\n"
     ]
    },
    {
     "name": "stderr",
     "output_type": "stream",
     "text": [
      "WARNING:tensorflow:Can save best model only with val_loss available, skipping.\n"
     ]
    },
    {
     "name": "stdout",
     "output_type": "stream",
     "text": [
      "36/36 [==============================] - 21s 569ms/step - loss: 0.0100 - semantic_0_loss: 0.0027 - semantic_1_loss: 0.0062 - semantic_2_loss: 0.0012 - lr: 2.0641e-05\n",
      "Epoch 159/200\n",
      "36/36 [==============================] - ETA: 0s - loss: 0.0099 - semantic_0_loss: 0.0027 - semantic_1_loss: 0.0061 - semantic_2_loss: 0.0011WARNING:tensorflow:Can save best model only with val_loss available, skipping.\n"
     ]
    },
    {
     "name": "stderr",
     "output_type": "stream",
     "text": [
      "WARNING:tensorflow:Can save best model only with val_loss available, skipping.\n"
     ]
    },
    {
     "name": "stdout",
     "output_type": "stream",
     "text": [
      "36/36 [==============================] - 20s 557ms/step - loss: 0.0099 - semantic_0_loss: 0.0027 - semantic_1_loss: 0.0061 - semantic_2_loss: 0.0011 - lr: 2.0434e-05\n",
      "Epoch 160/200\n",
      "36/36 [==============================] - ETA: 0s - loss: 0.0100 - semantic_0_loss: 0.0027 - semantic_1_loss: 0.0061 - semantic_2_loss: 0.0011WARNING:tensorflow:Can save best model only with val_loss available, skipping.\n"
     ]
    },
    {
     "name": "stderr",
     "output_type": "stream",
     "text": [
      "WARNING:tensorflow:Can save best model only with val_loss available, skipping.\n"
     ]
    },
    {
     "name": "stdout",
     "output_type": "stream",
     "text": [
      "36/36 [==============================] - 21s 571ms/step - loss: 0.0100 - semantic_0_loss: 0.0027 - semantic_1_loss: 0.0061 - semantic_2_loss: 0.0011 - lr: 2.0230e-05\n",
      "Epoch 161/200\n",
      "36/36 [==============================] - ETA: 0s - loss: 0.0101 - semantic_0_loss: 0.0027 - semantic_1_loss: 0.0062 - semantic_2_loss: 0.0012WARNING:tensorflow:Can save best model only with val_loss available, skipping.\n"
     ]
    },
    {
     "name": "stderr",
     "output_type": "stream",
     "text": [
      "WARNING:tensorflow:Can save best model only with val_loss available, skipping.\n"
     ]
    },
    {
     "name": "stdout",
     "output_type": "stream",
     "text": [
      "36/36 [==============================] - 20s 563ms/step - loss: 0.0101 - semantic_0_loss: 0.0027 - semantic_1_loss: 0.0062 - semantic_2_loss: 0.0012 - lr: 2.0028e-05\n",
      "Epoch 162/200\n",
      "36/36 [==============================] - ETA: 0s - loss: 0.0101 - semantic_0_loss: 0.0027 - semantic_1_loss: 0.0062 - semantic_2_loss: 0.0012WARNING:tensorflow:Can save best model only with val_loss available, skipping.\n"
     ]
    },
    {
     "name": "stderr",
     "output_type": "stream",
     "text": [
      "WARNING:tensorflow:Can save best model only with val_loss available, skipping.\n"
     ]
    },
    {
     "name": "stdout",
     "output_type": "stream",
     "text": [
      "36/36 [==============================] - 20s 561ms/step - loss: 0.0101 - semantic_0_loss: 0.0027 - semantic_1_loss: 0.0062 - semantic_2_loss: 0.0012 - lr: 1.9827e-05\n",
      "Epoch 163/200\n",
      "36/36 [==============================] - ETA: 0s - loss: 0.0100 - semantic_0_loss: 0.0027 - semantic_1_loss: 0.0061 - semantic_2_loss: 0.0012WARNING:tensorflow:Can save best model only with val_loss available, skipping.\n"
     ]
    },
    {
     "name": "stderr",
     "output_type": "stream",
     "text": [
      "WARNING:tensorflow:Can save best model only with val_loss available, skipping.\n"
     ]
    },
    {
     "name": "stdout",
     "output_type": "stream",
     "text": [
      "36/36 [==============================] - 21s 567ms/step - loss: 0.0100 - semantic_0_loss: 0.0027 - semantic_1_loss: 0.0061 - semantic_2_loss: 0.0012 - lr: 1.9629e-05\n",
      "Epoch 164/200\n",
      "36/36 [==============================] - ETA: 0s - loss: 0.0099 - semantic_0_loss: 0.0027 - semantic_1_loss: 0.0061 - semantic_2_loss: 0.0011WARNING:tensorflow:Can save best model only with val_loss available, skipping.\n"
     ]
    },
    {
     "name": "stderr",
     "output_type": "stream",
     "text": [
      "WARNING:tensorflow:Can save best model only with val_loss available, skipping.\n"
     ]
    },
    {
     "name": "stdout",
     "output_type": "stream",
     "text": [
      "36/36 [==============================] - 20s 564ms/step - loss: 0.0099 - semantic_0_loss: 0.0027 - semantic_1_loss: 0.0061 - semantic_2_loss: 0.0011 - lr: 1.9433e-05\n",
      "Epoch 165/200\n",
      "36/36 [==============================] - ETA: 0s - loss: 0.0098 - semantic_0_loss: 0.0027 - semantic_1_loss: 0.0060 - semantic_2_loss: 0.0011WARNING:tensorflow:Can save best model only with val_loss available, skipping.\n"
     ]
    },
    {
     "name": "stderr",
     "output_type": "stream",
     "text": [
      "WARNING:tensorflow:Can save best model only with val_loss available, skipping.\n"
     ]
    },
    {
     "name": "stdout",
     "output_type": "stream",
     "text": [
      "36/36 [==============================] - 21s 565ms/step - loss: 0.0098 - semantic_0_loss: 0.0027 - semantic_1_loss: 0.0060 - semantic_2_loss: 0.0011 - lr: 1.9239e-05\n",
      "Epoch 166/200\n",
      "36/36 [==============================] - ETA: 0s - loss: 0.0100 - semantic_0_loss: 0.0027 - semantic_1_loss: 0.0061 - semantic_2_loss: 0.0011WARNING:tensorflow:Can save best model only with val_loss available, skipping.\n"
     ]
    },
    {
     "name": "stderr",
     "output_type": "stream",
     "text": [
      "WARNING:tensorflow:Can save best model only with val_loss available, skipping.\n"
     ]
    },
    {
     "name": "stdout",
     "output_type": "stream",
     "text": [
      "36/36 [==============================] - 21s 564ms/step - loss: 0.0100 - semantic_0_loss: 0.0027 - semantic_1_loss: 0.0061 - semantic_2_loss: 0.0011 - lr: 1.9046e-05\n",
      "Epoch 167/200\n",
      "36/36 [==============================] - ETA: 0s - loss: 0.0101 - semantic_0_loss: 0.0028 - semantic_1_loss: 0.0062 - semantic_2_loss: 0.0012WARNING:tensorflow:Can save best model only with val_loss available, skipping.\n"
     ]
    },
    {
     "name": "stderr",
     "output_type": "stream",
     "text": [
      "WARNING:tensorflow:Can save best model only with val_loss available, skipping.\n"
     ]
    },
    {
     "name": "stdout",
     "output_type": "stream",
     "text": [
      "36/36 [==============================] - 20s 562ms/step - loss: 0.0101 - semantic_0_loss: 0.0028 - semantic_1_loss: 0.0062 - semantic_2_loss: 0.0012 - lr: 1.8856e-05\n",
      "Epoch 168/200\n",
      "36/36 [==============================] - ETA: 0s - loss: 0.0100 - semantic_0_loss: 0.0027 - semantic_1_loss: 0.0061 - semantic_2_loss: 0.0012WARNING:tensorflow:Can save best model only with val_loss available, skipping.\n"
     ]
    },
    {
     "name": "stderr",
     "output_type": "stream",
     "text": [
      "WARNING:tensorflow:Can save best model only with val_loss available, skipping.\n"
     ]
    },
    {
     "name": "stdout",
     "output_type": "stream",
     "text": [
      "36/36 [==============================] - 21s 569ms/step - loss: 0.0100 - semantic_0_loss: 0.0027 - semantic_1_loss: 0.0061 - semantic_2_loss: 0.0012 - lr: 1.8667e-05\n",
      "Epoch 169/200\n",
      "36/36 [==============================] - ETA: 0s - loss: 0.0100 - semantic_0_loss: 0.0028 - semantic_1_loss: 0.0061 - semantic_2_loss: 0.0012WARNING:tensorflow:Can save best model only with val_loss available, skipping.\n"
     ]
    },
    {
     "name": "stderr",
     "output_type": "stream",
     "text": [
      "WARNING:tensorflow:Can save best model only with val_loss available, skipping.\n"
     ]
    },
    {
     "name": "stdout",
     "output_type": "stream",
     "text": [
      "36/36 [==============================] - 20s 562ms/step - loss: 0.0100 - semantic_0_loss: 0.0028 - semantic_1_loss: 0.0061 - semantic_2_loss: 0.0012 - lr: 1.8480e-05\n",
      "Epoch 170/200\n",
      "36/36 [==============================] - ETA: 0s - loss: 0.0099 - semantic_0_loss: 0.0027 - semantic_1_loss: 0.0060 - semantic_2_loss: 0.0011WARNING:tensorflow:Can save best model only with val_loss available, skipping.\n"
     ]
    },
    {
     "name": "stderr",
     "output_type": "stream",
     "text": [
      "WARNING:tensorflow:Can save best model only with val_loss available, skipping.\n"
     ]
    },
    {
     "name": "stdout",
     "output_type": "stream",
     "text": [
      "36/36 [==============================] - 21s 573ms/step - loss: 0.0099 - semantic_0_loss: 0.0027 - semantic_1_loss: 0.0060 - semantic_2_loss: 0.0011 - lr: 1.8296e-05\n",
      "Epoch 171/200\n",
      "36/36 [==============================] - ETA: 0s - loss: 0.0100 - semantic_0_loss: 0.0027 - semantic_1_loss: 0.0061 - semantic_2_loss: 0.0012WARNING:tensorflow:Can save best model only with val_loss available, skipping.\n"
     ]
    },
    {
     "name": "stderr",
     "output_type": "stream",
     "text": [
      "WARNING:tensorflow:Can save best model only with val_loss available, skipping.\n"
     ]
    },
    {
     "name": "stdout",
     "output_type": "stream",
     "text": [
      "36/36 [==============================] - 21s 564ms/step - loss: 0.0100 - semantic_0_loss: 0.0027 - semantic_1_loss: 0.0061 - semantic_2_loss: 0.0012 - lr: 1.8113e-05\n",
      "Epoch 172/200\n",
      "36/36 [==============================] - ETA: 0s - loss: 0.0099 - semantic_0_loss: 0.0027 - semantic_1_loss: 0.0061 - semantic_2_loss: 0.0011WARNING:tensorflow:Can save best model only with val_loss available, skipping.\n"
     ]
    },
    {
     "name": "stderr",
     "output_type": "stream",
     "text": [
      "WARNING:tensorflow:Can save best model only with val_loss available, skipping.\n"
     ]
    },
    {
     "name": "stdout",
     "output_type": "stream",
     "text": [
      "36/36 [==============================] - 21s 571ms/step - loss: 0.0099 - semantic_0_loss: 0.0027 - semantic_1_loss: 0.0061 - semantic_2_loss: 0.0011 - lr: 1.7932e-05\n",
      "Epoch 173/200\n",
      "36/36 [==============================] - ETA: 0s - loss: 0.0098 - semantic_0_loss: 0.0027 - semantic_1_loss: 0.0060 - semantic_2_loss: 0.0011WARNING:tensorflow:Can save best model only with val_loss available, skipping.\n"
     ]
    },
    {
     "name": "stderr",
     "output_type": "stream",
     "text": [
      "WARNING:tensorflow:Can save best model only with val_loss available, skipping.\n"
     ]
    },
    {
     "name": "stdout",
     "output_type": "stream",
     "text": [
      "36/36 [==============================] - 21s 568ms/step - loss: 0.0098 - semantic_0_loss: 0.0027 - semantic_1_loss: 0.0060 - semantic_2_loss: 0.0011 - lr: 1.7752e-05\n",
      "Epoch 174/200\n",
      "36/36 [==============================] - ETA: 0s - loss: 0.0098 - semantic_0_loss: 0.0027 - semantic_1_loss: 0.0060 - semantic_2_loss: 0.0011WARNING:tensorflow:Can save best model only with val_loss available, skipping.\n"
     ]
    },
    {
     "name": "stderr",
     "output_type": "stream",
     "text": [
      "WARNING:tensorflow:Can save best model only with val_loss available, skipping.\n"
     ]
    },
    {
     "name": "stdout",
     "output_type": "stream",
     "text": [
      "36/36 [==============================] - 21s 568ms/step - loss: 0.0098 - semantic_0_loss: 0.0027 - semantic_1_loss: 0.0060 - semantic_2_loss: 0.0011 - lr: 1.7575e-05\n",
      "Epoch 175/200\n",
      "36/36 [==============================] - ETA: 0s - loss: 0.0097 - semantic_0_loss: 0.0026 - semantic_1_loss: 0.0059 - semantic_2_loss: 0.0011WARNING:tensorflow:Can save best model only with val_loss available, skipping.\n"
     ]
    },
    {
     "name": "stderr",
     "output_type": "stream",
     "text": [
      "WARNING:tensorflow:Can save best model only with val_loss available, skipping.\n"
     ]
    },
    {
     "name": "stdout",
     "output_type": "stream",
     "text": [
      "36/36 [==============================] - 21s 575ms/step - loss: 0.0097 - semantic_0_loss: 0.0026 - semantic_1_loss: 0.0059 - semantic_2_loss: 0.0011 - lr: 1.7399e-05\n",
      "Epoch 176/200\n",
      "36/36 [==============================] - ETA: 0s - loss: 0.0100 - semantic_0_loss: 0.0027 - semantic_1_loss: 0.0061 - semantic_2_loss: 0.0011WARNING:tensorflow:Can save best model only with val_loss available, skipping.\n"
     ]
    },
    {
     "name": "stderr",
     "output_type": "stream",
     "text": [
      "WARNING:tensorflow:Can save best model only with val_loss available, skipping.\n"
     ]
    },
    {
     "name": "stdout",
     "output_type": "stream",
     "text": [
      "36/36 [==============================] - 20s 566ms/step - loss: 0.0100 - semantic_0_loss: 0.0027 - semantic_1_loss: 0.0061 - semantic_2_loss: 0.0011 - lr: 1.7225e-05\n",
      "Epoch 177/200\n",
      "36/36 [==============================] - ETA: 0s - loss: 0.0099 - semantic_0_loss: 0.0027 - semantic_1_loss: 0.0060 - semantic_2_loss: 0.0011WARNING:tensorflow:Can save best model only with val_loss available, skipping.\n"
     ]
    },
    {
     "name": "stderr",
     "output_type": "stream",
     "text": [
      "WARNING:tensorflow:Can save best model only with val_loss available, skipping.\n"
     ]
    },
    {
     "name": "stdout",
     "output_type": "stream",
     "text": [
      "36/36 [==============================] - 21s 566ms/step - loss: 0.0099 - semantic_0_loss: 0.0027 - semantic_1_loss: 0.0060 - semantic_2_loss: 0.0011 - lr: 1.7053e-05\n",
      "Epoch 178/200\n",
      "36/36 [==============================] - ETA: 0s - loss: 0.0098 - semantic_0_loss: 0.0027 - semantic_1_loss: 0.0060 - semantic_2_loss: 0.0011WARNING:tensorflow:Can save best model only with val_loss available, skipping.\n"
     ]
    },
    {
     "name": "stderr",
     "output_type": "stream",
     "text": [
      "WARNING:tensorflow:Can save best model only with val_loss available, skipping.\n"
     ]
    },
    {
     "name": "stdout",
     "output_type": "stream",
     "text": [
      "36/36 [==============================] - 21s 564ms/step - loss: 0.0098 - semantic_0_loss: 0.0027 - semantic_1_loss: 0.0060 - semantic_2_loss: 0.0011 - lr: 1.6882e-05\n",
      "Epoch 179/200\n",
      "36/36 [==============================] - ETA: 0s - loss: 0.0099 - semantic_0_loss: 0.0027 - semantic_1_loss: 0.0061 - semantic_2_loss: 0.0011WARNING:tensorflow:Can save best model only with val_loss available, skipping.\n"
     ]
    },
    {
     "name": "stderr",
     "output_type": "stream",
     "text": [
      "WARNING:tensorflow:Can save best model only with val_loss available, skipping.\n"
     ]
    },
    {
     "name": "stdout",
     "output_type": "stream",
     "text": [
      "36/36 [==============================] - 21s 571ms/step - loss: 0.0099 - semantic_0_loss: 0.0027 - semantic_1_loss: 0.0061 - semantic_2_loss: 0.0011 - lr: 1.6713e-05\n",
      "Epoch 180/200\n",
      "36/36 [==============================] - ETA: 0s - loss: 0.0098 - semantic_0_loss: 0.0027 - semantic_1_loss: 0.0060 - semantic_2_loss: 0.0011WARNING:tensorflow:Can save best model only with val_loss available, skipping.\n"
     ]
    },
    {
     "name": "stderr",
     "output_type": "stream",
     "text": [
      "WARNING:tensorflow:Can save best model only with val_loss available, skipping.\n"
     ]
    },
    {
     "name": "stdout",
     "output_type": "stream",
     "text": [
      "36/36 [==============================] - 21s 569ms/step - loss: 0.0098 - semantic_0_loss: 0.0027 - semantic_1_loss: 0.0060 - semantic_2_loss: 0.0011 - lr: 1.6546e-05\n",
      "Epoch 181/200\n",
      "36/36 [==============================] - ETA: 0s - loss: 0.0098 - semantic_0_loss: 0.0026 - semantic_1_loss: 0.0060 - semantic_2_loss: 0.0011WARNING:tensorflow:Can save best model only with val_loss available, skipping.\n"
     ]
    },
    {
     "name": "stderr",
     "output_type": "stream",
     "text": [
      "WARNING:tensorflow:Can save best model only with val_loss available, skipping.\n"
     ]
    },
    {
     "name": "stdout",
     "output_type": "stream",
     "text": [
      "36/36 [==============================] - 20s 561ms/step - loss: 0.0098 - semantic_0_loss: 0.0026 - semantic_1_loss: 0.0060 - semantic_2_loss: 0.0011 - lr: 1.6381e-05\n",
      "Epoch 182/200\n",
      "36/36 [==============================] - ETA: 0s - loss: 0.0098 - semantic_0_loss: 0.0027 - semantic_1_loss: 0.0060 - semantic_2_loss: 0.0011WARNING:tensorflow:Can save best model only with val_loss available, skipping.\n"
     ]
    },
    {
     "name": "stderr",
     "output_type": "stream",
     "text": [
      "WARNING:tensorflow:Can save best model only with val_loss available, skipping.\n"
     ]
    },
    {
     "name": "stdout",
     "output_type": "stream",
     "text": [
      "36/36 [==============================] - 21s 573ms/step - loss: 0.0098 - semantic_0_loss: 0.0027 - semantic_1_loss: 0.0060 - semantic_2_loss: 0.0011 - lr: 1.6217e-05\n",
      "Epoch 183/200\n",
      "36/36 [==============================] - ETA: 0s - loss: 0.0098 - semantic_0_loss: 0.0027 - semantic_1_loss: 0.0060 - semantic_2_loss: 0.0011WARNING:tensorflow:Can save best model only with val_loss available, skipping.\n"
     ]
    },
    {
     "name": "stderr",
     "output_type": "stream",
     "text": [
      "WARNING:tensorflow:Can save best model only with val_loss available, skipping.\n"
     ]
    },
    {
     "name": "stdout",
     "output_type": "stream",
     "text": [
      "36/36 [==============================] - 21s 570ms/step - loss: 0.0098 - semantic_0_loss: 0.0027 - semantic_1_loss: 0.0060 - semantic_2_loss: 0.0011 - lr: 1.6055e-05\n",
      "Epoch 184/200\n",
      "36/36 [==============================] - ETA: 0s - loss: 0.0098 - semantic_0_loss: 0.0027 - semantic_1_loss: 0.0060 - semantic_2_loss: 0.0011WARNING:tensorflow:Can save best model only with val_loss available, skipping.\n"
     ]
    },
    {
     "name": "stderr",
     "output_type": "stream",
     "text": [
      "WARNING:tensorflow:Can save best model only with val_loss available, skipping.\n"
     ]
    },
    {
     "name": "stdout",
     "output_type": "stream",
     "text": [
      "36/36 [==============================] - 21s 572ms/step - loss: 0.0098 - semantic_0_loss: 0.0027 - semantic_1_loss: 0.0060 - semantic_2_loss: 0.0011 - lr: 1.5894e-05\n",
      "Epoch 185/200\n",
      "36/36 [==============================] - ETA: 0s - loss: 0.0098 - semantic_0_loss: 0.0027 - semantic_1_loss: 0.0060 - semantic_2_loss: 0.0011WARNING:tensorflow:Can save best model only with val_loss available, skipping.\n"
     ]
    },
    {
     "name": "stderr",
     "output_type": "stream",
     "text": [
      "WARNING:tensorflow:Can save best model only with val_loss available, skipping.\n"
     ]
    },
    {
     "name": "stdout",
     "output_type": "stream",
     "text": [
      "36/36 [==============================] - 21s 565ms/step - loss: 0.0098 - semantic_0_loss: 0.0027 - semantic_1_loss: 0.0060 - semantic_2_loss: 0.0011 - lr: 1.5735e-05\n",
      "Epoch 186/200\n",
      "36/36 [==============================] - ETA: 0s - loss: 0.0097 - semantic_0_loss: 0.0027 - semantic_1_loss: 0.0059 - semantic_2_loss: 0.0011WARNING:tensorflow:Can save best model only with val_loss available, skipping.\n"
     ]
    },
    {
     "name": "stderr",
     "output_type": "stream",
     "text": [
      "WARNING:tensorflow:Can save best model only with val_loss available, skipping.\n"
     ]
    },
    {
     "name": "stdout",
     "output_type": "stream",
     "text": [
      "36/36 [==============================] - 20s 563ms/step - loss: 0.0097 - semantic_0_loss: 0.0027 - semantic_1_loss: 0.0059 - semantic_2_loss: 0.0011 - lr: 1.5578e-05\n",
      "Epoch 187/200\n",
      "36/36 [==============================] - ETA: 0s - loss: 0.0099 - semantic_0_loss: 0.0027 - semantic_1_loss: 0.0060 - semantic_2_loss: 0.0011WARNING:tensorflow:Can save best model only with val_loss available, skipping.\n"
     ]
    },
    {
     "name": "stderr",
     "output_type": "stream",
     "text": [
      "WARNING:tensorflow:Can save best model only with val_loss available, skipping.\n"
     ]
    },
    {
     "name": "stdout",
     "output_type": "stream",
     "text": [
      "36/36 [==============================] - 21s 568ms/step - loss: 0.0099 - semantic_0_loss: 0.0027 - semantic_1_loss: 0.0060 - semantic_2_loss: 0.0011 - lr: 1.5422e-05\n",
      "Epoch 188/200\n",
      "36/36 [==============================] - ETA: 0s - loss: 0.0100 - semantic_0_loss: 0.0027 - semantic_1_loss: 0.0061 - semantic_2_loss: 0.0011WARNING:tensorflow:Can save best model only with val_loss available, skipping.\n"
     ]
    },
    {
     "name": "stderr",
     "output_type": "stream",
     "text": [
      "WARNING:tensorflow:Can save best model only with val_loss available, skipping.\n"
     ]
    },
    {
     "name": "stdout",
     "output_type": "stream",
     "text": [
      "36/36 [==============================] - 20s 562ms/step - loss: 0.0100 - semantic_0_loss: 0.0027 - semantic_1_loss: 0.0061 - semantic_2_loss: 0.0011 - lr: 1.5268e-05\n",
      "Epoch 189/200\n",
      "36/36 [==============================] - ETA: 0s - loss: 0.0097 - semantic_0_loss: 0.0026 - semantic_1_loss: 0.0059 - semantic_2_loss: 0.0011WARNING:tensorflow:Can save best model only with val_loss available, skipping.\n"
     ]
    },
    {
     "name": "stderr",
     "output_type": "stream",
     "text": [
      "WARNING:tensorflow:Can save best model only with val_loss available, skipping.\n"
     ]
    },
    {
     "name": "stdout",
     "output_type": "stream",
     "text": [
      "36/36 [==============================] - 20s 556ms/step - loss: 0.0097 - semantic_0_loss: 0.0026 - semantic_1_loss: 0.0059 - semantic_2_loss: 0.0011 - lr: 1.5115e-05\n",
      "Epoch 190/200\n",
      "36/36 [==============================] - ETA: 0s - loss: 0.0099 - semantic_0_loss: 0.0027 - semantic_1_loss: 0.0060 - semantic_2_loss: 0.0011WARNING:tensorflow:Can save best model only with val_loss available, skipping.\n"
     ]
    },
    {
     "name": "stderr",
     "output_type": "stream",
     "text": [
      "WARNING:tensorflow:Can save best model only with val_loss available, skipping.\n"
     ]
    },
    {
     "name": "stdout",
     "output_type": "stream",
     "text": [
      "36/36 [==============================] - 20s 562ms/step - loss: 0.0099 - semantic_0_loss: 0.0027 - semantic_1_loss: 0.0060 - semantic_2_loss: 0.0011 - lr: 1.4964e-05\n",
      "Epoch 191/200\n",
      "36/36 [==============================] - ETA: 0s - loss: 0.0098 - semantic_0_loss: 0.0027 - semantic_1_loss: 0.0060 - semantic_2_loss: 0.0011WARNING:tensorflow:Can save best model only with val_loss available, skipping.\n"
     ]
    },
    {
     "name": "stderr",
     "output_type": "stream",
     "text": [
      "WARNING:tensorflow:Can save best model only with val_loss available, skipping.\n"
     ]
    },
    {
     "name": "stdout",
     "output_type": "stream",
     "text": [
      "36/36 [==============================] - 21s 570ms/step - loss: 0.0098 - semantic_0_loss: 0.0027 - semantic_1_loss: 0.0060 - semantic_2_loss: 0.0011 - lr: 1.4814e-05\n",
      "Epoch 192/200\n",
      "36/36 [==============================] - ETA: 0s - loss: 0.0098 - semantic_0_loss: 0.0027 - semantic_1_loss: 0.0060 - semantic_2_loss: 0.0011WARNING:tensorflow:Can save best model only with val_loss available, skipping.\n"
     ]
    },
    {
     "name": "stderr",
     "output_type": "stream",
     "text": [
      "WARNING:tensorflow:Can save best model only with val_loss available, skipping.\n"
     ]
    },
    {
     "name": "stdout",
     "output_type": "stream",
     "text": [
      "36/36 [==============================] - 21s 568ms/step - loss: 0.0098 - semantic_0_loss: 0.0027 - semantic_1_loss: 0.0060 - semantic_2_loss: 0.0011 - lr: 1.4666e-05\n",
      "Epoch 193/200\n",
      "36/36 [==============================] - ETA: 0s - loss: 0.0097 - semantic_0_loss: 0.0027 - semantic_1_loss: 0.0059 - semantic_2_loss: 0.0011WARNING:tensorflow:Can save best model only with val_loss available, skipping.\n"
     ]
    },
    {
     "name": "stderr",
     "output_type": "stream",
     "text": [
      "WARNING:tensorflow:Can save best model only with val_loss available, skipping.\n"
     ]
    },
    {
     "name": "stdout",
     "output_type": "stream",
     "text": [
      "36/36 [==============================] - 21s 577ms/step - loss: 0.0097 - semantic_0_loss: 0.0027 - semantic_1_loss: 0.0059 - semantic_2_loss: 0.0011 - lr: 1.4520e-05\n",
      "Epoch 194/200\n",
      "36/36 [==============================] - ETA: 0s - loss: 0.0097 - semantic_0_loss: 0.0027 - semantic_1_loss: 0.0059 - semantic_2_loss: 0.0011WARNING:tensorflow:Can save best model only with val_loss available, skipping.\n"
     ]
    },
    {
     "name": "stderr",
     "output_type": "stream",
     "text": [
      "WARNING:tensorflow:Can save best model only with val_loss available, skipping.\n"
     ]
    },
    {
     "name": "stdout",
     "output_type": "stream",
     "text": [
      "36/36 [==============================] - 20s 556ms/step - loss: 0.0097 - semantic_0_loss: 0.0027 - semantic_1_loss: 0.0059 - semantic_2_loss: 0.0011 - lr: 1.4374e-05\n",
      "Epoch 195/200\n",
      "36/36 [==============================] - ETA: 0s - loss: 0.0098 - semantic_0_loss: 0.0027 - semantic_1_loss: 0.0060 - semantic_2_loss: 0.0011WARNING:tensorflow:Can save best model only with val_loss available, skipping.\n"
     ]
    },
    {
     "name": "stderr",
     "output_type": "stream",
     "text": [
      "WARNING:tensorflow:Can save best model only with val_loss available, skipping.\n"
     ]
    },
    {
     "name": "stdout",
     "output_type": "stream",
     "text": [
      "36/36 [==============================] - 21s 567ms/step - loss: 0.0098 - semantic_0_loss: 0.0027 - semantic_1_loss: 0.0060 - semantic_2_loss: 0.0011 - lr: 1.4231e-05\n",
      "Epoch 196/200\n",
      "36/36 [==============================] - ETA: 0s - loss: 0.0096 - semantic_0_loss: 0.0026 - semantic_1_loss: 0.0059 - semantic_2_loss: 0.0011WARNING:tensorflow:Can save best model only with val_loss available, skipping.\n"
     ]
    },
    {
     "name": "stderr",
     "output_type": "stream",
     "text": [
      "WARNING:tensorflow:Can save best model only with val_loss available, skipping.\n"
     ]
    },
    {
     "name": "stdout",
     "output_type": "stream",
     "text": [
      "36/36 [==============================] - 21s 567ms/step - loss: 0.0096 - semantic_0_loss: 0.0026 - semantic_1_loss: 0.0059 - semantic_2_loss: 0.0011 - lr: 1.4088e-05\n",
      "Epoch 197/200\n",
      "36/36 [==============================] - ETA: 0s - loss: 0.0099 - semantic_0_loss: 0.0027 - semantic_1_loss: 0.0060 - semantic_2_loss: 0.0011WARNING:tensorflow:Can save best model only with val_loss available, skipping.\n"
     ]
    },
    {
     "name": "stderr",
     "output_type": "stream",
     "text": [
      "WARNING:tensorflow:Can save best model only with val_loss available, skipping.\n"
     ]
    },
    {
     "name": "stdout",
     "output_type": "stream",
     "text": [
      "36/36 [==============================] - 21s 566ms/step - loss: 0.0099 - semantic_0_loss: 0.0027 - semantic_1_loss: 0.0060 - semantic_2_loss: 0.0011 - lr: 1.3948e-05\n",
      "Epoch 198/200\n",
      "36/36 [==============================] - ETA: 0s - loss: 0.0097 - semantic_0_loss: 0.0027 - semantic_1_loss: 0.0059 - semantic_2_loss: 0.0011WARNING:tensorflow:Can save best model only with val_loss available, skipping.\n"
     ]
    },
    {
     "name": "stderr",
     "output_type": "stream",
     "text": [
      "WARNING:tensorflow:Can save best model only with val_loss available, skipping.\n"
     ]
    },
    {
     "name": "stdout",
     "output_type": "stream",
     "text": [
      "36/36 [==============================] - 20s 559ms/step - loss: 0.0097 - semantic_0_loss: 0.0027 - semantic_1_loss: 0.0059 - semantic_2_loss: 0.0011 - lr: 1.3808e-05\n",
      "Epoch 199/200\n",
      "36/36 [==============================] - ETA: 0s - loss: 0.0096 - semantic_0_loss: 0.0026 - semantic_1_loss: 0.0058 - semantic_2_loss: 0.0011WARNING:tensorflow:Can save best model only with val_loss available, skipping.\n"
     ]
    },
    {
     "name": "stderr",
     "output_type": "stream",
     "text": [
      "WARNING:tensorflow:Can save best model only with val_loss available, skipping.\n"
     ]
    },
    {
     "name": "stdout",
     "output_type": "stream",
     "text": [
      "36/36 [==============================] - 21s 564ms/step - loss: 0.0096 - semantic_0_loss: 0.0026 - semantic_1_loss: 0.0058 - semantic_2_loss: 0.0011 - lr: 1.3670e-05\n",
      "Epoch 200/200\n",
      "36/36 [==============================] - ETA: 0s - loss: 0.0097 - semantic_0_loss: 0.0027 - semantic_1_loss: 0.0059 - semantic_2_loss: 0.0011WARNING:tensorflow:Can save best model only with val_loss available, skipping.\n"
     ]
    },
    {
     "name": "stderr",
     "output_type": "stream",
     "text": [
      "WARNING:tensorflow:Can save best model only with val_loss available, skipping.\n"
     ]
    },
    {
     "name": "stdout",
     "output_type": "stream",
     "text": [
      "36/36 [==============================] - 21s 570ms/step - loss: 0.0097 - semantic_0_loss: 0.0027 - semantic_1_loss: 0.0059 - semantic_2_loss: 0.0011 - lr: 1.3533e-05\n",
      "/home/yfong/deeplearning/dense_cell_segmentation\n",
      "['M926910_CFL_Position7_CD3_test_img.png', 'M872956_JML_Position10_CD3_test_img.png', 'M872956_JML_Position8_CD8_test_img.png', 'M926910_CFL_Position13_CD3_test_img.png', 'M872956_JML_Position8_CD3_test_img.png', 'M872956_JML_Position8_CD4_test_img.png', 'M872956_JML_Position9_CD3_test_img.png']\n",
      "M926910_CFL_Position7_CD3_test_img.png\n"
     ]
    },
    {
     "name": "stderr",
     "output_type": "stream",
     "text": [
      "/app/software/DeepCell/0.11.1-foss-2021b-CUDA-11.4.1/lib/python3.9/site-packages/deepcell_toolbox/deep_watershed.py:179: FutureWarning: `selem` is a deprecated argument name for `h_maxima`. It will be removed in version 1.0.Please use `footprint` instead.\n",
      "  markers = h_maxima(image=maxima,\n"
     ]
    },
    {
     "name": "stdout",
     "output_type": "stream",
     "text": [
      "M872956_JML_Position10_CD3_test_img.png\n",
      "M872956_JML_Position8_CD8_test_img.png\n",
      "M926910_CFL_Position13_CD3_test_img.png\n",
      "M872956_JML_Position8_CD3_test_img.png\n",
      "M872956_JML_Position8_CD4_test_img.png\n",
      "M872956_JML_Position9_CD3_test_img.png\n",
      "[[0.3572593800978793, 0.3781763826606876], [0.33513513513513515, 0.4263157894736842], [0.4913294797687861, 0.48484848484848486], [0.2677165354330709, 0.313953488372093], [0.44669117647058826, 0.5470692717584369], [0.6138888888888889, 0.5932203389830508], [0.3158995815899582, 0.41767068273092367]]\n",
      "                                         0         1         2\n",
      "0   M926910_CFL_Position7_CD3_test_img.png  0.357259  0.378176\n",
      "1  M872956_JML_Position10_CD3_test_img.png  0.335135  0.426316\n",
      "2   M872956_JML_Position8_CD8_test_img.png  0.491329  0.484848\n",
      "3  M926910_CFL_Position13_CD3_test_img.png  0.267717  0.313953\n",
      "4   M872956_JML_Position8_CD3_test_img.png  0.446691  0.547069\n",
      "5   M872956_JML_Position8_CD4_test_img.png  0.613889   0.59322\n",
      "6   M872956_JML_Position9_CD3_test_img.png    0.3159  0.417671\n",
      "7\n",
      "(7, 1040, 1159, 1)\n",
      "(7, 1040, 1159, 1)\n",
      "2.0\n",
      "(7, 2080, 2318, 1)\n",
      "(7, 2080, 2318, 1)\n",
      "(7, 2080, 2318, 1)\n",
      "(7, 2080, 2318, 1)\n",
      "[0, 400, 800, 1200, 1568]\n",
      "[512, 912, 1312, 1712, 2080]\n",
      "[0, 512, 1024, 1536, 1806]\n",
      "[512, 1024, 1536, 2048, 2318]\n",
      "(175, 512, 512, 1)\n",
      "(175, 512, 512, 1)\n",
      "WARNING:tensorflow:Removing 6 of 175 images with fewer than 5 objects.\n"
     ]
    },
    {
     "name": "stderr",
     "output_type": "stream",
     "text": [
      "WARNING:tensorflow:Removing 6 of 175 images with fewer than 5 objects.\n",
      "/app/software/TensorFlow/2.7.1-foss-2021b-CUDA-11.4.1/lib/python3.9/site-packages/keras/optimizer_v2/adam.py:105: UserWarning: The `lr` argument is deprecated, use `learning_rate` instead.\n",
      "  super(Adam, self).__init__(name, **kwargs)\n"
     ]
    },
    {
     "name": "stdout",
     "output_type": "stream",
     "text": [
      "Training on 3 GPUs.\n"
     ]
    },
    {
     "name": "stderr",
     "output_type": "stream",
     "text": [
      "2022-11-06 12:43:58.466790: I tensorflow/core/common_runtime/gpu/gpu_device.cc:1525] Created device /device:GPU:0 with 14657 MB memory:  -> device: 0, name: Tesla V100-PCIE-16GB, pci bus id: 0000:04:00.0, compute capability: 7.0\n",
      "2022-11-06 12:43:58.467717: I tensorflow/core/common_runtime/gpu/gpu_device.cc:1525] Created device /device:GPU:1 with 14657 MB memory:  -> device: 1, name: Tesla V100-PCIE-16GB, pci bus id: 0000:06:00.0, compute capability: 7.0\n",
      "2022-11-06 12:43:58.468636: I tensorflow/core/common_runtime/gpu/gpu_device.cc:1525] Created device /device:GPU:2 with 14657 MB memory:  -> device: 2, name: Tesla V100-PCIE-16GB, pci bus id: 0000:08:00.0, compute capability: 7.0\n"
     ]
    },
    {
     "name": "stdout",
     "output_type": "stream",
     "text": [
      "Epoch 1/200\n",
      "42/42 [==============================] - ETA: 0s - loss: 0.0165 - semantic_0_loss: 0.0041 - semantic_1_loss: 0.0102 - semantic_2_loss: 0.0022WARNING:tensorflow:Can save best model only with val_loss available, skipping.\n"
     ]
    },
    {
     "name": "stderr",
     "output_type": "stream",
     "text": [
      "WARNING:tensorflow:Can save best model only with val_loss available, skipping.\n"
     ]
    },
    {
     "name": "stdout",
     "output_type": "stream",
     "text": [
      "42/42 [==============================] - 37s 563ms/step - loss: 0.0165 - semantic_0_loss: 0.0041 - semantic_1_loss: 0.0102 - semantic_2_loss: 0.0022 - lr: 1.0000e-04\n",
      "Epoch 2/200\n",
      "42/42 [==============================] - ETA: 0s - loss: 0.0143 - semantic_0_loss: 0.0036 - semantic_1_loss: 0.0091 - semantic_2_loss: 0.0016WARNING:tensorflow:Can save best model only with val_loss available, skipping.\n"
     ]
    },
    {
     "name": "stderr",
     "output_type": "stream",
     "text": [
      "WARNING:tensorflow:Can save best model only with val_loss available, skipping.\n"
     ]
    },
    {
     "name": "stdout",
     "output_type": "stream",
     "text": [
      "42/42 [==============================] - 24s 559ms/step - loss: 0.0143 - semantic_0_loss: 0.0036 - semantic_1_loss: 0.0091 - semantic_2_loss: 0.0016 - lr: 9.9000e-05\n",
      "Epoch 3/200\n",
      "42/42 [==============================] - ETA: 0s - loss: 0.0143 - semantic_0_loss: 0.0036 - semantic_1_loss: 0.0091 - semantic_2_loss: 0.0016WARNING:tensorflow:Can save best model only with val_loss available, skipping.\n"
     ]
    },
    {
     "name": "stderr",
     "output_type": "stream",
     "text": [
      "WARNING:tensorflow:Can save best model only with val_loss available, skipping.\n"
     ]
    },
    {
     "name": "stdout",
     "output_type": "stream",
     "text": [
      "42/42 [==============================] - 24s 559ms/step - loss: 0.0143 - semantic_0_loss: 0.0036 - semantic_1_loss: 0.0091 - semantic_2_loss: 0.0016 - lr: 9.8010e-05\n",
      "Epoch 4/200\n",
      "42/42 [==============================] - ETA: 0s - loss: 0.0141 - semantic_0_loss: 0.0036 - semantic_1_loss: 0.0090 - semantic_2_loss: 0.0016WARNING:tensorflow:Can save best model only with val_loss available, skipping.\n"
     ]
    },
    {
     "name": "stderr",
     "output_type": "stream",
     "text": [
      "WARNING:tensorflow:Can save best model only with val_loss available, skipping.\n"
     ]
    },
    {
     "name": "stdout",
     "output_type": "stream",
     "text": [
      "42/42 [==============================] - 24s 560ms/step - loss: 0.0141 - semantic_0_loss: 0.0036 - semantic_1_loss: 0.0090 - semantic_2_loss: 0.0016 - lr: 9.7030e-05\n",
      "Epoch 5/200\n",
      "42/42 [==============================] - ETA: 0s - loss: 0.0141 - semantic_0_loss: 0.0036 - semantic_1_loss: 0.0090 - semantic_2_loss: 0.0015WARNING:tensorflow:Can save best model only with val_loss available, skipping.\n"
     ]
    },
    {
     "name": "stderr",
     "output_type": "stream",
     "text": [
      "WARNING:tensorflow:Can save best model only with val_loss available, skipping.\n"
     ]
    },
    {
     "name": "stdout",
     "output_type": "stream",
     "text": [
      "42/42 [==============================] - 24s 565ms/step - loss: 0.0141 - semantic_0_loss: 0.0036 - semantic_1_loss: 0.0090 - semantic_2_loss: 0.0015 - lr: 9.6060e-05\n",
      "Epoch 6/200\n",
      "42/42 [==============================] - ETA: 0s - loss: 0.0136 - semantic_0_loss: 0.0035 - semantic_1_loss: 0.0087 - semantic_2_loss: 0.0015WARNING:tensorflow:Can save best model only with val_loss available, skipping.\n"
     ]
    },
    {
     "name": "stderr",
     "output_type": "stream",
     "text": [
      "WARNING:tensorflow:Can save best model only with val_loss available, skipping.\n"
     ]
    },
    {
     "name": "stdout",
     "output_type": "stream",
     "text": [
      "42/42 [==============================] - 24s 567ms/step - loss: 0.0136 - semantic_0_loss: 0.0035 - semantic_1_loss: 0.0087 - semantic_2_loss: 0.0015 - lr: 9.5099e-05\n",
      "Epoch 7/200\n",
      "42/42 [==============================] - ETA: 0s - loss: 0.0136 - semantic_0_loss: 0.0035 - semantic_1_loss: 0.0086 - semantic_2_loss: 0.0015WARNING:tensorflow:Can save best model only with val_loss available, skipping.\n"
     ]
    },
    {
     "name": "stderr",
     "output_type": "stream",
     "text": [
      "WARNING:tensorflow:Can save best model only with val_loss available, skipping.\n"
     ]
    },
    {
     "name": "stdout",
     "output_type": "stream",
     "text": [
      "42/42 [==============================] - 24s 560ms/step - loss: 0.0136 - semantic_0_loss: 0.0035 - semantic_1_loss: 0.0086 - semantic_2_loss: 0.0015 - lr: 9.4148e-05\n",
      "Epoch 8/200\n",
      "42/42 [==============================] - ETA: 0s - loss: 0.0134 - semantic_0_loss: 0.0035 - semantic_1_loss: 0.0085 - semantic_2_loss: 0.0015WARNING:tensorflow:Can save best model only with val_loss available, skipping.\n"
     ]
    },
    {
     "name": "stderr",
     "output_type": "stream",
     "text": [
      "WARNING:tensorflow:Can save best model only with val_loss available, skipping.\n"
     ]
    },
    {
     "name": "stdout",
     "output_type": "stream",
     "text": [
      "42/42 [==============================] - 24s 562ms/step - loss: 0.0134 - semantic_0_loss: 0.0035 - semantic_1_loss: 0.0085 - semantic_2_loss: 0.0015 - lr: 9.3207e-05\n",
      "Epoch 9/200\n",
      "42/42 [==============================] - ETA: 0s - loss: 0.0135 - semantic_0_loss: 0.0034 - semantic_1_loss: 0.0086 - semantic_2_loss: 0.0015WARNING:tensorflow:Can save best model only with val_loss available, skipping.\n"
     ]
    },
    {
     "name": "stderr",
     "output_type": "stream",
     "text": [
      "WARNING:tensorflow:Can save best model only with val_loss available, skipping.\n"
     ]
    },
    {
     "name": "stdout",
     "output_type": "stream",
     "text": [
      "42/42 [==============================] - 24s 560ms/step - loss: 0.0135 - semantic_0_loss: 0.0034 - semantic_1_loss: 0.0086 - semantic_2_loss: 0.0015 - lr: 9.2274e-05\n",
      "Epoch 10/200\n",
      "42/42 [==============================] - ETA: 0s - loss: 0.0132 - semantic_0_loss: 0.0034 - semantic_1_loss: 0.0084 - semantic_2_loss: 0.0014WARNING:tensorflow:Can save best model only with val_loss available, skipping.\n"
     ]
    },
    {
     "name": "stderr",
     "output_type": "stream",
     "text": [
      "WARNING:tensorflow:Can save best model only with val_loss available, skipping.\n"
     ]
    },
    {
     "name": "stdout",
     "output_type": "stream",
     "text": [
      "42/42 [==============================] - 24s 561ms/step - loss: 0.0132 - semantic_0_loss: 0.0034 - semantic_1_loss: 0.0084 - semantic_2_loss: 0.0014 - lr: 9.1352e-05\n",
      "Epoch 11/200\n",
      "42/42 [==============================] - ETA: 0s - loss: 0.0134 - semantic_0_loss: 0.0034 - semantic_1_loss: 0.0085 - semantic_2_loss: 0.0015WARNING:tensorflow:Can save best model only with val_loss available, skipping.\n"
     ]
    },
    {
     "name": "stderr",
     "output_type": "stream",
     "text": [
      "WARNING:tensorflow:Can save best model only with val_loss available, skipping.\n"
     ]
    },
    {
     "name": "stdout",
     "output_type": "stream",
     "text": [
      "42/42 [==============================] - 24s 568ms/step - loss: 0.0134 - semantic_0_loss: 0.0034 - semantic_1_loss: 0.0085 - semantic_2_loss: 0.0015 - lr: 9.0438e-05\n",
      "Epoch 12/200\n",
      "42/42 [==============================] - ETA: 0s - loss: 0.0132 - semantic_0_loss: 0.0034 - semantic_1_loss: 0.0084 - semantic_2_loss: 0.0014WARNING:tensorflow:Can save best model only with val_loss available, skipping.\n"
     ]
    },
    {
     "name": "stderr",
     "output_type": "stream",
     "text": [
      "WARNING:tensorflow:Can save best model only with val_loss available, skipping.\n"
     ]
    },
    {
     "name": "stdout",
     "output_type": "stream",
     "text": [
      "42/42 [==============================] - 24s 561ms/step - loss: 0.0132 - semantic_0_loss: 0.0034 - semantic_1_loss: 0.0084 - semantic_2_loss: 0.0014 - lr: 8.9534e-05\n",
      "Epoch 13/200\n",
      "42/42 [==============================] - ETA: 0s - loss: 0.0131 - semantic_0_loss: 0.0034 - semantic_1_loss: 0.0083 - semantic_2_loss: 0.0014WARNING:tensorflow:Can save best model only with val_loss available, skipping.\n"
     ]
    },
    {
     "name": "stderr",
     "output_type": "stream",
     "text": [
      "WARNING:tensorflow:Can save best model only with val_loss available, skipping.\n"
     ]
    },
    {
     "name": "stdout",
     "output_type": "stream",
     "text": [
      "42/42 [==============================] - 24s 565ms/step - loss: 0.0131 - semantic_0_loss: 0.0034 - semantic_1_loss: 0.0083 - semantic_2_loss: 0.0014 - lr: 8.8638e-05\n",
      "Epoch 14/200\n",
      "42/42 [==============================] - ETA: 0s - loss: 0.0132 - semantic_0_loss: 0.0034 - semantic_1_loss: 0.0083 - semantic_2_loss: 0.0014WARNING:tensorflow:Can save best model only with val_loss available, skipping.\n"
     ]
    },
    {
     "name": "stderr",
     "output_type": "stream",
     "text": [
      "WARNING:tensorflow:Can save best model only with val_loss available, skipping.\n"
     ]
    },
    {
     "name": "stdout",
     "output_type": "stream",
     "text": [
      "42/42 [==============================] - 24s 562ms/step - loss: 0.0132 - semantic_0_loss: 0.0034 - semantic_1_loss: 0.0083 - semantic_2_loss: 0.0014 - lr: 8.7752e-05\n",
      "Epoch 15/200\n",
      "42/42 [==============================] - ETA: 0s - loss: 0.0132 - semantic_0_loss: 0.0034 - semantic_1_loss: 0.0083 - semantic_2_loss: 0.0014WARNING:tensorflow:Can save best model only with val_loss available, skipping.\n"
     ]
    },
    {
     "name": "stderr",
     "output_type": "stream",
     "text": [
      "WARNING:tensorflow:Can save best model only with val_loss available, skipping.\n"
     ]
    },
    {
     "name": "stdout",
     "output_type": "stream",
     "text": [
      "42/42 [==============================] - 24s 565ms/step - loss: 0.0132 - semantic_0_loss: 0.0034 - semantic_1_loss: 0.0083 - semantic_2_loss: 0.0014 - lr: 8.6875e-05\n",
      "Epoch 16/200\n",
      "42/42 [==============================] - ETA: 0s - loss: 0.0130 - semantic_0_loss: 0.0034 - semantic_1_loss: 0.0082 - semantic_2_loss: 0.0014WARNING:tensorflow:Can save best model only with val_loss available, skipping.\n"
     ]
    },
    {
     "name": "stderr",
     "output_type": "stream",
     "text": [
      "WARNING:tensorflow:Can save best model only with val_loss available, skipping.\n"
     ]
    },
    {
     "name": "stdout",
     "output_type": "stream",
     "text": [
      "42/42 [==============================] - 24s 565ms/step - loss: 0.0130 - semantic_0_loss: 0.0034 - semantic_1_loss: 0.0082 - semantic_2_loss: 0.0014 - lr: 8.6006e-05\n",
      "Epoch 17/200\n",
      "42/42 [==============================] - ETA: 0s - loss: 0.0132 - semantic_0_loss: 0.0034 - semantic_1_loss: 0.0084 - semantic_2_loss: 0.0014WARNING:tensorflow:Can save best model only with val_loss available, skipping.\n"
     ]
    },
    {
     "name": "stderr",
     "output_type": "stream",
     "text": [
      "WARNING:tensorflow:Can save best model only with val_loss available, skipping.\n"
     ]
    },
    {
     "name": "stdout",
     "output_type": "stream",
     "text": [
      "42/42 [==============================] - 24s 563ms/step - loss: 0.0132 - semantic_0_loss: 0.0034 - semantic_1_loss: 0.0084 - semantic_2_loss: 0.0014 - lr: 8.5146e-05\n",
      "Epoch 18/200\n",
      "42/42 [==============================] - ETA: 0s - loss: 0.0130 - semantic_0_loss: 0.0034 - semantic_1_loss: 0.0083 - semantic_2_loss: 0.0014WARNING:tensorflow:Can save best model only with val_loss available, skipping.\n"
     ]
    },
    {
     "name": "stderr",
     "output_type": "stream",
     "text": [
      "WARNING:tensorflow:Can save best model only with val_loss available, skipping.\n"
     ]
    },
    {
     "name": "stdout",
     "output_type": "stream",
     "text": [
      "42/42 [==============================] - 24s 555ms/step - loss: 0.0130 - semantic_0_loss: 0.0034 - semantic_1_loss: 0.0083 - semantic_2_loss: 0.0014 - lr: 8.4294e-05\n",
      "Epoch 19/200\n",
      "42/42 [==============================] - ETA: 0s - loss: 0.0130 - semantic_0_loss: 0.0033 - semantic_1_loss: 0.0082 - semantic_2_loss: 0.0014WARNING:tensorflow:Can save best model only with val_loss available, skipping.\n"
     ]
    },
    {
     "name": "stderr",
     "output_type": "stream",
     "text": [
      "WARNING:tensorflow:Can save best model only with val_loss available, skipping.\n"
     ]
    },
    {
     "name": "stdout",
     "output_type": "stream",
     "text": [
      "42/42 [==============================] - 24s 559ms/step - loss: 0.0130 - semantic_0_loss: 0.0033 - semantic_1_loss: 0.0082 - semantic_2_loss: 0.0014 - lr: 8.3451e-05\n",
      "Epoch 20/200\n",
      "42/42 [==============================] - ETA: 0s - loss: 0.0129 - semantic_0_loss: 0.0033 - semantic_1_loss: 0.0081 - semantic_2_loss: 0.0014WARNING:tensorflow:Can save best model only with val_loss available, skipping.\n"
     ]
    },
    {
     "name": "stderr",
     "output_type": "stream",
     "text": [
      "WARNING:tensorflow:Can save best model only with val_loss available, skipping.\n"
     ]
    },
    {
     "name": "stdout",
     "output_type": "stream",
     "text": [
      "42/42 [==============================] - 24s 560ms/step - loss: 0.0129 - semantic_0_loss: 0.0033 - semantic_1_loss: 0.0081 - semantic_2_loss: 0.0014 - lr: 8.2617e-05\n",
      "Epoch 21/200\n",
      "42/42 [==============================] - ETA: 0s - loss: 0.0128 - semantic_0_loss: 0.0033 - semantic_1_loss: 0.0081 - semantic_2_loss: 0.0014WARNING:tensorflow:Can save best model only with val_loss available, skipping.\n"
     ]
    },
    {
     "name": "stderr",
     "output_type": "stream",
     "text": [
      "WARNING:tensorflow:Can save best model only with val_loss available, skipping.\n"
     ]
    },
    {
     "name": "stdout",
     "output_type": "stream",
     "text": [
      "42/42 [==============================] - 24s 558ms/step - loss: 0.0128 - semantic_0_loss: 0.0033 - semantic_1_loss: 0.0081 - semantic_2_loss: 0.0014 - lr: 8.1791e-05\n",
      "Epoch 22/200\n",
      "42/42 [==============================] - ETA: 0s - loss: 0.0127 - semantic_0_loss: 0.0033 - semantic_1_loss: 0.0080 - semantic_2_loss: 0.0014WARNING:tensorflow:Can save best model only with val_loss available, skipping.\n"
     ]
    },
    {
     "name": "stderr",
     "output_type": "stream",
     "text": [
      "WARNING:tensorflow:Can save best model only with val_loss available, skipping.\n"
     ]
    },
    {
     "name": "stdout",
     "output_type": "stream",
     "text": [
      "42/42 [==============================] - 24s 554ms/step - loss: 0.0127 - semantic_0_loss: 0.0033 - semantic_1_loss: 0.0080 - semantic_2_loss: 0.0014 - lr: 8.0973e-05\n",
      "Epoch 23/200\n",
      "42/42 [==============================] - ETA: 0s - loss: 0.0126 - semantic_0_loss: 0.0032 - semantic_1_loss: 0.0080 - semantic_2_loss: 0.0014WARNING:tensorflow:Can save best model only with val_loss available, skipping.\n"
     ]
    },
    {
     "name": "stderr",
     "output_type": "stream",
     "text": [
      "WARNING:tensorflow:Can save best model only with val_loss available, skipping.\n"
     ]
    },
    {
     "name": "stdout",
     "output_type": "stream",
     "text": [
      "42/42 [==============================] - 24s 556ms/step - loss: 0.0126 - semantic_0_loss: 0.0032 - semantic_1_loss: 0.0080 - semantic_2_loss: 0.0014 - lr: 8.0163e-05\n",
      "Epoch 24/200\n",
      "42/42 [==============================] - ETA: 0s - loss: 0.0128 - semantic_0_loss: 0.0033 - semantic_1_loss: 0.0081 - semantic_2_loss: 0.0014WARNING:tensorflow:Can save best model only with val_loss available, skipping.\n"
     ]
    },
    {
     "name": "stderr",
     "output_type": "stream",
     "text": [
      "WARNING:tensorflow:Can save best model only with val_loss available, skipping.\n"
     ]
    },
    {
     "name": "stdout",
     "output_type": "stream",
     "text": [
      "42/42 [==============================] - 24s 561ms/step - loss: 0.0128 - semantic_0_loss: 0.0033 - semantic_1_loss: 0.0081 - semantic_2_loss: 0.0014 - lr: 7.9361e-05\n",
      "Epoch 25/200\n",
      "42/42 [==============================] - ETA: 0s - loss: 0.0125 - semantic_0_loss: 0.0032 - semantic_1_loss: 0.0079 - semantic_2_loss: 0.0014WARNING:tensorflow:Can save best model only with val_loss available, skipping.\n"
     ]
    },
    {
     "name": "stderr",
     "output_type": "stream",
     "text": [
      "WARNING:tensorflow:Can save best model only with val_loss available, skipping.\n"
     ]
    },
    {
     "name": "stdout",
     "output_type": "stream",
     "text": [
      "42/42 [==============================] - 24s 555ms/step - loss: 0.0125 - semantic_0_loss: 0.0032 - semantic_1_loss: 0.0079 - semantic_2_loss: 0.0014 - lr: 7.8568e-05\n",
      "Epoch 26/200\n",
      "42/42 [==============================] - ETA: 0s - loss: 0.0126 - semantic_0_loss: 0.0033 - semantic_1_loss: 0.0080 - semantic_2_loss: 0.0014WARNING:tensorflow:Can save best model only with val_loss available, skipping.\n"
     ]
    },
    {
     "name": "stderr",
     "output_type": "stream",
     "text": [
      "WARNING:tensorflow:Can save best model only with val_loss available, skipping.\n"
     ]
    },
    {
     "name": "stdout",
     "output_type": "stream",
     "text": [
      "42/42 [==============================] - 24s 557ms/step - loss: 0.0126 - semantic_0_loss: 0.0033 - semantic_1_loss: 0.0080 - semantic_2_loss: 0.0014 - lr: 7.7782e-05\n",
      "Epoch 27/200\n",
      "42/42 [==============================] - ETA: 0s - loss: 0.0126 - semantic_0_loss: 0.0033 - semantic_1_loss: 0.0080 - semantic_2_loss: 0.0014WARNING:tensorflow:Can save best model only with val_loss available, skipping.\n"
     ]
    },
    {
     "name": "stderr",
     "output_type": "stream",
     "text": [
      "WARNING:tensorflow:Can save best model only with val_loss available, skipping.\n"
     ]
    },
    {
     "name": "stdout",
     "output_type": "stream",
     "text": [
      "42/42 [==============================] - 24s 558ms/step - loss: 0.0126 - semantic_0_loss: 0.0033 - semantic_1_loss: 0.0080 - semantic_2_loss: 0.0014 - lr: 7.7004e-05\n",
      "Epoch 28/200\n",
      "42/42 [==============================] - ETA: 0s - loss: 0.0124 - semantic_0_loss: 0.0033 - semantic_1_loss: 0.0078 - semantic_2_loss: 0.0014WARNING:tensorflow:Can save best model only with val_loss available, skipping.\n"
     ]
    },
    {
     "name": "stderr",
     "output_type": "stream",
     "text": [
      "WARNING:tensorflow:Can save best model only with val_loss available, skipping.\n"
     ]
    },
    {
     "name": "stdout",
     "output_type": "stream",
     "text": [
      "42/42 [==============================] - 24s 573ms/step - loss: 0.0124 - semantic_0_loss: 0.0033 - semantic_1_loss: 0.0078 - semantic_2_loss: 0.0014 - lr: 7.6234e-05\n",
      "Epoch 29/200\n",
      "42/42 [==============================] - ETA: 0s - loss: 0.0125 - semantic_0_loss: 0.0033 - semantic_1_loss: 0.0079 - semantic_2_loss: 0.0014WARNING:tensorflow:Can save best model only with val_loss available, skipping.\n"
     ]
    },
    {
     "name": "stderr",
     "output_type": "stream",
     "text": [
      "WARNING:tensorflow:Can save best model only with val_loss available, skipping.\n"
     ]
    },
    {
     "name": "stdout",
     "output_type": "stream",
     "text": [
      "42/42 [==============================] - 24s 563ms/step - loss: 0.0125 - semantic_0_loss: 0.0033 - semantic_1_loss: 0.0079 - semantic_2_loss: 0.0014 - lr: 7.5472e-05\n",
      "Epoch 30/200\n",
      "42/42 [==============================] - ETA: 0s - loss: 0.0126 - semantic_0_loss: 0.0033 - semantic_1_loss: 0.0079 - semantic_2_loss: 0.0014WARNING:tensorflow:Can save best model only with val_loss available, skipping.\n"
     ]
    },
    {
     "name": "stderr",
     "output_type": "stream",
     "text": [
      "WARNING:tensorflow:Can save best model only with val_loss available, skipping.\n"
     ]
    },
    {
     "name": "stdout",
     "output_type": "stream",
     "text": [
      "42/42 [==============================] - 24s 565ms/step - loss: 0.0126 - semantic_0_loss: 0.0033 - semantic_1_loss: 0.0079 - semantic_2_loss: 0.0014 - lr: 7.4717e-05\n",
      "Epoch 31/200\n",
      "42/42 [==============================] - ETA: 0s - loss: 0.0124 - semantic_0_loss: 0.0032 - semantic_1_loss: 0.0078 - semantic_2_loss: 0.0014WARNING:tensorflow:Can save best model only with val_loss available, skipping.\n"
     ]
    },
    {
     "name": "stderr",
     "output_type": "stream",
     "text": [
      "WARNING:tensorflow:Can save best model only with val_loss available, skipping.\n"
     ]
    },
    {
     "name": "stdout",
     "output_type": "stream",
     "text": [
      "42/42 [==============================] - 24s 556ms/step - loss: 0.0124 - semantic_0_loss: 0.0032 - semantic_1_loss: 0.0078 - semantic_2_loss: 0.0014 - lr: 7.3970e-05\n",
      "Epoch 32/200\n",
      "42/42 [==============================] - ETA: 0s - loss: 0.0123 - semantic_0_loss: 0.0032 - semantic_1_loss: 0.0077 - semantic_2_loss: 0.0013WARNING:tensorflow:Can save best model only with val_loss available, skipping.\n"
     ]
    },
    {
     "name": "stderr",
     "output_type": "stream",
     "text": [
      "WARNING:tensorflow:Can save best model only with val_loss available, skipping.\n"
     ]
    },
    {
     "name": "stdout",
     "output_type": "stream",
     "text": [
      "42/42 [==============================] - 24s 555ms/step - loss: 0.0123 - semantic_0_loss: 0.0032 - semantic_1_loss: 0.0077 - semantic_2_loss: 0.0013 - lr: 7.3230e-05\n",
      "Epoch 33/200\n",
      "42/42 [==============================] - ETA: 0s - loss: 0.0122 - semantic_0_loss: 0.0032 - semantic_1_loss: 0.0077 - semantic_2_loss: 0.0013WARNING:tensorflow:Can save best model only with val_loss available, skipping.\n"
     ]
    },
    {
     "name": "stderr",
     "output_type": "stream",
     "text": [
      "WARNING:tensorflow:Can save best model only with val_loss available, skipping.\n"
     ]
    },
    {
     "name": "stdout",
     "output_type": "stream",
     "text": [
      "42/42 [==============================] - 24s 557ms/step - loss: 0.0122 - semantic_0_loss: 0.0032 - semantic_1_loss: 0.0077 - semantic_2_loss: 0.0013 - lr: 7.2498e-05\n",
      "Epoch 34/200\n",
      "42/42 [==============================] - ETA: 0s - loss: 0.0124 - semantic_0_loss: 0.0032 - semantic_1_loss: 0.0078 - semantic_2_loss: 0.0013WARNING:tensorflow:Can save best model only with val_loss available, skipping.\n"
     ]
    },
    {
     "name": "stderr",
     "output_type": "stream",
     "text": [
      "WARNING:tensorflow:Can save best model only with val_loss available, skipping.\n"
     ]
    },
    {
     "name": "stdout",
     "output_type": "stream",
     "text": [
      "42/42 [==============================] - 23s 556ms/step - loss: 0.0124 - semantic_0_loss: 0.0032 - semantic_1_loss: 0.0078 - semantic_2_loss: 0.0013 - lr: 7.1773e-05\n",
      "Epoch 35/200\n",
      "42/42 [==============================] - ETA: 0s - loss: 0.0122 - semantic_0_loss: 0.0032 - semantic_1_loss: 0.0077 - semantic_2_loss: 0.0013WARNING:tensorflow:Can save best model only with val_loss available, skipping.\n"
     ]
    },
    {
     "name": "stderr",
     "output_type": "stream",
     "text": [
      "WARNING:tensorflow:Can save best model only with val_loss available, skipping.\n"
     ]
    },
    {
     "name": "stdout",
     "output_type": "stream",
     "text": [
      "42/42 [==============================] - 24s 563ms/step - loss: 0.0122 - semantic_0_loss: 0.0032 - semantic_1_loss: 0.0077 - semantic_2_loss: 0.0013 - lr: 7.1055e-05\n",
      "Epoch 36/200\n",
      "42/42 [==============================] - ETA: 0s - loss: 0.0123 - semantic_0_loss: 0.0032 - semantic_1_loss: 0.0077 - semantic_2_loss: 0.0013WARNING:tensorflow:Can save best model only with val_loss available, skipping.\n"
     ]
    },
    {
     "name": "stderr",
     "output_type": "stream",
     "text": [
      "WARNING:tensorflow:Can save best model only with val_loss available, skipping.\n"
     ]
    },
    {
     "name": "stdout",
     "output_type": "stream",
     "text": [
      "42/42 [==============================] - 24s 567ms/step - loss: 0.0123 - semantic_0_loss: 0.0032 - semantic_1_loss: 0.0077 - semantic_2_loss: 0.0013 - lr: 7.0345e-05\n",
      "Epoch 37/200\n",
      "42/42 [==============================] - ETA: 0s - loss: 0.0121 - semantic_0_loss: 0.0032 - semantic_1_loss: 0.0076 - semantic_2_loss: 0.0013WARNING:tensorflow:Can save best model only with val_loss available, skipping.\n"
     ]
    },
    {
     "name": "stderr",
     "output_type": "stream",
     "text": [
      "WARNING:tensorflow:Can save best model only with val_loss available, skipping.\n"
     ]
    },
    {
     "name": "stdout",
     "output_type": "stream",
     "text": [
      "42/42 [==============================] - 24s 557ms/step - loss: 0.0121 - semantic_0_loss: 0.0032 - semantic_1_loss: 0.0076 - semantic_2_loss: 0.0013 - lr: 6.9641e-05\n",
      "Epoch 38/200\n",
      "42/42 [==============================] - ETA: 0s - loss: 0.0123 - semantic_0_loss: 0.0032 - semantic_1_loss: 0.0077 - semantic_2_loss: 0.0013WARNING:tensorflow:Can save best model only with val_loss available, skipping.\n"
     ]
    },
    {
     "name": "stderr",
     "output_type": "stream",
     "text": [
      "WARNING:tensorflow:Can save best model only with val_loss available, skipping.\n"
     ]
    },
    {
     "name": "stdout",
     "output_type": "stream",
     "text": [
      "42/42 [==============================] - 24s 557ms/step - loss: 0.0123 - semantic_0_loss: 0.0032 - semantic_1_loss: 0.0077 - semantic_2_loss: 0.0013 - lr: 6.8945e-05\n",
      "Epoch 39/200\n",
      "42/42 [==============================] - ETA: 0s - loss: 0.0121 - semantic_0_loss: 0.0032 - semantic_1_loss: 0.0076 - semantic_2_loss: 0.0013WARNING:tensorflow:Can save best model only with val_loss available, skipping.\n"
     ]
    },
    {
     "name": "stderr",
     "output_type": "stream",
     "text": [
      "WARNING:tensorflow:Can save best model only with val_loss available, skipping.\n"
     ]
    },
    {
     "name": "stdout",
     "output_type": "stream",
     "text": [
      "42/42 [==============================] - 24s 557ms/step - loss: 0.0121 - semantic_0_loss: 0.0032 - semantic_1_loss: 0.0076 - semantic_2_loss: 0.0013 - lr: 6.8255e-05\n",
      "Epoch 40/200\n",
      "42/42 [==============================] - ETA: 0s - loss: 0.0121 - semantic_0_loss: 0.0032 - semantic_1_loss: 0.0076 - semantic_2_loss: 0.0013WARNING:tensorflow:Can save best model only with val_loss available, skipping.\n"
     ]
    },
    {
     "name": "stderr",
     "output_type": "stream",
     "text": [
      "WARNING:tensorflow:Can save best model only with val_loss available, skipping.\n"
     ]
    },
    {
     "name": "stdout",
     "output_type": "stream",
     "text": [
      "42/42 [==============================] - 24s 557ms/step - loss: 0.0121 - semantic_0_loss: 0.0032 - semantic_1_loss: 0.0076 - semantic_2_loss: 0.0013 - lr: 6.7573e-05\n",
      "Epoch 41/200\n",
      "42/42 [==============================] - ETA: 0s - loss: 0.0118 - semantic_0_loss: 0.0031 - semantic_1_loss: 0.0074 - semantic_2_loss: 0.0013WARNING:tensorflow:Can save best model only with val_loss available, skipping.\n"
     ]
    },
    {
     "name": "stderr",
     "output_type": "stream",
     "text": [
      "WARNING:tensorflow:Can save best model only with val_loss available, skipping.\n"
     ]
    },
    {
     "name": "stdout",
     "output_type": "stream",
     "text": [
      "42/42 [==============================] - 24s 555ms/step - loss: 0.0118 - semantic_0_loss: 0.0031 - semantic_1_loss: 0.0074 - semantic_2_loss: 0.0013 - lr: 6.6897e-05\n",
      "Epoch 42/200\n",
      "42/42 [==============================] - ETA: 0s - loss: 0.0119 - semantic_0_loss: 0.0031 - semantic_1_loss: 0.0075 - semantic_2_loss: 0.0013WARNING:tensorflow:Can save best model only with val_loss available, skipping.\n"
     ]
    },
    {
     "name": "stderr",
     "output_type": "stream",
     "text": [
      "WARNING:tensorflow:Can save best model only with val_loss available, skipping.\n"
     ]
    },
    {
     "name": "stdout",
     "output_type": "stream",
     "text": [
      "42/42 [==============================] - 24s 576ms/step - loss: 0.0119 - semantic_0_loss: 0.0031 - semantic_1_loss: 0.0075 - semantic_2_loss: 0.0013 - lr: 6.6228e-05\n",
      "Epoch 43/200\n",
      "42/42 [==============================] - ETA: 0s - loss: 0.0123 - semantic_0_loss: 0.0032 - semantic_1_loss: 0.0077 - semantic_2_loss: 0.0013WARNING:tensorflow:Can save best model only with val_loss available, skipping.\n"
     ]
    },
    {
     "name": "stderr",
     "output_type": "stream",
     "text": [
      "WARNING:tensorflow:Can save best model only with val_loss available, skipping.\n"
     ]
    },
    {
     "name": "stdout",
     "output_type": "stream",
     "text": [
      "42/42 [==============================] - 24s 562ms/step - loss: 0.0123 - semantic_0_loss: 0.0032 - semantic_1_loss: 0.0077 - semantic_2_loss: 0.0013 - lr: 6.5566e-05\n",
      "Epoch 44/200\n",
      "42/42 [==============================] - ETA: 0s - loss: 0.0119 - semantic_0_loss: 0.0031 - semantic_1_loss: 0.0075 - semantic_2_loss: 0.0013WARNING:tensorflow:Can save best model only with val_loss available, skipping.\n"
     ]
    },
    {
     "name": "stderr",
     "output_type": "stream",
     "text": [
      "WARNING:tensorflow:Can save best model only with val_loss available, skipping.\n"
     ]
    },
    {
     "name": "stdout",
     "output_type": "stream",
     "text": [
      "42/42 [==============================] - 24s 559ms/step - loss: 0.0119 - semantic_0_loss: 0.0031 - semantic_1_loss: 0.0075 - semantic_2_loss: 0.0013 - lr: 6.4910e-05\n",
      "Epoch 45/200\n",
      "42/42 [==============================] - ETA: 0s - loss: 0.0120 - semantic_0_loss: 0.0032 - semantic_1_loss: 0.0075 - semantic_2_loss: 0.0013WARNING:tensorflow:Can save best model only with val_loss available, skipping.\n"
     ]
    },
    {
     "name": "stderr",
     "output_type": "stream",
     "text": [
      "WARNING:tensorflow:Can save best model only with val_loss available, skipping.\n"
     ]
    },
    {
     "name": "stdout",
     "output_type": "stream",
     "text": [
      "42/42 [==============================] - 24s 563ms/step - loss: 0.0120 - semantic_0_loss: 0.0032 - semantic_1_loss: 0.0075 - semantic_2_loss: 0.0013 - lr: 6.4261e-05\n",
      "Epoch 46/200\n",
      "42/42 [==============================] - ETA: 0s - loss: 0.0123 - semantic_0_loss: 0.0032 - semantic_1_loss: 0.0077 - semantic_2_loss: 0.0013WARNING:tensorflow:Can save best model only with val_loss available, skipping.\n"
     ]
    },
    {
     "name": "stderr",
     "output_type": "stream",
     "text": [
      "WARNING:tensorflow:Can save best model only with val_loss available, skipping.\n"
     ]
    },
    {
     "name": "stdout",
     "output_type": "stream",
     "text": [
      "42/42 [==============================] - 23s 556ms/step - loss: 0.0123 - semantic_0_loss: 0.0032 - semantic_1_loss: 0.0077 - semantic_2_loss: 0.0013 - lr: 6.3619e-05\n",
      "Epoch 47/200\n",
      "42/42 [==============================] - ETA: 0s - loss: 0.0121 - semantic_0_loss: 0.0032 - semantic_1_loss: 0.0076 - semantic_2_loss: 0.0013WARNING:tensorflow:Can save best model only with val_loss available, skipping.\n"
     ]
    },
    {
     "name": "stderr",
     "output_type": "stream",
     "text": [
      "WARNING:tensorflow:Can save best model only with val_loss available, skipping.\n"
     ]
    },
    {
     "name": "stdout",
     "output_type": "stream",
     "text": [
      "42/42 [==============================] - 24s 568ms/step - loss: 0.0121 - semantic_0_loss: 0.0032 - semantic_1_loss: 0.0076 - semantic_2_loss: 0.0013 - lr: 6.2982e-05\n",
      "Epoch 48/200\n",
      "42/42 [==============================] - ETA: 0s - loss: 0.0121 - semantic_0_loss: 0.0032 - semantic_1_loss: 0.0076 - semantic_2_loss: 0.0013WARNING:tensorflow:Can save best model only with val_loss available, skipping.\n"
     ]
    },
    {
     "name": "stderr",
     "output_type": "stream",
     "text": [
      "WARNING:tensorflow:Can save best model only with val_loss available, skipping.\n"
     ]
    },
    {
     "name": "stdout",
     "output_type": "stream",
     "text": [
      "42/42 [==============================] - 24s 561ms/step - loss: 0.0121 - semantic_0_loss: 0.0032 - semantic_1_loss: 0.0076 - semantic_2_loss: 0.0013 - lr: 6.2353e-05\n",
      "Epoch 49/200\n",
      "42/42 [==============================] - ETA: 0s - loss: 0.0121 - semantic_0_loss: 0.0032 - semantic_1_loss: 0.0076 - semantic_2_loss: 0.0013WARNING:tensorflow:Can save best model only with val_loss available, skipping.\n"
     ]
    },
    {
     "name": "stderr",
     "output_type": "stream",
     "text": [
      "WARNING:tensorflow:Can save best model only with val_loss available, skipping.\n"
     ]
    },
    {
     "name": "stdout",
     "output_type": "stream",
     "text": [
      "42/42 [==============================] - 24s 569ms/step - loss: 0.0121 - semantic_0_loss: 0.0032 - semantic_1_loss: 0.0076 - semantic_2_loss: 0.0013 - lr: 6.1729e-05\n",
      "Epoch 50/200\n",
      "42/42 [==============================] - ETA: 0s - loss: 0.0122 - semantic_0_loss: 0.0032 - semantic_1_loss: 0.0076 - semantic_2_loss: 0.0013WARNING:tensorflow:Can save best model only with val_loss available, skipping.\n"
     ]
    },
    {
     "name": "stderr",
     "output_type": "stream",
     "text": [
      "WARNING:tensorflow:Can save best model only with val_loss available, skipping.\n"
     ]
    },
    {
     "name": "stdout",
     "output_type": "stream",
     "text": [
      "42/42 [==============================] - 24s 564ms/step - loss: 0.0122 - semantic_0_loss: 0.0032 - semantic_1_loss: 0.0076 - semantic_2_loss: 0.0013 - lr: 6.1112e-05\n",
      "Epoch 51/200\n",
      "42/42 [==============================] - ETA: 0s - loss: 0.0120 - semantic_0_loss: 0.0032 - semantic_1_loss: 0.0075 - semantic_2_loss: 0.0013WARNING:tensorflow:Can save best model only with val_loss available, skipping.\n"
     ]
    },
    {
     "name": "stderr",
     "output_type": "stream",
     "text": [
      "WARNING:tensorflow:Can save best model only with val_loss available, skipping.\n"
     ]
    },
    {
     "name": "stdout",
     "output_type": "stream",
     "text": [
      "42/42 [==============================] - 24s 564ms/step - loss: 0.0120 - semantic_0_loss: 0.0032 - semantic_1_loss: 0.0075 - semantic_2_loss: 0.0013 - lr: 6.0501e-05\n",
      "Epoch 52/200\n",
      "42/42 [==============================] - ETA: 0s - loss: 0.0119 - semantic_0_loss: 0.0031 - semantic_1_loss: 0.0075 - semantic_2_loss: 0.0013WARNING:tensorflow:Can save best model only with val_loss available, skipping.\n"
     ]
    },
    {
     "name": "stderr",
     "output_type": "stream",
     "text": [
      "WARNING:tensorflow:Can save best model only with val_loss available, skipping.\n"
     ]
    },
    {
     "name": "stdout",
     "output_type": "stream",
     "text": [
      "42/42 [==============================] - 24s 569ms/step - loss: 0.0119 - semantic_0_loss: 0.0031 - semantic_1_loss: 0.0075 - semantic_2_loss: 0.0013 - lr: 5.9896e-05\n",
      "Epoch 53/200\n",
      "42/42 [==============================] - ETA: 0s - loss: 0.0118 - semantic_0_loss: 0.0031 - semantic_1_loss: 0.0074 - semantic_2_loss: 0.0013WARNING:tensorflow:Can save best model only with val_loss available, skipping.\n"
     ]
    },
    {
     "name": "stderr",
     "output_type": "stream",
     "text": [
      "WARNING:tensorflow:Can save best model only with val_loss available, skipping.\n"
     ]
    },
    {
     "name": "stdout",
     "output_type": "stream",
     "text": [
      "42/42 [==============================] - 24s 563ms/step - loss: 0.0118 - semantic_0_loss: 0.0031 - semantic_1_loss: 0.0074 - semantic_2_loss: 0.0013 - lr: 5.9297e-05\n",
      "Epoch 54/200\n",
      "42/42 [==============================] - ETA: 0s - loss: 0.0119 - semantic_0_loss: 0.0031 - semantic_1_loss: 0.0075 - semantic_2_loss: 0.0013WARNING:tensorflow:Can save best model only with val_loss available, skipping.\n"
     ]
    },
    {
     "name": "stderr",
     "output_type": "stream",
     "text": [
      "WARNING:tensorflow:Can save best model only with val_loss available, skipping.\n"
     ]
    },
    {
     "name": "stdout",
     "output_type": "stream",
     "text": [
      "42/42 [==============================] - 24s 564ms/step - loss: 0.0119 - semantic_0_loss: 0.0031 - semantic_1_loss: 0.0075 - semantic_2_loss: 0.0013 - lr: 5.8704e-05\n",
      "Epoch 55/200\n",
      "42/42 [==============================] - ETA: 0s - loss: 0.0118 - semantic_0_loss: 0.0031 - semantic_1_loss: 0.0074 - semantic_2_loss: 0.0013WARNING:tensorflow:Can save best model only with val_loss available, skipping.\n"
     ]
    },
    {
     "name": "stderr",
     "output_type": "stream",
     "text": [
      "WARNING:tensorflow:Can save best model only with val_loss available, skipping.\n"
     ]
    },
    {
     "name": "stdout",
     "output_type": "stream",
     "text": [
      "42/42 [==============================] - 24s 582ms/step - loss: 0.0118 - semantic_0_loss: 0.0031 - semantic_1_loss: 0.0074 - semantic_2_loss: 0.0013 - lr: 5.8117e-05\n",
      "Epoch 56/200\n",
      "42/42 [==============================] - ETA: 0s - loss: 0.0116 - semantic_0_loss: 0.0030 - semantic_1_loss: 0.0072 - semantic_2_loss: 0.0013WARNING:tensorflow:Can save best model only with val_loss available, skipping.\n"
     ]
    },
    {
     "name": "stderr",
     "output_type": "stream",
     "text": [
      "WARNING:tensorflow:Can save best model only with val_loss available, skipping.\n"
     ]
    },
    {
     "name": "stdout",
     "output_type": "stream",
     "text": [
      "42/42 [==============================] - 24s 557ms/step - loss: 0.0116 - semantic_0_loss: 0.0030 - semantic_1_loss: 0.0072 - semantic_2_loss: 0.0013 - lr: 5.7535e-05\n",
      "Epoch 57/200\n",
      "42/42 [==============================] - ETA: 0s - loss: 0.0119 - semantic_0_loss: 0.0031 - semantic_1_loss: 0.0075 - semantic_2_loss: 0.0013WARNING:tensorflow:Can save best model only with val_loss available, skipping.\n"
     ]
    },
    {
     "name": "stderr",
     "output_type": "stream",
     "text": [
      "WARNING:tensorflow:Can save best model only with val_loss available, skipping.\n"
     ]
    },
    {
     "name": "stdout",
     "output_type": "stream",
     "text": [
      "42/42 [==============================] - 24s 561ms/step - loss: 0.0119 - semantic_0_loss: 0.0031 - semantic_1_loss: 0.0075 - semantic_2_loss: 0.0013 - lr: 5.6960e-05\n",
      "Epoch 58/200\n",
      "42/42 [==============================] - ETA: 0s - loss: 0.0118 - semantic_0_loss: 0.0031 - semantic_1_loss: 0.0074 - semantic_2_loss: 0.0013WARNING:tensorflow:Can save best model only with val_loss available, skipping.\n"
     ]
    },
    {
     "name": "stderr",
     "output_type": "stream",
     "text": [
      "WARNING:tensorflow:Can save best model only with val_loss available, skipping.\n"
     ]
    },
    {
     "name": "stdout",
     "output_type": "stream",
     "text": [
      "42/42 [==============================] - 24s 559ms/step - loss: 0.0118 - semantic_0_loss: 0.0031 - semantic_1_loss: 0.0074 - semantic_2_loss: 0.0013 - lr: 5.6391e-05\n",
      "Epoch 59/200\n",
      "42/42 [==============================] - ETA: 0s - loss: 0.0117 - semantic_0_loss: 0.0031 - semantic_1_loss: 0.0073 - semantic_2_loss: 0.0013WARNING:tensorflow:Can save best model only with val_loss available, skipping.\n"
     ]
    },
    {
     "name": "stderr",
     "output_type": "stream",
     "text": [
      "WARNING:tensorflow:Can save best model only with val_loss available, skipping.\n"
     ]
    },
    {
     "name": "stdout",
     "output_type": "stream",
     "text": [
      "42/42 [==============================] - 24s 555ms/step - loss: 0.0117 - semantic_0_loss: 0.0031 - semantic_1_loss: 0.0073 - semantic_2_loss: 0.0013 - lr: 5.5827e-05\n",
      "Epoch 60/200\n",
      "42/42 [==============================] - ETA: 0s - loss: 0.0115 - semantic_0_loss: 0.0030 - semantic_1_loss: 0.0072 - semantic_2_loss: 0.0013WARNING:tensorflow:Can save best model only with val_loss available, skipping.\n"
     ]
    },
    {
     "name": "stderr",
     "output_type": "stream",
     "text": [
      "WARNING:tensorflow:Can save best model only with val_loss available, skipping.\n"
     ]
    },
    {
     "name": "stdout",
     "output_type": "stream",
     "text": [
      "42/42 [==============================] - 24s 568ms/step - loss: 0.0115 - semantic_0_loss: 0.0030 - semantic_1_loss: 0.0072 - semantic_2_loss: 0.0013 - lr: 5.5268e-05\n",
      "Epoch 61/200\n",
      "42/42 [==============================] - ETA: 0s - loss: 0.0115 - semantic_0_loss: 0.0031 - semantic_1_loss: 0.0072 - semantic_2_loss: 0.0013WARNING:tensorflow:Can save best model only with val_loss available, skipping.\n"
     ]
    },
    {
     "name": "stderr",
     "output_type": "stream",
     "text": [
      "WARNING:tensorflow:Can save best model only with val_loss available, skipping.\n"
     ]
    },
    {
     "name": "stdout",
     "output_type": "stream",
     "text": [
      "42/42 [==============================] - 24s 564ms/step - loss: 0.0115 - semantic_0_loss: 0.0031 - semantic_1_loss: 0.0072 - semantic_2_loss: 0.0013 - lr: 5.4716e-05\n",
      "Epoch 62/200\n",
      "42/42 [==============================] - ETA: 0s - loss: 0.0118 - semantic_0_loss: 0.0031 - semantic_1_loss: 0.0074 - semantic_2_loss: 0.0013WARNING:tensorflow:Can save best model only with val_loss available, skipping.\n"
     ]
    },
    {
     "name": "stderr",
     "output_type": "stream",
     "text": [
      "WARNING:tensorflow:Can save best model only with val_loss available, skipping.\n"
     ]
    },
    {
     "name": "stdout",
     "output_type": "stream",
     "text": [
      "42/42 [==============================] - 24s 562ms/step - loss: 0.0118 - semantic_0_loss: 0.0031 - semantic_1_loss: 0.0074 - semantic_2_loss: 0.0013 - lr: 5.4169e-05\n",
      "Epoch 63/200\n",
      "42/42 [==============================] - ETA: 0s - loss: 0.0117 - semantic_0_loss: 0.0031 - semantic_1_loss: 0.0073 - semantic_2_loss: 0.0013WARNING:tensorflow:Can save best model only with val_loss available, skipping.\n"
     ]
    },
    {
     "name": "stderr",
     "output_type": "stream",
     "text": [
      "WARNING:tensorflow:Can save best model only with val_loss available, skipping.\n"
     ]
    },
    {
     "name": "stdout",
     "output_type": "stream",
     "text": [
      "42/42 [==============================] - 24s 562ms/step - loss: 0.0117 - semantic_0_loss: 0.0031 - semantic_1_loss: 0.0073 - semantic_2_loss: 0.0013 - lr: 5.3627e-05\n",
      "Epoch 64/200\n",
      "42/42 [==============================] - ETA: 0s - loss: 0.0115 - semantic_0_loss: 0.0031 - semantic_1_loss: 0.0072 - semantic_2_loss: 0.0013WARNING:tensorflow:Can save best model only with val_loss available, skipping.\n"
     ]
    },
    {
     "name": "stderr",
     "output_type": "stream",
     "text": [
      "WARNING:tensorflow:Can save best model only with val_loss available, skipping.\n"
     ]
    },
    {
     "name": "stdout",
     "output_type": "stream",
     "text": [
      "42/42 [==============================] - 23s 554ms/step - loss: 0.0115 - semantic_0_loss: 0.0031 - semantic_1_loss: 0.0072 - semantic_2_loss: 0.0013 - lr: 5.3091e-05\n",
      "Epoch 65/200\n",
      "42/42 [==============================] - ETA: 0s - loss: 0.0117 - semantic_0_loss: 0.0031 - semantic_1_loss: 0.0073 - semantic_2_loss: 0.0013WARNING:tensorflow:Can save best model only with val_loss available, skipping.\n"
     ]
    },
    {
     "name": "stderr",
     "output_type": "stream",
     "text": [
      "WARNING:tensorflow:Can save best model only with val_loss available, skipping.\n"
     ]
    },
    {
     "name": "stdout",
     "output_type": "stream",
     "text": [
      "42/42 [==============================] - 24s 558ms/step - loss: 0.0117 - semantic_0_loss: 0.0031 - semantic_1_loss: 0.0073 - semantic_2_loss: 0.0013 - lr: 5.2560e-05\n",
      "Epoch 66/200\n",
      "42/42 [==============================] - ETA: 0s - loss: 0.0116 - semantic_0_loss: 0.0031 - semantic_1_loss: 0.0073 - semantic_2_loss: 0.0013WARNING:tensorflow:Can save best model only with val_loss available, skipping.\n"
     ]
    },
    {
     "name": "stderr",
     "output_type": "stream",
     "text": [
      "WARNING:tensorflow:Can save best model only with val_loss available, skipping.\n"
     ]
    },
    {
     "name": "stdout",
     "output_type": "stream",
     "text": [
      "42/42 [==============================] - 24s 557ms/step - loss: 0.0116 - semantic_0_loss: 0.0031 - semantic_1_loss: 0.0073 - semantic_2_loss: 0.0013 - lr: 5.2034e-05\n",
      "Epoch 67/200\n",
      "42/42 [==============================] - ETA: 0s - loss: 0.0117 - semantic_0_loss: 0.0031 - semantic_1_loss: 0.0073 - semantic_2_loss: 0.0013WARNING:tensorflow:Can save best model only with val_loss available, skipping.\n"
     ]
    },
    {
     "name": "stderr",
     "output_type": "stream",
     "text": [
      "WARNING:tensorflow:Can save best model only with val_loss available, skipping.\n"
     ]
    },
    {
     "name": "stdout",
     "output_type": "stream",
     "text": [
      "42/42 [==============================] - 24s 560ms/step - loss: 0.0117 - semantic_0_loss: 0.0031 - semantic_1_loss: 0.0073 - semantic_2_loss: 0.0013 - lr: 5.1514e-05\n",
      "Epoch 68/200\n",
      "42/42 [==============================] - ETA: 0s - loss: 0.0116 - semantic_0_loss: 0.0031 - semantic_1_loss: 0.0073 - semantic_2_loss: 0.0013WARNING:tensorflow:Can save best model only with val_loss available, skipping.\n"
     ]
    },
    {
     "name": "stderr",
     "output_type": "stream",
     "text": [
      "WARNING:tensorflow:Can save best model only with val_loss available, skipping.\n"
     ]
    },
    {
     "name": "stdout",
     "output_type": "stream",
     "text": [
      "42/42 [==============================] - 24s 565ms/step - loss: 0.0116 - semantic_0_loss: 0.0031 - semantic_1_loss: 0.0073 - semantic_2_loss: 0.0013 - lr: 5.0999e-05\n",
      "Epoch 69/200\n",
      "42/42 [==============================] - ETA: 0s - loss: 0.0117 - semantic_0_loss: 0.0031 - semantic_1_loss: 0.0073 - semantic_2_loss: 0.0013WARNING:tensorflow:Can save best model only with val_loss available, skipping.\n"
     ]
    },
    {
     "name": "stderr",
     "output_type": "stream",
     "text": [
      "WARNING:tensorflow:Can save best model only with val_loss available, skipping.\n"
     ]
    },
    {
     "name": "stdout",
     "output_type": "stream",
     "text": [
      "42/42 [==============================] - 24s 558ms/step - loss: 0.0117 - semantic_0_loss: 0.0031 - semantic_1_loss: 0.0073 - semantic_2_loss: 0.0013 - lr: 5.0489e-05\n",
      "Epoch 70/200\n",
      "42/42 [==============================] - ETA: 0s - loss: 0.0116 - semantic_0_loss: 0.0030 - semantic_1_loss: 0.0073 - semantic_2_loss: 0.0013WARNING:tensorflow:Can save best model only with val_loss available, skipping.\n"
     ]
    },
    {
     "name": "stderr",
     "output_type": "stream",
     "text": [
      "WARNING:tensorflow:Can save best model only with val_loss available, skipping.\n"
     ]
    },
    {
     "name": "stdout",
     "output_type": "stream",
     "text": [
      "42/42 [==============================] - 24s 558ms/step - loss: 0.0116 - semantic_0_loss: 0.0030 - semantic_1_loss: 0.0073 - semantic_2_loss: 0.0013 - lr: 4.9984e-05\n",
      "Epoch 71/200\n",
      "42/42 [==============================] - ETA: 0s - loss: 0.0113 - semantic_0_loss: 0.0030 - semantic_1_loss: 0.0071 - semantic_2_loss: 0.0013WARNING:tensorflow:Can save best model only with val_loss available, skipping.\n"
     ]
    },
    {
     "name": "stderr",
     "output_type": "stream",
     "text": [
      "WARNING:tensorflow:Can save best model only with val_loss available, skipping.\n"
     ]
    },
    {
     "name": "stdout",
     "output_type": "stream",
     "text": [
      "42/42 [==============================] - 24s 559ms/step - loss: 0.0113 - semantic_0_loss: 0.0030 - semantic_1_loss: 0.0071 - semantic_2_loss: 0.0013 - lr: 4.9484e-05\n",
      "Epoch 72/200\n",
      "42/42 [==============================] - ETA: 0s - loss: 0.0116 - semantic_0_loss: 0.0031 - semantic_1_loss: 0.0073 - semantic_2_loss: 0.0013WARNING:tensorflow:Can save best model only with val_loss available, skipping.\n"
     ]
    },
    {
     "name": "stderr",
     "output_type": "stream",
     "text": [
      "WARNING:tensorflow:Can save best model only with val_loss available, skipping.\n"
     ]
    },
    {
     "name": "stdout",
     "output_type": "stream",
     "text": [
      "42/42 [==============================] - 24s 557ms/step - loss: 0.0116 - semantic_0_loss: 0.0031 - semantic_1_loss: 0.0073 - semantic_2_loss: 0.0013 - lr: 4.8989e-05\n",
      "Epoch 73/200\n",
      "42/42 [==============================] - ETA: 0s - loss: 0.0114 - semantic_0_loss: 0.0030 - semantic_1_loss: 0.0071 - semantic_2_loss: 0.0013WARNING:tensorflow:Can save best model only with val_loss available, skipping.\n"
     ]
    },
    {
     "name": "stderr",
     "output_type": "stream",
     "text": [
      "WARNING:tensorflow:Can save best model only with val_loss available, skipping.\n"
     ]
    },
    {
     "name": "stdout",
     "output_type": "stream",
     "text": [
      "42/42 [==============================] - 24s 557ms/step - loss: 0.0114 - semantic_0_loss: 0.0030 - semantic_1_loss: 0.0071 - semantic_2_loss: 0.0013 - lr: 4.8499e-05\n",
      "Epoch 74/200\n",
      "42/42 [==============================] - ETA: 0s - loss: 0.0114 - semantic_0_loss: 0.0031 - semantic_1_loss: 0.0071 - semantic_2_loss: 0.0013WARNING:tensorflow:Can save best model only with val_loss available, skipping.\n"
     ]
    },
    {
     "name": "stderr",
     "output_type": "stream",
     "text": [
      "WARNING:tensorflow:Can save best model only with val_loss available, skipping.\n"
     ]
    },
    {
     "name": "stdout",
     "output_type": "stream",
     "text": [
      "42/42 [==============================] - 24s 565ms/step - loss: 0.0114 - semantic_0_loss: 0.0031 - semantic_1_loss: 0.0071 - semantic_2_loss: 0.0013 - lr: 4.8014e-05\n",
      "Epoch 75/200\n",
      "42/42 [==============================] - ETA: 0s - loss: 0.0116 - semantic_0_loss: 0.0031 - semantic_1_loss: 0.0072 - semantic_2_loss: 0.0013WARNING:tensorflow:Can save best model only with val_loss available, skipping.\n"
     ]
    },
    {
     "name": "stderr",
     "output_type": "stream",
     "text": [
      "WARNING:tensorflow:Can save best model only with val_loss available, skipping.\n"
     ]
    },
    {
     "name": "stdout",
     "output_type": "stream",
     "text": [
      "42/42 [==============================] - 24s 568ms/step - loss: 0.0116 - semantic_0_loss: 0.0031 - semantic_1_loss: 0.0072 - semantic_2_loss: 0.0013 - lr: 4.7534e-05\n",
      "Epoch 76/200\n",
      "42/42 [==============================] - ETA: 0s - loss: 0.0114 - semantic_0_loss: 0.0030 - semantic_1_loss: 0.0071 - semantic_2_loss: 0.0013WARNING:tensorflow:Can save best model only with val_loss available, skipping.\n"
     ]
    },
    {
     "name": "stderr",
     "output_type": "stream",
     "text": [
      "WARNING:tensorflow:Can save best model only with val_loss available, skipping.\n"
     ]
    },
    {
     "name": "stdout",
     "output_type": "stream",
     "text": [
      "42/42 [==============================] - 24s 562ms/step - loss: 0.0114 - semantic_0_loss: 0.0030 - semantic_1_loss: 0.0071 - semantic_2_loss: 0.0013 - lr: 4.7059e-05\n",
      "Epoch 77/200\n",
      "42/42 [==============================] - ETA: 0s - loss: 0.0116 - semantic_0_loss: 0.0031 - semantic_1_loss: 0.0072 - semantic_2_loss: 0.0013WARNING:tensorflow:Can save best model only with val_loss available, skipping.\n"
     ]
    },
    {
     "name": "stderr",
     "output_type": "stream",
     "text": [
      "WARNING:tensorflow:Can save best model only with val_loss available, skipping.\n"
     ]
    },
    {
     "name": "stdout",
     "output_type": "stream",
     "text": [
      "42/42 [==============================] - 24s 555ms/step - loss: 0.0116 - semantic_0_loss: 0.0031 - semantic_1_loss: 0.0072 - semantic_2_loss: 0.0013 - lr: 4.6588e-05\n",
      "Epoch 78/200\n",
      "42/42 [==============================] - ETA: 0s - loss: 0.0113 - semantic_0_loss: 0.0030 - semantic_1_loss: 0.0071 - semantic_2_loss: 0.0013WARNING:tensorflow:Can save best model only with val_loss available, skipping.\n"
     ]
    },
    {
     "name": "stderr",
     "output_type": "stream",
     "text": [
      "WARNING:tensorflow:Can save best model only with val_loss available, skipping.\n"
     ]
    },
    {
     "name": "stdout",
     "output_type": "stream",
     "text": [
      "42/42 [==============================] - 24s 553ms/step - loss: 0.0113 - semantic_0_loss: 0.0030 - semantic_1_loss: 0.0071 - semantic_2_loss: 0.0013 - lr: 4.6122e-05\n",
      "Epoch 79/200\n",
      "42/42 [==============================] - ETA: 0s - loss: 0.0112 - semantic_0_loss: 0.0030 - semantic_1_loss: 0.0070 - semantic_2_loss: 0.0012WARNING:tensorflow:Can save best model only with val_loss available, skipping.\n"
     ]
    },
    {
     "name": "stderr",
     "output_type": "stream",
     "text": [
      "WARNING:tensorflow:Can save best model only with val_loss available, skipping.\n"
     ]
    },
    {
     "name": "stdout",
     "output_type": "stream",
     "text": [
      "42/42 [==============================] - 24s 562ms/step - loss: 0.0112 - semantic_0_loss: 0.0030 - semantic_1_loss: 0.0070 - semantic_2_loss: 0.0012 - lr: 4.5661e-05\n",
      "Epoch 80/200\n",
      "42/42 [==============================] - ETA: 0s - loss: 0.0113 - semantic_0_loss: 0.0031 - semantic_1_loss: 0.0070 - semantic_2_loss: 0.0012WARNING:tensorflow:Can save best model only with val_loss available, skipping.\n"
     ]
    },
    {
     "name": "stderr",
     "output_type": "stream",
     "text": [
      "WARNING:tensorflow:Can save best model only with val_loss available, skipping.\n"
     ]
    },
    {
     "name": "stdout",
     "output_type": "stream",
     "text": [
      "42/42 [==============================] - 24s 560ms/step - loss: 0.0113 - semantic_0_loss: 0.0031 - semantic_1_loss: 0.0070 - semantic_2_loss: 0.0012 - lr: 4.5204e-05\n",
      "Epoch 81/200\n",
      "42/42 [==============================] - ETA: 0s - loss: 0.0111 - semantic_0_loss: 0.0030 - semantic_1_loss: 0.0069 - semantic_2_loss: 0.0012WARNING:tensorflow:Can save best model only with val_loss available, skipping.\n"
     ]
    },
    {
     "name": "stderr",
     "output_type": "stream",
     "text": [
      "WARNING:tensorflow:Can save best model only with val_loss available, skipping.\n"
     ]
    },
    {
     "name": "stdout",
     "output_type": "stream",
     "text": [
      "42/42 [==============================] - 23s 555ms/step - loss: 0.0111 - semantic_0_loss: 0.0030 - semantic_1_loss: 0.0069 - semantic_2_loss: 0.0012 - lr: 4.4752e-05\n",
      "Epoch 82/200\n",
      "42/42 [==============================] - ETA: 0s - loss: 0.0111 - semantic_0_loss: 0.0030 - semantic_1_loss: 0.0069 - semantic_2_loss: 0.0012WARNING:tensorflow:Can save best model only with val_loss available, skipping.\n"
     ]
    },
    {
     "name": "stderr",
     "output_type": "stream",
     "text": [
      "WARNING:tensorflow:Can save best model only with val_loss available, skipping.\n"
     ]
    },
    {
     "name": "stdout",
     "output_type": "stream",
     "text": [
      "42/42 [==============================] - 24s 557ms/step - loss: 0.0111 - semantic_0_loss: 0.0030 - semantic_1_loss: 0.0069 - semantic_2_loss: 0.0012 - lr: 4.4305e-05\n",
      "Epoch 83/200\n",
      "42/42 [==============================] - ETA: 0s - loss: 0.0112 - semantic_0_loss: 0.0030 - semantic_1_loss: 0.0070 - semantic_2_loss: 0.0012WARNING:tensorflow:Can save best model only with val_loss available, skipping.\n"
     ]
    },
    {
     "name": "stderr",
     "output_type": "stream",
     "text": [
      "WARNING:tensorflow:Can save best model only with val_loss available, skipping.\n"
     ]
    },
    {
     "name": "stdout",
     "output_type": "stream",
     "text": [
      "42/42 [==============================] - 24s 555ms/step - loss: 0.0112 - semantic_0_loss: 0.0030 - semantic_1_loss: 0.0070 - semantic_2_loss: 0.0012 - lr: 4.3862e-05\n",
      "Epoch 84/200\n",
      "42/42 [==============================] - ETA: 0s - loss: 0.0112 - semantic_0_loss: 0.0030 - semantic_1_loss: 0.0070 - semantic_2_loss: 0.0012WARNING:tensorflow:Can save best model only with val_loss available, skipping.\n"
     ]
    },
    {
     "name": "stderr",
     "output_type": "stream",
     "text": [
      "WARNING:tensorflow:Can save best model only with val_loss available, skipping.\n"
     ]
    },
    {
     "name": "stdout",
     "output_type": "stream",
     "text": [
      "42/42 [==============================] - 24s 562ms/step - loss: 0.0112 - semantic_0_loss: 0.0030 - semantic_1_loss: 0.0070 - semantic_2_loss: 0.0012 - lr: 4.3423e-05\n",
      "Epoch 85/200\n",
      "42/42 [==============================] - ETA: 0s - loss: 0.0112 - semantic_0_loss: 0.0030 - semantic_1_loss: 0.0069 - semantic_2_loss: 0.0012WARNING:tensorflow:Can save best model only with val_loss available, skipping.\n"
     ]
    },
    {
     "name": "stderr",
     "output_type": "stream",
     "text": [
      "WARNING:tensorflow:Can save best model only with val_loss available, skipping.\n"
     ]
    },
    {
     "name": "stdout",
     "output_type": "stream",
     "text": [
      "42/42 [==============================] - 24s 564ms/step - loss: 0.0112 - semantic_0_loss: 0.0030 - semantic_1_loss: 0.0069 - semantic_2_loss: 0.0012 - lr: 4.2989e-05\n",
      "Epoch 86/200\n",
      "42/42 [==============================] - ETA: 0s - loss: 0.0114 - semantic_0_loss: 0.0030 - semantic_1_loss: 0.0071 - semantic_2_loss: 0.0013WARNING:tensorflow:Can save best model only with val_loss available, skipping.\n"
     ]
    },
    {
     "name": "stderr",
     "output_type": "stream",
     "text": [
      "WARNING:tensorflow:Can save best model only with val_loss available, skipping.\n"
     ]
    },
    {
     "name": "stdout",
     "output_type": "stream",
     "text": [
      "42/42 [==============================] - 23s 550ms/step - loss: 0.0114 - semantic_0_loss: 0.0030 - semantic_1_loss: 0.0071 - semantic_2_loss: 0.0013 - lr: 4.2559e-05\n",
      "Epoch 87/200\n",
      "42/42 [==============================] - ETA: 0s - loss: 0.0113 - semantic_0_loss: 0.0031 - semantic_1_loss: 0.0070 - semantic_2_loss: 0.0012WARNING:tensorflow:Can save best model only with val_loss available, skipping.\n"
     ]
    },
    {
     "name": "stderr",
     "output_type": "stream",
     "text": [
      "WARNING:tensorflow:Can save best model only with val_loss available, skipping.\n"
     ]
    },
    {
     "name": "stdout",
     "output_type": "stream",
     "text": [
      "42/42 [==============================] - 24s 560ms/step - loss: 0.0113 - semantic_0_loss: 0.0031 - semantic_1_loss: 0.0070 - semantic_2_loss: 0.0012 - lr: 4.2133e-05\n",
      "Epoch 88/200\n",
      "42/42 [==============================] - ETA: 0s - loss: 0.0112 - semantic_0_loss: 0.0030 - semantic_1_loss: 0.0069 - semantic_2_loss: 0.0012WARNING:tensorflow:Can save best model only with val_loss available, skipping.\n"
     ]
    },
    {
     "name": "stderr",
     "output_type": "stream",
     "text": [
      "WARNING:tensorflow:Can save best model only with val_loss available, skipping.\n"
     ]
    },
    {
     "name": "stdout",
     "output_type": "stream",
     "text": [
      "42/42 [==============================] - 24s 562ms/step - loss: 0.0112 - semantic_0_loss: 0.0030 - semantic_1_loss: 0.0069 - semantic_2_loss: 0.0012 - lr: 4.1712e-05\n",
      "Epoch 89/200\n",
      "42/42 [==============================] - ETA: 0s - loss: 0.0111 - semantic_0_loss: 0.0030 - semantic_1_loss: 0.0069 - semantic_2_loss: 0.0012WARNING:tensorflow:Can save best model only with val_loss available, skipping.\n"
     ]
    },
    {
     "name": "stderr",
     "output_type": "stream",
     "text": [
      "WARNING:tensorflow:Can save best model only with val_loss available, skipping.\n"
     ]
    },
    {
     "name": "stdout",
     "output_type": "stream",
     "text": [
      "42/42 [==============================] - 24s 563ms/step - loss: 0.0111 - semantic_0_loss: 0.0030 - semantic_1_loss: 0.0069 - semantic_2_loss: 0.0012 - lr: 4.1295e-05\n",
      "Epoch 90/200\n",
      "42/42 [==============================] - ETA: 0s - loss: 0.0112 - semantic_0_loss: 0.0030 - semantic_1_loss: 0.0070 - semantic_2_loss: 0.0012WARNING:tensorflow:Can save best model only with val_loss available, skipping.\n"
     ]
    },
    {
     "name": "stderr",
     "output_type": "stream",
     "text": [
      "WARNING:tensorflow:Can save best model only with val_loss available, skipping.\n"
     ]
    },
    {
     "name": "stdout",
     "output_type": "stream",
     "text": [
      "42/42 [==============================] - 24s 555ms/step - loss: 0.0112 - semantic_0_loss: 0.0030 - semantic_1_loss: 0.0070 - semantic_2_loss: 0.0012 - lr: 4.0882e-05\n",
      "Epoch 91/200\n",
      "42/42 [==============================] - ETA: 0s - loss: 0.0112 - semantic_0_loss: 0.0030 - semantic_1_loss: 0.0069 - semantic_2_loss: 0.0012WARNING:tensorflow:Can save best model only with val_loss available, skipping.\n"
     ]
    },
    {
     "name": "stderr",
     "output_type": "stream",
     "text": [
      "WARNING:tensorflow:Can save best model only with val_loss available, skipping.\n"
     ]
    },
    {
     "name": "stdout",
     "output_type": "stream",
     "text": [
      "42/42 [==============================] - 23s 552ms/step - loss: 0.0112 - semantic_0_loss: 0.0030 - semantic_1_loss: 0.0069 - semantic_2_loss: 0.0012 - lr: 4.0473e-05\n",
      "Epoch 92/200\n",
      "42/42 [==============================] - ETA: 0s - loss: 0.0112 - semantic_0_loss: 0.0030 - semantic_1_loss: 0.0070 - semantic_2_loss: 0.0012WARNING:tensorflow:Can save best model only with val_loss available, skipping.\n"
     ]
    },
    {
     "name": "stderr",
     "output_type": "stream",
     "text": [
      "WARNING:tensorflow:Can save best model only with val_loss available, skipping.\n"
     ]
    },
    {
     "name": "stdout",
     "output_type": "stream",
     "text": [
      "42/42 [==============================] - 24s 558ms/step - loss: 0.0112 - semantic_0_loss: 0.0030 - semantic_1_loss: 0.0070 - semantic_2_loss: 0.0012 - lr: 4.0068e-05\n",
      "Epoch 93/200\n",
      "42/42 [==============================] - ETA: 0s - loss: 0.0112 - semantic_0_loss: 0.0030 - semantic_1_loss: 0.0069 - semantic_2_loss: 0.0012WARNING:tensorflow:Can save best model only with val_loss available, skipping.\n"
     ]
    },
    {
     "name": "stderr",
     "output_type": "stream",
     "text": [
      "WARNING:tensorflow:Can save best model only with val_loss available, skipping.\n"
     ]
    },
    {
     "name": "stdout",
     "output_type": "stream",
     "text": [
      "42/42 [==============================] - 24s 576ms/step - loss: 0.0112 - semantic_0_loss: 0.0030 - semantic_1_loss: 0.0069 - semantic_2_loss: 0.0012 - lr: 3.9668e-05\n",
      "Epoch 94/200\n",
      "42/42 [==============================] - ETA: 0s - loss: 0.0110 - semantic_0_loss: 0.0030 - semantic_1_loss: 0.0068 - semantic_2_loss: 0.0012WARNING:tensorflow:Can save best model only with val_loss available, skipping.\n"
     ]
    },
    {
     "name": "stderr",
     "output_type": "stream",
     "text": [
      "WARNING:tensorflow:Can save best model only with val_loss available, skipping.\n"
     ]
    },
    {
     "name": "stdout",
     "output_type": "stream",
     "text": [
      "42/42 [==============================] - 24s 556ms/step - loss: 0.0110 - semantic_0_loss: 0.0030 - semantic_1_loss: 0.0068 - semantic_2_loss: 0.0012 - lr: 3.9271e-05\n",
      "Epoch 95/200\n",
      "42/42 [==============================] - ETA: 0s - loss: 0.0110 - semantic_0_loss: 0.0030 - semantic_1_loss: 0.0069 - semantic_2_loss: 0.0012WARNING:tensorflow:Can save best model only with val_loss available, skipping.\n"
     ]
    },
    {
     "name": "stderr",
     "output_type": "stream",
     "text": [
      "WARNING:tensorflow:Can save best model only with val_loss available, skipping.\n"
     ]
    },
    {
     "name": "stdout",
     "output_type": "stream",
     "text": [
      "42/42 [==============================] - 24s 570ms/step - loss: 0.0110 - semantic_0_loss: 0.0030 - semantic_1_loss: 0.0069 - semantic_2_loss: 0.0012 - lr: 3.8878e-05\n",
      "Epoch 96/200\n",
      "42/42 [==============================] - ETA: 0s - loss: 0.0110 - semantic_0_loss: 0.0030 - semantic_1_loss: 0.0068 - semantic_2_loss: 0.0012WARNING:tensorflow:Can save best model only with val_loss available, skipping.\n"
     ]
    },
    {
     "name": "stderr",
     "output_type": "stream",
     "text": [
      "WARNING:tensorflow:Can save best model only with val_loss available, skipping.\n"
     ]
    },
    {
     "name": "stdout",
     "output_type": "stream",
     "text": [
      "42/42 [==============================] - 24s 556ms/step - loss: 0.0110 - semantic_0_loss: 0.0030 - semantic_1_loss: 0.0068 - semantic_2_loss: 0.0012 - lr: 3.8490e-05\n",
      "Epoch 97/200\n",
      "42/42 [==============================] - ETA: 0s - loss: 0.0109 - semantic_0_loss: 0.0029 - semantic_1_loss: 0.0068 - semantic_2_loss: 0.0012WARNING:tensorflow:Can save best model only with val_loss available, skipping.\n"
     ]
    },
    {
     "name": "stderr",
     "output_type": "stream",
     "text": [
      "WARNING:tensorflow:Can save best model only with val_loss available, skipping.\n"
     ]
    },
    {
     "name": "stdout",
     "output_type": "stream",
     "text": [
      "42/42 [==============================] - 24s 561ms/step - loss: 0.0109 - semantic_0_loss: 0.0029 - semantic_1_loss: 0.0068 - semantic_2_loss: 0.0012 - lr: 3.8105e-05\n",
      "Epoch 98/200\n",
      "42/42 [==============================] - ETA: 0s - loss: 0.0110 - semantic_0_loss: 0.0029 - semantic_1_loss: 0.0068 - semantic_2_loss: 0.0012WARNING:tensorflow:Can save best model only with val_loss available, skipping.\n"
     ]
    },
    {
     "name": "stderr",
     "output_type": "stream",
     "text": [
      "WARNING:tensorflow:Can save best model only with val_loss available, skipping.\n"
     ]
    },
    {
     "name": "stdout",
     "output_type": "stream",
     "text": [
      "42/42 [==============================] - 24s 559ms/step - loss: 0.0110 - semantic_0_loss: 0.0029 - semantic_1_loss: 0.0068 - semantic_2_loss: 0.0012 - lr: 3.7724e-05\n",
      "Epoch 99/200\n",
      "42/42 [==============================] - ETA: 0s - loss: 0.0112 - semantic_0_loss: 0.0030 - semantic_1_loss: 0.0070 - semantic_2_loss: 0.0012WARNING:tensorflow:Can save best model only with val_loss available, skipping.\n"
     ]
    },
    {
     "name": "stderr",
     "output_type": "stream",
     "text": [
      "WARNING:tensorflow:Can save best model only with val_loss available, skipping.\n"
     ]
    },
    {
     "name": "stdout",
     "output_type": "stream",
     "text": [
      "42/42 [==============================] - 24s 556ms/step - loss: 0.0112 - semantic_0_loss: 0.0030 - semantic_1_loss: 0.0070 - semantic_2_loss: 0.0012 - lr: 3.7346e-05\n",
      "Epoch 100/200\n",
      "42/42 [==============================] - ETA: 0s - loss: 0.0109 - semantic_0_loss: 0.0030 - semantic_1_loss: 0.0068 - semantic_2_loss: 0.0012WARNING:tensorflow:Can save best model only with val_loss available, skipping.\n"
     ]
    },
    {
     "name": "stderr",
     "output_type": "stream",
     "text": [
      "WARNING:tensorflow:Can save best model only with val_loss available, skipping.\n"
     ]
    },
    {
     "name": "stdout",
     "output_type": "stream",
     "text": [
      "42/42 [==============================] - 24s 571ms/step - loss: 0.0109 - semantic_0_loss: 0.0030 - semantic_1_loss: 0.0068 - semantic_2_loss: 0.0012 - lr: 3.6973e-05\n",
      "Epoch 101/200\n",
      "42/42 [==============================] - ETA: 0s - loss: 0.0109 - semantic_0_loss: 0.0029 - semantic_1_loss: 0.0067 - semantic_2_loss: 0.0012WARNING:tensorflow:Can save best model only with val_loss available, skipping.\n"
     ]
    },
    {
     "name": "stderr",
     "output_type": "stream",
     "text": [
      "WARNING:tensorflow:Can save best model only with val_loss available, skipping.\n"
     ]
    },
    {
     "name": "stdout",
     "output_type": "stream",
     "text": [
      "42/42 [==============================] - 24s 561ms/step - loss: 0.0109 - semantic_0_loss: 0.0029 - semantic_1_loss: 0.0067 - semantic_2_loss: 0.0012 - lr: 3.6603e-05\n",
      "Epoch 102/200\n",
      "42/42 [==============================] - ETA: 0s - loss: 0.0110 - semantic_0_loss: 0.0030 - semantic_1_loss: 0.0069 - semantic_2_loss: 0.0012WARNING:tensorflow:Can save best model only with val_loss available, skipping.\n"
     ]
    },
    {
     "name": "stderr",
     "output_type": "stream",
     "text": [
      "WARNING:tensorflow:Can save best model only with val_loss available, skipping.\n"
     ]
    },
    {
     "name": "stdout",
     "output_type": "stream",
     "text": [
      "42/42 [==============================] - 24s 562ms/step - loss: 0.0110 - semantic_0_loss: 0.0030 - semantic_1_loss: 0.0069 - semantic_2_loss: 0.0012 - lr: 3.6237e-05\n",
      "Epoch 103/200\n",
      "42/42 [==============================] - ETA: 0s - loss: 0.0111 - semantic_0_loss: 0.0030 - semantic_1_loss: 0.0069 - semantic_2_loss: 0.0012WARNING:tensorflow:Can save best model only with val_loss available, skipping.\n"
     ]
    },
    {
     "name": "stderr",
     "output_type": "stream",
     "text": [
      "WARNING:tensorflow:Can save best model only with val_loss available, skipping.\n"
     ]
    },
    {
     "name": "stdout",
     "output_type": "stream",
     "text": [
      "42/42 [==============================] - 24s 559ms/step - loss: 0.0111 - semantic_0_loss: 0.0030 - semantic_1_loss: 0.0069 - semantic_2_loss: 0.0012 - lr: 3.5875e-05\n",
      "Epoch 104/200\n",
      "42/42 [==============================] - ETA: 0s - loss: 0.0110 - semantic_0_loss: 0.0030 - semantic_1_loss: 0.0068 - semantic_2_loss: 0.0012WARNING:tensorflow:Can save best model only with val_loss available, skipping.\n"
     ]
    },
    {
     "name": "stderr",
     "output_type": "stream",
     "text": [
      "WARNING:tensorflow:Can save best model only with val_loss available, skipping.\n"
     ]
    },
    {
     "name": "stdout",
     "output_type": "stream",
     "text": [
      "42/42 [==============================] - 24s 564ms/step - loss: 0.0110 - semantic_0_loss: 0.0030 - semantic_1_loss: 0.0068 - semantic_2_loss: 0.0012 - lr: 3.5516e-05\n",
      "Epoch 105/200\n",
      "42/42 [==============================] - ETA: 0s - loss: 0.0108 - semantic_0_loss: 0.0029 - semantic_1_loss: 0.0067 - semantic_2_loss: 0.0012WARNING:tensorflow:Can save best model only with val_loss available, skipping.\n"
     ]
    },
    {
     "name": "stderr",
     "output_type": "stream",
     "text": [
      "WARNING:tensorflow:Can save best model only with val_loss available, skipping.\n"
     ]
    },
    {
     "name": "stdout",
     "output_type": "stream",
     "text": [
      "42/42 [==============================] - 24s 561ms/step - loss: 0.0108 - semantic_0_loss: 0.0029 - semantic_1_loss: 0.0067 - semantic_2_loss: 0.0012 - lr: 3.5161e-05\n",
      "Epoch 106/200\n",
      "42/42 [==============================] - ETA: 0s - loss: 0.0112 - semantic_0_loss: 0.0030 - semantic_1_loss: 0.0070 - semantic_2_loss: 0.0012WARNING:tensorflow:Can save best model only with val_loss available, skipping.\n"
     ]
    },
    {
     "name": "stderr",
     "output_type": "stream",
     "text": [
      "WARNING:tensorflow:Can save best model only with val_loss available, skipping.\n"
     ]
    },
    {
     "name": "stdout",
     "output_type": "stream",
     "text": [
      "42/42 [==============================] - 24s 563ms/step - loss: 0.0112 - semantic_0_loss: 0.0030 - semantic_1_loss: 0.0070 - semantic_2_loss: 0.0012 - lr: 3.4809e-05\n",
      "Epoch 107/200\n",
      "42/42 [==============================] - ETA: 0s - loss: 0.0110 - semantic_0_loss: 0.0030 - semantic_1_loss: 0.0068 - semantic_2_loss: 0.0012WARNING:tensorflow:Can save best model only with val_loss available, skipping.\n"
     ]
    },
    {
     "name": "stderr",
     "output_type": "stream",
     "text": [
      "WARNING:tensorflow:Can save best model only with val_loss available, skipping.\n"
     ]
    },
    {
     "name": "stdout",
     "output_type": "stream",
     "text": [
      "42/42 [==============================] - 24s 558ms/step - loss: 0.0110 - semantic_0_loss: 0.0030 - semantic_1_loss: 0.0068 - semantic_2_loss: 0.0012 - lr: 3.4461e-05\n",
      "Epoch 108/200\n",
      "42/42 [==============================] - ETA: 0s - loss: 0.0109 - semantic_0_loss: 0.0029 - semantic_1_loss: 0.0067 - semantic_2_loss: 0.0012WARNING:tensorflow:Can save best model only with val_loss available, skipping.\n"
     ]
    },
    {
     "name": "stderr",
     "output_type": "stream",
     "text": [
      "WARNING:tensorflow:Can save best model only with val_loss available, skipping.\n"
     ]
    },
    {
     "name": "stdout",
     "output_type": "stream",
     "text": [
      "42/42 [==============================] - 24s 555ms/step - loss: 0.0109 - semantic_0_loss: 0.0029 - semantic_1_loss: 0.0067 - semantic_2_loss: 0.0012 - lr: 3.4117e-05\n",
      "Epoch 109/200\n",
      "42/42 [==============================] - ETA: 0s - loss: 0.0107 - semantic_0_loss: 0.0029 - semantic_1_loss: 0.0066 - semantic_2_loss: 0.0012WARNING:tensorflow:Can save best model only with val_loss available, skipping.\n"
     ]
    },
    {
     "name": "stderr",
     "output_type": "stream",
     "text": [
      "WARNING:tensorflow:Can save best model only with val_loss available, skipping.\n"
     ]
    },
    {
     "name": "stdout",
     "output_type": "stream",
     "text": [
      "42/42 [==============================] - 24s 558ms/step - loss: 0.0107 - semantic_0_loss: 0.0029 - semantic_1_loss: 0.0066 - semantic_2_loss: 0.0012 - lr: 3.3775e-05\n",
      "Epoch 110/200\n",
      "42/42 [==============================] - ETA: 0s - loss: 0.0108 - semantic_0_loss: 0.0029 - semantic_1_loss: 0.0067 - semantic_2_loss: 0.0012WARNING:tensorflow:Can save best model only with val_loss available, skipping.\n"
     ]
    },
    {
     "name": "stderr",
     "output_type": "stream",
     "text": [
      "WARNING:tensorflow:Can save best model only with val_loss available, skipping.\n"
     ]
    },
    {
     "name": "stdout",
     "output_type": "stream",
     "text": [
      "42/42 [==============================] - 24s 560ms/step - loss: 0.0108 - semantic_0_loss: 0.0029 - semantic_1_loss: 0.0067 - semantic_2_loss: 0.0012 - lr: 3.3438e-05\n",
      "Epoch 111/200\n",
      "42/42 [==============================] - ETA: 0s - loss: 0.0110 - semantic_0_loss: 0.0030 - semantic_1_loss: 0.0068 - semantic_2_loss: 0.0012WARNING:tensorflow:Can save best model only with val_loss available, skipping.\n"
     ]
    },
    {
     "name": "stderr",
     "output_type": "stream",
     "text": [
      "WARNING:tensorflow:Can save best model only with val_loss available, skipping.\n"
     ]
    },
    {
     "name": "stdout",
     "output_type": "stream",
     "text": [
      "42/42 [==============================] - 24s 563ms/step - loss: 0.0110 - semantic_0_loss: 0.0030 - semantic_1_loss: 0.0068 - semantic_2_loss: 0.0012 - lr: 3.3103e-05\n",
      "Epoch 112/200\n",
      "42/42 [==============================] - ETA: 0s - loss: 0.0108 - semantic_0_loss: 0.0029 - semantic_1_loss: 0.0067 - semantic_2_loss: 0.0012WARNING:tensorflow:Can save best model only with val_loss available, skipping.\n"
     ]
    },
    {
     "name": "stderr",
     "output_type": "stream",
     "text": [
      "WARNING:tensorflow:Can save best model only with val_loss available, skipping.\n"
     ]
    },
    {
     "name": "stdout",
     "output_type": "stream",
     "text": [
      "42/42 [==============================] - 24s 567ms/step - loss: 0.0108 - semantic_0_loss: 0.0029 - semantic_1_loss: 0.0067 - semantic_2_loss: 0.0012 - lr: 3.2772e-05\n",
      "Epoch 113/200\n",
      "42/42 [==============================] - ETA: 0s - loss: 0.0109 - semantic_0_loss: 0.0030 - semantic_1_loss: 0.0067 - semantic_2_loss: 0.0012WARNING:tensorflow:Can save best model only with val_loss available, skipping.\n"
     ]
    },
    {
     "name": "stderr",
     "output_type": "stream",
     "text": [
      "WARNING:tensorflow:Can save best model only with val_loss available, skipping.\n"
     ]
    },
    {
     "name": "stdout",
     "output_type": "stream",
     "text": [
      "42/42 [==============================] - 24s 572ms/step - loss: 0.0109 - semantic_0_loss: 0.0030 - semantic_1_loss: 0.0067 - semantic_2_loss: 0.0012 - lr: 3.2445e-05\n",
      "Epoch 114/200\n",
      "42/42 [==============================] - ETA: 0s - loss: 0.0108 - semantic_0_loss: 0.0029 - semantic_1_loss: 0.0067 - semantic_2_loss: 0.0012WARNING:tensorflow:Can save best model only with val_loss available, skipping.\n"
     ]
    },
    {
     "name": "stderr",
     "output_type": "stream",
     "text": [
      "WARNING:tensorflow:Can save best model only with val_loss available, skipping.\n"
     ]
    },
    {
     "name": "stdout",
     "output_type": "stream",
     "text": [
      "42/42 [==============================] - 24s 561ms/step - loss: 0.0108 - semantic_0_loss: 0.0029 - semantic_1_loss: 0.0067 - semantic_2_loss: 0.0012 - lr: 3.2120e-05\n",
      "Epoch 115/200\n",
      "42/42 [==============================] - ETA: 0s - loss: 0.0108 - semantic_0_loss: 0.0029 - semantic_1_loss: 0.0067 - semantic_2_loss: 0.0012WARNING:tensorflow:Can save best model only with val_loss available, skipping.\n"
     ]
    },
    {
     "name": "stderr",
     "output_type": "stream",
     "text": [
      "WARNING:tensorflow:Can save best model only with val_loss available, skipping.\n"
     ]
    },
    {
     "name": "stdout",
     "output_type": "stream",
     "text": [
      "42/42 [==============================] - 24s 561ms/step - loss: 0.0108 - semantic_0_loss: 0.0029 - semantic_1_loss: 0.0067 - semantic_2_loss: 0.0012 - lr: 3.1799e-05\n",
      "Epoch 116/200\n",
      "42/42 [==============================] - ETA: 0s - loss: 0.0109 - semantic_0_loss: 0.0029 - semantic_1_loss: 0.0067 - semantic_2_loss: 0.0012WARNING:tensorflow:Can save best model only with val_loss available, skipping.\n"
     ]
    },
    {
     "name": "stderr",
     "output_type": "stream",
     "text": [
      "WARNING:tensorflow:Can save best model only with val_loss available, skipping.\n"
     ]
    },
    {
     "name": "stdout",
     "output_type": "stream",
     "text": [
      "42/42 [==============================] - 24s 556ms/step - loss: 0.0109 - semantic_0_loss: 0.0029 - semantic_1_loss: 0.0067 - semantic_2_loss: 0.0012 - lr: 3.1481e-05\n",
      "Epoch 117/200\n",
      "42/42 [==============================] - ETA: 0s - loss: 0.0107 - semantic_0_loss: 0.0029 - semantic_1_loss: 0.0066 - semantic_2_loss: 0.0012WARNING:tensorflow:Can save best model only with val_loss available, skipping.\n"
     ]
    },
    {
     "name": "stderr",
     "output_type": "stream",
     "text": [
      "WARNING:tensorflow:Can save best model only with val_loss available, skipping.\n"
     ]
    },
    {
     "name": "stdout",
     "output_type": "stream",
     "text": [
      "42/42 [==============================] - 24s 564ms/step - loss: 0.0107 - semantic_0_loss: 0.0029 - semantic_1_loss: 0.0066 - semantic_2_loss: 0.0012 - lr: 3.1166e-05\n",
      "Epoch 118/200\n",
      "42/42 [==============================] - ETA: 0s - loss: 0.0107 - semantic_0_loss: 0.0029 - semantic_1_loss: 0.0066 - semantic_2_loss: 0.0012WARNING:tensorflow:Can save best model only with val_loss available, skipping.\n"
     ]
    },
    {
     "name": "stderr",
     "output_type": "stream",
     "text": [
      "WARNING:tensorflow:Can save best model only with val_loss available, skipping.\n"
     ]
    },
    {
     "name": "stdout",
     "output_type": "stream",
     "text": [
      "42/42 [==============================] - 24s 562ms/step - loss: 0.0107 - semantic_0_loss: 0.0029 - semantic_1_loss: 0.0066 - semantic_2_loss: 0.0012 - lr: 3.0854e-05\n",
      "Epoch 119/200\n",
      "42/42 [==============================] - ETA: 0s - loss: 0.0107 - semantic_0_loss: 0.0029 - semantic_1_loss: 0.0066 - semantic_2_loss: 0.0012WARNING:tensorflow:Can save best model only with val_loss available, skipping.\n"
     ]
    },
    {
     "name": "stderr",
     "output_type": "stream",
     "text": [
      "WARNING:tensorflow:Can save best model only with val_loss available, skipping.\n"
     ]
    },
    {
     "name": "stdout",
     "output_type": "stream",
     "text": [
      "42/42 [==============================] - 24s 559ms/step - loss: 0.0107 - semantic_0_loss: 0.0029 - semantic_1_loss: 0.0066 - semantic_2_loss: 0.0012 - lr: 3.0546e-05\n",
      "Epoch 120/200\n",
      "42/42 [==============================] - ETA: 0s - loss: 0.0108 - semantic_0_loss: 0.0029 - semantic_1_loss: 0.0066 - semantic_2_loss: 0.0012WARNING:tensorflow:Can save best model only with val_loss available, skipping.\n"
     ]
    },
    {
     "name": "stderr",
     "output_type": "stream",
     "text": [
      "WARNING:tensorflow:Can save best model only with val_loss available, skipping.\n"
     ]
    },
    {
     "name": "stdout",
     "output_type": "stream",
     "text": [
      "42/42 [==============================] - 24s 568ms/step - loss: 0.0108 - semantic_0_loss: 0.0029 - semantic_1_loss: 0.0066 - semantic_2_loss: 0.0012 - lr: 3.0240e-05\n",
      "Epoch 121/200\n",
      "42/42 [==============================] - ETA: 0s - loss: 0.0109 - semantic_0_loss: 0.0030 - semantic_1_loss: 0.0068 - semantic_2_loss: 0.0012WARNING:tensorflow:Can save best model only with val_loss available, skipping.\n"
     ]
    },
    {
     "name": "stderr",
     "output_type": "stream",
     "text": [
      "WARNING:tensorflow:Can save best model only with val_loss available, skipping.\n"
     ]
    },
    {
     "name": "stdout",
     "output_type": "stream",
     "text": [
      "42/42 [==============================] - 24s 563ms/step - loss: 0.0109 - semantic_0_loss: 0.0030 - semantic_1_loss: 0.0068 - semantic_2_loss: 0.0012 - lr: 2.9938e-05\n",
      "Epoch 122/200\n",
      "42/42 [==============================] - ETA: 0s - loss: 0.0109 - semantic_0_loss: 0.0029 - semantic_1_loss: 0.0067 - semantic_2_loss: 0.0012WARNING:tensorflow:Can save best model only with val_loss available, skipping.\n"
     ]
    },
    {
     "name": "stderr",
     "output_type": "stream",
     "text": [
      "WARNING:tensorflow:Can save best model only with val_loss available, skipping.\n"
     ]
    },
    {
     "name": "stdout",
     "output_type": "stream",
     "text": [
      "42/42 [==============================] - 24s 557ms/step - loss: 0.0109 - semantic_0_loss: 0.0029 - semantic_1_loss: 0.0067 - semantic_2_loss: 0.0012 - lr: 2.9639e-05\n",
      "Epoch 123/200\n",
      "42/42 [==============================] - ETA: 0s - loss: 0.0106 - semantic_0_loss: 0.0029 - semantic_1_loss: 0.0065 - semantic_2_loss: 0.0012WARNING:tensorflow:Can save best model only with val_loss available, skipping.\n"
     ]
    },
    {
     "name": "stderr",
     "output_type": "stream",
     "text": [
      "WARNING:tensorflow:Can save best model only with val_loss available, skipping.\n"
     ]
    },
    {
     "name": "stdout",
     "output_type": "stream",
     "text": [
      "42/42 [==============================] - 24s 559ms/step - loss: 0.0106 - semantic_0_loss: 0.0029 - semantic_1_loss: 0.0065 - semantic_2_loss: 0.0012 - lr: 2.9342e-05\n",
      "Epoch 124/200\n",
      "42/42 [==============================] - ETA: 0s - loss: 0.0107 - semantic_0_loss: 0.0029 - semantic_1_loss: 0.0066 - semantic_2_loss: 0.0012WARNING:tensorflow:Can save best model only with val_loss available, skipping.\n"
     ]
    },
    {
     "name": "stderr",
     "output_type": "stream",
     "text": [
      "WARNING:tensorflow:Can save best model only with val_loss available, skipping.\n"
     ]
    },
    {
     "name": "stdout",
     "output_type": "stream",
     "text": [
      "42/42 [==============================] - 24s 553ms/step - loss: 0.0107 - semantic_0_loss: 0.0029 - semantic_1_loss: 0.0066 - semantic_2_loss: 0.0012 - lr: 2.9049e-05\n",
      "Epoch 125/200\n",
      "42/42 [==============================] - ETA: 0s - loss: 0.0106 - semantic_0_loss: 0.0029 - semantic_1_loss: 0.0065 - semantic_2_loss: 0.0012WARNING:tensorflow:Can save best model only with val_loss available, skipping.\n"
     ]
    },
    {
     "name": "stderr",
     "output_type": "stream",
     "text": [
      "WARNING:tensorflow:Can save best model only with val_loss available, skipping.\n"
     ]
    },
    {
     "name": "stdout",
     "output_type": "stream",
     "text": [
      "42/42 [==============================] - 24s 559ms/step - loss: 0.0106 - semantic_0_loss: 0.0029 - semantic_1_loss: 0.0065 - semantic_2_loss: 0.0012 - lr: 2.8758e-05\n",
      "Epoch 126/200\n",
      "42/42 [==============================] - ETA: 0s - loss: 0.0108 - semantic_0_loss: 0.0029 - semantic_1_loss: 0.0066 - semantic_2_loss: 0.0012WARNING:tensorflow:Can save best model only with val_loss available, skipping.\n"
     ]
    },
    {
     "name": "stderr",
     "output_type": "stream",
     "text": [
      "WARNING:tensorflow:Can save best model only with val_loss available, skipping.\n"
     ]
    },
    {
     "name": "stdout",
     "output_type": "stream",
     "text": [
      "42/42 [==============================] - 24s 554ms/step - loss: 0.0108 - semantic_0_loss: 0.0029 - semantic_1_loss: 0.0066 - semantic_2_loss: 0.0012 - lr: 2.8471e-05\n",
      "Epoch 127/200\n",
      "42/42 [==============================] - ETA: 0s - loss: 0.0106 - semantic_0_loss: 0.0029 - semantic_1_loss: 0.0066 - semantic_2_loss: 0.0012WARNING:tensorflow:Can save best model only with val_loss available, skipping.\n"
     ]
    },
    {
     "name": "stderr",
     "output_type": "stream",
     "text": [
      "WARNING:tensorflow:Can save best model only with val_loss available, skipping.\n"
     ]
    },
    {
     "name": "stdout",
     "output_type": "stream",
     "text": [
      "42/42 [==============================] - 23s 551ms/step - loss: 0.0106 - semantic_0_loss: 0.0029 - semantic_1_loss: 0.0066 - semantic_2_loss: 0.0012 - lr: 2.8186e-05\n",
      "Epoch 128/200\n",
      "42/42 [==============================] - ETA: 0s - loss: 0.0106 - semantic_0_loss: 0.0029 - semantic_1_loss: 0.0066 - semantic_2_loss: 0.0012WARNING:tensorflow:Can save best model only with val_loss available, skipping.\n"
     ]
    },
    {
     "name": "stderr",
     "output_type": "stream",
     "text": [
      "WARNING:tensorflow:Can save best model only with val_loss available, skipping.\n"
     ]
    },
    {
     "name": "stdout",
     "output_type": "stream",
     "text": [
      "42/42 [==============================] - 24s 558ms/step - loss: 0.0106 - semantic_0_loss: 0.0029 - semantic_1_loss: 0.0066 - semantic_2_loss: 0.0012 - lr: 2.7904e-05\n",
      "Epoch 129/200\n",
      "42/42 [==============================] - ETA: 0s - loss: 0.0105 - semantic_0_loss: 0.0028 - semantic_1_loss: 0.0065 - semantic_2_loss: 0.0012WARNING:tensorflow:Can save best model only with val_loss available, skipping.\n"
     ]
    },
    {
     "name": "stderr",
     "output_type": "stream",
     "text": [
      "WARNING:tensorflow:Can save best model only with val_loss available, skipping.\n"
     ]
    },
    {
     "name": "stdout",
     "output_type": "stream",
     "text": [
      "42/42 [==============================] - 24s 563ms/step - loss: 0.0105 - semantic_0_loss: 0.0028 - semantic_1_loss: 0.0065 - semantic_2_loss: 0.0012 - lr: 2.7625e-05\n",
      "Epoch 130/200\n",
      "42/42 [==============================] - ETA: 0s - loss: 0.0105 - semantic_0_loss: 0.0029 - semantic_1_loss: 0.0065 - semantic_2_loss: 0.0012WARNING:tensorflow:Can save best model only with val_loss available, skipping.\n"
     ]
    },
    {
     "name": "stderr",
     "output_type": "stream",
     "text": [
      "WARNING:tensorflow:Can save best model only with val_loss available, skipping.\n"
     ]
    },
    {
     "name": "stdout",
     "output_type": "stream",
     "text": [
      "42/42 [==============================] - 24s 558ms/step - loss: 0.0105 - semantic_0_loss: 0.0029 - semantic_1_loss: 0.0065 - semantic_2_loss: 0.0012 - lr: 2.7349e-05\n",
      "Epoch 131/200\n",
      "42/42 [==============================] - ETA: 0s - loss: 0.0106 - semantic_0_loss: 0.0029 - semantic_1_loss: 0.0065 - semantic_2_loss: 0.0012WARNING:tensorflow:Can save best model only with val_loss available, skipping.\n"
     ]
    },
    {
     "name": "stderr",
     "output_type": "stream",
     "text": [
      "WARNING:tensorflow:Can save best model only with val_loss available, skipping.\n"
     ]
    },
    {
     "name": "stdout",
     "output_type": "stream",
     "text": [
      "42/42 [==============================] - 24s 562ms/step - loss: 0.0106 - semantic_0_loss: 0.0029 - semantic_1_loss: 0.0065 - semantic_2_loss: 0.0012 - lr: 2.7075e-05\n",
      "Epoch 132/200\n",
      "42/42 [==============================] - ETA: 0s - loss: 0.0105 - semantic_0_loss: 0.0029 - semantic_1_loss: 0.0065 - semantic_2_loss: 0.0012WARNING:tensorflow:Can save best model only with val_loss available, skipping.\n"
     ]
    },
    {
     "name": "stderr",
     "output_type": "stream",
     "text": [
      "WARNING:tensorflow:Can save best model only with val_loss available, skipping.\n"
     ]
    },
    {
     "name": "stdout",
     "output_type": "stream",
     "text": [
      "42/42 [==============================] - 24s 568ms/step - loss: 0.0105 - semantic_0_loss: 0.0029 - semantic_1_loss: 0.0065 - semantic_2_loss: 0.0012 - lr: 2.6805e-05\n",
      "Epoch 133/200\n",
      "42/42 [==============================] - ETA: 0s - loss: 0.0105 - semantic_0_loss: 0.0029 - semantic_1_loss: 0.0065 - semantic_2_loss: 0.0012WARNING:tensorflow:Can save best model only with val_loss available, skipping.\n"
     ]
    },
    {
     "name": "stderr",
     "output_type": "stream",
     "text": [
      "WARNING:tensorflow:Can save best model only with val_loss available, skipping.\n"
     ]
    },
    {
     "name": "stdout",
     "output_type": "stream",
     "text": [
      "42/42 [==============================] - 24s 561ms/step - loss: 0.0105 - semantic_0_loss: 0.0029 - semantic_1_loss: 0.0065 - semantic_2_loss: 0.0012 - lr: 2.6537e-05\n",
      "Epoch 134/200\n",
      "42/42 [==============================] - ETA: 0s - loss: 0.0107 - semantic_0_loss: 0.0029 - semantic_1_loss: 0.0066 - semantic_2_loss: 0.0012WARNING:tensorflow:Can save best model only with val_loss available, skipping.\n"
     ]
    },
    {
     "name": "stderr",
     "output_type": "stream",
     "text": [
      "WARNING:tensorflow:Can save best model only with val_loss available, skipping.\n"
     ]
    },
    {
     "name": "stdout",
     "output_type": "stream",
     "text": [
      "42/42 [==============================] - 24s 556ms/step - loss: 0.0107 - semantic_0_loss: 0.0029 - semantic_1_loss: 0.0066 - semantic_2_loss: 0.0012 - lr: 2.6271e-05\n",
      "Epoch 135/200\n",
      "42/42 [==============================] - ETA: 0s - loss: 0.0107 - semantic_0_loss: 0.0029 - semantic_1_loss: 0.0066 - semantic_2_loss: 0.0012WARNING:tensorflow:Can save best model only with val_loss available, skipping.\n"
     ]
    },
    {
     "name": "stderr",
     "output_type": "stream",
     "text": [
      "WARNING:tensorflow:Can save best model only with val_loss available, skipping.\n"
     ]
    },
    {
     "name": "stdout",
     "output_type": "stream",
     "text": [
      "42/42 [==============================] - 24s 559ms/step - loss: 0.0107 - semantic_0_loss: 0.0029 - semantic_1_loss: 0.0066 - semantic_2_loss: 0.0012 - lr: 2.6009e-05\n",
      "Epoch 136/200\n",
      "42/42 [==============================] - ETA: 0s - loss: 0.0105 - semantic_0_loss: 0.0029 - semantic_1_loss: 0.0065 - semantic_2_loss: 0.0012WARNING:tensorflow:Can save best model only with val_loss available, skipping.\n"
     ]
    },
    {
     "name": "stderr",
     "output_type": "stream",
     "text": [
      "WARNING:tensorflow:Can save best model only with val_loss available, skipping.\n"
     ]
    },
    {
     "name": "stdout",
     "output_type": "stream",
     "text": [
      "42/42 [==============================] - 24s 559ms/step - loss: 0.0105 - semantic_0_loss: 0.0029 - semantic_1_loss: 0.0065 - semantic_2_loss: 0.0012 - lr: 2.5748e-05\n",
      "Epoch 137/200\n",
      "42/42 [==============================] - ETA: 0s - loss: 0.0105 - semantic_0_loss: 0.0029 - semantic_1_loss: 0.0064 - semantic_2_loss: 0.0012WARNING:tensorflow:Can save best model only with val_loss available, skipping.\n"
     ]
    },
    {
     "name": "stderr",
     "output_type": "stream",
     "text": [
      "WARNING:tensorflow:Can save best model only with val_loss available, skipping.\n"
     ]
    },
    {
     "name": "stdout",
     "output_type": "stream",
     "text": [
      "42/42 [==============================] - 24s 556ms/step - loss: 0.0105 - semantic_0_loss: 0.0029 - semantic_1_loss: 0.0064 - semantic_2_loss: 0.0012 - lr: 2.5491e-05\n",
      "Epoch 138/200\n",
      "42/42 [==============================] - ETA: 0s - loss: 0.0106 - semantic_0_loss: 0.0029 - semantic_1_loss: 0.0065 - semantic_2_loss: 0.0012WARNING:tensorflow:Can save best model only with val_loss available, skipping.\n"
     ]
    },
    {
     "name": "stderr",
     "output_type": "stream",
     "text": [
      "WARNING:tensorflow:Can save best model only with val_loss available, skipping.\n"
     ]
    },
    {
     "name": "stdout",
     "output_type": "stream",
     "text": [
      "42/42 [==============================] - 24s 564ms/step - loss: 0.0106 - semantic_0_loss: 0.0029 - semantic_1_loss: 0.0065 - semantic_2_loss: 0.0012 - lr: 2.5236e-05\n",
      "Epoch 139/200\n",
      "42/42 [==============================] - ETA: 0s - loss: 0.0106 - semantic_0_loss: 0.0029 - semantic_1_loss: 0.0065 - semantic_2_loss: 0.0012WARNING:tensorflow:Can save best model only with val_loss available, skipping.\n"
     ]
    },
    {
     "name": "stderr",
     "output_type": "stream",
     "text": [
      "WARNING:tensorflow:Can save best model only with val_loss available, skipping.\n"
     ]
    },
    {
     "name": "stdout",
     "output_type": "stream",
     "text": [
      "42/42 [==============================] - 24s 567ms/step - loss: 0.0106 - semantic_0_loss: 0.0029 - semantic_1_loss: 0.0065 - semantic_2_loss: 0.0012 - lr: 2.4984e-05\n",
      "Epoch 140/200\n",
      "42/42 [==============================] - ETA: 0s - loss: 0.0104 - semantic_0_loss: 0.0028 - semantic_1_loss: 0.0064 - semantic_2_loss: 0.0012WARNING:tensorflow:Can save best model only with val_loss available, skipping.\n"
     ]
    },
    {
     "name": "stderr",
     "output_type": "stream",
     "text": [
      "WARNING:tensorflow:Can save best model only with val_loss available, skipping.\n"
     ]
    },
    {
     "name": "stdout",
     "output_type": "stream",
     "text": [
      "42/42 [==============================] - 24s 558ms/step - loss: 0.0104 - semantic_0_loss: 0.0028 - semantic_1_loss: 0.0064 - semantic_2_loss: 0.0012 - lr: 2.4734e-05\n",
      "Epoch 141/200\n",
      "42/42 [==============================] - ETA: 0s - loss: 0.0105 - semantic_0_loss: 0.0029 - semantic_1_loss: 0.0065 - semantic_2_loss: 0.0012WARNING:tensorflow:Can save best model only with val_loss available, skipping.\n"
     ]
    },
    {
     "name": "stderr",
     "output_type": "stream",
     "text": [
      "WARNING:tensorflow:Can save best model only with val_loss available, skipping.\n"
     ]
    },
    {
     "name": "stdout",
     "output_type": "stream",
     "text": [
      "42/42 [==============================] - 24s 559ms/step - loss: 0.0105 - semantic_0_loss: 0.0029 - semantic_1_loss: 0.0065 - semantic_2_loss: 0.0012 - lr: 2.4487e-05\n",
      "Epoch 142/200\n",
      "42/42 [==============================] - ETA: 0s - loss: 0.0105 - semantic_0_loss: 0.0029 - semantic_1_loss: 0.0065 - semantic_2_loss: 0.0012WARNING:tensorflow:Can save best model only with val_loss available, skipping.\n"
     ]
    },
    {
     "name": "stderr",
     "output_type": "stream",
     "text": [
      "WARNING:tensorflow:Can save best model only with val_loss available, skipping.\n"
     ]
    },
    {
     "name": "stdout",
     "output_type": "stream",
     "text": [
      "42/42 [==============================] - 24s 559ms/step - loss: 0.0105 - semantic_0_loss: 0.0029 - semantic_1_loss: 0.0065 - semantic_2_loss: 0.0012 - lr: 2.4242e-05\n",
      "Epoch 143/200\n",
      "42/42 [==============================] - ETA: 0s - loss: 0.0106 - semantic_0_loss: 0.0029 - semantic_1_loss: 0.0065 - semantic_2_loss: 0.0012WARNING:tensorflow:Can save best model only with val_loss available, skipping.\n"
     ]
    },
    {
     "name": "stderr",
     "output_type": "stream",
     "text": [
      "WARNING:tensorflow:Can save best model only with val_loss available, skipping.\n"
     ]
    },
    {
     "name": "stdout",
     "output_type": "stream",
     "text": [
      "42/42 [==============================] - 24s 565ms/step - loss: 0.0106 - semantic_0_loss: 0.0029 - semantic_1_loss: 0.0065 - semantic_2_loss: 0.0012 - lr: 2.3999e-05\n",
      "Epoch 144/200\n",
      "42/42 [==============================] - ETA: 0s - loss: 0.0103 - semantic_0_loss: 0.0028 - semantic_1_loss: 0.0063 - semantic_2_loss: 0.0012WARNING:tensorflow:Can save best model only with val_loss available, skipping.\n"
     ]
    },
    {
     "name": "stderr",
     "output_type": "stream",
     "text": [
      "WARNING:tensorflow:Can save best model only with val_loss available, skipping.\n"
     ]
    },
    {
     "name": "stdout",
     "output_type": "stream",
     "text": [
      "42/42 [==============================] - 24s 575ms/step - loss: 0.0103 - semantic_0_loss: 0.0028 - semantic_1_loss: 0.0063 - semantic_2_loss: 0.0012 - lr: 2.3759e-05\n",
      "Epoch 145/200\n",
      "42/42 [==============================] - ETA: 0s - loss: 0.0106 - semantic_0_loss: 0.0029 - semantic_1_loss: 0.0065 - semantic_2_loss: 0.0012WARNING:tensorflow:Can save best model only with val_loss available, skipping.\n"
     ]
    },
    {
     "name": "stderr",
     "output_type": "stream",
     "text": [
      "WARNING:tensorflow:Can save best model only with val_loss available, skipping.\n"
     ]
    },
    {
     "name": "stdout",
     "output_type": "stream",
     "text": [
      "42/42 [==============================] - 24s 563ms/step - loss: 0.0106 - semantic_0_loss: 0.0029 - semantic_1_loss: 0.0065 - semantic_2_loss: 0.0012 - lr: 2.3522e-05\n",
      "Epoch 146/200\n",
      "42/42 [==============================] - ETA: 0s - loss: 0.0106 - semantic_0_loss: 0.0029 - semantic_1_loss: 0.0065 - semantic_2_loss: 0.0012WARNING:tensorflow:Can save best model only with val_loss available, skipping.\n"
     ]
    },
    {
     "name": "stderr",
     "output_type": "stream",
     "text": [
      "WARNING:tensorflow:Can save best model only with val_loss available, skipping.\n"
     ]
    },
    {
     "name": "stdout",
     "output_type": "stream",
     "text": [
      "42/42 [==============================] - 24s 562ms/step - loss: 0.0106 - semantic_0_loss: 0.0029 - semantic_1_loss: 0.0065 - semantic_2_loss: 0.0012 - lr: 2.3286e-05\n",
      "Epoch 147/200\n",
      "42/42 [==============================] - ETA: 0s - loss: 0.0105 - semantic_0_loss: 0.0029 - semantic_1_loss: 0.0065 - semantic_2_loss: 0.0012WARNING:tensorflow:Can save best model only with val_loss available, skipping.\n"
     ]
    },
    {
     "name": "stderr",
     "output_type": "stream",
     "text": [
      "WARNING:tensorflow:Can save best model only with val_loss available, skipping.\n"
     ]
    },
    {
     "name": "stdout",
     "output_type": "stream",
     "text": [
      "42/42 [==============================] - 24s 563ms/step - loss: 0.0105 - semantic_0_loss: 0.0029 - semantic_1_loss: 0.0065 - semantic_2_loss: 0.0012 - lr: 2.3054e-05\n",
      "Epoch 148/200\n",
      "42/42 [==============================] - ETA: 0s - loss: 0.0104 - semantic_0_loss: 0.0029 - semantic_1_loss: 0.0063 - semantic_2_loss: 0.0012WARNING:tensorflow:Can save best model only with val_loss available, skipping.\n"
     ]
    },
    {
     "name": "stderr",
     "output_type": "stream",
     "text": [
      "WARNING:tensorflow:Can save best model only with val_loss available, skipping.\n"
     ]
    },
    {
     "name": "stdout",
     "output_type": "stream",
     "text": [
      "42/42 [==============================] - 24s 556ms/step - loss: 0.0104 - semantic_0_loss: 0.0029 - semantic_1_loss: 0.0063 - semantic_2_loss: 0.0012 - lr: 2.2823e-05\n",
      "Epoch 149/200\n",
      "42/42 [==============================] - ETA: 0s - loss: 0.0103 - semantic_0_loss: 0.0028 - semantic_1_loss: 0.0063 - semantic_2_loss: 0.0012WARNING:tensorflow:Can save best model only with val_loss available, skipping.\n"
     ]
    },
    {
     "name": "stderr",
     "output_type": "stream",
     "text": [
      "WARNING:tensorflow:Can save best model only with val_loss available, skipping.\n"
     ]
    },
    {
     "name": "stdout",
     "output_type": "stream",
     "text": [
      "42/42 [==============================] - 24s 562ms/step - loss: 0.0103 - semantic_0_loss: 0.0028 - semantic_1_loss: 0.0063 - semantic_2_loss: 0.0012 - lr: 2.2595e-05\n",
      "Epoch 150/200\n",
      "42/42 [==============================] - ETA: 0s - loss: 0.0104 - semantic_0_loss: 0.0028 - semantic_1_loss: 0.0064 - semantic_2_loss: 0.0012WARNING:tensorflow:Can save best model only with val_loss available, skipping.\n"
     ]
    },
    {
     "name": "stderr",
     "output_type": "stream",
     "text": [
      "WARNING:tensorflow:Can save best model only with val_loss available, skipping.\n"
     ]
    },
    {
     "name": "stdout",
     "output_type": "stream",
     "text": [
      "42/42 [==============================] - 24s 571ms/step - loss: 0.0104 - semantic_0_loss: 0.0028 - semantic_1_loss: 0.0064 - semantic_2_loss: 0.0012 - lr: 2.2369e-05\n",
      "Epoch 151/200\n",
      "42/42 [==============================] - ETA: 0s - loss: 0.0104 - semantic_0_loss: 0.0028 - semantic_1_loss: 0.0064 - semantic_2_loss: 0.0012WARNING:tensorflow:Can save best model only with val_loss available, skipping.\n"
     ]
    },
    {
     "name": "stderr",
     "output_type": "stream",
     "text": [
      "WARNING:tensorflow:Can save best model only with val_loss available, skipping.\n"
     ]
    },
    {
     "name": "stdout",
     "output_type": "stream",
     "text": [
      "42/42 [==============================] - 24s 562ms/step - loss: 0.0104 - semantic_0_loss: 0.0028 - semantic_1_loss: 0.0064 - semantic_2_loss: 0.0012 - lr: 2.2145e-05\n",
      "Epoch 152/200\n",
      "42/42 [==============================] - ETA: 0s - loss: 0.0103 - semantic_0_loss: 0.0028 - semantic_1_loss: 0.0063 - semantic_2_loss: 0.0012WARNING:tensorflow:Can save best model only with val_loss available, skipping.\n"
     ]
    },
    {
     "name": "stderr",
     "output_type": "stream",
     "text": [
      "WARNING:tensorflow:Can save best model only with val_loss available, skipping.\n"
     ]
    },
    {
     "name": "stdout",
     "output_type": "stream",
     "text": [
      "42/42 [==============================] - 24s 559ms/step - loss: 0.0103 - semantic_0_loss: 0.0028 - semantic_1_loss: 0.0063 - semantic_2_loss: 0.0012 - lr: 2.1924e-05\n",
      "Epoch 153/200\n",
      "42/42 [==============================] - ETA: 0s - loss: 0.0105 - semantic_0_loss: 0.0029 - semantic_1_loss: 0.0065 - semantic_2_loss: 0.0012WARNING:tensorflow:Can save best model only with val_loss available, skipping.\n"
     ]
    },
    {
     "name": "stderr",
     "output_type": "stream",
     "text": [
      "WARNING:tensorflow:Can save best model only with val_loss available, skipping.\n"
     ]
    },
    {
     "name": "stdout",
     "output_type": "stream",
     "text": [
      "42/42 [==============================] - 24s 566ms/step - loss: 0.0105 - semantic_0_loss: 0.0029 - semantic_1_loss: 0.0065 - semantic_2_loss: 0.0012 - lr: 2.1704e-05\n",
      "Epoch 154/200\n",
      "42/42 [==============================] - ETA: 0s - loss: 0.0106 - semantic_0_loss: 0.0029 - semantic_1_loss: 0.0065 - semantic_2_loss: 0.0012WARNING:tensorflow:Can save best model only with val_loss available, skipping.\n"
     ]
    },
    {
     "name": "stderr",
     "output_type": "stream",
     "text": [
      "WARNING:tensorflow:Can save best model only with val_loss available, skipping.\n"
     ]
    },
    {
     "name": "stdout",
     "output_type": "stream",
     "text": [
      "42/42 [==============================] - 24s 555ms/step - loss: 0.0106 - semantic_0_loss: 0.0029 - semantic_1_loss: 0.0065 - semantic_2_loss: 0.0012 - lr: 2.1487e-05\n",
      "Epoch 155/200\n",
      "42/42 [==============================] - ETA: 0s - loss: 0.0103 - semantic_0_loss: 0.0029 - semantic_1_loss: 0.0063 - semantic_2_loss: 0.0012WARNING:tensorflow:Can save best model only with val_loss available, skipping.\n"
     ]
    },
    {
     "name": "stderr",
     "output_type": "stream",
     "text": [
      "WARNING:tensorflow:Can save best model only with val_loss available, skipping.\n"
     ]
    },
    {
     "name": "stdout",
     "output_type": "stream",
     "text": [
      "42/42 [==============================] - 24s 560ms/step - loss: 0.0103 - semantic_0_loss: 0.0029 - semantic_1_loss: 0.0063 - semantic_2_loss: 0.0012 - lr: 2.1273e-05\n",
      "Epoch 156/200\n",
      "42/42 [==============================] - ETA: 0s - loss: 0.0103 - semantic_0_loss: 0.0028 - semantic_1_loss: 0.0064 - semantic_2_loss: 0.0012WARNING:tensorflow:Can save best model only with val_loss available, skipping.\n"
     ]
    },
    {
     "name": "stderr",
     "output_type": "stream",
     "text": [
      "WARNING:tensorflow:Can save best model only with val_loss available, skipping.\n"
     ]
    },
    {
     "name": "stdout",
     "output_type": "stream",
     "text": [
      "42/42 [==============================] - 24s 560ms/step - loss: 0.0103 - semantic_0_loss: 0.0028 - semantic_1_loss: 0.0064 - semantic_2_loss: 0.0012 - lr: 2.1060e-05\n",
      "Epoch 157/200\n",
      "42/42 [==============================] - ETA: 0s - loss: 0.0104 - semantic_0_loss: 0.0029 - semantic_1_loss: 0.0064 - semantic_2_loss: 0.0012WARNING:tensorflow:Can save best model only with val_loss available, skipping.\n"
     ]
    },
    {
     "name": "stderr",
     "output_type": "stream",
     "text": [
      "WARNING:tensorflow:Can save best model only with val_loss available, skipping.\n"
     ]
    },
    {
     "name": "stdout",
     "output_type": "stream",
     "text": [
      "42/42 [==============================] - 24s 563ms/step - loss: 0.0104 - semantic_0_loss: 0.0029 - semantic_1_loss: 0.0064 - semantic_2_loss: 0.0012 - lr: 2.0849e-05\n",
      "Epoch 158/200\n",
      "42/42 [==============================] - ETA: 0s - loss: 0.0103 - semantic_0_loss: 0.0028 - semantic_1_loss: 0.0063 - semantic_2_loss: 0.0012WARNING:tensorflow:Can save best model only with val_loss available, skipping.\n"
     ]
    },
    {
     "name": "stderr",
     "output_type": "stream",
     "text": [
      "WARNING:tensorflow:Can save best model only with val_loss available, skipping.\n"
     ]
    },
    {
     "name": "stdout",
     "output_type": "stream",
     "text": [
      "42/42 [==============================] - 24s 563ms/step - loss: 0.0103 - semantic_0_loss: 0.0028 - semantic_1_loss: 0.0063 - semantic_2_loss: 0.0012 - lr: 2.0641e-05\n",
      "Epoch 159/200\n",
      "42/42 [==============================] - ETA: 0s - loss: 0.0104 - semantic_0_loss: 0.0029 - semantic_1_loss: 0.0064 - semantic_2_loss: 0.0012WARNING:tensorflow:Can save best model only with val_loss available, skipping.\n"
     ]
    },
    {
     "name": "stderr",
     "output_type": "stream",
     "text": [
      "WARNING:tensorflow:Can save best model only with val_loss available, skipping.\n"
     ]
    },
    {
     "name": "stdout",
     "output_type": "stream",
     "text": [
      "42/42 [==============================] - 24s 560ms/step - loss: 0.0104 - semantic_0_loss: 0.0029 - semantic_1_loss: 0.0064 - semantic_2_loss: 0.0012 - lr: 2.0434e-05\n",
      "Epoch 160/200\n",
      "42/42 [==============================] - ETA: 0s - loss: 0.0105 - semantic_0_loss: 0.0029 - semantic_1_loss: 0.0064 - semantic_2_loss: 0.0012WARNING:tensorflow:Can save best model only with val_loss available, skipping.\n"
     ]
    },
    {
     "name": "stderr",
     "output_type": "stream",
     "text": [
      "WARNING:tensorflow:Can save best model only with val_loss available, skipping.\n"
     ]
    },
    {
     "name": "stdout",
     "output_type": "stream",
     "text": [
      "42/42 [==============================] - 24s 560ms/step - loss: 0.0105 - semantic_0_loss: 0.0029 - semantic_1_loss: 0.0064 - semantic_2_loss: 0.0012 - lr: 2.0230e-05\n",
      "Epoch 161/200\n",
      "42/42 [==============================] - ETA: 0s - loss: 0.0105 - semantic_0_loss: 0.0029 - semantic_1_loss: 0.0064 - semantic_2_loss: 0.0012WARNING:tensorflow:Can save best model only with val_loss available, skipping.\n"
     ]
    },
    {
     "name": "stderr",
     "output_type": "stream",
     "text": [
      "WARNING:tensorflow:Can save best model only with val_loss available, skipping.\n"
     ]
    },
    {
     "name": "stdout",
     "output_type": "stream",
     "text": [
      "42/42 [==============================] - 24s 562ms/step - loss: 0.0105 - semantic_0_loss: 0.0029 - semantic_1_loss: 0.0064 - semantic_2_loss: 0.0012 - lr: 2.0028e-05\n",
      "Epoch 162/200\n",
      "42/42 [==============================] - ETA: 0s - loss: 0.0103 - semantic_0_loss: 0.0028 - semantic_1_loss: 0.0063 - semantic_2_loss: 0.0012WARNING:tensorflow:Can save best model only with val_loss available, skipping.\n"
     ]
    },
    {
     "name": "stderr",
     "output_type": "stream",
     "text": [
      "WARNING:tensorflow:Can save best model only with val_loss available, skipping.\n"
     ]
    },
    {
     "name": "stdout",
     "output_type": "stream",
     "text": [
      "42/42 [==============================] - 24s 567ms/step - loss: 0.0103 - semantic_0_loss: 0.0028 - semantic_1_loss: 0.0063 - semantic_2_loss: 0.0012 - lr: 1.9827e-05\n",
      "Epoch 163/200\n",
      "42/42 [==============================] - ETA: 0s - loss: 0.0102 - semantic_0_loss: 0.0028 - semantic_1_loss: 0.0062 - semantic_2_loss: 0.0012WARNING:tensorflow:Can save best model only with val_loss available, skipping.\n"
     ]
    },
    {
     "name": "stderr",
     "output_type": "stream",
     "text": [
      "WARNING:tensorflow:Can save best model only with val_loss available, skipping.\n"
     ]
    },
    {
     "name": "stdout",
     "output_type": "stream",
     "text": [
      "42/42 [==============================] - 23s 555ms/step - loss: 0.0102 - semantic_0_loss: 0.0028 - semantic_1_loss: 0.0062 - semantic_2_loss: 0.0012 - lr: 1.9629e-05\n",
      "Epoch 164/200\n",
      "42/42 [==============================] - ETA: 0s - loss: 0.0102 - semantic_0_loss: 0.0028 - semantic_1_loss: 0.0062 - semantic_2_loss: 0.0011WARNING:tensorflow:Can save best model only with val_loss available, skipping.\n"
     ]
    },
    {
     "name": "stderr",
     "output_type": "stream",
     "text": [
      "WARNING:tensorflow:Can save best model only with val_loss available, skipping.\n"
     ]
    },
    {
     "name": "stdout",
     "output_type": "stream",
     "text": [
      "42/42 [==============================] - 23s 551ms/step - loss: 0.0102 - semantic_0_loss: 0.0028 - semantic_1_loss: 0.0062 - semantic_2_loss: 0.0011 - lr: 1.9433e-05\n",
      "Epoch 165/200\n",
      "42/42 [==============================] - ETA: 0s - loss: 0.0103 - semantic_0_loss: 0.0028 - semantic_1_loss: 0.0063 - semantic_2_loss: 0.0012WARNING:tensorflow:Can save best model only with val_loss available, skipping.\n"
     ]
    },
    {
     "name": "stderr",
     "output_type": "stream",
     "text": [
      "WARNING:tensorflow:Can save best model only with val_loss available, skipping.\n"
     ]
    },
    {
     "name": "stdout",
     "output_type": "stream",
     "text": [
      "42/42 [==============================] - 24s 577ms/step - loss: 0.0103 - semantic_0_loss: 0.0028 - semantic_1_loss: 0.0063 - semantic_2_loss: 0.0012 - lr: 1.9239e-05\n",
      "Epoch 166/200\n",
      "42/42 [==============================] - ETA: 0s - loss: 0.0104 - semantic_0_loss: 0.0029 - semantic_1_loss: 0.0063 - semantic_2_loss: 0.0012WARNING:tensorflow:Can save best model only with val_loss available, skipping.\n"
     ]
    },
    {
     "name": "stderr",
     "output_type": "stream",
     "text": [
      "WARNING:tensorflow:Can save best model only with val_loss available, skipping.\n"
     ]
    },
    {
     "name": "stdout",
     "output_type": "stream",
     "text": [
      "42/42 [==============================] - 24s 554ms/step - loss: 0.0104 - semantic_0_loss: 0.0029 - semantic_1_loss: 0.0063 - semantic_2_loss: 0.0012 - lr: 1.9046e-05\n",
      "Epoch 167/200\n",
      "42/42 [==============================] - ETA: 0s - loss: 0.0104 - semantic_0_loss: 0.0029 - semantic_1_loss: 0.0064 - semantic_2_loss: 0.0012WARNING:tensorflow:Can save best model only with val_loss available, skipping.\n"
     ]
    },
    {
     "name": "stderr",
     "output_type": "stream",
     "text": [
      "WARNING:tensorflow:Can save best model only with val_loss available, skipping.\n"
     ]
    },
    {
     "name": "stdout",
     "output_type": "stream",
     "text": [
      "42/42 [==============================] - 24s 555ms/step - loss: 0.0104 - semantic_0_loss: 0.0029 - semantic_1_loss: 0.0064 - semantic_2_loss: 0.0012 - lr: 1.8856e-05\n",
      "Epoch 168/200\n",
      "42/42 [==============================] - ETA: 0s - loss: 0.0103 - semantic_0_loss: 0.0028 - semantic_1_loss: 0.0063 - semantic_2_loss: 0.0011WARNING:tensorflow:Can save best model only with val_loss available, skipping.\n"
     ]
    },
    {
     "name": "stderr",
     "output_type": "stream",
     "text": [
      "WARNING:tensorflow:Can save best model only with val_loss available, skipping.\n"
     ]
    },
    {
     "name": "stdout",
     "output_type": "stream",
     "text": [
      "42/42 [==============================] - 23s 552ms/step - loss: 0.0103 - semantic_0_loss: 0.0028 - semantic_1_loss: 0.0063 - semantic_2_loss: 0.0011 - lr: 1.8667e-05\n",
      "Epoch 169/200\n",
      "42/42 [==============================] - ETA: 0s - loss: 0.0103 - semantic_0_loss: 0.0029 - semantic_1_loss: 0.0063 - semantic_2_loss: 0.0011WARNING:tensorflow:Can save best model only with val_loss available, skipping.\n"
     ]
    },
    {
     "name": "stderr",
     "output_type": "stream",
     "text": [
      "WARNING:tensorflow:Can save best model only with val_loss available, skipping.\n"
     ]
    },
    {
     "name": "stdout",
     "output_type": "stream",
     "text": [
      "42/42 [==============================] - 23s 564ms/step - loss: 0.0103 - semantic_0_loss: 0.0029 - semantic_1_loss: 0.0063 - semantic_2_loss: 0.0011 - lr: 1.8480e-05\n",
      "Epoch 170/200\n",
      "42/42 [==============================] - ETA: 0s - loss: 0.0104 - semantic_0_loss: 0.0029 - semantic_1_loss: 0.0064 - semantic_2_loss: 0.0012WARNING:tensorflow:Can save best model only with val_loss available, skipping.\n"
     ]
    },
    {
     "name": "stderr",
     "output_type": "stream",
     "text": [
      "WARNING:tensorflow:Can save best model only with val_loss available, skipping.\n"
     ]
    },
    {
     "name": "stdout",
     "output_type": "stream",
     "text": [
      "42/42 [==============================] - 24s 559ms/step - loss: 0.0104 - semantic_0_loss: 0.0029 - semantic_1_loss: 0.0064 - semantic_2_loss: 0.0012 - lr: 1.8296e-05\n",
      "Epoch 171/200\n",
      "42/42 [==============================] - ETA: 0s - loss: 0.0099 - semantic_0_loss: 0.0027 - semantic_1_loss: 0.0061 - semantic_2_loss: 0.0011WARNING:tensorflow:Can save best model only with val_loss available, skipping.\n"
     ]
    },
    {
     "name": "stderr",
     "output_type": "stream",
     "text": [
      "WARNING:tensorflow:Can save best model only with val_loss available, skipping.\n"
     ]
    },
    {
     "name": "stdout",
     "output_type": "stream",
     "text": [
      "42/42 [==============================] - 24s 576ms/step - loss: 0.0099 - semantic_0_loss: 0.0027 - semantic_1_loss: 0.0061 - semantic_2_loss: 0.0011 - lr: 1.8113e-05\n",
      "Epoch 172/200\n",
      "42/42 [==============================] - ETA: 0s - loss: 0.0102 - semantic_0_loss: 0.0028 - semantic_1_loss: 0.0062 - semantic_2_loss: 0.0011WARNING:tensorflow:Can save best model only with val_loss available, skipping.\n"
     ]
    },
    {
     "name": "stderr",
     "output_type": "stream",
     "text": [
      "WARNING:tensorflow:Can save best model only with val_loss available, skipping.\n"
     ]
    },
    {
     "name": "stdout",
     "output_type": "stream",
     "text": [
      "42/42 [==============================] - 23s 553ms/step - loss: 0.0102 - semantic_0_loss: 0.0028 - semantic_1_loss: 0.0062 - semantic_2_loss: 0.0011 - lr: 1.7932e-05\n",
      "Epoch 173/200\n",
      "42/42 [==============================] - ETA: 0s - loss: 0.0104 - semantic_0_loss: 0.0028 - semantic_1_loss: 0.0064 - semantic_2_loss: 0.0012WARNING:tensorflow:Can save best model only with val_loss available, skipping.\n"
     ]
    },
    {
     "name": "stderr",
     "output_type": "stream",
     "text": [
      "WARNING:tensorflow:Can save best model only with val_loss available, skipping.\n"
     ]
    },
    {
     "name": "stdout",
     "output_type": "stream",
     "text": [
      "42/42 [==============================] - 24s 555ms/step - loss: 0.0104 - semantic_0_loss: 0.0028 - semantic_1_loss: 0.0064 - semantic_2_loss: 0.0012 - lr: 1.7752e-05\n",
      "Epoch 174/200\n",
      "42/42 [==============================] - ETA: 0s - loss: 0.0105 - semantic_0_loss: 0.0029 - semantic_1_loss: 0.0064 - semantic_2_loss: 0.0012WARNING:tensorflow:Can save best model only with val_loss available, skipping.\n"
     ]
    },
    {
     "name": "stderr",
     "output_type": "stream",
     "text": [
      "WARNING:tensorflow:Can save best model only with val_loss available, skipping.\n"
     ]
    },
    {
     "name": "stdout",
     "output_type": "stream",
     "text": [
      "42/42 [==============================] - 24s 561ms/step - loss: 0.0105 - semantic_0_loss: 0.0029 - semantic_1_loss: 0.0064 - semantic_2_loss: 0.0012 - lr: 1.7575e-05\n",
      "Epoch 175/200\n",
      "42/42 [==============================] - ETA: 0s - loss: 0.0103 - semantic_0_loss: 0.0028 - semantic_1_loss: 0.0063 - semantic_2_loss: 0.0012WARNING:tensorflow:Can save best model only with val_loss available, skipping.\n"
     ]
    },
    {
     "name": "stderr",
     "output_type": "stream",
     "text": [
      "WARNING:tensorflow:Can save best model only with val_loss available, skipping.\n"
     ]
    },
    {
     "name": "stdout",
     "output_type": "stream",
     "text": [
      "42/42 [==============================] - 24s 560ms/step - loss: 0.0103 - semantic_0_loss: 0.0028 - semantic_1_loss: 0.0063 - semantic_2_loss: 0.0012 - lr: 1.7399e-05\n",
      "Epoch 176/200\n",
      "42/42 [==============================] - ETA: 0s - loss: 0.0103 - semantic_0_loss: 0.0028 - semantic_1_loss: 0.0063 - semantic_2_loss: 0.0012WARNING:tensorflow:Can save best model only with val_loss available, skipping.\n"
     ]
    },
    {
     "name": "stderr",
     "output_type": "stream",
     "text": [
      "WARNING:tensorflow:Can save best model only with val_loss available, skipping.\n"
     ]
    },
    {
     "name": "stdout",
     "output_type": "stream",
     "text": [
      "42/42 [==============================] - 24s 558ms/step - loss: 0.0103 - semantic_0_loss: 0.0028 - semantic_1_loss: 0.0063 - semantic_2_loss: 0.0012 - lr: 1.7225e-05\n",
      "Epoch 177/200\n",
      "42/42 [==============================] - ETA: 0s - loss: 0.0103 - semantic_0_loss: 0.0029 - semantic_1_loss: 0.0063 - semantic_2_loss: 0.0012WARNING:tensorflow:Can save best model only with val_loss available, skipping.\n"
     ]
    },
    {
     "name": "stderr",
     "output_type": "stream",
     "text": [
      "WARNING:tensorflow:Can save best model only with val_loss available, skipping.\n"
     ]
    },
    {
     "name": "stdout",
     "output_type": "stream",
     "text": [
      "42/42 [==============================] - 24s 554ms/step - loss: 0.0103 - semantic_0_loss: 0.0029 - semantic_1_loss: 0.0063 - semantic_2_loss: 0.0012 - lr: 1.7053e-05\n",
      "Epoch 178/200\n",
      "42/42 [==============================] - ETA: 0s - loss: 0.0101 - semantic_0_loss: 0.0028 - semantic_1_loss: 0.0062 - semantic_2_loss: 0.0011WARNING:tensorflow:Can save best model only with val_loss available, skipping.\n"
     ]
    },
    {
     "name": "stderr",
     "output_type": "stream",
     "text": [
      "WARNING:tensorflow:Can save best model only with val_loss available, skipping.\n"
     ]
    },
    {
     "name": "stdout",
     "output_type": "stream",
     "text": [
      "42/42 [==============================] - 24s 557ms/step - loss: 0.0101 - semantic_0_loss: 0.0028 - semantic_1_loss: 0.0062 - semantic_2_loss: 0.0011 - lr: 1.6882e-05\n",
      "Epoch 179/200\n",
      "42/42 [==============================] - ETA: 0s - loss: 0.0101 - semantic_0_loss: 0.0028 - semantic_1_loss: 0.0062 - semantic_2_loss: 0.0011WARNING:tensorflow:Can save best model only with val_loss available, skipping.\n"
     ]
    },
    {
     "name": "stderr",
     "output_type": "stream",
     "text": [
      "WARNING:tensorflow:Can save best model only with val_loss available, skipping.\n"
     ]
    },
    {
     "name": "stdout",
     "output_type": "stream",
     "text": [
      "42/42 [==============================] - 24s 569ms/step - loss: 0.0101 - semantic_0_loss: 0.0028 - semantic_1_loss: 0.0062 - semantic_2_loss: 0.0011 - lr: 1.6713e-05\n",
      "Epoch 180/200\n",
      "42/42 [==============================] - ETA: 0s - loss: 0.0102 - semantic_0_loss: 0.0028 - semantic_1_loss: 0.0063 - semantic_2_loss: 0.0011WARNING:tensorflow:Can save best model only with val_loss available, skipping.\n"
     ]
    },
    {
     "name": "stderr",
     "output_type": "stream",
     "text": [
      "WARNING:tensorflow:Can save best model only with val_loss available, skipping.\n"
     ]
    },
    {
     "name": "stdout",
     "output_type": "stream",
     "text": [
      "42/42 [==============================] - 23s 552ms/step - loss: 0.0102 - semantic_0_loss: 0.0028 - semantic_1_loss: 0.0063 - semantic_2_loss: 0.0011 - lr: 1.6546e-05\n",
      "Epoch 181/200\n",
      "42/42 [==============================] - ETA: 0s - loss: 0.0103 - semantic_0_loss: 0.0029 - semantic_1_loss: 0.0063 - semantic_2_loss: 0.0012WARNING:tensorflow:Can save best model only with val_loss available, skipping.\n"
     ]
    },
    {
     "name": "stderr",
     "output_type": "stream",
     "text": [
      "WARNING:tensorflow:Can save best model only with val_loss available, skipping.\n"
     ]
    },
    {
     "name": "stdout",
     "output_type": "stream",
     "text": [
      "42/42 [==============================] - 24s 562ms/step - loss: 0.0103 - semantic_0_loss: 0.0029 - semantic_1_loss: 0.0063 - semantic_2_loss: 0.0012 - lr: 1.6381e-05\n",
      "Epoch 182/200\n",
      "42/42 [==============================] - ETA: 0s - loss: 0.0100 - semantic_0_loss: 0.0027 - semantic_1_loss: 0.0061 - semantic_2_loss: 0.0011WARNING:tensorflow:Can save best model only with val_loss available, skipping.\n"
     ]
    },
    {
     "name": "stderr",
     "output_type": "stream",
     "text": [
      "WARNING:tensorflow:Can save best model only with val_loss available, skipping.\n"
     ]
    },
    {
     "name": "stdout",
     "output_type": "stream",
     "text": [
      "42/42 [==============================] - 24s 559ms/step - loss: 0.0100 - semantic_0_loss: 0.0027 - semantic_1_loss: 0.0061 - semantic_2_loss: 0.0011 - lr: 1.6217e-05\n",
      "Epoch 183/200\n",
      "42/42 [==============================] - ETA: 0s - loss: 0.0102 - semantic_0_loss: 0.0028 - semantic_1_loss: 0.0063 - semantic_2_loss: 0.0011WARNING:tensorflow:Can save best model only with val_loss available, skipping.\n"
     ]
    },
    {
     "name": "stderr",
     "output_type": "stream",
     "text": [
      "WARNING:tensorflow:Can save best model only with val_loss available, skipping.\n"
     ]
    },
    {
     "name": "stdout",
     "output_type": "stream",
     "text": [
      "42/42 [==============================] - 23s 553ms/step - loss: 0.0102 - semantic_0_loss: 0.0028 - semantic_1_loss: 0.0063 - semantic_2_loss: 0.0011 - lr: 1.6055e-05\n",
      "Epoch 184/200\n",
      "42/42 [==============================] - ETA: 0s - loss: 0.0103 - semantic_0_loss: 0.0029 - semantic_1_loss: 0.0063 - semantic_2_loss: 0.0011WARNING:tensorflow:Can save best model only with val_loss available, skipping.\n"
     ]
    },
    {
     "name": "stderr",
     "output_type": "stream",
     "text": [
      "WARNING:tensorflow:Can save best model only with val_loss available, skipping.\n"
     ]
    },
    {
     "name": "stdout",
     "output_type": "stream",
     "text": [
      "42/42 [==============================] - 24s 562ms/step - loss: 0.0103 - semantic_0_loss: 0.0029 - semantic_1_loss: 0.0063 - semantic_2_loss: 0.0011 - lr: 1.5894e-05\n",
      "Epoch 185/200\n",
      "42/42 [==============================] - ETA: 0s - loss: 0.0102 - semantic_0_loss: 0.0028 - semantic_1_loss: 0.0062 - semantic_2_loss: 0.0012WARNING:tensorflow:Can save best model only with val_loss available, skipping.\n"
     ]
    },
    {
     "name": "stderr",
     "output_type": "stream",
     "text": [
      "WARNING:tensorflow:Can save best model only with val_loss available, skipping.\n"
     ]
    },
    {
     "name": "stdout",
     "output_type": "stream",
     "text": [
      "42/42 [==============================] - 23s 549ms/step - loss: 0.0102 - semantic_0_loss: 0.0028 - semantic_1_loss: 0.0062 - semantic_2_loss: 0.0012 - lr: 1.5735e-05\n",
      "Epoch 186/200\n",
      "42/42 [==============================] - ETA: 0s - loss: 0.0100 - semantic_0_loss: 0.0028 - semantic_1_loss: 0.0061 - semantic_2_loss: 0.0011WARNING:tensorflow:Can save best model only with val_loss available, skipping.\n"
     ]
    },
    {
     "name": "stderr",
     "output_type": "stream",
     "text": [
      "WARNING:tensorflow:Can save best model only with val_loss available, skipping.\n"
     ]
    },
    {
     "name": "stdout",
     "output_type": "stream",
     "text": [
      "42/42 [==============================] - 24s 565ms/step - loss: 0.0100 - semantic_0_loss: 0.0028 - semantic_1_loss: 0.0061 - semantic_2_loss: 0.0011 - lr: 1.5578e-05\n",
      "Epoch 187/200\n",
      "42/42 [==============================] - ETA: 0s - loss: 0.0102 - semantic_0_loss: 0.0028 - semantic_1_loss: 0.0062 - semantic_2_loss: 0.0011WARNING:tensorflow:Can save best model only with val_loss available, skipping.\n"
     ]
    },
    {
     "name": "stderr",
     "output_type": "stream",
     "text": [
      "WARNING:tensorflow:Can save best model only with val_loss available, skipping.\n"
     ]
    },
    {
     "name": "stdout",
     "output_type": "stream",
     "text": [
      "42/42 [==============================] - 23s 551ms/step - loss: 0.0102 - semantic_0_loss: 0.0028 - semantic_1_loss: 0.0062 - semantic_2_loss: 0.0011 - lr: 1.5422e-05\n",
      "Epoch 188/200\n",
      "42/42 [==============================] - ETA: 0s - loss: 0.0103 - semantic_0_loss: 0.0028 - semantic_1_loss: 0.0063 - semantic_2_loss: 0.0011WARNING:tensorflow:Can save best model only with val_loss available, skipping.\n"
     ]
    },
    {
     "name": "stderr",
     "output_type": "stream",
     "text": [
      "WARNING:tensorflow:Can save best model only with val_loss available, skipping.\n"
     ]
    },
    {
     "name": "stdout",
     "output_type": "stream",
     "text": [
      "42/42 [==============================] - 24s 564ms/step - loss: 0.0103 - semantic_0_loss: 0.0028 - semantic_1_loss: 0.0063 - semantic_2_loss: 0.0011 - lr: 1.5268e-05\n",
      "Epoch 189/200\n",
      "42/42 [==============================] - ETA: 0s - loss: 0.0102 - semantic_0_loss: 0.0028 - semantic_1_loss: 0.0062 - semantic_2_loss: 0.0011WARNING:tensorflow:Can save best model only with val_loss available, skipping.\n"
     ]
    },
    {
     "name": "stderr",
     "output_type": "stream",
     "text": [
      "WARNING:tensorflow:Can save best model only with val_loss available, skipping.\n"
     ]
    },
    {
     "name": "stdout",
     "output_type": "stream",
     "text": [
      "42/42 [==============================] - 23s 551ms/step - loss: 0.0102 - semantic_0_loss: 0.0028 - semantic_1_loss: 0.0062 - semantic_2_loss: 0.0011 - lr: 1.5115e-05\n",
      "Epoch 190/200\n",
      "42/42 [==============================] - ETA: 0s - loss: 0.0102 - semantic_0_loss: 0.0028 - semantic_1_loss: 0.0062 - semantic_2_loss: 0.0011WARNING:tensorflow:Can save best model only with val_loss available, skipping.\n"
     ]
    },
    {
     "name": "stderr",
     "output_type": "stream",
     "text": [
      "WARNING:tensorflow:Can save best model only with val_loss available, skipping.\n"
     ]
    },
    {
     "name": "stdout",
     "output_type": "stream",
     "text": [
      "42/42 [==============================] - 24s 555ms/step - loss: 0.0102 - semantic_0_loss: 0.0028 - semantic_1_loss: 0.0062 - semantic_2_loss: 0.0011 - lr: 1.4964e-05\n",
      "Epoch 191/200\n",
      "42/42 [==============================] - ETA: 0s - loss: 0.0100 - semantic_0_loss: 0.0028 - semantic_1_loss: 0.0061 - semantic_2_loss: 0.0011WARNING:tensorflow:Can save best model only with val_loss available, skipping.\n"
     ]
    },
    {
     "name": "stderr",
     "output_type": "stream",
     "text": [
      "WARNING:tensorflow:Can save best model only with val_loss available, skipping.\n"
     ]
    },
    {
     "name": "stdout",
     "output_type": "stream",
     "text": [
      "42/42 [==============================] - 24s 562ms/step - loss: 0.0100 - semantic_0_loss: 0.0028 - semantic_1_loss: 0.0061 - semantic_2_loss: 0.0011 - lr: 1.4814e-05\n",
      "Epoch 192/200\n",
      "42/42 [==============================] - ETA: 0s - loss: 0.0100 - semantic_0_loss: 0.0028 - semantic_1_loss: 0.0061 - semantic_2_loss: 0.0011WARNING:tensorflow:Can save best model only with val_loss available, skipping.\n"
     ]
    },
    {
     "name": "stderr",
     "output_type": "stream",
     "text": [
      "WARNING:tensorflow:Can save best model only with val_loss available, skipping.\n"
     ]
    },
    {
     "name": "stdout",
     "output_type": "stream",
     "text": [
      "42/42 [==============================] - 23s 549ms/step - loss: 0.0100 - semantic_0_loss: 0.0028 - semantic_1_loss: 0.0061 - semantic_2_loss: 0.0011 - lr: 1.4666e-05\n",
      "Epoch 193/200\n",
      "42/42 [==============================] - ETA: 0s - loss: 0.0101 - semantic_0_loss: 0.0028 - semantic_1_loss: 0.0062 - semantic_2_loss: 0.0011WARNING:tensorflow:Can save best model only with val_loss available, skipping.\n"
     ]
    },
    {
     "name": "stderr",
     "output_type": "stream",
     "text": [
      "WARNING:tensorflow:Can save best model only with val_loss available, skipping.\n"
     ]
    },
    {
     "name": "stdout",
     "output_type": "stream",
     "text": [
      "42/42 [==============================] - 24s 554ms/step - loss: 0.0101 - semantic_0_loss: 0.0028 - semantic_1_loss: 0.0062 - semantic_2_loss: 0.0011 - lr: 1.4520e-05\n",
      "Epoch 194/200\n",
      "42/42 [==============================] - ETA: 0s - loss: 0.0101 - semantic_0_loss: 0.0028 - semantic_1_loss: 0.0062 - semantic_2_loss: 0.0011WARNING:tensorflow:Can save best model only with val_loss available, skipping.\n"
     ]
    },
    {
     "name": "stderr",
     "output_type": "stream",
     "text": [
      "WARNING:tensorflow:Can save best model only with val_loss available, skipping.\n"
     ]
    },
    {
     "name": "stdout",
     "output_type": "stream",
     "text": [
      "42/42 [==============================] - 23s 555ms/step - loss: 0.0101 - semantic_0_loss: 0.0028 - semantic_1_loss: 0.0062 - semantic_2_loss: 0.0011 - lr: 1.4374e-05\n",
      "Epoch 195/200\n",
      "42/42 [==============================] - ETA: 0s - loss: 0.0099 - semantic_0_loss: 0.0027 - semantic_1_loss: 0.0060 - semantic_2_loss: 0.0011WARNING:tensorflow:Can save best model only with val_loss available, skipping.\n"
     ]
    },
    {
     "name": "stderr",
     "output_type": "stream",
     "text": [
      "WARNING:tensorflow:Can save best model only with val_loss available, skipping.\n"
     ]
    },
    {
     "name": "stdout",
     "output_type": "stream",
     "text": [
      "42/42 [==============================] - 24s 561ms/step - loss: 0.0099 - semantic_0_loss: 0.0027 - semantic_1_loss: 0.0060 - semantic_2_loss: 0.0011 - lr: 1.4231e-05\n",
      "Epoch 196/200\n",
      "42/42 [==============================] - ETA: 0s - loss: 0.0099 - semantic_0_loss: 0.0027 - semantic_1_loss: 0.0061 - semantic_2_loss: 0.0011WARNING:tensorflow:Can save best model only with val_loss available, skipping.\n"
     ]
    },
    {
     "name": "stderr",
     "output_type": "stream",
     "text": [
      "WARNING:tensorflow:Can save best model only with val_loss available, skipping.\n"
     ]
    },
    {
     "name": "stdout",
     "output_type": "stream",
     "text": [
      "42/42 [==============================] - 25s 587ms/step - loss: 0.0099 - semantic_0_loss: 0.0027 - semantic_1_loss: 0.0061 - semantic_2_loss: 0.0011 - lr: 1.4088e-05\n",
      "Epoch 197/200\n",
      "42/42 [==============================] - ETA: 0s - loss: 0.0101 - semantic_0_loss: 0.0028 - semantic_1_loss: 0.0062 - semantic_2_loss: 0.0011WARNING:tensorflow:Can save best model only with val_loss available, skipping.\n"
     ]
    },
    {
     "name": "stderr",
     "output_type": "stream",
     "text": [
      "WARNING:tensorflow:Can save best model only with val_loss available, skipping.\n"
     ]
    },
    {
     "name": "stdout",
     "output_type": "stream",
     "text": [
      "42/42 [==============================] - 23s 566ms/step - loss: 0.0101 - semantic_0_loss: 0.0028 - semantic_1_loss: 0.0062 - semantic_2_loss: 0.0011 - lr: 1.3948e-05\n",
      "Epoch 198/200\n",
      "42/42 [==============================] - ETA: 0s - loss: 0.0101 - semantic_0_loss: 0.0028 - semantic_1_loss: 0.0062 - semantic_2_loss: 0.0011WARNING:tensorflow:Can save best model only with val_loss available, skipping.\n"
     ]
    },
    {
     "name": "stderr",
     "output_type": "stream",
     "text": [
      "WARNING:tensorflow:Can save best model only with val_loss available, skipping.\n"
     ]
    },
    {
     "name": "stdout",
     "output_type": "stream",
     "text": [
      "42/42 [==============================] - 24s 561ms/step - loss: 0.0101 - semantic_0_loss: 0.0028 - semantic_1_loss: 0.0062 - semantic_2_loss: 0.0011 - lr: 1.3808e-05\n",
      "Epoch 199/200\n",
      "42/42 [==============================] - ETA: 0s - loss: 0.0099 - semantic_0_loss: 0.0028 - semantic_1_loss: 0.0060 - semantic_2_loss: 0.0011WARNING:tensorflow:Can save best model only with val_loss available, skipping.\n"
     ]
    },
    {
     "name": "stderr",
     "output_type": "stream",
     "text": [
      "WARNING:tensorflow:Can save best model only with val_loss available, skipping.\n"
     ]
    },
    {
     "name": "stdout",
     "output_type": "stream",
     "text": [
      "42/42 [==============================] - 23s 551ms/step - loss: 0.0099 - semantic_0_loss: 0.0028 - semantic_1_loss: 0.0060 - semantic_2_loss: 0.0011 - lr: 1.3670e-05\n",
      "Epoch 200/200\n",
      "42/42 [==============================] - ETA: 0s - loss: 0.0101 - semantic_0_loss: 0.0028 - semantic_1_loss: 0.0062 - semantic_2_loss: 0.0011WARNING:tensorflow:Can save best model only with val_loss available, skipping.\n"
     ]
    },
    {
     "name": "stderr",
     "output_type": "stream",
     "text": [
      "WARNING:tensorflow:Can save best model only with val_loss available, skipping.\n"
     ]
    },
    {
     "name": "stdout",
     "output_type": "stream",
     "text": [
      "42/42 [==============================] - 24s 573ms/step - loss: 0.0101 - semantic_0_loss: 0.0028 - semantic_1_loss: 0.0062 - semantic_2_loss: 0.0011 - lr: 1.3533e-05\n",
      "/home/yfong/deeplearning/dense_cell_segmentation\n",
      "['M926910_CFL_Position7_CD3_test_img.png', 'M872956_JML_Position10_CD3_test_img.png', 'M872956_JML_Position8_CD8_test_img.png', 'M926910_CFL_Position13_CD3_test_img.png', 'M872956_JML_Position8_CD3_test_img.png', 'M872956_JML_Position8_CD4_test_img.png', 'M872956_JML_Position9_CD3_test_img.png']\n",
      "M926910_CFL_Position7_CD3_test_img.png\n"
     ]
    },
    {
     "name": "stderr",
     "output_type": "stream",
     "text": [
      "/app/software/DeepCell/0.11.1-foss-2021b-CUDA-11.4.1/lib/python3.9/site-packages/deepcell_toolbox/deep_watershed.py:179: FutureWarning: `selem` is a deprecated argument name for `h_maxima`. It will be removed in version 1.0.Please use `footprint` instead.\n",
      "  markers = h_maxima(image=maxima,\n"
     ]
    },
    {
     "name": "stdout",
     "output_type": "stream",
     "text": [
      "M872956_JML_Position10_CD3_test_img.png\n",
      "M872956_JML_Position8_CD8_test_img.png\n",
      "M926910_CFL_Position13_CD3_test_img.png\n",
      "M872956_JML_Position8_CD3_test_img.png\n",
      "M872956_JML_Position8_CD4_test_img.png\n",
      "M872956_JML_Position9_CD3_test_img.png\n",
      "[[0.39028475711892796, 0.4444444444444444], [0.3686131386861314, 0.47007042253521125], [0.5058823529411764, 0.5463917525773195], [0.2945945945945946, 0.37349397590361444], [0.4622467771639042, 0.5590828924162258], [0.5956284153005464, 0.5793269230769231], [0.3577586206896552, 0.44064386317907445]]\n",
      "                                         0         1         2\n",
      "0   M926910_CFL_Position7_CD3_test_img.png  0.390285  0.444444\n",
      "1  M872956_JML_Position10_CD3_test_img.png  0.368613   0.47007\n",
      "2   M872956_JML_Position8_CD8_test_img.png  0.505882  0.546392\n",
      "3  M926910_CFL_Position13_CD3_test_img.png  0.294595  0.373494\n",
      "4   M872956_JML_Position8_CD3_test_img.png  0.462247  0.559083\n",
      "5   M872956_JML_Position8_CD4_test_img.png  0.595628  0.579327\n",
      "6   M872956_JML_Position9_CD3_test_img.png  0.357759  0.440644\n"
     ]
    }
   ],
   "source": [
    "for ii in [1,2,3,4,5,6,7]:\n",
    "    idx=\"training{}\".format(ii)\n",
    "    INPUT_PATH=\"images/\"+idx+\"/\"\n",
    "    model_name = 'tn1.0_nuclear_K_512x512resized_'+idx \n",
    "    model_path = '{}.h5'.format(model_name)\n",
    "\n",
    "    import glob\n",
    "    FILENAMES = glob.glob(INPUT_PATH+\"*_img.png\")\n",
    "    print(len(FILENAMES))\n",
    "\n",
    "    imgs = [io.imread(CURR_IM_NAME)[:,:,0] for CURR_IM_NAME in FILENAMES]\n",
    "    X_train = tf.stack(imgs)\n",
    "    X_train = np.expand_dims(X_train, axis=-1)\n",
    "    print(X_train.shape)\n",
    "\n",
    "    masks = [io.imread(CURR_IM_NAME.replace(\"img\",\"masks\")) for CURR_IM_NAME in FILENAMES]\n",
    "    y_train = tf.stack(masks)\n",
    "    y_train = np.expand_dims(y_train, axis=-1)\n",
    "    print(y_train.shape)\n",
    "\n",
    "    # resize image\n",
    "    mpp_select=1.3 # based on DeepCell_tn_nuclear.ipynb, the best value is 1.2, but 1.3 makes scale factor an integer\n",
    "    shape = X_train.shape\n",
    "    scale_factor = mpp_select / 0.65\n",
    "    print(scale_factor)\n",
    "    new_shape = (int(shape[1] * scale_factor),\n",
    "                 int(shape[2] * scale_factor))\n",
    "\n",
    "    X_train_resized = resize(X_train, new_shape, data_format='channels_last')\n",
    "    y_train_resized = resize(y_train, new_shape, data_format='channels_last', labeled_image=True)\n",
    "    print(X_train_resized.shape)\n",
    "    print(y_train_resized.shape)\n",
    "\n",
    "    # cut each resized image into 5x5 patches of size 512x512 \n",
    "    print(X_train_resized.shape)\n",
    "    print(y_train_resized.shape)\n",
    "\n",
    "    x_starts=[0,400,400*2,400*3,X_train_resized.shape[1]-512]\n",
    "    x_ends=[x+512 for x in x_starts]\n",
    "    print(x_starts)\n",
    "    print(x_ends)\n",
    "\n",
    "    y_starts=[0,512,512*2,512*3,X_train_resized.shape[2]-512]\n",
    "    y_ends=[x+512 for x in y_starts]\n",
    "    print(y_starts)\n",
    "    print(y_ends)\n",
    "\n",
    "    sub_X=tf.concat([tf.concat([X_train_resized[:, x_starts[i]:x_ends[i], y_starts[j]:y_ends[j], :] for i in range(len(x_starts)) ], axis=0) for j in range(len(y_starts))], axis=0)\n",
    "    sub_X = np.array(sub_X, dtype=np.uint8) # tf.stack changes the dtype \n",
    "    print(sub_X.shape)\n",
    "    sub_y=tf.concat([tf.concat([y_train_resized[:, x_starts[i]:x_ends[i], y_starts[j]:y_ends[j], :] for i in range(len(x_starts)) ], axis=0) for j in range(len(y_starts))], axis=0)\n",
    "    sub_y = np.array(sub_y, dtype=np.uint16) # tf.stack changes the dtype \n",
    "    print(sub_y.shape)\n",
    "\n",
    "    # create dataloader\n",
    "    seed=0\n",
    "    min_objects = 5\n",
    "\n",
    "    transforms = ['inner-distance', 'outer-distance', 'fgbg']\n",
    "    transforms_kwargs = {'outer-distance': {'erosion_width': 0}}\n",
    "\n",
    "    # use augmentation for training but not validation\n",
    "    datagen = image_generators.SemanticDataGenerator(\n",
    "        rotation_range=180,\n",
    "        fill_mode='reflect',\n",
    "        zoom_range=(0.75, 1.25),\n",
    "        horizontal_flip=True,\n",
    "        vertical_flip=True)\n",
    "\n",
    "    datagen_val = image_generators.CroppingDataGenerator()\n",
    "\n",
    "    batch_size = 4 # 8 causes memory outage\n",
    "\n",
    "    train_data = datagen.flow(\n",
    "        {'X': sub_X, 'y': sub_y},\n",
    "        seed=seed,\n",
    "        transforms=transforms,\n",
    "        transforms_kwargs=transforms_kwargs,\n",
    "        min_objects=min_objects,\n",
    "        batch_size=batch_size)\n",
    "\n",
    "    val_data = None\n",
    "\n",
    "    semantic_classes = [1, 1, 2] # inner distance, outer distance, fgbg\n",
    "\n",
    "    model = PanopticNet(\n",
    "        backbone='resnet50',\n",
    "        input_shape=(512,512,1),\n",
    "        norm_method='whole_image',\n",
    "        num_semantic_classes=semantic_classes)\n",
    "\n",
    "    lr = 1e-4\n",
    "    optimizer = Adam(lr=lr, clipnorm=0.001)\n",
    "    lr_sched = rate_scheduler(lr=lr, decay=0.99)\n",
    "\n",
    "    # Create a dictionary of losses for each semantic head\n",
    "\n",
    "    def semantic_loss(n_classes):\n",
    "        def _semantic_loss(y_pred, y_true):\n",
    "            if n_classes > 1:\n",
    "                return 0.01 * weighted_categorical_crossentropy(\n",
    "                    y_pred, y_true, n_classes=n_classes)\n",
    "            return MSE(y_pred, y_true)\n",
    "        return _semantic_loss\n",
    "\n",
    "    loss = {}\n",
    "\n",
    "    # Give losses for all of the semantic heads\n",
    "    for layer in model.layers:\n",
    "        if layer.name.startswith('semantic_'):\n",
    "            n_classes = layer.output_shape[-1]\n",
    "            loss[layer.name] = semantic_loss(n_classes)\n",
    "\n",
    "    model.compile(loss=loss, optimizer=optimizer)\n",
    "\n",
    "    model.load_weights(starting_model_path, by_name=True)\n",
    "\n",
    "    [(layer.name, layer.output_shape) for layer in filter(lambda x: x.name.startswith('semantic_'), model.layers)]\n",
    "\n",
    "\n",
    "    # fit the model\n",
    "    print('Training on', count_gpus(), 'GPUs.')\n",
    "\n",
    "    train_callbacks = get_callbacks(\n",
    "        model_path,\n",
    "        lr_sched=lr_sched,\n",
    "    #     monitor=\"val_loss\",\n",
    "        # monitor='loss', # training loss\n",
    "        verbose=1)          \n",
    "\n",
    "    loss_history = model.fit(\n",
    "        train_data,\n",
    "        steps_per_epoch=train_data.y.shape[0] // batch_size, # \n",
    "        epochs=epochs, \n",
    "    #     validation_data=val_data,\n",
    "    #     validation_steps=val_data.y.shape[0] // batch_size,\n",
    "        callbacks=train_callbacks)\n",
    "\n",
    "    model.save_weights(model_path)\n",
    "\n",
    "    prediction_model = PanopticNet(\n",
    "        backbone='resnet50',\n",
    "        norm_method='whole_image',\n",
    "        num_semantic_classes=[1, 1], # inner distance, outer distance\n",
    "        input_shape= (512,512,1)\n",
    "    )\n",
    "\n",
    "    prediction_model.load_weights(model_path, by_name=True)\n",
    "\n",
    "    from deepcell.applications import NuclearSegmentation\n",
    "    app = NuclearSegmentation(prediction_model)\n",
    "    [(layer.name, layer.output_shape) for layer in filter(lambda x: x.name.startswith('semantic_'), app.model.layers)]\n",
    "\n",
    "\n",
    "    import os\n",
    "    print(os.getcwd())\n",
    "    INPUT_PATH=\"images/test/\"\n",
    "    FILENAMES = [f for f in os.listdir(\"images/training/testimages\")]\n",
    "    print(FILENAMES)\n",
    "\n",
    "\n",
    "    # more detailed mapping of image_mpp parameter\n",
    "    mpps=[1,1.3]\n",
    "\n",
    "    AP_mat=[]\n",
    "    for CURR_IM_NAME in FILENAMES:\n",
    "        print(CURR_IM_NAME)\n",
    "        im0 = io.imread(os.path.join(INPUT_PATH, CURR_IM_NAME))\n",
    "        mask_true=io.imread(os.path.join(INPUT_PATH, CURR_IM_NAME.replace(\"img\",\"masks\")))\n",
    "\n",
    "        x = np.expand_dims(im0, axis=-1)\n",
    "        x = np.expand_dims(x, axis=0)\n",
    "        y, tile_info = app._tile_input(x)\n",
    "        AP_arr=[]\n",
    "        for mpp in mpps:\n",
    "            prd = app._untile_output(app.predict(y, image_mpp=mpp), tile_info)[0,:,:,0]\n",
    "            a=syotil.csi(mask_true, prd)\n",
    "            AP_arr.append(a)\n",
    "        AP_mat.append(AP_arr)\n",
    "\n",
    "    print(AP_mat)\n",
    "\n",
    "    import pandas as pd\n",
    "    df = pd.DataFrame([FILENAMES, [x[0] for x in AP_mat], [x[1] for x in AP_mat]])\n",
    "    print(df.transpose())\n",
    "    df.to_csv('images/training/csi_'+model_name+'.txt', index=False, header=False)"
   ]
  }
 ],
 "metadata": {
  "kernelspec": {
   "display_name": "Python 3 (ipykernel)",
   "language": "python",
   "name": "python3"
  },
  "language_info": {
   "codemirror_mode": {
    "name": "ipython",
    "version": 3
   },
   "file_extension": ".py",
   "mimetype": "text/x-python",
   "name": "python",
   "nbconvert_exporter": "python",
   "pygments_lexer": "ipython3",
   "version": "3.9.12"
  }
 },
 "nbformat": 4,
 "nbformat_minor": 5
}
