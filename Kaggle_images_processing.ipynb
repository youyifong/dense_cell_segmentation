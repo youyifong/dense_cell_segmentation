{
 "cells": [
  {
   "cell_type": "markdown",
   "id": "330e05e3",
   "metadata": {},
   "source": [
    "**Processing Kaggle_2018_Data_Science_Bowl_Stage1_original Images**<br>\n",
    "Write the masks as an image file."
   ]
  },
  {
   "cell_type": "code",
   "execution_count": 7,
   "id": "90f2183c",
   "metadata": {},
   "outputs": [],
   "source": [
    "import numpy as np\n",
    "from skimage import io\n",
    "import skimage\n",
    "from matplotlib import pyplot as plt\n",
    "%matplotlib inline\n",
    "from timeit import default_timer\n",
    "import os\n",
    "import shutil\n",
    "import syotil\n",
    "import glob"
   ]
  },
  {
   "cell_type": "code",
   "execution_count": 2,
   "id": "7b2d1ba7",
   "metadata": {},
   "outputs": [],
   "source": [
    "VAL_IMAGE_IDS = [\n",
    "    \"0c2550a23b8a0f29a7575de8c61690d3c31bc897dd5ba66caec201d201a278c2\",\n",
    "    \"92f31f591929a30e4309ab75185c96ff4314ce0a7ead2ed2c2171897ad1da0c7\",\n",
    "    \"1e488c42eb1a54a3e8412b1f12cde530f950f238d71078f2ede6a85a02168e1f\",\n",
    "    \"c901794d1a421d52e5734500c0a2a8ca84651fb93b19cec2f411855e70cae339\",\n",
    "    \"8e507d58f4c27cd2a82bee79fe27b069befd62a46fdaed20970a95a2ba819c7b\",\n",
    "    \"60cb718759bff13f81c4055a7679e81326f78b6a193a2d856546097c949b20ff\",\n",
    "    \"da5f98f2b8a64eee735a398de48ed42cd31bf17a6063db46a9e0783ac13cd844\",\n",
    "    \"9ebcfaf2322932d464f15b5662cae4d669b2d785b8299556d73fffcae8365d32\",\n",
    "    \"1b44d22643830cd4f23c9deadb0bd499fb392fb2cd9526d81547d93077d983df\",\n",
    "    \"97126a9791f0c1176e4563ad679a301dac27c59011f579e808bbd6e9f4cd1034\",\n",
    "    \"e81c758e1ca177b0942ecad62cf8d321ffc315376135bcbed3df932a6e5b40c0\",\n",
    "    \"f29fd9c52e04403cd2c7d43b6fe2479292e53b2f61969d25256d2d2aca7c6a81\",\n",
    "    \"0ea221716cf13710214dcd331a61cea48308c3940df1d28cfc7fd817c83714e1\",\n",
    "    \"3ab9cab6212fabd723a2c5a1949c2ded19980398b56e6080978e796f45cbbc90\",\n",
    "    \"ebc18868864ad075548cc1784f4f9a237bb98335f9645ee727dac8332a3e3716\",\n",
    "    \"bb61fc17daf8bdd4e16fdcf50137a8d7762bec486ede9249d92e511fcb693676\",\n",
    "    \"e1bcb583985325d0ef5f3ef52957d0371c96d4af767b13e48102bca9d5351a9b\",\n",
    "    \"947c0d94c8213ac7aaa41c4efc95d854246550298259cf1bb489654d0e969050\",\n",
    "    \"cbca32daaae36a872a11da4eaff65d1068ff3f154eedc9d3fc0c214a4e5d32bd\",\n",
    "    \"f4c4db3df4ff0de90f44b027fc2e28c16bf7e5c75ea75b0a9762bbb7ac86e7a3\",\n",
    "    \"4193474b2f1c72f735b13633b219d9cabdd43c21d9c2bb4dfc4809f104ba4c06\",\n",
    "    \"f73e37957c74f554be132986f38b6f1d75339f636dfe2b681a0cf3f88d2733af\",\n",
    "    \"a4c44fc5f5bf213e2be6091ccaed49d8bf039d78f6fbd9c4d7b7428cfcb2eda4\",\n",
    "    \"cab4875269f44a701c5e58190a1d2f6fcb577ea79d842522dcab20ccb39b7ad2\",\n",
    "    \"8ecdb93582b2d5270457b36651b62776256ade3aaa2d7432ae65c14f07432d49\",\n",
    "]"
   ]
  },
  {
   "cell_type": "code",
   "execution_count": 5,
   "id": "5878503b",
   "metadata": {},
   "outputs": [
    {
     "name": "stdout",
     "output_type": "stream",
     "text": [
      "670\n",
      "645\n"
     ]
    }
   ],
   "source": [
    "# copy training image files\n",
    "INPUT_PATH=\"/fh/fast/fong_y/Kaggle_2018_Data_Science_Bowl_Stage1_original/\"\n",
    "OUTPUT_PATH=\"/fh/fast/fong_y/Kaggle_2018_Data_Science_Bowl_Stage1/train/\"\n",
    "\n",
    "FILENAMES = os.listdir(INPUT_PATH)\n",
    "print(len(FILENAMES))\n",
    "\n",
    "FILENAMES = list(set(FILENAMES) - set(VAL_IMAGE_IDS))\n",
    "print(len(FILENAMES))\n",
    "\n",
    "for f in FILENAMES:\n",
    "    shutil.copyfile(INPUT_PATH+f+\"/images/\"+f+\".png\", OUTPUT_PATH+f+\"_img.png\")"
   ]
  },
  {
   "cell_type": "code",
   "execution_count": null,
   "id": "5cd7da65",
   "metadata": {},
   "outputs": [],
   "source": [
    "# copy validation image files\n",
    "INPUT_PATH=\"/fh/fast/fong_y/Kaggle_2018_Data_Science_Bowl_Stage1_original/\"\n",
    "OUTPUT_PATH=\"/fh/fast/fong_y/Kaggle_2018_Data_Science_Bowl_Stage1/val/\"\n",
    "\n",
    "for f in VAL_IMAGE_IDS:\n",
    "    shutil.copyfile(INPUT_PATH+f+\"/images/\"+f+\".png\", OUTPUT_PATH+f+\"_img.png\")"
   ]
  },
  {
   "cell_type": "code",
   "execution_count": 51,
   "id": "938b06af",
   "metadata": {},
   "outputs": [
    {
     "name": "stdout",
     "output_type": "stream",
     "text": [
      "[18, 46, 16, 7, 18, 82, 22, 9, 30, 31, 17, 32, 150, 43, 86, 21, 39, 54, 10, 106, 20, 9, 56, 44, 9, 29, 7, 10, 46, 22, 32, 58, 32, 98, 38, 30, 134, 28, 78, 89, 22, 8, 7, 23, 6, 42, 50, 29, 15, 26, 133, 62, 53, 63, 73, 54, 12, 313, 50, 123, 49, 19, 38, 141, 199, 20, 19, 43, 98, 64, 25, 9, 27, 10, 27, 28, 27, 272, 29, 7, 7, 17, 170, 23, 11, 12, 24, 20, 19, 25, 44, 30, 21, 22, 28, 22, 86, 22, 55, 9, 10, 125, 25, 250, 97, 27, 34, 56, 36, 33, 5, 28, 27, 28, 41, 37, 29, 8, 22, 48, 10, 13, 11, 9, 44, 147, 30, 57, 36, 22, 54, 22, 15, 29, 11, 12, 3, 16, 26, 22, 17, 29, 60, 133, 10, 32, 24, 55, 15, 18, 157, 20, 29, 33, 88, 10, 13, 5, 99, 32, 25, 183, 44, 25, 20, 24, 9, 45, 11, 57, 33, 7, 7, 15, 21, 158, 44, 84, 59, 100, 20, 20, 20, 2, 20, 46, 23, 22, 5, 77, 94, 37, 19, 51, 32, 16, 39, 67, 22, 30, 29, 38, 24, 375, 16, 7, 26, 24, 9, 22, 90, 75, 24, 6, 51, 63, 28, 40, 59, 29, 8, 11, 114, 53, 36, 52, 70, 49, 15, 50, 21, 10, 43, 9, 111, 6, 26, 18, 36, 39, 136, 12, 22, 39, 37, 8, 14, 34, 10, 11, 38, 81, 51, 117, 23, 13, 14, 17, 17, 92, 18, 32, 10, 10, 10, 33, 52, 70, 32, 40, 23, 8, 68, 33, 8, 26, 6, 67, 31, 16, 37, 70, 82, 18, 91, 69, 31, 90, 8, 27, 16, 60, 8, 36, 83, 74, 6, 23, 25, 15, 11, 62, 23, 44, 39, 6, 23, 12, 1, 28, 12, 58, 77, 14, 20, 16, 260, 168, 42, 12, 34, 28, 5, 18, 46, 11, 27, 10, 11, 23, 20, 32, 22, 49, 49, 64, 146, 21, 92, 7, 12, 8, 27, 50, 76, 101, 1, 8, 42, 25, 55, 25, 28, 53, 15, 1, 4, 101, 148, 37, 76, 39, 25, 28, 72, 15, 106, 12, 83, 15, 17, 33, 24, 28, 25, 75, 140, 101, 1, 30, 44, 74, 17, 60, 18, 52, 20, 57, 18, 2, 26, 7, 179, 55, 56, 120, 10, 47, 16, 19, 23, 107, 198, 16, 19, 21, 10, 24, 36, 65, 25, 27, 27, 26, 65, 31, 14, 53, 8, 11, 18, 18, 7, 9, 5, 20, 79, 24, 11, 65, 8, 38, 36, 39, 10, 41, 13, 17, 16, 32, 29, 4, 31, 52, 136, 66, 11, 73, 44, 13, 27, 19, 75, 206, 27, 26, 257, 34, 14, 14, 24, 13, 57, 36, 111, 61, 35, 8, 7, 8, 14, 9, 106, 10, 156, 17, 8, 18, 15, 47, 45, 80, 29, 132, 12, 10, 11, 23, 33, 111, 11, 83, 49, 11, 12, 25, 54, 130, 25, 23, 65, 7, 78, 6, 6, 59, 71, 14, 15, 12, 20, 22, 141, 18, 16, 102, 24, 18, 124, 25, 17, 9, 35, 20, 40, 18, 22, 191, 10, 23, 14, 41, 21, 13, 135, 42, 62, 55, 24, 76, 23, 48, 23, 9, 155, 9, 15, 5, 126, 123, 33, 24, 17, 101, 18, 132, 289, 5, 22, 37, 7, 87, 24, 138, 151, 21, 38, 23, 52, 11, 64, 12, 22, 34, 20, 7, 8, 20, 12, 196, 46, 14, 124, 49, 61, 19, 61, 119, 125, 22, 25, 23, 32, 35, 62, 30, 27, 66, 2, 8, 42, 119, 19, 44, 24, 15, 16, 253, 19, 9, 23, 23, 8, 66, 11, 31, 89, 76, 21, 12, 18, 40, 89, 30, 11, 21, 8, 31, 24, 10, 126, 40, 48, 25, 20, 13, 65, 60, 13, 47, 75, 53, 15, 56, 21]\n"
     ]
    }
   ],
   "source": [
    "# make training masks files\n",
    "INPUT_PATH=\"/fh/fast/fong_y/Kaggle_2018_Data_Science_Bowl_Stage1_original/\"\n",
    "OUTPUT_PATH=\"/fh/fast/fong_y/Kaggle_2018_Data_Science_Bowl_Stage1/train/\"\n",
    "\n",
    "FILENAMES = os.listdir(INPUT_PATH)\n",
    "FILENAMES = list(set(FILENAMES) - set(VAL_IMAGE_IDS))\n",
    "\n",
    "n_masks=[]\n",
    "for f in FILENAMES:\n",
    "    maskfiles = glob.glob(INPUT_PATH+f+\"/masks/*.png\")\n",
    "    masks=np.zeros(shape=(io.imread(maskfiles[0])).shape, dtype=np.uint16)\n",
    "    for idx, CURR_IM_NAME in enumerate(maskfiles):\n",
    "        img = io.imread(CURR_IM_NAME)        \n",
    "        masks[img==255]=idx+1 # the masks are indicated as 255\n",
    "    io.imsave(OUTPUT_PATH+f+\"_masks.png\", masks, check_contrast=False) \n",
    "    n_masks.append(len(maskfiles))\n",
    "print(n_masks)        "
   ]
  },
  {
   "cell_type": "code",
   "execution_count": 49,
   "id": "92de1451",
   "metadata": {},
   "outputs": [
    {
     "name": "stdout",
     "output_type": "stream",
     "text": [
      "[73, 10, 10, 14, 6, 27, 140, 58, 96, 20, 47, 199, 369, 23, 19, 37, 6, 64, 112, 68, 12, 37, 37, 14, 6]\n"
     ]
    }
   ],
   "source": [
    "# make validation masks files\n",
    "INPUT_PATH=\"/fh/fast/fong_y/Kaggle_2018_Data_Science_Bowl_Stage1_original/\"\n",
    "OUTPUT_PATH=\"/fh/fast/fong_y/Kaggle_2018_Data_Science_Bowl_Stage1/val/\"\n",
    "\n",
    "n_masks=[]\n",
    "for f in VAL_IMAGE_IDS:\n",
    "    maskfiles = glob.glob(INPUT_PATH+f+\"/masks/*\")\n",
    "    masks=np.zeros(shape=(io.imread(maskfiles[0])).shape, dtype=np.uint16)\n",
    "    for idx, CURR_IM_NAME in enumerate(maskfiles):\n",
    "        img = io.imread(CURR_IM_NAME)        \n",
    "        masks[img==255]=idx+1 # the masks are indicated as 255\n",
    "    io.imsave(OUTPUT_PATH+f+\"_masks.png\", masks, check_contrast=False) \n",
    "    n_masks.append(len(maskfiles))\n",
    "print(n_masks)        "
   ]
  }
 ],
 "metadata": {
  "kernelspec": {
   "display_name": "Python 3 (ipykernel)",
   "language": "python",
   "name": "python3"
  },
  "language_info": {
   "codemirror_mode": {
    "name": "ipython",
    "version": 3
   },
   "file_extension": ".py",
   "mimetype": "text/x-python",
   "name": "python",
   "nbconvert_exporter": "python",
   "pygments_lexer": "ipython3",
   "version": "3.9.6"
  }
 },
 "nbformat": 4,
 "nbformat_minor": 5
}
